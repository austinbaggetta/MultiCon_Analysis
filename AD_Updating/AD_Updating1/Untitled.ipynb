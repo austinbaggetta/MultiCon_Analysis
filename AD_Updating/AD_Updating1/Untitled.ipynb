{
 "cells": [
  {
   "cell_type": "code",
   "execution_count": 7,
   "id": "dd19395a",
   "metadata": {},
   "outputs": [
    {
     "name": "stdout",
     "output_type": "stream",
     "text": [
      "\n",
      "CondaValueError: prefix already exists: /home/kob03/.conda/envs/calcium\n",
      "\n",
      "\n",
      "Note: you may need to restart the kernel to use updated packages.\n"
     ]
    }
   ],
   "source": [
    "conda env create -f environment.yml"
   ]
  },
  {
   "cell_type": "code",
   "execution_count": 16,
   "id": "e2e77f95",
   "metadata": {},
   "outputs": [
    {
     "name": "stdout",
     "output_type": "stream",
     "text": [
      "Installed kernelspec calcium in /home/kob03/.local/share/jupyter/kernels/calcium\r\n"
     ]
    }
   ],
   "source": [
    "!python -m ipykernel install --user --name calcium --display-name \"Calcium Environment\"\n"
   ]
  },
  {
   "cell_type": "code",
   "execution_count": 18,
   "id": "9c7c6dac",
   "metadata": {
    "scrolled": true
   },
   "outputs": [
    {
     "name": "stdout",
     "output_type": "stream",
     "text": [
      "/home/kob03/.local/share/jupyter\r\n"
     ]
    }
   ],
   "source": [
    "!jupyter --data-dir"
   ]
  },
  {
   "cell_type": "code",
   "execution_count": 14,
   "id": "67babb51",
   "metadata": {},
   "outputs": [
    {
     "name": "stdout",
     "output_type": "stream",
     "text": [
      "/bin/bash: activate: No such file or directory\r\n"
     ]
    }
   ],
   "source": [
    "!source activate calcium"
   ]
  },
  {
   "cell_type": "code",
   "execution_count": 13,
   "id": "ce76685e",
   "metadata": {},
   "outputs": [
    {
     "name": "stdout",
     "output_type": "stream",
     "text": [
      "/bin/bash: /home/kob03/.conda/envs/calcium/bin/activate: No such file or directory\r\n"
     ]
    }
   ],
   "source": [
    "!source /home/kob03/.conda/envs/calcium/bin/activate\n"
   ]
  }
 ],
 "metadata": {
  "kernelspec": {
   "display_name": "Python 3 (ipykernel)",
   "language": "python",
   "name": "python3"
  },
  "language_info": {
   "codemirror_mode": {
    "name": "ipython",
    "version": 3
   },
   "file_extension": ".py",
   "mimetype": "text/x-python",
   "name": "python",
   "nbconvert_exporter": "python",
   "pygments_lexer": "ipython3",
   "version": "3.8.10"
  }
 },
 "nbformat": 4,
 "nbformat_minor": 5
}
