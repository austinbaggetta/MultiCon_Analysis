{
 "cells": [
  {
   "cell_type": "code",
   "execution_count": null,
   "metadata": {},
   "outputs": [],
   "source": [
    "%load_ext autoreload\n",
    "%autoreload 2\n",
    "import pandas as pd\n",
    "import numpy as np\n",
    "import plotly.graph_objects as go\n",
    "import os \n",
    "import sys \n",
    "\n",
    "sys.path.append(\"../..\")\n",
    "import circletrack_neural as ctn\n",
    "import plotting_functions as pf\n",
    "import pca_ica as ica"
   ]
  },
  {
   "cell_type": "code",
   "execution_count": null,
   "metadata": {},
   "outputs": [],
   "source": [
    "## Set parameters\n",
    "dpath = os.path.abspath('../../CircleTrack/MultiCon_AfterHours/MultiCon_EEG1/post_data/results/mc_EEG1_01/2022_10_19/minian')\n",
    "sampling_rate = 1/15"
   ]
  },
  {
   "cell_type": "code",
   "execution_count": null,
   "metadata": {},
   "outputs": [],
   "source": [
    "## Load data\n",
    "spikes = ctn.open_minian(dpath)['S']\n",
    "pre_spikes = spikes[:, spikes.recording_type.values == 'pre']\n",
    "session_spikes = spikes[:, spikes.recording_type.values == 'session']\n",
    "post_spikes = spikes[:, spikes.recording_type.values == 'post']"
   ]
  },
  {
   "cell_type": "code",
   "execution_count": null,
   "metadata": {},
   "outputs": [],
   "source": [
    "## Cell 0's pre recording activity\n",
    "cell_num = 0\n",
    "pre_time = np.arange(0, pre_spikes.shape[1] * sampling_rate, sampling_rate)\n",
    "fig = pf.custom_graph_template(title='Pre Activity', x_title='Time (s)', y_title='Amplitude')\n",
    "fig.add_trace(go.Scatter(x=pre_time, y=pre_spikes.values[pre_spikes.unit_id == cell_num][0], line_color='grey'))\n",
    "fig.show()"
   ]
  },
  {
   "cell_type": "code",
   "execution_count": null,
   "metadata": {},
   "outputs": [],
   "source": [
    "## Cell 0's circle track activity\n",
    "session_time = np.arange(0, session_spikes.shape[1] * sampling_rate, sampling_rate)\n",
    "fig = pf.custom_graph_template(title='Session Activity', x_title='Time (s)', y_title='Amplitude')\n",
    "fig.add_trace(go.Scatter(x=session_time, y=session_spikes.values[session_spikes.unit_id == cell_num][0]))\n",
    "fig.show()"
   ]
  },
  {
   "cell_type": "code",
   "execution_count": null,
   "metadata": {},
   "outputs": [],
   "source": [
    "## Cell 0's post recording activity\n",
    "post_time = np.arange(0, post_spikes.shape[1], sampling_rate)\n",
    "fig = pf.custom_graph_template(title='Post Activity', x_title='Time (s)', y_title='Amplitude')\n",
    "fig.add_trace(go.Scatter(x=post_time, y=post_spikes.values[post_spikes.unit_id == cell_num][0]))\n",
    "fig.show()"
   ]
  },
  {
   "cell_type": "code",
   "execution_count": null,
   "metadata": {},
   "outputs": [],
   "source": [
    "## Cell 0's entire activity\n",
    "time = np.arange(0, spikes.shape[1] * sampling_rate, sampling_rate)\n",
    "fig = pf.custom_graph_template(title='All Activity', x_title='Time (s)', y_title='Amplitude')\n",
    "fig.add_trace(go.Scatter(x=time, y=spikes.values[spikes.unit_id == cell_num][0], line_color='darkgrey'))\n",
    "fig.add_vline(x=time[len(pre_time)], line_width=1, line_dash='dash', line_color='turquoise', opacity=1)\n",
    "fig.add_vline(x=time[len(pre_time) + len(session_time)], line_width=1, line_dash='dash', line_color='turquoise', opacity=1)\n",
    "fig.show()"
   ]
  },
  {
   "cell_type": "code",
   "execution_count": null,
   "metadata": {},
   "outputs": [],
   "source": [
    "bins = ica.make_bins(pre_spikes.values, 2 * 15)\n",
    "binned = np.split(pre_spikes.values, bins, axis=1)\n",
    "len(binned)"
   ]
  },
  {
   "cell_type": "code",
   "execution_count": null,
   "metadata": {},
   "outputs": [],
   "source": [
    "num_spikes = [np.count_nonzero(bin, axis=1) for bin in binned]\n",
    "num_spikes[26] / 2"
   ]
  },
  {
   "cell_type": "code",
   "execution_count": null,
   "metadata": {},
   "outputs": [],
   "source": [
    "np.vstack(num_spikes).T.shape"
   ]
  },
  {
   "cell_type": "code",
   "execution_count": null,
   "metadata": {},
   "outputs": [],
   "source": [
    "test = ica.bin_transients(pre_spikes.values, bin_size_in_seconds=1, fps=15, analysis_type='num_spikes')\n",
    "test"
   ]
  },
  {
   "cell_type": "code",
   "execution_count": null,
   "metadata": {},
   "outputs": [],
   "source": [
    "test.values"
   ]
  },
  {
   "cell_type": "code",
   "execution_count": null,
   "metadata": {},
   "outputs": [],
   "source": [
    "## Calcium event rate calculations\n",
    "def calculate_event_rates(data, bin_size_sec, fps=15, zscore=False):\n",
    "    if zscore:\n",
    "        activity = zscore(data, axis=1) ## z-score each cell\n",
    "    \n",
    "    \n",
    "    "
   ]
  }
 ],
 "metadata": {
  "kernelspec": {
   "display_name": "calcium",
   "language": "python",
   "name": "python3"
  },
  "language_info": {
   "codemirror_mode": {
    "name": "ipython",
    "version": 3
   },
   "file_extension": ".py",
   "mimetype": "text/x-python",
   "name": "python",
   "nbconvert_exporter": "python",
   "pygments_lexer": "ipython3",
   "version": "3.10.6"
  },
  "orig_nbformat": 4
 },
 "nbformat": 4,
 "nbformat_minor": 2
}
