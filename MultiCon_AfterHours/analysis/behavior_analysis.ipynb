{
 "cells": [
  {
   "cell_type": "code",
   "execution_count": 115,
   "metadata": {},
   "outputs": [
    {
     "name": "stdout",
     "output_type": "stream",
     "text": [
      "The autoreload extension is already loaded. To reload it, use:\n",
      "  %reload_ext autoreload\n"
     ]
    }
   ],
   "source": [
    "%load_ext autoreload\n",
    "%autoreload 2\n",
    "import os\n",
    "import sys\n",
    "import numpy as np\n",
    "import pandas as pd\n",
    "from os.path import join as pjoin\n",
    "import plotly.graph_objects as go\n",
    "from plotly.subplots import make_subplots\n",
    "import pingouin as pg\n",
    "\n",
    "sys.path.append(\"../..\")\n",
    "import circletrack_behavior as ctb\n",
    "import circletrack_neural as ctn\n",
    "import plotting_functions as pf"
   ]
  },
  {
   "cell_type": "code",
   "execution_count": 27,
   "metadata": {},
   "outputs": [],
   "source": [
    "## Set parameters\n",
    "behavior_path = '../../../MultiCon_AfterHours/'\n",
    "fig_path = '../../../MultiCon_AfterHours/MultiCon_EEG1/intermediate_figures/'\n",
    "num_experiments = 2 + 1 ## change first value since np.arange is not inclusive\n",
    "experiment_list = ['MultiCon_EEG{}'.format(x) for x in np.arange(1, num_experiments)]\n",
    "session_dict = {'mc_EEG1_01': ['A1', 'A2', 'A3', 'A4', 'A5', 'B1', 'B2', 'B3', 'B4', 'B5',\n",
    "                               'C1', 'C2', 'C3', 'C4', 'C5', 'D1', 'D2', 'D3', 'D4', 'D5'],\n",
    "                'mc_EEG1_02': ['A1', 'A2', 'A3', 'A4', 'A5', 'B1', 'B2', 'B3', 'B4', 'B5',\n",
    "                               'C1', 'C2', 'C3', 'C4', 'C5', 'A2_1', 'A2_2', 'A2_3', 'A2_4', 'A2_5'],\n",
    "                'mc_EEG2_02': ['A1', 'A2', 'A3', 'A4', 'A5', 'B1', 'B2', 'B3', 'B4', 'B5',\n",
    "                               'C1', 'C2', 'C3', 'C4', 'C5', 'A2_1', 'A2_2', 'A2_3', 'A2_4', 'A2_5']}"
   ]
  },
  {
   "cell_type": "code",
   "execution_count": 141,
   "metadata": {},
   "outputs": [
    {
     "name": "stderr",
     "output_type": "stream",
     "text": [
      "/media/caishuman/csstorage3/Austin/CircleTrack/CircleTrackAnalysis/MultiCon_AfterHours/analysis/../../circletrack_behavior.py:1010: RuntimeWarning:\n",
      "\n",
      "invalid value encountered in long_scalars\n",
      "\n",
      "/media/caishuman/csstorage3/Austin/CircleTrack/CircleTrackAnalysis/MultiCon_AfterHours/analysis/../../circletrack_behavior.py:1010: RuntimeWarning:\n",
      "\n",
      "invalid value encountered in long_scalars\n",
      "\n",
      "/media/caishuman/csstorage3/Austin/CircleTrack/CircleTrackAnalysis/MultiCon_AfterHours/analysis/../../circletrack_behavior.py:1010: RuntimeWarning:\n",
      "\n",
      "invalid value encountered in long_scalars\n",
      "\n",
      "/media/caishuman/csstorage3/Austin/CircleTrack/CircleTrackAnalysis/MultiCon_AfterHours/analysis/../../circletrack_behavior.py:1010: RuntimeWarning:\n",
      "\n",
      "invalid value encountered in long_scalars\n",
      "\n",
      "/media/caishuman/csstorage3/Austin/CircleTrack/CircleTrackAnalysis/MultiCon_AfterHours/analysis/../../circletrack_behavior.py:1010: RuntimeWarning:\n",
      "\n",
      "invalid value encountered in long_scalars\n",
      "\n",
      "/media/caishuman/csstorage3/Austin/CircleTrack/CircleTrackAnalysis/MultiCon_AfterHours/analysis/../../circletrack_behavior.py:1010: RuntimeWarning:\n",
      "\n",
      "invalid value encountered in long_scalars\n",
      "\n",
      "/media/caishuman/csstorage3/Austin/CircleTrack/CircleTrackAnalysis/MultiCon_AfterHours/analysis/../../circletrack_behavior.py:1010: RuntimeWarning:\n",
      "\n",
      "invalid value encountered in long_scalars\n",
      "\n",
      "/media/caishuman/csstorage3/Austin/CircleTrack/CircleTrackAnalysis/MultiCon_AfterHours/analysis/../../circletrack_behavior.py:1010: RuntimeWarning:\n",
      "\n",
      "invalid value encountered in long_scalars\n",
      "\n",
      "/media/caishuman/csstorage3/Austin/CircleTrack/CircleTrackAnalysis/MultiCon_AfterHours/analysis/../../circletrack_behavior.py:1010: RuntimeWarning:\n",
      "\n",
      "invalid value encountered in long_scalars\n",
      "\n",
      "/media/caishuman/csstorage3/Austin/CircleTrack/CircleTrackAnalysis/MultiCon_AfterHours/analysis/../../circletrack_behavior.py:1010: RuntimeWarning:\n",
      "\n",
      "invalid value encountered in long_scalars\n",
      "\n",
      "/media/caishuman/csstorage3/Austin/CircleTrack/CircleTrackAnalysis/MultiCon_AfterHours/analysis/../../circletrack_behavior.py:1010: RuntimeWarning:\n",
      "\n",
      "invalid value encountered in long_scalars\n",
      "\n",
      "/media/caishuman/csstorage3/Austin/CircleTrack/CircleTrackAnalysis/MultiCon_AfterHours/analysis/../../circletrack_behavior.py:1010: RuntimeWarning:\n",
      "\n",
      "invalid value encountered in long_scalars\n",
      "\n",
      "/media/caishuman/csstorage3/Austin/CircleTrack/CircleTrackAnalysis/MultiCon_AfterHours/analysis/../../circletrack_behavior.py:1010: RuntimeWarning:\n",
      "\n",
      "invalid value encountered in long_scalars\n",
      "\n",
      "/media/caishuman/csstorage3/Austin/CircleTrack/CircleTrackAnalysis/MultiCon_AfterHours/analysis/../../circletrack_behavior.py:1010: RuntimeWarning:\n",
      "\n",
      "invalid value encountered in long_scalars\n",
      "\n",
      "/media/caishuman/csstorage3/Austin/CircleTrack/CircleTrackAnalysis/MultiCon_AfterHours/analysis/../../circletrack_behavior.py:1010: RuntimeWarning:\n",
      "\n",
      "invalid value encountered in long_scalars\n",
      "\n",
      "/media/caishuman/csstorage3/Austin/CircleTrack/CircleTrackAnalysis/MultiCon_AfterHours/analysis/../../circletrack_behavior.py:1010: RuntimeWarning:\n",
      "\n",
      "invalid value encountered in long_scalars\n",
      "\n",
      "/media/caishuman/csstorage3/Austin/CircleTrack/CircleTrackAnalysis/MultiCon_AfterHours/analysis/../../circletrack_behavior.py:1010: RuntimeWarning:\n",
      "\n",
      "invalid value encountered in long_scalars\n",
      "\n",
      "/media/caishuman/csstorage3/Austin/CircleTrack/CircleTrackAnalysis/MultiCon_AfterHours/analysis/../../circletrack_behavior.py:1010: RuntimeWarning:\n",
      "\n",
      "invalid value encountered in long_scalars\n",
      "\n",
      "/media/caishuman/csstorage3/Austin/CircleTrack/CircleTrackAnalysis/MultiCon_AfterHours/analysis/../../circletrack_behavior.py:1010: RuntimeWarning:\n",
      "\n",
      "invalid value encountered in long_scalars\n",
      "\n",
      "/media/caishuman/csstorage3/Austin/CircleTrack/CircleTrackAnalysis/MultiCon_AfterHours/analysis/../../circletrack_behavior.py:1010: RuntimeWarning:\n",
      "\n",
      "invalid value encountered in long_scalars\n",
      "\n",
      "/media/caishuman/csstorage3/Austin/CircleTrack/CircleTrackAnalysis/MultiCon_AfterHours/analysis/../../circletrack_behavior.py:1010: RuntimeWarning:\n",
      "\n",
      "invalid value encountered in long_scalars\n",
      "\n",
      "/media/caishuman/csstorage3/Austin/CircleTrack/CircleTrackAnalysis/MultiCon_AfterHours/analysis/../../circletrack_behavior.py:1010: RuntimeWarning:\n",
      "\n",
      "invalid value encountered in long_scalars\n",
      "\n",
      "/media/caishuman/csstorage3/Austin/CircleTrack/CircleTrackAnalysis/MultiCon_AfterHours/analysis/../../circletrack_behavior.py:1010: RuntimeWarning:\n",
      "\n",
      "invalid value encountered in long_scalars\n",
      "\n",
      "/media/caishuman/csstorage3/Austin/CircleTrack/CircleTrackAnalysis/MultiCon_AfterHours/analysis/../../circletrack_behavior.py:1010: RuntimeWarning:\n",
      "\n",
      "invalid value encountered in long_scalars\n",
      "\n",
      "/media/caishuman/csstorage3/Austin/CircleTrack/CircleTrackAnalysis/MultiCon_AfterHours/analysis/../../circletrack_behavior.py:1010: RuntimeWarning:\n",
      "\n",
      "invalid value encountered in long_scalars\n",
      "\n",
      "/media/caishuman/csstorage3/Austin/CircleTrack/CircleTrackAnalysis/MultiCon_AfterHours/analysis/../../circletrack_behavior.py:1010: RuntimeWarning:\n",
      "\n",
      "invalid value encountered in long_scalars\n",
      "\n",
      "/media/caishuman/csstorage3/Austin/CircleTrack/CircleTrackAnalysis/MultiCon_AfterHours/analysis/../../circletrack_behavior.py:1010: RuntimeWarning:\n",
      "\n",
      "invalid value encountered in long_scalars\n",
      "\n",
      "/media/caishuman/csstorage3/Austin/CircleTrack/CircleTrackAnalysis/MultiCon_AfterHours/analysis/../../circletrack_behavior.py:1010: RuntimeWarning:\n",
      "\n",
      "invalid value encountered in long_scalars\n",
      "\n",
      "/media/caishuman/csstorage3/Austin/CircleTrack/CircleTrackAnalysis/MultiCon_AfterHours/analysis/../../circletrack_behavior.py:1010: RuntimeWarning:\n",
      "\n",
      "invalid value encountered in long_scalars\n",
      "\n",
      "/media/caishuman/csstorage3/Austin/CircleTrack/CircleTrackAnalysis/MultiCon_AfterHours/analysis/../../circletrack_behavior.py:1010: RuntimeWarning:\n",
      "\n",
      "invalid value encountered in long_scalars\n",
      "\n",
      "/media/caishuman/csstorage3/Austin/CircleTrack/CircleTrackAnalysis/MultiCon_AfterHours/analysis/../../circletrack_behavior.py:1010: RuntimeWarning:\n",
      "\n",
      "invalid value encountered in long_scalars\n",
      "\n",
      "/media/caishuman/csstorage3/Austin/CircleTrack/CircleTrackAnalysis/MultiCon_AfterHours/analysis/../../circletrack_behavior.py:1010: RuntimeWarning:\n",
      "\n",
      "invalid value encountered in long_scalars\n",
      "\n",
      "/media/caishuman/csstorage3/Austin/CircleTrack/CircleTrackAnalysis/MultiCon_AfterHours/analysis/../../circletrack_behavior.py:1010: RuntimeWarning:\n",
      "\n",
      "invalid value encountered in long_scalars\n",
      "\n",
      "/media/caishuman/csstorage3/Austin/CircleTrack/CircleTrackAnalysis/MultiCon_AfterHours/analysis/../../circletrack_behavior.py:1010: RuntimeWarning:\n",
      "\n",
      "invalid value encountered in long_scalars\n",
      "\n",
      "/media/caishuman/csstorage3/Austin/CircleTrack/CircleTrackAnalysis/MultiCon_AfterHours/analysis/../../circletrack_behavior.py:1010: RuntimeWarning:\n",
      "\n",
      "invalid value encountered in long_scalars\n",
      "\n",
      "/media/caishuman/csstorage3/Austin/CircleTrack/CircleTrackAnalysis/MultiCon_AfterHours/analysis/../../circletrack_behavior.py:1010: RuntimeWarning:\n",
      "\n",
      "invalid value encountered in long_scalars\n",
      "\n",
      "/media/caishuman/csstorage3/Austin/CircleTrack/CircleTrackAnalysis/MultiCon_AfterHours/analysis/../../circletrack_behavior.py:1010: RuntimeWarning:\n",
      "\n",
      "invalid value encountered in long_scalars\n",
      "\n",
      "/media/caishuman/csstorage3/Austin/CircleTrack/CircleTrackAnalysis/MultiCon_AfterHours/analysis/../../circletrack_behavior.py:1010: RuntimeWarning:\n",
      "\n",
      "invalid value encountered in long_scalars\n",
      "\n",
      "/media/caishuman/csstorage3/Austin/CircleTrack/CircleTrackAnalysis/MultiCon_AfterHours/analysis/../../circletrack_behavior.py:1010: RuntimeWarning:\n",
      "\n",
      "invalid value encountered in long_scalars\n",
      "\n",
      "/media/caishuman/csstorage3/Austin/CircleTrack/CircleTrackAnalysis/MultiCon_AfterHours/analysis/../../circletrack_behavior.py:1010: RuntimeWarning:\n",
      "\n",
      "invalid value encountered in long_scalars\n",
      "\n",
      "/media/caishuman/csstorage3/Austin/CircleTrack/CircleTrackAnalysis/MultiCon_AfterHours/analysis/../../circletrack_behavior.py:1010: RuntimeWarning:\n",
      "\n",
      "invalid value encountered in long_scalars\n",
      "\n",
      "/media/caishuman/csstorage3/Austin/CircleTrack/CircleTrackAnalysis/MultiCon_AfterHours/analysis/../../circletrack_behavior.py:1010: RuntimeWarning:\n",
      "\n",
      "invalid value encountered in long_scalars\n",
      "\n",
      "/media/caishuman/csstorage3/Austin/CircleTrack/CircleTrackAnalysis/MultiCon_AfterHours/analysis/../../circletrack_behavior.py:1010: RuntimeWarning:\n",
      "\n",
      "invalid value encountered in long_scalars\n",
      "\n",
      "/media/caishuman/csstorage3/Austin/CircleTrack/CircleTrackAnalysis/MultiCon_AfterHours/analysis/../../circletrack_behavior.py:1010: RuntimeWarning:\n",
      "\n",
      "invalid value encountered in long_scalars\n",
      "\n",
      "/media/caishuman/csstorage3/Austin/CircleTrack/CircleTrackAnalysis/MultiCon_AfterHours/analysis/../../circletrack_behavior.py:1010: RuntimeWarning:\n",
      "\n",
      "invalid value encountered in long_scalars\n",
      "\n",
      "/media/caishuman/csstorage3/Austin/CircleTrack/CircleTrackAnalysis/MultiCon_AfterHours/analysis/../../circletrack_behavior.py:1010: RuntimeWarning:\n",
      "\n",
      "invalid value encountered in long_scalars\n",
      "\n",
      "/media/caishuman/csstorage3/Austin/CircleTrack/CircleTrackAnalysis/MultiCon_AfterHours/analysis/../../circletrack_behavior.py:1010: RuntimeWarning:\n",
      "\n",
      "invalid value encountered in long_scalars\n",
      "\n",
      "/media/caishuman/csstorage3/Austin/CircleTrack/CircleTrackAnalysis/MultiCon_AfterHours/analysis/../../circletrack_behavior.py:1010: RuntimeWarning:\n",
      "\n",
      "invalid value encountered in long_scalars\n",
      "\n",
      "/media/caishuman/csstorage3/Austin/CircleTrack/CircleTrackAnalysis/MultiCon_AfterHours/analysis/../../circletrack_behavior.py:1010: RuntimeWarning:\n",
      "\n",
      "invalid value encountered in long_scalars\n",
      "\n",
      "/media/caishuman/csstorage3/Austin/CircleTrack/CircleTrackAnalysis/MultiCon_AfterHours/analysis/../../circletrack_behavior.py:1010: RuntimeWarning:\n",
      "\n",
      "invalid value encountered in long_scalars\n",
      "\n",
      "/media/caishuman/csstorage3/Austin/CircleTrack/CircleTrackAnalysis/MultiCon_AfterHours/analysis/../../circletrack_behavior.py:1010: RuntimeWarning:\n",
      "\n",
      "invalid value encountered in long_scalars\n",
      "\n"
     ]
    }
   ],
   "source": [
    "## Calculate lick accuracy, dprime metrics during non-probe\n",
    "experiment_pc = {}\n",
    "experiment_pc_trial = {}\n",
    "experiment_sdt = {}\n",
    "for experiment in experiment_list:\n",
    "    bpath = pjoin(behavior_path, experiment)\n",
    "    bpath = pjoin(bpath, 'output/behav')\n",
    "    mouse_pc = {}\n",
    "    mouse_pc_trial = {}\n",
    "    mouse_sdt = {}\n",
    "    for mouse in os.listdir(bpath):\n",
    "        path = pjoin(bpath, mouse)\n",
    "        percent_correct = {}\n",
    "        percent_correct_trials = {}\n",
    "        sdt_metrics = {}\n",
    "        for session in np.arange(0, len(session_dict[mouse])):\n",
    "            behav = pd.read_feather(pjoin(path, '{}_{}.feat'.format(mouse, session_dict[mouse][session])))\n",
    "            behav_nonprobe = behav.loc[~behav['probe']]\n",
    "            reward_one, reward_two = np.unique(behav['reward_one'])[0], np.unique(behav['reward_two'])[0]\n",
    "            forward_trials, reverse_trials = ctb.get_forward_reverse_trials(behav)\n",
    "            forward_df = behav.loc[(behav['trials'].isin(forward_trials))]\n",
    "            forward_df = forward_df.loc[~forward_df['probe']]\n",
    "            ## Percent correct licking\n",
    "            pc = ctb.lick_accuracy(behav_nonprobe, port_one=reward_one, port_two=reward_two, by_trials=False)\n",
    "            pc_trials = ctb.lick_accuracy(forward_df, port_one=reward_one, port_two=reward_two, by_trials=True)\n",
    "            percent_correct[session] = pc\n",
    "            percent_correct_trials[session] = pc_trials\n",
    "            ## dprime, correct rejection, hit rate\n",
    "            metrics = ctb.dprime_metrics(forward_df, reward_one, reward_two, reward_index='one', forward_reverse='forward')\n",
    "            sdt_metrics[session] = metrics\n",
    "        mouse_pc[mouse] = percent_correct\n",
    "        mouse_pc_trial[mouse] = percent_correct_trials\n",
    "        mouse_sdt[mouse] = sdt_metrics\n",
    "    experiment_pc[experiment] = mouse_pc\n",
    "    experiment_pc_trial[experiment] = mouse_pc_trial\n",
    "    experiment_sdt[experiment] = mouse_sdt"
   ]
  },
  {
   "cell_type": "code",
   "execution_count": 152,
   "metadata": {},
   "outputs": [
    {
     "data": {
      "application/vnd.plotly.v1+json": {
       "config": {
        "plotlyServerURL": "https://plot.ly"
       },
       "data": [
        {
         "marker": {
          "color": "rgb(179,179,179)",
          "line": {
           "width": 1
          }
         },
         "mode": "markers",
         "name": "mc_EEG1_01",
         "opacity": 0.5,
         "type": "scatter",
         "x": [
          1,
          2,
          3,
          4,
          5,
          6,
          7,
          8,
          9,
          10,
          11,
          12,
          13,
          14,
          15,
          16,
          17,
          18,
          19,
          20
         ],
         "y": [
          40,
          39.285714285714285,
          43.47826086956522,
          40,
          50.53763440860215,
          25,
          35.45454545454545,
          56.557377049180324,
          35.95505617977528,
          82.6530612244898,
          53.84615384615385,
          30.88235294117647,
          27.160493827160494,
          74,
          71.73913043478261,
          66.10169491525424,
          77.19298245614034,
          80,
          48.739495798319325,
          46.08695652173913
         ]
        },
        {
         "marker": {
          "color": "rgb(179,179,179)",
          "line": {
           "width": 1
          }
         },
         "mode": "markers",
         "name": "mc_EEG1_02",
         "opacity": 0.5,
         "type": "scatter",
         "x": [
          1,
          2,
          3,
          4,
          5,
          6,
          7,
          8,
          9,
          10,
          11,
          12,
          13,
          14,
          15,
          16,
          17,
          18,
          19,
          20
         ],
         "y": [
          30,
          40.86021505376344,
          67.3913043478261,
          83.69565217391305,
          76.99115044247787,
          17.543859649122805,
          43.42105263157895,
          60,
          60.273972602739725,
          82.71604938271605,
          45.38461538461539,
          77.47747747747748,
          88.88888888888889,
          82.2429906542056,
          74.10714285714286,
          76.85950413223141,
          86.56716417910447,
          96.7479674796748,
          96.7741935483871,
          94.32624113475178
         ]
        },
        {
         "marker": {
          "color": "rgb(179,179,179)",
          "line": {
           "width": 1
          }
         },
         "mode": "markers",
         "name": "mc_EEG2_02",
         "opacity": 0.5,
         "type": "scatter",
         "x": [
          1,
          2,
          3,
          4,
          5,
          6,
          7,
          8,
          9,
          10,
          11,
          12,
          13,
          14,
          15,
          16,
          17,
          18,
          19,
          20
         ],
         "y": [
          29.951690821256037,
          51.33333333333333,
          50.467289719626166,
          73.46938775510205,
          81.98198198198197,
          26.31578947368421,
          57.936507936507944,
          59.55056179775281,
          56.2962962962963,
          84.54545454545455,
          44.23963133640553,
          93.45794392523365,
          83,
          76.69172932330827,
          88.80597014925374,
          67.66917293233082,
          92.1875,
          92.06349206349206,
          91.26984126984127,
          94.1747572815534
         ]
        },
        {
         "error_y": {
          "array": [
           3.3414139649121686,
           3.780875735439265,
           7.098914016303654,
           13.1952988673332,
           9.756604328253609,
           2.7312195456534223,
           6.5811275475639315,
           1.0804526422403933,
           7.5314070334534415,
           0.6205661948200986,
           3.0294287721271314,
           18.770818850079916,
           19.668254482327995,
           2.4268040716500945,
           5.338227048766107,
           3.355340966667615,
           4.37352523770973,
           4.988690350243355,
           15.17757916554274,
           16.05457378452323
          ],
          "type": "data"
         },
         "line": {
          "color": "turquoise"
         },
         "mode": "lines+markers",
         "type": "scatter",
         "x": [
          1,
          2,
          3,
          4,
          5,
          6,
          7,
          8,
          9,
          10,
          11,
          12,
          13,
          14,
          15,
          16,
          17,
          18,
          19,
          20
         ],
         "y": [
          33.31723027375201,
          43.826420890937015,
          53.77895164567249,
          65.72167997633836,
          69.83692227768734,
          22.953216374269005,
          45.60403534087745,
          58.70264628231104,
          50.84177502627043,
          83.3048550508868,
          47.82346685572492,
          67.27259144796254,
          66.34979423868312,
          77.64490665917128,
          78.21741448039307,
          70.21012399327215,
          85.31588221174827,
          89.60381984772228,
          78.92784353884923,
          78.1959849793481
         ]
        }
       ],
       "layout": {
        "annotations": [
         {
          "font": {
           "size": 16
          },
          "showarrow": false,
          "text": "Lick Accuracy",
          "x": 0.5,
          "xanchor": "center",
          "xref": "paper",
          "y": 1,
          "yanchor": "bottom",
          "yref": "paper"
         }
        ],
        "height": 500,
        "shapes": [
         {
          "line": {
           "color": "darkgrey",
           "dash": "dash",
           "width": 1
          },
          "opacity": 1,
          "type": "line",
          "x0": 0,
          "x1": 1,
          "xref": "x domain",
          "y0": 25,
          "y1": 25,
          "yref": "y"
         },
         {
          "line": {
           "color": "darkgrey",
           "dash": "dash",
           "width": 1
          },
          "opacity": 1,
          "type": "line",
          "x0": 5.5,
          "x1": 5.5,
          "xref": "x",
          "y0": 0,
          "y1": 1,
          "yref": "y domain"
         },
         {
          "line": {
           "color": "darkgrey",
           "dash": "dash",
           "width": 1
          },
          "opacity": 1,
          "type": "line",
          "x0": 10.5,
          "x1": 10.5,
          "xref": "x",
          "y0": 0,
          "y1": 1,
          "yref": "y domain"
         },
         {
          "line": {
           "color": "darkgrey",
           "dash": "dash",
           "width": 1
          },
          "opacity": 1,
          "type": "line",
          "x0": 15.5,
          "x1": 15.5,
          "xref": "x",
          "y0": 0,
          "y1": 1,
          "yref": "y domain"
         }
        ],
        "showlegend": false,
        "template": {
         "data": {
          "bar": [
           {
            "error_x": {
             "color": "rgb(36,36,36)"
            },
            "error_y": {
             "color": "rgb(36,36,36)"
            },
            "marker": {
             "line": {
              "color": "white",
              "width": 0.5
             },
             "pattern": {
              "fillmode": "overlay",
              "size": 10,
              "solidity": 0.2
             }
            },
            "type": "bar"
           }
          ],
          "barpolar": [
           {
            "marker": {
             "line": {
              "color": "white",
              "width": 0.5
             },
             "pattern": {
              "fillmode": "overlay",
              "size": 10,
              "solidity": 0.2
             }
            },
            "type": "barpolar"
           }
          ],
          "carpet": [
           {
            "aaxis": {
             "endlinecolor": "rgb(36,36,36)",
             "gridcolor": "white",
             "linecolor": "white",
             "minorgridcolor": "white",
             "startlinecolor": "rgb(36,36,36)"
            },
            "baxis": {
             "endlinecolor": "rgb(36,36,36)",
             "gridcolor": "white",
             "linecolor": "white",
             "minorgridcolor": "white",
             "startlinecolor": "rgb(36,36,36)"
            },
            "type": "carpet"
           }
          ],
          "choropleth": [
           {
            "colorbar": {
             "outlinewidth": 1,
             "tickcolor": "rgb(36,36,36)",
             "ticks": "outside"
            },
            "type": "choropleth"
           }
          ],
          "contour": [
           {
            "colorbar": {
             "outlinewidth": 1,
             "tickcolor": "rgb(36,36,36)",
             "ticks": "outside"
            },
            "colorscale": [
             [
              0,
              "#440154"
             ],
             [
              0.1111111111111111,
              "#482878"
             ],
             [
              0.2222222222222222,
              "#3e4989"
             ],
             [
              0.3333333333333333,
              "#31688e"
             ],
             [
              0.4444444444444444,
              "#26828e"
             ],
             [
              0.5555555555555556,
              "#1f9e89"
             ],
             [
              0.6666666666666666,
              "#35b779"
             ],
             [
              0.7777777777777778,
              "#6ece58"
             ],
             [
              0.8888888888888888,
              "#b5de2b"
             ],
             [
              1,
              "#fde725"
             ]
            ],
            "type": "contour"
           }
          ],
          "contourcarpet": [
           {
            "colorbar": {
             "outlinewidth": 1,
             "tickcolor": "rgb(36,36,36)",
             "ticks": "outside"
            },
            "type": "contourcarpet"
           }
          ],
          "heatmap": [
           {
            "colorbar": {
             "outlinewidth": 1,
             "tickcolor": "rgb(36,36,36)",
             "ticks": "outside"
            },
            "colorscale": [
             [
              0,
              "#440154"
             ],
             [
              0.1111111111111111,
              "#482878"
             ],
             [
              0.2222222222222222,
              "#3e4989"
             ],
             [
              0.3333333333333333,
              "#31688e"
             ],
             [
              0.4444444444444444,
              "#26828e"
             ],
             [
              0.5555555555555556,
              "#1f9e89"
             ],
             [
              0.6666666666666666,
              "#35b779"
             ],
             [
              0.7777777777777778,
              "#6ece58"
             ],
             [
              0.8888888888888888,
              "#b5de2b"
             ],
             [
              1,
              "#fde725"
             ]
            ],
            "type": "heatmap"
           }
          ],
          "heatmapgl": [
           {
            "colorbar": {
             "outlinewidth": 1,
             "tickcolor": "rgb(36,36,36)",
             "ticks": "outside"
            },
            "colorscale": [
             [
              0,
              "#440154"
             ],
             [
              0.1111111111111111,
              "#482878"
             ],
             [
              0.2222222222222222,
              "#3e4989"
             ],
             [
              0.3333333333333333,
              "#31688e"
             ],
             [
              0.4444444444444444,
              "#26828e"
             ],
             [
              0.5555555555555556,
              "#1f9e89"
             ],
             [
              0.6666666666666666,
              "#35b779"
             ],
             [
              0.7777777777777778,
              "#6ece58"
             ],
             [
              0.8888888888888888,
              "#b5de2b"
             ],
             [
              1,
              "#fde725"
             ]
            ],
            "type": "heatmapgl"
           }
          ],
          "histogram": [
           {
            "marker": {
             "line": {
              "color": "white",
              "width": 0.6
             }
            },
            "type": "histogram"
           }
          ],
          "histogram2d": [
           {
            "colorbar": {
             "outlinewidth": 1,
             "tickcolor": "rgb(36,36,36)",
             "ticks": "outside"
            },
            "colorscale": [
             [
              0,
              "#440154"
             ],
             [
              0.1111111111111111,
              "#482878"
             ],
             [
              0.2222222222222222,
              "#3e4989"
             ],
             [
              0.3333333333333333,
              "#31688e"
             ],
             [
              0.4444444444444444,
              "#26828e"
             ],
             [
              0.5555555555555556,
              "#1f9e89"
             ],
             [
              0.6666666666666666,
              "#35b779"
             ],
             [
              0.7777777777777778,
              "#6ece58"
             ],
             [
              0.8888888888888888,
              "#b5de2b"
             ],
             [
              1,
              "#fde725"
             ]
            ],
            "type": "histogram2d"
           }
          ],
          "histogram2dcontour": [
           {
            "colorbar": {
             "outlinewidth": 1,
             "tickcolor": "rgb(36,36,36)",
             "ticks": "outside"
            },
            "colorscale": [
             [
              0,
              "#440154"
             ],
             [
              0.1111111111111111,
              "#482878"
             ],
             [
              0.2222222222222222,
              "#3e4989"
             ],
             [
              0.3333333333333333,
              "#31688e"
             ],
             [
              0.4444444444444444,
              "#26828e"
             ],
             [
              0.5555555555555556,
              "#1f9e89"
             ],
             [
              0.6666666666666666,
              "#35b779"
             ],
             [
              0.7777777777777778,
              "#6ece58"
             ],
             [
              0.8888888888888888,
              "#b5de2b"
             ],
             [
              1,
              "#fde725"
             ]
            ],
            "type": "histogram2dcontour"
           }
          ],
          "mesh3d": [
           {
            "colorbar": {
             "outlinewidth": 1,
             "tickcolor": "rgb(36,36,36)",
             "ticks": "outside"
            },
            "type": "mesh3d"
           }
          ],
          "parcoords": [
           {
            "line": {
             "colorbar": {
              "outlinewidth": 1,
              "tickcolor": "rgb(36,36,36)",
              "ticks": "outside"
             }
            },
            "type": "parcoords"
           }
          ],
          "pie": [
           {
            "automargin": true,
            "type": "pie"
           }
          ],
          "scatter": [
           {
            "fillpattern": {
             "fillmode": "overlay",
             "size": 10,
             "solidity": 0.2
            },
            "type": "scatter"
           }
          ],
          "scatter3d": [
           {
            "line": {
             "colorbar": {
              "outlinewidth": 1,
              "tickcolor": "rgb(36,36,36)",
              "ticks": "outside"
             }
            },
            "marker": {
             "colorbar": {
              "outlinewidth": 1,
              "tickcolor": "rgb(36,36,36)",
              "ticks": "outside"
             }
            },
            "type": "scatter3d"
           }
          ],
          "scattercarpet": [
           {
            "marker": {
             "colorbar": {
              "outlinewidth": 1,
              "tickcolor": "rgb(36,36,36)",
              "ticks": "outside"
             }
            },
            "type": "scattercarpet"
           }
          ],
          "scattergeo": [
           {
            "marker": {
             "colorbar": {
              "outlinewidth": 1,
              "tickcolor": "rgb(36,36,36)",
              "ticks": "outside"
             }
            },
            "type": "scattergeo"
           }
          ],
          "scattergl": [
           {
            "marker": {
             "colorbar": {
              "outlinewidth": 1,
              "tickcolor": "rgb(36,36,36)",
              "ticks": "outside"
             }
            },
            "type": "scattergl"
           }
          ],
          "scattermapbox": [
           {
            "marker": {
             "colorbar": {
              "outlinewidth": 1,
              "tickcolor": "rgb(36,36,36)",
              "ticks": "outside"
             }
            },
            "type": "scattermapbox"
           }
          ],
          "scatterpolar": [
           {
            "marker": {
             "colorbar": {
              "outlinewidth": 1,
              "tickcolor": "rgb(36,36,36)",
              "ticks": "outside"
             }
            },
            "type": "scatterpolar"
           }
          ],
          "scatterpolargl": [
           {
            "marker": {
             "colorbar": {
              "outlinewidth": 1,
              "tickcolor": "rgb(36,36,36)",
              "ticks": "outside"
             }
            },
            "type": "scatterpolargl"
           }
          ],
          "scatterternary": [
           {
            "marker": {
             "colorbar": {
              "outlinewidth": 1,
              "tickcolor": "rgb(36,36,36)",
              "ticks": "outside"
             }
            },
            "type": "scatterternary"
           }
          ],
          "surface": [
           {
            "colorbar": {
             "outlinewidth": 1,
             "tickcolor": "rgb(36,36,36)",
             "ticks": "outside"
            },
            "colorscale": [
             [
              0,
              "#440154"
             ],
             [
              0.1111111111111111,
              "#482878"
             ],
             [
              0.2222222222222222,
              "#3e4989"
             ],
             [
              0.3333333333333333,
              "#31688e"
             ],
             [
              0.4444444444444444,
              "#26828e"
             ],
             [
              0.5555555555555556,
              "#1f9e89"
             ],
             [
              0.6666666666666666,
              "#35b779"
             ],
             [
              0.7777777777777778,
              "#6ece58"
             ],
             [
              0.8888888888888888,
              "#b5de2b"
             ],
             [
              1,
              "#fde725"
             ]
            ],
            "type": "surface"
           }
          ],
          "table": [
           {
            "cells": {
             "fill": {
              "color": "rgb(237,237,237)"
             },
             "line": {
              "color": "white"
             }
            },
            "header": {
             "fill": {
              "color": "rgb(217,217,217)"
             },
             "line": {
              "color": "white"
             }
            },
            "type": "table"
           }
          ]
         },
         "layout": {
          "annotationdefaults": {
           "arrowhead": 0,
           "arrowwidth": 1
          },
          "autotypenumbers": "strict",
          "coloraxis": {
           "colorbar": {
            "outlinewidth": 1,
            "tickcolor": "rgb(36,36,36)",
            "ticks": "outside"
           }
          },
          "colorscale": {
           "diverging": [
            [
             0,
             "rgb(103,0,31)"
            ],
            [
             0.1,
             "rgb(178,24,43)"
            ],
            [
             0.2,
             "rgb(214,96,77)"
            ],
            [
             0.3,
             "rgb(244,165,130)"
            ],
            [
             0.4,
             "rgb(253,219,199)"
            ],
            [
             0.5,
             "rgb(247,247,247)"
            ],
            [
             0.6,
             "rgb(209,229,240)"
            ],
            [
             0.7,
             "rgb(146,197,222)"
            ],
            [
             0.8,
             "rgb(67,147,195)"
            ],
            [
             0.9,
             "rgb(33,102,172)"
            ],
            [
             1,
             "rgb(5,48,97)"
            ]
           ],
           "sequential": [
            [
             0,
             "#440154"
            ],
            [
             0.1111111111111111,
             "#482878"
            ],
            [
             0.2222222222222222,
             "#3e4989"
            ],
            [
             0.3333333333333333,
             "#31688e"
            ],
            [
             0.4444444444444444,
             "#26828e"
            ],
            [
             0.5555555555555556,
             "#1f9e89"
            ],
            [
             0.6666666666666666,
             "#35b779"
            ],
            [
             0.7777777777777778,
             "#6ece58"
            ],
            [
             0.8888888888888888,
             "#b5de2b"
            ],
            [
             1,
             "#fde725"
            ]
           ],
           "sequentialminus": [
            [
             0,
             "#440154"
            ],
            [
             0.1111111111111111,
             "#482878"
            ],
            [
             0.2222222222222222,
             "#3e4989"
            ],
            [
             0.3333333333333333,
             "#31688e"
            ],
            [
             0.4444444444444444,
             "#26828e"
            ],
            [
             0.5555555555555556,
             "#1f9e89"
            ],
            [
             0.6666666666666666,
             "#35b779"
            ],
            [
             0.7777777777777778,
             "#6ece58"
            ],
            [
             0.8888888888888888,
             "#b5de2b"
            ],
            [
             1,
             "#fde725"
            ]
           ]
          },
          "colorway": [
           "#1F77B4",
           "#FF7F0E",
           "#2CA02C",
           "#D62728",
           "#9467BD",
           "#8C564B",
           "#E377C2",
           "#7F7F7F",
           "#BCBD22",
           "#17BECF"
          ],
          "font": {
           "color": "rgb(36,36,36)"
          },
          "geo": {
           "bgcolor": "white",
           "lakecolor": "white",
           "landcolor": "white",
           "showlakes": true,
           "showland": true,
           "subunitcolor": "white"
          },
          "hoverlabel": {
           "align": "left"
          },
          "hovermode": "closest",
          "mapbox": {
           "style": "light"
          },
          "paper_bgcolor": "white",
          "plot_bgcolor": "white",
          "polar": {
           "angularaxis": {
            "gridcolor": "rgb(232,232,232)",
            "linecolor": "rgb(36,36,36)",
            "showgrid": false,
            "showline": true,
            "ticks": "outside"
           },
           "bgcolor": "white",
           "radialaxis": {
            "gridcolor": "rgb(232,232,232)",
            "linecolor": "rgb(36,36,36)",
            "showgrid": false,
            "showline": true,
            "ticks": "outside"
           }
          },
          "scene": {
           "xaxis": {
            "backgroundcolor": "white",
            "gridcolor": "rgb(232,232,232)",
            "gridwidth": 2,
            "linecolor": "rgb(36,36,36)",
            "showbackground": true,
            "showgrid": false,
            "showline": true,
            "ticks": "outside",
            "zeroline": false,
            "zerolinecolor": "rgb(36,36,36)"
           },
           "yaxis": {
            "backgroundcolor": "white",
            "gridcolor": "rgb(232,232,232)",
            "gridwidth": 2,
            "linecolor": "rgb(36,36,36)",
            "showbackground": true,
            "showgrid": false,
            "showline": true,
            "ticks": "outside",
            "zeroline": false,
            "zerolinecolor": "rgb(36,36,36)"
           },
           "zaxis": {
            "backgroundcolor": "white",
            "gridcolor": "rgb(232,232,232)",
            "gridwidth": 2,
            "linecolor": "rgb(36,36,36)",
            "showbackground": true,
            "showgrid": false,
            "showline": true,
            "ticks": "outside",
            "zeroline": false,
            "zerolinecolor": "rgb(36,36,36)"
           }
          },
          "shapedefaults": {
           "fillcolor": "black",
           "line": {
            "width": 0
           },
           "opacity": 0.3
          },
          "ternary": {
           "aaxis": {
            "gridcolor": "rgb(232,232,232)",
            "linecolor": "rgb(36,36,36)",
            "showgrid": false,
            "showline": true,
            "ticks": "outside"
           },
           "baxis": {
            "gridcolor": "rgb(232,232,232)",
            "linecolor": "rgb(36,36,36)",
            "showgrid": false,
            "showline": true,
            "ticks": "outside"
           },
           "bgcolor": "white",
           "caxis": {
            "gridcolor": "rgb(232,232,232)",
            "linecolor": "rgb(36,36,36)",
            "showgrid": false,
            "showline": true,
            "ticks": "outside"
           }
          },
          "title": {
           "x": 0.05
          },
          "xaxis": {
           "automargin": true,
           "gridcolor": "rgb(232,232,232)",
           "linecolor": "rgb(36,36,36)",
           "showgrid": false,
           "showline": true,
           "ticks": "outside",
           "title": {
            "standoff": 15
           },
           "zeroline": false,
           "zerolinecolor": "rgb(36,36,36)"
          },
          "yaxis": {
           "automargin": true,
           "gridcolor": "rgb(232,232,232)",
           "linecolor": "rgb(36,36,36)",
           "showgrid": false,
           "showline": true,
           "ticks": "outside",
           "title": {
            "standoff": 15
           },
           "zeroline": false,
           "zerolinecolor": "rgb(36,36,36)"
          }
         }
        },
        "title": {
         "x": 0.5,
         "xanchor": "center",
         "y": 0.9,
         "yanchor": "top"
        },
        "width": 500,
        "xaxis": {
         "anchor": "y",
         "domain": [
          0,
          1
         ],
         "dtick": 2,
         "title": {
          "text": "Day"
         }
        },
        "yaxis": {
         "anchor": "x",
         "domain": [
          0,
          1
         ],
         "title": {
          "text": "Percent Correct (%)"
         }
        }
       }
      },
      "text/html": [
       "<div>                            <div id=\"e3840f26-44bc-47e6-9baa-fb08d92bc008\" class=\"plotly-graph-div\" style=\"height:500px; width:500px;\"></div>            <script type=\"text/javascript\">                require([\"plotly\"], function(Plotly) {                    window.PLOTLYENV=window.PLOTLYENV || {};                                    if (document.getElementById(\"e3840f26-44bc-47e6-9baa-fb08d92bc008\")) {                    Plotly.newPlot(                        \"e3840f26-44bc-47e6-9baa-fb08d92bc008\",                        [{\"marker\":{\"color\":\"rgb(179,179,179)\",\"line\":{\"width\":1}},\"mode\":\"markers\",\"name\":\"mc_EEG1_01\",\"opacity\":0.5,\"x\":[1,2,3,4,5,6,7,8,9,10,11,12,13,14,15,16,17,18,19,20],\"y\":[40.0,39.285714285714285,43.47826086956522,40.0,50.53763440860215,25.0,35.45454545454545,56.557377049180324,35.95505617977528,82.6530612244898,53.84615384615385,30.88235294117647,27.160493827160494,74.0,71.73913043478261,66.10169491525424,77.19298245614034,80.0,48.739495798319325,46.08695652173913],\"type\":\"scatter\"},{\"marker\":{\"color\":\"rgb(179,179,179)\",\"line\":{\"width\":1}},\"mode\":\"markers\",\"name\":\"mc_EEG1_02\",\"opacity\":0.5,\"x\":[1,2,3,4,5,6,7,8,9,10,11,12,13,14,15,16,17,18,19,20],\"y\":[30.0,40.86021505376344,67.3913043478261,83.69565217391305,76.99115044247787,17.543859649122805,43.42105263157895,60.0,60.273972602739725,82.71604938271605,45.38461538461539,77.47747747747748,88.88888888888889,82.2429906542056,74.10714285714286,76.85950413223141,86.56716417910447,96.7479674796748,96.7741935483871,94.32624113475178],\"type\":\"scatter\"},{\"marker\":{\"color\":\"rgb(179,179,179)\",\"line\":{\"width\":1}},\"mode\":\"markers\",\"name\":\"mc_EEG2_02\",\"opacity\":0.5,\"x\":[1,2,3,4,5,6,7,8,9,10,11,12,13,14,15,16,17,18,19,20],\"y\":[29.951690821256037,51.33333333333333,50.467289719626166,73.46938775510205,81.98198198198197,26.31578947368421,57.936507936507944,59.55056179775281,56.2962962962963,84.54545454545455,44.23963133640553,93.45794392523365,83.0,76.69172932330827,88.80597014925374,67.66917293233082,92.1875,92.06349206349206,91.26984126984127,94.1747572815534],\"type\":\"scatter\"},{\"error_y\":{\"array\":[3.3414139649121686,3.780875735439265,7.098914016303654,13.1952988673332,9.756604328253609,2.7312195456534223,6.5811275475639315,1.0804526422403933,7.5314070334534415,0.6205661948200986,3.0294287721271314,18.770818850079916,19.668254482327995,2.4268040716500945,5.338227048766107,3.355340966667615,4.37352523770973,4.988690350243355,15.17757916554274,16.05457378452323],\"type\":\"data\"},\"line\":{\"color\":\"turquoise\"},\"mode\":\"lines+markers\",\"x\":[1,2,3,4,5,6,7,8,9,10,11,12,13,14,15,16,17,18,19,20],\"y\":[33.31723027375201,43.826420890937015,53.77895164567249,65.72167997633836,69.83692227768734,22.953216374269005,45.60403534087745,58.70264628231104,50.84177502627043,83.3048550508868,47.82346685572492,67.27259144796254,66.34979423868312,77.64490665917128,78.21741448039307,70.21012399327215,85.31588221174827,89.60381984772228,78.92784353884923,78.1959849793481],\"type\":\"scatter\"}],                        {\"template\":{\"data\":{\"barpolar\":[{\"marker\":{\"line\":{\"color\":\"white\",\"width\":0.5},\"pattern\":{\"fillmode\":\"overlay\",\"size\":10,\"solidity\":0.2}},\"type\":\"barpolar\"}],\"bar\":[{\"error_x\":{\"color\":\"rgb(36,36,36)\"},\"error_y\":{\"color\":\"rgb(36,36,36)\"},\"marker\":{\"line\":{\"color\":\"white\",\"width\":0.5},\"pattern\":{\"fillmode\":\"overlay\",\"size\":10,\"solidity\":0.2}},\"type\":\"bar\"}],\"carpet\":[{\"aaxis\":{\"endlinecolor\":\"rgb(36,36,36)\",\"gridcolor\":\"white\",\"linecolor\":\"white\",\"minorgridcolor\":\"white\",\"startlinecolor\":\"rgb(36,36,36)\"},\"baxis\":{\"endlinecolor\":\"rgb(36,36,36)\",\"gridcolor\":\"white\",\"linecolor\":\"white\",\"minorgridcolor\":\"white\",\"startlinecolor\":\"rgb(36,36,36)\"},\"type\":\"carpet\"}],\"choropleth\":[{\"colorbar\":{\"outlinewidth\":1,\"tickcolor\":\"rgb(36,36,36)\",\"ticks\":\"outside\"},\"type\":\"choropleth\"}],\"contourcarpet\":[{\"colorbar\":{\"outlinewidth\":1,\"tickcolor\":\"rgb(36,36,36)\",\"ticks\":\"outside\"},\"type\":\"contourcarpet\"}],\"contour\":[{\"colorbar\":{\"outlinewidth\":1,\"tickcolor\":\"rgb(36,36,36)\",\"ticks\":\"outside\"},\"colorscale\":[[0.0,\"#440154\"],[0.1111111111111111,\"#482878\"],[0.2222222222222222,\"#3e4989\"],[0.3333333333333333,\"#31688e\"],[0.4444444444444444,\"#26828e\"],[0.5555555555555556,\"#1f9e89\"],[0.6666666666666666,\"#35b779\"],[0.7777777777777778,\"#6ece58\"],[0.8888888888888888,\"#b5de2b\"],[1.0,\"#fde725\"]],\"type\":\"contour\"}],\"heatmapgl\":[{\"colorbar\":{\"outlinewidth\":1,\"tickcolor\":\"rgb(36,36,36)\",\"ticks\":\"outside\"},\"colorscale\":[[0.0,\"#440154\"],[0.1111111111111111,\"#482878\"],[0.2222222222222222,\"#3e4989\"],[0.3333333333333333,\"#31688e\"],[0.4444444444444444,\"#26828e\"],[0.5555555555555556,\"#1f9e89\"],[0.6666666666666666,\"#35b779\"],[0.7777777777777778,\"#6ece58\"],[0.8888888888888888,\"#b5de2b\"],[1.0,\"#fde725\"]],\"type\":\"heatmapgl\"}],\"heatmap\":[{\"colorbar\":{\"outlinewidth\":1,\"tickcolor\":\"rgb(36,36,36)\",\"ticks\":\"outside\"},\"colorscale\":[[0.0,\"#440154\"],[0.1111111111111111,\"#482878\"],[0.2222222222222222,\"#3e4989\"],[0.3333333333333333,\"#31688e\"],[0.4444444444444444,\"#26828e\"],[0.5555555555555556,\"#1f9e89\"],[0.6666666666666666,\"#35b779\"],[0.7777777777777778,\"#6ece58\"],[0.8888888888888888,\"#b5de2b\"],[1.0,\"#fde725\"]],\"type\":\"heatmap\"}],\"histogram2dcontour\":[{\"colorbar\":{\"outlinewidth\":1,\"tickcolor\":\"rgb(36,36,36)\",\"ticks\":\"outside\"},\"colorscale\":[[0.0,\"#440154\"],[0.1111111111111111,\"#482878\"],[0.2222222222222222,\"#3e4989\"],[0.3333333333333333,\"#31688e\"],[0.4444444444444444,\"#26828e\"],[0.5555555555555556,\"#1f9e89\"],[0.6666666666666666,\"#35b779\"],[0.7777777777777778,\"#6ece58\"],[0.8888888888888888,\"#b5de2b\"],[1.0,\"#fde725\"]],\"type\":\"histogram2dcontour\"}],\"histogram2d\":[{\"colorbar\":{\"outlinewidth\":1,\"tickcolor\":\"rgb(36,36,36)\",\"ticks\":\"outside\"},\"colorscale\":[[0.0,\"#440154\"],[0.1111111111111111,\"#482878\"],[0.2222222222222222,\"#3e4989\"],[0.3333333333333333,\"#31688e\"],[0.4444444444444444,\"#26828e\"],[0.5555555555555556,\"#1f9e89\"],[0.6666666666666666,\"#35b779\"],[0.7777777777777778,\"#6ece58\"],[0.8888888888888888,\"#b5de2b\"],[1.0,\"#fde725\"]],\"type\":\"histogram2d\"}],\"histogram\":[{\"marker\":{\"line\":{\"color\":\"white\",\"width\":0.6}},\"type\":\"histogram\"}],\"mesh3d\":[{\"colorbar\":{\"outlinewidth\":1,\"tickcolor\":\"rgb(36,36,36)\",\"ticks\":\"outside\"},\"type\":\"mesh3d\"}],\"parcoords\":[{\"line\":{\"colorbar\":{\"outlinewidth\":1,\"tickcolor\":\"rgb(36,36,36)\",\"ticks\":\"outside\"}},\"type\":\"parcoords\"}],\"pie\":[{\"automargin\":true,\"type\":\"pie\"}],\"scatter3d\":[{\"line\":{\"colorbar\":{\"outlinewidth\":1,\"tickcolor\":\"rgb(36,36,36)\",\"ticks\":\"outside\"}},\"marker\":{\"colorbar\":{\"outlinewidth\":1,\"tickcolor\":\"rgb(36,36,36)\",\"ticks\":\"outside\"}},\"type\":\"scatter3d\"}],\"scattercarpet\":[{\"marker\":{\"colorbar\":{\"outlinewidth\":1,\"tickcolor\":\"rgb(36,36,36)\",\"ticks\":\"outside\"}},\"type\":\"scattercarpet\"}],\"scattergeo\":[{\"marker\":{\"colorbar\":{\"outlinewidth\":1,\"tickcolor\":\"rgb(36,36,36)\",\"ticks\":\"outside\"}},\"type\":\"scattergeo\"}],\"scattergl\":[{\"marker\":{\"colorbar\":{\"outlinewidth\":1,\"tickcolor\":\"rgb(36,36,36)\",\"ticks\":\"outside\"}},\"type\":\"scattergl\"}],\"scattermapbox\":[{\"marker\":{\"colorbar\":{\"outlinewidth\":1,\"tickcolor\":\"rgb(36,36,36)\",\"ticks\":\"outside\"}},\"type\":\"scattermapbox\"}],\"scatterpolargl\":[{\"marker\":{\"colorbar\":{\"outlinewidth\":1,\"tickcolor\":\"rgb(36,36,36)\",\"ticks\":\"outside\"}},\"type\":\"scatterpolargl\"}],\"scatterpolar\":[{\"marker\":{\"colorbar\":{\"outlinewidth\":1,\"tickcolor\":\"rgb(36,36,36)\",\"ticks\":\"outside\"}},\"type\":\"scatterpolar\"}],\"scatter\":[{\"fillpattern\":{\"fillmode\":\"overlay\",\"size\":10,\"solidity\":0.2},\"type\":\"scatter\"}],\"scatterternary\":[{\"marker\":{\"colorbar\":{\"outlinewidth\":1,\"tickcolor\":\"rgb(36,36,36)\",\"ticks\":\"outside\"}},\"type\":\"scatterternary\"}],\"surface\":[{\"colorbar\":{\"outlinewidth\":1,\"tickcolor\":\"rgb(36,36,36)\",\"ticks\":\"outside\"},\"colorscale\":[[0.0,\"#440154\"],[0.1111111111111111,\"#482878\"],[0.2222222222222222,\"#3e4989\"],[0.3333333333333333,\"#31688e\"],[0.4444444444444444,\"#26828e\"],[0.5555555555555556,\"#1f9e89\"],[0.6666666666666666,\"#35b779\"],[0.7777777777777778,\"#6ece58\"],[0.8888888888888888,\"#b5de2b\"],[1.0,\"#fde725\"]],\"type\":\"surface\"}],\"table\":[{\"cells\":{\"fill\":{\"color\":\"rgb(237,237,237)\"},\"line\":{\"color\":\"white\"}},\"header\":{\"fill\":{\"color\":\"rgb(217,217,217)\"},\"line\":{\"color\":\"white\"}},\"type\":\"table\"}]},\"layout\":{\"annotationdefaults\":{\"arrowhead\":0,\"arrowwidth\":1},\"autotypenumbers\":\"strict\",\"coloraxis\":{\"colorbar\":{\"outlinewidth\":1,\"tickcolor\":\"rgb(36,36,36)\",\"ticks\":\"outside\"}},\"colorscale\":{\"diverging\":[[0.0,\"rgb(103,0,31)\"],[0.1,\"rgb(178,24,43)\"],[0.2,\"rgb(214,96,77)\"],[0.3,\"rgb(244,165,130)\"],[0.4,\"rgb(253,219,199)\"],[0.5,\"rgb(247,247,247)\"],[0.6,\"rgb(209,229,240)\"],[0.7,\"rgb(146,197,222)\"],[0.8,\"rgb(67,147,195)\"],[0.9,\"rgb(33,102,172)\"],[1.0,\"rgb(5,48,97)\"]],\"sequential\":[[0.0,\"#440154\"],[0.1111111111111111,\"#482878\"],[0.2222222222222222,\"#3e4989\"],[0.3333333333333333,\"#31688e\"],[0.4444444444444444,\"#26828e\"],[0.5555555555555556,\"#1f9e89\"],[0.6666666666666666,\"#35b779\"],[0.7777777777777778,\"#6ece58\"],[0.8888888888888888,\"#b5de2b\"],[1.0,\"#fde725\"]],\"sequentialminus\":[[0.0,\"#440154\"],[0.1111111111111111,\"#482878\"],[0.2222222222222222,\"#3e4989\"],[0.3333333333333333,\"#31688e\"],[0.4444444444444444,\"#26828e\"],[0.5555555555555556,\"#1f9e89\"],[0.6666666666666666,\"#35b779\"],[0.7777777777777778,\"#6ece58\"],[0.8888888888888888,\"#b5de2b\"],[1.0,\"#fde725\"]]},\"colorway\":[\"#1F77B4\",\"#FF7F0E\",\"#2CA02C\",\"#D62728\",\"#9467BD\",\"#8C564B\",\"#E377C2\",\"#7F7F7F\",\"#BCBD22\",\"#17BECF\"],\"font\":{\"color\":\"rgb(36,36,36)\"},\"geo\":{\"bgcolor\":\"white\",\"lakecolor\":\"white\",\"landcolor\":\"white\",\"showlakes\":true,\"showland\":true,\"subunitcolor\":\"white\"},\"hoverlabel\":{\"align\":\"left\"},\"hovermode\":\"closest\",\"mapbox\":{\"style\":\"light\"},\"paper_bgcolor\":\"white\",\"plot_bgcolor\":\"white\",\"polar\":{\"angularaxis\":{\"gridcolor\":\"rgb(232,232,232)\",\"linecolor\":\"rgb(36,36,36)\",\"showgrid\":false,\"showline\":true,\"ticks\":\"outside\"},\"bgcolor\":\"white\",\"radialaxis\":{\"gridcolor\":\"rgb(232,232,232)\",\"linecolor\":\"rgb(36,36,36)\",\"showgrid\":false,\"showline\":true,\"ticks\":\"outside\"}},\"scene\":{\"xaxis\":{\"backgroundcolor\":\"white\",\"gridcolor\":\"rgb(232,232,232)\",\"gridwidth\":2,\"linecolor\":\"rgb(36,36,36)\",\"showbackground\":true,\"showgrid\":false,\"showline\":true,\"ticks\":\"outside\",\"zeroline\":false,\"zerolinecolor\":\"rgb(36,36,36)\"},\"yaxis\":{\"backgroundcolor\":\"white\",\"gridcolor\":\"rgb(232,232,232)\",\"gridwidth\":2,\"linecolor\":\"rgb(36,36,36)\",\"showbackground\":true,\"showgrid\":false,\"showline\":true,\"ticks\":\"outside\",\"zeroline\":false,\"zerolinecolor\":\"rgb(36,36,36)\"},\"zaxis\":{\"backgroundcolor\":\"white\",\"gridcolor\":\"rgb(232,232,232)\",\"gridwidth\":2,\"linecolor\":\"rgb(36,36,36)\",\"showbackground\":true,\"showgrid\":false,\"showline\":true,\"ticks\":\"outside\",\"zeroline\":false,\"zerolinecolor\":\"rgb(36,36,36)\"}},\"shapedefaults\":{\"fillcolor\":\"black\",\"line\":{\"width\":0},\"opacity\":0.3},\"ternary\":{\"aaxis\":{\"gridcolor\":\"rgb(232,232,232)\",\"linecolor\":\"rgb(36,36,36)\",\"showgrid\":false,\"showline\":true,\"ticks\":\"outside\"},\"baxis\":{\"gridcolor\":\"rgb(232,232,232)\",\"linecolor\":\"rgb(36,36,36)\",\"showgrid\":false,\"showline\":true,\"ticks\":\"outside\"},\"bgcolor\":\"white\",\"caxis\":{\"gridcolor\":\"rgb(232,232,232)\",\"linecolor\":\"rgb(36,36,36)\",\"showgrid\":false,\"showline\":true,\"ticks\":\"outside\"}},\"title\":{\"x\":0.05},\"xaxis\":{\"automargin\":true,\"gridcolor\":\"rgb(232,232,232)\",\"linecolor\":\"rgb(36,36,36)\",\"showgrid\":false,\"showline\":true,\"ticks\":\"outside\",\"title\":{\"standoff\":15},\"zeroline\":false,\"zerolinecolor\":\"rgb(36,36,36)\"},\"yaxis\":{\"automargin\":true,\"gridcolor\":\"rgb(232,232,232)\",\"linecolor\":\"rgb(36,36,36)\",\"showgrid\":false,\"showline\":true,\"ticks\":\"outside\",\"title\":{\"standoff\":15},\"zeroline\":false,\"zerolinecolor\":\"rgb(36,36,36)\"}}},\"xaxis\":{\"anchor\":\"y\",\"domain\":[0.0,1.0],\"title\":{\"text\":\"Day\"},\"dtick\":2},\"yaxis\":{\"anchor\":\"x\",\"domain\":[0.0,1.0],\"title\":{\"text\":\"Percent Correct (%)\"}},\"annotations\":[{\"font\":{\"size\":16},\"showarrow\":false,\"text\":\"Lick Accuracy\",\"x\":0.5,\"xanchor\":\"center\",\"xref\":\"paper\",\"y\":1.0,\"yanchor\":\"bottom\",\"yref\":\"paper\"}],\"height\":500,\"width\":500,\"title\":{\"y\":0.9,\"x\":0.5,\"xanchor\":\"center\",\"yanchor\":\"top\"},\"shapes\":[{\"line\":{\"color\":\"darkgrey\",\"dash\":\"dash\",\"width\":1},\"opacity\":1,\"type\":\"line\",\"x0\":0,\"x1\":1,\"xref\":\"x domain\",\"y0\":25,\"y1\":25,\"yref\":\"y\"},{\"line\":{\"color\":\"darkgrey\",\"dash\":\"dash\",\"width\":1},\"opacity\":1,\"type\":\"line\",\"x0\":5.5,\"x1\":5.5,\"xref\":\"x\",\"y0\":0,\"y1\":1,\"yref\":\"y domain\"},{\"line\":{\"color\":\"darkgrey\",\"dash\":\"dash\",\"width\":1},\"opacity\":1,\"type\":\"line\",\"x0\":10.5,\"x1\":10.5,\"xref\":\"x\",\"y0\":0,\"y1\":1,\"yref\":\"y domain\"},{\"line\":{\"color\":\"darkgrey\",\"dash\":\"dash\",\"width\":1},\"opacity\":1,\"type\":\"line\",\"x0\":15.5,\"x1\":15.5,\"xref\":\"x\",\"y0\":0,\"y1\":1,\"yref\":\"y domain\"}],\"showlegend\":false},                        {\"responsive\": true}                    ).then(function(){\n",
       "                            \n",
       "var gd = document.getElementById('e3840f26-44bc-47e6-9baa-fb08d92bc008');\n",
       "var x = new MutationObserver(function (mutations, observer) {{\n",
       "        var display = window.getComputedStyle(gd).display;\n",
       "        if (!display || display === 'none') {{\n",
       "            console.log([gd, 'removed!']);\n",
       "            Plotly.purge(gd);\n",
       "            observer.disconnect();\n",
       "        }}\n",
       "}});\n",
       "\n",
       "// Listen for the removal of the full notebook cells\n",
       "var notebookContainer = gd.closest('#notebook-container');\n",
       "if (notebookContainer) {{\n",
       "    x.observe(notebookContainer, {childList: true});\n",
       "}}\n",
       "\n",
       "// Listen for the clearing of the current output cell\n",
       "var outputEl = gd.closest('.output');\n",
       "if (outputEl) {{\n",
       "    x.observe(outputEl, {childList: true});\n",
       "}}\n",
       "\n",
       "                        })                };                });            </script>        </div>"
      ]
     },
     "metadata": {},
     "output_type": "display_data"
    }
   ],
   "source": [
    "## Percent correct data non_probe\n",
    "accuracy = pd.DataFrame()\n",
    "for experiment in experiment_pc:\n",
    "    for mouse in experiment_pc[experiment]:\n",
    "        if mouse == 'mc_EEG2_01':\n",
    "            next\n",
    "        else:\n",
    "            df = pd.DataFrame(experiment_pc[experiment][mouse], index=[0]).T.rename(columns={0: 'percent_correct'})\n",
    "            df.insert(0, 'mouse', mouse)\n",
    "            df.insert(1, 'day', [x for x in np.arange(1, 21)])\n",
    "            accuracy = pd.concat([accuracy, df], axis=0, ignore_index=True)\n",
    "\n",
    "fig = pf.plot_behavior_across_days(accuracy, x_var='day', y_var='percent_correct', groupby_var=['day'], titles=['Lick Accuracy'],\n",
    "                                   x_title='Day', y_title='Percent Correct (%)', template='simple_white', expert_line=False)\n",
    "fig.update_xaxes(dtick=2) \n",
    "fig.show()\n",
    "fig.write_image(pjoin(fig_path, 'lick_accuracy.png'))"
   ]
  },
  {
   "cell_type": "code",
   "execution_count": 143,
   "metadata": {},
   "outputs": [
    {
     "data": {
      "application/vnd.plotly.v1+json": {
       "config": {
        "plotlyServerURL": "https://plot.ly"
       },
       "data": [
        {
         "error_y": {
          "array": [
           10.728703746751338,
           3.4459284392446135,
           6.31917315641155
          ],
          "thickness": 2.5,
          "type": "data",
          "width": 10
         },
         "marker": {
          "color": "darkgrey",
          "line": {
           "color": "black",
           "width": 2
          }
         },
         "showlegend": false,
         "type": "bar",
         "width": [
          0.5,
          0.5,
          0.5
         ],
         "x": [
          "A to B",
          "B to C",
          "C to D"
         ],
         "y": [
          46.88370590341833,
          35.48138819516188,
          8.92474424548376
         ]
        },
        {
         "marker": {
          "color": "black"
         },
         "mode": "markers",
         "showlegend": false,
         "type": "scatter",
         "x": [
          "A to B",
          "A to B",
          "A to B",
          "B to C",
          "B to C",
          "B to C",
          "C to D",
          "C to D",
          "C to D"
         ],
         "y": [
          25.537634408602152,
          59.447290793355066,
          55.66619250829777,
          28.806907378335957,
          37.331433998100664,
          40.30582320904902,
          5.637435519528367,
          0,
          21.136797216922915
         ]
        }
       ],
       "layout": {
        "height": 500,
        "template": {
         "data": {
          "bar": [
           {
            "error_x": {
             "color": "rgb(36,36,36)"
            },
            "error_y": {
             "color": "rgb(36,36,36)"
            },
            "marker": {
             "line": {
              "color": "white",
              "width": 0.5
             },
             "pattern": {
              "fillmode": "overlay",
              "size": 10,
              "solidity": 0.2
             }
            },
            "type": "bar"
           }
          ],
          "barpolar": [
           {
            "marker": {
             "line": {
              "color": "white",
              "width": 0.5
             },
             "pattern": {
              "fillmode": "overlay",
              "size": 10,
              "solidity": 0.2
             }
            },
            "type": "barpolar"
           }
          ],
          "carpet": [
           {
            "aaxis": {
             "endlinecolor": "rgb(36,36,36)",
             "gridcolor": "white",
             "linecolor": "white",
             "minorgridcolor": "white",
             "startlinecolor": "rgb(36,36,36)"
            },
            "baxis": {
             "endlinecolor": "rgb(36,36,36)",
             "gridcolor": "white",
             "linecolor": "white",
             "minorgridcolor": "white",
             "startlinecolor": "rgb(36,36,36)"
            },
            "type": "carpet"
           }
          ],
          "choropleth": [
           {
            "colorbar": {
             "outlinewidth": 1,
             "tickcolor": "rgb(36,36,36)",
             "ticks": "outside"
            },
            "type": "choropleth"
           }
          ],
          "contour": [
           {
            "colorbar": {
             "outlinewidth": 1,
             "tickcolor": "rgb(36,36,36)",
             "ticks": "outside"
            },
            "colorscale": [
             [
              0,
              "#440154"
             ],
             [
              0.1111111111111111,
              "#482878"
             ],
             [
              0.2222222222222222,
              "#3e4989"
             ],
             [
              0.3333333333333333,
              "#31688e"
             ],
             [
              0.4444444444444444,
              "#26828e"
             ],
             [
              0.5555555555555556,
              "#1f9e89"
             ],
             [
              0.6666666666666666,
              "#35b779"
             ],
             [
              0.7777777777777778,
              "#6ece58"
             ],
             [
              0.8888888888888888,
              "#b5de2b"
             ],
             [
              1,
              "#fde725"
             ]
            ],
            "type": "contour"
           }
          ],
          "contourcarpet": [
           {
            "colorbar": {
             "outlinewidth": 1,
             "tickcolor": "rgb(36,36,36)",
             "ticks": "outside"
            },
            "type": "contourcarpet"
           }
          ],
          "heatmap": [
           {
            "colorbar": {
             "outlinewidth": 1,
             "tickcolor": "rgb(36,36,36)",
             "ticks": "outside"
            },
            "colorscale": [
             [
              0,
              "#440154"
             ],
             [
              0.1111111111111111,
              "#482878"
             ],
             [
              0.2222222222222222,
              "#3e4989"
             ],
             [
              0.3333333333333333,
              "#31688e"
             ],
             [
              0.4444444444444444,
              "#26828e"
             ],
             [
              0.5555555555555556,
              "#1f9e89"
             ],
             [
              0.6666666666666666,
              "#35b779"
             ],
             [
              0.7777777777777778,
              "#6ece58"
             ],
             [
              0.8888888888888888,
              "#b5de2b"
             ],
             [
              1,
              "#fde725"
             ]
            ],
            "type": "heatmap"
           }
          ],
          "heatmapgl": [
           {
            "colorbar": {
             "outlinewidth": 1,
             "tickcolor": "rgb(36,36,36)",
             "ticks": "outside"
            },
            "colorscale": [
             [
              0,
              "#440154"
             ],
             [
              0.1111111111111111,
              "#482878"
             ],
             [
              0.2222222222222222,
              "#3e4989"
             ],
             [
              0.3333333333333333,
              "#31688e"
             ],
             [
              0.4444444444444444,
              "#26828e"
             ],
             [
              0.5555555555555556,
              "#1f9e89"
             ],
             [
              0.6666666666666666,
              "#35b779"
             ],
             [
              0.7777777777777778,
              "#6ece58"
             ],
             [
              0.8888888888888888,
              "#b5de2b"
             ],
             [
              1,
              "#fde725"
             ]
            ],
            "type": "heatmapgl"
           }
          ],
          "histogram": [
           {
            "marker": {
             "line": {
              "color": "white",
              "width": 0.6
             }
            },
            "type": "histogram"
           }
          ],
          "histogram2d": [
           {
            "colorbar": {
             "outlinewidth": 1,
             "tickcolor": "rgb(36,36,36)",
             "ticks": "outside"
            },
            "colorscale": [
             [
              0,
              "#440154"
             ],
             [
              0.1111111111111111,
              "#482878"
             ],
             [
              0.2222222222222222,
              "#3e4989"
             ],
             [
              0.3333333333333333,
              "#31688e"
             ],
             [
              0.4444444444444444,
              "#26828e"
             ],
             [
              0.5555555555555556,
              "#1f9e89"
             ],
             [
              0.6666666666666666,
              "#35b779"
             ],
             [
              0.7777777777777778,
              "#6ece58"
             ],
             [
              0.8888888888888888,
              "#b5de2b"
             ],
             [
              1,
              "#fde725"
             ]
            ],
            "type": "histogram2d"
           }
          ],
          "histogram2dcontour": [
           {
            "colorbar": {
             "outlinewidth": 1,
             "tickcolor": "rgb(36,36,36)",
             "ticks": "outside"
            },
            "colorscale": [
             [
              0,
              "#440154"
             ],
             [
              0.1111111111111111,
              "#482878"
             ],
             [
              0.2222222222222222,
              "#3e4989"
             ],
             [
              0.3333333333333333,
              "#31688e"
             ],
             [
              0.4444444444444444,
              "#26828e"
             ],
             [
              0.5555555555555556,
              "#1f9e89"
             ],
             [
              0.6666666666666666,
              "#35b779"
             ],
             [
              0.7777777777777778,
              "#6ece58"
             ],
             [
              0.8888888888888888,
              "#b5de2b"
             ],
             [
              1,
              "#fde725"
             ]
            ],
            "type": "histogram2dcontour"
           }
          ],
          "mesh3d": [
           {
            "colorbar": {
             "outlinewidth": 1,
             "tickcolor": "rgb(36,36,36)",
             "ticks": "outside"
            },
            "type": "mesh3d"
           }
          ],
          "parcoords": [
           {
            "line": {
             "colorbar": {
              "outlinewidth": 1,
              "tickcolor": "rgb(36,36,36)",
              "ticks": "outside"
             }
            },
            "type": "parcoords"
           }
          ],
          "pie": [
           {
            "automargin": true,
            "type": "pie"
           }
          ],
          "scatter": [
           {
            "fillpattern": {
             "fillmode": "overlay",
             "size": 10,
             "solidity": 0.2
            },
            "type": "scatter"
           }
          ],
          "scatter3d": [
           {
            "line": {
             "colorbar": {
              "outlinewidth": 1,
              "tickcolor": "rgb(36,36,36)",
              "ticks": "outside"
             }
            },
            "marker": {
             "colorbar": {
              "outlinewidth": 1,
              "tickcolor": "rgb(36,36,36)",
              "ticks": "outside"
             }
            },
            "type": "scatter3d"
           }
          ],
          "scattercarpet": [
           {
            "marker": {
             "colorbar": {
              "outlinewidth": 1,
              "tickcolor": "rgb(36,36,36)",
              "ticks": "outside"
             }
            },
            "type": "scattercarpet"
           }
          ],
          "scattergeo": [
           {
            "marker": {
             "colorbar": {
              "outlinewidth": 1,
              "tickcolor": "rgb(36,36,36)",
              "ticks": "outside"
             }
            },
            "type": "scattergeo"
           }
          ],
          "scattergl": [
           {
            "marker": {
             "colorbar": {
              "outlinewidth": 1,
              "tickcolor": "rgb(36,36,36)",
              "ticks": "outside"
             }
            },
            "type": "scattergl"
           }
          ],
          "scattermapbox": [
           {
            "marker": {
             "colorbar": {
              "outlinewidth": 1,
              "tickcolor": "rgb(36,36,36)",
              "ticks": "outside"
             }
            },
            "type": "scattermapbox"
           }
          ],
          "scatterpolar": [
           {
            "marker": {
             "colorbar": {
              "outlinewidth": 1,
              "tickcolor": "rgb(36,36,36)",
              "ticks": "outside"
             }
            },
            "type": "scatterpolar"
           }
          ],
          "scatterpolargl": [
           {
            "marker": {
             "colorbar": {
              "outlinewidth": 1,
              "tickcolor": "rgb(36,36,36)",
              "ticks": "outside"
             }
            },
            "type": "scatterpolargl"
           }
          ],
          "scatterternary": [
           {
            "marker": {
             "colorbar": {
              "outlinewidth": 1,
              "tickcolor": "rgb(36,36,36)",
              "ticks": "outside"
             }
            },
            "type": "scatterternary"
           }
          ],
          "surface": [
           {
            "colorbar": {
             "outlinewidth": 1,
             "tickcolor": "rgb(36,36,36)",
             "ticks": "outside"
            },
            "colorscale": [
             [
              0,
              "#440154"
             ],
             [
              0.1111111111111111,
              "#482878"
             ],
             [
              0.2222222222222222,
              "#3e4989"
             ],
             [
              0.3333333333333333,
              "#31688e"
             ],
             [
              0.4444444444444444,
              "#26828e"
             ],
             [
              0.5555555555555556,
              "#1f9e89"
             ],
             [
              0.6666666666666666,
              "#35b779"
             ],
             [
              0.7777777777777778,
              "#6ece58"
             ],
             [
              0.8888888888888888,
              "#b5de2b"
             ],
             [
              1,
              "#fde725"
             ]
            ],
            "type": "surface"
           }
          ],
          "table": [
           {
            "cells": {
             "fill": {
              "color": "rgb(237,237,237)"
             },
             "line": {
              "color": "white"
             }
            },
            "header": {
             "fill": {
              "color": "rgb(217,217,217)"
             },
             "line": {
              "color": "white"
             }
            },
            "type": "table"
           }
          ]
         },
         "layout": {
          "annotationdefaults": {
           "arrowhead": 0,
           "arrowwidth": 1
          },
          "autotypenumbers": "strict",
          "coloraxis": {
           "colorbar": {
            "outlinewidth": 1,
            "tickcolor": "rgb(36,36,36)",
            "ticks": "outside"
           }
          },
          "colorscale": {
           "diverging": [
            [
             0,
             "rgb(103,0,31)"
            ],
            [
             0.1,
             "rgb(178,24,43)"
            ],
            [
             0.2,
             "rgb(214,96,77)"
            ],
            [
             0.3,
             "rgb(244,165,130)"
            ],
            [
             0.4,
             "rgb(253,219,199)"
            ],
            [
             0.5,
             "rgb(247,247,247)"
            ],
            [
             0.6,
             "rgb(209,229,240)"
            ],
            [
             0.7,
             "rgb(146,197,222)"
            ],
            [
             0.8,
             "rgb(67,147,195)"
            ],
            [
             0.9,
             "rgb(33,102,172)"
            ],
            [
             1,
             "rgb(5,48,97)"
            ]
           ],
           "sequential": [
            [
             0,
             "#440154"
            ],
            [
             0.1111111111111111,
             "#482878"
            ],
            [
             0.2222222222222222,
             "#3e4989"
            ],
            [
             0.3333333333333333,
             "#31688e"
            ],
            [
             0.4444444444444444,
             "#26828e"
            ],
            [
             0.5555555555555556,
             "#1f9e89"
            ],
            [
             0.6666666666666666,
             "#35b779"
            ],
            [
             0.7777777777777778,
             "#6ece58"
            ],
            [
             0.8888888888888888,
             "#b5de2b"
            ],
            [
             1,
             "#fde725"
            ]
           ],
           "sequentialminus": [
            [
             0,
             "#440154"
            ],
            [
             0.1111111111111111,
             "#482878"
            ],
            [
             0.2222222222222222,
             "#3e4989"
            ],
            [
             0.3333333333333333,
             "#31688e"
            ],
            [
             0.4444444444444444,
             "#26828e"
            ],
            [
             0.5555555555555556,
             "#1f9e89"
            ],
            [
             0.6666666666666666,
             "#35b779"
            ],
            [
             0.7777777777777778,
             "#6ece58"
            ],
            [
             0.8888888888888888,
             "#b5de2b"
            ],
            [
             1,
             "#fde725"
            ]
           ]
          },
          "colorway": [
           "#1F77B4",
           "#FF7F0E",
           "#2CA02C",
           "#D62728",
           "#9467BD",
           "#8C564B",
           "#E377C2",
           "#7F7F7F",
           "#BCBD22",
           "#17BECF"
          ],
          "font": {
           "color": "rgb(36,36,36)"
          },
          "geo": {
           "bgcolor": "white",
           "lakecolor": "white",
           "landcolor": "white",
           "showlakes": true,
           "showland": true,
           "subunitcolor": "white"
          },
          "hoverlabel": {
           "align": "left"
          },
          "hovermode": "closest",
          "mapbox": {
           "style": "light"
          },
          "paper_bgcolor": "white",
          "plot_bgcolor": "white",
          "polar": {
           "angularaxis": {
            "gridcolor": "rgb(232,232,232)",
            "linecolor": "rgb(36,36,36)",
            "showgrid": false,
            "showline": true,
            "ticks": "outside"
           },
           "bgcolor": "white",
           "radialaxis": {
            "gridcolor": "rgb(232,232,232)",
            "linecolor": "rgb(36,36,36)",
            "showgrid": false,
            "showline": true,
            "ticks": "outside"
           }
          },
          "scene": {
           "xaxis": {
            "backgroundcolor": "white",
            "gridcolor": "rgb(232,232,232)",
            "gridwidth": 2,
            "linecolor": "rgb(36,36,36)",
            "showbackground": true,
            "showgrid": false,
            "showline": true,
            "ticks": "outside",
            "zeroline": false,
            "zerolinecolor": "rgb(36,36,36)"
           },
           "yaxis": {
            "backgroundcolor": "white",
            "gridcolor": "rgb(232,232,232)",
            "gridwidth": 2,
            "linecolor": "rgb(36,36,36)",
            "showbackground": true,
            "showgrid": false,
            "showline": true,
            "ticks": "outside",
            "zeroline": false,
            "zerolinecolor": "rgb(36,36,36)"
           },
           "zaxis": {
            "backgroundcolor": "white",
            "gridcolor": "rgb(232,232,232)",
            "gridwidth": 2,
            "linecolor": "rgb(36,36,36)",
            "showbackground": true,
            "showgrid": false,
            "showline": true,
            "ticks": "outside",
            "zeroline": false,
            "zerolinecolor": "rgb(36,36,36)"
           }
          },
          "shapedefaults": {
           "fillcolor": "black",
           "line": {
            "width": 0
           },
           "opacity": 0.3
          },
          "ternary": {
           "aaxis": {
            "gridcolor": "rgb(232,232,232)",
            "linecolor": "rgb(36,36,36)",
            "showgrid": false,
            "showline": true,
            "ticks": "outside"
           },
           "baxis": {
            "gridcolor": "rgb(232,232,232)",
            "linecolor": "rgb(36,36,36)",
            "showgrid": false,
            "showline": true,
            "ticks": "outside"
           },
           "bgcolor": "white",
           "caxis": {
            "gridcolor": "rgb(232,232,232)",
            "linecolor": "rgb(36,36,36)",
            "showgrid": false,
            "showline": true,
            "ticks": "outside"
           }
          },
          "title": {
           "x": 0.05
          },
          "xaxis": {
           "automargin": true,
           "gridcolor": "rgb(232,232,232)",
           "linecolor": "rgb(36,36,36)",
           "showgrid": false,
           "showline": true,
           "ticks": "outside",
           "title": {
            "standoff": 15
           },
           "zeroline": false,
           "zerolinecolor": "rgb(36,36,36)"
          },
          "yaxis": {
           "automargin": true,
           "gridcolor": "rgb(232,232,232)",
           "linecolor": "rgb(36,36,36)",
           "showgrid": false,
           "showline": true,
           "ticks": "outside",
           "title": {
            "standoff": 15
           },
           "zeroline": false,
           "zerolinecolor": "rgb(36,36,36)"
          }
         }
        },
        "title": {
         "x": 0.5,
         "xanchor": "center",
         "y": 0.9,
         "yanchor": "top"
        },
        "width": 500,
        "xaxis": {
         "anchor": "y",
         "domain": [
          0,
          1
         ],
         "title": {
          "text": ""
         }
        },
        "yaxis": {
         "anchor": "x",
         "domain": [
          0,
          1
         ],
         "title": {
          "text": "Performance Difference (%)"
         }
        }
       }
      },
      "text/html": [
       "<div>                            <div id=\"2d69c68e-1e14-424a-84f8-bdbdcb9af771\" class=\"plotly-graph-div\" style=\"height:500px; width:500px;\"></div>            <script type=\"text/javascript\">                require([\"plotly\"], function(Plotly) {                    window.PLOTLYENV=window.PLOTLYENV || {};                                    if (document.getElementById(\"2d69c68e-1e14-424a-84f8-bdbdcb9af771\")) {                    Plotly.newPlot(                        \"2d69c68e-1e14-424a-84f8-bdbdcb9af771\",                        [{\"error_y\":{\"array\":[10.728703746751338,3.4459284392446135,6.31917315641155],\"thickness\":2.5,\"type\":\"data\",\"width\":10},\"marker\":{\"color\":\"darkgrey\",\"line\":{\"color\":\"black\",\"width\":2}},\"showlegend\":false,\"width\":[0.5,0.5,0.5],\"x\":[\"A to B\",\"B to C\",\"C to D\"],\"y\":[46.88370590341833,35.48138819516188,8.92474424548376],\"type\":\"bar\"},{\"marker\":{\"color\":\"black\"},\"mode\":\"markers\",\"showlegend\":false,\"x\":[\"A to B\",\"A to B\",\"A to B\",\"B to C\",\"B to C\",\"B to C\",\"C to D\",\"C to D\",\"C to D\"],\"y\":[25.537634408602152,59.447290793355066,55.66619250829777,28.806907378335957,37.331433998100664,40.30582320904902,5.637435519528367,0.0,21.136797216922915],\"type\":\"scatter\"}],                        {\"template\":{\"data\":{\"barpolar\":[{\"marker\":{\"line\":{\"color\":\"white\",\"width\":0.5},\"pattern\":{\"fillmode\":\"overlay\",\"size\":10,\"solidity\":0.2}},\"type\":\"barpolar\"}],\"bar\":[{\"error_x\":{\"color\":\"rgb(36,36,36)\"},\"error_y\":{\"color\":\"rgb(36,36,36)\"},\"marker\":{\"line\":{\"color\":\"white\",\"width\":0.5},\"pattern\":{\"fillmode\":\"overlay\",\"size\":10,\"solidity\":0.2}},\"type\":\"bar\"}],\"carpet\":[{\"aaxis\":{\"endlinecolor\":\"rgb(36,36,36)\",\"gridcolor\":\"white\",\"linecolor\":\"white\",\"minorgridcolor\":\"white\",\"startlinecolor\":\"rgb(36,36,36)\"},\"baxis\":{\"endlinecolor\":\"rgb(36,36,36)\",\"gridcolor\":\"white\",\"linecolor\":\"white\",\"minorgridcolor\":\"white\",\"startlinecolor\":\"rgb(36,36,36)\"},\"type\":\"carpet\"}],\"choropleth\":[{\"colorbar\":{\"outlinewidth\":1,\"tickcolor\":\"rgb(36,36,36)\",\"ticks\":\"outside\"},\"type\":\"choropleth\"}],\"contourcarpet\":[{\"colorbar\":{\"outlinewidth\":1,\"tickcolor\":\"rgb(36,36,36)\",\"ticks\":\"outside\"},\"type\":\"contourcarpet\"}],\"contour\":[{\"colorbar\":{\"outlinewidth\":1,\"tickcolor\":\"rgb(36,36,36)\",\"ticks\":\"outside\"},\"colorscale\":[[0.0,\"#440154\"],[0.1111111111111111,\"#482878\"],[0.2222222222222222,\"#3e4989\"],[0.3333333333333333,\"#31688e\"],[0.4444444444444444,\"#26828e\"],[0.5555555555555556,\"#1f9e89\"],[0.6666666666666666,\"#35b779\"],[0.7777777777777778,\"#6ece58\"],[0.8888888888888888,\"#b5de2b\"],[1.0,\"#fde725\"]],\"type\":\"contour\"}],\"heatmapgl\":[{\"colorbar\":{\"outlinewidth\":1,\"tickcolor\":\"rgb(36,36,36)\",\"ticks\":\"outside\"},\"colorscale\":[[0.0,\"#440154\"],[0.1111111111111111,\"#482878\"],[0.2222222222222222,\"#3e4989\"],[0.3333333333333333,\"#31688e\"],[0.4444444444444444,\"#26828e\"],[0.5555555555555556,\"#1f9e89\"],[0.6666666666666666,\"#35b779\"],[0.7777777777777778,\"#6ece58\"],[0.8888888888888888,\"#b5de2b\"],[1.0,\"#fde725\"]],\"type\":\"heatmapgl\"}],\"heatmap\":[{\"colorbar\":{\"outlinewidth\":1,\"tickcolor\":\"rgb(36,36,36)\",\"ticks\":\"outside\"},\"colorscale\":[[0.0,\"#440154\"],[0.1111111111111111,\"#482878\"],[0.2222222222222222,\"#3e4989\"],[0.3333333333333333,\"#31688e\"],[0.4444444444444444,\"#26828e\"],[0.5555555555555556,\"#1f9e89\"],[0.6666666666666666,\"#35b779\"],[0.7777777777777778,\"#6ece58\"],[0.8888888888888888,\"#b5de2b\"],[1.0,\"#fde725\"]],\"type\":\"heatmap\"}],\"histogram2dcontour\":[{\"colorbar\":{\"outlinewidth\":1,\"tickcolor\":\"rgb(36,36,36)\",\"ticks\":\"outside\"},\"colorscale\":[[0.0,\"#440154\"],[0.1111111111111111,\"#482878\"],[0.2222222222222222,\"#3e4989\"],[0.3333333333333333,\"#31688e\"],[0.4444444444444444,\"#26828e\"],[0.5555555555555556,\"#1f9e89\"],[0.6666666666666666,\"#35b779\"],[0.7777777777777778,\"#6ece58\"],[0.8888888888888888,\"#b5de2b\"],[1.0,\"#fde725\"]],\"type\":\"histogram2dcontour\"}],\"histogram2d\":[{\"colorbar\":{\"outlinewidth\":1,\"tickcolor\":\"rgb(36,36,36)\",\"ticks\":\"outside\"},\"colorscale\":[[0.0,\"#440154\"],[0.1111111111111111,\"#482878\"],[0.2222222222222222,\"#3e4989\"],[0.3333333333333333,\"#31688e\"],[0.4444444444444444,\"#26828e\"],[0.5555555555555556,\"#1f9e89\"],[0.6666666666666666,\"#35b779\"],[0.7777777777777778,\"#6ece58\"],[0.8888888888888888,\"#b5de2b\"],[1.0,\"#fde725\"]],\"type\":\"histogram2d\"}],\"histogram\":[{\"marker\":{\"line\":{\"color\":\"white\",\"width\":0.6}},\"type\":\"histogram\"}],\"mesh3d\":[{\"colorbar\":{\"outlinewidth\":1,\"tickcolor\":\"rgb(36,36,36)\",\"ticks\":\"outside\"},\"type\":\"mesh3d\"}],\"parcoords\":[{\"line\":{\"colorbar\":{\"outlinewidth\":1,\"tickcolor\":\"rgb(36,36,36)\",\"ticks\":\"outside\"}},\"type\":\"parcoords\"}],\"pie\":[{\"automargin\":true,\"type\":\"pie\"}],\"scatter3d\":[{\"line\":{\"colorbar\":{\"outlinewidth\":1,\"tickcolor\":\"rgb(36,36,36)\",\"ticks\":\"outside\"}},\"marker\":{\"colorbar\":{\"outlinewidth\":1,\"tickcolor\":\"rgb(36,36,36)\",\"ticks\":\"outside\"}},\"type\":\"scatter3d\"}],\"scattercarpet\":[{\"marker\":{\"colorbar\":{\"outlinewidth\":1,\"tickcolor\":\"rgb(36,36,36)\",\"ticks\":\"outside\"}},\"type\":\"scattercarpet\"}],\"scattergeo\":[{\"marker\":{\"colorbar\":{\"outlinewidth\":1,\"tickcolor\":\"rgb(36,36,36)\",\"ticks\":\"outside\"}},\"type\":\"scattergeo\"}],\"scattergl\":[{\"marker\":{\"colorbar\":{\"outlinewidth\":1,\"tickcolor\":\"rgb(36,36,36)\",\"ticks\":\"outside\"}},\"type\":\"scattergl\"}],\"scattermapbox\":[{\"marker\":{\"colorbar\":{\"outlinewidth\":1,\"tickcolor\":\"rgb(36,36,36)\",\"ticks\":\"outside\"}},\"type\":\"scattermapbox\"}],\"scatterpolargl\":[{\"marker\":{\"colorbar\":{\"outlinewidth\":1,\"tickcolor\":\"rgb(36,36,36)\",\"ticks\":\"outside\"}},\"type\":\"scatterpolargl\"}],\"scatterpolar\":[{\"marker\":{\"colorbar\":{\"outlinewidth\":1,\"tickcolor\":\"rgb(36,36,36)\",\"ticks\":\"outside\"}},\"type\":\"scatterpolar\"}],\"scatter\":[{\"fillpattern\":{\"fillmode\":\"overlay\",\"size\":10,\"solidity\":0.2},\"type\":\"scatter\"}],\"scatterternary\":[{\"marker\":{\"colorbar\":{\"outlinewidth\":1,\"tickcolor\":\"rgb(36,36,36)\",\"ticks\":\"outside\"}},\"type\":\"scatterternary\"}],\"surface\":[{\"colorbar\":{\"outlinewidth\":1,\"tickcolor\":\"rgb(36,36,36)\",\"ticks\":\"outside\"},\"colorscale\":[[0.0,\"#440154\"],[0.1111111111111111,\"#482878\"],[0.2222222222222222,\"#3e4989\"],[0.3333333333333333,\"#31688e\"],[0.4444444444444444,\"#26828e\"],[0.5555555555555556,\"#1f9e89\"],[0.6666666666666666,\"#35b779\"],[0.7777777777777778,\"#6ece58\"],[0.8888888888888888,\"#b5de2b\"],[1.0,\"#fde725\"]],\"type\":\"surface\"}],\"table\":[{\"cells\":{\"fill\":{\"color\":\"rgb(237,237,237)\"},\"line\":{\"color\":\"white\"}},\"header\":{\"fill\":{\"color\":\"rgb(217,217,217)\"},\"line\":{\"color\":\"white\"}},\"type\":\"table\"}]},\"layout\":{\"annotationdefaults\":{\"arrowhead\":0,\"arrowwidth\":1},\"autotypenumbers\":\"strict\",\"coloraxis\":{\"colorbar\":{\"outlinewidth\":1,\"tickcolor\":\"rgb(36,36,36)\",\"ticks\":\"outside\"}},\"colorscale\":{\"diverging\":[[0.0,\"rgb(103,0,31)\"],[0.1,\"rgb(178,24,43)\"],[0.2,\"rgb(214,96,77)\"],[0.3,\"rgb(244,165,130)\"],[0.4,\"rgb(253,219,199)\"],[0.5,\"rgb(247,247,247)\"],[0.6,\"rgb(209,229,240)\"],[0.7,\"rgb(146,197,222)\"],[0.8,\"rgb(67,147,195)\"],[0.9,\"rgb(33,102,172)\"],[1.0,\"rgb(5,48,97)\"]],\"sequential\":[[0.0,\"#440154\"],[0.1111111111111111,\"#482878\"],[0.2222222222222222,\"#3e4989\"],[0.3333333333333333,\"#31688e\"],[0.4444444444444444,\"#26828e\"],[0.5555555555555556,\"#1f9e89\"],[0.6666666666666666,\"#35b779\"],[0.7777777777777778,\"#6ece58\"],[0.8888888888888888,\"#b5de2b\"],[1.0,\"#fde725\"]],\"sequentialminus\":[[0.0,\"#440154\"],[0.1111111111111111,\"#482878\"],[0.2222222222222222,\"#3e4989\"],[0.3333333333333333,\"#31688e\"],[0.4444444444444444,\"#26828e\"],[0.5555555555555556,\"#1f9e89\"],[0.6666666666666666,\"#35b779\"],[0.7777777777777778,\"#6ece58\"],[0.8888888888888888,\"#b5de2b\"],[1.0,\"#fde725\"]]},\"colorway\":[\"#1F77B4\",\"#FF7F0E\",\"#2CA02C\",\"#D62728\",\"#9467BD\",\"#8C564B\",\"#E377C2\",\"#7F7F7F\",\"#BCBD22\",\"#17BECF\"],\"font\":{\"color\":\"rgb(36,36,36)\"},\"geo\":{\"bgcolor\":\"white\",\"lakecolor\":\"white\",\"landcolor\":\"white\",\"showlakes\":true,\"showland\":true,\"subunitcolor\":\"white\"},\"hoverlabel\":{\"align\":\"left\"},\"hovermode\":\"closest\",\"mapbox\":{\"style\":\"light\"},\"paper_bgcolor\":\"white\",\"plot_bgcolor\":\"white\",\"polar\":{\"angularaxis\":{\"gridcolor\":\"rgb(232,232,232)\",\"linecolor\":\"rgb(36,36,36)\",\"showgrid\":false,\"showline\":true,\"ticks\":\"outside\"},\"bgcolor\":\"white\",\"radialaxis\":{\"gridcolor\":\"rgb(232,232,232)\",\"linecolor\":\"rgb(36,36,36)\",\"showgrid\":false,\"showline\":true,\"ticks\":\"outside\"}},\"scene\":{\"xaxis\":{\"backgroundcolor\":\"white\",\"gridcolor\":\"rgb(232,232,232)\",\"gridwidth\":2,\"linecolor\":\"rgb(36,36,36)\",\"showbackground\":true,\"showgrid\":false,\"showline\":true,\"ticks\":\"outside\",\"zeroline\":false,\"zerolinecolor\":\"rgb(36,36,36)\"},\"yaxis\":{\"backgroundcolor\":\"white\",\"gridcolor\":\"rgb(232,232,232)\",\"gridwidth\":2,\"linecolor\":\"rgb(36,36,36)\",\"showbackground\":true,\"showgrid\":false,\"showline\":true,\"ticks\":\"outside\",\"zeroline\":false,\"zerolinecolor\":\"rgb(36,36,36)\"},\"zaxis\":{\"backgroundcolor\":\"white\",\"gridcolor\":\"rgb(232,232,232)\",\"gridwidth\":2,\"linecolor\":\"rgb(36,36,36)\",\"showbackground\":true,\"showgrid\":false,\"showline\":true,\"ticks\":\"outside\",\"zeroline\":false,\"zerolinecolor\":\"rgb(36,36,36)\"}},\"shapedefaults\":{\"fillcolor\":\"black\",\"line\":{\"width\":0},\"opacity\":0.3},\"ternary\":{\"aaxis\":{\"gridcolor\":\"rgb(232,232,232)\",\"linecolor\":\"rgb(36,36,36)\",\"showgrid\":false,\"showline\":true,\"ticks\":\"outside\"},\"baxis\":{\"gridcolor\":\"rgb(232,232,232)\",\"linecolor\":\"rgb(36,36,36)\",\"showgrid\":false,\"showline\":true,\"ticks\":\"outside\"},\"bgcolor\":\"white\",\"caxis\":{\"gridcolor\":\"rgb(232,232,232)\",\"linecolor\":\"rgb(36,36,36)\",\"showgrid\":false,\"showline\":true,\"ticks\":\"outside\"}},\"title\":{\"x\":0.05},\"xaxis\":{\"automargin\":true,\"gridcolor\":\"rgb(232,232,232)\",\"linecolor\":\"rgb(36,36,36)\",\"showgrid\":false,\"showline\":true,\"ticks\":\"outside\",\"title\":{\"standoff\":15},\"zeroline\":false,\"zerolinecolor\":\"rgb(36,36,36)\"},\"yaxis\":{\"automargin\":true,\"gridcolor\":\"rgb(232,232,232)\",\"linecolor\":\"rgb(36,36,36)\",\"showgrid\":false,\"showline\":true,\"ticks\":\"outside\",\"title\":{\"standoff\":15},\"zeroline\":false,\"zerolinecolor\":\"rgb(36,36,36)\"}}},\"xaxis\":{\"anchor\":\"y\",\"domain\":[0.0,1.0],\"title\":{\"text\":\"\"}},\"yaxis\":{\"anchor\":\"x\",\"domain\":[0.0,1.0],\"title\":{\"text\":\"Performance Difference (%)\"}},\"height\":500,\"width\":500,\"title\":{\"y\":0.9,\"x\":0.5,\"xanchor\":\"center\",\"yanchor\":\"top\"}},                        {\"responsive\": true}                    ).then(function(){\n",
       "                            \n",
       "var gd = document.getElementById('2d69c68e-1e14-424a-84f8-bdbdcb9af771');\n",
       "var x = new MutationObserver(function (mutations, observer) {{\n",
       "        var display = window.getComputedStyle(gd).display;\n",
       "        if (!display || display === 'none') {{\n",
       "            console.log([gd, 'removed!']);\n",
       "            Plotly.purge(gd);\n",
       "            observer.disconnect();\n",
       "        }}\n",
       "}});\n",
       "\n",
       "// Listen for the removal of the full notebook cells\n",
       "var notebookContainer = gd.closest('#notebook-container');\n",
       "if (notebookContainer) {{\n",
       "    x.observe(notebookContainer, {childList: true});\n",
       "}}\n",
       "\n",
       "// Listen for the clearing of the current output cell\n",
       "var outputEl = gd.closest('.output');\n",
       "if (outputEl) {{\n",
       "    x.observe(outputEl, {childList: true});\n",
       "}}\n",
       "\n",
       "                        })                };                });            </script>        </div>"
      ]
     },
     "metadata": {},
     "output_type": "display_data"
    }
   ],
   "source": [
    "## Get performance drop for each mouse\n",
    "performance_drop = ctb.performance_drop(accuracy, day_list=[5, 10, 15], replace=True)\n",
    "performance_drop = performance_drop.replace({5: 'A to B', 10: 'B to C', 15: 'C to D'})\n",
    "avg_drop = performance_drop.groupby(['day'], as_index=False).agg({'drop': ['mean', 'sem']})\n",
    "avg_drop_df = avg_drop['drop']\n",
    "avg_drop_df.insert(0, 'day', avg_drop['day'])\n",
    "## Plot fig\n",
    "fig = pf.custom_graph_template(x_title='', y_title='Performance Difference (%)')\n",
    "fig.add_trace(go.Bar(x=avg_drop_df['day'], y=avg_drop_df['mean'],\n",
    "                     error_y=dict(type = 'data', array=avg_drop_df['sem'], thickness = 2.5, width = 10),\n",
    "                     marker_color='darkgrey', marker_line_color='black',\n",
    "                     marker_line_width=2, showlegend=False, width=[0.5, 0.5, 0.5]))\n",
    "fig.add_trace(go.Scatter(x=performance_drop['day'], y=performance_drop['drop'], mode='markers', \n",
    "                            marker_color='black', showlegend=False))\n",
    "fig.show()\n",
    "fig.write_image(pjoin(fig_path, 'performance_drop.png'))"
   ]
  },
  {
   "cell_type": "code",
   "execution_count": 144,
   "metadata": {},
   "outputs": [
    {
     "data": {
      "text/html": [
       "<div>\n",
       "<style scoped>\n",
       "    .dataframe tbody tr th:only-of-type {\n",
       "        vertical-align: middle;\n",
       "    }\n",
       "\n",
       "    .dataframe tbody tr th {\n",
       "        vertical-align: top;\n",
       "    }\n",
       "\n",
       "    .dataframe thead th {\n",
       "        text-align: right;\n",
       "    }\n",
       "</style>\n",
       "<table border=\"1\" class=\"dataframe\">\n",
       "  <thead>\n",
       "    <tr style=\"text-align: right;\">\n",
       "      <th></th>\n",
       "      <th>W</th>\n",
       "      <th>pval</th>\n",
       "      <th>equal_var</th>\n",
       "    </tr>\n",
       "  </thead>\n",
       "  <tbody>\n",
       "    <tr>\n",
       "      <th>levene</th>\n",
       "      <td>0.361462</td>\n",
       "      <td>0.710852</td>\n",
       "      <td>True</td>\n",
       "    </tr>\n",
       "  </tbody>\n",
       "</table>\n",
       "</div>"
      ],
      "text/plain": [
       "               W      pval  equal_var\n",
       "levene  0.361462  0.710852       True"
      ]
     },
     "execution_count": 144,
     "metadata": {},
     "output_type": "execute_result"
    }
   ],
   "source": [
    "pg.homoscedasticity(data=performance_drop, dv='drop', group='day')"
   ]
  },
  {
   "cell_type": "code",
   "execution_count": 145,
   "metadata": {},
   "outputs": [
    {
     "data": {
      "text/html": [
       "<div>\n",
       "<style scoped>\n",
       "    .dataframe tbody tr th:only-of-type {\n",
       "        vertical-align: middle;\n",
       "    }\n",
       "\n",
       "    .dataframe tbody tr th {\n",
       "        vertical-align: top;\n",
       "    }\n",
       "\n",
       "    .dataframe thead th {\n",
       "        text-align: right;\n",
       "    }\n",
       "</style>\n",
       "<table border=\"1\" class=\"dataframe\">\n",
       "  <thead>\n",
       "    <tr style=\"text-align: right;\">\n",
       "      <th></th>\n",
       "      <th>Source</th>\n",
       "      <th>SS</th>\n",
       "      <th>DF</th>\n",
       "      <th>MS</th>\n",
       "      <th>F</th>\n",
       "      <th>p-unc</th>\n",
       "      <th>np2</th>\n",
       "    </tr>\n",
       "  </thead>\n",
       "  <tbody>\n",
       "    <tr>\n",
       "      <th>0</th>\n",
       "      <td>day</td>\n",
       "      <td>2276.150957</td>\n",
       "      <td>2</td>\n",
       "      <td>1138.075479</td>\n",
       "      <td>6.818438</td>\n",
       "      <td>0.028526</td>\n",
       "      <td>0.694452</td>\n",
       "    </tr>\n",
       "    <tr>\n",
       "      <th>1</th>\n",
       "      <td>Within</td>\n",
       "      <td>1001.468738</td>\n",
       "      <td>6</td>\n",
       "      <td>166.911456</td>\n",
       "      <td>NaN</td>\n",
       "      <td>NaN</td>\n",
       "      <td>NaN</td>\n",
       "    </tr>\n",
       "  </tbody>\n",
       "</table>\n",
       "</div>"
      ],
      "text/plain": [
       "   Source           SS  DF           MS         F     p-unc       np2\n",
       "0     day  2276.150957   2  1138.075479  6.818438  0.028526  0.694452\n",
       "1  Within  1001.468738   6   166.911456       NaN       NaN       NaN"
      ]
     },
     "execution_count": 145,
     "metadata": {},
     "output_type": "execute_result"
    }
   ],
   "source": [
    "performance_drop.anova(dv='drop', between='day', detailed=True)"
   ]
  },
  {
   "cell_type": "code",
   "execution_count": 146,
   "metadata": {},
   "outputs": [
    {
     "data": {
      "text/html": [
       "<div>\n",
       "<style scoped>\n",
       "    .dataframe tbody tr th:only-of-type {\n",
       "        vertical-align: middle;\n",
       "    }\n",
       "\n",
       "    .dataframe tbody tr th {\n",
       "        vertical-align: top;\n",
       "    }\n",
       "\n",
       "    .dataframe thead th {\n",
       "        text-align: right;\n",
       "    }\n",
       "</style>\n",
       "<table border=\"1\" class=\"dataframe\">\n",
       "  <thead>\n",
       "    <tr style=\"text-align: right;\">\n",
       "      <th></th>\n",
       "      <th>A</th>\n",
       "      <th>B</th>\n",
       "      <th>mean(A)</th>\n",
       "      <th>mean(B)</th>\n",
       "      <th>diff</th>\n",
       "      <th>se</th>\n",
       "      <th>T</th>\n",
       "      <th>p-tukey</th>\n",
       "      <th>hedges</th>\n",
       "    </tr>\n",
       "  </thead>\n",
       "  <tbody>\n",
       "    <tr>\n",
       "      <th>0</th>\n",
       "      <td>A to B</td>\n",
       "      <td>B to C</td>\n",
       "      <td>46.883706</td>\n",
       "      <td>35.481388</td>\n",
       "      <td>11.402318</td>\n",
       "      <td>10.548664</td>\n",
       "      <td>1.080925</td>\n",
       "      <td>0.558701</td>\n",
       "      <td>0.706057</td>\n",
       "    </tr>\n",
       "    <tr>\n",
       "      <th>1</th>\n",
       "      <td>A to B</td>\n",
       "      <td>C to D</td>\n",
       "      <td>46.883706</td>\n",
       "      <td>8.924744</td>\n",
       "      <td>37.958962</td>\n",
       "      <td>10.548664</td>\n",
       "      <td>3.598462</td>\n",
       "      <td>0.026460</td>\n",
       "      <td>2.350505</td>\n",
       "    </tr>\n",
       "    <tr>\n",
       "      <th>2</th>\n",
       "      <td>B to C</td>\n",
       "      <td>C to D</td>\n",
       "      <td>35.481388</td>\n",
       "      <td>8.924744</td>\n",
       "      <td>26.556644</td>\n",
       "      <td>10.548664</td>\n",
       "      <td>2.517536</td>\n",
       "      <td>0.099823</td>\n",
       "      <td>1.644448</td>\n",
       "    </tr>\n",
       "  </tbody>\n",
       "</table>\n",
       "</div>"
      ],
      "text/plain": [
       "        A       B    mean(A)    mean(B)       diff         se         T  \\\n",
       "0  A to B  B to C  46.883706  35.481388  11.402318  10.548664  1.080925   \n",
       "1  A to B  C to D  46.883706   8.924744  37.958962  10.548664  3.598462   \n",
       "2  B to C  C to D  35.481388   8.924744  26.556644  10.548664  2.517536   \n",
       "\n",
       "    p-tukey    hedges  \n",
       "0  0.558701  0.706057  \n",
       "1  0.026460  2.350505  \n",
       "2  0.099823  1.644448  "
      ]
     },
     "execution_count": 146,
     "metadata": {},
     "output_type": "execute_result"
    }
   ],
   "source": [
    "performance_drop.pairwise_tukey(dv='drop', between='day')"
   ]
  },
  {
   "cell_type": "code",
   "execution_count": 37,
   "metadata": {},
   "outputs": [
    {
     "name": "stderr",
     "output_type": "stream",
     "text": [
      "/media/caishuman/csstorage3/Austin/CircleTrack/CircleTrackAnalysis/MultiCon_AfterHours/analysis/../../circletrack_behavior.py:967: RuntimeWarning:\n",
      "\n",
      "invalid value encountered in long_scalars\n",
      "\n",
      "/media/caishuman/csstorage3/Austin/CircleTrack/CircleTrackAnalysis/MultiCon_AfterHours/analysis/../../circletrack_behavior.py:967: RuntimeWarning:\n",
      "\n",
      "invalid value encountered in long_scalars\n",
      "\n",
      "/media/caishuman/csstorage3/Austin/CircleTrack/CircleTrackAnalysis/MultiCon_AfterHours/analysis/../../circletrack_behavior.py:967: RuntimeWarning:\n",
      "\n",
      "invalid value encountered in long_scalars\n",
      "\n"
     ]
    }
   ],
   "source": [
    "## Calculate percent correct during probe\n",
    "experiment_pc_probe = {}\n",
    "for experiment in experiment_list:\n",
    "    bpath = pjoin(behavior_path, experiment)\n",
    "    bpath = pjoin(bpath, 'output/behav')\n",
    "    mouse_pc = {}\n",
    "    for mouse in os.listdir(bpath):\n",
    "        path = pjoin(bpath, mouse)\n",
    "        percent_correct = {}\n",
    "        for session in np.arange(0, len(session_dict[mouse])):\n",
    "            behav = pd.read_feather(pjoin(path, '{}_{}.feat'.format(mouse, session_dict[mouse][session])))\n",
    "            reward_one, reward_two = np.unique(behav['reward_one'])[0], np.unique(behav['reward_two'])[0]\n",
    "            probe_behav = behav.loc[behav['probe']]\n",
    "            pc = ctb.probe_lick_accuracy(probe_behav, port_one=reward_one, port_two=reward_two)\n",
    "            percent_correct[session] = pc\n",
    "        mouse_pc[mouse] = percent_correct\n",
    "    experiment_pc_probe[experiment] = mouse_pc"
   ]
  },
  {
   "cell_type": "code",
   "execution_count": 151,
   "metadata": {},
   "outputs": [
    {
     "data": {
      "application/vnd.plotly.v1+json": {
       "config": {
        "plotlyServerURL": "https://plot.ly"
       },
       "data": [
        {
         "marker": {
          "color": "rgb(179,179,179)",
          "line": {
           "width": 1
          }
         },
         "mode": "markers",
         "name": "mc_EEG1_01",
         "opacity": 0.5,
         "type": "scatter",
         "x": [
          2,
          3,
          4,
          5,
          6,
          7,
          8,
          9,
          10,
          11,
          12,
          13,
          14,
          15,
          16,
          17,
          18,
          19,
          20
         ],
         "y": [
          0,
          12.5,
          null,
          92.15686274509804,
          58.333333333333336,
          18.51851851851852,
          0,
          39.39393939393939,
          30.303030303030305,
          null,
          21.052631578947366,
          0,
          15.384615384615385,
          47.91666666666667,
          36,
          60,
          67.6056338028169,
          16.666666666666664,
          53.03030303030303
         ]
        },
        {
         "marker": {
          "color": "rgb(179,179,179)",
          "line": {
           "width": 1
          }
         },
         "mode": "markers",
         "name": "mc_EEG1_02",
         "opacity": 0.5,
         "type": "scatter",
         "x": [
          2,
          3,
          4,
          5,
          6,
          7,
          8,
          9,
          10,
          11,
          12,
          13,
          14,
          15,
          16,
          17,
          18,
          19,
          20
         ],
         "y": [
          87.5,
          61.66666666666667,
          46.846846846846844,
          77.77777777777779,
          null,
          44.44444444444444,
          41.30434782608695,
          8.333333333333332,
          50,
          42.857142857142854,
          55.769230769230774,
          45.16129032258064,
          62.5,
          66.66666666666666,
          50,
          31.57894736842105,
          60.78431372549019,
          67.74193548387096,
          76.5432098765432
         ]
        },
        {
         "marker": {
          "color": "rgb(179,179,179)",
          "line": {
           "width": 1
          }
         },
         "mode": "markers",
         "name": "mc_EEG2_02",
         "opacity": 0.5,
         "type": "scatter",
         "x": [
          2,
          3,
          4,
          5,
          6,
          7,
          8,
          9,
          10,
          11,
          12,
          13,
          14,
          15,
          16,
          17,
          18,
          19,
          20
         ],
         "y": [
          54.166666666666664,
          66.66666666666666,
          42.857142857142854,
          16.27906976744186,
          0,
          36.36363636363637,
          50,
          0,
          54.23728813559322,
          21.153846153846153,
          83.54430379746836,
          22.330097087378643,
          39.62264150943396,
          47.05882352941176,
          28.985507246376812,
          63.716814159292035,
          85.71428571428571,
          96.55172413793103,
          75.72815533980582
         ]
        },
        {
         "error_y": {
          "array": [
           25.496610764841417,
           17.282600255891424,
           1.9948519948519932,
           23.26930338282847,
           29.166666666666664,
           7.6590589981247215,
           15.423041053473016,
           11.986307359904867,
           7.374030723435154,
           10.851648351648349,
           18.076851430812138,
           13.03720906583943,
           13.602930463259426,
           6.39776830596823,
           6.177072366073293,
           10.150023048822934,
           7.438477984291517,
           23.35749869388665,
           7.705386289695975
          ],
          "type": "data"
         },
         "line": {
          "color": "turquoise"
         },
         "mode": "lines+markers",
         "type": "scatter",
         "x": [
          2,
          3,
          4,
          5,
          6,
          7,
          8,
          9,
          10,
          11,
          12,
          13,
          14,
          15,
          16,
          17,
          18,
          19,
          20
         ],
         "y": [
          47.22222222222222,
          46.944444444444436,
          44.851994851994846,
          62.07123676343923,
          29.166666666666668,
          33.108866442199776,
          30.434782608695652,
          15.909090909090907,
          44.84677281287451,
          32.005494505494504,
          53.4553887152155,
          22.497129136653097,
          39.16908563134978,
          53.88071895424836,
          38.328502415458935,
          51.76525384257102,
          71.36807774753093,
          60.32010876282288,
          68.4338894155507
         ]
        }
       ],
       "layout": {
        "annotations": [
         {
          "font": {
           "size": 16
          },
          "showarrow": false,
          "text": "Lick Accuracy During Probe",
          "x": 0.5,
          "xanchor": "center",
          "xref": "paper",
          "y": 1,
          "yanchor": "bottom",
          "yref": "paper"
         }
        ],
        "height": 500,
        "shapes": [
         {
          "line": {
           "color": "darkgrey",
           "dash": "dash",
           "width": 1
          },
          "opacity": 1,
          "type": "line",
          "x0": 0,
          "x1": 1,
          "xref": "x domain",
          "y0": 25,
          "y1": 25,
          "yref": "y"
         },
         {
          "line": {
           "color": "darkgrey",
           "dash": "dash",
           "width": 1
          },
          "opacity": 1,
          "type": "line",
          "x0": 5.5,
          "x1": 5.5,
          "xref": "x",
          "y0": 0,
          "y1": 1,
          "yref": "y domain"
         },
         {
          "line": {
           "color": "darkgrey",
           "dash": "dash",
           "width": 1
          },
          "opacity": 1,
          "type": "line",
          "x0": 10.5,
          "x1": 10.5,
          "xref": "x",
          "y0": 0,
          "y1": 1,
          "yref": "y domain"
         },
         {
          "line": {
           "color": "darkgrey",
           "dash": "dash",
           "width": 1
          },
          "opacity": 1,
          "type": "line",
          "x0": 15.5,
          "x1": 15.5,
          "xref": "x",
          "y0": 0,
          "y1": 1,
          "yref": "y domain"
         }
        ],
        "showlegend": false,
        "template": {
         "data": {
          "bar": [
           {
            "error_x": {
             "color": "rgb(36,36,36)"
            },
            "error_y": {
             "color": "rgb(36,36,36)"
            },
            "marker": {
             "line": {
              "color": "white",
              "width": 0.5
             },
             "pattern": {
              "fillmode": "overlay",
              "size": 10,
              "solidity": 0.2
             }
            },
            "type": "bar"
           }
          ],
          "barpolar": [
           {
            "marker": {
             "line": {
              "color": "white",
              "width": 0.5
             },
             "pattern": {
              "fillmode": "overlay",
              "size": 10,
              "solidity": 0.2
             }
            },
            "type": "barpolar"
           }
          ],
          "carpet": [
           {
            "aaxis": {
             "endlinecolor": "rgb(36,36,36)",
             "gridcolor": "white",
             "linecolor": "white",
             "minorgridcolor": "white",
             "startlinecolor": "rgb(36,36,36)"
            },
            "baxis": {
             "endlinecolor": "rgb(36,36,36)",
             "gridcolor": "white",
             "linecolor": "white",
             "minorgridcolor": "white",
             "startlinecolor": "rgb(36,36,36)"
            },
            "type": "carpet"
           }
          ],
          "choropleth": [
           {
            "colorbar": {
             "outlinewidth": 1,
             "tickcolor": "rgb(36,36,36)",
             "ticks": "outside"
            },
            "type": "choropleth"
           }
          ],
          "contour": [
           {
            "colorbar": {
             "outlinewidth": 1,
             "tickcolor": "rgb(36,36,36)",
             "ticks": "outside"
            },
            "colorscale": [
             [
              0,
              "#440154"
             ],
             [
              0.1111111111111111,
              "#482878"
             ],
             [
              0.2222222222222222,
              "#3e4989"
             ],
             [
              0.3333333333333333,
              "#31688e"
             ],
             [
              0.4444444444444444,
              "#26828e"
             ],
             [
              0.5555555555555556,
              "#1f9e89"
             ],
             [
              0.6666666666666666,
              "#35b779"
             ],
             [
              0.7777777777777778,
              "#6ece58"
             ],
             [
              0.8888888888888888,
              "#b5de2b"
             ],
             [
              1,
              "#fde725"
             ]
            ],
            "type": "contour"
           }
          ],
          "contourcarpet": [
           {
            "colorbar": {
             "outlinewidth": 1,
             "tickcolor": "rgb(36,36,36)",
             "ticks": "outside"
            },
            "type": "contourcarpet"
           }
          ],
          "heatmap": [
           {
            "colorbar": {
             "outlinewidth": 1,
             "tickcolor": "rgb(36,36,36)",
             "ticks": "outside"
            },
            "colorscale": [
             [
              0,
              "#440154"
             ],
             [
              0.1111111111111111,
              "#482878"
             ],
             [
              0.2222222222222222,
              "#3e4989"
             ],
             [
              0.3333333333333333,
              "#31688e"
             ],
             [
              0.4444444444444444,
              "#26828e"
             ],
             [
              0.5555555555555556,
              "#1f9e89"
             ],
             [
              0.6666666666666666,
              "#35b779"
             ],
             [
              0.7777777777777778,
              "#6ece58"
             ],
             [
              0.8888888888888888,
              "#b5de2b"
             ],
             [
              1,
              "#fde725"
             ]
            ],
            "type": "heatmap"
           }
          ],
          "heatmapgl": [
           {
            "colorbar": {
             "outlinewidth": 1,
             "tickcolor": "rgb(36,36,36)",
             "ticks": "outside"
            },
            "colorscale": [
             [
              0,
              "#440154"
             ],
             [
              0.1111111111111111,
              "#482878"
             ],
             [
              0.2222222222222222,
              "#3e4989"
             ],
             [
              0.3333333333333333,
              "#31688e"
             ],
             [
              0.4444444444444444,
              "#26828e"
             ],
             [
              0.5555555555555556,
              "#1f9e89"
             ],
             [
              0.6666666666666666,
              "#35b779"
             ],
             [
              0.7777777777777778,
              "#6ece58"
             ],
             [
              0.8888888888888888,
              "#b5de2b"
             ],
             [
              1,
              "#fde725"
             ]
            ],
            "type": "heatmapgl"
           }
          ],
          "histogram": [
           {
            "marker": {
             "line": {
              "color": "white",
              "width": 0.6
             }
            },
            "type": "histogram"
           }
          ],
          "histogram2d": [
           {
            "colorbar": {
             "outlinewidth": 1,
             "tickcolor": "rgb(36,36,36)",
             "ticks": "outside"
            },
            "colorscale": [
             [
              0,
              "#440154"
             ],
             [
              0.1111111111111111,
              "#482878"
             ],
             [
              0.2222222222222222,
              "#3e4989"
             ],
             [
              0.3333333333333333,
              "#31688e"
             ],
             [
              0.4444444444444444,
              "#26828e"
             ],
             [
              0.5555555555555556,
              "#1f9e89"
             ],
             [
              0.6666666666666666,
              "#35b779"
             ],
             [
              0.7777777777777778,
              "#6ece58"
             ],
             [
              0.8888888888888888,
              "#b5de2b"
             ],
             [
              1,
              "#fde725"
             ]
            ],
            "type": "histogram2d"
           }
          ],
          "histogram2dcontour": [
           {
            "colorbar": {
             "outlinewidth": 1,
             "tickcolor": "rgb(36,36,36)",
             "ticks": "outside"
            },
            "colorscale": [
             [
              0,
              "#440154"
             ],
             [
              0.1111111111111111,
              "#482878"
             ],
             [
              0.2222222222222222,
              "#3e4989"
             ],
             [
              0.3333333333333333,
              "#31688e"
             ],
             [
              0.4444444444444444,
              "#26828e"
             ],
             [
              0.5555555555555556,
              "#1f9e89"
             ],
             [
              0.6666666666666666,
              "#35b779"
             ],
             [
              0.7777777777777778,
              "#6ece58"
             ],
             [
              0.8888888888888888,
              "#b5de2b"
             ],
             [
              1,
              "#fde725"
             ]
            ],
            "type": "histogram2dcontour"
           }
          ],
          "mesh3d": [
           {
            "colorbar": {
             "outlinewidth": 1,
             "tickcolor": "rgb(36,36,36)",
             "ticks": "outside"
            },
            "type": "mesh3d"
           }
          ],
          "parcoords": [
           {
            "line": {
             "colorbar": {
              "outlinewidth": 1,
              "tickcolor": "rgb(36,36,36)",
              "ticks": "outside"
             }
            },
            "type": "parcoords"
           }
          ],
          "pie": [
           {
            "automargin": true,
            "type": "pie"
           }
          ],
          "scatter": [
           {
            "fillpattern": {
             "fillmode": "overlay",
             "size": 10,
             "solidity": 0.2
            },
            "type": "scatter"
           }
          ],
          "scatter3d": [
           {
            "line": {
             "colorbar": {
              "outlinewidth": 1,
              "tickcolor": "rgb(36,36,36)",
              "ticks": "outside"
             }
            },
            "marker": {
             "colorbar": {
              "outlinewidth": 1,
              "tickcolor": "rgb(36,36,36)",
              "ticks": "outside"
             }
            },
            "type": "scatter3d"
           }
          ],
          "scattercarpet": [
           {
            "marker": {
             "colorbar": {
              "outlinewidth": 1,
              "tickcolor": "rgb(36,36,36)",
              "ticks": "outside"
             }
            },
            "type": "scattercarpet"
           }
          ],
          "scattergeo": [
           {
            "marker": {
             "colorbar": {
              "outlinewidth": 1,
              "tickcolor": "rgb(36,36,36)",
              "ticks": "outside"
             }
            },
            "type": "scattergeo"
           }
          ],
          "scattergl": [
           {
            "marker": {
             "colorbar": {
              "outlinewidth": 1,
              "tickcolor": "rgb(36,36,36)",
              "ticks": "outside"
             }
            },
            "type": "scattergl"
           }
          ],
          "scattermapbox": [
           {
            "marker": {
             "colorbar": {
              "outlinewidth": 1,
              "tickcolor": "rgb(36,36,36)",
              "ticks": "outside"
             }
            },
            "type": "scattermapbox"
           }
          ],
          "scatterpolar": [
           {
            "marker": {
             "colorbar": {
              "outlinewidth": 1,
              "tickcolor": "rgb(36,36,36)",
              "ticks": "outside"
             }
            },
            "type": "scatterpolar"
           }
          ],
          "scatterpolargl": [
           {
            "marker": {
             "colorbar": {
              "outlinewidth": 1,
              "tickcolor": "rgb(36,36,36)",
              "ticks": "outside"
             }
            },
            "type": "scatterpolargl"
           }
          ],
          "scatterternary": [
           {
            "marker": {
             "colorbar": {
              "outlinewidth": 1,
              "tickcolor": "rgb(36,36,36)",
              "ticks": "outside"
             }
            },
            "type": "scatterternary"
           }
          ],
          "surface": [
           {
            "colorbar": {
             "outlinewidth": 1,
             "tickcolor": "rgb(36,36,36)",
             "ticks": "outside"
            },
            "colorscale": [
             [
              0,
              "#440154"
             ],
             [
              0.1111111111111111,
              "#482878"
             ],
             [
              0.2222222222222222,
              "#3e4989"
             ],
             [
              0.3333333333333333,
              "#31688e"
             ],
             [
              0.4444444444444444,
              "#26828e"
             ],
             [
              0.5555555555555556,
              "#1f9e89"
             ],
             [
              0.6666666666666666,
              "#35b779"
             ],
             [
              0.7777777777777778,
              "#6ece58"
             ],
             [
              0.8888888888888888,
              "#b5de2b"
             ],
             [
              1,
              "#fde725"
             ]
            ],
            "type": "surface"
           }
          ],
          "table": [
           {
            "cells": {
             "fill": {
              "color": "rgb(237,237,237)"
             },
             "line": {
              "color": "white"
             }
            },
            "header": {
             "fill": {
              "color": "rgb(217,217,217)"
             },
             "line": {
              "color": "white"
             }
            },
            "type": "table"
           }
          ]
         },
         "layout": {
          "annotationdefaults": {
           "arrowhead": 0,
           "arrowwidth": 1
          },
          "autotypenumbers": "strict",
          "coloraxis": {
           "colorbar": {
            "outlinewidth": 1,
            "tickcolor": "rgb(36,36,36)",
            "ticks": "outside"
           }
          },
          "colorscale": {
           "diverging": [
            [
             0,
             "rgb(103,0,31)"
            ],
            [
             0.1,
             "rgb(178,24,43)"
            ],
            [
             0.2,
             "rgb(214,96,77)"
            ],
            [
             0.3,
             "rgb(244,165,130)"
            ],
            [
             0.4,
             "rgb(253,219,199)"
            ],
            [
             0.5,
             "rgb(247,247,247)"
            ],
            [
             0.6,
             "rgb(209,229,240)"
            ],
            [
             0.7,
             "rgb(146,197,222)"
            ],
            [
             0.8,
             "rgb(67,147,195)"
            ],
            [
             0.9,
             "rgb(33,102,172)"
            ],
            [
             1,
             "rgb(5,48,97)"
            ]
           ],
           "sequential": [
            [
             0,
             "#440154"
            ],
            [
             0.1111111111111111,
             "#482878"
            ],
            [
             0.2222222222222222,
             "#3e4989"
            ],
            [
             0.3333333333333333,
             "#31688e"
            ],
            [
             0.4444444444444444,
             "#26828e"
            ],
            [
             0.5555555555555556,
             "#1f9e89"
            ],
            [
             0.6666666666666666,
             "#35b779"
            ],
            [
             0.7777777777777778,
             "#6ece58"
            ],
            [
             0.8888888888888888,
             "#b5de2b"
            ],
            [
             1,
             "#fde725"
            ]
           ],
           "sequentialminus": [
            [
             0,
             "#440154"
            ],
            [
             0.1111111111111111,
             "#482878"
            ],
            [
             0.2222222222222222,
             "#3e4989"
            ],
            [
             0.3333333333333333,
             "#31688e"
            ],
            [
             0.4444444444444444,
             "#26828e"
            ],
            [
             0.5555555555555556,
             "#1f9e89"
            ],
            [
             0.6666666666666666,
             "#35b779"
            ],
            [
             0.7777777777777778,
             "#6ece58"
            ],
            [
             0.8888888888888888,
             "#b5de2b"
            ],
            [
             1,
             "#fde725"
            ]
           ]
          },
          "colorway": [
           "#1F77B4",
           "#FF7F0E",
           "#2CA02C",
           "#D62728",
           "#9467BD",
           "#8C564B",
           "#E377C2",
           "#7F7F7F",
           "#BCBD22",
           "#17BECF"
          ],
          "font": {
           "color": "rgb(36,36,36)"
          },
          "geo": {
           "bgcolor": "white",
           "lakecolor": "white",
           "landcolor": "white",
           "showlakes": true,
           "showland": true,
           "subunitcolor": "white"
          },
          "hoverlabel": {
           "align": "left"
          },
          "hovermode": "closest",
          "mapbox": {
           "style": "light"
          },
          "paper_bgcolor": "white",
          "plot_bgcolor": "white",
          "polar": {
           "angularaxis": {
            "gridcolor": "rgb(232,232,232)",
            "linecolor": "rgb(36,36,36)",
            "showgrid": false,
            "showline": true,
            "ticks": "outside"
           },
           "bgcolor": "white",
           "radialaxis": {
            "gridcolor": "rgb(232,232,232)",
            "linecolor": "rgb(36,36,36)",
            "showgrid": false,
            "showline": true,
            "ticks": "outside"
           }
          },
          "scene": {
           "xaxis": {
            "backgroundcolor": "white",
            "gridcolor": "rgb(232,232,232)",
            "gridwidth": 2,
            "linecolor": "rgb(36,36,36)",
            "showbackground": true,
            "showgrid": false,
            "showline": true,
            "ticks": "outside",
            "zeroline": false,
            "zerolinecolor": "rgb(36,36,36)"
           },
           "yaxis": {
            "backgroundcolor": "white",
            "gridcolor": "rgb(232,232,232)",
            "gridwidth": 2,
            "linecolor": "rgb(36,36,36)",
            "showbackground": true,
            "showgrid": false,
            "showline": true,
            "ticks": "outside",
            "zeroline": false,
            "zerolinecolor": "rgb(36,36,36)"
           },
           "zaxis": {
            "backgroundcolor": "white",
            "gridcolor": "rgb(232,232,232)",
            "gridwidth": 2,
            "linecolor": "rgb(36,36,36)",
            "showbackground": true,
            "showgrid": false,
            "showline": true,
            "ticks": "outside",
            "zeroline": false,
            "zerolinecolor": "rgb(36,36,36)"
           }
          },
          "shapedefaults": {
           "fillcolor": "black",
           "line": {
            "width": 0
           },
           "opacity": 0.3
          },
          "ternary": {
           "aaxis": {
            "gridcolor": "rgb(232,232,232)",
            "linecolor": "rgb(36,36,36)",
            "showgrid": false,
            "showline": true,
            "ticks": "outside"
           },
           "baxis": {
            "gridcolor": "rgb(232,232,232)",
            "linecolor": "rgb(36,36,36)",
            "showgrid": false,
            "showline": true,
            "ticks": "outside"
           },
           "bgcolor": "white",
           "caxis": {
            "gridcolor": "rgb(232,232,232)",
            "linecolor": "rgb(36,36,36)",
            "showgrid": false,
            "showline": true,
            "ticks": "outside"
           }
          },
          "title": {
           "x": 0.05
          },
          "xaxis": {
           "automargin": true,
           "gridcolor": "rgb(232,232,232)",
           "linecolor": "rgb(36,36,36)",
           "showgrid": false,
           "showline": true,
           "ticks": "outside",
           "title": {
            "standoff": 15
           },
           "zeroline": false,
           "zerolinecolor": "rgb(36,36,36)"
          },
          "yaxis": {
           "automargin": true,
           "gridcolor": "rgb(232,232,232)",
           "linecolor": "rgb(36,36,36)",
           "showgrid": false,
           "showline": true,
           "ticks": "outside",
           "title": {
            "standoff": 15
           },
           "zeroline": false,
           "zerolinecolor": "rgb(36,36,36)"
          }
         }
        },
        "title": {
         "x": 0.5,
         "xanchor": "center",
         "y": 0.9,
         "yanchor": "top"
        },
        "width": 500,
        "xaxis": {
         "anchor": "y",
         "domain": [
          0,
          1
         ],
         "dtick": 2,
         "title": {
          "text": "Day"
         }
        },
        "yaxis": {
         "anchor": "x",
         "domain": [
          0,
          1
         ],
         "title": {
          "text": "Percent Correct (%)"
         }
        }
       }
      },
      "text/html": [
       "<div>                            <div id=\"f055f424-521b-424b-9419-b6771967c76c\" class=\"plotly-graph-div\" style=\"height:500px; width:500px;\"></div>            <script type=\"text/javascript\">                require([\"plotly\"], function(Plotly) {                    window.PLOTLYENV=window.PLOTLYENV || {};                                    if (document.getElementById(\"f055f424-521b-424b-9419-b6771967c76c\")) {                    Plotly.newPlot(                        \"f055f424-521b-424b-9419-b6771967c76c\",                        [{\"marker\":{\"color\":\"rgb(179,179,179)\",\"line\":{\"width\":1}},\"mode\":\"markers\",\"name\":\"mc_EEG1_01\",\"opacity\":0.5,\"x\":[2,3,4,5,6,7,8,9,10,11,12,13,14,15,16,17,18,19,20],\"y\":[0.0,12.5,null,92.15686274509804,58.333333333333336,18.51851851851852,0.0,39.39393939393939,30.303030303030305,null,21.052631578947366,0.0,15.384615384615385,47.91666666666667,36.0,60.0,67.6056338028169,16.666666666666664,53.03030303030303],\"type\":\"scatter\"},{\"marker\":{\"color\":\"rgb(179,179,179)\",\"line\":{\"width\":1}},\"mode\":\"markers\",\"name\":\"mc_EEG1_02\",\"opacity\":0.5,\"x\":[2,3,4,5,6,7,8,9,10,11,12,13,14,15,16,17,18,19,20],\"y\":[87.5,61.66666666666667,46.846846846846844,77.77777777777779,null,44.44444444444444,41.30434782608695,8.333333333333332,50.0,42.857142857142854,55.769230769230774,45.16129032258064,62.5,66.66666666666666,50.0,31.57894736842105,60.78431372549019,67.74193548387096,76.5432098765432],\"type\":\"scatter\"},{\"marker\":{\"color\":\"rgb(179,179,179)\",\"line\":{\"width\":1}},\"mode\":\"markers\",\"name\":\"mc_EEG2_02\",\"opacity\":0.5,\"x\":[2,3,4,5,6,7,8,9,10,11,12,13,14,15,16,17,18,19,20],\"y\":[54.166666666666664,66.66666666666666,42.857142857142854,16.27906976744186,0.0,36.36363636363637,50.0,0.0,54.23728813559322,21.153846153846153,83.54430379746836,22.330097087378643,39.62264150943396,47.05882352941176,28.985507246376812,63.716814159292035,85.71428571428571,96.55172413793103,75.72815533980582],\"type\":\"scatter\"},{\"error_y\":{\"array\":[25.496610764841417,17.282600255891424,1.9948519948519932,23.26930338282847,29.166666666666664,7.6590589981247215,15.423041053473016,11.986307359904867,7.374030723435154,10.851648351648349,18.076851430812138,13.03720906583943,13.602930463259426,6.39776830596823,6.177072366073293,10.150023048822934,7.438477984291517,23.35749869388665,7.705386289695975],\"type\":\"data\"},\"line\":{\"color\":\"turquoise\"},\"mode\":\"lines+markers\",\"x\":[2,3,4,5,6,7,8,9,10,11,12,13,14,15,16,17,18,19,20],\"y\":[47.22222222222222,46.944444444444436,44.851994851994846,62.07123676343923,29.166666666666668,33.108866442199776,30.434782608695652,15.909090909090907,44.84677281287451,32.005494505494504,53.4553887152155,22.497129136653097,39.16908563134978,53.88071895424836,38.328502415458935,51.76525384257102,71.36807774753093,60.32010876282288,68.4338894155507],\"type\":\"scatter\"}],                        {\"template\":{\"data\":{\"barpolar\":[{\"marker\":{\"line\":{\"color\":\"white\",\"width\":0.5},\"pattern\":{\"fillmode\":\"overlay\",\"size\":10,\"solidity\":0.2}},\"type\":\"barpolar\"}],\"bar\":[{\"error_x\":{\"color\":\"rgb(36,36,36)\"},\"error_y\":{\"color\":\"rgb(36,36,36)\"},\"marker\":{\"line\":{\"color\":\"white\",\"width\":0.5},\"pattern\":{\"fillmode\":\"overlay\",\"size\":10,\"solidity\":0.2}},\"type\":\"bar\"}],\"carpet\":[{\"aaxis\":{\"endlinecolor\":\"rgb(36,36,36)\",\"gridcolor\":\"white\",\"linecolor\":\"white\",\"minorgridcolor\":\"white\",\"startlinecolor\":\"rgb(36,36,36)\"},\"baxis\":{\"endlinecolor\":\"rgb(36,36,36)\",\"gridcolor\":\"white\",\"linecolor\":\"white\",\"minorgridcolor\":\"white\",\"startlinecolor\":\"rgb(36,36,36)\"},\"type\":\"carpet\"}],\"choropleth\":[{\"colorbar\":{\"outlinewidth\":1,\"tickcolor\":\"rgb(36,36,36)\",\"ticks\":\"outside\"},\"type\":\"choropleth\"}],\"contourcarpet\":[{\"colorbar\":{\"outlinewidth\":1,\"tickcolor\":\"rgb(36,36,36)\",\"ticks\":\"outside\"},\"type\":\"contourcarpet\"}],\"contour\":[{\"colorbar\":{\"outlinewidth\":1,\"tickcolor\":\"rgb(36,36,36)\",\"ticks\":\"outside\"},\"colorscale\":[[0.0,\"#440154\"],[0.1111111111111111,\"#482878\"],[0.2222222222222222,\"#3e4989\"],[0.3333333333333333,\"#31688e\"],[0.4444444444444444,\"#26828e\"],[0.5555555555555556,\"#1f9e89\"],[0.6666666666666666,\"#35b779\"],[0.7777777777777778,\"#6ece58\"],[0.8888888888888888,\"#b5de2b\"],[1.0,\"#fde725\"]],\"type\":\"contour\"}],\"heatmapgl\":[{\"colorbar\":{\"outlinewidth\":1,\"tickcolor\":\"rgb(36,36,36)\",\"ticks\":\"outside\"},\"colorscale\":[[0.0,\"#440154\"],[0.1111111111111111,\"#482878\"],[0.2222222222222222,\"#3e4989\"],[0.3333333333333333,\"#31688e\"],[0.4444444444444444,\"#26828e\"],[0.5555555555555556,\"#1f9e89\"],[0.6666666666666666,\"#35b779\"],[0.7777777777777778,\"#6ece58\"],[0.8888888888888888,\"#b5de2b\"],[1.0,\"#fde725\"]],\"type\":\"heatmapgl\"}],\"heatmap\":[{\"colorbar\":{\"outlinewidth\":1,\"tickcolor\":\"rgb(36,36,36)\",\"ticks\":\"outside\"},\"colorscale\":[[0.0,\"#440154\"],[0.1111111111111111,\"#482878\"],[0.2222222222222222,\"#3e4989\"],[0.3333333333333333,\"#31688e\"],[0.4444444444444444,\"#26828e\"],[0.5555555555555556,\"#1f9e89\"],[0.6666666666666666,\"#35b779\"],[0.7777777777777778,\"#6ece58\"],[0.8888888888888888,\"#b5de2b\"],[1.0,\"#fde725\"]],\"type\":\"heatmap\"}],\"histogram2dcontour\":[{\"colorbar\":{\"outlinewidth\":1,\"tickcolor\":\"rgb(36,36,36)\",\"ticks\":\"outside\"},\"colorscale\":[[0.0,\"#440154\"],[0.1111111111111111,\"#482878\"],[0.2222222222222222,\"#3e4989\"],[0.3333333333333333,\"#31688e\"],[0.4444444444444444,\"#26828e\"],[0.5555555555555556,\"#1f9e89\"],[0.6666666666666666,\"#35b779\"],[0.7777777777777778,\"#6ece58\"],[0.8888888888888888,\"#b5de2b\"],[1.0,\"#fde725\"]],\"type\":\"histogram2dcontour\"}],\"histogram2d\":[{\"colorbar\":{\"outlinewidth\":1,\"tickcolor\":\"rgb(36,36,36)\",\"ticks\":\"outside\"},\"colorscale\":[[0.0,\"#440154\"],[0.1111111111111111,\"#482878\"],[0.2222222222222222,\"#3e4989\"],[0.3333333333333333,\"#31688e\"],[0.4444444444444444,\"#26828e\"],[0.5555555555555556,\"#1f9e89\"],[0.6666666666666666,\"#35b779\"],[0.7777777777777778,\"#6ece58\"],[0.8888888888888888,\"#b5de2b\"],[1.0,\"#fde725\"]],\"type\":\"histogram2d\"}],\"histogram\":[{\"marker\":{\"line\":{\"color\":\"white\",\"width\":0.6}},\"type\":\"histogram\"}],\"mesh3d\":[{\"colorbar\":{\"outlinewidth\":1,\"tickcolor\":\"rgb(36,36,36)\",\"ticks\":\"outside\"},\"type\":\"mesh3d\"}],\"parcoords\":[{\"line\":{\"colorbar\":{\"outlinewidth\":1,\"tickcolor\":\"rgb(36,36,36)\",\"ticks\":\"outside\"}},\"type\":\"parcoords\"}],\"pie\":[{\"automargin\":true,\"type\":\"pie\"}],\"scatter3d\":[{\"line\":{\"colorbar\":{\"outlinewidth\":1,\"tickcolor\":\"rgb(36,36,36)\",\"ticks\":\"outside\"}},\"marker\":{\"colorbar\":{\"outlinewidth\":1,\"tickcolor\":\"rgb(36,36,36)\",\"ticks\":\"outside\"}},\"type\":\"scatter3d\"}],\"scattercarpet\":[{\"marker\":{\"colorbar\":{\"outlinewidth\":1,\"tickcolor\":\"rgb(36,36,36)\",\"ticks\":\"outside\"}},\"type\":\"scattercarpet\"}],\"scattergeo\":[{\"marker\":{\"colorbar\":{\"outlinewidth\":1,\"tickcolor\":\"rgb(36,36,36)\",\"ticks\":\"outside\"}},\"type\":\"scattergeo\"}],\"scattergl\":[{\"marker\":{\"colorbar\":{\"outlinewidth\":1,\"tickcolor\":\"rgb(36,36,36)\",\"ticks\":\"outside\"}},\"type\":\"scattergl\"}],\"scattermapbox\":[{\"marker\":{\"colorbar\":{\"outlinewidth\":1,\"tickcolor\":\"rgb(36,36,36)\",\"ticks\":\"outside\"}},\"type\":\"scattermapbox\"}],\"scatterpolargl\":[{\"marker\":{\"colorbar\":{\"outlinewidth\":1,\"tickcolor\":\"rgb(36,36,36)\",\"ticks\":\"outside\"}},\"type\":\"scatterpolargl\"}],\"scatterpolar\":[{\"marker\":{\"colorbar\":{\"outlinewidth\":1,\"tickcolor\":\"rgb(36,36,36)\",\"ticks\":\"outside\"}},\"type\":\"scatterpolar\"}],\"scatter\":[{\"fillpattern\":{\"fillmode\":\"overlay\",\"size\":10,\"solidity\":0.2},\"type\":\"scatter\"}],\"scatterternary\":[{\"marker\":{\"colorbar\":{\"outlinewidth\":1,\"tickcolor\":\"rgb(36,36,36)\",\"ticks\":\"outside\"}},\"type\":\"scatterternary\"}],\"surface\":[{\"colorbar\":{\"outlinewidth\":1,\"tickcolor\":\"rgb(36,36,36)\",\"ticks\":\"outside\"},\"colorscale\":[[0.0,\"#440154\"],[0.1111111111111111,\"#482878\"],[0.2222222222222222,\"#3e4989\"],[0.3333333333333333,\"#31688e\"],[0.4444444444444444,\"#26828e\"],[0.5555555555555556,\"#1f9e89\"],[0.6666666666666666,\"#35b779\"],[0.7777777777777778,\"#6ece58\"],[0.8888888888888888,\"#b5de2b\"],[1.0,\"#fde725\"]],\"type\":\"surface\"}],\"table\":[{\"cells\":{\"fill\":{\"color\":\"rgb(237,237,237)\"},\"line\":{\"color\":\"white\"}},\"header\":{\"fill\":{\"color\":\"rgb(217,217,217)\"},\"line\":{\"color\":\"white\"}},\"type\":\"table\"}]},\"layout\":{\"annotationdefaults\":{\"arrowhead\":0,\"arrowwidth\":1},\"autotypenumbers\":\"strict\",\"coloraxis\":{\"colorbar\":{\"outlinewidth\":1,\"tickcolor\":\"rgb(36,36,36)\",\"ticks\":\"outside\"}},\"colorscale\":{\"diverging\":[[0.0,\"rgb(103,0,31)\"],[0.1,\"rgb(178,24,43)\"],[0.2,\"rgb(214,96,77)\"],[0.3,\"rgb(244,165,130)\"],[0.4,\"rgb(253,219,199)\"],[0.5,\"rgb(247,247,247)\"],[0.6,\"rgb(209,229,240)\"],[0.7,\"rgb(146,197,222)\"],[0.8,\"rgb(67,147,195)\"],[0.9,\"rgb(33,102,172)\"],[1.0,\"rgb(5,48,97)\"]],\"sequential\":[[0.0,\"#440154\"],[0.1111111111111111,\"#482878\"],[0.2222222222222222,\"#3e4989\"],[0.3333333333333333,\"#31688e\"],[0.4444444444444444,\"#26828e\"],[0.5555555555555556,\"#1f9e89\"],[0.6666666666666666,\"#35b779\"],[0.7777777777777778,\"#6ece58\"],[0.8888888888888888,\"#b5de2b\"],[1.0,\"#fde725\"]],\"sequentialminus\":[[0.0,\"#440154\"],[0.1111111111111111,\"#482878\"],[0.2222222222222222,\"#3e4989\"],[0.3333333333333333,\"#31688e\"],[0.4444444444444444,\"#26828e\"],[0.5555555555555556,\"#1f9e89\"],[0.6666666666666666,\"#35b779\"],[0.7777777777777778,\"#6ece58\"],[0.8888888888888888,\"#b5de2b\"],[1.0,\"#fde725\"]]},\"colorway\":[\"#1F77B4\",\"#FF7F0E\",\"#2CA02C\",\"#D62728\",\"#9467BD\",\"#8C564B\",\"#E377C2\",\"#7F7F7F\",\"#BCBD22\",\"#17BECF\"],\"font\":{\"color\":\"rgb(36,36,36)\"},\"geo\":{\"bgcolor\":\"white\",\"lakecolor\":\"white\",\"landcolor\":\"white\",\"showlakes\":true,\"showland\":true,\"subunitcolor\":\"white\"},\"hoverlabel\":{\"align\":\"left\"},\"hovermode\":\"closest\",\"mapbox\":{\"style\":\"light\"},\"paper_bgcolor\":\"white\",\"plot_bgcolor\":\"white\",\"polar\":{\"angularaxis\":{\"gridcolor\":\"rgb(232,232,232)\",\"linecolor\":\"rgb(36,36,36)\",\"showgrid\":false,\"showline\":true,\"ticks\":\"outside\"},\"bgcolor\":\"white\",\"radialaxis\":{\"gridcolor\":\"rgb(232,232,232)\",\"linecolor\":\"rgb(36,36,36)\",\"showgrid\":false,\"showline\":true,\"ticks\":\"outside\"}},\"scene\":{\"xaxis\":{\"backgroundcolor\":\"white\",\"gridcolor\":\"rgb(232,232,232)\",\"gridwidth\":2,\"linecolor\":\"rgb(36,36,36)\",\"showbackground\":true,\"showgrid\":false,\"showline\":true,\"ticks\":\"outside\",\"zeroline\":false,\"zerolinecolor\":\"rgb(36,36,36)\"},\"yaxis\":{\"backgroundcolor\":\"white\",\"gridcolor\":\"rgb(232,232,232)\",\"gridwidth\":2,\"linecolor\":\"rgb(36,36,36)\",\"showbackground\":true,\"showgrid\":false,\"showline\":true,\"ticks\":\"outside\",\"zeroline\":false,\"zerolinecolor\":\"rgb(36,36,36)\"},\"zaxis\":{\"backgroundcolor\":\"white\",\"gridcolor\":\"rgb(232,232,232)\",\"gridwidth\":2,\"linecolor\":\"rgb(36,36,36)\",\"showbackground\":true,\"showgrid\":false,\"showline\":true,\"ticks\":\"outside\",\"zeroline\":false,\"zerolinecolor\":\"rgb(36,36,36)\"}},\"shapedefaults\":{\"fillcolor\":\"black\",\"line\":{\"width\":0},\"opacity\":0.3},\"ternary\":{\"aaxis\":{\"gridcolor\":\"rgb(232,232,232)\",\"linecolor\":\"rgb(36,36,36)\",\"showgrid\":false,\"showline\":true,\"ticks\":\"outside\"},\"baxis\":{\"gridcolor\":\"rgb(232,232,232)\",\"linecolor\":\"rgb(36,36,36)\",\"showgrid\":false,\"showline\":true,\"ticks\":\"outside\"},\"bgcolor\":\"white\",\"caxis\":{\"gridcolor\":\"rgb(232,232,232)\",\"linecolor\":\"rgb(36,36,36)\",\"showgrid\":false,\"showline\":true,\"ticks\":\"outside\"}},\"title\":{\"x\":0.05},\"xaxis\":{\"automargin\":true,\"gridcolor\":\"rgb(232,232,232)\",\"linecolor\":\"rgb(36,36,36)\",\"showgrid\":false,\"showline\":true,\"ticks\":\"outside\",\"title\":{\"standoff\":15},\"zeroline\":false,\"zerolinecolor\":\"rgb(36,36,36)\"},\"yaxis\":{\"automargin\":true,\"gridcolor\":\"rgb(232,232,232)\",\"linecolor\":\"rgb(36,36,36)\",\"showgrid\":false,\"showline\":true,\"ticks\":\"outside\",\"title\":{\"standoff\":15},\"zeroline\":false,\"zerolinecolor\":\"rgb(36,36,36)\"}}},\"xaxis\":{\"anchor\":\"y\",\"domain\":[0.0,1.0],\"title\":{\"text\":\"Day\"},\"dtick\":2},\"yaxis\":{\"anchor\":\"x\",\"domain\":[0.0,1.0],\"title\":{\"text\":\"Percent Correct (%)\"}},\"annotations\":[{\"font\":{\"size\":16},\"showarrow\":false,\"text\":\"Lick Accuracy During Probe\",\"x\":0.5,\"xanchor\":\"center\",\"xref\":\"paper\",\"y\":1.0,\"yanchor\":\"bottom\",\"yref\":\"paper\"}],\"height\":500,\"width\":500,\"title\":{\"y\":0.9,\"x\":0.5,\"xanchor\":\"center\",\"yanchor\":\"top\"},\"shapes\":[{\"line\":{\"color\":\"darkgrey\",\"dash\":\"dash\",\"width\":1},\"opacity\":1,\"type\":\"line\",\"x0\":0,\"x1\":1,\"xref\":\"x domain\",\"y0\":25,\"y1\":25,\"yref\":\"y\"},{\"line\":{\"color\":\"darkgrey\",\"dash\":\"dash\",\"width\":1},\"opacity\":1,\"type\":\"line\",\"x0\":5.5,\"x1\":5.5,\"xref\":\"x\",\"y0\":0,\"y1\":1,\"yref\":\"y domain\"},{\"line\":{\"color\":\"darkgrey\",\"dash\":\"dash\",\"width\":1},\"opacity\":1,\"type\":\"line\",\"x0\":10.5,\"x1\":10.5,\"xref\":\"x\",\"y0\":0,\"y1\":1,\"yref\":\"y domain\"},{\"line\":{\"color\":\"darkgrey\",\"dash\":\"dash\",\"width\":1},\"opacity\":1,\"type\":\"line\",\"x0\":15.5,\"x1\":15.5,\"xref\":\"x\",\"y0\":0,\"y1\":1,\"yref\":\"y domain\"}],\"showlegend\":false},                        {\"responsive\": true}                    ).then(function(){\n",
       "                            \n",
       "var gd = document.getElementById('f055f424-521b-424b-9419-b6771967c76c');\n",
       "var x = new MutationObserver(function (mutations, observer) {{\n",
       "        var display = window.getComputedStyle(gd).display;\n",
       "        if (!display || display === 'none') {{\n",
       "            console.log([gd, 'removed!']);\n",
       "            Plotly.purge(gd);\n",
       "            observer.disconnect();\n",
       "        }}\n",
       "}});\n",
       "\n",
       "// Listen for the removal of the full notebook cells\n",
       "var notebookContainer = gd.closest('#notebook-container');\n",
       "if (notebookContainer) {{\n",
       "    x.observe(notebookContainer, {childList: true});\n",
       "}}\n",
       "\n",
       "// Listen for the clearing of the current output cell\n",
       "var outputEl = gd.closest('.output');\n",
       "if (outputEl) {{\n",
       "    x.observe(outputEl, {childList: true});\n",
       "}}\n",
       "\n",
       "                        })                };                });            </script>        </div>"
      ]
     },
     "metadata": {},
     "output_type": "display_data"
    }
   ],
   "source": [
    "## Percent correct probe\n",
    "accuracy_probe = pd.DataFrame()\n",
    "for experiment in experiment_pc_probe:\n",
    "    for mouse in experiment_pc_probe[experiment]:\n",
    "        if mouse == 'mc_EEG2_01':\n",
    "            next\n",
    "        else:\n",
    "            df = pd.DataFrame(experiment_pc_probe[experiment][mouse], index=[0]).T.rename(columns={0: 'percent_correct'})\n",
    "            df.insert(0, 'mouse', mouse)\n",
    "            df.insert(1, 'day', [x for x in np.arange(1, 21)])\n",
    "            accuracy_probe = pd.concat([accuracy_probe, df], axis=0, ignore_index=True)\n",
    "accuracy_probe = accuracy_probe[accuracy_probe['day'] > 1]\n",
    "fig = pf.plot_behavior_across_days(accuracy_probe, x_var='day', y_var='percent_correct', groupby_var=['day'], titles=['Lick Accuracy During Probe'],\n",
    "                                   x_title='Day', y_title='Percent Correct (%)', template='simple_white', expert_line=False)\n",
    "fig.update_xaxes(dtick=2)                                   \n",
    "fig.show()\n",
    "fig.write_image(pjoin(fig_path, 'probe_accuracy.png'))"
   ]
  },
  {
   "cell_type": "code",
   "execution_count": 39,
   "metadata": {},
   "outputs": [
    {
     "name": "stderr",
     "output_type": "stream",
     "text": [
      "/tmp/ipykernel_27202/17010159.py:11: RuntimeWarning:\n",
      "\n",
      "Mean of empty slice\n",
      "\n"
     ]
    },
    {
     "data": {
      "application/vnd.plotly.v1+json": {
       "config": {
        "plotlyServerURL": "https://plot.ly"
       },
       "data": [
        {
         "marker": {
          "color": "rgb(179,179,179)",
          "line": {
           "width": 1
          }
         },
         "mode": "markers",
         "name": "mc_EEG1_01",
         "opacity": 0.5,
         "type": "scatter",
         "x": [
          1,
          2,
          3,
          4,
          5,
          6,
          7,
          8,
          9,
          10,
          11,
          12,
          13,
          14,
          15,
          16,
          17,
          18,
          19,
          20
         ],
         "y": [
          0.6447254171635983,
          0.26079825488222264,
          0.5606844758190366,
          null,
          1.3330869625578838,
          -0.06740509532654723,
          0.0345009942391031,
          1.5548538862268257,
          0.5862409673760162,
          2.2414245026320554,
          1.5927402129663264,
          null,
          0.5239644415790374,
          1.9922297686606307,
          1.8658941060914955,
          2.121574889514886,
          2.2600858841355924,
          2.170821546221289,
          1.68055580002142,
          2.432655358787224
         ]
        },
        {
         "marker": {
          "color": "rgb(179,179,179)",
          "line": {
           "width": 1
          }
         },
         "mode": "markers",
         "name": "mc_EEG1_02",
         "opacity": 0.5,
         "type": "scatter",
         "x": [
          1,
          2,
          3,
          4,
          5,
          6,
          7,
          8,
          9,
          10,
          11,
          12,
          13,
          14,
          15,
          16,
          17,
          18,
          19,
          20
         ],
         "y": [
          0.32941343034828485,
          0.8896139772804106,
          1.8699259454581094,
          1.9670035891254147,
          2.197781927839693,
          -0.2530093912497345,
          0.8993727912248131,
          1.5680241307477107,
          1.9672414683193435,
          2.142278811250084,
          1.7197123662446667,
          2.2002944556742126,
          2.112721952084854,
          2.3518930041675445,
          1.9351449977804942,
          1.705729409582336,
          2.266801108058676,
          2.3476662574234366,
          2.387270811022793,
          2.2938613697686328
         ]
        },
        {
         "marker": {
          "color": "rgb(179,179,179)",
          "line": {
           "width": 1
          }
         },
         "mode": "markers",
         "name": "mc_EEG2_02",
         "opacity": 0.5,
         "type": "scatter",
         "x": [
          1,
          2,
          3,
          4,
          5,
          6,
          7,
          8,
          9,
          10,
          11,
          12,
          13,
          14,
          15,
          16,
          17,
          18,
          19,
          20
         ],
         "y": [
          0.2747825046316159,
          1.3492839511522587,
          1.6706739389278045,
          2.0211760962763012,
          2.077609707950516,
          0.1558650007066471,
          1.606916926968141,
          1.498654666089145,
          1.4907165912574305,
          1.1237357190367916,
          1.063227437930988,
          2.2159172973286028,
          1.9175837952308203,
          1.9311730630378126,
          2.1912551850617508,
          1.666542994339606,
          2.2866355837342334,
          2.156372679068823,
          2.2931945537699283,
          2.157957061692529
         ]
        },
        {
         "error_y": {
          "array": [
           0.1152928507002751,
           0.3154808330679946,
           0.4072871766089433,
           0.02708625357544325,
           0.27043718348709456,
           0.11819869308487735,
           0.4546741076337714,
           0.021270650504391368,
           0.40499070608405235,
           0.3571871681617734,
           0.20103595141952696,
           0.007811420827195103,
           0.5002446196235644,
           0.13125268952609828,
           0.098952274056641,
           0.14558637450491105,
           0.007970038360564001,
           0.06149799218125978,
           0.22156296967327163,
           0.07930003039373901
          ],
          "type": "data"
         },
         "line": {
          "color": "turquoise"
         },
         "mode": "lines+markers",
         "type": "scatter",
         "x": [
          1,
          2,
          3,
          4,
          5,
          6,
          7,
          8,
          9,
          10,
          11,
          12,
          13,
          14,
          15,
          16,
          17,
          18,
          19,
          20
         ],
         "y": [
          0.4163071173811663,
          0.833232061104964,
          1.3670947867349834,
          1.994089842700858,
          1.8694928661160308,
          -0.05484982862321155,
          0.8469302374773524,
          1.5405108943545605,
          1.3480663423175967,
          1.835813010972977,
          1.4585600057139938,
          2.2081058765014077,
          1.5180900629649041,
          2.091765278621996,
          1.99743142964458,
          1.8312824311456095,
          2.271174191976167,
          2.2249534942378495,
          2.1203403882713805,
          2.294824596749462
         ]
        }
       ],
       "layout": {
        "height": 500,
        "shapes": [
         {
          "line": {
           "color": "darkgrey",
           "dash": "dash",
           "width": 1
          },
          "opacity": 1,
          "type": "line",
          "x0": 5.5,
          "x1": 5.5,
          "xref": "x",
          "y0": 0,
          "y1": 1,
          "yref": "y domain"
         },
         {
          "line": {
           "color": "darkgrey",
           "dash": "dash",
           "width": 1
          },
          "opacity": 1,
          "type": "line",
          "x0": 10.5,
          "x1": 10.5,
          "xref": "x",
          "y0": 0,
          "y1": 1,
          "yref": "y domain"
         },
         {
          "line": {
           "color": "darkgrey",
           "dash": "dash",
           "width": 1
          },
          "opacity": 1,
          "type": "line",
          "x0": 15.5,
          "x1": 15.5,
          "xref": "x",
          "y0": 0,
          "y1": 1,
          "yref": "y domain"
         }
        ],
        "showlegend": false,
        "template": {
         "data": {
          "bar": [
           {
            "error_x": {
             "color": "rgb(36,36,36)"
            },
            "error_y": {
             "color": "rgb(36,36,36)"
            },
            "marker": {
             "line": {
              "color": "white",
              "width": 0.5
             },
             "pattern": {
              "fillmode": "overlay",
              "size": 10,
              "solidity": 0.2
             }
            },
            "type": "bar"
           }
          ],
          "barpolar": [
           {
            "marker": {
             "line": {
              "color": "white",
              "width": 0.5
             },
             "pattern": {
              "fillmode": "overlay",
              "size": 10,
              "solidity": 0.2
             }
            },
            "type": "barpolar"
           }
          ],
          "carpet": [
           {
            "aaxis": {
             "endlinecolor": "rgb(36,36,36)",
             "gridcolor": "white",
             "linecolor": "white",
             "minorgridcolor": "white",
             "startlinecolor": "rgb(36,36,36)"
            },
            "baxis": {
             "endlinecolor": "rgb(36,36,36)",
             "gridcolor": "white",
             "linecolor": "white",
             "minorgridcolor": "white",
             "startlinecolor": "rgb(36,36,36)"
            },
            "type": "carpet"
           }
          ],
          "choropleth": [
           {
            "colorbar": {
             "outlinewidth": 1,
             "tickcolor": "rgb(36,36,36)",
             "ticks": "outside"
            },
            "type": "choropleth"
           }
          ],
          "contour": [
           {
            "colorbar": {
             "outlinewidth": 1,
             "tickcolor": "rgb(36,36,36)",
             "ticks": "outside"
            },
            "colorscale": [
             [
              0,
              "#440154"
             ],
             [
              0.1111111111111111,
              "#482878"
             ],
             [
              0.2222222222222222,
              "#3e4989"
             ],
             [
              0.3333333333333333,
              "#31688e"
             ],
             [
              0.4444444444444444,
              "#26828e"
             ],
             [
              0.5555555555555556,
              "#1f9e89"
             ],
             [
              0.6666666666666666,
              "#35b779"
             ],
             [
              0.7777777777777778,
              "#6ece58"
             ],
             [
              0.8888888888888888,
              "#b5de2b"
             ],
             [
              1,
              "#fde725"
             ]
            ],
            "type": "contour"
           }
          ],
          "contourcarpet": [
           {
            "colorbar": {
             "outlinewidth": 1,
             "tickcolor": "rgb(36,36,36)",
             "ticks": "outside"
            },
            "type": "contourcarpet"
           }
          ],
          "heatmap": [
           {
            "colorbar": {
             "outlinewidth": 1,
             "tickcolor": "rgb(36,36,36)",
             "ticks": "outside"
            },
            "colorscale": [
             [
              0,
              "#440154"
             ],
             [
              0.1111111111111111,
              "#482878"
             ],
             [
              0.2222222222222222,
              "#3e4989"
             ],
             [
              0.3333333333333333,
              "#31688e"
             ],
             [
              0.4444444444444444,
              "#26828e"
             ],
             [
              0.5555555555555556,
              "#1f9e89"
             ],
             [
              0.6666666666666666,
              "#35b779"
             ],
             [
              0.7777777777777778,
              "#6ece58"
             ],
             [
              0.8888888888888888,
              "#b5de2b"
             ],
             [
              1,
              "#fde725"
             ]
            ],
            "type": "heatmap"
           }
          ],
          "heatmapgl": [
           {
            "colorbar": {
             "outlinewidth": 1,
             "tickcolor": "rgb(36,36,36)",
             "ticks": "outside"
            },
            "colorscale": [
             [
              0,
              "#440154"
             ],
             [
              0.1111111111111111,
              "#482878"
             ],
             [
              0.2222222222222222,
              "#3e4989"
             ],
             [
              0.3333333333333333,
              "#31688e"
             ],
             [
              0.4444444444444444,
              "#26828e"
             ],
             [
              0.5555555555555556,
              "#1f9e89"
             ],
             [
              0.6666666666666666,
              "#35b779"
             ],
             [
              0.7777777777777778,
              "#6ece58"
             ],
             [
              0.8888888888888888,
              "#b5de2b"
             ],
             [
              1,
              "#fde725"
             ]
            ],
            "type": "heatmapgl"
           }
          ],
          "histogram": [
           {
            "marker": {
             "line": {
              "color": "white",
              "width": 0.6
             }
            },
            "type": "histogram"
           }
          ],
          "histogram2d": [
           {
            "colorbar": {
             "outlinewidth": 1,
             "tickcolor": "rgb(36,36,36)",
             "ticks": "outside"
            },
            "colorscale": [
             [
              0,
              "#440154"
             ],
             [
              0.1111111111111111,
              "#482878"
             ],
             [
              0.2222222222222222,
              "#3e4989"
             ],
             [
              0.3333333333333333,
              "#31688e"
             ],
             [
              0.4444444444444444,
              "#26828e"
             ],
             [
              0.5555555555555556,
              "#1f9e89"
             ],
             [
              0.6666666666666666,
              "#35b779"
             ],
             [
              0.7777777777777778,
              "#6ece58"
             ],
             [
              0.8888888888888888,
              "#b5de2b"
             ],
             [
              1,
              "#fde725"
             ]
            ],
            "type": "histogram2d"
           }
          ],
          "histogram2dcontour": [
           {
            "colorbar": {
             "outlinewidth": 1,
             "tickcolor": "rgb(36,36,36)",
             "ticks": "outside"
            },
            "colorscale": [
             [
              0,
              "#440154"
             ],
             [
              0.1111111111111111,
              "#482878"
             ],
             [
              0.2222222222222222,
              "#3e4989"
             ],
             [
              0.3333333333333333,
              "#31688e"
             ],
             [
              0.4444444444444444,
              "#26828e"
             ],
             [
              0.5555555555555556,
              "#1f9e89"
             ],
             [
              0.6666666666666666,
              "#35b779"
             ],
             [
              0.7777777777777778,
              "#6ece58"
             ],
             [
              0.8888888888888888,
              "#b5de2b"
             ],
             [
              1,
              "#fde725"
             ]
            ],
            "type": "histogram2dcontour"
           }
          ],
          "mesh3d": [
           {
            "colorbar": {
             "outlinewidth": 1,
             "tickcolor": "rgb(36,36,36)",
             "ticks": "outside"
            },
            "type": "mesh3d"
           }
          ],
          "parcoords": [
           {
            "line": {
             "colorbar": {
              "outlinewidth": 1,
              "tickcolor": "rgb(36,36,36)",
              "ticks": "outside"
             }
            },
            "type": "parcoords"
           }
          ],
          "pie": [
           {
            "automargin": true,
            "type": "pie"
           }
          ],
          "scatter": [
           {
            "fillpattern": {
             "fillmode": "overlay",
             "size": 10,
             "solidity": 0.2
            },
            "type": "scatter"
           }
          ],
          "scatter3d": [
           {
            "line": {
             "colorbar": {
              "outlinewidth": 1,
              "tickcolor": "rgb(36,36,36)",
              "ticks": "outside"
             }
            },
            "marker": {
             "colorbar": {
              "outlinewidth": 1,
              "tickcolor": "rgb(36,36,36)",
              "ticks": "outside"
             }
            },
            "type": "scatter3d"
           }
          ],
          "scattercarpet": [
           {
            "marker": {
             "colorbar": {
              "outlinewidth": 1,
              "tickcolor": "rgb(36,36,36)",
              "ticks": "outside"
             }
            },
            "type": "scattercarpet"
           }
          ],
          "scattergeo": [
           {
            "marker": {
             "colorbar": {
              "outlinewidth": 1,
              "tickcolor": "rgb(36,36,36)",
              "ticks": "outside"
             }
            },
            "type": "scattergeo"
           }
          ],
          "scattergl": [
           {
            "marker": {
             "colorbar": {
              "outlinewidth": 1,
              "tickcolor": "rgb(36,36,36)",
              "ticks": "outside"
             }
            },
            "type": "scattergl"
           }
          ],
          "scattermapbox": [
           {
            "marker": {
             "colorbar": {
              "outlinewidth": 1,
              "tickcolor": "rgb(36,36,36)",
              "ticks": "outside"
             }
            },
            "type": "scattermapbox"
           }
          ],
          "scatterpolar": [
           {
            "marker": {
             "colorbar": {
              "outlinewidth": 1,
              "tickcolor": "rgb(36,36,36)",
              "ticks": "outside"
             }
            },
            "type": "scatterpolar"
           }
          ],
          "scatterpolargl": [
           {
            "marker": {
             "colorbar": {
              "outlinewidth": 1,
              "tickcolor": "rgb(36,36,36)",
              "ticks": "outside"
             }
            },
            "type": "scatterpolargl"
           }
          ],
          "scatterternary": [
           {
            "marker": {
             "colorbar": {
              "outlinewidth": 1,
              "tickcolor": "rgb(36,36,36)",
              "ticks": "outside"
             }
            },
            "type": "scatterternary"
           }
          ],
          "surface": [
           {
            "colorbar": {
             "outlinewidth": 1,
             "tickcolor": "rgb(36,36,36)",
             "ticks": "outside"
            },
            "colorscale": [
             [
              0,
              "#440154"
             ],
             [
              0.1111111111111111,
              "#482878"
             ],
             [
              0.2222222222222222,
              "#3e4989"
             ],
             [
              0.3333333333333333,
              "#31688e"
             ],
             [
              0.4444444444444444,
              "#26828e"
             ],
             [
              0.5555555555555556,
              "#1f9e89"
             ],
             [
              0.6666666666666666,
              "#35b779"
             ],
             [
              0.7777777777777778,
              "#6ece58"
             ],
             [
              0.8888888888888888,
              "#b5de2b"
             ],
             [
              1,
              "#fde725"
             ]
            ],
            "type": "surface"
           }
          ],
          "table": [
           {
            "cells": {
             "fill": {
              "color": "rgb(237,237,237)"
             },
             "line": {
              "color": "white"
             }
            },
            "header": {
             "fill": {
              "color": "rgb(217,217,217)"
             },
             "line": {
              "color": "white"
             }
            },
            "type": "table"
           }
          ]
         },
         "layout": {
          "annotationdefaults": {
           "arrowhead": 0,
           "arrowwidth": 1
          },
          "autotypenumbers": "strict",
          "coloraxis": {
           "colorbar": {
            "outlinewidth": 1,
            "tickcolor": "rgb(36,36,36)",
            "ticks": "outside"
           }
          },
          "colorscale": {
           "diverging": [
            [
             0,
             "rgb(103,0,31)"
            ],
            [
             0.1,
             "rgb(178,24,43)"
            ],
            [
             0.2,
             "rgb(214,96,77)"
            ],
            [
             0.3,
             "rgb(244,165,130)"
            ],
            [
             0.4,
             "rgb(253,219,199)"
            ],
            [
             0.5,
             "rgb(247,247,247)"
            ],
            [
             0.6,
             "rgb(209,229,240)"
            ],
            [
             0.7,
             "rgb(146,197,222)"
            ],
            [
             0.8,
             "rgb(67,147,195)"
            ],
            [
             0.9,
             "rgb(33,102,172)"
            ],
            [
             1,
             "rgb(5,48,97)"
            ]
           ],
           "sequential": [
            [
             0,
             "#440154"
            ],
            [
             0.1111111111111111,
             "#482878"
            ],
            [
             0.2222222222222222,
             "#3e4989"
            ],
            [
             0.3333333333333333,
             "#31688e"
            ],
            [
             0.4444444444444444,
             "#26828e"
            ],
            [
             0.5555555555555556,
             "#1f9e89"
            ],
            [
             0.6666666666666666,
             "#35b779"
            ],
            [
             0.7777777777777778,
             "#6ece58"
            ],
            [
             0.8888888888888888,
             "#b5de2b"
            ],
            [
             1,
             "#fde725"
            ]
           ],
           "sequentialminus": [
            [
             0,
             "#440154"
            ],
            [
             0.1111111111111111,
             "#482878"
            ],
            [
             0.2222222222222222,
             "#3e4989"
            ],
            [
             0.3333333333333333,
             "#31688e"
            ],
            [
             0.4444444444444444,
             "#26828e"
            ],
            [
             0.5555555555555556,
             "#1f9e89"
            ],
            [
             0.6666666666666666,
             "#35b779"
            ],
            [
             0.7777777777777778,
             "#6ece58"
            ],
            [
             0.8888888888888888,
             "#b5de2b"
            ],
            [
             1,
             "#fde725"
            ]
           ]
          },
          "colorway": [
           "#1F77B4",
           "#FF7F0E",
           "#2CA02C",
           "#D62728",
           "#9467BD",
           "#8C564B",
           "#E377C2",
           "#7F7F7F",
           "#BCBD22",
           "#17BECF"
          ],
          "font": {
           "color": "rgb(36,36,36)"
          },
          "geo": {
           "bgcolor": "white",
           "lakecolor": "white",
           "landcolor": "white",
           "showlakes": true,
           "showland": true,
           "subunitcolor": "white"
          },
          "hoverlabel": {
           "align": "left"
          },
          "hovermode": "closest",
          "mapbox": {
           "style": "light"
          },
          "paper_bgcolor": "white",
          "plot_bgcolor": "white",
          "polar": {
           "angularaxis": {
            "gridcolor": "rgb(232,232,232)",
            "linecolor": "rgb(36,36,36)",
            "showgrid": false,
            "showline": true,
            "ticks": "outside"
           },
           "bgcolor": "white",
           "radialaxis": {
            "gridcolor": "rgb(232,232,232)",
            "linecolor": "rgb(36,36,36)",
            "showgrid": false,
            "showline": true,
            "ticks": "outside"
           }
          },
          "scene": {
           "xaxis": {
            "backgroundcolor": "white",
            "gridcolor": "rgb(232,232,232)",
            "gridwidth": 2,
            "linecolor": "rgb(36,36,36)",
            "showbackground": true,
            "showgrid": false,
            "showline": true,
            "ticks": "outside",
            "zeroline": false,
            "zerolinecolor": "rgb(36,36,36)"
           },
           "yaxis": {
            "backgroundcolor": "white",
            "gridcolor": "rgb(232,232,232)",
            "gridwidth": 2,
            "linecolor": "rgb(36,36,36)",
            "showbackground": true,
            "showgrid": false,
            "showline": true,
            "ticks": "outside",
            "zeroline": false,
            "zerolinecolor": "rgb(36,36,36)"
           },
           "zaxis": {
            "backgroundcolor": "white",
            "gridcolor": "rgb(232,232,232)",
            "gridwidth": 2,
            "linecolor": "rgb(36,36,36)",
            "showbackground": true,
            "showgrid": false,
            "showline": true,
            "ticks": "outside",
            "zeroline": false,
            "zerolinecolor": "rgb(36,36,36)"
           }
          },
          "shapedefaults": {
           "fillcolor": "black",
           "line": {
            "width": 0
           },
           "opacity": 0.3
          },
          "ternary": {
           "aaxis": {
            "gridcolor": "rgb(232,232,232)",
            "linecolor": "rgb(36,36,36)",
            "showgrid": false,
            "showline": true,
            "ticks": "outside"
           },
           "baxis": {
            "gridcolor": "rgb(232,232,232)",
            "linecolor": "rgb(36,36,36)",
            "showgrid": false,
            "showline": true,
            "ticks": "outside"
           },
           "bgcolor": "white",
           "caxis": {
            "gridcolor": "rgb(232,232,232)",
            "linecolor": "rgb(36,36,36)",
            "showgrid": false,
            "showline": true,
            "ticks": "outside"
           }
          },
          "title": {
           "x": 0.05
          },
          "xaxis": {
           "automargin": true,
           "gridcolor": "rgb(232,232,232)",
           "linecolor": "rgb(36,36,36)",
           "showgrid": false,
           "showline": true,
           "ticks": "outside",
           "title": {
            "standoff": 15
           },
           "zeroline": false,
           "zerolinecolor": "rgb(36,36,36)"
          },
          "yaxis": {
           "automargin": true,
           "gridcolor": "rgb(232,232,232)",
           "linecolor": "rgb(36,36,36)",
           "showgrid": false,
           "showline": true,
           "ticks": "outside",
           "title": {
            "standoff": 15
           },
           "zeroline": false,
           "zerolinecolor": "rgb(36,36,36)"
          }
         }
        },
        "title": {
         "x": 0.5,
         "xanchor": "center",
         "y": 0.9,
         "yanchor": "top"
        },
        "width": 500,
        "xaxis": {
         "anchor": "y",
         "domain": [
          0,
          1
         ],
         "title": {
          "text": "Day"
         }
        },
        "yaxis": {
         "anchor": "x",
         "domain": [
          0,
          1
         ],
         "title": {
          "text": "d'"
         }
        }
       }
      },
      "text/html": [
       "<div>                            <div id=\"7025a7db-98ed-4356-8eee-767e783fc077\" class=\"plotly-graph-div\" style=\"height:500px; width:500px;\"></div>            <script type=\"text/javascript\">                require([\"plotly\"], function(Plotly) {                    window.PLOTLYENV=window.PLOTLYENV || {};                                    if (document.getElementById(\"7025a7db-98ed-4356-8eee-767e783fc077\")) {                    Plotly.newPlot(                        \"7025a7db-98ed-4356-8eee-767e783fc077\",                        [{\"marker\":{\"color\":\"rgb(179,179,179)\",\"line\":{\"width\":1}},\"mode\":\"markers\",\"name\":\"mc_EEG1_01\",\"opacity\":0.5,\"x\":[1,2,3,4,5,6,7,8,9,10,11,12,13,14,15,16,17,18,19,20],\"y\":[0.6447254171635983,0.26079825488222264,0.5606844758190366,null,1.3330869625578838,-0.06740509532654723,0.0345009942391031,1.5548538862268257,0.5862409673760162,2.2414245026320554,1.5927402129663264,null,0.5239644415790374,1.9922297686606307,1.8658941060914955,2.121574889514886,2.2600858841355924,2.170821546221289,1.68055580002142,2.432655358787224],\"type\":\"scatter\"},{\"marker\":{\"color\":\"rgb(179,179,179)\",\"line\":{\"width\":1}},\"mode\":\"markers\",\"name\":\"mc_EEG1_02\",\"opacity\":0.5,\"x\":[1,2,3,4,5,6,7,8,9,10,11,12,13,14,15,16,17,18,19,20],\"y\":[0.32941343034828485,0.8896139772804106,1.8699259454581094,1.9670035891254147,2.197781927839693,-0.2530093912497345,0.8993727912248131,1.5680241307477107,1.9672414683193435,2.142278811250084,1.7197123662446667,2.2002944556742126,2.112721952084854,2.3518930041675445,1.9351449977804942,1.705729409582336,2.266801108058676,2.3476662574234366,2.387270811022793,2.2938613697686328],\"type\":\"scatter\"},{\"marker\":{\"color\":\"rgb(179,179,179)\",\"line\":{\"width\":1}},\"mode\":\"markers\",\"name\":\"mc_EEG2_02\",\"opacity\":0.5,\"x\":[1,2,3,4,5,6,7,8,9,10,11,12,13,14,15,16,17,18,19,20],\"y\":[0.2747825046316159,1.3492839511522587,1.6706739389278045,2.0211760962763012,2.077609707950516,0.1558650007066471,1.606916926968141,1.498654666089145,1.4907165912574305,1.1237357190367916,1.063227437930988,2.2159172973286028,1.9175837952308203,1.9311730630378126,2.1912551850617508,1.666542994339606,2.2866355837342334,2.156372679068823,2.2931945537699283,2.157957061692529],\"type\":\"scatter\"},{\"error_y\":{\"array\":[0.1152928507002751,0.3154808330679946,0.4072871766089433,0.02708625357544325,0.27043718348709456,0.11819869308487735,0.4546741076337714,0.021270650504391368,0.40499070608405235,0.3571871681617734,0.20103595141952696,0.007811420827195103,0.5002446196235644,0.13125268952609828,0.098952274056641,0.14558637450491105,0.007970038360564001,0.06149799218125978,0.22156296967327163,0.07930003039373901],\"type\":\"data\"},\"line\":{\"color\":\"turquoise\"},\"mode\":\"lines+markers\",\"x\":[1,2,3,4,5,6,7,8,9,10,11,12,13,14,15,16,17,18,19,20],\"y\":[0.4163071173811663,0.833232061104964,1.3670947867349834,1.994089842700858,1.8694928661160308,-0.05484982862321155,0.8469302374773524,1.5405108943545605,1.3480663423175967,1.835813010972977,1.4585600057139938,2.2081058765014077,1.5180900629649041,2.091765278621996,1.99743142964458,1.8312824311456095,2.271174191976167,2.2249534942378495,2.1203403882713805,2.294824596749462],\"type\":\"scatter\"}],                        {\"template\":{\"data\":{\"barpolar\":[{\"marker\":{\"line\":{\"color\":\"white\",\"width\":0.5},\"pattern\":{\"fillmode\":\"overlay\",\"size\":10,\"solidity\":0.2}},\"type\":\"barpolar\"}],\"bar\":[{\"error_x\":{\"color\":\"rgb(36,36,36)\"},\"error_y\":{\"color\":\"rgb(36,36,36)\"},\"marker\":{\"line\":{\"color\":\"white\",\"width\":0.5},\"pattern\":{\"fillmode\":\"overlay\",\"size\":10,\"solidity\":0.2}},\"type\":\"bar\"}],\"carpet\":[{\"aaxis\":{\"endlinecolor\":\"rgb(36,36,36)\",\"gridcolor\":\"white\",\"linecolor\":\"white\",\"minorgridcolor\":\"white\",\"startlinecolor\":\"rgb(36,36,36)\"},\"baxis\":{\"endlinecolor\":\"rgb(36,36,36)\",\"gridcolor\":\"white\",\"linecolor\":\"white\",\"minorgridcolor\":\"white\",\"startlinecolor\":\"rgb(36,36,36)\"},\"type\":\"carpet\"}],\"choropleth\":[{\"colorbar\":{\"outlinewidth\":1,\"tickcolor\":\"rgb(36,36,36)\",\"ticks\":\"outside\"},\"type\":\"choropleth\"}],\"contourcarpet\":[{\"colorbar\":{\"outlinewidth\":1,\"tickcolor\":\"rgb(36,36,36)\",\"ticks\":\"outside\"},\"type\":\"contourcarpet\"}],\"contour\":[{\"colorbar\":{\"outlinewidth\":1,\"tickcolor\":\"rgb(36,36,36)\",\"ticks\":\"outside\"},\"colorscale\":[[0.0,\"#440154\"],[0.1111111111111111,\"#482878\"],[0.2222222222222222,\"#3e4989\"],[0.3333333333333333,\"#31688e\"],[0.4444444444444444,\"#26828e\"],[0.5555555555555556,\"#1f9e89\"],[0.6666666666666666,\"#35b779\"],[0.7777777777777778,\"#6ece58\"],[0.8888888888888888,\"#b5de2b\"],[1.0,\"#fde725\"]],\"type\":\"contour\"}],\"heatmapgl\":[{\"colorbar\":{\"outlinewidth\":1,\"tickcolor\":\"rgb(36,36,36)\",\"ticks\":\"outside\"},\"colorscale\":[[0.0,\"#440154\"],[0.1111111111111111,\"#482878\"],[0.2222222222222222,\"#3e4989\"],[0.3333333333333333,\"#31688e\"],[0.4444444444444444,\"#26828e\"],[0.5555555555555556,\"#1f9e89\"],[0.6666666666666666,\"#35b779\"],[0.7777777777777778,\"#6ece58\"],[0.8888888888888888,\"#b5de2b\"],[1.0,\"#fde725\"]],\"type\":\"heatmapgl\"}],\"heatmap\":[{\"colorbar\":{\"outlinewidth\":1,\"tickcolor\":\"rgb(36,36,36)\",\"ticks\":\"outside\"},\"colorscale\":[[0.0,\"#440154\"],[0.1111111111111111,\"#482878\"],[0.2222222222222222,\"#3e4989\"],[0.3333333333333333,\"#31688e\"],[0.4444444444444444,\"#26828e\"],[0.5555555555555556,\"#1f9e89\"],[0.6666666666666666,\"#35b779\"],[0.7777777777777778,\"#6ece58\"],[0.8888888888888888,\"#b5de2b\"],[1.0,\"#fde725\"]],\"type\":\"heatmap\"}],\"histogram2dcontour\":[{\"colorbar\":{\"outlinewidth\":1,\"tickcolor\":\"rgb(36,36,36)\",\"ticks\":\"outside\"},\"colorscale\":[[0.0,\"#440154\"],[0.1111111111111111,\"#482878\"],[0.2222222222222222,\"#3e4989\"],[0.3333333333333333,\"#31688e\"],[0.4444444444444444,\"#26828e\"],[0.5555555555555556,\"#1f9e89\"],[0.6666666666666666,\"#35b779\"],[0.7777777777777778,\"#6ece58\"],[0.8888888888888888,\"#b5de2b\"],[1.0,\"#fde725\"]],\"type\":\"histogram2dcontour\"}],\"histogram2d\":[{\"colorbar\":{\"outlinewidth\":1,\"tickcolor\":\"rgb(36,36,36)\",\"ticks\":\"outside\"},\"colorscale\":[[0.0,\"#440154\"],[0.1111111111111111,\"#482878\"],[0.2222222222222222,\"#3e4989\"],[0.3333333333333333,\"#31688e\"],[0.4444444444444444,\"#26828e\"],[0.5555555555555556,\"#1f9e89\"],[0.6666666666666666,\"#35b779\"],[0.7777777777777778,\"#6ece58\"],[0.8888888888888888,\"#b5de2b\"],[1.0,\"#fde725\"]],\"type\":\"histogram2d\"}],\"histogram\":[{\"marker\":{\"line\":{\"color\":\"white\",\"width\":0.6}},\"type\":\"histogram\"}],\"mesh3d\":[{\"colorbar\":{\"outlinewidth\":1,\"tickcolor\":\"rgb(36,36,36)\",\"ticks\":\"outside\"},\"type\":\"mesh3d\"}],\"parcoords\":[{\"line\":{\"colorbar\":{\"outlinewidth\":1,\"tickcolor\":\"rgb(36,36,36)\",\"ticks\":\"outside\"}},\"type\":\"parcoords\"}],\"pie\":[{\"automargin\":true,\"type\":\"pie\"}],\"scatter3d\":[{\"line\":{\"colorbar\":{\"outlinewidth\":1,\"tickcolor\":\"rgb(36,36,36)\",\"ticks\":\"outside\"}},\"marker\":{\"colorbar\":{\"outlinewidth\":1,\"tickcolor\":\"rgb(36,36,36)\",\"ticks\":\"outside\"}},\"type\":\"scatter3d\"}],\"scattercarpet\":[{\"marker\":{\"colorbar\":{\"outlinewidth\":1,\"tickcolor\":\"rgb(36,36,36)\",\"ticks\":\"outside\"}},\"type\":\"scattercarpet\"}],\"scattergeo\":[{\"marker\":{\"colorbar\":{\"outlinewidth\":1,\"tickcolor\":\"rgb(36,36,36)\",\"ticks\":\"outside\"}},\"type\":\"scattergeo\"}],\"scattergl\":[{\"marker\":{\"colorbar\":{\"outlinewidth\":1,\"tickcolor\":\"rgb(36,36,36)\",\"ticks\":\"outside\"}},\"type\":\"scattergl\"}],\"scattermapbox\":[{\"marker\":{\"colorbar\":{\"outlinewidth\":1,\"tickcolor\":\"rgb(36,36,36)\",\"ticks\":\"outside\"}},\"type\":\"scattermapbox\"}],\"scatterpolargl\":[{\"marker\":{\"colorbar\":{\"outlinewidth\":1,\"tickcolor\":\"rgb(36,36,36)\",\"ticks\":\"outside\"}},\"type\":\"scatterpolargl\"}],\"scatterpolar\":[{\"marker\":{\"colorbar\":{\"outlinewidth\":1,\"tickcolor\":\"rgb(36,36,36)\",\"ticks\":\"outside\"}},\"type\":\"scatterpolar\"}],\"scatter\":[{\"fillpattern\":{\"fillmode\":\"overlay\",\"size\":10,\"solidity\":0.2},\"type\":\"scatter\"}],\"scatterternary\":[{\"marker\":{\"colorbar\":{\"outlinewidth\":1,\"tickcolor\":\"rgb(36,36,36)\",\"ticks\":\"outside\"}},\"type\":\"scatterternary\"}],\"surface\":[{\"colorbar\":{\"outlinewidth\":1,\"tickcolor\":\"rgb(36,36,36)\",\"ticks\":\"outside\"},\"colorscale\":[[0.0,\"#440154\"],[0.1111111111111111,\"#482878\"],[0.2222222222222222,\"#3e4989\"],[0.3333333333333333,\"#31688e\"],[0.4444444444444444,\"#26828e\"],[0.5555555555555556,\"#1f9e89\"],[0.6666666666666666,\"#35b779\"],[0.7777777777777778,\"#6ece58\"],[0.8888888888888888,\"#b5de2b\"],[1.0,\"#fde725\"]],\"type\":\"surface\"}],\"table\":[{\"cells\":{\"fill\":{\"color\":\"rgb(237,237,237)\"},\"line\":{\"color\":\"white\"}},\"header\":{\"fill\":{\"color\":\"rgb(217,217,217)\"},\"line\":{\"color\":\"white\"}},\"type\":\"table\"}]},\"layout\":{\"annotationdefaults\":{\"arrowhead\":0,\"arrowwidth\":1},\"autotypenumbers\":\"strict\",\"coloraxis\":{\"colorbar\":{\"outlinewidth\":1,\"tickcolor\":\"rgb(36,36,36)\",\"ticks\":\"outside\"}},\"colorscale\":{\"diverging\":[[0.0,\"rgb(103,0,31)\"],[0.1,\"rgb(178,24,43)\"],[0.2,\"rgb(214,96,77)\"],[0.3,\"rgb(244,165,130)\"],[0.4,\"rgb(253,219,199)\"],[0.5,\"rgb(247,247,247)\"],[0.6,\"rgb(209,229,240)\"],[0.7,\"rgb(146,197,222)\"],[0.8,\"rgb(67,147,195)\"],[0.9,\"rgb(33,102,172)\"],[1.0,\"rgb(5,48,97)\"]],\"sequential\":[[0.0,\"#440154\"],[0.1111111111111111,\"#482878\"],[0.2222222222222222,\"#3e4989\"],[0.3333333333333333,\"#31688e\"],[0.4444444444444444,\"#26828e\"],[0.5555555555555556,\"#1f9e89\"],[0.6666666666666666,\"#35b779\"],[0.7777777777777778,\"#6ece58\"],[0.8888888888888888,\"#b5de2b\"],[1.0,\"#fde725\"]],\"sequentialminus\":[[0.0,\"#440154\"],[0.1111111111111111,\"#482878\"],[0.2222222222222222,\"#3e4989\"],[0.3333333333333333,\"#31688e\"],[0.4444444444444444,\"#26828e\"],[0.5555555555555556,\"#1f9e89\"],[0.6666666666666666,\"#35b779\"],[0.7777777777777778,\"#6ece58\"],[0.8888888888888888,\"#b5de2b\"],[1.0,\"#fde725\"]]},\"colorway\":[\"#1F77B4\",\"#FF7F0E\",\"#2CA02C\",\"#D62728\",\"#9467BD\",\"#8C564B\",\"#E377C2\",\"#7F7F7F\",\"#BCBD22\",\"#17BECF\"],\"font\":{\"color\":\"rgb(36,36,36)\"},\"geo\":{\"bgcolor\":\"white\",\"lakecolor\":\"white\",\"landcolor\":\"white\",\"showlakes\":true,\"showland\":true,\"subunitcolor\":\"white\"},\"hoverlabel\":{\"align\":\"left\"},\"hovermode\":\"closest\",\"mapbox\":{\"style\":\"light\"},\"paper_bgcolor\":\"white\",\"plot_bgcolor\":\"white\",\"polar\":{\"angularaxis\":{\"gridcolor\":\"rgb(232,232,232)\",\"linecolor\":\"rgb(36,36,36)\",\"showgrid\":false,\"showline\":true,\"ticks\":\"outside\"},\"bgcolor\":\"white\",\"radialaxis\":{\"gridcolor\":\"rgb(232,232,232)\",\"linecolor\":\"rgb(36,36,36)\",\"showgrid\":false,\"showline\":true,\"ticks\":\"outside\"}},\"scene\":{\"xaxis\":{\"backgroundcolor\":\"white\",\"gridcolor\":\"rgb(232,232,232)\",\"gridwidth\":2,\"linecolor\":\"rgb(36,36,36)\",\"showbackground\":true,\"showgrid\":false,\"showline\":true,\"ticks\":\"outside\",\"zeroline\":false,\"zerolinecolor\":\"rgb(36,36,36)\"},\"yaxis\":{\"backgroundcolor\":\"white\",\"gridcolor\":\"rgb(232,232,232)\",\"gridwidth\":2,\"linecolor\":\"rgb(36,36,36)\",\"showbackground\":true,\"showgrid\":false,\"showline\":true,\"ticks\":\"outside\",\"zeroline\":false,\"zerolinecolor\":\"rgb(36,36,36)\"},\"zaxis\":{\"backgroundcolor\":\"white\",\"gridcolor\":\"rgb(232,232,232)\",\"gridwidth\":2,\"linecolor\":\"rgb(36,36,36)\",\"showbackground\":true,\"showgrid\":false,\"showline\":true,\"ticks\":\"outside\",\"zeroline\":false,\"zerolinecolor\":\"rgb(36,36,36)\"}},\"shapedefaults\":{\"fillcolor\":\"black\",\"line\":{\"width\":0},\"opacity\":0.3},\"ternary\":{\"aaxis\":{\"gridcolor\":\"rgb(232,232,232)\",\"linecolor\":\"rgb(36,36,36)\",\"showgrid\":false,\"showline\":true,\"ticks\":\"outside\"},\"baxis\":{\"gridcolor\":\"rgb(232,232,232)\",\"linecolor\":\"rgb(36,36,36)\",\"showgrid\":false,\"showline\":true,\"ticks\":\"outside\"},\"bgcolor\":\"white\",\"caxis\":{\"gridcolor\":\"rgb(232,232,232)\",\"linecolor\":\"rgb(36,36,36)\",\"showgrid\":false,\"showline\":true,\"ticks\":\"outside\"}},\"title\":{\"x\":0.05},\"xaxis\":{\"automargin\":true,\"gridcolor\":\"rgb(232,232,232)\",\"linecolor\":\"rgb(36,36,36)\",\"showgrid\":false,\"showline\":true,\"ticks\":\"outside\",\"title\":{\"standoff\":15},\"zeroline\":false,\"zerolinecolor\":\"rgb(36,36,36)\"},\"yaxis\":{\"automargin\":true,\"gridcolor\":\"rgb(232,232,232)\",\"linecolor\":\"rgb(36,36,36)\",\"showgrid\":false,\"showline\":true,\"ticks\":\"outside\",\"title\":{\"standoff\":15},\"zeroline\":false,\"zerolinecolor\":\"rgb(36,36,36)\"}}},\"xaxis\":{\"anchor\":\"y\",\"domain\":[0.0,1.0],\"title\":{\"text\":\"Day\"}},\"yaxis\":{\"anchor\":\"x\",\"domain\":[0.0,1.0],\"title\":{\"text\":\"d'\"}},\"height\":500,\"width\":500,\"title\":{\"y\":0.9,\"x\":0.5,\"xanchor\":\"center\",\"yanchor\":\"top\"},\"showlegend\":false,\"shapes\":[{\"line\":{\"color\":\"darkgrey\",\"dash\":\"dash\",\"width\":1},\"opacity\":1,\"type\":\"line\",\"x0\":5.5,\"x1\":5.5,\"xref\":\"x\",\"y0\":0,\"y1\":1,\"yref\":\"y domain\"},{\"line\":{\"color\":\"darkgrey\",\"dash\":\"dash\",\"width\":1},\"opacity\":1,\"type\":\"line\",\"x0\":10.5,\"x1\":10.5,\"xref\":\"x\",\"y0\":0,\"y1\":1,\"yref\":\"y domain\"},{\"line\":{\"color\":\"darkgrey\",\"dash\":\"dash\",\"width\":1},\"opacity\":1,\"type\":\"line\",\"x0\":15.5,\"x1\":15.5,\"xref\":\"x\",\"y0\":0,\"y1\":1,\"yref\":\"y domain\"}]},                        {\"responsive\": true}                    ).then(function(){\n",
       "                            \n",
       "var gd = document.getElementById('7025a7db-98ed-4356-8eee-767e783fc077');\n",
       "var x = new MutationObserver(function (mutations, observer) {{\n",
       "        var display = window.getComputedStyle(gd).display;\n",
       "        if (!display || display === 'none') {{\n",
       "            console.log([gd, 'removed!']);\n",
       "            Plotly.purge(gd);\n",
       "            observer.disconnect();\n",
       "        }}\n",
       "}});\n",
       "\n",
       "// Listen for the removal of the full notebook cells\n",
       "var notebookContainer = gd.closest('#notebook-container');\n",
       "if (notebookContainer) {{\n",
       "    x.observe(notebookContainer, {childList: true});\n",
       "}}\n",
       "\n",
       "// Listen for the clearing of the current output cell\n",
       "var outputEl = gd.closest('.output');\n",
       "if (outputEl) {{\n",
       "    x.observe(outputEl, {childList: true});\n",
       "}}\n",
       "\n",
       "                        })                };                });            </script>        </div>"
      ]
     },
     "metadata": {},
     "output_type": "display_data"
    }
   ],
   "source": [
    "## d' across days\n",
    "dprime_df = pd.DataFrame()\n",
    "for experiment in experiment_pc:\n",
    "    for mouse in experiment_pc[experiment]:\n",
    "        if mouse == 'mc_EEG2_01':\n",
    "            next\n",
    "        else:\n",
    "            df = pd.DataFrame(experiment_sdt[experiment][mouse]).T\n",
    "            d = []\n",
    "            for idx in np.arange(0, len(df['dprime'])):\n",
    "                d.append(np.nanmean(df['dprime'][idx]))\n",
    "            dprime = pd.DataFrame(d).rename(columns={0: 'dprime'})\n",
    "            dprime.insert(0, 'mouse', mouse)\n",
    "            dprime.insert(1, 'day', [x for x in np.arange(1, 21)])\n",
    "            dprime_df = pd.concat([dprime_df, dprime], axis=0, ignore_index=True)\n",
    "\n",
    "fig = pf.plot_behavior_across_days(dprime_df, x_var='day', y_var='dprime', groupby_var=['day'], titles=[''],\n",
    "                                   x_title='Day', y_title=\"d'\", template='simple_white')\n",
    "fig.show()"
   ]
  },
  {
   "cell_type": "code",
   "execution_count": 148,
   "metadata": {},
   "outputs": [
    {
     "data": {
      "application/vnd.plotly.v1+json": {
       "config": {
        "plotlyServerURL": "https://plot.ly"
       },
       "data": [
        {
         "marker": {
          "color": "grey",
          "opacity": 0.8,
          "size": 5,
          "symbol": "square"
         },
         "mode": "markers",
         "showlegend": false,
         "type": "scatter",
         "x": [
          1.7278759594743862,
          5.794493116621174,
          5.777039824101231,
          5.777039824101231,
          5.777039824101231,
          5.759586531581287,
          2.600540585471551,
          2.5830872929516078,
          0.9948376736367679,
          0.9948376736367679,
          0.9948376736367679
         ],
         "y": [
          1,
          1,
          1,
          1,
          1,
          1,
          1,
          1,
          1,
          1,
          1
         ]
        },
        {
         "marker": {
          "color": "turquoise",
          "opacity": 1,
          "size": 3,
          "symbol": "square"
         },
         "mode": "markers",
         "showlegend": false,
         "type": "scatter",
         "x": [],
         "y": []
        },
        {
         "marker": {
          "color": "grey",
          "opacity": 0.8,
          "size": 5,
          "symbol": "square"
         },
         "mode": "markers",
         "showlegend": false,
         "type": "scatter",
         "x": [
          5.811946409141117,
          5.794493116621174,
          2.600540585471551,
          2.600540585471551,
          2.600540585471551,
          2.600540585471551,
          1.7802358370342162,
          1.7976891295541595,
          1.7976891295541595
         ],
         "y": [
          2,
          2,
          2,
          2,
          2,
          2,
          2,
          2,
          2
         ]
        },
        {
         "marker": {
          "color": "turquoise",
          "opacity": 1,
          "size": 3,
          "symbol": "square"
         },
         "mode": "markers",
         "showlegend": false,
         "type": "scatter",
         "x": [],
         "y": []
        },
        {
         "marker": {
          "color": "grey",
          "opacity": 0.8,
          "size": 5,
          "symbol": "square"
         },
         "mode": "markers",
         "showlegend": false,
         "type": "scatter",
         "x": [
          5.811946409141117,
          5.794493116621174,
          5.794493116621174,
          5.794493116621174,
          5.777039824101231,
          5.777039824101231,
          5.777039824101231,
          2.600540585471551,
          2.600540585471551,
          2.600540585471551,
          2.5830872929516078,
          2.5830872929516078,
          2.5830872929516078,
          2.5830872929516078,
          2.5830872929516078,
          2.5830872929516078,
          2.5830872929516078,
          2.5830872929516078,
          2.5830872929516078,
          2.5830872929516078,
          2.4609142453120048,
          2.4609142453120048,
          2.4609142453120048,
          1.7976891295541595,
          1.7627825445142729,
          1.7802358370342162,
          1.7627825445142729,
          1.7802358370342162,
          1.7802358370342162,
          1.7627825445142729
         ],
         "y": [
          3,
          3,
          3,
          3,
          3,
          3,
          3,
          3,
          3,
          3,
          3,
          3,
          3,
          3,
          3,
          3,
          3,
          3,
          3,
          3,
          3,
          3,
          3,
          3,
          3,
          3,
          3,
          3,
          3,
          3
         ]
        },
        {
         "marker": {
          "color": "turquoise",
          "opacity": 1,
          "size": 3,
          "symbol": "square"
         },
         "mode": "markers",
         "showlegend": false,
         "type": "scatter",
         "x": [],
         "y": []
        },
        {
         "marker": {
          "color": "grey",
          "opacity": 0.8,
          "size": 5,
          "symbol": "square"
         },
         "mode": "markers",
         "showlegend": false,
         "type": "scatter",
         "x": [
          5.777039824101231,
          5.777039824101231,
          5.759586531581287,
          5.759586531581287,
          5.759586531581287,
          5.759586531581287,
          5.759586531581287,
          5.777039824101231,
          5.777039824101231,
          2.6354471705114375,
          2.600540585471551,
          2.600540585471551,
          2.5830872929516078,
          2.5830872929516078,
          2.5830872929516078,
          2.5830872929516078,
          2.5830872929516078,
          1.7453292519943295,
          1.7453292519943295,
          1.7627825445142729,
          1.7627825445142729,
          1.7627825445142729
         ],
         "y": [
          4,
          4,
          4,
          4,
          4,
          4,
          4,
          4,
          4,
          4,
          4,
          4,
          4,
          4,
          4,
          4,
          4,
          4,
          4,
          4,
          4,
          4
         ]
        },
        {
         "marker": {
          "color": "turquoise",
          "opacity": 1,
          "size": 3,
          "symbol": "square"
         },
         "mode": "markers",
         "showlegend": false,
         "type": "scatter",
         "x": [],
         "y": []
        },
        {
         "marker": {
          "color": "grey",
          "opacity": 0.8,
          "size": 5,
          "symbol": "square"
         },
         "mode": "markers",
         "showlegend": false,
         "type": "scatter",
         "x": [
          5.777039824101231,
          5.777039824101231,
          5.777039824101231,
          5.759586531581287,
          5.759586531581287,
          5.759586531581287,
          2.600540585471551,
          2.600540585471551,
          2.5830872929516078,
          2.5830872929516078,
          2.5830872929516078,
          2.5830872929516078,
          2.5830872929516078,
          2.5830872929516078,
          2.5830872929516078,
          2.5830872929516078,
          2.5656340004316642,
          2.5656340004316642,
          2.5830872929516078,
          2.5830872929516078,
          1.7627825445142729,
          1.7802358370342162,
          1.7802358370342162,
          1.7802358370342162,
          1.7802358370342162,
          1.7627825445142729
         ],
         "y": [
          5,
          5,
          5,
          5,
          5,
          5,
          5,
          5,
          5,
          5,
          5,
          5,
          5,
          5,
          5,
          5,
          5,
          5,
          5,
          5,
          5,
          5,
          5,
          5,
          5,
          5
         ]
        },
        {
         "marker": {
          "color": "turquoise",
          "opacity": 1,
          "size": 3,
          "symbol": "square"
         },
         "mode": "markers",
         "showlegend": false,
         "type": "scatter",
         "x": [],
         "y": []
        },
        {
         "marker": {
          "color": "grey",
          "opacity": 0.8,
          "size": 5,
          "symbol": "square"
         },
         "mode": "markers",
         "showlegend": false,
         "type": "scatter",
         "x": [
          5.777039824101231,
          5.759586531581287,
          5.759586531581287,
          5.742133239061344,
          5.759586531581287,
          2.6179938779914944,
          2.600540585471551,
          2.5830872929516078,
          2.5830872929516078,
          2.5830872929516078,
          2.5830872929516078,
          2.5830872929516078,
          2.5830872929516078,
          2.5830872929516078,
          2.600540585471551,
          2.5830872929516078,
          2.5830872929516078,
          2.5830872929516078,
          2.5830872929516078,
          2.5830872929516078,
          2.5830872929516078,
          2.5830872929516078,
          2.5830872929516078,
          2.5830872929516078,
          2.5830872929516078,
          2.5830872929516078,
          2.5830872929516078,
          2.5830872929516078,
          2.5830872929516078,
          2.5830872929516078,
          2.5830872929516078,
          2.5830872929516078,
          2.600540585471551,
          1.710422666954443,
          1.710422666954443,
          1.710422666954443,
          1.710422666954443,
          1.710422666954443,
          1.710422666954443
         ],
         "y": [
          6,
          6,
          6,
          6,
          6,
          6,
          6,
          6,
          6,
          6,
          6,
          6,
          6,
          6,
          6,
          6,
          6,
          6,
          6,
          6,
          6,
          6,
          6,
          6,
          6,
          6,
          6,
          6,
          6,
          6,
          6,
          6,
          6,
          6,
          6,
          6,
          6,
          6,
          6
         ]
        },
        {
         "marker": {
          "color": "turquoise",
          "opacity": 1,
          "size": 3,
          "symbol": "square"
         },
         "mode": "markers",
         "showlegend": false,
         "type": "scatter",
         "x": [
          2.5830872929516078
         ],
         "y": [
          6
         ]
        },
        {
         "marker": {
          "color": "grey",
          "opacity": 0.8,
          "size": 5,
          "symbol": "square"
         },
         "mode": "markers",
         "showlegend": false,
         "type": "scatter",
         "x": [
          5.811946409141117,
          5.794493116621174,
          5.794493116621174,
          5.759586531581287,
          5.759586531581287,
          5.759586531581287,
          5.759586531581287,
          5.759586531581287,
          5.759586531581287,
          5.759586531581287,
          5.759586531581287,
          5.759586531581287,
          5.759586531581287,
          5.742133239061344,
          5.742133239061344,
          5.742133239061344,
          5.742133239061344,
          5.742133239061344,
          2.6179938779914944,
          2.600540585471551,
          2.600540585471551,
          2.5656340004316642,
          2.5656340004316642,
          2.5656340004316642,
          2.5656340004316642,
          2.5656340004316642,
          2.5656340004316642,
          2.5656340004316642,
          2.5656340004316642,
          2.5656340004316642,
          2.5656340004316642,
          2.5656340004316642,
          2.5656340004316642,
          2.5656340004316642,
          2.5656340004316642,
          2.5656340004316642,
          2.5656340004316642,
          2.5656340004316642,
          2.5656340004316642,
          2.5656340004316642,
          2.5656340004316642,
          2.5656340004316642,
          2.5656340004316642,
          2.5656340004316642,
          2.5656340004316642
         ],
         "y": [
          7,
          7,
          7,
          7,
          7,
          7,
          7,
          7,
          7,
          7,
          7,
          7,
          7,
          7,
          7,
          7,
          7,
          7,
          7,
          7,
          7,
          7,
          7,
          7,
          7,
          7,
          7,
          7,
          7,
          7,
          7,
          7,
          7,
          7,
          7,
          7,
          7,
          7,
          7,
          7,
          7,
          7,
          7,
          7,
          7
         ]
        },
        {
         "marker": {
          "color": "turquoise",
          "opacity": 1,
          "size": 3,
          "symbol": "square"
         },
         "mode": "markers",
         "showlegend": false,
         "type": "scatter",
         "x": [
          5.794493116621174,
          2.600540585471551
         ],
         "y": [
          7,
          7
         ]
        },
        {
         "marker": {
          "color": "grey",
          "opacity": 0.8,
          "size": 5,
          "symbol": "square"
         },
         "mode": "markers",
         "showlegend": false,
         "type": "scatter",
         "x": [
          5.794493116621174,
          5.794493116621174,
          5.777039824101231,
          5.777039824101231,
          5.777039824101231,
          5.777039824101231,
          5.777039824101231,
          5.777039824101231,
          5.759586531581287,
          5.777039824101231,
          5.759586531581287,
          5.759586531581287,
          5.759586531581287,
          5.759586531581287,
          5.759586531581287,
          5.759586531581287,
          5.777039824101231,
          5.777039824101231,
          5.759586531581287,
          5.759586531581287,
          5.759586531581287,
          5.759586531581287,
          5.759586531581287,
          5.759586531581287,
          5.759586531581287,
          5.759586531581287,
          5.759586531581287,
          5.759586531581287,
          5.759586531581287,
          5.759586531581287,
          5.759586531581287,
          5.759586531581287,
          5.742133239061344,
          5.742133239061344,
          5.759586531581287,
          5.759586531581287,
          2.6179938779914944,
          2.600540585471551,
          2.600540585471551,
          2.5830872929516078,
          2.5830872929516078,
          2.5830872929516078,
          2.5830872929516078,
          2.5656340004316642,
          2.5830872929516078,
          2.5830872929516078,
          2.5830872929516078,
          2.5830872929516078,
          2.5830872929516078,
          2.5830872929516078,
          2.5656340004316642,
          2.5830872929516078,
          2.5656340004316642,
          2.5656340004316642,
          2.5830872929516078,
          2.5656340004316642,
          2.5830872929516078,
          2.5830872929516078,
          2.5830872929516078,
          2.5830872929516078,
          2.5656340004316642,
          2.5656340004316642,
          2.5656340004316642
         ],
         "y": [
          8,
          8,
          8,
          8,
          8,
          8,
          8,
          8,
          8,
          8,
          8,
          8,
          8,
          8,
          8,
          8,
          8,
          8,
          8,
          8,
          8,
          8,
          8,
          8,
          8,
          8,
          8,
          8,
          8,
          8,
          8,
          8,
          8,
          8,
          8,
          8,
          8,
          8,
          8,
          8,
          8,
          8,
          8,
          8,
          8,
          8,
          8,
          8,
          8,
          8,
          8,
          8,
          8,
          8,
          8,
          8,
          8,
          8,
          8,
          8,
          8,
          8,
          8
         ]
        },
        {
         "marker": {
          "color": "turquoise",
          "opacity": 1,
          "size": 3,
          "symbol": "square"
         },
         "mode": "markers",
         "showlegend": false,
         "type": "scatter",
         "x": [
          5.777039824101231,
          2.600540585471551
         ],
         "y": [
          8,
          8
         ]
        },
        {
         "marker": {
          "color": "grey",
          "opacity": 0.8,
          "size": 5,
          "symbol": "square"
         },
         "mode": "markers",
         "showlegend": false,
         "type": "scatter",
         "x": [
          5.777039824101231,
          5.777039824101231,
          5.777039824101231,
          5.759586531581287,
          5.759586531581287,
          5.759586531581287,
          5.759586531581287,
          5.759586531581287,
          5.759586531581287,
          5.759586531581287,
          5.777039824101231,
          5.759586531581287,
          5.759586531581287,
          5.759586531581287,
          5.759586531581287,
          5.759586531581287,
          5.759586531581287,
          5.759586531581287,
          5.759586531581287,
          5.759586531581287,
          5.759586531581287,
          5.759586531581287,
          5.759586531581287,
          5.759586531581287,
          2.600540585471551,
          2.600540585471551,
          2.5830872929516078,
          2.5830872929516078,
          2.5830872929516078,
          2.5656340004316642,
          2.5656340004316642,
          2.5656340004316642,
          2.5830872929516078,
          2.5830872929516078,
          2.5830872929516078,
          2.5656340004316642,
          2.5656340004316642,
          2.5656340004316642,
          2.5830872929516078,
          2.5830872929516078,
          2.5830872929516078,
          2.5830872929516078,
          2.5830872929516078,
          5.794493116621174,
          5.777039824101231,
          5.777039824101231,
          5.777039824101231,
          5.777039824101231,
          5.777039824101231,
          5.777039824101231,
          5.777039824101231,
          5.777039824101231,
          5.777039824101231,
          5.777039824101231,
          5.777039824101231,
          5.777039824101231,
          5.794493116621174,
          5.794493116621174,
          5.794493116621174,
          5.759586531581287,
          5.759586531581287,
          5.742133239061344,
          5.742133239061344,
          2.5830872929516078,
          2.5830872929516078,
          2.5656340004316642,
          2.5656340004316642,
          2.5656340004316642,
          2.5656340004316642,
          2.548180707911721,
          2.548180707911721,
          2.5656340004316642,
          2.5656340004316642,
          2.548180707911721,
          2.5656340004316642,
          2.5656340004316642,
          2.5656340004316642,
          2.5656340004316642
         ],
         "y": [
          9,
          9,
          9,
          9,
          9,
          9,
          9,
          9,
          9,
          9,
          9,
          9,
          9,
          9,
          9,
          9,
          9,
          9,
          9,
          9,
          9,
          9,
          9,
          9,
          9,
          9,
          9,
          9,
          9,
          9,
          9,
          9,
          9,
          9,
          9,
          9,
          9,
          9,
          9,
          9,
          9,
          9,
          9,
          9,
          9,
          9,
          9,
          9,
          9,
          9,
          9,
          9,
          9,
          9,
          9,
          9,
          9,
          9,
          9,
          9,
          9,
          9,
          9,
          9,
          9,
          9,
          9,
          9,
          9,
          9,
          9,
          9,
          9,
          9,
          9,
          9,
          9,
          9
         ]
        },
        {
         "marker": {
          "color": "turquoise",
          "opacity": 1,
          "size": 3,
          "symbol": "square"
         },
         "mode": "markers",
         "showlegend": false,
         "type": "scatter",
         "x": [
          5.777039824101231,
          2.5656340004316642
         ],
         "y": [
          9,
          9
         ]
        },
        {
         "marker": {
          "color": "grey",
          "opacity": 0.8,
          "size": 5,
          "symbol": "square"
         },
         "mode": "markers",
         "showlegend": false,
         "type": "scatter",
         "x": [
          5.794493116621174,
          5.777039824101231,
          5.777039824101231,
          5.777039824101231,
          5.777039824101231,
          5.777039824101231,
          5.777039824101231,
          5.777039824101231,
          5.777039824101231,
          5.777039824101231,
          5.777039824101231,
          5.777039824101231,
          5.777039824101231,
          5.777039824101231,
          5.777039824101231,
          5.777039824101231,
          5.777039824101231,
          2.600540585471551,
          2.600540585471551,
          2.600540585471551,
          2.5656340004316642,
          2.5830872929516078,
          2.5656340004316642,
          2.5656340004316642,
          2.5656340004316642,
          2.5656340004316642,
          2.5656340004316642,
          2.5656340004316642,
          2.5656340004316642,
          2.5656340004316642,
          2.5656340004316642
         ],
         "y": [
          10,
          10,
          10,
          10,
          10,
          10,
          10,
          10,
          10,
          10,
          10,
          10,
          10,
          10,
          10,
          10,
          10,
          10,
          10,
          10,
          10,
          10,
          10,
          10,
          10,
          10,
          10,
          10,
          10,
          10,
          10
         ]
        },
        {
         "marker": {
          "color": "turquoise",
          "opacity": 1,
          "size": 3,
          "symbol": "square"
         },
         "mode": "markers",
         "showlegend": false,
         "type": "scatter",
         "x": [
          5.777039824101231,
          2.600540585471551
         ],
         "y": [
          10,
          10
         ]
        },
        {
         "marker": {
          "color": "grey",
          "opacity": 0.8,
          "size": 5,
          "symbol": "square"
         },
         "mode": "markers",
         "showlegend": false,
         "type": "scatter",
         "x": [
          5.794493116621174,
          5.794493116621174,
          5.794493116621174,
          5.777039824101231,
          5.777039824101231,
          5.777039824101231,
          5.777039824101231,
          5.777039824101231,
          5.777039824101231,
          5.777039824101231,
          5.777039824101231,
          5.777039824101231,
          5.777039824101231,
          5.777039824101231,
          5.777039824101231,
          5.777039824101231,
          5.777039824101231,
          5.777039824101231,
          5.777039824101231,
          2.6179938779914944,
          2.600540585471551,
          2.600540585471551,
          2.5656340004316642,
          2.5656340004316642,
          2.5656340004316642,
          2.5656340004316642,
          2.5656340004316642,
          2.5656340004316642,
          2.5830872929516078,
          2.5656340004316642,
          2.5656340004316642,
          2.5656340004316642,
          2.5656340004316642,
          2.5656340004316642,
          2.5656340004316642,
          2.5656340004316642,
          2.5656340004316642,
          2.5656340004316642,
          2.5656340004316642,
          2.5656340004316642,
          2.5656340004316642,
          2.5656340004316642,
          2.5656340004316642,
          2.5656340004316642,
          2.5656340004316642
         ],
         "y": [
          11,
          11,
          11,
          11,
          11,
          11,
          11,
          11,
          11,
          11,
          11,
          11,
          11,
          11,
          11,
          11,
          11,
          11,
          11,
          11,
          11,
          11,
          11,
          11,
          11,
          11,
          11,
          11,
          11,
          11,
          11,
          11,
          11,
          11,
          11,
          11,
          11,
          11,
          11,
          11,
          11,
          11,
          11,
          11,
          11
         ]
        },
        {
         "marker": {
          "color": "turquoise",
          "opacity": 1,
          "size": 3,
          "symbol": "square"
         },
         "mode": "markers",
         "showlegend": false,
         "type": "scatter",
         "x": [
          5.794493116621174,
          2.600540585471551
         ],
         "y": [
          11,
          11
         ]
        },
        {
         "marker": {
          "color": "grey",
          "opacity": 0.8,
          "size": 5,
          "symbol": "square"
         },
         "mode": "markers",
         "showlegend": false,
         "type": "scatter",
         "x": [
          5.777039824101231,
          5.777039824101231,
          5.777039824101231,
          5.759586531581287,
          5.777039824101231,
          5.794493116621174,
          5.777039824101231,
          5.777039824101231,
          5.777039824101231,
          5.777039824101231,
          5.777039824101231,
          5.759586531581287,
          5.777039824101231,
          5.777039824101231,
          5.777039824101231,
          5.777039824101231,
          2.6179938779914944,
          2.600540585471551,
          2.600540585471551,
          2.5656340004316642,
          2.5656340004316642,
          2.5656340004316642,
          2.5830872929516078,
          2.5656340004316642,
          2.5656340004316642,
          2.5656340004316642,
          2.5830872929516078,
          2.5656340004316642,
          2.5656340004316642,
          2.5656340004316642,
          2.5656340004316642,
          2.5656340004316642
         ],
         "y": [
          12,
          12,
          12,
          12,
          12,
          12,
          12,
          12,
          12,
          12,
          12,
          12,
          12,
          12,
          12,
          12,
          12,
          12,
          12,
          12,
          12,
          12,
          12,
          12,
          12,
          12,
          12,
          12,
          12,
          12,
          12,
          12
         ]
        },
        {
         "marker": {
          "color": "turquoise",
          "opacity": 1,
          "size": 3,
          "symbol": "square"
         },
         "mode": "markers",
         "showlegend": false,
         "type": "scatter",
         "x": [
          5.777039824101231,
          2.600540585471551
         ],
         "y": [
          12,
          12
         ]
        },
        {
         "marker": {
          "color": "grey",
          "opacity": 0.8,
          "size": 5,
          "symbol": "square"
         },
         "mode": "markers",
         "showlegend": false,
         "type": "scatter",
         "x": [
          5.777039824101231,
          5.777039824101231,
          5.777039824101231,
          5.759586531581287,
          5.759586531581287,
          5.759586531581287,
          5.759586531581287,
          5.759586531581287,
          5.759586531581287,
          5.759586531581287,
          5.742133239061344,
          5.759586531581287,
          5.742133239061344,
          5.759586531581287,
          5.759586531581287,
          5.742133239061344,
          5.759586531581287,
          5.759586531581287,
          5.742133239061344,
          5.742133239061344,
          5.759586531581287,
          5.742133239061344,
          5.742133239061344,
          5.742133239061344,
          5.742133239061344,
          5.742133239061344,
          2.600540585471551,
          2.5830872929516078,
          2.5830872929516078,
          2.5830872929516078,
          2.5830872929516078,
          2.5830872929516078,
          2.5830872929516078,
          2.5830872929516078,
          2.5656340004316642,
          2.5656340004316642,
          2.5656340004316642,
          2.5656340004316642,
          2.5830872929516078,
          2.5656340004316642,
          2.5656340004316642,
          2.5656340004316642,
          5.777039824101231,
          5.777039824101231,
          5.759586531581287,
          5.742133239061344,
          5.742133239061344,
          5.742133239061344,
          5.742133239061344,
          5.742133239061344,
          5.742133239061344,
          5.742133239061344,
          5.742133239061344,
          5.742133239061344,
          5.742133239061344,
          5.724679946541401,
          5.724679946541401,
          5.724679946541401,
          5.724679946541401,
          5.724679946541401,
          5.724679946541401,
          5.724679946541401,
          5.724679946541401,
          5.724679946541401,
          2.600540585471551,
          2.5830872929516078,
          2.5830872929516078,
          2.5656340004316642,
          2.5656340004316642,
          2.5656340004316642,
          2.5656340004316642,
          2.5656340004316642,
          2.5656340004316642,
          2.5656340004316642,
          2.5656340004316642,
          2.5656340004316642
         ],
         "y": [
          13,
          13,
          13,
          13,
          13,
          13,
          13,
          13,
          13,
          13,
          13,
          13,
          13,
          13,
          13,
          13,
          13,
          13,
          13,
          13,
          13,
          13,
          13,
          13,
          13,
          13,
          13,
          13,
          13,
          13,
          13,
          13,
          13,
          13,
          13,
          13,
          13,
          13,
          13,
          13,
          13,
          13,
          13,
          13,
          13,
          13,
          13,
          13,
          13,
          13,
          13,
          13,
          13,
          13,
          13,
          13,
          13,
          13,
          13,
          13,
          13,
          13,
          13,
          13,
          13,
          13,
          13,
          13,
          13,
          13,
          13,
          13,
          13,
          13,
          13,
          13
         ]
        },
        {
         "marker": {
          "color": "turquoise",
          "opacity": 1,
          "size": 3,
          "symbol": "square"
         },
         "mode": "markers",
         "showlegend": false,
         "type": "scatter",
         "x": [
          5.777039824101231,
          2.5830872929516078,
          5.759586531581287,
          2.5830872929516078
         ],
         "y": [
          13,
          13,
          13,
          13
         ]
        },
        {
         "marker": {
          "color": "grey",
          "opacity": 0.8,
          "size": 5,
          "symbol": "square"
         },
         "mode": "markers",
         "showlegend": false,
         "type": "scatter",
         "x": [
          5.777039824101231,
          5.777039824101231,
          5.759586531581287,
          5.777039824101231,
          5.777039824101231,
          5.777039824101231,
          5.777039824101231,
          5.777039824101231,
          5.777039824101231,
          5.777039824101231,
          5.777039824101231,
          5.777039824101231,
          5.777039824101231,
          5.777039824101231,
          2.6179938779914944,
          2.6179938779914944,
          2.5656340004316642,
          2.5656340004316642,
          2.5830872929516078,
          2.5830872929516078,
          2.5656340004316642,
          2.5830872929516078,
          2.5830872929516078,
          2.5656340004316642,
          2.5656340004316642,
          2.5656340004316642,
          2.5656340004316642,
          2.5656340004316642
         ],
         "y": [
          14,
          14,
          14,
          14,
          14,
          14,
          14,
          14,
          14,
          14,
          14,
          14,
          14,
          14,
          14,
          14,
          14,
          14,
          14,
          14,
          14,
          14,
          14,
          14,
          14,
          14,
          14,
          14
         ]
        },
        {
         "marker": {
          "color": "turquoise",
          "opacity": 1,
          "size": 3,
          "symbol": "square"
         },
         "mode": "markers",
         "showlegend": false,
         "type": "scatter",
         "x": [
          5.759586531581287,
          2.5656340004316642
         ],
         "y": [
          14,
          14
         ]
        },
        {
         "marker": {
          "color": "grey",
          "opacity": 0.8,
          "size": 5,
          "symbol": "square"
         },
         "mode": "markers",
         "showlegend": false,
         "type": "scatter",
         "x": [
          5.794493116621174,
          5.777039824101231,
          5.777039824101231,
          5.777039824101231,
          5.777039824101231,
          5.759586531581287,
          5.777039824101231,
          5.777039824101231,
          5.777039824101231,
          5.777039824101231,
          5.777039824101231,
          5.777039824101231,
          5.777039824101231,
          5.777039824101231,
          5.759586531581287,
          5.777039824101231,
          5.777039824101231,
          5.777039824101231,
          5.777039824101231,
          5.777039824101231,
          5.777039824101231,
          5.777039824101231,
          5.777039824101231,
          5.777039824101231,
          5.777039824101231,
          5.777039824101231,
          2.600540585471551,
          2.600540585471551,
          2.5830872929516078,
          2.5830872929516078,
          2.5830872929516078,
          2.5830872929516078,
          2.5830872929516078,
          2.5830872929516078,
          2.5830872929516078,
          2.5830872929516078,
          2.5830872929516078,
          2.5656340004316642,
          2.5656340004316642
         ],
         "y": [
          15,
          15,
          15,
          15,
          15,
          15,
          15,
          15,
          15,
          15,
          15,
          15,
          15,
          15,
          15,
          15,
          15,
          15,
          15,
          15,
          15,
          15,
          15,
          15,
          15,
          15,
          15,
          15,
          15,
          15,
          15,
          15,
          15,
          15,
          15,
          15,
          15,
          15,
          15
         ]
        },
        {
         "marker": {
          "color": "turquoise",
          "opacity": 1,
          "size": 3,
          "symbol": "square"
         },
         "mode": "markers",
         "showlegend": false,
         "type": "scatter",
         "x": [
          5.777039824101231,
          2.5830872929516078
         ],
         "y": [
          15,
          15
         ]
        },
        {
         "marker": {
          "color": "grey",
          "opacity": 0.8,
          "size": 5,
          "symbol": "square"
         },
         "mode": "markers",
         "showlegend": false,
         "type": "scatter",
         "x": [
          5.794493116621174,
          5.777039824101231,
          5.777039824101231,
          5.777039824101231,
          5.777039824101231,
          5.777039824101231,
          5.777039824101231,
          5.777039824101231,
          5.777039824101231,
          5.777039824101231,
          5.777039824101231,
          5.777039824101231,
          5.777039824101231,
          5.777039824101231,
          5.777039824101231,
          5.777039824101231,
          2.600540585471551,
          2.600540585471551,
          2.5830872929516078,
          2.5656340004316642,
          2.5656340004316642,
          2.5656340004316642,
          2.5656340004316642,
          2.5656340004316642,
          2.5656340004316642,
          2.548180707911721,
          2.5656340004316642,
          2.5656340004316642,
          2.5656340004316642,
          2.5656340004316642
         ],
         "y": [
          16,
          16,
          16,
          16,
          16,
          16,
          16,
          16,
          16,
          16,
          16,
          16,
          16,
          16,
          16,
          16,
          16,
          16,
          16,
          16,
          16,
          16,
          16,
          16,
          16,
          16,
          16,
          16,
          16,
          16
         ]
        },
        {
         "marker": {
          "color": "turquoise",
          "opacity": 1,
          "size": 3,
          "symbol": "square"
         },
         "mode": "markers",
         "showlegend": false,
         "type": "scatter",
         "x": [
          5.777039824101231,
          2.5830872929516078
         ],
         "y": [
          16,
          16
         ]
        },
        {
         "marker": {
          "color": "grey",
          "opacity": 0.8,
          "size": 5,
          "symbol": "square"
         },
         "mode": "markers",
         "showlegend": false,
         "type": "scatter",
         "x": [
          2.5656340004316642,
          2.548180707911721,
          2.548180707911721,
          2.548180707911721,
          2.548180707911721,
          2.548180707911721,
          2.1642082724729685
         ],
         "y": [
          17,
          17,
          17,
          17,
          17,
          17,
          17
         ]
        },
        {
         "marker": {
          "color": "turquoise",
          "opacity": 1,
          "size": 3,
          "symbol": "square"
         },
         "mode": "markers",
         "showlegend": false,
         "type": "scatter",
         "x": [],
         "y": []
        },
        {
         "marker": {
          "color": "grey",
          "opacity": 0.8,
          "size": 5,
          "symbol": "square"
         },
         "mode": "markers",
         "showlegend": false,
         "type": "scatter",
         "x": [
          5.794493116621174,
          5.777039824101231,
          5.759586531581287,
          5.759586531581287,
          5.759586531581287,
          5.759586531581287,
          5.759586531581287,
          5.759586531581287,
          5.759586531581287,
          5.759586531581287,
          5.759586531581287,
          5.759586531581287,
          5.759586531581287,
          5.759586531581287,
          2.600540585471551,
          2.600540585471551,
          2.5830872929516078,
          2.5830872929516078,
          2.5656340004316642,
          2.5656340004316642,
          2.5656340004316642,
          2.5656340004316642,
          2.5656340004316642,
          2.5656340004316642,
          2.5656340004316642,
          2.5656340004316642,
          2.5656340004316642,
          2.5656340004316642,
          2.5656340004316642,
          2.5830872929516078,
          2.5830872929516078,
          2.5656340004316642
         ],
         "y": [
          18,
          18,
          18,
          18,
          18,
          18,
          18,
          18,
          18,
          18,
          18,
          18,
          18,
          18,
          18,
          18,
          18,
          18,
          18,
          18,
          18,
          18,
          18,
          18,
          18,
          18,
          18,
          18,
          18,
          18,
          18,
          18
         ]
        },
        {
         "marker": {
          "color": "turquoise",
          "opacity": 1,
          "size": 3,
          "symbol": "square"
         },
         "mode": "markers",
         "showlegend": false,
         "type": "scatter",
         "x": [
          5.759586531581287,
          2.5830872929516078
         ],
         "y": [
          18,
          18
         ]
        },
        {
         "marker": {
          "color": "grey",
          "opacity": 0.8,
          "size": 5,
          "symbol": "square"
         },
         "mode": "markers",
         "showlegend": false,
         "type": "scatter",
         "x": [
          5.777039824101231,
          5.777039824101231,
          5.777039824101231,
          5.777039824101231,
          5.759586531581287,
          5.759586531581287,
          5.777039824101231,
          5.777039824101231,
          5.777039824101231,
          5.777039824101231,
          5.777039824101231,
          5.777039824101231,
          5.777039824101231,
          5.777039824101231,
          5.777039824101231,
          2.5830872929516078,
          2.600540585471551,
          2.5830872929516078,
          2.5656340004316642
         ],
         "y": [
          19,
          19,
          19,
          19,
          19,
          19,
          19,
          19,
          19,
          19,
          19,
          19,
          19,
          19,
          19,
          19,
          19,
          19,
          19
         ]
        },
        {
         "marker": {
          "color": "turquoise",
          "opacity": 1,
          "size": 3,
          "symbol": "square"
         },
         "mode": "markers",
         "showlegend": false,
         "type": "scatter",
         "x": [
          5.777039824101231,
          2.5830872929516078
         ],
         "y": [
          19,
          19
         ]
        },
        {
         "marker": {
          "color": "grey",
          "opacity": 0.8,
          "size": 5,
          "symbol": "square"
         },
         "mode": "markers",
         "showlegend": false,
         "type": "scatter",
         "x": [
          5.794493116621174,
          5.794493116621174,
          5.777039824101231,
          5.777039824101231,
          5.777039824101231,
          5.777039824101231,
          5.759586531581287,
          5.777039824101231,
          5.759586531581287,
          5.759586531581287,
          5.759586531581287,
          5.759586531581287,
          5.759586531581287,
          5.759586531581287,
          5.759586531581287,
          5.759586531581287,
          5.759586531581287,
          2.600540585471551,
          2.600540585471551,
          2.5830872929516078,
          2.5656340004316642,
          2.5830872929516078,
          2.5830872929516078,
          2.5830872929516078,
          2.5656340004316642,
          2.5830872929516078,
          2.5830872929516078
         ],
         "y": [
          20,
          20,
          20,
          20,
          20,
          20,
          20,
          20,
          20,
          20,
          20,
          20,
          20,
          20,
          20,
          20,
          20,
          20,
          20,
          20,
          20,
          20,
          20,
          20,
          20,
          20,
          20
         ]
        },
        {
         "marker": {
          "color": "turquoise",
          "opacity": 1,
          "size": 3,
          "symbol": "square"
         },
         "mode": "markers",
         "showlegend": false,
         "type": "scatter",
         "x": [
          5.777039824101231,
          2.5830872929516078
         ],
         "y": [
          20,
          20
         ]
        },
        {
         "marker": {
          "color": "grey",
          "opacity": 0.8,
          "size": 5,
          "symbol": "square"
         },
         "mode": "markers",
         "showlegend": false,
         "type": "scatter",
         "x": [
          5.794493116621174,
          5.777039824101231,
          5.759586531581287,
          5.759586531581287,
          5.759586531581287,
          5.759586531581287,
          5.759586531581287,
          5.759586531581287,
          5.759586531581287,
          5.759586531581287,
          5.759586531581287,
          5.742133239061344,
          5.742133239061344,
          5.759586531581287,
          5.759586531581287,
          5.742133239061344,
          5.759586531581287,
          2.600540585471551,
          2.5830872929516078,
          2.5830872929516078,
          2.5656340004316642,
          2.5656340004316642,
          2.5656340004316642,
          2.5830872929516078,
          2.5656340004316642,
          2.5656340004316642,
          2.5830872929516078,
          2.5656340004316642,
          2.5656340004316642,
          2.5830872929516078
         ],
         "y": [
          21,
          21,
          21,
          21,
          21,
          21,
          21,
          21,
          21,
          21,
          21,
          21,
          21,
          21,
          21,
          21,
          21,
          21,
          21,
          21,
          21,
          21,
          21,
          21,
          21,
          21,
          21,
          21,
          21,
          21
         ]
        },
        {
         "marker": {
          "color": "turquoise",
          "opacity": 1,
          "size": 3,
          "symbol": "square"
         },
         "mode": "markers",
         "showlegend": false,
         "type": "scatter",
         "x": [
          5.759586531581287,
          2.5830872929516078
         ],
         "y": [
          21,
          21
         ]
        },
        {
         "marker": {
          "color": "grey",
          "opacity": 0.8,
          "size": 5,
          "symbol": "square"
         },
         "mode": "markers",
         "showlegend": false,
         "type": "scatter",
         "x": [
          5.794493116621174,
          5.777039824101231,
          5.777039824101231,
          5.777039824101231,
          5.777039824101231,
          5.759586531581287,
          5.759586531581287,
          5.759586531581287,
          5.759586531581287,
          5.759586531581287,
          5.759586531581287,
          5.759586531581287,
          5.759586531581287,
          5.759586531581287,
          2.6179938779914944,
          2.600540585471551,
          2.600540585471551,
          2.5830872929516078,
          2.5830872929516078,
          2.5830872929516078,
          2.5656340004316642,
          2.5656340004316642,
          2.5830872929516078,
          2.5830872929516078,
          2.5830872929516078,
          2.5830872929516078
         ],
         "y": [
          22,
          22,
          22,
          22,
          22,
          22,
          22,
          22,
          22,
          22,
          22,
          22,
          22,
          22,
          22,
          22,
          22,
          22,
          22,
          22,
          22,
          22,
          22,
          22,
          22,
          22
         ]
        },
        {
         "marker": {
          "color": "turquoise",
          "opacity": 1,
          "size": 3,
          "symbol": "square"
         },
         "mode": "markers",
         "showlegend": false,
         "type": "scatter",
         "x": [
          5.777039824101231,
          2.600540585471551
         ],
         "y": [
          22,
          22
         ]
        },
        {
         "marker": {
          "color": "grey",
          "opacity": 0.8,
          "size": 5,
          "symbol": "square"
         },
         "mode": "markers",
         "showlegend": false,
         "type": "scatter",
         "x": [
          5.777039824101231,
          5.777039824101231,
          5.759586531581287,
          5.759586531581287,
          5.759586531581287,
          5.742133239061344,
          5.742133239061344,
          5.742133239061344,
          5.759586531581287,
          5.742133239061344,
          5.742133239061344,
          5.742133239061344,
          5.742133239061344,
          5.742133239061344,
          5.742133239061344,
          5.742133239061344,
          5.742133239061344,
          5.742133239061344,
          2.600540585471551,
          2.600540585471551,
          2.600540585471551,
          2.5830872929516078,
          2.5830872929516078,
          2.5830872929516078,
          2.5830872929516078,
          2.5830872929516078,
          2.5830872929516078,
          2.5830872929516078,
          2.5656340004316642,
          2.5656340004316642,
          2.5656340004316642,
          2.5656340004316642
         ],
         "y": [
          23,
          23,
          23,
          23,
          23,
          23,
          23,
          23,
          23,
          23,
          23,
          23,
          23,
          23,
          23,
          23,
          23,
          23,
          23,
          23,
          23,
          23,
          23,
          23,
          23,
          23,
          23,
          23,
          23,
          23,
          23,
          23
         ]
        },
        {
         "marker": {
          "color": "turquoise",
          "opacity": 1,
          "size": 3,
          "symbol": "square"
         },
         "mode": "markers",
         "showlegend": false,
         "type": "scatter",
         "x": [
          5.759586531581287,
          2.600540585471551
         ],
         "y": [
          23,
          23
         ]
        },
        {
         "marker": {
          "color": "grey",
          "opacity": 0.8,
          "size": 5,
          "symbol": "square"
         },
         "mode": "markers",
         "showlegend": false,
         "type": "scatter",
         "x": [
          5.794493116621174,
          5.777039824101231,
          5.777039824101231,
          5.759586531581287,
          5.759586531581287,
          5.759586531581287,
          5.759586531581287,
          5.759586531581287,
          5.759586531581287,
          5.759586531581287,
          5.759586531581287,
          5.759586531581287,
          2.6179938779914944,
          2.600540585471551,
          2.600540585471551,
          2.5830872929516078,
          2.5830872929516078,
          2.5830872929516078,
          2.5830872929516078,
          2.5830872929516078,
          2.5830872929516078,
          2.5830872929516078,
          2.5830872929516078,
          2.5830872929516078,
          2.5830872929516078,
          2.5830872929516078
         ],
         "y": [
          24,
          24,
          24,
          24,
          24,
          24,
          24,
          24,
          24,
          24,
          24,
          24,
          24,
          24,
          24,
          24,
          24,
          24,
          24,
          24,
          24,
          24,
          24,
          24,
          24,
          24
         ]
        },
        {
         "marker": {
          "color": "turquoise",
          "opacity": 1,
          "size": 3,
          "symbol": "square"
         },
         "mode": "markers",
         "showlegend": false,
         "type": "scatter",
         "x": [
          5.777039824101231,
          2.600540585471551
         ],
         "y": [
          24,
          24
         ]
        },
        {
         "marker": {
          "color": "grey",
          "opacity": 0.8,
          "size": 5,
          "symbol": "square"
         },
         "mode": "markers",
         "showlegend": false,
         "type": "scatter",
         "x": [
          5.777039824101231,
          5.777039824101231,
          5.777039824101231,
          5.742133239061344,
          5.742133239061344,
          5.742133239061344,
          5.742133239061344,
          5.742133239061344,
          5.742133239061344,
          5.742133239061344,
          5.742133239061344,
          5.742133239061344,
          5.742133239061344,
          5.742133239061344,
          5.742133239061344,
          5.742133239061344,
          2.600540585471551,
          2.600540585471551,
          2.5830872929516078,
          2.5656340004316642,
          2.5830872929516078,
          2.5656340004316642,
          2.5830872929516078,
          2.5656340004316642,
          2.5830872929516078,
          2.5656340004316642,
          2.5830872929516078,
          2.5830872929516078
         ],
         "y": [
          25,
          25,
          25,
          25,
          25,
          25,
          25,
          25,
          25,
          25,
          25,
          25,
          25,
          25,
          25,
          25,
          25,
          25,
          25,
          25,
          25,
          25,
          25,
          25,
          25,
          25,
          25,
          25
         ]
        },
        {
         "marker": {
          "color": "turquoise",
          "opacity": 1,
          "size": 3,
          "symbol": "square"
         },
         "mode": "markers",
         "showlegend": false,
         "type": "scatter",
         "x": [
          5.777039824101231,
          2.5830872929516078
         ],
         "y": [
          25,
          25
         ]
        },
        {
         "marker": {
          "color": "grey",
          "opacity": 0.8,
          "size": 5,
          "symbol": "square"
         },
         "mode": "markers",
         "showlegend": false,
         "type": "scatter",
         "x": [
          5.82939970166106,
          5.777039824101231,
          5.759586531581287,
          5.759586531581287,
          5.759586531581287,
          5.759586531581287,
          5.759586531581287,
          5.759586531581287,
          5.759586531581287,
          5.759586531581287,
          5.759586531581287,
          5.759586531581287,
          5.759586531581287,
          5.759586531581287,
          5.759586531581287,
          2.6179938779914944,
          2.600540585471551,
          2.600540585471551,
          2.5656340004316642,
          2.5656340004316642,
          2.5656340004316642,
          2.5656340004316642,
          2.5656340004316642,
          2.5656340004316642,
          2.5656340004316642,
          2.5656340004316642,
          2.5656340004316642,
          2.5656340004316642,
          2.5656340004316642,
          2.5656340004316642
         ],
         "y": [
          26,
          26,
          26,
          26,
          26,
          26,
          26,
          26,
          26,
          26,
          26,
          26,
          26,
          26,
          26,
          26,
          26,
          26,
          26,
          26,
          26,
          26,
          26,
          26,
          26,
          26,
          26,
          26,
          26,
          26
         ]
        },
        {
         "marker": {
          "color": "turquoise",
          "opacity": 1,
          "size": 3,
          "symbol": "square"
         },
         "mode": "markers",
         "showlegend": false,
         "type": "scatter",
         "x": [
          5.777039824101231,
          2.600540585471551
         ],
         "y": [
          26,
          26
         ]
        },
        {
         "marker": {
          "color": "grey",
          "opacity": 0.8,
          "size": 5,
          "symbol": "square"
         },
         "mode": "markers",
         "showlegend": false,
         "type": "scatter",
         "x": [
          5.777039824101231,
          5.759586531581287,
          5.759586531581287,
          5.759586531581287,
          5.759586531581287,
          5.759586531581287,
          5.759586531581287,
          5.759586531581287,
          5.759586531581287,
          5.759586531581287,
          5.759586531581287,
          5.759586531581287,
          5.759586531581287,
          5.759586531581287,
          5.759586531581287,
          5.759586531581287,
          5.759586531581287,
          5.759586531581287,
          2.600540585471551,
          2.600540585471551,
          2.5656340004316642,
          2.5830872929516078,
          2.5830872929516078,
          2.5830872929516078,
          2.5830872929516078,
          2.5656340004316642,
          2.5830872929516078,
          2.5830872929516078,
          2.5830872929516078,
          2.5830872929516078,
          2.5830872929516078,
          2.5830872929516078
         ],
         "y": [
          27,
          27,
          27,
          27,
          27,
          27,
          27,
          27,
          27,
          27,
          27,
          27,
          27,
          27,
          27,
          27,
          27,
          27,
          27,
          27,
          27,
          27,
          27,
          27,
          27,
          27,
          27,
          27,
          27,
          27,
          27,
          27
         ]
        },
        {
         "marker": {
          "color": "turquoise",
          "opacity": 1,
          "size": 3,
          "symbol": "square"
         },
         "mode": "markers",
         "showlegend": false,
         "type": "scatter",
         "x": [
          5.759586531581287,
          2.5656340004316642
         ],
         "y": [
          27,
          27
         ]
        },
        {
         "marker": {
          "color": "grey",
          "opacity": 0.8,
          "size": 5,
          "symbol": "square"
         },
         "mode": "markers",
         "showlegend": false,
         "type": "scatter",
         "x": [
          5.794493116621174,
          5.794493116621174,
          5.777039824101231,
          5.777039824101231,
          5.794493116621174,
          5.794493116621174,
          5.777039824101231,
          5.777039824101231,
          5.777039824101231,
          5.777039824101231,
          5.777039824101231,
          5.777039824101231,
          5.777039824101231,
          5.777039824101231,
          5.777039824101231,
          2.6179938779914944,
          2.600540585471551,
          2.600540585471551,
          2.5656340004316642,
          2.5830872929516078,
          2.5830872929516078,
          2.5656340004316642,
          2.5656340004316642,
          2.5656340004316642,
          2.5656340004316642,
          2.5656340004316642,
          2.5656340004316642,
          2.5656340004316642,
          2.5656340004316642,
          2.5656340004316642,
          2.5656340004316642,
          2.5656340004316642,
          2.5656340004316642,
          2.5656340004316642,
          2.5656340004316642,
          2.5656340004316642,
          2.5656340004316642,
          2.5656340004316642,
          2.5656340004316642,
          2.5656340004316642,
          2.5656340004316642,
          2.5830872929516078,
          2.5830872929516078
         ],
         "y": [
          28,
          28,
          28,
          28,
          28,
          28,
          28,
          28,
          28,
          28,
          28,
          28,
          28,
          28,
          28,
          28,
          28,
          28,
          28,
          28,
          28,
          28,
          28,
          28,
          28,
          28,
          28,
          28,
          28,
          28,
          28,
          28,
          28,
          28,
          28,
          28,
          28,
          28,
          28,
          28,
          28,
          28,
          28
         ]
        },
        {
         "marker": {
          "color": "turquoise",
          "opacity": 1,
          "size": 3,
          "symbol": "square"
         },
         "mode": "markers",
         "showlegend": false,
         "type": "scatter",
         "x": [
          5.777039824101231,
          2.600540585471551
         ],
         "y": [
          28,
          28
         ]
        },
        {
         "marker": {
          "color": "grey",
          "opacity": 0.8,
          "size": 5,
          "symbol": "square"
         },
         "mode": "markers",
         "showlegend": false,
         "type": "scatter",
         "x": [
          5.777039824101231,
          5.777039824101231,
          5.759586531581287,
          5.777039824101231,
          5.777039824101231,
          5.777039824101231,
          5.759586531581287,
          5.759586531581287,
          5.759586531581287,
          5.759586531581287,
          5.759586531581287,
          5.759586531581287,
          5.759586531581287,
          5.759586531581287,
          5.759586531581287,
          2.5830872929516078,
          2.5830872929516078,
          2.5830872929516078,
          2.5830872929516078,
          2.5830872929516078,
          2.5656340004316642,
          2.5656340004316642,
          2.5830872929516078,
          2.5656340004316642,
          2.5830872929516078,
          2.5830872929516078,
          2.5830872929516078,
          2.5830872929516078,
          2.5656340004316642,
          2.5656340004316642,
          2.5656340004316642,
          2.5656340004316642,
          2.5830872929516078,
          2.5656340004316642,
          2.5656340004316642
         ],
         "y": [
          29,
          29,
          29,
          29,
          29,
          29,
          29,
          29,
          29,
          29,
          29,
          29,
          29,
          29,
          29,
          29,
          29,
          29,
          29,
          29,
          29,
          29,
          29,
          29,
          29,
          29,
          29,
          29,
          29,
          29,
          29,
          29,
          29,
          29,
          29
         ]
        },
        {
         "marker": {
          "color": "turquoise",
          "opacity": 1,
          "size": 3,
          "symbol": "square"
         },
         "mode": "markers",
         "showlegend": false,
         "type": "scatter",
         "x": [
          5.759586531581287,
          2.5830872929516078
         ],
         "y": [
          29,
          29
         ]
        },
        {
         "marker": {
          "color": "grey",
          "opacity": 0.8,
          "size": 5,
          "symbol": "square"
         },
         "mode": "markers",
         "showlegend": false,
         "type": "scatter",
         "x": [
          5.777039824101231,
          5.777039824101231,
          5.777039824101231,
          5.759586531581287,
          5.777039824101231,
          5.777039824101231,
          5.777039824101231,
          5.777039824101231,
          5.759586531581287,
          5.759586531581287,
          5.777039824101231,
          5.777039824101231,
          5.759586531581287,
          5.759586531581287,
          2.6179938779914944,
          2.600540585471551,
          2.5830872929516078,
          2.5656340004316642,
          2.5656340004316642,
          2.5830872929516078,
          2.5830872929516078,
          2.5830872929516078,
          2.5830872929516078,
          2.5830872929516078,
          2.5830872929516078
         ],
         "y": [
          30,
          30,
          30,
          30,
          30,
          30,
          30,
          30,
          30,
          30,
          30,
          30,
          30,
          30,
          30,
          30,
          30,
          30,
          30,
          30,
          30,
          30,
          30,
          30,
          30
         ]
        },
        {
         "marker": {
          "color": "turquoise",
          "opacity": 1,
          "size": 3,
          "symbol": "square"
         },
         "mode": "markers",
         "showlegend": false,
         "type": "scatter",
         "x": [
          5.777039824101231,
          2.5830872929516078
         ],
         "y": [
          30,
          30
         ]
        },
        {
         "marker": {
          "color": "grey",
          "opacity": 0.8,
          "size": 5,
          "symbol": "square"
         },
         "mode": "markers",
         "showlegend": false,
         "type": "scatter",
         "x": [
          5.811946409141117,
          5.794493116621174,
          5.777039824101231,
          5.794493116621174,
          5.794493116621174,
          5.794493116621174,
          5.794493116621174,
          5.794493116621174,
          5.794493116621174,
          5.794493116621174,
          5.794493116621174,
          5.794493116621174,
          5.794493116621174,
          5.794493116621174,
          2.6179938779914944,
          2.600540585471551,
          2.600540585471551,
          2.5830872929516078,
          2.5830872929516078,
          2.5830872929516078,
          2.5830872929516078,
          2.5830872929516078,
          2.5830872929516078,
          2.5830872929516078,
          2.5830872929516078,
          2.5830872929516078,
          2.5830872929516078
         ],
         "y": [
          31,
          31,
          31,
          31,
          31,
          31,
          31,
          31,
          31,
          31,
          31,
          31,
          31,
          31,
          31,
          31,
          31,
          31,
          31,
          31,
          31,
          31,
          31,
          31,
          31,
          31,
          31
         ]
        },
        {
         "marker": {
          "color": "turquoise",
          "opacity": 1,
          "size": 3,
          "symbol": "square"
         },
         "mode": "markers",
         "showlegend": false,
         "type": "scatter",
         "x": [
          5.777039824101231,
          2.600540585471551
         ],
         "y": [
          31,
          31
         ]
        },
        {
         "marker": {
          "color": "grey",
          "opacity": 0.8,
          "size": 5,
          "symbol": "square"
         },
         "mode": "markers",
         "showlegend": false,
         "type": "scatter",
         "x": [
          5.811946409141117,
          5.794493116621174,
          5.794493116621174,
          5.777039824101231,
          5.777039824101231,
          5.777039824101231,
          5.777039824101231,
          5.777039824101231,
          5.777039824101231,
          5.777039824101231,
          5.777039824101231,
          2.6179938779914944,
          2.6179938779914944,
          2.600540585471551,
          2.5830872929516078,
          2.5830872929516078,
          2.5830872929516078,
          2.5830872929516078,
          2.5830872929516078,
          2.5830872929516078,
          2.5830872929516078,
          2.5830872929516078,
          2.5830872929516078,
          2.5830872929516078,
          2.5830872929516078,
          2.5830872929516078,
          2.5830872929516078,
          2.5830872929516078,
          2.5830872929516078,
          2.5830872929516078,
          2.5830872929516078,
          2.5656340004316642,
          2.3911010752322315
         ],
         "y": [
          32,
          32,
          32,
          32,
          32,
          32,
          32,
          32,
          32,
          32,
          32,
          32,
          32,
          32,
          32,
          32,
          32,
          32,
          32,
          32,
          32,
          32,
          32,
          32,
          32,
          32,
          32,
          32,
          32,
          32,
          32,
          32,
          32
         ]
        },
        {
         "marker": {
          "color": "turquoise",
          "opacity": 1,
          "size": 3,
          "symbol": "square"
         },
         "mode": "markers",
         "showlegend": false,
         "type": "scatter",
         "x": [
          5.794493116621174,
          2.600540585471551
         ],
         "y": [
          32,
          32
         ]
        },
        {
         "marker": {
          "color": "grey",
          "opacity": 0.8,
          "size": 5,
          "symbol": "square"
         },
         "mode": "markers",
         "showlegend": false,
         "type": "scatter",
         "x": [
          5.794493116621174,
          5.777039824101231,
          5.777039824101231,
          5.777039824101231,
          5.777039824101231,
          5.777039824101231,
          5.777039824101231,
          5.777039824101231,
          5.759586531581287,
          5.777039824101231,
          5.777039824101231,
          5.777039824101231,
          5.777039824101231,
          5.777039824101231,
          5.777039824101231,
          5.777039824101231,
          2.6179938779914944,
          2.600540585471551,
          2.5830872929516078,
          2.5830872929516078,
          2.5656340004316642,
          2.5656340004316642,
          2.5830872929516078,
          2.5656340004316642,
          2.5830872929516078,
          2.5656340004316642,
          2.5656340004316642,
          2.5656340004316642,
          2.5830872929516078
         ],
         "y": [
          33,
          33,
          33,
          33,
          33,
          33,
          33,
          33,
          33,
          33,
          33,
          33,
          33,
          33,
          33,
          33,
          33,
          33,
          33,
          33,
          33,
          33,
          33,
          33,
          33,
          33,
          33,
          33,
          33
         ]
        },
        {
         "marker": {
          "color": "turquoise",
          "opacity": 1,
          "size": 3,
          "symbol": "square"
         },
         "mode": "markers",
         "showlegend": false,
         "type": "scatter",
         "x": [
          5.777039824101231,
          2.5830872929516078
         ],
         "y": [
          33,
          33
         ]
        },
        {
         "marker": {
          "color": "grey",
          "opacity": 0.8,
          "size": 5,
          "symbol": "square"
         },
         "mode": "markers",
         "showlegend": false,
         "type": "scatter",
         "x": [
          5.794493116621174,
          5.794493116621174,
          5.794493116621174,
          5.777039824101231,
          5.777039824101231,
          5.794493116621174,
          5.777039824101231,
          5.794493116621174,
          5.777039824101231,
          5.777039824101231,
          5.777039824101231,
          5.777039824101231,
          5.777039824101231,
          5.777039824101231,
          5.777039824101231,
          5.777039824101231,
          5.777039824101231,
          2.6179938779914944,
          2.600540585471551,
          2.600540585471551,
          2.5830872929516078,
          2.5656340004316642,
          2.5830872929516078,
          2.5830872929516078,
          2.5656340004316642,
          2.5830872929516078,
          2.5830872929516078,
          2.5830872929516078
         ],
         "y": [
          34,
          34,
          34,
          34,
          34,
          34,
          34,
          34,
          34,
          34,
          34,
          34,
          34,
          34,
          34,
          34,
          34,
          34,
          34,
          34,
          34,
          34,
          34,
          34,
          34,
          34,
          34,
          34
         ]
        },
        {
         "marker": {
          "color": "turquoise",
          "opacity": 1,
          "size": 3,
          "symbol": "square"
         },
         "mode": "markers",
         "showlegend": false,
         "type": "scatter",
         "x": [
          5.794493116621174,
          2.600540585471551
         ],
         "y": [
          34,
          34
         ]
        },
        {
         "marker": {
          "color": "grey",
          "opacity": 0.8,
          "size": 5,
          "symbol": "square"
         },
         "mode": "markers",
         "showlegend": false,
         "type": "scatter",
         "x": [
          5.794493116621174,
          5.794493116621174,
          5.777039824101231,
          5.794493116621174,
          5.794493116621174,
          5.794493116621174,
          5.794493116621174,
          5.794493116621174,
          5.794493116621174,
          5.794493116621174,
          5.777039824101231,
          2.6179938779914944,
          2.6179938779914944,
          2.600540585471551,
          2.5830872929516078,
          2.5830872929516078,
          2.5830872929516078,
          2.5656340004316642,
          2.5830872929516078,
          2.5656340004316642,
          2.5656340004316642,
          2.5656340004316642,
          2.5656340004316642,
          2.5830872929516078,
          2.5656340004316642,
          2.5656340004316642,
          2.5656340004316642,
          2.5656340004316642,
          2.5656340004316642
         ],
         "y": [
          35,
          35,
          35,
          35,
          35,
          35,
          35,
          35,
          35,
          35,
          35,
          35,
          35,
          35,
          35,
          35,
          35,
          35,
          35,
          35,
          35,
          35,
          35,
          35,
          35,
          35,
          35,
          35,
          35
         ]
        },
        {
         "marker": {
          "color": "turquoise",
          "opacity": 1,
          "size": 3,
          "symbol": "square"
         },
         "mode": "markers",
         "showlegend": false,
         "type": "scatter",
         "x": [
          5.777039824101231,
          2.600540585471551
         ],
         "y": [
          35,
          35
         ]
        },
        {
         "marker": {
          "color": "grey",
          "opacity": 0.8,
          "size": 5,
          "symbol": "square"
         },
         "mode": "markers",
         "showlegend": false,
         "type": "scatter",
         "x": [
          1.7278759594743862,
          1.7278759594743862,
          1.7278759594743862,
          1.7278759594743862
         ],
         "y": [
          36,
          36,
          36,
          36
         ]
        },
        {
         "marker": {
          "color": "turquoise",
          "opacity": 1,
          "size": 3,
          "symbol": "square"
         },
         "mode": "markers",
         "showlegend": false,
         "type": "scatter",
         "x": [],
         "y": []
        },
        {
         "marker": {
          "color": "grey",
          "opacity": 0.8,
          "size": 5,
          "symbol": "square"
         },
         "mode": "markers",
         "showlegend": false,
         "type": "scatter",
         "x": [
          5.777039824101231,
          5.777039824101231,
          5.777039824101231,
          5.742133239061344,
          5.759586531581287,
          5.759586531581287,
          5.742133239061344,
          5.742133239061344,
          5.6374134839416845,
          2.600540585471551,
          2.600540585471551,
          2.600540585471551,
          2.600540585471551,
          2.5830872929516078,
          2.600540585471551,
          2.600540585471551,
          2.600540585471551,
          2.600540585471551
         ],
         "y": [
          37,
          37,
          37,
          37,
          37,
          37,
          37,
          37,
          37,
          37,
          37,
          37,
          37,
          37,
          37,
          37,
          37,
          37
         ]
        },
        {
         "marker": {
          "color": "turquoise",
          "opacity": 1,
          "size": 3,
          "symbol": "square"
         },
         "mode": "markers",
         "showlegend": false,
         "type": "scatter",
         "x": [
          5.777039824101231,
          2.600540585471551
         ],
         "y": [
          37,
          37
         ]
        },
        {
         "marker": {
          "color": "grey",
          "opacity": 0.8,
          "size": 5,
          "symbol": "square"
         },
         "mode": "markers",
         "showlegend": false,
         "type": "scatter",
         "x": [
          5.794493116621174,
          5.794493116621174,
          5.794493116621174,
          5.794493116621174,
          5.777039824101231,
          5.777039824101231,
          5.777039824101231,
          5.777039824101231,
          5.777039824101231,
          5.777039824101231,
          2.5830872929516078,
          2.5830872929516078,
          2.5656340004316642,
          2.5830872929516078,
          2.5830872929516078,
          2.5830872929516078,
          2.5830872929516078,
          2.5830872929516078,
          2.5830872929516078
         ],
         "y": [
          38,
          38,
          38,
          38,
          38,
          38,
          38,
          38,
          38,
          38,
          38,
          38,
          38,
          38,
          38,
          38,
          38,
          38,
          38
         ]
        },
        {
         "marker": {
          "color": "turquoise",
          "opacity": 1,
          "size": 3,
          "symbol": "square"
         },
         "mode": "markers",
         "showlegend": false,
         "type": "scatter",
         "x": [
          5.794493116621174,
          2.5656340004316642
         ],
         "y": [
          38,
          38
         ]
        },
        {
         "marker": {
          "color": "grey",
          "opacity": 0.8,
          "size": 5,
          "symbol": "square"
         },
         "mode": "markers",
         "showlegend": false,
         "type": "scatter",
         "x": [
          5.811946409141117,
          5.794493116621174,
          5.794493116621174,
          5.794493116621174,
          5.794493116621174,
          5.811946409141117,
          5.794493116621174,
          5.794493116621174,
          5.794493116621174,
          5.794493116621174,
          5.794493116621174,
          5.794493116621174,
          5.794493116621174,
          2.6179938779914944,
          2.600540585471551,
          2.600540585471551,
          2.5830872929516078,
          2.5830872929516078,
          2.5830872929516078,
          2.5830872929516078,
          2.5830872929516078,
          2.5656340004316642,
          2.5656340004316642,
          2.5656340004316642,
          2.5830872929516078,
          2.5830872929516078,
          2.5830872929516078
         ],
         "y": [
          39,
          39,
          39,
          39,
          39,
          39,
          39,
          39,
          39,
          39,
          39,
          39,
          39,
          39,
          39,
          39,
          39,
          39,
          39,
          39,
          39,
          39,
          39,
          39,
          39,
          39,
          39
         ]
        },
        {
         "marker": {
          "color": "turquoise",
          "opacity": 1,
          "size": 3,
          "symbol": "square"
         },
         "mode": "markers",
         "showlegend": false,
         "type": "scatter",
         "x": [
          5.794493116621174,
          2.600540585471551
         ],
         "y": [
          39,
          39
         ]
        },
        {
         "marker": {
          "color": "grey",
          "opacity": 0.8,
          "size": 5,
          "symbol": "square"
         },
         "mode": "markers",
         "showlegend": false,
         "type": "scatter",
         "x": [
          5.811946409141117,
          5.794493116621174,
          5.794493116621174,
          5.794493116621174,
          5.794493116621174,
          5.811946409141117,
          5.794493116621174,
          5.794493116621174,
          5.794493116621174,
          5.794493116621174,
          5.794493116621174,
          2.7401669256310974,
          2.600540585471551,
          2.600540585471551,
          2.600540585471551,
          1.7976891295541595,
          1.7976891295541595
         ],
         "y": [
          40,
          40,
          40,
          40,
          40,
          40,
          40,
          40,
          40,
          40,
          40,
          40,
          40,
          40,
          40,
          40,
          40
         ]
        },
        {
         "marker": {
          "color": "turquoise",
          "opacity": 1,
          "size": 3,
          "symbol": "square"
         },
         "mode": "markers",
         "showlegend": false,
         "type": "scatter",
         "x": [
          5.794493116621174,
          2.600540585471551
         ],
         "y": [
          40,
          40
         ]
        },
        {
         "marker": {
          "color": "grey",
          "opacity": 0.8,
          "size": 5,
          "symbol": "square"
         },
         "mode": "markers",
         "showlegend": false,
         "type": "scatter",
         "x": [
          5.794493116621174,
          5.794493116621174,
          5.794493116621174,
          5.794493116621174,
          5.794493116621174,
          5.794493116621174,
          5.777039824101231,
          5.794493116621174,
          5.794493116621174,
          5.794493116621174,
          5.794493116621174,
          5.794493116621174,
          5.794493116621174,
          5.794493116621174,
          5.777039824101231,
          5.794493116621174,
          5.794493116621174,
          5.794493116621174,
          5.777039824101231,
          2.6179938779914944,
          2.6179938779914944,
          2.600540585471551,
          2.5830872929516078,
          2.5830872929516078,
          2.5830872929516078,
          2.5830872929516078,
          2.5830872929516078,
          2.5830872929516078
         ],
         "y": [
          41,
          41,
          41,
          41,
          41,
          41,
          41,
          41,
          41,
          41,
          41,
          41,
          41,
          41,
          41,
          41,
          41,
          41,
          41,
          41,
          41,
          41,
          41,
          41,
          41,
          41,
          41,
          41
         ]
        },
        {
         "marker": {
          "color": "turquoise",
          "opacity": 1,
          "size": 3,
          "symbol": "square"
         },
         "mode": "markers",
         "showlegend": false,
         "type": "scatter",
         "x": [
          5.794493116621174,
          2.600540585471551
         ],
         "y": [
          41,
          41
         ]
        },
        {
         "marker": {
          "color": "grey",
          "opacity": 0.8,
          "size": 5,
          "symbol": "square"
         },
         "mode": "markers",
         "showlegend": false,
         "type": "scatter",
         "x": [
          5.794493116621174,
          5.794493116621174,
          5.811946409141117,
          5.811946409141117,
          5.811946409141117,
          5.794493116621174,
          5.794493116621174,
          5.794493116621174,
          5.794493116621174,
          5.794493116621174,
          5.794493116621174,
          5.794493116621174,
          5.794493116621174,
          5.794493116621174,
          2.600540585471551,
          2.600540585471551,
          2.5830872929516078,
          2.5830872929516078,
          2.5830872929516078,
          2.5830872929516078,
          2.5830872929516078,
          2.5656340004316642,
          2.5830872929516078,
          2.5656340004316642,
          2.5656340004316642,
          2.5656340004316642,
          2.5656340004316642,
          2.5656340004316642,
          2.5656340004316642,
          2.5656340004316642,
          2.5656340004316642,
          2.5830872929516078,
          2.5830872929516078,
          2.5656340004316642,
          2.5656340004316642,
          2.5656340004316642,
          2.5656340004316642,
          2.5830872929516078,
          2.5830872929516078,
          2.600540585471551
         ],
         "y": [
          42,
          42,
          42,
          42,
          42,
          42,
          42,
          42,
          42,
          42,
          42,
          42,
          42,
          42,
          42,
          42,
          42,
          42,
          42,
          42,
          42,
          42,
          42,
          42,
          42,
          42,
          42,
          42,
          42,
          42,
          42,
          42,
          42,
          42,
          42,
          42,
          42,
          42,
          42,
          42
         ]
        },
        {
         "marker": {
          "color": "turquoise",
          "opacity": 1,
          "size": 3,
          "symbol": "square"
         },
         "mode": "markers",
         "showlegend": false,
         "type": "scatter",
         "x": [
          5.811946409141117,
          2.5830872929516078
         ],
         "y": [
          42,
          42
         ]
        },
        {
         "marker": {
          "color": "grey",
          "opacity": 0.8,
          "size": 5,
          "symbol": "square"
         },
         "mode": "markers",
         "showlegend": false,
         "type": "scatter",
         "x": [
          5.794493116621174,
          5.794493116621174,
          5.777039824101231,
          5.777039824101231,
          5.777039824101231,
          5.759586531581287,
          5.777039824101231,
          5.777039824101231,
          5.777039824101231,
          5.759586531581287,
          5.777039824101231,
          5.777039824101231,
          5.777039824101231,
          5.777039824101231,
          5.777039824101231,
          5.759586531581287,
          2.600540585471551,
          2.600540585471551,
          2.600540585471551,
          2.5830872929516078,
          2.5830872929516078,
          2.600540585471551,
          2.5830872929516078,
          2.600540585471551,
          2.5830872929516078,
          2.5830872929516078,
          2.600540585471551
         ],
         "y": [
          43,
          43,
          43,
          43,
          43,
          43,
          43,
          43,
          43,
          43,
          43,
          43,
          43,
          43,
          43,
          43,
          43,
          43,
          43,
          43,
          43,
          43,
          43,
          43,
          43,
          43,
          43
         ]
        },
        {
         "marker": {
          "color": "turquoise",
          "opacity": 1,
          "size": 3,
          "symbol": "square"
         },
         "mode": "markers",
         "showlegend": false,
         "type": "scatter",
         "x": [
          5.777039824101231,
          2.600540585471551
         ],
         "y": [
          43,
          43
         ]
        },
        {
         "marker": {
          "color": "grey",
          "opacity": 0.8,
          "size": 5,
          "symbol": "square"
         },
         "mode": "markers",
         "showlegend": false,
         "type": "scatter",
         "x": [
          4.991641660703783,
          4.991641660703783,
          4.991641660703783,
          2.600540585471551,
          2.5830872929516078,
          2.5830872929516078,
          2.600540585471551,
          2.5830872929516078,
          2.5830872929516078,
          2.5830872929516078,
          2.5830872929516078,
          2.5830872929516078,
          2.600540585471551,
          2.5830872929516078,
          2.5830872929516078,
          2.5830872929516078,
          2.5830872929516078,
          2.600540585471551,
          2.5830872929516078,
          2.5830872929516078,
          2.5830872929516078,
          2.5830872929516078
         ],
         "y": [
          44,
          44,
          44,
          44,
          44,
          44,
          44,
          44,
          44,
          44,
          44,
          44,
          44,
          44,
          44,
          44,
          44,
          44,
          44,
          44,
          44,
          44
         ]
        },
        {
         "marker": {
          "color": "turquoise",
          "opacity": 1,
          "size": 3,
          "symbol": "square"
         },
         "mode": "markers",
         "showlegend": false,
         "type": "scatter",
         "x": [],
         "y": []
        },
        {
         "marker": {
          "color": "grey",
          "opacity": 0.8,
          "size": 5,
          "symbol": "square"
         },
         "mode": "markers",
         "showlegend": false,
         "type": "scatter",
         "x": [
          5.794493116621174,
          5.794493116621174,
          5.777039824101231,
          5.777039824101231,
          5.777039824101231,
          5.777039824101231,
          5.777039824101231,
          5.777039824101231,
          5.777039824101231,
          5.777039824101231,
          5.777039824101231,
          5.777039824101231,
          5.777039824101231,
          2.6179938779914944,
          2.6179938779914944,
          2.600540585471551,
          2.5830872929516078,
          2.5830872929516078,
          2.5656340004316642,
          2.5830872929516078,
          2.5830872929516078,
          2.5830872929516078,
          2.5830872929516078,
          2.5656340004316642
         ],
         "y": [
          45,
          45,
          45,
          45,
          45,
          45,
          45,
          45,
          45,
          45,
          45,
          45,
          45,
          45,
          45,
          45,
          45,
          45,
          45,
          45,
          45,
          45,
          45,
          45
         ]
        },
        {
         "marker": {
          "color": "turquoise",
          "opacity": 1,
          "size": 3,
          "symbol": "square"
         },
         "mode": "markers",
         "showlegend": false,
         "type": "scatter",
         "x": [
          5.777039824101231,
          2.600540585471551
         ],
         "y": [
          45,
          45
         ]
        },
        {
         "marker": {
          "color": "grey",
          "opacity": 0.8,
          "size": 5,
          "symbol": "square"
         },
         "mode": "markers",
         "showlegend": false,
         "type": "scatter",
         "x": [
          5.794493116621174,
          5.794493116621174,
          5.794493116621174,
          5.794493116621174,
          5.794493116621174,
          5.811946409141117,
          5.794493116621174,
          5.794493116621174,
          5.794493116621174,
          5.794493116621174,
          5.794493116621174,
          2.6354471705114375,
          2.6179938779914944,
          2.600540585471551,
          2.600540585471551,
          2.5830872929516078,
          2.5830872929516078,
          2.5830872929516078,
          2.5830872929516078,
          2.600540585471551,
          2.600540585471551,
          2.5830872929516078,
          2.5830872929516078,
          2.5830872929516078,
          2.5830872929516078,
          2.5830872929516078,
          2.5830872929516078,
          2.5830872929516078,
          5.794493116621174,
          5.777039824101231,
          5.777039824101231,
          5.759586531581287,
          5.777039824101231,
          5.777039824101231,
          5.777039824101231,
          5.759586531581287,
          5.759586531581287,
          5.759586531581287,
          5.759586531581287,
          5.759586531581287,
          2.6354471705114375,
          2.600540585471551,
          2.600540585471551,
          2.600540585471551,
          2.5830872929516078,
          2.5830872929516078,
          2.5830872929516078,
          2.5830872929516078,
          2.5830872929516078,
          2.5830872929516078,
          2.5830872929516078
         ],
         "y": [
          46,
          46,
          46,
          46,
          46,
          46,
          46,
          46,
          46,
          46,
          46,
          46,
          46,
          46,
          46,
          46,
          46,
          46,
          46,
          46,
          46,
          46,
          46,
          46,
          46,
          46,
          46,
          46,
          46,
          46,
          46,
          46,
          46,
          46,
          46,
          46,
          46,
          46,
          46,
          46,
          46,
          46,
          46,
          46,
          46,
          46,
          46,
          46,
          46,
          46,
          46
         ]
        },
        {
         "marker": {
          "color": "turquoise",
          "opacity": 1,
          "size": 3,
          "symbol": "square"
         },
         "mode": "markers",
         "showlegend": false,
         "type": "scatter",
         "x": [
          5.794493116621174,
          2.600540585471551,
          5.777039824101231,
          2.600540585471551
         ],
         "y": [
          46,
          46,
          46,
          46
         ]
        },
        {
         "marker": {
          "color": "grey",
          "opacity": 0.8,
          "size": 5,
          "symbol": "square"
         },
         "mode": "markers",
         "showlegend": false,
         "type": "scatter",
         "x": [
          5.794493116621174,
          5.777039824101231,
          5.777039824101231,
          5.759586531581287,
          5.759586531581287,
          5.759586531581287,
          5.759586531581287,
          5.759586531581287,
          5.759586531581287,
          5.759586531581287,
          2.6179938779914944,
          2.6179938779914944,
          2.6179938779914944,
          2.5830872929516078,
          2.600540585471551,
          2.5830872929516078,
          2.600540585471551,
          2.5830872929516078,
          2.600540585471551,
          2.5830872929516078,
          2.600540585471551,
          2.600540585471551,
          2.5830872929516078
         ],
         "y": [
          47,
          47,
          47,
          47,
          47,
          47,
          47,
          47,
          47,
          47,
          47,
          47,
          47,
          47,
          47,
          47,
          47,
          47,
          47,
          47,
          47,
          47,
          47
         ]
        },
        {
         "marker": {
          "color": "turquoise",
          "opacity": 1,
          "size": 3,
          "symbol": "square"
         },
         "mode": "markers",
         "showlegend": false,
         "type": "scatter",
         "x": [
          5.777039824101231,
          2.6179938779914944
         ],
         "y": [
          47,
          47
         ]
        },
        {
         "marker": {
          "color": "grey",
          "opacity": 0.8,
          "size": 5,
          "symbol": "square"
         },
         "mode": "markers",
         "showlegend": false,
         "type": "scatter",
         "x": [
          5.777039824101231,
          5.777039824101231,
          5.777039824101231,
          5.759586531581287,
          5.759586531581287,
          5.759586531581287,
          5.759586531581287,
          5.759586531581287,
          5.759586531581287,
          5.759586531581287,
          5.759586531581287,
          5.759586531581287,
          5.759586531581287,
          5.759586531581287,
          2.6179938779914944,
          2.5830872929516078,
          2.5830872929516078,
          2.600540585471551
         ],
         "y": [
          48,
          48,
          48,
          48,
          48,
          48,
          48,
          48,
          48,
          48,
          48,
          48,
          48,
          48,
          48,
          48,
          48,
          48
         ]
        },
        {
         "marker": {
          "color": "turquoise",
          "opacity": 1,
          "size": 3,
          "symbol": "square"
         },
         "mode": "markers",
         "showlegend": false,
         "type": "scatter",
         "x": [
          5.777039824101231,
          2.5830872929516078
         ],
         "y": [
          48,
          48
         ]
        },
        {
         "marker": {
          "color": "grey",
          "opacity": 0.8,
          "size": 5,
          "symbol": "square"
         },
         "mode": "markers",
         "showlegend": false,
         "type": "scatter",
         "x": [
          5.794493116621174,
          5.794493116621174,
          5.794493116621174,
          5.777039824101231,
          5.759586531581287,
          5.777039824101231,
          5.759586531581287,
          5.777039824101231,
          5.777039824101231,
          2.600540585471551,
          2.600540585471551,
          2.600540585471551,
          2.5830872929516078,
          2.5830872929516078,
          2.5830872929516078,
          2.5830872929516078,
          2.600540585471551,
          2.5830872929516078,
          2.5830872929516078,
          2.5830872929516078,
          2.600540585471551,
          2.5830872929516078,
          2.5830872929516078,
          2.5830872929516078,
          2.5830872929516078,
          2.5830872929516078,
          2.5830872929516078,
          2.5830872929516078,
          2.5830872929516078,
          2.5830872929516078
         ],
         "y": [
          49,
          49,
          49,
          49,
          49,
          49,
          49,
          49,
          49,
          49,
          49,
          49,
          49,
          49,
          49,
          49,
          49,
          49,
          49,
          49,
          49,
          49,
          49,
          49,
          49,
          49,
          49,
          49,
          49,
          49
         ]
        },
        {
         "marker": {
          "color": "turquoise",
          "opacity": 1,
          "size": 3,
          "symbol": "square"
         },
         "mode": "markers",
         "showlegend": false,
         "type": "scatter",
         "x": [
          5.794493116621174,
          2.600540585471551
         ],
         "y": [
          49,
          49
         ]
        },
        {
         "marker": {
          "color": "grey",
          "opacity": 0.8,
          "size": 5,
          "symbol": "square"
         },
         "mode": "markers",
         "showlegend": false,
         "type": "scatter",
         "x": [
          5.777039824101231,
          5.777039824101231,
          5.794493116621174,
          5.777039824101231,
          5.777039824101231,
          5.794493116621174,
          5.777039824101231,
          5.777039824101231,
          5.777039824101231,
          5.777039824101231,
          5.777039824101231,
          5.777039824101231,
          2.6354471705114375,
          2.6179938779914944,
          2.600540585471551,
          2.600540585471551,
          2.600540585471551,
          2.5830872929516078,
          2.5830872929516078,
          2.5830872929516078,
          2.600540585471551,
          2.5830872929516078,
          2.5830872929516078,
          2.5830872929516078,
          2.5830872929516078,
          2.5830872929516078
         ],
         "y": [
          50,
          50,
          50,
          50,
          50,
          50,
          50,
          50,
          50,
          50,
          50,
          50,
          50,
          50,
          50,
          50,
          50,
          50,
          50,
          50,
          50,
          50,
          50,
          50,
          50,
          50
         ]
        },
        {
         "marker": {
          "color": "turquoise",
          "opacity": 1,
          "size": 3,
          "symbol": "square"
         },
         "mode": "markers",
         "showlegend": false,
         "type": "scatter",
         "x": [
          5.794493116621174,
          2.600540585471551
         ],
         "y": [
          50,
          50
         ]
        },
        {
         "marker": {
          "color": "grey",
          "opacity": 0.8,
          "size": 5,
          "symbol": "square"
         },
         "mode": "markers",
         "showlegend": false,
         "type": "scatter",
         "x": [
          5.777039824101231,
          5.777039824101231,
          5.777039824101231,
          5.759586531581287,
          5.777039824101231,
          5.777039824101231,
          5.777039824101231,
          5.777039824101231,
          5.759586531581287,
          5.759586531581287,
          5.777039824101231,
          5.759586531581287,
          5.759586531581287,
          2.6179938779914944,
          2.600540585471551,
          2.600540585471551,
          2.5830872929516078,
          2.600540585471551,
          2.5830872929516078,
          2.5830872929516078,
          2.5830872929516078,
          5.794493116621174,
          5.777039824101231,
          5.777039824101231,
          5.777039824101231,
          5.777039824101231,
          5.777039824101231,
          5.777039824101231,
          5.777039824101231,
          5.759586531581287,
          3.420845333908886,
          3.4033920413889427,
          2.600540585471551,
          2.600540585471551,
          2.600540585471551,
          2.5830872929516078,
          2.5830872929516078,
          2.5830872929516078,
          2.5830872929516078,
          2.5830872929516078,
          2.5830872929516078
         ],
         "y": [
          51,
          51,
          51,
          51,
          51,
          51,
          51,
          51,
          51,
          51,
          51,
          51,
          51,
          51,
          51,
          51,
          51,
          51,
          51,
          51,
          51,
          51,
          51,
          51,
          51,
          51,
          51,
          51,
          51,
          51,
          51,
          51,
          51,
          51,
          51,
          51,
          51,
          51,
          51,
          51,
          51
         ]
        },
        {
         "marker": {
          "color": "turquoise",
          "opacity": 1,
          "size": 3,
          "symbol": "square"
         },
         "mode": "markers",
         "showlegend": false,
         "type": "scatter",
         "x": [
          5.777039824101231,
          2.600540585471551,
          5.777039824101231,
          2.600540585471551
         ],
         "y": [
          51,
          51,
          51,
          51
         ]
        },
        {
         "marker": {
          "color": "grey",
          "opacity": 0.8,
          "size": 5,
          "symbol": "square"
         },
         "mode": "markers",
         "showlegend": false,
         "type": "scatter",
         "x": [
          5.794493116621174,
          5.794493116621174,
          5.811946409141117,
          5.811946409141117,
          5.794493116621174,
          5.794493116621174,
          5.811946409141117,
          5.811946409141117,
          2.6179938779914944,
          2.600540585471551,
          2.600540585471551,
          2.5830872929516078,
          2.5830872929516078,
          2.5830872929516078,
          2.5830872929516078,
          2.5830872929516078,
          2.5830872929516078,
          2.5830872929516078,
          2.600540585471551,
          2.5830872929516078,
          2.5830872929516078,
          2.5830872929516078,
          2.5830872929516078,
          2.5830872929516078
         ],
         "y": [
          52,
          52,
          52,
          52,
          52,
          52,
          52,
          52,
          52,
          52,
          52,
          52,
          52,
          52,
          52,
          52,
          52,
          52,
          52,
          52,
          52,
          52,
          52,
          52
         ]
        },
        {
         "marker": {
          "color": "turquoise",
          "opacity": 1,
          "size": 3,
          "symbol": "square"
         },
         "mode": "markers",
         "showlegend": false,
         "type": "scatter",
         "x": [
          5.811946409141117,
          2.600540585471551
         ],
         "y": [
          52,
          52
         ]
        },
        {
         "marker": {
          "color": "grey",
          "opacity": 0.8,
          "size": 5,
          "symbol": "square"
         },
         "mode": "markers",
         "showlegend": false,
         "type": "scatter",
         "x": [
          2.600540585471551,
          2.600540585471551,
          2.5830872929516078,
          2.5656340004316642,
          2.5830872929516078,
          2.5656340004316642,
          2.5830872929516078,
          2.5830872929516078,
          2.5830872929516078,
          2.5830872929516078,
          2.5830872929516078,
          2.5830872929516078,
          2.5830872929516078,
          2.5830872929516078
         ],
         "y": [
          53,
          53,
          53,
          53,
          53,
          53,
          53,
          53,
          53,
          53,
          53,
          53,
          53,
          53
         ]
        },
        {
         "marker": {
          "color": "turquoise",
          "opacity": 1,
          "size": 3,
          "symbol": "square"
         },
         "mode": "markers",
         "showlegend": false,
         "type": "scatter",
         "x": [],
         "y": []
        },
        {
         "marker": {
          "color": "grey",
          "opacity": 0.8,
          "size": 5,
          "symbol": "square"
         },
         "mode": "markers",
         "showlegend": false,
         "type": "scatter",
         "x": [
          2.5656340004316642,
          2.5656340004316642,
          2.5656340004316642,
          2.5656340004316642,
          2.5656340004316642,
          2.5656340004316642,
          2.5656340004316642,
          2.5656340004316642,
          2.5656340004316642
         ],
         "y": [
          54,
          54,
          54,
          54,
          54,
          54,
          54,
          54,
          54
         ]
        },
        {
         "marker": {
          "color": "turquoise",
          "opacity": 1,
          "size": 3,
          "symbol": "square"
         },
         "mode": "markers",
         "showlegend": false,
         "type": "scatter",
         "x": [],
         "y": []
        },
        {
         "marker": {
          "color": "grey",
          "opacity": 0.8,
          "size": 5,
          "symbol": "square"
         },
         "mode": "markers",
         "showlegend": false,
         "type": "scatter",
         "x": [
          2.5830872929516078,
          2.5830872929516078,
          2.5656340004316642,
          2.5830872929516078,
          2.5656340004316642,
          2.5656340004316642,
          2.5656340004316642,
          2.5830872929516078,
          2.5830872929516078,
          2.5830872929516078
         ],
         "y": [
          55,
          55,
          55,
          55,
          55,
          55,
          55,
          55,
          55,
          55
         ]
        },
        {
         "marker": {
          "color": "turquoise",
          "opacity": 1,
          "size": 3,
          "symbol": "square"
         },
         "mode": "markers",
         "showlegend": false,
         "type": "scatter",
         "x": [],
         "y": []
        },
        {
         "marker": {
          "color": "grey",
          "opacity": 0.8,
          "size": 5,
          "symbol": "square"
         },
         "mode": "markers",
         "showlegend": false,
         "type": "scatter",
         "x": [
          3.4382986264288293,
          3.4382986264288293,
          3.420845333908886,
          3.420845333908886,
          3.4033920413889427,
          3.4033920413889427,
          3.4033920413889427,
          3.4033920413889427,
          3.4033920413889427,
          3.4033920413889427,
          3.385938748868999,
          2.600540585471551,
          2.5830872929516078,
          2.5830872929516078,
          2.5656340004316642,
          2.5830872929516078,
          2.5830872929516078,
          2.5656340004316642,
          2.5656340004316642
         ],
         "y": [
          56,
          56,
          56,
          56,
          56,
          56,
          56,
          56,
          56,
          56,
          56,
          56,
          56,
          56,
          56,
          56,
          56,
          56,
          56
         ]
        },
        {
         "marker": {
          "color": "turquoise",
          "opacity": 1,
          "size": 3,
          "symbol": "square"
         },
         "mode": "markers",
         "showlegend": false,
         "type": "scatter",
         "x": [],
         "y": []
        },
        {
         "marker": {
          "color": "grey",
          "opacity": 0.8,
          "size": 5,
          "symbol": "square"
         },
         "mode": "markers",
         "showlegend": false,
         "type": "scatter",
         "x": [
          2.548180707911721,
          2.548180707911721
         ],
         "y": [
          57,
          57
         ]
        },
        {
         "marker": {
          "color": "turquoise",
          "opacity": 1,
          "size": 3,
          "symbol": "square"
         },
         "mode": "markers",
         "showlegend": false,
         "type": "scatter",
         "x": [],
         "y": []
        },
        {
         "marker": {
          "color": "grey",
          "opacity": 0.8,
          "size": 5,
          "symbol": "square"
         },
         "mode": "markers",
         "showlegend": false,
         "type": "scatter",
         "x": [
          2.530727415391778,
          2.530727415391778,
          2.530727415391778,
          2.530727415391778,
          2.530727415391778,
          2.530727415391778
         ],
         "y": [
          58,
          58,
          58,
          58,
          58,
          58
         ]
        },
        {
         "marker": {
          "color": "turquoise",
          "opacity": 1,
          "size": 3,
          "symbol": "square"
         },
         "mode": "markers",
         "showlegend": false,
         "type": "scatter",
         "x": [],
         "y": []
        }
       ],
       "layout": {
        "annotations": [
         {
          "font": {
           "size": 16
          },
          "showarrow": false,
          "text": "Lick Raster",
          "x": 0.5,
          "xanchor": "center",
          "xref": "paper",
          "y": 1,
          "yanchor": "bottom",
          "yref": "paper"
         }
        ],
        "height": 500,
        "template": {
         "data": {
          "bar": [
           {
            "error_x": {
             "color": "rgb(36,36,36)"
            },
            "error_y": {
             "color": "rgb(36,36,36)"
            },
            "marker": {
             "line": {
              "color": "white",
              "width": 0.5
             },
             "pattern": {
              "fillmode": "overlay",
              "size": 10,
              "solidity": 0.2
             }
            },
            "type": "bar"
           }
          ],
          "barpolar": [
           {
            "marker": {
             "line": {
              "color": "white",
              "width": 0.5
             },
             "pattern": {
              "fillmode": "overlay",
              "size": 10,
              "solidity": 0.2
             }
            },
            "type": "barpolar"
           }
          ],
          "carpet": [
           {
            "aaxis": {
             "endlinecolor": "rgb(36,36,36)",
             "gridcolor": "white",
             "linecolor": "white",
             "minorgridcolor": "white",
             "startlinecolor": "rgb(36,36,36)"
            },
            "baxis": {
             "endlinecolor": "rgb(36,36,36)",
             "gridcolor": "white",
             "linecolor": "white",
             "minorgridcolor": "white",
             "startlinecolor": "rgb(36,36,36)"
            },
            "type": "carpet"
           }
          ],
          "choropleth": [
           {
            "colorbar": {
             "outlinewidth": 1,
             "tickcolor": "rgb(36,36,36)",
             "ticks": "outside"
            },
            "type": "choropleth"
           }
          ],
          "contour": [
           {
            "colorbar": {
             "outlinewidth": 1,
             "tickcolor": "rgb(36,36,36)",
             "ticks": "outside"
            },
            "colorscale": [
             [
              0,
              "#440154"
             ],
             [
              0.1111111111111111,
              "#482878"
             ],
             [
              0.2222222222222222,
              "#3e4989"
             ],
             [
              0.3333333333333333,
              "#31688e"
             ],
             [
              0.4444444444444444,
              "#26828e"
             ],
             [
              0.5555555555555556,
              "#1f9e89"
             ],
             [
              0.6666666666666666,
              "#35b779"
             ],
             [
              0.7777777777777778,
              "#6ece58"
             ],
             [
              0.8888888888888888,
              "#b5de2b"
             ],
             [
              1,
              "#fde725"
             ]
            ],
            "type": "contour"
           }
          ],
          "contourcarpet": [
           {
            "colorbar": {
             "outlinewidth": 1,
             "tickcolor": "rgb(36,36,36)",
             "ticks": "outside"
            },
            "type": "contourcarpet"
           }
          ],
          "heatmap": [
           {
            "colorbar": {
             "outlinewidth": 1,
             "tickcolor": "rgb(36,36,36)",
             "ticks": "outside"
            },
            "colorscale": [
             [
              0,
              "#440154"
             ],
             [
              0.1111111111111111,
              "#482878"
             ],
             [
              0.2222222222222222,
              "#3e4989"
             ],
             [
              0.3333333333333333,
              "#31688e"
             ],
             [
              0.4444444444444444,
              "#26828e"
             ],
             [
              0.5555555555555556,
              "#1f9e89"
             ],
             [
              0.6666666666666666,
              "#35b779"
             ],
             [
              0.7777777777777778,
              "#6ece58"
             ],
             [
              0.8888888888888888,
              "#b5de2b"
             ],
             [
              1,
              "#fde725"
             ]
            ],
            "type": "heatmap"
           }
          ],
          "heatmapgl": [
           {
            "colorbar": {
             "outlinewidth": 1,
             "tickcolor": "rgb(36,36,36)",
             "ticks": "outside"
            },
            "colorscale": [
             [
              0,
              "#440154"
             ],
             [
              0.1111111111111111,
              "#482878"
             ],
             [
              0.2222222222222222,
              "#3e4989"
             ],
             [
              0.3333333333333333,
              "#31688e"
             ],
             [
              0.4444444444444444,
              "#26828e"
             ],
             [
              0.5555555555555556,
              "#1f9e89"
             ],
             [
              0.6666666666666666,
              "#35b779"
             ],
             [
              0.7777777777777778,
              "#6ece58"
             ],
             [
              0.8888888888888888,
              "#b5de2b"
             ],
             [
              1,
              "#fde725"
             ]
            ],
            "type": "heatmapgl"
           }
          ],
          "histogram": [
           {
            "marker": {
             "line": {
              "color": "white",
              "width": 0.6
             }
            },
            "type": "histogram"
           }
          ],
          "histogram2d": [
           {
            "colorbar": {
             "outlinewidth": 1,
             "tickcolor": "rgb(36,36,36)",
             "ticks": "outside"
            },
            "colorscale": [
             [
              0,
              "#440154"
             ],
             [
              0.1111111111111111,
              "#482878"
             ],
             [
              0.2222222222222222,
              "#3e4989"
             ],
             [
              0.3333333333333333,
              "#31688e"
             ],
             [
              0.4444444444444444,
              "#26828e"
             ],
             [
              0.5555555555555556,
              "#1f9e89"
             ],
             [
              0.6666666666666666,
              "#35b779"
             ],
             [
              0.7777777777777778,
              "#6ece58"
             ],
             [
              0.8888888888888888,
              "#b5de2b"
             ],
             [
              1,
              "#fde725"
             ]
            ],
            "type": "histogram2d"
           }
          ],
          "histogram2dcontour": [
           {
            "colorbar": {
             "outlinewidth": 1,
             "tickcolor": "rgb(36,36,36)",
             "ticks": "outside"
            },
            "colorscale": [
             [
              0,
              "#440154"
             ],
             [
              0.1111111111111111,
              "#482878"
             ],
             [
              0.2222222222222222,
              "#3e4989"
             ],
             [
              0.3333333333333333,
              "#31688e"
             ],
             [
              0.4444444444444444,
              "#26828e"
             ],
             [
              0.5555555555555556,
              "#1f9e89"
             ],
             [
              0.6666666666666666,
              "#35b779"
             ],
             [
              0.7777777777777778,
              "#6ece58"
             ],
             [
              0.8888888888888888,
              "#b5de2b"
             ],
             [
              1,
              "#fde725"
             ]
            ],
            "type": "histogram2dcontour"
           }
          ],
          "mesh3d": [
           {
            "colorbar": {
             "outlinewidth": 1,
             "tickcolor": "rgb(36,36,36)",
             "ticks": "outside"
            },
            "type": "mesh3d"
           }
          ],
          "parcoords": [
           {
            "line": {
             "colorbar": {
              "outlinewidth": 1,
              "tickcolor": "rgb(36,36,36)",
              "ticks": "outside"
             }
            },
            "type": "parcoords"
           }
          ],
          "pie": [
           {
            "automargin": true,
            "type": "pie"
           }
          ],
          "scatter": [
           {
            "fillpattern": {
             "fillmode": "overlay",
             "size": 10,
             "solidity": 0.2
            },
            "type": "scatter"
           }
          ],
          "scatter3d": [
           {
            "line": {
             "colorbar": {
              "outlinewidth": 1,
              "tickcolor": "rgb(36,36,36)",
              "ticks": "outside"
             }
            },
            "marker": {
             "colorbar": {
              "outlinewidth": 1,
              "tickcolor": "rgb(36,36,36)",
              "ticks": "outside"
             }
            },
            "type": "scatter3d"
           }
          ],
          "scattercarpet": [
           {
            "marker": {
             "colorbar": {
              "outlinewidth": 1,
              "tickcolor": "rgb(36,36,36)",
              "ticks": "outside"
             }
            },
            "type": "scattercarpet"
           }
          ],
          "scattergeo": [
           {
            "marker": {
             "colorbar": {
              "outlinewidth": 1,
              "tickcolor": "rgb(36,36,36)",
              "ticks": "outside"
             }
            },
            "type": "scattergeo"
           }
          ],
          "scattergl": [
           {
            "marker": {
             "colorbar": {
              "outlinewidth": 1,
              "tickcolor": "rgb(36,36,36)",
              "ticks": "outside"
             }
            },
            "type": "scattergl"
           }
          ],
          "scattermapbox": [
           {
            "marker": {
             "colorbar": {
              "outlinewidth": 1,
              "tickcolor": "rgb(36,36,36)",
              "ticks": "outside"
             }
            },
            "type": "scattermapbox"
           }
          ],
          "scatterpolar": [
           {
            "marker": {
             "colorbar": {
              "outlinewidth": 1,
              "tickcolor": "rgb(36,36,36)",
              "ticks": "outside"
             }
            },
            "type": "scatterpolar"
           }
          ],
          "scatterpolargl": [
           {
            "marker": {
             "colorbar": {
              "outlinewidth": 1,
              "tickcolor": "rgb(36,36,36)",
              "ticks": "outside"
             }
            },
            "type": "scatterpolargl"
           }
          ],
          "scatterternary": [
           {
            "marker": {
             "colorbar": {
              "outlinewidth": 1,
              "tickcolor": "rgb(36,36,36)",
              "ticks": "outside"
             }
            },
            "type": "scatterternary"
           }
          ],
          "surface": [
           {
            "colorbar": {
             "outlinewidth": 1,
             "tickcolor": "rgb(36,36,36)",
             "ticks": "outside"
            },
            "colorscale": [
             [
              0,
              "#440154"
             ],
             [
              0.1111111111111111,
              "#482878"
             ],
             [
              0.2222222222222222,
              "#3e4989"
             ],
             [
              0.3333333333333333,
              "#31688e"
             ],
             [
              0.4444444444444444,
              "#26828e"
             ],
             [
              0.5555555555555556,
              "#1f9e89"
             ],
             [
              0.6666666666666666,
              "#35b779"
             ],
             [
              0.7777777777777778,
              "#6ece58"
             ],
             [
              0.8888888888888888,
              "#b5de2b"
             ],
             [
              1,
              "#fde725"
             ]
            ],
            "type": "surface"
           }
          ],
          "table": [
           {
            "cells": {
             "fill": {
              "color": "rgb(237,237,237)"
             },
             "line": {
              "color": "white"
             }
            },
            "header": {
             "fill": {
              "color": "rgb(217,217,217)"
             },
             "line": {
              "color": "white"
             }
            },
            "type": "table"
           }
          ]
         },
         "layout": {
          "annotationdefaults": {
           "arrowhead": 0,
           "arrowwidth": 1
          },
          "autotypenumbers": "strict",
          "coloraxis": {
           "colorbar": {
            "outlinewidth": 1,
            "tickcolor": "rgb(36,36,36)",
            "ticks": "outside"
           }
          },
          "colorscale": {
           "diverging": [
            [
             0,
             "rgb(103,0,31)"
            ],
            [
             0.1,
             "rgb(178,24,43)"
            ],
            [
             0.2,
             "rgb(214,96,77)"
            ],
            [
             0.3,
             "rgb(244,165,130)"
            ],
            [
             0.4,
             "rgb(253,219,199)"
            ],
            [
             0.5,
             "rgb(247,247,247)"
            ],
            [
             0.6,
             "rgb(209,229,240)"
            ],
            [
             0.7,
             "rgb(146,197,222)"
            ],
            [
             0.8,
             "rgb(67,147,195)"
            ],
            [
             0.9,
             "rgb(33,102,172)"
            ],
            [
             1,
             "rgb(5,48,97)"
            ]
           ],
           "sequential": [
            [
             0,
             "#440154"
            ],
            [
             0.1111111111111111,
             "#482878"
            ],
            [
             0.2222222222222222,
             "#3e4989"
            ],
            [
             0.3333333333333333,
             "#31688e"
            ],
            [
             0.4444444444444444,
             "#26828e"
            ],
            [
             0.5555555555555556,
             "#1f9e89"
            ],
            [
             0.6666666666666666,
             "#35b779"
            ],
            [
             0.7777777777777778,
             "#6ece58"
            ],
            [
             0.8888888888888888,
             "#b5de2b"
            ],
            [
             1,
             "#fde725"
            ]
           ],
           "sequentialminus": [
            [
             0,
             "#440154"
            ],
            [
             0.1111111111111111,
             "#482878"
            ],
            [
             0.2222222222222222,
             "#3e4989"
            ],
            [
             0.3333333333333333,
             "#31688e"
            ],
            [
             0.4444444444444444,
             "#26828e"
            ],
            [
             0.5555555555555556,
             "#1f9e89"
            ],
            [
             0.6666666666666666,
             "#35b779"
            ],
            [
             0.7777777777777778,
             "#6ece58"
            ],
            [
             0.8888888888888888,
             "#b5de2b"
            ],
            [
             1,
             "#fde725"
            ]
           ]
          },
          "colorway": [
           "#1F77B4",
           "#FF7F0E",
           "#2CA02C",
           "#D62728",
           "#9467BD",
           "#8C564B",
           "#E377C2",
           "#7F7F7F",
           "#BCBD22",
           "#17BECF"
          ],
          "font": {
           "color": "rgb(36,36,36)"
          },
          "geo": {
           "bgcolor": "white",
           "lakecolor": "white",
           "landcolor": "white",
           "showlakes": true,
           "showland": true,
           "subunitcolor": "white"
          },
          "hoverlabel": {
           "align": "left"
          },
          "hovermode": "closest",
          "mapbox": {
           "style": "light"
          },
          "paper_bgcolor": "white",
          "plot_bgcolor": "white",
          "polar": {
           "angularaxis": {
            "gridcolor": "rgb(232,232,232)",
            "linecolor": "rgb(36,36,36)",
            "showgrid": false,
            "showline": true,
            "ticks": "outside"
           },
           "bgcolor": "white",
           "radialaxis": {
            "gridcolor": "rgb(232,232,232)",
            "linecolor": "rgb(36,36,36)",
            "showgrid": false,
            "showline": true,
            "ticks": "outside"
           }
          },
          "scene": {
           "xaxis": {
            "backgroundcolor": "white",
            "gridcolor": "rgb(232,232,232)",
            "gridwidth": 2,
            "linecolor": "rgb(36,36,36)",
            "showbackground": true,
            "showgrid": false,
            "showline": true,
            "ticks": "outside",
            "zeroline": false,
            "zerolinecolor": "rgb(36,36,36)"
           },
           "yaxis": {
            "backgroundcolor": "white",
            "gridcolor": "rgb(232,232,232)",
            "gridwidth": 2,
            "linecolor": "rgb(36,36,36)",
            "showbackground": true,
            "showgrid": false,
            "showline": true,
            "ticks": "outside",
            "zeroline": false,
            "zerolinecolor": "rgb(36,36,36)"
           },
           "zaxis": {
            "backgroundcolor": "white",
            "gridcolor": "rgb(232,232,232)",
            "gridwidth": 2,
            "linecolor": "rgb(36,36,36)",
            "showbackground": true,
            "showgrid": false,
            "showline": true,
            "ticks": "outside",
            "zeroline": false,
            "zerolinecolor": "rgb(36,36,36)"
           }
          },
          "shapedefaults": {
           "fillcolor": "black",
           "line": {
            "width": 0
           },
           "opacity": 0.3
          },
          "ternary": {
           "aaxis": {
            "gridcolor": "rgb(232,232,232)",
            "linecolor": "rgb(36,36,36)",
            "showgrid": false,
            "showline": true,
            "ticks": "outside"
           },
           "baxis": {
            "gridcolor": "rgb(232,232,232)",
            "linecolor": "rgb(36,36,36)",
            "showgrid": false,
            "showline": true,
            "ticks": "outside"
           },
           "bgcolor": "white",
           "caxis": {
            "gridcolor": "rgb(232,232,232)",
            "linecolor": "rgb(36,36,36)",
            "showgrid": false,
            "showline": true,
            "ticks": "outside"
           }
          },
          "title": {
           "x": 0.05
          },
          "xaxis": {
           "automargin": true,
           "gridcolor": "rgb(232,232,232)",
           "linecolor": "rgb(36,36,36)",
           "showgrid": false,
           "showline": true,
           "ticks": "outside",
           "title": {
            "standoff": 15
           },
           "zeroline": false,
           "zerolinecolor": "rgb(36,36,36)"
          },
          "yaxis": {
           "automargin": true,
           "gridcolor": "rgb(232,232,232)",
           "linecolor": "rgb(36,36,36)",
           "showgrid": false,
           "showline": true,
           "ticks": "outside",
           "title": {
            "standoff": 15
           },
           "zeroline": false,
           "zerolinecolor": "rgb(36,36,36)"
          }
         }
        },
        "title": {
         "x": 0.5,
         "xanchor": "center",
         "y": 0.9,
         "yanchor": "top"
        },
        "width": 500,
        "xaxis": {
         "anchor": "y",
         "domain": [
          0,
          1
         ],
         "title": {
          "text": "Linearized Position (cm)"
         }
        },
        "yaxis": {
         "anchor": "x",
         "domain": [
          0,
          1
         ],
         "title": {
          "text": "Trial"
         }
        }
       }
      },
      "text/html": [
       "<div>                            <div id=\"015fa589-ec7e-4883-82c3-d6a0a84e1529\" class=\"plotly-graph-div\" style=\"height:500px; width:500px;\"></div>            <script type=\"text/javascript\">                require([\"plotly\"], function(Plotly) {                    window.PLOTLYENV=window.PLOTLYENV || {};                                    if (document.getElementById(\"015fa589-ec7e-4883-82c3-d6a0a84e1529\")) {                    Plotly.newPlot(                        \"015fa589-ec7e-4883-82c3-d6a0a84e1529\",                        [{\"marker\":{\"color\":\"grey\",\"opacity\":0.8,\"size\":5,\"symbol\":\"square\"},\"mode\":\"markers\",\"showlegend\":false,\"x\":[1.7278759594743862,5.794493116621174,5.777039824101231,5.777039824101231,5.777039824101231,5.759586531581287,2.600540585471551,2.5830872929516078,0.9948376736367679,0.9948376736367679,0.9948376736367679],\"y\":[1,1,1,1,1,1,1,1,1,1,1],\"type\":\"scatter\"},{\"marker\":{\"color\":\"turquoise\",\"opacity\":1,\"size\":3,\"symbol\":\"square\"},\"mode\":\"markers\",\"showlegend\":false,\"x\":[],\"y\":[],\"type\":\"scatter\"},{\"marker\":{\"color\":\"grey\",\"opacity\":0.8,\"size\":5,\"symbol\":\"square\"},\"mode\":\"markers\",\"showlegend\":false,\"x\":[5.811946409141117,5.794493116621174,2.600540585471551,2.600540585471551,2.600540585471551,2.600540585471551,1.7802358370342162,1.7976891295541595,1.7976891295541595],\"y\":[2,2,2,2,2,2,2,2,2],\"type\":\"scatter\"},{\"marker\":{\"color\":\"turquoise\",\"opacity\":1,\"size\":3,\"symbol\":\"square\"},\"mode\":\"markers\",\"showlegend\":false,\"x\":[],\"y\":[],\"type\":\"scatter\"},{\"marker\":{\"color\":\"grey\",\"opacity\":0.8,\"size\":5,\"symbol\":\"square\"},\"mode\":\"markers\",\"showlegend\":false,\"x\":[5.811946409141117,5.794493116621174,5.794493116621174,5.794493116621174,5.777039824101231,5.777039824101231,5.777039824101231,2.600540585471551,2.600540585471551,2.600540585471551,2.5830872929516078,2.5830872929516078,2.5830872929516078,2.5830872929516078,2.5830872929516078,2.5830872929516078,2.5830872929516078,2.5830872929516078,2.5830872929516078,2.5830872929516078,2.4609142453120048,2.4609142453120048,2.4609142453120048,1.7976891295541595,1.7627825445142729,1.7802358370342162,1.7627825445142729,1.7802358370342162,1.7802358370342162,1.7627825445142729],\"y\":[3,3,3,3,3,3,3,3,3,3,3,3,3,3,3,3,3,3,3,3,3,3,3,3,3,3,3,3,3,3],\"type\":\"scatter\"},{\"marker\":{\"color\":\"turquoise\",\"opacity\":1,\"size\":3,\"symbol\":\"square\"},\"mode\":\"markers\",\"showlegend\":false,\"x\":[],\"y\":[],\"type\":\"scatter\"},{\"marker\":{\"color\":\"grey\",\"opacity\":0.8,\"size\":5,\"symbol\":\"square\"},\"mode\":\"markers\",\"showlegend\":false,\"x\":[5.777039824101231,5.777039824101231,5.759586531581287,5.759586531581287,5.759586531581287,5.759586531581287,5.759586531581287,5.777039824101231,5.777039824101231,2.6354471705114375,2.600540585471551,2.600540585471551,2.5830872929516078,2.5830872929516078,2.5830872929516078,2.5830872929516078,2.5830872929516078,1.7453292519943295,1.7453292519943295,1.7627825445142729,1.7627825445142729,1.7627825445142729],\"y\":[4,4,4,4,4,4,4,4,4,4,4,4,4,4,4,4,4,4,4,4,4,4],\"type\":\"scatter\"},{\"marker\":{\"color\":\"turquoise\",\"opacity\":1,\"size\":3,\"symbol\":\"square\"},\"mode\":\"markers\",\"showlegend\":false,\"x\":[],\"y\":[],\"type\":\"scatter\"},{\"marker\":{\"color\":\"grey\",\"opacity\":0.8,\"size\":5,\"symbol\":\"square\"},\"mode\":\"markers\",\"showlegend\":false,\"x\":[5.777039824101231,5.777039824101231,5.777039824101231,5.759586531581287,5.759586531581287,5.759586531581287,2.600540585471551,2.600540585471551,2.5830872929516078,2.5830872929516078,2.5830872929516078,2.5830872929516078,2.5830872929516078,2.5830872929516078,2.5830872929516078,2.5830872929516078,2.5656340004316642,2.5656340004316642,2.5830872929516078,2.5830872929516078,1.7627825445142729,1.7802358370342162,1.7802358370342162,1.7802358370342162,1.7802358370342162,1.7627825445142729],\"y\":[5,5,5,5,5,5,5,5,5,5,5,5,5,5,5,5,5,5,5,5,5,5,5,5,5,5],\"type\":\"scatter\"},{\"marker\":{\"color\":\"turquoise\",\"opacity\":1,\"size\":3,\"symbol\":\"square\"},\"mode\":\"markers\",\"showlegend\":false,\"x\":[],\"y\":[],\"type\":\"scatter\"},{\"marker\":{\"color\":\"grey\",\"opacity\":0.8,\"size\":5,\"symbol\":\"square\"},\"mode\":\"markers\",\"showlegend\":false,\"x\":[5.777039824101231,5.759586531581287,5.759586531581287,5.742133239061344,5.759586531581287,2.6179938779914944,2.600540585471551,2.5830872929516078,2.5830872929516078,2.5830872929516078,2.5830872929516078,2.5830872929516078,2.5830872929516078,2.5830872929516078,2.600540585471551,2.5830872929516078,2.5830872929516078,2.5830872929516078,2.5830872929516078,2.5830872929516078,2.5830872929516078,2.5830872929516078,2.5830872929516078,2.5830872929516078,2.5830872929516078,2.5830872929516078,2.5830872929516078,2.5830872929516078,2.5830872929516078,2.5830872929516078,2.5830872929516078,2.5830872929516078,2.600540585471551,1.710422666954443,1.710422666954443,1.710422666954443,1.710422666954443,1.710422666954443,1.710422666954443],\"y\":[6,6,6,6,6,6,6,6,6,6,6,6,6,6,6,6,6,6,6,6,6,6,6,6,6,6,6,6,6,6,6,6,6,6,6,6,6,6,6],\"type\":\"scatter\"},{\"marker\":{\"color\":\"turquoise\",\"opacity\":1,\"size\":3,\"symbol\":\"square\"},\"mode\":\"markers\",\"showlegend\":false,\"x\":[2.5830872929516078],\"y\":[6],\"type\":\"scatter\"},{\"marker\":{\"color\":\"grey\",\"opacity\":0.8,\"size\":5,\"symbol\":\"square\"},\"mode\":\"markers\",\"showlegend\":false,\"x\":[5.811946409141117,5.794493116621174,5.794493116621174,5.759586531581287,5.759586531581287,5.759586531581287,5.759586531581287,5.759586531581287,5.759586531581287,5.759586531581287,5.759586531581287,5.759586531581287,5.759586531581287,5.742133239061344,5.742133239061344,5.742133239061344,5.742133239061344,5.742133239061344,2.6179938779914944,2.600540585471551,2.600540585471551,2.5656340004316642,2.5656340004316642,2.5656340004316642,2.5656340004316642,2.5656340004316642,2.5656340004316642,2.5656340004316642,2.5656340004316642,2.5656340004316642,2.5656340004316642,2.5656340004316642,2.5656340004316642,2.5656340004316642,2.5656340004316642,2.5656340004316642,2.5656340004316642,2.5656340004316642,2.5656340004316642,2.5656340004316642,2.5656340004316642,2.5656340004316642,2.5656340004316642,2.5656340004316642,2.5656340004316642],\"y\":[7,7,7,7,7,7,7,7,7,7,7,7,7,7,7,7,7,7,7,7,7,7,7,7,7,7,7,7,7,7,7,7,7,7,7,7,7,7,7,7,7,7,7,7,7],\"type\":\"scatter\"},{\"marker\":{\"color\":\"turquoise\",\"opacity\":1,\"size\":3,\"symbol\":\"square\"},\"mode\":\"markers\",\"showlegend\":false,\"x\":[5.794493116621174,2.600540585471551],\"y\":[7,7],\"type\":\"scatter\"},{\"marker\":{\"color\":\"grey\",\"opacity\":0.8,\"size\":5,\"symbol\":\"square\"},\"mode\":\"markers\",\"showlegend\":false,\"x\":[5.794493116621174,5.794493116621174,5.777039824101231,5.777039824101231,5.777039824101231,5.777039824101231,5.777039824101231,5.777039824101231,5.759586531581287,5.777039824101231,5.759586531581287,5.759586531581287,5.759586531581287,5.759586531581287,5.759586531581287,5.759586531581287,5.777039824101231,5.777039824101231,5.759586531581287,5.759586531581287,5.759586531581287,5.759586531581287,5.759586531581287,5.759586531581287,5.759586531581287,5.759586531581287,5.759586531581287,5.759586531581287,5.759586531581287,5.759586531581287,5.759586531581287,5.759586531581287,5.742133239061344,5.742133239061344,5.759586531581287,5.759586531581287,2.6179938779914944,2.600540585471551,2.600540585471551,2.5830872929516078,2.5830872929516078,2.5830872929516078,2.5830872929516078,2.5656340004316642,2.5830872929516078,2.5830872929516078,2.5830872929516078,2.5830872929516078,2.5830872929516078,2.5830872929516078,2.5656340004316642,2.5830872929516078,2.5656340004316642,2.5656340004316642,2.5830872929516078,2.5656340004316642,2.5830872929516078,2.5830872929516078,2.5830872929516078,2.5830872929516078,2.5656340004316642,2.5656340004316642,2.5656340004316642],\"y\":[8,8,8,8,8,8,8,8,8,8,8,8,8,8,8,8,8,8,8,8,8,8,8,8,8,8,8,8,8,8,8,8,8,8,8,8,8,8,8,8,8,8,8,8,8,8,8,8,8,8,8,8,8,8,8,8,8,8,8,8,8,8,8],\"type\":\"scatter\"},{\"marker\":{\"color\":\"turquoise\",\"opacity\":1,\"size\":3,\"symbol\":\"square\"},\"mode\":\"markers\",\"showlegend\":false,\"x\":[5.777039824101231,2.600540585471551],\"y\":[8,8],\"type\":\"scatter\"},{\"marker\":{\"color\":\"grey\",\"opacity\":0.8,\"size\":5,\"symbol\":\"square\"},\"mode\":\"markers\",\"showlegend\":false,\"x\":[5.777039824101231,5.777039824101231,5.777039824101231,5.759586531581287,5.759586531581287,5.759586531581287,5.759586531581287,5.759586531581287,5.759586531581287,5.759586531581287,5.777039824101231,5.759586531581287,5.759586531581287,5.759586531581287,5.759586531581287,5.759586531581287,5.759586531581287,5.759586531581287,5.759586531581287,5.759586531581287,5.759586531581287,5.759586531581287,5.759586531581287,5.759586531581287,2.600540585471551,2.600540585471551,2.5830872929516078,2.5830872929516078,2.5830872929516078,2.5656340004316642,2.5656340004316642,2.5656340004316642,2.5830872929516078,2.5830872929516078,2.5830872929516078,2.5656340004316642,2.5656340004316642,2.5656340004316642,2.5830872929516078,2.5830872929516078,2.5830872929516078,2.5830872929516078,2.5830872929516078,5.794493116621174,5.777039824101231,5.777039824101231,5.777039824101231,5.777039824101231,5.777039824101231,5.777039824101231,5.777039824101231,5.777039824101231,5.777039824101231,5.777039824101231,5.777039824101231,5.777039824101231,5.794493116621174,5.794493116621174,5.794493116621174,5.759586531581287,5.759586531581287,5.742133239061344,5.742133239061344,2.5830872929516078,2.5830872929516078,2.5656340004316642,2.5656340004316642,2.5656340004316642,2.5656340004316642,2.548180707911721,2.548180707911721,2.5656340004316642,2.5656340004316642,2.548180707911721,2.5656340004316642,2.5656340004316642,2.5656340004316642,2.5656340004316642],\"y\":[9,9,9,9,9,9,9,9,9,9,9,9,9,9,9,9,9,9,9,9,9,9,9,9,9,9,9,9,9,9,9,9,9,9,9,9,9,9,9,9,9,9,9,9,9,9,9,9,9,9,9,9,9,9,9,9,9,9,9,9,9,9,9,9,9,9,9,9,9,9,9,9,9,9,9,9,9,9],\"type\":\"scatter\"},{\"marker\":{\"color\":\"turquoise\",\"opacity\":1,\"size\":3,\"symbol\":\"square\"},\"mode\":\"markers\",\"showlegend\":false,\"x\":[5.777039824101231,2.5656340004316642],\"y\":[9,9],\"type\":\"scatter\"},{\"marker\":{\"color\":\"grey\",\"opacity\":0.8,\"size\":5,\"symbol\":\"square\"},\"mode\":\"markers\",\"showlegend\":false,\"x\":[5.794493116621174,5.777039824101231,5.777039824101231,5.777039824101231,5.777039824101231,5.777039824101231,5.777039824101231,5.777039824101231,5.777039824101231,5.777039824101231,5.777039824101231,5.777039824101231,5.777039824101231,5.777039824101231,5.777039824101231,5.777039824101231,5.777039824101231,2.600540585471551,2.600540585471551,2.600540585471551,2.5656340004316642,2.5830872929516078,2.5656340004316642,2.5656340004316642,2.5656340004316642,2.5656340004316642,2.5656340004316642,2.5656340004316642,2.5656340004316642,2.5656340004316642,2.5656340004316642],\"y\":[10,10,10,10,10,10,10,10,10,10,10,10,10,10,10,10,10,10,10,10,10,10,10,10,10,10,10,10,10,10,10],\"type\":\"scatter\"},{\"marker\":{\"color\":\"turquoise\",\"opacity\":1,\"size\":3,\"symbol\":\"square\"},\"mode\":\"markers\",\"showlegend\":false,\"x\":[5.777039824101231,2.600540585471551],\"y\":[10,10],\"type\":\"scatter\"},{\"marker\":{\"color\":\"grey\",\"opacity\":0.8,\"size\":5,\"symbol\":\"square\"},\"mode\":\"markers\",\"showlegend\":false,\"x\":[5.794493116621174,5.794493116621174,5.794493116621174,5.777039824101231,5.777039824101231,5.777039824101231,5.777039824101231,5.777039824101231,5.777039824101231,5.777039824101231,5.777039824101231,5.777039824101231,5.777039824101231,5.777039824101231,5.777039824101231,5.777039824101231,5.777039824101231,5.777039824101231,5.777039824101231,2.6179938779914944,2.600540585471551,2.600540585471551,2.5656340004316642,2.5656340004316642,2.5656340004316642,2.5656340004316642,2.5656340004316642,2.5656340004316642,2.5830872929516078,2.5656340004316642,2.5656340004316642,2.5656340004316642,2.5656340004316642,2.5656340004316642,2.5656340004316642,2.5656340004316642,2.5656340004316642,2.5656340004316642,2.5656340004316642,2.5656340004316642,2.5656340004316642,2.5656340004316642,2.5656340004316642,2.5656340004316642,2.5656340004316642],\"y\":[11,11,11,11,11,11,11,11,11,11,11,11,11,11,11,11,11,11,11,11,11,11,11,11,11,11,11,11,11,11,11,11,11,11,11,11,11,11,11,11,11,11,11,11,11],\"type\":\"scatter\"},{\"marker\":{\"color\":\"turquoise\",\"opacity\":1,\"size\":3,\"symbol\":\"square\"},\"mode\":\"markers\",\"showlegend\":false,\"x\":[5.794493116621174,2.600540585471551],\"y\":[11,11],\"type\":\"scatter\"},{\"marker\":{\"color\":\"grey\",\"opacity\":0.8,\"size\":5,\"symbol\":\"square\"},\"mode\":\"markers\",\"showlegend\":false,\"x\":[5.777039824101231,5.777039824101231,5.777039824101231,5.759586531581287,5.777039824101231,5.794493116621174,5.777039824101231,5.777039824101231,5.777039824101231,5.777039824101231,5.777039824101231,5.759586531581287,5.777039824101231,5.777039824101231,5.777039824101231,5.777039824101231,2.6179938779914944,2.600540585471551,2.600540585471551,2.5656340004316642,2.5656340004316642,2.5656340004316642,2.5830872929516078,2.5656340004316642,2.5656340004316642,2.5656340004316642,2.5830872929516078,2.5656340004316642,2.5656340004316642,2.5656340004316642,2.5656340004316642,2.5656340004316642],\"y\":[12,12,12,12,12,12,12,12,12,12,12,12,12,12,12,12,12,12,12,12,12,12,12,12,12,12,12,12,12,12,12,12],\"type\":\"scatter\"},{\"marker\":{\"color\":\"turquoise\",\"opacity\":1,\"size\":3,\"symbol\":\"square\"},\"mode\":\"markers\",\"showlegend\":false,\"x\":[5.777039824101231,2.600540585471551],\"y\":[12,12],\"type\":\"scatter\"},{\"marker\":{\"color\":\"grey\",\"opacity\":0.8,\"size\":5,\"symbol\":\"square\"},\"mode\":\"markers\",\"showlegend\":false,\"x\":[5.777039824101231,5.777039824101231,5.777039824101231,5.759586531581287,5.759586531581287,5.759586531581287,5.759586531581287,5.759586531581287,5.759586531581287,5.759586531581287,5.742133239061344,5.759586531581287,5.742133239061344,5.759586531581287,5.759586531581287,5.742133239061344,5.759586531581287,5.759586531581287,5.742133239061344,5.742133239061344,5.759586531581287,5.742133239061344,5.742133239061344,5.742133239061344,5.742133239061344,5.742133239061344,2.600540585471551,2.5830872929516078,2.5830872929516078,2.5830872929516078,2.5830872929516078,2.5830872929516078,2.5830872929516078,2.5830872929516078,2.5656340004316642,2.5656340004316642,2.5656340004316642,2.5656340004316642,2.5830872929516078,2.5656340004316642,2.5656340004316642,2.5656340004316642,5.777039824101231,5.777039824101231,5.759586531581287,5.742133239061344,5.742133239061344,5.742133239061344,5.742133239061344,5.742133239061344,5.742133239061344,5.742133239061344,5.742133239061344,5.742133239061344,5.742133239061344,5.724679946541401,5.724679946541401,5.724679946541401,5.724679946541401,5.724679946541401,5.724679946541401,5.724679946541401,5.724679946541401,5.724679946541401,2.600540585471551,2.5830872929516078,2.5830872929516078,2.5656340004316642,2.5656340004316642,2.5656340004316642,2.5656340004316642,2.5656340004316642,2.5656340004316642,2.5656340004316642,2.5656340004316642,2.5656340004316642],\"y\":[13,13,13,13,13,13,13,13,13,13,13,13,13,13,13,13,13,13,13,13,13,13,13,13,13,13,13,13,13,13,13,13,13,13,13,13,13,13,13,13,13,13,13,13,13,13,13,13,13,13,13,13,13,13,13,13,13,13,13,13,13,13,13,13,13,13,13,13,13,13,13,13,13,13,13,13],\"type\":\"scatter\"},{\"marker\":{\"color\":\"turquoise\",\"opacity\":1,\"size\":3,\"symbol\":\"square\"},\"mode\":\"markers\",\"showlegend\":false,\"x\":[5.777039824101231,2.5830872929516078,5.759586531581287,2.5830872929516078],\"y\":[13,13,13,13],\"type\":\"scatter\"},{\"marker\":{\"color\":\"grey\",\"opacity\":0.8,\"size\":5,\"symbol\":\"square\"},\"mode\":\"markers\",\"showlegend\":false,\"x\":[5.777039824101231,5.777039824101231,5.759586531581287,5.777039824101231,5.777039824101231,5.777039824101231,5.777039824101231,5.777039824101231,5.777039824101231,5.777039824101231,5.777039824101231,5.777039824101231,5.777039824101231,5.777039824101231,2.6179938779914944,2.6179938779914944,2.5656340004316642,2.5656340004316642,2.5830872929516078,2.5830872929516078,2.5656340004316642,2.5830872929516078,2.5830872929516078,2.5656340004316642,2.5656340004316642,2.5656340004316642,2.5656340004316642,2.5656340004316642],\"y\":[14,14,14,14,14,14,14,14,14,14,14,14,14,14,14,14,14,14,14,14,14,14,14,14,14,14,14,14],\"type\":\"scatter\"},{\"marker\":{\"color\":\"turquoise\",\"opacity\":1,\"size\":3,\"symbol\":\"square\"},\"mode\":\"markers\",\"showlegend\":false,\"x\":[5.759586531581287,2.5656340004316642],\"y\":[14,14],\"type\":\"scatter\"},{\"marker\":{\"color\":\"grey\",\"opacity\":0.8,\"size\":5,\"symbol\":\"square\"},\"mode\":\"markers\",\"showlegend\":false,\"x\":[5.794493116621174,5.777039824101231,5.777039824101231,5.777039824101231,5.777039824101231,5.759586531581287,5.777039824101231,5.777039824101231,5.777039824101231,5.777039824101231,5.777039824101231,5.777039824101231,5.777039824101231,5.777039824101231,5.759586531581287,5.777039824101231,5.777039824101231,5.777039824101231,5.777039824101231,5.777039824101231,5.777039824101231,5.777039824101231,5.777039824101231,5.777039824101231,5.777039824101231,5.777039824101231,2.600540585471551,2.600540585471551,2.5830872929516078,2.5830872929516078,2.5830872929516078,2.5830872929516078,2.5830872929516078,2.5830872929516078,2.5830872929516078,2.5830872929516078,2.5830872929516078,2.5656340004316642,2.5656340004316642],\"y\":[15,15,15,15,15,15,15,15,15,15,15,15,15,15,15,15,15,15,15,15,15,15,15,15,15,15,15,15,15,15,15,15,15,15,15,15,15,15,15],\"type\":\"scatter\"},{\"marker\":{\"color\":\"turquoise\",\"opacity\":1,\"size\":3,\"symbol\":\"square\"},\"mode\":\"markers\",\"showlegend\":false,\"x\":[5.777039824101231,2.5830872929516078],\"y\":[15,15],\"type\":\"scatter\"},{\"marker\":{\"color\":\"grey\",\"opacity\":0.8,\"size\":5,\"symbol\":\"square\"},\"mode\":\"markers\",\"showlegend\":false,\"x\":[5.794493116621174,5.777039824101231,5.777039824101231,5.777039824101231,5.777039824101231,5.777039824101231,5.777039824101231,5.777039824101231,5.777039824101231,5.777039824101231,5.777039824101231,5.777039824101231,5.777039824101231,5.777039824101231,5.777039824101231,5.777039824101231,2.600540585471551,2.600540585471551,2.5830872929516078,2.5656340004316642,2.5656340004316642,2.5656340004316642,2.5656340004316642,2.5656340004316642,2.5656340004316642,2.548180707911721,2.5656340004316642,2.5656340004316642,2.5656340004316642,2.5656340004316642],\"y\":[16,16,16,16,16,16,16,16,16,16,16,16,16,16,16,16,16,16,16,16,16,16,16,16,16,16,16,16,16,16],\"type\":\"scatter\"},{\"marker\":{\"color\":\"turquoise\",\"opacity\":1,\"size\":3,\"symbol\":\"square\"},\"mode\":\"markers\",\"showlegend\":false,\"x\":[5.777039824101231,2.5830872929516078],\"y\":[16,16],\"type\":\"scatter\"},{\"marker\":{\"color\":\"grey\",\"opacity\":0.8,\"size\":5,\"symbol\":\"square\"},\"mode\":\"markers\",\"showlegend\":false,\"x\":[2.5656340004316642,2.548180707911721,2.548180707911721,2.548180707911721,2.548180707911721,2.548180707911721,2.1642082724729685],\"y\":[17,17,17,17,17,17,17],\"type\":\"scatter\"},{\"marker\":{\"color\":\"turquoise\",\"opacity\":1,\"size\":3,\"symbol\":\"square\"},\"mode\":\"markers\",\"showlegend\":false,\"x\":[],\"y\":[],\"type\":\"scatter\"},{\"marker\":{\"color\":\"grey\",\"opacity\":0.8,\"size\":5,\"symbol\":\"square\"},\"mode\":\"markers\",\"showlegend\":false,\"x\":[5.794493116621174,5.777039824101231,5.759586531581287,5.759586531581287,5.759586531581287,5.759586531581287,5.759586531581287,5.759586531581287,5.759586531581287,5.759586531581287,5.759586531581287,5.759586531581287,5.759586531581287,5.759586531581287,2.600540585471551,2.600540585471551,2.5830872929516078,2.5830872929516078,2.5656340004316642,2.5656340004316642,2.5656340004316642,2.5656340004316642,2.5656340004316642,2.5656340004316642,2.5656340004316642,2.5656340004316642,2.5656340004316642,2.5656340004316642,2.5656340004316642,2.5830872929516078,2.5830872929516078,2.5656340004316642],\"y\":[18,18,18,18,18,18,18,18,18,18,18,18,18,18,18,18,18,18,18,18,18,18,18,18,18,18,18,18,18,18,18,18],\"type\":\"scatter\"},{\"marker\":{\"color\":\"turquoise\",\"opacity\":1,\"size\":3,\"symbol\":\"square\"},\"mode\":\"markers\",\"showlegend\":false,\"x\":[5.759586531581287,2.5830872929516078],\"y\":[18,18],\"type\":\"scatter\"},{\"marker\":{\"color\":\"grey\",\"opacity\":0.8,\"size\":5,\"symbol\":\"square\"},\"mode\":\"markers\",\"showlegend\":false,\"x\":[5.777039824101231,5.777039824101231,5.777039824101231,5.777039824101231,5.759586531581287,5.759586531581287,5.777039824101231,5.777039824101231,5.777039824101231,5.777039824101231,5.777039824101231,5.777039824101231,5.777039824101231,5.777039824101231,5.777039824101231,2.5830872929516078,2.600540585471551,2.5830872929516078,2.5656340004316642],\"y\":[19,19,19,19,19,19,19,19,19,19,19,19,19,19,19,19,19,19,19],\"type\":\"scatter\"},{\"marker\":{\"color\":\"turquoise\",\"opacity\":1,\"size\":3,\"symbol\":\"square\"},\"mode\":\"markers\",\"showlegend\":false,\"x\":[5.777039824101231,2.5830872929516078],\"y\":[19,19],\"type\":\"scatter\"},{\"marker\":{\"color\":\"grey\",\"opacity\":0.8,\"size\":5,\"symbol\":\"square\"},\"mode\":\"markers\",\"showlegend\":false,\"x\":[5.794493116621174,5.794493116621174,5.777039824101231,5.777039824101231,5.777039824101231,5.777039824101231,5.759586531581287,5.777039824101231,5.759586531581287,5.759586531581287,5.759586531581287,5.759586531581287,5.759586531581287,5.759586531581287,5.759586531581287,5.759586531581287,5.759586531581287,2.600540585471551,2.600540585471551,2.5830872929516078,2.5656340004316642,2.5830872929516078,2.5830872929516078,2.5830872929516078,2.5656340004316642,2.5830872929516078,2.5830872929516078],\"y\":[20,20,20,20,20,20,20,20,20,20,20,20,20,20,20,20,20,20,20,20,20,20,20,20,20,20,20],\"type\":\"scatter\"},{\"marker\":{\"color\":\"turquoise\",\"opacity\":1,\"size\":3,\"symbol\":\"square\"},\"mode\":\"markers\",\"showlegend\":false,\"x\":[5.777039824101231,2.5830872929516078],\"y\":[20,20],\"type\":\"scatter\"},{\"marker\":{\"color\":\"grey\",\"opacity\":0.8,\"size\":5,\"symbol\":\"square\"},\"mode\":\"markers\",\"showlegend\":false,\"x\":[5.794493116621174,5.777039824101231,5.759586531581287,5.759586531581287,5.759586531581287,5.759586531581287,5.759586531581287,5.759586531581287,5.759586531581287,5.759586531581287,5.759586531581287,5.742133239061344,5.742133239061344,5.759586531581287,5.759586531581287,5.742133239061344,5.759586531581287,2.600540585471551,2.5830872929516078,2.5830872929516078,2.5656340004316642,2.5656340004316642,2.5656340004316642,2.5830872929516078,2.5656340004316642,2.5656340004316642,2.5830872929516078,2.5656340004316642,2.5656340004316642,2.5830872929516078],\"y\":[21,21,21,21,21,21,21,21,21,21,21,21,21,21,21,21,21,21,21,21,21,21,21,21,21,21,21,21,21,21],\"type\":\"scatter\"},{\"marker\":{\"color\":\"turquoise\",\"opacity\":1,\"size\":3,\"symbol\":\"square\"},\"mode\":\"markers\",\"showlegend\":false,\"x\":[5.759586531581287,2.5830872929516078],\"y\":[21,21],\"type\":\"scatter\"},{\"marker\":{\"color\":\"grey\",\"opacity\":0.8,\"size\":5,\"symbol\":\"square\"},\"mode\":\"markers\",\"showlegend\":false,\"x\":[5.794493116621174,5.777039824101231,5.777039824101231,5.777039824101231,5.777039824101231,5.759586531581287,5.759586531581287,5.759586531581287,5.759586531581287,5.759586531581287,5.759586531581287,5.759586531581287,5.759586531581287,5.759586531581287,2.6179938779914944,2.600540585471551,2.600540585471551,2.5830872929516078,2.5830872929516078,2.5830872929516078,2.5656340004316642,2.5656340004316642,2.5830872929516078,2.5830872929516078,2.5830872929516078,2.5830872929516078],\"y\":[22,22,22,22,22,22,22,22,22,22,22,22,22,22,22,22,22,22,22,22,22,22,22,22,22,22],\"type\":\"scatter\"},{\"marker\":{\"color\":\"turquoise\",\"opacity\":1,\"size\":3,\"symbol\":\"square\"},\"mode\":\"markers\",\"showlegend\":false,\"x\":[5.777039824101231,2.600540585471551],\"y\":[22,22],\"type\":\"scatter\"},{\"marker\":{\"color\":\"grey\",\"opacity\":0.8,\"size\":5,\"symbol\":\"square\"},\"mode\":\"markers\",\"showlegend\":false,\"x\":[5.777039824101231,5.777039824101231,5.759586531581287,5.759586531581287,5.759586531581287,5.742133239061344,5.742133239061344,5.742133239061344,5.759586531581287,5.742133239061344,5.742133239061344,5.742133239061344,5.742133239061344,5.742133239061344,5.742133239061344,5.742133239061344,5.742133239061344,5.742133239061344,2.600540585471551,2.600540585471551,2.600540585471551,2.5830872929516078,2.5830872929516078,2.5830872929516078,2.5830872929516078,2.5830872929516078,2.5830872929516078,2.5830872929516078,2.5656340004316642,2.5656340004316642,2.5656340004316642,2.5656340004316642],\"y\":[23,23,23,23,23,23,23,23,23,23,23,23,23,23,23,23,23,23,23,23,23,23,23,23,23,23,23,23,23,23,23,23],\"type\":\"scatter\"},{\"marker\":{\"color\":\"turquoise\",\"opacity\":1,\"size\":3,\"symbol\":\"square\"},\"mode\":\"markers\",\"showlegend\":false,\"x\":[5.759586531581287,2.600540585471551],\"y\":[23,23],\"type\":\"scatter\"},{\"marker\":{\"color\":\"grey\",\"opacity\":0.8,\"size\":5,\"symbol\":\"square\"},\"mode\":\"markers\",\"showlegend\":false,\"x\":[5.794493116621174,5.777039824101231,5.777039824101231,5.759586531581287,5.759586531581287,5.759586531581287,5.759586531581287,5.759586531581287,5.759586531581287,5.759586531581287,5.759586531581287,5.759586531581287,2.6179938779914944,2.600540585471551,2.600540585471551,2.5830872929516078,2.5830872929516078,2.5830872929516078,2.5830872929516078,2.5830872929516078,2.5830872929516078,2.5830872929516078,2.5830872929516078,2.5830872929516078,2.5830872929516078,2.5830872929516078],\"y\":[24,24,24,24,24,24,24,24,24,24,24,24,24,24,24,24,24,24,24,24,24,24,24,24,24,24],\"type\":\"scatter\"},{\"marker\":{\"color\":\"turquoise\",\"opacity\":1,\"size\":3,\"symbol\":\"square\"},\"mode\":\"markers\",\"showlegend\":false,\"x\":[5.777039824101231,2.600540585471551],\"y\":[24,24],\"type\":\"scatter\"},{\"marker\":{\"color\":\"grey\",\"opacity\":0.8,\"size\":5,\"symbol\":\"square\"},\"mode\":\"markers\",\"showlegend\":false,\"x\":[5.777039824101231,5.777039824101231,5.777039824101231,5.742133239061344,5.742133239061344,5.742133239061344,5.742133239061344,5.742133239061344,5.742133239061344,5.742133239061344,5.742133239061344,5.742133239061344,5.742133239061344,5.742133239061344,5.742133239061344,5.742133239061344,2.600540585471551,2.600540585471551,2.5830872929516078,2.5656340004316642,2.5830872929516078,2.5656340004316642,2.5830872929516078,2.5656340004316642,2.5830872929516078,2.5656340004316642,2.5830872929516078,2.5830872929516078],\"y\":[25,25,25,25,25,25,25,25,25,25,25,25,25,25,25,25,25,25,25,25,25,25,25,25,25,25,25,25],\"type\":\"scatter\"},{\"marker\":{\"color\":\"turquoise\",\"opacity\":1,\"size\":3,\"symbol\":\"square\"},\"mode\":\"markers\",\"showlegend\":false,\"x\":[5.777039824101231,2.5830872929516078],\"y\":[25,25],\"type\":\"scatter\"},{\"marker\":{\"color\":\"grey\",\"opacity\":0.8,\"size\":5,\"symbol\":\"square\"},\"mode\":\"markers\",\"showlegend\":false,\"x\":[5.82939970166106,5.777039824101231,5.759586531581287,5.759586531581287,5.759586531581287,5.759586531581287,5.759586531581287,5.759586531581287,5.759586531581287,5.759586531581287,5.759586531581287,5.759586531581287,5.759586531581287,5.759586531581287,5.759586531581287,2.6179938779914944,2.600540585471551,2.600540585471551,2.5656340004316642,2.5656340004316642,2.5656340004316642,2.5656340004316642,2.5656340004316642,2.5656340004316642,2.5656340004316642,2.5656340004316642,2.5656340004316642,2.5656340004316642,2.5656340004316642,2.5656340004316642],\"y\":[26,26,26,26,26,26,26,26,26,26,26,26,26,26,26,26,26,26,26,26,26,26,26,26,26,26,26,26,26,26],\"type\":\"scatter\"},{\"marker\":{\"color\":\"turquoise\",\"opacity\":1,\"size\":3,\"symbol\":\"square\"},\"mode\":\"markers\",\"showlegend\":false,\"x\":[5.777039824101231,2.600540585471551],\"y\":[26,26],\"type\":\"scatter\"},{\"marker\":{\"color\":\"grey\",\"opacity\":0.8,\"size\":5,\"symbol\":\"square\"},\"mode\":\"markers\",\"showlegend\":false,\"x\":[5.777039824101231,5.759586531581287,5.759586531581287,5.759586531581287,5.759586531581287,5.759586531581287,5.759586531581287,5.759586531581287,5.759586531581287,5.759586531581287,5.759586531581287,5.759586531581287,5.759586531581287,5.759586531581287,5.759586531581287,5.759586531581287,5.759586531581287,5.759586531581287,2.600540585471551,2.600540585471551,2.5656340004316642,2.5830872929516078,2.5830872929516078,2.5830872929516078,2.5830872929516078,2.5656340004316642,2.5830872929516078,2.5830872929516078,2.5830872929516078,2.5830872929516078,2.5830872929516078,2.5830872929516078],\"y\":[27,27,27,27,27,27,27,27,27,27,27,27,27,27,27,27,27,27,27,27,27,27,27,27,27,27,27,27,27,27,27,27],\"type\":\"scatter\"},{\"marker\":{\"color\":\"turquoise\",\"opacity\":1,\"size\":3,\"symbol\":\"square\"},\"mode\":\"markers\",\"showlegend\":false,\"x\":[5.759586531581287,2.5656340004316642],\"y\":[27,27],\"type\":\"scatter\"},{\"marker\":{\"color\":\"grey\",\"opacity\":0.8,\"size\":5,\"symbol\":\"square\"},\"mode\":\"markers\",\"showlegend\":false,\"x\":[5.794493116621174,5.794493116621174,5.777039824101231,5.777039824101231,5.794493116621174,5.794493116621174,5.777039824101231,5.777039824101231,5.777039824101231,5.777039824101231,5.777039824101231,5.777039824101231,5.777039824101231,5.777039824101231,5.777039824101231,2.6179938779914944,2.600540585471551,2.600540585471551,2.5656340004316642,2.5830872929516078,2.5830872929516078,2.5656340004316642,2.5656340004316642,2.5656340004316642,2.5656340004316642,2.5656340004316642,2.5656340004316642,2.5656340004316642,2.5656340004316642,2.5656340004316642,2.5656340004316642,2.5656340004316642,2.5656340004316642,2.5656340004316642,2.5656340004316642,2.5656340004316642,2.5656340004316642,2.5656340004316642,2.5656340004316642,2.5656340004316642,2.5656340004316642,2.5830872929516078,2.5830872929516078],\"y\":[28,28,28,28,28,28,28,28,28,28,28,28,28,28,28,28,28,28,28,28,28,28,28,28,28,28,28,28,28,28,28,28,28,28,28,28,28,28,28,28,28,28,28],\"type\":\"scatter\"},{\"marker\":{\"color\":\"turquoise\",\"opacity\":1,\"size\":3,\"symbol\":\"square\"},\"mode\":\"markers\",\"showlegend\":false,\"x\":[5.777039824101231,2.600540585471551],\"y\":[28,28],\"type\":\"scatter\"},{\"marker\":{\"color\":\"grey\",\"opacity\":0.8,\"size\":5,\"symbol\":\"square\"},\"mode\":\"markers\",\"showlegend\":false,\"x\":[5.777039824101231,5.777039824101231,5.759586531581287,5.777039824101231,5.777039824101231,5.777039824101231,5.759586531581287,5.759586531581287,5.759586531581287,5.759586531581287,5.759586531581287,5.759586531581287,5.759586531581287,5.759586531581287,5.759586531581287,2.5830872929516078,2.5830872929516078,2.5830872929516078,2.5830872929516078,2.5830872929516078,2.5656340004316642,2.5656340004316642,2.5830872929516078,2.5656340004316642,2.5830872929516078,2.5830872929516078,2.5830872929516078,2.5830872929516078,2.5656340004316642,2.5656340004316642,2.5656340004316642,2.5656340004316642,2.5830872929516078,2.5656340004316642,2.5656340004316642],\"y\":[29,29,29,29,29,29,29,29,29,29,29,29,29,29,29,29,29,29,29,29,29,29,29,29,29,29,29,29,29,29,29,29,29,29,29],\"type\":\"scatter\"},{\"marker\":{\"color\":\"turquoise\",\"opacity\":1,\"size\":3,\"symbol\":\"square\"},\"mode\":\"markers\",\"showlegend\":false,\"x\":[5.759586531581287,2.5830872929516078],\"y\":[29,29],\"type\":\"scatter\"},{\"marker\":{\"color\":\"grey\",\"opacity\":0.8,\"size\":5,\"symbol\":\"square\"},\"mode\":\"markers\",\"showlegend\":false,\"x\":[5.777039824101231,5.777039824101231,5.777039824101231,5.759586531581287,5.777039824101231,5.777039824101231,5.777039824101231,5.777039824101231,5.759586531581287,5.759586531581287,5.777039824101231,5.777039824101231,5.759586531581287,5.759586531581287,2.6179938779914944,2.600540585471551,2.5830872929516078,2.5656340004316642,2.5656340004316642,2.5830872929516078,2.5830872929516078,2.5830872929516078,2.5830872929516078,2.5830872929516078,2.5830872929516078],\"y\":[30,30,30,30,30,30,30,30,30,30,30,30,30,30,30,30,30,30,30,30,30,30,30,30,30],\"type\":\"scatter\"},{\"marker\":{\"color\":\"turquoise\",\"opacity\":1,\"size\":3,\"symbol\":\"square\"},\"mode\":\"markers\",\"showlegend\":false,\"x\":[5.777039824101231,2.5830872929516078],\"y\":[30,30],\"type\":\"scatter\"},{\"marker\":{\"color\":\"grey\",\"opacity\":0.8,\"size\":5,\"symbol\":\"square\"},\"mode\":\"markers\",\"showlegend\":false,\"x\":[5.811946409141117,5.794493116621174,5.777039824101231,5.794493116621174,5.794493116621174,5.794493116621174,5.794493116621174,5.794493116621174,5.794493116621174,5.794493116621174,5.794493116621174,5.794493116621174,5.794493116621174,5.794493116621174,2.6179938779914944,2.600540585471551,2.600540585471551,2.5830872929516078,2.5830872929516078,2.5830872929516078,2.5830872929516078,2.5830872929516078,2.5830872929516078,2.5830872929516078,2.5830872929516078,2.5830872929516078,2.5830872929516078],\"y\":[31,31,31,31,31,31,31,31,31,31,31,31,31,31,31,31,31,31,31,31,31,31,31,31,31,31,31],\"type\":\"scatter\"},{\"marker\":{\"color\":\"turquoise\",\"opacity\":1,\"size\":3,\"symbol\":\"square\"},\"mode\":\"markers\",\"showlegend\":false,\"x\":[5.777039824101231,2.600540585471551],\"y\":[31,31],\"type\":\"scatter\"},{\"marker\":{\"color\":\"grey\",\"opacity\":0.8,\"size\":5,\"symbol\":\"square\"},\"mode\":\"markers\",\"showlegend\":false,\"x\":[5.811946409141117,5.794493116621174,5.794493116621174,5.777039824101231,5.777039824101231,5.777039824101231,5.777039824101231,5.777039824101231,5.777039824101231,5.777039824101231,5.777039824101231,2.6179938779914944,2.6179938779914944,2.600540585471551,2.5830872929516078,2.5830872929516078,2.5830872929516078,2.5830872929516078,2.5830872929516078,2.5830872929516078,2.5830872929516078,2.5830872929516078,2.5830872929516078,2.5830872929516078,2.5830872929516078,2.5830872929516078,2.5830872929516078,2.5830872929516078,2.5830872929516078,2.5830872929516078,2.5830872929516078,2.5656340004316642,2.3911010752322315],\"y\":[32,32,32,32,32,32,32,32,32,32,32,32,32,32,32,32,32,32,32,32,32,32,32,32,32,32,32,32,32,32,32,32,32],\"type\":\"scatter\"},{\"marker\":{\"color\":\"turquoise\",\"opacity\":1,\"size\":3,\"symbol\":\"square\"},\"mode\":\"markers\",\"showlegend\":false,\"x\":[5.794493116621174,2.600540585471551],\"y\":[32,32],\"type\":\"scatter\"},{\"marker\":{\"color\":\"grey\",\"opacity\":0.8,\"size\":5,\"symbol\":\"square\"},\"mode\":\"markers\",\"showlegend\":false,\"x\":[5.794493116621174,5.777039824101231,5.777039824101231,5.777039824101231,5.777039824101231,5.777039824101231,5.777039824101231,5.777039824101231,5.759586531581287,5.777039824101231,5.777039824101231,5.777039824101231,5.777039824101231,5.777039824101231,5.777039824101231,5.777039824101231,2.6179938779914944,2.600540585471551,2.5830872929516078,2.5830872929516078,2.5656340004316642,2.5656340004316642,2.5830872929516078,2.5656340004316642,2.5830872929516078,2.5656340004316642,2.5656340004316642,2.5656340004316642,2.5830872929516078],\"y\":[33,33,33,33,33,33,33,33,33,33,33,33,33,33,33,33,33,33,33,33,33,33,33,33,33,33,33,33,33],\"type\":\"scatter\"},{\"marker\":{\"color\":\"turquoise\",\"opacity\":1,\"size\":3,\"symbol\":\"square\"},\"mode\":\"markers\",\"showlegend\":false,\"x\":[5.777039824101231,2.5830872929516078],\"y\":[33,33],\"type\":\"scatter\"},{\"marker\":{\"color\":\"grey\",\"opacity\":0.8,\"size\":5,\"symbol\":\"square\"},\"mode\":\"markers\",\"showlegend\":false,\"x\":[5.794493116621174,5.794493116621174,5.794493116621174,5.777039824101231,5.777039824101231,5.794493116621174,5.777039824101231,5.794493116621174,5.777039824101231,5.777039824101231,5.777039824101231,5.777039824101231,5.777039824101231,5.777039824101231,5.777039824101231,5.777039824101231,5.777039824101231,2.6179938779914944,2.600540585471551,2.600540585471551,2.5830872929516078,2.5656340004316642,2.5830872929516078,2.5830872929516078,2.5656340004316642,2.5830872929516078,2.5830872929516078,2.5830872929516078],\"y\":[34,34,34,34,34,34,34,34,34,34,34,34,34,34,34,34,34,34,34,34,34,34,34,34,34,34,34,34],\"type\":\"scatter\"},{\"marker\":{\"color\":\"turquoise\",\"opacity\":1,\"size\":3,\"symbol\":\"square\"},\"mode\":\"markers\",\"showlegend\":false,\"x\":[5.794493116621174,2.600540585471551],\"y\":[34,34],\"type\":\"scatter\"},{\"marker\":{\"color\":\"grey\",\"opacity\":0.8,\"size\":5,\"symbol\":\"square\"},\"mode\":\"markers\",\"showlegend\":false,\"x\":[5.794493116621174,5.794493116621174,5.777039824101231,5.794493116621174,5.794493116621174,5.794493116621174,5.794493116621174,5.794493116621174,5.794493116621174,5.794493116621174,5.777039824101231,2.6179938779914944,2.6179938779914944,2.600540585471551,2.5830872929516078,2.5830872929516078,2.5830872929516078,2.5656340004316642,2.5830872929516078,2.5656340004316642,2.5656340004316642,2.5656340004316642,2.5656340004316642,2.5830872929516078,2.5656340004316642,2.5656340004316642,2.5656340004316642,2.5656340004316642,2.5656340004316642],\"y\":[35,35,35,35,35,35,35,35,35,35,35,35,35,35,35,35,35,35,35,35,35,35,35,35,35,35,35,35,35],\"type\":\"scatter\"},{\"marker\":{\"color\":\"turquoise\",\"opacity\":1,\"size\":3,\"symbol\":\"square\"},\"mode\":\"markers\",\"showlegend\":false,\"x\":[5.777039824101231,2.600540585471551],\"y\":[35,35],\"type\":\"scatter\"},{\"marker\":{\"color\":\"grey\",\"opacity\":0.8,\"size\":5,\"symbol\":\"square\"},\"mode\":\"markers\",\"showlegend\":false,\"x\":[1.7278759594743862,1.7278759594743862,1.7278759594743862,1.7278759594743862],\"y\":[36,36,36,36],\"type\":\"scatter\"},{\"marker\":{\"color\":\"turquoise\",\"opacity\":1,\"size\":3,\"symbol\":\"square\"},\"mode\":\"markers\",\"showlegend\":false,\"x\":[],\"y\":[],\"type\":\"scatter\"},{\"marker\":{\"color\":\"grey\",\"opacity\":0.8,\"size\":5,\"symbol\":\"square\"},\"mode\":\"markers\",\"showlegend\":false,\"x\":[5.777039824101231,5.777039824101231,5.777039824101231,5.742133239061344,5.759586531581287,5.759586531581287,5.742133239061344,5.742133239061344,5.6374134839416845,2.600540585471551,2.600540585471551,2.600540585471551,2.600540585471551,2.5830872929516078,2.600540585471551,2.600540585471551,2.600540585471551,2.600540585471551],\"y\":[37,37,37,37,37,37,37,37,37,37,37,37,37,37,37,37,37,37],\"type\":\"scatter\"},{\"marker\":{\"color\":\"turquoise\",\"opacity\":1,\"size\":3,\"symbol\":\"square\"},\"mode\":\"markers\",\"showlegend\":false,\"x\":[5.777039824101231,2.600540585471551],\"y\":[37,37],\"type\":\"scatter\"},{\"marker\":{\"color\":\"grey\",\"opacity\":0.8,\"size\":5,\"symbol\":\"square\"},\"mode\":\"markers\",\"showlegend\":false,\"x\":[5.794493116621174,5.794493116621174,5.794493116621174,5.794493116621174,5.777039824101231,5.777039824101231,5.777039824101231,5.777039824101231,5.777039824101231,5.777039824101231,2.5830872929516078,2.5830872929516078,2.5656340004316642,2.5830872929516078,2.5830872929516078,2.5830872929516078,2.5830872929516078,2.5830872929516078,2.5830872929516078],\"y\":[38,38,38,38,38,38,38,38,38,38,38,38,38,38,38,38,38,38,38],\"type\":\"scatter\"},{\"marker\":{\"color\":\"turquoise\",\"opacity\":1,\"size\":3,\"symbol\":\"square\"},\"mode\":\"markers\",\"showlegend\":false,\"x\":[5.794493116621174,2.5656340004316642],\"y\":[38,38],\"type\":\"scatter\"},{\"marker\":{\"color\":\"grey\",\"opacity\":0.8,\"size\":5,\"symbol\":\"square\"},\"mode\":\"markers\",\"showlegend\":false,\"x\":[5.811946409141117,5.794493116621174,5.794493116621174,5.794493116621174,5.794493116621174,5.811946409141117,5.794493116621174,5.794493116621174,5.794493116621174,5.794493116621174,5.794493116621174,5.794493116621174,5.794493116621174,2.6179938779914944,2.600540585471551,2.600540585471551,2.5830872929516078,2.5830872929516078,2.5830872929516078,2.5830872929516078,2.5830872929516078,2.5656340004316642,2.5656340004316642,2.5656340004316642,2.5830872929516078,2.5830872929516078,2.5830872929516078],\"y\":[39,39,39,39,39,39,39,39,39,39,39,39,39,39,39,39,39,39,39,39,39,39,39,39,39,39,39],\"type\":\"scatter\"},{\"marker\":{\"color\":\"turquoise\",\"opacity\":1,\"size\":3,\"symbol\":\"square\"},\"mode\":\"markers\",\"showlegend\":false,\"x\":[5.794493116621174,2.600540585471551],\"y\":[39,39],\"type\":\"scatter\"},{\"marker\":{\"color\":\"grey\",\"opacity\":0.8,\"size\":5,\"symbol\":\"square\"},\"mode\":\"markers\",\"showlegend\":false,\"x\":[5.811946409141117,5.794493116621174,5.794493116621174,5.794493116621174,5.794493116621174,5.811946409141117,5.794493116621174,5.794493116621174,5.794493116621174,5.794493116621174,5.794493116621174,2.7401669256310974,2.600540585471551,2.600540585471551,2.600540585471551,1.7976891295541595,1.7976891295541595],\"y\":[40,40,40,40,40,40,40,40,40,40,40,40,40,40,40,40,40],\"type\":\"scatter\"},{\"marker\":{\"color\":\"turquoise\",\"opacity\":1,\"size\":3,\"symbol\":\"square\"},\"mode\":\"markers\",\"showlegend\":false,\"x\":[5.794493116621174,2.600540585471551],\"y\":[40,40],\"type\":\"scatter\"},{\"marker\":{\"color\":\"grey\",\"opacity\":0.8,\"size\":5,\"symbol\":\"square\"},\"mode\":\"markers\",\"showlegend\":false,\"x\":[5.794493116621174,5.794493116621174,5.794493116621174,5.794493116621174,5.794493116621174,5.794493116621174,5.777039824101231,5.794493116621174,5.794493116621174,5.794493116621174,5.794493116621174,5.794493116621174,5.794493116621174,5.794493116621174,5.777039824101231,5.794493116621174,5.794493116621174,5.794493116621174,5.777039824101231,2.6179938779914944,2.6179938779914944,2.600540585471551,2.5830872929516078,2.5830872929516078,2.5830872929516078,2.5830872929516078,2.5830872929516078,2.5830872929516078],\"y\":[41,41,41,41,41,41,41,41,41,41,41,41,41,41,41,41,41,41,41,41,41,41,41,41,41,41,41,41],\"type\":\"scatter\"},{\"marker\":{\"color\":\"turquoise\",\"opacity\":1,\"size\":3,\"symbol\":\"square\"},\"mode\":\"markers\",\"showlegend\":false,\"x\":[5.794493116621174,2.600540585471551],\"y\":[41,41],\"type\":\"scatter\"},{\"marker\":{\"color\":\"grey\",\"opacity\":0.8,\"size\":5,\"symbol\":\"square\"},\"mode\":\"markers\",\"showlegend\":false,\"x\":[5.794493116621174,5.794493116621174,5.811946409141117,5.811946409141117,5.811946409141117,5.794493116621174,5.794493116621174,5.794493116621174,5.794493116621174,5.794493116621174,5.794493116621174,5.794493116621174,5.794493116621174,5.794493116621174,2.600540585471551,2.600540585471551,2.5830872929516078,2.5830872929516078,2.5830872929516078,2.5830872929516078,2.5830872929516078,2.5656340004316642,2.5830872929516078,2.5656340004316642,2.5656340004316642,2.5656340004316642,2.5656340004316642,2.5656340004316642,2.5656340004316642,2.5656340004316642,2.5656340004316642,2.5830872929516078,2.5830872929516078,2.5656340004316642,2.5656340004316642,2.5656340004316642,2.5656340004316642,2.5830872929516078,2.5830872929516078,2.600540585471551],\"y\":[42,42,42,42,42,42,42,42,42,42,42,42,42,42,42,42,42,42,42,42,42,42,42,42,42,42,42,42,42,42,42,42,42,42,42,42,42,42,42,42],\"type\":\"scatter\"},{\"marker\":{\"color\":\"turquoise\",\"opacity\":1,\"size\":3,\"symbol\":\"square\"},\"mode\":\"markers\",\"showlegend\":false,\"x\":[5.811946409141117,2.5830872929516078],\"y\":[42,42],\"type\":\"scatter\"},{\"marker\":{\"color\":\"grey\",\"opacity\":0.8,\"size\":5,\"symbol\":\"square\"},\"mode\":\"markers\",\"showlegend\":false,\"x\":[5.794493116621174,5.794493116621174,5.777039824101231,5.777039824101231,5.777039824101231,5.759586531581287,5.777039824101231,5.777039824101231,5.777039824101231,5.759586531581287,5.777039824101231,5.777039824101231,5.777039824101231,5.777039824101231,5.777039824101231,5.759586531581287,2.600540585471551,2.600540585471551,2.600540585471551,2.5830872929516078,2.5830872929516078,2.600540585471551,2.5830872929516078,2.600540585471551,2.5830872929516078,2.5830872929516078,2.600540585471551],\"y\":[43,43,43,43,43,43,43,43,43,43,43,43,43,43,43,43,43,43,43,43,43,43,43,43,43,43,43],\"type\":\"scatter\"},{\"marker\":{\"color\":\"turquoise\",\"opacity\":1,\"size\":3,\"symbol\":\"square\"},\"mode\":\"markers\",\"showlegend\":false,\"x\":[5.777039824101231,2.600540585471551],\"y\":[43,43],\"type\":\"scatter\"},{\"marker\":{\"color\":\"grey\",\"opacity\":0.8,\"size\":5,\"symbol\":\"square\"},\"mode\":\"markers\",\"showlegend\":false,\"x\":[4.991641660703783,4.991641660703783,4.991641660703783,2.600540585471551,2.5830872929516078,2.5830872929516078,2.600540585471551,2.5830872929516078,2.5830872929516078,2.5830872929516078,2.5830872929516078,2.5830872929516078,2.600540585471551,2.5830872929516078,2.5830872929516078,2.5830872929516078,2.5830872929516078,2.600540585471551,2.5830872929516078,2.5830872929516078,2.5830872929516078,2.5830872929516078],\"y\":[44,44,44,44,44,44,44,44,44,44,44,44,44,44,44,44,44,44,44,44,44,44],\"type\":\"scatter\"},{\"marker\":{\"color\":\"turquoise\",\"opacity\":1,\"size\":3,\"symbol\":\"square\"},\"mode\":\"markers\",\"showlegend\":false,\"x\":[],\"y\":[],\"type\":\"scatter\"},{\"marker\":{\"color\":\"grey\",\"opacity\":0.8,\"size\":5,\"symbol\":\"square\"},\"mode\":\"markers\",\"showlegend\":false,\"x\":[5.794493116621174,5.794493116621174,5.777039824101231,5.777039824101231,5.777039824101231,5.777039824101231,5.777039824101231,5.777039824101231,5.777039824101231,5.777039824101231,5.777039824101231,5.777039824101231,5.777039824101231,2.6179938779914944,2.6179938779914944,2.600540585471551,2.5830872929516078,2.5830872929516078,2.5656340004316642,2.5830872929516078,2.5830872929516078,2.5830872929516078,2.5830872929516078,2.5656340004316642],\"y\":[45,45,45,45,45,45,45,45,45,45,45,45,45,45,45,45,45,45,45,45,45,45,45,45],\"type\":\"scatter\"},{\"marker\":{\"color\":\"turquoise\",\"opacity\":1,\"size\":3,\"symbol\":\"square\"},\"mode\":\"markers\",\"showlegend\":false,\"x\":[5.777039824101231,2.600540585471551],\"y\":[45,45],\"type\":\"scatter\"},{\"marker\":{\"color\":\"grey\",\"opacity\":0.8,\"size\":5,\"symbol\":\"square\"},\"mode\":\"markers\",\"showlegend\":false,\"x\":[5.794493116621174,5.794493116621174,5.794493116621174,5.794493116621174,5.794493116621174,5.811946409141117,5.794493116621174,5.794493116621174,5.794493116621174,5.794493116621174,5.794493116621174,2.6354471705114375,2.6179938779914944,2.600540585471551,2.600540585471551,2.5830872929516078,2.5830872929516078,2.5830872929516078,2.5830872929516078,2.600540585471551,2.600540585471551,2.5830872929516078,2.5830872929516078,2.5830872929516078,2.5830872929516078,2.5830872929516078,2.5830872929516078,2.5830872929516078,5.794493116621174,5.777039824101231,5.777039824101231,5.759586531581287,5.777039824101231,5.777039824101231,5.777039824101231,5.759586531581287,5.759586531581287,5.759586531581287,5.759586531581287,5.759586531581287,2.6354471705114375,2.600540585471551,2.600540585471551,2.600540585471551,2.5830872929516078,2.5830872929516078,2.5830872929516078,2.5830872929516078,2.5830872929516078,2.5830872929516078,2.5830872929516078],\"y\":[46,46,46,46,46,46,46,46,46,46,46,46,46,46,46,46,46,46,46,46,46,46,46,46,46,46,46,46,46,46,46,46,46,46,46,46,46,46,46,46,46,46,46,46,46,46,46,46,46,46,46],\"type\":\"scatter\"},{\"marker\":{\"color\":\"turquoise\",\"opacity\":1,\"size\":3,\"symbol\":\"square\"},\"mode\":\"markers\",\"showlegend\":false,\"x\":[5.794493116621174,2.600540585471551,5.777039824101231,2.600540585471551],\"y\":[46,46,46,46],\"type\":\"scatter\"},{\"marker\":{\"color\":\"grey\",\"opacity\":0.8,\"size\":5,\"symbol\":\"square\"},\"mode\":\"markers\",\"showlegend\":false,\"x\":[5.794493116621174,5.777039824101231,5.777039824101231,5.759586531581287,5.759586531581287,5.759586531581287,5.759586531581287,5.759586531581287,5.759586531581287,5.759586531581287,2.6179938779914944,2.6179938779914944,2.6179938779914944,2.5830872929516078,2.600540585471551,2.5830872929516078,2.600540585471551,2.5830872929516078,2.600540585471551,2.5830872929516078,2.600540585471551,2.600540585471551,2.5830872929516078],\"y\":[47,47,47,47,47,47,47,47,47,47,47,47,47,47,47,47,47,47,47,47,47,47,47],\"type\":\"scatter\"},{\"marker\":{\"color\":\"turquoise\",\"opacity\":1,\"size\":3,\"symbol\":\"square\"},\"mode\":\"markers\",\"showlegend\":false,\"x\":[5.777039824101231,2.6179938779914944],\"y\":[47,47],\"type\":\"scatter\"},{\"marker\":{\"color\":\"grey\",\"opacity\":0.8,\"size\":5,\"symbol\":\"square\"},\"mode\":\"markers\",\"showlegend\":false,\"x\":[5.777039824101231,5.777039824101231,5.777039824101231,5.759586531581287,5.759586531581287,5.759586531581287,5.759586531581287,5.759586531581287,5.759586531581287,5.759586531581287,5.759586531581287,5.759586531581287,5.759586531581287,5.759586531581287,2.6179938779914944,2.5830872929516078,2.5830872929516078,2.600540585471551],\"y\":[48,48,48,48,48,48,48,48,48,48,48,48,48,48,48,48,48,48],\"type\":\"scatter\"},{\"marker\":{\"color\":\"turquoise\",\"opacity\":1,\"size\":3,\"symbol\":\"square\"},\"mode\":\"markers\",\"showlegend\":false,\"x\":[5.777039824101231,2.5830872929516078],\"y\":[48,48],\"type\":\"scatter\"},{\"marker\":{\"color\":\"grey\",\"opacity\":0.8,\"size\":5,\"symbol\":\"square\"},\"mode\":\"markers\",\"showlegend\":false,\"x\":[5.794493116621174,5.794493116621174,5.794493116621174,5.777039824101231,5.759586531581287,5.777039824101231,5.759586531581287,5.777039824101231,5.777039824101231,2.600540585471551,2.600540585471551,2.600540585471551,2.5830872929516078,2.5830872929516078,2.5830872929516078,2.5830872929516078,2.600540585471551,2.5830872929516078,2.5830872929516078,2.5830872929516078,2.600540585471551,2.5830872929516078,2.5830872929516078,2.5830872929516078,2.5830872929516078,2.5830872929516078,2.5830872929516078,2.5830872929516078,2.5830872929516078,2.5830872929516078],\"y\":[49,49,49,49,49,49,49,49,49,49,49,49,49,49,49,49,49,49,49,49,49,49,49,49,49,49,49,49,49,49],\"type\":\"scatter\"},{\"marker\":{\"color\":\"turquoise\",\"opacity\":1,\"size\":3,\"symbol\":\"square\"},\"mode\":\"markers\",\"showlegend\":false,\"x\":[5.794493116621174,2.600540585471551],\"y\":[49,49],\"type\":\"scatter\"},{\"marker\":{\"color\":\"grey\",\"opacity\":0.8,\"size\":5,\"symbol\":\"square\"},\"mode\":\"markers\",\"showlegend\":false,\"x\":[5.777039824101231,5.777039824101231,5.794493116621174,5.777039824101231,5.777039824101231,5.794493116621174,5.777039824101231,5.777039824101231,5.777039824101231,5.777039824101231,5.777039824101231,5.777039824101231,2.6354471705114375,2.6179938779914944,2.600540585471551,2.600540585471551,2.600540585471551,2.5830872929516078,2.5830872929516078,2.5830872929516078,2.600540585471551,2.5830872929516078,2.5830872929516078,2.5830872929516078,2.5830872929516078,2.5830872929516078],\"y\":[50,50,50,50,50,50,50,50,50,50,50,50,50,50,50,50,50,50,50,50,50,50,50,50,50,50],\"type\":\"scatter\"},{\"marker\":{\"color\":\"turquoise\",\"opacity\":1,\"size\":3,\"symbol\":\"square\"},\"mode\":\"markers\",\"showlegend\":false,\"x\":[5.794493116621174,2.600540585471551],\"y\":[50,50],\"type\":\"scatter\"},{\"marker\":{\"color\":\"grey\",\"opacity\":0.8,\"size\":5,\"symbol\":\"square\"},\"mode\":\"markers\",\"showlegend\":false,\"x\":[5.777039824101231,5.777039824101231,5.777039824101231,5.759586531581287,5.777039824101231,5.777039824101231,5.777039824101231,5.777039824101231,5.759586531581287,5.759586531581287,5.777039824101231,5.759586531581287,5.759586531581287,2.6179938779914944,2.600540585471551,2.600540585471551,2.5830872929516078,2.600540585471551,2.5830872929516078,2.5830872929516078,2.5830872929516078,5.794493116621174,5.777039824101231,5.777039824101231,5.777039824101231,5.777039824101231,5.777039824101231,5.777039824101231,5.777039824101231,5.759586531581287,3.420845333908886,3.4033920413889427,2.600540585471551,2.600540585471551,2.600540585471551,2.5830872929516078,2.5830872929516078,2.5830872929516078,2.5830872929516078,2.5830872929516078,2.5830872929516078],\"y\":[51,51,51,51,51,51,51,51,51,51,51,51,51,51,51,51,51,51,51,51,51,51,51,51,51,51,51,51,51,51,51,51,51,51,51,51,51,51,51,51,51],\"type\":\"scatter\"},{\"marker\":{\"color\":\"turquoise\",\"opacity\":1,\"size\":3,\"symbol\":\"square\"},\"mode\":\"markers\",\"showlegend\":false,\"x\":[5.777039824101231,2.600540585471551,5.777039824101231,2.600540585471551],\"y\":[51,51,51,51],\"type\":\"scatter\"},{\"marker\":{\"color\":\"grey\",\"opacity\":0.8,\"size\":5,\"symbol\":\"square\"},\"mode\":\"markers\",\"showlegend\":false,\"x\":[5.794493116621174,5.794493116621174,5.811946409141117,5.811946409141117,5.794493116621174,5.794493116621174,5.811946409141117,5.811946409141117,2.6179938779914944,2.600540585471551,2.600540585471551,2.5830872929516078,2.5830872929516078,2.5830872929516078,2.5830872929516078,2.5830872929516078,2.5830872929516078,2.5830872929516078,2.600540585471551,2.5830872929516078,2.5830872929516078,2.5830872929516078,2.5830872929516078,2.5830872929516078],\"y\":[52,52,52,52,52,52,52,52,52,52,52,52,52,52,52,52,52,52,52,52,52,52,52,52],\"type\":\"scatter\"},{\"marker\":{\"color\":\"turquoise\",\"opacity\":1,\"size\":3,\"symbol\":\"square\"},\"mode\":\"markers\",\"showlegend\":false,\"x\":[5.811946409141117,2.600540585471551],\"y\":[52,52],\"type\":\"scatter\"},{\"marker\":{\"color\":\"grey\",\"opacity\":0.8,\"size\":5,\"symbol\":\"square\"},\"mode\":\"markers\",\"showlegend\":false,\"x\":[2.600540585471551,2.600540585471551,2.5830872929516078,2.5656340004316642,2.5830872929516078,2.5656340004316642,2.5830872929516078,2.5830872929516078,2.5830872929516078,2.5830872929516078,2.5830872929516078,2.5830872929516078,2.5830872929516078,2.5830872929516078],\"y\":[53,53,53,53,53,53,53,53,53,53,53,53,53,53],\"type\":\"scatter\"},{\"marker\":{\"color\":\"turquoise\",\"opacity\":1,\"size\":3,\"symbol\":\"square\"},\"mode\":\"markers\",\"showlegend\":false,\"x\":[],\"y\":[],\"type\":\"scatter\"},{\"marker\":{\"color\":\"grey\",\"opacity\":0.8,\"size\":5,\"symbol\":\"square\"},\"mode\":\"markers\",\"showlegend\":false,\"x\":[2.5656340004316642,2.5656340004316642,2.5656340004316642,2.5656340004316642,2.5656340004316642,2.5656340004316642,2.5656340004316642,2.5656340004316642,2.5656340004316642],\"y\":[54,54,54,54,54,54,54,54,54],\"type\":\"scatter\"},{\"marker\":{\"color\":\"turquoise\",\"opacity\":1,\"size\":3,\"symbol\":\"square\"},\"mode\":\"markers\",\"showlegend\":false,\"x\":[],\"y\":[],\"type\":\"scatter\"},{\"marker\":{\"color\":\"grey\",\"opacity\":0.8,\"size\":5,\"symbol\":\"square\"},\"mode\":\"markers\",\"showlegend\":false,\"x\":[2.5830872929516078,2.5830872929516078,2.5656340004316642,2.5830872929516078,2.5656340004316642,2.5656340004316642,2.5656340004316642,2.5830872929516078,2.5830872929516078,2.5830872929516078],\"y\":[55,55,55,55,55,55,55,55,55,55],\"type\":\"scatter\"},{\"marker\":{\"color\":\"turquoise\",\"opacity\":1,\"size\":3,\"symbol\":\"square\"},\"mode\":\"markers\",\"showlegend\":false,\"x\":[],\"y\":[],\"type\":\"scatter\"},{\"marker\":{\"color\":\"grey\",\"opacity\":0.8,\"size\":5,\"symbol\":\"square\"},\"mode\":\"markers\",\"showlegend\":false,\"x\":[3.4382986264288293,3.4382986264288293,3.420845333908886,3.420845333908886,3.4033920413889427,3.4033920413889427,3.4033920413889427,3.4033920413889427,3.4033920413889427,3.4033920413889427,3.385938748868999,2.600540585471551,2.5830872929516078,2.5830872929516078,2.5656340004316642,2.5830872929516078,2.5830872929516078,2.5656340004316642,2.5656340004316642],\"y\":[56,56,56,56,56,56,56,56,56,56,56,56,56,56,56,56,56,56,56],\"type\":\"scatter\"},{\"marker\":{\"color\":\"turquoise\",\"opacity\":1,\"size\":3,\"symbol\":\"square\"},\"mode\":\"markers\",\"showlegend\":false,\"x\":[],\"y\":[],\"type\":\"scatter\"},{\"marker\":{\"color\":\"grey\",\"opacity\":0.8,\"size\":5,\"symbol\":\"square\"},\"mode\":\"markers\",\"showlegend\":false,\"x\":[2.548180707911721,2.548180707911721],\"y\":[57,57],\"type\":\"scatter\"},{\"marker\":{\"color\":\"turquoise\",\"opacity\":1,\"size\":3,\"symbol\":\"square\"},\"mode\":\"markers\",\"showlegend\":false,\"x\":[],\"y\":[],\"type\":\"scatter\"},{\"marker\":{\"color\":\"grey\",\"opacity\":0.8,\"size\":5,\"symbol\":\"square\"},\"mode\":\"markers\",\"showlegend\":false,\"x\":[2.530727415391778,2.530727415391778,2.530727415391778,2.530727415391778,2.530727415391778,2.530727415391778],\"y\":[58,58,58,58,58,58],\"type\":\"scatter\"},{\"marker\":{\"color\":\"turquoise\",\"opacity\":1,\"size\":3,\"symbol\":\"square\"},\"mode\":\"markers\",\"showlegend\":false,\"x\":[],\"y\":[],\"type\":\"scatter\"}],                        {\"template\":{\"data\":{\"barpolar\":[{\"marker\":{\"line\":{\"color\":\"white\",\"width\":0.5},\"pattern\":{\"fillmode\":\"overlay\",\"size\":10,\"solidity\":0.2}},\"type\":\"barpolar\"}],\"bar\":[{\"error_x\":{\"color\":\"rgb(36,36,36)\"},\"error_y\":{\"color\":\"rgb(36,36,36)\"},\"marker\":{\"line\":{\"color\":\"white\",\"width\":0.5},\"pattern\":{\"fillmode\":\"overlay\",\"size\":10,\"solidity\":0.2}},\"type\":\"bar\"}],\"carpet\":[{\"aaxis\":{\"endlinecolor\":\"rgb(36,36,36)\",\"gridcolor\":\"white\",\"linecolor\":\"white\",\"minorgridcolor\":\"white\",\"startlinecolor\":\"rgb(36,36,36)\"},\"baxis\":{\"endlinecolor\":\"rgb(36,36,36)\",\"gridcolor\":\"white\",\"linecolor\":\"white\",\"minorgridcolor\":\"white\",\"startlinecolor\":\"rgb(36,36,36)\"},\"type\":\"carpet\"}],\"choropleth\":[{\"colorbar\":{\"outlinewidth\":1,\"tickcolor\":\"rgb(36,36,36)\",\"ticks\":\"outside\"},\"type\":\"choropleth\"}],\"contourcarpet\":[{\"colorbar\":{\"outlinewidth\":1,\"tickcolor\":\"rgb(36,36,36)\",\"ticks\":\"outside\"},\"type\":\"contourcarpet\"}],\"contour\":[{\"colorbar\":{\"outlinewidth\":1,\"tickcolor\":\"rgb(36,36,36)\",\"ticks\":\"outside\"},\"colorscale\":[[0.0,\"#440154\"],[0.1111111111111111,\"#482878\"],[0.2222222222222222,\"#3e4989\"],[0.3333333333333333,\"#31688e\"],[0.4444444444444444,\"#26828e\"],[0.5555555555555556,\"#1f9e89\"],[0.6666666666666666,\"#35b779\"],[0.7777777777777778,\"#6ece58\"],[0.8888888888888888,\"#b5de2b\"],[1.0,\"#fde725\"]],\"type\":\"contour\"}],\"heatmapgl\":[{\"colorbar\":{\"outlinewidth\":1,\"tickcolor\":\"rgb(36,36,36)\",\"ticks\":\"outside\"},\"colorscale\":[[0.0,\"#440154\"],[0.1111111111111111,\"#482878\"],[0.2222222222222222,\"#3e4989\"],[0.3333333333333333,\"#31688e\"],[0.4444444444444444,\"#26828e\"],[0.5555555555555556,\"#1f9e89\"],[0.6666666666666666,\"#35b779\"],[0.7777777777777778,\"#6ece58\"],[0.8888888888888888,\"#b5de2b\"],[1.0,\"#fde725\"]],\"type\":\"heatmapgl\"}],\"heatmap\":[{\"colorbar\":{\"outlinewidth\":1,\"tickcolor\":\"rgb(36,36,36)\",\"ticks\":\"outside\"},\"colorscale\":[[0.0,\"#440154\"],[0.1111111111111111,\"#482878\"],[0.2222222222222222,\"#3e4989\"],[0.3333333333333333,\"#31688e\"],[0.4444444444444444,\"#26828e\"],[0.5555555555555556,\"#1f9e89\"],[0.6666666666666666,\"#35b779\"],[0.7777777777777778,\"#6ece58\"],[0.8888888888888888,\"#b5de2b\"],[1.0,\"#fde725\"]],\"type\":\"heatmap\"}],\"histogram2dcontour\":[{\"colorbar\":{\"outlinewidth\":1,\"tickcolor\":\"rgb(36,36,36)\",\"ticks\":\"outside\"},\"colorscale\":[[0.0,\"#440154\"],[0.1111111111111111,\"#482878\"],[0.2222222222222222,\"#3e4989\"],[0.3333333333333333,\"#31688e\"],[0.4444444444444444,\"#26828e\"],[0.5555555555555556,\"#1f9e89\"],[0.6666666666666666,\"#35b779\"],[0.7777777777777778,\"#6ece58\"],[0.8888888888888888,\"#b5de2b\"],[1.0,\"#fde725\"]],\"type\":\"histogram2dcontour\"}],\"histogram2d\":[{\"colorbar\":{\"outlinewidth\":1,\"tickcolor\":\"rgb(36,36,36)\",\"ticks\":\"outside\"},\"colorscale\":[[0.0,\"#440154\"],[0.1111111111111111,\"#482878\"],[0.2222222222222222,\"#3e4989\"],[0.3333333333333333,\"#31688e\"],[0.4444444444444444,\"#26828e\"],[0.5555555555555556,\"#1f9e89\"],[0.6666666666666666,\"#35b779\"],[0.7777777777777778,\"#6ece58\"],[0.8888888888888888,\"#b5de2b\"],[1.0,\"#fde725\"]],\"type\":\"histogram2d\"}],\"histogram\":[{\"marker\":{\"line\":{\"color\":\"white\",\"width\":0.6}},\"type\":\"histogram\"}],\"mesh3d\":[{\"colorbar\":{\"outlinewidth\":1,\"tickcolor\":\"rgb(36,36,36)\",\"ticks\":\"outside\"},\"type\":\"mesh3d\"}],\"parcoords\":[{\"line\":{\"colorbar\":{\"outlinewidth\":1,\"tickcolor\":\"rgb(36,36,36)\",\"ticks\":\"outside\"}},\"type\":\"parcoords\"}],\"pie\":[{\"automargin\":true,\"type\":\"pie\"}],\"scatter3d\":[{\"line\":{\"colorbar\":{\"outlinewidth\":1,\"tickcolor\":\"rgb(36,36,36)\",\"ticks\":\"outside\"}},\"marker\":{\"colorbar\":{\"outlinewidth\":1,\"tickcolor\":\"rgb(36,36,36)\",\"ticks\":\"outside\"}},\"type\":\"scatter3d\"}],\"scattercarpet\":[{\"marker\":{\"colorbar\":{\"outlinewidth\":1,\"tickcolor\":\"rgb(36,36,36)\",\"ticks\":\"outside\"}},\"type\":\"scattercarpet\"}],\"scattergeo\":[{\"marker\":{\"colorbar\":{\"outlinewidth\":1,\"tickcolor\":\"rgb(36,36,36)\",\"ticks\":\"outside\"}},\"type\":\"scattergeo\"}],\"scattergl\":[{\"marker\":{\"colorbar\":{\"outlinewidth\":1,\"tickcolor\":\"rgb(36,36,36)\",\"ticks\":\"outside\"}},\"type\":\"scattergl\"}],\"scattermapbox\":[{\"marker\":{\"colorbar\":{\"outlinewidth\":1,\"tickcolor\":\"rgb(36,36,36)\",\"ticks\":\"outside\"}},\"type\":\"scattermapbox\"}],\"scatterpolargl\":[{\"marker\":{\"colorbar\":{\"outlinewidth\":1,\"tickcolor\":\"rgb(36,36,36)\",\"ticks\":\"outside\"}},\"type\":\"scatterpolargl\"}],\"scatterpolar\":[{\"marker\":{\"colorbar\":{\"outlinewidth\":1,\"tickcolor\":\"rgb(36,36,36)\",\"ticks\":\"outside\"}},\"type\":\"scatterpolar\"}],\"scatter\":[{\"fillpattern\":{\"fillmode\":\"overlay\",\"size\":10,\"solidity\":0.2},\"type\":\"scatter\"}],\"scatterternary\":[{\"marker\":{\"colorbar\":{\"outlinewidth\":1,\"tickcolor\":\"rgb(36,36,36)\",\"ticks\":\"outside\"}},\"type\":\"scatterternary\"}],\"surface\":[{\"colorbar\":{\"outlinewidth\":1,\"tickcolor\":\"rgb(36,36,36)\",\"ticks\":\"outside\"},\"colorscale\":[[0.0,\"#440154\"],[0.1111111111111111,\"#482878\"],[0.2222222222222222,\"#3e4989\"],[0.3333333333333333,\"#31688e\"],[0.4444444444444444,\"#26828e\"],[0.5555555555555556,\"#1f9e89\"],[0.6666666666666666,\"#35b779\"],[0.7777777777777778,\"#6ece58\"],[0.8888888888888888,\"#b5de2b\"],[1.0,\"#fde725\"]],\"type\":\"surface\"}],\"table\":[{\"cells\":{\"fill\":{\"color\":\"rgb(237,237,237)\"},\"line\":{\"color\":\"white\"}},\"header\":{\"fill\":{\"color\":\"rgb(217,217,217)\"},\"line\":{\"color\":\"white\"}},\"type\":\"table\"}]},\"layout\":{\"annotationdefaults\":{\"arrowhead\":0,\"arrowwidth\":1},\"autotypenumbers\":\"strict\",\"coloraxis\":{\"colorbar\":{\"outlinewidth\":1,\"tickcolor\":\"rgb(36,36,36)\",\"ticks\":\"outside\"}},\"colorscale\":{\"diverging\":[[0.0,\"rgb(103,0,31)\"],[0.1,\"rgb(178,24,43)\"],[0.2,\"rgb(214,96,77)\"],[0.3,\"rgb(244,165,130)\"],[0.4,\"rgb(253,219,199)\"],[0.5,\"rgb(247,247,247)\"],[0.6,\"rgb(209,229,240)\"],[0.7,\"rgb(146,197,222)\"],[0.8,\"rgb(67,147,195)\"],[0.9,\"rgb(33,102,172)\"],[1.0,\"rgb(5,48,97)\"]],\"sequential\":[[0.0,\"#440154\"],[0.1111111111111111,\"#482878\"],[0.2222222222222222,\"#3e4989\"],[0.3333333333333333,\"#31688e\"],[0.4444444444444444,\"#26828e\"],[0.5555555555555556,\"#1f9e89\"],[0.6666666666666666,\"#35b779\"],[0.7777777777777778,\"#6ece58\"],[0.8888888888888888,\"#b5de2b\"],[1.0,\"#fde725\"]],\"sequentialminus\":[[0.0,\"#440154\"],[0.1111111111111111,\"#482878\"],[0.2222222222222222,\"#3e4989\"],[0.3333333333333333,\"#31688e\"],[0.4444444444444444,\"#26828e\"],[0.5555555555555556,\"#1f9e89\"],[0.6666666666666666,\"#35b779\"],[0.7777777777777778,\"#6ece58\"],[0.8888888888888888,\"#b5de2b\"],[1.0,\"#fde725\"]]},\"colorway\":[\"#1F77B4\",\"#FF7F0E\",\"#2CA02C\",\"#D62728\",\"#9467BD\",\"#8C564B\",\"#E377C2\",\"#7F7F7F\",\"#BCBD22\",\"#17BECF\"],\"font\":{\"color\":\"rgb(36,36,36)\"},\"geo\":{\"bgcolor\":\"white\",\"lakecolor\":\"white\",\"landcolor\":\"white\",\"showlakes\":true,\"showland\":true,\"subunitcolor\":\"white\"},\"hoverlabel\":{\"align\":\"left\"},\"hovermode\":\"closest\",\"mapbox\":{\"style\":\"light\"},\"paper_bgcolor\":\"white\",\"plot_bgcolor\":\"white\",\"polar\":{\"angularaxis\":{\"gridcolor\":\"rgb(232,232,232)\",\"linecolor\":\"rgb(36,36,36)\",\"showgrid\":false,\"showline\":true,\"ticks\":\"outside\"},\"bgcolor\":\"white\",\"radialaxis\":{\"gridcolor\":\"rgb(232,232,232)\",\"linecolor\":\"rgb(36,36,36)\",\"showgrid\":false,\"showline\":true,\"ticks\":\"outside\"}},\"scene\":{\"xaxis\":{\"backgroundcolor\":\"white\",\"gridcolor\":\"rgb(232,232,232)\",\"gridwidth\":2,\"linecolor\":\"rgb(36,36,36)\",\"showbackground\":true,\"showgrid\":false,\"showline\":true,\"ticks\":\"outside\",\"zeroline\":false,\"zerolinecolor\":\"rgb(36,36,36)\"},\"yaxis\":{\"backgroundcolor\":\"white\",\"gridcolor\":\"rgb(232,232,232)\",\"gridwidth\":2,\"linecolor\":\"rgb(36,36,36)\",\"showbackground\":true,\"showgrid\":false,\"showline\":true,\"ticks\":\"outside\",\"zeroline\":false,\"zerolinecolor\":\"rgb(36,36,36)\"},\"zaxis\":{\"backgroundcolor\":\"white\",\"gridcolor\":\"rgb(232,232,232)\",\"gridwidth\":2,\"linecolor\":\"rgb(36,36,36)\",\"showbackground\":true,\"showgrid\":false,\"showline\":true,\"ticks\":\"outside\",\"zeroline\":false,\"zerolinecolor\":\"rgb(36,36,36)\"}},\"shapedefaults\":{\"fillcolor\":\"black\",\"line\":{\"width\":0},\"opacity\":0.3},\"ternary\":{\"aaxis\":{\"gridcolor\":\"rgb(232,232,232)\",\"linecolor\":\"rgb(36,36,36)\",\"showgrid\":false,\"showline\":true,\"ticks\":\"outside\"},\"baxis\":{\"gridcolor\":\"rgb(232,232,232)\",\"linecolor\":\"rgb(36,36,36)\",\"showgrid\":false,\"showline\":true,\"ticks\":\"outside\"},\"bgcolor\":\"white\",\"caxis\":{\"gridcolor\":\"rgb(232,232,232)\",\"linecolor\":\"rgb(36,36,36)\",\"showgrid\":false,\"showline\":true,\"ticks\":\"outside\"}},\"title\":{\"x\":0.05},\"xaxis\":{\"automargin\":true,\"gridcolor\":\"rgb(232,232,232)\",\"linecolor\":\"rgb(36,36,36)\",\"showgrid\":false,\"showline\":true,\"ticks\":\"outside\",\"title\":{\"standoff\":15},\"zeroline\":false,\"zerolinecolor\":\"rgb(36,36,36)\"},\"yaxis\":{\"automargin\":true,\"gridcolor\":\"rgb(232,232,232)\",\"linecolor\":\"rgb(36,36,36)\",\"showgrid\":false,\"showline\":true,\"ticks\":\"outside\",\"title\":{\"standoff\":15},\"zeroline\":false,\"zerolinecolor\":\"rgb(36,36,36)\"}}},\"xaxis\":{\"anchor\":\"y\",\"domain\":[0.0,1.0],\"title\":{\"text\":\"Linearized Position (cm)\"}},\"yaxis\":{\"anchor\":\"x\",\"domain\":[0.0,1.0],\"title\":{\"text\":\"Trial\"}},\"annotations\":[{\"font\":{\"size\":16},\"showarrow\":false,\"text\":\"Lick Raster\",\"x\":0.5,\"xanchor\":\"center\",\"xref\":\"paper\",\"y\":1.0,\"yanchor\":\"bottom\",\"yref\":\"paper\"}],\"height\":500,\"width\":500,\"title\":{\"y\":0.9,\"x\":0.5,\"xanchor\":\"center\",\"yanchor\":\"top\"}},                        {\"responsive\": true}                    ).then(function(){\n",
       "                            \n",
       "var gd = document.getElementById('015fa589-ec7e-4883-82c3-d6a0a84e1529');\n",
       "var x = new MutationObserver(function (mutations, observer) {{\n",
       "        var display = window.getComputedStyle(gd).display;\n",
       "        if (!display || display === 'none') {{\n",
       "            console.log([gd, 'removed!']);\n",
       "            Plotly.purge(gd);\n",
       "            observer.disconnect();\n",
       "        }}\n",
       "}});\n",
       "\n",
       "// Listen for the removal of the full notebook cells\n",
       "var notebookContainer = gd.closest('#notebook-container');\n",
       "if (notebookContainer) {{\n",
       "    x.observe(notebookContainer, {childList: true});\n",
       "}}\n",
       "\n",
       "// Listen for the clearing of the current output cell\n",
       "var outputEl = gd.closest('.output');\n",
       "if (outputEl) {{\n",
       "    x.observe(outputEl, {childList: true});\n",
       "}}\n",
       "\n",
       "                        })                };                });            </script>        </div>"
      ]
     },
     "metadata": {},
     "output_type": "display_data"
    }
   ],
   "source": [
    "fig = pf.plot_lick_raster(behav, titles=['Lick Raster'], x_title='Linearized Position (cm)', y_title='Trial')\n",
    "fig.show()"
   ]
  },
  {
   "cell_type": "code",
   "execution_count": null,
   "metadata": {},
   "outputs": [],
   "source": [
    "fig = pf.plot_circle_position(behav, title='', x_title='Position (x)', y_title='Position (y)')\n",
    "fig.show()"
   ]
  },
  {
   "cell_type": "code",
   "execution_count": 131,
   "metadata": {},
   "outputs": [
    {
     "data": {
      "application/vnd.plotly.v1+json": {
       "config": {
        "plotlyServerURL": "https://plot.ly"
       },
       "data": [
        {
         "marker": {
          "color": "darkgrey"
         },
         "mode": "markers",
         "name": "mc_EEG1_01",
         "type": "scatter",
         "x": [
          27.55,
          53.61,
          52.48
         ],
         "y": [
          29.45,
          26.92,
          0
         ]
        },
        {
         "marker": {
          "color": "turquoise"
         },
         "mode": "markers",
         "name": "mc_EEG1_02",
         "type": "scatter",
         "x": [
          40.62,
          51.94
         ],
         "y": [
          70.52,
          27.5
         ]
        },
        {
         "line": {
          "color": "turquoise"
         },
         "mode": "lines",
         "showlegend": false,
         "type": "scatter",
         "x": [
          27.55,
          53.61,
          52.48,
          40.62,
          51.94
         ],
         "y": [
          46.295500872130646,
          23.583229943485918,
          24.568067477997374,
          34.904503902161856,
          25.038697804224086
         ]
        }
       ],
       "layout": {
        "height": 500,
        "template": {
         "data": {
          "bar": [
           {
            "error_x": {
             "color": "rgb(36,36,36)"
            },
            "error_y": {
             "color": "rgb(36,36,36)"
            },
            "marker": {
             "line": {
              "color": "white",
              "width": 0.5
             },
             "pattern": {
              "fillmode": "overlay",
              "size": 10,
              "solidity": 0.2
             }
            },
            "type": "bar"
           }
          ],
          "barpolar": [
           {
            "marker": {
             "line": {
              "color": "white",
              "width": 0.5
             },
             "pattern": {
              "fillmode": "overlay",
              "size": 10,
              "solidity": 0.2
             }
            },
            "type": "barpolar"
           }
          ],
          "carpet": [
           {
            "aaxis": {
             "endlinecolor": "rgb(36,36,36)",
             "gridcolor": "white",
             "linecolor": "white",
             "minorgridcolor": "white",
             "startlinecolor": "rgb(36,36,36)"
            },
            "baxis": {
             "endlinecolor": "rgb(36,36,36)",
             "gridcolor": "white",
             "linecolor": "white",
             "minorgridcolor": "white",
             "startlinecolor": "rgb(36,36,36)"
            },
            "type": "carpet"
           }
          ],
          "choropleth": [
           {
            "colorbar": {
             "outlinewidth": 1,
             "tickcolor": "rgb(36,36,36)",
             "ticks": "outside"
            },
            "type": "choropleth"
           }
          ],
          "contour": [
           {
            "colorbar": {
             "outlinewidth": 1,
             "tickcolor": "rgb(36,36,36)",
             "ticks": "outside"
            },
            "colorscale": [
             [
              0,
              "#440154"
             ],
             [
              0.1111111111111111,
              "#482878"
             ],
             [
              0.2222222222222222,
              "#3e4989"
             ],
             [
              0.3333333333333333,
              "#31688e"
             ],
             [
              0.4444444444444444,
              "#26828e"
             ],
             [
              0.5555555555555556,
              "#1f9e89"
             ],
             [
              0.6666666666666666,
              "#35b779"
             ],
             [
              0.7777777777777778,
              "#6ece58"
             ],
             [
              0.8888888888888888,
              "#b5de2b"
             ],
             [
              1,
              "#fde725"
             ]
            ],
            "type": "contour"
           }
          ],
          "contourcarpet": [
           {
            "colorbar": {
             "outlinewidth": 1,
             "tickcolor": "rgb(36,36,36)",
             "ticks": "outside"
            },
            "type": "contourcarpet"
           }
          ],
          "heatmap": [
           {
            "colorbar": {
             "outlinewidth": 1,
             "tickcolor": "rgb(36,36,36)",
             "ticks": "outside"
            },
            "colorscale": [
             [
              0,
              "#440154"
             ],
             [
              0.1111111111111111,
              "#482878"
             ],
             [
              0.2222222222222222,
              "#3e4989"
             ],
             [
              0.3333333333333333,
              "#31688e"
             ],
             [
              0.4444444444444444,
              "#26828e"
             ],
             [
              0.5555555555555556,
              "#1f9e89"
             ],
             [
              0.6666666666666666,
              "#35b779"
             ],
             [
              0.7777777777777778,
              "#6ece58"
             ],
             [
              0.8888888888888888,
              "#b5de2b"
             ],
             [
              1,
              "#fde725"
             ]
            ],
            "type": "heatmap"
           }
          ],
          "heatmapgl": [
           {
            "colorbar": {
             "outlinewidth": 1,
             "tickcolor": "rgb(36,36,36)",
             "ticks": "outside"
            },
            "colorscale": [
             [
              0,
              "#440154"
             ],
             [
              0.1111111111111111,
              "#482878"
             ],
             [
              0.2222222222222222,
              "#3e4989"
             ],
             [
              0.3333333333333333,
              "#31688e"
             ],
             [
              0.4444444444444444,
              "#26828e"
             ],
             [
              0.5555555555555556,
              "#1f9e89"
             ],
             [
              0.6666666666666666,
              "#35b779"
             ],
             [
              0.7777777777777778,
              "#6ece58"
             ],
             [
              0.8888888888888888,
              "#b5de2b"
             ],
             [
              1,
              "#fde725"
             ]
            ],
            "type": "heatmapgl"
           }
          ],
          "histogram": [
           {
            "marker": {
             "line": {
              "color": "white",
              "width": 0.6
             }
            },
            "type": "histogram"
           }
          ],
          "histogram2d": [
           {
            "colorbar": {
             "outlinewidth": 1,
             "tickcolor": "rgb(36,36,36)",
             "ticks": "outside"
            },
            "colorscale": [
             [
              0,
              "#440154"
             ],
             [
              0.1111111111111111,
              "#482878"
             ],
             [
              0.2222222222222222,
              "#3e4989"
             ],
             [
              0.3333333333333333,
              "#31688e"
             ],
             [
              0.4444444444444444,
              "#26828e"
             ],
             [
              0.5555555555555556,
              "#1f9e89"
             ],
             [
              0.6666666666666666,
              "#35b779"
             ],
             [
              0.7777777777777778,
              "#6ece58"
             ],
             [
              0.8888888888888888,
              "#b5de2b"
             ],
             [
              1,
              "#fde725"
             ]
            ],
            "type": "histogram2d"
           }
          ],
          "histogram2dcontour": [
           {
            "colorbar": {
             "outlinewidth": 1,
             "tickcolor": "rgb(36,36,36)",
             "ticks": "outside"
            },
            "colorscale": [
             [
              0,
              "#440154"
             ],
             [
              0.1111111111111111,
              "#482878"
             ],
             [
              0.2222222222222222,
              "#3e4989"
             ],
             [
              0.3333333333333333,
              "#31688e"
             ],
             [
              0.4444444444444444,
              "#26828e"
             ],
             [
              0.5555555555555556,
              "#1f9e89"
             ],
             [
              0.6666666666666666,
              "#35b779"
             ],
             [
              0.7777777777777778,
              "#6ece58"
             ],
             [
              0.8888888888888888,
              "#b5de2b"
             ],
             [
              1,
              "#fde725"
             ]
            ],
            "type": "histogram2dcontour"
           }
          ],
          "mesh3d": [
           {
            "colorbar": {
             "outlinewidth": 1,
             "tickcolor": "rgb(36,36,36)",
             "ticks": "outside"
            },
            "type": "mesh3d"
           }
          ],
          "parcoords": [
           {
            "line": {
             "colorbar": {
              "outlinewidth": 1,
              "tickcolor": "rgb(36,36,36)",
              "ticks": "outside"
             }
            },
            "type": "parcoords"
           }
          ],
          "pie": [
           {
            "automargin": true,
            "type": "pie"
           }
          ],
          "scatter": [
           {
            "fillpattern": {
             "fillmode": "overlay",
             "size": 10,
             "solidity": 0.2
            },
            "type": "scatter"
           }
          ],
          "scatter3d": [
           {
            "line": {
             "colorbar": {
              "outlinewidth": 1,
              "tickcolor": "rgb(36,36,36)",
              "ticks": "outside"
             }
            },
            "marker": {
             "colorbar": {
              "outlinewidth": 1,
              "tickcolor": "rgb(36,36,36)",
              "ticks": "outside"
             }
            },
            "type": "scatter3d"
           }
          ],
          "scattercarpet": [
           {
            "marker": {
             "colorbar": {
              "outlinewidth": 1,
              "tickcolor": "rgb(36,36,36)",
              "ticks": "outside"
             }
            },
            "type": "scattercarpet"
           }
          ],
          "scattergeo": [
           {
            "marker": {
             "colorbar": {
              "outlinewidth": 1,
              "tickcolor": "rgb(36,36,36)",
              "ticks": "outside"
             }
            },
            "type": "scattergeo"
           }
          ],
          "scattergl": [
           {
            "marker": {
             "colorbar": {
              "outlinewidth": 1,
              "tickcolor": "rgb(36,36,36)",
              "ticks": "outside"
             }
            },
            "type": "scattergl"
           }
          ],
          "scattermapbox": [
           {
            "marker": {
             "colorbar": {
              "outlinewidth": 1,
              "tickcolor": "rgb(36,36,36)",
              "ticks": "outside"
             }
            },
            "type": "scattermapbox"
           }
          ],
          "scatterpolar": [
           {
            "marker": {
             "colorbar": {
              "outlinewidth": 1,
              "tickcolor": "rgb(36,36,36)",
              "ticks": "outside"
             }
            },
            "type": "scatterpolar"
           }
          ],
          "scatterpolargl": [
           {
            "marker": {
             "colorbar": {
              "outlinewidth": 1,
              "tickcolor": "rgb(36,36,36)",
              "ticks": "outside"
             }
            },
            "type": "scatterpolargl"
           }
          ],
          "scatterternary": [
           {
            "marker": {
             "colorbar": {
              "outlinewidth": 1,
              "tickcolor": "rgb(36,36,36)",
              "ticks": "outside"
             }
            },
            "type": "scatterternary"
           }
          ],
          "surface": [
           {
            "colorbar": {
             "outlinewidth": 1,
             "tickcolor": "rgb(36,36,36)",
             "ticks": "outside"
            },
            "colorscale": [
             [
              0,
              "#440154"
             ],
             [
              0.1111111111111111,
              "#482878"
             ],
             [
              0.2222222222222222,
              "#3e4989"
             ],
             [
              0.3333333333333333,
              "#31688e"
             ],
             [
              0.4444444444444444,
              "#26828e"
             ],
             [
              0.5555555555555556,
              "#1f9e89"
             ],
             [
              0.6666666666666666,
              "#35b779"
             ],
             [
              0.7777777777777778,
              "#6ece58"
             ],
             [
              0.8888888888888888,
              "#b5de2b"
             ],
             [
              1,
              "#fde725"
             ]
            ],
            "type": "surface"
           }
          ],
          "table": [
           {
            "cells": {
             "fill": {
              "color": "rgb(237,237,237)"
             },
             "line": {
              "color": "white"
             }
            },
            "header": {
             "fill": {
              "color": "rgb(217,217,217)"
             },
             "line": {
              "color": "white"
             }
            },
            "type": "table"
           }
          ]
         },
         "layout": {
          "annotationdefaults": {
           "arrowhead": 0,
           "arrowwidth": 1
          },
          "autotypenumbers": "strict",
          "coloraxis": {
           "colorbar": {
            "outlinewidth": 1,
            "tickcolor": "rgb(36,36,36)",
            "ticks": "outside"
           }
          },
          "colorscale": {
           "diverging": [
            [
             0,
             "rgb(103,0,31)"
            ],
            [
             0.1,
             "rgb(178,24,43)"
            ],
            [
             0.2,
             "rgb(214,96,77)"
            ],
            [
             0.3,
             "rgb(244,165,130)"
            ],
            [
             0.4,
             "rgb(253,219,199)"
            ],
            [
             0.5,
             "rgb(247,247,247)"
            ],
            [
             0.6,
             "rgb(209,229,240)"
            ],
            [
             0.7,
             "rgb(146,197,222)"
            ],
            [
             0.8,
             "rgb(67,147,195)"
            ],
            [
             0.9,
             "rgb(33,102,172)"
            ],
            [
             1,
             "rgb(5,48,97)"
            ]
           ],
           "sequential": [
            [
             0,
             "#440154"
            ],
            [
             0.1111111111111111,
             "#482878"
            ],
            [
             0.2222222222222222,
             "#3e4989"
            ],
            [
             0.3333333333333333,
             "#31688e"
            ],
            [
             0.4444444444444444,
             "#26828e"
            ],
            [
             0.5555555555555556,
             "#1f9e89"
            ],
            [
             0.6666666666666666,
             "#35b779"
            ],
            [
             0.7777777777777778,
             "#6ece58"
            ],
            [
             0.8888888888888888,
             "#b5de2b"
            ],
            [
             1,
             "#fde725"
            ]
           ],
           "sequentialminus": [
            [
             0,
             "#440154"
            ],
            [
             0.1111111111111111,
             "#482878"
            ],
            [
             0.2222222222222222,
             "#3e4989"
            ],
            [
             0.3333333333333333,
             "#31688e"
            ],
            [
             0.4444444444444444,
             "#26828e"
            ],
            [
             0.5555555555555556,
             "#1f9e89"
            ],
            [
             0.6666666666666666,
             "#35b779"
            ],
            [
             0.7777777777777778,
             "#6ece58"
            ],
            [
             0.8888888888888888,
             "#b5de2b"
            ],
            [
             1,
             "#fde725"
            ]
           ]
          },
          "colorway": [
           "#1F77B4",
           "#FF7F0E",
           "#2CA02C",
           "#D62728",
           "#9467BD",
           "#8C564B",
           "#E377C2",
           "#7F7F7F",
           "#BCBD22",
           "#17BECF"
          ],
          "font": {
           "color": "rgb(36,36,36)"
          },
          "geo": {
           "bgcolor": "white",
           "lakecolor": "white",
           "landcolor": "white",
           "showlakes": true,
           "showland": true,
           "subunitcolor": "white"
          },
          "hoverlabel": {
           "align": "left"
          },
          "hovermode": "closest",
          "mapbox": {
           "style": "light"
          },
          "paper_bgcolor": "white",
          "plot_bgcolor": "white",
          "polar": {
           "angularaxis": {
            "gridcolor": "rgb(232,232,232)",
            "linecolor": "rgb(36,36,36)",
            "showgrid": false,
            "showline": true,
            "ticks": "outside"
           },
           "bgcolor": "white",
           "radialaxis": {
            "gridcolor": "rgb(232,232,232)",
            "linecolor": "rgb(36,36,36)",
            "showgrid": false,
            "showline": true,
            "ticks": "outside"
           }
          },
          "scene": {
           "xaxis": {
            "backgroundcolor": "white",
            "gridcolor": "rgb(232,232,232)",
            "gridwidth": 2,
            "linecolor": "rgb(36,36,36)",
            "showbackground": true,
            "showgrid": false,
            "showline": true,
            "ticks": "outside",
            "zeroline": false,
            "zerolinecolor": "rgb(36,36,36)"
           },
           "yaxis": {
            "backgroundcolor": "white",
            "gridcolor": "rgb(232,232,232)",
            "gridwidth": 2,
            "linecolor": "rgb(36,36,36)",
            "showbackground": true,
            "showgrid": false,
            "showline": true,
            "ticks": "outside",
            "zeroline": false,
            "zerolinecolor": "rgb(36,36,36)"
           },
           "zaxis": {
            "backgroundcolor": "white",
            "gridcolor": "rgb(232,232,232)",
            "gridwidth": 2,
            "linecolor": "rgb(36,36,36)",
            "showbackground": true,
            "showgrid": false,
            "showline": true,
            "ticks": "outside",
            "zeroline": false,
            "zerolinecolor": "rgb(36,36,36)"
           }
          },
          "shapedefaults": {
           "fillcolor": "black",
           "line": {
            "width": 0
           },
           "opacity": 0.3
          },
          "ternary": {
           "aaxis": {
            "gridcolor": "rgb(232,232,232)",
            "linecolor": "rgb(36,36,36)",
            "showgrid": false,
            "showline": true,
            "ticks": "outside"
           },
           "baxis": {
            "gridcolor": "rgb(232,232,232)",
            "linecolor": "rgb(36,36,36)",
            "showgrid": false,
            "showline": true,
            "ticks": "outside"
           },
           "bgcolor": "white",
           "caxis": {
            "gridcolor": "rgb(232,232,232)",
            "linecolor": "rgb(36,36,36)",
            "showgrid": false,
            "showline": true,
            "ticks": "outside"
           }
          },
          "title": {
           "x": 0.05
          },
          "xaxis": {
           "automargin": true,
           "gridcolor": "rgb(232,232,232)",
           "linecolor": "rgb(36,36,36)",
           "showgrid": false,
           "showline": true,
           "ticks": "outside",
           "title": {
            "standoff": 15
           },
           "zeroline": false,
           "zerolinecolor": "rgb(36,36,36)"
          },
          "yaxis": {
           "automargin": true,
           "gridcolor": "rgb(232,232,232)",
           "linecolor": "rgb(36,36,36)",
           "showgrid": false,
           "showline": true,
           "ticks": "outside",
           "title": {
            "standoff": 15
           },
           "zeroline": false,
           "zerolinecolor": "rgb(36,36,36)"
          }
         }
        },
        "title": {
         "x": 0.5,
         "xanchor": "center",
         "y": 0.9,
         "yanchor": "top"
        },
        "width": 500,
        "xaxis": {
         "anchor": "y",
         "domain": [
          0,
          1
         ],
         "title": {
          "text": "Neuronal Overlap (%)"
         }
        },
        "yaxis": {
         "anchor": "x",
         "domain": [
          0,
          1
         ],
         "title": {
          "text": "Performance Drop (%)"
         }
        }
       }
      },
      "text/html": [
       "<div>                            <div id=\"ce52cab5-094e-4275-bd53-78d546c8768b\" class=\"plotly-graph-div\" style=\"height:500px; width:500px;\"></div>            <script type=\"text/javascript\">                require([\"plotly\"], function(Plotly) {                    window.PLOTLYENV=window.PLOTLYENV || {};                                    if (document.getElementById(\"ce52cab5-094e-4275-bd53-78d546c8768b\")) {                    Plotly.newPlot(                        \"ce52cab5-094e-4275-bd53-78d546c8768b\",                        [{\"marker\":{\"color\":\"darkgrey\"},\"mode\":\"markers\",\"name\":\"mc_EEG1_01\",\"x\":[27.55,53.61,52.48],\"y\":[29.45,26.92,0],\"type\":\"scatter\"},{\"marker\":{\"color\":\"turquoise\"},\"mode\":\"markers\",\"name\":\"mc_EEG1_02\",\"x\":[40.62,51.94],\"y\":[70.52,27.5],\"type\":\"scatter\"},{\"line\":{\"color\":\"turquoise\"},\"mode\":\"lines\",\"showlegend\":false,\"x\":[27.55,53.61,52.48,40.62,51.94],\"y\":[46.295500872130646,23.583229943485918,24.568067477997374,34.904503902161856,25.038697804224086],\"type\":\"scatter\"}],                        {\"template\":{\"data\":{\"barpolar\":[{\"marker\":{\"line\":{\"color\":\"white\",\"width\":0.5},\"pattern\":{\"fillmode\":\"overlay\",\"size\":10,\"solidity\":0.2}},\"type\":\"barpolar\"}],\"bar\":[{\"error_x\":{\"color\":\"rgb(36,36,36)\"},\"error_y\":{\"color\":\"rgb(36,36,36)\"},\"marker\":{\"line\":{\"color\":\"white\",\"width\":0.5},\"pattern\":{\"fillmode\":\"overlay\",\"size\":10,\"solidity\":0.2}},\"type\":\"bar\"}],\"carpet\":[{\"aaxis\":{\"endlinecolor\":\"rgb(36,36,36)\",\"gridcolor\":\"white\",\"linecolor\":\"white\",\"minorgridcolor\":\"white\",\"startlinecolor\":\"rgb(36,36,36)\"},\"baxis\":{\"endlinecolor\":\"rgb(36,36,36)\",\"gridcolor\":\"white\",\"linecolor\":\"white\",\"minorgridcolor\":\"white\",\"startlinecolor\":\"rgb(36,36,36)\"},\"type\":\"carpet\"}],\"choropleth\":[{\"colorbar\":{\"outlinewidth\":1,\"tickcolor\":\"rgb(36,36,36)\",\"ticks\":\"outside\"},\"type\":\"choropleth\"}],\"contourcarpet\":[{\"colorbar\":{\"outlinewidth\":1,\"tickcolor\":\"rgb(36,36,36)\",\"ticks\":\"outside\"},\"type\":\"contourcarpet\"}],\"contour\":[{\"colorbar\":{\"outlinewidth\":1,\"tickcolor\":\"rgb(36,36,36)\",\"ticks\":\"outside\"},\"colorscale\":[[0.0,\"#440154\"],[0.1111111111111111,\"#482878\"],[0.2222222222222222,\"#3e4989\"],[0.3333333333333333,\"#31688e\"],[0.4444444444444444,\"#26828e\"],[0.5555555555555556,\"#1f9e89\"],[0.6666666666666666,\"#35b779\"],[0.7777777777777778,\"#6ece58\"],[0.8888888888888888,\"#b5de2b\"],[1.0,\"#fde725\"]],\"type\":\"contour\"}],\"heatmapgl\":[{\"colorbar\":{\"outlinewidth\":1,\"tickcolor\":\"rgb(36,36,36)\",\"ticks\":\"outside\"},\"colorscale\":[[0.0,\"#440154\"],[0.1111111111111111,\"#482878\"],[0.2222222222222222,\"#3e4989\"],[0.3333333333333333,\"#31688e\"],[0.4444444444444444,\"#26828e\"],[0.5555555555555556,\"#1f9e89\"],[0.6666666666666666,\"#35b779\"],[0.7777777777777778,\"#6ece58\"],[0.8888888888888888,\"#b5de2b\"],[1.0,\"#fde725\"]],\"type\":\"heatmapgl\"}],\"heatmap\":[{\"colorbar\":{\"outlinewidth\":1,\"tickcolor\":\"rgb(36,36,36)\",\"ticks\":\"outside\"},\"colorscale\":[[0.0,\"#440154\"],[0.1111111111111111,\"#482878\"],[0.2222222222222222,\"#3e4989\"],[0.3333333333333333,\"#31688e\"],[0.4444444444444444,\"#26828e\"],[0.5555555555555556,\"#1f9e89\"],[0.6666666666666666,\"#35b779\"],[0.7777777777777778,\"#6ece58\"],[0.8888888888888888,\"#b5de2b\"],[1.0,\"#fde725\"]],\"type\":\"heatmap\"}],\"histogram2dcontour\":[{\"colorbar\":{\"outlinewidth\":1,\"tickcolor\":\"rgb(36,36,36)\",\"ticks\":\"outside\"},\"colorscale\":[[0.0,\"#440154\"],[0.1111111111111111,\"#482878\"],[0.2222222222222222,\"#3e4989\"],[0.3333333333333333,\"#31688e\"],[0.4444444444444444,\"#26828e\"],[0.5555555555555556,\"#1f9e89\"],[0.6666666666666666,\"#35b779\"],[0.7777777777777778,\"#6ece58\"],[0.8888888888888888,\"#b5de2b\"],[1.0,\"#fde725\"]],\"type\":\"histogram2dcontour\"}],\"histogram2d\":[{\"colorbar\":{\"outlinewidth\":1,\"tickcolor\":\"rgb(36,36,36)\",\"ticks\":\"outside\"},\"colorscale\":[[0.0,\"#440154\"],[0.1111111111111111,\"#482878\"],[0.2222222222222222,\"#3e4989\"],[0.3333333333333333,\"#31688e\"],[0.4444444444444444,\"#26828e\"],[0.5555555555555556,\"#1f9e89\"],[0.6666666666666666,\"#35b779\"],[0.7777777777777778,\"#6ece58\"],[0.8888888888888888,\"#b5de2b\"],[1.0,\"#fde725\"]],\"type\":\"histogram2d\"}],\"histogram\":[{\"marker\":{\"line\":{\"color\":\"white\",\"width\":0.6}},\"type\":\"histogram\"}],\"mesh3d\":[{\"colorbar\":{\"outlinewidth\":1,\"tickcolor\":\"rgb(36,36,36)\",\"ticks\":\"outside\"},\"type\":\"mesh3d\"}],\"parcoords\":[{\"line\":{\"colorbar\":{\"outlinewidth\":1,\"tickcolor\":\"rgb(36,36,36)\",\"ticks\":\"outside\"}},\"type\":\"parcoords\"}],\"pie\":[{\"automargin\":true,\"type\":\"pie\"}],\"scatter3d\":[{\"line\":{\"colorbar\":{\"outlinewidth\":1,\"tickcolor\":\"rgb(36,36,36)\",\"ticks\":\"outside\"}},\"marker\":{\"colorbar\":{\"outlinewidth\":1,\"tickcolor\":\"rgb(36,36,36)\",\"ticks\":\"outside\"}},\"type\":\"scatter3d\"}],\"scattercarpet\":[{\"marker\":{\"colorbar\":{\"outlinewidth\":1,\"tickcolor\":\"rgb(36,36,36)\",\"ticks\":\"outside\"}},\"type\":\"scattercarpet\"}],\"scattergeo\":[{\"marker\":{\"colorbar\":{\"outlinewidth\":1,\"tickcolor\":\"rgb(36,36,36)\",\"ticks\":\"outside\"}},\"type\":\"scattergeo\"}],\"scattergl\":[{\"marker\":{\"colorbar\":{\"outlinewidth\":1,\"tickcolor\":\"rgb(36,36,36)\",\"ticks\":\"outside\"}},\"type\":\"scattergl\"}],\"scattermapbox\":[{\"marker\":{\"colorbar\":{\"outlinewidth\":1,\"tickcolor\":\"rgb(36,36,36)\",\"ticks\":\"outside\"}},\"type\":\"scattermapbox\"}],\"scatterpolargl\":[{\"marker\":{\"colorbar\":{\"outlinewidth\":1,\"tickcolor\":\"rgb(36,36,36)\",\"ticks\":\"outside\"}},\"type\":\"scatterpolargl\"}],\"scatterpolar\":[{\"marker\":{\"colorbar\":{\"outlinewidth\":1,\"tickcolor\":\"rgb(36,36,36)\",\"ticks\":\"outside\"}},\"type\":\"scatterpolar\"}],\"scatter\":[{\"fillpattern\":{\"fillmode\":\"overlay\",\"size\":10,\"solidity\":0.2},\"type\":\"scatter\"}],\"scatterternary\":[{\"marker\":{\"colorbar\":{\"outlinewidth\":1,\"tickcolor\":\"rgb(36,36,36)\",\"ticks\":\"outside\"}},\"type\":\"scatterternary\"}],\"surface\":[{\"colorbar\":{\"outlinewidth\":1,\"tickcolor\":\"rgb(36,36,36)\",\"ticks\":\"outside\"},\"colorscale\":[[0.0,\"#440154\"],[0.1111111111111111,\"#482878\"],[0.2222222222222222,\"#3e4989\"],[0.3333333333333333,\"#31688e\"],[0.4444444444444444,\"#26828e\"],[0.5555555555555556,\"#1f9e89\"],[0.6666666666666666,\"#35b779\"],[0.7777777777777778,\"#6ece58\"],[0.8888888888888888,\"#b5de2b\"],[1.0,\"#fde725\"]],\"type\":\"surface\"}],\"table\":[{\"cells\":{\"fill\":{\"color\":\"rgb(237,237,237)\"},\"line\":{\"color\":\"white\"}},\"header\":{\"fill\":{\"color\":\"rgb(217,217,217)\"},\"line\":{\"color\":\"white\"}},\"type\":\"table\"}]},\"layout\":{\"annotationdefaults\":{\"arrowhead\":0,\"arrowwidth\":1},\"autotypenumbers\":\"strict\",\"coloraxis\":{\"colorbar\":{\"outlinewidth\":1,\"tickcolor\":\"rgb(36,36,36)\",\"ticks\":\"outside\"}},\"colorscale\":{\"diverging\":[[0.0,\"rgb(103,0,31)\"],[0.1,\"rgb(178,24,43)\"],[0.2,\"rgb(214,96,77)\"],[0.3,\"rgb(244,165,130)\"],[0.4,\"rgb(253,219,199)\"],[0.5,\"rgb(247,247,247)\"],[0.6,\"rgb(209,229,240)\"],[0.7,\"rgb(146,197,222)\"],[0.8,\"rgb(67,147,195)\"],[0.9,\"rgb(33,102,172)\"],[1.0,\"rgb(5,48,97)\"]],\"sequential\":[[0.0,\"#440154\"],[0.1111111111111111,\"#482878\"],[0.2222222222222222,\"#3e4989\"],[0.3333333333333333,\"#31688e\"],[0.4444444444444444,\"#26828e\"],[0.5555555555555556,\"#1f9e89\"],[0.6666666666666666,\"#35b779\"],[0.7777777777777778,\"#6ece58\"],[0.8888888888888888,\"#b5de2b\"],[1.0,\"#fde725\"]],\"sequentialminus\":[[0.0,\"#440154\"],[0.1111111111111111,\"#482878\"],[0.2222222222222222,\"#3e4989\"],[0.3333333333333333,\"#31688e\"],[0.4444444444444444,\"#26828e\"],[0.5555555555555556,\"#1f9e89\"],[0.6666666666666666,\"#35b779\"],[0.7777777777777778,\"#6ece58\"],[0.8888888888888888,\"#b5de2b\"],[1.0,\"#fde725\"]]},\"colorway\":[\"#1F77B4\",\"#FF7F0E\",\"#2CA02C\",\"#D62728\",\"#9467BD\",\"#8C564B\",\"#E377C2\",\"#7F7F7F\",\"#BCBD22\",\"#17BECF\"],\"font\":{\"color\":\"rgb(36,36,36)\"},\"geo\":{\"bgcolor\":\"white\",\"lakecolor\":\"white\",\"landcolor\":\"white\",\"showlakes\":true,\"showland\":true,\"subunitcolor\":\"white\"},\"hoverlabel\":{\"align\":\"left\"},\"hovermode\":\"closest\",\"mapbox\":{\"style\":\"light\"},\"paper_bgcolor\":\"white\",\"plot_bgcolor\":\"white\",\"polar\":{\"angularaxis\":{\"gridcolor\":\"rgb(232,232,232)\",\"linecolor\":\"rgb(36,36,36)\",\"showgrid\":false,\"showline\":true,\"ticks\":\"outside\"},\"bgcolor\":\"white\",\"radialaxis\":{\"gridcolor\":\"rgb(232,232,232)\",\"linecolor\":\"rgb(36,36,36)\",\"showgrid\":false,\"showline\":true,\"ticks\":\"outside\"}},\"scene\":{\"xaxis\":{\"backgroundcolor\":\"white\",\"gridcolor\":\"rgb(232,232,232)\",\"gridwidth\":2,\"linecolor\":\"rgb(36,36,36)\",\"showbackground\":true,\"showgrid\":false,\"showline\":true,\"ticks\":\"outside\",\"zeroline\":false,\"zerolinecolor\":\"rgb(36,36,36)\"},\"yaxis\":{\"backgroundcolor\":\"white\",\"gridcolor\":\"rgb(232,232,232)\",\"gridwidth\":2,\"linecolor\":\"rgb(36,36,36)\",\"showbackground\":true,\"showgrid\":false,\"showline\":true,\"ticks\":\"outside\",\"zeroline\":false,\"zerolinecolor\":\"rgb(36,36,36)\"},\"zaxis\":{\"backgroundcolor\":\"white\",\"gridcolor\":\"rgb(232,232,232)\",\"gridwidth\":2,\"linecolor\":\"rgb(36,36,36)\",\"showbackground\":true,\"showgrid\":false,\"showline\":true,\"ticks\":\"outside\",\"zeroline\":false,\"zerolinecolor\":\"rgb(36,36,36)\"}},\"shapedefaults\":{\"fillcolor\":\"black\",\"line\":{\"width\":0},\"opacity\":0.3},\"ternary\":{\"aaxis\":{\"gridcolor\":\"rgb(232,232,232)\",\"linecolor\":\"rgb(36,36,36)\",\"showgrid\":false,\"showline\":true,\"ticks\":\"outside\"},\"baxis\":{\"gridcolor\":\"rgb(232,232,232)\",\"linecolor\":\"rgb(36,36,36)\",\"showgrid\":false,\"showline\":true,\"ticks\":\"outside\"},\"bgcolor\":\"white\",\"caxis\":{\"gridcolor\":\"rgb(232,232,232)\",\"linecolor\":\"rgb(36,36,36)\",\"showgrid\":false,\"showline\":true,\"ticks\":\"outside\"}},\"title\":{\"x\":0.05},\"xaxis\":{\"automargin\":true,\"gridcolor\":\"rgb(232,232,232)\",\"linecolor\":\"rgb(36,36,36)\",\"showgrid\":false,\"showline\":true,\"ticks\":\"outside\",\"title\":{\"standoff\":15},\"zeroline\":false,\"zerolinecolor\":\"rgb(36,36,36)\"},\"yaxis\":{\"automargin\":true,\"gridcolor\":\"rgb(232,232,232)\",\"linecolor\":\"rgb(36,36,36)\",\"showgrid\":false,\"showline\":true,\"ticks\":\"outside\",\"title\":{\"standoff\":15},\"zeroline\":false,\"zerolinecolor\":\"rgb(36,36,36)\"}}},\"xaxis\":{\"anchor\":\"y\",\"domain\":[0.0,1.0],\"title\":{\"text\":\"Neuronal Overlap (%)\"}},\"yaxis\":{\"anchor\":\"x\",\"domain\":[0.0,1.0],\"title\":{\"text\":\"Performance Drop (%)\"}},\"height\":500,\"width\":500,\"title\":{\"y\":0.9,\"x\":0.5,\"xanchor\":\"center\",\"yanchor\":\"top\"}},                        {\"responsive\": true}                    ).then(function(){\n",
       "                            \n",
       "var gd = document.getElementById('ce52cab5-094e-4275-bd53-78d546c8768b');\n",
       "var x = new MutationObserver(function (mutations, observer) {{\n",
       "        var display = window.getComputedStyle(gd).display;\n",
       "        if (!display || display === 'none') {{\n",
       "            console.log([gd, 'removed!']);\n",
       "            Plotly.purge(gd);\n",
       "            observer.disconnect();\n",
       "        }}\n",
       "}});\n",
       "\n",
       "// Listen for the removal of the full notebook cells\n",
       "var notebookContainer = gd.closest('#notebook-container');\n",
       "if (notebookContainer) {{\n",
       "    x.observe(notebookContainer, {childList: true});\n",
       "}}\n",
       "\n",
       "// Listen for the clearing of the current output cell\n",
       "var outputEl = gd.closest('.output');\n",
       "if (outputEl) {{\n",
       "    x.observe(outputEl, {childList: true});\n",
       "}}\n",
       "\n",
       "                        })                };                });            </script>        </div>"
      ]
     },
     "metadata": {},
     "output_type": "display_data"
    }
   ],
   "source": [
    "## Plot for performance drop vs percent overlap\n",
    "## This is not how I will do this in the future, just need this for proposal\n",
    "## Values come from circletrack_overlap.ipynb\n",
    "performance_dict = {'mc_EEG1_01': {'drop': [29.45, 26.92, 0], 'overlap': [27.55, 53.61, 52.48]},\n",
    "                    'mc_EEG1_02': {'drop': [70.52, 27.5], 'overlap': [40.62, 51.94]}}\n",
    "df = pd.DataFrame(performance_dict)\n",
    "y_data = np.concatenate((df.loc['drop', 'mc_EEG1_01'], df.loc['drop', 'mc_EEG1_02']))\n",
    "x_data = np.concatenate((df.loc['overlap', 'mc_EEG1_01'], df.loc['overlap', 'mc_EEG1_02']))\n",
    "lm = pg.linear_regression(X=x_data, y=y_data, as_dataframe=False)\n",
    "lm_x = []\n",
    "for n in np.arange(len(lm['X'])):\n",
    "    lm_x.append(lm['X'][n][1])\n",
    "colors = ['darkgrey', 'turquoise']\n",
    "fig = pf.custom_graph_template(x_title='Neuronal Overlap (%)', y_title='Performance Drop (%)')\n",
    "for idx, mouse in enumerate(df.columns):    \n",
    "    fig.add_trace(go.Scatter(x=df.loc['overlap', mouse], y=df.loc['drop', mouse], \n",
    "                             mode='markers', marker=dict(color=colors[idx]), name=mouse))\n",
    "fig.add_trace(go.Scatter(x=lm_x, y=lm['pred'], mode='lines', line_color='turquoise', showlegend=False))\n",
    "fig.show()\n",
    "fig.write_image(pjoin(fig_path, 'perf_drop_vs_overlap.png'))"
   ]
  },
  {
   "cell_type": "code",
   "execution_count": 134,
   "metadata": {},
   "outputs": [
    {
     "data": {
      "text/html": [
       "<div>\n",
       "<style scoped>\n",
       "    .dataframe tbody tr th:only-of-type {\n",
       "        vertical-align: middle;\n",
       "    }\n",
       "\n",
       "    .dataframe tbody tr th {\n",
       "        vertical-align: top;\n",
       "    }\n",
       "\n",
       "    .dataframe thead th {\n",
       "        text-align: right;\n",
       "    }\n",
       "</style>\n",
       "<table border=\"1\" class=\"dataframe\">\n",
       "  <thead>\n",
       "    <tr style=\"text-align: right;\">\n",
       "      <th></th>\n",
       "      <th>n</th>\n",
       "      <th>r</th>\n",
       "      <th>CI95%</th>\n",
       "      <th>p-val</th>\n",
       "      <th>power</th>\n",
       "    </tr>\n",
       "  </thead>\n",
       "  <tbody>\n",
       "    <tr>\n",
       "      <th>spearman</th>\n",
       "      <td>5</td>\n",
       "      <td>-0.8</td>\n",
       "      <td>[-0.99, 0.28]</td>\n",
       "      <td>0.104088</td>\n",
       "      <td>0.405232</td>\n",
       "    </tr>\n",
       "  </tbody>\n",
       "</table>\n",
       "</div>"
      ],
      "text/plain": [
       "          n    r          CI95%     p-val     power\n",
       "spearman  5 -0.8  [-0.99, 0.28]  0.104088  0.405232"
      ]
     },
     "execution_count": 134,
     "metadata": {},
     "output_type": "execute_result"
    }
   ],
   "source": [
    "pg.corr(x=x_data, y=y_data, method='spearman')"
   ]
  },
  {
   "attachments": {},
   "cell_type": "markdown",
   "metadata": {},
   "source": [
    "## Testing for place cell code below."
   ]
  },
  {
   "cell_type": "code",
   "execution_count": 3,
   "metadata": {},
   "outputs": [],
   "source": [
    "pc_path = '../../../MultiCon_AfterHours/MultiCon_EEG1/minian_result/mc_EEG1_01/minian/'\n",
    "behav = pd.read_feather(os.path.abspath(pjoin(behavior_path, 'MultiCon_EEG1/output/behav/mc_EEG1_01/mc_EEG1_01_A1.feat')))\n",
    "# spikes = ctn.open_minian(pc_path)['S']"
   ]
  },
  {
   "cell_type": "code",
   "execution_count": 4,
   "metadata": {},
   "outputs": [
    {
     "data": {
      "text/html": [
       "<div>\n",
       "<style scoped>\n",
       "    .dataframe tbody tr th:only-of-type {\n",
       "        vertical-align: middle;\n",
       "    }\n",
       "\n",
       "    .dataframe tbody tr th {\n",
       "        vertical-align: top;\n",
       "    }\n",
       "\n",
       "    .dataframe thead th {\n",
       "        text-align: right;\n",
       "    }\n",
       "</style>\n",
       "<table border=\"1\" class=\"dataframe\">\n",
       "  <thead>\n",
       "    <tr style=\"text-align: right;\">\n",
       "      <th></th>\n",
       "      <th>unix</th>\n",
       "      <th>frame</th>\n",
       "      <th>t</th>\n",
       "      <th>x</th>\n",
       "      <th>y</th>\n",
       "      <th>a_pos</th>\n",
       "      <th>lick_port</th>\n",
       "      <th>water</th>\n",
       "      <th>animal</th>\n",
       "      <th>session</th>\n",
       "      <th>cohort</th>\n",
       "      <th>trials</th>\n",
       "      <th>lin_position</th>\n",
       "      <th>reward_one</th>\n",
       "      <th>reward_two</th>\n",
       "      <th>probe</th>\n",
       "    </tr>\n",
       "  </thead>\n",
       "  <tbody>\n",
       "    <tr>\n",
       "      <th>0</th>\n",
       "      <td>1.666192e+09</td>\n",
       "      <td>1</td>\n",
       "      <td>0.011516</td>\n",
       "      <td>314.0</td>\n",
       "      <td>47.0</td>\n",
       "      <td>88.0</td>\n",
       "      <td>-1</td>\n",
       "      <td>False</td>\n",
       "      <td>mc_EEG1_01</td>\n",
       "      <td>A1</td>\n",
       "      <td>cohort0</td>\n",
       "      <td>0</td>\n",
       "      <td>1.535890</td>\n",
       "      <td>3</td>\n",
       "      <td>7</td>\n",
       "      <td>True</td>\n",
       "    </tr>\n",
       "    <tr>\n",
       "      <th>1</th>\n",
       "      <td>1.666192e+09</td>\n",
       "      <td>2</td>\n",
       "      <td>0.039580</td>\n",
       "      <td>314.0</td>\n",
       "      <td>47.0</td>\n",
       "      <td>88.0</td>\n",
       "      <td>-1</td>\n",
       "      <td>False</td>\n",
       "      <td>mc_EEG1_01</td>\n",
       "      <td>A1</td>\n",
       "      <td>cohort0</td>\n",
       "      <td>0</td>\n",
       "      <td>1.535890</td>\n",
       "      <td>3</td>\n",
       "      <td>7</td>\n",
       "      <td>True</td>\n",
       "    </tr>\n",
       "    <tr>\n",
       "      <th>2</th>\n",
       "      <td>1.666192e+09</td>\n",
       "      <td>3</td>\n",
       "      <td>0.061317</td>\n",
       "      <td>315.0</td>\n",
       "      <td>48.0</td>\n",
       "      <td>88.0</td>\n",
       "      <td>-1</td>\n",
       "      <td>False</td>\n",
       "      <td>mc_EEG1_01</td>\n",
       "      <td>A1</td>\n",
       "      <td>cohort0</td>\n",
       "      <td>0</td>\n",
       "      <td>1.535890</td>\n",
       "      <td>3</td>\n",
       "      <td>7</td>\n",
       "      <td>True</td>\n",
       "    </tr>\n",
       "    <tr>\n",
       "      <th>3</th>\n",
       "      <td>1.666192e+09</td>\n",
       "      <td>5</td>\n",
       "      <td>0.107424</td>\n",
       "      <td>317.0</td>\n",
       "      <td>48.0</td>\n",
       "      <td>87.0</td>\n",
       "      <td>-1</td>\n",
       "      <td>False</td>\n",
       "      <td>mc_EEG1_01</td>\n",
       "      <td>A1</td>\n",
       "      <td>cohort0</td>\n",
       "      <td>0</td>\n",
       "      <td>1.518436</td>\n",
       "      <td>3</td>\n",
       "      <td>7</td>\n",
       "      <td>True</td>\n",
       "    </tr>\n",
       "    <tr>\n",
       "      <th>4</th>\n",
       "      <td>1.666192e+09</td>\n",
       "      <td>6</td>\n",
       "      <td>0.129446</td>\n",
       "      <td>319.0</td>\n",
       "      <td>48.0</td>\n",
       "      <td>86.0</td>\n",
       "      <td>-1</td>\n",
       "      <td>False</td>\n",
       "      <td>mc_EEG1_01</td>\n",
       "      <td>A1</td>\n",
       "      <td>cohort0</td>\n",
       "      <td>0</td>\n",
       "      <td>1.500983</td>\n",
       "      <td>3</td>\n",
       "      <td>7</td>\n",
       "      <td>True</td>\n",
       "    </tr>\n",
       "    <tr>\n",
       "      <th>...</th>\n",
       "      <td>...</td>\n",
       "      <td>...</td>\n",
       "      <td>...</td>\n",
       "      <td>...</td>\n",
       "      <td>...</td>\n",
       "      <td>...</td>\n",
       "      <td>...</td>\n",
       "      <td>...</td>\n",
       "      <td>...</td>\n",
       "      <td>...</td>\n",
       "      <td>...</td>\n",
       "      <td>...</td>\n",
       "      <td>...</td>\n",
       "      <td>...</td>\n",
       "      <td>...</td>\n",
       "      <td>...</td>\n",
       "    </tr>\n",
       "    <tr>\n",
       "      <th>35995</th>\n",
       "      <td>1.666193e+09</td>\n",
       "      <td>51146</td>\n",
       "      <td>1199.840613</td>\n",
       "      <td>501.0</td>\n",
       "      <td>177.0</td>\n",
       "      <td>15.0</td>\n",
       "      <td>-1</td>\n",
       "      <td>False</td>\n",
       "      <td>mc_EEG1_01</td>\n",
       "      <td>A1</td>\n",
       "      <td>cohort0</td>\n",
       "      <td>12</td>\n",
       "      <td>0.261799</td>\n",
       "      <td>3</td>\n",
       "      <td>7</td>\n",
       "      <td>False</td>\n",
       "    </tr>\n",
       "    <tr>\n",
       "      <th>35996</th>\n",
       "      <td>1.666193e+09</td>\n",
       "      <td>51147</td>\n",
       "      <td>1199.863639</td>\n",
       "      <td>500.0</td>\n",
       "      <td>174.0</td>\n",
       "      <td>16.0</td>\n",
       "      <td>-1</td>\n",
       "      <td>False</td>\n",
       "      <td>mc_EEG1_01</td>\n",
       "      <td>A1</td>\n",
       "      <td>cohort0</td>\n",
       "      <td>12</td>\n",
       "      <td>0.279253</td>\n",
       "      <td>3</td>\n",
       "      <td>7</td>\n",
       "      <td>False</td>\n",
       "    </tr>\n",
       "    <tr>\n",
       "      <th>35997</th>\n",
       "      <td>1.666193e+09</td>\n",
       "      <td>51148</td>\n",
       "      <td>1199.888682</td>\n",
       "      <td>499.0</td>\n",
       "      <td>171.0</td>\n",
       "      <td>17.0</td>\n",
       "      <td>-1</td>\n",
       "      <td>False</td>\n",
       "      <td>mc_EEG1_01</td>\n",
       "      <td>A1</td>\n",
       "      <td>cohort0</td>\n",
       "      <td>12</td>\n",
       "      <td>0.296706</td>\n",
       "      <td>3</td>\n",
       "      <td>7</td>\n",
       "      <td>False</td>\n",
       "    </tr>\n",
       "    <tr>\n",
       "      <th>35998</th>\n",
       "      <td>1.666193e+09</td>\n",
       "      <td>51150</td>\n",
       "      <td>1199.937236</td>\n",
       "      <td>498.0</td>\n",
       "      <td>169.0</td>\n",
       "      <td>17.0</td>\n",
       "      <td>-1</td>\n",
       "      <td>False</td>\n",
       "      <td>mc_EEG1_01</td>\n",
       "      <td>A1</td>\n",
       "      <td>cohort0</td>\n",
       "      <td>12</td>\n",
       "      <td>0.296706</td>\n",
       "      <td>3</td>\n",
       "      <td>7</td>\n",
       "      <td>False</td>\n",
       "    </tr>\n",
       "    <tr>\n",
       "      <th>35999</th>\n",
       "      <td>1.666193e+09</td>\n",
       "      <td>51151</td>\n",
       "      <td>1199.960953</td>\n",
       "      <td>499.0</td>\n",
       "      <td>168.0</td>\n",
       "      <td>18.0</td>\n",
       "      <td>-1</td>\n",
       "      <td>False</td>\n",
       "      <td>mc_EEG1_01</td>\n",
       "      <td>A1</td>\n",
       "      <td>cohort0</td>\n",
       "      <td>12</td>\n",
       "      <td>0.314159</td>\n",
       "      <td>3</td>\n",
       "      <td>7</td>\n",
       "      <td>False</td>\n",
       "    </tr>\n",
       "  </tbody>\n",
       "</table>\n",
       "<p>36000 rows × 16 columns</p>\n",
       "</div>"
      ],
      "text/plain": [
       "               unix  frame            t      x      y  a_pos  lick_port  \\\n",
       "0      1.666192e+09      1     0.011516  314.0   47.0   88.0         -1   \n",
       "1      1.666192e+09      2     0.039580  314.0   47.0   88.0         -1   \n",
       "2      1.666192e+09      3     0.061317  315.0   48.0   88.0         -1   \n",
       "3      1.666192e+09      5     0.107424  317.0   48.0   87.0         -1   \n",
       "4      1.666192e+09      6     0.129446  319.0   48.0   86.0         -1   \n",
       "...             ...    ...          ...    ...    ...    ...        ...   \n",
       "35995  1.666193e+09  51146  1199.840613  501.0  177.0   15.0         -1   \n",
       "35996  1.666193e+09  51147  1199.863639  500.0  174.0   16.0         -1   \n",
       "35997  1.666193e+09  51148  1199.888682  499.0  171.0   17.0         -1   \n",
       "35998  1.666193e+09  51150  1199.937236  498.0  169.0   17.0         -1   \n",
       "35999  1.666193e+09  51151  1199.960953  499.0  168.0   18.0         -1   \n",
       "\n",
       "       water      animal session   cohort  trials  lin_position  reward_one  \\\n",
       "0      False  mc_EEG1_01      A1  cohort0       0      1.535890           3   \n",
       "1      False  mc_EEG1_01      A1  cohort0       0      1.535890           3   \n",
       "2      False  mc_EEG1_01      A1  cohort0       0      1.535890           3   \n",
       "3      False  mc_EEG1_01      A1  cohort0       0      1.518436           3   \n",
       "4      False  mc_EEG1_01      A1  cohort0       0      1.500983           3   \n",
       "...      ...         ...     ...      ...     ...           ...         ...   \n",
       "35995  False  mc_EEG1_01      A1  cohort0      12      0.261799           3   \n",
       "35996  False  mc_EEG1_01      A1  cohort0      12      0.279253           3   \n",
       "35997  False  mc_EEG1_01      A1  cohort0      12      0.296706           3   \n",
       "35998  False  mc_EEG1_01      A1  cohort0      12      0.296706           3   \n",
       "35999  False  mc_EEG1_01      A1  cohort0      12      0.314159           3   \n",
       "\n",
       "       reward_two  probe  \n",
       "0               7   True  \n",
       "1               7   True  \n",
       "2               7   True  \n",
       "3               7   True  \n",
       "4               7   True  \n",
       "...           ...    ...  \n",
       "35995           7  False  \n",
       "35996           7  False  \n",
       "35997           7  False  \n",
       "35998           7  False  \n",
       "35999           7  False  \n",
       "\n",
       "[36000 rows x 16 columns]"
      ]
     },
     "execution_count": 4,
     "metadata": {},
     "output_type": "execute_result"
    }
   ],
   "source": [
    "behav"
   ]
  },
  {
   "cell_type": "code",
   "execution_count": 7,
   "metadata": {},
   "outputs": [
    {
     "data": {
      "text/plain": [
       "50.0"
      ]
     },
     "execution_count": 7,
     "metadata": {},
     "output_type": "execute_result"
    }
   ],
   "source": [
    "reward_one, reward_two = np.unique(behav['reward_one'])[0], np.unique(behav['reward_two'])[0]\n",
    "probe_behav = behav.loc[behav['probe']]\n",
    "pc = ctb.lick_accuracy(probe_behav, port_one=reward_one, port_two=reward_two, by_trials=False)\n",
    "pc"
   ]
  },
  {
   "cell_type": "code",
   "execution_count": null,
   "metadata": {},
   "outputs": [],
   "source": [
    "def align_start_times(act, behav):\n",
    "    start_idx = np.abs(behav.loc[0, 'unix'] - act['unix'].values).argmin()\n",
    "    return act[:, start_idx:].rename('S_shifted')"
   ]
  },
  {
   "cell_type": "code",
   "execution_count": null,
   "metadata": {},
   "outputs": [],
   "source": [
    "test = align_start_times(act=spikes, behav=behav)\n",
    "test"
   ]
  },
  {
   "cell_type": "code",
   "execution_count": null,
   "metadata": {},
   "outputs": [],
   "source": [
    "end_time = np.abs(behav.loc[35999, 'unix'] - spikes['unix'].values).argmin()\n",
    "end_time"
   ]
  },
  {
   "cell_type": "code",
   "execution_count": null,
   "metadata": {},
   "outputs": [],
   "source": [
    "behav.loc[35999, 'unix']"
   ]
  },
  {
   "cell_type": "code",
   "execution_count": null,
   "metadata": {},
   "outputs": [],
   "source": [
    "spikes['unix'].values[17530]"
   ]
  },
  {
   "attachments": {},
   "cell_type": "markdown",
   "metadata": {},
   "source": [
    "## Behavior preprocessing code:"
   ]
  },
  {
   "cell_type": "code",
   "execution_count": null,
   "metadata": {},
   "outputs": [],
   "source": [
    "import re\n",
    "cohort_number = 'cohort0'\n",
    "mouse = 'mc_EEG1_01'\n",
    "session = 'A2'\n",
    "sampling_rate = 1/30 ## started keeping minian output at 1/30\n",
    "frame_count = 20 * 60 / sampling_rate ## session length in minutes x 60s per minute / sampling rate\n",
    "## 2022_10_21/11_11_20\n",
    "## 2022_10_22/18_14_11\n",
    "circle_track = pd.read_csv('../../../MultiCon_AfterHours/MultiCon_EEG1/circletrack_data/data/mc_EEG1_01/2022_10_22/18_14_11/circle_track.csv')\n",
    "rewards = circle_track.loc[circle_track['event'] == 'initializing', 'data'].tolist()\n",
    "for idx in np.arange(0, len(circle_track['event'])):\n",
    "    if 'probe' in circle_track['event'][idx]:\n",
    "        probe_end = float(re.search('probe length: ([0-9]+)', circle_track['event'][idx])[1])\n",
    "    else:\n",
    "        next\n",
    "circle_track = ctb.crop_data(circle_track)\n",
    "unix_start =  circle_track.loc[circle_track['event'] == 'START', 'timestamp'].values[0]\n",
    "time_vector = np.arange(unix_start, (frame_count * sampling_rate + unix_start), sampling_rate)\n",
    "circle_track[\"frame\"] = np.arange(len(circle_track))\n",
    "data_out = circle_track[circle_track[\"event\"] == \"LOCATION\"].copy().reset_index(drop=True)\n",
    "arg_mins = [np.abs(data_out['timestamp'] - t).argmin() for t in time_vector] ## resample to sampling freq of time_vector\n",
    "data_out = data_out.loc[arg_mins, :].reset_index(drop=True)\n",
    "events = circle_track[circle_track[\"event\"] != \"LOCATION\"].copy().reset_index(drop=True)\n",
    "data_out['t'] = (pd.to_numeric(data_out['timestamp'] - unix_start))\n",
    "data_out[[\"x\", \"y\", \"a_pos\"]] = (\n",
    "    data_out[\"data\"]\n",
    "    .apply(\n",
    "        lambda d: pd.Series(\n",
    "            re.search(\n",
    "                r\"X(?P<x>[0-9]+)Y(?P<y>[0-9]+)A(?P<ang>[0-9]+)\", d\n",
    "            ).groupdict()\n",
    "        )\n",
    "    )\n",
    "    .astype(float)\n",
    ")\n",
    "data_out[\"lick_port\"] = -1\n",
    "data_out[\"water\"] = False\n",
    "for _, row in events.iterrows():\n",
    "    ts = row[\"timestamp\"]\n",
    "    idx = np.argmin(np.abs(data_out[\"timestamp\"] - ts))\n",
    "    try:\n",
    "        port = int(row[\"data\"][-1])\n",
    "    except TypeError:\n",
    "        continue\n",
    "    data_out.loc[idx, \"lick_port\"] = port\n",
    "    if row[\"event\"] == \"REWARD\":\n",
    "        data_out.loc[idx, \"water\"] = True\n",
    "data_out[[\"animal\", \"session\", \"cohort\"]] = mouse, session, cohort_number\n",
    "# data_out[\"trials\"] = ctb.get_trials(\n",
    "#     data_out, shift_factor=0, angle_type=\"radians\", counterclockwise=True\n",
    "# )\n",
    "# data_out[\"lin_position\"] = ctb.linearize_trajectory(\n",
    "#     data_out, angle_type=\"radians\", shift_factor=0\n",
    "# )\n",
    "# data_out[['reward_one', 'reward_two']] = int(rewards[0][-1]), int(rewards[1][-1])\n",
    "# data_out = (\n",
    "#     data_out.drop(columns=[\"event\", \"data\"])\n",
    "#     .rename(columns={\"timestamp\": \"unix\"})\n",
    "#     .reset_index(drop=True)\n",
    "# )\n",
    "# data_out['probe'] = data_out['t'] < probe_end"
   ]
  },
  {
   "cell_type": "code",
   "execution_count": null,
   "metadata": {},
   "outputs": [],
   "source": [
    "data_out"
   ]
  },
  {
   "cell_type": "code",
   "execution_count": null,
   "metadata": {},
   "outputs": [],
   "source": [
    "## Linearize then bin position into one of 8 bins\n",
    "counterclockwise = True\n",
    "angle_type = 'radians'\n",
    "shift_factor = 0\n",
    "df = data_out\n",
    "position = ctb.linearize_trajectory(df, shift_factor = shift_factor, angle_type = angle_type)\n",
    "binned_position = ctb.bin_linearized_position(position, angle_type = angle_type)\n",
    "bins = np.unique(binned_position)\n",
    "## For each bin, get timestamps when the mouse was in that bin\n",
    "indices = [np.where(binned_position == this_bin)[0] for this_bin in bins]\n",
    "if counterclockwise:  ## reverse the order of the bins.\n",
    "    indices = indices[::-1]\n",
    "## Preallocate trial vector\n",
    "trials = np.full(binned_position.shape, np.nan)\n",
    "trial_start = 0\n",
    "last_idx = 0\n",
    "# We need to loop through bins rather than simply looking for border crossings because a mouse can backtrack, which we wouldn't want to count.\n",
    "# For a large number of trials...\n",
    "for trial_number in range(1):\n",
    "    ## For each bin...\n",
    "    for this_bin in indices:\n",
    "        ## Find the first timestamp that comes after the first timestamp in the last bin for that trial. \n",
    "        ## Argmax is supposedly faster than np.where.\n",
    "        last_idx = this_bin[np.argmax(this_bin > last_idx)]\n",
    "    ## After looping through all the bins, remember the last timestamp where there was a bin transition.\n",
    "    trial_end = last_idx\n",
    "    ## If the slice still has all NaNs, label it with the trial number.\n",
    "    if np.all(np.isnan(trials[trial_start:trial_end])):\n",
    "        trials[trial_start:trial_end] = trial_number\n",
    "    ## If not, finish up and exit the loop.\n",
    "    else:\n",
    "        trials[np.isnan(trials)] = trial_number - 1\n",
    "        break\n",
    "    ## The start of the next trial is the end of the last.\n",
    "    trial_start = trial_end\n",
    "trials.astype(int)"
   ]
  }
 ],
 "metadata": {
  "kernelspec": {
   "display_name": "calcium",
   "language": "python",
   "name": "python3"
  },
  "language_info": {
   "codemirror_mode": {
    "name": "ipython",
    "version": 3
   },
   "file_extension": ".py",
   "mimetype": "text/x-python",
   "name": "python",
   "nbconvert_exporter": "python",
   "pygments_lexer": "ipython3",
   "version": "3.10.6"
  },
  "orig_nbformat": 4
 },
 "nbformat": 4,
 "nbformat_minor": 2
}
