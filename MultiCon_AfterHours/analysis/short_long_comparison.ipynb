{
 "cells": [
  {
   "cell_type": "code",
   "execution_count": 1,
   "metadata": {},
   "outputs": [
    {
     "name": "stderr",
     "output_type": "stream",
     "text": [
      "/home/austinbaggetta/.conda/envs/calcium/lib/python3.10/site-packages/outdated/utils.py:14: OutdatedPackageWarning: The package pingouin is out of date. Your version is 0.5.2, the latest is 0.5.3.\n",
      "Set the environment variable OUTDATED_IGNORE=1 to disable these warnings.\n",
      "  return warn(\n"
     ]
    }
   ],
   "source": [
    "import numpy as np\n",
    "import pandas as pd\n",
    "import xarray as xr\n",
    "import os \n",
    "import sys\n",
    "import plotly.graph_objects as go\n",
    "from os.path import join as pjoin\n",
    "from scipy.stats import pearsonr, zscore, spearmanr\n",
    "from tqdm import tqdm\n",
    "\n",
    "sys.path.append('../..')\n",
    "import circletrack_behavior as ctb\n",
    "import circletrack_neural as ctn\n",
    "import plotting_functions as pf\n",
    "import place_cells as pc"
   ]
  },
  {
   "cell_type": "code",
   "execution_count": null,
   "metadata": {},
   "outputs": [],
   "source": [
    "## Set parameters\n",
    "mouse = 'mc_EEG1_01'\n",
    "root_path = os.path.abspath('../../../MultiCon_AfterHours/MultiCon_EEG1/minian_result/')\n",
    "## Load separate datasets\n",
    "short_sess_path = pjoin(root_path, f'{mouse}_twosess/minian')\n",
    "long_sess_path = pjoin(root_path, f'{mouse}_minerva/minian')\n",
    "## Set variables\n",
    "ds_short = ctn.open_minian(short_sess_path)['S']\n",
    "ds_long = ctn.open_minian(long_sess_path)['S']"
   ]
  },
  {
   "cell_type": "code",
   "execution_count": null,
   "metadata": {},
   "outputs": [],
   "source": [
    "ds_short"
   ]
  },
  {
   "cell_type": "code",
   "execution_count": null,
   "metadata": {},
   "outputs": [],
   "source": [
    "ds_long"
   ]
  },
  {
   "cell_type": "code",
   "execution_count": null,
   "metadata": {},
   "outputs": [],
   "source": [
    "## Select a specific session\n",
    "session_id = '0'\n",
    "short_session = ds_short[:, ds_short['session_id'] == session_id]\n",
    "long_session = ds_long[:, ds_long['session_id'] == session_id]"
   ]
  },
  {
   "cell_type": "code",
   "execution_count": null,
   "metadata": {},
   "outputs": [],
   "source": [
    "## Compare each cell to every other cell to determine highest correlations\n",
    "result = {'long_cell': [], 'short_cell': [], 'r': [], 'p': []}\n",
    "for cell in tqdm(np.arange(0, long_session.shape[0])):\n",
    "    for unit in np.arange(0, short_session.shape[0]):\n",
    "        output = spearmanr(long_session.values[cell], short_session.values[unit])\n",
    "        result['long_cell'].append(cell)\n",
    "        result['short_cell'].append(unit)\n",
    "        result['r'].append(output[0])\n",
    "        result['p'].append(output[1])"
   ]
  },
  {
   "cell_type": "code",
   "execution_count": null,
   "metadata": {},
   "outputs": [],
   "source": [
    "## Convert dictionary to dataframe\n",
    "threshold = 0.5\n",
    "df = pd.DataFrame(result)\n",
    "df[df['r'] > threshold] ## find which cells have a higher correlation than the threshold given"
   ]
  },
  {
   "cell_type": "code",
   "execution_count": null,
   "metadata": {},
   "outputs": [],
   "source": [
    "## Plot two cells from different sessions that have a high correlation\n",
    "sampling_rate = 1/30\n",
    "short_cell = 0\n",
    "long_cell = 0\n",
    "x_axis = np.arange(0, short_session.shape[1] * sampling_rate, sampling_rate)\n",
    "fig = pf.custom_graph_template(x_title='Time (s)', y_title='Activation Strenght (a.u.)', width=800)\n",
    "fig.add_trace(go.Scatter(x=x_axis, y=short_session.values[short_cell], mode='lines', line_color='turquoise', name='Short Session'))\n",
    "fig.add_trace(go.Scatter(x=x_axis, y=long_session.values[long_cell], mode='lines', line_color='darkgrey', name='Long Session'))\n",
    "fig.show()"
   ]
  },
  {
   "cell_type": "code",
   "execution_count": null,
   "metadata": {},
   "outputs": [],
   "source": [
    "## Plot two cells from different sessions that have a high correlation\n",
    "sampling_rate = 1/30\n",
    "short_cell = 6\n",
    "long_cell = 5\n",
    "x_axis = np.arange(0, short_session.shape[1] * sampling_rate, sampling_rate)\n",
    "fig = pf.custom_graph_template(x_title='Time (s)', y_title='Activation Strenght (a.u.)', width=800)\n",
    "fig.add_trace(go.Scatter(x=x_axis, y=short_session.values[short_cell], mode='lines', line_color='turquoise', name='Short Session'))\n",
    "fig.add_trace(go.Scatter(x=x_axis, y=long_session.values[long_cell], mode='lines', line_color='darkgrey', name='Long Session'))\n",
    "fig.show()"
   ]
  },
  {
   "cell_type": "code",
   "execution_count": null,
   "metadata": {},
   "outputs": [],
   "source": [
    "## Plot two cells from different sessions that have a high correlation\n",
    "sampling_rate = 1/30\n",
    "short_cell = 8\n",
    "long_cell = 6\n",
    "x_axis = np.arange(0, short_session.shape[1] * sampling_rate, sampling_rate)\n",
    "fig = pf.custom_graph_template(x_title='Time (s)', y_title='Activation Strenght (a.u.)', width=800)\n",
    "fig.add_trace(go.Scatter(x=x_axis, y=short_session.values[short_cell], mode='lines', line_color='turquoise', name='Short Session'))\n",
    "fig.add_trace(go.Scatter(x=x_axis, y=long_session.values[long_cell], mode='lines', line_color='darkgrey', name='Long Session'))\n",
    "fig.show()"
   ]
  },
  {
   "cell_type": "code",
   "execution_count": null,
   "metadata": {},
   "outputs": [],
   "source": [
    "## Plot two cells from different sessions that have a high correlation\n",
    "sampling_rate = 1/30\n",
    "short_cell = 18\n",
    "long_cell = 15\n",
    "x_axis = np.arange(0, short_session.shape[1] * sampling_rate, sampling_rate)\n",
    "fig = pf.custom_graph_template(x_title='Time (s)', y_title='Activation Strenght (a.u.)', width=800)\n",
    "fig.add_trace(go.Scatter(x=x_axis, y=short_session.values[short_cell], mode='lines', line_color='turquoise', name='Short Session'))\n",
    "fig.add_trace(go.Scatter(x=x_axis, y=long_session.values[long_cell], mode='lines', line_color='darkgrey', name='Long Session'))\n",
    "fig.show()"
   ]
  },
  {
   "cell_type": "code",
   "execution_count": null,
   "metadata": {},
   "outputs": [],
   "source": [
    "## Create histograms of spike counts for each session\n",
    "short_spike_num = np.count_nonzero(short_session.values, axis=1)\n",
    "long_spike_num = np.count_nonzero(long_session.values, axis=1)\n",
    "fig = pf.custom_graph_template(x_title='Approximated Spike Count', y_title='Count', width=800)\n",
    "fig.add_trace(go.Histogram(x=short_spike_num, nbinsx=60, marker_color='turquoise', name='Short Session'))\n",
    "fig.add_trace(go.Histogram(x=long_spike_num, nbinsx=16, marker_color='darkgrey', name='Long Session'))\n",
    "fig.update_layout(barmode='overlay')\n",
    "fig.update_traces(opacity=0.75)\n",
    "fig.show()"
   ]
  },
  {
   "cell_type": "code",
   "execution_count": null,
   "metadata": {},
   "outputs": [],
   "source": [
    "## Population Vector Correlations of place fields\n",
    "## Set parameters\n",
    "dataset = {}\n",
    "dpath = os.path.abspath('../../../MultiCon_AfterHours/MultiCon_EEG1/output/aligned_minian')\n",
    "mouse_dict = {'mc_EEG1_01': ['A1', 'A2', 'A3', 'A4', 'A5']} ## set which sessions you will be comparing\n",
    "alpha = 0.05\n",
    "nbins = 20\n",
    "\n",
    "for mouse in mouse_dict.keys():\n",
    "    for session in mouse_dict[mouse]:\n",
    "        file_name = '_'.join([mouse, session])\n",
    "        da = xr.open_dataset(pjoin(dpath, f'{mouse}/{file_name}.nc'))['S'] ## select S matrix\n",
    "        dataset[session] = da"
   ]
  },
  {
   "cell_type": "code",
   "execution_count": null,
   "metadata": {},
   "outputs": [],
   "source": [
    "for session in dataset.keys():\n",
    "    data = dataset[session]\n",
    "    pf_data = pc.PlaceFields(x=data['x'].values,\n",
    "                             y=data['y'].values,\n",
    "                             t=data['behav_t'].values,\n",
    "                             neural_data=data.values,\n",
    "                             circular=True,\n",
    "                             shuffle_test=True,\n",
    "                             nbins=nbins)"
   ]
  }
 ],
 "metadata": {
  "kernelspec": {
   "display_name": "calcium",
   "language": "python",
   "name": "python3"
  },
  "language_info": {
   "codemirror_mode": {
    "name": "ipython",
    "version": 3
   },
   "file_extension": ".py",
   "mimetype": "text/x-python",
   "name": "python",
   "nbconvert_exporter": "python",
   "pygments_lexer": "ipython3",
   "version": "3.10.12"
  },
  "orig_nbformat": 4
 },
 "nbformat": 4,
 "nbformat_minor": 2
}
