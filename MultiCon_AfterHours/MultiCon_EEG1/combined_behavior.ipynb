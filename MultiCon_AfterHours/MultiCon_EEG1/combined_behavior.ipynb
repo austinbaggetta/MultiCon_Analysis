{
 "cells": [
  {
   "cell_type": "code",
   "execution_count": 1,
   "metadata": {},
   "outputs": [],
   "source": [
    "%load_ext autoreload\n",
    "%autoreload 2\n",
    "import pandas as pd\n",
    "import numpy as np\n",
    "import plotly.express as px\n",
    "import plotly.graph_objects as go\n",
    "import os\n",
    "from os.path import join as pjoin\n",
    "import sys"
   ]
  },
  {
   "cell_type": "code",
   "execution_count": 2,
   "metadata": {},
   "outputs": [],
   "source": [
    "sys.path.append('/media/caishuman/csstorage3/Austin/CircleTrack/CircleTrackAnalysis')\n",
    "import circletrack_behavior as ctb\n",
    "import plotting_functions as pf"
   ]
  },
  {
   "cell_type": "code",
   "execution_count": 13,
   "metadata": {},
   "outputs": [],
   "source": [
    "## Set relative path variable for circletrack behavior data\n",
    "path_one = '../../../MultiCon_AfterHours/MultiCon_EEG1/circletrack_data/Data/**/**/**/circle_track.csv'\n",
    "path_two = '../../../MultiCon_AfterHours/MultiCon_EEG2/circletrack_data/Data/**/**/**/circle_track.csv'\n",
    "## Set str2match variable (regex for mouse name)\n",
    "str2match = '(mc_EEG[0-9]_[0-9]+)'"
   ]
  },
  {
   "cell_type": "code",
   "execution_count": 10,
   "metadata": {},
   "outputs": [
    {
     "data": {
      "text/plain": [
       "['../../../MultiCon_AfterHours/MultiCon_EEG1/circletrack_data/Data/mc_EEG1_01/2022_10_19/11_05_37/circle_track.csv',\n",
       " '../../../MultiCon_AfterHours/MultiCon_EEG1/circletrack_data/Data/mc_EEG1_01/2022_10_20/13_36_10/circle_track.csv',\n",
       " '../../../MultiCon_AfterHours/MultiCon_EEG1/circletrack_data/Data/mc_EEG1_01/2022_10_21/11_11_20/circle_track.csv',\n",
       " '../../../MultiCon_AfterHours/MultiCon_EEG1/circletrack_data/Data/mc_EEG1_01/2022_10_22/18_14_11/circle_track.csv',\n",
       " '../../../MultiCon_AfterHours/MultiCon_EEG1/circletrack_data/Data/mc_EEG1_01/2022_10_23/11_23_29/circle_track.csv',\n",
       " '../../../MultiCon_AfterHours/MultiCon_EEG1/circletrack_data/Data/mc_EEG1_01/2022_10_29/10_40_14/circle_track.csv',\n",
       " '../../../MultiCon_AfterHours/MultiCon_EEG1/circletrack_data/Data/mc_EEG1_01/2022_10_30/17_59_30/circle_track.csv',\n",
       " '../../../MultiCon_AfterHours/MultiCon_EEG1/circletrack_data/Data/mc_EEG1_01/2022_10_31/10_16_21/circle_track.csv',\n",
       " '../../../MultiCon_AfterHours/MultiCon_EEG1/circletrack_data/Data/mc_EEG1_01/2022_11_01/10_28_58/circle_track.csv',\n",
       " '../../../MultiCon_AfterHours/MultiCon_EEG1/circletrack_data/Data/mc_EEG1_01/2022_11_02/10_06_00/circle_track.csv',\n",
       " '../../../MultiCon_AfterHours/MultiCon_EEG1/circletrack_data/Data/mc_EEG1_01/2022_10_24/10_05_06/circle_track.csv',\n",
       " '../../../MultiCon_AfterHours/MultiCon_EEG1/circletrack_data/Data/mc_EEG1_01/2022_10_25/10_35_22/circle_track.csv',\n",
       " '../../../MultiCon_AfterHours/MultiCon_EEG1/circletrack_data/Data/mc_EEG1_01/2022_10_26/10_59_29/circle_track.csv',\n",
       " '../../../MultiCon_AfterHours/MultiCon_EEG1/circletrack_data/Data/mc_EEG1_01/2022_10_27/10_19_46/circle_track.csv',\n",
       " '../../../MultiCon_AfterHours/MultiCon_EEG1/circletrack_data/Data/mc_EEG1_01/2022_10_28/10_17_31/circle_track.csv',\n",
       " '../../../MultiCon_AfterHours/MultiCon_EEG1/circletrack_data/Data/mc_EEG1_01/2022_11_03/10_30_36/circle_track.csv',\n",
       " '../../../MultiCon_AfterHours/MultiCon_EEG1/circletrack_data/Data/mc_EEG1_01/2022_11_04/11_14_03/circle_track.csv',\n",
       " '../../../MultiCon_AfterHours/MultiCon_EEG1/circletrack_data/Data/mc_EEG1_01/2022_11_05/17_29_15/circle_track.csv',\n",
       " '../../../MultiCon_AfterHours/MultiCon_EEG1/circletrack_data/Data/mc_EEG1_01/2022_11_06/11_50_22/circle_track.csv',\n",
       " '../../../MultiCon_AfterHours/MultiCon_EEG1/circletrack_data/Data/mc_EEG1_01/2022_11_07/09_49_23/circle_track.csv',\n",
       " '../../../MultiCon_AfterHours/MultiCon_EEG1/circletrack_data/Data/mc_EEG1_02/2022_10_21/10_28_46/circle_track.csv',\n",
       " '../../../MultiCon_AfterHours/MultiCon_EEG1/circletrack_data/Data/mc_EEG1_02/2022_10_22/19_38_03/circle_track.csv',\n",
       " '../../../MultiCon_AfterHours/MultiCon_EEG1/circletrack_data/Data/mc_EEG1_02/2022_10_23/11_54_31/circle_track.csv',\n",
       " '../../../MultiCon_AfterHours/MultiCon_EEG1/circletrack_data/Data/mc_EEG1_02/2022_10_26/10_21_33/circle_track.csv',\n",
       " '../../../MultiCon_AfterHours/MultiCon_EEG1/circletrack_data/Data/mc_EEG1_02/2022_10_31/09_43_55/circle_track.csv',\n",
       " '../../../MultiCon_AfterHours/MultiCon_EEG1/circletrack_data/Data/mc_EEG1_02/2022_10_24/12_27_57/circle_track.csv',\n",
       " '../../../MultiCon_AfterHours/MultiCon_EEG1/circletrack_data/Data/mc_EEG1_02/2022_10_25/09_59_01/circle_track.csv',\n",
       " '../../../MultiCon_AfterHours/MultiCon_EEG1/circletrack_data/Data/mc_EEG1_02/2022_10_27/11_25_14/circle_track.csv',\n",
       " '../../../MultiCon_AfterHours/MultiCon_EEG1/circletrack_data/Data/mc_EEG1_02/2022_10_28/10_55_37/circle_track.csv',\n",
       " '../../../MultiCon_AfterHours/MultiCon_EEG1/circletrack_data/Data/mc_EEG1_02/2022_10_29/11_11_48/circle_track.csv',\n",
       " '../../../MultiCon_AfterHours/MultiCon_EEG1/circletrack_data/Data/mc_EEG1_02/2022_10_30/12_14_49/circle_track.csv',\n",
       " '../../../MultiCon_AfterHours/MultiCon_EEG1/circletrack_data/Data/mc_EEG1_02/2022_11_01/11_00_53/circle_track.csv',\n",
       " '../../../MultiCon_AfterHours/MultiCon_EEG1/circletrack_data/Data/mc_EEG1_02/2022_11_05/12_01_30/circle_track.csv',\n",
       " '../../../MultiCon_AfterHours/MultiCon_EEG1/circletrack_data/Data/mc_EEG1_02/2022_11_06/12_20_06/circle_track.csv',\n",
       " '../../../MultiCon_AfterHours/MultiCon_EEG1/circletrack_data/Data/mc_EEG1_02/2022_11_07/10_21_52/circle_track.csv',\n",
       " '../../../MultiCon_AfterHours/MultiCon_EEG1/circletrack_data/Data/mc_EEG1_02/2022_11_08/09_47_29/circle_track.csv',\n",
       " '../../../MultiCon_AfterHours/MultiCon_EEG1/circletrack_data/Data/mc_EEG1_02/2022_11_09/10_46_06/circle_track.csv',\n",
       " '../../../MultiCon_AfterHours/MultiCon_EEG1/circletrack_data/Data/mc_EEG1_02/2022_11_02/10_43_20/circle_track.csv',\n",
       " '../../../MultiCon_AfterHours/MultiCon_EEG1/circletrack_data/Data/mc_EEG1_02/2022_11_03/13_11_16/circle_track.csv',\n",
       " '../../../MultiCon_AfterHours/MultiCon_EEG1/circletrack_data/Data/mc_EEG1_02/2022_11_04/10_16_39/circle_track.csv',\n",
       " '../../../MultiCon_AfterHours/MultiCon_EEG2/circletrack_data/Data/mc_EEG2_02/2023_01_17/10_15_03/circle_track.csv',\n",
       " '../../../MultiCon_AfterHours/MultiCon_EEG2/circletrack_data/Data/mc_EEG2_02/2023_01_18/15_45_18/circle_track.csv',\n",
       " '../../../MultiCon_AfterHours/MultiCon_EEG2/circletrack_data/Data/mc_EEG2_02/2023_01_19/11_50_01/circle_track.csv',\n",
       " '../../../MultiCon_AfterHours/MultiCon_EEG2/circletrack_data/Data/mc_EEG2_02/2023_01_20/11_13_06/circle_track.csv',\n",
       " '../../../MultiCon_AfterHours/MultiCon_EEG2/circletrack_data/Data/mc_EEG2_02/2023_01_21/11_26_26/circle_track.csv',\n",
       " '../../../MultiCon_AfterHours/MultiCon_EEG2/circletrack_data/Data/mc_EEG2_02/2023_01_12/11_30_18/circle_track.csv',\n",
       " '../../../MultiCon_AfterHours/MultiCon_EEG2/circletrack_data/Data/mc_EEG2_02/2023_01_13/12_04_07/circle_track.csv',\n",
       " '../../../MultiCon_AfterHours/MultiCon_EEG2/circletrack_data/Data/mc_EEG2_02/2023_01_14/10_59_07/circle_track.csv',\n",
       " '../../../MultiCon_AfterHours/MultiCon_EEG2/circletrack_data/Data/mc_EEG2_02/2023_01_15/11_13_50/circle_track.csv',\n",
       " '../../../MultiCon_AfterHours/MultiCon_EEG2/circletrack_data/Data/mc_EEG2_02/2023_01_16/10_51_09/circle_track.csv',\n",
       " '../../../MultiCon_AfterHours/MultiCon_EEG2/circletrack_data/Data/mc_EEG2_02/2023_01_22/11_00_04/circle_track.csv',\n",
       " '../../../MultiCon_AfterHours/MultiCon_EEG2/circletrack_data/Data/mc_EEG2_02/2023_01_23/14_55_49/circle_track.csv',\n",
       " '../../../MultiCon_AfterHours/MultiCon_EEG2/circletrack_data/Data/mc_EEG2_02/2023_01_24/11_54_33/circle_track.csv',\n",
       " '../../../MultiCon_AfterHours/MultiCon_EEG2/circletrack_data/Data/mc_EEG2_02/2023_01_25/11_37_54/circle_track.csv',\n",
       " '../../../MultiCon_AfterHours/MultiCon_EEG2/circletrack_data/Data/mc_EEG2_02/2023_01_26/10_58_03/circle_track.csv',\n",
       " '../../../MultiCon_AfterHours/MultiCon_EEG2/circletrack_data/Data/mc_EEG2_02/2023_01_27/10_41_48/circle_track.csv',\n",
       " '../../../MultiCon_AfterHours/MultiCon_EEG2/circletrack_data/Data/mc_EEG2_02/2023_01_28/13_00_38/circle_track.csv',\n",
       " '../../../MultiCon_AfterHours/MultiCon_EEG2/circletrack_data/Data/mc_EEG2_02/2023_01_29/11_36_13/circle_track.csv',\n",
       " '../../../MultiCon_AfterHours/MultiCon_EEG2/circletrack_data/Data/mc_EEG2_02/2023_01_30/11_14_32/circle_track.csv',\n",
       " '../../../MultiCon_AfterHours/MultiCon_EEG2/circletrack_data/Data/mc_EEG2_02/2023_01_31/11_13_59/circle_track.csv',\n",
       " '../../../MultiCon_AfterHours/MultiCon_EEG2/circletrack_data/Data/mc_EEG2_01/2023_01_15/10_39_53/circle_track.csv',\n",
       " '../../../MultiCon_AfterHours/MultiCon_EEG2/circletrack_data/Data/mc_EEG2_01/2023_01_10/11_24_24/circle_track.csv',\n",
       " '../../../MultiCon_AfterHours/MultiCon_EEG2/circletrack_data/Data/mc_EEG2_01/2023_01_16/11_24_46/circle_track.csv',\n",
       " '../../../MultiCon_AfterHours/MultiCon_EEG2/circletrack_data/Data/mc_EEG2_01/2023_01_17/10_48_34/circle_track.csv',\n",
       " '../../../MultiCon_AfterHours/MultiCon_EEG2/circletrack_data/Data/mc_EEG2_01/2023_01_18/15_10_53/circle_track.csv',\n",
       " '../../../MultiCon_AfterHours/MultiCon_EEG2/circletrack_data/Data/mc_EEG2_01/2023_01_19/11_11_41/circle_track.csv',\n",
       " '../../../MultiCon_AfterHours/MultiCon_EEG2/circletrack_data/Data/mc_EEG2_01/2023_01_20/10_41_42/circle_track.csv',\n",
       " '../../../MultiCon_AfterHours/MultiCon_EEG2/circletrack_data/Data/mc_EEG2_01/2023_01_21/11_57_45/circle_track.csv',\n",
       " '../../../MultiCon_AfterHours/MultiCon_EEG2/circletrack_data/Data/mc_EEG2_01/2023_01_22/11_38_30/circle_track.csv',\n",
       " '../../../MultiCon_AfterHours/MultiCon_EEG2/circletrack_data/Data/mc_EEG2_01/2023_01_23/14_19_29/circle_track.csv',\n",
       " '../../../MultiCon_AfterHours/MultiCon_EEG2/circletrack_data/Data/mc_EEG2_01/2023_01_11/11_08_47/circle_track.csv',\n",
       " '../../../MultiCon_AfterHours/MultiCon_EEG2/circletrack_data/Data/mc_EEG2_01/2023_01_11/11_16_28/circle_track.csv',\n",
       " '../../../MultiCon_AfterHours/MultiCon_EEG2/circletrack_data/Data/mc_EEG2_01/2023_01_24/11_20_57/circle_track.csv',\n",
       " '../../../MultiCon_AfterHours/MultiCon_EEG2/circletrack_data/Data/mc_EEG2_01/2023_01_12/12_00_54/circle_track.csv',\n",
       " '../../../MultiCon_AfterHours/MultiCon_EEG2/circletrack_data/Data/mc_EEG2_01/2023_01_12/12_07_40/circle_track.csv',\n",
       " '../../../MultiCon_AfterHours/MultiCon_EEG2/circletrack_data/Data/mc_EEG2_01/2023_01_13/10_14_04/circle_track.csv',\n",
       " '../../../MultiCon_AfterHours/MultiCon_EEG2/circletrack_data/Data/mc_EEG2_01/2023_01_14/10_28_18/circle_track.csv',\n",
       " '../../../MultiCon_AfterHours/MultiCon_EEG2/circletrack_data/Data/mc_EEG2_01/2023_01_25/11_06_27/circle_track.csv',\n",
       " '../../../MultiCon_AfterHours/MultiCon_EEG2/circletrack_data/Data/mc_EEG2_01/2023_01_26/13_32_32/circle_track.csv',\n",
       " '../../../MultiCon_AfterHours/MultiCon_EEG2/circletrack_data/Data/mc_EEG2_01/2023_01_27/11_13_59/circle_track.csv',\n",
       " '../../../MultiCon_AfterHours/MultiCon_EEG2/circletrack_data/Data/mc_EEG2_01/2023_01_28/12_27_35/circle_track.csv',\n",
       " '../../../MultiCon_AfterHours/MultiCon_EEG2/circletrack_data/Data/mc_EEG2_01/2023_01_29/11_03_08/circle_track.csv']"
      ]
     },
     "execution_count": 10,
     "metadata": {},
     "output_type": "execute_result"
    }
   ],
   "source": [
    "## Create lists of files\n",
    "file_list_one = ctb.get_file_list(path_one)\n",
    "file_list_two = ctb.get_file_list(path_two)\n",
    "file_list = file_list_one + file_list_two\n",
    "file_list"
   ]
  },
  {
   "cell_type": "code",
   "execution_count": 14,
   "metadata": {},
   "outputs": [],
   "source": [
    "## Loop through file_list to extract mouse name\n",
    "mouseID = []\n",
    "for file in file_list:\n",
    "    mouse = ctb.get_mouse(file, str2match)\n",
    "    mouseID.append(mouse)\n",
    "## Combine file_list and mouseID\n",
    "combined_list = ctb.combine(file_list, mouseID)"
   ]
  },
  {
   "cell_type": "code",
   "execution_count": 17,
   "metadata": {},
   "outputs": [
    {
     "name": "stderr",
     "output_type": "stream",
     "text": [
      "/media/caishuman/csstorage3/Austin/CircleTrack/CircleTrackAnalysis/circletrack_behavior.py:185: RuntimeWarning: invalid value encountered in long_scalars\n",
      "  percent_correct = ((licks.event[(licks.data == reward_first) | (licks.data == reward_second)].dropna().sum()) / licks.event.dropna().sum()) * 100\n",
      "/media/caishuman/csstorage3/Austin/CircleTrack/CircleTrackAnalysis/circletrack_behavior.py:185: RuntimeWarning: invalid value encountered in long_scalars\n",
      "  percent_correct = ((licks.event[(licks.data == reward_first) | (licks.data == reward_second)].dropna().sum()) / licks.event.dropna().sum()) * 100\n"
     ]
    }
   ],
   "source": [
    "## Loop through mice to get first lick accuracy\n",
    "lick_accuracy = pd.DataFrame()\n",
    "for mouse in combined_list.mouse.unique():\n",
    "    flhr = ctb.get_lick_accuracy(combined_list, mouse)\n",
    "    lick_accuracy = pd.concat([lick_accuracy, flhr], ignore_index = True)"
   ]
  },
  {
   "cell_type": "code",
   "execution_count": 26,
   "metadata": {},
   "outputs": [
    {
     "data": {
      "text/html": [
       "<div>\n",
       "<style scoped>\n",
       "    .dataframe tbody tr th:only-of-type {\n",
       "        vertical-align: middle;\n",
       "    }\n",
       "\n",
       "    .dataframe tbody tr th {\n",
       "        vertical-align: top;\n",
       "    }\n",
       "\n",
       "    .dataframe thead th {\n",
       "        text-align: right;\n",
       "    }\n",
       "</style>\n",
       "<table border=\"1\" class=\"dataframe\">\n",
       "  <thead>\n",
       "    <tr style=\"text-align: right;\">\n",
       "      <th></th>\n",
       "      <th>percent_correct</th>\n",
       "      <th>mouse</th>\n",
       "      <th>day</th>\n",
       "    </tr>\n",
       "  </thead>\n",
       "  <tbody>\n",
       "    <tr>\n",
       "      <th>0</th>\n",
       "      <td>41.176471</td>\n",
       "      <td>mc_EEG1_01</td>\n",
       "      <td>1</td>\n",
       "    </tr>\n",
       "    <tr>\n",
       "      <th>1</th>\n",
       "      <td>39.285714</td>\n",
       "      <td>mc_EEG1_01</td>\n",
       "      <td>2</td>\n",
       "    </tr>\n",
       "    <tr>\n",
       "      <th>2</th>\n",
       "      <td>42.307692</td>\n",
       "      <td>mc_EEG1_01</td>\n",
       "      <td>3</td>\n",
       "    </tr>\n",
       "    <tr>\n",
       "      <th>3</th>\n",
       "      <td>40.000000</td>\n",
       "      <td>mc_EEG1_01</td>\n",
       "      <td>4</td>\n",
       "    </tr>\n",
       "    <tr>\n",
       "      <th>4</th>\n",
       "      <td>49.484536</td>\n",
       "      <td>mc_EEG1_01</td>\n",
       "      <td>5</td>\n",
       "    </tr>\n",
       "    <tr>\n",
       "      <th>...</th>\n",
       "      <td>...</td>\n",
       "      <td>...</td>\n",
       "      <td>...</td>\n",
       "    </tr>\n",
       "    <tr>\n",
       "      <th>77</th>\n",
       "      <td>48.333333</td>\n",
       "      <td>mc_EEG2_01</td>\n",
       "      <td>18</td>\n",
       "    </tr>\n",
       "    <tr>\n",
       "      <th>78</th>\n",
       "      <td>58.490566</td>\n",
       "      <td>mc_EEG2_01</td>\n",
       "      <td>19</td>\n",
       "    </tr>\n",
       "    <tr>\n",
       "      <th>79</th>\n",
       "      <td>77.586207</td>\n",
       "      <td>mc_EEG2_01</td>\n",
       "      <td>20</td>\n",
       "    </tr>\n",
       "    <tr>\n",
       "      <th>80</th>\n",
       "      <td>86.046512</td>\n",
       "      <td>mc_EEG2_01</td>\n",
       "      <td>21</td>\n",
       "    </tr>\n",
       "    <tr>\n",
       "      <th>81</th>\n",
       "      <td>80.952381</td>\n",
       "      <td>mc_EEG2_01</td>\n",
       "      <td>22</td>\n",
       "    </tr>\n",
       "  </tbody>\n",
       "</table>\n",
       "<p>82 rows × 3 columns</p>\n",
       "</div>"
      ],
      "text/plain": [
       "    percent_correct       mouse  day\n",
       "0         41.176471  mc_EEG1_01    1\n",
       "1         39.285714  mc_EEG1_01    2\n",
       "2         42.307692  mc_EEG1_01    3\n",
       "3         40.000000  mc_EEG1_01    4\n",
       "4         49.484536  mc_EEG1_01    5\n",
       "..              ...         ...  ...\n",
       "77        48.333333  mc_EEG2_01   18\n",
       "78        58.490566  mc_EEG2_01   19\n",
       "79        77.586207  mc_EEG2_01   20\n",
       "80        86.046512  mc_EEG2_01   21\n",
       "81        80.952381  mc_EEG2_01   22\n",
       "\n",
       "[82 rows x 3 columns]"
      ]
     },
     "execution_count": 26,
     "metadata": {},
     "output_type": "execute_result"
    }
   ],
   "source": [
    "lick_accuracy"
   ]
  },
  {
   "cell_type": "code",
   "execution_count": 25,
   "metadata": {},
   "outputs": [
    {
     "data": {
      "application/vnd.plotly.v1+json": {
       "config": {
        "plotlyServerURL": "https://plot.ly"
       },
       "data": [
        {
         "marker": {
          "color": "rgb(179,179,179)",
          "line": {
           "width": 1
          }
         },
         "mode": "markers",
         "opacity": 0.5,
         "type": "scatter",
         "x": [
          1,
          2,
          3,
          4,
          5,
          6,
          7,
          8,
          9,
          10,
          11,
          12,
          13,
          14,
          15,
          16,
          17,
          18,
          19,
          20,
          1,
          2,
          3,
          4,
          5,
          6,
          7,
          8,
          9,
          10,
          11,
          12,
          13,
          14,
          15,
          16,
          17,
          18,
          19,
          20,
          1,
          2,
          3,
          4,
          5,
          6,
          7,
          8,
          9,
          10,
          11,
          12,
          13,
          14,
          15,
          16,
          17,
          18,
          19,
          20,
          1,
          2,
          3,
          4,
          5,
          6,
          7,
          8,
          9,
          10,
          11,
          12,
          13,
          14,
          15,
          16,
          17,
          18,
          19,
          20,
          21,
          22
         ],
         "y": [
          41.17647058823529,
          39.285714285714285,
          42.30769230769231,
          40,
          49.48453608247423,
          53.84615384615385,
          31.08108108108108,
          26.82926829268293,
          68.14159292035397,
          66.36363636363637,
          26.31578947368421,
          34.18803418803419,
          56.09756097560976,
          36.08247422680412,
          77.27272727272727,
          63.565891472868216,
          76.72413793103449,
          76.92307692307693,
          47.96747967479675,
          45.86466165413533,
          31.25,
          41.66666666666667,
          65.34653465346535,
          17.543859649122805,
          45.45454545454545,
          79.0909090909091,
          76.22950819672131,
          44.303797468354425,
          56.14035087719298,
          56.25,
          80.23255813953489,
          74.19354838709677,
          75.1937984496124,
          84.17266187050359,
          91.91176470588235,
          93.38235294117648,
          91.25,
          85.58558558558559,
          80.50847457627118,
          73.38709677419355,
          24.691358024691358,
          57.25190839694656,
          59.13978494623656,
          55.47445255474452,
          81.66666666666667,
          29.906542056074763,
          50.943396226415096,
          51.724137931034484,
          71.42857142857143,
          76.22950819672131,
          42.857142857142854,
          88.52459016393442,
          74.57627118644068,
          73.94366197183099,
          82.27848101265823,
          63.1578947368421,
          86.11111111111111,
          90.9090909090909,
          90.37037037037037,
          90,
          63.87096774193548,
          27.611940298507463,
          51.61290322580645,
          66.66666666666666,
          79.72972972972973,
          92.06349206349206,
          40.27777777777778,
          null,
          82.6086956521739,
          73.91304347826086,
          null,
          50.43478260869565,
          90.47619047619048,
          57.14285714285714,
          44.5945945945946,
          52.4390243902439,
          58.69565217391305,
          48.333333333333336,
          58.490566037735846,
          77.58620689655173,
          86.04651162790698,
          80.95238095238095
         ]
        },
        {
         "error_y": {
          "array": [
           8.57262976742377,
           6.095922247253353,
           4.967571656941694,
           10.637878211666955,
           9.635610814227155,
           13.785442143396034,
           9.75015070360351,
           7.379307242417811,
           5.445619876245886,
           4.502648472461164,
           15.947058214700046,
           12.108494319773445,
           7.033786709004534,
           10.51505392984683,
           10.266256803670776,
           8.800761348438906,
           7.161737689445283,
           9.483303553720965,
           9.75323028163027,
           9.308813360906692,
           null,
           null
          ],
          "type": "data"
         },
         "line": {
          "color": "rgb(172,78,163)"
         },
         "mode": "lines+markers",
         "type": "scatter",
         "x": [
          1,
          2,
          3,
          4,
          5,
          6,
          7,
          8,
          9,
          10,
          11,
          12,
          13,
          14,
          15,
          16,
          17,
          18,
          19,
          20,
          21,
          22
         ],
         "y": [
          40.24719908871553,
          41.45405741195874,
          54.60172878330017,
          44.9212447176335,
          64.08386948335402,
          63.72677426415744,
          49.63294082049882,
          40.95240123069061,
          69.57980271957308,
          68.18904700965464,
          49.80183015678731,
          61.835238836940256,
          74.08595527196333,
          62.83541380299896,
          74.01439189646561,
          68.13629088528268,
          78.19522530401466,
          75.43777168777169,
          69.33422266479354,
          71.70949133122015,
          86.04651162790698,
          80.95238095238095
         ]
        }
       ],
       "layout": {
        "height": 800,
        "shapes": [
         {
          "line": {
           "color": "black",
           "dash": "dash",
           "width": 1
          },
          "type": "line",
          "x0": 0,
          "x1": 1,
          "xref": "x domain",
          "y0": 75,
          "y1": 75,
          "yref": "y"
         },
         {
          "line": {
           "color": "black",
           "dash": "dash",
           "width": 1
          },
          "type": "line",
          "x0": 5.5,
          "x1": 5.5,
          "xref": "x",
          "y0": 0,
          "y1": 1,
          "yref": "y domain"
         },
         {
          "line": {
           "color": "black",
           "dash": "dash",
           "width": 1
          },
          "type": "line",
          "x0": 10.5,
          "x1": 10.5,
          "xref": "x",
          "y0": 0,
          "y1": 1,
          "yref": "y domain"
         },
         {
          "line": {
           "color": "black",
           "dash": "dash",
           "width": 1
          },
          "type": "line",
          "x0": 15.5,
          "x1": 15.5,
          "xref": "x",
          "y0": 0,
          "y1": 1,
          "yref": "y domain"
         }
        ],
        "showlegend": false,
        "template": {
         "data": {
          "bar": [
           {
            "error_x": {
             "color": "rgb(36,36,36)"
            },
            "error_y": {
             "color": "rgb(36,36,36)"
            },
            "marker": {
             "line": {
              "color": "white",
              "width": 0.5
             },
             "pattern": {
              "fillmode": "overlay",
              "size": 10,
              "solidity": 0.2
             }
            },
            "type": "bar"
           }
          ],
          "barpolar": [
           {
            "marker": {
             "line": {
              "color": "white",
              "width": 0.5
             },
             "pattern": {
              "fillmode": "overlay",
              "size": 10,
              "solidity": 0.2
             }
            },
            "type": "barpolar"
           }
          ],
          "carpet": [
           {
            "aaxis": {
             "endlinecolor": "rgb(36,36,36)",
             "gridcolor": "white",
             "linecolor": "white",
             "minorgridcolor": "white",
             "startlinecolor": "rgb(36,36,36)"
            },
            "baxis": {
             "endlinecolor": "rgb(36,36,36)",
             "gridcolor": "white",
             "linecolor": "white",
             "minorgridcolor": "white",
             "startlinecolor": "rgb(36,36,36)"
            },
            "type": "carpet"
           }
          ],
          "choropleth": [
           {
            "colorbar": {
             "outlinewidth": 1,
             "tickcolor": "rgb(36,36,36)",
             "ticks": "outside"
            },
            "type": "choropleth"
           }
          ],
          "contour": [
           {
            "colorbar": {
             "outlinewidth": 1,
             "tickcolor": "rgb(36,36,36)",
             "ticks": "outside"
            },
            "colorscale": [
             [
              0,
              "#440154"
             ],
             [
              0.1111111111111111,
              "#482878"
             ],
             [
              0.2222222222222222,
              "#3e4989"
             ],
             [
              0.3333333333333333,
              "#31688e"
             ],
             [
              0.4444444444444444,
              "#26828e"
             ],
             [
              0.5555555555555556,
              "#1f9e89"
             ],
             [
              0.6666666666666666,
              "#35b779"
             ],
             [
              0.7777777777777778,
              "#6ece58"
             ],
             [
              0.8888888888888888,
              "#b5de2b"
             ],
             [
              1,
              "#fde725"
             ]
            ],
            "type": "contour"
           }
          ],
          "contourcarpet": [
           {
            "colorbar": {
             "outlinewidth": 1,
             "tickcolor": "rgb(36,36,36)",
             "ticks": "outside"
            },
            "type": "contourcarpet"
           }
          ],
          "heatmap": [
           {
            "colorbar": {
             "outlinewidth": 1,
             "tickcolor": "rgb(36,36,36)",
             "ticks": "outside"
            },
            "colorscale": [
             [
              0,
              "#440154"
             ],
             [
              0.1111111111111111,
              "#482878"
             ],
             [
              0.2222222222222222,
              "#3e4989"
             ],
             [
              0.3333333333333333,
              "#31688e"
             ],
             [
              0.4444444444444444,
              "#26828e"
             ],
             [
              0.5555555555555556,
              "#1f9e89"
             ],
             [
              0.6666666666666666,
              "#35b779"
             ],
             [
              0.7777777777777778,
              "#6ece58"
             ],
             [
              0.8888888888888888,
              "#b5de2b"
             ],
             [
              1,
              "#fde725"
             ]
            ],
            "type": "heatmap"
           }
          ],
          "heatmapgl": [
           {
            "colorbar": {
             "outlinewidth": 1,
             "tickcolor": "rgb(36,36,36)",
             "ticks": "outside"
            },
            "colorscale": [
             [
              0,
              "#440154"
             ],
             [
              0.1111111111111111,
              "#482878"
             ],
             [
              0.2222222222222222,
              "#3e4989"
             ],
             [
              0.3333333333333333,
              "#31688e"
             ],
             [
              0.4444444444444444,
              "#26828e"
             ],
             [
              0.5555555555555556,
              "#1f9e89"
             ],
             [
              0.6666666666666666,
              "#35b779"
             ],
             [
              0.7777777777777778,
              "#6ece58"
             ],
             [
              0.8888888888888888,
              "#b5de2b"
             ],
             [
              1,
              "#fde725"
             ]
            ],
            "type": "heatmapgl"
           }
          ],
          "histogram": [
           {
            "marker": {
             "line": {
              "color": "white",
              "width": 0.6
             }
            },
            "type": "histogram"
           }
          ],
          "histogram2d": [
           {
            "colorbar": {
             "outlinewidth": 1,
             "tickcolor": "rgb(36,36,36)",
             "ticks": "outside"
            },
            "colorscale": [
             [
              0,
              "#440154"
             ],
             [
              0.1111111111111111,
              "#482878"
             ],
             [
              0.2222222222222222,
              "#3e4989"
             ],
             [
              0.3333333333333333,
              "#31688e"
             ],
             [
              0.4444444444444444,
              "#26828e"
             ],
             [
              0.5555555555555556,
              "#1f9e89"
             ],
             [
              0.6666666666666666,
              "#35b779"
             ],
             [
              0.7777777777777778,
              "#6ece58"
             ],
             [
              0.8888888888888888,
              "#b5de2b"
             ],
             [
              1,
              "#fde725"
             ]
            ],
            "type": "histogram2d"
           }
          ],
          "histogram2dcontour": [
           {
            "colorbar": {
             "outlinewidth": 1,
             "tickcolor": "rgb(36,36,36)",
             "ticks": "outside"
            },
            "colorscale": [
             [
              0,
              "#440154"
             ],
             [
              0.1111111111111111,
              "#482878"
             ],
             [
              0.2222222222222222,
              "#3e4989"
             ],
             [
              0.3333333333333333,
              "#31688e"
             ],
             [
              0.4444444444444444,
              "#26828e"
             ],
             [
              0.5555555555555556,
              "#1f9e89"
             ],
             [
              0.6666666666666666,
              "#35b779"
             ],
             [
              0.7777777777777778,
              "#6ece58"
             ],
             [
              0.8888888888888888,
              "#b5de2b"
             ],
             [
              1,
              "#fde725"
             ]
            ],
            "type": "histogram2dcontour"
           }
          ],
          "mesh3d": [
           {
            "colorbar": {
             "outlinewidth": 1,
             "tickcolor": "rgb(36,36,36)",
             "ticks": "outside"
            },
            "type": "mesh3d"
           }
          ],
          "parcoords": [
           {
            "line": {
             "colorbar": {
              "outlinewidth": 1,
              "tickcolor": "rgb(36,36,36)",
              "ticks": "outside"
             }
            },
            "type": "parcoords"
           }
          ],
          "pie": [
           {
            "automargin": true,
            "type": "pie"
           }
          ],
          "scatter": [
           {
            "fillpattern": {
             "fillmode": "overlay",
             "size": 10,
             "solidity": 0.2
            },
            "type": "scatter"
           }
          ],
          "scatter3d": [
           {
            "line": {
             "colorbar": {
              "outlinewidth": 1,
              "tickcolor": "rgb(36,36,36)",
              "ticks": "outside"
             }
            },
            "marker": {
             "colorbar": {
              "outlinewidth": 1,
              "tickcolor": "rgb(36,36,36)",
              "ticks": "outside"
             }
            },
            "type": "scatter3d"
           }
          ],
          "scattercarpet": [
           {
            "marker": {
             "colorbar": {
              "outlinewidth": 1,
              "tickcolor": "rgb(36,36,36)",
              "ticks": "outside"
             }
            },
            "type": "scattercarpet"
           }
          ],
          "scattergeo": [
           {
            "marker": {
             "colorbar": {
              "outlinewidth": 1,
              "tickcolor": "rgb(36,36,36)",
              "ticks": "outside"
             }
            },
            "type": "scattergeo"
           }
          ],
          "scattergl": [
           {
            "marker": {
             "colorbar": {
              "outlinewidth": 1,
              "tickcolor": "rgb(36,36,36)",
              "ticks": "outside"
             }
            },
            "type": "scattergl"
           }
          ],
          "scattermapbox": [
           {
            "marker": {
             "colorbar": {
              "outlinewidth": 1,
              "tickcolor": "rgb(36,36,36)",
              "ticks": "outside"
             }
            },
            "type": "scattermapbox"
           }
          ],
          "scatterpolar": [
           {
            "marker": {
             "colorbar": {
              "outlinewidth": 1,
              "tickcolor": "rgb(36,36,36)",
              "ticks": "outside"
             }
            },
            "type": "scatterpolar"
           }
          ],
          "scatterpolargl": [
           {
            "marker": {
             "colorbar": {
              "outlinewidth": 1,
              "tickcolor": "rgb(36,36,36)",
              "ticks": "outside"
             }
            },
            "type": "scatterpolargl"
           }
          ],
          "scatterternary": [
           {
            "marker": {
             "colorbar": {
              "outlinewidth": 1,
              "tickcolor": "rgb(36,36,36)",
              "ticks": "outside"
             }
            },
            "type": "scatterternary"
           }
          ],
          "surface": [
           {
            "colorbar": {
             "outlinewidth": 1,
             "tickcolor": "rgb(36,36,36)",
             "ticks": "outside"
            },
            "colorscale": [
             [
              0,
              "#440154"
             ],
             [
              0.1111111111111111,
              "#482878"
             ],
             [
              0.2222222222222222,
              "#3e4989"
             ],
             [
              0.3333333333333333,
              "#31688e"
             ],
             [
              0.4444444444444444,
              "#26828e"
             ],
             [
              0.5555555555555556,
              "#1f9e89"
             ],
             [
              0.6666666666666666,
              "#35b779"
             ],
             [
              0.7777777777777778,
              "#6ece58"
             ],
             [
              0.8888888888888888,
              "#b5de2b"
             ],
             [
              1,
              "#fde725"
             ]
            ],
            "type": "surface"
           }
          ],
          "table": [
           {
            "cells": {
             "fill": {
              "color": "rgb(237,237,237)"
             },
             "line": {
              "color": "white"
             }
            },
            "header": {
             "fill": {
              "color": "rgb(217,217,217)"
             },
             "line": {
              "color": "white"
             }
            },
            "type": "table"
           }
          ]
         },
         "layout": {
          "annotationdefaults": {
           "arrowhead": 0,
           "arrowwidth": 1
          },
          "autotypenumbers": "strict",
          "coloraxis": {
           "colorbar": {
            "outlinewidth": 1,
            "tickcolor": "rgb(36,36,36)",
            "ticks": "outside"
           }
          },
          "colorscale": {
           "diverging": [
            [
             0,
             "rgb(103,0,31)"
            ],
            [
             0.1,
             "rgb(178,24,43)"
            ],
            [
             0.2,
             "rgb(214,96,77)"
            ],
            [
             0.3,
             "rgb(244,165,130)"
            ],
            [
             0.4,
             "rgb(253,219,199)"
            ],
            [
             0.5,
             "rgb(247,247,247)"
            ],
            [
             0.6,
             "rgb(209,229,240)"
            ],
            [
             0.7,
             "rgb(146,197,222)"
            ],
            [
             0.8,
             "rgb(67,147,195)"
            ],
            [
             0.9,
             "rgb(33,102,172)"
            ],
            [
             1,
             "rgb(5,48,97)"
            ]
           ],
           "sequential": [
            [
             0,
             "#440154"
            ],
            [
             0.1111111111111111,
             "#482878"
            ],
            [
             0.2222222222222222,
             "#3e4989"
            ],
            [
             0.3333333333333333,
             "#31688e"
            ],
            [
             0.4444444444444444,
             "#26828e"
            ],
            [
             0.5555555555555556,
             "#1f9e89"
            ],
            [
             0.6666666666666666,
             "#35b779"
            ],
            [
             0.7777777777777778,
             "#6ece58"
            ],
            [
             0.8888888888888888,
             "#b5de2b"
            ],
            [
             1,
             "#fde725"
            ]
           ],
           "sequentialminus": [
            [
             0,
             "#440154"
            ],
            [
             0.1111111111111111,
             "#482878"
            ],
            [
             0.2222222222222222,
             "#3e4989"
            ],
            [
             0.3333333333333333,
             "#31688e"
            ],
            [
             0.4444444444444444,
             "#26828e"
            ],
            [
             0.5555555555555556,
             "#1f9e89"
            ],
            [
             0.6666666666666666,
             "#35b779"
            ],
            [
             0.7777777777777778,
             "#6ece58"
            ],
            [
             0.8888888888888888,
             "#b5de2b"
            ],
            [
             1,
             "#fde725"
            ]
           ]
          },
          "colorway": [
           "#1F77B4",
           "#FF7F0E",
           "#2CA02C",
           "#D62728",
           "#9467BD",
           "#8C564B",
           "#E377C2",
           "#7F7F7F",
           "#BCBD22",
           "#17BECF"
          ],
          "font": {
           "color": "rgb(36,36,36)"
          },
          "geo": {
           "bgcolor": "white",
           "lakecolor": "white",
           "landcolor": "white",
           "showlakes": true,
           "showland": true,
           "subunitcolor": "white"
          },
          "hoverlabel": {
           "align": "left"
          },
          "hovermode": "closest",
          "mapbox": {
           "style": "light"
          },
          "paper_bgcolor": "white",
          "plot_bgcolor": "white",
          "polar": {
           "angularaxis": {
            "gridcolor": "rgb(232,232,232)",
            "linecolor": "rgb(36,36,36)",
            "showgrid": false,
            "showline": true,
            "ticks": "outside"
           },
           "bgcolor": "white",
           "radialaxis": {
            "gridcolor": "rgb(232,232,232)",
            "linecolor": "rgb(36,36,36)",
            "showgrid": false,
            "showline": true,
            "ticks": "outside"
           }
          },
          "scene": {
           "xaxis": {
            "backgroundcolor": "white",
            "gridcolor": "rgb(232,232,232)",
            "gridwidth": 2,
            "linecolor": "rgb(36,36,36)",
            "showbackground": true,
            "showgrid": false,
            "showline": true,
            "ticks": "outside",
            "zeroline": false,
            "zerolinecolor": "rgb(36,36,36)"
           },
           "yaxis": {
            "backgroundcolor": "white",
            "gridcolor": "rgb(232,232,232)",
            "gridwidth": 2,
            "linecolor": "rgb(36,36,36)",
            "showbackground": true,
            "showgrid": false,
            "showline": true,
            "ticks": "outside",
            "zeroline": false,
            "zerolinecolor": "rgb(36,36,36)"
           },
           "zaxis": {
            "backgroundcolor": "white",
            "gridcolor": "rgb(232,232,232)",
            "gridwidth": 2,
            "linecolor": "rgb(36,36,36)",
            "showbackground": true,
            "showgrid": false,
            "showline": true,
            "ticks": "outside",
            "zeroline": false,
            "zerolinecolor": "rgb(36,36,36)"
           }
          },
          "shapedefaults": {
           "fillcolor": "black",
           "line": {
            "width": 0
           },
           "opacity": 0.3
          },
          "ternary": {
           "aaxis": {
            "gridcolor": "rgb(232,232,232)",
            "linecolor": "rgb(36,36,36)",
            "showgrid": false,
            "showline": true,
            "ticks": "outside"
           },
           "baxis": {
            "gridcolor": "rgb(232,232,232)",
            "linecolor": "rgb(36,36,36)",
            "showgrid": false,
            "showline": true,
            "ticks": "outside"
           },
           "bgcolor": "white",
           "caxis": {
            "gridcolor": "rgb(232,232,232)",
            "linecolor": "rgb(36,36,36)",
            "showgrid": false,
            "showline": true,
            "ticks": "outside"
           }
          },
          "title": {
           "x": 0.05
          },
          "xaxis": {
           "automargin": true,
           "gridcolor": "rgb(232,232,232)",
           "linecolor": "rgb(36,36,36)",
           "showgrid": false,
           "showline": true,
           "ticks": "outside",
           "title": {
            "standoff": 15
           },
           "zeroline": false,
           "zerolinecolor": "rgb(36,36,36)"
          },
          "yaxis": {
           "automargin": true,
           "gridcolor": "rgb(232,232,232)",
           "linecolor": "rgb(36,36,36)",
           "showgrid": false,
           "showline": true,
           "ticks": "outside",
           "title": {
            "standoff": 15
           },
           "zeroline": false,
           "zerolinecolor": "rgb(36,36,36)"
          }
         }
        },
        "title": {
         "text": "First Lick Accuracy",
         "x": 0.5,
         "xanchor": "center",
         "y": 0.9
        },
        "width": 800,
        "xaxis": {
         "dtick": 1,
         "title": {
          "text": "Day"
         }
        },
        "yaxis": {
         "range": [
          0,
          100
         ],
         "title": {
          "text": "Percent Correct (%)"
         }
        }
       }
      },
      "text/html": [
       "<div>                            <div id=\"77fd9bbe-21a4-473f-b756-d8487c621518\" class=\"plotly-graph-div\" style=\"height:800px; width:800px;\"></div>            <script type=\"text/javascript\">                require([\"plotly\"], function(Plotly) {                    window.PLOTLYENV=window.PLOTLYENV || {};                                    if (document.getElementById(\"77fd9bbe-21a4-473f-b756-d8487c621518\")) {                    Plotly.newPlot(                        \"77fd9bbe-21a4-473f-b756-d8487c621518\",                        [{\"marker\":{\"color\":\"rgb(179,179,179)\",\"line\":{\"width\":1}},\"mode\":\"markers\",\"opacity\":0.5,\"x\":[1,2,3,4,5,6,7,8,9,10,11,12,13,14,15,16,17,18,19,20,1,2,3,4,5,6,7,8,9,10,11,12,13,14,15,16,17,18,19,20,1,2,3,4,5,6,7,8,9,10,11,12,13,14,15,16,17,18,19,20,1,2,3,4,5,6,7,8,9,10,11,12,13,14,15,16,17,18,19,20,21,22],\"y\":[41.17647058823529,39.285714285714285,42.30769230769231,40.0,49.48453608247423,53.84615384615385,31.08108108108108,26.82926829268293,68.14159292035397,66.36363636363637,26.31578947368421,34.18803418803419,56.09756097560976,36.08247422680412,77.27272727272727,63.565891472868216,76.72413793103449,76.92307692307693,47.96747967479675,45.86466165413533,31.25,41.66666666666667,65.34653465346535,17.543859649122805,45.45454545454545,79.0909090909091,76.22950819672131,44.303797468354425,56.14035087719298,56.25,80.23255813953489,74.19354838709677,75.1937984496124,84.17266187050359,91.91176470588235,93.38235294117648,91.25,85.58558558558559,80.50847457627118,73.38709677419355,24.691358024691358,57.25190839694656,59.13978494623656,55.47445255474452,81.66666666666667,29.906542056074763,50.943396226415096,51.724137931034484,71.42857142857143,76.22950819672131,42.857142857142854,88.52459016393442,74.57627118644068,73.94366197183099,82.27848101265823,63.1578947368421,86.11111111111111,90.9090909090909,90.37037037037037,90.0,63.87096774193548,27.611940298507463,51.61290322580645,66.66666666666666,79.72972972972973,92.06349206349206,40.27777777777778,null,82.6086956521739,73.91304347826086,null,50.43478260869565,90.47619047619048,57.14285714285714,44.5945945945946,52.4390243902439,58.69565217391305,48.333333333333336,58.490566037735846,77.58620689655173,86.04651162790698,80.95238095238095],\"type\":\"scatter\"},{\"error_y\":{\"array\":[8.57262976742377,6.095922247253353,4.967571656941694,10.637878211666955,9.635610814227155,13.785442143396034,9.75015070360351,7.379307242417811,5.445619876245886,4.502648472461164,15.947058214700046,12.108494319773445,7.033786709004534,10.51505392984683,10.266256803670776,8.800761348438906,7.161737689445283,9.483303553720965,9.75323028163027,9.308813360906692,null,null],\"type\":\"data\"},\"line\":{\"color\":\"rgb(172,78,163)\"},\"mode\":\"lines+markers\",\"x\":[1,2,3,4,5,6,7,8,9,10,11,12,13,14,15,16,17,18,19,20,21,22],\"y\":[40.24719908871553,41.45405741195874,54.60172878330017,44.9212447176335,64.08386948335402,63.72677426415744,49.63294082049882,40.95240123069061,69.57980271957308,68.18904700965464,49.80183015678731,61.835238836940256,74.08595527196333,62.83541380299896,74.01439189646561,68.13629088528268,78.19522530401466,75.43777168777169,69.33422266479354,71.70949133122015,86.04651162790698,80.95238095238095],\"type\":\"scatter\"}],                        {\"template\":{\"data\":{\"barpolar\":[{\"marker\":{\"line\":{\"color\":\"white\",\"width\":0.5},\"pattern\":{\"fillmode\":\"overlay\",\"size\":10,\"solidity\":0.2}},\"type\":\"barpolar\"}],\"bar\":[{\"error_x\":{\"color\":\"rgb(36,36,36)\"},\"error_y\":{\"color\":\"rgb(36,36,36)\"},\"marker\":{\"line\":{\"color\":\"white\",\"width\":0.5},\"pattern\":{\"fillmode\":\"overlay\",\"size\":10,\"solidity\":0.2}},\"type\":\"bar\"}],\"carpet\":[{\"aaxis\":{\"endlinecolor\":\"rgb(36,36,36)\",\"gridcolor\":\"white\",\"linecolor\":\"white\",\"minorgridcolor\":\"white\",\"startlinecolor\":\"rgb(36,36,36)\"},\"baxis\":{\"endlinecolor\":\"rgb(36,36,36)\",\"gridcolor\":\"white\",\"linecolor\":\"white\",\"minorgridcolor\":\"white\",\"startlinecolor\":\"rgb(36,36,36)\"},\"type\":\"carpet\"}],\"choropleth\":[{\"colorbar\":{\"outlinewidth\":1,\"tickcolor\":\"rgb(36,36,36)\",\"ticks\":\"outside\"},\"type\":\"choropleth\"}],\"contourcarpet\":[{\"colorbar\":{\"outlinewidth\":1,\"tickcolor\":\"rgb(36,36,36)\",\"ticks\":\"outside\"},\"type\":\"contourcarpet\"}],\"contour\":[{\"colorbar\":{\"outlinewidth\":1,\"tickcolor\":\"rgb(36,36,36)\",\"ticks\":\"outside\"},\"colorscale\":[[0.0,\"#440154\"],[0.1111111111111111,\"#482878\"],[0.2222222222222222,\"#3e4989\"],[0.3333333333333333,\"#31688e\"],[0.4444444444444444,\"#26828e\"],[0.5555555555555556,\"#1f9e89\"],[0.6666666666666666,\"#35b779\"],[0.7777777777777778,\"#6ece58\"],[0.8888888888888888,\"#b5de2b\"],[1.0,\"#fde725\"]],\"type\":\"contour\"}],\"heatmapgl\":[{\"colorbar\":{\"outlinewidth\":1,\"tickcolor\":\"rgb(36,36,36)\",\"ticks\":\"outside\"},\"colorscale\":[[0.0,\"#440154\"],[0.1111111111111111,\"#482878\"],[0.2222222222222222,\"#3e4989\"],[0.3333333333333333,\"#31688e\"],[0.4444444444444444,\"#26828e\"],[0.5555555555555556,\"#1f9e89\"],[0.6666666666666666,\"#35b779\"],[0.7777777777777778,\"#6ece58\"],[0.8888888888888888,\"#b5de2b\"],[1.0,\"#fde725\"]],\"type\":\"heatmapgl\"}],\"heatmap\":[{\"colorbar\":{\"outlinewidth\":1,\"tickcolor\":\"rgb(36,36,36)\",\"ticks\":\"outside\"},\"colorscale\":[[0.0,\"#440154\"],[0.1111111111111111,\"#482878\"],[0.2222222222222222,\"#3e4989\"],[0.3333333333333333,\"#31688e\"],[0.4444444444444444,\"#26828e\"],[0.5555555555555556,\"#1f9e89\"],[0.6666666666666666,\"#35b779\"],[0.7777777777777778,\"#6ece58\"],[0.8888888888888888,\"#b5de2b\"],[1.0,\"#fde725\"]],\"type\":\"heatmap\"}],\"histogram2dcontour\":[{\"colorbar\":{\"outlinewidth\":1,\"tickcolor\":\"rgb(36,36,36)\",\"ticks\":\"outside\"},\"colorscale\":[[0.0,\"#440154\"],[0.1111111111111111,\"#482878\"],[0.2222222222222222,\"#3e4989\"],[0.3333333333333333,\"#31688e\"],[0.4444444444444444,\"#26828e\"],[0.5555555555555556,\"#1f9e89\"],[0.6666666666666666,\"#35b779\"],[0.7777777777777778,\"#6ece58\"],[0.8888888888888888,\"#b5de2b\"],[1.0,\"#fde725\"]],\"type\":\"histogram2dcontour\"}],\"histogram2d\":[{\"colorbar\":{\"outlinewidth\":1,\"tickcolor\":\"rgb(36,36,36)\",\"ticks\":\"outside\"},\"colorscale\":[[0.0,\"#440154\"],[0.1111111111111111,\"#482878\"],[0.2222222222222222,\"#3e4989\"],[0.3333333333333333,\"#31688e\"],[0.4444444444444444,\"#26828e\"],[0.5555555555555556,\"#1f9e89\"],[0.6666666666666666,\"#35b779\"],[0.7777777777777778,\"#6ece58\"],[0.8888888888888888,\"#b5de2b\"],[1.0,\"#fde725\"]],\"type\":\"histogram2d\"}],\"histogram\":[{\"marker\":{\"line\":{\"color\":\"white\",\"width\":0.6}},\"type\":\"histogram\"}],\"mesh3d\":[{\"colorbar\":{\"outlinewidth\":1,\"tickcolor\":\"rgb(36,36,36)\",\"ticks\":\"outside\"},\"type\":\"mesh3d\"}],\"parcoords\":[{\"line\":{\"colorbar\":{\"outlinewidth\":1,\"tickcolor\":\"rgb(36,36,36)\",\"ticks\":\"outside\"}},\"type\":\"parcoords\"}],\"pie\":[{\"automargin\":true,\"type\":\"pie\"}],\"scatter3d\":[{\"line\":{\"colorbar\":{\"outlinewidth\":1,\"tickcolor\":\"rgb(36,36,36)\",\"ticks\":\"outside\"}},\"marker\":{\"colorbar\":{\"outlinewidth\":1,\"tickcolor\":\"rgb(36,36,36)\",\"ticks\":\"outside\"}},\"type\":\"scatter3d\"}],\"scattercarpet\":[{\"marker\":{\"colorbar\":{\"outlinewidth\":1,\"tickcolor\":\"rgb(36,36,36)\",\"ticks\":\"outside\"}},\"type\":\"scattercarpet\"}],\"scattergeo\":[{\"marker\":{\"colorbar\":{\"outlinewidth\":1,\"tickcolor\":\"rgb(36,36,36)\",\"ticks\":\"outside\"}},\"type\":\"scattergeo\"}],\"scattergl\":[{\"marker\":{\"colorbar\":{\"outlinewidth\":1,\"tickcolor\":\"rgb(36,36,36)\",\"ticks\":\"outside\"}},\"type\":\"scattergl\"}],\"scattermapbox\":[{\"marker\":{\"colorbar\":{\"outlinewidth\":1,\"tickcolor\":\"rgb(36,36,36)\",\"ticks\":\"outside\"}},\"type\":\"scattermapbox\"}],\"scatterpolargl\":[{\"marker\":{\"colorbar\":{\"outlinewidth\":1,\"tickcolor\":\"rgb(36,36,36)\",\"ticks\":\"outside\"}},\"type\":\"scatterpolargl\"}],\"scatterpolar\":[{\"marker\":{\"colorbar\":{\"outlinewidth\":1,\"tickcolor\":\"rgb(36,36,36)\",\"ticks\":\"outside\"}},\"type\":\"scatterpolar\"}],\"scatter\":[{\"fillpattern\":{\"fillmode\":\"overlay\",\"size\":10,\"solidity\":0.2},\"type\":\"scatter\"}],\"scatterternary\":[{\"marker\":{\"colorbar\":{\"outlinewidth\":1,\"tickcolor\":\"rgb(36,36,36)\",\"ticks\":\"outside\"}},\"type\":\"scatterternary\"}],\"surface\":[{\"colorbar\":{\"outlinewidth\":1,\"tickcolor\":\"rgb(36,36,36)\",\"ticks\":\"outside\"},\"colorscale\":[[0.0,\"#440154\"],[0.1111111111111111,\"#482878\"],[0.2222222222222222,\"#3e4989\"],[0.3333333333333333,\"#31688e\"],[0.4444444444444444,\"#26828e\"],[0.5555555555555556,\"#1f9e89\"],[0.6666666666666666,\"#35b779\"],[0.7777777777777778,\"#6ece58\"],[0.8888888888888888,\"#b5de2b\"],[1.0,\"#fde725\"]],\"type\":\"surface\"}],\"table\":[{\"cells\":{\"fill\":{\"color\":\"rgb(237,237,237)\"},\"line\":{\"color\":\"white\"}},\"header\":{\"fill\":{\"color\":\"rgb(217,217,217)\"},\"line\":{\"color\":\"white\"}},\"type\":\"table\"}]},\"layout\":{\"annotationdefaults\":{\"arrowhead\":0,\"arrowwidth\":1},\"autotypenumbers\":\"strict\",\"coloraxis\":{\"colorbar\":{\"outlinewidth\":1,\"tickcolor\":\"rgb(36,36,36)\",\"ticks\":\"outside\"}},\"colorscale\":{\"diverging\":[[0.0,\"rgb(103,0,31)\"],[0.1,\"rgb(178,24,43)\"],[0.2,\"rgb(214,96,77)\"],[0.3,\"rgb(244,165,130)\"],[0.4,\"rgb(253,219,199)\"],[0.5,\"rgb(247,247,247)\"],[0.6,\"rgb(209,229,240)\"],[0.7,\"rgb(146,197,222)\"],[0.8,\"rgb(67,147,195)\"],[0.9,\"rgb(33,102,172)\"],[1.0,\"rgb(5,48,97)\"]],\"sequential\":[[0.0,\"#440154\"],[0.1111111111111111,\"#482878\"],[0.2222222222222222,\"#3e4989\"],[0.3333333333333333,\"#31688e\"],[0.4444444444444444,\"#26828e\"],[0.5555555555555556,\"#1f9e89\"],[0.6666666666666666,\"#35b779\"],[0.7777777777777778,\"#6ece58\"],[0.8888888888888888,\"#b5de2b\"],[1.0,\"#fde725\"]],\"sequentialminus\":[[0.0,\"#440154\"],[0.1111111111111111,\"#482878\"],[0.2222222222222222,\"#3e4989\"],[0.3333333333333333,\"#31688e\"],[0.4444444444444444,\"#26828e\"],[0.5555555555555556,\"#1f9e89\"],[0.6666666666666666,\"#35b779\"],[0.7777777777777778,\"#6ece58\"],[0.8888888888888888,\"#b5de2b\"],[1.0,\"#fde725\"]]},\"colorway\":[\"#1F77B4\",\"#FF7F0E\",\"#2CA02C\",\"#D62728\",\"#9467BD\",\"#8C564B\",\"#E377C2\",\"#7F7F7F\",\"#BCBD22\",\"#17BECF\"],\"font\":{\"color\":\"rgb(36,36,36)\"},\"geo\":{\"bgcolor\":\"white\",\"lakecolor\":\"white\",\"landcolor\":\"white\",\"showlakes\":true,\"showland\":true,\"subunitcolor\":\"white\"},\"hoverlabel\":{\"align\":\"left\"},\"hovermode\":\"closest\",\"mapbox\":{\"style\":\"light\"},\"paper_bgcolor\":\"white\",\"plot_bgcolor\":\"white\",\"polar\":{\"angularaxis\":{\"gridcolor\":\"rgb(232,232,232)\",\"linecolor\":\"rgb(36,36,36)\",\"showgrid\":false,\"showline\":true,\"ticks\":\"outside\"},\"bgcolor\":\"white\",\"radialaxis\":{\"gridcolor\":\"rgb(232,232,232)\",\"linecolor\":\"rgb(36,36,36)\",\"showgrid\":false,\"showline\":true,\"ticks\":\"outside\"}},\"scene\":{\"xaxis\":{\"backgroundcolor\":\"white\",\"gridcolor\":\"rgb(232,232,232)\",\"gridwidth\":2,\"linecolor\":\"rgb(36,36,36)\",\"showbackground\":true,\"showgrid\":false,\"showline\":true,\"ticks\":\"outside\",\"zeroline\":false,\"zerolinecolor\":\"rgb(36,36,36)\"},\"yaxis\":{\"backgroundcolor\":\"white\",\"gridcolor\":\"rgb(232,232,232)\",\"gridwidth\":2,\"linecolor\":\"rgb(36,36,36)\",\"showbackground\":true,\"showgrid\":false,\"showline\":true,\"ticks\":\"outside\",\"zeroline\":false,\"zerolinecolor\":\"rgb(36,36,36)\"},\"zaxis\":{\"backgroundcolor\":\"white\",\"gridcolor\":\"rgb(232,232,232)\",\"gridwidth\":2,\"linecolor\":\"rgb(36,36,36)\",\"showbackground\":true,\"showgrid\":false,\"showline\":true,\"ticks\":\"outside\",\"zeroline\":false,\"zerolinecolor\":\"rgb(36,36,36)\"}},\"shapedefaults\":{\"fillcolor\":\"black\",\"line\":{\"width\":0},\"opacity\":0.3},\"ternary\":{\"aaxis\":{\"gridcolor\":\"rgb(232,232,232)\",\"linecolor\":\"rgb(36,36,36)\",\"showgrid\":false,\"showline\":true,\"ticks\":\"outside\"},\"baxis\":{\"gridcolor\":\"rgb(232,232,232)\",\"linecolor\":\"rgb(36,36,36)\",\"showgrid\":false,\"showline\":true,\"ticks\":\"outside\"},\"bgcolor\":\"white\",\"caxis\":{\"gridcolor\":\"rgb(232,232,232)\",\"linecolor\":\"rgb(36,36,36)\",\"showgrid\":false,\"showline\":true,\"ticks\":\"outside\"}},\"title\":{\"x\":0.05},\"xaxis\":{\"automargin\":true,\"gridcolor\":\"rgb(232,232,232)\",\"linecolor\":\"rgb(36,36,36)\",\"showgrid\":false,\"showline\":true,\"ticks\":\"outside\",\"title\":{\"standoff\":15},\"zeroline\":false,\"zerolinecolor\":\"rgb(36,36,36)\"},\"yaxis\":{\"automargin\":true,\"gridcolor\":\"rgb(232,232,232)\",\"linecolor\":\"rgb(36,36,36)\",\"showgrid\":false,\"showline\":true,\"ticks\":\"outside\",\"title\":{\"standoff\":15},\"zeroline\":false,\"zerolinecolor\":\"rgb(36,36,36)\"}}},\"xaxis\":{\"title\":{\"text\":\"Day\"},\"dtick\":1},\"showlegend\":false,\"yaxis\":{\"title\":{\"text\":\"Percent Correct (%)\"},\"range\":[0,100]},\"title\":{\"text\":\"First Lick Accuracy\",\"xanchor\":\"center\",\"y\":0.9,\"x\":0.5},\"shapes\":[{\"line\":{\"color\":\"black\",\"dash\":\"dash\",\"width\":1},\"type\":\"line\",\"x0\":0,\"x1\":1,\"xref\":\"x domain\",\"y0\":75,\"y1\":75,\"yref\":\"y\"},{\"line\":{\"color\":\"black\",\"dash\":\"dash\",\"width\":1},\"type\":\"line\",\"x0\":5.5,\"x1\":5.5,\"xref\":\"x\",\"y0\":0,\"y1\":1,\"yref\":\"y domain\"},{\"line\":{\"color\":\"black\",\"dash\":\"dash\",\"width\":1},\"type\":\"line\",\"x0\":10.5,\"x1\":10.5,\"xref\":\"x\",\"y0\":0,\"y1\":1,\"yref\":\"y domain\"},{\"line\":{\"color\":\"black\",\"dash\":\"dash\",\"width\":1},\"type\":\"line\",\"x0\":15.5,\"x1\":15.5,\"xref\":\"x\",\"y0\":0,\"y1\":1,\"yref\":\"y domain\"}],\"width\":800,\"height\":800},                        {\"responsive\": true}                    ).then(function(){\n",
       "                            \n",
       "var gd = document.getElementById('77fd9bbe-21a4-473f-b756-d8487c621518');\n",
       "var x = new MutationObserver(function (mutations, observer) {{\n",
       "        var display = window.getComputedStyle(gd).display;\n",
       "        if (!display || display === 'none') {{\n",
       "            console.log([gd, 'removed!']);\n",
       "            Plotly.purge(gd);\n",
       "            observer.disconnect();\n",
       "        }}\n",
       "}});\n",
       "\n",
       "// Listen for the removal of the full notebook cells\n",
       "var notebookContainer = gd.closest('#notebook-container');\n",
       "if (notebookContainer) {{\n",
       "    x.observe(notebookContainer, {childList: true});\n",
       "}}\n",
       "\n",
       "// Listen for the clearing of the current output cell\n",
       "var outputEl = gd.closest('.output');\n",
       "if (outputEl) {{\n",
       "    x.observe(outputEl, {childList: true});\n",
       "}}\n",
       "\n",
       "                        })                };                });            </script>        </div>"
      ]
     },
     "metadata": {},
     "output_type": "display_data"
    }
   ],
   "source": [
    "## Plot first lick accuracy\n",
    "fig = pf.plot_behavior_across_days(lick_accuracy, x_var = 'day', y_var = 'percent_correct', groupby_var = ['day'])\n",
    "fig.update_layout(yaxis_title = 'Percent Correct (%)')\n",
    "fig.update_layout(title = {'text': 'First Lick Accuracy',\n",
    "                                   'xanchor': 'center',\n",
    "                                   'y': 0.9,\n",
    "                                   'x': 0.5})\n",
    "fig.add_hline(y = 75, line_dash = 'dash', line_width = 1, line_color = 'black')\n",
    "fig.update_layout(width = 800, height = 800)\n",
    "fig.update_yaxes(range = [0, 100])\n",
    "## Add dashed lines to represent transitions\n",
    "transitions = [5, 10, 15]\n",
    "for value in transitions:\n",
    "    fig.add_vline(x = value + 0.5, line_dash = 'dash', line_width = 1, line_color = 'black')\n",
    "fig.update_xaxes(dtick=1)\n",
    "fig.show()"
   ]
  }
 ],
 "metadata": {
  "kernelspec": {
   "display_name": "Python 3",
   "language": "python",
   "name": "python3"
  },
  "language_info": {
   "codemirror_mode": {
    "name": "ipython",
    "version": 3
   },
   "file_extension": ".py",
   "mimetype": "text/x-python",
   "name": "python",
   "nbconvert_exporter": "python",
   "pygments_lexer": "ipython3",
   "version": "3.10.6"
  },
  "orig_nbformat": 4
 },
 "nbformat": 4,
 "nbformat_minor": 2
}
