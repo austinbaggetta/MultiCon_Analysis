{
 "cells": [
  {
   "cell_type": "code",
   "execution_count": 1,
   "metadata": {},
   "outputs": [
    {
     "name": "stderr",
     "output_type": "stream",
     "text": [
      "/home/austinbaggetta/.conda/envs/calcium/lib/python3.10/site-packages/outdated/utils.py:14: OutdatedPackageWarning: The package pingouin is out of date. Your version is 0.5.2, the latest is 0.5.4.\n",
      "Set the environment variable OUTDATED_IGNORE=1 to disable these warnings.\n",
      "  return warn(\n"
     ]
    }
   ],
   "source": [
    "%load_ext autoreload\n",
    "%autoreload 2\n",
    "import os\n",
    "import sys\n",
    "import numpy as np\n",
    "import pandas as pd\n",
    "import pingouin as pg\n",
    "import plotly.graph_objects as go\n",
    "from os.path import join as pjoin\n",
    "\n",
    "sys.path.append(\"../..\")\n",
    "import circletrack_behavior as ctb\n",
    "import plotting_functions as pf\n",
    "import place_cells as pc\n",
    "\n",
    "def set_groups(df): \n",
    "    df['group'] = df['mouse']\n",
    "    df['group'] = df['group'].replace({'mca24': 'Young Adult', 'mca25': 'Young Adult', 'mca26': 'Young Adult', 'mca27': 'Young Adult', \n",
    "                                       'mca28': 'Middle Age', 'mca29': 'Middle Age', 'mca30': 'Middle Age', 'mca31': 'Middle Age', \n",
    "                                       'mca32': 'Aged', 'mca33': 'Aged', 'mca34': 'Aged', 'mca35': 'Aged', \n",
    "                                       'mca36': 'Young Adult', 'mca37': 'Young Adult', 'mca38': 'Young Adult', 'mca39': 'Young Adult', \n",
    "                                       'mca40': 'Middle Age', 'mca41': 'Middle Age', 'mca42': 'Middle Age', 'mca43': 'Middle Age',\n",
    "                                       'mca44': 'Aged', 'mca45': 'Aged', 'mca46': 'Aged', 'mca47': 'Aged'})\n",
    "    return df"
   ]
  },
  {
   "attachments": {},
   "cell_type": "markdown",
   "metadata": {},
   "source": [
    "### The code below can be used to visualize results after each day."
   ]
  },
  {
   "cell_type": "code",
   "execution_count": null,
   "metadata": {},
   "outputs": [],
   "source": [
    "## Set path variables\n",
    "behavior_type = 'circletrack_data'\n",
    "csv_name = 'circle_track.csv'\n",
    "project_dir = 'MultiCon_Behavior'\n",
    "experiment_dir = 'MultiCon_Aging2'\n",
    "dpath = ''\n",
    "dpath = f'../../../{project_dir}/{experiment_dir}/{behavior_type}/data/**/**/**/{csv_name}'\n",
    "fig_path = (f'../../../{project_dir}/{experiment_dir}/intermediate_figures/')\n",
    "group_colors = ['red', 'midnightblue', 'darkgrey']\n",
    "group_colors_dict = {'Young Adult': 'darkgrey', 'Middle Age': 'midnightblue', 'Aged': 'red',\n",
    "                     'Young Adult Thresh3': 'turquoise', 'Young Adult Thresh5': 'midnightblue'}\n",
    "chance_color = 'darkgrey'\n",
    "\n",
    "if not os.path.exists(fig_path):\n",
    "    os.makedirs(fig_path)\n",
    "\n",
    "## Create file list dataframe\n",
    "file_list = ctb.get_file_list(dpath)\n",
    "mouse_id = []\n",
    "for file in file_list:\n",
    "    mouse_id.append(ctb.get_mouse(file, str2match='(mca[0-9]+)'))\n",
    "combined = ctb.combine(file_list, mouse_id)"
   ]
  },
  {
   "cell_type": "code",
   "execution_count": null,
   "metadata": {},
   "outputs": [],
   "source": [
    "lick_df = pd.DataFrame()\n",
    "for mouse in np.unique(mouse_id):\n",
    "    lick_data = ctb.get_lick_accuracy(combined, mouse)\n",
    "    lick_df = pd.concat([lick_df, lick_data], ignore_index=True)\n",
    "lick_df = set_groups(lick_df)\n",
    "## Lick accuracy plot\n",
    "fig = pf.plot_behavior_across_days(lick_df, x_var='day', y_var='percent_correct', groupby_var=['day', 'group'], plot_transitions=None,\n",
    "                                   marker_color=group_colors, avg_color='darkgrey', plot_datapoints=True,\n",
    "                                   x_title='Day', y_title='Lick Accuracy (%)', titles=['Circle Track: Lick Accuracy'], height=700, width=700)\n",
    "fig.show()\n",
    "# fig.write_image(pjoin(fig_path, 'lick_accuracy.png'))\n",
    "# lick_df.mixed_anova(dv='percent_correct', subject='mouse', within='day', between='group')"
   ]
  },
  {
   "cell_type": "code",
   "execution_count": null,
   "metadata": {},
   "outputs": [],
   "source": [
    "reward_df = pd.DataFrame()\n",
    "for mouse in np.unique(mouse_id):\n",
    "    reward_data = ctb.get_total_rewards(combined, mouse)\n",
    "    reward_df = pd.concat([reward_df, reward_data], ignore_index=True)\n",
    "reward_df = set_groups(reward_df)\n",
    "## Total rewards plot\n",
    "fig = pf.plot_behavior_across_days(reward_df, x_var='day', y_var='total_rewards', groupby_var=['day', 'group'], plot_transitions=None,\n",
    "                                   marker_color=group_colors, avg_color='darkgrey', expert_line=False, chance=False, plot_datapoints=True,\n",
    "                                   x_title='Day', y_title='Total Rewards', titles=['Circle Track: Rewards'], height=700, width=700)\n",
    "fig.show()\n",
    "# fig.write_image(pjoin(fig_path, 'total_rewards.png'))"
   ]
  },
  {
   "attachments": {},
   "cell_type": "markdown",
   "metadata": {},
   "source": [
    "### Set up run order for the day."
   ]
  },
  {
   "cell_type": "code",
   "execution_count": null,
   "metadata": {},
   "outputs": [],
   "source": [
    "day = 'Day 38' ## edit depending on day\n",
    "retired_mice = [] ## add retired mouse to this list\n",
    "maze_info = pd.read_csv(f'../../../{project_dir}/{experiment_dir}/maze_yml/maze_info.csv')\n",
    "todays_mazes = pd.read_csv(f'../../../{project_dir}/{experiment_dir}/maze_yml/{experiment_dir} - TodaysMazes.csv') ## download at end of the day\n",
    "run_dict = {'maze1': [], 'maze2': [], 'maze3': [], 'maze4': []}\n",
    "letter_dict = {'maze1': [], 'maze2': [], 'maze3': [], 'maze4': []}\n",
    "for mouse in np.unique(todays_mazes['Mouse']):\n",
    "    if mouse in retired_mice:\n",
    "        pass\n",
    "    else:\n",
    "        maze_letter = todays_mazes.loc[todays_mazes['Mouse'] == mouse, day].reset_index(drop=True)\n",
    "\n",
    "        if 'A' in maze_letter[0]:\n",
    "            maze_number = maze_info.loc[maze_info['Mouse'] == mouse, \"if 'A'\"].reset_index(drop=True)\n",
    "        elif 'B' in maze_letter[0]:\n",
    "            maze_number = maze_info.loc[maze_info['Mouse'] == mouse, \"if 'B'\"].reset_index(drop=True)\n",
    "        elif 'C' in maze_letter[0]:\n",
    "            maze_number = maze_info.loc[maze_info['Mouse'] == mouse, \"if 'C'\"].reset_index(drop=True)\n",
    "        elif 'D' in maze_letter[0]:\n",
    "            maze_number = maze_info.loc[maze_info['Mouse'] == mouse, \"if 'D'\"].reset_index(drop=True)\n",
    "\n",
    "        if maze_number[0] == 1:\n",
    "            run_dict['maze1'].append(mouse)\n",
    "            letter_dict['maze1'].append(maze_letter[0])\n",
    "        elif maze_number[0] == 2:\n",
    "            run_dict['maze2'].append(mouse)\n",
    "            letter_dict['maze2'].append(maze_letter[0])\n",
    "        elif maze_number[0] == 3:\n",
    "            run_dict['maze3'].append(mouse)\n",
    "            letter_dict['maze3'].append(maze_letter[0])\n",
    "        elif maze_number[0] == 4:\n",
    "            run_dict['maze4'].append(mouse)\n",
    "            letter_dict['maze4'].append(maze_letter[0])\n",
    "## Convert to dataframe to paste into excel         \n",
    "run_df = pd.DataFrame.from_dict(run_dict, orient='index').T \n",
    "letter_df = pd.DataFrame.from_dict(letter_dict, orient='index').T"
   ]
  },
  {
   "cell_type": "code",
   "execution_count": null,
   "metadata": {},
   "outputs": [],
   "source": [
    "run_df"
   ]
  },
  {
   "cell_type": "code",
   "execution_count": null,
   "metadata": {},
   "outputs": [],
   "source": [
    "letter_df"
   ]
  },
  {
   "cell_type": "markdown",
   "metadata": {},
   "source": [
    "### Analyze preprocessed behavior data."
   ]
  },
  {
   "cell_type": "code",
   "execution_count": 2,
   "metadata": {},
   "outputs": [],
   "source": [
    "## Settings\n",
    "project_dir = 'MultiCon_Behavior'\n",
    "experiment_dir = 'MultiCon_Aging2'\n",
    "lin_path = f'../../../{project_dir}/{experiment_dir}/output/lin_behav/'\n",
    "circle_path = f'../../../{project_dir}/{experiment_dir}/output/behav/'\n",
    "fig_path = f'../../../{project_dir}/{experiment_dir}/intermediate_figures'\n",
    "young_adult = [f'mca{x}' for x in np.arange(24, 28)] + [f'mca{x}' for x in np.arange(36, 40)]\n",
    "middle_aged = [f'mca{x}' for x in np.arange(28, 32)] + [f'mca{x}' for x in np.arange(40, 44)]\n",
    "aged = [f'mca{x}' for x in np.arange(32, 36)] + [f'mca{x}' for x in np.arange(44, 48)]\n",
    "three_color_plots = ['red', 'midnightblue', 'darkgrey']\n",
    "group_colors_dict = {'Young Adult': 'darkgrey', 'Middle Aged': 'midnightblue', 'Aged': 'red',\n",
    "                     'Young Adult Thresh1': 'darkgrey', 'Young Adult Thresh5': 'black',\n",
    "                     'Middle Aged Thresh1': 'turquoise', 'Middle Aged Thresh5': 'midnightblue',\n",
    "                     'Aged Thresh1': 'red', 'Aged Thresh5': 'darkred'}\n",
    "context_colors = ['midnightblue', 'red', 'darkorchid', 'forestgreen']\n",
    "chance_color = 'darkgrey'\n",
    "bin_size = 4 ## for binning across trials\n",
    "error_colors = ['rgba(169,169,169,0.4)', 'rgba(169,169,169,0.4)', 'rgba(169,169,169,0.4)'] ## rgba is the only way to get the error band transparent\n",
    "opacity = 0.8 ## for binning across trials"
   ]
  },
  {
   "cell_type": "markdown",
   "metadata": {},
   "source": [
    "### Linear track results."
   ]
  },
  {
   "cell_type": "code",
   "execution_count": null,
   "metadata": {},
   "outputs": [],
   "source": [
    "## Linear track rewards\n",
    "result_dict = {'mouse': [], 'day': [], 'group': [], 'rewards': []}\n",
    "for mouse in os.listdir(lin_path):\n",
    "    mouse_path = pjoin(lin_path, mouse)\n",
    "    group = 'Young Adult' if mouse in young_adult else 'Middle Aged' if mouse in middle_aged else 'Aged'\n",
    "    for idx, session in enumerate(os.listdir(mouse_path)):\n",
    "        behav = pd.read_feather(pjoin(mouse_path, f'{session}'))\n",
    "        result_dict['mouse'].append(mouse)\n",
    "        result_dict['day'].append(idx+1)\n",
    "        result_dict['group'].append(group)\n",
    "        result_dict['rewards'].append(np.sum(behav['water']))\n",
    "results_df = pd.DataFrame(result_dict)"
   ]
  },
  {
   "cell_type": "code",
   "execution_count": null,
   "metadata": {},
   "outputs": [],
   "source": [
    "## Plot rewards across days in linear track\n",
    "fig = pf.plot_behavior_across_days(results_df, x_var='day', y_var='rewards', groupby_var=['day', 'group'], plot_transitions=None,\n",
    "                                   marker_color=three_color_plots, avg_color='darkgrey', expert_line=False, chance=False,\n",
    "                                   x_title='Day', y_title='Rewards', titles=['Linear Track'], height=500, width=500)\n",
    "fig.show()\n",
    "results_df.mixed_anova(dv='rewards', within='day', subject='mouse', between='group')\n",
    "fig.write_image(pjoin(fig_path, 'linear_track_rewards.png'))\n",
    "results_df.mixed_anova(dv='rewards', subject='mouse', within='day', between='group')"
   ]
  },
  {
   "cell_type": "markdown",
   "metadata": {},
   "source": [
    "### Analyze circle track lick accuracy."
   ]
  },
  {
   "cell_type": "code",
   "execution_count": 24,
   "metadata": {},
   "outputs": [],
   "source": [
    "## Looking at first licks\n",
    "circletrack_results = {'mouse': [], 'day': [], 'group': [], 'session': [], 'lick_accuracy_thresh1': [], 'lick_accuracy_thresh5': [], 'rewards': []}\n",
    "for mouse in os.listdir(circle_path)[:-1]:\n",
    "    mouse_path = pjoin(circle_path, mouse)\n",
    "    group = 'Young Adult' if mouse in young_adult else 'Middle Aged' if mouse in middle_aged else 'Aged'\n",
    "    for idx, session in enumerate(os.listdir(mouse_path)):\n",
    "            behav = pd.read_feather(pjoin(mouse_path, f'{session}'))\n",
    "            behav_data = behav[~behav['probe']]\n",
    "            reward_one, reward_two = np.unique(behav['reward_one'])[0], np.unique(behav['reward_two'])[0]\n",
    "            pc_thresh1 = ctb.lick_accuracy(behav, port_one=reward_one, port_two=reward_two, lick_threshold=1, by_trials=False)\n",
    "            pc_thresh5 = ctb.lick_accuracy(behav, port_one=reward_one, port_two=reward_two, lick_threshold=5, by_trials=False)\n",
    "            circletrack_results['mouse'].append(mouse)\n",
    "            circletrack_results['day'].append(idx+1)\n",
    "            circletrack_results['group'].append(group)\n",
    "            circletrack_results['session'].append(np.unique(behav['session'])[0])\n",
    "            circletrack_results['lick_accuracy_thresh1'].append(pc_thresh1)\n",
    "            circletrack_results['lick_accuracy_thresh5'].append(pc_thresh5)\n",
    "            circletrack_results['rewards'].append(np.sum(behav_data['water']))\n",
    "ct_df = pd.DataFrame(circletrack_results)"
   ]
  },
  {
   "cell_type": "code",
   "execution_count": 27,
   "metadata": {},
   "outputs": [
    {
     "data": {
      "application/vnd.plotly.v1+json": {
       "config": {
        "plotlyServerURL": "https://plot.ly"
       },
       "data": [
        {
         "error_y": {
          "array": [
           1.9014290060497054,
           1.6916829842357364,
           3.146219488587383,
           4.738635721755817,
           7.759636923348472,
           3.4913851233219004,
           5.513821532508224,
           5.3010472767328665,
           4.385717627198397,
           5.189519107687401,
           6.055817453027554,
           5.574617124675786,
           4.029889478359465,
           4.538565088109438,
           4.715304983534762,
           5.877382481972845,
           5.256138303948481,
           3.9407764077658616,
           5.15076584379867,
           2.5353894839152966,
           3.0352048116797152,
           3.1785797234721094,
           3.161263362417192,
           4.219685944182415,
           4.635184866724587,
           4.435482869210282,
           5.243781361651811,
           5.649149247410749,
           5.194702389211208,
           6.762159365128353,
           4.878638476413763,
           8.489097030462712,
           11.015099942001612,
           5.7671925357254334,
           5.486820871436255,
           3.0734485467399817,
           3.4169046863429577,
           1.6056034482758628
          ],
          "type": "data"
         },
         "line": {
          "color": "red"
         },
         "mode": "lines+markers",
         "name": "Aged",
         "showlegend": true,
         "type": "scatter",
         "x": [
          1,
          2,
          3,
          4,
          5,
          6,
          7,
          8,
          9,
          10,
          11,
          12,
          13,
          14,
          15,
          16,
          17,
          18,
          19,
          20,
          21,
          22,
          23,
          24,
          25,
          26,
          27,
          28,
          29,
          30,
          31,
          32,
          33,
          34,
          35,
          36,
          37,
          38
         ],
         "y": [
          27.87330325533202,
          26.505893289224396,
          29.73534087229687,
          31.97214711746147,
          38.9344551962199,
          34.379234111765165,
          48.89256430527453,
          51.610551922102836,
          53.11788042211232,
          54.35723115684649,
          62.294827914441456,
          52.908249018757644,
          36.64917924489299,
          35.58301921075933,
          42.88131563870516,
          48.12928085862576,
          49.4974642854962,
          46.52745534799131,
          53.4264889922327,
          57.90683916484828,
          57.494922916587,
          50.54119998205111,
          54.468593443179984,
          59.84887042443244,
          54.69241212098737,
          53.883152606276234,
          50.09991969867867,
          57.52764917129558,
          57.92931651129849,
          56.66948637967359,
          56.79936697195985,
          64.00826356379936,
          59.90567439096851,
          44.71988230301101,
          49.54276492738032,
          54.389238020424195,
          60.351211255686025,
          54.01939655172414
         ]
        },
        {
         "error_y": {
          "array": [
           1.0761868571466289,
           1.772124458280388,
           2.8573979014451862,
           4.201318193542096,
           4.5719200019315585,
           4.427765855038409,
           4.26145348184165,
           3.3641838073432013,
           2.9978685244887164,
           5.862521978126051,
           5.719664657189233,
           8.22657283330638,
           5.7953220931021905,
           5.864835210262295,
           2.7828936168503806,
           2.9309418366659346,
           2.3969333570429114,
           4.328044452742144,
           4.570963802910121,
           2.8399561576596684,
           2.028878513439617,
           4.202060547605157,
           2.2326560859030975,
           2.346422533365941,
           3.649035438708297,
           3.9023825133498855,
           2.9653296125678112,
           3.0347631062517557,
           3.985507246376805,
           null
          ],
          "type": "data"
         },
         "line": {
          "color": "midnightblue"
         },
         "mode": "lines+markers",
         "name": "Middle Aged",
         "showlegend": true,
         "type": "scatter",
         "x": [
          1,
          2,
          3,
          4,
          5,
          6,
          7,
          8,
          9,
          10,
          11,
          12,
          13,
          14,
          15,
          16,
          17,
          18,
          19,
          20,
          21,
          22,
          23,
          24,
          25,
          26,
          27,
          28,
          29,
          30
         ],
         "y": [
          25.394324225146722,
          26.923496151281114,
          35.424236058781915,
          42.596520871389345,
          48.10686103520584,
          57.13740407996727,
          55.04596400814954,
          63.25092039379275,
          67.1491830103448,
          59.930861302380386,
          61.32190929370138,
          50.230907787115314,
          42.712431028604996,
          53.044593988101695,
          57.03616196902103,
          63.77621003979944,
          59.5336894146305,
          61.555500701073456,
          58.94672062659939,
          56.930135638340126,
          58.67078457478268,
          59.078897347546864,
          60.81548704160074,
          54.498072264498035,
          57.62825122262029,
          54.6790149611104,
          58.26629389225095,
          72.57499299130922,
          62.68115942028985,
          47.45762711864407
         ]
        },
        {
         "error_y": {
          "array": [
           1.2948538498513085,
           2.227041215116555,
           2.8166897902872097,
           1.251838687950447,
           4.272602984578999,
           2.580379949189114,
           5.433295564630813,
           3.309241302836833,
           2.297536695894116,
           1.8687014922759297,
           5.9644126145205165,
           6.225609258198985,
           3.3843061158755257,
           3.046701330251179,
           2.2955399895827364,
           3.0700366408948088,
           3.6640358978158916,
           2.967941021813866,
           4.143930792822156,
           6.1394784805105465,
           3.7885226033647776,
           2.8886996656058046,
           0.7654011862359731,
           3.5890699797420456,
           3.6047725397856194,
           1.598647293773578,
           null,
           null,
           null,
           null
          ],
          "type": "data"
         },
         "line": {
          "color": "darkgrey"
         },
         "mode": "lines+markers",
         "name": "Young Adult",
         "showlegend": true,
         "type": "scatter",
         "x": [
          1,
          2,
          3,
          4,
          5,
          6,
          7,
          8,
          9,
          10,
          11,
          12,
          13,
          14,
          15,
          16,
          17,
          18,
          19,
          20,
          21,
          22,
          23,
          24,
          25,
          26,
          27,
          28,
          29,
          30
         ],
         "y": [
          28.59532062972949,
          34.84157445460879,
          48.33569580237676,
          62.1288862284178,
          63.26870789419597,
          68.60807434114439,
          63.34294593972318,
          61.39968980720304,
          65.5325511448594,
          69.524928999777,
          68.48186307024653,
          64.69332577307031,
          44.16448586490811,
          53.45827092005771,
          59.27387046076096,
          64.22613156019071,
          64.62096146155676,
          60.7707732828767,
          65.19741275169778,
          50.58277187838806,
          52.56874438088964,
          60.34039944762066,
          65.70950652753423,
          62.95686793235617,
          59.625105265185425,
          51.77938771298812,
          57.961783439490446,
          67.14285714285714,
          60.84656084656085,
          65.06024096385542
         ]
        }
       ],
       "layout": {
        "annotations": [
         {
          "font": {
           "size": 22
          },
          "showarrow": false,
          "text": "Circle Track",
          "x": 0.5,
          "xanchor": "center",
          "xref": "paper",
          "y": 1,
          "yanchor": "bottom",
          "yref": "paper"
         }
        ],
        "font": {
         "family": "Arial",
         "size": 22
        },
        "height": 500,
        "shapes": [
         {
          "line": {
           "color": "darkgrey",
           "dash": "dash",
           "width": 1
          },
          "opacity": 1,
          "type": "line",
          "x0": 0,
          "x1": 1,
          "xref": "x domain",
          "y0": 75,
          "y1": 75,
          "yref": "y"
         },
         {
          "line": {
           "color": "darkgrey",
           "dash": "dash",
           "width": 1
          },
          "opacity": 1,
          "type": "line",
          "x0": 0,
          "x1": 1,
          "xref": "x domain",
          "y0": 25,
          "y1": 25,
          "yref": "y"
         }
        ],
        "template": {
         "data": {
          "bar": [
           {
            "error_x": {
             "color": "rgb(36,36,36)"
            },
            "error_y": {
             "color": "rgb(36,36,36)"
            },
            "marker": {
             "line": {
              "color": "white",
              "width": 0.5
             },
             "pattern": {
              "fillmode": "overlay",
              "size": 10,
              "solidity": 0.2
             }
            },
            "type": "bar"
           }
          ],
          "barpolar": [
           {
            "marker": {
             "line": {
              "color": "white",
              "width": 0.5
             },
             "pattern": {
              "fillmode": "overlay",
              "size": 10,
              "solidity": 0.2
             }
            },
            "type": "barpolar"
           }
          ],
          "carpet": [
           {
            "aaxis": {
             "endlinecolor": "rgb(36,36,36)",
             "gridcolor": "white",
             "linecolor": "white",
             "minorgridcolor": "white",
             "startlinecolor": "rgb(36,36,36)"
            },
            "baxis": {
             "endlinecolor": "rgb(36,36,36)",
             "gridcolor": "white",
             "linecolor": "white",
             "minorgridcolor": "white",
             "startlinecolor": "rgb(36,36,36)"
            },
            "type": "carpet"
           }
          ],
          "choropleth": [
           {
            "colorbar": {
             "outlinewidth": 1,
             "tickcolor": "rgb(36,36,36)",
             "ticks": "outside"
            },
            "type": "choropleth"
           }
          ],
          "contour": [
           {
            "colorbar": {
             "outlinewidth": 1,
             "tickcolor": "rgb(36,36,36)",
             "ticks": "outside"
            },
            "colorscale": [
             [
              0,
              "#440154"
             ],
             [
              0.1111111111111111,
              "#482878"
             ],
             [
              0.2222222222222222,
              "#3e4989"
             ],
             [
              0.3333333333333333,
              "#31688e"
             ],
             [
              0.4444444444444444,
              "#26828e"
             ],
             [
              0.5555555555555556,
              "#1f9e89"
             ],
             [
              0.6666666666666666,
              "#35b779"
             ],
             [
              0.7777777777777778,
              "#6ece58"
             ],
             [
              0.8888888888888888,
              "#b5de2b"
             ],
             [
              1,
              "#fde725"
             ]
            ],
            "type": "contour"
           }
          ],
          "contourcarpet": [
           {
            "colorbar": {
             "outlinewidth": 1,
             "tickcolor": "rgb(36,36,36)",
             "ticks": "outside"
            },
            "type": "contourcarpet"
           }
          ],
          "heatmap": [
           {
            "colorbar": {
             "outlinewidth": 1,
             "tickcolor": "rgb(36,36,36)",
             "ticks": "outside"
            },
            "colorscale": [
             [
              0,
              "#440154"
             ],
             [
              0.1111111111111111,
              "#482878"
             ],
             [
              0.2222222222222222,
              "#3e4989"
             ],
             [
              0.3333333333333333,
              "#31688e"
             ],
             [
              0.4444444444444444,
              "#26828e"
             ],
             [
              0.5555555555555556,
              "#1f9e89"
             ],
             [
              0.6666666666666666,
              "#35b779"
             ],
             [
              0.7777777777777778,
              "#6ece58"
             ],
             [
              0.8888888888888888,
              "#b5de2b"
             ],
             [
              1,
              "#fde725"
             ]
            ],
            "type": "heatmap"
           }
          ],
          "heatmapgl": [
           {
            "colorbar": {
             "outlinewidth": 1,
             "tickcolor": "rgb(36,36,36)",
             "ticks": "outside"
            },
            "colorscale": [
             [
              0,
              "#440154"
             ],
             [
              0.1111111111111111,
              "#482878"
             ],
             [
              0.2222222222222222,
              "#3e4989"
             ],
             [
              0.3333333333333333,
              "#31688e"
             ],
             [
              0.4444444444444444,
              "#26828e"
             ],
             [
              0.5555555555555556,
              "#1f9e89"
             ],
             [
              0.6666666666666666,
              "#35b779"
             ],
             [
              0.7777777777777778,
              "#6ece58"
             ],
             [
              0.8888888888888888,
              "#b5de2b"
             ],
             [
              1,
              "#fde725"
             ]
            ],
            "type": "heatmapgl"
           }
          ],
          "histogram": [
           {
            "marker": {
             "line": {
              "color": "white",
              "width": 0.6
             }
            },
            "type": "histogram"
           }
          ],
          "histogram2d": [
           {
            "colorbar": {
             "outlinewidth": 1,
             "tickcolor": "rgb(36,36,36)",
             "ticks": "outside"
            },
            "colorscale": [
             [
              0,
              "#440154"
             ],
             [
              0.1111111111111111,
              "#482878"
             ],
             [
              0.2222222222222222,
              "#3e4989"
             ],
             [
              0.3333333333333333,
              "#31688e"
             ],
             [
              0.4444444444444444,
              "#26828e"
             ],
             [
              0.5555555555555556,
              "#1f9e89"
             ],
             [
              0.6666666666666666,
              "#35b779"
             ],
             [
              0.7777777777777778,
              "#6ece58"
             ],
             [
              0.8888888888888888,
              "#b5de2b"
             ],
             [
              1,
              "#fde725"
             ]
            ],
            "type": "histogram2d"
           }
          ],
          "histogram2dcontour": [
           {
            "colorbar": {
             "outlinewidth": 1,
             "tickcolor": "rgb(36,36,36)",
             "ticks": "outside"
            },
            "colorscale": [
             [
              0,
              "#440154"
             ],
             [
              0.1111111111111111,
              "#482878"
             ],
             [
              0.2222222222222222,
              "#3e4989"
             ],
             [
              0.3333333333333333,
              "#31688e"
             ],
             [
              0.4444444444444444,
              "#26828e"
             ],
             [
              0.5555555555555556,
              "#1f9e89"
             ],
             [
              0.6666666666666666,
              "#35b779"
             ],
             [
              0.7777777777777778,
              "#6ece58"
             ],
             [
              0.8888888888888888,
              "#b5de2b"
             ],
             [
              1,
              "#fde725"
             ]
            ],
            "type": "histogram2dcontour"
           }
          ],
          "mesh3d": [
           {
            "colorbar": {
             "outlinewidth": 1,
             "tickcolor": "rgb(36,36,36)",
             "ticks": "outside"
            },
            "type": "mesh3d"
           }
          ],
          "parcoords": [
           {
            "line": {
             "colorbar": {
              "outlinewidth": 1,
              "tickcolor": "rgb(36,36,36)",
              "ticks": "outside"
             }
            },
            "type": "parcoords"
           }
          ],
          "pie": [
           {
            "automargin": true,
            "type": "pie"
           }
          ],
          "scatter": [
           {
            "fillpattern": {
             "fillmode": "overlay",
             "size": 10,
             "solidity": 0.2
            },
            "type": "scatter"
           }
          ],
          "scatter3d": [
           {
            "line": {
             "colorbar": {
              "outlinewidth": 1,
              "tickcolor": "rgb(36,36,36)",
              "ticks": "outside"
             }
            },
            "marker": {
             "colorbar": {
              "outlinewidth": 1,
              "tickcolor": "rgb(36,36,36)",
              "ticks": "outside"
             }
            },
            "type": "scatter3d"
           }
          ],
          "scattercarpet": [
           {
            "marker": {
             "colorbar": {
              "outlinewidth": 1,
              "tickcolor": "rgb(36,36,36)",
              "ticks": "outside"
             }
            },
            "type": "scattercarpet"
           }
          ],
          "scattergeo": [
           {
            "marker": {
             "colorbar": {
              "outlinewidth": 1,
              "tickcolor": "rgb(36,36,36)",
              "ticks": "outside"
             }
            },
            "type": "scattergeo"
           }
          ],
          "scattergl": [
           {
            "marker": {
             "colorbar": {
              "outlinewidth": 1,
              "tickcolor": "rgb(36,36,36)",
              "ticks": "outside"
             }
            },
            "type": "scattergl"
           }
          ],
          "scattermapbox": [
           {
            "marker": {
             "colorbar": {
              "outlinewidth": 1,
              "tickcolor": "rgb(36,36,36)",
              "ticks": "outside"
             }
            },
            "type": "scattermapbox"
           }
          ],
          "scatterpolar": [
           {
            "marker": {
             "colorbar": {
              "outlinewidth": 1,
              "tickcolor": "rgb(36,36,36)",
              "ticks": "outside"
             }
            },
            "type": "scatterpolar"
           }
          ],
          "scatterpolargl": [
           {
            "marker": {
             "colorbar": {
              "outlinewidth": 1,
              "tickcolor": "rgb(36,36,36)",
              "ticks": "outside"
             }
            },
            "type": "scatterpolargl"
           }
          ],
          "scatterternary": [
           {
            "marker": {
             "colorbar": {
              "outlinewidth": 1,
              "tickcolor": "rgb(36,36,36)",
              "ticks": "outside"
             }
            },
            "type": "scatterternary"
           }
          ],
          "surface": [
           {
            "colorbar": {
             "outlinewidth": 1,
             "tickcolor": "rgb(36,36,36)",
             "ticks": "outside"
            },
            "colorscale": [
             [
              0,
              "#440154"
             ],
             [
              0.1111111111111111,
              "#482878"
             ],
             [
              0.2222222222222222,
              "#3e4989"
             ],
             [
              0.3333333333333333,
              "#31688e"
             ],
             [
              0.4444444444444444,
              "#26828e"
             ],
             [
              0.5555555555555556,
              "#1f9e89"
             ],
             [
              0.6666666666666666,
              "#35b779"
             ],
             [
              0.7777777777777778,
              "#6ece58"
             ],
             [
              0.8888888888888888,
              "#b5de2b"
             ],
             [
              1,
              "#fde725"
             ]
            ],
            "type": "surface"
           }
          ],
          "table": [
           {
            "cells": {
             "fill": {
              "color": "rgb(237,237,237)"
             },
             "line": {
              "color": "white"
             }
            },
            "header": {
             "fill": {
              "color": "rgb(217,217,217)"
             },
             "line": {
              "color": "white"
             }
            },
            "type": "table"
           }
          ]
         },
         "layout": {
          "annotationdefaults": {
           "arrowhead": 0,
           "arrowwidth": 1
          },
          "autotypenumbers": "strict",
          "coloraxis": {
           "colorbar": {
            "outlinewidth": 1,
            "tickcolor": "rgb(36,36,36)",
            "ticks": "outside"
           }
          },
          "colorscale": {
           "diverging": [
            [
             0,
             "rgb(103,0,31)"
            ],
            [
             0.1,
             "rgb(178,24,43)"
            ],
            [
             0.2,
             "rgb(214,96,77)"
            ],
            [
             0.3,
             "rgb(244,165,130)"
            ],
            [
             0.4,
             "rgb(253,219,199)"
            ],
            [
             0.5,
             "rgb(247,247,247)"
            ],
            [
             0.6,
             "rgb(209,229,240)"
            ],
            [
             0.7,
             "rgb(146,197,222)"
            ],
            [
             0.8,
             "rgb(67,147,195)"
            ],
            [
             0.9,
             "rgb(33,102,172)"
            ],
            [
             1,
             "rgb(5,48,97)"
            ]
           ],
           "sequential": [
            [
             0,
             "#440154"
            ],
            [
             0.1111111111111111,
             "#482878"
            ],
            [
             0.2222222222222222,
             "#3e4989"
            ],
            [
             0.3333333333333333,
             "#31688e"
            ],
            [
             0.4444444444444444,
             "#26828e"
            ],
            [
             0.5555555555555556,
             "#1f9e89"
            ],
            [
             0.6666666666666666,
             "#35b779"
            ],
            [
             0.7777777777777778,
             "#6ece58"
            ],
            [
             0.8888888888888888,
             "#b5de2b"
            ],
            [
             1,
             "#fde725"
            ]
           ],
           "sequentialminus": [
            [
             0,
             "#440154"
            ],
            [
             0.1111111111111111,
             "#482878"
            ],
            [
             0.2222222222222222,
             "#3e4989"
            ],
            [
             0.3333333333333333,
             "#31688e"
            ],
            [
             0.4444444444444444,
             "#26828e"
            ],
            [
             0.5555555555555556,
             "#1f9e89"
            ],
            [
             0.6666666666666666,
             "#35b779"
            ],
            [
             0.7777777777777778,
             "#6ece58"
            ],
            [
             0.8888888888888888,
             "#b5de2b"
            ],
            [
             1,
             "#fde725"
            ]
           ]
          },
          "colorway": [
           "#1F77B4",
           "#FF7F0E",
           "#2CA02C",
           "#D62728",
           "#9467BD",
           "#8C564B",
           "#E377C2",
           "#7F7F7F",
           "#BCBD22",
           "#17BECF"
          ],
          "font": {
           "color": "rgb(36,36,36)"
          },
          "geo": {
           "bgcolor": "white",
           "lakecolor": "white",
           "landcolor": "white",
           "showlakes": true,
           "showland": true,
           "subunitcolor": "white"
          },
          "hoverlabel": {
           "align": "left"
          },
          "hovermode": "closest",
          "mapbox": {
           "style": "light"
          },
          "paper_bgcolor": "white",
          "plot_bgcolor": "white",
          "polar": {
           "angularaxis": {
            "gridcolor": "rgb(232,232,232)",
            "linecolor": "rgb(36,36,36)",
            "showgrid": false,
            "showline": true,
            "ticks": "outside"
           },
           "bgcolor": "white",
           "radialaxis": {
            "gridcolor": "rgb(232,232,232)",
            "linecolor": "rgb(36,36,36)",
            "showgrid": false,
            "showline": true,
            "ticks": "outside"
           }
          },
          "scene": {
           "xaxis": {
            "backgroundcolor": "white",
            "gridcolor": "rgb(232,232,232)",
            "gridwidth": 2,
            "linecolor": "rgb(36,36,36)",
            "showbackground": true,
            "showgrid": false,
            "showline": true,
            "ticks": "outside",
            "zeroline": false,
            "zerolinecolor": "rgb(36,36,36)"
           },
           "yaxis": {
            "backgroundcolor": "white",
            "gridcolor": "rgb(232,232,232)",
            "gridwidth": 2,
            "linecolor": "rgb(36,36,36)",
            "showbackground": true,
            "showgrid": false,
            "showline": true,
            "ticks": "outside",
            "zeroline": false,
            "zerolinecolor": "rgb(36,36,36)"
           },
           "zaxis": {
            "backgroundcolor": "white",
            "gridcolor": "rgb(232,232,232)",
            "gridwidth": 2,
            "linecolor": "rgb(36,36,36)",
            "showbackground": true,
            "showgrid": false,
            "showline": true,
            "ticks": "outside",
            "zeroline": false,
            "zerolinecolor": "rgb(36,36,36)"
           }
          },
          "shapedefaults": {
           "fillcolor": "black",
           "line": {
            "width": 0
           },
           "opacity": 0.3
          },
          "ternary": {
           "aaxis": {
            "gridcolor": "rgb(232,232,232)",
            "linecolor": "rgb(36,36,36)",
            "showgrid": false,
            "showline": true,
            "ticks": "outside"
           },
           "baxis": {
            "gridcolor": "rgb(232,232,232)",
            "linecolor": "rgb(36,36,36)",
            "showgrid": false,
            "showline": true,
            "ticks": "outside"
           },
           "bgcolor": "white",
           "caxis": {
            "gridcolor": "rgb(232,232,232)",
            "linecolor": "rgb(36,36,36)",
            "showgrid": false,
            "showline": true,
            "ticks": "outside"
           }
          },
          "title": {
           "x": 0.05
          },
          "xaxis": {
           "automargin": true,
           "gridcolor": "rgb(232,232,232)",
           "linecolor": "rgb(36,36,36)",
           "showgrid": false,
           "showline": true,
           "ticks": "outside",
           "title": {
            "standoff": 15
           },
           "zeroline": false,
           "zerolinecolor": "rgb(36,36,36)"
          },
          "yaxis": {
           "automargin": true,
           "gridcolor": "rgb(232,232,232)",
           "linecolor": "rgb(36,36,36)",
           "showgrid": false,
           "showline": true,
           "ticks": "outside",
           "title": {
            "standoff": 15
           },
           "zeroline": false,
           "zerolinecolor": "rgb(36,36,36)"
          }
         }
        },
        "title": {
         "x": 0.5,
         "xanchor": "center",
         "y": 0.9,
         "yanchor": "top"
        },
        "width": 500,
        "xaxis": {
         "anchor": "y",
         "domain": [
          0,
          1
         ],
         "linewidth": 1.5,
         "title": {
          "text": "Day"
         }
        },
        "yaxis": {
         "anchor": "x",
         "domain": [
          0,
          1
         ],
         "dtick": 25,
         "linewidth": 1.5,
         "range": [
          0,
          100
         ],
         "title": {
          "text": "Lick Accuracy"
         }
        }
       }
      },
      "text/html": [
       "<div>                            <div id=\"d3891a40-ddab-4944-b71e-958c0f2b1b88\" class=\"plotly-graph-div\" style=\"height:500px; width:500px;\"></div>            <script type=\"text/javascript\">                require([\"plotly\"], function(Plotly) {                    window.PLOTLYENV=window.PLOTLYENV || {};                                    if (document.getElementById(\"d3891a40-ddab-4944-b71e-958c0f2b1b88\")) {                    Plotly.newPlot(                        \"d3891a40-ddab-4944-b71e-958c0f2b1b88\",                        [{\"error_y\":{\"array\":[1.9014290060497054,1.6916829842357364,3.146219488587383,4.738635721755817,7.759636923348472,3.4913851233219004,5.513821532508224,5.3010472767328665,4.385717627198397,5.189519107687401,6.055817453027554,5.574617124675786,4.029889478359465,4.538565088109438,4.715304983534762,5.877382481972845,5.256138303948481,3.9407764077658616,5.15076584379867,2.5353894839152966,3.0352048116797152,3.1785797234721094,3.161263362417192,4.219685944182415,4.635184866724587,4.435482869210282,5.243781361651811,5.649149247410749,5.194702389211208,6.762159365128353,4.878638476413763,8.489097030462712,11.015099942001612,5.7671925357254334,5.486820871436255,3.0734485467399817,3.4169046863429577,1.6056034482758628],\"type\":\"data\"},\"line\":{\"color\":\"red\"},\"mode\":\"lines+markers\",\"name\":\"Aged\",\"showlegend\":true,\"x\":[1,2,3,4,5,6,7,8,9,10,11,12,13,14,15,16,17,18,19,20,21,22,23,24,25,26,27,28,29,30,31,32,33,34,35,36,37,38],\"y\":[27.87330325533202,26.505893289224396,29.73534087229687,31.97214711746147,38.9344551962199,34.379234111765165,48.89256430527453,51.610551922102836,53.11788042211232,54.35723115684649,62.294827914441456,52.908249018757644,36.64917924489299,35.58301921075933,42.88131563870516,48.12928085862576,49.4974642854962,46.52745534799131,53.4264889922327,57.90683916484828,57.494922916587,50.54119998205111,54.468593443179984,59.84887042443244,54.69241212098737,53.883152606276234,50.09991969867867,57.52764917129558,57.92931651129849,56.66948637967359,56.79936697195985,64.00826356379936,59.90567439096851,44.71988230301101,49.54276492738032,54.389238020424195,60.351211255686025,54.01939655172414],\"type\":\"scatter\"},{\"error_y\":{\"array\":[1.0761868571466289,1.772124458280388,2.8573979014451862,4.201318193542096,4.5719200019315585,4.427765855038409,4.26145348184165,3.3641838073432013,2.9978685244887164,5.862521978126051,5.719664657189233,8.22657283330638,5.7953220931021905,5.864835210262295,2.7828936168503806,2.9309418366659346,2.3969333570429114,4.328044452742144,4.570963802910121,2.8399561576596684,2.028878513439617,4.202060547605157,2.2326560859030975,2.346422533365941,3.649035438708297,3.9023825133498855,2.9653296125678112,3.0347631062517557,3.985507246376805,null],\"type\":\"data\"},\"line\":{\"color\":\"midnightblue\"},\"mode\":\"lines+markers\",\"name\":\"Middle Aged\",\"showlegend\":true,\"x\":[1,2,3,4,5,6,7,8,9,10,11,12,13,14,15,16,17,18,19,20,21,22,23,24,25,26,27,28,29,30],\"y\":[25.394324225146722,26.923496151281114,35.424236058781915,42.596520871389345,48.10686103520584,57.13740407996727,55.04596400814954,63.25092039379275,67.1491830103448,59.930861302380386,61.32190929370138,50.230907787115314,42.712431028604996,53.044593988101695,57.03616196902103,63.77621003979944,59.5336894146305,61.555500701073456,58.94672062659939,56.930135638340126,58.67078457478268,59.078897347546864,60.81548704160074,54.498072264498035,57.62825122262029,54.6790149611104,58.26629389225095,72.57499299130922,62.68115942028985,47.45762711864407],\"type\":\"scatter\"},{\"error_y\":{\"array\":[1.2948538498513085,2.227041215116555,2.8166897902872097,1.251838687950447,4.272602984578999,2.580379949189114,5.433295564630813,3.309241302836833,2.297536695894116,1.8687014922759297,5.9644126145205165,6.225609258198985,3.3843061158755257,3.046701330251179,2.2955399895827364,3.0700366408948088,3.6640358978158916,2.967941021813866,4.143930792822156,6.1394784805105465,3.7885226033647776,2.8886996656058046,0.7654011862359731,3.5890699797420456,3.6047725397856194,1.598647293773578,null,null,null,null],\"type\":\"data\"},\"line\":{\"color\":\"darkgrey\"},\"mode\":\"lines+markers\",\"name\":\"Young Adult\",\"showlegend\":true,\"x\":[1,2,3,4,5,6,7,8,9,10,11,12,13,14,15,16,17,18,19,20,21,22,23,24,25,26,27,28,29,30],\"y\":[28.59532062972949,34.84157445460879,48.33569580237676,62.1288862284178,63.26870789419597,68.60807434114439,63.34294593972318,61.39968980720304,65.5325511448594,69.524928999777,68.48186307024653,64.69332577307031,44.16448586490811,53.45827092005771,59.27387046076096,64.22613156019071,64.62096146155676,60.7707732828767,65.19741275169778,50.58277187838806,52.56874438088964,60.34039944762066,65.70950652753423,62.95686793235617,59.625105265185425,51.77938771298812,57.961783439490446,67.14285714285714,60.84656084656085,65.06024096385542],\"type\":\"scatter\"}],                        {\"template\":{\"data\":{\"barpolar\":[{\"marker\":{\"line\":{\"color\":\"white\",\"width\":0.5},\"pattern\":{\"fillmode\":\"overlay\",\"size\":10,\"solidity\":0.2}},\"type\":\"barpolar\"}],\"bar\":[{\"error_x\":{\"color\":\"rgb(36,36,36)\"},\"error_y\":{\"color\":\"rgb(36,36,36)\"},\"marker\":{\"line\":{\"color\":\"white\",\"width\":0.5},\"pattern\":{\"fillmode\":\"overlay\",\"size\":10,\"solidity\":0.2}},\"type\":\"bar\"}],\"carpet\":[{\"aaxis\":{\"endlinecolor\":\"rgb(36,36,36)\",\"gridcolor\":\"white\",\"linecolor\":\"white\",\"minorgridcolor\":\"white\",\"startlinecolor\":\"rgb(36,36,36)\"},\"baxis\":{\"endlinecolor\":\"rgb(36,36,36)\",\"gridcolor\":\"white\",\"linecolor\":\"white\",\"minorgridcolor\":\"white\",\"startlinecolor\":\"rgb(36,36,36)\"},\"type\":\"carpet\"}],\"choropleth\":[{\"colorbar\":{\"outlinewidth\":1,\"tickcolor\":\"rgb(36,36,36)\",\"ticks\":\"outside\"},\"type\":\"choropleth\"}],\"contourcarpet\":[{\"colorbar\":{\"outlinewidth\":1,\"tickcolor\":\"rgb(36,36,36)\",\"ticks\":\"outside\"},\"type\":\"contourcarpet\"}],\"contour\":[{\"colorbar\":{\"outlinewidth\":1,\"tickcolor\":\"rgb(36,36,36)\",\"ticks\":\"outside\"},\"colorscale\":[[0.0,\"#440154\"],[0.1111111111111111,\"#482878\"],[0.2222222222222222,\"#3e4989\"],[0.3333333333333333,\"#31688e\"],[0.4444444444444444,\"#26828e\"],[0.5555555555555556,\"#1f9e89\"],[0.6666666666666666,\"#35b779\"],[0.7777777777777778,\"#6ece58\"],[0.8888888888888888,\"#b5de2b\"],[1.0,\"#fde725\"]],\"type\":\"contour\"}],\"heatmapgl\":[{\"colorbar\":{\"outlinewidth\":1,\"tickcolor\":\"rgb(36,36,36)\",\"ticks\":\"outside\"},\"colorscale\":[[0.0,\"#440154\"],[0.1111111111111111,\"#482878\"],[0.2222222222222222,\"#3e4989\"],[0.3333333333333333,\"#31688e\"],[0.4444444444444444,\"#26828e\"],[0.5555555555555556,\"#1f9e89\"],[0.6666666666666666,\"#35b779\"],[0.7777777777777778,\"#6ece58\"],[0.8888888888888888,\"#b5de2b\"],[1.0,\"#fde725\"]],\"type\":\"heatmapgl\"}],\"heatmap\":[{\"colorbar\":{\"outlinewidth\":1,\"tickcolor\":\"rgb(36,36,36)\",\"ticks\":\"outside\"},\"colorscale\":[[0.0,\"#440154\"],[0.1111111111111111,\"#482878\"],[0.2222222222222222,\"#3e4989\"],[0.3333333333333333,\"#31688e\"],[0.4444444444444444,\"#26828e\"],[0.5555555555555556,\"#1f9e89\"],[0.6666666666666666,\"#35b779\"],[0.7777777777777778,\"#6ece58\"],[0.8888888888888888,\"#b5de2b\"],[1.0,\"#fde725\"]],\"type\":\"heatmap\"}],\"histogram2dcontour\":[{\"colorbar\":{\"outlinewidth\":1,\"tickcolor\":\"rgb(36,36,36)\",\"ticks\":\"outside\"},\"colorscale\":[[0.0,\"#440154\"],[0.1111111111111111,\"#482878\"],[0.2222222222222222,\"#3e4989\"],[0.3333333333333333,\"#31688e\"],[0.4444444444444444,\"#26828e\"],[0.5555555555555556,\"#1f9e89\"],[0.6666666666666666,\"#35b779\"],[0.7777777777777778,\"#6ece58\"],[0.8888888888888888,\"#b5de2b\"],[1.0,\"#fde725\"]],\"type\":\"histogram2dcontour\"}],\"histogram2d\":[{\"colorbar\":{\"outlinewidth\":1,\"tickcolor\":\"rgb(36,36,36)\",\"ticks\":\"outside\"},\"colorscale\":[[0.0,\"#440154\"],[0.1111111111111111,\"#482878\"],[0.2222222222222222,\"#3e4989\"],[0.3333333333333333,\"#31688e\"],[0.4444444444444444,\"#26828e\"],[0.5555555555555556,\"#1f9e89\"],[0.6666666666666666,\"#35b779\"],[0.7777777777777778,\"#6ece58\"],[0.8888888888888888,\"#b5de2b\"],[1.0,\"#fde725\"]],\"type\":\"histogram2d\"}],\"histogram\":[{\"marker\":{\"line\":{\"color\":\"white\",\"width\":0.6}},\"type\":\"histogram\"}],\"mesh3d\":[{\"colorbar\":{\"outlinewidth\":1,\"tickcolor\":\"rgb(36,36,36)\",\"ticks\":\"outside\"},\"type\":\"mesh3d\"}],\"parcoords\":[{\"line\":{\"colorbar\":{\"outlinewidth\":1,\"tickcolor\":\"rgb(36,36,36)\",\"ticks\":\"outside\"}},\"type\":\"parcoords\"}],\"pie\":[{\"automargin\":true,\"type\":\"pie\"}],\"scatter3d\":[{\"line\":{\"colorbar\":{\"outlinewidth\":1,\"tickcolor\":\"rgb(36,36,36)\",\"ticks\":\"outside\"}},\"marker\":{\"colorbar\":{\"outlinewidth\":1,\"tickcolor\":\"rgb(36,36,36)\",\"ticks\":\"outside\"}},\"type\":\"scatter3d\"}],\"scattercarpet\":[{\"marker\":{\"colorbar\":{\"outlinewidth\":1,\"tickcolor\":\"rgb(36,36,36)\",\"ticks\":\"outside\"}},\"type\":\"scattercarpet\"}],\"scattergeo\":[{\"marker\":{\"colorbar\":{\"outlinewidth\":1,\"tickcolor\":\"rgb(36,36,36)\",\"ticks\":\"outside\"}},\"type\":\"scattergeo\"}],\"scattergl\":[{\"marker\":{\"colorbar\":{\"outlinewidth\":1,\"tickcolor\":\"rgb(36,36,36)\",\"ticks\":\"outside\"}},\"type\":\"scattergl\"}],\"scattermapbox\":[{\"marker\":{\"colorbar\":{\"outlinewidth\":1,\"tickcolor\":\"rgb(36,36,36)\",\"ticks\":\"outside\"}},\"type\":\"scattermapbox\"}],\"scatterpolargl\":[{\"marker\":{\"colorbar\":{\"outlinewidth\":1,\"tickcolor\":\"rgb(36,36,36)\",\"ticks\":\"outside\"}},\"type\":\"scatterpolargl\"}],\"scatterpolar\":[{\"marker\":{\"colorbar\":{\"outlinewidth\":1,\"tickcolor\":\"rgb(36,36,36)\",\"ticks\":\"outside\"}},\"type\":\"scatterpolar\"}],\"scatter\":[{\"fillpattern\":{\"fillmode\":\"overlay\",\"size\":10,\"solidity\":0.2},\"type\":\"scatter\"}],\"scatterternary\":[{\"marker\":{\"colorbar\":{\"outlinewidth\":1,\"tickcolor\":\"rgb(36,36,36)\",\"ticks\":\"outside\"}},\"type\":\"scatterternary\"}],\"surface\":[{\"colorbar\":{\"outlinewidth\":1,\"tickcolor\":\"rgb(36,36,36)\",\"ticks\":\"outside\"},\"colorscale\":[[0.0,\"#440154\"],[0.1111111111111111,\"#482878\"],[0.2222222222222222,\"#3e4989\"],[0.3333333333333333,\"#31688e\"],[0.4444444444444444,\"#26828e\"],[0.5555555555555556,\"#1f9e89\"],[0.6666666666666666,\"#35b779\"],[0.7777777777777778,\"#6ece58\"],[0.8888888888888888,\"#b5de2b\"],[1.0,\"#fde725\"]],\"type\":\"surface\"}],\"table\":[{\"cells\":{\"fill\":{\"color\":\"rgb(237,237,237)\"},\"line\":{\"color\":\"white\"}},\"header\":{\"fill\":{\"color\":\"rgb(217,217,217)\"},\"line\":{\"color\":\"white\"}},\"type\":\"table\"}]},\"layout\":{\"annotationdefaults\":{\"arrowhead\":0,\"arrowwidth\":1},\"autotypenumbers\":\"strict\",\"coloraxis\":{\"colorbar\":{\"outlinewidth\":1,\"tickcolor\":\"rgb(36,36,36)\",\"ticks\":\"outside\"}},\"colorscale\":{\"diverging\":[[0.0,\"rgb(103,0,31)\"],[0.1,\"rgb(178,24,43)\"],[0.2,\"rgb(214,96,77)\"],[0.3,\"rgb(244,165,130)\"],[0.4,\"rgb(253,219,199)\"],[0.5,\"rgb(247,247,247)\"],[0.6,\"rgb(209,229,240)\"],[0.7,\"rgb(146,197,222)\"],[0.8,\"rgb(67,147,195)\"],[0.9,\"rgb(33,102,172)\"],[1.0,\"rgb(5,48,97)\"]],\"sequential\":[[0.0,\"#440154\"],[0.1111111111111111,\"#482878\"],[0.2222222222222222,\"#3e4989\"],[0.3333333333333333,\"#31688e\"],[0.4444444444444444,\"#26828e\"],[0.5555555555555556,\"#1f9e89\"],[0.6666666666666666,\"#35b779\"],[0.7777777777777778,\"#6ece58\"],[0.8888888888888888,\"#b5de2b\"],[1.0,\"#fde725\"]],\"sequentialminus\":[[0.0,\"#440154\"],[0.1111111111111111,\"#482878\"],[0.2222222222222222,\"#3e4989\"],[0.3333333333333333,\"#31688e\"],[0.4444444444444444,\"#26828e\"],[0.5555555555555556,\"#1f9e89\"],[0.6666666666666666,\"#35b779\"],[0.7777777777777778,\"#6ece58\"],[0.8888888888888888,\"#b5de2b\"],[1.0,\"#fde725\"]]},\"colorway\":[\"#1F77B4\",\"#FF7F0E\",\"#2CA02C\",\"#D62728\",\"#9467BD\",\"#8C564B\",\"#E377C2\",\"#7F7F7F\",\"#BCBD22\",\"#17BECF\"],\"font\":{\"color\":\"rgb(36,36,36)\"},\"geo\":{\"bgcolor\":\"white\",\"lakecolor\":\"white\",\"landcolor\":\"white\",\"showlakes\":true,\"showland\":true,\"subunitcolor\":\"white\"},\"hoverlabel\":{\"align\":\"left\"},\"hovermode\":\"closest\",\"mapbox\":{\"style\":\"light\"},\"paper_bgcolor\":\"white\",\"plot_bgcolor\":\"white\",\"polar\":{\"angularaxis\":{\"gridcolor\":\"rgb(232,232,232)\",\"linecolor\":\"rgb(36,36,36)\",\"showgrid\":false,\"showline\":true,\"ticks\":\"outside\"},\"bgcolor\":\"white\",\"radialaxis\":{\"gridcolor\":\"rgb(232,232,232)\",\"linecolor\":\"rgb(36,36,36)\",\"showgrid\":false,\"showline\":true,\"ticks\":\"outside\"}},\"scene\":{\"xaxis\":{\"backgroundcolor\":\"white\",\"gridcolor\":\"rgb(232,232,232)\",\"gridwidth\":2,\"linecolor\":\"rgb(36,36,36)\",\"showbackground\":true,\"showgrid\":false,\"showline\":true,\"ticks\":\"outside\",\"zeroline\":false,\"zerolinecolor\":\"rgb(36,36,36)\"},\"yaxis\":{\"backgroundcolor\":\"white\",\"gridcolor\":\"rgb(232,232,232)\",\"gridwidth\":2,\"linecolor\":\"rgb(36,36,36)\",\"showbackground\":true,\"showgrid\":false,\"showline\":true,\"ticks\":\"outside\",\"zeroline\":false,\"zerolinecolor\":\"rgb(36,36,36)\"},\"zaxis\":{\"backgroundcolor\":\"white\",\"gridcolor\":\"rgb(232,232,232)\",\"gridwidth\":2,\"linecolor\":\"rgb(36,36,36)\",\"showbackground\":true,\"showgrid\":false,\"showline\":true,\"ticks\":\"outside\",\"zeroline\":false,\"zerolinecolor\":\"rgb(36,36,36)\"}},\"shapedefaults\":{\"fillcolor\":\"black\",\"line\":{\"width\":0},\"opacity\":0.3},\"ternary\":{\"aaxis\":{\"gridcolor\":\"rgb(232,232,232)\",\"linecolor\":\"rgb(36,36,36)\",\"showgrid\":false,\"showline\":true,\"ticks\":\"outside\"},\"baxis\":{\"gridcolor\":\"rgb(232,232,232)\",\"linecolor\":\"rgb(36,36,36)\",\"showgrid\":false,\"showline\":true,\"ticks\":\"outside\"},\"bgcolor\":\"white\",\"caxis\":{\"gridcolor\":\"rgb(232,232,232)\",\"linecolor\":\"rgb(36,36,36)\",\"showgrid\":false,\"showline\":true,\"ticks\":\"outside\"}},\"title\":{\"x\":0.05},\"xaxis\":{\"automargin\":true,\"gridcolor\":\"rgb(232,232,232)\",\"linecolor\":\"rgb(36,36,36)\",\"showgrid\":false,\"showline\":true,\"ticks\":\"outside\",\"title\":{\"standoff\":15},\"zeroline\":false,\"zerolinecolor\":\"rgb(36,36,36)\"},\"yaxis\":{\"automargin\":true,\"gridcolor\":\"rgb(232,232,232)\",\"linecolor\":\"rgb(36,36,36)\",\"showgrid\":false,\"showline\":true,\"ticks\":\"outside\",\"title\":{\"standoff\":15},\"zeroline\":false,\"zerolinecolor\":\"rgb(36,36,36)\"}}},\"xaxis\":{\"anchor\":\"y\",\"domain\":[0.0,1.0],\"title\":{\"text\":\"Day\"},\"linewidth\":1.5},\"yaxis\":{\"anchor\":\"x\",\"domain\":[0.0,1.0],\"title\":{\"text\":\"Lick Accuracy\"},\"linewidth\":1.5,\"range\":[0,100],\"dtick\":25},\"annotations\":[{\"font\":{\"size\":22},\"showarrow\":false,\"text\":\"Circle Track\",\"x\":0.5,\"xanchor\":\"center\",\"xref\":\"paper\",\"y\":1.0,\"yanchor\":\"bottom\",\"yref\":\"paper\"}],\"title\":{\"y\":0.9,\"x\":0.5,\"xanchor\":\"center\",\"yanchor\":\"top\"},\"font\":{\"size\":22,\"family\":\"Arial\"},\"height\":500,\"width\":500,\"shapes\":[{\"line\":{\"color\":\"darkgrey\",\"dash\":\"dash\",\"width\":1},\"opacity\":1,\"type\":\"line\",\"x0\":0,\"x1\":1,\"xref\":\"x domain\",\"y0\":75,\"y1\":75,\"yref\":\"y\"},{\"line\":{\"color\":\"darkgrey\",\"dash\":\"dash\",\"width\":1},\"opacity\":1,\"type\":\"line\",\"x0\":0,\"x1\":1,\"xref\":\"x domain\",\"y0\":25,\"y1\":25,\"yref\":\"y\"}]},                        {\"responsive\": true}                    ).then(function(){\n",
       "                            \n",
       "var gd = document.getElementById('d3891a40-ddab-4944-b71e-958c0f2b1b88');\n",
       "var x = new MutationObserver(function (mutations, observer) {{\n",
       "        var display = window.getComputedStyle(gd).display;\n",
       "        if (!display || display === 'none') {{\n",
       "            console.log([gd, 'removed!']);\n",
       "            Plotly.purge(gd);\n",
       "            observer.disconnect();\n",
       "        }}\n",
       "}});\n",
       "\n",
       "// Listen for the removal of the full notebook cells\n",
       "var notebookContainer = gd.closest('#notebook-container');\n",
       "if (notebookContainer) {{\n",
       "    x.observe(notebookContainer, {childList: true});\n",
       "}}\n",
       "\n",
       "// Listen for the clearing of the current output cell\n",
       "var outputEl = gd.closest('.output');\n",
       "if (outputEl) {{\n",
       "    x.observe(outputEl, {childList: true});\n",
       "}}\n",
       "\n",
       "                        })                };                });            </script>        </div>"
      ]
     },
     "metadata": {},
     "output_type": "display_data"
    }
   ],
   "source": [
    "## Plot lick accuracy across days for thresh of 1\n",
    "fig = pf.plot_behavior_across_days(ct_df, x_var='day', y_var='lick_accuracy_thresh1', groupby_var=['day', 'group'], plot_transitions=None,\n",
    "                                   marker_color=three_color_plots, avg_color='darkgrey', expert_line=True, chance=True, plot_datapoints=False,\n",
    "                                   x_title='Day', y_title='Lick Accuracy', titles=['Circle Track'], height=500, width=500)\n",
    "fig.update_yaxes(range=[0, 100], dtick=25)\n",
    "fig.show()\n",
    "fig.write_image(pjoin(fig_path, 'lick_accuracy_thresh1.png'))\n",
    "# ct_df.mixed_anova(dv='lick_accuracy_thresh1', within='day', subject='mouse', between='group')"
   ]
  },
  {
   "cell_type": "code",
   "execution_count": 29,
   "metadata": {},
   "outputs": [
    {
     "data": {
      "application/vnd.plotly.v1+json": {
       "config": {
        "plotlyServerURL": "https://plot.ly"
       },
       "data": [
        {
         "error_y": {
          "array": [
           3.7828546869664583,
           3.6604698954913686,
           6.262891681132379,
           7.87436327064295,
           12.40023641079694,
           3.5068509208012033,
           5.95123945967207,
           4.383799048266261,
           6.037636406251668,
           5.1075006291509,
           5.749642028772611,
           8.042088311765246,
           6.881514184794158,
           5.6671435538798365,
           6.104362486609118,
           7.7039535920376485,
           6.504699597318343,
           6.268344133928982,
           6.38434559934134,
           3.0555186448706,
           3.068023888382728,
           4.043465551259618,
           3.281316324250883,
           3.622724905591118,
           5.26396941375467,
           5.610691906504982,
           7.639729894771809,
           6.6486513455794,
           6.688781589526753,
           7.051113296625753,
           5.144557995008487,
           6.8576200228127195,
           8.61723228077915,
           11.665088421150571,
           7.7702702702702675,
           2.2940115130165846,
           4.2452830188679265,
           2.3290986085904386
          ],
          "type": "data"
         },
         "line": {
          "color": "red"
         },
         "mode": "lines+markers",
         "name": "Aged",
         "showlegend": true,
         "type": "scatter",
         "x": [
          1,
          2,
          3,
          4,
          5,
          6,
          7,
          8,
          9,
          10,
          11,
          12,
          13,
          14,
          15,
          16,
          17,
          18,
          19,
          20,
          21,
          22,
          23,
          24,
          25,
          26,
          27,
          28,
          29,
          30,
          31,
          32,
          33,
          34,
          35,
          36,
          37,
          38
         ],
         "y": [
          29.048404642959515,
          28.039283085335715,
          33.67762814717365,
          39.000508824692695,
          42.34606545807106,
          43.784328730873455,
          60.365505724225144,
          66.66066548458357,
          68.83324561994151,
          70.9544169362504,
          75.58242407881848,
          63.0987112762171,
          36.966130470757435,
          46.47945318334574,
          54.51298790639496,
          61.42214678451617,
          62.9724778331801,
          63.41183988976102,
          71.33635010555348,
          76.68295281296369,
          73.61148145176813,
          65.3966168984874,
          70.80762517149043,
          74.81113082684607,
          69.3993883036348,
          68.06249551541742,
          63.20149704190622,
          70.51820820844436,
          75.21368144529016,
          72.28668812047125,
          70.58035506538228,
          77.86738351254479,
          76.66720246467082,
          61.39114724480578,
          66.1036036036036,
          69.55064868115818,
          76.88679245283018,
          67.84633998790079
         ]
        },
        {
         "error_y": {
          "array": [
           1.7939404824967324,
           2.642922636527446,
           5.046165947559775,
           5.969759812205109,
           7.031771385489008,
           5.170059666589383,
           5.366472155251325,
           3.2119996840523624,
           1.9750431806670772,
           4.137609844055427,
           6.743744167949489,
           10.310288440311874,
           7.588195623360257,
           6.863671190637024,
           3.3344697696749397,
           3.615160303870329,
           2.7236634873356036,
           4.9042978159142,
           4.18169425033135,
           3.573616448153507,
           2.265558175796086,
           3.8696350799335058,
           2.9080924080667554,
           3.3609807120954573,
           5.1926786769601,
           6.34003702084347,
           4.922271868204691,
           1.367937280346041,
           2.279469164715067,
           null
          ],
          "type": "data"
         },
         "line": {
          "color": "midnightblue"
         },
         "mode": "lines+markers",
         "name": "Middle Aged",
         "showlegend": true,
         "type": "scatter",
         "x": [
          1,
          2,
          3,
          4,
          5,
          6,
          7,
          8,
          9,
          10,
          11,
          12,
          13,
          14,
          15,
          16,
          17,
          18,
          19,
          20,
          21,
          22,
          23,
          24,
          25,
          26,
          27,
          28,
          29,
          30
         ],
         "y": [
          26.090250907121007,
          27.88044063779358,
          43.18309369800911,
          56.798154287585575,
          67.00500931820683,
          70.69400285372024,
          69.34568861402893,
          79.04154377093845,
          82.82968685956575,
          78.01317988806395,
          74.24269056293451,
          60.2833570069288,
          51.71577412838682,
          67.14732832349466,
          74.11855398344976,
          81.5811522436974,
          78.13588954736859,
          78.18715970399879,
          77.41669555864951,
          75.45726321382622,
          80.0981735040228,
          76.95830808027608,
          81.80524359495742,
          71.2259285033858,
          78.11340912432252,
          74.22716896772799,
          79.21907940328992,
          86.03947012706136,
          81.32708821233412,
          59.23076923076923
         ]
        },
        {
         "error_y": {
          "array": [
           1.8405315527835422,
           4.058154329125233,
           5.606550283089525,
           1.8505690419589251,
           4.4147901248637105,
           3.8359194384329967,
           6.730036697139455,
           4.1403868139442865,
           2.8471174091718865,
           1.8880842578156118,
           9.734449247567124,
           7.145733057045438,
           5.806340993748049,
           4.3908444681179315,
           2.960085719301026,
           1.914612458804527,
           4.969464942499666,
           3.6554160035192815,
           4.160174548235521,
           10.363643113105482,
           5.923519029951145,
           3.1513589848148253,
           1.5201205735799974,
           3.659834213100494,
           2.8390521562833726,
           4.692592923383666,
           null,
           null,
           null,
           null
          ],
          "type": "data"
         },
         "line": {
          "color": "darkgrey"
         },
         "mode": "lines+markers",
         "name": "Young Adult",
         "showlegend": true,
         "type": "scatter",
         "x": [
          1,
          2,
          3,
          4,
          5,
          6,
          7,
          8,
          9,
          10,
          11,
          12,
          13,
          14,
          15,
          16,
          17,
          18,
          19,
          20,
          21,
          22,
          23,
          24,
          25,
          26,
          27,
          28,
          29,
          30
         ],
         "y": [
          31.476196797835055,
          43.40790882761699,
          69.32881816398518,
          84.2382989720781,
          81.61125231947739,
          84.88544959962707,
          78.22530304700001,
          81.48405233008036,
          86.78366528945179,
          90.59220352657158,
          82.86931268084953,
          81.6039933798293,
          60.26969330531169,
          78.03984269579331,
          84.2909295752993,
          87.64597003552987,
          82.33502842881788,
          81.73959379170138,
          85.50656200075923,
          70.87085175070456,
          71.90156162091729,
          81.06068224911034,
          87.37255836724478,
          83.67320693819184,
          81.30753332558177,
          78.62353998203055,
          88.17204301075269,
          90.27777777777779,
          89.07563025210085,
          89.81481481481481
         ]
        }
       ],
       "layout": {
        "annotations": [
         {
          "font": {
           "size": 22
          },
          "showarrow": false,
          "text": "Circle Track",
          "x": 0.5,
          "xanchor": "center",
          "xref": "paper",
          "y": 1,
          "yanchor": "bottom",
          "yref": "paper"
         }
        ],
        "font": {
         "family": "Arial",
         "size": 22
        },
        "height": 500,
        "shapes": [
         {
          "line": {
           "color": "darkgrey",
           "dash": "dash",
           "width": 1
          },
          "opacity": 1,
          "type": "line",
          "x0": 0,
          "x1": 1,
          "xref": "x domain",
          "y0": 75,
          "y1": 75,
          "yref": "y"
         },
         {
          "line": {
           "color": "darkgrey",
           "dash": "dash",
           "width": 1
          },
          "opacity": 1,
          "type": "line",
          "x0": 0,
          "x1": 1,
          "xref": "x domain",
          "y0": 25,
          "y1": 25,
          "yref": "y"
         }
        ],
        "template": {
         "data": {
          "bar": [
           {
            "error_x": {
             "color": "rgb(36,36,36)"
            },
            "error_y": {
             "color": "rgb(36,36,36)"
            },
            "marker": {
             "line": {
              "color": "white",
              "width": 0.5
             },
             "pattern": {
              "fillmode": "overlay",
              "size": 10,
              "solidity": 0.2
             }
            },
            "type": "bar"
           }
          ],
          "barpolar": [
           {
            "marker": {
             "line": {
              "color": "white",
              "width": 0.5
             },
             "pattern": {
              "fillmode": "overlay",
              "size": 10,
              "solidity": 0.2
             }
            },
            "type": "barpolar"
           }
          ],
          "carpet": [
           {
            "aaxis": {
             "endlinecolor": "rgb(36,36,36)",
             "gridcolor": "white",
             "linecolor": "white",
             "minorgridcolor": "white",
             "startlinecolor": "rgb(36,36,36)"
            },
            "baxis": {
             "endlinecolor": "rgb(36,36,36)",
             "gridcolor": "white",
             "linecolor": "white",
             "minorgridcolor": "white",
             "startlinecolor": "rgb(36,36,36)"
            },
            "type": "carpet"
           }
          ],
          "choropleth": [
           {
            "colorbar": {
             "outlinewidth": 1,
             "tickcolor": "rgb(36,36,36)",
             "ticks": "outside"
            },
            "type": "choropleth"
           }
          ],
          "contour": [
           {
            "colorbar": {
             "outlinewidth": 1,
             "tickcolor": "rgb(36,36,36)",
             "ticks": "outside"
            },
            "colorscale": [
             [
              0,
              "#440154"
             ],
             [
              0.1111111111111111,
              "#482878"
             ],
             [
              0.2222222222222222,
              "#3e4989"
             ],
             [
              0.3333333333333333,
              "#31688e"
             ],
             [
              0.4444444444444444,
              "#26828e"
             ],
             [
              0.5555555555555556,
              "#1f9e89"
             ],
             [
              0.6666666666666666,
              "#35b779"
             ],
             [
              0.7777777777777778,
              "#6ece58"
             ],
             [
              0.8888888888888888,
              "#b5de2b"
             ],
             [
              1,
              "#fde725"
             ]
            ],
            "type": "contour"
           }
          ],
          "contourcarpet": [
           {
            "colorbar": {
             "outlinewidth": 1,
             "tickcolor": "rgb(36,36,36)",
             "ticks": "outside"
            },
            "type": "contourcarpet"
           }
          ],
          "heatmap": [
           {
            "colorbar": {
             "outlinewidth": 1,
             "tickcolor": "rgb(36,36,36)",
             "ticks": "outside"
            },
            "colorscale": [
             [
              0,
              "#440154"
             ],
             [
              0.1111111111111111,
              "#482878"
             ],
             [
              0.2222222222222222,
              "#3e4989"
             ],
             [
              0.3333333333333333,
              "#31688e"
             ],
             [
              0.4444444444444444,
              "#26828e"
             ],
             [
              0.5555555555555556,
              "#1f9e89"
             ],
             [
              0.6666666666666666,
              "#35b779"
             ],
             [
              0.7777777777777778,
              "#6ece58"
             ],
             [
              0.8888888888888888,
              "#b5de2b"
             ],
             [
              1,
              "#fde725"
             ]
            ],
            "type": "heatmap"
           }
          ],
          "heatmapgl": [
           {
            "colorbar": {
             "outlinewidth": 1,
             "tickcolor": "rgb(36,36,36)",
             "ticks": "outside"
            },
            "colorscale": [
             [
              0,
              "#440154"
             ],
             [
              0.1111111111111111,
              "#482878"
             ],
             [
              0.2222222222222222,
              "#3e4989"
             ],
             [
              0.3333333333333333,
              "#31688e"
             ],
             [
              0.4444444444444444,
              "#26828e"
             ],
             [
              0.5555555555555556,
              "#1f9e89"
             ],
             [
              0.6666666666666666,
              "#35b779"
             ],
             [
              0.7777777777777778,
              "#6ece58"
             ],
             [
              0.8888888888888888,
              "#b5de2b"
             ],
             [
              1,
              "#fde725"
             ]
            ],
            "type": "heatmapgl"
           }
          ],
          "histogram": [
           {
            "marker": {
             "line": {
              "color": "white",
              "width": 0.6
             }
            },
            "type": "histogram"
           }
          ],
          "histogram2d": [
           {
            "colorbar": {
             "outlinewidth": 1,
             "tickcolor": "rgb(36,36,36)",
             "ticks": "outside"
            },
            "colorscale": [
             [
              0,
              "#440154"
             ],
             [
              0.1111111111111111,
              "#482878"
             ],
             [
              0.2222222222222222,
              "#3e4989"
             ],
             [
              0.3333333333333333,
              "#31688e"
             ],
             [
              0.4444444444444444,
              "#26828e"
             ],
             [
              0.5555555555555556,
              "#1f9e89"
             ],
             [
              0.6666666666666666,
              "#35b779"
             ],
             [
              0.7777777777777778,
              "#6ece58"
             ],
             [
              0.8888888888888888,
              "#b5de2b"
             ],
             [
              1,
              "#fde725"
             ]
            ],
            "type": "histogram2d"
           }
          ],
          "histogram2dcontour": [
           {
            "colorbar": {
             "outlinewidth": 1,
             "tickcolor": "rgb(36,36,36)",
             "ticks": "outside"
            },
            "colorscale": [
             [
              0,
              "#440154"
             ],
             [
              0.1111111111111111,
              "#482878"
             ],
             [
              0.2222222222222222,
              "#3e4989"
             ],
             [
              0.3333333333333333,
              "#31688e"
             ],
             [
              0.4444444444444444,
              "#26828e"
             ],
             [
              0.5555555555555556,
              "#1f9e89"
             ],
             [
              0.6666666666666666,
              "#35b779"
             ],
             [
              0.7777777777777778,
              "#6ece58"
             ],
             [
              0.8888888888888888,
              "#b5de2b"
             ],
             [
              1,
              "#fde725"
             ]
            ],
            "type": "histogram2dcontour"
           }
          ],
          "mesh3d": [
           {
            "colorbar": {
             "outlinewidth": 1,
             "tickcolor": "rgb(36,36,36)",
             "ticks": "outside"
            },
            "type": "mesh3d"
           }
          ],
          "parcoords": [
           {
            "line": {
             "colorbar": {
              "outlinewidth": 1,
              "tickcolor": "rgb(36,36,36)",
              "ticks": "outside"
             }
            },
            "type": "parcoords"
           }
          ],
          "pie": [
           {
            "automargin": true,
            "type": "pie"
           }
          ],
          "scatter": [
           {
            "fillpattern": {
             "fillmode": "overlay",
             "size": 10,
             "solidity": 0.2
            },
            "type": "scatter"
           }
          ],
          "scatter3d": [
           {
            "line": {
             "colorbar": {
              "outlinewidth": 1,
              "tickcolor": "rgb(36,36,36)",
              "ticks": "outside"
             }
            },
            "marker": {
             "colorbar": {
              "outlinewidth": 1,
              "tickcolor": "rgb(36,36,36)",
              "ticks": "outside"
             }
            },
            "type": "scatter3d"
           }
          ],
          "scattercarpet": [
           {
            "marker": {
             "colorbar": {
              "outlinewidth": 1,
              "tickcolor": "rgb(36,36,36)",
              "ticks": "outside"
             }
            },
            "type": "scattercarpet"
           }
          ],
          "scattergeo": [
           {
            "marker": {
             "colorbar": {
              "outlinewidth": 1,
              "tickcolor": "rgb(36,36,36)",
              "ticks": "outside"
             }
            },
            "type": "scattergeo"
           }
          ],
          "scattergl": [
           {
            "marker": {
             "colorbar": {
              "outlinewidth": 1,
              "tickcolor": "rgb(36,36,36)",
              "ticks": "outside"
             }
            },
            "type": "scattergl"
           }
          ],
          "scattermapbox": [
           {
            "marker": {
             "colorbar": {
              "outlinewidth": 1,
              "tickcolor": "rgb(36,36,36)",
              "ticks": "outside"
             }
            },
            "type": "scattermapbox"
           }
          ],
          "scatterpolar": [
           {
            "marker": {
             "colorbar": {
              "outlinewidth": 1,
              "tickcolor": "rgb(36,36,36)",
              "ticks": "outside"
             }
            },
            "type": "scatterpolar"
           }
          ],
          "scatterpolargl": [
           {
            "marker": {
             "colorbar": {
              "outlinewidth": 1,
              "tickcolor": "rgb(36,36,36)",
              "ticks": "outside"
             }
            },
            "type": "scatterpolargl"
           }
          ],
          "scatterternary": [
           {
            "marker": {
             "colorbar": {
              "outlinewidth": 1,
              "tickcolor": "rgb(36,36,36)",
              "ticks": "outside"
             }
            },
            "type": "scatterternary"
           }
          ],
          "surface": [
           {
            "colorbar": {
             "outlinewidth": 1,
             "tickcolor": "rgb(36,36,36)",
             "ticks": "outside"
            },
            "colorscale": [
             [
              0,
              "#440154"
             ],
             [
              0.1111111111111111,
              "#482878"
             ],
             [
              0.2222222222222222,
              "#3e4989"
             ],
             [
              0.3333333333333333,
              "#31688e"
             ],
             [
              0.4444444444444444,
              "#26828e"
             ],
             [
              0.5555555555555556,
              "#1f9e89"
             ],
             [
              0.6666666666666666,
              "#35b779"
             ],
             [
              0.7777777777777778,
              "#6ece58"
             ],
             [
              0.8888888888888888,
              "#b5de2b"
             ],
             [
              1,
              "#fde725"
             ]
            ],
            "type": "surface"
           }
          ],
          "table": [
           {
            "cells": {
             "fill": {
              "color": "rgb(237,237,237)"
             },
             "line": {
              "color": "white"
             }
            },
            "header": {
             "fill": {
              "color": "rgb(217,217,217)"
             },
             "line": {
              "color": "white"
             }
            },
            "type": "table"
           }
          ]
         },
         "layout": {
          "annotationdefaults": {
           "arrowhead": 0,
           "arrowwidth": 1
          },
          "autotypenumbers": "strict",
          "coloraxis": {
           "colorbar": {
            "outlinewidth": 1,
            "tickcolor": "rgb(36,36,36)",
            "ticks": "outside"
           }
          },
          "colorscale": {
           "diverging": [
            [
             0,
             "rgb(103,0,31)"
            ],
            [
             0.1,
             "rgb(178,24,43)"
            ],
            [
             0.2,
             "rgb(214,96,77)"
            ],
            [
             0.3,
             "rgb(244,165,130)"
            ],
            [
             0.4,
             "rgb(253,219,199)"
            ],
            [
             0.5,
             "rgb(247,247,247)"
            ],
            [
             0.6,
             "rgb(209,229,240)"
            ],
            [
             0.7,
             "rgb(146,197,222)"
            ],
            [
             0.8,
             "rgb(67,147,195)"
            ],
            [
             0.9,
             "rgb(33,102,172)"
            ],
            [
             1,
             "rgb(5,48,97)"
            ]
           ],
           "sequential": [
            [
             0,
             "#440154"
            ],
            [
             0.1111111111111111,
             "#482878"
            ],
            [
             0.2222222222222222,
             "#3e4989"
            ],
            [
             0.3333333333333333,
             "#31688e"
            ],
            [
             0.4444444444444444,
             "#26828e"
            ],
            [
             0.5555555555555556,
             "#1f9e89"
            ],
            [
             0.6666666666666666,
             "#35b779"
            ],
            [
             0.7777777777777778,
             "#6ece58"
            ],
            [
             0.8888888888888888,
             "#b5de2b"
            ],
            [
             1,
             "#fde725"
            ]
           ],
           "sequentialminus": [
            [
             0,
             "#440154"
            ],
            [
             0.1111111111111111,
             "#482878"
            ],
            [
             0.2222222222222222,
             "#3e4989"
            ],
            [
             0.3333333333333333,
             "#31688e"
            ],
            [
             0.4444444444444444,
             "#26828e"
            ],
            [
             0.5555555555555556,
             "#1f9e89"
            ],
            [
             0.6666666666666666,
             "#35b779"
            ],
            [
             0.7777777777777778,
             "#6ece58"
            ],
            [
             0.8888888888888888,
             "#b5de2b"
            ],
            [
             1,
             "#fde725"
            ]
           ]
          },
          "colorway": [
           "#1F77B4",
           "#FF7F0E",
           "#2CA02C",
           "#D62728",
           "#9467BD",
           "#8C564B",
           "#E377C2",
           "#7F7F7F",
           "#BCBD22",
           "#17BECF"
          ],
          "font": {
           "color": "rgb(36,36,36)"
          },
          "geo": {
           "bgcolor": "white",
           "lakecolor": "white",
           "landcolor": "white",
           "showlakes": true,
           "showland": true,
           "subunitcolor": "white"
          },
          "hoverlabel": {
           "align": "left"
          },
          "hovermode": "closest",
          "mapbox": {
           "style": "light"
          },
          "paper_bgcolor": "white",
          "plot_bgcolor": "white",
          "polar": {
           "angularaxis": {
            "gridcolor": "rgb(232,232,232)",
            "linecolor": "rgb(36,36,36)",
            "showgrid": false,
            "showline": true,
            "ticks": "outside"
           },
           "bgcolor": "white",
           "radialaxis": {
            "gridcolor": "rgb(232,232,232)",
            "linecolor": "rgb(36,36,36)",
            "showgrid": false,
            "showline": true,
            "ticks": "outside"
           }
          },
          "scene": {
           "xaxis": {
            "backgroundcolor": "white",
            "gridcolor": "rgb(232,232,232)",
            "gridwidth": 2,
            "linecolor": "rgb(36,36,36)",
            "showbackground": true,
            "showgrid": false,
            "showline": true,
            "ticks": "outside",
            "zeroline": false,
            "zerolinecolor": "rgb(36,36,36)"
           },
           "yaxis": {
            "backgroundcolor": "white",
            "gridcolor": "rgb(232,232,232)",
            "gridwidth": 2,
            "linecolor": "rgb(36,36,36)",
            "showbackground": true,
            "showgrid": false,
            "showline": true,
            "ticks": "outside",
            "zeroline": false,
            "zerolinecolor": "rgb(36,36,36)"
           },
           "zaxis": {
            "backgroundcolor": "white",
            "gridcolor": "rgb(232,232,232)",
            "gridwidth": 2,
            "linecolor": "rgb(36,36,36)",
            "showbackground": true,
            "showgrid": false,
            "showline": true,
            "ticks": "outside",
            "zeroline": false,
            "zerolinecolor": "rgb(36,36,36)"
           }
          },
          "shapedefaults": {
           "fillcolor": "black",
           "line": {
            "width": 0
           },
           "opacity": 0.3
          },
          "ternary": {
           "aaxis": {
            "gridcolor": "rgb(232,232,232)",
            "linecolor": "rgb(36,36,36)",
            "showgrid": false,
            "showline": true,
            "ticks": "outside"
           },
           "baxis": {
            "gridcolor": "rgb(232,232,232)",
            "linecolor": "rgb(36,36,36)",
            "showgrid": false,
            "showline": true,
            "ticks": "outside"
           },
           "bgcolor": "white",
           "caxis": {
            "gridcolor": "rgb(232,232,232)",
            "linecolor": "rgb(36,36,36)",
            "showgrid": false,
            "showline": true,
            "ticks": "outside"
           }
          },
          "title": {
           "x": 0.05
          },
          "xaxis": {
           "automargin": true,
           "gridcolor": "rgb(232,232,232)",
           "linecolor": "rgb(36,36,36)",
           "showgrid": false,
           "showline": true,
           "ticks": "outside",
           "title": {
            "standoff": 15
           },
           "zeroline": false,
           "zerolinecolor": "rgb(36,36,36)"
          },
          "yaxis": {
           "automargin": true,
           "gridcolor": "rgb(232,232,232)",
           "linecolor": "rgb(36,36,36)",
           "showgrid": false,
           "showline": true,
           "ticks": "outside",
           "title": {
            "standoff": 15
           },
           "zeroline": false,
           "zerolinecolor": "rgb(36,36,36)"
          }
         }
        },
        "title": {
         "x": 0.5,
         "xanchor": "center",
         "y": 0.9,
         "yanchor": "top"
        },
        "width": 500,
        "xaxis": {
         "anchor": "y",
         "domain": [
          0,
          1
         ],
         "linewidth": 1.5,
         "title": {
          "text": "Day"
         }
        },
        "yaxis": {
         "anchor": "x",
         "domain": [
          0,
          1
         ],
         "dtick": 25,
         "linewidth": 1.5,
         "range": [
          0,
          100
         ],
         "title": {
          "text": "Lick Accuracy"
         }
        }
       }
      },
      "text/html": [
       "<div>                            <div id=\"eb7ccd69-7569-456e-a759-e554066e8dc7\" class=\"plotly-graph-div\" style=\"height:500px; width:500px;\"></div>            <script type=\"text/javascript\">                require([\"plotly\"], function(Plotly) {                    window.PLOTLYENV=window.PLOTLYENV || {};                                    if (document.getElementById(\"eb7ccd69-7569-456e-a759-e554066e8dc7\")) {                    Plotly.newPlot(                        \"eb7ccd69-7569-456e-a759-e554066e8dc7\",                        [{\"error_y\":{\"array\":[3.7828546869664583,3.6604698954913686,6.262891681132379,7.87436327064295,12.40023641079694,3.5068509208012033,5.95123945967207,4.383799048266261,6.037636406251668,5.1075006291509,5.749642028772611,8.042088311765246,6.881514184794158,5.6671435538798365,6.104362486609118,7.7039535920376485,6.504699597318343,6.268344133928982,6.38434559934134,3.0555186448706,3.068023888382728,4.043465551259618,3.281316324250883,3.622724905591118,5.26396941375467,5.610691906504982,7.639729894771809,6.6486513455794,6.688781589526753,7.051113296625753,5.144557995008487,6.8576200228127195,8.61723228077915,11.665088421150571,7.7702702702702675,2.2940115130165846,4.2452830188679265,2.3290986085904386],\"type\":\"data\"},\"line\":{\"color\":\"red\"},\"mode\":\"lines+markers\",\"name\":\"Aged\",\"showlegend\":true,\"x\":[1,2,3,4,5,6,7,8,9,10,11,12,13,14,15,16,17,18,19,20,21,22,23,24,25,26,27,28,29,30,31,32,33,34,35,36,37,38],\"y\":[29.048404642959515,28.039283085335715,33.67762814717365,39.000508824692695,42.34606545807106,43.784328730873455,60.365505724225144,66.66066548458357,68.83324561994151,70.9544169362504,75.58242407881848,63.0987112762171,36.966130470757435,46.47945318334574,54.51298790639496,61.42214678451617,62.9724778331801,63.41183988976102,71.33635010555348,76.68295281296369,73.61148145176813,65.3966168984874,70.80762517149043,74.81113082684607,69.3993883036348,68.06249551541742,63.20149704190622,70.51820820844436,75.21368144529016,72.28668812047125,70.58035506538228,77.86738351254479,76.66720246467082,61.39114724480578,66.1036036036036,69.55064868115818,76.88679245283018,67.84633998790079],\"type\":\"scatter\"},{\"error_y\":{\"array\":[1.7939404824967324,2.642922636527446,5.046165947559775,5.969759812205109,7.031771385489008,5.170059666589383,5.366472155251325,3.2119996840523624,1.9750431806670772,4.137609844055427,6.743744167949489,10.310288440311874,7.588195623360257,6.863671190637024,3.3344697696749397,3.615160303870329,2.7236634873356036,4.9042978159142,4.18169425033135,3.573616448153507,2.265558175796086,3.8696350799335058,2.9080924080667554,3.3609807120954573,5.1926786769601,6.34003702084347,4.922271868204691,1.367937280346041,2.279469164715067,null],\"type\":\"data\"},\"line\":{\"color\":\"midnightblue\"},\"mode\":\"lines+markers\",\"name\":\"Middle Aged\",\"showlegend\":true,\"x\":[1,2,3,4,5,6,7,8,9,10,11,12,13,14,15,16,17,18,19,20,21,22,23,24,25,26,27,28,29,30],\"y\":[26.090250907121007,27.88044063779358,43.18309369800911,56.798154287585575,67.00500931820683,70.69400285372024,69.34568861402893,79.04154377093845,82.82968685956575,78.01317988806395,74.24269056293451,60.2833570069288,51.71577412838682,67.14732832349466,74.11855398344976,81.5811522436974,78.13588954736859,78.18715970399879,77.41669555864951,75.45726321382622,80.0981735040228,76.95830808027608,81.80524359495742,71.2259285033858,78.11340912432252,74.22716896772799,79.21907940328992,86.03947012706136,81.32708821233412,59.23076923076923],\"type\":\"scatter\"},{\"error_y\":{\"array\":[1.8405315527835422,4.058154329125233,5.606550283089525,1.8505690419589251,4.4147901248637105,3.8359194384329967,6.730036697139455,4.1403868139442865,2.8471174091718865,1.8880842578156118,9.734449247567124,7.145733057045438,5.806340993748049,4.3908444681179315,2.960085719301026,1.914612458804527,4.969464942499666,3.6554160035192815,4.160174548235521,10.363643113105482,5.923519029951145,3.1513589848148253,1.5201205735799974,3.659834213100494,2.8390521562833726,4.692592923383666,null,null,null,null],\"type\":\"data\"},\"line\":{\"color\":\"darkgrey\"},\"mode\":\"lines+markers\",\"name\":\"Young Adult\",\"showlegend\":true,\"x\":[1,2,3,4,5,6,7,8,9,10,11,12,13,14,15,16,17,18,19,20,21,22,23,24,25,26,27,28,29,30],\"y\":[31.476196797835055,43.40790882761699,69.32881816398518,84.2382989720781,81.61125231947739,84.88544959962707,78.22530304700001,81.48405233008036,86.78366528945179,90.59220352657158,82.86931268084953,81.6039933798293,60.26969330531169,78.03984269579331,84.2909295752993,87.64597003552987,82.33502842881788,81.73959379170138,85.50656200075923,70.87085175070456,71.90156162091729,81.06068224911034,87.37255836724478,83.67320693819184,81.30753332558177,78.62353998203055,88.17204301075269,90.27777777777779,89.07563025210085,89.81481481481481],\"type\":\"scatter\"}],                        {\"template\":{\"data\":{\"barpolar\":[{\"marker\":{\"line\":{\"color\":\"white\",\"width\":0.5},\"pattern\":{\"fillmode\":\"overlay\",\"size\":10,\"solidity\":0.2}},\"type\":\"barpolar\"}],\"bar\":[{\"error_x\":{\"color\":\"rgb(36,36,36)\"},\"error_y\":{\"color\":\"rgb(36,36,36)\"},\"marker\":{\"line\":{\"color\":\"white\",\"width\":0.5},\"pattern\":{\"fillmode\":\"overlay\",\"size\":10,\"solidity\":0.2}},\"type\":\"bar\"}],\"carpet\":[{\"aaxis\":{\"endlinecolor\":\"rgb(36,36,36)\",\"gridcolor\":\"white\",\"linecolor\":\"white\",\"minorgridcolor\":\"white\",\"startlinecolor\":\"rgb(36,36,36)\"},\"baxis\":{\"endlinecolor\":\"rgb(36,36,36)\",\"gridcolor\":\"white\",\"linecolor\":\"white\",\"minorgridcolor\":\"white\",\"startlinecolor\":\"rgb(36,36,36)\"},\"type\":\"carpet\"}],\"choropleth\":[{\"colorbar\":{\"outlinewidth\":1,\"tickcolor\":\"rgb(36,36,36)\",\"ticks\":\"outside\"},\"type\":\"choropleth\"}],\"contourcarpet\":[{\"colorbar\":{\"outlinewidth\":1,\"tickcolor\":\"rgb(36,36,36)\",\"ticks\":\"outside\"},\"type\":\"contourcarpet\"}],\"contour\":[{\"colorbar\":{\"outlinewidth\":1,\"tickcolor\":\"rgb(36,36,36)\",\"ticks\":\"outside\"},\"colorscale\":[[0.0,\"#440154\"],[0.1111111111111111,\"#482878\"],[0.2222222222222222,\"#3e4989\"],[0.3333333333333333,\"#31688e\"],[0.4444444444444444,\"#26828e\"],[0.5555555555555556,\"#1f9e89\"],[0.6666666666666666,\"#35b779\"],[0.7777777777777778,\"#6ece58\"],[0.8888888888888888,\"#b5de2b\"],[1.0,\"#fde725\"]],\"type\":\"contour\"}],\"heatmapgl\":[{\"colorbar\":{\"outlinewidth\":1,\"tickcolor\":\"rgb(36,36,36)\",\"ticks\":\"outside\"},\"colorscale\":[[0.0,\"#440154\"],[0.1111111111111111,\"#482878\"],[0.2222222222222222,\"#3e4989\"],[0.3333333333333333,\"#31688e\"],[0.4444444444444444,\"#26828e\"],[0.5555555555555556,\"#1f9e89\"],[0.6666666666666666,\"#35b779\"],[0.7777777777777778,\"#6ece58\"],[0.8888888888888888,\"#b5de2b\"],[1.0,\"#fde725\"]],\"type\":\"heatmapgl\"}],\"heatmap\":[{\"colorbar\":{\"outlinewidth\":1,\"tickcolor\":\"rgb(36,36,36)\",\"ticks\":\"outside\"},\"colorscale\":[[0.0,\"#440154\"],[0.1111111111111111,\"#482878\"],[0.2222222222222222,\"#3e4989\"],[0.3333333333333333,\"#31688e\"],[0.4444444444444444,\"#26828e\"],[0.5555555555555556,\"#1f9e89\"],[0.6666666666666666,\"#35b779\"],[0.7777777777777778,\"#6ece58\"],[0.8888888888888888,\"#b5de2b\"],[1.0,\"#fde725\"]],\"type\":\"heatmap\"}],\"histogram2dcontour\":[{\"colorbar\":{\"outlinewidth\":1,\"tickcolor\":\"rgb(36,36,36)\",\"ticks\":\"outside\"},\"colorscale\":[[0.0,\"#440154\"],[0.1111111111111111,\"#482878\"],[0.2222222222222222,\"#3e4989\"],[0.3333333333333333,\"#31688e\"],[0.4444444444444444,\"#26828e\"],[0.5555555555555556,\"#1f9e89\"],[0.6666666666666666,\"#35b779\"],[0.7777777777777778,\"#6ece58\"],[0.8888888888888888,\"#b5de2b\"],[1.0,\"#fde725\"]],\"type\":\"histogram2dcontour\"}],\"histogram2d\":[{\"colorbar\":{\"outlinewidth\":1,\"tickcolor\":\"rgb(36,36,36)\",\"ticks\":\"outside\"},\"colorscale\":[[0.0,\"#440154\"],[0.1111111111111111,\"#482878\"],[0.2222222222222222,\"#3e4989\"],[0.3333333333333333,\"#31688e\"],[0.4444444444444444,\"#26828e\"],[0.5555555555555556,\"#1f9e89\"],[0.6666666666666666,\"#35b779\"],[0.7777777777777778,\"#6ece58\"],[0.8888888888888888,\"#b5de2b\"],[1.0,\"#fde725\"]],\"type\":\"histogram2d\"}],\"histogram\":[{\"marker\":{\"line\":{\"color\":\"white\",\"width\":0.6}},\"type\":\"histogram\"}],\"mesh3d\":[{\"colorbar\":{\"outlinewidth\":1,\"tickcolor\":\"rgb(36,36,36)\",\"ticks\":\"outside\"},\"type\":\"mesh3d\"}],\"parcoords\":[{\"line\":{\"colorbar\":{\"outlinewidth\":1,\"tickcolor\":\"rgb(36,36,36)\",\"ticks\":\"outside\"}},\"type\":\"parcoords\"}],\"pie\":[{\"automargin\":true,\"type\":\"pie\"}],\"scatter3d\":[{\"line\":{\"colorbar\":{\"outlinewidth\":1,\"tickcolor\":\"rgb(36,36,36)\",\"ticks\":\"outside\"}},\"marker\":{\"colorbar\":{\"outlinewidth\":1,\"tickcolor\":\"rgb(36,36,36)\",\"ticks\":\"outside\"}},\"type\":\"scatter3d\"}],\"scattercarpet\":[{\"marker\":{\"colorbar\":{\"outlinewidth\":1,\"tickcolor\":\"rgb(36,36,36)\",\"ticks\":\"outside\"}},\"type\":\"scattercarpet\"}],\"scattergeo\":[{\"marker\":{\"colorbar\":{\"outlinewidth\":1,\"tickcolor\":\"rgb(36,36,36)\",\"ticks\":\"outside\"}},\"type\":\"scattergeo\"}],\"scattergl\":[{\"marker\":{\"colorbar\":{\"outlinewidth\":1,\"tickcolor\":\"rgb(36,36,36)\",\"ticks\":\"outside\"}},\"type\":\"scattergl\"}],\"scattermapbox\":[{\"marker\":{\"colorbar\":{\"outlinewidth\":1,\"tickcolor\":\"rgb(36,36,36)\",\"ticks\":\"outside\"}},\"type\":\"scattermapbox\"}],\"scatterpolargl\":[{\"marker\":{\"colorbar\":{\"outlinewidth\":1,\"tickcolor\":\"rgb(36,36,36)\",\"ticks\":\"outside\"}},\"type\":\"scatterpolargl\"}],\"scatterpolar\":[{\"marker\":{\"colorbar\":{\"outlinewidth\":1,\"tickcolor\":\"rgb(36,36,36)\",\"ticks\":\"outside\"}},\"type\":\"scatterpolar\"}],\"scatter\":[{\"fillpattern\":{\"fillmode\":\"overlay\",\"size\":10,\"solidity\":0.2},\"type\":\"scatter\"}],\"scatterternary\":[{\"marker\":{\"colorbar\":{\"outlinewidth\":1,\"tickcolor\":\"rgb(36,36,36)\",\"ticks\":\"outside\"}},\"type\":\"scatterternary\"}],\"surface\":[{\"colorbar\":{\"outlinewidth\":1,\"tickcolor\":\"rgb(36,36,36)\",\"ticks\":\"outside\"},\"colorscale\":[[0.0,\"#440154\"],[0.1111111111111111,\"#482878\"],[0.2222222222222222,\"#3e4989\"],[0.3333333333333333,\"#31688e\"],[0.4444444444444444,\"#26828e\"],[0.5555555555555556,\"#1f9e89\"],[0.6666666666666666,\"#35b779\"],[0.7777777777777778,\"#6ece58\"],[0.8888888888888888,\"#b5de2b\"],[1.0,\"#fde725\"]],\"type\":\"surface\"}],\"table\":[{\"cells\":{\"fill\":{\"color\":\"rgb(237,237,237)\"},\"line\":{\"color\":\"white\"}},\"header\":{\"fill\":{\"color\":\"rgb(217,217,217)\"},\"line\":{\"color\":\"white\"}},\"type\":\"table\"}]},\"layout\":{\"annotationdefaults\":{\"arrowhead\":0,\"arrowwidth\":1},\"autotypenumbers\":\"strict\",\"coloraxis\":{\"colorbar\":{\"outlinewidth\":1,\"tickcolor\":\"rgb(36,36,36)\",\"ticks\":\"outside\"}},\"colorscale\":{\"diverging\":[[0.0,\"rgb(103,0,31)\"],[0.1,\"rgb(178,24,43)\"],[0.2,\"rgb(214,96,77)\"],[0.3,\"rgb(244,165,130)\"],[0.4,\"rgb(253,219,199)\"],[0.5,\"rgb(247,247,247)\"],[0.6,\"rgb(209,229,240)\"],[0.7,\"rgb(146,197,222)\"],[0.8,\"rgb(67,147,195)\"],[0.9,\"rgb(33,102,172)\"],[1.0,\"rgb(5,48,97)\"]],\"sequential\":[[0.0,\"#440154\"],[0.1111111111111111,\"#482878\"],[0.2222222222222222,\"#3e4989\"],[0.3333333333333333,\"#31688e\"],[0.4444444444444444,\"#26828e\"],[0.5555555555555556,\"#1f9e89\"],[0.6666666666666666,\"#35b779\"],[0.7777777777777778,\"#6ece58\"],[0.8888888888888888,\"#b5de2b\"],[1.0,\"#fde725\"]],\"sequentialminus\":[[0.0,\"#440154\"],[0.1111111111111111,\"#482878\"],[0.2222222222222222,\"#3e4989\"],[0.3333333333333333,\"#31688e\"],[0.4444444444444444,\"#26828e\"],[0.5555555555555556,\"#1f9e89\"],[0.6666666666666666,\"#35b779\"],[0.7777777777777778,\"#6ece58\"],[0.8888888888888888,\"#b5de2b\"],[1.0,\"#fde725\"]]},\"colorway\":[\"#1F77B4\",\"#FF7F0E\",\"#2CA02C\",\"#D62728\",\"#9467BD\",\"#8C564B\",\"#E377C2\",\"#7F7F7F\",\"#BCBD22\",\"#17BECF\"],\"font\":{\"color\":\"rgb(36,36,36)\"},\"geo\":{\"bgcolor\":\"white\",\"lakecolor\":\"white\",\"landcolor\":\"white\",\"showlakes\":true,\"showland\":true,\"subunitcolor\":\"white\"},\"hoverlabel\":{\"align\":\"left\"},\"hovermode\":\"closest\",\"mapbox\":{\"style\":\"light\"},\"paper_bgcolor\":\"white\",\"plot_bgcolor\":\"white\",\"polar\":{\"angularaxis\":{\"gridcolor\":\"rgb(232,232,232)\",\"linecolor\":\"rgb(36,36,36)\",\"showgrid\":false,\"showline\":true,\"ticks\":\"outside\"},\"bgcolor\":\"white\",\"radialaxis\":{\"gridcolor\":\"rgb(232,232,232)\",\"linecolor\":\"rgb(36,36,36)\",\"showgrid\":false,\"showline\":true,\"ticks\":\"outside\"}},\"scene\":{\"xaxis\":{\"backgroundcolor\":\"white\",\"gridcolor\":\"rgb(232,232,232)\",\"gridwidth\":2,\"linecolor\":\"rgb(36,36,36)\",\"showbackground\":true,\"showgrid\":false,\"showline\":true,\"ticks\":\"outside\",\"zeroline\":false,\"zerolinecolor\":\"rgb(36,36,36)\"},\"yaxis\":{\"backgroundcolor\":\"white\",\"gridcolor\":\"rgb(232,232,232)\",\"gridwidth\":2,\"linecolor\":\"rgb(36,36,36)\",\"showbackground\":true,\"showgrid\":false,\"showline\":true,\"ticks\":\"outside\",\"zeroline\":false,\"zerolinecolor\":\"rgb(36,36,36)\"},\"zaxis\":{\"backgroundcolor\":\"white\",\"gridcolor\":\"rgb(232,232,232)\",\"gridwidth\":2,\"linecolor\":\"rgb(36,36,36)\",\"showbackground\":true,\"showgrid\":false,\"showline\":true,\"ticks\":\"outside\",\"zeroline\":false,\"zerolinecolor\":\"rgb(36,36,36)\"}},\"shapedefaults\":{\"fillcolor\":\"black\",\"line\":{\"width\":0},\"opacity\":0.3},\"ternary\":{\"aaxis\":{\"gridcolor\":\"rgb(232,232,232)\",\"linecolor\":\"rgb(36,36,36)\",\"showgrid\":false,\"showline\":true,\"ticks\":\"outside\"},\"baxis\":{\"gridcolor\":\"rgb(232,232,232)\",\"linecolor\":\"rgb(36,36,36)\",\"showgrid\":false,\"showline\":true,\"ticks\":\"outside\"},\"bgcolor\":\"white\",\"caxis\":{\"gridcolor\":\"rgb(232,232,232)\",\"linecolor\":\"rgb(36,36,36)\",\"showgrid\":false,\"showline\":true,\"ticks\":\"outside\"}},\"title\":{\"x\":0.05},\"xaxis\":{\"automargin\":true,\"gridcolor\":\"rgb(232,232,232)\",\"linecolor\":\"rgb(36,36,36)\",\"showgrid\":false,\"showline\":true,\"ticks\":\"outside\",\"title\":{\"standoff\":15},\"zeroline\":false,\"zerolinecolor\":\"rgb(36,36,36)\"},\"yaxis\":{\"automargin\":true,\"gridcolor\":\"rgb(232,232,232)\",\"linecolor\":\"rgb(36,36,36)\",\"showgrid\":false,\"showline\":true,\"ticks\":\"outside\",\"title\":{\"standoff\":15},\"zeroline\":false,\"zerolinecolor\":\"rgb(36,36,36)\"}}},\"xaxis\":{\"anchor\":\"y\",\"domain\":[0.0,1.0],\"title\":{\"text\":\"Day\"},\"linewidth\":1.5},\"yaxis\":{\"anchor\":\"x\",\"domain\":[0.0,1.0],\"title\":{\"text\":\"Lick Accuracy\"},\"linewidth\":1.5,\"range\":[0,100],\"dtick\":25},\"annotations\":[{\"font\":{\"size\":22},\"showarrow\":false,\"text\":\"Circle Track\",\"x\":0.5,\"xanchor\":\"center\",\"xref\":\"paper\",\"y\":1.0,\"yanchor\":\"bottom\",\"yref\":\"paper\"}],\"title\":{\"y\":0.9,\"x\":0.5,\"xanchor\":\"center\",\"yanchor\":\"top\"},\"font\":{\"size\":22,\"family\":\"Arial\"},\"height\":500,\"width\":500,\"shapes\":[{\"line\":{\"color\":\"darkgrey\",\"dash\":\"dash\",\"width\":1},\"opacity\":1,\"type\":\"line\",\"x0\":0,\"x1\":1,\"xref\":\"x domain\",\"y0\":75,\"y1\":75,\"yref\":\"y\"},{\"line\":{\"color\":\"darkgrey\",\"dash\":\"dash\",\"width\":1},\"opacity\":1,\"type\":\"line\",\"x0\":0,\"x1\":1,\"xref\":\"x domain\",\"y0\":25,\"y1\":25,\"yref\":\"y\"}]},                        {\"responsive\": true}                    ).then(function(){\n",
       "                            \n",
       "var gd = document.getElementById('eb7ccd69-7569-456e-a759-e554066e8dc7');\n",
       "var x = new MutationObserver(function (mutations, observer) {{\n",
       "        var display = window.getComputedStyle(gd).display;\n",
       "        if (!display || display === 'none') {{\n",
       "            console.log([gd, 'removed!']);\n",
       "            Plotly.purge(gd);\n",
       "            observer.disconnect();\n",
       "        }}\n",
       "}});\n",
       "\n",
       "// Listen for the removal of the full notebook cells\n",
       "var notebookContainer = gd.closest('#notebook-container');\n",
       "if (notebookContainer) {{\n",
       "    x.observe(notebookContainer, {childList: true});\n",
       "}}\n",
       "\n",
       "// Listen for the clearing of the current output cell\n",
       "var outputEl = gd.closest('.output');\n",
       "if (outputEl) {{\n",
       "    x.observe(outputEl, {childList: true});\n",
       "}}\n",
       "\n",
       "                        })                };                });            </script>        </div>"
      ]
     },
     "metadata": {},
     "output_type": "display_data"
    }
   ],
   "source": [
    "## Plot lick accuracy across days for thresh of 5\n",
    "fig = pf.plot_behavior_across_days(ct_df, x_var='day', y_var='lick_accuracy_thresh5', groupby_var=['day', 'group'], plot_transitions=None,\n",
    "                                   marker_color=three_color_plots, avg_color='darkgrey', expert_line=True, chance=True, plot_datapoints=False,\n",
    "                                   x_title='Day', y_title='Lick Accuracy', titles=['Circle Track'], height=500, width=500)\n",
    "fig.update_yaxes(range=[0, 100], dtick=25)\n",
    "fig.show()\n",
    "fig.write_image(pjoin(fig_path, 'lick_accuracy_thresh5.png'))\n",
    "# ct_df.mixed_anova(dv='lick_accuracy_thresh5', within='day', subject='mouse', between='group')"
   ]
  },
  {
   "cell_type": "code",
   "execution_count": null,
   "metadata": {},
   "outputs": [],
   "source": [
    "## Look at lick accuracy just when a mouse is in A.\n",
    "y_var = 'lick_accuracy_thresh5'\n",
    "a_data = ct_df[ct_df['session'] == 'A']\n",
    "fig = pf.plot_behavior_across_days(a_data, x_var='day', y_var=y_var, groupby_var=['day', 'group'], plot_transitions=None,\n",
    "                                   marker_color=three_color_plots, avg_color='darkgrey', expert_line=False, chance=True, plot_datapoints=False,\n",
    "                                   x_title='Day', y_title='Lick Accuracy', titles=['Circle Track'], height=500, width=500)\n",
    "fig.update_yaxes(range=[0, 100], dtick=25)\n",
    "fig.show()\n",
    "fig.write_image(pjoin(fig_path, f'{y_var}_in_A.png'))\n",
    "a_data.mixed_anova(dv=y_var, within='day', subject='mouse', between='group')"
   ]
  },
  {
   "cell_type": "code",
   "execution_count": null,
   "metadata": {},
   "outputs": [],
   "source": [
    "## Look at lick accuracy just when a mouse is in A.\n",
    "y_var = 'rewards'\n",
    "a_data = ct_df[ct_df['session'] == 'A']\n",
    "fig = pf.plot_behavior_across_days(a_data, x_var='day', y_var=y_var, groupby_var=['day', 'group'], plot_transitions=None,\n",
    "                                   marker_color=three_color_plots, avg_color='darkgrey', expert_line=False, chance=True, plot_datapoints=False,\n",
    "                                   x_title='Day', y_title='Rewards', titles=['Circle Track'], height=500, width=500)\n",
    "fig.update_yaxes(dtick=25)\n",
    "fig.show()\n",
    "fig.write_image(pjoin(fig_path, f'{y_var}_in_A.png'))\n",
    "a_data.mixed_anova(dv=y_var, within='day', subject='mouse', between='group')"
   ]
  },
  {
   "cell_type": "markdown",
   "metadata": {},
   "source": [
    "### Look at trial by trial differences in lick accuracy for the first or fifth lick."
   ]
  },
  {
   "cell_type": "code",
   "execution_count": null,
   "metadata": {},
   "outputs": [],
   "source": [
    "## Calculate for lick accuracy across trials\n",
    "data = {'mouse': [], 'day': [], 'context_day': [], 'group': [], 'trial_acc_1': [], 'trial_acc_5': []}\n",
    "for mouse in os.listdir(circle_path)[:-1]:\n",
    "    mouse_path = pjoin(circle_path, mouse)\n",
    "    group = 'Young Adult' if mouse in young_adult else 'Middle Aged' if mouse in middle_aged else 'Aged'\n",
    "    day_counter = 1\n",
    "    session_id = np.nan\n",
    "    for idx, session in enumerate(os.listdir(mouse_path)):\n",
    "        behav_data = pd.read_feather(pjoin(mouse_path, f'{session}'))\n",
    "        reward_one, reward_two = np.unique(behav_data['reward_one'])[0], np.unique(behav_data['reward_two'])[0]\n",
    "        pc_1 = ctb.lick_accuracy(behav_data, reward_one, reward_two, lick_threshold=1, by_trials=True)\n",
    "        pc_5 = ctb.lick_accuracy(behav_data, reward_one, reward_two, lick_threshold=5, by_trials=True)\n",
    "        binned_pc_1 = ctb.bin_data(pc_1, bin_size=bin_size)\n",
    "        binned_pc_5 = ctb.bin_data(pc_5, bin_size=bin_size)\n",
    "        data['mouse'].append(mouse)\n",
    "        data['day'].append(idx+1)\n",
    "        data['group'].append(group)\n",
    "        data['trial_acc_1'].append(binned_pc_1)\n",
    "        data['trial_acc_5'].append(binned_pc_5)\n",
    "\n",
    "        if np.unique(behav['session'])[0] != session_id:\n",
    "            day_counter = 1\n",
    "            session_id = np.unique(behav['session'])[0]\n",
    "            circletrack_results['context_day'].append(day_counter)\n",
    "        else:\n",
    "            day_counter += 1\n",
    "            session_id = np.unique(behav['session'])[0]\n",
    "            circletrack_results['context_day'].append(day_counter)\n",
    "trial_acc = pd.DataFrame(data)"
   ]
  },
  {
   "cell_type": "code",
   "execution_count": null,
   "metadata": {},
   "outputs": [],
   "source": [
    "group_data = {'Young Adult': [], 'Middle Aged': [], 'Aged': [], 'day': []}\n",
    "for day in np.unique(trial_acc['day']):\n",
    "    group_data['Young Adult'].append(np.nanmean(trial_acc['trial_acc_1'][(trial_acc['group'] == 'Young Adult') & (trial_acc['day'] == day)].apply(pd.Series), axis=0))\n",
    "    group_data['Middle Aged'].append(np.nanmean(trial_acc['trial_acc_1'][(trial_acc['group'] == 'Middle Aged') & (trial_acc['day'] == day)].apply(pd.Series), axis=0))\n",
    "    group_data['Aged'].append(np.nanmean(trial_acc['trial_acc_1'][(trial_acc['group'] == 'Aged') & (trial_acc['day'] == day)].apply(pd.Series), axis=0))\n",
    "    group_data['Young Adult'].append(np.nanstd(trial_acc['trial_acc_1'][(trial_acc['group'] == 'Young Adult') & (trial_acc['day'] == day)].apply(pd.Series), axis=0, ddof=1) / np.sqrt(len(trial_acc['trial_acc_1'][(trial_acc['group'] == 'Young Adult') & (trial_acc['day'] == day)].apply(pd.Series))))\n",
    "    group_data['Middle Aged'].append(np.nanstd(trial_acc['trial_acc_1'][(trial_acc['group'] == 'Middle Aged') & (trial_acc['day'] == day)].apply(pd.Series), axis=0, ddof=1) / np.sqrt(len(trial_acc['trial_acc_1'][(trial_acc['group'] == 'Middle Aged') & (trial_acc['day'] == day)].apply(pd.Series))))\n",
    "    group_data['Aged'].append(np.std(trial_acc['trial_acc_1'][(trial_acc['group'] == 'Aged') & (trial_acc['day'] == day)].apply(pd.Series), axis=0, ddof=1) / np.sqrt(len(trial_acc['trial_acc_1'][(trial_acc['group'] == 'Aged') & (trial_acc['day'] == day)].apply(pd.Series))))\n",
    "    group_data['day'].append(day)\n",
    "    group_data['day'].append(day)\n",
    "group_df = pd.DataFrame(group_data)"
   ]
  },
  {
   "cell_type": "code",
   "execution_count": null,
   "metadata": {},
   "outputs": [],
   "source": [
    "## For lick accuracy first lick\n",
    "only_min_trials = False\n",
    "fig = pf.custom_graph_template(x_title='', y_title='', height=800, width=1200,\n",
    "                               rows=2, columns=6, shared_x=True, shared_y=True,\n",
    "                               titles=[f'Day {x}' for x in np.arange(1, len(np.unique(group_df['day']))+1)])\n",
    "for idx, day in enumerate(np.unique(group_df['day'])):\n",
    "    plot_data = group_df[group_df['day'] == day]\n",
    "\n",
    "    if only_min_trials:\n",
    "        trial_lengths = []\n",
    "        for group in plot_data.columns[:-1]:\n",
    "            trial_lengths.append(len(plot_data.loc[:, group].values[0]))\n",
    "        min_trials = np.min(trial_lengths)\n",
    "    else:\n",
    "        min_trials = -1\n",
    "    \n",
    "    for ind, group in enumerate(plot_data.columns[:-1]):\n",
    "        group_data = plot_data.loc[:, group].values[0][:min_trials]\n",
    "        upper = plot_data.loc[:, group].values[0][:min_trials] + plot_data.loc[:, group].values[1][:min_trials]\n",
    "        lower = plot_data.loc[:, group].values[0][:min_trials] - plot_data.loc[:, group].values[1][:min_trials]\n",
    "        x_data = np.arange(1, len(group_data)+1) * bin_size\n",
    "        if idx < 6:\n",
    "            row, col = 1, idx + 1\n",
    "        elif (idx >= 6) & (idx < 12):\n",
    "            row, col = 2, idx - 5\n",
    "        else:\n",
    "            row, col = 3, idx - 11\n",
    "        fig.add_trace(go.Scatter(x=x_data, y=group_data, mode='lines', opacity=opacity,\n",
    "                                line_color=group_colors_dict[group], showlegend=False,\n",
    "                                legendgroup=group, name=group), row=row, col=col)\n",
    "        fig.add_trace(go.Scatter(name='Upper Bound', x=x_data, y=upper, mode='lines',\n",
    "                                 marker=dict(color=error_colors[ind]), line=dict(width=0), showlegend=False, \n",
    "                                 legendgroup=group), row=row, col=col)\n",
    "        fig.add_trace(go.Scatter(name='Lower Bound', x=x_data, y=lower, marker=dict(color=error_colors[ind]),\n",
    "                                 line=dict(width=0), mode='lines', fillcolor=error_colors[ind], fill='tonexty', \n",
    "                                 showlegend=False, legendgroup=group), row=row, col=col)\n",
    "fig.add_hline(y=75, line_width=1, line_dash='dash', line_color=chance_color, opacity=1)\n",
    "fig.add_hline(y=25, line_width=1, line_dash='dash', line_color=chance_color, opacity=1)\n",
    "fig.update_yaxes(title='Lick Accuracy', range=[0, 100], dtick=25, col=1)\n",
    "fig.update_xaxes(title='Trial', row=2)\n",
    "fig.show()\n",
    "if only_min_trials:\n",
    "    fig.write_image(pjoin(fig_path, 'lick_acc_min_trials_across_groups.png'))\n",
    "else:\n",
    "    fig.write_image(pjoin(fig_path, 'lick_acc_across_groups.png'))"
   ]
  },
  {
   "cell_type": "code",
   "execution_count": null,
   "metadata": {},
   "outputs": [],
   "source": [
    "group_data = {'Young Adult': [], 'Middle Aged': [], 'Aged': [], 'day': []}\n",
    "for day in np.unique(trial_acc['day']):\n",
    "    group_data['Young Adult'].append(np.nanmean(trial_acc['trial_acc_5'][(trial_acc['group'] == 'Young Adult') & (trial_acc['day'] == day)].apply(pd.Series), axis=0))\n",
    "    group_data['Middle Aged'].append(np.nanmean(trial_acc['trial_acc_5'][(trial_acc['group'] == 'Middle Aged') & (trial_acc['day'] == day)].apply(pd.Series), axis=0))\n",
    "    group_data['Aged'].append(np.nanmean(trial_acc['trial_acc_5'][(trial_acc['group'] == 'Aged') & (trial_acc['day'] == day)].apply(pd.Series), axis=0))\n",
    "    group_data['Young Adult'].append(np.std(trial_acc['trial_acc_5'][(trial_acc['group'] == 'Young Adult') & (trial_acc['day'] == day)].apply(pd.Series), axis=0, ddof=1).to_numpy() / np.sqrt(len(trial_acc['trial_acc_5'][(trial_acc['group'] == 'Young Adult') & (trial_acc['day'] == day)].apply(pd.Series))))\n",
    "    group_data['Middle Aged'].append(np.std(trial_acc['trial_acc_5'][(trial_acc['group'] == 'Middle Aged') & (trial_acc['day'] == day)].apply(pd.Series), axis=0, ddof=1).to_numpy() / np.sqrt(len(trial_acc['trial_acc_5'][(trial_acc['group'] == 'Middle Aged') & (trial_acc['day'] == day)].apply(pd.Series))))\n",
    "    group_data['Aged'].append(np.std(trial_acc['trial_acc_5'][(trial_acc['group'] == 'Aged') & (trial_acc['day'] == day)].apply(pd.Series), axis=0, ddof=1).to_numpy() / np.sqrt(len(trial_acc['trial_acc_5'][(trial_acc['group'] == 'Aged') & (trial_acc['day'] == day)].apply(pd.Series))))\n",
    "    group_data['day'].append(day)\n",
    "    group_data['day'].append(day)\n",
    "group_df_five = pd.DataFrame(group_data)"
   ]
  },
  {
   "cell_type": "code",
   "execution_count": null,
   "metadata": {},
   "outputs": [],
   "source": [
    "## For lick accuracy fifth lick\n",
    "only_min_trials = False\n",
    "fig = pf.custom_graph_template(x_title='', y_title='', height=800, width=1200,\n",
    "                               rows=3, columns=6, shared_x=True, shared_y=True,\n",
    "                               titles=[f'Day {x}' for x in np.arange(1, len(np.unique(group_df_five['day']))+1)])\n",
    "for idx, day in enumerate(np.unique(group_df_five['day'])):\n",
    "    plot_data = group_df_five[group_df_five['day'] == day]\n",
    "\n",
    "    if only_min_trials:\n",
    "        trial_lengths = []\n",
    "        for group in plot_data.columns[:-1]:\n",
    "            trial_lengths.append(len(plot_data.loc[:, group].values[0]))\n",
    "        min_trials = np.min(trial_lengths)\n",
    "    else:\n",
    "        min_trials = -1\n",
    "    \n",
    "    for ind, group in enumerate(plot_data.columns[:-1]):\n",
    "        group_data = plot_data.loc[:, group].values[0][:min_trials]\n",
    "        upper = plot_data.loc[:, group].values[0][:min_trials] + plot_data.loc[:, group].values[1][:min_trials]\n",
    "        lower = plot_data.loc[:, group].values[0][:min_trials] - plot_data.loc[:, group].values[1][:min_trials]\n",
    "        x_data = np.arange(1, len(group_data)+1) * bin_size\n",
    "        if idx < 6:\n",
    "            row, col = 1, idx + 1\n",
    "        elif (idx >= 6) & (idx < 12):\n",
    "            row, col = 2, idx - 5\n",
    "        else:\n",
    "            row, col = 3, idx - 11\n",
    "        fig.add_trace(go.Scatter(x=x_data, y=group_data, mode='lines', opacity=opacity,\n",
    "                                line_color=group_colors_dict[group], showlegend=False,\n",
    "                                legendgroup=group, name=group), row=row, col=col)\n",
    "        fig.add_trace(go.Scatter(name='Upper Bound', x=x_data, y=upper, mode='lines',\n",
    "                                 marker=dict(color=error_colors[ind]), line=dict(width=0), showlegend=False, \n",
    "                                 legendgroup=group), row=row, col=col)\n",
    "        fig.add_trace(go.Scatter(name='Lower Bound', x=x_data, y=lower, marker=dict(color=error_colors[ind]),\n",
    "                                 line=dict(width=0), mode='lines', fillcolor=error_colors[ind], fill='tonexty', \n",
    "                                 showlegend=False, legendgroup=group), row=row, col=col)\n",
    "fig.add_hline(y=75, line_width=1, line_dash='dash', line_color=chance_color, opacity=1)\n",
    "fig.add_hline(y=25, line_width=1, line_dash='dash', line_color=chance_color, opacity=1)\n",
    "fig.update_yaxes(title='Lick Accuracy', range=[0, 100], dtick=25, col=1)\n",
    "fig.update_xaxes(title='Trial', row=3)\n",
    "fig.show()\n",
    "# if only_min_trials:\n",
    "#     fig.write_image(pjoin(fig_path, 'lick_acc_min_trials_across_groups.png'))\n",
    "# else:\n",
    "#     fig.write_image(pjoin(fig_path, 'lick_acc_across_groups.png'))"
   ]
  },
  {
   "cell_type": "markdown",
   "metadata": {},
   "source": [
    "### Look at trial by trial changes in lick accuracy comparing threshold 1 vs 5 for each group."
   ]
  },
  {
   "cell_type": "code",
   "execution_count": null,
   "metadata": {},
   "outputs": [],
   "source": [
    "group_of_interest = 'Young Adult'\n",
    "group_data = {'Young Adult Thresh1': [], 'Young Adult Thresh5': [], 'day': []}\n",
    "for day in np.unique(trial_acc['day']):\n",
    "    group_data['Young Adult Thresh1'].append(np.nanmean(trial_acc['trial_acc_1'][(trial_acc['group'] == group_of_interest) & (trial_acc['day'] == day)].apply(pd.Series), axis=0))\n",
    "    group_data['Young Adult Thresh5'].append(np.nanmean(trial_acc['trial_acc_5'][(trial_acc['group'] == group_of_interest) & (trial_acc['day'] == day)].apply(pd.Series), axis=0))\n",
    "    group_data['Young Adult Thresh1'].append(np.std(trial_acc['trial_acc_1'][(trial_acc['group'] == group_of_interest) & (trial_acc['day'] == day)].apply(pd.Series), axis=0, ddof=1).to_numpy() / np.sqrt(len(trial_acc['trial_acc_1'][(trial_acc['group'] == group_of_interest) & (trial_acc['day'] == day)].apply(pd.Series))))\n",
    "    group_data['Young Adult Thresh5'].append(np.std(trial_acc['trial_acc_5'][(trial_acc['group'] == group_of_interest) & (trial_acc['day'] == day)].apply(pd.Series), axis=0, ddof=1).to_numpy() / np.sqrt(len(trial_acc['trial_acc_5'][(trial_acc['group'] == group_of_interest) & (trial_acc['day'] == day)].apply(pd.Series))))\n",
    "    group_data['day'].append(day)\n",
    "    group_data['day'].append(day)\n",
    "young_df = pd.DataFrame(group_data)"
   ]
  },
  {
   "cell_type": "code",
   "execution_count": null,
   "metadata": {},
   "outputs": [],
   "source": [
    "## For lick accuracy fifth lick\n",
    "only_min_trials = False\n",
    "fig = pf.custom_graph_template(x_title='', y_title='', height=800, width=1200,\n",
    "                               rows=3, columns=6, shared_x=True, shared_y=True,\n",
    "                               titles=[f'Day {x}' for x in np.arange(1, len(np.unique(young_df['day']))+1)])\n",
    "for idx, day in enumerate(np.unique(young_df['day'])):\n",
    "    plot_data = young_df[young_df['day'] == day]\n",
    "\n",
    "    if only_min_trials:\n",
    "        trial_lengths = []\n",
    "        for group in plot_data.columns[:-1]:\n",
    "            trial_lengths.append(len(plot_data.loc[:, group].values[0]))\n",
    "        min_trials = np.min(trial_lengths)\n",
    "    else:\n",
    "        min_trials = -1\n",
    "    \n",
    "    for ind, group in enumerate(plot_data.columns[:-1]):\n",
    "        group_data = plot_data.loc[:, group].values[0][:min_trials]\n",
    "        upper = plot_data.loc[:, group].values[0][:min_trials] + plot_data.loc[:, group].values[1][:min_trials]\n",
    "        lower = plot_data.loc[:, group].values[0][:min_trials] - plot_data.loc[:, group].values[1][:min_trials]\n",
    "        x_data = np.arange(1, len(group_data)+1) * bin_size\n",
    "        if idx < 6:\n",
    "            row, col = 1, idx + 1\n",
    "        elif (idx >= 6) & (idx < 12):\n",
    "            row, col = 2, idx - 5\n",
    "        else:\n",
    "            row, col = 3, idx - 11\n",
    "        fig.add_trace(go.Scatter(x=x_data, y=group_data, mode='lines', opacity=opacity,\n",
    "                                line_color=group_colors_dict[group], showlegend=False,\n",
    "                                legendgroup=group, name=group), row=row, col=col)\n",
    "        fig.add_trace(go.Scatter(name='Upper Bound', x=x_data, y=upper, mode='lines',\n",
    "                                 marker=dict(color=error_colors[ind]), line=dict(width=0), showlegend=False, \n",
    "                                 legendgroup=group), row=row, col=col)\n",
    "        fig.add_trace(go.Scatter(name='Lower Bound', x=x_data, y=lower, marker=dict(color=error_colors[ind]),\n",
    "                                 line=dict(width=0), mode='lines', fillcolor=error_colors[ind], fill='tonexty', \n",
    "                                 showlegend=False, legendgroup=group), row=row, col=col)\n",
    "fig.add_hline(y=75, line_width=1, line_dash='dash', line_color=chance_color, opacity=1)\n",
    "fig.add_hline(y=25, line_width=1, line_dash='dash', line_color=chance_color, opacity=1)\n",
    "fig.update_yaxes(title='Lick Accuracy', range=[0, 100], dtick=25, col=1)\n",
    "fig.update_xaxes(title='Trial', row=3)\n",
    "fig.show()\n",
    "if only_min_trials:\n",
    "    fig.write_image(pjoin(fig_path, 'lick_acc_min_trials_young.png'))\n",
    "else:\n",
    "    fig.write_image(pjoin(fig_path, 'lick_acc_across_young.png'))"
   ]
  },
  {
   "cell_type": "code",
   "execution_count": null,
   "metadata": {},
   "outputs": [],
   "source": [
    "group_of_interest = 'Middle Aged'\n",
    "group_data = {'Middle Aged Thresh1': [], 'Middle Aged Thresh5': [], 'day': []}\n",
    "for day in np.unique(trial_acc['day']):\n",
    "    group_data['Middle Aged Thresh1'].append(np.nanmean(trial_acc['trial_acc_1'][(trial_acc['group'] == group_of_interest) & (trial_acc['day'] == day)].apply(pd.Series), axis=0))\n",
    "    group_data['Middle Aged Thresh5'].append(np.nanmean(trial_acc['trial_acc_5'][(trial_acc['group'] == group_of_interest) & (trial_acc['day'] == day)].apply(pd.Series), axis=0))\n",
    "    group_data['Middle Aged Thresh1'].append(np.std(trial_acc['trial_acc_1'][(trial_acc['group'] == group_of_interest) & (trial_acc['day'] == day)].apply(pd.Series), axis=0, ddof=1).to_numpy() / np.sqrt(len(trial_acc['trial_acc_1'][(trial_acc['group'] == group_of_interest) & (trial_acc['day'] == day)].apply(pd.Series))))\n",
    "    group_data['Middle Aged Thresh5'].append(np.std(trial_acc['trial_acc_5'][(trial_acc['group'] == group_of_interest) & (trial_acc['day'] == day)].apply(pd.Series), axis=0, ddof=1).to_numpy() / np.sqrt(len(trial_acc['trial_acc_5'][(trial_acc['group'] == group_of_interest) & (trial_acc['day'] == day)].apply(pd.Series))))\n",
    "    group_data['day'].append(day)\n",
    "    group_data['day'].append(day)\n",
    "middle_aged_df = pd.DataFrame(group_data)"
   ]
  },
  {
   "cell_type": "code",
   "execution_count": null,
   "metadata": {},
   "outputs": [],
   "source": [
    "## For lick accuracy fifth lick\n",
    "only_min_trials = False\n",
    "fig = pf.custom_graph_template(x_title='', y_title='', height=800, width=1200,\n",
    "                               rows=3, columns=6, shared_x=True, shared_y=True,\n",
    "                               titles=[f'Day {x}' for x in np.arange(1, len(np.unique(middle_aged_df['day']))+1)])\n",
    "for idx, day in enumerate(np.unique(middle_aged_df['day'])):\n",
    "    plot_data = middle_aged_df[middle_aged_df['day'] == day]\n",
    "\n",
    "    if only_min_trials:\n",
    "        trial_lengths = []\n",
    "        for group in plot_data.columns[:-1]:\n",
    "            trial_lengths.append(len(plot_data.loc[:, group].values[0]))\n",
    "        min_trials = np.min(trial_lengths)\n",
    "    else:\n",
    "        min_trials = -1\n",
    "    \n",
    "    for ind, group in enumerate(plot_data.columns[:-1]):\n",
    "        group_data = plot_data.loc[:, group].values[0][:min_trials]\n",
    "        upper = plot_data.loc[:, group].values[0][:min_trials] + plot_data.loc[:, group].values[1][:min_trials]\n",
    "        lower = plot_data.loc[:, group].values[0][:min_trials] - plot_data.loc[:, group].values[1][:min_trials]\n",
    "        x_data = np.arange(1, len(group_data)+1) * bin_size\n",
    "        if idx < 6:\n",
    "            row, col = 1, idx + 1\n",
    "        elif (idx >= 6) & (idx < 12):\n",
    "            row, col = 2, idx - 5\n",
    "        else:\n",
    "            row, col = 3, idx - 11\n",
    "        fig.add_trace(go.Scatter(x=x_data, y=group_data, mode='lines', opacity=opacity,\n",
    "                                line_color=group_colors_dict[group], showlegend=False,\n",
    "                                legendgroup=group, name=group), row=row, col=col)\n",
    "        fig.add_trace(go.Scatter(name='Upper Bound', x=x_data, y=upper, mode='lines',\n",
    "                                 marker=dict(color=error_colors[ind]), line=dict(width=0), showlegend=False, \n",
    "                                 legendgroup=group), row=row, col=col)\n",
    "        fig.add_trace(go.Scatter(name='Lower Bound', x=x_data, y=lower, marker=dict(color=error_colors[ind]),\n",
    "                                 line=dict(width=0), mode='lines', fillcolor=error_colors[ind], fill='tonexty', \n",
    "                                 showlegend=False, legendgroup=group), row=row, col=col)\n",
    "fig.add_hline(y=75, line_width=1, line_dash='dash', line_color=chance_color, opacity=1)\n",
    "fig.add_hline(y=25, line_width=1, line_dash='dash', line_color=chance_color, opacity=1)\n",
    "fig.update_yaxes(title='Lick Accuracy', range=[0, 100], dtick=25, col=1)\n",
    "fig.update_xaxes(title='Trial', row=3)\n",
    "fig.show()\n",
    "if only_min_trials:\n",
    "    fig.write_image(pjoin(fig_path, 'lick_acc_min_trials_middle_aged.png'))\n",
    "else:\n",
    "    fig.write_image(pjoin(fig_path, 'lick_acc_across_middle_aged.png'))"
   ]
  },
  {
   "cell_type": "code",
   "execution_count": null,
   "metadata": {},
   "outputs": [],
   "source": [
    "group_of_interest = 'Aged'\n",
    "group_data = {'Aged Thresh1': [], 'Aged Thresh5': [], 'day': []}\n",
    "for day in np.unique(trial_acc['day']):\n",
    "    group_data['Aged Thresh1'].append(np.nanmean(trial_acc['trial_acc_1'][(trial_acc['group'] == group_of_interest) & (trial_acc['day'] == day)].apply(pd.Series), axis=0))\n",
    "    group_data['Aged Thresh5'].append(np.nanmean(trial_acc['trial_acc_5'][(trial_acc['group'] == group_of_interest) & (trial_acc['day'] == day)].apply(pd.Series), axis=0))\n",
    "    group_data['Aged Thresh1'].append(np.std(trial_acc['trial_acc_1'][(trial_acc['group'] == group_of_interest) & (trial_acc['day'] == day)].apply(pd.Series), axis=0, ddof=1).to_numpy() / np.sqrt(len(trial_acc['trial_acc_1'][(trial_acc['group'] == group_of_interest) & (trial_acc['day'] == day)].apply(pd.Series))))\n",
    "    group_data['Aged Thresh5'].append(np.std(trial_acc['trial_acc_5'][(trial_acc['group'] == group_of_interest) & (trial_acc['day'] == day)].apply(pd.Series), axis=0, ddof=1).to_numpy() / np.sqrt(len(trial_acc['trial_acc_5'][(trial_acc['group'] == group_of_interest) & (trial_acc['day'] == day)].apply(pd.Series))))\n",
    "    group_data['day'].append(day)\n",
    "    group_data['day'].append(day)\n",
    "aged_df = pd.DataFrame(group_data)"
   ]
  },
  {
   "cell_type": "code",
   "execution_count": null,
   "metadata": {},
   "outputs": [],
   "source": [
    "## For lick accuracy fifth lick\n",
    "only_min_trials = False\n",
    "fig = pf.custom_graph_template(x_title='', y_title='', height=800, width=1200,\n",
    "                               rows=3, columns=6, shared_x=True, shared_y=True,\n",
    "                               titles=[f'Day {x}' for x in np.arange(1, len(np.unique(aged_df['day']))+1)])\n",
    "for idx, day in enumerate(np.unique(aged_df['day'])):\n",
    "    plot_data = aged_df[aged_df['day'] == day]\n",
    "\n",
    "    if only_min_trials:\n",
    "        trial_lengths = []\n",
    "        for group in plot_data.columns[:-1]:\n",
    "            trial_lengths.append(len(plot_data.loc[:, group].values[0]))\n",
    "        min_trials = np.min(trial_lengths)\n",
    "    else:\n",
    "        min_trials = -1\n",
    "    \n",
    "    for ind, group in enumerate(plot_data.columns[:-1]):\n",
    "        group_data = plot_data.loc[:, group].values[0][:min_trials]\n",
    "        upper = plot_data.loc[:, group].values[0][:min_trials] + plot_data.loc[:, group].values[1][:min_trials]\n",
    "        lower = plot_data.loc[:, group].values[0][:min_trials] - plot_data.loc[:, group].values[1][:min_trials]\n",
    "        x_data = np.arange(1, len(group_data)+1) * bin_size\n",
    "        if idx < 6:\n",
    "            row, col = 1, idx + 1\n",
    "        elif (idx >= 6) & (idx < 12):\n",
    "            row, col = 2, idx - 5\n",
    "        else:\n",
    "            row, col = 3, idx - 11\n",
    "        fig.add_trace(go.Scatter(x=x_data, y=group_data, mode='lines', opacity=opacity,\n",
    "                                line_color=group_colors_dict[group], showlegend=False,\n",
    "                                legendgroup=group, name=group), row=row, col=col)\n",
    "        fig.add_trace(go.Scatter(name='Upper Bound', x=x_data, y=upper, mode='lines',\n",
    "                                 marker=dict(color=error_colors[ind]), line=dict(width=0), showlegend=False, \n",
    "                                 legendgroup=group), row=row, col=col)\n",
    "        fig.add_trace(go.Scatter(name='Lower Bound', x=x_data, y=lower, marker=dict(color=error_colors[ind]),\n",
    "                                 line=dict(width=0), mode='lines', fillcolor=error_colors[ind], fill='tonexty', \n",
    "                                 showlegend=False, legendgroup=group), row=row, col=col)\n",
    "fig.add_hline(y=75, line_width=1, line_dash='dash', line_color=chance_color, opacity=1)\n",
    "fig.add_hline(y=25, line_width=1, line_dash='dash', line_color=chance_color, opacity=1)\n",
    "fig.update_yaxes(title='Lick Accuracy', range=[0, 100], dtick=25, col=1)\n",
    "fig.update_xaxes(title='Trial', row=3)\n",
    "fig.show()\n",
    "if only_min_trials:\n",
    "    fig.write_image(pjoin(fig_path, 'lick_acc_min_trials_aged.png'))\n",
    "else:\n",
    "    fig.write_image(pjoin(fig_path, 'lick_acc_across_aged.png'))"
   ]
  },
  {
   "cell_type": "markdown",
   "metadata": {},
   "source": [
    "### Look at probe accuracy."
   ]
  },
  {
   "cell_type": "code",
   "execution_count": null,
   "metadata": {},
   "outputs": [],
   "source": [
    "## Looking at first licks\n",
    "circletrack_results = {'mouse': [], 'day': [], 'group': [], 'session': [], 'lick_accuracy_thresh1': [], 'lick_accuracy_thresh5': []}\n",
    "for mouse in os.listdir(circle_path)[:-1]: ## somehow a .DS_Store appeared????????\n",
    "    mouse_path = pjoin(circle_path, mouse)\n",
    "    group = 'Young Adult' if mouse in young_adult else 'Middle Aged' if mouse in middle_aged else 'Aged'\n",
    "    for idx, session in enumerate(os.listdir(mouse_path)):\n",
    "            behav = pd.read_feather(pjoin(mouse_path, f'{session}'))\n",
    "            if any(behav['probe']):\n",
    "                behav = behav[behav['probe']]\n",
    "                reward_one, reward_two = np.unique(behav['reward_one'])[0], np.unique(behav['reward_two'])[0]\n",
    "                pc_thresh1 = ctb.lick_accuracy(behav, port_one=reward_one, port_two=reward_two, lick_threshold=1, by_trials=False)\n",
    "                pc_thresh5 = ctb.lick_accuracy(behav, port_one=reward_one, port_two=reward_two, lick_threshold=5, by_trials=False)\n",
    "                circletrack_results['mouse'].append(mouse)\n",
    "                circletrack_results['day'].append(idx+1)\n",
    "                circletrack_results['group'].append(group)\n",
    "                circletrack_results['session'].append(np.unique(behav['session'])[0])\n",
    "                circletrack_results['lick_accuracy_thresh1'].append(pc_thresh1)\n",
    "                circletrack_results['lick_accuracy_thresh5'].append(pc_thresh5)\n",
    "ct_df = pd.DataFrame(circletrack_results)"
   ]
  },
  {
   "cell_type": "code",
   "execution_count": null,
   "metadata": {},
   "outputs": [],
   "source": [
    "y_variable = 'lick_accuracy_thresh1'\n",
    "sess_pairs = [('A', 'AP'), ('B', 'BP'), ('C', 'CP'), ('D', 'DP')]\n",
    "fig = pf.custom_graph_template(x_title='', y_title='', rows=1, columns=4, titles=['A', 'B', 'C', 'D'], \n",
    "                               width=1000, shared_y=True)\n",
    "for idx, pair in enumerate(sess_pairs):\n",
    "    loop_data = ct_df[(ct_df['session'] == pair[0]) | (ct_df['session'] == pair[1])]\n",
    "    loop_data = loop_data.replace({pair[0]: 'First', pair[1]: 'Last'})\n",
    "    avg_data = loop_data.groupby(['session', 'group'], as_index=False).agg({y_variable: ['mean', 'sem']})\n",
    "    for group in np.unique(avg_data['group']):\n",
    "        gdata = avg_data[avg_data['group'] == group]\n",
    "        fig.add_trace(go.Scatter(x=gdata['session'], y=gdata[y_variable]['mean'], name=group,\n",
    "                                 marker_color=group_colors_dict[group], showlegend=False, legendgroup=group,\n",
    "                                 error_y=dict(type='data', array=gdata[y_variable]['sem'])), row=1, col=idx+1)\n",
    "fig['data'][0]['showlegend'] = True\n",
    "fig['data'][1]['showlegend'] = True\n",
    "fig['data'][2]['showlegend'] = True\n",
    "fig.add_hline(y=25, line_width=1, line_dash='dash', line_color=chance_color, opacity=1)\n",
    "fig.update_yaxes(title='Lick Accuracy (%)', col=1)\n",
    "fig.show()\n",
    "fig.write_image(pjoin(fig_path, 'thresh1_probe_acc.png'))"
   ]
  },
  {
   "cell_type": "code",
   "execution_count": null,
   "metadata": {},
   "outputs": [],
   "source": [
    "y_variable = 'lick_accuracy_thresh5'\n",
    "sess_pairs = [('A', 'AP'), ('B', 'BP'), ('C', 'CP'), ('D', 'DP')]\n",
    "fig = pf.custom_graph_template(x_title='', y_title='', rows=1, columns=4, titles=['A', 'B', 'C', 'D'], \n",
    "                               width=1000, shared_y=True)\n",
    "for idx, pair in enumerate(sess_pairs):\n",
    "    loop_data = ct_df[(ct_df['session'] == pair[0]) | (ct_df['session'] == pair[1])]\n",
    "    loop_data = loop_data.replace({pair[0]: 'First', pair[1]: 'Last'})\n",
    "    avg_data = loop_data.groupby(['session', 'group'], as_index=False).agg({y_variable: ['mean', 'sem']})\n",
    "    for group in np.unique(avg_data['group']):\n",
    "        gdata = avg_data[avg_data['group'] == group]\n",
    "        fig.add_trace(go.Scatter(x=gdata['session'], y=gdata[y_variable]['mean'], name=group,\n",
    "                                 marker_color=group_colors_dict[group], showlegend=False, legendgroup=group,\n",
    "                                 error_y=dict(type='data', array=gdata[y_variable]['sem'])), row=1, col=idx+1)\n",
    "fig['data'][0]['showlegend'] = True\n",
    "fig['data'][1]['showlegend'] = True\n",
    "fig['data'][2]['showlegend'] = True\n",
    "fig.add_hline(y=25, line_width=1, line_dash='dash', line_color=chance_color, opacity=1)\n",
    "fig.update_yaxes(title='Lick Accuracy (%)', col=1)\n",
    "fig.show()\n",
    "fig.write_image(pjoin(fig_path, 'thresh5_probe_acc.png'))"
   ]
  },
  {
   "cell_type": "markdown",
   "metadata": {},
   "source": [
    "### Days to Criteria"
   ]
  },
  {
   "cell_type": "code",
   "execution_count": 78,
   "metadata": {},
   "outputs": [],
   "source": [
    "todays_mazes = pd.read_csv(f'../../../{project_dir}/{experiment_dir}/maze_yml/{experiment_dir} - TodaysMazes.csv')\n",
    "melt_df = todays_mazes.melt(id_vars='Mouse')\n",
    "finished_mice = np.unique(melt_df['Mouse'][melt_df['value'] == 'DONE'])\n",
    "mdata = pd.DataFrame()\n",
    "for mouse in finished_mice:\n",
    "    loop_data = todays_mazes[todays_mazes['Mouse'] == mouse]\n",
    "    mdata = pd.concat([mdata, loop_data])\n",
    "melt_df = mdata.melt(id_vars='Mouse')\n",
    "melt_df = melt_df[~pd.isna(melt_df['value'])]\n",
    "melt_df = melt_df[(melt_df['value'] != 'AP') & (melt_df['value'] != 'BP') & (melt_df['value'] != 'CP') & (melt_df['value'] != 'DP') & (melt_df['value'] != 'DONE') & (melt_df['value'] != 'CT') & (melt_df['value'] != 'DT')]"
   ]
  },
  {
   "cell_type": "code",
   "execution_count": 79,
   "metadata": {},
   "outputs": [
    {
     "name": "stderr",
     "output_type": "stream",
     "text": [
      "/tmp/ipykernel_56185/523038100.py:6: SettingWithCopyWarning:\n",
      "\n",
      "\n",
      "A value is trying to be set on a copy of a slice from a DataFrame.\n",
      "Try using .loc[row_indexer,col_indexer] = value instead\n",
      "\n",
      "See the caveats in the documentation: https://pandas.pydata.org/pandas-docs/stable/user_guide/indexing.html#returning-a-view-versus-a-copy\n",
      "\n",
      "/tmp/ipykernel_56185/523038100.py:7: SettingWithCopyWarning:\n",
      "\n",
      "\n",
      "A value is trying to be set on a copy of a slice from a DataFrame.\n",
      "Try using .loc[row_indexer,col_indexer] = value instead\n",
      "\n",
      "See the caveats in the documentation: https://pandas.pydata.org/pandas-docs/stable/user_guide/indexing.html#returning-a-view-versus-a-copy\n",
      "\n",
      "/tmp/ipykernel_56185/523038100.py:6: SettingWithCopyWarning:\n",
      "\n",
      "\n",
      "A value is trying to be set on a copy of a slice from a DataFrame.\n",
      "Try using .loc[row_indexer,col_indexer] = value instead\n",
      "\n",
      "See the caveats in the documentation: https://pandas.pydata.org/pandas-docs/stable/user_guide/indexing.html#returning-a-view-versus-a-copy\n",
      "\n",
      "/tmp/ipykernel_56185/523038100.py:7: SettingWithCopyWarning:\n",
      "\n",
      "\n",
      "A value is trying to be set on a copy of a slice from a DataFrame.\n",
      "Try using .loc[row_indexer,col_indexer] = value instead\n",
      "\n",
      "See the caveats in the documentation: https://pandas.pydata.org/pandas-docs/stable/user_guide/indexing.html#returning-a-view-versus-a-copy\n",
      "\n",
      "/tmp/ipykernel_56185/523038100.py:6: SettingWithCopyWarning:\n",
      "\n",
      "\n",
      "A value is trying to be set on a copy of a slice from a DataFrame.\n",
      "Try using .loc[row_indexer,col_indexer] = value instead\n",
      "\n",
      "See the caveats in the documentation: https://pandas.pydata.org/pandas-docs/stable/user_guide/indexing.html#returning-a-view-versus-a-copy\n",
      "\n",
      "/tmp/ipykernel_56185/523038100.py:7: SettingWithCopyWarning:\n",
      "\n",
      "\n",
      "A value is trying to be set on a copy of a slice from a DataFrame.\n",
      "Try using .loc[row_indexer,col_indexer] = value instead\n",
      "\n",
      "See the caveats in the documentation: https://pandas.pydata.org/pandas-docs/stable/user_guide/indexing.html#returning-a-view-versus-a-copy\n",
      "\n",
      "/tmp/ipykernel_56185/523038100.py:6: SettingWithCopyWarning:\n",
      "\n",
      "\n",
      "A value is trying to be set on a copy of a slice from a DataFrame.\n",
      "Try using .loc[row_indexer,col_indexer] = value instead\n",
      "\n",
      "See the caveats in the documentation: https://pandas.pydata.org/pandas-docs/stable/user_guide/indexing.html#returning-a-view-versus-a-copy\n",
      "\n",
      "/tmp/ipykernel_56185/523038100.py:7: SettingWithCopyWarning:\n",
      "\n",
      "\n",
      "A value is trying to be set on a copy of a slice from a DataFrame.\n",
      "Try using .loc[row_indexer,col_indexer] = value instead\n",
      "\n",
      "See the caveats in the documentation: https://pandas.pydata.org/pandas-docs/stable/user_guide/indexing.html#returning-a-view-versus-a-copy\n",
      "\n",
      "/tmp/ipykernel_56185/523038100.py:6: SettingWithCopyWarning:\n",
      "\n",
      "\n",
      "A value is trying to be set on a copy of a slice from a DataFrame.\n",
      "Try using .loc[row_indexer,col_indexer] = value instead\n",
      "\n",
      "See the caveats in the documentation: https://pandas.pydata.org/pandas-docs/stable/user_guide/indexing.html#returning-a-view-versus-a-copy\n",
      "\n",
      "/tmp/ipykernel_56185/523038100.py:7: SettingWithCopyWarning:\n",
      "\n",
      "\n",
      "A value is trying to be set on a copy of a slice from a DataFrame.\n",
      "Try using .loc[row_indexer,col_indexer] = value instead\n",
      "\n",
      "See the caveats in the documentation: https://pandas.pydata.org/pandas-docs/stable/user_guide/indexing.html#returning-a-view-versus-a-copy\n",
      "\n",
      "/tmp/ipykernel_56185/523038100.py:6: SettingWithCopyWarning:\n",
      "\n",
      "\n",
      "A value is trying to be set on a copy of a slice from a DataFrame.\n",
      "Try using .loc[row_indexer,col_indexer] = value instead\n",
      "\n",
      "See the caveats in the documentation: https://pandas.pydata.org/pandas-docs/stable/user_guide/indexing.html#returning-a-view-versus-a-copy\n",
      "\n",
      "/tmp/ipykernel_56185/523038100.py:7: SettingWithCopyWarning:\n",
      "\n",
      "\n",
      "A value is trying to be set on a copy of a slice from a DataFrame.\n",
      "Try using .loc[row_indexer,col_indexer] = value instead\n",
      "\n",
      "See the caveats in the documentation: https://pandas.pydata.org/pandas-docs/stable/user_guide/indexing.html#returning-a-view-versus-a-copy\n",
      "\n",
      "/tmp/ipykernel_56185/523038100.py:6: SettingWithCopyWarning:\n",
      "\n",
      "\n",
      "A value is trying to be set on a copy of a slice from a DataFrame.\n",
      "Try using .loc[row_indexer,col_indexer] = value instead\n",
      "\n",
      "See the caveats in the documentation: https://pandas.pydata.org/pandas-docs/stable/user_guide/indexing.html#returning-a-view-versus-a-copy\n",
      "\n",
      "/tmp/ipykernel_56185/523038100.py:7: SettingWithCopyWarning:\n",
      "\n",
      "\n",
      "A value is trying to be set on a copy of a slice from a DataFrame.\n",
      "Try using .loc[row_indexer,col_indexer] = value instead\n",
      "\n",
      "See the caveats in the documentation: https://pandas.pydata.org/pandas-docs/stable/user_guide/indexing.html#returning-a-view-versus-a-copy\n",
      "\n",
      "/tmp/ipykernel_56185/523038100.py:6: SettingWithCopyWarning:\n",
      "\n",
      "\n",
      "A value is trying to be set on a copy of a slice from a DataFrame.\n",
      "Try using .loc[row_indexer,col_indexer] = value instead\n",
      "\n",
      "See the caveats in the documentation: https://pandas.pydata.org/pandas-docs/stable/user_guide/indexing.html#returning-a-view-versus-a-copy\n",
      "\n",
      "/tmp/ipykernel_56185/523038100.py:7: SettingWithCopyWarning:\n",
      "\n",
      "\n",
      "A value is trying to be set on a copy of a slice from a DataFrame.\n",
      "Try using .loc[row_indexer,col_indexer] = value instead\n",
      "\n",
      "See the caveats in the documentation: https://pandas.pydata.org/pandas-docs/stable/user_guide/indexing.html#returning-a-view-versus-a-copy\n",
      "\n",
      "/tmp/ipykernel_56185/523038100.py:6: SettingWithCopyWarning:\n",
      "\n",
      "\n",
      "A value is trying to be set on a copy of a slice from a DataFrame.\n",
      "Try using .loc[row_indexer,col_indexer] = value instead\n",
      "\n",
      "See the caveats in the documentation: https://pandas.pydata.org/pandas-docs/stable/user_guide/indexing.html#returning-a-view-versus-a-copy\n",
      "\n",
      "/tmp/ipykernel_56185/523038100.py:7: SettingWithCopyWarning:\n",
      "\n",
      "\n",
      "A value is trying to be set on a copy of a slice from a DataFrame.\n",
      "Try using .loc[row_indexer,col_indexer] = value instead\n",
      "\n",
      "See the caveats in the documentation: https://pandas.pydata.org/pandas-docs/stable/user_guide/indexing.html#returning-a-view-versus-a-copy\n",
      "\n",
      "/tmp/ipykernel_56185/523038100.py:6: SettingWithCopyWarning:\n",
      "\n",
      "\n",
      "A value is trying to be set on a copy of a slice from a DataFrame.\n",
      "Try using .loc[row_indexer,col_indexer] = value instead\n",
      "\n",
      "See the caveats in the documentation: https://pandas.pydata.org/pandas-docs/stable/user_guide/indexing.html#returning-a-view-versus-a-copy\n",
      "\n",
      "/tmp/ipykernel_56185/523038100.py:7: SettingWithCopyWarning:\n",
      "\n",
      "\n",
      "A value is trying to be set on a copy of a slice from a DataFrame.\n",
      "Try using .loc[row_indexer,col_indexer] = value instead\n",
      "\n",
      "See the caveats in the documentation: https://pandas.pydata.org/pandas-docs/stable/user_guide/indexing.html#returning-a-view-versus-a-copy\n",
      "\n",
      "/tmp/ipykernel_56185/523038100.py:6: SettingWithCopyWarning:\n",
      "\n",
      "\n",
      "A value is trying to be set on a copy of a slice from a DataFrame.\n",
      "Try using .loc[row_indexer,col_indexer] = value instead\n",
      "\n",
      "See the caveats in the documentation: https://pandas.pydata.org/pandas-docs/stable/user_guide/indexing.html#returning-a-view-versus-a-copy\n",
      "\n",
      "/tmp/ipykernel_56185/523038100.py:7: SettingWithCopyWarning:\n",
      "\n",
      "\n",
      "A value is trying to be set on a copy of a slice from a DataFrame.\n",
      "Try using .loc[row_indexer,col_indexer] = value instead\n",
      "\n",
      "See the caveats in the documentation: https://pandas.pydata.org/pandas-docs/stable/user_guide/indexing.html#returning-a-view-versus-a-copy\n",
      "\n",
      "/tmp/ipykernel_56185/523038100.py:6: SettingWithCopyWarning:\n",
      "\n",
      "\n",
      "A value is trying to be set on a copy of a slice from a DataFrame.\n",
      "Try using .loc[row_indexer,col_indexer] = value instead\n",
      "\n",
      "See the caveats in the documentation: https://pandas.pydata.org/pandas-docs/stable/user_guide/indexing.html#returning-a-view-versus-a-copy\n",
      "\n",
      "/tmp/ipykernel_56185/523038100.py:7: SettingWithCopyWarning:\n",
      "\n",
      "\n",
      "A value is trying to be set on a copy of a slice from a DataFrame.\n",
      "Try using .loc[row_indexer,col_indexer] = value instead\n",
      "\n",
      "See the caveats in the documentation: https://pandas.pydata.org/pandas-docs/stable/user_guide/indexing.html#returning-a-view-versus-a-copy\n",
      "\n",
      "/tmp/ipykernel_56185/523038100.py:6: SettingWithCopyWarning:\n",
      "\n",
      "\n",
      "A value is trying to be set on a copy of a slice from a DataFrame.\n",
      "Try using .loc[row_indexer,col_indexer] = value instead\n",
      "\n",
      "See the caveats in the documentation: https://pandas.pydata.org/pandas-docs/stable/user_guide/indexing.html#returning-a-view-versus-a-copy\n",
      "\n",
      "/tmp/ipykernel_56185/523038100.py:7: SettingWithCopyWarning:\n",
      "\n",
      "\n",
      "A value is trying to be set on a copy of a slice from a DataFrame.\n",
      "Try using .loc[row_indexer,col_indexer] = value instead\n",
      "\n",
      "See the caveats in the documentation: https://pandas.pydata.org/pandas-docs/stable/user_guide/indexing.html#returning-a-view-versus-a-copy\n",
      "\n",
      "/tmp/ipykernel_56185/523038100.py:6: SettingWithCopyWarning:\n",
      "\n",
      "\n",
      "A value is trying to be set on a copy of a slice from a DataFrame.\n",
      "Try using .loc[row_indexer,col_indexer] = value instead\n",
      "\n",
      "See the caveats in the documentation: https://pandas.pydata.org/pandas-docs/stable/user_guide/indexing.html#returning-a-view-versus-a-copy\n",
      "\n",
      "/tmp/ipykernel_56185/523038100.py:7: SettingWithCopyWarning:\n",
      "\n",
      "\n",
      "A value is trying to be set on a copy of a slice from a DataFrame.\n",
      "Try using .loc[row_indexer,col_indexer] = value instead\n",
      "\n",
      "See the caveats in the documentation: https://pandas.pydata.org/pandas-docs/stable/user_guide/indexing.html#returning-a-view-versus-a-copy\n",
      "\n",
      "/tmp/ipykernel_56185/523038100.py:6: SettingWithCopyWarning:\n",
      "\n",
      "\n",
      "A value is trying to be set on a copy of a slice from a DataFrame.\n",
      "Try using .loc[row_indexer,col_indexer] = value instead\n",
      "\n",
      "See the caveats in the documentation: https://pandas.pydata.org/pandas-docs/stable/user_guide/indexing.html#returning-a-view-versus-a-copy\n",
      "\n",
      "/tmp/ipykernel_56185/523038100.py:7: SettingWithCopyWarning:\n",
      "\n",
      "\n",
      "A value is trying to be set on a copy of a slice from a DataFrame.\n",
      "Try using .loc[row_indexer,col_indexer] = value instead\n",
      "\n",
      "See the caveats in the documentation: https://pandas.pydata.org/pandas-docs/stable/user_guide/indexing.html#returning-a-view-versus-a-copy\n",
      "\n",
      "/tmp/ipykernel_56185/523038100.py:6: SettingWithCopyWarning:\n",
      "\n",
      "\n",
      "A value is trying to be set on a copy of a slice from a DataFrame.\n",
      "Try using .loc[row_indexer,col_indexer] = value instead\n",
      "\n",
      "See the caveats in the documentation: https://pandas.pydata.org/pandas-docs/stable/user_guide/indexing.html#returning-a-view-versus-a-copy\n",
      "\n",
      "/tmp/ipykernel_56185/523038100.py:7: SettingWithCopyWarning:\n",
      "\n",
      "\n",
      "A value is trying to be set on a copy of a slice from a DataFrame.\n",
      "Try using .loc[row_indexer,col_indexer] = value instead\n",
      "\n",
      "See the caveats in the documentation: https://pandas.pydata.org/pandas-docs/stable/user_guide/indexing.html#returning-a-view-versus-a-copy\n",
      "\n",
      "/tmp/ipykernel_56185/523038100.py:6: SettingWithCopyWarning:\n",
      "\n",
      "\n",
      "A value is trying to be set on a copy of a slice from a DataFrame.\n",
      "Try using .loc[row_indexer,col_indexer] = value instead\n",
      "\n",
      "See the caveats in the documentation: https://pandas.pydata.org/pandas-docs/stable/user_guide/indexing.html#returning-a-view-versus-a-copy\n",
      "\n",
      "/tmp/ipykernel_56185/523038100.py:7: SettingWithCopyWarning:\n",
      "\n",
      "\n",
      "A value is trying to be set on a copy of a slice from a DataFrame.\n",
      "Try using .loc[row_indexer,col_indexer] = value instead\n",
      "\n",
      "See the caveats in the documentation: https://pandas.pydata.org/pandas-docs/stable/user_guide/indexing.html#returning-a-view-versus-a-copy\n",
      "\n",
      "/tmp/ipykernel_56185/523038100.py:6: SettingWithCopyWarning:\n",
      "\n",
      "\n",
      "A value is trying to be set on a copy of a slice from a DataFrame.\n",
      "Try using .loc[row_indexer,col_indexer] = value instead\n",
      "\n",
      "See the caveats in the documentation: https://pandas.pydata.org/pandas-docs/stable/user_guide/indexing.html#returning-a-view-versus-a-copy\n",
      "\n",
      "/tmp/ipykernel_56185/523038100.py:7: SettingWithCopyWarning:\n",
      "\n",
      "\n",
      "A value is trying to be set on a copy of a slice from a DataFrame.\n",
      "Try using .loc[row_indexer,col_indexer] = value instead\n",
      "\n",
      "See the caveats in the documentation: https://pandas.pydata.org/pandas-docs/stable/user_guide/indexing.html#returning-a-view-versus-a-copy\n",
      "\n",
      "/tmp/ipykernel_56185/523038100.py:6: SettingWithCopyWarning:\n",
      "\n",
      "\n",
      "A value is trying to be set on a copy of a slice from a DataFrame.\n",
      "Try using .loc[row_indexer,col_indexer] = value instead\n",
      "\n",
      "See the caveats in the documentation: https://pandas.pydata.org/pandas-docs/stable/user_guide/indexing.html#returning-a-view-versus-a-copy\n",
      "\n",
      "/tmp/ipykernel_56185/523038100.py:7: SettingWithCopyWarning:\n",
      "\n",
      "\n",
      "A value is trying to be set on a copy of a slice from a DataFrame.\n",
      "Try using .loc[row_indexer,col_indexer] = value instead\n",
      "\n",
      "See the caveats in the documentation: https://pandas.pydata.org/pandas-docs/stable/user_guide/indexing.html#returning-a-view-versus-a-copy\n",
      "\n",
      "/tmp/ipykernel_56185/523038100.py:6: SettingWithCopyWarning:\n",
      "\n",
      "\n",
      "A value is trying to be set on a copy of a slice from a DataFrame.\n",
      "Try using .loc[row_indexer,col_indexer] = value instead\n",
      "\n",
      "See the caveats in the documentation: https://pandas.pydata.org/pandas-docs/stable/user_guide/indexing.html#returning-a-view-versus-a-copy\n",
      "\n",
      "/tmp/ipykernel_56185/523038100.py:7: SettingWithCopyWarning:\n",
      "\n",
      "\n",
      "A value is trying to be set on a copy of a slice from a DataFrame.\n",
      "Try using .loc[row_indexer,col_indexer] = value instead\n",
      "\n",
      "See the caveats in the documentation: https://pandas.pydata.org/pandas-docs/stable/user_guide/indexing.html#returning-a-view-versus-a-copy\n",
      "\n",
      "/tmp/ipykernel_56185/523038100.py:6: SettingWithCopyWarning:\n",
      "\n",
      "\n",
      "A value is trying to be set on a copy of a slice from a DataFrame.\n",
      "Try using .loc[row_indexer,col_indexer] = value instead\n",
      "\n",
      "See the caveats in the documentation: https://pandas.pydata.org/pandas-docs/stable/user_guide/indexing.html#returning-a-view-versus-a-copy\n",
      "\n",
      "/tmp/ipykernel_56185/523038100.py:7: SettingWithCopyWarning:\n",
      "\n",
      "\n",
      "A value is trying to be set on a copy of a slice from a DataFrame.\n",
      "Try using .loc[row_indexer,col_indexer] = value instead\n",
      "\n",
      "See the caveats in the documentation: https://pandas.pydata.org/pandas-docs/stable/user_guide/indexing.html#returning-a-view-versus-a-copy\n",
      "\n",
      "/tmp/ipykernel_56185/523038100.py:6: SettingWithCopyWarning:\n",
      "\n",
      "\n",
      "A value is trying to be set on a copy of a slice from a DataFrame.\n",
      "Try using .loc[row_indexer,col_indexer] = value instead\n",
      "\n",
      "See the caveats in the documentation: https://pandas.pydata.org/pandas-docs/stable/user_guide/indexing.html#returning-a-view-versus-a-copy\n",
      "\n",
      "/tmp/ipykernel_56185/523038100.py:7: SettingWithCopyWarning:\n",
      "\n",
      "\n",
      "A value is trying to be set on a copy of a slice from a DataFrame.\n",
      "Try using .loc[row_indexer,col_indexer] = value instead\n",
      "\n",
      "See the caveats in the documentation: https://pandas.pydata.org/pandas-docs/stable/user_guide/indexing.html#returning-a-view-versus-a-copy\n",
      "\n"
     ]
    }
   ],
   "source": [
    "days_to = melt_df.groupby(['Mouse', 'value'], as_index=False).agg({'value': 'count'})\n",
    "mouse_days_to = pd.DataFrame()\n",
    "for mouse in np.unique(days_to['Mouse']):\n",
    "    group = 'Young Adult' if mouse in young_adult else 'Middle Aged' if mouse in middle_aged else 'Aged'\n",
    "    loop_data = days_to[days_to['Mouse'] == mouse]\n",
    "    loop_data.loc[:, 'context'] = ['A', 'B', 'C', 'D']\n",
    "    loop_data.loc[:, 'group'] = group\n",
    "    mouse_days_to = pd.concat([mouse_days_to, loop_data])\n",
    "nonA_data = mouse_days_to[mouse_days_to['context'] != 'A']"
   ]
  },
  {
   "cell_type": "code",
   "execution_count": 80,
   "metadata": {},
   "outputs": [
    {
     "data": {
      "application/vnd.plotly.v1+json": {
       "config": {
        "plotlyServerURL": "https://plot.ly"
       },
       "data": [
        {
         "error_y": {
          "array": [
           1.1377365443917342,
           0.4013864859597432,
           0.632455532033676
          ],
          "type": "data"
         },
         "marker": {
          "color": "red"
         },
         "name": "Aged",
         "type": "scatter",
         "x": [
          "B",
          "C",
          "D"
         ],
         "y": [
          6.833333333333333,
          4.166666666666667,
          4
         ]
        },
        {
         "error_y": {
          "array": [
           0.42257712736425823,
           0.42257712736425823,
           0.4406772385447523
          ],
          "type": "data"
         },
         "marker": {
          "color": "midnightblue"
         },
         "name": "Middle Aged",
         "type": "scatter",
         "x": [
          "B",
          "C",
          "D"
         ],
         "y": [
          4.5,
          3.5,
          3.125
         ]
        },
        {
         "error_y": {
          "array": [
           0.2630521404045756,
           0.5649747149841561,
           0.46049274850812955
          ],
          "type": "data"
         },
         "marker": {
          "color": "darkgrey"
         },
         "name": "Young Adult",
         "type": "scatter",
         "x": [
          "B",
          "C",
          "D"
         ],
         "y": [
          3.625,
          3.625,
          3.625
         ]
        }
       ],
       "layout": {
        "font": {
         "family": "Arial",
         "size": 22
        },
        "height": 500,
        "template": {
         "data": {
          "bar": [
           {
            "error_x": {
             "color": "rgb(36,36,36)"
            },
            "error_y": {
             "color": "rgb(36,36,36)"
            },
            "marker": {
             "line": {
              "color": "white",
              "width": 0.5
             },
             "pattern": {
              "fillmode": "overlay",
              "size": 10,
              "solidity": 0.2
             }
            },
            "type": "bar"
           }
          ],
          "barpolar": [
           {
            "marker": {
             "line": {
              "color": "white",
              "width": 0.5
             },
             "pattern": {
              "fillmode": "overlay",
              "size": 10,
              "solidity": 0.2
             }
            },
            "type": "barpolar"
           }
          ],
          "carpet": [
           {
            "aaxis": {
             "endlinecolor": "rgb(36,36,36)",
             "gridcolor": "white",
             "linecolor": "white",
             "minorgridcolor": "white",
             "startlinecolor": "rgb(36,36,36)"
            },
            "baxis": {
             "endlinecolor": "rgb(36,36,36)",
             "gridcolor": "white",
             "linecolor": "white",
             "minorgridcolor": "white",
             "startlinecolor": "rgb(36,36,36)"
            },
            "type": "carpet"
           }
          ],
          "choropleth": [
           {
            "colorbar": {
             "outlinewidth": 1,
             "tickcolor": "rgb(36,36,36)",
             "ticks": "outside"
            },
            "type": "choropleth"
           }
          ],
          "contour": [
           {
            "colorbar": {
             "outlinewidth": 1,
             "tickcolor": "rgb(36,36,36)",
             "ticks": "outside"
            },
            "colorscale": [
             [
              0,
              "#440154"
             ],
             [
              0.1111111111111111,
              "#482878"
             ],
             [
              0.2222222222222222,
              "#3e4989"
             ],
             [
              0.3333333333333333,
              "#31688e"
             ],
             [
              0.4444444444444444,
              "#26828e"
             ],
             [
              0.5555555555555556,
              "#1f9e89"
             ],
             [
              0.6666666666666666,
              "#35b779"
             ],
             [
              0.7777777777777778,
              "#6ece58"
             ],
             [
              0.8888888888888888,
              "#b5de2b"
             ],
             [
              1,
              "#fde725"
             ]
            ],
            "type": "contour"
           }
          ],
          "contourcarpet": [
           {
            "colorbar": {
             "outlinewidth": 1,
             "tickcolor": "rgb(36,36,36)",
             "ticks": "outside"
            },
            "type": "contourcarpet"
           }
          ],
          "heatmap": [
           {
            "colorbar": {
             "outlinewidth": 1,
             "tickcolor": "rgb(36,36,36)",
             "ticks": "outside"
            },
            "colorscale": [
             [
              0,
              "#440154"
             ],
             [
              0.1111111111111111,
              "#482878"
             ],
             [
              0.2222222222222222,
              "#3e4989"
             ],
             [
              0.3333333333333333,
              "#31688e"
             ],
             [
              0.4444444444444444,
              "#26828e"
             ],
             [
              0.5555555555555556,
              "#1f9e89"
             ],
             [
              0.6666666666666666,
              "#35b779"
             ],
             [
              0.7777777777777778,
              "#6ece58"
             ],
             [
              0.8888888888888888,
              "#b5de2b"
             ],
             [
              1,
              "#fde725"
             ]
            ],
            "type": "heatmap"
           }
          ],
          "heatmapgl": [
           {
            "colorbar": {
             "outlinewidth": 1,
             "tickcolor": "rgb(36,36,36)",
             "ticks": "outside"
            },
            "colorscale": [
             [
              0,
              "#440154"
             ],
             [
              0.1111111111111111,
              "#482878"
             ],
             [
              0.2222222222222222,
              "#3e4989"
             ],
             [
              0.3333333333333333,
              "#31688e"
             ],
             [
              0.4444444444444444,
              "#26828e"
             ],
             [
              0.5555555555555556,
              "#1f9e89"
             ],
             [
              0.6666666666666666,
              "#35b779"
             ],
             [
              0.7777777777777778,
              "#6ece58"
             ],
             [
              0.8888888888888888,
              "#b5de2b"
             ],
             [
              1,
              "#fde725"
             ]
            ],
            "type": "heatmapgl"
           }
          ],
          "histogram": [
           {
            "marker": {
             "line": {
              "color": "white",
              "width": 0.6
             }
            },
            "type": "histogram"
           }
          ],
          "histogram2d": [
           {
            "colorbar": {
             "outlinewidth": 1,
             "tickcolor": "rgb(36,36,36)",
             "ticks": "outside"
            },
            "colorscale": [
             [
              0,
              "#440154"
             ],
             [
              0.1111111111111111,
              "#482878"
             ],
             [
              0.2222222222222222,
              "#3e4989"
             ],
             [
              0.3333333333333333,
              "#31688e"
             ],
             [
              0.4444444444444444,
              "#26828e"
             ],
             [
              0.5555555555555556,
              "#1f9e89"
             ],
             [
              0.6666666666666666,
              "#35b779"
             ],
             [
              0.7777777777777778,
              "#6ece58"
             ],
             [
              0.8888888888888888,
              "#b5de2b"
             ],
             [
              1,
              "#fde725"
             ]
            ],
            "type": "histogram2d"
           }
          ],
          "histogram2dcontour": [
           {
            "colorbar": {
             "outlinewidth": 1,
             "tickcolor": "rgb(36,36,36)",
             "ticks": "outside"
            },
            "colorscale": [
             [
              0,
              "#440154"
             ],
             [
              0.1111111111111111,
              "#482878"
             ],
             [
              0.2222222222222222,
              "#3e4989"
             ],
             [
              0.3333333333333333,
              "#31688e"
             ],
             [
              0.4444444444444444,
              "#26828e"
             ],
             [
              0.5555555555555556,
              "#1f9e89"
             ],
             [
              0.6666666666666666,
              "#35b779"
             ],
             [
              0.7777777777777778,
              "#6ece58"
             ],
             [
              0.8888888888888888,
              "#b5de2b"
             ],
             [
              1,
              "#fde725"
             ]
            ],
            "type": "histogram2dcontour"
           }
          ],
          "mesh3d": [
           {
            "colorbar": {
             "outlinewidth": 1,
             "tickcolor": "rgb(36,36,36)",
             "ticks": "outside"
            },
            "type": "mesh3d"
           }
          ],
          "parcoords": [
           {
            "line": {
             "colorbar": {
              "outlinewidth": 1,
              "tickcolor": "rgb(36,36,36)",
              "ticks": "outside"
             }
            },
            "type": "parcoords"
           }
          ],
          "pie": [
           {
            "automargin": true,
            "type": "pie"
           }
          ],
          "scatter": [
           {
            "fillpattern": {
             "fillmode": "overlay",
             "size": 10,
             "solidity": 0.2
            },
            "type": "scatter"
           }
          ],
          "scatter3d": [
           {
            "line": {
             "colorbar": {
              "outlinewidth": 1,
              "tickcolor": "rgb(36,36,36)",
              "ticks": "outside"
             }
            },
            "marker": {
             "colorbar": {
              "outlinewidth": 1,
              "tickcolor": "rgb(36,36,36)",
              "ticks": "outside"
             }
            },
            "type": "scatter3d"
           }
          ],
          "scattercarpet": [
           {
            "marker": {
             "colorbar": {
              "outlinewidth": 1,
              "tickcolor": "rgb(36,36,36)",
              "ticks": "outside"
             }
            },
            "type": "scattercarpet"
           }
          ],
          "scattergeo": [
           {
            "marker": {
             "colorbar": {
              "outlinewidth": 1,
              "tickcolor": "rgb(36,36,36)",
              "ticks": "outside"
             }
            },
            "type": "scattergeo"
           }
          ],
          "scattergl": [
           {
            "marker": {
             "colorbar": {
              "outlinewidth": 1,
              "tickcolor": "rgb(36,36,36)",
              "ticks": "outside"
             }
            },
            "type": "scattergl"
           }
          ],
          "scattermapbox": [
           {
            "marker": {
             "colorbar": {
              "outlinewidth": 1,
              "tickcolor": "rgb(36,36,36)",
              "ticks": "outside"
             }
            },
            "type": "scattermapbox"
           }
          ],
          "scatterpolar": [
           {
            "marker": {
             "colorbar": {
              "outlinewidth": 1,
              "tickcolor": "rgb(36,36,36)",
              "ticks": "outside"
             }
            },
            "type": "scatterpolar"
           }
          ],
          "scatterpolargl": [
           {
            "marker": {
             "colorbar": {
              "outlinewidth": 1,
              "tickcolor": "rgb(36,36,36)",
              "ticks": "outside"
             }
            },
            "type": "scatterpolargl"
           }
          ],
          "scatterternary": [
           {
            "marker": {
             "colorbar": {
              "outlinewidth": 1,
              "tickcolor": "rgb(36,36,36)",
              "ticks": "outside"
             }
            },
            "type": "scatterternary"
           }
          ],
          "surface": [
           {
            "colorbar": {
             "outlinewidth": 1,
             "tickcolor": "rgb(36,36,36)",
             "ticks": "outside"
            },
            "colorscale": [
             [
              0,
              "#440154"
             ],
             [
              0.1111111111111111,
              "#482878"
             ],
             [
              0.2222222222222222,
              "#3e4989"
             ],
             [
              0.3333333333333333,
              "#31688e"
             ],
             [
              0.4444444444444444,
              "#26828e"
             ],
             [
              0.5555555555555556,
              "#1f9e89"
             ],
             [
              0.6666666666666666,
              "#35b779"
             ],
             [
              0.7777777777777778,
              "#6ece58"
             ],
             [
              0.8888888888888888,
              "#b5de2b"
             ],
             [
              1,
              "#fde725"
             ]
            ],
            "type": "surface"
           }
          ],
          "table": [
           {
            "cells": {
             "fill": {
              "color": "rgb(237,237,237)"
             },
             "line": {
              "color": "white"
             }
            },
            "header": {
             "fill": {
              "color": "rgb(217,217,217)"
             },
             "line": {
              "color": "white"
             }
            },
            "type": "table"
           }
          ]
         },
         "layout": {
          "annotationdefaults": {
           "arrowhead": 0,
           "arrowwidth": 1
          },
          "autotypenumbers": "strict",
          "coloraxis": {
           "colorbar": {
            "outlinewidth": 1,
            "tickcolor": "rgb(36,36,36)",
            "ticks": "outside"
           }
          },
          "colorscale": {
           "diverging": [
            [
             0,
             "rgb(103,0,31)"
            ],
            [
             0.1,
             "rgb(178,24,43)"
            ],
            [
             0.2,
             "rgb(214,96,77)"
            ],
            [
             0.3,
             "rgb(244,165,130)"
            ],
            [
             0.4,
             "rgb(253,219,199)"
            ],
            [
             0.5,
             "rgb(247,247,247)"
            ],
            [
             0.6,
             "rgb(209,229,240)"
            ],
            [
             0.7,
             "rgb(146,197,222)"
            ],
            [
             0.8,
             "rgb(67,147,195)"
            ],
            [
             0.9,
             "rgb(33,102,172)"
            ],
            [
             1,
             "rgb(5,48,97)"
            ]
           ],
           "sequential": [
            [
             0,
             "#440154"
            ],
            [
             0.1111111111111111,
             "#482878"
            ],
            [
             0.2222222222222222,
             "#3e4989"
            ],
            [
             0.3333333333333333,
             "#31688e"
            ],
            [
             0.4444444444444444,
             "#26828e"
            ],
            [
             0.5555555555555556,
             "#1f9e89"
            ],
            [
             0.6666666666666666,
             "#35b779"
            ],
            [
             0.7777777777777778,
             "#6ece58"
            ],
            [
             0.8888888888888888,
             "#b5de2b"
            ],
            [
             1,
             "#fde725"
            ]
           ],
           "sequentialminus": [
            [
             0,
             "#440154"
            ],
            [
             0.1111111111111111,
             "#482878"
            ],
            [
             0.2222222222222222,
             "#3e4989"
            ],
            [
             0.3333333333333333,
             "#31688e"
            ],
            [
             0.4444444444444444,
             "#26828e"
            ],
            [
             0.5555555555555556,
             "#1f9e89"
            ],
            [
             0.6666666666666666,
             "#35b779"
            ],
            [
             0.7777777777777778,
             "#6ece58"
            ],
            [
             0.8888888888888888,
             "#b5de2b"
            ],
            [
             1,
             "#fde725"
            ]
           ]
          },
          "colorway": [
           "#1F77B4",
           "#FF7F0E",
           "#2CA02C",
           "#D62728",
           "#9467BD",
           "#8C564B",
           "#E377C2",
           "#7F7F7F",
           "#BCBD22",
           "#17BECF"
          ],
          "font": {
           "color": "rgb(36,36,36)"
          },
          "geo": {
           "bgcolor": "white",
           "lakecolor": "white",
           "landcolor": "white",
           "showlakes": true,
           "showland": true,
           "subunitcolor": "white"
          },
          "hoverlabel": {
           "align": "left"
          },
          "hovermode": "closest",
          "mapbox": {
           "style": "light"
          },
          "paper_bgcolor": "white",
          "plot_bgcolor": "white",
          "polar": {
           "angularaxis": {
            "gridcolor": "rgb(232,232,232)",
            "linecolor": "rgb(36,36,36)",
            "showgrid": false,
            "showline": true,
            "ticks": "outside"
           },
           "bgcolor": "white",
           "radialaxis": {
            "gridcolor": "rgb(232,232,232)",
            "linecolor": "rgb(36,36,36)",
            "showgrid": false,
            "showline": true,
            "ticks": "outside"
           }
          },
          "scene": {
           "xaxis": {
            "backgroundcolor": "white",
            "gridcolor": "rgb(232,232,232)",
            "gridwidth": 2,
            "linecolor": "rgb(36,36,36)",
            "showbackground": true,
            "showgrid": false,
            "showline": true,
            "ticks": "outside",
            "zeroline": false,
            "zerolinecolor": "rgb(36,36,36)"
           },
           "yaxis": {
            "backgroundcolor": "white",
            "gridcolor": "rgb(232,232,232)",
            "gridwidth": 2,
            "linecolor": "rgb(36,36,36)",
            "showbackground": true,
            "showgrid": false,
            "showline": true,
            "ticks": "outside",
            "zeroline": false,
            "zerolinecolor": "rgb(36,36,36)"
           },
           "zaxis": {
            "backgroundcolor": "white",
            "gridcolor": "rgb(232,232,232)",
            "gridwidth": 2,
            "linecolor": "rgb(36,36,36)",
            "showbackground": true,
            "showgrid": false,
            "showline": true,
            "ticks": "outside",
            "zeroline": false,
            "zerolinecolor": "rgb(36,36,36)"
           }
          },
          "shapedefaults": {
           "fillcolor": "black",
           "line": {
            "width": 0
           },
           "opacity": 0.3
          },
          "ternary": {
           "aaxis": {
            "gridcolor": "rgb(232,232,232)",
            "linecolor": "rgb(36,36,36)",
            "showgrid": false,
            "showline": true,
            "ticks": "outside"
           },
           "baxis": {
            "gridcolor": "rgb(232,232,232)",
            "linecolor": "rgb(36,36,36)",
            "showgrid": false,
            "showline": true,
            "ticks": "outside"
           },
           "bgcolor": "white",
           "caxis": {
            "gridcolor": "rgb(232,232,232)",
            "linecolor": "rgb(36,36,36)",
            "showgrid": false,
            "showline": true,
            "ticks": "outside"
           }
          },
          "title": {
           "x": 0.05
          },
          "xaxis": {
           "automargin": true,
           "gridcolor": "rgb(232,232,232)",
           "linecolor": "rgb(36,36,36)",
           "showgrid": false,
           "showline": true,
           "ticks": "outside",
           "title": {
            "standoff": 15
           },
           "zeroline": false,
           "zerolinecolor": "rgb(36,36,36)"
          },
          "yaxis": {
           "automargin": true,
           "gridcolor": "rgb(232,232,232)",
           "linecolor": "rgb(36,36,36)",
           "showgrid": false,
           "showline": true,
           "ticks": "outside",
           "title": {
            "standoff": 15
           },
           "zeroline": false,
           "zerolinecolor": "rgb(36,36,36)"
          }
         }
        },
        "title": {
         "x": 0.5,
         "xanchor": "center",
         "y": 0.9,
         "yanchor": "top"
        },
        "width": 500,
        "xaxis": {
         "anchor": "y",
         "domain": [
          0,
          1
         ],
         "linewidth": 1.5,
         "title": {
          "text": ""
         }
        },
        "yaxis": {
         "anchor": "x",
         "domain": [
          0,
          1
         ],
         "linewidth": 1.5,
         "title": {
          "text": "Days to Criteria"
         }
        }
       }
      },
      "text/html": [
       "<div>                            <div id=\"9e0b3b88-4692-44c7-974e-922e1b471676\" class=\"plotly-graph-div\" style=\"height:500px; width:500px;\"></div>            <script type=\"text/javascript\">                require([\"plotly\"], function(Plotly) {                    window.PLOTLYENV=window.PLOTLYENV || {};                                    if (document.getElementById(\"9e0b3b88-4692-44c7-974e-922e1b471676\")) {                    Plotly.newPlot(                        \"9e0b3b88-4692-44c7-974e-922e1b471676\",                        [{\"error_y\":{\"array\":[1.1377365443917342,0.4013864859597432,0.632455532033676],\"type\":\"data\"},\"marker\":{\"color\":\"red\"},\"name\":\"Aged\",\"x\":[\"B\",\"C\",\"D\"],\"y\":[6.833333333333333,4.166666666666667,4.0],\"type\":\"scatter\"},{\"error_y\":{\"array\":[0.42257712736425823,0.42257712736425823,0.4406772385447523],\"type\":\"data\"},\"marker\":{\"color\":\"midnightblue\"},\"name\":\"Middle Aged\",\"x\":[\"B\",\"C\",\"D\"],\"y\":[4.5,3.5,3.125],\"type\":\"scatter\"},{\"error_y\":{\"array\":[0.2630521404045756,0.5649747149841561,0.46049274850812955],\"type\":\"data\"},\"marker\":{\"color\":\"darkgrey\"},\"name\":\"Young Adult\",\"x\":[\"B\",\"C\",\"D\"],\"y\":[3.625,3.625,3.625],\"type\":\"scatter\"}],                        {\"template\":{\"data\":{\"barpolar\":[{\"marker\":{\"line\":{\"color\":\"white\",\"width\":0.5},\"pattern\":{\"fillmode\":\"overlay\",\"size\":10,\"solidity\":0.2}},\"type\":\"barpolar\"}],\"bar\":[{\"error_x\":{\"color\":\"rgb(36,36,36)\"},\"error_y\":{\"color\":\"rgb(36,36,36)\"},\"marker\":{\"line\":{\"color\":\"white\",\"width\":0.5},\"pattern\":{\"fillmode\":\"overlay\",\"size\":10,\"solidity\":0.2}},\"type\":\"bar\"}],\"carpet\":[{\"aaxis\":{\"endlinecolor\":\"rgb(36,36,36)\",\"gridcolor\":\"white\",\"linecolor\":\"white\",\"minorgridcolor\":\"white\",\"startlinecolor\":\"rgb(36,36,36)\"},\"baxis\":{\"endlinecolor\":\"rgb(36,36,36)\",\"gridcolor\":\"white\",\"linecolor\":\"white\",\"minorgridcolor\":\"white\",\"startlinecolor\":\"rgb(36,36,36)\"},\"type\":\"carpet\"}],\"choropleth\":[{\"colorbar\":{\"outlinewidth\":1,\"tickcolor\":\"rgb(36,36,36)\",\"ticks\":\"outside\"},\"type\":\"choropleth\"}],\"contourcarpet\":[{\"colorbar\":{\"outlinewidth\":1,\"tickcolor\":\"rgb(36,36,36)\",\"ticks\":\"outside\"},\"type\":\"contourcarpet\"}],\"contour\":[{\"colorbar\":{\"outlinewidth\":1,\"tickcolor\":\"rgb(36,36,36)\",\"ticks\":\"outside\"},\"colorscale\":[[0.0,\"#440154\"],[0.1111111111111111,\"#482878\"],[0.2222222222222222,\"#3e4989\"],[0.3333333333333333,\"#31688e\"],[0.4444444444444444,\"#26828e\"],[0.5555555555555556,\"#1f9e89\"],[0.6666666666666666,\"#35b779\"],[0.7777777777777778,\"#6ece58\"],[0.8888888888888888,\"#b5de2b\"],[1.0,\"#fde725\"]],\"type\":\"contour\"}],\"heatmapgl\":[{\"colorbar\":{\"outlinewidth\":1,\"tickcolor\":\"rgb(36,36,36)\",\"ticks\":\"outside\"},\"colorscale\":[[0.0,\"#440154\"],[0.1111111111111111,\"#482878\"],[0.2222222222222222,\"#3e4989\"],[0.3333333333333333,\"#31688e\"],[0.4444444444444444,\"#26828e\"],[0.5555555555555556,\"#1f9e89\"],[0.6666666666666666,\"#35b779\"],[0.7777777777777778,\"#6ece58\"],[0.8888888888888888,\"#b5de2b\"],[1.0,\"#fde725\"]],\"type\":\"heatmapgl\"}],\"heatmap\":[{\"colorbar\":{\"outlinewidth\":1,\"tickcolor\":\"rgb(36,36,36)\",\"ticks\":\"outside\"},\"colorscale\":[[0.0,\"#440154\"],[0.1111111111111111,\"#482878\"],[0.2222222222222222,\"#3e4989\"],[0.3333333333333333,\"#31688e\"],[0.4444444444444444,\"#26828e\"],[0.5555555555555556,\"#1f9e89\"],[0.6666666666666666,\"#35b779\"],[0.7777777777777778,\"#6ece58\"],[0.8888888888888888,\"#b5de2b\"],[1.0,\"#fde725\"]],\"type\":\"heatmap\"}],\"histogram2dcontour\":[{\"colorbar\":{\"outlinewidth\":1,\"tickcolor\":\"rgb(36,36,36)\",\"ticks\":\"outside\"},\"colorscale\":[[0.0,\"#440154\"],[0.1111111111111111,\"#482878\"],[0.2222222222222222,\"#3e4989\"],[0.3333333333333333,\"#31688e\"],[0.4444444444444444,\"#26828e\"],[0.5555555555555556,\"#1f9e89\"],[0.6666666666666666,\"#35b779\"],[0.7777777777777778,\"#6ece58\"],[0.8888888888888888,\"#b5de2b\"],[1.0,\"#fde725\"]],\"type\":\"histogram2dcontour\"}],\"histogram2d\":[{\"colorbar\":{\"outlinewidth\":1,\"tickcolor\":\"rgb(36,36,36)\",\"ticks\":\"outside\"},\"colorscale\":[[0.0,\"#440154\"],[0.1111111111111111,\"#482878\"],[0.2222222222222222,\"#3e4989\"],[0.3333333333333333,\"#31688e\"],[0.4444444444444444,\"#26828e\"],[0.5555555555555556,\"#1f9e89\"],[0.6666666666666666,\"#35b779\"],[0.7777777777777778,\"#6ece58\"],[0.8888888888888888,\"#b5de2b\"],[1.0,\"#fde725\"]],\"type\":\"histogram2d\"}],\"histogram\":[{\"marker\":{\"line\":{\"color\":\"white\",\"width\":0.6}},\"type\":\"histogram\"}],\"mesh3d\":[{\"colorbar\":{\"outlinewidth\":1,\"tickcolor\":\"rgb(36,36,36)\",\"ticks\":\"outside\"},\"type\":\"mesh3d\"}],\"parcoords\":[{\"line\":{\"colorbar\":{\"outlinewidth\":1,\"tickcolor\":\"rgb(36,36,36)\",\"ticks\":\"outside\"}},\"type\":\"parcoords\"}],\"pie\":[{\"automargin\":true,\"type\":\"pie\"}],\"scatter3d\":[{\"line\":{\"colorbar\":{\"outlinewidth\":1,\"tickcolor\":\"rgb(36,36,36)\",\"ticks\":\"outside\"}},\"marker\":{\"colorbar\":{\"outlinewidth\":1,\"tickcolor\":\"rgb(36,36,36)\",\"ticks\":\"outside\"}},\"type\":\"scatter3d\"}],\"scattercarpet\":[{\"marker\":{\"colorbar\":{\"outlinewidth\":1,\"tickcolor\":\"rgb(36,36,36)\",\"ticks\":\"outside\"}},\"type\":\"scattercarpet\"}],\"scattergeo\":[{\"marker\":{\"colorbar\":{\"outlinewidth\":1,\"tickcolor\":\"rgb(36,36,36)\",\"ticks\":\"outside\"}},\"type\":\"scattergeo\"}],\"scattergl\":[{\"marker\":{\"colorbar\":{\"outlinewidth\":1,\"tickcolor\":\"rgb(36,36,36)\",\"ticks\":\"outside\"}},\"type\":\"scattergl\"}],\"scattermapbox\":[{\"marker\":{\"colorbar\":{\"outlinewidth\":1,\"tickcolor\":\"rgb(36,36,36)\",\"ticks\":\"outside\"}},\"type\":\"scattermapbox\"}],\"scatterpolargl\":[{\"marker\":{\"colorbar\":{\"outlinewidth\":1,\"tickcolor\":\"rgb(36,36,36)\",\"ticks\":\"outside\"}},\"type\":\"scatterpolargl\"}],\"scatterpolar\":[{\"marker\":{\"colorbar\":{\"outlinewidth\":1,\"tickcolor\":\"rgb(36,36,36)\",\"ticks\":\"outside\"}},\"type\":\"scatterpolar\"}],\"scatter\":[{\"fillpattern\":{\"fillmode\":\"overlay\",\"size\":10,\"solidity\":0.2},\"type\":\"scatter\"}],\"scatterternary\":[{\"marker\":{\"colorbar\":{\"outlinewidth\":1,\"tickcolor\":\"rgb(36,36,36)\",\"ticks\":\"outside\"}},\"type\":\"scatterternary\"}],\"surface\":[{\"colorbar\":{\"outlinewidth\":1,\"tickcolor\":\"rgb(36,36,36)\",\"ticks\":\"outside\"},\"colorscale\":[[0.0,\"#440154\"],[0.1111111111111111,\"#482878\"],[0.2222222222222222,\"#3e4989\"],[0.3333333333333333,\"#31688e\"],[0.4444444444444444,\"#26828e\"],[0.5555555555555556,\"#1f9e89\"],[0.6666666666666666,\"#35b779\"],[0.7777777777777778,\"#6ece58\"],[0.8888888888888888,\"#b5de2b\"],[1.0,\"#fde725\"]],\"type\":\"surface\"}],\"table\":[{\"cells\":{\"fill\":{\"color\":\"rgb(237,237,237)\"},\"line\":{\"color\":\"white\"}},\"header\":{\"fill\":{\"color\":\"rgb(217,217,217)\"},\"line\":{\"color\":\"white\"}},\"type\":\"table\"}]},\"layout\":{\"annotationdefaults\":{\"arrowhead\":0,\"arrowwidth\":1},\"autotypenumbers\":\"strict\",\"coloraxis\":{\"colorbar\":{\"outlinewidth\":1,\"tickcolor\":\"rgb(36,36,36)\",\"ticks\":\"outside\"}},\"colorscale\":{\"diverging\":[[0.0,\"rgb(103,0,31)\"],[0.1,\"rgb(178,24,43)\"],[0.2,\"rgb(214,96,77)\"],[0.3,\"rgb(244,165,130)\"],[0.4,\"rgb(253,219,199)\"],[0.5,\"rgb(247,247,247)\"],[0.6,\"rgb(209,229,240)\"],[0.7,\"rgb(146,197,222)\"],[0.8,\"rgb(67,147,195)\"],[0.9,\"rgb(33,102,172)\"],[1.0,\"rgb(5,48,97)\"]],\"sequential\":[[0.0,\"#440154\"],[0.1111111111111111,\"#482878\"],[0.2222222222222222,\"#3e4989\"],[0.3333333333333333,\"#31688e\"],[0.4444444444444444,\"#26828e\"],[0.5555555555555556,\"#1f9e89\"],[0.6666666666666666,\"#35b779\"],[0.7777777777777778,\"#6ece58\"],[0.8888888888888888,\"#b5de2b\"],[1.0,\"#fde725\"]],\"sequentialminus\":[[0.0,\"#440154\"],[0.1111111111111111,\"#482878\"],[0.2222222222222222,\"#3e4989\"],[0.3333333333333333,\"#31688e\"],[0.4444444444444444,\"#26828e\"],[0.5555555555555556,\"#1f9e89\"],[0.6666666666666666,\"#35b779\"],[0.7777777777777778,\"#6ece58\"],[0.8888888888888888,\"#b5de2b\"],[1.0,\"#fde725\"]]},\"colorway\":[\"#1F77B4\",\"#FF7F0E\",\"#2CA02C\",\"#D62728\",\"#9467BD\",\"#8C564B\",\"#E377C2\",\"#7F7F7F\",\"#BCBD22\",\"#17BECF\"],\"font\":{\"color\":\"rgb(36,36,36)\"},\"geo\":{\"bgcolor\":\"white\",\"lakecolor\":\"white\",\"landcolor\":\"white\",\"showlakes\":true,\"showland\":true,\"subunitcolor\":\"white\"},\"hoverlabel\":{\"align\":\"left\"},\"hovermode\":\"closest\",\"mapbox\":{\"style\":\"light\"},\"paper_bgcolor\":\"white\",\"plot_bgcolor\":\"white\",\"polar\":{\"angularaxis\":{\"gridcolor\":\"rgb(232,232,232)\",\"linecolor\":\"rgb(36,36,36)\",\"showgrid\":false,\"showline\":true,\"ticks\":\"outside\"},\"bgcolor\":\"white\",\"radialaxis\":{\"gridcolor\":\"rgb(232,232,232)\",\"linecolor\":\"rgb(36,36,36)\",\"showgrid\":false,\"showline\":true,\"ticks\":\"outside\"}},\"scene\":{\"xaxis\":{\"backgroundcolor\":\"white\",\"gridcolor\":\"rgb(232,232,232)\",\"gridwidth\":2,\"linecolor\":\"rgb(36,36,36)\",\"showbackground\":true,\"showgrid\":false,\"showline\":true,\"ticks\":\"outside\",\"zeroline\":false,\"zerolinecolor\":\"rgb(36,36,36)\"},\"yaxis\":{\"backgroundcolor\":\"white\",\"gridcolor\":\"rgb(232,232,232)\",\"gridwidth\":2,\"linecolor\":\"rgb(36,36,36)\",\"showbackground\":true,\"showgrid\":false,\"showline\":true,\"ticks\":\"outside\",\"zeroline\":false,\"zerolinecolor\":\"rgb(36,36,36)\"},\"zaxis\":{\"backgroundcolor\":\"white\",\"gridcolor\":\"rgb(232,232,232)\",\"gridwidth\":2,\"linecolor\":\"rgb(36,36,36)\",\"showbackground\":true,\"showgrid\":false,\"showline\":true,\"ticks\":\"outside\",\"zeroline\":false,\"zerolinecolor\":\"rgb(36,36,36)\"}},\"shapedefaults\":{\"fillcolor\":\"black\",\"line\":{\"width\":0},\"opacity\":0.3},\"ternary\":{\"aaxis\":{\"gridcolor\":\"rgb(232,232,232)\",\"linecolor\":\"rgb(36,36,36)\",\"showgrid\":false,\"showline\":true,\"ticks\":\"outside\"},\"baxis\":{\"gridcolor\":\"rgb(232,232,232)\",\"linecolor\":\"rgb(36,36,36)\",\"showgrid\":false,\"showline\":true,\"ticks\":\"outside\"},\"bgcolor\":\"white\",\"caxis\":{\"gridcolor\":\"rgb(232,232,232)\",\"linecolor\":\"rgb(36,36,36)\",\"showgrid\":false,\"showline\":true,\"ticks\":\"outside\"}},\"title\":{\"x\":0.05},\"xaxis\":{\"automargin\":true,\"gridcolor\":\"rgb(232,232,232)\",\"linecolor\":\"rgb(36,36,36)\",\"showgrid\":false,\"showline\":true,\"ticks\":\"outside\",\"title\":{\"standoff\":15},\"zeroline\":false,\"zerolinecolor\":\"rgb(36,36,36)\"},\"yaxis\":{\"automargin\":true,\"gridcolor\":\"rgb(232,232,232)\",\"linecolor\":\"rgb(36,36,36)\",\"showgrid\":false,\"showline\":true,\"ticks\":\"outside\",\"title\":{\"standoff\":15},\"zeroline\":false,\"zerolinecolor\":\"rgb(36,36,36)\"}}},\"xaxis\":{\"anchor\":\"y\",\"domain\":[0.0,1.0],\"title\":{\"text\":\"\"},\"linewidth\":1.5},\"yaxis\":{\"anchor\":\"x\",\"domain\":[0.0,1.0],\"title\":{\"text\":\"Days to Criteria\"},\"linewidth\":1.5},\"title\":{\"y\":0.9,\"x\":0.5,\"xanchor\":\"center\",\"yanchor\":\"top\"},\"font\":{\"size\":22,\"family\":\"Arial\"},\"height\":500,\"width\":500},                        {\"responsive\": true}                    ).then(function(){\n",
       "                            \n",
       "var gd = document.getElementById('9e0b3b88-4692-44c7-974e-922e1b471676');\n",
       "var x = new MutationObserver(function (mutations, observer) {{\n",
       "        var display = window.getComputedStyle(gd).display;\n",
       "        if (!display || display === 'none') {{\n",
       "            console.log([gd, 'removed!']);\n",
       "            Plotly.purge(gd);\n",
       "            observer.disconnect();\n",
       "        }}\n",
       "}});\n",
       "\n",
       "// Listen for the removal of the full notebook cells\n",
       "var notebookContainer = gd.closest('#notebook-container');\n",
       "if (notebookContainer) {{\n",
       "    x.observe(notebookContainer, {childList: true});\n",
       "}}\n",
       "\n",
       "// Listen for the clearing of the current output cell\n",
       "var outputEl = gd.closest('.output');\n",
       "if (outputEl) {{\n",
       "    x.observe(outputEl, {childList: true});\n",
       "}}\n",
       "\n",
       "                        })                };                });            </script>        </div>"
      ]
     },
     "metadata": {},
     "output_type": "display_data"
    }
   ],
   "source": [
    "nonA_data = mouse_days_to[mouse_days_to['context'] != 'A']\n",
    "fig = pf.custom_graph_template(x_title='', y_title='Days to Criteria')\n",
    "for group in np.unique(nonA_data['group']):\n",
    "    gdata = nonA_data[nonA_data['group'] == group]\n",
    "    avg_data = gdata.groupby(['context'], as_index=False).agg({'value': ['mean', 'sem']})\n",
    "    fig.add_trace(go.Scatter(x=avg_data['context'], y=avg_data['value']['mean'], name=group, marker_color=group_colors_dict[group],\n",
    "                             error_y=dict(type='data', array=avg_data['value']['sem'])))\n",
    "# fig.update_yaxes(range=[0, 6.5])\n",
    "fig.show()\n",
    "fig.write_image(pjoin(fig_path, 'days_to_criteria.png'))"
   ]
  },
  {
   "cell_type": "markdown",
   "metadata": {},
   "source": [
    "### Create a velocity distribution for all three groups."
   ]
  },
  {
   "cell_type": "code",
   "execution_count": null,
   "metadata": {},
   "outputs": [],
   "source": [
    "young_v = []\n",
    "middle_aged_v = []\n",
    "aged_v = []\n",
    "downsample_factor = 42\n",
    "for mouse in os.listdir(circle_path)[:-1]:\n",
    "    mouse_path = pjoin(circle_path, mouse)\n",
    "    group = 'Young Adult' if mouse in young_adult else 'Middle Aged' if mouse in middle_aged else 'Aged'\n",
    "    for idx, session in enumerate(os.listdir(mouse_path)):\n",
    "        behav = pd.read_feather(pjoin(mouse_path, f'{session}'))\n",
    "        x_cm, y_cm = ctb.convert_to_cm(x=behav['x'], y=behav['y'], update_dataframe=False)\n",
    "        velocity, running = pc.define_running_epochs(x_cm[::downsample_factor], y_cm[::downsample_factor], behav['t'][::downsample_factor])\n",
    "        avg_vel = np.mean(velocity)\n",
    "        if group == 'Young Adult':\n",
    "            young_v.append(avg_vel)\n",
    "        elif group == 'Middle Aged':\n",
    "            middle_aged_v.append(avg_vel)\n",
    "        else:\n",
    "            aged_v.append(avg_vel)"
   ]
  },
  {
   "cell_type": "code",
   "execution_count": null,
   "metadata": {},
   "outputs": [],
   "source": [
    "fig = pf.custom_graph_template(x_title='Average Velocity (cm/s)', y_title='Probability', height=500, width=500)\n",
    "fig.add_trace(go.Histogram(x=young_v, marker_color=group_colors_dict['Young Adult'], \n",
    "                           name='Young Adult', opacity=0.6, histnorm='probability'))\n",
    "fig.add_trace(go.Histogram(x=middle_aged_v, marker_color=group_colors_dict['Middle Aged'], \n",
    "                           name='Middle Aged', opacity=0.6, histnorm='probability'))\n",
    "fig.add_trace(go.Histogram(x=aged_v, marker_color=group_colors_dict['Aged'], \n",
    "                           name='Aged', opacity=0.6, histnorm='probability'))\n",
    "fig.update_layout(barmode='overlay')\n",
    "fig.show()\n",
    "fig.write_image(pjoin(fig_path, 'velocity_distribution.png'))"
   ]
  },
  {
   "cell_type": "code",
   "execution_count": null,
   "metadata": {},
   "outputs": [],
   "source": [
    "young_v = np.asarray(young_v)[~np.isnan(young_v)]\n",
    "anova_df = pd.DataFrame({'young': young_v,\n",
    "                         'middle_aged': middle_aged_v[0:len(young_v)],\n",
    "                         'aged': aged_v[0:len(young_v)]})\n",
    "anova_melt = anova_df.melt(value_vars=['young', 'middle_aged', 'aged'], value_name='velocity', var_name='group')\n",
    "print(pg.homoscedasticity(anova_melt, dv='velocity', group='group'))\n",
    "anova_melt.welch_anova(dv='velocity', between='group')"
   ]
  },
  {
   "cell_type": "code",
   "execution_count": null,
   "metadata": {},
   "outputs": [],
   "source": [
    "pg.pairwise_gameshowell(anova_melt, dv='velocity', between='group')"
   ]
  },
  {
   "cell_type": "markdown",
   "metadata": {},
   "source": [
    "### Separate velocity distributions by days."
   ]
  },
  {
   "cell_type": "code",
   "execution_count": null,
   "metadata": {},
   "outputs": [],
   "source": [
    "vel_dict = {'mouse': [], 'group': [], 'day': [], 'context_day': [], 'session': [], 'avg_velocity': [], 'max_velocity': [], 'vel_values': []}\n",
    "downsample_factor = 42\n",
    "for mouse in os.listdir(circle_path)[:-1]:\n",
    "    mouse_path = pjoin(circle_path, mouse)\n",
    "    group = 'Young Adult' if mouse in young_adult else 'Middle Aged' if mouse in middle_aged else 'Aged'\n",
    "    session_id = np.nan\n",
    "    day_counter = 1\n",
    "    for idx, session in enumerate(os.listdir(mouse_path)):\n",
    "        behav = pd.read_feather(pjoin(mouse_path, f'{session}'))\n",
    "        x_cm, y_cm = ctb.convert_to_cm(x=behav['x'], y=behav['y'], update_dataframe=False)\n",
    "        velocity, running = pc.define_running_epochs(x_cm[::downsample_factor], y_cm[::downsample_factor], behav['t'][::downsample_factor])\n",
    "        vel_dict['mouse'].append(mouse)\n",
    "        vel_dict['group'].append(group)\n",
    "        vel_dict['day'].append(idx+1)\n",
    "\n",
    "        if np.unique(behav['session'])[0] != session_id:\n",
    "            day_counter = 1\n",
    "            session_id = np.unique(behav['session'])[0]\n",
    "            vel_dict['context_day'].append(day_counter)\n",
    "        else:\n",
    "            day_counter += 1\n",
    "            session_id = np.unique(behav['session'])[0]\n",
    "            vel_dict['context_day'].append(day_counter)\n",
    "\n",
    "        vel_dict['session'].append(np.unique(behav['session'])[0])\n",
    "        vel_dict['avg_velocity'].append(np.mean(velocity))\n",
    "        vel_dict['max_velocity'].append(np.max(velocity))\n",
    "        vel_dict['vel_values'].append(velocity)\n",
    "vel = pd.DataFrame(vel_dict)"
   ]
  },
  {
   "cell_type": "code",
   "execution_count": null,
   "metadata": {},
   "outputs": [],
   "source": [
    "## Plot average velocity for each group across days in each context\n",
    "session_list = ['A', 'B', 'C', 'D']\n",
    "vel_contexts = pd.DataFrame()\n",
    "for session in session_list:\n",
    "    loop_data = vel[vel['session'] == session]\n",
    "    vel_contexts = pd.concat([vel_contexts, loop_data], ignore_index=True)\n",
    "fig = pf.custom_graph_template(x_title='', y_title='', rows=1, columns=4, width=1000, \n",
    "                               shared_y=True, shared_x=True, titles=session_list)\n",
    "for group in vel_contexts['group'].unique():\n",
    "    gdata = vel_contexts[vel_contexts['group'] == group].groupby(['context_day', 'session'], as_index=False).agg({'avg_velocity': ['mean', 'sem']})\n",
    "    for idx, sess in enumerate(gdata['session'].unique()):\n",
    "        sess_data = gdata[gdata['session'] == sess]\n",
    "        fig.add_trace(go.Scatter(x=sess_data['context_day'], y=sess_data['avg_velocity']['mean'], name=group,\n",
    "                                 line_color=group_colors_dict[group], legendgroup=group, showlegend=False,\n",
    "                                 error_y=dict(type='data', array=sess_data['avg_velocity']['sem'])), row=1, col=idx+1)\n",
    "fig['data'][0]['showlegend'] = True\n",
    "fig['data'][5]['showlegend'] = True\n",
    "fig['data'][11]['showlegend'] = True\n",
    "fig.update_xaxes(title='Day in Context')\n",
    "fig.update_yaxes(title='Average Velocity (cm/s)')\n",
    "fig.show()"
   ]
  },
  {
   "cell_type": "markdown",
   "metadata": {},
   "source": [
    "### Lick accuracy heatmap."
   ]
  },
  {
   "cell_type": "code",
   "execution_count": null,
   "metadata": {},
   "outputs": [],
   "source": [
    "## Looking at first licks\n",
    "lick_thresholds = [1, 2, 3, 4, 5]\n",
    "circletrack_results = {'mouse': [], 'day': [], 'context_day': [], 'group': [], 'session': [], 'lick_accuracy_thresh1': [], 'lick_accuracy_thresh2': [],\n",
    "                       'lick_accuracy_thresh3': [], 'lick_accuracy_thresh4': [], 'lick_accuracy_thresh5': []}\n",
    "for mouse in os.listdir(circle_path)[:-1]: ##.DS_store\n",
    "    mouse_path = pjoin(circle_path, mouse)\n",
    "    group = 'Young Adult' if mouse in young_adult else 'Middle Aged' if mouse in middle_aged else 'Aged'\n",
    "    session_id = np.nan\n",
    "    day_counter = 1\n",
    "    for idx, session in enumerate(os.listdir(mouse_path)):\n",
    "        behav = pd.read_feather(pjoin(mouse_path, f'{session}'))\n",
    "        behav = behav[~behav['probe']]\n",
    "        reward_one, reward_two = np.unique(behav['reward_one'])[0], np.unique(behav['reward_two'])[0]\n",
    "        circletrack_results['mouse'].append(mouse)\n",
    "        circletrack_results['day'].append(idx+1)\n",
    "        circletrack_results['group'].append(group)\n",
    "        circletrack_results['session'].append(np.unique(behav['session'])[0])\n",
    "        for thresh in lick_thresholds:\n",
    "            lick_accuracy = ctb.lick_accuracy(behav, port_one=reward_one, port_two=reward_two, lick_threshold=thresh, by_trials=False)\n",
    "            circletrack_results[f'lick_accuracy_thresh{thresh}'].append(lick_accuracy)\n",
    "\n",
    "        if np.unique(behav['session'])[0] != session_id:\n",
    "            day_counter = 1\n",
    "            session_id = np.unique(behav['session'])[0]\n",
    "            circletrack_results['context_day'].append(day_counter)\n",
    "        else:\n",
    "            day_counter += 1\n",
    "            session_id = np.unique(behav['session'])[0]\n",
    "            circletrack_results['context_day'].append(day_counter)\n",
    "ct_df = pd.DataFrame(circletrack_results)\n",
    "## Average for each lick accuracy threshold, excluding final probe days\n",
    "select_sessions = ct_df[(ct_df['session'] != 'AP') & (ct_df['session'] != 'BP') & (ct_df['session'] != 'CP') & (ct_df['session'] != 'DP')]\n",
    "avg_data = select_sessions.groupby(['context_day', 'group', 'session'], as_index=False).agg('mean')"
   ]
  },
  {
   "cell_type": "code",
   "execution_count": null,
   "metadata": {},
   "outputs": [],
   "source": [
    "## Young adult mice\n",
    "young_acc = avg_data[avg_data['group'] == 'Young Adult'].reset_index(drop=True)\n",
    "fig = pf.custom_graph_template(x_title='', y_title='', rows=1, columns=4, \n",
    "                               width=1200, titles=['A', 'B', 'C', 'D'])\n",
    "\n",
    "for sess_idx, session in enumerate(np.unique(young_acc['session'])):\n",
    "    sess_data = young_acc[young_acc['session'] == session].reset_index(drop=True)\n",
    "    arr = np.empty((len(lick_thresholds), sess_data.shape[0]))\n",
    "    arr.fill(np.nan)\n",
    "    for idx, col in enumerate(sess_data.columns[4:]):\n",
    "        arr[idx] = sess_data[col].to_numpy()\n",
    "    x_axis = np.arange(1, arr.shape[1]+1)\n",
    "    fig.add_trace(go.Heatmap(x=x_axis, y=lick_thresholds, z=arr, \n",
    "                             coloraxis='coloraxis'), row=1, col=sess_idx+1)\n",
    "fig.update_xaxes(title='Day in Context', row=1)\n",
    "fig.update_yaxes(title='Lick Threshold', col=1)\n",
    "fig.update_layout(coloraxis={'colorscale': 'viridis'})\n",
    "fig.show()"
   ]
  },
  {
   "cell_type": "code",
   "execution_count": null,
   "metadata": {},
   "outputs": [],
   "source": [
    "## Middle aged mice\n",
    "acc = avg_data[avg_data['group'] == 'Middle Aged'].reset_index(drop=True)\n",
    "fig = pf.custom_graph_template(x_title='', y_title='', rows=1, columns=4, \n",
    "                               width=1200, titles=['A', 'B', 'C', 'D'])\n",
    "\n",
    "for sess_idx, session in enumerate(np.unique(acc['session'])):\n",
    "    sess_data = acc[acc['session'] == session].reset_index(drop=True)\n",
    "    arr = np.empty((len(lick_thresholds), sess_data.shape[0]))\n",
    "    arr.fill(np.nan)\n",
    "    for idx, col in enumerate(sess_data.columns[4:]):\n",
    "        arr[idx] = sess_data[col].to_numpy()\n",
    "    x_axis = np.arange(1, arr.shape[1]+1)\n",
    "    fig.add_trace(go.Heatmap(x=x_axis, y=lick_thresholds, z=arr, \n",
    "                             coloraxis='coloraxis'), row=1, col=sess_idx+1)\n",
    "fig.update_xaxes(title='Day in Context', row=1)\n",
    "fig.update_yaxes(title='Lick Threshold', col=1)\n",
    "fig.update_layout(coloraxis={'colorscale': 'viridis'})\n",
    "fig.show()"
   ]
  },
  {
   "cell_type": "code",
   "execution_count": null,
   "metadata": {},
   "outputs": [],
   "source": [
    "acc = avg_data[avg_data['group'] == 'Aged'].reset_index(drop=True)\n",
    "fig = pf.custom_graph_template(x_title='', y_title='', rows=1, columns=4, \n",
    "                               width=1200, titles=['A', 'B', 'C', 'D'])\n",
    "\n",
    "for sess_idx, session in enumerate(np.unique(acc['session'])):\n",
    "    sess_data = acc[acc['session'] == session].reset_index(drop=True)\n",
    "    arr = np.empty((len(lick_thresholds), sess_data.shape[0]))\n",
    "    arr.fill(np.nan)\n",
    "    for idx, col in enumerate(sess_data.columns[4:]):\n",
    "        arr[idx] = sess_data[col].to_numpy()\n",
    "    x_axis = np.arange(1, arr.shape[1]+1)\n",
    "    fig.add_trace(go.Heatmap(x=x_axis, y=lick_thresholds, z=arr, \n",
    "                             coloraxis='coloraxis'), row=1, col=sess_idx+1)\n",
    "fig.update_xaxes(title='Day in Context', row=1)\n",
    "fig.update_yaxes(title='Lick Threshold', col=1)\n",
    "fig.update_layout(coloraxis={'colorscale': 'viridis'})\n",
    "fig.show()"
   ]
  },
  {
   "cell_type": "code",
   "execution_count": null,
   "metadata": {},
   "outputs": [],
   "source": [
    "fig = pf.custom_graph_template(x_title='', y_title='', rows=3, columns=4, shared_y=True, shared_x=True,\n",
    "                               height=1000, width=1200, titles=['A', 'B', 'C', 'D'])\n",
    "for g_idx, group in enumerate(['Young Adult', 'Middle Aged', 'Aged']):\n",
    "    acc = avg_data[avg_data['group'] == group].reset_index(drop=True)\n",
    "    for sess_idx, session in enumerate(np.unique(acc['session'])):\n",
    "        sess_data = acc[acc['session'] == session].reset_index(drop=True)\n",
    "        arr = np.empty((len(lick_thresholds), sess_data.shape[0]))\n",
    "        arr.fill(np.nan)\n",
    "        for idx, col in enumerate(sess_data.columns[4:]):\n",
    "            arr[idx] = sess_data[col].to_numpy()\n",
    "        x_axis = np.arange(1, arr.shape[1]+1)\n",
    "        fig.add_trace(go.Heatmap(x=x_axis, y=lick_thresholds, z=arr, \n",
    "                                coloraxis='coloraxis'), row=g_idx+1, col=sess_idx+1)\n",
    "fig.update_xaxes(title='Day in Context', row=3)\n",
    "fig.update_yaxes(title='Lick Threshold', col=1)\n",
    "fig.update_layout(coloraxis={'colorscale': 'viridis'})\n",
    "fig.show()\n",
    "fig.write_image(pjoin(fig_path, 'lick_accuracy_heatmaps.png'))"
   ]
  },
  {
   "cell_type": "markdown",
   "metadata": {},
   "source": [
    "### Reminder day for IHC"
   ]
  },
  {
   "cell_type": "code",
   "execution_count": null,
   "metadata": {},
   "outputs": [],
   "source": [
    "circletrack_results = {'mouse': [], 'day': [], 'group': [], 'session': [], 'lick_accuracy_thresh1': [], \n",
    "                       'lick_accuracy_thresh5': [], 'rewards': []}\n",
    "for mouse in os.listdir(circle_path)[:-1]: ## somehow a .DS_Store appeared????????\n",
    "    mouse_path = pjoin(circle_path, mouse)\n",
    "    group = 'Young Adult' if mouse in young_adult else 'Middle Aged' if mouse in middle_aged else 'Aged'\n",
    "    for idx, session in enumerate(os.listdir(mouse_path)):\n",
    "        behav = pd.read_feather(pjoin(mouse_path, f'{session}'))\n",
    "        if (np.unique(behav['session'])[0] != 'DT' ) & (np.unique(behav['session'])[0] != 'CT' ):\n",
    "            pass\n",
    "        else:\n",
    "            reward_one, reward_two = np.unique(behav['reward_one'])[0], np.unique(behav['reward_two'])[0]\n",
    "            pc_thresh1 = ctb.lick_accuracy(behav, port_one=reward_one, port_two=reward_two, lick_threshold=1, by_trials=False)\n",
    "            pc_thresh5 = ctb.lick_accuracy(behav, port_one=reward_one, port_two=reward_two, lick_threshold=5, by_trials=False)\n",
    "            circletrack_results['mouse'].append(mouse)\n",
    "            circletrack_results['day'].append(idx+1)\n",
    "            circletrack_results['group'].append(group)\n",
    "            circletrack_results['session'].append(np.unique(behav['session'])[0])\n",
    "            circletrack_results['lick_accuracy_thresh1'].append(pc_thresh1)\n",
    "            circletrack_results['lick_accuracy_thresh5'].append(pc_thresh5)\n",
    "            circletrack_results['rewards'].append(np.sum(behav['water']))\n",
    "ct_df = pd.DataFrame(circletrack_results)"
   ]
  },
  {
   "cell_type": "code",
   "execution_count": null,
   "metadata": {},
   "outputs": [],
   "source": [
    "## Plot lick accuracy thresh5 for all groups\n",
    "var = 'lick_accuracy_thresh5'\n",
    "avg_data = ct_df.groupby(['group'], as_index=False).agg({var: ['mean', 'sem']})\n",
    "fig = pf.custom_graph_template(x_title='', y_title='Lick Accuracy (%)')\n",
    "for group in np.unique(avg_data['group']):\n",
    "    gdata = avg_data[avg_data['group'] == group]\n",
    "    fig.add_trace(go.Scatter(x=gdata['group'], y=gdata[var]['mean'], mode='markers', name=group, showlegend=False,\n",
    "                            marker_color=group_colors_dict[group], error_y=dict(type='data', array=gdata[var]['sem']),\n",
    "                            marker_size=5))\n",
    "for mouse in np.unique(ct_df['mouse']):\n",
    "    mdata = ct_df[ct_df['mouse'] == mouse]\n",
    "    group = mdata['group'].values[0]\n",
    "    fig.add_trace(go.Scatter(x=mdata['group'], y=mdata[var], mode='markers', name=group, showlegend=False,\n",
    "                             marker_color=group_colors_dict[group]))\n",
    "\n",
    "fig.show()"
   ]
  },
  {
   "cell_type": "code",
   "execution_count": null,
   "metadata": {},
   "outputs": [],
   "source": [
    "## Plot rewards for all groups\n",
    "var = 'rewards'\n",
    "avg_data = ct_df.groupby(['group'], as_index=False).agg({var: ['mean', 'sem']})\n",
    "fig = pf.custom_graph_template(x_title='', y_title='Rewards')\n",
    "for group in np.unique(avg_data['group']):\n",
    "    gdata = avg_data[avg_data['group'] == group]\n",
    "    fig.add_trace(go.Scatter(x=gdata['group'], y=gdata[var]['mean'], mode='markers', name=group, showlegend=False,\n",
    "                            marker_color=group_colors_dict[group], error_y=dict(type='data', array=gdata[var]['sem'])))\n",
    "for mouse in np.unique(ct_df['mouse']):\n",
    "    mdata = ct_df[ct_df['mouse'] == mouse]\n",
    "    group = mdata['group'].values[0]\n",
    "    fig.add_trace(go.Scatter(x=mdata['group'], y=mdata[var], mode='markers', name=group, showlegend=False,\n",
    "                             marker_color=group_colors_dict[group]))\n",
    "\n",
    "fig.show()"
   ]
  },
  {
   "cell_type": "markdown",
   "metadata": {},
   "source": [
    "### Plotting lick accuracy in each context across days, where each group is on one subplot."
   ]
  },
  {
   "cell_type": "code",
   "execution_count": 4,
   "metadata": {},
   "outputs": [],
   "source": [
    "## Looking at 5th lick\n",
    "circletrack_results = {'mouse': [], 'day': [], 'context_day': [], 'group': [], 'session': [], 'lick_accuracy': []}\n",
    "for mouse in os.listdir(circle_path)[:-1]: ##.DS_store\n",
    "    mouse_path = pjoin(circle_path, mouse)\n",
    "    group = 'Young Adult' if mouse in young_adult else 'Middle Aged' if mouse in middle_aged else 'Aged'\n",
    "    session_id = np.nan\n",
    "    day_counter = 1\n",
    "    for idx, session in enumerate(os.listdir(mouse_path)):\n",
    "        behav = pd.read_feather(pjoin(mouse_path, f'{session}'))\n",
    "        behav = behav[~behav['probe']]\n",
    "        reward_one, reward_two = np.unique(behav['reward_one'])[0], np.unique(behav['reward_two'])[0]\n",
    "        circletrack_results['mouse'].append(mouse)\n",
    "        circletrack_results['day'].append(idx+1)\n",
    "        circletrack_results['group'].append(group)\n",
    "        circletrack_results['session'].append(np.unique(behav['session'])[0])\n",
    "        lick_accuracy = ctb.lick_accuracy(behav, port_one=reward_one, port_two=reward_two, lick_threshold=5, by_trials=False)\n",
    "        circletrack_results['lick_accuracy'].append(lick_accuracy)\n",
    "\n",
    "        if np.unique(behav['session'])[0] != session_id:\n",
    "            day_counter = 1\n",
    "            session_id = np.unique(behav['session'])[0]\n",
    "            circletrack_results['context_day'].append(day_counter)\n",
    "        else:\n",
    "            day_counter += 1\n",
    "            session_id = np.unique(behav['session'])[0]\n",
    "            circletrack_results['context_day'].append(day_counter)\n",
    "ct_df = pd.DataFrame(circletrack_results)"
   ]
  },
  {
   "cell_type": "code",
   "execution_count": 22,
   "metadata": {},
   "outputs": [
    {
     "data": {
      "application/vnd.plotly.v1+json": {
       "config": {
        "plotlyServerURL": "https://plot.ly"
       },
       "data": [
        {
         "error_y": {
          "array": [
           1.8967407846219464,
           4.058154329125233,
           5.606550283089525,
           1.8505690419589251,
           4.4147901248637105,
           4.229638622016385,
           2.812467369964346,
           1.4797378127255738,
           3.4629113937847995,
           2.9106908007727355,
           2.245245211032238
          ],
          "type": "data"
         },
         "legendgroup": "A",
         "line": {
          "color": "midnightblue"
         },
         "name": "A",
         "showlegend": true,
         "type": "scatter",
         "x": [
          1,
          2,
          3,
          4,
          5,
          6,
          7,
          8,
          9,
          10,
          11
         ],
         "xaxis": "x",
         "y": [
          31.62496827003406,
          43.40790882761699,
          69.32881816398518,
          84.2382989720781,
          81.61125231947739,
          83.74663627712481,
          86.06563703757708,
          86.54496778339073,
          88.59515160286695,
          90.50639899138787,
          92.44023089975181
         ],
         "yaxis": "y"
        },
        {
         "error_y": {
          "array": [
           6.375695064603228,
           3.814095663485038,
           1.7547385739258872,
           2.792387584602784,
           null
          ],
          "type": "data"
         },
         "legendgroup": "B",
         "line": {
          "color": "red"
         },
         "name": "B",
         "showlegend": true,
         "type": "scatter",
         "x": [
          1,
          2,
          3,
          4,
          5
         ],
         "xaxis": "x",
         "y": [
          51.141565671493055,
          75.7084877216331,
          83.43905721577606,
          86.83782461775844,
          93.33333333333333
         ],
         "yaxis": "y"
        },
        {
         "error_y": {
          "array": [
           7.431263686007747,
           2.9409701914726543,
           2.988121634906992,
           7.698342257707923,
           2.4859943977591037,
           2.2327843484027774
          ],
          "type": "data"
         },
         "legendgroup": "C",
         "line": {
          "color": "darkorchid"
         },
         "name": "C",
         "showlegend": true,
         "type": "scatter",
         "x": [
          1,
          2,
          3,
          4,
          5,
          6
         ],
         "xaxis": "x",
         "y": [
          64.3967571676908,
          83.58807039474647,
          87.0220034490427,
          80.72193335674139,
          86.79971988795518,
          85.71902288051288
         ],
         "yaxis": "y"
        },
        {
         "error_y": {
          "array": [
           9.77269570479369,
           1.934535119147228,
           1.4950588086872172,
           1.5605000104693165,
           1.3727390180878452
          ],
          "type": "data"
         },
         "legendgroup": "D",
         "line": {
          "color": "forestgreen"
         },
         "name": "D",
         "showlegend": true,
         "type": "scatter",
         "x": [
          1,
          2,
          3,
          4,
          5
         ],
         "xaxis": "x",
         "y": [
          60.5043510808091,
          82.23754789383945,
          86.62928025920094,
          89.38441533942382,
          91.65051679586563
         ],
         "yaxis": "y"
        },
        {
         "error_y": {
          "array": [
           1.8763893402202634,
           2.642922636527446,
           5.046165947559775,
           5.969759812205109,
           7.031771385489008,
           5.170059666589383,
           5.366472155251325,
           3.2119996840523624,
           1.9750431806670772,
           4.571588954496721,
           3.322131085490278
          ],
          "type": "data"
         },
         "legendgroup": "A",
         "line": {
          "color": "midnightblue"
         },
         "name": "A",
         "showlegend": false,
         "type": "scatter",
         "x": [
          1,
          2,
          3,
          4,
          5,
          6,
          7,
          8,
          9,
          10,
          11
         ],
         "xaxis": "x2",
         "y": [
          25.933544348640996,
          27.88044063779358,
          43.18309369800911,
          56.798154287585575,
          67.00500931820683,
          70.69400285372024,
          69.34568861402893,
          79.04154377093845,
          82.82968685956575,
          79.06757318408525,
          84.54016911531282
         ],
         "yaxis": "y2"
        },
        {
         "error_y": {
          "array": [
           5.432324131249502,
           6.605308529607845,
           4.382918947346116,
           5.126647931318739,
           1.0641358161865153,
           1.2739597942964023
          ],
          "type": "data"
         },
         "legendgroup": "B",
         "line": {
          "color": "red"
         },
         "name": "B",
         "showlegend": false,
         "type": "scatter",
         "x": [
          1,
          2,
          3,
          4,
          5,
          6
         ],
         "xaxis": "x2",
         "y": [
          40.13767891051944,
          58.1450580016511,
          71.63698748855842,
          77.8666001747478,
          83.66904555582482,
          80.98410472183264
         ],
         "yaxis": "y2"
        },
        {
         "error_y": {
          "array": [
           4.172558504451505,
           2.345055419388416,
           2.0753584079799445,
           2.144302520749087,
           null,
           null
          ],
          "type": "data"
         },
         "legendgroup": "C",
         "line": {
          "color": "darkorchid"
         },
         "name": "C",
         "showlegend": false,
         "type": "scatter",
         "x": [
          1,
          2,
          3,
          4,
          5,
          6
         ],
         "xaxis": "x2",
         "y": [
          66.82130224568633,
          79.92415681831221,
          79.93812851741082,
          80.09306621199205,
          77.61194029850746,
          84.82142857142857
         ],
         "yaxis": "y2"
        },
        {
         "error_y": {
          "array": [
           4.594399527973483,
           4.734875636005599,
           6.3265375505289745,
           5.428444222527924
          ],
          "type": "data"
         },
         "legendgroup": "D",
         "line": {
          "color": "forestgreen"
         },
         "name": "D",
         "showlegend": false,
         "type": "scatter",
         "x": [
          1,
          2,
          3,
          4
         ],
         "xaxis": "x2",
         "y": [
          72.47168794706418,
          77.26774208192023,
          75.03096403490105,
          74.81659544159544
         ],
         "yaxis": "y2"
        },
        {
         "error_y": {
          "array": [
           3.9008953911769133,
           3.6604698954913686,
           6.262891681132379,
           7.87436327064295,
           12.40023641079694,
           3.5068509208012033,
           5.95123945967207,
           5.038377482726794,
           5.900564464081058,
           4.353485332189374,
           6.27428190874542
          ],
          "type": "data"
         },
         "legendgroup": "A",
         "line": {
          "color": "midnightblue"
         },
         "name": "A",
         "showlegend": false,
         "type": "scatter",
         "x": [
          1,
          2,
          3,
          4,
          5,
          6,
          7,
          8,
          9,
          10,
          11
         ],
         "xaxis": "x3",
         "y": [
          29.40268757856061,
          28.039283085335715,
          33.67762814717365,
          39.000508824692695,
          42.34606545807106,
          43.784328730873455,
          60.365505724225144,
          66.23786724458738,
          72.04891936396676,
          74.39998463600406,
          77.46216431518647
         ],
         "yaxis": "y3"
        },
        {
         "error_y": {
          "array": [
           4.996094956337908,
           3.6409729002849547,
           5.304021985500932,
           7.974237887367925,
           7.300737606070882,
           8.458535970456566,
           4.981127422876152,
           6.603900814448175,
           4.177718832891255,
           0.5820105820105752,
           1.3157894736842193,
           0.9751509751509778,
           null
          ],
          "type": "data"
         },
         "legendgroup": "B",
         "line": {
          "color": "red"
         },
         "name": "B",
         "showlegend": false,
         "type": "scatter",
         "x": [
          1,
          2,
          3,
          4,
          5,
          6,
          7,
          8,
          9,
          10,
          11,
          12,
          13
         ],
         "xaxis": "x3",
         "y": [
          34.89268107862752,
          42.688821834697514,
          52.585904573061626,
          59.346927699803416,
          62.49990485005291,
          64.85334619545444,
          74.97657186944365,
          75.97503823377787,
          73.40848806366049,
          58.67724867724868,
          75,
          74.84902484902486,
          71.91011235955057
         ],
         "yaxis": "y3"
        },
        {
         "error_y": {
          "array": [
           5.408806331493033,
           5.715412707817808,
           5.001721541086824,
           5.180233289483134,
           5.115383675634807,
           5.442176870748309,
           1.5575123830489872,
           12.090070338905637,
           12.585910652920964,
           7.343903638151427,
           1.9856968959221
          ],
          "type": "data"
         },
         "legendgroup": "C",
         "line": {
          "color": "darkorchid"
         },
         "name": "C",
         "showlegend": false,
         "type": "scatter",
         "x": [
          1,
          2,
          3,
          4,
          5,
          6,
          7,
          8,
          9,
          10,
          11
         ],
         "xaxis": "x3",
         "y": [
          56.69817628102012,
          59.344102736869,
          70.1197734336399,
          75.29435886040382,
          74.10357057915998,
          72.10884353741497,
          61.051183269124934,
          66.56161505435279,
          70.9192439862543,
          74.60054080629303,
          74.62720632988436
         ],
         "yaxis": "y3"
        },
        {
         "error_y": {
          "array": [
           3.9982660386588575,
           3.4625562021442082,
           4.331323834960526,
           5.289475161629273,
           null,
           null,
           null
          ],
          "type": "data"
         },
         "legendgroup": "D",
         "line": {
          "color": "forestgreen"
         },
         "name": "D",
         "showlegend": false,
         "type": "scatter",
         "x": [
          1,
          2,
          3,
          4,
          5,
          6,
          7
         ],
         "xaxis": "x3",
         "y": [
          61.82033172189903,
          75.60856580122295,
          82.78139824021784,
          77.61138325715848,
          51.9607843137255,
          83.16831683168317,
          73.91304347826086
         ],
         "yaxis": "y3"
        }
       ],
       "layout": {
        "annotations": [
         {
          "font": {
           "size": 22
          },
          "showarrow": false,
          "text": "Young Adult",
          "x": 0.14444444444444446,
          "xanchor": "center",
          "xref": "paper",
          "y": 1,
          "yanchor": "bottom",
          "yref": "paper"
         },
         {
          "font": {
           "size": 22
          },
          "showarrow": false,
          "text": "Middle Aged",
          "x": 0.5,
          "xanchor": "center",
          "xref": "paper",
          "y": 1,
          "yanchor": "bottom",
          "yref": "paper"
         },
         {
          "font": {
           "size": 22
          },
          "showarrow": false,
          "text": "Aged",
          "x": 0.8555555555555556,
          "xanchor": "center",
          "xref": "paper",
          "y": 1,
          "yanchor": "bottom",
          "yref": "paper"
         }
        ],
        "font": {
         "family": "Arial",
         "size": 22
        },
        "height": 500,
        "shapes": [
         {
          "line": {
           "color": "darkgrey",
           "dash": "dash",
           "width": 1
          },
          "opacity": 1,
          "type": "line",
          "x0": 0,
          "x1": 1,
          "xref": "x domain",
          "y0": 25,
          "y1": 25,
          "yref": "y"
         },
         {
          "line": {
           "color": "darkgrey",
           "dash": "dash",
           "width": 1
          },
          "opacity": 1,
          "type": "line",
          "x0": 0,
          "x1": 1,
          "xref": "x2 domain",
          "y0": 25,
          "y1": 25,
          "yref": "y2"
         },
         {
          "line": {
           "color": "darkgrey",
           "dash": "dash",
           "width": 1
          },
          "opacity": 1,
          "type": "line",
          "x0": 0,
          "x1": 1,
          "xref": "x3 domain",
          "y0": 25,
          "y1": 25,
          "yref": "y3"
         }
        ],
        "template": {
         "data": {
          "bar": [
           {
            "error_x": {
             "color": "rgb(36,36,36)"
            },
            "error_y": {
             "color": "rgb(36,36,36)"
            },
            "marker": {
             "line": {
              "color": "white",
              "width": 0.5
             },
             "pattern": {
              "fillmode": "overlay",
              "size": 10,
              "solidity": 0.2
             }
            },
            "type": "bar"
           }
          ],
          "barpolar": [
           {
            "marker": {
             "line": {
              "color": "white",
              "width": 0.5
             },
             "pattern": {
              "fillmode": "overlay",
              "size": 10,
              "solidity": 0.2
             }
            },
            "type": "barpolar"
           }
          ],
          "carpet": [
           {
            "aaxis": {
             "endlinecolor": "rgb(36,36,36)",
             "gridcolor": "white",
             "linecolor": "white",
             "minorgridcolor": "white",
             "startlinecolor": "rgb(36,36,36)"
            },
            "baxis": {
             "endlinecolor": "rgb(36,36,36)",
             "gridcolor": "white",
             "linecolor": "white",
             "minorgridcolor": "white",
             "startlinecolor": "rgb(36,36,36)"
            },
            "type": "carpet"
           }
          ],
          "choropleth": [
           {
            "colorbar": {
             "outlinewidth": 1,
             "tickcolor": "rgb(36,36,36)",
             "ticks": "outside"
            },
            "type": "choropleth"
           }
          ],
          "contour": [
           {
            "colorbar": {
             "outlinewidth": 1,
             "tickcolor": "rgb(36,36,36)",
             "ticks": "outside"
            },
            "colorscale": [
             [
              0,
              "#440154"
             ],
             [
              0.1111111111111111,
              "#482878"
             ],
             [
              0.2222222222222222,
              "#3e4989"
             ],
             [
              0.3333333333333333,
              "#31688e"
             ],
             [
              0.4444444444444444,
              "#26828e"
             ],
             [
              0.5555555555555556,
              "#1f9e89"
             ],
             [
              0.6666666666666666,
              "#35b779"
             ],
             [
              0.7777777777777778,
              "#6ece58"
             ],
             [
              0.8888888888888888,
              "#b5de2b"
             ],
             [
              1,
              "#fde725"
             ]
            ],
            "type": "contour"
           }
          ],
          "contourcarpet": [
           {
            "colorbar": {
             "outlinewidth": 1,
             "tickcolor": "rgb(36,36,36)",
             "ticks": "outside"
            },
            "type": "contourcarpet"
           }
          ],
          "heatmap": [
           {
            "colorbar": {
             "outlinewidth": 1,
             "tickcolor": "rgb(36,36,36)",
             "ticks": "outside"
            },
            "colorscale": [
             [
              0,
              "#440154"
             ],
             [
              0.1111111111111111,
              "#482878"
             ],
             [
              0.2222222222222222,
              "#3e4989"
             ],
             [
              0.3333333333333333,
              "#31688e"
             ],
             [
              0.4444444444444444,
              "#26828e"
             ],
             [
              0.5555555555555556,
              "#1f9e89"
             ],
             [
              0.6666666666666666,
              "#35b779"
             ],
             [
              0.7777777777777778,
              "#6ece58"
             ],
             [
              0.8888888888888888,
              "#b5de2b"
             ],
             [
              1,
              "#fde725"
             ]
            ],
            "type": "heatmap"
           }
          ],
          "heatmapgl": [
           {
            "colorbar": {
             "outlinewidth": 1,
             "tickcolor": "rgb(36,36,36)",
             "ticks": "outside"
            },
            "colorscale": [
             [
              0,
              "#440154"
             ],
             [
              0.1111111111111111,
              "#482878"
             ],
             [
              0.2222222222222222,
              "#3e4989"
             ],
             [
              0.3333333333333333,
              "#31688e"
             ],
             [
              0.4444444444444444,
              "#26828e"
             ],
             [
              0.5555555555555556,
              "#1f9e89"
             ],
             [
              0.6666666666666666,
              "#35b779"
             ],
             [
              0.7777777777777778,
              "#6ece58"
             ],
             [
              0.8888888888888888,
              "#b5de2b"
             ],
             [
              1,
              "#fde725"
             ]
            ],
            "type": "heatmapgl"
           }
          ],
          "histogram": [
           {
            "marker": {
             "line": {
              "color": "white",
              "width": 0.6
             }
            },
            "type": "histogram"
           }
          ],
          "histogram2d": [
           {
            "colorbar": {
             "outlinewidth": 1,
             "tickcolor": "rgb(36,36,36)",
             "ticks": "outside"
            },
            "colorscale": [
             [
              0,
              "#440154"
             ],
             [
              0.1111111111111111,
              "#482878"
             ],
             [
              0.2222222222222222,
              "#3e4989"
             ],
             [
              0.3333333333333333,
              "#31688e"
             ],
             [
              0.4444444444444444,
              "#26828e"
             ],
             [
              0.5555555555555556,
              "#1f9e89"
             ],
             [
              0.6666666666666666,
              "#35b779"
             ],
             [
              0.7777777777777778,
              "#6ece58"
             ],
             [
              0.8888888888888888,
              "#b5de2b"
             ],
             [
              1,
              "#fde725"
             ]
            ],
            "type": "histogram2d"
           }
          ],
          "histogram2dcontour": [
           {
            "colorbar": {
             "outlinewidth": 1,
             "tickcolor": "rgb(36,36,36)",
             "ticks": "outside"
            },
            "colorscale": [
             [
              0,
              "#440154"
             ],
             [
              0.1111111111111111,
              "#482878"
             ],
             [
              0.2222222222222222,
              "#3e4989"
             ],
             [
              0.3333333333333333,
              "#31688e"
             ],
             [
              0.4444444444444444,
              "#26828e"
             ],
             [
              0.5555555555555556,
              "#1f9e89"
             ],
             [
              0.6666666666666666,
              "#35b779"
             ],
             [
              0.7777777777777778,
              "#6ece58"
             ],
             [
              0.8888888888888888,
              "#b5de2b"
             ],
             [
              1,
              "#fde725"
             ]
            ],
            "type": "histogram2dcontour"
           }
          ],
          "mesh3d": [
           {
            "colorbar": {
             "outlinewidth": 1,
             "tickcolor": "rgb(36,36,36)",
             "ticks": "outside"
            },
            "type": "mesh3d"
           }
          ],
          "parcoords": [
           {
            "line": {
             "colorbar": {
              "outlinewidth": 1,
              "tickcolor": "rgb(36,36,36)",
              "ticks": "outside"
             }
            },
            "type": "parcoords"
           }
          ],
          "pie": [
           {
            "automargin": true,
            "type": "pie"
           }
          ],
          "scatter": [
           {
            "fillpattern": {
             "fillmode": "overlay",
             "size": 10,
             "solidity": 0.2
            },
            "type": "scatter"
           }
          ],
          "scatter3d": [
           {
            "line": {
             "colorbar": {
              "outlinewidth": 1,
              "tickcolor": "rgb(36,36,36)",
              "ticks": "outside"
             }
            },
            "marker": {
             "colorbar": {
              "outlinewidth": 1,
              "tickcolor": "rgb(36,36,36)",
              "ticks": "outside"
             }
            },
            "type": "scatter3d"
           }
          ],
          "scattercarpet": [
           {
            "marker": {
             "colorbar": {
              "outlinewidth": 1,
              "tickcolor": "rgb(36,36,36)",
              "ticks": "outside"
             }
            },
            "type": "scattercarpet"
           }
          ],
          "scattergeo": [
           {
            "marker": {
             "colorbar": {
              "outlinewidth": 1,
              "tickcolor": "rgb(36,36,36)",
              "ticks": "outside"
             }
            },
            "type": "scattergeo"
           }
          ],
          "scattergl": [
           {
            "marker": {
             "colorbar": {
              "outlinewidth": 1,
              "tickcolor": "rgb(36,36,36)",
              "ticks": "outside"
             }
            },
            "type": "scattergl"
           }
          ],
          "scattermapbox": [
           {
            "marker": {
             "colorbar": {
              "outlinewidth": 1,
              "tickcolor": "rgb(36,36,36)",
              "ticks": "outside"
             }
            },
            "type": "scattermapbox"
           }
          ],
          "scatterpolar": [
           {
            "marker": {
             "colorbar": {
              "outlinewidth": 1,
              "tickcolor": "rgb(36,36,36)",
              "ticks": "outside"
             }
            },
            "type": "scatterpolar"
           }
          ],
          "scatterpolargl": [
           {
            "marker": {
             "colorbar": {
              "outlinewidth": 1,
              "tickcolor": "rgb(36,36,36)",
              "ticks": "outside"
             }
            },
            "type": "scatterpolargl"
           }
          ],
          "scatterternary": [
           {
            "marker": {
             "colorbar": {
              "outlinewidth": 1,
              "tickcolor": "rgb(36,36,36)",
              "ticks": "outside"
             }
            },
            "type": "scatterternary"
           }
          ],
          "surface": [
           {
            "colorbar": {
             "outlinewidth": 1,
             "tickcolor": "rgb(36,36,36)",
             "ticks": "outside"
            },
            "colorscale": [
             [
              0,
              "#440154"
             ],
             [
              0.1111111111111111,
              "#482878"
             ],
             [
              0.2222222222222222,
              "#3e4989"
             ],
             [
              0.3333333333333333,
              "#31688e"
             ],
             [
              0.4444444444444444,
              "#26828e"
             ],
             [
              0.5555555555555556,
              "#1f9e89"
             ],
             [
              0.6666666666666666,
              "#35b779"
             ],
             [
              0.7777777777777778,
              "#6ece58"
             ],
             [
              0.8888888888888888,
              "#b5de2b"
             ],
             [
              1,
              "#fde725"
             ]
            ],
            "type": "surface"
           }
          ],
          "table": [
           {
            "cells": {
             "fill": {
              "color": "rgb(237,237,237)"
             },
             "line": {
              "color": "white"
             }
            },
            "header": {
             "fill": {
              "color": "rgb(217,217,217)"
             },
             "line": {
              "color": "white"
             }
            },
            "type": "table"
           }
          ]
         },
         "layout": {
          "annotationdefaults": {
           "arrowhead": 0,
           "arrowwidth": 1
          },
          "autotypenumbers": "strict",
          "coloraxis": {
           "colorbar": {
            "outlinewidth": 1,
            "tickcolor": "rgb(36,36,36)",
            "ticks": "outside"
           }
          },
          "colorscale": {
           "diverging": [
            [
             0,
             "rgb(103,0,31)"
            ],
            [
             0.1,
             "rgb(178,24,43)"
            ],
            [
             0.2,
             "rgb(214,96,77)"
            ],
            [
             0.3,
             "rgb(244,165,130)"
            ],
            [
             0.4,
             "rgb(253,219,199)"
            ],
            [
             0.5,
             "rgb(247,247,247)"
            ],
            [
             0.6,
             "rgb(209,229,240)"
            ],
            [
             0.7,
             "rgb(146,197,222)"
            ],
            [
             0.8,
             "rgb(67,147,195)"
            ],
            [
             0.9,
             "rgb(33,102,172)"
            ],
            [
             1,
             "rgb(5,48,97)"
            ]
           ],
           "sequential": [
            [
             0,
             "#440154"
            ],
            [
             0.1111111111111111,
             "#482878"
            ],
            [
             0.2222222222222222,
             "#3e4989"
            ],
            [
             0.3333333333333333,
             "#31688e"
            ],
            [
             0.4444444444444444,
             "#26828e"
            ],
            [
             0.5555555555555556,
             "#1f9e89"
            ],
            [
             0.6666666666666666,
             "#35b779"
            ],
            [
             0.7777777777777778,
             "#6ece58"
            ],
            [
             0.8888888888888888,
             "#b5de2b"
            ],
            [
             1,
             "#fde725"
            ]
           ],
           "sequentialminus": [
            [
             0,
             "#440154"
            ],
            [
             0.1111111111111111,
             "#482878"
            ],
            [
             0.2222222222222222,
             "#3e4989"
            ],
            [
             0.3333333333333333,
             "#31688e"
            ],
            [
             0.4444444444444444,
             "#26828e"
            ],
            [
             0.5555555555555556,
             "#1f9e89"
            ],
            [
             0.6666666666666666,
             "#35b779"
            ],
            [
             0.7777777777777778,
             "#6ece58"
            ],
            [
             0.8888888888888888,
             "#b5de2b"
            ],
            [
             1,
             "#fde725"
            ]
           ]
          },
          "colorway": [
           "#1F77B4",
           "#FF7F0E",
           "#2CA02C",
           "#D62728",
           "#9467BD",
           "#8C564B",
           "#E377C2",
           "#7F7F7F",
           "#BCBD22",
           "#17BECF"
          ],
          "font": {
           "color": "rgb(36,36,36)"
          },
          "geo": {
           "bgcolor": "white",
           "lakecolor": "white",
           "landcolor": "white",
           "showlakes": true,
           "showland": true,
           "subunitcolor": "white"
          },
          "hoverlabel": {
           "align": "left"
          },
          "hovermode": "closest",
          "mapbox": {
           "style": "light"
          },
          "paper_bgcolor": "white",
          "plot_bgcolor": "white",
          "polar": {
           "angularaxis": {
            "gridcolor": "rgb(232,232,232)",
            "linecolor": "rgb(36,36,36)",
            "showgrid": false,
            "showline": true,
            "ticks": "outside"
           },
           "bgcolor": "white",
           "radialaxis": {
            "gridcolor": "rgb(232,232,232)",
            "linecolor": "rgb(36,36,36)",
            "showgrid": false,
            "showline": true,
            "ticks": "outside"
           }
          },
          "scene": {
           "xaxis": {
            "backgroundcolor": "white",
            "gridcolor": "rgb(232,232,232)",
            "gridwidth": 2,
            "linecolor": "rgb(36,36,36)",
            "showbackground": true,
            "showgrid": false,
            "showline": true,
            "ticks": "outside",
            "zeroline": false,
            "zerolinecolor": "rgb(36,36,36)"
           },
           "yaxis": {
            "backgroundcolor": "white",
            "gridcolor": "rgb(232,232,232)",
            "gridwidth": 2,
            "linecolor": "rgb(36,36,36)",
            "showbackground": true,
            "showgrid": false,
            "showline": true,
            "ticks": "outside",
            "zeroline": false,
            "zerolinecolor": "rgb(36,36,36)"
           },
           "zaxis": {
            "backgroundcolor": "white",
            "gridcolor": "rgb(232,232,232)",
            "gridwidth": 2,
            "linecolor": "rgb(36,36,36)",
            "showbackground": true,
            "showgrid": false,
            "showline": true,
            "ticks": "outside",
            "zeroline": false,
            "zerolinecolor": "rgb(36,36,36)"
           }
          },
          "shapedefaults": {
           "fillcolor": "black",
           "line": {
            "width": 0
           },
           "opacity": 0.3
          },
          "ternary": {
           "aaxis": {
            "gridcolor": "rgb(232,232,232)",
            "linecolor": "rgb(36,36,36)",
            "showgrid": false,
            "showline": true,
            "ticks": "outside"
           },
           "baxis": {
            "gridcolor": "rgb(232,232,232)",
            "linecolor": "rgb(36,36,36)",
            "showgrid": false,
            "showline": true,
            "ticks": "outside"
           },
           "bgcolor": "white",
           "caxis": {
            "gridcolor": "rgb(232,232,232)",
            "linecolor": "rgb(36,36,36)",
            "showgrid": false,
            "showline": true,
            "ticks": "outside"
           }
          },
          "title": {
           "x": 0.05
          },
          "xaxis": {
           "automargin": true,
           "gridcolor": "rgb(232,232,232)",
           "linecolor": "rgb(36,36,36)",
           "showgrid": false,
           "showline": true,
           "ticks": "outside",
           "title": {
            "standoff": 15
           },
           "zeroline": false,
           "zerolinecolor": "rgb(36,36,36)"
          },
          "yaxis": {
           "automargin": true,
           "gridcolor": "rgb(232,232,232)",
           "linecolor": "rgb(36,36,36)",
           "showgrid": false,
           "showline": true,
           "ticks": "outside",
           "title": {
            "standoff": 15
           },
           "zeroline": false,
           "zerolinecolor": "rgb(36,36,36)"
          }
         }
        },
        "title": {
         "x": 0.5,
         "xanchor": "center",
         "y": 0.9,
         "yanchor": "top"
        },
        "width": 900,
        "xaxis": {
         "anchor": "y",
         "domain": [
          0,
          0.2888888888888889
         ],
         "linewidth": 1.5,
         "matches": "x",
         "title": {
          "text": "Day in Context"
         }
        },
        "xaxis2": {
         "anchor": "y2",
         "domain": [
          0.35555555555555557,
          0.6444444444444445
         ],
         "linewidth": 1.5,
         "matches": "x",
         "title": {
          "text": "Day in Context"
         }
        },
        "xaxis3": {
         "anchor": "y3",
         "domain": [
          0.7111111111111111,
          1
         ],
         "linewidth": 1.5,
         "matches": "x",
         "title": {
          "text": "Day in Context"
         }
        },
        "yaxis": {
         "anchor": "x",
         "domain": [
          0,
          1
         ],
         "linewidth": 1.5,
         "matches": "y",
         "range": [
          0,
          100
         ],
         "title": {
          "text": "Lick Accuracy (%)"
         }
        },
        "yaxis2": {
         "anchor": "x2",
         "domain": [
          0,
          1
         ],
         "linewidth": 1.5,
         "matches": "y",
         "showticklabels": false,
         "title": {
          "text": ""
         }
        },
        "yaxis3": {
         "anchor": "x3",
         "domain": [
          0,
          1
         ],
         "linewidth": 1.5,
         "matches": "y",
         "showticklabels": false,
         "title": {
          "text": ""
         }
        }
       }
      },
      "text/html": [
       "<div>                            <div id=\"4cd8f4d6-dcf9-48a8-869c-dac276e61605\" class=\"plotly-graph-div\" style=\"height:500px; width:900px;\"></div>            <script type=\"text/javascript\">                require([\"plotly\"], function(Plotly) {                    window.PLOTLYENV=window.PLOTLYENV || {};                                    if (document.getElementById(\"4cd8f4d6-dcf9-48a8-869c-dac276e61605\")) {                    Plotly.newPlot(                        \"4cd8f4d6-dcf9-48a8-869c-dac276e61605\",                        [{\"error_y\":{\"array\":[1.8967407846219464,4.058154329125233,5.606550283089525,1.8505690419589251,4.4147901248637105,4.229638622016385,2.812467369964346,1.4797378127255738,3.4629113937847995,2.9106908007727355,2.245245211032238],\"type\":\"data\"},\"legendgroup\":\"A\",\"line\":{\"color\":\"midnightblue\"},\"name\":\"A\",\"showlegend\":true,\"x\":[1,2,3,4,5,6,7,8,9,10,11],\"y\":[31.62496827003406,43.40790882761699,69.32881816398518,84.2382989720781,81.61125231947739,83.74663627712481,86.06563703757708,86.54496778339073,88.59515160286695,90.50639899138787,92.44023089975181],\"type\":\"scatter\",\"xaxis\":\"x\",\"yaxis\":\"y\"},{\"error_y\":{\"array\":[6.375695064603228,3.814095663485038,1.7547385739258872,2.792387584602784,null],\"type\":\"data\"},\"legendgroup\":\"B\",\"line\":{\"color\":\"red\"},\"name\":\"B\",\"showlegend\":true,\"x\":[1,2,3,4,5],\"y\":[51.141565671493055,75.7084877216331,83.43905721577606,86.83782461775844,93.33333333333333],\"type\":\"scatter\",\"xaxis\":\"x\",\"yaxis\":\"y\"},{\"error_y\":{\"array\":[7.431263686007747,2.9409701914726543,2.988121634906992,7.698342257707923,2.4859943977591037,2.2327843484027774],\"type\":\"data\"},\"legendgroup\":\"C\",\"line\":{\"color\":\"darkorchid\"},\"name\":\"C\",\"showlegend\":true,\"x\":[1,2,3,4,5,6],\"y\":[64.3967571676908,83.58807039474647,87.0220034490427,80.72193335674139,86.79971988795518,85.71902288051288],\"type\":\"scatter\",\"xaxis\":\"x\",\"yaxis\":\"y\"},{\"error_y\":{\"array\":[9.77269570479369,1.934535119147228,1.4950588086872172,1.5605000104693165,1.3727390180878452],\"type\":\"data\"},\"legendgroup\":\"D\",\"line\":{\"color\":\"forestgreen\"},\"name\":\"D\",\"showlegend\":true,\"x\":[1,2,3,4,5],\"y\":[60.5043510808091,82.23754789383945,86.62928025920094,89.38441533942382,91.65051679586563],\"type\":\"scatter\",\"xaxis\":\"x\",\"yaxis\":\"y\"},{\"error_y\":{\"array\":[1.8763893402202634,2.642922636527446,5.046165947559775,5.969759812205109,7.031771385489008,5.170059666589383,5.366472155251325,3.2119996840523624,1.9750431806670772,4.571588954496721,3.322131085490278],\"type\":\"data\"},\"legendgroup\":\"A\",\"line\":{\"color\":\"midnightblue\"},\"name\":\"A\",\"showlegend\":false,\"x\":[1,2,3,4,5,6,7,8,9,10,11],\"y\":[25.933544348640996,27.88044063779358,43.18309369800911,56.798154287585575,67.00500931820683,70.69400285372024,69.34568861402893,79.04154377093845,82.82968685956575,79.06757318408525,84.54016911531282],\"type\":\"scatter\",\"xaxis\":\"x2\",\"yaxis\":\"y2\"},{\"error_y\":{\"array\":[5.432324131249502,6.605308529607845,4.382918947346116,5.126647931318739,1.0641358161865153,1.2739597942964023],\"type\":\"data\"},\"legendgroup\":\"B\",\"line\":{\"color\":\"red\"},\"name\":\"B\",\"showlegend\":false,\"x\":[1,2,3,4,5,6],\"y\":[40.13767891051944,58.1450580016511,71.63698748855842,77.8666001747478,83.66904555582482,80.98410472183264],\"type\":\"scatter\",\"xaxis\":\"x2\",\"yaxis\":\"y2\"},{\"error_y\":{\"array\":[4.172558504451505,2.345055419388416,2.0753584079799445,2.144302520749087,null,null],\"type\":\"data\"},\"legendgroup\":\"C\",\"line\":{\"color\":\"darkorchid\"},\"name\":\"C\",\"showlegend\":false,\"x\":[1,2,3,4,5,6],\"y\":[66.82130224568633,79.92415681831221,79.93812851741082,80.09306621199205,77.61194029850746,84.82142857142857],\"type\":\"scatter\",\"xaxis\":\"x2\",\"yaxis\":\"y2\"},{\"error_y\":{\"array\":[4.594399527973483,4.734875636005599,6.3265375505289745,5.428444222527924],\"type\":\"data\"},\"legendgroup\":\"D\",\"line\":{\"color\":\"forestgreen\"},\"name\":\"D\",\"showlegend\":false,\"x\":[1,2,3,4],\"y\":[72.47168794706418,77.26774208192023,75.03096403490105,74.81659544159544],\"type\":\"scatter\",\"xaxis\":\"x2\",\"yaxis\":\"y2\"},{\"error_y\":{\"array\":[3.9008953911769133,3.6604698954913686,6.262891681132379,7.87436327064295,12.40023641079694,3.5068509208012033,5.95123945967207,5.038377482726794,5.900564464081058,4.353485332189374,6.27428190874542],\"type\":\"data\"},\"legendgroup\":\"A\",\"line\":{\"color\":\"midnightblue\"},\"name\":\"A\",\"showlegend\":false,\"x\":[1,2,3,4,5,6,7,8,9,10,11],\"y\":[29.40268757856061,28.039283085335715,33.67762814717365,39.000508824692695,42.34606545807106,43.784328730873455,60.365505724225144,66.23786724458738,72.04891936396676,74.39998463600406,77.46216431518647],\"type\":\"scatter\",\"xaxis\":\"x3\",\"yaxis\":\"y3\"},{\"error_y\":{\"array\":[4.996094956337908,3.6409729002849547,5.304021985500932,7.974237887367925,7.300737606070882,8.458535970456566,4.981127422876152,6.603900814448175,4.177718832891255,0.5820105820105752,1.3157894736842193,0.9751509751509778,null],\"type\":\"data\"},\"legendgroup\":\"B\",\"line\":{\"color\":\"red\"},\"name\":\"B\",\"showlegend\":false,\"x\":[1,2,3,4,5,6,7,8,9,10,11,12,13],\"y\":[34.89268107862752,42.688821834697514,52.585904573061626,59.346927699803416,62.49990485005291,64.85334619545444,74.97657186944365,75.97503823377787,73.40848806366049,58.67724867724868,75.0,74.84902484902486,71.91011235955057],\"type\":\"scatter\",\"xaxis\":\"x3\",\"yaxis\":\"y3\"},{\"error_y\":{\"array\":[5.408806331493033,5.715412707817808,5.001721541086824,5.180233289483134,5.115383675634807,5.442176870748309,1.5575123830489872,12.090070338905637,12.585910652920964,7.343903638151427,1.9856968959221],\"type\":\"data\"},\"legendgroup\":\"C\",\"line\":{\"color\":\"darkorchid\"},\"name\":\"C\",\"showlegend\":false,\"x\":[1,2,3,4,5,6,7,8,9,10,11],\"y\":[56.69817628102012,59.344102736869,70.1197734336399,75.29435886040382,74.10357057915998,72.10884353741497,61.051183269124934,66.56161505435279,70.9192439862543,74.60054080629303,74.62720632988436],\"type\":\"scatter\",\"xaxis\":\"x3\",\"yaxis\":\"y3\"},{\"error_y\":{\"array\":[3.9982660386588575,3.4625562021442082,4.331323834960526,5.289475161629273,null,null,null],\"type\":\"data\"},\"legendgroup\":\"D\",\"line\":{\"color\":\"forestgreen\"},\"name\":\"D\",\"showlegend\":false,\"x\":[1,2,3,4,5,6,7],\"y\":[61.82033172189903,75.60856580122295,82.78139824021784,77.61138325715848,51.9607843137255,83.16831683168317,73.91304347826086],\"type\":\"scatter\",\"xaxis\":\"x3\",\"yaxis\":\"y3\"}],                        {\"template\":{\"data\":{\"barpolar\":[{\"marker\":{\"line\":{\"color\":\"white\",\"width\":0.5},\"pattern\":{\"fillmode\":\"overlay\",\"size\":10,\"solidity\":0.2}},\"type\":\"barpolar\"}],\"bar\":[{\"error_x\":{\"color\":\"rgb(36,36,36)\"},\"error_y\":{\"color\":\"rgb(36,36,36)\"},\"marker\":{\"line\":{\"color\":\"white\",\"width\":0.5},\"pattern\":{\"fillmode\":\"overlay\",\"size\":10,\"solidity\":0.2}},\"type\":\"bar\"}],\"carpet\":[{\"aaxis\":{\"endlinecolor\":\"rgb(36,36,36)\",\"gridcolor\":\"white\",\"linecolor\":\"white\",\"minorgridcolor\":\"white\",\"startlinecolor\":\"rgb(36,36,36)\"},\"baxis\":{\"endlinecolor\":\"rgb(36,36,36)\",\"gridcolor\":\"white\",\"linecolor\":\"white\",\"minorgridcolor\":\"white\",\"startlinecolor\":\"rgb(36,36,36)\"},\"type\":\"carpet\"}],\"choropleth\":[{\"colorbar\":{\"outlinewidth\":1,\"tickcolor\":\"rgb(36,36,36)\",\"ticks\":\"outside\"},\"type\":\"choropleth\"}],\"contourcarpet\":[{\"colorbar\":{\"outlinewidth\":1,\"tickcolor\":\"rgb(36,36,36)\",\"ticks\":\"outside\"},\"type\":\"contourcarpet\"}],\"contour\":[{\"colorbar\":{\"outlinewidth\":1,\"tickcolor\":\"rgb(36,36,36)\",\"ticks\":\"outside\"},\"colorscale\":[[0.0,\"#440154\"],[0.1111111111111111,\"#482878\"],[0.2222222222222222,\"#3e4989\"],[0.3333333333333333,\"#31688e\"],[0.4444444444444444,\"#26828e\"],[0.5555555555555556,\"#1f9e89\"],[0.6666666666666666,\"#35b779\"],[0.7777777777777778,\"#6ece58\"],[0.8888888888888888,\"#b5de2b\"],[1.0,\"#fde725\"]],\"type\":\"contour\"}],\"heatmapgl\":[{\"colorbar\":{\"outlinewidth\":1,\"tickcolor\":\"rgb(36,36,36)\",\"ticks\":\"outside\"},\"colorscale\":[[0.0,\"#440154\"],[0.1111111111111111,\"#482878\"],[0.2222222222222222,\"#3e4989\"],[0.3333333333333333,\"#31688e\"],[0.4444444444444444,\"#26828e\"],[0.5555555555555556,\"#1f9e89\"],[0.6666666666666666,\"#35b779\"],[0.7777777777777778,\"#6ece58\"],[0.8888888888888888,\"#b5de2b\"],[1.0,\"#fde725\"]],\"type\":\"heatmapgl\"}],\"heatmap\":[{\"colorbar\":{\"outlinewidth\":1,\"tickcolor\":\"rgb(36,36,36)\",\"ticks\":\"outside\"},\"colorscale\":[[0.0,\"#440154\"],[0.1111111111111111,\"#482878\"],[0.2222222222222222,\"#3e4989\"],[0.3333333333333333,\"#31688e\"],[0.4444444444444444,\"#26828e\"],[0.5555555555555556,\"#1f9e89\"],[0.6666666666666666,\"#35b779\"],[0.7777777777777778,\"#6ece58\"],[0.8888888888888888,\"#b5de2b\"],[1.0,\"#fde725\"]],\"type\":\"heatmap\"}],\"histogram2dcontour\":[{\"colorbar\":{\"outlinewidth\":1,\"tickcolor\":\"rgb(36,36,36)\",\"ticks\":\"outside\"},\"colorscale\":[[0.0,\"#440154\"],[0.1111111111111111,\"#482878\"],[0.2222222222222222,\"#3e4989\"],[0.3333333333333333,\"#31688e\"],[0.4444444444444444,\"#26828e\"],[0.5555555555555556,\"#1f9e89\"],[0.6666666666666666,\"#35b779\"],[0.7777777777777778,\"#6ece58\"],[0.8888888888888888,\"#b5de2b\"],[1.0,\"#fde725\"]],\"type\":\"histogram2dcontour\"}],\"histogram2d\":[{\"colorbar\":{\"outlinewidth\":1,\"tickcolor\":\"rgb(36,36,36)\",\"ticks\":\"outside\"},\"colorscale\":[[0.0,\"#440154\"],[0.1111111111111111,\"#482878\"],[0.2222222222222222,\"#3e4989\"],[0.3333333333333333,\"#31688e\"],[0.4444444444444444,\"#26828e\"],[0.5555555555555556,\"#1f9e89\"],[0.6666666666666666,\"#35b779\"],[0.7777777777777778,\"#6ece58\"],[0.8888888888888888,\"#b5de2b\"],[1.0,\"#fde725\"]],\"type\":\"histogram2d\"}],\"histogram\":[{\"marker\":{\"line\":{\"color\":\"white\",\"width\":0.6}},\"type\":\"histogram\"}],\"mesh3d\":[{\"colorbar\":{\"outlinewidth\":1,\"tickcolor\":\"rgb(36,36,36)\",\"ticks\":\"outside\"},\"type\":\"mesh3d\"}],\"parcoords\":[{\"line\":{\"colorbar\":{\"outlinewidth\":1,\"tickcolor\":\"rgb(36,36,36)\",\"ticks\":\"outside\"}},\"type\":\"parcoords\"}],\"pie\":[{\"automargin\":true,\"type\":\"pie\"}],\"scatter3d\":[{\"line\":{\"colorbar\":{\"outlinewidth\":1,\"tickcolor\":\"rgb(36,36,36)\",\"ticks\":\"outside\"}},\"marker\":{\"colorbar\":{\"outlinewidth\":1,\"tickcolor\":\"rgb(36,36,36)\",\"ticks\":\"outside\"}},\"type\":\"scatter3d\"}],\"scattercarpet\":[{\"marker\":{\"colorbar\":{\"outlinewidth\":1,\"tickcolor\":\"rgb(36,36,36)\",\"ticks\":\"outside\"}},\"type\":\"scattercarpet\"}],\"scattergeo\":[{\"marker\":{\"colorbar\":{\"outlinewidth\":1,\"tickcolor\":\"rgb(36,36,36)\",\"ticks\":\"outside\"}},\"type\":\"scattergeo\"}],\"scattergl\":[{\"marker\":{\"colorbar\":{\"outlinewidth\":1,\"tickcolor\":\"rgb(36,36,36)\",\"ticks\":\"outside\"}},\"type\":\"scattergl\"}],\"scattermapbox\":[{\"marker\":{\"colorbar\":{\"outlinewidth\":1,\"tickcolor\":\"rgb(36,36,36)\",\"ticks\":\"outside\"}},\"type\":\"scattermapbox\"}],\"scatterpolargl\":[{\"marker\":{\"colorbar\":{\"outlinewidth\":1,\"tickcolor\":\"rgb(36,36,36)\",\"ticks\":\"outside\"}},\"type\":\"scatterpolargl\"}],\"scatterpolar\":[{\"marker\":{\"colorbar\":{\"outlinewidth\":1,\"tickcolor\":\"rgb(36,36,36)\",\"ticks\":\"outside\"}},\"type\":\"scatterpolar\"}],\"scatter\":[{\"fillpattern\":{\"fillmode\":\"overlay\",\"size\":10,\"solidity\":0.2},\"type\":\"scatter\"}],\"scatterternary\":[{\"marker\":{\"colorbar\":{\"outlinewidth\":1,\"tickcolor\":\"rgb(36,36,36)\",\"ticks\":\"outside\"}},\"type\":\"scatterternary\"}],\"surface\":[{\"colorbar\":{\"outlinewidth\":1,\"tickcolor\":\"rgb(36,36,36)\",\"ticks\":\"outside\"},\"colorscale\":[[0.0,\"#440154\"],[0.1111111111111111,\"#482878\"],[0.2222222222222222,\"#3e4989\"],[0.3333333333333333,\"#31688e\"],[0.4444444444444444,\"#26828e\"],[0.5555555555555556,\"#1f9e89\"],[0.6666666666666666,\"#35b779\"],[0.7777777777777778,\"#6ece58\"],[0.8888888888888888,\"#b5de2b\"],[1.0,\"#fde725\"]],\"type\":\"surface\"}],\"table\":[{\"cells\":{\"fill\":{\"color\":\"rgb(237,237,237)\"},\"line\":{\"color\":\"white\"}},\"header\":{\"fill\":{\"color\":\"rgb(217,217,217)\"},\"line\":{\"color\":\"white\"}},\"type\":\"table\"}]},\"layout\":{\"annotationdefaults\":{\"arrowhead\":0,\"arrowwidth\":1},\"autotypenumbers\":\"strict\",\"coloraxis\":{\"colorbar\":{\"outlinewidth\":1,\"tickcolor\":\"rgb(36,36,36)\",\"ticks\":\"outside\"}},\"colorscale\":{\"diverging\":[[0.0,\"rgb(103,0,31)\"],[0.1,\"rgb(178,24,43)\"],[0.2,\"rgb(214,96,77)\"],[0.3,\"rgb(244,165,130)\"],[0.4,\"rgb(253,219,199)\"],[0.5,\"rgb(247,247,247)\"],[0.6,\"rgb(209,229,240)\"],[0.7,\"rgb(146,197,222)\"],[0.8,\"rgb(67,147,195)\"],[0.9,\"rgb(33,102,172)\"],[1.0,\"rgb(5,48,97)\"]],\"sequential\":[[0.0,\"#440154\"],[0.1111111111111111,\"#482878\"],[0.2222222222222222,\"#3e4989\"],[0.3333333333333333,\"#31688e\"],[0.4444444444444444,\"#26828e\"],[0.5555555555555556,\"#1f9e89\"],[0.6666666666666666,\"#35b779\"],[0.7777777777777778,\"#6ece58\"],[0.8888888888888888,\"#b5de2b\"],[1.0,\"#fde725\"]],\"sequentialminus\":[[0.0,\"#440154\"],[0.1111111111111111,\"#482878\"],[0.2222222222222222,\"#3e4989\"],[0.3333333333333333,\"#31688e\"],[0.4444444444444444,\"#26828e\"],[0.5555555555555556,\"#1f9e89\"],[0.6666666666666666,\"#35b779\"],[0.7777777777777778,\"#6ece58\"],[0.8888888888888888,\"#b5de2b\"],[1.0,\"#fde725\"]]},\"colorway\":[\"#1F77B4\",\"#FF7F0E\",\"#2CA02C\",\"#D62728\",\"#9467BD\",\"#8C564B\",\"#E377C2\",\"#7F7F7F\",\"#BCBD22\",\"#17BECF\"],\"font\":{\"color\":\"rgb(36,36,36)\"},\"geo\":{\"bgcolor\":\"white\",\"lakecolor\":\"white\",\"landcolor\":\"white\",\"showlakes\":true,\"showland\":true,\"subunitcolor\":\"white\"},\"hoverlabel\":{\"align\":\"left\"},\"hovermode\":\"closest\",\"mapbox\":{\"style\":\"light\"},\"paper_bgcolor\":\"white\",\"plot_bgcolor\":\"white\",\"polar\":{\"angularaxis\":{\"gridcolor\":\"rgb(232,232,232)\",\"linecolor\":\"rgb(36,36,36)\",\"showgrid\":false,\"showline\":true,\"ticks\":\"outside\"},\"bgcolor\":\"white\",\"radialaxis\":{\"gridcolor\":\"rgb(232,232,232)\",\"linecolor\":\"rgb(36,36,36)\",\"showgrid\":false,\"showline\":true,\"ticks\":\"outside\"}},\"scene\":{\"xaxis\":{\"backgroundcolor\":\"white\",\"gridcolor\":\"rgb(232,232,232)\",\"gridwidth\":2,\"linecolor\":\"rgb(36,36,36)\",\"showbackground\":true,\"showgrid\":false,\"showline\":true,\"ticks\":\"outside\",\"zeroline\":false,\"zerolinecolor\":\"rgb(36,36,36)\"},\"yaxis\":{\"backgroundcolor\":\"white\",\"gridcolor\":\"rgb(232,232,232)\",\"gridwidth\":2,\"linecolor\":\"rgb(36,36,36)\",\"showbackground\":true,\"showgrid\":false,\"showline\":true,\"ticks\":\"outside\",\"zeroline\":false,\"zerolinecolor\":\"rgb(36,36,36)\"},\"zaxis\":{\"backgroundcolor\":\"white\",\"gridcolor\":\"rgb(232,232,232)\",\"gridwidth\":2,\"linecolor\":\"rgb(36,36,36)\",\"showbackground\":true,\"showgrid\":false,\"showline\":true,\"ticks\":\"outside\",\"zeroline\":false,\"zerolinecolor\":\"rgb(36,36,36)\"}},\"shapedefaults\":{\"fillcolor\":\"black\",\"line\":{\"width\":0},\"opacity\":0.3},\"ternary\":{\"aaxis\":{\"gridcolor\":\"rgb(232,232,232)\",\"linecolor\":\"rgb(36,36,36)\",\"showgrid\":false,\"showline\":true,\"ticks\":\"outside\"},\"baxis\":{\"gridcolor\":\"rgb(232,232,232)\",\"linecolor\":\"rgb(36,36,36)\",\"showgrid\":false,\"showline\":true,\"ticks\":\"outside\"},\"bgcolor\":\"white\",\"caxis\":{\"gridcolor\":\"rgb(232,232,232)\",\"linecolor\":\"rgb(36,36,36)\",\"showgrid\":false,\"showline\":true,\"ticks\":\"outside\"}},\"title\":{\"x\":0.05},\"xaxis\":{\"automargin\":true,\"gridcolor\":\"rgb(232,232,232)\",\"linecolor\":\"rgb(36,36,36)\",\"showgrid\":false,\"showline\":true,\"ticks\":\"outside\",\"title\":{\"standoff\":15},\"zeroline\":false,\"zerolinecolor\":\"rgb(36,36,36)\"},\"yaxis\":{\"automargin\":true,\"gridcolor\":\"rgb(232,232,232)\",\"linecolor\":\"rgb(36,36,36)\",\"showgrid\":false,\"showline\":true,\"ticks\":\"outside\",\"title\":{\"standoff\":15},\"zeroline\":false,\"zerolinecolor\":\"rgb(36,36,36)\"}}},\"xaxis\":{\"anchor\":\"y\",\"domain\":[0.0,0.2888888888888889],\"title\":{\"text\":\"Day in Context\"},\"linewidth\":1.5,\"matches\":\"x\"},\"yaxis\":{\"anchor\":\"x\",\"domain\":[0.0,1.0],\"title\":{\"text\":\"Lick Accuracy (%)\"},\"linewidth\":1.5,\"matches\":\"y\",\"range\":[0,100]},\"xaxis2\":{\"anchor\":\"y2\",\"domain\":[0.35555555555555557,0.6444444444444445],\"title\":{\"text\":\"Day in Context\"},\"linewidth\":1.5,\"matches\":\"x\"},\"yaxis2\":{\"anchor\":\"x2\",\"domain\":[0.0,1.0],\"matches\":\"y\",\"showticklabels\":false,\"title\":{\"text\":\"\"},\"linewidth\":1.5},\"xaxis3\":{\"anchor\":\"y3\",\"domain\":[0.7111111111111111,1.0],\"title\":{\"text\":\"Day in Context\"},\"linewidth\":1.5,\"matches\":\"x\"},\"yaxis3\":{\"anchor\":\"x3\",\"domain\":[0.0,1.0],\"matches\":\"y\",\"showticklabels\":false,\"title\":{\"text\":\"\"},\"linewidth\":1.5},\"annotations\":[{\"font\":{\"size\":22},\"showarrow\":false,\"text\":\"Young Adult\",\"x\":0.14444444444444446,\"xanchor\":\"center\",\"xref\":\"paper\",\"y\":1.0,\"yanchor\":\"bottom\",\"yref\":\"paper\"},{\"font\":{\"size\":22},\"showarrow\":false,\"text\":\"Middle Aged\",\"x\":0.5,\"xanchor\":\"center\",\"xref\":\"paper\",\"y\":1.0,\"yanchor\":\"bottom\",\"yref\":\"paper\"},{\"font\":{\"size\":22},\"showarrow\":false,\"text\":\"Aged\",\"x\":0.8555555555555556,\"xanchor\":\"center\",\"xref\":\"paper\",\"y\":1.0,\"yanchor\":\"bottom\",\"yref\":\"paper\"}],\"title\":{\"y\":0.9,\"x\":0.5,\"xanchor\":\"center\",\"yanchor\":\"top\"},\"font\":{\"size\":22,\"family\":\"Arial\"},\"height\":500,\"width\":900,\"shapes\":[{\"line\":{\"color\":\"darkgrey\",\"dash\":\"dash\",\"width\":1},\"opacity\":1,\"type\":\"line\",\"x0\":0,\"x1\":1,\"xref\":\"x domain\",\"y0\":25,\"y1\":25,\"yref\":\"y\"},{\"line\":{\"color\":\"darkgrey\",\"dash\":\"dash\",\"width\":1},\"opacity\":1,\"type\":\"line\",\"x0\":0,\"x1\":1,\"xref\":\"x2 domain\",\"y0\":25,\"y1\":25,\"yref\":\"y2\"},{\"line\":{\"color\":\"darkgrey\",\"dash\":\"dash\",\"width\":1},\"opacity\":1,\"type\":\"line\",\"x0\":0,\"x1\":1,\"xref\":\"x3 domain\",\"y0\":25,\"y1\":25,\"yref\":\"y3\"}]},                        {\"responsive\": true}                    ).then(function(){\n",
       "                            \n",
       "var gd = document.getElementById('4cd8f4d6-dcf9-48a8-869c-dac276e61605');\n",
       "var x = new MutationObserver(function (mutations, observer) {{\n",
       "        var display = window.getComputedStyle(gd).display;\n",
       "        if (!display || display === 'none') {{\n",
       "            console.log([gd, 'removed!']);\n",
       "            Plotly.purge(gd);\n",
       "            observer.disconnect();\n",
       "        }}\n",
       "}});\n",
       "\n",
       "// Listen for the removal of the full notebook cells\n",
       "var notebookContainer = gd.closest('#notebook-container');\n",
       "if (notebookContainer) {{\n",
       "    x.observe(notebookContainer, {childList: true});\n",
       "}}\n",
       "\n",
       "// Listen for the clearing of the current output cell\n",
       "var outputEl = gd.closest('.output');\n",
       "if (outputEl) {{\n",
       "    x.observe(outputEl, {childList: true});\n",
       "}}\n",
       "\n",
       "                        })                };                });            </script>        </div>"
      ]
     },
     "metadata": {},
     "output_type": "display_data"
    }
   ],
   "source": [
    "context_colors = ['midnightblue', 'red', 'darkorchid', 'forestgreen']\n",
    "fig = pf.custom_graph_template(x_title='', y_title='', rows=1, columns=3, width=900,\n",
    "                               titles=['Young Adult', 'Middle Aged', 'Aged'], shared_y=True, shared_x=True)\n",
    "session_list = ['A', 'B', 'C', 'D']\n",
    "acc_contexts = pd.DataFrame()\n",
    "for session in session_list:\n",
    "    loop_data = ct_df[ct_df['session'] == session]\n",
    "    acc_contexts = pd.concat([acc_contexts, loop_data], ignore_index=True)\n",
    "grouped_data = acc_contexts.groupby(['group', 'context_day', 'session'], as_index=False).agg({'lick_accuracy': ['mean', 'sem']})\n",
    "\n",
    "for idx, group in enumerate(reversed(grouped_data['group'].unique())):\n",
    "    gdata = grouped_data[grouped_data['group'] == group]\n",
    "    for sess_idx, session in enumerate(gdata['session'].unique()):\n",
    "        plot_data = gdata[gdata['session'] == session]\n",
    "        fig.add_trace(go.Scatter(x=plot_data['context_day'], y=plot_data['lick_accuracy']['mean'],\n",
    "                                 name=session, line_color=context_colors[sess_idx], legendgroup=session, showlegend=False,\n",
    "                                 error_y=dict(type='data', array=plot_data['lick_accuracy']['sem'])), row=1, col=idx+1)\n",
    "fig['data'][0]['showlegend'] = True\n",
    "fig['data'][1]['showlegend'] = True\n",
    "fig['data'][2]['showlegend'] = True\n",
    "fig['data'][3]['showlegend'] = True\n",
    "fig.add_hline(y=25, line_width=1, line_dash='dash', line_color=chance_color, opacity=1)\n",
    "fig.update_yaxes(title='Lick Accuracy (%)', col=1, range=[0, 100])\n",
    "fig.update_xaxes(title='Day in Context')\n",
    "fig.show()"
   ]
  },
  {
   "cell_type": "markdown",
   "metadata": {},
   "source": [
    "### Look at the density of licks around rewarded and non-rewarded ports."
   ]
  },
  {
   "cell_type": "code",
   "execution_count": 113,
   "metadata": {},
   "outputs": [
    {
     "name": "stderr",
     "output_type": "stream",
     "text": [
      "/tmp/ipykernel_56185/3372198452.py:36: RuntimeWarning:\n",
      "\n",
      "invalid value encountered in scalar divide\n",
      "\n",
      "/tmp/ipykernel_56185/3372198452.py:37: RuntimeWarning:\n",
      "\n",
      "invalid value encountered in scalar divide\n",
      "\n",
      "/tmp/ipykernel_56185/3372198452.py:38: RuntimeWarning:\n",
      "\n",
      "invalid value encountered in scalar divide\n",
      "\n",
      "/tmp/ipykernel_56185/3372198452.py:39: RuntimeWarning:\n",
      "\n",
      "invalid value encountered in scalar divide\n",
      "\n",
      "/tmp/ipykernel_56185/3372198452.py:36: RuntimeWarning:\n",
      "\n",
      "invalid value encountered in scalar divide\n",
      "\n",
      "/tmp/ipykernel_56185/3372198452.py:37: RuntimeWarning:\n",
      "\n",
      "invalid value encountered in scalar divide\n",
      "\n",
      "/tmp/ipykernel_56185/3372198452.py:38: RuntimeWarning:\n",
      "\n",
      "invalid value encountered in scalar divide\n",
      "\n",
      "/tmp/ipykernel_56185/3372198452.py:39: RuntimeWarning:\n",
      "\n",
      "invalid value encountered in scalar divide\n",
      "\n",
      "/tmp/ipykernel_56185/3372198452.py:36: RuntimeWarning:\n",
      "\n",
      "invalid value encountered in scalar divide\n",
      "\n",
      "/tmp/ipykernel_56185/3372198452.py:37: RuntimeWarning:\n",
      "\n",
      "invalid value encountered in scalar divide\n",
      "\n",
      "/tmp/ipykernel_56185/3372198452.py:38: RuntimeWarning:\n",
      "\n",
      "invalid value encountered in scalar divide\n",
      "\n",
      "/tmp/ipykernel_56185/3372198452.py:39: RuntimeWarning:\n",
      "\n",
      "invalid value encountered in scalar divide\n",
      "\n"
     ]
    }
   ],
   "source": [
    "lick_dict = {'mouse': [], 'day': [], 'context_day': [], 'group': [], 'session': [], 'reward_ports': [],\n",
    "             'front_ports': [], 'back_ports': [], 'final_ports': []}\n",
    "for mouse in os.listdir(circle_path)[:-1]: ##.DS_store\n",
    "    mouse_path = pjoin(circle_path, mouse)\n",
    "    group = 'Young Adult' if mouse in young_adult else 'Middle Aged' if mouse in middle_aged else 'Aged'\n",
    "    session_id = np.nan\n",
    "    day_counter = 1\n",
    "    for idx, session in enumerate(os.listdir(mouse_path)):\n",
    "        behav = pd.read_feather(pjoin(mouse_path, f'{session}'))\n",
    "        behav = behav[~behav['probe']]\n",
    "        reward_one, reward_two = behav['reward_one'].unique()[0], behav['reward_two'].unique()[0]\n",
    "        front_ports, back_ports = ctb.front_back_ports(reward_list=[reward_one, reward_two])\n",
    "\n",
    "        lick_data = behav[behav['lick_port'] != -1]\n",
    "        port_licks = lick_data.groupby(['lick_port'], as_index=False).agg({'lick_port': 'count'})\n",
    "        total_licks = lick_data.agg({'lick_port': 'count'})['lick_port']\n",
    "        reward_port_licks = 0\n",
    "        front_port_licks = 0\n",
    "        back_port_licks = 0\n",
    "        final_port_licks = 0\n",
    "        for _, row in port_licks.iterrows():\n",
    "            p_num = row.name + 1 ## since name starts at 0, and our reward ports start at 1\n",
    "            if p_num in [reward_one, reward_two]:\n",
    "                reward_port_licks = reward_port_licks + row['lick_port']\n",
    "            elif p_num in front_ports:\n",
    "                front_port_licks = front_port_licks + row['lick_port']\n",
    "            elif p_num in back_ports:\n",
    "                back_port_licks = back_port_licks + row['lick_port']\n",
    "            else:\n",
    "                final_port_licks = final_port_licks + row['lick_port']\n",
    "\n",
    "        lick_dict['mouse'].append(mouse)\n",
    "        lick_dict['day'].append(idx+1)\n",
    "        lick_dict['group'].append(group)\n",
    "        lick_dict['session'].append(behav['session'].unique()[0])\n",
    "        lick_dict['reward_ports'].append((reward_port_licks / total_licks) * 100)\n",
    "        lick_dict['front_ports'].append((front_port_licks / total_licks) * 100)\n",
    "        lick_dict['back_ports'].append((back_port_licks / total_licks) * 100)\n",
    "        lick_dict['final_ports'].append((final_port_licks / total_licks) * 100)\n",
    "\n",
    "        if behav['session'].unique()[0] != session_id:\n",
    "            day_counter = 1\n",
    "            session_id = behav['session'].unique()[0]\n",
    "            lick_dict['context_day'].append(day_counter)\n",
    "        else:\n",
    "            day_counter += 1\n",
    "            session_id = behav['session'].unique()[0]\n",
    "            lick_dict['context_day'].append(day_counter)\n",
    "lick_df = pd.DataFrame(lick_dict)"
   ]
  },
  {
   "cell_type": "code",
   "execution_count": 116,
   "metadata": {},
   "outputs": [
    {
     "data": {
      "text/html": [
       "<div>\n",
       "<style scoped>\n",
       "    .dataframe tbody tr th:only-of-type {\n",
       "        vertical-align: middle;\n",
       "    }\n",
       "\n",
       "    .dataframe tbody tr th {\n",
       "        vertical-align: top;\n",
       "    }\n",
       "\n",
       "    .dataframe thead tr th {\n",
       "        text-align: left;\n",
       "    }\n",
       "</style>\n",
       "<table border=\"1\" class=\"dataframe\">\n",
       "  <thead>\n",
       "    <tr>\n",
       "      <th></th>\n",
       "      <th>context_day</th>\n",
       "      <th>group</th>\n",
       "      <th>session</th>\n",
       "      <th colspan=\"2\" halign=\"left\">reward_ports</th>\n",
       "      <th colspan=\"2\" halign=\"left\">front_ports</th>\n",
       "      <th colspan=\"2\" halign=\"left\">back_ports</th>\n",
       "      <th colspan=\"2\" halign=\"left\">final_ports</th>\n",
       "    </tr>\n",
       "    <tr>\n",
       "      <th></th>\n",
       "      <th></th>\n",
       "      <th></th>\n",
       "      <th></th>\n",
       "      <th>mean</th>\n",
       "      <th>sem</th>\n",
       "      <th>mean</th>\n",
       "      <th>sem</th>\n",
       "      <th>mean</th>\n",
       "      <th>sem</th>\n",
       "      <th>mean</th>\n",
       "      <th>sem</th>\n",
       "    </tr>\n",
       "  </thead>\n",
       "  <tbody>\n",
       "    <tr>\n",
       "      <th>0</th>\n",
       "      <td>1</td>\n",
       "      <td>Aged</td>\n",
       "      <td>A</td>\n",
       "      <td>39.301117</td>\n",
       "      <td>4.742357</td>\n",
       "      <td>21.770938</td>\n",
       "      <td>2.229874</td>\n",
       "      <td>20.305116</td>\n",
       "      <td>1.582289</td>\n",
       "      <td>18.622829</td>\n",
       "      <td>2.898590</td>\n",
       "    </tr>\n",
       "    <tr>\n",
       "      <th>1</th>\n",
       "      <td>1</td>\n",
       "      <td>Aged</td>\n",
       "      <td>AP</td>\n",
       "      <td>63.494403</td>\n",
       "      <td>7.012678</td>\n",
       "      <td>13.184373</td>\n",
       "      <td>1.688574</td>\n",
       "      <td>8.179224</td>\n",
       "      <td>1.973886</td>\n",
       "      <td>15.142000</td>\n",
       "      <td>4.562637</td>\n",
       "    </tr>\n",
       "    <tr>\n",
       "      <th>2</th>\n",
       "      <td>1</td>\n",
       "      <td>Aged</td>\n",
       "      <td>B</td>\n",
       "      <td>35.456583</td>\n",
       "      <td>3.822671</td>\n",
       "      <td>26.256165</td>\n",
       "      <td>4.050396</td>\n",
       "      <td>19.143061</td>\n",
       "      <td>3.945730</td>\n",
       "      <td>19.144191</td>\n",
       "      <td>1.780798</td>\n",
       "    </tr>\n",
       "    <tr>\n",
       "      <th>3</th>\n",
       "      <td>1</td>\n",
       "      <td>Aged</td>\n",
       "      <td>BP</td>\n",
       "      <td>73.283143</td>\n",
       "      <td>4.619845</td>\n",
       "      <td>11.549840</td>\n",
       "      <td>2.320971</td>\n",
       "      <td>10.596527</td>\n",
       "      <td>4.025012</td>\n",
       "      <td>4.570490</td>\n",
       "      <td>0.811020</td>\n",
       "    </tr>\n",
       "    <tr>\n",
       "      <th>4</th>\n",
       "      <td>1</td>\n",
       "      <td>Aged</td>\n",
       "      <td>C</td>\n",
       "      <td>51.465706</td>\n",
       "      <td>3.301180</td>\n",
       "      <td>23.270780</td>\n",
       "      <td>1.444643</td>\n",
       "      <td>11.636507</td>\n",
       "      <td>2.565443</td>\n",
       "      <td>13.627008</td>\n",
       "      <td>1.324111</td>\n",
       "    </tr>\n",
       "    <tr>\n",
       "      <th>...</th>\n",
       "      <td>...</td>\n",
       "      <td>...</td>\n",
       "      <td>...</td>\n",
       "      <td>...</td>\n",
       "      <td>...</td>\n",
       "      <td>...</td>\n",
       "      <td>...</td>\n",
       "      <td>...</td>\n",
       "      <td>...</td>\n",
       "      <td>...</td>\n",
       "      <td>...</td>\n",
       "    </tr>\n",
       "    <tr>\n",
       "      <th>107</th>\n",
       "      <td>11</td>\n",
       "      <td>Aged</td>\n",
       "      <td>C</td>\n",
       "      <td>75.938209</td>\n",
       "      <td>3.220367</td>\n",
       "      <td>10.091548</td>\n",
       "      <td>6.402228</td>\n",
       "      <td>6.060609</td>\n",
       "      <td>3.259779</td>\n",
       "      <td>7.909634</td>\n",
       "      <td>0.077918</td>\n",
       "    </tr>\n",
       "    <tr>\n",
       "      <th>108</th>\n",
       "      <td>11</td>\n",
       "      <td>Middle Aged</td>\n",
       "      <td>A</td>\n",
       "      <td>77.822023</td>\n",
       "      <td>3.675589</td>\n",
       "      <td>10.117303</td>\n",
       "      <td>1.117638</td>\n",
       "      <td>5.901573</td>\n",
       "      <td>1.710289</td>\n",
       "      <td>6.159101</td>\n",
       "      <td>1.296713</td>\n",
       "    </tr>\n",
       "    <tr>\n",
       "      <th>109</th>\n",
       "      <td>11</td>\n",
       "      <td>Young Adult</td>\n",
       "      <td>A</td>\n",
       "      <td>84.042662</td>\n",
       "      <td>2.688134</td>\n",
       "      <td>6.822555</td>\n",
       "      <td>1.154548</td>\n",
       "      <td>3.580681</td>\n",
       "      <td>1.074567</td>\n",
       "      <td>5.554102</td>\n",
       "      <td>1.965220</td>\n",
       "    </tr>\n",
       "    <tr>\n",
       "      <th>110</th>\n",
       "      <td>12</td>\n",
       "      <td>Aged</td>\n",
       "      <td>B</td>\n",
       "      <td>80.151749</td>\n",
       "      <td>3.901749</td>\n",
       "      <td>9.974046</td>\n",
       "      <td>2.412318</td>\n",
       "      <td>5.953049</td>\n",
       "      <td>0.271231</td>\n",
       "      <td>3.921156</td>\n",
       "      <td>1.760662</td>\n",
       "    </tr>\n",
       "    <tr>\n",
       "      <th>111</th>\n",
       "      <td>13</td>\n",
       "      <td>Aged</td>\n",
       "      <td>B</td>\n",
       "      <td>84.777377</td>\n",
       "      <td>NaN</td>\n",
       "      <td>7.160048</td>\n",
       "      <td>NaN</td>\n",
       "      <td>4.813478</td>\n",
       "      <td>NaN</td>\n",
       "      <td>3.249097</td>\n",
       "      <td>NaN</td>\n",
       "    </tr>\n",
       "  </tbody>\n",
       "</table>\n",
       "<p>112 rows × 11 columns</p>\n",
       "</div>"
      ],
      "text/plain": [
       "    context_day        group session reward_ports           front_ports  \\\n",
       "                                             mean       sem        mean   \n",
       "0             1         Aged       A    39.301117  4.742357   21.770938   \n",
       "1             1         Aged      AP    63.494403  7.012678   13.184373   \n",
       "2             1         Aged       B    35.456583  3.822671   26.256165   \n",
       "3             1         Aged      BP    73.283143  4.619845   11.549840   \n",
       "4             1         Aged       C    51.465706  3.301180   23.270780   \n",
       "..          ...          ...     ...          ...       ...         ...   \n",
       "107          11         Aged       C    75.938209  3.220367   10.091548   \n",
       "108          11  Middle Aged       A    77.822023  3.675589   10.117303   \n",
       "109          11  Young Adult       A    84.042662  2.688134    6.822555   \n",
       "110          12         Aged       B    80.151749  3.901749    9.974046   \n",
       "111          13         Aged       B    84.777377       NaN    7.160048   \n",
       "\n",
       "              back_ports           final_ports            \n",
       "          sem       mean       sem        mean       sem  \n",
       "0    2.229874  20.305116  1.582289   18.622829  2.898590  \n",
       "1    1.688574   8.179224  1.973886   15.142000  4.562637  \n",
       "2    4.050396  19.143061  3.945730   19.144191  1.780798  \n",
       "3    2.320971  10.596527  4.025012    4.570490  0.811020  \n",
       "4    1.444643  11.636507  2.565443   13.627008  1.324111  \n",
       "..        ...        ...       ...         ...       ...  \n",
       "107  6.402228   6.060609  3.259779    7.909634  0.077918  \n",
       "108  1.117638   5.901573  1.710289    6.159101  1.296713  \n",
       "109  1.154548   3.580681  1.074567    5.554102  1.965220  \n",
       "110  2.412318   5.953049  0.271231    3.921156  1.760662  \n",
       "111       NaN   4.813478       NaN    3.249097       NaN  \n",
       "\n",
       "[112 rows x 11 columns]"
      ]
     },
     "execution_count": 116,
     "metadata": {},
     "output_type": "execute_result"
    }
   ],
   "source": [
    "avg_licks = lick_df.groupby(['context_day', 'group', 'session'], as_index=False).agg({'reward_ports': ['mean', 'sem'], 'front_ports': ['mean', 'sem'],\n",
    "                                                                                      'back_ports': ['mean', 'sem'], 'final_ports': ['mean', 'sem']})\n",
    "avg_licks"
   ]
  },
  {
   "cell_type": "code",
   "execution_count": 142,
   "metadata": {},
   "outputs": [
    {
     "data": {
      "application/vnd.plotly.v1+json": {
       "config": {
        "plotlyServerURL": "https://plot.ly"
       },
       "data": [
        {
         "marker": {
          "color": "darkgrey"
         },
         "showlegend": false,
         "type": "bar",
         "x": [
          "RP",
          "FP",
          "BP",
          "LP"
         ],
         "xaxis": "x",
         "y": [
          40.6111801011503,
          21.511712356815057,
          18.71703862799207,
          19.160068914042565
         ],
         "yaxis": "y"
        },
        {
         "marker": {
          "color": "darkgrey"
         },
         "showlegend": false,
         "type": "bar",
         "x": [
          "RP",
          "FP",
          "BP",
          "LP"
         ],
         "xaxis": "x2",
         "y": [
          44.380087970996684,
          25.352856475081783,
          16.24441004665263,
          14.022645507268901
         ],
         "yaxis": "y2"
        },
        {
         "marker": {
          "color": "darkgrey"
         },
         "showlegend": false,
         "type": "bar",
         "x": [
          "RP",
          "FP",
          "BP",
          "LP"
         ],
         "xaxis": "x3",
         "y": [
          65.57382074509353,
          16.04483996845338,
          10.146283262878914,
          8.235056023574167
         ],
         "yaxis": "y3"
        },
        {
         "marker": {
          "color": "darkgrey"
         },
         "showlegend": false,
         "type": "bar",
         "x": [
          "RP",
          "FP",
          "BP",
          "LP"
         ],
         "xaxis": "x4",
         "y": [
          78.79455778564785,
          9.967204658598371,
          5.537216675614977,
          5.701020880138795
         ],
         "yaxis": "y4"
        },
        {
         "marker": {
          "color": "darkgrey"
         },
         "showlegend": false,
         "type": "bar",
         "x": [
          "RP",
          "FP",
          "BP",
          "LP"
         ],
         "xaxis": "x5",
         "y": [
          77.00444888333307,
          9.910086094614806,
          6.803901328837837,
          6.281563693214283
         ],
         "yaxis": "y5"
        },
        {
         "marker": {
          "color": "darkgrey"
         },
         "showlegend": false,
         "type": "bar",
         "x": [
          "RP",
          "FP",
          "BP",
          "LP"
         ],
         "xaxis": "x6",
         "y": [
          78.39036766186629,
          8.882134335382135,
          5.765542898120512,
          6.961955104631069
         ],
         "yaxis": "y6"
        },
        {
         "marker": {
          "color": "darkgrey"
         },
         "showlegend": false,
         "type": "bar",
         "x": [
          "RP",
          "FP",
          "BP",
          "LP"
         ],
         "xaxis": "x7",
         "y": [
          79.2151006546574,
          10.494972515129428,
          6.060610714300289,
          4.229316115912888
         ],
         "yaxis": "y7"
        },
        {
         "marker": {
          "color": "darkgrey"
         },
         "showlegend": false,
         "type": "bar",
         "x": [
          "RP",
          "FP",
          "BP",
          "LP"
         ],
         "xaxis": "x8",
         "y": [
          77.3624024447413,
          8.577065469845408,
          6.2183668842550235,
          7.842165201158253
         ],
         "yaxis": "y8"
        },
        {
         "marker": {
          "color": "darkgrey"
         },
         "showlegend": false,
         "type": "bar",
         "x": [
          "RP",
          "FP",
          "BP",
          "LP"
         ],
         "xaxis": "x9",
         "y": [
          81.86943530083738,
          8.006682270880276,
          4.3681315935985445,
          5.755750834683802
         ],
         "yaxis": "y9"
        },
        {
         "marker": {
          "color": "darkgrey"
         },
         "showlegend": false,
         "type": "bar",
         "x": [
          "RP",
          "FP",
          "BP",
          "LP"
         ],
         "xaxis": "x10",
         "y": [
          83.14126217795426,
          7.8321498628299695,
          4.9524488626387795,
          4.0741390965769915
         ],
         "yaxis": "y10"
        },
        {
         "marker": {
          "color": "darkgrey"
         },
         "showlegend": false,
         "type": "bar",
         "x": [
          "RP",
          "FP",
          "BP",
          "LP"
         ],
         "xaxis": "x11",
         "y": [
          84.04266150415444,
          6.822555369425038,
          3.580681087001115,
          5.554102039419395
         ],
         "yaxis": "y11"
        }
       ],
       "layout": {
        "annotations": [
         {
          "font": {
           "size": 22
          },
          "showarrow": false,
          "text": "Day 1",
          "x": 0.10625,
          "xanchor": "center",
          "xref": "paper",
          "y": 1,
          "yanchor": "bottom",
          "yref": "paper"
         },
         {
          "font": {
           "size": 22
          },
          "showarrow": false,
          "text": "Day 2",
          "x": 0.36875,
          "xanchor": "center",
          "xref": "paper",
          "y": 1,
          "yanchor": "bottom",
          "yref": "paper"
         },
         {
          "font": {
           "size": 22
          },
          "showarrow": false,
          "text": "Day 3",
          "x": 0.6312500000000001,
          "xanchor": "center",
          "xref": "paper",
          "y": 1,
          "yanchor": "bottom",
          "yref": "paper"
         },
         {
          "font": {
           "size": 22
          },
          "showarrow": false,
          "text": "Day 4",
          "x": 0.89375,
          "xanchor": "center",
          "xref": "paper",
          "y": 1,
          "yanchor": "bottom",
          "yref": "paper"
         },
         {
          "font": {
           "size": 22
          },
          "showarrow": false,
          "text": "Day 5",
          "x": 0.10625,
          "xanchor": "center",
          "xref": "paper",
          "y": 0.6111111111111112,
          "yanchor": "bottom",
          "yref": "paper"
         },
         {
          "font": {
           "size": 22
          },
          "showarrow": false,
          "text": "Day 6",
          "x": 0.36875,
          "xanchor": "center",
          "xref": "paper",
          "y": 0.6111111111111112,
          "yanchor": "bottom",
          "yref": "paper"
         },
         {
          "font": {
           "size": 22
          },
          "showarrow": false,
          "text": "Day 7",
          "x": 0.6312500000000001,
          "xanchor": "center",
          "xref": "paper",
          "y": 0.6111111111111112,
          "yanchor": "bottom",
          "yref": "paper"
         },
         {
          "font": {
           "size": 22
          },
          "showarrow": false,
          "text": "Day 8",
          "x": 0.89375,
          "xanchor": "center",
          "xref": "paper",
          "y": 0.6111111111111112,
          "yanchor": "bottom",
          "yref": "paper"
         },
         {
          "font": {
           "size": 22
          },
          "showarrow": false,
          "text": "Day 9",
          "x": 0.10625,
          "xanchor": "center",
          "xref": "paper",
          "y": 0.22222222222222224,
          "yanchor": "bottom",
          "yref": "paper"
         },
         {
          "font": {
           "size": 22
          },
          "showarrow": false,
          "text": "Day 10",
          "x": 0.36875,
          "xanchor": "center",
          "xref": "paper",
          "y": 0.22222222222222224,
          "yanchor": "bottom",
          "yref": "paper"
         },
         {
          "font": {
           "size": 22
          },
          "showarrow": false,
          "text": "Day 11",
          "x": 0.6312500000000001,
          "xanchor": "center",
          "xref": "paper",
          "y": 0.22222222222222224,
          "yanchor": "bottom",
          "yref": "paper"
         }
        ],
        "font": {
         "family": "Arial",
         "size": 22
        },
        "height": 800,
        "template": {
         "data": {
          "bar": [
           {
            "error_x": {
             "color": "rgb(36,36,36)"
            },
            "error_y": {
             "color": "rgb(36,36,36)"
            },
            "marker": {
             "line": {
              "color": "white",
              "width": 0.5
             },
             "pattern": {
              "fillmode": "overlay",
              "size": 10,
              "solidity": 0.2
             }
            },
            "type": "bar"
           }
          ],
          "barpolar": [
           {
            "marker": {
             "line": {
              "color": "white",
              "width": 0.5
             },
             "pattern": {
              "fillmode": "overlay",
              "size": 10,
              "solidity": 0.2
             }
            },
            "type": "barpolar"
           }
          ],
          "carpet": [
           {
            "aaxis": {
             "endlinecolor": "rgb(36,36,36)",
             "gridcolor": "white",
             "linecolor": "white",
             "minorgridcolor": "white",
             "startlinecolor": "rgb(36,36,36)"
            },
            "baxis": {
             "endlinecolor": "rgb(36,36,36)",
             "gridcolor": "white",
             "linecolor": "white",
             "minorgridcolor": "white",
             "startlinecolor": "rgb(36,36,36)"
            },
            "type": "carpet"
           }
          ],
          "choropleth": [
           {
            "colorbar": {
             "outlinewidth": 1,
             "tickcolor": "rgb(36,36,36)",
             "ticks": "outside"
            },
            "type": "choropleth"
           }
          ],
          "contour": [
           {
            "colorbar": {
             "outlinewidth": 1,
             "tickcolor": "rgb(36,36,36)",
             "ticks": "outside"
            },
            "colorscale": [
             [
              0,
              "#440154"
             ],
             [
              0.1111111111111111,
              "#482878"
             ],
             [
              0.2222222222222222,
              "#3e4989"
             ],
             [
              0.3333333333333333,
              "#31688e"
             ],
             [
              0.4444444444444444,
              "#26828e"
             ],
             [
              0.5555555555555556,
              "#1f9e89"
             ],
             [
              0.6666666666666666,
              "#35b779"
             ],
             [
              0.7777777777777778,
              "#6ece58"
             ],
             [
              0.8888888888888888,
              "#b5de2b"
             ],
             [
              1,
              "#fde725"
             ]
            ],
            "type": "contour"
           }
          ],
          "contourcarpet": [
           {
            "colorbar": {
             "outlinewidth": 1,
             "tickcolor": "rgb(36,36,36)",
             "ticks": "outside"
            },
            "type": "contourcarpet"
           }
          ],
          "heatmap": [
           {
            "colorbar": {
             "outlinewidth": 1,
             "tickcolor": "rgb(36,36,36)",
             "ticks": "outside"
            },
            "colorscale": [
             [
              0,
              "#440154"
             ],
             [
              0.1111111111111111,
              "#482878"
             ],
             [
              0.2222222222222222,
              "#3e4989"
             ],
             [
              0.3333333333333333,
              "#31688e"
             ],
             [
              0.4444444444444444,
              "#26828e"
             ],
             [
              0.5555555555555556,
              "#1f9e89"
             ],
             [
              0.6666666666666666,
              "#35b779"
             ],
             [
              0.7777777777777778,
              "#6ece58"
             ],
             [
              0.8888888888888888,
              "#b5de2b"
             ],
             [
              1,
              "#fde725"
             ]
            ],
            "type": "heatmap"
           }
          ],
          "heatmapgl": [
           {
            "colorbar": {
             "outlinewidth": 1,
             "tickcolor": "rgb(36,36,36)",
             "ticks": "outside"
            },
            "colorscale": [
             [
              0,
              "#440154"
             ],
             [
              0.1111111111111111,
              "#482878"
             ],
             [
              0.2222222222222222,
              "#3e4989"
             ],
             [
              0.3333333333333333,
              "#31688e"
             ],
             [
              0.4444444444444444,
              "#26828e"
             ],
             [
              0.5555555555555556,
              "#1f9e89"
             ],
             [
              0.6666666666666666,
              "#35b779"
             ],
             [
              0.7777777777777778,
              "#6ece58"
             ],
             [
              0.8888888888888888,
              "#b5de2b"
             ],
             [
              1,
              "#fde725"
             ]
            ],
            "type": "heatmapgl"
           }
          ],
          "histogram": [
           {
            "marker": {
             "line": {
              "color": "white",
              "width": 0.6
             }
            },
            "type": "histogram"
           }
          ],
          "histogram2d": [
           {
            "colorbar": {
             "outlinewidth": 1,
             "tickcolor": "rgb(36,36,36)",
             "ticks": "outside"
            },
            "colorscale": [
             [
              0,
              "#440154"
             ],
             [
              0.1111111111111111,
              "#482878"
             ],
             [
              0.2222222222222222,
              "#3e4989"
             ],
             [
              0.3333333333333333,
              "#31688e"
             ],
             [
              0.4444444444444444,
              "#26828e"
             ],
             [
              0.5555555555555556,
              "#1f9e89"
             ],
             [
              0.6666666666666666,
              "#35b779"
             ],
             [
              0.7777777777777778,
              "#6ece58"
             ],
             [
              0.8888888888888888,
              "#b5de2b"
             ],
             [
              1,
              "#fde725"
             ]
            ],
            "type": "histogram2d"
           }
          ],
          "histogram2dcontour": [
           {
            "colorbar": {
             "outlinewidth": 1,
             "tickcolor": "rgb(36,36,36)",
             "ticks": "outside"
            },
            "colorscale": [
             [
              0,
              "#440154"
             ],
             [
              0.1111111111111111,
              "#482878"
             ],
             [
              0.2222222222222222,
              "#3e4989"
             ],
             [
              0.3333333333333333,
              "#31688e"
             ],
             [
              0.4444444444444444,
              "#26828e"
             ],
             [
              0.5555555555555556,
              "#1f9e89"
             ],
             [
              0.6666666666666666,
              "#35b779"
             ],
             [
              0.7777777777777778,
              "#6ece58"
             ],
             [
              0.8888888888888888,
              "#b5de2b"
             ],
             [
              1,
              "#fde725"
             ]
            ],
            "type": "histogram2dcontour"
           }
          ],
          "mesh3d": [
           {
            "colorbar": {
             "outlinewidth": 1,
             "tickcolor": "rgb(36,36,36)",
             "ticks": "outside"
            },
            "type": "mesh3d"
           }
          ],
          "parcoords": [
           {
            "line": {
             "colorbar": {
              "outlinewidth": 1,
              "tickcolor": "rgb(36,36,36)",
              "ticks": "outside"
             }
            },
            "type": "parcoords"
           }
          ],
          "pie": [
           {
            "automargin": true,
            "type": "pie"
           }
          ],
          "scatter": [
           {
            "fillpattern": {
             "fillmode": "overlay",
             "size": 10,
             "solidity": 0.2
            },
            "type": "scatter"
           }
          ],
          "scatter3d": [
           {
            "line": {
             "colorbar": {
              "outlinewidth": 1,
              "tickcolor": "rgb(36,36,36)",
              "ticks": "outside"
             }
            },
            "marker": {
             "colorbar": {
              "outlinewidth": 1,
              "tickcolor": "rgb(36,36,36)",
              "ticks": "outside"
             }
            },
            "type": "scatter3d"
           }
          ],
          "scattercarpet": [
           {
            "marker": {
             "colorbar": {
              "outlinewidth": 1,
              "tickcolor": "rgb(36,36,36)",
              "ticks": "outside"
             }
            },
            "type": "scattercarpet"
           }
          ],
          "scattergeo": [
           {
            "marker": {
             "colorbar": {
              "outlinewidth": 1,
              "tickcolor": "rgb(36,36,36)",
              "ticks": "outside"
             }
            },
            "type": "scattergeo"
           }
          ],
          "scattergl": [
           {
            "marker": {
             "colorbar": {
              "outlinewidth": 1,
              "tickcolor": "rgb(36,36,36)",
              "ticks": "outside"
             }
            },
            "type": "scattergl"
           }
          ],
          "scattermapbox": [
           {
            "marker": {
             "colorbar": {
              "outlinewidth": 1,
              "tickcolor": "rgb(36,36,36)",
              "ticks": "outside"
             }
            },
            "type": "scattermapbox"
           }
          ],
          "scatterpolar": [
           {
            "marker": {
             "colorbar": {
              "outlinewidth": 1,
              "tickcolor": "rgb(36,36,36)",
              "ticks": "outside"
             }
            },
            "type": "scatterpolar"
           }
          ],
          "scatterpolargl": [
           {
            "marker": {
             "colorbar": {
              "outlinewidth": 1,
              "tickcolor": "rgb(36,36,36)",
              "ticks": "outside"
             }
            },
            "type": "scatterpolargl"
           }
          ],
          "scatterternary": [
           {
            "marker": {
             "colorbar": {
              "outlinewidth": 1,
              "tickcolor": "rgb(36,36,36)",
              "ticks": "outside"
             }
            },
            "type": "scatterternary"
           }
          ],
          "surface": [
           {
            "colorbar": {
             "outlinewidth": 1,
             "tickcolor": "rgb(36,36,36)",
             "ticks": "outside"
            },
            "colorscale": [
             [
              0,
              "#440154"
             ],
             [
              0.1111111111111111,
              "#482878"
             ],
             [
              0.2222222222222222,
              "#3e4989"
             ],
             [
              0.3333333333333333,
              "#31688e"
             ],
             [
              0.4444444444444444,
              "#26828e"
             ],
             [
              0.5555555555555556,
              "#1f9e89"
             ],
             [
              0.6666666666666666,
              "#35b779"
             ],
             [
              0.7777777777777778,
              "#6ece58"
             ],
             [
              0.8888888888888888,
              "#b5de2b"
             ],
             [
              1,
              "#fde725"
             ]
            ],
            "type": "surface"
           }
          ],
          "table": [
           {
            "cells": {
             "fill": {
              "color": "rgb(237,237,237)"
             },
             "line": {
              "color": "white"
             }
            },
            "header": {
             "fill": {
              "color": "rgb(217,217,217)"
             },
             "line": {
              "color": "white"
             }
            },
            "type": "table"
           }
          ]
         },
         "layout": {
          "annotationdefaults": {
           "arrowhead": 0,
           "arrowwidth": 1
          },
          "autotypenumbers": "strict",
          "coloraxis": {
           "colorbar": {
            "outlinewidth": 1,
            "tickcolor": "rgb(36,36,36)",
            "ticks": "outside"
           }
          },
          "colorscale": {
           "diverging": [
            [
             0,
             "rgb(103,0,31)"
            ],
            [
             0.1,
             "rgb(178,24,43)"
            ],
            [
             0.2,
             "rgb(214,96,77)"
            ],
            [
             0.3,
             "rgb(244,165,130)"
            ],
            [
             0.4,
             "rgb(253,219,199)"
            ],
            [
             0.5,
             "rgb(247,247,247)"
            ],
            [
             0.6,
             "rgb(209,229,240)"
            ],
            [
             0.7,
             "rgb(146,197,222)"
            ],
            [
             0.8,
             "rgb(67,147,195)"
            ],
            [
             0.9,
             "rgb(33,102,172)"
            ],
            [
             1,
             "rgb(5,48,97)"
            ]
           ],
           "sequential": [
            [
             0,
             "#440154"
            ],
            [
             0.1111111111111111,
             "#482878"
            ],
            [
             0.2222222222222222,
             "#3e4989"
            ],
            [
             0.3333333333333333,
             "#31688e"
            ],
            [
             0.4444444444444444,
             "#26828e"
            ],
            [
             0.5555555555555556,
             "#1f9e89"
            ],
            [
             0.6666666666666666,
             "#35b779"
            ],
            [
             0.7777777777777778,
             "#6ece58"
            ],
            [
             0.8888888888888888,
             "#b5de2b"
            ],
            [
             1,
             "#fde725"
            ]
           ],
           "sequentialminus": [
            [
             0,
             "#440154"
            ],
            [
             0.1111111111111111,
             "#482878"
            ],
            [
             0.2222222222222222,
             "#3e4989"
            ],
            [
             0.3333333333333333,
             "#31688e"
            ],
            [
             0.4444444444444444,
             "#26828e"
            ],
            [
             0.5555555555555556,
             "#1f9e89"
            ],
            [
             0.6666666666666666,
             "#35b779"
            ],
            [
             0.7777777777777778,
             "#6ece58"
            ],
            [
             0.8888888888888888,
             "#b5de2b"
            ],
            [
             1,
             "#fde725"
            ]
           ]
          },
          "colorway": [
           "#1F77B4",
           "#FF7F0E",
           "#2CA02C",
           "#D62728",
           "#9467BD",
           "#8C564B",
           "#E377C2",
           "#7F7F7F",
           "#BCBD22",
           "#17BECF"
          ],
          "font": {
           "color": "rgb(36,36,36)"
          },
          "geo": {
           "bgcolor": "white",
           "lakecolor": "white",
           "landcolor": "white",
           "showlakes": true,
           "showland": true,
           "subunitcolor": "white"
          },
          "hoverlabel": {
           "align": "left"
          },
          "hovermode": "closest",
          "mapbox": {
           "style": "light"
          },
          "paper_bgcolor": "white",
          "plot_bgcolor": "white",
          "polar": {
           "angularaxis": {
            "gridcolor": "rgb(232,232,232)",
            "linecolor": "rgb(36,36,36)",
            "showgrid": false,
            "showline": true,
            "ticks": "outside"
           },
           "bgcolor": "white",
           "radialaxis": {
            "gridcolor": "rgb(232,232,232)",
            "linecolor": "rgb(36,36,36)",
            "showgrid": false,
            "showline": true,
            "ticks": "outside"
           }
          },
          "scene": {
           "xaxis": {
            "backgroundcolor": "white",
            "gridcolor": "rgb(232,232,232)",
            "gridwidth": 2,
            "linecolor": "rgb(36,36,36)",
            "showbackground": true,
            "showgrid": false,
            "showline": true,
            "ticks": "outside",
            "zeroline": false,
            "zerolinecolor": "rgb(36,36,36)"
           },
           "yaxis": {
            "backgroundcolor": "white",
            "gridcolor": "rgb(232,232,232)",
            "gridwidth": 2,
            "linecolor": "rgb(36,36,36)",
            "showbackground": true,
            "showgrid": false,
            "showline": true,
            "ticks": "outside",
            "zeroline": false,
            "zerolinecolor": "rgb(36,36,36)"
           },
           "zaxis": {
            "backgroundcolor": "white",
            "gridcolor": "rgb(232,232,232)",
            "gridwidth": 2,
            "linecolor": "rgb(36,36,36)",
            "showbackground": true,
            "showgrid": false,
            "showline": true,
            "ticks": "outside",
            "zeroline": false,
            "zerolinecolor": "rgb(36,36,36)"
           }
          },
          "shapedefaults": {
           "fillcolor": "black",
           "line": {
            "width": 0
           },
           "opacity": 0.3
          },
          "ternary": {
           "aaxis": {
            "gridcolor": "rgb(232,232,232)",
            "linecolor": "rgb(36,36,36)",
            "showgrid": false,
            "showline": true,
            "ticks": "outside"
           },
           "baxis": {
            "gridcolor": "rgb(232,232,232)",
            "linecolor": "rgb(36,36,36)",
            "showgrid": false,
            "showline": true,
            "ticks": "outside"
           },
           "bgcolor": "white",
           "caxis": {
            "gridcolor": "rgb(232,232,232)",
            "linecolor": "rgb(36,36,36)",
            "showgrid": false,
            "showline": true,
            "ticks": "outside"
           }
          },
          "title": {
           "x": 0.05
          },
          "xaxis": {
           "automargin": true,
           "gridcolor": "rgb(232,232,232)",
           "linecolor": "rgb(36,36,36)",
           "showgrid": false,
           "showline": true,
           "ticks": "outside",
           "title": {
            "standoff": 15
           },
           "zeroline": false,
           "zerolinecolor": "rgb(36,36,36)"
          },
          "yaxis": {
           "automargin": true,
           "gridcolor": "rgb(232,232,232)",
           "linecolor": "rgb(36,36,36)",
           "showgrid": false,
           "showline": true,
           "ticks": "outside",
           "title": {
            "standoff": 15
           },
           "zeroline": false,
           "zerolinecolor": "rgb(36,36,36)"
          }
         }
        },
        "title": {
         "x": 0.5,
         "xanchor": "center",
         "y": 0.9,
         "yanchor": "top"
        },
        "width": 800,
        "xaxis": {
         "anchor": "y",
         "domain": [
          0,
          0.2125
         ],
         "linewidth": 1.5,
         "title": {
          "text": ""
         }
        },
        "xaxis10": {
         "anchor": "y10",
         "domain": [
          0.2625,
          0.475
         ],
         "linewidth": 1.5,
         "title": {
          "text": ""
         }
        },
        "xaxis11": {
         "anchor": "y11",
         "domain": [
          0.525,
          0.7375
         ],
         "linewidth": 1.5,
         "title": {
          "text": ""
         }
        },
        "xaxis12": {
         "anchor": "y12",
         "domain": [
          0.7875,
          1
         ],
         "linewidth": 1.5,
         "title": {
          "text": ""
         }
        },
        "xaxis2": {
         "anchor": "y2",
         "domain": [
          0.2625,
          0.475
         ],
         "linewidth": 1.5,
         "title": {
          "text": ""
         }
        },
        "xaxis3": {
         "anchor": "y3",
         "domain": [
          0.525,
          0.7375
         ],
         "linewidth": 1.5,
         "title": {
          "text": ""
         }
        },
        "xaxis4": {
         "anchor": "y4",
         "domain": [
          0.7875,
          1
         ],
         "linewidth": 1.5,
         "title": {
          "text": ""
         }
        },
        "xaxis5": {
         "anchor": "y5",
         "domain": [
          0,
          0.2125
         ],
         "linewidth": 1.5,
         "title": {
          "text": ""
         }
        },
        "xaxis6": {
         "anchor": "y6",
         "domain": [
          0.2625,
          0.475
         ],
         "linewidth": 1.5,
         "title": {
          "text": ""
         }
        },
        "xaxis7": {
         "anchor": "y7",
         "domain": [
          0.525,
          0.7375
         ],
         "linewidth": 1.5,
         "title": {
          "text": ""
         }
        },
        "xaxis8": {
         "anchor": "y8",
         "domain": [
          0.7875,
          1
         ],
         "linewidth": 1.5,
         "title": {
          "text": ""
         }
        },
        "xaxis9": {
         "anchor": "y9",
         "domain": [
          0,
          0.2125
         ],
         "linewidth": 1.5,
         "title": {
          "text": ""
         }
        },
        "yaxis": {
         "anchor": "x",
         "domain": [
          0.7777777777777778,
          1
         ],
         "linewidth": 1.5,
         "matches": "y",
         "title": {
          "text": "Percent (%)"
         }
        },
        "yaxis10": {
         "anchor": "x10",
         "domain": [
          0,
          0.22222222222222224
         ],
         "linewidth": 1.5,
         "matches": "y",
         "showticklabels": false,
         "title": {
          "text": ""
         }
        },
        "yaxis11": {
         "anchor": "x11",
         "domain": [
          0,
          0.22222222222222224
         ],
         "linewidth": 1.5,
         "matches": "y",
         "showticklabels": false,
         "title": {
          "text": ""
         }
        },
        "yaxis12": {
         "anchor": "x12",
         "domain": [
          0,
          0.22222222222222224
         ],
         "linewidth": 1.5,
         "matches": "y",
         "showticklabels": false,
         "title": {
          "text": ""
         }
        },
        "yaxis2": {
         "anchor": "x2",
         "domain": [
          0.7777777777777778,
          1
         ],
         "linewidth": 1.5,
         "matches": "y",
         "showticklabels": false,
         "title": {
          "text": ""
         }
        },
        "yaxis3": {
         "anchor": "x3",
         "domain": [
          0.7777777777777778,
          1
         ],
         "linewidth": 1.5,
         "matches": "y",
         "showticklabels": false,
         "title": {
          "text": ""
         }
        },
        "yaxis4": {
         "anchor": "x4",
         "domain": [
          0.7777777777777778,
          1
         ],
         "linewidth": 1.5,
         "matches": "y",
         "showticklabels": false,
         "title": {
          "text": ""
         }
        },
        "yaxis5": {
         "anchor": "x5",
         "domain": [
          0.3888888888888889,
          0.6111111111111112
         ],
         "linewidth": 1.5,
         "matches": "y",
         "title": {
          "text": "Percent (%)"
         }
        },
        "yaxis6": {
         "anchor": "x6",
         "domain": [
          0.3888888888888889,
          0.6111111111111112
         ],
         "linewidth": 1.5,
         "matches": "y",
         "showticklabels": false,
         "title": {
          "text": ""
         }
        },
        "yaxis7": {
         "anchor": "x7",
         "domain": [
          0.3888888888888889,
          0.6111111111111112
         ],
         "linewidth": 1.5,
         "matches": "y",
         "showticklabels": false,
         "title": {
          "text": ""
         }
        },
        "yaxis8": {
         "anchor": "x8",
         "domain": [
          0.3888888888888889,
          0.6111111111111112
         ],
         "linewidth": 1.5,
         "matches": "y",
         "showticklabels": false,
         "title": {
          "text": ""
         }
        },
        "yaxis9": {
         "anchor": "x9",
         "domain": [
          0,
          0.22222222222222224
         ],
         "linewidth": 1.5,
         "matches": "y",
         "title": {
          "text": "Percent (%)"
         }
        }
       }
      },
      "text/html": [
       "<div>                            <div id=\"04910f86-bf82-4b03-8307-da0e9db7330b\" class=\"plotly-graph-div\" style=\"height:800px; width:800px;\"></div>            <script type=\"text/javascript\">                require([\"plotly\"], function(Plotly) {                    window.PLOTLYENV=window.PLOTLYENV || {};                                    if (document.getElementById(\"04910f86-bf82-4b03-8307-da0e9db7330b\")) {                    Plotly.newPlot(                        \"04910f86-bf82-4b03-8307-da0e9db7330b\",                        [{\"marker\":{\"color\":\"darkgrey\"},\"showlegend\":false,\"x\":[\"RP\",\"FP\",\"BP\",\"LP\"],\"y\":[40.6111801011503,21.511712356815057,18.71703862799207,19.160068914042565],\"type\":\"bar\",\"xaxis\":\"x\",\"yaxis\":\"y\"},{\"marker\":{\"color\":\"darkgrey\"},\"showlegend\":false,\"x\":[\"RP\",\"FP\",\"BP\",\"LP\"],\"y\":[44.380087970996684,25.352856475081783,16.24441004665263,14.022645507268901],\"type\":\"bar\",\"xaxis\":\"x2\",\"yaxis\":\"y2\"},{\"marker\":{\"color\":\"darkgrey\"},\"showlegend\":false,\"x\":[\"RP\",\"FP\",\"BP\",\"LP\"],\"y\":[65.57382074509353,16.04483996845338,10.146283262878914,8.235056023574167],\"type\":\"bar\",\"xaxis\":\"x3\",\"yaxis\":\"y3\"},{\"marker\":{\"color\":\"darkgrey\"},\"showlegend\":false,\"x\":[\"RP\",\"FP\",\"BP\",\"LP\"],\"y\":[78.79455778564785,9.967204658598371,5.537216675614977,5.701020880138795],\"type\":\"bar\",\"xaxis\":\"x4\",\"yaxis\":\"y4\"},{\"marker\":{\"color\":\"darkgrey\"},\"showlegend\":false,\"x\":[\"RP\",\"FP\",\"BP\",\"LP\"],\"y\":[77.00444888333307,9.910086094614806,6.803901328837837,6.281563693214283],\"type\":\"bar\",\"xaxis\":\"x5\",\"yaxis\":\"y5\"},{\"marker\":{\"color\":\"darkgrey\"},\"showlegend\":false,\"x\":[\"RP\",\"FP\",\"BP\",\"LP\"],\"y\":[78.39036766186629,8.882134335382135,5.765542898120512,6.961955104631069],\"type\":\"bar\",\"xaxis\":\"x6\",\"yaxis\":\"y6\"},{\"marker\":{\"color\":\"darkgrey\"},\"showlegend\":false,\"x\":[\"RP\",\"FP\",\"BP\",\"LP\"],\"y\":[79.2151006546574,10.494972515129428,6.060610714300289,4.229316115912888],\"type\":\"bar\",\"xaxis\":\"x7\",\"yaxis\":\"y7\"},{\"marker\":{\"color\":\"darkgrey\"},\"showlegend\":false,\"x\":[\"RP\",\"FP\",\"BP\",\"LP\"],\"y\":[77.3624024447413,8.577065469845408,6.2183668842550235,7.842165201158253],\"type\":\"bar\",\"xaxis\":\"x8\",\"yaxis\":\"y8\"},{\"marker\":{\"color\":\"darkgrey\"},\"showlegend\":false,\"x\":[\"RP\",\"FP\",\"BP\",\"LP\"],\"y\":[81.86943530083738,8.006682270880276,4.3681315935985445,5.755750834683802],\"type\":\"bar\",\"xaxis\":\"x9\",\"yaxis\":\"y9\"},{\"marker\":{\"color\":\"darkgrey\"},\"showlegend\":false,\"x\":[\"RP\",\"FP\",\"BP\",\"LP\"],\"y\":[83.14126217795426,7.8321498628299695,4.9524488626387795,4.0741390965769915],\"type\":\"bar\",\"xaxis\":\"x10\",\"yaxis\":\"y10\"},{\"marker\":{\"color\":\"darkgrey\"},\"showlegend\":false,\"x\":[\"RP\",\"FP\",\"BP\",\"LP\"],\"y\":[84.04266150415444,6.822555369425038,3.580681087001115,5.554102039419395],\"type\":\"bar\",\"xaxis\":\"x11\",\"yaxis\":\"y11\"}],                        {\"template\":{\"data\":{\"barpolar\":[{\"marker\":{\"line\":{\"color\":\"white\",\"width\":0.5},\"pattern\":{\"fillmode\":\"overlay\",\"size\":10,\"solidity\":0.2}},\"type\":\"barpolar\"}],\"bar\":[{\"error_x\":{\"color\":\"rgb(36,36,36)\"},\"error_y\":{\"color\":\"rgb(36,36,36)\"},\"marker\":{\"line\":{\"color\":\"white\",\"width\":0.5},\"pattern\":{\"fillmode\":\"overlay\",\"size\":10,\"solidity\":0.2}},\"type\":\"bar\"}],\"carpet\":[{\"aaxis\":{\"endlinecolor\":\"rgb(36,36,36)\",\"gridcolor\":\"white\",\"linecolor\":\"white\",\"minorgridcolor\":\"white\",\"startlinecolor\":\"rgb(36,36,36)\"},\"baxis\":{\"endlinecolor\":\"rgb(36,36,36)\",\"gridcolor\":\"white\",\"linecolor\":\"white\",\"minorgridcolor\":\"white\",\"startlinecolor\":\"rgb(36,36,36)\"},\"type\":\"carpet\"}],\"choropleth\":[{\"colorbar\":{\"outlinewidth\":1,\"tickcolor\":\"rgb(36,36,36)\",\"ticks\":\"outside\"},\"type\":\"choropleth\"}],\"contourcarpet\":[{\"colorbar\":{\"outlinewidth\":1,\"tickcolor\":\"rgb(36,36,36)\",\"ticks\":\"outside\"},\"type\":\"contourcarpet\"}],\"contour\":[{\"colorbar\":{\"outlinewidth\":1,\"tickcolor\":\"rgb(36,36,36)\",\"ticks\":\"outside\"},\"colorscale\":[[0.0,\"#440154\"],[0.1111111111111111,\"#482878\"],[0.2222222222222222,\"#3e4989\"],[0.3333333333333333,\"#31688e\"],[0.4444444444444444,\"#26828e\"],[0.5555555555555556,\"#1f9e89\"],[0.6666666666666666,\"#35b779\"],[0.7777777777777778,\"#6ece58\"],[0.8888888888888888,\"#b5de2b\"],[1.0,\"#fde725\"]],\"type\":\"contour\"}],\"heatmapgl\":[{\"colorbar\":{\"outlinewidth\":1,\"tickcolor\":\"rgb(36,36,36)\",\"ticks\":\"outside\"},\"colorscale\":[[0.0,\"#440154\"],[0.1111111111111111,\"#482878\"],[0.2222222222222222,\"#3e4989\"],[0.3333333333333333,\"#31688e\"],[0.4444444444444444,\"#26828e\"],[0.5555555555555556,\"#1f9e89\"],[0.6666666666666666,\"#35b779\"],[0.7777777777777778,\"#6ece58\"],[0.8888888888888888,\"#b5de2b\"],[1.0,\"#fde725\"]],\"type\":\"heatmapgl\"}],\"heatmap\":[{\"colorbar\":{\"outlinewidth\":1,\"tickcolor\":\"rgb(36,36,36)\",\"ticks\":\"outside\"},\"colorscale\":[[0.0,\"#440154\"],[0.1111111111111111,\"#482878\"],[0.2222222222222222,\"#3e4989\"],[0.3333333333333333,\"#31688e\"],[0.4444444444444444,\"#26828e\"],[0.5555555555555556,\"#1f9e89\"],[0.6666666666666666,\"#35b779\"],[0.7777777777777778,\"#6ece58\"],[0.8888888888888888,\"#b5de2b\"],[1.0,\"#fde725\"]],\"type\":\"heatmap\"}],\"histogram2dcontour\":[{\"colorbar\":{\"outlinewidth\":1,\"tickcolor\":\"rgb(36,36,36)\",\"ticks\":\"outside\"},\"colorscale\":[[0.0,\"#440154\"],[0.1111111111111111,\"#482878\"],[0.2222222222222222,\"#3e4989\"],[0.3333333333333333,\"#31688e\"],[0.4444444444444444,\"#26828e\"],[0.5555555555555556,\"#1f9e89\"],[0.6666666666666666,\"#35b779\"],[0.7777777777777778,\"#6ece58\"],[0.8888888888888888,\"#b5de2b\"],[1.0,\"#fde725\"]],\"type\":\"histogram2dcontour\"}],\"histogram2d\":[{\"colorbar\":{\"outlinewidth\":1,\"tickcolor\":\"rgb(36,36,36)\",\"ticks\":\"outside\"},\"colorscale\":[[0.0,\"#440154\"],[0.1111111111111111,\"#482878\"],[0.2222222222222222,\"#3e4989\"],[0.3333333333333333,\"#31688e\"],[0.4444444444444444,\"#26828e\"],[0.5555555555555556,\"#1f9e89\"],[0.6666666666666666,\"#35b779\"],[0.7777777777777778,\"#6ece58\"],[0.8888888888888888,\"#b5de2b\"],[1.0,\"#fde725\"]],\"type\":\"histogram2d\"}],\"histogram\":[{\"marker\":{\"line\":{\"color\":\"white\",\"width\":0.6}},\"type\":\"histogram\"}],\"mesh3d\":[{\"colorbar\":{\"outlinewidth\":1,\"tickcolor\":\"rgb(36,36,36)\",\"ticks\":\"outside\"},\"type\":\"mesh3d\"}],\"parcoords\":[{\"line\":{\"colorbar\":{\"outlinewidth\":1,\"tickcolor\":\"rgb(36,36,36)\",\"ticks\":\"outside\"}},\"type\":\"parcoords\"}],\"pie\":[{\"automargin\":true,\"type\":\"pie\"}],\"scatter3d\":[{\"line\":{\"colorbar\":{\"outlinewidth\":1,\"tickcolor\":\"rgb(36,36,36)\",\"ticks\":\"outside\"}},\"marker\":{\"colorbar\":{\"outlinewidth\":1,\"tickcolor\":\"rgb(36,36,36)\",\"ticks\":\"outside\"}},\"type\":\"scatter3d\"}],\"scattercarpet\":[{\"marker\":{\"colorbar\":{\"outlinewidth\":1,\"tickcolor\":\"rgb(36,36,36)\",\"ticks\":\"outside\"}},\"type\":\"scattercarpet\"}],\"scattergeo\":[{\"marker\":{\"colorbar\":{\"outlinewidth\":1,\"tickcolor\":\"rgb(36,36,36)\",\"ticks\":\"outside\"}},\"type\":\"scattergeo\"}],\"scattergl\":[{\"marker\":{\"colorbar\":{\"outlinewidth\":1,\"tickcolor\":\"rgb(36,36,36)\",\"ticks\":\"outside\"}},\"type\":\"scattergl\"}],\"scattermapbox\":[{\"marker\":{\"colorbar\":{\"outlinewidth\":1,\"tickcolor\":\"rgb(36,36,36)\",\"ticks\":\"outside\"}},\"type\":\"scattermapbox\"}],\"scatterpolargl\":[{\"marker\":{\"colorbar\":{\"outlinewidth\":1,\"tickcolor\":\"rgb(36,36,36)\",\"ticks\":\"outside\"}},\"type\":\"scatterpolargl\"}],\"scatterpolar\":[{\"marker\":{\"colorbar\":{\"outlinewidth\":1,\"tickcolor\":\"rgb(36,36,36)\",\"ticks\":\"outside\"}},\"type\":\"scatterpolar\"}],\"scatter\":[{\"fillpattern\":{\"fillmode\":\"overlay\",\"size\":10,\"solidity\":0.2},\"type\":\"scatter\"}],\"scatterternary\":[{\"marker\":{\"colorbar\":{\"outlinewidth\":1,\"tickcolor\":\"rgb(36,36,36)\",\"ticks\":\"outside\"}},\"type\":\"scatterternary\"}],\"surface\":[{\"colorbar\":{\"outlinewidth\":1,\"tickcolor\":\"rgb(36,36,36)\",\"ticks\":\"outside\"},\"colorscale\":[[0.0,\"#440154\"],[0.1111111111111111,\"#482878\"],[0.2222222222222222,\"#3e4989\"],[0.3333333333333333,\"#31688e\"],[0.4444444444444444,\"#26828e\"],[0.5555555555555556,\"#1f9e89\"],[0.6666666666666666,\"#35b779\"],[0.7777777777777778,\"#6ece58\"],[0.8888888888888888,\"#b5de2b\"],[1.0,\"#fde725\"]],\"type\":\"surface\"}],\"table\":[{\"cells\":{\"fill\":{\"color\":\"rgb(237,237,237)\"},\"line\":{\"color\":\"white\"}},\"header\":{\"fill\":{\"color\":\"rgb(217,217,217)\"},\"line\":{\"color\":\"white\"}},\"type\":\"table\"}]},\"layout\":{\"annotationdefaults\":{\"arrowhead\":0,\"arrowwidth\":1},\"autotypenumbers\":\"strict\",\"coloraxis\":{\"colorbar\":{\"outlinewidth\":1,\"tickcolor\":\"rgb(36,36,36)\",\"ticks\":\"outside\"}},\"colorscale\":{\"diverging\":[[0.0,\"rgb(103,0,31)\"],[0.1,\"rgb(178,24,43)\"],[0.2,\"rgb(214,96,77)\"],[0.3,\"rgb(244,165,130)\"],[0.4,\"rgb(253,219,199)\"],[0.5,\"rgb(247,247,247)\"],[0.6,\"rgb(209,229,240)\"],[0.7,\"rgb(146,197,222)\"],[0.8,\"rgb(67,147,195)\"],[0.9,\"rgb(33,102,172)\"],[1.0,\"rgb(5,48,97)\"]],\"sequential\":[[0.0,\"#440154\"],[0.1111111111111111,\"#482878\"],[0.2222222222222222,\"#3e4989\"],[0.3333333333333333,\"#31688e\"],[0.4444444444444444,\"#26828e\"],[0.5555555555555556,\"#1f9e89\"],[0.6666666666666666,\"#35b779\"],[0.7777777777777778,\"#6ece58\"],[0.8888888888888888,\"#b5de2b\"],[1.0,\"#fde725\"]],\"sequentialminus\":[[0.0,\"#440154\"],[0.1111111111111111,\"#482878\"],[0.2222222222222222,\"#3e4989\"],[0.3333333333333333,\"#31688e\"],[0.4444444444444444,\"#26828e\"],[0.5555555555555556,\"#1f9e89\"],[0.6666666666666666,\"#35b779\"],[0.7777777777777778,\"#6ece58\"],[0.8888888888888888,\"#b5de2b\"],[1.0,\"#fde725\"]]},\"colorway\":[\"#1F77B4\",\"#FF7F0E\",\"#2CA02C\",\"#D62728\",\"#9467BD\",\"#8C564B\",\"#E377C2\",\"#7F7F7F\",\"#BCBD22\",\"#17BECF\"],\"font\":{\"color\":\"rgb(36,36,36)\"},\"geo\":{\"bgcolor\":\"white\",\"lakecolor\":\"white\",\"landcolor\":\"white\",\"showlakes\":true,\"showland\":true,\"subunitcolor\":\"white\"},\"hoverlabel\":{\"align\":\"left\"},\"hovermode\":\"closest\",\"mapbox\":{\"style\":\"light\"},\"paper_bgcolor\":\"white\",\"plot_bgcolor\":\"white\",\"polar\":{\"angularaxis\":{\"gridcolor\":\"rgb(232,232,232)\",\"linecolor\":\"rgb(36,36,36)\",\"showgrid\":false,\"showline\":true,\"ticks\":\"outside\"},\"bgcolor\":\"white\",\"radialaxis\":{\"gridcolor\":\"rgb(232,232,232)\",\"linecolor\":\"rgb(36,36,36)\",\"showgrid\":false,\"showline\":true,\"ticks\":\"outside\"}},\"scene\":{\"xaxis\":{\"backgroundcolor\":\"white\",\"gridcolor\":\"rgb(232,232,232)\",\"gridwidth\":2,\"linecolor\":\"rgb(36,36,36)\",\"showbackground\":true,\"showgrid\":false,\"showline\":true,\"ticks\":\"outside\",\"zeroline\":false,\"zerolinecolor\":\"rgb(36,36,36)\"},\"yaxis\":{\"backgroundcolor\":\"white\",\"gridcolor\":\"rgb(232,232,232)\",\"gridwidth\":2,\"linecolor\":\"rgb(36,36,36)\",\"showbackground\":true,\"showgrid\":false,\"showline\":true,\"ticks\":\"outside\",\"zeroline\":false,\"zerolinecolor\":\"rgb(36,36,36)\"},\"zaxis\":{\"backgroundcolor\":\"white\",\"gridcolor\":\"rgb(232,232,232)\",\"gridwidth\":2,\"linecolor\":\"rgb(36,36,36)\",\"showbackground\":true,\"showgrid\":false,\"showline\":true,\"ticks\":\"outside\",\"zeroline\":false,\"zerolinecolor\":\"rgb(36,36,36)\"}},\"shapedefaults\":{\"fillcolor\":\"black\",\"line\":{\"width\":0},\"opacity\":0.3},\"ternary\":{\"aaxis\":{\"gridcolor\":\"rgb(232,232,232)\",\"linecolor\":\"rgb(36,36,36)\",\"showgrid\":false,\"showline\":true,\"ticks\":\"outside\"},\"baxis\":{\"gridcolor\":\"rgb(232,232,232)\",\"linecolor\":\"rgb(36,36,36)\",\"showgrid\":false,\"showline\":true,\"ticks\":\"outside\"},\"bgcolor\":\"white\",\"caxis\":{\"gridcolor\":\"rgb(232,232,232)\",\"linecolor\":\"rgb(36,36,36)\",\"showgrid\":false,\"showline\":true,\"ticks\":\"outside\"}},\"title\":{\"x\":0.05},\"xaxis\":{\"automargin\":true,\"gridcolor\":\"rgb(232,232,232)\",\"linecolor\":\"rgb(36,36,36)\",\"showgrid\":false,\"showline\":true,\"ticks\":\"outside\",\"title\":{\"standoff\":15},\"zeroline\":false,\"zerolinecolor\":\"rgb(36,36,36)\"},\"yaxis\":{\"automargin\":true,\"gridcolor\":\"rgb(232,232,232)\",\"linecolor\":\"rgb(36,36,36)\",\"showgrid\":false,\"showline\":true,\"ticks\":\"outside\",\"title\":{\"standoff\":15},\"zeroline\":false,\"zerolinecolor\":\"rgb(36,36,36)\"}}},\"xaxis\":{\"anchor\":\"y\",\"domain\":[0.0,0.2125],\"title\":{\"text\":\"\"},\"linewidth\":1.5},\"yaxis\":{\"anchor\":\"x\",\"domain\":[0.7777777777777778,1.0],\"title\":{\"text\":\"Percent (%)\"},\"linewidth\":1.5,\"matches\":\"y\"},\"xaxis2\":{\"anchor\":\"y2\",\"domain\":[0.2625,0.475],\"title\":{\"text\":\"\"},\"linewidth\":1.5},\"yaxis2\":{\"anchor\":\"x2\",\"domain\":[0.7777777777777778,1.0],\"matches\":\"y\",\"showticklabels\":false,\"title\":{\"text\":\"\"},\"linewidth\":1.5},\"xaxis3\":{\"anchor\":\"y3\",\"domain\":[0.525,0.7375],\"title\":{\"text\":\"\"},\"linewidth\":1.5},\"yaxis3\":{\"anchor\":\"x3\",\"domain\":[0.7777777777777778,1.0],\"matches\":\"y\",\"showticklabels\":false,\"title\":{\"text\":\"\"},\"linewidth\":1.5},\"xaxis4\":{\"anchor\":\"y4\",\"domain\":[0.7875,1.0],\"title\":{\"text\":\"\"},\"linewidth\":1.5},\"yaxis4\":{\"anchor\":\"x4\",\"domain\":[0.7777777777777778,1.0],\"matches\":\"y\",\"showticklabels\":false,\"title\":{\"text\":\"\"},\"linewidth\":1.5},\"xaxis5\":{\"anchor\":\"y5\",\"domain\":[0.0,0.2125],\"title\":{\"text\":\"\"},\"linewidth\":1.5},\"yaxis5\":{\"anchor\":\"x5\",\"domain\":[0.3888888888888889,0.6111111111111112],\"title\":{\"text\":\"Percent (%)\"},\"linewidth\":1.5,\"matches\":\"y\"},\"xaxis6\":{\"anchor\":\"y6\",\"domain\":[0.2625,0.475],\"title\":{\"text\":\"\"},\"linewidth\":1.5},\"yaxis6\":{\"anchor\":\"x6\",\"domain\":[0.3888888888888889,0.6111111111111112],\"matches\":\"y\",\"showticklabels\":false,\"title\":{\"text\":\"\"},\"linewidth\":1.5},\"xaxis7\":{\"anchor\":\"y7\",\"domain\":[0.525,0.7375],\"title\":{\"text\":\"\"},\"linewidth\":1.5},\"yaxis7\":{\"anchor\":\"x7\",\"domain\":[0.3888888888888889,0.6111111111111112],\"matches\":\"y\",\"showticklabels\":false,\"title\":{\"text\":\"\"},\"linewidth\":1.5},\"xaxis8\":{\"anchor\":\"y8\",\"domain\":[0.7875,1.0],\"title\":{\"text\":\"\"},\"linewidth\":1.5},\"yaxis8\":{\"anchor\":\"x8\",\"domain\":[0.3888888888888889,0.6111111111111112],\"matches\":\"y\",\"showticklabels\":false,\"title\":{\"text\":\"\"},\"linewidth\":1.5},\"xaxis9\":{\"anchor\":\"y9\",\"domain\":[0.0,0.2125],\"title\":{\"text\":\"\"},\"linewidth\":1.5},\"yaxis9\":{\"anchor\":\"x9\",\"domain\":[0.0,0.22222222222222224],\"title\":{\"text\":\"Percent (%)\"},\"linewidth\":1.5,\"matches\":\"y\"},\"xaxis10\":{\"anchor\":\"y10\",\"domain\":[0.2625,0.475],\"title\":{\"text\":\"\"},\"linewidth\":1.5},\"yaxis10\":{\"anchor\":\"x10\",\"domain\":[0.0,0.22222222222222224],\"matches\":\"y\",\"showticklabels\":false,\"title\":{\"text\":\"\"},\"linewidth\":1.5},\"xaxis11\":{\"anchor\":\"y11\",\"domain\":[0.525,0.7375],\"title\":{\"text\":\"\"},\"linewidth\":1.5},\"yaxis11\":{\"anchor\":\"x11\",\"domain\":[0.0,0.22222222222222224],\"matches\":\"y\",\"showticklabels\":false,\"title\":{\"text\":\"\"},\"linewidth\":1.5},\"xaxis12\":{\"anchor\":\"y12\",\"domain\":[0.7875,1.0],\"title\":{\"text\":\"\"},\"linewidth\":1.5},\"yaxis12\":{\"anchor\":\"x12\",\"domain\":[0.0,0.22222222222222224],\"matches\":\"y\",\"showticklabels\":false,\"title\":{\"text\":\"\"},\"linewidth\":1.5},\"annotations\":[{\"font\":{\"size\":22},\"showarrow\":false,\"text\":\"Day 1\",\"x\":0.10625,\"xanchor\":\"center\",\"xref\":\"paper\",\"y\":1.0,\"yanchor\":\"bottom\",\"yref\":\"paper\"},{\"font\":{\"size\":22},\"showarrow\":false,\"text\":\"Day 2\",\"x\":0.36875,\"xanchor\":\"center\",\"xref\":\"paper\",\"y\":1.0,\"yanchor\":\"bottom\",\"yref\":\"paper\"},{\"font\":{\"size\":22},\"showarrow\":false,\"text\":\"Day 3\",\"x\":0.6312500000000001,\"xanchor\":\"center\",\"xref\":\"paper\",\"y\":1.0,\"yanchor\":\"bottom\",\"yref\":\"paper\"},{\"font\":{\"size\":22},\"showarrow\":false,\"text\":\"Day 4\",\"x\":0.89375,\"xanchor\":\"center\",\"xref\":\"paper\",\"y\":1.0,\"yanchor\":\"bottom\",\"yref\":\"paper\"},{\"font\":{\"size\":22},\"showarrow\":false,\"text\":\"Day 5\",\"x\":0.10625,\"xanchor\":\"center\",\"xref\":\"paper\",\"y\":0.6111111111111112,\"yanchor\":\"bottom\",\"yref\":\"paper\"},{\"font\":{\"size\":22},\"showarrow\":false,\"text\":\"Day 6\",\"x\":0.36875,\"xanchor\":\"center\",\"xref\":\"paper\",\"y\":0.6111111111111112,\"yanchor\":\"bottom\",\"yref\":\"paper\"},{\"font\":{\"size\":22},\"showarrow\":false,\"text\":\"Day 7\",\"x\":0.6312500000000001,\"xanchor\":\"center\",\"xref\":\"paper\",\"y\":0.6111111111111112,\"yanchor\":\"bottom\",\"yref\":\"paper\"},{\"font\":{\"size\":22},\"showarrow\":false,\"text\":\"Day 8\",\"x\":0.89375,\"xanchor\":\"center\",\"xref\":\"paper\",\"y\":0.6111111111111112,\"yanchor\":\"bottom\",\"yref\":\"paper\"},{\"font\":{\"size\":22},\"showarrow\":false,\"text\":\"Day 9\",\"x\":0.10625,\"xanchor\":\"center\",\"xref\":\"paper\",\"y\":0.22222222222222224,\"yanchor\":\"bottom\",\"yref\":\"paper\"},{\"font\":{\"size\":22},\"showarrow\":false,\"text\":\"Day 10\",\"x\":0.36875,\"xanchor\":\"center\",\"xref\":\"paper\",\"y\":0.22222222222222224,\"yanchor\":\"bottom\",\"yref\":\"paper\"},{\"font\":{\"size\":22},\"showarrow\":false,\"text\":\"Day 11\",\"x\":0.6312500000000001,\"xanchor\":\"center\",\"xref\":\"paper\",\"y\":0.22222222222222224,\"yanchor\":\"bottom\",\"yref\":\"paper\"}],\"title\":{\"y\":0.9,\"x\":0.5,\"xanchor\":\"center\",\"yanchor\":\"top\"},\"font\":{\"size\":22,\"family\":\"Arial\"},\"height\":800,\"width\":800},                        {\"responsive\": true}                    ).then(function(){\n",
       "                            \n",
       "var gd = document.getElementById('04910f86-bf82-4b03-8307-da0e9db7330b');\n",
       "var x = new MutationObserver(function (mutations, observer) {{\n",
       "        var display = window.getComputedStyle(gd).display;\n",
       "        if (!display || display === 'none') {{\n",
       "            console.log([gd, 'removed!']);\n",
       "            Plotly.purge(gd);\n",
       "            observer.disconnect();\n",
       "        }}\n",
       "}});\n",
       "\n",
       "// Listen for the removal of the full notebook cells\n",
       "var notebookContainer = gd.closest('#notebook-container');\n",
       "if (notebookContainer) {{\n",
       "    x.observe(notebookContainer, {childList: true});\n",
       "}}\n",
       "\n",
       "// Listen for the clearing of the current output cell\n",
       "var outputEl = gd.closest('.output');\n",
       "if (outputEl) {{\n",
       "    x.observe(outputEl, {childList: true});\n",
       "}}\n",
       "\n",
       "                        })                };                });            </script>        </div>"
      ]
     },
     "metadata": {},
     "output_type": "display_data"
    }
   ],
   "source": [
    "## Young mice in A\n",
    "age_group = 'Young Adult'\n",
    "context = 'A'\n",
    "x_axis = ['RP', 'FP', 'BP', 'LP']\n",
    "young_licks = avg_licks[(avg_licks['group'] == age_group) & (avg_licks['session'] == context)]\n",
    "fig = pf.custom_graph_template(x_title='', y_title='', rows=3, columns=4, shared_y=True, height=800, width=800,\n",
    "                               titles=[f'Day {x}' for x in np.arange(1, young_licks.shape[0]+1)])\n",
    "for idx, day in enumerate(young_licks['context_day'].unique()):\n",
    "    if idx < 4:\n",
    "        row, col = 1, idx + 1\n",
    "    elif (idx >= 4) & (idx < 8):\n",
    "        row, col = 2, idx - 3\n",
    "    else:\n",
    "        row, col = 3, idx - 7\n",
    "\n",
    "    pdata = young_licks[young_licks['context_day'] == day]\n",
    "    y_data = [pdata['reward_ports']['mean'].values[0],\n",
    "              pdata['front_ports']['mean'].values[0],\n",
    "              pdata['back_ports']['mean'].values[0],\n",
    "              pdata['final_ports']['mean'].values[0]]\n",
    "    fig.add_trace(go.Bar(x=x_axis, y=y_data, showlegend=False, marker_color='darkgrey'), row=row, col=col)\n",
    "fig.update_yaxes(title='Percent (%)', col=1)\n",
    "fig.show()"
   ]
  },
  {
   "cell_type": "code",
   "execution_count": 143,
   "metadata": {},
   "outputs": [
    {
     "data": {
      "application/vnd.plotly.v1+json": {
       "config": {
        "plotlyServerURL": "https://plot.ly"
       },
       "data": [
        {
         "marker": {
          "color": "midnightblue"
         },
         "showlegend": false,
         "type": "bar",
         "x": [
          "RP",
          "FP",
          "BP",
          "LP"
         ],
         "xaxis": "x",
         "y": [
          27.993656796782073,
          26.37733181001324,
          22.469688249821154,
          23.15932314338354
         ],
         "yaxis": "y"
        },
        {
         "marker": {
          "color": "midnightblue"
         },
         "showlegend": false,
         "type": "bar",
         "x": [
          "RP",
          "FP",
          "BP",
          "LP"
         ],
         "xaxis": "x2",
         "y": [
          29.966207887721946,
          25.936101618063105,
          23.512333383671873,
          20.58535711054307
         ],
         "yaxis": "y2"
        },
        {
         "marker": {
          "color": "midnightblue"
         },
         "showlegend": false,
         "type": "bar",
         "x": [
          "RP",
          "FP",
          "BP",
          "LP"
         ],
         "xaxis": "x3",
         "y": [
          44.46933432779322,
          21.95385639580863,
          18.29914583311359,
          15.277663443284554
         ],
         "yaxis": "y3"
        },
        {
         "marker": {
          "color": "midnightblue"
         },
         "showlegend": false,
         "type": "bar",
         "x": [
          "RP",
          "FP",
          "BP",
          "LP"
         ],
         "xaxis": "x4",
         "y": [
          53.61110781698555,
          21.996897949677553,
          13.85512704618469,
          10.536867187152207
         ],
         "yaxis": "y4"
        },
        {
         "marker": {
          "color": "midnightblue"
         },
         "showlegend": false,
         "type": "bar",
         "x": [
          "RP",
          "FP",
          "BP",
          "LP"
         ],
         "xaxis": "x5",
         "y": [
          62.00650446635962,
          17.35021434953041,
          11.783059253754987,
          8.860221930354976
         ],
         "yaxis": "y5"
        },
        {
         "marker": {
          "color": "midnightblue"
         },
         "showlegend": false,
         "type": "bar",
         "x": [
          "RP",
          "FP",
          "BP",
          "LP"
         ],
         "xaxis": "x6",
         "y": [
          64.36262693288833,
          12.57097951420547,
          11.788644647497971,
          11.277748905408226
         ],
         "yaxis": "y6"
        },
        {
         "marker": {
          "color": "midnightblue"
         },
         "showlegend": false,
         "type": "bar",
         "x": [
          "RP",
          "FP",
          "BP",
          "LP"
         ],
         "xaxis": "x7",
         "y": [
          63.393731964492794,
          15.0817331758486,
          11.12310642823433,
          10.40142843142428
         ],
         "yaxis": "y7"
        },
        {
         "marker": {
          "color": "midnightblue"
         },
         "showlegend": false,
         "type": "bar",
         "x": [
          "RP",
          "FP",
          "BP",
          "LP"
         ],
         "xaxis": "x8",
         "y": [
          72.2852072888116,
          13.270792521782562,
          7.870590162036312,
          6.573410027369519
         ],
         "yaxis": "y8"
        },
        {
         "marker": {
          "color": "midnightblue"
         },
         "showlegend": false,
         "type": "bar",
         "x": [
          "RP",
          "FP",
          "BP",
          "LP"
         ],
         "xaxis": "x9",
         "y": [
          78.15076289263696,
          9.261504560749483,
          7.742475019831113,
          4.845257526782445
         ],
         "yaxis": "y9"
        },
        {
         "marker": {
          "color": "midnightblue"
         },
         "showlegend": false,
         "type": "bar",
         "x": [
          "RP",
          "FP",
          "BP",
          "LP"
         ],
         "xaxis": "x10",
         "y": [
          73.62243686799894,
          13.116687036513047,
          5.145319418916997,
          8.11555667657101
         ],
         "yaxis": "y10"
        },
        {
         "marker": {
          "color": "midnightblue"
         },
         "showlegend": false,
         "type": "bar",
         "x": [
          "RP",
          "FP",
          "BP",
          "LP"
         ],
         "xaxis": "x11",
         "y": [
          77.8220226745367,
          10.117303266757107,
          5.901573189450836,
          6.159100869255353
         ],
         "yaxis": "y11"
        }
       ],
       "layout": {
        "annotations": [
         {
          "font": {
           "size": 22
          },
          "showarrow": false,
          "text": "Day 1",
          "x": 0.10625,
          "xanchor": "center",
          "xref": "paper",
          "y": 1,
          "yanchor": "bottom",
          "yref": "paper"
         },
         {
          "font": {
           "size": 22
          },
          "showarrow": false,
          "text": "Day 2",
          "x": 0.36875,
          "xanchor": "center",
          "xref": "paper",
          "y": 1,
          "yanchor": "bottom",
          "yref": "paper"
         },
         {
          "font": {
           "size": 22
          },
          "showarrow": false,
          "text": "Day 3",
          "x": 0.6312500000000001,
          "xanchor": "center",
          "xref": "paper",
          "y": 1,
          "yanchor": "bottom",
          "yref": "paper"
         },
         {
          "font": {
           "size": 22
          },
          "showarrow": false,
          "text": "Day 4",
          "x": 0.89375,
          "xanchor": "center",
          "xref": "paper",
          "y": 1,
          "yanchor": "bottom",
          "yref": "paper"
         },
         {
          "font": {
           "size": 22
          },
          "showarrow": false,
          "text": "Day 5",
          "x": 0.10625,
          "xanchor": "center",
          "xref": "paper",
          "y": 0.6111111111111112,
          "yanchor": "bottom",
          "yref": "paper"
         },
         {
          "font": {
           "size": 22
          },
          "showarrow": false,
          "text": "Day 6",
          "x": 0.36875,
          "xanchor": "center",
          "xref": "paper",
          "y": 0.6111111111111112,
          "yanchor": "bottom",
          "yref": "paper"
         },
         {
          "font": {
           "size": 22
          },
          "showarrow": false,
          "text": "Day 7",
          "x": 0.6312500000000001,
          "xanchor": "center",
          "xref": "paper",
          "y": 0.6111111111111112,
          "yanchor": "bottom",
          "yref": "paper"
         },
         {
          "font": {
           "size": 22
          },
          "showarrow": false,
          "text": "Day 8",
          "x": 0.89375,
          "xanchor": "center",
          "xref": "paper",
          "y": 0.6111111111111112,
          "yanchor": "bottom",
          "yref": "paper"
         },
         {
          "font": {
           "size": 22
          },
          "showarrow": false,
          "text": "Day 9",
          "x": 0.10625,
          "xanchor": "center",
          "xref": "paper",
          "y": 0.22222222222222224,
          "yanchor": "bottom",
          "yref": "paper"
         },
         {
          "font": {
           "size": 22
          },
          "showarrow": false,
          "text": "Day 10",
          "x": 0.36875,
          "xanchor": "center",
          "xref": "paper",
          "y": 0.22222222222222224,
          "yanchor": "bottom",
          "yref": "paper"
         },
         {
          "font": {
           "size": 22
          },
          "showarrow": false,
          "text": "Day 11",
          "x": 0.6312500000000001,
          "xanchor": "center",
          "xref": "paper",
          "y": 0.22222222222222224,
          "yanchor": "bottom",
          "yref": "paper"
         }
        ],
        "font": {
         "family": "Arial",
         "size": 22
        },
        "height": 800,
        "template": {
         "data": {
          "bar": [
           {
            "error_x": {
             "color": "rgb(36,36,36)"
            },
            "error_y": {
             "color": "rgb(36,36,36)"
            },
            "marker": {
             "line": {
              "color": "white",
              "width": 0.5
             },
             "pattern": {
              "fillmode": "overlay",
              "size": 10,
              "solidity": 0.2
             }
            },
            "type": "bar"
           }
          ],
          "barpolar": [
           {
            "marker": {
             "line": {
              "color": "white",
              "width": 0.5
             },
             "pattern": {
              "fillmode": "overlay",
              "size": 10,
              "solidity": 0.2
             }
            },
            "type": "barpolar"
           }
          ],
          "carpet": [
           {
            "aaxis": {
             "endlinecolor": "rgb(36,36,36)",
             "gridcolor": "white",
             "linecolor": "white",
             "minorgridcolor": "white",
             "startlinecolor": "rgb(36,36,36)"
            },
            "baxis": {
             "endlinecolor": "rgb(36,36,36)",
             "gridcolor": "white",
             "linecolor": "white",
             "minorgridcolor": "white",
             "startlinecolor": "rgb(36,36,36)"
            },
            "type": "carpet"
           }
          ],
          "choropleth": [
           {
            "colorbar": {
             "outlinewidth": 1,
             "tickcolor": "rgb(36,36,36)",
             "ticks": "outside"
            },
            "type": "choropleth"
           }
          ],
          "contour": [
           {
            "colorbar": {
             "outlinewidth": 1,
             "tickcolor": "rgb(36,36,36)",
             "ticks": "outside"
            },
            "colorscale": [
             [
              0,
              "#440154"
             ],
             [
              0.1111111111111111,
              "#482878"
             ],
             [
              0.2222222222222222,
              "#3e4989"
             ],
             [
              0.3333333333333333,
              "#31688e"
             ],
             [
              0.4444444444444444,
              "#26828e"
             ],
             [
              0.5555555555555556,
              "#1f9e89"
             ],
             [
              0.6666666666666666,
              "#35b779"
             ],
             [
              0.7777777777777778,
              "#6ece58"
             ],
             [
              0.8888888888888888,
              "#b5de2b"
             ],
             [
              1,
              "#fde725"
             ]
            ],
            "type": "contour"
           }
          ],
          "contourcarpet": [
           {
            "colorbar": {
             "outlinewidth": 1,
             "tickcolor": "rgb(36,36,36)",
             "ticks": "outside"
            },
            "type": "contourcarpet"
           }
          ],
          "heatmap": [
           {
            "colorbar": {
             "outlinewidth": 1,
             "tickcolor": "rgb(36,36,36)",
             "ticks": "outside"
            },
            "colorscale": [
             [
              0,
              "#440154"
             ],
             [
              0.1111111111111111,
              "#482878"
             ],
             [
              0.2222222222222222,
              "#3e4989"
             ],
             [
              0.3333333333333333,
              "#31688e"
             ],
             [
              0.4444444444444444,
              "#26828e"
             ],
             [
              0.5555555555555556,
              "#1f9e89"
             ],
             [
              0.6666666666666666,
              "#35b779"
             ],
             [
              0.7777777777777778,
              "#6ece58"
             ],
             [
              0.8888888888888888,
              "#b5de2b"
             ],
             [
              1,
              "#fde725"
             ]
            ],
            "type": "heatmap"
           }
          ],
          "heatmapgl": [
           {
            "colorbar": {
             "outlinewidth": 1,
             "tickcolor": "rgb(36,36,36)",
             "ticks": "outside"
            },
            "colorscale": [
             [
              0,
              "#440154"
             ],
             [
              0.1111111111111111,
              "#482878"
             ],
             [
              0.2222222222222222,
              "#3e4989"
             ],
             [
              0.3333333333333333,
              "#31688e"
             ],
             [
              0.4444444444444444,
              "#26828e"
             ],
             [
              0.5555555555555556,
              "#1f9e89"
             ],
             [
              0.6666666666666666,
              "#35b779"
             ],
             [
              0.7777777777777778,
              "#6ece58"
             ],
             [
              0.8888888888888888,
              "#b5de2b"
             ],
             [
              1,
              "#fde725"
             ]
            ],
            "type": "heatmapgl"
           }
          ],
          "histogram": [
           {
            "marker": {
             "line": {
              "color": "white",
              "width": 0.6
             }
            },
            "type": "histogram"
           }
          ],
          "histogram2d": [
           {
            "colorbar": {
             "outlinewidth": 1,
             "tickcolor": "rgb(36,36,36)",
             "ticks": "outside"
            },
            "colorscale": [
             [
              0,
              "#440154"
             ],
             [
              0.1111111111111111,
              "#482878"
             ],
             [
              0.2222222222222222,
              "#3e4989"
             ],
             [
              0.3333333333333333,
              "#31688e"
             ],
             [
              0.4444444444444444,
              "#26828e"
             ],
             [
              0.5555555555555556,
              "#1f9e89"
             ],
             [
              0.6666666666666666,
              "#35b779"
             ],
             [
              0.7777777777777778,
              "#6ece58"
             ],
             [
              0.8888888888888888,
              "#b5de2b"
             ],
             [
              1,
              "#fde725"
             ]
            ],
            "type": "histogram2d"
           }
          ],
          "histogram2dcontour": [
           {
            "colorbar": {
             "outlinewidth": 1,
             "tickcolor": "rgb(36,36,36)",
             "ticks": "outside"
            },
            "colorscale": [
             [
              0,
              "#440154"
             ],
             [
              0.1111111111111111,
              "#482878"
             ],
             [
              0.2222222222222222,
              "#3e4989"
             ],
             [
              0.3333333333333333,
              "#31688e"
             ],
             [
              0.4444444444444444,
              "#26828e"
             ],
             [
              0.5555555555555556,
              "#1f9e89"
             ],
             [
              0.6666666666666666,
              "#35b779"
             ],
             [
              0.7777777777777778,
              "#6ece58"
             ],
             [
              0.8888888888888888,
              "#b5de2b"
             ],
             [
              1,
              "#fde725"
             ]
            ],
            "type": "histogram2dcontour"
           }
          ],
          "mesh3d": [
           {
            "colorbar": {
             "outlinewidth": 1,
             "tickcolor": "rgb(36,36,36)",
             "ticks": "outside"
            },
            "type": "mesh3d"
           }
          ],
          "parcoords": [
           {
            "line": {
             "colorbar": {
              "outlinewidth": 1,
              "tickcolor": "rgb(36,36,36)",
              "ticks": "outside"
             }
            },
            "type": "parcoords"
           }
          ],
          "pie": [
           {
            "automargin": true,
            "type": "pie"
           }
          ],
          "scatter": [
           {
            "fillpattern": {
             "fillmode": "overlay",
             "size": 10,
             "solidity": 0.2
            },
            "type": "scatter"
           }
          ],
          "scatter3d": [
           {
            "line": {
             "colorbar": {
              "outlinewidth": 1,
              "tickcolor": "rgb(36,36,36)",
              "ticks": "outside"
             }
            },
            "marker": {
             "colorbar": {
              "outlinewidth": 1,
              "tickcolor": "rgb(36,36,36)",
              "ticks": "outside"
             }
            },
            "type": "scatter3d"
           }
          ],
          "scattercarpet": [
           {
            "marker": {
             "colorbar": {
              "outlinewidth": 1,
              "tickcolor": "rgb(36,36,36)",
              "ticks": "outside"
             }
            },
            "type": "scattercarpet"
           }
          ],
          "scattergeo": [
           {
            "marker": {
             "colorbar": {
              "outlinewidth": 1,
              "tickcolor": "rgb(36,36,36)",
              "ticks": "outside"
             }
            },
            "type": "scattergeo"
           }
          ],
          "scattergl": [
           {
            "marker": {
             "colorbar": {
              "outlinewidth": 1,
              "tickcolor": "rgb(36,36,36)",
              "ticks": "outside"
             }
            },
            "type": "scattergl"
           }
          ],
          "scattermapbox": [
           {
            "marker": {
             "colorbar": {
              "outlinewidth": 1,
              "tickcolor": "rgb(36,36,36)",
              "ticks": "outside"
             }
            },
            "type": "scattermapbox"
           }
          ],
          "scatterpolar": [
           {
            "marker": {
             "colorbar": {
              "outlinewidth": 1,
              "tickcolor": "rgb(36,36,36)",
              "ticks": "outside"
             }
            },
            "type": "scatterpolar"
           }
          ],
          "scatterpolargl": [
           {
            "marker": {
             "colorbar": {
              "outlinewidth": 1,
              "tickcolor": "rgb(36,36,36)",
              "ticks": "outside"
             }
            },
            "type": "scatterpolargl"
           }
          ],
          "scatterternary": [
           {
            "marker": {
             "colorbar": {
              "outlinewidth": 1,
              "tickcolor": "rgb(36,36,36)",
              "ticks": "outside"
             }
            },
            "type": "scatterternary"
           }
          ],
          "surface": [
           {
            "colorbar": {
             "outlinewidth": 1,
             "tickcolor": "rgb(36,36,36)",
             "ticks": "outside"
            },
            "colorscale": [
             [
              0,
              "#440154"
             ],
             [
              0.1111111111111111,
              "#482878"
             ],
             [
              0.2222222222222222,
              "#3e4989"
             ],
             [
              0.3333333333333333,
              "#31688e"
             ],
             [
              0.4444444444444444,
              "#26828e"
             ],
             [
              0.5555555555555556,
              "#1f9e89"
             ],
             [
              0.6666666666666666,
              "#35b779"
             ],
             [
              0.7777777777777778,
              "#6ece58"
             ],
             [
              0.8888888888888888,
              "#b5de2b"
             ],
             [
              1,
              "#fde725"
             ]
            ],
            "type": "surface"
           }
          ],
          "table": [
           {
            "cells": {
             "fill": {
              "color": "rgb(237,237,237)"
             },
             "line": {
              "color": "white"
             }
            },
            "header": {
             "fill": {
              "color": "rgb(217,217,217)"
             },
             "line": {
              "color": "white"
             }
            },
            "type": "table"
           }
          ]
         },
         "layout": {
          "annotationdefaults": {
           "arrowhead": 0,
           "arrowwidth": 1
          },
          "autotypenumbers": "strict",
          "coloraxis": {
           "colorbar": {
            "outlinewidth": 1,
            "tickcolor": "rgb(36,36,36)",
            "ticks": "outside"
           }
          },
          "colorscale": {
           "diverging": [
            [
             0,
             "rgb(103,0,31)"
            ],
            [
             0.1,
             "rgb(178,24,43)"
            ],
            [
             0.2,
             "rgb(214,96,77)"
            ],
            [
             0.3,
             "rgb(244,165,130)"
            ],
            [
             0.4,
             "rgb(253,219,199)"
            ],
            [
             0.5,
             "rgb(247,247,247)"
            ],
            [
             0.6,
             "rgb(209,229,240)"
            ],
            [
             0.7,
             "rgb(146,197,222)"
            ],
            [
             0.8,
             "rgb(67,147,195)"
            ],
            [
             0.9,
             "rgb(33,102,172)"
            ],
            [
             1,
             "rgb(5,48,97)"
            ]
           ],
           "sequential": [
            [
             0,
             "#440154"
            ],
            [
             0.1111111111111111,
             "#482878"
            ],
            [
             0.2222222222222222,
             "#3e4989"
            ],
            [
             0.3333333333333333,
             "#31688e"
            ],
            [
             0.4444444444444444,
             "#26828e"
            ],
            [
             0.5555555555555556,
             "#1f9e89"
            ],
            [
             0.6666666666666666,
             "#35b779"
            ],
            [
             0.7777777777777778,
             "#6ece58"
            ],
            [
             0.8888888888888888,
             "#b5de2b"
            ],
            [
             1,
             "#fde725"
            ]
           ],
           "sequentialminus": [
            [
             0,
             "#440154"
            ],
            [
             0.1111111111111111,
             "#482878"
            ],
            [
             0.2222222222222222,
             "#3e4989"
            ],
            [
             0.3333333333333333,
             "#31688e"
            ],
            [
             0.4444444444444444,
             "#26828e"
            ],
            [
             0.5555555555555556,
             "#1f9e89"
            ],
            [
             0.6666666666666666,
             "#35b779"
            ],
            [
             0.7777777777777778,
             "#6ece58"
            ],
            [
             0.8888888888888888,
             "#b5de2b"
            ],
            [
             1,
             "#fde725"
            ]
           ]
          },
          "colorway": [
           "#1F77B4",
           "#FF7F0E",
           "#2CA02C",
           "#D62728",
           "#9467BD",
           "#8C564B",
           "#E377C2",
           "#7F7F7F",
           "#BCBD22",
           "#17BECF"
          ],
          "font": {
           "color": "rgb(36,36,36)"
          },
          "geo": {
           "bgcolor": "white",
           "lakecolor": "white",
           "landcolor": "white",
           "showlakes": true,
           "showland": true,
           "subunitcolor": "white"
          },
          "hoverlabel": {
           "align": "left"
          },
          "hovermode": "closest",
          "mapbox": {
           "style": "light"
          },
          "paper_bgcolor": "white",
          "plot_bgcolor": "white",
          "polar": {
           "angularaxis": {
            "gridcolor": "rgb(232,232,232)",
            "linecolor": "rgb(36,36,36)",
            "showgrid": false,
            "showline": true,
            "ticks": "outside"
           },
           "bgcolor": "white",
           "radialaxis": {
            "gridcolor": "rgb(232,232,232)",
            "linecolor": "rgb(36,36,36)",
            "showgrid": false,
            "showline": true,
            "ticks": "outside"
           }
          },
          "scene": {
           "xaxis": {
            "backgroundcolor": "white",
            "gridcolor": "rgb(232,232,232)",
            "gridwidth": 2,
            "linecolor": "rgb(36,36,36)",
            "showbackground": true,
            "showgrid": false,
            "showline": true,
            "ticks": "outside",
            "zeroline": false,
            "zerolinecolor": "rgb(36,36,36)"
           },
           "yaxis": {
            "backgroundcolor": "white",
            "gridcolor": "rgb(232,232,232)",
            "gridwidth": 2,
            "linecolor": "rgb(36,36,36)",
            "showbackground": true,
            "showgrid": false,
            "showline": true,
            "ticks": "outside",
            "zeroline": false,
            "zerolinecolor": "rgb(36,36,36)"
           },
           "zaxis": {
            "backgroundcolor": "white",
            "gridcolor": "rgb(232,232,232)",
            "gridwidth": 2,
            "linecolor": "rgb(36,36,36)",
            "showbackground": true,
            "showgrid": false,
            "showline": true,
            "ticks": "outside",
            "zeroline": false,
            "zerolinecolor": "rgb(36,36,36)"
           }
          },
          "shapedefaults": {
           "fillcolor": "black",
           "line": {
            "width": 0
           },
           "opacity": 0.3
          },
          "ternary": {
           "aaxis": {
            "gridcolor": "rgb(232,232,232)",
            "linecolor": "rgb(36,36,36)",
            "showgrid": false,
            "showline": true,
            "ticks": "outside"
           },
           "baxis": {
            "gridcolor": "rgb(232,232,232)",
            "linecolor": "rgb(36,36,36)",
            "showgrid": false,
            "showline": true,
            "ticks": "outside"
           },
           "bgcolor": "white",
           "caxis": {
            "gridcolor": "rgb(232,232,232)",
            "linecolor": "rgb(36,36,36)",
            "showgrid": false,
            "showline": true,
            "ticks": "outside"
           }
          },
          "title": {
           "x": 0.05
          },
          "xaxis": {
           "automargin": true,
           "gridcolor": "rgb(232,232,232)",
           "linecolor": "rgb(36,36,36)",
           "showgrid": false,
           "showline": true,
           "ticks": "outside",
           "title": {
            "standoff": 15
           },
           "zeroline": false,
           "zerolinecolor": "rgb(36,36,36)"
          },
          "yaxis": {
           "automargin": true,
           "gridcolor": "rgb(232,232,232)",
           "linecolor": "rgb(36,36,36)",
           "showgrid": false,
           "showline": true,
           "ticks": "outside",
           "title": {
            "standoff": 15
           },
           "zeroline": false,
           "zerolinecolor": "rgb(36,36,36)"
          }
         }
        },
        "title": {
         "x": 0.5,
         "xanchor": "center",
         "y": 0.9,
         "yanchor": "top"
        },
        "width": 800,
        "xaxis": {
         "anchor": "y",
         "domain": [
          0,
          0.2125
         ],
         "linewidth": 1.5,
         "title": {
          "text": ""
         }
        },
        "xaxis10": {
         "anchor": "y10",
         "domain": [
          0.2625,
          0.475
         ],
         "linewidth": 1.5,
         "title": {
          "text": ""
         }
        },
        "xaxis11": {
         "anchor": "y11",
         "domain": [
          0.525,
          0.7375
         ],
         "linewidth": 1.5,
         "title": {
          "text": ""
         }
        },
        "xaxis12": {
         "anchor": "y12",
         "domain": [
          0.7875,
          1
         ],
         "linewidth": 1.5,
         "title": {
          "text": ""
         }
        },
        "xaxis2": {
         "anchor": "y2",
         "domain": [
          0.2625,
          0.475
         ],
         "linewidth": 1.5,
         "title": {
          "text": ""
         }
        },
        "xaxis3": {
         "anchor": "y3",
         "domain": [
          0.525,
          0.7375
         ],
         "linewidth": 1.5,
         "title": {
          "text": ""
         }
        },
        "xaxis4": {
         "anchor": "y4",
         "domain": [
          0.7875,
          1
         ],
         "linewidth": 1.5,
         "title": {
          "text": ""
         }
        },
        "xaxis5": {
         "anchor": "y5",
         "domain": [
          0,
          0.2125
         ],
         "linewidth": 1.5,
         "title": {
          "text": ""
         }
        },
        "xaxis6": {
         "anchor": "y6",
         "domain": [
          0.2625,
          0.475
         ],
         "linewidth": 1.5,
         "title": {
          "text": ""
         }
        },
        "xaxis7": {
         "anchor": "y7",
         "domain": [
          0.525,
          0.7375
         ],
         "linewidth": 1.5,
         "title": {
          "text": ""
         }
        },
        "xaxis8": {
         "anchor": "y8",
         "domain": [
          0.7875,
          1
         ],
         "linewidth": 1.5,
         "title": {
          "text": ""
         }
        },
        "xaxis9": {
         "anchor": "y9",
         "domain": [
          0,
          0.2125
         ],
         "linewidth": 1.5,
         "title": {
          "text": ""
         }
        },
        "yaxis": {
         "anchor": "x",
         "domain": [
          0.7777777777777778,
          1
         ],
         "linewidth": 1.5,
         "matches": "y",
         "title": {
          "text": "Percent (%)"
         }
        },
        "yaxis10": {
         "anchor": "x10",
         "domain": [
          0,
          0.22222222222222224
         ],
         "linewidth": 1.5,
         "matches": "y",
         "showticklabels": false,
         "title": {
          "text": ""
         }
        },
        "yaxis11": {
         "anchor": "x11",
         "domain": [
          0,
          0.22222222222222224
         ],
         "linewidth": 1.5,
         "matches": "y",
         "showticklabels": false,
         "title": {
          "text": ""
         }
        },
        "yaxis12": {
         "anchor": "x12",
         "domain": [
          0,
          0.22222222222222224
         ],
         "linewidth": 1.5,
         "matches": "y",
         "showticklabels": false,
         "title": {
          "text": ""
         }
        },
        "yaxis2": {
         "anchor": "x2",
         "domain": [
          0.7777777777777778,
          1
         ],
         "linewidth": 1.5,
         "matches": "y",
         "showticklabels": false,
         "title": {
          "text": ""
         }
        },
        "yaxis3": {
         "anchor": "x3",
         "domain": [
          0.7777777777777778,
          1
         ],
         "linewidth": 1.5,
         "matches": "y",
         "showticklabels": false,
         "title": {
          "text": ""
         }
        },
        "yaxis4": {
         "anchor": "x4",
         "domain": [
          0.7777777777777778,
          1
         ],
         "linewidth": 1.5,
         "matches": "y",
         "showticklabels": false,
         "title": {
          "text": ""
         }
        },
        "yaxis5": {
         "anchor": "x5",
         "domain": [
          0.3888888888888889,
          0.6111111111111112
         ],
         "linewidth": 1.5,
         "matches": "y",
         "title": {
          "text": "Percent (%)"
         }
        },
        "yaxis6": {
         "anchor": "x6",
         "domain": [
          0.3888888888888889,
          0.6111111111111112
         ],
         "linewidth": 1.5,
         "matches": "y",
         "showticklabels": false,
         "title": {
          "text": ""
         }
        },
        "yaxis7": {
         "anchor": "x7",
         "domain": [
          0.3888888888888889,
          0.6111111111111112
         ],
         "linewidth": 1.5,
         "matches": "y",
         "showticklabels": false,
         "title": {
          "text": ""
         }
        },
        "yaxis8": {
         "anchor": "x8",
         "domain": [
          0.3888888888888889,
          0.6111111111111112
         ],
         "linewidth": 1.5,
         "matches": "y",
         "showticklabels": false,
         "title": {
          "text": ""
         }
        },
        "yaxis9": {
         "anchor": "x9",
         "domain": [
          0,
          0.22222222222222224
         ],
         "linewidth": 1.5,
         "matches": "y",
         "title": {
          "text": "Percent (%)"
         }
        }
       }
      },
      "text/html": [
       "<div>                            <div id=\"a325e285-fde2-4b4e-8d9f-d2f8233000dc\" class=\"plotly-graph-div\" style=\"height:800px; width:800px;\"></div>            <script type=\"text/javascript\">                require([\"plotly\"], function(Plotly) {                    window.PLOTLYENV=window.PLOTLYENV || {};                                    if (document.getElementById(\"a325e285-fde2-4b4e-8d9f-d2f8233000dc\")) {                    Plotly.newPlot(                        \"a325e285-fde2-4b4e-8d9f-d2f8233000dc\",                        [{\"marker\":{\"color\":\"midnightblue\"},\"showlegend\":false,\"x\":[\"RP\",\"FP\",\"BP\",\"LP\"],\"y\":[27.993656796782073,26.37733181001324,22.469688249821154,23.15932314338354],\"type\":\"bar\",\"xaxis\":\"x\",\"yaxis\":\"y\"},{\"marker\":{\"color\":\"midnightblue\"},\"showlegend\":false,\"x\":[\"RP\",\"FP\",\"BP\",\"LP\"],\"y\":[29.966207887721946,25.936101618063105,23.512333383671873,20.58535711054307],\"type\":\"bar\",\"xaxis\":\"x2\",\"yaxis\":\"y2\"},{\"marker\":{\"color\":\"midnightblue\"},\"showlegend\":false,\"x\":[\"RP\",\"FP\",\"BP\",\"LP\"],\"y\":[44.46933432779322,21.95385639580863,18.29914583311359,15.277663443284554],\"type\":\"bar\",\"xaxis\":\"x3\",\"yaxis\":\"y3\"},{\"marker\":{\"color\":\"midnightblue\"},\"showlegend\":false,\"x\":[\"RP\",\"FP\",\"BP\",\"LP\"],\"y\":[53.61110781698555,21.996897949677553,13.85512704618469,10.536867187152207],\"type\":\"bar\",\"xaxis\":\"x4\",\"yaxis\":\"y4\"},{\"marker\":{\"color\":\"midnightblue\"},\"showlegend\":false,\"x\":[\"RP\",\"FP\",\"BP\",\"LP\"],\"y\":[62.00650446635962,17.35021434953041,11.783059253754987,8.860221930354976],\"type\":\"bar\",\"xaxis\":\"x5\",\"yaxis\":\"y5\"},{\"marker\":{\"color\":\"midnightblue\"},\"showlegend\":false,\"x\":[\"RP\",\"FP\",\"BP\",\"LP\"],\"y\":[64.36262693288833,12.57097951420547,11.788644647497971,11.277748905408226],\"type\":\"bar\",\"xaxis\":\"x6\",\"yaxis\":\"y6\"},{\"marker\":{\"color\":\"midnightblue\"},\"showlegend\":false,\"x\":[\"RP\",\"FP\",\"BP\",\"LP\"],\"y\":[63.393731964492794,15.0817331758486,11.12310642823433,10.40142843142428],\"type\":\"bar\",\"xaxis\":\"x7\",\"yaxis\":\"y7\"},{\"marker\":{\"color\":\"midnightblue\"},\"showlegend\":false,\"x\":[\"RP\",\"FP\",\"BP\",\"LP\"],\"y\":[72.2852072888116,13.270792521782562,7.870590162036312,6.573410027369519],\"type\":\"bar\",\"xaxis\":\"x8\",\"yaxis\":\"y8\"},{\"marker\":{\"color\":\"midnightblue\"},\"showlegend\":false,\"x\":[\"RP\",\"FP\",\"BP\",\"LP\"],\"y\":[78.15076289263696,9.261504560749483,7.742475019831113,4.845257526782445],\"type\":\"bar\",\"xaxis\":\"x9\",\"yaxis\":\"y9\"},{\"marker\":{\"color\":\"midnightblue\"},\"showlegend\":false,\"x\":[\"RP\",\"FP\",\"BP\",\"LP\"],\"y\":[73.62243686799894,13.116687036513047,5.145319418916997,8.11555667657101],\"type\":\"bar\",\"xaxis\":\"x10\",\"yaxis\":\"y10\"},{\"marker\":{\"color\":\"midnightblue\"},\"showlegend\":false,\"x\":[\"RP\",\"FP\",\"BP\",\"LP\"],\"y\":[77.8220226745367,10.117303266757107,5.901573189450836,6.159100869255353],\"type\":\"bar\",\"xaxis\":\"x11\",\"yaxis\":\"y11\"}],                        {\"template\":{\"data\":{\"barpolar\":[{\"marker\":{\"line\":{\"color\":\"white\",\"width\":0.5},\"pattern\":{\"fillmode\":\"overlay\",\"size\":10,\"solidity\":0.2}},\"type\":\"barpolar\"}],\"bar\":[{\"error_x\":{\"color\":\"rgb(36,36,36)\"},\"error_y\":{\"color\":\"rgb(36,36,36)\"},\"marker\":{\"line\":{\"color\":\"white\",\"width\":0.5},\"pattern\":{\"fillmode\":\"overlay\",\"size\":10,\"solidity\":0.2}},\"type\":\"bar\"}],\"carpet\":[{\"aaxis\":{\"endlinecolor\":\"rgb(36,36,36)\",\"gridcolor\":\"white\",\"linecolor\":\"white\",\"minorgridcolor\":\"white\",\"startlinecolor\":\"rgb(36,36,36)\"},\"baxis\":{\"endlinecolor\":\"rgb(36,36,36)\",\"gridcolor\":\"white\",\"linecolor\":\"white\",\"minorgridcolor\":\"white\",\"startlinecolor\":\"rgb(36,36,36)\"},\"type\":\"carpet\"}],\"choropleth\":[{\"colorbar\":{\"outlinewidth\":1,\"tickcolor\":\"rgb(36,36,36)\",\"ticks\":\"outside\"},\"type\":\"choropleth\"}],\"contourcarpet\":[{\"colorbar\":{\"outlinewidth\":1,\"tickcolor\":\"rgb(36,36,36)\",\"ticks\":\"outside\"},\"type\":\"contourcarpet\"}],\"contour\":[{\"colorbar\":{\"outlinewidth\":1,\"tickcolor\":\"rgb(36,36,36)\",\"ticks\":\"outside\"},\"colorscale\":[[0.0,\"#440154\"],[0.1111111111111111,\"#482878\"],[0.2222222222222222,\"#3e4989\"],[0.3333333333333333,\"#31688e\"],[0.4444444444444444,\"#26828e\"],[0.5555555555555556,\"#1f9e89\"],[0.6666666666666666,\"#35b779\"],[0.7777777777777778,\"#6ece58\"],[0.8888888888888888,\"#b5de2b\"],[1.0,\"#fde725\"]],\"type\":\"contour\"}],\"heatmapgl\":[{\"colorbar\":{\"outlinewidth\":1,\"tickcolor\":\"rgb(36,36,36)\",\"ticks\":\"outside\"},\"colorscale\":[[0.0,\"#440154\"],[0.1111111111111111,\"#482878\"],[0.2222222222222222,\"#3e4989\"],[0.3333333333333333,\"#31688e\"],[0.4444444444444444,\"#26828e\"],[0.5555555555555556,\"#1f9e89\"],[0.6666666666666666,\"#35b779\"],[0.7777777777777778,\"#6ece58\"],[0.8888888888888888,\"#b5de2b\"],[1.0,\"#fde725\"]],\"type\":\"heatmapgl\"}],\"heatmap\":[{\"colorbar\":{\"outlinewidth\":1,\"tickcolor\":\"rgb(36,36,36)\",\"ticks\":\"outside\"},\"colorscale\":[[0.0,\"#440154\"],[0.1111111111111111,\"#482878\"],[0.2222222222222222,\"#3e4989\"],[0.3333333333333333,\"#31688e\"],[0.4444444444444444,\"#26828e\"],[0.5555555555555556,\"#1f9e89\"],[0.6666666666666666,\"#35b779\"],[0.7777777777777778,\"#6ece58\"],[0.8888888888888888,\"#b5de2b\"],[1.0,\"#fde725\"]],\"type\":\"heatmap\"}],\"histogram2dcontour\":[{\"colorbar\":{\"outlinewidth\":1,\"tickcolor\":\"rgb(36,36,36)\",\"ticks\":\"outside\"},\"colorscale\":[[0.0,\"#440154\"],[0.1111111111111111,\"#482878\"],[0.2222222222222222,\"#3e4989\"],[0.3333333333333333,\"#31688e\"],[0.4444444444444444,\"#26828e\"],[0.5555555555555556,\"#1f9e89\"],[0.6666666666666666,\"#35b779\"],[0.7777777777777778,\"#6ece58\"],[0.8888888888888888,\"#b5de2b\"],[1.0,\"#fde725\"]],\"type\":\"histogram2dcontour\"}],\"histogram2d\":[{\"colorbar\":{\"outlinewidth\":1,\"tickcolor\":\"rgb(36,36,36)\",\"ticks\":\"outside\"},\"colorscale\":[[0.0,\"#440154\"],[0.1111111111111111,\"#482878\"],[0.2222222222222222,\"#3e4989\"],[0.3333333333333333,\"#31688e\"],[0.4444444444444444,\"#26828e\"],[0.5555555555555556,\"#1f9e89\"],[0.6666666666666666,\"#35b779\"],[0.7777777777777778,\"#6ece58\"],[0.8888888888888888,\"#b5de2b\"],[1.0,\"#fde725\"]],\"type\":\"histogram2d\"}],\"histogram\":[{\"marker\":{\"line\":{\"color\":\"white\",\"width\":0.6}},\"type\":\"histogram\"}],\"mesh3d\":[{\"colorbar\":{\"outlinewidth\":1,\"tickcolor\":\"rgb(36,36,36)\",\"ticks\":\"outside\"},\"type\":\"mesh3d\"}],\"parcoords\":[{\"line\":{\"colorbar\":{\"outlinewidth\":1,\"tickcolor\":\"rgb(36,36,36)\",\"ticks\":\"outside\"}},\"type\":\"parcoords\"}],\"pie\":[{\"automargin\":true,\"type\":\"pie\"}],\"scatter3d\":[{\"line\":{\"colorbar\":{\"outlinewidth\":1,\"tickcolor\":\"rgb(36,36,36)\",\"ticks\":\"outside\"}},\"marker\":{\"colorbar\":{\"outlinewidth\":1,\"tickcolor\":\"rgb(36,36,36)\",\"ticks\":\"outside\"}},\"type\":\"scatter3d\"}],\"scattercarpet\":[{\"marker\":{\"colorbar\":{\"outlinewidth\":1,\"tickcolor\":\"rgb(36,36,36)\",\"ticks\":\"outside\"}},\"type\":\"scattercarpet\"}],\"scattergeo\":[{\"marker\":{\"colorbar\":{\"outlinewidth\":1,\"tickcolor\":\"rgb(36,36,36)\",\"ticks\":\"outside\"}},\"type\":\"scattergeo\"}],\"scattergl\":[{\"marker\":{\"colorbar\":{\"outlinewidth\":1,\"tickcolor\":\"rgb(36,36,36)\",\"ticks\":\"outside\"}},\"type\":\"scattergl\"}],\"scattermapbox\":[{\"marker\":{\"colorbar\":{\"outlinewidth\":1,\"tickcolor\":\"rgb(36,36,36)\",\"ticks\":\"outside\"}},\"type\":\"scattermapbox\"}],\"scatterpolargl\":[{\"marker\":{\"colorbar\":{\"outlinewidth\":1,\"tickcolor\":\"rgb(36,36,36)\",\"ticks\":\"outside\"}},\"type\":\"scatterpolargl\"}],\"scatterpolar\":[{\"marker\":{\"colorbar\":{\"outlinewidth\":1,\"tickcolor\":\"rgb(36,36,36)\",\"ticks\":\"outside\"}},\"type\":\"scatterpolar\"}],\"scatter\":[{\"fillpattern\":{\"fillmode\":\"overlay\",\"size\":10,\"solidity\":0.2},\"type\":\"scatter\"}],\"scatterternary\":[{\"marker\":{\"colorbar\":{\"outlinewidth\":1,\"tickcolor\":\"rgb(36,36,36)\",\"ticks\":\"outside\"}},\"type\":\"scatterternary\"}],\"surface\":[{\"colorbar\":{\"outlinewidth\":1,\"tickcolor\":\"rgb(36,36,36)\",\"ticks\":\"outside\"},\"colorscale\":[[0.0,\"#440154\"],[0.1111111111111111,\"#482878\"],[0.2222222222222222,\"#3e4989\"],[0.3333333333333333,\"#31688e\"],[0.4444444444444444,\"#26828e\"],[0.5555555555555556,\"#1f9e89\"],[0.6666666666666666,\"#35b779\"],[0.7777777777777778,\"#6ece58\"],[0.8888888888888888,\"#b5de2b\"],[1.0,\"#fde725\"]],\"type\":\"surface\"}],\"table\":[{\"cells\":{\"fill\":{\"color\":\"rgb(237,237,237)\"},\"line\":{\"color\":\"white\"}},\"header\":{\"fill\":{\"color\":\"rgb(217,217,217)\"},\"line\":{\"color\":\"white\"}},\"type\":\"table\"}]},\"layout\":{\"annotationdefaults\":{\"arrowhead\":0,\"arrowwidth\":1},\"autotypenumbers\":\"strict\",\"coloraxis\":{\"colorbar\":{\"outlinewidth\":1,\"tickcolor\":\"rgb(36,36,36)\",\"ticks\":\"outside\"}},\"colorscale\":{\"diverging\":[[0.0,\"rgb(103,0,31)\"],[0.1,\"rgb(178,24,43)\"],[0.2,\"rgb(214,96,77)\"],[0.3,\"rgb(244,165,130)\"],[0.4,\"rgb(253,219,199)\"],[0.5,\"rgb(247,247,247)\"],[0.6,\"rgb(209,229,240)\"],[0.7,\"rgb(146,197,222)\"],[0.8,\"rgb(67,147,195)\"],[0.9,\"rgb(33,102,172)\"],[1.0,\"rgb(5,48,97)\"]],\"sequential\":[[0.0,\"#440154\"],[0.1111111111111111,\"#482878\"],[0.2222222222222222,\"#3e4989\"],[0.3333333333333333,\"#31688e\"],[0.4444444444444444,\"#26828e\"],[0.5555555555555556,\"#1f9e89\"],[0.6666666666666666,\"#35b779\"],[0.7777777777777778,\"#6ece58\"],[0.8888888888888888,\"#b5de2b\"],[1.0,\"#fde725\"]],\"sequentialminus\":[[0.0,\"#440154\"],[0.1111111111111111,\"#482878\"],[0.2222222222222222,\"#3e4989\"],[0.3333333333333333,\"#31688e\"],[0.4444444444444444,\"#26828e\"],[0.5555555555555556,\"#1f9e89\"],[0.6666666666666666,\"#35b779\"],[0.7777777777777778,\"#6ece58\"],[0.8888888888888888,\"#b5de2b\"],[1.0,\"#fde725\"]]},\"colorway\":[\"#1F77B4\",\"#FF7F0E\",\"#2CA02C\",\"#D62728\",\"#9467BD\",\"#8C564B\",\"#E377C2\",\"#7F7F7F\",\"#BCBD22\",\"#17BECF\"],\"font\":{\"color\":\"rgb(36,36,36)\"},\"geo\":{\"bgcolor\":\"white\",\"lakecolor\":\"white\",\"landcolor\":\"white\",\"showlakes\":true,\"showland\":true,\"subunitcolor\":\"white\"},\"hoverlabel\":{\"align\":\"left\"},\"hovermode\":\"closest\",\"mapbox\":{\"style\":\"light\"},\"paper_bgcolor\":\"white\",\"plot_bgcolor\":\"white\",\"polar\":{\"angularaxis\":{\"gridcolor\":\"rgb(232,232,232)\",\"linecolor\":\"rgb(36,36,36)\",\"showgrid\":false,\"showline\":true,\"ticks\":\"outside\"},\"bgcolor\":\"white\",\"radialaxis\":{\"gridcolor\":\"rgb(232,232,232)\",\"linecolor\":\"rgb(36,36,36)\",\"showgrid\":false,\"showline\":true,\"ticks\":\"outside\"}},\"scene\":{\"xaxis\":{\"backgroundcolor\":\"white\",\"gridcolor\":\"rgb(232,232,232)\",\"gridwidth\":2,\"linecolor\":\"rgb(36,36,36)\",\"showbackground\":true,\"showgrid\":false,\"showline\":true,\"ticks\":\"outside\",\"zeroline\":false,\"zerolinecolor\":\"rgb(36,36,36)\"},\"yaxis\":{\"backgroundcolor\":\"white\",\"gridcolor\":\"rgb(232,232,232)\",\"gridwidth\":2,\"linecolor\":\"rgb(36,36,36)\",\"showbackground\":true,\"showgrid\":false,\"showline\":true,\"ticks\":\"outside\",\"zeroline\":false,\"zerolinecolor\":\"rgb(36,36,36)\"},\"zaxis\":{\"backgroundcolor\":\"white\",\"gridcolor\":\"rgb(232,232,232)\",\"gridwidth\":2,\"linecolor\":\"rgb(36,36,36)\",\"showbackground\":true,\"showgrid\":false,\"showline\":true,\"ticks\":\"outside\",\"zeroline\":false,\"zerolinecolor\":\"rgb(36,36,36)\"}},\"shapedefaults\":{\"fillcolor\":\"black\",\"line\":{\"width\":0},\"opacity\":0.3},\"ternary\":{\"aaxis\":{\"gridcolor\":\"rgb(232,232,232)\",\"linecolor\":\"rgb(36,36,36)\",\"showgrid\":false,\"showline\":true,\"ticks\":\"outside\"},\"baxis\":{\"gridcolor\":\"rgb(232,232,232)\",\"linecolor\":\"rgb(36,36,36)\",\"showgrid\":false,\"showline\":true,\"ticks\":\"outside\"},\"bgcolor\":\"white\",\"caxis\":{\"gridcolor\":\"rgb(232,232,232)\",\"linecolor\":\"rgb(36,36,36)\",\"showgrid\":false,\"showline\":true,\"ticks\":\"outside\"}},\"title\":{\"x\":0.05},\"xaxis\":{\"automargin\":true,\"gridcolor\":\"rgb(232,232,232)\",\"linecolor\":\"rgb(36,36,36)\",\"showgrid\":false,\"showline\":true,\"ticks\":\"outside\",\"title\":{\"standoff\":15},\"zeroline\":false,\"zerolinecolor\":\"rgb(36,36,36)\"},\"yaxis\":{\"automargin\":true,\"gridcolor\":\"rgb(232,232,232)\",\"linecolor\":\"rgb(36,36,36)\",\"showgrid\":false,\"showline\":true,\"ticks\":\"outside\",\"title\":{\"standoff\":15},\"zeroline\":false,\"zerolinecolor\":\"rgb(36,36,36)\"}}},\"xaxis\":{\"anchor\":\"y\",\"domain\":[0.0,0.2125],\"title\":{\"text\":\"\"},\"linewidth\":1.5},\"yaxis\":{\"anchor\":\"x\",\"domain\":[0.7777777777777778,1.0],\"title\":{\"text\":\"Percent (%)\"},\"linewidth\":1.5,\"matches\":\"y\"},\"xaxis2\":{\"anchor\":\"y2\",\"domain\":[0.2625,0.475],\"title\":{\"text\":\"\"},\"linewidth\":1.5},\"yaxis2\":{\"anchor\":\"x2\",\"domain\":[0.7777777777777778,1.0],\"matches\":\"y\",\"showticklabels\":false,\"title\":{\"text\":\"\"},\"linewidth\":1.5},\"xaxis3\":{\"anchor\":\"y3\",\"domain\":[0.525,0.7375],\"title\":{\"text\":\"\"},\"linewidth\":1.5},\"yaxis3\":{\"anchor\":\"x3\",\"domain\":[0.7777777777777778,1.0],\"matches\":\"y\",\"showticklabels\":false,\"title\":{\"text\":\"\"},\"linewidth\":1.5},\"xaxis4\":{\"anchor\":\"y4\",\"domain\":[0.7875,1.0],\"title\":{\"text\":\"\"},\"linewidth\":1.5},\"yaxis4\":{\"anchor\":\"x4\",\"domain\":[0.7777777777777778,1.0],\"matches\":\"y\",\"showticklabels\":false,\"title\":{\"text\":\"\"},\"linewidth\":1.5},\"xaxis5\":{\"anchor\":\"y5\",\"domain\":[0.0,0.2125],\"title\":{\"text\":\"\"},\"linewidth\":1.5},\"yaxis5\":{\"anchor\":\"x5\",\"domain\":[0.3888888888888889,0.6111111111111112],\"title\":{\"text\":\"Percent (%)\"},\"linewidth\":1.5,\"matches\":\"y\"},\"xaxis6\":{\"anchor\":\"y6\",\"domain\":[0.2625,0.475],\"title\":{\"text\":\"\"},\"linewidth\":1.5},\"yaxis6\":{\"anchor\":\"x6\",\"domain\":[0.3888888888888889,0.6111111111111112],\"matches\":\"y\",\"showticklabels\":false,\"title\":{\"text\":\"\"},\"linewidth\":1.5},\"xaxis7\":{\"anchor\":\"y7\",\"domain\":[0.525,0.7375],\"title\":{\"text\":\"\"},\"linewidth\":1.5},\"yaxis7\":{\"anchor\":\"x7\",\"domain\":[0.3888888888888889,0.6111111111111112],\"matches\":\"y\",\"showticklabels\":false,\"title\":{\"text\":\"\"},\"linewidth\":1.5},\"xaxis8\":{\"anchor\":\"y8\",\"domain\":[0.7875,1.0],\"title\":{\"text\":\"\"},\"linewidth\":1.5},\"yaxis8\":{\"anchor\":\"x8\",\"domain\":[0.3888888888888889,0.6111111111111112],\"matches\":\"y\",\"showticklabels\":false,\"title\":{\"text\":\"\"},\"linewidth\":1.5},\"xaxis9\":{\"anchor\":\"y9\",\"domain\":[0.0,0.2125],\"title\":{\"text\":\"\"},\"linewidth\":1.5},\"yaxis9\":{\"anchor\":\"x9\",\"domain\":[0.0,0.22222222222222224],\"title\":{\"text\":\"Percent (%)\"},\"linewidth\":1.5,\"matches\":\"y\"},\"xaxis10\":{\"anchor\":\"y10\",\"domain\":[0.2625,0.475],\"title\":{\"text\":\"\"},\"linewidth\":1.5},\"yaxis10\":{\"anchor\":\"x10\",\"domain\":[0.0,0.22222222222222224],\"matches\":\"y\",\"showticklabels\":false,\"title\":{\"text\":\"\"},\"linewidth\":1.5},\"xaxis11\":{\"anchor\":\"y11\",\"domain\":[0.525,0.7375],\"title\":{\"text\":\"\"},\"linewidth\":1.5},\"yaxis11\":{\"anchor\":\"x11\",\"domain\":[0.0,0.22222222222222224],\"matches\":\"y\",\"showticklabels\":false,\"title\":{\"text\":\"\"},\"linewidth\":1.5},\"xaxis12\":{\"anchor\":\"y12\",\"domain\":[0.7875,1.0],\"title\":{\"text\":\"\"},\"linewidth\":1.5},\"yaxis12\":{\"anchor\":\"x12\",\"domain\":[0.0,0.22222222222222224],\"matches\":\"y\",\"showticklabels\":false,\"title\":{\"text\":\"\"},\"linewidth\":1.5},\"annotations\":[{\"font\":{\"size\":22},\"showarrow\":false,\"text\":\"Day 1\",\"x\":0.10625,\"xanchor\":\"center\",\"xref\":\"paper\",\"y\":1.0,\"yanchor\":\"bottom\",\"yref\":\"paper\"},{\"font\":{\"size\":22},\"showarrow\":false,\"text\":\"Day 2\",\"x\":0.36875,\"xanchor\":\"center\",\"xref\":\"paper\",\"y\":1.0,\"yanchor\":\"bottom\",\"yref\":\"paper\"},{\"font\":{\"size\":22},\"showarrow\":false,\"text\":\"Day 3\",\"x\":0.6312500000000001,\"xanchor\":\"center\",\"xref\":\"paper\",\"y\":1.0,\"yanchor\":\"bottom\",\"yref\":\"paper\"},{\"font\":{\"size\":22},\"showarrow\":false,\"text\":\"Day 4\",\"x\":0.89375,\"xanchor\":\"center\",\"xref\":\"paper\",\"y\":1.0,\"yanchor\":\"bottom\",\"yref\":\"paper\"},{\"font\":{\"size\":22},\"showarrow\":false,\"text\":\"Day 5\",\"x\":0.10625,\"xanchor\":\"center\",\"xref\":\"paper\",\"y\":0.6111111111111112,\"yanchor\":\"bottom\",\"yref\":\"paper\"},{\"font\":{\"size\":22},\"showarrow\":false,\"text\":\"Day 6\",\"x\":0.36875,\"xanchor\":\"center\",\"xref\":\"paper\",\"y\":0.6111111111111112,\"yanchor\":\"bottom\",\"yref\":\"paper\"},{\"font\":{\"size\":22},\"showarrow\":false,\"text\":\"Day 7\",\"x\":0.6312500000000001,\"xanchor\":\"center\",\"xref\":\"paper\",\"y\":0.6111111111111112,\"yanchor\":\"bottom\",\"yref\":\"paper\"},{\"font\":{\"size\":22},\"showarrow\":false,\"text\":\"Day 8\",\"x\":0.89375,\"xanchor\":\"center\",\"xref\":\"paper\",\"y\":0.6111111111111112,\"yanchor\":\"bottom\",\"yref\":\"paper\"},{\"font\":{\"size\":22},\"showarrow\":false,\"text\":\"Day 9\",\"x\":0.10625,\"xanchor\":\"center\",\"xref\":\"paper\",\"y\":0.22222222222222224,\"yanchor\":\"bottom\",\"yref\":\"paper\"},{\"font\":{\"size\":22},\"showarrow\":false,\"text\":\"Day 10\",\"x\":0.36875,\"xanchor\":\"center\",\"xref\":\"paper\",\"y\":0.22222222222222224,\"yanchor\":\"bottom\",\"yref\":\"paper\"},{\"font\":{\"size\":22},\"showarrow\":false,\"text\":\"Day 11\",\"x\":0.6312500000000001,\"xanchor\":\"center\",\"xref\":\"paper\",\"y\":0.22222222222222224,\"yanchor\":\"bottom\",\"yref\":\"paper\"}],\"title\":{\"y\":0.9,\"x\":0.5,\"xanchor\":\"center\",\"yanchor\":\"top\"},\"font\":{\"size\":22,\"family\":\"Arial\"},\"height\":800,\"width\":800},                        {\"responsive\": true}                    ).then(function(){\n",
       "                            \n",
       "var gd = document.getElementById('a325e285-fde2-4b4e-8d9f-d2f8233000dc');\n",
       "var x = new MutationObserver(function (mutations, observer) {{\n",
       "        var display = window.getComputedStyle(gd).display;\n",
       "        if (!display || display === 'none') {{\n",
       "            console.log([gd, 'removed!']);\n",
       "            Plotly.purge(gd);\n",
       "            observer.disconnect();\n",
       "        }}\n",
       "}});\n",
       "\n",
       "// Listen for the removal of the full notebook cells\n",
       "var notebookContainer = gd.closest('#notebook-container');\n",
       "if (notebookContainer) {{\n",
       "    x.observe(notebookContainer, {childList: true});\n",
       "}}\n",
       "\n",
       "// Listen for the clearing of the current output cell\n",
       "var outputEl = gd.closest('.output');\n",
       "if (outputEl) {{\n",
       "    x.observe(outputEl, {childList: true});\n",
       "}}\n",
       "\n",
       "                        })                };                });            </script>        </div>"
      ]
     },
     "metadata": {},
     "output_type": "display_data"
    }
   ],
   "source": [
    "## Middle aged mice in A\n",
    "age_group = 'Middle Aged'\n",
    "context = 'A'\n",
    "x_axis = ['RP', 'FP', 'BP', 'LP']\n",
    "young_licks = avg_licks[(avg_licks['group'] == age_group) & (avg_licks['session'] == context)]\n",
    "fig = pf.custom_graph_template(x_title='', y_title='', rows=3, columns=4, shared_y=True, height=800, width=800,\n",
    "                               titles=[f'Day {x}' for x in np.arange(1, young_licks.shape[0]+1)])\n",
    "for idx, day in enumerate(young_licks['context_day'].unique()):\n",
    "    if idx < 4:\n",
    "        row, col = 1, idx + 1\n",
    "    elif (idx >= 4) & (idx < 8):\n",
    "        row, col = 2, idx - 3\n",
    "    else:\n",
    "        row, col = 3, idx - 7\n",
    "\n",
    "    pdata = young_licks[young_licks['context_day'] == day]\n",
    "    y_data = [pdata['reward_ports']['mean'].values[0],\n",
    "              pdata['front_ports']['mean'].values[0],\n",
    "              pdata['back_ports']['mean'].values[0],\n",
    "              pdata['final_ports']['mean'].values[0]]\n",
    "    fig.add_trace(go.Bar(x=x_axis, y=y_data, showlegend=False, marker_color='midnightblue'), row=row, col=col)\n",
    "fig.update_yaxes(title='Percent (%)', col=1)\n",
    "fig.show()"
   ]
  },
  {
   "cell_type": "code",
   "execution_count": 144,
   "metadata": {},
   "outputs": [
    {
     "data": {
      "application/vnd.plotly.v1+json": {
       "config": {
        "plotlyServerURL": "https://plot.ly"
       },
       "data": [
        {
         "marker": {
          "color": "red"
         },
         "showlegend": false,
         "type": "bar",
         "x": [
          "RP",
          "FP",
          "BP",
          "LP"
         ],
         "xaxis": "x",
         "y": [
          39.301116987800725,
          21.770938260099417,
          20.305115545459913,
          18.622829206639945
         ],
         "yaxis": "y"
        },
        {
         "marker": {
          "color": "red"
         },
         "showlegend": false,
         "type": "bar",
         "x": [
          "RP",
          "FP",
          "BP",
          "LP"
         ],
         "xaxis": "x2",
         "y": [
          30.55316736823127,
          30.615942503442056,
          21.253201417958362,
          17.577688710368307
         ],
         "yaxis": "y2"
        },
        {
         "marker": {
          "color": "red"
         },
         "showlegend": false,
         "type": "bar",
         "x": [
          "RP",
          "FP",
          "BP",
          "LP"
         ],
         "xaxis": "x3",
         "y": [
          38.80008154764643,
          20.749549661445194,
          22.099653681099394,
          18.350715109808984
         ],
         "yaxis": "y3"
        },
        {
         "marker": {
          "color": "red"
         },
         "showlegend": false,
         "type": "bar",
         "x": [
          "RP",
          "FP",
          "BP",
          "LP"
         ],
         "xaxis": "x4",
         "y": [
          41.60070584287938,
          20.362383260000062,
          16.684980997640643,
          21.35192989947992
         ],
         "yaxis": "y4"
        },
        {
         "marker": {
          "color": "red"
         },
         "showlegend": false,
         "type": "bar",
         "x": [
          "RP",
          "FP",
          "BP",
          "LP"
         ],
         "xaxis": "x5",
         "y": [
          45.63252265095562,
          19.974435472624297,
          12.443136419511498,
          21.94990545690858
         ],
         "yaxis": "y5"
        },
        {
         "marker": {
          "color": "red"
         },
         "showlegend": false,
         "type": "bar",
         "x": [
          "RP",
          "FP",
          "BP",
          "LP"
         ],
         "xaxis": "x6",
         "y": [
          46.62856582526047,
          23.665247809529145,
          18.309921535820894,
          11.396264829389484
         ],
         "yaxis": "y6"
        },
        {
         "marker": {
          "color": "red"
         },
         "showlegend": false,
         "type": "bar",
         "x": [
          "RP",
          "FP",
          "BP",
          "LP"
         ],
         "xaxis": "x7",
         "y": [
          61.8464180229812,
          18.4092279103302,
          10.129355249343666,
          9.614998817344942
         ],
         "yaxis": "y7"
        },
        {
         "marker": {
          "color": "red"
         },
         "showlegend": false,
         "type": "bar",
         "x": [
          "RP",
          "FP",
          "BP",
          "LP"
         ],
         "xaxis": "x8",
         "y": [
          64.03026118518044,
          16.199342420140272,
          10.57728365485447,
          9.193112739824814
         ],
         "yaxis": "y8"
        },
        {
         "marker": {
          "color": "red"
         },
         "showlegend": false,
         "type": "bar",
         "x": [
          "RP",
          "FP",
          "BP",
          "LP"
         ],
         "xaxis": "x9",
         "y": [
          69.48955670740114,
          11.06445045243748,
          10.047034033277457,
          9.398958806883929
         ],
         "yaxis": "y9"
        },
        {
         "marker": {
          "color": "red"
         },
         "showlegend": false,
         "type": "bar",
         "x": [
          "RP",
          "FP",
          "BP",
          "LP"
         ],
         "xaxis": "x10",
         "y": [
          70.77141835692804,
          11.328789653085101,
          8.710196315195718,
          9.18959567479115
         ],
         "yaxis": "y10"
        },
        {
         "marker": {
          "color": "red"
         },
         "showlegend": false,
         "type": "bar",
         "x": [
          "RP",
          "FP",
          "BP",
          "LP"
         ],
         "xaxis": "x11",
         "y": [
          73.59159424318155,
          10.702613687249313,
          6.601625439477623,
          9.10416663009153
         ],
         "yaxis": "y11"
        }
       ],
       "layout": {
        "annotations": [
         {
          "font": {
           "size": 22
          },
          "showarrow": false,
          "text": "Day 1",
          "x": 0.10625,
          "xanchor": "center",
          "xref": "paper",
          "y": 1,
          "yanchor": "bottom",
          "yref": "paper"
         },
         {
          "font": {
           "size": 22
          },
          "showarrow": false,
          "text": "Day 2",
          "x": 0.36875,
          "xanchor": "center",
          "xref": "paper",
          "y": 1,
          "yanchor": "bottom",
          "yref": "paper"
         },
         {
          "font": {
           "size": 22
          },
          "showarrow": false,
          "text": "Day 3",
          "x": 0.6312500000000001,
          "xanchor": "center",
          "xref": "paper",
          "y": 1,
          "yanchor": "bottom",
          "yref": "paper"
         },
         {
          "font": {
           "size": 22
          },
          "showarrow": false,
          "text": "Day 4",
          "x": 0.89375,
          "xanchor": "center",
          "xref": "paper",
          "y": 1,
          "yanchor": "bottom",
          "yref": "paper"
         },
         {
          "font": {
           "size": 22
          },
          "showarrow": false,
          "text": "Day 5",
          "x": 0.10625,
          "xanchor": "center",
          "xref": "paper",
          "y": 0.6111111111111112,
          "yanchor": "bottom",
          "yref": "paper"
         },
         {
          "font": {
           "size": 22
          },
          "showarrow": false,
          "text": "Day 6",
          "x": 0.36875,
          "xanchor": "center",
          "xref": "paper",
          "y": 0.6111111111111112,
          "yanchor": "bottom",
          "yref": "paper"
         },
         {
          "font": {
           "size": 22
          },
          "showarrow": false,
          "text": "Day 7",
          "x": 0.6312500000000001,
          "xanchor": "center",
          "xref": "paper",
          "y": 0.6111111111111112,
          "yanchor": "bottom",
          "yref": "paper"
         },
         {
          "font": {
           "size": 22
          },
          "showarrow": false,
          "text": "Day 8",
          "x": 0.89375,
          "xanchor": "center",
          "xref": "paper",
          "y": 0.6111111111111112,
          "yanchor": "bottom",
          "yref": "paper"
         },
         {
          "font": {
           "size": 22
          },
          "showarrow": false,
          "text": "Day 9",
          "x": 0.10625,
          "xanchor": "center",
          "xref": "paper",
          "y": 0.22222222222222224,
          "yanchor": "bottom",
          "yref": "paper"
         },
         {
          "font": {
           "size": 22
          },
          "showarrow": false,
          "text": "Day 10",
          "x": 0.36875,
          "xanchor": "center",
          "xref": "paper",
          "y": 0.22222222222222224,
          "yanchor": "bottom",
          "yref": "paper"
         },
         {
          "font": {
           "size": 22
          },
          "showarrow": false,
          "text": "Day 11",
          "x": 0.6312500000000001,
          "xanchor": "center",
          "xref": "paper",
          "y": 0.22222222222222224,
          "yanchor": "bottom",
          "yref": "paper"
         }
        ],
        "font": {
         "family": "Arial",
         "size": 22
        },
        "height": 800,
        "template": {
         "data": {
          "bar": [
           {
            "error_x": {
             "color": "rgb(36,36,36)"
            },
            "error_y": {
             "color": "rgb(36,36,36)"
            },
            "marker": {
             "line": {
              "color": "white",
              "width": 0.5
             },
             "pattern": {
              "fillmode": "overlay",
              "size": 10,
              "solidity": 0.2
             }
            },
            "type": "bar"
           }
          ],
          "barpolar": [
           {
            "marker": {
             "line": {
              "color": "white",
              "width": 0.5
             },
             "pattern": {
              "fillmode": "overlay",
              "size": 10,
              "solidity": 0.2
             }
            },
            "type": "barpolar"
           }
          ],
          "carpet": [
           {
            "aaxis": {
             "endlinecolor": "rgb(36,36,36)",
             "gridcolor": "white",
             "linecolor": "white",
             "minorgridcolor": "white",
             "startlinecolor": "rgb(36,36,36)"
            },
            "baxis": {
             "endlinecolor": "rgb(36,36,36)",
             "gridcolor": "white",
             "linecolor": "white",
             "minorgridcolor": "white",
             "startlinecolor": "rgb(36,36,36)"
            },
            "type": "carpet"
           }
          ],
          "choropleth": [
           {
            "colorbar": {
             "outlinewidth": 1,
             "tickcolor": "rgb(36,36,36)",
             "ticks": "outside"
            },
            "type": "choropleth"
           }
          ],
          "contour": [
           {
            "colorbar": {
             "outlinewidth": 1,
             "tickcolor": "rgb(36,36,36)",
             "ticks": "outside"
            },
            "colorscale": [
             [
              0,
              "#440154"
             ],
             [
              0.1111111111111111,
              "#482878"
             ],
             [
              0.2222222222222222,
              "#3e4989"
             ],
             [
              0.3333333333333333,
              "#31688e"
             ],
             [
              0.4444444444444444,
              "#26828e"
             ],
             [
              0.5555555555555556,
              "#1f9e89"
             ],
             [
              0.6666666666666666,
              "#35b779"
             ],
             [
              0.7777777777777778,
              "#6ece58"
             ],
             [
              0.8888888888888888,
              "#b5de2b"
             ],
             [
              1,
              "#fde725"
             ]
            ],
            "type": "contour"
           }
          ],
          "contourcarpet": [
           {
            "colorbar": {
             "outlinewidth": 1,
             "tickcolor": "rgb(36,36,36)",
             "ticks": "outside"
            },
            "type": "contourcarpet"
           }
          ],
          "heatmap": [
           {
            "colorbar": {
             "outlinewidth": 1,
             "tickcolor": "rgb(36,36,36)",
             "ticks": "outside"
            },
            "colorscale": [
             [
              0,
              "#440154"
             ],
             [
              0.1111111111111111,
              "#482878"
             ],
             [
              0.2222222222222222,
              "#3e4989"
             ],
             [
              0.3333333333333333,
              "#31688e"
             ],
             [
              0.4444444444444444,
              "#26828e"
             ],
             [
              0.5555555555555556,
              "#1f9e89"
             ],
             [
              0.6666666666666666,
              "#35b779"
             ],
             [
              0.7777777777777778,
              "#6ece58"
             ],
             [
              0.8888888888888888,
              "#b5de2b"
             ],
             [
              1,
              "#fde725"
             ]
            ],
            "type": "heatmap"
           }
          ],
          "heatmapgl": [
           {
            "colorbar": {
             "outlinewidth": 1,
             "tickcolor": "rgb(36,36,36)",
             "ticks": "outside"
            },
            "colorscale": [
             [
              0,
              "#440154"
             ],
             [
              0.1111111111111111,
              "#482878"
             ],
             [
              0.2222222222222222,
              "#3e4989"
             ],
             [
              0.3333333333333333,
              "#31688e"
             ],
             [
              0.4444444444444444,
              "#26828e"
             ],
             [
              0.5555555555555556,
              "#1f9e89"
             ],
             [
              0.6666666666666666,
              "#35b779"
             ],
             [
              0.7777777777777778,
              "#6ece58"
             ],
             [
              0.8888888888888888,
              "#b5de2b"
             ],
             [
              1,
              "#fde725"
             ]
            ],
            "type": "heatmapgl"
           }
          ],
          "histogram": [
           {
            "marker": {
             "line": {
              "color": "white",
              "width": 0.6
             }
            },
            "type": "histogram"
           }
          ],
          "histogram2d": [
           {
            "colorbar": {
             "outlinewidth": 1,
             "tickcolor": "rgb(36,36,36)",
             "ticks": "outside"
            },
            "colorscale": [
             [
              0,
              "#440154"
             ],
             [
              0.1111111111111111,
              "#482878"
             ],
             [
              0.2222222222222222,
              "#3e4989"
             ],
             [
              0.3333333333333333,
              "#31688e"
             ],
             [
              0.4444444444444444,
              "#26828e"
             ],
             [
              0.5555555555555556,
              "#1f9e89"
             ],
             [
              0.6666666666666666,
              "#35b779"
             ],
             [
              0.7777777777777778,
              "#6ece58"
             ],
             [
              0.8888888888888888,
              "#b5de2b"
             ],
             [
              1,
              "#fde725"
             ]
            ],
            "type": "histogram2d"
           }
          ],
          "histogram2dcontour": [
           {
            "colorbar": {
             "outlinewidth": 1,
             "tickcolor": "rgb(36,36,36)",
             "ticks": "outside"
            },
            "colorscale": [
             [
              0,
              "#440154"
             ],
             [
              0.1111111111111111,
              "#482878"
             ],
             [
              0.2222222222222222,
              "#3e4989"
             ],
             [
              0.3333333333333333,
              "#31688e"
             ],
             [
              0.4444444444444444,
              "#26828e"
             ],
             [
              0.5555555555555556,
              "#1f9e89"
             ],
             [
              0.6666666666666666,
              "#35b779"
             ],
             [
              0.7777777777777778,
              "#6ece58"
             ],
             [
              0.8888888888888888,
              "#b5de2b"
             ],
             [
              1,
              "#fde725"
             ]
            ],
            "type": "histogram2dcontour"
           }
          ],
          "mesh3d": [
           {
            "colorbar": {
             "outlinewidth": 1,
             "tickcolor": "rgb(36,36,36)",
             "ticks": "outside"
            },
            "type": "mesh3d"
           }
          ],
          "parcoords": [
           {
            "line": {
             "colorbar": {
              "outlinewidth": 1,
              "tickcolor": "rgb(36,36,36)",
              "ticks": "outside"
             }
            },
            "type": "parcoords"
           }
          ],
          "pie": [
           {
            "automargin": true,
            "type": "pie"
           }
          ],
          "scatter": [
           {
            "fillpattern": {
             "fillmode": "overlay",
             "size": 10,
             "solidity": 0.2
            },
            "type": "scatter"
           }
          ],
          "scatter3d": [
           {
            "line": {
             "colorbar": {
              "outlinewidth": 1,
              "tickcolor": "rgb(36,36,36)",
              "ticks": "outside"
             }
            },
            "marker": {
             "colorbar": {
              "outlinewidth": 1,
              "tickcolor": "rgb(36,36,36)",
              "ticks": "outside"
             }
            },
            "type": "scatter3d"
           }
          ],
          "scattercarpet": [
           {
            "marker": {
             "colorbar": {
              "outlinewidth": 1,
              "tickcolor": "rgb(36,36,36)",
              "ticks": "outside"
             }
            },
            "type": "scattercarpet"
           }
          ],
          "scattergeo": [
           {
            "marker": {
             "colorbar": {
              "outlinewidth": 1,
              "tickcolor": "rgb(36,36,36)",
              "ticks": "outside"
             }
            },
            "type": "scattergeo"
           }
          ],
          "scattergl": [
           {
            "marker": {
             "colorbar": {
              "outlinewidth": 1,
              "tickcolor": "rgb(36,36,36)",
              "ticks": "outside"
             }
            },
            "type": "scattergl"
           }
          ],
          "scattermapbox": [
           {
            "marker": {
             "colorbar": {
              "outlinewidth": 1,
              "tickcolor": "rgb(36,36,36)",
              "ticks": "outside"
             }
            },
            "type": "scattermapbox"
           }
          ],
          "scatterpolar": [
           {
            "marker": {
             "colorbar": {
              "outlinewidth": 1,
              "tickcolor": "rgb(36,36,36)",
              "ticks": "outside"
             }
            },
            "type": "scatterpolar"
           }
          ],
          "scatterpolargl": [
           {
            "marker": {
             "colorbar": {
              "outlinewidth": 1,
              "tickcolor": "rgb(36,36,36)",
              "ticks": "outside"
             }
            },
            "type": "scatterpolargl"
           }
          ],
          "scatterternary": [
           {
            "marker": {
             "colorbar": {
              "outlinewidth": 1,
              "tickcolor": "rgb(36,36,36)",
              "ticks": "outside"
             }
            },
            "type": "scatterternary"
           }
          ],
          "surface": [
           {
            "colorbar": {
             "outlinewidth": 1,
             "tickcolor": "rgb(36,36,36)",
             "ticks": "outside"
            },
            "colorscale": [
             [
              0,
              "#440154"
             ],
             [
              0.1111111111111111,
              "#482878"
             ],
             [
              0.2222222222222222,
              "#3e4989"
             ],
             [
              0.3333333333333333,
              "#31688e"
             ],
             [
              0.4444444444444444,
              "#26828e"
             ],
             [
              0.5555555555555556,
              "#1f9e89"
             ],
             [
              0.6666666666666666,
              "#35b779"
             ],
             [
              0.7777777777777778,
              "#6ece58"
             ],
             [
              0.8888888888888888,
              "#b5de2b"
             ],
             [
              1,
              "#fde725"
             ]
            ],
            "type": "surface"
           }
          ],
          "table": [
           {
            "cells": {
             "fill": {
              "color": "rgb(237,237,237)"
             },
             "line": {
              "color": "white"
             }
            },
            "header": {
             "fill": {
              "color": "rgb(217,217,217)"
             },
             "line": {
              "color": "white"
             }
            },
            "type": "table"
           }
          ]
         },
         "layout": {
          "annotationdefaults": {
           "arrowhead": 0,
           "arrowwidth": 1
          },
          "autotypenumbers": "strict",
          "coloraxis": {
           "colorbar": {
            "outlinewidth": 1,
            "tickcolor": "rgb(36,36,36)",
            "ticks": "outside"
           }
          },
          "colorscale": {
           "diverging": [
            [
             0,
             "rgb(103,0,31)"
            ],
            [
             0.1,
             "rgb(178,24,43)"
            ],
            [
             0.2,
             "rgb(214,96,77)"
            ],
            [
             0.3,
             "rgb(244,165,130)"
            ],
            [
             0.4,
             "rgb(253,219,199)"
            ],
            [
             0.5,
             "rgb(247,247,247)"
            ],
            [
             0.6,
             "rgb(209,229,240)"
            ],
            [
             0.7,
             "rgb(146,197,222)"
            ],
            [
             0.8,
             "rgb(67,147,195)"
            ],
            [
             0.9,
             "rgb(33,102,172)"
            ],
            [
             1,
             "rgb(5,48,97)"
            ]
           ],
           "sequential": [
            [
             0,
             "#440154"
            ],
            [
             0.1111111111111111,
             "#482878"
            ],
            [
             0.2222222222222222,
             "#3e4989"
            ],
            [
             0.3333333333333333,
             "#31688e"
            ],
            [
             0.4444444444444444,
             "#26828e"
            ],
            [
             0.5555555555555556,
             "#1f9e89"
            ],
            [
             0.6666666666666666,
             "#35b779"
            ],
            [
             0.7777777777777778,
             "#6ece58"
            ],
            [
             0.8888888888888888,
             "#b5de2b"
            ],
            [
             1,
             "#fde725"
            ]
           ],
           "sequentialminus": [
            [
             0,
             "#440154"
            ],
            [
             0.1111111111111111,
             "#482878"
            ],
            [
             0.2222222222222222,
             "#3e4989"
            ],
            [
             0.3333333333333333,
             "#31688e"
            ],
            [
             0.4444444444444444,
             "#26828e"
            ],
            [
             0.5555555555555556,
             "#1f9e89"
            ],
            [
             0.6666666666666666,
             "#35b779"
            ],
            [
             0.7777777777777778,
             "#6ece58"
            ],
            [
             0.8888888888888888,
             "#b5de2b"
            ],
            [
             1,
             "#fde725"
            ]
           ]
          },
          "colorway": [
           "#1F77B4",
           "#FF7F0E",
           "#2CA02C",
           "#D62728",
           "#9467BD",
           "#8C564B",
           "#E377C2",
           "#7F7F7F",
           "#BCBD22",
           "#17BECF"
          ],
          "font": {
           "color": "rgb(36,36,36)"
          },
          "geo": {
           "bgcolor": "white",
           "lakecolor": "white",
           "landcolor": "white",
           "showlakes": true,
           "showland": true,
           "subunitcolor": "white"
          },
          "hoverlabel": {
           "align": "left"
          },
          "hovermode": "closest",
          "mapbox": {
           "style": "light"
          },
          "paper_bgcolor": "white",
          "plot_bgcolor": "white",
          "polar": {
           "angularaxis": {
            "gridcolor": "rgb(232,232,232)",
            "linecolor": "rgb(36,36,36)",
            "showgrid": false,
            "showline": true,
            "ticks": "outside"
           },
           "bgcolor": "white",
           "radialaxis": {
            "gridcolor": "rgb(232,232,232)",
            "linecolor": "rgb(36,36,36)",
            "showgrid": false,
            "showline": true,
            "ticks": "outside"
           }
          },
          "scene": {
           "xaxis": {
            "backgroundcolor": "white",
            "gridcolor": "rgb(232,232,232)",
            "gridwidth": 2,
            "linecolor": "rgb(36,36,36)",
            "showbackground": true,
            "showgrid": false,
            "showline": true,
            "ticks": "outside",
            "zeroline": false,
            "zerolinecolor": "rgb(36,36,36)"
           },
           "yaxis": {
            "backgroundcolor": "white",
            "gridcolor": "rgb(232,232,232)",
            "gridwidth": 2,
            "linecolor": "rgb(36,36,36)",
            "showbackground": true,
            "showgrid": false,
            "showline": true,
            "ticks": "outside",
            "zeroline": false,
            "zerolinecolor": "rgb(36,36,36)"
           },
           "zaxis": {
            "backgroundcolor": "white",
            "gridcolor": "rgb(232,232,232)",
            "gridwidth": 2,
            "linecolor": "rgb(36,36,36)",
            "showbackground": true,
            "showgrid": false,
            "showline": true,
            "ticks": "outside",
            "zeroline": false,
            "zerolinecolor": "rgb(36,36,36)"
           }
          },
          "shapedefaults": {
           "fillcolor": "black",
           "line": {
            "width": 0
           },
           "opacity": 0.3
          },
          "ternary": {
           "aaxis": {
            "gridcolor": "rgb(232,232,232)",
            "linecolor": "rgb(36,36,36)",
            "showgrid": false,
            "showline": true,
            "ticks": "outside"
           },
           "baxis": {
            "gridcolor": "rgb(232,232,232)",
            "linecolor": "rgb(36,36,36)",
            "showgrid": false,
            "showline": true,
            "ticks": "outside"
           },
           "bgcolor": "white",
           "caxis": {
            "gridcolor": "rgb(232,232,232)",
            "linecolor": "rgb(36,36,36)",
            "showgrid": false,
            "showline": true,
            "ticks": "outside"
           }
          },
          "title": {
           "x": 0.05
          },
          "xaxis": {
           "automargin": true,
           "gridcolor": "rgb(232,232,232)",
           "linecolor": "rgb(36,36,36)",
           "showgrid": false,
           "showline": true,
           "ticks": "outside",
           "title": {
            "standoff": 15
           },
           "zeroline": false,
           "zerolinecolor": "rgb(36,36,36)"
          },
          "yaxis": {
           "automargin": true,
           "gridcolor": "rgb(232,232,232)",
           "linecolor": "rgb(36,36,36)",
           "showgrid": false,
           "showline": true,
           "ticks": "outside",
           "title": {
            "standoff": 15
           },
           "zeroline": false,
           "zerolinecolor": "rgb(36,36,36)"
          }
         }
        },
        "title": {
         "x": 0.5,
         "xanchor": "center",
         "y": 0.9,
         "yanchor": "top"
        },
        "width": 800,
        "xaxis": {
         "anchor": "y",
         "domain": [
          0,
          0.2125
         ],
         "linewidth": 1.5,
         "title": {
          "text": ""
         }
        },
        "xaxis10": {
         "anchor": "y10",
         "domain": [
          0.2625,
          0.475
         ],
         "linewidth": 1.5,
         "title": {
          "text": ""
         }
        },
        "xaxis11": {
         "anchor": "y11",
         "domain": [
          0.525,
          0.7375
         ],
         "linewidth": 1.5,
         "title": {
          "text": ""
         }
        },
        "xaxis12": {
         "anchor": "y12",
         "domain": [
          0.7875,
          1
         ],
         "linewidth": 1.5,
         "title": {
          "text": ""
         }
        },
        "xaxis2": {
         "anchor": "y2",
         "domain": [
          0.2625,
          0.475
         ],
         "linewidth": 1.5,
         "title": {
          "text": ""
         }
        },
        "xaxis3": {
         "anchor": "y3",
         "domain": [
          0.525,
          0.7375
         ],
         "linewidth": 1.5,
         "title": {
          "text": ""
         }
        },
        "xaxis4": {
         "anchor": "y4",
         "domain": [
          0.7875,
          1
         ],
         "linewidth": 1.5,
         "title": {
          "text": ""
         }
        },
        "xaxis5": {
         "anchor": "y5",
         "domain": [
          0,
          0.2125
         ],
         "linewidth": 1.5,
         "title": {
          "text": ""
         }
        },
        "xaxis6": {
         "anchor": "y6",
         "domain": [
          0.2625,
          0.475
         ],
         "linewidth": 1.5,
         "title": {
          "text": ""
         }
        },
        "xaxis7": {
         "anchor": "y7",
         "domain": [
          0.525,
          0.7375
         ],
         "linewidth": 1.5,
         "title": {
          "text": ""
         }
        },
        "xaxis8": {
         "anchor": "y8",
         "domain": [
          0.7875,
          1
         ],
         "linewidth": 1.5,
         "title": {
          "text": ""
         }
        },
        "xaxis9": {
         "anchor": "y9",
         "domain": [
          0,
          0.2125
         ],
         "linewidth": 1.5,
         "title": {
          "text": ""
         }
        },
        "yaxis": {
         "anchor": "x",
         "domain": [
          0.7777777777777778,
          1
         ],
         "linewidth": 1.5,
         "matches": "y",
         "title": {
          "text": "Percent (%)"
         }
        },
        "yaxis10": {
         "anchor": "x10",
         "domain": [
          0,
          0.22222222222222224
         ],
         "linewidth": 1.5,
         "matches": "y",
         "showticklabels": false,
         "title": {
          "text": ""
         }
        },
        "yaxis11": {
         "anchor": "x11",
         "domain": [
          0,
          0.22222222222222224
         ],
         "linewidth": 1.5,
         "matches": "y",
         "showticklabels": false,
         "title": {
          "text": ""
         }
        },
        "yaxis12": {
         "anchor": "x12",
         "domain": [
          0,
          0.22222222222222224
         ],
         "linewidth": 1.5,
         "matches": "y",
         "showticklabels": false,
         "title": {
          "text": ""
         }
        },
        "yaxis2": {
         "anchor": "x2",
         "domain": [
          0.7777777777777778,
          1
         ],
         "linewidth": 1.5,
         "matches": "y",
         "showticklabels": false,
         "title": {
          "text": ""
         }
        },
        "yaxis3": {
         "anchor": "x3",
         "domain": [
          0.7777777777777778,
          1
         ],
         "linewidth": 1.5,
         "matches": "y",
         "showticklabels": false,
         "title": {
          "text": ""
         }
        },
        "yaxis4": {
         "anchor": "x4",
         "domain": [
          0.7777777777777778,
          1
         ],
         "linewidth": 1.5,
         "matches": "y",
         "showticklabels": false,
         "title": {
          "text": ""
         }
        },
        "yaxis5": {
         "anchor": "x5",
         "domain": [
          0.3888888888888889,
          0.6111111111111112
         ],
         "linewidth": 1.5,
         "matches": "y",
         "title": {
          "text": "Percent (%)"
         }
        },
        "yaxis6": {
         "anchor": "x6",
         "domain": [
          0.3888888888888889,
          0.6111111111111112
         ],
         "linewidth": 1.5,
         "matches": "y",
         "showticklabels": false,
         "title": {
          "text": ""
         }
        },
        "yaxis7": {
         "anchor": "x7",
         "domain": [
          0.3888888888888889,
          0.6111111111111112
         ],
         "linewidth": 1.5,
         "matches": "y",
         "showticklabels": false,
         "title": {
          "text": ""
         }
        },
        "yaxis8": {
         "anchor": "x8",
         "domain": [
          0.3888888888888889,
          0.6111111111111112
         ],
         "linewidth": 1.5,
         "matches": "y",
         "showticklabels": false,
         "title": {
          "text": ""
         }
        },
        "yaxis9": {
         "anchor": "x9",
         "domain": [
          0,
          0.22222222222222224
         ],
         "linewidth": 1.5,
         "matches": "y",
         "title": {
          "text": "Percent (%)"
         }
        }
       }
      },
      "text/html": [
       "<div>                            <div id=\"4a94c644-16af-4474-b130-12326f31128b\" class=\"plotly-graph-div\" style=\"height:800px; width:800px;\"></div>            <script type=\"text/javascript\">                require([\"plotly\"], function(Plotly) {                    window.PLOTLYENV=window.PLOTLYENV || {};                                    if (document.getElementById(\"4a94c644-16af-4474-b130-12326f31128b\")) {                    Plotly.newPlot(                        \"4a94c644-16af-4474-b130-12326f31128b\",                        [{\"marker\":{\"color\":\"red\"},\"showlegend\":false,\"x\":[\"RP\",\"FP\",\"BP\",\"LP\"],\"y\":[39.301116987800725,21.770938260099417,20.305115545459913,18.622829206639945],\"type\":\"bar\",\"xaxis\":\"x\",\"yaxis\":\"y\"},{\"marker\":{\"color\":\"red\"},\"showlegend\":false,\"x\":[\"RP\",\"FP\",\"BP\",\"LP\"],\"y\":[30.55316736823127,30.615942503442056,21.253201417958362,17.577688710368307],\"type\":\"bar\",\"xaxis\":\"x2\",\"yaxis\":\"y2\"},{\"marker\":{\"color\":\"red\"},\"showlegend\":false,\"x\":[\"RP\",\"FP\",\"BP\",\"LP\"],\"y\":[38.80008154764643,20.749549661445194,22.099653681099394,18.350715109808984],\"type\":\"bar\",\"xaxis\":\"x3\",\"yaxis\":\"y3\"},{\"marker\":{\"color\":\"red\"},\"showlegend\":false,\"x\":[\"RP\",\"FP\",\"BP\",\"LP\"],\"y\":[41.60070584287938,20.362383260000062,16.684980997640643,21.35192989947992],\"type\":\"bar\",\"xaxis\":\"x4\",\"yaxis\":\"y4\"},{\"marker\":{\"color\":\"red\"},\"showlegend\":false,\"x\":[\"RP\",\"FP\",\"BP\",\"LP\"],\"y\":[45.63252265095562,19.974435472624297,12.443136419511498,21.94990545690858],\"type\":\"bar\",\"xaxis\":\"x5\",\"yaxis\":\"y5\"},{\"marker\":{\"color\":\"red\"},\"showlegend\":false,\"x\":[\"RP\",\"FP\",\"BP\",\"LP\"],\"y\":[46.62856582526047,23.665247809529145,18.309921535820894,11.396264829389484],\"type\":\"bar\",\"xaxis\":\"x6\",\"yaxis\":\"y6\"},{\"marker\":{\"color\":\"red\"},\"showlegend\":false,\"x\":[\"RP\",\"FP\",\"BP\",\"LP\"],\"y\":[61.8464180229812,18.4092279103302,10.129355249343666,9.614998817344942],\"type\":\"bar\",\"xaxis\":\"x7\",\"yaxis\":\"y7\"},{\"marker\":{\"color\":\"red\"},\"showlegend\":false,\"x\":[\"RP\",\"FP\",\"BP\",\"LP\"],\"y\":[64.03026118518044,16.199342420140272,10.57728365485447,9.193112739824814],\"type\":\"bar\",\"xaxis\":\"x8\",\"yaxis\":\"y8\"},{\"marker\":{\"color\":\"red\"},\"showlegend\":false,\"x\":[\"RP\",\"FP\",\"BP\",\"LP\"],\"y\":[69.48955670740114,11.06445045243748,10.047034033277457,9.398958806883929],\"type\":\"bar\",\"xaxis\":\"x9\",\"yaxis\":\"y9\"},{\"marker\":{\"color\":\"red\"},\"showlegend\":false,\"x\":[\"RP\",\"FP\",\"BP\",\"LP\"],\"y\":[70.77141835692804,11.328789653085101,8.710196315195718,9.18959567479115],\"type\":\"bar\",\"xaxis\":\"x10\",\"yaxis\":\"y10\"},{\"marker\":{\"color\":\"red\"},\"showlegend\":false,\"x\":[\"RP\",\"FP\",\"BP\",\"LP\"],\"y\":[73.59159424318155,10.702613687249313,6.601625439477623,9.10416663009153],\"type\":\"bar\",\"xaxis\":\"x11\",\"yaxis\":\"y11\"}],                        {\"template\":{\"data\":{\"barpolar\":[{\"marker\":{\"line\":{\"color\":\"white\",\"width\":0.5},\"pattern\":{\"fillmode\":\"overlay\",\"size\":10,\"solidity\":0.2}},\"type\":\"barpolar\"}],\"bar\":[{\"error_x\":{\"color\":\"rgb(36,36,36)\"},\"error_y\":{\"color\":\"rgb(36,36,36)\"},\"marker\":{\"line\":{\"color\":\"white\",\"width\":0.5},\"pattern\":{\"fillmode\":\"overlay\",\"size\":10,\"solidity\":0.2}},\"type\":\"bar\"}],\"carpet\":[{\"aaxis\":{\"endlinecolor\":\"rgb(36,36,36)\",\"gridcolor\":\"white\",\"linecolor\":\"white\",\"minorgridcolor\":\"white\",\"startlinecolor\":\"rgb(36,36,36)\"},\"baxis\":{\"endlinecolor\":\"rgb(36,36,36)\",\"gridcolor\":\"white\",\"linecolor\":\"white\",\"minorgridcolor\":\"white\",\"startlinecolor\":\"rgb(36,36,36)\"},\"type\":\"carpet\"}],\"choropleth\":[{\"colorbar\":{\"outlinewidth\":1,\"tickcolor\":\"rgb(36,36,36)\",\"ticks\":\"outside\"},\"type\":\"choropleth\"}],\"contourcarpet\":[{\"colorbar\":{\"outlinewidth\":1,\"tickcolor\":\"rgb(36,36,36)\",\"ticks\":\"outside\"},\"type\":\"contourcarpet\"}],\"contour\":[{\"colorbar\":{\"outlinewidth\":1,\"tickcolor\":\"rgb(36,36,36)\",\"ticks\":\"outside\"},\"colorscale\":[[0.0,\"#440154\"],[0.1111111111111111,\"#482878\"],[0.2222222222222222,\"#3e4989\"],[0.3333333333333333,\"#31688e\"],[0.4444444444444444,\"#26828e\"],[0.5555555555555556,\"#1f9e89\"],[0.6666666666666666,\"#35b779\"],[0.7777777777777778,\"#6ece58\"],[0.8888888888888888,\"#b5de2b\"],[1.0,\"#fde725\"]],\"type\":\"contour\"}],\"heatmapgl\":[{\"colorbar\":{\"outlinewidth\":1,\"tickcolor\":\"rgb(36,36,36)\",\"ticks\":\"outside\"},\"colorscale\":[[0.0,\"#440154\"],[0.1111111111111111,\"#482878\"],[0.2222222222222222,\"#3e4989\"],[0.3333333333333333,\"#31688e\"],[0.4444444444444444,\"#26828e\"],[0.5555555555555556,\"#1f9e89\"],[0.6666666666666666,\"#35b779\"],[0.7777777777777778,\"#6ece58\"],[0.8888888888888888,\"#b5de2b\"],[1.0,\"#fde725\"]],\"type\":\"heatmapgl\"}],\"heatmap\":[{\"colorbar\":{\"outlinewidth\":1,\"tickcolor\":\"rgb(36,36,36)\",\"ticks\":\"outside\"},\"colorscale\":[[0.0,\"#440154\"],[0.1111111111111111,\"#482878\"],[0.2222222222222222,\"#3e4989\"],[0.3333333333333333,\"#31688e\"],[0.4444444444444444,\"#26828e\"],[0.5555555555555556,\"#1f9e89\"],[0.6666666666666666,\"#35b779\"],[0.7777777777777778,\"#6ece58\"],[0.8888888888888888,\"#b5de2b\"],[1.0,\"#fde725\"]],\"type\":\"heatmap\"}],\"histogram2dcontour\":[{\"colorbar\":{\"outlinewidth\":1,\"tickcolor\":\"rgb(36,36,36)\",\"ticks\":\"outside\"},\"colorscale\":[[0.0,\"#440154\"],[0.1111111111111111,\"#482878\"],[0.2222222222222222,\"#3e4989\"],[0.3333333333333333,\"#31688e\"],[0.4444444444444444,\"#26828e\"],[0.5555555555555556,\"#1f9e89\"],[0.6666666666666666,\"#35b779\"],[0.7777777777777778,\"#6ece58\"],[0.8888888888888888,\"#b5de2b\"],[1.0,\"#fde725\"]],\"type\":\"histogram2dcontour\"}],\"histogram2d\":[{\"colorbar\":{\"outlinewidth\":1,\"tickcolor\":\"rgb(36,36,36)\",\"ticks\":\"outside\"},\"colorscale\":[[0.0,\"#440154\"],[0.1111111111111111,\"#482878\"],[0.2222222222222222,\"#3e4989\"],[0.3333333333333333,\"#31688e\"],[0.4444444444444444,\"#26828e\"],[0.5555555555555556,\"#1f9e89\"],[0.6666666666666666,\"#35b779\"],[0.7777777777777778,\"#6ece58\"],[0.8888888888888888,\"#b5de2b\"],[1.0,\"#fde725\"]],\"type\":\"histogram2d\"}],\"histogram\":[{\"marker\":{\"line\":{\"color\":\"white\",\"width\":0.6}},\"type\":\"histogram\"}],\"mesh3d\":[{\"colorbar\":{\"outlinewidth\":1,\"tickcolor\":\"rgb(36,36,36)\",\"ticks\":\"outside\"},\"type\":\"mesh3d\"}],\"parcoords\":[{\"line\":{\"colorbar\":{\"outlinewidth\":1,\"tickcolor\":\"rgb(36,36,36)\",\"ticks\":\"outside\"}},\"type\":\"parcoords\"}],\"pie\":[{\"automargin\":true,\"type\":\"pie\"}],\"scatter3d\":[{\"line\":{\"colorbar\":{\"outlinewidth\":1,\"tickcolor\":\"rgb(36,36,36)\",\"ticks\":\"outside\"}},\"marker\":{\"colorbar\":{\"outlinewidth\":1,\"tickcolor\":\"rgb(36,36,36)\",\"ticks\":\"outside\"}},\"type\":\"scatter3d\"}],\"scattercarpet\":[{\"marker\":{\"colorbar\":{\"outlinewidth\":1,\"tickcolor\":\"rgb(36,36,36)\",\"ticks\":\"outside\"}},\"type\":\"scattercarpet\"}],\"scattergeo\":[{\"marker\":{\"colorbar\":{\"outlinewidth\":1,\"tickcolor\":\"rgb(36,36,36)\",\"ticks\":\"outside\"}},\"type\":\"scattergeo\"}],\"scattergl\":[{\"marker\":{\"colorbar\":{\"outlinewidth\":1,\"tickcolor\":\"rgb(36,36,36)\",\"ticks\":\"outside\"}},\"type\":\"scattergl\"}],\"scattermapbox\":[{\"marker\":{\"colorbar\":{\"outlinewidth\":1,\"tickcolor\":\"rgb(36,36,36)\",\"ticks\":\"outside\"}},\"type\":\"scattermapbox\"}],\"scatterpolargl\":[{\"marker\":{\"colorbar\":{\"outlinewidth\":1,\"tickcolor\":\"rgb(36,36,36)\",\"ticks\":\"outside\"}},\"type\":\"scatterpolargl\"}],\"scatterpolar\":[{\"marker\":{\"colorbar\":{\"outlinewidth\":1,\"tickcolor\":\"rgb(36,36,36)\",\"ticks\":\"outside\"}},\"type\":\"scatterpolar\"}],\"scatter\":[{\"fillpattern\":{\"fillmode\":\"overlay\",\"size\":10,\"solidity\":0.2},\"type\":\"scatter\"}],\"scatterternary\":[{\"marker\":{\"colorbar\":{\"outlinewidth\":1,\"tickcolor\":\"rgb(36,36,36)\",\"ticks\":\"outside\"}},\"type\":\"scatterternary\"}],\"surface\":[{\"colorbar\":{\"outlinewidth\":1,\"tickcolor\":\"rgb(36,36,36)\",\"ticks\":\"outside\"},\"colorscale\":[[0.0,\"#440154\"],[0.1111111111111111,\"#482878\"],[0.2222222222222222,\"#3e4989\"],[0.3333333333333333,\"#31688e\"],[0.4444444444444444,\"#26828e\"],[0.5555555555555556,\"#1f9e89\"],[0.6666666666666666,\"#35b779\"],[0.7777777777777778,\"#6ece58\"],[0.8888888888888888,\"#b5de2b\"],[1.0,\"#fde725\"]],\"type\":\"surface\"}],\"table\":[{\"cells\":{\"fill\":{\"color\":\"rgb(237,237,237)\"},\"line\":{\"color\":\"white\"}},\"header\":{\"fill\":{\"color\":\"rgb(217,217,217)\"},\"line\":{\"color\":\"white\"}},\"type\":\"table\"}]},\"layout\":{\"annotationdefaults\":{\"arrowhead\":0,\"arrowwidth\":1},\"autotypenumbers\":\"strict\",\"coloraxis\":{\"colorbar\":{\"outlinewidth\":1,\"tickcolor\":\"rgb(36,36,36)\",\"ticks\":\"outside\"}},\"colorscale\":{\"diverging\":[[0.0,\"rgb(103,0,31)\"],[0.1,\"rgb(178,24,43)\"],[0.2,\"rgb(214,96,77)\"],[0.3,\"rgb(244,165,130)\"],[0.4,\"rgb(253,219,199)\"],[0.5,\"rgb(247,247,247)\"],[0.6,\"rgb(209,229,240)\"],[0.7,\"rgb(146,197,222)\"],[0.8,\"rgb(67,147,195)\"],[0.9,\"rgb(33,102,172)\"],[1.0,\"rgb(5,48,97)\"]],\"sequential\":[[0.0,\"#440154\"],[0.1111111111111111,\"#482878\"],[0.2222222222222222,\"#3e4989\"],[0.3333333333333333,\"#31688e\"],[0.4444444444444444,\"#26828e\"],[0.5555555555555556,\"#1f9e89\"],[0.6666666666666666,\"#35b779\"],[0.7777777777777778,\"#6ece58\"],[0.8888888888888888,\"#b5de2b\"],[1.0,\"#fde725\"]],\"sequentialminus\":[[0.0,\"#440154\"],[0.1111111111111111,\"#482878\"],[0.2222222222222222,\"#3e4989\"],[0.3333333333333333,\"#31688e\"],[0.4444444444444444,\"#26828e\"],[0.5555555555555556,\"#1f9e89\"],[0.6666666666666666,\"#35b779\"],[0.7777777777777778,\"#6ece58\"],[0.8888888888888888,\"#b5de2b\"],[1.0,\"#fde725\"]]},\"colorway\":[\"#1F77B4\",\"#FF7F0E\",\"#2CA02C\",\"#D62728\",\"#9467BD\",\"#8C564B\",\"#E377C2\",\"#7F7F7F\",\"#BCBD22\",\"#17BECF\"],\"font\":{\"color\":\"rgb(36,36,36)\"},\"geo\":{\"bgcolor\":\"white\",\"lakecolor\":\"white\",\"landcolor\":\"white\",\"showlakes\":true,\"showland\":true,\"subunitcolor\":\"white\"},\"hoverlabel\":{\"align\":\"left\"},\"hovermode\":\"closest\",\"mapbox\":{\"style\":\"light\"},\"paper_bgcolor\":\"white\",\"plot_bgcolor\":\"white\",\"polar\":{\"angularaxis\":{\"gridcolor\":\"rgb(232,232,232)\",\"linecolor\":\"rgb(36,36,36)\",\"showgrid\":false,\"showline\":true,\"ticks\":\"outside\"},\"bgcolor\":\"white\",\"radialaxis\":{\"gridcolor\":\"rgb(232,232,232)\",\"linecolor\":\"rgb(36,36,36)\",\"showgrid\":false,\"showline\":true,\"ticks\":\"outside\"}},\"scene\":{\"xaxis\":{\"backgroundcolor\":\"white\",\"gridcolor\":\"rgb(232,232,232)\",\"gridwidth\":2,\"linecolor\":\"rgb(36,36,36)\",\"showbackground\":true,\"showgrid\":false,\"showline\":true,\"ticks\":\"outside\",\"zeroline\":false,\"zerolinecolor\":\"rgb(36,36,36)\"},\"yaxis\":{\"backgroundcolor\":\"white\",\"gridcolor\":\"rgb(232,232,232)\",\"gridwidth\":2,\"linecolor\":\"rgb(36,36,36)\",\"showbackground\":true,\"showgrid\":false,\"showline\":true,\"ticks\":\"outside\",\"zeroline\":false,\"zerolinecolor\":\"rgb(36,36,36)\"},\"zaxis\":{\"backgroundcolor\":\"white\",\"gridcolor\":\"rgb(232,232,232)\",\"gridwidth\":2,\"linecolor\":\"rgb(36,36,36)\",\"showbackground\":true,\"showgrid\":false,\"showline\":true,\"ticks\":\"outside\",\"zeroline\":false,\"zerolinecolor\":\"rgb(36,36,36)\"}},\"shapedefaults\":{\"fillcolor\":\"black\",\"line\":{\"width\":0},\"opacity\":0.3},\"ternary\":{\"aaxis\":{\"gridcolor\":\"rgb(232,232,232)\",\"linecolor\":\"rgb(36,36,36)\",\"showgrid\":false,\"showline\":true,\"ticks\":\"outside\"},\"baxis\":{\"gridcolor\":\"rgb(232,232,232)\",\"linecolor\":\"rgb(36,36,36)\",\"showgrid\":false,\"showline\":true,\"ticks\":\"outside\"},\"bgcolor\":\"white\",\"caxis\":{\"gridcolor\":\"rgb(232,232,232)\",\"linecolor\":\"rgb(36,36,36)\",\"showgrid\":false,\"showline\":true,\"ticks\":\"outside\"}},\"title\":{\"x\":0.05},\"xaxis\":{\"automargin\":true,\"gridcolor\":\"rgb(232,232,232)\",\"linecolor\":\"rgb(36,36,36)\",\"showgrid\":false,\"showline\":true,\"ticks\":\"outside\",\"title\":{\"standoff\":15},\"zeroline\":false,\"zerolinecolor\":\"rgb(36,36,36)\"},\"yaxis\":{\"automargin\":true,\"gridcolor\":\"rgb(232,232,232)\",\"linecolor\":\"rgb(36,36,36)\",\"showgrid\":false,\"showline\":true,\"ticks\":\"outside\",\"title\":{\"standoff\":15},\"zeroline\":false,\"zerolinecolor\":\"rgb(36,36,36)\"}}},\"xaxis\":{\"anchor\":\"y\",\"domain\":[0.0,0.2125],\"title\":{\"text\":\"\"},\"linewidth\":1.5},\"yaxis\":{\"anchor\":\"x\",\"domain\":[0.7777777777777778,1.0],\"title\":{\"text\":\"Percent (%)\"},\"linewidth\":1.5,\"matches\":\"y\"},\"xaxis2\":{\"anchor\":\"y2\",\"domain\":[0.2625,0.475],\"title\":{\"text\":\"\"},\"linewidth\":1.5},\"yaxis2\":{\"anchor\":\"x2\",\"domain\":[0.7777777777777778,1.0],\"matches\":\"y\",\"showticklabels\":false,\"title\":{\"text\":\"\"},\"linewidth\":1.5},\"xaxis3\":{\"anchor\":\"y3\",\"domain\":[0.525,0.7375],\"title\":{\"text\":\"\"},\"linewidth\":1.5},\"yaxis3\":{\"anchor\":\"x3\",\"domain\":[0.7777777777777778,1.0],\"matches\":\"y\",\"showticklabels\":false,\"title\":{\"text\":\"\"},\"linewidth\":1.5},\"xaxis4\":{\"anchor\":\"y4\",\"domain\":[0.7875,1.0],\"title\":{\"text\":\"\"},\"linewidth\":1.5},\"yaxis4\":{\"anchor\":\"x4\",\"domain\":[0.7777777777777778,1.0],\"matches\":\"y\",\"showticklabels\":false,\"title\":{\"text\":\"\"},\"linewidth\":1.5},\"xaxis5\":{\"anchor\":\"y5\",\"domain\":[0.0,0.2125],\"title\":{\"text\":\"\"},\"linewidth\":1.5},\"yaxis5\":{\"anchor\":\"x5\",\"domain\":[0.3888888888888889,0.6111111111111112],\"title\":{\"text\":\"Percent (%)\"},\"linewidth\":1.5,\"matches\":\"y\"},\"xaxis6\":{\"anchor\":\"y6\",\"domain\":[0.2625,0.475],\"title\":{\"text\":\"\"},\"linewidth\":1.5},\"yaxis6\":{\"anchor\":\"x6\",\"domain\":[0.3888888888888889,0.6111111111111112],\"matches\":\"y\",\"showticklabels\":false,\"title\":{\"text\":\"\"},\"linewidth\":1.5},\"xaxis7\":{\"anchor\":\"y7\",\"domain\":[0.525,0.7375],\"title\":{\"text\":\"\"},\"linewidth\":1.5},\"yaxis7\":{\"anchor\":\"x7\",\"domain\":[0.3888888888888889,0.6111111111111112],\"matches\":\"y\",\"showticklabels\":false,\"title\":{\"text\":\"\"},\"linewidth\":1.5},\"xaxis8\":{\"anchor\":\"y8\",\"domain\":[0.7875,1.0],\"title\":{\"text\":\"\"},\"linewidth\":1.5},\"yaxis8\":{\"anchor\":\"x8\",\"domain\":[0.3888888888888889,0.6111111111111112],\"matches\":\"y\",\"showticklabels\":false,\"title\":{\"text\":\"\"},\"linewidth\":1.5},\"xaxis9\":{\"anchor\":\"y9\",\"domain\":[0.0,0.2125],\"title\":{\"text\":\"\"},\"linewidth\":1.5},\"yaxis9\":{\"anchor\":\"x9\",\"domain\":[0.0,0.22222222222222224],\"title\":{\"text\":\"Percent (%)\"},\"linewidth\":1.5,\"matches\":\"y\"},\"xaxis10\":{\"anchor\":\"y10\",\"domain\":[0.2625,0.475],\"title\":{\"text\":\"\"},\"linewidth\":1.5},\"yaxis10\":{\"anchor\":\"x10\",\"domain\":[0.0,0.22222222222222224],\"matches\":\"y\",\"showticklabels\":false,\"title\":{\"text\":\"\"},\"linewidth\":1.5},\"xaxis11\":{\"anchor\":\"y11\",\"domain\":[0.525,0.7375],\"title\":{\"text\":\"\"},\"linewidth\":1.5},\"yaxis11\":{\"anchor\":\"x11\",\"domain\":[0.0,0.22222222222222224],\"matches\":\"y\",\"showticklabels\":false,\"title\":{\"text\":\"\"},\"linewidth\":1.5},\"xaxis12\":{\"anchor\":\"y12\",\"domain\":[0.7875,1.0],\"title\":{\"text\":\"\"},\"linewidth\":1.5},\"yaxis12\":{\"anchor\":\"x12\",\"domain\":[0.0,0.22222222222222224],\"matches\":\"y\",\"showticklabels\":false,\"title\":{\"text\":\"\"},\"linewidth\":1.5},\"annotations\":[{\"font\":{\"size\":22},\"showarrow\":false,\"text\":\"Day 1\",\"x\":0.10625,\"xanchor\":\"center\",\"xref\":\"paper\",\"y\":1.0,\"yanchor\":\"bottom\",\"yref\":\"paper\"},{\"font\":{\"size\":22},\"showarrow\":false,\"text\":\"Day 2\",\"x\":0.36875,\"xanchor\":\"center\",\"xref\":\"paper\",\"y\":1.0,\"yanchor\":\"bottom\",\"yref\":\"paper\"},{\"font\":{\"size\":22},\"showarrow\":false,\"text\":\"Day 3\",\"x\":0.6312500000000001,\"xanchor\":\"center\",\"xref\":\"paper\",\"y\":1.0,\"yanchor\":\"bottom\",\"yref\":\"paper\"},{\"font\":{\"size\":22},\"showarrow\":false,\"text\":\"Day 4\",\"x\":0.89375,\"xanchor\":\"center\",\"xref\":\"paper\",\"y\":1.0,\"yanchor\":\"bottom\",\"yref\":\"paper\"},{\"font\":{\"size\":22},\"showarrow\":false,\"text\":\"Day 5\",\"x\":0.10625,\"xanchor\":\"center\",\"xref\":\"paper\",\"y\":0.6111111111111112,\"yanchor\":\"bottom\",\"yref\":\"paper\"},{\"font\":{\"size\":22},\"showarrow\":false,\"text\":\"Day 6\",\"x\":0.36875,\"xanchor\":\"center\",\"xref\":\"paper\",\"y\":0.6111111111111112,\"yanchor\":\"bottom\",\"yref\":\"paper\"},{\"font\":{\"size\":22},\"showarrow\":false,\"text\":\"Day 7\",\"x\":0.6312500000000001,\"xanchor\":\"center\",\"xref\":\"paper\",\"y\":0.6111111111111112,\"yanchor\":\"bottom\",\"yref\":\"paper\"},{\"font\":{\"size\":22},\"showarrow\":false,\"text\":\"Day 8\",\"x\":0.89375,\"xanchor\":\"center\",\"xref\":\"paper\",\"y\":0.6111111111111112,\"yanchor\":\"bottom\",\"yref\":\"paper\"},{\"font\":{\"size\":22},\"showarrow\":false,\"text\":\"Day 9\",\"x\":0.10625,\"xanchor\":\"center\",\"xref\":\"paper\",\"y\":0.22222222222222224,\"yanchor\":\"bottom\",\"yref\":\"paper\"},{\"font\":{\"size\":22},\"showarrow\":false,\"text\":\"Day 10\",\"x\":0.36875,\"xanchor\":\"center\",\"xref\":\"paper\",\"y\":0.22222222222222224,\"yanchor\":\"bottom\",\"yref\":\"paper\"},{\"font\":{\"size\":22},\"showarrow\":false,\"text\":\"Day 11\",\"x\":0.6312500000000001,\"xanchor\":\"center\",\"xref\":\"paper\",\"y\":0.22222222222222224,\"yanchor\":\"bottom\",\"yref\":\"paper\"}],\"title\":{\"y\":0.9,\"x\":0.5,\"xanchor\":\"center\",\"yanchor\":\"top\"},\"font\":{\"size\":22,\"family\":\"Arial\"},\"height\":800,\"width\":800},                        {\"responsive\": true}                    ).then(function(){\n",
       "                            \n",
       "var gd = document.getElementById('4a94c644-16af-4474-b130-12326f31128b');\n",
       "var x = new MutationObserver(function (mutations, observer) {{\n",
       "        var display = window.getComputedStyle(gd).display;\n",
       "        if (!display || display === 'none') {{\n",
       "            console.log([gd, 'removed!']);\n",
       "            Plotly.purge(gd);\n",
       "            observer.disconnect();\n",
       "        }}\n",
       "}});\n",
       "\n",
       "// Listen for the removal of the full notebook cells\n",
       "var notebookContainer = gd.closest('#notebook-container');\n",
       "if (notebookContainer) {{\n",
       "    x.observe(notebookContainer, {childList: true});\n",
       "}}\n",
       "\n",
       "// Listen for the clearing of the current output cell\n",
       "var outputEl = gd.closest('.output');\n",
       "if (outputEl) {{\n",
       "    x.observe(outputEl, {childList: true});\n",
       "}}\n",
       "\n",
       "                        })                };                });            </script>        </div>"
      ]
     },
     "metadata": {},
     "output_type": "display_data"
    }
   ],
   "source": [
    "## Aged mice in A\n",
    "age_group = 'Aged'\n",
    "context = 'A'\n",
    "x_axis = ['RP', 'FP', 'BP', 'LP']\n",
    "young_licks = avg_licks[(avg_licks['group'] == age_group) & (avg_licks['session'] == context)]\n",
    "fig = pf.custom_graph_template(x_title='', y_title='', rows=3, columns=4, shared_y=True, height=800, width=800,\n",
    "                               titles=[f'Day {x}' for x in np.arange(1, young_licks.shape[0]+1)])\n",
    "for idx, day in enumerate(young_licks['context_day'].unique()):\n",
    "    if idx < 4:\n",
    "        row, col = 1, idx + 1\n",
    "    elif (idx >= 4) & (idx < 8):\n",
    "        row, col = 2, idx - 3\n",
    "    else:\n",
    "        row, col = 3, idx - 7\n",
    "\n",
    "    pdata = young_licks[young_licks['context_day'] == day]\n",
    "    y_data = [pdata['reward_ports']['mean'].values[0],\n",
    "              pdata['front_ports']['mean'].values[0],\n",
    "              pdata['back_ports']['mean'].values[0],\n",
    "              pdata['final_ports']['mean'].values[0]]\n",
    "    fig.add_trace(go.Bar(x=x_axis, y=y_data, showlegend=False, marker_color='red'), row=row, col=col)\n",
    "fig.update_yaxes(title='Percent (%)', col=1)\n",
    "fig.show()"
   ]
  }
 ],
 "metadata": {
  "kernelspec": {
   "display_name": "calcium",
   "language": "python",
   "name": "python3"
  },
  "language_info": {
   "codemirror_mode": {
    "name": "ipython",
    "version": 3
   },
   "file_extension": ".py",
   "mimetype": "text/x-python",
   "name": "python",
   "nbconvert_exporter": "python",
   "pygments_lexer": "ipython3",
   "version": "3.10.8"
  },
  "orig_nbformat": 4
 },
 "nbformat": 4,
 "nbformat_minor": 2
}
