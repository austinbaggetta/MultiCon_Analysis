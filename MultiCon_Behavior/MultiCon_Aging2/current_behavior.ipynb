{
 "cells": [
  {
   "cell_type": "code",
   "execution_count": 1,
   "metadata": {},
   "outputs": [
    {
     "name": "stderr",
     "output_type": "stream",
     "text": [
      "/home/austinbaggetta/.conda/envs/calcium/lib/python3.10/site-packages/outdated/utils.py:14: OutdatedPackageWarning: The package pingouin is out of date. Your version is 0.5.2, the latest is 0.5.4.\n",
      "Set the environment variable OUTDATED_IGNORE=1 to disable these warnings.\n",
      "  return warn(\n"
     ]
    }
   ],
   "source": [
    "%load_ext autoreload\n",
    "%autoreload 2\n",
    "import os\n",
    "import sys\n",
    "import numpy as np\n",
    "import pandas as pd\n",
    "import pingouin as pg\n",
    "import plotly.graph_objects as go\n",
    "from os.path import join as pjoin\n",
    "\n",
    "sys.path.append(\"../..\")\n",
    "import circletrack_behavior as ctb\n",
    "import plotting_functions as pf\n",
    "import place_cells as pc\n",
    "\n",
    "def set_groups(df): \n",
    "    df['group'] = df['mouse']\n",
    "    df['group'] = df['group'].replace({'mca24': 'Young Adult', 'mca25': 'Young Adult', 'mca26': 'Young Adult', 'mca27': 'Young Adult', \n",
    "                                       'mca28': 'Middle Age', 'mca29': 'Middle Age', 'mca30': 'Middle Age', 'mca31': 'Middle Age', \n",
    "                                       'mca32': 'Aged', 'mca33': 'Aged', 'mca34': 'Aged', 'mca35': 'Aged', \n",
    "                                       'mca36': 'Young Adult', 'mca37': 'Young Adult', 'mca38': 'Young Adult', 'mca39': 'Young Adult', \n",
    "                                       'mca40': 'Middle Age', 'mca41': 'Middle Age', 'mca42': 'Middle Age', 'mca43': 'Middle Age',\n",
    "                                       'mca44': 'Aged', 'mca45': 'Aged', 'mca46': 'Aged', 'mca47': 'Aged'})\n",
    "    return df"
   ]
  },
  {
   "attachments": {},
   "cell_type": "markdown",
   "metadata": {},
   "source": [
    "### The code below can be used to visualize results after each day."
   ]
  },
  {
   "cell_type": "code",
   "execution_count": null,
   "metadata": {},
   "outputs": [],
   "source": [
    "## Set path variables\n",
    "behavior_type = 'circletrack_data'\n",
    "csv_name = 'circle_track.csv'\n",
    "project_dir = 'MultiCon_Behavior'\n",
    "experiment_dir = 'MultiCon_Aging2'\n",
    "dpath = ''\n",
    "dpath = f'../../../{project_dir}/{experiment_dir}/{behavior_type}/data/**/**/**/{csv_name}'\n",
    "fig_path = (f'../../../{project_dir}/{experiment_dir}/intermediate_figures/')\n",
    "group_colors = ['red', 'midnightblue', 'darkgrey']\n",
    "group_colors_dict = {'Young Adult': 'darkgrey', 'Middle Age': 'midnightblue', 'Aged': 'red',\n",
    "                     'Young Adult Thresh3': 'turquoise', 'Young Adult Thresh5': 'midnightblue'}\n",
    "chance_color = 'darkgrey'\n",
    "\n",
    "if not os.path.exists(fig_path):\n",
    "    os.makedirs(fig_path)\n",
    "\n",
    "## Create file list dataframe\n",
    "file_list = ctb.get_file_list(dpath)\n",
    "mouse_id = []\n",
    "for file in file_list:\n",
    "    mouse_id.append(ctb.get_mouse(file, str2match='(mca[0-9]+)'))\n",
    "combined = ctb.combine(file_list, mouse_id)"
   ]
  },
  {
   "cell_type": "code",
   "execution_count": null,
   "metadata": {},
   "outputs": [],
   "source": [
    "lick_df = pd.DataFrame()\n",
    "for mouse in np.unique(mouse_id):\n",
    "    lick_data = ctb.get_lick_accuracy(combined, mouse)\n",
    "    lick_df = pd.concat([lick_df, lick_data], ignore_index=True)\n",
    "lick_df = set_groups(lick_df)\n",
    "## Lick accuracy plot\n",
    "fig = pf.plot_behavior_across_days(lick_df, x_var='day', y_var='percent_correct', groupby_var=['day', 'group'], plot_transitions=None,\n",
    "                                   marker_color=group_colors, avg_color='darkgrey', plot_datapoints=True,\n",
    "                                   x_title='Day', y_title='Lick Accuracy (%)', titles=['Circle Track: Lick Accuracy'], height=700, width=700)\n",
    "fig.show()\n",
    "# fig.write_image(pjoin(fig_path, 'lick_accuracy.png'))\n",
    "# lick_df.mixed_anova(dv='percent_correct', subject='mouse', within='day', between='group')"
   ]
  },
  {
   "cell_type": "code",
   "execution_count": null,
   "metadata": {},
   "outputs": [],
   "source": [
    "reward_df = pd.DataFrame()\n",
    "for mouse in np.unique(mouse_id):\n",
    "    reward_data = ctb.get_total_rewards(combined, mouse)\n",
    "    reward_df = pd.concat([reward_df, reward_data], ignore_index=True)\n",
    "reward_df = set_groups(reward_df)\n",
    "## Total rewards plot\n",
    "fig = pf.plot_behavior_across_days(reward_df, x_var='day', y_var='total_rewards', groupby_var=['day', 'group'], plot_transitions=None,\n",
    "                                   marker_color=group_colors, avg_color='darkgrey', expert_line=False, chance=False, plot_datapoints=True,\n",
    "                                   x_title='Day', y_title='Total Rewards', titles=['Circle Track: Rewards'], height=700, width=700)\n",
    "fig.show()\n",
    "# fig.write_image(pjoin(fig_path, 'total_rewards.png'))"
   ]
  },
  {
   "attachments": {},
   "cell_type": "markdown",
   "metadata": {},
   "source": [
    "### Set up run order for the day."
   ]
  },
  {
   "cell_type": "code",
   "execution_count": null,
   "metadata": {},
   "outputs": [],
   "source": [
    "day = 'Day 38' ## edit depending on day\n",
    "retired_mice = [] ## add retired mouse to this list\n",
    "maze_info = pd.read_csv(f'../../../{project_dir}/{experiment_dir}/maze_yml/maze_info.csv')\n",
    "todays_mazes = pd.read_csv(f'../../../{project_dir}/{experiment_dir}/maze_yml/{experiment_dir} - TodaysMazes.csv') ## download at end of the day\n",
    "run_dict = {'maze1': [], 'maze2': [], 'maze3': [], 'maze4': []}\n",
    "letter_dict = {'maze1': [], 'maze2': [], 'maze3': [], 'maze4': []}\n",
    "for mouse in np.unique(todays_mazes['Mouse']):\n",
    "    if mouse in retired_mice:\n",
    "        pass\n",
    "    else:\n",
    "        maze_letter = todays_mazes.loc[todays_mazes['Mouse'] == mouse, day].reset_index(drop=True)\n",
    "\n",
    "        if 'A' in maze_letter[0]:\n",
    "            maze_number = maze_info.loc[maze_info['Mouse'] == mouse, \"if 'A'\"].reset_index(drop=True)\n",
    "        elif 'B' in maze_letter[0]:\n",
    "            maze_number = maze_info.loc[maze_info['Mouse'] == mouse, \"if 'B'\"].reset_index(drop=True)\n",
    "        elif 'C' in maze_letter[0]:\n",
    "            maze_number = maze_info.loc[maze_info['Mouse'] == mouse, \"if 'C'\"].reset_index(drop=True)\n",
    "        elif 'D' in maze_letter[0]:\n",
    "            maze_number = maze_info.loc[maze_info['Mouse'] == mouse, \"if 'D'\"].reset_index(drop=True)\n",
    "\n",
    "        if maze_number[0] == 1:\n",
    "            run_dict['maze1'].append(mouse)\n",
    "            letter_dict['maze1'].append(maze_letter[0])\n",
    "        elif maze_number[0] == 2:\n",
    "            run_dict['maze2'].append(mouse)\n",
    "            letter_dict['maze2'].append(maze_letter[0])\n",
    "        elif maze_number[0] == 3:\n",
    "            run_dict['maze3'].append(mouse)\n",
    "            letter_dict['maze3'].append(maze_letter[0])\n",
    "        elif maze_number[0] == 4:\n",
    "            run_dict['maze4'].append(mouse)\n",
    "            letter_dict['maze4'].append(maze_letter[0])\n",
    "## Convert to dataframe to paste into excel         \n",
    "run_df = pd.DataFrame.from_dict(run_dict, orient='index').T \n",
    "letter_df = pd.DataFrame.from_dict(letter_dict, orient='index').T"
   ]
  },
  {
   "cell_type": "code",
   "execution_count": null,
   "metadata": {},
   "outputs": [],
   "source": [
    "run_df"
   ]
  },
  {
   "cell_type": "code",
   "execution_count": null,
   "metadata": {},
   "outputs": [],
   "source": [
    "letter_df"
   ]
  },
  {
   "cell_type": "markdown",
   "metadata": {},
   "source": [
    "### Analyze preprocessed behavior data."
   ]
  },
  {
   "cell_type": "code",
   "execution_count": 2,
   "metadata": {},
   "outputs": [],
   "source": [
    "## Settings\n",
    "project_dir = 'MultiCon_Behavior'\n",
    "experiment_dir = 'MultiCon_Aging2'\n",
    "lin_path = f'../../../{project_dir}/{experiment_dir}/output/lin_behav/'\n",
    "circle_path = f'../../../{project_dir}/{experiment_dir}/output/behav/'\n",
    "fig_path = f'../../../{project_dir}/{experiment_dir}/intermediate_figures'\n",
    "young_adult = [f'mca{x}' for x in np.arange(24, 28)] + [f'mca{x}' for x in np.arange(36, 40)]\n",
    "middle_aged = [f'mca{x}' for x in np.arange(28, 32)] + [f'mca{x}' for x in np.arange(40, 44)]\n",
    "aged = [f'mca{x}' for x in np.arange(32, 36)] + [f'mca{x}' for x in np.arange(44, 48)]\n",
    "three_color_plots = ['red', 'midnightblue', 'darkgrey']\n",
    "group_colors_dict = {'Young Adult': 'darkgrey', 'Middle Aged': 'midnightblue', 'Aged': 'red',\n",
    "                     'Young Adult Thresh1': 'darkgrey', 'Young Adult Thresh5': 'black',\n",
    "                     'Middle Aged Thresh1': 'turquoise', 'Middle Aged Thresh5': 'midnightblue',\n",
    "                     'Aged Thresh1': 'red', 'Aged Thresh5': 'darkred'}\n",
    "chance_color = 'darkgrey'\n",
    "bin_size = 4 ## for binning across trials\n",
    "error_colors = ['rgba(169,169,169,0.4)', 'rgba(169,169,169,0.4)', 'rgba(169,169,169,0.4)'] ## rgba is the only way to get the error band transparent\n",
    "opacity = 0.8 ## for binning across trials"
   ]
  },
  {
   "cell_type": "markdown",
   "metadata": {},
   "source": [
    "### Linear track results."
   ]
  },
  {
   "cell_type": "code",
   "execution_count": null,
   "metadata": {},
   "outputs": [],
   "source": [
    "## Linear track rewards\n",
    "result_dict = {'mouse': [], 'day': [], 'group': [], 'rewards': []}\n",
    "for mouse in os.listdir(lin_path):\n",
    "    mouse_path = pjoin(lin_path, mouse)\n",
    "    group = 'Young Adult' if mouse in young_adult else 'Middle Aged' if mouse in middle_aged else 'Aged'\n",
    "    for idx, session in enumerate(os.listdir(mouse_path)):\n",
    "        behav = pd.read_feather(pjoin(mouse_path, f'{session}'))\n",
    "        result_dict['mouse'].append(mouse)\n",
    "        result_dict['day'].append(idx+1)\n",
    "        result_dict['group'].append(group)\n",
    "        result_dict['rewards'].append(np.sum(behav['water']))\n",
    "results_df = pd.DataFrame(result_dict)"
   ]
  },
  {
   "cell_type": "code",
   "execution_count": null,
   "metadata": {},
   "outputs": [],
   "source": [
    "## Plot rewards across days in linear track\n",
    "fig = pf.plot_behavior_across_days(results_df, x_var='day', y_var='rewards', groupby_var=['day', 'group'], plot_transitions=None,\n",
    "                                   marker_color=three_color_plots, avg_color='darkgrey', expert_line=False, chance=False,\n",
    "                                   x_title='Day', y_title='Rewards', titles=['Linear Track'], height=500, width=500)\n",
    "fig.show()\n",
    "results_df.mixed_anova(dv='rewards', within='day', subject='mouse', between='group')\n",
    "fig.write_image(pjoin(fig_path, 'linear_track_rewards.png'))\n",
    "results_df.mixed_anova(dv='rewards', subject='mouse', within='day', between='group')"
   ]
  },
  {
   "cell_type": "markdown",
   "metadata": {},
   "source": [
    "### Analyze circle track lick accuracy."
   ]
  },
  {
   "cell_type": "code",
   "execution_count": null,
   "metadata": {},
   "outputs": [],
   "source": [
    "## Looking at first licks\n",
    "circletrack_results = {'mouse': [], 'day': [], 'group': [], 'session': [], 'lick_accuracy_thresh1': [], 'lick_accuracy_thresh5': [], 'rewards': []}\n",
    "for mouse in os.listdir(circle_path)[:-1]:\n",
    "    mouse_path = pjoin(circle_path, mouse)\n",
    "    group = 'Young Adult' if mouse in young_adult else 'Middle Aged' if mouse in middle_aged else 'Aged'\n",
    "    for idx, session in enumerate(os.listdir(mouse_path)):\n",
    "            behav = pd.read_feather(pjoin(mouse_path, f'{session}'))\n",
    "            behav_data = behav[~behav['probe']]\n",
    "            reward_one, reward_two = np.unique(behav['reward_one'])[0], np.unique(behav['reward_two'])[0]\n",
    "            pc_thresh1 = ctb.lick_accuracy(behav, port_one=reward_one, port_two=reward_two, lick_threshold=1, by_trials=False)\n",
    "            pc_thresh5 = ctb.lick_accuracy(behav, port_one=reward_one, port_two=reward_two, lick_threshold=5, by_trials=False)\n",
    "            circletrack_results['mouse'].append(mouse)\n",
    "            circletrack_results['day'].append(idx+1)\n",
    "            circletrack_results['group'].append(group)\n",
    "            circletrack_results['session'].append(np.unique(behav['session'])[0])\n",
    "            circletrack_results['lick_accuracy_thresh1'].append(pc_thresh1)\n",
    "            circletrack_results['lick_accuracy_thresh5'].append(pc_thresh5)\n",
    "            circletrack_results['rewards'].append(np.sum(behav_data['water']))\n",
    "ct_df = pd.DataFrame(circletrack_results)"
   ]
  },
  {
   "cell_type": "code",
   "execution_count": null,
   "metadata": {},
   "outputs": [],
   "source": [
    "## Plot lick accuracy across days for thresh of 1\n",
    "fig = pf.plot_behavior_across_days(ct_df, x_var='day', y_var='lick_accuracy_thresh1', groupby_var=['day', 'group'], plot_transitions=None,\n",
    "                                   marker_color=three_color_plots, avg_color='darkgrey', expert_line=True, chance=True,\n",
    "                                   x_title='Day', y_title='Lick Accuracy', titles=['Circle Track'], height=500, width=500)\n",
    "fig.update_yaxes(range=[0, 100], dtick=25)\n",
    "fig.show()\n",
    "fig.write_image(pjoin(fig_path, 'lick_accuracy_thresh1.png'))\n",
    "ct_df.mixed_anova(dv='lick_accuracy_thresh1', within='day', subject='mouse', between='group')"
   ]
  },
  {
   "cell_type": "code",
   "execution_count": null,
   "metadata": {},
   "outputs": [],
   "source": [
    "## Plot lick accuracy across days for thresh of 5\n",
    "fig = pf.plot_behavior_across_days(ct_df, x_var='day', y_var='lick_accuracy_thresh5', groupby_var=['day', 'group'], plot_transitions=None,\n",
    "                                   marker_color=three_color_plots, avg_color='darkgrey', expert_line=True, chance=True,\n",
    "                                   x_title='Day', y_title='Lick Accuracy', titles=['Circle Track'], height=500, width=500)\n",
    "fig.update_yaxes(range=[0, 100], dtick=25)\n",
    "fig.show()\n",
    "fig.write_image(pjoin(fig_path, 'lick_accuracy_thresh5.png'))\n",
    "ct_df.mixed_anova(dv='lick_accuracy_thresh5', within='day', subject='mouse', between='group')"
   ]
  },
  {
   "cell_type": "code",
   "execution_count": null,
   "metadata": {},
   "outputs": [],
   "source": [
    "## Look at lick accuracy just when a mouse is in A.\n",
    "y_var = 'lick_accuracy_thresh5'\n",
    "a_data = ct_df[ct_df['session'] == 'A']\n",
    "fig = pf.plot_behavior_across_days(a_data, x_var='day', y_var=y_var, groupby_var=['day', 'group'], plot_transitions=None,\n",
    "                                   marker_color=three_color_plots, avg_color='darkgrey', expert_line=False, chance=True, plot_datapoints=False,\n",
    "                                   x_title='Day', y_title='Lick Accuracy', titles=['Circle Track'], height=500, width=500)\n",
    "fig.update_yaxes(range=[0, 100], dtick=25)\n",
    "fig.show()\n",
    "fig.write_image(pjoin(fig_path, f'{y_var}_in_A.png'))\n",
    "a_data.mixed_anova(dv=y_var, within='day', subject='mouse', between='group')"
   ]
  },
  {
   "cell_type": "code",
   "execution_count": null,
   "metadata": {},
   "outputs": [],
   "source": [
    "## Look at lick accuracy just when a mouse is in A.\n",
    "y_var = 'rewards'\n",
    "a_data = ct_df[ct_df['session'] == 'A']\n",
    "fig = pf.plot_behavior_across_days(a_data, x_var='day', y_var=y_var, groupby_var=['day', 'group'], plot_transitions=None,\n",
    "                                   marker_color=three_color_plots, avg_color='darkgrey', expert_line=False, chance=True, plot_datapoints=False,\n",
    "                                   x_title='Day', y_title='Rewards', titles=['Circle Track'], height=500, width=500)\n",
    "fig.update_yaxes(dtick=25)\n",
    "fig.show()\n",
    "fig.write_image(pjoin(fig_path, f'{y_var}_in_A.png'))\n",
    "a_data.mixed_anova(dv=y_var, within='day', subject='mouse', between='group')"
   ]
  },
  {
   "cell_type": "markdown",
   "metadata": {},
   "source": [
    "### Look at trial by trial differences in lick accuracy for the first or fifth lick."
   ]
  },
  {
   "cell_type": "code",
   "execution_count": null,
   "metadata": {},
   "outputs": [],
   "source": [
    "## Calculate for lick accuracy across trials\n",
    "data = {'mouse': [], 'day': [], 'context_day': [], 'group': [], 'trial_acc_1': [], 'trial_acc_5': []}\n",
    "for mouse in os.listdir(circle_path)[:-1]:\n",
    "    mouse_path = pjoin(circle_path, mouse)\n",
    "    group = 'Young Adult' if mouse in young_adult else 'Middle Aged' if mouse in middle_aged else 'Aged'\n",
    "    day_counter = 1\n",
    "    session_id = np.nan\n",
    "    for idx, session in enumerate(os.listdir(mouse_path)):\n",
    "        behav_data = pd.read_feather(pjoin(mouse_path, f'{session}'))\n",
    "        reward_one, reward_two = np.unique(behav_data['reward_one'])[0], np.unique(behav_data['reward_two'])[0]\n",
    "        pc_1 = ctb.lick_accuracy(behav_data, reward_one, reward_two, lick_threshold=1, by_trials=True)\n",
    "        pc_5 = ctb.lick_accuracy(behav_data, reward_one, reward_two, lick_threshold=5, by_trials=True)\n",
    "        binned_pc_1 = ctb.bin_data(pc_1, bin_size=bin_size)\n",
    "        binned_pc_5 = ctb.bin_data(pc_5, bin_size=bin_size)\n",
    "        data['mouse'].append(mouse)\n",
    "        data['day'].append(idx+1)\n",
    "        data['group'].append(group)\n",
    "        data['trial_acc_1'].append(binned_pc_1)\n",
    "        data['trial_acc_5'].append(binned_pc_5)\n",
    "\n",
    "        if np.unique(behav['session'])[0] != session_id:\n",
    "            day_counter = 1\n",
    "            session_id = np.unique(behav['session'])[0]\n",
    "            circletrack_results['context_day'].append(day_counter)\n",
    "        else:\n",
    "            day_counter += 1\n",
    "            session_id = np.unique(behav['session'])[0]\n",
    "            circletrack_results['context_day'].append(day_counter)\n",
    "trial_acc = pd.DataFrame(data)"
   ]
  },
  {
   "cell_type": "code",
   "execution_count": null,
   "metadata": {},
   "outputs": [],
   "source": [
    "group_data = {'Young Adult': [], 'Middle Aged': [], 'Aged': [], 'day': []}\n",
    "for day in np.unique(trial_acc['day']):\n",
    "    group_data['Young Adult'].append(np.nanmean(trial_acc['trial_acc_1'][(trial_acc['group'] == 'Young Adult') & (trial_acc['day'] == day)].apply(pd.Series), axis=0))\n",
    "    group_data['Middle Aged'].append(np.nanmean(trial_acc['trial_acc_1'][(trial_acc['group'] == 'Middle Aged') & (trial_acc['day'] == day)].apply(pd.Series), axis=0))\n",
    "    group_data['Aged'].append(np.nanmean(trial_acc['trial_acc_1'][(trial_acc['group'] == 'Aged') & (trial_acc['day'] == day)].apply(pd.Series), axis=0))\n",
    "    group_data['Young Adult'].append(np.nanstd(trial_acc['trial_acc_1'][(trial_acc['group'] == 'Young Adult') & (trial_acc['day'] == day)].apply(pd.Series), axis=0, ddof=1) / np.sqrt(len(trial_acc['trial_acc_1'][(trial_acc['group'] == 'Young Adult') & (trial_acc['day'] == day)].apply(pd.Series))))\n",
    "    group_data['Middle Aged'].append(np.nanstd(trial_acc['trial_acc_1'][(trial_acc['group'] == 'Middle Aged') & (trial_acc['day'] == day)].apply(pd.Series), axis=0, ddof=1) / np.sqrt(len(trial_acc['trial_acc_1'][(trial_acc['group'] == 'Middle Aged') & (trial_acc['day'] == day)].apply(pd.Series))))\n",
    "    group_data['Aged'].append(np.std(trial_acc['trial_acc_1'][(trial_acc['group'] == 'Aged') & (trial_acc['day'] == day)].apply(pd.Series), axis=0, ddof=1) / np.sqrt(len(trial_acc['trial_acc_1'][(trial_acc['group'] == 'Aged') & (trial_acc['day'] == day)].apply(pd.Series))))\n",
    "    group_data['day'].append(day)\n",
    "    group_data['day'].append(day)\n",
    "group_df = pd.DataFrame(group_data)"
   ]
  },
  {
   "cell_type": "code",
   "execution_count": null,
   "metadata": {},
   "outputs": [],
   "source": [
    "## For lick accuracy first lick\n",
    "only_min_trials = False\n",
    "fig = pf.custom_graph_template(x_title='', y_title='', height=800, width=1200,\n",
    "                               rows=2, columns=6, shared_x=True, shared_y=True,\n",
    "                               titles=[f'Day {x}' for x in np.arange(1, len(np.unique(group_df['day']))+1)])\n",
    "for idx, day in enumerate(np.unique(group_df['day'])):\n",
    "    plot_data = group_df[group_df['day'] == day]\n",
    "\n",
    "    if only_min_trials:\n",
    "        trial_lengths = []\n",
    "        for group in plot_data.columns[:-1]:\n",
    "            trial_lengths.append(len(plot_data.loc[:, group].values[0]))\n",
    "        min_trials = np.min(trial_lengths)\n",
    "    else:\n",
    "        min_trials = -1\n",
    "    \n",
    "    for ind, group in enumerate(plot_data.columns[:-1]):\n",
    "        group_data = plot_data.loc[:, group].values[0][:min_trials]\n",
    "        upper = plot_data.loc[:, group].values[0][:min_trials] + plot_data.loc[:, group].values[1][:min_trials]\n",
    "        lower = plot_data.loc[:, group].values[0][:min_trials] - plot_data.loc[:, group].values[1][:min_trials]\n",
    "        x_data = np.arange(1, len(group_data)+1) * bin_size\n",
    "        if idx < 6:\n",
    "            row, col = 1, idx + 1\n",
    "        elif (idx >= 6) & (idx < 12):\n",
    "            row, col = 2, idx - 5\n",
    "        else:\n",
    "            row, col = 3, idx - 11\n",
    "        fig.add_trace(go.Scatter(x=x_data, y=group_data, mode='lines', opacity=opacity,\n",
    "                                line_color=group_colors_dict[group], showlegend=False,\n",
    "                                legendgroup=group, name=group), row=row, col=col)\n",
    "        fig.add_trace(go.Scatter(name='Upper Bound', x=x_data, y=upper, mode='lines',\n",
    "                                 marker=dict(color=error_colors[ind]), line=dict(width=0), showlegend=False, \n",
    "                                 legendgroup=group), row=row, col=col)\n",
    "        fig.add_trace(go.Scatter(name='Lower Bound', x=x_data, y=lower, marker=dict(color=error_colors[ind]),\n",
    "                                 line=dict(width=0), mode='lines', fillcolor=error_colors[ind], fill='tonexty', \n",
    "                                 showlegend=False, legendgroup=group), row=row, col=col)\n",
    "fig.add_hline(y=75, line_width=1, line_dash='dash', line_color=chance_color, opacity=1)\n",
    "fig.add_hline(y=25, line_width=1, line_dash='dash', line_color=chance_color, opacity=1)\n",
    "fig.update_yaxes(title='Lick Accuracy', range=[0, 100], dtick=25, col=1)\n",
    "fig.update_xaxes(title='Trial', row=2)\n",
    "fig.show()\n",
    "if only_min_trials:\n",
    "    fig.write_image(pjoin(fig_path, 'lick_acc_min_trials_across_groups.png'))\n",
    "else:\n",
    "    fig.write_image(pjoin(fig_path, 'lick_acc_across_groups.png'))"
   ]
  },
  {
   "cell_type": "code",
   "execution_count": null,
   "metadata": {},
   "outputs": [],
   "source": [
    "group_data = {'Young Adult': [], 'Middle Aged': [], 'Aged': [], 'day': []}\n",
    "for day in np.unique(trial_acc['day']):\n",
    "    group_data['Young Adult'].append(np.nanmean(trial_acc['trial_acc_5'][(trial_acc['group'] == 'Young Adult') & (trial_acc['day'] == day)].apply(pd.Series), axis=0))\n",
    "    group_data['Middle Aged'].append(np.nanmean(trial_acc['trial_acc_5'][(trial_acc['group'] == 'Middle Aged') & (trial_acc['day'] == day)].apply(pd.Series), axis=0))\n",
    "    group_data['Aged'].append(np.nanmean(trial_acc['trial_acc_5'][(trial_acc['group'] == 'Aged') & (trial_acc['day'] == day)].apply(pd.Series), axis=0))\n",
    "    group_data['Young Adult'].append(np.std(trial_acc['trial_acc_5'][(trial_acc['group'] == 'Young Adult') & (trial_acc['day'] == day)].apply(pd.Series), axis=0, ddof=1).to_numpy() / np.sqrt(len(trial_acc['trial_acc_5'][(trial_acc['group'] == 'Young Adult') & (trial_acc['day'] == day)].apply(pd.Series))))\n",
    "    group_data['Middle Aged'].append(np.std(trial_acc['trial_acc_5'][(trial_acc['group'] == 'Middle Aged') & (trial_acc['day'] == day)].apply(pd.Series), axis=0, ddof=1).to_numpy() / np.sqrt(len(trial_acc['trial_acc_5'][(trial_acc['group'] == 'Middle Aged') & (trial_acc['day'] == day)].apply(pd.Series))))\n",
    "    group_data['Aged'].append(np.std(trial_acc['trial_acc_5'][(trial_acc['group'] == 'Aged') & (trial_acc['day'] == day)].apply(pd.Series), axis=0, ddof=1).to_numpy() / np.sqrt(len(trial_acc['trial_acc_5'][(trial_acc['group'] == 'Aged') & (trial_acc['day'] == day)].apply(pd.Series))))\n",
    "    group_data['day'].append(day)\n",
    "    group_data['day'].append(day)\n",
    "group_df_five = pd.DataFrame(group_data)"
   ]
  },
  {
   "cell_type": "code",
   "execution_count": null,
   "metadata": {},
   "outputs": [],
   "source": [
    "## For lick accuracy fifth lick\n",
    "only_min_trials = False\n",
    "fig = pf.custom_graph_template(x_title='', y_title='', height=800, width=1200,\n",
    "                               rows=3, columns=6, shared_x=True, shared_y=True,\n",
    "                               titles=[f'Day {x}' for x in np.arange(1, len(np.unique(group_df_five['day']))+1)])\n",
    "for idx, day in enumerate(np.unique(group_df_five['day'])):\n",
    "    plot_data = group_df_five[group_df_five['day'] == day]\n",
    "\n",
    "    if only_min_trials:\n",
    "        trial_lengths = []\n",
    "        for group in plot_data.columns[:-1]:\n",
    "            trial_lengths.append(len(plot_data.loc[:, group].values[0]))\n",
    "        min_trials = np.min(trial_lengths)\n",
    "    else:\n",
    "        min_trials = -1\n",
    "    \n",
    "    for ind, group in enumerate(plot_data.columns[:-1]):\n",
    "        group_data = plot_data.loc[:, group].values[0][:min_trials]\n",
    "        upper = plot_data.loc[:, group].values[0][:min_trials] + plot_data.loc[:, group].values[1][:min_trials]\n",
    "        lower = plot_data.loc[:, group].values[0][:min_trials] - plot_data.loc[:, group].values[1][:min_trials]\n",
    "        x_data = np.arange(1, len(group_data)+1) * bin_size\n",
    "        if idx < 6:\n",
    "            row, col = 1, idx + 1\n",
    "        elif (idx >= 6) & (idx < 12):\n",
    "            row, col = 2, idx - 5\n",
    "        else:\n",
    "            row, col = 3, idx - 11\n",
    "        fig.add_trace(go.Scatter(x=x_data, y=group_data, mode='lines', opacity=opacity,\n",
    "                                line_color=group_colors_dict[group], showlegend=False,\n",
    "                                legendgroup=group, name=group), row=row, col=col)\n",
    "        fig.add_trace(go.Scatter(name='Upper Bound', x=x_data, y=upper, mode='lines',\n",
    "                                 marker=dict(color=error_colors[ind]), line=dict(width=0), showlegend=False, \n",
    "                                 legendgroup=group), row=row, col=col)\n",
    "        fig.add_trace(go.Scatter(name='Lower Bound', x=x_data, y=lower, marker=dict(color=error_colors[ind]),\n",
    "                                 line=dict(width=0), mode='lines', fillcolor=error_colors[ind], fill='tonexty', \n",
    "                                 showlegend=False, legendgroup=group), row=row, col=col)\n",
    "fig.add_hline(y=75, line_width=1, line_dash='dash', line_color=chance_color, opacity=1)\n",
    "fig.add_hline(y=25, line_width=1, line_dash='dash', line_color=chance_color, opacity=1)\n",
    "fig.update_yaxes(title='Lick Accuracy', range=[0, 100], dtick=25, col=1)\n",
    "fig.update_xaxes(title='Trial', row=3)\n",
    "fig.show()\n",
    "# if only_min_trials:\n",
    "#     fig.write_image(pjoin(fig_path, 'lick_acc_min_trials_across_groups.png'))\n",
    "# else:\n",
    "#     fig.write_image(pjoin(fig_path, 'lick_acc_across_groups.png'))"
   ]
  },
  {
   "cell_type": "markdown",
   "metadata": {},
   "source": [
    "### Look at trial by trial changes in lick accuracy comparing threshold 1 vs 5 for each group."
   ]
  },
  {
   "cell_type": "code",
   "execution_count": null,
   "metadata": {},
   "outputs": [],
   "source": [
    "group_of_interest = 'Young Adult'\n",
    "group_data = {'Young Adult Thresh1': [], 'Young Adult Thresh5': [], 'day': []}\n",
    "for day in np.unique(trial_acc['day']):\n",
    "    group_data['Young Adult Thresh1'].append(np.nanmean(trial_acc['trial_acc_1'][(trial_acc['group'] == group_of_interest) & (trial_acc['day'] == day)].apply(pd.Series), axis=0))\n",
    "    group_data['Young Adult Thresh5'].append(np.nanmean(trial_acc['trial_acc_5'][(trial_acc['group'] == group_of_interest) & (trial_acc['day'] == day)].apply(pd.Series), axis=0))\n",
    "    group_data['Young Adult Thresh1'].append(np.std(trial_acc['trial_acc_1'][(trial_acc['group'] == group_of_interest) & (trial_acc['day'] == day)].apply(pd.Series), axis=0, ddof=1).to_numpy() / np.sqrt(len(trial_acc['trial_acc_1'][(trial_acc['group'] == group_of_interest) & (trial_acc['day'] == day)].apply(pd.Series))))\n",
    "    group_data['Young Adult Thresh5'].append(np.std(trial_acc['trial_acc_5'][(trial_acc['group'] == group_of_interest) & (trial_acc['day'] == day)].apply(pd.Series), axis=0, ddof=1).to_numpy() / np.sqrt(len(trial_acc['trial_acc_5'][(trial_acc['group'] == group_of_interest) & (trial_acc['day'] == day)].apply(pd.Series))))\n",
    "    group_data['day'].append(day)\n",
    "    group_data['day'].append(day)\n",
    "young_df = pd.DataFrame(group_data)"
   ]
  },
  {
   "cell_type": "code",
   "execution_count": null,
   "metadata": {},
   "outputs": [],
   "source": [
    "## For lick accuracy fifth lick\n",
    "only_min_trials = False\n",
    "fig = pf.custom_graph_template(x_title='', y_title='', height=800, width=1200,\n",
    "                               rows=3, columns=6, shared_x=True, shared_y=True,\n",
    "                               titles=[f'Day {x}' for x in np.arange(1, len(np.unique(young_df['day']))+1)])\n",
    "for idx, day in enumerate(np.unique(young_df['day'])):\n",
    "    plot_data = young_df[young_df['day'] == day]\n",
    "\n",
    "    if only_min_trials:\n",
    "        trial_lengths = []\n",
    "        for group in plot_data.columns[:-1]:\n",
    "            trial_lengths.append(len(plot_data.loc[:, group].values[0]))\n",
    "        min_trials = np.min(trial_lengths)\n",
    "    else:\n",
    "        min_trials = -1\n",
    "    \n",
    "    for ind, group in enumerate(plot_data.columns[:-1]):\n",
    "        group_data = plot_data.loc[:, group].values[0][:min_trials]\n",
    "        upper = plot_data.loc[:, group].values[0][:min_trials] + plot_data.loc[:, group].values[1][:min_trials]\n",
    "        lower = plot_data.loc[:, group].values[0][:min_trials] - plot_data.loc[:, group].values[1][:min_trials]\n",
    "        x_data = np.arange(1, len(group_data)+1) * bin_size\n",
    "        if idx < 6:\n",
    "            row, col = 1, idx + 1\n",
    "        elif (idx >= 6) & (idx < 12):\n",
    "            row, col = 2, idx - 5\n",
    "        else:\n",
    "            row, col = 3, idx - 11\n",
    "        fig.add_trace(go.Scatter(x=x_data, y=group_data, mode='lines', opacity=opacity,\n",
    "                                line_color=group_colors_dict[group], showlegend=False,\n",
    "                                legendgroup=group, name=group), row=row, col=col)\n",
    "        fig.add_trace(go.Scatter(name='Upper Bound', x=x_data, y=upper, mode='lines',\n",
    "                                 marker=dict(color=error_colors[ind]), line=dict(width=0), showlegend=False, \n",
    "                                 legendgroup=group), row=row, col=col)\n",
    "        fig.add_trace(go.Scatter(name='Lower Bound', x=x_data, y=lower, marker=dict(color=error_colors[ind]),\n",
    "                                 line=dict(width=0), mode='lines', fillcolor=error_colors[ind], fill='tonexty', \n",
    "                                 showlegend=False, legendgroup=group), row=row, col=col)\n",
    "fig.add_hline(y=75, line_width=1, line_dash='dash', line_color=chance_color, opacity=1)\n",
    "fig.add_hline(y=25, line_width=1, line_dash='dash', line_color=chance_color, opacity=1)\n",
    "fig.update_yaxes(title='Lick Accuracy', range=[0, 100], dtick=25, col=1)\n",
    "fig.update_xaxes(title='Trial', row=3)\n",
    "fig.show()\n",
    "if only_min_trials:\n",
    "    fig.write_image(pjoin(fig_path, 'lick_acc_min_trials_young.png'))\n",
    "else:\n",
    "    fig.write_image(pjoin(fig_path, 'lick_acc_across_young.png'))"
   ]
  },
  {
   "cell_type": "code",
   "execution_count": null,
   "metadata": {},
   "outputs": [],
   "source": [
    "group_of_interest = 'Middle Aged'\n",
    "group_data = {'Middle Aged Thresh1': [], 'Middle Aged Thresh5': [], 'day': []}\n",
    "for day in np.unique(trial_acc['day']):\n",
    "    group_data['Middle Aged Thresh1'].append(np.nanmean(trial_acc['trial_acc_1'][(trial_acc['group'] == group_of_interest) & (trial_acc['day'] == day)].apply(pd.Series), axis=0))\n",
    "    group_data['Middle Aged Thresh5'].append(np.nanmean(trial_acc['trial_acc_5'][(trial_acc['group'] == group_of_interest) & (trial_acc['day'] == day)].apply(pd.Series), axis=0))\n",
    "    group_data['Middle Aged Thresh1'].append(np.std(trial_acc['trial_acc_1'][(trial_acc['group'] == group_of_interest) & (trial_acc['day'] == day)].apply(pd.Series), axis=0, ddof=1).to_numpy() / np.sqrt(len(trial_acc['trial_acc_1'][(trial_acc['group'] == group_of_interest) & (trial_acc['day'] == day)].apply(pd.Series))))\n",
    "    group_data['Middle Aged Thresh5'].append(np.std(trial_acc['trial_acc_5'][(trial_acc['group'] == group_of_interest) & (trial_acc['day'] == day)].apply(pd.Series), axis=0, ddof=1).to_numpy() / np.sqrt(len(trial_acc['trial_acc_5'][(trial_acc['group'] == group_of_interest) & (trial_acc['day'] == day)].apply(pd.Series))))\n",
    "    group_data['day'].append(day)\n",
    "    group_data['day'].append(day)\n",
    "middle_aged_df = pd.DataFrame(group_data)"
   ]
  },
  {
   "cell_type": "code",
   "execution_count": null,
   "metadata": {},
   "outputs": [],
   "source": [
    "## For lick accuracy fifth lick\n",
    "only_min_trials = False\n",
    "fig = pf.custom_graph_template(x_title='', y_title='', height=800, width=1200,\n",
    "                               rows=3, columns=6, shared_x=True, shared_y=True,\n",
    "                               titles=[f'Day {x}' for x in np.arange(1, len(np.unique(middle_aged_df['day']))+1)])\n",
    "for idx, day in enumerate(np.unique(middle_aged_df['day'])):\n",
    "    plot_data = middle_aged_df[middle_aged_df['day'] == day]\n",
    "\n",
    "    if only_min_trials:\n",
    "        trial_lengths = []\n",
    "        for group in plot_data.columns[:-1]:\n",
    "            trial_lengths.append(len(plot_data.loc[:, group].values[0]))\n",
    "        min_trials = np.min(trial_lengths)\n",
    "    else:\n",
    "        min_trials = -1\n",
    "    \n",
    "    for ind, group in enumerate(plot_data.columns[:-1]):\n",
    "        group_data = plot_data.loc[:, group].values[0][:min_trials]\n",
    "        upper = plot_data.loc[:, group].values[0][:min_trials] + plot_data.loc[:, group].values[1][:min_trials]\n",
    "        lower = plot_data.loc[:, group].values[0][:min_trials] - plot_data.loc[:, group].values[1][:min_trials]\n",
    "        x_data = np.arange(1, len(group_data)+1) * bin_size\n",
    "        if idx < 6:\n",
    "            row, col = 1, idx + 1\n",
    "        elif (idx >= 6) & (idx < 12):\n",
    "            row, col = 2, idx - 5\n",
    "        else:\n",
    "            row, col = 3, idx - 11\n",
    "        fig.add_trace(go.Scatter(x=x_data, y=group_data, mode='lines', opacity=opacity,\n",
    "                                line_color=group_colors_dict[group], showlegend=False,\n",
    "                                legendgroup=group, name=group), row=row, col=col)\n",
    "        fig.add_trace(go.Scatter(name='Upper Bound', x=x_data, y=upper, mode='lines',\n",
    "                                 marker=dict(color=error_colors[ind]), line=dict(width=0), showlegend=False, \n",
    "                                 legendgroup=group), row=row, col=col)\n",
    "        fig.add_trace(go.Scatter(name='Lower Bound', x=x_data, y=lower, marker=dict(color=error_colors[ind]),\n",
    "                                 line=dict(width=0), mode='lines', fillcolor=error_colors[ind], fill='tonexty', \n",
    "                                 showlegend=False, legendgroup=group), row=row, col=col)\n",
    "fig.add_hline(y=75, line_width=1, line_dash='dash', line_color=chance_color, opacity=1)\n",
    "fig.add_hline(y=25, line_width=1, line_dash='dash', line_color=chance_color, opacity=1)\n",
    "fig.update_yaxes(title='Lick Accuracy', range=[0, 100], dtick=25, col=1)\n",
    "fig.update_xaxes(title='Trial', row=3)\n",
    "fig.show()\n",
    "if only_min_trials:\n",
    "    fig.write_image(pjoin(fig_path, 'lick_acc_min_trials_middle_aged.png'))\n",
    "else:\n",
    "    fig.write_image(pjoin(fig_path, 'lick_acc_across_middle_aged.png'))"
   ]
  },
  {
   "cell_type": "code",
   "execution_count": null,
   "metadata": {},
   "outputs": [],
   "source": [
    "group_of_interest = 'Aged'\n",
    "group_data = {'Aged Thresh1': [], 'Aged Thresh5': [], 'day': []}\n",
    "for day in np.unique(trial_acc['day']):\n",
    "    group_data['Aged Thresh1'].append(np.nanmean(trial_acc['trial_acc_1'][(trial_acc['group'] == group_of_interest) & (trial_acc['day'] == day)].apply(pd.Series), axis=0))\n",
    "    group_data['Aged Thresh5'].append(np.nanmean(trial_acc['trial_acc_5'][(trial_acc['group'] == group_of_interest) & (trial_acc['day'] == day)].apply(pd.Series), axis=0))\n",
    "    group_data['Aged Thresh1'].append(np.std(trial_acc['trial_acc_1'][(trial_acc['group'] == group_of_interest) & (trial_acc['day'] == day)].apply(pd.Series), axis=0, ddof=1).to_numpy() / np.sqrt(len(trial_acc['trial_acc_1'][(trial_acc['group'] == group_of_interest) & (trial_acc['day'] == day)].apply(pd.Series))))\n",
    "    group_data['Aged Thresh5'].append(np.std(trial_acc['trial_acc_5'][(trial_acc['group'] == group_of_interest) & (trial_acc['day'] == day)].apply(pd.Series), axis=0, ddof=1).to_numpy() / np.sqrt(len(trial_acc['trial_acc_5'][(trial_acc['group'] == group_of_interest) & (trial_acc['day'] == day)].apply(pd.Series))))\n",
    "    group_data['day'].append(day)\n",
    "    group_data['day'].append(day)\n",
    "aged_df = pd.DataFrame(group_data)"
   ]
  },
  {
   "cell_type": "code",
   "execution_count": null,
   "metadata": {},
   "outputs": [],
   "source": [
    "## For lick accuracy fifth lick\n",
    "only_min_trials = False\n",
    "fig = pf.custom_graph_template(x_title='', y_title='', height=800, width=1200,\n",
    "                               rows=3, columns=6, shared_x=True, shared_y=True,\n",
    "                               titles=[f'Day {x}' for x in np.arange(1, len(np.unique(aged_df['day']))+1)])\n",
    "for idx, day in enumerate(np.unique(aged_df['day'])):\n",
    "    plot_data = aged_df[aged_df['day'] == day]\n",
    "\n",
    "    if only_min_trials:\n",
    "        trial_lengths = []\n",
    "        for group in plot_data.columns[:-1]:\n",
    "            trial_lengths.append(len(plot_data.loc[:, group].values[0]))\n",
    "        min_trials = np.min(trial_lengths)\n",
    "    else:\n",
    "        min_trials = -1\n",
    "    \n",
    "    for ind, group in enumerate(plot_data.columns[:-1]):\n",
    "        group_data = plot_data.loc[:, group].values[0][:min_trials]\n",
    "        upper = plot_data.loc[:, group].values[0][:min_trials] + plot_data.loc[:, group].values[1][:min_trials]\n",
    "        lower = plot_data.loc[:, group].values[0][:min_trials] - plot_data.loc[:, group].values[1][:min_trials]\n",
    "        x_data = np.arange(1, len(group_data)+1) * bin_size\n",
    "        if idx < 6:\n",
    "            row, col = 1, idx + 1\n",
    "        elif (idx >= 6) & (idx < 12):\n",
    "            row, col = 2, idx - 5\n",
    "        else:\n",
    "            row, col = 3, idx - 11\n",
    "        fig.add_trace(go.Scatter(x=x_data, y=group_data, mode='lines', opacity=opacity,\n",
    "                                line_color=group_colors_dict[group], showlegend=False,\n",
    "                                legendgroup=group, name=group), row=row, col=col)\n",
    "        fig.add_trace(go.Scatter(name='Upper Bound', x=x_data, y=upper, mode='lines',\n",
    "                                 marker=dict(color=error_colors[ind]), line=dict(width=0), showlegend=False, \n",
    "                                 legendgroup=group), row=row, col=col)\n",
    "        fig.add_trace(go.Scatter(name='Lower Bound', x=x_data, y=lower, marker=dict(color=error_colors[ind]),\n",
    "                                 line=dict(width=0), mode='lines', fillcolor=error_colors[ind], fill='tonexty', \n",
    "                                 showlegend=False, legendgroup=group), row=row, col=col)\n",
    "fig.add_hline(y=75, line_width=1, line_dash='dash', line_color=chance_color, opacity=1)\n",
    "fig.add_hline(y=25, line_width=1, line_dash='dash', line_color=chance_color, opacity=1)\n",
    "fig.update_yaxes(title='Lick Accuracy', range=[0, 100], dtick=25, col=1)\n",
    "fig.update_xaxes(title='Trial', row=3)\n",
    "fig.show()\n",
    "if only_min_trials:\n",
    "    fig.write_image(pjoin(fig_path, 'lick_acc_min_trials_aged.png'))\n",
    "else:\n",
    "    fig.write_image(pjoin(fig_path, 'lick_acc_across_aged.png'))"
   ]
  },
  {
   "cell_type": "markdown",
   "metadata": {},
   "source": [
    "### Look at probe accuracy."
   ]
  },
  {
   "cell_type": "code",
   "execution_count": null,
   "metadata": {},
   "outputs": [],
   "source": [
    "## Looking at first licks\n",
    "circletrack_results = {'mouse': [], 'day': [], 'group': [], 'session': [], 'lick_accuracy_thresh1': [], 'lick_accuracy_thresh5': []}\n",
    "for mouse in os.listdir(circle_path)[:-1]: ## somehow a .DS_Store appeared????????\n",
    "    mouse_path = pjoin(circle_path, mouse)\n",
    "    group = 'Young Adult' if mouse in young_adult else 'Middle Aged' if mouse in middle_aged else 'Aged'\n",
    "    for idx, session in enumerate(os.listdir(mouse_path)):\n",
    "            behav = pd.read_feather(pjoin(mouse_path, f'{session}'))\n",
    "            if any(behav['probe']):\n",
    "                behav = behav[behav['probe']]\n",
    "                reward_one, reward_two = np.unique(behav['reward_one'])[0], np.unique(behav['reward_two'])[0]\n",
    "                pc_thresh1 = ctb.lick_accuracy(behav, port_one=reward_one, port_two=reward_two, lick_threshold=1, by_trials=False)\n",
    "                pc_thresh5 = ctb.lick_accuracy(behav, port_one=reward_one, port_two=reward_two, lick_threshold=5, by_trials=False)\n",
    "                circletrack_results['mouse'].append(mouse)\n",
    "                circletrack_results['day'].append(idx+1)\n",
    "                circletrack_results['group'].append(group)\n",
    "                circletrack_results['session'].append(np.unique(behav['session'])[0])\n",
    "                circletrack_results['lick_accuracy_thresh1'].append(pc_thresh1)\n",
    "                circletrack_results['lick_accuracy_thresh5'].append(pc_thresh5)\n",
    "ct_df = pd.DataFrame(circletrack_results)"
   ]
  },
  {
   "cell_type": "code",
   "execution_count": null,
   "metadata": {},
   "outputs": [],
   "source": [
    "y_variable = 'lick_accuracy_thresh1'\n",
    "sess_pairs = [('A', 'AP'), ('B', 'BP'), ('C', 'CP'), ('D', 'DP')]\n",
    "fig = pf.custom_graph_template(x_title='', y_title='', rows=1, columns=4, titles=['A', 'B', 'C', 'D'], \n",
    "                               width=1000, shared_y=True)\n",
    "for idx, pair in enumerate(sess_pairs):\n",
    "    loop_data = ct_df[(ct_df['session'] == pair[0]) | (ct_df['session'] == pair[1])]\n",
    "    loop_data = loop_data.replace({pair[0]: 'First', pair[1]: 'Last'})\n",
    "    avg_data = loop_data.groupby(['session', 'group'], as_index=False).agg({y_variable: ['mean', 'sem']})\n",
    "    for group in np.unique(avg_data['group']):\n",
    "        gdata = avg_data[avg_data['group'] == group]\n",
    "        fig.add_trace(go.Scatter(x=gdata['session'], y=gdata[y_variable]['mean'], name=group,\n",
    "                                 marker_color=group_colors_dict[group], showlegend=False, legendgroup=group,\n",
    "                                 error_y=dict(type='data', array=gdata[y_variable]['sem'])), row=1, col=idx+1)\n",
    "fig['data'][0]['showlegend'] = True\n",
    "fig['data'][1]['showlegend'] = True\n",
    "fig['data'][2]['showlegend'] = True\n",
    "fig.add_hline(y=25, line_width=1, line_dash='dash', line_color=chance_color, opacity=1)\n",
    "fig.update_yaxes(title='Lick Accuracy (%)', col=1)\n",
    "fig.show()\n",
    "fig.write_image(pjoin(fig_path, 'thresh1_probe_acc.png'))"
   ]
  },
  {
   "cell_type": "code",
   "execution_count": null,
   "metadata": {},
   "outputs": [],
   "source": [
    "y_variable = 'lick_accuracy_thresh5'\n",
    "sess_pairs = [('A', 'AP'), ('B', 'BP'), ('C', 'CP'), ('D', 'DP')]\n",
    "fig = pf.custom_graph_template(x_title='', y_title='', rows=1, columns=4, titles=['A', 'B', 'C', 'D'], \n",
    "                               width=1000, shared_y=True)\n",
    "for idx, pair in enumerate(sess_pairs):\n",
    "    loop_data = ct_df[(ct_df['session'] == pair[0]) | (ct_df['session'] == pair[1])]\n",
    "    loop_data = loop_data.replace({pair[0]: 'First', pair[1]: 'Last'})\n",
    "    avg_data = loop_data.groupby(['session', 'group'], as_index=False).agg({y_variable: ['mean', 'sem']})\n",
    "    for group in np.unique(avg_data['group']):\n",
    "        gdata = avg_data[avg_data['group'] == group]\n",
    "        fig.add_trace(go.Scatter(x=gdata['session'], y=gdata[y_variable]['mean'], name=group,\n",
    "                                 marker_color=group_colors_dict[group], showlegend=False, legendgroup=group,\n",
    "                                 error_y=dict(type='data', array=gdata[y_variable]['sem'])), row=1, col=idx+1)\n",
    "fig['data'][0]['showlegend'] = True\n",
    "fig['data'][1]['showlegend'] = True\n",
    "fig['data'][2]['showlegend'] = True\n",
    "fig.add_hline(y=25, line_width=1, line_dash='dash', line_color=chance_color, opacity=1)\n",
    "fig.update_yaxes(title='Lick Accuracy (%)', col=1)\n",
    "fig.show()\n",
    "fig.write_image(pjoin(fig_path, 'thresh5_probe_acc.png'))"
   ]
  },
  {
   "cell_type": "markdown",
   "metadata": {},
   "source": [
    "### Days to Criteria"
   ]
  },
  {
   "cell_type": "code",
   "execution_count": null,
   "metadata": {},
   "outputs": [],
   "source": [
    "todays_mazes = pd.read_csv(f'../../../{project_dir}/{experiment_dir}/maze_yml/{experiment_dir} - TodaysMazes.csv')\n",
    "melt_df = todays_mazes.melt(id_vars='Mouse')\n",
    "finished_mice = np.unique(melt_df['Mouse'][melt_df['value'] == 'DONE'])\n",
    "mdata = pd.DataFrame()\n",
    "for mouse in finished_mice:\n",
    "    loop_data = todays_mazes[todays_mazes['Mouse'] == mouse]\n",
    "    mdata = pd.concat([mdata, loop_data])\n",
    "melt_df = mdata.melt(id_vars='Mouse')\n",
    "melt_df = melt_df[~pd.isna(melt_df['value'])]\n",
    "melt_df = melt_df[(melt_df['value'] != 'AP') & (melt_df['value'] != 'BP') & (melt_df['value'] != 'CP') & (melt_df['value'] != 'DP') & (melt_df['value'] != 'DONE')]"
   ]
  },
  {
   "cell_type": "code",
   "execution_count": null,
   "metadata": {},
   "outputs": [],
   "source": [
    "days_to = melt_df.groupby(['Mouse', 'value'], as_index=False).agg({'value': 'count'})\n",
    "mouse_days_to = pd.DataFrame()\n",
    "for mouse in np.unique(days_to['Mouse']):\n",
    "    group = 'Young Adult' if mouse in young_adult else 'Middle Aged' if mouse in middle_aged else 'Aged'\n",
    "    loop_data = days_to[days_to['Mouse'] == mouse]\n",
    "    loop_data.loc[:, 'context'] = ['A', 'B', 'C', 'D']\n",
    "    loop_data.loc[:, 'group'] = group\n",
    "    mouse_days_to = pd.concat([mouse_days_to, loop_data])\n",
    "nonA_data = mouse_days_to[mouse_days_to['context'] != 'A']"
   ]
  },
  {
   "cell_type": "code",
   "execution_count": null,
   "metadata": {},
   "outputs": [],
   "source": [
    "nonA_data = mouse_days_to[mouse_days_to['context'] != 'A']\n",
    "fig = pf.custom_graph_template(x_title='', y_title='Days to Criteria')\n",
    "for group in np.unique(nonA_data['group']):\n",
    "    gdata = nonA_data[nonA_data['group'] == group]\n",
    "    avg_data = gdata.groupby(['context'], as_index=False).agg({'value': ['mean', 'sem']})\n",
    "    fig.add_trace(go.Scatter(x=avg_data['context'], y=avg_data['value']['mean'], name=group, marker_color=group_colors_dict[group],\n",
    "                             error_y=dict(type='data', array=avg_data['value']['sem'])))\n",
    "# fig.update_yaxes(range=[0, 6.5])\n",
    "fig.show()\n",
    "fig.write_image(pjoin(fig_path, 'days_to_criteria.png'))"
   ]
  },
  {
   "cell_type": "markdown",
   "metadata": {},
   "source": [
    "### Create a velocity distribution for all three groups."
   ]
  },
  {
   "cell_type": "code",
   "execution_count": 88,
   "metadata": {},
   "outputs": [
    {
     "name": "stderr",
     "output_type": "stream",
     "text": [
      "/media/caishuman/csstorage3/Austin/CircleTrack/CircleTrackAnalysis/MultiCon_Behavior/MultiCon_Aging2/../../place_cells.py:44: RuntimeWarning:\n",
      "\n",
      "divide by zero encountered in divide\n",
      "\n",
      "/media/caishuman/csstorage3/Austin/CircleTrack/CircleTrackAnalysis/MultiCon_Behavior/MultiCon_Aging2/../../place_cells.py:44: RuntimeWarning:\n",
      "\n",
      "invalid value encountered in divide\n",
      "\n"
     ]
    }
   ],
   "source": [
    "young_v = []\n",
    "middle_aged_v = []\n",
    "aged_v = []\n",
    "downsample_factor = 42\n",
    "for mouse in os.listdir(circle_path)[:-1]:\n",
    "    mouse_path = pjoin(circle_path, mouse)\n",
    "    group = 'Young Adult' if mouse in young_adult else 'Middle Aged' if mouse in middle_aged else 'Aged'\n",
    "    for idx, session in enumerate(os.listdir(mouse_path)):\n",
    "        behav = pd.read_feather(pjoin(mouse_path, f'{session}'))\n",
    "        x_cm, y_cm = ctb.convert_to_cm(x=behav['x'], y=behav['y'], update_dataframe=False)\n",
    "        velocity, running = pc.define_running_epochs(x_cm[::downsample_factor], y_cm[::downsample_factor], behav['t'][::downsample_factor])\n",
    "        avg_vel = np.mean(velocity)\n",
    "        if group == 'Young Adult':\n",
    "            young_v.append(avg_vel)\n",
    "        elif group == 'Middle Aged':\n",
    "            middle_aged_v.append(avg_vel)\n",
    "        else:\n",
    "            aged_v.append(avg_vel)"
   ]
  },
  {
   "cell_type": "code",
   "execution_count": 89,
   "metadata": {},
   "outputs": [
    {
     "data": {
      "application/vnd.plotly.v1+json": {
       "config": {
        "plotlyServerURL": "https://plot.ly"
       },
       "data": [
        {
         "histnorm": "probability",
         "marker": {
          "color": "darkgrey"
         },
         "name": "Young Adult",
         "opacity": 0.6,
         "type": "histogram",
         "x": [
          10.21528606952444,
          10.06773730411676,
          11.924108393675793,
          11.479207602447218,
          11.72754276161268,
          15.729010967775427,
          null,
          14.08725194356255,
          15.105259289891267,
          16.692631970213288,
          15.332255288215935,
          14.606914026048997,
          10.134267912131142,
          12.574211547835352,
          11.566572827647388,
          13.393093637077595,
          13.285575834327913,
          12.204971877245343,
          15.801841536415187,
          13.16441215762185,
          16.997725862163456,
          14.723968721266456,
          13.031841271726536,
          14.135199574489487,
          11.10933999651546,
          11.680078748457387,
          12.56108870549647,
          10.137567720344736,
          13.278272007527034,
          14.895946808220534,
          15.057358526210136,
          13.132654573751275,
          15.948134531781559,
          16.415679359560862,
          17.23318413310234,
          20.265310796432825,
          13.222039089295363,
          15.687294818756353,
          17.14888603015348,
          19.453761924945578,
          18.048175505701934,
          18.05815499461403,
          22.394041486230257,
          18.346234507395323,
          18.937498342531473,
          6.7124568940327825,
          5.77302092190523,
          9.57491824502572,
          14.311200122385,
          14.794990722976864,
          15.38257084693359,
          14.961573098444902,
          14.502343194777023,
          13.440624508697988,
          13.7235867025911,
          15.175974992473247,
          13.762486679109948,
          13.255368388011343,
          12.680812926888006,
          12.336525205800555,
          12.097946201895882,
          15.6696749689462,
          12.435907624567928,
          13.130605631734392,
          10.811134494659555,
          19.32246872123381,
          12.956546527692543,
          13.770277452818634,
          13.111690535297832,
          13.503441219407033,
          9.752770155273897,
          10.64923396446152,
          9.892117377831392,
          9.929263256329195,
          9.931990436622407,
          9.697187179878256,
          11.506869406565848,
          10.89272478745681,
          12.931625431297599,
          12.746864702491157,
          12.48445669044465,
          15.365317797818419,
          12.516112019117799,
          12.827675901003074,
          13.678481925514516,
          15.19662147639518,
          17.321958551394456,
          12.22938218719418,
          15.525420799244175,
          12.314317013042645,
          15.17279287341269,
          10.903792058126225,
          12.32195499943409,
          11.229728194785917,
          15.183361593032403,
          11.130374283384027,
          9.208578442203205,
          10.238299736076671,
          11.25771742789101,
          11.49377063771842,
          13.973387843624572,
          17.230650811083258,
          13.488675018478528,
          14.327038505462397,
          13.357092696834442,
          15.590356214519044,
          14.159236277982275,
          15.915132230851192,
          15.22735195099702,
          16.439800018903405,
          15.490140893222241,
          15.004304810777972,
          16.241231466779517,
          13.46907495886783,
          17.657739774586915,
          17.063800415950187,
          20.04982692846378,
          16.059744787178836,
          17.172409577627754,
          17.4986448915269,
          6.510660147491928,
          9.00468413101582,
          11.500027567616545,
          12.717623330637126,
          9.335850876549067,
          12.77043709244169,
          13.144039598628293,
          11.677325830473972,
          14.317531610800632,
          13.183913969666394,
          15.210316417333512,
          17.471078758803866,
          15.792786091651422,
          15.150298339290371,
          14.671403460285884,
          15.345396856560297,
          14.194431592162315,
          17.679397727954946,
          17.60870795000824,
          15.978069211826481,
          15.109345923930114,
          18.177342813181102,
          17.7971904117929,
          17.017937773901007,
          18.60952021350729,
          17.289902135381865,
          7.337933586596816,
          8.794073422659935,
          10.579388430974452,
          10.841927869385007,
          11.058463339041667,
          11.450326601422502,
          11.991600460094544,
          12.666096935992881,
          13.06260919034116,
          11.853429162122625,
          12.087127999389029,
          14.84322540217638,
          14.447284118445515,
          14.240056675130804,
          14.929253274402978,
          17.210155581820135,
          17.740335396601903,
          14.403405245632747,
          14.102502583786986,
          12.83631385104784,
          18.178035401656636,
          16.528130706118045,
          14.474891663423367,
          16.16205483040731,
          13.916565682039062,
          7.548720326698708,
          10.393597078714306,
          14.463164305895836,
          13.909434200539875,
          9.463758078322606,
          14.845992803662677,
          16.014084100604787,
          13.384418377632901,
          13.29552346100109,
          14.3490342767716,
          15.045623327472647,
          15.848364265815748,
          15.79708653952943,
          15.233664201870926,
          15.205854674544938,
          16.74489339571605,
          19.93392203775932,
          12.834953105494483,
          14.242309074943922,
          12.241287244987967,
          14.550262096686872,
          12.837647907482665,
          13.453096999770384,
          15.695400651423034,
          13.829066443104105,
          13.78293909060898,
          13.280830814820765,
          18.235914947219634,
          15.954764536326985,
          15.047294617456663
         ]
        },
        {
         "histnorm": "probability",
         "marker": {
          "color": "midnightblue"
         },
         "name": "Middle Aged",
         "opacity": 0.6,
         "type": "histogram",
         "x": [
          6.35339303107317,
          9.899016795901339,
          10.35121292834417,
          11.306856288877842,
          11.595648576444061,
          12.006541382606306,
          12.159598185595108,
          10.795500434810762,
          13.189280249206993,
          12.469198573934394,
          13.465213951933714,
          15.457589020798737,
          11.585249791120093,
          13.908935994408814,
          13.055927698913447,
          14.01239899153358,
          17.61208912147423,
          18.440913667116867,
          15.76045840862462,
          13.126705559397188,
          18.875005258965558,
          14.802201637836196,
          13.815350193904399,
          13.928977444906455,
          5.798900814887981,
          4.959263958176187,
          7.313169025979086,
          8.72946864387418,
          10.113811378897267,
          6.387853423538264,
          11.48865856155556,
          10.840446076416764,
          9.24242524356053,
          11.950974369434636,
          11.923593837710566,
          13.5001842460997,
          12.511323049412976,
          11.707705207354406,
          10.852698727347695,
          13.227599535038365,
          11.379176586025293,
          13.206756134881104,
          11.454022968628738,
          11.415117160113603,
          10.77588190054616,
          12.45815907807697,
          11.004151878869894,
          13.073991740091525,
          11.838550962686014,
          11.856177571641098,
          12.210085006435074,
          7.0024794298958835,
          7.6338322759542745,
          10.680962947791114,
          12.380180236055628,
          10.658548086518442,
          12.219900844358973,
          13.731269805818622,
          16.802699606374947,
          15.243369378828527,
          15.908086689926824,
          14.735402448400158,
          10.006602154054331,
          14.834851292353173,
          14.60917991468675,
          14.195846245092694,
          16.04811574834654,
          15.452495553368934,
          16.267035991838217,
          12.62611965387329,
          14.881571440128138,
          12.502067361262524,
          12.98112271524745,
          15.358856613726264,
          14.617568971367332,
          12.709909248628977,
          13.764950668125142,
          13.582451317919823,
          6.4244792964517705,
          7.443692351582911,
          8.087371203663295,
          9.008000192530469,
          11.164124674985239,
          12.907427825385092,
          8.021922811702519,
          11.199455154949247,
          12.36126324935102,
          13.988618470484635,
          13.31184585149087,
          9.984114064360647,
          9.525892425029365,
          10.448611212474992,
          11.336527693553858,
          11.148455691367065,
          12.201770087550628,
          16.028890379085944,
          13.452080142203434,
          10.873126410596694,
          8.848325363264385,
          9.094587841676379,
          9.80971274428569,
          11.547438359790975,
          8.433774627675287,
          8.703431580751246,
          7.268179116068161,
          9.292790122189876,
          9.305888750442056,
          11.358668545025527,
          13.596323239064887,
          9.865676616843551,
          9.425506618454067,
          8.730715689177067,
          7.756785478349442,
          9.730555611981824,
          8.799047587477027,
          12.062140696832444,
          10.326490367554483,
          10.77720810023446,
          10.883300026980901,
          10.808080372178145,
          11.357055445011792,
          10.806009354229865,
          10.25514325341268,
          12.624110562360709,
          13.952494479807603,
          14.103706558120095,
          15.316737768631937,
          13.699682837923616,
          13.369290772058891,
          16.82045644159312,
          19.346123629297278,
          5.874115028087428,
          5.428855152877262,
          7.060525628249034,
          10.568604411638233,
          11.188920884249965,
          15.188097892083704,
          11.60201868959622,
          14.104288568695154,
          13.716501819461298,
          12.136613188610111,
          16.749430829032683,
          15.591156229626487,
          12.663612652969459,
          13.390583936898906,
          13.473494971099928,
          15.008140809650328,
          6.9480120531384095,
          14.320536301165621,
          11.291745694623977,
          10.973635906705702,
          13.389445854735479,
          13.910444852649073,
          12.85246739764923,
          13.287716106230473,
          13.008177074697537,
          10.516082505749774,
          12.78360770050094,
          15.21112725317729,
          14.523125648911105,
          11.919245184374521,
          10.110538167813964,
          6.836947330967484,
          9.073331577023973,
          10.931851741026847,
          11.84275238722979,
          15.516258796565028,
          11.020640887691869,
          13.46989960805614,
          14.23264245465564,
          8.89574494306726,
          12.490871144258726,
          14.256685604219207,
          15.612036010086724,
          15.668742051183566,
          17.316869639278075,
          19.462742686490962,
          18.915274189298458,
          15.644859230157333,
          16.65579909077095,
          16.697162606695386,
          14.215526596242542,
          7.8443375999000535,
          8.553912482091278,
          9.463699091259516,
          10.945535500225331,
          9.263274720899286,
          13.916641822175675,
          11.010134731179681,
          12.07570366164161,
          11.947293134095275,
          11.998118982861836,
          15.74027179576518,
          14.10939387673777,
          9.73887249641413,
          7.651816687229026,
          11.961949703360595,
          16.877794592266838,
          14.035024320893816,
          13.798889193485747,
          13.762858045551306,
          12.584431424635223,
          14.868011211893489,
          12.859167876912316,
          13.132933404574857,
          16.215588632594976,
          12.366036659152087,
          12.557726386608817,
          13.719380185879459,
          15.819824360377359,
          13.278079650716423
         ]
        },
        {
         "histnorm": "probability",
         "marker": {
          "color": "red"
         },
         "name": "Aged",
         "opacity": 0.6,
         "type": "histogram",
         "x": [
          13.061461492193171,
          7.998293022538234,
          10.659121964631256,
          14.523552053286352,
          13.771126959303889,
          11.69870674707603,
          15.087241439067638,
          17.394332223059106,
          15.504579933192842,
          13.736649968684514,
          16.489996726479134,
          14.686346810657103,
          15.31365270760968,
          17.55558550613977,
          17.35886861061154,
          17.86526780501671,
          16.72106730817286,
          14.717601265930398,
          16.889950347227828,
          15.48602765784628,
          18.00782016723036,
          13.420877528895966,
          15.58989958238053,
          18.001785217946104,
          17.87160459643953,
          20.368900797810852,
          11.734404122361028,
          8.473805147031742,
          10.834713179245623,
          11.063210825979587,
          10.019958760932802,
          8.68529852903117,
          12.463582179236678,
          13.41487235249946,
          13.036790939001778,
          15.372206150681595,
          11.612580770418921,
          12.949386580060061,
          5.378661597784605,
          7.194525857118773,
          6.286561050469209,
          8.096115455333742,
          5.98986400780842,
          10.246049777795053,
          13.054616590847203,
          12.299434835437571,
          15.070669882470705,
          13.70917958752776,
          12.747876156361393,
          16.24829941098565,
          13.197633471228631,
          11.07073331477646,
          10.222452718836102,
          11.850293914460597,
          11.1329031874722,
          13.594605867729834,
          14.67973817050331,
          7.7695260230902665,
          9.369789866035982,
          11.281439665163774,
          10.704017038885775,
          11.145665640026873,
          15.257428731753052,
          12.444923453189498,
          13.92006219073304,
          11.35525033784703,
          10.117262881162967,
          11.495082617958017,
          13.894044450450918,
          8.65799290671743,
          11.788594970009077,
          11.532312720383537,
          13.639715287917047,
          14.776929194507318,
          13.694771790539397,
          12.805334418030037,
          11.508194916335931,
          17.8224305868557,
          13.489062946275082,
          11.50512946362102,
          12.98228510082143,
          9.462079124066001,
          10.906528646655241,
          12.225401271668215,
          12.46421143620113,
          11.631828118281511,
          13.09656136684401,
          8.652160450342027,
          13.367887187725314,
          15.020759558204473,
          14.691120818910738,
          13.99249167800242,
          11.353252500570138,
          12.78135497116457,
          13.154184663303148,
          8.448345379702484,
          7.0941800675368025,
          6.922546418104372,
          8.601524190090606,
          8.69839142354874,
          9.557666474825975,
          8.693217447209673,
          11.410567004732384,
          9.714614583006574,
          12.848890591639103,
          14.0768502016821,
          13.1099140250618,
          10.626909254808105,
          11.885962890272953,
          11.684027656603147,
          14.547994403321571,
          15.900854051574653,
          14.810422165308387,
          16.893230088845062,
          15.375963943497762,
          16.643370745014195,
          18.466417261685248,
          15.033842931560038,
          14.22374719949992,
          12.949365381193902,
          10.805145215884796,
          7.945507804321601,
          11.675804349109427,
          9.996694912987886,
          11.250662034608851,
          13.211075702056696,
          5.3731345809080295,
          2.393331940898761,
          2.097949338118373,
          1.6474338172675556,
          1.7250434244238315,
          2.1866823908375013,
          5.8875224289050685,
          4.752822774597344,
          3.6289677588021845,
          3.4758237083048087,
          3.2916351437667757,
          2.7122806288424632,
          3.267660838515622,
          3.154624260698216,
          3.322387703285868,
          3.8391076568004205,
          3.801076682456827,
          4.272623435120646,
          6.334854176878716,
          6.076222518546063,
          6.425960829325879,
          8.918958753994854,
          7.81084246846392,
          10.003709536921612,
          8.535189375980789,
          7.074283186246614,
          7.494076584870296,
          7.685185954676792,
          8.871801700834977,
          8.187538759611082,
          9.446234973326176,
          11.052119885173502,
          11.35387765803712,
          9.608604562413808,
          5.535180605317645,
          4.194615061873253,
          4.422691209049518,
          4.7754031371447585,
          3.972306291851597,
          3.6040883310071328,
          4.675605450436966,
          6.228185810220257,
          5.645003881498119,
          5.739261667849261,
          6.609766960020797,
          6.842600023971729,
          6.219452709483515,
          5.819604312267566,
          5.5733093517790655,
          5.236689076053842,
          4.991777991961542,
          6.683895617798513,
          5.651204576540606,
          5.643574310971343,
          6.938666312071523,
          9.113040280359943,
          7.982306933105497,
          10.299761878030816,
          8.199168123956209,
          6.3042510284222315,
          6.9734908306235965,
          7.215216629282231,
          7.981914511341731,
          9.6119971690475,
          10.65027218029522,
          9.840972453391112,
          6.936688298080764,
          9.666473572506039,
          8.63597058965542,
          10.257950722354334,
          10.560754505371548,
          10.048498385095309,
          6.141751151894684,
          4.742243297093308,
          3.938089707902299,
          5.891122992729813,
          6.546644331917131,
          7.115735526448343,
          8.120662704273554,
          7.349973660732711,
          6.7878147019868695,
          6.902586147446799,
          7.375846144719082,
          6.716615555617844,
          5.7914690883015885,
          4.237401686967107,
          7.419058427022323,
          5.125776169814648,
          7.421937733394277,
          11.688359871126893,
          12.788371630657547,
          13.827944007238822,
          11.64545241671674,
          13.146404377821007,
          12.19337694984822,
          13.062302951316447,
          13.727942199769354,
          14.230849980901823,
          15.882257472534585,
          11.912260008778814,
          17.371835334030237,
          15.371358400624716,
          14.211612888076708,
          6.8658560457778846,
          5.692256989599346,
          5.83716980500581,
          7.805928744479175,
          7.196204280262123,
          7.548935493774254,
          8.277208506466922,
          10.315113750171497,
          9.79849027901687,
          10.108561313234652,
          11.274295751702189,
          12.158689316097389,
          11.27191874592137,
          9.751575157768299,
          9.142490529636314,
          12.658330720462137,
          10.895454078086718,
          9.433635067694624,
          10.140863176247207,
          9.242240070551691,
          15.1458409195863,
          10.70696418128941,
          10.84302501755772,
          11.04216114155815,
          12.852078896461038,
          13.865167817336252,
          13.620275672373486,
          13.979555005930987,
          15.955375681126661
         ]
        }
       ],
       "layout": {
        "barmode": "overlay",
        "font": {
         "family": "Arial",
         "size": 22
        },
        "height": 500,
        "template": {
         "data": {
          "bar": [
           {
            "error_x": {
             "color": "rgb(36,36,36)"
            },
            "error_y": {
             "color": "rgb(36,36,36)"
            },
            "marker": {
             "line": {
              "color": "white",
              "width": 0.5
             },
             "pattern": {
              "fillmode": "overlay",
              "size": 10,
              "solidity": 0.2
             }
            },
            "type": "bar"
           }
          ],
          "barpolar": [
           {
            "marker": {
             "line": {
              "color": "white",
              "width": 0.5
             },
             "pattern": {
              "fillmode": "overlay",
              "size": 10,
              "solidity": 0.2
             }
            },
            "type": "barpolar"
           }
          ],
          "carpet": [
           {
            "aaxis": {
             "endlinecolor": "rgb(36,36,36)",
             "gridcolor": "white",
             "linecolor": "white",
             "minorgridcolor": "white",
             "startlinecolor": "rgb(36,36,36)"
            },
            "baxis": {
             "endlinecolor": "rgb(36,36,36)",
             "gridcolor": "white",
             "linecolor": "white",
             "minorgridcolor": "white",
             "startlinecolor": "rgb(36,36,36)"
            },
            "type": "carpet"
           }
          ],
          "choropleth": [
           {
            "colorbar": {
             "outlinewidth": 1,
             "tickcolor": "rgb(36,36,36)",
             "ticks": "outside"
            },
            "type": "choropleth"
           }
          ],
          "contour": [
           {
            "colorbar": {
             "outlinewidth": 1,
             "tickcolor": "rgb(36,36,36)",
             "ticks": "outside"
            },
            "colorscale": [
             [
              0,
              "#440154"
             ],
             [
              0.1111111111111111,
              "#482878"
             ],
             [
              0.2222222222222222,
              "#3e4989"
             ],
             [
              0.3333333333333333,
              "#31688e"
             ],
             [
              0.4444444444444444,
              "#26828e"
             ],
             [
              0.5555555555555556,
              "#1f9e89"
             ],
             [
              0.6666666666666666,
              "#35b779"
             ],
             [
              0.7777777777777778,
              "#6ece58"
             ],
             [
              0.8888888888888888,
              "#b5de2b"
             ],
             [
              1,
              "#fde725"
             ]
            ],
            "type": "contour"
           }
          ],
          "contourcarpet": [
           {
            "colorbar": {
             "outlinewidth": 1,
             "tickcolor": "rgb(36,36,36)",
             "ticks": "outside"
            },
            "type": "contourcarpet"
           }
          ],
          "heatmap": [
           {
            "colorbar": {
             "outlinewidth": 1,
             "tickcolor": "rgb(36,36,36)",
             "ticks": "outside"
            },
            "colorscale": [
             [
              0,
              "#440154"
             ],
             [
              0.1111111111111111,
              "#482878"
             ],
             [
              0.2222222222222222,
              "#3e4989"
             ],
             [
              0.3333333333333333,
              "#31688e"
             ],
             [
              0.4444444444444444,
              "#26828e"
             ],
             [
              0.5555555555555556,
              "#1f9e89"
             ],
             [
              0.6666666666666666,
              "#35b779"
             ],
             [
              0.7777777777777778,
              "#6ece58"
             ],
             [
              0.8888888888888888,
              "#b5de2b"
             ],
             [
              1,
              "#fde725"
             ]
            ],
            "type": "heatmap"
           }
          ],
          "heatmapgl": [
           {
            "colorbar": {
             "outlinewidth": 1,
             "tickcolor": "rgb(36,36,36)",
             "ticks": "outside"
            },
            "colorscale": [
             [
              0,
              "#440154"
             ],
             [
              0.1111111111111111,
              "#482878"
             ],
             [
              0.2222222222222222,
              "#3e4989"
             ],
             [
              0.3333333333333333,
              "#31688e"
             ],
             [
              0.4444444444444444,
              "#26828e"
             ],
             [
              0.5555555555555556,
              "#1f9e89"
             ],
             [
              0.6666666666666666,
              "#35b779"
             ],
             [
              0.7777777777777778,
              "#6ece58"
             ],
             [
              0.8888888888888888,
              "#b5de2b"
             ],
             [
              1,
              "#fde725"
             ]
            ],
            "type": "heatmapgl"
           }
          ],
          "histogram": [
           {
            "marker": {
             "line": {
              "color": "white",
              "width": 0.6
             }
            },
            "type": "histogram"
           }
          ],
          "histogram2d": [
           {
            "colorbar": {
             "outlinewidth": 1,
             "tickcolor": "rgb(36,36,36)",
             "ticks": "outside"
            },
            "colorscale": [
             [
              0,
              "#440154"
             ],
             [
              0.1111111111111111,
              "#482878"
             ],
             [
              0.2222222222222222,
              "#3e4989"
             ],
             [
              0.3333333333333333,
              "#31688e"
             ],
             [
              0.4444444444444444,
              "#26828e"
             ],
             [
              0.5555555555555556,
              "#1f9e89"
             ],
             [
              0.6666666666666666,
              "#35b779"
             ],
             [
              0.7777777777777778,
              "#6ece58"
             ],
             [
              0.8888888888888888,
              "#b5de2b"
             ],
             [
              1,
              "#fde725"
             ]
            ],
            "type": "histogram2d"
           }
          ],
          "histogram2dcontour": [
           {
            "colorbar": {
             "outlinewidth": 1,
             "tickcolor": "rgb(36,36,36)",
             "ticks": "outside"
            },
            "colorscale": [
             [
              0,
              "#440154"
             ],
             [
              0.1111111111111111,
              "#482878"
             ],
             [
              0.2222222222222222,
              "#3e4989"
             ],
             [
              0.3333333333333333,
              "#31688e"
             ],
             [
              0.4444444444444444,
              "#26828e"
             ],
             [
              0.5555555555555556,
              "#1f9e89"
             ],
             [
              0.6666666666666666,
              "#35b779"
             ],
             [
              0.7777777777777778,
              "#6ece58"
             ],
             [
              0.8888888888888888,
              "#b5de2b"
             ],
             [
              1,
              "#fde725"
             ]
            ],
            "type": "histogram2dcontour"
           }
          ],
          "mesh3d": [
           {
            "colorbar": {
             "outlinewidth": 1,
             "tickcolor": "rgb(36,36,36)",
             "ticks": "outside"
            },
            "type": "mesh3d"
           }
          ],
          "parcoords": [
           {
            "line": {
             "colorbar": {
              "outlinewidth": 1,
              "tickcolor": "rgb(36,36,36)",
              "ticks": "outside"
             }
            },
            "type": "parcoords"
           }
          ],
          "pie": [
           {
            "automargin": true,
            "type": "pie"
           }
          ],
          "scatter": [
           {
            "fillpattern": {
             "fillmode": "overlay",
             "size": 10,
             "solidity": 0.2
            },
            "type": "scatter"
           }
          ],
          "scatter3d": [
           {
            "line": {
             "colorbar": {
              "outlinewidth": 1,
              "tickcolor": "rgb(36,36,36)",
              "ticks": "outside"
             }
            },
            "marker": {
             "colorbar": {
              "outlinewidth": 1,
              "tickcolor": "rgb(36,36,36)",
              "ticks": "outside"
             }
            },
            "type": "scatter3d"
           }
          ],
          "scattercarpet": [
           {
            "marker": {
             "colorbar": {
              "outlinewidth": 1,
              "tickcolor": "rgb(36,36,36)",
              "ticks": "outside"
             }
            },
            "type": "scattercarpet"
           }
          ],
          "scattergeo": [
           {
            "marker": {
             "colorbar": {
              "outlinewidth": 1,
              "tickcolor": "rgb(36,36,36)",
              "ticks": "outside"
             }
            },
            "type": "scattergeo"
           }
          ],
          "scattergl": [
           {
            "marker": {
             "colorbar": {
              "outlinewidth": 1,
              "tickcolor": "rgb(36,36,36)",
              "ticks": "outside"
             }
            },
            "type": "scattergl"
           }
          ],
          "scattermapbox": [
           {
            "marker": {
             "colorbar": {
              "outlinewidth": 1,
              "tickcolor": "rgb(36,36,36)",
              "ticks": "outside"
             }
            },
            "type": "scattermapbox"
           }
          ],
          "scatterpolar": [
           {
            "marker": {
             "colorbar": {
              "outlinewidth": 1,
              "tickcolor": "rgb(36,36,36)",
              "ticks": "outside"
             }
            },
            "type": "scatterpolar"
           }
          ],
          "scatterpolargl": [
           {
            "marker": {
             "colorbar": {
              "outlinewidth": 1,
              "tickcolor": "rgb(36,36,36)",
              "ticks": "outside"
             }
            },
            "type": "scatterpolargl"
           }
          ],
          "scatterternary": [
           {
            "marker": {
             "colorbar": {
              "outlinewidth": 1,
              "tickcolor": "rgb(36,36,36)",
              "ticks": "outside"
             }
            },
            "type": "scatterternary"
           }
          ],
          "surface": [
           {
            "colorbar": {
             "outlinewidth": 1,
             "tickcolor": "rgb(36,36,36)",
             "ticks": "outside"
            },
            "colorscale": [
             [
              0,
              "#440154"
             ],
             [
              0.1111111111111111,
              "#482878"
             ],
             [
              0.2222222222222222,
              "#3e4989"
             ],
             [
              0.3333333333333333,
              "#31688e"
             ],
             [
              0.4444444444444444,
              "#26828e"
             ],
             [
              0.5555555555555556,
              "#1f9e89"
             ],
             [
              0.6666666666666666,
              "#35b779"
             ],
             [
              0.7777777777777778,
              "#6ece58"
             ],
             [
              0.8888888888888888,
              "#b5de2b"
             ],
             [
              1,
              "#fde725"
             ]
            ],
            "type": "surface"
           }
          ],
          "table": [
           {
            "cells": {
             "fill": {
              "color": "rgb(237,237,237)"
             },
             "line": {
              "color": "white"
             }
            },
            "header": {
             "fill": {
              "color": "rgb(217,217,217)"
             },
             "line": {
              "color": "white"
             }
            },
            "type": "table"
           }
          ]
         },
         "layout": {
          "annotationdefaults": {
           "arrowhead": 0,
           "arrowwidth": 1
          },
          "autotypenumbers": "strict",
          "coloraxis": {
           "colorbar": {
            "outlinewidth": 1,
            "tickcolor": "rgb(36,36,36)",
            "ticks": "outside"
           }
          },
          "colorscale": {
           "diverging": [
            [
             0,
             "rgb(103,0,31)"
            ],
            [
             0.1,
             "rgb(178,24,43)"
            ],
            [
             0.2,
             "rgb(214,96,77)"
            ],
            [
             0.3,
             "rgb(244,165,130)"
            ],
            [
             0.4,
             "rgb(253,219,199)"
            ],
            [
             0.5,
             "rgb(247,247,247)"
            ],
            [
             0.6,
             "rgb(209,229,240)"
            ],
            [
             0.7,
             "rgb(146,197,222)"
            ],
            [
             0.8,
             "rgb(67,147,195)"
            ],
            [
             0.9,
             "rgb(33,102,172)"
            ],
            [
             1,
             "rgb(5,48,97)"
            ]
           ],
           "sequential": [
            [
             0,
             "#440154"
            ],
            [
             0.1111111111111111,
             "#482878"
            ],
            [
             0.2222222222222222,
             "#3e4989"
            ],
            [
             0.3333333333333333,
             "#31688e"
            ],
            [
             0.4444444444444444,
             "#26828e"
            ],
            [
             0.5555555555555556,
             "#1f9e89"
            ],
            [
             0.6666666666666666,
             "#35b779"
            ],
            [
             0.7777777777777778,
             "#6ece58"
            ],
            [
             0.8888888888888888,
             "#b5de2b"
            ],
            [
             1,
             "#fde725"
            ]
           ],
           "sequentialminus": [
            [
             0,
             "#440154"
            ],
            [
             0.1111111111111111,
             "#482878"
            ],
            [
             0.2222222222222222,
             "#3e4989"
            ],
            [
             0.3333333333333333,
             "#31688e"
            ],
            [
             0.4444444444444444,
             "#26828e"
            ],
            [
             0.5555555555555556,
             "#1f9e89"
            ],
            [
             0.6666666666666666,
             "#35b779"
            ],
            [
             0.7777777777777778,
             "#6ece58"
            ],
            [
             0.8888888888888888,
             "#b5de2b"
            ],
            [
             1,
             "#fde725"
            ]
           ]
          },
          "colorway": [
           "#1F77B4",
           "#FF7F0E",
           "#2CA02C",
           "#D62728",
           "#9467BD",
           "#8C564B",
           "#E377C2",
           "#7F7F7F",
           "#BCBD22",
           "#17BECF"
          ],
          "font": {
           "color": "rgb(36,36,36)"
          },
          "geo": {
           "bgcolor": "white",
           "lakecolor": "white",
           "landcolor": "white",
           "showlakes": true,
           "showland": true,
           "subunitcolor": "white"
          },
          "hoverlabel": {
           "align": "left"
          },
          "hovermode": "closest",
          "mapbox": {
           "style": "light"
          },
          "paper_bgcolor": "white",
          "plot_bgcolor": "white",
          "polar": {
           "angularaxis": {
            "gridcolor": "rgb(232,232,232)",
            "linecolor": "rgb(36,36,36)",
            "showgrid": false,
            "showline": true,
            "ticks": "outside"
           },
           "bgcolor": "white",
           "radialaxis": {
            "gridcolor": "rgb(232,232,232)",
            "linecolor": "rgb(36,36,36)",
            "showgrid": false,
            "showline": true,
            "ticks": "outside"
           }
          },
          "scene": {
           "xaxis": {
            "backgroundcolor": "white",
            "gridcolor": "rgb(232,232,232)",
            "gridwidth": 2,
            "linecolor": "rgb(36,36,36)",
            "showbackground": true,
            "showgrid": false,
            "showline": true,
            "ticks": "outside",
            "zeroline": false,
            "zerolinecolor": "rgb(36,36,36)"
           },
           "yaxis": {
            "backgroundcolor": "white",
            "gridcolor": "rgb(232,232,232)",
            "gridwidth": 2,
            "linecolor": "rgb(36,36,36)",
            "showbackground": true,
            "showgrid": false,
            "showline": true,
            "ticks": "outside",
            "zeroline": false,
            "zerolinecolor": "rgb(36,36,36)"
           },
           "zaxis": {
            "backgroundcolor": "white",
            "gridcolor": "rgb(232,232,232)",
            "gridwidth": 2,
            "linecolor": "rgb(36,36,36)",
            "showbackground": true,
            "showgrid": false,
            "showline": true,
            "ticks": "outside",
            "zeroline": false,
            "zerolinecolor": "rgb(36,36,36)"
           }
          },
          "shapedefaults": {
           "fillcolor": "black",
           "line": {
            "width": 0
           },
           "opacity": 0.3
          },
          "ternary": {
           "aaxis": {
            "gridcolor": "rgb(232,232,232)",
            "linecolor": "rgb(36,36,36)",
            "showgrid": false,
            "showline": true,
            "ticks": "outside"
           },
           "baxis": {
            "gridcolor": "rgb(232,232,232)",
            "linecolor": "rgb(36,36,36)",
            "showgrid": false,
            "showline": true,
            "ticks": "outside"
           },
           "bgcolor": "white",
           "caxis": {
            "gridcolor": "rgb(232,232,232)",
            "linecolor": "rgb(36,36,36)",
            "showgrid": false,
            "showline": true,
            "ticks": "outside"
           }
          },
          "title": {
           "x": 0.05
          },
          "xaxis": {
           "automargin": true,
           "gridcolor": "rgb(232,232,232)",
           "linecolor": "rgb(36,36,36)",
           "showgrid": false,
           "showline": true,
           "ticks": "outside",
           "title": {
            "standoff": 15
           },
           "zeroline": false,
           "zerolinecolor": "rgb(36,36,36)"
          },
          "yaxis": {
           "automargin": true,
           "gridcolor": "rgb(232,232,232)",
           "linecolor": "rgb(36,36,36)",
           "showgrid": false,
           "showline": true,
           "ticks": "outside",
           "title": {
            "standoff": 15
           },
           "zeroline": false,
           "zerolinecolor": "rgb(36,36,36)"
          }
         }
        },
        "title": {
         "x": 0.5,
         "xanchor": "center",
         "y": 0.9,
         "yanchor": "top"
        },
        "width": 500,
        "xaxis": {
         "anchor": "y",
         "domain": [
          0,
          1
         ],
         "linewidth": 1.5,
         "title": {
          "text": "Average Velocity (cm/s)"
         }
        },
        "yaxis": {
         "anchor": "x",
         "domain": [
          0,
          1
         ],
         "linewidth": 1.5,
         "title": {
          "text": "Probability"
         }
        }
       }
      },
      "text/html": [
       "<div>                            <div id=\"1ea5edde-ce20-4892-8d8c-43a5889ba869\" class=\"plotly-graph-div\" style=\"height:500px; width:500px;\"></div>            <script type=\"text/javascript\">                require([\"plotly\"], function(Plotly) {                    window.PLOTLYENV=window.PLOTLYENV || {};                                    if (document.getElementById(\"1ea5edde-ce20-4892-8d8c-43a5889ba869\")) {                    Plotly.newPlot(                        \"1ea5edde-ce20-4892-8d8c-43a5889ba869\",                        [{\"histnorm\":\"probability\",\"marker\":{\"color\":\"darkgrey\"},\"name\":\"Young Adult\",\"opacity\":0.6,\"x\":[10.21528606952444,10.06773730411676,11.924108393675793,11.479207602447218,11.72754276161268,15.729010967775427,null,14.08725194356255,15.105259289891267,16.692631970213288,15.332255288215935,14.606914026048997,10.134267912131142,12.574211547835352,11.566572827647388,13.393093637077595,13.285575834327913,12.204971877245343,15.801841536415187,13.16441215762185,16.997725862163456,14.723968721266456,13.031841271726536,14.135199574489487,11.10933999651546,11.680078748457387,12.56108870549647,10.137567720344736,13.278272007527034,14.895946808220534,15.057358526210136,13.132654573751275,15.948134531781559,16.415679359560862,17.23318413310234,20.265310796432825,13.222039089295363,15.687294818756353,17.14888603015348,19.453761924945578,18.048175505701934,18.05815499461403,22.394041486230257,18.346234507395323,18.937498342531473,6.7124568940327825,5.77302092190523,9.57491824502572,14.311200122385,14.794990722976864,15.38257084693359,14.961573098444902,14.502343194777023,13.440624508697988,13.7235867025911,15.175974992473247,13.762486679109948,13.255368388011343,12.680812926888006,12.336525205800555,12.097946201895882,15.6696749689462,12.435907624567928,13.130605631734392,10.811134494659555,19.32246872123381,12.956546527692543,13.770277452818634,13.111690535297832,13.503441219407033,9.752770155273897,10.64923396446152,9.892117377831392,9.929263256329195,9.931990436622407,9.697187179878256,11.506869406565848,10.89272478745681,12.931625431297599,12.746864702491157,12.48445669044465,15.365317797818419,12.516112019117799,12.827675901003074,13.678481925514516,15.19662147639518,17.321958551394456,12.22938218719418,15.525420799244175,12.314317013042645,15.17279287341269,10.903792058126225,12.32195499943409,11.229728194785917,15.183361593032403,11.130374283384027,9.208578442203205,10.238299736076671,11.25771742789101,11.49377063771842,13.973387843624572,17.230650811083258,13.488675018478528,14.327038505462397,13.357092696834442,15.590356214519044,14.159236277982275,15.915132230851192,15.22735195099702,16.439800018903405,15.490140893222241,15.004304810777972,16.241231466779517,13.46907495886783,17.657739774586915,17.063800415950187,20.04982692846378,16.059744787178836,17.172409577627754,17.4986448915269,6.510660147491928,9.00468413101582,11.500027567616545,12.717623330637126,9.335850876549067,12.77043709244169,13.144039598628293,11.677325830473972,14.317531610800632,13.183913969666394,15.210316417333512,17.471078758803866,15.792786091651422,15.150298339290371,14.671403460285884,15.345396856560297,14.194431592162315,17.679397727954946,17.60870795000824,15.978069211826481,15.109345923930114,18.177342813181102,17.7971904117929,17.017937773901007,18.60952021350729,17.289902135381865,7.337933586596816,8.794073422659935,10.579388430974452,10.841927869385007,11.058463339041667,11.450326601422502,11.991600460094544,12.666096935992881,13.06260919034116,11.853429162122625,12.087127999389029,14.84322540217638,14.447284118445515,14.240056675130804,14.929253274402978,17.210155581820135,17.740335396601903,14.403405245632747,14.102502583786986,12.83631385104784,18.178035401656636,16.528130706118045,14.474891663423367,16.16205483040731,13.916565682039062,7.548720326698708,10.393597078714306,14.463164305895836,13.909434200539875,9.463758078322606,14.845992803662677,16.014084100604787,13.384418377632901,13.29552346100109,14.3490342767716,15.045623327472647,15.848364265815748,15.79708653952943,15.233664201870926,15.205854674544938,16.74489339571605,19.93392203775932,12.834953105494483,14.242309074943922,12.241287244987967,14.550262096686872,12.837647907482665,13.453096999770384,15.695400651423034,13.829066443104105,13.78293909060898,13.280830814820765,18.235914947219634,15.954764536326985,15.047294617456663],\"type\":\"histogram\"},{\"histnorm\":\"probability\",\"marker\":{\"color\":\"midnightblue\"},\"name\":\"Middle Aged\",\"opacity\":0.6,\"x\":[6.35339303107317,9.899016795901339,10.35121292834417,11.306856288877842,11.595648576444061,12.006541382606306,12.159598185595108,10.795500434810762,13.189280249206993,12.469198573934394,13.465213951933714,15.457589020798737,11.585249791120093,13.908935994408814,13.055927698913447,14.01239899153358,17.61208912147423,18.440913667116867,15.76045840862462,13.126705559397188,18.875005258965558,14.802201637836196,13.815350193904399,13.928977444906455,5.798900814887981,4.959263958176187,7.313169025979086,8.72946864387418,10.113811378897267,6.387853423538264,11.48865856155556,10.840446076416764,9.24242524356053,11.950974369434636,11.923593837710566,13.5001842460997,12.511323049412976,11.707705207354406,10.852698727347695,13.227599535038365,11.379176586025293,13.206756134881104,11.454022968628738,11.415117160113603,10.77588190054616,12.45815907807697,11.004151878869894,13.073991740091525,11.838550962686014,11.856177571641098,12.210085006435074,7.0024794298958835,7.6338322759542745,10.680962947791114,12.380180236055628,10.658548086518442,12.219900844358973,13.731269805818622,16.802699606374947,15.243369378828527,15.908086689926824,14.735402448400158,10.006602154054331,14.834851292353173,14.60917991468675,14.195846245092694,16.04811574834654,15.452495553368934,16.267035991838217,12.62611965387329,14.881571440128138,12.502067361262524,12.98112271524745,15.358856613726264,14.617568971367332,12.709909248628977,13.764950668125142,13.582451317919823,6.4244792964517705,7.443692351582911,8.087371203663295,9.008000192530469,11.164124674985239,12.907427825385092,8.021922811702519,11.199455154949247,12.36126324935102,13.988618470484635,13.31184585149087,9.984114064360647,9.525892425029365,10.448611212474992,11.336527693553858,11.148455691367065,12.201770087550628,16.028890379085944,13.452080142203434,10.873126410596694,8.848325363264385,9.094587841676379,9.80971274428569,11.547438359790975,8.433774627675287,8.703431580751246,7.268179116068161,9.292790122189876,9.305888750442056,11.358668545025527,13.596323239064887,9.865676616843551,9.425506618454067,8.730715689177067,7.756785478349442,9.730555611981824,8.799047587477027,12.062140696832444,10.326490367554483,10.77720810023446,10.883300026980901,10.808080372178145,11.357055445011792,10.806009354229865,10.25514325341268,12.624110562360709,13.952494479807603,14.103706558120095,15.316737768631937,13.699682837923616,13.369290772058891,16.82045644159312,19.346123629297278,5.874115028087428,5.428855152877262,7.060525628249034,10.568604411638233,11.188920884249965,15.188097892083704,11.60201868959622,14.104288568695154,13.716501819461298,12.136613188610111,16.749430829032683,15.591156229626487,12.663612652969459,13.390583936898906,13.473494971099928,15.008140809650328,6.9480120531384095,14.320536301165621,11.291745694623977,10.973635906705702,13.389445854735479,13.910444852649073,12.85246739764923,13.287716106230473,13.008177074697537,10.516082505749774,12.78360770050094,15.21112725317729,14.523125648911105,11.919245184374521,10.110538167813964,6.836947330967484,9.073331577023973,10.931851741026847,11.84275238722979,15.516258796565028,11.020640887691869,13.46989960805614,14.23264245465564,8.89574494306726,12.490871144258726,14.256685604219207,15.612036010086724,15.668742051183566,17.316869639278075,19.462742686490962,18.915274189298458,15.644859230157333,16.65579909077095,16.697162606695386,14.215526596242542,7.8443375999000535,8.553912482091278,9.463699091259516,10.945535500225331,9.263274720899286,13.916641822175675,11.010134731179681,12.07570366164161,11.947293134095275,11.998118982861836,15.74027179576518,14.10939387673777,9.73887249641413,7.651816687229026,11.961949703360595,16.877794592266838,14.035024320893816,13.798889193485747,13.762858045551306,12.584431424635223,14.868011211893489,12.859167876912316,13.132933404574857,16.215588632594976,12.366036659152087,12.557726386608817,13.719380185879459,15.819824360377359,13.278079650716423],\"type\":\"histogram\"},{\"histnorm\":\"probability\",\"marker\":{\"color\":\"red\"},\"name\":\"Aged\",\"opacity\":0.6,\"x\":[13.061461492193171,7.998293022538234,10.659121964631256,14.523552053286352,13.771126959303889,11.69870674707603,15.087241439067638,17.394332223059106,15.504579933192842,13.736649968684514,16.489996726479134,14.686346810657103,15.31365270760968,17.55558550613977,17.35886861061154,17.86526780501671,16.72106730817286,14.717601265930398,16.889950347227828,15.48602765784628,18.00782016723036,13.420877528895966,15.58989958238053,18.001785217946104,17.87160459643953,20.368900797810852,11.734404122361028,8.473805147031742,10.834713179245623,11.063210825979587,10.019958760932802,8.68529852903117,12.463582179236678,13.41487235249946,13.036790939001778,15.372206150681595,11.612580770418921,12.949386580060061,5.378661597784605,7.194525857118773,6.286561050469209,8.096115455333742,5.98986400780842,10.246049777795053,13.054616590847203,12.299434835437571,15.070669882470705,13.70917958752776,12.747876156361393,16.24829941098565,13.197633471228631,11.07073331477646,10.222452718836102,11.850293914460597,11.1329031874722,13.594605867729834,14.67973817050331,7.7695260230902665,9.369789866035982,11.281439665163774,10.704017038885775,11.145665640026873,15.257428731753052,12.444923453189498,13.92006219073304,11.35525033784703,10.117262881162967,11.495082617958017,13.894044450450918,8.65799290671743,11.788594970009077,11.532312720383537,13.639715287917047,14.776929194507318,13.694771790539397,12.805334418030037,11.508194916335931,17.8224305868557,13.489062946275082,11.50512946362102,12.98228510082143,9.462079124066001,10.906528646655241,12.225401271668215,12.46421143620113,11.631828118281511,13.09656136684401,8.652160450342027,13.367887187725314,15.020759558204473,14.691120818910738,13.99249167800242,11.353252500570138,12.78135497116457,13.154184663303148,8.448345379702484,7.0941800675368025,6.922546418104372,8.601524190090606,8.69839142354874,9.557666474825975,8.693217447209673,11.410567004732384,9.714614583006574,12.848890591639103,14.0768502016821,13.1099140250618,10.626909254808105,11.885962890272953,11.684027656603147,14.547994403321571,15.900854051574653,14.810422165308387,16.893230088845062,15.375963943497762,16.643370745014195,18.466417261685248,15.033842931560038,14.22374719949992,12.949365381193902,10.805145215884796,7.945507804321601,11.675804349109427,9.996694912987886,11.250662034608851,13.211075702056696,5.3731345809080295,2.393331940898761,2.097949338118373,1.6474338172675556,1.7250434244238315,2.1866823908375013,5.8875224289050685,4.752822774597344,3.6289677588021845,3.4758237083048087,3.2916351437667757,2.7122806288424632,3.267660838515622,3.154624260698216,3.322387703285868,3.8391076568004205,3.801076682456827,4.272623435120646,6.334854176878716,6.076222518546063,6.425960829325879,8.918958753994854,7.81084246846392,10.003709536921612,8.535189375980789,7.074283186246614,7.494076584870296,7.685185954676792,8.871801700834977,8.187538759611082,9.446234973326176,11.052119885173502,11.35387765803712,9.608604562413808,5.535180605317645,4.194615061873253,4.422691209049518,4.7754031371447585,3.972306291851597,3.6040883310071328,4.675605450436966,6.228185810220257,5.645003881498119,5.739261667849261,6.609766960020797,6.842600023971729,6.219452709483515,5.819604312267566,5.5733093517790655,5.236689076053842,4.991777991961542,6.683895617798513,5.651204576540606,5.643574310971343,6.938666312071523,9.113040280359943,7.982306933105497,10.299761878030816,8.199168123956209,6.3042510284222315,6.9734908306235965,7.215216629282231,7.981914511341731,9.6119971690475,10.65027218029522,9.840972453391112,6.936688298080764,9.666473572506039,8.63597058965542,10.257950722354334,10.560754505371548,10.048498385095309,6.141751151894684,4.742243297093308,3.938089707902299,5.891122992729813,6.546644331917131,7.115735526448343,8.120662704273554,7.349973660732711,6.7878147019868695,6.902586147446799,7.375846144719082,6.716615555617844,5.7914690883015885,4.237401686967107,7.419058427022323,5.125776169814648,7.421937733394277,11.688359871126893,12.788371630657547,13.827944007238822,11.64545241671674,13.146404377821007,12.19337694984822,13.062302951316447,13.727942199769354,14.230849980901823,15.882257472534585,11.912260008778814,17.371835334030237,15.371358400624716,14.211612888076708,6.8658560457778846,5.692256989599346,5.83716980500581,7.805928744479175,7.196204280262123,7.548935493774254,8.277208506466922,10.315113750171497,9.79849027901687,10.108561313234652,11.274295751702189,12.158689316097389,11.27191874592137,9.751575157768299,9.142490529636314,12.658330720462137,10.895454078086718,9.433635067694624,10.140863176247207,9.242240070551691,15.1458409195863,10.70696418128941,10.84302501755772,11.04216114155815,12.852078896461038,13.865167817336252,13.620275672373486,13.979555005930987,15.955375681126661],\"type\":\"histogram\"}],                        {\"template\":{\"data\":{\"barpolar\":[{\"marker\":{\"line\":{\"color\":\"white\",\"width\":0.5},\"pattern\":{\"fillmode\":\"overlay\",\"size\":10,\"solidity\":0.2}},\"type\":\"barpolar\"}],\"bar\":[{\"error_x\":{\"color\":\"rgb(36,36,36)\"},\"error_y\":{\"color\":\"rgb(36,36,36)\"},\"marker\":{\"line\":{\"color\":\"white\",\"width\":0.5},\"pattern\":{\"fillmode\":\"overlay\",\"size\":10,\"solidity\":0.2}},\"type\":\"bar\"}],\"carpet\":[{\"aaxis\":{\"endlinecolor\":\"rgb(36,36,36)\",\"gridcolor\":\"white\",\"linecolor\":\"white\",\"minorgridcolor\":\"white\",\"startlinecolor\":\"rgb(36,36,36)\"},\"baxis\":{\"endlinecolor\":\"rgb(36,36,36)\",\"gridcolor\":\"white\",\"linecolor\":\"white\",\"minorgridcolor\":\"white\",\"startlinecolor\":\"rgb(36,36,36)\"},\"type\":\"carpet\"}],\"choropleth\":[{\"colorbar\":{\"outlinewidth\":1,\"tickcolor\":\"rgb(36,36,36)\",\"ticks\":\"outside\"},\"type\":\"choropleth\"}],\"contourcarpet\":[{\"colorbar\":{\"outlinewidth\":1,\"tickcolor\":\"rgb(36,36,36)\",\"ticks\":\"outside\"},\"type\":\"contourcarpet\"}],\"contour\":[{\"colorbar\":{\"outlinewidth\":1,\"tickcolor\":\"rgb(36,36,36)\",\"ticks\":\"outside\"},\"colorscale\":[[0.0,\"#440154\"],[0.1111111111111111,\"#482878\"],[0.2222222222222222,\"#3e4989\"],[0.3333333333333333,\"#31688e\"],[0.4444444444444444,\"#26828e\"],[0.5555555555555556,\"#1f9e89\"],[0.6666666666666666,\"#35b779\"],[0.7777777777777778,\"#6ece58\"],[0.8888888888888888,\"#b5de2b\"],[1.0,\"#fde725\"]],\"type\":\"contour\"}],\"heatmapgl\":[{\"colorbar\":{\"outlinewidth\":1,\"tickcolor\":\"rgb(36,36,36)\",\"ticks\":\"outside\"},\"colorscale\":[[0.0,\"#440154\"],[0.1111111111111111,\"#482878\"],[0.2222222222222222,\"#3e4989\"],[0.3333333333333333,\"#31688e\"],[0.4444444444444444,\"#26828e\"],[0.5555555555555556,\"#1f9e89\"],[0.6666666666666666,\"#35b779\"],[0.7777777777777778,\"#6ece58\"],[0.8888888888888888,\"#b5de2b\"],[1.0,\"#fde725\"]],\"type\":\"heatmapgl\"}],\"heatmap\":[{\"colorbar\":{\"outlinewidth\":1,\"tickcolor\":\"rgb(36,36,36)\",\"ticks\":\"outside\"},\"colorscale\":[[0.0,\"#440154\"],[0.1111111111111111,\"#482878\"],[0.2222222222222222,\"#3e4989\"],[0.3333333333333333,\"#31688e\"],[0.4444444444444444,\"#26828e\"],[0.5555555555555556,\"#1f9e89\"],[0.6666666666666666,\"#35b779\"],[0.7777777777777778,\"#6ece58\"],[0.8888888888888888,\"#b5de2b\"],[1.0,\"#fde725\"]],\"type\":\"heatmap\"}],\"histogram2dcontour\":[{\"colorbar\":{\"outlinewidth\":1,\"tickcolor\":\"rgb(36,36,36)\",\"ticks\":\"outside\"},\"colorscale\":[[0.0,\"#440154\"],[0.1111111111111111,\"#482878\"],[0.2222222222222222,\"#3e4989\"],[0.3333333333333333,\"#31688e\"],[0.4444444444444444,\"#26828e\"],[0.5555555555555556,\"#1f9e89\"],[0.6666666666666666,\"#35b779\"],[0.7777777777777778,\"#6ece58\"],[0.8888888888888888,\"#b5de2b\"],[1.0,\"#fde725\"]],\"type\":\"histogram2dcontour\"}],\"histogram2d\":[{\"colorbar\":{\"outlinewidth\":1,\"tickcolor\":\"rgb(36,36,36)\",\"ticks\":\"outside\"},\"colorscale\":[[0.0,\"#440154\"],[0.1111111111111111,\"#482878\"],[0.2222222222222222,\"#3e4989\"],[0.3333333333333333,\"#31688e\"],[0.4444444444444444,\"#26828e\"],[0.5555555555555556,\"#1f9e89\"],[0.6666666666666666,\"#35b779\"],[0.7777777777777778,\"#6ece58\"],[0.8888888888888888,\"#b5de2b\"],[1.0,\"#fde725\"]],\"type\":\"histogram2d\"}],\"histogram\":[{\"marker\":{\"line\":{\"color\":\"white\",\"width\":0.6}},\"type\":\"histogram\"}],\"mesh3d\":[{\"colorbar\":{\"outlinewidth\":1,\"tickcolor\":\"rgb(36,36,36)\",\"ticks\":\"outside\"},\"type\":\"mesh3d\"}],\"parcoords\":[{\"line\":{\"colorbar\":{\"outlinewidth\":1,\"tickcolor\":\"rgb(36,36,36)\",\"ticks\":\"outside\"}},\"type\":\"parcoords\"}],\"pie\":[{\"automargin\":true,\"type\":\"pie\"}],\"scatter3d\":[{\"line\":{\"colorbar\":{\"outlinewidth\":1,\"tickcolor\":\"rgb(36,36,36)\",\"ticks\":\"outside\"}},\"marker\":{\"colorbar\":{\"outlinewidth\":1,\"tickcolor\":\"rgb(36,36,36)\",\"ticks\":\"outside\"}},\"type\":\"scatter3d\"}],\"scattercarpet\":[{\"marker\":{\"colorbar\":{\"outlinewidth\":1,\"tickcolor\":\"rgb(36,36,36)\",\"ticks\":\"outside\"}},\"type\":\"scattercarpet\"}],\"scattergeo\":[{\"marker\":{\"colorbar\":{\"outlinewidth\":1,\"tickcolor\":\"rgb(36,36,36)\",\"ticks\":\"outside\"}},\"type\":\"scattergeo\"}],\"scattergl\":[{\"marker\":{\"colorbar\":{\"outlinewidth\":1,\"tickcolor\":\"rgb(36,36,36)\",\"ticks\":\"outside\"}},\"type\":\"scattergl\"}],\"scattermapbox\":[{\"marker\":{\"colorbar\":{\"outlinewidth\":1,\"tickcolor\":\"rgb(36,36,36)\",\"ticks\":\"outside\"}},\"type\":\"scattermapbox\"}],\"scatterpolargl\":[{\"marker\":{\"colorbar\":{\"outlinewidth\":1,\"tickcolor\":\"rgb(36,36,36)\",\"ticks\":\"outside\"}},\"type\":\"scatterpolargl\"}],\"scatterpolar\":[{\"marker\":{\"colorbar\":{\"outlinewidth\":1,\"tickcolor\":\"rgb(36,36,36)\",\"ticks\":\"outside\"}},\"type\":\"scatterpolar\"}],\"scatter\":[{\"fillpattern\":{\"fillmode\":\"overlay\",\"size\":10,\"solidity\":0.2},\"type\":\"scatter\"}],\"scatterternary\":[{\"marker\":{\"colorbar\":{\"outlinewidth\":1,\"tickcolor\":\"rgb(36,36,36)\",\"ticks\":\"outside\"}},\"type\":\"scatterternary\"}],\"surface\":[{\"colorbar\":{\"outlinewidth\":1,\"tickcolor\":\"rgb(36,36,36)\",\"ticks\":\"outside\"},\"colorscale\":[[0.0,\"#440154\"],[0.1111111111111111,\"#482878\"],[0.2222222222222222,\"#3e4989\"],[0.3333333333333333,\"#31688e\"],[0.4444444444444444,\"#26828e\"],[0.5555555555555556,\"#1f9e89\"],[0.6666666666666666,\"#35b779\"],[0.7777777777777778,\"#6ece58\"],[0.8888888888888888,\"#b5de2b\"],[1.0,\"#fde725\"]],\"type\":\"surface\"}],\"table\":[{\"cells\":{\"fill\":{\"color\":\"rgb(237,237,237)\"},\"line\":{\"color\":\"white\"}},\"header\":{\"fill\":{\"color\":\"rgb(217,217,217)\"},\"line\":{\"color\":\"white\"}},\"type\":\"table\"}]},\"layout\":{\"annotationdefaults\":{\"arrowhead\":0,\"arrowwidth\":1},\"autotypenumbers\":\"strict\",\"coloraxis\":{\"colorbar\":{\"outlinewidth\":1,\"tickcolor\":\"rgb(36,36,36)\",\"ticks\":\"outside\"}},\"colorscale\":{\"diverging\":[[0.0,\"rgb(103,0,31)\"],[0.1,\"rgb(178,24,43)\"],[0.2,\"rgb(214,96,77)\"],[0.3,\"rgb(244,165,130)\"],[0.4,\"rgb(253,219,199)\"],[0.5,\"rgb(247,247,247)\"],[0.6,\"rgb(209,229,240)\"],[0.7,\"rgb(146,197,222)\"],[0.8,\"rgb(67,147,195)\"],[0.9,\"rgb(33,102,172)\"],[1.0,\"rgb(5,48,97)\"]],\"sequential\":[[0.0,\"#440154\"],[0.1111111111111111,\"#482878\"],[0.2222222222222222,\"#3e4989\"],[0.3333333333333333,\"#31688e\"],[0.4444444444444444,\"#26828e\"],[0.5555555555555556,\"#1f9e89\"],[0.6666666666666666,\"#35b779\"],[0.7777777777777778,\"#6ece58\"],[0.8888888888888888,\"#b5de2b\"],[1.0,\"#fde725\"]],\"sequentialminus\":[[0.0,\"#440154\"],[0.1111111111111111,\"#482878\"],[0.2222222222222222,\"#3e4989\"],[0.3333333333333333,\"#31688e\"],[0.4444444444444444,\"#26828e\"],[0.5555555555555556,\"#1f9e89\"],[0.6666666666666666,\"#35b779\"],[0.7777777777777778,\"#6ece58\"],[0.8888888888888888,\"#b5de2b\"],[1.0,\"#fde725\"]]},\"colorway\":[\"#1F77B4\",\"#FF7F0E\",\"#2CA02C\",\"#D62728\",\"#9467BD\",\"#8C564B\",\"#E377C2\",\"#7F7F7F\",\"#BCBD22\",\"#17BECF\"],\"font\":{\"color\":\"rgb(36,36,36)\"},\"geo\":{\"bgcolor\":\"white\",\"lakecolor\":\"white\",\"landcolor\":\"white\",\"showlakes\":true,\"showland\":true,\"subunitcolor\":\"white\"},\"hoverlabel\":{\"align\":\"left\"},\"hovermode\":\"closest\",\"mapbox\":{\"style\":\"light\"},\"paper_bgcolor\":\"white\",\"plot_bgcolor\":\"white\",\"polar\":{\"angularaxis\":{\"gridcolor\":\"rgb(232,232,232)\",\"linecolor\":\"rgb(36,36,36)\",\"showgrid\":false,\"showline\":true,\"ticks\":\"outside\"},\"bgcolor\":\"white\",\"radialaxis\":{\"gridcolor\":\"rgb(232,232,232)\",\"linecolor\":\"rgb(36,36,36)\",\"showgrid\":false,\"showline\":true,\"ticks\":\"outside\"}},\"scene\":{\"xaxis\":{\"backgroundcolor\":\"white\",\"gridcolor\":\"rgb(232,232,232)\",\"gridwidth\":2,\"linecolor\":\"rgb(36,36,36)\",\"showbackground\":true,\"showgrid\":false,\"showline\":true,\"ticks\":\"outside\",\"zeroline\":false,\"zerolinecolor\":\"rgb(36,36,36)\"},\"yaxis\":{\"backgroundcolor\":\"white\",\"gridcolor\":\"rgb(232,232,232)\",\"gridwidth\":2,\"linecolor\":\"rgb(36,36,36)\",\"showbackground\":true,\"showgrid\":false,\"showline\":true,\"ticks\":\"outside\",\"zeroline\":false,\"zerolinecolor\":\"rgb(36,36,36)\"},\"zaxis\":{\"backgroundcolor\":\"white\",\"gridcolor\":\"rgb(232,232,232)\",\"gridwidth\":2,\"linecolor\":\"rgb(36,36,36)\",\"showbackground\":true,\"showgrid\":false,\"showline\":true,\"ticks\":\"outside\",\"zeroline\":false,\"zerolinecolor\":\"rgb(36,36,36)\"}},\"shapedefaults\":{\"fillcolor\":\"black\",\"line\":{\"width\":0},\"opacity\":0.3},\"ternary\":{\"aaxis\":{\"gridcolor\":\"rgb(232,232,232)\",\"linecolor\":\"rgb(36,36,36)\",\"showgrid\":false,\"showline\":true,\"ticks\":\"outside\"},\"baxis\":{\"gridcolor\":\"rgb(232,232,232)\",\"linecolor\":\"rgb(36,36,36)\",\"showgrid\":false,\"showline\":true,\"ticks\":\"outside\"},\"bgcolor\":\"white\",\"caxis\":{\"gridcolor\":\"rgb(232,232,232)\",\"linecolor\":\"rgb(36,36,36)\",\"showgrid\":false,\"showline\":true,\"ticks\":\"outside\"}},\"title\":{\"x\":0.05},\"xaxis\":{\"automargin\":true,\"gridcolor\":\"rgb(232,232,232)\",\"linecolor\":\"rgb(36,36,36)\",\"showgrid\":false,\"showline\":true,\"ticks\":\"outside\",\"title\":{\"standoff\":15},\"zeroline\":false,\"zerolinecolor\":\"rgb(36,36,36)\"},\"yaxis\":{\"automargin\":true,\"gridcolor\":\"rgb(232,232,232)\",\"linecolor\":\"rgb(36,36,36)\",\"showgrid\":false,\"showline\":true,\"ticks\":\"outside\",\"title\":{\"standoff\":15},\"zeroline\":false,\"zerolinecolor\":\"rgb(36,36,36)\"}}},\"xaxis\":{\"anchor\":\"y\",\"domain\":[0.0,1.0],\"title\":{\"text\":\"Average Velocity (cm/s)\"},\"linewidth\":1.5},\"yaxis\":{\"anchor\":\"x\",\"domain\":[0.0,1.0],\"title\":{\"text\":\"Probability\"},\"linewidth\":1.5},\"title\":{\"y\":0.9,\"x\":0.5,\"xanchor\":\"center\",\"yanchor\":\"top\"},\"font\":{\"size\":22,\"family\":\"Arial\"},\"height\":500,\"width\":500,\"barmode\":\"overlay\"},                        {\"responsive\": true}                    ).then(function(){\n",
       "                            \n",
       "var gd = document.getElementById('1ea5edde-ce20-4892-8d8c-43a5889ba869');\n",
       "var x = new MutationObserver(function (mutations, observer) {{\n",
       "        var display = window.getComputedStyle(gd).display;\n",
       "        if (!display || display === 'none') {{\n",
       "            console.log([gd, 'removed!']);\n",
       "            Plotly.purge(gd);\n",
       "            observer.disconnect();\n",
       "        }}\n",
       "}});\n",
       "\n",
       "// Listen for the removal of the full notebook cells\n",
       "var notebookContainer = gd.closest('#notebook-container');\n",
       "if (notebookContainer) {{\n",
       "    x.observe(notebookContainer, {childList: true});\n",
       "}}\n",
       "\n",
       "// Listen for the clearing of the current output cell\n",
       "var outputEl = gd.closest('.output');\n",
       "if (outputEl) {{\n",
       "    x.observe(outputEl, {childList: true});\n",
       "}}\n",
       "\n",
       "                        })                };                });            </script>        </div>"
      ]
     },
     "metadata": {},
     "output_type": "display_data"
    }
   ],
   "source": [
    "fig = pf.custom_graph_template(x_title='Average Velocity (cm/s)', y_title='Probability', height=500, width=500)\n",
    "fig.add_trace(go.Histogram(x=young_v, marker_color=group_colors_dict['Young Adult'], \n",
    "                           name='Young Adult', opacity=0.6, histnorm='probability'))\n",
    "fig.add_trace(go.Histogram(x=middle_aged_v, marker_color=group_colors_dict['Middle Aged'], \n",
    "                           name='Middle Aged', opacity=0.6, histnorm='probability'))\n",
    "fig.add_trace(go.Histogram(x=aged_v, marker_color=group_colors_dict['Aged'], \n",
    "                           name='Aged', opacity=0.6, histnorm='probability'))\n",
    "fig.update_layout(barmode='overlay')\n",
    "fig.show()\n",
    "fig.write_image(pjoin(fig_path, 'velocity_distribution.png'))"
   ]
  },
  {
   "cell_type": "code",
   "execution_count": 90,
   "metadata": {},
   "outputs": [
    {
     "name": "stdout",
     "output_type": "stream",
     "text": [
      "                W          pval  equal_var\n",
      "levene  25.672622  2.014414e-11      False\n"
     ]
    },
    {
     "data": {
      "text/html": [
       "<div>\n",
       "<style scoped>\n",
       "    .dataframe tbody tr th:only-of-type {\n",
       "        vertical-align: middle;\n",
       "    }\n",
       "\n",
       "    .dataframe tbody tr th {\n",
       "        vertical-align: top;\n",
       "    }\n",
       "\n",
       "    .dataframe thead th {\n",
       "        text-align: right;\n",
       "    }\n",
       "</style>\n",
       "<table border=\"1\" class=\"dataframe\">\n",
       "  <thead>\n",
       "    <tr style=\"text-align: right;\">\n",
       "      <th></th>\n",
       "      <th>Source</th>\n",
       "      <th>ddof1</th>\n",
       "      <th>ddof2</th>\n",
       "      <th>F</th>\n",
       "      <th>p-unc</th>\n",
       "      <th>np2</th>\n",
       "    </tr>\n",
       "  </thead>\n",
       "  <tbody>\n",
       "    <tr>\n",
       "      <th>0</th>\n",
       "      <td>group</td>\n",
       "      <td>2</td>\n",
       "      <td>388.727056</td>\n",
       "      <td>56.965576</td>\n",
       "      <td>2.011806e-22</td>\n",
       "      <td>0.167775</td>\n",
       "    </tr>\n",
       "  </tbody>\n",
       "</table>\n",
       "</div>"
      ],
      "text/plain": [
       "  Source  ddof1       ddof2          F         p-unc       np2\n",
       "0  group      2  388.727056  56.965576  2.011806e-22  0.167775"
      ]
     },
     "execution_count": 90,
     "metadata": {},
     "output_type": "execute_result"
    }
   ],
   "source": [
    "young_v = np.asarray(young_v)[~np.isnan(young_v)]\n",
    "anova_df = pd.DataFrame({'young': young_v,\n",
    "                         'middle_aged': middle_aged_v[0:len(young_v)],\n",
    "                         'aged': aged_v[0:len(young_v)]})\n",
    "anova_melt = anova_df.melt(value_vars=['young', 'middle_aged', 'aged'], value_name='velocity', var_name='group')\n",
    "print(pg.homoscedasticity(anova_melt, dv='velocity', group='group'))\n",
    "anova_melt.welch_anova(dv='velocity', between='group')"
   ]
  },
  {
   "cell_type": "code",
   "execution_count": 91,
   "metadata": {},
   "outputs": [
    {
     "data": {
      "text/html": [
       "<div>\n",
       "<style scoped>\n",
       "    .dataframe tbody tr th:only-of-type {\n",
       "        vertical-align: middle;\n",
       "    }\n",
       "\n",
       "    .dataframe tbody tr th {\n",
       "        vertical-align: top;\n",
       "    }\n",
       "\n",
       "    .dataframe thead th {\n",
       "        text-align: right;\n",
       "    }\n",
       "</style>\n",
       "<table border=\"1\" class=\"dataframe\">\n",
       "  <thead>\n",
       "    <tr style=\"text-align: right;\">\n",
       "      <th></th>\n",
       "      <th>A</th>\n",
       "      <th>B</th>\n",
       "      <th>mean(A)</th>\n",
       "      <th>mean(B)</th>\n",
       "      <th>diff</th>\n",
       "      <th>se</th>\n",
       "      <th>T</th>\n",
       "      <th>df</th>\n",
       "      <th>pval</th>\n",
       "      <th>hedges</th>\n",
       "    </tr>\n",
       "  </thead>\n",
       "  <tbody>\n",
       "    <tr>\n",
       "      <th>0</th>\n",
       "      <td>aged</td>\n",
       "      <td>middle_aged</td>\n",
       "      <td>10.311236</td>\n",
       "      <td>12.130511</td>\n",
       "      <td>-1.819274</td>\n",
       "      <td>0.355803</td>\n",
       "      <td>-5.113145</td>\n",
       "      <td>355.111192</td>\n",
       "      <td>1.552046e-06</td>\n",
       "      <td>-0.510350</td>\n",
       "    </tr>\n",
       "    <tr>\n",
       "      <th>1</th>\n",
       "      <td>aged</td>\n",
       "      <td>young</td>\n",
       "      <td>10.311236</td>\n",
       "      <td>13.947997</td>\n",
       "      <td>-3.636761</td>\n",
       "      <td>0.351480</td>\n",
       "      <td>-10.346981</td>\n",
       "      <td>347.577235</td>\n",
       "      <td>5.306866e-14</td>\n",
       "      <td>-1.032747</td>\n",
       "    </tr>\n",
       "    <tr>\n",
       "      <th>2</th>\n",
       "      <td>middle_aged</td>\n",
       "      <td>young</td>\n",
       "      <td>12.130511</td>\n",
       "      <td>13.947997</td>\n",
       "      <td>-1.817486</td>\n",
       "      <td>0.282033</td>\n",
       "      <td>-6.444226</td>\n",
       "      <td>397.412779</td>\n",
       "      <td>1.009694e-09</td>\n",
       "      <td>-0.643208</td>\n",
       "    </tr>\n",
       "  </tbody>\n",
       "</table>\n",
       "</div>"
      ],
      "text/plain": [
       "             A            B    mean(A)    mean(B)      diff        se  \\\n",
       "0         aged  middle_aged  10.311236  12.130511 -1.819274  0.355803   \n",
       "1         aged        young  10.311236  13.947997 -3.636761  0.351480   \n",
       "2  middle_aged        young  12.130511  13.947997 -1.817486  0.282033   \n",
       "\n",
       "           T          df          pval    hedges  \n",
       "0  -5.113145  355.111192  1.552046e-06 -0.510350  \n",
       "1 -10.346981  347.577235  5.306866e-14 -1.032747  \n",
       "2  -6.444226  397.412779  1.009694e-09 -0.643208  "
      ]
     },
     "execution_count": 91,
     "metadata": {},
     "output_type": "execute_result"
    }
   ],
   "source": [
    "pg.pairwise_gameshowell(anova_melt, dv='velocity', between='group')"
   ]
  },
  {
   "cell_type": "markdown",
   "metadata": {},
   "source": [
    "### Separate velocity distributions by days."
   ]
  },
  {
   "cell_type": "code",
   "execution_count": 101,
   "metadata": {},
   "outputs": [
    {
     "name": "stderr",
     "output_type": "stream",
     "text": [
      "/media/caishuman/csstorage3/Austin/CircleTrack/CircleTrackAnalysis/MultiCon_Behavior/MultiCon_Aging2/../../place_cells.py:44: RuntimeWarning:\n",
      "\n",
      "divide by zero encountered in divide\n",
      "\n",
      "/media/caishuman/csstorage3/Austin/CircleTrack/CircleTrackAnalysis/MultiCon_Behavior/MultiCon_Aging2/../../place_cells.py:44: RuntimeWarning:\n",
      "\n",
      "invalid value encountered in divide\n",
      "\n"
     ]
    }
   ],
   "source": [
    "vel_dict = {'mouse': [], 'group': [], 'day': [], 'context_day': [], 'session': [], 'avg_velocity': [], 'max_velocity': [], 'vel_values': []}\n",
    "downsample_factor = 42\n",
    "for mouse in os.listdir(circle_path)[:-1]:\n",
    "    mouse_path = pjoin(circle_path, mouse)\n",
    "    group = 'Young Adult' if mouse in young_adult else 'Middle Aged' if mouse in middle_aged else 'Aged'\n",
    "    session_id = np.nan\n",
    "    day_counter = 1\n",
    "    for idx, session in enumerate(os.listdir(mouse_path)):\n",
    "        behav = pd.read_feather(pjoin(mouse_path, f'{session}'))\n",
    "        x_cm, y_cm = ctb.convert_to_cm(x=behav['x'], y=behav['y'], update_dataframe=False)\n",
    "        velocity, running = pc.define_running_epochs(x_cm[::downsample_factor], y_cm[::downsample_factor], behav['t'][::downsample_factor])\n",
    "        vel_dict['mouse'].append(mouse)\n",
    "        vel_dict['group'].append(group)\n",
    "        vel_dict['day'].append(idx+1)\n",
    "\n",
    "        if np.unique(behav['session'])[0] != session_id:\n",
    "            day_counter = 1\n",
    "            session_id = np.unique(behav['session'])[0]\n",
    "            vel_dict['context_day'].append(day_counter)\n",
    "        else:\n",
    "            day_counter += 1\n",
    "            session_id = np.unique(behav['session'])[0]\n",
    "            vel_dict['context_day'].append(day_counter)\n",
    "\n",
    "        vel_dict['session'].append(np.unique(behav['session'])[0])\n",
    "        vel_dict['avg_velocity'].append(np.mean(velocity))\n",
    "        vel_dict['max_velocity'].append(np.max(velocity))\n",
    "        vel_dict['vel_values'].append(velocity)\n",
    "vel = pd.DataFrame(vel_dict)"
   ]
  },
  {
   "cell_type": "code",
   "execution_count": 124,
   "metadata": {},
   "outputs": [
    {
     "data": {
      "application/vnd.plotly.v1+json": {
       "config": {
        "plotlyServerURL": "https://plot.ly"
       },
       "data": [
        {
         "error_y": {
          "array": [
           0.6154399694321416,
           0.6314431355146434,
           0.5554264372629142,
           0.5817729256179262,
           0.7484055361524443,
           1.0055384196863817,
           0.7030786361860029,
           0.5892646413753652,
           0.19912091035917578,
           0.4248038715835681,
           0.7034578708283044
          ],
          "type": "data"
         },
         "legendgroup": "Young Adult",
         "line": {
          "color": "darkgrey"
         },
         "name": "Young Adult",
         "showlegend": true,
         "type": "scatter",
         "x": [
          1,
          2,
          3,
          4,
          5,
          6,
          7,
          8,
          9,
          10,
          11
         ],
         "xaxis": "x",
         "y": [
          8.549468202292156,
          9.575090663425954,
          11.469066306800903,
          11.852499342473322,
          11.695532008284612,
          13.872310900456771,
          13.517806947136151,
          12.90832460529933,
          13.400834483162152,
          13.171365762728575,
          14.000699885422616
         ],
         "yaxis": "y"
        },
        {
         "error_y": {
          "array": [
           0.4083961771547957,
           0.44332322736208807,
           0.4742830024313047,
           1.0219311729017853,
           null
          ],
          "type": "data"
         },
         "legendgroup": "Young Adult",
         "line": {
          "color": "darkgrey"
         },
         "name": "Young Adult",
         "showlegend": false,
         "type": "scatter",
         "x": [
          1,
          2,
          3,
          4,
          5
         ],
         "xaxis": "x2",
         "y": [
          14.389060488063809,
          14.285694267334614,
          14.836204624192593,
          15.037511764188832,
          17.23318413310234
         ],
         "yaxis": "y2"
        },
        {
         "error_y": {
          "array": [
           0.9450858752072974,
           0.8377443511424932,
           0.7103355948368003,
           2.524136622584887,
           0.5785842298046385,
           0.22396396342262334
          ],
          "type": "data"
         },
         "legendgroup": "Young Adult",
         "line": {
          "color": "darkgrey"
         },
         "name": "Young Adult",
         "showlegend": false,
         "type": "scatter",
         "x": [
          1,
          2,
          3,
          4,
          5,
          6
         ],
         "xaxis": "x3",
         "y": [
          14.920904595550997,
          14.45457208846597,
          13.975216868105036,
          14.42054066586031,
          13.971677866882233,
          13.061611870905288
         ],
         "yaxis": "y3"
        },
        {
         "error_y": {
          "array": [
           0.9075870802239293,
           1.2925766358897741,
           0.8817845273786761,
           1.3317666334047706,
           0.6089885866593141
          ],
          "type": "data"
         },
         "legendgroup": "Young Adult",
         "line": {
          "color": "darkgrey"
         },
         "name": "Young Adult",
         "showlegend": false,
         "type": "scatter",
         "x": [
          1,
          2,
          3,
          4,
          5
         ],
         "xaxis": "x4",
         "y": [
          16.375195373905697,
          15.794165646574347,
          14.927521409165758,
          15.267329982626707,
          17.62692636056032
         ],
         "yaxis": "y4"
        },
        {
         "error_y": {
          "array": [
           0.49754158682421246,
           0.6165213308022568,
           0.4696149780528891,
           0.4327053506442298,
           0.4538215844834839,
           1.0574624425827757,
           0.6083906905619894,
           0.8790758956474881,
           0.8989125710168895,
           0.8136910800065001,
           1.414700609775391
          ],
          "type": "data"
         },
         "legendgroup": "Middle Aged",
         "line": {
          "color": "midnightblue"
         },
         "name": "Middle Aged",
         "showlegend": false,
         "type": "scatter",
         "x": [
          1,
          2,
          3,
          4,
          5,
          6,
          7,
          8,
          9,
          10,
          11
         ],
         "xaxis": "x",
         "y": [
          7.084552810522301,
          7.506038808717577,
          8.91702014409403,
          10.653645694906757,
          11.177925493536117,
          12.251049825444575,
          11.057468786449206,
          12.25233860001521,
          12.211195125938591,
          12.365591236124937,
          13.335511600383834
         ],
         "yaxis": "y"
        },
        {
         "error_y": {
          "array": [
           0.48747156017831017,
           0.8785658694560793,
           0.7301199628496764,
           1.0127258874617162,
           1.1400641626808972,
           0.8268031799415936
          ],
          "type": "data"
         },
         "legendgroup": "Middle Aged",
         "line": {
          "color": "midnightblue"
         },
         "name": "Middle Aged",
         "showlegend": true,
         "type": "scatter",
         "x": [
          1,
          2,
          3,
          4,
          5,
          6
         ],
         "xaxis": "x2",
         "y": [
          11.579358438409383,
          12.06398761088233,
          12.496809934688176,
          13.427678794450225,
          13.199711087204877,
          14.625692373427341
         ],
         "yaxis": "y2"
        },
        {
         "error_y": {
          "array": [
           0.9139373826569747,
           1.1993636193343882,
           0.6302785402539325,
           0.26951745072577127,
           null,
           null
          ],
          "type": "data"
         },
         "legendgroup": "Middle Aged",
         "line": {
          "color": "midnightblue"
         },
         "name": "Middle Aged",
         "showlegend": false,
         "type": "scatter",
         "x": [
          1,
          2,
          3,
          4,
          5,
          6
         ],
         "xaxis": "x3",
         "y": [
          13.61523106885446,
          14.580516936608207,
          12.706771736945067,
          12.942909216019965,
          13.910444852649073,
          12.85246739764923
         ],
         "yaxis": "y3"
        },
        {
         "error_y": {
          "array": [
           1.0302636547630923,
           0.8981719668663495,
           0.8381748286264508,
           0.7527633446890966
          ],
          "type": "data"
         },
         "legendgroup": "Middle Aged",
         "line": {
          "color": "midnightblue"
         },
         "name": "Middle Aged",
         "showlegend": false,
         "type": "scatter",
         "x": [
          1,
          2,
          3,
          4
         ],
         "xaxis": "x4",
         "y": [
          14.298402853657343,
          12.912488214391539,
          12.212682417329766,
          13.461809142726654
         ],
         "yaxis": "y4"
        },
        {
         "error_y": {
          "array": [
           1.0126467527078913,
           0.8465292037877321,
           1.25236211423755,
           1.4313056763289091,
           1.3759279680800547,
           1.4820868338131719,
           1.260886948054224,
           1.3533675919278536,
           1.2599573119089817,
           1.566726421132991,
           1.4130761243048187
          ],
          "type": "data"
         },
         "legendgroup": "Aged",
         "line": {
          "color": "red"
         },
         "name": "Aged",
         "showlegend": false,
         "type": "scatter",
         "x": [
          1,
          2,
          3,
          4,
          5,
          6,
          7,
          8,
          9,
          10,
          11
         ],
         "xaxis": "x",
         "y": [
          8.116207425155649,
          6.244814424075929,
          6.999215160902628,
          8.126524099982953,
          7.884417639033373,
          8.206817778094182,
          9.45624545109825,
          9.627371077669526,
          8.566704640165632,
          9.223513208617026,
          9.390865370038268
         ],
         "yaxis": "y"
        },
        {
         "error_y": {
          "array": [
           1.4062888513460399,
           1.3814904484135666,
           1.4852777000417619,
           1.6388167407643293,
           2.021584131945918,
           1.954399533602199,
           1.691750981294502,
           1.886903451671482,
           0.2563527413728217,
           0.0970407631825445,
           0.08573223232078851,
           0.14802617055460263,
           null
          ],
          "type": "data"
         },
         "legendgroup": "Aged",
         "line": {
          "color": "red"
         },
         "name": "Aged",
         "showlegend": false,
         "type": "scatter",
         "x": [
          1,
          2,
          3,
          4,
          5,
          6,
          7,
          8,
          9,
          10,
          11,
          12,
          13
         ],
         "xaxis": "x2",
         "y": [
          8.339830634340634,
          8.446117387973313,
          8.931268020707325,
          9.728759447545064,
          9.742298909901818,
          10.690214333086713,
          10.126876278590823,
          7.742663915284446,
          6.682313570698701,
          9.015999517177399,
          7.896574700784709,
          10.151735707476213,
          8.199168123956209
         ],
         "yaxis": "y2"
        },
        {
         "error_y": {
          "array": [
           1.4969283617259113,
           1.2302733154886463,
           1.137572172802761,
           1.333050126715212,
           0.9846527161034794,
           1.1922144091385518,
           2.7637615690601827,
           0.9826772728877361,
           2.230295388594295,
           0.8028951360061534,
           1.4035663411768833
          ],
          "type": "data"
         },
         "legendgroup": "Aged",
         "line": {
          "color": "red"
         },
         "name": "Aged",
         "showlegend": false,
         "type": "scatter",
         "x": [
          1,
          2,
          3,
          4,
          5,
          6,
          7,
          8,
          9,
          10,
          11
         ],
         "xaxis": "x3",
         "y": [
          12.305636527986142,
          11.913487633880019,
          11.774231344318231,
          13.403411653704955,
          12.295546973171101,
          11.033186862529664,
          9.700449867140946,
          10.649150845393775,
          10.866265978249714,
          9.45505558634818,
          11.964320846548432
         ],
         "yaxis": "y3"
        },
        {
         "error_y": {
          "array": [
           1.0442224699183604,
           0.840214873428784,
           1.0743339070932252,
           0.6699812322709069,
           null,
           null,
           null
          ],
          "type": "data"
         },
         "legendgroup": "Aged",
         "line": {
          "color": "red"
         },
         "name": "Aged",
         "showlegend": true,
         "type": "scatter",
         "x": [
          1,
          2,
          3,
          4,
          5,
          6,
          7
         ],
         "xaxis": "x4",
         "y": [
          12.761218852549574,
          12.60559500818357,
          13.777688578672961,
          12.084919761723762,
          7.945507804321601,
          11.675804349109427,
          9.996694912987886
         ],
         "yaxis": "y4"
        }
       ],
       "layout": {
        "annotations": [
         {
          "font": {
           "size": 22
          },
          "showarrow": false,
          "text": "A",
          "x": 0.10625,
          "xanchor": "center",
          "xref": "paper",
          "y": 1,
          "yanchor": "bottom",
          "yref": "paper"
         },
         {
          "font": {
           "size": 22
          },
          "showarrow": false,
          "text": "B",
          "x": 0.36875,
          "xanchor": "center",
          "xref": "paper",
          "y": 1,
          "yanchor": "bottom",
          "yref": "paper"
         },
         {
          "font": {
           "size": 22
          },
          "showarrow": false,
          "text": "C",
          "x": 0.6312500000000001,
          "xanchor": "center",
          "xref": "paper",
          "y": 1,
          "yanchor": "bottom",
          "yref": "paper"
         },
         {
          "font": {
           "size": 22
          },
          "showarrow": false,
          "text": "D",
          "x": 0.89375,
          "xanchor": "center",
          "xref": "paper",
          "y": 1,
          "yanchor": "bottom",
          "yref": "paper"
         }
        ],
        "font": {
         "family": "Arial",
         "size": 22
        },
        "height": 500,
        "template": {
         "data": {
          "bar": [
           {
            "error_x": {
             "color": "rgb(36,36,36)"
            },
            "error_y": {
             "color": "rgb(36,36,36)"
            },
            "marker": {
             "line": {
              "color": "white",
              "width": 0.5
             },
             "pattern": {
              "fillmode": "overlay",
              "size": 10,
              "solidity": 0.2
             }
            },
            "type": "bar"
           }
          ],
          "barpolar": [
           {
            "marker": {
             "line": {
              "color": "white",
              "width": 0.5
             },
             "pattern": {
              "fillmode": "overlay",
              "size": 10,
              "solidity": 0.2
             }
            },
            "type": "barpolar"
           }
          ],
          "carpet": [
           {
            "aaxis": {
             "endlinecolor": "rgb(36,36,36)",
             "gridcolor": "white",
             "linecolor": "white",
             "minorgridcolor": "white",
             "startlinecolor": "rgb(36,36,36)"
            },
            "baxis": {
             "endlinecolor": "rgb(36,36,36)",
             "gridcolor": "white",
             "linecolor": "white",
             "minorgridcolor": "white",
             "startlinecolor": "rgb(36,36,36)"
            },
            "type": "carpet"
           }
          ],
          "choropleth": [
           {
            "colorbar": {
             "outlinewidth": 1,
             "tickcolor": "rgb(36,36,36)",
             "ticks": "outside"
            },
            "type": "choropleth"
           }
          ],
          "contour": [
           {
            "colorbar": {
             "outlinewidth": 1,
             "tickcolor": "rgb(36,36,36)",
             "ticks": "outside"
            },
            "colorscale": [
             [
              0,
              "#440154"
             ],
             [
              0.1111111111111111,
              "#482878"
             ],
             [
              0.2222222222222222,
              "#3e4989"
             ],
             [
              0.3333333333333333,
              "#31688e"
             ],
             [
              0.4444444444444444,
              "#26828e"
             ],
             [
              0.5555555555555556,
              "#1f9e89"
             ],
             [
              0.6666666666666666,
              "#35b779"
             ],
             [
              0.7777777777777778,
              "#6ece58"
             ],
             [
              0.8888888888888888,
              "#b5de2b"
             ],
             [
              1,
              "#fde725"
             ]
            ],
            "type": "contour"
           }
          ],
          "contourcarpet": [
           {
            "colorbar": {
             "outlinewidth": 1,
             "tickcolor": "rgb(36,36,36)",
             "ticks": "outside"
            },
            "type": "contourcarpet"
           }
          ],
          "heatmap": [
           {
            "colorbar": {
             "outlinewidth": 1,
             "tickcolor": "rgb(36,36,36)",
             "ticks": "outside"
            },
            "colorscale": [
             [
              0,
              "#440154"
             ],
             [
              0.1111111111111111,
              "#482878"
             ],
             [
              0.2222222222222222,
              "#3e4989"
             ],
             [
              0.3333333333333333,
              "#31688e"
             ],
             [
              0.4444444444444444,
              "#26828e"
             ],
             [
              0.5555555555555556,
              "#1f9e89"
             ],
             [
              0.6666666666666666,
              "#35b779"
             ],
             [
              0.7777777777777778,
              "#6ece58"
             ],
             [
              0.8888888888888888,
              "#b5de2b"
             ],
             [
              1,
              "#fde725"
             ]
            ],
            "type": "heatmap"
           }
          ],
          "heatmapgl": [
           {
            "colorbar": {
             "outlinewidth": 1,
             "tickcolor": "rgb(36,36,36)",
             "ticks": "outside"
            },
            "colorscale": [
             [
              0,
              "#440154"
             ],
             [
              0.1111111111111111,
              "#482878"
             ],
             [
              0.2222222222222222,
              "#3e4989"
             ],
             [
              0.3333333333333333,
              "#31688e"
             ],
             [
              0.4444444444444444,
              "#26828e"
             ],
             [
              0.5555555555555556,
              "#1f9e89"
             ],
             [
              0.6666666666666666,
              "#35b779"
             ],
             [
              0.7777777777777778,
              "#6ece58"
             ],
             [
              0.8888888888888888,
              "#b5de2b"
             ],
             [
              1,
              "#fde725"
             ]
            ],
            "type": "heatmapgl"
           }
          ],
          "histogram": [
           {
            "marker": {
             "line": {
              "color": "white",
              "width": 0.6
             }
            },
            "type": "histogram"
           }
          ],
          "histogram2d": [
           {
            "colorbar": {
             "outlinewidth": 1,
             "tickcolor": "rgb(36,36,36)",
             "ticks": "outside"
            },
            "colorscale": [
             [
              0,
              "#440154"
             ],
             [
              0.1111111111111111,
              "#482878"
             ],
             [
              0.2222222222222222,
              "#3e4989"
             ],
             [
              0.3333333333333333,
              "#31688e"
             ],
             [
              0.4444444444444444,
              "#26828e"
             ],
             [
              0.5555555555555556,
              "#1f9e89"
             ],
             [
              0.6666666666666666,
              "#35b779"
             ],
             [
              0.7777777777777778,
              "#6ece58"
             ],
             [
              0.8888888888888888,
              "#b5de2b"
             ],
             [
              1,
              "#fde725"
             ]
            ],
            "type": "histogram2d"
           }
          ],
          "histogram2dcontour": [
           {
            "colorbar": {
             "outlinewidth": 1,
             "tickcolor": "rgb(36,36,36)",
             "ticks": "outside"
            },
            "colorscale": [
             [
              0,
              "#440154"
             ],
             [
              0.1111111111111111,
              "#482878"
             ],
             [
              0.2222222222222222,
              "#3e4989"
             ],
             [
              0.3333333333333333,
              "#31688e"
             ],
             [
              0.4444444444444444,
              "#26828e"
             ],
             [
              0.5555555555555556,
              "#1f9e89"
             ],
             [
              0.6666666666666666,
              "#35b779"
             ],
             [
              0.7777777777777778,
              "#6ece58"
             ],
             [
              0.8888888888888888,
              "#b5de2b"
             ],
             [
              1,
              "#fde725"
             ]
            ],
            "type": "histogram2dcontour"
           }
          ],
          "mesh3d": [
           {
            "colorbar": {
             "outlinewidth": 1,
             "tickcolor": "rgb(36,36,36)",
             "ticks": "outside"
            },
            "type": "mesh3d"
           }
          ],
          "parcoords": [
           {
            "line": {
             "colorbar": {
              "outlinewidth": 1,
              "tickcolor": "rgb(36,36,36)",
              "ticks": "outside"
             }
            },
            "type": "parcoords"
           }
          ],
          "pie": [
           {
            "automargin": true,
            "type": "pie"
           }
          ],
          "scatter": [
           {
            "fillpattern": {
             "fillmode": "overlay",
             "size": 10,
             "solidity": 0.2
            },
            "type": "scatter"
           }
          ],
          "scatter3d": [
           {
            "line": {
             "colorbar": {
              "outlinewidth": 1,
              "tickcolor": "rgb(36,36,36)",
              "ticks": "outside"
             }
            },
            "marker": {
             "colorbar": {
              "outlinewidth": 1,
              "tickcolor": "rgb(36,36,36)",
              "ticks": "outside"
             }
            },
            "type": "scatter3d"
           }
          ],
          "scattercarpet": [
           {
            "marker": {
             "colorbar": {
              "outlinewidth": 1,
              "tickcolor": "rgb(36,36,36)",
              "ticks": "outside"
             }
            },
            "type": "scattercarpet"
           }
          ],
          "scattergeo": [
           {
            "marker": {
             "colorbar": {
              "outlinewidth": 1,
              "tickcolor": "rgb(36,36,36)",
              "ticks": "outside"
             }
            },
            "type": "scattergeo"
           }
          ],
          "scattergl": [
           {
            "marker": {
             "colorbar": {
              "outlinewidth": 1,
              "tickcolor": "rgb(36,36,36)",
              "ticks": "outside"
             }
            },
            "type": "scattergl"
           }
          ],
          "scattermapbox": [
           {
            "marker": {
             "colorbar": {
              "outlinewidth": 1,
              "tickcolor": "rgb(36,36,36)",
              "ticks": "outside"
             }
            },
            "type": "scattermapbox"
           }
          ],
          "scatterpolar": [
           {
            "marker": {
             "colorbar": {
              "outlinewidth": 1,
              "tickcolor": "rgb(36,36,36)",
              "ticks": "outside"
             }
            },
            "type": "scatterpolar"
           }
          ],
          "scatterpolargl": [
           {
            "marker": {
             "colorbar": {
              "outlinewidth": 1,
              "tickcolor": "rgb(36,36,36)",
              "ticks": "outside"
             }
            },
            "type": "scatterpolargl"
           }
          ],
          "scatterternary": [
           {
            "marker": {
             "colorbar": {
              "outlinewidth": 1,
              "tickcolor": "rgb(36,36,36)",
              "ticks": "outside"
             }
            },
            "type": "scatterternary"
           }
          ],
          "surface": [
           {
            "colorbar": {
             "outlinewidth": 1,
             "tickcolor": "rgb(36,36,36)",
             "ticks": "outside"
            },
            "colorscale": [
             [
              0,
              "#440154"
             ],
             [
              0.1111111111111111,
              "#482878"
             ],
             [
              0.2222222222222222,
              "#3e4989"
             ],
             [
              0.3333333333333333,
              "#31688e"
             ],
             [
              0.4444444444444444,
              "#26828e"
             ],
             [
              0.5555555555555556,
              "#1f9e89"
             ],
             [
              0.6666666666666666,
              "#35b779"
             ],
             [
              0.7777777777777778,
              "#6ece58"
             ],
             [
              0.8888888888888888,
              "#b5de2b"
             ],
             [
              1,
              "#fde725"
             ]
            ],
            "type": "surface"
           }
          ],
          "table": [
           {
            "cells": {
             "fill": {
              "color": "rgb(237,237,237)"
             },
             "line": {
              "color": "white"
             }
            },
            "header": {
             "fill": {
              "color": "rgb(217,217,217)"
             },
             "line": {
              "color": "white"
             }
            },
            "type": "table"
           }
          ]
         },
         "layout": {
          "annotationdefaults": {
           "arrowhead": 0,
           "arrowwidth": 1
          },
          "autotypenumbers": "strict",
          "coloraxis": {
           "colorbar": {
            "outlinewidth": 1,
            "tickcolor": "rgb(36,36,36)",
            "ticks": "outside"
           }
          },
          "colorscale": {
           "diverging": [
            [
             0,
             "rgb(103,0,31)"
            ],
            [
             0.1,
             "rgb(178,24,43)"
            ],
            [
             0.2,
             "rgb(214,96,77)"
            ],
            [
             0.3,
             "rgb(244,165,130)"
            ],
            [
             0.4,
             "rgb(253,219,199)"
            ],
            [
             0.5,
             "rgb(247,247,247)"
            ],
            [
             0.6,
             "rgb(209,229,240)"
            ],
            [
             0.7,
             "rgb(146,197,222)"
            ],
            [
             0.8,
             "rgb(67,147,195)"
            ],
            [
             0.9,
             "rgb(33,102,172)"
            ],
            [
             1,
             "rgb(5,48,97)"
            ]
           ],
           "sequential": [
            [
             0,
             "#440154"
            ],
            [
             0.1111111111111111,
             "#482878"
            ],
            [
             0.2222222222222222,
             "#3e4989"
            ],
            [
             0.3333333333333333,
             "#31688e"
            ],
            [
             0.4444444444444444,
             "#26828e"
            ],
            [
             0.5555555555555556,
             "#1f9e89"
            ],
            [
             0.6666666666666666,
             "#35b779"
            ],
            [
             0.7777777777777778,
             "#6ece58"
            ],
            [
             0.8888888888888888,
             "#b5de2b"
            ],
            [
             1,
             "#fde725"
            ]
           ],
           "sequentialminus": [
            [
             0,
             "#440154"
            ],
            [
             0.1111111111111111,
             "#482878"
            ],
            [
             0.2222222222222222,
             "#3e4989"
            ],
            [
             0.3333333333333333,
             "#31688e"
            ],
            [
             0.4444444444444444,
             "#26828e"
            ],
            [
             0.5555555555555556,
             "#1f9e89"
            ],
            [
             0.6666666666666666,
             "#35b779"
            ],
            [
             0.7777777777777778,
             "#6ece58"
            ],
            [
             0.8888888888888888,
             "#b5de2b"
            ],
            [
             1,
             "#fde725"
            ]
           ]
          },
          "colorway": [
           "#1F77B4",
           "#FF7F0E",
           "#2CA02C",
           "#D62728",
           "#9467BD",
           "#8C564B",
           "#E377C2",
           "#7F7F7F",
           "#BCBD22",
           "#17BECF"
          ],
          "font": {
           "color": "rgb(36,36,36)"
          },
          "geo": {
           "bgcolor": "white",
           "lakecolor": "white",
           "landcolor": "white",
           "showlakes": true,
           "showland": true,
           "subunitcolor": "white"
          },
          "hoverlabel": {
           "align": "left"
          },
          "hovermode": "closest",
          "mapbox": {
           "style": "light"
          },
          "paper_bgcolor": "white",
          "plot_bgcolor": "white",
          "polar": {
           "angularaxis": {
            "gridcolor": "rgb(232,232,232)",
            "linecolor": "rgb(36,36,36)",
            "showgrid": false,
            "showline": true,
            "ticks": "outside"
           },
           "bgcolor": "white",
           "radialaxis": {
            "gridcolor": "rgb(232,232,232)",
            "linecolor": "rgb(36,36,36)",
            "showgrid": false,
            "showline": true,
            "ticks": "outside"
           }
          },
          "scene": {
           "xaxis": {
            "backgroundcolor": "white",
            "gridcolor": "rgb(232,232,232)",
            "gridwidth": 2,
            "linecolor": "rgb(36,36,36)",
            "showbackground": true,
            "showgrid": false,
            "showline": true,
            "ticks": "outside",
            "zeroline": false,
            "zerolinecolor": "rgb(36,36,36)"
           },
           "yaxis": {
            "backgroundcolor": "white",
            "gridcolor": "rgb(232,232,232)",
            "gridwidth": 2,
            "linecolor": "rgb(36,36,36)",
            "showbackground": true,
            "showgrid": false,
            "showline": true,
            "ticks": "outside",
            "zeroline": false,
            "zerolinecolor": "rgb(36,36,36)"
           },
           "zaxis": {
            "backgroundcolor": "white",
            "gridcolor": "rgb(232,232,232)",
            "gridwidth": 2,
            "linecolor": "rgb(36,36,36)",
            "showbackground": true,
            "showgrid": false,
            "showline": true,
            "ticks": "outside",
            "zeroline": false,
            "zerolinecolor": "rgb(36,36,36)"
           }
          },
          "shapedefaults": {
           "fillcolor": "black",
           "line": {
            "width": 0
           },
           "opacity": 0.3
          },
          "ternary": {
           "aaxis": {
            "gridcolor": "rgb(232,232,232)",
            "linecolor": "rgb(36,36,36)",
            "showgrid": false,
            "showline": true,
            "ticks": "outside"
           },
           "baxis": {
            "gridcolor": "rgb(232,232,232)",
            "linecolor": "rgb(36,36,36)",
            "showgrid": false,
            "showline": true,
            "ticks": "outside"
           },
           "bgcolor": "white",
           "caxis": {
            "gridcolor": "rgb(232,232,232)",
            "linecolor": "rgb(36,36,36)",
            "showgrid": false,
            "showline": true,
            "ticks": "outside"
           }
          },
          "title": {
           "x": 0.05
          },
          "xaxis": {
           "automargin": true,
           "gridcolor": "rgb(232,232,232)",
           "linecolor": "rgb(36,36,36)",
           "showgrid": false,
           "showline": true,
           "ticks": "outside",
           "title": {
            "standoff": 15
           },
           "zeroline": false,
           "zerolinecolor": "rgb(36,36,36)"
          },
          "yaxis": {
           "automargin": true,
           "gridcolor": "rgb(232,232,232)",
           "linecolor": "rgb(36,36,36)",
           "showgrid": false,
           "showline": true,
           "ticks": "outside",
           "title": {
            "standoff": 15
           },
           "zeroline": false,
           "zerolinecolor": "rgb(36,36,36)"
          }
         }
        },
        "title": {
         "x": 0.5,
         "xanchor": "center",
         "y": 0.9,
         "yanchor": "top"
        },
        "width": 1000,
        "xaxis": {
         "anchor": "y",
         "domain": [
          0,
          0.2125
         ],
         "linewidth": 1.5,
         "matches": "x",
         "title": {
          "text": "Day in Context"
         }
        },
        "xaxis2": {
         "anchor": "y2",
         "domain": [
          0.2625,
          0.475
         ],
         "linewidth": 1.5,
         "matches": "x",
         "title": {
          "text": "Day in Context"
         }
        },
        "xaxis3": {
         "anchor": "y3",
         "domain": [
          0.525,
          0.7375
         ],
         "linewidth": 1.5,
         "matches": "x",
         "title": {
          "text": "Day in Context"
         }
        },
        "xaxis4": {
         "anchor": "y4",
         "domain": [
          0.7875,
          1
         ],
         "linewidth": 1.5,
         "matches": "x",
         "title": {
          "text": "Day in Context"
         }
        },
        "yaxis": {
         "anchor": "x",
         "domain": [
          0,
          1
         ],
         "linewidth": 1.5,
         "matches": "y",
         "title": {
          "text": "Average Velocity (cm/s)"
         }
        },
        "yaxis2": {
         "anchor": "x2",
         "domain": [
          0,
          1
         ],
         "linewidth": 1.5,
         "matches": "y",
         "showticklabels": false,
         "title": {
          "text": "Average Velocity (cm/s)"
         }
        },
        "yaxis3": {
         "anchor": "x3",
         "domain": [
          0,
          1
         ],
         "linewidth": 1.5,
         "matches": "y",
         "showticklabels": false,
         "title": {
          "text": "Average Velocity (cm/s)"
         }
        },
        "yaxis4": {
         "anchor": "x4",
         "domain": [
          0,
          1
         ],
         "linewidth": 1.5,
         "matches": "y",
         "showticklabels": false,
         "title": {
          "text": "Average Velocity (cm/s)"
         }
        }
       }
      },
      "text/html": [
       "<div>                            <div id=\"83300242-40a0-4c63-8872-c3e18af5d67c\" class=\"plotly-graph-div\" style=\"height:500px; width:1000px;\"></div>            <script type=\"text/javascript\">                require([\"plotly\"], function(Plotly) {                    window.PLOTLYENV=window.PLOTLYENV || {};                                    if (document.getElementById(\"83300242-40a0-4c63-8872-c3e18af5d67c\")) {                    Plotly.newPlot(                        \"83300242-40a0-4c63-8872-c3e18af5d67c\",                        [{\"error_y\":{\"array\":[0.6154399694321416,0.6314431355146434,0.5554264372629142,0.5817729256179262,0.7484055361524443,1.0055384196863817,0.7030786361860029,0.5892646413753652,0.19912091035917578,0.4248038715835681,0.7034578708283044],\"type\":\"data\"},\"legendgroup\":\"Young Adult\",\"line\":{\"color\":\"darkgrey\"},\"name\":\"Young Adult\",\"showlegend\":true,\"x\":[1,2,3,4,5,6,7,8,9,10,11],\"y\":[8.549468202292156,9.575090663425954,11.469066306800903,11.852499342473322,11.695532008284612,13.872310900456771,13.517806947136151,12.90832460529933,13.400834483162152,13.171365762728575,14.000699885422616],\"type\":\"scatter\",\"xaxis\":\"x\",\"yaxis\":\"y\"},{\"error_y\":{\"array\":[0.4083961771547957,0.44332322736208807,0.4742830024313047,1.0219311729017853,null],\"type\":\"data\"},\"legendgroup\":\"Young Adult\",\"line\":{\"color\":\"darkgrey\"},\"name\":\"Young Adult\",\"showlegend\":false,\"x\":[1,2,3,4,5],\"y\":[14.389060488063809,14.285694267334614,14.836204624192593,15.037511764188832,17.23318413310234],\"type\":\"scatter\",\"xaxis\":\"x2\",\"yaxis\":\"y2\"},{\"error_y\":{\"array\":[0.9450858752072974,0.8377443511424932,0.7103355948368003,2.524136622584887,0.5785842298046385,0.22396396342262334],\"type\":\"data\"},\"legendgroup\":\"Young Adult\",\"line\":{\"color\":\"darkgrey\"},\"name\":\"Young Adult\",\"showlegend\":false,\"x\":[1,2,3,4,5,6],\"y\":[14.920904595550997,14.45457208846597,13.975216868105036,14.42054066586031,13.971677866882233,13.061611870905288],\"type\":\"scatter\",\"xaxis\":\"x3\",\"yaxis\":\"y3\"},{\"error_y\":{\"array\":[0.9075870802239293,1.2925766358897741,0.8817845273786761,1.3317666334047706,0.6089885866593141],\"type\":\"data\"},\"legendgroup\":\"Young Adult\",\"line\":{\"color\":\"darkgrey\"},\"name\":\"Young Adult\",\"showlegend\":false,\"x\":[1,2,3,4,5],\"y\":[16.375195373905697,15.794165646574347,14.927521409165758,15.267329982626707,17.62692636056032],\"type\":\"scatter\",\"xaxis\":\"x4\",\"yaxis\":\"y4\"},{\"error_y\":{\"array\":[0.49754158682421246,0.6165213308022568,0.4696149780528891,0.4327053506442298,0.4538215844834839,1.0574624425827757,0.6083906905619894,0.8790758956474881,0.8989125710168895,0.8136910800065001,1.414700609775391],\"type\":\"data\"},\"legendgroup\":\"Middle Aged\",\"line\":{\"color\":\"midnightblue\"},\"name\":\"Middle Aged\",\"showlegend\":false,\"x\":[1,2,3,4,5,6,7,8,9,10,11],\"y\":[7.084552810522301,7.506038808717577,8.91702014409403,10.653645694906757,11.177925493536117,12.251049825444575,11.057468786449206,12.25233860001521,12.211195125938591,12.365591236124937,13.335511600383834],\"type\":\"scatter\",\"xaxis\":\"x\",\"yaxis\":\"y\"},{\"error_y\":{\"array\":[0.48747156017831017,0.8785658694560793,0.7301199628496764,1.0127258874617162,1.1400641626808972,0.8268031799415936],\"type\":\"data\"},\"legendgroup\":\"Middle Aged\",\"line\":{\"color\":\"midnightblue\"},\"name\":\"Middle Aged\",\"showlegend\":true,\"x\":[1,2,3,4,5,6],\"y\":[11.579358438409383,12.06398761088233,12.496809934688176,13.427678794450225,13.199711087204877,14.625692373427341],\"type\":\"scatter\",\"xaxis\":\"x2\",\"yaxis\":\"y2\"},{\"error_y\":{\"array\":[0.9139373826569747,1.1993636193343882,0.6302785402539325,0.26951745072577127,null,null],\"type\":\"data\"},\"legendgroup\":\"Middle Aged\",\"line\":{\"color\":\"midnightblue\"},\"name\":\"Middle Aged\",\"showlegend\":false,\"x\":[1,2,3,4,5,6],\"y\":[13.61523106885446,14.580516936608207,12.706771736945067,12.942909216019965,13.910444852649073,12.85246739764923],\"type\":\"scatter\",\"xaxis\":\"x3\",\"yaxis\":\"y3\"},{\"error_y\":{\"array\":[1.0302636547630923,0.8981719668663495,0.8381748286264508,0.7527633446890966],\"type\":\"data\"},\"legendgroup\":\"Middle Aged\",\"line\":{\"color\":\"midnightblue\"},\"name\":\"Middle Aged\",\"showlegend\":false,\"x\":[1,2,3,4],\"y\":[14.298402853657343,12.912488214391539,12.212682417329766,13.461809142726654],\"type\":\"scatter\",\"xaxis\":\"x4\",\"yaxis\":\"y4\"},{\"error_y\":{\"array\":[1.0126467527078913,0.8465292037877321,1.25236211423755,1.4313056763289091,1.3759279680800547,1.4820868338131719,1.260886948054224,1.3533675919278536,1.2599573119089817,1.566726421132991,1.4130761243048187],\"type\":\"data\"},\"legendgroup\":\"Aged\",\"line\":{\"color\":\"red\"},\"name\":\"Aged\",\"showlegend\":false,\"x\":[1,2,3,4,5,6,7,8,9,10,11],\"y\":[8.116207425155649,6.244814424075929,6.999215160902628,8.126524099982953,7.884417639033373,8.206817778094182,9.45624545109825,9.627371077669526,8.566704640165632,9.223513208617026,9.390865370038268],\"type\":\"scatter\",\"xaxis\":\"x\",\"yaxis\":\"y\"},{\"error_y\":{\"array\":[1.4062888513460399,1.3814904484135666,1.4852777000417619,1.6388167407643293,2.021584131945918,1.954399533602199,1.691750981294502,1.886903451671482,0.2563527413728217,0.0970407631825445,0.08573223232078851,0.14802617055460263,null],\"type\":\"data\"},\"legendgroup\":\"Aged\",\"line\":{\"color\":\"red\"},\"name\":\"Aged\",\"showlegend\":false,\"x\":[1,2,3,4,5,6,7,8,9,10,11,12,13],\"y\":[8.339830634340634,8.446117387973313,8.931268020707325,9.728759447545064,9.742298909901818,10.690214333086713,10.126876278590823,7.742663915284446,6.682313570698701,9.015999517177399,7.896574700784709,10.151735707476213,8.199168123956209],\"type\":\"scatter\",\"xaxis\":\"x2\",\"yaxis\":\"y2\"},{\"error_y\":{\"array\":[1.4969283617259113,1.2302733154886463,1.137572172802761,1.333050126715212,0.9846527161034794,1.1922144091385518,2.7637615690601827,0.9826772728877361,2.230295388594295,0.8028951360061534,1.4035663411768833],\"type\":\"data\"},\"legendgroup\":\"Aged\",\"line\":{\"color\":\"red\"},\"name\":\"Aged\",\"showlegend\":false,\"x\":[1,2,3,4,5,6,7,8,9,10,11],\"y\":[12.305636527986142,11.913487633880019,11.774231344318231,13.403411653704955,12.295546973171101,11.033186862529664,9.700449867140946,10.649150845393775,10.866265978249714,9.45505558634818,11.964320846548432],\"type\":\"scatter\",\"xaxis\":\"x3\",\"yaxis\":\"y3\"},{\"error_y\":{\"array\":[1.0442224699183604,0.840214873428784,1.0743339070932252,0.6699812322709069,null,null,null],\"type\":\"data\"},\"legendgroup\":\"Aged\",\"line\":{\"color\":\"red\"},\"name\":\"Aged\",\"showlegend\":true,\"x\":[1,2,3,4,5,6,7],\"y\":[12.761218852549574,12.60559500818357,13.777688578672961,12.084919761723762,7.945507804321601,11.675804349109427,9.996694912987886],\"type\":\"scatter\",\"xaxis\":\"x4\",\"yaxis\":\"y4\"}],                        {\"template\":{\"data\":{\"barpolar\":[{\"marker\":{\"line\":{\"color\":\"white\",\"width\":0.5},\"pattern\":{\"fillmode\":\"overlay\",\"size\":10,\"solidity\":0.2}},\"type\":\"barpolar\"}],\"bar\":[{\"error_x\":{\"color\":\"rgb(36,36,36)\"},\"error_y\":{\"color\":\"rgb(36,36,36)\"},\"marker\":{\"line\":{\"color\":\"white\",\"width\":0.5},\"pattern\":{\"fillmode\":\"overlay\",\"size\":10,\"solidity\":0.2}},\"type\":\"bar\"}],\"carpet\":[{\"aaxis\":{\"endlinecolor\":\"rgb(36,36,36)\",\"gridcolor\":\"white\",\"linecolor\":\"white\",\"minorgridcolor\":\"white\",\"startlinecolor\":\"rgb(36,36,36)\"},\"baxis\":{\"endlinecolor\":\"rgb(36,36,36)\",\"gridcolor\":\"white\",\"linecolor\":\"white\",\"minorgridcolor\":\"white\",\"startlinecolor\":\"rgb(36,36,36)\"},\"type\":\"carpet\"}],\"choropleth\":[{\"colorbar\":{\"outlinewidth\":1,\"tickcolor\":\"rgb(36,36,36)\",\"ticks\":\"outside\"},\"type\":\"choropleth\"}],\"contourcarpet\":[{\"colorbar\":{\"outlinewidth\":1,\"tickcolor\":\"rgb(36,36,36)\",\"ticks\":\"outside\"},\"type\":\"contourcarpet\"}],\"contour\":[{\"colorbar\":{\"outlinewidth\":1,\"tickcolor\":\"rgb(36,36,36)\",\"ticks\":\"outside\"},\"colorscale\":[[0.0,\"#440154\"],[0.1111111111111111,\"#482878\"],[0.2222222222222222,\"#3e4989\"],[0.3333333333333333,\"#31688e\"],[0.4444444444444444,\"#26828e\"],[0.5555555555555556,\"#1f9e89\"],[0.6666666666666666,\"#35b779\"],[0.7777777777777778,\"#6ece58\"],[0.8888888888888888,\"#b5de2b\"],[1.0,\"#fde725\"]],\"type\":\"contour\"}],\"heatmapgl\":[{\"colorbar\":{\"outlinewidth\":1,\"tickcolor\":\"rgb(36,36,36)\",\"ticks\":\"outside\"},\"colorscale\":[[0.0,\"#440154\"],[0.1111111111111111,\"#482878\"],[0.2222222222222222,\"#3e4989\"],[0.3333333333333333,\"#31688e\"],[0.4444444444444444,\"#26828e\"],[0.5555555555555556,\"#1f9e89\"],[0.6666666666666666,\"#35b779\"],[0.7777777777777778,\"#6ece58\"],[0.8888888888888888,\"#b5de2b\"],[1.0,\"#fde725\"]],\"type\":\"heatmapgl\"}],\"heatmap\":[{\"colorbar\":{\"outlinewidth\":1,\"tickcolor\":\"rgb(36,36,36)\",\"ticks\":\"outside\"},\"colorscale\":[[0.0,\"#440154\"],[0.1111111111111111,\"#482878\"],[0.2222222222222222,\"#3e4989\"],[0.3333333333333333,\"#31688e\"],[0.4444444444444444,\"#26828e\"],[0.5555555555555556,\"#1f9e89\"],[0.6666666666666666,\"#35b779\"],[0.7777777777777778,\"#6ece58\"],[0.8888888888888888,\"#b5de2b\"],[1.0,\"#fde725\"]],\"type\":\"heatmap\"}],\"histogram2dcontour\":[{\"colorbar\":{\"outlinewidth\":1,\"tickcolor\":\"rgb(36,36,36)\",\"ticks\":\"outside\"},\"colorscale\":[[0.0,\"#440154\"],[0.1111111111111111,\"#482878\"],[0.2222222222222222,\"#3e4989\"],[0.3333333333333333,\"#31688e\"],[0.4444444444444444,\"#26828e\"],[0.5555555555555556,\"#1f9e89\"],[0.6666666666666666,\"#35b779\"],[0.7777777777777778,\"#6ece58\"],[0.8888888888888888,\"#b5de2b\"],[1.0,\"#fde725\"]],\"type\":\"histogram2dcontour\"}],\"histogram2d\":[{\"colorbar\":{\"outlinewidth\":1,\"tickcolor\":\"rgb(36,36,36)\",\"ticks\":\"outside\"},\"colorscale\":[[0.0,\"#440154\"],[0.1111111111111111,\"#482878\"],[0.2222222222222222,\"#3e4989\"],[0.3333333333333333,\"#31688e\"],[0.4444444444444444,\"#26828e\"],[0.5555555555555556,\"#1f9e89\"],[0.6666666666666666,\"#35b779\"],[0.7777777777777778,\"#6ece58\"],[0.8888888888888888,\"#b5de2b\"],[1.0,\"#fde725\"]],\"type\":\"histogram2d\"}],\"histogram\":[{\"marker\":{\"line\":{\"color\":\"white\",\"width\":0.6}},\"type\":\"histogram\"}],\"mesh3d\":[{\"colorbar\":{\"outlinewidth\":1,\"tickcolor\":\"rgb(36,36,36)\",\"ticks\":\"outside\"},\"type\":\"mesh3d\"}],\"parcoords\":[{\"line\":{\"colorbar\":{\"outlinewidth\":1,\"tickcolor\":\"rgb(36,36,36)\",\"ticks\":\"outside\"}},\"type\":\"parcoords\"}],\"pie\":[{\"automargin\":true,\"type\":\"pie\"}],\"scatter3d\":[{\"line\":{\"colorbar\":{\"outlinewidth\":1,\"tickcolor\":\"rgb(36,36,36)\",\"ticks\":\"outside\"}},\"marker\":{\"colorbar\":{\"outlinewidth\":1,\"tickcolor\":\"rgb(36,36,36)\",\"ticks\":\"outside\"}},\"type\":\"scatter3d\"}],\"scattercarpet\":[{\"marker\":{\"colorbar\":{\"outlinewidth\":1,\"tickcolor\":\"rgb(36,36,36)\",\"ticks\":\"outside\"}},\"type\":\"scattercarpet\"}],\"scattergeo\":[{\"marker\":{\"colorbar\":{\"outlinewidth\":1,\"tickcolor\":\"rgb(36,36,36)\",\"ticks\":\"outside\"}},\"type\":\"scattergeo\"}],\"scattergl\":[{\"marker\":{\"colorbar\":{\"outlinewidth\":1,\"tickcolor\":\"rgb(36,36,36)\",\"ticks\":\"outside\"}},\"type\":\"scattergl\"}],\"scattermapbox\":[{\"marker\":{\"colorbar\":{\"outlinewidth\":1,\"tickcolor\":\"rgb(36,36,36)\",\"ticks\":\"outside\"}},\"type\":\"scattermapbox\"}],\"scatterpolargl\":[{\"marker\":{\"colorbar\":{\"outlinewidth\":1,\"tickcolor\":\"rgb(36,36,36)\",\"ticks\":\"outside\"}},\"type\":\"scatterpolargl\"}],\"scatterpolar\":[{\"marker\":{\"colorbar\":{\"outlinewidth\":1,\"tickcolor\":\"rgb(36,36,36)\",\"ticks\":\"outside\"}},\"type\":\"scatterpolar\"}],\"scatter\":[{\"fillpattern\":{\"fillmode\":\"overlay\",\"size\":10,\"solidity\":0.2},\"type\":\"scatter\"}],\"scatterternary\":[{\"marker\":{\"colorbar\":{\"outlinewidth\":1,\"tickcolor\":\"rgb(36,36,36)\",\"ticks\":\"outside\"}},\"type\":\"scatterternary\"}],\"surface\":[{\"colorbar\":{\"outlinewidth\":1,\"tickcolor\":\"rgb(36,36,36)\",\"ticks\":\"outside\"},\"colorscale\":[[0.0,\"#440154\"],[0.1111111111111111,\"#482878\"],[0.2222222222222222,\"#3e4989\"],[0.3333333333333333,\"#31688e\"],[0.4444444444444444,\"#26828e\"],[0.5555555555555556,\"#1f9e89\"],[0.6666666666666666,\"#35b779\"],[0.7777777777777778,\"#6ece58\"],[0.8888888888888888,\"#b5de2b\"],[1.0,\"#fde725\"]],\"type\":\"surface\"}],\"table\":[{\"cells\":{\"fill\":{\"color\":\"rgb(237,237,237)\"},\"line\":{\"color\":\"white\"}},\"header\":{\"fill\":{\"color\":\"rgb(217,217,217)\"},\"line\":{\"color\":\"white\"}},\"type\":\"table\"}]},\"layout\":{\"annotationdefaults\":{\"arrowhead\":0,\"arrowwidth\":1},\"autotypenumbers\":\"strict\",\"coloraxis\":{\"colorbar\":{\"outlinewidth\":1,\"tickcolor\":\"rgb(36,36,36)\",\"ticks\":\"outside\"}},\"colorscale\":{\"diverging\":[[0.0,\"rgb(103,0,31)\"],[0.1,\"rgb(178,24,43)\"],[0.2,\"rgb(214,96,77)\"],[0.3,\"rgb(244,165,130)\"],[0.4,\"rgb(253,219,199)\"],[0.5,\"rgb(247,247,247)\"],[0.6,\"rgb(209,229,240)\"],[0.7,\"rgb(146,197,222)\"],[0.8,\"rgb(67,147,195)\"],[0.9,\"rgb(33,102,172)\"],[1.0,\"rgb(5,48,97)\"]],\"sequential\":[[0.0,\"#440154\"],[0.1111111111111111,\"#482878\"],[0.2222222222222222,\"#3e4989\"],[0.3333333333333333,\"#31688e\"],[0.4444444444444444,\"#26828e\"],[0.5555555555555556,\"#1f9e89\"],[0.6666666666666666,\"#35b779\"],[0.7777777777777778,\"#6ece58\"],[0.8888888888888888,\"#b5de2b\"],[1.0,\"#fde725\"]],\"sequentialminus\":[[0.0,\"#440154\"],[0.1111111111111111,\"#482878\"],[0.2222222222222222,\"#3e4989\"],[0.3333333333333333,\"#31688e\"],[0.4444444444444444,\"#26828e\"],[0.5555555555555556,\"#1f9e89\"],[0.6666666666666666,\"#35b779\"],[0.7777777777777778,\"#6ece58\"],[0.8888888888888888,\"#b5de2b\"],[1.0,\"#fde725\"]]},\"colorway\":[\"#1F77B4\",\"#FF7F0E\",\"#2CA02C\",\"#D62728\",\"#9467BD\",\"#8C564B\",\"#E377C2\",\"#7F7F7F\",\"#BCBD22\",\"#17BECF\"],\"font\":{\"color\":\"rgb(36,36,36)\"},\"geo\":{\"bgcolor\":\"white\",\"lakecolor\":\"white\",\"landcolor\":\"white\",\"showlakes\":true,\"showland\":true,\"subunitcolor\":\"white\"},\"hoverlabel\":{\"align\":\"left\"},\"hovermode\":\"closest\",\"mapbox\":{\"style\":\"light\"},\"paper_bgcolor\":\"white\",\"plot_bgcolor\":\"white\",\"polar\":{\"angularaxis\":{\"gridcolor\":\"rgb(232,232,232)\",\"linecolor\":\"rgb(36,36,36)\",\"showgrid\":false,\"showline\":true,\"ticks\":\"outside\"},\"bgcolor\":\"white\",\"radialaxis\":{\"gridcolor\":\"rgb(232,232,232)\",\"linecolor\":\"rgb(36,36,36)\",\"showgrid\":false,\"showline\":true,\"ticks\":\"outside\"}},\"scene\":{\"xaxis\":{\"backgroundcolor\":\"white\",\"gridcolor\":\"rgb(232,232,232)\",\"gridwidth\":2,\"linecolor\":\"rgb(36,36,36)\",\"showbackground\":true,\"showgrid\":false,\"showline\":true,\"ticks\":\"outside\",\"zeroline\":false,\"zerolinecolor\":\"rgb(36,36,36)\"},\"yaxis\":{\"backgroundcolor\":\"white\",\"gridcolor\":\"rgb(232,232,232)\",\"gridwidth\":2,\"linecolor\":\"rgb(36,36,36)\",\"showbackground\":true,\"showgrid\":false,\"showline\":true,\"ticks\":\"outside\",\"zeroline\":false,\"zerolinecolor\":\"rgb(36,36,36)\"},\"zaxis\":{\"backgroundcolor\":\"white\",\"gridcolor\":\"rgb(232,232,232)\",\"gridwidth\":2,\"linecolor\":\"rgb(36,36,36)\",\"showbackground\":true,\"showgrid\":false,\"showline\":true,\"ticks\":\"outside\",\"zeroline\":false,\"zerolinecolor\":\"rgb(36,36,36)\"}},\"shapedefaults\":{\"fillcolor\":\"black\",\"line\":{\"width\":0},\"opacity\":0.3},\"ternary\":{\"aaxis\":{\"gridcolor\":\"rgb(232,232,232)\",\"linecolor\":\"rgb(36,36,36)\",\"showgrid\":false,\"showline\":true,\"ticks\":\"outside\"},\"baxis\":{\"gridcolor\":\"rgb(232,232,232)\",\"linecolor\":\"rgb(36,36,36)\",\"showgrid\":false,\"showline\":true,\"ticks\":\"outside\"},\"bgcolor\":\"white\",\"caxis\":{\"gridcolor\":\"rgb(232,232,232)\",\"linecolor\":\"rgb(36,36,36)\",\"showgrid\":false,\"showline\":true,\"ticks\":\"outside\"}},\"title\":{\"x\":0.05},\"xaxis\":{\"automargin\":true,\"gridcolor\":\"rgb(232,232,232)\",\"linecolor\":\"rgb(36,36,36)\",\"showgrid\":false,\"showline\":true,\"ticks\":\"outside\",\"title\":{\"standoff\":15},\"zeroline\":false,\"zerolinecolor\":\"rgb(36,36,36)\"},\"yaxis\":{\"automargin\":true,\"gridcolor\":\"rgb(232,232,232)\",\"linecolor\":\"rgb(36,36,36)\",\"showgrid\":false,\"showline\":true,\"ticks\":\"outside\",\"title\":{\"standoff\":15},\"zeroline\":false,\"zerolinecolor\":\"rgb(36,36,36)\"}}},\"xaxis\":{\"anchor\":\"y\",\"domain\":[0.0,0.2125],\"title\":{\"text\":\"Day in Context\"},\"linewidth\":1.5,\"matches\":\"x\"},\"yaxis\":{\"anchor\":\"x\",\"domain\":[0.0,1.0],\"title\":{\"text\":\"Average Velocity (cm/s)\"},\"linewidth\":1.5,\"matches\":\"y\"},\"xaxis2\":{\"anchor\":\"y2\",\"domain\":[0.2625,0.475],\"title\":{\"text\":\"Day in Context\"},\"linewidth\":1.5,\"matches\":\"x\"},\"yaxis2\":{\"anchor\":\"x2\",\"domain\":[0.0,1.0],\"matches\":\"y\",\"showticklabels\":false,\"title\":{\"text\":\"Average Velocity (cm/s)\"},\"linewidth\":1.5},\"xaxis3\":{\"anchor\":\"y3\",\"domain\":[0.525,0.7375],\"title\":{\"text\":\"Day in Context\"},\"linewidth\":1.5,\"matches\":\"x\"},\"yaxis3\":{\"anchor\":\"x3\",\"domain\":[0.0,1.0],\"matches\":\"y\",\"showticklabels\":false,\"title\":{\"text\":\"Average Velocity (cm/s)\"},\"linewidth\":1.5},\"xaxis4\":{\"anchor\":\"y4\",\"domain\":[0.7875,1.0],\"title\":{\"text\":\"Day in Context\"},\"linewidth\":1.5,\"matches\":\"x\"},\"yaxis4\":{\"anchor\":\"x4\",\"domain\":[0.0,1.0],\"matches\":\"y\",\"showticklabels\":false,\"title\":{\"text\":\"Average Velocity (cm/s)\"},\"linewidth\":1.5},\"annotations\":[{\"font\":{\"size\":22},\"showarrow\":false,\"text\":\"A\",\"x\":0.10625,\"xanchor\":\"center\",\"xref\":\"paper\",\"y\":1.0,\"yanchor\":\"bottom\",\"yref\":\"paper\"},{\"font\":{\"size\":22},\"showarrow\":false,\"text\":\"B\",\"x\":0.36875,\"xanchor\":\"center\",\"xref\":\"paper\",\"y\":1.0,\"yanchor\":\"bottom\",\"yref\":\"paper\"},{\"font\":{\"size\":22},\"showarrow\":false,\"text\":\"C\",\"x\":0.6312500000000001,\"xanchor\":\"center\",\"xref\":\"paper\",\"y\":1.0,\"yanchor\":\"bottom\",\"yref\":\"paper\"},{\"font\":{\"size\":22},\"showarrow\":false,\"text\":\"D\",\"x\":0.89375,\"xanchor\":\"center\",\"xref\":\"paper\",\"y\":1.0,\"yanchor\":\"bottom\",\"yref\":\"paper\"}],\"title\":{\"y\":0.9,\"x\":0.5,\"xanchor\":\"center\",\"yanchor\":\"top\"},\"font\":{\"size\":22,\"family\":\"Arial\"},\"height\":500,\"width\":1000},                        {\"responsive\": true}                    ).then(function(){\n",
       "                            \n",
       "var gd = document.getElementById('83300242-40a0-4c63-8872-c3e18af5d67c');\n",
       "var x = new MutationObserver(function (mutations, observer) {{\n",
       "        var display = window.getComputedStyle(gd).display;\n",
       "        if (!display || display === 'none') {{\n",
       "            console.log([gd, 'removed!']);\n",
       "            Plotly.purge(gd);\n",
       "            observer.disconnect();\n",
       "        }}\n",
       "}});\n",
       "\n",
       "// Listen for the removal of the full notebook cells\n",
       "var notebookContainer = gd.closest('#notebook-container');\n",
       "if (notebookContainer) {{\n",
       "    x.observe(notebookContainer, {childList: true});\n",
       "}}\n",
       "\n",
       "// Listen for the clearing of the current output cell\n",
       "var outputEl = gd.closest('.output');\n",
       "if (outputEl) {{\n",
       "    x.observe(outputEl, {childList: true});\n",
       "}}\n",
       "\n",
       "                        })                };                });            </script>        </div>"
      ]
     },
     "metadata": {},
     "output_type": "display_data"
    }
   ],
   "source": [
    "## Plot average velocity for each group across days in each context\n",
    "session_list = ['A', 'B', 'C', 'D']\n",
    "vel_contexts = pd.DataFrame()\n",
    "for session in session_list:\n",
    "    loop_data = vel[vel['session'] == session]\n",
    "    vel_contexts = pd.concat([vel_contexts, loop_data], ignore_index=True)\n",
    "fig = pf.custom_graph_template(x_title='', y_title='', rows=1, columns=4, width=1000, \n",
    "                               shared_y=True, shared_x=True, titles=session_list)\n",
    "for group in vel_contexts['group'].unique():\n",
    "    gdata = vel_contexts[vel_contexts['group'] == group].groupby(['context_day', 'session'], as_index=False).agg({'avg_velocity': ['mean', 'sem']})\n",
    "    for idx, sess in enumerate(gdata['session'].unique()):\n",
    "        sess_data = gdata[gdata['session'] == sess]\n",
    "        fig.add_trace(go.Scatter(x=sess_data['context_day'], y=sess_data['avg_velocity']['mean'], name=group,\n",
    "                                 line_color=group_colors_dict[group], legendgroup=group, showlegend=False,\n",
    "                                 error_y=dict(type='data', array=sess_data['avg_velocity']['sem'])), row=1, col=idx+1)\n",
    "fig['data'][0]['showlegend'] = True\n",
    "fig['data'][5]['showlegend'] = True\n",
    "fig['data'][11]['showlegend'] = True\n",
    "fig.update_xaxes(title='Day in Context')\n",
    "fig.update_yaxes(title='Average Velocity (cm/s)')\n",
    "fig.show()"
   ]
  },
  {
   "cell_type": "markdown",
   "metadata": {},
   "source": [
    "### Lick accuracy heatmap."
   ]
  },
  {
   "cell_type": "code",
   "execution_count": null,
   "metadata": {},
   "outputs": [],
   "source": [
    "## Looking at first licks\n",
    "lick_thresholds = [1, 2, 3, 4, 5]\n",
    "circletrack_results = {'mouse': [], 'day': [], 'context_day': [], 'group': [], 'session': [], 'lick_accuracy_thresh1': [], 'lick_accuracy_thresh2': [],\n",
    "                       'lick_accuracy_thresh3': [], 'lick_accuracy_thresh4': [], 'lick_accuracy_thresh5': []}\n",
    "for mouse in os.listdir(circle_path)[:-1]: ##.DS_store\n",
    "    mouse_path = pjoin(circle_path, mouse)\n",
    "    group = 'Young Adult' if mouse in young_adult else 'Middle Aged' if mouse in middle_aged else 'Aged'\n",
    "    session_id = np.nan\n",
    "    day_counter = 1\n",
    "    for idx, session in enumerate(os.listdir(mouse_path)):\n",
    "        behav = pd.read_feather(pjoin(mouse_path, f'{session}'))\n",
    "        behav = behav[~behav['probe']]\n",
    "        reward_one, reward_two = np.unique(behav['reward_one'])[0], np.unique(behav['reward_two'])[0]\n",
    "        circletrack_results['mouse'].append(mouse)\n",
    "        circletrack_results['day'].append(idx+1)\n",
    "        circletrack_results['group'].append(group)\n",
    "        circletrack_results['session'].append(np.unique(behav['session'])[0])\n",
    "        for thresh in lick_thresholds:\n",
    "            lick_accuracy = ctb.lick_accuracy(behav, port_one=reward_one, port_two=reward_two, lick_threshold=thresh, by_trials=False)\n",
    "            circletrack_results[f'lick_accuracy_thresh{thresh}'].append(lick_accuracy)\n",
    "\n",
    "        if np.unique(behav['session'])[0] != session_id:\n",
    "            day_counter = 1\n",
    "            session_id = np.unique(behav['session'])[0]\n",
    "            circletrack_results['context_day'].append(day_counter)\n",
    "        else:\n",
    "            day_counter += 1\n",
    "            session_id = np.unique(behav['session'])[0]\n",
    "            circletrack_results['context_day'].append(day_counter)\n",
    "ct_df = pd.DataFrame(circletrack_results)\n",
    "## Average for each lick accuracy threshold, excluding final probe days\n",
    "select_sessions = ct_df[(ct_df['session'] != 'AP') & (ct_df['session'] != 'BP') & (ct_df['session'] != 'CP') & (ct_df['session'] != 'DP')]\n",
    "avg_data = select_sessions.groupby(['context_day', 'group', 'session'], as_index=False).agg('mean')"
   ]
  },
  {
   "cell_type": "code",
   "execution_count": null,
   "metadata": {},
   "outputs": [],
   "source": [
    "## Young adult mice\n",
    "young_acc = avg_data[avg_data['group'] == 'Young Adult'].reset_index(drop=True)\n",
    "fig = pf.custom_graph_template(x_title='', y_title='', rows=1, columns=4, \n",
    "                               width=1200, titles=['A', 'B', 'C', 'D'])\n",
    "\n",
    "for sess_idx, session in enumerate(np.unique(young_acc['session'])):\n",
    "    sess_data = young_acc[young_acc['session'] == session].reset_index(drop=True)\n",
    "    arr = np.empty((len(lick_thresholds), sess_data.shape[0]))\n",
    "    arr.fill(np.nan)\n",
    "    for idx, col in enumerate(sess_data.columns[4:]):\n",
    "        arr[idx] = sess_data[col].to_numpy()\n",
    "    x_axis = np.arange(1, arr.shape[1]+1)\n",
    "    fig.add_trace(go.Heatmap(x=x_axis, y=lick_thresholds, z=arr, \n",
    "                             coloraxis='coloraxis'), row=1, col=sess_idx+1)\n",
    "fig.update_xaxes(title='Day in Context', row=1)\n",
    "fig.update_yaxes(title='Lick Threshold', col=1)\n",
    "fig.update_layout(coloraxis={'colorscale': 'viridis'})\n",
    "fig.show()"
   ]
  },
  {
   "cell_type": "code",
   "execution_count": null,
   "metadata": {},
   "outputs": [],
   "source": [
    "## Middle aged mice\n",
    "acc = avg_data[avg_data['group'] == 'Middle Aged'].reset_index(drop=True)\n",
    "fig = pf.custom_graph_template(x_title='', y_title='', rows=1, columns=4, \n",
    "                               width=1200, titles=['A', 'B', 'C', 'D'])\n",
    "\n",
    "for sess_idx, session in enumerate(np.unique(acc['session'])):\n",
    "    sess_data = acc[acc['session'] == session].reset_index(drop=True)\n",
    "    arr = np.empty((len(lick_thresholds), sess_data.shape[0]))\n",
    "    arr.fill(np.nan)\n",
    "    for idx, col in enumerate(sess_data.columns[4:]):\n",
    "        arr[idx] = sess_data[col].to_numpy()\n",
    "    x_axis = np.arange(1, arr.shape[1]+1)\n",
    "    fig.add_trace(go.Heatmap(x=x_axis, y=lick_thresholds, z=arr, \n",
    "                             coloraxis='coloraxis'), row=1, col=sess_idx+1)\n",
    "fig.update_xaxes(title='Day in Context', row=1)\n",
    "fig.update_yaxes(title='Lick Threshold', col=1)\n",
    "fig.update_layout(coloraxis={'colorscale': 'viridis'})\n",
    "fig.show()"
   ]
  },
  {
   "cell_type": "code",
   "execution_count": null,
   "metadata": {},
   "outputs": [],
   "source": [
    "acc = avg_data[avg_data['group'] == 'Aged'].reset_index(drop=True)\n",
    "fig = pf.custom_graph_template(x_title='', y_title='', rows=1, columns=4, \n",
    "                               width=1200, titles=['A', 'B', 'C', 'D'])\n",
    "\n",
    "for sess_idx, session in enumerate(np.unique(acc['session'])):\n",
    "    sess_data = acc[acc['session'] == session].reset_index(drop=True)\n",
    "    arr = np.empty((len(lick_thresholds), sess_data.shape[0]))\n",
    "    arr.fill(np.nan)\n",
    "    for idx, col in enumerate(sess_data.columns[4:]):\n",
    "        arr[idx] = sess_data[col].to_numpy()\n",
    "    x_axis = np.arange(1, arr.shape[1]+1)\n",
    "    fig.add_trace(go.Heatmap(x=x_axis, y=lick_thresholds, z=arr, \n",
    "                             coloraxis='coloraxis'), row=1, col=sess_idx+1)\n",
    "fig.update_xaxes(title='Day in Context', row=1)\n",
    "fig.update_yaxes(title='Lick Threshold', col=1)\n",
    "fig.update_layout(coloraxis={'colorscale': 'viridis'})\n",
    "fig.show()"
   ]
  },
  {
   "cell_type": "code",
   "execution_count": null,
   "metadata": {},
   "outputs": [],
   "source": [
    "fig = pf.custom_graph_template(x_title='', y_title='', rows=3, columns=4, shared_y=True, shared_x=True,\n",
    "                               height=1000, width=1200, titles=['A', 'B', 'C', 'D'])\n",
    "for g_idx, group in enumerate(['Young Adult', 'Middle Aged', 'Aged']):\n",
    "    acc = avg_data[avg_data['group'] == group].reset_index(drop=True)\n",
    "    for sess_idx, session in enumerate(np.unique(acc['session'])):\n",
    "        sess_data = acc[acc['session'] == session].reset_index(drop=True)\n",
    "        arr = np.empty((len(lick_thresholds), sess_data.shape[0]))\n",
    "        arr.fill(np.nan)\n",
    "        for idx, col in enumerate(sess_data.columns[4:]):\n",
    "            arr[idx] = sess_data[col].to_numpy()\n",
    "        x_axis = np.arange(1, arr.shape[1]+1)\n",
    "        fig.add_trace(go.Heatmap(x=x_axis, y=lick_thresholds, z=arr, \n",
    "                                coloraxis='coloraxis'), row=g_idx+1, col=sess_idx+1)\n",
    "fig.update_xaxes(title='Day in Context', row=3)\n",
    "fig.update_yaxes(title='Lick Threshold', col=1)\n",
    "fig.update_layout(coloraxis={'colorscale': 'viridis'})\n",
    "fig.show()\n",
    "fig.write_image(pjoin(fig_path, 'lick_accuracy_heatmaps.png'))"
   ]
  },
  {
   "cell_type": "markdown",
   "metadata": {},
   "source": [
    "### Reminder day for IHC"
   ]
  },
  {
   "cell_type": "code",
   "execution_count": 125,
   "metadata": {},
   "outputs": [],
   "source": [
    "circletrack_results = {'mouse': [], 'day': [], 'group': [], 'session': [], 'lick_accuracy_thresh1': [], \n",
    "                       'lick_accuracy_thresh5': [], 'rewards': []}\n",
    "for mouse in os.listdir(circle_path)[:-1]: ## somehow a .DS_Store appeared????????\n",
    "    mouse_path = pjoin(circle_path, mouse)\n",
    "    group = 'Young Adult' if mouse in young_adult else 'Middle Aged' if mouse in middle_aged else 'Aged'\n",
    "    for idx, session in enumerate(os.listdir(mouse_path)):\n",
    "        behav = pd.read_feather(pjoin(mouse_path, f'{session}'))\n",
    "        if (np.unique(behav['session'])[0] != 'DT' ) & (np.unique(behav['session'])[0] != 'CT' ):\n",
    "            pass\n",
    "        else:\n",
    "            reward_one, reward_two = np.unique(behav['reward_one'])[0], np.unique(behav['reward_two'])[0]\n",
    "            pc_thresh1 = ctb.lick_accuracy(behav, port_one=reward_one, port_two=reward_two, lick_threshold=1, by_trials=False)\n",
    "            pc_thresh5 = ctb.lick_accuracy(behav, port_one=reward_one, port_two=reward_two, lick_threshold=5, by_trials=False)\n",
    "            circletrack_results['mouse'].append(mouse)\n",
    "            circletrack_results['day'].append(idx+1)\n",
    "            circletrack_results['group'].append(group)\n",
    "            circletrack_results['session'].append(np.unique(behav['session'])[0])\n",
    "            circletrack_results['lick_accuracy_thresh1'].append(pc_thresh1)\n",
    "            circletrack_results['lick_accuracy_thresh5'].append(pc_thresh5)\n",
    "            circletrack_results['rewards'].append(np.sum(behav['water']))\n",
    "ct_df = pd.DataFrame(circletrack_results)"
   ]
  },
  {
   "cell_type": "code",
   "execution_count": 126,
   "metadata": {},
   "outputs": [
    {
     "data": {
      "application/vnd.plotly.v1+json": {
       "config": {
        "plotlyServerURL": "https://plot.ly"
       },
       "data": [
        {
         "error_y": {
          "array": [
           4.255018198642946
          ],
          "type": "data"
         },
         "marker": {
          "color": "red",
          "size": 5
         },
         "mode": "markers",
         "name": "Aged",
         "showlegend": false,
         "type": "scatter",
         "x": [
          "Aged"
         ],
         "y": [
          73.01353186120068
         ]
        },
        {
         "error_y": {
          "array": [
           3.875409360981006
          ],
          "type": "data"
         },
         "marker": {
          "color": "midnightblue",
          "size": 5
         },
         "mode": "markers",
         "name": "Middle Aged",
         "showlegend": false,
         "type": "scatter",
         "x": [
          "Middle Aged"
         ],
         "y": [
          76.3997641135661
         ]
        },
        {
         "error_y": {
          "array": [
           4.2893463906239555
          ],
          "type": "data"
         },
         "marker": {
          "color": "darkgrey",
          "size": 5
         },
         "mode": "markers",
         "name": "Young Adult",
         "showlegend": false,
         "type": "scatter",
         "x": [
          "Young Adult"
         ],
         "y": [
          75.55365739635049
         ]
        },
        {
         "marker": {
          "color": "darkgrey"
         },
         "mode": "markers",
         "name": "Young Adult",
         "showlegend": false,
         "type": "scatter",
         "x": [
          "Young Adult"
         ],
         "y": [
          65.51724137931035
         ]
        },
        {
         "marker": {
          "color": "darkgrey"
         },
         "mode": "markers",
         "name": "Young Adult",
         "showlegend": false,
         "type": "scatter",
         "x": [
          "Young Adult"
         ],
         "y": [
          53.551912568306015
         ]
        },
        {
         "marker": {
          "color": "darkgrey"
         },
         "mode": "markers",
         "name": "Young Adult",
         "showlegend": false,
         "type": "scatter",
         "x": [
          "Young Adult"
         ],
         "y": [
          76.51515151515152
         ]
        },
        {
         "marker": {
          "color": "darkgrey"
         },
         "mode": "markers",
         "name": "Young Adult",
         "showlegend": false,
         "type": "scatter",
         "x": [
          "Young Adult"
         ],
         "y": [
          73.58490566037736
         ]
        },
        {
         "marker": {
          "color": "midnightblue"
         },
         "mode": "markers",
         "name": "Middle Aged",
         "showlegend": false,
         "type": "scatter",
         "x": [
          "Middle Aged"
         ],
         "y": [
          60.40268456375839
         ]
        },
        {
         "marker": {
          "color": "midnightblue"
         },
         "mode": "markers",
         "name": "Middle Aged",
         "showlegend": false,
         "type": "scatter",
         "x": [
          "Middle Aged"
         ],
         "y": [
          79.82456140350878
         ]
        },
        {
         "marker": {
          "color": "midnightblue"
         },
         "mode": "markers",
         "name": "Middle Aged",
         "showlegend": false,
         "type": "scatter",
         "x": [
          "Middle Aged"
         ],
         "y": [
          89.1891891891892
         ]
        },
        {
         "marker": {
          "color": "midnightblue"
         },
         "mode": "markers",
         "name": "Middle Aged",
         "showlegend": false,
         "type": "scatter",
         "x": [
          "Middle Aged"
         ],
         "y": [
          77.63157894736842
         ]
        },
        {
         "marker": {
          "color": "red"
         },
         "mode": "markers",
         "name": "Aged",
         "showlegend": false,
         "type": "scatter",
         "x": [
          "Aged"
         ],
         "y": [
          67.85714285714286
         ]
        },
        {
         "marker": {
          "color": "red"
         },
         "mode": "markers",
         "name": "Aged",
         "showlegend": false,
         "type": "scatter",
         "x": [
          "Aged"
         ],
         "y": [
          81.57894736842105
         ]
        },
        {
         "marker": {
          "color": "red"
         },
         "mode": "markers",
         "name": "Aged",
         "showlegend": false,
         "type": "scatter",
         "x": [
          "Aged"
         ],
         "y": [
          70.17543859649122
         ]
        },
        {
         "marker": {
          "color": "red"
         },
         "mode": "markers",
         "name": "Aged",
         "showlegend": false,
         "type": "scatter",
         "x": [
          "Aged"
         ],
         "y": [
          51.11111111111111
         ]
        },
        {
         "marker": {
          "color": "darkgrey"
         },
         "mode": "markers",
         "name": "Young Adult",
         "showlegend": false,
         "type": "scatter",
         "x": [
          "Young Adult"
         ],
         "y": [
          89.74358974358975
         ]
        },
        {
         "marker": {
          "color": "darkgrey"
         },
         "mode": "markers",
         "name": "Young Adult",
         "showlegend": false,
         "type": "scatter",
         "x": [
          "Young Adult"
         ],
         "y": [
          74.28571428571429
         ]
        },
        {
         "marker": {
          "color": "darkgrey"
         },
         "mode": "markers",
         "name": "Young Adult",
         "showlegend": false,
         "type": "scatter",
         "x": [
          "Young Adult"
         ],
         "y": [
          81.41592920353983
         ]
        },
        {
         "marker": {
          "color": "darkgrey"
         },
         "mode": "markers",
         "name": "Young Adult",
         "showlegend": false,
         "type": "scatter",
         "x": [
          "Young Adult"
         ],
         "y": [
          89.81481481481481
         ]
        },
        {
         "marker": {
          "color": "midnightblue"
         },
         "mode": "markers",
         "name": "Middle Aged",
         "showlegend": false,
         "type": "scatter",
         "x": [
          "Middle Aged"
         ],
         "y": [
          86.18421052631578
         ]
        },
        {
         "marker": {
          "color": "midnightblue"
         },
         "mode": "markers",
         "name": "Middle Aged",
         "showlegend": false,
         "type": "scatter",
         "x": [
          "Middle Aged"
         ],
         "y": [
          59.23076923076923
         ]
        },
        {
         "marker": {
          "color": "midnightblue"
         },
         "mode": "markers",
         "name": "Middle Aged",
         "showlegend": false,
         "type": "scatter",
         "x": [
          "Middle Aged"
         ],
         "y": [
          79.6875
         ]
        },
        {
         "marker": {
          "color": "midnightblue"
         },
         "mode": "markers",
         "name": "Middle Aged",
         "showlegend": false,
         "type": "scatter",
         "x": [
          "Middle Aged"
         ],
         "y": [
          79.04761904761905
         ]
        },
        {
         "marker": {
          "color": "red"
         },
         "mode": "markers",
         "name": "Aged",
         "showlegend": false,
         "type": "scatter",
         "x": [
          "Aged"
         ],
         "y": [
          84.14634146341463
         ]
        },
        {
         "marker": {
          "color": "red"
         },
         "mode": "markers",
         "name": "Aged",
         "showlegend": false,
         "type": "scatter",
         "x": [
          "Aged"
         ],
         "y": [
          65.51724137931035
         ]
        },
        {
         "marker": {
          "color": "red"
         },
         "mode": "markers",
         "name": "Aged",
         "showlegend": false,
         "type": "scatter",
         "x": [
          "Aged"
         ],
         "y": [
          75.17241379310344
         ]
        },
        {
         "marker": {
          "color": "red"
         },
         "mode": "markers",
         "name": "Aged",
         "showlegend": false,
         "type": "scatter",
         "x": [
          "Aged"
         ],
         "y": [
          88.54961832061069
         ]
        }
       ],
       "layout": {
        "font": {
         "family": "Arial",
         "size": 22
        },
        "height": 500,
        "template": {
         "data": {
          "bar": [
           {
            "error_x": {
             "color": "rgb(36,36,36)"
            },
            "error_y": {
             "color": "rgb(36,36,36)"
            },
            "marker": {
             "line": {
              "color": "white",
              "width": 0.5
             },
             "pattern": {
              "fillmode": "overlay",
              "size": 10,
              "solidity": 0.2
             }
            },
            "type": "bar"
           }
          ],
          "barpolar": [
           {
            "marker": {
             "line": {
              "color": "white",
              "width": 0.5
             },
             "pattern": {
              "fillmode": "overlay",
              "size": 10,
              "solidity": 0.2
             }
            },
            "type": "barpolar"
           }
          ],
          "carpet": [
           {
            "aaxis": {
             "endlinecolor": "rgb(36,36,36)",
             "gridcolor": "white",
             "linecolor": "white",
             "minorgridcolor": "white",
             "startlinecolor": "rgb(36,36,36)"
            },
            "baxis": {
             "endlinecolor": "rgb(36,36,36)",
             "gridcolor": "white",
             "linecolor": "white",
             "minorgridcolor": "white",
             "startlinecolor": "rgb(36,36,36)"
            },
            "type": "carpet"
           }
          ],
          "choropleth": [
           {
            "colorbar": {
             "outlinewidth": 1,
             "tickcolor": "rgb(36,36,36)",
             "ticks": "outside"
            },
            "type": "choropleth"
           }
          ],
          "contour": [
           {
            "colorbar": {
             "outlinewidth": 1,
             "tickcolor": "rgb(36,36,36)",
             "ticks": "outside"
            },
            "colorscale": [
             [
              0,
              "#440154"
             ],
             [
              0.1111111111111111,
              "#482878"
             ],
             [
              0.2222222222222222,
              "#3e4989"
             ],
             [
              0.3333333333333333,
              "#31688e"
             ],
             [
              0.4444444444444444,
              "#26828e"
             ],
             [
              0.5555555555555556,
              "#1f9e89"
             ],
             [
              0.6666666666666666,
              "#35b779"
             ],
             [
              0.7777777777777778,
              "#6ece58"
             ],
             [
              0.8888888888888888,
              "#b5de2b"
             ],
             [
              1,
              "#fde725"
             ]
            ],
            "type": "contour"
           }
          ],
          "contourcarpet": [
           {
            "colorbar": {
             "outlinewidth": 1,
             "tickcolor": "rgb(36,36,36)",
             "ticks": "outside"
            },
            "type": "contourcarpet"
           }
          ],
          "heatmap": [
           {
            "colorbar": {
             "outlinewidth": 1,
             "tickcolor": "rgb(36,36,36)",
             "ticks": "outside"
            },
            "colorscale": [
             [
              0,
              "#440154"
             ],
             [
              0.1111111111111111,
              "#482878"
             ],
             [
              0.2222222222222222,
              "#3e4989"
             ],
             [
              0.3333333333333333,
              "#31688e"
             ],
             [
              0.4444444444444444,
              "#26828e"
             ],
             [
              0.5555555555555556,
              "#1f9e89"
             ],
             [
              0.6666666666666666,
              "#35b779"
             ],
             [
              0.7777777777777778,
              "#6ece58"
             ],
             [
              0.8888888888888888,
              "#b5de2b"
             ],
             [
              1,
              "#fde725"
             ]
            ],
            "type": "heatmap"
           }
          ],
          "heatmapgl": [
           {
            "colorbar": {
             "outlinewidth": 1,
             "tickcolor": "rgb(36,36,36)",
             "ticks": "outside"
            },
            "colorscale": [
             [
              0,
              "#440154"
             ],
             [
              0.1111111111111111,
              "#482878"
             ],
             [
              0.2222222222222222,
              "#3e4989"
             ],
             [
              0.3333333333333333,
              "#31688e"
             ],
             [
              0.4444444444444444,
              "#26828e"
             ],
             [
              0.5555555555555556,
              "#1f9e89"
             ],
             [
              0.6666666666666666,
              "#35b779"
             ],
             [
              0.7777777777777778,
              "#6ece58"
             ],
             [
              0.8888888888888888,
              "#b5de2b"
             ],
             [
              1,
              "#fde725"
             ]
            ],
            "type": "heatmapgl"
           }
          ],
          "histogram": [
           {
            "marker": {
             "line": {
              "color": "white",
              "width": 0.6
             }
            },
            "type": "histogram"
           }
          ],
          "histogram2d": [
           {
            "colorbar": {
             "outlinewidth": 1,
             "tickcolor": "rgb(36,36,36)",
             "ticks": "outside"
            },
            "colorscale": [
             [
              0,
              "#440154"
             ],
             [
              0.1111111111111111,
              "#482878"
             ],
             [
              0.2222222222222222,
              "#3e4989"
             ],
             [
              0.3333333333333333,
              "#31688e"
             ],
             [
              0.4444444444444444,
              "#26828e"
             ],
             [
              0.5555555555555556,
              "#1f9e89"
             ],
             [
              0.6666666666666666,
              "#35b779"
             ],
             [
              0.7777777777777778,
              "#6ece58"
             ],
             [
              0.8888888888888888,
              "#b5de2b"
             ],
             [
              1,
              "#fde725"
             ]
            ],
            "type": "histogram2d"
           }
          ],
          "histogram2dcontour": [
           {
            "colorbar": {
             "outlinewidth": 1,
             "tickcolor": "rgb(36,36,36)",
             "ticks": "outside"
            },
            "colorscale": [
             [
              0,
              "#440154"
             ],
             [
              0.1111111111111111,
              "#482878"
             ],
             [
              0.2222222222222222,
              "#3e4989"
             ],
             [
              0.3333333333333333,
              "#31688e"
             ],
             [
              0.4444444444444444,
              "#26828e"
             ],
             [
              0.5555555555555556,
              "#1f9e89"
             ],
             [
              0.6666666666666666,
              "#35b779"
             ],
             [
              0.7777777777777778,
              "#6ece58"
             ],
             [
              0.8888888888888888,
              "#b5de2b"
             ],
             [
              1,
              "#fde725"
             ]
            ],
            "type": "histogram2dcontour"
           }
          ],
          "mesh3d": [
           {
            "colorbar": {
             "outlinewidth": 1,
             "tickcolor": "rgb(36,36,36)",
             "ticks": "outside"
            },
            "type": "mesh3d"
           }
          ],
          "parcoords": [
           {
            "line": {
             "colorbar": {
              "outlinewidth": 1,
              "tickcolor": "rgb(36,36,36)",
              "ticks": "outside"
             }
            },
            "type": "parcoords"
           }
          ],
          "pie": [
           {
            "automargin": true,
            "type": "pie"
           }
          ],
          "scatter": [
           {
            "fillpattern": {
             "fillmode": "overlay",
             "size": 10,
             "solidity": 0.2
            },
            "type": "scatter"
           }
          ],
          "scatter3d": [
           {
            "line": {
             "colorbar": {
              "outlinewidth": 1,
              "tickcolor": "rgb(36,36,36)",
              "ticks": "outside"
             }
            },
            "marker": {
             "colorbar": {
              "outlinewidth": 1,
              "tickcolor": "rgb(36,36,36)",
              "ticks": "outside"
             }
            },
            "type": "scatter3d"
           }
          ],
          "scattercarpet": [
           {
            "marker": {
             "colorbar": {
              "outlinewidth": 1,
              "tickcolor": "rgb(36,36,36)",
              "ticks": "outside"
             }
            },
            "type": "scattercarpet"
           }
          ],
          "scattergeo": [
           {
            "marker": {
             "colorbar": {
              "outlinewidth": 1,
              "tickcolor": "rgb(36,36,36)",
              "ticks": "outside"
             }
            },
            "type": "scattergeo"
           }
          ],
          "scattergl": [
           {
            "marker": {
             "colorbar": {
              "outlinewidth": 1,
              "tickcolor": "rgb(36,36,36)",
              "ticks": "outside"
             }
            },
            "type": "scattergl"
           }
          ],
          "scattermapbox": [
           {
            "marker": {
             "colorbar": {
              "outlinewidth": 1,
              "tickcolor": "rgb(36,36,36)",
              "ticks": "outside"
             }
            },
            "type": "scattermapbox"
           }
          ],
          "scatterpolar": [
           {
            "marker": {
             "colorbar": {
              "outlinewidth": 1,
              "tickcolor": "rgb(36,36,36)",
              "ticks": "outside"
             }
            },
            "type": "scatterpolar"
           }
          ],
          "scatterpolargl": [
           {
            "marker": {
             "colorbar": {
              "outlinewidth": 1,
              "tickcolor": "rgb(36,36,36)",
              "ticks": "outside"
             }
            },
            "type": "scatterpolargl"
           }
          ],
          "scatterternary": [
           {
            "marker": {
             "colorbar": {
              "outlinewidth": 1,
              "tickcolor": "rgb(36,36,36)",
              "ticks": "outside"
             }
            },
            "type": "scatterternary"
           }
          ],
          "surface": [
           {
            "colorbar": {
             "outlinewidth": 1,
             "tickcolor": "rgb(36,36,36)",
             "ticks": "outside"
            },
            "colorscale": [
             [
              0,
              "#440154"
             ],
             [
              0.1111111111111111,
              "#482878"
             ],
             [
              0.2222222222222222,
              "#3e4989"
             ],
             [
              0.3333333333333333,
              "#31688e"
             ],
             [
              0.4444444444444444,
              "#26828e"
             ],
             [
              0.5555555555555556,
              "#1f9e89"
             ],
             [
              0.6666666666666666,
              "#35b779"
             ],
             [
              0.7777777777777778,
              "#6ece58"
             ],
             [
              0.8888888888888888,
              "#b5de2b"
             ],
             [
              1,
              "#fde725"
             ]
            ],
            "type": "surface"
           }
          ],
          "table": [
           {
            "cells": {
             "fill": {
              "color": "rgb(237,237,237)"
             },
             "line": {
              "color": "white"
             }
            },
            "header": {
             "fill": {
              "color": "rgb(217,217,217)"
             },
             "line": {
              "color": "white"
             }
            },
            "type": "table"
           }
          ]
         },
         "layout": {
          "annotationdefaults": {
           "arrowhead": 0,
           "arrowwidth": 1
          },
          "autotypenumbers": "strict",
          "coloraxis": {
           "colorbar": {
            "outlinewidth": 1,
            "tickcolor": "rgb(36,36,36)",
            "ticks": "outside"
           }
          },
          "colorscale": {
           "diverging": [
            [
             0,
             "rgb(103,0,31)"
            ],
            [
             0.1,
             "rgb(178,24,43)"
            ],
            [
             0.2,
             "rgb(214,96,77)"
            ],
            [
             0.3,
             "rgb(244,165,130)"
            ],
            [
             0.4,
             "rgb(253,219,199)"
            ],
            [
             0.5,
             "rgb(247,247,247)"
            ],
            [
             0.6,
             "rgb(209,229,240)"
            ],
            [
             0.7,
             "rgb(146,197,222)"
            ],
            [
             0.8,
             "rgb(67,147,195)"
            ],
            [
             0.9,
             "rgb(33,102,172)"
            ],
            [
             1,
             "rgb(5,48,97)"
            ]
           ],
           "sequential": [
            [
             0,
             "#440154"
            ],
            [
             0.1111111111111111,
             "#482878"
            ],
            [
             0.2222222222222222,
             "#3e4989"
            ],
            [
             0.3333333333333333,
             "#31688e"
            ],
            [
             0.4444444444444444,
             "#26828e"
            ],
            [
             0.5555555555555556,
             "#1f9e89"
            ],
            [
             0.6666666666666666,
             "#35b779"
            ],
            [
             0.7777777777777778,
             "#6ece58"
            ],
            [
             0.8888888888888888,
             "#b5de2b"
            ],
            [
             1,
             "#fde725"
            ]
           ],
           "sequentialminus": [
            [
             0,
             "#440154"
            ],
            [
             0.1111111111111111,
             "#482878"
            ],
            [
             0.2222222222222222,
             "#3e4989"
            ],
            [
             0.3333333333333333,
             "#31688e"
            ],
            [
             0.4444444444444444,
             "#26828e"
            ],
            [
             0.5555555555555556,
             "#1f9e89"
            ],
            [
             0.6666666666666666,
             "#35b779"
            ],
            [
             0.7777777777777778,
             "#6ece58"
            ],
            [
             0.8888888888888888,
             "#b5de2b"
            ],
            [
             1,
             "#fde725"
            ]
           ]
          },
          "colorway": [
           "#1F77B4",
           "#FF7F0E",
           "#2CA02C",
           "#D62728",
           "#9467BD",
           "#8C564B",
           "#E377C2",
           "#7F7F7F",
           "#BCBD22",
           "#17BECF"
          ],
          "font": {
           "color": "rgb(36,36,36)"
          },
          "geo": {
           "bgcolor": "white",
           "lakecolor": "white",
           "landcolor": "white",
           "showlakes": true,
           "showland": true,
           "subunitcolor": "white"
          },
          "hoverlabel": {
           "align": "left"
          },
          "hovermode": "closest",
          "mapbox": {
           "style": "light"
          },
          "paper_bgcolor": "white",
          "plot_bgcolor": "white",
          "polar": {
           "angularaxis": {
            "gridcolor": "rgb(232,232,232)",
            "linecolor": "rgb(36,36,36)",
            "showgrid": false,
            "showline": true,
            "ticks": "outside"
           },
           "bgcolor": "white",
           "radialaxis": {
            "gridcolor": "rgb(232,232,232)",
            "linecolor": "rgb(36,36,36)",
            "showgrid": false,
            "showline": true,
            "ticks": "outside"
           }
          },
          "scene": {
           "xaxis": {
            "backgroundcolor": "white",
            "gridcolor": "rgb(232,232,232)",
            "gridwidth": 2,
            "linecolor": "rgb(36,36,36)",
            "showbackground": true,
            "showgrid": false,
            "showline": true,
            "ticks": "outside",
            "zeroline": false,
            "zerolinecolor": "rgb(36,36,36)"
           },
           "yaxis": {
            "backgroundcolor": "white",
            "gridcolor": "rgb(232,232,232)",
            "gridwidth": 2,
            "linecolor": "rgb(36,36,36)",
            "showbackground": true,
            "showgrid": false,
            "showline": true,
            "ticks": "outside",
            "zeroline": false,
            "zerolinecolor": "rgb(36,36,36)"
           },
           "zaxis": {
            "backgroundcolor": "white",
            "gridcolor": "rgb(232,232,232)",
            "gridwidth": 2,
            "linecolor": "rgb(36,36,36)",
            "showbackground": true,
            "showgrid": false,
            "showline": true,
            "ticks": "outside",
            "zeroline": false,
            "zerolinecolor": "rgb(36,36,36)"
           }
          },
          "shapedefaults": {
           "fillcolor": "black",
           "line": {
            "width": 0
           },
           "opacity": 0.3
          },
          "ternary": {
           "aaxis": {
            "gridcolor": "rgb(232,232,232)",
            "linecolor": "rgb(36,36,36)",
            "showgrid": false,
            "showline": true,
            "ticks": "outside"
           },
           "baxis": {
            "gridcolor": "rgb(232,232,232)",
            "linecolor": "rgb(36,36,36)",
            "showgrid": false,
            "showline": true,
            "ticks": "outside"
           },
           "bgcolor": "white",
           "caxis": {
            "gridcolor": "rgb(232,232,232)",
            "linecolor": "rgb(36,36,36)",
            "showgrid": false,
            "showline": true,
            "ticks": "outside"
           }
          },
          "title": {
           "x": 0.05
          },
          "xaxis": {
           "automargin": true,
           "gridcolor": "rgb(232,232,232)",
           "linecolor": "rgb(36,36,36)",
           "showgrid": false,
           "showline": true,
           "ticks": "outside",
           "title": {
            "standoff": 15
           },
           "zeroline": false,
           "zerolinecolor": "rgb(36,36,36)"
          },
          "yaxis": {
           "automargin": true,
           "gridcolor": "rgb(232,232,232)",
           "linecolor": "rgb(36,36,36)",
           "showgrid": false,
           "showline": true,
           "ticks": "outside",
           "title": {
            "standoff": 15
           },
           "zeroline": false,
           "zerolinecolor": "rgb(36,36,36)"
          }
         }
        },
        "title": {
         "x": 0.5,
         "xanchor": "center",
         "y": 0.9,
         "yanchor": "top"
        },
        "width": 500,
        "xaxis": {
         "anchor": "y",
         "domain": [
          0,
          1
         ],
         "linewidth": 1.5,
         "title": {
          "text": ""
         }
        },
        "yaxis": {
         "anchor": "x",
         "domain": [
          0,
          1
         ],
         "linewidth": 1.5,
         "title": {
          "text": "Lick Accuracy (%)"
         }
        }
       }
      },
      "text/html": [
       "<div>                            <div id=\"60bbddb4-4e14-459d-a498-d2afbbee998e\" class=\"plotly-graph-div\" style=\"height:500px; width:500px;\"></div>            <script type=\"text/javascript\">                require([\"plotly\"], function(Plotly) {                    window.PLOTLYENV=window.PLOTLYENV || {};                                    if (document.getElementById(\"60bbddb4-4e14-459d-a498-d2afbbee998e\")) {                    Plotly.newPlot(                        \"60bbddb4-4e14-459d-a498-d2afbbee998e\",                        [{\"error_y\":{\"array\":[4.255018198642946],\"type\":\"data\"},\"marker\":{\"color\":\"red\",\"size\":5},\"mode\":\"markers\",\"name\":\"Aged\",\"showlegend\":false,\"x\":[\"Aged\"],\"y\":[73.01353186120068],\"type\":\"scatter\"},{\"error_y\":{\"array\":[3.875409360981006],\"type\":\"data\"},\"marker\":{\"color\":\"midnightblue\",\"size\":5},\"mode\":\"markers\",\"name\":\"Middle Aged\",\"showlegend\":false,\"x\":[\"Middle Aged\"],\"y\":[76.3997641135661],\"type\":\"scatter\"},{\"error_y\":{\"array\":[4.2893463906239555],\"type\":\"data\"},\"marker\":{\"color\":\"darkgrey\",\"size\":5},\"mode\":\"markers\",\"name\":\"Young Adult\",\"showlegend\":false,\"x\":[\"Young Adult\"],\"y\":[75.55365739635049],\"type\":\"scatter\"},{\"marker\":{\"color\":\"darkgrey\"},\"mode\":\"markers\",\"name\":\"Young Adult\",\"showlegend\":false,\"x\":[\"Young Adult\"],\"y\":[65.51724137931035],\"type\":\"scatter\"},{\"marker\":{\"color\":\"darkgrey\"},\"mode\":\"markers\",\"name\":\"Young Adult\",\"showlegend\":false,\"x\":[\"Young Adult\"],\"y\":[53.551912568306015],\"type\":\"scatter\"},{\"marker\":{\"color\":\"darkgrey\"},\"mode\":\"markers\",\"name\":\"Young Adult\",\"showlegend\":false,\"x\":[\"Young Adult\"],\"y\":[76.51515151515152],\"type\":\"scatter\"},{\"marker\":{\"color\":\"darkgrey\"},\"mode\":\"markers\",\"name\":\"Young Adult\",\"showlegend\":false,\"x\":[\"Young Adult\"],\"y\":[73.58490566037736],\"type\":\"scatter\"},{\"marker\":{\"color\":\"midnightblue\"},\"mode\":\"markers\",\"name\":\"Middle Aged\",\"showlegend\":false,\"x\":[\"Middle Aged\"],\"y\":[60.40268456375839],\"type\":\"scatter\"},{\"marker\":{\"color\":\"midnightblue\"},\"mode\":\"markers\",\"name\":\"Middle Aged\",\"showlegend\":false,\"x\":[\"Middle Aged\"],\"y\":[79.82456140350878],\"type\":\"scatter\"},{\"marker\":{\"color\":\"midnightblue\"},\"mode\":\"markers\",\"name\":\"Middle Aged\",\"showlegend\":false,\"x\":[\"Middle Aged\"],\"y\":[89.1891891891892],\"type\":\"scatter\"},{\"marker\":{\"color\":\"midnightblue\"},\"mode\":\"markers\",\"name\":\"Middle Aged\",\"showlegend\":false,\"x\":[\"Middle Aged\"],\"y\":[77.63157894736842],\"type\":\"scatter\"},{\"marker\":{\"color\":\"red\"},\"mode\":\"markers\",\"name\":\"Aged\",\"showlegend\":false,\"x\":[\"Aged\"],\"y\":[67.85714285714286],\"type\":\"scatter\"},{\"marker\":{\"color\":\"red\"},\"mode\":\"markers\",\"name\":\"Aged\",\"showlegend\":false,\"x\":[\"Aged\"],\"y\":[81.57894736842105],\"type\":\"scatter\"},{\"marker\":{\"color\":\"red\"},\"mode\":\"markers\",\"name\":\"Aged\",\"showlegend\":false,\"x\":[\"Aged\"],\"y\":[70.17543859649122],\"type\":\"scatter\"},{\"marker\":{\"color\":\"red\"},\"mode\":\"markers\",\"name\":\"Aged\",\"showlegend\":false,\"x\":[\"Aged\"],\"y\":[51.11111111111111],\"type\":\"scatter\"},{\"marker\":{\"color\":\"darkgrey\"},\"mode\":\"markers\",\"name\":\"Young Adult\",\"showlegend\":false,\"x\":[\"Young Adult\"],\"y\":[89.74358974358975],\"type\":\"scatter\"},{\"marker\":{\"color\":\"darkgrey\"},\"mode\":\"markers\",\"name\":\"Young Adult\",\"showlegend\":false,\"x\":[\"Young Adult\"],\"y\":[74.28571428571429],\"type\":\"scatter\"},{\"marker\":{\"color\":\"darkgrey\"},\"mode\":\"markers\",\"name\":\"Young Adult\",\"showlegend\":false,\"x\":[\"Young Adult\"],\"y\":[81.41592920353983],\"type\":\"scatter\"},{\"marker\":{\"color\":\"darkgrey\"},\"mode\":\"markers\",\"name\":\"Young Adult\",\"showlegend\":false,\"x\":[\"Young Adult\"],\"y\":[89.81481481481481],\"type\":\"scatter\"},{\"marker\":{\"color\":\"midnightblue\"},\"mode\":\"markers\",\"name\":\"Middle Aged\",\"showlegend\":false,\"x\":[\"Middle Aged\"],\"y\":[86.18421052631578],\"type\":\"scatter\"},{\"marker\":{\"color\":\"midnightblue\"},\"mode\":\"markers\",\"name\":\"Middle Aged\",\"showlegend\":false,\"x\":[\"Middle Aged\"],\"y\":[59.23076923076923],\"type\":\"scatter\"},{\"marker\":{\"color\":\"midnightblue\"},\"mode\":\"markers\",\"name\":\"Middle Aged\",\"showlegend\":false,\"x\":[\"Middle Aged\"],\"y\":[79.6875],\"type\":\"scatter\"},{\"marker\":{\"color\":\"midnightblue\"},\"mode\":\"markers\",\"name\":\"Middle Aged\",\"showlegend\":false,\"x\":[\"Middle Aged\"],\"y\":[79.04761904761905],\"type\":\"scatter\"},{\"marker\":{\"color\":\"red\"},\"mode\":\"markers\",\"name\":\"Aged\",\"showlegend\":false,\"x\":[\"Aged\"],\"y\":[84.14634146341463],\"type\":\"scatter\"},{\"marker\":{\"color\":\"red\"},\"mode\":\"markers\",\"name\":\"Aged\",\"showlegend\":false,\"x\":[\"Aged\"],\"y\":[65.51724137931035],\"type\":\"scatter\"},{\"marker\":{\"color\":\"red\"},\"mode\":\"markers\",\"name\":\"Aged\",\"showlegend\":false,\"x\":[\"Aged\"],\"y\":[75.17241379310344],\"type\":\"scatter\"},{\"marker\":{\"color\":\"red\"},\"mode\":\"markers\",\"name\":\"Aged\",\"showlegend\":false,\"x\":[\"Aged\"],\"y\":[88.54961832061069],\"type\":\"scatter\"}],                        {\"template\":{\"data\":{\"barpolar\":[{\"marker\":{\"line\":{\"color\":\"white\",\"width\":0.5},\"pattern\":{\"fillmode\":\"overlay\",\"size\":10,\"solidity\":0.2}},\"type\":\"barpolar\"}],\"bar\":[{\"error_x\":{\"color\":\"rgb(36,36,36)\"},\"error_y\":{\"color\":\"rgb(36,36,36)\"},\"marker\":{\"line\":{\"color\":\"white\",\"width\":0.5},\"pattern\":{\"fillmode\":\"overlay\",\"size\":10,\"solidity\":0.2}},\"type\":\"bar\"}],\"carpet\":[{\"aaxis\":{\"endlinecolor\":\"rgb(36,36,36)\",\"gridcolor\":\"white\",\"linecolor\":\"white\",\"minorgridcolor\":\"white\",\"startlinecolor\":\"rgb(36,36,36)\"},\"baxis\":{\"endlinecolor\":\"rgb(36,36,36)\",\"gridcolor\":\"white\",\"linecolor\":\"white\",\"minorgridcolor\":\"white\",\"startlinecolor\":\"rgb(36,36,36)\"},\"type\":\"carpet\"}],\"choropleth\":[{\"colorbar\":{\"outlinewidth\":1,\"tickcolor\":\"rgb(36,36,36)\",\"ticks\":\"outside\"},\"type\":\"choropleth\"}],\"contourcarpet\":[{\"colorbar\":{\"outlinewidth\":1,\"tickcolor\":\"rgb(36,36,36)\",\"ticks\":\"outside\"},\"type\":\"contourcarpet\"}],\"contour\":[{\"colorbar\":{\"outlinewidth\":1,\"tickcolor\":\"rgb(36,36,36)\",\"ticks\":\"outside\"},\"colorscale\":[[0.0,\"#440154\"],[0.1111111111111111,\"#482878\"],[0.2222222222222222,\"#3e4989\"],[0.3333333333333333,\"#31688e\"],[0.4444444444444444,\"#26828e\"],[0.5555555555555556,\"#1f9e89\"],[0.6666666666666666,\"#35b779\"],[0.7777777777777778,\"#6ece58\"],[0.8888888888888888,\"#b5de2b\"],[1.0,\"#fde725\"]],\"type\":\"contour\"}],\"heatmapgl\":[{\"colorbar\":{\"outlinewidth\":1,\"tickcolor\":\"rgb(36,36,36)\",\"ticks\":\"outside\"},\"colorscale\":[[0.0,\"#440154\"],[0.1111111111111111,\"#482878\"],[0.2222222222222222,\"#3e4989\"],[0.3333333333333333,\"#31688e\"],[0.4444444444444444,\"#26828e\"],[0.5555555555555556,\"#1f9e89\"],[0.6666666666666666,\"#35b779\"],[0.7777777777777778,\"#6ece58\"],[0.8888888888888888,\"#b5de2b\"],[1.0,\"#fde725\"]],\"type\":\"heatmapgl\"}],\"heatmap\":[{\"colorbar\":{\"outlinewidth\":1,\"tickcolor\":\"rgb(36,36,36)\",\"ticks\":\"outside\"},\"colorscale\":[[0.0,\"#440154\"],[0.1111111111111111,\"#482878\"],[0.2222222222222222,\"#3e4989\"],[0.3333333333333333,\"#31688e\"],[0.4444444444444444,\"#26828e\"],[0.5555555555555556,\"#1f9e89\"],[0.6666666666666666,\"#35b779\"],[0.7777777777777778,\"#6ece58\"],[0.8888888888888888,\"#b5de2b\"],[1.0,\"#fde725\"]],\"type\":\"heatmap\"}],\"histogram2dcontour\":[{\"colorbar\":{\"outlinewidth\":1,\"tickcolor\":\"rgb(36,36,36)\",\"ticks\":\"outside\"},\"colorscale\":[[0.0,\"#440154\"],[0.1111111111111111,\"#482878\"],[0.2222222222222222,\"#3e4989\"],[0.3333333333333333,\"#31688e\"],[0.4444444444444444,\"#26828e\"],[0.5555555555555556,\"#1f9e89\"],[0.6666666666666666,\"#35b779\"],[0.7777777777777778,\"#6ece58\"],[0.8888888888888888,\"#b5de2b\"],[1.0,\"#fde725\"]],\"type\":\"histogram2dcontour\"}],\"histogram2d\":[{\"colorbar\":{\"outlinewidth\":1,\"tickcolor\":\"rgb(36,36,36)\",\"ticks\":\"outside\"},\"colorscale\":[[0.0,\"#440154\"],[0.1111111111111111,\"#482878\"],[0.2222222222222222,\"#3e4989\"],[0.3333333333333333,\"#31688e\"],[0.4444444444444444,\"#26828e\"],[0.5555555555555556,\"#1f9e89\"],[0.6666666666666666,\"#35b779\"],[0.7777777777777778,\"#6ece58\"],[0.8888888888888888,\"#b5de2b\"],[1.0,\"#fde725\"]],\"type\":\"histogram2d\"}],\"histogram\":[{\"marker\":{\"line\":{\"color\":\"white\",\"width\":0.6}},\"type\":\"histogram\"}],\"mesh3d\":[{\"colorbar\":{\"outlinewidth\":1,\"tickcolor\":\"rgb(36,36,36)\",\"ticks\":\"outside\"},\"type\":\"mesh3d\"}],\"parcoords\":[{\"line\":{\"colorbar\":{\"outlinewidth\":1,\"tickcolor\":\"rgb(36,36,36)\",\"ticks\":\"outside\"}},\"type\":\"parcoords\"}],\"pie\":[{\"automargin\":true,\"type\":\"pie\"}],\"scatter3d\":[{\"line\":{\"colorbar\":{\"outlinewidth\":1,\"tickcolor\":\"rgb(36,36,36)\",\"ticks\":\"outside\"}},\"marker\":{\"colorbar\":{\"outlinewidth\":1,\"tickcolor\":\"rgb(36,36,36)\",\"ticks\":\"outside\"}},\"type\":\"scatter3d\"}],\"scattercarpet\":[{\"marker\":{\"colorbar\":{\"outlinewidth\":1,\"tickcolor\":\"rgb(36,36,36)\",\"ticks\":\"outside\"}},\"type\":\"scattercarpet\"}],\"scattergeo\":[{\"marker\":{\"colorbar\":{\"outlinewidth\":1,\"tickcolor\":\"rgb(36,36,36)\",\"ticks\":\"outside\"}},\"type\":\"scattergeo\"}],\"scattergl\":[{\"marker\":{\"colorbar\":{\"outlinewidth\":1,\"tickcolor\":\"rgb(36,36,36)\",\"ticks\":\"outside\"}},\"type\":\"scattergl\"}],\"scattermapbox\":[{\"marker\":{\"colorbar\":{\"outlinewidth\":1,\"tickcolor\":\"rgb(36,36,36)\",\"ticks\":\"outside\"}},\"type\":\"scattermapbox\"}],\"scatterpolargl\":[{\"marker\":{\"colorbar\":{\"outlinewidth\":1,\"tickcolor\":\"rgb(36,36,36)\",\"ticks\":\"outside\"}},\"type\":\"scatterpolargl\"}],\"scatterpolar\":[{\"marker\":{\"colorbar\":{\"outlinewidth\":1,\"tickcolor\":\"rgb(36,36,36)\",\"ticks\":\"outside\"}},\"type\":\"scatterpolar\"}],\"scatter\":[{\"fillpattern\":{\"fillmode\":\"overlay\",\"size\":10,\"solidity\":0.2},\"type\":\"scatter\"}],\"scatterternary\":[{\"marker\":{\"colorbar\":{\"outlinewidth\":1,\"tickcolor\":\"rgb(36,36,36)\",\"ticks\":\"outside\"}},\"type\":\"scatterternary\"}],\"surface\":[{\"colorbar\":{\"outlinewidth\":1,\"tickcolor\":\"rgb(36,36,36)\",\"ticks\":\"outside\"},\"colorscale\":[[0.0,\"#440154\"],[0.1111111111111111,\"#482878\"],[0.2222222222222222,\"#3e4989\"],[0.3333333333333333,\"#31688e\"],[0.4444444444444444,\"#26828e\"],[0.5555555555555556,\"#1f9e89\"],[0.6666666666666666,\"#35b779\"],[0.7777777777777778,\"#6ece58\"],[0.8888888888888888,\"#b5de2b\"],[1.0,\"#fde725\"]],\"type\":\"surface\"}],\"table\":[{\"cells\":{\"fill\":{\"color\":\"rgb(237,237,237)\"},\"line\":{\"color\":\"white\"}},\"header\":{\"fill\":{\"color\":\"rgb(217,217,217)\"},\"line\":{\"color\":\"white\"}},\"type\":\"table\"}]},\"layout\":{\"annotationdefaults\":{\"arrowhead\":0,\"arrowwidth\":1},\"autotypenumbers\":\"strict\",\"coloraxis\":{\"colorbar\":{\"outlinewidth\":1,\"tickcolor\":\"rgb(36,36,36)\",\"ticks\":\"outside\"}},\"colorscale\":{\"diverging\":[[0.0,\"rgb(103,0,31)\"],[0.1,\"rgb(178,24,43)\"],[0.2,\"rgb(214,96,77)\"],[0.3,\"rgb(244,165,130)\"],[0.4,\"rgb(253,219,199)\"],[0.5,\"rgb(247,247,247)\"],[0.6,\"rgb(209,229,240)\"],[0.7,\"rgb(146,197,222)\"],[0.8,\"rgb(67,147,195)\"],[0.9,\"rgb(33,102,172)\"],[1.0,\"rgb(5,48,97)\"]],\"sequential\":[[0.0,\"#440154\"],[0.1111111111111111,\"#482878\"],[0.2222222222222222,\"#3e4989\"],[0.3333333333333333,\"#31688e\"],[0.4444444444444444,\"#26828e\"],[0.5555555555555556,\"#1f9e89\"],[0.6666666666666666,\"#35b779\"],[0.7777777777777778,\"#6ece58\"],[0.8888888888888888,\"#b5de2b\"],[1.0,\"#fde725\"]],\"sequentialminus\":[[0.0,\"#440154\"],[0.1111111111111111,\"#482878\"],[0.2222222222222222,\"#3e4989\"],[0.3333333333333333,\"#31688e\"],[0.4444444444444444,\"#26828e\"],[0.5555555555555556,\"#1f9e89\"],[0.6666666666666666,\"#35b779\"],[0.7777777777777778,\"#6ece58\"],[0.8888888888888888,\"#b5de2b\"],[1.0,\"#fde725\"]]},\"colorway\":[\"#1F77B4\",\"#FF7F0E\",\"#2CA02C\",\"#D62728\",\"#9467BD\",\"#8C564B\",\"#E377C2\",\"#7F7F7F\",\"#BCBD22\",\"#17BECF\"],\"font\":{\"color\":\"rgb(36,36,36)\"},\"geo\":{\"bgcolor\":\"white\",\"lakecolor\":\"white\",\"landcolor\":\"white\",\"showlakes\":true,\"showland\":true,\"subunitcolor\":\"white\"},\"hoverlabel\":{\"align\":\"left\"},\"hovermode\":\"closest\",\"mapbox\":{\"style\":\"light\"},\"paper_bgcolor\":\"white\",\"plot_bgcolor\":\"white\",\"polar\":{\"angularaxis\":{\"gridcolor\":\"rgb(232,232,232)\",\"linecolor\":\"rgb(36,36,36)\",\"showgrid\":false,\"showline\":true,\"ticks\":\"outside\"},\"bgcolor\":\"white\",\"radialaxis\":{\"gridcolor\":\"rgb(232,232,232)\",\"linecolor\":\"rgb(36,36,36)\",\"showgrid\":false,\"showline\":true,\"ticks\":\"outside\"}},\"scene\":{\"xaxis\":{\"backgroundcolor\":\"white\",\"gridcolor\":\"rgb(232,232,232)\",\"gridwidth\":2,\"linecolor\":\"rgb(36,36,36)\",\"showbackground\":true,\"showgrid\":false,\"showline\":true,\"ticks\":\"outside\",\"zeroline\":false,\"zerolinecolor\":\"rgb(36,36,36)\"},\"yaxis\":{\"backgroundcolor\":\"white\",\"gridcolor\":\"rgb(232,232,232)\",\"gridwidth\":2,\"linecolor\":\"rgb(36,36,36)\",\"showbackground\":true,\"showgrid\":false,\"showline\":true,\"ticks\":\"outside\",\"zeroline\":false,\"zerolinecolor\":\"rgb(36,36,36)\"},\"zaxis\":{\"backgroundcolor\":\"white\",\"gridcolor\":\"rgb(232,232,232)\",\"gridwidth\":2,\"linecolor\":\"rgb(36,36,36)\",\"showbackground\":true,\"showgrid\":false,\"showline\":true,\"ticks\":\"outside\",\"zeroline\":false,\"zerolinecolor\":\"rgb(36,36,36)\"}},\"shapedefaults\":{\"fillcolor\":\"black\",\"line\":{\"width\":0},\"opacity\":0.3},\"ternary\":{\"aaxis\":{\"gridcolor\":\"rgb(232,232,232)\",\"linecolor\":\"rgb(36,36,36)\",\"showgrid\":false,\"showline\":true,\"ticks\":\"outside\"},\"baxis\":{\"gridcolor\":\"rgb(232,232,232)\",\"linecolor\":\"rgb(36,36,36)\",\"showgrid\":false,\"showline\":true,\"ticks\":\"outside\"},\"bgcolor\":\"white\",\"caxis\":{\"gridcolor\":\"rgb(232,232,232)\",\"linecolor\":\"rgb(36,36,36)\",\"showgrid\":false,\"showline\":true,\"ticks\":\"outside\"}},\"title\":{\"x\":0.05},\"xaxis\":{\"automargin\":true,\"gridcolor\":\"rgb(232,232,232)\",\"linecolor\":\"rgb(36,36,36)\",\"showgrid\":false,\"showline\":true,\"ticks\":\"outside\",\"title\":{\"standoff\":15},\"zeroline\":false,\"zerolinecolor\":\"rgb(36,36,36)\"},\"yaxis\":{\"automargin\":true,\"gridcolor\":\"rgb(232,232,232)\",\"linecolor\":\"rgb(36,36,36)\",\"showgrid\":false,\"showline\":true,\"ticks\":\"outside\",\"title\":{\"standoff\":15},\"zeroline\":false,\"zerolinecolor\":\"rgb(36,36,36)\"}}},\"xaxis\":{\"anchor\":\"y\",\"domain\":[0.0,1.0],\"title\":{\"text\":\"\"},\"linewidth\":1.5},\"yaxis\":{\"anchor\":\"x\",\"domain\":[0.0,1.0],\"title\":{\"text\":\"Lick Accuracy (%)\"},\"linewidth\":1.5},\"title\":{\"y\":0.9,\"x\":0.5,\"xanchor\":\"center\",\"yanchor\":\"top\"},\"font\":{\"size\":22,\"family\":\"Arial\"},\"height\":500,\"width\":500},                        {\"responsive\": true}                    ).then(function(){\n",
       "                            \n",
       "var gd = document.getElementById('60bbddb4-4e14-459d-a498-d2afbbee998e');\n",
       "var x = new MutationObserver(function (mutations, observer) {{\n",
       "        var display = window.getComputedStyle(gd).display;\n",
       "        if (!display || display === 'none') {{\n",
       "            console.log([gd, 'removed!']);\n",
       "            Plotly.purge(gd);\n",
       "            observer.disconnect();\n",
       "        }}\n",
       "}});\n",
       "\n",
       "// Listen for the removal of the full notebook cells\n",
       "var notebookContainer = gd.closest('#notebook-container');\n",
       "if (notebookContainer) {{\n",
       "    x.observe(notebookContainer, {childList: true});\n",
       "}}\n",
       "\n",
       "// Listen for the clearing of the current output cell\n",
       "var outputEl = gd.closest('.output');\n",
       "if (outputEl) {{\n",
       "    x.observe(outputEl, {childList: true});\n",
       "}}\n",
       "\n",
       "                        })                };                });            </script>        </div>"
      ]
     },
     "metadata": {},
     "output_type": "display_data"
    }
   ],
   "source": [
    "## Plot lick accuracy thresh5 for all groups\n",
    "var = 'lick_accuracy_thresh5'\n",
    "avg_data = ct_df.groupby(['group'], as_index=False).agg({var: ['mean', 'sem']})\n",
    "fig = pf.custom_graph_template(x_title='', y_title='Lick Accuracy (%)')\n",
    "for group in np.unique(avg_data['group']):\n",
    "    gdata = avg_data[avg_data['group'] == group]\n",
    "    fig.add_trace(go.Scatter(x=gdata['group'], y=gdata[var]['mean'], mode='markers', name=group, showlegend=False,\n",
    "                            marker_color=group_colors_dict[group], error_y=dict(type='data', array=gdata[var]['sem']),\n",
    "                            marker_size=5))\n",
    "for mouse in np.unique(ct_df['mouse']):\n",
    "    mdata = ct_df[ct_df['mouse'] == mouse]\n",
    "    group = mdata['group'].values[0]\n",
    "    fig.add_trace(go.Scatter(x=mdata['group'], y=mdata[var], mode='markers', name=group, showlegend=False,\n",
    "                             marker_color=group_colors_dict[group]))\n",
    "\n",
    "fig.show()"
   ]
  },
  {
   "cell_type": "code",
   "execution_count": 127,
   "metadata": {},
   "outputs": [
    {
     "data": {
      "application/vnd.plotly.v1+json": {
       "config": {
        "plotlyServerURL": "https://plot.ly"
       },
       "data": [
        {
         "error_y": {
          "array": [
           11.367147996372204
          ],
          "type": "data"
         },
         "marker": {
          "color": "red"
         },
         "mode": "markers",
         "name": "Aged",
         "showlegend": false,
         "type": "scatter",
         "x": [
          "Aged"
         ],
         "y": [
          86.625
         ]
        },
        {
         "error_y": {
          "array": [
           8.692027340368544
          ],
          "type": "data"
         },
         "marker": {
          "color": "midnightblue"
         },
         "mode": "markers",
         "name": "Middle Aged",
         "showlegend": false,
         "type": "scatter",
         "x": [
          "Middle Aged"
         ],
         "y": [
          82.125
         ]
        },
        {
         "error_y": {
          "array": [
           9.075944460889062
          ],
          "type": "data"
         },
         "marker": {
          "color": "darkgrey"
         },
         "mode": "markers",
         "name": "Young Adult",
         "showlegend": false,
         "type": "scatter",
         "x": [
          "Young Adult"
         ],
         "y": [
          92.875
         ]
        },
        {
         "marker": {
          "color": "darkgrey"
         },
         "mode": "markers",
         "name": "Young Adult",
         "showlegend": false,
         "type": "scatter",
         "x": [
          "Young Adult"
         ],
         "y": [
          91
         ]
        },
        {
         "marker": {
          "color": "darkgrey"
         },
         "mode": "markers",
         "name": "Young Adult",
         "showlegend": false,
         "type": "scatter",
         "x": [
          "Young Adult"
         ],
         "y": [
          55
         ]
        },
        {
         "marker": {
          "color": "darkgrey"
         },
         "mode": "markers",
         "name": "Young Adult",
         "showlegend": false,
         "type": "scatter",
         "x": [
          "Young Adult"
         ],
         "y": [
          94
         ]
        },
        {
         "marker": {
          "color": "darkgrey"
         },
         "mode": "markers",
         "name": "Young Adult",
         "showlegend": false,
         "type": "scatter",
         "x": [
          "Young Adult"
         ],
         "y": [
          70
         ]
        },
        {
         "marker": {
          "color": "midnightblue"
         },
         "mode": "markers",
         "name": "Middle Aged",
         "showlegend": false,
         "type": "scatter",
         "x": [
          "Middle Aged"
         ],
         "y": [
          77
         ]
        },
        {
         "marker": {
          "color": "midnightblue"
         },
         "mode": "markers",
         "name": "Middle Aged",
         "showlegend": false,
         "type": "scatter",
         "x": [
          "Middle Aged"
         ],
         "y": [
          78
         ]
        },
        {
         "marker": {
          "color": "midnightblue"
         },
         "mode": "markers",
         "name": "Middle Aged",
         "showlegend": false,
         "type": "scatter",
         "x": [
          "Middle Aged"
         ],
         "y": [
          95
         ]
        },
        {
         "marker": {
          "color": "midnightblue"
         },
         "mode": "markers",
         "name": "Middle Aged",
         "showlegend": false,
         "type": "scatter",
         "x": [
          "Middle Aged"
         ],
         "y": [
          47
         ]
        },
        {
         "marker": {
          "color": "red"
         },
         "mode": "markers",
         "name": "Aged",
         "showlegend": false,
         "type": "scatter",
         "x": [
          "Aged"
         ],
         "y": [
          139
         ]
        },
        {
         "marker": {
          "color": "red"
         },
         "mode": "markers",
         "name": "Aged",
         "showlegend": false,
         "type": "scatter",
         "x": [
          "Aged"
         ],
         "y": [
          90
         ]
        },
        {
         "marker": {
          "color": "red"
         },
         "mode": "markers",
         "name": "Aged",
         "showlegend": false,
         "type": "scatter",
         "x": [
          "Aged"
         ],
         "y": [
          78
         ]
        },
        {
         "marker": {
          "color": "red"
         },
         "mode": "markers",
         "name": "Aged",
         "showlegend": false,
         "type": "scatter",
         "x": [
          "Aged"
         ],
         "y": [
          39
         ]
        },
        {
         "marker": {
          "color": "darkgrey"
         },
         "mode": "markers",
         "name": "Young Adult",
         "showlegend": false,
         "type": "scatter",
         "x": [
          "Young Adult"
         ],
         "y": [
          132
         ]
        },
        {
         "marker": {
          "color": "darkgrey"
         },
         "mode": "markers",
         "name": "Young Adult",
         "showlegend": false,
         "type": "scatter",
         "x": [
          "Young Adult"
         ],
         "y": [
          124
         ]
        },
        {
         "marker": {
          "color": "darkgrey"
         },
         "mode": "markers",
         "name": "Young Adult",
         "showlegend": false,
         "type": "scatter",
         "x": [
          "Young Adult"
         ],
         "y": [
          81
         ]
        },
        {
         "marker": {
          "color": "darkgrey"
         },
         "mode": "markers",
         "name": "Young Adult",
         "showlegend": false,
         "type": "scatter",
         "x": [
          "Young Adult"
         ],
         "y": [
          96
         ]
        },
        {
         "marker": {
          "color": "midnightblue"
         },
         "mode": "markers",
         "name": "Middle Aged",
         "showlegend": false,
         "type": "scatter",
         "x": [
          "Middle Aged"
         ],
         "y": [
          127
         ]
        },
        {
         "marker": {
          "color": "midnightblue"
         },
         "mode": "markers",
         "name": "Middle Aged",
         "showlegend": false,
         "type": "scatter",
         "x": [
          "Middle Aged"
         ],
         "y": [
          63
         ]
        },
        {
         "marker": {
          "color": "midnightblue"
         },
         "mode": "markers",
         "name": "Middle Aged",
         "showlegend": false,
         "type": "scatter",
         "x": [
          "Middle Aged"
         ],
         "y": [
          99
         ]
        },
        {
         "marker": {
          "color": "midnightblue"
         },
         "mode": "markers",
         "name": "Middle Aged",
         "showlegend": false,
         "type": "scatter",
         "x": [
          "Middle Aged"
         ],
         "y": [
          71
         ]
        },
        {
         "marker": {
          "color": "red"
         },
         "mode": "markers",
         "name": "Aged",
         "showlegend": false,
         "type": "scatter",
         "x": [
          "Aged"
         ],
         "y": [
          59
         ]
        },
        {
         "marker": {
          "color": "red"
         },
         "mode": "markers",
         "name": "Aged",
         "showlegend": false,
         "type": "scatter",
         "x": [
          "Aged"
         ],
         "y": [
          70
         ]
        },
        {
         "marker": {
          "color": "red"
         },
         "mode": "markers",
         "name": "Aged",
         "showlegend": false,
         "type": "scatter",
         "x": [
          "Aged"
         ],
         "y": [
          102
         ]
        },
        {
         "marker": {
          "color": "red"
         },
         "mode": "markers",
         "name": "Aged",
         "showlegend": false,
         "type": "scatter",
         "x": [
          "Aged"
         ],
         "y": [
          116
         ]
        }
       ],
       "layout": {
        "font": {
         "family": "Arial",
         "size": 22
        },
        "height": 500,
        "template": {
         "data": {
          "bar": [
           {
            "error_x": {
             "color": "rgb(36,36,36)"
            },
            "error_y": {
             "color": "rgb(36,36,36)"
            },
            "marker": {
             "line": {
              "color": "white",
              "width": 0.5
             },
             "pattern": {
              "fillmode": "overlay",
              "size": 10,
              "solidity": 0.2
             }
            },
            "type": "bar"
           }
          ],
          "barpolar": [
           {
            "marker": {
             "line": {
              "color": "white",
              "width": 0.5
             },
             "pattern": {
              "fillmode": "overlay",
              "size": 10,
              "solidity": 0.2
             }
            },
            "type": "barpolar"
           }
          ],
          "carpet": [
           {
            "aaxis": {
             "endlinecolor": "rgb(36,36,36)",
             "gridcolor": "white",
             "linecolor": "white",
             "minorgridcolor": "white",
             "startlinecolor": "rgb(36,36,36)"
            },
            "baxis": {
             "endlinecolor": "rgb(36,36,36)",
             "gridcolor": "white",
             "linecolor": "white",
             "minorgridcolor": "white",
             "startlinecolor": "rgb(36,36,36)"
            },
            "type": "carpet"
           }
          ],
          "choropleth": [
           {
            "colorbar": {
             "outlinewidth": 1,
             "tickcolor": "rgb(36,36,36)",
             "ticks": "outside"
            },
            "type": "choropleth"
           }
          ],
          "contour": [
           {
            "colorbar": {
             "outlinewidth": 1,
             "tickcolor": "rgb(36,36,36)",
             "ticks": "outside"
            },
            "colorscale": [
             [
              0,
              "#440154"
             ],
             [
              0.1111111111111111,
              "#482878"
             ],
             [
              0.2222222222222222,
              "#3e4989"
             ],
             [
              0.3333333333333333,
              "#31688e"
             ],
             [
              0.4444444444444444,
              "#26828e"
             ],
             [
              0.5555555555555556,
              "#1f9e89"
             ],
             [
              0.6666666666666666,
              "#35b779"
             ],
             [
              0.7777777777777778,
              "#6ece58"
             ],
             [
              0.8888888888888888,
              "#b5de2b"
             ],
             [
              1,
              "#fde725"
             ]
            ],
            "type": "contour"
           }
          ],
          "contourcarpet": [
           {
            "colorbar": {
             "outlinewidth": 1,
             "tickcolor": "rgb(36,36,36)",
             "ticks": "outside"
            },
            "type": "contourcarpet"
           }
          ],
          "heatmap": [
           {
            "colorbar": {
             "outlinewidth": 1,
             "tickcolor": "rgb(36,36,36)",
             "ticks": "outside"
            },
            "colorscale": [
             [
              0,
              "#440154"
             ],
             [
              0.1111111111111111,
              "#482878"
             ],
             [
              0.2222222222222222,
              "#3e4989"
             ],
             [
              0.3333333333333333,
              "#31688e"
             ],
             [
              0.4444444444444444,
              "#26828e"
             ],
             [
              0.5555555555555556,
              "#1f9e89"
             ],
             [
              0.6666666666666666,
              "#35b779"
             ],
             [
              0.7777777777777778,
              "#6ece58"
             ],
             [
              0.8888888888888888,
              "#b5de2b"
             ],
             [
              1,
              "#fde725"
             ]
            ],
            "type": "heatmap"
           }
          ],
          "heatmapgl": [
           {
            "colorbar": {
             "outlinewidth": 1,
             "tickcolor": "rgb(36,36,36)",
             "ticks": "outside"
            },
            "colorscale": [
             [
              0,
              "#440154"
             ],
             [
              0.1111111111111111,
              "#482878"
             ],
             [
              0.2222222222222222,
              "#3e4989"
             ],
             [
              0.3333333333333333,
              "#31688e"
             ],
             [
              0.4444444444444444,
              "#26828e"
             ],
             [
              0.5555555555555556,
              "#1f9e89"
             ],
             [
              0.6666666666666666,
              "#35b779"
             ],
             [
              0.7777777777777778,
              "#6ece58"
             ],
             [
              0.8888888888888888,
              "#b5de2b"
             ],
             [
              1,
              "#fde725"
             ]
            ],
            "type": "heatmapgl"
           }
          ],
          "histogram": [
           {
            "marker": {
             "line": {
              "color": "white",
              "width": 0.6
             }
            },
            "type": "histogram"
           }
          ],
          "histogram2d": [
           {
            "colorbar": {
             "outlinewidth": 1,
             "tickcolor": "rgb(36,36,36)",
             "ticks": "outside"
            },
            "colorscale": [
             [
              0,
              "#440154"
             ],
             [
              0.1111111111111111,
              "#482878"
             ],
             [
              0.2222222222222222,
              "#3e4989"
             ],
             [
              0.3333333333333333,
              "#31688e"
             ],
             [
              0.4444444444444444,
              "#26828e"
             ],
             [
              0.5555555555555556,
              "#1f9e89"
             ],
             [
              0.6666666666666666,
              "#35b779"
             ],
             [
              0.7777777777777778,
              "#6ece58"
             ],
             [
              0.8888888888888888,
              "#b5de2b"
             ],
             [
              1,
              "#fde725"
             ]
            ],
            "type": "histogram2d"
           }
          ],
          "histogram2dcontour": [
           {
            "colorbar": {
             "outlinewidth": 1,
             "tickcolor": "rgb(36,36,36)",
             "ticks": "outside"
            },
            "colorscale": [
             [
              0,
              "#440154"
             ],
             [
              0.1111111111111111,
              "#482878"
             ],
             [
              0.2222222222222222,
              "#3e4989"
             ],
             [
              0.3333333333333333,
              "#31688e"
             ],
             [
              0.4444444444444444,
              "#26828e"
             ],
             [
              0.5555555555555556,
              "#1f9e89"
             ],
             [
              0.6666666666666666,
              "#35b779"
             ],
             [
              0.7777777777777778,
              "#6ece58"
             ],
             [
              0.8888888888888888,
              "#b5de2b"
             ],
             [
              1,
              "#fde725"
             ]
            ],
            "type": "histogram2dcontour"
           }
          ],
          "mesh3d": [
           {
            "colorbar": {
             "outlinewidth": 1,
             "tickcolor": "rgb(36,36,36)",
             "ticks": "outside"
            },
            "type": "mesh3d"
           }
          ],
          "parcoords": [
           {
            "line": {
             "colorbar": {
              "outlinewidth": 1,
              "tickcolor": "rgb(36,36,36)",
              "ticks": "outside"
             }
            },
            "type": "parcoords"
           }
          ],
          "pie": [
           {
            "automargin": true,
            "type": "pie"
           }
          ],
          "scatter": [
           {
            "fillpattern": {
             "fillmode": "overlay",
             "size": 10,
             "solidity": 0.2
            },
            "type": "scatter"
           }
          ],
          "scatter3d": [
           {
            "line": {
             "colorbar": {
              "outlinewidth": 1,
              "tickcolor": "rgb(36,36,36)",
              "ticks": "outside"
             }
            },
            "marker": {
             "colorbar": {
              "outlinewidth": 1,
              "tickcolor": "rgb(36,36,36)",
              "ticks": "outside"
             }
            },
            "type": "scatter3d"
           }
          ],
          "scattercarpet": [
           {
            "marker": {
             "colorbar": {
              "outlinewidth": 1,
              "tickcolor": "rgb(36,36,36)",
              "ticks": "outside"
             }
            },
            "type": "scattercarpet"
           }
          ],
          "scattergeo": [
           {
            "marker": {
             "colorbar": {
              "outlinewidth": 1,
              "tickcolor": "rgb(36,36,36)",
              "ticks": "outside"
             }
            },
            "type": "scattergeo"
           }
          ],
          "scattergl": [
           {
            "marker": {
             "colorbar": {
              "outlinewidth": 1,
              "tickcolor": "rgb(36,36,36)",
              "ticks": "outside"
             }
            },
            "type": "scattergl"
           }
          ],
          "scattermapbox": [
           {
            "marker": {
             "colorbar": {
              "outlinewidth": 1,
              "tickcolor": "rgb(36,36,36)",
              "ticks": "outside"
             }
            },
            "type": "scattermapbox"
           }
          ],
          "scatterpolar": [
           {
            "marker": {
             "colorbar": {
              "outlinewidth": 1,
              "tickcolor": "rgb(36,36,36)",
              "ticks": "outside"
             }
            },
            "type": "scatterpolar"
           }
          ],
          "scatterpolargl": [
           {
            "marker": {
             "colorbar": {
              "outlinewidth": 1,
              "tickcolor": "rgb(36,36,36)",
              "ticks": "outside"
             }
            },
            "type": "scatterpolargl"
           }
          ],
          "scatterternary": [
           {
            "marker": {
             "colorbar": {
              "outlinewidth": 1,
              "tickcolor": "rgb(36,36,36)",
              "ticks": "outside"
             }
            },
            "type": "scatterternary"
           }
          ],
          "surface": [
           {
            "colorbar": {
             "outlinewidth": 1,
             "tickcolor": "rgb(36,36,36)",
             "ticks": "outside"
            },
            "colorscale": [
             [
              0,
              "#440154"
             ],
             [
              0.1111111111111111,
              "#482878"
             ],
             [
              0.2222222222222222,
              "#3e4989"
             ],
             [
              0.3333333333333333,
              "#31688e"
             ],
             [
              0.4444444444444444,
              "#26828e"
             ],
             [
              0.5555555555555556,
              "#1f9e89"
             ],
             [
              0.6666666666666666,
              "#35b779"
             ],
             [
              0.7777777777777778,
              "#6ece58"
             ],
             [
              0.8888888888888888,
              "#b5de2b"
             ],
             [
              1,
              "#fde725"
             ]
            ],
            "type": "surface"
           }
          ],
          "table": [
           {
            "cells": {
             "fill": {
              "color": "rgb(237,237,237)"
             },
             "line": {
              "color": "white"
             }
            },
            "header": {
             "fill": {
              "color": "rgb(217,217,217)"
             },
             "line": {
              "color": "white"
             }
            },
            "type": "table"
           }
          ]
         },
         "layout": {
          "annotationdefaults": {
           "arrowhead": 0,
           "arrowwidth": 1
          },
          "autotypenumbers": "strict",
          "coloraxis": {
           "colorbar": {
            "outlinewidth": 1,
            "tickcolor": "rgb(36,36,36)",
            "ticks": "outside"
           }
          },
          "colorscale": {
           "diverging": [
            [
             0,
             "rgb(103,0,31)"
            ],
            [
             0.1,
             "rgb(178,24,43)"
            ],
            [
             0.2,
             "rgb(214,96,77)"
            ],
            [
             0.3,
             "rgb(244,165,130)"
            ],
            [
             0.4,
             "rgb(253,219,199)"
            ],
            [
             0.5,
             "rgb(247,247,247)"
            ],
            [
             0.6,
             "rgb(209,229,240)"
            ],
            [
             0.7,
             "rgb(146,197,222)"
            ],
            [
             0.8,
             "rgb(67,147,195)"
            ],
            [
             0.9,
             "rgb(33,102,172)"
            ],
            [
             1,
             "rgb(5,48,97)"
            ]
           ],
           "sequential": [
            [
             0,
             "#440154"
            ],
            [
             0.1111111111111111,
             "#482878"
            ],
            [
             0.2222222222222222,
             "#3e4989"
            ],
            [
             0.3333333333333333,
             "#31688e"
            ],
            [
             0.4444444444444444,
             "#26828e"
            ],
            [
             0.5555555555555556,
             "#1f9e89"
            ],
            [
             0.6666666666666666,
             "#35b779"
            ],
            [
             0.7777777777777778,
             "#6ece58"
            ],
            [
             0.8888888888888888,
             "#b5de2b"
            ],
            [
             1,
             "#fde725"
            ]
           ],
           "sequentialminus": [
            [
             0,
             "#440154"
            ],
            [
             0.1111111111111111,
             "#482878"
            ],
            [
             0.2222222222222222,
             "#3e4989"
            ],
            [
             0.3333333333333333,
             "#31688e"
            ],
            [
             0.4444444444444444,
             "#26828e"
            ],
            [
             0.5555555555555556,
             "#1f9e89"
            ],
            [
             0.6666666666666666,
             "#35b779"
            ],
            [
             0.7777777777777778,
             "#6ece58"
            ],
            [
             0.8888888888888888,
             "#b5de2b"
            ],
            [
             1,
             "#fde725"
            ]
           ]
          },
          "colorway": [
           "#1F77B4",
           "#FF7F0E",
           "#2CA02C",
           "#D62728",
           "#9467BD",
           "#8C564B",
           "#E377C2",
           "#7F7F7F",
           "#BCBD22",
           "#17BECF"
          ],
          "font": {
           "color": "rgb(36,36,36)"
          },
          "geo": {
           "bgcolor": "white",
           "lakecolor": "white",
           "landcolor": "white",
           "showlakes": true,
           "showland": true,
           "subunitcolor": "white"
          },
          "hoverlabel": {
           "align": "left"
          },
          "hovermode": "closest",
          "mapbox": {
           "style": "light"
          },
          "paper_bgcolor": "white",
          "plot_bgcolor": "white",
          "polar": {
           "angularaxis": {
            "gridcolor": "rgb(232,232,232)",
            "linecolor": "rgb(36,36,36)",
            "showgrid": false,
            "showline": true,
            "ticks": "outside"
           },
           "bgcolor": "white",
           "radialaxis": {
            "gridcolor": "rgb(232,232,232)",
            "linecolor": "rgb(36,36,36)",
            "showgrid": false,
            "showline": true,
            "ticks": "outside"
           }
          },
          "scene": {
           "xaxis": {
            "backgroundcolor": "white",
            "gridcolor": "rgb(232,232,232)",
            "gridwidth": 2,
            "linecolor": "rgb(36,36,36)",
            "showbackground": true,
            "showgrid": false,
            "showline": true,
            "ticks": "outside",
            "zeroline": false,
            "zerolinecolor": "rgb(36,36,36)"
           },
           "yaxis": {
            "backgroundcolor": "white",
            "gridcolor": "rgb(232,232,232)",
            "gridwidth": 2,
            "linecolor": "rgb(36,36,36)",
            "showbackground": true,
            "showgrid": false,
            "showline": true,
            "ticks": "outside",
            "zeroline": false,
            "zerolinecolor": "rgb(36,36,36)"
           },
           "zaxis": {
            "backgroundcolor": "white",
            "gridcolor": "rgb(232,232,232)",
            "gridwidth": 2,
            "linecolor": "rgb(36,36,36)",
            "showbackground": true,
            "showgrid": false,
            "showline": true,
            "ticks": "outside",
            "zeroline": false,
            "zerolinecolor": "rgb(36,36,36)"
           }
          },
          "shapedefaults": {
           "fillcolor": "black",
           "line": {
            "width": 0
           },
           "opacity": 0.3
          },
          "ternary": {
           "aaxis": {
            "gridcolor": "rgb(232,232,232)",
            "linecolor": "rgb(36,36,36)",
            "showgrid": false,
            "showline": true,
            "ticks": "outside"
           },
           "baxis": {
            "gridcolor": "rgb(232,232,232)",
            "linecolor": "rgb(36,36,36)",
            "showgrid": false,
            "showline": true,
            "ticks": "outside"
           },
           "bgcolor": "white",
           "caxis": {
            "gridcolor": "rgb(232,232,232)",
            "linecolor": "rgb(36,36,36)",
            "showgrid": false,
            "showline": true,
            "ticks": "outside"
           }
          },
          "title": {
           "x": 0.05
          },
          "xaxis": {
           "automargin": true,
           "gridcolor": "rgb(232,232,232)",
           "linecolor": "rgb(36,36,36)",
           "showgrid": false,
           "showline": true,
           "ticks": "outside",
           "title": {
            "standoff": 15
           },
           "zeroline": false,
           "zerolinecolor": "rgb(36,36,36)"
          },
          "yaxis": {
           "automargin": true,
           "gridcolor": "rgb(232,232,232)",
           "linecolor": "rgb(36,36,36)",
           "showgrid": false,
           "showline": true,
           "ticks": "outside",
           "title": {
            "standoff": 15
           },
           "zeroline": false,
           "zerolinecolor": "rgb(36,36,36)"
          }
         }
        },
        "title": {
         "x": 0.5,
         "xanchor": "center",
         "y": 0.9,
         "yanchor": "top"
        },
        "width": 500,
        "xaxis": {
         "anchor": "y",
         "domain": [
          0,
          1
         ],
         "linewidth": 1.5,
         "title": {
          "text": ""
         }
        },
        "yaxis": {
         "anchor": "x",
         "domain": [
          0,
          1
         ],
         "linewidth": 1.5,
         "title": {
          "text": "Rewards"
         }
        }
       }
      },
      "text/html": [
       "<div>                            <div id=\"ebd00e07-fb61-4dcc-9925-6b8465f4b8d1\" class=\"plotly-graph-div\" style=\"height:500px; width:500px;\"></div>            <script type=\"text/javascript\">                require([\"plotly\"], function(Plotly) {                    window.PLOTLYENV=window.PLOTLYENV || {};                                    if (document.getElementById(\"ebd00e07-fb61-4dcc-9925-6b8465f4b8d1\")) {                    Plotly.newPlot(                        \"ebd00e07-fb61-4dcc-9925-6b8465f4b8d1\",                        [{\"error_y\":{\"array\":[11.367147996372204],\"type\":\"data\"},\"marker\":{\"color\":\"red\"},\"mode\":\"markers\",\"name\":\"Aged\",\"showlegend\":false,\"x\":[\"Aged\"],\"y\":[86.625],\"type\":\"scatter\"},{\"error_y\":{\"array\":[8.692027340368544],\"type\":\"data\"},\"marker\":{\"color\":\"midnightblue\"},\"mode\":\"markers\",\"name\":\"Middle Aged\",\"showlegend\":false,\"x\":[\"Middle Aged\"],\"y\":[82.125],\"type\":\"scatter\"},{\"error_y\":{\"array\":[9.075944460889062],\"type\":\"data\"},\"marker\":{\"color\":\"darkgrey\"},\"mode\":\"markers\",\"name\":\"Young Adult\",\"showlegend\":false,\"x\":[\"Young Adult\"],\"y\":[92.875],\"type\":\"scatter\"},{\"marker\":{\"color\":\"darkgrey\"},\"mode\":\"markers\",\"name\":\"Young Adult\",\"showlegend\":false,\"x\":[\"Young Adult\"],\"y\":[91],\"type\":\"scatter\"},{\"marker\":{\"color\":\"darkgrey\"},\"mode\":\"markers\",\"name\":\"Young Adult\",\"showlegend\":false,\"x\":[\"Young Adult\"],\"y\":[55],\"type\":\"scatter\"},{\"marker\":{\"color\":\"darkgrey\"},\"mode\":\"markers\",\"name\":\"Young Adult\",\"showlegend\":false,\"x\":[\"Young Adult\"],\"y\":[94],\"type\":\"scatter\"},{\"marker\":{\"color\":\"darkgrey\"},\"mode\":\"markers\",\"name\":\"Young Adult\",\"showlegend\":false,\"x\":[\"Young Adult\"],\"y\":[70],\"type\":\"scatter\"},{\"marker\":{\"color\":\"midnightblue\"},\"mode\":\"markers\",\"name\":\"Middle Aged\",\"showlegend\":false,\"x\":[\"Middle Aged\"],\"y\":[77],\"type\":\"scatter\"},{\"marker\":{\"color\":\"midnightblue\"},\"mode\":\"markers\",\"name\":\"Middle Aged\",\"showlegend\":false,\"x\":[\"Middle Aged\"],\"y\":[78],\"type\":\"scatter\"},{\"marker\":{\"color\":\"midnightblue\"},\"mode\":\"markers\",\"name\":\"Middle Aged\",\"showlegend\":false,\"x\":[\"Middle Aged\"],\"y\":[95],\"type\":\"scatter\"},{\"marker\":{\"color\":\"midnightblue\"},\"mode\":\"markers\",\"name\":\"Middle Aged\",\"showlegend\":false,\"x\":[\"Middle Aged\"],\"y\":[47],\"type\":\"scatter\"},{\"marker\":{\"color\":\"red\"},\"mode\":\"markers\",\"name\":\"Aged\",\"showlegend\":false,\"x\":[\"Aged\"],\"y\":[139],\"type\":\"scatter\"},{\"marker\":{\"color\":\"red\"},\"mode\":\"markers\",\"name\":\"Aged\",\"showlegend\":false,\"x\":[\"Aged\"],\"y\":[90],\"type\":\"scatter\"},{\"marker\":{\"color\":\"red\"},\"mode\":\"markers\",\"name\":\"Aged\",\"showlegend\":false,\"x\":[\"Aged\"],\"y\":[78],\"type\":\"scatter\"},{\"marker\":{\"color\":\"red\"},\"mode\":\"markers\",\"name\":\"Aged\",\"showlegend\":false,\"x\":[\"Aged\"],\"y\":[39],\"type\":\"scatter\"},{\"marker\":{\"color\":\"darkgrey\"},\"mode\":\"markers\",\"name\":\"Young Adult\",\"showlegend\":false,\"x\":[\"Young Adult\"],\"y\":[132],\"type\":\"scatter\"},{\"marker\":{\"color\":\"darkgrey\"},\"mode\":\"markers\",\"name\":\"Young Adult\",\"showlegend\":false,\"x\":[\"Young Adult\"],\"y\":[124],\"type\":\"scatter\"},{\"marker\":{\"color\":\"darkgrey\"},\"mode\":\"markers\",\"name\":\"Young Adult\",\"showlegend\":false,\"x\":[\"Young Adult\"],\"y\":[81],\"type\":\"scatter\"},{\"marker\":{\"color\":\"darkgrey\"},\"mode\":\"markers\",\"name\":\"Young Adult\",\"showlegend\":false,\"x\":[\"Young Adult\"],\"y\":[96],\"type\":\"scatter\"},{\"marker\":{\"color\":\"midnightblue\"},\"mode\":\"markers\",\"name\":\"Middle Aged\",\"showlegend\":false,\"x\":[\"Middle Aged\"],\"y\":[127],\"type\":\"scatter\"},{\"marker\":{\"color\":\"midnightblue\"},\"mode\":\"markers\",\"name\":\"Middle Aged\",\"showlegend\":false,\"x\":[\"Middle Aged\"],\"y\":[63],\"type\":\"scatter\"},{\"marker\":{\"color\":\"midnightblue\"},\"mode\":\"markers\",\"name\":\"Middle Aged\",\"showlegend\":false,\"x\":[\"Middle Aged\"],\"y\":[99],\"type\":\"scatter\"},{\"marker\":{\"color\":\"midnightblue\"},\"mode\":\"markers\",\"name\":\"Middle Aged\",\"showlegend\":false,\"x\":[\"Middle Aged\"],\"y\":[71],\"type\":\"scatter\"},{\"marker\":{\"color\":\"red\"},\"mode\":\"markers\",\"name\":\"Aged\",\"showlegend\":false,\"x\":[\"Aged\"],\"y\":[59],\"type\":\"scatter\"},{\"marker\":{\"color\":\"red\"},\"mode\":\"markers\",\"name\":\"Aged\",\"showlegend\":false,\"x\":[\"Aged\"],\"y\":[70],\"type\":\"scatter\"},{\"marker\":{\"color\":\"red\"},\"mode\":\"markers\",\"name\":\"Aged\",\"showlegend\":false,\"x\":[\"Aged\"],\"y\":[102],\"type\":\"scatter\"},{\"marker\":{\"color\":\"red\"},\"mode\":\"markers\",\"name\":\"Aged\",\"showlegend\":false,\"x\":[\"Aged\"],\"y\":[116],\"type\":\"scatter\"}],                        {\"template\":{\"data\":{\"barpolar\":[{\"marker\":{\"line\":{\"color\":\"white\",\"width\":0.5},\"pattern\":{\"fillmode\":\"overlay\",\"size\":10,\"solidity\":0.2}},\"type\":\"barpolar\"}],\"bar\":[{\"error_x\":{\"color\":\"rgb(36,36,36)\"},\"error_y\":{\"color\":\"rgb(36,36,36)\"},\"marker\":{\"line\":{\"color\":\"white\",\"width\":0.5},\"pattern\":{\"fillmode\":\"overlay\",\"size\":10,\"solidity\":0.2}},\"type\":\"bar\"}],\"carpet\":[{\"aaxis\":{\"endlinecolor\":\"rgb(36,36,36)\",\"gridcolor\":\"white\",\"linecolor\":\"white\",\"minorgridcolor\":\"white\",\"startlinecolor\":\"rgb(36,36,36)\"},\"baxis\":{\"endlinecolor\":\"rgb(36,36,36)\",\"gridcolor\":\"white\",\"linecolor\":\"white\",\"minorgridcolor\":\"white\",\"startlinecolor\":\"rgb(36,36,36)\"},\"type\":\"carpet\"}],\"choropleth\":[{\"colorbar\":{\"outlinewidth\":1,\"tickcolor\":\"rgb(36,36,36)\",\"ticks\":\"outside\"},\"type\":\"choropleth\"}],\"contourcarpet\":[{\"colorbar\":{\"outlinewidth\":1,\"tickcolor\":\"rgb(36,36,36)\",\"ticks\":\"outside\"},\"type\":\"contourcarpet\"}],\"contour\":[{\"colorbar\":{\"outlinewidth\":1,\"tickcolor\":\"rgb(36,36,36)\",\"ticks\":\"outside\"},\"colorscale\":[[0.0,\"#440154\"],[0.1111111111111111,\"#482878\"],[0.2222222222222222,\"#3e4989\"],[0.3333333333333333,\"#31688e\"],[0.4444444444444444,\"#26828e\"],[0.5555555555555556,\"#1f9e89\"],[0.6666666666666666,\"#35b779\"],[0.7777777777777778,\"#6ece58\"],[0.8888888888888888,\"#b5de2b\"],[1.0,\"#fde725\"]],\"type\":\"contour\"}],\"heatmapgl\":[{\"colorbar\":{\"outlinewidth\":1,\"tickcolor\":\"rgb(36,36,36)\",\"ticks\":\"outside\"},\"colorscale\":[[0.0,\"#440154\"],[0.1111111111111111,\"#482878\"],[0.2222222222222222,\"#3e4989\"],[0.3333333333333333,\"#31688e\"],[0.4444444444444444,\"#26828e\"],[0.5555555555555556,\"#1f9e89\"],[0.6666666666666666,\"#35b779\"],[0.7777777777777778,\"#6ece58\"],[0.8888888888888888,\"#b5de2b\"],[1.0,\"#fde725\"]],\"type\":\"heatmapgl\"}],\"heatmap\":[{\"colorbar\":{\"outlinewidth\":1,\"tickcolor\":\"rgb(36,36,36)\",\"ticks\":\"outside\"},\"colorscale\":[[0.0,\"#440154\"],[0.1111111111111111,\"#482878\"],[0.2222222222222222,\"#3e4989\"],[0.3333333333333333,\"#31688e\"],[0.4444444444444444,\"#26828e\"],[0.5555555555555556,\"#1f9e89\"],[0.6666666666666666,\"#35b779\"],[0.7777777777777778,\"#6ece58\"],[0.8888888888888888,\"#b5de2b\"],[1.0,\"#fde725\"]],\"type\":\"heatmap\"}],\"histogram2dcontour\":[{\"colorbar\":{\"outlinewidth\":1,\"tickcolor\":\"rgb(36,36,36)\",\"ticks\":\"outside\"},\"colorscale\":[[0.0,\"#440154\"],[0.1111111111111111,\"#482878\"],[0.2222222222222222,\"#3e4989\"],[0.3333333333333333,\"#31688e\"],[0.4444444444444444,\"#26828e\"],[0.5555555555555556,\"#1f9e89\"],[0.6666666666666666,\"#35b779\"],[0.7777777777777778,\"#6ece58\"],[0.8888888888888888,\"#b5de2b\"],[1.0,\"#fde725\"]],\"type\":\"histogram2dcontour\"}],\"histogram2d\":[{\"colorbar\":{\"outlinewidth\":1,\"tickcolor\":\"rgb(36,36,36)\",\"ticks\":\"outside\"},\"colorscale\":[[0.0,\"#440154\"],[0.1111111111111111,\"#482878\"],[0.2222222222222222,\"#3e4989\"],[0.3333333333333333,\"#31688e\"],[0.4444444444444444,\"#26828e\"],[0.5555555555555556,\"#1f9e89\"],[0.6666666666666666,\"#35b779\"],[0.7777777777777778,\"#6ece58\"],[0.8888888888888888,\"#b5de2b\"],[1.0,\"#fde725\"]],\"type\":\"histogram2d\"}],\"histogram\":[{\"marker\":{\"line\":{\"color\":\"white\",\"width\":0.6}},\"type\":\"histogram\"}],\"mesh3d\":[{\"colorbar\":{\"outlinewidth\":1,\"tickcolor\":\"rgb(36,36,36)\",\"ticks\":\"outside\"},\"type\":\"mesh3d\"}],\"parcoords\":[{\"line\":{\"colorbar\":{\"outlinewidth\":1,\"tickcolor\":\"rgb(36,36,36)\",\"ticks\":\"outside\"}},\"type\":\"parcoords\"}],\"pie\":[{\"automargin\":true,\"type\":\"pie\"}],\"scatter3d\":[{\"line\":{\"colorbar\":{\"outlinewidth\":1,\"tickcolor\":\"rgb(36,36,36)\",\"ticks\":\"outside\"}},\"marker\":{\"colorbar\":{\"outlinewidth\":1,\"tickcolor\":\"rgb(36,36,36)\",\"ticks\":\"outside\"}},\"type\":\"scatter3d\"}],\"scattercarpet\":[{\"marker\":{\"colorbar\":{\"outlinewidth\":1,\"tickcolor\":\"rgb(36,36,36)\",\"ticks\":\"outside\"}},\"type\":\"scattercarpet\"}],\"scattergeo\":[{\"marker\":{\"colorbar\":{\"outlinewidth\":1,\"tickcolor\":\"rgb(36,36,36)\",\"ticks\":\"outside\"}},\"type\":\"scattergeo\"}],\"scattergl\":[{\"marker\":{\"colorbar\":{\"outlinewidth\":1,\"tickcolor\":\"rgb(36,36,36)\",\"ticks\":\"outside\"}},\"type\":\"scattergl\"}],\"scattermapbox\":[{\"marker\":{\"colorbar\":{\"outlinewidth\":1,\"tickcolor\":\"rgb(36,36,36)\",\"ticks\":\"outside\"}},\"type\":\"scattermapbox\"}],\"scatterpolargl\":[{\"marker\":{\"colorbar\":{\"outlinewidth\":1,\"tickcolor\":\"rgb(36,36,36)\",\"ticks\":\"outside\"}},\"type\":\"scatterpolargl\"}],\"scatterpolar\":[{\"marker\":{\"colorbar\":{\"outlinewidth\":1,\"tickcolor\":\"rgb(36,36,36)\",\"ticks\":\"outside\"}},\"type\":\"scatterpolar\"}],\"scatter\":[{\"fillpattern\":{\"fillmode\":\"overlay\",\"size\":10,\"solidity\":0.2},\"type\":\"scatter\"}],\"scatterternary\":[{\"marker\":{\"colorbar\":{\"outlinewidth\":1,\"tickcolor\":\"rgb(36,36,36)\",\"ticks\":\"outside\"}},\"type\":\"scatterternary\"}],\"surface\":[{\"colorbar\":{\"outlinewidth\":1,\"tickcolor\":\"rgb(36,36,36)\",\"ticks\":\"outside\"},\"colorscale\":[[0.0,\"#440154\"],[0.1111111111111111,\"#482878\"],[0.2222222222222222,\"#3e4989\"],[0.3333333333333333,\"#31688e\"],[0.4444444444444444,\"#26828e\"],[0.5555555555555556,\"#1f9e89\"],[0.6666666666666666,\"#35b779\"],[0.7777777777777778,\"#6ece58\"],[0.8888888888888888,\"#b5de2b\"],[1.0,\"#fde725\"]],\"type\":\"surface\"}],\"table\":[{\"cells\":{\"fill\":{\"color\":\"rgb(237,237,237)\"},\"line\":{\"color\":\"white\"}},\"header\":{\"fill\":{\"color\":\"rgb(217,217,217)\"},\"line\":{\"color\":\"white\"}},\"type\":\"table\"}]},\"layout\":{\"annotationdefaults\":{\"arrowhead\":0,\"arrowwidth\":1},\"autotypenumbers\":\"strict\",\"coloraxis\":{\"colorbar\":{\"outlinewidth\":1,\"tickcolor\":\"rgb(36,36,36)\",\"ticks\":\"outside\"}},\"colorscale\":{\"diverging\":[[0.0,\"rgb(103,0,31)\"],[0.1,\"rgb(178,24,43)\"],[0.2,\"rgb(214,96,77)\"],[0.3,\"rgb(244,165,130)\"],[0.4,\"rgb(253,219,199)\"],[0.5,\"rgb(247,247,247)\"],[0.6,\"rgb(209,229,240)\"],[0.7,\"rgb(146,197,222)\"],[0.8,\"rgb(67,147,195)\"],[0.9,\"rgb(33,102,172)\"],[1.0,\"rgb(5,48,97)\"]],\"sequential\":[[0.0,\"#440154\"],[0.1111111111111111,\"#482878\"],[0.2222222222222222,\"#3e4989\"],[0.3333333333333333,\"#31688e\"],[0.4444444444444444,\"#26828e\"],[0.5555555555555556,\"#1f9e89\"],[0.6666666666666666,\"#35b779\"],[0.7777777777777778,\"#6ece58\"],[0.8888888888888888,\"#b5de2b\"],[1.0,\"#fde725\"]],\"sequentialminus\":[[0.0,\"#440154\"],[0.1111111111111111,\"#482878\"],[0.2222222222222222,\"#3e4989\"],[0.3333333333333333,\"#31688e\"],[0.4444444444444444,\"#26828e\"],[0.5555555555555556,\"#1f9e89\"],[0.6666666666666666,\"#35b779\"],[0.7777777777777778,\"#6ece58\"],[0.8888888888888888,\"#b5de2b\"],[1.0,\"#fde725\"]]},\"colorway\":[\"#1F77B4\",\"#FF7F0E\",\"#2CA02C\",\"#D62728\",\"#9467BD\",\"#8C564B\",\"#E377C2\",\"#7F7F7F\",\"#BCBD22\",\"#17BECF\"],\"font\":{\"color\":\"rgb(36,36,36)\"},\"geo\":{\"bgcolor\":\"white\",\"lakecolor\":\"white\",\"landcolor\":\"white\",\"showlakes\":true,\"showland\":true,\"subunitcolor\":\"white\"},\"hoverlabel\":{\"align\":\"left\"},\"hovermode\":\"closest\",\"mapbox\":{\"style\":\"light\"},\"paper_bgcolor\":\"white\",\"plot_bgcolor\":\"white\",\"polar\":{\"angularaxis\":{\"gridcolor\":\"rgb(232,232,232)\",\"linecolor\":\"rgb(36,36,36)\",\"showgrid\":false,\"showline\":true,\"ticks\":\"outside\"},\"bgcolor\":\"white\",\"radialaxis\":{\"gridcolor\":\"rgb(232,232,232)\",\"linecolor\":\"rgb(36,36,36)\",\"showgrid\":false,\"showline\":true,\"ticks\":\"outside\"}},\"scene\":{\"xaxis\":{\"backgroundcolor\":\"white\",\"gridcolor\":\"rgb(232,232,232)\",\"gridwidth\":2,\"linecolor\":\"rgb(36,36,36)\",\"showbackground\":true,\"showgrid\":false,\"showline\":true,\"ticks\":\"outside\",\"zeroline\":false,\"zerolinecolor\":\"rgb(36,36,36)\"},\"yaxis\":{\"backgroundcolor\":\"white\",\"gridcolor\":\"rgb(232,232,232)\",\"gridwidth\":2,\"linecolor\":\"rgb(36,36,36)\",\"showbackground\":true,\"showgrid\":false,\"showline\":true,\"ticks\":\"outside\",\"zeroline\":false,\"zerolinecolor\":\"rgb(36,36,36)\"},\"zaxis\":{\"backgroundcolor\":\"white\",\"gridcolor\":\"rgb(232,232,232)\",\"gridwidth\":2,\"linecolor\":\"rgb(36,36,36)\",\"showbackground\":true,\"showgrid\":false,\"showline\":true,\"ticks\":\"outside\",\"zeroline\":false,\"zerolinecolor\":\"rgb(36,36,36)\"}},\"shapedefaults\":{\"fillcolor\":\"black\",\"line\":{\"width\":0},\"opacity\":0.3},\"ternary\":{\"aaxis\":{\"gridcolor\":\"rgb(232,232,232)\",\"linecolor\":\"rgb(36,36,36)\",\"showgrid\":false,\"showline\":true,\"ticks\":\"outside\"},\"baxis\":{\"gridcolor\":\"rgb(232,232,232)\",\"linecolor\":\"rgb(36,36,36)\",\"showgrid\":false,\"showline\":true,\"ticks\":\"outside\"},\"bgcolor\":\"white\",\"caxis\":{\"gridcolor\":\"rgb(232,232,232)\",\"linecolor\":\"rgb(36,36,36)\",\"showgrid\":false,\"showline\":true,\"ticks\":\"outside\"}},\"title\":{\"x\":0.05},\"xaxis\":{\"automargin\":true,\"gridcolor\":\"rgb(232,232,232)\",\"linecolor\":\"rgb(36,36,36)\",\"showgrid\":false,\"showline\":true,\"ticks\":\"outside\",\"title\":{\"standoff\":15},\"zeroline\":false,\"zerolinecolor\":\"rgb(36,36,36)\"},\"yaxis\":{\"automargin\":true,\"gridcolor\":\"rgb(232,232,232)\",\"linecolor\":\"rgb(36,36,36)\",\"showgrid\":false,\"showline\":true,\"ticks\":\"outside\",\"title\":{\"standoff\":15},\"zeroline\":false,\"zerolinecolor\":\"rgb(36,36,36)\"}}},\"xaxis\":{\"anchor\":\"y\",\"domain\":[0.0,1.0],\"title\":{\"text\":\"\"},\"linewidth\":1.5},\"yaxis\":{\"anchor\":\"x\",\"domain\":[0.0,1.0],\"title\":{\"text\":\"Rewards\"},\"linewidth\":1.5},\"title\":{\"y\":0.9,\"x\":0.5,\"xanchor\":\"center\",\"yanchor\":\"top\"},\"font\":{\"size\":22,\"family\":\"Arial\"},\"height\":500,\"width\":500},                        {\"responsive\": true}                    ).then(function(){\n",
       "                            \n",
       "var gd = document.getElementById('ebd00e07-fb61-4dcc-9925-6b8465f4b8d1');\n",
       "var x = new MutationObserver(function (mutations, observer) {{\n",
       "        var display = window.getComputedStyle(gd).display;\n",
       "        if (!display || display === 'none') {{\n",
       "            console.log([gd, 'removed!']);\n",
       "            Plotly.purge(gd);\n",
       "            observer.disconnect();\n",
       "        }}\n",
       "}});\n",
       "\n",
       "// Listen for the removal of the full notebook cells\n",
       "var notebookContainer = gd.closest('#notebook-container');\n",
       "if (notebookContainer) {{\n",
       "    x.observe(notebookContainer, {childList: true});\n",
       "}}\n",
       "\n",
       "// Listen for the clearing of the current output cell\n",
       "var outputEl = gd.closest('.output');\n",
       "if (outputEl) {{\n",
       "    x.observe(outputEl, {childList: true});\n",
       "}}\n",
       "\n",
       "                        })                };                });            </script>        </div>"
      ]
     },
     "metadata": {},
     "output_type": "display_data"
    }
   ],
   "source": [
    "## Plot rewards for all groups\n",
    "var = 'rewards'\n",
    "avg_data = ct_df.groupby(['group'], as_index=False).agg({var: ['mean', 'sem']})\n",
    "fig = pf.custom_graph_template(x_title='', y_title='Rewards')\n",
    "for group in np.unique(avg_data['group']):\n",
    "    gdata = avg_data[avg_data['group'] == group]\n",
    "    fig.add_trace(go.Scatter(x=gdata['group'], y=gdata[var]['mean'], mode='markers', name=group, showlegend=False,\n",
    "                            marker_color=group_colors_dict[group], error_y=dict(type='data', array=gdata[var]['sem'])))\n",
    "for mouse in np.unique(ct_df['mouse']):\n",
    "    mdata = ct_df[ct_df['mouse'] == mouse]\n",
    "    group = mdata['group'].values[0]\n",
    "    fig.add_trace(go.Scatter(x=mdata['group'], y=mdata[var], mode='markers', name=group, showlegend=False,\n",
    "                             marker_color=group_colors_dict[group]))\n",
    "\n",
    "fig.show()"
   ]
  }
 ],
 "metadata": {
  "kernelspec": {
   "display_name": "calcium",
   "language": "python",
   "name": "python3"
  },
  "language_info": {
   "codemirror_mode": {
    "name": "ipython",
    "version": 3
   },
   "file_extension": ".py",
   "mimetype": "text/x-python",
   "name": "python",
   "nbconvert_exporter": "python",
   "pygments_lexer": "ipython3",
   "version": "3.10.8"
  },
  "orig_nbformat": 4
 },
 "nbformat": 4,
 "nbformat_minor": 2
}
