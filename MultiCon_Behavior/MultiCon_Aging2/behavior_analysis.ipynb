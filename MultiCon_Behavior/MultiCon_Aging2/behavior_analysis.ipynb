{
 "cells": [
  {
   "cell_type": "code",
   "execution_count": 1,
   "metadata": {},
   "outputs": [
    {
     "name": "stderr",
     "output_type": "stream",
     "text": [
      "/home/austinbaggetta/.conda/envs/calcium/lib/python3.10/site-packages/outdated/utils.py:14: OutdatedPackageWarning: The package pingouin is out of date. Your version is 0.5.2, the latest is 0.5.4.\n",
      "Set the environment variable OUTDATED_IGNORE=1 to disable these warnings.\n",
      "  return warn(\n"
     ]
    }
   ],
   "source": [
    "%load_ext autoreload\n",
    "%autoreload 2\n",
    "import os\n",
    "import sys\n",
    "import numpy as np\n",
    "import pandas as pd\n",
    "import pingouin as pg\n",
    "import plotly.graph_objects as go\n",
    "from os.path import join as pjoin\n",
    "\n",
    "sys.path.append(\"../..\")\n",
    "import circletrack_behavior as ctb\n",
    "import plotting_functions as pf\n",
    "import place_cells as pc\n",
    "\n",
    "def set_groups(df): \n",
    "    df['group'] = df['mouse']\n",
    "    df['group'] = df['group'].replace({'mca24': 'Young Adult', 'mca25': 'Young Adult', 'mca26': 'Young Adult', 'mca27': 'Young Adult', \n",
    "                                       'mca28': 'Middle Age', 'mca29': 'Middle Age', 'mca30': 'Middle Age', 'mca31': 'Middle Age', \n",
    "                                       'mca32': 'Aged', 'mca33': 'Aged', 'mca34': 'Aged', 'mca35': 'Aged', \n",
    "                                       'mca36': 'Young Adult', 'mca37': 'Young Adult', 'mca38': 'Young Adult', 'mca39': 'Young Adult', \n",
    "                                       'mca40': 'Middle Age', 'mca41': 'Middle Age', 'mca42': 'Middle Age', 'mca43': 'Middle Age',\n",
    "                                       'mca44': 'Aged', 'mca45': 'Aged', 'mca46': 'Aged', 'mca47': 'Aged'})\n",
    "    return df"
   ]
  },
  {
   "attachments": {},
   "cell_type": "markdown",
   "metadata": {},
   "source": [
    "### The code below can be used to visualize results after each day."
   ]
  },
  {
   "cell_type": "code",
   "execution_count": null,
   "metadata": {},
   "outputs": [],
   "source": [
    "## Set path variables\n",
    "behavior_type = 'circletrack_data'\n",
    "csv_name = 'circle_track.csv'\n",
    "project_dir = 'MultiCon_Behavior'\n",
    "experiment_dir = 'MultiCon_Aging2'\n",
    "dpath = ''\n",
    "dpath = f'../../../{project_dir}/{experiment_dir}/{behavior_type}/data/**/**/**/{csv_name}'\n",
    "fig_path = (f'../../../{project_dir}/{experiment_dir}/intermediate_figures/')\n",
    "group_colors = ['red', 'midnightblue', 'darkgrey']\n",
    "group_colors_dict = {'Young Adult': 'darkgrey', 'Middle Age': 'midnightblue', 'Aged': 'red',\n",
    "                     'Young Adult Thresh3': 'turquoise', 'Young Adult Thresh5': 'midnightblue'}\n",
    "chance_color = 'darkgrey'\n",
    "\n",
    "if not os.path.exists(fig_path):\n",
    "    os.makedirs(fig_path)\n",
    "\n",
    "## Create file list dataframe\n",
    "file_list = ctb.get_file_list(dpath)\n",
    "mouse_id = []\n",
    "for file in file_list:\n",
    "    mouse_id.append(ctb.get_mouse(file, str2match='(mca[0-9]+)'))\n",
    "combined = ctb.combine(file_list, mouse_id)"
   ]
  },
  {
   "cell_type": "code",
   "execution_count": null,
   "metadata": {},
   "outputs": [],
   "source": [
    "lick_df = pd.DataFrame()\n",
    "for mouse in np.unique(mouse_id):\n",
    "    lick_data = ctb.get_lick_accuracy(combined, mouse)\n",
    "    lick_df = pd.concat([lick_df, lick_data], ignore_index=True)\n",
    "lick_df = set_groups(lick_df)\n",
    "## Lick accuracy plot\n",
    "fig = pf.plot_behavior_across_days(lick_df, x_var='day', y_var='percent_correct', groupby_var=['day', 'group'], plot_transitions=None,\n",
    "                                   marker_color=group_colors, avg_color='darkgrey', plot_datapoints=True,\n",
    "                                   x_title='Day', y_title='Lick Accuracy (%)', titles=['Circle Track: Lick Accuracy'], height=700, width=700)\n",
    "fig.show()\n",
    "# fig.write_image(pjoin(fig_path, 'lick_accuracy.png'))\n",
    "# lick_df.mixed_anova(dv='percent_correct', subject='mouse', within='day', between='group')"
   ]
  },
  {
   "cell_type": "code",
   "execution_count": null,
   "metadata": {},
   "outputs": [],
   "source": [
    "reward_df = pd.DataFrame()\n",
    "for mouse in np.unique(mouse_id):\n",
    "    reward_data = ctb.get_total_rewards(combined, mouse)\n",
    "    reward_df = pd.concat([reward_df, reward_data], ignore_index=True)\n",
    "reward_df = set_groups(reward_df)\n",
    "## Total rewards plot\n",
    "fig = pf.plot_behavior_across_days(reward_df, x_var='day', y_var='total_rewards', groupby_var=['day', 'group'], plot_transitions=None,\n",
    "                                   marker_color=group_colors, avg_color='darkgrey', expert_line=False, chance=False, plot_datapoints=True,\n",
    "                                   x_title='Day', y_title='Total Rewards', titles=['Circle Track: Rewards'], height=700, width=700)\n",
    "fig.show()\n",
    "# fig.write_image(pjoin(fig_path, 'total_rewards.png'))"
   ]
  },
  {
   "attachments": {},
   "cell_type": "markdown",
   "metadata": {},
   "source": [
    "### Set up run order for the day."
   ]
  },
  {
   "cell_type": "code",
   "execution_count": null,
   "metadata": {},
   "outputs": [],
   "source": [
    "day = 'Day 38' ## edit depending on day\n",
    "retired_mice = [] ## add retired mouse to this list\n",
    "maze_info = pd.read_csv(f'../../../{project_dir}/{experiment_dir}/maze_yml/maze_info.csv')\n",
    "todays_mazes = pd.read_csv(f'../../../{project_dir}/{experiment_dir}/maze_yml/{experiment_dir} - TodaysMazes.csv') ## download at end of the day\n",
    "run_dict = {'maze1': [], 'maze2': [], 'maze3': [], 'maze4': []}\n",
    "letter_dict = {'maze1': [], 'maze2': [], 'maze3': [], 'maze4': []}\n",
    "for mouse in np.unique(todays_mazes['Mouse']):\n",
    "    if mouse in retired_mice:\n",
    "        pass\n",
    "    else:\n",
    "        maze_letter = todays_mazes.loc[todays_mazes['Mouse'] == mouse, day].reset_index(drop=True)\n",
    "\n",
    "        if 'A' in maze_letter[0]:\n",
    "            maze_number = maze_info.loc[maze_info['Mouse'] == mouse, \"if 'A'\"].reset_index(drop=True)\n",
    "        elif 'B' in maze_letter[0]:\n",
    "            maze_number = maze_info.loc[maze_info['Mouse'] == mouse, \"if 'B'\"].reset_index(drop=True)\n",
    "        elif 'C' in maze_letter[0]:\n",
    "            maze_number = maze_info.loc[maze_info['Mouse'] == mouse, \"if 'C'\"].reset_index(drop=True)\n",
    "        elif 'D' in maze_letter[0]:\n",
    "            maze_number = maze_info.loc[maze_info['Mouse'] == mouse, \"if 'D'\"].reset_index(drop=True)\n",
    "\n",
    "        if maze_number[0] == 1:\n",
    "            run_dict['maze1'].append(mouse)\n",
    "            letter_dict['maze1'].append(maze_letter[0])\n",
    "        elif maze_number[0] == 2:\n",
    "            run_dict['maze2'].append(mouse)\n",
    "            letter_dict['maze2'].append(maze_letter[0])\n",
    "        elif maze_number[0] == 3:\n",
    "            run_dict['maze3'].append(mouse)\n",
    "            letter_dict['maze3'].append(maze_letter[0])\n",
    "        elif maze_number[0] == 4:\n",
    "            run_dict['maze4'].append(mouse)\n",
    "            letter_dict['maze4'].append(maze_letter[0])\n",
    "## Convert to dataframe to paste into excel         \n",
    "run_df = pd.DataFrame.from_dict(run_dict, orient='index').T \n",
    "letter_df = pd.DataFrame.from_dict(letter_dict, orient='index').T"
   ]
  },
  {
   "cell_type": "code",
   "execution_count": null,
   "metadata": {},
   "outputs": [],
   "source": [
    "run_df"
   ]
  },
  {
   "cell_type": "code",
   "execution_count": null,
   "metadata": {},
   "outputs": [],
   "source": [
    "letter_df"
   ]
  },
  {
   "cell_type": "markdown",
   "metadata": {},
   "source": [
    "### Analyze preprocessed behavior data."
   ]
  },
  {
   "cell_type": "code",
   "execution_count": 2,
   "metadata": {},
   "outputs": [],
   "source": [
    "## Settings\n",
    "project_dir = 'MultiCon_Behavior'\n",
    "experiment_dir = 'MultiCon_Aging2'\n",
    "lin_path = f'../../../{project_dir}/{experiment_dir}/output/lin_behav/'\n",
    "circle_path = f'../../../{project_dir}/{experiment_dir}/output/behav/'\n",
    "fig_path = f'../../../{project_dir}/{experiment_dir}/intermediate_figures'\n",
    "young_adult = [f'mca{x}' for x in np.arange(24, 28)] + [f'mca{x}' for x in np.arange(36, 40)]\n",
    "middle_aged = [f'mca{x}' for x in np.arange(28, 32)] + [f'mca{x}' for x in np.arange(40, 44)]\n",
    "aged = [f'mca{x}' for x in np.arange(32, 36)] + [f'mca{x}' for x in np.arange(44, 48)]\n",
    "three_color_plots = ['red', 'midnightblue', 'darkgrey']\n",
    "group_colors_dict = {'Young Adult': 'darkgrey', 'Middle Aged': 'midnightblue', 'Aged': 'red',\n",
    "                     'Young Adult Thresh1': 'darkgrey', 'Young Adult Thresh5': 'black',\n",
    "                     'Middle Aged Thresh1': 'turquoise', 'Middle Aged Thresh5': 'midnightblue',\n",
    "                     'Aged Thresh1': 'red', 'Aged Thresh5': 'darkred'}\n",
    "context_colors = ['midnightblue', 'red', 'darkorchid', 'forestgreen']\n",
    "chance_color = 'darkgrey'\n",
    "bin_size = 5 ## for binning across trials\n",
    "error_colors = ['rgba(169,169,169,0.4)', 'rgba(169,169,169,0.4)', 'rgba(169,169,169,0.4)'] ## rgba is the only way to get the error band transparent\n",
    "opacity = 0.8 ## for binning across trials"
   ]
  },
  {
   "cell_type": "markdown",
   "metadata": {},
   "source": [
    "### Linear track results."
   ]
  },
  {
   "cell_type": "code",
   "execution_count": null,
   "metadata": {},
   "outputs": [],
   "source": [
    "## Linear track rewards\n",
    "result_dict = {'mouse': [], 'day': [], 'group': [], 'rewards': []}\n",
    "for mouse in os.listdir(lin_path)[:-1]:\n",
    "    mouse_path = pjoin(lin_path, mouse)\n",
    "    group = 'Young Adult' if mouse in young_adult else 'Middle Aged' if mouse in middle_aged else 'Aged'\n",
    "    for idx, session in enumerate(os.listdir(mouse_path)):\n",
    "        behav = pd.read_feather(pjoin(mouse_path, f'{session}'))\n",
    "        result_dict['mouse'].append(mouse)\n",
    "        result_dict['day'].append(idx+1)\n",
    "        result_dict['group'].append(group)\n",
    "        result_dict['rewards'].append(np.sum(behav['water']))\n",
    "results_df = pd.DataFrame(result_dict)"
   ]
  },
  {
   "cell_type": "code",
   "execution_count": null,
   "metadata": {},
   "outputs": [],
   "source": [
    "## Plot rewards across days in linear track\n",
    "fig = pf.plot_behavior_across_days(results_df, x_var='day', y_var='rewards', groupby_var=['day', 'group'], plot_transitions=None,\n",
    "                                   marker_color=three_color_plots, avg_color='darkgrey', expert_line=False, chance=False, plot_datapoints=False,\n",
    "                                   x_title='Day', y_title='Rewards', titles=['Linear Track'], height=500, width=500)\n",
    "fig.show()\n",
    "results_df.mixed_anova(dv='rewards', within='day', subject='mouse', between='group')\n",
    "fig.write_image(pjoin(fig_path, 'linear_track_rewards.png'))\n",
    "results_df.mixed_anova(dv='rewards', subject='mouse', within='day', between='group')"
   ]
  },
  {
   "cell_type": "markdown",
   "metadata": {},
   "source": [
    "### Analyze circle track lick accuracy."
   ]
  },
  {
   "cell_type": "code",
   "execution_count": 3,
   "metadata": {},
   "outputs": [],
   "source": [
    "## Looking at first licks\n",
    "circletrack_results = {'mouse': [], 'day': [], 'group': [], 'session': [], 'lick_accuracy_thresh1': [], 'lick_accuracy_thresh5': [], 'rewards': []}\n",
    "for mouse in os.listdir(circle_path)[:-1]:\n",
    "    mouse_path = pjoin(circle_path, mouse)\n",
    "    group = 'Young Adult' if mouse in young_adult else 'Middle Aged' if mouse in middle_aged else 'Aged'\n",
    "    for idx, session in enumerate(os.listdir(mouse_path)):\n",
    "            behav = pd.read_feather(pjoin(mouse_path, f'{session}'))\n",
    "            behav_data = behav[~behav['probe']]\n",
    "            reward_one, reward_two = np.unique(behav['reward_one'])[0], np.unique(behav['reward_two'])[0]\n",
    "            pc_thresh1 = ctb.lick_accuracy(behav, port_one=reward_one, port_two=reward_two, lick_threshold=1, by_trials=False)\n",
    "            pc_thresh5 = ctb.lick_accuracy(behav, port_one=reward_one, port_two=reward_two, lick_threshold=5, by_trials=False)\n",
    "            circletrack_results['mouse'].append(mouse)\n",
    "            circletrack_results['day'].append(idx+1)\n",
    "            circletrack_results['group'].append(group)\n",
    "            circletrack_results['session'].append(np.unique(behav['session'])[0])\n",
    "            circletrack_results['lick_accuracy_thresh1'].append(pc_thresh1)\n",
    "            circletrack_results['lick_accuracy_thresh5'].append(pc_thresh5)\n",
    "            circletrack_results['rewards'].append(np.sum(behav_data['water']))\n",
    "ct_df = pd.DataFrame(circletrack_results)"
   ]
  },
  {
   "cell_type": "code",
   "execution_count": null,
   "metadata": {},
   "outputs": [],
   "source": [
    "## Plot lick accuracy across days for thresh of 1\n",
    "fig = pf.plot_behavior_across_days(ct_df, x_var='day', y_var='lick_accuracy_thresh1', groupby_var=['day', 'group'], plot_transitions=None,\n",
    "                                   marker_color=three_color_plots, avg_color='darkgrey', expert_line=True, chance=True, plot_datapoints=False,\n",
    "                                   x_title='Day', y_title='Lick Accuracy', titles=['Circle Track'], height=500, width=500)\n",
    "fig.update_yaxes(range=[0, 100], dtick=25)\n",
    "fig.show()\n",
    "fig.write_image(pjoin(fig_path, 'lick_accuracy_thresh1.png'))\n",
    "# ct_df.mixed_anova(dv='lick_accuracy_thresh1', within='day', subject='mouse', between='group')"
   ]
  },
  {
   "cell_type": "code",
   "execution_count": null,
   "metadata": {},
   "outputs": [],
   "source": [
    "## Plot lick accuracy across days for thresh of 5\n",
    "fig = pf.plot_behavior_across_days(ct_df, x_var='day', y_var='lick_accuracy_thresh5', groupby_var=['day', 'group'], plot_transitions=None,\n",
    "                                   marker_color=three_color_plots, avg_color='darkgrey', expert_line=True, chance=True, plot_datapoints=False,\n",
    "                                   x_title='Day', y_title='Lick Accuracy', titles=['Circle Track'], height=500, width=500)\n",
    "fig.update_yaxes(range=[0, 100], dtick=25)\n",
    "fig.show()\n",
    "fig.write_image(pjoin(fig_path, 'lick_accuracy_thresh5.png'))\n",
    "# ct_df.mixed_anova(dv='lick_accuracy_thresh5', within='day', subject='mouse', between='group')"
   ]
  },
  {
   "cell_type": "code",
   "execution_count": null,
   "metadata": {},
   "outputs": [],
   "source": [
    "## Look at lick accuracy just when a mouse is in A.\n",
    "y_var = 'lick_accuracy_thresh5'\n",
    "a_data = ct_df[ct_df['session'] == 'A']\n",
    "fig = pf.plot_behavior_across_days(a_data, x_var='day', y_var=y_var, groupby_var=['day', 'group'], plot_transitions=None,\n",
    "                                   marker_color=three_color_plots, avg_color='darkgrey', expert_line=False, chance=True, plot_datapoints=False,\n",
    "                                   x_title='Day', y_title='Lick Accuracy', titles=['Circle Track'], height=500, width=500)\n",
    "fig.update_yaxes(range=[0, 100], dtick=25)\n",
    "fig.show()\n",
    "fig.write_image(pjoin(fig_path, f'{y_var}_in_A.png'))\n",
    "a_data.mixed_anova(dv=y_var, within='day', subject='mouse', between='group')"
   ]
  },
  {
   "cell_type": "code",
   "execution_count": null,
   "metadata": {},
   "outputs": [],
   "source": [
    "## Look at lick accuracy just when a mouse is in A.\n",
    "y_var = 'rewards'\n",
    "a_data = ct_df[ct_df['session'] == 'A']\n",
    "fig = pf.plot_behavior_across_days(a_data, x_var='day', y_var=y_var, groupby_var=['day', 'group'], plot_transitions=None,\n",
    "                                   marker_color=three_color_plots, avg_color='darkgrey', expert_line=False, chance=True, plot_datapoints=False,\n",
    "                                   x_title='Day', y_title='Rewards', titles=['Circle Track'], height=500, width=500)\n",
    "fig.update_yaxes(dtick=25)\n",
    "fig.show()\n",
    "fig.write_image(pjoin(fig_path, f'{y_var}_in_A.png'))\n",
    "a_data.mixed_anova(dv=y_var, within='day', subject='mouse', between='group')"
   ]
  },
  {
   "cell_type": "markdown",
   "metadata": {},
   "source": [
    "### Look at trial by trial differences in lick accuracy for the first or fifth lick."
   ]
  },
  {
   "cell_type": "code",
   "execution_count": null,
   "metadata": {},
   "outputs": [],
   "source": [
    "## Calculate for lick accuracy across trials\n",
    "data = {'mouse': [], 'day': [], 'context_day': [], 'session': [], 'group': [], 'trial_acc_1': [], 'trial_acc_5': []}\n",
    "for mouse in os.listdir(circle_path)[:-1]:\n",
    "    mouse_path = pjoin(circle_path, mouse)\n",
    "    group = 'Young Adult' if mouse in young_adult else 'Middle Aged' if mouse in middle_aged else 'Aged'\n",
    "    day_counter = 1\n",
    "    session_id = np.nan\n",
    "    for idx, session in enumerate(os.listdir(mouse_path)):\n",
    "        behav_data = pd.read_feather(pjoin(mouse_path, f'{session}'))\n",
    "        reward_one, reward_two = np.unique(behav_data['reward_one'])[0], np.unique(behav_data['reward_two'])[0]\n",
    "        pc_1 = ctb.lick_accuracy(behav_data, reward_one, reward_two, lick_threshold=1, by_trials=True)\n",
    "        pc_5 = ctb.lick_accuracy(behav_data, reward_one, reward_two, lick_threshold=5, by_trials=True)\n",
    "        binned_pc_1 = ctb.bin_data(pc_1, bin_size=bin_size)\n",
    "        binned_pc_5 = ctb.bin_data(pc_5, bin_size=bin_size)\n",
    "        data['mouse'].append(mouse)\n",
    "        data['day'].append(idx+1)\n",
    "        data['group'].append(group)\n",
    "        data['session'].append(behav_data['session'].unique()[0])\n",
    "        data['trial_acc_1'].append(binned_pc_1)\n",
    "        data['trial_acc_5'].append(binned_pc_5)\n",
    "\n",
    "        if np.unique(behav_data['session'])[0] != session_id:\n",
    "            day_counter = 1\n",
    "            session_id = np.unique(behav_data['session'])[0]\n",
    "            data['context_day'].append(day_counter)\n",
    "        else:\n",
    "            day_counter += 1\n",
    "            session_id = np.unique(behav_data['session'])[0]\n",
    "            data['context_day'].append(day_counter)\n",
    "trial_acc = pd.DataFrame(data)"
   ]
  },
  {
   "cell_type": "code",
   "execution_count": null,
   "metadata": {},
   "outputs": [],
   "source": [
    "yvar = 'trial_acc_5'\n",
    "group_data = {'trial_acc': [], 'trial_sem': [], 'group': [], 'session': [], 'context_day': []}\n",
    "for group in ['Young Adult', 'Middle Aged', 'Aged']:\n",
    "    for session in ['A', 'B', 'C', 'D']:\n",
    "        for context_day in np.arange(1, 5): ## first four days\n",
    "            data = trial_acc[yvar][(trial_acc['group'] == group) & (trial_acc['session'] == session) & (trial_acc['context_day'] == context_day)]\n",
    "            group_data['trial_acc'].append(np.nanmean(data.apply(pd.Series), axis=0))\n",
    "            group_data['trial_sem'].append(np.nanstd(data.apply(pd.Series), axis=0, ddof=0) / np.sqrt(len(data.apply(pd.Series)))) ## use ddof = 0 in case of single entries\n",
    "            group_data['group'].append(group)\n",
    "            group_data['session'].append(session)\n",
    "            group_data['context_day'].append(context_day)\n",
    "trial_df = pd.DataFrame(group_data)"
   ]
  },
  {
   "cell_type": "code",
   "execution_count": null,
   "metadata": {},
   "outputs": [],
   "source": [
    "## All contexts\n",
    "fig = pf.custom_graph_template(x_title='', y_title='', titles=['A', 'B', 'C', 'D'], \n",
    "                               rows=1, columns=4, width=1300, shared_y=True, shared_x=True)\n",
    "for idx, session in enumerate(trial_df['session'].unique()):\n",
    "    for ind, group in enumerate(trial_df['group'].unique()):\n",
    "        pdata = trial_df[(trial_df['group'] == group) & (trial_df['session'] == session)]\n",
    "\n",
    "        plot_acc = pdata['trial_acc'][pdata['context_day'] == 1].to_numpy()[0]\n",
    "        plot_sem = pdata['trial_sem'][pdata['context_day'] == 1].to_numpy()[0]\n",
    "        for day in pdata['context_day'].unique()[1:]:\n",
    "            loop_acc = pdata['trial_acc'][pdata['context_day'] == day].to_numpy()[0]\n",
    "            loop_sem = pdata['trial_sem'][pdata['context_day'] == day].to_numpy()[0]\n",
    "            plot_acc = np.concatenate((plot_acc, loop_acc))\n",
    "            plot_sem = np.concatenate((plot_sem, loop_sem))\n",
    "\n",
    "        x_data = np.arange(1, plot_acc.shape[0]+1) * bin_size\n",
    "        fig.add_trace(go.Scatter(x=x_data, y=plot_acc, mode='lines', opacity=opacity,\n",
    "                                line_color=group_colors_dict[group], showlegend=False,\n",
    "                                legendgroup=group, name=group), row=1, col=idx + 1)\n",
    "        fig.add_trace(go.Scatter(name='Upper Bound', x=x_data, y=plot_acc + plot_sem, mode='lines',\n",
    "                                 marker=dict(color=error_colors[ind]), line=dict(width=0), showlegend=False, \n",
    "                                 legendgroup=group), row=1, col=idx + 1)\n",
    "        fig.add_trace(go.Scatter(name='Lower Bound', x=x_data, y=plot_acc - plot_sem, marker=dict(color=error_colors[ind]),\n",
    "                                 line=dict(width=0), mode='lines', fillcolor=error_colors[ind], fill='tonexty', \n",
    "                                 showlegend=False, legendgroup=group), row=1, col=idx + 1)\n",
    "fig['data'][0]['showlegend'] = True\n",
    "fig['data'][3]['showlegend'] = True\n",
    "fig['data'][6]['showlegend'] = True\n",
    "fig.add_hline(y=25, line_width=1, line_dash='dash', line_color=chance_color, opacity=1)\n",
    "fig.update_yaxes(title='Lick Accuracy (%)', range=[0, 100], col=1)\n",
    "fig.update_xaxes(title='Trial')\n",
    "fig.show()"
   ]
  },
  {
   "cell_type": "code",
   "execution_count": null,
   "metadata": {},
   "outputs": [],
   "source": [
    "## Choose a single context\n",
    "fig = pf.custom_graph_template(x_title='', y_title='', titles=['A'], width=500, shared_y=True, shared_x=True)\n",
    "for session in ['A']: ## from A, B, C, D, or others\n",
    "    for ind, group in enumerate(trial_df['group'].unique()):\n",
    "        pdata = trial_df[(trial_df['group'] == group) & (trial_df['session'] == session)]\n",
    "\n",
    "        plot_acc = pdata['trial_acc'][pdata['context_day'] == 1].to_numpy()[0]\n",
    "        plot_sem = pdata['trial_sem'][pdata['context_day'] == 1].to_numpy()[0]\n",
    "        for day in pdata['context_day'].unique()[1:]:\n",
    "            loop_acc = pdata['trial_acc'][pdata['context_day'] == day].to_numpy()[0]\n",
    "            loop_sem = pdata['trial_sem'][pdata['context_day'] == day].to_numpy()[0]\n",
    "            plot_acc = np.concatenate((plot_acc, loop_acc))\n",
    "            plot_sem = np.concatenate((plot_sem, loop_sem))\n",
    "\n",
    "        x_data = np.arange(1, plot_acc.shape[0]+1) * bin_size\n",
    "        fig.add_trace(go.Scatter(x=x_data, y=plot_acc, mode='lines', opacity=opacity,\n",
    "                                line_color=group_colors_dict[group], showlegend=False,\n",
    "                                legendgroup=group, name=group))\n",
    "        fig.add_trace(go.Scatter(name='Upper Bound', x=x_data, y=plot_acc + plot_sem, mode='lines',\n",
    "                                 marker=dict(color=error_colors[ind]), line=dict(width=0), showlegend=False, \n",
    "                                 legendgroup=group))\n",
    "        fig.add_trace(go.Scatter(name='Lower Bound', x=x_data, y=plot_acc - plot_sem, marker=dict(color=error_colors[ind]),\n",
    "                                 line=dict(width=0), mode='lines', fillcolor=error_colors[ind], fill='tonexty', \n",
    "                                 showlegend=False, legendgroup=group))\n",
    "fig['data'][0]['showlegend'] = True\n",
    "fig['data'][3]['showlegend'] = True\n",
    "fig['data'][6]['showlegend'] = True\n",
    "fig.add_hline(y=25, line_width=1, line_dash='dash', line_color=chance_color, opacity=1)\n",
    "fig.update_yaxes(title='Lick Accuracy (%)', range=[0, 100], col=1)\n",
    "fig.update_xaxes(title='Trial')\n",
    "fig.show()\n",
    "fig.write_image(pjoin(fig_path, 'lick_acc_across_trials_contA.png'))"
   ]
  },
  {
   "cell_type": "code",
   "execution_count": null,
   "metadata": {},
   "outputs": [],
   "source": [
    "fig = pf.custom_graph_template(x_title='', y_title='', rows=1, columns=4, \n",
    "                               shared_x=True, shared_y=True, width=1000, titles=[f'Day {x}' for x in np.arange(1, 5)])\n",
    "for session in ['A']: ## can change this to B, C, D to save first four days in that context\n",
    "    for idx, context_day in enumerate(trial_df['context_day'].unique()):\n",
    "        for ind, group in enumerate(trial_df['group'].unique()):\n",
    "            pdata = trial_df[(trial_df['group'] == group) & (trial_df['session'] == session) & (trial_df['context_day'] == context_day)]\n",
    "            plot_acc = pdata['trial_acc'].to_numpy()[0]\n",
    "            plot_sem = pdata['trial_sem'].to_numpy()[0]\n",
    "            x_data = np.arange(1, plot_acc.shape[0]+1) * bin_size\n",
    "\n",
    "            fig.add_trace(go.Scatter(x=x_data, y=plot_acc, mode='lines', opacity=opacity,\n",
    "                                    line_color=group_colors_dict[group], showlegend=False,\n",
    "                                    legendgroup=group, name=group), row=1, col=idx+1)\n",
    "            fig.add_trace(go.Scatter(name='Upper Bound', x=x_data, y=plot_acc + plot_sem, mode='lines',\n",
    "                                    marker=dict(color=error_colors[ind]), line=dict(width=0), showlegend=False, \n",
    "                                    legendgroup=group), row=1, col=idx+1)\n",
    "            fig.add_trace(go.Scatter(name='Lower Bound', x=x_data, y=plot_acc - plot_sem, marker=dict(color=error_colors[ind]),\n",
    "                                    line=dict(width=0), mode='lines', fillcolor=error_colors[ind], fill='tonexty', \n",
    "                                    showlegend=False, legendgroup=group), row=1, col=idx+1)\n",
    "fig['data'][0]['showlegend'] = True\n",
    "fig['data'][3]['showlegend'] = True\n",
    "fig['data'][6]['showlegend'] = True\n",
    "fig.add_hline(y=25, line_width=1, line_dash='dash', line_color=chance_color, opacity=1)\n",
    "fig.update_yaxes(title='Lick Accuracy (%)', range=[0, 100], col=1)\n",
    "fig.update_xaxes(title='Trial')\n",
    "fig.show()\n",
    "fig.write_image(pjoin(fig_path, f'trial_acc_by_day_cont{session}.png'))"
   ]
  },
  {
   "cell_type": "code",
   "execution_count": null,
   "metadata": {},
   "outputs": [],
   "source": [
    "## For lick accuracy first lick\n",
    "only_min_trials = False\n",
    "fig = pf.custom_graph_template(x_title='', y_title='', height=800, width=1200,\n",
    "                               rows=2, columns=6, shared_x=True, shared_y=True,\n",
    "                               titles=[f'Day {x}' for x in np.arange(1, len(np.unique(group_df['day']))+1)])\n",
    "for idx, day in enumerate(np.unique(group_df['day'])):\n",
    "    plot_data = group_df[group_df['day'] == day]\n",
    "\n",
    "    if only_min_trials:\n",
    "        trial_lengths = []\n",
    "        for group in plot_data.columns[:-1]:\n",
    "            trial_lengths.append(len(plot_data.loc[:, group].values[0]))\n",
    "        min_trials = np.min(trial_lengths)\n",
    "    else:\n",
    "        min_trials = -1\n",
    "    \n",
    "    for ind, group in enumerate(plot_data.columns[:-1]):\n",
    "        group_data = plot_data.loc[:, group].values[0][:min_trials]\n",
    "        upper = plot_data.loc[:, group].values[0][:min_trials] + plot_data.loc[:, group].values[1][:min_trials]\n",
    "        lower = plot_data.loc[:, group].values[0][:min_trials] - plot_data.loc[:, group].values[1][:min_trials]\n",
    "        x_data = np.arange(1, len(group_data)+1) * bin_size\n",
    "        if idx < 6:\n",
    "            row, col = 1, idx + 1\n",
    "        elif (idx >= 6) & (idx < 12):\n",
    "            row, col = 2, idx - 5\n",
    "        else:\n",
    "            row, col = 3, idx - 11\n",
    "        fig.add_trace(go.Scatter(x=x_data, y=group_data, mode='lines', opacity=opacity,\n",
    "                                line_color=group_colors_dict[group], showlegend=False,\n",
    "                                legendgroup=group, name=group), row=row, col=col)\n",
    "        fig.add_trace(go.Scatter(name='Upper Bound', x=x_data, y=upper, mode='lines',\n",
    "                                 marker=dict(color=error_colors[ind]), line=dict(width=0), showlegend=False, \n",
    "                                 legendgroup=group), row=row, col=col)\n",
    "        fig.add_trace(go.Scatter(name='Lower Bound', x=x_data, y=lower, marker=dict(color=error_colors[ind]),\n",
    "                                 line=dict(width=0), mode='lines', fillcolor=error_colors[ind], fill='tonexty', \n",
    "                                 showlegend=False, legendgroup=group), row=row, col=col)\n",
    "fig.add_hline(y=75, line_width=1, line_dash='dash', line_color=chance_color, opacity=1)\n",
    "fig.add_hline(y=25, line_width=1, line_dash='dash', line_color=chance_color, opacity=1)\n",
    "fig.update_yaxes(title='Lick Accuracy', range=[0, 100], dtick=25, col=1)\n",
    "fig.update_xaxes(title='Trial', row=2)\n",
    "fig.show()\n",
    "if only_min_trials:\n",
    "    fig.write_image(pjoin(fig_path, 'lick_acc_min_trials_across_groups.png'))\n",
    "else:\n",
    "    fig.write_image(pjoin(fig_path, 'lick_acc_across_groups.png'))"
   ]
  },
  {
   "cell_type": "code",
   "execution_count": null,
   "metadata": {},
   "outputs": [],
   "source": [
    "group_data = {'Young Adult': [], 'Middle Aged': [], 'Aged': [], 'day': []}\n",
    "for day in np.unique(trial_acc['day']):\n",
    "    group_data['Young Adult'].append(np.nanmean(trial_acc['trial_acc_5'][(trial_acc['group'] == 'Young Adult') & (trial_acc['day'] == day)].apply(pd.Series), axis=0))\n",
    "    group_data['Middle Aged'].append(np.nanmean(trial_acc['trial_acc_5'][(trial_acc['group'] == 'Middle Aged') & (trial_acc['day'] == day)].apply(pd.Series), axis=0))\n",
    "    group_data['Aged'].append(np.nanmean(trial_acc['trial_acc_5'][(trial_acc['group'] == 'Aged') & (trial_acc['day'] == day)].apply(pd.Series), axis=0))\n",
    "    group_data['Young Adult'].append(np.std(trial_acc['trial_acc_5'][(trial_acc['group'] == 'Young Adult') & (trial_acc['day'] == day)].apply(pd.Series), axis=0, ddof=1).to_numpy() / np.sqrt(len(trial_acc['trial_acc_5'][(trial_acc['group'] == 'Young Adult') & (trial_acc['day'] == day)].apply(pd.Series))))\n",
    "    group_data['Middle Aged'].append(np.std(trial_acc['trial_acc_5'][(trial_acc['group'] == 'Middle Aged') & (trial_acc['day'] == day)].apply(pd.Series), axis=0, ddof=1).to_numpy() / np.sqrt(len(trial_acc['trial_acc_5'][(trial_acc['group'] == 'Middle Aged') & (trial_acc['day'] == day)].apply(pd.Series))))\n",
    "    group_data['Aged'].append(np.std(trial_acc['trial_acc_5'][(trial_acc['group'] == 'Aged') & (trial_acc['day'] == day)].apply(pd.Series), axis=0, ddof=1).to_numpy() / np.sqrt(len(trial_acc['trial_acc_5'][(trial_acc['group'] == 'Aged') & (trial_acc['day'] == day)].apply(pd.Series))))\n",
    "    group_data['day'].append(day)\n",
    "    group_data['day'].append(day)\n",
    "group_df_five = pd.DataFrame(group_data)"
   ]
  },
  {
   "cell_type": "code",
   "execution_count": null,
   "metadata": {},
   "outputs": [],
   "source": [
    "## For lick accuracy fifth lick\n",
    "only_min_trials = False\n",
    "fig = pf.custom_graph_template(x_title='', y_title='', height=800, width=1200,\n",
    "                               rows=3, columns=6, shared_x=True, shared_y=True,\n",
    "                               titles=[f'Day {x}' for x in np.arange(1, len(np.unique(group_df_five['day']))+1)])\n",
    "for idx, day in enumerate(np.unique(group_df_five['day'])):\n",
    "    plot_data = group_df_five[group_df_five['day'] == day]\n",
    "\n",
    "    if only_min_trials:\n",
    "        trial_lengths = []\n",
    "        for group in plot_data.columns[:-1]:\n",
    "            trial_lengths.append(len(plot_data.loc[:, group].values[0]))\n",
    "        min_trials = np.min(trial_lengths)\n",
    "    else:\n",
    "        min_trials = -1\n",
    "    \n",
    "    for ind, group in enumerate(plot_data.columns[:-1]):\n",
    "        group_data = plot_data.loc[:, group].values[0][:min_trials]\n",
    "        upper = plot_data.loc[:, group].values[0][:min_trials] + plot_data.loc[:, group].values[1][:min_trials]\n",
    "        lower = plot_data.loc[:, group].values[0][:min_trials] - plot_data.loc[:, group].values[1][:min_trials]\n",
    "        x_data = np.arange(1, len(group_data)+1) * bin_size\n",
    "        if idx < 6:\n",
    "            row, col = 1, idx + 1\n",
    "        elif (idx >= 6) & (idx < 12):\n",
    "            row, col = 2, idx - 5\n",
    "        else:\n",
    "            row, col = 3, idx - 11\n",
    "        fig.add_trace(go.Scatter(x=x_data, y=group_data, mode='lines', opacity=opacity,\n",
    "                                line_color=group_colors_dict[group], showlegend=False,\n",
    "                                legendgroup=group, name=group), row=row, col=col)\n",
    "        fig.add_trace(go.Scatter(name='Upper Bound', x=x_data, y=upper, mode='lines',\n",
    "                                 marker=dict(color=error_colors[ind]), line=dict(width=0), showlegend=False, \n",
    "                                 legendgroup=group), row=row, col=col)\n",
    "        fig.add_trace(go.Scatter(name='Lower Bound', x=x_data, y=lower, marker=dict(color=error_colors[ind]),\n",
    "                                 line=dict(width=0), mode='lines', fillcolor=error_colors[ind], fill='tonexty', \n",
    "                                 showlegend=False, legendgroup=group), row=row, col=col)\n",
    "fig.add_hline(y=75, line_width=1, line_dash='dash', line_color=chance_color, opacity=1)\n",
    "fig.add_hline(y=25, line_width=1, line_dash='dash', line_color=chance_color, opacity=1)\n",
    "fig.update_yaxes(title='Lick Accuracy', range=[0, 100], dtick=25, col=1)\n",
    "fig.update_xaxes(title='Trial', row=3)\n",
    "fig.show()\n",
    "# if only_min_trials:\n",
    "#     fig.write_image(pjoin(fig_path, 'lick_acc_min_trials_across_groups.png'))\n",
    "# else:\n",
    "#     fig.write_image(pjoin(fig_path, 'lick_acc_across_groups.png'))"
   ]
  },
  {
   "cell_type": "markdown",
   "metadata": {},
   "source": [
    "### Look at trial by trial changes in lick accuracy comparing threshold 1 vs 5 for each group."
   ]
  },
  {
   "cell_type": "code",
   "execution_count": null,
   "metadata": {},
   "outputs": [],
   "source": [
    "group_of_interest = 'Young Adult'\n",
    "group_data = {'Young Adult Thresh1': [], 'Young Adult Thresh5': [], 'day': []}\n",
    "for day in np.unique(trial_acc['day']):\n",
    "    group_data['Young Adult Thresh1'].append(np.nanmean(trial_acc['trial_acc_1'][(trial_acc['group'] == group_of_interest) & (trial_acc['day'] == day)].apply(pd.Series), axis=0))\n",
    "    group_data['Young Adult Thresh5'].append(np.nanmean(trial_acc['trial_acc_5'][(trial_acc['group'] == group_of_interest) & (trial_acc['day'] == day)].apply(pd.Series), axis=0))\n",
    "    group_data['Young Adult Thresh1'].append(np.std(trial_acc['trial_acc_1'][(trial_acc['group'] == group_of_interest) & (trial_acc['day'] == day)].apply(pd.Series), axis=0, ddof=1).to_numpy() / np.sqrt(len(trial_acc['trial_acc_1'][(trial_acc['group'] == group_of_interest) & (trial_acc['day'] == day)].apply(pd.Series))))\n",
    "    group_data['Young Adult Thresh5'].append(np.std(trial_acc['trial_acc_5'][(trial_acc['group'] == group_of_interest) & (trial_acc['day'] == day)].apply(pd.Series), axis=0, ddof=1).to_numpy() / np.sqrt(len(trial_acc['trial_acc_5'][(trial_acc['group'] == group_of_interest) & (trial_acc['day'] == day)].apply(pd.Series))))\n",
    "    group_data['day'].append(day)\n",
    "    group_data['day'].append(day)\n",
    "young_df = pd.DataFrame(group_data)"
   ]
  },
  {
   "cell_type": "code",
   "execution_count": null,
   "metadata": {},
   "outputs": [],
   "source": [
    "## For lick accuracy fifth lick\n",
    "only_min_trials = False\n",
    "fig = pf.custom_graph_template(x_title='', y_title='', height=800, width=1200,\n",
    "                               rows=3, columns=6, shared_x=True, shared_y=True,\n",
    "                               titles=[f'Day {x}' for x in np.arange(1, len(np.unique(young_df['day']))+1)])\n",
    "for idx, day in enumerate(np.unique(young_df['day'])):\n",
    "    plot_data = young_df[young_df['day'] == day]\n",
    "\n",
    "    if only_min_trials:\n",
    "        trial_lengths = []\n",
    "        for group in plot_data.columns[:-1]:\n",
    "            trial_lengths.append(len(plot_data.loc[:, group].values[0]))\n",
    "        min_trials = np.min(trial_lengths)\n",
    "    else:\n",
    "        min_trials = -1\n",
    "    \n",
    "    for ind, group in enumerate(plot_data.columns[:-1]):\n",
    "        group_data = plot_data.loc[:, group].values[0][:min_trials]\n",
    "        upper = plot_data.loc[:, group].values[0][:min_trials] + plot_data.loc[:, group].values[1][:min_trials]\n",
    "        lower = plot_data.loc[:, group].values[0][:min_trials] - plot_data.loc[:, group].values[1][:min_trials]\n",
    "        x_data = np.arange(1, len(group_data)+1) * bin_size\n",
    "        if idx < 6:\n",
    "            row, col = 1, idx + 1\n",
    "        elif (idx >= 6) & (idx < 12):\n",
    "            row, col = 2, idx - 5\n",
    "        else:\n",
    "            row, col = 3, idx - 11\n",
    "        fig.add_trace(go.Scatter(x=x_data, y=group_data, mode='lines', opacity=opacity,\n",
    "                                line_color=group_colors_dict[group], showlegend=False,\n",
    "                                legendgroup=group, name=group), row=row, col=col)\n",
    "        fig.add_trace(go.Scatter(name='Upper Bound', x=x_data, y=upper, mode='lines',\n",
    "                                 marker=dict(color=error_colors[ind]), line=dict(width=0), showlegend=False, \n",
    "                                 legendgroup=group), row=row, col=col)\n",
    "        fig.add_trace(go.Scatter(name='Lower Bound', x=x_data, y=lower, marker=dict(color=error_colors[ind]),\n",
    "                                 line=dict(width=0), mode='lines', fillcolor=error_colors[ind], fill='tonexty', \n",
    "                                 showlegend=False, legendgroup=group), row=row, col=col)\n",
    "fig.add_hline(y=75, line_width=1, line_dash='dash', line_color=chance_color, opacity=1)\n",
    "fig.add_hline(y=25, line_width=1, line_dash='dash', line_color=chance_color, opacity=1)\n",
    "fig.update_yaxes(title='Lick Accuracy', range=[0, 100], dtick=25, col=1)\n",
    "fig.update_xaxes(title='Trial', row=3)\n",
    "fig.show()\n",
    "if only_min_trials:\n",
    "    fig.write_image(pjoin(fig_path, 'lick_acc_min_trials_young.png'))\n",
    "else:\n",
    "    fig.write_image(pjoin(fig_path, 'lick_acc_across_young.png'))"
   ]
  },
  {
   "cell_type": "code",
   "execution_count": null,
   "metadata": {},
   "outputs": [],
   "source": [
    "group_of_interest = 'Middle Aged'\n",
    "group_data = {'Middle Aged Thresh1': [], 'Middle Aged Thresh5': [], 'day': []}\n",
    "for day in np.unique(trial_acc['day']):\n",
    "    group_data['Middle Aged Thresh1'].append(np.nanmean(trial_acc['trial_acc_1'][(trial_acc['group'] == group_of_interest) & (trial_acc['day'] == day)].apply(pd.Series), axis=0))\n",
    "    group_data['Middle Aged Thresh5'].append(np.nanmean(trial_acc['trial_acc_5'][(trial_acc['group'] == group_of_interest) & (trial_acc['day'] == day)].apply(pd.Series), axis=0))\n",
    "    group_data['Middle Aged Thresh1'].append(np.std(trial_acc['trial_acc_1'][(trial_acc['group'] == group_of_interest) & (trial_acc['day'] == day)].apply(pd.Series), axis=0, ddof=1).to_numpy() / np.sqrt(len(trial_acc['trial_acc_1'][(trial_acc['group'] == group_of_interest) & (trial_acc['day'] == day)].apply(pd.Series))))\n",
    "    group_data['Middle Aged Thresh5'].append(np.std(trial_acc['trial_acc_5'][(trial_acc['group'] == group_of_interest) & (trial_acc['day'] == day)].apply(pd.Series), axis=0, ddof=1).to_numpy() / np.sqrt(len(trial_acc['trial_acc_5'][(trial_acc['group'] == group_of_interest) & (trial_acc['day'] == day)].apply(pd.Series))))\n",
    "    group_data['day'].append(day)\n",
    "    group_data['day'].append(day)\n",
    "middle_aged_df = pd.DataFrame(group_data)"
   ]
  },
  {
   "cell_type": "code",
   "execution_count": null,
   "metadata": {},
   "outputs": [],
   "source": [
    "## For lick accuracy fifth lick\n",
    "only_min_trials = False\n",
    "fig = pf.custom_graph_template(x_title='', y_title='', height=800, width=1200,\n",
    "                               rows=3, columns=6, shared_x=True, shared_y=True,\n",
    "                               titles=[f'Day {x}' for x in np.arange(1, len(np.unique(middle_aged_df['day']))+1)])\n",
    "for idx, day in enumerate(np.unique(middle_aged_df['day'])):\n",
    "    plot_data = middle_aged_df[middle_aged_df['day'] == day]\n",
    "\n",
    "    if only_min_trials:\n",
    "        trial_lengths = []\n",
    "        for group in plot_data.columns[:-1]:\n",
    "            trial_lengths.append(len(plot_data.loc[:, group].values[0]))\n",
    "        min_trials = np.min(trial_lengths)\n",
    "    else:\n",
    "        min_trials = -1\n",
    "    \n",
    "    for ind, group in enumerate(plot_data.columns[:-1]):\n",
    "        group_data = plot_data.loc[:, group].values[0][:min_trials]\n",
    "        upper = plot_data.loc[:, group].values[0][:min_trials] + plot_data.loc[:, group].values[1][:min_trials]\n",
    "        lower = plot_data.loc[:, group].values[0][:min_trials] - plot_data.loc[:, group].values[1][:min_trials]\n",
    "        x_data = np.arange(1, len(group_data)+1) * bin_size\n",
    "        if idx < 6:\n",
    "            row, col = 1, idx + 1\n",
    "        elif (idx >= 6) & (idx < 12):\n",
    "            row, col = 2, idx - 5\n",
    "        else:\n",
    "            row, col = 3, idx - 11\n",
    "        fig.add_trace(go.Scatter(x=x_data, y=group_data, mode='lines', opacity=opacity,\n",
    "                                line_color=group_colors_dict[group], showlegend=False,\n",
    "                                legendgroup=group, name=group), row=row, col=col)\n",
    "        fig.add_trace(go.Scatter(name='Upper Bound', x=x_data, y=upper, mode='lines',\n",
    "                                 marker=dict(color=error_colors[ind]), line=dict(width=0), showlegend=False, \n",
    "                                 legendgroup=group), row=row, col=col)\n",
    "        fig.add_trace(go.Scatter(name='Lower Bound', x=x_data, y=lower, marker=dict(color=error_colors[ind]),\n",
    "                                 line=dict(width=0), mode='lines', fillcolor=error_colors[ind], fill='tonexty', \n",
    "                                 showlegend=False, legendgroup=group), row=row, col=col)\n",
    "fig.add_hline(y=75, line_width=1, line_dash='dash', line_color=chance_color, opacity=1)\n",
    "fig.add_hline(y=25, line_width=1, line_dash='dash', line_color=chance_color, opacity=1)\n",
    "fig.update_yaxes(title='Lick Accuracy', range=[0, 100], dtick=25, col=1)\n",
    "fig.update_xaxes(title='Trial', row=3)\n",
    "fig.show()\n",
    "if only_min_trials:\n",
    "    fig.write_image(pjoin(fig_path, 'lick_acc_min_trials_middle_aged.png'))\n",
    "else:\n",
    "    fig.write_image(pjoin(fig_path, 'lick_acc_across_middle_aged.png'))"
   ]
  },
  {
   "cell_type": "code",
   "execution_count": null,
   "metadata": {},
   "outputs": [],
   "source": [
    "group_of_interest = 'Aged'\n",
    "group_data = {'Aged Thresh1': [], 'Aged Thresh5': [], 'day': []}\n",
    "for day in np.unique(trial_acc['day']):\n",
    "    group_data['Aged Thresh1'].append(np.nanmean(trial_acc['trial_acc_1'][(trial_acc['group'] == group_of_interest) & (trial_acc['day'] == day)].apply(pd.Series), axis=0))\n",
    "    group_data['Aged Thresh5'].append(np.nanmean(trial_acc['trial_acc_5'][(trial_acc['group'] == group_of_interest) & (trial_acc['day'] == day)].apply(pd.Series), axis=0))\n",
    "    group_data['Aged Thresh1'].append(np.std(trial_acc['trial_acc_1'][(trial_acc['group'] == group_of_interest) & (trial_acc['day'] == day)].apply(pd.Series), axis=0, ddof=1).to_numpy() / np.sqrt(len(trial_acc['trial_acc_1'][(trial_acc['group'] == group_of_interest) & (trial_acc['day'] == day)].apply(pd.Series))))\n",
    "    group_data['Aged Thresh5'].append(np.std(trial_acc['trial_acc_5'][(trial_acc['group'] == group_of_interest) & (trial_acc['day'] == day)].apply(pd.Series), axis=0, ddof=1).to_numpy() / np.sqrt(len(trial_acc['trial_acc_5'][(trial_acc['group'] == group_of_interest) & (trial_acc['day'] == day)].apply(pd.Series))))\n",
    "    group_data['day'].append(day)\n",
    "    group_data['day'].append(day)\n",
    "aged_df = pd.DataFrame(group_data)"
   ]
  },
  {
   "cell_type": "code",
   "execution_count": null,
   "metadata": {},
   "outputs": [],
   "source": [
    "## For lick accuracy fifth lick\n",
    "only_min_trials = False\n",
    "fig = pf.custom_graph_template(x_title='', y_title='', height=800, width=1200,\n",
    "                               rows=3, columns=6, shared_x=True, shared_y=True,\n",
    "                               titles=[f'Day {x}' for x in np.arange(1, len(np.unique(aged_df['day']))+1)])\n",
    "for idx, day in enumerate(np.unique(aged_df['day'])):\n",
    "    plot_data = aged_df[aged_df['day'] == day]\n",
    "\n",
    "    if only_min_trials:\n",
    "        trial_lengths = []\n",
    "        for group in plot_data.columns[:-1]:\n",
    "            trial_lengths.append(len(plot_data.loc[:, group].values[0]))\n",
    "        min_trials = np.min(trial_lengths)\n",
    "    else:\n",
    "        min_trials = -1\n",
    "    \n",
    "    for ind, group in enumerate(plot_data.columns[:-1]):\n",
    "        group_data = plot_data.loc[:, group].values[0][:min_trials]\n",
    "        upper = plot_data.loc[:, group].values[0][:min_trials] + plot_data.loc[:, group].values[1][:min_trials]\n",
    "        lower = plot_data.loc[:, group].values[0][:min_trials] - plot_data.loc[:, group].values[1][:min_trials]\n",
    "        x_data = np.arange(1, len(group_data)+1) * bin_size\n",
    "        if idx < 6:\n",
    "            row, col = 1, idx + 1\n",
    "        elif (idx >= 6) & (idx < 12):\n",
    "            row, col = 2, idx - 5\n",
    "        else:\n",
    "            row, col = 3, idx - 11\n",
    "        fig.add_trace(go.Scatter(x=x_data, y=group_data, mode='lines', opacity=opacity,\n",
    "                                line_color=group_colors_dict[group], showlegend=False,\n",
    "                                legendgroup=group, name=group), row=row, col=col)\n",
    "        fig.add_trace(go.Scatter(name='Upper Bound', x=x_data, y=upper, mode='lines',\n",
    "                                 marker=dict(color=error_colors[ind]), line=dict(width=0), showlegend=False, \n",
    "                                 legendgroup=group), row=row, col=col)\n",
    "        fig.add_trace(go.Scatter(name='Lower Bound', x=x_data, y=lower, marker=dict(color=error_colors[ind]),\n",
    "                                 line=dict(width=0), mode='lines', fillcolor=error_colors[ind], fill='tonexty', \n",
    "                                 showlegend=False, legendgroup=group), row=row, col=col)\n",
    "fig.add_hline(y=75, line_width=1, line_dash='dash', line_color=chance_color, opacity=1)\n",
    "fig.add_hline(y=25, line_width=1, line_dash='dash', line_color=chance_color, opacity=1)\n",
    "fig.update_yaxes(title='Lick Accuracy', range=[0, 100], dtick=25, col=1)\n",
    "fig.update_xaxes(title='Trial', row=3)\n",
    "fig.show()\n",
    "if only_min_trials:\n",
    "    fig.write_image(pjoin(fig_path, 'lick_acc_min_trials_aged.png'))\n",
    "else:\n",
    "    fig.write_image(pjoin(fig_path, 'lick_acc_across_aged.png'))"
   ]
  },
  {
   "cell_type": "markdown",
   "metadata": {},
   "source": [
    "### Look at probe accuracy."
   ]
  },
  {
   "cell_type": "code",
   "execution_count": null,
   "metadata": {},
   "outputs": [],
   "source": [
    "## Looking at first licks\n",
    "circletrack_results = {'mouse': [], 'day': [], 'group': [], 'session': [], 'lick_accuracy_thresh1': [], 'lick_accuracy_thresh5': []}\n",
    "for mouse in os.listdir(circle_path)[:-1]: ## somehow a .DS_Store appeared????????\n",
    "    mouse_path = pjoin(circle_path, mouse)\n",
    "    group = 'Young Adult' if mouse in young_adult else 'Middle Aged' if mouse in middle_aged else 'Aged'\n",
    "    for idx, session in enumerate(os.listdir(mouse_path)):\n",
    "            behav = pd.read_feather(pjoin(mouse_path, f'{session}'))\n",
    "            if any(behav['probe']):\n",
    "                behav = behav[behav['probe']]\n",
    "                reward_one, reward_two = np.unique(behav['reward_one'])[0], np.unique(behav['reward_two'])[0]\n",
    "                pc_thresh1 = ctb.lick_accuracy(behav, port_one=reward_one, port_two=reward_two, lick_threshold=1, by_trials=False)\n",
    "                pc_thresh5 = ctb.lick_accuracy(behav, port_one=reward_one, port_two=reward_two, lick_threshold=5, by_trials=False)\n",
    "                circletrack_results['mouse'].append(mouse)\n",
    "                circletrack_results['day'].append(idx+1)\n",
    "                circletrack_results['group'].append(group)\n",
    "                circletrack_results['session'].append(np.unique(behav['session'])[0])\n",
    "                circletrack_results['lick_accuracy_thresh1'].append(pc_thresh1)\n",
    "                circletrack_results['lick_accuracy_thresh5'].append(pc_thresh5)\n",
    "ct_df = pd.DataFrame(circletrack_results)"
   ]
  },
  {
   "cell_type": "code",
   "execution_count": null,
   "metadata": {},
   "outputs": [],
   "source": [
    "y_variable = 'lick_accuracy_thresh1'\n",
    "sess_pairs = [('A', 'AP'), ('B', 'BP'), ('C', 'CP'), ('D', 'DP')]\n",
    "fig = pf.custom_graph_template(x_title='', y_title='', rows=1, columns=4, titles=['A', 'B', 'C', 'D'], \n",
    "                               width=1000, shared_y=True)\n",
    "for idx, pair in enumerate(sess_pairs):\n",
    "    loop_data = ct_df[(ct_df['session'] == pair[0]) | (ct_df['session'] == pair[1])]\n",
    "    loop_data = loop_data.replace({pair[0]: 'First', pair[1]: 'Last'})\n",
    "    avg_data = loop_data.groupby(['session', 'group'], as_index=False).agg({y_variable: ['mean', 'sem']})\n",
    "    for group in np.unique(avg_data['group']):\n",
    "        gdata = avg_data[avg_data['group'] == group]\n",
    "        fig.add_trace(go.Scatter(x=gdata['session'], y=gdata[y_variable]['mean'], name=group,\n",
    "                                 marker_color=group_colors_dict[group], showlegend=False, legendgroup=group,\n",
    "                                 error_y=dict(type='data', array=gdata[y_variable]['sem'])), row=1, col=idx+1)\n",
    "fig['data'][0]['showlegend'] = True\n",
    "fig['data'][1]['showlegend'] = True\n",
    "fig['data'][2]['showlegend'] = True\n",
    "fig.add_hline(y=25, line_width=1, line_dash='dash', line_color=chance_color, opacity=1)\n",
    "fig.update_yaxes(title='Lick Accuracy (%)', col=1)\n",
    "fig.show()\n",
    "fig.write_image(pjoin(fig_path, 'thresh1_probe_acc.png'))"
   ]
  },
  {
   "cell_type": "code",
   "execution_count": null,
   "metadata": {},
   "outputs": [],
   "source": [
    "y_variable = 'lick_accuracy_thresh5'\n",
    "sess_pairs = [('A', 'AP'), ('B', 'BP'), ('C', 'CP'), ('D', 'DP')]\n",
    "fig = pf.custom_graph_template(x_title='', y_title='', rows=1, columns=4, titles=['A', 'B', 'C', 'D'], \n",
    "                               width=1000, shared_y=True)\n",
    "for idx, pair in enumerate(sess_pairs):\n",
    "    loop_data = ct_df[(ct_df['session'] == pair[0]) | (ct_df['session'] == pair[1])]\n",
    "    loop_data = loop_data.replace({pair[0]: 'First', pair[1]: 'Last'})\n",
    "    avg_data = loop_data.groupby(['session', 'group'], as_index=False).agg({y_variable: ['mean', 'sem']})\n",
    "    for group in np.unique(avg_data['group']):\n",
    "        gdata = avg_data[avg_data['group'] == group]\n",
    "        fig.add_trace(go.Scatter(x=gdata['session'], y=gdata[y_variable]['mean'], name=group,\n",
    "                                 marker_color=group_colors_dict[group], showlegend=False, legendgroup=group,\n",
    "                                 error_y=dict(type='data', array=gdata[y_variable]['sem'])), row=1, col=idx+1)\n",
    "fig['data'][0]['showlegend'] = True\n",
    "fig['data'][1]['showlegend'] = True\n",
    "fig['data'][2]['showlegend'] = True\n",
    "fig.add_hline(y=25, line_width=1, line_dash='dash', line_color=chance_color, opacity=1)\n",
    "fig.update_yaxes(title='Lick Accuracy (%)', col=1)\n",
    "fig.show()\n",
    "fig.write_image(pjoin(fig_path, 'thresh5_probe_acc.png'))"
   ]
  },
  {
   "cell_type": "markdown",
   "metadata": {},
   "source": [
    "### Days to Criteria"
   ]
  },
  {
   "cell_type": "code",
   "execution_count": null,
   "metadata": {},
   "outputs": [],
   "source": [
    "todays_mazes = pd.read_csv(f'../../../{project_dir}/{experiment_dir}/maze_yml/{experiment_dir} - TodaysMazes.csv')\n",
    "melt_df = todays_mazes.melt(id_vars='Mouse')\n",
    "finished_mice = np.unique(melt_df['Mouse'][melt_df['value'] == 'DONE'])\n",
    "mdata = pd.DataFrame()\n",
    "for mouse in finished_mice:\n",
    "    loop_data = todays_mazes[todays_mazes['Mouse'] == mouse]\n",
    "    mdata = pd.concat([mdata, loop_data])\n",
    "melt_df = mdata.melt(id_vars='Mouse')\n",
    "melt_df = melt_df[~pd.isna(melt_df['value'])]\n",
    "melt_df = melt_df[(melt_df['value'] != 'AP') & (melt_df['value'] != 'BP') & (melt_df['value'] != 'CP') & (melt_df['value'] != 'DP') & (melt_df['value'] != 'DONE') & (melt_df['value'] != 'CT') & (melt_df['value'] != 'DT')]"
   ]
  },
  {
   "cell_type": "code",
   "execution_count": null,
   "metadata": {},
   "outputs": [],
   "source": [
    "days_to = melt_df.groupby(['Mouse', 'value'], as_index=False).agg({'value': 'count'})\n",
    "mouse_days_to = pd.DataFrame()\n",
    "for mouse in np.unique(days_to['Mouse']):\n",
    "    group = 'Young Adult' if mouse in young_adult else 'Middle Aged' if mouse in middle_aged else 'Aged'\n",
    "    loop_data = days_to[days_to['Mouse'] == mouse]\n",
    "    loop_data.loc[:, 'context'] = ['A', 'B', 'C', 'D']\n",
    "    loop_data.loc[:, 'group'] = group\n",
    "    mouse_days_to = pd.concat([mouse_days_to, loop_data])\n",
    "nonA_data = mouse_days_to[mouse_days_to['context'] != 'A']"
   ]
  },
  {
   "cell_type": "code",
   "execution_count": null,
   "metadata": {},
   "outputs": [],
   "source": [
    "fig = pf.custom_graph_template(x_title='', y_title='Days to Criteria')\n",
    "for group in np.unique(nonA_data['group']):\n",
    "    gdata = nonA_data[nonA_data['group'] == group]\n",
    "    avg_data = gdata.groupby(['context'], as_index=False).agg({'value': ['mean', 'sem']})\n",
    "    fig.add_trace(go.Scatter(x=avg_data['context'], y=avg_data['value']['mean'], name=group, marker_color=group_colors_dict[group],\n",
    "                             error_y=dict(type='data', array=avg_data['value']['sem'])))\n",
    "for mouse in nonA_data['Mouse'].unique():\n",
    "    mdata = nonA_data[nonA_data['Mouse'] == mouse]\n",
    "    fig.add_trace(go.Scatter(x=mdata['context'], y=mdata['value'], mode='markers', marker_color=group_colors_dict[mdata['group'].unique()[0]], \n",
    "                             marker_size=6, opacity=0.6, marker=dict(line=dict(width=1)), showlegend=False, name=mouse))\n",
    "fig.show()\n",
    "fig.write_image(pjoin(fig_path, 'days_to_criteria.png'))"
   ]
  },
  {
   "cell_type": "markdown",
   "metadata": {},
   "source": [
    "### Create a velocity distribution for all three groups."
   ]
  },
  {
   "cell_type": "code",
   "execution_count": null,
   "metadata": {},
   "outputs": [],
   "source": [
    "young_v = []\n",
    "middle_aged_v = []\n",
    "aged_v = []\n",
    "downsample_factor = 42\n",
    "for mouse in os.listdir(circle_path)[:-1]:\n",
    "    mouse_path = pjoin(circle_path, mouse)\n",
    "    group = 'Young Adult' if mouse in young_adult else 'Middle Aged' if mouse in middle_aged else 'Aged'\n",
    "    for idx, session in enumerate(os.listdir(mouse_path)):\n",
    "        behav = pd.read_feather(pjoin(mouse_path, f'{session}'))\n",
    "        x_cm, y_cm = ctb.convert_to_cm(x=behav['x'], y=behav['y'], update_dataframe=False)\n",
    "        velocity, running = pc.define_running_epochs(x_cm[::downsample_factor], y_cm[::downsample_factor], behav['t'][::downsample_factor])\n",
    "        avg_vel = np.mean(velocity)\n",
    "        if group == 'Young Adult':\n",
    "            young_v.append(avg_vel)\n",
    "        elif group == 'Middle Aged':\n",
    "            middle_aged_v.append(avg_vel)\n",
    "        else:\n",
    "            aged_v.append(avg_vel)"
   ]
  },
  {
   "cell_type": "code",
   "execution_count": null,
   "metadata": {},
   "outputs": [],
   "source": [
    "fig = pf.custom_graph_template(x_title='Average Velocity (cm/s)', y_title='Probability', height=500, width=500)\n",
    "fig.add_trace(go.Histogram(x=young_v, marker_color=group_colors_dict['Young Adult'], \n",
    "                           name='Young Adult', opacity=0.6, histnorm='probability'))\n",
    "fig.add_trace(go.Histogram(x=middle_aged_v, marker_color=group_colors_dict['Middle Aged'], \n",
    "                           name='Middle Aged', opacity=0.6, histnorm='probability'))\n",
    "fig.add_trace(go.Histogram(x=aged_v, marker_color=group_colors_dict['Aged'], \n",
    "                           name='Aged', opacity=0.6, histnorm='probability'))\n",
    "fig.update_layout(barmode='overlay')\n",
    "fig.show()\n",
    "fig.write_image(pjoin(fig_path, 'velocity_distribution.png'))"
   ]
  },
  {
   "cell_type": "code",
   "execution_count": null,
   "metadata": {},
   "outputs": [],
   "source": [
    "young_v = np.asarray(young_v)[~np.isnan(young_v)]\n",
    "anova_df = pd.DataFrame({'young': young_v,\n",
    "                         'middle_aged': middle_aged_v[0:len(young_v)],\n",
    "                         'aged': aged_v[0:len(young_v)]})\n",
    "anova_melt = anova_df.melt(value_vars=['young', 'middle_aged', 'aged'], value_name='velocity', var_name='group')\n",
    "print(pg.homoscedasticity(anova_melt, dv='velocity', group='group'))\n",
    "anova_melt.welch_anova(dv='velocity', between='group')"
   ]
  },
  {
   "cell_type": "code",
   "execution_count": null,
   "metadata": {},
   "outputs": [],
   "source": [
    "pg.pairwise_gameshowell(anova_melt, dv='velocity', between='group')"
   ]
  },
  {
   "cell_type": "markdown",
   "metadata": {},
   "source": [
    "### Separate velocity distributions by days."
   ]
  },
  {
   "cell_type": "code",
   "execution_count": null,
   "metadata": {},
   "outputs": [],
   "source": [
    "vel_dict = {'mouse': [], 'group': [], 'day': [], 'context_day': [], 'session': [], 'avg_velocity': [], 'max_velocity': [], 'vel_values': []}\n",
    "downsample_factor = 42\n",
    "for mouse in os.listdir(circle_path)[:-1]:\n",
    "    mouse_path = pjoin(circle_path, mouse)\n",
    "    group = 'Young Adult' if mouse in young_adult else 'Middle Aged' if mouse in middle_aged else 'Aged'\n",
    "    session_id = np.nan\n",
    "    day_counter = 1\n",
    "    for idx, session in enumerate(os.listdir(mouse_path)):\n",
    "        behav = pd.read_feather(pjoin(mouse_path, f'{session}'))\n",
    "        x_cm, y_cm = ctb.convert_to_cm(x=behav['x'], y=behav['y'], update_dataframe=False)\n",
    "        velocity, running = pc.define_running_epochs(x_cm[::downsample_factor], y_cm[::downsample_factor], behav['t'][::downsample_factor])\n",
    "        vel_dict['mouse'].append(mouse)\n",
    "        vel_dict['group'].append(group)\n",
    "        vel_dict['day'].append(idx+1)\n",
    "\n",
    "        if np.unique(behav['session'])[0] != session_id:\n",
    "            day_counter = 1\n",
    "            session_id = np.unique(behav['session'])[0]\n",
    "            vel_dict['context_day'].append(day_counter)\n",
    "        else:\n",
    "            day_counter += 1\n",
    "            session_id = np.unique(behav['session'])[0]\n",
    "            vel_dict['context_day'].append(day_counter)\n",
    "\n",
    "        vel_dict['session'].append(np.unique(behav['session'])[0])\n",
    "        vel_dict['avg_velocity'].append(np.mean(velocity))\n",
    "        vel_dict['max_velocity'].append(np.max(velocity))\n",
    "        vel_dict['vel_values'].append(velocity)\n",
    "vel = pd.DataFrame(vel_dict)"
   ]
  },
  {
   "cell_type": "code",
   "execution_count": null,
   "metadata": {},
   "outputs": [],
   "source": [
    "## Plot average velocity for each group across days in each context\n",
    "session_list = ['A', 'B', 'C', 'D']\n",
    "vel_contexts = pd.DataFrame()\n",
    "for session in session_list:\n",
    "    loop_data = vel[vel['session'] == session]\n",
    "    vel_contexts = pd.concat([vel_contexts, loop_data], ignore_index=True)\n",
    "fig = pf.custom_graph_template(x_title='', y_title='', rows=1, columns=4, width=1000, \n",
    "                               shared_y=True, shared_x=True, titles=session_list)\n",
    "for group in vel_contexts['group'].unique():\n",
    "    gdata = vel_contexts[vel_contexts['group'] == group].groupby(['context_day', 'session'], as_index=False).agg({'avg_velocity': ['mean', 'sem']})\n",
    "    for idx, sess in enumerate(gdata['session'].unique()):\n",
    "        sess_data = gdata[gdata['session'] == sess]\n",
    "        fig.add_trace(go.Scatter(x=sess_data['context_day'], y=sess_data['avg_velocity']['mean'], name=group,\n",
    "                                 line_color=group_colors_dict[group], legendgroup=group, showlegend=False,\n",
    "                                 error_y=dict(type='data', array=sess_data['avg_velocity']['sem'])), row=1, col=idx+1)\n",
    "fig['data'][0]['showlegend'] = True\n",
    "fig['data'][5]['showlegend'] = True\n",
    "fig['data'][11]['showlegend'] = True\n",
    "fig.update_xaxes(title='Day in Context')\n",
    "fig.update_yaxes(title='Average Velocity (cm/s)', col=1)\n",
    "fig.show()\n",
    "fig.write_image(pjoin(fig_path, 'velocity_within_contexts.png'))"
   ]
  },
  {
   "cell_type": "markdown",
   "metadata": {},
   "source": [
    "### Lick accuracy heatmap."
   ]
  },
  {
   "cell_type": "code",
   "execution_count": null,
   "metadata": {},
   "outputs": [],
   "source": [
    "## Looking at first licks\n",
    "lick_thresholds = [1, 2, 3, 4, 5]\n",
    "circletrack_results = {'mouse': [], 'day': [], 'context_day': [], 'group': [], 'session': [], 'lick_accuracy_thresh1': [], 'lick_accuracy_thresh2': [],\n",
    "                       'lick_accuracy_thresh3': [], 'lick_accuracy_thresh4': [], 'lick_accuracy_thresh5': []}\n",
    "for mouse in os.listdir(circle_path)[:-1]: ##.DS_store\n",
    "    mouse_path = pjoin(circle_path, mouse)\n",
    "    group = 'Young Adult' if mouse in young_adult else 'Middle Aged' if mouse in middle_aged else 'Aged'\n",
    "    session_id = np.nan\n",
    "    day_counter = 1\n",
    "    for idx, session in enumerate(os.listdir(mouse_path)):\n",
    "        behav = pd.read_feather(pjoin(mouse_path, f'{session}'))\n",
    "        behav = behav[~behav['probe']]\n",
    "        reward_one, reward_two = np.unique(behav['reward_one'])[0], np.unique(behav['reward_two'])[0]\n",
    "        circletrack_results['mouse'].append(mouse)\n",
    "        circletrack_results['day'].append(idx+1)\n",
    "        circletrack_results['group'].append(group)\n",
    "        circletrack_results['session'].append(np.unique(behav['session'])[0])\n",
    "        for thresh in lick_thresholds:\n",
    "            lick_accuracy = ctb.lick_accuracy(behav, port_one=reward_one, port_two=reward_two, lick_threshold=thresh, by_trials=False)\n",
    "            circletrack_results[f'lick_accuracy_thresh{thresh}'].append(lick_accuracy)\n",
    "\n",
    "        if np.unique(behav['session'])[0] != session_id:\n",
    "            day_counter = 1\n",
    "            session_id = np.unique(behav['session'])[0]\n",
    "            circletrack_results['context_day'].append(day_counter)\n",
    "        else:\n",
    "            day_counter += 1\n",
    "            session_id = np.unique(behav['session'])[0]\n",
    "            circletrack_results['context_day'].append(day_counter)\n",
    "ct_df = pd.DataFrame(circletrack_results)\n",
    "## Average for each lick accuracy threshold, excluding final probe days\n",
    "select_sessions = ct_df[(ct_df['session'] != 'AP') & (ct_df['session'] != 'BP') & (ct_df['session'] != 'CP') & (ct_df['session'] != 'DP')]\n",
    "avg_data = select_sessions.groupby(['context_day', 'group', 'session'], as_index=False).agg('mean')"
   ]
  },
  {
   "cell_type": "code",
   "execution_count": null,
   "metadata": {},
   "outputs": [],
   "source": [
    "## Young adult mice\n",
    "young_acc = avg_data[avg_data['group'] == 'Young Adult'].reset_index(drop=True)\n",
    "fig = pf.custom_graph_template(x_title='', y_title='', rows=1, columns=4, \n",
    "                               width=1200, titles=['A', 'B', 'C', 'D'])\n",
    "\n",
    "for sess_idx, session in enumerate(np.unique(young_acc['session'])):\n",
    "    sess_data = young_acc[young_acc['session'] == session].reset_index(drop=True)\n",
    "    arr = np.empty((len(lick_thresholds), sess_data.shape[0]))\n",
    "    arr.fill(np.nan)\n",
    "    for idx, col in enumerate(sess_data.columns[4:]):\n",
    "        arr[idx] = sess_data[col].to_numpy()\n",
    "    x_axis = np.arange(1, arr.shape[1]+1)\n",
    "    fig.add_trace(go.Heatmap(x=x_axis, y=lick_thresholds, z=arr, \n",
    "                             coloraxis='coloraxis'), row=1, col=sess_idx+1)\n",
    "fig.update_xaxes(title='Day in Context', row=1)\n",
    "fig.update_yaxes(title='Lick Threshold', col=1)\n",
    "fig.update_layout(coloraxis={'colorscale': 'viridis'})\n",
    "fig.show()"
   ]
  },
  {
   "cell_type": "code",
   "execution_count": null,
   "metadata": {},
   "outputs": [],
   "source": [
    "## Middle aged mice\n",
    "acc = avg_data[avg_data['group'] == 'Middle Aged'].reset_index(drop=True)\n",
    "fig = pf.custom_graph_template(x_title='', y_title='', rows=1, columns=4, \n",
    "                               width=1200, titles=['A', 'B', 'C', 'D'])\n",
    "\n",
    "for sess_idx, session in enumerate(np.unique(acc['session'])):\n",
    "    sess_data = acc[acc['session'] == session].reset_index(drop=True)\n",
    "    arr = np.empty((len(lick_thresholds), sess_data.shape[0]))\n",
    "    arr.fill(np.nan)\n",
    "    for idx, col in enumerate(sess_data.columns[4:]):\n",
    "        arr[idx] = sess_data[col].to_numpy()\n",
    "    x_axis = np.arange(1, arr.shape[1]+1)\n",
    "    fig.add_trace(go.Heatmap(x=x_axis, y=lick_thresholds, z=arr, \n",
    "                             coloraxis='coloraxis'), row=1, col=sess_idx+1)\n",
    "fig.update_xaxes(title='Day in Context', row=1)\n",
    "fig.update_yaxes(title='Lick Threshold', col=1)\n",
    "fig.update_layout(coloraxis={'colorscale': 'viridis'})\n",
    "fig.show()"
   ]
  },
  {
   "cell_type": "code",
   "execution_count": null,
   "metadata": {},
   "outputs": [],
   "source": [
    "acc = avg_data[avg_data['group'] == 'Aged'].reset_index(drop=True)\n",
    "fig = pf.custom_graph_template(x_title='', y_title='', rows=1, columns=4, \n",
    "                               width=1200, titles=['A', 'B', 'C', 'D'])\n",
    "\n",
    "for sess_idx, session in enumerate(np.unique(acc['session'])):\n",
    "    sess_data = acc[acc['session'] == session].reset_index(drop=True)\n",
    "    arr = np.empty((len(lick_thresholds), sess_data.shape[0]))\n",
    "    arr.fill(np.nan)\n",
    "    for idx, col in enumerate(sess_data.columns[4:]):\n",
    "        arr[idx] = sess_data[col].to_numpy()\n",
    "    x_axis = np.arange(1, arr.shape[1]+1)\n",
    "    fig.add_trace(go.Heatmap(x=x_axis, y=lick_thresholds, z=arr, \n",
    "                             coloraxis='coloraxis'), row=1, col=sess_idx+1)\n",
    "fig.update_xaxes(title='Day in Context', row=1)\n",
    "fig.update_yaxes(title='Lick Threshold', col=1)\n",
    "fig.update_layout(coloraxis={'colorscale': 'viridis'})\n",
    "fig.show()"
   ]
  },
  {
   "cell_type": "code",
   "execution_count": null,
   "metadata": {},
   "outputs": [],
   "source": [
    "fig = pf.custom_graph_template(x_title='', y_title='', rows=3, columns=4, shared_y=True, shared_x=True,\n",
    "                               height=1000, width=1200, titles=['A', 'B', 'C', 'D'])\n",
    "for g_idx, group in enumerate(['Young Adult', 'Middle Aged', 'Aged']):\n",
    "    acc = avg_data[avg_data['group'] == group].reset_index(drop=True)\n",
    "    for sess_idx, session in enumerate(np.unique(acc['session'])):\n",
    "        sess_data = acc[acc['session'] == session].reset_index(drop=True)\n",
    "        arr = np.empty((len(lick_thresholds), sess_data.shape[0]))\n",
    "        arr.fill(np.nan)\n",
    "        for idx, col in enumerate(sess_data.columns[4:]):\n",
    "            arr[idx] = sess_data[col].to_numpy()\n",
    "        x_axis = np.arange(1, arr.shape[1]+1)\n",
    "        fig.add_trace(go.Heatmap(x=x_axis, y=lick_thresholds, z=arr, \n",
    "                                coloraxis='coloraxis'), row=g_idx+1, col=sess_idx+1)\n",
    "fig.update_xaxes(title='Day in Context', row=3)\n",
    "fig.update_yaxes(title='Lick Threshold', col=1)\n",
    "fig.update_layout(coloraxis={'colorscale': 'viridis'})\n",
    "fig.show()\n",
    "fig.write_image(pjoin(fig_path, 'lick_accuracy_heatmaps.png'))"
   ]
  },
  {
   "cell_type": "markdown",
   "metadata": {},
   "source": [
    "### Reminder day for IHC"
   ]
  },
  {
   "cell_type": "code",
   "execution_count": 15,
   "metadata": {},
   "outputs": [],
   "source": [
    "circletrack_results = {'mouse': [], 'day': [], 'group': [], 'session': [], 'lick_accuracy_thresh1': [], \n",
    "                       'lick_accuracy_thresh5': [], 'rewards': []}\n",
    "for mouse in os.listdir(circle_path)[:-1]: ## somehow a .DS_Store appeared????????\n",
    "    mouse_path = pjoin(circle_path, mouse)\n",
    "    group = 'Young Adult' if mouse in young_adult else 'Middle Aged' if mouse in middle_aged else 'Aged'\n",
    "    for idx, session in enumerate(os.listdir(mouse_path)):\n",
    "        behav = pd.read_feather(pjoin(mouse_path, f'{session}'))\n",
    "        if (np.unique(behav['session'])[0] != 'DT' ) & (np.unique(behav['session'])[0] != 'CT' ):\n",
    "            pass\n",
    "        else:\n",
    "            reward_one, reward_two = np.unique(behav['reward_one'])[0], np.unique(behav['reward_two'])[0]\n",
    "            pc_thresh1 = ctb.lick_accuracy(behav, port_one=reward_one, port_two=reward_two, lick_threshold=1, by_trials=False)\n",
    "            pc_thresh5 = ctb.lick_accuracy(behav, port_one=reward_one, port_two=reward_two, lick_threshold=5, by_trials=False)\n",
    "            circletrack_results['mouse'].append(mouse)\n",
    "            circletrack_results['day'].append(idx+1)\n",
    "            circletrack_results['group'].append(group)\n",
    "            circletrack_results['session'].append(np.unique(behav['session'])[0])\n",
    "            circletrack_results['lick_accuracy_thresh1'].append(pc_thresh1)\n",
    "            circletrack_results['lick_accuracy_thresh5'].append(pc_thresh5)\n",
    "            circletrack_results['rewards'].append(np.sum(behav['water']))\n",
    "ct_df = pd.DataFrame(circletrack_results)"
   ]
  },
  {
   "cell_type": "code",
   "execution_count": null,
   "metadata": {},
   "outputs": [],
   "source": [
    "## Plot lick accuracy thresh5 for all groups\n",
    "var = 'lick_accuracy_thresh5'\n",
    "avg_data = ct_df.groupby(['group'], as_index=False).agg({var: ['mean', 'sem']})\n",
    "fig = pf.custom_graph_template(x_title='', y_title='Lick Accuracy (%)')\n",
    "for group in np.unique(avg_data['group']):\n",
    "    gdata = avg_data[avg_data['group'] == group]\n",
    "    fig.add_trace(go.Scatter(x=gdata['group'], y=gdata[var]['mean'], mode='markers', name=group, showlegend=False,\n",
    "                            marker_color=group_colors_dict[group], error_y=dict(type='data', array=gdata[var]['sem']),\n",
    "                            marker_size=5))\n",
    "for mouse in np.unique(ct_df['mouse']):\n",
    "    mdata = ct_df[ct_df['mouse'] == mouse]\n",
    "    group = mdata['group'].values[0]\n",
    "    fig.add_trace(go.Scatter(x=mdata['group'], y=mdata[var], mode='markers', name=group, showlegend=False,\n",
    "                             marker_color=group_colors_dict[group]))\n",
    "\n",
    "fig.show()"
   ]
  },
  {
   "cell_type": "code",
   "execution_count": null,
   "metadata": {},
   "outputs": [],
   "source": [
    "## Plot rewards for all groups\n",
    "var = 'rewards'\n",
    "avg_data = ct_df.groupby(['group'], as_index=False).agg({var: ['mean', 'sem']})\n",
    "fig = pf.custom_graph_template(x_title='', y_title='Rewards')\n",
    "for group in np.unique(avg_data['group']):\n",
    "    gdata = avg_data[avg_data['group'] == group]\n",
    "    fig.add_trace(go.Scatter(x=gdata['group'], y=gdata[var]['mean'], mode='markers', name=group, showlegend=False,\n",
    "                            marker_color=group_colors_dict[group], error_y=dict(type='data', array=gdata[var]['sem'])))\n",
    "for mouse in np.unique(ct_df['mouse']):\n",
    "    mdata = ct_df[ct_df['mouse'] == mouse]\n",
    "    group = mdata['group'].values[0]\n",
    "    fig.add_trace(go.Scatter(x=mdata['group'], y=mdata[var], mode='markers', name=group, showlegend=False,\n",
    "                             marker_color=group_colors_dict[group]))\n",
    "\n",
    "fig.show()"
   ]
  },
  {
   "cell_type": "code",
   "execution_count": 23,
   "metadata": {},
   "outputs": [
    {
     "name": "stderr",
     "output_type": "stream",
     "text": [
      "/media/caishuman/csstorage3/Austin/CircleTrack/CircleTrackAnalysis/MultiCon_Behavior/MultiCon_Aging2/../../circletrack_behavior.py:990: RuntimeWarning:\n",
      "\n",
      "Mean of empty slice\n",
      "\n",
      "/media/caishuman/csstorage3/Austin/CircleTrack/CircleTrackAnalysis/MultiCon_Behavior/MultiCon_Aging2/../../circletrack_behavior.py:990: RuntimeWarning:\n",
      "\n",
      "Mean of empty slice\n",
      "\n",
      "/media/caishuman/csstorage3/Austin/CircleTrack/CircleTrackAnalysis/MultiCon_Behavior/MultiCon_Aging2/../../circletrack_behavior.py:990: RuntimeWarning:\n",
      "\n",
      "Mean of empty slice\n",
      "\n"
     ]
    },
    {
     "data": {
      "application/vnd.plotly.v1+json": {
       "config": {
        "plotlyServerURL": "https://plot.ly"
       },
       "data": [
        {
         "line": {
          "color": "darkgrey"
         },
         "mode": "lines",
         "name": "mca24",
         "opacity": 0.8,
         "showlegend": false,
         "type": "scatter",
         "x": [
          4,
          8,
          12,
          16,
          20,
          24,
          28,
          32,
          36,
          40,
          44,
          48
         ],
         "y": [
          43.33333333333333,
          70.83333333333333,
          54.166666666666664,
          58.33333333333333,
          55.83333333333333,
          66.66666666666666,
          62.49999999999999,
          75,
          91.66666666666666,
          83.33333333333333,
          91.66666666666666,
          91.66666666666666
         ]
        },
        {
         "line": {
          "color": "darkgrey"
         },
         "mode": "lines",
         "name": "mca25",
         "opacity": 0.8,
         "showlegend": false,
         "type": "scatter",
         "x": [
          4,
          8,
          12,
          16,
          20,
          24,
          28,
          32,
          36,
          40,
          44,
          48,
          52,
          56,
          60,
          64,
          68
         ],
         "y": [
          43.33333333333333,
          62.49999999999999,
          70.83333333333333,
          62.5,
          70.83333333333333,
          78.27380952380952,
          79.16666666666666,
          62.08333333333333,
          75,
          52.5,
          87.5,
          70.71428571428571,
          45.83333333333333,
          62.77777777777778,
          45.83333333333333,
          83.33333333333333,
          100
         ]
        },
        {
         "line": {
          "color": "darkgrey"
         },
         "mode": "lines",
         "name": "mca26",
         "opacity": 0.8,
         "showlegend": false,
         "type": "scatter",
         "x": [
          4,
          8,
          12,
          16,
          20,
          24,
          28,
          32,
          36,
          40,
          44,
          48
         ],
         "y": [
          64.16666666666666,
          58.33333333333333,
          91.66666666666666,
          65,
          83.33333333333333,
          73.33333333333333,
          100,
          81.66666666666666,
          77.08333333333333,
          83.33333333333333,
          100,
          100
         ]
        },
        {
         "line": {
          "color": "darkgrey"
         },
         "mode": "lines",
         "name": "mca27",
         "opacity": 0.8,
         "showlegend": false,
         "type": "scatter",
         "x": [
          4,
          8,
          12,
          16,
          20,
          24,
          28,
          32,
          36,
          40
         ],
         "y": [
          44.64285714285714,
          95,
          83.33333333333331,
          81.66666666666666,
          91.66666666666666,
          90,
          81.66666666666666,
          93.75,
          77.08333333333333,
          null
         ]
        },
        {
         "line": {
          "color": "midnightblue"
         },
         "mode": "lines",
         "name": "mca28",
         "opacity": 0.8,
         "showlegend": false,
         "type": "scatter",
         "x": [
          4,
          8,
          12,
          16,
          20,
          24,
          28,
          32,
          36,
          40,
          44,
          48
         ],
         "y": [
          25,
          40,
          60,
          58.33333333333333,
          65,
          65,
          58.75,
          83.33333333333333,
          83.33333333333331,
          91.66666666666666,
          62.5,
          100
         ]
        },
        {
         "line": {
          "color": "midnightblue"
         },
         "mode": "lines",
         "name": "mca29",
         "opacity": 0.8,
         "showlegend": false,
         "type": "scatter",
         "x": [
          4,
          8,
          12,
          16,
          20,
          24,
          28,
          32,
          36,
          40
         ],
         "y": [
          41.25,
          86.66666666666666,
          100,
          91.66666666666666,
          89.58333333333334,
          91.66666666666666,
          81.25,
          100,
          100,
          100
         ]
        },
        {
         "line": {
          "color": "midnightblue"
         },
         "mode": "lines",
         "name": "mca30",
         "opacity": 0.8,
         "showlegend": false,
         "type": "scatter",
         "x": [
          4,
          8,
          12,
          16,
          20,
          24,
          28,
          32,
          36,
          40,
          44,
          48
         ],
         "y": [
          75,
          91.66666666666666,
          91.66666666666666,
          90,
          100,
          91.66666666666666,
          91.66666666666666,
          100,
          100,
          91.66666666666666,
          100,
          100
         ]
        },
        {
         "line": {
          "color": "midnightblue"
         },
         "mode": "lines",
         "name": "mca31",
         "opacity": 0.8,
         "showlegend": false,
         "type": "scatter",
         "x": [
          4,
          8,
          12,
          16,
          20,
          24
         ],
         "y": [
          64.88095238095238,
          79.16666666666666,
          100,
          74.16666666666666,
          100,
          100
         ]
        },
        {
         "line": {
          "color": "red"
         },
         "mode": "lines",
         "name": "mca32",
         "opacity": 0.8,
         "showlegend": false,
         "type": "scatter",
         "x": [
          4,
          8,
          12,
          16,
          20,
          24,
          28,
          32,
          36,
          40,
          44,
          48,
          52,
          56,
          60,
          64,
          68,
          72,
          76,
          80,
          84
         ],
         "y": [
          37.5,
          31.25,
          55.83333333333333,
          43.75,
          37.5,
          83.33333333333333,
          83.33333333333333,
          91.66666666666666,
          70.83333333333333,
          91.66666666666666,
          87.5,
          87.5,
          83.33333333333333,
          70.83333333333333,
          69.16666666666666,
          79.16666666666666,
          93.75,
          100,
          100,
          83.33333333333333,
          100
         ]
        },
        {
         "line": {
          "color": "red"
         },
         "mode": "lines",
         "name": "mca33",
         "opacity": 0.8,
         "showlegend": false,
         "type": "scatter",
         "x": [
          4,
          8,
          12,
          16,
          20,
          24,
          28,
          32,
          36,
          40,
          44,
          48,
          52,
          56,
          60
         ],
         "y": [
          35.416666666666664,
          66.66666666666666,
          100,
          91.66666666666666,
          100,
          87.5,
          100,
          79.16666666666666,
          100,
          100,
          100,
          95,
          72.22222222222221,
          100,
          null
         ]
        },
        {
         "line": {
          "color": "red"
         },
         "mode": "lines",
         "name": "mca34",
         "opacity": 0.8,
         "showlegend": false,
         "type": "scatter",
         "x": [
          4,
          8,
          12,
          16,
          20,
          24,
          28,
          32,
          36,
          40
         ],
         "y": [
          27.916666666666664,
          89.28571428571428,
          100,
          100,
          100,
          78.125,
          66.66666666666666,
          79.16666666666666,
          81.25,
          100
         ]
        },
        {
         "line": {
          "color": "red"
         },
         "mode": "lines",
         "name": "mca35",
         "opacity": 0.8,
         "showlegend": false,
         "type": "scatter",
         "x": [
          4,
          8,
          12,
          16,
          20,
          24,
          28,
          32,
          36,
          40,
          44
         ],
         "y": [
          75,
          58.33333333333333,
          100,
          66.66666666666666,
          68.45238095238095,
          75,
          40.05952380952381,
          54.99999999999999,
          58.33333333333333,
          57.589285714285715,
          50.416666666666664
         ]
        },
        {
         "line": {
          "color": "darkgrey"
         },
         "mode": "lines",
         "name": "mca36",
         "opacity": 0.8,
         "showlegend": false,
         "type": "scatter",
         "x": [
          4,
          8,
          12,
          16,
          20,
          24,
          28,
          32,
          36,
          40,
          44,
          48,
          52,
          56,
          60,
          64,
          68
         ],
         "y": [
          37.5,
          49.99999999999999,
          100,
          91.66666666666666,
          100,
          91.66666666666666,
          100,
          100,
          100,
          100,
          100,
          100,
          100,
          100,
          100,
          85.41666666666666,
          100
         ]
        },
        {
         "line": {
          "color": "darkgrey"
         },
         "mode": "lines",
         "name": "mca37",
         "opacity": 0.8,
         "showlegend": false,
         "type": "scatter",
         "x": [
          4,
          8,
          12,
          16,
          20,
          24,
          28,
          32,
          36,
          40,
          44,
          48,
          52,
          56,
          60,
          64,
          68
         ],
         "y": [
          8.333333333333332,
          61.3095238095238,
          81.66666666666666,
          66.66666666666666,
          66.66666666666666,
          70.83333333333333,
          70.83333333333333,
          83.33333333333333,
          83.33333333333331,
          83.33333333333331,
          100,
          100,
          100,
          86.66666666666666,
          91.66666666666666,
          100,
          100
         ]
        },
        {
         "line": {
          "color": "darkgrey"
         },
         "mode": "lines",
         "name": "mca38",
         "opacity": 0.8,
         "showlegend": false,
         "type": "scatter",
         "x": [
          4,
          8,
          12,
          16,
          20,
          24,
          28,
          32,
          36,
          40,
          44
         ],
         "y": [
          62.49999999999999,
          67.85714285714286,
          100,
          85.41666666666666,
          83.33333333333333,
          100,
          88.54166666666666,
          100,
          80.95238095238093,
          100,
          80
         ]
        },
        {
         "line": {
          "color": "darkgrey"
         },
         "mode": "lines",
         "name": "mca39",
         "opacity": 0.8,
         "showlegend": false,
         "type": "scatter",
         "x": [
          4,
          8,
          12,
          16,
          20,
          24,
          28,
          32,
          36,
          40,
          44,
          48
         ],
         "y": [
          76.66666666666666,
          95,
          100,
          91.66666666666666,
          100,
          93.75,
          100,
          95,
          100,
          100,
          85,
          null
         ]
        },
        {
         "line": {
          "color": "midnightblue"
         },
         "mode": "lines",
         "name": "mca40",
         "opacity": 0.8,
         "showlegend": false,
         "type": "scatter",
         "x": [
          4,
          8,
          12,
          16,
          20,
          24,
          28,
          32,
          36,
          40,
          44,
          48,
          52,
          56,
          60,
          64,
          68
         ],
         "y": [
          43.75,
          79.16666666666666,
          91.66666666666666,
          87.5,
          91.66666666666666,
          91.66666666666666,
          100,
          95,
          91.66666666666666,
          100,
          100,
          100,
          91.66666666666666,
          100,
          100,
          100,
          100
         ]
        },
        {
         "line": {
          "color": "midnightblue"
         },
         "mode": "lines",
         "name": "mca41",
         "opacity": 0.8,
         "showlegend": false,
         "type": "scatter",
         "x": [
          4,
          8,
          12,
          16,
          20,
          24,
          28,
          32,
          36,
          40
         ],
         "y": [
          64.375,
          70.83333333333333,
          47.11538461538461,
          91.66666666666666,
          83.33333333333331,
          91.66666666666666,
          58.214285714285715,
          55,
          83.75,
          100
         ]
        },
        {
         "line": {
          "color": "midnightblue"
         },
         "mode": "lines",
         "name": "mca42",
         "opacity": 0.8,
         "showlegend": false,
         "type": "scatter",
         "x": [
          4,
          8,
          12,
          16,
          20,
          24,
          28,
          32,
          36,
          40,
          44,
          48,
          52
         ],
         "y": [
          54.16666666666666,
          64.16666666666666,
          79.16666666666666,
          91.66666666666666,
          79.16666666666666,
          100,
          91.66666666666666,
          83.33333333333333,
          85.41666666666666,
          100,
          100,
          87.5,
          100
         ]
        },
        {
         "line": {
          "color": "midnightblue"
         },
         "mode": "lines",
         "name": "mca43",
         "opacity": 0.8,
         "showlegend": false,
         "type": "scatter",
         "x": [
          4,
          8,
          12,
          16,
          20,
          24,
          28,
          32,
          36,
          40,
          44
         ],
         "y": [
          48.80952380952381,
          79.16666666666666,
          91.66666666666666,
          100,
          89.28571428571428,
          91.66666666666666,
          100,
          100,
          83.33333333333331,
          87.5,
          100
         ]
        },
        {
         "line": {
          "color": "red"
         },
         "mode": "lines",
         "name": "mca44",
         "opacity": 0.8,
         "showlegend": false,
         "type": "scatter",
         "x": [
          4,
          8,
          12,
          16,
          20,
          24,
          28,
          32
         ],
         "y": [
          47.5,
          100,
          100,
          87.85714285714286,
          91.66666666666666,
          91.66666666666666,
          100,
          100
         ]
        },
        {
         "line": {
          "color": "red"
         },
         "mode": "lines",
         "name": "mca45",
         "opacity": 0.8,
         "showlegend": false,
         "type": "scatter",
         "x": [
          4,
          8,
          12,
          16,
          20,
          24,
          28,
          32,
          36
         ],
         "y": [
          40,
          79.16666666666666,
          91.66666666666666,
          79.16666666666666,
          77.08333333333333,
          91.66666666666666,
          64.58333333333333,
          68.45238095238095,
          50
         ]
        },
        {
         "line": {
          "color": "red"
         },
         "mode": "lines",
         "name": "mca46",
         "opacity": 0.8,
         "showlegend": false,
         "type": "scatter",
         "x": [
          4,
          8,
          12,
          16,
          20,
          24,
          28,
          32,
          36,
          40,
          44,
          48,
          52,
          56
         ],
         "y": [
          42.5,
          79.16666666666666,
          91.66666666666666,
          83.33333333333333,
          66.66666666666666,
          91.66666666666666,
          87.5,
          83.33333333333333,
          93.75,
          83.33333333333331,
          83.33333333333333,
          77.08333333333333,
          83.33333333333331,
          63.33333333333333
         ]
        },
        {
         "line": {
          "color": "red"
         },
         "mode": "lines",
         "name": "mca47",
         "opacity": 0.8,
         "showlegend": false,
         "type": "scatter",
         "x": [
          4,
          8,
          12,
          16,
          20,
          24,
          28,
          32,
          36,
          40,
          44,
          48,
          52,
          56,
          60
         ],
         "y": [
          64.58333333333333,
          91.66666666666666,
          91.66666666666666,
          100,
          100,
          91.66666666666666,
          91.66666666666666,
          95,
          100,
          100,
          91.66666666666666,
          91.66666666666666,
          100,
          87.5,
          100
         ]
        }
       ],
       "layout": {
        "font": {
         "family": "Arial",
         "size": 22
        },
        "height": 500,
        "shapes": [
         {
          "line": {
           "color": "darkgrey",
           "dash": "dash",
           "width": 1
          },
          "opacity": 1,
          "type": "line",
          "x0": 0,
          "x1": 1,
          "xref": "x domain",
          "y0": 25,
          "y1": 25,
          "yref": "y"
         }
        ],
        "template": {
         "data": {
          "bar": [
           {
            "error_x": {
             "color": "rgb(36,36,36)"
            },
            "error_y": {
             "color": "rgb(36,36,36)"
            },
            "marker": {
             "line": {
              "color": "white",
              "width": 0.5
             },
             "pattern": {
              "fillmode": "overlay",
              "size": 10,
              "solidity": 0.2
             }
            },
            "type": "bar"
           }
          ],
          "barpolar": [
           {
            "marker": {
             "line": {
              "color": "white",
              "width": 0.5
             },
             "pattern": {
              "fillmode": "overlay",
              "size": 10,
              "solidity": 0.2
             }
            },
            "type": "barpolar"
           }
          ],
          "carpet": [
           {
            "aaxis": {
             "endlinecolor": "rgb(36,36,36)",
             "gridcolor": "white",
             "linecolor": "white",
             "minorgridcolor": "white",
             "startlinecolor": "rgb(36,36,36)"
            },
            "baxis": {
             "endlinecolor": "rgb(36,36,36)",
             "gridcolor": "white",
             "linecolor": "white",
             "minorgridcolor": "white",
             "startlinecolor": "rgb(36,36,36)"
            },
            "type": "carpet"
           }
          ],
          "choropleth": [
           {
            "colorbar": {
             "outlinewidth": 1,
             "tickcolor": "rgb(36,36,36)",
             "ticks": "outside"
            },
            "type": "choropleth"
           }
          ],
          "contour": [
           {
            "colorbar": {
             "outlinewidth": 1,
             "tickcolor": "rgb(36,36,36)",
             "ticks": "outside"
            },
            "colorscale": [
             [
              0,
              "#440154"
             ],
             [
              0.1111111111111111,
              "#482878"
             ],
             [
              0.2222222222222222,
              "#3e4989"
             ],
             [
              0.3333333333333333,
              "#31688e"
             ],
             [
              0.4444444444444444,
              "#26828e"
             ],
             [
              0.5555555555555556,
              "#1f9e89"
             ],
             [
              0.6666666666666666,
              "#35b779"
             ],
             [
              0.7777777777777778,
              "#6ece58"
             ],
             [
              0.8888888888888888,
              "#b5de2b"
             ],
             [
              1,
              "#fde725"
             ]
            ],
            "type": "contour"
           }
          ],
          "contourcarpet": [
           {
            "colorbar": {
             "outlinewidth": 1,
             "tickcolor": "rgb(36,36,36)",
             "ticks": "outside"
            },
            "type": "contourcarpet"
           }
          ],
          "heatmap": [
           {
            "colorbar": {
             "outlinewidth": 1,
             "tickcolor": "rgb(36,36,36)",
             "ticks": "outside"
            },
            "colorscale": [
             [
              0,
              "#440154"
             ],
             [
              0.1111111111111111,
              "#482878"
             ],
             [
              0.2222222222222222,
              "#3e4989"
             ],
             [
              0.3333333333333333,
              "#31688e"
             ],
             [
              0.4444444444444444,
              "#26828e"
             ],
             [
              0.5555555555555556,
              "#1f9e89"
             ],
             [
              0.6666666666666666,
              "#35b779"
             ],
             [
              0.7777777777777778,
              "#6ece58"
             ],
             [
              0.8888888888888888,
              "#b5de2b"
             ],
             [
              1,
              "#fde725"
             ]
            ],
            "type": "heatmap"
           }
          ],
          "heatmapgl": [
           {
            "colorbar": {
             "outlinewidth": 1,
             "tickcolor": "rgb(36,36,36)",
             "ticks": "outside"
            },
            "colorscale": [
             [
              0,
              "#440154"
             ],
             [
              0.1111111111111111,
              "#482878"
             ],
             [
              0.2222222222222222,
              "#3e4989"
             ],
             [
              0.3333333333333333,
              "#31688e"
             ],
             [
              0.4444444444444444,
              "#26828e"
             ],
             [
              0.5555555555555556,
              "#1f9e89"
             ],
             [
              0.6666666666666666,
              "#35b779"
             ],
             [
              0.7777777777777778,
              "#6ece58"
             ],
             [
              0.8888888888888888,
              "#b5de2b"
             ],
             [
              1,
              "#fde725"
             ]
            ],
            "type": "heatmapgl"
           }
          ],
          "histogram": [
           {
            "marker": {
             "line": {
              "color": "white",
              "width": 0.6
             }
            },
            "type": "histogram"
           }
          ],
          "histogram2d": [
           {
            "colorbar": {
             "outlinewidth": 1,
             "tickcolor": "rgb(36,36,36)",
             "ticks": "outside"
            },
            "colorscale": [
             [
              0,
              "#440154"
             ],
             [
              0.1111111111111111,
              "#482878"
             ],
             [
              0.2222222222222222,
              "#3e4989"
             ],
             [
              0.3333333333333333,
              "#31688e"
             ],
             [
              0.4444444444444444,
              "#26828e"
             ],
             [
              0.5555555555555556,
              "#1f9e89"
             ],
             [
              0.6666666666666666,
              "#35b779"
             ],
             [
              0.7777777777777778,
              "#6ece58"
             ],
             [
              0.8888888888888888,
              "#b5de2b"
             ],
             [
              1,
              "#fde725"
             ]
            ],
            "type": "histogram2d"
           }
          ],
          "histogram2dcontour": [
           {
            "colorbar": {
             "outlinewidth": 1,
             "tickcolor": "rgb(36,36,36)",
             "ticks": "outside"
            },
            "colorscale": [
             [
              0,
              "#440154"
             ],
             [
              0.1111111111111111,
              "#482878"
             ],
             [
              0.2222222222222222,
              "#3e4989"
             ],
             [
              0.3333333333333333,
              "#31688e"
             ],
             [
              0.4444444444444444,
              "#26828e"
             ],
             [
              0.5555555555555556,
              "#1f9e89"
             ],
             [
              0.6666666666666666,
              "#35b779"
             ],
             [
              0.7777777777777778,
              "#6ece58"
             ],
             [
              0.8888888888888888,
              "#b5de2b"
             ],
             [
              1,
              "#fde725"
             ]
            ],
            "type": "histogram2dcontour"
           }
          ],
          "mesh3d": [
           {
            "colorbar": {
             "outlinewidth": 1,
             "tickcolor": "rgb(36,36,36)",
             "ticks": "outside"
            },
            "type": "mesh3d"
           }
          ],
          "parcoords": [
           {
            "line": {
             "colorbar": {
              "outlinewidth": 1,
              "tickcolor": "rgb(36,36,36)",
              "ticks": "outside"
             }
            },
            "type": "parcoords"
           }
          ],
          "pie": [
           {
            "automargin": true,
            "type": "pie"
           }
          ],
          "scatter": [
           {
            "fillpattern": {
             "fillmode": "overlay",
             "size": 10,
             "solidity": 0.2
            },
            "type": "scatter"
           }
          ],
          "scatter3d": [
           {
            "line": {
             "colorbar": {
              "outlinewidth": 1,
              "tickcolor": "rgb(36,36,36)",
              "ticks": "outside"
             }
            },
            "marker": {
             "colorbar": {
              "outlinewidth": 1,
              "tickcolor": "rgb(36,36,36)",
              "ticks": "outside"
             }
            },
            "type": "scatter3d"
           }
          ],
          "scattercarpet": [
           {
            "marker": {
             "colorbar": {
              "outlinewidth": 1,
              "tickcolor": "rgb(36,36,36)",
              "ticks": "outside"
             }
            },
            "type": "scattercarpet"
           }
          ],
          "scattergeo": [
           {
            "marker": {
             "colorbar": {
              "outlinewidth": 1,
              "tickcolor": "rgb(36,36,36)",
              "ticks": "outside"
             }
            },
            "type": "scattergeo"
           }
          ],
          "scattergl": [
           {
            "marker": {
             "colorbar": {
              "outlinewidth": 1,
              "tickcolor": "rgb(36,36,36)",
              "ticks": "outside"
             }
            },
            "type": "scattergl"
           }
          ],
          "scattermapbox": [
           {
            "marker": {
             "colorbar": {
              "outlinewidth": 1,
              "tickcolor": "rgb(36,36,36)",
              "ticks": "outside"
             }
            },
            "type": "scattermapbox"
           }
          ],
          "scatterpolar": [
           {
            "marker": {
             "colorbar": {
              "outlinewidth": 1,
              "tickcolor": "rgb(36,36,36)",
              "ticks": "outside"
             }
            },
            "type": "scatterpolar"
           }
          ],
          "scatterpolargl": [
           {
            "marker": {
             "colorbar": {
              "outlinewidth": 1,
              "tickcolor": "rgb(36,36,36)",
              "ticks": "outside"
             }
            },
            "type": "scatterpolargl"
           }
          ],
          "scatterternary": [
           {
            "marker": {
             "colorbar": {
              "outlinewidth": 1,
              "tickcolor": "rgb(36,36,36)",
              "ticks": "outside"
             }
            },
            "type": "scatterternary"
           }
          ],
          "surface": [
           {
            "colorbar": {
             "outlinewidth": 1,
             "tickcolor": "rgb(36,36,36)",
             "ticks": "outside"
            },
            "colorscale": [
             [
              0,
              "#440154"
             ],
             [
              0.1111111111111111,
              "#482878"
             ],
             [
              0.2222222222222222,
              "#3e4989"
             ],
             [
              0.3333333333333333,
              "#31688e"
             ],
             [
              0.4444444444444444,
              "#26828e"
             ],
             [
              0.5555555555555556,
              "#1f9e89"
             ],
             [
              0.6666666666666666,
              "#35b779"
             ],
             [
              0.7777777777777778,
              "#6ece58"
             ],
             [
              0.8888888888888888,
              "#b5de2b"
             ],
             [
              1,
              "#fde725"
             ]
            ],
            "type": "surface"
           }
          ],
          "table": [
           {
            "cells": {
             "fill": {
              "color": "rgb(237,237,237)"
             },
             "line": {
              "color": "white"
             }
            },
            "header": {
             "fill": {
              "color": "rgb(217,217,217)"
             },
             "line": {
              "color": "white"
             }
            },
            "type": "table"
           }
          ]
         },
         "layout": {
          "annotationdefaults": {
           "arrowhead": 0,
           "arrowwidth": 1
          },
          "autotypenumbers": "strict",
          "coloraxis": {
           "colorbar": {
            "outlinewidth": 1,
            "tickcolor": "rgb(36,36,36)",
            "ticks": "outside"
           }
          },
          "colorscale": {
           "diverging": [
            [
             0,
             "rgb(103,0,31)"
            ],
            [
             0.1,
             "rgb(178,24,43)"
            ],
            [
             0.2,
             "rgb(214,96,77)"
            ],
            [
             0.3,
             "rgb(244,165,130)"
            ],
            [
             0.4,
             "rgb(253,219,199)"
            ],
            [
             0.5,
             "rgb(247,247,247)"
            ],
            [
             0.6,
             "rgb(209,229,240)"
            ],
            [
             0.7,
             "rgb(146,197,222)"
            ],
            [
             0.8,
             "rgb(67,147,195)"
            ],
            [
             0.9,
             "rgb(33,102,172)"
            ],
            [
             1,
             "rgb(5,48,97)"
            ]
           ],
           "sequential": [
            [
             0,
             "#440154"
            ],
            [
             0.1111111111111111,
             "#482878"
            ],
            [
             0.2222222222222222,
             "#3e4989"
            ],
            [
             0.3333333333333333,
             "#31688e"
            ],
            [
             0.4444444444444444,
             "#26828e"
            ],
            [
             0.5555555555555556,
             "#1f9e89"
            ],
            [
             0.6666666666666666,
             "#35b779"
            ],
            [
             0.7777777777777778,
             "#6ece58"
            ],
            [
             0.8888888888888888,
             "#b5de2b"
            ],
            [
             1,
             "#fde725"
            ]
           ],
           "sequentialminus": [
            [
             0,
             "#440154"
            ],
            [
             0.1111111111111111,
             "#482878"
            ],
            [
             0.2222222222222222,
             "#3e4989"
            ],
            [
             0.3333333333333333,
             "#31688e"
            ],
            [
             0.4444444444444444,
             "#26828e"
            ],
            [
             0.5555555555555556,
             "#1f9e89"
            ],
            [
             0.6666666666666666,
             "#35b779"
            ],
            [
             0.7777777777777778,
             "#6ece58"
            ],
            [
             0.8888888888888888,
             "#b5de2b"
            ],
            [
             1,
             "#fde725"
            ]
           ]
          },
          "colorway": [
           "#1F77B4",
           "#FF7F0E",
           "#2CA02C",
           "#D62728",
           "#9467BD",
           "#8C564B",
           "#E377C2",
           "#7F7F7F",
           "#BCBD22",
           "#17BECF"
          ],
          "font": {
           "color": "rgb(36,36,36)"
          },
          "geo": {
           "bgcolor": "white",
           "lakecolor": "white",
           "landcolor": "white",
           "showlakes": true,
           "showland": true,
           "subunitcolor": "white"
          },
          "hoverlabel": {
           "align": "left"
          },
          "hovermode": "closest",
          "mapbox": {
           "style": "light"
          },
          "paper_bgcolor": "white",
          "plot_bgcolor": "white",
          "polar": {
           "angularaxis": {
            "gridcolor": "rgb(232,232,232)",
            "linecolor": "rgb(36,36,36)",
            "showgrid": false,
            "showline": true,
            "ticks": "outside"
           },
           "bgcolor": "white",
           "radialaxis": {
            "gridcolor": "rgb(232,232,232)",
            "linecolor": "rgb(36,36,36)",
            "showgrid": false,
            "showline": true,
            "ticks": "outside"
           }
          },
          "scene": {
           "xaxis": {
            "backgroundcolor": "white",
            "gridcolor": "rgb(232,232,232)",
            "gridwidth": 2,
            "linecolor": "rgb(36,36,36)",
            "showbackground": true,
            "showgrid": false,
            "showline": true,
            "ticks": "outside",
            "zeroline": false,
            "zerolinecolor": "rgb(36,36,36)"
           },
           "yaxis": {
            "backgroundcolor": "white",
            "gridcolor": "rgb(232,232,232)",
            "gridwidth": 2,
            "linecolor": "rgb(36,36,36)",
            "showbackground": true,
            "showgrid": false,
            "showline": true,
            "ticks": "outside",
            "zeroline": false,
            "zerolinecolor": "rgb(36,36,36)"
           },
           "zaxis": {
            "backgroundcolor": "white",
            "gridcolor": "rgb(232,232,232)",
            "gridwidth": 2,
            "linecolor": "rgb(36,36,36)",
            "showbackground": true,
            "showgrid": false,
            "showline": true,
            "ticks": "outside",
            "zeroline": false,
            "zerolinecolor": "rgb(36,36,36)"
           }
          },
          "shapedefaults": {
           "fillcolor": "black",
           "line": {
            "width": 0
           },
           "opacity": 0.3
          },
          "ternary": {
           "aaxis": {
            "gridcolor": "rgb(232,232,232)",
            "linecolor": "rgb(36,36,36)",
            "showgrid": false,
            "showline": true,
            "ticks": "outside"
           },
           "baxis": {
            "gridcolor": "rgb(232,232,232)",
            "linecolor": "rgb(36,36,36)",
            "showgrid": false,
            "showline": true,
            "ticks": "outside"
           },
           "bgcolor": "white",
           "caxis": {
            "gridcolor": "rgb(232,232,232)",
            "linecolor": "rgb(36,36,36)",
            "showgrid": false,
            "showline": true,
            "ticks": "outside"
           }
          },
          "title": {
           "x": 0.05
          },
          "xaxis": {
           "automargin": true,
           "gridcolor": "rgb(232,232,232)",
           "linecolor": "rgb(36,36,36)",
           "showgrid": false,
           "showline": true,
           "ticks": "outside",
           "title": {
            "standoff": 15
           },
           "zeroline": false,
           "zerolinecolor": "rgb(36,36,36)"
          },
          "yaxis": {
           "automargin": true,
           "gridcolor": "rgb(232,232,232)",
           "linecolor": "rgb(36,36,36)",
           "showgrid": false,
           "showline": true,
           "ticks": "outside",
           "title": {
            "standoff": 15
           },
           "zeroline": false,
           "zerolinecolor": "rgb(36,36,36)"
          }
         }
        },
        "title": {
         "x": 0.5,
         "xanchor": "center",
         "y": 0.9,
         "yanchor": "top"
        },
        "width": 500,
        "xaxis": {
         "anchor": "y",
         "domain": [
          0,
          1
         ],
         "linewidth": 1.5,
         "title": {
          "text": "Trial"
         }
        },
        "yaxis": {
         "anchor": "x",
         "domain": [
          0,
          1
         ],
         "linewidth": 1.5,
         "range": [
          0,
          100
         ],
         "title": {
          "text": "Lick Accuracy (%)"
         }
        }
       }
      },
      "text/html": [
       "<div>                            <div id=\"ba7ac631-be35-48a2-9282-98dafc419ee9\" class=\"plotly-graph-div\" style=\"height:500px; width:500px;\"></div>            <script type=\"text/javascript\">                require([\"plotly\"], function(Plotly) {                    window.PLOTLYENV=window.PLOTLYENV || {};                                    if (document.getElementById(\"ba7ac631-be35-48a2-9282-98dafc419ee9\")) {                    Plotly.newPlot(                        \"ba7ac631-be35-48a2-9282-98dafc419ee9\",                        [{\"line\":{\"color\":\"darkgrey\"},\"mode\":\"lines\",\"name\":\"mca24\",\"opacity\":0.8,\"showlegend\":false,\"x\":[4,8,12,16,20,24,28,32,36,40,44,48],\"y\":[43.33333333333333,70.83333333333333,54.166666666666664,58.33333333333333,55.83333333333333,66.66666666666666,62.49999999999999,75.0,91.66666666666666,83.33333333333333,91.66666666666666,91.66666666666666],\"type\":\"scatter\"},{\"line\":{\"color\":\"darkgrey\"},\"mode\":\"lines\",\"name\":\"mca25\",\"opacity\":0.8,\"showlegend\":false,\"x\":[4,8,12,16,20,24,28,32,36,40,44,48,52,56,60,64,68],\"y\":[43.33333333333333,62.49999999999999,70.83333333333333,62.5,70.83333333333333,78.27380952380952,79.16666666666666,62.08333333333333,75.0,52.5,87.5,70.71428571428571,45.83333333333333,62.77777777777778,45.83333333333333,83.33333333333333,100.0],\"type\":\"scatter\"},{\"line\":{\"color\":\"darkgrey\"},\"mode\":\"lines\",\"name\":\"mca26\",\"opacity\":0.8,\"showlegend\":false,\"x\":[4,8,12,16,20,24,28,32,36,40,44,48],\"y\":[64.16666666666666,58.33333333333333,91.66666666666666,65.0,83.33333333333333,73.33333333333333,100.0,81.66666666666666,77.08333333333333,83.33333333333333,100.0,100.0],\"type\":\"scatter\"},{\"line\":{\"color\":\"darkgrey\"},\"mode\":\"lines\",\"name\":\"mca27\",\"opacity\":0.8,\"showlegend\":false,\"x\":[4,8,12,16,20,24,28,32,36,40],\"y\":[44.64285714285714,95.0,83.33333333333331,81.66666666666666,91.66666666666666,90.0,81.66666666666666,93.75,77.08333333333333,null],\"type\":\"scatter\"},{\"line\":{\"color\":\"midnightblue\"},\"mode\":\"lines\",\"name\":\"mca28\",\"opacity\":0.8,\"showlegend\":false,\"x\":[4,8,12,16,20,24,28,32,36,40,44,48],\"y\":[25.0,40.0,60.0,58.33333333333333,65.0,65.0,58.75,83.33333333333333,83.33333333333331,91.66666666666666,62.5,100.0],\"type\":\"scatter\"},{\"line\":{\"color\":\"midnightblue\"},\"mode\":\"lines\",\"name\":\"mca29\",\"opacity\":0.8,\"showlegend\":false,\"x\":[4,8,12,16,20,24,28,32,36,40],\"y\":[41.25,86.66666666666666,100.0,91.66666666666666,89.58333333333334,91.66666666666666,81.25,100.0,100.0,100.0],\"type\":\"scatter\"},{\"line\":{\"color\":\"midnightblue\"},\"mode\":\"lines\",\"name\":\"mca30\",\"opacity\":0.8,\"showlegend\":false,\"x\":[4,8,12,16,20,24,28,32,36,40,44,48],\"y\":[75.0,91.66666666666666,91.66666666666666,90.0,100.0,91.66666666666666,91.66666666666666,100.0,100.0,91.66666666666666,100.0,100.0],\"type\":\"scatter\"},{\"line\":{\"color\":\"midnightblue\"},\"mode\":\"lines\",\"name\":\"mca31\",\"opacity\":0.8,\"showlegend\":false,\"x\":[4,8,12,16,20,24],\"y\":[64.88095238095238,79.16666666666666,100.0,74.16666666666666,100.0,100.0],\"type\":\"scatter\"},{\"line\":{\"color\":\"red\"},\"mode\":\"lines\",\"name\":\"mca32\",\"opacity\":0.8,\"showlegend\":false,\"x\":[4,8,12,16,20,24,28,32,36,40,44,48,52,56,60,64,68,72,76,80,84],\"y\":[37.5,31.25,55.83333333333333,43.75,37.5,83.33333333333333,83.33333333333333,91.66666666666666,70.83333333333333,91.66666666666666,87.5,87.5,83.33333333333333,70.83333333333333,69.16666666666666,79.16666666666666,93.75,100.0,100.0,83.33333333333333,100.0],\"type\":\"scatter\"},{\"line\":{\"color\":\"red\"},\"mode\":\"lines\",\"name\":\"mca33\",\"opacity\":0.8,\"showlegend\":false,\"x\":[4,8,12,16,20,24,28,32,36,40,44,48,52,56,60],\"y\":[35.416666666666664,66.66666666666666,100.0,91.66666666666666,100.0,87.5,100.0,79.16666666666666,100.0,100.0,100.0,95.0,72.22222222222221,100.0,null],\"type\":\"scatter\"},{\"line\":{\"color\":\"red\"},\"mode\":\"lines\",\"name\":\"mca34\",\"opacity\":0.8,\"showlegend\":false,\"x\":[4,8,12,16,20,24,28,32,36,40],\"y\":[27.916666666666664,89.28571428571428,100.0,100.0,100.0,78.125,66.66666666666666,79.16666666666666,81.25,100.0],\"type\":\"scatter\"},{\"line\":{\"color\":\"red\"},\"mode\":\"lines\",\"name\":\"mca35\",\"opacity\":0.8,\"showlegend\":false,\"x\":[4,8,12,16,20,24,28,32,36,40,44],\"y\":[75.0,58.33333333333333,100.0,66.66666666666666,68.45238095238095,75.0,40.05952380952381,54.99999999999999,58.33333333333333,57.589285714285715,50.416666666666664],\"type\":\"scatter\"},{\"line\":{\"color\":\"darkgrey\"},\"mode\":\"lines\",\"name\":\"mca36\",\"opacity\":0.8,\"showlegend\":false,\"x\":[4,8,12,16,20,24,28,32,36,40,44,48,52,56,60,64,68],\"y\":[37.5,49.99999999999999,100.0,91.66666666666666,100.0,91.66666666666666,100.0,100.0,100.0,100.0,100.0,100.0,100.0,100.0,100.0,85.41666666666666,100.0],\"type\":\"scatter\"},{\"line\":{\"color\":\"darkgrey\"},\"mode\":\"lines\",\"name\":\"mca37\",\"opacity\":0.8,\"showlegend\":false,\"x\":[4,8,12,16,20,24,28,32,36,40,44,48,52,56,60,64,68],\"y\":[8.333333333333332,61.3095238095238,81.66666666666666,66.66666666666666,66.66666666666666,70.83333333333333,70.83333333333333,83.33333333333333,83.33333333333331,83.33333333333331,100.0,100.0,100.0,86.66666666666666,91.66666666666666,100.0,100.0],\"type\":\"scatter\"},{\"line\":{\"color\":\"darkgrey\"},\"mode\":\"lines\",\"name\":\"mca38\",\"opacity\":0.8,\"showlegend\":false,\"x\":[4,8,12,16,20,24,28,32,36,40,44],\"y\":[62.49999999999999,67.85714285714286,100.0,85.41666666666666,83.33333333333333,100.0,88.54166666666666,100.0,80.95238095238093,100.0,80.0],\"type\":\"scatter\"},{\"line\":{\"color\":\"darkgrey\"},\"mode\":\"lines\",\"name\":\"mca39\",\"opacity\":0.8,\"showlegend\":false,\"x\":[4,8,12,16,20,24,28,32,36,40,44,48],\"y\":[76.66666666666666,95.0,100.0,91.66666666666666,100.0,93.75,100.0,95.0,100.0,100.0,85.0,null],\"type\":\"scatter\"},{\"line\":{\"color\":\"midnightblue\"},\"mode\":\"lines\",\"name\":\"mca40\",\"opacity\":0.8,\"showlegend\":false,\"x\":[4,8,12,16,20,24,28,32,36,40,44,48,52,56,60,64,68],\"y\":[43.75,79.16666666666666,91.66666666666666,87.5,91.66666666666666,91.66666666666666,100.0,95.0,91.66666666666666,100.0,100.0,100.0,91.66666666666666,100.0,100.0,100.0,100.0],\"type\":\"scatter\"},{\"line\":{\"color\":\"midnightblue\"},\"mode\":\"lines\",\"name\":\"mca41\",\"opacity\":0.8,\"showlegend\":false,\"x\":[4,8,12,16,20,24,28,32,36,40],\"y\":[64.375,70.83333333333333,47.11538461538461,91.66666666666666,83.33333333333331,91.66666666666666,58.214285714285715,55.0,83.75,100.0],\"type\":\"scatter\"},{\"line\":{\"color\":\"midnightblue\"},\"mode\":\"lines\",\"name\":\"mca42\",\"opacity\":0.8,\"showlegend\":false,\"x\":[4,8,12,16,20,24,28,32,36,40,44,48,52],\"y\":[54.16666666666666,64.16666666666666,79.16666666666666,91.66666666666666,79.16666666666666,100.0,91.66666666666666,83.33333333333333,85.41666666666666,100.0,100.0,87.5,100.0],\"type\":\"scatter\"},{\"line\":{\"color\":\"midnightblue\"},\"mode\":\"lines\",\"name\":\"mca43\",\"opacity\":0.8,\"showlegend\":false,\"x\":[4,8,12,16,20,24,28,32,36,40,44],\"y\":[48.80952380952381,79.16666666666666,91.66666666666666,100.0,89.28571428571428,91.66666666666666,100.0,100.0,83.33333333333331,87.5,100.0],\"type\":\"scatter\"},{\"line\":{\"color\":\"red\"},\"mode\":\"lines\",\"name\":\"mca44\",\"opacity\":0.8,\"showlegend\":false,\"x\":[4,8,12,16,20,24,28,32],\"y\":[47.5,100.0,100.0,87.85714285714286,91.66666666666666,91.66666666666666,100.0,100.0],\"type\":\"scatter\"},{\"line\":{\"color\":\"red\"},\"mode\":\"lines\",\"name\":\"mca45\",\"opacity\":0.8,\"showlegend\":false,\"x\":[4,8,12,16,20,24,28,32,36],\"y\":[40.0,79.16666666666666,91.66666666666666,79.16666666666666,77.08333333333333,91.66666666666666,64.58333333333333,68.45238095238095,50.0],\"type\":\"scatter\"},{\"line\":{\"color\":\"red\"},\"mode\":\"lines\",\"name\":\"mca46\",\"opacity\":0.8,\"showlegend\":false,\"x\":[4,8,12,16,20,24,28,32,36,40,44,48,52,56],\"y\":[42.5,79.16666666666666,91.66666666666666,83.33333333333333,66.66666666666666,91.66666666666666,87.5,83.33333333333333,93.75,83.33333333333331,83.33333333333333,77.08333333333333,83.33333333333331,63.33333333333333],\"type\":\"scatter\"},{\"line\":{\"color\":\"red\"},\"mode\":\"lines\",\"name\":\"mca47\",\"opacity\":0.8,\"showlegend\":false,\"x\":[4,8,12,16,20,24,28,32,36,40,44,48,52,56,60],\"y\":[64.58333333333333,91.66666666666666,91.66666666666666,100.0,100.0,91.66666666666666,91.66666666666666,95.0,100.0,100.0,91.66666666666666,91.66666666666666,100.0,87.5,100.0],\"type\":\"scatter\"}],                        {\"template\":{\"data\":{\"barpolar\":[{\"marker\":{\"line\":{\"color\":\"white\",\"width\":0.5},\"pattern\":{\"fillmode\":\"overlay\",\"size\":10,\"solidity\":0.2}},\"type\":\"barpolar\"}],\"bar\":[{\"error_x\":{\"color\":\"rgb(36,36,36)\"},\"error_y\":{\"color\":\"rgb(36,36,36)\"},\"marker\":{\"line\":{\"color\":\"white\",\"width\":0.5},\"pattern\":{\"fillmode\":\"overlay\",\"size\":10,\"solidity\":0.2}},\"type\":\"bar\"}],\"carpet\":[{\"aaxis\":{\"endlinecolor\":\"rgb(36,36,36)\",\"gridcolor\":\"white\",\"linecolor\":\"white\",\"minorgridcolor\":\"white\",\"startlinecolor\":\"rgb(36,36,36)\"},\"baxis\":{\"endlinecolor\":\"rgb(36,36,36)\",\"gridcolor\":\"white\",\"linecolor\":\"white\",\"minorgridcolor\":\"white\",\"startlinecolor\":\"rgb(36,36,36)\"},\"type\":\"carpet\"}],\"choropleth\":[{\"colorbar\":{\"outlinewidth\":1,\"tickcolor\":\"rgb(36,36,36)\",\"ticks\":\"outside\"},\"type\":\"choropleth\"}],\"contourcarpet\":[{\"colorbar\":{\"outlinewidth\":1,\"tickcolor\":\"rgb(36,36,36)\",\"ticks\":\"outside\"},\"type\":\"contourcarpet\"}],\"contour\":[{\"colorbar\":{\"outlinewidth\":1,\"tickcolor\":\"rgb(36,36,36)\",\"ticks\":\"outside\"},\"colorscale\":[[0.0,\"#440154\"],[0.1111111111111111,\"#482878\"],[0.2222222222222222,\"#3e4989\"],[0.3333333333333333,\"#31688e\"],[0.4444444444444444,\"#26828e\"],[0.5555555555555556,\"#1f9e89\"],[0.6666666666666666,\"#35b779\"],[0.7777777777777778,\"#6ece58\"],[0.8888888888888888,\"#b5de2b\"],[1.0,\"#fde725\"]],\"type\":\"contour\"}],\"heatmapgl\":[{\"colorbar\":{\"outlinewidth\":1,\"tickcolor\":\"rgb(36,36,36)\",\"ticks\":\"outside\"},\"colorscale\":[[0.0,\"#440154\"],[0.1111111111111111,\"#482878\"],[0.2222222222222222,\"#3e4989\"],[0.3333333333333333,\"#31688e\"],[0.4444444444444444,\"#26828e\"],[0.5555555555555556,\"#1f9e89\"],[0.6666666666666666,\"#35b779\"],[0.7777777777777778,\"#6ece58\"],[0.8888888888888888,\"#b5de2b\"],[1.0,\"#fde725\"]],\"type\":\"heatmapgl\"}],\"heatmap\":[{\"colorbar\":{\"outlinewidth\":1,\"tickcolor\":\"rgb(36,36,36)\",\"ticks\":\"outside\"},\"colorscale\":[[0.0,\"#440154\"],[0.1111111111111111,\"#482878\"],[0.2222222222222222,\"#3e4989\"],[0.3333333333333333,\"#31688e\"],[0.4444444444444444,\"#26828e\"],[0.5555555555555556,\"#1f9e89\"],[0.6666666666666666,\"#35b779\"],[0.7777777777777778,\"#6ece58\"],[0.8888888888888888,\"#b5de2b\"],[1.0,\"#fde725\"]],\"type\":\"heatmap\"}],\"histogram2dcontour\":[{\"colorbar\":{\"outlinewidth\":1,\"tickcolor\":\"rgb(36,36,36)\",\"ticks\":\"outside\"},\"colorscale\":[[0.0,\"#440154\"],[0.1111111111111111,\"#482878\"],[0.2222222222222222,\"#3e4989\"],[0.3333333333333333,\"#31688e\"],[0.4444444444444444,\"#26828e\"],[0.5555555555555556,\"#1f9e89\"],[0.6666666666666666,\"#35b779\"],[0.7777777777777778,\"#6ece58\"],[0.8888888888888888,\"#b5de2b\"],[1.0,\"#fde725\"]],\"type\":\"histogram2dcontour\"}],\"histogram2d\":[{\"colorbar\":{\"outlinewidth\":1,\"tickcolor\":\"rgb(36,36,36)\",\"ticks\":\"outside\"},\"colorscale\":[[0.0,\"#440154\"],[0.1111111111111111,\"#482878\"],[0.2222222222222222,\"#3e4989\"],[0.3333333333333333,\"#31688e\"],[0.4444444444444444,\"#26828e\"],[0.5555555555555556,\"#1f9e89\"],[0.6666666666666666,\"#35b779\"],[0.7777777777777778,\"#6ece58\"],[0.8888888888888888,\"#b5de2b\"],[1.0,\"#fde725\"]],\"type\":\"histogram2d\"}],\"histogram\":[{\"marker\":{\"line\":{\"color\":\"white\",\"width\":0.6}},\"type\":\"histogram\"}],\"mesh3d\":[{\"colorbar\":{\"outlinewidth\":1,\"tickcolor\":\"rgb(36,36,36)\",\"ticks\":\"outside\"},\"type\":\"mesh3d\"}],\"parcoords\":[{\"line\":{\"colorbar\":{\"outlinewidth\":1,\"tickcolor\":\"rgb(36,36,36)\",\"ticks\":\"outside\"}},\"type\":\"parcoords\"}],\"pie\":[{\"automargin\":true,\"type\":\"pie\"}],\"scatter3d\":[{\"line\":{\"colorbar\":{\"outlinewidth\":1,\"tickcolor\":\"rgb(36,36,36)\",\"ticks\":\"outside\"}},\"marker\":{\"colorbar\":{\"outlinewidth\":1,\"tickcolor\":\"rgb(36,36,36)\",\"ticks\":\"outside\"}},\"type\":\"scatter3d\"}],\"scattercarpet\":[{\"marker\":{\"colorbar\":{\"outlinewidth\":1,\"tickcolor\":\"rgb(36,36,36)\",\"ticks\":\"outside\"}},\"type\":\"scattercarpet\"}],\"scattergeo\":[{\"marker\":{\"colorbar\":{\"outlinewidth\":1,\"tickcolor\":\"rgb(36,36,36)\",\"ticks\":\"outside\"}},\"type\":\"scattergeo\"}],\"scattergl\":[{\"marker\":{\"colorbar\":{\"outlinewidth\":1,\"tickcolor\":\"rgb(36,36,36)\",\"ticks\":\"outside\"}},\"type\":\"scattergl\"}],\"scattermapbox\":[{\"marker\":{\"colorbar\":{\"outlinewidth\":1,\"tickcolor\":\"rgb(36,36,36)\",\"ticks\":\"outside\"}},\"type\":\"scattermapbox\"}],\"scatterpolargl\":[{\"marker\":{\"colorbar\":{\"outlinewidth\":1,\"tickcolor\":\"rgb(36,36,36)\",\"ticks\":\"outside\"}},\"type\":\"scatterpolargl\"}],\"scatterpolar\":[{\"marker\":{\"colorbar\":{\"outlinewidth\":1,\"tickcolor\":\"rgb(36,36,36)\",\"ticks\":\"outside\"}},\"type\":\"scatterpolar\"}],\"scatter\":[{\"fillpattern\":{\"fillmode\":\"overlay\",\"size\":10,\"solidity\":0.2},\"type\":\"scatter\"}],\"scatterternary\":[{\"marker\":{\"colorbar\":{\"outlinewidth\":1,\"tickcolor\":\"rgb(36,36,36)\",\"ticks\":\"outside\"}},\"type\":\"scatterternary\"}],\"surface\":[{\"colorbar\":{\"outlinewidth\":1,\"tickcolor\":\"rgb(36,36,36)\",\"ticks\":\"outside\"},\"colorscale\":[[0.0,\"#440154\"],[0.1111111111111111,\"#482878\"],[0.2222222222222222,\"#3e4989\"],[0.3333333333333333,\"#31688e\"],[0.4444444444444444,\"#26828e\"],[0.5555555555555556,\"#1f9e89\"],[0.6666666666666666,\"#35b779\"],[0.7777777777777778,\"#6ece58\"],[0.8888888888888888,\"#b5de2b\"],[1.0,\"#fde725\"]],\"type\":\"surface\"}],\"table\":[{\"cells\":{\"fill\":{\"color\":\"rgb(237,237,237)\"},\"line\":{\"color\":\"white\"}},\"header\":{\"fill\":{\"color\":\"rgb(217,217,217)\"},\"line\":{\"color\":\"white\"}},\"type\":\"table\"}]},\"layout\":{\"annotationdefaults\":{\"arrowhead\":0,\"arrowwidth\":1},\"autotypenumbers\":\"strict\",\"coloraxis\":{\"colorbar\":{\"outlinewidth\":1,\"tickcolor\":\"rgb(36,36,36)\",\"ticks\":\"outside\"}},\"colorscale\":{\"diverging\":[[0.0,\"rgb(103,0,31)\"],[0.1,\"rgb(178,24,43)\"],[0.2,\"rgb(214,96,77)\"],[0.3,\"rgb(244,165,130)\"],[0.4,\"rgb(253,219,199)\"],[0.5,\"rgb(247,247,247)\"],[0.6,\"rgb(209,229,240)\"],[0.7,\"rgb(146,197,222)\"],[0.8,\"rgb(67,147,195)\"],[0.9,\"rgb(33,102,172)\"],[1.0,\"rgb(5,48,97)\"]],\"sequential\":[[0.0,\"#440154\"],[0.1111111111111111,\"#482878\"],[0.2222222222222222,\"#3e4989\"],[0.3333333333333333,\"#31688e\"],[0.4444444444444444,\"#26828e\"],[0.5555555555555556,\"#1f9e89\"],[0.6666666666666666,\"#35b779\"],[0.7777777777777778,\"#6ece58\"],[0.8888888888888888,\"#b5de2b\"],[1.0,\"#fde725\"]],\"sequentialminus\":[[0.0,\"#440154\"],[0.1111111111111111,\"#482878\"],[0.2222222222222222,\"#3e4989\"],[0.3333333333333333,\"#31688e\"],[0.4444444444444444,\"#26828e\"],[0.5555555555555556,\"#1f9e89\"],[0.6666666666666666,\"#35b779\"],[0.7777777777777778,\"#6ece58\"],[0.8888888888888888,\"#b5de2b\"],[1.0,\"#fde725\"]]},\"colorway\":[\"#1F77B4\",\"#FF7F0E\",\"#2CA02C\",\"#D62728\",\"#9467BD\",\"#8C564B\",\"#E377C2\",\"#7F7F7F\",\"#BCBD22\",\"#17BECF\"],\"font\":{\"color\":\"rgb(36,36,36)\"},\"geo\":{\"bgcolor\":\"white\",\"lakecolor\":\"white\",\"landcolor\":\"white\",\"showlakes\":true,\"showland\":true,\"subunitcolor\":\"white\"},\"hoverlabel\":{\"align\":\"left\"},\"hovermode\":\"closest\",\"mapbox\":{\"style\":\"light\"},\"paper_bgcolor\":\"white\",\"plot_bgcolor\":\"white\",\"polar\":{\"angularaxis\":{\"gridcolor\":\"rgb(232,232,232)\",\"linecolor\":\"rgb(36,36,36)\",\"showgrid\":false,\"showline\":true,\"ticks\":\"outside\"},\"bgcolor\":\"white\",\"radialaxis\":{\"gridcolor\":\"rgb(232,232,232)\",\"linecolor\":\"rgb(36,36,36)\",\"showgrid\":false,\"showline\":true,\"ticks\":\"outside\"}},\"scene\":{\"xaxis\":{\"backgroundcolor\":\"white\",\"gridcolor\":\"rgb(232,232,232)\",\"gridwidth\":2,\"linecolor\":\"rgb(36,36,36)\",\"showbackground\":true,\"showgrid\":false,\"showline\":true,\"ticks\":\"outside\",\"zeroline\":false,\"zerolinecolor\":\"rgb(36,36,36)\"},\"yaxis\":{\"backgroundcolor\":\"white\",\"gridcolor\":\"rgb(232,232,232)\",\"gridwidth\":2,\"linecolor\":\"rgb(36,36,36)\",\"showbackground\":true,\"showgrid\":false,\"showline\":true,\"ticks\":\"outside\",\"zeroline\":false,\"zerolinecolor\":\"rgb(36,36,36)\"},\"zaxis\":{\"backgroundcolor\":\"white\",\"gridcolor\":\"rgb(232,232,232)\",\"gridwidth\":2,\"linecolor\":\"rgb(36,36,36)\",\"showbackground\":true,\"showgrid\":false,\"showline\":true,\"ticks\":\"outside\",\"zeroline\":false,\"zerolinecolor\":\"rgb(36,36,36)\"}},\"shapedefaults\":{\"fillcolor\":\"black\",\"line\":{\"width\":0},\"opacity\":0.3},\"ternary\":{\"aaxis\":{\"gridcolor\":\"rgb(232,232,232)\",\"linecolor\":\"rgb(36,36,36)\",\"showgrid\":false,\"showline\":true,\"ticks\":\"outside\"},\"baxis\":{\"gridcolor\":\"rgb(232,232,232)\",\"linecolor\":\"rgb(36,36,36)\",\"showgrid\":false,\"showline\":true,\"ticks\":\"outside\"},\"bgcolor\":\"white\",\"caxis\":{\"gridcolor\":\"rgb(232,232,232)\",\"linecolor\":\"rgb(36,36,36)\",\"showgrid\":false,\"showline\":true,\"ticks\":\"outside\"}},\"title\":{\"x\":0.05},\"xaxis\":{\"automargin\":true,\"gridcolor\":\"rgb(232,232,232)\",\"linecolor\":\"rgb(36,36,36)\",\"showgrid\":false,\"showline\":true,\"ticks\":\"outside\",\"title\":{\"standoff\":15},\"zeroline\":false,\"zerolinecolor\":\"rgb(36,36,36)\"},\"yaxis\":{\"automargin\":true,\"gridcolor\":\"rgb(232,232,232)\",\"linecolor\":\"rgb(36,36,36)\",\"showgrid\":false,\"showline\":true,\"ticks\":\"outside\",\"title\":{\"standoff\":15},\"zeroline\":false,\"zerolinecolor\":\"rgb(36,36,36)\"}}},\"xaxis\":{\"anchor\":\"y\",\"domain\":[0.0,1.0],\"title\":{\"text\":\"Trial\"},\"linewidth\":1.5},\"yaxis\":{\"anchor\":\"x\",\"domain\":[0.0,1.0],\"title\":{\"text\":\"Lick Accuracy (%)\"},\"linewidth\":1.5,\"range\":[0,100]},\"title\":{\"y\":0.9,\"x\":0.5,\"xanchor\":\"center\",\"yanchor\":\"top\"},\"font\":{\"size\":22,\"family\":\"Arial\"},\"height\":500,\"width\":500,\"shapes\":[{\"line\":{\"color\":\"darkgrey\",\"dash\":\"dash\",\"width\":1},\"opacity\":1,\"type\":\"line\",\"x0\":0,\"x1\":1,\"xref\":\"x domain\",\"y0\":25,\"y1\":25,\"yref\":\"y\"}]},                        {\"responsive\": true}                    ).then(function(){\n",
       "                            \n",
       "var gd = document.getElementById('ba7ac631-be35-48a2-9282-98dafc419ee9');\n",
       "var x = new MutationObserver(function (mutations, observer) {{\n",
       "        var display = window.getComputedStyle(gd).display;\n",
       "        if (!display || display === 'none') {{\n",
       "            console.log([gd, 'removed!']);\n",
       "            Plotly.purge(gd);\n",
       "            observer.disconnect();\n",
       "        }}\n",
       "}});\n",
       "\n",
       "// Listen for the removal of the full notebook cells\n",
       "var notebookContainer = gd.closest('#notebook-container');\n",
       "if (notebookContainer) {{\n",
       "    x.observe(notebookContainer, {childList: true});\n",
       "}}\n",
       "\n",
       "// Listen for the clearing of the current output cell\n",
       "var outputEl = gd.closest('.output');\n",
       "if (outputEl) {{\n",
       "    x.observe(outputEl, {childList: true});\n",
       "}}\n",
       "\n",
       "                        })                };                });            </script>        </div>"
      ]
     },
     "metadata": {},
     "output_type": "display_data"
    }
   ],
   "source": [
    "## Lick accuracy across trials for all mice\n",
    "bin_size = 4\n",
    "lick_threshold = 5\n",
    "fig = pf.custom_graph_template(x_title='', y_title='')\n",
    "for mouse in os.listdir(circle_path)[:-1]:\n",
    "    mouse_path = pjoin(circle_path, mouse)\n",
    "    group = 'Young Adult' if mouse in young_adult else 'Middle Aged' if mouse in middle_aged else 'Aged'\n",
    "    for session in (os.listdir(mouse_path)):\n",
    "        behav = pd.read_feather(pjoin(mouse_path, f'{session}'))\n",
    "        if (np.unique(behav['session'])[0] != 'DT' ) & (np.unique(behav['session'])[0] != 'CT' ):\n",
    "            pass\n",
    "        else:\n",
    "            reward_one, reward_two = np.unique(behav['reward_one'])[0], np.unique(behav['reward_two'])[0]\n",
    "            pc = ctb.lick_accuracy(behav, reward_one, reward_two, lick_threshold=lick_threshold, by_trials=True)\n",
    "            binned_pc = ctb.bin_data(pc, bin_size=bin_size)\n",
    "            x_data = np.arange(1, len(binned_pc)+1) * bin_size\n",
    "\n",
    "            fig.add_trace(go.Scatter(x=x_data, y=binned_pc, opacity=opacity,\n",
    "                                 mode='lines', line_color=group_colors_dict[group], \n",
    "                                 showlegend=False, name=mouse))\n",
    "fig.add_hline(y=25, line_width=1, line_dash='dash', line_color=chance_color, opacity=1)\n",
    "fig.update_xaxes(title='Trial', row=1)\n",
    "fig.update_yaxes(title='Lick Accuracy (%)', col=1, range=[0, 100])\n",
    "fig.show()"
   ]
  },
  {
   "cell_type": "markdown",
   "metadata": {},
   "source": [
    "### Plotting lick accuracy in each context across days, where each group is on one subplot."
   ]
  },
  {
   "cell_type": "code",
   "execution_count": null,
   "metadata": {},
   "outputs": [],
   "source": [
    "## Looking at 5th lick\n",
    "circletrack_results = {'mouse': [], 'day': [], 'context_day': [], 'group': [], 'session': [], 'lick_accuracy': [], 'rewards': []}\n",
    "for mouse in os.listdir(circle_path)[:-1]: ##.DS_store\n",
    "    mouse_path = pjoin(circle_path, mouse)\n",
    "    group = 'Young Adult' if mouse in young_adult else 'Middle Aged' if mouse in middle_aged else 'Aged'\n",
    "    session_id = np.nan\n",
    "    day_counter = 1\n",
    "    for idx, session in enumerate(os.listdir(mouse_path)):\n",
    "        behav = pd.read_feather(pjoin(mouse_path, f'{session}'))\n",
    "        behav = behav[~behav['probe']]\n",
    "        reward_one, reward_two = np.unique(behav['reward_one'])[0], np.unique(behav['reward_two'])[0]\n",
    "        circletrack_results['mouse'].append(mouse)\n",
    "        circletrack_results['day'].append(idx+1)\n",
    "        circletrack_results['group'].append(group)\n",
    "        circletrack_results['session'].append(np.unique(behav['session'])[0])\n",
    "        lick_accuracy = ctb.lick_accuracy(behav, port_one=reward_one, port_two=reward_two, lick_threshold=5, by_trials=False)\n",
    "        circletrack_results['lick_accuracy'].append(lick_accuracy)\n",
    "        circletrack_results['rewards'].append(np.sum(behav['water']))\n",
    "\n",
    "        if np.unique(behav['session'])[0] != session_id:\n",
    "            day_counter = 1\n",
    "            session_id = np.unique(behav['session'])[0]\n",
    "            circletrack_results['context_day'].append(day_counter)\n",
    "        else:\n",
    "            day_counter += 1\n",
    "            session_id = np.unique(behav['session'])[0]\n",
    "            circletrack_results['context_day'].append(day_counter)\n",
    "ct_df = pd.DataFrame(circletrack_results)"
   ]
  },
  {
   "cell_type": "code",
   "execution_count": null,
   "metadata": {},
   "outputs": [],
   "source": [
    "## Plot lick accuracy or rewards by changing yvar\n",
    "yvar = 'lick_accuracy'\n",
    "context_colors = ['midnightblue', 'red', 'darkorchid', 'forestgreen']\n",
    "fig = pf.custom_graph_template(x_title='', y_title='', rows=1, columns=3, width=900,\n",
    "                               titles=['Young Adult', 'Middle Aged', 'Aged'], shared_y=True, shared_x=True)\n",
    "session_list = ['A', 'B', 'C', 'D']\n",
    "acc_contexts = pd.DataFrame()\n",
    "for session in session_list:\n",
    "    loop_data = ct_df[ct_df['session'] == session]\n",
    "    acc_contexts = pd.concat([acc_contexts, loop_data], ignore_index=True)\n",
    "grouped_data = acc_contexts.groupby(['group', 'context_day', 'session'], as_index=False).agg({yvar: ['mean', 'sem']})\n",
    "\n",
    "for idx, group in enumerate(reversed(grouped_data['group'].unique())):\n",
    "    gdata = grouped_data[grouped_data['group'] == group]\n",
    "    for sess_idx, session in enumerate(gdata['session'].unique()):\n",
    "        plot_data = gdata[gdata['session'] == session]\n",
    "        fig.add_trace(go.Scatter(x=plot_data['context_day'], y=plot_data[yvar]['mean'],\n",
    "                                 name=session, line_color=context_colors[sess_idx], legendgroup=session, showlegend=False,\n",
    "                                 error_y=dict(type='data', array=plot_data[yvar]['sem'])), row=1, col=idx+1)\n",
    "fig['data'][0]['showlegend'] = True\n",
    "fig['data'][1]['showlegend'] = True\n",
    "fig['data'][2]['showlegend'] = True\n",
    "fig['data'][3]['showlegend'] = True\n",
    "if yvar == 'lick_accuracy':\n",
    "    fig.add_hline(y=25, line_width=1, line_dash='dash', line_color=chance_color, opacity=1)\n",
    "    fig.update_yaxes(title='Lick Accuracy (%)', col=1, range=[0, 100])\n",
    "else:\n",
    "    fig.update_yaxes(title='Rewards', col=1)\n",
    "fig.update_xaxes(title='Day in Context')\n",
    "fig.show()\n",
    "fig.write_image(pjoin(fig_path, f'ages_and_contexts_{yvar}.png'))"
   ]
  },
  {
   "cell_type": "markdown",
   "metadata": {},
   "source": [
    "### Look at the density of licks around rewarded and non-rewarded ports."
   ]
  },
  {
   "cell_type": "code",
   "execution_count": null,
   "metadata": {},
   "outputs": [],
   "source": [
    "lick_dict = {'mouse': [], 'day': [], 'context_day': [], 'group': [], 'session': [], 'reward_ports': [],\n",
    "             'front_ports': [], 'back_ports': [], 'final_ports': []}\n",
    "for mouse in os.listdir(circle_path)[:-1]: ##.DS_store\n",
    "    mouse_path = pjoin(circle_path, mouse)\n",
    "    group = 'Young Adult' if mouse in young_adult else 'Middle Aged' if mouse in middle_aged else 'Aged'\n",
    "    session_id = np.nan\n",
    "    day_counter = 1\n",
    "    for idx, session in enumerate(os.listdir(mouse_path)):\n",
    "        behav = pd.read_feather(pjoin(mouse_path, f'{session}'))\n",
    "        behav = behav[~behav['probe']]\n",
    "        reward_one, reward_two = behav['reward_one'].unique()[0], behav['reward_two'].unique()[0]\n",
    "        front_ports, back_ports = ctb.front_back_ports(reward_list=[reward_one, reward_two])\n",
    "\n",
    "        lick_data = behav[behav['lick_port'] != -1]\n",
    "        port_licks = lick_data.groupby(['lick_port'], as_index=False).agg({'lick_port': 'count'})\n",
    "        total_licks = lick_data.agg({'lick_port': 'count'})['lick_port']\n",
    "        reward_port_licks = 0\n",
    "        front_port_licks = 0\n",
    "        back_port_licks = 0\n",
    "        final_port_licks = 0\n",
    "        for _, row in port_licks.iterrows():\n",
    "            p_num = row['lick_port']\n",
    "            if p_num in [reward_one, reward_two]:\n",
    "                reward_port_licks = reward_port_licks + row['lick_port']\n",
    "            elif p_num in front_ports:\n",
    "                front_port_licks = front_port_licks + row['lick_port']\n",
    "            elif p_num in back_ports:\n",
    "                back_port_licks = back_port_licks + row['lick_port']\n",
    "            else:\n",
    "                final_port_licks = final_port_licks + row['lick_port']\n",
    "\n",
    "        lick_dict['mouse'].append(mouse)\n",
    "        lick_dict['day'].append(idx+1)\n",
    "        lick_dict['group'].append(group)\n",
    "        lick_dict['session'].append(behav['session'].unique()[0])\n",
    "        lick_dict['reward_ports'].append((reward_port_licks / total_licks) * 100)\n",
    "        lick_dict['front_ports'].append((front_port_licks / total_licks) * 100)\n",
    "        lick_dict['back_ports'].append((back_port_licks / total_licks) * 100)\n",
    "        lick_dict['final_ports'].append((final_port_licks / total_licks) * 100)\n",
    "\n",
    "        if behav['session'].unique()[0] != session_id:\n",
    "            day_counter = 1\n",
    "            session_id = behav['session'].unique()[0]\n",
    "            lick_dict['context_day'].append(day_counter)\n",
    "        else:\n",
    "            day_counter += 1\n",
    "            session_id = behav['session'].unique()[0]\n",
    "            lick_dict['context_day'].append(day_counter)\n",
    "lick_df = pd.DataFrame(lick_dict)\n",
    "avg_licks = lick_df.groupby(['context_day', 'group', 'session'], as_index=False).agg({'reward_ports': ['mean', 'sem'], 'front_ports': ['mean', 'sem'],\n",
    "                                                                                      'back_ports': ['mean', 'sem'], 'final_ports': ['mean', 'sem']})"
   ]
  },
  {
   "cell_type": "code",
   "execution_count": null,
   "metadata": {},
   "outputs": [],
   "source": [
    "## Young mice in A\n",
    "age_group = 'Young Adult'\n",
    "context = 'A'\n",
    "x_axis = ['RP', 'FP', 'BP', 'LP']\n",
    "licks = avg_licks[(avg_licks['group'] == age_group) & (avg_licks['session'] == context)]\n",
    "fig = pf.custom_graph_template(x_title='', y_title='', rows=3, columns=4, shared_y=True, height=800, width=800,\n",
    "                               titles=[f'Day {x}' for x in np.arange(1, licks.shape[0]+1)])\n",
    "for idx, day in enumerate(licks['context_day'].unique()):\n",
    "    if idx < 4:\n",
    "        row, col = 1, idx + 1\n",
    "    elif (idx >= 4) & (idx < 8):\n",
    "        row, col = 2, idx - 3\n",
    "    else:\n",
    "        row, col = 3, idx - 7\n",
    "\n",
    "    pdata = licks[licks['context_day'] == day]\n",
    "    y_data = [pdata['reward_ports']['mean'].values[0],\n",
    "              pdata['front_ports']['mean'].values[0],\n",
    "              pdata['back_ports']['mean'].values[0],\n",
    "              pdata['final_ports']['mean'].values[0]]\n",
    "    y_sem = [pdata['reward_ports']['sem'].values[0],\n",
    "              pdata['front_ports']['sem'].values[0],\n",
    "              pdata['back_ports']['sem'].values[0],\n",
    "              pdata['final_ports']['sem'].values[0]]\n",
    "    fig.add_trace(go.Bar(x=x_axis, y=y_data, showlegend=False, marker_color=group_colors_dict[age_group],\n",
    "                         error_y=dict(type='data', array=y_sem), marker_line_color='black', marker_line_width=2), row=row, col=col)\n",
    "\n",
    "sub_df = lick_df[(lick_df['session'] == context) & (lick_df['group'] == age_group)]\n",
    "for mouse in sub_df['mouse'].unique():\n",
    "    mdata = sub_df[sub_df['mouse'] == mouse]\n",
    "    for idx, day in enumerate(mdata['context_day'].unique()):\n",
    "        if idx < 4:\n",
    "            row, col = 1, idx + 1\n",
    "        elif (idx >= 4) & (idx < 8):\n",
    "            row, col = 2, idx - 3\n",
    "        else:\n",
    "            row, col = 3, idx - 7\n",
    "        \n",
    "        data = mdata[mdata['context_day'] == day]\n",
    "        fig.add_trace(go.Scatter(x=x_axis, y=data.loc[:, ['reward_ports', 'front_ports', 'back_ports', 'final_ports']].to_numpy()[0],\n",
    "                                 mode='markers', marker_color=group_colors_dict[age_group], marker=dict(line=dict(width=1)),\n",
    "                                 name=mouse, showlegend=False, opacity=0.6), row=row, col=col)\n",
    "fig.update_yaxes(title='Percent of Licks', col=1, dtick=25, range=[0, 100])\n",
    "fig.show()"
   ]
  },
  {
   "cell_type": "code",
   "execution_count": null,
   "metadata": {},
   "outputs": [],
   "source": [
    "## Middle aged mice in A\n",
    "age_group = 'Middle Aged'\n",
    "context = 'A'\n",
    "x_axis = ['RP', 'FP', 'BP', 'LP']\n",
    "licks = avg_licks[(avg_licks['group'] == age_group) & (avg_licks['session'] == context)]\n",
    "fig = pf.custom_graph_template(x_title='', y_title='', rows=3, columns=4, shared_y=True, height=800, width=800,\n",
    "                               titles=[f'Day {x}' for x in np.arange(1, licks.shape[0]+1)])\n",
    "for idx, day in enumerate(licks['context_day'].unique()):\n",
    "    if idx < 4:\n",
    "        row, col = 1, idx + 1\n",
    "    elif (idx >= 4) & (idx < 8):\n",
    "        row, col = 2, idx - 3\n",
    "    else:\n",
    "        row, col = 3, idx - 7\n",
    "\n",
    "    pdata = licks[licks['context_day'] == day]\n",
    "    y_data = [pdata['reward_ports']['mean'].values[0],\n",
    "              pdata['front_ports']['mean'].values[0],\n",
    "              pdata['back_ports']['mean'].values[0],\n",
    "              pdata['final_ports']['mean'].values[0]]\n",
    "    y_sem = [pdata['reward_ports']['sem'].values[0],\n",
    "              pdata['front_ports']['sem'].values[0],\n",
    "              pdata['back_ports']['sem'].values[0],\n",
    "              pdata['final_ports']['sem'].values[0]]\n",
    "    fig.add_trace(go.Bar(x=x_axis, y=y_data, showlegend=False, marker_color=group_colors_dict[age_group],\n",
    "                         error_y=dict(type='data', array=y_sem), marker_line_color='black', marker_line_width=2), row=row, col=col)\n",
    "\n",
    "sub_df = lick_df[(lick_df['session'] == context) & (lick_df['group'] == age_group)]\n",
    "for mouse in sub_df['mouse'].unique():\n",
    "    mdata = sub_df[sub_df['mouse'] == mouse]\n",
    "    for idx, day in enumerate(mdata['context_day'].unique()):\n",
    "        if idx < 4:\n",
    "            row, col = 1, idx + 1\n",
    "        elif (idx >= 4) & (idx < 8):\n",
    "            row, col = 2, idx - 3\n",
    "        else:\n",
    "            row, col = 3, idx - 7\n",
    "        \n",
    "        data = mdata[mdata['context_day'] == day]\n",
    "        fig.add_trace(go.Scatter(x=x_axis, y=data.loc[:, ['reward_ports', 'front_ports', 'back_ports', 'final_ports']].to_numpy()[0],\n",
    "                                 mode='markers', marker_color=group_colors_dict[age_group], marker=dict(line=dict(width=1)),\n",
    "                                 name=mouse, showlegend=False, opacity=0.6), row=row, col=col)\n",
    "fig.update_yaxes(title='Percent of Licks', col=1, dtick=25, range=[0, 100])\n",
    "fig.show()"
   ]
  },
  {
   "cell_type": "code",
   "execution_count": null,
   "metadata": {},
   "outputs": [],
   "source": [
    "## Aged mice in A\n",
    "age_group = 'Aged'\n",
    "context = 'A'\n",
    "x_axis = ['RP', 'FP', 'BP', 'LP']\n",
    "licks = avg_licks[(avg_licks['group'] == age_group) & (avg_licks['session'] == context)]\n",
    "fig = pf.custom_graph_template(x_title='', y_title='', rows=3, columns=4, shared_y=True, height=800, width=800,\n",
    "                               titles=[f'Day {x}' for x in np.arange(1, licks.shape[0]+1)])\n",
    "for idx, day in enumerate(licks['context_day'].unique()):\n",
    "    if idx < 4:\n",
    "        row, col = 1, idx + 1\n",
    "    elif (idx >= 4) & (idx < 8):\n",
    "        row, col = 2, idx - 3\n",
    "    else:\n",
    "        row, col = 3, idx - 7\n",
    "\n",
    "    pdata = licks[licks['context_day'] == day]\n",
    "    y_data = [pdata['reward_ports']['mean'].values[0],\n",
    "              pdata['front_ports']['mean'].values[0],\n",
    "              pdata['back_ports']['mean'].values[0],\n",
    "              pdata['final_ports']['mean'].values[0]]\n",
    "    y_sem = [pdata['reward_ports']['sem'].values[0],\n",
    "              pdata['front_ports']['sem'].values[0],\n",
    "              pdata['back_ports']['sem'].values[0],\n",
    "              pdata['final_ports']['sem'].values[0]]\n",
    "    fig.add_trace(go.Bar(x=x_axis, y=y_data, showlegend=False, marker_color=group_colors_dict[age_group],\n",
    "                         error_y=dict(type='data', array=y_sem), marker_line_color='black', marker_line_width=2), row=row, col=col)\n",
    "\n",
    "sub_df = lick_df[(lick_df['session'] == context) & (lick_df['group'] == age_group)]\n",
    "for mouse in sub_df['mouse'].unique():\n",
    "    mdata = sub_df[sub_df['mouse'] == mouse]\n",
    "    for idx, day in enumerate(mdata['context_day'].unique()):\n",
    "        if idx < 4:\n",
    "            row, col = 1, idx + 1\n",
    "        elif (idx >= 4) & (idx < 8):\n",
    "            row, col = 2, idx - 3\n",
    "        else:\n",
    "            row, col = 3, idx - 7\n",
    "        \n",
    "        data = mdata[mdata['context_day'] == day]\n",
    "        fig.add_trace(go.Scatter(x=x_axis, y=data.loc[:, ['reward_ports', 'front_ports', 'back_ports', 'final_ports']].to_numpy()[0],\n",
    "                                 mode='markers', marker_color=group_colors_dict[age_group], marker=dict(line=dict(width=1)),\n",
    "                                 name=mouse, showlegend=False, opacity=0.6), row=row, col=col)\n",
    "fig.update_yaxes(title='Percent of Licks', col=1, dtick=25, range=[0, 100])\n",
    "fig.show()"
   ]
  },
  {
   "cell_type": "code",
   "execution_count": null,
   "metadata": {},
   "outputs": [],
   "source": [
    "## Young mice in B\n",
    "age_group = 'Young Adult'\n",
    "context = 'B'\n",
    "x_axis = ['RP', 'FP', 'BP', 'LP']\n",
    "licks = avg_licks[(avg_licks['group'] == age_group) & (avg_licks['session'] == context)]\n",
    "fig = pf.custom_graph_template(x_title='', y_title='', rows=2, columns=4, shared_y=True, height=600, width=800,\n",
    "                               titles=[f'Day {x}' for x in np.arange(1, licks.shape[0]+1)])\n",
    "for idx, day in enumerate(licks['context_day'].unique()):\n",
    "    if idx < 4:\n",
    "        row, col = 1, idx + 1\n",
    "    elif (idx >= 4) & (idx < 8):\n",
    "        row, col = 2, idx - 3\n",
    "    else:\n",
    "        row, col = 3, idx - 7\n",
    "\n",
    "    pdata = licks[licks['context_day'] == day]\n",
    "    y_data = [pdata['reward_ports']['mean'].values[0],\n",
    "              pdata['front_ports']['mean'].values[0],\n",
    "              pdata['back_ports']['mean'].values[0],\n",
    "              pdata['final_ports']['mean'].values[0]]\n",
    "    y_sem = [pdata['reward_ports']['sem'].values[0],\n",
    "              pdata['front_ports']['sem'].values[0],\n",
    "              pdata['back_ports']['sem'].values[0],\n",
    "              pdata['final_ports']['sem'].values[0]]\n",
    "    fig.add_trace(go.Bar(x=x_axis, y=y_data, showlegend=False, marker_color=group_colors_dict[age_group],\n",
    "                         error_y=dict(type='data', array=y_sem), marker_line_color='black', marker_line_width=2), row=row, col=col)\n",
    "\n",
    "sub_df = lick_df[(lick_df['session'] == context) & (lick_df['group'] == age_group)]\n",
    "for mouse in sub_df['mouse'].unique():\n",
    "    mdata = sub_df[sub_df['mouse'] == mouse]\n",
    "    for idx, day in enumerate(mdata['context_day'].unique()):\n",
    "        if idx < 4:\n",
    "            row, col = 1, idx + 1\n",
    "        elif (idx >= 4) & (idx < 8):\n",
    "            row, col = 2, idx - 3\n",
    "        \n",
    "        data = mdata[mdata['context_day'] == day]\n",
    "        fig.add_trace(go.Scatter(x=x_axis, y=data.loc[:, ['reward_ports', 'front_ports', 'back_ports', 'final_ports']].to_numpy()[0],\n",
    "                                 mode='markers', marker_color=group_colors_dict[age_group], marker=dict(line=dict(width=1)),\n",
    "                                 name=mouse, showlegend=False, opacity=0.6), row=row, col=col)\n",
    "fig.update_yaxes(title='Percent of Licks', col=1, dtick=25, range=[0, 100])\n",
    "fig.show()"
   ]
  },
  {
   "cell_type": "code",
   "execution_count": null,
   "metadata": {},
   "outputs": [],
   "source": [
    "## Middle aged mice in B\n",
    "age_group = 'Middle Aged'\n",
    "context = 'B'\n",
    "x_axis = ['RP', 'FP', 'BP', 'LP']\n",
    "licks = avg_licks[(avg_licks['group'] == age_group) & (avg_licks['session'] == context)]\n",
    "fig = pf.custom_graph_template(x_title='', y_title='', rows=2, columns=4, shared_y=True, height=600, width=800,\n",
    "                               titles=[f'Day {x}' for x in np.arange(1, licks.shape[0]+1)])\n",
    "for idx, day in enumerate(licks['context_day'].unique()):\n",
    "    if idx < 4:\n",
    "        row, col = 1, idx + 1\n",
    "    elif (idx >= 4) & (idx < 8):\n",
    "        row, col = 2, idx - 3\n",
    "\n",
    "    pdata = licks[licks['context_day'] == day]\n",
    "    y_data = [pdata['reward_ports']['mean'].values[0],\n",
    "              pdata['front_ports']['mean'].values[0],\n",
    "              pdata['back_ports']['mean'].values[0],\n",
    "              pdata['final_ports']['mean'].values[0]]\n",
    "    y_sem = [pdata['reward_ports']['sem'].values[0],\n",
    "              pdata['front_ports']['sem'].values[0],\n",
    "              pdata['back_ports']['sem'].values[0],\n",
    "              pdata['final_ports']['sem'].values[0]]\n",
    "    fig.add_trace(go.Bar(x=x_axis, y=y_data, showlegend=False, marker_color=group_colors_dict[age_group],\n",
    "                         error_y=dict(type='data', array=y_sem), marker_line_color='black', marker_line_width=2), row=row, col=col)\n",
    "\n",
    "sub_df = lick_df[(lick_df['session'] == context) & (lick_df['group'] == age_group)]\n",
    "for mouse in sub_df['mouse'].unique():\n",
    "    mdata = sub_df[sub_df['mouse'] == mouse]\n",
    "    for idx, day in enumerate(mdata['context_day'].unique()):\n",
    "        if idx < 4:\n",
    "            row, col = 1, idx + 1\n",
    "        elif (idx >= 4) & (idx < 8):\n",
    "            row, col = 2, idx - 3\n",
    "        \n",
    "        data = mdata[mdata['context_day'] == day]\n",
    "        fig.add_trace(go.Scatter(x=x_axis, y=data.loc[:, ['reward_ports', 'front_ports', 'back_ports', 'final_ports']].to_numpy()[0],\n",
    "                                 mode='markers', marker_color=group_colors_dict[age_group], marker=dict(line=dict(width=1)),\n",
    "                                 name=mouse, showlegend=False, opacity=0.6), row=row, col=col)\n",
    "fig.update_yaxes(title='Percent of Licks', col=1, dtick=25, range=[0, 100])\n",
    "fig.show()"
   ]
  },
  {
   "cell_type": "code",
   "execution_count": null,
   "metadata": {},
   "outputs": [],
   "source": [
    "## Aged mice in B\n",
    "age_group = 'Aged'\n",
    "context = 'B'\n",
    "x_axis = ['RP', 'FP', 'BP', 'LP']\n",
    "licks = avg_licks[(avg_licks['group'] == age_group) & (avg_licks['session'] == context)]\n",
    "fig = pf.custom_graph_template(x_title='', y_title='', rows=4, columns=4, shared_y=True, height=1000, width=800,\n",
    "                               titles=[f'Day {x}' for x in np.arange(1, licks.shape[0]+1)])\n",
    "for idx, day in enumerate(licks['context_day'].unique()):\n",
    "    if idx < 4:\n",
    "        row, col = 1, idx + 1\n",
    "    elif (idx >= 4) & (idx < 8):\n",
    "        row, col = 2, idx - 3\n",
    "    elif (idx >= 8) & (idx < 12):\n",
    "        row, col = 3, idx - 7\n",
    "    else:\n",
    "        row, col = 4, idx - 11\n",
    "\n",
    "    pdata = licks[licks['context_day'] == day]\n",
    "    y_data = [pdata['reward_ports']['mean'].values[0],\n",
    "              pdata['front_ports']['mean'].values[0],\n",
    "              pdata['back_ports']['mean'].values[0],\n",
    "              pdata['final_ports']['mean'].values[0]]\n",
    "    y_sem = [pdata['reward_ports']['sem'].values[0],\n",
    "              pdata['front_ports']['sem'].values[0],\n",
    "              pdata['back_ports']['sem'].values[0],\n",
    "              pdata['final_ports']['sem'].values[0]]\n",
    "    fig.add_trace(go.Bar(x=x_axis, y=y_data, showlegend=False, marker_color=group_colors_dict[age_group],\n",
    "                         error_y=dict(type='data', array=y_sem), marker_line_color='black', marker_line_width=2), row=row, col=col)\n",
    "\n",
    "sub_df = lick_df[(lick_df['session'] == context) & (lick_df['group'] == age_group)]\n",
    "for mouse in sub_df['mouse'].unique():\n",
    "    mdata = sub_df[sub_df['mouse'] == mouse]\n",
    "    for idx, day in enumerate(mdata['context_day'].unique()):\n",
    "        if idx < 4:\n",
    "            row, col = 1, idx + 1\n",
    "        elif (idx >= 4) & (idx < 8):\n",
    "            row, col = 2, idx - 3\n",
    "        elif (idx >= 8) & (idx < 12):\n",
    "            row, col = 3, idx - 7\n",
    "        else:\n",
    "            row, col = 4, idx - 11\n",
    "        \n",
    "        data = mdata[mdata['context_day'] == day]\n",
    "        fig.add_trace(go.Scatter(x=x_axis, y=data.loc[:, ['reward_ports', 'front_ports', 'back_ports', 'final_ports']].to_numpy()[0],\n",
    "                                 mode='markers', marker_color=group_colors_dict[age_group], marker=dict(line=dict(width=1)),\n",
    "                                 name=mouse, showlegend=False, opacity=0.6), row=row, col=col)\n",
    "fig.update_yaxes(title='Percent of Licks', col=1, dtick=25, range=[0, 100])\n",
    "fig.show()"
   ]
  },
  {
   "cell_type": "markdown",
   "metadata": {},
   "source": [
    "### Determine where 1st, 2nd, 3rd, 4th, and 5th licks are occurring."
   ]
  },
  {
   "cell_type": "code",
   "execution_count": null,
   "metadata": {},
   "outputs": [],
   "source": [
    "threshold_list = [1, 2, 3, 4, 5]\n",
    "lick_dict = {'mouse': [], 'day': [], 'context_day': [], 'group': [], 'session': [], 'lick_thresh': [], 'reward_ports': [],\n",
    "             'front_ports': [], 'back_ports': [], 'final_ports': []}\n",
    "for mouse in os.listdir(circle_path)[:-1]: ##.DS_store\n",
    "    mouse_path = pjoin(circle_path, mouse)\n",
    "    group = 'Young Adult' if mouse in young_adult else 'Middle Aged' if mouse in middle_aged else 'Aged'\n",
    "    session_id = np.nan\n",
    "    day_counter = 1\n",
    "    for idx, session in enumerate(os.listdir(mouse_path)):\n",
    "        day = idx + 1\n",
    "        behav = pd.read_feather(pjoin(mouse_path, f'{session}'))\n",
    "        behav = behav[~behav['probe']]\n",
    "        reward_one, reward_two = behav['reward_one'].unique()[0], behav['reward_two'].unique()[0]\n",
    "        front_ports, back_ports = ctb.front_back_ports(reward_list=[reward_one, reward_two])\n",
    "\n",
    "        licks = behav[behav['lick_port'] != -1]\n",
    "\n",
    "        if behav['session'].unique()[0] != session_id:\n",
    "            day_counter = 1\n",
    "            session_id = behav['session'].unique()[0]\n",
    "        else:\n",
    "            day_counter += 1\n",
    "            session_id = behav['session'].unique()[0]\n",
    "\n",
    "        for lick_threshold in threshold_list:\n",
    "            count = 0\n",
    "            lick_port = np.nan\n",
    "            if licks.empty:\n",
    "                pass\n",
    "            else:\n",
    "                for idx, _ in licks.iterrows():\n",
    "                    if lick_port != licks.loc[idx, 'lick_port']:\n",
    "                        count = 1\n",
    "                    else:\n",
    "                        count += 1\n",
    "                    \n",
    "                    if count < lick_threshold - 1:\n",
    "                        licks.loc[idx, 'threshold_reached'] = False\n",
    "                    elif count == lick_threshold:\n",
    "                        licks.loc[idx, 'threshold_reached'] = True\n",
    "                    else:\n",
    "                        licks.loc[idx, 'threshold_reached'] = False\n",
    "\n",
    "                    lick_port =  licks.loc[idx, 'lick_port']\n",
    "\n",
    "                port_licks = licks[['lick_port', 'threshold_reached']].groupby(['lick_port'], as_index=False).agg({'threshold_reached': 'sum'})\n",
    "                total_licks = port_licks['threshold_reached'].sum()\n",
    "                reward_port_licks = 0\n",
    "                front_port_licks = 0\n",
    "                back_port_licks = 0\n",
    "                final_port_licks = 0\n",
    "                for _, row in port_licks.iterrows():\n",
    "                    p_num = row['lick_port']\n",
    "                    if p_num in [reward_one, reward_two]:\n",
    "                        reward_port_licks = reward_port_licks + row['threshold_reached']\n",
    "                    elif p_num in front_ports:\n",
    "                        front_port_licks = front_port_licks + row['threshold_reached']\n",
    "                    elif p_num in back_ports:\n",
    "                        back_port_licks = back_port_licks + row['threshold_reached']\n",
    "                    else:\n",
    "                        final_port_licks = final_port_licks + row['threshold_reached']\n",
    "\n",
    "                lick_dict['mouse'].append(mouse)\n",
    "                lick_dict['day'].append(day)\n",
    "                lick_dict['group'].append(group)\n",
    "                lick_dict['session'].append(behav['session'].unique()[0])\n",
    "                lick_dict['lick_thresh'].append(lick_threshold)\n",
    "                lick_dict['reward_ports'].append((reward_port_licks / total_licks) * 100)\n",
    "                lick_dict['front_ports'].append((front_port_licks / total_licks) * 100)\n",
    "                lick_dict['back_ports'].append((back_port_licks / total_licks) * 100)\n",
    "                lick_dict['final_ports'].append((final_port_licks / total_licks) * 100)\n",
    "                lick_dict['context_day'].append(day_counter)\n",
    "lick_df_all = pd.DataFrame(lick_dict)\n",
    "avg_licks_all = lick_df_all.groupby(['context_day', 'group', 'session', 'lick_thresh'], as_index=False).agg({'reward_ports': ['mean', 'sem'], 'front_ports': ['mean', 'sem'],\n",
    "                                                                                                             'back_ports': ['mean', 'sem'], 'final_ports': ['mean', 'sem']})"
   ]
  },
  {
   "cell_type": "code",
   "execution_count": null,
   "metadata": {},
   "outputs": [],
   "source": [
    "## Thresh5 for all ports\n",
    "age_group = 'Aged'\n",
    "context = 'B'\n",
    "thresh = 5\n",
    "x_axis = ['RP', 'FP', 'BP', 'LP']\n",
    "licks = avg_licks_all[(avg_licks_all['group'] == age_group) & (avg_licks_all['session'] == context) & (avg_licks_all['lick_thresh'] == thresh)]\n",
    "fig = pf.custom_graph_template(x_title='', y_title='', rows=4, columns=4, shared_y=True, height=800, width=800,\n",
    "                               titles=[f'Day {x}' for x in np.arange(1, licks.shape[0]+1)])\n",
    "for idx, day in enumerate(licks['context_day'].unique()):\n",
    "    if idx < 4:\n",
    "        row, col = 1, idx + 1\n",
    "    elif (idx >= 4) & (idx < 8):\n",
    "        row, col = 2, idx - 3\n",
    "    elif (idx >= 8) & (idx < 12):\n",
    "        row, col = 3, idx - 7\n",
    "    else:\n",
    "        row, col = 4, idx - 11\n",
    "\n",
    "    pdata = licks[licks['context_day'] == day]\n",
    "    y_data = [pdata['reward_ports']['mean'].values[0],\n",
    "              pdata['front_ports']['mean'].values[0],\n",
    "              pdata['back_ports']['mean'].values[0],\n",
    "              pdata['final_ports']['mean'].values[0]]\n",
    "    y_sem = [pdata['reward_ports']['sem'].values[0],\n",
    "              pdata['front_ports']['sem'].values[0],\n",
    "              pdata['back_ports']['sem'].values[0],\n",
    "              pdata['final_ports']['sem'].values[0]]\n",
    "    fig.add_trace(go.Bar(x=x_axis, y=y_data, showlegend=False, marker_color=group_colors_dict[age_group],\n",
    "                         error_y=dict(type='data', array=y_sem), marker_line_color='black', marker_line_width=2), row=row, col=col)\n",
    "\n",
    "sub_df = lick_df_all[(lick_df_all['session'] == context) & (lick_df_all['group'] == age_group) & (lick_df_all['lick_thresh'] == thresh)]\n",
    "for mouse in sub_df['mouse'].unique():\n",
    "    mdata = sub_df[sub_df['mouse'] == mouse]\n",
    "    for idx, day in enumerate(mdata['context_day'].unique()):\n",
    "        if idx < 4:\n",
    "            row, col = 1, idx + 1\n",
    "        elif (idx >= 4) & (idx < 8):\n",
    "            row, col = 2, idx - 3\n",
    "        elif (idx >= 8) & (idx < 12):\n",
    "            row, col = 3, idx - 7\n",
    "        else:\n",
    "            row, col = 4, idx - 11\n",
    "        \n",
    "        \n",
    "        data = mdata[mdata['context_day'] == day]\n",
    "        fig.add_trace(go.Scatter(x=x_axis, y=data.loc[:, ['reward_ports', 'front_ports', 'back_ports', 'final_ports']].to_numpy()[0],\n",
    "                                 mode='markers', marker_color=group_colors_dict[age_group], marker=dict(line=dict(width=1)),\n",
    "                                 name=mouse, showlegend=False, opacity=0.6), row=row, col=col)\n",
    "fig.update_yaxes(title='Percent of Licks', col=1, dtick=25, range=[0, 100])\n",
    "fig.show()\n",
    "fig.write_image(pjoin(fig_path, f'portlicking_thresh{thresh}_context{context}_{age_group}.png'))"
   ]
  },
  {
   "cell_type": "code",
   "execution_count": null,
   "metadata": {},
   "outputs": [],
   "source": [
    "## Aged mice in B\n",
    "age_group = 'Aged'\n",
    "context = 'B'\n",
    "thresh = 5\n",
    "x_axis = ['RP', 'FP', 'BP', 'LP']\n",
    "licks = avg_licks_all[(avg_licks_all['group'] == age_group) & (avg_licks_all['session'] == context) & (avg_licks_all['lick_thresh'] == thresh)]\n",
    "fig = pf.custom_graph_template(x_title='', y_title='', rows=3, columns=4, shared_y=True, height=800, width=800,\n",
    "                               titles=[f'Day {x}' for x in np.arange(1, licks.shape[0]+1)])\n",
    "for idx, day in enumerate(licks['context_day'].unique()):\n",
    "    if idx < 4:\n",
    "        row, col = 1, idx + 1\n",
    "    elif (idx >= 4) & (idx < 8):\n",
    "        row, col = 2, idx - 3\n",
    "    else:\n",
    "        row, col = 3, idx - 7\n",
    "\n",
    "    pdata = licks[licks['context_day'] == day]\n",
    "    y_data = [pdata['reward_ports']['mean'].values[0],\n",
    "              pdata['front_ports']['mean'].values[0],\n",
    "              pdata['back_ports']['mean'].values[0],\n",
    "              pdata['final_ports']['mean'].values[0]]\n",
    "    y_sem = [pdata['reward_ports']['sem'].values[0],\n",
    "              pdata['front_ports']['sem'].values[0],\n",
    "              pdata['back_ports']['sem'].values[0],\n",
    "              pdata['final_ports']['sem'].values[0]]\n",
    "    fig.add_trace(go.Bar(x=x_axis, y=y_data, showlegend=False, marker_color=group_colors_dict[age_group],\n",
    "                         error_y=dict(type='data', array=y_sem), marker_line_color='black', marker_line_width=2), row=row, col=col)\n",
    "\n",
    "sub_df = lick_df_all[(lick_df_all['session'] == context) & (lick_df_all['group'] == age_group) & (lick_df_all['lick_thresh'] == thresh)]\n",
    "for mouse in sub_df['mouse'].unique():\n",
    "    mdata = sub_df[sub_df['mouse'] == mouse]\n",
    "    for idx, day in enumerate(mdata['context_day'].unique()):\n",
    "        if idx < 4:\n",
    "            row, col = 1, idx + 1\n",
    "        elif (idx >= 4) & (idx < 8):\n",
    "            row, col = 2, idx - 3\n",
    "        else:\n",
    "            row, col = 3, idx - 7\n",
    "        \n",
    "        \n",
    "        data = mdata[mdata['context_day'] == day]\n",
    "        fig.add_trace(go.Scatter(x=x_axis, y=data.loc[:, ['reward_ports', 'front_ports', 'back_ports', 'final_ports']].to_numpy()[0],\n",
    "                                 mode='markers', marker_color=group_colors_dict[age_group], marker=dict(line=dict(width=1)),\n",
    "                                 name=mouse, showlegend=False, opacity=0.6), row=row, col=col)\n",
    "fig.update_yaxes(title='Percent of Licks', col=1, dtick=25, range=[0, 100])\n",
    "fig.show()\n",
    "fig.write_image(pjoin(fig_path, f'portlicking_thresh{thresh}_context{context}_{age_group}.png'))"
   ]
  },
  {
   "cell_type": "markdown",
   "metadata": {},
   "source": [
    "### Position of a mouse across the session."
   ]
  },
  {
   "cell_type": "code",
   "execution_count": null,
   "metadata": {},
   "outputs": [],
   "source": [
    "## Plot linear position across time with licks and rewards\n",
    "mouse = 'mca36' \n",
    "session_list = ['1', '10']\n",
    "fig = pf.custom_graph_template(x_title='', y_title='', rows=2, columns=1, titles=['First Day', 'Last Day'],\n",
    "                               width=600, height=600, shared_x=True, shared_y=True)\n",
    "for idx, session in enumerate(session_list):\n",
    "    behav = pd.read_feather(pjoin(circle_path, f'{mouse}/{mouse}_{session}.feat'))\n",
    "    fig.add_trace(go.Scatter(x=behav['t'], y=behav['lin_position'], mode='lines', line_color='darkgrey', showlegend=False), row=idx+1, col=1)\n",
    "    fig.add_trace(go.Scatter(x=behav['t'][behav['lick_port'] != -1], y=behav['lin_position'][behav['lick_port'] != -1], showlegend=False,\n",
    "                            mode='markers', marker_color='black', opacity=0.6, marker_size=4,\n",
    "                            name='Licks', legendgroup='Licks'), row=idx+1, col=1)\n",
    "    fig.add_trace(go.Scatter(x=behav['t'][behav['water']], y=behav['lin_position'][behav['water']], showlegend=False,\n",
    "                            mode='markers', marker_color='red', opacity=0.6, name='Rewards', legendgroup='Rewards'), row=idx+1, col=1)\n",
    "fig['data'][1]['showlegend'] = True\n",
    "fig['data'][2]['showlegend'] = True\n",
    "fig.update_xaxes(title='Time (s)', row=2)\n",
    "fig.update_yaxes(title='Position (rad)', col=1)\n",
    "fig.show()\n",
    "fig.write_image(pjoin(fig_path, f'lin_position_{mouse}_{session_list[0]}_{session_list[1]}.png'))"
   ]
  },
  {
   "cell_type": "markdown",
   "metadata": {},
   "source": [
    "### Number of trials."
   ]
  },
  {
   "cell_type": "code",
   "execution_count": 11,
   "metadata": {},
   "outputs": [],
   "source": [
    "trial_res = {'mouse': [], 'context_day': [], 'group': [], 'session': [], 'num_trials': []}\n",
    "for mouse in os.listdir(circle_path)[:-1]:\n",
    "    mouse_path = pjoin(circle_path, mouse)\n",
    "    group = 'Young Adult' if mouse in young_adult else 'Middle Aged' if mouse in middle_aged else 'Aged'\n",
    "    session_id = np.nan\n",
    "    day_counter = 1\n",
    "    for idx, session in enumerate(os.listdir(mouse_path)):\n",
    "            behav = pd.read_feather(pjoin(mouse_path, f'{session}'))\n",
    "            trial_res['mouse'].append(mouse)\n",
    "            trial_res['group'].append(group)\n",
    "            trial_res['session'].append(behav['session'].unique()[0])\n",
    "            trial_res['num_trials'].append(behav['trials'].unique()[-1])\n",
    "\n",
    "            if behav['session'].unique()[0] != session_id:\n",
    "                day_counter = 1\n",
    "                session_id = behav['session'].unique()[0]\n",
    "                trial_res['context_day'].append(day_counter)\n",
    "            else:\n",
    "                day_counter += 1\n",
    "                session_id = behav['session'].unique()[0]\n",
    "                trial_res['context_day'].append(day_counter)\n",
    "trial_df = pd.DataFrame(trial_res)"
   ]
  },
  {
   "cell_type": "code",
   "execution_count": 14,
   "metadata": {},
   "outputs": [
    {
     "data": {
      "application/vnd.plotly.v1+json": {
       "config": {
        "plotlyServerURL": "https://plot.ly"
       },
       "data": [
        {
         "error_y": {
          "array": [
           2.49284690951645,
           3.359421718944242,
           3.336754197034683,
           2.964070560178061,
           4.602018190812746,
           5.697594670912771,
           4.0886020430786205,
           3.646154747736915,
           2.4140790744666543,
           4.066939881532551,
           4.363484845854286
          ],
          "type": "data"
         },
         "legendgroup": "A",
         "line": {
          "color": "midnightblue"
         },
         "name": "A",
         "showlegend": true,
         "type": "scatter",
         "x": [
          1,
          2,
          3,
          4,
          5,
          6,
          7,
          8,
          9,
          10,
          11
         ],
         "xaxis": "x",
         "y": [
          19.5,
          26,
          33.75,
          36,
          35.5,
          46.285714285714285,
          41.5,
          42.166666666666664,
          41.166666666666664,
          42.2,
          44.8
         ],
         "yaxis": "y"
        },
        {
         "error_y": {
          "array": [
           1.8101894139248842,
           2.220038609702865,
           1.9062865921546452,
           5.662375826453062,
           null
          ],
          "type": "data"
         },
         "legendgroup": "B",
         "line": {
          "color": "red"
         },
         "name": "B",
         "showlegend": true,
         "type": "scatter",
         "x": [
          1,
          2,
          3,
          4,
          5
         ],
         "xaxis": "x",
         "y": [
          47.75,
          46,
          49.75,
          52.75,
          61
         ],
         "yaxis": "y"
        },
        {
         "error_y": {
          "array": [
           4.309199047221122,
           3.1506093514928644,
           2.1356757972855127,
           11.794537341969422,
           4.5,
           5
          ],
          "type": "data"
         },
         "legendgroup": "C",
         "line": {
          "color": "darkorchid"
         },
         "name": "C",
         "showlegend": true,
         "type": "scatter",
         "x": [
          1,
          2,
          3,
          4,
          5,
          6
         ],
         "xaxis": "x",
         "y": [
          50.375,
          46.625,
          44.833333333333336,
          44.666666666666664,
          44.5,
          40
         ],
         "yaxis": "y"
        },
        {
         "error_y": {
          "array": [
           3.797320483860015,
           5.942995577027752,
           4.34091435241079,
           7.505553499465135,
           2.9999999999999996
          ],
          "type": "data"
         },
         "legendgroup": "D",
         "line": {
          "color": "forestgreen"
         },
         "name": "D",
         "showlegend": true,
         "type": "scatter",
         "x": [
          1,
          2,
          3,
          4,
          5
         ],
         "xaxis": "x",
         "y": [
          51.25,
          52.375,
          48.285714285714285,
          49,
          57
         ],
         "yaxis": "y"
        },
        {
         "error_y": {
          "array": [
           1.14953406710222,
           2.6987927195057315,
           2.2275667378169772,
           2.2712292140726666,
           2.3256143581550965,
           4.657702913300871,
           2.4671954870720256,
           3.8544964466377256,
           4.312564699307627,
           3.232645975048923,
           6.913754406977442
          ],
          "type": "data"
         },
         "legendgroup": "A",
         "line": {
          "color": "midnightblue"
         },
         "name": "A",
         "showlegend": false,
         "type": "scatter",
         "x": [
          1,
          2,
          3,
          4,
          5,
          6,
          7,
          8,
          9,
          10,
          11
         ],
         "xaxis": "x2",
         "y": [
          11.5,
          16.375,
          21.625,
          29.125,
          34.125,
          38.125,
          33.125,
          39,
          40.75,
          40.5,
          44
         ],
         "yaxis": "y2"
        },
        {
         "error_y": {
          "array": [
           2.9459415181858972,
           3.769887739897379,
           2.6186146828319083,
           4.0858835573770875,
           3.400367627183861,
           2.5
          ],
          "type": "data"
         },
         "legendgroup": "B",
         "line": {
          "color": "red"
         },
         "name": "B",
         "showlegend": false,
         "type": "scatter",
         "x": [
          1,
          2,
          3,
          4,
          5,
          6
         ],
         "xaxis": "x2",
         "y": [
          35,
          37.375,
          40,
          45.166666666666664,
          44.25,
          48.5
         ],
         "yaxis": "y2"
        },
        {
         "error_y": {
          "array": [
           4.429759345285346,
           5.059467786804683,
           3.810119001123336,
           2.185812841434,
           null,
           null
          ],
          "type": "data"
         },
         "legendgroup": "C",
         "line": {
          "color": "darkorchid"
         },
         "name": "C",
         "showlegend": false,
         "type": "scatter",
         "x": [
          1,
          2,
          3,
          4,
          5,
          6
         ],
         "xaxis": "x2",
         "y": [
          44.125,
          50.25,
          43.42857142857143,
          41.333333333333336,
          50,
          47
         ],
         "yaxis": "y2"
        },
        {
         "error_y": {
          "array": [
           4.052115849422726,
           4.346334662678427,
           3.926406329796582,
           3.8160843806184377
          ],
          "type": "data"
         },
         "legendgroup": "D",
         "line": {
          "color": "forestgreen"
         },
         "name": "D",
         "showlegend": false,
         "type": "scatter",
         "x": [
          1,
          2,
          3,
          4
         ],
         "xaxis": "x2",
         "y": [
          47.25,
          43.375,
          38.5,
          43.25
         ],
         "yaxis": "y2"
        },
        {
         "error_y": {
          "array": [
           1.8588590970961574,
           2.568698948050216,
           4.467141943441818,
           5.154531640078604,
           4.313599756252643,
           5.965889433663171,
           4.5069390943299865,
           5.065556627417981,
           4.328359259298034,
           5.817519868033626,
           5.991490564431648
          ],
          "type": "data"
         },
         "legendgroup": "A",
         "line": {
          "color": "midnightblue"
         },
         "name": "A",
         "showlegend": false,
         "type": "scatter",
         "x": [
          1,
          2,
          3,
          4,
          5,
          6,
          7,
          8,
          9,
          10,
          11
         ],
         "xaxis": "x3",
         "y": [
          13.75,
          11.25,
          15.75,
          21.625,
          19,
          24.142857142857142,
          24.75,
          28.571428571428573,
          23.857142857142858,
          27.714285714285715,
          29.571428571428573
         ],
         "yaxis": "y3"
        },
        {
         "error_y": {
          "array": [
           5.837073630804101,
           4.891455742998629,
           5.35836295629818,
           5.2028065915014965,
           7.521398046336104,
           7.29840165150334,
           6.289674077406555,
           5.696002496878355,
           2,
           2.9999999999999996,
           2.5,
           3.4999999999999996,
           null
          ],
          "type": "data"
         },
         "legendgroup": "B",
         "line": {
          "color": "red"
         },
         "name": "B",
         "showlegend": false,
         "type": "scatter",
         "x": [
          1,
          2,
          3,
          4,
          5,
          6,
          7,
          8,
          9,
          10,
          11,
          12,
          13
         ],
         "xaxis": "x3",
         "y": [
          25,
          24.375,
          27.625,
          29.375,
          30,
          35,
          33.4,
          21.666666666666668,
          18,
          26,
          24.5,
          36.5,
          27
         ],
         "yaxis": "y3"
        },
        {
         "error_y": {
          "array": [
           6.016161270159853,
           4.952452494904491,
           3.966095146902771,
           6.429100507328637,
           4.764451699828638,
           0.5,
           6.999999999999999,
           0.5,
           6.499999999999999,
           2.5,
           5.999999999999999
          ],
          "type": "data"
         },
         "legendgroup": "C",
         "line": {
          "color": "darkorchid"
         },
         "name": "C",
         "showlegend": false,
         "type": "scatter",
         "x": [
          1,
          2,
          3,
          4,
          5,
          6,
          7,
          8,
          9,
          10,
          11
         ],
         "xaxis": "x3",
         "y": [
          42.125,
          40.25,
          38.125,
          44,
          40,
          32.5,
          29,
          31.5,
          30.5,
          28.5,
          40
         ],
         "yaxis": "y3"
        },
        {
         "error_y": {
          "array": [
           4.898979485566356,
           5.725584068474593,
           5.030519103331145,
           2.625991876098122,
           null,
           null,
           null
          ],
          "type": "data"
         },
         "legendgroup": "D",
         "line": {
          "color": "forestgreen"
         },
         "name": "D",
         "showlegend": false,
         "type": "scatter",
         "x": [
          1,
          2,
          3,
          4,
          5,
          6,
          7
         ],
         "xaxis": "x3",
         "y": [
          43,
          36.857142857142854,
          47.857142857142854,
          40.25,
          25,
          41,
          33
         ],
         "yaxis": "y3"
        }
       ],
       "layout": {
        "annotations": [
         {
          "font": {
           "size": 22
          },
          "showarrow": false,
          "text": "Young Adult",
          "x": 0.14444444444444446,
          "xanchor": "center",
          "xref": "paper",
          "y": 1,
          "yanchor": "bottom",
          "yref": "paper"
         },
         {
          "font": {
           "size": 22
          },
          "showarrow": false,
          "text": "Middle Aged",
          "x": 0.5,
          "xanchor": "center",
          "xref": "paper",
          "y": 1,
          "yanchor": "bottom",
          "yref": "paper"
         },
         {
          "font": {
           "size": 22
          },
          "showarrow": false,
          "text": "Aged",
          "x": 0.8555555555555556,
          "xanchor": "center",
          "xref": "paper",
          "y": 1,
          "yanchor": "bottom",
          "yref": "paper"
         }
        ],
        "font": {
         "family": "Arial",
         "size": 22
        },
        "height": 500,
        "template": {
         "data": {
          "bar": [
           {
            "error_x": {
             "color": "rgb(36,36,36)"
            },
            "error_y": {
             "color": "rgb(36,36,36)"
            },
            "marker": {
             "line": {
              "color": "white",
              "width": 0.5
             },
             "pattern": {
              "fillmode": "overlay",
              "size": 10,
              "solidity": 0.2
             }
            },
            "type": "bar"
           }
          ],
          "barpolar": [
           {
            "marker": {
             "line": {
              "color": "white",
              "width": 0.5
             },
             "pattern": {
              "fillmode": "overlay",
              "size": 10,
              "solidity": 0.2
             }
            },
            "type": "barpolar"
           }
          ],
          "carpet": [
           {
            "aaxis": {
             "endlinecolor": "rgb(36,36,36)",
             "gridcolor": "white",
             "linecolor": "white",
             "minorgridcolor": "white",
             "startlinecolor": "rgb(36,36,36)"
            },
            "baxis": {
             "endlinecolor": "rgb(36,36,36)",
             "gridcolor": "white",
             "linecolor": "white",
             "minorgridcolor": "white",
             "startlinecolor": "rgb(36,36,36)"
            },
            "type": "carpet"
           }
          ],
          "choropleth": [
           {
            "colorbar": {
             "outlinewidth": 1,
             "tickcolor": "rgb(36,36,36)",
             "ticks": "outside"
            },
            "type": "choropleth"
           }
          ],
          "contour": [
           {
            "colorbar": {
             "outlinewidth": 1,
             "tickcolor": "rgb(36,36,36)",
             "ticks": "outside"
            },
            "colorscale": [
             [
              0,
              "#440154"
             ],
             [
              0.1111111111111111,
              "#482878"
             ],
             [
              0.2222222222222222,
              "#3e4989"
             ],
             [
              0.3333333333333333,
              "#31688e"
             ],
             [
              0.4444444444444444,
              "#26828e"
             ],
             [
              0.5555555555555556,
              "#1f9e89"
             ],
             [
              0.6666666666666666,
              "#35b779"
             ],
             [
              0.7777777777777778,
              "#6ece58"
             ],
             [
              0.8888888888888888,
              "#b5de2b"
             ],
             [
              1,
              "#fde725"
             ]
            ],
            "type": "contour"
           }
          ],
          "contourcarpet": [
           {
            "colorbar": {
             "outlinewidth": 1,
             "tickcolor": "rgb(36,36,36)",
             "ticks": "outside"
            },
            "type": "contourcarpet"
           }
          ],
          "heatmap": [
           {
            "colorbar": {
             "outlinewidth": 1,
             "tickcolor": "rgb(36,36,36)",
             "ticks": "outside"
            },
            "colorscale": [
             [
              0,
              "#440154"
             ],
             [
              0.1111111111111111,
              "#482878"
             ],
             [
              0.2222222222222222,
              "#3e4989"
             ],
             [
              0.3333333333333333,
              "#31688e"
             ],
             [
              0.4444444444444444,
              "#26828e"
             ],
             [
              0.5555555555555556,
              "#1f9e89"
             ],
             [
              0.6666666666666666,
              "#35b779"
             ],
             [
              0.7777777777777778,
              "#6ece58"
             ],
             [
              0.8888888888888888,
              "#b5de2b"
             ],
             [
              1,
              "#fde725"
             ]
            ],
            "type": "heatmap"
           }
          ],
          "heatmapgl": [
           {
            "colorbar": {
             "outlinewidth": 1,
             "tickcolor": "rgb(36,36,36)",
             "ticks": "outside"
            },
            "colorscale": [
             [
              0,
              "#440154"
             ],
             [
              0.1111111111111111,
              "#482878"
             ],
             [
              0.2222222222222222,
              "#3e4989"
             ],
             [
              0.3333333333333333,
              "#31688e"
             ],
             [
              0.4444444444444444,
              "#26828e"
             ],
             [
              0.5555555555555556,
              "#1f9e89"
             ],
             [
              0.6666666666666666,
              "#35b779"
             ],
             [
              0.7777777777777778,
              "#6ece58"
             ],
             [
              0.8888888888888888,
              "#b5de2b"
             ],
             [
              1,
              "#fde725"
             ]
            ],
            "type": "heatmapgl"
           }
          ],
          "histogram": [
           {
            "marker": {
             "line": {
              "color": "white",
              "width": 0.6
             }
            },
            "type": "histogram"
           }
          ],
          "histogram2d": [
           {
            "colorbar": {
             "outlinewidth": 1,
             "tickcolor": "rgb(36,36,36)",
             "ticks": "outside"
            },
            "colorscale": [
             [
              0,
              "#440154"
             ],
             [
              0.1111111111111111,
              "#482878"
             ],
             [
              0.2222222222222222,
              "#3e4989"
             ],
             [
              0.3333333333333333,
              "#31688e"
             ],
             [
              0.4444444444444444,
              "#26828e"
             ],
             [
              0.5555555555555556,
              "#1f9e89"
             ],
             [
              0.6666666666666666,
              "#35b779"
             ],
             [
              0.7777777777777778,
              "#6ece58"
             ],
             [
              0.8888888888888888,
              "#b5de2b"
             ],
             [
              1,
              "#fde725"
             ]
            ],
            "type": "histogram2d"
           }
          ],
          "histogram2dcontour": [
           {
            "colorbar": {
             "outlinewidth": 1,
             "tickcolor": "rgb(36,36,36)",
             "ticks": "outside"
            },
            "colorscale": [
             [
              0,
              "#440154"
             ],
             [
              0.1111111111111111,
              "#482878"
             ],
             [
              0.2222222222222222,
              "#3e4989"
             ],
             [
              0.3333333333333333,
              "#31688e"
             ],
             [
              0.4444444444444444,
              "#26828e"
             ],
             [
              0.5555555555555556,
              "#1f9e89"
             ],
             [
              0.6666666666666666,
              "#35b779"
             ],
             [
              0.7777777777777778,
              "#6ece58"
             ],
             [
              0.8888888888888888,
              "#b5de2b"
             ],
             [
              1,
              "#fde725"
             ]
            ],
            "type": "histogram2dcontour"
           }
          ],
          "mesh3d": [
           {
            "colorbar": {
             "outlinewidth": 1,
             "tickcolor": "rgb(36,36,36)",
             "ticks": "outside"
            },
            "type": "mesh3d"
           }
          ],
          "parcoords": [
           {
            "line": {
             "colorbar": {
              "outlinewidth": 1,
              "tickcolor": "rgb(36,36,36)",
              "ticks": "outside"
             }
            },
            "type": "parcoords"
           }
          ],
          "pie": [
           {
            "automargin": true,
            "type": "pie"
           }
          ],
          "scatter": [
           {
            "fillpattern": {
             "fillmode": "overlay",
             "size": 10,
             "solidity": 0.2
            },
            "type": "scatter"
           }
          ],
          "scatter3d": [
           {
            "line": {
             "colorbar": {
              "outlinewidth": 1,
              "tickcolor": "rgb(36,36,36)",
              "ticks": "outside"
             }
            },
            "marker": {
             "colorbar": {
              "outlinewidth": 1,
              "tickcolor": "rgb(36,36,36)",
              "ticks": "outside"
             }
            },
            "type": "scatter3d"
           }
          ],
          "scattercarpet": [
           {
            "marker": {
             "colorbar": {
              "outlinewidth": 1,
              "tickcolor": "rgb(36,36,36)",
              "ticks": "outside"
             }
            },
            "type": "scattercarpet"
           }
          ],
          "scattergeo": [
           {
            "marker": {
             "colorbar": {
              "outlinewidth": 1,
              "tickcolor": "rgb(36,36,36)",
              "ticks": "outside"
             }
            },
            "type": "scattergeo"
           }
          ],
          "scattergl": [
           {
            "marker": {
             "colorbar": {
              "outlinewidth": 1,
              "tickcolor": "rgb(36,36,36)",
              "ticks": "outside"
             }
            },
            "type": "scattergl"
           }
          ],
          "scattermapbox": [
           {
            "marker": {
             "colorbar": {
              "outlinewidth": 1,
              "tickcolor": "rgb(36,36,36)",
              "ticks": "outside"
             }
            },
            "type": "scattermapbox"
           }
          ],
          "scatterpolar": [
           {
            "marker": {
             "colorbar": {
              "outlinewidth": 1,
              "tickcolor": "rgb(36,36,36)",
              "ticks": "outside"
             }
            },
            "type": "scatterpolar"
           }
          ],
          "scatterpolargl": [
           {
            "marker": {
             "colorbar": {
              "outlinewidth": 1,
              "tickcolor": "rgb(36,36,36)",
              "ticks": "outside"
             }
            },
            "type": "scatterpolargl"
           }
          ],
          "scatterternary": [
           {
            "marker": {
             "colorbar": {
              "outlinewidth": 1,
              "tickcolor": "rgb(36,36,36)",
              "ticks": "outside"
             }
            },
            "type": "scatterternary"
           }
          ],
          "surface": [
           {
            "colorbar": {
             "outlinewidth": 1,
             "tickcolor": "rgb(36,36,36)",
             "ticks": "outside"
            },
            "colorscale": [
             [
              0,
              "#440154"
             ],
             [
              0.1111111111111111,
              "#482878"
             ],
             [
              0.2222222222222222,
              "#3e4989"
             ],
             [
              0.3333333333333333,
              "#31688e"
             ],
             [
              0.4444444444444444,
              "#26828e"
             ],
             [
              0.5555555555555556,
              "#1f9e89"
             ],
             [
              0.6666666666666666,
              "#35b779"
             ],
             [
              0.7777777777777778,
              "#6ece58"
             ],
             [
              0.8888888888888888,
              "#b5de2b"
             ],
             [
              1,
              "#fde725"
             ]
            ],
            "type": "surface"
           }
          ],
          "table": [
           {
            "cells": {
             "fill": {
              "color": "rgb(237,237,237)"
             },
             "line": {
              "color": "white"
             }
            },
            "header": {
             "fill": {
              "color": "rgb(217,217,217)"
             },
             "line": {
              "color": "white"
             }
            },
            "type": "table"
           }
          ]
         },
         "layout": {
          "annotationdefaults": {
           "arrowhead": 0,
           "arrowwidth": 1
          },
          "autotypenumbers": "strict",
          "coloraxis": {
           "colorbar": {
            "outlinewidth": 1,
            "tickcolor": "rgb(36,36,36)",
            "ticks": "outside"
           }
          },
          "colorscale": {
           "diverging": [
            [
             0,
             "rgb(103,0,31)"
            ],
            [
             0.1,
             "rgb(178,24,43)"
            ],
            [
             0.2,
             "rgb(214,96,77)"
            ],
            [
             0.3,
             "rgb(244,165,130)"
            ],
            [
             0.4,
             "rgb(253,219,199)"
            ],
            [
             0.5,
             "rgb(247,247,247)"
            ],
            [
             0.6,
             "rgb(209,229,240)"
            ],
            [
             0.7,
             "rgb(146,197,222)"
            ],
            [
             0.8,
             "rgb(67,147,195)"
            ],
            [
             0.9,
             "rgb(33,102,172)"
            ],
            [
             1,
             "rgb(5,48,97)"
            ]
           ],
           "sequential": [
            [
             0,
             "#440154"
            ],
            [
             0.1111111111111111,
             "#482878"
            ],
            [
             0.2222222222222222,
             "#3e4989"
            ],
            [
             0.3333333333333333,
             "#31688e"
            ],
            [
             0.4444444444444444,
             "#26828e"
            ],
            [
             0.5555555555555556,
             "#1f9e89"
            ],
            [
             0.6666666666666666,
             "#35b779"
            ],
            [
             0.7777777777777778,
             "#6ece58"
            ],
            [
             0.8888888888888888,
             "#b5de2b"
            ],
            [
             1,
             "#fde725"
            ]
           ],
           "sequentialminus": [
            [
             0,
             "#440154"
            ],
            [
             0.1111111111111111,
             "#482878"
            ],
            [
             0.2222222222222222,
             "#3e4989"
            ],
            [
             0.3333333333333333,
             "#31688e"
            ],
            [
             0.4444444444444444,
             "#26828e"
            ],
            [
             0.5555555555555556,
             "#1f9e89"
            ],
            [
             0.6666666666666666,
             "#35b779"
            ],
            [
             0.7777777777777778,
             "#6ece58"
            ],
            [
             0.8888888888888888,
             "#b5de2b"
            ],
            [
             1,
             "#fde725"
            ]
           ]
          },
          "colorway": [
           "#1F77B4",
           "#FF7F0E",
           "#2CA02C",
           "#D62728",
           "#9467BD",
           "#8C564B",
           "#E377C2",
           "#7F7F7F",
           "#BCBD22",
           "#17BECF"
          ],
          "font": {
           "color": "rgb(36,36,36)"
          },
          "geo": {
           "bgcolor": "white",
           "lakecolor": "white",
           "landcolor": "white",
           "showlakes": true,
           "showland": true,
           "subunitcolor": "white"
          },
          "hoverlabel": {
           "align": "left"
          },
          "hovermode": "closest",
          "mapbox": {
           "style": "light"
          },
          "paper_bgcolor": "white",
          "plot_bgcolor": "white",
          "polar": {
           "angularaxis": {
            "gridcolor": "rgb(232,232,232)",
            "linecolor": "rgb(36,36,36)",
            "showgrid": false,
            "showline": true,
            "ticks": "outside"
           },
           "bgcolor": "white",
           "radialaxis": {
            "gridcolor": "rgb(232,232,232)",
            "linecolor": "rgb(36,36,36)",
            "showgrid": false,
            "showline": true,
            "ticks": "outside"
           }
          },
          "scene": {
           "xaxis": {
            "backgroundcolor": "white",
            "gridcolor": "rgb(232,232,232)",
            "gridwidth": 2,
            "linecolor": "rgb(36,36,36)",
            "showbackground": true,
            "showgrid": false,
            "showline": true,
            "ticks": "outside",
            "zeroline": false,
            "zerolinecolor": "rgb(36,36,36)"
           },
           "yaxis": {
            "backgroundcolor": "white",
            "gridcolor": "rgb(232,232,232)",
            "gridwidth": 2,
            "linecolor": "rgb(36,36,36)",
            "showbackground": true,
            "showgrid": false,
            "showline": true,
            "ticks": "outside",
            "zeroline": false,
            "zerolinecolor": "rgb(36,36,36)"
           },
           "zaxis": {
            "backgroundcolor": "white",
            "gridcolor": "rgb(232,232,232)",
            "gridwidth": 2,
            "linecolor": "rgb(36,36,36)",
            "showbackground": true,
            "showgrid": false,
            "showline": true,
            "ticks": "outside",
            "zeroline": false,
            "zerolinecolor": "rgb(36,36,36)"
           }
          },
          "shapedefaults": {
           "fillcolor": "black",
           "line": {
            "width": 0
           },
           "opacity": 0.3
          },
          "ternary": {
           "aaxis": {
            "gridcolor": "rgb(232,232,232)",
            "linecolor": "rgb(36,36,36)",
            "showgrid": false,
            "showline": true,
            "ticks": "outside"
           },
           "baxis": {
            "gridcolor": "rgb(232,232,232)",
            "linecolor": "rgb(36,36,36)",
            "showgrid": false,
            "showline": true,
            "ticks": "outside"
           },
           "bgcolor": "white",
           "caxis": {
            "gridcolor": "rgb(232,232,232)",
            "linecolor": "rgb(36,36,36)",
            "showgrid": false,
            "showline": true,
            "ticks": "outside"
           }
          },
          "title": {
           "x": 0.05
          },
          "xaxis": {
           "automargin": true,
           "gridcolor": "rgb(232,232,232)",
           "linecolor": "rgb(36,36,36)",
           "showgrid": false,
           "showline": true,
           "ticks": "outside",
           "title": {
            "standoff": 15
           },
           "zeroline": false,
           "zerolinecolor": "rgb(36,36,36)"
          },
          "yaxis": {
           "automargin": true,
           "gridcolor": "rgb(232,232,232)",
           "linecolor": "rgb(36,36,36)",
           "showgrid": false,
           "showline": true,
           "ticks": "outside",
           "title": {
            "standoff": 15
           },
           "zeroline": false,
           "zerolinecolor": "rgb(36,36,36)"
          }
         }
        },
        "title": {
         "x": 0.5,
         "xanchor": "center",
         "y": 0.9,
         "yanchor": "top"
        },
        "width": 900,
        "xaxis": {
         "anchor": "y",
         "domain": [
          0,
          0.2888888888888889
         ],
         "linewidth": 1.5,
         "matches": "x",
         "title": {
          "text": "Day in Context"
         }
        },
        "xaxis2": {
         "anchor": "y2",
         "domain": [
          0.35555555555555557,
          0.6444444444444445
         ],
         "linewidth": 1.5,
         "matches": "x",
         "title": {
          "text": "Day in Context"
         }
        },
        "xaxis3": {
         "anchor": "y3",
         "domain": [
          0.7111111111111111,
          1
         ],
         "linewidth": 1.5,
         "matches": "x",
         "title": {
          "text": "Day in Context"
         }
        },
        "yaxis": {
         "anchor": "x",
         "domain": [
          0,
          1
         ],
         "linewidth": 1.5,
         "matches": "y",
         "title": {
          "text": "Number of Trials"
         }
        },
        "yaxis2": {
         "anchor": "x2",
         "domain": [
          0,
          1
         ],
         "linewidth": 1.5,
         "matches": "y",
         "showticklabels": false,
         "title": {
          "text": ""
         }
        },
        "yaxis3": {
         "anchor": "x3",
         "domain": [
          0,
          1
         ],
         "linewidth": 1.5,
         "matches": "y",
         "showticklabels": false,
         "title": {
          "text": ""
         }
        }
       }
      },
      "text/html": [
       "<div>                            <div id=\"16798b19-bdf0-49c3-8f56-69f989a8f167\" class=\"plotly-graph-div\" style=\"height:500px; width:900px;\"></div>            <script type=\"text/javascript\">                require([\"plotly\"], function(Plotly) {                    window.PLOTLYENV=window.PLOTLYENV || {};                                    if (document.getElementById(\"16798b19-bdf0-49c3-8f56-69f989a8f167\")) {                    Plotly.newPlot(                        \"16798b19-bdf0-49c3-8f56-69f989a8f167\",                        [{\"error_y\":{\"array\":[2.49284690951645,3.359421718944242,3.336754197034683,2.964070560178061,4.602018190812746,5.697594670912771,4.0886020430786205,3.646154747736915,2.4140790744666543,4.066939881532551,4.363484845854286],\"type\":\"data\"},\"legendgroup\":\"A\",\"line\":{\"color\":\"midnightblue\"},\"name\":\"A\",\"showlegend\":true,\"x\":[1,2,3,4,5,6,7,8,9,10,11],\"y\":[19.5,26.0,33.75,36.0,35.5,46.285714285714285,41.5,42.166666666666664,41.166666666666664,42.2,44.8],\"type\":\"scatter\",\"xaxis\":\"x\",\"yaxis\":\"y\"},{\"error_y\":{\"array\":[1.8101894139248842,2.220038609702865,1.9062865921546452,5.662375826453062,null],\"type\":\"data\"},\"legendgroup\":\"B\",\"line\":{\"color\":\"red\"},\"name\":\"B\",\"showlegend\":true,\"x\":[1,2,3,4,5],\"y\":[47.75,46.0,49.75,52.75,61.0],\"type\":\"scatter\",\"xaxis\":\"x\",\"yaxis\":\"y\"},{\"error_y\":{\"array\":[4.309199047221122,3.1506093514928644,2.1356757972855127,11.794537341969422,4.5,5.0],\"type\":\"data\"},\"legendgroup\":\"C\",\"line\":{\"color\":\"darkorchid\"},\"name\":\"C\",\"showlegend\":true,\"x\":[1,2,3,4,5,6],\"y\":[50.375,46.625,44.833333333333336,44.666666666666664,44.5,40.0],\"type\":\"scatter\",\"xaxis\":\"x\",\"yaxis\":\"y\"},{\"error_y\":{\"array\":[3.797320483860015,5.942995577027752,4.34091435241079,7.505553499465135,2.9999999999999996],\"type\":\"data\"},\"legendgroup\":\"D\",\"line\":{\"color\":\"forestgreen\"},\"name\":\"D\",\"showlegend\":true,\"x\":[1,2,3,4,5],\"y\":[51.25,52.375,48.285714285714285,49.0,57.0],\"type\":\"scatter\",\"xaxis\":\"x\",\"yaxis\":\"y\"},{\"error_y\":{\"array\":[1.14953406710222,2.6987927195057315,2.2275667378169772,2.2712292140726666,2.3256143581550965,4.657702913300871,2.4671954870720256,3.8544964466377256,4.312564699307627,3.232645975048923,6.913754406977442],\"type\":\"data\"},\"legendgroup\":\"A\",\"line\":{\"color\":\"midnightblue\"},\"name\":\"A\",\"showlegend\":false,\"x\":[1,2,3,4,5,6,7,8,9,10,11],\"y\":[11.5,16.375,21.625,29.125,34.125,38.125,33.125,39.0,40.75,40.5,44.0],\"type\":\"scatter\",\"xaxis\":\"x2\",\"yaxis\":\"y2\"},{\"error_y\":{\"array\":[2.9459415181858972,3.769887739897379,2.6186146828319083,4.0858835573770875,3.400367627183861,2.5],\"type\":\"data\"},\"legendgroup\":\"B\",\"line\":{\"color\":\"red\"},\"name\":\"B\",\"showlegend\":false,\"x\":[1,2,3,4,5,6],\"y\":[35.0,37.375,40.0,45.166666666666664,44.25,48.5],\"type\":\"scatter\",\"xaxis\":\"x2\",\"yaxis\":\"y2\"},{\"error_y\":{\"array\":[4.429759345285346,5.059467786804683,3.810119001123336,2.185812841434,null,null],\"type\":\"data\"},\"legendgroup\":\"C\",\"line\":{\"color\":\"darkorchid\"},\"name\":\"C\",\"showlegend\":false,\"x\":[1,2,3,4,5,6],\"y\":[44.125,50.25,43.42857142857143,41.333333333333336,50.0,47.0],\"type\":\"scatter\",\"xaxis\":\"x2\",\"yaxis\":\"y2\"},{\"error_y\":{\"array\":[4.052115849422726,4.346334662678427,3.926406329796582,3.8160843806184377],\"type\":\"data\"},\"legendgroup\":\"D\",\"line\":{\"color\":\"forestgreen\"},\"name\":\"D\",\"showlegend\":false,\"x\":[1,2,3,4],\"y\":[47.25,43.375,38.5,43.25],\"type\":\"scatter\",\"xaxis\":\"x2\",\"yaxis\":\"y2\"},{\"error_y\":{\"array\":[1.8588590970961574,2.568698948050216,4.467141943441818,5.154531640078604,4.313599756252643,5.965889433663171,4.5069390943299865,5.065556627417981,4.328359259298034,5.817519868033626,5.991490564431648],\"type\":\"data\"},\"legendgroup\":\"A\",\"line\":{\"color\":\"midnightblue\"},\"name\":\"A\",\"showlegend\":false,\"x\":[1,2,3,4,5,6,7,8,9,10,11],\"y\":[13.75,11.25,15.75,21.625,19.0,24.142857142857142,24.75,28.571428571428573,23.857142857142858,27.714285714285715,29.571428571428573],\"type\":\"scatter\",\"xaxis\":\"x3\",\"yaxis\":\"y3\"},{\"error_y\":{\"array\":[5.837073630804101,4.891455742998629,5.35836295629818,5.2028065915014965,7.521398046336104,7.29840165150334,6.289674077406555,5.696002496878355,2.0,2.9999999999999996,2.5,3.4999999999999996,null],\"type\":\"data\"},\"legendgroup\":\"B\",\"line\":{\"color\":\"red\"},\"name\":\"B\",\"showlegend\":false,\"x\":[1,2,3,4,5,6,7,8,9,10,11,12,13],\"y\":[25.0,24.375,27.625,29.375,30.0,35.0,33.4,21.666666666666668,18.0,26.0,24.5,36.5,27.0],\"type\":\"scatter\",\"xaxis\":\"x3\",\"yaxis\":\"y3\"},{\"error_y\":{\"array\":[6.016161270159853,4.952452494904491,3.966095146902771,6.429100507328637,4.764451699828638,0.5,6.999999999999999,0.5,6.499999999999999,2.5,5.999999999999999],\"type\":\"data\"},\"legendgroup\":\"C\",\"line\":{\"color\":\"darkorchid\"},\"name\":\"C\",\"showlegend\":false,\"x\":[1,2,3,4,5,6,7,8,9,10,11],\"y\":[42.125,40.25,38.125,44.0,40.0,32.5,29.0,31.5,30.5,28.5,40.0],\"type\":\"scatter\",\"xaxis\":\"x3\",\"yaxis\":\"y3\"},{\"error_y\":{\"array\":[4.898979485566356,5.725584068474593,5.030519103331145,2.625991876098122,null,null,null],\"type\":\"data\"},\"legendgroup\":\"D\",\"line\":{\"color\":\"forestgreen\"},\"name\":\"D\",\"showlegend\":false,\"x\":[1,2,3,4,5,6,7],\"y\":[43.0,36.857142857142854,47.857142857142854,40.25,25.0,41.0,33.0],\"type\":\"scatter\",\"xaxis\":\"x3\",\"yaxis\":\"y3\"}],                        {\"template\":{\"data\":{\"barpolar\":[{\"marker\":{\"line\":{\"color\":\"white\",\"width\":0.5},\"pattern\":{\"fillmode\":\"overlay\",\"size\":10,\"solidity\":0.2}},\"type\":\"barpolar\"}],\"bar\":[{\"error_x\":{\"color\":\"rgb(36,36,36)\"},\"error_y\":{\"color\":\"rgb(36,36,36)\"},\"marker\":{\"line\":{\"color\":\"white\",\"width\":0.5},\"pattern\":{\"fillmode\":\"overlay\",\"size\":10,\"solidity\":0.2}},\"type\":\"bar\"}],\"carpet\":[{\"aaxis\":{\"endlinecolor\":\"rgb(36,36,36)\",\"gridcolor\":\"white\",\"linecolor\":\"white\",\"minorgridcolor\":\"white\",\"startlinecolor\":\"rgb(36,36,36)\"},\"baxis\":{\"endlinecolor\":\"rgb(36,36,36)\",\"gridcolor\":\"white\",\"linecolor\":\"white\",\"minorgridcolor\":\"white\",\"startlinecolor\":\"rgb(36,36,36)\"},\"type\":\"carpet\"}],\"choropleth\":[{\"colorbar\":{\"outlinewidth\":1,\"tickcolor\":\"rgb(36,36,36)\",\"ticks\":\"outside\"},\"type\":\"choropleth\"}],\"contourcarpet\":[{\"colorbar\":{\"outlinewidth\":1,\"tickcolor\":\"rgb(36,36,36)\",\"ticks\":\"outside\"},\"type\":\"contourcarpet\"}],\"contour\":[{\"colorbar\":{\"outlinewidth\":1,\"tickcolor\":\"rgb(36,36,36)\",\"ticks\":\"outside\"},\"colorscale\":[[0.0,\"#440154\"],[0.1111111111111111,\"#482878\"],[0.2222222222222222,\"#3e4989\"],[0.3333333333333333,\"#31688e\"],[0.4444444444444444,\"#26828e\"],[0.5555555555555556,\"#1f9e89\"],[0.6666666666666666,\"#35b779\"],[0.7777777777777778,\"#6ece58\"],[0.8888888888888888,\"#b5de2b\"],[1.0,\"#fde725\"]],\"type\":\"contour\"}],\"heatmapgl\":[{\"colorbar\":{\"outlinewidth\":1,\"tickcolor\":\"rgb(36,36,36)\",\"ticks\":\"outside\"},\"colorscale\":[[0.0,\"#440154\"],[0.1111111111111111,\"#482878\"],[0.2222222222222222,\"#3e4989\"],[0.3333333333333333,\"#31688e\"],[0.4444444444444444,\"#26828e\"],[0.5555555555555556,\"#1f9e89\"],[0.6666666666666666,\"#35b779\"],[0.7777777777777778,\"#6ece58\"],[0.8888888888888888,\"#b5de2b\"],[1.0,\"#fde725\"]],\"type\":\"heatmapgl\"}],\"heatmap\":[{\"colorbar\":{\"outlinewidth\":1,\"tickcolor\":\"rgb(36,36,36)\",\"ticks\":\"outside\"},\"colorscale\":[[0.0,\"#440154\"],[0.1111111111111111,\"#482878\"],[0.2222222222222222,\"#3e4989\"],[0.3333333333333333,\"#31688e\"],[0.4444444444444444,\"#26828e\"],[0.5555555555555556,\"#1f9e89\"],[0.6666666666666666,\"#35b779\"],[0.7777777777777778,\"#6ece58\"],[0.8888888888888888,\"#b5de2b\"],[1.0,\"#fde725\"]],\"type\":\"heatmap\"}],\"histogram2dcontour\":[{\"colorbar\":{\"outlinewidth\":1,\"tickcolor\":\"rgb(36,36,36)\",\"ticks\":\"outside\"},\"colorscale\":[[0.0,\"#440154\"],[0.1111111111111111,\"#482878\"],[0.2222222222222222,\"#3e4989\"],[0.3333333333333333,\"#31688e\"],[0.4444444444444444,\"#26828e\"],[0.5555555555555556,\"#1f9e89\"],[0.6666666666666666,\"#35b779\"],[0.7777777777777778,\"#6ece58\"],[0.8888888888888888,\"#b5de2b\"],[1.0,\"#fde725\"]],\"type\":\"histogram2dcontour\"}],\"histogram2d\":[{\"colorbar\":{\"outlinewidth\":1,\"tickcolor\":\"rgb(36,36,36)\",\"ticks\":\"outside\"},\"colorscale\":[[0.0,\"#440154\"],[0.1111111111111111,\"#482878\"],[0.2222222222222222,\"#3e4989\"],[0.3333333333333333,\"#31688e\"],[0.4444444444444444,\"#26828e\"],[0.5555555555555556,\"#1f9e89\"],[0.6666666666666666,\"#35b779\"],[0.7777777777777778,\"#6ece58\"],[0.8888888888888888,\"#b5de2b\"],[1.0,\"#fde725\"]],\"type\":\"histogram2d\"}],\"histogram\":[{\"marker\":{\"line\":{\"color\":\"white\",\"width\":0.6}},\"type\":\"histogram\"}],\"mesh3d\":[{\"colorbar\":{\"outlinewidth\":1,\"tickcolor\":\"rgb(36,36,36)\",\"ticks\":\"outside\"},\"type\":\"mesh3d\"}],\"parcoords\":[{\"line\":{\"colorbar\":{\"outlinewidth\":1,\"tickcolor\":\"rgb(36,36,36)\",\"ticks\":\"outside\"}},\"type\":\"parcoords\"}],\"pie\":[{\"automargin\":true,\"type\":\"pie\"}],\"scatter3d\":[{\"line\":{\"colorbar\":{\"outlinewidth\":1,\"tickcolor\":\"rgb(36,36,36)\",\"ticks\":\"outside\"}},\"marker\":{\"colorbar\":{\"outlinewidth\":1,\"tickcolor\":\"rgb(36,36,36)\",\"ticks\":\"outside\"}},\"type\":\"scatter3d\"}],\"scattercarpet\":[{\"marker\":{\"colorbar\":{\"outlinewidth\":1,\"tickcolor\":\"rgb(36,36,36)\",\"ticks\":\"outside\"}},\"type\":\"scattercarpet\"}],\"scattergeo\":[{\"marker\":{\"colorbar\":{\"outlinewidth\":1,\"tickcolor\":\"rgb(36,36,36)\",\"ticks\":\"outside\"}},\"type\":\"scattergeo\"}],\"scattergl\":[{\"marker\":{\"colorbar\":{\"outlinewidth\":1,\"tickcolor\":\"rgb(36,36,36)\",\"ticks\":\"outside\"}},\"type\":\"scattergl\"}],\"scattermapbox\":[{\"marker\":{\"colorbar\":{\"outlinewidth\":1,\"tickcolor\":\"rgb(36,36,36)\",\"ticks\":\"outside\"}},\"type\":\"scattermapbox\"}],\"scatterpolargl\":[{\"marker\":{\"colorbar\":{\"outlinewidth\":1,\"tickcolor\":\"rgb(36,36,36)\",\"ticks\":\"outside\"}},\"type\":\"scatterpolargl\"}],\"scatterpolar\":[{\"marker\":{\"colorbar\":{\"outlinewidth\":1,\"tickcolor\":\"rgb(36,36,36)\",\"ticks\":\"outside\"}},\"type\":\"scatterpolar\"}],\"scatter\":[{\"fillpattern\":{\"fillmode\":\"overlay\",\"size\":10,\"solidity\":0.2},\"type\":\"scatter\"}],\"scatterternary\":[{\"marker\":{\"colorbar\":{\"outlinewidth\":1,\"tickcolor\":\"rgb(36,36,36)\",\"ticks\":\"outside\"}},\"type\":\"scatterternary\"}],\"surface\":[{\"colorbar\":{\"outlinewidth\":1,\"tickcolor\":\"rgb(36,36,36)\",\"ticks\":\"outside\"},\"colorscale\":[[0.0,\"#440154\"],[0.1111111111111111,\"#482878\"],[0.2222222222222222,\"#3e4989\"],[0.3333333333333333,\"#31688e\"],[0.4444444444444444,\"#26828e\"],[0.5555555555555556,\"#1f9e89\"],[0.6666666666666666,\"#35b779\"],[0.7777777777777778,\"#6ece58\"],[0.8888888888888888,\"#b5de2b\"],[1.0,\"#fde725\"]],\"type\":\"surface\"}],\"table\":[{\"cells\":{\"fill\":{\"color\":\"rgb(237,237,237)\"},\"line\":{\"color\":\"white\"}},\"header\":{\"fill\":{\"color\":\"rgb(217,217,217)\"},\"line\":{\"color\":\"white\"}},\"type\":\"table\"}]},\"layout\":{\"annotationdefaults\":{\"arrowhead\":0,\"arrowwidth\":1},\"autotypenumbers\":\"strict\",\"coloraxis\":{\"colorbar\":{\"outlinewidth\":1,\"tickcolor\":\"rgb(36,36,36)\",\"ticks\":\"outside\"}},\"colorscale\":{\"diverging\":[[0.0,\"rgb(103,0,31)\"],[0.1,\"rgb(178,24,43)\"],[0.2,\"rgb(214,96,77)\"],[0.3,\"rgb(244,165,130)\"],[0.4,\"rgb(253,219,199)\"],[0.5,\"rgb(247,247,247)\"],[0.6,\"rgb(209,229,240)\"],[0.7,\"rgb(146,197,222)\"],[0.8,\"rgb(67,147,195)\"],[0.9,\"rgb(33,102,172)\"],[1.0,\"rgb(5,48,97)\"]],\"sequential\":[[0.0,\"#440154\"],[0.1111111111111111,\"#482878\"],[0.2222222222222222,\"#3e4989\"],[0.3333333333333333,\"#31688e\"],[0.4444444444444444,\"#26828e\"],[0.5555555555555556,\"#1f9e89\"],[0.6666666666666666,\"#35b779\"],[0.7777777777777778,\"#6ece58\"],[0.8888888888888888,\"#b5de2b\"],[1.0,\"#fde725\"]],\"sequentialminus\":[[0.0,\"#440154\"],[0.1111111111111111,\"#482878\"],[0.2222222222222222,\"#3e4989\"],[0.3333333333333333,\"#31688e\"],[0.4444444444444444,\"#26828e\"],[0.5555555555555556,\"#1f9e89\"],[0.6666666666666666,\"#35b779\"],[0.7777777777777778,\"#6ece58\"],[0.8888888888888888,\"#b5de2b\"],[1.0,\"#fde725\"]]},\"colorway\":[\"#1F77B4\",\"#FF7F0E\",\"#2CA02C\",\"#D62728\",\"#9467BD\",\"#8C564B\",\"#E377C2\",\"#7F7F7F\",\"#BCBD22\",\"#17BECF\"],\"font\":{\"color\":\"rgb(36,36,36)\"},\"geo\":{\"bgcolor\":\"white\",\"lakecolor\":\"white\",\"landcolor\":\"white\",\"showlakes\":true,\"showland\":true,\"subunitcolor\":\"white\"},\"hoverlabel\":{\"align\":\"left\"},\"hovermode\":\"closest\",\"mapbox\":{\"style\":\"light\"},\"paper_bgcolor\":\"white\",\"plot_bgcolor\":\"white\",\"polar\":{\"angularaxis\":{\"gridcolor\":\"rgb(232,232,232)\",\"linecolor\":\"rgb(36,36,36)\",\"showgrid\":false,\"showline\":true,\"ticks\":\"outside\"},\"bgcolor\":\"white\",\"radialaxis\":{\"gridcolor\":\"rgb(232,232,232)\",\"linecolor\":\"rgb(36,36,36)\",\"showgrid\":false,\"showline\":true,\"ticks\":\"outside\"}},\"scene\":{\"xaxis\":{\"backgroundcolor\":\"white\",\"gridcolor\":\"rgb(232,232,232)\",\"gridwidth\":2,\"linecolor\":\"rgb(36,36,36)\",\"showbackground\":true,\"showgrid\":false,\"showline\":true,\"ticks\":\"outside\",\"zeroline\":false,\"zerolinecolor\":\"rgb(36,36,36)\"},\"yaxis\":{\"backgroundcolor\":\"white\",\"gridcolor\":\"rgb(232,232,232)\",\"gridwidth\":2,\"linecolor\":\"rgb(36,36,36)\",\"showbackground\":true,\"showgrid\":false,\"showline\":true,\"ticks\":\"outside\",\"zeroline\":false,\"zerolinecolor\":\"rgb(36,36,36)\"},\"zaxis\":{\"backgroundcolor\":\"white\",\"gridcolor\":\"rgb(232,232,232)\",\"gridwidth\":2,\"linecolor\":\"rgb(36,36,36)\",\"showbackground\":true,\"showgrid\":false,\"showline\":true,\"ticks\":\"outside\",\"zeroline\":false,\"zerolinecolor\":\"rgb(36,36,36)\"}},\"shapedefaults\":{\"fillcolor\":\"black\",\"line\":{\"width\":0},\"opacity\":0.3},\"ternary\":{\"aaxis\":{\"gridcolor\":\"rgb(232,232,232)\",\"linecolor\":\"rgb(36,36,36)\",\"showgrid\":false,\"showline\":true,\"ticks\":\"outside\"},\"baxis\":{\"gridcolor\":\"rgb(232,232,232)\",\"linecolor\":\"rgb(36,36,36)\",\"showgrid\":false,\"showline\":true,\"ticks\":\"outside\"},\"bgcolor\":\"white\",\"caxis\":{\"gridcolor\":\"rgb(232,232,232)\",\"linecolor\":\"rgb(36,36,36)\",\"showgrid\":false,\"showline\":true,\"ticks\":\"outside\"}},\"title\":{\"x\":0.05},\"xaxis\":{\"automargin\":true,\"gridcolor\":\"rgb(232,232,232)\",\"linecolor\":\"rgb(36,36,36)\",\"showgrid\":false,\"showline\":true,\"ticks\":\"outside\",\"title\":{\"standoff\":15},\"zeroline\":false,\"zerolinecolor\":\"rgb(36,36,36)\"},\"yaxis\":{\"automargin\":true,\"gridcolor\":\"rgb(232,232,232)\",\"linecolor\":\"rgb(36,36,36)\",\"showgrid\":false,\"showline\":true,\"ticks\":\"outside\",\"title\":{\"standoff\":15},\"zeroline\":false,\"zerolinecolor\":\"rgb(36,36,36)\"}}},\"xaxis\":{\"anchor\":\"y\",\"domain\":[0.0,0.2888888888888889],\"title\":{\"text\":\"Day in Context\"},\"linewidth\":1.5,\"matches\":\"x\"},\"yaxis\":{\"anchor\":\"x\",\"domain\":[0.0,1.0],\"title\":{\"text\":\"Number of Trials\"},\"linewidth\":1.5,\"matches\":\"y\"},\"xaxis2\":{\"anchor\":\"y2\",\"domain\":[0.35555555555555557,0.6444444444444445],\"title\":{\"text\":\"Day in Context\"},\"linewidth\":1.5,\"matches\":\"x\"},\"yaxis2\":{\"anchor\":\"x2\",\"domain\":[0.0,1.0],\"matches\":\"y\",\"showticklabels\":false,\"title\":{\"text\":\"\"},\"linewidth\":1.5},\"xaxis3\":{\"anchor\":\"y3\",\"domain\":[0.7111111111111111,1.0],\"title\":{\"text\":\"Day in Context\"},\"linewidth\":1.5,\"matches\":\"x\"},\"yaxis3\":{\"anchor\":\"x3\",\"domain\":[0.0,1.0],\"matches\":\"y\",\"showticklabels\":false,\"title\":{\"text\":\"\"},\"linewidth\":1.5},\"annotations\":[{\"font\":{\"size\":22},\"showarrow\":false,\"text\":\"Young Adult\",\"x\":0.14444444444444446,\"xanchor\":\"center\",\"xref\":\"paper\",\"y\":1.0,\"yanchor\":\"bottom\",\"yref\":\"paper\"},{\"font\":{\"size\":22},\"showarrow\":false,\"text\":\"Middle Aged\",\"x\":0.5,\"xanchor\":\"center\",\"xref\":\"paper\",\"y\":1.0,\"yanchor\":\"bottom\",\"yref\":\"paper\"},{\"font\":{\"size\":22},\"showarrow\":false,\"text\":\"Aged\",\"x\":0.8555555555555556,\"xanchor\":\"center\",\"xref\":\"paper\",\"y\":1.0,\"yanchor\":\"bottom\",\"yref\":\"paper\"}],\"title\":{\"y\":0.9,\"x\":0.5,\"xanchor\":\"center\",\"yanchor\":\"top\"},\"font\":{\"size\":22,\"family\":\"Arial\"},\"height\":500,\"width\":900},                        {\"responsive\": true}                    ).then(function(){\n",
       "                            \n",
       "var gd = document.getElementById('16798b19-bdf0-49c3-8f56-69f989a8f167');\n",
       "var x = new MutationObserver(function (mutations, observer) {{\n",
       "        var display = window.getComputedStyle(gd).display;\n",
       "        if (!display || display === 'none') {{\n",
       "            console.log([gd, 'removed!']);\n",
       "            Plotly.purge(gd);\n",
       "            observer.disconnect();\n",
       "        }}\n",
       "}});\n",
       "\n",
       "// Listen for the removal of the full notebook cells\n",
       "var notebookContainer = gd.closest('#notebook-container');\n",
       "if (notebookContainer) {{\n",
       "    x.observe(notebookContainer, {childList: true});\n",
       "}}\n",
       "\n",
       "// Listen for the clearing of the current output cell\n",
       "var outputEl = gd.closest('.output');\n",
       "if (outputEl) {{\n",
       "    x.observe(outputEl, {childList: true});\n",
       "}}\n",
       "\n",
       "                        })                };                });            </script>        </div>"
      ]
     },
     "metadata": {},
     "output_type": "display_data"
    }
   ],
   "source": [
    "## Plot trials\n",
    "yvar = 'num_trials'\n",
    "context_colors = ['midnightblue', 'red', 'darkorchid', 'forestgreen']\n",
    "fig = pf.custom_graph_template(x_title='', y_title='', rows=1, columns=3, width=900,\n",
    "                               titles=['Young Adult', 'Middle Aged', 'Aged'], shared_y=True, shared_x=True)\n",
    "session_list = ['A', 'B', 'C', 'D']\n",
    "acc_contexts = pd.DataFrame()\n",
    "for session in session_list:\n",
    "    loop_data = trial_df[trial_df['session'] == session]\n",
    "    acc_contexts = pd.concat([acc_contexts, loop_data], ignore_index=True)\n",
    "grouped_data = acc_contexts.groupby(['group', 'context_day', 'session'], as_index=False).agg({yvar: ['mean', 'sem']})\n",
    "\n",
    "for idx, group in enumerate(reversed(grouped_data['group'].unique())):\n",
    "    gdata = grouped_data[grouped_data['group'] == group]\n",
    "    for sess_idx, session in enumerate(gdata['session'].unique()):\n",
    "        plot_data = gdata[gdata['session'] == session]\n",
    "        fig.add_trace(go.Scatter(x=plot_data['context_day'], y=plot_data[yvar]['mean'],\n",
    "                                 name=session, line_color=context_colors[sess_idx], legendgroup=session, showlegend=False,\n",
    "                                 error_y=dict(type='data', array=plot_data[yvar]['sem'])), row=1, col=idx+1)\n",
    "fig['data'][0]['showlegend'] = True\n",
    "fig['data'][1]['showlegend'] = True\n",
    "fig['data'][2]['showlegend'] = True\n",
    "fig['data'][3]['showlegend'] = True\n",
    "fig.update_yaxes(title='Number of Trials', col=1)\n",
    "fig.update_xaxes(title='Day in Context')\n",
    "fig.show()\n",
    "fig.write_image(pjoin(fig_path, f'ages_and_contexts_{yvar}.png'))"
   ]
  }
 ],
 "metadata": {
  "kernelspec": {
   "display_name": "calcium",
   "language": "python",
   "name": "python3"
  },
  "language_info": {
   "codemirror_mode": {
    "name": "ipython",
    "version": 3
   },
   "file_extension": ".py",
   "mimetype": "text/x-python",
   "name": "python",
   "nbconvert_exporter": "python",
   "pygments_lexer": "ipython3",
   "version": "3.10.8"
  },
  "orig_nbformat": 4
 },
 "nbformat": 4,
 "nbformat_minor": 2
}
