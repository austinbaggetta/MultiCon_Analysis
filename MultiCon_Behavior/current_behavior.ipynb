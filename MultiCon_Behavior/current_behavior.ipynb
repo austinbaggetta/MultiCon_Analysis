{
 "cells": [
  {
   "cell_type": "code",
   "execution_count": null,
   "metadata": {},
   "outputs": [],
   "source": [
    "%load_ext autoreload\n",
    "%autoreload 2\n",
    "import os\n",
    "import sys\n",
    "import numpy as np\n",
    "import pandas as pd\n",
    "\n",
    "sys.path.append(\"../\")\n",
    "import circletrack_behavior as ctb\n",
    "import plotting_functions as pf\n",
    "\n",
    "def set_groups(df):\n",
    "    df['group'] = df['mouse']\n",
    "    df['group'] = df['group'].replace({'mca01': 'wt_a', 'mca02': 'wt_a', 'mca03': 'wt_a', 'mca04': 'tg_a', 'mca05': 'tg_a', 'mca06': 'tg_a',\n",
    "                                       'mca07': 'tg_a', 'mca08': 'tg_a', 'mca09': 'tg_a', 'mca10': 'wt_a', 'mca11': 'wt_a', 'mca12': 'wt_a',\n",
    "                                       'mca13': 'tg_y', 'mca14': 'tg_y', 'mca15': 'tg_y', 'mca16': 'tg_y', 'mca17': 'tg_y', 'mca18': 'tg_y',\n",
    "                                       'mca19': 'wt_y', 'mca20': 'wt_y', 'mca21': 'wt_y', 'mca22': 'wt_y', 'mca23': 'wt_y'})\n",
    "    return df"
   ]
  },
  {
   "cell_type": "code",
   "execution_count": null,
   "metadata": {},
   "outputs": [],
   "source": [
    "## Set path variables\n",
    "behavior_type = 'circletrack_data'\n",
    "csv_name = 'circle_track.csv'\n",
    "dpath = os.path.abspath('../../MultiCon_Behavior/MultiCon_Aging1/{}/data/**/**/**/{}'.format(behavior_type, csv_name))\n",
    "group_colors = ['green', 'blue', 'turquoise', 'darkgrey'] ## tg_a, tg_y, wt_a, wt_y\n",
    "## Create file list dataframe\n",
    "file_list = ctb.get_file_list(dpath)\n",
    "mouse_id = []\n",
    "for file in file_list:\n",
    "    mouse_id.append(ctb.get_mouse(file, str2match='(mca[0-9]+)'))\n",
    "combined = ctb.combine(file_list, mouse_id)"
   ]
  },
  {
   "attachments": {},
   "cell_type": "markdown",
   "metadata": {},
   "source": [
    "### Get lick accuracy for a session."
   ]
  },
  {
   "cell_type": "code",
   "execution_count": null,
   "metadata": {},
   "outputs": [],
   "source": [
    "lick_df = pd.DataFrame()\n",
    "for mouse in np.unique(mouse_id):\n",
    "    lick_data = ctb.get_lick_accuracy(combined, mouse)\n",
    "    lick_df = pd.concat([lick_df, lick_data], ignore_index=True)\n",
    "lick_df = set_groups(lick_df)"
   ]
  },
  {
   "cell_type": "code",
   "execution_count": null,
   "metadata": {},
   "outputs": [],
   "source": [
    "lick_df[lick_df['mouse'] == 'mca04']"
   ]
  },
  {
   "cell_type": "code",
   "execution_count": null,
   "metadata": {},
   "outputs": [],
   "source": [
    "## Lick accuracy\n",
    "fig = pf.plot_behavior_across_days(lick_df, x_var='day', y_var='percent_correct', groupby_var=['day', 'group'], plot_transitions=None,\n",
    "                                   marker_color=group_colors, avg_color='darkgrey',\n",
    "                                   x_title='Day', y_title='Lick Accuracy (%)', titles=['Circle Track: Lick Accuracy'], height=800, width=800)\n",
    "fig.show()"
   ]
  },
  {
   "attachments": {},
   "cell_type": "markdown",
   "metadata": {},
   "source": [
    "### Get total rewards for a session."
   ]
  },
  {
   "cell_type": "code",
   "execution_count": null,
   "metadata": {},
   "outputs": [],
   "source": [
    "reward_df = pd.DataFrame()\n",
    "for mouse in np.unique(mouse_id):\n",
    "    reward_data = ctb.get_total_rewards(combined, mouse)\n",
    "    reward_df = pd.concat([reward_df, reward_data], ignore_index=True)\n",
    "reward_df = set_groups(reward_df)"
   ]
  },
  {
   "cell_type": "code",
   "execution_count": null,
   "metadata": {},
   "outputs": [],
   "source": [
    "fig = pf.plot_behavior_across_days(reward_df, x_var='day', y_var='total_rewards', groupby_var=['day', 'group'], plot_transitions=None,\n",
    "                                   marker_color=group_colors, avg_color='darkgrey', expert_line=False, chance=False,\n",
    "                                   x_title='Day', y_title='Total Rewards', titles=['Circle Track: Rewards'], height=800, width=800)\n",
    "fig.show()"
   ]
  },
  {
   "attachments": {},
   "cell_type": "markdown",
   "metadata": {},
   "source": [
    "### Set up mouse maze list for the day."
   ]
  },
  {
   "cell_type": "code",
   "execution_count": null,
   "metadata": {},
   "outputs": [],
   "source": [
    "day = 'Day 17' ## edit depending on day\n",
    "retired_mice = ['mca04'] ## 'mca09', 'mca18' ## add retired mouse to this list\n",
    "maze_info = pd.read_csv('../../MultiCon_Behavior/MultiCon_Aging1/maze_yml/maze_info.csv')\n",
    "todays_mazes = pd.read_csv('../../MultiCon_Behavior/MultiCon_Aging1/maze_yml/todays_mazes.csv') ## download at end of the day\n",
    "run_dict = {'maze1': [], 'maze2': [], 'maze3': [], 'maze4': []}\n",
    "letter_dict = {'maze1': [], 'maze2': [], 'maze3': [], 'maze4': []}\n",
    "for mouse in np.unique(reward_df['mouse']):\n",
    "    if mouse in retired_mice:\n",
    "        pass\n",
    "    else:\n",
    "        maze_letter = todays_mazes.loc[todays_mazes['Mouse'] == mouse, day].reset_index(drop=True)\n",
    "\n",
    "        if maze_letter[0] == 'A':\n",
    "            maze_number = maze_info.loc[maze_info['Mouse'] == mouse, \"if 'A'\"].reset_index(drop=True)\n",
    "        elif maze_letter[0] == 'B':\n",
    "            maze_number = maze_info.loc[maze_info['Mouse'] == mouse, \"if 'B'\"].reset_index(drop=True)\n",
    "        elif maze_letter[0] == 'C':\n",
    "            maze_number = maze_info.loc[maze_info['Mouse'] == mouse, \"if 'C'\"].reset_index(drop=True)\n",
    "        elif maze_letter[0] == 'D':\n",
    "            maze_number = maze_info.loc[maze_info['Mouse'] == mouse, \"if 'D'\"].reset_index(drop=True)\n",
    "\n",
    "        if maze_number[0] == 1:\n",
    "            run_dict['maze1'].append(mouse)\n",
    "            letter_dict['maze1'].append(maze_letter[0])\n",
    "        elif maze_number[0] == 2:\n",
    "            run_dict['maze2'].append(mouse)\n",
    "            letter_dict['maze2'].append(maze_letter[0])\n",
    "        elif maze_number[0] == 3:\n",
    "            run_dict['maze3'].append(mouse)\n",
    "            letter_dict['maze3'].append(maze_letter[0])\n",
    "        elif maze_number[0] == 4:\n",
    "            run_dict['maze4'].append(mouse)\n",
    "            letter_dict['maze4'].append(maze_letter[0])\n",
    "## Convert to dataframe to paste into excel         \n",
    "run_df = pd.DataFrame.from_dict(run_dict, orient='index').T \n",
    "letter_df = pd.DataFrame.from_dict(letter_dict, orient='index').T"
   ]
  },
  {
   "cell_type": "code",
   "execution_count": null,
   "metadata": {},
   "outputs": [],
   "source": [
    "run_df"
   ]
  },
  {
   "cell_type": "code",
   "execution_count": null,
   "metadata": {},
   "outputs": [],
   "source": [
    "letter_df"
   ]
  }
 ],
 "metadata": {
  "kernelspec": {
   "display_name": "calcium",
   "language": "python",
   "name": "python3"
  },
  "language_info": {
   "codemirror_mode": {
    "name": "ipython",
    "version": 3
   },
   "file_extension": ".py",
   "mimetype": "text/x-python",
   "name": "python",
   "nbconvert_exporter": "python",
   "pygments_lexer": "ipython3",
   "version": "3.10.6"
  },
  "orig_nbformat": 4
 },
 "nbformat": 4,
 "nbformat_minor": 2
}
