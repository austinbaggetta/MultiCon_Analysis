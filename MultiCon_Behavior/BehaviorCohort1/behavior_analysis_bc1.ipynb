{
 "cells": [
  {
   "cell_type": "code",
   "execution_count": 2,
   "metadata": {},
   "outputs": [
    {
     "name": "stderr",
     "output_type": "stream",
     "text": [
      "/home/austinbaggetta/.conda/envs/calcium/lib/python3.10/site-packages/outdated/utils.py:14: OutdatedPackageWarning: The package pingouin is out of date. Your version is 0.5.2, the latest is 0.5.5.\n",
      "Set the environment variable OUTDATED_IGNORE=1 to disable these warnings.\n",
      "  return warn(\n"
     ]
    }
   ],
   "source": [
    "%load_ext autoreload\n",
    "%autoreload 2\n",
    "import os\n",
    "import sys\n",
    "import numpy as np\n",
    "import pandas as pd\n",
    "import pingouin as pg\n",
    "import plotly.graph_objects as go\n",
    "from os.path import join as pjoin\n",
    "import plotly.express as px\n",
    "\n",
    "sys.path.append(\"../..\")\n",
    "import circletrack_behavior as ctb\n",
    "import plotting_functions as pf"
   ]
  },
  {
   "cell_type": "code",
   "execution_count": 3,
   "metadata": {},
   "outputs": [],
   "source": [
    "## Excluded mice ms18, ms22, ms28 due to failing to learn\n",
    "## Set mouse lists and directory\n",
    "fixed = [f'ms0{num}' for num in np.arange(1, 9)]\n",
    "fixed = fixed + [f'ms{num}' for num in np.arange(35, 41)]\n",
    "criteria = ['ms09', 'ms11', 'ms12', 'ms17', 'ms19', 'ms21', \n",
    "            'ms26', 'ms27', 'ms30', 'ms31', 'ms33', 'ms34']\n",
    "cr_5 = ['ms10', 'ms13', 'ms14', 'ms15', 'ms16', 'ms20', \n",
    "        'ms23', 'ms24', 'ms25', 'ms29', 'ms32']\n",
    "no_probe = ['ms27', 'ms31', 'ms33', 'ms34', 'ms14', 'ms23', 'ms24', 'ms09', 'ms38', 'ms29', 'ms05', 'ms06', 'ms35', 'ms01', 'ms16', 'ms11', 'ms40', 'ms03', 'ms19'] ## check ms23 later\n",
    "orthogonal = ['ms02', 'ms05', 'ms06', 'ms15', 'ms17', 'ms23', 'ms26', 'ms30', 'ms34', 'ms37']\n",
    "behav_path = '../../../MultiCon_Behavior/BehaviorCohort1/output/behav/'\n",
    "fig_path = '../../../MultiCon_Behavior/BehaviorCohort1/intermediate_figures/'\n",
    "if not os.path.exists(fig_path):\n",
    "    os.mkdir(fig_path)\n",
    "\n",
    "## Group colors to change plots\n",
    "group_colors = {'criteria': 'darkorchid', 'cr_5': 'darkgrey', 'fixed': 'lightblue', 'orthog': 'turquoise', 'nonorthog': 'darkgrey'}"
   ]
  },
  {
   "cell_type": "code",
   "execution_count": null,
   "metadata": {},
   "outputs": [],
   "source": [
    "## Check whether trial trimes are different between groups\n",
    "trial_times_dict = {'mouse': [], 'forward_trials': [], 'reverse_trials': [], 'group': [], 'session': []}\n",
    "for mouse in fixed + criteria + cr_5:\n",
    "    mouse_path = pjoin(behav_path, mouse)\n",
    "    group = 'fixed' if mouse in fixed else 'criteria' if mouse in criteria else 'cr_5'\n",
    "    for session in os.listdir(mouse_path):\n",
    "        if (session == 'ms35_3.feat') | (session == 'ms23_50.feat'): ## Trials are NaN\n",
    "            next\n",
    "        else:\n",
    "            behav_data = pd.read_feather(pjoin(mouse_path, f'{session}'))\n",
    "            time_diff_forward, time_diff_reverse = ctb.calculate_trial_length(behav_data, forward_reverse=True, recalc_trials=False)\n",
    "            trial_times_dict['mouse'].append(mouse)\n",
    "            trial_times_dict['forward_trials'].append(time_diff_forward)\n",
    "            trial_times_dict['reverse_trials'].append(time_diff_reverse)\n",
    "            trial_times_dict['group'].append(group)\n",
    "            trial_times_dict['session'].append(np.unique(behav_data['session'])[0])\n",
    "## Convert to dataframe\n",
    "trial_times = pd.DataFrame(trial_times_dict)\n",
    "\n",
    "fixed_trials = []\n",
    "for trials in trial_times['forward_trials'][trial_times['group'] == 'fixed']:\n",
    "    fixed_trials = fixed_trials + trials\n",
    "\n",
    "criteria_trials = []\n",
    "for trials in trial_times['forward_trials'][trial_times['group'] == 'criteria']:\n",
    "    criteria_trials = criteria_trials + trials\n",
    "\n",
    "cr5_trials = []\n",
    "for trials in trial_times['forward_trials'][trial_times['group'] == 'cr_5']:\n",
    "    cr5_trials = cr5_trials + trials"
   ]
  },
  {
   "cell_type": "code",
   "execution_count": null,
   "metadata": {},
   "outputs": [],
   "source": [
    "## Bar chart of trial times per mouse per session\n",
    "trial_dict_session = {'mouse': [], 'day': [], 'session': [], 'avg_time': [], 'std': [], 'sem': [], 'group': []}\n",
    "for mouse in np.unique(trial_times['mouse']):\n",
    "    mouse_trials = trial_times[trial_times['mouse'] == mouse].reset_index()\n",
    "    for idx, trials in enumerate(mouse_trials['forward_trials']):\n",
    "        trial_dict_session['mouse'].append(mouse)\n",
    "        trial_dict_session['day'].append(idx+1)\n",
    "        trial_dict_session['session'].append(mouse_trials.loc[idx, 'session'])\n",
    "        trial_dict_session['avg_time'].append(np.mean(trials))\n",
    "        trial_dict_session['std'].append(np.std(trials))\n",
    "        trial_dict_session['sem'].append(np.std(trials)/len(trials))\n",
    "        trial_dict_session['group'].append(np.unique(mouse_trials['group'])[0])\n",
    "mouse_trial_session_df = pd.DataFrame(trial_dict_session)\n",
    "avg_session = mouse_trial_session_df.groupby(['group', 'session'], as_index=False).agg({'avg_time': ['mean', 'sem']})\n",
    "avg_session_df = avg_session['avg_time']\n",
    "avg_session_df.insert(0, 'group', avg_session['group'])\n",
    "avg_session_df.insert(1, 'session', avg_session['session'])"
   ]
  },
  {
   "cell_type": "code",
   "execution_count": null,
   "metadata": {},
   "outputs": [],
   "source": [
    "## Bar chart of average trial time per context\n",
    "fixed_df = avg_session_df[(avg_session_df['group'] == 'fixed') & (avg_session_df['session'] != 'ND')]\n",
    "criteria_df = avg_session_df[(avg_session_df['group'] == 'criteria') & (avg_session_df['session'] != 'ND')]\n",
    "cr5_df = avg_session_df[avg_session_df['group'] == 'cr_5'] \n",
    "cr5_df = cr5_df[(avg_session_df['session'] == 'A') | (avg_session_df['session'] == 'B') | (avg_session_df['session'] == 'C') | \n",
    "                (avg_session_df['session'] == 'D') | (avg_session_df['session'] == 'AP')]\n",
    "subset_trials = mouse_trial_session_df[(mouse_trial_session_df['session'] == 'A') | (mouse_trial_session_df['session'] == 'B') |\n",
    "                                       (mouse_trial_session_df['session'] == 'C') | (mouse_trial_session_df['session'] == 'D') | (mouse_trial_session_df['session'] == 'AP')]\n",
    "mtt = subset_trials.groupby(['mouse', 'session', 'group'], as_index=False).agg({'avg_time': 'mean'})\n",
    "fig = px.strip(mtt, x='session', y='avg_time', color='group', hover_name='mouse',\n",
    "               color_discrete_sequence=[group_colors['fixed'], group_colors['criteria'], group_colors['cr_5']]).update_traces(showlegend=False, opacity=0.8,\n",
    "                                                                                                                              marker_line_width=1)\n",
    "fig.add_trace(go.Bar(x=fixed_df['session'], y=fixed_df['mean'],\n",
    "                     error_y=dict(type='data', array=fixed_df['sem'], thickness=2.5, width=10),\n",
    "                     marker_color=group_colors['fixed'], marker_line_color='black', \n",
    "                     marker_line_width=2, name='Fixed', opacity=0.8))\n",
    "fig.add_trace(go.Bar(x=criteria_df['session'], y=criteria_df['mean'],\n",
    "                     error_y=dict(type='data', array=criteria_df['sem'], thickness=2.5, width=10),\n",
    "                     marker_color=group_colors['criteria'], marker_line_color='black', \n",
    "                     marker_line_width=2, name='Criteria', opacity=0.8))\n",
    "fig.add_trace(go.Bar(x=cr5_df['session'], y=cr5_df['mean'],\n",
    "                     error_y=dict(type='data', array=cr5_df['sem'], thickness=2.5, width=10),\n",
    "                     marker_color=group_colors['cr_5'], marker_line_color='black', \n",
    "                     marker_line_width=2, name='Criteria+5', opacity=0.8))\n",
    "fig.update_layout(height=500, width=600, template='simple_white', legend_title_text='', yaxis_title='Average Trial Time (s)',\n",
    "                  xaxis_title='', font=dict(size=16))\n",
    "fig.update_xaxes(categoryorder='array', categoryarray=['A', 'B', 'C', 'D', 'AP'])\n",
    "fig.show()\n",
    "fig.write_image(pjoin(fig_path, 'average_trial_time.png'))"
   ]
  },
  {
   "cell_type": "code",
   "execution_count": null,
   "metadata": {},
   "outputs": [],
   "source": [
    "subset_trials.mixed_anova(dv='avg_time', within='session', subject='mouse', between='group')"
   ]
  },
  {
   "cell_type": "code",
   "execution_count": null,
   "metadata": {},
   "outputs": [],
   "source": [
    "## Number of trials\n",
    "num_trials_dict = {'mouse': [], 'num_trials': [], 'group': [], 'session': []}\n",
    "for mouse in np.unique(trial_times['mouse']):\n",
    "    sub_data = trial_times[trial_times['mouse'] == mouse]\n",
    "    for row, _ in sub_data.iterrows():\n",
    "        num_trials_dict['mouse'].append(mouse)\n",
    "        num_trials_dict['num_trials'].append(len(sub_data.loc[row, 'forward_trials']))\n",
    "        num_trials_dict['group'].append(sub_data.loc[row, 'group'])\n",
    "        num_trials_dict['session'].append(sub_data.loc[row, 'session'])\n",
    "num_trials_df = pd.DataFrame(num_trials_dict)\n",
    "result = num_trials_df.groupby(['group', 'session'], as_index=False).agg({'num_trials': ['mean', 'sem']})\n",
    "avg_trial_times = result['num_trials']\n",
    "avg_trial_times.insert(0, 'group', result['group'])\n",
    "avg_trial_times.insert(1, 'session', result['session'])"
   ]
  },
  {
   "cell_type": "code",
   "execution_count": null,
   "metadata": {},
   "outputs": [],
   "source": [
    "## Plot avg number of trials per mouse per context\n",
    "fixed_df = avg_trial_times[(avg_trial_times['group'] == 'fixed') & (avg_trial_times['session'] != 'ND')]\n",
    "criteria_df = avg_trial_times[(avg_trial_times['group'] == 'criteria') & (avg_trial_times['session'] != 'ND')]\n",
    "cr5_df = avg_trial_times[avg_trial_times['group'] == 'cr_5'] \n",
    "cr5_df = cr5_df[(avg_trial_times['session'] == 'A') | (avg_trial_times['session'] == 'B') | (avg_trial_times['session'] == 'C') | \n",
    "                (avg_trial_times['session'] == 'D') | (avg_trial_times['session'] == 'AP')]\n",
    "subset_trials = num_trials_df[(mouse_trial_session_df['session'] == 'A') | (mouse_trial_session_df['session'] == 'B') |\n",
    "                                       (mouse_trial_session_df['session'] == 'C') | (mouse_trial_session_df['session'] == 'D') | (mouse_trial_session_df['session'] == 'AP')]\n",
    "ntrials_df = subset_trials.groupby(['mouse', 'session', 'group'], as_index=False).agg({'num_trials': 'mean'})\n",
    "fig = px.strip(ntrials_df, x='session', y='num_trials', color='group', hover_name='mouse',\n",
    "               color_discrete_sequence=[group_colors['fixed'], group_colors['criteria'], group_colors['cr_5']]).update_traces(showlegend=False, opacity=0.8,\n",
    "                                                                                                                              marker_line_width=1)\n",
    "fig.add_trace(go.Bar(x=fixed_df['session'], y=fixed_df['mean'],\n",
    "                     error_y=dict(type='data', array=fixed_df['sem'], thickness=2.5, width=10),\n",
    "                     marker_color=group_colors['fixed'], marker_line_color='black', \n",
    "                     marker_line_width=2, name='Fixed', opacity=0.8))\n",
    "fig.add_trace(go.Bar(x=criteria_df['session'], y=criteria_df['mean'],\n",
    "                     error_y=dict(type='data', array=criteria_df['sem'], thickness=2.5, width=10),\n",
    "                     marker_color=group_colors['criteria'], marker_line_color='black', \n",
    "                     marker_line_width=2, name='Criteria', opacity=0.8))\n",
    "fig.add_trace(go.Bar(x=cr5_df['session'], y=cr5_df['mean'],\n",
    "                     error_y=dict(type='data', array=cr5_df['sem'], thickness=2.5, width=10),\n",
    "                     marker_color=group_colors['cr_5'], marker_line_color='black', \n",
    "                     marker_line_width=2, name='Criteria+5', opacity=0.8))\n",
    "fig.update_layout(height=500, width=600, template='simple_white', legend_title_text='', yaxis_title='Average Number of Trials',\n",
    "                  xaxis_title='', font=dict(size=16))\n",
    "fig.update_xaxes(categoryorder='array', categoryarray=['A', 'B', 'C', 'D', 'AP'])\n",
    "fig.show()\n",
    "fig.write_image(pjoin(fig_path, 'average_number_of_trials.png'))"
   ]
  },
  {
   "cell_type": "code",
   "execution_count": null,
   "metadata": {},
   "outputs": [],
   "source": [
    "ntrials_df.mixed_anova(dv='num_trials', within='session', subject='mouse', between='group')"
   ]
  },
  {
   "cell_type": "code",
   "execution_count": 10,
   "metadata": {},
   "outputs": [],
   "source": [
    "## Days to Criteria\n",
    "days_to = {'mouse': [], 'group': [], 'session': []}\n",
    "for mouse in criteria + cr_5:\n",
    "    mouse_path = pjoin(behav_path, mouse)\n",
    "    group = 'fixed' if mouse in fixed else 'criteria' if mouse in criteria else 'cr_5'\n",
    "    for session in os.listdir(mouse_path):\n",
    "        behav_data = pd.read_feather(pjoin(mouse_path, f'{session}'))\n",
    "        days_to['mouse'].append(mouse)\n",
    "        days_to['group'].append(group)\n",
    "        days_to['session'].append(np.unique(behav_data['session'])[0])\n",
    "## Convert to dataframe\n",
    "days_to_df = pd.DataFrame(days_to)\n",
    "days_to_df = days_to_df[(days_to_df['session'] == 'A') | (days_to_df['session'] == 'B') |\n",
    "                        (days_to_df['session'] == 'C') | (days_to_df['session'] == 'D')]\n",
    "days_to_df.insert(3, 'session_count', days_to_df['session'])\n",
    "days_to_criteria = days_to_df.groupby(['mouse', 'group', 'session'], as_index=False).agg({'session_count': 'count'})\n",
    "result = days_to_criteria.groupby(['group', 'session'], as_index=False).agg({'session_count': ['mean', 'sem']})"
   ]
  },
  {
   "cell_type": "code",
   "execution_count": 11,
   "metadata": {},
   "outputs": [
    {
     "data": {
      "application/vnd.plotly.v1+json": {
       "config": {
        "plotlyServerURL": "https://plot.ly"
       },
       "data": [
        {
         "error_y": {
          "array": [
           1.3447172426982252,
           0.7841403146490118,
           1.0381165398996508,
           0.8508624695852792
          ],
          "thickness": 1.5,
          "type": "data",
          "width": 8
         },
         "legendgroup": "cr_5",
         "line": {
          "color": "darkgrey"
         },
         "mode": "lines+markers",
         "name": "Criteria+5",
         "type": "scatter",
         "x": [
          "A",
          "B",
          "C",
          "D"
         ],
         "y": [
          12.909090909090908,
          6.181818181818182,
          4.363636363636363,
          4.818181818181818
         ]
        },
        {
         "error_y": {
          "array": [
           1.3621414364629294,
           1.0258649959419561,
           0.7732098908792717,
           1.1577036657874837
          ],
          "thickness": 1.5,
          "type": "data",
          "width": 8
         },
         "legendgroup": "criteria",
         "line": {
          "color": "darkorchid"
         },
         "mode": "lines+markers",
         "name": "Criteria",
         "type": "scatter",
         "x": [
          "A",
          "B",
          "C",
          "D"
         ],
         "y": [
          13.083333333333334,
          6.416666666666667,
          4.583333333333333,
          4.583333333333333
         ]
        },
        {
         "legendgroup": "criteria",
         "marker": {
          "color": "darkorchid",
          "line": {
           "width": 1
          }
         },
         "mode": "markers",
         "name": "ms09",
         "opacity": 0.8,
         "showlegend": false,
         "type": "scatter",
         "x": [
          "A",
          "B",
          "C",
          "D"
         ],
         "y": [
          12,
          8,
          3,
          2
         ]
        },
        {
         "legendgroup": "criteria",
         "marker": {
          "color": "darkorchid",
          "line": {
           "width": 1
          }
         },
         "mode": "markers",
         "name": "ms11",
         "opacity": 0.8,
         "showlegend": false,
         "type": "scatter",
         "x": [
          "A",
          "B",
          "C",
          "D"
         ],
         "y": [
          8,
          5,
          3,
          6
         ]
        },
        {
         "legendgroup": "criteria",
         "marker": {
          "color": "darkorchid",
          "line": {
           "width": 1
          }
         },
         "mode": "markers",
         "name": "ms12",
         "opacity": 0.8,
         "showlegend": false,
         "type": "scatter",
         "x": [
          "A",
          "B",
          "C",
          "D"
         ],
         "y": [
          9,
          4,
          10,
          6
         ]
        },
        {
         "legendgroup": "criteria",
         "marker": {
          "color": "darkorchid",
          "line": {
           "width": 1
          }
         },
         "mode": "markers",
         "name": "ms17",
         "opacity": 0.8,
         "showlegend": false,
         "type": "scatter",
         "x": [
          "A",
          "B",
          "C",
          "D"
         ],
         "y": [
          9,
          4,
          4,
          1
         ]
        },
        {
         "legendgroup": "criteria",
         "marker": {
          "color": "darkorchid",
          "line": {
           "width": 1
          }
         },
         "mode": "markers",
         "name": "ms19",
         "opacity": 0.8,
         "showlegend": false,
         "type": "scatter",
         "x": [
          "A",
          "B",
          "C",
          "D"
         ],
         "y": [
          21,
          4,
          2,
          15
         ]
        },
        {
         "legendgroup": "criteria",
         "marker": {
          "color": "darkorchid",
          "line": {
           "width": 1
          }
         },
         "mode": "markers",
         "name": "ms21",
         "opacity": 0.8,
         "showlegend": false,
         "type": "scatter",
         "x": [
          "A",
          "B",
          "C",
          "D"
         ],
         "y": [
          20,
          6,
          3,
          3
         ]
        },
        {
         "legendgroup": "criteria",
         "marker": {
          "color": "darkorchid",
          "line": {
           "width": 1
          }
         },
         "mode": "markers",
         "name": "ms26",
         "opacity": 0.8,
         "showlegend": false,
         "type": "scatter",
         "x": [
          "A",
          "B",
          "C",
          "D"
         ],
         "y": [
          19,
          9,
          3,
          2
         ]
        },
        {
         "legendgroup": "criteria",
         "marker": {
          "color": "darkorchid",
          "line": {
           "width": 1
          }
         },
         "mode": "markers",
         "name": "ms27",
         "opacity": 0.8,
         "showlegend": false,
         "type": "scatter",
         "x": [
          "A",
          "B",
          "C",
          "D"
         ],
         "y": [
          9,
          8,
          5,
          3
         ]
        },
        {
         "legendgroup": "criteria",
         "marker": {
          "color": "darkorchid",
          "line": {
           "width": 1
          }
         },
         "mode": "markers",
         "name": "ms30",
         "opacity": 0.8,
         "showlegend": false,
         "type": "scatter",
         "x": [
          "A",
          "B",
          "C",
          "D"
         ],
         "y": [
          9,
          15,
          2,
          4
         ]
        },
        {
         "legendgroup": "criteria",
         "marker": {
          "color": "darkorchid",
          "line": {
           "width": 1
          }
         },
         "mode": "markers",
         "name": "ms31",
         "opacity": 0.8,
         "showlegend": false,
         "type": "scatter",
         "x": [
          "A",
          "B",
          "C",
          "D"
         ],
         "y": [
          15,
          8,
          4,
          2
         ]
        },
        {
         "legendgroup": "criteria",
         "marker": {
          "color": "darkorchid",
          "line": {
           "width": 1
          }
         },
         "mode": "markers",
         "name": "ms33",
         "opacity": 0.8,
         "showlegend": false,
         "type": "scatter",
         "x": [
          "A",
          "B",
          "C",
          "D"
         ],
         "y": [
          12,
          1,
          7,
          9
         ]
        },
        {
         "legendgroup": "criteria",
         "marker": {
          "color": "darkorchid",
          "line": {
           "width": 1
          }
         },
         "mode": "markers",
         "name": "ms34",
         "opacity": 0.8,
         "showlegend": false,
         "type": "scatter",
         "x": [
          "A",
          "B",
          "C",
          "D"
         ],
         "y": [
          14,
          5,
          9,
          2
         ]
        },
        {
         "legendgroup": "cr_5",
         "marker": {
          "color": "darkgrey",
          "line": {
           "width": 1
          }
         },
         "mode": "markers",
         "name": "ms10",
         "opacity": 0.8,
         "showlegend": false,
         "type": "scatter",
         "x": [
          "A",
          "B",
          "C",
          "D"
         ],
         "y": [
          20,
          5,
          4,
          12
         ]
        },
        {
         "legendgroup": "cr_5",
         "marker": {
          "color": "darkgrey",
          "line": {
           "width": 1
          }
         },
         "mode": "markers",
         "name": "ms13",
         "opacity": 0.8,
         "showlegend": false,
         "type": "scatter",
         "x": [
          "A",
          "B",
          "C",
          "D"
         ],
         "y": [
          20,
          4,
          3,
          2
         ]
        },
        {
         "legendgroup": "cr_5",
         "marker": {
          "color": "darkgrey",
          "line": {
           "width": 1
          }
         },
         "mode": "markers",
         "name": "ms14",
         "opacity": 0.8,
         "showlegend": false,
         "type": "scatter",
         "x": [
          "A",
          "B",
          "C",
          "D"
         ],
         "y": [
          13,
          8,
          2,
          6
         ]
        },
        {
         "legendgroup": "cr_5",
         "marker": {
          "color": "darkgrey",
          "line": {
           "width": 1
          }
         },
         "mode": "markers",
         "name": "ms15",
         "opacity": 0.8,
         "showlegend": false,
         "type": "scatter",
         "x": [
          "A",
          "B",
          "C",
          "D"
         ],
         "y": [
          8,
          9,
          3,
          4
         ]
        },
        {
         "legendgroup": "cr_5",
         "marker": {
          "color": "darkgrey",
          "line": {
           "width": 1
          }
         },
         "mode": "markers",
         "name": "ms16",
         "opacity": 0.8,
         "showlegend": false,
         "type": "scatter",
         "x": [
          "A",
          "B",
          "C",
          "D"
         ],
         "y": [
          9,
          5,
          2,
          3
         ]
        },
        {
         "legendgroup": "cr_5",
         "marker": {
          "color": "darkgrey",
          "line": {
           "width": 1
          }
         },
         "mode": "markers",
         "name": "ms20",
         "opacity": 0.8,
         "showlegend": false,
         "type": "scatter",
         "x": [
          "A",
          "B",
          "C",
          "D"
         ],
         "y": [
          8,
          3,
          5,
          6
         ]
        },
        {
         "legendgroup": "cr_5",
         "marker": {
          "color": "darkgrey",
          "line": {
           "width": 1
          }
         },
         "mode": "markers",
         "name": "ms23",
         "opacity": 0.8,
         "showlegend": false,
         "type": "scatter",
         "x": [
          "A",
          "B",
          "C",
          "D"
         ],
         "y": [
          17,
          5,
          10,
          3
         ]
        },
        {
         "legendgroup": "cr_5",
         "marker": {
          "color": "darkgrey",
          "line": {
           "width": 1
          }
         },
         "mode": "markers",
         "name": "ms24",
         "opacity": 0.8,
         "showlegend": false,
         "type": "scatter",
         "x": [
          "A",
          "B",
          "C",
          "D"
         ],
         "y": [
          12,
          11,
          3,
          4
         ]
        },
        {
         "legendgroup": "cr_5",
         "marker": {
          "color": "darkgrey",
          "line": {
           "width": 1
          }
         },
         "mode": "markers",
         "name": "ms25",
         "opacity": 0.8,
         "showlegend": false,
         "type": "scatter",
         "x": [
          "A",
          "B",
          "C",
          "D"
         ],
         "y": [
          14,
          8,
          12,
          6
         ]
        },
        {
         "legendgroup": "cr_5",
         "marker": {
          "color": "darkgrey",
          "line": {
           "width": 1
          }
         },
         "mode": "markers",
         "name": "ms29",
         "opacity": 0.8,
         "showlegend": false,
         "type": "scatter",
         "x": [
          "A",
          "B",
          "C",
          "D"
         ],
         "y": [
          9,
          3,
          2,
          2
         ]
        },
        {
         "legendgroup": "cr_5",
         "marker": {
          "color": "darkgrey",
          "line": {
           "width": 1
          }
         },
         "mode": "markers",
         "name": "ms32",
         "opacity": 0.8,
         "showlegend": false,
         "type": "scatter",
         "x": [
          "A",
          "B",
          "C",
          "D"
         ],
         "y": [
          12,
          7,
          2,
          5
         ]
        }
       ],
       "layout": {
        "font": {
         "family": "Arial",
         "size": 22
        },
        "height": 500,
        "template": {
         "data": {
          "bar": [
           {
            "error_x": {
             "color": "rgb(36,36,36)"
            },
            "error_y": {
             "color": "rgb(36,36,36)"
            },
            "marker": {
             "line": {
              "color": "white",
              "width": 0.5
             },
             "pattern": {
              "fillmode": "overlay",
              "size": 10,
              "solidity": 0.2
             }
            },
            "type": "bar"
           }
          ],
          "barpolar": [
           {
            "marker": {
             "line": {
              "color": "white",
              "width": 0.5
             },
             "pattern": {
              "fillmode": "overlay",
              "size": 10,
              "solidity": 0.2
             }
            },
            "type": "barpolar"
           }
          ],
          "carpet": [
           {
            "aaxis": {
             "endlinecolor": "rgb(36,36,36)",
             "gridcolor": "white",
             "linecolor": "white",
             "minorgridcolor": "white",
             "startlinecolor": "rgb(36,36,36)"
            },
            "baxis": {
             "endlinecolor": "rgb(36,36,36)",
             "gridcolor": "white",
             "linecolor": "white",
             "minorgridcolor": "white",
             "startlinecolor": "rgb(36,36,36)"
            },
            "type": "carpet"
           }
          ],
          "choropleth": [
           {
            "colorbar": {
             "outlinewidth": 1,
             "tickcolor": "rgb(36,36,36)",
             "ticks": "outside"
            },
            "type": "choropleth"
           }
          ],
          "contour": [
           {
            "colorbar": {
             "outlinewidth": 1,
             "tickcolor": "rgb(36,36,36)",
             "ticks": "outside"
            },
            "colorscale": [
             [
              0,
              "#440154"
             ],
             [
              0.1111111111111111,
              "#482878"
             ],
             [
              0.2222222222222222,
              "#3e4989"
             ],
             [
              0.3333333333333333,
              "#31688e"
             ],
             [
              0.4444444444444444,
              "#26828e"
             ],
             [
              0.5555555555555556,
              "#1f9e89"
             ],
             [
              0.6666666666666666,
              "#35b779"
             ],
             [
              0.7777777777777778,
              "#6ece58"
             ],
             [
              0.8888888888888888,
              "#b5de2b"
             ],
             [
              1,
              "#fde725"
             ]
            ],
            "type": "contour"
           }
          ],
          "contourcarpet": [
           {
            "colorbar": {
             "outlinewidth": 1,
             "tickcolor": "rgb(36,36,36)",
             "ticks": "outside"
            },
            "type": "contourcarpet"
           }
          ],
          "heatmap": [
           {
            "colorbar": {
             "outlinewidth": 1,
             "tickcolor": "rgb(36,36,36)",
             "ticks": "outside"
            },
            "colorscale": [
             [
              0,
              "#440154"
             ],
             [
              0.1111111111111111,
              "#482878"
             ],
             [
              0.2222222222222222,
              "#3e4989"
             ],
             [
              0.3333333333333333,
              "#31688e"
             ],
             [
              0.4444444444444444,
              "#26828e"
             ],
             [
              0.5555555555555556,
              "#1f9e89"
             ],
             [
              0.6666666666666666,
              "#35b779"
             ],
             [
              0.7777777777777778,
              "#6ece58"
             ],
             [
              0.8888888888888888,
              "#b5de2b"
             ],
             [
              1,
              "#fde725"
             ]
            ],
            "type": "heatmap"
           }
          ],
          "heatmapgl": [
           {
            "colorbar": {
             "outlinewidth": 1,
             "tickcolor": "rgb(36,36,36)",
             "ticks": "outside"
            },
            "colorscale": [
             [
              0,
              "#440154"
             ],
             [
              0.1111111111111111,
              "#482878"
             ],
             [
              0.2222222222222222,
              "#3e4989"
             ],
             [
              0.3333333333333333,
              "#31688e"
             ],
             [
              0.4444444444444444,
              "#26828e"
             ],
             [
              0.5555555555555556,
              "#1f9e89"
             ],
             [
              0.6666666666666666,
              "#35b779"
             ],
             [
              0.7777777777777778,
              "#6ece58"
             ],
             [
              0.8888888888888888,
              "#b5de2b"
             ],
             [
              1,
              "#fde725"
             ]
            ],
            "type": "heatmapgl"
           }
          ],
          "histogram": [
           {
            "marker": {
             "line": {
              "color": "white",
              "width": 0.6
             }
            },
            "type": "histogram"
           }
          ],
          "histogram2d": [
           {
            "colorbar": {
             "outlinewidth": 1,
             "tickcolor": "rgb(36,36,36)",
             "ticks": "outside"
            },
            "colorscale": [
             [
              0,
              "#440154"
             ],
             [
              0.1111111111111111,
              "#482878"
             ],
             [
              0.2222222222222222,
              "#3e4989"
             ],
             [
              0.3333333333333333,
              "#31688e"
             ],
             [
              0.4444444444444444,
              "#26828e"
             ],
             [
              0.5555555555555556,
              "#1f9e89"
             ],
             [
              0.6666666666666666,
              "#35b779"
             ],
             [
              0.7777777777777778,
              "#6ece58"
             ],
             [
              0.8888888888888888,
              "#b5de2b"
             ],
             [
              1,
              "#fde725"
             ]
            ],
            "type": "histogram2d"
           }
          ],
          "histogram2dcontour": [
           {
            "colorbar": {
             "outlinewidth": 1,
             "tickcolor": "rgb(36,36,36)",
             "ticks": "outside"
            },
            "colorscale": [
             [
              0,
              "#440154"
             ],
             [
              0.1111111111111111,
              "#482878"
             ],
             [
              0.2222222222222222,
              "#3e4989"
             ],
             [
              0.3333333333333333,
              "#31688e"
             ],
             [
              0.4444444444444444,
              "#26828e"
             ],
             [
              0.5555555555555556,
              "#1f9e89"
             ],
             [
              0.6666666666666666,
              "#35b779"
             ],
             [
              0.7777777777777778,
              "#6ece58"
             ],
             [
              0.8888888888888888,
              "#b5de2b"
             ],
             [
              1,
              "#fde725"
             ]
            ],
            "type": "histogram2dcontour"
           }
          ],
          "mesh3d": [
           {
            "colorbar": {
             "outlinewidth": 1,
             "tickcolor": "rgb(36,36,36)",
             "ticks": "outside"
            },
            "type": "mesh3d"
           }
          ],
          "parcoords": [
           {
            "line": {
             "colorbar": {
              "outlinewidth": 1,
              "tickcolor": "rgb(36,36,36)",
              "ticks": "outside"
             }
            },
            "type": "parcoords"
           }
          ],
          "pie": [
           {
            "automargin": true,
            "type": "pie"
           }
          ],
          "scatter": [
           {
            "fillpattern": {
             "fillmode": "overlay",
             "size": 10,
             "solidity": 0.2
            },
            "type": "scatter"
           }
          ],
          "scatter3d": [
           {
            "line": {
             "colorbar": {
              "outlinewidth": 1,
              "tickcolor": "rgb(36,36,36)",
              "ticks": "outside"
             }
            },
            "marker": {
             "colorbar": {
              "outlinewidth": 1,
              "tickcolor": "rgb(36,36,36)",
              "ticks": "outside"
             }
            },
            "type": "scatter3d"
           }
          ],
          "scattercarpet": [
           {
            "marker": {
             "colorbar": {
              "outlinewidth": 1,
              "tickcolor": "rgb(36,36,36)",
              "ticks": "outside"
             }
            },
            "type": "scattercarpet"
           }
          ],
          "scattergeo": [
           {
            "marker": {
             "colorbar": {
              "outlinewidth": 1,
              "tickcolor": "rgb(36,36,36)",
              "ticks": "outside"
             }
            },
            "type": "scattergeo"
           }
          ],
          "scattergl": [
           {
            "marker": {
             "colorbar": {
              "outlinewidth": 1,
              "tickcolor": "rgb(36,36,36)",
              "ticks": "outside"
             }
            },
            "type": "scattergl"
           }
          ],
          "scattermapbox": [
           {
            "marker": {
             "colorbar": {
              "outlinewidth": 1,
              "tickcolor": "rgb(36,36,36)",
              "ticks": "outside"
             }
            },
            "type": "scattermapbox"
           }
          ],
          "scatterpolar": [
           {
            "marker": {
             "colorbar": {
              "outlinewidth": 1,
              "tickcolor": "rgb(36,36,36)",
              "ticks": "outside"
             }
            },
            "type": "scatterpolar"
           }
          ],
          "scatterpolargl": [
           {
            "marker": {
             "colorbar": {
              "outlinewidth": 1,
              "tickcolor": "rgb(36,36,36)",
              "ticks": "outside"
             }
            },
            "type": "scatterpolargl"
           }
          ],
          "scatterternary": [
           {
            "marker": {
             "colorbar": {
              "outlinewidth": 1,
              "tickcolor": "rgb(36,36,36)",
              "ticks": "outside"
             }
            },
            "type": "scatterternary"
           }
          ],
          "surface": [
           {
            "colorbar": {
             "outlinewidth": 1,
             "tickcolor": "rgb(36,36,36)",
             "ticks": "outside"
            },
            "colorscale": [
             [
              0,
              "#440154"
             ],
             [
              0.1111111111111111,
              "#482878"
             ],
             [
              0.2222222222222222,
              "#3e4989"
             ],
             [
              0.3333333333333333,
              "#31688e"
             ],
             [
              0.4444444444444444,
              "#26828e"
             ],
             [
              0.5555555555555556,
              "#1f9e89"
             ],
             [
              0.6666666666666666,
              "#35b779"
             ],
             [
              0.7777777777777778,
              "#6ece58"
             ],
             [
              0.8888888888888888,
              "#b5de2b"
             ],
             [
              1,
              "#fde725"
             ]
            ],
            "type": "surface"
           }
          ],
          "table": [
           {
            "cells": {
             "fill": {
              "color": "rgb(237,237,237)"
             },
             "line": {
              "color": "white"
             }
            },
            "header": {
             "fill": {
              "color": "rgb(217,217,217)"
             },
             "line": {
              "color": "white"
             }
            },
            "type": "table"
           }
          ]
         },
         "layout": {
          "annotationdefaults": {
           "arrowhead": 0,
           "arrowwidth": 1
          },
          "autotypenumbers": "strict",
          "coloraxis": {
           "colorbar": {
            "outlinewidth": 1,
            "tickcolor": "rgb(36,36,36)",
            "ticks": "outside"
           }
          },
          "colorscale": {
           "diverging": [
            [
             0,
             "rgb(103,0,31)"
            ],
            [
             0.1,
             "rgb(178,24,43)"
            ],
            [
             0.2,
             "rgb(214,96,77)"
            ],
            [
             0.3,
             "rgb(244,165,130)"
            ],
            [
             0.4,
             "rgb(253,219,199)"
            ],
            [
             0.5,
             "rgb(247,247,247)"
            ],
            [
             0.6,
             "rgb(209,229,240)"
            ],
            [
             0.7,
             "rgb(146,197,222)"
            ],
            [
             0.8,
             "rgb(67,147,195)"
            ],
            [
             0.9,
             "rgb(33,102,172)"
            ],
            [
             1,
             "rgb(5,48,97)"
            ]
           ],
           "sequential": [
            [
             0,
             "#440154"
            ],
            [
             0.1111111111111111,
             "#482878"
            ],
            [
             0.2222222222222222,
             "#3e4989"
            ],
            [
             0.3333333333333333,
             "#31688e"
            ],
            [
             0.4444444444444444,
             "#26828e"
            ],
            [
             0.5555555555555556,
             "#1f9e89"
            ],
            [
             0.6666666666666666,
             "#35b779"
            ],
            [
             0.7777777777777778,
             "#6ece58"
            ],
            [
             0.8888888888888888,
             "#b5de2b"
            ],
            [
             1,
             "#fde725"
            ]
           ],
           "sequentialminus": [
            [
             0,
             "#440154"
            ],
            [
             0.1111111111111111,
             "#482878"
            ],
            [
             0.2222222222222222,
             "#3e4989"
            ],
            [
             0.3333333333333333,
             "#31688e"
            ],
            [
             0.4444444444444444,
             "#26828e"
            ],
            [
             0.5555555555555556,
             "#1f9e89"
            ],
            [
             0.6666666666666666,
             "#35b779"
            ],
            [
             0.7777777777777778,
             "#6ece58"
            ],
            [
             0.8888888888888888,
             "#b5de2b"
            ],
            [
             1,
             "#fde725"
            ]
           ]
          },
          "colorway": [
           "#1F77B4",
           "#FF7F0E",
           "#2CA02C",
           "#D62728",
           "#9467BD",
           "#8C564B",
           "#E377C2",
           "#7F7F7F",
           "#BCBD22",
           "#17BECF"
          ],
          "font": {
           "color": "rgb(36,36,36)"
          },
          "geo": {
           "bgcolor": "white",
           "lakecolor": "white",
           "landcolor": "white",
           "showlakes": true,
           "showland": true,
           "subunitcolor": "white"
          },
          "hoverlabel": {
           "align": "left"
          },
          "hovermode": "closest",
          "mapbox": {
           "style": "light"
          },
          "paper_bgcolor": "white",
          "plot_bgcolor": "white",
          "polar": {
           "angularaxis": {
            "gridcolor": "rgb(232,232,232)",
            "linecolor": "rgb(36,36,36)",
            "showgrid": false,
            "showline": true,
            "ticks": "outside"
           },
           "bgcolor": "white",
           "radialaxis": {
            "gridcolor": "rgb(232,232,232)",
            "linecolor": "rgb(36,36,36)",
            "showgrid": false,
            "showline": true,
            "ticks": "outside"
           }
          },
          "scene": {
           "xaxis": {
            "backgroundcolor": "white",
            "gridcolor": "rgb(232,232,232)",
            "gridwidth": 2,
            "linecolor": "rgb(36,36,36)",
            "showbackground": true,
            "showgrid": false,
            "showline": true,
            "ticks": "outside",
            "zeroline": false,
            "zerolinecolor": "rgb(36,36,36)"
           },
           "yaxis": {
            "backgroundcolor": "white",
            "gridcolor": "rgb(232,232,232)",
            "gridwidth": 2,
            "linecolor": "rgb(36,36,36)",
            "showbackground": true,
            "showgrid": false,
            "showline": true,
            "ticks": "outside",
            "zeroline": false,
            "zerolinecolor": "rgb(36,36,36)"
           },
           "zaxis": {
            "backgroundcolor": "white",
            "gridcolor": "rgb(232,232,232)",
            "gridwidth": 2,
            "linecolor": "rgb(36,36,36)",
            "showbackground": true,
            "showgrid": false,
            "showline": true,
            "ticks": "outside",
            "zeroline": false,
            "zerolinecolor": "rgb(36,36,36)"
           }
          },
          "shapedefaults": {
           "fillcolor": "black",
           "line": {
            "width": 0
           },
           "opacity": 0.3
          },
          "ternary": {
           "aaxis": {
            "gridcolor": "rgb(232,232,232)",
            "linecolor": "rgb(36,36,36)",
            "showgrid": false,
            "showline": true,
            "ticks": "outside"
           },
           "baxis": {
            "gridcolor": "rgb(232,232,232)",
            "linecolor": "rgb(36,36,36)",
            "showgrid": false,
            "showline": true,
            "ticks": "outside"
           },
           "bgcolor": "white",
           "caxis": {
            "gridcolor": "rgb(232,232,232)",
            "linecolor": "rgb(36,36,36)",
            "showgrid": false,
            "showline": true,
            "ticks": "outside"
           }
          },
          "title": {
           "x": 0.05
          },
          "xaxis": {
           "automargin": true,
           "gridcolor": "rgb(232,232,232)",
           "linecolor": "rgb(36,36,36)",
           "showgrid": false,
           "showline": true,
           "ticks": "outside",
           "title": {
            "standoff": 15
           },
           "zeroline": false,
           "zerolinecolor": "rgb(36,36,36)"
          },
          "yaxis": {
           "automargin": true,
           "gridcolor": "rgb(232,232,232)",
           "linecolor": "rgb(36,36,36)",
           "showgrid": false,
           "showline": true,
           "ticks": "outside",
           "title": {
            "standoff": 15
           },
           "zeroline": false,
           "zerolinecolor": "rgb(36,36,36)"
          }
         }
        },
        "title": {
         "x": 0.5,
         "xanchor": "center",
         "y": 0.9,
         "yanchor": "top"
        },
        "width": 500,
        "xaxis": {
         "anchor": "y",
         "domain": [
          0,
          1
         ],
         "linewidth": 1.5,
         "title": {
          "text": ""
         }
        },
        "yaxis": {
         "anchor": "x",
         "domain": [
          0,
          1
         ],
         "linewidth": 1.5,
         "title": {
          "text": "Days to Criteria"
         }
        }
       }
      },
      "text/html": [
       "<div>                            <div id=\"9dc4a736-3ee8-4238-a24a-ce0558a554a6\" class=\"plotly-graph-div\" style=\"height:500px; width:500px;\"></div>            <script type=\"text/javascript\">                require([\"plotly\"], function(Plotly) {                    window.PLOTLYENV=window.PLOTLYENV || {};                                    if (document.getElementById(\"9dc4a736-3ee8-4238-a24a-ce0558a554a6\")) {                    Plotly.newPlot(                        \"9dc4a736-3ee8-4238-a24a-ce0558a554a6\",                        [{\"error_y\":{\"array\":[1.3447172426982252,0.7841403146490118,1.0381165398996508,0.8508624695852792],\"thickness\":1.5,\"type\":\"data\",\"width\":8},\"legendgroup\":\"cr_5\",\"line\":{\"color\":\"darkgrey\"},\"mode\":\"lines+markers\",\"name\":\"Criteria+5\",\"x\":[\"A\",\"B\",\"C\",\"D\"],\"y\":[12.909090909090908,6.181818181818182,4.363636363636363,4.818181818181818],\"type\":\"scatter\"},{\"error_y\":{\"array\":[1.3621414364629294,1.0258649959419561,0.7732098908792717,1.1577036657874837],\"thickness\":1.5,\"type\":\"data\",\"width\":8},\"legendgroup\":\"criteria\",\"line\":{\"color\":\"darkorchid\"},\"mode\":\"lines+markers\",\"name\":\"Criteria\",\"x\":[\"A\",\"B\",\"C\",\"D\"],\"y\":[13.083333333333334,6.416666666666667,4.583333333333333,4.583333333333333],\"type\":\"scatter\"},{\"legendgroup\":\"criteria\",\"marker\":{\"color\":\"darkorchid\",\"line\":{\"width\":1}},\"mode\":\"markers\",\"name\":\"ms09\",\"opacity\":0.8,\"showlegend\":false,\"x\":[\"A\",\"B\",\"C\",\"D\"],\"y\":[12,8,3,2],\"type\":\"scatter\"},{\"legendgroup\":\"criteria\",\"marker\":{\"color\":\"darkorchid\",\"line\":{\"width\":1}},\"mode\":\"markers\",\"name\":\"ms11\",\"opacity\":0.8,\"showlegend\":false,\"x\":[\"A\",\"B\",\"C\",\"D\"],\"y\":[8,5,3,6],\"type\":\"scatter\"},{\"legendgroup\":\"criteria\",\"marker\":{\"color\":\"darkorchid\",\"line\":{\"width\":1}},\"mode\":\"markers\",\"name\":\"ms12\",\"opacity\":0.8,\"showlegend\":false,\"x\":[\"A\",\"B\",\"C\",\"D\"],\"y\":[9,4,10,6],\"type\":\"scatter\"},{\"legendgroup\":\"criteria\",\"marker\":{\"color\":\"darkorchid\",\"line\":{\"width\":1}},\"mode\":\"markers\",\"name\":\"ms17\",\"opacity\":0.8,\"showlegend\":false,\"x\":[\"A\",\"B\",\"C\",\"D\"],\"y\":[9,4,4,1],\"type\":\"scatter\"},{\"legendgroup\":\"criteria\",\"marker\":{\"color\":\"darkorchid\",\"line\":{\"width\":1}},\"mode\":\"markers\",\"name\":\"ms19\",\"opacity\":0.8,\"showlegend\":false,\"x\":[\"A\",\"B\",\"C\",\"D\"],\"y\":[21,4,2,15],\"type\":\"scatter\"},{\"legendgroup\":\"criteria\",\"marker\":{\"color\":\"darkorchid\",\"line\":{\"width\":1}},\"mode\":\"markers\",\"name\":\"ms21\",\"opacity\":0.8,\"showlegend\":false,\"x\":[\"A\",\"B\",\"C\",\"D\"],\"y\":[20,6,3,3],\"type\":\"scatter\"},{\"legendgroup\":\"criteria\",\"marker\":{\"color\":\"darkorchid\",\"line\":{\"width\":1}},\"mode\":\"markers\",\"name\":\"ms26\",\"opacity\":0.8,\"showlegend\":false,\"x\":[\"A\",\"B\",\"C\",\"D\"],\"y\":[19,9,3,2],\"type\":\"scatter\"},{\"legendgroup\":\"criteria\",\"marker\":{\"color\":\"darkorchid\",\"line\":{\"width\":1}},\"mode\":\"markers\",\"name\":\"ms27\",\"opacity\":0.8,\"showlegend\":false,\"x\":[\"A\",\"B\",\"C\",\"D\"],\"y\":[9,8,5,3],\"type\":\"scatter\"},{\"legendgroup\":\"criteria\",\"marker\":{\"color\":\"darkorchid\",\"line\":{\"width\":1}},\"mode\":\"markers\",\"name\":\"ms30\",\"opacity\":0.8,\"showlegend\":false,\"x\":[\"A\",\"B\",\"C\",\"D\"],\"y\":[9,15,2,4],\"type\":\"scatter\"},{\"legendgroup\":\"criteria\",\"marker\":{\"color\":\"darkorchid\",\"line\":{\"width\":1}},\"mode\":\"markers\",\"name\":\"ms31\",\"opacity\":0.8,\"showlegend\":false,\"x\":[\"A\",\"B\",\"C\",\"D\"],\"y\":[15,8,4,2],\"type\":\"scatter\"},{\"legendgroup\":\"criteria\",\"marker\":{\"color\":\"darkorchid\",\"line\":{\"width\":1}},\"mode\":\"markers\",\"name\":\"ms33\",\"opacity\":0.8,\"showlegend\":false,\"x\":[\"A\",\"B\",\"C\",\"D\"],\"y\":[12,1,7,9],\"type\":\"scatter\"},{\"legendgroup\":\"criteria\",\"marker\":{\"color\":\"darkorchid\",\"line\":{\"width\":1}},\"mode\":\"markers\",\"name\":\"ms34\",\"opacity\":0.8,\"showlegend\":false,\"x\":[\"A\",\"B\",\"C\",\"D\"],\"y\":[14,5,9,2],\"type\":\"scatter\"},{\"legendgroup\":\"cr_5\",\"marker\":{\"color\":\"darkgrey\",\"line\":{\"width\":1}},\"mode\":\"markers\",\"name\":\"ms10\",\"opacity\":0.8,\"showlegend\":false,\"x\":[\"A\",\"B\",\"C\",\"D\"],\"y\":[20,5,4,12],\"type\":\"scatter\"},{\"legendgroup\":\"cr_5\",\"marker\":{\"color\":\"darkgrey\",\"line\":{\"width\":1}},\"mode\":\"markers\",\"name\":\"ms13\",\"opacity\":0.8,\"showlegend\":false,\"x\":[\"A\",\"B\",\"C\",\"D\"],\"y\":[20,4,3,2],\"type\":\"scatter\"},{\"legendgroup\":\"cr_5\",\"marker\":{\"color\":\"darkgrey\",\"line\":{\"width\":1}},\"mode\":\"markers\",\"name\":\"ms14\",\"opacity\":0.8,\"showlegend\":false,\"x\":[\"A\",\"B\",\"C\",\"D\"],\"y\":[13,8,2,6],\"type\":\"scatter\"},{\"legendgroup\":\"cr_5\",\"marker\":{\"color\":\"darkgrey\",\"line\":{\"width\":1}},\"mode\":\"markers\",\"name\":\"ms15\",\"opacity\":0.8,\"showlegend\":false,\"x\":[\"A\",\"B\",\"C\",\"D\"],\"y\":[8,9,3,4],\"type\":\"scatter\"},{\"legendgroup\":\"cr_5\",\"marker\":{\"color\":\"darkgrey\",\"line\":{\"width\":1}},\"mode\":\"markers\",\"name\":\"ms16\",\"opacity\":0.8,\"showlegend\":false,\"x\":[\"A\",\"B\",\"C\",\"D\"],\"y\":[9,5,2,3],\"type\":\"scatter\"},{\"legendgroup\":\"cr_5\",\"marker\":{\"color\":\"darkgrey\",\"line\":{\"width\":1}},\"mode\":\"markers\",\"name\":\"ms20\",\"opacity\":0.8,\"showlegend\":false,\"x\":[\"A\",\"B\",\"C\",\"D\"],\"y\":[8,3,5,6],\"type\":\"scatter\"},{\"legendgroup\":\"cr_5\",\"marker\":{\"color\":\"darkgrey\",\"line\":{\"width\":1}},\"mode\":\"markers\",\"name\":\"ms23\",\"opacity\":0.8,\"showlegend\":false,\"x\":[\"A\",\"B\",\"C\",\"D\"],\"y\":[17,5,10,3],\"type\":\"scatter\"},{\"legendgroup\":\"cr_5\",\"marker\":{\"color\":\"darkgrey\",\"line\":{\"width\":1}},\"mode\":\"markers\",\"name\":\"ms24\",\"opacity\":0.8,\"showlegend\":false,\"x\":[\"A\",\"B\",\"C\",\"D\"],\"y\":[12,11,3,4],\"type\":\"scatter\"},{\"legendgroup\":\"cr_5\",\"marker\":{\"color\":\"darkgrey\",\"line\":{\"width\":1}},\"mode\":\"markers\",\"name\":\"ms25\",\"opacity\":0.8,\"showlegend\":false,\"x\":[\"A\",\"B\",\"C\",\"D\"],\"y\":[14,8,12,6],\"type\":\"scatter\"},{\"legendgroup\":\"cr_5\",\"marker\":{\"color\":\"darkgrey\",\"line\":{\"width\":1}},\"mode\":\"markers\",\"name\":\"ms29\",\"opacity\":0.8,\"showlegend\":false,\"x\":[\"A\",\"B\",\"C\",\"D\"],\"y\":[9,3,2,2],\"type\":\"scatter\"},{\"legendgroup\":\"cr_5\",\"marker\":{\"color\":\"darkgrey\",\"line\":{\"width\":1}},\"mode\":\"markers\",\"name\":\"ms32\",\"opacity\":0.8,\"showlegend\":false,\"x\":[\"A\",\"B\",\"C\",\"D\"],\"y\":[12,7,2,5],\"type\":\"scatter\"}],                        {\"template\":{\"data\":{\"barpolar\":[{\"marker\":{\"line\":{\"color\":\"white\",\"width\":0.5},\"pattern\":{\"fillmode\":\"overlay\",\"size\":10,\"solidity\":0.2}},\"type\":\"barpolar\"}],\"bar\":[{\"error_x\":{\"color\":\"rgb(36,36,36)\"},\"error_y\":{\"color\":\"rgb(36,36,36)\"},\"marker\":{\"line\":{\"color\":\"white\",\"width\":0.5},\"pattern\":{\"fillmode\":\"overlay\",\"size\":10,\"solidity\":0.2}},\"type\":\"bar\"}],\"carpet\":[{\"aaxis\":{\"endlinecolor\":\"rgb(36,36,36)\",\"gridcolor\":\"white\",\"linecolor\":\"white\",\"minorgridcolor\":\"white\",\"startlinecolor\":\"rgb(36,36,36)\"},\"baxis\":{\"endlinecolor\":\"rgb(36,36,36)\",\"gridcolor\":\"white\",\"linecolor\":\"white\",\"minorgridcolor\":\"white\",\"startlinecolor\":\"rgb(36,36,36)\"},\"type\":\"carpet\"}],\"choropleth\":[{\"colorbar\":{\"outlinewidth\":1,\"tickcolor\":\"rgb(36,36,36)\",\"ticks\":\"outside\"},\"type\":\"choropleth\"}],\"contourcarpet\":[{\"colorbar\":{\"outlinewidth\":1,\"tickcolor\":\"rgb(36,36,36)\",\"ticks\":\"outside\"},\"type\":\"contourcarpet\"}],\"contour\":[{\"colorbar\":{\"outlinewidth\":1,\"tickcolor\":\"rgb(36,36,36)\",\"ticks\":\"outside\"},\"colorscale\":[[0.0,\"#440154\"],[0.1111111111111111,\"#482878\"],[0.2222222222222222,\"#3e4989\"],[0.3333333333333333,\"#31688e\"],[0.4444444444444444,\"#26828e\"],[0.5555555555555556,\"#1f9e89\"],[0.6666666666666666,\"#35b779\"],[0.7777777777777778,\"#6ece58\"],[0.8888888888888888,\"#b5de2b\"],[1.0,\"#fde725\"]],\"type\":\"contour\"}],\"heatmapgl\":[{\"colorbar\":{\"outlinewidth\":1,\"tickcolor\":\"rgb(36,36,36)\",\"ticks\":\"outside\"},\"colorscale\":[[0.0,\"#440154\"],[0.1111111111111111,\"#482878\"],[0.2222222222222222,\"#3e4989\"],[0.3333333333333333,\"#31688e\"],[0.4444444444444444,\"#26828e\"],[0.5555555555555556,\"#1f9e89\"],[0.6666666666666666,\"#35b779\"],[0.7777777777777778,\"#6ece58\"],[0.8888888888888888,\"#b5de2b\"],[1.0,\"#fde725\"]],\"type\":\"heatmapgl\"}],\"heatmap\":[{\"colorbar\":{\"outlinewidth\":1,\"tickcolor\":\"rgb(36,36,36)\",\"ticks\":\"outside\"},\"colorscale\":[[0.0,\"#440154\"],[0.1111111111111111,\"#482878\"],[0.2222222222222222,\"#3e4989\"],[0.3333333333333333,\"#31688e\"],[0.4444444444444444,\"#26828e\"],[0.5555555555555556,\"#1f9e89\"],[0.6666666666666666,\"#35b779\"],[0.7777777777777778,\"#6ece58\"],[0.8888888888888888,\"#b5de2b\"],[1.0,\"#fde725\"]],\"type\":\"heatmap\"}],\"histogram2dcontour\":[{\"colorbar\":{\"outlinewidth\":1,\"tickcolor\":\"rgb(36,36,36)\",\"ticks\":\"outside\"},\"colorscale\":[[0.0,\"#440154\"],[0.1111111111111111,\"#482878\"],[0.2222222222222222,\"#3e4989\"],[0.3333333333333333,\"#31688e\"],[0.4444444444444444,\"#26828e\"],[0.5555555555555556,\"#1f9e89\"],[0.6666666666666666,\"#35b779\"],[0.7777777777777778,\"#6ece58\"],[0.8888888888888888,\"#b5de2b\"],[1.0,\"#fde725\"]],\"type\":\"histogram2dcontour\"}],\"histogram2d\":[{\"colorbar\":{\"outlinewidth\":1,\"tickcolor\":\"rgb(36,36,36)\",\"ticks\":\"outside\"},\"colorscale\":[[0.0,\"#440154\"],[0.1111111111111111,\"#482878\"],[0.2222222222222222,\"#3e4989\"],[0.3333333333333333,\"#31688e\"],[0.4444444444444444,\"#26828e\"],[0.5555555555555556,\"#1f9e89\"],[0.6666666666666666,\"#35b779\"],[0.7777777777777778,\"#6ece58\"],[0.8888888888888888,\"#b5de2b\"],[1.0,\"#fde725\"]],\"type\":\"histogram2d\"}],\"histogram\":[{\"marker\":{\"line\":{\"color\":\"white\",\"width\":0.6}},\"type\":\"histogram\"}],\"mesh3d\":[{\"colorbar\":{\"outlinewidth\":1,\"tickcolor\":\"rgb(36,36,36)\",\"ticks\":\"outside\"},\"type\":\"mesh3d\"}],\"parcoords\":[{\"line\":{\"colorbar\":{\"outlinewidth\":1,\"tickcolor\":\"rgb(36,36,36)\",\"ticks\":\"outside\"}},\"type\":\"parcoords\"}],\"pie\":[{\"automargin\":true,\"type\":\"pie\"}],\"scatter3d\":[{\"line\":{\"colorbar\":{\"outlinewidth\":1,\"tickcolor\":\"rgb(36,36,36)\",\"ticks\":\"outside\"}},\"marker\":{\"colorbar\":{\"outlinewidth\":1,\"tickcolor\":\"rgb(36,36,36)\",\"ticks\":\"outside\"}},\"type\":\"scatter3d\"}],\"scattercarpet\":[{\"marker\":{\"colorbar\":{\"outlinewidth\":1,\"tickcolor\":\"rgb(36,36,36)\",\"ticks\":\"outside\"}},\"type\":\"scattercarpet\"}],\"scattergeo\":[{\"marker\":{\"colorbar\":{\"outlinewidth\":1,\"tickcolor\":\"rgb(36,36,36)\",\"ticks\":\"outside\"}},\"type\":\"scattergeo\"}],\"scattergl\":[{\"marker\":{\"colorbar\":{\"outlinewidth\":1,\"tickcolor\":\"rgb(36,36,36)\",\"ticks\":\"outside\"}},\"type\":\"scattergl\"}],\"scattermapbox\":[{\"marker\":{\"colorbar\":{\"outlinewidth\":1,\"tickcolor\":\"rgb(36,36,36)\",\"ticks\":\"outside\"}},\"type\":\"scattermapbox\"}],\"scatterpolargl\":[{\"marker\":{\"colorbar\":{\"outlinewidth\":1,\"tickcolor\":\"rgb(36,36,36)\",\"ticks\":\"outside\"}},\"type\":\"scatterpolargl\"}],\"scatterpolar\":[{\"marker\":{\"colorbar\":{\"outlinewidth\":1,\"tickcolor\":\"rgb(36,36,36)\",\"ticks\":\"outside\"}},\"type\":\"scatterpolar\"}],\"scatter\":[{\"fillpattern\":{\"fillmode\":\"overlay\",\"size\":10,\"solidity\":0.2},\"type\":\"scatter\"}],\"scatterternary\":[{\"marker\":{\"colorbar\":{\"outlinewidth\":1,\"tickcolor\":\"rgb(36,36,36)\",\"ticks\":\"outside\"}},\"type\":\"scatterternary\"}],\"surface\":[{\"colorbar\":{\"outlinewidth\":1,\"tickcolor\":\"rgb(36,36,36)\",\"ticks\":\"outside\"},\"colorscale\":[[0.0,\"#440154\"],[0.1111111111111111,\"#482878\"],[0.2222222222222222,\"#3e4989\"],[0.3333333333333333,\"#31688e\"],[0.4444444444444444,\"#26828e\"],[0.5555555555555556,\"#1f9e89\"],[0.6666666666666666,\"#35b779\"],[0.7777777777777778,\"#6ece58\"],[0.8888888888888888,\"#b5de2b\"],[1.0,\"#fde725\"]],\"type\":\"surface\"}],\"table\":[{\"cells\":{\"fill\":{\"color\":\"rgb(237,237,237)\"},\"line\":{\"color\":\"white\"}},\"header\":{\"fill\":{\"color\":\"rgb(217,217,217)\"},\"line\":{\"color\":\"white\"}},\"type\":\"table\"}]},\"layout\":{\"annotationdefaults\":{\"arrowhead\":0,\"arrowwidth\":1},\"autotypenumbers\":\"strict\",\"coloraxis\":{\"colorbar\":{\"outlinewidth\":1,\"tickcolor\":\"rgb(36,36,36)\",\"ticks\":\"outside\"}},\"colorscale\":{\"diverging\":[[0.0,\"rgb(103,0,31)\"],[0.1,\"rgb(178,24,43)\"],[0.2,\"rgb(214,96,77)\"],[0.3,\"rgb(244,165,130)\"],[0.4,\"rgb(253,219,199)\"],[0.5,\"rgb(247,247,247)\"],[0.6,\"rgb(209,229,240)\"],[0.7,\"rgb(146,197,222)\"],[0.8,\"rgb(67,147,195)\"],[0.9,\"rgb(33,102,172)\"],[1.0,\"rgb(5,48,97)\"]],\"sequential\":[[0.0,\"#440154\"],[0.1111111111111111,\"#482878\"],[0.2222222222222222,\"#3e4989\"],[0.3333333333333333,\"#31688e\"],[0.4444444444444444,\"#26828e\"],[0.5555555555555556,\"#1f9e89\"],[0.6666666666666666,\"#35b779\"],[0.7777777777777778,\"#6ece58\"],[0.8888888888888888,\"#b5de2b\"],[1.0,\"#fde725\"]],\"sequentialminus\":[[0.0,\"#440154\"],[0.1111111111111111,\"#482878\"],[0.2222222222222222,\"#3e4989\"],[0.3333333333333333,\"#31688e\"],[0.4444444444444444,\"#26828e\"],[0.5555555555555556,\"#1f9e89\"],[0.6666666666666666,\"#35b779\"],[0.7777777777777778,\"#6ece58\"],[0.8888888888888888,\"#b5de2b\"],[1.0,\"#fde725\"]]},\"colorway\":[\"#1F77B4\",\"#FF7F0E\",\"#2CA02C\",\"#D62728\",\"#9467BD\",\"#8C564B\",\"#E377C2\",\"#7F7F7F\",\"#BCBD22\",\"#17BECF\"],\"font\":{\"color\":\"rgb(36,36,36)\"},\"geo\":{\"bgcolor\":\"white\",\"lakecolor\":\"white\",\"landcolor\":\"white\",\"showlakes\":true,\"showland\":true,\"subunitcolor\":\"white\"},\"hoverlabel\":{\"align\":\"left\"},\"hovermode\":\"closest\",\"mapbox\":{\"style\":\"light\"},\"paper_bgcolor\":\"white\",\"plot_bgcolor\":\"white\",\"polar\":{\"angularaxis\":{\"gridcolor\":\"rgb(232,232,232)\",\"linecolor\":\"rgb(36,36,36)\",\"showgrid\":false,\"showline\":true,\"ticks\":\"outside\"},\"bgcolor\":\"white\",\"radialaxis\":{\"gridcolor\":\"rgb(232,232,232)\",\"linecolor\":\"rgb(36,36,36)\",\"showgrid\":false,\"showline\":true,\"ticks\":\"outside\"}},\"scene\":{\"xaxis\":{\"backgroundcolor\":\"white\",\"gridcolor\":\"rgb(232,232,232)\",\"gridwidth\":2,\"linecolor\":\"rgb(36,36,36)\",\"showbackground\":true,\"showgrid\":false,\"showline\":true,\"ticks\":\"outside\",\"zeroline\":false,\"zerolinecolor\":\"rgb(36,36,36)\"},\"yaxis\":{\"backgroundcolor\":\"white\",\"gridcolor\":\"rgb(232,232,232)\",\"gridwidth\":2,\"linecolor\":\"rgb(36,36,36)\",\"showbackground\":true,\"showgrid\":false,\"showline\":true,\"ticks\":\"outside\",\"zeroline\":false,\"zerolinecolor\":\"rgb(36,36,36)\"},\"zaxis\":{\"backgroundcolor\":\"white\",\"gridcolor\":\"rgb(232,232,232)\",\"gridwidth\":2,\"linecolor\":\"rgb(36,36,36)\",\"showbackground\":true,\"showgrid\":false,\"showline\":true,\"ticks\":\"outside\",\"zeroline\":false,\"zerolinecolor\":\"rgb(36,36,36)\"}},\"shapedefaults\":{\"fillcolor\":\"black\",\"line\":{\"width\":0},\"opacity\":0.3},\"ternary\":{\"aaxis\":{\"gridcolor\":\"rgb(232,232,232)\",\"linecolor\":\"rgb(36,36,36)\",\"showgrid\":false,\"showline\":true,\"ticks\":\"outside\"},\"baxis\":{\"gridcolor\":\"rgb(232,232,232)\",\"linecolor\":\"rgb(36,36,36)\",\"showgrid\":false,\"showline\":true,\"ticks\":\"outside\"},\"bgcolor\":\"white\",\"caxis\":{\"gridcolor\":\"rgb(232,232,232)\",\"linecolor\":\"rgb(36,36,36)\",\"showgrid\":false,\"showline\":true,\"ticks\":\"outside\"}},\"title\":{\"x\":0.05},\"xaxis\":{\"automargin\":true,\"gridcolor\":\"rgb(232,232,232)\",\"linecolor\":\"rgb(36,36,36)\",\"showgrid\":false,\"showline\":true,\"ticks\":\"outside\",\"title\":{\"standoff\":15},\"zeroline\":false,\"zerolinecolor\":\"rgb(36,36,36)\"},\"yaxis\":{\"automargin\":true,\"gridcolor\":\"rgb(232,232,232)\",\"linecolor\":\"rgb(36,36,36)\",\"showgrid\":false,\"showline\":true,\"ticks\":\"outside\",\"title\":{\"standoff\":15},\"zeroline\":false,\"zerolinecolor\":\"rgb(36,36,36)\"}}},\"xaxis\":{\"anchor\":\"y\",\"domain\":[0.0,1.0],\"title\":{\"text\":\"\"},\"linewidth\":1.5},\"yaxis\":{\"anchor\":\"x\",\"domain\":[0.0,1.0],\"title\":{\"text\":\"Days to Criteria\"},\"linewidth\":1.5},\"title\":{\"y\":0.9,\"x\":0.5,\"xanchor\":\"center\",\"yanchor\":\"top\"},\"font\":{\"size\":22,\"family\":\"Arial\"},\"height\":500,\"width\":500},                        {\"responsive\": true}                    ).then(function(){\n",
       "                            \n",
       "var gd = document.getElementById('9dc4a736-3ee8-4238-a24a-ce0558a554a6');\n",
       "var x = new MutationObserver(function (mutations, observer) {{\n",
       "        var display = window.getComputedStyle(gd).display;\n",
       "        if (!display || display === 'none') {{\n",
       "            console.log([gd, 'removed!']);\n",
       "            Plotly.purge(gd);\n",
       "            observer.disconnect();\n",
       "        }}\n",
       "}});\n",
       "\n",
       "// Listen for the removal of the full notebook cells\n",
       "var notebookContainer = gd.closest('#notebook-container');\n",
       "if (notebookContainer) {{\n",
       "    x.observe(notebookContainer, {childList: true});\n",
       "}}\n",
       "\n",
       "// Listen for the clearing of the current output cell\n",
       "var outputEl = gd.closest('.output');\n",
       "if (outputEl) {{\n",
       "    x.observe(outputEl, {childList: true});\n",
       "}}\n",
       "\n",
       "                        })                };                });            </script>        </div>"
      ]
     },
     "metadata": {},
     "output_type": "display_data"
    },
    {
     "data": {
      "text/html": [
       "<div>\n",
       "<style scoped>\n",
       "    .dataframe tbody tr th:only-of-type {\n",
       "        vertical-align: middle;\n",
       "    }\n",
       "\n",
       "    .dataframe tbody tr th {\n",
       "        vertical-align: top;\n",
       "    }\n",
       "\n",
       "    .dataframe thead th {\n",
       "        text-align: right;\n",
       "    }\n",
       "</style>\n",
       "<table border=\"1\" class=\"dataframe\">\n",
       "  <thead>\n",
       "    <tr style=\"text-align: right;\">\n",
       "      <th></th>\n",
       "      <th>Source</th>\n",
       "      <th>SS</th>\n",
       "      <th>DF1</th>\n",
       "      <th>DF2</th>\n",
       "      <th>MS</th>\n",
       "      <th>F</th>\n",
       "      <th>p-unc</th>\n",
       "      <th>np2</th>\n",
       "      <th>eps</th>\n",
       "    </tr>\n",
       "  </thead>\n",
       "  <tbody>\n",
       "    <tr>\n",
       "      <th>0</th>\n",
       "      <td>group</td>\n",
       "      <td>0.222661</td>\n",
       "      <td>1</td>\n",
       "      <td>21</td>\n",
       "      <td>0.222661</td>\n",
       "      <td>0.017901</td>\n",
       "      <td>8.948397e-01</td>\n",
       "      <td>0.000852</td>\n",
       "      <td>NaN</td>\n",
       "    </tr>\n",
       "    <tr>\n",
       "      <th>1</th>\n",
       "      <td>session</td>\n",
       "      <td>1106.206522</td>\n",
       "      <td>3</td>\n",
       "      <td>63</td>\n",
       "      <td>368.735507</td>\n",
       "      <td>27.550804</td>\n",
       "      <td>1.672721e-11</td>\n",
       "      <td>0.567463</td>\n",
       "      <td>0.941527</td>\n",
       "    </tr>\n",
       "    <tr>\n",
       "      <th>2</th>\n",
       "      <td>Interaction</td>\n",
       "      <td>0.861660</td>\n",
       "      <td>3</td>\n",
       "      <td>63</td>\n",
       "      <td>0.287220</td>\n",
       "      <td>0.021460</td>\n",
       "      <td>9.956918e-01</td>\n",
       "      <td>0.001021</td>\n",
       "      <td>NaN</td>\n",
       "    </tr>\n",
       "  </tbody>\n",
       "</table>\n",
       "</div>"
      ],
      "text/plain": [
       "        Source           SS  DF1  DF2          MS          F         p-unc  \\\n",
       "0        group     0.222661    1   21    0.222661   0.017901  8.948397e-01   \n",
       "1      session  1106.206522    3   63  368.735507  27.550804  1.672721e-11   \n",
       "2  Interaction     0.861660    3   63    0.287220   0.021460  9.956918e-01   \n",
       "\n",
       "        np2       eps  \n",
       "0  0.000852       NaN  \n",
       "1  0.567463  0.941527  \n",
       "2  0.001021       NaN  "
      ]
     },
     "execution_count": 11,
     "metadata": {},
     "output_type": "execute_result"
    }
   ],
   "source": [
    "## Plot days to criteria\n",
    "fig = pf.custom_graph_template(x_title='', y_title='Days to Criteria')\n",
    "for group in np.unique(result['group']):\n",
    "    plot_data = result[result['group'] == group]\n",
    "    if group == 'cr_5':\n",
    "        gname = 'Criteria+5'\n",
    "    else:\n",
    "        gname = 'Criteria'\n",
    "    fig.add_trace(go.Scatter(x=plot_data['session'], y=plot_data['session_count']['mean'], mode='lines+markers',\n",
    "                             error_y=dict(type='data', array=plot_data['session_count']['sem'], thickness=1.5, width=8),\n",
    "                             name=gname, legendgroup=group, line_color=group_colors[group]))\n",
    "for mouse in criteria + cr_5:\n",
    "    mouse_data = days_to_criteria[days_to_criteria['mouse'] == mouse]\n",
    "    group = 'criteria' if mouse in criteria else 'cr_5'\n",
    "    fig.add_trace(go.Scatter(x=mouse_data['session'], y=mouse_data['session_count'], mode='markers',\n",
    "                             marker_color=group_colors[group], legendgroup=group, opacity=0.8, \n",
    "                             showlegend=False, marker_line_width=1, name=mouse))\n",
    "fig.show()\n",
    "fig.write_image(pjoin(fig_path, 'days_to_criteria.png'))\n",
    "days_to_criteria.mixed_anova(dv='session_count', within='session', subject='mouse', between='group')"
   ]
  },
  {
   "cell_type": "code",
   "execution_count": 76,
   "metadata": {},
   "outputs": [
    {
     "data": {
      "text/html": [
       "<div>\n",
       "<style scoped>\n",
       "    .dataframe tbody tr th:only-of-type {\n",
       "        vertical-align: middle;\n",
       "    }\n",
       "\n",
       "    .dataframe tbody tr th {\n",
       "        vertical-align: top;\n",
       "    }\n",
       "\n",
       "    .dataframe thead th {\n",
       "        text-align: right;\n",
       "    }\n",
       "</style>\n",
       "<table border=\"1\" class=\"dataframe\">\n",
       "  <thead>\n",
       "    <tr style=\"text-align: right;\">\n",
       "      <th></th>\n",
       "      <th>unix</th>\n",
       "      <th>frame</th>\n",
       "      <th>t</th>\n",
       "      <th>x</th>\n",
       "      <th>y</th>\n",
       "      <th>a_pos</th>\n",
       "      <th>lick_port</th>\n",
       "      <th>water</th>\n",
       "      <th>animal</th>\n",
       "      <th>session</th>\n",
       "      <th>cohort</th>\n",
       "      <th>trials</th>\n",
       "      <th>lin_position</th>\n",
       "      <th>reward_one</th>\n",
       "      <th>reward_two</th>\n",
       "      <th>probe</th>\n",
       "      <th>maze</th>\n",
       "    </tr>\n",
       "  </thead>\n",
       "  <tbody>\n",
       "    <tr>\n",
       "      <th>0</th>\n",
       "      <td>1.653586e+09</td>\n",
       "      <td>1</td>\n",
       "      <td>-0.384278</td>\n",
       "      <td>334.0</td>\n",
       "      <td>449.0</td>\n",
       "      <td>272.0</td>\n",
       "      <td>5</td>\n",
       "      <td>False</td>\n",
       "      <td>ms16</td>\n",
       "      <td>A</td>\n",
       "      <td>bc1</td>\n",
       "      <td>0.0</td>\n",
       "      <td>4.747296</td>\n",
       "      <td>2</td>\n",
       "      <td>5</td>\n",
       "      <td>True</td>\n",
       "      <td>maze3</td>\n",
       "    </tr>\n",
       "    <tr>\n",
       "      <th>1</th>\n",
       "      <td>1.653586e+09</td>\n",
       "      <td>4</td>\n",
       "      <td>0.321171</td>\n",
       "      <td>333.0</td>\n",
       "      <td>450.0</td>\n",
       "      <td>272.0</td>\n",
       "      <td>-1</td>\n",
       "      <td>False</td>\n",
       "      <td>ms16</td>\n",
       "      <td>A</td>\n",
       "      <td>bc1</td>\n",
       "      <td>0.0</td>\n",
       "      <td>4.747296</td>\n",
       "      <td>2</td>\n",
       "      <td>5</td>\n",
       "      <td>False</td>\n",
       "      <td>maze3</td>\n",
       "    </tr>\n",
       "    <tr>\n",
       "      <th>2</th>\n",
       "      <td>1.653586e+09</td>\n",
       "      <td>5</td>\n",
       "      <td>0.366048</td>\n",
       "      <td>334.0</td>\n",
       "      <td>450.0</td>\n",
       "      <td>272.0</td>\n",
       "      <td>-1</td>\n",
       "      <td>False</td>\n",
       "      <td>ms16</td>\n",
       "      <td>A</td>\n",
       "      <td>bc1</td>\n",
       "      <td>0.0</td>\n",
       "      <td>4.747296</td>\n",
       "      <td>2</td>\n",
       "      <td>5</td>\n",
       "      <td>False</td>\n",
       "      <td>maze3</td>\n",
       "    </tr>\n",
       "    <tr>\n",
       "      <th>3</th>\n",
       "      <td>1.653586e+09</td>\n",
       "      <td>6</td>\n",
       "      <td>0.411928</td>\n",
       "      <td>334.0</td>\n",
       "      <td>450.0</td>\n",
       "      <td>272.0</td>\n",
       "      <td>-1</td>\n",
       "      <td>False</td>\n",
       "      <td>ms16</td>\n",
       "      <td>A</td>\n",
       "      <td>bc1</td>\n",
       "      <td>0.0</td>\n",
       "      <td>4.747296</td>\n",
       "      <td>2</td>\n",
       "      <td>5</td>\n",
       "      <td>False</td>\n",
       "      <td>maze3</td>\n",
       "    </tr>\n",
       "    <tr>\n",
       "      <th>4</th>\n",
       "      <td>1.653586e+09</td>\n",
       "      <td>7</td>\n",
       "      <td>0.458798</td>\n",
       "      <td>333.0</td>\n",
       "      <td>450.0</td>\n",
       "      <td>272.0</td>\n",
       "      <td>-1</td>\n",
       "      <td>False</td>\n",
       "      <td>ms16</td>\n",
       "      <td>A</td>\n",
       "      <td>bc1</td>\n",
       "      <td>0.0</td>\n",
       "      <td>4.747296</td>\n",
       "      <td>2</td>\n",
       "      <td>5</td>\n",
       "      <td>False</td>\n",
       "      <td>maze3</td>\n",
       "    </tr>\n",
       "    <tr>\n",
       "      <th>...</th>\n",
       "      <td>...</td>\n",
       "      <td>...</td>\n",
       "      <td>...</td>\n",
       "      <td>...</td>\n",
       "      <td>...</td>\n",
       "      <td>...</td>\n",
       "      <td>...</td>\n",
       "      <td>...</td>\n",
       "      <td>...</td>\n",
       "      <td>...</td>\n",
       "      <td>...</td>\n",
       "      <td>...</td>\n",
       "      <td>...</td>\n",
       "      <td>...</td>\n",
       "      <td>...</td>\n",
       "      <td>...</td>\n",
       "      <td>...</td>\n",
       "    </tr>\n",
       "    <tr>\n",
       "      <th>23299</th>\n",
       "      <td>1.653588e+09</td>\n",
       "      <td>23518</td>\n",
       "      <td>1199.788649</td>\n",
       "      <td>465.0</td>\n",
       "      <td>391.0</td>\n",
       "      <td>314.0</td>\n",
       "      <td>-1</td>\n",
       "      <td>False</td>\n",
       "      <td>ms16</td>\n",
       "      <td>A</td>\n",
       "      <td>bc1</td>\n",
       "      <td>11.0</td>\n",
       "      <td>5.480334</td>\n",
       "      <td>2</td>\n",
       "      <td>5</td>\n",
       "      <td>False</td>\n",
       "      <td>maze3</td>\n",
       "    </tr>\n",
       "    <tr>\n",
       "      <th>23300</th>\n",
       "      <td>1.653588e+09</td>\n",
       "      <td>23520</td>\n",
       "      <td>1199.831569</td>\n",
       "      <td>466.0</td>\n",
       "      <td>391.0</td>\n",
       "      <td>315.0</td>\n",
       "      <td>4</td>\n",
       "      <td>False</td>\n",
       "      <td>ms16</td>\n",
       "      <td>A</td>\n",
       "      <td>bc1</td>\n",
       "      <td>11.0</td>\n",
       "      <td>5.497787</td>\n",
       "      <td>2</td>\n",
       "      <td>5</td>\n",
       "      <td>False</td>\n",
       "      <td>maze3</td>\n",
       "    </tr>\n",
       "    <tr>\n",
       "      <th>23301</th>\n",
       "      <td>1.653588e+09</td>\n",
       "      <td>23521</td>\n",
       "      <td>1199.889559</td>\n",
       "      <td>466.0</td>\n",
       "      <td>391.0</td>\n",
       "      <td>315.0</td>\n",
       "      <td>-1</td>\n",
       "      <td>False</td>\n",
       "      <td>ms16</td>\n",
       "      <td>A</td>\n",
       "      <td>bc1</td>\n",
       "      <td>11.0</td>\n",
       "      <td>5.497787</td>\n",
       "      <td>2</td>\n",
       "      <td>5</td>\n",
       "      <td>False</td>\n",
       "      <td>maze3</td>\n",
       "    </tr>\n",
       "    <tr>\n",
       "      <th>23302</th>\n",
       "      <td>1.653588e+09</td>\n",
       "      <td>23523</td>\n",
       "      <td>1199.925528</td>\n",
       "      <td>466.0</td>\n",
       "      <td>391.0</td>\n",
       "      <td>315.0</td>\n",
       "      <td>-1</td>\n",
       "      <td>False</td>\n",
       "      <td>ms16</td>\n",
       "      <td>A</td>\n",
       "      <td>bc1</td>\n",
       "      <td>11.0</td>\n",
       "      <td>5.497787</td>\n",
       "      <td>2</td>\n",
       "      <td>5</td>\n",
       "      <td>False</td>\n",
       "      <td>maze3</td>\n",
       "    </tr>\n",
       "    <tr>\n",
       "      <th>23303</th>\n",
       "      <td>1.653588e+09</td>\n",
       "      <td>23524</td>\n",
       "      <td>1199.963515</td>\n",
       "      <td>466.0</td>\n",
       "      <td>391.0</td>\n",
       "      <td>315.0</td>\n",
       "      <td>-1</td>\n",
       "      <td>False</td>\n",
       "      <td>ms16</td>\n",
       "      <td>A</td>\n",
       "      <td>bc1</td>\n",
       "      <td>11.0</td>\n",
       "      <td>5.497787</td>\n",
       "      <td>2</td>\n",
       "      <td>5</td>\n",
       "      <td>False</td>\n",
       "      <td>maze3</td>\n",
       "    </tr>\n",
       "  </tbody>\n",
       "</table>\n",
       "<p>23304 rows × 17 columns</p>\n",
       "</div>"
      ],
      "text/plain": [
       "               unix  frame            t      x      y  a_pos  lick_port  \\\n",
       "0      1.653586e+09      1    -0.384278  334.0  449.0  272.0          5   \n",
       "1      1.653586e+09      4     0.321171  333.0  450.0  272.0         -1   \n",
       "2      1.653586e+09      5     0.366048  334.0  450.0  272.0         -1   \n",
       "3      1.653586e+09      6     0.411928  334.0  450.0  272.0         -1   \n",
       "4      1.653586e+09      7     0.458798  333.0  450.0  272.0         -1   \n",
       "...             ...    ...          ...    ...    ...    ...        ...   \n",
       "23299  1.653588e+09  23518  1199.788649  465.0  391.0  314.0         -1   \n",
       "23300  1.653588e+09  23520  1199.831569  466.0  391.0  315.0          4   \n",
       "23301  1.653588e+09  23521  1199.889559  466.0  391.0  315.0         -1   \n",
       "23302  1.653588e+09  23523  1199.925528  466.0  391.0  315.0         -1   \n",
       "23303  1.653588e+09  23524  1199.963515  466.0  391.0  315.0         -1   \n",
       "\n",
       "       water animal session cohort  trials  lin_position  reward_one  \\\n",
       "0      False   ms16       A    bc1     0.0      4.747296           2   \n",
       "1      False   ms16       A    bc1     0.0      4.747296           2   \n",
       "2      False   ms16       A    bc1     0.0      4.747296           2   \n",
       "3      False   ms16       A    bc1     0.0      4.747296           2   \n",
       "4      False   ms16       A    bc1     0.0      4.747296           2   \n",
       "...      ...    ...     ...    ...     ...           ...         ...   \n",
       "23299  False   ms16       A    bc1    11.0      5.480334           2   \n",
       "23300  False   ms16       A    bc1    11.0      5.497787           2   \n",
       "23301  False   ms16       A    bc1    11.0      5.497787           2   \n",
       "23302  False   ms16       A    bc1    11.0      5.497787           2   \n",
       "23303  False   ms16       A    bc1    11.0      5.497787           2   \n",
       "\n",
       "       reward_two  probe   maze  \n",
       "0               5   True  maze3  \n",
       "1               5  False  maze3  \n",
       "2               5  False  maze3  \n",
       "3               5  False  maze3  \n",
       "4               5  False  maze3  \n",
       "...           ...    ...    ...  \n",
       "23299           5  False  maze3  \n",
       "23300           5  False  maze3  \n",
       "23301           5  False  maze3  \n",
       "23302           5  False  maze3  \n",
       "23303           5  False  maze3  \n",
       "\n",
       "[23304 rows x 17 columns]"
      ]
     },
     "execution_count": 76,
     "metadata": {},
     "output_type": "execute_result"
    }
   ],
   "source": [
    "mouse = 'ms16'\n",
    "pd.read_feather(pjoin(behav_path, f'{mouse}/{mouse}_1.feat'))"
   ]
  },
  {
   "cell_type": "code",
   "execution_count": 88,
   "metadata": {},
   "outputs": [],
   "source": [
    "## Probe Accuracy\n",
    "lick_dict_probe = {'percent_correct': [], 'mouse': [], 'day': [], 'group': [], 'session': [], 'probe_length': [], 'num_licks': [], 'session_pc': []}\n",
    "for mouse in fixed + criteria + cr_5:\n",
    "    mouse_path = pjoin(behav_path, mouse)\n",
    "    group = 'fixed' if mouse in fixed else 'criteria' if mouse in criteria else 'cr_5'\n",
    "    for idx, session in enumerate(os.listdir(mouse_path)):\n",
    "        behav = pd.read_feather(pjoin(mouse_path, f'{session}'))\n",
    "        if any(behav['probe']):\n",
    "            behav_probe = behav[behav['probe']]\n",
    "            behav_no_probe = behav[~behav['probe']]\n",
    "            reward_one, reward_two = np.unique(behav['reward_one'])[0], np.unique(behav['reward_two'])[0]\n",
    "            if (mouse == 'ms02') and pd.isna(reward_one):\n",
    "                reward_one, reward_two = 1, 5\n",
    "            elif (mouse == 'ms03') and pd.isna(reward_two):\n",
    "                reward_one, reward_two = 1, 6\n",
    "            ## Percent correct licking\n",
    "            pc = ctb.lick_accuracy(behav_probe, port_list=[reward_one, reward_two], lick_threshold=2, by_trials=False)\n",
    "            session_pc = ctb.lick_accuracy(behav_no_probe, port_list=[reward_one, reward_two], lick_threshold=2, by_trials=False)\n",
    "            lick_dict_probe['percent_correct'].append(pc)\n",
    "            lick_dict_probe['mouse'].append(mouse)\n",
    "            lick_dict_probe['day'].append(idx+1)\n",
    "            lick_dict_probe['group'].append(group)\n",
    "            lick_dict_probe['session'].append(np.unique(behav['session'])[0])\n",
    "            lick_dict_probe['probe_length'].append(round(behav_probe['t'].to_numpy()[-1] - behav_probe['t'].to_numpy()[0]))\n",
    "            lick_dict_probe['num_licks'].append(len(behav_probe[behav_probe['lick_port'] != -1]))\n",
    "            lick_dict_probe['session_pc'].append(session_pc)\n",
    "        else:\n",
    "            pass\n",
    "## Convert to dataframe\n",
    "probe_df = pd.DataFrame(lick_dict_probe)\n",
    "# First and last day in each context\n",
    "last = pd.DataFrame()\n",
    "for mouse in fixed + criteria + cr_5:\n",
    "    if mouse in no_probe:\n",
    "        pass\n",
    "    else:\n",
    "        if mouse in cr_5:\n",
    "            mouse_data = probe_df[probe_df['mouse'] == mouse].reset_index(drop=True)\n",
    "            mouse_data = mouse_data[(mouse_data['session'] == 'A') | (mouse_data['session'] == 'B') |\n",
    "                                    (mouse_data['session'] == 'C') | (mouse_data['session'] == 'D') | (mouse_data['session'] == 'AP')].reset_index(drop=True)\n",
    "            index_list = ctb.pick_context_day(mouse_data, day_index=-1, contexts=['A', 'B', 'C', 'D', 'AP'])\n",
    "            sub_data = mouse_data.loc[index_list, :]\n",
    "            last = pd.concat([last, sub_data])\n",
    "        else:\n",
    "            mouse_data = probe_df[probe_df['mouse'] == mouse].reset_index(drop=True)\n",
    "            index_list = ctb.pick_context_day(mouse_data, day_index=-1, contexts=['A', 'B', 'C', 'D', 'AP'])\n",
    "            sub_data = mouse_data.loc[index_list, :]\n",
    "            last = pd.concat([last, sub_data])\n",
    "            \n",
    "last['licks_sec'] = last['num_licks'] / last['probe_length']\n",
    "avg_last = last.groupby(['session', 'group'], as_index=False).agg({'percent_correct': ['mean', 'sem']})\n",
    "avg_last_df = avg_last['percent_correct']\n",
    "avg_last_df.insert(0, 'group', avg_last['group'])\n",
    "avg_last_df.insert(1, 'session', avg_last['session'])"
   ]
  },
  {
   "cell_type": "code",
   "execution_count": 107,
   "metadata": {},
   "outputs": [],
   "source": [
    "## Plot probe accuracy for first and last day in A and A-probe (AP)\n",
    "first_last = pd.DataFrame()\n",
    "for mouse in fixed + criteria + cr_5:\n",
    "    if mouse in no_probe:\n",
    "        pass\n",
    "    else:\n",
    "        if mouse in cr_5:\n",
    "            mouse_data = probe_df[probe_df['mouse'] == mouse].reset_index(drop=True)\n",
    "            mouse_data = mouse_data[(mouse_data['session'] == 'A') | (mouse_data['session'] == 'AP')].reset_index(drop=True)\n",
    "            ## First day\n",
    "            index_list = ctb.pick_context_day(mouse_data, day_index=0, contexts=['A', 'AP'])\n",
    "            sub_data = mouse_data.loc[index_list, :]\n",
    "            sub_data['day_type'] = [1, 6]\n",
    "            sub_data['session'] = ['A1', 'AR']\n",
    "            first_last = pd.concat([first_last, sub_data])\n",
    "            ## Last day\n",
    "            index_list = ctb.pick_context_day(mouse_data, day_index=-1, contexts=['A'])\n",
    "            sub_data = mouse_data.loc[index_list, :]\n",
    "            sub_data['day_type'] = 5\n",
    "            sub_data['session'] = 'A5'\n",
    "            first_last = pd.concat([first_last, sub_data])\n",
    "            \n",
    "        else:\n",
    "            mouse_data = probe_df[probe_df['mouse'] == mouse].reset_index(drop=True)\n",
    "            index_list = ctb.pick_context_day(mouse_data, day_index=0, contexts=['A', 'AP'])\n",
    "            sub_data = mouse_data.loc[index_list, :]\n",
    "            sub_data['day_type'] = [1, 6]\n",
    "            sub_data['session'] = ['A1', 'AR']\n",
    "            first_last = pd.concat([first_last, sub_data])\n",
    "            index_list = ctb.pick_context_day(mouse_data, day_index=-1, contexts=['A'])\n",
    "            sub_data = mouse_data.loc[index_list, :]\n",
    "            sub_data['day_type'] = 5\n",
    "            sub_data['session'] = 'A5'\n",
    "            first_last = pd.concat([first_last, sub_data])"
   ]
  },
  {
   "cell_type": "code",
   "execution_count": 112,
   "metadata": {},
   "outputs": [
    {
     "data": {
      "application/vnd.plotly.v1+json": {
       "config": {
        "plotlyServerURL": "https://plot.ly"
       },
       "data": [
        {
         "error_y": {
          "array": [
           2.2222222222222223,
           9.08275453508058,
           3.9849005135829874
          ],
          "type": "data"
         },
         "marker": {
          "color": "midnightblue"
         },
         "mode": "markers",
         "type": "scatter",
         "x": [
          1,
          5,
          6
         ],
         "y": [
          2.222222222222222,
          52.81512605042017,
          28.466288613347434
         ]
        }
       ],
       "layout": {
        "font": {
         "family": "Arial",
         "size": 22
        },
        "height": 500,
        "shapes": [
         {
          "line": {
           "color": "darkgrey",
           "dash": "dash",
           "width": 1
          },
          "opacity": 1,
          "type": "line",
          "x0": 0,
          "x1": 1,
          "xref": "x domain",
          "y0": 25,
          "y1": 25,
          "yref": "y"
         },
         {
          "line": {
           "color": "darkgrey",
           "dash": "dash",
           "width": 1
          },
          "opacity": 1,
          "type": "line",
          "x0": 5.5,
          "x1": 5.5,
          "xref": "x",
          "y0": 0,
          "y1": 1,
          "yref": "y domain"
         }
        ],
        "template": {
         "data": {
          "bar": [
           {
            "error_x": {
             "color": "rgb(36,36,36)"
            },
            "error_y": {
             "color": "rgb(36,36,36)"
            },
            "marker": {
             "line": {
              "color": "white",
              "width": 0.5
             },
             "pattern": {
              "fillmode": "overlay",
              "size": 10,
              "solidity": 0.2
             }
            },
            "type": "bar"
           }
          ],
          "barpolar": [
           {
            "marker": {
             "line": {
              "color": "white",
              "width": 0.5
             },
             "pattern": {
              "fillmode": "overlay",
              "size": 10,
              "solidity": 0.2
             }
            },
            "type": "barpolar"
           }
          ],
          "carpet": [
           {
            "aaxis": {
             "endlinecolor": "rgb(36,36,36)",
             "gridcolor": "white",
             "linecolor": "white",
             "minorgridcolor": "white",
             "startlinecolor": "rgb(36,36,36)"
            },
            "baxis": {
             "endlinecolor": "rgb(36,36,36)",
             "gridcolor": "white",
             "linecolor": "white",
             "minorgridcolor": "white",
             "startlinecolor": "rgb(36,36,36)"
            },
            "type": "carpet"
           }
          ],
          "choropleth": [
           {
            "colorbar": {
             "outlinewidth": 1,
             "tickcolor": "rgb(36,36,36)",
             "ticks": "outside"
            },
            "type": "choropleth"
           }
          ],
          "contour": [
           {
            "colorbar": {
             "outlinewidth": 1,
             "tickcolor": "rgb(36,36,36)",
             "ticks": "outside"
            },
            "colorscale": [
             [
              0,
              "#440154"
             ],
             [
              0.1111111111111111,
              "#482878"
             ],
             [
              0.2222222222222222,
              "#3e4989"
             ],
             [
              0.3333333333333333,
              "#31688e"
             ],
             [
              0.4444444444444444,
              "#26828e"
             ],
             [
              0.5555555555555556,
              "#1f9e89"
             ],
             [
              0.6666666666666666,
              "#35b779"
             ],
             [
              0.7777777777777778,
              "#6ece58"
             ],
             [
              0.8888888888888888,
              "#b5de2b"
             ],
             [
              1,
              "#fde725"
             ]
            ],
            "type": "contour"
           }
          ],
          "contourcarpet": [
           {
            "colorbar": {
             "outlinewidth": 1,
             "tickcolor": "rgb(36,36,36)",
             "ticks": "outside"
            },
            "type": "contourcarpet"
           }
          ],
          "heatmap": [
           {
            "colorbar": {
             "outlinewidth": 1,
             "tickcolor": "rgb(36,36,36)",
             "ticks": "outside"
            },
            "colorscale": [
             [
              0,
              "#440154"
             ],
             [
              0.1111111111111111,
              "#482878"
             ],
             [
              0.2222222222222222,
              "#3e4989"
             ],
             [
              0.3333333333333333,
              "#31688e"
             ],
             [
              0.4444444444444444,
              "#26828e"
             ],
             [
              0.5555555555555556,
              "#1f9e89"
             ],
             [
              0.6666666666666666,
              "#35b779"
             ],
             [
              0.7777777777777778,
              "#6ece58"
             ],
             [
              0.8888888888888888,
              "#b5de2b"
             ],
             [
              1,
              "#fde725"
             ]
            ],
            "type": "heatmap"
           }
          ],
          "heatmapgl": [
           {
            "colorbar": {
             "outlinewidth": 1,
             "tickcolor": "rgb(36,36,36)",
             "ticks": "outside"
            },
            "colorscale": [
             [
              0,
              "#440154"
             ],
             [
              0.1111111111111111,
              "#482878"
             ],
             [
              0.2222222222222222,
              "#3e4989"
             ],
             [
              0.3333333333333333,
              "#31688e"
             ],
             [
              0.4444444444444444,
              "#26828e"
             ],
             [
              0.5555555555555556,
              "#1f9e89"
             ],
             [
              0.6666666666666666,
              "#35b779"
             ],
             [
              0.7777777777777778,
              "#6ece58"
             ],
             [
              0.8888888888888888,
              "#b5de2b"
             ],
             [
              1,
              "#fde725"
             ]
            ],
            "type": "heatmapgl"
           }
          ],
          "histogram": [
           {
            "marker": {
             "line": {
              "color": "white",
              "width": 0.6
             }
            },
            "type": "histogram"
           }
          ],
          "histogram2d": [
           {
            "colorbar": {
             "outlinewidth": 1,
             "tickcolor": "rgb(36,36,36)",
             "ticks": "outside"
            },
            "colorscale": [
             [
              0,
              "#440154"
             ],
             [
              0.1111111111111111,
              "#482878"
             ],
             [
              0.2222222222222222,
              "#3e4989"
             ],
             [
              0.3333333333333333,
              "#31688e"
             ],
             [
              0.4444444444444444,
              "#26828e"
             ],
             [
              0.5555555555555556,
              "#1f9e89"
             ],
             [
              0.6666666666666666,
              "#35b779"
             ],
             [
              0.7777777777777778,
              "#6ece58"
             ],
             [
              0.8888888888888888,
              "#b5de2b"
             ],
             [
              1,
              "#fde725"
             ]
            ],
            "type": "histogram2d"
           }
          ],
          "histogram2dcontour": [
           {
            "colorbar": {
             "outlinewidth": 1,
             "tickcolor": "rgb(36,36,36)",
             "ticks": "outside"
            },
            "colorscale": [
             [
              0,
              "#440154"
             ],
             [
              0.1111111111111111,
              "#482878"
             ],
             [
              0.2222222222222222,
              "#3e4989"
             ],
             [
              0.3333333333333333,
              "#31688e"
             ],
             [
              0.4444444444444444,
              "#26828e"
             ],
             [
              0.5555555555555556,
              "#1f9e89"
             ],
             [
              0.6666666666666666,
              "#35b779"
             ],
             [
              0.7777777777777778,
              "#6ece58"
             ],
             [
              0.8888888888888888,
              "#b5de2b"
             ],
             [
              1,
              "#fde725"
             ]
            ],
            "type": "histogram2dcontour"
           }
          ],
          "mesh3d": [
           {
            "colorbar": {
             "outlinewidth": 1,
             "tickcolor": "rgb(36,36,36)",
             "ticks": "outside"
            },
            "type": "mesh3d"
           }
          ],
          "parcoords": [
           {
            "line": {
             "colorbar": {
              "outlinewidth": 1,
              "tickcolor": "rgb(36,36,36)",
              "ticks": "outside"
             }
            },
            "type": "parcoords"
           }
          ],
          "pie": [
           {
            "automargin": true,
            "type": "pie"
           }
          ],
          "scatter": [
           {
            "fillpattern": {
             "fillmode": "overlay",
             "size": 10,
             "solidity": 0.2
            },
            "type": "scatter"
           }
          ],
          "scatter3d": [
           {
            "line": {
             "colorbar": {
              "outlinewidth": 1,
              "tickcolor": "rgb(36,36,36)",
              "ticks": "outside"
             }
            },
            "marker": {
             "colorbar": {
              "outlinewidth": 1,
              "tickcolor": "rgb(36,36,36)",
              "ticks": "outside"
             }
            },
            "type": "scatter3d"
           }
          ],
          "scattercarpet": [
           {
            "marker": {
             "colorbar": {
              "outlinewidth": 1,
              "tickcolor": "rgb(36,36,36)",
              "ticks": "outside"
             }
            },
            "type": "scattercarpet"
           }
          ],
          "scattergeo": [
           {
            "marker": {
             "colorbar": {
              "outlinewidth": 1,
              "tickcolor": "rgb(36,36,36)",
              "ticks": "outside"
             }
            },
            "type": "scattergeo"
           }
          ],
          "scattergl": [
           {
            "marker": {
             "colorbar": {
              "outlinewidth": 1,
              "tickcolor": "rgb(36,36,36)",
              "ticks": "outside"
             }
            },
            "type": "scattergl"
           }
          ],
          "scattermapbox": [
           {
            "marker": {
             "colorbar": {
              "outlinewidth": 1,
              "tickcolor": "rgb(36,36,36)",
              "ticks": "outside"
             }
            },
            "type": "scattermapbox"
           }
          ],
          "scatterpolar": [
           {
            "marker": {
             "colorbar": {
              "outlinewidth": 1,
              "tickcolor": "rgb(36,36,36)",
              "ticks": "outside"
             }
            },
            "type": "scatterpolar"
           }
          ],
          "scatterpolargl": [
           {
            "marker": {
             "colorbar": {
              "outlinewidth": 1,
              "tickcolor": "rgb(36,36,36)",
              "ticks": "outside"
             }
            },
            "type": "scatterpolargl"
           }
          ],
          "scatterternary": [
           {
            "marker": {
             "colorbar": {
              "outlinewidth": 1,
              "tickcolor": "rgb(36,36,36)",
              "ticks": "outside"
             }
            },
            "type": "scatterternary"
           }
          ],
          "surface": [
           {
            "colorbar": {
             "outlinewidth": 1,
             "tickcolor": "rgb(36,36,36)",
             "ticks": "outside"
            },
            "colorscale": [
             [
              0,
              "#440154"
             ],
             [
              0.1111111111111111,
              "#482878"
             ],
             [
              0.2222222222222222,
              "#3e4989"
             ],
             [
              0.3333333333333333,
              "#31688e"
             ],
             [
              0.4444444444444444,
              "#26828e"
             ],
             [
              0.5555555555555556,
              "#1f9e89"
             ],
             [
              0.6666666666666666,
              "#35b779"
             ],
             [
              0.7777777777777778,
              "#6ece58"
             ],
             [
              0.8888888888888888,
              "#b5de2b"
             ],
             [
              1,
              "#fde725"
             ]
            ],
            "type": "surface"
           }
          ],
          "table": [
           {
            "cells": {
             "fill": {
              "color": "rgb(237,237,237)"
             },
             "line": {
              "color": "white"
             }
            },
            "header": {
             "fill": {
              "color": "rgb(217,217,217)"
             },
             "line": {
              "color": "white"
             }
            },
            "type": "table"
           }
          ]
         },
         "layout": {
          "annotationdefaults": {
           "arrowhead": 0,
           "arrowwidth": 1
          },
          "autotypenumbers": "strict",
          "coloraxis": {
           "colorbar": {
            "outlinewidth": 1,
            "tickcolor": "rgb(36,36,36)",
            "ticks": "outside"
           }
          },
          "colorscale": {
           "diverging": [
            [
             0,
             "rgb(103,0,31)"
            ],
            [
             0.1,
             "rgb(178,24,43)"
            ],
            [
             0.2,
             "rgb(214,96,77)"
            ],
            [
             0.3,
             "rgb(244,165,130)"
            ],
            [
             0.4,
             "rgb(253,219,199)"
            ],
            [
             0.5,
             "rgb(247,247,247)"
            ],
            [
             0.6,
             "rgb(209,229,240)"
            ],
            [
             0.7,
             "rgb(146,197,222)"
            ],
            [
             0.8,
             "rgb(67,147,195)"
            ],
            [
             0.9,
             "rgb(33,102,172)"
            ],
            [
             1,
             "rgb(5,48,97)"
            ]
           ],
           "sequential": [
            [
             0,
             "#440154"
            ],
            [
             0.1111111111111111,
             "#482878"
            ],
            [
             0.2222222222222222,
             "#3e4989"
            ],
            [
             0.3333333333333333,
             "#31688e"
            ],
            [
             0.4444444444444444,
             "#26828e"
            ],
            [
             0.5555555555555556,
             "#1f9e89"
            ],
            [
             0.6666666666666666,
             "#35b779"
            ],
            [
             0.7777777777777778,
             "#6ece58"
            ],
            [
             0.8888888888888888,
             "#b5de2b"
            ],
            [
             1,
             "#fde725"
            ]
           ],
           "sequentialminus": [
            [
             0,
             "#440154"
            ],
            [
             0.1111111111111111,
             "#482878"
            ],
            [
             0.2222222222222222,
             "#3e4989"
            ],
            [
             0.3333333333333333,
             "#31688e"
            ],
            [
             0.4444444444444444,
             "#26828e"
            ],
            [
             0.5555555555555556,
             "#1f9e89"
            ],
            [
             0.6666666666666666,
             "#35b779"
            ],
            [
             0.7777777777777778,
             "#6ece58"
            ],
            [
             0.8888888888888888,
             "#b5de2b"
            ],
            [
             1,
             "#fde725"
            ]
           ]
          },
          "colorway": [
           "#1F77B4",
           "#FF7F0E",
           "#2CA02C",
           "#D62728",
           "#9467BD",
           "#8C564B",
           "#E377C2",
           "#7F7F7F",
           "#BCBD22",
           "#17BECF"
          ],
          "font": {
           "color": "rgb(36,36,36)"
          },
          "geo": {
           "bgcolor": "white",
           "lakecolor": "white",
           "landcolor": "white",
           "showlakes": true,
           "showland": true,
           "subunitcolor": "white"
          },
          "hoverlabel": {
           "align": "left"
          },
          "hovermode": "closest",
          "mapbox": {
           "style": "light"
          },
          "paper_bgcolor": "white",
          "plot_bgcolor": "white",
          "polar": {
           "angularaxis": {
            "gridcolor": "rgb(232,232,232)",
            "linecolor": "rgb(36,36,36)",
            "showgrid": false,
            "showline": true,
            "ticks": "outside"
           },
           "bgcolor": "white",
           "radialaxis": {
            "gridcolor": "rgb(232,232,232)",
            "linecolor": "rgb(36,36,36)",
            "showgrid": false,
            "showline": true,
            "ticks": "outside"
           }
          },
          "scene": {
           "xaxis": {
            "backgroundcolor": "white",
            "gridcolor": "rgb(232,232,232)",
            "gridwidth": 2,
            "linecolor": "rgb(36,36,36)",
            "showbackground": true,
            "showgrid": false,
            "showline": true,
            "ticks": "outside",
            "zeroline": false,
            "zerolinecolor": "rgb(36,36,36)"
           },
           "yaxis": {
            "backgroundcolor": "white",
            "gridcolor": "rgb(232,232,232)",
            "gridwidth": 2,
            "linecolor": "rgb(36,36,36)",
            "showbackground": true,
            "showgrid": false,
            "showline": true,
            "ticks": "outside",
            "zeroline": false,
            "zerolinecolor": "rgb(36,36,36)"
           },
           "zaxis": {
            "backgroundcolor": "white",
            "gridcolor": "rgb(232,232,232)",
            "gridwidth": 2,
            "linecolor": "rgb(36,36,36)",
            "showbackground": true,
            "showgrid": false,
            "showline": true,
            "ticks": "outside",
            "zeroline": false,
            "zerolinecolor": "rgb(36,36,36)"
           }
          },
          "shapedefaults": {
           "fillcolor": "black",
           "line": {
            "width": 0
           },
           "opacity": 0.3
          },
          "ternary": {
           "aaxis": {
            "gridcolor": "rgb(232,232,232)",
            "linecolor": "rgb(36,36,36)",
            "showgrid": false,
            "showline": true,
            "ticks": "outside"
           },
           "baxis": {
            "gridcolor": "rgb(232,232,232)",
            "linecolor": "rgb(36,36,36)",
            "showgrid": false,
            "showline": true,
            "ticks": "outside"
           },
           "bgcolor": "white",
           "caxis": {
            "gridcolor": "rgb(232,232,232)",
            "linecolor": "rgb(36,36,36)",
            "showgrid": false,
            "showline": true,
            "ticks": "outside"
           }
          },
          "title": {
           "x": 0.05
          },
          "xaxis": {
           "automargin": true,
           "gridcolor": "rgb(232,232,232)",
           "linecolor": "rgb(36,36,36)",
           "showgrid": false,
           "showline": true,
           "ticks": "outside",
           "title": {
            "standoff": 15
           },
           "zeroline": false,
           "zerolinecolor": "rgb(36,36,36)"
          },
          "yaxis": {
           "automargin": true,
           "gridcolor": "rgb(232,232,232)",
           "linecolor": "rgb(36,36,36)",
           "showgrid": false,
           "showline": true,
           "ticks": "outside",
           "title": {
            "standoff": 15
           },
           "zeroline": false,
           "zerolinecolor": "rgb(36,36,36)"
          }
         }
        },
        "title": {
         "x": 0.5,
         "xanchor": "center",
         "y": 0.9,
         "yanchor": "top"
        },
        "width": 600,
        "xaxis": {
         "anchor": "y",
         "domain": [
          0,
          1
         ],
         "linewidth": 1.5,
         "matches": "x",
         "ticktext": [
          "A1",
          "A5",
          "R"
         ],
         "tickvals": [
          1,
          5,
          6
         ],
         "title": {
          "text": ""
         }
        },
        "yaxis": {
         "anchor": "x",
         "domain": [
          0,
          1
         ],
         "linewidth": 1.5,
         "matches": "y",
         "range": [
          0,
          100
         ],
         "title": {
          "text": "Probe Accuracy (%)"
         }
        }
       }
      },
      "text/html": [
       "<div>                            <div id=\"0cca878b-d080-4804-a9f6-93882e8f09b2\" class=\"plotly-graph-div\" style=\"height:500px; width:600px;\"></div>            <script type=\"text/javascript\">                require([\"plotly\"], function(Plotly) {                    window.PLOTLYENV=window.PLOTLYENV || {};                                    if (document.getElementById(\"0cca878b-d080-4804-a9f6-93882e8f09b2\")) {                    Plotly.newPlot(                        \"0cca878b-d080-4804-a9f6-93882e8f09b2\",                        [{\"error_y\":{\"array\":[2.2222222222222223,9.08275453508058,3.9849005135829874],\"type\":\"data\"},\"marker\":{\"color\":\"midnightblue\"},\"mode\":\"markers\",\"x\":[1,5,6],\"y\":[2.222222222222222,52.81512605042017,28.466288613347434],\"type\":\"scatter\"}],                        {\"template\":{\"data\":{\"barpolar\":[{\"marker\":{\"line\":{\"color\":\"white\",\"width\":0.5},\"pattern\":{\"fillmode\":\"overlay\",\"size\":10,\"solidity\":0.2}},\"type\":\"barpolar\"}],\"bar\":[{\"error_x\":{\"color\":\"rgb(36,36,36)\"},\"error_y\":{\"color\":\"rgb(36,36,36)\"},\"marker\":{\"line\":{\"color\":\"white\",\"width\":0.5},\"pattern\":{\"fillmode\":\"overlay\",\"size\":10,\"solidity\":0.2}},\"type\":\"bar\"}],\"carpet\":[{\"aaxis\":{\"endlinecolor\":\"rgb(36,36,36)\",\"gridcolor\":\"white\",\"linecolor\":\"white\",\"minorgridcolor\":\"white\",\"startlinecolor\":\"rgb(36,36,36)\"},\"baxis\":{\"endlinecolor\":\"rgb(36,36,36)\",\"gridcolor\":\"white\",\"linecolor\":\"white\",\"minorgridcolor\":\"white\",\"startlinecolor\":\"rgb(36,36,36)\"},\"type\":\"carpet\"}],\"choropleth\":[{\"colorbar\":{\"outlinewidth\":1,\"tickcolor\":\"rgb(36,36,36)\",\"ticks\":\"outside\"},\"type\":\"choropleth\"}],\"contourcarpet\":[{\"colorbar\":{\"outlinewidth\":1,\"tickcolor\":\"rgb(36,36,36)\",\"ticks\":\"outside\"},\"type\":\"contourcarpet\"}],\"contour\":[{\"colorbar\":{\"outlinewidth\":1,\"tickcolor\":\"rgb(36,36,36)\",\"ticks\":\"outside\"},\"colorscale\":[[0.0,\"#440154\"],[0.1111111111111111,\"#482878\"],[0.2222222222222222,\"#3e4989\"],[0.3333333333333333,\"#31688e\"],[0.4444444444444444,\"#26828e\"],[0.5555555555555556,\"#1f9e89\"],[0.6666666666666666,\"#35b779\"],[0.7777777777777778,\"#6ece58\"],[0.8888888888888888,\"#b5de2b\"],[1.0,\"#fde725\"]],\"type\":\"contour\"}],\"heatmapgl\":[{\"colorbar\":{\"outlinewidth\":1,\"tickcolor\":\"rgb(36,36,36)\",\"ticks\":\"outside\"},\"colorscale\":[[0.0,\"#440154\"],[0.1111111111111111,\"#482878\"],[0.2222222222222222,\"#3e4989\"],[0.3333333333333333,\"#31688e\"],[0.4444444444444444,\"#26828e\"],[0.5555555555555556,\"#1f9e89\"],[0.6666666666666666,\"#35b779\"],[0.7777777777777778,\"#6ece58\"],[0.8888888888888888,\"#b5de2b\"],[1.0,\"#fde725\"]],\"type\":\"heatmapgl\"}],\"heatmap\":[{\"colorbar\":{\"outlinewidth\":1,\"tickcolor\":\"rgb(36,36,36)\",\"ticks\":\"outside\"},\"colorscale\":[[0.0,\"#440154\"],[0.1111111111111111,\"#482878\"],[0.2222222222222222,\"#3e4989\"],[0.3333333333333333,\"#31688e\"],[0.4444444444444444,\"#26828e\"],[0.5555555555555556,\"#1f9e89\"],[0.6666666666666666,\"#35b779\"],[0.7777777777777778,\"#6ece58\"],[0.8888888888888888,\"#b5de2b\"],[1.0,\"#fde725\"]],\"type\":\"heatmap\"}],\"histogram2dcontour\":[{\"colorbar\":{\"outlinewidth\":1,\"tickcolor\":\"rgb(36,36,36)\",\"ticks\":\"outside\"},\"colorscale\":[[0.0,\"#440154\"],[0.1111111111111111,\"#482878\"],[0.2222222222222222,\"#3e4989\"],[0.3333333333333333,\"#31688e\"],[0.4444444444444444,\"#26828e\"],[0.5555555555555556,\"#1f9e89\"],[0.6666666666666666,\"#35b779\"],[0.7777777777777778,\"#6ece58\"],[0.8888888888888888,\"#b5de2b\"],[1.0,\"#fde725\"]],\"type\":\"histogram2dcontour\"}],\"histogram2d\":[{\"colorbar\":{\"outlinewidth\":1,\"tickcolor\":\"rgb(36,36,36)\",\"ticks\":\"outside\"},\"colorscale\":[[0.0,\"#440154\"],[0.1111111111111111,\"#482878\"],[0.2222222222222222,\"#3e4989\"],[0.3333333333333333,\"#31688e\"],[0.4444444444444444,\"#26828e\"],[0.5555555555555556,\"#1f9e89\"],[0.6666666666666666,\"#35b779\"],[0.7777777777777778,\"#6ece58\"],[0.8888888888888888,\"#b5de2b\"],[1.0,\"#fde725\"]],\"type\":\"histogram2d\"}],\"histogram\":[{\"marker\":{\"line\":{\"color\":\"white\",\"width\":0.6}},\"type\":\"histogram\"}],\"mesh3d\":[{\"colorbar\":{\"outlinewidth\":1,\"tickcolor\":\"rgb(36,36,36)\",\"ticks\":\"outside\"},\"type\":\"mesh3d\"}],\"parcoords\":[{\"line\":{\"colorbar\":{\"outlinewidth\":1,\"tickcolor\":\"rgb(36,36,36)\",\"ticks\":\"outside\"}},\"type\":\"parcoords\"}],\"pie\":[{\"automargin\":true,\"type\":\"pie\"}],\"scatter3d\":[{\"line\":{\"colorbar\":{\"outlinewidth\":1,\"tickcolor\":\"rgb(36,36,36)\",\"ticks\":\"outside\"}},\"marker\":{\"colorbar\":{\"outlinewidth\":1,\"tickcolor\":\"rgb(36,36,36)\",\"ticks\":\"outside\"}},\"type\":\"scatter3d\"}],\"scattercarpet\":[{\"marker\":{\"colorbar\":{\"outlinewidth\":1,\"tickcolor\":\"rgb(36,36,36)\",\"ticks\":\"outside\"}},\"type\":\"scattercarpet\"}],\"scattergeo\":[{\"marker\":{\"colorbar\":{\"outlinewidth\":1,\"tickcolor\":\"rgb(36,36,36)\",\"ticks\":\"outside\"}},\"type\":\"scattergeo\"}],\"scattergl\":[{\"marker\":{\"colorbar\":{\"outlinewidth\":1,\"tickcolor\":\"rgb(36,36,36)\",\"ticks\":\"outside\"}},\"type\":\"scattergl\"}],\"scattermapbox\":[{\"marker\":{\"colorbar\":{\"outlinewidth\":1,\"tickcolor\":\"rgb(36,36,36)\",\"ticks\":\"outside\"}},\"type\":\"scattermapbox\"}],\"scatterpolargl\":[{\"marker\":{\"colorbar\":{\"outlinewidth\":1,\"tickcolor\":\"rgb(36,36,36)\",\"ticks\":\"outside\"}},\"type\":\"scatterpolargl\"}],\"scatterpolar\":[{\"marker\":{\"colorbar\":{\"outlinewidth\":1,\"tickcolor\":\"rgb(36,36,36)\",\"ticks\":\"outside\"}},\"type\":\"scatterpolar\"}],\"scatter\":[{\"fillpattern\":{\"fillmode\":\"overlay\",\"size\":10,\"solidity\":0.2},\"type\":\"scatter\"}],\"scatterternary\":[{\"marker\":{\"colorbar\":{\"outlinewidth\":1,\"tickcolor\":\"rgb(36,36,36)\",\"ticks\":\"outside\"}},\"type\":\"scatterternary\"}],\"surface\":[{\"colorbar\":{\"outlinewidth\":1,\"tickcolor\":\"rgb(36,36,36)\",\"ticks\":\"outside\"},\"colorscale\":[[0.0,\"#440154\"],[0.1111111111111111,\"#482878\"],[0.2222222222222222,\"#3e4989\"],[0.3333333333333333,\"#31688e\"],[0.4444444444444444,\"#26828e\"],[0.5555555555555556,\"#1f9e89\"],[0.6666666666666666,\"#35b779\"],[0.7777777777777778,\"#6ece58\"],[0.8888888888888888,\"#b5de2b\"],[1.0,\"#fde725\"]],\"type\":\"surface\"}],\"table\":[{\"cells\":{\"fill\":{\"color\":\"rgb(237,237,237)\"},\"line\":{\"color\":\"white\"}},\"header\":{\"fill\":{\"color\":\"rgb(217,217,217)\"},\"line\":{\"color\":\"white\"}},\"type\":\"table\"}]},\"layout\":{\"annotationdefaults\":{\"arrowhead\":0,\"arrowwidth\":1},\"autotypenumbers\":\"strict\",\"coloraxis\":{\"colorbar\":{\"outlinewidth\":1,\"tickcolor\":\"rgb(36,36,36)\",\"ticks\":\"outside\"}},\"colorscale\":{\"diverging\":[[0.0,\"rgb(103,0,31)\"],[0.1,\"rgb(178,24,43)\"],[0.2,\"rgb(214,96,77)\"],[0.3,\"rgb(244,165,130)\"],[0.4,\"rgb(253,219,199)\"],[0.5,\"rgb(247,247,247)\"],[0.6,\"rgb(209,229,240)\"],[0.7,\"rgb(146,197,222)\"],[0.8,\"rgb(67,147,195)\"],[0.9,\"rgb(33,102,172)\"],[1.0,\"rgb(5,48,97)\"]],\"sequential\":[[0.0,\"#440154\"],[0.1111111111111111,\"#482878\"],[0.2222222222222222,\"#3e4989\"],[0.3333333333333333,\"#31688e\"],[0.4444444444444444,\"#26828e\"],[0.5555555555555556,\"#1f9e89\"],[0.6666666666666666,\"#35b779\"],[0.7777777777777778,\"#6ece58\"],[0.8888888888888888,\"#b5de2b\"],[1.0,\"#fde725\"]],\"sequentialminus\":[[0.0,\"#440154\"],[0.1111111111111111,\"#482878\"],[0.2222222222222222,\"#3e4989\"],[0.3333333333333333,\"#31688e\"],[0.4444444444444444,\"#26828e\"],[0.5555555555555556,\"#1f9e89\"],[0.6666666666666666,\"#35b779\"],[0.7777777777777778,\"#6ece58\"],[0.8888888888888888,\"#b5de2b\"],[1.0,\"#fde725\"]]},\"colorway\":[\"#1F77B4\",\"#FF7F0E\",\"#2CA02C\",\"#D62728\",\"#9467BD\",\"#8C564B\",\"#E377C2\",\"#7F7F7F\",\"#BCBD22\",\"#17BECF\"],\"font\":{\"color\":\"rgb(36,36,36)\"},\"geo\":{\"bgcolor\":\"white\",\"lakecolor\":\"white\",\"landcolor\":\"white\",\"showlakes\":true,\"showland\":true,\"subunitcolor\":\"white\"},\"hoverlabel\":{\"align\":\"left\"},\"hovermode\":\"closest\",\"mapbox\":{\"style\":\"light\"},\"paper_bgcolor\":\"white\",\"plot_bgcolor\":\"white\",\"polar\":{\"angularaxis\":{\"gridcolor\":\"rgb(232,232,232)\",\"linecolor\":\"rgb(36,36,36)\",\"showgrid\":false,\"showline\":true,\"ticks\":\"outside\"},\"bgcolor\":\"white\",\"radialaxis\":{\"gridcolor\":\"rgb(232,232,232)\",\"linecolor\":\"rgb(36,36,36)\",\"showgrid\":false,\"showline\":true,\"ticks\":\"outside\"}},\"scene\":{\"xaxis\":{\"backgroundcolor\":\"white\",\"gridcolor\":\"rgb(232,232,232)\",\"gridwidth\":2,\"linecolor\":\"rgb(36,36,36)\",\"showbackground\":true,\"showgrid\":false,\"showline\":true,\"ticks\":\"outside\",\"zeroline\":false,\"zerolinecolor\":\"rgb(36,36,36)\"},\"yaxis\":{\"backgroundcolor\":\"white\",\"gridcolor\":\"rgb(232,232,232)\",\"gridwidth\":2,\"linecolor\":\"rgb(36,36,36)\",\"showbackground\":true,\"showgrid\":false,\"showline\":true,\"ticks\":\"outside\",\"zeroline\":false,\"zerolinecolor\":\"rgb(36,36,36)\"},\"zaxis\":{\"backgroundcolor\":\"white\",\"gridcolor\":\"rgb(232,232,232)\",\"gridwidth\":2,\"linecolor\":\"rgb(36,36,36)\",\"showbackground\":true,\"showgrid\":false,\"showline\":true,\"ticks\":\"outside\",\"zeroline\":false,\"zerolinecolor\":\"rgb(36,36,36)\"}},\"shapedefaults\":{\"fillcolor\":\"black\",\"line\":{\"width\":0},\"opacity\":0.3},\"ternary\":{\"aaxis\":{\"gridcolor\":\"rgb(232,232,232)\",\"linecolor\":\"rgb(36,36,36)\",\"showgrid\":false,\"showline\":true,\"ticks\":\"outside\"},\"baxis\":{\"gridcolor\":\"rgb(232,232,232)\",\"linecolor\":\"rgb(36,36,36)\",\"showgrid\":false,\"showline\":true,\"ticks\":\"outside\"},\"bgcolor\":\"white\",\"caxis\":{\"gridcolor\":\"rgb(232,232,232)\",\"linecolor\":\"rgb(36,36,36)\",\"showgrid\":false,\"showline\":true,\"ticks\":\"outside\"}},\"title\":{\"x\":0.05},\"xaxis\":{\"automargin\":true,\"gridcolor\":\"rgb(232,232,232)\",\"linecolor\":\"rgb(36,36,36)\",\"showgrid\":false,\"showline\":true,\"ticks\":\"outside\",\"title\":{\"standoff\":15},\"zeroline\":false,\"zerolinecolor\":\"rgb(36,36,36)\"},\"yaxis\":{\"automargin\":true,\"gridcolor\":\"rgb(232,232,232)\",\"linecolor\":\"rgb(36,36,36)\",\"showgrid\":false,\"showline\":true,\"ticks\":\"outside\",\"title\":{\"standoff\":15},\"zeroline\":false,\"zerolinecolor\":\"rgb(36,36,36)\"}}},\"xaxis\":{\"anchor\":\"y\",\"domain\":[0.0,1.0],\"title\":{\"text\":\"\"},\"linewidth\":1.5,\"matches\":\"x\",\"ticktext\":[\"A1\",\"A5\",\"R\"],\"tickvals\":[1,5,6]},\"yaxis\":{\"anchor\":\"x\",\"domain\":[0.0,1.0],\"title\":{\"text\":\"Probe Accuracy (%)\"},\"linewidth\":1.5,\"matches\":\"y\",\"range\":[0,100]},\"title\":{\"y\":0.9,\"x\":0.5,\"xanchor\":\"center\",\"yanchor\":\"top\"},\"font\":{\"size\":22,\"family\":\"Arial\"},\"height\":500,\"width\":600,\"shapes\":[{\"line\":{\"color\":\"darkgrey\",\"dash\":\"dash\",\"width\":1},\"opacity\":1,\"type\":\"line\",\"x0\":0,\"x1\":1,\"xref\":\"x domain\",\"y0\":25,\"y1\":25,\"yref\":\"y\"},{\"line\":{\"color\":\"darkgrey\",\"dash\":\"dash\",\"width\":1},\"opacity\":1,\"type\":\"line\",\"x0\":5.5,\"x1\":5.5,\"xref\":\"x\",\"y0\":0,\"y1\":1,\"yref\":\"y domain\"}]},                        {\"responsive\": true}                    ).then(function(){\n",
       "                            \n",
       "var gd = document.getElementById('0cca878b-d080-4804-a9f6-93882e8f09b2');\n",
       "var x = new MutationObserver(function (mutations, observer) {{\n",
       "        var display = window.getComputedStyle(gd).display;\n",
       "        if (!display || display === 'none') {{\n",
       "            console.log([gd, 'removed!']);\n",
       "            Plotly.purge(gd);\n",
       "            observer.disconnect();\n",
       "        }}\n",
       "}});\n",
       "\n",
       "// Listen for the removal of the full notebook cells\n",
       "var notebookContainer = gd.closest('#notebook-container');\n",
       "if (notebookContainer) {{\n",
       "    x.observe(notebookContainer, {childList: true});\n",
       "}}\n",
       "\n",
       "// Listen for the clearing of the current output cell\n",
       "var outputEl = gd.closest('.output');\n",
       "if (outputEl) {{\n",
       "    x.observe(outputEl, {childList: true});\n",
       "}}\n",
       "\n",
       "                        })                };                });            </script>        </div>"
      ]
     },
     "metadata": {},
     "output_type": "display_data"
    }
   ],
   "source": [
    "avg_probe = first_last.groupby(['session', 'day_type'], as_index=False).agg({'percent_correct': ['mean', 'sem']})\n",
    "\n",
    "fig = pf.custom_graph_template(x_title='', y_title='', titles=[''], \n",
    "                               shared_x=True, shared_y=True, width=600)\n",
    "fig.add_trace(go.Scatter(x=avg_probe['day_type'], y=avg_probe['percent_correct']['mean'], mode='markers',\n",
    "                         error_y=dict(type='data', array=avg_probe['percent_correct']['sem']), marker_color='midnightblue'))\n",
    "fig.add_hline(y=25, line_width=1, line_dash='dash', line_color='darkgrey', opacity=1)\n",
    "fig.add_vline(x=5.5, line_width=1, line_dash='dash', line_color='darkgrey', opacity=1)\n",
    "fig.update_yaxes(title='Probe Accuracy (%)', col=1, range=[0, 100])\n",
    "fig.update_xaxes(\n",
    "    ticktext=['A1', 'A5', 'R'],\n",
    "    tickvals=[1, 5, 6],\n",
    ")\n",
    "fig.show()\n",
    "fig.write_image(pjoin(fig_path, 'probe_accuracy_with_recall.png'))"
   ]
  },
  {
   "cell_type": "code",
   "execution_count": null,
   "metadata": {},
   "outputs": [],
   "source": [
    "## Bar chart of probe accuracy per mouse on the last day within a context\n",
    "fixed_df = avg_last_df[(avg_last_df['group'] == 'fixed') & (avg_last_df['session'] != 'ND')]\n",
    "criteria_df = avg_last_df[(avg_last_df['group'] == 'criteria') & (avg_last_df['session'] != 'ND')]\n",
    "cr5_df = avg_last_df[avg_last_df['group'] == 'cr_5'] \n",
    "cr5_df = cr5_df[(avg_last_df['session'] == 'A') | (avg_last_df['session'] == 'B') | (avg_last_df['session'] == 'C') | \n",
    "                (avg_last_df['session'] == 'D') | (avg_last_df['session'] == 'AP')]\n",
    "subset_trials = last[(last['session'] == 'A') | (last['session'] == 'B') |\n",
    "                     (last['session'] == 'C') | (last['session'] == 'D') | (last['session'] == 'AP')]\n",
    "fig = px.strip(subset_trials, x='session', y='percent_correct', color='group', hover_name='mouse',\n",
    "               color_discrete_sequence=[group_colors['fixed'], group_colors['criteria'], group_colors['cr_5']]).update_traces(showlegend=False, opacity=0.8,\n",
    "                                                                                                                              marker_line_width=1)\n",
    "fig.add_trace(go.Bar(x=fixed_df['session'], y=fixed_df['mean'],\n",
    "                     error_y=dict(type='data', array=fixed_df['sem'], thickness=2.5, width=10),\n",
    "                     marker_color=group_colors['fixed'], marker_line_color='black', \n",
    "                     marker_line_width=2, name='Fixed', opacity=0.8))\n",
    "fig.add_trace(go.Bar(x=criteria_df['session'], y=criteria_df['mean'],\n",
    "                     error_y=dict(type='data', array=criteria_df['sem'], thickness=2.5, width=10),\n",
    "                     marker_color=group_colors['criteria'], marker_line_color='black', \n",
    "                     marker_line_width=2, name='Criteria', opacity=0.8))\n",
    "fig.add_trace(go.Bar(x=cr5_df['session'], y=cr5_df['mean'],\n",
    "                     error_y=dict(type='data', array=cr5_df['sem'], thickness=2.5, width=10),\n",
    "                     marker_color=group_colors['cr_5'], marker_line_color='black', \n",
    "                     marker_line_width=2, name='Criteria+5', opacity=0.8))\n",
    "fig.update_layout(height=500, width=600, template='simple_white', legend_title_text='', yaxis_title='Probe Accuracy (%)',\n",
    "                  xaxis_title='', font=dict(size=16))\n",
    "fig.update_xaxes(categoryorder='array', categoryarray=['A', 'B', 'C', 'D', 'AP'])\n",
    "fig.show()\n",
    "fig.write_image(pjoin(fig_path, 'probe_accuracy.png'))"
   ]
  },
  {
   "cell_type": "code",
   "execution_count": null,
   "metadata": {},
   "outputs": [],
   "source": [
    "subset_trials.mixed_anova(dv='percent_correct', within='session', subject='mouse', between='group')"
   ]
  },
  {
   "cell_type": "code",
   "execution_count": null,
   "metadata": {},
   "outputs": [],
   "source": [
    "## Number of licks during the probe for each context\n",
    "avg_num_licks = last.groupby(['group', 'session'], as_index=False).agg({'num_licks': ['mean', 'sem']})\n",
    "fixed_df = avg_num_licks[avg_num_licks['group'] == 'fixed']\n",
    "criteria_df = avg_num_licks[avg_num_licks['group'] == 'criteria']\n",
    "cr5_df = avg_num_licks[avg_num_licks['group'] == 'cr_5']\n",
    "fig = px.strip(last, x='session', y='num_licks', color='group', hover_name='mouse',\n",
    "               color_discrete_sequence=[group_colors['fixed'], group_colors['criteria'], group_colors['cr_5']]).update_traces(showlegend=False, opacity=0.8,\n",
    "                                                                                                                              marker_line_width=1)\n",
    "fig.add_trace(go.Bar(x=fixed_df['session'], y=fixed_df['num_licks']['mean'],\n",
    "                     error_y=dict(type='data', array=fixed_df['num_licks']['sem'], thickness=2.5, width=10),\n",
    "                     marker_color=group_colors['fixed'], marker_line_color='black', \n",
    "                     marker_line_width=2, name='Fixed', opacity=0.8))\n",
    "fig.add_trace(go.Bar(x=criteria_df['session'], y=criteria_df['num_licks']['mean'],\n",
    "                     error_y=dict(type='data', array=criteria_df['num_licks']['sem'], thickness=2.5, width=10),\n",
    "                     marker_color=group_colors['criteria'], marker_line_color='black', \n",
    "                     marker_line_width=2, name='Criteria', opacity=0.8))\n",
    "fig.add_trace(go.Bar(x=cr5_df['session'], y=cr5_df['num_licks']['mean'],\n",
    "                     error_y=dict(type='data', array=cr5_df['num_licks']['sem'], thickness=2.5, width=10),\n",
    "                     marker_color=group_colors['cr_5'], marker_line_color='black', \n",
    "                     marker_line_width=2, name='Criteria+5', opacity=0.8))\n",
    "fig.update_layout(height=500, width=600, template='simple_white', legend_title_text='', yaxis_title='Number of Licks During Probe',\n",
    "                  xaxis_title='', font=dict(size=16))\n",
    "fig.update_xaxes(categoryorder='array', categoryarray=['A', 'B', 'C', 'D', 'AP'])\n",
    "fig.show()\n",
    "fig.write_image(pjoin(fig_path, 'num_licks_probe.png'))"
   ]
  },
  {
   "cell_type": "code",
   "execution_count": null,
   "metadata": {},
   "outputs": [],
   "source": [
    "last.mixed_anova(dv='num_licks', within='session', subject='mouse', between='group')"
   ]
  },
  {
   "cell_type": "code",
   "execution_count": null,
   "metadata": {},
   "outputs": [],
   "source": [
    "## Licks/s during the probe for each context on the last day\n",
    "licks_s = last.groupby(['group', 'session'], as_index=False).agg({'licks_sec': ['mean', 'sem']})\n",
    "fixed_df = licks_s[licks_s['group'] == 'fixed']\n",
    "criteria_df = licks_s[licks_s['group'] == 'criteria']\n",
    "cr5_df = licks_s[licks_s['group'] == 'cr_5']\n",
    "fig = px.strip(last, x='session', y='licks_sec', color='group', hover_name='mouse',\n",
    "               color_discrete_sequence=[group_colors['fixed'], group_colors['criteria'], group_colors['cr_5']]).update_traces(showlegend=False, opacity=0.8,\n",
    "                                                                                                                              marker_line_width=1)\n",
    "fig.add_trace(go.Bar(x=fixed_df['session'], y=fixed_df['licks_sec']['mean'],\n",
    "                     error_y=dict(type='data', array=fixed_df['licks_sec']['sem'], thickness=2.5, width=10),\n",
    "                     marker_color=group_colors['fixed'], marker_line_color='black', \n",
    "                     marker_line_width=2, name='Fixed', opacity=0.8))\n",
    "fig.add_trace(go.Bar(x=criteria_df['session'], y=criteria_df['licks_sec']['mean'],\n",
    "                     error_y=dict(type='data', array=criteria_df['licks_sec']['sem'], thickness=2.5, width=10),\n",
    "                     marker_color=group_colors['criteria'], marker_line_color='black', \n",
    "                     marker_line_width=2, name='Criteria', opacity=0.8))\n",
    "fig.add_trace(go.Bar(x=cr5_df['session'], y=cr5_df['licks_sec']['mean'],\n",
    "                     error_y=dict(type='data', array=cr5_df['licks_sec']['sem'], thickness=2.5, width=10),\n",
    "                     marker_color=group_colors['cr_5'], marker_line_color='black', \n",
    "                     marker_line_width=2, name='Criteria+5', opacity=0.8))\n",
    "fig.update_layout(height=500, width=600, template='simple_white', legend_title_text='', yaxis_title='Licks/sec During Probe',\n",
    "                  xaxis_title='', font=dict(size=16))\n",
    "fig.update_xaxes(categoryorder='array', categoryarray=['A', 'B', 'C', 'D', 'AP'])\n",
    "fig.show()\n",
    "fig.write_image(pjoin(fig_path, 'licks_sec_probe.png'))"
   ]
  },
  {
   "cell_type": "code",
   "execution_count": null,
   "metadata": {},
   "outputs": [],
   "source": [
    "last.mixed_anova(dv='licks_sec', within='session', subject='mouse', between='group')"
   ]
  },
  {
   "cell_type": "code",
   "execution_count": null,
   "metadata": {},
   "outputs": [],
   "source": [
    "## Scatterplot of all days within a context probe accuracy vs probe length\n",
    "probe_df = probe_df[probe_df['probe_length'] != 0]\n",
    "session_list = ['A', 'B', 'C', 'D', 'AP']\n",
    "fig = pf.custom_graph_template(x_title='Probe Length (s)', y_title='', rows=1, columns=5, \n",
    "                               width=1500, height=500, titles=['A', 'B', 'C', 'D', 'AP'], shared_x=True, shared_y=True, font_size=17)\n",
    "for idx, session in enumerate(session_list):\n",
    "    sub_f = probe_df[(probe_df['session'] == session) & (probe_df['group'] == 'fixed')]\n",
    "    sub_c = probe_df[(probe_df['session'] == session) & (probe_df['group'] == 'criteria')]\n",
    "    sub_c5 = probe_df[(probe_df['session'] == session) & (probe_df['group'] == 'cr_5')]\n",
    "\n",
    "    ## Linear regression\n",
    "    lm_f = pg.linear_regression(X=sub_f['probe_length'], y=sub_f['percent_correct'], as_dataframe=False, remove_na=True)\n",
    "    lm_c = pg.linear_regression(X=sub_c['probe_length'], y=sub_c['percent_correct'], as_dataframe=False, remove_na=True)\n",
    "    lm_c5 = pg.linear_regression(X=sub_c5['probe_length'], y=sub_c5['percent_correct'], as_dataframe=False, remove_na=True)\n",
    "    lm_f_x = []\n",
    "    lm_c_x = []\n",
    "    lm_c5_x = []\n",
    "    for n in np.arange(len(lm_f['X'])):\n",
    "        lm_f_x.append(lm_f['X'][n][1])\n",
    "    for n in np.arange(len(lm_c['X'])):\n",
    "        lm_c_x.append(lm_c['X'][n][1])\n",
    "    for n in np.arange(len(lm_c5['X'])):\n",
    "        lm_c5_x.append(lm_c5['X'][n][1])\n",
    "\n",
    "    fig.add_trace(go.Scatter(x=sub_f['probe_length'], y=sub_f['percent_correct'], mode='markers',\n",
    "                             showlegend=False, name='Fixed', marker_line_width=1, legendgroup='Fixed',\n",
    "                             marker_color=group_colors['fixed']), row=1, col=idx+1)\n",
    "    fig.add_trace(go.Scatter(x=sub_c['probe_length'], y=sub_c['percent_correct'], mode='markers',\n",
    "                             showlegend=False, name='Criteria', marker_line_width=1, legendgroup='Criteria',\n",
    "                             marker_color=group_colors['criteria']), row=1, col=idx+1)\n",
    "    fig.add_trace(go.Scatter(x=sub_c5['probe_length'], y=sub_c5['percent_correct'], mode='markers',\n",
    "                             showlegend=False, name='Criteria+5', marker_line_width=1, legendgroup='Criteria+5',\n",
    "                             marker_color=group_colors['cr_5']), row=1, col=idx+1)\n",
    "    \n",
    "    fig.add_trace(go.Scatter(x=lm_f_x, y=lm_f['pred'], mode='lines', line_color=group_colors['fixed'], \n",
    "                             legendgroup='Fixed', showlegend=False), row=1, col=idx+1)\n",
    "    fig.add_trace(go.Scatter(x=lm_c_x, y=lm_c['pred'], mode='lines', line_color=group_colors['criteria'], \n",
    "                             legendgroup='Criteria', showlegend=False), row=1, col=idx+1)\n",
    "    fig.add_trace(go.Scatter(x=lm_c5_x, y=lm_c5['pred'], mode='lines', line_color=group_colors['cr_5'], \n",
    "                             legendgroup='Criteria+5', showlegend=False), row=1, col=idx+1)\n",
    "    # fig.add_annotation(x=73, y=92, text=f\"R<sup>2</sup> = {np.round(lm_f['r2'], decimals=3)}\", row=1, col=idx+1, showarrow=False)\n",
    "    # fig.add_annotation(x=73, y=85, text=f\"R<sup>2</sup> = {np.round(lm_c['r2'], decimals=3)}\", row=1, col=idx+1, showarrow=False)\n",
    "fig.update_yaxes(title='Probe Accuracy (%)', row=1, col=1)\n",
    "fig['data'][0]['showlegend'] = True\n",
    "fig['data'][1]['showlegend'] = True\n",
    "fig['data'][2]['showlegend'] = True\n",
    "fig.show()\n",
    "fig.write_image(pjoin(fig_path, 'probe_accuracy_vs_length.png'))"
   ]
  },
  {
   "cell_type": "code",
   "execution_count": null,
   "metadata": {},
   "outputs": [],
   "source": [
    "## Probe Accuracy vs Probe Length for last day in each context\n",
    "session_list = ['A', 'B', 'C', 'D', 'AP']\n",
    "fig = pf.custom_graph_template(x_title='Probe Length (s)', y_title='', rows=1, columns=5, \n",
    "                               width=1500, height=500, titles=['A', 'B', 'C', 'D', 'AP'], shared_x=True, shared_y=True, font_size=17)\n",
    "for idx, session in enumerate(session_list):\n",
    "    sub_f = last[(last['session'] == session) & (last['group'] == 'fixed')]\n",
    "    sub_c = last[(last['session'] == session) & (last['group'] == 'criteria')]\n",
    "    sub_c5 = last[(last['session'] == session) & (last['group'] == 'cr_5')]\n",
    "\n",
    "    ## Linear regression\n",
    "    lm_f = pg.linear_regression(X=sub_f['probe_length'], y=sub_f['percent_correct'], as_dataframe=False, remove_na=True)\n",
    "    lm_c = pg.linear_regression(X=sub_c['probe_length'], y=sub_c['percent_correct'], as_dataframe=False, remove_na=True)\n",
    "    lm_c5 = pg.linear_regression(X=sub_c5['probe_length'], y=sub_c5['percent_correct'], as_dataframe=False, remove_na=True)\n",
    "    lm_f_x = []\n",
    "    lm_c_x = []\n",
    "    lm_c5_x = []\n",
    "    for n in np.arange(len(lm_f['X'])):\n",
    "        lm_f_x.append(lm_f['X'][n][1])\n",
    "    for n in np.arange(len(lm_c['X'])):\n",
    "        lm_c_x.append(lm_c['X'][n][1])\n",
    "    for n in np.arange(len(lm_c5['X'])):\n",
    "        lm_c5_x.append(lm_c5['X'][n][1])\n",
    "\n",
    "    fig.add_trace(go.Scatter(x=sub_f['probe_length'], y=sub_f['percent_correct'], mode='markers',\n",
    "                             showlegend=False, name='Fixed', marker_line_width=1, legendgroup='Fixed',\n",
    "                             marker_color=group_colors['fixed']), row=1, col=idx+1)\n",
    "    fig.add_trace(go.Scatter(x=sub_c['probe_length'], y=sub_c['percent_correct'], mode='markers',\n",
    "                             showlegend=False, name='Criteria', marker_line_width=1, legendgroup='Criteria',\n",
    "                             marker_color=group_colors['criteria']), row=1, col=idx+1)\n",
    "    fig.add_trace(go.Scatter(x=sub_c5['probe_length'], y=sub_c5['percent_correct'], mode='markers',\n",
    "                             showlegend=False, name='Criteria+5', marker_line_width=1, legendgroup='Criteria+5',\n",
    "                             marker_color=group_colors['cr_5']), row=1, col=idx+1)\n",
    "    \n",
    "    fig.add_trace(go.Scatter(x=lm_f_x, y=lm_f['pred'], mode='lines', line_color=group_colors['fixed'], \n",
    "                             legendgroup='Fixed', showlegend=False), row=1, col=idx+1)\n",
    "    fig.add_trace(go.Scatter(x=lm_c_x, y=lm_c['pred'], mode='lines', line_color=group_colors['criteria'], \n",
    "                             legendgroup='Criteria', showlegend=False), row=1, col=idx+1)\n",
    "    fig.add_trace(go.Scatter(x=lm_c5_x, y=lm_c5['pred'], mode='lines', line_color=group_colors['cr_5'], \n",
    "                             legendgroup='Criteria+5', showlegend=False), row=1, col=idx+1)\n",
    "    # fig.add_annotation(x=73, y=92, text=f\"R<sup>2</sup> = {np.round(lm_f['r2'], decimals=3)}\", row=1, col=idx+1, showarrow=False)\n",
    "    # fig.add_annotation(x=73, y=85, text=f\"R<sup>2</sup> = {np.round(lm_c['r2'], decimals=3)}\", row=1, col=idx+1, showarrow=False)\n",
    "fig.update_yaxes(title='Probe Accuracy (%)', row=1, col=1)\n",
    "fig['data'][0]['showlegend'] = True\n",
    "fig['data'][1]['showlegend'] = True\n",
    "fig['data'][2]['showlegend'] = True\n",
    "fig.show()\n",
    "fig.write_image(pjoin(fig_path, 'probe_accuracy_vs_length_last_day.png'))"
   ]
  },
  {
   "cell_type": "code",
   "execution_count": null,
   "metadata": {},
   "outputs": [],
   "source": [
    "## Probe Accuracy vs Session Accuracy for the last day in each context\n",
    "session_list = ['A', 'B', 'C', 'D', 'AP']\n",
    "fig = pf.custom_graph_template(x_title='Probe Accuracy (%)', y_title='', rows=1, columns=5, \n",
    "                               width=1500, height=500, titles=['A', 'B', 'C', 'D', 'AP'], shared_x=True, shared_y=True, font_size=17)\n",
    "for idx, session in enumerate(session_list):\n",
    "    sub_f = last[(last['session'] == session) & (last['group'] == 'fixed')]\n",
    "    sub_c = last[(last['session'] == session) & (last['group'] == 'criteria')]\n",
    "    sub_c5 = last[(last['session'] == session) & (last['group'] == 'cr_5')]\n",
    "\n",
    "    ## Linear regression\n",
    "    lm_f = pg.linear_regression(X=sub_f['percent_correct'], y=sub_f['session_pc'], as_dataframe=False, remove_na=True)\n",
    "    lm_c = pg.linear_regression(X=sub_c['percent_correct'], y=sub_c['session_pc'], as_dataframe=False, remove_na=True)\n",
    "    lm_c5 = pg.linear_regression(X=sub_c5['percent_correct'], y=sub_c5['session_pc'], as_dataframe=False, remove_na=True)\n",
    "    lm_f_x = []\n",
    "    lm_c_x = []\n",
    "    lm_c5_x = []\n",
    "    for n in np.arange(len(lm_f['X'])):\n",
    "        lm_f_x.append(lm_f['X'][n][1])\n",
    "    for n in np.arange(len(lm_c['X'])):\n",
    "        lm_c_x.append(lm_c['X'][n][1])\n",
    "    for n in np.arange(len(lm_c5['X'])):\n",
    "        lm_c5_x.append(lm_c5['X'][n][1])\n",
    "\n",
    "    fig.add_trace(go.Scatter(x=sub_f['percent_correct'], y=sub_f['session_pc'], mode='markers',\n",
    "                             showlegend=False, name='Fixed', marker_line_width=1, legendgroup='Fixed',\n",
    "                             marker_color=group_colors['fixed']), row=1, col=idx+1)\n",
    "    fig.add_trace(go.Scatter(x=sub_c['percent_correct'], y=sub_c['session_pc'], mode='markers',\n",
    "                             showlegend=False, name='Criteria', marker_line_width=1, legendgroup='Criteria',\n",
    "                             marker_color=group_colors['criteria']), row=1, col=idx+1)\n",
    "    fig.add_trace(go.Scatter(x=sub_c5['percent_correct'], y=sub_c5['session_pc'], mode='markers',\n",
    "                             showlegend=False, name='Criteria+5', marker_line_width=1, legendgroup='Criteria+5',\n",
    "                             marker_color=group_colors['cr_5']), row=1, col=idx+1)\n",
    "    \n",
    "    fig.add_trace(go.Scatter(x=lm_f_x, y=lm_f['pred'], mode='lines', line_color=group_colors['fixed'], \n",
    "                             legendgroup='Fixed', showlegend=False), row=1, col=idx+1)\n",
    "    fig.add_trace(go.Scatter(x=lm_c_x, y=lm_c['pred'], mode='lines', line_color=group_colors['criteria'], \n",
    "                             legendgroup='Criteria', showlegend=False), row=1, col=idx+1)\n",
    "    fig.add_trace(go.Scatter(x=lm_c5_x, y=lm_c5['pred'], mode='lines', line_color=group_colors['cr_5'], \n",
    "                             legendgroup='Criteria+5', showlegend=False), row=1, col=idx+1)\n",
    "    # fig.add_annotation(x=73, y=92, text=f\"R<sup>2</sup> = {np.round(lm_f['r2'], decimals=3)}\", row=1, col=idx+1, showarrow=False)\n",
    "    # fig.add_annotation(x=73, y=85, text=f\"R<sup>2</sup> = {np.round(lm_c['r2'], decimals=3)}\", row=1, col=idx+1, showarrow=False)\n",
    "fig.update_yaxes(title='Session Accuracy (%)', row=1, col=1)\n",
    "fig['data'][0]['showlegend'] = True\n",
    "fig['data'][1]['showlegend'] = True\n",
    "fig['data'][2]['showlegend'] = True\n",
    "fig.show()\n",
    "fig.write_image(pjoin(fig_path, 'session_accuracy_vs_probe_accuracy.png'))"
   ]
  },
  {
   "cell_type": "code",
   "execution_count": 3,
   "metadata": {},
   "outputs": [
    {
     "name": "stderr",
     "output_type": "stream",
     "text": [
      "/media/caishuman/csstorage3/Austin/CircleTrack/CircleTrackAnalysis/MultiCon_Behavior/BehaviorCohort1/../../circletrack_behavior.py:1080: RuntimeWarning: invalid value encountered in scalar divide\n",
      "  percent_correct = ((count_licks['first_licks'][(count_licks['lick_port'] == port_one) | (count_licks['lick_port'] == port_two)].dropna().sum()) /\n",
      "/media/caishuman/csstorage3/Austin/CircleTrack/CircleTrackAnalysis/MultiCon_Behavior/BehaviorCohort1/../../circletrack_behavior.py:1080: RuntimeWarning: invalid value encountered in scalar divide\n",
      "  percent_correct = ((count_licks['first_licks'][(count_licks['lick_port'] == port_one) | (count_licks['lick_port'] == port_two)].dropna().sum()) /\n",
      "/media/caishuman/csstorage3/Austin/CircleTrack/CircleTrackAnalysis/MultiCon_Behavior/BehaviorCohort1/../../circletrack_behavior.py:1080: RuntimeWarning: invalid value encountered in scalar divide\n",
      "  percent_correct = ((count_licks['first_licks'][(count_licks['lick_port'] == port_one) | (count_licks['lick_port'] == port_two)].dropna().sum()) /\n",
      "/media/caishuman/csstorage3/Austin/CircleTrack/CircleTrackAnalysis/MultiCon_Behavior/BehaviorCohort1/../../circletrack_behavior.py:1080: RuntimeWarning: invalid value encountered in scalar divide\n",
      "  percent_correct = ((count_licks['first_licks'][(count_licks['lick_port'] == port_one) | (count_licks['lick_port'] == port_two)].dropna().sum()) /\n",
      "/media/caishuman/csstorage3/Austin/CircleTrack/CircleTrackAnalysis/MultiCon_Behavior/BehaviorCohort1/../../circletrack_behavior.py:1080: RuntimeWarning: invalid value encountered in scalar divide\n",
      "  percent_correct = ((count_licks['first_licks'][(count_licks['lick_port'] == port_one) | (count_licks['lick_port'] == port_two)].dropna().sum()) /\n",
      "/media/caishuman/csstorage3/Austin/CircleTrack/CircleTrackAnalysis/MultiCon_Behavior/BehaviorCohort1/../../circletrack_behavior.py:1080: RuntimeWarning: invalid value encountered in scalar divide\n",
      "  percent_correct = ((count_licks['first_licks'][(count_licks['lick_port'] == port_one) | (count_licks['lick_port'] == port_two)].dropna().sum()) /\n",
      "/media/caishuman/csstorage3/Austin/CircleTrack/CircleTrackAnalysis/MultiCon_Behavior/BehaviorCohort1/../../circletrack_behavior.py:1080: RuntimeWarning: invalid value encountered in scalar divide\n",
      "  percent_correct = ((count_licks['first_licks'][(count_licks['lick_port'] == port_one) | (count_licks['lick_port'] == port_two)].dropna().sum()) /\n",
      "/media/caishuman/csstorage3/Austin/CircleTrack/CircleTrackAnalysis/MultiCon_Behavior/BehaviorCohort1/../../circletrack_behavior.py:1080: RuntimeWarning: invalid value encountered in scalar divide\n",
      "  percent_correct = ((count_licks['first_licks'][(count_licks['lick_port'] == port_one) | (count_licks['lick_port'] == port_two)].dropna().sum()) /\n",
      "/media/caishuman/csstorage3/Austin/CircleTrack/CircleTrackAnalysis/MultiCon_Behavior/BehaviorCohort1/../../circletrack_behavior.py:1080: RuntimeWarning: invalid value encountered in scalar divide\n",
      "  percent_correct = ((count_licks['first_licks'][(count_licks['lick_port'] == port_one) | (count_licks['lick_port'] == port_two)].dropna().sum()) /\n",
      "/media/caishuman/csstorage3/Austin/CircleTrack/CircleTrackAnalysis/MultiCon_Behavior/BehaviorCohort1/../../circletrack_behavior.py:1080: RuntimeWarning: invalid value encountered in scalar divide\n",
      "  percent_correct = ((count_licks['first_licks'][(count_licks['lick_port'] == port_one) | (count_licks['lick_port'] == port_two)].dropna().sum()) /\n",
      "/media/caishuman/csstorage3/Austin/CircleTrack/CircleTrackAnalysis/MultiCon_Behavior/BehaviorCohort1/../../circletrack_behavior.py:1080: RuntimeWarning: invalid value encountered in scalar divide\n",
      "  percent_correct = ((count_licks['first_licks'][(count_licks['lick_port'] == port_one) | (count_licks['lick_port'] == port_two)].dropna().sum()) /\n",
      "/media/caishuman/csstorage3/Austin/CircleTrack/CircleTrackAnalysis/MultiCon_Behavior/BehaviorCohort1/../../circletrack_behavior.py:1080: RuntimeWarning: invalid value encountered in scalar divide\n",
      "  percent_correct = ((count_licks['first_licks'][(count_licks['lick_port'] == port_one) | (count_licks['lick_port'] == port_two)].dropna().sum()) /\n",
      "/media/caishuman/csstorage3/Austin/CircleTrack/CircleTrackAnalysis/MultiCon_Behavior/BehaviorCohort1/../../circletrack_behavior.py:1080: RuntimeWarning: invalid value encountered in scalar divide\n",
      "  percent_correct = ((count_licks['first_licks'][(count_licks['lick_port'] == port_one) | (count_licks['lick_port'] == port_two)].dropna().sum()) /\n",
      "/media/caishuman/csstorage3/Austin/CircleTrack/CircleTrackAnalysis/MultiCon_Behavior/BehaviorCohort1/../../circletrack_behavior.py:1080: RuntimeWarning: invalid value encountered in scalar divide\n",
      "  percent_correct = ((count_licks['first_licks'][(count_licks['lick_port'] == port_one) | (count_licks['lick_port'] == port_two)].dropna().sum()) /\n",
      "/media/caishuman/csstorage3/Austin/CircleTrack/CircleTrackAnalysis/MultiCon_Behavior/BehaviorCohort1/../../circletrack_behavior.py:1080: RuntimeWarning: invalid value encountered in scalar divide\n",
      "  percent_correct = ((count_licks['first_licks'][(count_licks['lick_port'] == port_one) | (count_licks['lick_port'] == port_two)].dropna().sum()) /\n",
      "/media/caishuman/csstorage3/Austin/CircleTrack/CircleTrackAnalysis/MultiCon_Behavior/BehaviorCohort1/../../circletrack_behavior.py:1080: RuntimeWarning: invalid value encountered in scalar divide\n",
      "  percent_correct = ((count_licks['first_licks'][(count_licks['lick_port'] == port_one) | (count_licks['lick_port'] == port_two)].dropna().sum()) /\n",
      "/media/caishuman/csstorage3/Austin/CircleTrack/CircleTrackAnalysis/MultiCon_Behavior/BehaviorCohort1/../../circletrack_behavior.py:1080: RuntimeWarning: invalid value encountered in scalar divide\n",
      "  percent_correct = ((count_licks['first_licks'][(count_licks['lick_port'] == port_one) | (count_licks['lick_port'] == port_two)].dropna().sum()) /\n",
      "/media/caishuman/csstorage3/Austin/CircleTrack/CircleTrackAnalysis/MultiCon_Behavior/BehaviorCohort1/../../circletrack_behavior.py:1080: RuntimeWarning: invalid value encountered in scalar divide\n",
      "  percent_correct = ((count_licks['first_licks'][(count_licks['lick_port'] == port_one) | (count_licks['lick_port'] == port_two)].dropna().sum()) /\n",
      "/media/caishuman/csstorage3/Austin/CircleTrack/CircleTrackAnalysis/MultiCon_Behavior/BehaviorCohort1/../../circletrack_behavior.py:1080: RuntimeWarning: invalid value encountered in scalar divide\n",
      "  percent_correct = ((count_licks['first_licks'][(count_licks['lick_port'] == port_one) | (count_licks['lick_port'] == port_two)].dropna().sum()) /\n",
      "/media/caishuman/csstorage3/Austin/CircleTrack/CircleTrackAnalysis/MultiCon_Behavior/BehaviorCohort1/../../circletrack_behavior.py:1080: RuntimeWarning: invalid value encountered in scalar divide\n",
      "  percent_correct = ((count_licks['first_licks'][(count_licks['lick_port'] == port_one) | (count_licks['lick_port'] == port_two)].dropna().sum()) /\n"
     ]
    }
   ],
   "source": [
    "## Number of rewards and percent correct\n",
    "result_dict = {'mouse': [], 'rewards': [], 'percent_correct': [], 'group': [], 'session': []}\n",
    "for mouse in fixed + criteria + cr_5:\n",
    "    mouse_path = pjoin(behav_path, mouse)\n",
    "    group = 'fixed' if mouse in fixed else 'criteria' if mouse in criteria else 'cr_5'\n",
    "    for session in os.listdir(mouse_path):\n",
    "        behav_data = pd.read_feather(pjoin(mouse_path, f'{session}'))\n",
    "        behav_data = behav_data[~behav_data['probe']]\n",
    "        reward_one, reward_two = np.unique(behav_data['reward_one'])[0], np.unique(behav_data['reward_two'])[0]\n",
    "        pc = ctb.lick_accuracy(behav_data, port_one=reward_one, port_two=reward_two, by_trials=False)\n",
    "        result_dict['mouse'].append(mouse)\n",
    "        result_dict['rewards'].append(behav_data[behav_data['water']].shape[0])\n",
    "        result_dict['percent_correct'].append(pc)\n",
    "        result_dict['group'].append(group)\n",
    "        result_dict['session'].append(np.unique(behav_data['session'])[0])\n",
    "rewards = pd.DataFrame(result_dict)\n",
    "last_rewards = pd.DataFrame()\n",
    "for mouse in fixed + criteria + cr_5:\n",
    "    mouse_data = rewards[rewards['mouse'] == mouse].reset_index(drop=True)\n",
    "    mouse_data = mouse_data[(mouse_data['session'] == 'A') | (mouse_data['session'] == 'B') | (mouse_data['session'] == 'C') | \n",
    "                            (mouse_data['session'] == 'D') | (mouse_data['session'] == 'AP')].reset_index(drop=True)\n",
    "    index_list = ctb.pick_context_day(mouse_data, day_index=-1, contexts=['A', 'B', 'C', 'D', 'AP'])\n",
    "    sub_data = mouse_data.loc[index_list, :]\n",
    "    last_rewards = pd.concat([last_rewards, sub_data])"
   ]
  },
  {
   "cell_type": "code",
   "execution_count": null,
   "metadata": {},
   "outputs": [],
   "source": [
    "## Plot rewards by session on last day\n",
    "reward_df = last_rewards.groupby(['group', 'session'], as_index=False).agg({'rewards': ['mean', 'sem']})\n",
    "pc_df = last_rewards.groupby(['group', 'session'], as_index=False).agg({'percent_correct': ['mean', 'sem']})\n",
    "rewards_fixed = reward_df[reward_df['group'] == 'fixed']\n",
    "rewards_criteria = reward_df[reward_df['group'] == 'criteria']\n",
    "rewards_cr5 = reward_df[reward_df['group'] == 'cr_5']\n",
    "rewards_cr5 = rewards_cr5[(mouse_data['session'] == 'A') | (mouse_data['session'] == 'B') | (mouse_data['session'] == 'C') | \n",
    "                          (mouse_data['session'] == 'D') | (mouse_data['session'] == 'AP')]\n",
    "fig = px.strip(last_rewards, x='session', y='rewards', color='group', hover_name='mouse',\n",
    "               color_discrete_sequence=[group_colors['fixed'], group_colors['criteria'], group_colors['cr_5']]).update_traces(showlegend=False, opacity=0.8,\n",
    "                                                                                                                              marker_line_width=1)\n",
    "fig.add_trace(go.Bar(x=rewards_fixed['session'], y=rewards_fixed['rewards']['mean'],\n",
    "                     error_y=dict(type='data', array=rewards_fixed['rewards']['sem'], thickness=2.5, width=10),\n",
    "                     marker_color=group_colors['fixed'], marker_line_color='black', \n",
    "                     marker_line_width=2, name='Fixed', opacity=0.8))\n",
    "fig.add_trace(go.Bar(x=rewards_criteria['session'], y=rewards_criteria['rewards']['mean'],\n",
    "                     error_y=dict(type='data', array=rewards_criteria['rewards']['sem'], thickness=2.5, width=10),\n",
    "                     marker_color=group_colors['criteria'], marker_line_color='black', \n",
    "                     marker_line_width=2, name='Criteria', opacity=0.8))\n",
    "fig.add_trace(go.Bar(x=rewards_cr5['session'], y=rewards_cr5['rewards']['mean'],\n",
    "                     error_y=dict(type='data', array=rewards_cr5['rewards']['sem'], thickness=2.5, width=10),\n",
    "                     marker_color=group_colors['cr_5'], marker_line_color='black', \n",
    "                     marker_line_width=2, name='Criteria+5', opacity=0.8))\n",
    "fig.update_layout(height=500, width=600, template='simple_white', legend_title_text='', yaxis_title='Total Rewards',\n",
    "                  xaxis_title='', font=dict(size=16))\n",
    "fig.show()\n",
    "fig.write_image(pjoin(fig_path, 'total_rewards.png'))"
   ]
  },
  {
   "cell_type": "code",
   "execution_count": null,
   "metadata": {},
   "outputs": [],
   "source": [
    "## Mixed ANOVA\n",
    "last_rewards.mixed_anova(dv='rewards', within='session', subject='mouse', between='group')"
   ]
  },
  {
   "cell_type": "code",
   "execution_count": 4,
   "metadata": {},
   "outputs": [],
   "source": [
    "## Looking at accuracy 4 days before criteria across mice, across sessions\n",
    "days_from_df = pd.DataFrame()\n",
    "for mouse in fixed + criteria + cr_5:\n",
    "    for session in ['A', 'B', 'C', 'D']:\n",
    "        subset_data = rewards[(rewards['mouse'] == mouse) & (rewards['session'] == session)]\n",
    "        days = list(reversed(np.arange(0, subset_data.shape[0])))\n",
    "        subset_data.insert(0, 'days_from', days)\n",
    "        days_from_df = pd.concat([days_from_df, subset_data])\n",
    "avg_days_from = days_from_df.groupby(['group', 'session', 'days_from'], as_index=False).agg({'percent_correct': ['mean', 'sem']})"
   ]
  },
  {
   "cell_type": "code",
   "execution_count": null,
   "metadata": {},
   "outputs": [],
   "source": [
    "days_of_interest = 8\n",
    "fig = pf.custom_graph_template(x_title='Days from Last', y_title='', rows=1, columns=4, titles=['A', 'B', 'C', 'D'], width=1000,\n",
    "                               shared_x=True, shared_y=True)\n",
    "for idx, session in enumerate(['A', 'B', 'C', 'D']):\n",
    "    plot_data = avg_days_from[(avg_days_from['session'] == session) & (avg_days_from['days_from'] <= days_of_interest)]\n",
    "    \n",
    "    for group in np.unique(plot_data['group']):\n",
    "        group_data = plot_data[plot_data['group'] == group]\n",
    "        if group == 'fixed':\n",
    "            name = 'Fixed' \n",
    "        elif group == 'criteria':\n",
    "            name = 'Criteria' \n",
    "        else:\n",
    "            name = 'Criteria+5'\n",
    "\n",
    "        fig.add_trace(go.Scatter(x=group_data['days_from'], y=group_data['percent_correct']['mean'], mode='lines+markers',\n",
    "                                 line_color=group_colors[group], legendgroup=group, showlegend=False, name=name,\n",
    "                                 error_y=dict(type='data', array=group_data['percent_correct']['sem'])), row=1, col=idx+1)\n",
    "fig.update_layout(xaxis=dict(autorange='reversed'))\n",
    "fig.update_yaxes(title='Lick Accuracy (%)', col=1)\n",
    "fig['data'][0]['showlegend'] = True\n",
    "fig['data'][1]['showlegend'] = True\n",
    "fig['data'][2]['showlegend'] = True\n",
    "fig.show()\n",
    "fig.write_image(pjoin(fig_path, 'days_from_last.png'))"
   ]
  },
  {
   "cell_type": "code",
   "execution_count": 9,
   "metadata": {},
   "outputs": [
    {
     "data": {
      "application/vnd.plotly.v1+json": {
       "config": {
        "plotlyServerURL": "https://plot.ly"
       },
       "data": [
        {
         "error_y": {
          "array": [
           1.2546994296545346,
           1.342314743441245,
           5.040601997991319,
           4.618756347936467,
           5.1865812785321275
          ],
          "type": "data"
         },
         "legendgroup": "cr_5",
         "line": {
          "color": "darkgrey"
         },
         "mode": "lines+markers",
         "name": "Criteria+5",
         "showlegend": true,
         "type": "scatter",
         "x": [
          0,
          1,
          2,
          3,
          4
         ],
         "xaxis": "x",
         "y": [
          82.09503484213973,
          68.73408803451913,
          55.18848677446201,
          44.23194170940908,
          41.13101919006761
         ],
         "yaxis": "y"
        },
        {
         "error_y": {
          "array": [
           1.3235350135064823,
           1.728126967275312,
           3.1902309075785187,
           4.214961339720044,
           6.473041789439444
          ],
          "type": "data"
         },
         "legendgroup": "criteria",
         "line": {
          "color": "darkorchid"
         },
         "mode": "lines+markers",
         "name": "Criteria",
         "showlegend": true,
         "type": "scatter",
         "x": [
          0,
          1,
          2,
          3,
          4
         ],
         "xaxis": "x",
         "y": [
          80.99387053869023,
          69.77117816970187,
          59.28962317137401,
          48.54681542676557,
          45.382190602487704
         ],
         "yaxis": "y"
        },
        {
         "error_y": {
          "array": [
           0.9100131448970435,
           4.39219299996058,
           3.277844842249315,
           3.4986430403443136,
           8.624441248062992
          ],
          "type": "data"
         },
         "legendgroup": "cr_5",
         "line": {
          "color": "darkgrey"
         },
         "mode": "lines+markers",
         "name": "Criteria+5",
         "showlegend": false,
         "type": "scatter",
         "x": [
          0,
          1,
          2,
          3,
          4
         ],
         "xaxis": "x2",
         "y": [
          82.89189236840437,
          66.19203484900193,
          62.63354323278574,
          54.24673932219005,
          46.860053446491634
         ],
         "yaxis": "y2"
        },
        {
         "error_y": {
          "array": [
           0.5709182087663967,
           4.111814422220758,
           3.850523402265913,
           4.761446068767856,
           6.444830284909727
          ],
          "type": "data"
         },
         "legendgroup": "criteria",
         "line": {
          "color": "darkorchid"
         },
         "mode": "lines+markers",
         "name": "Criteria",
         "showlegend": false,
         "type": "scatter",
         "x": [
          0,
          1,
          2,
          3,
          4
         ],
         "xaxis": "x2",
         "y": [
          78.98515190377627,
          65.55335927480387,
          64.55710002992613,
          58.22428697864384,
          57.862249889084765
         ],
         "yaxis": "y2"
        },
        {
         "error_y": {
          "array": [
           1.5797636922834684,
           4.3663985003016,
           5.970742114569733,
           11.022298123847138,
           13.055020319886076
          ],
          "type": "data"
         },
         "legendgroup": "cr_5",
         "line": {
          "color": "darkgrey"
         },
         "mode": "lines+markers",
         "name": "Criteria+5",
         "showlegend": false,
         "type": "scatter",
         "x": [
          0,
          1,
          2,
          3,
          4
         ],
         "xaxis": "x3",
         "y": [
          79.17592134846781,
          63.41482803995355,
          60.370161631706665,
          47.96587047646623,
          48.988526570048315
         ],
         "yaxis": "y3"
        },
        {
         "error_y": {
          "array": [
           1.8765536645946816,
           2.0882690855542574,
           4.277943741046054,
           5.5113235339479445,
           4.052406987129454
          ],
          "type": "data"
         },
         "legendgroup": "criteria",
         "line": {
          "color": "darkorchid"
         },
         "mode": "lines+markers",
         "name": "Criteria",
         "showlegend": false,
         "type": "scatter",
         "x": [
          0,
          1,
          2,
          3,
          4
         ],
         "xaxis": "x3",
         "y": [
          81.76771338241882,
          63.21110214284314,
          55.87885898913269,
          64.67789648959385,
          58.12148458000521
         ],
         "yaxis": "y3"
        },
        {
         "error_y": {
          "array": [
           2.0081354912461338,
           3.6190695794715855,
           4.938019590176064,
           6.929344689249595,
           10.106422763082564
          ],
          "type": "data"
         },
         "legendgroup": "cr_5",
         "line": {
          "color": "darkgrey"
         },
         "mode": "lines+markers",
         "name": "Criteria+5",
         "showlegend": false,
         "type": "scatter",
         "x": [
          0,
          1,
          2,
          3,
          4
         ],
         "xaxis": "x4",
         "y": [
          81.23165503681811,
          60.805242695016,
          57.35147868658591,
          60.41087643891571,
          48.30701363368143
         ],
         "yaxis": "y4"
        },
        {
         "error_y": {
          "array": [
           1.0969648003576058,
           2.375446346010013,
           2.9123088951022873,
           7.5696990607667205,
           3.3535855364923517
          ],
          "type": "data"
         },
         "legendgroup": "criteria",
         "line": {
          "color": "darkorchid"
         },
         "mode": "lines+markers",
         "name": "Criteria",
         "showlegend": false,
         "type": "scatter",
         "x": [
          0,
          1,
          2,
          3,
          4
         ],
         "xaxis": "x4",
         "y": [
          78.68373702917361,
          61.62769743220445,
          66.48965553245267,
          56.2954945344339,
          58.5259397585052
         ],
         "yaxis": "y4"
        }
       ],
       "layout": {
        "annotations": [
         {
          "font": {
           "size": 22
          },
          "showarrow": false,
          "text": "A",
          "x": 0.10625,
          "xanchor": "center",
          "xref": "paper",
          "y": 1,
          "yanchor": "bottom",
          "yref": "paper"
         },
         {
          "font": {
           "size": 22
          },
          "showarrow": false,
          "text": "B",
          "x": 0.36875,
          "xanchor": "center",
          "xref": "paper",
          "y": 1,
          "yanchor": "bottom",
          "yref": "paper"
         },
         {
          "font": {
           "size": 22
          },
          "showarrow": false,
          "text": "C",
          "x": 0.6312500000000001,
          "xanchor": "center",
          "xref": "paper",
          "y": 1,
          "yanchor": "bottom",
          "yref": "paper"
         },
         {
          "font": {
           "size": 22
          },
          "showarrow": false,
          "text": "D",
          "x": 0.89375,
          "xanchor": "center",
          "xref": "paper",
          "y": 1,
          "yanchor": "bottom",
          "yref": "paper"
         }
        ],
        "font": {
         "family": "Arial",
         "size": 22
        },
        "height": 500,
        "template": {
         "data": {
          "bar": [
           {
            "error_x": {
             "color": "rgb(36,36,36)"
            },
            "error_y": {
             "color": "rgb(36,36,36)"
            },
            "marker": {
             "line": {
              "color": "white",
              "width": 0.5
             },
             "pattern": {
              "fillmode": "overlay",
              "size": 10,
              "solidity": 0.2
             }
            },
            "type": "bar"
           }
          ],
          "barpolar": [
           {
            "marker": {
             "line": {
              "color": "white",
              "width": 0.5
             },
             "pattern": {
              "fillmode": "overlay",
              "size": 10,
              "solidity": 0.2
             }
            },
            "type": "barpolar"
           }
          ],
          "carpet": [
           {
            "aaxis": {
             "endlinecolor": "rgb(36,36,36)",
             "gridcolor": "white",
             "linecolor": "white",
             "minorgridcolor": "white",
             "startlinecolor": "rgb(36,36,36)"
            },
            "baxis": {
             "endlinecolor": "rgb(36,36,36)",
             "gridcolor": "white",
             "linecolor": "white",
             "minorgridcolor": "white",
             "startlinecolor": "rgb(36,36,36)"
            },
            "type": "carpet"
           }
          ],
          "choropleth": [
           {
            "colorbar": {
             "outlinewidth": 1,
             "tickcolor": "rgb(36,36,36)",
             "ticks": "outside"
            },
            "type": "choropleth"
           }
          ],
          "contour": [
           {
            "colorbar": {
             "outlinewidth": 1,
             "tickcolor": "rgb(36,36,36)",
             "ticks": "outside"
            },
            "colorscale": [
             [
              0,
              "#440154"
             ],
             [
              0.1111111111111111,
              "#482878"
             ],
             [
              0.2222222222222222,
              "#3e4989"
             ],
             [
              0.3333333333333333,
              "#31688e"
             ],
             [
              0.4444444444444444,
              "#26828e"
             ],
             [
              0.5555555555555556,
              "#1f9e89"
             ],
             [
              0.6666666666666666,
              "#35b779"
             ],
             [
              0.7777777777777778,
              "#6ece58"
             ],
             [
              0.8888888888888888,
              "#b5de2b"
             ],
             [
              1,
              "#fde725"
             ]
            ],
            "type": "contour"
           }
          ],
          "contourcarpet": [
           {
            "colorbar": {
             "outlinewidth": 1,
             "tickcolor": "rgb(36,36,36)",
             "ticks": "outside"
            },
            "type": "contourcarpet"
           }
          ],
          "heatmap": [
           {
            "colorbar": {
             "outlinewidth": 1,
             "tickcolor": "rgb(36,36,36)",
             "ticks": "outside"
            },
            "colorscale": [
             [
              0,
              "#440154"
             ],
             [
              0.1111111111111111,
              "#482878"
             ],
             [
              0.2222222222222222,
              "#3e4989"
             ],
             [
              0.3333333333333333,
              "#31688e"
             ],
             [
              0.4444444444444444,
              "#26828e"
             ],
             [
              0.5555555555555556,
              "#1f9e89"
             ],
             [
              0.6666666666666666,
              "#35b779"
             ],
             [
              0.7777777777777778,
              "#6ece58"
             ],
             [
              0.8888888888888888,
              "#b5de2b"
             ],
             [
              1,
              "#fde725"
             ]
            ],
            "type": "heatmap"
           }
          ],
          "heatmapgl": [
           {
            "colorbar": {
             "outlinewidth": 1,
             "tickcolor": "rgb(36,36,36)",
             "ticks": "outside"
            },
            "colorscale": [
             [
              0,
              "#440154"
             ],
             [
              0.1111111111111111,
              "#482878"
             ],
             [
              0.2222222222222222,
              "#3e4989"
             ],
             [
              0.3333333333333333,
              "#31688e"
             ],
             [
              0.4444444444444444,
              "#26828e"
             ],
             [
              0.5555555555555556,
              "#1f9e89"
             ],
             [
              0.6666666666666666,
              "#35b779"
             ],
             [
              0.7777777777777778,
              "#6ece58"
             ],
             [
              0.8888888888888888,
              "#b5de2b"
             ],
             [
              1,
              "#fde725"
             ]
            ],
            "type": "heatmapgl"
           }
          ],
          "histogram": [
           {
            "marker": {
             "line": {
              "color": "white",
              "width": 0.6
             }
            },
            "type": "histogram"
           }
          ],
          "histogram2d": [
           {
            "colorbar": {
             "outlinewidth": 1,
             "tickcolor": "rgb(36,36,36)",
             "ticks": "outside"
            },
            "colorscale": [
             [
              0,
              "#440154"
             ],
             [
              0.1111111111111111,
              "#482878"
             ],
             [
              0.2222222222222222,
              "#3e4989"
             ],
             [
              0.3333333333333333,
              "#31688e"
             ],
             [
              0.4444444444444444,
              "#26828e"
             ],
             [
              0.5555555555555556,
              "#1f9e89"
             ],
             [
              0.6666666666666666,
              "#35b779"
             ],
             [
              0.7777777777777778,
              "#6ece58"
             ],
             [
              0.8888888888888888,
              "#b5de2b"
             ],
             [
              1,
              "#fde725"
             ]
            ],
            "type": "histogram2d"
           }
          ],
          "histogram2dcontour": [
           {
            "colorbar": {
             "outlinewidth": 1,
             "tickcolor": "rgb(36,36,36)",
             "ticks": "outside"
            },
            "colorscale": [
             [
              0,
              "#440154"
             ],
             [
              0.1111111111111111,
              "#482878"
             ],
             [
              0.2222222222222222,
              "#3e4989"
             ],
             [
              0.3333333333333333,
              "#31688e"
             ],
             [
              0.4444444444444444,
              "#26828e"
             ],
             [
              0.5555555555555556,
              "#1f9e89"
             ],
             [
              0.6666666666666666,
              "#35b779"
             ],
             [
              0.7777777777777778,
              "#6ece58"
             ],
             [
              0.8888888888888888,
              "#b5de2b"
             ],
             [
              1,
              "#fde725"
             ]
            ],
            "type": "histogram2dcontour"
           }
          ],
          "mesh3d": [
           {
            "colorbar": {
             "outlinewidth": 1,
             "tickcolor": "rgb(36,36,36)",
             "ticks": "outside"
            },
            "type": "mesh3d"
           }
          ],
          "parcoords": [
           {
            "line": {
             "colorbar": {
              "outlinewidth": 1,
              "tickcolor": "rgb(36,36,36)",
              "ticks": "outside"
             }
            },
            "type": "parcoords"
           }
          ],
          "pie": [
           {
            "automargin": true,
            "type": "pie"
           }
          ],
          "scatter": [
           {
            "fillpattern": {
             "fillmode": "overlay",
             "size": 10,
             "solidity": 0.2
            },
            "type": "scatter"
           }
          ],
          "scatter3d": [
           {
            "line": {
             "colorbar": {
              "outlinewidth": 1,
              "tickcolor": "rgb(36,36,36)",
              "ticks": "outside"
             }
            },
            "marker": {
             "colorbar": {
              "outlinewidth": 1,
              "tickcolor": "rgb(36,36,36)",
              "ticks": "outside"
             }
            },
            "type": "scatter3d"
           }
          ],
          "scattercarpet": [
           {
            "marker": {
             "colorbar": {
              "outlinewidth": 1,
              "tickcolor": "rgb(36,36,36)",
              "ticks": "outside"
             }
            },
            "type": "scattercarpet"
           }
          ],
          "scattergeo": [
           {
            "marker": {
             "colorbar": {
              "outlinewidth": 1,
              "tickcolor": "rgb(36,36,36)",
              "ticks": "outside"
             }
            },
            "type": "scattergeo"
           }
          ],
          "scattergl": [
           {
            "marker": {
             "colorbar": {
              "outlinewidth": 1,
              "tickcolor": "rgb(36,36,36)",
              "ticks": "outside"
             }
            },
            "type": "scattergl"
           }
          ],
          "scattermapbox": [
           {
            "marker": {
             "colorbar": {
              "outlinewidth": 1,
              "tickcolor": "rgb(36,36,36)",
              "ticks": "outside"
             }
            },
            "type": "scattermapbox"
           }
          ],
          "scatterpolar": [
           {
            "marker": {
             "colorbar": {
              "outlinewidth": 1,
              "tickcolor": "rgb(36,36,36)",
              "ticks": "outside"
             }
            },
            "type": "scatterpolar"
           }
          ],
          "scatterpolargl": [
           {
            "marker": {
             "colorbar": {
              "outlinewidth": 1,
              "tickcolor": "rgb(36,36,36)",
              "ticks": "outside"
             }
            },
            "type": "scatterpolargl"
           }
          ],
          "scatterternary": [
           {
            "marker": {
             "colorbar": {
              "outlinewidth": 1,
              "tickcolor": "rgb(36,36,36)",
              "ticks": "outside"
             }
            },
            "type": "scatterternary"
           }
          ],
          "surface": [
           {
            "colorbar": {
             "outlinewidth": 1,
             "tickcolor": "rgb(36,36,36)",
             "ticks": "outside"
            },
            "colorscale": [
             [
              0,
              "#440154"
             ],
             [
              0.1111111111111111,
              "#482878"
             ],
             [
              0.2222222222222222,
              "#3e4989"
             ],
             [
              0.3333333333333333,
              "#31688e"
             ],
             [
              0.4444444444444444,
              "#26828e"
             ],
             [
              0.5555555555555556,
              "#1f9e89"
             ],
             [
              0.6666666666666666,
              "#35b779"
             ],
             [
              0.7777777777777778,
              "#6ece58"
             ],
             [
              0.8888888888888888,
              "#b5de2b"
             ],
             [
              1,
              "#fde725"
             ]
            ],
            "type": "surface"
           }
          ],
          "table": [
           {
            "cells": {
             "fill": {
              "color": "rgb(237,237,237)"
             },
             "line": {
              "color": "white"
             }
            },
            "header": {
             "fill": {
              "color": "rgb(217,217,217)"
             },
             "line": {
              "color": "white"
             }
            },
            "type": "table"
           }
          ]
         },
         "layout": {
          "annotationdefaults": {
           "arrowhead": 0,
           "arrowwidth": 1
          },
          "autotypenumbers": "strict",
          "coloraxis": {
           "colorbar": {
            "outlinewidth": 1,
            "tickcolor": "rgb(36,36,36)",
            "ticks": "outside"
           }
          },
          "colorscale": {
           "diverging": [
            [
             0,
             "rgb(103,0,31)"
            ],
            [
             0.1,
             "rgb(178,24,43)"
            ],
            [
             0.2,
             "rgb(214,96,77)"
            ],
            [
             0.3,
             "rgb(244,165,130)"
            ],
            [
             0.4,
             "rgb(253,219,199)"
            ],
            [
             0.5,
             "rgb(247,247,247)"
            ],
            [
             0.6,
             "rgb(209,229,240)"
            ],
            [
             0.7,
             "rgb(146,197,222)"
            ],
            [
             0.8,
             "rgb(67,147,195)"
            ],
            [
             0.9,
             "rgb(33,102,172)"
            ],
            [
             1,
             "rgb(5,48,97)"
            ]
           ],
           "sequential": [
            [
             0,
             "#440154"
            ],
            [
             0.1111111111111111,
             "#482878"
            ],
            [
             0.2222222222222222,
             "#3e4989"
            ],
            [
             0.3333333333333333,
             "#31688e"
            ],
            [
             0.4444444444444444,
             "#26828e"
            ],
            [
             0.5555555555555556,
             "#1f9e89"
            ],
            [
             0.6666666666666666,
             "#35b779"
            ],
            [
             0.7777777777777778,
             "#6ece58"
            ],
            [
             0.8888888888888888,
             "#b5de2b"
            ],
            [
             1,
             "#fde725"
            ]
           ],
           "sequentialminus": [
            [
             0,
             "#440154"
            ],
            [
             0.1111111111111111,
             "#482878"
            ],
            [
             0.2222222222222222,
             "#3e4989"
            ],
            [
             0.3333333333333333,
             "#31688e"
            ],
            [
             0.4444444444444444,
             "#26828e"
            ],
            [
             0.5555555555555556,
             "#1f9e89"
            ],
            [
             0.6666666666666666,
             "#35b779"
            ],
            [
             0.7777777777777778,
             "#6ece58"
            ],
            [
             0.8888888888888888,
             "#b5de2b"
            ],
            [
             1,
             "#fde725"
            ]
           ]
          },
          "colorway": [
           "#1F77B4",
           "#FF7F0E",
           "#2CA02C",
           "#D62728",
           "#9467BD",
           "#8C564B",
           "#E377C2",
           "#7F7F7F",
           "#BCBD22",
           "#17BECF"
          ],
          "font": {
           "color": "rgb(36,36,36)"
          },
          "geo": {
           "bgcolor": "white",
           "lakecolor": "white",
           "landcolor": "white",
           "showlakes": true,
           "showland": true,
           "subunitcolor": "white"
          },
          "hoverlabel": {
           "align": "left"
          },
          "hovermode": "closest",
          "mapbox": {
           "style": "light"
          },
          "paper_bgcolor": "white",
          "plot_bgcolor": "white",
          "polar": {
           "angularaxis": {
            "gridcolor": "rgb(232,232,232)",
            "linecolor": "rgb(36,36,36)",
            "showgrid": false,
            "showline": true,
            "ticks": "outside"
           },
           "bgcolor": "white",
           "radialaxis": {
            "gridcolor": "rgb(232,232,232)",
            "linecolor": "rgb(36,36,36)",
            "showgrid": false,
            "showline": true,
            "ticks": "outside"
           }
          },
          "scene": {
           "xaxis": {
            "backgroundcolor": "white",
            "gridcolor": "rgb(232,232,232)",
            "gridwidth": 2,
            "linecolor": "rgb(36,36,36)",
            "showbackground": true,
            "showgrid": false,
            "showline": true,
            "ticks": "outside",
            "zeroline": false,
            "zerolinecolor": "rgb(36,36,36)"
           },
           "yaxis": {
            "backgroundcolor": "white",
            "gridcolor": "rgb(232,232,232)",
            "gridwidth": 2,
            "linecolor": "rgb(36,36,36)",
            "showbackground": true,
            "showgrid": false,
            "showline": true,
            "ticks": "outside",
            "zeroline": false,
            "zerolinecolor": "rgb(36,36,36)"
           },
           "zaxis": {
            "backgroundcolor": "white",
            "gridcolor": "rgb(232,232,232)",
            "gridwidth": 2,
            "linecolor": "rgb(36,36,36)",
            "showbackground": true,
            "showgrid": false,
            "showline": true,
            "ticks": "outside",
            "zeroline": false,
            "zerolinecolor": "rgb(36,36,36)"
           }
          },
          "shapedefaults": {
           "fillcolor": "black",
           "line": {
            "width": 0
           },
           "opacity": 0.3
          },
          "ternary": {
           "aaxis": {
            "gridcolor": "rgb(232,232,232)",
            "linecolor": "rgb(36,36,36)",
            "showgrid": false,
            "showline": true,
            "ticks": "outside"
           },
           "baxis": {
            "gridcolor": "rgb(232,232,232)",
            "linecolor": "rgb(36,36,36)",
            "showgrid": false,
            "showline": true,
            "ticks": "outside"
           },
           "bgcolor": "white",
           "caxis": {
            "gridcolor": "rgb(232,232,232)",
            "linecolor": "rgb(36,36,36)",
            "showgrid": false,
            "showline": true,
            "ticks": "outside"
           }
          },
          "title": {
           "x": 0.05
          },
          "xaxis": {
           "automargin": true,
           "gridcolor": "rgb(232,232,232)",
           "linecolor": "rgb(36,36,36)",
           "showgrid": false,
           "showline": true,
           "ticks": "outside",
           "title": {
            "standoff": 15
           },
           "zeroline": false,
           "zerolinecolor": "rgb(36,36,36)"
          },
          "yaxis": {
           "automargin": true,
           "gridcolor": "rgb(232,232,232)",
           "linecolor": "rgb(36,36,36)",
           "showgrid": false,
           "showline": true,
           "ticks": "outside",
           "title": {
            "standoff": 15
           },
           "zeroline": false,
           "zerolinecolor": "rgb(36,36,36)"
          }
         }
        },
        "title": {
         "x": 0.5,
         "xanchor": "center",
         "y": 0.9,
         "yanchor": "top"
        },
        "width": 1000,
        "xaxis": {
         "anchor": "y",
         "autorange": "reversed",
         "domain": [
          0,
          0.2125
         ],
         "linewidth": 1.5,
         "matches": "x",
         "title": {
          "text": "Days from Last"
         }
        },
        "xaxis2": {
         "anchor": "y2",
         "domain": [
          0.2625,
          0.475
         ],
         "linewidth": 1.5,
         "matches": "x",
         "title": {
          "text": "Days from Last"
         }
        },
        "xaxis3": {
         "anchor": "y3",
         "domain": [
          0.525,
          0.7375
         ],
         "linewidth": 1.5,
         "matches": "x",
         "title": {
          "text": "Days from Last"
         }
        },
        "xaxis4": {
         "anchor": "y4",
         "domain": [
          0.7875,
          1
         ],
         "linewidth": 1.5,
         "matches": "x",
         "title": {
          "text": "Days from Last"
         }
        },
        "yaxis": {
         "anchor": "x",
         "domain": [
          0,
          1
         ],
         "linewidth": 1.5,
         "matches": "y",
         "title": {
          "text": "Lick Accuracy (%)"
         }
        },
        "yaxis2": {
         "anchor": "x2",
         "domain": [
          0,
          1
         ],
         "linewidth": 1.5,
         "matches": "y",
         "showticklabels": false,
         "title": {
          "text": ""
         }
        },
        "yaxis3": {
         "anchor": "x3",
         "domain": [
          0,
          1
         ],
         "linewidth": 1.5,
         "matches": "y",
         "showticklabels": false,
         "title": {
          "text": ""
         }
        },
        "yaxis4": {
         "anchor": "x4",
         "domain": [
          0,
          1
         ],
         "linewidth": 1.5,
         "matches": "y",
         "showticklabels": false,
         "title": {
          "text": ""
         }
        }
       }
      },
      "text/html": [
       "<div>                            <div id=\"696e7d3d-587c-4bec-bb87-33438374af16\" class=\"plotly-graph-div\" style=\"height:500px; width:1000px;\"></div>            <script type=\"text/javascript\">                require([\"plotly\"], function(Plotly) {                    window.PLOTLYENV=window.PLOTLYENV || {};                                    if (document.getElementById(\"696e7d3d-587c-4bec-bb87-33438374af16\")) {                    Plotly.newPlot(                        \"696e7d3d-587c-4bec-bb87-33438374af16\",                        [{\"error_y\":{\"array\":[1.2546994296545346,1.342314743441245,5.040601997991319,4.618756347936467,5.1865812785321275],\"type\":\"data\"},\"legendgroup\":\"cr_5\",\"line\":{\"color\":\"darkgrey\"},\"mode\":\"lines+markers\",\"name\":\"Criteria+5\",\"showlegend\":true,\"x\":[0,1,2,3,4],\"y\":[82.09503484213973,68.73408803451913,55.18848677446201,44.23194170940908,41.13101919006761],\"type\":\"scatter\",\"xaxis\":\"x\",\"yaxis\":\"y\"},{\"error_y\":{\"array\":[1.3235350135064823,1.728126967275312,3.1902309075785187,4.214961339720044,6.473041789439444],\"type\":\"data\"},\"legendgroup\":\"criteria\",\"line\":{\"color\":\"darkorchid\"},\"mode\":\"lines+markers\",\"name\":\"Criteria\",\"showlegend\":true,\"x\":[0,1,2,3,4],\"y\":[80.99387053869023,69.77117816970187,59.28962317137401,48.54681542676557,45.382190602487704],\"type\":\"scatter\",\"xaxis\":\"x\",\"yaxis\":\"y\"},{\"error_y\":{\"array\":[0.9100131448970435,4.39219299996058,3.277844842249315,3.4986430403443136,8.624441248062992],\"type\":\"data\"},\"legendgroup\":\"cr_5\",\"line\":{\"color\":\"darkgrey\"},\"mode\":\"lines+markers\",\"name\":\"Criteria+5\",\"showlegend\":false,\"x\":[0,1,2,3,4],\"y\":[82.89189236840437,66.19203484900193,62.63354323278574,54.24673932219005,46.860053446491634],\"type\":\"scatter\",\"xaxis\":\"x2\",\"yaxis\":\"y2\"},{\"error_y\":{\"array\":[0.5709182087663967,4.111814422220758,3.850523402265913,4.761446068767856,6.444830284909727],\"type\":\"data\"},\"legendgroup\":\"criteria\",\"line\":{\"color\":\"darkorchid\"},\"mode\":\"lines+markers\",\"name\":\"Criteria\",\"showlegend\":false,\"x\":[0,1,2,3,4],\"y\":[78.98515190377627,65.55335927480387,64.55710002992613,58.22428697864384,57.862249889084765],\"type\":\"scatter\",\"xaxis\":\"x2\",\"yaxis\":\"y2\"},{\"error_y\":{\"array\":[1.5797636922834684,4.3663985003016,5.970742114569733,11.022298123847138,13.055020319886076],\"type\":\"data\"},\"legendgroup\":\"cr_5\",\"line\":{\"color\":\"darkgrey\"},\"mode\":\"lines+markers\",\"name\":\"Criteria+5\",\"showlegend\":false,\"x\":[0,1,2,3,4],\"y\":[79.17592134846781,63.41482803995355,60.370161631706665,47.96587047646623,48.988526570048315],\"type\":\"scatter\",\"xaxis\":\"x3\",\"yaxis\":\"y3\"},{\"error_y\":{\"array\":[1.8765536645946816,2.0882690855542574,4.277943741046054,5.5113235339479445,4.052406987129454],\"type\":\"data\"},\"legendgroup\":\"criteria\",\"line\":{\"color\":\"darkorchid\"},\"mode\":\"lines+markers\",\"name\":\"Criteria\",\"showlegend\":false,\"x\":[0,1,2,3,4],\"y\":[81.76771338241882,63.21110214284314,55.87885898913269,64.67789648959385,58.12148458000521],\"type\":\"scatter\",\"xaxis\":\"x3\",\"yaxis\":\"y3\"},{\"error_y\":{\"array\":[2.0081354912461338,3.6190695794715855,4.938019590176064,6.929344689249595,10.106422763082564],\"type\":\"data\"},\"legendgroup\":\"cr_5\",\"line\":{\"color\":\"darkgrey\"},\"mode\":\"lines+markers\",\"name\":\"Criteria+5\",\"showlegend\":false,\"x\":[0,1,2,3,4],\"y\":[81.23165503681811,60.805242695016,57.35147868658591,60.41087643891571,48.30701363368143],\"type\":\"scatter\",\"xaxis\":\"x4\",\"yaxis\":\"y4\"},{\"error_y\":{\"array\":[1.0969648003576058,2.375446346010013,2.9123088951022873,7.5696990607667205,3.3535855364923517],\"type\":\"data\"},\"legendgroup\":\"criteria\",\"line\":{\"color\":\"darkorchid\"},\"mode\":\"lines+markers\",\"name\":\"Criteria\",\"showlegend\":false,\"x\":[0,1,2,3,4],\"y\":[78.68373702917361,61.62769743220445,66.48965553245267,56.2954945344339,58.5259397585052],\"type\":\"scatter\",\"xaxis\":\"x4\",\"yaxis\":\"y4\"}],                        {\"template\":{\"data\":{\"barpolar\":[{\"marker\":{\"line\":{\"color\":\"white\",\"width\":0.5},\"pattern\":{\"fillmode\":\"overlay\",\"size\":10,\"solidity\":0.2}},\"type\":\"barpolar\"}],\"bar\":[{\"error_x\":{\"color\":\"rgb(36,36,36)\"},\"error_y\":{\"color\":\"rgb(36,36,36)\"},\"marker\":{\"line\":{\"color\":\"white\",\"width\":0.5},\"pattern\":{\"fillmode\":\"overlay\",\"size\":10,\"solidity\":0.2}},\"type\":\"bar\"}],\"carpet\":[{\"aaxis\":{\"endlinecolor\":\"rgb(36,36,36)\",\"gridcolor\":\"white\",\"linecolor\":\"white\",\"minorgridcolor\":\"white\",\"startlinecolor\":\"rgb(36,36,36)\"},\"baxis\":{\"endlinecolor\":\"rgb(36,36,36)\",\"gridcolor\":\"white\",\"linecolor\":\"white\",\"minorgridcolor\":\"white\",\"startlinecolor\":\"rgb(36,36,36)\"},\"type\":\"carpet\"}],\"choropleth\":[{\"colorbar\":{\"outlinewidth\":1,\"tickcolor\":\"rgb(36,36,36)\",\"ticks\":\"outside\"},\"type\":\"choropleth\"}],\"contourcarpet\":[{\"colorbar\":{\"outlinewidth\":1,\"tickcolor\":\"rgb(36,36,36)\",\"ticks\":\"outside\"},\"type\":\"contourcarpet\"}],\"contour\":[{\"colorbar\":{\"outlinewidth\":1,\"tickcolor\":\"rgb(36,36,36)\",\"ticks\":\"outside\"},\"colorscale\":[[0.0,\"#440154\"],[0.1111111111111111,\"#482878\"],[0.2222222222222222,\"#3e4989\"],[0.3333333333333333,\"#31688e\"],[0.4444444444444444,\"#26828e\"],[0.5555555555555556,\"#1f9e89\"],[0.6666666666666666,\"#35b779\"],[0.7777777777777778,\"#6ece58\"],[0.8888888888888888,\"#b5de2b\"],[1.0,\"#fde725\"]],\"type\":\"contour\"}],\"heatmapgl\":[{\"colorbar\":{\"outlinewidth\":1,\"tickcolor\":\"rgb(36,36,36)\",\"ticks\":\"outside\"},\"colorscale\":[[0.0,\"#440154\"],[0.1111111111111111,\"#482878\"],[0.2222222222222222,\"#3e4989\"],[0.3333333333333333,\"#31688e\"],[0.4444444444444444,\"#26828e\"],[0.5555555555555556,\"#1f9e89\"],[0.6666666666666666,\"#35b779\"],[0.7777777777777778,\"#6ece58\"],[0.8888888888888888,\"#b5de2b\"],[1.0,\"#fde725\"]],\"type\":\"heatmapgl\"}],\"heatmap\":[{\"colorbar\":{\"outlinewidth\":1,\"tickcolor\":\"rgb(36,36,36)\",\"ticks\":\"outside\"},\"colorscale\":[[0.0,\"#440154\"],[0.1111111111111111,\"#482878\"],[0.2222222222222222,\"#3e4989\"],[0.3333333333333333,\"#31688e\"],[0.4444444444444444,\"#26828e\"],[0.5555555555555556,\"#1f9e89\"],[0.6666666666666666,\"#35b779\"],[0.7777777777777778,\"#6ece58\"],[0.8888888888888888,\"#b5de2b\"],[1.0,\"#fde725\"]],\"type\":\"heatmap\"}],\"histogram2dcontour\":[{\"colorbar\":{\"outlinewidth\":1,\"tickcolor\":\"rgb(36,36,36)\",\"ticks\":\"outside\"},\"colorscale\":[[0.0,\"#440154\"],[0.1111111111111111,\"#482878\"],[0.2222222222222222,\"#3e4989\"],[0.3333333333333333,\"#31688e\"],[0.4444444444444444,\"#26828e\"],[0.5555555555555556,\"#1f9e89\"],[0.6666666666666666,\"#35b779\"],[0.7777777777777778,\"#6ece58\"],[0.8888888888888888,\"#b5de2b\"],[1.0,\"#fde725\"]],\"type\":\"histogram2dcontour\"}],\"histogram2d\":[{\"colorbar\":{\"outlinewidth\":1,\"tickcolor\":\"rgb(36,36,36)\",\"ticks\":\"outside\"},\"colorscale\":[[0.0,\"#440154\"],[0.1111111111111111,\"#482878\"],[0.2222222222222222,\"#3e4989\"],[0.3333333333333333,\"#31688e\"],[0.4444444444444444,\"#26828e\"],[0.5555555555555556,\"#1f9e89\"],[0.6666666666666666,\"#35b779\"],[0.7777777777777778,\"#6ece58\"],[0.8888888888888888,\"#b5de2b\"],[1.0,\"#fde725\"]],\"type\":\"histogram2d\"}],\"histogram\":[{\"marker\":{\"line\":{\"color\":\"white\",\"width\":0.6}},\"type\":\"histogram\"}],\"mesh3d\":[{\"colorbar\":{\"outlinewidth\":1,\"tickcolor\":\"rgb(36,36,36)\",\"ticks\":\"outside\"},\"type\":\"mesh3d\"}],\"parcoords\":[{\"line\":{\"colorbar\":{\"outlinewidth\":1,\"tickcolor\":\"rgb(36,36,36)\",\"ticks\":\"outside\"}},\"type\":\"parcoords\"}],\"pie\":[{\"automargin\":true,\"type\":\"pie\"}],\"scatter3d\":[{\"line\":{\"colorbar\":{\"outlinewidth\":1,\"tickcolor\":\"rgb(36,36,36)\",\"ticks\":\"outside\"}},\"marker\":{\"colorbar\":{\"outlinewidth\":1,\"tickcolor\":\"rgb(36,36,36)\",\"ticks\":\"outside\"}},\"type\":\"scatter3d\"}],\"scattercarpet\":[{\"marker\":{\"colorbar\":{\"outlinewidth\":1,\"tickcolor\":\"rgb(36,36,36)\",\"ticks\":\"outside\"}},\"type\":\"scattercarpet\"}],\"scattergeo\":[{\"marker\":{\"colorbar\":{\"outlinewidth\":1,\"tickcolor\":\"rgb(36,36,36)\",\"ticks\":\"outside\"}},\"type\":\"scattergeo\"}],\"scattergl\":[{\"marker\":{\"colorbar\":{\"outlinewidth\":1,\"tickcolor\":\"rgb(36,36,36)\",\"ticks\":\"outside\"}},\"type\":\"scattergl\"}],\"scattermapbox\":[{\"marker\":{\"colorbar\":{\"outlinewidth\":1,\"tickcolor\":\"rgb(36,36,36)\",\"ticks\":\"outside\"}},\"type\":\"scattermapbox\"}],\"scatterpolargl\":[{\"marker\":{\"colorbar\":{\"outlinewidth\":1,\"tickcolor\":\"rgb(36,36,36)\",\"ticks\":\"outside\"}},\"type\":\"scatterpolargl\"}],\"scatterpolar\":[{\"marker\":{\"colorbar\":{\"outlinewidth\":1,\"tickcolor\":\"rgb(36,36,36)\",\"ticks\":\"outside\"}},\"type\":\"scatterpolar\"}],\"scatter\":[{\"fillpattern\":{\"fillmode\":\"overlay\",\"size\":10,\"solidity\":0.2},\"type\":\"scatter\"}],\"scatterternary\":[{\"marker\":{\"colorbar\":{\"outlinewidth\":1,\"tickcolor\":\"rgb(36,36,36)\",\"ticks\":\"outside\"}},\"type\":\"scatterternary\"}],\"surface\":[{\"colorbar\":{\"outlinewidth\":1,\"tickcolor\":\"rgb(36,36,36)\",\"ticks\":\"outside\"},\"colorscale\":[[0.0,\"#440154\"],[0.1111111111111111,\"#482878\"],[0.2222222222222222,\"#3e4989\"],[0.3333333333333333,\"#31688e\"],[0.4444444444444444,\"#26828e\"],[0.5555555555555556,\"#1f9e89\"],[0.6666666666666666,\"#35b779\"],[0.7777777777777778,\"#6ece58\"],[0.8888888888888888,\"#b5de2b\"],[1.0,\"#fde725\"]],\"type\":\"surface\"}],\"table\":[{\"cells\":{\"fill\":{\"color\":\"rgb(237,237,237)\"},\"line\":{\"color\":\"white\"}},\"header\":{\"fill\":{\"color\":\"rgb(217,217,217)\"},\"line\":{\"color\":\"white\"}},\"type\":\"table\"}]},\"layout\":{\"annotationdefaults\":{\"arrowhead\":0,\"arrowwidth\":1},\"autotypenumbers\":\"strict\",\"coloraxis\":{\"colorbar\":{\"outlinewidth\":1,\"tickcolor\":\"rgb(36,36,36)\",\"ticks\":\"outside\"}},\"colorscale\":{\"diverging\":[[0.0,\"rgb(103,0,31)\"],[0.1,\"rgb(178,24,43)\"],[0.2,\"rgb(214,96,77)\"],[0.3,\"rgb(244,165,130)\"],[0.4,\"rgb(253,219,199)\"],[0.5,\"rgb(247,247,247)\"],[0.6,\"rgb(209,229,240)\"],[0.7,\"rgb(146,197,222)\"],[0.8,\"rgb(67,147,195)\"],[0.9,\"rgb(33,102,172)\"],[1.0,\"rgb(5,48,97)\"]],\"sequential\":[[0.0,\"#440154\"],[0.1111111111111111,\"#482878\"],[0.2222222222222222,\"#3e4989\"],[0.3333333333333333,\"#31688e\"],[0.4444444444444444,\"#26828e\"],[0.5555555555555556,\"#1f9e89\"],[0.6666666666666666,\"#35b779\"],[0.7777777777777778,\"#6ece58\"],[0.8888888888888888,\"#b5de2b\"],[1.0,\"#fde725\"]],\"sequentialminus\":[[0.0,\"#440154\"],[0.1111111111111111,\"#482878\"],[0.2222222222222222,\"#3e4989\"],[0.3333333333333333,\"#31688e\"],[0.4444444444444444,\"#26828e\"],[0.5555555555555556,\"#1f9e89\"],[0.6666666666666666,\"#35b779\"],[0.7777777777777778,\"#6ece58\"],[0.8888888888888888,\"#b5de2b\"],[1.0,\"#fde725\"]]},\"colorway\":[\"#1F77B4\",\"#FF7F0E\",\"#2CA02C\",\"#D62728\",\"#9467BD\",\"#8C564B\",\"#E377C2\",\"#7F7F7F\",\"#BCBD22\",\"#17BECF\"],\"font\":{\"color\":\"rgb(36,36,36)\"},\"geo\":{\"bgcolor\":\"white\",\"lakecolor\":\"white\",\"landcolor\":\"white\",\"showlakes\":true,\"showland\":true,\"subunitcolor\":\"white\"},\"hoverlabel\":{\"align\":\"left\"},\"hovermode\":\"closest\",\"mapbox\":{\"style\":\"light\"},\"paper_bgcolor\":\"white\",\"plot_bgcolor\":\"white\",\"polar\":{\"angularaxis\":{\"gridcolor\":\"rgb(232,232,232)\",\"linecolor\":\"rgb(36,36,36)\",\"showgrid\":false,\"showline\":true,\"ticks\":\"outside\"},\"bgcolor\":\"white\",\"radialaxis\":{\"gridcolor\":\"rgb(232,232,232)\",\"linecolor\":\"rgb(36,36,36)\",\"showgrid\":false,\"showline\":true,\"ticks\":\"outside\"}},\"scene\":{\"xaxis\":{\"backgroundcolor\":\"white\",\"gridcolor\":\"rgb(232,232,232)\",\"gridwidth\":2,\"linecolor\":\"rgb(36,36,36)\",\"showbackground\":true,\"showgrid\":false,\"showline\":true,\"ticks\":\"outside\",\"zeroline\":false,\"zerolinecolor\":\"rgb(36,36,36)\"},\"yaxis\":{\"backgroundcolor\":\"white\",\"gridcolor\":\"rgb(232,232,232)\",\"gridwidth\":2,\"linecolor\":\"rgb(36,36,36)\",\"showbackground\":true,\"showgrid\":false,\"showline\":true,\"ticks\":\"outside\",\"zeroline\":false,\"zerolinecolor\":\"rgb(36,36,36)\"},\"zaxis\":{\"backgroundcolor\":\"white\",\"gridcolor\":\"rgb(232,232,232)\",\"gridwidth\":2,\"linecolor\":\"rgb(36,36,36)\",\"showbackground\":true,\"showgrid\":false,\"showline\":true,\"ticks\":\"outside\",\"zeroline\":false,\"zerolinecolor\":\"rgb(36,36,36)\"}},\"shapedefaults\":{\"fillcolor\":\"black\",\"line\":{\"width\":0},\"opacity\":0.3},\"ternary\":{\"aaxis\":{\"gridcolor\":\"rgb(232,232,232)\",\"linecolor\":\"rgb(36,36,36)\",\"showgrid\":false,\"showline\":true,\"ticks\":\"outside\"},\"baxis\":{\"gridcolor\":\"rgb(232,232,232)\",\"linecolor\":\"rgb(36,36,36)\",\"showgrid\":false,\"showline\":true,\"ticks\":\"outside\"},\"bgcolor\":\"white\",\"caxis\":{\"gridcolor\":\"rgb(232,232,232)\",\"linecolor\":\"rgb(36,36,36)\",\"showgrid\":false,\"showline\":true,\"ticks\":\"outside\"}},\"title\":{\"x\":0.05},\"xaxis\":{\"automargin\":true,\"gridcolor\":\"rgb(232,232,232)\",\"linecolor\":\"rgb(36,36,36)\",\"showgrid\":false,\"showline\":true,\"ticks\":\"outside\",\"title\":{\"standoff\":15},\"zeroline\":false,\"zerolinecolor\":\"rgb(36,36,36)\"},\"yaxis\":{\"automargin\":true,\"gridcolor\":\"rgb(232,232,232)\",\"linecolor\":\"rgb(36,36,36)\",\"showgrid\":false,\"showline\":true,\"ticks\":\"outside\",\"title\":{\"standoff\":15},\"zeroline\":false,\"zerolinecolor\":\"rgb(36,36,36)\"}}},\"xaxis\":{\"anchor\":\"y\",\"domain\":[0.0,0.2125],\"title\":{\"text\":\"Days from Last\"},\"linewidth\":1.5,\"matches\":\"x\",\"autorange\":\"reversed\"},\"yaxis\":{\"anchor\":\"x\",\"domain\":[0.0,1.0],\"title\":{\"text\":\"Lick Accuracy (%)\"},\"linewidth\":1.5,\"matches\":\"y\"},\"xaxis2\":{\"anchor\":\"y2\",\"domain\":[0.2625,0.475],\"title\":{\"text\":\"Days from Last\"},\"linewidth\":1.5,\"matches\":\"x\"},\"yaxis2\":{\"anchor\":\"x2\",\"domain\":[0.0,1.0],\"matches\":\"y\",\"showticklabels\":false,\"title\":{\"text\":\"\"},\"linewidth\":1.5},\"xaxis3\":{\"anchor\":\"y3\",\"domain\":[0.525,0.7375],\"title\":{\"text\":\"Days from Last\"},\"linewidth\":1.5,\"matches\":\"x\"},\"yaxis3\":{\"anchor\":\"x3\",\"domain\":[0.0,1.0],\"matches\":\"y\",\"showticklabels\":false,\"title\":{\"text\":\"\"},\"linewidth\":1.5},\"xaxis4\":{\"anchor\":\"y4\",\"domain\":[0.7875,1.0],\"title\":{\"text\":\"Days from Last\"},\"linewidth\":1.5,\"matches\":\"x\"},\"yaxis4\":{\"anchor\":\"x4\",\"domain\":[0.0,1.0],\"matches\":\"y\",\"showticklabels\":false,\"title\":{\"text\":\"\"},\"linewidth\":1.5},\"annotations\":[{\"font\":{\"size\":22},\"showarrow\":false,\"text\":\"A\",\"x\":0.10625,\"xanchor\":\"center\",\"xref\":\"paper\",\"y\":1.0,\"yanchor\":\"bottom\",\"yref\":\"paper\"},{\"font\":{\"size\":22},\"showarrow\":false,\"text\":\"B\",\"x\":0.36875,\"xanchor\":\"center\",\"xref\":\"paper\",\"y\":1.0,\"yanchor\":\"bottom\",\"yref\":\"paper\"},{\"font\":{\"size\":22},\"showarrow\":false,\"text\":\"C\",\"x\":0.6312500000000001,\"xanchor\":\"center\",\"xref\":\"paper\",\"y\":1.0,\"yanchor\":\"bottom\",\"yref\":\"paper\"},{\"font\":{\"size\":22},\"showarrow\":false,\"text\":\"D\",\"x\":0.89375,\"xanchor\":\"center\",\"xref\":\"paper\",\"y\":1.0,\"yanchor\":\"bottom\",\"yref\":\"paper\"}],\"title\":{\"y\":0.9,\"x\":0.5,\"xanchor\":\"center\",\"yanchor\":\"top\"},\"font\":{\"size\":22,\"family\":\"Arial\"},\"height\":500,\"width\":1000},                        {\"responsive\": true}                    ).then(function(){\n",
       "                            \n",
       "var gd = document.getElementById('696e7d3d-587c-4bec-bb87-33438374af16');\n",
       "var x = new MutationObserver(function (mutations, observer) {{\n",
       "        var display = window.getComputedStyle(gd).display;\n",
       "        if (!display || display === 'none') {{\n",
       "            console.log([gd, 'removed!']);\n",
       "            Plotly.purge(gd);\n",
       "            observer.disconnect();\n",
       "        }}\n",
       "}});\n",
       "\n",
       "// Listen for the removal of the full notebook cells\n",
       "var notebookContainer = gd.closest('#notebook-container');\n",
       "if (notebookContainer) {{\n",
       "    x.observe(notebookContainer, {childList: true});\n",
       "}}\n",
       "\n",
       "// Listen for the clearing of the current output cell\n",
       "var outputEl = gd.closest('.output');\n",
       "if (outputEl) {{\n",
       "    x.observe(outputEl, {childList: true});\n",
       "}}\n",
       "\n",
       "                        })                };                });            </script>        </div>"
      ]
     },
     "metadata": {},
     "output_type": "display_data"
    }
   ],
   "source": [
    "## Look at days from last without fixed mice\n",
    "days_of_interest = 4\n",
    "fig = pf.custom_graph_template(x_title='Days from Last', y_title='', rows=1, columns=4, titles=['A', 'B', 'C', 'D'], width=1000,\n",
    "                               shared_x=True, shared_y=True)\n",
    "for idx, session in enumerate(['A', 'B', 'C', 'D']):\n",
    "    plot_data = avg_days_from[(avg_days_from['session'] == session) & (avg_days_from['days_from'] <= days_of_interest)]\n",
    "    \n",
    "    for group in np.unique(plot_data['group']):\n",
    "        if group == 'fixed':\n",
    "            pass \n",
    "        else:\n",
    "            group_data = plot_data[plot_data['group'] == group]\n",
    "            if group == 'criteria':\n",
    "                name = 'Criteria' \n",
    "            else:\n",
    "                name = 'Criteria+5'\n",
    "\n",
    "            fig.add_trace(go.Scatter(x=group_data['days_from'], y=group_data['percent_correct']['mean'], mode='lines+markers',\n",
    "                                    line_color=group_colors[group], legendgroup=group, showlegend=False, name=name,\n",
    "                                    error_y=dict(type='data', array=group_data['percent_correct']['sem'])), row=1, col=idx+1)\n",
    "fig.update_layout(xaxis=dict(autorange='reversed'))\n",
    "fig.update_yaxes(title='Lick Accuracy (%)', col=1)\n",
    "fig['data'][0]['showlegend'] = True\n",
    "fig['data'][1]['showlegend'] = True\n",
    "fig.show()\n",
    "fig.write_image(pjoin(fig_path, 'days_from_last_no_fixed.png'))"
   ]
  },
  {
   "cell_type": "code",
   "execution_count": null,
   "metadata": {},
   "outputs": [],
   "source": [
    "## Look at probe accuracy on the first and second day\n",
    "second_day = pd.DataFrame()\n",
    "context_list = ['A', 'B', 'C', 'D']\n",
    "for mouse in fixed + criteria + cr_5:\n",
    "    if mouse in no_probe:\n",
    "        next\n",
    "    else:\n",
    "        if mouse == 'ms17':\n",
    "            context_list = ['A', 'B', 'C']\n",
    "        else:\n",
    "            context_list = ['A', 'B', 'C', 'D']\n",
    "            \n",
    "        mouse_data = probe_df[probe_df['mouse'] == mouse]\n",
    "        index_list = ctb.pick_context_day(mouse_data, day_index=1, contexts=context_list)\n",
    "        sub_data = mouse_data.loc[index_list, :]\n",
    "        second_day = pd.concat([second_day, sub_data])\n",
    "\n",
    "first_day = pd.DataFrame()\n",
    "context_list = ['A', 'B', 'C', 'D']\n",
    "for mouse in fixed + criteria + cr_5:\n",
    "    if mouse in no_probe:\n",
    "        next\n",
    "    else:\n",
    "        mouse_data = probe_df[probe_df['mouse'] == mouse]\n",
    "        index_list = ctb.pick_context_day(mouse_data, day_index=0, contexts=context_list)\n",
    "        sub_data = mouse_data.loc[index_list, :]\n",
    "        first_day = pd.concat([first_day, sub_data])\n",
    "\n",
    "first_day.insert(0, 'day_type', 'first')\n",
    "second_day.insert(0, 'day_type', 'second')\n",
    "combined_df = pd.concat([first_day, second_day])"
   ]
  },
  {
   "cell_type": "code",
   "execution_count": null,
   "metadata": {},
   "outputs": [],
   "source": [
    "## Plot first and second day percent correct across different contexts\n",
    "avg_combined = combined_df.groupby(['day_type', 'group', 'session'], as_index=False).agg({'percent_correct': ['mean', 'sem']})\n",
    "context_list = ['A', 'B', 'C', 'D']\n",
    "fig = pf.custom_graph_template(x_title='', y_title='', width=1200, rows=1, columns=4, \n",
    "                               titles=['A', 'B', 'C', 'D'], shared_x=True, shared_y=True)\n",
    "for idx, session in enumerate(context_list):\n",
    "    for group in np.unique(avg_combined['group']):\n",
    "        if group == 'fixed':\n",
    "            gname = 'Fixed'\n",
    "        elif group == 'criteria':\n",
    "            gname = 'Criteria'\n",
    "        else:\n",
    "            gname = 'Criteria+5'\n",
    "        plot_data = avg_combined[(avg_combined['session'] == session) & (avg_combined['group'] == group)]\n",
    "        fig.add_trace(go.Scatter(x=plot_data['day_type'], y=plot_data['percent_correct']['mean'],\n",
    "                                 error_y=dict(type='data', array=plot_data['percent_correct']['sem'], thickness=1.5, width=8), \n",
    "                                 line_color=group_colors[group], name=gname, legendgroup=group, showlegend=False), row=1, col=idx+1)\n",
    "        fig.add_hline(y=25, line_width=1, line_dash='dash', line_color='darkgrey', opacity=1)\n",
    "fig.update_yaxes(title='Probe Accuracy (%)', col=1)\n",
    "fig['data'][0]['showlegend'] = True\n",
    "fig['data'][1]['showlegend'] = True\n",
    "fig['data'][2]['showlegend'] = True\n",
    "fig.show()\n",
    "fig.write_image(pjoin(fig_path, 'probe_accuracy_firstsecond.png'))"
   ]
  },
  {
   "cell_type": "code",
   "execution_count": null,
   "metadata": {},
   "outputs": [],
   "source": [
    "## Rotated probe analysis\n",
    "result_dict = {'mouse': [], 'comparison': [], 'accuracy': [], 'group': []}\n",
    "comparison_list = ['A to B', 'B to C', 'C to D']\n",
    "for mouse in fixed + criteria + cr_5: ## criteria mice\n",
    "    if mouse in no_probe:\n",
    "        next \n",
    "    else:\n",
    "        mouse_path = pjoin(behav_path, mouse)\n",
    "        group = 'fixed' if mouse in fixed else 'criteria' if mouse in criteria else 'cr_5'\n",
    "\n",
    "        mouse_data = probe_df[probe_df['mouse'] == mouse]\n",
    "        if mouse in fixed:\n",
    "            context_list = ['A', 'B', 'C']\n",
    "        elif mouse in cr_5:\n",
    "            context_list = ['A5', 'B5', 'C5']\n",
    "        else:\n",
    "            context_list = ['A', 'B', 'C']\n",
    "        index_list = ctb.pick_context_day(mouse_data, day_index=-1, contexts=context_list)\n",
    "        day_list = mouse_data.loc[index_list, 'day']\n",
    "\n",
    "        for idx, day in enumerate(day_list):\n",
    "            sess_one = pd.read_feather(pjoin(mouse_path, f'{mouse}_{day}.feat'))\n",
    "            sess_two = pd.read_feather(pjoin(mouse_path, f'{mouse}_{day+1}.feat'))\n",
    "            ## Rotate ports\n",
    "            rot_one, rot_two = ctb.rotate_ports(input_maze=np.unique(sess_one['maze'])[0], \n",
    "                                                output_maze=np.unique(sess_two['maze'])[0], \n",
    "                                                reward_one=np.unique(sess_one['reward_one'])[0], \n",
    "                                                reward_two=np.unique(sess_one['reward_two'])[0])\n",
    "            ## Calculate lick accuracy during probe with rotated ports\n",
    "            lick_acc = ctb.lick_accuracy(sess_two[sess_two['probe']], port_one=rot_one, port_two=rot_two)\n",
    "            ## Add results\n",
    "            result_dict['mouse'].append(mouse)\n",
    "            result_dict['comparison'].append(comparison_list[idx])\n",
    "            result_dict['accuracy'].append(lick_acc)\n",
    "            result_dict['group'].append(group)\n",
    "probe_metric_df = pd.DataFrame(result_dict)\n",
    "avg_probe = probe_metric_df.groupby(['group', 'comparison'], as_index=False).agg({'accuracy': ['mean', 'sem']})"
   ]
  },
  {
   "cell_type": "code",
   "execution_count": null,
   "metadata": {},
   "outputs": [],
   "source": [
    "## Plot rotated probe results\n",
    "fig = pf.custom_graph_template(x_title='', y_title='', titles=['Criteria+5', 'Criteria', 'Fixed'], \n",
    "                               font_size=17, rows=1, columns=3, width=900, shared_y=True)\n",
    "for idx, group in enumerate(np.unique(probe_metric_df['group'])):\n",
    "    group_data = probe_metric_df[probe_metric_df['group'] == group]\n",
    "    avg_group = avg_probe[avg_probe['group'] == group]\n",
    "    fig.add_trace(go.Bar(x=avg_group['comparison'], y=avg_group['accuracy']['mean'],\n",
    "                         error_y=dict(type='data', array=avg_group['accuracy']['sem'], thickness=2.5, width=10),\n",
    "                         marker_color=group_colors[group], marker_line_color='black', \n",
    "                         marker_line_width=2, opacity=0.8, showlegend=False), row=1, col=idx+1)\n",
    "    for mouse in np.unique(group_data['mouse']):\n",
    "        sub_data = group_data[group_data['mouse'] == mouse]\n",
    "        fig.add_trace(go.Scatter(x=sub_data['comparison'], y=sub_data['accuracy'],\n",
    "                                mode='markers', marker=dict(color=group_colors[group], line=dict(width=1)),\n",
    "                                name=mouse, showlegend=False), row=1, col=idx+1)\n",
    "    fig.add_hline(y=25, line_width=1, line_dash='dash', line_color='darkgrey', opacity=1, row=1, col=idx+1)\n",
    "fig.update_yaxes(title='Lick Accuracy (%)', row=1, col=1)\n",
    "fig.show()\n",
    "fig.write_image(pjoin(fig_path, 'rotated_probe_accuracy.png'))"
   ]
  },
  {
   "cell_type": "code",
   "execution_count": null,
   "metadata": {},
   "outputs": [],
   "source": [
    "probe_metric_df.mixed_anova(dv='accuracy', within='comparison', subject='mouse', between='group')"
   ]
  },
  {
   "cell_type": "code",
   "execution_count": null,
   "metadata": {},
   "outputs": [],
   "source": [
    "## Look at accuracy across days for orthogonal vs non-orthogonal mice\n",
    "df = days_from_df.copy() \n",
    "df.insert(0, 'port_group', np.nan)\n",
    "orthog_data = pd.DataFrame()\n",
    "for mouse in fixed + criteria + cr_5: \n",
    "    sub = df[df['mouse'] == mouse].reset_index(drop=True)\n",
    "    if mouse in orthogonal:\n",
    "        sub.loc[:, 'port_group'] = 'orthog'\n",
    "    else:\n",
    "        sub.loc[:, 'port_group'] = 'nonorthog'\n",
    "    orthog_data = pd.concat([orthog_data, sub])\n",
    "avg_orthog = orthog_data.groupby(['port_group', 'days_from', 'session'], as_index=False).agg({'percent_correct': ['mean', 'sem']})"
   ]
  },
  {
   "cell_type": "code",
   "execution_count": null,
   "metadata": {},
   "outputs": [],
   "source": [
    "days_of_interest = 8\n",
    "fig = pf.custom_graph_template(x_title='Days from Last', y_title='', rows=1, columns=4, titles=['A', 'B', 'C', 'D'], width=1000,\n",
    "                               shared_x=True, shared_y=True)\n",
    "for idx, session in enumerate(['A', 'B', 'C', 'D']):\n",
    "    plot_data = avg_orthog[(avg_orthog['session'] == session) & (avg_orthog['days_from'] <= days_of_interest)]\n",
    "    \n",
    "    for group in np.unique(plot_data['port_group']):\n",
    "        group_data = plot_data[plot_data['port_group'] == group]\n",
    "        if group == 'orthog':\n",
    "            name = 'Orthogonal'\n",
    "            color = 'turquoise'\n",
    "        else:\n",
    "            name = 'Non-Orthogonal' \n",
    "            color = 'darkgrey'\n",
    "\n",
    "        fig.add_trace(go.Scatter(x=group_data['days_from'], y=group_data['percent_correct']['mean'], mode='lines+markers',\n",
    "                                 line_color=group_colors[group], legendgroup=group, showlegend=False, name=name,\n",
    "                                 error_y=dict(type='data', array=group_data['percent_correct']['sem'])), row=1, col=idx+1)\n",
    "fig.update_layout(xaxis=dict(autorange='reversed'))\n",
    "fig.update_yaxes(title='Lick Accuracy (%)', col=1)\n",
    "fig['data'][0]['showlegend'] = True\n",
    "fig['data'][1]['showlegend'] = True\n",
    "fig.show()\n",
    "fig.write_image(pjoin(fig_path, 'days_from_last_orthogvsnon.png'))"
   ]
  },
  {
   "cell_type": "code",
   "execution_count": null,
   "metadata": {},
   "outputs": [],
   "source": [
    "orthog_data.mixed_anova(dv='percent_correct', within='session', subject='mouse', between='port_group')"
   ]
  },
  {
   "cell_type": "code",
   "execution_count": null,
   "metadata": {},
   "outputs": [],
   "source": [
    "## Looking at learning curves based on port distance from cue\n",
    "angle_dict = {'mouse': [], 'group': [], 'port_group': [], 'session': [], 'percent_correct': [], 'min_angle': []}\n",
    "for mouse in criteria + cr_5:\n",
    "    mouse_path = pjoin(behav_path, mouse)\n",
    "    group = 'fixed' if mouse in fixed else 'criteria' if mouse in criteria else 'cr_5'\n",
    "    port_group = 'orthog' if mouse in orthogonal else 'nonorthog'\n",
    "    for session in os.listdir(mouse_path):\n",
    "        behav_data = pd.read_feather(pjoin(mouse_path, f'{session}'))\n",
    "        behav_data = behav_data[~behav_data['probe']]\n",
    "        reward_one, reward_two = np.unique(behav_data['reward_one'])[0], np.unique(behav_data['reward_two'])[0]\n",
    "        maze = np.unique(behav_data['maze'])[0]\n",
    "        pc = ctb.lick_accuracy(behav_data, port_one=reward_one, port_two=reward_two, by_trials=False)\n",
    "        if (pd.isna(reward_one)) & (pd.isna(reward_two)):\n",
    "            next \n",
    "        elif pd.isna(reward_two):\n",
    "            reward_two = reward_one\n",
    "        else:\n",
    "            min_angle = ctb.relative_port_distance(reward_one, reward_two, maze)\n",
    "            angle_dict['mouse'].append(mouse)\n",
    "            angle_dict['group'].append(group)\n",
    "            angle_dict['port_group'].append(port_group)\n",
    "            angle_dict['session'].append(np.unique(behav_data['session'])[0])\n",
    "            angle_dict['percent_correct'].append(pc)\n",
    "            angle_dict['min_angle'].append(min_angle)\n",
    "angle_df = pd.DataFrame(angle_dict)\n",
    "\n",
    "days_from_new = pd.DataFrame()\n",
    "for mouse in criteria + cr_5:\n",
    "    for session in ['A', 'B', 'C', 'D']:\n",
    "        subset_data = angle_df[(angle_df['mouse'] == mouse) & (angle_df['session'] == session)]\n",
    "        days = list(reversed(np.arange(0, subset_data.shape[0])))\n",
    "        subset_data.insert(0, 'days_from', days)\n",
    "        days_from_new = pd.concat([days_from_new, subset_data])\n",
    "avg_days_group = days_from_new.groupby(['group', 'session', 'days_from', 'min_angle'], as_index=False).agg({'percent_correct': ['mean', 'sem']})\n",
    "avg_days_orthog = days_from_new.groupby(['port_group', 'session', 'days_from', 'min_angle'], as_index=False).agg({'percent_correct': ['mean', 'sem']})\n",
    "avg_days = days_from_new.groupby(['session', 'days_from', 'min_angle'], as_index=False).agg({'percent_correct': ['mean', 'sem']})"
   ]
  },
  {
   "cell_type": "code",
   "execution_count": null,
   "metadata": {},
   "outputs": [],
   "source": [
    "days_of_interest = 8\n",
    "color_list = ['turquoise', 'darkgrey', 'darkorchid', 'green']\n",
    "fig = pf.custom_graph_template(x_title='Days from Last', y_title='', rows=1, columns=4, \n",
    "                               width=1000, titles=['A', 'B', 'C', 'D'], shared_x=True, shared_y=True)\n",
    "for idx, session in enumerate(['A', 'B', 'C', 'D']):\n",
    "    for index, group in enumerate(np.unique(avg_days['min_angle'])):\n",
    "        plot_data = avg_days[(avg_days['min_angle'] == group) & (avg_days['session'] == session) & (avg_days['days_from'] <= days_of_interest)]\n",
    "        fig.add_trace(go.Scatter(x=plot_data['days_from'], y=plot_data['percent_correct']['mean'], mode='lines+markers',\n",
    "                                 error_y=dict(type='data', array=avg_days_orthog['percent_correct']['sem']),\n",
    "                                 name=f'{str(group)} Degrees', showlegend=False, legendgroup=str(group), \n",
    "                                 line_color=color_list[index]), row=1, col=idx+1)\n",
    "fig.update_layout(xaxis=dict(autorange='reversed'))\n",
    "fig.update_yaxes(title='Lick Accuracy (%)', col=1)\n",
    "fig['data'][0]['showlegend'] = True\n",
    "fig['data'][1]['showlegend'] = True\n",
    "fig['data'][2]['showlegend'] = True\n",
    "fig['data'][3]['showlegend'] = True\n",
    "fig.show()\n",
    "fig.write_image(pjoin(fig_path, 'days_from_last_port_angles_all.png'))                "
   ]
  },
  {
   "cell_type": "code",
   "execution_count": null,
   "metadata": {},
   "outputs": [],
   "source": [
    "days_of_interest = 8\n",
    "color_list = ['turquoise', 'darkgrey', 'darkorchid', 'green']\n",
    "fig = pf.custom_graph_template(x_title='Days from Last', y_title='', rows=1, columns=4, \n",
    "                               width=1000, titles=['A', 'B', 'C', 'D'], shared_x=True, shared_y=True)\n",
    "sub_df = avg_days_orthog[avg_days_orthog['port_group'] == 'orthog']\n",
    "for idx, session in enumerate(['A', 'B', 'C', 'D']):\n",
    "    for index, group in enumerate(np.unique(avg_days['min_angle'])):\n",
    "        plot_data = sub_df[(sub_df['min_angle'] == group) & (sub_df['session'] == session) & (sub_df['days_from'] <= days_of_interest)]\n",
    "        fig.add_trace(go.Scatter(x=plot_data['days_from'], y=plot_data['percent_correct']['mean'], mode='lines+markers',\n",
    "                                 error_y=dict(type='data', array=avg_days_orthog['percent_correct']['sem']),\n",
    "                                 name=f'{str(group)} Degrees', showlegend=False, legendgroup=str(group), \n",
    "                                 line_color=color_list[index]), row=1, col=idx+1)\n",
    "fig.update_layout(xaxis=dict(autorange='reversed'))\n",
    "fig.update_yaxes(title='Lick Accuracy (%)', col=1)\n",
    "fig['data'][0]['showlegend'] = True\n",
    "fig['data'][1]['showlegend'] = True\n",
    "fig['data'][2]['showlegend'] = True\n",
    "fig['data'][3]['showlegend'] = True\n",
    "fig.show()\n",
    "fig.write_image(pjoin(fig_path, 'days_from_last_port_angles_orthog.png'))"
   ]
  },
  {
   "cell_type": "code",
   "execution_count": null,
   "metadata": {},
   "outputs": [],
   "source": [
    "## Days to Criteria for orthog vs nonorthog\n",
    "days_from_new.insert(0, 'session_count', days_to_df['session'])\n",
    "days_to_criteria_orthog = days_from_new.groupby(['mouse', 'port_group', 'session'], as_index=False).agg({'session_count': 'count'})\n",
    "days_to_criteria_angles = days_from_new.groupby(['mouse', 'min_angle', 'session'], as_index=False).agg({'session_count': 'count'})\n",
    "result_portgroup = days_to_criteria_orthog.groupby(['port_group', 'session'], as_index=False).agg({'session_count': ['mean', 'sem']})\n",
    "result_angles = days_to_criteria_angles.groupby(['min_angle', 'session'], as_index=False).agg({'session_count': ['mean', 'sem']})"
   ]
  },
  {
   "cell_type": "code",
   "execution_count": null,
   "metadata": {},
   "outputs": [],
   "source": [
    "## Plot days to criteria for orthogonal vs nonorthogonal\n",
    "fig = pf.custom_graph_template(x_title='', y_title='Days to Criteria')\n",
    "for group in np.unique(result_portgroup['port_group']):\n",
    "    plot_data = result_portgroup[result_portgroup['port_group'] == group]\n",
    "    if group == 'nonorthog':\n",
    "        gname = 'Non-Orthogonal'\n",
    "    else:\n",
    "        gname = 'Orthogonal'\n",
    "    fig.add_trace(go.Scatter(x=plot_data['session'], y=plot_data['session_count']['mean'], mode='lines+markers',\n",
    "                             error_y=dict(type='data', array=plot_data['session_count']['sem'], thickness=1.5, width=8),\n",
    "                             name=gname, legendgroup=group, line_color=group_colors[group]))\n",
    "for mouse in fixed + criteria + cr_5:\n",
    "    mouse_data = days_to_criteria_orthog[days_to_criteria_orthog['mouse'] == mouse]\n",
    "    group = 'orthog' if mouse in orthogonal else 'nonorthog'\n",
    "    fig.add_trace(go.Scatter(x=mouse_data['session'], y=mouse_data['session_count'], mode='markers',\n",
    "                             marker_color=group_colors[group], legendgroup=group, opacity=0.8, \n",
    "                             showlegend=False, marker_line_width=1, name=mouse))\n",
    "fig.show()\n",
    "fig.write_image(pjoin(fig_path, 'days_to_criteria_orthog.png'))"
   ]
  },
  {
   "cell_type": "code",
   "execution_count": null,
   "metadata": {},
   "outputs": [],
   "source": [
    "days_to_criteria_orthog.mixed_anova(dv='session_count', within='session', subject='mouse', between='port_group')"
   ]
  },
  {
   "cell_type": "code",
   "execution_count": null,
   "metadata": {},
   "outputs": [],
   "source": [
    "## Remove A and test main effect of session\n",
    "anova_data = days_to_criteria[days_to_criteria['session'] != 'A']\n",
    "anova_data.rm_anova(dv='session_count', within='session', subject='mouse')"
   ]
  },
  {
   "cell_type": "code",
   "execution_count": null,
   "metadata": {},
   "outputs": [],
   "source": [
    "## Plot days to criteria for different port angles from cue\n",
    "fig = pf.custom_graph_template(x_title='', y_title='Days to Criteria')\n",
    "for idx, group in enumerate(np.unique(result_angles['min_angle'])):\n",
    "    plot_data = result_angles[result_angles['min_angle'] == group]\n",
    "    fig.add_trace(go.Scatter(x=plot_data['session'], y=plot_data['session_count']['mean'], mode='lines+markers',\n",
    "                            error_y=dict(type='data', array=plot_data['session_count']['sem'], thickness=1.5, width=8),\n",
    "                            name=f'{str(group)} Degrees', legendgroup=str(group), line_color=color_list[idx]))\n",
    "fig.show()\n",
    "fig.write_image(pjoin(fig_path, 'days_to_criteria_angles.png'))"
   ]
  },
  {
   "cell_type": "code",
   "execution_count": 6,
   "metadata": {},
   "outputs": [
    {
     "name": "stderr",
     "output_type": "stream",
     "text": [
      "/media/caishuman/csstorage3/Austin/CircleTrack/CircleTrackAnalysis/MultiCon_Behavior/BehaviorCohort1/../../circletrack_behavior.py:1055: RuntimeWarning:\n",
      "\n",
      "invalid value encountered in scalar divide\n",
      "\n",
      "/media/caishuman/csstorage3/Austin/CircleTrack/CircleTrackAnalysis/MultiCon_Behavior/BehaviorCohort1/../../circletrack_behavior.py:1055: RuntimeWarning:\n",
      "\n",
      "invalid value encountered in scalar divide\n",
      "\n",
      "/media/caishuman/csstorage3/Austin/CircleTrack/CircleTrackAnalysis/MultiCon_Behavior/BehaviorCohort1/../../circletrack_behavior.py:1055: RuntimeWarning:\n",
      "\n",
      "invalid value encountered in scalar divide\n",
      "\n",
      "/media/caishuman/csstorage3/Austin/CircleTrack/CircleTrackAnalysis/MultiCon_Behavior/BehaviorCohort1/../../circletrack_behavior.py:1055: RuntimeWarning:\n",
      "\n",
      "invalid value encountered in scalar divide\n",
      "\n",
      "/media/caishuman/csstorage3/Austin/CircleTrack/CircleTrackAnalysis/MultiCon_Behavior/BehaviorCohort1/../../circletrack_behavior.py:1055: RuntimeWarning:\n",
      "\n",
      "invalid value encountered in scalar divide\n",
      "\n",
      "/media/caishuman/csstorage3/Austin/CircleTrack/CircleTrackAnalysis/MultiCon_Behavior/BehaviorCohort1/../../circletrack_behavior.py:1055: RuntimeWarning:\n",
      "\n",
      "invalid value encountered in scalar divide\n",
      "\n",
      "/media/caishuman/csstorage3/Austin/CircleTrack/CircleTrackAnalysis/MultiCon_Behavior/BehaviorCohort1/../../circletrack_behavior.py:1055: RuntimeWarning:\n",
      "\n",
      "invalid value encountered in scalar divide\n",
      "\n",
      "/media/caishuman/csstorage3/Austin/CircleTrack/CircleTrackAnalysis/MultiCon_Behavior/BehaviorCohort1/../../circletrack_behavior.py:1055: RuntimeWarning:\n",
      "\n",
      "invalid value encountered in scalar divide\n",
      "\n",
      "/media/caishuman/csstorage3/Austin/CircleTrack/CircleTrackAnalysis/MultiCon_Behavior/BehaviorCohort1/../../circletrack_behavior.py:1055: RuntimeWarning:\n",
      "\n",
      "invalid value encountered in scalar divide\n",
      "\n",
      "/media/caishuman/csstorage3/Austin/CircleTrack/CircleTrackAnalysis/MultiCon_Behavior/BehaviorCohort1/../../circletrack_behavior.py:1055: RuntimeWarning:\n",
      "\n",
      "invalid value encountered in scalar divide\n",
      "\n",
      "/media/caishuman/csstorage3/Austin/CircleTrack/CircleTrackAnalysis/MultiCon_Behavior/BehaviorCohort1/../../circletrack_behavior.py:1055: RuntimeWarning:\n",
      "\n",
      "invalid value encountered in scalar divide\n",
      "\n",
      "/media/caishuman/csstorage3/Austin/CircleTrack/CircleTrackAnalysis/MultiCon_Behavior/BehaviorCohort1/../../circletrack_behavior.py:1055: RuntimeWarning:\n",
      "\n",
      "invalid value encountered in scalar divide\n",
      "\n",
      "/media/caishuman/csstorage3/Austin/CircleTrack/CircleTrackAnalysis/MultiCon_Behavior/BehaviorCohort1/../../circletrack_behavior.py:1055: RuntimeWarning:\n",
      "\n",
      "invalid value encountered in scalar divide\n",
      "\n",
      "/media/caishuman/csstorage3/Austin/CircleTrack/CircleTrackAnalysis/MultiCon_Behavior/BehaviorCohort1/../../circletrack_behavior.py:1055: RuntimeWarning:\n",
      "\n",
      "invalid value encountered in scalar divide\n",
      "\n",
      "/media/caishuman/csstorage3/Austin/CircleTrack/CircleTrackAnalysis/MultiCon_Behavior/BehaviorCohort1/../../circletrack_behavior.py:1055: RuntimeWarning:\n",
      "\n",
      "invalid value encountered in scalar divide\n",
      "\n",
      "/media/caishuman/csstorage3/Austin/CircleTrack/CircleTrackAnalysis/MultiCon_Behavior/BehaviorCohort1/../../circletrack_behavior.py:1055: RuntimeWarning:\n",
      "\n",
      "invalid value encountered in scalar divide\n",
      "\n",
      "/media/caishuman/csstorage3/Austin/CircleTrack/CircleTrackAnalysis/MultiCon_Behavior/BehaviorCohort1/../../circletrack_behavior.py:1055: RuntimeWarning:\n",
      "\n",
      "invalid value encountered in scalar divide\n",
      "\n",
      "/media/caishuman/csstorage3/Austin/CircleTrack/CircleTrackAnalysis/MultiCon_Behavior/BehaviorCohort1/../../circletrack_behavior.py:1055: RuntimeWarning:\n",
      "\n",
      "invalid value encountered in scalar divide\n",
      "\n",
      "/media/caishuman/csstorage3/Austin/CircleTrack/CircleTrackAnalysis/MultiCon_Behavior/BehaviorCohort1/../../circletrack_behavior.py:1055: RuntimeWarning:\n",
      "\n",
      "invalid value encountered in scalar divide\n",
      "\n",
      "/media/caishuman/csstorage3/Austin/CircleTrack/CircleTrackAnalysis/MultiCon_Behavior/BehaviorCohort1/../../circletrack_behavior.py:1055: RuntimeWarning:\n",
      "\n",
      "invalid value encountered in scalar divide\n",
      "\n",
      "/media/caishuman/csstorage3/Austin/CircleTrack/CircleTrackAnalysis/MultiCon_Behavior/BehaviorCohort1/../../circletrack_behavior.py:1055: RuntimeWarning:\n",
      "\n",
      "invalid value encountered in scalar divide\n",
      "\n",
      "/media/caishuman/csstorage3/Austin/CircleTrack/CircleTrackAnalysis/MultiCon_Behavior/BehaviorCohort1/../../circletrack_behavior.py:1055: RuntimeWarning:\n",
      "\n",
      "invalid value encountered in scalar divide\n",
      "\n",
      "/media/caishuman/csstorage3/Austin/CircleTrack/CircleTrackAnalysis/MultiCon_Behavior/BehaviorCohort1/../../circletrack_behavior.py:1055: RuntimeWarning:\n",
      "\n",
      "invalid value encountered in scalar divide\n",
      "\n",
      "/media/caishuman/csstorage3/Austin/CircleTrack/CircleTrackAnalysis/MultiCon_Behavior/BehaviorCohort1/../../circletrack_behavior.py:1055: RuntimeWarning:\n",
      "\n",
      "invalid value encountered in scalar divide\n",
      "\n",
      "/media/caishuman/csstorage3/Austin/CircleTrack/CircleTrackAnalysis/MultiCon_Behavior/BehaviorCohort1/../../circletrack_behavior.py:977: RuntimeWarning:\n",
      "\n",
      "Mean of empty slice\n",
      "\n",
      "/media/caishuman/csstorage3/Austin/CircleTrack/CircleTrackAnalysis/MultiCon_Behavior/BehaviorCohort1/../../circletrack_behavior.py:1055: RuntimeWarning:\n",
      "\n",
      "invalid value encountered in scalar divide\n",
      "\n",
      "/media/caishuman/csstorage3/Austin/CircleTrack/CircleTrackAnalysis/MultiCon_Behavior/BehaviorCohort1/../../circletrack_behavior.py:1055: RuntimeWarning:\n",
      "\n",
      "invalid value encountered in scalar divide\n",
      "\n",
      "/media/caishuman/csstorage3/Austin/CircleTrack/CircleTrackAnalysis/MultiCon_Behavior/BehaviorCohort1/../../circletrack_behavior.py:1055: RuntimeWarning:\n",
      "\n",
      "invalid value encountered in scalar divide\n",
      "\n",
      "/media/caishuman/csstorage3/Austin/CircleTrack/CircleTrackAnalysis/MultiCon_Behavior/BehaviorCohort1/../../circletrack_behavior.py:1055: RuntimeWarning:\n",
      "\n",
      "invalid value encountered in scalar divide\n",
      "\n",
      "/media/caishuman/csstorage3/Austin/CircleTrack/CircleTrackAnalysis/MultiCon_Behavior/BehaviorCohort1/../../circletrack_behavior.py:1055: RuntimeWarning:\n",
      "\n",
      "invalid value encountered in scalar divide\n",
      "\n",
      "/media/caishuman/csstorage3/Austin/CircleTrack/CircleTrackAnalysis/MultiCon_Behavior/BehaviorCohort1/../../circletrack_behavior.py:1055: RuntimeWarning:\n",
      "\n",
      "invalid value encountered in scalar divide\n",
      "\n",
      "/media/caishuman/csstorage3/Austin/CircleTrack/CircleTrackAnalysis/MultiCon_Behavior/BehaviorCohort1/../../circletrack_behavior.py:1055: RuntimeWarning:\n",
      "\n",
      "invalid value encountered in scalar divide\n",
      "\n",
      "/media/caishuman/csstorage3/Austin/CircleTrack/CircleTrackAnalysis/MultiCon_Behavior/BehaviorCohort1/../../circletrack_behavior.py:1055: RuntimeWarning:\n",
      "\n",
      "invalid value encountered in scalar divide\n",
      "\n",
      "/media/caishuman/csstorage3/Austin/CircleTrack/CircleTrackAnalysis/MultiCon_Behavior/BehaviorCohort1/../../circletrack_behavior.py:1055: RuntimeWarning:\n",
      "\n",
      "invalid value encountered in scalar divide\n",
      "\n",
      "/media/caishuman/csstorage3/Austin/CircleTrack/CircleTrackAnalysis/MultiCon_Behavior/BehaviorCohort1/../../circletrack_behavior.py:977: RuntimeWarning:\n",
      "\n",
      "Mean of empty slice\n",
      "\n",
      "/media/caishuman/csstorage3/Austin/CircleTrack/CircleTrackAnalysis/MultiCon_Behavior/BehaviorCohort1/../../circletrack_behavior.py:1055: RuntimeWarning:\n",
      "\n",
      "invalid value encountered in scalar divide\n",
      "\n",
      "/media/caishuman/csstorage3/Austin/CircleTrack/CircleTrackAnalysis/MultiCon_Behavior/BehaviorCohort1/../../circletrack_behavior.py:1055: RuntimeWarning:\n",
      "\n",
      "invalid value encountered in scalar divide\n",
      "\n",
      "/media/caishuman/csstorage3/Austin/CircleTrack/CircleTrackAnalysis/MultiCon_Behavior/BehaviorCohort1/../../circletrack_behavior.py:1055: RuntimeWarning:\n",
      "\n",
      "invalid value encountered in scalar divide\n",
      "\n",
      "/media/caishuman/csstorage3/Austin/CircleTrack/CircleTrackAnalysis/MultiCon_Behavior/BehaviorCohort1/../../circletrack_behavior.py:1055: RuntimeWarning:\n",
      "\n",
      "invalid value encountered in scalar divide\n",
      "\n",
      "/media/caishuman/csstorage3/Austin/CircleTrack/CircleTrackAnalysis/MultiCon_Behavior/BehaviorCohort1/../../circletrack_behavior.py:1055: RuntimeWarning:\n",
      "\n",
      "invalid value encountered in scalar divide\n",
      "\n",
      "/media/caishuman/csstorage3/Austin/CircleTrack/CircleTrackAnalysis/MultiCon_Behavior/BehaviorCohort1/../../circletrack_behavior.py:1055: RuntimeWarning:\n",
      "\n",
      "invalid value encountered in scalar divide\n",
      "\n",
      "/media/caishuman/csstorage3/Austin/CircleTrack/CircleTrackAnalysis/MultiCon_Behavior/BehaviorCohort1/../../circletrack_behavior.py:1055: RuntimeWarning:\n",
      "\n",
      "invalid value encountered in scalar divide\n",
      "\n",
      "/media/caishuman/csstorage3/Austin/CircleTrack/CircleTrackAnalysis/MultiCon_Behavior/BehaviorCohort1/../../circletrack_behavior.py:1055: RuntimeWarning:\n",
      "\n",
      "invalid value encountered in scalar divide\n",
      "\n",
      "/media/caishuman/csstorage3/Austin/CircleTrack/CircleTrackAnalysis/MultiCon_Behavior/BehaviorCohort1/../../circletrack_behavior.py:1055: RuntimeWarning:\n",
      "\n",
      "invalid value encountered in scalar divide\n",
      "\n",
      "/media/caishuman/csstorage3/Austin/CircleTrack/CircleTrackAnalysis/MultiCon_Behavior/BehaviorCohort1/../../circletrack_behavior.py:1055: RuntimeWarning:\n",
      "\n",
      "invalid value encountered in scalar divide\n",
      "\n",
      "/media/caishuman/csstorage3/Austin/CircleTrack/CircleTrackAnalysis/MultiCon_Behavior/BehaviorCohort1/../../circletrack_behavior.py:1055: RuntimeWarning:\n",
      "\n",
      "invalid value encountered in scalar divide\n",
      "\n",
      "/media/caishuman/csstorage3/Austin/CircleTrack/CircleTrackAnalysis/MultiCon_Behavior/BehaviorCohort1/../../circletrack_behavior.py:1055: RuntimeWarning:\n",
      "\n",
      "invalid value encountered in scalar divide\n",
      "\n",
      "/media/caishuman/csstorage3/Austin/CircleTrack/CircleTrackAnalysis/MultiCon_Behavior/BehaviorCohort1/../../circletrack_behavior.py:977: RuntimeWarning:\n",
      "\n",
      "Mean of empty slice\n",
      "\n",
      "/media/caishuman/csstorage3/Austin/CircleTrack/CircleTrackAnalysis/MultiCon_Behavior/BehaviorCohort1/../../circletrack_behavior.py:1055: RuntimeWarning:\n",
      "\n",
      "invalid value encountered in scalar divide\n",
      "\n",
      "/media/caishuman/csstorage3/Austin/CircleTrack/CircleTrackAnalysis/MultiCon_Behavior/BehaviorCohort1/../../circletrack_behavior.py:1055: RuntimeWarning:\n",
      "\n",
      "invalid value encountered in scalar divide\n",
      "\n",
      "/media/caishuman/csstorage3/Austin/CircleTrack/CircleTrackAnalysis/MultiCon_Behavior/BehaviorCohort1/../../circletrack_behavior.py:1055: RuntimeWarning:\n",
      "\n",
      "invalid value encountered in scalar divide\n",
      "\n",
      "/media/caishuman/csstorage3/Austin/CircleTrack/CircleTrackAnalysis/MultiCon_Behavior/BehaviorCohort1/../../circletrack_behavior.py:1055: RuntimeWarning:\n",
      "\n",
      "invalid value encountered in scalar divide\n",
      "\n",
      "/media/caishuman/csstorage3/Austin/CircleTrack/CircleTrackAnalysis/MultiCon_Behavior/BehaviorCohort1/../../circletrack_behavior.py:1055: RuntimeWarning:\n",
      "\n",
      "invalid value encountered in scalar divide\n",
      "\n",
      "/media/caishuman/csstorage3/Austin/CircleTrack/CircleTrackAnalysis/MultiCon_Behavior/BehaviorCohort1/../../circletrack_behavior.py:1055: RuntimeWarning:\n",
      "\n",
      "invalid value encountered in scalar divide\n",
      "\n",
      "/media/caishuman/csstorage3/Austin/CircleTrack/CircleTrackAnalysis/MultiCon_Behavior/BehaviorCohort1/../../circletrack_behavior.py:1055: RuntimeWarning:\n",
      "\n",
      "invalid value encountered in scalar divide\n",
      "\n",
      "/media/caishuman/csstorage3/Austin/CircleTrack/CircleTrackAnalysis/MultiCon_Behavior/BehaviorCohort1/../../circletrack_behavior.py:1055: RuntimeWarning:\n",
      "\n",
      "invalid value encountered in scalar divide\n",
      "\n",
      "/media/caishuman/csstorage3/Austin/CircleTrack/CircleTrackAnalysis/MultiCon_Behavior/BehaviorCohort1/../../circletrack_behavior.py:1055: RuntimeWarning:\n",
      "\n",
      "invalid value encountered in scalar divide\n",
      "\n",
      "/media/caishuman/csstorage3/Austin/CircleTrack/CircleTrackAnalysis/MultiCon_Behavior/BehaviorCohort1/../../circletrack_behavior.py:1055: RuntimeWarning:\n",
      "\n",
      "invalid value encountered in scalar divide\n",
      "\n",
      "/media/caishuman/csstorage3/Austin/CircleTrack/CircleTrackAnalysis/MultiCon_Behavior/BehaviorCohort1/../../circletrack_behavior.py:1055: RuntimeWarning:\n",
      "\n",
      "invalid value encountered in scalar divide\n",
      "\n",
      "/media/caishuman/csstorage3/Austin/CircleTrack/CircleTrackAnalysis/MultiCon_Behavior/BehaviorCohort1/../../circletrack_behavior.py:1055: RuntimeWarning:\n",
      "\n",
      "invalid value encountered in scalar divide\n",
      "\n",
      "/media/caishuman/csstorage3/Austin/CircleTrack/CircleTrackAnalysis/MultiCon_Behavior/BehaviorCohort1/../../circletrack_behavior.py:1055: RuntimeWarning:\n",
      "\n",
      "invalid value encountered in scalar divide\n",
      "\n",
      "/media/caishuman/csstorage3/Austin/CircleTrack/CircleTrackAnalysis/MultiCon_Behavior/BehaviorCohort1/../../circletrack_behavior.py:1055: RuntimeWarning:\n",
      "\n",
      "invalid value encountered in scalar divide\n",
      "\n",
      "/media/caishuman/csstorage3/Austin/CircleTrack/CircleTrackAnalysis/MultiCon_Behavior/BehaviorCohort1/../../circletrack_behavior.py:1055: RuntimeWarning:\n",
      "\n",
      "invalid value encountered in scalar divide\n",
      "\n",
      "/media/caishuman/csstorage3/Austin/CircleTrack/CircleTrackAnalysis/MultiCon_Behavior/BehaviorCohort1/../../circletrack_behavior.py:1055: RuntimeWarning:\n",
      "\n",
      "invalid value encountered in scalar divide\n",
      "\n",
      "/media/caishuman/csstorage3/Austin/CircleTrack/CircleTrackAnalysis/MultiCon_Behavior/BehaviorCohort1/../../circletrack_behavior.py:1055: RuntimeWarning:\n",
      "\n",
      "invalid value encountered in scalar divide\n",
      "\n",
      "/media/caishuman/csstorage3/Austin/CircleTrack/CircleTrackAnalysis/MultiCon_Behavior/BehaviorCohort1/../../circletrack_behavior.py:1055: RuntimeWarning:\n",
      "\n",
      "invalid value encountered in scalar divide\n",
      "\n",
      "/media/caishuman/csstorage3/Austin/CircleTrack/CircleTrackAnalysis/MultiCon_Behavior/BehaviorCohort1/../../circletrack_behavior.py:1055: RuntimeWarning:\n",
      "\n",
      "invalid value encountered in scalar divide\n",
      "\n",
      "/media/caishuman/csstorage3/Austin/CircleTrack/CircleTrackAnalysis/MultiCon_Behavior/BehaviorCohort1/../../circletrack_behavior.py:1055: RuntimeWarning:\n",
      "\n",
      "invalid value encountered in scalar divide\n",
      "\n",
      "/media/caishuman/csstorage3/Austin/CircleTrack/CircleTrackAnalysis/MultiCon_Behavior/BehaviorCohort1/../../circletrack_behavior.py:1055: RuntimeWarning:\n",
      "\n",
      "invalid value encountered in scalar divide\n",
      "\n",
      "/media/caishuman/csstorage3/Austin/CircleTrack/CircleTrackAnalysis/MultiCon_Behavior/BehaviorCohort1/../../circletrack_behavior.py:1055: RuntimeWarning:\n",
      "\n",
      "invalid value encountered in scalar divide\n",
      "\n",
      "/media/caishuman/csstorage3/Austin/CircleTrack/CircleTrackAnalysis/MultiCon_Behavior/BehaviorCohort1/../../circletrack_behavior.py:1055: RuntimeWarning:\n",
      "\n",
      "invalid value encountered in scalar divide\n",
      "\n",
      "/media/caishuman/csstorage3/Austin/CircleTrack/CircleTrackAnalysis/MultiCon_Behavior/BehaviorCohort1/../../circletrack_behavior.py:1055: RuntimeWarning:\n",
      "\n",
      "invalid value encountered in scalar divide\n",
      "\n",
      "/media/caishuman/csstorage3/Austin/CircleTrack/CircleTrackAnalysis/MultiCon_Behavior/BehaviorCohort1/../../circletrack_behavior.py:1055: RuntimeWarning:\n",
      "\n",
      "invalid value encountered in scalar divide\n",
      "\n",
      "/media/caishuman/csstorage3/Austin/CircleTrack/CircleTrackAnalysis/MultiCon_Behavior/BehaviorCohort1/../../circletrack_behavior.py:1055: RuntimeWarning:\n",
      "\n",
      "invalid value encountered in scalar divide\n",
      "\n",
      "/media/caishuman/csstorage3/Austin/CircleTrack/CircleTrackAnalysis/MultiCon_Behavior/BehaviorCohort1/../../circletrack_behavior.py:1055: RuntimeWarning:\n",
      "\n",
      "invalid value encountered in scalar divide\n",
      "\n",
      "/media/caishuman/csstorage3/Austin/CircleTrack/CircleTrackAnalysis/MultiCon_Behavior/BehaviorCohort1/../../circletrack_behavior.py:1055: RuntimeWarning:\n",
      "\n",
      "invalid value encountered in scalar divide\n",
      "\n",
      "/media/caishuman/csstorage3/Austin/CircleTrack/CircleTrackAnalysis/MultiCon_Behavior/BehaviorCohort1/../../circletrack_behavior.py:1055: RuntimeWarning:\n",
      "\n",
      "invalid value encountered in scalar divide\n",
      "\n",
      "/media/caishuman/csstorage3/Austin/CircleTrack/CircleTrackAnalysis/MultiCon_Behavior/BehaviorCohort1/../../circletrack_behavior.py:1055: RuntimeWarning:\n",
      "\n",
      "invalid value encountered in scalar divide\n",
      "\n",
      "/media/caishuman/csstorage3/Austin/CircleTrack/CircleTrackAnalysis/MultiCon_Behavior/BehaviorCohort1/../../circletrack_behavior.py:1055: RuntimeWarning:\n",
      "\n",
      "invalid value encountered in scalar divide\n",
      "\n",
      "/media/caishuman/csstorage3/Austin/CircleTrack/CircleTrackAnalysis/MultiCon_Behavior/BehaviorCohort1/../../circletrack_behavior.py:1055: RuntimeWarning:\n",
      "\n",
      "invalid value encountered in scalar divide\n",
      "\n",
      "/media/caishuman/csstorage3/Austin/CircleTrack/CircleTrackAnalysis/MultiCon_Behavior/BehaviorCohort1/../../circletrack_behavior.py:1055: RuntimeWarning:\n",
      "\n",
      "invalid value encountered in scalar divide\n",
      "\n",
      "/media/caishuman/csstorage3/Austin/CircleTrack/CircleTrackAnalysis/MultiCon_Behavior/BehaviorCohort1/../../circletrack_behavior.py:1055: RuntimeWarning:\n",
      "\n",
      "invalid value encountered in scalar divide\n",
      "\n",
      "/media/caishuman/csstorage3/Austin/CircleTrack/CircleTrackAnalysis/MultiCon_Behavior/BehaviorCohort1/../../circletrack_behavior.py:1055: RuntimeWarning:\n",
      "\n",
      "invalid value encountered in scalar divide\n",
      "\n",
      "/media/caishuman/csstorage3/Austin/CircleTrack/CircleTrackAnalysis/MultiCon_Behavior/BehaviorCohort1/../../circletrack_behavior.py:1055: RuntimeWarning:\n",
      "\n",
      "invalid value encountered in scalar divide\n",
      "\n",
      "/media/caishuman/csstorage3/Austin/CircleTrack/CircleTrackAnalysis/MultiCon_Behavior/BehaviorCohort1/../../circletrack_behavior.py:1055: RuntimeWarning:\n",
      "\n",
      "invalid value encountered in scalar divide\n",
      "\n",
      "/media/caishuman/csstorage3/Austin/CircleTrack/CircleTrackAnalysis/MultiCon_Behavior/BehaviorCohort1/../../circletrack_behavior.py:1055: RuntimeWarning:\n",
      "\n",
      "invalid value encountered in scalar divide\n",
      "\n",
      "/media/caishuman/csstorage3/Austin/CircleTrack/CircleTrackAnalysis/MultiCon_Behavior/BehaviorCohort1/../../circletrack_behavior.py:1055: RuntimeWarning:\n",
      "\n",
      "invalid value encountered in scalar divide\n",
      "\n",
      "/media/caishuman/csstorage3/Austin/CircleTrack/CircleTrackAnalysis/MultiCon_Behavior/BehaviorCohort1/../../circletrack_behavior.py:1055: RuntimeWarning:\n",
      "\n",
      "invalid value encountered in scalar divide\n",
      "\n",
      "/media/caishuman/csstorage3/Austin/CircleTrack/CircleTrackAnalysis/MultiCon_Behavior/BehaviorCohort1/../../circletrack_behavior.py:1055: RuntimeWarning:\n",
      "\n",
      "invalid value encountered in scalar divide\n",
      "\n",
      "/media/caishuman/csstorage3/Austin/CircleTrack/CircleTrackAnalysis/MultiCon_Behavior/BehaviorCohort1/../../circletrack_behavior.py:1055: RuntimeWarning:\n",
      "\n",
      "invalid value encountered in scalar divide\n",
      "\n",
      "/media/caishuman/csstorage3/Austin/CircleTrack/CircleTrackAnalysis/MultiCon_Behavior/BehaviorCohort1/../../circletrack_behavior.py:1055: RuntimeWarning:\n",
      "\n",
      "invalid value encountered in scalar divide\n",
      "\n",
      "/media/caishuman/csstorage3/Austin/CircleTrack/CircleTrackAnalysis/MultiCon_Behavior/BehaviorCohort1/../../circletrack_behavior.py:1055: RuntimeWarning:\n",
      "\n",
      "invalid value encountered in scalar divide\n",
      "\n",
      "/media/caishuman/csstorage3/Austin/CircleTrack/CircleTrackAnalysis/MultiCon_Behavior/BehaviorCohort1/../../circletrack_behavior.py:1055: RuntimeWarning:\n",
      "\n",
      "invalid value encountered in scalar divide\n",
      "\n",
      "/media/caishuman/csstorage3/Austin/CircleTrack/CircleTrackAnalysis/MultiCon_Behavior/BehaviorCohort1/../../circletrack_behavior.py:1055: RuntimeWarning:\n",
      "\n",
      "invalid value encountered in scalar divide\n",
      "\n",
      "/media/caishuman/csstorage3/Austin/CircleTrack/CircleTrackAnalysis/MultiCon_Behavior/BehaviorCohort1/../../circletrack_behavior.py:1055: RuntimeWarning:\n",
      "\n",
      "invalid value encountered in scalar divide\n",
      "\n",
      "/media/caishuman/csstorage3/Austin/CircleTrack/CircleTrackAnalysis/MultiCon_Behavior/BehaviorCohort1/../../circletrack_behavior.py:977: RuntimeWarning:\n",
      "\n",
      "Mean of empty slice\n",
      "\n",
      "/media/caishuman/csstorage3/Austin/CircleTrack/CircleTrackAnalysis/MultiCon_Behavior/BehaviorCohort1/../../circletrack_behavior.py:1055: RuntimeWarning:\n",
      "\n",
      "invalid value encountered in scalar divide\n",
      "\n",
      "/media/caishuman/csstorage3/Austin/CircleTrack/CircleTrackAnalysis/MultiCon_Behavior/BehaviorCohort1/../../circletrack_behavior.py:1055: RuntimeWarning:\n",
      "\n",
      "invalid value encountered in scalar divide\n",
      "\n",
      "/media/caishuman/csstorage3/Austin/CircleTrack/CircleTrackAnalysis/MultiCon_Behavior/BehaviorCohort1/../../circletrack_behavior.py:1055: RuntimeWarning:\n",
      "\n",
      "invalid value encountered in scalar divide\n",
      "\n",
      "/media/caishuman/csstorage3/Austin/CircleTrack/CircleTrackAnalysis/MultiCon_Behavior/BehaviorCohort1/../../circletrack_behavior.py:1055: RuntimeWarning:\n",
      "\n",
      "invalid value encountered in scalar divide\n",
      "\n",
      "/media/caishuman/csstorage3/Austin/CircleTrack/CircleTrackAnalysis/MultiCon_Behavior/BehaviorCohort1/../../circletrack_behavior.py:1055: RuntimeWarning:\n",
      "\n",
      "invalid value encountered in scalar divide\n",
      "\n",
      "/media/caishuman/csstorage3/Austin/CircleTrack/CircleTrackAnalysis/MultiCon_Behavior/BehaviorCohort1/../../circletrack_behavior.py:1055: RuntimeWarning:\n",
      "\n",
      "invalid value encountered in scalar divide\n",
      "\n",
      "/media/caishuman/csstorage3/Austin/CircleTrack/CircleTrackAnalysis/MultiCon_Behavior/BehaviorCohort1/../../circletrack_behavior.py:1055: RuntimeWarning:\n",
      "\n",
      "invalid value encountered in scalar divide\n",
      "\n",
      "/media/caishuman/csstorage3/Austin/CircleTrack/CircleTrackAnalysis/MultiCon_Behavior/BehaviorCohort1/../../circletrack_behavior.py:1055: RuntimeWarning:\n",
      "\n",
      "invalid value encountered in scalar divide\n",
      "\n",
      "/media/caishuman/csstorage3/Austin/CircleTrack/CircleTrackAnalysis/MultiCon_Behavior/BehaviorCohort1/../../circletrack_behavior.py:1055: RuntimeWarning:\n",
      "\n",
      "invalid value encountered in scalar divide\n",
      "\n"
     ]
    },
    {
     "data": {
      "application/vnd.plotly.v1+json": {
       "config": {
        "plotlyServerURL": "https://plot.ly"
       },
       "data": [
        {
         "line": {
          "color": "lightblue"
         },
         "mode": "lines",
         "name": "ms01",
         "opacity": 0.8,
         "showlegend": false,
         "type": "scatter",
         "x": [
          4,
          8,
          12,
          16
         ],
         "xaxis": "x",
         "y": [
          41.66666666666666,
          33.33333333333333,
          25.833333333333332,
          33.333333333333336
         ],
         "yaxis": "y"
        },
        {
         "line": {
          "color": "lightblue"
         },
         "mode": "lines",
         "name": "ms02",
         "opacity": 0.8,
         "showlegend": false,
         "type": "scatter",
         "x": [
          4,
          8,
          12,
          16,
          20,
          24,
          28,
          32,
          36
         ],
         "xaxis": "x",
         "y": [
          39.61538461538461,
          54.166666666666664,
          66.66666666666666,
          83.33333333333331,
          64.58333333333333,
          43.75,
          72.5,
          41.07142857142857,
          50
         ],
         "yaxis": "y"
        },
        {
         "line": {
          "color": "lightblue"
         },
         "mode": "lines",
         "name": "ms03",
         "opacity": 0.8,
         "showlegend": false,
         "type": "scatter",
         "x": [
          4,
          8,
          12,
          16,
          20,
          24,
          28
         ],
         "xaxis": "x",
         "y": [
          26.818181818181817,
          39.166666666666664,
          79.16666666666666,
          56.25,
          37.5,
          91.66666666666666,
          37.5
         ],
         "yaxis": "y"
        },
        {
         "line": {
          "color": "lightblue"
         },
         "mode": "lines",
         "name": "ms04",
         "opacity": 0.8,
         "showlegend": false,
         "type": "scatter",
         "x": [
          4,
          8,
          12,
          16,
          20
         ],
         "xaxis": "x",
         "y": [
          25,
          19.642857142857142,
          20.476190476190474,
          20.806277056277054,
          0
         ],
         "yaxis": "y"
        },
        {
         "line": {
          "color": "lightblue"
         },
         "mode": "lines",
         "name": "ms05",
         "opacity": 0.8,
         "showlegend": false,
         "type": "scatter",
         "x": [
          4,
          8,
          12,
          16,
          20,
          24,
          28,
          32,
          36
         ],
         "xaxis": "x",
         "y": [
          8.333333333333332,
          50,
          50,
          53.03030303030303,
          43.75,
          25.833333333333332,
          48.33333333333333,
          39.61538461538461,
          50
         ],
         "yaxis": "y"
        },
        {
         "line": {
          "color": "lightblue"
         },
         "mode": "lines",
         "name": "ms06",
         "opacity": 0.8,
         "showlegend": false,
         "type": "scatter",
         "x": [
          4,
          8,
          12,
          16
         ],
         "xaxis": "x",
         "y": [
          null,
          null,
          null,
          null
         ],
         "yaxis": "y"
        },
        {
         "line": {
          "color": "lightblue"
         },
         "mode": "lines",
         "name": "ms07",
         "opacity": 0.8,
         "showlegend": false,
         "type": "scatter",
         "x": [
          4,
          8,
          12
         ],
         "xaxis": "x",
         "y": [
          29.126984126984127,
          27.083333333333332,
          35.55555555555555
         ],
         "yaxis": "y"
        },
        {
         "line": {
          "color": "lightblue"
         },
         "mode": "lines",
         "name": "ms08",
         "opacity": 0.8,
         "showlegend": false,
         "type": "scatter",
         "x": [
          4,
          8,
          12,
          16,
          20,
          24,
          28,
          32,
          36
         ],
         "xaxis": "x",
         "y": [
          30.833333333333332,
          34.166666666666664,
          31.5018315018315,
          47.5,
          42.5,
          42.916666666666664,
          55.83333333333333,
          75,
          80.55555555555556
         ],
         "yaxis": "y"
        },
        {
         "line": {
          "color": "lightblue"
         },
         "mode": "lines",
         "name": "ms35",
         "opacity": 0.8,
         "showlegend": false,
         "type": "scatter",
         "x": [
          4,
          8,
          12,
          16,
          20,
          24
         ],
         "xaxis": "x",
         "y": [
          44.20995670995671,
          85.41666666666666,
          83.33333333333333,
          72.91666666666666,
          70.83333333333333,
          50
         ],
         "yaxis": "y"
        },
        {
         "line": {
          "color": "lightblue"
         },
         "mode": "lines",
         "name": "ms36",
         "opacity": 0.8,
         "showlegend": false,
         "type": "scatter",
         "x": [
          4,
          8,
          12,
          16,
          20,
          24,
          28,
          32
         ],
         "xaxis": "x",
         "y": [
          45,
          70.83333333333333,
          69.44444444444444,
          72.91666666666666,
          79.16666666666666,
          78.33333333333333,
          77.08333333333333,
          75
         ],
         "yaxis": "y"
        },
        {
         "line": {
          "color": "lightblue"
         },
         "mode": "lines",
         "name": "ms37",
         "opacity": 0.8,
         "showlegend": false,
         "type": "scatter",
         "x": [
          4,
          8,
          12
         ],
         "xaxis": "x",
         "y": [
          58.33333333333333,
          100,
          null
         ],
         "yaxis": "y"
        },
        {
         "line": {
          "color": "lightblue"
         },
         "mode": "lines",
         "name": "ms38",
         "opacity": 0.8,
         "showlegend": false,
         "type": "scatter",
         "x": [
          4,
          8,
          12,
          16,
          20,
          24
         ],
         "xaxis": "x",
         "y": [
          56.25,
          87.85714285714286,
          100,
          100,
          100,
          72.22222222222221
         ],
         "yaxis": "y"
        },
        {
         "line": {
          "color": "lightblue"
         },
         "mode": "lines",
         "name": "ms39",
         "opacity": 0.8,
         "showlegend": false,
         "type": "scatter",
         "x": [
          4,
          8,
          12,
          16
         ],
         "xaxis": "x",
         "y": [
          18.055555555555557,
          16.666666666666664,
          38.148148148148145,
          20.535714285714285
         ],
         "yaxis": "y"
        },
        {
         "line": {
          "color": "lightblue"
         },
         "mode": "lines",
         "name": "ms40",
         "opacity": 0.8,
         "showlegend": false,
         "type": "scatter",
         "x": [
          4,
          8,
          12
         ],
         "xaxis": "x",
         "y": [
          41.964285714285715,
          41.666666666666664,
          33.33333333333333
         ],
         "yaxis": "y"
        },
        {
         "line": {
          "color": "darkorchid"
         },
         "mode": "lines",
         "name": "ms09",
         "opacity": 0.8,
         "showlegend": false,
         "type": "scatter",
         "x": [
          4,
          8,
          12,
          16,
          20
         ],
         "xaxis": "x2",
         "y": [
          12.222222222222221,
          16.666666666666664,
          0,
          66.66666666666666,
          null
         ],
         "yaxis": "y2"
        },
        {
         "line": {
          "color": "darkgrey"
         },
         "mode": "lines",
         "name": "ms10",
         "opacity": 0.8,
         "showlegend": false,
         "type": "scatter",
         "x": [
          4,
          8,
          12,
          16,
          20,
          24
         ],
         "xaxis": "x3",
         "y": [
          27.08333333333333,
          35.416666666666664,
          75,
          60.714285714285715,
          43.33333333333333,
          100
         ],
         "yaxis": "y3"
        },
        {
         "line": {
          "color": "darkorchid"
         },
         "mode": "lines",
         "name": "ms11",
         "opacity": 0.8,
         "showlegend": false,
         "type": "scatter",
         "x": [
          4,
          8,
          12,
          16,
          20,
          24,
          28
         ],
         "xaxis": "x2",
         "y": [
          79.16666666666666,
          93.75,
          100,
          100,
          90.47619047619048,
          100,
          100
         ],
         "yaxis": "y2"
        },
        {
         "line": {
          "color": "darkorchid"
         },
         "mode": "lines",
         "name": "ms12",
         "opacity": 0.8,
         "showlegend": false,
         "type": "scatter",
         "x": [
          4,
          8,
          12,
          16,
          20,
          24,
          28,
          32,
          36,
          40,
          44,
          48
         ],
         "xaxis": "x2",
         "y": [
          34.226190476190474,
          37.65151515151515,
          63.541666666666664,
          75,
          91.66666666666666,
          91.66666666666666,
          91.66666666666666,
          75,
          75,
          87.5,
          69.64285714285714,
          83.33333333333333
         ],
         "yaxis": "y2"
        },
        {
         "line": {
          "color": "darkgrey"
         },
         "mode": "lines",
         "name": "ms13",
         "opacity": 0.8,
         "showlegend": false,
         "type": "scatter",
         "x": [
          4,
          8,
          12,
          16,
          20
         ],
         "xaxis": "x3",
         "y": [
          43.75,
          50,
          50,
          0,
          0
         ],
         "yaxis": "y3"
        },
        {
         "line": {
          "color": "darkgrey"
         },
         "mode": "lines",
         "name": "ms14",
         "opacity": 0.8,
         "showlegend": false,
         "type": "scatter",
         "x": [
          4,
          8,
          12,
          16,
          20,
          24,
          28
         ],
         "xaxis": "x3",
         "y": [
          48.8095238095238,
          41.547619047619044,
          34.861111111111114,
          70.83333333333333,
          79.16666666666666,
          56.54761904761905,
          100
         ],
         "yaxis": "y3"
        },
        {
         "line": {
          "color": "darkgrey"
         },
         "mode": "lines",
         "name": "ms15",
         "opacity": 0.8,
         "showlegend": false,
         "type": "scatter",
         "x": [
          4,
          8,
          12,
          16,
          20,
          24,
          28,
          32,
          36,
          40
         ],
         "xaxis": "x3",
         "y": [
          72.5,
          86.66666666666666,
          91.66666666666666,
          100,
          100,
          88.09523809523809,
          100,
          100,
          70.41666666666666,
          100
         ],
         "yaxis": "y3"
        },
        {
         "line": {
          "color": "darkgrey"
         },
         "mode": "lines",
         "name": "ms16",
         "opacity": 0.8,
         "showlegend": false,
         "type": "scatter",
         "x": [
          4,
          8,
          12,
          16,
          20,
          24,
          28
         ],
         "xaxis": "x3",
         "y": [
          67.22222222222221,
          50.297619047619044,
          85.71428571428572,
          100,
          90,
          91.66666666666666,
          88.88888888888887
         ],
         "yaxis": "y3"
        },
        {
         "line": {
          "color": "darkorchid"
         },
         "mode": "lines",
         "name": "ms17",
         "opacity": 0.8,
         "showlegend": false,
         "type": "scatter",
         "x": [
          4,
          8,
          12,
          16,
          20,
          24,
          28,
          32,
          36,
          40,
          44
         ],
         "xaxis": "x2",
         "y": [
          64.16666666666666,
          64.58333333333333,
          91.66666666666666,
          100,
          75,
          91.66666666666666,
          80.3030303030303,
          100,
          100,
          100,
          55.75757575757576
         ],
         "yaxis": "y2"
        },
        {
         "line": {
          "color": "darkgrey"
         },
         "mode": "lines",
         "name": "ms18",
         "opacity": 0.8,
         "showlegend": false,
         "type": "scatter",
         "x": [
          4,
          8,
          12,
          16
         ],
         "xaxis": "x3",
         "y": [
          27.82051282051282,
          12.5,
          36.25,
          33.333333333333336
         ],
         "yaxis": "y3"
        },
        {
         "line": {
          "color": "darkorchid"
         },
         "mode": "lines",
         "name": "ms19",
         "opacity": 0.8,
         "showlegend": false,
         "type": "scatter",
         "x": [
          4,
          8,
          12
         ],
         "xaxis": "x2",
         "y": [
          27.777777777777775,
          35.83333333333333,
          16.666666666666664
         ],
         "yaxis": "y2"
        },
        {
         "line": {
          "color": "darkgrey"
         },
         "mode": "lines",
         "name": "ms20",
         "opacity": 0.8,
         "showlegend": false,
         "type": "scatter",
         "x": [
          4,
          8,
          12,
          16,
          20,
          24,
          28,
          32,
          36,
          40,
          44,
          48,
          52,
          56
         ],
         "xaxis": "x3",
         "y": [
          100,
          100,
          91.66666666666666,
          91.66666666666666,
          88.75,
          100,
          93.75,
          84.375,
          93.75,
          93.75,
          88.75,
          66.66666666666667,
          100,
          100
         ],
         "yaxis": "y3"
        },
        {
         "line": {
          "color": "darkorchid"
         },
         "mode": "lines",
         "name": "ms21",
         "opacity": 0.8,
         "showlegend": false,
         "type": "scatter",
         "x": [
          4,
          8,
          12,
          16,
          20,
          24
         ],
         "xaxis": "x2",
         "y": [
          42.5,
          16.666666666666668,
          58.33333333333333,
          16.666666666666668,
          75,
          20
         ],
         "yaxis": "y2"
        },
        {
         "line": {
          "color": "darkgrey"
         },
         "mode": "lines",
         "name": "ms22",
         "opacity": 0.8,
         "showlegend": false,
         "type": "scatter",
         "x": [
          4,
          8,
          12
         ],
         "xaxis": "x3",
         "y": [
          29.375,
          39.58333333333333,
          50
         ],
         "yaxis": "y3"
        },
        {
         "line": {
          "color": "darkgrey"
         },
         "mode": "lines",
         "name": "ms23",
         "opacity": 0.8,
         "showlegend": false,
         "type": "scatter",
         "x": [
          4,
          8,
          12,
          16
         ],
         "xaxis": "x3",
         "y": [
          27.777777777777775,
          0,
          27.777777777777775,
          50
         ],
         "yaxis": "y3"
        },
        {
         "line": {
          "color": "darkgrey"
         },
         "mode": "lines",
         "name": "ms24",
         "opacity": 0.8,
         "showlegend": false,
         "type": "scatter",
         "x": [
          4,
          8,
          12,
          16,
          20,
          24
         ],
         "xaxis": "x3",
         "y": [
          12.5,
          36.041666666666664,
          34.04626623376623,
          30.95238095238095,
          39.48863636363636,
          50
         ],
         "yaxis": "y3"
        },
        {
         "line": {
          "color": "darkgrey"
         },
         "mode": "lines",
         "name": "ms25",
         "opacity": 0.8,
         "showlegend": false,
         "type": "scatter",
         "x": [
          4,
          8,
          12,
          16,
          20,
          24
         ],
         "xaxis": "x3",
         "y": [
          29.16666666666666,
          31.38888888888889,
          18.253968253968253,
          22.916666666666664,
          20.138888888888886,
          25
         ],
         "yaxis": "y3"
        },
        {
         "line": {
          "color": "darkorchid"
         },
         "mode": "lines",
         "name": "ms26",
         "opacity": 0.8,
         "showlegend": false,
         "type": "scatter",
         "x": [
          4,
          8,
          12,
          16,
          20,
          24,
          28,
          32,
          36,
          40
         ],
         "xaxis": "x2",
         "y": [
          58.33333333333333,
          79.16666666666666,
          91.66666666666666,
          87.5,
          87.5,
          75,
          81.25,
          93.75,
          83.33333333333333,
          77.5
         ],
         "yaxis": "y2"
        },
        {
         "line": {
          "color": "darkorchid"
         },
         "mode": "lines",
         "name": "ms27",
         "opacity": 0.8,
         "showlegend": false,
         "type": "scatter",
         "x": [
          4,
          8,
          12,
          16,
          20,
          24,
          28
         ],
         "xaxis": "x2",
         "y": [
          75,
          85.41666666666666,
          81.25,
          56.666666666666664,
          91.66666666666666,
          66.66666666666666,
          93.33333333333333
         ],
         "yaxis": "y2"
        },
        {
         "line": {
          "color": "darkgrey"
         },
         "mode": "lines",
         "name": "ms28",
         "opacity": 0.8,
         "showlegend": false,
         "type": "scatter",
         "x": [
          4,
          8,
          12
         ],
         "xaxis": "x3",
         "y": [
          33.33333333333333,
          29.166666666666664,
          50
         ],
         "yaxis": "y3"
        },
        {
         "line": {
          "color": "darkgrey"
         },
         "mode": "lines",
         "name": "ms29",
         "opacity": 0.8,
         "showlegend": false,
         "type": "scatter",
         "x": [
          4,
          8,
          12,
          16,
          20,
          24,
          28,
          32
         ],
         "xaxis": "x3",
         "y": [
          65.95238095238095,
          100,
          66.66666666666666,
          100,
          100,
          54.166666666666664,
          62.5,
          16.666666666666664
         ],
         "yaxis": "y3"
        },
        {
         "line": {
          "color": "darkorchid"
         },
         "mode": "lines",
         "name": "ms30",
         "opacity": 0.8,
         "showlegend": false,
         "type": "scatter",
         "x": [
          4,
          8,
          12,
          16,
          20,
          24,
          28,
          32,
          36,
          40,
          44,
          48,
          52,
          56
         ],
         "xaxis": "x2",
         "y": [
          37.5,
          25,
          54.166666666666664,
          100,
          75,
          91.66666666666666,
          87.5,
          75,
          70,
          66.66666666666666,
          25,
          44.444444444444436,
          null,
          null
         ],
         "yaxis": "y2"
        },
        {
         "line": {
          "color": "darkorchid"
         },
         "mode": "lines",
         "name": "ms31",
         "opacity": 0.8,
         "showlegend": false,
         "type": "scatter",
         "x": [
          4,
          8,
          12,
          16,
          20,
          24,
          28,
          32,
          36,
          40,
          44,
          48
         ],
         "xaxis": "x2",
         "y": [
          38.39285714285714,
          62.5,
          72.91666666666666,
          100,
          66.66666666666667,
          75,
          91.66666666666666,
          88.88888888888887,
          91.66666666666666,
          100,
          50,
          75
         ],
         "yaxis": "y2"
        },
        {
         "line": {
          "color": "darkgrey"
         },
         "mode": "lines",
         "name": "ms32",
         "opacity": 0.8,
         "showlegend": false,
         "type": "scatter",
         "x": [
          4,
          8,
          12,
          16,
          20
         ],
         "xaxis": "x3",
         "y": [
          11.904761904761903,
          36.25,
          17.55952380952381,
          37.5,
          100
         ],
         "yaxis": "y3"
        },
        {
         "line": {
          "color": "darkorchid"
         },
         "mode": "lines",
         "name": "ms33",
         "opacity": 0.8,
         "showlegend": false,
         "type": "scatter",
         "x": [
          4,
          8,
          12,
          16,
          20,
          24
         ],
         "xaxis": "x2",
         "y": [
          90,
          91.66666666666666,
          80,
          66.66666666666666,
          81.25,
          33.33333333333333
         ],
         "yaxis": "y2"
        },
        {
         "line": {
          "color": "darkorchid"
         },
         "mode": "lines",
         "name": "ms34",
         "opacity": 0.8,
         "showlegend": false,
         "type": "scatter",
         "x": [
          4,
          8,
          12,
          16,
          20,
          24
         ],
         "xaxis": "x2",
         "y": [
          27.777777777777775,
          38.33333333333333,
          56.547619047619044,
          59.52380952380952,
          33.33333333333333,
          75
         ],
         "yaxis": "y2"
        }
       ],
       "layout": {
        "annotations": [
         {
          "font": {
           "size": 22
          },
          "showarrow": false,
          "text": "Fixed",
          "x": 0.14444444444444446,
          "xanchor": "center",
          "xref": "paper",
          "y": 1,
          "yanchor": "bottom",
          "yref": "paper"
         },
         {
          "font": {
           "size": 22
          },
          "showarrow": false,
          "text": "Criteria",
          "x": 0.5,
          "xanchor": "center",
          "xref": "paper",
          "y": 1,
          "yanchor": "bottom",
          "yref": "paper"
         },
         {
          "font": {
           "size": 22
          },
          "showarrow": false,
          "text": "Criteria+5",
          "x": 0.8555555555555556,
          "xanchor": "center",
          "xref": "paper",
          "y": 1,
          "yanchor": "bottom",
          "yref": "paper"
         }
        ],
        "font": {
         "family": "Arial",
         "size": 22
        },
        "height": 500,
        "shapes": [
         {
          "line": {
           "color": "darkgrey",
           "dash": "dash",
           "width": 1
          },
          "opacity": 1,
          "type": "line",
          "x0": 0,
          "x1": 1,
          "xref": "x domain",
          "y0": 75,
          "y1": 75,
          "yref": "y"
         },
         {
          "line": {
           "color": "darkgrey",
           "dash": "dash",
           "width": 1
          },
          "opacity": 1,
          "type": "line",
          "x0": 0,
          "x1": 1,
          "xref": "x2 domain",
          "y0": 75,
          "y1": 75,
          "yref": "y2"
         },
         {
          "line": {
           "color": "darkgrey",
           "dash": "dash",
           "width": 1
          },
          "opacity": 1,
          "type": "line",
          "x0": 0,
          "x1": 1,
          "xref": "x3 domain",
          "y0": 75,
          "y1": 75,
          "yref": "y3"
         },
         {
          "line": {
           "color": "darkgrey",
           "dash": "dash",
           "width": 1
          },
          "opacity": 1,
          "type": "line",
          "x0": 0,
          "x1": 1,
          "xref": "x domain",
          "y0": 25,
          "y1": 25,
          "yref": "y"
         },
         {
          "line": {
           "color": "darkgrey",
           "dash": "dash",
           "width": 1
          },
          "opacity": 1,
          "type": "line",
          "x0": 0,
          "x1": 1,
          "xref": "x2 domain",
          "y0": 25,
          "y1": 25,
          "yref": "y2"
         },
         {
          "line": {
           "color": "darkgrey",
           "dash": "dash",
           "width": 1
          },
          "opacity": 1,
          "type": "line",
          "x0": 0,
          "x1": 1,
          "xref": "x3 domain",
          "y0": 25,
          "y1": 25,
          "yref": "y3"
         }
        ],
        "template": {
         "data": {
          "bar": [
           {
            "error_x": {
             "color": "rgb(36,36,36)"
            },
            "error_y": {
             "color": "rgb(36,36,36)"
            },
            "marker": {
             "line": {
              "color": "white",
              "width": 0.5
             },
             "pattern": {
              "fillmode": "overlay",
              "size": 10,
              "solidity": 0.2
             }
            },
            "type": "bar"
           }
          ],
          "barpolar": [
           {
            "marker": {
             "line": {
              "color": "white",
              "width": 0.5
             },
             "pattern": {
              "fillmode": "overlay",
              "size": 10,
              "solidity": 0.2
             }
            },
            "type": "barpolar"
           }
          ],
          "carpet": [
           {
            "aaxis": {
             "endlinecolor": "rgb(36,36,36)",
             "gridcolor": "white",
             "linecolor": "white",
             "minorgridcolor": "white",
             "startlinecolor": "rgb(36,36,36)"
            },
            "baxis": {
             "endlinecolor": "rgb(36,36,36)",
             "gridcolor": "white",
             "linecolor": "white",
             "minorgridcolor": "white",
             "startlinecolor": "rgb(36,36,36)"
            },
            "type": "carpet"
           }
          ],
          "choropleth": [
           {
            "colorbar": {
             "outlinewidth": 1,
             "tickcolor": "rgb(36,36,36)",
             "ticks": "outside"
            },
            "type": "choropleth"
           }
          ],
          "contour": [
           {
            "colorbar": {
             "outlinewidth": 1,
             "tickcolor": "rgb(36,36,36)",
             "ticks": "outside"
            },
            "colorscale": [
             [
              0,
              "#440154"
             ],
             [
              0.1111111111111111,
              "#482878"
             ],
             [
              0.2222222222222222,
              "#3e4989"
             ],
             [
              0.3333333333333333,
              "#31688e"
             ],
             [
              0.4444444444444444,
              "#26828e"
             ],
             [
              0.5555555555555556,
              "#1f9e89"
             ],
             [
              0.6666666666666666,
              "#35b779"
             ],
             [
              0.7777777777777778,
              "#6ece58"
             ],
             [
              0.8888888888888888,
              "#b5de2b"
             ],
             [
              1,
              "#fde725"
             ]
            ],
            "type": "contour"
           }
          ],
          "contourcarpet": [
           {
            "colorbar": {
             "outlinewidth": 1,
             "tickcolor": "rgb(36,36,36)",
             "ticks": "outside"
            },
            "type": "contourcarpet"
           }
          ],
          "heatmap": [
           {
            "colorbar": {
             "outlinewidth": 1,
             "tickcolor": "rgb(36,36,36)",
             "ticks": "outside"
            },
            "colorscale": [
             [
              0,
              "#440154"
             ],
             [
              0.1111111111111111,
              "#482878"
             ],
             [
              0.2222222222222222,
              "#3e4989"
             ],
             [
              0.3333333333333333,
              "#31688e"
             ],
             [
              0.4444444444444444,
              "#26828e"
             ],
             [
              0.5555555555555556,
              "#1f9e89"
             ],
             [
              0.6666666666666666,
              "#35b779"
             ],
             [
              0.7777777777777778,
              "#6ece58"
             ],
             [
              0.8888888888888888,
              "#b5de2b"
             ],
             [
              1,
              "#fde725"
             ]
            ],
            "type": "heatmap"
           }
          ],
          "heatmapgl": [
           {
            "colorbar": {
             "outlinewidth": 1,
             "tickcolor": "rgb(36,36,36)",
             "ticks": "outside"
            },
            "colorscale": [
             [
              0,
              "#440154"
             ],
             [
              0.1111111111111111,
              "#482878"
             ],
             [
              0.2222222222222222,
              "#3e4989"
             ],
             [
              0.3333333333333333,
              "#31688e"
             ],
             [
              0.4444444444444444,
              "#26828e"
             ],
             [
              0.5555555555555556,
              "#1f9e89"
             ],
             [
              0.6666666666666666,
              "#35b779"
             ],
             [
              0.7777777777777778,
              "#6ece58"
             ],
             [
              0.8888888888888888,
              "#b5de2b"
             ],
             [
              1,
              "#fde725"
             ]
            ],
            "type": "heatmapgl"
           }
          ],
          "histogram": [
           {
            "marker": {
             "line": {
              "color": "white",
              "width": 0.6
             }
            },
            "type": "histogram"
           }
          ],
          "histogram2d": [
           {
            "colorbar": {
             "outlinewidth": 1,
             "tickcolor": "rgb(36,36,36)",
             "ticks": "outside"
            },
            "colorscale": [
             [
              0,
              "#440154"
             ],
             [
              0.1111111111111111,
              "#482878"
             ],
             [
              0.2222222222222222,
              "#3e4989"
             ],
             [
              0.3333333333333333,
              "#31688e"
             ],
             [
              0.4444444444444444,
              "#26828e"
             ],
             [
              0.5555555555555556,
              "#1f9e89"
             ],
             [
              0.6666666666666666,
              "#35b779"
             ],
             [
              0.7777777777777778,
              "#6ece58"
             ],
             [
              0.8888888888888888,
              "#b5de2b"
             ],
             [
              1,
              "#fde725"
             ]
            ],
            "type": "histogram2d"
           }
          ],
          "histogram2dcontour": [
           {
            "colorbar": {
             "outlinewidth": 1,
             "tickcolor": "rgb(36,36,36)",
             "ticks": "outside"
            },
            "colorscale": [
             [
              0,
              "#440154"
             ],
             [
              0.1111111111111111,
              "#482878"
             ],
             [
              0.2222222222222222,
              "#3e4989"
             ],
             [
              0.3333333333333333,
              "#31688e"
             ],
             [
              0.4444444444444444,
              "#26828e"
             ],
             [
              0.5555555555555556,
              "#1f9e89"
             ],
             [
              0.6666666666666666,
              "#35b779"
             ],
             [
              0.7777777777777778,
              "#6ece58"
             ],
             [
              0.8888888888888888,
              "#b5de2b"
             ],
             [
              1,
              "#fde725"
             ]
            ],
            "type": "histogram2dcontour"
           }
          ],
          "mesh3d": [
           {
            "colorbar": {
             "outlinewidth": 1,
             "tickcolor": "rgb(36,36,36)",
             "ticks": "outside"
            },
            "type": "mesh3d"
           }
          ],
          "parcoords": [
           {
            "line": {
             "colorbar": {
              "outlinewidth": 1,
              "tickcolor": "rgb(36,36,36)",
              "ticks": "outside"
             }
            },
            "type": "parcoords"
           }
          ],
          "pie": [
           {
            "automargin": true,
            "type": "pie"
           }
          ],
          "scatter": [
           {
            "fillpattern": {
             "fillmode": "overlay",
             "size": 10,
             "solidity": 0.2
            },
            "type": "scatter"
           }
          ],
          "scatter3d": [
           {
            "line": {
             "colorbar": {
              "outlinewidth": 1,
              "tickcolor": "rgb(36,36,36)",
              "ticks": "outside"
             }
            },
            "marker": {
             "colorbar": {
              "outlinewidth": 1,
              "tickcolor": "rgb(36,36,36)",
              "ticks": "outside"
             }
            },
            "type": "scatter3d"
           }
          ],
          "scattercarpet": [
           {
            "marker": {
             "colorbar": {
              "outlinewidth": 1,
              "tickcolor": "rgb(36,36,36)",
              "ticks": "outside"
             }
            },
            "type": "scattercarpet"
           }
          ],
          "scattergeo": [
           {
            "marker": {
             "colorbar": {
              "outlinewidth": 1,
              "tickcolor": "rgb(36,36,36)",
              "ticks": "outside"
             }
            },
            "type": "scattergeo"
           }
          ],
          "scattergl": [
           {
            "marker": {
             "colorbar": {
              "outlinewidth": 1,
              "tickcolor": "rgb(36,36,36)",
              "ticks": "outside"
             }
            },
            "type": "scattergl"
           }
          ],
          "scattermapbox": [
           {
            "marker": {
             "colorbar": {
              "outlinewidth": 1,
              "tickcolor": "rgb(36,36,36)",
              "ticks": "outside"
             }
            },
            "type": "scattermapbox"
           }
          ],
          "scatterpolar": [
           {
            "marker": {
             "colorbar": {
              "outlinewidth": 1,
              "tickcolor": "rgb(36,36,36)",
              "ticks": "outside"
             }
            },
            "type": "scatterpolar"
           }
          ],
          "scatterpolargl": [
           {
            "marker": {
             "colorbar": {
              "outlinewidth": 1,
              "tickcolor": "rgb(36,36,36)",
              "ticks": "outside"
             }
            },
            "type": "scatterpolargl"
           }
          ],
          "scatterternary": [
           {
            "marker": {
             "colorbar": {
              "outlinewidth": 1,
              "tickcolor": "rgb(36,36,36)",
              "ticks": "outside"
             }
            },
            "type": "scatterternary"
           }
          ],
          "surface": [
           {
            "colorbar": {
             "outlinewidth": 1,
             "tickcolor": "rgb(36,36,36)",
             "ticks": "outside"
            },
            "colorscale": [
             [
              0,
              "#440154"
             ],
             [
              0.1111111111111111,
              "#482878"
             ],
             [
              0.2222222222222222,
              "#3e4989"
             ],
             [
              0.3333333333333333,
              "#31688e"
             ],
             [
              0.4444444444444444,
              "#26828e"
             ],
             [
              0.5555555555555556,
              "#1f9e89"
             ],
             [
              0.6666666666666666,
              "#35b779"
             ],
             [
              0.7777777777777778,
              "#6ece58"
             ],
             [
              0.8888888888888888,
              "#b5de2b"
             ],
             [
              1,
              "#fde725"
             ]
            ],
            "type": "surface"
           }
          ],
          "table": [
           {
            "cells": {
             "fill": {
              "color": "rgb(237,237,237)"
             },
             "line": {
              "color": "white"
             }
            },
            "header": {
             "fill": {
              "color": "rgb(217,217,217)"
             },
             "line": {
              "color": "white"
             }
            },
            "type": "table"
           }
          ]
         },
         "layout": {
          "annotationdefaults": {
           "arrowhead": 0,
           "arrowwidth": 1
          },
          "autotypenumbers": "strict",
          "coloraxis": {
           "colorbar": {
            "outlinewidth": 1,
            "tickcolor": "rgb(36,36,36)",
            "ticks": "outside"
           }
          },
          "colorscale": {
           "diverging": [
            [
             0,
             "rgb(103,0,31)"
            ],
            [
             0.1,
             "rgb(178,24,43)"
            ],
            [
             0.2,
             "rgb(214,96,77)"
            ],
            [
             0.3,
             "rgb(244,165,130)"
            ],
            [
             0.4,
             "rgb(253,219,199)"
            ],
            [
             0.5,
             "rgb(247,247,247)"
            ],
            [
             0.6,
             "rgb(209,229,240)"
            ],
            [
             0.7,
             "rgb(146,197,222)"
            ],
            [
             0.8,
             "rgb(67,147,195)"
            ],
            [
             0.9,
             "rgb(33,102,172)"
            ],
            [
             1,
             "rgb(5,48,97)"
            ]
           ],
           "sequential": [
            [
             0,
             "#440154"
            ],
            [
             0.1111111111111111,
             "#482878"
            ],
            [
             0.2222222222222222,
             "#3e4989"
            ],
            [
             0.3333333333333333,
             "#31688e"
            ],
            [
             0.4444444444444444,
             "#26828e"
            ],
            [
             0.5555555555555556,
             "#1f9e89"
            ],
            [
             0.6666666666666666,
             "#35b779"
            ],
            [
             0.7777777777777778,
             "#6ece58"
            ],
            [
             0.8888888888888888,
             "#b5de2b"
            ],
            [
             1,
             "#fde725"
            ]
           ],
           "sequentialminus": [
            [
             0,
             "#440154"
            ],
            [
             0.1111111111111111,
             "#482878"
            ],
            [
             0.2222222222222222,
             "#3e4989"
            ],
            [
             0.3333333333333333,
             "#31688e"
            ],
            [
             0.4444444444444444,
             "#26828e"
            ],
            [
             0.5555555555555556,
             "#1f9e89"
            ],
            [
             0.6666666666666666,
             "#35b779"
            ],
            [
             0.7777777777777778,
             "#6ece58"
            ],
            [
             0.8888888888888888,
             "#b5de2b"
            ],
            [
             1,
             "#fde725"
            ]
           ]
          },
          "colorway": [
           "#1F77B4",
           "#FF7F0E",
           "#2CA02C",
           "#D62728",
           "#9467BD",
           "#8C564B",
           "#E377C2",
           "#7F7F7F",
           "#BCBD22",
           "#17BECF"
          ],
          "font": {
           "color": "rgb(36,36,36)"
          },
          "geo": {
           "bgcolor": "white",
           "lakecolor": "white",
           "landcolor": "white",
           "showlakes": true,
           "showland": true,
           "subunitcolor": "white"
          },
          "hoverlabel": {
           "align": "left"
          },
          "hovermode": "closest",
          "mapbox": {
           "style": "light"
          },
          "paper_bgcolor": "white",
          "plot_bgcolor": "white",
          "polar": {
           "angularaxis": {
            "gridcolor": "rgb(232,232,232)",
            "linecolor": "rgb(36,36,36)",
            "showgrid": false,
            "showline": true,
            "ticks": "outside"
           },
           "bgcolor": "white",
           "radialaxis": {
            "gridcolor": "rgb(232,232,232)",
            "linecolor": "rgb(36,36,36)",
            "showgrid": false,
            "showline": true,
            "ticks": "outside"
           }
          },
          "scene": {
           "xaxis": {
            "backgroundcolor": "white",
            "gridcolor": "rgb(232,232,232)",
            "gridwidth": 2,
            "linecolor": "rgb(36,36,36)",
            "showbackground": true,
            "showgrid": false,
            "showline": true,
            "ticks": "outside",
            "zeroline": false,
            "zerolinecolor": "rgb(36,36,36)"
           },
           "yaxis": {
            "backgroundcolor": "white",
            "gridcolor": "rgb(232,232,232)",
            "gridwidth": 2,
            "linecolor": "rgb(36,36,36)",
            "showbackground": true,
            "showgrid": false,
            "showline": true,
            "ticks": "outside",
            "zeroline": false,
            "zerolinecolor": "rgb(36,36,36)"
           },
           "zaxis": {
            "backgroundcolor": "white",
            "gridcolor": "rgb(232,232,232)",
            "gridwidth": 2,
            "linecolor": "rgb(36,36,36)",
            "showbackground": true,
            "showgrid": false,
            "showline": true,
            "ticks": "outside",
            "zeroline": false,
            "zerolinecolor": "rgb(36,36,36)"
           }
          },
          "shapedefaults": {
           "fillcolor": "black",
           "line": {
            "width": 0
           },
           "opacity": 0.3
          },
          "ternary": {
           "aaxis": {
            "gridcolor": "rgb(232,232,232)",
            "linecolor": "rgb(36,36,36)",
            "showgrid": false,
            "showline": true,
            "ticks": "outside"
           },
           "baxis": {
            "gridcolor": "rgb(232,232,232)",
            "linecolor": "rgb(36,36,36)",
            "showgrid": false,
            "showline": true,
            "ticks": "outside"
           },
           "bgcolor": "white",
           "caxis": {
            "gridcolor": "rgb(232,232,232)",
            "linecolor": "rgb(36,36,36)",
            "showgrid": false,
            "showline": true,
            "ticks": "outside"
           }
          },
          "title": {
           "x": 0.05
          },
          "xaxis": {
           "automargin": true,
           "gridcolor": "rgb(232,232,232)",
           "linecolor": "rgb(36,36,36)",
           "showgrid": false,
           "showline": true,
           "ticks": "outside",
           "title": {
            "standoff": 15
           },
           "zeroline": false,
           "zerolinecolor": "rgb(36,36,36)"
          },
          "yaxis": {
           "automargin": true,
           "gridcolor": "rgb(232,232,232)",
           "linecolor": "rgb(36,36,36)",
           "showgrid": false,
           "showline": true,
           "ticks": "outside",
           "title": {
            "standoff": 15
           },
           "zeroline": false,
           "zerolinecolor": "rgb(36,36,36)"
          }
         }
        },
        "title": {
         "x": 0.5,
         "xanchor": "center",
         "y": 0.9,
         "yanchor": "top"
        },
        "width": 1000,
        "xaxis": {
         "anchor": "y",
         "domain": [
          0,
          0.2888888888888889
         ],
         "linewidth": 1.5,
         "matches": "x",
         "title": {
          "text": "Trial"
         }
        },
        "xaxis2": {
         "anchor": "y2",
         "domain": [
          0.35555555555555557,
          0.6444444444444445
         ],
         "linewidth": 1.5,
         "matches": "x",
         "title": {
          "text": "Trial"
         }
        },
        "xaxis3": {
         "anchor": "y3",
         "domain": [
          0.7111111111111111,
          1
         ],
         "linewidth": 1.5,
         "matches": "x",
         "title": {
          "text": "Trial"
         }
        },
        "yaxis": {
         "anchor": "x",
         "domain": [
          0,
          1
         ],
         "linewidth": 1.5,
         "matches": "y",
         "title": {
          "text": "Lick Accuracy (%)"
         }
        },
        "yaxis2": {
         "anchor": "x2",
         "domain": [
          0,
          1
         ],
         "linewidth": 1.5,
         "matches": "y",
         "showticklabels": false,
         "title": {
          "text": ""
         }
        },
        "yaxis3": {
         "anchor": "x3",
         "domain": [
          0,
          1
         ],
         "linewidth": 1.5,
         "matches": "y",
         "showticklabels": false,
         "title": {
          "text": ""
         }
        }
       }
      },
      "text/html": [
       "<div>                            <div id=\"24398b80-0179-4ae3-bb58-a5378de09189\" class=\"plotly-graph-div\" style=\"height:500px; width:1000px;\"></div>            <script type=\"text/javascript\">                require([\"plotly\"], function(Plotly) {                    window.PLOTLYENV=window.PLOTLYENV || {};                                    if (document.getElementById(\"24398b80-0179-4ae3-bb58-a5378de09189\")) {                    Plotly.newPlot(                        \"24398b80-0179-4ae3-bb58-a5378de09189\",                        [{\"line\":{\"color\":\"lightblue\"},\"mode\":\"lines\",\"name\":\"ms01\",\"opacity\":0.8,\"showlegend\":false,\"x\":[4,8,12,16],\"y\":[41.66666666666666,33.33333333333333,25.833333333333332,33.333333333333336],\"type\":\"scatter\",\"xaxis\":\"x\",\"yaxis\":\"y\"},{\"line\":{\"color\":\"lightblue\"},\"mode\":\"lines\",\"name\":\"ms02\",\"opacity\":0.8,\"showlegend\":false,\"x\":[4,8,12,16,20,24,28,32,36],\"y\":[39.61538461538461,54.166666666666664,66.66666666666666,83.33333333333331,64.58333333333333,43.75,72.5,41.07142857142857,50.0],\"type\":\"scatter\",\"xaxis\":\"x\",\"yaxis\":\"y\"},{\"line\":{\"color\":\"lightblue\"},\"mode\":\"lines\",\"name\":\"ms03\",\"opacity\":0.8,\"showlegend\":false,\"x\":[4,8,12,16,20,24,28],\"y\":[26.818181818181817,39.166666666666664,79.16666666666666,56.25,37.5,91.66666666666666,37.5],\"type\":\"scatter\",\"xaxis\":\"x\",\"yaxis\":\"y\"},{\"line\":{\"color\":\"lightblue\"},\"mode\":\"lines\",\"name\":\"ms04\",\"opacity\":0.8,\"showlegend\":false,\"x\":[4,8,12,16,20],\"y\":[25.0,19.642857142857142,20.476190476190474,20.806277056277054,0.0],\"type\":\"scatter\",\"xaxis\":\"x\",\"yaxis\":\"y\"},{\"line\":{\"color\":\"lightblue\"},\"mode\":\"lines\",\"name\":\"ms05\",\"opacity\":0.8,\"showlegend\":false,\"x\":[4,8,12,16,20,24,28,32,36],\"y\":[8.333333333333332,50.0,50.0,53.03030303030303,43.75,25.833333333333332,48.33333333333333,39.61538461538461,50.0],\"type\":\"scatter\",\"xaxis\":\"x\",\"yaxis\":\"y\"},{\"line\":{\"color\":\"lightblue\"},\"mode\":\"lines\",\"name\":\"ms06\",\"opacity\":0.8,\"showlegend\":false,\"x\":[4,8,12,16],\"y\":[null,null,null,null],\"type\":\"scatter\",\"xaxis\":\"x\",\"yaxis\":\"y\"},{\"line\":{\"color\":\"lightblue\"},\"mode\":\"lines\",\"name\":\"ms07\",\"opacity\":0.8,\"showlegend\":false,\"x\":[4,8,12],\"y\":[29.126984126984127,27.083333333333332,35.55555555555555],\"type\":\"scatter\",\"xaxis\":\"x\",\"yaxis\":\"y\"},{\"line\":{\"color\":\"lightblue\"},\"mode\":\"lines\",\"name\":\"ms08\",\"opacity\":0.8,\"showlegend\":false,\"x\":[4,8,12,16,20,24,28,32,36],\"y\":[30.833333333333332,34.166666666666664,31.5018315018315,47.5,42.5,42.916666666666664,55.83333333333333,75.0,80.55555555555556],\"type\":\"scatter\",\"xaxis\":\"x\",\"yaxis\":\"y\"},{\"line\":{\"color\":\"lightblue\"},\"mode\":\"lines\",\"name\":\"ms35\",\"opacity\":0.8,\"showlegend\":false,\"x\":[4,8,12,16,20,24],\"y\":[44.20995670995671,85.41666666666666,83.33333333333333,72.91666666666666,70.83333333333333,50.0],\"type\":\"scatter\",\"xaxis\":\"x\",\"yaxis\":\"y\"},{\"line\":{\"color\":\"lightblue\"},\"mode\":\"lines\",\"name\":\"ms36\",\"opacity\":0.8,\"showlegend\":false,\"x\":[4,8,12,16,20,24,28,32],\"y\":[45.0,70.83333333333333,69.44444444444444,72.91666666666666,79.16666666666666,78.33333333333333,77.08333333333333,75.0],\"type\":\"scatter\",\"xaxis\":\"x\",\"yaxis\":\"y\"},{\"line\":{\"color\":\"lightblue\"},\"mode\":\"lines\",\"name\":\"ms37\",\"opacity\":0.8,\"showlegend\":false,\"x\":[4,8,12],\"y\":[58.33333333333333,100.0,null],\"type\":\"scatter\",\"xaxis\":\"x\",\"yaxis\":\"y\"},{\"line\":{\"color\":\"lightblue\"},\"mode\":\"lines\",\"name\":\"ms38\",\"opacity\":0.8,\"showlegend\":false,\"x\":[4,8,12,16,20,24],\"y\":[56.25,87.85714285714286,100.0,100.0,100.0,72.22222222222221],\"type\":\"scatter\",\"xaxis\":\"x\",\"yaxis\":\"y\"},{\"line\":{\"color\":\"lightblue\"},\"mode\":\"lines\",\"name\":\"ms39\",\"opacity\":0.8,\"showlegend\":false,\"x\":[4,8,12,16],\"y\":[18.055555555555557,16.666666666666664,38.148148148148145,20.535714285714285],\"type\":\"scatter\",\"xaxis\":\"x\",\"yaxis\":\"y\"},{\"line\":{\"color\":\"lightblue\"},\"mode\":\"lines\",\"name\":\"ms40\",\"opacity\":0.8,\"showlegend\":false,\"x\":[4,8,12],\"y\":[41.964285714285715,41.666666666666664,33.33333333333333],\"type\":\"scatter\",\"xaxis\":\"x\",\"yaxis\":\"y\"},{\"line\":{\"color\":\"darkorchid\"},\"mode\":\"lines\",\"name\":\"ms09\",\"opacity\":0.8,\"showlegend\":false,\"x\":[4,8,12,16,20],\"y\":[12.222222222222221,16.666666666666664,0.0,66.66666666666666,null],\"type\":\"scatter\",\"xaxis\":\"x2\",\"yaxis\":\"y2\"},{\"line\":{\"color\":\"darkgrey\"},\"mode\":\"lines\",\"name\":\"ms10\",\"opacity\":0.8,\"showlegend\":false,\"x\":[4,8,12,16,20,24],\"y\":[27.08333333333333,35.416666666666664,75.0,60.714285714285715,43.33333333333333,100.0],\"type\":\"scatter\",\"xaxis\":\"x3\",\"yaxis\":\"y3\"},{\"line\":{\"color\":\"darkorchid\"},\"mode\":\"lines\",\"name\":\"ms11\",\"opacity\":0.8,\"showlegend\":false,\"x\":[4,8,12,16,20,24,28],\"y\":[79.16666666666666,93.75,100.0,100.0,90.47619047619048,100.0,100.0],\"type\":\"scatter\",\"xaxis\":\"x2\",\"yaxis\":\"y2\"},{\"line\":{\"color\":\"darkorchid\"},\"mode\":\"lines\",\"name\":\"ms12\",\"opacity\":0.8,\"showlegend\":false,\"x\":[4,8,12,16,20,24,28,32,36,40,44,48],\"y\":[34.226190476190474,37.65151515151515,63.541666666666664,75.0,91.66666666666666,91.66666666666666,91.66666666666666,75.0,75.0,87.5,69.64285714285714,83.33333333333333],\"type\":\"scatter\",\"xaxis\":\"x2\",\"yaxis\":\"y2\"},{\"line\":{\"color\":\"darkgrey\"},\"mode\":\"lines\",\"name\":\"ms13\",\"opacity\":0.8,\"showlegend\":false,\"x\":[4,8,12,16,20],\"y\":[43.75,50.0,50.0,0.0,0.0],\"type\":\"scatter\",\"xaxis\":\"x3\",\"yaxis\":\"y3\"},{\"line\":{\"color\":\"darkgrey\"},\"mode\":\"lines\",\"name\":\"ms14\",\"opacity\":0.8,\"showlegend\":false,\"x\":[4,8,12,16,20,24,28],\"y\":[48.8095238095238,41.547619047619044,34.861111111111114,70.83333333333333,79.16666666666666,56.54761904761905,100.0],\"type\":\"scatter\",\"xaxis\":\"x3\",\"yaxis\":\"y3\"},{\"line\":{\"color\":\"darkgrey\"},\"mode\":\"lines\",\"name\":\"ms15\",\"opacity\":0.8,\"showlegend\":false,\"x\":[4,8,12,16,20,24,28,32,36,40],\"y\":[72.5,86.66666666666666,91.66666666666666,100.0,100.0,88.09523809523809,100.0,100.0,70.41666666666666,100.0],\"type\":\"scatter\",\"xaxis\":\"x3\",\"yaxis\":\"y3\"},{\"line\":{\"color\":\"darkgrey\"},\"mode\":\"lines\",\"name\":\"ms16\",\"opacity\":0.8,\"showlegend\":false,\"x\":[4,8,12,16,20,24,28],\"y\":[67.22222222222221,50.297619047619044,85.71428571428572,100.0,90.0,91.66666666666666,88.88888888888887],\"type\":\"scatter\",\"xaxis\":\"x3\",\"yaxis\":\"y3\"},{\"line\":{\"color\":\"darkorchid\"},\"mode\":\"lines\",\"name\":\"ms17\",\"opacity\":0.8,\"showlegend\":false,\"x\":[4,8,12,16,20,24,28,32,36,40,44],\"y\":[64.16666666666666,64.58333333333333,91.66666666666666,100.0,75.0,91.66666666666666,80.3030303030303,100.0,100.0,100.0,55.75757575757576],\"type\":\"scatter\",\"xaxis\":\"x2\",\"yaxis\":\"y2\"},{\"line\":{\"color\":\"darkgrey\"},\"mode\":\"lines\",\"name\":\"ms18\",\"opacity\":0.8,\"showlegend\":false,\"x\":[4,8,12,16],\"y\":[27.82051282051282,12.5,36.25,33.333333333333336],\"type\":\"scatter\",\"xaxis\":\"x3\",\"yaxis\":\"y3\"},{\"line\":{\"color\":\"darkorchid\"},\"mode\":\"lines\",\"name\":\"ms19\",\"opacity\":0.8,\"showlegend\":false,\"x\":[4,8,12],\"y\":[27.777777777777775,35.83333333333333,16.666666666666664],\"type\":\"scatter\",\"xaxis\":\"x2\",\"yaxis\":\"y2\"},{\"line\":{\"color\":\"darkgrey\"},\"mode\":\"lines\",\"name\":\"ms20\",\"opacity\":0.8,\"showlegend\":false,\"x\":[4,8,12,16,20,24,28,32,36,40,44,48,52,56],\"y\":[100.0,100.0,91.66666666666666,91.66666666666666,88.75,100.0,93.75,84.375,93.75,93.75,88.75,66.66666666666667,100.0,100.0],\"type\":\"scatter\",\"xaxis\":\"x3\",\"yaxis\":\"y3\"},{\"line\":{\"color\":\"darkorchid\"},\"mode\":\"lines\",\"name\":\"ms21\",\"opacity\":0.8,\"showlegend\":false,\"x\":[4,8,12,16,20,24],\"y\":[42.5,16.666666666666668,58.33333333333333,16.666666666666668,75.0,20.0],\"type\":\"scatter\",\"xaxis\":\"x2\",\"yaxis\":\"y2\"},{\"line\":{\"color\":\"darkgrey\"},\"mode\":\"lines\",\"name\":\"ms22\",\"opacity\":0.8,\"showlegend\":false,\"x\":[4,8,12],\"y\":[29.375,39.58333333333333,50.0],\"type\":\"scatter\",\"xaxis\":\"x3\",\"yaxis\":\"y3\"},{\"line\":{\"color\":\"darkgrey\"},\"mode\":\"lines\",\"name\":\"ms23\",\"opacity\":0.8,\"showlegend\":false,\"x\":[4,8,12,16],\"y\":[27.777777777777775,0.0,27.777777777777775,50.0],\"type\":\"scatter\",\"xaxis\":\"x3\",\"yaxis\":\"y3\"},{\"line\":{\"color\":\"darkgrey\"},\"mode\":\"lines\",\"name\":\"ms24\",\"opacity\":0.8,\"showlegend\":false,\"x\":[4,8,12,16,20,24],\"y\":[12.5,36.041666666666664,34.04626623376623,30.95238095238095,39.48863636363636,50.0],\"type\":\"scatter\",\"xaxis\":\"x3\",\"yaxis\":\"y3\"},{\"line\":{\"color\":\"darkgrey\"},\"mode\":\"lines\",\"name\":\"ms25\",\"opacity\":0.8,\"showlegend\":false,\"x\":[4,8,12,16,20,24],\"y\":[29.16666666666666,31.38888888888889,18.253968253968253,22.916666666666664,20.138888888888886,25.0],\"type\":\"scatter\",\"xaxis\":\"x3\",\"yaxis\":\"y3\"},{\"line\":{\"color\":\"darkorchid\"},\"mode\":\"lines\",\"name\":\"ms26\",\"opacity\":0.8,\"showlegend\":false,\"x\":[4,8,12,16,20,24,28,32,36,40],\"y\":[58.33333333333333,79.16666666666666,91.66666666666666,87.5,87.5,75.0,81.25,93.75,83.33333333333333,77.5],\"type\":\"scatter\",\"xaxis\":\"x2\",\"yaxis\":\"y2\"},{\"line\":{\"color\":\"darkorchid\"},\"mode\":\"lines\",\"name\":\"ms27\",\"opacity\":0.8,\"showlegend\":false,\"x\":[4,8,12,16,20,24,28],\"y\":[75.0,85.41666666666666,81.25,56.666666666666664,91.66666666666666,66.66666666666666,93.33333333333333],\"type\":\"scatter\",\"xaxis\":\"x2\",\"yaxis\":\"y2\"},{\"line\":{\"color\":\"darkgrey\"},\"mode\":\"lines\",\"name\":\"ms28\",\"opacity\":0.8,\"showlegend\":false,\"x\":[4,8,12],\"y\":[33.33333333333333,29.166666666666664,50.0],\"type\":\"scatter\",\"xaxis\":\"x3\",\"yaxis\":\"y3\"},{\"line\":{\"color\":\"darkgrey\"},\"mode\":\"lines\",\"name\":\"ms29\",\"opacity\":0.8,\"showlegend\":false,\"x\":[4,8,12,16,20,24,28,32],\"y\":[65.95238095238095,100.0,66.66666666666666,100.0,100.0,54.166666666666664,62.5,16.666666666666664],\"type\":\"scatter\",\"xaxis\":\"x3\",\"yaxis\":\"y3\"},{\"line\":{\"color\":\"darkorchid\"},\"mode\":\"lines\",\"name\":\"ms30\",\"opacity\":0.8,\"showlegend\":false,\"x\":[4,8,12,16,20,24,28,32,36,40,44,48,52,56],\"y\":[37.5,25.0,54.166666666666664,100.0,75.0,91.66666666666666,87.5,75.0,70.0,66.66666666666666,25.0,44.444444444444436,null,null],\"type\":\"scatter\",\"xaxis\":\"x2\",\"yaxis\":\"y2\"},{\"line\":{\"color\":\"darkorchid\"},\"mode\":\"lines\",\"name\":\"ms31\",\"opacity\":0.8,\"showlegend\":false,\"x\":[4,8,12,16,20,24,28,32,36,40,44,48],\"y\":[38.39285714285714,62.5,72.91666666666666,100.0,66.66666666666667,75.0,91.66666666666666,88.88888888888887,91.66666666666666,100.0,50.0,75.0],\"type\":\"scatter\",\"xaxis\":\"x2\",\"yaxis\":\"y2\"},{\"line\":{\"color\":\"darkgrey\"},\"mode\":\"lines\",\"name\":\"ms32\",\"opacity\":0.8,\"showlegend\":false,\"x\":[4,8,12,16,20],\"y\":[11.904761904761903,36.25,17.55952380952381,37.5,100.0],\"type\":\"scatter\",\"xaxis\":\"x3\",\"yaxis\":\"y3\"},{\"line\":{\"color\":\"darkorchid\"},\"mode\":\"lines\",\"name\":\"ms33\",\"opacity\":0.8,\"showlegend\":false,\"x\":[4,8,12,16,20,24],\"y\":[90.0,91.66666666666666,80.0,66.66666666666666,81.25,33.33333333333333],\"type\":\"scatter\",\"xaxis\":\"x2\",\"yaxis\":\"y2\"},{\"line\":{\"color\":\"darkorchid\"},\"mode\":\"lines\",\"name\":\"ms34\",\"opacity\":0.8,\"showlegend\":false,\"x\":[4,8,12,16,20,24],\"y\":[27.777777777777775,38.33333333333333,56.547619047619044,59.52380952380952,33.33333333333333,75.0],\"type\":\"scatter\",\"xaxis\":\"x2\",\"yaxis\":\"y2\"}],                        {\"template\":{\"data\":{\"barpolar\":[{\"marker\":{\"line\":{\"color\":\"white\",\"width\":0.5},\"pattern\":{\"fillmode\":\"overlay\",\"size\":10,\"solidity\":0.2}},\"type\":\"barpolar\"}],\"bar\":[{\"error_x\":{\"color\":\"rgb(36,36,36)\"},\"error_y\":{\"color\":\"rgb(36,36,36)\"},\"marker\":{\"line\":{\"color\":\"white\",\"width\":0.5},\"pattern\":{\"fillmode\":\"overlay\",\"size\":10,\"solidity\":0.2}},\"type\":\"bar\"}],\"carpet\":[{\"aaxis\":{\"endlinecolor\":\"rgb(36,36,36)\",\"gridcolor\":\"white\",\"linecolor\":\"white\",\"minorgridcolor\":\"white\",\"startlinecolor\":\"rgb(36,36,36)\"},\"baxis\":{\"endlinecolor\":\"rgb(36,36,36)\",\"gridcolor\":\"white\",\"linecolor\":\"white\",\"minorgridcolor\":\"white\",\"startlinecolor\":\"rgb(36,36,36)\"},\"type\":\"carpet\"}],\"choropleth\":[{\"colorbar\":{\"outlinewidth\":1,\"tickcolor\":\"rgb(36,36,36)\",\"ticks\":\"outside\"},\"type\":\"choropleth\"}],\"contourcarpet\":[{\"colorbar\":{\"outlinewidth\":1,\"tickcolor\":\"rgb(36,36,36)\",\"ticks\":\"outside\"},\"type\":\"contourcarpet\"}],\"contour\":[{\"colorbar\":{\"outlinewidth\":1,\"tickcolor\":\"rgb(36,36,36)\",\"ticks\":\"outside\"},\"colorscale\":[[0.0,\"#440154\"],[0.1111111111111111,\"#482878\"],[0.2222222222222222,\"#3e4989\"],[0.3333333333333333,\"#31688e\"],[0.4444444444444444,\"#26828e\"],[0.5555555555555556,\"#1f9e89\"],[0.6666666666666666,\"#35b779\"],[0.7777777777777778,\"#6ece58\"],[0.8888888888888888,\"#b5de2b\"],[1.0,\"#fde725\"]],\"type\":\"contour\"}],\"heatmapgl\":[{\"colorbar\":{\"outlinewidth\":1,\"tickcolor\":\"rgb(36,36,36)\",\"ticks\":\"outside\"},\"colorscale\":[[0.0,\"#440154\"],[0.1111111111111111,\"#482878\"],[0.2222222222222222,\"#3e4989\"],[0.3333333333333333,\"#31688e\"],[0.4444444444444444,\"#26828e\"],[0.5555555555555556,\"#1f9e89\"],[0.6666666666666666,\"#35b779\"],[0.7777777777777778,\"#6ece58\"],[0.8888888888888888,\"#b5de2b\"],[1.0,\"#fde725\"]],\"type\":\"heatmapgl\"}],\"heatmap\":[{\"colorbar\":{\"outlinewidth\":1,\"tickcolor\":\"rgb(36,36,36)\",\"ticks\":\"outside\"},\"colorscale\":[[0.0,\"#440154\"],[0.1111111111111111,\"#482878\"],[0.2222222222222222,\"#3e4989\"],[0.3333333333333333,\"#31688e\"],[0.4444444444444444,\"#26828e\"],[0.5555555555555556,\"#1f9e89\"],[0.6666666666666666,\"#35b779\"],[0.7777777777777778,\"#6ece58\"],[0.8888888888888888,\"#b5de2b\"],[1.0,\"#fde725\"]],\"type\":\"heatmap\"}],\"histogram2dcontour\":[{\"colorbar\":{\"outlinewidth\":1,\"tickcolor\":\"rgb(36,36,36)\",\"ticks\":\"outside\"},\"colorscale\":[[0.0,\"#440154\"],[0.1111111111111111,\"#482878\"],[0.2222222222222222,\"#3e4989\"],[0.3333333333333333,\"#31688e\"],[0.4444444444444444,\"#26828e\"],[0.5555555555555556,\"#1f9e89\"],[0.6666666666666666,\"#35b779\"],[0.7777777777777778,\"#6ece58\"],[0.8888888888888888,\"#b5de2b\"],[1.0,\"#fde725\"]],\"type\":\"histogram2dcontour\"}],\"histogram2d\":[{\"colorbar\":{\"outlinewidth\":1,\"tickcolor\":\"rgb(36,36,36)\",\"ticks\":\"outside\"},\"colorscale\":[[0.0,\"#440154\"],[0.1111111111111111,\"#482878\"],[0.2222222222222222,\"#3e4989\"],[0.3333333333333333,\"#31688e\"],[0.4444444444444444,\"#26828e\"],[0.5555555555555556,\"#1f9e89\"],[0.6666666666666666,\"#35b779\"],[0.7777777777777778,\"#6ece58\"],[0.8888888888888888,\"#b5de2b\"],[1.0,\"#fde725\"]],\"type\":\"histogram2d\"}],\"histogram\":[{\"marker\":{\"line\":{\"color\":\"white\",\"width\":0.6}},\"type\":\"histogram\"}],\"mesh3d\":[{\"colorbar\":{\"outlinewidth\":1,\"tickcolor\":\"rgb(36,36,36)\",\"ticks\":\"outside\"},\"type\":\"mesh3d\"}],\"parcoords\":[{\"line\":{\"colorbar\":{\"outlinewidth\":1,\"tickcolor\":\"rgb(36,36,36)\",\"ticks\":\"outside\"}},\"type\":\"parcoords\"}],\"pie\":[{\"automargin\":true,\"type\":\"pie\"}],\"scatter3d\":[{\"line\":{\"colorbar\":{\"outlinewidth\":1,\"tickcolor\":\"rgb(36,36,36)\",\"ticks\":\"outside\"}},\"marker\":{\"colorbar\":{\"outlinewidth\":1,\"tickcolor\":\"rgb(36,36,36)\",\"ticks\":\"outside\"}},\"type\":\"scatter3d\"}],\"scattercarpet\":[{\"marker\":{\"colorbar\":{\"outlinewidth\":1,\"tickcolor\":\"rgb(36,36,36)\",\"ticks\":\"outside\"}},\"type\":\"scattercarpet\"}],\"scattergeo\":[{\"marker\":{\"colorbar\":{\"outlinewidth\":1,\"tickcolor\":\"rgb(36,36,36)\",\"ticks\":\"outside\"}},\"type\":\"scattergeo\"}],\"scattergl\":[{\"marker\":{\"colorbar\":{\"outlinewidth\":1,\"tickcolor\":\"rgb(36,36,36)\",\"ticks\":\"outside\"}},\"type\":\"scattergl\"}],\"scattermapbox\":[{\"marker\":{\"colorbar\":{\"outlinewidth\":1,\"tickcolor\":\"rgb(36,36,36)\",\"ticks\":\"outside\"}},\"type\":\"scattermapbox\"}],\"scatterpolargl\":[{\"marker\":{\"colorbar\":{\"outlinewidth\":1,\"tickcolor\":\"rgb(36,36,36)\",\"ticks\":\"outside\"}},\"type\":\"scatterpolargl\"}],\"scatterpolar\":[{\"marker\":{\"colorbar\":{\"outlinewidth\":1,\"tickcolor\":\"rgb(36,36,36)\",\"ticks\":\"outside\"}},\"type\":\"scatterpolar\"}],\"scatter\":[{\"fillpattern\":{\"fillmode\":\"overlay\",\"size\":10,\"solidity\":0.2},\"type\":\"scatter\"}],\"scatterternary\":[{\"marker\":{\"colorbar\":{\"outlinewidth\":1,\"tickcolor\":\"rgb(36,36,36)\",\"ticks\":\"outside\"}},\"type\":\"scatterternary\"}],\"surface\":[{\"colorbar\":{\"outlinewidth\":1,\"tickcolor\":\"rgb(36,36,36)\",\"ticks\":\"outside\"},\"colorscale\":[[0.0,\"#440154\"],[0.1111111111111111,\"#482878\"],[0.2222222222222222,\"#3e4989\"],[0.3333333333333333,\"#31688e\"],[0.4444444444444444,\"#26828e\"],[0.5555555555555556,\"#1f9e89\"],[0.6666666666666666,\"#35b779\"],[0.7777777777777778,\"#6ece58\"],[0.8888888888888888,\"#b5de2b\"],[1.0,\"#fde725\"]],\"type\":\"surface\"}],\"table\":[{\"cells\":{\"fill\":{\"color\":\"rgb(237,237,237)\"},\"line\":{\"color\":\"white\"}},\"header\":{\"fill\":{\"color\":\"rgb(217,217,217)\"},\"line\":{\"color\":\"white\"}},\"type\":\"table\"}]},\"layout\":{\"annotationdefaults\":{\"arrowhead\":0,\"arrowwidth\":1},\"autotypenumbers\":\"strict\",\"coloraxis\":{\"colorbar\":{\"outlinewidth\":1,\"tickcolor\":\"rgb(36,36,36)\",\"ticks\":\"outside\"}},\"colorscale\":{\"diverging\":[[0.0,\"rgb(103,0,31)\"],[0.1,\"rgb(178,24,43)\"],[0.2,\"rgb(214,96,77)\"],[0.3,\"rgb(244,165,130)\"],[0.4,\"rgb(253,219,199)\"],[0.5,\"rgb(247,247,247)\"],[0.6,\"rgb(209,229,240)\"],[0.7,\"rgb(146,197,222)\"],[0.8,\"rgb(67,147,195)\"],[0.9,\"rgb(33,102,172)\"],[1.0,\"rgb(5,48,97)\"]],\"sequential\":[[0.0,\"#440154\"],[0.1111111111111111,\"#482878\"],[0.2222222222222222,\"#3e4989\"],[0.3333333333333333,\"#31688e\"],[0.4444444444444444,\"#26828e\"],[0.5555555555555556,\"#1f9e89\"],[0.6666666666666666,\"#35b779\"],[0.7777777777777778,\"#6ece58\"],[0.8888888888888888,\"#b5de2b\"],[1.0,\"#fde725\"]],\"sequentialminus\":[[0.0,\"#440154\"],[0.1111111111111111,\"#482878\"],[0.2222222222222222,\"#3e4989\"],[0.3333333333333333,\"#31688e\"],[0.4444444444444444,\"#26828e\"],[0.5555555555555556,\"#1f9e89\"],[0.6666666666666666,\"#35b779\"],[0.7777777777777778,\"#6ece58\"],[0.8888888888888888,\"#b5de2b\"],[1.0,\"#fde725\"]]},\"colorway\":[\"#1F77B4\",\"#FF7F0E\",\"#2CA02C\",\"#D62728\",\"#9467BD\",\"#8C564B\",\"#E377C2\",\"#7F7F7F\",\"#BCBD22\",\"#17BECF\"],\"font\":{\"color\":\"rgb(36,36,36)\"},\"geo\":{\"bgcolor\":\"white\",\"lakecolor\":\"white\",\"landcolor\":\"white\",\"showlakes\":true,\"showland\":true,\"subunitcolor\":\"white\"},\"hoverlabel\":{\"align\":\"left\"},\"hovermode\":\"closest\",\"mapbox\":{\"style\":\"light\"},\"paper_bgcolor\":\"white\",\"plot_bgcolor\":\"white\",\"polar\":{\"angularaxis\":{\"gridcolor\":\"rgb(232,232,232)\",\"linecolor\":\"rgb(36,36,36)\",\"showgrid\":false,\"showline\":true,\"ticks\":\"outside\"},\"bgcolor\":\"white\",\"radialaxis\":{\"gridcolor\":\"rgb(232,232,232)\",\"linecolor\":\"rgb(36,36,36)\",\"showgrid\":false,\"showline\":true,\"ticks\":\"outside\"}},\"scene\":{\"xaxis\":{\"backgroundcolor\":\"white\",\"gridcolor\":\"rgb(232,232,232)\",\"gridwidth\":2,\"linecolor\":\"rgb(36,36,36)\",\"showbackground\":true,\"showgrid\":false,\"showline\":true,\"ticks\":\"outside\",\"zeroline\":false,\"zerolinecolor\":\"rgb(36,36,36)\"},\"yaxis\":{\"backgroundcolor\":\"white\",\"gridcolor\":\"rgb(232,232,232)\",\"gridwidth\":2,\"linecolor\":\"rgb(36,36,36)\",\"showbackground\":true,\"showgrid\":false,\"showline\":true,\"ticks\":\"outside\",\"zeroline\":false,\"zerolinecolor\":\"rgb(36,36,36)\"},\"zaxis\":{\"backgroundcolor\":\"white\",\"gridcolor\":\"rgb(232,232,232)\",\"gridwidth\":2,\"linecolor\":\"rgb(36,36,36)\",\"showbackground\":true,\"showgrid\":false,\"showline\":true,\"ticks\":\"outside\",\"zeroline\":false,\"zerolinecolor\":\"rgb(36,36,36)\"}},\"shapedefaults\":{\"fillcolor\":\"black\",\"line\":{\"width\":0},\"opacity\":0.3},\"ternary\":{\"aaxis\":{\"gridcolor\":\"rgb(232,232,232)\",\"linecolor\":\"rgb(36,36,36)\",\"showgrid\":false,\"showline\":true,\"ticks\":\"outside\"},\"baxis\":{\"gridcolor\":\"rgb(232,232,232)\",\"linecolor\":\"rgb(36,36,36)\",\"showgrid\":false,\"showline\":true,\"ticks\":\"outside\"},\"bgcolor\":\"white\",\"caxis\":{\"gridcolor\":\"rgb(232,232,232)\",\"linecolor\":\"rgb(36,36,36)\",\"showgrid\":false,\"showline\":true,\"ticks\":\"outside\"}},\"title\":{\"x\":0.05},\"xaxis\":{\"automargin\":true,\"gridcolor\":\"rgb(232,232,232)\",\"linecolor\":\"rgb(36,36,36)\",\"showgrid\":false,\"showline\":true,\"ticks\":\"outside\",\"title\":{\"standoff\":15},\"zeroline\":false,\"zerolinecolor\":\"rgb(36,36,36)\"},\"yaxis\":{\"automargin\":true,\"gridcolor\":\"rgb(232,232,232)\",\"linecolor\":\"rgb(36,36,36)\",\"showgrid\":false,\"showline\":true,\"ticks\":\"outside\",\"title\":{\"standoff\":15},\"zeroline\":false,\"zerolinecolor\":\"rgb(36,36,36)\"}}},\"xaxis\":{\"anchor\":\"y\",\"domain\":[0.0,0.2888888888888889],\"title\":{\"text\":\"Trial\"},\"linewidth\":1.5,\"matches\":\"x\"},\"yaxis\":{\"anchor\":\"x\",\"domain\":[0.0,1.0],\"title\":{\"text\":\"Lick Accuracy (%)\"},\"linewidth\":1.5,\"matches\":\"y\"},\"xaxis2\":{\"anchor\":\"y2\",\"domain\":[0.35555555555555557,0.6444444444444445],\"title\":{\"text\":\"Trial\"},\"linewidth\":1.5,\"matches\":\"x\"},\"yaxis2\":{\"anchor\":\"x2\",\"domain\":[0.0,1.0],\"matches\":\"y\",\"showticklabels\":false,\"title\":{\"text\":\"\"},\"linewidth\":1.5},\"xaxis3\":{\"anchor\":\"y3\",\"domain\":[0.7111111111111111,1.0],\"title\":{\"text\":\"Trial\"},\"linewidth\":1.5,\"matches\":\"x\"},\"yaxis3\":{\"anchor\":\"x3\",\"domain\":[0.0,1.0],\"matches\":\"y\",\"showticklabels\":false,\"title\":{\"text\":\"\"},\"linewidth\":1.5},\"annotations\":[{\"font\":{\"size\":22},\"showarrow\":false,\"text\":\"Fixed\",\"x\":0.14444444444444446,\"xanchor\":\"center\",\"xref\":\"paper\",\"y\":1.0,\"yanchor\":\"bottom\",\"yref\":\"paper\"},{\"font\":{\"size\":22},\"showarrow\":false,\"text\":\"Criteria\",\"x\":0.5,\"xanchor\":\"center\",\"xref\":\"paper\",\"y\":1.0,\"yanchor\":\"bottom\",\"yref\":\"paper\"},{\"font\":{\"size\":22},\"showarrow\":false,\"text\":\"Criteria+5\",\"x\":0.8555555555555556,\"xanchor\":\"center\",\"xref\":\"paper\",\"y\":1.0,\"yanchor\":\"bottom\",\"yref\":\"paper\"}],\"title\":{\"y\":0.9,\"x\":0.5,\"xanchor\":\"center\",\"yanchor\":\"top\"},\"font\":{\"size\":22,\"family\":\"Arial\"},\"height\":500,\"width\":1000,\"shapes\":[{\"line\":{\"color\":\"darkgrey\",\"dash\":\"dash\",\"width\":1},\"opacity\":1,\"type\":\"line\",\"x0\":0,\"x1\":1,\"xref\":\"x domain\",\"y0\":75,\"y1\":75,\"yref\":\"y\"},{\"line\":{\"color\":\"darkgrey\",\"dash\":\"dash\",\"width\":1},\"opacity\":1,\"type\":\"line\",\"x0\":0,\"x1\":1,\"xref\":\"x2 domain\",\"y0\":75,\"y1\":75,\"yref\":\"y2\"},{\"line\":{\"color\":\"darkgrey\",\"dash\":\"dash\",\"width\":1},\"opacity\":1,\"type\":\"line\",\"x0\":0,\"x1\":1,\"xref\":\"x3 domain\",\"y0\":75,\"y1\":75,\"yref\":\"y3\"},{\"line\":{\"color\":\"darkgrey\",\"dash\":\"dash\",\"width\":1},\"opacity\":1,\"type\":\"line\",\"x0\":0,\"x1\":1,\"xref\":\"x domain\",\"y0\":25,\"y1\":25,\"yref\":\"y\"},{\"line\":{\"color\":\"darkgrey\",\"dash\":\"dash\",\"width\":1},\"opacity\":1,\"type\":\"line\",\"x0\":0,\"x1\":1,\"xref\":\"x2 domain\",\"y0\":25,\"y1\":25,\"yref\":\"y2\"},{\"line\":{\"color\":\"darkgrey\",\"dash\":\"dash\",\"width\":1},\"opacity\":1,\"type\":\"line\",\"x0\":0,\"x1\":1,\"xref\":\"x3 domain\",\"y0\":25,\"y1\":25,\"yref\":\"y3\"}]},                        {\"responsive\": true}                    ).then(function(){\n",
       "                            \n",
       "var gd = document.getElementById('24398b80-0179-4ae3-bb58-a5378de09189');\n",
       "var x = new MutationObserver(function (mutations, observer) {{\n",
       "        var display = window.getComputedStyle(gd).display;\n",
       "        if (!display || display === 'none') {{\n",
       "            console.log([gd, 'removed!']);\n",
       "            Plotly.purge(gd);\n",
       "            observer.disconnect();\n",
       "        }}\n",
       "}});\n",
       "\n",
       "// Listen for the removal of the full notebook cells\n",
       "var notebookContainer = gd.closest('#notebook-container');\n",
       "if (notebookContainer) {{\n",
       "    x.observe(notebookContainer, {childList: true});\n",
       "}}\n",
       "\n",
       "// Listen for the clearing of the current output cell\n",
       "var outputEl = gd.closest('.output');\n",
       "if (outputEl) {{\n",
       "    x.observe(outputEl, {childList: true});\n",
       "}}\n",
       "\n",
       "                        })                };                });            </script>        </div>"
      ]
     },
     "metadata": {},
     "output_type": "display_data"
    }
   ],
   "source": [
    "## Lick accuracy across trials for fixed, to criteria, and criteria+5\n",
    "bin_size = 4\n",
    "chance_color = 'darkgrey'\n",
    "fig = pf.custom_graph_template(x_title='Trial', y_title='', height=500, width=1000,\n",
    "                               shared_y=True, shared_x=True, rows=1, columns=3,\n",
    "                               titles=['Fixed', 'Criteria', 'Criteria+5'])\n",
    "for mouse in os.listdir(behav_path):\n",
    "    mouse_path = pjoin(behav_path, mouse)\n",
    "    group = 'fixed' if mouse in fixed else 'criteria' if mouse in criteria else 'cr_5'\n",
    "    for session in os.listdir(mouse_path):\n",
    "        if '_8' in session:\n",
    "            behav_data = pd.read_feather(pjoin(mouse_path, f'{session}'))\n",
    "            reward_one, reward_two = np.unique(behav_data['reward_one'])[0], np.unique(behav_data['reward_two'])[0]\n",
    "            pc = ctb.lick_accuracy(behav_data, reward_one, reward_two, by_trials=True)\n",
    "            binned_pc = ctb.bin_data(pc, bin_size=bin_size)\n",
    "            x_data = np.arange(1, len(binned_pc)+1) * bin_size\n",
    "            if group == 'fixed':\n",
    "                col = 1\n",
    "            elif group == 'criteria':\n",
    "                col = 2\n",
    "            else:\n",
    "                col = 3\n",
    "            \n",
    "            fig.add_trace(go.Scatter(x=x_data, y=binned_pc, mode='lines', opacity=0.8,\n",
    "                                        line_color=group_colors[group], showlegend=False, name=mouse), row=1, col=col)\n",
    "\n",
    "        else:\n",
    "            pass\n",
    "fig.add_hline(y=75, line_width=1, line_dash='dash', line_color=chance_color, opacity=1)\n",
    "fig.add_hline(y=25, line_width=1, line_dash='dash', line_color=chance_color, opacity=1)\n",
    "fig.update_yaxes(title='Lick Accuracy (%)', col=1)\n",
    "fig.show()"
   ]
  }
 ],
 "metadata": {
  "kernelspec": {
   "display_name": "calcium",
   "language": "python",
   "name": "python3"
  },
  "language_info": {
   "codemirror_mode": {
    "name": "ipython",
    "version": 3
   },
   "file_extension": ".py",
   "mimetype": "text/x-python",
   "name": "python",
   "nbconvert_exporter": "python",
   "pygments_lexer": "ipython3",
   "version": "3.10.8"
  },
  "orig_nbformat": 4
 },
 "nbformat": 4,
 "nbformat_minor": 2
}
