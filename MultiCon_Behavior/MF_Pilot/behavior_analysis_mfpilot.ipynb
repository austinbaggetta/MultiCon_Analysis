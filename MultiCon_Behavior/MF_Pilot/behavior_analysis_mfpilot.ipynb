{
 "cells": [
  {
   "cell_type": "code",
   "execution_count": 1,
   "metadata": {},
   "outputs": [
    {
     "name": "stderr",
     "output_type": "stream",
     "text": [
      "/home/austinbaggetta/.conda/envs/calcium/lib/python3.10/site-packages/outdated/utils.py:14: OutdatedCacheFailedWarning: Failed to use cache while checking for outdated package.\n",
      "Set the environment variable OUTDATED_RAISE_EXCEPTION=1 for a full traceback.\n",
      "Set the environment variable OUTDATED_IGNORE=1 to disable these warnings.\n",
      "  return warn(\n",
      "/home/austinbaggetta/.conda/envs/calcium/lib/python3.10/site-packages/outdated/utils.py:14: OutdatedPackageWarning: The package pingouin is out of date. Your version is 0.5.2, the latest is 0.5.3.\n",
      "Set the environment variable OUTDATED_IGNORE=1 to disable these warnings.\n",
      "  return warn(\n"
     ]
    }
   ],
   "source": [
    "%load_ext autoreload\n",
    "%autoreload 2\n",
    "import os\n",
    "import sys\n",
    "import numpy as np\n",
    "import pandas as pd\n",
    "import pingouin as pg\n",
    "import plotly.graph_objects as go\n",
    "from os.path import join as pjoin\n",
    "import plotly.express as px\n",
    "\n",
    "sys.path.append(\"../..\")\n",
    "import circletrack_behavior as ctb\n",
    "import plotting_functions as pf"
   ]
  },
  {
   "cell_type": "code",
   "execution_count": null,
   "metadata": {},
   "outputs": [],
   "source": [
    "## Excluded mice ms18, ms22, ms28 due to failing to learn\n",
    "## Set mouse lists and directory\n",
    "mouse_list = [f'mf0{num}' for num in np.arange(1, 5)]\n",
    "male = ['mf03', 'mf04']\n",
    "behav_path = '../../../MultiCon_Behavior/MF_Pilot/output/behav/'\n",
    "fig_path = '../../../MultiCon_Behavior/MF_Pilot/intermediate_figures/'\n",
    "if not os.path.exists(fig_path):\n",
    "    os.mkdir(fig_path)\n",
    "\n",
    "## Group colors to change plots\n",
    "group_colors = {'Female': 'darkgrey', 'Male': 'turquoise' }"
   ]
  },
  {
   "cell_type": "code",
   "execution_count": null,
   "metadata": {},
   "outputs": [],
   "source": [
    "## Check whether trial trimes are different between groups\n",
    "trial_times_dict = {'mouse': [], 'forward_trials': [], 'reverse_trials': [], 'group': [], 'session': []}\n",
    "for mouse in mouse_list:\n",
    "    mouse_path = pjoin(behav_path, mouse)\n",
    "    group = 'Male' if mouse in male else 'Female'\n",
    "    for session in os.listdir(mouse_path):\n",
    "        behav_data = pd.read_feather(pjoin(mouse_path, f'{session}'))\n",
    "        time_diff_forward, time_diff_reverse = ctb.calculate_trial_length(behav_data, forward_reverse=True, recalc_trials=False)\n",
    "        trial_times_dict['mouse'].append(mouse)\n",
    "        trial_times_dict['forward_trials'].append(time_diff_forward)\n",
    "        trial_times_dict['reverse_trials'].append(time_diff_reverse)\n",
    "        trial_times_dict['group'].append(group)\n",
    "        trial_times_dict['session'].append(np.unique(behav_data['session'])[0])\n",
    "## Convert to dataframe\n",
    "trial_times = pd.DataFrame(trial_times_dict)\n",
    "\n",
    "fixed_trials = []\n",
    "for trials in trial_times['forward_trials'][trial_times['group'] == 'fixed']:\n",
    "    fixed_trials = fixed_trials + trials\n",
    "\n",
    "criteria_trials = []\n",
    "for trials in trial_times['forward_trials'][trial_times['group'] == 'criteria']:\n",
    "    criteria_trials = criteria_trials + trials\n",
    "\n",
    "cr5_trials = []\n",
    "for trials in trial_times['forward_trials'][trial_times['group'] == 'cr_5']:\n",
    "    cr5_trials = cr5_trials + trials"
   ]
  },
  {
   "cell_type": "code",
   "execution_count": null,
   "metadata": {},
   "outputs": [],
   "source": [
    "## Bar chart of trial times per mouse per session\n",
    "trial_dict_session = {'mouse': [], 'avg_time': [], 'std': [], 'sem': [], 'group': [], 'session': []}\n",
    "for mouse in np.unique(trial_times['mouse']):\n",
    "    mouse_trials = trial_times[trial_times['mouse'] == mouse].reset_index()\n",
    "    for idx, trials in enumerate(mouse_trials['forward_trials']):\n",
    "        trial_dict_session['mouse'].append(mouse)\n",
    "        trial_dict_session['avg_time'].append(np.mean(trials))\n",
    "        trial_dict_session['std'].append(np.std(trials))\n",
    "        trial_dict_session['sem'].append(np.std(trials)/len(trials))\n",
    "        trial_dict_session['group'].append(np.unique(mouse_trials['group'])[0])\n",
    "        trial_dict_session['session'].append(mouse_trials.loc[idx, 'session'])\n",
    "mouse_trial_session_df = pd.DataFrame(trial_dict_session)\n",
    "avg_session = mouse_trial_session_df.groupby(['group', 'session'], as_index=False).agg({'avg_time': ['mean', 'sem']})\n",
    "avg_session_df = avg_session['avg_time']\n",
    "avg_session_df.insert(0, 'group', avg_session['group'])\n",
    "avg_session_df.insert(1, 'session', avg_session['session'])"
   ]
  },
  {
   "cell_type": "code",
   "execution_count": null,
   "metadata": {},
   "outputs": [],
   "source": [
    "fig = pf.plot_group_averages(mouse_trial_session_df, y_col_name='avg_time', x_col_name='session', mouse_grouping_variables=['mouse', 'session', 'group'],\n",
    "                             avg_grouping_variables=['group', 'session'], group_color_dict=group_colors, x_axis_order=['A', 'B'],\n",
    "                             height=500, width=500, template='simple_white', legend_title_text='', \n",
    "                             yaxis_title='Average Trial Time (s)', xaxis_title='', font=dict(size=16))\n",
    "fig.show()\n",
    "fig.write_image(pjoin(fig_path, 'average_trial_time.png'))"
   ]
  },
  {
   "cell_type": "code",
   "execution_count": null,
   "metadata": {},
   "outputs": [],
   "source": [
    "mouse_trial_session_df.mixed_anova(dv='avg_time', within='session', subject='mouse', between='group')"
   ]
  },
  {
   "cell_type": "code",
   "execution_count": null,
   "metadata": {},
   "outputs": [],
   "source": [
    "## Number of trials\n",
    "num_trials_dict = {'mouse': [], 'num_trials': [], 'group': [], 'session': []}\n",
    "for mouse in np.unique(trial_times['mouse']):\n",
    "    sub_data = trial_times[trial_times['mouse'] == mouse]\n",
    "    for row, _ in sub_data.iterrows():\n",
    "        num_trials_dict['mouse'].append(mouse)\n",
    "        num_trials_dict['num_trials'].append(len(sub_data.loc[row, 'forward_trials']))\n",
    "        num_trials_dict['group'].append(sub_data.loc[row, 'group'])\n",
    "        num_trials_dict['session'].append(sub_data.loc[row, 'session'])\n",
    "num_trials_df = pd.DataFrame(num_trials_dict)"
   ]
  },
  {
   "cell_type": "code",
   "execution_count": null,
   "metadata": {},
   "outputs": [],
   "source": [
    "fig = pf.plot_group_averages(num_trials_df, y_col_name='num_trials', x_col_name='session', mouse_grouping_variables=['mouse', 'session', 'group'],\n",
    "                             avg_grouping_variables=['group', 'session'], group_color_dict=group_colors, x_axis_order=['A', 'B'],\n",
    "                             height=500, width=500, template='simple_white', legend_title_text='', \n",
    "                             yaxis_title='Number of Trials', xaxis_title='', font=dict(size=16))\n",
    "fig.show()\n",
    "fig.write_image(pjoin(fig_path, 'average_number_of_trials.png'))"
   ]
  },
  {
   "cell_type": "code",
   "execution_count": null,
   "metadata": {},
   "outputs": [],
   "source": [
    "num_trials_df.mixed_anova(dv='num_trials', within='session', subject='mouse', between='group')"
   ]
  },
  {
   "cell_type": "code",
   "execution_count": null,
   "metadata": {},
   "outputs": [],
   "source": [
    "## Probe Accuracy\n",
    "lick_dict_probe = {'percent_correct': [], 'mouse': [], 'day': [], 'group': [], 'session': [], 'probe_length': [], 'num_licks': [], 'session_pc': []}\n",
    "for mouse in mouse_list:\n",
    "    mouse_path = pjoin(behav_path, mouse)\n",
    "    group = 'Male' if mouse in male else 'Female'\n",
    "    for idx, session in enumerate(os.listdir(mouse_path)):\n",
    "        behav = pd.read_feather(pjoin(mouse_path, f'{session}'))\n",
    "        if any(behav['probe']):\n",
    "            behav_probe = behav[behav['probe']]\n",
    "            behav_no_probe = behav[~behav['probe']]\n",
    "            reward_one, reward_two = np.unique(behav['reward_one'])[0], np.unique(behav['reward_two'])[0]\n",
    "            ## Percent correct licking\n",
    "            pc = ctb.lick_accuracy(behav_probe, port_one=reward_one, port_two=reward_two, by_trials=False)\n",
    "            session_pc = ctb.lick_accuracy(behav_no_probe, port_one=reward_one, port_two=reward_two, by_trials=False)\n",
    "            lick_dict_probe['percent_correct'].append(pc)\n",
    "            lick_dict_probe['mouse'].append(mouse)\n",
    "            lick_dict_probe['day'].append(idx+1)\n",
    "            lick_dict_probe['group'].append(group)\n",
    "            lick_dict_probe['session'].append(np.unique(behav['session'])[0])\n",
    "            lick_dict_probe['probe_length'].append(round(behav_probe['t'].to_numpy()[-1] - behav_probe['t'].to_numpy()[0]))\n",
    "            lick_dict_probe['num_licks'].append(len(behav_probe[behav_probe['lick_port'] != -1]))\n",
    "            lick_dict_probe['session_pc'].append(session_pc)\n",
    "        else:\n",
    "            next\n",
    "## Convert to dataframe\n",
    "probe_df = pd.DataFrame(lick_dict_probe)\n",
    "# First and last day in each context\n",
    "last = pd.DataFrame()\n",
    "for mouse in mouse_list:\n",
    "    mouse_data = probe_df[probe_df['mouse'] == mouse].reset_index(drop=True)\n",
    "    index_list = ctb.pick_context_day(mouse_data, day_index=-1, contexts=['A', 'B'])\n",
    "    sub_data = mouse_data.loc[index_list, :]\n",
    "    last = pd.concat([last, sub_data])          \n",
    "last['licks_sec'] = last['num_licks'] / last['probe_length']"
   ]
  },
  {
   "cell_type": "code",
   "execution_count": null,
   "metadata": {},
   "outputs": [],
   "source": [
    "probe_df"
   ]
  },
  {
   "cell_type": "code",
   "execution_count": null,
   "metadata": {},
   "outputs": [],
   "source": [
    "## Bar chart of probe accuracy per mouse on the last day within a context\n",
    "subset = last[(last['mouse'] == 'mf02') | (last['mouse'] == 'mf03')]\n",
    "fig = pf.plot_group_averages(subset, y_col_name='percent_correct', x_col_name='session', mouse_grouping_variables=['mouse', 'session', 'group'],\n",
    "                             avg_grouping_variables=['group', 'session'], group_color_dict=group_colors, x_axis_order=['A', 'B'],\n",
    "                             height=500, width=500, template='simple_white', legend_title_text='', \n",
    "                             yaxis_title='Probe Accuracy (%)', xaxis_title='', font=dict(size=16))\n",
    "fig.add_hline(y=25, line_dash='dash', line_width=2, line_color='black')\n",
    "fig.show()\n",
    "fig.write_image(pjoin(fig_path, 'probe_accuracy_last_day.png'))"
   ]
  },
  {
   "cell_type": "code",
   "execution_count": null,
   "metadata": {},
   "outputs": [],
   "source": [
    "## Number of licks during the probe for each context\n",
    "fig = pf.plot_group_averages(subset, y_col_name='licks_sec', x_col_name='session', mouse_grouping_variables=['mouse', 'session', 'group'],\n",
    "                             avg_grouping_variables=['group', 'session'], group_color_dict=group_colors, x_axis_order=['A', 'B'],\n",
    "                             height=500, width=500, template='simple_white', legend_title_text='', \n",
    "                             yaxis_title='Licks/s During Probe', xaxis_title='', font=dict(size=16))\n",
    "fig.show()\n",
    "fig.write_image(pjoin(fig_path, 'licks_sec_probe.png'))"
   ]
  },
  {
   "cell_type": "code",
   "execution_count": null,
   "metadata": {},
   "outputs": [],
   "source": [
    "## Probe Accuracy vs Probe Length for last day in each context\n",
    "session_list = ['A', 'B']\n",
    "fig = pf.custom_graph_template(x_title='Probe Length (s)', y_title='', rows=1, columns=2, \n",
    "                               width=1500, height=500, titles=['A', 'B'], shared_x=True, shared_y=True, font_size=17)\n",
    "for idx, session in enumerate(session_list):\n",
    "    sub_f = subset[(subset['session'] == session) & (subset['group'] == 'Female')]\n",
    "    sub_c = subset[(subset['session'] == session) & (subset['group'] == 'Male')]\n",
    "\n",
    "    fig.add_trace(go.Scatter(x=sub_f['probe_length'], y=sub_f['percent_correct'], mode='markers',\n",
    "                             showlegend=False, name='Female', marker_line_width=1, legendgroup='Female',\n",
    "                             marker_color=group_colors['Female']), row=1, col=idx+1)\n",
    "    fig.add_trace(go.Scatter(x=sub_c['probe_length'], y=sub_c['percent_correct'], mode='markers',\n",
    "                             showlegend=False, name='Male', marker_line_width=1, legendgroup='Male',\n",
    "                             marker_color=group_colors['Male']), row=1, col=idx+1)\n",
    "fig.update_yaxes(title='Probe Accuracy (%)', row=1, col=1)\n",
    "fig['data'][0]['showlegend'] = True\n",
    "fig['data'][1]['showlegend'] = True\n",
    "fig.show()\n",
    "fig.write_image(pjoin(fig_path, 'probe_accuracy_vs_length_last_day.png'))"
   ]
  },
  {
   "cell_type": "code",
   "execution_count": null,
   "metadata": {},
   "outputs": [],
   "source": [
    "## Number of rewards and percent correct\n",
    "result_dict = {'mouse': [], 'rewards': [], 'percent_correct': [], 'group': [], 'session': []}\n",
    "for mouse in mouse_list:\n",
    "    mouse_path = pjoin(behav_path, mouse)\n",
    "    group = 'Male' if mouse in male else 'Female'\n",
    "    for session in os.listdir(mouse_path):\n",
    "        behav_data = pd.read_feather(pjoin(mouse_path, f'{session}'))\n",
    "        behav_data = behav_data[~behav_data['probe']]\n",
    "        reward_one, reward_two = np.unique(behav_data['reward_one'])[0], np.unique(behav_data['reward_two'])[0]\n",
    "        pc = ctb.lick_accuracy(behav_data, port_one=reward_one, port_two=reward_two, by_trials=False)\n",
    "        result_dict['mouse'].append(mouse)\n",
    "        result_dict['rewards'].append(behav_data[behav_data['water']].shape[0])\n",
    "        result_dict['percent_correct'].append(pc)\n",
    "        result_dict['group'].append(group)\n",
    "        result_dict['session'].append(np.unique(behav_data['session'])[0])\n",
    "rewards = pd.DataFrame(result_dict)\n",
    "last_rewards = pd.DataFrame()\n",
    "for mouse in mouse_list:\n",
    "    mouse_data = rewards[rewards['mouse'] == mouse].reset_index(drop=True)\n",
    "    index_list = ctb.pick_context_day(mouse_data, day_index=-1, contexts=['A', 'B'])\n",
    "    sub_data = mouse_data.loc[index_list, :]\n",
    "    last_rewards = pd.concat([last_rewards, sub_data])"
   ]
  },
  {
   "cell_type": "code",
   "execution_count": null,
   "metadata": {},
   "outputs": [],
   "source": [
    "## Plot rewards by session on last day in context\n",
    "subset_rewards = last_rewards[(last_rewards['mouse'] == 'mf02') | (last_rewards['mouse'] == 'mf03')]\n",
    "fig = pf.plot_group_averages(subset_rewards, y_col_name='rewards', x_col_name='session', mouse_grouping_variables=['mouse', 'session', 'group'],\n",
    "                             avg_grouping_variables=['group', 'session'], group_color_dict=group_colors, x_axis_order=['A', 'B'],\n",
    "                             height=500, width=500, template='simple_white', legend_title_text='', \n",
    "                             yaxis_title='Total Rewards', xaxis_title='', font=dict(size=16))\n",
    "fig.show()\n",
    "fig.write_image(pjoin(fig_path, 'total_rewards_last_day.png'))"
   ]
  },
  {
   "cell_type": "code",
   "execution_count": null,
   "metadata": {},
   "outputs": [],
   "source": [
    "behav_data = pd.read_feather(pjoin(behav_path, 'mf03/mf03_6.feat'))\n",
    "pf.plot_circle_position(behav_data, x_title='X Position', y_title='Y Position', downsample_factor=50)"
   ]
  }
 ],
 "metadata": {
  "kernelspec": {
   "display_name": "calcium",
   "language": "python",
   "name": "python3"
  },
  "language_info": {
   "codemirror_mode": {
    "name": "ipython",
    "version": 3
   },
   "file_extension": ".py",
   "mimetype": "text/x-python",
   "name": "python",
   "nbconvert_exporter": "python",
   "pygments_lexer": "ipython3",
   "version": "3.10.12"
  },
  "orig_nbformat": 4
 },
 "nbformat": 4,
 "nbformat_minor": 2
}
