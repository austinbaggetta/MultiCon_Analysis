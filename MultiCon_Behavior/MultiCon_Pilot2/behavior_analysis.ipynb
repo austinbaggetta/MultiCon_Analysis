{
 "cells": [
  {
   "cell_type": "code",
   "execution_count": 1,
   "metadata": {},
   "outputs": [
    {
     "name": "stderr",
     "output_type": "stream",
     "text": [
      "/home/austinbaggetta/.conda/envs/calcium/lib/python3.10/site-packages/outdated/utils.py:14: OutdatedPackageWarning: The package pingouin is out of date. Your version is 0.5.2, the latest is 0.5.4.\n",
      "Set the environment variable OUTDATED_IGNORE=1 to disable these warnings.\n",
      "  return warn(\n"
     ]
    }
   ],
   "source": [
    "%load_ext autoreload\n",
    "%autoreload 2\n",
    "import os\n",
    "import sys\n",
    "import numpy as np\n",
    "import pandas as pd\n",
    "import pingouin as pg\n",
    "import plotly.graph_objects as go\n",
    "from os.path import join as pjoin\n",
    "\n",
    "sys.path.append(\"../..\")\n",
    "import circletrack_behavior as ctb\n",
    "import plotting_functions as pf"
   ]
  },
  {
   "cell_type": "code",
   "execution_count": 2,
   "metadata": {},
   "outputs": [],
   "source": [
    "## Settings\n",
    "lin_path = '../../../MultiCon_Behavior/MultiCon_Pilot2/output/lin_behav/'\n",
    "circle_path = '../../../MultiCon_Behavior/MultiCon_Pilot2/output/behav/'\n",
    "fig_path = '../../../MultiCon_Behavior/MultiCon_Pilot2/intermediate_figures'\n",
    "two_ports = ['mcp01', 'mcp02', 'mcp03', 'mcp05', 'mcp08', 'mcp10']\n",
    "thresh_five = ['mcp01', 'mcp03', 'mcp06', 'mcp08', 'mcp09', 'mcp11']\n",
    "two_color_plots = ['darkgrey', 'midnightblue']\n",
    "four_color_plots = ['darkgreen', 'darkgrey', 'darkblue', 'blue']\n",
    "group_colors_dict = {'thresh3_twoport': 'darkgrey', 'thresh3_oneport': 'darkgreen', 'thresh5_twoport': 'midnightblue', 'thresh5_oneport': 'darkblue'}\n",
    "chance_color = 'darkgrey'\n",
    "bin_size = 4 ## for binning across trials\n",
    "error_colors = ['rgba(169,169,169,0.4)', 'rgba(25,25,112,0.4)'] ## rgba is the only way to get the error band transparent\n",
    "opacity = 0.8 ## for binning across trials"
   ]
  },
  {
   "attachments": {},
   "cell_type": "markdown",
   "metadata": {},
   "source": [
    "### Analyze linear track data."
   ]
  },
  {
   "cell_type": "code",
   "execution_count": null,
   "metadata": {},
   "outputs": [],
   "source": [
    "## Linear track rewards\n",
    "result_dict = {'mouse': [], 'day': [], 'group': [], 'rewards': []}\n",
    "for mouse in os.listdir(lin_path):\n",
    "    mouse_path = pjoin(lin_path, mouse)\n",
    "    group = 'thresh3_twoport' if mouse in two_ports and mouse not in thresh_five else 'thresh5_twoport' if mouse in two_ports and mouse in thresh_five else 'thresh3_oneport' if mouse not in two_ports and mouse not in thresh_five else 'thresh5_oneport'\n",
    "    for idx, session in enumerate(os.listdir(mouse_path)):\n",
    "        behav = pd.read_feather(pjoin(mouse_path, f'{session}'))\n",
    "        result_dict['mouse'].append(mouse)\n",
    "        result_dict['day'].append(idx+1)\n",
    "        result_dict['group'].append(group)\n",
    "        result_dict['rewards'].append(np.sum(behav['water']))\n",
    "results_df = pd.DataFrame(result_dict)"
   ]
  },
  {
   "cell_type": "code",
   "execution_count": null,
   "metadata": {},
   "outputs": [],
   "source": [
    "## Plot rewards across days in linear track\n",
    "fig = pf.plot_behavior_across_days(results_df, x_var='day', y_var='rewards', groupby_var=['day', 'group'], plot_transitions=None,\n",
    "                                   marker_color=four_color_plots, avg_color='darkgrey', expert_line=False, chance=False,\n",
    "                                   x_title='Day', y_title='Rewards', titles=['Linear Track'], height=500, width=600)\n",
    "fig.show()\n",
    "results_df.mixed_anova(dv='rewards', within='day', subject='mouse', between='group')\n",
    "fig.write_image(pjoin(fig_path, 'linear_track_rewards.png'))"
   ]
  },
  {
   "attachments": {},
   "cell_type": "markdown",
   "metadata": {},
   "source": [
    "### Analyze circle track data."
   ]
  },
  {
   "cell_type": "code",
   "execution_count": 12,
   "metadata": {},
   "outputs": [],
   "source": [
    "circletrack_results = {'mouse': [], 'day': [], 'group': [], 'session': [], 'lick_accuracy': [], 'rewards': []}\n",
    "for mouse in os.listdir(circle_path):\n",
    "    mouse_path = pjoin(circle_path, mouse)\n",
    "    group = 'thresh3_twoport' if mouse in two_ports and mouse not in thresh_five else 'thresh5_twoport' if mouse in two_ports and mouse in thresh_five else 'thresh3_oneport' if mouse not in two_ports and mouse not in thresh_five else 'thresh5_oneport'\n",
    "    if (group == 'thresh3_oneport') | (group == 'thresh5_oneport'):\n",
    "          pass\n",
    "    else:\n",
    "        for idx, session in enumerate(os.listdir(mouse_path)):\n",
    "                behav = pd.read_feather(pjoin(mouse_path, f'{session}'))\n",
    "                behav_data = behav[~behav['probe']]\n",
    "                reward_one, reward_two = np.unique(behav['reward_one'])[0], np.unique(behav['reward_two'])[0]\n",
    "                session_pc = ctb.lick_accuracy(behav, port_one=reward_one, port_two=reward_two, by_trials=False)\n",
    "                circletrack_results['mouse'].append(mouse)\n",
    "                circletrack_results['day'].append(idx+1)\n",
    "                circletrack_results['group'].append(group)\n",
    "                circletrack_results['session'].append(np.unique(behav['session'])[0])\n",
    "                circletrack_results['lick_accuracy'].append(session_pc)\n",
    "                circletrack_results['rewards'].append(np.sum(behav_data['water']))\n",
    "ct_df = pd.DataFrame(circletrack_results)"
   ]
  },
  {
   "cell_type": "code",
   "execution_count": 13,
   "metadata": {},
   "outputs": [
    {
     "data": {
      "application/vnd.plotly.v1+json": {
       "config": {
        "plotlyServerURL": "https://plot.ly"
       },
       "data": [
        {
         "line": {
          "color": "midnightblue",
          "width": 1
         },
         "mode": "lines",
         "name": "mcp01",
         "opacity": 0.7,
         "showlegend": false,
         "type": "scatter",
         "x": [
          1,
          2,
          3,
          4,
          5,
          6,
          7,
          8,
          9,
          10,
          11,
          12,
          13,
          14
         ],
         "y": [
          22.131147540983605,
          27.586206896551722,
          26.82926829268293,
          31.756756756756754,
          55.45454545454545,
          71.11111111111111,
          31.25,
          38.372093023255815,
          52.77777777777778,
          59.199999999999996,
          63.1578947368421,
          69.89247311827957,
          59.86842105263158,
          62.58064516129033
         ]
        },
        {
         "line": {
          "color": "darkgrey",
          "width": 1
         },
         "mode": "lines",
         "name": "mcp02",
         "opacity": 0.7,
         "showlegend": false,
         "type": "scatter",
         "x": [
          1,
          2,
          3,
          4,
          5,
          6,
          7,
          8,
          9,
          10,
          11,
          12,
          13,
          14
         ],
         "y": [
          26.857142857142858,
          33.054393305439326,
          60.9375,
          73.04347826086956,
          56.12244897959183,
          66,
          47.161572052401745,
          61.58536585365854,
          68.75,
          71.12676056338029,
          73.15436241610739,
          84.57142857142857,
          55.84415584415584,
          58.730158730158735
         ]
        },
        {
         "line": {
          "color": "midnightblue",
          "width": 1
         },
         "mode": "lines",
         "name": "mcp03",
         "opacity": 0.7,
         "showlegend": false,
         "type": "scatter",
         "x": [
          1,
          2,
          3,
          4,
          5,
          6,
          7,
          8,
          9,
          10,
          11,
          12,
          13,
          14
         ],
         "y": [
          29.411764705882355,
          28.92561983471074,
          51.53846153846153,
          60.78431372549019,
          77.98165137614679,
          83.51648351648352,
          50.74626865671642,
          57.01754385964912,
          71.30434782608695,
          75.92592592592592,
          80.31496062992126,
          73.88059701492537,
          43.84615384615385,
          54.700854700854705
         ]
        },
        {
         "line": {
          "color": "darkgrey",
          "width": 1
         },
         "mode": "lines",
         "name": "mcp05",
         "opacity": 0.7,
         "showlegend": false,
         "type": "scatter",
         "x": [
          1,
          2,
          3,
          4,
          5,
          6,
          7,
          8,
          9,
          10,
          11,
          12,
          13,
          14
         ],
         "y": [
          28.717948717948715,
          37.02290076335878,
          65.55555555555556,
          52.28758169934641,
          60.73298429319372,
          63.507109004739334,
          37.096774193548384,
          51.26582278481012,
          58.59872611464968,
          64.16184971098265,
          66.66666666666666,
          58.235294117647065,
          40.51724137931034,
          43.386243386243386
         ]
        },
        {
         "line": {
          "color": "midnightblue",
          "width": 1
         },
         "mode": "lines",
         "name": "mcp08",
         "opacity": 0.7,
         "showlegend": false,
         "type": "scatter",
         "x": [
          1,
          2,
          3,
          4,
          5,
          6,
          7,
          8,
          9,
          10,
          11,
          12,
          13,
          14
         ],
         "y": [
          30.256410256410255,
          43.25581395348837,
          69.6774193548387,
          72.64957264957265,
          78.99159663865547,
          69.42675159235668,
          35.025380710659896,
          40.88888888888889,
          53.84615384615385,
          61.42857142857143,
          57.95454545454546,
          69.87951807228916,
          39.77272727272727,
          60.98901098901099
         ]
        },
        {
         "line": {
          "color": "darkgrey",
          "width": 1
         },
         "mode": "lines",
         "name": "mcp10",
         "opacity": 0.7,
         "showlegend": false,
         "type": "scatter",
         "x": [
          1,
          2,
          3,
          4,
          5,
          6,
          7,
          8,
          9,
          10,
          11,
          12,
          13,
          14
         ],
         "y": [
          25.96685082872928,
          31.753554502369667,
          47.12643678160919,
          57.692307692307686,
          70.2127659574468,
          65.51724137931035,
          44.13145539906103,
          46.009389671361504,
          44.827586206896555,
          57.446808510638306,
          59.32203389830508,
          54.5045045045045,
          48.38709677419355,
          65.68047337278107
         ]
        },
        {
         "error_y": {
          "array": [
           0.8104785261235699,
           1.5847755370912933,
           5.536265905226934,
           6.216808501316413,
           4.1476923223529925,
           0.7633330991047815,
           2.9811304952579527,
           4.574895823085065,
           6.932109417385047,
           3.9492815779123998,
           3.9956027139831334,
           9.462002054860646,
           4.425033966736988,
           6.586076653758658
          ],
          "type": "data"
         },
         "line": {
          "color": "darkgrey"
         },
         "mode": "lines+markers",
         "name": "thresh3_twoport",
         "showlegend": true,
         "type": "scatter",
         "x": [
          1,
          2,
          3,
          4,
          5,
          6,
          7,
          8,
          9,
          10,
          11,
          12,
          13,
          14
         ],
         "y": [
          27.180647467940286,
          33.94361619038926,
          57.87316411238825,
          61.007789217507884,
          62.35606641007745,
          65.00811679468323,
          42.79660054833706,
          52.953526103276715,
          57.39210410718207,
          64.24513959500041,
          66.38102099369304,
          65.7704090645267,
          48.24949799921992,
          55.932291829727724
         ]
        },
        {
         "error_y": {
          "array": [
           2.579197836134192,
           5.014894902075636,
           12.41757283263177,
           12.146343355906472,
           7.682893223402686,
           4.442539796596291,
           5.969851612048249,
           5.841045423397427,
           6.005385371200669,
           5.24349552680785,
           6.7553596854161055,
           1.3315390584128328,
           6.133436407560313,
           2.4056104162170917
          ],
          "type": "data"
         },
         "line": {
          "color": "midnightblue"
         },
         "mode": "lines+markers",
         "name": "thresh5_twoport",
         "showlegend": true,
         "type": "scatter",
         "x": [
          1,
          2,
          3,
          4,
          5,
          6,
          7,
          8,
          9,
          10,
          11,
          12,
          13,
          14
         ],
         "y": [
          27.266440834425406,
          33.25588022825028,
          49.34838306199439,
          55.063547710606535,
          70.80926448978256,
          74.6847820733171,
          39.007216455792104,
          45.42617525726461,
          59.30942648333953,
          65.51816578483245,
          67.14246694043628,
          71.21752940183137,
          47.82910072383757,
          59.423503617052006
         ]
        }
       ],
       "layout": {
        "annotations": [
         {
          "font": {
           "size": 22
          },
          "showarrow": false,
          "text": "Circle Track",
          "x": 0.5,
          "xanchor": "center",
          "xref": "paper",
          "y": 1,
          "yanchor": "bottom",
          "yref": "paper"
         }
        ],
        "font": {
         "family": "Arial",
         "size": 22
        },
        "height": 500,
        "shapes": [
         {
          "line": {
           "color": "darkgrey",
           "dash": "dash",
           "width": 1
          },
          "opacity": 1,
          "type": "line",
          "x0": 0,
          "x1": 1,
          "xref": "x domain",
          "y0": 75,
          "y1": 75,
          "yref": "y"
         },
         {
          "line": {
           "color": "darkgrey",
           "dash": "dash",
           "width": 1
          },
          "opacity": 1,
          "type": "line",
          "x0": 0,
          "x1": 1,
          "xref": "x domain",
          "y0": 25,
          "y1": 25,
          "yref": "y"
         },
         {
          "line": {
           "color": "darkgrey",
           "dash": "dash",
           "width": 1
          },
          "opacity": 1,
          "type": "line",
          "x0": 6.5,
          "x1": 6.5,
          "xref": "x",
          "y0": 0,
          "y1": 1,
          "yref": "y domain"
         },
         {
          "line": {
           "color": "darkgrey",
           "dash": "dash",
           "width": 1
          },
          "opacity": 1,
          "type": "line",
          "x0": 12.5,
          "x1": 12.5,
          "xref": "x",
          "y0": 0,
          "y1": 1,
          "yref": "y domain"
         }
        ],
        "template": {
         "data": {
          "bar": [
           {
            "error_x": {
             "color": "rgb(36,36,36)"
            },
            "error_y": {
             "color": "rgb(36,36,36)"
            },
            "marker": {
             "line": {
              "color": "white",
              "width": 0.5
             },
             "pattern": {
              "fillmode": "overlay",
              "size": 10,
              "solidity": 0.2
             }
            },
            "type": "bar"
           }
          ],
          "barpolar": [
           {
            "marker": {
             "line": {
              "color": "white",
              "width": 0.5
             },
             "pattern": {
              "fillmode": "overlay",
              "size": 10,
              "solidity": 0.2
             }
            },
            "type": "barpolar"
           }
          ],
          "carpet": [
           {
            "aaxis": {
             "endlinecolor": "rgb(36,36,36)",
             "gridcolor": "white",
             "linecolor": "white",
             "minorgridcolor": "white",
             "startlinecolor": "rgb(36,36,36)"
            },
            "baxis": {
             "endlinecolor": "rgb(36,36,36)",
             "gridcolor": "white",
             "linecolor": "white",
             "minorgridcolor": "white",
             "startlinecolor": "rgb(36,36,36)"
            },
            "type": "carpet"
           }
          ],
          "choropleth": [
           {
            "colorbar": {
             "outlinewidth": 1,
             "tickcolor": "rgb(36,36,36)",
             "ticks": "outside"
            },
            "type": "choropleth"
           }
          ],
          "contour": [
           {
            "colorbar": {
             "outlinewidth": 1,
             "tickcolor": "rgb(36,36,36)",
             "ticks": "outside"
            },
            "colorscale": [
             [
              0,
              "#440154"
             ],
             [
              0.1111111111111111,
              "#482878"
             ],
             [
              0.2222222222222222,
              "#3e4989"
             ],
             [
              0.3333333333333333,
              "#31688e"
             ],
             [
              0.4444444444444444,
              "#26828e"
             ],
             [
              0.5555555555555556,
              "#1f9e89"
             ],
             [
              0.6666666666666666,
              "#35b779"
             ],
             [
              0.7777777777777778,
              "#6ece58"
             ],
             [
              0.8888888888888888,
              "#b5de2b"
             ],
             [
              1,
              "#fde725"
             ]
            ],
            "type": "contour"
           }
          ],
          "contourcarpet": [
           {
            "colorbar": {
             "outlinewidth": 1,
             "tickcolor": "rgb(36,36,36)",
             "ticks": "outside"
            },
            "type": "contourcarpet"
           }
          ],
          "heatmap": [
           {
            "colorbar": {
             "outlinewidth": 1,
             "tickcolor": "rgb(36,36,36)",
             "ticks": "outside"
            },
            "colorscale": [
             [
              0,
              "#440154"
             ],
             [
              0.1111111111111111,
              "#482878"
             ],
             [
              0.2222222222222222,
              "#3e4989"
             ],
             [
              0.3333333333333333,
              "#31688e"
             ],
             [
              0.4444444444444444,
              "#26828e"
             ],
             [
              0.5555555555555556,
              "#1f9e89"
             ],
             [
              0.6666666666666666,
              "#35b779"
             ],
             [
              0.7777777777777778,
              "#6ece58"
             ],
             [
              0.8888888888888888,
              "#b5de2b"
             ],
             [
              1,
              "#fde725"
             ]
            ],
            "type": "heatmap"
           }
          ],
          "heatmapgl": [
           {
            "colorbar": {
             "outlinewidth": 1,
             "tickcolor": "rgb(36,36,36)",
             "ticks": "outside"
            },
            "colorscale": [
             [
              0,
              "#440154"
             ],
             [
              0.1111111111111111,
              "#482878"
             ],
             [
              0.2222222222222222,
              "#3e4989"
             ],
             [
              0.3333333333333333,
              "#31688e"
             ],
             [
              0.4444444444444444,
              "#26828e"
             ],
             [
              0.5555555555555556,
              "#1f9e89"
             ],
             [
              0.6666666666666666,
              "#35b779"
             ],
             [
              0.7777777777777778,
              "#6ece58"
             ],
             [
              0.8888888888888888,
              "#b5de2b"
             ],
             [
              1,
              "#fde725"
             ]
            ],
            "type": "heatmapgl"
           }
          ],
          "histogram": [
           {
            "marker": {
             "line": {
              "color": "white",
              "width": 0.6
             }
            },
            "type": "histogram"
           }
          ],
          "histogram2d": [
           {
            "colorbar": {
             "outlinewidth": 1,
             "tickcolor": "rgb(36,36,36)",
             "ticks": "outside"
            },
            "colorscale": [
             [
              0,
              "#440154"
             ],
             [
              0.1111111111111111,
              "#482878"
             ],
             [
              0.2222222222222222,
              "#3e4989"
             ],
             [
              0.3333333333333333,
              "#31688e"
             ],
             [
              0.4444444444444444,
              "#26828e"
             ],
             [
              0.5555555555555556,
              "#1f9e89"
             ],
             [
              0.6666666666666666,
              "#35b779"
             ],
             [
              0.7777777777777778,
              "#6ece58"
             ],
             [
              0.8888888888888888,
              "#b5de2b"
             ],
             [
              1,
              "#fde725"
             ]
            ],
            "type": "histogram2d"
           }
          ],
          "histogram2dcontour": [
           {
            "colorbar": {
             "outlinewidth": 1,
             "tickcolor": "rgb(36,36,36)",
             "ticks": "outside"
            },
            "colorscale": [
             [
              0,
              "#440154"
             ],
             [
              0.1111111111111111,
              "#482878"
             ],
             [
              0.2222222222222222,
              "#3e4989"
             ],
             [
              0.3333333333333333,
              "#31688e"
             ],
             [
              0.4444444444444444,
              "#26828e"
             ],
             [
              0.5555555555555556,
              "#1f9e89"
             ],
             [
              0.6666666666666666,
              "#35b779"
             ],
             [
              0.7777777777777778,
              "#6ece58"
             ],
             [
              0.8888888888888888,
              "#b5de2b"
             ],
             [
              1,
              "#fde725"
             ]
            ],
            "type": "histogram2dcontour"
           }
          ],
          "mesh3d": [
           {
            "colorbar": {
             "outlinewidth": 1,
             "tickcolor": "rgb(36,36,36)",
             "ticks": "outside"
            },
            "type": "mesh3d"
           }
          ],
          "parcoords": [
           {
            "line": {
             "colorbar": {
              "outlinewidth": 1,
              "tickcolor": "rgb(36,36,36)",
              "ticks": "outside"
             }
            },
            "type": "parcoords"
           }
          ],
          "pie": [
           {
            "automargin": true,
            "type": "pie"
           }
          ],
          "scatter": [
           {
            "fillpattern": {
             "fillmode": "overlay",
             "size": 10,
             "solidity": 0.2
            },
            "type": "scatter"
           }
          ],
          "scatter3d": [
           {
            "line": {
             "colorbar": {
              "outlinewidth": 1,
              "tickcolor": "rgb(36,36,36)",
              "ticks": "outside"
             }
            },
            "marker": {
             "colorbar": {
              "outlinewidth": 1,
              "tickcolor": "rgb(36,36,36)",
              "ticks": "outside"
             }
            },
            "type": "scatter3d"
           }
          ],
          "scattercarpet": [
           {
            "marker": {
             "colorbar": {
              "outlinewidth": 1,
              "tickcolor": "rgb(36,36,36)",
              "ticks": "outside"
             }
            },
            "type": "scattercarpet"
           }
          ],
          "scattergeo": [
           {
            "marker": {
             "colorbar": {
              "outlinewidth": 1,
              "tickcolor": "rgb(36,36,36)",
              "ticks": "outside"
             }
            },
            "type": "scattergeo"
           }
          ],
          "scattergl": [
           {
            "marker": {
             "colorbar": {
              "outlinewidth": 1,
              "tickcolor": "rgb(36,36,36)",
              "ticks": "outside"
             }
            },
            "type": "scattergl"
           }
          ],
          "scattermapbox": [
           {
            "marker": {
             "colorbar": {
              "outlinewidth": 1,
              "tickcolor": "rgb(36,36,36)",
              "ticks": "outside"
             }
            },
            "type": "scattermapbox"
           }
          ],
          "scatterpolar": [
           {
            "marker": {
             "colorbar": {
              "outlinewidth": 1,
              "tickcolor": "rgb(36,36,36)",
              "ticks": "outside"
             }
            },
            "type": "scatterpolar"
           }
          ],
          "scatterpolargl": [
           {
            "marker": {
             "colorbar": {
              "outlinewidth": 1,
              "tickcolor": "rgb(36,36,36)",
              "ticks": "outside"
             }
            },
            "type": "scatterpolargl"
           }
          ],
          "scatterternary": [
           {
            "marker": {
             "colorbar": {
              "outlinewidth": 1,
              "tickcolor": "rgb(36,36,36)",
              "ticks": "outside"
             }
            },
            "type": "scatterternary"
           }
          ],
          "surface": [
           {
            "colorbar": {
             "outlinewidth": 1,
             "tickcolor": "rgb(36,36,36)",
             "ticks": "outside"
            },
            "colorscale": [
             [
              0,
              "#440154"
             ],
             [
              0.1111111111111111,
              "#482878"
             ],
             [
              0.2222222222222222,
              "#3e4989"
             ],
             [
              0.3333333333333333,
              "#31688e"
             ],
             [
              0.4444444444444444,
              "#26828e"
             ],
             [
              0.5555555555555556,
              "#1f9e89"
             ],
             [
              0.6666666666666666,
              "#35b779"
             ],
             [
              0.7777777777777778,
              "#6ece58"
             ],
             [
              0.8888888888888888,
              "#b5de2b"
             ],
             [
              1,
              "#fde725"
             ]
            ],
            "type": "surface"
           }
          ],
          "table": [
           {
            "cells": {
             "fill": {
              "color": "rgb(237,237,237)"
             },
             "line": {
              "color": "white"
             }
            },
            "header": {
             "fill": {
              "color": "rgb(217,217,217)"
             },
             "line": {
              "color": "white"
             }
            },
            "type": "table"
           }
          ]
         },
         "layout": {
          "annotationdefaults": {
           "arrowhead": 0,
           "arrowwidth": 1
          },
          "autotypenumbers": "strict",
          "coloraxis": {
           "colorbar": {
            "outlinewidth": 1,
            "tickcolor": "rgb(36,36,36)",
            "ticks": "outside"
           }
          },
          "colorscale": {
           "diverging": [
            [
             0,
             "rgb(103,0,31)"
            ],
            [
             0.1,
             "rgb(178,24,43)"
            ],
            [
             0.2,
             "rgb(214,96,77)"
            ],
            [
             0.3,
             "rgb(244,165,130)"
            ],
            [
             0.4,
             "rgb(253,219,199)"
            ],
            [
             0.5,
             "rgb(247,247,247)"
            ],
            [
             0.6,
             "rgb(209,229,240)"
            ],
            [
             0.7,
             "rgb(146,197,222)"
            ],
            [
             0.8,
             "rgb(67,147,195)"
            ],
            [
             0.9,
             "rgb(33,102,172)"
            ],
            [
             1,
             "rgb(5,48,97)"
            ]
           ],
           "sequential": [
            [
             0,
             "#440154"
            ],
            [
             0.1111111111111111,
             "#482878"
            ],
            [
             0.2222222222222222,
             "#3e4989"
            ],
            [
             0.3333333333333333,
             "#31688e"
            ],
            [
             0.4444444444444444,
             "#26828e"
            ],
            [
             0.5555555555555556,
             "#1f9e89"
            ],
            [
             0.6666666666666666,
             "#35b779"
            ],
            [
             0.7777777777777778,
             "#6ece58"
            ],
            [
             0.8888888888888888,
             "#b5de2b"
            ],
            [
             1,
             "#fde725"
            ]
           ],
           "sequentialminus": [
            [
             0,
             "#440154"
            ],
            [
             0.1111111111111111,
             "#482878"
            ],
            [
             0.2222222222222222,
             "#3e4989"
            ],
            [
             0.3333333333333333,
             "#31688e"
            ],
            [
             0.4444444444444444,
             "#26828e"
            ],
            [
             0.5555555555555556,
             "#1f9e89"
            ],
            [
             0.6666666666666666,
             "#35b779"
            ],
            [
             0.7777777777777778,
             "#6ece58"
            ],
            [
             0.8888888888888888,
             "#b5de2b"
            ],
            [
             1,
             "#fde725"
            ]
           ]
          },
          "colorway": [
           "#1F77B4",
           "#FF7F0E",
           "#2CA02C",
           "#D62728",
           "#9467BD",
           "#8C564B",
           "#E377C2",
           "#7F7F7F",
           "#BCBD22",
           "#17BECF"
          ],
          "font": {
           "color": "rgb(36,36,36)"
          },
          "geo": {
           "bgcolor": "white",
           "lakecolor": "white",
           "landcolor": "white",
           "showlakes": true,
           "showland": true,
           "subunitcolor": "white"
          },
          "hoverlabel": {
           "align": "left"
          },
          "hovermode": "closest",
          "mapbox": {
           "style": "light"
          },
          "paper_bgcolor": "white",
          "plot_bgcolor": "white",
          "polar": {
           "angularaxis": {
            "gridcolor": "rgb(232,232,232)",
            "linecolor": "rgb(36,36,36)",
            "showgrid": false,
            "showline": true,
            "ticks": "outside"
           },
           "bgcolor": "white",
           "radialaxis": {
            "gridcolor": "rgb(232,232,232)",
            "linecolor": "rgb(36,36,36)",
            "showgrid": false,
            "showline": true,
            "ticks": "outside"
           }
          },
          "scene": {
           "xaxis": {
            "backgroundcolor": "white",
            "gridcolor": "rgb(232,232,232)",
            "gridwidth": 2,
            "linecolor": "rgb(36,36,36)",
            "showbackground": true,
            "showgrid": false,
            "showline": true,
            "ticks": "outside",
            "zeroline": false,
            "zerolinecolor": "rgb(36,36,36)"
           },
           "yaxis": {
            "backgroundcolor": "white",
            "gridcolor": "rgb(232,232,232)",
            "gridwidth": 2,
            "linecolor": "rgb(36,36,36)",
            "showbackground": true,
            "showgrid": false,
            "showline": true,
            "ticks": "outside",
            "zeroline": false,
            "zerolinecolor": "rgb(36,36,36)"
           },
           "zaxis": {
            "backgroundcolor": "white",
            "gridcolor": "rgb(232,232,232)",
            "gridwidth": 2,
            "linecolor": "rgb(36,36,36)",
            "showbackground": true,
            "showgrid": false,
            "showline": true,
            "ticks": "outside",
            "zeroline": false,
            "zerolinecolor": "rgb(36,36,36)"
           }
          },
          "shapedefaults": {
           "fillcolor": "black",
           "line": {
            "width": 0
           },
           "opacity": 0.3
          },
          "ternary": {
           "aaxis": {
            "gridcolor": "rgb(232,232,232)",
            "linecolor": "rgb(36,36,36)",
            "showgrid": false,
            "showline": true,
            "ticks": "outside"
           },
           "baxis": {
            "gridcolor": "rgb(232,232,232)",
            "linecolor": "rgb(36,36,36)",
            "showgrid": false,
            "showline": true,
            "ticks": "outside"
           },
           "bgcolor": "white",
           "caxis": {
            "gridcolor": "rgb(232,232,232)",
            "linecolor": "rgb(36,36,36)",
            "showgrid": false,
            "showline": true,
            "ticks": "outside"
           }
          },
          "title": {
           "x": 0.05
          },
          "xaxis": {
           "automargin": true,
           "gridcolor": "rgb(232,232,232)",
           "linecolor": "rgb(36,36,36)",
           "showgrid": false,
           "showline": true,
           "ticks": "outside",
           "title": {
            "standoff": 15
           },
           "zeroline": false,
           "zerolinecolor": "rgb(36,36,36)"
          },
          "yaxis": {
           "automargin": true,
           "gridcolor": "rgb(232,232,232)",
           "linecolor": "rgb(36,36,36)",
           "showgrid": false,
           "showline": true,
           "ticks": "outside",
           "title": {
            "standoff": 15
           },
           "zeroline": false,
           "zerolinecolor": "rgb(36,36,36)"
          }
         }
        },
        "title": {
         "x": 0.5,
         "xanchor": "center",
         "y": 0.9,
         "yanchor": "top"
        },
        "width": 600,
        "xaxis": {
         "anchor": "y",
         "domain": [
          0,
          1
         ],
         "linewidth": 1.5,
         "title": {
          "text": "Day"
         }
        },
        "yaxis": {
         "anchor": "x",
         "domain": [
          0,
          1
         ],
         "dtick": 25,
         "linewidth": 1.5,
         "range": [
          0,
          100
         ],
         "title": {
          "text": "Lick Accuracy"
         }
        }
       }
      },
      "text/html": [
       "<div>                            <div id=\"aea35edc-bb1b-492a-8435-2cf44f72b805\" class=\"plotly-graph-div\" style=\"height:500px; width:600px;\"></div>            <script type=\"text/javascript\">                require([\"plotly\"], function(Plotly) {                    window.PLOTLYENV=window.PLOTLYENV || {};                                    if (document.getElementById(\"aea35edc-bb1b-492a-8435-2cf44f72b805\")) {                    Plotly.newPlot(                        \"aea35edc-bb1b-492a-8435-2cf44f72b805\",                        [{\"line\":{\"color\":\"midnightblue\",\"width\":1},\"mode\":\"lines\",\"name\":\"mcp01\",\"opacity\":0.7,\"showlegend\":false,\"x\":[1,2,3,4,5,6,7,8,9,10,11,12,13,14],\"y\":[22.131147540983605,27.586206896551722,26.82926829268293,31.756756756756754,55.45454545454545,71.11111111111111,31.25,38.372093023255815,52.77777777777778,59.199999999999996,63.1578947368421,69.89247311827957,59.86842105263158,62.58064516129033],\"type\":\"scatter\"},{\"line\":{\"color\":\"darkgrey\",\"width\":1},\"mode\":\"lines\",\"name\":\"mcp02\",\"opacity\":0.7,\"showlegend\":false,\"x\":[1,2,3,4,5,6,7,8,9,10,11,12,13,14],\"y\":[26.857142857142858,33.054393305439326,60.9375,73.04347826086956,56.12244897959183,66.0,47.161572052401745,61.58536585365854,68.75,71.12676056338029,73.15436241610739,84.57142857142857,55.84415584415584,58.730158730158735],\"type\":\"scatter\"},{\"line\":{\"color\":\"midnightblue\",\"width\":1},\"mode\":\"lines\",\"name\":\"mcp03\",\"opacity\":0.7,\"showlegend\":false,\"x\":[1,2,3,4,5,6,7,8,9,10,11,12,13,14],\"y\":[29.411764705882355,28.92561983471074,51.53846153846153,60.78431372549019,77.98165137614679,83.51648351648352,50.74626865671642,57.01754385964912,71.30434782608695,75.92592592592592,80.31496062992126,73.88059701492537,43.84615384615385,54.700854700854705],\"type\":\"scatter\"},{\"line\":{\"color\":\"darkgrey\",\"width\":1},\"mode\":\"lines\",\"name\":\"mcp05\",\"opacity\":0.7,\"showlegend\":false,\"x\":[1,2,3,4,5,6,7,8,9,10,11,12,13,14],\"y\":[28.717948717948715,37.02290076335878,65.55555555555556,52.28758169934641,60.73298429319372,63.507109004739334,37.096774193548384,51.26582278481012,58.59872611464968,64.16184971098265,66.66666666666666,58.235294117647065,40.51724137931034,43.386243386243386],\"type\":\"scatter\"},{\"line\":{\"color\":\"midnightblue\",\"width\":1},\"mode\":\"lines\",\"name\":\"mcp08\",\"opacity\":0.7,\"showlegend\":false,\"x\":[1,2,3,4,5,6,7,8,9,10,11,12,13,14],\"y\":[30.256410256410255,43.25581395348837,69.6774193548387,72.64957264957265,78.99159663865547,69.42675159235668,35.025380710659896,40.88888888888889,53.84615384615385,61.42857142857143,57.95454545454546,69.87951807228916,39.77272727272727,60.98901098901099],\"type\":\"scatter\"},{\"line\":{\"color\":\"darkgrey\",\"width\":1},\"mode\":\"lines\",\"name\":\"mcp10\",\"opacity\":0.7,\"showlegend\":false,\"x\":[1,2,3,4,5,6,7,8,9,10,11,12,13,14],\"y\":[25.96685082872928,31.753554502369667,47.12643678160919,57.692307692307686,70.2127659574468,65.51724137931035,44.13145539906103,46.009389671361504,44.827586206896555,57.446808510638306,59.32203389830508,54.5045045045045,48.38709677419355,65.68047337278107],\"type\":\"scatter\"},{\"error_y\":{\"array\":[0.8104785261235699,1.5847755370912933,5.536265905226934,6.216808501316413,4.1476923223529925,0.7633330991047815,2.9811304952579527,4.574895823085065,6.932109417385047,3.9492815779123998,3.9956027139831334,9.462002054860646,4.425033966736988,6.586076653758658],\"type\":\"data\"},\"line\":{\"color\":\"darkgrey\"},\"mode\":\"lines+markers\",\"name\":\"thresh3_twoport\",\"showlegend\":true,\"x\":[1,2,3,4,5,6,7,8,9,10,11,12,13,14],\"y\":[27.180647467940286,33.94361619038926,57.87316411238825,61.007789217507884,62.35606641007745,65.00811679468323,42.79660054833706,52.953526103276715,57.39210410718207,64.24513959500041,66.38102099369304,65.7704090645267,48.24949799921992,55.932291829727724],\"type\":\"scatter\"},{\"error_y\":{\"array\":[2.579197836134192,5.014894902075636,12.41757283263177,12.146343355906472,7.682893223402686,4.442539796596291,5.969851612048249,5.841045423397427,6.005385371200669,5.24349552680785,6.7553596854161055,1.3315390584128328,6.133436407560313,2.4056104162170917],\"type\":\"data\"},\"line\":{\"color\":\"midnightblue\"},\"mode\":\"lines+markers\",\"name\":\"thresh5_twoport\",\"showlegend\":true,\"x\":[1,2,3,4,5,6,7,8,9,10,11,12,13,14],\"y\":[27.266440834425406,33.25588022825028,49.34838306199439,55.063547710606535,70.80926448978256,74.6847820733171,39.007216455792104,45.42617525726461,59.30942648333953,65.51816578483245,67.14246694043628,71.21752940183137,47.82910072383757,59.423503617052006],\"type\":\"scatter\"}],                        {\"template\":{\"data\":{\"barpolar\":[{\"marker\":{\"line\":{\"color\":\"white\",\"width\":0.5},\"pattern\":{\"fillmode\":\"overlay\",\"size\":10,\"solidity\":0.2}},\"type\":\"barpolar\"}],\"bar\":[{\"error_x\":{\"color\":\"rgb(36,36,36)\"},\"error_y\":{\"color\":\"rgb(36,36,36)\"},\"marker\":{\"line\":{\"color\":\"white\",\"width\":0.5},\"pattern\":{\"fillmode\":\"overlay\",\"size\":10,\"solidity\":0.2}},\"type\":\"bar\"}],\"carpet\":[{\"aaxis\":{\"endlinecolor\":\"rgb(36,36,36)\",\"gridcolor\":\"white\",\"linecolor\":\"white\",\"minorgridcolor\":\"white\",\"startlinecolor\":\"rgb(36,36,36)\"},\"baxis\":{\"endlinecolor\":\"rgb(36,36,36)\",\"gridcolor\":\"white\",\"linecolor\":\"white\",\"minorgridcolor\":\"white\",\"startlinecolor\":\"rgb(36,36,36)\"},\"type\":\"carpet\"}],\"choropleth\":[{\"colorbar\":{\"outlinewidth\":1,\"tickcolor\":\"rgb(36,36,36)\",\"ticks\":\"outside\"},\"type\":\"choropleth\"}],\"contourcarpet\":[{\"colorbar\":{\"outlinewidth\":1,\"tickcolor\":\"rgb(36,36,36)\",\"ticks\":\"outside\"},\"type\":\"contourcarpet\"}],\"contour\":[{\"colorbar\":{\"outlinewidth\":1,\"tickcolor\":\"rgb(36,36,36)\",\"ticks\":\"outside\"},\"colorscale\":[[0.0,\"#440154\"],[0.1111111111111111,\"#482878\"],[0.2222222222222222,\"#3e4989\"],[0.3333333333333333,\"#31688e\"],[0.4444444444444444,\"#26828e\"],[0.5555555555555556,\"#1f9e89\"],[0.6666666666666666,\"#35b779\"],[0.7777777777777778,\"#6ece58\"],[0.8888888888888888,\"#b5de2b\"],[1.0,\"#fde725\"]],\"type\":\"contour\"}],\"heatmapgl\":[{\"colorbar\":{\"outlinewidth\":1,\"tickcolor\":\"rgb(36,36,36)\",\"ticks\":\"outside\"},\"colorscale\":[[0.0,\"#440154\"],[0.1111111111111111,\"#482878\"],[0.2222222222222222,\"#3e4989\"],[0.3333333333333333,\"#31688e\"],[0.4444444444444444,\"#26828e\"],[0.5555555555555556,\"#1f9e89\"],[0.6666666666666666,\"#35b779\"],[0.7777777777777778,\"#6ece58\"],[0.8888888888888888,\"#b5de2b\"],[1.0,\"#fde725\"]],\"type\":\"heatmapgl\"}],\"heatmap\":[{\"colorbar\":{\"outlinewidth\":1,\"tickcolor\":\"rgb(36,36,36)\",\"ticks\":\"outside\"},\"colorscale\":[[0.0,\"#440154\"],[0.1111111111111111,\"#482878\"],[0.2222222222222222,\"#3e4989\"],[0.3333333333333333,\"#31688e\"],[0.4444444444444444,\"#26828e\"],[0.5555555555555556,\"#1f9e89\"],[0.6666666666666666,\"#35b779\"],[0.7777777777777778,\"#6ece58\"],[0.8888888888888888,\"#b5de2b\"],[1.0,\"#fde725\"]],\"type\":\"heatmap\"}],\"histogram2dcontour\":[{\"colorbar\":{\"outlinewidth\":1,\"tickcolor\":\"rgb(36,36,36)\",\"ticks\":\"outside\"},\"colorscale\":[[0.0,\"#440154\"],[0.1111111111111111,\"#482878\"],[0.2222222222222222,\"#3e4989\"],[0.3333333333333333,\"#31688e\"],[0.4444444444444444,\"#26828e\"],[0.5555555555555556,\"#1f9e89\"],[0.6666666666666666,\"#35b779\"],[0.7777777777777778,\"#6ece58\"],[0.8888888888888888,\"#b5de2b\"],[1.0,\"#fde725\"]],\"type\":\"histogram2dcontour\"}],\"histogram2d\":[{\"colorbar\":{\"outlinewidth\":1,\"tickcolor\":\"rgb(36,36,36)\",\"ticks\":\"outside\"},\"colorscale\":[[0.0,\"#440154\"],[0.1111111111111111,\"#482878\"],[0.2222222222222222,\"#3e4989\"],[0.3333333333333333,\"#31688e\"],[0.4444444444444444,\"#26828e\"],[0.5555555555555556,\"#1f9e89\"],[0.6666666666666666,\"#35b779\"],[0.7777777777777778,\"#6ece58\"],[0.8888888888888888,\"#b5de2b\"],[1.0,\"#fde725\"]],\"type\":\"histogram2d\"}],\"histogram\":[{\"marker\":{\"line\":{\"color\":\"white\",\"width\":0.6}},\"type\":\"histogram\"}],\"mesh3d\":[{\"colorbar\":{\"outlinewidth\":1,\"tickcolor\":\"rgb(36,36,36)\",\"ticks\":\"outside\"},\"type\":\"mesh3d\"}],\"parcoords\":[{\"line\":{\"colorbar\":{\"outlinewidth\":1,\"tickcolor\":\"rgb(36,36,36)\",\"ticks\":\"outside\"}},\"type\":\"parcoords\"}],\"pie\":[{\"automargin\":true,\"type\":\"pie\"}],\"scatter3d\":[{\"line\":{\"colorbar\":{\"outlinewidth\":1,\"tickcolor\":\"rgb(36,36,36)\",\"ticks\":\"outside\"}},\"marker\":{\"colorbar\":{\"outlinewidth\":1,\"tickcolor\":\"rgb(36,36,36)\",\"ticks\":\"outside\"}},\"type\":\"scatter3d\"}],\"scattercarpet\":[{\"marker\":{\"colorbar\":{\"outlinewidth\":1,\"tickcolor\":\"rgb(36,36,36)\",\"ticks\":\"outside\"}},\"type\":\"scattercarpet\"}],\"scattergeo\":[{\"marker\":{\"colorbar\":{\"outlinewidth\":1,\"tickcolor\":\"rgb(36,36,36)\",\"ticks\":\"outside\"}},\"type\":\"scattergeo\"}],\"scattergl\":[{\"marker\":{\"colorbar\":{\"outlinewidth\":1,\"tickcolor\":\"rgb(36,36,36)\",\"ticks\":\"outside\"}},\"type\":\"scattergl\"}],\"scattermapbox\":[{\"marker\":{\"colorbar\":{\"outlinewidth\":1,\"tickcolor\":\"rgb(36,36,36)\",\"ticks\":\"outside\"}},\"type\":\"scattermapbox\"}],\"scatterpolargl\":[{\"marker\":{\"colorbar\":{\"outlinewidth\":1,\"tickcolor\":\"rgb(36,36,36)\",\"ticks\":\"outside\"}},\"type\":\"scatterpolargl\"}],\"scatterpolar\":[{\"marker\":{\"colorbar\":{\"outlinewidth\":1,\"tickcolor\":\"rgb(36,36,36)\",\"ticks\":\"outside\"}},\"type\":\"scatterpolar\"}],\"scatter\":[{\"fillpattern\":{\"fillmode\":\"overlay\",\"size\":10,\"solidity\":0.2},\"type\":\"scatter\"}],\"scatterternary\":[{\"marker\":{\"colorbar\":{\"outlinewidth\":1,\"tickcolor\":\"rgb(36,36,36)\",\"ticks\":\"outside\"}},\"type\":\"scatterternary\"}],\"surface\":[{\"colorbar\":{\"outlinewidth\":1,\"tickcolor\":\"rgb(36,36,36)\",\"ticks\":\"outside\"},\"colorscale\":[[0.0,\"#440154\"],[0.1111111111111111,\"#482878\"],[0.2222222222222222,\"#3e4989\"],[0.3333333333333333,\"#31688e\"],[0.4444444444444444,\"#26828e\"],[0.5555555555555556,\"#1f9e89\"],[0.6666666666666666,\"#35b779\"],[0.7777777777777778,\"#6ece58\"],[0.8888888888888888,\"#b5de2b\"],[1.0,\"#fde725\"]],\"type\":\"surface\"}],\"table\":[{\"cells\":{\"fill\":{\"color\":\"rgb(237,237,237)\"},\"line\":{\"color\":\"white\"}},\"header\":{\"fill\":{\"color\":\"rgb(217,217,217)\"},\"line\":{\"color\":\"white\"}},\"type\":\"table\"}]},\"layout\":{\"annotationdefaults\":{\"arrowhead\":0,\"arrowwidth\":1},\"autotypenumbers\":\"strict\",\"coloraxis\":{\"colorbar\":{\"outlinewidth\":1,\"tickcolor\":\"rgb(36,36,36)\",\"ticks\":\"outside\"}},\"colorscale\":{\"diverging\":[[0.0,\"rgb(103,0,31)\"],[0.1,\"rgb(178,24,43)\"],[0.2,\"rgb(214,96,77)\"],[0.3,\"rgb(244,165,130)\"],[0.4,\"rgb(253,219,199)\"],[0.5,\"rgb(247,247,247)\"],[0.6,\"rgb(209,229,240)\"],[0.7,\"rgb(146,197,222)\"],[0.8,\"rgb(67,147,195)\"],[0.9,\"rgb(33,102,172)\"],[1.0,\"rgb(5,48,97)\"]],\"sequential\":[[0.0,\"#440154\"],[0.1111111111111111,\"#482878\"],[0.2222222222222222,\"#3e4989\"],[0.3333333333333333,\"#31688e\"],[0.4444444444444444,\"#26828e\"],[0.5555555555555556,\"#1f9e89\"],[0.6666666666666666,\"#35b779\"],[0.7777777777777778,\"#6ece58\"],[0.8888888888888888,\"#b5de2b\"],[1.0,\"#fde725\"]],\"sequentialminus\":[[0.0,\"#440154\"],[0.1111111111111111,\"#482878\"],[0.2222222222222222,\"#3e4989\"],[0.3333333333333333,\"#31688e\"],[0.4444444444444444,\"#26828e\"],[0.5555555555555556,\"#1f9e89\"],[0.6666666666666666,\"#35b779\"],[0.7777777777777778,\"#6ece58\"],[0.8888888888888888,\"#b5de2b\"],[1.0,\"#fde725\"]]},\"colorway\":[\"#1F77B4\",\"#FF7F0E\",\"#2CA02C\",\"#D62728\",\"#9467BD\",\"#8C564B\",\"#E377C2\",\"#7F7F7F\",\"#BCBD22\",\"#17BECF\"],\"font\":{\"color\":\"rgb(36,36,36)\"},\"geo\":{\"bgcolor\":\"white\",\"lakecolor\":\"white\",\"landcolor\":\"white\",\"showlakes\":true,\"showland\":true,\"subunitcolor\":\"white\"},\"hoverlabel\":{\"align\":\"left\"},\"hovermode\":\"closest\",\"mapbox\":{\"style\":\"light\"},\"paper_bgcolor\":\"white\",\"plot_bgcolor\":\"white\",\"polar\":{\"angularaxis\":{\"gridcolor\":\"rgb(232,232,232)\",\"linecolor\":\"rgb(36,36,36)\",\"showgrid\":false,\"showline\":true,\"ticks\":\"outside\"},\"bgcolor\":\"white\",\"radialaxis\":{\"gridcolor\":\"rgb(232,232,232)\",\"linecolor\":\"rgb(36,36,36)\",\"showgrid\":false,\"showline\":true,\"ticks\":\"outside\"}},\"scene\":{\"xaxis\":{\"backgroundcolor\":\"white\",\"gridcolor\":\"rgb(232,232,232)\",\"gridwidth\":2,\"linecolor\":\"rgb(36,36,36)\",\"showbackground\":true,\"showgrid\":false,\"showline\":true,\"ticks\":\"outside\",\"zeroline\":false,\"zerolinecolor\":\"rgb(36,36,36)\"},\"yaxis\":{\"backgroundcolor\":\"white\",\"gridcolor\":\"rgb(232,232,232)\",\"gridwidth\":2,\"linecolor\":\"rgb(36,36,36)\",\"showbackground\":true,\"showgrid\":false,\"showline\":true,\"ticks\":\"outside\",\"zeroline\":false,\"zerolinecolor\":\"rgb(36,36,36)\"},\"zaxis\":{\"backgroundcolor\":\"white\",\"gridcolor\":\"rgb(232,232,232)\",\"gridwidth\":2,\"linecolor\":\"rgb(36,36,36)\",\"showbackground\":true,\"showgrid\":false,\"showline\":true,\"ticks\":\"outside\",\"zeroline\":false,\"zerolinecolor\":\"rgb(36,36,36)\"}},\"shapedefaults\":{\"fillcolor\":\"black\",\"line\":{\"width\":0},\"opacity\":0.3},\"ternary\":{\"aaxis\":{\"gridcolor\":\"rgb(232,232,232)\",\"linecolor\":\"rgb(36,36,36)\",\"showgrid\":false,\"showline\":true,\"ticks\":\"outside\"},\"baxis\":{\"gridcolor\":\"rgb(232,232,232)\",\"linecolor\":\"rgb(36,36,36)\",\"showgrid\":false,\"showline\":true,\"ticks\":\"outside\"},\"bgcolor\":\"white\",\"caxis\":{\"gridcolor\":\"rgb(232,232,232)\",\"linecolor\":\"rgb(36,36,36)\",\"showgrid\":false,\"showline\":true,\"ticks\":\"outside\"}},\"title\":{\"x\":0.05},\"xaxis\":{\"automargin\":true,\"gridcolor\":\"rgb(232,232,232)\",\"linecolor\":\"rgb(36,36,36)\",\"showgrid\":false,\"showline\":true,\"ticks\":\"outside\",\"title\":{\"standoff\":15},\"zeroline\":false,\"zerolinecolor\":\"rgb(36,36,36)\"},\"yaxis\":{\"automargin\":true,\"gridcolor\":\"rgb(232,232,232)\",\"linecolor\":\"rgb(36,36,36)\",\"showgrid\":false,\"showline\":true,\"ticks\":\"outside\",\"title\":{\"standoff\":15},\"zeroline\":false,\"zerolinecolor\":\"rgb(36,36,36)\"}}},\"xaxis\":{\"anchor\":\"y\",\"domain\":[0.0,1.0],\"title\":{\"text\":\"Day\"},\"linewidth\":1.5},\"yaxis\":{\"anchor\":\"x\",\"domain\":[0.0,1.0],\"title\":{\"text\":\"Lick Accuracy\"},\"linewidth\":1.5,\"range\":[0,100],\"dtick\":25},\"annotations\":[{\"font\":{\"size\":22},\"showarrow\":false,\"text\":\"Circle Track\",\"x\":0.5,\"xanchor\":\"center\",\"xref\":\"paper\",\"y\":1.0,\"yanchor\":\"bottom\",\"yref\":\"paper\"}],\"title\":{\"y\":0.9,\"x\":0.5,\"xanchor\":\"center\",\"yanchor\":\"top\"},\"font\":{\"size\":22,\"family\":\"Arial\"},\"height\":500,\"width\":600,\"shapes\":[{\"line\":{\"color\":\"darkgrey\",\"dash\":\"dash\",\"width\":1},\"opacity\":1,\"type\":\"line\",\"x0\":0,\"x1\":1,\"xref\":\"x domain\",\"y0\":75,\"y1\":75,\"yref\":\"y\"},{\"line\":{\"color\":\"darkgrey\",\"dash\":\"dash\",\"width\":1},\"opacity\":1,\"type\":\"line\",\"x0\":0,\"x1\":1,\"xref\":\"x domain\",\"y0\":25,\"y1\":25,\"yref\":\"y\"},{\"line\":{\"color\":\"darkgrey\",\"dash\":\"dash\",\"width\":1},\"opacity\":1,\"type\":\"line\",\"x0\":6.5,\"x1\":6.5,\"xref\":\"x\",\"y0\":0,\"y1\":1,\"yref\":\"y domain\"},{\"line\":{\"color\":\"darkgrey\",\"dash\":\"dash\",\"width\":1},\"opacity\":1,\"type\":\"line\",\"x0\":12.5,\"x1\":12.5,\"xref\":\"x\",\"y0\":0,\"y1\":1,\"yref\":\"y domain\"}]},                        {\"responsive\": true}                    ).then(function(){\n",
       "                            \n",
       "var gd = document.getElementById('aea35edc-bb1b-492a-8435-2cf44f72b805');\n",
       "var x = new MutationObserver(function (mutations, observer) {{\n",
       "        var display = window.getComputedStyle(gd).display;\n",
       "        if (!display || display === 'none') {{\n",
       "            console.log([gd, 'removed!']);\n",
       "            Plotly.purge(gd);\n",
       "            observer.disconnect();\n",
       "        }}\n",
       "}});\n",
       "\n",
       "// Listen for the removal of the full notebook cells\n",
       "var notebookContainer = gd.closest('#notebook-container');\n",
       "if (notebookContainer) {{\n",
       "    x.observe(notebookContainer, {childList: true});\n",
       "}}\n",
       "\n",
       "// Listen for the clearing of the current output cell\n",
       "var outputEl = gd.closest('.output');\n",
       "if (outputEl) {{\n",
       "    x.observe(outputEl, {childList: true});\n",
       "}}\n",
       "\n",
       "                        })                };                });            </script>        </div>"
      ]
     },
     "metadata": {},
     "output_type": "display_data"
    },
    {
     "data": {
      "text/html": [
       "<div>\n",
       "<style scoped>\n",
       "    .dataframe tbody tr th:only-of-type {\n",
       "        vertical-align: middle;\n",
       "    }\n",
       "\n",
       "    .dataframe tbody tr th {\n",
       "        vertical-align: top;\n",
       "    }\n",
       "\n",
       "    .dataframe thead th {\n",
       "        text-align: right;\n",
       "    }\n",
       "</style>\n",
       "<table border=\"1\" class=\"dataframe\">\n",
       "  <thead>\n",
       "    <tr style=\"text-align: right;\">\n",
       "      <th></th>\n",
       "      <th>Source</th>\n",
       "      <th>SS</th>\n",
       "      <th>DF1</th>\n",
       "      <th>DF2</th>\n",
       "      <th>MS</th>\n",
       "      <th>F</th>\n",
       "      <th>p-unc</th>\n",
       "      <th>np2</th>\n",
       "      <th>eps</th>\n",
       "    </tr>\n",
       "  </thead>\n",
       "  <tbody>\n",
       "    <tr>\n",
       "      <th>0</th>\n",
       "      <td>group</td>\n",
       "      <td>1.900719</td>\n",
       "      <td>1</td>\n",
       "      <td>4</td>\n",
       "      <td>1.900719</td>\n",
       "      <td>0.004569</td>\n",
       "      <td>9.493545e-01</td>\n",
       "      <td>0.001141</td>\n",
       "      <td>NaN</td>\n",
       "    </tr>\n",
       "    <tr>\n",
       "      <th>1</th>\n",
       "      <td>day</td>\n",
       "      <td>13856.117561</td>\n",
       "      <td>13</td>\n",
       "      <td>52</td>\n",
       "      <td>1065.855197</td>\n",
       "      <td>12.987790</td>\n",
       "      <td>4.544595e-12</td>\n",
       "      <td>0.764537</td>\n",
       "      <td>0.257918</td>\n",
       "    </tr>\n",
       "    <tr>\n",
       "      <th>2</th>\n",
       "      <td>Interaction</td>\n",
       "      <td>586.870320</td>\n",
       "      <td>13</td>\n",
       "      <td>52</td>\n",
       "      <td>45.143871</td>\n",
       "      <td>0.550093</td>\n",
       "      <td>8.811793e-01</td>\n",
       "      <td>0.120897</td>\n",
       "      <td>NaN</td>\n",
       "    </tr>\n",
       "  </tbody>\n",
       "</table>\n",
       "</div>"
      ],
      "text/plain": [
       "        Source            SS  DF1  DF2           MS          F         p-unc  \\\n",
       "0        group      1.900719    1    4     1.900719   0.004569  9.493545e-01   \n",
       "1          day  13856.117561   13   52  1065.855197  12.987790  4.544595e-12   \n",
       "2  Interaction    586.870320   13   52    45.143871   0.550093  8.811793e-01   \n",
       "\n",
       "        np2       eps  \n",
       "0  0.001141       NaN  \n",
       "1  0.764537  0.257918  \n",
       "2  0.120897       NaN  "
      ]
     },
     "execution_count": 13,
     "metadata": {},
     "output_type": "execute_result"
    }
   ],
   "source": [
    "## Plot lick accuracy across days\n",
    "fig = pf.plot_behavior_across_days(ct_df, x_var='day', y_var='lick_accuracy', groupby_var=['day', 'group'], plot_transitions=[6.5, 12.5],\n",
    "                                   marker_color=two_color_plots, avg_color='darkgrey', expert_line=True, chance=True,\n",
    "                                   transition_color=['darkgrey', 'darkgrey'],\n",
    "                                   x_title='Day', y_title='Lick Accuracy', titles=['Circle Track'], height=500, width=600)\n",
    "fig.update_yaxes(range=[0, 100], dtick=25)\n",
    "fig.show()\n",
    "fig.write_image(pjoin(fig_path, 'lick_accuracy.png'))\n",
    "ct_df.mixed_anova(dv='lick_accuracy', within='day', subject='mouse', between='group')"
   ]
  },
  {
   "cell_type": "code",
   "execution_count": 14,
   "metadata": {},
   "outputs": [
    {
     "data": {
      "application/vnd.plotly.v1+json": {
       "config": {
        "plotlyServerURL": "https://plot.ly"
       },
       "data": [
        {
         "line": {
          "color": "midnightblue",
          "width": 1
         },
         "mode": "lines",
         "name": "mcp01",
         "opacity": 0.7,
         "showlegend": false,
         "type": "scatter",
         "x": [
          1,
          2,
          3,
          4,
          5,
          6,
          7,
          8,
          9,
          10,
          11,
          12,
          13,
          14
         ],
         "y": [
          5,
          10,
          23,
          27,
          53,
          60,
          3,
          7,
          43,
          64,
          54,
          50,
          73,
          86
         ]
        },
        {
         "line": {
          "color": "darkgrey",
          "width": 1
         },
         "mode": "lines",
         "name": "mcp02",
         "opacity": 0.7,
         "showlegend": false,
         "type": "scatter",
         "x": [
          1,
          2,
          3,
          4,
          5,
          6,
          7,
          8,
          9,
          10,
          11,
          12,
          13,
          14
         ],
         "y": [
          30,
          60,
          99,
          74,
          33,
          43,
          81,
          92,
          95,
          88,
          101,
          131,
          78,
          67
         ]
        },
        {
         "line": {
          "color": "midnightblue",
          "width": 1
         },
         "mode": "lines",
         "name": "mcp03",
         "opacity": 0.7,
         "showlegend": false,
         "type": "scatter",
         "x": [
          1,
          2,
          3,
          4,
          5,
          6,
          7,
          8,
          9,
          10,
          11,
          12,
          13,
          14
         ],
         "y": [
          1,
          14,
          52,
          50,
          78,
          74,
          55,
          54,
          73,
          66,
          93,
          84,
          38,
          49
         ]
        },
        {
         "line": {
          "color": "darkgrey",
          "width": 1
         },
         "mode": "lines",
         "name": "mcp05",
         "opacity": 0.7,
         "showlegend": false,
         "type": "scatter",
         "x": [
          1,
          2,
          3,
          4,
          5,
          6,
          7,
          8,
          9,
          10,
          11,
          12,
          13,
          14
         ],
         "y": [
          36,
          81,
          105,
          67,
          100,
          78,
          76,
          74,
          90,
          103,
          94,
          94,
          72,
          76
         ]
        },
        {
         "line": {
          "color": "midnightblue",
          "width": 1
         },
         "mode": "lines",
         "name": "mcp08",
         "opacity": 0.7,
         "showlegend": false,
         "type": "scatter",
         "x": [
          1,
          2,
          3,
          4,
          5,
          6,
          7,
          8,
          9,
          10,
          11,
          12,
          13,
          14
         ],
         "y": [
          38,
          68,
          93,
          73,
          86,
          101,
          56,
          80,
          78,
          71,
          94,
          107,
          86,
          102
         ]
        },
        {
         "line": {
          "color": "darkgrey",
          "width": 1
         },
         "mode": "lines",
         "name": "mcp10",
         "opacity": 0.7,
         "showlegend": false,
         "type": "scatter",
         "x": [
          1,
          2,
          3,
          4,
          5,
          6,
          7,
          8,
          9,
          10,
          11,
          12,
          13,
          14
         ],
         "y": [
          27,
          42,
          68,
          50,
          61,
          69,
          60,
          90,
          87,
          95,
          96,
          111,
          77,
          104
         ]
        },
        {
         "error_y": {
          "array": [
           2.6457513110645907,
           11.269427669584646,
           11.464922347946562,
           7.125852775477316,
           19.427929494530407,
           10.493384159131464,
           6.333333333333332,
           5.696002496878355,
           2.333333333333335,
           4.333333333333334,
           2.0816659994661326,
           10.692676621563628,
           1.8559214542766735,
           11.140516644712271
          ],
          "type": "data"
         },
         "line": {
          "color": "darkgrey"
         },
         "mode": "lines+markers",
         "name": "thresh3_twoport",
         "showlegend": true,
         "type": "scatter",
         "x": [
          1,
          2,
          3,
          4,
          5,
          6,
          7,
          8,
          9,
          10,
          11,
          12,
          13,
          14
         ],
         "y": [
          31,
          61,
          90.66666666666667,
          63.666666666666664,
          64.66666666666667,
          63.333333333333336,
          72.33333333333333,
          85.33333333333333,
          90.66666666666667,
          95.33333333333333,
          97,
          112,
          75.66666666666667,
          82.33333333333333
         ]
        },
        {
         "error_y": {
          "array": [
           11.723670263379317,
           18.702346852140717,
           20.305992547357377,
           13.279056191361393,
           9.938701010583719,
           12.032363765186698,
           17.502380790433435,
           21.361959960016154,
           10.929064207169999,
           2.0816659994661326,
           13.16983084342561,
           16.55630125091686,
           14.333333333333334,
           15.695009822658072
          ],
          "type": "data"
         },
         "line": {
          "color": "midnightblue"
         },
         "mode": "lines+markers",
         "name": "thresh5_twoport",
         "showlegend": true,
         "type": "scatter",
         "x": [
          1,
          2,
          3,
          4,
          5,
          6,
          7,
          8,
          9,
          10,
          11,
          12,
          13,
          14
         ],
         "y": [
          14.666666666666666,
          30.666666666666668,
          56,
          50,
          72.33333333333333,
          78.33333333333333,
          38,
          47,
          64.66666666666667,
          67,
          80.33333333333333,
          80.33333333333333,
          65.66666666666667,
          79
         ]
        }
       ],
       "layout": {
        "annotations": [
         {
          "font": {
           "size": 22
          },
          "showarrow": false,
          "text": "Circle Track",
          "x": 0.5,
          "xanchor": "center",
          "xref": "paper",
          "y": 1,
          "yanchor": "bottom",
          "yref": "paper"
         }
        ],
        "font": {
         "family": "Arial",
         "size": 22
        },
        "height": 500,
        "shapes": [
         {
          "line": {
           "color": "darkgrey",
           "dash": "dash",
           "width": 1
          },
          "opacity": 1,
          "type": "line",
          "x0": 6.5,
          "x1": 6.5,
          "xref": "x",
          "y0": 0,
          "y1": 1,
          "yref": "y domain"
         },
         {
          "line": {
           "color": "darkgrey",
           "dash": "dash",
           "width": 1
          },
          "opacity": 1,
          "type": "line",
          "x0": 12.5,
          "x1": 12.5,
          "xref": "x",
          "y0": 0,
          "y1": 1,
          "yref": "y domain"
         }
        ],
        "template": {
         "data": {
          "bar": [
           {
            "error_x": {
             "color": "rgb(36,36,36)"
            },
            "error_y": {
             "color": "rgb(36,36,36)"
            },
            "marker": {
             "line": {
              "color": "white",
              "width": 0.5
             },
             "pattern": {
              "fillmode": "overlay",
              "size": 10,
              "solidity": 0.2
             }
            },
            "type": "bar"
           }
          ],
          "barpolar": [
           {
            "marker": {
             "line": {
              "color": "white",
              "width": 0.5
             },
             "pattern": {
              "fillmode": "overlay",
              "size": 10,
              "solidity": 0.2
             }
            },
            "type": "barpolar"
           }
          ],
          "carpet": [
           {
            "aaxis": {
             "endlinecolor": "rgb(36,36,36)",
             "gridcolor": "white",
             "linecolor": "white",
             "minorgridcolor": "white",
             "startlinecolor": "rgb(36,36,36)"
            },
            "baxis": {
             "endlinecolor": "rgb(36,36,36)",
             "gridcolor": "white",
             "linecolor": "white",
             "minorgridcolor": "white",
             "startlinecolor": "rgb(36,36,36)"
            },
            "type": "carpet"
           }
          ],
          "choropleth": [
           {
            "colorbar": {
             "outlinewidth": 1,
             "tickcolor": "rgb(36,36,36)",
             "ticks": "outside"
            },
            "type": "choropleth"
           }
          ],
          "contour": [
           {
            "colorbar": {
             "outlinewidth": 1,
             "tickcolor": "rgb(36,36,36)",
             "ticks": "outside"
            },
            "colorscale": [
             [
              0,
              "#440154"
             ],
             [
              0.1111111111111111,
              "#482878"
             ],
             [
              0.2222222222222222,
              "#3e4989"
             ],
             [
              0.3333333333333333,
              "#31688e"
             ],
             [
              0.4444444444444444,
              "#26828e"
             ],
             [
              0.5555555555555556,
              "#1f9e89"
             ],
             [
              0.6666666666666666,
              "#35b779"
             ],
             [
              0.7777777777777778,
              "#6ece58"
             ],
             [
              0.8888888888888888,
              "#b5de2b"
             ],
             [
              1,
              "#fde725"
             ]
            ],
            "type": "contour"
           }
          ],
          "contourcarpet": [
           {
            "colorbar": {
             "outlinewidth": 1,
             "tickcolor": "rgb(36,36,36)",
             "ticks": "outside"
            },
            "type": "contourcarpet"
           }
          ],
          "heatmap": [
           {
            "colorbar": {
             "outlinewidth": 1,
             "tickcolor": "rgb(36,36,36)",
             "ticks": "outside"
            },
            "colorscale": [
             [
              0,
              "#440154"
             ],
             [
              0.1111111111111111,
              "#482878"
             ],
             [
              0.2222222222222222,
              "#3e4989"
             ],
             [
              0.3333333333333333,
              "#31688e"
             ],
             [
              0.4444444444444444,
              "#26828e"
             ],
             [
              0.5555555555555556,
              "#1f9e89"
             ],
             [
              0.6666666666666666,
              "#35b779"
             ],
             [
              0.7777777777777778,
              "#6ece58"
             ],
             [
              0.8888888888888888,
              "#b5de2b"
             ],
             [
              1,
              "#fde725"
             ]
            ],
            "type": "heatmap"
           }
          ],
          "heatmapgl": [
           {
            "colorbar": {
             "outlinewidth": 1,
             "tickcolor": "rgb(36,36,36)",
             "ticks": "outside"
            },
            "colorscale": [
             [
              0,
              "#440154"
             ],
             [
              0.1111111111111111,
              "#482878"
             ],
             [
              0.2222222222222222,
              "#3e4989"
             ],
             [
              0.3333333333333333,
              "#31688e"
             ],
             [
              0.4444444444444444,
              "#26828e"
             ],
             [
              0.5555555555555556,
              "#1f9e89"
             ],
             [
              0.6666666666666666,
              "#35b779"
             ],
             [
              0.7777777777777778,
              "#6ece58"
             ],
             [
              0.8888888888888888,
              "#b5de2b"
             ],
             [
              1,
              "#fde725"
             ]
            ],
            "type": "heatmapgl"
           }
          ],
          "histogram": [
           {
            "marker": {
             "line": {
              "color": "white",
              "width": 0.6
             }
            },
            "type": "histogram"
           }
          ],
          "histogram2d": [
           {
            "colorbar": {
             "outlinewidth": 1,
             "tickcolor": "rgb(36,36,36)",
             "ticks": "outside"
            },
            "colorscale": [
             [
              0,
              "#440154"
             ],
             [
              0.1111111111111111,
              "#482878"
             ],
             [
              0.2222222222222222,
              "#3e4989"
             ],
             [
              0.3333333333333333,
              "#31688e"
             ],
             [
              0.4444444444444444,
              "#26828e"
             ],
             [
              0.5555555555555556,
              "#1f9e89"
             ],
             [
              0.6666666666666666,
              "#35b779"
             ],
             [
              0.7777777777777778,
              "#6ece58"
             ],
             [
              0.8888888888888888,
              "#b5de2b"
             ],
             [
              1,
              "#fde725"
             ]
            ],
            "type": "histogram2d"
           }
          ],
          "histogram2dcontour": [
           {
            "colorbar": {
             "outlinewidth": 1,
             "tickcolor": "rgb(36,36,36)",
             "ticks": "outside"
            },
            "colorscale": [
             [
              0,
              "#440154"
             ],
             [
              0.1111111111111111,
              "#482878"
             ],
             [
              0.2222222222222222,
              "#3e4989"
             ],
             [
              0.3333333333333333,
              "#31688e"
             ],
             [
              0.4444444444444444,
              "#26828e"
             ],
             [
              0.5555555555555556,
              "#1f9e89"
             ],
             [
              0.6666666666666666,
              "#35b779"
             ],
             [
              0.7777777777777778,
              "#6ece58"
             ],
             [
              0.8888888888888888,
              "#b5de2b"
             ],
             [
              1,
              "#fde725"
             ]
            ],
            "type": "histogram2dcontour"
           }
          ],
          "mesh3d": [
           {
            "colorbar": {
             "outlinewidth": 1,
             "tickcolor": "rgb(36,36,36)",
             "ticks": "outside"
            },
            "type": "mesh3d"
           }
          ],
          "parcoords": [
           {
            "line": {
             "colorbar": {
              "outlinewidth": 1,
              "tickcolor": "rgb(36,36,36)",
              "ticks": "outside"
             }
            },
            "type": "parcoords"
           }
          ],
          "pie": [
           {
            "automargin": true,
            "type": "pie"
           }
          ],
          "scatter": [
           {
            "fillpattern": {
             "fillmode": "overlay",
             "size": 10,
             "solidity": 0.2
            },
            "type": "scatter"
           }
          ],
          "scatter3d": [
           {
            "line": {
             "colorbar": {
              "outlinewidth": 1,
              "tickcolor": "rgb(36,36,36)",
              "ticks": "outside"
             }
            },
            "marker": {
             "colorbar": {
              "outlinewidth": 1,
              "tickcolor": "rgb(36,36,36)",
              "ticks": "outside"
             }
            },
            "type": "scatter3d"
           }
          ],
          "scattercarpet": [
           {
            "marker": {
             "colorbar": {
              "outlinewidth": 1,
              "tickcolor": "rgb(36,36,36)",
              "ticks": "outside"
             }
            },
            "type": "scattercarpet"
           }
          ],
          "scattergeo": [
           {
            "marker": {
             "colorbar": {
              "outlinewidth": 1,
              "tickcolor": "rgb(36,36,36)",
              "ticks": "outside"
             }
            },
            "type": "scattergeo"
           }
          ],
          "scattergl": [
           {
            "marker": {
             "colorbar": {
              "outlinewidth": 1,
              "tickcolor": "rgb(36,36,36)",
              "ticks": "outside"
             }
            },
            "type": "scattergl"
           }
          ],
          "scattermapbox": [
           {
            "marker": {
             "colorbar": {
              "outlinewidth": 1,
              "tickcolor": "rgb(36,36,36)",
              "ticks": "outside"
             }
            },
            "type": "scattermapbox"
           }
          ],
          "scatterpolar": [
           {
            "marker": {
             "colorbar": {
              "outlinewidth": 1,
              "tickcolor": "rgb(36,36,36)",
              "ticks": "outside"
             }
            },
            "type": "scatterpolar"
           }
          ],
          "scatterpolargl": [
           {
            "marker": {
             "colorbar": {
              "outlinewidth": 1,
              "tickcolor": "rgb(36,36,36)",
              "ticks": "outside"
             }
            },
            "type": "scatterpolargl"
           }
          ],
          "scatterternary": [
           {
            "marker": {
             "colorbar": {
              "outlinewidth": 1,
              "tickcolor": "rgb(36,36,36)",
              "ticks": "outside"
             }
            },
            "type": "scatterternary"
           }
          ],
          "surface": [
           {
            "colorbar": {
             "outlinewidth": 1,
             "tickcolor": "rgb(36,36,36)",
             "ticks": "outside"
            },
            "colorscale": [
             [
              0,
              "#440154"
             ],
             [
              0.1111111111111111,
              "#482878"
             ],
             [
              0.2222222222222222,
              "#3e4989"
             ],
             [
              0.3333333333333333,
              "#31688e"
             ],
             [
              0.4444444444444444,
              "#26828e"
             ],
             [
              0.5555555555555556,
              "#1f9e89"
             ],
             [
              0.6666666666666666,
              "#35b779"
             ],
             [
              0.7777777777777778,
              "#6ece58"
             ],
             [
              0.8888888888888888,
              "#b5de2b"
             ],
             [
              1,
              "#fde725"
             ]
            ],
            "type": "surface"
           }
          ],
          "table": [
           {
            "cells": {
             "fill": {
              "color": "rgb(237,237,237)"
             },
             "line": {
              "color": "white"
             }
            },
            "header": {
             "fill": {
              "color": "rgb(217,217,217)"
             },
             "line": {
              "color": "white"
             }
            },
            "type": "table"
           }
          ]
         },
         "layout": {
          "annotationdefaults": {
           "arrowhead": 0,
           "arrowwidth": 1
          },
          "autotypenumbers": "strict",
          "coloraxis": {
           "colorbar": {
            "outlinewidth": 1,
            "tickcolor": "rgb(36,36,36)",
            "ticks": "outside"
           }
          },
          "colorscale": {
           "diverging": [
            [
             0,
             "rgb(103,0,31)"
            ],
            [
             0.1,
             "rgb(178,24,43)"
            ],
            [
             0.2,
             "rgb(214,96,77)"
            ],
            [
             0.3,
             "rgb(244,165,130)"
            ],
            [
             0.4,
             "rgb(253,219,199)"
            ],
            [
             0.5,
             "rgb(247,247,247)"
            ],
            [
             0.6,
             "rgb(209,229,240)"
            ],
            [
             0.7,
             "rgb(146,197,222)"
            ],
            [
             0.8,
             "rgb(67,147,195)"
            ],
            [
             0.9,
             "rgb(33,102,172)"
            ],
            [
             1,
             "rgb(5,48,97)"
            ]
           ],
           "sequential": [
            [
             0,
             "#440154"
            ],
            [
             0.1111111111111111,
             "#482878"
            ],
            [
             0.2222222222222222,
             "#3e4989"
            ],
            [
             0.3333333333333333,
             "#31688e"
            ],
            [
             0.4444444444444444,
             "#26828e"
            ],
            [
             0.5555555555555556,
             "#1f9e89"
            ],
            [
             0.6666666666666666,
             "#35b779"
            ],
            [
             0.7777777777777778,
             "#6ece58"
            ],
            [
             0.8888888888888888,
             "#b5de2b"
            ],
            [
             1,
             "#fde725"
            ]
           ],
           "sequentialminus": [
            [
             0,
             "#440154"
            ],
            [
             0.1111111111111111,
             "#482878"
            ],
            [
             0.2222222222222222,
             "#3e4989"
            ],
            [
             0.3333333333333333,
             "#31688e"
            ],
            [
             0.4444444444444444,
             "#26828e"
            ],
            [
             0.5555555555555556,
             "#1f9e89"
            ],
            [
             0.6666666666666666,
             "#35b779"
            ],
            [
             0.7777777777777778,
             "#6ece58"
            ],
            [
             0.8888888888888888,
             "#b5de2b"
            ],
            [
             1,
             "#fde725"
            ]
           ]
          },
          "colorway": [
           "#1F77B4",
           "#FF7F0E",
           "#2CA02C",
           "#D62728",
           "#9467BD",
           "#8C564B",
           "#E377C2",
           "#7F7F7F",
           "#BCBD22",
           "#17BECF"
          ],
          "font": {
           "color": "rgb(36,36,36)"
          },
          "geo": {
           "bgcolor": "white",
           "lakecolor": "white",
           "landcolor": "white",
           "showlakes": true,
           "showland": true,
           "subunitcolor": "white"
          },
          "hoverlabel": {
           "align": "left"
          },
          "hovermode": "closest",
          "mapbox": {
           "style": "light"
          },
          "paper_bgcolor": "white",
          "plot_bgcolor": "white",
          "polar": {
           "angularaxis": {
            "gridcolor": "rgb(232,232,232)",
            "linecolor": "rgb(36,36,36)",
            "showgrid": false,
            "showline": true,
            "ticks": "outside"
           },
           "bgcolor": "white",
           "radialaxis": {
            "gridcolor": "rgb(232,232,232)",
            "linecolor": "rgb(36,36,36)",
            "showgrid": false,
            "showline": true,
            "ticks": "outside"
           }
          },
          "scene": {
           "xaxis": {
            "backgroundcolor": "white",
            "gridcolor": "rgb(232,232,232)",
            "gridwidth": 2,
            "linecolor": "rgb(36,36,36)",
            "showbackground": true,
            "showgrid": false,
            "showline": true,
            "ticks": "outside",
            "zeroline": false,
            "zerolinecolor": "rgb(36,36,36)"
           },
           "yaxis": {
            "backgroundcolor": "white",
            "gridcolor": "rgb(232,232,232)",
            "gridwidth": 2,
            "linecolor": "rgb(36,36,36)",
            "showbackground": true,
            "showgrid": false,
            "showline": true,
            "ticks": "outside",
            "zeroline": false,
            "zerolinecolor": "rgb(36,36,36)"
           },
           "zaxis": {
            "backgroundcolor": "white",
            "gridcolor": "rgb(232,232,232)",
            "gridwidth": 2,
            "linecolor": "rgb(36,36,36)",
            "showbackground": true,
            "showgrid": false,
            "showline": true,
            "ticks": "outside",
            "zeroline": false,
            "zerolinecolor": "rgb(36,36,36)"
           }
          },
          "shapedefaults": {
           "fillcolor": "black",
           "line": {
            "width": 0
           },
           "opacity": 0.3
          },
          "ternary": {
           "aaxis": {
            "gridcolor": "rgb(232,232,232)",
            "linecolor": "rgb(36,36,36)",
            "showgrid": false,
            "showline": true,
            "ticks": "outside"
           },
           "baxis": {
            "gridcolor": "rgb(232,232,232)",
            "linecolor": "rgb(36,36,36)",
            "showgrid": false,
            "showline": true,
            "ticks": "outside"
           },
           "bgcolor": "white",
           "caxis": {
            "gridcolor": "rgb(232,232,232)",
            "linecolor": "rgb(36,36,36)",
            "showgrid": false,
            "showline": true,
            "ticks": "outside"
           }
          },
          "title": {
           "x": 0.05
          },
          "xaxis": {
           "automargin": true,
           "gridcolor": "rgb(232,232,232)",
           "linecolor": "rgb(36,36,36)",
           "showgrid": false,
           "showline": true,
           "ticks": "outside",
           "title": {
            "standoff": 15
           },
           "zeroline": false,
           "zerolinecolor": "rgb(36,36,36)"
          },
          "yaxis": {
           "automargin": true,
           "gridcolor": "rgb(232,232,232)",
           "linecolor": "rgb(36,36,36)",
           "showgrid": false,
           "showline": true,
           "ticks": "outside",
           "title": {
            "standoff": 15
           },
           "zeroline": false,
           "zerolinecolor": "rgb(36,36,36)"
          }
         }
        },
        "title": {
         "x": 0.5,
         "xanchor": "center",
         "y": 0.9,
         "yanchor": "top"
        },
        "width": 600,
        "xaxis": {
         "anchor": "y",
         "domain": [
          0,
          1
         ],
         "linewidth": 1.5,
         "title": {
          "text": "Day"
         }
        },
        "yaxis": {
         "anchor": "x",
         "domain": [
          0,
          1
         ],
         "linewidth": 1.5,
         "title": {
          "text": "Rewards"
         }
        }
       }
      },
      "text/html": [
       "<div>                            <div id=\"8fecb794-b059-4c6c-ac9d-82ad25599434\" class=\"plotly-graph-div\" style=\"height:500px; width:600px;\"></div>            <script type=\"text/javascript\">                require([\"plotly\"], function(Plotly) {                    window.PLOTLYENV=window.PLOTLYENV || {};                                    if (document.getElementById(\"8fecb794-b059-4c6c-ac9d-82ad25599434\")) {                    Plotly.newPlot(                        \"8fecb794-b059-4c6c-ac9d-82ad25599434\",                        [{\"line\":{\"color\":\"midnightblue\",\"width\":1},\"mode\":\"lines\",\"name\":\"mcp01\",\"opacity\":0.7,\"showlegend\":false,\"x\":[1,2,3,4,5,6,7,8,9,10,11,12,13,14],\"y\":[5,10,23,27,53,60,3,7,43,64,54,50,73,86],\"type\":\"scatter\"},{\"line\":{\"color\":\"darkgrey\",\"width\":1},\"mode\":\"lines\",\"name\":\"mcp02\",\"opacity\":0.7,\"showlegend\":false,\"x\":[1,2,3,4,5,6,7,8,9,10,11,12,13,14],\"y\":[30,60,99,74,33,43,81,92,95,88,101,131,78,67],\"type\":\"scatter\"},{\"line\":{\"color\":\"midnightblue\",\"width\":1},\"mode\":\"lines\",\"name\":\"mcp03\",\"opacity\":0.7,\"showlegend\":false,\"x\":[1,2,3,4,5,6,7,8,9,10,11,12,13,14],\"y\":[1,14,52,50,78,74,55,54,73,66,93,84,38,49],\"type\":\"scatter\"},{\"line\":{\"color\":\"darkgrey\",\"width\":1},\"mode\":\"lines\",\"name\":\"mcp05\",\"opacity\":0.7,\"showlegend\":false,\"x\":[1,2,3,4,5,6,7,8,9,10,11,12,13,14],\"y\":[36,81,105,67,100,78,76,74,90,103,94,94,72,76],\"type\":\"scatter\"},{\"line\":{\"color\":\"midnightblue\",\"width\":1},\"mode\":\"lines\",\"name\":\"mcp08\",\"opacity\":0.7,\"showlegend\":false,\"x\":[1,2,3,4,5,6,7,8,9,10,11,12,13,14],\"y\":[38,68,93,73,86,101,56,80,78,71,94,107,86,102],\"type\":\"scatter\"},{\"line\":{\"color\":\"darkgrey\",\"width\":1},\"mode\":\"lines\",\"name\":\"mcp10\",\"opacity\":0.7,\"showlegend\":false,\"x\":[1,2,3,4,5,6,7,8,9,10,11,12,13,14],\"y\":[27,42,68,50,61,69,60,90,87,95,96,111,77,104],\"type\":\"scatter\"},{\"error_y\":{\"array\":[2.6457513110645907,11.269427669584646,11.464922347946562,7.125852775477316,19.427929494530407,10.493384159131464,6.333333333333332,5.696002496878355,2.333333333333335,4.333333333333334,2.0816659994661326,10.692676621563628,1.8559214542766735,11.140516644712271],\"type\":\"data\"},\"line\":{\"color\":\"darkgrey\"},\"mode\":\"lines+markers\",\"name\":\"thresh3_twoport\",\"showlegend\":true,\"x\":[1,2,3,4,5,6,7,8,9,10,11,12,13,14],\"y\":[31.0,61.0,90.66666666666667,63.666666666666664,64.66666666666667,63.333333333333336,72.33333333333333,85.33333333333333,90.66666666666667,95.33333333333333,97.0,112.0,75.66666666666667,82.33333333333333],\"type\":\"scatter\"},{\"error_y\":{\"array\":[11.723670263379317,18.702346852140717,20.305992547357377,13.279056191361393,9.938701010583719,12.032363765186698,17.502380790433435,21.361959960016154,10.929064207169999,2.0816659994661326,13.16983084342561,16.55630125091686,14.333333333333334,15.695009822658072],\"type\":\"data\"},\"line\":{\"color\":\"midnightblue\"},\"mode\":\"lines+markers\",\"name\":\"thresh5_twoport\",\"showlegend\":true,\"x\":[1,2,3,4,5,6,7,8,9,10,11,12,13,14],\"y\":[14.666666666666666,30.666666666666668,56.0,50.0,72.33333333333333,78.33333333333333,38.0,47.0,64.66666666666667,67.0,80.33333333333333,80.33333333333333,65.66666666666667,79.0],\"type\":\"scatter\"}],                        {\"template\":{\"data\":{\"barpolar\":[{\"marker\":{\"line\":{\"color\":\"white\",\"width\":0.5},\"pattern\":{\"fillmode\":\"overlay\",\"size\":10,\"solidity\":0.2}},\"type\":\"barpolar\"}],\"bar\":[{\"error_x\":{\"color\":\"rgb(36,36,36)\"},\"error_y\":{\"color\":\"rgb(36,36,36)\"},\"marker\":{\"line\":{\"color\":\"white\",\"width\":0.5},\"pattern\":{\"fillmode\":\"overlay\",\"size\":10,\"solidity\":0.2}},\"type\":\"bar\"}],\"carpet\":[{\"aaxis\":{\"endlinecolor\":\"rgb(36,36,36)\",\"gridcolor\":\"white\",\"linecolor\":\"white\",\"minorgridcolor\":\"white\",\"startlinecolor\":\"rgb(36,36,36)\"},\"baxis\":{\"endlinecolor\":\"rgb(36,36,36)\",\"gridcolor\":\"white\",\"linecolor\":\"white\",\"minorgridcolor\":\"white\",\"startlinecolor\":\"rgb(36,36,36)\"},\"type\":\"carpet\"}],\"choropleth\":[{\"colorbar\":{\"outlinewidth\":1,\"tickcolor\":\"rgb(36,36,36)\",\"ticks\":\"outside\"},\"type\":\"choropleth\"}],\"contourcarpet\":[{\"colorbar\":{\"outlinewidth\":1,\"tickcolor\":\"rgb(36,36,36)\",\"ticks\":\"outside\"},\"type\":\"contourcarpet\"}],\"contour\":[{\"colorbar\":{\"outlinewidth\":1,\"tickcolor\":\"rgb(36,36,36)\",\"ticks\":\"outside\"},\"colorscale\":[[0.0,\"#440154\"],[0.1111111111111111,\"#482878\"],[0.2222222222222222,\"#3e4989\"],[0.3333333333333333,\"#31688e\"],[0.4444444444444444,\"#26828e\"],[0.5555555555555556,\"#1f9e89\"],[0.6666666666666666,\"#35b779\"],[0.7777777777777778,\"#6ece58\"],[0.8888888888888888,\"#b5de2b\"],[1.0,\"#fde725\"]],\"type\":\"contour\"}],\"heatmapgl\":[{\"colorbar\":{\"outlinewidth\":1,\"tickcolor\":\"rgb(36,36,36)\",\"ticks\":\"outside\"},\"colorscale\":[[0.0,\"#440154\"],[0.1111111111111111,\"#482878\"],[0.2222222222222222,\"#3e4989\"],[0.3333333333333333,\"#31688e\"],[0.4444444444444444,\"#26828e\"],[0.5555555555555556,\"#1f9e89\"],[0.6666666666666666,\"#35b779\"],[0.7777777777777778,\"#6ece58\"],[0.8888888888888888,\"#b5de2b\"],[1.0,\"#fde725\"]],\"type\":\"heatmapgl\"}],\"heatmap\":[{\"colorbar\":{\"outlinewidth\":1,\"tickcolor\":\"rgb(36,36,36)\",\"ticks\":\"outside\"},\"colorscale\":[[0.0,\"#440154\"],[0.1111111111111111,\"#482878\"],[0.2222222222222222,\"#3e4989\"],[0.3333333333333333,\"#31688e\"],[0.4444444444444444,\"#26828e\"],[0.5555555555555556,\"#1f9e89\"],[0.6666666666666666,\"#35b779\"],[0.7777777777777778,\"#6ece58\"],[0.8888888888888888,\"#b5de2b\"],[1.0,\"#fde725\"]],\"type\":\"heatmap\"}],\"histogram2dcontour\":[{\"colorbar\":{\"outlinewidth\":1,\"tickcolor\":\"rgb(36,36,36)\",\"ticks\":\"outside\"},\"colorscale\":[[0.0,\"#440154\"],[0.1111111111111111,\"#482878\"],[0.2222222222222222,\"#3e4989\"],[0.3333333333333333,\"#31688e\"],[0.4444444444444444,\"#26828e\"],[0.5555555555555556,\"#1f9e89\"],[0.6666666666666666,\"#35b779\"],[0.7777777777777778,\"#6ece58\"],[0.8888888888888888,\"#b5de2b\"],[1.0,\"#fde725\"]],\"type\":\"histogram2dcontour\"}],\"histogram2d\":[{\"colorbar\":{\"outlinewidth\":1,\"tickcolor\":\"rgb(36,36,36)\",\"ticks\":\"outside\"},\"colorscale\":[[0.0,\"#440154\"],[0.1111111111111111,\"#482878\"],[0.2222222222222222,\"#3e4989\"],[0.3333333333333333,\"#31688e\"],[0.4444444444444444,\"#26828e\"],[0.5555555555555556,\"#1f9e89\"],[0.6666666666666666,\"#35b779\"],[0.7777777777777778,\"#6ece58\"],[0.8888888888888888,\"#b5de2b\"],[1.0,\"#fde725\"]],\"type\":\"histogram2d\"}],\"histogram\":[{\"marker\":{\"line\":{\"color\":\"white\",\"width\":0.6}},\"type\":\"histogram\"}],\"mesh3d\":[{\"colorbar\":{\"outlinewidth\":1,\"tickcolor\":\"rgb(36,36,36)\",\"ticks\":\"outside\"},\"type\":\"mesh3d\"}],\"parcoords\":[{\"line\":{\"colorbar\":{\"outlinewidth\":1,\"tickcolor\":\"rgb(36,36,36)\",\"ticks\":\"outside\"}},\"type\":\"parcoords\"}],\"pie\":[{\"automargin\":true,\"type\":\"pie\"}],\"scatter3d\":[{\"line\":{\"colorbar\":{\"outlinewidth\":1,\"tickcolor\":\"rgb(36,36,36)\",\"ticks\":\"outside\"}},\"marker\":{\"colorbar\":{\"outlinewidth\":1,\"tickcolor\":\"rgb(36,36,36)\",\"ticks\":\"outside\"}},\"type\":\"scatter3d\"}],\"scattercarpet\":[{\"marker\":{\"colorbar\":{\"outlinewidth\":1,\"tickcolor\":\"rgb(36,36,36)\",\"ticks\":\"outside\"}},\"type\":\"scattercarpet\"}],\"scattergeo\":[{\"marker\":{\"colorbar\":{\"outlinewidth\":1,\"tickcolor\":\"rgb(36,36,36)\",\"ticks\":\"outside\"}},\"type\":\"scattergeo\"}],\"scattergl\":[{\"marker\":{\"colorbar\":{\"outlinewidth\":1,\"tickcolor\":\"rgb(36,36,36)\",\"ticks\":\"outside\"}},\"type\":\"scattergl\"}],\"scattermapbox\":[{\"marker\":{\"colorbar\":{\"outlinewidth\":1,\"tickcolor\":\"rgb(36,36,36)\",\"ticks\":\"outside\"}},\"type\":\"scattermapbox\"}],\"scatterpolargl\":[{\"marker\":{\"colorbar\":{\"outlinewidth\":1,\"tickcolor\":\"rgb(36,36,36)\",\"ticks\":\"outside\"}},\"type\":\"scatterpolargl\"}],\"scatterpolar\":[{\"marker\":{\"colorbar\":{\"outlinewidth\":1,\"tickcolor\":\"rgb(36,36,36)\",\"ticks\":\"outside\"}},\"type\":\"scatterpolar\"}],\"scatter\":[{\"fillpattern\":{\"fillmode\":\"overlay\",\"size\":10,\"solidity\":0.2},\"type\":\"scatter\"}],\"scatterternary\":[{\"marker\":{\"colorbar\":{\"outlinewidth\":1,\"tickcolor\":\"rgb(36,36,36)\",\"ticks\":\"outside\"}},\"type\":\"scatterternary\"}],\"surface\":[{\"colorbar\":{\"outlinewidth\":1,\"tickcolor\":\"rgb(36,36,36)\",\"ticks\":\"outside\"},\"colorscale\":[[0.0,\"#440154\"],[0.1111111111111111,\"#482878\"],[0.2222222222222222,\"#3e4989\"],[0.3333333333333333,\"#31688e\"],[0.4444444444444444,\"#26828e\"],[0.5555555555555556,\"#1f9e89\"],[0.6666666666666666,\"#35b779\"],[0.7777777777777778,\"#6ece58\"],[0.8888888888888888,\"#b5de2b\"],[1.0,\"#fde725\"]],\"type\":\"surface\"}],\"table\":[{\"cells\":{\"fill\":{\"color\":\"rgb(237,237,237)\"},\"line\":{\"color\":\"white\"}},\"header\":{\"fill\":{\"color\":\"rgb(217,217,217)\"},\"line\":{\"color\":\"white\"}},\"type\":\"table\"}]},\"layout\":{\"annotationdefaults\":{\"arrowhead\":0,\"arrowwidth\":1},\"autotypenumbers\":\"strict\",\"coloraxis\":{\"colorbar\":{\"outlinewidth\":1,\"tickcolor\":\"rgb(36,36,36)\",\"ticks\":\"outside\"}},\"colorscale\":{\"diverging\":[[0.0,\"rgb(103,0,31)\"],[0.1,\"rgb(178,24,43)\"],[0.2,\"rgb(214,96,77)\"],[0.3,\"rgb(244,165,130)\"],[0.4,\"rgb(253,219,199)\"],[0.5,\"rgb(247,247,247)\"],[0.6,\"rgb(209,229,240)\"],[0.7,\"rgb(146,197,222)\"],[0.8,\"rgb(67,147,195)\"],[0.9,\"rgb(33,102,172)\"],[1.0,\"rgb(5,48,97)\"]],\"sequential\":[[0.0,\"#440154\"],[0.1111111111111111,\"#482878\"],[0.2222222222222222,\"#3e4989\"],[0.3333333333333333,\"#31688e\"],[0.4444444444444444,\"#26828e\"],[0.5555555555555556,\"#1f9e89\"],[0.6666666666666666,\"#35b779\"],[0.7777777777777778,\"#6ece58\"],[0.8888888888888888,\"#b5de2b\"],[1.0,\"#fde725\"]],\"sequentialminus\":[[0.0,\"#440154\"],[0.1111111111111111,\"#482878\"],[0.2222222222222222,\"#3e4989\"],[0.3333333333333333,\"#31688e\"],[0.4444444444444444,\"#26828e\"],[0.5555555555555556,\"#1f9e89\"],[0.6666666666666666,\"#35b779\"],[0.7777777777777778,\"#6ece58\"],[0.8888888888888888,\"#b5de2b\"],[1.0,\"#fde725\"]]},\"colorway\":[\"#1F77B4\",\"#FF7F0E\",\"#2CA02C\",\"#D62728\",\"#9467BD\",\"#8C564B\",\"#E377C2\",\"#7F7F7F\",\"#BCBD22\",\"#17BECF\"],\"font\":{\"color\":\"rgb(36,36,36)\"},\"geo\":{\"bgcolor\":\"white\",\"lakecolor\":\"white\",\"landcolor\":\"white\",\"showlakes\":true,\"showland\":true,\"subunitcolor\":\"white\"},\"hoverlabel\":{\"align\":\"left\"},\"hovermode\":\"closest\",\"mapbox\":{\"style\":\"light\"},\"paper_bgcolor\":\"white\",\"plot_bgcolor\":\"white\",\"polar\":{\"angularaxis\":{\"gridcolor\":\"rgb(232,232,232)\",\"linecolor\":\"rgb(36,36,36)\",\"showgrid\":false,\"showline\":true,\"ticks\":\"outside\"},\"bgcolor\":\"white\",\"radialaxis\":{\"gridcolor\":\"rgb(232,232,232)\",\"linecolor\":\"rgb(36,36,36)\",\"showgrid\":false,\"showline\":true,\"ticks\":\"outside\"}},\"scene\":{\"xaxis\":{\"backgroundcolor\":\"white\",\"gridcolor\":\"rgb(232,232,232)\",\"gridwidth\":2,\"linecolor\":\"rgb(36,36,36)\",\"showbackground\":true,\"showgrid\":false,\"showline\":true,\"ticks\":\"outside\",\"zeroline\":false,\"zerolinecolor\":\"rgb(36,36,36)\"},\"yaxis\":{\"backgroundcolor\":\"white\",\"gridcolor\":\"rgb(232,232,232)\",\"gridwidth\":2,\"linecolor\":\"rgb(36,36,36)\",\"showbackground\":true,\"showgrid\":false,\"showline\":true,\"ticks\":\"outside\",\"zeroline\":false,\"zerolinecolor\":\"rgb(36,36,36)\"},\"zaxis\":{\"backgroundcolor\":\"white\",\"gridcolor\":\"rgb(232,232,232)\",\"gridwidth\":2,\"linecolor\":\"rgb(36,36,36)\",\"showbackground\":true,\"showgrid\":false,\"showline\":true,\"ticks\":\"outside\",\"zeroline\":false,\"zerolinecolor\":\"rgb(36,36,36)\"}},\"shapedefaults\":{\"fillcolor\":\"black\",\"line\":{\"width\":0},\"opacity\":0.3},\"ternary\":{\"aaxis\":{\"gridcolor\":\"rgb(232,232,232)\",\"linecolor\":\"rgb(36,36,36)\",\"showgrid\":false,\"showline\":true,\"ticks\":\"outside\"},\"baxis\":{\"gridcolor\":\"rgb(232,232,232)\",\"linecolor\":\"rgb(36,36,36)\",\"showgrid\":false,\"showline\":true,\"ticks\":\"outside\"},\"bgcolor\":\"white\",\"caxis\":{\"gridcolor\":\"rgb(232,232,232)\",\"linecolor\":\"rgb(36,36,36)\",\"showgrid\":false,\"showline\":true,\"ticks\":\"outside\"}},\"title\":{\"x\":0.05},\"xaxis\":{\"automargin\":true,\"gridcolor\":\"rgb(232,232,232)\",\"linecolor\":\"rgb(36,36,36)\",\"showgrid\":false,\"showline\":true,\"ticks\":\"outside\",\"title\":{\"standoff\":15},\"zeroline\":false,\"zerolinecolor\":\"rgb(36,36,36)\"},\"yaxis\":{\"automargin\":true,\"gridcolor\":\"rgb(232,232,232)\",\"linecolor\":\"rgb(36,36,36)\",\"showgrid\":false,\"showline\":true,\"ticks\":\"outside\",\"title\":{\"standoff\":15},\"zeroline\":false,\"zerolinecolor\":\"rgb(36,36,36)\"}}},\"xaxis\":{\"anchor\":\"y\",\"domain\":[0.0,1.0],\"title\":{\"text\":\"Day\"},\"linewidth\":1.5},\"yaxis\":{\"anchor\":\"x\",\"domain\":[0.0,1.0],\"title\":{\"text\":\"Rewards\"},\"linewidth\":1.5},\"annotations\":[{\"font\":{\"size\":22},\"showarrow\":false,\"text\":\"Circle Track\",\"x\":0.5,\"xanchor\":\"center\",\"xref\":\"paper\",\"y\":1.0,\"yanchor\":\"bottom\",\"yref\":\"paper\"}],\"title\":{\"y\":0.9,\"x\":0.5,\"xanchor\":\"center\",\"yanchor\":\"top\"},\"font\":{\"size\":22,\"family\":\"Arial\"},\"height\":500,\"width\":600,\"shapes\":[{\"line\":{\"color\":\"darkgrey\",\"dash\":\"dash\",\"width\":1},\"opacity\":1,\"type\":\"line\",\"x0\":6.5,\"x1\":6.5,\"xref\":\"x\",\"y0\":0,\"y1\":1,\"yref\":\"y domain\"},{\"line\":{\"color\":\"darkgrey\",\"dash\":\"dash\",\"width\":1},\"opacity\":1,\"type\":\"line\",\"x0\":12.5,\"x1\":12.5,\"xref\":\"x\",\"y0\":0,\"y1\":1,\"yref\":\"y domain\"}]},                        {\"responsive\": true}                    ).then(function(){\n",
       "                            \n",
       "var gd = document.getElementById('8fecb794-b059-4c6c-ac9d-82ad25599434');\n",
       "var x = new MutationObserver(function (mutations, observer) {{\n",
       "        var display = window.getComputedStyle(gd).display;\n",
       "        if (!display || display === 'none') {{\n",
       "            console.log([gd, 'removed!']);\n",
       "            Plotly.purge(gd);\n",
       "            observer.disconnect();\n",
       "        }}\n",
       "}});\n",
       "\n",
       "// Listen for the removal of the full notebook cells\n",
       "var notebookContainer = gd.closest('#notebook-container');\n",
       "if (notebookContainer) {{\n",
       "    x.observe(notebookContainer, {childList: true});\n",
       "}}\n",
       "\n",
       "// Listen for the clearing of the current output cell\n",
       "var outputEl = gd.closest('.output');\n",
       "if (outputEl) {{\n",
       "    x.observe(outputEl, {childList: true});\n",
       "}}\n",
       "\n",
       "                        })                };                });            </script>        </div>"
      ]
     },
     "metadata": {},
     "output_type": "display_data"
    },
    {
     "data": {
      "text/html": [
       "<div>\n",
       "<style scoped>\n",
       "    .dataframe tbody tr th:only-of-type {\n",
       "        vertical-align: middle;\n",
       "    }\n",
       "\n",
       "    .dataframe tbody tr th {\n",
       "        vertical-align: top;\n",
       "    }\n",
       "\n",
       "    .dataframe thead th {\n",
       "        text-align: right;\n",
       "    }\n",
       "</style>\n",
       "<table border=\"1\" class=\"dataframe\">\n",
       "  <thead>\n",
       "    <tr style=\"text-align: right;\">\n",
       "      <th></th>\n",
       "      <th>Source</th>\n",
       "      <th>SS</th>\n",
       "      <th>DF1</th>\n",
       "      <th>DF2</th>\n",
       "      <th>MS</th>\n",
       "      <th>F</th>\n",
       "      <th>p-unc</th>\n",
       "      <th>np2</th>\n",
       "      <th>eps</th>\n",
       "    </tr>\n",
       "  </thead>\n",
       "  <tbody>\n",
       "    <tr>\n",
       "      <th>0</th>\n",
       "      <td>group</td>\n",
       "      <td>7298.678571</td>\n",
       "      <td>1</td>\n",
       "      <td>4</td>\n",
       "      <td>7298.678571</td>\n",
       "      <td>2.345226</td>\n",
       "      <td>2.004239e-01</td>\n",
       "      <td>0.369605</td>\n",
       "      <td>NaN</td>\n",
       "    </tr>\n",
       "    <tr>\n",
       "      <th>1</th>\n",
       "      <td>day</td>\n",
       "      <td>27091.488095</td>\n",
       "      <td>13</td>\n",
       "      <td>52</td>\n",
       "      <td>2083.960623</td>\n",
       "      <td>8.295368</td>\n",
       "      <td>1.059819e-08</td>\n",
       "      <td>0.674674</td>\n",
       "      <td>0.218154</td>\n",
       "    </tr>\n",
       "    <tr>\n",
       "      <th>2</th>\n",
       "      <td>Interaction</td>\n",
       "      <td>5268.154762</td>\n",
       "      <td>13</td>\n",
       "      <td>52</td>\n",
       "      <td>405.242674</td>\n",
       "      <td>1.613100</td>\n",
       "      <td>1.115461e-01</td>\n",
       "      <td>0.287381</td>\n",
       "      <td>NaN</td>\n",
       "    </tr>\n",
       "  </tbody>\n",
       "</table>\n",
       "</div>"
      ],
      "text/plain": [
       "        Source            SS  DF1  DF2           MS         F         p-unc  \\\n",
       "0        group   7298.678571    1    4  7298.678571  2.345226  2.004239e-01   \n",
       "1          day  27091.488095   13   52  2083.960623  8.295368  1.059819e-08   \n",
       "2  Interaction   5268.154762   13   52   405.242674  1.613100  1.115461e-01   \n",
       "\n",
       "        np2       eps  \n",
       "0  0.369605       NaN  \n",
       "1  0.674674  0.218154  \n",
       "2  0.287381       NaN  "
      ]
     },
     "execution_count": 14,
     "metadata": {},
     "output_type": "execute_result"
    }
   ],
   "source": [
    "## Plot rewards across days\n",
    "fig = pf.plot_behavior_across_days(ct_df, x_var='day', y_var='rewards', groupby_var=['day', 'group'], plot_transitions=[6.5, 12.5],\n",
    "                                   marker_color=two_color_plots, avg_color='darkgrey', expert_line=False, chance=False,\n",
    "                                   transition_color=['darkgrey', 'darkgrey'],\n",
    "                                   x_title='Day', y_title='Rewards', titles=['Circle Track'], height=500, width=600)\n",
    "fig.show()\n",
    "fig.write_image(pjoin(fig_path, 'total_rewards.png'))\n",
    "ct_df.mixed_anova(dv='rewards', within='day', subject='mouse', between='group')"
   ]
  },
  {
   "attachments": {},
   "cell_type": "markdown",
   "metadata": {},
   "source": [
    "### Signal detection metrics across all mice."
   ]
  },
  {
   "cell_type": "code",
   "execution_count": 4,
   "metadata": {},
   "outputs": [],
   "source": [
    "metrics = pd.DataFrame()\n",
    "for mouse in os.listdir(circle_path):\n",
    "    mouse_path = pjoin(circle_path, mouse)\n",
    "    group = 'thresh3_twoport' if mouse in two_ports and mouse not in thresh_five else 'thresh5_twoport' if mouse in two_ports and mouse in thresh_five else 'thresh3_oneport' if mouse not in two_ports and mouse not in thresh_five else 'thresh5_oneport'\n",
    "    if (group == 'thresh3_oneport') | (group == 'thresh5_oneport'):\n",
    "          pass\n",
    "    else:\n",
    "        for idx, session in enumerate(os.listdir(mouse_path)):\n",
    "            behav_data = pd.read_feather(pjoin(mouse_path, f'{session}'))\n",
    "            reward_one, reward_two = np.unique(behav_data['reward_one'])[0], np.unique(behav_data['reward_two'])[0]\n",
    "            signal = pd.DataFrame(ctb.dprime_metrics(behav_data, mouse, day=idx+1, reward_ports=[reward_one, reward_two], forward_reverse='forward'))\n",
    "            signal['group'] = group\n",
    "            metrics = pd.concat([metrics, signal], ignore_index=True)"
   ]
  },
  {
   "cell_type": "code",
   "execution_count": 8,
   "metadata": {},
   "outputs": [
    {
     "data": {
      "application/vnd.plotly.v1+json": {
       "config": {
        "plotlyServerURL": "https://plot.ly"
       },
       "data": [
        {
         "error_y": {
          "array": [
           0.08900759539333879,
           0.09178073983315882,
           0.06769082132165782,
           0.08099831872922139,
           0.06933893905426895,
           0.08577003256225074,
           0.07503186602201535,
           0.07554477382403578,
           0.0731777666929308,
           0.06810321015574441,
           0.04481880661828538,
           0.06872577147285516,
           0.07832389955271839,
           0.08169798944531645
          ],
          "type": "data"
         },
         "line": {
          "color": "darkgrey"
         },
         "mode": "lines+markers",
         "name": "thresh3_twoport",
         "showlegend": true,
         "type": "scatter",
         "x": [
          1,
          2,
          3,
          4,
          5,
          6,
          7,
          8,
          9,
          10,
          11,
          12,
          13,
          14
         ],
         "y": [
          0.041128028881003906,
          0.6215694103213433,
          1.782276579645338,
          1.7932373783414117,
          1.846083042402644,
          1.8207558999330964,
          1.071098551704285,
          1.541409331526263,
          1.661975464332954,
          1.8904502328100865,
          2.093655919980938,
          1.827556648050877,
          1.368597913504559,
          1.765095250986889
         ]
        },
        {
         "error_y": {
          "array": [
           0.15503242492315797,
           0.18492454464077612,
           0.1333229808097565,
           0.1313745526247864,
           0.05635880109625762,
           0.04863791591105731,
           0.12261960793147439,
           0.11658856093505678,
           0.0964509105117382,
           0.07864604700193135,
           0.052164582976038515,
           0.04518127281009229,
           0.11159918174646898,
           0.07141886772735809
          ],
          "type": "data"
         },
         "line": {
          "color": "midnightblue"
         },
         "mode": "lines+markers",
         "name": "thresh5_twoport",
         "showlegend": true,
         "type": "scatter",
         "x": [
          1,
          2,
          3,
          4,
          5,
          6,
          7,
          8,
          9,
          10,
          11,
          12,
          13,
          14
         ],
         "y": [
          0.1309910362134828,
          1.085640512293891,
          1.676461181026775,
          1.741235984225739,
          2.1172236970278138,
          2.0534689815319,
          0.9012316306765605,
          1.3445815780836543,
          1.791899217900819,
          1.90586077364009,
          1.974461730515842,
          2.194763483666209,
          1.2926433604340097,
          1.8736278437546472
         ]
        }
       ],
       "layout": {
        "font": {
         "family": "Arial",
         "size": 22
        },
        "height": 500,
        "shapes": [
         {
          "line": {
           "color": "darkgrey",
           "dash": "dash",
           "width": 1
          },
          "opacity": 1,
          "type": "line",
          "x0": 6.5,
          "x1": 6.5,
          "xref": "x",
          "y0": 0,
          "y1": 1,
          "yref": "y domain"
         },
         {
          "line": {
           "color": "darkgrey",
           "dash": "dash",
           "width": 1
          },
          "opacity": 1,
          "type": "line",
          "x0": 12.5,
          "x1": 12.5,
          "xref": "x",
          "y0": 0,
          "y1": 1,
          "yref": "y domain"
         }
        ],
        "template": {
         "data": {
          "bar": [
           {
            "error_x": {
             "color": "rgb(36,36,36)"
            },
            "error_y": {
             "color": "rgb(36,36,36)"
            },
            "marker": {
             "line": {
              "color": "white",
              "width": 0.5
             },
             "pattern": {
              "fillmode": "overlay",
              "size": 10,
              "solidity": 0.2
             }
            },
            "type": "bar"
           }
          ],
          "barpolar": [
           {
            "marker": {
             "line": {
              "color": "white",
              "width": 0.5
             },
             "pattern": {
              "fillmode": "overlay",
              "size": 10,
              "solidity": 0.2
             }
            },
            "type": "barpolar"
           }
          ],
          "carpet": [
           {
            "aaxis": {
             "endlinecolor": "rgb(36,36,36)",
             "gridcolor": "white",
             "linecolor": "white",
             "minorgridcolor": "white",
             "startlinecolor": "rgb(36,36,36)"
            },
            "baxis": {
             "endlinecolor": "rgb(36,36,36)",
             "gridcolor": "white",
             "linecolor": "white",
             "minorgridcolor": "white",
             "startlinecolor": "rgb(36,36,36)"
            },
            "type": "carpet"
           }
          ],
          "choropleth": [
           {
            "colorbar": {
             "outlinewidth": 1,
             "tickcolor": "rgb(36,36,36)",
             "ticks": "outside"
            },
            "type": "choropleth"
           }
          ],
          "contour": [
           {
            "colorbar": {
             "outlinewidth": 1,
             "tickcolor": "rgb(36,36,36)",
             "ticks": "outside"
            },
            "colorscale": [
             [
              0,
              "#440154"
             ],
             [
              0.1111111111111111,
              "#482878"
             ],
             [
              0.2222222222222222,
              "#3e4989"
             ],
             [
              0.3333333333333333,
              "#31688e"
             ],
             [
              0.4444444444444444,
              "#26828e"
             ],
             [
              0.5555555555555556,
              "#1f9e89"
             ],
             [
              0.6666666666666666,
              "#35b779"
             ],
             [
              0.7777777777777778,
              "#6ece58"
             ],
             [
              0.8888888888888888,
              "#b5de2b"
             ],
             [
              1,
              "#fde725"
             ]
            ],
            "type": "contour"
           }
          ],
          "contourcarpet": [
           {
            "colorbar": {
             "outlinewidth": 1,
             "tickcolor": "rgb(36,36,36)",
             "ticks": "outside"
            },
            "type": "contourcarpet"
           }
          ],
          "heatmap": [
           {
            "colorbar": {
             "outlinewidth": 1,
             "tickcolor": "rgb(36,36,36)",
             "ticks": "outside"
            },
            "colorscale": [
             [
              0,
              "#440154"
             ],
             [
              0.1111111111111111,
              "#482878"
             ],
             [
              0.2222222222222222,
              "#3e4989"
             ],
             [
              0.3333333333333333,
              "#31688e"
             ],
             [
              0.4444444444444444,
              "#26828e"
             ],
             [
              0.5555555555555556,
              "#1f9e89"
             ],
             [
              0.6666666666666666,
              "#35b779"
             ],
             [
              0.7777777777777778,
              "#6ece58"
             ],
             [
              0.8888888888888888,
              "#b5de2b"
             ],
             [
              1,
              "#fde725"
             ]
            ],
            "type": "heatmap"
           }
          ],
          "heatmapgl": [
           {
            "colorbar": {
             "outlinewidth": 1,
             "tickcolor": "rgb(36,36,36)",
             "ticks": "outside"
            },
            "colorscale": [
             [
              0,
              "#440154"
             ],
             [
              0.1111111111111111,
              "#482878"
             ],
             [
              0.2222222222222222,
              "#3e4989"
             ],
             [
              0.3333333333333333,
              "#31688e"
             ],
             [
              0.4444444444444444,
              "#26828e"
             ],
             [
              0.5555555555555556,
              "#1f9e89"
             ],
             [
              0.6666666666666666,
              "#35b779"
             ],
             [
              0.7777777777777778,
              "#6ece58"
             ],
             [
              0.8888888888888888,
              "#b5de2b"
             ],
             [
              1,
              "#fde725"
             ]
            ],
            "type": "heatmapgl"
           }
          ],
          "histogram": [
           {
            "marker": {
             "line": {
              "color": "white",
              "width": 0.6
             }
            },
            "type": "histogram"
           }
          ],
          "histogram2d": [
           {
            "colorbar": {
             "outlinewidth": 1,
             "tickcolor": "rgb(36,36,36)",
             "ticks": "outside"
            },
            "colorscale": [
             [
              0,
              "#440154"
             ],
             [
              0.1111111111111111,
              "#482878"
             ],
             [
              0.2222222222222222,
              "#3e4989"
             ],
             [
              0.3333333333333333,
              "#31688e"
             ],
             [
              0.4444444444444444,
              "#26828e"
             ],
             [
              0.5555555555555556,
              "#1f9e89"
             ],
             [
              0.6666666666666666,
              "#35b779"
             ],
             [
              0.7777777777777778,
              "#6ece58"
             ],
             [
              0.8888888888888888,
              "#b5de2b"
             ],
             [
              1,
              "#fde725"
             ]
            ],
            "type": "histogram2d"
           }
          ],
          "histogram2dcontour": [
           {
            "colorbar": {
             "outlinewidth": 1,
             "tickcolor": "rgb(36,36,36)",
             "ticks": "outside"
            },
            "colorscale": [
             [
              0,
              "#440154"
             ],
             [
              0.1111111111111111,
              "#482878"
             ],
             [
              0.2222222222222222,
              "#3e4989"
             ],
             [
              0.3333333333333333,
              "#31688e"
             ],
             [
              0.4444444444444444,
              "#26828e"
             ],
             [
              0.5555555555555556,
              "#1f9e89"
             ],
             [
              0.6666666666666666,
              "#35b779"
             ],
             [
              0.7777777777777778,
              "#6ece58"
             ],
             [
              0.8888888888888888,
              "#b5de2b"
             ],
             [
              1,
              "#fde725"
             ]
            ],
            "type": "histogram2dcontour"
           }
          ],
          "mesh3d": [
           {
            "colorbar": {
             "outlinewidth": 1,
             "tickcolor": "rgb(36,36,36)",
             "ticks": "outside"
            },
            "type": "mesh3d"
           }
          ],
          "parcoords": [
           {
            "line": {
             "colorbar": {
              "outlinewidth": 1,
              "tickcolor": "rgb(36,36,36)",
              "ticks": "outside"
             }
            },
            "type": "parcoords"
           }
          ],
          "pie": [
           {
            "automargin": true,
            "type": "pie"
           }
          ],
          "scatter": [
           {
            "fillpattern": {
             "fillmode": "overlay",
             "size": 10,
             "solidity": 0.2
            },
            "type": "scatter"
           }
          ],
          "scatter3d": [
           {
            "line": {
             "colorbar": {
              "outlinewidth": 1,
              "tickcolor": "rgb(36,36,36)",
              "ticks": "outside"
             }
            },
            "marker": {
             "colorbar": {
              "outlinewidth": 1,
              "tickcolor": "rgb(36,36,36)",
              "ticks": "outside"
             }
            },
            "type": "scatter3d"
           }
          ],
          "scattercarpet": [
           {
            "marker": {
             "colorbar": {
              "outlinewidth": 1,
              "tickcolor": "rgb(36,36,36)",
              "ticks": "outside"
             }
            },
            "type": "scattercarpet"
           }
          ],
          "scattergeo": [
           {
            "marker": {
             "colorbar": {
              "outlinewidth": 1,
              "tickcolor": "rgb(36,36,36)",
              "ticks": "outside"
             }
            },
            "type": "scattergeo"
           }
          ],
          "scattergl": [
           {
            "marker": {
             "colorbar": {
              "outlinewidth": 1,
              "tickcolor": "rgb(36,36,36)",
              "ticks": "outside"
             }
            },
            "type": "scattergl"
           }
          ],
          "scattermapbox": [
           {
            "marker": {
             "colorbar": {
              "outlinewidth": 1,
              "tickcolor": "rgb(36,36,36)",
              "ticks": "outside"
             }
            },
            "type": "scattermapbox"
           }
          ],
          "scatterpolar": [
           {
            "marker": {
             "colorbar": {
              "outlinewidth": 1,
              "tickcolor": "rgb(36,36,36)",
              "ticks": "outside"
             }
            },
            "type": "scatterpolar"
           }
          ],
          "scatterpolargl": [
           {
            "marker": {
             "colorbar": {
              "outlinewidth": 1,
              "tickcolor": "rgb(36,36,36)",
              "ticks": "outside"
             }
            },
            "type": "scatterpolargl"
           }
          ],
          "scatterternary": [
           {
            "marker": {
             "colorbar": {
              "outlinewidth": 1,
              "tickcolor": "rgb(36,36,36)",
              "ticks": "outside"
             }
            },
            "type": "scatterternary"
           }
          ],
          "surface": [
           {
            "colorbar": {
             "outlinewidth": 1,
             "tickcolor": "rgb(36,36,36)",
             "ticks": "outside"
            },
            "colorscale": [
             [
              0,
              "#440154"
             ],
             [
              0.1111111111111111,
              "#482878"
             ],
             [
              0.2222222222222222,
              "#3e4989"
             ],
             [
              0.3333333333333333,
              "#31688e"
             ],
             [
              0.4444444444444444,
              "#26828e"
             ],
             [
              0.5555555555555556,
              "#1f9e89"
             ],
             [
              0.6666666666666666,
              "#35b779"
             ],
             [
              0.7777777777777778,
              "#6ece58"
             ],
             [
              0.8888888888888888,
              "#b5de2b"
             ],
             [
              1,
              "#fde725"
             ]
            ],
            "type": "surface"
           }
          ],
          "table": [
           {
            "cells": {
             "fill": {
              "color": "rgb(237,237,237)"
             },
             "line": {
              "color": "white"
             }
            },
            "header": {
             "fill": {
              "color": "rgb(217,217,217)"
             },
             "line": {
              "color": "white"
             }
            },
            "type": "table"
           }
          ]
         },
         "layout": {
          "annotationdefaults": {
           "arrowhead": 0,
           "arrowwidth": 1
          },
          "autotypenumbers": "strict",
          "coloraxis": {
           "colorbar": {
            "outlinewidth": 1,
            "tickcolor": "rgb(36,36,36)",
            "ticks": "outside"
           }
          },
          "colorscale": {
           "diverging": [
            [
             0,
             "rgb(103,0,31)"
            ],
            [
             0.1,
             "rgb(178,24,43)"
            ],
            [
             0.2,
             "rgb(214,96,77)"
            ],
            [
             0.3,
             "rgb(244,165,130)"
            ],
            [
             0.4,
             "rgb(253,219,199)"
            ],
            [
             0.5,
             "rgb(247,247,247)"
            ],
            [
             0.6,
             "rgb(209,229,240)"
            ],
            [
             0.7,
             "rgb(146,197,222)"
            ],
            [
             0.8,
             "rgb(67,147,195)"
            ],
            [
             0.9,
             "rgb(33,102,172)"
            ],
            [
             1,
             "rgb(5,48,97)"
            ]
           ],
           "sequential": [
            [
             0,
             "#440154"
            ],
            [
             0.1111111111111111,
             "#482878"
            ],
            [
             0.2222222222222222,
             "#3e4989"
            ],
            [
             0.3333333333333333,
             "#31688e"
            ],
            [
             0.4444444444444444,
             "#26828e"
            ],
            [
             0.5555555555555556,
             "#1f9e89"
            ],
            [
             0.6666666666666666,
             "#35b779"
            ],
            [
             0.7777777777777778,
             "#6ece58"
            ],
            [
             0.8888888888888888,
             "#b5de2b"
            ],
            [
             1,
             "#fde725"
            ]
           ],
           "sequentialminus": [
            [
             0,
             "#440154"
            ],
            [
             0.1111111111111111,
             "#482878"
            ],
            [
             0.2222222222222222,
             "#3e4989"
            ],
            [
             0.3333333333333333,
             "#31688e"
            ],
            [
             0.4444444444444444,
             "#26828e"
            ],
            [
             0.5555555555555556,
             "#1f9e89"
            ],
            [
             0.6666666666666666,
             "#35b779"
            ],
            [
             0.7777777777777778,
             "#6ece58"
            ],
            [
             0.8888888888888888,
             "#b5de2b"
            ],
            [
             1,
             "#fde725"
            ]
           ]
          },
          "colorway": [
           "#1F77B4",
           "#FF7F0E",
           "#2CA02C",
           "#D62728",
           "#9467BD",
           "#8C564B",
           "#E377C2",
           "#7F7F7F",
           "#BCBD22",
           "#17BECF"
          ],
          "font": {
           "color": "rgb(36,36,36)"
          },
          "geo": {
           "bgcolor": "white",
           "lakecolor": "white",
           "landcolor": "white",
           "showlakes": true,
           "showland": true,
           "subunitcolor": "white"
          },
          "hoverlabel": {
           "align": "left"
          },
          "hovermode": "closest",
          "mapbox": {
           "style": "light"
          },
          "paper_bgcolor": "white",
          "plot_bgcolor": "white",
          "polar": {
           "angularaxis": {
            "gridcolor": "rgb(232,232,232)",
            "linecolor": "rgb(36,36,36)",
            "showgrid": false,
            "showline": true,
            "ticks": "outside"
           },
           "bgcolor": "white",
           "radialaxis": {
            "gridcolor": "rgb(232,232,232)",
            "linecolor": "rgb(36,36,36)",
            "showgrid": false,
            "showline": true,
            "ticks": "outside"
           }
          },
          "scene": {
           "xaxis": {
            "backgroundcolor": "white",
            "gridcolor": "rgb(232,232,232)",
            "gridwidth": 2,
            "linecolor": "rgb(36,36,36)",
            "showbackground": true,
            "showgrid": false,
            "showline": true,
            "ticks": "outside",
            "zeroline": false,
            "zerolinecolor": "rgb(36,36,36)"
           },
           "yaxis": {
            "backgroundcolor": "white",
            "gridcolor": "rgb(232,232,232)",
            "gridwidth": 2,
            "linecolor": "rgb(36,36,36)",
            "showbackground": true,
            "showgrid": false,
            "showline": true,
            "ticks": "outside",
            "zeroline": false,
            "zerolinecolor": "rgb(36,36,36)"
           },
           "zaxis": {
            "backgroundcolor": "white",
            "gridcolor": "rgb(232,232,232)",
            "gridwidth": 2,
            "linecolor": "rgb(36,36,36)",
            "showbackground": true,
            "showgrid": false,
            "showline": true,
            "ticks": "outside",
            "zeroline": false,
            "zerolinecolor": "rgb(36,36,36)"
           }
          },
          "shapedefaults": {
           "fillcolor": "black",
           "line": {
            "width": 0
           },
           "opacity": 0.3
          },
          "ternary": {
           "aaxis": {
            "gridcolor": "rgb(232,232,232)",
            "linecolor": "rgb(36,36,36)",
            "showgrid": false,
            "showline": true,
            "ticks": "outside"
           },
           "baxis": {
            "gridcolor": "rgb(232,232,232)",
            "linecolor": "rgb(36,36,36)",
            "showgrid": false,
            "showline": true,
            "ticks": "outside"
           },
           "bgcolor": "white",
           "caxis": {
            "gridcolor": "rgb(232,232,232)",
            "linecolor": "rgb(36,36,36)",
            "showgrid": false,
            "showline": true,
            "ticks": "outside"
           }
          },
          "title": {
           "x": 0.05
          },
          "xaxis": {
           "automargin": true,
           "gridcolor": "rgb(232,232,232)",
           "linecolor": "rgb(36,36,36)",
           "showgrid": false,
           "showline": true,
           "ticks": "outside",
           "title": {
            "standoff": 15
           },
           "zeroline": false,
           "zerolinecolor": "rgb(36,36,36)"
          },
          "yaxis": {
           "automargin": true,
           "gridcolor": "rgb(232,232,232)",
           "linecolor": "rgb(36,36,36)",
           "showgrid": false,
           "showline": true,
           "ticks": "outside",
           "title": {
            "standoff": 15
           },
           "zeroline": false,
           "zerolinecolor": "rgb(36,36,36)"
          }
         }
        },
        "title": {
         "x": 0.5,
         "xanchor": "center",
         "y": 0.9,
         "yanchor": "top"
        },
        "width": 600,
        "xaxis": {
         "anchor": "y",
         "domain": [
          0,
          1
         ],
         "linewidth": 1.5,
         "title": {
          "text": "Day"
         }
        },
        "yaxis": {
         "anchor": "x",
         "domain": [
          0,
          1
         ],
         "linewidth": 1.5,
         "title": {
          "text": "d'"
         }
        }
       }
      },
      "text/html": [
       "<div>                            <div id=\"2f7d1c78-3835-4e66-b74e-d295618bf7be\" class=\"plotly-graph-div\" style=\"height:500px; width:600px;\"></div>            <script type=\"text/javascript\">                require([\"plotly\"], function(Plotly) {                    window.PLOTLYENV=window.PLOTLYENV || {};                                    if (document.getElementById(\"2f7d1c78-3835-4e66-b74e-d295618bf7be\")) {                    Plotly.newPlot(                        \"2f7d1c78-3835-4e66-b74e-d295618bf7be\",                        [{\"error_y\":{\"array\":[0.08900759539333879,0.09178073983315882,0.06769082132165782,0.08099831872922139,0.06933893905426895,0.08577003256225074,0.07503186602201535,0.07554477382403578,0.0731777666929308,0.06810321015574441,0.04481880661828538,0.06872577147285516,0.07832389955271839,0.08169798944531645],\"type\":\"data\"},\"line\":{\"color\":\"darkgrey\"},\"mode\":\"lines+markers\",\"name\":\"thresh3_twoport\",\"showlegend\":true,\"x\":[1,2,3,4,5,6,7,8,9,10,11,12,13,14],\"y\":[0.041128028881003906,0.6215694103213433,1.782276579645338,1.7932373783414117,1.846083042402644,1.8207558999330964,1.071098551704285,1.541409331526263,1.661975464332954,1.8904502328100865,2.093655919980938,1.827556648050877,1.368597913504559,1.765095250986889],\"type\":\"scatter\"},{\"error_y\":{\"array\":[0.15503242492315797,0.18492454464077612,0.1333229808097565,0.1313745526247864,0.05635880109625762,0.04863791591105731,0.12261960793147439,0.11658856093505678,0.0964509105117382,0.07864604700193135,0.052164582976038515,0.04518127281009229,0.11159918174646898,0.07141886772735809],\"type\":\"data\"},\"line\":{\"color\":\"midnightblue\"},\"mode\":\"lines+markers\",\"name\":\"thresh5_twoport\",\"showlegend\":true,\"x\":[1,2,3,4,5,6,7,8,9,10,11,12,13,14],\"y\":[0.1309910362134828,1.085640512293891,1.676461181026775,1.741235984225739,2.1172236970278138,2.0534689815319,0.9012316306765605,1.3445815780836543,1.791899217900819,1.90586077364009,1.974461730515842,2.194763483666209,1.2926433604340097,1.8736278437546472],\"type\":\"scatter\"}],                        {\"template\":{\"data\":{\"barpolar\":[{\"marker\":{\"line\":{\"color\":\"white\",\"width\":0.5},\"pattern\":{\"fillmode\":\"overlay\",\"size\":10,\"solidity\":0.2}},\"type\":\"barpolar\"}],\"bar\":[{\"error_x\":{\"color\":\"rgb(36,36,36)\"},\"error_y\":{\"color\":\"rgb(36,36,36)\"},\"marker\":{\"line\":{\"color\":\"white\",\"width\":0.5},\"pattern\":{\"fillmode\":\"overlay\",\"size\":10,\"solidity\":0.2}},\"type\":\"bar\"}],\"carpet\":[{\"aaxis\":{\"endlinecolor\":\"rgb(36,36,36)\",\"gridcolor\":\"white\",\"linecolor\":\"white\",\"minorgridcolor\":\"white\",\"startlinecolor\":\"rgb(36,36,36)\"},\"baxis\":{\"endlinecolor\":\"rgb(36,36,36)\",\"gridcolor\":\"white\",\"linecolor\":\"white\",\"minorgridcolor\":\"white\",\"startlinecolor\":\"rgb(36,36,36)\"},\"type\":\"carpet\"}],\"choropleth\":[{\"colorbar\":{\"outlinewidth\":1,\"tickcolor\":\"rgb(36,36,36)\",\"ticks\":\"outside\"},\"type\":\"choropleth\"}],\"contourcarpet\":[{\"colorbar\":{\"outlinewidth\":1,\"tickcolor\":\"rgb(36,36,36)\",\"ticks\":\"outside\"},\"type\":\"contourcarpet\"}],\"contour\":[{\"colorbar\":{\"outlinewidth\":1,\"tickcolor\":\"rgb(36,36,36)\",\"ticks\":\"outside\"},\"colorscale\":[[0.0,\"#440154\"],[0.1111111111111111,\"#482878\"],[0.2222222222222222,\"#3e4989\"],[0.3333333333333333,\"#31688e\"],[0.4444444444444444,\"#26828e\"],[0.5555555555555556,\"#1f9e89\"],[0.6666666666666666,\"#35b779\"],[0.7777777777777778,\"#6ece58\"],[0.8888888888888888,\"#b5de2b\"],[1.0,\"#fde725\"]],\"type\":\"contour\"}],\"heatmapgl\":[{\"colorbar\":{\"outlinewidth\":1,\"tickcolor\":\"rgb(36,36,36)\",\"ticks\":\"outside\"},\"colorscale\":[[0.0,\"#440154\"],[0.1111111111111111,\"#482878\"],[0.2222222222222222,\"#3e4989\"],[0.3333333333333333,\"#31688e\"],[0.4444444444444444,\"#26828e\"],[0.5555555555555556,\"#1f9e89\"],[0.6666666666666666,\"#35b779\"],[0.7777777777777778,\"#6ece58\"],[0.8888888888888888,\"#b5de2b\"],[1.0,\"#fde725\"]],\"type\":\"heatmapgl\"}],\"heatmap\":[{\"colorbar\":{\"outlinewidth\":1,\"tickcolor\":\"rgb(36,36,36)\",\"ticks\":\"outside\"},\"colorscale\":[[0.0,\"#440154\"],[0.1111111111111111,\"#482878\"],[0.2222222222222222,\"#3e4989\"],[0.3333333333333333,\"#31688e\"],[0.4444444444444444,\"#26828e\"],[0.5555555555555556,\"#1f9e89\"],[0.6666666666666666,\"#35b779\"],[0.7777777777777778,\"#6ece58\"],[0.8888888888888888,\"#b5de2b\"],[1.0,\"#fde725\"]],\"type\":\"heatmap\"}],\"histogram2dcontour\":[{\"colorbar\":{\"outlinewidth\":1,\"tickcolor\":\"rgb(36,36,36)\",\"ticks\":\"outside\"},\"colorscale\":[[0.0,\"#440154\"],[0.1111111111111111,\"#482878\"],[0.2222222222222222,\"#3e4989\"],[0.3333333333333333,\"#31688e\"],[0.4444444444444444,\"#26828e\"],[0.5555555555555556,\"#1f9e89\"],[0.6666666666666666,\"#35b779\"],[0.7777777777777778,\"#6ece58\"],[0.8888888888888888,\"#b5de2b\"],[1.0,\"#fde725\"]],\"type\":\"histogram2dcontour\"}],\"histogram2d\":[{\"colorbar\":{\"outlinewidth\":1,\"tickcolor\":\"rgb(36,36,36)\",\"ticks\":\"outside\"},\"colorscale\":[[0.0,\"#440154\"],[0.1111111111111111,\"#482878\"],[0.2222222222222222,\"#3e4989\"],[0.3333333333333333,\"#31688e\"],[0.4444444444444444,\"#26828e\"],[0.5555555555555556,\"#1f9e89\"],[0.6666666666666666,\"#35b779\"],[0.7777777777777778,\"#6ece58\"],[0.8888888888888888,\"#b5de2b\"],[1.0,\"#fde725\"]],\"type\":\"histogram2d\"}],\"histogram\":[{\"marker\":{\"line\":{\"color\":\"white\",\"width\":0.6}},\"type\":\"histogram\"}],\"mesh3d\":[{\"colorbar\":{\"outlinewidth\":1,\"tickcolor\":\"rgb(36,36,36)\",\"ticks\":\"outside\"},\"type\":\"mesh3d\"}],\"parcoords\":[{\"line\":{\"colorbar\":{\"outlinewidth\":1,\"tickcolor\":\"rgb(36,36,36)\",\"ticks\":\"outside\"}},\"type\":\"parcoords\"}],\"pie\":[{\"automargin\":true,\"type\":\"pie\"}],\"scatter3d\":[{\"line\":{\"colorbar\":{\"outlinewidth\":1,\"tickcolor\":\"rgb(36,36,36)\",\"ticks\":\"outside\"}},\"marker\":{\"colorbar\":{\"outlinewidth\":1,\"tickcolor\":\"rgb(36,36,36)\",\"ticks\":\"outside\"}},\"type\":\"scatter3d\"}],\"scattercarpet\":[{\"marker\":{\"colorbar\":{\"outlinewidth\":1,\"tickcolor\":\"rgb(36,36,36)\",\"ticks\":\"outside\"}},\"type\":\"scattercarpet\"}],\"scattergeo\":[{\"marker\":{\"colorbar\":{\"outlinewidth\":1,\"tickcolor\":\"rgb(36,36,36)\",\"ticks\":\"outside\"}},\"type\":\"scattergeo\"}],\"scattergl\":[{\"marker\":{\"colorbar\":{\"outlinewidth\":1,\"tickcolor\":\"rgb(36,36,36)\",\"ticks\":\"outside\"}},\"type\":\"scattergl\"}],\"scattermapbox\":[{\"marker\":{\"colorbar\":{\"outlinewidth\":1,\"tickcolor\":\"rgb(36,36,36)\",\"ticks\":\"outside\"}},\"type\":\"scattermapbox\"}],\"scatterpolargl\":[{\"marker\":{\"colorbar\":{\"outlinewidth\":1,\"tickcolor\":\"rgb(36,36,36)\",\"ticks\":\"outside\"}},\"type\":\"scatterpolargl\"}],\"scatterpolar\":[{\"marker\":{\"colorbar\":{\"outlinewidth\":1,\"tickcolor\":\"rgb(36,36,36)\",\"ticks\":\"outside\"}},\"type\":\"scatterpolar\"}],\"scatter\":[{\"fillpattern\":{\"fillmode\":\"overlay\",\"size\":10,\"solidity\":0.2},\"type\":\"scatter\"}],\"scatterternary\":[{\"marker\":{\"colorbar\":{\"outlinewidth\":1,\"tickcolor\":\"rgb(36,36,36)\",\"ticks\":\"outside\"}},\"type\":\"scatterternary\"}],\"surface\":[{\"colorbar\":{\"outlinewidth\":1,\"tickcolor\":\"rgb(36,36,36)\",\"ticks\":\"outside\"},\"colorscale\":[[0.0,\"#440154\"],[0.1111111111111111,\"#482878\"],[0.2222222222222222,\"#3e4989\"],[0.3333333333333333,\"#31688e\"],[0.4444444444444444,\"#26828e\"],[0.5555555555555556,\"#1f9e89\"],[0.6666666666666666,\"#35b779\"],[0.7777777777777778,\"#6ece58\"],[0.8888888888888888,\"#b5de2b\"],[1.0,\"#fde725\"]],\"type\":\"surface\"}],\"table\":[{\"cells\":{\"fill\":{\"color\":\"rgb(237,237,237)\"},\"line\":{\"color\":\"white\"}},\"header\":{\"fill\":{\"color\":\"rgb(217,217,217)\"},\"line\":{\"color\":\"white\"}},\"type\":\"table\"}]},\"layout\":{\"annotationdefaults\":{\"arrowhead\":0,\"arrowwidth\":1},\"autotypenumbers\":\"strict\",\"coloraxis\":{\"colorbar\":{\"outlinewidth\":1,\"tickcolor\":\"rgb(36,36,36)\",\"ticks\":\"outside\"}},\"colorscale\":{\"diverging\":[[0.0,\"rgb(103,0,31)\"],[0.1,\"rgb(178,24,43)\"],[0.2,\"rgb(214,96,77)\"],[0.3,\"rgb(244,165,130)\"],[0.4,\"rgb(253,219,199)\"],[0.5,\"rgb(247,247,247)\"],[0.6,\"rgb(209,229,240)\"],[0.7,\"rgb(146,197,222)\"],[0.8,\"rgb(67,147,195)\"],[0.9,\"rgb(33,102,172)\"],[1.0,\"rgb(5,48,97)\"]],\"sequential\":[[0.0,\"#440154\"],[0.1111111111111111,\"#482878\"],[0.2222222222222222,\"#3e4989\"],[0.3333333333333333,\"#31688e\"],[0.4444444444444444,\"#26828e\"],[0.5555555555555556,\"#1f9e89\"],[0.6666666666666666,\"#35b779\"],[0.7777777777777778,\"#6ece58\"],[0.8888888888888888,\"#b5de2b\"],[1.0,\"#fde725\"]],\"sequentialminus\":[[0.0,\"#440154\"],[0.1111111111111111,\"#482878\"],[0.2222222222222222,\"#3e4989\"],[0.3333333333333333,\"#31688e\"],[0.4444444444444444,\"#26828e\"],[0.5555555555555556,\"#1f9e89\"],[0.6666666666666666,\"#35b779\"],[0.7777777777777778,\"#6ece58\"],[0.8888888888888888,\"#b5de2b\"],[1.0,\"#fde725\"]]},\"colorway\":[\"#1F77B4\",\"#FF7F0E\",\"#2CA02C\",\"#D62728\",\"#9467BD\",\"#8C564B\",\"#E377C2\",\"#7F7F7F\",\"#BCBD22\",\"#17BECF\"],\"font\":{\"color\":\"rgb(36,36,36)\"},\"geo\":{\"bgcolor\":\"white\",\"lakecolor\":\"white\",\"landcolor\":\"white\",\"showlakes\":true,\"showland\":true,\"subunitcolor\":\"white\"},\"hoverlabel\":{\"align\":\"left\"},\"hovermode\":\"closest\",\"mapbox\":{\"style\":\"light\"},\"paper_bgcolor\":\"white\",\"plot_bgcolor\":\"white\",\"polar\":{\"angularaxis\":{\"gridcolor\":\"rgb(232,232,232)\",\"linecolor\":\"rgb(36,36,36)\",\"showgrid\":false,\"showline\":true,\"ticks\":\"outside\"},\"bgcolor\":\"white\",\"radialaxis\":{\"gridcolor\":\"rgb(232,232,232)\",\"linecolor\":\"rgb(36,36,36)\",\"showgrid\":false,\"showline\":true,\"ticks\":\"outside\"}},\"scene\":{\"xaxis\":{\"backgroundcolor\":\"white\",\"gridcolor\":\"rgb(232,232,232)\",\"gridwidth\":2,\"linecolor\":\"rgb(36,36,36)\",\"showbackground\":true,\"showgrid\":false,\"showline\":true,\"ticks\":\"outside\",\"zeroline\":false,\"zerolinecolor\":\"rgb(36,36,36)\"},\"yaxis\":{\"backgroundcolor\":\"white\",\"gridcolor\":\"rgb(232,232,232)\",\"gridwidth\":2,\"linecolor\":\"rgb(36,36,36)\",\"showbackground\":true,\"showgrid\":false,\"showline\":true,\"ticks\":\"outside\",\"zeroline\":false,\"zerolinecolor\":\"rgb(36,36,36)\"},\"zaxis\":{\"backgroundcolor\":\"white\",\"gridcolor\":\"rgb(232,232,232)\",\"gridwidth\":2,\"linecolor\":\"rgb(36,36,36)\",\"showbackground\":true,\"showgrid\":false,\"showline\":true,\"ticks\":\"outside\",\"zeroline\":false,\"zerolinecolor\":\"rgb(36,36,36)\"}},\"shapedefaults\":{\"fillcolor\":\"black\",\"line\":{\"width\":0},\"opacity\":0.3},\"ternary\":{\"aaxis\":{\"gridcolor\":\"rgb(232,232,232)\",\"linecolor\":\"rgb(36,36,36)\",\"showgrid\":false,\"showline\":true,\"ticks\":\"outside\"},\"baxis\":{\"gridcolor\":\"rgb(232,232,232)\",\"linecolor\":\"rgb(36,36,36)\",\"showgrid\":false,\"showline\":true,\"ticks\":\"outside\"},\"bgcolor\":\"white\",\"caxis\":{\"gridcolor\":\"rgb(232,232,232)\",\"linecolor\":\"rgb(36,36,36)\",\"showgrid\":false,\"showline\":true,\"ticks\":\"outside\"}},\"title\":{\"x\":0.05},\"xaxis\":{\"automargin\":true,\"gridcolor\":\"rgb(232,232,232)\",\"linecolor\":\"rgb(36,36,36)\",\"showgrid\":false,\"showline\":true,\"ticks\":\"outside\",\"title\":{\"standoff\":15},\"zeroline\":false,\"zerolinecolor\":\"rgb(36,36,36)\"},\"yaxis\":{\"automargin\":true,\"gridcolor\":\"rgb(232,232,232)\",\"linecolor\":\"rgb(36,36,36)\",\"showgrid\":false,\"showline\":true,\"ticks\":\"outside\",\"title\":{\"standoff\":15},\"zeroline\":false,\"zerolinecolor\":\"rgb(36,36,36)\"}}},\"xaxis\":{\"anchor\":\"y\",\"domain\":[0.0,1.0],\"title\":{\"text\":\"Day\"},\"linewidth\":1.5},\"yaxis\":{\"anchor\":\"x\",\"domain\":[0.0,1.0],\"title\":{\"text\":\"d'\"},\"linewidth\":1.5},\"title\":{\"y\":0.9,\"x\":0.5,\"xanchor\":\"center\",\"yanchor\":\"top\"},\"font\":{\"size\":22,\"family\":\"Arial\"},\"height\":500,\"width\":600,\"shapes\":[{\"line\":{\"color\":\"darkgrey\",\"dash\":\"dash\",\"width\":1},\"opacity\":1,\"type\":\"line\",\"x0\":6.5,\"x1\":6.5,\"xref\":\"x\",\"y0\":0,\"y1\":1,\"yref\":\"y domain\"},{\"line\":{\"color\":\"darkgrey\",\"dash\":\"dash\",\"width\":1},\"opacity\":1,\"type\":\"line\",\"x0\":12.5,\"x1\":12.5,\"xref\":\"x\",\"y0\":0,\"y1\":1,\"yref\":\"y domain\"}]},                        {\"responsive\": true}                    ).then(function(){\n",
       "                            \n",
       "var gd = document.getElementById('2f7d1c78-3835-4e66-b74e-d295618bf7be');\n",
       "var x = new MutationObserver(function (mutations, observer) {{\n",
       "        var display = window.getComputedStyle(gd).display;\n",
       "        if (!display || display === 'none') {{\n",
       "            console.log([gd, 'removed!']);\n",
       "            Plotly.purge(gd);\n",
       "            observer.disconnect();\n",
       "        }}\n",
       "}});\n",
       "\n",
       "// Listen for the removal of the full notebook cells\n",
       "var notebookContainer = gd.closest('#notebook-container');\n",
       "if (notebookContainer) {{\n",
       "    x.observe(notebookContainer, {childList: true});\n",
       "}}\n",
       "\n",
       "// Listen for the clearing of the current output cell\n",
       "var outputEl = gd.closest('.output');\n",
       "if (outputEl) {{\n",
       "    x.observe(outputEl, {childList: true});\n",
       "}}\n",
       "\n",
       "                        })                };                });            </script>        </div>"
      ]
     },
     "metadata": {},
     "output_type": "display_data"
    }
   ],
   "source": [
    "## dprime across contexts\n",
    "fig = pf.plot_behavior_across_days(data=metrics, x_var='day', y_var='dprime', groupby_var=['day', 'group'], plot_transitions=[6.5, 12.5],\n",
    "                                   transition_color=[chance_color, chance_color], width=600,\n",
    "                                   x_title='Day', y_title=\"d'\", marker_color=two_color_plots, expert_line=False, chance=False, plot_datapoints=False)\n",
    "fig.show()\n",
    "fig.write_image(pjoin(fig_path, 'dprime_across_days.png'))"
   ]
  },
  {
   "cell_type": "code",
   "execution_count": 10,
   "metadata": {},
   "outputs": [
    {
     "data": {
      "application/vnd.plotly.v1+json": {
       "config": {
        "plotlyServerURL": "https://plot.ly"
       },
       "data": [
        {
         "error_y": {
          "array": [
           0.0428354866437863,
           0.03552739124763027,
           0.02382274687826444,
           0.019176582057768225,
           0.01832635950458416,
           0.0258265793487245,
           0.021001450709406757,
           0.025793528359960047,
           0.02398900785087399,
           0.022661312747984174,
           0.014217965312744595,
           0.020353192820375263,
           0.02427348584108164,
           0.027301706237526594
          ],
          "type": "data"
         },
         "line": {
          "color": "darkgrey"
         },
         "mode": "lines+markers",
         "name": "thresh3_twoport",
         "showlegend": true,
         "type": "scatter",
         "x": [
          1,
          2,
          3,
          4,
          5,
          6,
          7,
          8,
          9,
          10,
          11,
          12,
          13,
          14
         ],
         "y": [
          0.32954545454545453,
          0.40222222222222226,
          0.8067375886524822,
          0.861904761904762,
          0.8624031007751939,
          0.8404255319148937,
          0.6413333333333334,
          0.7257575757575757,
          0.7666666666666667,
          0.8360215053763441,
          0.9066666666666666,
          0.8391608391608392,
          0.6890756302521008,
          0.7989690721649485
         ]
        },
        {
         "error_y": {
          "array": [
           0.053934700592261554,
           0.0627877555570418,
           0.04289077440215948,
           0.046052569493450116,
           0.017273169079398375,
           0.014689807108038353,
           0.030506786086552353,
           0.04020400808938779,
           0.02404533589239664,
           0.023147693859938055,
           0.01620769227315178,
           0.011283532833803874,
           0.02520211629531424,
           0.01977431008065526
          ],
          "type": "data"
         },
         "line": {
          "color": "midnightblue"
         },
         "mode": "lines+markers",
         "name": "thresh5_twoport",
         "showlegend": true,
         "type": "scatter",
         "x": [
          1,
          2,
          3,
          4,
          5,
          6,
          7,
          8,
          9,
          10,
          11,
          12,
          13,
          14
         ],
         "y": [
          0.4022988505747126,
          0.5804597701149425,
          0.7715053763440861,
          0.7816091954022989,
          0.9201388888888888,
          0.9030612244897959,
          0.6711111111111111,
          0.6820987654320988,
          0.8466666666666667,
          0.8627450980392156,
          0.8745704467353952,
          0.9469696969696969,
          0.7484276729559748,
          0.8496732026143792
         ]
        }
       ],
       "layout": {
        "font": {
         "family": "Arial",
         "size": 22
        },
        "height": 500,
        "shapes": [
         {
          "line": {
           "color": "darkgrey",
           "dash": "dash",
           "width": 1
          },
          "opacity": 1,
          "type": "line",
          "x0": 6.5,
          "x1": 6.5,
          "xref": "x",
          "y0": 0,
          "y1": 1,
          "yref": "y domain"
         },
         {
          "line": {
           "color": "darkgrey",
           "dash": "dash",
           "width": 1
          },
          "opacity": 1,
          "type": "line",
          "x0": 12.5,
          "x1": 12.5,
          "xref": "x",
          "y0": 0,
          "y1": 1,
          "yref": "y domain"
         },
         {
          "line": {
           "color": "darkgrey",
           "dash": "dash",
           "width": 1
          },
          "opacity": 1,
          "type": "line",
          "x0": 0,
          "x1": 1,
          "xref": "x domain",
          "y0": 1,
          "y1": 1,
          "yref": "y"
         }
        ],
        "template": {
         "data": {
          "bar": [
           {
            "error_x": {
             "color": "rgb(36,36,36)"
            },
            "error_y": {
             "color": "rgb(36,36,36)"
            },
            "marker": {
             "line": {
              "color": "white",
              "width": 0.5
             },
             "pattern": {
              "fillmode": "overlay",
              "size": 10,
              "solidity": 0.2
             }
            },
            "type": "bar"
           }
          ],
          "barpolar": [
           {
            "marker": {
             "line": {
              "color": "white",
              "width": 0.5
             },
             "pattern": {
              "fillmode": "overlay",
              "size": 10,
              "solidity": 0.2
             }
            },
            "type": "barpolar"
           }
          ],
          "carpet": [
           {
            "aaxis": {
             "endlinecolor": "rgb(36,36,36)",
             "gridcolor": "white",
             "linecolor": "white",
             "minorgridcolor": "white",
             "startlinecolor": "rgb(36,36,36)"
            },
            "baxis": {
             "endlinecolor": "rgb(36,36,36)",
             "gridcolor": "white",
             "linecolor": "white",
             "minorgridcolor": "white",
             "startlinecolor": "rgb(36,36,36)"
            },
            "type": "carpet"
           }
          ],
          "choropleth": [
           {
            "colorbar": {
             "outlinewidth": 1,
             "tickcolor": "rgb(36,36,36)",
             "ticks": "outside"
            },
            "type": "choropleth"
           }
          ],
          "contour": [
           {
            "colorbar": {
             "outlinewidth": 1,
             "tickcolor": "rgb(36,36,36)",
             "ticks": "outside"
            },
            "colorscale": [
             [
              0,
              "#440154"
             ],
             [
              0.1111111111111111,
              "#482878"
             ],
             [
              0.2222222222222222,
              "#3e4989"
             ],
             [
              0.3333333333333333,
              "#31688e"
             ],
             [
              0.4444444444444444,
              "#26828e"
             ],
             [
              0.5555555555555556,
              "#1f9e89"
             ],
             [
              0.6666666666666666,
              "#35b779"
             ],
             [
              0.7777777777777778,
              "#6ece58"
             ],
             [
              0.8888888888888888,
              "#b5de2b"
             ],
             [
              1,
              "#fde725"
             ]
            ],
            "type": "contour"
           }
          ],
          "contourcarpet": [
           {
            "colorbar": {
             "outlinewidth": 1,
             "tickcolor": "rgb(36,36,36)",
             "ticks": "outside"
            },
            "type": "contourcarpet"
           }
          ],
          "heatmap": [
           {
            "colorbar": {
             "outlinewidth": 1,
             "tickcolor": "rgb(36,36,36)",
             "ticks": "outside"
            },
            "colorscale": [
             [
              0,
              "#440154"
             ],
             [
              0.1111111111111111,
              "#482878"
             ],
             [
              0.2222222222222222,
              "#3e4989"
             ],
             [
              0.3333333333333333,
              "#31688e"
             ],
             [
              0.4444444444444444,
              "#26828e"
             ],
             [
              0.5555555555555556,
              "#1f9e89"
             ],
             [
              0.6666666666666666,
              "#35b779"
             ],
             [
              0.7777777777777778,
              "#6ece58"
             ],
             [
              0.8888888888888888,
              "#b5de2b"
             ],
             [
              1,
              "#fde725"
             ]
            ],
            "type": "heatmap"
           }
          ],
          "heatmapgl": [
           {
            "colorbar": {
             "outlinewidth": 1,
             "tickcolor": "rgb(36,36,36)",
             "ticks": "outside"
            },
            "colorscale": [
             [
              0,
              "#440154"
             ],
             [
              0.1111111111111111,
              "#482878"
             ],
             [
              0.2222222222222222,
              "#3e4989"
             ],
             [
              0.3333333333333333,
              "#31688e"
             ],
             [
              0.4444444444444444,
              "#26828e"
             ],
             [
              0.5555555555555556,
              "#1f9e89"
             ],
             [
              0.6666666666666666,
              "#35b779"
             ],
             [
              0.7777777777777778,
              "#6ece58"
             ],
             [
              0.8888888888888888,
              "#b5de2b"
             ],
             [
              1,
              "#fde725"
             ]
            ],
            "type": "heatmapgl"
           }
          ],
          "histogram": [
           {
            "marker": {
             "line": {
              "color": "white",
              "width": 0.6
             }
            },
            "type": "histogram"
           }
          ],
          "histogram2d": [
           {
            "colorbar": {
             "outlinewidth": 1,
             "tickcolor": "rgb(36,36,36)",
             "ticks": "outside"
            },
            "colorscale": [
             [
              0,
              "#440154"
             ],
             [
              0.1111111111111111,
              "#482878"
             ],
             [
              0.2222222222222222,
              "#3e4989"
             ],
             [
              0.3333333333333333,
              "#31688e"
             ],
             [
              0.4444444444444444,
              "#26828e"
             ],
             [
              0.5555555555555556,
              "#1f9e89"
             ],
             [
              0.6666666666666666,
              "#35b779"
             ],
             [
              0.7777777777777778,
              "#6ece58"
             ],
             [
              0.8888888888888888,
              "#b5de2b"
             ],
             [
              1,
              "#fde725"
             ]
            ],
            "type": "histogram2d"
           }
          ],
          "histogram2dcontour": [
           {
            "colorbar": {
             "outlinewidth": 1,
             "tickcolor": "rgb(36,36,36)",
             "ticks": "outside"
            },
            "colorscale": [
             [
              0,
              "#440154"
             ],
             [
              0.1111111111111111,
              "#482878"
             ],
             [
              0.2222222222222222,
              "#3e4989"
             ],
             [
              0.3333333333333333,
              "#31688e"
             ],
             [
              0.4444444444444444,
              "#26828e"
             ],
             [
              0.5555555555555556,
              "#1f9e89"
             ],
             [
              0.6666666666666666,
              "#35b779"
             ],
             [
              0.7777777777777778,
              "#6ece58"
             ],
             [
              0.8888888888888888,
              "#b5de2b"
             ],
             [
              1,
              "#fde725"
             ]
            ],
            "type": "histogram2dcontour"
           }
          ],
          "mesh3d": [
           {
            "colorbar": {
             "outlinewidth": 1,
             "tickcolor": "rgb(36,36,36)",
             "ticks": "outside"
            },
            "type": "mesh3d"
           }
          ],
          "parcoords": [
           {
            "line": {
             "colorbar": {
              "outlinewidth": 1,
              "tickcolor": "rgb(36,36,36)",
              "ticks": "outside"
             }
            },
            "type": "parcoords"
           }
          ],
          "pie": [
           {
            "automargin": true,
            "type": "pie"
           }
          ],
          "scatter": [
           {
            "fillpattern": {
             "fillmode": "overlay",
             "size": 10,
             "solidity": 0.2
            },
            "type": "scatter"
           }
          ],
          "scatter3d": [
           {
            "line": {
             "colorbar": {
              "outlinewidth": 1,
              "tickcolor": "rgb(36,36,36)",
              "ticks": "outside"
             }
            },
            "marker": {
             "colorbar": {
              "outlinewidth": 1,
              "tickcolor": "rgb(36,36,36)",
              "ticks": "outside"
             }
            },
            "type": "scatter3d"
           }
          ],
          "scattercarpet": [
           {
            "marker": {
             "colorbar": {
              "outlinewidth": 1,
              "tickcolor": "rgb(36,36,36)",
              "ticks": "outside"
             }
            },
            "type": "scattercarpet"
           }
          ],
          "scattergeo": [
           {
            "marker": {
             "colorbar": {
              "outlinewidth": 1,
              "tickcolor": "rgb(36,36,36)",
              "ticks": "outside"
             }
            },
            "type": "scattergeo"
           }
          ],
          "scattergl": [
           {
            "marker": {
             "colorbar": {
              "outlinewidth": 1,
              "tickcolor": "rgb(36,36,36)",
              "ticks": "outside"
             }
            },
            "type": "scattergl"
           }
          ],
          "scattermapbox": [
           {
            "marker": {
             "colorbar": {
              "outlinewidth": 1,
              "tickcolor": "rgb(36,36,36)",
              "ticks": "outside"
             }
            },
            "type": "scattermapbox"
           }
          ],
          "scatterpolar": [
           {
            "marker": {
             "colorbar": {
              "outlinewidth": 1,
              "tickcolor": "rgb(36,36,36)",
              "ticks": "outside"
             }
            },
            "type": "scatterpolar"
           }
          ],
          "scatterpolargl": [
           {
            "marker": {
             "colorbar": {
              "outlinewidth": 1,
              "tickcolor": "rgb(36,36,36)",
              "ticks": "outside"
             }
            },
            "type": "scatterpolargl"
           }
          ],
          "scatterternary": [
           {
            "marker": {
             "colorbar": {
              "outlinewidth": 1,
              "tickcolor": "rgb(36,36,36)",
              "ticks": "outside"
             }
            },
            "type": "scatterternary"
           }
          ],
          "surface": [
           {
            "colorbar": {
             "outlinewidth": 1,
             "tickcolor": "rgb(36,36,36)",
             "ticks": "outside"
            },
            "colorscale": [
             [
              0,
              "#440154"
             ],
             [
              0.1111111111111111,
              "#482878"
             ],
             [
              0.2222222222222222,
              "#3e4989"
             ],
             [
              0.3333333333333333,
              "#31688e"
             ],
             [
              0.4444444444444444,
              "#26828e"
             ],
             [
              0.5555555555555556,
              "#1f9e89"
             ],
             [
              0.6666666666666666,
              "#35b779"
             ],
             [
              0.7777777777777778,
              "#6ece58"
             ],
             [
              0.8888888888888888,
              "#b5de2b"
             ],
             [
              1,
              "#fde725"
             ]
            ],
            "type": "surface"
           }
          ],
          "table": [
           {
            "cells": {
             "fill": {
              "color": "rgb(237,237,237)"
             },
             "line": {
              "color": "white"
             }
            },
            "header": {
             "fill": {
              "color": "rgb(217,217,217)"
             },
             "line": {
              "color": "white"
             }
            },
            "type": "table"
           }
          ]
         },
         "layout": {
          "annotationdefaults": {
           "arrowhead": 0,
           "arrowwidth": 1
          },
          "autotypenumbers": "strict",
          "coloraxis": {
           "colorbar": {
            "outlinewidth": 1,
            "tickcolor": "rgb(36,36,36)",
            "ticks": "outside"
           }
          },
          "colorscale": {
           "diverging": [
            [
             0,
             "rgb(103,0,31)"
            ],
            [
             0.1,
             "rgb(178,24,43)"
            ],
            [
             0.2,
             "rgb(214,96,77)"
            ],
            [
             0.3,
             "rgb(244,165,130)"
            ],
            [
             0.4,
             "rgb(253,219,199)"
            ],
            [
             0.5,
             "rgb(247,247,247)"
            ],
            [
             0.6,
             "rgb(209,229,240)"
            ],
            [
             0.7,
             "rgb(146,197,222)"
            ],
            [
             0.8,
             "rgb(67,147,195)"
            ],
            [
             0.9,
             "rgb(33,102,172)"
            ],
            [
             1,
             "rgb(5,48,97)"
            ]
           ],
           "sequential": [
            [
             0,
             "#440154"
            ],
            [
             0.1111111111111111,
             "#482878"
            ],
            [
             0.2222222222222222,
             "#3e4989"
            ],
            [
             0.3333333333333333,
             "#31688e"
            ],
            [
             0.4444444444444444,
             "#26828e"
            ],
            [
             0.5555555555555556,
             "#1f9e89"
            ],
            [
             0.6666666666666666,
             "#35b779"
            ],
            [
             0.7777777777777778,
             "#6ece58"
            ],
            [
             0.8888888888888888,
             "#b5de2b"
            ],
            [
             1,
             "#fde725"
            ]
           ],
           "sequentialminus": [
            [
             0,
             "#440154"
            ],
            [
             0.1111111111111111,
             "#482878"
            ],
            [
             0.2222222222222222,
             "#3e4989"
            ],
            [
             0.3333333333333333,
             "#31688e"
            ],
            [
             0.4444444444444444,
             "#26828e"
            ],
            [
             0.5555555555555556,
             "#1f9e89"
            ],
            [
             0.6666666666666666,
             "#35b779"
            ],
            [
             0.7777777777777778,
             "#6ece58"
            ],
            [
             0.8888888888888888,
             "#b5de2b"
            ],
            [
             1,
             "#fde725"
            ]
           ]
          },
          "colorway": [
           "#1F77B4",
           "#FF7F0E",
           "#2CA02C",
           "#D62728",
           "#9467BD",
           "#8C564B",
           "#E377C2",
           "#7F7F7F",
           "#BCBD22",
           "#17BECF"
          ],
          "font": {
           "color": "rgb(36,36,36)"
          },
          "geo": {
           "bgcolor": "white",
           "lakecolor": "white",
           "landcolor": "white",
           "showlakes": true,
           "showland": true,
           "subunitcolor": "white"
          },
          "hoverlabel": {
           "align": "left"
          },
          "hovermode": "closest",
          "mapbox": {
           "style": "light"
          },
          "paper_bgcolor": "white",
          "plot_bgcolor": "white",
          "polar": {
           "angularaxis": {
            "gridcolor": "rgb(232,232,232)",
            "linecolor": "rgb(36,36,36)",
            "showgrid": false,
            "showline": true,
            "ticks": "outside"
           },
           "bgcolor": "white",
           "radialaxis": {
            "gridcolor": "rgb(232,232,232)",
            "linecolor": "rgb(36,36,36)",
            "showgrid": false,
            "showline": true,
            "ticks": "outside"
           }
          },
          "scene": {
           "xaxis": {
            "backgroundcolor": "white",
            "gridcolor": "rgb(232,232,232)",
            "gridwidth": 2,
            "linecolor": "rgb(36,36,36)",
            "showbackground": true,
            "showgrid": false,
            "showline": true,
            "ticks": "outside",
            "zeroline": false,
            "zerolinecolor": "rgb(36,36,36)"
           },
           "yaxis": {
            "backgroundcolor": "white",
            "gridcolor": "rgb(232,232,232)",
            "gridwidth": 2,
            "linecolor": "rgb(36,36,36)",
            "showbackground": true,
            "showgrid": false,
            "showline": true,
            "ticks": "outside",
            "zeroline": false,
            "zerolinecolor": "rgb(36,36,36)"
           },
           "zaxis": {
            "backgroundcolor": "white",
            "gridcolor": "rgb(232,232,232)",
            "gridwidth": 2,
            "linecolor": "rgb(36,36,36)",
            "showbackground": true,
            "showgrid": false,
            "showline": true,
            "ticks": "outside",
            "zeroline": false,
            "zerolinecolor": "rgb(36,36,36)"
           }
          },
          "shapedefaults": {
           "fillcolor": "black",
           "line": {
            "width": 0
           },
           "opacity": 0.3
          },
          "ternary": {
           "aaxis": {
            "gridcolor": "rgb(232,232,232)",
            "linecolor": "rgb(36,36,36)",
            "showgrid": false,
            "showline": true,
            "ticks": "outside"
           },
           "baxis": {
            "gridcolor": "rgb(232,232,232)",
            "linecolor": "rgb(36,36,36)",
            "showgrid": false,
            "showline": true,
            "ticks": "outside"
           },
           "bgcolor": "white",
           "caxis": {
            "gridcolor": "rgb(232,232,232)",
            "linecolor": "rgb(36,36,36)",
            "showgrid": false,
            "showline": true,
            "ticks": "outside"
           }
          },
          "title": {
           "x": 0.05
          },
          "xaxis": {
           "automargin": true,
           "gridcolor": "rgb(232,232,232)",
           "linecolor": "rgb(36,36,36)",
           "showgrid": false,
           "showline": true,
           "ticks": "outside",
           "title": {
            "standoff": 15
           },
           "zeroline": false,
           "zerolinecolor": "rgb(36,36,36)"
          },
          "yaxis": {
           "automargin": true,
           "gridcolor": "rgb(232,232,232)",
           "linecolor": "rgb(36,36,36)",
           "showgrid": false,
           "showline": true,
           "ticks": "outside",
           "title": {
            "standoff": 15
           },
           "zeroline": false,
           "zerolinecolor": "rgb(36,36,36)"
          }
         }
        },
        "title": {
         "x": 0.5,
         "xanchor": "center",
         "y": 0.9,
         "yanchor": "top"
        },
        "width": 600,
        "xaxis": {
         "anchor": "y",
         "domain": [
          0,
          1
         ],
         "linewidth": 1.5,
         "title": {
          "text": "Day"
         }
        },
        "yaxis": {
         "anchor": "x",
         "domain": [
          0,
          1
         ],
         "linewidth": 1.5,
         "title": {
          "text": "Correct Rejection Rate"
         }
        }
       }
      },
      "text/html": [
       "<div>                            <div id=\"6d065522-9386-4328-8c69-42aa7947d634\" class=\"plotly-graph-div\" style=\"height:500px; width:600px;\"></div>            <script type=\"text/javascript\">                require([\"plotly\"], function(Plotly) {                    window.PLOTLYENV=window.PLOTLYENV || {};                                    if (document.getElementById(\"6d065522-9386-4328-8c69-42aa7947d634\")) {                    Plotly.newPlot(                        \"6d065522-9386-4328-8c69-42aa7947d634\",                        [{\"error_y\":{\"array\":[0.0428354866437863,0.03552739124763027,0.02382274687826444,0.019176582057768225,0.01832635950458416,0.0258265793487245,0.021001450709406757,0.025793528359960047,0.02398900785087399,0.022661312747984174,0.014217965312744595,0.020353192820375263,0.02427348584108164,0.027301706237526594],\"type\":\"data\"},\"line\":{\"color\":\"darkgrey\"},\"mode\":\"lines+markers\",\"name\":\"thresh3_twoport\",\"showlegend\":true,\"x\":[1,2,3,4,5,6,7,8,9,10,11,12,13,14],\"y\":[0.32954545454545453,0.40222222222222226,0.8067375886524822,0.861904761904762,0.8624031007751939,0.8404255319148937,0.6413333333333334,0.7257575757575757,0.7666666666666667,0.8360215053763441,0.9066666666666666,0.8391608391608392,0.6890756302521008,0.7989690721649485],\"type\":\"scatter\"},{\"error_y\":{\"array\":[0.053934700592261554,0.0627877555570418,0.04289077440215948,0.046052569493450116,0.017273169079398375,0.014689807108038353,0.030506786086552353,0.04020400808938779,0.02404533589239664,0.023147693859938055,0.01620769227315178,0.011283532833803874,0.02520211629531424,0.01977431008065526],\"type\":\"data\"},\"line\":{\"color\":\"midnightblue\"},\"mode\":\"lines+markers\",\"name\":\"thresh5_twoport\",\"showlegend\":true,\"x\":[1,2,3,4,5,6,7,8,9,10,11,12,13,14],\"y\":[0.4022988505747126,0.5804597701149425,0.7715053763440861,0.7816091954022989,0.9201388888888888,0.9030612244897959,0.6711111111111111,0.6820987654320988,0.8466666666666667,0.8627450980392156,0.8745704467353952,0.9469696969696969,0.7484276729559748,0.8496732026143792],\"type\":\"scatter\"}],                        {\"template\":{\"data\":{\"barpolar\":[{\"marker\":{\"line\":{\"color\":\"white\",\"width\":0.5},\"pattern\":{\"fillmode\":\"overlay\",\"size\":10,\"solidity\":0.2}},\"type\":\"barpolar\"}],\"bar\":[{\"error_x\":{\"color\":\"rgb(36,36,36)\"},\"error_y\":{\"color\":\"rgb(36,36,36)\"},\"marker\":{\"line\":{\"color\":\"white\",\"width\":0.5},\"pattern\":{\"fillmode\":\"overlay\",\"size\":10,\"solidity\":0.2}},\"type\":\"bar\"}],\"carpet\":[{\"aaxis\":{\"endlinecolor\":\"rgb(36,36,36)\",\"gridcolor\":\"white\",\"linecolor\":\"white\",\"minorgridcolor\":\"white\",\"startlinecolor\":\"rgb(36,36,36)\"},\"baxis\":{\"endlinecolor\":\"rgb(36,36,36)\",\"gridcolor\":\"white\",\"linecolor\":\"white\",\"minorgridcolor\":\"white\",\"startlinecolor\":\"rgb(36,36,36)\"},\"type\":\"carpet\"}],\"choropleth\":[{\"colorbar\":{\"outlinewidth\":1,\"tickcolor\":\"rgb(36,36,36)\",\"ticks\":\"outside\"},\"type\":\"choropleth\"}],\"contourcarpet\":[{\"colorbar\":{\"outlinewidth\":1,\"tickcolor\":\"rgb(36,36,36)\",\"ticks\":\"outside\"},\"type\":\"contourcarpet\"}],\"contour\":[{\"colorbar\":{\"outlinewidth\":1,\"tickcolor\":\"rgb(36,36,36)\",\"ticks\":\"outside\"},\"colorscale\":[[0.0,\"#440154\"],[0.1111111111111111,\"#482878\"],[0.2222222222222222,\"#3e4989\"],[0.3333333333333333,\"#31688e\"],[0.4444444444444444,\"#26828e\"],[0.5555555555555556,\"#1f9e89\"],[0.6666666666666666,\"#35b779\"],[0.7777777777777778,\"#6ece58\"],[0.8888888888888888,\"#b5de2b\"],[1.0,\"#fde725\"]],\"type\":\"contour\"}],\"heatmapgl\":[{\"colorbar\":{\"outlinewidth\":1,\"tickcolor\":\"rgb(36,36,36)\",\"ticks\":\"outside\"},\"colorscale\":[[0.0,\"#440154\"],[0.1111111111111111,\"#482878\"],[0.2222222222222222,\"#3e4989\"],[0.3333333333333333,\"#31688e\"],[0.4444444444444444,\"#26828e\"],[0.5555555555555556,\"#1f9e89\"],[0.6666666666666666,\"#35b779\"],[0.7777777777777778,\"#6ece58\"],[0.8888888888888888,\"#b5de2b\"],[1.0,\"#fde725\"]],\"type\":\"heatmapgl\"}],\"heatmap\":[{\"colorbar\":{\"outlinewidth\":1,\"tickcolor\":\"rgb(36,36,36)\",\"ticks\":\"outside\"},\"colorscale\":[[0.0,\"#440154\"],[0.1111111111111111,\"#482878\"],[0.2222222222222222,\"#3e4989\"],[0.3333333333333333,\"#31688e\"],[0.4444444444444444,\"#26828e\"],[0.5555555555555556,\"#1f9e89\"],[0.6666666666666666,\"#35b779\"],[0.7777777777777778,\"#6ece58\"],[0.8888888888888888,\"#b5de2b\"],[1.0,\"#fde725\"]],\"type\":\"heatmap\"}],\"histogram2dcontour\":[{\"colorbar\":{\"outlinewidth\":1,\"tickcolor\":\"rgb(36,36,36)\",\"ticks\":\"outside\"},\"colorscale\":[[0.0,\"#440154\"],[0.1111111111111111,\"#482878\"],[0.2222222222222222,\"#3e4989\"],[0.3333333333333333,\"#31688e\"],[0.4444444444444444,\"#26828e\"],[0.5555555555555556,\"#1f9e89\"],[0.6666666666666666,\"#35b779\"],[0.7777777777777778,\"#6ece58\"],[0.8888888888888888,\"#b5de2b\"],[1.0,\"#fde725\"]],\"type\":\"histogram2dcontour\"}],\"histogram2d\":[{\"colorbar\":{\"outlinewidth\":1,\"tickcolor\":\"rgb(36,36,36)\",\"ticks\":\"outside\"},\"colorscale\":[[0.0,\"#440154\"],[0.1111111111111111,\"#482878\"],[0.2222222222222222,\"#3e4989\"],[0.3333333333333333,\"#31688e\"],[0.4444444444444444,\"#26828e\"],[0.5555555555555556,\"#1f9e89\"],[0.6666666666666666,\"#35b779\"],[0.7777777777777778,\"#6ece58\"],[0.8888888888888888,\"#b5de2b\"],[1.0,\"#fde725\"]],\"type\":\"histogram2d\"}],\"histogram\":[{\"marker\":{\"line\":{\"color\":\"white\",\"width\":0.6}},\"type\":\"histogram\"}],\"mesh3d\":[{\"colorbar\":{\"outlinewidth\":1,\"tickcolor\":\"rgb(36,36,36)\",\"ticks\":\"outside\"},\"type\":\"mesh3d\"}],\"parcoords\":[{\"line\":{\"colorbar\":{\"outlinewidth\":1,\"tickcolor\":\"rgb(36,36,36)\",\"ticks\":\"outside\"}},\"type\":\"parcoords\"}],\"pie\":[{\"automargin\":true,\"type\":\"pie\"}],\"scatter3d\":[{\"line\":{\"colorbar\":{\"outlinewidth\":1,\"tickcolor\":\"rgb(36,36,36)\",\"ticks\":\"outside\"}},\"marker\":{\"colorbar\":{\"outlinewidth\":1,\"tickcolor\":\"rgb(36,36,36)\",\"ticks\":\"outside\"}},\"type\":\"scatter3d\"}],\"scattercarpet\":[{\"marker\":{\"colorbar\":{\"outlinewidth\":1,\"tickcolor\":\"rgb(36,36,36)\",\"ticks\":\"outside\"}},\"type\":\"scattercarpet\"}],\"scattergeo\":[{\"marker\":{\"colorbar\":{\"outlinewidth\":1,\"tickcolor\":\"rgb(36,36,36)\",\"ticks\":\"outside\"}},\"type\":\"scattergeo\"}],\"scattergl\":[{\"marker\":{\"colorbar\":{\"outlinewidth\":1,\"tickcolor\":\"rgb(36,36,36)\",\"ticks\":\"outside\"}},\"type\":\"scattergl\"}],\"scattermapbox\":[{\"marker\":{\"colorbar\":{\"outlinewidth\":1,\"tickcolor\":\"rgb(36,36,36)\",\"ticks\":\"outside\"}},\"type\":\"scattermapbox\"}],\"scatterpolargl\":[{\"marker\":{\"colorbar\":{\"outlinewidth\":1,\"tickcolor\":\"rgb(36,36,36)\",\"ticks\":\"outside\"}},\"type\":\"scatterpolargl\"}],\"scatterpolar\":[{\"marker\":{\"colorbar\":{\"outlinewidth\":1,\"tickcolor\":\"rgb(36,36,36)\",\"ticks\":\"outside\"}},\"type\":\"scatterpolar\"}],\"scatter\":[{\"fillpattern\":{\"fillmode\":\"overlay\",\"size\":10,\"solidity\":0.2},\"type\":\"scatter\"}],\"scatterternary\":[{\"marker\":{\"colorbar\":{\"outlinewidth\":1,\"tickcolor\":\"rgb(36,36,36)\",\"ticks\":\"outside\"}},\"type\":\"scatterternary\"}],\"surface\":[{\"colorbar\":{\"outlinewidth\":1,\"tickcolor\":\"rgb(36,36,36)\",\"ticks\":\"outside\"},\"colorscale\":[[0.0,\"#440154\"],[0.1111111111111111,\"#482878\"],[0.2222222222222222,\"#3e4989\"],[0.3333333333333333,\"#31688e\"],[0.4444444444444444,\"#26828e\"],[0.5555555555555556,\"#1f9e89\"],[0.6666666666666666,\"#35b779\"],[0.7777777777777778,\"#6ece58\"],[0.8888888888888888,\"#b5de2b\"],[1.0,\"#fde725\"]],\"type\":\"surface\"}],\"table\":[{\"cells\":{\"fill\":{\"color\":\"rgb(237,237,237)\"},\"line\":{\"color\":\"white\"}},\"header\":{\"fill\":{\"color\":\"rgb(217,217,217)\"},\"line\":{\"color\":\"white\"}},\"type\":\"table\"}]},\"layout\":{\"annotationdefaults\":{\"arrowhead\":0,\"arrowwidth\":1},\"autotypenumbers\":\"strict\",\"coloraxis\":{\"colorbar\":{\"outlinewidth\":1,\"tickcolor\":\"rgb(36,36,36)\",\"ticks\":\"outside\"}},\"colorscale\":{\"diverging\":[[0.0,\"rgb(103,0,31)\"],[0.1,\"rgb(178,24,43)\"],[0.2,\"rgb(214,96,77)\"],[0.3,\"rgb(244,165,130)\"],[0.4,\"rgb(253,219,199)\"],[0.5,\"rgb(247,247,247)\"],[0.6,\"rgb(209,229,240)\"],[0.7,\"rgb(146,197,222)\"],[0.8,\"rgb(67,147,195)\"],[0.9,\"rgb(33,102,172)\"],[1.0,\"rgb(5,48,97)\"]],\"sequential\":[[0.0,\"#440154\"],[0.1111111111111111,\"#482878\"],[0.2222222222222222,\"#3e4989\"],[0.3333333333333333,\"#31688e\"],[0.4444444444444444,\"#26828e\"],[0.5555555555555556,\"#1f9e89\"],[0.6666666666666666,\"#35b779\"],[0.7777777777777778,\"#6ece58\"],[0.8888888888888888,\"#b5de2b\"],[1.0,\"#fde725\"]],\"sequentialminus\":[[0.0,\"#440154\"],[0.1111111111111111,\"#482878\"],[0.2222222222222222,\"#3e4989\"],[0.3333333333333333,\"#31688e\"],[0.4444444444444444,\"#26828e\"],[0.5555555555555556,\"#1f9e89\"],[0.6666666666666666,\"#35b779\"],[0.7777777777777778,\"#6ece58\"],[0.8888888888888888,\"#b5de2b\"],[1.0,\"#fde725\"]]},\"colorway\":[\"#1F77B4\",\"#FF7F0E\",\"#2CA02C\",\"#D62728\",\"#9467BD\",\"#8C564B\",\"#E377C2\",\"#7F7F7F\",\"#BCBD22\",\"#17BECF\"],\"font\":{\"color\":\"rgb(36,36,36)\"},\"geo\":{\"bgcolor\":\"white\",\"lakecolor\":\"white\",\"landcolor\":\"white\",\"showlakes\":true,\"showland\":true,\"subunitcolor\":\"white\"},\"hoverlabel\":{\"align\":\"left\"},\"hovermode\":\"closest\",\"mapbox\":{\"style\":\"light\"},\"paper_bgcolor\":\"white\",\"plot_bgcolor\":\"white\",\"polar\":{\"angularaxis\":{\"gridcolor\":\"rgb(232,232,232)\",\"linecolor\":\"rgb(36,36,36)\",\"showgrid\":false,\"showline\":true,\"ticks\":\"outside\"},\"bgcolor\":\"white\",\"radialaxis\":{\"gridcolor\":\"rgb(232,232,232)\",\"linecolor\":\"rgb(36,36,36)\",\"showgrid\":false,\"showline\":true,\"ticks\":\"outside\"}},\"scene\":{\"xaxis\":{\"backgroundcolor\":\"white\",\"gridcolor\":\"rgb(232,232,232)\",\"gridwidth\":2,\"linecolor\":\"rgb(36,36,36)\",\"showbackground\":true,\"showgrid\":false,\"showline\":true,\"ticks\":\"outside\",\"zeroline\":false,\"zerolinecolor\":\"rgb(36,36,36)\"},\"yaxis\":{\"backgroundcolor\":\"white\",\"gridcolor\":\"rgb(232,232,232)\",\"gridwidth\":2,\"linecolor\":\"rgb(36,36,36)\",\"showbackground\":true,\"showgrid\":false,\"showline\":true,\"ticks\":\"outside\",\"zeroline\":false,\"zerolinecolor\":\"rgb(36,36,36)\"},\"zaxis\":{\"backgroundcolor\":\"white\",\"gridcolor\":\"rgb(232,232,232)\",\"gridwidth\":2,\"linecolor\":\"rgb(36,36,36)\",\"showbackground\":true,\"showgrid\":false,\"showline\":true,\"ticks\":\"outside\",\"zeroline\":false,\"zerolinecolor\":\"rgb(36,36,36)\"}},\"shapedefaults\":{\"fillcolor\":\"black\",\"line\":{\"width\":0},\"opacity\":0.3},\"ternary\":{\"aaxis\":{\"gridcolor\":\"rgb(232,232,232)\",\"linecolor\":\"rgb(36,36,36)\",\"showgrid\":false,\"showline\":true,\"ticks\":\"outside\"},\"baxis\":{\"gridcolor\":\"rgb(232,232,232)\",\"linecolor\":\"rgb(36,36,36)\",\"showgrid\":false,\"showline\":true,\"ticks\":\"outside\"},\"bgcolor\":\"white\",\"caxis\":{\"gridcolor\":\"rgb(232,232,232)\",\"linecolor\":\"rgb(36,36,36)\",\"showgrid\":false,\"showline\":true,\"ticks\":\"outside\"}},\"title\":{\"x\":0.05},\"xaxis\":{\"automargin\":true,\"gridcolor\":\"rgb(232,232,232)\",\"linecolor\":\"rgb(36,36,36)\",\"showgrid\":false,\"showline\":true,\"ticks\":\"outside\",\"title\":{\"standoff\":15},\"zeroline\":false,\"zerolinecolor\":\"rgb(36,36,36)\"},\"yaxis\":{\"automargin\":true,\"gridcolor\":\"rgb(232,232,232)\",\"linecolor\":\"rgb(36,36,36)\",\"showgrid\":false,\"showline\":true,\"ticks\":\"outside\",\"title\":{\"standoff\":15},\"zeroline\":false,\"zerolinecolor\":\"rgb(36,36,36)\"}}},\"xaxis\":{\"anchor\":\"y\",\"domain\":[0.0,1.0],\"title\":{\"text\":\"Day\"},\"linewidth\":1.5},\"yaxis\":{\"anchor\":\"x\",\"domain\":[0.0,1.0],\"title\":{\"text\":\"Correct Rejection Rate\"},\"linewidth\":1.5},\"title\":{\"y\":0.9,\"x\":0.5,\"xanchor\":\"center\",\"yanchor\":\"top\"},\"font\":{\"size\":22,\"family\":\"Arial\"},\"height\":500,\"width\":600,\"shapes\":[{\"line\":{\"color\":\"darkgrey\",\"dash\":\"dash\",\"width\":1},\"opacity\":1,\"type\":\"line\",\"x0\":6.5,\"x1\":6.5,\"xref\":\"x\",\"y0\":0,\"y1\":1,\"yref\":\"y domain\"},{\"line\":{\"color\":\"darkgrey\",\"dash\":\"dash\",\"width\":1},\"opacity\":1,\"type\":\"line\",\"x0\":12.5,\"x1\":12.5,\"xref\":\"x\",\"y0\":0,\"y1\":1,\"yref\":\"y domain\"},{\"line\":{\"color\":\"darkgrey\",\"dash\":\"dash\",\"width\":1},\"opacity\":1,\"type\":\"line\",\"x0\":0,\"x1\":1,\"xref\":\"x domain\",\"y0\":1,\"y1\":1,\"yref\":\"y\"}]},                        {\"responsive\": true}                    ).then(function(){\n",
       "                            \n",
       "var gd = document.getElementById('6d065522-9386-4328-8c69-42aa7947d634');\n",
       "var x = new MutationObserver(function (mutations, observer) {{\n",
       "        var display = window.getComputedStyle(gd).display;\n",
       "        if (!display || display === 'none') {{\n",
       "            console.log([gd, 'removed!']);\n",
       "            Plotly.purge(gd);\n",
       "            observer.disconnect();\n",
       "        }}\n",
       "}});\n",
       "\n",
       "// Listen for the removal of the full notebook cells\n",
       "var notebookContainer = gd.closest('#notebook-container');\n",
       "if (notebookContainer) {{\n",
       "    x.observe(notebookContainer, {childList: true});\n",
       "}}\n",
       "\n",
       "// Listen for the clearing of the current output cell\n",
       "var outputEl = gd.closest('.output');\n",
       "if (outputEl) {{\n",
       "    x.observe(outputEl, {childList: true});\n",
       "}}\n",
       "\n",
       "                        })                };                });            </script>        </div>"
      ]
     },
     "metadata": {},
     "output_type": "display_data"
    }
   ],
   "source": [
    "## Correct rejection rate across contexts\n",
    "fig = pf.plot_behavior_across_days(data=metrics, x_var='day', y_var='CR', groupby_var=['day', 'group'], plot_transitions=[6.5, 12.5],\n",
    "                                   transition_color=[chance_color, chance_color], width=600,\n",
    "                                   x_title='Day', y_title='Correct Rejection Rate', marker_color=two_color_plots, expert_line=False, chance=False, plot_datapoints=False)\n",
    "fig.add_hline(y=1, line_width=1, line_dash='dash', line_color=chance_color, opacity=1)\n",
    "fig.show()\n",
    "fig.write_image(pjoin(fig_path, 'CR_across_days.png'))"
   ]
  },
  {
   "cell_type": "code",
   "execution_count": 11,
   "metadata": {},
   "outputs": [
    {
     "data": {
      "application/vnd.plotly.v1+json": {
       "config": {
        "plotlyServerURL": "https://plot.ly"
       },
       "data": [
        {
         "error_y": {
          "array": [
           0.050075620309441606,
           0.02070818265393728,
           0.009113432892854838,
           0.029899268923588084,
           0.017384767478986093,
           0.0235801981434429,
           0.02282047750482857,
           0.011883440789012802,
           0.01210726005455353,
           0.006927062019252689,
           0.003999999999999999,
           0.013586330818887332,
           0.01622700512021207,
           0.010309278350515464
          ],
          "type": "data"
         },
         "line": {
          "color": "darkgrey"
         },
         "mode": "lines+markers",
         "name": "thresh3_twoport",
         "showlegend": true,
         "type": "scatter",
         "x": [
          1,
          2,
          3,
          4,
          5,
          6,
          7,
          8,
          9,
          10,
          11,
          12,
          13,
          14
         ],
         "y": [
          0.7613636363636364,
          0.96,
          0.9840425531914894,
          0.9214285714285714,
          0.9418604651162791,
          0.9680851063829787,
          0.868,
          0.9772727272727273,
          0.9739130434782609,
          0.9879032258064516,
          0.996,
          0.958041958041958,
          0.9495798319327731,
          0.9896907216494846
         ]
        },
        {
         "error_y": {
          "array": [
           0.06334887265818563,
           0.023943623269979775,
           0.013737257230951807,
           0.012084080069835558,
           0.012645353722226752,
           0.008745416378283712,
           0.042799904577368306,
           0.02530963620052336,
           0.023886619069482612,
           0.015943327497107005,
           0.005154639175257734,
           0.0137836007923437,
           0.032173756717273114,
           0.013622488408401632
          ],
          "type": "data"
         },
         "line": {
          "color": "midnightblue"
         },
         "mode": "lines+markers",
         "name": "thresh5_twoport",
         "showlegend": true,
         "type": "scatter",
         "x": [
          1,
          2,
          3,
          4,
          5,
          6,
          7,
          8,
          9,
          10,
          11,
          12,
          13,
          14
         ],
         "y": [
          0.7068965517241379,
          0.9655172413793104,
          0.9758064516129032,
          0.9827586206896551,
          0.9791666666666666,
          0.9846938775510204,
          0.7333333333333333,
          0.9444444444444444,
          0.9333333333333333,
          0.9632352941176471,
          0.9948453608247423,
          0.9772727272727273,
          0.8254716981132075,
          0.9705882352941176
         ]
        }
       ],
       "layout": {
        "font": {
         "family": "Arial",
         "size": 22
        },
        "height": 500,
        "shapes": [
         {
          "line": {
           "color": "darkgrey",
           "dash": "dash",
           "width": 1
          },
          "opacity": 1,
          "type": "line",
          "x0": 6.5,
          "x1": 6.5,
          "xref": "x",
          "y0": 0,
          "y1": 1,
          "yref": "y domain"
         },
         {
          "line": {
           "color": "darkgrey",
           "dash": "dash",
           "width": 1
          },
          "opacity": 1,
          "type": "line",
          "x0": 12.5,
          "x1": 12.5,
          "xref": "x",
          "y0": 0,
          "y1": 1,
          "yref": "y domain"
         },
         {
          "line": {
           "color": "darkgrey",
           "dash": "dash",
           "width": 1
          },
          "opacity": 1,
          "type": "line",
          "x0": 0,
          "x1": 1,
          "xref": "x domain",
          "y0": 1,
          "y1": 1,
          "yref": "y"
         }
        ],
        "template": {
         "data": {
          "bar": [
           {
            "error_x": {
             "color": "rgb(36,36,36)"
            },
            "error_y": {
             "color": "rgb(36,36,36)"
            },
            "marker": {
             "line": {
              "color": "white",
              "width": 0.5
             },
             "pattern": {
              "fillmode": "overlay",
              "size": 10,
              "solidity": 0.2
             }
            },
            "type": "bar"
           }
          ],
          "barpolar": [
           {
            "marker": {
             "line": {
              "color": "white",
              "width": 0.5
             },
             "pattern": {
              "fillmode": "overlay",
              "size": 10,
              "solidity": 0.2
             }
            },
            "type": "barpolar"
           }
          ],
          "carpet": [
           {
            "aaxis": {
             "endlinecolor": "rgb(36,36,36)",
             "gridcolor": "white",
             "linecolor": "white",
             "minorgridcolor": "white",
             "startlinecolor": "rgb(36,36,36)"
            },
            "baxis": {
             "endlinecolor": "rgb(36,36,36)",
             "gridcolor": "white",
             "linecolor": "white",
             "minorgridcolor": "white",
             "startlinecolor": "rgb(36,36,36)"
            },
            "type": "carpet"
           }
          ],
          "choropleth": [
           {
            "colorbar": {
             "outlinewidth": 1,
             "tickcolor": "rgb(36,36,36)",
             "ticks": "outside"
            },
            "type": "choropleth"
           }
          ],
          "contour": [
           {
            "colorbar": {
             "outlinewidth": 1,
             "tickcolor": "rgb(36,36,36)",
             "ticks": "outside"
            },
            "colorscale": [
             [
              0,
              "#440154"
             ],
             [
              0.1111111111111111,
              "#482878"
             ],
             [
              0.2222222222222222,
              "#3e4989"
             ],
             [
              0.3333333333333333,
              "#31688e"
             ],
             [
              0.4444444444444444,
              "#26828e"
             ],
             [
              0.5555555555555556,
              "#1f9e89"
             ],
             [
              0.6666666666666666,
              "#35b779"
             ],
             [
              0.7777777777777778,
              "#6ece58"
             ],
             [
              0.8888888888888888,
              "#b5de2b"
             ],
             [
              1,
              "#fde725"
             ]
            ],
            "type": "contour"
           }
          ],
          "contourcarpet": [
           {
            "colorbar": {
             "outlinewidth": 1,
             "tickcolor": "rgb(36,36,36)",
             "ticks": "outside"
            },
            "type": "contourcarpet"
           }
          ],
          "heatmap": [
           {
            "colorbar": {
             "outlinewidth": 1,
             "tickcolor": "rgb(36,36,36)",
             "ticks": "outside"
            },
            "colorscale": [
             [
              0,
              "#440154"
             ],
             [
              0.1111111111111111,
              "#482878"
             ],
             [
              0.2222222222222222,
              "#3e4989"
             ],
             [
              0.3333333333333333,
              "#31688e"
             ],
             [
              0.4444444444444444,
              "#26828e"
             ],
             [
              0.5555555555555556,
              "#1f9e89"
             ],
             [
              0.6666666666666666,
              "#35b779"
             ],
             [
              0.7777777777777778,
              "#6ece58"
             ],
             [
              0.8888888888888888,
              "#b5de2b"
             ],
             [
              1,
              "#fde725"
             ]
            ],
            "type": "heatmap"
           }
          ],
          "heatmapgl": [
           {
            "colorbar": {
             "outlinewidth": 1,
             "tickcolor": "rgb(36,36,36)",
             "ticks": "outside"
            },
            "colorscale": [
             [
              0,
              "#440154"
             ],
             [
              0.1111111111111111,
              "#482878"
             ],
             [
              0.2222222222222222,
              "#3e4989"
             ],
             [
              0.3333333333333333,
              "#31688e"
             ],
             [
              0.4444444444444444,
              "#26828e"
             ],
             [
              0.5555555555555556,
              "#1f9e89"
             ],
             [
              0.6666666666666666,
              "#35b779"
             ],
             [
              0.7777777777777778,
              "#6ece58"
             ],
             [
              0.8888888888888888,
              "#b5de2b"
             ],
             [
              1,
              "#fde725"
             ]
            ],
            "type": "heatmapgl"
           }
          ],
          "histogram": [
           {
            "marker": {
             "line": {
              "color": "white",
              "width": 0.6
             }
            },
            "type": "histogram"
           }
          ],
          "histogram2d": [
           {
            "colorbar": {
             "outlinewidth": 1,
             "tickcolor": "rgb(36,36,36)",
             "ticks": "outside"
            },
            "colorscale": [
             [
              0,
              "#440154"
             ],
             [
              0.1111111111111111,
              "#482878"
             ],
             [
              0.2222222222222222,
              "#3e4989"
             ],
             [
              0.3333333333333333,
              "#31688e"
             ],
             [
              0.4444444444444444,
              "#26828e"
             ],
             [
              0.5555555555555556,
              "#1f9e89"
             ],
             [
              0.6666666666666666,
              "#35b779"
             ],
             [
              0.7777777777777778,
              "#6ece58"
             ],
             [
              0.8888888888888888,
              "#b5de2b"
             ],
             [
              1,
              "#fde725"
             ]
            ],
            "type": "histogram2d"
           }
          ],
          "histogram2dcontour": [
           {
            "colorbar": {
             "outlinewidth": 1,
             "tickcolor": "rgb(36,36,36)",
             "ticks": "outside"
            },
            "colorscale": [
             [
              0,
              "#440154"
             ],
             [
              0.1111111111111111,
              "#482878"
             ],
             [
              0.2222222222222222,
              "#3e4989"
             ],
             [
              0.3333333333333333,
              "#31688e"
             ],
             [
              0.4444444444444444,
              "#26828e"
             ],
             [
              0.5555555555555556,
              "#1f9e89"
             ],
             [
              0.6666666666666666,
              "#35b779"
             ],
             [
              0.7777777777777778,
              "#6ece58"
             ],
             [
              0.8888888888888888,
              "#b5de2b"
             ],
             [
              1,
              "#fde725"
             ]
            ],
            "type": "histogram2dcontour"
           }
          ],
          "mesh3d": [
           {
            "colorbar": {
             "outlinewidth": 1,
             "tickcolor": "rgb(36,36,36)",
             "ticks": "outside"
            },
            "type": "mesh3d"
           }
          ],
          "parcoords": [
           {
            "line": {
             "colorbar": {
              "outlinewidth": 1,
              "tickcolor": "rgb(36,36,36)",
              "ticks": "outside"
             }
            },
            "type": "parcoords"
           }
          ],
          "pie": [
           {
            "automargin": true,
            "type": "pie"
           }
          ],
          "scatter": [
           {
            "fillpattern": {
             "fillmode": "overlay",
             "size": 10,
             "solidity": 0.2
            },
            "type": "scatter"
           }
          ],
          "scatter3d": [
           {
            "line": {
             "colorbar": {
              "outlinewidth": 1,
              "tickcolor": "rgb(36,36,36)",
              "ticks": "outside"
             }
            },
            "marker": {
             "colorbar": {
              "outlinewidth": 1,
              "tickcolor": "rgb(36,36,36)",
              "ticks": "outside"
             }
            },
            "type": "scatter3d"
           }
          ],
          "scattercarpet": [
           {
            "marker": {
             "colorbar": {
              "outlinewidth": 1,
              "tickcolor": "rgb(36,36,36)",
              "ticks": "outside"
             }
            },
            "type": "scattercarpet"
           }
          ],
          "scattergeo": [
           {
            "marker": {
             "colorbar": {
              "outlinewidth": 1,
              "tickcolor": "rgb(36,36,36)",
              "ticks": "outside"
             }
            },
            "type": "scattergeo"
           }
          ],
          "scattergl": [
           {
            "marker": {
             "colorbar": {
              "outlinewidth": 1,
              "tickcolor": "rgb(36,36,36)",
              "ticks": "outside"
             }
            },
            "type": "scattergl"
           }
          ],
          "scattermapbox": [
           {
            "marker": {
             "colorbar": {
              "outlinewidth": 1,
              "tickcolor": "rgb(36,36,36)",
              "ticks": "outside"
             }
            },
            "type": "scattermapbox"
           }
          ],
          "scatterpolar": [
           {
            "marker": {
             "colorbar": {
              "outlinewidth": 1,
              "tickcolor": "rgb(36,36,36)",
              "ticks": "outside"
             }
            },
            "type": "scatterpolar"
           }
          ],
          "scatterpolargl": [
           {
            "marker": {
             "colorbar": {
              "outlinewidth": 1,
              "tickcolor": "rgb(36,36,36)",
              "ticks": "outside"
             }
            },
            "type": "scatterpolargl"
           }
          ],
          "scatterternary": [
           {
            "marker": {
             "colorbar": {
              "outlinewidth": 1,
              "tickcolor": "rgb(36,36,36)",
              "ticks": "outside"
             }
            },
            "type": "scatterternary"
           }
          ],
          "surface": [
           {
            "colorbar": {
             "outlinewidth": 1,
             "tickcolor": "rgb(36,36,36)",
             "ticks": "outside"
            },
            "colorscale": [
             [
              0,
              "#440154"
             ],
             [
              0.1111111111111111,
              "#482878"
             ],
             [
              0.2222222222222222,
              "#3e4989"
             ],
             [
              0.3333333333333333,
              "#31688e"
             ],
             [
              0.4444444444444444,
              "#26828e"
             ],
             [
              0.5555555555555556,
              "#1f9e89"
             ],
             [
              0.6666666666666666,
              "#35b779"
             ],
             [
              0.7777777777777778,
              "#6ece58"
             ],
             [
              0.8888888888888888,
              "#b5de2b"
             ],
             [
              1,
              "#fde725"
             ]
            ],
            "type": "surface"
           }
          ],
          "table": [
           {
            "cells": {
             "fill": {
              "color": "rgb(237,237,237)"
             },
             "line": {
              "color": "white"
             }
            },
            "header": {
             "fill": {
              "color": "rgb(217,217,217)"
             },
             "line": {
              "color": "white"
             }
            },
            "type": "table"
           }
          ]
         },
         "layout": {
          "annotationdefaults": {
           "arrowhead": 0,
           "arrowwidth": 1
          },
          "autotypenumbers": "strict",
          "coloraxis": {
           "colorbar": {
            "outlinewidth": 1,
            "tickcolor": "rgb(36,36,36)",
            "ticks": "outside"
           }
          },
          "colorscale": {
           "diverging": [
            [
             0,
             "rgb(103,0,31)"
            ],
            [
             0.1,
             "rgb(178,24,43)"
            ],
            [
             0.2,
             "rgb(214,96,77)"
            ],
            [
             0.3,
             "rgb(244,165,130)"
            ],
            [
             0.4,
             "rgb(253,219,199)"
            ],
            [
             0.5,
             "rgb(247,247,247)"
            ],
            [
             0.6,
             "rgb(209,229,240)"
            ],
            [
             0.7,
             "rgb(146,197,222)"
            ],
            [
             0.8,
             "rgb(67,147,195)"
            ],
            [
             0.9,
             "rgb(33,102,172)"
            ],
            [
             1,
             "rgb(5,48,97)"
            ]
           ],
           "sequential": [
            [
             0,
             "#440154"
            ],
            [
             0.1111111111111111,
             "#482878"
            ],
            [
             0.2222222222222222,
             "#3e4989"
            ],
            [
             0.3333333333333333,
             "#31688e"
            ],
            [
             0.4444444444444444,
             "#26828e"
            ],
            [
             0.5555555555555556,
             "#1f9e89"
            ],
            [
             0.6666666666666666,
             "#35b779"
            ],
            [
             0.7777777777777778,
             "#6ece58"
            ],
            [
             0.8888888888888888,
             "#b5de2b"
            ],
            [
             1,
             "#fde725"
            ]
           ],
           "sequentialminus": [
            [
             0,
             "#440154"
            ],
            [
             0.1111111111111111,
             "#482878"
            ],
            [
             0.2222222222222222,
             "#3e4989"
            ],
            [
             0.3333333333333333,
             "#31688e"
            ],
            [
             0.4444444444444444,
             "#26828e"
            ],
            [
             0.5555555555555556,
             "#1f9e89"
            ],
            [
             0.6666666666666666,
             "#35b779"
            ],
            [
             0.7777777777777778,
             "#6ece58"
            ],
            [
             0.8888888888888888,
             "#b5de2b"
            ],
            [
             1,
             "#fde725"
            ]
           ]
          },
          "colorway": [
           "#1F77B4",
           "#FF7F0E",
           "#2CA02C",
           "#D62728",
           "#9467BD",
           "#8C564B",
           "#E377C2",
           "#7F7F7F",
           "#BCBD22",
           "#17BECF"
          ],
          "font": {
           "color": "rgb(36,36,36)"
          },
          "geo": {
           "bgcolor": "white",
           "lakecolor": "white",
           "landcolor": "white",
           "showlakes": true,
           "showland": true,
           "subunitcolor": "white"
          },
          "hoverlabel": {
           "align": "left"
          },
          "hovermode": "closest",
          "mapbox": {
           "style": "light"
          },
          "paper_bgcolor": "white",
          "plot_bgcolor": "white",
          "polar": {
           "angularaxis": {
            "gridcolor": "rgb(232,232,232)",
            "linecolor": "rgb(36,36,36)",
            "showgrid": false,
            "showline": true,
            "ticks": "outside"
           },
           "bgcolor": "white",
           "radialaxis": {
            "gridcolor": "rgb(232,232,232)",
            "linecolor": "rgb(36,36,36)",
            "showgrid": false,
            "showline": true,
            "ticks": "outside"
           }
          },
          "scene": {
           "xaxis": {
            "backgroundcolor": "white",
            "gridcolor": "rgb(232,232,232)",
            "gridwidth": 2,
            "linecolor": "rgb(36,36,36)",
            "showbackground": true,
            "showgrid": false,
            "showline": true,
            "ticks": "outside",
            "zeroline": false,
            "zerolinecolor": "rgb(36,36,36)"
           },
           "yaxis": {
            "backgroundcolor": "white",
            "gridcolor": "rgb(232,232,232)",
            "gridwidth": 2,
            "linecolor": "rgb(36,36,36)",
            "showbackground": true,
            "showgrid": false,
            "showline": true,
            "ticks": "outside",
            "zeroline": false,
            "zerolinecolor": "rgb(36,36,36)"
           },
           "zaxis": {
            "backgroundcolor": "white",
            "gridcolor": "rgb(232,232,232)",
            "gridwidth": 2,
            "linecolor": "rgb(36,36,36)",
            "showbackground": true,
            "showgrid": false,
            "showline": true,
            "ticks": "outside",
            "zeroline": false,
            "zerolinecolor": "rgb(36,36,36)"
           }
          },
          "shapedefaults": {
           "fillcolor": "black",
           "line": {
            "width": 0
           },
           "opacity": 0.3
          },
          "ternary": {
           "aaxis": {
            "gridcolor": "rgb(232,232,232)",
            "linecolor": "rgb(36,36,36)",
            "showgrid": false,
            "showline": true,
            "ticks": "outside"
           },
           "baxis": {
            "gridcolor": "rgb(232,232,232)",
            "linecolor": "rgb(36,36,36)",
            "showgrid": false,
            "showline": true,
            "ticks": "outside"
           },
           "bgcolor": "white",
           "caxis": {
            "gridcolor": "rgb(232,232,232)",
            "linecolor": "rgb(36,36,36)",
            "showgrid": false,
            "showline": true,
            "ticks": "outside"
           }
          },
          "title": {
           "x": 0.05
          },
          "xaxis": {
           "automargin": true,
           "gridcolor": "rgb(232,232,232)",
           "linecolor": "rgb(36,36,36)",
           "showgrid": false,
           "showline": true,
           "ticks": "outside",
           "title": {
            "standoff": 15
           },
           "zeroline": false,
           "zerolinecolor": "rgb(36,36,36)"
          },
          "yaxis": {
           "automargin": true,
           "gridcolor": "rgb(232,232,232)",
           "linecolor": "rgb(36,36,36)",
           "showgrid": false,
           "showline": true,
           "ticks": "outside",
           "title": {
            "standoff": 15
           },
           "zeroline": false,
           "zerolinecolor": "rgb(36,36,36)"
          }
         }
        },
        "title": {
         "x": 0.5,
         "xanchor": "center",
         "y": 0.9,
         "yanchor": "top"
        },
        "width": 600,
        "xaxis": {
         "anchor": "y",
         "domain": [
          0,
          1
         ],
         "linewidth": 1.5,
         "title": {
          "text": "Day"
         }
        },
        "yaxis": {
         "anchor": "x",
         "domain": [
          0,
          1
         ],
         "linewidth": 1.5,
         "title": {
          "text": "Hit Rate"
         }
        }
       }
      },
      "text/html": [
       "<div>                            <div id=\"ce956256-ffb1-4111-948b-1e6cef43e50e\" class=\"plotly-graph-div\" style=\"height:500px; width:600px;\"></div>            <script type=\"text/javascript\">                require([\"plotly\"], function(Plotly) {                    window.PLOTLYENV=window.PLOTLYENV || {};                                    if (document.getElementById(\"ce956256-ffb1-4111-948b-1e6cef43e50e\")) {                    Plotly.newPlot(                        \"ce956256-ffb1-4111-948b-1e6cef43e50e\",                        [{\"error_y\":{\"array\":[0.050075620309441606,0.02070818265393728,0.009113432892854838,0.029899268923588084,0.017384767478986093,0.0235801981434429,0.02282047750482857,0.011883440789012802,0.01210726005455353,0.006927062019252689,0.003999999999999999,0.013586330818887332,0.01622700512021207,0.010309278350515464],\"type\":\"data\"},\"line\":{\"color\":\"darkgrey\"},\"mode\":\"lines+markers\",\"name\":\"thresh3_twoport\",\"showlegend\":true,\"x\":[1,2,3,4,5,6,7,8,9,10,11,12,13,14],\"y\":[0.7613636363636364,0.96,0.9840425531914894,0.9214285714285714,0.9418604651162791,0.9680851063829787,0.868,0.9772727272727273,0.9739130434782609,0.9879032258064516,0.996,0.958041958041958,0.9495798319327731,0.9896907216494846],\"type\":\"scatter\"},{\"error_y\":{\"array\":[0.06334887265818563,0.023943623269979775,0.013737257230951807,0.012084080069835558,0.012645353722226752,0.008745416378283712,0.042799904577368306,0.02530963620052336,0.023886619069482612,0.015943327497107005,0.005154639175257734,0.0137836007923437,0.032173756717273114,0.013622488408401632],\"type\":\"data\"},\"line\":{\"color\":\"midnightblue\"},\"mode\":\"lines+markers\",\"name\":\"thresh5_twoport\",\"showlegend\":true,\"x\":[1,2,3,4,5,6,7,8,9,10,11,12,13,14],\"y\":[0.7068965517241379,0.9655172413793104,0.9758064516129032,0.9827586206896551,0.9791666666666666,0.9846938775510204,0.7333333333333333,0.9444444444444444,0.9333333333333333,0.9632352941176471,0.9948453608247423,0.9772727272727273,0.8254716981132075,0.9705882352941176],\"type\":\"scatter\"}],                        {\"template\":{\"data\":{\"barpolar\":[{\"marker\":{\"line\":{\"color\":\"white\",\"width\":0.5},\"pattern\":{\"fillmode\":\"overlay\",\"size\":10,\"solidity\":0.2}},\"type\":\"barpolar\"}],\"bar\":[{\"error_x\":{\"color\":\"rgb(36,36,36)\"},\"error_y\":{\"color\":\"rgb(36,36,36)\"},\"marker\":{\"line\":{\"color\":\"white\",\"width\":0.5},\"pattern\":{\"fillmode\":\"overlay\",\"size\":10,\"solidity\":0.2}},\"type\":\"bar\"}],\"carpet\":[{\"aaxis\":{\"endlinecolor\":\"rgb(36,36,36)\",\"gridcolor\":\"white\",\"linecolor\":\"white\",\"minorgridcolor\":\"white\",\"startlinecolor\":\"rgb(36,36,36)\"},\"baxis\":{\"endlinecolor\":\"rgb(36,36,36)\",\"gridcolor\":\"white\",\"linecolor\":\"white\",\"minorgridcolor\":\"white\",\"startlinecolor\":\"rgb(36,36,36)\"},\"type\":\"carpet\"}],\"choropleth\":[{\"colorbar\":{\"outlinewidth\":1,\"tickcolor\":\"rgb(36,36,36)\",\"ticks\":\"outside\"},\"type\":\"choropleth\"}],\"contourcarpet\":[{\"colorbar\":{\"outlinewidth\":1,\"tickcolor\":\"rgb(36,36,36)\",\"ticks\":\"outside\"},\"type\":\"contourcarpet\"}],\"contour\":[{\"colorbar\":{\"outlinewidth\":1,\"tickcolor\":\"rgb(36,36,36)\",\"ticks\":\"outside\"},\"colorscale\":[[0.0,\"#440154\"],[0.1111111111111111,\"#482878\"],[0.2222222222222222,\"#3e4989\"],[0.3333333333333333,\"#31688e\"],[0.4444444444444444,\"#26828e\"],[0.5555555555555556,\"#1f9e89\"],[0.6666666666666666,\"#35b779\"],[0.7777777777777778,\"#6ece58\"],[0.8888888888888888,\"#b5de2b\"],[1.0,\"#fde725\"]],\"type\":\"contour\"}],\"heatmapgl\":[{\"colorbar\":{\"outlinewidth\":1,\"tickcolor\":\"rgb(36,36,36)\",\"ticks\":\"outside\"},\"colorscale\":[[0.0,\"#440154\"],[0.1111111111111111,\"#482878\"],[0.2222222222222222,\"#3e4989\"],[0.3333333333333333,\"#31688e\"],[0.4444444444444444,\"#26828e\"],[0.5555555555555556,\"#1f9e89\"],[0.6666666666666666,\"#35b779\"],[0.7777777777777778,\"#6ece58\"],[0.8888888888888888,\"#b5de2b\"],[1.0,\"#fde725\"]],\"type\":\"heatmapgl\"}],\"heatmap\":[{\"colorbar\":{\"outlinewidth\":1,\"tickcolor\":\"rgb(36,36,36)\",\"ticks\":\"outside\"},\"colorscale\":[[0.0,\"#440154\"],[0.1111111111111111,\"#482878\"],[0.2222222222222222,\"#3e4989\"],[0.3333333333333333,\"#31688e\"],[0.4444444444444444,\"#26828e\"],[0.5555555555555556,\"#1f9e89\"],[0.6666666666666666,\"#35b779\"],[0.7777777777777778,\"#6ece58\"],[0.8888888888888888,\"#b5de2b\"],[1.0,\"#fde725\"]],\"type\":\"heatmap\"}],\"histogram2dcontour\":[{\"colorbar\":{\"outlinewidth\":1,\"tickcolor\":\"rgb(36,36,36)\",\"ticks\":\"outside\"},\"colorscale\":[[0.0,\"#440154\"],[0.1111111111111111,\"#482878\"],[0.2222222222222222,\"#3e4989\"],[0.3333333333333333,\"#31688e\"],[0.4444444444444444,\"#26828e\"],[0.5555555555555556,\"#1f9e89\"],[0.6666666666666666,\"#35b779\"],[0.7777777777777778,\"#6ece58\"],[0.8888888888888888,\"#b5de2b\"],[1.0,\"#fde725\"]],\"type\":\"histogram2dcontour\"}],\"histogram2d\":[{\"colorbar\":{\"outlinewidth\":1,\"tickcolor\":\"rgb(36,36,36)\",\"ticks\":\"outside\"},\"colorscale\":[[0.0,\"#440154\"],[0.1111111111111111,\"#482878\"],[0.2222222222222222,\"#3e4989\"],[0.3333333333333333,\"#31688e\"],[0.4444444444444444,\"#26828e\"],[0.5555555555555556,\"#1f9e89\"],[0.6666666666666666,\"#35b779\"],[0.7777777777777778,\"#6ece58\"],[0.8888888888888888,\"#b5de2b\"],[1.0,\"#fde725\"]],\"type\":\"histogram2d\"}],\"histogram\":[{\"marker\":{\"line\":{\"color\":\"white\",\"width\":0.6}},\"type\":\"histogram\"}],\"mesh3d\":[{\"colorbar\":{\"outlinewidth\":1,\"tickcolor\":\"rgb(36,36,36)\",\"ticks\":\"outside\"},\"type\":\"mesh3d\"}],\"parcoords\":[{\"line\":{\"colorbar\":{\"outlinewidth\":1,\"tickcolor\":\"rgb(36,36,36)\",\"ticks\":\"outside\"}},\"type\":\"parcoords\"}],\"pie\":[{\"automargin\":true,\"type\":\"pie\"}],\"scatter3d\":[{\"line\":{\"colorbar\":{\"outlinewidth\":1,\"tickcolor\":\"rgb(36,36,36)\",\"ticks\":\"outside\"}},\"marker\":{\"colorbar\":{\"outlinewidth\":1,\"tickcolor\":\"rgb(36,36,36)\",\"ticks\":\"outside\"}},\"type\":\"scatter3d\"}],\"scattercarpet\":[{\"marker\":{\"colorbar\":{\"outlinewidth\":1,\"tickcolor\":\"rgb(36,36,36)\",\"ticks\":\"outside\"}},\"type\":\"scattercarpet\"}],\"scattergeo\":[{\"marker\":{\"colorbar\":{\"outlinewidth\":1,\"tickcolor\":\"rgb(36,36,36)\",\"ticks\":\"outside\"}},\"type\":\"scattergeo\"}],\"scattergl\":[{\"marker\":{\"colorbar\":{\"outlinewidth\":1,\"tickcolor\":\"rgb(36,36,36)\",\"ticks\":\"outside\"}},\"type\":\"scattergl\"}],\"scattermapbox\":[{\"marker\":{\"colorbar\":{\"outlinewidth\":1,\"tickcolor\":\"rgb(36,36,36)\",\"ticks\":\"outside\"}},\"type\":\"scattermapbox\"}],\"scatterpolargl\":[{\"marker\":{\"colorbar\":{\"outlinewidth\":1,\"tickcolor\":\"rgb(36,36,36)\",\"ticks\":\"outside\"}},\"type\":\"scatterpolargl\"}],\"scatterpolar\":[{\"marker\":{\"colorbar\":{\"outlinewidth\":1,\"tickcolor\":\"rgb(36,36,36)\",\"ticks\":\"outside\"}},\"type\":\"scatterpolar\"}],\"scatter\":[{\"fillpattern\":{\"fillmode\":\"overlay\",\"size\":10,\"solidity\":0.2},\"type\":\"scatter\"}],\"scatterternary\":[{\"marker\":{\"colorbar\":{\"outlinewidth\":1,\"tickcolor\":\"rgb(36,36,36)\",\"ticks\":\"outside\"}},\"type\":\"scatterternary\"}],\"surface\":[{\"colorbar\":{\"outlinewidth\":1,\"tickcolor\":\"rgb(36,36,36)\",\"ticks\":\"outside\"},\"colorscale\":[[0.0,\"#440154\"],[0.1111111111111111,\"#482878\"],[0.2222222222222222,\"#3e4989\"],[0.3333333333333333,\"#31688e\"],[0.4444444444444444,\"#26828e\"],[0.5555555555555556,\"#1f9e89\"],[0.6666666666666666,\"#35b779\"],[0.7777777777777778,\"#6ece58\"],[0.8888888888888888,\"#b5de2b\"],[1.0,\"#fde725\"]],\"type\":\"surface\"}],\"table\":[{\"cells\":{\"fill\":{\"color\":\"rgb(237,237,237)\"},\"line\":{\"color\":\"white\"}},\"header\":{\"fill\":{\"color\":\"rgb(217,217,217)\"},\"line\":{\"color\":\"white\"}},\"type\":\"table\"}]},\"layout\":{\"annotationdefaults\":{\"arrowhead\":0,\"arrowwidth\":1},\"autotypenumbers\":\"strict\",\"coloraxis\":{\"colorbar\":{\"outlinewidth\":1,\"tickcolor\":\"rgb(36,36,36)\",\"ticks\":\"outside\"}},\"colorscale\":{\"diverging\":[[0.0,\"rgb(103,0,31)\"],[0.1,\"rgb(178,24,43)\"],[0.2,\"rgb(214,96,77)\"],[0.3,\"rgb(244,165,130)\"],[0.4,\"rgb(253,219,199)\"],[0.5,\"rgb(247,247,247)\"],[0.6,\"rgb(209,229,240)\"],[0.7,\"rgb(146,197,222)\"],[0.8,\"rgb(67,147,195)\"],[0.9,\"rgb(33,102,172)\"],[1.0,\"rgb(5,48,97)\"]],\"sequential\":[[0.0,\"#440154\"],[0.1111111111111111,\"#482878\"],[0.2222222222222222,\"#3e4989\"],[0.3333333333333333,\"#31688e\"],[0.4444444444444444,\"#26828e\"],[0.5555555555555556,\"#1f9e89\"],[0.6666666666666666,\"#35b779\"],[0.7777777777777778,\"#6ece58\"],[0.8888888888888888,\"#b5de2b\"],[1.0,\"#fde725\"]],\"sequentialminus\":[[0.0,\"#440154\"],[0.1111111111111111,\"#482878\"],[0.2222222222222222,\"#3e4989\"],[0.3333333333333333,\"#31688e\"],[0.4444444444444444,\"#26828e\"],[0.5555555555555556,\"#1f9e89\"],[0.6666666666666666,\"#35b779\"],[0.7777777777777778,\"#6ece58\"],[0.8888888888888888,\"#b5de2b\"],[1.0,\"#fde725\"]]},\"colorway\":[\"#1F77B4\",\"#FF7F0E\",\"#2CA02C\",\"#D62728\",\"#9467BD\",\"#8C564B\",\"#E377C2\",\"#7F7F7F\",\"#BCBD22\",\"#17BECF\"],\"font\":{\"color\":\"rgb(36,36,36)\"},\"geo\":{\"bgcolor\":\"white\",\"lakecolor\":\"white\",\"landcolor\":\"white\",\"showlakes\":true,\"showland\":true,\"subunitcolor\":\"white\"},\"hoverlabel\":{\"align\":\"left\"},\"hovermode\":\"closest\",\"mapbox\":{\"style\":\"light\"},\"paper_bgcolor\":\"white\",\"plot_bgcolor\":\"white\",\"polar\":{\"angularaxis\":{\"gridcolor\":\"rgb(232,232,232)\",\"linecolor\":\"rgb(36,36,36)\",\"showgrid\":false,\"showline\":true,\"ticks\":\"outside\"},\"bgcolor\":\"white\",\"radialaxis\":{\"gridcolor\":\"rgb(232,232,232)\",\"linecolor\":\"rgb(36,36,36)\",\"showgrid\":false,\"showline\":true,\"ticks\":\"outside\"}},\"scene\":{\"xaxis\":{\"backgroundcolor\":\"white\",\"gridcolor\":\"rgb(232,232,232)\",\"gridwidth\":2,\"linecolor\":\"rgb(36,36,36)\",\"showbackground\":true,\"showgrid\":false,\"showline\":true,\"ticks\":\"outside\",\"zeroline\":false,\"zerolinecolor\":\"rgb(36,36,36)\"},\"yaxis\":{\"backgroundcolor\":\"white\",\"gridcolor\":\"rgb(232,232,232)\",\"gridwidth\":2,\"linecolor\":\"rgb(36,36,36)\",\"showbackground\":true,\"showgrid\":false,\"showline\":true,\"ticks\":\"outside\",\"zeroline\":false,\"zerolinecolor\":\"rgb(36,36,36)\"},\"zaxis\":{\"backgroundcolor\":\"white\",\"gridcolor\":\"rgb(232,232,232)\",\"gridwidth\":2,\"linecolor\":\"rgb(36,36,36)\",\"showbackground\":true,\"showgrid\":false,\"showline\":true,\"ticks\":\"outside\",\"zeroline\":false,\"zerolinecolor\":\"rgb(36,36,36)\"}},\"shapedefaults\":{\"fillcolor\":\"black\",\"line\":{\"width\":0},\"opacity\":0.3},\"ternary\":{\"aaxis\":{\"gridcolor\":\"rgb(232,232,232)\",\"linecolor\":\"rgb(36,36,36)\",\"showgrid\":false,\"showline\":true,\"ticks\":\"outside\"},\"baxis\":{\"gridcolor\":\"rgb(232,232,232)\",\"linecolor\":\"rgb(36,36,36)\",\"showgrid\":false,\"showline\":true,\"ticks\":\"outside\"},\"bgcolor\":\"white\",\"caxis\":{\"gridcolor\":\"rgb(232,232,232)\",\"linecolor\":\"rgb(36,36,36)\",\"showgrid\":false,\"showline\":true,\"ticks\":\"outside\"}},\"title\":{\"x\":0.05},\"xaxis\":{\"automargin\":true,\"gridcolor\":\"rgb(232,232,232)\",\"linecolor\":\"rgb(36,36,36)\",\"showgrid\":false,\"showline\":true,\"ticks\":\"outside\",\"title\":{\"standoff\":15},\"zeroline\":false,\"zerolinecolor\":\"rgb(36,36,36)\"},\"yaxis\":{\"automargin\":true,\"gridcolor\":\"rgb(232,232,232)\",\"linecolor\":\"rgb(36,36,36)\",\"showgrid\":false,\"showline\":true,\"ticks\":\"outside\",\"title\":{\"standoff\":15},\"zeroline\":false,\"zerolinecolor\":\"rgb(36,36,36)\"}}},\"xaxis\":{\"anchor\":\"y\",\"domain\":[0.0,1.0],\"title\":{\"text\":\"Day\"},\"linewidth\":1.5},\"yaxis\":{\"anchor\":\"x\",\"domain\":[0.0,1.0],\"title\":{\"text\":\"Hit Rate\"},\"linewidth\":1.5},\"title\":{\"y\":0.9,\"x\":0.5,\"xanchor\":\"center\",\"yanchor\":\"top\"},\"font\":{\"size\":22,\"family\":\"Arial\"},\"height\":500,\"width\":600,\"shapes\":[{\"line\":{\"color\":\"darkgrey\",\"dash\":\"dash\",\"width\":1},\"opacity\":1,\"type\":\"line\",\"x0\":6.5,\"x1\":6.5,\"xref\":\"x\",\"y0\":0,\"y1\":1,\"yref\":\"y domain\"},{\"line\":{\"color\":\"darkgrey\",\"dash\":\"dash\",\"width\":1},\"opacity\":1,\"type\":\"line\",\"x0\":12.5,\"x1\":12.5,\"xref\":\"x\",\"y0\":0,\"y1\":1,\"yref\":\"y domain\"},{\"line\":{\"color\":\"darkgrey\",\"dash\":\"dash\",\"width\":1},\"opacity\":1,\"type\":\"line\",\"x0\":0,\"x1\":1,\"xref\":\"x domain\",\"y0\":1,\"y1\":1,\"yref\":\"y\"}]},                        {\"responsive\": true}                    ).then(function(){\n",
       "                            \n",
       "var gd = document.getElementById('ce956256-ffb1-4111-948b-1e6cef43e50e');\n",
       "var x = new MutationObserver(function (mutations, observer) {{\n",
       "        var display = window.getComputedStyle(gd).display;\n",
       "        if (!display || display === 'none') {{\n",
       "            console.log([gd, 'removed!']);\n",
       "            Plotly.purge(gd);\n",
       "            observer.disconnect();\n",
       "        }}\n",
       "}});\n",
       "\n",
       "// Listen for the removal of the full notebook cells\n",
       "var notebookContainer = gd.closest('#notebook-container');\n",
       "if (notebookContainer) {{\n",
       "    x.observe(notebookContainer, {childList: true});\n",
       "}}\n",
       "\n",
       "// Listen for the clearing of the current output cell\n",
       "var outputEl = gd.closest('.output');\n",
       "if (outputEl) {{\n",
       "    x.observe(outputEl, {childList: true});\n",
       "}}\n",
       "\n",
       "                        })                };                });            </script>        </div>"
      ]
     },
     "metadata": {},
     "output_type": "display_data"
    }
   ],
   "source": [
    "## Hit rate rate across contexts\n",
    "fig = pf.plot_behavior_across_days(data=metrics, x_var='day', y_var='hits', groupby_var=['day', 'group'], plot_transitions=[6.5, 12.5],\n",
    "                                   transition_color=[chance_color, chance_color], width=600,\n",
    "                                   x_title='Day', y_title='Hit Rate', marker_color=two_color_plots, expert_line=False, chance=False, plot_datapoints=False)\n",
    "fig.add_hline(y=1, line_width=1, line_dash='dash', line_color=chance_color, opacity=1)\n",
    "fig.show()\n",
    "fig.write_image(pjoin(fig_path, 'HR_across_days.png'))"
   ]
  },
  {
   "attachments": {},
   "cell_type": "markdown",
   "metadata": {},
   "source": [
    "### Probe accuracy during the first and last day in a context."
   ]
  },
  {
   "cell_type": "code",
   "execution_count": 44,
   "metadata": {},
   "outputs": [],
   "source": [
    "lick_dict_probe = {'mouse': [], 'day': [], 'group': [], 'session': [], 'num_licks': [], 'probe_pc': [], 'session_pc': []}\n",
    "for mouse in os.listdir(circle_path):\n",
    "    mouse_path = pjoin(circle_path, mouse)\n",
    "    group = 'thresh3_twoport' if mouse in two_ports and mouse not in thresh_five else 'thresh5_twoport' if mouse in two_ports and mouse in thresh_five else 'thresh3_oneport' if mouse not in two_ports and mouse not in thresh_five else 'thresh5_oneport'\n",
    "    if (group == 'thresh3_oneport') | (group == 'thresh5_oneport'):\n",
    "          pass\n",
    "    else:\n",
    "        for idx, session in enumerate(os.listdir(mouse_path)):\n",
    "            behav = pd.read_feather(pjoin(mouse_path, f'{session}'))\n",
    "            if any(behav['probe']):\n",
    "                behav_probe = behav.loc[behav['probe']]\n",
    "                behav_no_probe = behav[~behav['probe']]\n",
    "                reward_one, reward_two = np.unique(behav['reward_one'])[0], np.unique(behav['reward_two'])[0]\n",
    "                ## Percent correct licking\n",
    "                pc = ctb.lick_accuracy(behav_probe, port_one=reward_one, port_two=reward_two, by_trials=False)\n",
    "                session_pc = ctb.lick_accuracy(behav_no_probe, port_one=reward_one, port_two=reward_two, by_trials=False)\n",
    "                lick_dict_probe['mouse'].append(mouse)\n",
    "                lick_dict_probe['day'].append(idx+1)\n",
    "                lick_dict_probe['group'].append(group)\n",
    "                lick_dict_probe['session'].append(np.unique(behav['session'])[0])\n",
    "                lick_dict_probe['num_licks'].append(len(behav_probe[behav_probe['lick_port'] != -1]))\n",
    "                lick_dict_probe['probe_pc'].append(pc)\n",
    "                lick_dict_probe['session_pc'].append(session_pc)\n",
    "            else:\n",
    "                pass\n",
    "## Convert to dataframe\n",
    "probe_df = pd.DataFrame(lick_dict_probe)\n",
    "avg_probe = probe_df.groupby(['group', 'day'], as_index=False).agg({'probe_pc': ['mean', 'sem']})"
   ]
  },
  {
   "cell_type": "code",
   "execution_count": 46,
   "metadata": {},
   "outputs": [
    {
     "data": {
      "application/vnd.plotly.v1+json": {
       "config": {
        "plotlyServerURL": "https://plot.ly"
       },
       "data": [
        {
         "error_y": {
          "array": [
           4.833220526849261,
           1.5606780518189929,
           1.9263978922366924
          ],
          "type": "data"
         },
         "line": {
          "color": "darkgrey"
         },
         "mode": "lines+markers",
         "name": "thresh3_twoport",
         "type": "scatter",
         "x": [
          1,
          7,
          13
         ],
         "y": [
          29.204545454545457,
          24.19062419062419,
          23.24786324786325
         ]
        },
        {
         "error_y": {
          "array": [
           16.666666666666668,
           4.98484458067976,
           1.1111111111111107
          ],
          "type": "data"
         },
         "line": {
          "color": "midnightblue"
         },
         "mode": "lines+markers",
         "name": "thresh5_twoport",
         "type": "scatter",
         "x": [
          1,
          7,
          13
         ],
         "y": [
          33.333333333333336,
          30.267379679144383,
          21.11111111111111
         ]
        }
       ],
       "layout": {
        "font": {
         "family": "Arial",
         "size": 22
        },
        "height": 500,
        "shapes": [
         {
          "line": {
           "color": "darkgrey",
           "dash": "dash",
           "width": 1
          },
          "opacity": 1,
          "type": "line",
          "x0": 0,
          "x1": 1,
          "xref": "x domain",
          "y0": 75,
          "y1": 75,
          "yref": "y"
         },
         {
          "line": {
           "color": "darkgrey",
           "dash": "dash",
           "width": 1
          },
          "opacity": 1,
          "type": "line",
          "x0": 0,
          "x1": 1,
          "xref": "x domain",
          "y0": 25,
          "y1": 25,
          "yref": "y"
         },
         {
          "line": {
           "color": "darkgrey",
           "dash": "dash",
           "width": 1
          },
          "opacity": 1,
          "type": "line",
          "x0": 6.5,
          "x1": 6.5,
          "xref": "x",
          "y0": 0,
          "y1": 1,
          "yref": "y domain"
         },
         {
          "line": {
           "color": "darkgrey",
           "dash": "dash",
           "width": 1
          },
          "opacity": 1,
          "type": "line",
          "x0": 12.5,
          "x1": 12.5,
          "xref": "x",
          "y0": 0,
          "y1": 1,
          "yref": "y domain"
         }
        ],
        "template": {
         "data": {
          "bar": [
           {
            "error_x": {
             "color": "rgb(36,36,36)"
            },
            "error_y": {
             "color": "rgb(36,36,36)"
            },
            "marker": {
             "line": {
              "color": "white",
              "width": 0.5
             },
             "pattern": {
              "fillmode": "overlay",
              "size": 10,
              "solidity": 0.2
             }
            },
            "type": "bar"
           }
          ],
          "barpolar": [
           {
            "marker": {
             "line": {
              "color": "white",
              "width": 0.5
             },
             "pattern": {
              "fillmode": "overlay",
              "size": 10,
              "solidity": 0.2
             }
            },
            "type": "barpolar"
           }
          ],
          "carpet": [
           {
            "aaxis": {
             "endlinecolor": "rgb(36,36,36)",
             "gridcolor": "white",
             "linecolor": "white",
             "minorgridcolor": "white",
             "startlinecolor": "rgb(36,36,36)"
            },
            "baxis": {
             "endlinecolor": "rgb(36,36,36)",
             "gridcolor": "white",
             "linecolor": "white",
             "minorgridcolor": "white",
             "startlinecolor": "rgb(36,36,36)"
            },
            "type": "carpet"
           }
          ],
          "choropleth": [
           {
            "colorbar": {
             "outlinewidth": 1,
             "tickcolor": "rgb(36,36,36)",
             "ticks": "outside"
            },
            "type": "choropleth"
           }
          ],
          "contour": [
           {
            "colorbar": {
             "outlinewidth": 1,
             "tickcolor": "rgb(36,36,36)",
             "ticks": "outside"
            },
            "colorscale": [
             [
              0,
              "#440154"
             ],
             [
              0.1111111111111111,
              "#482878"
             ],
             [
              0.2222222222222222,
              "#3e4989"
             ],
             [
              0.3333333333333333,
              "#31688e"
             ],
             [
              0.4444444444444444,
              "#26828e"
             ],
             [
              0.5555555555555556,
              "#1f9e89"
             ],
             [
              0.6666666666666666,
              "#35b779"
             ],
             [
              0.7777777777777778,
              "#6ece58"
             ],
             [
              0.8888888888888888,
              "#b5de2b"
             ],
             [
              1,
              "#fde725"
             ]
            ],
            "type": "contour"
           }
          ],
          "contourcarpet": [
           {
            "colorbar": {
             "outlinewidth": 1,
             "tickcolor": "rgb(36,36,36)",
             "ticks": "outside"
            },
            "type": "contourcarpet"
           }
          ],
          "heatmap": [
           {
            "colorbar": {
             "outlinewidth": 1,
             "tickcolor": "rgb(36,36,36)",
             "ticks": "outside"
            },
            "colorscale": [
             [
              0,
              "#440154"
             ],
             [
              0.1111111111111111,
              "#482878"
             ],
             [
              0.2222222222222222,
              "#3e4989"
             ],
             [
              0.3333333333333333,
              "#31688e"
             ],
             [
              0.4444444444444444,
              "#26828e"
             ],
             [
              0.5555555555555556,
              "#1f9e89"
             ],
             [
              0.6666666666666666,
              "#35b779"
             ],
             [
              0.7777777777777778,
              "#6ece58"
             ],
             [
              0.8888888888888888,
              "#b5de2b"
             ],
             [
              1,
              "#fde725"
             ]
            ],
            "type": "heatmap"
           }
          ],
          "heatmapgl": [
           {
            "colorbar": {
             "outlinewidth": 1,
             "tickcolor": "rgb(36,36,36)",
             "ticks": "outside"
            },
            "colorscale": [
             [
              0,
              "#440154"
             ],
             [
              0.1111111111111111,
              "#482878"
             ],
             [
              0.2222222222222222,
              "#3e4989"
             ],
             [
              0.3333333333333333,
              "#31688e"
             ],
             [
              0.4444444444444444,
              "#26828e"
             ],
             [
              0.5555555555555556,
              "#1f9e89"
             ],
             [
              0.6666666666666666,
              "#35b779"
             ],
             [
              0.7777777777777778,
              "#6ece58"
             ],
             [
              0.8888888888888888,
              "#b5de2b"
             ],
             [
              1,
              "#fde725"
             ]
            ],
            "type": "heatmapgl"
           }
          ],
          "histogram": [
           {
            "marker": {
             "line": {
              "color": "white",
              "width": 0.6
             }
            },
            "type": "histogram"
           }
          ],
          "histogram2d": [
           {
            "colorbar": {
             "outlinewidth": 1,
             "tickcolor": "rgb(36,36,36)",
             "ticks": "outside"
            },
            "colorscale": [
             [
              0,
              "#440154"
             ],
             [
              0.1111111111111111,
              "#482878"
             ],
             [
              0.2222222222222222,
              "#3e4989"
             ],
             [
              0.3333333333333333,
              "#31688e"
             ],
             [
              0.4444444444444444,
              "#26828e"
             ],
             [
              0.5555555555555556,
              "#1f9e89"
             ],
             [
              0.6666666666666666,
              "#35b779"
             ],
             [
              0.7777777777777778,
              "#6ece58"
             ],
             [
              0.8888888888888888,
              "#b5de2b"
             ],
             [
              1,
              "#fde725"
             ]
            ],
            "type": "histogram2d"
           }
          ],
          "histogram2dcontour": [
           {
            "colorbar": {
             "outlinewidth": 1,
             "tickcolor": "rgb(36,36,36)",
             "ticks": "outside"
            },
            "colorscale": [
             [
              0,
              "#440154"
             ],
             [
              0.1111111111111111,
              "#482878"
             ],
             [
              0.2222222222222222,
              "#3e4989"
             ],
             [
              0.3333333333333333,
              "#31688e"
             ],
             [
              0.4444444444444444,
              "#26828e"
             ],
             [
              0.5555555555555556,
              "#1f9e89"
             ],
             [
              0.6666666666666666,
              "#35b779"
             ],
             [
              0.7777777777777778,
              "#6ece58"
             ],
             [
              0.8888888888888888,
              "#b5de2b"
             ],
             [
              1,
              "#fde725"
             ]
            ],
            "type": "histogram2dcontour"
           }
          ],
          "mesh3d": [
           {
            "colorbar": {
             "outlinewidth": 1,
             "tickcolor": "rgb(36,36,36)",
             "ticks": "outside"
            },
            "type": "mesh3d"
           }
          ],
          "parcoords": [
           {
            "line": {
             "colorbar": {
              "outlinewidth": 1,
              "tickcolor": "rgb(36,36,36)",
              "ticks": "outside"
             }
            },
            "type": "parcoords"
           }
          ],
          "pie": [
           {
            "automargin": true,
            "type": "pie"
           }
          ],
          "scatter": [
           {
            "fillpattern": {
             "fillmode": "overlay",
             "size": 10,
             "solidity": 0.2
            },
            "type": "scatter"
           }
          ],
          "scatter3d": [
           {
            "line": {
             "colorbar": {
              "outlinewidth": 1,
              "tickcolor": "rgb(36,36,36)",
              "ticks": "outside"
             }
            },
            "marker": {
             "colorbar": {
              "outlinewidth": 1,
              "tickcolor": "rgb(36,36,36)",
              "ticks": "outside"
             }
            },
            "type": "scatter3d"
           }
          ],
          "scattercarpet": [
           {
            "marker": {
             "colorbar": {
              "outlinewidth": 1,
              "tickcolor": "rgb(36,36,36)",
              "ticks": "outside"
             }
            },
            "type": "scattercarpet"
           }
          ],
          "scattergeo": [
           {
            "marker": {
             "colorbar": {
              "outlinewidth": 1,
              "tickcolor": "rgb(36,36,36)",
              "ticks": "outside"
             }
            },
            "type": "scattergeo"
           }
          ],
          "scattergl": [
           {
            "marker": {
             "colorbar": {
              "outlinewidth": 1,
              "tickcolor": "rgb(36,36,36)",
              "ticks": "outside"
             }
            },
            "type": "scattergl"
           }
          ],
          "scattermapbox": [
           {
            "marker": {
             "colorbar": {
              "outlinewidth": 1,
              "tickcolor": "rgb(36,36,36)",
              "ticks": "outside"
             }
            },
            "type": "scattermapbox"
           }
          ],
          "scatterpolar": [
           {
            "marker": {
             "colorbar": {
              "outlinewidth": 1,
              "tickcolor": "rgb(36,36,36)",
              "ticks": "outside"
             }
            },
            "type": "scatterpolar"
           }
          ],
          "scatterpolargl": [
           {
            "marker": {
             "colorbar": {
              "outlinewidth": 1,
              "tickcolor": "rgb(36,36,36)",
              "ticks": "outside"
             }
            },
            "type": "scatterpolargl"
           }
          ],
          "scatterternary": [
           {
            "marker": {
             "colorbar": {
              "outlinewidth": 1,
              "tickcolor": "rgb(36,36,36)",
              "ticks": "outside"
             }
            },
            "type": "scatterternary"
           }
          ],
          "surface": [
           {
            "colorbar": {
             "outlinewidth": 1,
             "tickcolor": "rgb(36,36,36)",
             "ticks": "outside"
            },
            "colorscale": [
             [
              0,
              "#440154"
             ],
             [
              0.1111111111111111,
              "#482878"
             ],
             [
              0.2222222222222222,
              "#3e4989"
             ],
             [
              0.3333333333333333,
              "#31688e"
             ],
             [
              0.4444444444444444,
              "#26828e"
             ],
             [
              0.5555555555555556,
              "#1f9e89"
             ],
             [
              0.6666666666666666,
              "#35b779"
             ],
             [
              0.7777777777777778,
              "#6ece58"
             ],
             [
              0.8888888888888888,
              "#b5de2b"
             ],
             [
              1,
              "#fde725"
             ]
            ],
            "type": "surface"
           }
          ],
          "table": [
           {
            "cells": {
             "fill": {
              "color": "rgb(237,237,237)"
             },
             "line": {
              "color": "white"
             }
            },
            "header": {
             "fill": {
              "color": "rgb(217,217,217)"
             },
             "line": {
              "color": "white"
             }
            },
            "type": "table"
           }
          ]
         },
         "layout": {
          "annotationdefaults": {
           "arrowhead": 0,
           "arrowwidth": 1
          },
          "autotypenumbers": "strict",
          "coloraxis": {
           "colorbar": {
            "outlinewidth": 1,
            "tickcolor": "rgb(36,36,36)",
            "ticks": "outside"
           }
          },
          "colorscale": {
           "diverging": [
            [
             0,
             "rgb(103,0,31)"
            ],
            [
             0.1,
             "rgb(178,24,43)"
            ],
            [
             0.2,
             "rgb(214,96,77)"
            ],
            [
             0.3,
             "rgb(244,165,130)"
            ],
            [
             0.4,
             "rgb(253,219,199)"
            ],
            [
             0.5,
             "rgb(247,247,247)"
            ],
            [
             0.6,
             "rgb(209,229,240)"
            ],
            [
             0.7,
             "rgb(146,197,222)"
            ],
            [
             0.8,
             "rgb(67,147,195)"
            ],
            [
             0.9,
             "rgb(33,102,172)"
            ],
            [
             1,
             "rgb(5,48,97)"
            ]
           ],
           "sequential": [
            [
             0,
             "#440154"
            ],
            [
             0.1111111111111111,
             "#482878"
            ],
            [
             0.2222222222222222,
             "#3e4989"
            ],
            [
             0.3333333333333333,
             "#31688e"
            ],
            [
             0.4444444444444444,
             "#26828e"
            ],
            [
             0.5555555555555556,
             "#1f9e89"
            ],
            [
             0.6666666666666666,
             "#35b779"
            ],
            [
             0.7777777777777778,
             "#6ece58"
            ],
            [
             0.8888888888888888,
             "#b5de2b"
            ],
            [
             1,
             "#fde725"
            ]
           ],
           "sequentialminus": [
            [
             0,
             "#440154"
            ],
            [
             0.1111111111111111,
             "#482878"
            ],
            [
             0.2222222222222222,
             "#3e4989"
            ],
            [
             0.3333333333333333,
             "#31688e"
            ],
            [
             0.4444444444444444,
             "#26828e"
            ],
            [
             0.5555555555555556,
             "#1f9e89"
            ],
            [
             0.6666666666666666,
             "#35b779"
            ],
            [
             0.7777777777777778,
             "#6ece58"
            ],
            [
             0.8888888888888888,
             "#b5de2b"
            ],
            [
             1,
             "#fde725"
            ]
           ]
          },
          "colorway": [
           "#1F77B4",
           "#FF7F0E",
           "#2CA02C",
           "#D62728",
           "#9467BD",
           "#8C564B",
           "#E377C2",
           "#7F7F7F",
           "#BCBD22",
           "#17BECF"
          ],
          "font": {
           "color": "rgb(36,36,36)"
          },
          "geo": {
           "bgcolor": "white",
           "lakecolor": "white",
           "landcolor": "white",
           "showlakes": true,
           "showland": true,
           "subunitcolor": "white"
          },
          "hoverlabel": {
           "align": "left"
          },
          "hovermode": "closest",
          "mapbox": {
           "style": "light"
          },
          "paper_bgcolor": "white",
          "plot_bgcolor": "white",
          "polar": {
           "angularaxis": {
            "gridcolor": "rgb(232,232,232)",
            "linecolor": "rgb(36,36,36)",
            "showgrid": false,
            "showline": true,
            "ticks": "outside"
           },
           "bgcolor": "white",
           "radialaxis": {
            "gridcolor": "rgb(232,232,232)",
            "linecolor": "rgb(36,36,36)",
            "showgrid": false,
            "showline": true,
            "ticks": "outside"
           }
          },
          "scene": {
           "xaxis": {
            "backgroundcolor": "white",
            "gridcolor": "rgb(232,232,232)",
            "gridwidth": 2,
            "linecolor": "rgb(36,36,36)",
            "showbackground": true,
            "showgrid": false,
            "showline": true,
            "ticks": "outside",
            "zeroline": false,
            "zerolinecolor": "rgb(36,36,36)"
           },
           "yaxis": {
            "backgroundcolor": "white",
            "gridcolor": "rgb(232,232,232)",
            "gridwidth": 2,
            "linecolor": "rgb(36,36,36)",
            "showbackground": true,
            "showgrid": false,
            "showline": true,
            "ticks": "outside",
            "zeroline": false,
            "zerolinecolor": "rgb(36,36,36)"
           },
           "zaxis": {
            "backgroundcolor": "white",
            "gridcolor": "rgb(232,232,232)",
            "gridwidth": 2,
            "linecolor": "rgb(36,36,36)",
            "showbackground": true,
            "showgrid": false,
            "showline": true,
            "ticks": "outside",
            "zeroline": false,
            "zerolinecolor": "rgb(36,36,36)"
           }
          },
          "shapedefaults": {
           "fillcolor": "black",
           "line": {
            "width": 0
           },
           "opacity": 0.3
          },
          "ternary": {
           "aaxis": {
            "gridcolor": "rgb(232,232,232)",
            "linecolor": "rgb(36,36,36)",
            "showgrid": false,
            "showline": true,
            "ticks": "outside"
           },
           "baxis": {
            "gridcolor": "rgb(232,232,232)",
            "linecolor": "rgb(36,36,36)",
            "showgrid": false,
            "showline": true,
            "ticks": "outside"
           },
           "bgcolor": "white",
           "caxis": {
            "gridcolor": "rgb(232,232,232)",
            "linecolor": "rgb(36,36,36)",
            "showgrid": false,
            "showline": true,
            "ticks": "outside"
           }
          },
          "title": {
           "x": 0.05
          },
          "xaxis": {
           "automargin": true,
           "gridcolor": "rgb(232,232,232)",
           "linecolor": "rgb(36,36,36)",
           "showgrid": false,
           "showline": true,
           "ticks": "outside",
           "title": {
            "standoff": 15
           },
           "zeroline": false,
           "zerolinecolor": "rgb(36,36,36)"
          },
          "yaxis": {
           "automargin": true,
           "gridcolor": "rgb(232,232,232)",
           "linecolor": "rgb(36,36,36)",
           "showgrid": false,
           "showline": true,
           "ticks": "outside",
           "title": {
            "standoff": 15
           },
           "zeroline": false,
           "zerolinecolor": "rgb(36,36,36)"
          }
         }
        },
        "title": {
         "x": 0.5,
         "xanchor": "center",
         "y": 0.9,
         "yanchor": "top"
        },
        "width": 600,
        "xaxis": {
         "anchor": "y",
         "domain": [
          0,
          1
         ],
         "linewidth": 1.5,
         "title": {
          "text": "Day"
         }
        },
        "yaxis": {
         "anchor": "x",
         "domain": [
          0,
          1
         ],
         "linewidth": 1.5,
         "title": {
          "text": "Probe Accuracy"
         }
        }
       }
      },
      "text/html": [
       "<div>                            <div id=\"d89b8eb0-9dec-4fd8-a752-d2f805fa82e7\" class=\"plotly-graph-div\" style=\"height:500px; width:600px;\"></div>            <script type=\"text/javascript\">                require([\"plotly\"], function(Plotly) {                    window.PLOTLYENV=window.PLOTLYENV || {};                                    if (document.getElementById(\"d89b8eb0-9dec-4fd8-a752-d2f805fa82e7\")) {                    Plotly.newPlot(                        \"d89b8eb0-9dec-4fd8-a752-d2f805fa82e7\",                        [{\"error_y\":{\"array\":[4.833220526849261,1.5606780518189929,1.9263978922366924],\"type\":\"data\"},\"line\":{\"color\":\"darkgrey\"},\"mode\":\"lines+markers\",\"name\":\"thresh3_twoport\",\"x\":[1,7,13],\"y\":[29.204545454545457,24.19062419062419,23.24786324786325],\"type\":\"scatter\"},{\"error_y\":{\"array\":[16.666666666666668,4.98484458067976,1.1111111111111107],\"type\":\"data\"},\"line\":{\"color\":\"midnightblue\"},\"mode\":\"lines+markers\",\"name\":\"thresh5_twoport\",\"x\":[1,7,13],\"y\":[33.333333333333336,30.267379679144383,21.11111111111111],\"type\":\"scatter\"}],                        {\"template\":{\"data\":{\"barpolar\":[{\"marker\":{\"line\":{\"color\":\"white\",\"width\":0.5},\"pattern\":{\"fillmode\":\"overlay\",\"size\":10,\"solidity\":0.2}},\"type\":\"barpolar\"}],\"bar\":[{\"error_x\":{\"color\":\"rgb(36,36,36)\"},\"error_y\":{\"color\":\"rgb(36,36,36)\"},\"marker\":{\"line\":{\"color\":\"white\",\"width\":0.5},\"pattern\":{\"fillmode\":\"overlay\",\"size\":10,\"solidity\":0.2}},\"type\":\"bar\"}],\"carpet\":[{\"aaxis\":{\"endlinecolor\":\"rgb(36,36,36)\",\"gridcolor\":\"white\",\"linecolor\":\"white\",\"minorgridcolor\":\"white\",\"startlinecolor\":\"rgb(36,36,36)\"},\"baxis\":{\"endlinecolor\":\"rgb(36,36,36)\",\"gridcolor\":\"white\",\"linecolor\":\"white\",\"minorgridcolor\":\"white\",\"startlinecolor\":\"rgb(36,36,36)\"},\"type\":\"carpet\"}],\"choropleth\":[{\"colorbar\":{\"outlinewidth\":1,\"tickcolor\":\"rgb(36,36,36)\",\"ticks\":\"outside\"},\"type\":\"choropleth\"}],\"contourcarpet\":[{\"colorbar\":{\"outlinewidth\":1,\"tickcolor\":\"rgb(36,36,36)\",\"ticks\":\"outside\"},\"type\":\"contourcarpet\"}],\"contour\":[{\"colorbar\":{\"outlinewidth\":1,\"tickcolor\":\"rgb(36,36,36)\",\"ticks\":\"outside\"},\"colorscale\":[[0.0,\"#440154\"],[0.1111111111111111,\"#482878\"],[0.2222222222222222,\"#3e4989\"],[0.3333333333333333,\"#31688e\"],[0.4444444444444444,\"#26828e\"],[0.5555555555555556,\"#1f9e89\"],[0.6666666666666666,\"#35b779\"],[0.7777777777777778,\"#6ece58\"],[0.8888888888888888,\"#b5de2b\"],[1.0,\"#fde725\"]],\"type\":\"contour\"}],\"heatmapgl\":[{\"colorbar\":{\"outlinewidth\":1,\"tickcolor\":\"rgb(36,36,36)\",\"ticks\":\"outside\"},\"colorscale\":[[0.0,\"#440154\"],[0.1111111111111111,\"#482878\"],[0.2222222222222222,\"#3e4989\"],[0.3333333333333333,\"#31688e\"],[0.4444444444444444,\"#26828e\"],[0.5555555555555556,\"#1f9e89\"],[0.6666666666666666,\"#35b779\"],[0.7777777777777778,\"#6ece58\"],[0.8888888888888888,\"#b5de2b\"],[1.0,\"#fde725\"]],\"type\":\"heatmapgl\"}],\"heatmap\":[{\"colorbar\":{\"outlinewidth\":1,\"tickcolor\":\"rgb(36,36,36)\",\"ticks\":\"outside\"},\"colorscale\":[[0.0,\"#440154\"],[0.1111111111111111,\"#482878\"],[0.2222222222222222,\"#3e4989\"],[0.3333333333333333,\"#31688e\"],[0.4444444444444444,\"#26828e\"],[0.5555555555555556,\"#1f9e89\"],[0.6666666666666666,\"#35b779\"],[0.7777777777777778,\"#6ece58\"],[0.8888888888888888,\"#b5de2b\"],[1.0,\"#fde725\"]],\"type\":\"heatmap\"}],\"histogram2dcontour\":[{\"colorbar\":{\"outlinewidth\":1,\"tickcolor\":\"rgb(36,36,36)\",\"ticks\":\"outside\"},\"colorscale\":[[0.0,\"#440154\"],[0.1111111111111111,\"#482878\"],[0.2222222222222222,\"#3e4989\"],[0.3333333333333333,\"#31688e\"],[0.4444444444444444,\"#26828e\"],[0.5555555555555556,\"#1f9e89\"],[0.6666666666666666,\"#35b779\"],[0.7777777777777778,\"#6ece58\"],[0.8888888888888888,\"#b5de2b\"],[1.0,\"#fde725\"]],\"type\":\"histogram2dcontour\"}],\"histogram2d\":[{\"colorbar\":{\"outlinewidth\":1,\"tickcolor\":\"rgb(36,36,36)\",\"ticks\":\"outside\"},\"colorscale\":[[0.0,\"#440154\"],[0.1111111111111111,\"#482878\"],[0.2222222222222222,\"#3e4989\"],[0.3333333333333333,\"#31688e\"],[0.4444444444444444,\"#26828e\"],[0.5555555555555556,\"#1f9e89\"],[0.6666666666666666,\"#35b779\"],[0.7777777777777778,\"#6ece58\"],[0.8888888888888888,\"#b5de2b\"],[1.0,\"#fde725\"]],\"type\":\"histogram2d\"}],\"histogram\":[{\"marker\":{\"line\":{\"color\":\"white\",\"width\":0.6}},\"type\":\"histogram\"}],\"mesh3d\":[{\"colorbar\":{\"outlinewidth\":1,\"tickcolor\":\"rgb(36,36,36)\",\"ticks\":\"outside\"},\"type\":\"mesh3d\"}],\"parcoords\":[{\"line\":{\"colorbar\":{\"outlinewidth\":1,\"tickcolor\":\"rgb(36,36,36)\",\"ticks\":\"outside\"}},\"type\":\"parcoords\"}],\"pie\":[{\"automargin\":true,\"type\":\"pie\"}],\"scatter3d\":[{\"line\":{\"colorbar\":{\"outlinewidth\":1,\"tickcolor\":\"rgb(36,36,36)\",\"ticks\":\"outside\"}},\"marker\":{\"colorbar\":{\"outlinewidth\":1,\"tickcolor\":\"rgb(36,36,36)\",\"ticks\":\"outside\"}},\"type\":\"scatter3d\"}],\"scattercarpet\":[{\"marker\":{\"colorbar\":{\"outlinewidth\":1,\"tickcolor\":\"rgb(36,36,36)\",\"ticks\":\"outside\"}},\"type\":\"scattercarpet\"}],\"scattergeo\":[{\"marker\":{\"colorbar\":{\"outlinewidth\":1,\"tickcolor\":\"rgb(36,36,36)\",\"ticks\":\"outside\"}},\"type\":\"scattergeo\"}],\"scattergl\":[{\"marker\":{\"colorbar\":{\"outlinewidth\":1,\"tickcolor\":\"rgb(36,36,36)\",\"ticks\":\"outside\"}},\"type\":\"scattergl\"}],\"scattermapbox\":[{\"marker\":{\"colorbar\":{\"outlinewidth\":1,\"tickcolor\":\"rgb(36,36,36)\",\"ticks\":\"outside\"}},\"type\":\"scattermapbox\"}],\"scatterpolargl\":[{\"marker\":{\"colorbar\":{\"outlinewidth\":1,\"tickcolor\":\"rgb(36,36,36)\",\"ticks\":\"outside\"}},\"type\":\"scatterpolargl\"}],\"scatterpolar\":[{\"marker\":{\"colorbar\":{\"outlinewidth\":1,\"tickcolor\":\"rgb(36,36,36)\",\"ticks\":\"outside\"}},\"type\":\"scatterpolar\"}],\"scatter\":[{\"fillpattern\":{\"fillmode\":\"overlay\",\"size\":10,\"solidity\":0.2},\"type\":\"scatter\"}],\"scatterternary\":[{\"marker\":{\"colorbar\":{\"outlinewidth\":1,\"tickcolor\":\"rgb(36,36,36)\",\"ticks\":\"outside\"}},\"type\":\"scatterternary\"}],\"surface\":[{\"colorbar\":{\"outlinewidth\":1,\"tickcolor\":\"rgb(36,36,36)\",\"ticks\":\"outside\"},\"colorscale\":[[0.0,\"#440154\"],[0.1111111111111111,\"#482878\"],[0.2222222222222222,\"#3e4989\"],[0.3333333333333333,\"#31688e\"],[0.4444444444444444,\"#26828e\"],[0.5555555555555556,\"#1f9e89\"],[0.6666666666666666,\"#35b779\"],[0.7777777777777778,\"#6ece58\"],[0.8888888888888888,\"#b5de2b\"],[1.0,\"#fde725\"]],\"type\":\"surface\"}],\"table\":[{\"cells\":{\"fill\":{\"color\":\"rgb(237,237,237)\"},\"line\":{\"color\":\"white\"}},\"header\":{\"fill\":{\"color\":\"rgb(217,217,217)\"},\"line\":{\"color\":\"white\"}},\"type\":\"table\"}]},\"layout\":{\"annotationdefaults\":{\"arrowhead\":0,\"arrowwidth\":1},\"autotypenumbers\":\"strict\",\"coloraxis\":{\"colorbar\":{\"outlinewidth\":1,\"tickcolor\":\"rgb(36,36,36)\",\"ticks\":\"outside\"}},\"colorscale\":{\"diverging\":[[0.0,\"rgb(103,0,31)\"],[0.1,\"rgb(178,24,43)\"],[0.2,\"rgb(214,96,77)\"],[0.3,\"rgb(244,165,130)\"],[0.4,\"rgb(253,219,199)\"],[0.5,\"rgb(247,247,247)\"],[0.6,\"rgb(209,229,240)\"],[0.7,\"rgb(146,197,222)\"],[0.8,\"rgb(67,147,195)\"],[0.9,\"rgb(33,102,172)\"],[1.0,\"rgb(5,48,97)\"]],\"sequential\":[[0.0,\"#440154\"],[0.1111111111111111,\"#482878\"],[0.2222222222222222,\"#3e4989\"],[0.3333333333333333,\"#31688e\"],[0.4444444444444444,\"#26828e\"],[0.5555555555555556,\"#1f9e89\"],[0.6666666666666666,\"#35b779\"],[0.7777777777777778,\"#6ece58\"],[0.8888888888888888,\"#b5de2b\"],[1.0,\"#fde725\"]],\"sequentialminus\":[[0.0,\"#440154\"],[0.1111111111111111,\"#482878\"],[0.2222222222222222,\"#3e4989\"],[0.3333333333333333,\"#31688e\"],[0.4444444444444444,\"#26828e\"],[0.5555555555555556,\"#1f9e89\"],[0.6666666666666666,\"#35b779\"],[0.7777777777777778,\"#6ece58\"],[0.8888888888888888,\"#b5de2b\"],[1.0,\"#fde725\"]]},\"colorway\":[\"#1F77B4\",\"#FF7F0E\",\"#2CA02C\",\"#D62728\",\"#9467BD\",\"#8C564B\",\"#E377C2\",\"#7F7F7F\",\"#BCBD22\",\"#17BECF\"],\"font\":{\"color\":\"rgb(36,36,36)\"},\"geo\":{\"bgcolor\":\"white\",\"lakecolor\":\"white\",\"landcolor\":\"white\",\"showlakes\":true,\"showland\":true,\"subunitcolor\":\"white\"},\"hoverlabel\":{\"align\":\"left\"},\"hovermode\":\"closest\",\"mapbox\":{\"style\":\"light\"},\"paper_bgcolor\":\"white\",\"plot_bgcolor\":\"white\",\"polar\":{\"angularaxis\":{\"gridcolor\":\"rgb(232,232,232)\",\"linecolor\":\"rgb(36,36,36)\",\"showgrid\":false,\"showline\":true,\"ticks\":\"outside\"},\"bgcolor\":\"white\",\"radialaxis\":{\"gridcolor\":\"rgb(232,232,232)\",\"linecolor\":\"rgb(36,36,36)\",\"showgrid\":false,\"showline\":true,\"ticks\":\"outside\"}},\"scene\":{\"xaxis\":{\"backgroundcolor\":\"white\",\"gridcolor\":\"rgb(232,232,232)\",\"gridwidth\":2,\"linecolor\":\"rgb(36,36,36)\",\"showbackground\":true,\"showgrid\":false,\"showline\":true,\"ticks\":\"outside\",\"zeroline\":false,\"zerolinecolor\":\"rgb(36,36,36)\"},\"yaxis\":{\"backgroundcolor\":\"white\",\"gridcolor\":\"rgb(232,232,232)\",\"gridwidth\":2,\"linecolor\":\"rgb(36,36,36)\",\"showbackground\":true,\"showgrid\":false,\"showline\":true,\"ticks\":\"outside\",\"zeroline\":false,\"zerolinecolor\":\"rgb(36,36,36)\"},\"zaxis\":{\"backgroundcolor\":\"white\",\"gridcolor\":\"rgb(232,232,232)\",\"gridwidth\":2,\"linecolor\":\"rgb(36,36,36)\",\"showbackground\":true,\"showgrid\":false,\"showline\":true,\"ticks\":\"outside\",\"zeroline\":false,\"zerolinecolor\":\"rgb(36,36,36)\"}},\"shapedefaults\":{\"fillcolor\":\"black\",\"line\":{\"width\":0},\"opacity\":0.3},\"ternary\":{\"aaxis\":{\"gridcolor\":\"rgb(232,232,232)\",\"linecolor\":\"rgb(36,36,36)\",\"showgrid\":false,\"showline\":true,\"ticks\":\"outside\"},\"baxis\":{\"gridcolor\":\"rgb(232,232,232)\",\"linecolor\":\"rgb(36,36,36)\",\"showgrid\":false,\"showline\":true,\"ticks\":\"outside\"},\"bgcolor\":\"white\",\"caxis\":{\"gridcolor\":\"rgb(232,232,232)\",\"linecolor\":\"rgb(36,36,36)\",\"showgrid\":false,\"showline\":true,\"ticks\":\"outside\"}},\"title\":{\"x\":0.05},\"xaxis\":{\"automargin\":true,\"gridcolor\":\"rgb(232,232,232)\",\"linecolor\":\"rgb(36,36,36)\",\"showgrid\":false,\"showline\":true,\"ticks\":\"outside\",\"title\":{\"standoff\":15},\"zeroline\":false,\"zerolinecolor\":\"rgb(36,36,36)\"},\"yaxis\":{\"automargin\":true,\"gridcolor\":\"rgb(232,232,232)\",\"linecolor\":\"rgb(36,36,36)\",\"showgrid\":false,\"showline\":true,\"ticks\":\"outside\",\"title\":{\"standoff\":15},\"zeroline\":false,\"zerolinecolor\":\"rgb(36,36,36)\"}}},\"xaxis\":{\"anchor\":\"y\",\"domain\":[0.0,1.0],\"title\":{\"text\":\"Day\"},\"linewidth\":1.5},\"yaxis\":{\"anchor\":\"x\",\"domain\":[0.0,1.0],\"title\":{\"text\":\"Probe Accuracy\"},\"linewidth\":1.5},\"title\":{\"y\":0.9,\"x\":0.5,\"xanchor\":\"center\",\"yanchor\":\"top\"},\"font\":{\"size\":22,\"family\":\"Arial\"},\"height\":500,\"width\":600,\"shapes\":[{\"line\":{\"color\":\"darkgrey\",\"dash\":\"dash\",\"width\":1},\"opacity\":1,\"type\":\"line\",\"x0\":0,\"x1\":1,\"xref\":\"x domain\",\"y0\":75,\"y1\":75,\"yref\":\"y\"},{\"line\":{\"color\":\"darkgrey\",\"dash\":\"dash\",\"width\":1},\"opacity\":1,\"type\":\"line\",\"x0\":0,\"x1\":1,\"xref\":\"x domain\",\"y0\":25,\"y1\":25,\"yref\":\"y\"},{\"line\":{\"color\":\"darkgrey\",\"dash\":\"dash\",\"width\":1},\"opacity\":1,\"type\":\"line\",\"x0\":6.5,\"x1\":6.5,\"xref\":\"x\",\"y0\":0,\"y1\":1,\"yref\":\"y domain\"},{\"line\":{\"color\":\"darkgrey\",\"dash\":\"dash\",\"width\":1},\"opacity\":1,\"type\":\"line\",\"x0\":12.5,\"x1\":12.5,\"xref\":\"x\",\"y0\":0,\"y1\":1,\"yref\":\"y domain\"}]},                        {\"responsive\": true}                    ).then(function(){\n",
       "                            \n",
       "var gd = document.getElementById('d89b8eb0-9dec-4fd8-a752-d2f805fa82e7');\n",
       "var x = new MutationObserver(function (mutations, observer) {{\n",
       "        var display = window.getComputedStyle(gd).display;\n",
       "        if (!display || display === 'none') {{\n",
       "            console.log([gd, 'removed!']);\n",
       "            Plotly.purge(gd);\n",
       "            observer.disconnect();\n",
       "        }}\n",
       "}});\n",
       "\n",
       "// Listen for the removal of the full notebook cells\n",
       "var notebookContainer = gd.closest('#notebook-container');\n",
       "if (notebookContainer) {{\n",
       "    x.observe(notebookContainer, {childList: true});\n",
       "}}\n",
       "\n",
       "// Listen for the clearing of the current output cell\n",
       "var outputEl = gd.closest('.output');\n",
       "if (outputEl) {{\n",
       "    x.observe(outputEl, {childList: true});\n",
       "}}\n",
       "\n",
       "                        })                };                });            </script>        </div>"
      ]
     },
     "metadata": {},
     "output_type": "display_data"
    }
   ],
   "source": [
    "## Plot average probe performance\n",
    "fig = pf.custom_graph_template(x_title='Day', y_title='Probe Accuracy', width=600)\n",
    "for group in np.unique(avg_probe['group']):\n",
    "    group_data = avg_probe[avg_probe['group'] == group]\n",
    "    fig.add_trace(go.Scatter(x=group_data['day'], y=group_data['probe_pc']['mean'], name=group, mode='lines+markers',\n",
    "                            line_color=group_colors_dict[group], error_y=dict(type='data', array=group_data['probe_pc']['sem'])))\n",
    "fig.add_hline(y=75, line_width=1, line_dash='dash', line_color=chance_color, opacity=1)\n",
    "fig.add_hline(y=25, line_width=1, line_dash='dash', line_color=chance_color, opacity=1)\n",
    "fig.add_vline(x=6.5, line_width=1, line_dash='dash', line_color=chance_color, opacity=1)\n",
    "fig.add_vline(x=12.5, line_width=1, line_dash='dash', line_color=chance_color, opacity=1)\n",
    "fig.show() \n",
    "fig.write_image(pjoin(fig_path, 'probe_accuracy.png'))"
   ]
  },
  {
   "attachments": {},
   "cell_type": "markdown",
   "metadata": {},
   "source": [
    "### Plot lick accuracy, dprime, correct rejection rate across trials for all days."
   ]
  },
  {
   "cell_type": "code",
   "execution_count": 29,
   "metadata": {},
   "outputs": [
    {
     "data": {
      "application/vnd.plotly.v1+json": {
       "config": {
        "plotlyServerURL": "https://plot.ly"
       },
       "data": [
        {
         "legendgroup": "thresh3_twoport",
         "line": {
          "color": "darkgrey"
         },
         "mode": "lines",
         "name": "thresh3_twoport",
         "opacity": 0.8,
         "showlegend": false,
         "type": "scatter",
         "x": [
          4,
          8,
          12,
          16,
          20
         ],
         "xaxis": "x",
         "y": [
          0.28822453779565965,
          -0.2624161559066027,
          0.08168866886690727,
          0.11376722485849056,
          0.09309531369187858
         ],
         "yaxis": "y"
        },
        {
         "legendgroup": "thresh3_twoport",
         "line": {
          "width": 0
         },
         "marker": {
          "color": "rgba(169,169,169,0.4)"
         },
         "mode": "lines",
         "name": "Upper Bound",
         "showlegend": false,
         "type": "scatter",
         "x": [
          4,
          8,
          12,
          16,
          20
         ],
         "xaxis": "x",
         "y": [
          0.31151835481894496,
          -0.10769757802958832,
          0.17955078658974205,
          0.38854908382972886,
          null
         ],
         "yaxis": "y"
        },
        {
         "fill": "tonexty",
         "fillcolor": "rgba(169,169,169,0.4)",
         "legendgroup": "thresh3_twoport",
         "line": {
          "width": 0
         },
         "marker": {
          "color": "rgba(169,169,169,0.4)"
         },
         "mode": "lines",
         "name": "Lower Bound",
         "showlegend": false,
         "type": "scatter",
         "x": [
          4,
          8,
          12,
          16,
          20
         ],
         "xaxis": "x",
         "y": [
          0.26493072077237434,
          -0.4171347337836171,
          -0.01617344885592749,
          -0.16101463411274775,
          null
         ],
         "yaxis": "y"
        },
        {
         "legendgroup": "thresh5_twoport",
         "line": {
          "color": "midnightblue"
         },
         "mode": "lines",
         "name": "thresh5_twoport",
         "opacity": 0.8,
         "showlegend": false,
         "type": "scatter",
         "x": [
          4,
          8,
          12,
          16,
          20
         ],
         "xaxis": "x",
         "y": [
          0.03546102091190038,
          0.7317670846902665,
          -0.08050731705637387,
          0.0368950178230959,
          0.36610635680056963
         ],
         "yaxis": "y"
        },
        {
         "legendgroup": "thresh5_twoport",
         "line": {
          "width": 0
         },
         "marker": {
          "color": "rgba(25,25,112,0.4)"
         },
         "mode": "lines",
         "name": "Upper Bound",
         "showlegend": false,
         "type": "scatter",
         "x": [
          4,
          8,
          12,
          16,
          20
         ],
         "xaxis": "x",
         "y": [
          0.3593276535459079,
          1.2489349918775747,
          null,
          null,
          null
         ],
         "yaxis": "y"
        },
        {
         "fill": "tonexty",
         "fillcolor": "rgba(25,25,112,0.4)",
         "legendgroup": "thresh5_twoport",
         "line": {
          "width": 0
         },
         "marker": {
          "color": "rgba(25,25,112,0.4)"
         },
         "mode": "lines",
         "name": "Lower Bound",
         "showlegend": false,
         "type": "scatter",
         "x": [
          4,
          8,
          12,
          16,
          20
         ],
         "xaxis": "x",
         "y": [
          -0.2884056117221071,
          0.21459917750295832,
          null,
          null,
          null
         ],
         "yaxis": "y"
        },
        {
         "legendgroup": "thresh3_twoport",
         "line": {
          "color": "darkgrey"
         },
         "mode": "lines",
         "name": "thresh3_twoport",
         "opacity": 0.8,
         "showlegend": false,
         "type": "scatter",
         "x": [
          4,
          8,
          12,
          16,
          20,
          24,
          28,
          32
         ],
         "xaxis": "x2",
         "y": [
          -0.17184959337925754,
          0.25661511817405364,
          0.4642211921279049,
          0.6218523928872025,
          1.026523267621535,
          0.9857023548350972,
          1.9894747035804485,
          1.5057639205295978
         ],
         "yaxis": "y2"
        },
        {
         "legendgroup": "thresh3_twoport",
         "line": {
          "width": 0
         },
         "marker": {
          "color": "rgba(169,169,169,0.4)"
         },
         "mode": "lines",
         "name": "Upper Bound",
         "showlegend": false,
         "type": "scatter",
         "x": [
          4,
          8,
          12,
          16,
          20,
          24,
          28,
          32
         ],
         "xaxis": "x2",
         "y": [
          0.07475259920513838,
          0.46698048052227337,
          0.7648115036096143,
          0.8239192239989521,
          1.3226978133661307,
          1.1653312180375446,
          null,
          null
         ],
         "yaxis": "y2"
        },
        {
         "fill": "tonexty",
         "fillcolor": "rgba(169,169,169,0.4)",
         "legendgroup": "thresh3_twoport",
         "line": {
          "width": 0
         },
         "marker": {
          "color": "rgba(169,169,169,0.4)"
         },
         "mode": "lines",
         "name": "Lower Bound",
         "showlegend": false,
         "type": "scatter",
         "x": [
          4,
          8,
          12,
          16,
          20,
          24,
          28,
          32
         ],
         "xaxis": "x2",
         "y": [
          -0.41845178596365346,
          0.046249755825833905,
          0.16363088064619558,
          0.4197855617754529,
          0.7303487218769393,
          0.8060734916326496,
          null,
          null
         ],
         "yaxis": "y2"
        },
        {
         "legendgroup": "thresh5_twoport",
         "line": {
          "color": "midnightblue"
         },
         "mode": "lines",
         "name": "thresh5_twoport",
         "opacity": 0.8,
         "showlegend": false,
         "type": "scatter",
         "x": [
          4,
          8,
          12,
          16,
          20,
          24,
          28
         ],
         "xaxis": "x2",
         "y": [
          -0.11450495796041878,
          1.1653312180375446,
          1.5167831926733666,
          1.5167831926733666,
          1.8210759073449112,
          1.4547674591735307,
          1.9489445757363735
         ],
         "yaxis": "y2"
        },
        {
         "legendgroup": "thresh5_twoport",
         "line": {
          "width": 0
         },
         "marker": {
          "color": "rgba(25,25,112,0.4)"
         },
         "mode": "lines",
         "name": "Upper Bound",
         "showlegend": false,
         "type": "scatter",
         "x": [
          4,
          8,
          12,
          16,
          20,
          24,
          28
         ],
         "xaxis": "x2",
         "y": [
          0.4582764076731369,
          null,
          null,
          null,
          null,
          null,
          null
         ],
         "yaxis": "y2"
        },
        {
         "fill": "tonexty",
         "fillcolor": "rgba(25,25,112,0.4)",
         "legendgroup": "thresh5_twoport",
         "line": {
          "width": 0
         },
         "marker": {
          "color": "rgba(25,25,112,0.4)"
         },
         "mode": "lines",
         "name": "Lower Bound",
         "showlegend": false,
         "type": "scatter",
         "x": [
          4,
          8,
          12,
          16,
          20,
          24,
          28
         ],
         "xaxis": "x2",
         "y": [
          -0.6872863235939745,
          null,
          null,
          null,
          null,
          null,
          null
         ],
         "yaxis": "y2"
        },
        {
         "legendgroup": "thresh3_twoport",
         "line": {
          "color": "darkgrey"
         },
         "mode": "lines",
         "name": "thresh3_twoport",
         "opacity": 0.8,
         "showlegend": false,
         "type": "scatter",
         "x": [
          4,
          8,
          12,
          16,
          20,
          24,
          28,
          32,
          36,
          40
         ],
         "xaxis": "x3",
         "y": [
          1.039482145174004,
          1.5769376390209278,
          1.750221229311381,
          1.8210759073449114,
          2.0359112136409534,
          1.4668814855706371,
          2.295264429301605,
          2.3484559606694555,
          2.2642565625516866,
          2.0663469106158434
         ],
         "yaxis": "y3"
        },
        {
         "legendgroup": "thresh3_twoport",
         "line": {
          "width": 0
         },
         "marker": {
          "color": "rgba(169,169,169,0.4)"
         },
         "mode": "lines",
         "name": "Upper Bound",
         "showlegend": false,
         "type": "scatter",
         "x": [
          4,
          8,
          12,
          16,
          20,
          24,
          28,
          32,
          36,
          40
         ],
         "xaxis": "x3",
         "y": [
          1.3240010231930672,
          1.872084539596196,
          2.0958577663161497,
          1.9797212875903816,
          2.128610740858841,
          1.6656367579486306,
          2.432655358787224,
          2.432655358787224,
          null,
          null
         ],
         "yaxis": "y3"
        },
        {
         "fill": "tonexty",
         "fillcolor": "rgba(169,169,169,0.4)",
         "legendgroup": "thresh3_twoport",
         "line": {
          "width": 0
         },
         "marker": {
          "color": "rgba(169,169,169,0.4)"
         },
         "mode": "lines",
         "name": "Lower Bound",
         "showlegend": false,
         "type": "scatter",
         "x": [
          4,
          8,
          12,
          16,
          20,
          24,
          28,
          32,
          36,
          40
         ],
         "xaxis": "x3",
         "y": [
          0.7549632671549407,
          1.2817907384456595,
          1.404584692306612,
          1.6624305270994413,
          1.943211686423066,
          1.2681262131926436,
          2.157873499815986,
          2.264256562551687,
          null,
          null
         ],
         "yaxis": "y3"
        },
        {
         "legendgroup": "thresh5_twoport",
         "line": {
          "color": "midnightblue"
         },
         "mode": "lines",
         "name": "thresh5_twoport",
         "opacity": 0.8,
         "showlegend": false,
         "type": "scatter",
         "x": [
          4,
          8,
          12,
          16,
          20,
          24,
          28,
          32,
          36,
          40
         ],
         "xaxis": "x3",
         "y": [
          0.24578015890754387,
          0.9991421325087414,
          2.2642565625516866,
          2.180057164433918,
          2.432655358787224,
          2.2642565625516866,
          2.066346910615843,
          2.1578734998159854,
          2.0958577663161497,
          1.8540023747907246
         ],
         "yaxis": "y3"
        },
        {
         "legendgroup": "thresh5_twoport",
         "line": {
          "width": 0
         },
         "marker": {
          "color": "rgba(25,25,112,0.4)"
         },
         "mode": "lines",
         "name": "Upper Bound",
         "showlegend": false,
         "type": "scatter",
         "x": [
          4,
          8,
          12,
          16,
          20,
          24,
          28,
          32,
          36,
          40
         ],
         "xaxis": "x3",
         "y": [
          0.6376359831278875,
          2.021995151784727,
          2.4326553587872235,
          2.2642565625516866,
          null,
          null,
          null,
          null,
          null,
          null
         ],
         "yaxis": "y3"
        },
        {
         "fill": "tonexty",
         "fillcolor": "rgba(25,25,112,0.4)",
         "legendgroup": "thresh5_twoport",
         "line": {
          "width": 0
         },
         "marker": {
          "color": "rgba(25,25,112,0.4)"
         },
         "mode": "lines",
         "name": "Lower Bound",
         "showlegend": false,
         "type": "scatter",
         "x": [
          4,
          8,
          12,
          16,
          20,
          24,
          28,
          32,
          36,
          40
         ],
         "xaxis": "x3",
         "y": [
          -0.14607566531279978,
          -0.02371088676724431,
          2.0958577663161497,
          2.0958577663161497,
          null,
          null,
          null,
          null,
          null,
          null
         ],
         "yaxis": "y3"
        },
        {
         "legendgroup": "thresh3_twoport",
         "line": {
          "color": "darkgrey"
         },
         "mode": "lines",
         "name": "thresh3_twoport",
         "opacity": 0.8,
         "showlegend": false,
         "type": "scatter",
         "x": [
          4,
          8,
          12,
          16,
          20,
          24,
          28,
          32
         ],
         "xaxis": "x4",
         "y": [
          1.1394554723582173,
          1.3410382150086502,
          2.1165296774827618,
          2.151990698394662,
          2.0958577663161497,
          1.9894747035804485,
          2.2642565625516866,
          1.4728374530837849
         ],
         "yaxis": "y4"
        },
        {
         "legendgroup": "thresh3_twoport",
         "line": {
          "width": 0
         },
         "marker": {
          "color": "rgba(169,169,169,0.4)"
         },
         "mode": "lines",
         "name": "Upper Bound",
         "showlegend": false,
         "type": "scatter",
         "x": [
          4,
          8,
          12,
          16,
          20,
          24,
          28,
          32
         ],
         "xaxis": "x4",
         "y": [
          1.4170258484021367,
          1.638043884882983,
          2.196522934361873,
          2.2081236304731746,
          2.264256562551687,
          2.432655358787224,
          null,
          null
         ],
         "yaxis": "y4"
        },
        {
         "fill": "tonexty",
         "fillcolor": "rgba(169,169,169,0.4)",
         "legendgroup": "thresh3_twoport",
         "line": {
          "width": 0
         },
         "marker": {
          "color": "rgba(169,169,169,0.4)"
         },
         "mode": "lines",
         "name": "Lower Bound",
         "showlegend": false,
         "type": "scatter",
         "x": [
          4,
          8,
          12,
          16,
          20,
          24,
          28,
          32
         ],
         "xaxis": "x4",
         "y": [
          0.8618850963142979,
          1.0440325451343173,
          2.0365364206036505,
          2.0958577663161497,
          1.9274589700806124,
          1.5462940483736731,
          null,
          null
         ],
         "yaxis": "y4"
        },
        {
         "legendgroup": "thresh5_twoport",
         "line": {
          "color": "midnightblue"
         },
         "mode": "lines",
         "name": "thresh5_twoport",
         "opacity": 0.8,
         "showlegend": false,
         "type": "scatter",
         "x": [
          4,
          8,
          12,
          16,
          20,
          24,
          28,
          32
         ],
         "xaxis": "x4",
         "y": [
          0.9063364761780024,
          1.4558328303302088,
          1.6838084611903283,
          2.2642565625516866,
          2.0958577663161497,
          2.432655358787224,
          2.432655358787224,
          1.9489445757363735
         ],
         "yaxis": "y4"
        },
        {
         "legendgroup": "thresh5_twoport",
         "line": {
          "width": 0
         },
         "marker": {
          "color": "rgba(25,25,112,0.4)"
         },
         "mode": "lines",
         "name": "Upper Bound",
         "showlegend": false,
         "type": "scatter",
         "x": [
          4,
          8,
          12,
          16,
          20,
          24,
          28,
          32
         ],
         "xaxis": "x4",
         "y": [
          1.5261254021937356,
          2.264256562551687,
          2.264256562551687,
          2.4326553587872235,
          2.432655358787224,
          null,
          null,
          null
         ],
         "yaxis": "y4"
        },
        {
         "fill": "tonexty",
         "fillcolor": "rgba(25,25,112,0.4)",
         "legendgroup": "thresh5_twoport",
         "line": {
          "width": 0
         },
         "marker": {
          "color": "rgba(25,25,112,0.4)"
         },
         "mode": "lines",
         "name": "Lower Bound",
         "showlegend": false,
         "type": "scatter",
         "x": [
          4,
          8,
          12,
          16,
          20,
          24,
          28,
          32
         ],
         "xaxis": "x4",
         "y": [
          0.2865475501622692,
          0.6474090981087306,
          1.1033603598289696,
          2.0958577663161497,
          1.7590601738450755,
          null,
          null,
          null
         ],
         "yaxis": "y4"
        },
        {
         "legendgroup": "thresh3_twoport",
         "line": {
          "color": "darkgrey"
         },
         "mode": "lines",
         "name": "thresh3_twoport",
         "opacity": 0.8,
         "showlegend": false,
         "type": "scatter",
         "x": [
          4,
          8,
          12,
          16,
          20,
          24,
          28,
          32,
          36,
          40
         ],
         "xaxis": "x5",
         "y": [
          1.2750683310300361,
          1.7732433810668216,
          1.8991598177206326,
          2.1933345207278863,
          2.1726626095612738,
          1.8379341979148391,
          1.8064215251801639,
          1.9274589700806124,
          1.8210759073449112,
          1.6231662554090678
         ],
         "yaxis": "y5"
        },
        {
         "legendgroup": "thresh3_twoport",
         "line": {
          "width": 0
         },
         "marker": {
          "color": "rgba(169,169,169,0.4)"
         },
         "mode": "lines",
         "name": "Upper Bound",
         "showlegend": false,
         "type": "scatter",
         "x": [
          4,
          8,
          12,
          16,
          20,
          24,
          28,
          32,
          36,
          40
         ],
         "xaxis": "x5",
         "y": [
          1.6414400571954786,
          2.264256562551687,
          2.045915413145839,
          2.3224925457598373,
          2.3550536231601966,
          1.8830916408447471,
          null,
          null,
          null,
          null
         ],
         "yaxis": "y5"
        },
        {
         "fill": "tonexty",
         "fillcolor": "rgba(169,169,169,0.4)",
         "legendgroup": "thresh3_twoport",
         "line": {
          "width": 0
         },
         "marker": {
          "color": "rgba(169,169,169,0.4)"
         },
         "mode": "lines",
         "name": "Lower Bound",
         "showlegend": false,
         "type": "scatter",
         "x": [
          4,
          8,
          12,
          16,
          20,
          24,
          28,
          32,
          36,
          40
         ],
         "xaxis": "x5",
         "y": [
          0.9086966048645937,
          1.2822301995819563,
          1.7524042222954264,
          2.064176495695935,
          1.9902715959623507,
          1.7927767549849312,
          null,
          null,
          null,
          null
         ],
         "yaxis": "y5"
        },
        {
         "legendgroup": "thresh5_twoport",
         "line": {
          "color": "midnightblue"
         },
         "mode": "lines",
         "name": "thresh5_twoport",
         "opacity": 0.8,
         "showlegend": false,
         "type": "scatter",
         "x": [
          4,
          8,
          12,
          16,
          20,
          24,
          28,
          32,
          36,
          40,
          44
         ],
         "xaxis": "x5",
         "y": [
          1.4961786452970252,
          2.2081236304731746,
          2.151990698394662,
          2.376522426708712,
          2.2849284737182987,
          2.1101815034199904,
          2.0901373354211237,
          2.295264429301605,
          2.1268656330660676,
          2.0958577663161497,
          0.49781222658382196
         ],
         "yaxis": "y5"
        },
        {
         "legendgroup": "thresh5_twoport",
         "line": {
          "width": 0
         },
         "marker": {
          "color": "rgba(25,25,112,0.4)"
         },
         "mode": "lines",
         "name": "Upper Bound",
         "showlegend": false,
         "type": "scatter",
         "x": [
          4,
          8,
          12,
          16,
          20,
          24,
          28,
          32,
          36,
          40,
          44
         ],
         "xaxis": "x5",
         "y": [
          2.0466992385560703,
          2.3566374091137985,
          2.354380863245876,
          2.4326553587872244,
          2.3649217305974104,
          2.432655358787224,
          2.264256562551687,
          2.432655358787224,
          2.432655358787224,
          null,
          null
         ],
         "yaxis": "y5"
        },
        {
         "fill": "tonexty",
         "fillcolor": "rgba(25,25,112,0.4)",
         "legendgroup": "thresh5_twoport",
         "line": {
          "width": 0
         },
         "marker": {
          "color": "rgba(25,25,112,0.4)"
         },
         "mode": "lines",
         "name": "Lower Bound",
         "showlegend": false,
         "type": "scatter",
         "x": [
          4,
          8,
          12,
          16,
          20,
          24,
          28,
          32,
          36,
          40,
          44
         ],
         "xaxis": "x5",
         "y": [
          0.9456580520379803,
          2.0596098518325507,
          1.9496005335434483,
          2.3203894946301995,
          2.204935216839187,
          1.7877076480527567,
          1.9160181082905603,
          2.157873499815986,
          1.8210759073449112,
          null,
          null
         ],
         "yaxis": "y5"
        },
        {
         "legendgroup": "thresh3_twoport",
         "line": {
          "color": "darkgrey"
         },
         "mode": "lines",
         "name": "thresh3_twoport",
         "opacity": 0.8,
         "showlegend": false,
         "type": "scatter",
         "x": [
          4,
          8,
          12,
          16,
          20,
          24,
          28
         ],
         "xaxis": "x6",
         "y": [
          1.5730566546339737,
          1.9944268614256346,
          2.0603967454042493,
          1.9894747035804485,
          1.9894747035804485,
          1.4547674591735307,
          0.49781222658382196
         ],
         "yaxis": "y6"
        },
        {
         "legendgroup": "thresh3_twoport",
         "line": {
          "width": 0
         },
         "marker": {
          "color": "rgba(169,169,169,0.4)"
         },
         "mode": "lines",
         "name": "Upper Bound",
         "showlegend": false,
         "type": "scatter",
         "x": [
          4,
          8,
          12,
          16,
          20,
          24,
          28
         ],
         "xaxis": "x6",
         "y": [
          1.5870717570667914,
          2.186316905312089,
          2.134279707507083,
          null,
          null,
          null,
          null
         ],
         "yaxis": "y6"
        },
        {
         "fill": "tonexty",
         "fillcolor": "rgba(169,169,169,0.4)",
         "legendgroup": "thresh3_twoport",
         "line": {
          "width": 0
         },
         "marker": {
          "color": "rgba(169,169,169,0.4)"
         },
         "mode": "lines",
         "name": "Lower Bound",
         "showlegend": false,
         "type": "scatter",
         "x": [
          4,
          8,
          12,
          16,
          20,
          24,
          28
         ],
         "xaxis": "x6",
         "y": [
          1.559041552201156,
          1.8025368175391805,
          1.9865137833014157,
          null,
          null,
          null,
          null
         ],
         "yaxis": "y6"
        },
        {
         "legendgroup": "thresh5_twoport",
         "line": {
          "color": "midnightblue"
         },
         "mode": "lines",
         "name": "thresh5_twoport",
         "opacity": 0.8,
         "showlegend": false,
         "type": "scatter",
         "x": [
          4,
          8,
          12,
          16,
          20,
          24,
          28,
          32,
          36,
          40,
          44
         ],
         "xaxis": "x6",
         "y": [
          1.5732645483063383,
          2.264256562551687,
          2.2081236304731746,
          2.1165296774827618,
          2.0860208144160475,
          2.151990698394662,
          1.897948114380306,
          1.9217385391855868,
          2.264256562551687,
          2.2642565625516866,
          1.8830916408447473
         ],
         "yaxis": "y6"
        },
        {
         "legendgroup": "thresh5_twoport",
         "line": {
          "width": 0
         },
         "marker": {
          "color": "rgba(25,25,112,0.4)"
         },
         "mode": "lines",
         "name": "Upper Bound",
         "showlegend": false,
         "type": "scatter",
         "x": [
          4,
          8,
          12,
          16,
          20,
          24,
          28,
          32,
          36,
          40,
          44
         ],
         "xaxis": "x6",
         "y": [
          1.694966571934698,
          2.3614816528894833,
          2.264256562551687,
          2.215928098508817,
          2.191879279700982,
          2.264256562551687,
          2.432655358787224,
          2.264256562551687,
          null,
          null,
          null
         ],
         "yaxis": "y6"
        },
        {
         "fill": "tonexty",
         "fillcolor": "rgba(25,25,112,0.4)",
         "legendgroup": "thresh5_twoport",
         "line": {
          "width": 0
         },
         "marker": {
          "color": "rgba(25,25,112,0.4)"
         },
         "mode": "lines",
         "name": "Lower Bound",
         "showlegend": false,
         "type": "scatter",
         "x": [
          4,
          8,
          12,
          16,
          20,
          24,
          28,
          32,
          36,
          40,
          44
         ],
         "xaxis": "x6",
         "y": [
          1.4515625246779786,
          2.167031472213891,
          2.151990698394662,
          2.0171312564567065,
          1.980162349131113,
          2.0397248342376373,
          1.3632408699733882,
          1.5792205158194865,
          null,
          null,
          null
         ],
         "yaxis": "y6"
        },
        {
         "legendgroup": "thresh3_twoport",
         "line": {
          "color": "darkgrey"
         },
         "mode": "lines",
         "name": "thresh3_twoport",
         "opacity": 0.8,
         "showlegend": false,
         "type": "scatter",
         "x": [
          4,
          8,
          12,
          16,
          20,
          24,
          28,
          32,
          36,
          40,
          44
         ],
         "xaxis": "x7",
         "y": [
          0.1269876101120428,
          -0.05987338658337227,
          0.6840818223609574,
          0.7865839007097041,
          1.1053846653623483,
          1.4400457132185125,
          1.6230988916187974,
          1.592657392342354,
          1.637888001364086,
          1.485211016413456,
          1.7610561885778906
         ],
         "yaxis": "y7"
        },
        {
         "legendgroup": "thresh3_twoport",
         "line": {
          "width": 0
         },
         "marker": {
          "color": "rgba(169,169,169,0.4)"
         },
         "mode": "lines",
         "name": "Upper Bound",
         "showlegend": false,
         "type": "scatter",
         "x": [
          4,
          8,
          12,
          16,
          20,
          24,
          28,
          32,
          36,
          40,
          44
         ],
         "xaxis": "x7",
         "y": [
          0.3163273768818654,
          0.16809536833291253,
          1.0801361214010556,
          1.084578707132931,
          1.3333564806017428,
          1.7693866843261477,
          1.7566734790806442,
          1.8362953596722769,
          1.7294819543544986,
          1.6931684804883063,
          2.066279546825573
         ],
         "yaxis": "y7"
        },
        {
         "fill": "tonexty",
         "fillcolor": "rgba(169,169,169,0.4)",
         "legendgroup": "thresh3_twoport",
         "line": {
          "width": 0
         },
         "marker": {
          "color": "rgba(169,169,169,0.4)"
         },
         "mode": "lines",
         "name": "Lower Bound",
         "showlegend": false,
         "type": "scatter",
         "x": [
          4,
          8,
          12,
          16,
          20,
          24,
          28,
          32,
          36,
          40,
          44
         ],
         "xaxis": "x7",
         "y": [
          -0.06235215665777982,
          -0.28784214149965703,
          0.2880275233208591,
          0.4885890942864773,
          0.8774128501229536,
          1.1107047421108773,
          1.4895243041569506,
          1.349019425012431,
          1.5462940483736733,
          1.2772535523386057,
          1.4558328303302082
         ],
         "yaxis": "y7"
        },
        {
         "legendgroup": "thresh5_twoport",
         "line": {
          "color": "midnightblue"
         },
         "mode": "lines",
         "name": "thresh5_twoport",
         "opacity": 0.8,
         "showlegend": false,
         "type": "scatter",
         "x": [
          4,
          8,
          12,
          16,
          20,
          24,
          28,
          32,
          36
         ],
         "xaxis": "x7",
         "y": [
          -0.03303761423124755,
          0.3467077104630006,
          -0.23329750675591984,
          1.3100493386055376,
          1.7458017570445337,
          1.8447565830124555,
          1.9127035422304592,
          1.4400120313233775,
          0.7916386077433746
         ],
         "yaxis": "y7"
        },
        {
         "legendgroup": "thresh5_twoport",
         "line": {
          "width": 0
         },
         "marker": {
          "color": "rgba(25,25,112,0.4)"
         },
         "mode": "lines",
         "name": "Upper Bound",
         "showlegend": false,
         "type": "scatter",
         "x": [
          4,
          8,
          12,
          16,
          20,
          24,
          28,
          32,
          36
         ],
         "xaxis": "x7",
         "y": [
          0.30010055125782165,
          0.6962098956726226,
          -0.06343111347830113,
          1.5611505219092319,
          2.432655358787224,
          2.432655358787224,
          2.0958577663161497,
          1.7295493181447692,
          null
         ],
         "yaxis": "y7"
        },
        {
         "fill": "tonexty",
         "fillcolor": "rgba(25,25,112,0.4)",
         "legendgroup": "thresh5_twoport",
         "line": {
          "width": 0
         },
         "marker": {
          "color": "rgba(25,25,112,0.4)"
         },
         "mode": "lines",
         "name": "Lower Bound",
         "showlegend": false,
         "type": "scatter",
         "x": [
          4,
          8,
          12,
          16,
          20,
          24,
          28,
          32,
          36
         ],
         "xaxis": "x7",
         "y": [
          -0.3661757797203168,
          -0.002794474746621478,
          -0.4031639000335385,
          1.0589481553018434,
          1.0589481553018434,
          1.256857807237687,
          1.729549318144769,
          1.1504747445019858,
          null
         ],
         "yaxis": "y7"
        },
        {
         "legendgroup": "thresh3_twoport",
         "line": {
          "color": "darkgrey"
         },
         "mode": "lines",
         "name": "thresh3_twoport",
         "opacity": 0.8,
         "showlegend": false,
         "type": "scatter",
         "x": [
          4,
          8,
          12,
          16,
          20,
          24,
          28,
          32,
          36,
          40,
          44
         ],
         "xaxis": "x8",
         "y": [
          0.3542324024678846,
          1.43007403373787,
          1.592657392342354,
          1.8063541613898932,
          1.88216099726861,
          1.9333417715019363,
          1.857675465505314,
          1.6852830345943093,
          1.6232673010944731,
          1.5429736291586391,
          0.46431793901483526
         ],
         "yaxis": "y8"
        },
        {
         "legendgroup": "thresh3_twoport",
         "line": {
          "width": 0
         },
         "marker": {
          "color": "rgba(169,169,169,0.4)"
         },
         "mode": "lines",
         "name": "Upper Bound",
         "showlegend": false,
         "type": "scatter",
         "x": [
          4,
          8,
          12,
          16,
          20,
          24,
          28,
          32,
          36,
          40,
          44
         ],
         "xaxis": "x8",
         "y": [
          0.5603246781253605,
          1.5359324990228043,
          1.7850163925888074,
          2.121001314068358,
          2.020482176505634,
          2.195297118422424,
          2.15278716004466,
          2.432655358787224,
          2.2642565625516866,
          2.157873499815986,
          null
         ],
         "yaxis": "y8"
        },
        {
         "fill": "tonexty",
         "fillcolor": "rgba(169,169,169,0.4)",
         "legendgroup": "thresh3_twoport",
         "line": {
          "width": 0
         },
         "marker": {
          "color": "rgba(169,169,169,0.4)"
         },
         "mode": "lines",
         "name": "Lower Bound",
         "showlegend": false,
         "type": "scatter",
         "x": [
          4,
          8,
          12,
          16,
          20,
          24,
          28,
          32,
          36,
          40,
          44
         ],
         "xaxis": "x8",
         "y": [
          0.1481401268104088,
          1.3242155684529355,
          1.4002983920959005,
          1.4917070087114284,
          1.743839818031586,
          1.6713864245814485,
          1.5625637709659679,
          0.9379107104013945,
          0.9822780396372598,
          0.9280737585012924,
          null
         ],
         "yaxis": "y8"
        },
        {
         "legendgroup": "thresh5_twoport",
         "line": {
          "color": "midnightblue"
         },
         "mode": "lines",
         "name": "thresh5_twoport",
         "opacity": 0.8,
         "showlegend": false,
         "type": "scatter",
         "x": [
          4,
          8,
          12,
          16,
          20,
          24,
          28,
          32
         ],
         "xaxis": "x8",
         "y": [
          0.6229967324372586,
          0.7485883263317165,
          1.5700757697266228,
          1.738584315099896,
          1.8210759073449114,
          1.439910985637972,
          2.264256562551687,
          2.0958577663161497
         ],
         "yaxis": "y8"
        },
        {
         "legendgroup": "thresh5_twoport",
         "line": {
          "width": 0
         },
         "marker": {
          "color": "rgba(25,25,112,0.4)"
         },
         "mode": "lines",
         "name": "Upper Bound",
         "showlegend": false,
         "type": "scatter",
         "x": [
          4,
          8,
          12,
          16,
          20,
          24,
          28,
          32
         ],
         "xaxis": "x8",
         "y": [
          1.1001210181506635,
          1.287145920099375,
          2.264256562551687,
          2.2642565625516866,
          2.0958577663161497,
          null,
          null,
          null
         ],
         "yaxis": "y8"
        },
        {
         "fill": "tonexty",
         "fillcolor": "rgba(25,25,112,0.4)",
         "legendgroup": "thresh5_twoport",
         "line": {
          "width": 0
         },
         "marker": {
          "color": "rgba(25,25,112,0.4)"
         },
         "mode": "lines",
         "name": "Lower Bound",
         "showlegend": false,
         "type": "scatter",
         "x": [
          4,
          8,
          12,
          16,
          20,
          24,
          28,
          32
         ],
         "xaxis": "x8",
         "y": [
          0.14587244672385374,
          0.21003073256405802,
          0.8758949769015586,
          1.2129120676481056,
          1.5462940483736731,
          null,
          null,
          null
         ],
         "yaxis": "y8"
        },
        {
         "legendgroup": "thresh3_twoport",
         "line": {
          "color": "darkgrey"
         },
         "mode": "lines",
         "name": "thresh3_twoport",
         "opacity": 0.8,
         "showlegend": false,
         "type": "scatter",
         "x": [
          4,
          8,
          12,
          16,
          20,
          24,
          28,
          32,
          36,
          40
         ],
         "xaxis": "x9",
         "y": [
          0.5827182812607127,
          1.62430479265757,
          2.1066927255826595,
          2.1726626095612738,
          1.9491288886136322,
          1.8624870934684055,
          1.862487093468406,
          1.6133966672992361,
          1.3839127811400003,
          0.9380864256817029
         ],
         "yaxis": "y9"
        },
        {
         "legendgroup": "thresh3_twoport",
         "line": {
          "width": 0
         },
         "marker": {
          "color": "rgba(169,169,169,0.4)"
         },
         "mode": "lines",
         "name": "Upper Bound",
         "showlegend": false,
         "type": "scatter",
         "x": [
          4,
          8,
          12,
          16,
          20,
          24,
          28,
          32,
          36,
          40
         ],
         "xaxis": "x9",
         "y": [
          0.7293066290811356,
          2.133087150331657,
          2.2718017883430996,
          2.4326553587872235,
          2.212859159511085,
          2.27585306265147,
          2.148792971400357,
          2.045155828099507,
          1.5587391148897527,
          1.5092794523457211
         ],
         "yaxis": "y9"
        },
        {
         "fill": "tonexty",
         "fillcolor": "rgba(169,169,169,0.4)",
         "legendgroup": "thresh3_twoport",
         "line": {
          "width": 0
         },
         "marker": {
          "color": "rgba(169,169,169,0.4)"
         },
         "mode": "lines",
         "name": "Lower Bound",
         "showlegend": false,
         "type": "scatter",
         "x": [
          4,
          8,
          12,
          16,
          20,
          24,
          28,
          32,
          36,
          40
         ],
         "xaxis": "x9",
         "y": [
          0.4361299334402897,
          1.1155224349834827,
          1.9415836628222192,
          1.9126698603353238,
          1.685398617716179,
          1.449121124285341,
          1.576181215536455,
          1.1816375064989653,
          1.2090864473902478,
          0.3668933990176846
         ],
         "yaxis": "y9"
        },
        {
         "legendgroup": "thresh5_twoport",
         "line": {
          "color": "midnightblue"
         },
         "mode": "lines",
         "name": "thresh5_twoport",
         "opacity": 0.8,
         "showlegend": false,
         "type": "scatter",
         "x": [
          4,
          8,
          12,
          16,
          20,
          24,
          28
         ],
         "xaxis": "x9",
         "y": [
          0.9208739092557616,
          1.9688027924138367,
          1.8991598177206324,
          1.9089236035289103,
          2.1066927255826595,
          1.9894747035804485,
          1.5826361275649927
         ],
         "yaxis": "y9"
        },
        {
         "legendgroup": "thresh5_twoport",
         "line": {
          "width": 0
         },
         "marker": {
          "color": "rgba(25,25,112,0.4)"
         },
         "mode": "lines",
         "name": "Upper Bound",
         "showlegend": false,
         "type": "scatter",
         "x": [
          4,
          8,
          12,
          16,
          20,
          24,
          28
         ],
         "xaxis": "x9",
         "y": [
          1.613079681669408,
          2.1855782274737097,
          2.1185744962926853,
          2.2642565625516866,
          2.3532949181670553,
          2.0746426375033056,
          1.7000384624444624
         ],
         "yaxis": "y9"
        },
        {
         "fill": "tonexty",
         "fillcolor": "rgba(25,25,112,0.4)",
         "legendgroup": "thresh5_twoport",
         "line": {
          "width": 0
         },
         "marker": {
          "color": "rgba(25,25,112,0.4)"
         },
         "mode": "lines",
         "name": "Lower Bound",
         "showlegend": false,
         "type": "scatter",
         "x": [
          4,
          8,
          12,
          16,
          20,
          24,
          28
         ],
         "xaxis": "x9",
         "y": [
          0.22866813684211518,
          1.7520273573539635,
          1.6797451391485794,
          1.553590644506134,
          1.8600905329982638,
          1.9043067696575915,
          1.465233792685523
         ],
         "yaxis": "y9"
        },
        {
         "legendgroup": "thresh3_twoport",
         "line": {
          "color": "darkgrey"
         },
         "mode": "lines",
         "name": "thresh3_twoport",
         "opacity": 0.8,
         "showlegend": false,
         "type": "scatter",
         "x": [
          4,
          8,
          12,
          16,
          20,
          24,
          28,
          32,
          36,
          40,
          44,
          48
         ],
         "xaxis": "x10",
         "y": [
          0.7842336601208754,
          1.8831590046350177,
          2.376522426708712,
          2.1726626095612738,
          2.1726626095612738,
          2.320389494630199,
          2.254419610651585,
          2.015166136382517,
          1.6783011801211725,
          1.249530616155313,
          1.7238288872497427,
          1.201892795504337
         ],
         "yaxis": "y10"
        },
        {
         "legendgroup": "thresh3_twoport",
         "line": {
          "width": 0
         },
         "marker": {
          "color": "rgba(169,169,169,0.4)"
         },
         "mode": "lines",
         "name": "Upper Bound",
         "showlegend": false,
         "type": "scatter",
         "x": [
          4,
          8,
          12,
          16,
          20,
          24,
          28,
          32,
          36,
          40,
          44,
          48
         ],
         "xaxis": "x10",
         "y": [
          1.1579275916589253,
          2.3509885001167707,
          2.4326553587872244,
          2.3550536231601966,
          2.306237197023121,
          2.432655358787224,
          2.3602780759365194,
          2.2642565625516866,
          1.7195695455338955,
          1.8210759073449112,
          2.066346910615843,
          1.6121469832652995
         ],
         "yaxis": "y10"
        },
        {
         "fill": "tonexty",
         "fillcolor": "rgba(169,169,169,0.4)",
         "legendgroup": "thresh3_twoport",
         "line": {
          "width": 0
         },
         "marker": {
          "color": "rgba(169,169,169,0.4)"
         },
         "mode": "lines",
         "name": "Lower Bound",
         "showlegend": false,
         "type": "scatter",
         "x": [
          4,
          8,
          12,
          16,
          20,
          24,
          28,
          32,
          36,
          40,
          44,
          48
         ],
         "xaxis": "x10",
         "y": [
          0.4105397285828253,
          1.4153295091532647,
          2.3203894946301995,
          1.9902715959623507,
          2.0390880220994267,
          2.208123630473174,
          2.14856114536665,
          1.7660757102133473,
          1.6370328147084494,
          0.677985324965715,
          1.3813108638836424,
          0.7916386077433746
         ],
         "yaxis": "y10"
        },
        {
         "legendgroup": "thresh5_twoport",
         "line": {
          "color": "midnightblue"
         },
         "mode": "lines",
         "name": "thresh5_twoport",
         "opacity": 0.8,
         "showlegend": false,
         "type": "scatter",
         "x": [
          4,
          8,
          12,
          16,
          20,
          24,
          28,
          32
         ],
         "xaxis": "x10",
         "y": [
          1.4935767280406675,
          1.7965172094897912,
          2.0310264195860377,
          2.2642565625516866,
          1.912669860335324,
          2.264256562551687,
          1.9894747035804485,
          1.3993808577938969
         ],
         "yaxis": "y10"
        },
        {
         "legendgroup": "thresh5_twoport",
         "line": {
          "width": 0
         },
         "marker": {
          "color": "rgba(25,25,112,0.4)"
         },
         "mode": "lines",
         "name": "Upper Bound",
         "showlegend": false,
         "type": "scatter",
         "x": [
          4,
          8,
          12,
          16,
          20,
          24,
          28,
          32
         ],
         "xaxis": "x10",
         "y": [
          1.986202320619937,
          2.136255594320882,
          2.239542075689117,
          2.361481652889483,
          2.0958577663161497,
          null,
          null,
          null
         ],
         "yaxis": "y10"
        },
        {
         "fill": "tonexty",
         "fillcolor": "rgba(25,25,112,0.4)",
         "legendgroup": "thresh5_twoport",
         "line": {
          "width": 0
         },
         "marker": {
          "color": "rgba(25,25,112,0.4)"
         },
         "mode": "lines",
         "name": "Lower Bound",
         "showlegend": false,
         "type": "scatter",
         "x": [
          4,
          8,
          12,
          16,
          20,
          24,
          28,
          32
         ],
         "xaxis": "x10",
         "y": [
          1.000951135461398,
          1.4567788246587003,
          1.8225107634829585,
          2.1670314722138904,
          1.7294819543544984,
          null,
          null,
          null
         ],
         "yaxis": "y10"
        },
        {
         "legendgroup": "thresh3_twoport",
         "line": {
          "color": "darkgrey"
         },
         "mode": "lines",
         "name": "thresh3_twoport",
         "opacity": 0.8,
         "showlegend": false,
         "type": "scatter",
         "x": [
          4,
          8,
          12,
          16,
          20,
          24,
          28,
          32,
          36,
          40,
          44
         ],
         "xaxis": "x11",
         "y": [
          1.424325959897087,
          2.264256562551687,
          2.151990698394662,
          2.151990698394662,
          2.1726626095612738,
          2.2287955416397867,
          2.320389494630199,
          2.2287955416397867,
          2.172662609561274,
          1.9284569774470202,
          1.934620838632533
         ],
         "yaxis": "y11"
        },
        {
         "legendgroup": "thresh3_twoport",
         "line": {
          "width": 0
         },
         "marker": {
          "color": "rgba(169,169,169,0.4)"
         },
         "mode": "lines",
         "name": "Upper Bound",
         "showlegend": false,
         "type": "scatter",
         "x": [
          4,
          8,
          12,
          16,
          20,
          24,
          28,
          32,
          36,
          40,
          44
         ],
         "xaxis": "x11",
         "y": [
          1.622299624215488,
          2.3614816528894833,
          2.2081236304731746,
          2.300504477035286,
          2.306237197023121,
          2.3322856483906587,
          2.3765224267087115,
          2.264256562551687,
          2.22183433913796,
          2.060623510496898,
          2.1872237277957858
         ],
         "yaxis": "y11"
        },
        {
         "fill": "tonexty",
         "fillcolor": "rgba(169,169,169,0.4)",
         "legendgroup": "thresh3_twoport",
         "line": {
          "width": 0
         },
         "marker": {
          "color": "rgba(169,169,169,0.4)"
         },
         "mode": "lines",
         "name": "Lower Bound",
         "showlegend": false,
         "type": "scatter",
         "x": [
          4,
          8,
          12,
          16,
          20,
          24,
          28,
          32,
          36,
          40,
          44
         ],
         "xaxis": "x11",
         "y": [
          1.226352295578686,
          2.167031472213891,
          2.0958577663161497,
          2.0034769197540383,
          2.0390880220994267,
          2.1253054348889147,
          2.2642565625516866,
          2.1933345207278863,
          2.1234908799845886,
          1.7962904443971421,
          1.6820179494692802
         ],
         "yaxis": "y11"
        },
        {
         "legendgroup": "thresh5_twoport",
         "line": {
          "color": "midnightblue"
         },
         "mode": "lines",
         "name": "thresh5_twoport",
         "opacity": 0.8,
         "showlegend": false,
         "type": "scatter",
         "x": [
          4,
          8,
          12,
          16,
          20,
          24,
          28,
          32,
          36,
          40,
          44
         ],
         "xaxis": "x11",
         "y": [
          1.4193064382616303,
          2.0603967454042493,
          2.1726626095612738,
          2.004263813325737,
          1.9481308812472247,
          1.943711408980377,
          1.9894747035804485,
          2.2642565625516866,
          1.8520837740948295,
          2.2081236304731746,
          1.465233792685523
         ],
         "yaxis": "y11"
        },
        {
         "legendgroup": "thresh5_twoport",
         "line": {
          "width": 0
         },
         "marker": {
          "color": "rgba(25,25,112,0.4)"
         },
         "mode": "lines",
         "name": "Upper Bound",
         "showlegend": false,
         "type": "scatter",
         "x": [
          4,
          8,
          12,
          16,
          20,
          24,
          28,
          32,
          36,
          40,
          44
         ],
         "xaxis": "x11",
         "y": [
          1.662152991896157,
          2.189554770436201,
          2.306237197023121,
          2.137838400787584,
          2.1923318340236992,
          2.2642565625516866,
          2.432655358787224,
          2.4326553587872235,
          2.264256562551687,
          2.4326553587872244,
          null
         ],
         "yaxis": "y11"
        },
        {
         "fill": "tonexty",
         "fillcolor": "rgba(25,25,112,0.4)",
         "legendgroup": "thresh5_twoport",
         "line": {
          "width": 0
         },
         "marker": {
          "color": "rgba(25,25,112,0.4)"
         },
         "mode": "lines",
         "name": "Lower Bound",
         "showlegend": false,
         "type": "scatter",
         "x": [
          4,
          8,
          12,
          16,
          20,
          24,
          28,
          32,
          36,
          40,
          44
         ],
         "xaxis": "x11",
         "y": [
          1.1764598846271035,
          1.931238720372298,
          2.0390880220994267,
          1.8706892258638899,
          1.7039299284707499,
          1.6231662554090676,
          1.5462940483736731,
          2.0958577663161497,
          1.439910985637972,
          1.983591902159125,
          null
         ],
         "yaxis": "y11"
        },
        {
         "legendgroup": "thresh3_twoport",
         "line": {
          "color": "darkgrey"
         },
         "mode": "lines",
         "name": "thresh3_twoport",
         "opacity": 0.8,
         "showlegend": false,
         "type": "scatter",
         "x": [
          4,
          8,
          12,
          16,
          20,
          24,
          28,
          32,
          36,
          40,
          44,
          48,
          52,
          56,
          60
         ],
         "xaxis": "x12",
         "y": [
          0.5215658275467436,
          1.3960268075371067,
          1.7403842774112788,
          2.0958577663161497,
          2.137201588649374,
          2.1165296774827618,
          2.2081236304731746,
          1.818541353878824,
          1.7024618691251152,
          2.249501134701534,
          1.9437114089803773,
          2.0736741016982174,
          1.9417827071844531,
          1.6380227289446267,
          1.9489445757363735
         ],
         "yaxis": "y12"
        },
        {
         "legendgroup": "thresh3_twoport",
         "line": {
          "width": 0
         },
         "marker": {
          "color": "rgba(169,169,169,0.4)"
         },
         "mode": "lines",
         "name": "Upper Bound",
         "showlegend": false,
         "type": "scatter",
         "x": [
          4,
          8,
          12,
          16,
          20,
          24,
          28,
          32,
          36,
          40,
          44,
          48,
          52,
          56,
          60
         ],
         "xaxis": "x12",
         "y": [
          0.970448648975085,
          2.2696832764560235,
          2.2036130151996485,
          2.193082856653946,
          2.2171948455284856,
          2.264256562551687,
          2.3566374091137985,
          2.2083647718663664,
          2.1412912262692214,
          2.4326553587872244,
          2.0958577663161497,
          2.2642565625516875,
          2.0958577663161497,
          null,
          null
         ],
         "yaxis": "y12"
        },
        {
         "fill": "tonexty",
         "fillcolor": "rgba(169,169,169,0.4)",
         "legendgroup": "thresh3_twoport",
         "line": {
          "width": 0
         },
         "marker": {
          "color": "rgba(169,169,169,0.4)"
         },
         "mode": "lines",
         "name": "Lower Bound",
         "showlegend": false,
         "type": "scatter",
         "x": [
          4,
          8,
          12,
          16,
          20,
          24,
          28,
          32,
          36,
          40,
          44,
          48,
          52,
          56,
          60
         ],
         "xaxis": "x12",
         "y": [
          0.07268300611840223,
          0.5223703386181899,
          1.277155539622909,
          1.9986326759783535,
          2.057208331770262,
          1.9688027924138365,
          2.0596098518325507,
          1.4287179358912816,
          1.263632511981009,
          2.0663469106158434,
          1.791565051644605,
          1.8830916408447473,
          1.7877076480527565,
          null,
          null
         ],
         "yaxis": "y12"
        },
        {
         "legendgroup": "thresh5_twoport",
         "line": {
          "color": "midnightblue"
         },
         "mode": "lines",
         "name": "thresh5_twoport",
         "opacity": 0.8,
         "showlegend": false,
         "type": "scatter",
         "x": [
          4,
          8,
          12,
          16,
          20,
          24,
          28,
          32,
          36,
          40,
          44
         ],
         "xaxis": "x12",
         "y": [
          2.117668214731264,
          2.320389494630199,
          2.320389494630199,
          2.2287955416397867,
          2.2690311415863005,
          2.2110650311838365,
          2.1268656330660676,
          1.9894747035804485,
          1.9894747035804485,
          2.264256562551687,
          0.49781222658382196
         ],
         "yaxis": "y12"
        },
        {
         "legendgroup": "thresh5_twoport",
         "line": {
          "width": 0
         },
         "marker": {
          "color": "rgba(25,25,112,0.4)"
         },
         "mode": "lines",
         "name": "Upper Bound",
         "showlegend": false,
         "type": "scatter",
         "x": [
          4,
          8,
          12,
          16,
          20,
          24,
          28,
          32,
          36,
          40,
          44
         ],
         "xaxis": "x12",
         "y": [
          2.4326553587872244,
          2.432655358787224,
          2.3765224267087115,
          2.3579535666717377,
          2.3621519310706582,
          2.264256562551687,
          2.2642565625516866,
          null,
          null,
          null,
          null
         ],
         "yaxis": "y12"
        },
        {
         "fill": "tonexty",
         "fillcolor": "rgba(25,25,112,0.4)",
         "legendgroup": "thresh5_twoport",
         "line": {
          "width": 0
         },
         "marker": {
          "color": "rgba(25,25,112,0.4)"
         },
         "mode": "lines",
         "name": "Lower Bound",
         "showlegend": false,
         "type": "scatter",
         "x": [
          4,
          8,
          12,
          16,
          20,
          24,
          28,
          32,
          36,
          40,
          44
         ],
         "xaxis": "x12",
         "y": [
          1.8026810706753038,
          2.208123630473174,
          2.2642565625516866,
          2.0996375166078356,
          2.1759103521019427,
          2.157873499815986,
          1.9894747035804485,
          null,
          null,
          null,
          null
         ],
         "yaxis": "y12"
        },
        {
         "legendgroup": "thresh3_twoport",
         "line": {
          "color": "darkgrey"
         },
         "mode": "lines",
         "name": "thresh3_twoport",
         "opacity": 0.8,
         "showlegend": false,
         "type": "scatter",
         "x": [
          4,
          8,
          12,
          16,
          20,
          24,
          28,
          32,
          36,
          40,
          44
         ],
         "xaxis": "x13",
         "y": [
          0.3079364222894743,
          0.7915360585548902,
          0.9953958757023278,
          1.5023425064825375,
          1.8319108666114212,
          1.8565369282568118,
          1.750221229311381,
          1.7856148864330113,
          1.6133293035089658,
          0.9014137014294761,
          1.1504747445019858
         ],
         "yaxis": "y13"
        },
        {
         "legendgroup": "thresh3_twoport",
         "line": {
          "width": 0
         },
         "marker": {
          "color": "rgba(169,169,169,0.4)"
         },
         "mode": "lines",
         "name": "Upper Bound",
         "showlegend": false,
         "type": "scatter",
         "x": [
          4,
          8,
          12,
          16,
          20,
          24,
          28,
          32,
          36,
          40,
          44
         ],
         "xaxis": "x13",
         "y": [
          0.7315309333935613,
          1.178666345191319,
          1.655700636382287,
          1.9914422136189711,
          2.1503528699443692,
          1.985694953288763,
          2.0179677165980654,
          2.0249357244923494,
          1.9607003238024965,
          1.48321382761889,
          null
         ],
         "yaxis": "y13"
        },
        {
         "fill": "tonexty",
         "fillcolor": "rgba(169,169,169,0.4)",
         "legendgroup": "thresh3_twoport",
         "line": {
          "width": 0
         },
         "marker": {
          "color": "rgba(169,169,169,0.4)"
         },
         "mode": "lines",
         "name": "Lower Bound",
         "showlegend": false,
         "type": "scatter",
         "x": [
          4,
          8,
          12,
          16,
          20,
          24,
          28,
          32,
          36,
          40,
          44
         ],
         "xaxis": "x13",
         "y": [
          -0.1156580888146127,
          0.4044057719184613,
          0.33509111502236855,
          1.013242799346104,
          1.5134688632784732,
          1.7273789032248605,
          1.4824747420246966,
          1.5462940483736731,
          1.265958283215435,
          0.31961357524006206,
          null
         ],
         "yaxis": "y13"
        },
        {
         "legendgroup": "thresh5_twoport",
         "line": {
          "color": "midnightblue"
         },
         "mode": "lines",
         "name": "thresh5_twoport",
         "opacity": 0.8,
         "showlegend": false,
         "type": "scatter",
         "x": [
          4,
          8,
          12,
          16,
          20,
          24,
          28,
          32,
          36,
          40,
          44,
          48
         ],
         "xaxis": "x13",
         "y": [
          -0.1330783052057313,
          0.2698355034276059,
          0.6546735158491349,
          1.1969786183527609,
          1.9491288886136324,
          1.912669860335324,
          1.9127035422304595,
          2.2952644293016045,
          2.0958577663161497,
          1.9274589700806128,
          1.8210759073449112,
          1.5645661336547385
         ],
         "yaxis": "y13"
        },
        {
         "legendgroup": "thresh5_twoport",
         "line": {
          "width": 0
         },
         "marker": {
          "color": "rgba(25,25,112,0.4)"
         },
         "mode": "lines",
         "name": "Upper Bound",
         "showlegend": false,
         "type": "scatter",
         "x": [
          4,
          8,
          12,
          16,
          20,
          24,
          28,
          32,
          36,
          40,
          44,
          48
         ],
         "xaxis": "x13",
         "y": [
          0.18421303383333962,
          0.9113136559269628,
          1.4531796380569921,
          1.8172328895594108,
          2.3514040308042414,
          2.046244447797171,
          2.264256562551687,
          2.4326553587872235,
          2.432655358787224,
          null,
          null,
          null
         ],
         "yaxis": "y13"
        },
        {
         "fill": "tonexty",
         "fillcolor": "rgba(25,25,112,0.4)",
         "legendgroup": "thresh5_twoport",
         "line": {
          "width": 0
         },
         "marker": {
          "color": "rgba(25,25,112,0.4)"
         },
         "mode": "lines",
         "name": "Lower Bound",
         "showlegend": false,
         "type": "scatter",
         "x": [
          4,
          8,
          12,
          16,
          20,
          24,
          28,
          32,
          36,
          40,
          44,
          48
         ],
         "xaxis": "x13",
         "y": [
          -0.4503696442448022,
          -0.3716426490717509,
          -0.14383260635872241,
          0.576724347146111,
          1.5468537464230232,
          1.779095272873477,
          1.5611505219092319,
          2.1578734998159854,
          1.7590601738450755,
          null,
          null,
          null
         ],
         "yaxis": "y13"
        },
        {
         "legendgroup": "thresh3_twoport",
         "line": {
          "color": "darkgrey"
         },
         "mode": "lines",
         "name": "thresh3_twoport",
         "opacity": 0.8,
         "showlegend": false,
         "type": "scatter",
         "x": [
          4,
          8,
          12,
          16,
          20,
          24,
          28,
          32,
          36,
          40,
          44
         ],
         "xaxis": "x14",
         "y": [
          0.6927070709207331,
          1.8831590046350177,
          1.9639179983589206,
          1.88216099726861,
          2.004263813325737,
          1.7856822502232816,
          1.5774029608089966,
          2.432655358787224,
          2.432655358787224,
          2.0958577663161497,
          1.443748187029762
         ],
         "yaxis": "y14"
        },
        {
         "legendgroup": "thresh3_twoport",
         "line": {
          "width": 0
         },
         "marker": {
          "color": "rgba(169,169,169,0.4)"
         },
         "mode": "lines",
         "name": "Upper Bound",
         "showlegend": false,
         "type": "scatter",
         "x": [
          4,
          8,
          12,
          16,
          20,
          24,
          28,
          32,
          36,
          40,
          44
         ],
         "xaxis": "x14",
         "y": [
          1.3087581383161284,
          2.30282907767804,
          2.351516532935274,
          2.045577778309295,
          2.137838400787584,
          2.029039902339449,
          1.9894747035804485,
          2.432655358787224,
          null,
          null,
          null
         ],
         "yaxis": "y14"
        },
        {
         "fill": "tonexty",
         "fillcolor": "rgba(169,169,169,0.4)",
         "legendgroup": "thresh3_twoport",
         "line": {
          "width": 0
         },
         "marker": {
          "color": "rgba(169,169,169,0.4)"
         },
         "mode": "lines",
         "name": "Lower Bound",
         "showlegend": false,
         "type": "scatter",
         "x": [
          4,
          8,
          12,
          16,
          20,
          24,
          28,
          32,
          36,
          40,
          44
         ],
         "xaxis": "x14",
         "y": [
          0.07665600352533797,
          1.4634889315919954,
          1.5763194637825673,
          1.718744216227925,
          1.8706892258638899,
          1.542324598107114,
          1.1653312180375446,
          2.432655358787224,
          null,
          null,
          null
         ],
         "yaxis": "y14"
        },
        {
         "legendgroup": "thresh5_twoport",
         "line": {
          "color": "midnightblue"
         },
         "mode": "lines",
         "name": "thresh5_twoport",
         "opacity": 0.8,
         "showlegend": false,
         "type": "scatter",
         "x": [
          4,
          8,
          12,
          16,
          20,
          24,
          28,
          32,
          36,
          40,
          44
         ],
         "xaxis": "x14",
         "y": [
          0.3921168300604377,
          1.8112389554448092,
          2.1933345207278863,
          2.2081236304731746,
          2.0810686565708614,
          2.2081236304731746,
          2.0736741016982174,
          2.165301736583765,
          1.8210759073449114,
          2.0958577663161497,
          1.7590601738450755
         ],
         "yaxis": "y14"
        },
        {
         "legendgroup": "thresh5_twoport",
         "line": {
          "width": 0
         },
         "marker": {
          "color": "rgba(25,25,112,0.4)"
         },
         "mode": "lines",
         "name": "Upper Bound",
         "showlegend": false,
         "type": "scatter",
         "x": [
          4,
          8,
          12,
          16,
          20,
          24,
          28,
          32,
          36,
          40,
          44
         ],
         "xaxis": "x14",
         "y": [
          0.4839019254331688,
          1.9399990779601106,
          2.3558947885590635,
          2.3566374091137985,
          2.264256562551687,
          2.264256562551687,
          2.1578734998159863,
          2.2642565625516866,
          1.8830916408447473,
          null,
          null
         ],
         "yaxis": "y14"
        },
        {
         "fill": "tonexty",
         "fillcolor": "rgba(25,25,112,0.4)",
         "legendgroup": "thresh5_twoport",
         "line": {
          "width": 0
         },
         "marker": {
          "color": "rgba(25,25,112,0.4)"
         },
         "mode": "lines",
         "name": "Lower Bound",
         "showlegend": false,
         "type": "scatter",
         "x": [
          4,
          8,
          12,
          16,
          20,
          24,
          28,
          32,
          36,
          40,
          44
         ],
         "xaxis": "x14",
         "y": [
          0.3003317346877066,
          1.6824788329295077,
          2.030774252896709,
          2.0596098518325507,
          1.8978807505900357,
          2.151990698394662,
          1.9894747035804488,
          2.0663469106158434,
          1.7590601738450755,
          null,
          null
         ],
         "yaxis": "y14"
        }
       ],
       "layout": {
        "annotations": [
         {
          "font": {
           "size": 22
          },
          "showarrow": false,
          "text": "Day 1",
          "x": 0.06944444444444445,
          "xanchor": "center",
          "xref": "paper",
          "y": 1,
          "yanchor": "bottom",
          "yref": "paper"
         },
         {
          "font": {
           "size": 22
          },
          "showarrow": false,
          "text": "Day 2",
          "x": 0.24166666666666667,
          "xanchor": "center",
          "xref": "paper",
          "y": 1,
          "yanchor": "bottom",
          "yref": "paper"
         },
         {
          "font": {
           "size": 22
          },
          "showarrow": false,
          "text": "Day 3",
          "x": 0.41388888888888886,
          "xanchor": "center",
          "xref": "paper",
          "y": 1,
          "yanchor": "bottom",
          "yref": "paper"
         },
         {
          "font": {
           "size": 22
          },
          "showarrow": false,
          "text": "Day 4",
          "x": 0.5861111111111112,
          "xanchor": "center",
          "xref": "paper",
          "y": 1,
          "yanchor": "bottom",
          "yref": "paper"
         },
         {
          "font": {
           "size": 22
          },
          "showarrow": false,
          "text": "Day 5",
          "x": 0.7583333333333333,
          "xanchor": "center",
          "xref": "paper",
          "y": 1,
          "yanchor": "bottom",
          "yref": "paper"
         },
         {
          "font": {
           "size": 22
          },
          "showarrow": false,
          "text": "Day 6",
          "x": 0.9305555555555556,
          "xanchor": "center",
          "xref": "paper",
          "y": 1,
          "yanchor": "bottom",
          "yref": "paper"
         },
         {
          "font": {
           "size": 22
          },
          "showarrow": false,
          "text": "Day 7",
          "x": 0.06944444444444445,
          "xanchor": "center",
          "xref": "paper",
          "y": 0.6111111111111112,
          "yanchor": "bottom",
          "yref": "paper"
         },
         {
          "font": {
           "size": 22
          },
          "showarrow": false,
          "text": "Day 8",
          "x": 0.24166666666666667,
          "xanchor": "center",
          "xref": "paper",
          "y": 0.6111111111111112,
          "yanchor": "bottom",
          "yref": "paper"
         },
         {
          "font": {
           "size": 22
          },
          "showarrow": false,
          "text": "Day 9",
          "x": 0.41388888888888886,
          "xanchor": "center",
          "xref": "paper",
          "y": 0.6111111111111112,
          "yanchor": "bottom",
          "yref": "paper"
         },
         {
          "font": {
           "size": 22
          },
          "showarrow": false,
          "text": "Day 10",
          "x": 0.5861111111111112,
          "xanchor": "center",
          "xref": "paper",
          "y": 0.6111111111111112,
          "yanchor": "bottom",
          "yref": "paper"
         },
         {
          "font": {
           "size": 22
          },
          "showarrow": false,
          "text": "Day 11",
          "x": 0.7583333333333333,
          "xanchor": "center",
          "xref": "paper",
          "y": 0.6111111111111112,
          "yanchor": "bottom",
          "yref": "paper"
         },
         {
          "font": {
           "size": 22
          },
          "showarrow": false,
          "text": "Day 12",
          "x": 0.9305555555555556,
          "xanchor": "center",
          "xref": "paper",
          "y": 0.6111111111111112,
          "yanchor": "bottom",
          "yref": "paper"
         },
         {
          "font": {
           "size": 22
          },
          "showarrow": false,
          "text": "Day 13",
          "x": 0.06944444444444445,
          "xanchor": "center",
          "xref": "paper",
          "y": 0.22222222222222224,
          "yanchor": "bottom",
          "yref": "paper"
         },
         {
          "font": {
           "size": 22
          },
          "showarrow": false,
          "text": "Day 14",
          "x": 0.24166666666666667,
          "xanchor": "center",
          "xref": "paper",
          "y": 0.22222222222222224,
          "yanchor": "bottom",
          "yref": "paper"
         }
        ],
        "font": {
         "family": "Arial",
         "size": 22
        },
        "height": 800,
        "template": {
         "data": {
          "bar": [
           {
            "error_x": {
             "color": "rgb(36,36,36)"
            },
            "error_y": {
             "color": "rgb(36,36,36)"
            },
            "marker": {
             "line": {
              "color": "white",
              "width": 0.5
             },
             "pattern": {
              "fillmode": "overlay",
              "size": 10,
              "solidity": 0.2
             }
            },
            "type": "bar"
           }
          ],
          "barpolar": [
           {
            "marker": {
             "line": {
              "color": "white",
              "width": 0.5
             },
             "pattern": {
              "fillmode": "overlay",
              "size": 10,
              "solidity": 0.2
             }
            },
            "type": "barpolar"
           }
          ],
          "carpet": [
           {
            "aaxis": {
             "endlinecolor": "rgb(36,36,36)",
             "gridcolor": "white",
             "linecolor": "white",
             "minorgridcolor": "white",
             "startlinecolor": "rgb(36,36,36)"
            },
            "baxis": {
             "endlinecolor": "rgb(36,36,36)",
             "gridcolor": "white",
             "linecolor": "white",
             "minorgridcolor": "white",
             "startlinecolor": "rgb(36,36,36)"
            },
            "type": "carpet"
           }
          ],
          "choropleth": [
           {
            "colorbar": {
             "outlinewidth": 1,
             "tickcolor": "rgb(36,36,36)",
             "ticks": "outside"
            },
            "type": "choropleth"
           }
          ],
          "contour": [
           {
            "colorbar": {
             "outlinewidth": 1,
             "tickcolor": "rgb(36,36,36)",
             "ticks": "outside"
            },
            "colorscale": [
             [
              0,
              "#440154"
             ],
             [
              0.1111111111111111,
              "#482878"
             ],
             [
              0.2222222222222222,
              "#3e4989"
             ],
             [
              0.3333333333333333,
              "#31688e"
             ],
             [
              0.4444444444444444,
              "#26828e"
             ],
             [
              0.5555555555555556,
              "#1f9e89"
             ],
             [
              0.6666666666666666,
              "#35b779"
             ],
             [
              0.7777777777777778,
              "#6ece58"
             ],
             [
              0.8888888888888888,
              "#b5de2b"
             ],
             [
              1,
              "#fde725"
             ]
            ],
            "type": "contour"
           }
          ],
          "contourcarpet": [
           {
            "colorbar": {
             "outlinewidth": 1,
             "tickcolor": "rgb(36,36,36)",
             "ticks": "outside"
            },
            "type": "contourcarpet"
           }
          ],
          "heatmap": [
           {
            "colorbar": {
             "outlinewidth": 1,
             "tickcolor": "rgb(36,36,36)",
             "ticks": "outside"
            },
            "colorscale": [
             [
              0,
              "#440154"
             ],
             [
              0.1111111111111111,
              "#482878"
             ],
             [
              0.2222222222222222,
              "#3e4989"
             ],
             [
              0.3333333333333333,
              "#31688e"
             ],
             [
              0.4444444444444444,
              "#26828e"
             ],
             [
              0.5555555555555556,
              "#1f9e89"
             ],
             [
              0.6666666666666666,
              "#35b779"
             ],
             [
              0.7777777777777778,
              "#6ece58"
             ],
             [
              0.8888888888888888,
              "#b5de2b"
             ],
             [
              1,
              "#fde725"
             ]
            ],
            "type": "heatmap"
           }
          ],
          "heatmapgl": [
           {
            "colorbar": {
             "outlinewidth": 1,
             "tickcolor": "rgb(36,36,36)",
             "ticks": "outside"
            },
            "colorscale": [
             [
              0,
              "#440154"
             ],
             [
              0.1111111111111111,
              "#482878"
             ],
             [
              0.2222222222222222,
              "#3e4989"
             ],
             [
              0.3333333333333333,
              "#31688e"
             ],
             [
              0.4444444444444444,
              "#26828e"
             ],
             [
              0.5555555555555556,
              "#1f9e89"
             ],
             [
              0.6666666666666666,
              "#35b779"
             ],
             [
              0.7777777777777778,
              "#6ece58"
             ],
             [
              0.8888888888888888,
              "#b5de2b"
             ],
             [
              1,
              "#fde725"
             ]
            ],
            "type": "heatmapgl"
           }
          ],
          "histogram": [
           {
            "marker": {
             "line": {
              "color": "white",
              "width": 0.6
             }
            },
            "type": "histogram"
           }
          ],
          "histogram2d": [
           {
            "colorbar": {
             "outlinewidth": 1,
             "tickcolor": "rgb(36,36,36)",
             "ticks": "outside"
            },
            "colorscale": [
             [
              0,
              "#440154"
             ],
             [
              0.1111111111111111,
              "#482878"
             ],
             [
              0.2222222222222222,
              "#3e4989"
             ],
             [
              0.3333333333333333,
              "#31688e"
             ],
             [
              0.4444444444444444,
              "#26828e"
             ],
             [
              0.5555555555555556,
              "#1f9e89"
             ],
             [
              0.6666666666666666,
              "#35b779"
             ],
             [
              0.7777777777777778,
              "#6ece58"
             ],
             [
              0.8888888888888888,
              "#b5de2b"
             ],
             [
              1,
              "#fde725"
             ]
            ],
            "type": "histogram2d"
           }
          ],
          "histogram2dcontour": [
           {
            "colorbar": {
             "outlinewidth": 1,
             "tickcolor": "rgb(36,36,36)",
             "ticks": "outside"
            },
            "colorscale": [
             [
              0,
              "#440154"
             ],
             [
              0.1111111111111111,
              "#482878"
             ],
             [
              0.2222222222222222,
              "#3e4989"
             ],
             [
              0.3333333333333333,
              "#31688e"
             ],
             [
              0.4444444444444444,
              "#26828e"
             ],
             [
              0.5555555555555556,
              "#1f9e89"
             ],
             [
              0.6666666666666666,
              "#35b779"
             ],
             [
              0.7777777777777778,
              "#6ece58"
             ],
             [
              0.8888888888888888,
              "#b5de2b"
             ],
             [
              1,
              "#fde725"
             ]
            ],
            "type": "histogram2dcontour"
           }
          ],
          "mesh3d": [
           {
            "colorbar": {
             "outlinewidth": 1,
             "tickcolor": "rgb(36,36,36)",
             "ticks": "outside"
            },
            "type": "mesh3d"
           }
          ],
          "parcoords": [
           {
            "line": {
             "colorbar": {
              "outlinewidth": 1,
              "tickcolor": "rgb(36,36,36)",
              "ticks": "outside"
             }
            },
            "type": "parcoords"
           }
          ],
          "pie": [
           {
            "automargin": true,
            "type": "pie"
           }
          ],
          "scatter": [
           {
            "fillpattern": {
             "fillmode": "overlay",
             "size": 10,
             "solidity": 0.2
            },
            "type": "scatter"
           }
          ],
          "scatter3d": [
           {
            "line": {
             "colorbar": {
              "outlinewidth": 1,
              "tickcolor": "rgb(36,36,36)",
              "ticks": "outside"
             }
            },
            "marker": {
             "colorbar": {
              "outlinewidth": 1,
              "tickcolor": "rgb(36,36,36)",
              "ticks": "outside"
             }
            },
            "type": "scatter3d"
           }
          ],
          "scattercarpet": [
           {
            "marker": {
             "colorbar": {
              "outlinewidth": 1,
              "tickcolor": "rgb(36,36,36)",
              "ticks": "outside"
             }
            },
            "type": "scattercarpet"
           }
          ],
          "scattergeo": [
           {
            "marker": {
             "colorbar": {
              "outlinewidth": 1,
              "tickcolor": "rgb(36,36,36)",
              "ticks": "outside"
             }
            },
            "type": "scattergeo"
           }
          ],
          "scattergl": [
           {
            "marker": {
             "colorbar": {
              "outlinewidth": 1,
              "tickcolor": "rgb(36,36,36)",
              "ticks": "outside"
             }
            },
            "type": "scattergl"
           }
          ],
          "scattermapbox": [
           {
            "marker": {
             "colorbar": {
              "outlinewidth": 1,
              "tickcolor": "rgb(36,36,36)",
              "ticks": "outside"
             }
            },
            "type": "scattermapbox"
           }
          ],
          "scatterpolar": [
           {
            "marker": {
             "colorbar": {
              "outlinewidth": 1,
              "tickcolor": "rgb(36,36,36)",
              "ticks": "outside"
             }
            },
            "type": "scatterpolar"
           }
          ],
          "scatterpolargl": [
           {
            "marker": {
             "colorbar": {
              "outlinewidth": 1,
              "tickcolor": "rgb(36,36,36)",
              "ticks": "outside"
             }
            },
            "type": "scatterpolargl"
           }
          ],
          "scatterternary": [
           {
            "marker": {
             "colorbar": {
              "outlinewidth": 1,
              "tickcolor": "rgb(36,36,36)",
              "ticks": "outside"
             }
            },
            "type": "scatterternary"
           }
          ],
          "surface": [
           {
            "colorbar": {
             "outlinewidth": 1,
             "tickcolor": "rgb(36,36,36)",
             "ticks": "outside"
            },
            "colorscale": [
             [
              0,
              "#440154"
             ],
             [
              0.1111111111111111,
              "#482878"
             ],
             [
              0.2222222222222222,
              "#3e4989"
             ],
             [
              0.3333333333333333,
              "#31688e"
             ],
             [
              0.4444444444444444,
              "#26828e"
             ],
             [
              0.5555555555555556,
              "#1f9e89"
             ],
             [
              0.6666666666666666,
              "#35b779"
             ],
             [
              0.7777777777777778,
              "#6ece58"
             ],
             [
              0.8888888888888888,
              "#b5de2b"
             ],
             [
              1,
              "#fde725"
             ]
            ],
            "type": "surface"
           }
          ],
          "table": [
           {
            "cells": {
             "fill": {
              "color": "rgb(237,237,237)"
             },
             "line": {
              "color": "white"
             }
            },
            "header": {
             "fill": {
              "color": "rgb(217,217,217)"
             },
             "line": {
              "color": "white"
             }
            },
            "type": "table"
           }
          ]
         },
         "layout": {
          "annotationdefaults": {
           "arrowhead": 0,
           "arrowwidth": 1
          },
          "autotypenumbers": "strict",
          "coloraxis": {
           "colorbar": {
            "outlinewidth": 1,
            "tickcolor": "rgb(36,36,36)",
            "ticks": "outside"
           }
          },
          "colorscale": {
           "diverging": [
            [
             0,
             "rgb(103,0,31)"
            ],
            [
             0.1,
             "rgb(178,24,43)"
            ],
            [
             0.2,
             "rgb(214,96,77)"
            ],
            [
             0.3,
             "rgb(244,165,130)"
            ],
            [
             0.4,
             "rgb(253,219,199)"
            ],
            [
             0.5,
             "rgb(247,247,247)"
            ],
            [
             0.6,
             "rgb(209,229,240)"
            ],
            [
             0.7,
             "rgb(146,197,222)"
            ],
            [
             0.8,
             "rgb(67,147,195)"
            ],
            [
             0.9,
             "rgb(33,102,172)"
            ],
            [
             1,
             "rgb(5,48,97)"
            ]
           ],
           "sequential": [
            [
             0,
             "#440154"
            ],
            [
             0.1111111111111111,
             "#482878"
            ],
            [
             0.2222222222222222,
             "#3e4989"
            ],
            [
             0.3333333333333333,
             "#31688e"
            ],
            [
             0.4444444444444444,
             "#26828e"
            ],
            [
             0.5555555555555556,
             "#1f9e89"
            ],
            [
             0.6666666666666666,
             "#35b779"
            ],
            [
             0.7777777777777778,
             "#6ece58"
            ],
            [
             0.8888888888888888,
             "#b5de2b"
            ],
            [
             1,
             "#fde725"
            ]
           ],
           "sequentialminus": [
            [
             0,
             "#440154"
            ],
            [
             0.1111111111111111,
             "#482878"
            ],
            [
             0.2222222222222222,
             "#3e4989"
            ],
            [
             0.3333333333333333,
             "#31688e"
            ],
            [
             0.4444444444444444,
             "#26828e"
            ],
            [
             0.5555555555555556,
             "#1f9e89"
            ],
            [
             0.6666666666666666,
             "#35b779"
            ],
            [
             0.7777777777777778,
             "#6ece58"
            ],
            [
             0.8888888888888888,
             "#b5de2b"
            ],
            [
             1,
             "#fde725"
            ]
           ]
          },
          "colorway": [
           "#1F77B4",
           "#FF7F0E",
           "#2CA02C",
           "#D62728",
           "#9467BD",
           "#8C564B",
           "#E377C2",
           "#7F7F7F",
           "#BCBD22",
           "#17BECF"
          ],
          "font": {
           "color": "rgb(36,36,36)"
          },
          "geo": {
           "bgcolor": "white",
           "lakecolor": "white",
           "landcolor": "white",
           "showlakes": true,
           "showland": true,
           "subunitcolor": "white"
          },
          "hoverlabel": {
           "align": "left"
          },
          "hovermode": "closest",
          "mapbox": {
           "style": "light"
          },
          "paper_bgcolor": "white",
          "plot_bgcolor": "white",
          "polar": {
           "angularaxis": {
            "gridcolor": "rgb(232,232,232)",
            "linecolor": "rgb(36,36,36)",
            "showgrid": false,
            "showline": true,
            "ticks": "outside"
           },
           "bgcolor": "white",
           "radialaxis": {
            "gridcolor": "rgb(232,232,232)",
            "linecolor": "rgb(36,36,36)",
            "showgrid": false,
            "showline": true,
            "ticks": "outside"
           }
          },
          "scene": {
           "xaxis": {
            "backgroundcolor": "white",
            "gridcolor": "rgb(232,232,232)",
            "gridwidth": 2,
            "linecolor": "rgb(36,36,36)",
            "showbackground": true,
            "showgrid": false,
            "showline": true,
            "ticks": "outside",
            "zeroline": false,
            "zerolinecolor": "rgb(36,36,36)"
           },
           "yaxis": {
            "backgroundcolor": "white",
            "gridcolor": "rgb(232,232,232)",
            "gridwidth": 2,
            "linecolor": "rgb(36,36,36)",
            "showbackground": true,
            "showgrid": false,
            "showline": true,
            "ticks": "outside",
            "zeroline": false,
            "zerolinecolor": "rgb(36,36,36)"
           },
           "zaxis": {
            "backgroundcolor": "white",
            "gridcolor": "rgb(232,232,232)",
            "gridwidth": 2,
            "linecolor": "rgb(36,36,36)",
            "showbackground": true,
            "showgrid": false,
            "showline": true,
            "ticks": "outside",
            "zeroline": false,
            "zerolinecolor": "rgb(36,36,36)"
           }
          },
          "shapedefaults": {
           "fillcolor": "black",
           "line": {
            "width": 0
           },
           "opacity": 0.3
          },
          "ternary": {
           "aaxis": {
            "gridcolor": "rgb(232,232,232)",
            "linecolor": "rgb(36,36,36)",
            "showgrid": false,
            "showline": true,
            "ticks": "outside"
           },
           "baxis": {
            "gridcolor": "rgb(232,232,232)",
            "linecolor": "rgb(36,36,36)",
            "showgrid": false,
            "showline": true,
            "ticks": "outside"
           },
           "bgcolor": "white",
           "caxis": {
            "gridcolor": "rgb(232,232,232)",
            "linecolor": "rgb(36,36,36)",
            "showgrid": false,
            "showline": true,
            "ticks": "outside"
           }
          },
          "title": {
           "x": 0.05
          },
          "xaxis": {
           "automargin": true,
           "gridcolor": "rgb(232,232,232)",
           "linecolor": "rgb(36,36,36)",
           "showgrid": false,
           "showline": true,
           "ticks": "outside",
           "title": {
            "standoff": 15
           },
           "zeroline": false,
           "zerolinecolor": "rgb(36,36,36)"
          },
          "yaxis": {
           "automargin": true,
           "gridcolor": "rgb(232,232,232)",
           "linecolor": "rgb(36,36,36)",
           "showgrid": false,
           "showline": true,
           "ticks": "outside",
           "title": {
            "standoff": 15
           },
           "zeroline": false,
           "zerolinecolor": "rgb(36,36,36)"
          }
         }
        },
        "title": {
         "x": 0.5,
         "xanchor": "center",
         "y": 0.9,
         "yanchor": "top"
        },
        "width": 1200,
        "xaxis": {
         "anchor": "y",
         "domain": [
          0,
          0.1388888888888889
         ],
         "linewidth": 1.5,
         "matches": "x",
         "title": {
          "text": ""
         }
        },
        "xaxis10": {
         "anchor": "y10",
         "domain": [
          0.5166666666666667,
          0.6555555555555557
         ],
         "linewidth": 1.5,
         "matches": "x",
         "title": {
          "text": ""
         }
        },
        "xaxis11": {
         "anchor": "y11",
         "domain": [
          0.6888888888888889,
          0.8277777777777777
         ],
         "linewidth": 1.5,
         "matches": "x",
         "title": {
          "text": ""
         }
        },
        "xaxis12": {
         "anchor": "y12",
         "domain": [
          0.861111111111111,
          1
         ],
         "linewidth": 1.5,
         "matches": "x",
         "title": {
          "text": ""
         }
        },
        "xaxis13": {
         "anchor": "y13",
         "domain": [
          0,
          0.1388888888888889
         ],
         "linewidth": 1.5,
         "matches": "x",
         "title": {
          "text": "Trial"
         }
        },
        "xaxis14": {
         "anchor": "y14",
         "domain": [
          0.17222222222222222,
          0.3111111111111111
         ],
         "linewidth": 1.5,
         "matches": "x",
         "title": {
          "text": "Trial"
         }
        },
        "xaxis15": {
         "anchor": "y15",
         "domain": [
          0.34444444444444444,
          0.48333333333333334
         ],
         "linewidth": 1.5,
         "matches": "x",
         "title": {
          "text": "Trial"
         }
        },
        "xaxis16": {
         "anchor": "y16",
         "domain": [
          0.5166666666666667,
          0.6555555555555557
         ],
         "linewidth": 1.5,
         "matches": "x",
         "title": {
          "text": "Trial"
         }
        },
        "xaxis17": {
         "anchor": "y17",
         "domain": [
          0.6888888888888889,
          0.8277777777777777
         ],
         "linewidth": 1.5,
         "matches": "x",
         "title": {
          "text": "Trial"
         }
        },
        "xaxis18": {
         "anchor": "y18",
         "domain": [
          0.861111111111111,
          1
         ],
         "linewidth": 1.5,
         "matches": "x",
         "title": {
          "text": "Trial"
         }
        },
        "xaxis2": {
         "anchor": "y2",
         "domain": [
          0.17222222222222222,
          0.3111111111111111
         ],
         "linewidth": 1.5,
         "matches": "x",
         "title": {
          "text": ""
         }
        },
        "xaxis3": {
         "anchor": "y3",
         "domain": [
          0.34444444444444444,
          0.48333333333333334
         ],
         "linewidth": 1.5,
         "matches": "x",
         "title": {
          "text": ""
         }
        },
        "xaxis4": {
         "anchor": "y4",
         "domain": [
          0.5166666666666667,
          0.6555555555555557
         ],
         "linewidth": 1.5,
         "matches": "x",
         "title": {
          "text": ""
         }
        },
        "xaxis5": {
         "anchor": "y5",
         "domain": [
          0.6888888888888889,
          0.8277777777777777
         ],
         "linewidth": 1.5,
         "matches": "x",
         "title": {
          "text": ""
         }
        },
        "xaxis6": {
         "anchor": "y6",
         "domain": [
          0.861111111111111,
          1
         ],
         "linewidth": 1.5,
         "matches": "x",
         "title": {
          "text": ""
         }
        },
        "xaxis7": {
         "anchor": "y7",
         "domain": [
          0,
          0.1388888888888889
         ],
         "linewidth": 1.5,
         "matches": "x",
         "title": {
          "text": ""
         }
        },
        "xaxis8": {
         "anchor": "y8",
         "domain": [
          0.17222222222222222,
          0.3111111111111111
         ],
         "linewidth": 1.5,
         "matches": "x",
         "title": {
          "text": ""
         }
        },
        "xaxis9": {
         "anchor": "y9",
         "domain": [
          0.34444444444444444,
          0.48333333333333334
         ],
         "linewidth": 1.5,
         "matches": "x",
         "title": {
          "text": ""
         }
        },
        "yaxis": {
         "anchor": "x",
         "domain": [
          0.7777777777777778,
          1
         ],
         "linewidth": 1.5,
         "matches": "y",
         "title": {
          "text": "d'"
         }
        },
        "yaxis10": {
         "anchor": "x10",
         "domain": [
          0.3888888888888889,
          0.6111111111111112
         ],
         "linewidth": 1.5,
         "matches": "y",
         "showticklabels": false,
         "title": {
          "text": ""
         }
        },
        "yaxis11": {
         "anchor": "x11",
         "domain": [
          0.3888888888888889,
          0.6111111111111112
         ],
         "linewidth": 1.5,
         "matches": "y",
         "showticklabels": false,
         "title": {
          "text": ""
         }
        },
        "yaxis12": {
         "anchor": "x12",
         "domain": [
          0.3888888888888889,
          0.6111111111111112
         ],
         "linewidth": 1.5,
         "matches": "y",
         "showticklabels": false,
         "title": {
          "text": ""
         }
        },
        "yaxis13": {
         "anchor": "x13",
         "domain": [
          0,
          0.22222222222222224
         ],
         "linewidth": 1.5,
         "matches": "y",
         "title": {
          "text": "d'"
         }
        },
        "yaxis14": {
         "anchor": "x14",
         "domain": [
          0,
          0.22222222222222224
         ],
         "linewidth": 1.5,
         "matches": "y",
         "showticklabels": false,
         "title": {
          "text": ""
         }
        },
        "yaxis15": {
         "anchor": "x15",
         "domain": [
          0,
          0.22222222222222224
         ],
         "linewidth": 1.5,
         "matches": "y",
         "showticklabels": false,
         "title": {
          "text": ""
         }
        },
        "yaxis16": {
         "anchor": "x16",
         "domain": [
          0,
          0.22222222222222224
         ],
         "linewidth": 1.5,
         "matches": "y",
         "showticklabels": false,
         "title": {
          "text": ""
         }
        },
        "yaxis17": {
         "anchor": "x17",
         "domain": [
          0,
          0.22222222222222224
         ],
         "linewidth": 1.5,
         "matches": "y",
         "showticklabels": false,
         "title": {
          "text": ""
         }
        },
        "yaxis18": {
         "anchor": "x18",
         "domain": [
          0,
          0.22222222222222224
         ],
         "linewidth": 1.5,
         "matches": "y",
         "showticklabels": false,
         "title": {
          "text": ""
         }
        },
        "yaxis2": {
         "anchor": "x2",
         "domain": [
          0.7777777777777778,
          1
         ],
         "linewidth": 1.5,
         "matches": "y",
         "showticklabels": false,
         "title": {
          "text": ""
         }
        },
        "yaxis3": {
         "anchor": "x3",
         "domain": [
          0.7777777777777778,
          1
         ],
         "linewidth": 1.5,
         "matches": "y",
         "showticklabels": false,
         "title": {
          "text": ""
         }
        },
        "yaxis4": {
         "anchor": "x4",
         "domain": [
          0.7777777777777778,
          1
         ],
         "linewidth": 1.5,
         "matches": "y",
         "showticklabels": false,
         "title": {
          "text": ""
         }
        },
        "yaxis5": {
         "anchor": "x5",
         "domain": [
          0.7777777777777778,
          1
         ],
         "linewidth": 1.5,
         "matches": "y",
         "showticklabels": false,
         "title": {
          "text": ""
         }
        },
        "yaxis6": {
         "anchor": "x6",
         "domain": [
          0.7777777777777778,
          1
         ],
         "linewidth": 1.5,
         "matches": "y",
         "showticklabels": false,
         "title": {
          "text": ""
         }
        },
        "yaxis7": {
         "anchor": "x7",
         "domain": [
          0.3888888888888889,
          0.6111111111111112
         ],
         "linewidth": 1.5,
         "matches": "y",
         "title": {
          "text": "d'"
         }
        },
        "yaxis8": {
         "anchor": "x8",
         "domain": [
          0.3888888888888889,
          0.6111111111111112
         ],
         "linewidth": 1.5,
         "matches": "y",
         "showticklabels": false,
         "title": {
          "text": ""
         }
        },
        "yaxis9": {
         "anchor": "x9",
         "domain": [
          0.3888888888888889,
          0.6111111111111112
         ],
         "linewidth": 1.5,
         "matches": "y",
         "showticklabels": false,
         "title": {
          "text": ""
         }
        }
       }
      },
      "text/html": [
       "<div>                            <div id=\"516495bb-84db-476d-9def-f5b9dc418760\" class=\"plotly-graph-div\" style=\"height:800px; width:1200px;\"></div>            <script type=\"text/javascript\">                require([\"plotly\"], function(Plotly) {                    window.PLOTLYENV=window.PLOTLYENV || {};                                    if (document.getElementById(\"516495bb-84db-476d-9def-f5b9dc418760\")) {                    Plotly.newPlot(                        \"516495bb-84db-476d-9def-f5b9dc418760\",                        [{\"legendgroup\":\"thresh3_twoport\",\"line\":{\"color\":\"darkgrey\"},\"mode\":\"lines\",\"name\":\"thresh3_twoport\",\"opacity\":0.8,\"showlegend\":false,\"x\":[4,8,12,16,20],\"y\":[0.28822453779565965,-0.2624161559066027,0.08168866886690727,0.11376722485849056,0.09309531369187858],\"type\":\"scatter\",\"xaxis\":\"x\",\"yaxis\":\"y\"},{\"legendgroup\":\"thresh3_twoport\",\"line\":{\"width\":0},\"marker\":{\"color\":\"rgba(169,169,169,0.4)\"},\"mode\":\"lines\",\"name\":\"Upper Bound\",\"showlegend\":false,\"x\":[4,8,12,16,20],\"y\":[0.31151835481894496,-0.10769757802958832,0.17955078658974205,0.38854908382972886,null],\"type\":\"scatter\",\"xaxis\":\"x\",\"yaxis\":\"y\"},{\"fill\":\"tonexty\",\"fillcolor\":\"rgba(169,169,169,0.4)\",\"legendgroup\":\"thresh3_twoport\",\"line\":{\"width\":0},\"marker\":{\"color\":\"rgba(169,169,169,0.4)\"},\"mode\":\"lines\",\"name\":\"Lower Bound\",\"showlegend\":false,\"x\":[4,8,12,16,20],\"y\":[0.26493072077237434,-0.4171347337836171,-0.01617344885592749,-0.16101463411274775,null],\"type\":\"scatter\",\"xaxis\":\"x\",\"yaxis\":\"y\"},{\"legendgroup\":\"thresh5_twoport\",\"line\":{\"color\":\"midnightblue\"},\"mode\":\"lines\",\"name\":\"thresh5_twoport\",\"opacity\":0.8,\"showlegend\":false,\"x\":[4,8,12,16,20],\"y\":[0.03546102091190038,0.7317670846902665,-0.08050731705637387,0.0368950178230959,0.36610635680056963],\"type\":\"scatter\",\"xaxis\":\"x\",\"yaxis\":\"y\"},{\"legendgroup\":\"thresh5_twoport\",\"line\":{\"width\":0},\"marker\":{\"color\":\"rgba(25,25,112,0.4)\"},\"mode\":\"lines\",\"name\":\"Upper Bound\",\"showlegend\":false,\"x\":[4,8,12,16,20],\"y\":[0.3593276535459079,1.2489349918775747,null,null,null],\"type\":\"scatter\",\"xaxis\":\"x\",\"yaxis\":\"y\"},{\"fill\":\"tonexty\",\"fillcolor\":\"rgba(25,25,112,0.4)\",\"legendgroup\":\"thresh5_twoport\",\"line\":{\"width\":0},\"marker\":{\"color\":\"rgba(25,25,112,0.4)\"},\"mode\":\"lines\",\"name\":\"Lower Bound\",\"showlegend\":false,\"x\":[4,8,12,16,20],\"y\":[-0.2884056117221071,0.21459917750295832,null,null,null],\"type\":\"scatter\",\"xaxis\":\"x\",\"yaxis\":\"y\"},{\"legendgroup\":\"thresh3_twoport\",\"line\":{\"color\":\"darkgrey\"},\"mode\":\"lines\",\"name\":\"thresh3_twoport\",\"opacity\":0.8,\"showlegend\":false,\"x\":[4,8,12,16,20,24,28,32],\"y\":[-0.17184959337925754,0.25661511817405364,0.4642211921279049,0.6218523928872025,1.026523267621535,0.9857023548350972,1.9894747035804485,1.5057639205295978],\"type\":\"scatter\",\"xaxis\":\"x2\",\"yaxis\":\"y2\"},{\"legendgroup\":\"thresh3_twoport\",\"line\":{\"width\":0},\"marker\":{\"color\":\"rgba(169,169,169,0.4)\"},\"mode\":\"lines\",\"name\":\"Upper Bound\",\"showlegend\":false,\"x\":[4,8,12,16,20,24,28,32],\"y\":[0.07475259920513838,0.46698048052227337,0.7648115036096143,0.8239192239989521,1.3226978133661307,1.1653312180375446,null,null],\"type\":\"scatter\",\"xaxis\":\"x2\",\"yaxis\":\"y2\"},{\"fill\":\"tonexty\",\"fillcolor\":\"rgba(169,169,169,0.4)\",\"legendgroup\":\"thresh3_twoport\",\"line\":{\"width\":0},\"marker\":{\"color\":\"rgba(169,169,169,0.4)\"},\"mode\":\"lines\",\"name\":\"Lower Bound\",\"showlegend\":false,\"x\":[4,8,12,16,20,24,28,32],\"y\":[-0.41845178596365346,0.046249755825833905,0.16363088064619558,0.4197855617754529,0.7303487218769393,0.8060734916326496,null,null],\"type\":\"scatter\",\"xaxis\":\"x2\",\"yaxis\":\"y2\"},{\"legendgroup\":\"thresh5_twoport\",\"line\":{\"color\":\"midnightblue\"},\"mode\":\"lines\",\"name\":\"thresh5_twoport\",\"opacity\":0.8,\"showlegend\":false,\"x\":[4,8,12,16,20,24,28],\"y\":[-0.11450495796041878,1.1653312180375446,1.5167831926733666,1.5167831926733666,1.8210759073449112,1.4547674591735307,1.9489445757363735],\"type\":\"scatter\",\"xaxis\":\"x2\",\"yaxis\":\"y2\"},{\"legendgroup\":\"thresh5_twoport\",\"line\":{\"width\":0},\"marker\":{\"color\":\"rgba(25,25,112,0.4)\"},\"mode\":\"lines\",\"name\":\"Upper Bound\",\"showlegend\":false,\"x\":[4,8,12,16,20,24,28],\"y\":[0.4582764076731369,null,null,null,null,null,null],\"type\":\"scatter\",\"xaxis\":\"x2\",\"yaxis\":\"y2\"},{\"fill\":\"tonexty\",\"fillcolor\":\"rgba(25,25,112,0.4)\",\"legendgroup\":\"thresh5_twoport\",\"line\":{\"width\":0},\"marker\":{\"color\":\"rgba(25,25,112,0.4)\"},\"mode\":\"lines\",\"name\":\"Lower Bound\",\"showlegend\":false,\"x\":[4,8,12,16,20,24,28],\"y\":[-0.6872863235939745,null,null,null,null,null,null],\"type\":\"scatter\",\"xaxis\":\"x2\",\"yaxis\":\"y2\"},{\"legendgroup\":\"thresh3_twoport\",\"line\":{\"color\":\"darkgrey\"},\"mode\":\"lines\",\"name\":\"thresh3_twoport\",\"opacity\":0.8,\"showlegend\":false,\"x\":[4,8,12,16,20,24,28,32,36,40],\"y\":[1.039482145174004,1.5769376390209278,1.750221229311381,1.8210759073449114,2.0359112136409534,1.4668814855706371,2.295264429301605,2.3484559606694555,2.2642565625516866,2.0663469106158434],\"type\":\"scatter\",\"xaxis\":\"x3\",\"yaxis\":\"y3\"},{\"legendgroup\":\"thresh3_twoport\",\"line\":{\"width\":0},\"marker\":{\"color\":\"rgba(169,169,169,0.4)\"},\"mode\":\"lines\",\"name\":\"Upper Bound\",\"showlegend\":false,\"x\":[4,8,12,16,20,24,28,32,36,40],\"y\":[1.3240010231930672,1.872084539596196,2.0958577663161497,1.9797212875903816,2.128610740858841,1.6656367579486306,2.432655358787224,2.432655358787224,null,null],\"type\":\"scatter\",\"xaxis\":\"x3\",\"yaxis\":\"y3\"},{\"fill\":\"tonexty\",\"fillcolor\":\"rgba(169,169,169,0.4)\",\"legendgroup\":\"thresh3_twoport\",\"line\":{\"width\":0},\"marker\":{\"color\":\"rgba(169,169,169,0.4)\"},\"mode\":\"lines\",\"name\":\"Lower Bound\",\"showlegend\":false,\"x\":[4,8,12,16,20,24,28,32,36,40],\"y\":[0.7549632671549407,1.2817907384456595,1.404584692306612,1.6624305270994413,1.943211686423066,1.2681262131926436,2.157873499815986,2.264256562551687,null,null],\"type\":\"scatter\",\"xaxis\":\"x3\",\"yaxis\":\"y3\"},{\"legendgroup\":\"thresh5_twoport\",\"line\":{\"color\":\"midnightblue\"},\"mode\":\"lines\",\"name\":\"thresh5_twoport\",\"opacity\":0.8,\"showlegend\":false,\"x\":[4,8,12,16,20,24,28,32,36,40],\"y\":[0.24578015890754387,0.9991421325087414,2.2642565625516866,2.180057164433918,2.432655358787224,2.2642565625516866,2.066346910615843,2.1578734998159854,2.0958577663161497,1.8540023747907246],\"type\":\"scatter\",\"xaxis\":\"x3\",\"yaxis\":\"y3\"},{\"legendgroup\":\"thresh5_twoport\",\"line\":{\"width\":0},\"marker\":{\"color\":\"rgba(25,25,112,0.4)\"},\"mode\":\"lines\",\"name\":\"Upper Bound\",\"showlegend\":false,\"x\":[4,8,12,16,20,24,28,32,36,40],\"y\":[0.6376359831278875,2.021995151784727,2.4326553587872235,2.2642565625516866,null,null,null,null,null,null],\"type\":\"scatter\",\"xaxis\":\"x3\",\"yaxis\":\"y3\"},{\"fill\":\"tonexty\",\"fillcolor\":\"rgba(25,25,112,0.4)\",\"legendgroup\":\"thresh5_twoport\",\"line\":{\"width\":0},\"marker\":{\"color\":\"rgba(25,25,112,0.4)\"},\"mode\":\"lines\",\"name\":\"Lower Bound\",\"showlegend\":false,\"x\":[4,8,12,16,20,24,28,32,36,40],\"y\":[-0.14607566531279978,-0.02371088676724431,2.0958577663161497,2.0958577663161497,null,null,null,null,null,null],\"type\":\"scatter\",\"xaxis\":\"x3\",\"yaxis\":\"y3\"},{\"legendgroup\":\"thresh3_twoport\",\"line\":{\"color\":\"darkgrey\"},\"mode\":\"lines\",\"name\":\"thresh3_twoport\",\"opacity\":0.8,\"showlegend\":false,\"x\":[4,8,12,16,20,24,28,32],\"y\":[1.1394554723582173,1.3410382150086502,2.1165296774827618,2.151990698394662,2.0958577663161497,1.9894747035804485,2.2642565625516866,1.4728374530837849],\"type\":\"scatter\",\"xaxis\":\"x4\",\"yaxis\":\"y4\"},{\"legendgroup\":\"thresh3_twoport\",\"line\":{\"width\":0},\"marker\":{\"color\":\"rgba(169,169,169,0.4)\"},\"mode\":\"lines\",\"name\":\"Upper Bound\",\"showlegend\":false,\"x\":[4,8,12,16,20,24,28,32],\"y\":[1.4170258484021367,1.638043884882983,2.196522934361873,2.2081236304731746,2.264256562551687,2.432655358787224,null,null],\"type\":\"scatter\",\"xaxis\":\"x4\",\"yaxis\":\"y4\"},{\"fill\":\"tonexty\",\"fillcolor\":\"rgba(169,169,169,0.4)\",\"legendgroup\":\"thresh3_twoport\",\"line\":{\"width\":0},\"marker\":{\"color\":\"rgba(169,169,169,0.4)\"},\"mode\":\"lines\",\"name\":\"Lower Bound\",\"showlegend\":false,\"x\":[4,8,12,16,20,24,28,32],\"y\":[0.8618850963142979,1.0440325451343173,2.0365364206036505,2.0958577663161497,1.9274589700806124,1.5462940483736731,null,null],\"type\":\"scatter\",\"xaxis\":\"x4\",\"yaxis\":\"y4\"},{\"legendgroup\":\"thresh5_twoport\",\"line\":{\"color\":\"midnightblue\"},\"mode\":\"lines\",\"name\":\"thresh5_twoport\",\"opacity\":0.8,\"showlegend\":false,\"x\":[4,8,12,16,20,24,28,32],\"y\":[0.9063364761780024,1.4558328303302088,1.6838084611903283,2.2642565625516866,2.0958577663161497,2.432655358787224,2.432655358787224,1.9489445757363735],\"type\":\"scatter\",\"xaxis\":\"x4\",\"yaxis\":\"y4\"},{\"legendgroup\":\"thresh5_twoport\",\"line\":{\"width\":0},\"marker\":{\"color\":\"rgba(25,25,112,0.4)\"},\"mode\":\"lines\",\"name\":\"Upper Bound\",\"showlegend\":false,\"x\":[4,8,12,16,20,24,28,32],\"y\":[1.5261254021937356,2.264256562551687,2.264256562551687,2.4326553587872235,2.432655358787224,null,null,null],\"type\":\"scatter\",\"xaxis\":\"x4\",\"yaxis\":\"y4\"},{\"fill\":\"tonexty\",\"fillcolor\":\"rgba(25,25,112,0.4)\",\"legendgroup\":\"thresh5_twoport\",\"line\":{\"width\":0},\"marker\":{\"color\":\"rgba(25,25,112,0.4)\"},\"mode\":\"lines\",\"name\":\"Lower Bound\",\"showlegend\":false,\"x\":[4,8,12,16,20,24,28,32],\"y\":[0.2865475501622692,0.6474090981087306,1.1033603598289696,2.0958577663161497,1.7590601738450755,null,null,null],\"type\":\"scatter\",\"xaxis\":\"x4\",\"yaxis\":\"y4\"},{\"legendgroup\":\"thresh3_twoport\",\"line\":{\"color\":\"darkgrey\"},\"mode\":\"lines\",\"name\":\"thresh3_twoport\",\"opacity\":0.8,\"showlegend\":false,\"x\":[4,8,12,16,20,24,28,32,36,40],\"y\":[1.2750683310300361,1.7732433810668216,1.8991598177206326,2.1933345207278863,2.1726626095612738,1.8379341979148391,1.8064215251801639,1.9274589700806124,1.8210759073449112,1.6231662554090678],\"type\":\"scatter\",\"xaxis\":\"x5\",\"yaxis\":\"y5\"},{\"legendgroup\":\"thresh3_twoport\",\"line\":{\"width\":0},\"marker\":{\"color\":\"rgba(169,169,169,0.4)\"},\"mode\":\"lines\",\"name\":\"Upper Bound\",\"showlegend\":false,\"x\":[4,8,12,16,20,24,28,32,36,40],\"y\":[1.6414400571954786,2.264256562551687,2.045915413145839,2.3224925457598373,2.3550536231601966,1.8830916408447471,null,null,null,null],\"type\":\"scatter\",\"xaxis\":\"x5\",\"yaxis\":\"y5\"},{\"fill\":\"tonexty\",\"fillcolor\":\"rgba(169,169,169,0.4)\",\"legendgroup\":\"thresh3_twoport\",\"line\":{\"width\":0},\"marker\":{\"color\":\"rgba(169,169,169,0.4)\"},\"mode\":\"lines\",\"name\":\"Lower Bound\",\"showlegend\":false,\"x\":[4,8,12,16,20,24,28,32,36,40],\"y\":[0.9086966048645937,1.2822301995819563,1.7524042222954264,2.064176495695935,1.9902715959623507,1.7927767549849312,null,null,null,null],\"type\":\"scatter\",\"xaxis\":\"x5\",\"yaxis\":\"y5\"},{\"legendgroup\":\"thresh5_twoport\",\"line\":{\"color\":\"midnightblue\"},\"mode\":\"lines\",\"name\":\"thresh5_twoport\",\"opacity\":0.8,\"showlegend\":false,\"x\":[4,8,12,16,20,24,28,32,36,40,44],\"y\":[1.4961786452970252,2.2081236304731746,2.151990698394662,2.376522426708712,2.2849284737182987,2.1101815034199904,2.0901373354211237,2.295264429301605,2.1268656330660676,2.0958577663161497,0.49781222658382196],\"type\":\"scatter\",\"xaxis\":\"x5\",\"yaxis\":\"y5\"},{\"legendgroup\":\"thresh5_twoport\",\"line\":{\"width\":0},\"marker\":{\"color\":\"rgba(25,25,112,0.4)\"},\"mode\":\"lines\",\"name\":\"Upper Bound\",\"showlegend\":false,\"x\":[4,8,12,16,20,24,28,32,36,40,44],\"y\":[2.0466992385560703,2.3566374091137985,2.354380863245876,2.4326553587872244,2.3649217305974104,2.432655358787224,2.264256562551687,2.432655358787224,2.432655358787224,null,null],\"type\":\"scatter\",\"xaxis\":\"x5\",\"yaxis\":\"y5\"},{\"fill\":\"tonexty\",\"fillcolor\":\"rgba(25,25,112,0.4)\",\"legendgroup\":\"thresh5_twoport\",\"line\":{\"width\":0},\"marker\":{\"color\":\"rgba(25,25,112,0.4)\"},\"mode\":\"lines\",\"name\":\"Lower Bound\",\"showlegend\":false,\"x\":[4,8,12,16,20,24,28,32,36,40,44],\"y\":[0.9456580520379803,2.0596098518325507,1.9496005335434483,2.3203894946301995,2.204935216839187,1.7877076480527567,1.9160181082905603,2.157873499815986,1.8210759073449112,null,null],\"type\":\"scatter\",\"xaxis\":\"x5\",\"yaxis\":\"y5\"},{\"legendgroup\":\"thresh3_twoport\",\"line\":{\"color\":\"darkgrey\"},\"mode\":\"lines\",\"name\":\"thresh3_twoport\",\"opacity\":0.8,\"showlegend\":false,\"x\":[4,8,12,16,20,24,28],\"y\":[1.5730566546339737,1.9944268614256346,2.0603967454042493,1.9894747035804485,1.9894747035804485,1.4547674591735307,0.49781222658382196],\"type\":\"scatter\",\"xaxis\":\"x6\",\"yaxis\":\"y6\"},{\"legendgroup\":\"thresh3_twoport\",\"line\":{\"width\":0},\"marker\":{\"color\":\"rgba(169,169,169,0.4)\"},\"mode\":\"lines\",\"name\":\"Upper Bound\",\"showlegend\":false,\"x\":[4,8,12,16,20,24,28],\"y\":[1.5870717570667914,2.186316905312089,2.134279707507083,null,null,null,null],\"type\":\"scatter\",\"xaxis\":\"x6\",\"yaxis\":\"y6\"},{\"fill\":\"tonexty\",\"fillcolor\":\"rgba(169,169,169,0.4)\",\"legendgroup\":\"thresh3_twoport\",\"line\":{\"width\":0},\"marker\":{\"color\":\"rgba(169,169,169,0.4)\"},\"mode\":\"lines\",\"name\":\"Lower Bound\",\"showlegend\":false,\"x\":[4,8,12,16,20,24,28],\"y\":[1.559041552201156,1.8025368175391805,1.9865137833014157,null,null,null,null],\"type\":\"scatter\",\"xaxis\":\"x6\",\"yaxis\":\"y6\"},{\"legendgroup\":\"thresh5_twoport\",\"line\":{\"color\":\"midnightblue\"},\"mode\":\"lines\",\"name\":\"thresh5_twoport\",\"opacity\":0.8,\"showlegend\":false,\"x\":[4,8,12,16,20,24,28,32,36,40,44],\"y\":[1.5732645483063383,2.264256562551687,2.2081236304731746,2.1165296774827618,2.0860208144160475,2.151990698394662,1.897948114380306,1.9217385391855868,2.264256562551687,2.2642565625516866,1.8830916408447473],\"type\":\"scatter\",\"xaxis\":\"x6\",\"yaxis\":\"y6\"},{\"legendgroup\":\"thresh5_twoport\",\"line\":{\"width\":0},\"marker\":{\"color\":\"rgba(25,25,112,0.4)\"},\"mode\":\"lines\",\"name\":\"Upper Bound\",\"showlegend\":false,\"x\":[4,8,12,16,20,24,28,32,36,40,44],\"y\":[1.694966571934698,2.3614816528894833,2.264256562551687,2.215928098508817,2.191879279700982,2.264256562551687,2.432655358787224,2.264256562551687,null,null,null],\"type\":\"scatter\",\"xaxis\":\"x6\",\"yaxis\":\"y6\"},{\"fill\":\"tonexty\",\"fillcolor\":\"rgba(25,25,112,0.4)\",\"legendgroup\":\"thresh5_twoport\",\"line\":{\"width\":0},\"marker\":{\"color\":\"rgba(25,25,112,0.4)\"},\"mode\":\"lines\",\"name\":\"Lower Bound\",\"showlegend\":false,\"x\":[4,8,12,16,20,24,28,32,36,40,44],\"y\":[1.4515625246779786,2.167031472213891,2.151990698394662,2.0171312564567065,1.980162349131113,2.0397248342376373,1.3632408699733882,1.5792205158194865,null,null,null],\"type\":\"scatter\",\"xaxis\":\"x6\",\"yaxis\":\"y6\"},{\"legendgroup\":\"thresh3_twoport\",\"line\":{\"color\":\"darkgrey\"},\"mode\":\"lines\",\"name\":\"thresh3_twoport\",\"opacity\":0.8,\"showlegend\":false,\"x\":[4,8,12,16,20,24,28,32,36,40,44],\"y\":[0.1269876101120428,-0.05987338658337227,0.6840818223609574,0.7865839007097041,1.1053846653623483,1.4400457132185125,1.6230988916187974,1.592657392342354,1.637888001364086,1.485211016413456,1.7610561885778906],\"type\":\"scatter\",\"xaxis\":\"x7\",\"yaxis\":\"y7\"},{\"legendgroup\":\"thresh3_twoport\",\"line\":{\"width\":0},\"marker\":{\"color\":\"rgba(169,169,169,0.4)\"},\"mode\":\"lines\",\"name\":\"Upper Bound\",\"showlegend\":false,\"x\":[4,8,12,16,20,24,28,32,36,40,44],\"y\":[0.3163273768818654,0.16809536833291253,1.0801361214010556,1.084578707132931,1.3333564806017428,1.7693866843261477,1.7566734790806442,1.8362953596722769,1.7294819543544986,1.6931684804883063,2.066279546825573],\"type\":\"scatter\",\"xaxis\":\"x7\",\"yaxis\":\"y7\"},{\"fill\":\"tonexty\",\"fillcolor\":\"rgba(169,169,169,0.4)\",\"legendgroup\":\"thresh3_twoport\",\"line\":{\"width\":0},\"marker\":{\"color\":\"rgba(169,169,169,0.4)\"},\"mode\":\"lines\",\"name\":\"Lower Bound\",\"showlegend\":false,\"x\":[4,8,12,16,20,24,28,32,36,40,44],\"y\":[-0.06235215665777982,-0.28784214149965703,0.2880275233208591,0.4885890942864773,0.8774128501229536,1.1107047421108773,1.4895243041569506,1.349019425012431,1.5462940483736733,1.2772535523386057,1.4558328303302082],\"type\":\"scatter\",\"xaxis\":\"x7\",\"yaxis\":\"y7\"},{\"legendgroup\":\"thresh5_twoport\",\"line\":{\"color\":\"midnightblue\"},\"mode\":\"lines\",\"name\":\"thresh5_twoport\",\"opacity\":0.8,\"showlegend\":false,\"x\":[4,8,12,16,20,24,28,32,36],\"y\":[-0.03303761423124755,0.3467077104630006,-0.23329750675591984,1.3100493386055376,1.7458017570445337,1.8447565830124555,1.9127035422304592,1.4400120313233775,0.7916386077433746],\"type\":\"scatter\",\"xaxis\":\"x7\",\"yaxis\":\"y7\"},{\"legendgroup\":\"thresh5_twoport\",\"line\":{\"width\":0},\"marker\":{\"color\":\"rgba(25,25,112,0.4)\"},\"mode\":\"lines\",\"name\":\"Upper Bound\",\"showlegend\":false,\"x\":[4,8,12,16,20,24,28,32,36],\"y\":[0.30010055125782165,0.6962098956726226,-0.06343111347830113,1.5611505219092319,2.432655358787224,2.432655358787224,2.0958577663161497,1.7295493181447692,null],\"type\":\"scatter\",\"xaxis\":\"x7\",\"yaxis\":\"y7\"},{\"fill\":\"tonexty\",\"fillcolor\":\"rgba(25,25,112,0.4)\",\"legendgroup\":\"thresh5_twoport\",\"line\":{\"width\":0},\"marker\":{\"color\":\"rgba(25,25,112,0.4)\"},\"mode\":\"lines\",\"name\":\"Lower Bound\",\"showlegend\":false,\"x\":[4,8,12,16,20,24,28,32,36],\"y\":[-0.3661757797203168,-0.002794474746621478,-0.4031639000335385,1.0589481553018434,1.0589481553018434,1.256857807237687,1.729549318144769,1.1504747445019858,null],\"type\":\"scatter\",\"xaxis\":\"x7\",\"yaxis\":\"y7\"},{\"legendgroup\":\"thresh3_twoport\",\"line\":{\"color\":\"darkgrey\"},\"mode\":\"lines\",\"name\":\"thresh3_twoport\",\"opacity\":0.8,\"showlegend\":false,\"x\":[4,8,12,16,20,24,28,32,36,40,44],\"y\":[0.3542324024678846,1.43007403373787,1.592657392342354,1.8063541613898932,1.88216099726861,1.9333417715019363,1.857675465505314,1.6852830345943093,1.6232673010944731,1.5429736291586391,0.46431793901483526],\"type\":\"scatter\",\"xaxis\":\"x8\",\"yaxis\":\"y8\"},{\"legendgroup\":\"thresh3_twoport\",\"line\":{\"width\":0},\"marker\":{\"color\":\"rgba(169,169,169,0.4)\"},\"mode\":\"lines\",\"name\":\"Upper Bound\",\"showlegend\":false,\"x\":[4,8,12,16,20,24,28,32,36,40,44],\"y\":[0.5603246781253605,1.5359324990228043,1.7850163925888074,2.121001314068358,2.020482176505634,2.195297118422424,2.15278716004466,2.432655358787224,2.2642565625516866,2.157873499815986,null],\"type\":\"scatter\",\"xaxis\":\"x8\",\"yaxis\":\"y8\"},{\"fill\":\"tonexty\",\"fillcolor\":\"rgba(169,169,169,0.4)\",\"legendgroup\":\"thresh3_twoport\",\"line\":{\"width\":0},\"marker\":{\"color\":\"rgba(169,169,169,0.4)\"},\"mode\":\"lines\",\"name\":\"Lower Bound\",\"showlegend\":false,\"x\":[4,8,12,16,20,24,28,32,36,40,44],\"y\":[0.1481401268104088,1.3242155684529355,1.4002983920959005,1.4917070087114284,1.743839818031586,1.6713864245814485,1.5625637709659679,0.9379107104013945,0.9822780396372598,0.9280737585012924,null],\"type\":\"scatter\",\"xaxis\":\"x8\",\"yaxis\":\"y8\"},{\"legendgroup\":\"thresh5_twoport\",\"line\":{\"color\":\"midnightblue\"},\"mode\":\"lines\",\"name\":\"thresh5_twoport\",\"opacity\":0.8,\"showlegend\":false,\"x\":[4,8,12,16,20,24,28,32],\"y\":[0.6229967324372586,0.7485883263317165,1.5700757697266228,1.738584315099896,1.8210759073449114,1.439910985637972,2.264256562551687,2.0958577663161497],\"type\":\"scatter\",\"xaxis\":\"x8\",\"yaxis\":\"y8\"},{\"legendgroup\":\"thresh5_twoport\",\"line\":{\"width\":0},\"marker\":{\"color\":\"rgba(25,25,112,0.4)\"},\"mode\":\"lines\",\"name\":\"Upper Bound\",\"showlegend\":false,\"x\":[4,8,12,16,20,24,28,32],\"y\":[1.1001210181506635,1.287145920099375,2.264256562551687,2.2642565625516866,2.0958577663161497,null,null,null],\"type\":\"scatter\",\"xaxis\":\"x8\",\"yaxis\":\"y8\"},{\"fill\":\"tonexty\",\"fillcolor\":\"rgba(25,25,112,0.4)\",\"legendgroup\":\"thresh5_twoport\",\"line\":{\"width\":0},\"marker\":{\"color\":\"rgba(25,25,112,0.4)\"},\"mode\":\"lines\",\"name\":\"Lower Bound\",\"showlegend\":false,\"x\":[4,8,12,16,20,24,28,32],\"y\":[0.14587244672385374,0.21003073256405802,0.8758949769015586,1.2129120676481056,1.5462940483736731,null,null,null],\"type\":\"scatter\",\"xaxis\":\"x8\",\"yaxis\":\"y8\"},{\"legendgroup\":\"thresh3_twoport\",\"line\":{\"color\":\"darkgrey\"},\"mode\":\"lines\",\"name\":\"thresh3_twoport\",\"opacity\":0.8,\"showlegend\":false,\"x\":[4,8,12,16,20,24,28,32,36,40],\"y\":[0.5827182812607127,1.62430479265757,2.1066927255826595,2.1726626095612738,1.9491288886136322,1.8624870934684055,1.862487093468406,1.6133966672992361,1.3839127811400003,0.9380864256817029],\"type\":\"scatter\",\"xaxis\":\"x9\",\"yaxis\":\"y9\"},{\"legendgroup\":\"thresh3_twoport\",\"line\":{\"width\":0},\"marker\":{\"color\":\"rgba(169,169,169,0.4)\"},\"mode\":\"lines\",\"name\":\"Upper Bound\",\"showlegend\":false,\"x\":[4,8,12,16,20,24,28,32,36,40],\"y\":[0.7293066290811356,2.133087150331657,2.2718017883430996,2.4326553587872235,2.212859159511085,2.27585306265147,2.148792971400357,2.045155828099507,1.5587391148897527,1.5092794523457211],\"type\":\"scatter\",\"xaxis\":\"x9\",\"yaxis\":\"y9\"},{\"fill\":\"tonexty\",\"fillcolor\":\"rgba(169,169,169,0.4)\",\"legendgroup\":\"thresh3_twoport\",\"line\":{\"width\":0},\"marker\":{\"color\":\"rgba(169,169,169,0.4)\"},\"mode\":\"lines\",\"name\":\"Lower Bound\",\"showlegend\":false,\"x\":[4,8,12,16,20,24,28,32,36,40],\"y\":[0.4361299334402897,1.1155224349834827,1.9415836628222192,1.9126698603353238,1.685398617716179,1.449121124285341,1.576181215536455,1.1816375064989653,1.2090864473902478,0.3668933990176846],\"type\":\"scatter\",\"xaxis\":\"x9\",\"yaxis\":\"y9\"},{\"legendgroup\":\"thresh5_twoport\",\"line\":{\"color\":\"midnightblue\"},\"mode\":\"lines\",\"name\":\"thresh5_twoport\",\"opacity\":0.8,\"showlegend\":false,\"x\":[4,8,12,16,20,24,28],\"y\":[0.9208739092557616,1.9688027924138367,1.8991598177206324,1.9089236035289103,2.1066927255826595,1.9894747035804485,1.5826361275649927],\"type\":\"scatter\",\"xaxis\":\"x9\",\"yaxis\":\"y9\"},{\"legendgroup\":\"thresh5_twoport\",\"line\":{\"width\":0},\"marker\":{\"color\":\"rgba(25,25,112,0.4)\"},\"mode\":\"lines\",\"name\":\"Upper Bound\",\"showlegend\":false,\"x\":[4,8,12,16,20,24,28],\"y\":[1.613079681669408,2.1855782274737097,2.1185744962926853,2.2642565625516866,2.3532949181670553,2.0746426375033056,1.7000384624444624],\"type\":\"scatter\",\"xaxis\":\"x9\",\"yaxis\":\"y9\"},{\"fill\":\"tonexty\",\"fillcolor\":\"rgba(25,25,112,0.4)\",\"legendgroup\":\"thresh5_twoport\",\"line\":{\"width\":0},\"marker\":{\"color\":\"rgba(25,25,112,0.4)\"},\"mode\":\"lines\",\"name\":\"Lower Bound\",\"showlegend\":false,\"x\":[4,8,12,16,20,24,28],\"y\":[0.22866813684211518,1.7520273573539635,1.6797451391485794,1.553590644506134,1.8600905329982638,1.9043067696575915,1.465233792685523],\"type\":\"scatter\",\"xaxis\":\"x9\",\"yaxis\":\"y9\"},{\"legendgroup\":\"thresh3_twoport\",\"line\":{\"color\":\"darkgrey\"},\"mode\":\"lines\",\"name\":\"thresh3_twoport\",\"opacity\":0.8,\"showlegend\":false,\"x\":[4,8,12,16,20,24,28,32,36,40,44,48],\"y\":[0.7842336601208754,1.8831590046350177,2.376522426708712,2.1726626095612738,2.1726626095612738,2.320389494630199,2.254419610651585,2.015166136382517,1.6783011801211725,1.249530616155313,1.7238288872497427,1.201892795504337],\"type\":\"scatter\",\"xaxis\":\"x10\",\"yaxis\":\"y10\"},{\"legendgroup\":\"thresh3_twoport\",\"line\":{\"width\":0},\"marker\":{\"color\":\"rgba(169,169,169,0.4)\"},\"mode\":\"lines\",\"name\":\"Upper Bound\",\"showlegend\":false,\"x\":[4,8,12,16,20,24,28,32,36,40,44,48],\"y\":[1.1579275916589253,2.3509885001167707,2.4326553587872244,2.3550536231601966,2.306237197023121,2.432655358787224,2.3602780759365194,2.2642565625516866,1.7195695455338955,1.8210759073449112,2.066346910615843,1.6121469832652995],\"type\":\"scatter\",\"xaxis\":\"x10\",\"yaxis\":\"y10\"},{\"fill\":\"tonexty\",\"fillcolor\":\"rgba(169,169,169,0.4)\",\"legendgroup\":\"thresh3_twoport\",\"line\":{\"width\":0},\"marker\":{\"color\":\"rgba(169,169,169,0.4)\"},\"mode\":\"lines\",\"name\":\"Lower Bound\",\"showlegend\":false,\"x\":[4,8,12,16,20,24,28,32,36,40,44,48],\"y\":[0.4105397285828253,1.4153295091532647,2.3203894946301995,1.9902715959623507,2.0390880220994267,2.208123630473174,2.14856114536665,1.7660757102133473,1.6370328147084494,0.677985324965715,1.3813108638836424,0.7916386077433746],\"type\":\"scatter\",\"xaxis\":\"x10\",\"yaxis\":\"y10\"},{\"legendgroup\":\"thresh5_twoport\",\"line\":{\"color\":\"midnightblue\"},\"mode\":\"lines\",\"name\":\"thresh5_twoport\",\"opacity\":0.8,\"showlegend\":false,\"x\":[4,8,12,16,20,24,28,32],\"y\":[1.4935767280406675,1.7965172094897912,2.0310264195860377,2.2642565625516866,1.912669860335324,2.264256562551687,1.9894747035804485,1.3993808577938969],\"type\":\"scatter\",\"xaxis\":\"x10\",\"yaxis\":\"y10\"},{\"legendgroup\":\"thresh5_twoport\",\"line\":{\"width\":0},\"marker\":{\"color\":\"rgba(25,25,112,0.4)\"},\"mode\":\"lines\",\"name\":\"Upper Bound\",\"showlegend\":false,\"x\":[4,8,12,16,20,24,28,32],\"y\":[1.986202320619937,2.136255594320882,2.239542075689117,2.361481652889483,2.0958577663161497,null,null,null],\"type\":\"scatter\",\"xaxis\":\"x10\",\"yaxis\":\"y10\"},{\"fill\":\"tonexty\",\"fillcolor\":\"rgba(25,25,112,0.4)\",\"legendgroup\":\"thresh5_twoport\",\"line\":{\"width\":0},\"marker\":{\"color\":\"rgba(25,25,112,0.4)\"},\"mode\":\"lines\",\"name\":\"Lower Bound\",\"showlegend\":false,\"x\":[4,8,12,16,20,24,28,32],\"y\":[1.000951135461398,1.4567788246587003,1.8225107634829585,2.1670314722138904,1.7294819543544984,null,null,null],\"type\":\"scatter\",\"xaxis\":\"x10\",\"yaxis\":\"y10\"},{\"legendgroup\":\"thresh3_twoport\",\"line\":{\"color\":\"darkgrey\"},\"mode\":\"lines\",\"name\":\"thresh3_twoport\",\"opacity\":0.8,\"showlegend\":false,\"x\":[4,8,12,16,20,24,28,32,36,40,44],\"y\":[1.424325959897087,2.264256562551687,2.151990698394662,2.151990698394662,2.1726626095612738,2.2287955416397867,2.320389494630199,2.2287955416397867,2.172662609561274,1.9284569774470202,1.934620838632533],\"type\":\"scatter\",\"xaxis\":\"x11\",\"yaxis\":\"y11\"},{\"legendgroup\":\"thresh3_twoport\",\"line\":{\"width\":0},\"marker\":{\"color\":\"rgba(169,169,169,0.4)\"},\"mode\":\"lines\",\"name\":\"Upper Bound\",\"showlegend\":false,\"x\":[4,8,12,16,20,24,28,32,36,40,44],\"y\":[1.622299624215488,2.3614816528894833,2.2081236304731746,2.300504477035286,2.306237197023121,2.3322856483906587,2.3765224267087115,2.264256562551687,2.22183433913796,2.060623510496898,2.1872237277957858],\"type\":\"scatter\",\"xaxis\":\"x11\",\"yaxis\":\"y11\"},{\"fill\":\"tonexty\",\"fillcolor\":\"rgba(169,169,169,0.4)\",\"legendgroup\":\"thresh3_twoport\",\"line\":{\"width\":0},\"marker\":{\"color\":\"rgba(169,169,169,0.4)\"},\"mode\":\"lines\",\"name\":\"Lower Bound\",\"showlegend\":false,\"x\":[4,8,12,16,20,24,28,32,36,40,44],\"y\":[1.226352295578686,2.167031472213891,2.0958577663161497,2.0034769197540383,2.0390880220994267,2.1253054348889147,2.2642565625516866,2.1933345207278863,2.1234908799845886,1.7962904443971421,1.6820179494692802],\"type\":\"scatter\",\"xaxis\":\"x11\",\"yaxis\":\"y11\"},{\"legendgroup\":\"thresh5_twoport\",\"line\":{\"color\":\"midnightblue\"},\"mode\":\"lines\",\"name\":\"thresh5_twoport\",\"opacity\":0.8,\"showlegend\":false,\"x\":[4,8,12,16,20,24,28,32,36,40,44],\"y\":[1.4193064382616303,2.0603967454042493,2.1726626095612738,2.004263813325737,1.9481308812472247,1.943711408980377,1.9894747035804485,2.2642565625516866,1.8520837740948295,2.2081236304731746,1.465233792685523],\"type\":\"scatter\",\"xaxis\":\"x11\",\"yaxis\":\"y11\"},{\"legendgroup\":\"thresh5_twoport\",\"line\":{\"width\":0},\"marker\":{\"color\":\"rgba(25,25,112,0.4)\"},\"mode\":\"lines\",\"name\":\"Upper Bound\",\"showlegend\":false,\"x\":[4,8,12,16,20,24,28,32,36,40,44],\"y\":[1.662152991896157,2.189554770436201,2.306237197023121,2.137838400787584,2.1923318340236992,2.2642565625516866,2.432655358787224,2.4326553587872235,2.264256562551687,2.4326553587872244,null],\"type\":\"scatter\",\"xaxis\":\"x11\",\"yaxis\":\"y11\"},{\"fill\":\"tonexty\",\"fillcolor\":\"rgba(25,25,112,0.4)\",\"legendgroup\":\"thresh5_twoport\",\"line\":{\"width\":0},\"marker\":{\"color\":\"rgba(25,25,112,0.4)\"},\"mode\":\"lines\",\"name\":\"Lower Bound\",\"showlegend\":false,\"x\":[4,8,12,16,20,24,28,32,36,40,44],\"y\":[1.1764598846271035,1.931238720372298,2.0390880220994267,1.8706892258638899,1.7039299284707499,1.6231662554090676,1.5462940483736731,2.0958577663161497,1.439910985637972,1.983591902159125,null],\"type\":\"scatter\",\"xaxis\":\"x11\",\"yaxis\":\"y11\"},{\"legendgroup\":\"thresh3_twoport\",\"line\":{\"color\":\"darkgrey\"},\"mode\":\"lines\",\"name\":\"thresh3_twoport\",\"opacity\":0.8,\"showlegend\":false,\"x\":[4,8,12,16,20,24,28,32,36,40,44,48,52,56,60],\"y\":[0.5215658275467436,1.3960268075371067,1.7403842774112788,2.0958577663161497,2.137201588649374,2.1165296774827618,2.2081236304731746,1.818541353878824,1.7024618691251152,2.249501134701534,1.9437114089803773,2.0736741016982174,1.9417827071844531,1.6380227289446267,1.9489445757363735],\"type\":\"scatter\",\"xaxis\":\"x12\",\"yaxis\":\"y12\"},{\"legendgroup\":\"thresh3_twoport\",\"line\":{\"width\":0},\"marker\":{\"color\":\"rgba(169,169,169,0.4)\"},\"mode\":\"lines\",\"name\":\"Upper Bound\",\"showlegend\":false,\"x\":[4,8,12,16,20,24,28,32,36,40,44,48,52,56,60],\"y\":[0.970448648975085,2.2696832764560235,2.2036130151996485,2.193082856653946,2.2171948455284856,2.264256562551687,2.3566374091137985,2.2083647718663664,2.1412912262692214,2.4326553587872244,2.0958577663161497,2.2642565625516875,2.0958577663161497,null,null],\"type\":\"scatter\",\"xaxis\":\"x12\",\"yaxis\":\"y12\"},{\"fill\":\"tonexty\",\"fillcolor\":\"rgba(169,169,169,0.4)\",\"legendgroup\":\"thresh3_twoport\",\"line\":{\"width\":0},\"marker\":{\"color\":\"rgba(169,169,169,0.4)\"},\"mode\":\"lines\",\"name\":\"Lower Bound\",\"showlegend\":false,\"x\":[4,8,12,16,20,24,28,32,36,40,44,48,52,56,60],\"y\":[0.07268300611840223,0.5223703386181899,1.277155539622909,1.9986326759783535,2.057208331770262,1.9688027924138365,2.0596098518325507,1.4287179358912816,1.263632511981009,2.0663469106158434,1.791565051644605,1.8830916408447473,1.7877076480527565,null,null],\"type\":\"scatter\",\"xaxis\":\"x12\",\"yaxis\":\"y12\"},{\"legendgroup\":\"thresh5_twoport\",\"line\":{\"color\":\"midnightblue\"},\"mode\":\"lines\",\"name\":\"thresh5_twoport\",\"opacity\":0.8,\"showlegend\":false,\"x\":[4,8,12,16,20,24,28,32,36,40,44],\"y\":[2.117668214731264,2.320389494630199,2.320389494630199,2.2287955416397867,2.2690311415863005,2.2110650311838365,2.1268656330660676,1.9894747035804485,1.9894747035804485,2.264256562551687,0.49781222658382196],\"type\":\"scatter\",\"xaxis\":\"x12\",\"yaxis\":\"y12\"},{\"legendgroup\":\"thresh5_twoport\",\"line\":{\"width\":0},\"marker\":{\"color\":\"rgba(25,25,112,0.4)\"},\"mode\":\"lines\",\"name\":\"Upper Bound\",\"showlegend\":false,\"x\":[4,8,12,16,20,24,28,32,36,40,44],\"y\":[2.4326553587872244,2.432655358787224,2.3765224267087115,2.3579535666717377,2.3621519310706582,2.264256562551687,2.2642565625516866,null,null,null,null],\"type\":\"scatter\",\"xaxis\":\"x12\",\"yaxis\":\"y12\"},{\"fill\":\"tonexty\",\"fillcolor\":\"rgba(25,25,112,0.4)\",\"legendgroup\":\"thresh5_twoport\",\"line\":{\"width\":0},\"marker\":{\"color\":\"rgba(25,25,112,0.4)\"},\"mode\":\"lines\",\"name\":\"Lower Bound\",\"showlegend\":false,\"x\":[4,8,12,16,20,24,28,32,36,40,44],\"y\":[1.8026810706753038,2.208123630473174,2.2642565625516866,2.0996375166078356,2.1759103521019427,2.157873499815986,1.9894747035804485,null,null,null,null],\"type\":\"scatter\",\"xaxis\":\"x12\",\"yaxis\":\"y12\"},{\"legendgroup\":\"thresh3_twoport\",\"line\":{\"color\":\"darkgrey\"},\"mode\":\"lines\",\"name\":\"thresh3_twoport\",\"opacity\":0.8,\"showlegend\":false,\"x\":[4,8,12,16,20,24,28,32,36,40,44],\"y\":[0.3079364222894743,0.7915360585548902,0.9953958757023278,1.5023425064825375,1.8319108666114212,1.8565369282568118,1.750221229311381,1.7856148864330113,1.6133293035089658,0.9014137014294761,1.1504747445019858],\"type\":\"scatter\",\"xaxis\":\"x13\",\"yaxis\":\"y13\"},{\"legendgroup\":\"thresh3_twoport\",\"line\":{\"width\":0},\"marker\":{\"color\":\"rgba(169,169,169,0.4)\"},\"mode\":\"lines\",\"name\":\"Upper Bound\",\"showlegend\":false,\"x\":[4,8,12,16,20,24,28,32,36,40,44],\"y\":[0.7315309333935613,1.178666345191319,1.655700636382287,1.9914422136189711,2.1503528699443692,1.985694953288763,2.0179677165980654,2.0249357244923494,1.9607003238024965,1.48321382761889,null],\"type\":\"scatter\",\"xaxis\":\"x13\",\"yaxis\":\"y13\"},{\"fill\":\"tonexty\",\"fillcolor\":\"rgba(169,169,169,0.4)\",\"legendgroup\":\"thresh3_twoport\",\"line\":{\"width\":0},\"marker\":{\"color\":\"rgba(169,169,169,0.4)\"},\"mode\":\"lines\",\"name\":\"Lower Bound\",\"showlegend\":false,\"x\":[4,8,12,16,20,24,28,32,36,40,44],\"y\":[-0.1156580888146127,0.4044057719184613,0.33509111502236855,1.013242799346104,1.5134688632784732,1.7273789032248605,1.4824747420246966,1.5462940483736731,1.265958283215435,0.31961357524006206,null],\"type\":\"scatter\",\"xaxis\":\"x13\",\"yaxis\":\"y13\"},{\"legendgroup\":\"thresh5_twoport\",\"line\":{\"color\":\"midnightblue\"},\"mode\":\"lines\",\"name\":\"thresh5_twoport\",\"opacity\":0.8,\"showlegend\":false,\"x\":[4,8,12,16,20,24,28,32,36,40,44,48],\"y\":[-0.1330783052057313,0.2698355034276059,0.6546735158491349,1.1969786183527609,1.9491288886136324,1.912669860335324,1.9127035422304595,2.2952644293016045,2.0958577663161497,1.9274589700806128,1.8210759073449112,1.5645661336547385],\"type\":\"scatter\",\"xaxis\":\"x13\",\"yaxis\":\"y13\"},{\"legendgroup\":\"thresh5_twoport\",\"line\":{\"width\":0},\"marker\":{\"color\":\"rgba(25,25,112,0.4)\"},\"mode\":\"lines\",\"name\":\"Upper Bound\",\"showlegend\":false,\"x\":[4,8,12,16,20,24,28,32,36,40,44,48],\"y\":[0.18421303383333962,0.9113136559269628,1.4531796380569921,1.8172328895594108,2.3514040308042414,2.046244447797171,2.264256562551687,2.4326553587872235,2.432655358787224,null,null,null],\"type\":\"scatter\",\"xaxis\":\"x13\",\"yaxis\":\"y13\"},{\"fill\":\"tonexty\",\"fillcolor\":\"rgba(25,25,112,0.4)\",\"legendgroup\":\"thresh5_twoport\",\"line\":{\"width\":0},\"marker\":{\"color\":\"rgba(25,25,112,0.4)\"},\"mode\":\"lines\",\"name\":\"Lower Bound\",\"showlegend\":false,\"x\":[4,8,12,16,20,24,28,32,36,40,44,48],\"y\":[-0.4503696442448022,-0.3716426490717509,-0.14383260635872241,0.576724347146111,1.5468537464230232,1.779095272873477,1.5611505219092319,2.1578734998159854,1.7590601738450755,null,null,null],\"type\":\"scatter\",\"xaxis\":\"x13\",\"yaxis\":\"y13\"},{\"legendgroup\":\"thresh3_twoport\",\"line\":{\"color\":\"darkgrey\"},\"mode\":\"lines\",\"name\":\"thresh3_twoport\",\"opacity\":0.8,\"showlegend\":false,\"x\":[4,8,12,16,20,24,28,32,36,40,44],\"y\":[0.6927070709207331,1.8831590046350177,1.9639179983589206,1.88216099726861,2.004263813325737,1.7856822502232816,1.5774029608089966,2.432655358787224,2.432655358787224,2.0958577663161497,1.443748187029762],\"type\":\"scatter\",\"xaxis\":\"x14\",\"yaxis\":\"y14\"},{\"legendgroup\":\"thresh3_twoport\",\"line\":{\"width\":0},\"marker\":{\"color\":\"rgba(169,169,169,0.4)\"},\"mode\":\"lines\",\"name\":\"Upper Bound\",\"showlegend\":false,\"x\":[4,8,12,16,20,24,28,32,36,40,44],\"y\":[1.3087581383161284,2.30282907767804,2.351516532935274,2.045577778309295,2.137838400787584,2.029039902339449,1.9894747035804485,2.432655358787224,null,null,null],\"type\":\"scatter\",\"xaxis\":\"x14\",\"yaxis\":\"y14\"},{\"fill\":\"tonexty\",\"fillcolor\":\"rgba(169,169,169,0.4)\",\"legendgroup\":\"thresh3_twoport\",\"line\":{\"width\":0},\"marker\":{\"color\":\"rgba(169,169,169,0.4)\"},\"mode\":\"lines\",\"name\":\"Lower Bound\",\"showlegend\":false,\"x\":[4,8,12,16,20,24,28,32,36,40,44],\"y\":[0.07665600352533797,1.4634889315919954,1.5763194637825673,1.718744216227925,1.8706892258638899,1.542324598107114,1.1653312180375446,2.432655358787224,null,null,null],\"type\":\"scatter\",\"xaxis\":\"x14\",\"yaxis\":\"y14\"},{\"legendgroup\":\"thresh5_twoport\",\"line\":{\"color\":\"midnightblue\"},\"mode\":\"lines\",\"name\":\"thresh5_twoport\",\"opacity\":0.8,\"showlegend\":false,\"x\":[4,8,12,16,20,24,28,32,36,40,44],\"y\":[0.3921168300604377,1.8112389554448092,2.1933345207278863,2.2081236304731746,2.0810686565708614,2.2081236304731746,2.0736741016982174,2.165301736583765,1.8210759073449114,2.0958577663161497,1.7590601738450755],\"type\":\"scatter\",\"xaxis\":\"x14\",\"yaxis\":\"y14\"},{\"legendgroup\":\"thresh5_twoport\",\"line\":{\"width\":0},\"marker\":{\"color\":\"rgba(25,25,112,0.4)\"},\"mode\":\"lines\",\"name\":\"Upper Bound\",\"showlegend\":false,\"x\":[4,8,12,16,20,24,28,32,36,40,44],\"y\":[0.4839019254331688,1.9399990779601106,2.3558947885590635,2.3566374091137985,2.264256562551687,2.264256562551687,2.1578734998159863,2.2642565625516866,1.8830916408447473,null,null],\"type\":\"scatter\",\"xaxis\":\"x14\",\"yaxis\":\"y14\"},{\"fill\":\"tonexty\",\"fillcolor\":\"rgba(25,25,112,0.4)\",\"legendgroup\":\"thresh5_twoport\",\"line\":{\"width\":0},\"marker\":{\"color\":\"rgba(25,25,112,0.4)\"},\"mode\":\"lines\",\"name\":\"Lower Bound\",\"showlegend\":false,\"x\":[4,8,12,16,20,24,28,32,36,40,44],\"y\":[0.3003317346877066,1.6824788329295077,2.030774252896709,2.0596098518325507,1.8978807505900357,2.151990698394662,1.9894747035804488,2.0663469106158434,1.7590601738450755,null,null],\"type\":\"scatter\",\"xaxis\":\"x14\",\"yaxis\":\"y14\"}],                        {\"template\":{\"data\":{\"barpolar\":[{\"marker\":{\"line\":{\"color\":\"white\",\"width\":0.5},\"pattern\":{\"fillmode\":\"overlay\",\"size\":10,\"solidity\":0.2}},\"type\":\"barpolar\"}],\"bar\":[{\"error_x\":{\"color\":\"rgb(36,36,36)\"},\"error_y\":{\"color\":\"rgb(36,36,36)\"},\"marker\":{\"line\":{\"color\":\"white\",\"width\":0.5},\"pattern\":{\"fillmode\":\"overlay\",\"size\":10,\"solidity\":0.2}},\"type\":\"bar\"}],\"carpet\":[{\"aaxis\":{\"endlinecolor\":\"rgb(36,36,36)\",\"gridcolor\":\"white\",\"linecolor\":\"white\",\"minorgridcolor\":\"white\",\"startlinecolor\":\"rgb(36,36,36)\"},\"baxis\":{\"endlinecolor\":\"rgb(36,36,36)\",\"gridcolor\":\"white\",\"linecolor\":\"white\",\"minorgridcolor\":\"white\",\"startlinecolor\":\"rgb(36,36,36)\"},\"type\":\"carpet\"}],\"choropleth\":[{\"colorbar\":{\"outlinewidth\":1,\"tickcolor\":\"rgb(36,36,36)\",\"ticks\":\"outside\"},\"type\":\"choropleth\"}],\"contourcarpet\":[{\"colorbar\":{\"outlinewidth\":1,\"tickcolor\":\"rgb(36,36,36)\",\"ticks\":\"outside\"},\"type\":\"contourcarpet\"}],\"contour\":[{\"colorbar\":{\"outlinewidth\":1,\"tickcolor\":\"rgb(36,36,36)\",\"ticks\":\"outside\"},\"colorscale\":[[0.0,\"#440154\"],[0.1111111111111111,\"#482878\"],[0.2222222222222222,\"#3e4989\"],[0.3333333333333333,\"#31688e\"],[0.4444444444444444,\"#26828e\"],[0.5555555555555556,\"#1f9e89\"],[0.6666666666666666,\"#35b779\"],[0.7777777777777778,\"#6ece58\"],[0.8888888888888888,\"#b5de2b\"],[1.0,\"#fde725\"]],\"type\":\"contour\"}],\"heatmapgl\":[{\"colorbar\":{\"outlinewidth\":1,\"tickcolor\":\"rgb(36,36,36)\",\"ticks\":\"outside\"},\"colorscale\":[[0.0,\"#440154\"],[0.1111111111111111,\"#482878\"],[0.2222222222222222,\"#3e4989\"],[0.3333333333333333,\"#31688e\"],[0.4444444444444444,\"#26828e\"],[0.5555555555555556,\"#1f9e89\"],[0.6666666666666666,\"#35b779\"],[0.7777777777777778,\"#6ece58\"],[0.8888888888888888,\"#b5de2b\"],[1.0,\"#fde725\"]],\"type\":\"heatmapgl\"}],\"heatmap\":[{\"colorbar\":{\"outlinewidth\":1,\"tickcolor\":\"rgb(36,36,36)\",\"ticks\":\"outside\"},\"colorscale\":[[0.0,\"#440154\"],[0.1111111111111111,\"#482878\"],[0.2222222222222222,\"#3e4989\"],[0.3333333333333333,\"#31688e\"],[0.4444444444444444,\"#26828e\"],[0.5555555555555556,\"#1f9e89\"],[0.6666666666666666,\"#35b779\"],[0.7777777777777778,\"#6ece58\"],[0.8888888888888888,\"#b5de2b\"],[1.0,\"#fde725\"]],\"type\":\"heatmap\"}],\"histogram2dcontour\":[{\"colorbar\":{\"outlinewidth\":1,\"tickcolor\":\"rgb(36,36,36)\",\"ticks\":\"outside\"},\"colorscale\":[[0.0,\"#440154\"],[0.1111111111111111,\"#482878\"],[0.2222222222222222,\"#3e4989\"],[0.3333333333333333,\"#31688e\"],[0.4444444444444444,\"#26828e\"],[0.5555555555555556,\"#1f9e89\"],[0.6666666666666666,\"#35b779\"],[0.7777777777777778,\"#6ece58\"],[0.8888888888888888,\"#b5de2b\"],[1.0,\"#fde725\"]],\"type\":\"histogram2dcontour\"}],\"histogram2d\":[{\"colorbar\":{\"outlinewidth\":1,\"tickcolor\":\"rgb(36,36,36)\",\"ticks\":\"outside\"},\"colorscale\":[[0.0,\"#440154\"],[0.1111111111111111,\"#482878\"],[0.2222222222222222,\"#3e4989\"],[0.3333333333333333,\"#31688e\"],[0.4444444444444444,\"#26828e\"],[0.5555555555555556,\"#1f9e89\"],[0.6666666666666666,\"#35b779\"],[0.7777777777777778,\"#6ece58\"],[0.8888888888888888,\"#b5de2b\"],[1.0,\"#fde725\"]],\"type\":\"histogram2d\"}],\"histogram\":[{\"marker\":{\"line\":{\"color\":\"white\",\"width\":0.6}},\"type\":\"histogram\"}],\"mesh3d\":[{\"colorbar\":{\"outlinewidth\":1,\"tickcolor\":\"rgb(36,36,36)\",\"ticks\":\"outside\"},\"type\":\"mesh3d\"}],\"parcoords\":[{\"line\":{\"colorbar\":{\"outlinewidth\":1,\"tickcolor\":\"rgb(36,36,36)\",\"ticks\":\"outside\"}},\"type\":\"parcoords\"}],\"pie\":[{\"automargin\":true,\"type\":\"pie\"}],\"scatter3d\":[{\"line\":{\"colorbar\":{\"outlinewidth\":1,\"tickcolor\":\"rgb(36,36,36)\",\"ticks\":\"outside\"}},\"marker\":{\"colorbar\":{\"outlinewidth\":1,\"tickcolor\":\"rgb(36,36,36)\",\"ticks\":\"outside\"}},\"type\":\"scatter3d\"}],\"scattercarpet\":[{\"marker\":{\"colorbar\":{\"outlinewidth\":1,\"tickcolor\":\"rgb(36,36,36)\",\"ticks\":\"outside\"}},\"type\":\"scattercarpet\"}],\"scattergeo\":[{\"marker\":{\"colorbar\":{\"outlinewidth\":1,\"tickcolor\":\"rgb(36,36,36)\",\"ticks\":\"outside\"}},\"type\":\"scattergeo\"}],\"scattergl\":[{\"marker\":{\"colorbar\":{\"outlinewidth\":1,\"tickcolor\":\"rgb(36,36,36)\",\"ticks\":\"outside\"}},\"type\":\"scattergl\"}],\"scattermapbox\":[{\"marker\":{\"colorbar\":{\"outlinewidth\":1,\"tickcolor\":\"rgb(36,36,36)\",\"ticks\":\"outside\"}},\"type\":\"scattermapbox\"}],\"scatterpolargl\":[{\"marker\":{\"colorbar\":{\"outlinewidth\":1,\"tickcolor\":\"rgb(36,36,36)\",\"ticks\":\"outside\"}},\"type\":\"scatterpolargl\"}],\"scatterpolar\":[{\"marker\":{\"colorbar\":{\"outlinewidth\":1,\"tickcolor\":\"rgb(36,36,36)\",\"ticks\":\"outside\"}},\"type\":\"scatterpolar\"}],\"scatter\":[{\"fillpattern\":{\"fillmode\":\"overlay\",\"size\":10,\"solidity\":0.2},\"type\":\"scatter\"}],\"scatterternary\":[{\"marker\":{\"colorbar\":{\"outlinewidth\":1,\"tickcolor\":\"rgb(36,36,36)\",\"ticks\":\"outside\"}},\"type\":\"scatterternary\"}],\"surface\":[{\"colorbar\":{\"outlinewidth\":1,\"tickcolor\":\"rgb(36,36,36)\",\"ticks\":\"outside\"},\"colorscale\":[[0.0,\"#440154\"],[0.1111111111111111,\"#482878\"],[0.2222222222222222,\"#3e4989\"],[0.3333333333333333,\"#31688e\"],[0.4444444444444444,\"#26828e\"],[0.5555555555555556,\"#1f9e89\"],[0.6666666666666666,\"#35b779\"],[0.7777777777777778,\"#6ece58\"],[0.8888888888888888,\"#b5de2b\"],[1.0,\"#fde725\"]],\"type\":\"surface\"}],\"table\":[{\"cells\":{\"fill\":{\"color\":\"rgb(237,237,237)\"},\"line\":{\"color\":\"white\"}},\"header\":{\"fill\":{\"color\":\"rgb(217,217,217)\"},\"line\":{\"color\":\"white\"}},\"type\":\"table\"}]},\"layout\":{\"annotationdefaults\":{\"arrowhead\":0,\"arrowwidth\":1},\"autotypenumbers\":\"strict\",\"coloraxis\":{\"colorbar\":{\"outlinewidth\":1,\"tickcolor\":\"rgb(36,36,36)\",\"ticks\":\"outside\"}},\"colorscale\":{\"diverging\":[[0.0,\"rgb(103,0,31)\"],[0.1,\"rgb(178,24,43)\"],[0.2,\"rgb(214,96,77)\"],[0.3,\"rgb(244,165,130)\"],[0.4,\"rgb(253,219,199)\"],[0.5,\"rgb(247,247,247)\"],[0.6,\"rgb(209,229,240)\"],[0.7,\"rgb(146,197,222)\"],[0.8,\"rgb(67,147,195)\"],[0.9,\"rgb(33,102,172)\"],[1.0,\"rgb(5,48,97)\"]],\"sequential\":[[0.0,\"#440154\"],[0.1111111111111111,\"#482878\"],[0.2222222222222222,\"#3e4989\"],[0.3333333333333333,\"#31688e\"],[0.4444444444444444,\"#26828e\"],[0.5555555555555556,\"#1f9e89\"],[0.6666666666666666,\"#35b779\"],[0.7777777777777778,\"#6ece58\"],[0.8888888888888888,\"#b5de2b\"],[1.0,\"#fde725\"]],\"sequentialminus\":[[0.0,\"#440154\"],[0.1111111111111111,\"#482878\"],[0.2222222222222222,\"#3e4989\"],[0.3333333333333333,\"#31688e\"],[0.4444444444444444,\"#26828e\"],[0.5555555555555556,\"#1f9e89\"],[0.6666666666666666,\"#35b779\"],[0.7777777777777778,\"#6ece58\"],[0.8888888888888888,\"#b5de2b\"],[1.0,\"#fde725\"]]},\"colorway\":[\"#1F77B4\",\"#FF7F0E\",\"#2CA02C\",\"#D62728\",\"#9467BD\",\"#8C564B\",\"#E377C2\",\"#7F7F7F\",\"#BCBD22\",\"#17BECF\"],\"font\":{\"color\":\"rgb(36,36,36)\"},\"geo\":{\"bgcolor\":\"white\",\"lakecolor\":\"white\",\"landcolor\":\"white\",\"showlakes\":true,\"showland\":true,\"subunitcolor\":\"white\"},\"hoverlabel\":{\"align\":\"left\"},\"hovermode\":\"closest\",\"mapbox\":{\"style\":\"light\"},\"paper_bgcolor\":\"white\",\"plot_bgcolor\":\"white\",\"polar\":{\"angularaxis\":{\"gridcolor\":\"rgb(232,232,232)\",\"linecolor\":\"rgb(36,36,36)\",\"showgrid\":false,\"showline\":true,\"ticks\":\"outside\"},\"bgcolor\":\"white\",\"radialaxis\":{\"gridcolor\":\"rgb(232,232,232)\",\"linecolor\":\"rgb(36,36,36)\",\"showgrid\":false,\"showline\":true,\"ticks\":\"outside\"}},\"scene\":{\"xaxis\":{\"backgroundcolor\":\"white\",\"gridcolor\":\"rgb(232,232,232)\",\"gridwidth\":2,\"linecolor\":\"rgb(36,36,36)\",\"showbackground\":true,\"showgrid\":false,\"showline\":true,\"ticks\":\"outside\",\"zeroline\":false,\"zerolinecolor\":\"rgb(36,36,36)\"},\"yaxis\":{\"backgroundcolor\":\"white\",\"gridcolor\":\"rgb(232,232,232)\",\"gridwidth\":2,\"linecolor\":\"rgb(36,36,36)\",\"showbackground\":true,\"showgrid\":false,\"showline\":true,\"ticks\":\"outside\",\"zeroline\":false,\"zerolinecolor\":\"rgb(36,36,36)\"},\"zaxis\":{\"backgroundcolor\":\"white\",\"gridcolor\":\"rgb(232,232,232)\",\"gridwidth\":2,\"linecolor\":\"rgb(36,36,36)\",\"showbackground\":true,\"showgrid\":false,\"showline\":true,\"ticks\":\"outside\",\"zeroline\":false,\"zerolinecolor\":\"rgb(36,36,36)\"}},\"shapedefaults\":{\"fillcolor\":\"black\",\"line\":{\"width\":0},\"opacity\":0.3},\"ternary\":{\"aaxis\":{\"gridcolor\":\"rgb(232,232,232)\",\"linecolor\":\"rgb(36,36,36)\",\"showgrid\":false,\"showline\":true,\"ticks\":\"outside\"},\"baxis\":{\"gridcolor\":\"rgb(232,232,232)\",\"linecolor\":\"rgb(36,36,36)\",\"showgrid\":false,\"showline\":true,\"ticks\":\"outside\"},\"bgcolor\":\"white\",\"caxis\":{\"gridcolor\":\"rgb(232,232,232)\",\"linecolor\":\"rgb(36,36,36)\",\"showgrid\":false,\"showline\":true,\"ticks\":\"outside\"}},\"title\":{\"x\":0.05},\"xaxis\":{\"automargin\":true,\"gridcolor\":\"rgb(232,232,232)\",\"linecolor\":\"rgb(36,36,36)\",\"showgrid\":false,\"showline\":true,\"ticks\":\"outside\",\"title\":{\"standoff\":15},\"zeroline\":false,\"zerolinecolor\":\"rgb(36,36,36)\"},\"yaxis\":{\"automargin\":true,\"gridcolor\":\"rgb(232,232,232)\",\"linecolor\":\"rgb(36,36,36)\",\"showgrid\":false,\"showline\":true,\"ticks\":\"outside\",\"title\":{\"standoff\":15},\"zeroline\":false,\"zerolinecolor\":\"rgb(36,36,36)\"}}},\"xaxis\":{\"anchor\":\"y\",\"domain\":[0.0,0.1388888888888889],\"title\":{\"text\":\"\"},\"linewidth\":1.5,\"matches\":\"x\"},\"yaxis\":{\"anchor\":\"x\",\"domain\":[0.7777777777777778,1.0],\"title\":{\"text\":\"d'\"},\"linewidth\":1.5,\"matches\":\"y\"},\"xaxis2\":{\"anchor\":\"y2\",\"domain\":[0.17222222222222222,0.3111111111111111],\"title\":{\"text\":\"\"},\"linewidth\":1.5,\"matches\":\"x\"},\"yaxis2\":{\"anchor\":\"x2\",\"domain\":[0.7777777777777778,1.0],\"matches\":\"y\",\"showticklabels\":false,\"title\":{\"text\":\"\"},\"linewidth\":1.5},\"xaxis3\":{\"anchor\":\"y3\",\"domain\":[0.34444444444444444,0.48333333333333334],\"title\":{\"text\":\"\"},\"linewidth\":1.5,\"matches\":\"x\"},\"yaxis3\":{\"anchor\":\"x3\",\"domain\":[0.7777777777777778,1.0],\"matches\":\"y\",\"showticklabels\":false,\"title\":{\"text\":\"\"},\"linewidth\":1.5},\"xaxis4\":{\"anchor\":\"y4\",\"domain\":[0.5166666666666667,0.6555555555555557],\"title\":{\"text\":\"\"},\"linewidth\":1.5,\"matches\":\"x\"},\"yaxis4\":{\"anchor\":\"x4\",\"domain\":[0.7777777777777778,1.0],\"matches\":\"y\",\"showticklabels\":false,\"title\":{\"text\":\"\"},\"linewidth\":1.5},\"xaxis5\":{\"anchor\":\"y5\",\"domain\":[0.6888888888888889,0.8277777777777777],\"title\":{\"text\":\"\"},\"linewidth\":1.5,\"matches\":\"x\"},\"yaxis5\":{\"anchor\":\"x5\",\"domain\":[0.7777777777777778,1.0],\"matches\":\"y\",\"showticklabels\":false,\"title\":{\"text\":\"\"},\"linewidth\":1.5},\"xaxis6\":{\"anchor\":\"y6\",\"domain\":[0.861111111111111,1.0],\"title\":{\"text\":\"\"},\"linewidth\":1.5,\"matches\":\"x\"},\"yaxis6\":{\"anchor\":\"x6\",\"domain\":[0.7777777777777778,1.0],\"matches\":\"y\",\"showticklabels\":false,\"title\":{\"text\":\"\"},\"linewidth\":1.5},\"xaxis7\":{\"anchor\":\"y7\",\"domain\":[0.0,0.1388888888888889],\"title\":{\"text\":\"\"},\"linewidth\":1.5,\"matches\":\"x\"},\"yaxis7\":{\"anchor\":\"x7\",\"domain\":[0.3888888888888889,0.6111111111111112],\"title\":{\"text\":\"d'\"},\"linewidth\":1.5,\"matches\":\"y\"},\"xaxis8\":{\"anchor\":\"y8\",\"domain\":[0.17222222222222222,0.3111111111111111],\"title\":{\"text\":\"\"},\"linewidth\":1.5,\"matches\":\"x\"},\"yaxis8\":{\"anchor\":\"x8\",\"domain\":[0.3888888888888889,0.6111111111111112],\"matches\":\"y\",\"showticklabels\":false,\"title\":{\"text\":\"\"},\"linewidth\":1.5},\"xaxis9\":{\"anchor\":\"y9\",\"domain\":[0.34444444444444444,0.48333333333333334],\"title\":{\"text\":\"\"},\"linewidth\":1.5,\"matches\":\"x\"},\"yaxis9\":{\"anchor\":\"x9\",\"domain\":[0.3888888888888889,0.6111111111111112],\"matches\":\"y\",\"showticklabels\":false,\"title\":{\"text\":\"\"},\"linewidth\":1.5},\"xaxis10\":{\"anchor\":\"y10\",\"domain\":[0.5166666666666667,0.6555555555555557],\"title\":{\"text\":\"\"},\"linewidth\":1.5,\"matches\":\"x\"},\"yaxis10\":{\"anchor\":\"x10\",\"domain\":[0.3888888888888889,0.6111111111111112],\"matches\":\"y\",\"showticklabels\":false,\"title\":{\"text\":\"\"},\"linewidth\":1.5},\"xaxis11\":{\"anchor\":\"y11\",\"domain\":[0.6888888888888889,0.8277777777777777],\"title\":{\"text\":\"\"},\"linewidth\":1.5,\"matches\":\"x\"},\"yaxis11\":{\"anchor\":\"x11\",\"domain\":[0.3888888888888889,0.6111111111111112],\"matches\":\"y\",\"showticklabels\":false,\"title\":{\"text\":\"\"},\"linewidth\":1.5},\"xaxis12\":{\"anchor\":\"y12\",\"domain\":[0.861111111111111,1.0],\"title\":{\"text\":\"\"},\"linewidth\":1.5,\"matches\":\"x\"},\"yaxis12\":{\"anchor\":\"x12\",\"domain\":[0.3888888888888889,0.6111111111111112],\"matches\":\"y\",\"showticklabels\":false,\"title\":{\"text\":\"\"},\"linewidth\":1.5},\"xaxis13\":{\"anchor\":\"y13\",\"domain\":[0.0,0.1388888888888889],\"title\":{\"text\":\"Trial\"},\"linewidth\":1.5,\"matches\":\"x\"},\"yaxis13\":{\"anchor\":\"x13\",\"domain\":[0.0,0.22222222222222224],\"title\":{\"text\":\"d'\"},\"linewidth\":1.5,\"matches\":\"y\"},\"xaxis14\":{\"anchor\":\"y14\",\"domain\":[0.17222222222222222,0.3111111111111111],\"title\":{\"text\":\"Trial\"},\"linewidth\":1.5,\"matches\":\"x\"},\"yaxis14\":{\"anchor\":\"x14\",\"domain\":[0.0,0.22222222222222224],\"matches\":\"y\",\"showticklabels\":false,\"title\":{\"text\":\"\"},\"linewidth\":1.5},\"xaxis15\":{\"anchor\":\"y15\",\"domain\":[0.34444444444444444,0.48333333333333334],\"title\":{\"text\":\"Trial\"},\"linewidth\":1.5,\"matches\":\"x\"},\"yaxis15\":{\"anchor\":\"x15\",\"domain\":[0.0,0.22222222222222224],\"matches\":\"y\",\"showticklabels\":false,\"title\":{\"text\":\"\"},\"linewidth\":1.5},\"xaxis16\":{\"anchor\":\"y16\",\"domain\":[0.5166666666666667,0.6555555555555557],\"title\":{\"text\":\"Trial\"},\"linewidth\":1.5,\"matches\":\"x\"},\"yaxis16\":{\"anchor\":\"x16\",\"domain\":[0.0,0.22222222222222224],\"matches\":\"y\",\"showticklabels\":false,\"title\":{\"text\":\"\"},\"linewidth\":1.5},\"xaxis17\":{\"anchor\":\"y17\",\"domain\":[0.6888888888888889,0.8277777777777777],\"title\":{\"text\":\"Trial\"},\"linewidth\":1.5,\"matches\":\"x\"},\"yaxis17\":{\"anchor\":\"x17\",\"domain\":[0.0,0.22222222222222224],\"matches\":\"y\",\"showticklabels\":false,\"title\":{\"text\":\"\"},\"linewidth\":1.5},\"xaxis18\":{\"anchor\":\"y18\",\"domain\":[0.861111111111111,1.0],\"title\":{\"text\":\"Trial\"},\"linewidth\":1.5,\"matches\":\"x\"},\"yaxis18\":{\"anchor\":\"x18\",\"domain\":[0.0,0.22222222222222224],\"matches\":\"y\",\"showticklabels\":false,\"title\":{\"text\":\"\"},\"linewidth\":1.5},\"annotations\":[{\"font\":{\"size\":22},\"showarrow\":false,\"text\":\"Day 1\",\"x\":0.06944444444444445,\"xanchor\":\"center\",\"xref\":\"paper\",\"y\":1.0,\"yanchor\":\"bottom\",\"yref\":\"paper\"},{\"font\":{\"size\":22},\"showarrow\":false,\"text\":\"Day 2\",\"x\":0.24166666666666667,\"xanchor\":\"center\",\"xref\":\"paper\",\"y\":1.0,\"yanchor\":\"bottom\",\"yref\":\"paper\"},{\"font\":{\"size\":22},\"showarrow\":false,\"text\":\"Day 3\",\"x\":0.41388888888888886,\"xanchor\":\"center\",\"xref\":\"paper\",\"y\":1.0,\"yanchor\":\"bottom\",\"yref\":\"paper\"},{\"font\":{\"size\":22},\"showarrow\":false,\"text\":\"Day 4\",\"x\":0.5861111111111112,\"xanchor\":\"center\",\"xref\":\"paper\",\"y\":1.0,\"yanchor\":\"bottom\",\"yref\":\"paper\"},{\"font\":{\"size\":22},\"showarrow\":false,\"text\":\"Day 5\",\"x\":0.7583333333333333,\"xanchor\":\"center\",\"xref\":\"paper\",\"y\":1.0,\"yanchor\":\"bottom\",\"yref\":\"paper\"},{\"font\":{\"size\":22},\"showarrow\":false,\"text\":\"Day 6\",\"x\":0.9305555555555556,\"xanchor\":\"center\",\"xref\":\"paper\",\"y\":1.0,\"yanchor\":\"bottom\",\"yref\":\"paper\"},{\"font\":{\"size\":22},\"showarrow\":false,\"text\":\"Day 7\",\"x\":0.06944444444444445,\"xanchor\":\"center\",\"xref\":\"paper\",\"y\":0.6111111111111112,\"yanchor\":\"bottom\",\"yref\":\"paper\"},{\"font\":{\"size\":22},\"showarrow\":false,\"text\":\"Day 8\",\"x\":0.24166666666666667,\"xanchor\":\"center\",\"xref\":\"paper\",\"y\":0.6111111111111112,\"yanchor\":\"bottom\",\"yref\":\"paper\"},{\"font\":{\"size\":22},\"showarrow\":false,\"text\":\"Day 9\",\"x\":0.41388888888888886,\"xanchor\":\"center\",\"xref\":\"paper\",\"y\":0.6111111111111112,\"yanchor\":\"bottom\",\"yref\":\"paper\"},{\"font\":{\"size\":22},\"showarrow\":false,\"text\":\"Day 10\",\"x\":0.5861111111111112,\"xanchor\":\"center\",\"xref\":\"paper\",\"y\":0.6111111111111112,\"yanchor\":\"bottom\",\"yref\":\"paper\"},{\"font\":{\"size\":22},\"showarrow\":false,\"text\":\"Day 11\",\"x\":0.7583333333333333,\"xanchor\":\"center\",\"xref\":\"paper\",\"y\":0.6111111111111112,\"yanchor\":\"bottom\",\"yref\":\"paper\"},{\"font\":{\"size\":22},\"showarrow\":false,\"text\":\"Day 12\",\"x\":0.9305555555555556,\"xanchor\":\"center\",\"xref\":\"paper\",\"y\":0.6111111111111112,\"yanchor\":\"bottom\",\"yref\":\"paper\"},{\"font\":{\"size\":22},\"showarrow\":false,\"text\":\"Day 13\",\"x\":0.06944444444444445,\"xanchor\":\"center\",\"xref\":\"paper\",\"y\":0.22222222222222224,\"yanchor\":\"bottom\",\"yref\":\"paper\"},{\"font\":{\"size\":22},\"showarrow\":false,\"text\":\"Day 14\",\"x\":0.24166666666666667,\"xanchor\":\"center\",\"xref\":\"paper\",\"y\":0.22222222222222224,\"yanchor\":\"bottom\",\"yref\":\"paper\"}],\"title\":{\"y\":0.9,\"x\":0.5,\"xanchor\":\"center\",\"yanchor\":\"top\"},\"font\":{\"size\":22,\"family\":\"Arial\"},\"height\":800,\"width\":1200},                        {\"responsive\": true}                    ).then(function(){\n",
       "                            \n",
       "var gd = document.getElementById('516495bb-84db-476d-9def-f5b9dc418760');\n",
       "var x = new MutationObserver(function (mutations, observer) {{\n",
       "        var display = window.getComputedStyle(gd).display;\n",
       "        if (!display || display === 'none') {{\n",
       "            console.log([gd, 'removed!']);\n",
       "            Plotly.purge(gd);\n",
       "            observer.disconnect();\n",
       "        }}\n",
       "}});\n",
       "\n",
       "// Listen for the removal of the full notebook cells\n",
       "var notebookContainer = gd.closest('#notebook-container');\n",
       "if (notebookContainer) {{\n",
       "    x.observe(notebookContainer, {childList: true});\n",
       "}}\n",
       "\n",
       "// Listen for the clearing of the current output cell\n",
       "var outputEl = gd.closest('.output');\n",
       "if (outputEl) {{\n",
       "    x.observe(outputEl, {childList: true});\n",
       "}}\n",
       "\n",
       "                        })                };                });            </script>        </div>"
      ]
     },
     "metadata": {},
     "output_type": "display_data"
    }
   ],
   "source": [
    "## Bin metrics\n",
    "variable_of_interest = 'dprime'\n",
    "only_min_trials = False\n",
    "## Bin data\n",
    "binned_metrics = ctb.aggregate_metrics(metrics, bin_size=bin_size, variable_of_interest=variable_of_interest)\n",
    "avg_binned = binned_metrics.groupby(['group', 'day', 'binned_trial'], as_index=False).agg({variable_of_interest: ['mean', 'sem']})\n",
    "\n",
    "fig = pf.custom_graph_template(x_title='', y_title='', height=800, width=1200,\n",
    "                               rows=3, columns=6, shared_x=True, shared_y=True,\n",
    "                               titles=[f'Day {x}' for x in np.arange(1, len(np.unique(avg_binned['day']))+1)])\n",
    "for idx, day in enumerate(np.unique(avg_binned['day'])):\n",
    "    plot_data = avg_binned[avg_binned['day'] == day]\n",
    "\n",
    "    if only_min_trials:\n",
    "        trial_lengths = []\n",
    "        for group in np.unique(plot_data['group']):\n",
    "            trial_lengths.append(plot_data['binned_trial'][plot_data['group'] == group].values[-1])\n",
    "            min_trials = np.min(trial_lengths)\n",
    "    if idx < 6:\n",
    "        row, col = 1, idx + 1\n",
    "    elif (idx >= 6) & (idx < 12):\n",
    "        row, col = 2, idx - 5\n",
    "    else:\n",
    "        row, col = 3, idx - 11\n",
    "\n",
    "    for ind, group in enumerate(np.unique(plot_data['group'])):\n",
    "            if only_min_trials:\n",
    "                group_data = plot_data[(plot_data['group'] == group) & (plot_data['binned_trial'] <= min_trials)]\n",
    "                upper = group_data[variable_of_interest]['mean'] + group_data[variable_of_interest]['sem']\n",
    "                lower = group_data[variable_of_interest]['mean'] - group_data[variable_of_interest]['sem']\n",
    "            else:\n",
    "                group_data = plot_data[(plot_data['group'] == group)]\n",
    "                upper = group_data[variable_of_interest]['mean'] + group_data[variable_of_interest]['sem']\n",
    "                lower = group_data[variable_of_interest]['mean'] - group_data[variable_of_interest]['sem']\n",
    "            x_data = np.arange(1, len(group_data['binned_trial'])+1) * bin_size\n",
    "            fig.add_trace(go.Scatter(x=x_data, y=group_data[variable_of_interest]['mean'], mode='lines', opacity=opacity,\n",
    "                                    line_color=group_colors_dict[group], showlegend=False,\n",
    "                                    legendgroup=group, name=group), row=row, col=col)\n",
    "            fig.add_trace(go.Scatter(name='Upper Bound', x=x_data, y=upper, mode='lines',\n",
    "                                    marker=dict(color=error_colors[ind]), line=dict(width=0), showlegend=False, \n",
    "                                    legendgroup=group), row=row, col=col)\n",
    "            fig.add_trace(go.Scatter(name='Lower Bound', x=x_data, y=lower, marker=dict(color=error_colors[ind]),\n",
    "                                    line=dict(width=0), mode='lines', fillcolor=error_colors[ind], fill='tonexty', \n",
    "                                    showlegend=False, legendgroup=group), row=row, col=col)\n",
    "if variable_of_interest != 'dprime':\n",
    "    fig.add_hline(y=1, line_width=1, line_dash='dash', line_color=chance_color, opacity=1)\n",
    "fig.update_yaxes(title=\"d'\", col=1)\n",
    "fig.update_xaxes(title='Trial', row=3)\n",
    "fig.show()\n",
    "fig.write_image(pjoin(fig_path, 'dprime_across_trials_across_days.png'))"
   ]
  },
  {
   "cell_type": "code",
   "execution_count": 31,
   "metadata": {},
   "outputs": [
    {
     "data": {
      "application/vnd.plotly.v1+json": {
       "config": {
        "plotlyServerURL": "https://plot.ly"
       },
       "data": [
        {
         "legendgroup": "thresh3_twoport",
         "line": {
          "color": "darkgrey"
         },
         "mode": "lines",
         "name": "thresh3_twoport",
         "opacity": 0.8,
         "showlegend": false,
         "type": "scatter",
         "x": [
          4,
          8,
          12,
          16,
          20
         ],
         "xaxis": "x",
         "y": [
          0.5555555555555555,
          0.2916666666666667,
          0.26851851851851855,
          0.16666666666666666,
          0.16666666666666666
         ],
         "yaxis": "y"
        },
        {
         "legendgroup": "thresh3_twoport",
         "line": {
          "width": 0
         },
         "marker": {
          "color": "rgba(169,169,169,0.4)"
         },
         "mode": "lines",
         "name": "Upper Bound",
         "showlegend": false,
         "type": "scatter",
         "x": [
          4,
          8,
          12,
          16,
          20
         ],
         "xaxis": "x",
         "y": [
          0.6328856161504168,
          0.4189604359709956,
          0.3219100120123648,
          0.25,
          null
         ],
         "yaxis": "y"
        },
        {
         "fill": "tonexty",
         "fillcolor": "rgba(169,169,169,0.4)",
         "legendgroup": "thresh3_twoport",
         "line": {
          "width": 0
         },
         "marker": {
          "color": "rgba(169,169,169,0.4)"
         },
         "mode": "lines",
         "name": "Lower Bound",
         "showlegend": false,
         "type": "scatter",
         "x": [
          4,
          8,
          12,
          16,
          20
         ],
         "xaxis": "x",
         "y": [
          0.47822549496069405,
          0.1643728973623378,
          0.2151270250246723,
          0.08333333333333333,
          null
         ],
         "yaxis": "y"
        },
        {
         "legendgroup": "thresh5_twoport",
         "line": {
          "color": "midnightblue"
         },
         "mode": "lines",
         "name": "thresh5_twoport",
         "opacity": 0.8,
         "showlegend": false,
         "type": "scatter",
         "x": [
          4,
          8,
          12,
          16,
          20
         ],
         "xaxis": "x",
         "y": [
          0.513888888888889,
          0.5,
          0.2916666666666667,
          0.16666666666666666,
          0.6666666666666666
         ],
         "yaxis": "y"
        },
        {
         "legendgroup": "thresh5_twoport",
         "line": {
          "width": 0
         },
         "marker": {
          "color": "rgba(25,25,112,0.4)"
         },
         "mode": "lines",
         "name": "Upper Bound",
         "showlegend": false,
         "type": "scatter",
         "x": [
          4,
          8,
          12,
          16,
          20
         ],
         "xaxis": "x",
         "y": [
          0.658893145957091,
          0.6924500897298753,
          null,
          null,
          null
         ],
         "yaxis": "y"
        },
        {
         "fill": "tonexty",
         "fillcolor": "rgba(25,25,112,0.4)",
         "legendgroup": "thresh5_twoport",
         "line": {
          "width": 0
         },
         "marker": {
          "color": "rgba(25,25,112,0.4)"
         },
         "mode": "lines",
         "name": "Lower Bound",
         "showlegend": false,
         "type": "scatter",
         "x": [
          4,
          8,
          12,
          16,
          20
         ],
         "xaxis": "x",
         "y": [
          0.3688846318206868,
          0.3075499102701247,
          null,
          null,
          null
         ],
         "yaxis": "y"
        },
        {
         "legendgroup": "thresh3_twoport",
         "line": {
          "color": "darkgrey"
         },
         "mode": "lines",
         "name": "thresh3_twoport",
         "opacity": 0.8,
         "showlegend": false,
         "type": "scatter",
         "x": [
          4,
          8,
          12,
          16,
          20,
          24,
          28,
          32
         ],
         "xaxis": "x2",
         "y": [
          0.09722222222222222,
          0.2638888888888889,
          0.3194444444444444,
          0.3611111111111111,
          0.5231481481481481,
          0.6458333333333333,
          0.875,
          0.875
         ],
         "yaxis": "y2"
        },
        {
         "legendgroup": "thresh3_twoport",
         "line": {
          "width": 0
         },
         "marker": {
          "color": "rgba(169,169,169,0.4)"
         },
         "mode": "lines",
         "name": "Upper Bound",
         "showlegend": false,
         "type": "scatter",
         "x": [
          4,
          8,
          12,
          16,
          20,
          24,
          28,
          32
         ],
         "xaxis": "x2",
         "y": [
          0.17455228281708365,
          0.3549644239486389,
          0.43312989960933956,
          0.4384411717059725,
          0.6510298825641957,
          0.7083333333333333,
          null,
          null
         ],
         "yaxis": "y2"
        },
        {
         "fill": "tonexty",
         "fillcolor": "rgba(169,169,169,0.4)",
         "legendgroup": "thresh3_twoport",
         "line": {
          "width": 0
         },
         "marker": {
          "color": "rgba(169,169,169,0.4)"
         },
         "mode": "lines",
         "name": "Lower Bound",
         "showlegend": false,
         "type": "scatter",
         "x": [
          4,
          8,
          12,
          16,
          20,
          24,
          28,
          32
         ],
         "xaxis": "x2",
         "y": [
          0.019892161627360794,
          0.17281335382913887,
          0.20575898927954928,
          0.2837810505162497,
          0.3952664137321006,
          0.5833333333333333,
          null,
          null
         ],
         "yaxis": "y2"
        },
        {
         "legendgroup": "thresh5_twoport",
         "line": {
          "color": "midnightblue"
         },
         "mode": "lines",
         "name": "thresh5_twoport",
         "opacity": 0.8,
         "showlegend": false,
         "type": "scatter",
         "x": [
          4,
          8,
          12,
          16,
          20,
          24,
          28
         ],
         "xaxis": "x2",
         "y": [
          0.18055555555555555,
          0.5833333333333334,
          0.7083333333333333,
          0.7083333333333333,
          0.8333333333333334,
          0.7083333333333334,
          1
         ],
         "yaxis": "y2"
        },
        {
         "legendgroup": "thresh5_twoport",
         "line": {
          "width": 0
         },
         "marker": {
          "color": "rgba(25,25,112,0.4)"
         },
         "mode": "lines",
         "name": "Upper Bound",
         "showlegend": false,
         "type": "scatter",
         "x": [
          4,
          8,
          12,
          16,
          20,
          24,
          28
         ],
         "xaxis": "x2",
         "y": [
          0.3407300360370944,
          null,
          null,
          null,
          null,
          null,
          null
         ],
         "yaxis": "y2"
        },
        {
         "fill": "tonexty",
         "fillcolor": "rgba(25,25,112,0.4)",
         "legendgroup": "thresh5_twoport",
         "line": {
          "width": 0
         },
         "marker": {
          "color": "rgba(25,25,112,0.4)"
         },
         "mode": "lines",
         "name": "Lower Bound",
         "showlegend": false,
         "type": "scatter",
         "x": [
          4,
          8,
          12,
          16,
          20,
          24,
          28
         ],
         "xaxis": "x2",
         "y": [
          0.020381075074016708,
          null,
          null,
          null,
          null,
          null,
          null
         ],
         "yaxis": "y2"
        },
        {
         "legendgroup": "thresh3_twoport",
         "line": {
          "color": "darkgrey"
         },
         "mode": "lines",
         "name": "thresh3_twoport",
         "opacity": 0.8,
         "showlegend": false,
         "type": "scatter",
         "x": [
          4,
          8,
          12,
          16,
          20,
          24,
          28,
          32,
          36,
          40
         ],
         "xaxis": "x3",
         "y": [
          0.5416666666666666,
          0.7361111111111112,
          0.7916666666666666,
          0.8333333333333334,
          0.9166666666666666,
          0.75,
          0.9583333333333333,
          0.9791666666666667,
          0.9583333333333334,
          0.875
         ],
         "yaxis": "y3"
        },
        {
         "legendgroup": "thresh3_twoport",
         "line": {
          "width": 0
         },
         "marker": {
          "color": "rgba(169,169,169,0.4)"
         },
         "mode": "lines",
         "name": "Upper Bound",
         "showlegend": false,
         "type": "scatter",
         "x": [
          4,
          8,
          12,
          16,
          20,
          24,
          28,
          32,
          36,
          40
         ],
         "xaxis": "x3",
         "y": [
          0.6689604359709955,
          0.8445868010542592,
          0.9166666666666667,
          0.8814458557658023,
          0.9166666666666666,
          0.8602396379610245,
          0.9999999999999999,
          1,
          null,
          null
         ],
         "yaxis": "y3"
        },
        {
         "fill": "tonexty",
         "fillcolor": "rgba(169,169,169,0.4)",
         "legendgroup": "thresh3_twoport",
         "line": {
          "width": 0
         },
         "marker": {
          "color": "rgba(169,169,169,0.4)"
         },
         "mode": "lines",
         "name": "Lower Bound",
         "showlegend": false,
         "type": "scatter",
         "x": [
          4,
          8,
          12,
          16,
          20,
          24,
          28,
          32,
          36,
          40
         ],
         "xaxis": "x3",
         "y": [
          0.4143728973623377,
          0.6276354211679631,
          0.6666666666666665,
          0.7852208109008645,
          0.9166666666666666,
          0.6397603620389755,
          0.9166666666666666,
          0.9583333333333334,
          null,
          null
         ],
         "yaxis": "y3"
        },
        {
         "legendgroup": "thresh5_twoport",
         "line": {
          "color": "midnightblue"
         },
         "mode": "lines",
         "name": "thresh5_twoport",
         "opacity": 0.8,
         "showlegend": false,
         "type": "scatter",
         "x": [
          4,
          8,
          12,
          16,
          20,
          24,
          28,
          32,
          36,
          40
         ],
         "xaxis": "x3",
         "y": [
          0.27777777777777773,
          0.5833333333333334,
          0.9583333333333334,
          0.9375,
          1,
          0.9583333333333334,
          0.875,
          0.9166666666666666,
          0.9166666666666667,
          0.9166666666666667
         ],
         "yaxis": "y3"
        },
        {
         "legendgroup": "thresh5_twoport",
         "line": {
          "width": 0
         },
         "marker": {
          "color": "rgba(25,25,112,0.4)"
         },
         "mode": "lines",
         "name": "Upper Bound",
         "showlegend": false,
         "type": "scatter",
         "x": [
          4,
          8,
          12,
          16,
          20,
          24,
          28,
          32,
          36,
          40
         ],
         "xaxis": "x3",
         "y": [
          0.4342976065220089,
          0.8837959396219992,
          1,
          0.9583333333333334,
          null,
          null,
          null,
          null,
          null,
          null
         ],
         "yaxis": "y3"
        },
        {
         "fill": "tonexty",
         "fillcolor": "rgba(25,25,112,0.4)",
         "legendgroup": "thresh5_twoport",
         "line": {
          "width": 0
         },
         "marker": {
          "color": "rgba(25,25,112,0.4)"
         },
         "mode": "lines",
         "name": "Lower Bound",
         "showlegend": false,
         "type": "scatter",
         "x": [
          4,
          8,
          12,
          16,
          20,
          24,
          28,
          32,
          36,
          40
         ],
         "xaxis": "x3",
         "y": [
          0.12125794903354656,
          0.2828707270446676,
          0.9166666666666667,
          0.9166666666666666,
          null,
          null,
          null,
          null,
          null,
          null
         ],
         "yaxis": "y3"
        },
        {
         "legendgroup": "thresh3_twoport",
         "line": {
          "color": "darkgrey"
         },
         "mode": "lines",
         "name": "thresh3_twoport",
         "opacity": 0.8,
         "showlegend": false,
         "type": "scatter",
         "x": [
          4,
          8,
          12,
          16,
          20,
          24,
          28,
          32
         ],
         "xaxis": "x4",
         "y": [
          0.75,
          0.7777777777777778,
          0.9166666666666666,
          0.9305555555555557,
          0.9166666666666667,
          0.875,
          0.9583333333333334,
          0.7916666666666666
         ],
         "yaxis": "y4"
        },
        {
         "legendgroup": "thresh3_twoport",
         "line": {
          "width": 0
         },
         "marker": {
          "color": "rgba(169,169,169,0.4)"
         },
         "mode": "lines",
         "name": "Upper Bound",
         "showlegend": false,
         "type": "scatter",
         "x": [
          4,
          8,
          12,
          16,
          20,
          24,
          28,
          32
         ],
         "xaxis": "x4",
         "y": [
          0.875,
          0.7916666666666667,
          0.940722927882901,
          0.9444444444444445,
          0.9583333333333334,
          1,
          null,
          null
         ],
         "yaxis": "y4"
        },
        {
         "fill": "tonexty",
         "fillcolor": "rgba(169,169,169,0.4)",
         "legendgroup": "thresh3_twoport",
         "line": {
          "width": 0
         },
         "marker": {
          "color": "rgba(169,169,169,0.4)"
         },
         "mode": "lines",
         "name": "Lower Bound",
         "showlegend": false,
         "type": "scatter",
         "x": [
          4,
          8,
          12,
          16,
          20,
          24,
          28,
          32
         ],
         "xaxis": "x4",
         "y": [
          0.625,
          0.7638888888888888,
          0.8926104054504322,
          0.9166666666666669,
          0.8750000000000001,
          0.75,
          null,
          null
         ],
         "yaxis": "y4"
        },
        {
         "legendgroup": "thresh5_twoport",
         "line": {
          "color": "midnightblue"
         },
         "mode": "lines",
         "name": "thresh5_twoport",
         "opacity": 0.8,
         "showlegend": false,
         "type": "scatter",
         "x": [
          4,
          8,
          12,
          16,
          20,
          24,
          28,
          32
         ],
         "xaxis": "x4",
         "y": [
          0.486111111111111,
          0.6666666666666666,
          0.7870370370370371,
          0.9583333333333334,
          0.9166666666666667,
          1,
          1,
          1
         ],
         "yaxis": "y4"
        },
        {
         "legendgroup": "thresh5_twoport",
         "line": {
          "width": 0
         },
         "marker": {
          "color": "rgba(25,25,112,0.4)"
         },
         "mode": "lines",
         "name": "Upper Bound",
         "showlegend": false,
         "type": "scatter",
         "x": [
          4,
          8,
          12,
          16,
          20,
          24,
          28,
          32
         ],
         "xaxis": "x4",
         "y": [
          0.7083333333333331,
          0.9583333333333333,
          0.9583333333333335,
          1,
          1,
          null,
          null,
          null
         ],
         "yaxis": "y4"
        },
        {
         "fill": "tonexty",
         "fillcolor": "rgba(25,25,112,0.4)",
         "legendgroup": "thresh5_twoport",
         "line": {
          "width": 0
         },
         "marker": {
          "color": "rgba(25,25,112,0.4)"
         },
         "mode": "lines",
         "name": "Lower Bound",
         "showlegend": false,
         "type": "scatter",
         "x": [
          4,
          8,
          12,
          16,
          20,
          24,
          28,
          32
         ],
         "xaxis": "x4",
         "y": [
          0.26388888888888884,
          0.37499999999999994,
          0.6157407407407407,
          0.9166666666666667,
          0.8333333333333335,
          null,
          null,
          null
         ],
         "yaxis": "y4"
        },
        {
         "legendgroup": "thresh3_twoport",
         "line": {
          "color": "darkgrey"
         },
         "mode": "lines",
         "name": "thresh3_twoport",
         "opacity": 0.8,
         "showlegend": false,
         "type": "scatter",
         "x": [
          4,
          8,
          12,
          16,
          20,
          24,
          28,
          32,
          36,
          40
         ],
         "xaxis": "x5",
         "y": [
          0.75,
          0.875,
          0.9027777777777778,
          0.9305555555555555,
          0.9305555555555557,
          0.8472222222222222,
          0.7916666666666667,
          0.8750000000000001,
          0.8333333333333334,
          0.75
         ],
         "yaxis": "y5"
        },
        {
         "legendgroup": "thresh3_twoport",
         "line": {
          "width": 0
         },
         "marker": {
          "color": "rgba(169,169,169,0.4)"
         },
         "mode": "lines",
         "name": "Upper Bound",
         "showlegend": false,
         "type": "scatter",
         "x": [
          4,
          8,
          12,
          16,
          20,
          24,
          28,
          32,
          36,
          40
         ],
         "xaxis": "x5",
         "y": [
          0.7981125224324689,
          0.9583333333333334,
          0.9166666666666667,
          0.9673021015425637,
          0.9806326566036666,
          0.8611111111111112,
          null,
          null,
          null,
          null
         ],
         "yaxis": "y5"
        },
        {
         "fill": "tonexty",
         "fillcolor": "rgba(169,169,169,0.4)",
         "legendgroup": "thresh3_twoport",
         "line": {
          "width": 0
         },
         "marker": {
          "color": "rgba(169,169,169,0.4)"
         },
         "mode": "lines",
         "name": "Lower Bound",
         "showlegend": false,
         "type": "scatter",
         "x": [
          4,
          8,
          12,
          16,
          20,
          24,
          28,
          32,
          36,
          40
         ],
         "xaxis": "x5",
         "y": [
          0.7018874775675311,
          0.7916666666666666,
          0.8888888888888888,
          0.8938090095685473,
          0.8804784545074448,
          0.8333333333333333,
          null,
          null,
          null,
          null
         ],
         "yaxis": "y5"
        },
        {
         "legendgroup": "thresh5_twoport",
         "line": {
          "color": "midnightblue"
         },
         "mode": "lines",
         "name": "thresh5_twoport",
         "opacity": 0.8,
         "showlegend": false,
         "type": "scatter",
         "x": [
          4,
          8,
          12,
          16,
          20,
          24,
          28,
          32,
          36,
          40,
          44
         ],
         "xaxis": "x5",
         "y": [
          0.6944444444444443,
          0.9444444444444445,
          0.9305555555555557,
          0.9861111111111112,
          0.9583333333333334,
          1,
          0.9375,
          0.9583333333333333,
          0.9166666666666667,
          0.9166666666666667,
          1
         ],
         "yaxis": "y5"
        },
        {
         "legendgroup": "thresh5_twoport",
         "line": {
          "width": 0
         },
         "marker": {
          "color": "rgba(25,25,112,0.4)"
         },
         "mode": "lines",
         "name": "Upper Bound",
         "showlegend": false,
         "type": "scatter",
         "x": [
          4,
          8,
          12,
          16,
          20,
          24,
          28,
          32,
          36,
          40,
          44
         ],
         "xaxis": "x5",
         "y": [
          0.8961922089768604,
          0.9811909904314527,
          0.9806326566036666,
          1,
          0.9823895945495678,
          1,
          0.9583333333333334,
          0.9999999999999999,
          1,
          null,
          null
         ],
         "yaxis": "y5"
        },
        {
         "fill": "tonexty",
         "fillcolor": "rgba(25,25,112,0.4)",
         "legendgroup": "thresh5_twoport",
         "line": {
          "width": 0
         },
         "marker": {
          "color": "rgba(25,25,112,0.4)"
         },
         "mode": "lines",
         "name": "Lower Bound",
         "showlegend": false,
         "type": "scatter",
         "x": [
          4,
          8,
          12,
          16,
          20,
          24,
          28,
          32,
          36,
          40,
          44
         ],
         "xaxis": "x5",
         "y": [
          0.4926966799120283,
          0.9076978984574363,
          0.8804784545074448,
          0.9722222222222223,
          0.934277072117099,
          1,
          0.9166666666666666,
          0.9166666666666666,
          0.8333333333333334,
          null,
          null
         ],
         "yaxis": "y5"
        },
        {
         "legendgroup": "thresh3_twoport",
         "line": {
          "color": "darkgrey"
         },
         "mode": "lines",
         "name": "thresh3_twoport",
         "opacity": 0.8,
         "showlegend": false,
         "type": "scatter",
         "x": [
          4,
          8,
          12,
          16,
          20,
          24,
          28
         ],
         "xaxis": "x6",
         "y": [
          0.763888888888889,
          0.875,
          0.9027777777777778,
          0.875,
          0.875,
          0.7083333333333334,
          1
         ],
         "yaxis": "y6"
        },
        {
         "legendgroup": "thresh3_twoport",
         "line": {
          "width": 0
         },
         "marker": {
          "color": "rgba(169,169,169,0.4)"
         },
         "mode": "lines",
         "name": "Upper Bound",
         "showlegend": false,
         "type": "scatter",
         "x": [
          4,
          8,
          12,
          16,
          20,
          24,
          28
         ],
         "xaxis": "x6",
         "y": [
          0.8006354348758972,
          0.9386468846521645,
          0.923993405995166,
          null,
          null,
          null,
          null
         ],
         "yaxis": "y6"
        },
        {
         "fill": "tonexty",
         "fillcolor": "rgba(169,169,169,0.4)",
         "legendgroup": "thresh3_twoport",
         "line": {
          "width": 0
         },
         "marker": {
          "color": "rgba(169,169,169,0.4)"
         },
         "mode": "lines",
         "name": "Lower Bound",
         "showlegend": false,
         "type": "scatter",
         "x": [
          4,
          8,
          12,
          16,
          20,
          24,
          28
         ],
         "xaxis": "x6",
         "y": [
          0.7271423429018807,
          0.8113531153478355,
          0.8815621495603896,
          null,
          null,
          null,
          null
         ],
         "yaxis": "y6"
        },
        {
         "legendgroup": "thresh5_twoport",
         "line": {
          "color": "midnightblue"
         },
         "mode": "lines",
         "name": "thresh5_twoport",
         "opacity": 0.8,
         "showlegend": false,
         "type": "scatter",
         "x": [
          4,
          8,
          12,
          16,
          20,
          24,
          28,
          32,
          36,
          40,
          44
         ],
         "xaxis": "x6",
         "y": [
          0.7916666666666666,
          0.9583333333333334,
          0.9444444444444445,
          0.9166666666666666,
          0.9027777777777778,
          0.9305555555555557,
          0.8333333333333333,
          0.8958333333333334,
          0.9583333333333334,
          0.9583333333333334,
          0.8333333333333333
         ],
         "yaxis": "y6"
        },
        {
         "legendgroup": "thresh5_twoport",
         "line": {
          "width": 0
         },
         "marker": {
          "color": "rgba(25,25,112,0.4)"
         },
         "mode": "lines",
         "name": "Upper Bound",
         "showlegend": false,
         "type": "scatter",
         "x": [
          4,
          8,
          12,
          16,
          20,
          24,
          28,
          32,
          36,
          40,
          44
         ],
         "xaxis": "x6",
         "y": [
          0.815722927882901,
          0.9823895945495678,
          0.9583333333333335,
          0.940722927882901,
          0.939524323764786,
          0.9583333333333335,
          0.9999999999999999,
          0.9583333333333334,
          null,
          null,
          null
         ],
         "yaxis": "y6"
        },
        {
         "fill": "tonexty",
         "fillcolor": "rgba(25,25,112,0.4)",
         "legendgroup": "thresh5_twoport",
         "line": {
          "width": 0
         },
         "marker": {
          "color": "rgba(25,25,112,0.4)"
         },
         "mode": "lines",
         "name": "Lower Bound",
         "showlegend": false,
         "type": "scatter",
         "x": [
          4,
          8,
          12,
          16,
          20,
          24,
          28,
          32,
          36,
          40,
          44
         ],
         "xaxis": "x6",
         "y": [
          0.7676104054504322,
          0.934277072117099,
          0.9305555555555556,
          0.8926104054504322,
          0.8660312317907696,
          0.9027777777777779,
          0.6666666666666666,
          0.8333333333333334,
          null,
          null,
          null
         ],
         "yaxis": "y6"
        },
        {
         "legendgroup": "thresh3_twoport",
         "line": {
          "color": "darkgrey"
         },
         "mode": "lines",
         "name": "thresh3_twoport",
         "opacity": 0.8,
         "showlegend": false,
         "type": "scatter",
         "x": [
          4,
          8,
          12,
          16,
          20,
          24,
          28,
          32,
          36,
          40,
          44
         ],
         "xaxis": "x7",
         "y": [
          0.5555555555555556,
          0.5555555555555555,
          0.4583333333333333,
          0.5277777777777778,
          0.5833333333333334,
          0.6805555555555557,
          0.7638888888888888,
          0.7361111111111112,
          0.7777777777777778,
          0.726851851851852,
          0.7777777777777777
         ],
         "yaxis": "y7"
        },
        {
         "legendgroup": "thresh3_twoport",
         "line": {
          "width": 0
         },
         "marker": {
          "color": "rgba(169,169,169,0.4)"
         },
         "mode": "lines",
         "name": "Upper Bound",
         "showlegend": false,
         "type": "scatter",
         "x": [
          4,
          8,
          12,
          16,
          20,
          24,
          28,
          32,
          36,
          40,
          44
         ],
         "xaxis": "x7",
         "y": [
          0.6692410107204507,
          0.6290486475295719,
          0.5922729272360132,
          0.6122605906985864,
          0.679558378198271,
          0.7992222742405215,
          0.8006354348758971,
          0.8096042030851276,
          0.8055555555555556,
          0.8277522903597379,
          0.8888888888888888
         ],
         "yaxis": "y7"
        },
        {
         "fill": "tonexty",
         "fillcolor": "rgba(169,169,169,0.4)",
         "legendgroup": "thresh3_twoport",
         "line": {
          "width": 0
         },
         "marker": {
          "color": "rgba(169,169,169,0.4)"
         },
         "mode": "lines",
         "name": "Lower Bound",
         "showlegend": false,
         "type": "scatter",
         "x": [
          4,
          8,
          12,
          16,
          20,
          24,
          28,
          32,
          36,
          40,
          44
         ],
         "xaxis": "x7",
         "y": [
          0.44187010039066044,
          0.48206246358153904,
          0.3243937394306534,
          0.4432949648569692,
          0.4871082884683957,
          0.5618888368705899,
          0.7271423429018806,
          0.6626180191370947,
          0.75,
          0.6259514133439661,
          0.6666666666666665
         ],
         "yaxis": "y7"
        },
        {
         "legendgroup": "thresh5_twoport",
         "line": {
          "color": "midnightblue"
         },
         "mode": "lines",
         "name": "thresh5_twoport",
         "opacity": 0.8,
         "showlegend": false,
         "type": "scatter",
         "x": [
          4,
          8,
          12,
          16,
          20,
          24,
          28,
          32,
          36
         ],
         "xaxis": "x7",
         "y": [
          0.625,
          0.6527777777777778,
          0.4583333333333333,
          0.6458333333333334,
          0.7708333333333333,
          0.8125,
          0.8541666666666667,
          0.6875,
          0.8333333333333334
         ],
         "yaxis": "y7"
        },
        {
         "legendgroup": "thresh5_twoport",
         "line": {
          "width": 0
         },
         "marker": {
          "color": "rgba(25,25,112,0.4)"
         },
         "mode": "lines",
         "name": "Upper Bound",
         "showlegend": false,
         "type": "scatter",
         "x": [
          4,
          8,
          12,
          16,
          20,
          24,
          28,
          32,
          36
         ],
         "xaxis": "x7",
         "y": [
          0.7298588116009826,
          0.7937346050707252,
          0.6046618576785103,
          0.7500000000000001,
          0.9999999999999999,
          1,
          0.9166666666666667,
          0.7916666666666667,
          null
         ],
         "yaxis": "y7"
        },
        {
         "fill": "tonexty",
         "fillcolor": "rgba(25,25,112,0.4)",
         "legendgroup": "thresh5_twoport",
         "line": {
          "width": 0
         },
         "marker": {
          "color": "rgba(25,25,112,0.4)"
         },
         "mode": "lines",
         "name": "Lower Bound",
         "showlegend": false,
         "type": "scatter",
         "x": [
          4,
          8,
          12,
          16,
          20,
          24,
          28,
          32,
          36
         ],
         "xaxis": "x7",
         "y": [
          0.5201411883990174,
          0.5118209504848303,
          0.31200480898815636,
          0.5416666666666666,
          0.5416666666666666,
          0.625,
          0.7916666666666667,
          0.5833333333333333,
          null
         ],
         "yaxis": "y7"
        },
        {
         "legendgroup": "thresh3_twoport",
         "line": {
          "color": "darkgrey"
         },
         "mode": "lines",
         "name": "thresh3_twoport",
         "opacity": 0.8,
         "showlegend": false,
         "type": "scatter",
         "x": [
          4,
          8,
          12,
          16,
          20,
          24,
          28,
          32,
          36,
          40,
          44
         ],
         "xaxis": "x8",
         "y": [
          0.3194444444444444,
          0.6944444444444443,
          0.736111111111111,
          0.8055555555555557,
          0.8472222222222223,
          0.8611111111111112,
          0.8611111111111112,
          0.7291666666666667,
          0.7291666666666667,
          0.6805555555555556,
          0.5555555555555555
         ],
         "yaxis": "y8"
        },
        {
         "legendgroup": "thresh3_twoport",
         "line": {
          "width": 0
         },
         "marker": {
          "color": "rgba(169,169,169,0.4)"
         },
         "mode": "lines",
         "name": "Upper Bound",
         "showlegend": false,
         "type": "scatter",
         "x": [
          4,
          8,
          12,
          16,
          20,
          24,
          28,
          32,
          36,
          40,
          44
         ],
         "xaxis": "x8",
         "y": [
          0.375,
          0.7311909904314525,
          0.786188212159222,
          0.9057097576517776,
          0.8972993232703333,
          0.9346042030851276,
          0.9455939240319198,
          1,
          0.9583333333333335,
          0.9166666666666667,
          null
         ],
         "yaxis": "y8"
        },
        {
         "fill": "tonexty",
         "fillcolor": "rgba(169,169,169,0.4)",
         "legendgroup": "thresh3_twoport",
         "line": {
          "width": 0
         },
         "marker": {
          "color": "rgba(169,169,169,0.4)"
         },
         "mode": "lines",
         "name": "Lower Bound",
         "showlegend": false,
         "type": "scatter",
         "x": [
          4,
          8,
          12,
          16,
          20,
          24,
          28,
          32,
          36,
          40,
          44
         ],
         "xaxis": "x8",
         "y": [
          0.26388888888888884,
          0.6576978984574361,
          0.6860340100630001,
          0.7054013534593337,
          0.7971451211741113,
          0.7876180191370947,
          0.7766282981903025,
          0.4583333333333334,
          0.5,
          0.4444444444444444,
          null
         ],
         "yaxis": "y8"
        },
        {
         "legendgroup": "thresh5_twoport",
         "line": {
          "color": "midnightblue"
         },
         "mode": "lines",
         "name": "thresh5_twoport",
         "opacity": 0.8,
         "showlegend": false,
         "type": "scatter",
         "x": [
          4,
          8,
          12,
          16,
          20,
          24,
          28,
          32
         ],
         "xaxis": "x8",
         "y": [
          0.4444444444444444,
          0.5833333333333334,
          0.7083333333333333,
          0.8333333333333334,
          0.8333333333333334,
          0.7083333333333333,
          0.9583333333333334,
          0.9166666666666667
         ],
         "yaxis": "y8"
        },
        {
         "legendgroup": "thresh5_twoport",
         "line": {
          "width": 0
         },
         "marker": {
          "color": "rgba(25,25,112,0.4)"
         },
         "mode": "lines",
         "name": "Upper Bound",
         "showlegend": false,
         "type": "scatter",
         "x": [
          4,
          8,
          12,
          16,
          20,
          24,
          28,
          32
         ],
         "xaxis": "x8",
         "y": [
          0.6490405536480033,
          0.7036146394145054,
          0.9583333333333333,
          0.9583333333333334,
          0.9166666666666667,
          null,
          null,
          null
         ],
         "yaxis": "y8"
        },
        {
         "fill": "tonexty",
         "fillcolor": "rgba(25,25,112,0.4)",
         "legendgroup": "thresh5_twoport",
         "line": {
          "width": 0
         },
         "marker": {
          "color": "rgba(25,25,112,0.4)"
         },
         "mode": "lines",
         "name": "Lower Bound",
         "showlegend": false,
         "type": "scatter",
         "x": [
          4,
          8,
          12,
          16,
          20,
          24,
          28,
          32
         ],
         "xaxis": "x8",
         "y": [
          0.2398483352408856,
          0.4630520272521613,
          0.45833333333333326,
          0.7083333333333334,
          0.75,
          null,
          null,
          null
         ],
         "yaxis": "y8"
        },
        {
         "legendgroup": "thresh3_twoport",
         "line": {
          "color": "darkgrey"
         },
         "mode": "lines",
         "name": "thresh3_twoport",
         "opacity": 0.8,
         "showlegend": false,
         "type": "scatter",
         "x": [
          4,
          8,
          12,
          16,
          20,
          24,
          28,
          32,
          36,
          40
         ],
         "xaxis": "x9",
         "y": [
          0.40277777777777773,
          0.763888888888889,
          0.9027777777777778,
          0.9305555555555557,
          0.8472222222222222,
          0.8194444444444445,
          0.8194444444444445,
          0.7222222222222223,
          0.6666666666666666,
          0.8194444444444445
         ],
         "yaxis": "y9"
        },
        {
         "legendgroup": "thresh3_twoport",
         "line": {
          "width": 0
         },
         "marker": {
          "color": "rgba(169,169,169,0.4)"
         },
         "mode": "lines",
         "name": "Upper Bound",
         "showlegend": false,
         "type": "scatter",
         "x": [
          4,
          8,
          12,
          16,
          20,
          24,
          28,
          32,
          36,
          40
         ],
         "xaxis": "x9",
         "y": [
          0.4305555555555555,
          0.9185490100786118,
          0.9528548788258887,
          1,
          0.9382977572819722,
          0.960401271737392,
          0.9105199795041945,
          0.8692084061702552,
          0.7303135513188311,
          0.8333333333333335
         ],
         "yaxis": "y9"
        },
        {
         "fill": "tonexty",
         "fillcolor": "rgba(169,169,169,0.4)",
         "legendgroup": "thresh3_twoport",
         "line": {
          "width": 0
         },
         "marker": {
          "color": "rgba(169,169,169,0.4)"
         },
         "mode": "lines",
         "name": "Lower Bound",
         "showlegend": false,
         "type": "scatter",
         "x": [
          4,
          8,
          12,
          16,
          20,
          24,
          28,
          32,
          36,
          40
         ],
         "xaxis": "x9",
         "y": [
          0.37499999999999994,
          0.6092287676991661,
          0.8527006767296669,
          0.8611111111111113,
          0.7561466871624722,
          0.6784876171514971,
          0.7283689093846946,
          0.5752360382741895,
          0.6030197820145021,
          0.8055555555555556
         ],
         "yaxis": "y9"
        },
        {
         "legendgroup": "thresh5_twoport",
         "line": {
          "color": "midnightblue"
         },
         "mode": "lines",
         "name": "thresh5_twoport",
         "opacity": 0.8,
         "showlegend": false,
         "type": "scatter",
         "x": [
          4,
          8,
          12,
          16,
          20,
          24,
          28
         ],
         "xaxis": "x9",
         "y": [
          0.6666666666666666,
          0.875,
          0.9027777777777778,
          0.8611111111111112,
          0.9027777777777778,
          0.875,
          0.875
         ],
         "yaxis": "y9"
        },
        {
         "legendgroup": "thresh5_twoport",
         "line": {
          "width": 0
         },
         "marker": {
          "color": "rgba(25,25,112,0.4)"
         },
         "mode": "lines",
         "name": "Upper Bound",
         "showlegend": false,
         "type": "scatter",
         "x": [
          4,
          8,
          12,
          16,
          20,
          24,
          28
         ],
         "xaxis": "x9",
         "y": [
          0.7939604359709955,
          0.9386468846521644,
          0.9305555555555556,
          0.9583333333333334,
          0.9801078383726393,
          0.8990562612162344,
          1
         ],
         "yaxis": "y9"
        },
        {
         "fill": "tonexty",
         "fillcolor": "rgba(25,25,112,0.4)",
         "legendgroup": "thresh5_twoport",
         "line": {
          "width": 0
         },
         "marker": {
          "color": "rgba(25,25,112,0.4)"
         },
         "mode": "lines",
         "name": "Lower Bound",
         "showlegend": false,
         "type": "scatter",
         "x": [
          4,
          8,
          12,
          16,
          20,
          24,
          28
         ],
         "xaxis": "x9",
         "y": [
          0.5393728973623377,
          0.8113531153478356,
          0.875,
          0.763888888888889,
          0.8254477171829163,
          0.8509437387837656,
          0.75
         ],
         "yaxis": "y9"
        },
        {
         "legendgroup": "thresh3_twoport",
         "line": {
          "color": "darkgrey"
         },
         "mode": "lines",
         "name": "thresh3_twoport",
         "opacity": 0.8,
         "showlegend": false,
         "type": "scatter",
         "x": [
          4,
          8,
          12,
          16,
          20,
          24,
          28,
          32,
          36,
          40,
          44,
          48
         ],
         "xaxis": "x10",
         "y": [
          0.4444444444444444,
          0.8194444444444445,
          0.9861111111111112,
          0.9305555555555557,
          0.9305555555555557,
          0.9722222222222223,
          0.9444444444444445,
          0.8611111111111112,
          0.7916666666666666,
          0.6041666666666666,
          0.8125,
          0.875
         ],
         "yaxis": "y10"
        },
        {
         "legendgroup": "thresh3_twoport",
         "line": {
          "width": 0
         },
         "marker": {
          "color": "rgba(169,169,169,0.4)"
         },
         "mode": "lines",
         "name": "Upper Bound",
         "showlegend": false,
         "type": "scatter",
         "x": [
          4,
          8,
          12,
          16,
          20,
          24,
          28,
          32,
          36,
          40,
          44,
          48
         ],
         "xaxis": "x10",
         "y": [
          0.5833333333333333,
          0.9796189249259835,
          1,
          0.9806326566036666,
          0.9673021015425639,
          1,
          0.9811909904314527,
          0.9583333333333334,
          0.815722927882901,
          0.8333333333333333,
          0.875,
          0.9166666666666666
         ],
         "yaxis": "y10"
        },
        {
         "fill": "tonexty",
         "fillcolor": "rgba(169,169,169,0.4)",
         "legendgroup": "thresh3_twoport",
         "line": {
          "width": 0
         },
         "marker": {
          "color": "rgba(169,169,169,0.4)"
         },
         "mode": "lines",
         "name": "Lower Bound",
         "showlegend": false,
         "type": "scatter",
         "x": [
          4,
          8,
          12,
          16,
          20,
          24,
          28,
          32,
          36,
          40,
          44,
          48
         ],
         "xaxis": "x10",
         "y": [
          0.3055555555555555,
          0.6592699639629056,
          0.9722222222222223,
          0.8804784545074448,
          0.8938090095685475,
          0.9444444444444445,
          0.9076978984574363,
          0.763888888888889,
          0.7676104054504322,
          0.37499999999999994,
          0.75,
          0.8333333333333334
         ],
         "yaxis": "y10"
        },
        {
         "legendgroup": "thresh5_twoport",
         "line": {
          "color": "midnightblue"
         },
         "mode": "lines",
         "name": "thresh5_twoport",
         "opacity": 0.8,
         "showlegend": false,
         "type": "scatter",
         "x": [
          4,
          8,
          12,
          16,
          20,
          24,
          28,
          32
         ],
         "xaxis": "x10",
         "y": [
          0.7777777777777777,
          0.7916666666666666,
          0.9027777777777777,
          0.9583333333333334,
          0.8611111111111112,
          0.9583333333333334,
          0.875,
          0.8333333333333333
         ],
         "yaxis": "y10"
        },
        {
         "legendgroup": "thresh5_twoport",
         "line": {
          "width": 0
         },
         "marker": {
          "color": "rgba(25,25,112,0.4)"
         },
         "mode": "lines",
         "name": "Upper Bound",
         "showlegend": false,
         "type": "scatter",
         "x": [
          4,
          8,
          12,
          16,
          20,
          24,
          28,
          32
         ],
         "xaxis": "x10",
         "y": [
          0.8622605906985863,
          0.9189604359709955,
          0.9528548788258887,
          0.9823895945495678,
          0.9166666666666667,
          null,
          null,
          null
         ],
         "yaxis": "y10"
        },
        {
         "fill": "tonexty",
         "fillcolor": "rgba(25,25,112,0.4)",
         "legendgroup": "thresh5_twoport",
         "line": {
          "width": 0
         },
         "marker": {
          "color": "rgba(25,25,112,0.4)"
         },
         "mode": "lines",
         "name": "Lower Bound",
         "showlegend": false,
         "type": "scatter",
         "x": [
          4,
          8,
          12,
          16,
          20,
          24,
          28,
          32
         ],
         "xaxis": "x10",
         "y": [
          0.6932949648569691,
          0.6643728973623377,
          0.8527006767296667,
          0.934277072117099,
          0.8055555555555556,
          null,
          null,
          null
         ],
         "yaxis": "y10"
        },
        {
         "legendgroup": "thresh3_twoport",
         "line": {
          "color": "darkgrey"
         },
         "mode": "lines",
         "name": "thresh3_twoport",
         "opacity": 0.8,
         "showlegend": false,
         "type": "scatter",
         "x": [
          4,
          8,
          12,
          16,
          20,
          24,
          28,
          32,
          36,
          40,
          44
         ],
         "xaxis": "x11",
         "y": [
          0.6805555555555557,
          0.9583333333333334,
          0.9305555555555557,
          0.9305555555555557,
          0.9305555555555557,
          0.9444444444444445,
          0.9722222222222223,
          0.9444444444444445,
          0.9305555555555557,
          0.8472222222222223,
          0.9166666666666666
         ],
         "yaxis": "y11"
        },
        {
         "legendgroup": "thresh3_twoport",
         "line": {
          "width": 0
         },
         "marker": {
          "color": "rgba(169,169,169,0.4)"
         },
         "mode": "lines",
         "name": "Upper Bound",
         "showlegend": false,
         "type": "scatter",
         "x": [
          4,
          8,
          12,
          16,
          20,
          24,
          28,
          32,
          36,
          40,
          44
         ],
         "xaxis": "x11",
         "y": [
          0.7650383684763643,
          0.9823895945495678,
          0.9444444444444445,
          0.9673021015425638,
          0.9673021015425639,
          0.9722222222222223,
          0.9861111111111112,
          0.9583333333333335,
          0.9444444444444445,
          0.8972993232703332,
          0.9647791890991354
         ],
         "yaxis": "y11"
        },
        {
         "fill": "tonexty",
         "fillcolor": "rgba(169,169,169,0.4)",
         "legendgroup": "thresh3_twoport",
         "line": {
          "width": 0
         },
         "marker": {
          "color": "rgba(169,169,169,0.4)"
         },
         "mode": "lines",
         "name": "Lower Bound",
         "showlegend": false,
         "type": "scatter",
         "x": [
          4,
          8,
          12,
          16,
          20,
          24,
          28,
          32,
          36,
          40,
          44
         ],
         "xaxis": "x11",
         "y": [
          0.5960727426347471,
          0.934277072117099,
          0.9166666666666669,
          0.8938090095685476,
          0.8938090095685475,
          0.9166666666666667,
          0.9583333333333335,
          0.9305555555555556,
          0.9166666666666669,
          0.7971451211741114,
          0.8685541442341979
         ],
         "yaxis": "y11"
        },
        {
         "legendgroup": "thresh5_twoport",
         "line": {
          "color": "midnightblue"
         },
         "mode": "lines",
         "name": "thresh5_twoport",
         "opacity": 0.8,
         "showlegend": false,
         "type": "scatter",
         "x": [
          4,
          8,
          12,
          16,
          20,
          24,
          28,
          32,
          36,
          40,
          44
         ],
         "xaxis": "x11",
         "y": [
          0.6944444444444445,
          0.9027777777777778,
          0.9305555555555557,
          0.888888888888889,
          0.875,
          0.8541666666666667,
          0.875,
          0.9583333333333334,
          0.8333333333333333,
          0.9444444444444444,
          1
         ],
         "yaxis": "y11"
        },
        {
         "legendgroup": "thresh5_twoport",
         "line": {
          "width": 0
         },
         "marker": {
          "color": "rgba(25,25,112,0.4)"
         },
         "mode": "lines",
         "name": "Upper Bound",
         "showlegend": false,
         "type": "scatter",
         "x": [
          4,
          8,
          12,
          16,
          20,
          24,
          28,
          32,
          36,
          40,
          44
         ],
         "xaxis": "x11",
         "y": [
          0.7789272573652531,
          0.939524323764786,
          0.9673021015425639,
          0.9256354348758972,
          0.9386468846521644,
          0.9583333333333335,
          1,
          1,
          0.9583333333333333,
          0.9999999999999999,
          null
         ],
         "yaxis": "y11"
        },
        {
         "fill": "tonexty",
         "fillcolor": "rgba(25,25,112,0.4)",
         "legendgroup": "thresh5_twoport",
         "line": {
          "width": 0
         },
         "marker": {
          "color": "rgba(25,25,112,0.4)"
         },
         "mode": "lines",
         "name": "Lower Bound",
         "showlegend": false,
         "type": "scatter",
         "x": [
          4,
          8,
          12,
          16,
          20,
          24,
          28,
          32,
          36,
          40,
          44
         ],
         "xaxis": "x11",
         "y": [
          0.6099616315236359,
          0.8660312317907696,
          0.8938090095685475,
          0.8521423429018807,
          0.8113531153478356,
          0.75,
          0.75,
          0.9166666666666667,
          0.7083333333333333,
          0.888888888888889,
          null
         ],
         "yaxis": "y11"
        },
        {
         "legendgroup": "thresh3_twoport",
         "line": {
          "color": "darkgrey"
         },
         "mode": "lines",
         "name": "thresh3_twoport",
         "opacity": 0.8,
         "showlegend": false,
         "type": "scatter",
         "x": [
          4,
          8,
          12,
          16,
          20,
          24,
          28,
          32,
          36,
          40,
          44,
          48,
          52,
          56,
          60
         ],
         "xaxis": "x12",
         "y": [
          0.40277777777777773,
          0.7083333333333334,
          0.7777777777777778,
          0.9166666666666666,
          0.9166666666666666,
          0.9166666666666666,
          0.9444444444444445,
          0.9027777777777778,
          0.8888888888888888,
          0.9375,
          0.8541666666666667,
          0.8958333333333333,
          0.9583333333333334,
          0.7500000000000001,
          1
         ],
         "yaxis": "y12"
        },
        {
         "legendgroup": "thresh3_twoport",
         "line": {
          "width": 0
         },
         "marker": {
          "color": "rgba(169,169,169,0.4)"
         },
         "mode": "lines",
         "name": "Upper Bound",
         "showlegend": false,
         "type": "scatter",
         "x": [
          4,
          8,
          12,
          16,
          20,
          24,
          28,
          32,
          36,
          40,
          44,
          48,
          52,
          56,
          60
         ],
         "xaxis": "x12",
         "y": [
          0.5214444964627434,
          0.959488073889238,
          0.9415253628132166,
          0.940722927882901,
          0.940722927882901,
          0.9583333333333333,
          0.9811909904314526,
          0.9528548788258888,
          0.9444444444444444,
          1,
          0.9166666666666667,
          0.9583333333333333,
          1,
          null,
          null
         ],
         "yaxis": "y12"
        },
        {
         "fill": "tonexty",
         "fillcolor": "rgba(169,169,169,0.4)",
         "legendgroup": "thresh3_twoport",
         "line": {
          "width": 0
         },
         "marker": {
          "color": "rgba(169,169,169,0.4)"
         },
         "mode": "lines",
         "name": "Lower Bound",
         "showlegend": false,
         "type": "scatter",
         "x": [
          4,
          8,
          12,
          16,
          20,
          24,
          28,
          32,
          36,
          40,
          44,
          48,
          52,
          56,
          60
         ],
         "xaxis": "x12",
         "y": [
          0.28411105909281203,
          0.45717859277742884,
          0.6140301927423389,
          0.8926104054504322,
          0.8926104054504322,
          0.875,
          0.9076978984574364,
          0.8527006767296668,
          0.8333333333333333,
          0.875,
          0.7916666666666667,
          0.8333333333333333,
          0.9166666666666667,
          null,
          null
         ],
         "yaxis": "y12"
        },
        {
         "legendgroup": "thresh5_twoport",
         "line": {
          "color": "midnightblue"
         },
         "mode": "lines",
         "name": "thresh5_twoport",
         "opacity": 0.8,
         "showlegend": false,
         "type": "scatter",
         "x": [
          4,
          8,
          12,
          16,
          20,
          24,
          28,
          32,
          36,
          40,
          44
         ],
         "xaxis": "x12",
         "y": [
          0.9305555555555557,
          0.9722222222222223,
          0.9722222222222223,
          0.9444444444444445,
          0.9861111111111112,
          0.9375,
          0.9166666666666667,
          0.875,
          0.875,
          0.9583333333333334,
          1
         ],
         "yaxis": "y12"
        },
        {
         "legendgroup": "thresh5_twoport",
         "line": {
          "width": 0
         },
         "marker": {
          "color": "rgba(25,25,112,0.4)"
         },
         "mode": "lines",
         "name": "Upper Bound",
         "showlegend": false,
         "type": "scatter",
         "x": [
          4,
          8,
          12,
          16,
          20,
          24,
          28,
          32,
          36,
          40,
          44
         ],
         "xaxis": "x12",
         "y": [
          1,
          1,
          0.9861111111111112,
          0.9811909904314527,
          1,
          0.9583333333333334,
          0.9583333333333335,
          null,
          null,
          null,
          null
         ],
         "yaxis": "y12"
        },
        {
         "fill": "tonexty",
         "fillcolor": "rgba(25,25,112,0.4)",
         "legendgroup": "thresh5_twoport",
         "line": {
          "width": 0
         },
         "marker": {
          "color": "rgba(25,25,112,0.4)"
         },
         "mode": "lines",
         "name": "Lower Bound",
         "showlegend": false,
         "type": "scatter",
         "x": [
          4,
          8,
          12,
          16,
          20,
          24,
          28,
          32,
          36,
          40,
          44
         ],
         "xaxis": "x12",
         "y": [
          0.8611111111111113,
          0.9444444444444445,
          0.9583333333333335,
          0.9076978984574363,
          0.9722222222222223,
          0.9166666666666666,
          0.875,
          null,
          null,
          null,
          null
         ],
         "yaxis": "y12"
        },
        {
         "legendgroup": "thresh3_twoport",
         "line": {
          "color": "darkgrey"
         },
         "mode": "lines",
         "name": "thresh3_twoport",
         "opacity": 0.8,
         "showlegend": false,
         "type": "scatter",
         "x": [
          4,
          8,
          12,
          16,
          20,
          24,
          28,
          32,
          36,
          40,
          44
         ],
         "xaxis": "x13",
         "y": [
          0.3194444444444445,
          0.5277777777777778,
          0.5833333333333334,
          0.763888888888889,
          0.8194444444444443,
          0.8472222222222223,
          0.7916666666666666,
          0.8194444444444445,
          0.736111111111111,
          0.7361111111111112,
          0.5833333333333333
         ],
         "yaxis": "y13"
        },
        {
         "legendgroup": "thresh3_twoport",
         "line": {
          "width": 0
         },
         "marker": {
          "color": "rgba(169,169,169,0.4)"
         },
         "mode": "lines",
         "name": "Upper Bound",
         "showlegend": false,
         "type": "scatter",
         "x": [
          4,
          8,
          12,
          16,
          20,
          24,
          28,
          32,
          36,
          40,
          44
         ],
         "xaxis": "x13",
         "y": [
          0.4519360001967981,
          0.6602693335301314,
          0.771218739700954,
          0.8849694150983521,
          0.9166666666666665,
          0.8839687682092305,
          0.8784027499777555,
          0.8888888888888891,
          0.8595582557960498,
          0.8333333333333334,
          null
         ],
         "yaxis": "y13"
        },
        {
         "fill": "tonexty",
         "fillcolor": "rgba(169,169,169,0.4)",
         "legendgroup": "thresh3_twoport",
         "line": {
          "width": 0
         },
         "marker": {
          "color": "rgba(169,169,169,0.4)"
         },
         "mode": "lines",
         "name": "Lower Bound",
         "showlegend": false,
         "type": "scatter",
         "x": [
          4,
          8,
          12,
          16,
          20,
          24,
          28,
          32,
          36,
          40,
          44
         ],
         "xaxis": "x13",
         "y": [
          0.18695288869209087,
          0.3952862220254242,
          0.39544792696571274,
          0.6428083626794258,
          0.7222222222222221,
          0.8104756762352141,
          0.7049305833555778,
          0.75,
          0.6126639664261723,
          0.638888888888889,
          null
         ],
         "yaxis": "y13"
        },
        {
         "legendgroup": "thresh5_twoport",
         "line": {
          "color": "midnightblue"
         },
         "mode": "lines",
         "name": "thresh5_twoport",
         "opacity": 0.8,
         "showlegend": false,
         "type": "scatter",
         "x": [
          4,
          8,
          12,
          16,
          20,
          24,
          28,
          32,
          36,
          40,
          44,
          48
         ],
         "xaxis": "x13",
         "y": [
          0.4305555555555555,
          0.6527777777777778,
          0.7222222222222223,
          0.6111111111111112,
          0.8472222222222223,
          0.8611111111111112,
          0.8541666666666667,
          0.9583333333333333,
          0.9166666666666667,
          0.875,
          0.8333333333333334,
          0.7916666666666666
         ],
         "yaxis": "y13"
        },
        {
         "legendgroup": "thresh5_twoport",
         "line": {
          "width": 0
         },
         "marker": {
          "color": "rgba(25,25,112,0.4)"
         },
         "mode": "lines",
         "name": "Upper Bound",
         "showlegend": false,
         "type": "scatter",
         "x": [
          4,
          8,
          12,
          16,
          20,
          24,
          28,
          32,
          36,
          40,
          44,
          48
         ],
         "xaxis": "x13",
         "y": [
          0.5630471113079092,
          0.7301078383726393,
          0.8547137779745759,
          0.81570722031467,
          0.9797137779745759,
          0.8978576570981194,
          0.9583333333333334,
          0.9999999999999999,
          1,
          null,
          null,
          null
         ],
         "yaxis": "y13"
        },
        {
         "fill": "tonexty",
         "fillcolor": "rgba(25,25,112,0.4)",
         "legendgroup": "thresh5_twoport",
         "line": {
          "width": 0
         },
         "marker": {
          "color": "rgba(25,25,112,0.4)"
         },
         "mode": "lines",
         "name": "Lower Bound",
         "showlegend": false,
         "type": "scatter",
         "x": [
          4,
          8,
          12,
          16,
          20,
          24,
          28,
          32,
          36,
          40,
          44,
          48
         ],
         "xaxis": "x13",
         "y": [
          0.2980639998032019,
          0.5754477171829163,
          0.5897306664698687,
          0.4065150019075523,
          0.7147306664698687,
          0.8243645651241029,
          0.7500000000000001,
          0.9166666666666666,
          0.8333333333333334,
          null,
          null,
          null
         ],
         "yaxis": "y13"
        },
        {
         "legendgroup": "thresh3_twoport",
         "line": {
          "color": "darkgrey"
         },
         "mode": "lines",
         "name": "thresh3_twoport",
         "opacity": 0.8,
         "showlegend": false,
         "type": "scatter",
         "x": [
          4,
          8,
          12,
          16,
          20,
          24,
          28,
          32,
          36,
          40,
          44
         ],
         "xaxis": "x14",
         "y": [
          0.40277777777777785,
          0.8194444444444443,
          0.8611111111111112,
          0.8472222222222223,
          0.888888888888889,
          0.8055555555555557,
          0.7291666666666667,
          1,
          1,
          0.9166666666666667,
          0.8750000000000001
         ],
         "yaxis": "y14"
        },
        {
         "legendgroup": "thresh3_twoport",
         "line": {
          "width": 0
         },
         "marker": {
          "color": "rgba(169,169,169,0.4)"
         },
         "mode": "lines",
         "name": "Upper Bound",
         "showlegend": false,
         "type": "scatter",
         "x": [
          4,
          8,
          12,
          16,
          20,
          24,
          28,
          32,
          36,
          40,
          44
         ],
         "xaxis": "x14",
         "y": [
          0.6210588006319683,
          0.9604012717373918,
          0.9797778297960769,
          0.8972993232703332,
          0.9256354348758972,
          0.882885616150417,
          0.875,
          1,
          null,
          null,
          null
         ],
         "yaxis": "y14"
        },
        {
         "fill": "tonexty",
         "fillcolor": "rgba(169,169,169,0.4)",
         "legendgroup": "thresh3_twoport",
         "line": {
          "width": 0
         },
         "marker": {
          "color": "rgba(169,169,169,0.4)"
         },
         "mode": "lines",
         "name": "Lower Bound",
         "showlegend": false,
         "type": "scatter",
         "x": [
          4,
          8,
          12,
          16,
          20,
          24,
          28,
          32,
          36,
          40,
          44
         ],
         "xaxis": "x14",
         "y": [
          0.18449675492358739,
          0.6784876171514969,
          0.7424443924261455,
          0.7971451211741114,
          0.8521423429018807,
          0.7282254949606943,
          0.5833333333333335,
          1,
          null,
          null,
          null
         ],
         "yaxis": "y14"
        },
        {
         "legendgroup": "thresh5_twoport",
         "line": {
          "color": "midnightblue"
         },
         "mode": "lines",
         "name": "thresh5_twoport",
         "opacity": 0.8,
         "showlegend": false,
         "type": "scatter",
         "x": [
          4,
          8,
          12,
          16,
          20,
          24,
          28,
          32,
          36,
          40,
          44
         ],
         "xaxis": "x14",
         "y": [
          0.47222222222222215,
          0.8194444444444445,
          0.9305555555555557,
          0.9444444444444445,
          0.9027777777777778,
          0.9444444444444445,
          0.8958333333333333,
          0.9166666666666667,
          0.8333333333333333,
          0.9166666666666667,
          0.8333333333333334
         ],
         "yaxis": "y14"
        },
        {
         "legendgroup": "thresh5_twoport",
         "line": {
          "width": 0
         },
         "marker": {
          "color": "rgba(25,25,112,0.4)"
         },
         "mode": "lines",
         "name": "Upper Bound",
         "showlegend": false,
         "type": "scatter",
         "x": [
          4,
          8,
          12,
          16,
          20,
          24,
          28,
          32,
          36,
          40,
          44
         ],
         "xaxis": "x14",
         "y": [
          0.5859076773871172,
          0.8561909904314526,
          0.9806326566036667,
          0.9811909904314527,
          0.9583333333333334,
          0.9583333333333334,
          0.9166666666666665,
          0.9583333333333335,
          0.8333333333333333,
          null,
          null
         ],
         "yaxis": "y14"
        },
        {
         "fill": "tonexty",
         "fillcolor": "rgba(25,25,112,0.4)",
         "legendgroup": "thresh5_twoport",
         "line": {
          "width": 0
         },
         "marker": {
          "color": "rgba(25,25,112,0.4)"
         },
         "mode": "lines",
         "name": "Lower Bound",
         "showlegend": false,
         "type": "scatter",
         "x": [
          4,
          8,
          12,
          16,
          20,
          24,
          28,
          32,
          36,
          40,
          44
         ],
         "xaxis": "x14",
         "y": [
          0.35853676705732707,
          0.7826978984574364,
          0.8804784545074447,
          0.9076978984574363,
          0.8472222222222222,
          0.9305555555555557,
          0.875,
          0.875,
          0.8333333333333333,
          null,
          null
         ],
         "yaxis": "y14"
        }
       ],
       "layout": {
        "annotations": [
         {
          "font": {
           "size": 22
          },
          "showarrow": false,
          "text": "Day 1",
          "x": 0.06944444444444445,
          "xanchor": "center",
          "xref": "paper",
          "y": 1,
          "yanchor": "bottom",
          "yref": "paper"
         },
         {
          "font": {
           "size": 22
          },
          "showarrow": false,
          "text": "Day 2",
          "x": 0.24166666666666667,
          "xanchor": "center",
          "xref": "paper",
          "y": 1,
          "yanchor": "bottom",
          "yref": "paper"
         },
         {
          "font": {
           "size": 22
          },
          "showarrow": false,
          "text": "Day 3",
          "x": 0.41388888888888886,
          "xanchor": "center",
          "xref": "paper",
          "y": 1,
          "yanchor": "bottom",
          "yref": "paper"
         },
         {
          "font": {
           "size": 22
          },
          "showarrow": false,
          "text": "Day 4",
          "x": 0.5861111111111112,
          "xanchor": "center",
          "xref": "paper",
          "y": 1,
          "yanchor": "bottom",
          "yref": "paper"
         },
         {
          "font": {
           "size": 22
          },
          "showarrow": false,
          "text": "Day 5",
          "x": 0.7583333333333333,
          "xanchor": "center",
          "xref": "paper",
          "y": 1,
          "yanchor": "bottom",
          "yref": "paper"
         },
         {
          "font": {
           "size": 22
          },
          "showarrow": false,
          "text": "Day 6",
          "x": 0.9305555555555556,
          "xanchor": "center",
          "xref": "paper",
          "y": 1,
          "yanchor": "bottom",
          "yref": "paper"
         },
         {
          "font": {
           "size": 22
          },
          "showarrow": false,
          "text": "Day 7",
          "x": 0.06944444444444445,
          "xanchor": "center",
          "xref": "paper",
          "y": 0.6111111111111112,
          "yanchor": "bottom",
          "yref": "paper"
         },
         {
          "font": {
           "size": 22
          },
          "showarrow": false,
          "text": "Day 8",
          "x": 0.24166666666666667,
          "xanchor": "center",
          "xref": "paper",
          "y": 0.6111111111111112,
          "yanchor": "bottom",
          "yref": "paper"
         },
         {
          "font": {
           "size": 22
          },
          "showarrow": false,
          "text": "Day 9",
          "x": 0.41388888888888886,
          "xanchor": "center",
          "xref": "paper",
          "y": 0.6111111111111112,
          "yanchor": "bottom",
          "yref": "paper"
         },
         {
          "font": {
           "size": 22
          },
          "showarrow": false,
          "text": "Day 10",
          "x": 0.5861111111111112,
          "xanchor": "center",
          "xref": "paper",
          "y": 0.6111111111111112,
          "yanchor": "bottom",
          "yref": "paper"
         },
         {
          "font": {
           "size": 22
          },
          "showarrow": false,
          "text": "Day 11",
          "x": 0.7583333333333333,
          "xanchor": "center",
          "xref": "paper",
          "y": 0.6111111111111112,
          "yanchor": "bottom",
          "yref": "paper"
         },
         {
          "font": {
           "size": 22
          },
          "showarrow": false,
          "text": "Day 12",
          "x": 0.9305555555555556,
          "xanchor": "center",
          "xref": "paper",
          "y": 0.6111111111111112,
          "yanchor": "bottom",
          "yref": "paper"
         },
         {
          "font": {
           "size": 22
          },
          "showarrow": false,
          "text": "Day 13",
          "x": 0.06944444444444445,
          "xanchor": "center",
          "xref": "paper",
          "y": 0.22222222222222224,
          "yanchor": "bottom",
          "yref": "paper"
         },
         {
          "font": {
           "size": 22
          },
          "showarrow": false,
          "text": "Day 14",
          "x": 0.24166666666666667,
          "xanchor": "center",
          "xref": "paper",
          "y": 0.22222222222222224,
          "yanchor": "bottom",
          "yref": "paper"
         }
        ],
        "font": {
         "family": "Arial",
         "size": 22
        },
        "height": 800,
        "shapes": [
         {
          "line": {
           "color": "darkgrey",
           "dash": "dash",
           "width": 1
          },
          "opacity": 1,
          "type": "line",
          "x0": 0,
          "x1": 1,
          "xref": "x domain",
          "y0": 1,
          "y1": 1,
          "yref": "y"
         },
         {
          "line": {
           "color": "darkgrey",
           "dash": "dash",
           "width": 1
          },
          "opacity": 1,
          "type": "line",
          "x0": 0,
          "x1": 1,
          "xref": "x2 domain",
          "y0": 1,
          "y1": 1,
          "yref": "y2"
         },
         {
          "line": {
           "color": "darkgrey",
           "dash": "dash",
           "width": 1
          },
          "opacity": 1,
          "type": "line",
          "x0": 0,
          "x1": 1,
          "xref": "x3 domain",
          "y0": 1,
          "y1": 1,
          "yref": "y3"
         },
         {
          "line": {
           "color": "darkgrey",
           "dash": "dash",
           "width": 1
          },
          "opacity": 1,
          "type": "line",
          "x0": 0,
          "x1": 1,
          "xref": "x4 domain",
          "y0": 1,
          "y1": 1,
          "yref": "y4"
         },
         {
          "line": {
           "color": "darkgrey",
           "dash": "dash",
           "width": 1
          },
          "opacity": 1,
          "type": "line",
          "x0": 0,
          "x1": 1,
          "xref": "x5 domain",
          "y0": 1,
          "y1": 1,
          "yref": "y5"
         },
         {
          "line": {
           "color": "darkgrey",
           "dash": "dash",
           "width": 1
          },
          "opacity": 1,
          "type": "line",
          "x0": 0,
          "x1": 1,
          "xref": "x6 domain",
          "y0": 1,
          "y1": 1,
          "yref": "y6"
         },
         {
          "line": {
           "color": "darkgrey",
           "dash": "dash",
           "width": 1
          },
          "opacity": 1,
          "type": "line",
          "x0": 0,
          "x1": 1,
          "xref": "x7 domain",
          "y0": 1,
          "y1": 1,
          "yref": "y7"
         },
         {
          "line": {
           "color": "darkgrey",
           "dash": "dash",
           "width": 1
          },
          "opacity": 1,
          "type": "line",
          "x0": 0,
          "x1": 1,
          "xref": "x8 domain",
          "y0": 1,
          "y1": 1,
          "yref": "y8"
         },
         {
          "line": {
           "color": "darkgrey",
           "dash": "dash",
           "width": 1
          },
          "opacity": 1,
          "type": "line",
          "x0": 0,
          "x1": 1,
          "xref": "x9 domain",
          "y0": 1,
          "y1": 1,
          "yref": "y9"
         },
         {
          "line": {
           "color": "darkgrey",
           "dash": "dash",
           "width": 1
          },
          "opacity": 1,
          "type": "line",
          "x0": 0,
          "x1": 1,
          "xref": "x10 domain",
          "y0": 1,
          "y1": 1,
          "yref": "y10"
         },
         {
          "line": {
           "color": "darkgrey",
           "dash": "dash",
           "width": 1
          },
          "opacity": 1,
          "type": "line",
          "x0": 0,
          "x1": 1,
          "xref": "x11 domain",
          "y0": 1,
          "y1": 1,
          "yref": "y11"
         },
         {
          "line": {
           "color": "darkgrey",
           "dash": "dash",
           "width": 1
          },
          "opacity": 1,
          "type": "line",
          "x0": 0,
          "x1": 1,
          "xref": "x12 domain",
          "y0": 1,
          "y1": 1,
          "yref": "y12"
         },
         {
          "line": {
           "color": "darkgrey",
           "dash": "dash",
           "width": 1
          },
          "opacity": 1,
          "type": "line",
          "x0": 0,
          "x1": 1,
          "xref": "x13 domain",
          "y0": 1,
          "y1": 1,
          "yref": "y13"
         },
         {
          "line": {
           "color": "darkgrey",
           "dash": "dash",
           "width": 1
          },
          "opacity": 1,
          "type": "line",
          "x0": 0,
          "x1": 1,
          "xref": "x14 domain",
          "y0": 1,
          "y1": 1,
          "yref": "y14"
         }
        ],
        "template": {
         "data": {
          "bar": [
           {
            "error_x": {
             "color": "rgb(36,36,36)"
            },
            "error_y": {
             "color": "rgb(36,36,36)"
            },
            "marker": {
             "line": {
              "color": "white",
              "width": 0.5
             },
             "pattern": {
              "fillmode": "overlay",
              "size": 10,
              "solidity": 0.2
             }
            },
            "type": "bar"
           }
          ],
          "barpolar": [
           {
            "marker": {
             "line": {
              "color": "white",
              "width": 0.5
             },
             "pattern": {
              "fillmode": "overlay",
              "size": 10,
              "solidity": 0.2
             }
            },
            "type": "barpolar"
           }
          ],
          "carpet": [
           {
            "aaxis": {
             "endlinecolor": "rgb(36,36,36)",
             "gridcolor": "white",
             "linecolor": "white",
             "minorgridcolor": "white",
             "startlinecolor": "rgb(36,36,36)"
            },
            "baxis": {
             "endlinecolor": "rgb(36,36,36)",
             "gridcolor": "white",
             "linecolor": "white",
             "minorgridcolor": "white",
             "startlinecolor": "rgb(36,36,36)"
            },
            "type": "carpet"
           }
          ],
          "choropleth": [
           {
            "colorbar": {
             "outlinewidth": 1,
             "tickcolor": "rgb(36,36,36)",
             "ticks": "outside"
            },
            "type": "choropleth"
           }
          ],
          "contour": [
           {
            "colorbar": {
             "outlinewidth": 1,
             "tickcolor": "rgb(36,36,36)",
             "ticks": "outside"
            },
            "colorscale": [
             [
              0,
              "#440154"
             ],
             [
              0.1111111111111111,
              "#482878"
             ],
             [
              0.2222222222222222,
              "#3e4989"
             ],
             [
              0.3333333333333333,
              "#31688e"
             ],
             [
              0.4444444444444444,
              "#26828e"
             ],
             [
              0.5555555555555556,
              "#1f9e89"
             ],
             [
              0.6666666666666666,
              "#35b779"
             ],
             [
              0.7777777777777778,
              "#6ece58"
             ],
             [
              0.8888888888888888,
              "#b5de2b"
             ],
             [
              1,
              "#fde725"
             ]
            ],
            "type": "contour"
           }
          ],
          "contourcarpet": [
           {
            "colorbar": {
             "outlinewidth": 1,
             "tickcolor": "rgb(36,36,36)",
             "ticks": "outside"
            },
            "type": "contourcarpet"
           }
          ],
          "heatmap": [
           {
            "colorbar": {
             "outlinewidth": 1,
             "tickcolor": "rgb(36,36,36)",
             "ticks": "outside"
            },
            "colorscale": [
             [
              0,
              "#440154"
             ],
             [
              0.1111111111111111,
              "#482878"
             ],
             [
              0.2222222222222222,
              "#3e4989"
             ],
             [
              0.3333333333333333,
              "#31688e"
             ],
             [
              0.4444444444444444,
              "#26828e"
             ],
             [
              0.5555555555555556,
              "#1f9e89"
             ],
             [
              0.6666666666666666,
              "#35b779"
             ],
             [
              0.7777777777777778,
              "#6ece58"
             ],
             [
              0.8888888888888888,
              "#b5de2b"
             ],
             [
              1,
              "#fde725"
             ]
            ],
            "type": "heatmap"
           }
          ],
          "heatmapgl": [
           {
            "colorbar": {
             "outlinewidth": 1,
             "tickcolor": "rgb(36,36,36)",
             "ticks": "outside"
            },
            "colorscale": [
             [
              0,
              "#440154"
             ],
             [
              0.1111111111111111,
              "#482878"
             ],
             [
              0.2222222222222222,
              "#3e4989"
             ],
             [
              0.3333333333333333,
              "#31688e"
             ],
             [
              0.4444444444444444,
              "#26828e"
             ],
             [
              0.5555555555555556,
              "#1f9e89"
             ],
             [
              0.6666666666666666,
              "#35b779"
             ],
             [
              0.7777777777777778,
              "#6ece58"
             ],
             [
              0.8888888888888888,
              "#b5de2b"
             ],
             [
              1,
              "#fde725"
             ]
            ],
            "type": "heatmapgl"
           }
          ],
          "histogram": [
           {
            "marker": {
             "line": {
              "color": "white",
              "width": 0.6
             }
            },
            "type": "histogram"
           }
          ],
          "histogram2d": [
           {
            "colorbar": {
             "outlinewidth": 1,
             "tickcolor": "rgb(36,36,36)",
             "ticks": "outside"
            },
            "colorscale": [
             [
              0,
              "#440154"
             ],
             [
              0.1111111111111111,
              "#482878"
             ],
             [
              0.2222222222222222,
              "#3e4989"
             ],
             [
              0.3333333333333333,
              "#31688e"
             ],
             [
              0.4444444444444444,
              "#26828e"
             ],
             [
              0.5555555555555556,
              "#1f9e89"
             ],
             [
              0.6666666666666666,
              "#35b779"
             ],
             [
              0.7777777777777778,
              "#6ece58"
             ],
             [
              0.8888888888888888,
              "#b5de2b"
             ],
             [
              1,
              "#fde725"
             ]
            ],
            "type": "histogram2d"
           }
          ],
          "histogram2dcontour": [
           {
            "colorbar": {
             "outlinewidth": 1,
             "tickcolor": "rgb(36,36,36)",
             "ticks": "outside"
            },
            "colorscale": [
             [
              0,
              "#440154"
             ],
             [
              0.1111111111111111,
              "#482878"
             ],
             [
              0.2222222222222222,
              "#3e4989"
             ],
             [
              0.3333333333333333,
              "#31688e"
             ],
             [
              0.4444444444444444,
              "#26828e"
             ],
             [
              0.5555555555555556,
              "#1f9e89"
             ],
             [
              0.6666666666666666,
              "#35b779"
             ],
             [
              0.7777777777777778,
              "#6ece58"
             ],
             [
              0.8888888888888888,
              "#b5de2b"
             ],
             [
              1,
              "#fde725"
             ]
            ],
            "type": "histogram2dcontour"
           }
          ],
          "mesh3d": [
           {
            "colorbar": {
             "outlinewidth": 1,
             "tickcolor": "rgb(36,36,36)",
             "ticks": "outside"
            },
            "type": "mesh3d"
           }
          ],
          "parcoords": [
           {
            "line": {
             "colorbar": {
              "outlinewidth": 1,
              "tickcolor": "rgb(36,36,36)",
              "ticks": "outside"
             }
            },
            "type": "parcoords"
           }
          ],
          "pie": [
           {
            "automargin": true,
            "type": "pie"
           }
          ],
          "scatter": [
           {
            "fillpattern": {
             "fillmode": "overlay",
             "size": 10,
             "solidity": 0.2
            },
            "type": "scatter"
           }
          ],
          "scatter3d": [
           {
            "line": {
             "colorbar": {
              "outlinewidth": 1,
              "tickcolor": "rgb(36,36,36)",
              "ticks": "outside"
             }
            },
            "marker": {
             "colorbar": {
              "outlinewidth": 1,
              "tickcolor": "rgb(36,36,36)",
              "ticks": "outside"
             }
            },
            "type": "scatter3d"
           }
          ],
          "scattercarpet": [
           {
            "marker": {
             "colorbar": {
              "outlinewidth": 1,
              "tickcolor": "rgb(36,36,36)",
              "ticks": "outside"
             }
            },
            "type": "scattercarpet"
           }
          ],
          "scattergeo": [
           {
            "marker": {
             "colorbar": {
              "outlinewidth": 1,
              "tickcolor": "rgb(36,36,36)",
              "ticks": "outside"
             }
            },
            "type": "scattergeo"
           }
          ],
          "scattergl": [
           {
            "marker": {
             "colorbar": {
              "outlinewidth": 1,
              "tickcolor": "rgb(36,36,36)",
              "ticks": "outside"
             }
            },
            "type": "scattergl"
           }
          ],
          "scattermapbox": [
           {
            "marker": {
             "colorbar": {
              "outlinewidth": 1,
              "tickcolor": "rgb(36,36,36)",
              "ticks": "outside"
             }
            },
            "type": "scattermapbox"
           }
          ],
          "scatterpolar": [
           {
            "marker": {
             "colorbar": {
              "outlinewidth": 1,
              "tickcolor": "rgb(36,36,36)",
              "ticks": "outside"
             }
            },
            "type": "scatterpolar"
           }
          ],
          "scatterpolargl": [
           {
            "marker": {
             "colorbar": {
              "outlinewidth": 1,
              "tickcolor": "rgb(36,36,36)",
              "ticks": "outside"
             }
            },
            "type": "scatterpolargl"
           }
          ],
          "scatterternary": [
           {
            "marker": {
             "colorbar": {
              "outlinewidth": 1,
              "tickcolor": "rgb(36,36,36)",
              "ticks": "outside"
             }
            },
            "type": "scatterternary"
           }
          ],
          "surface": [
           {
            "colorbar": {
             "outlinewidth": 1,
             "tickcolor": "rgb(36,36,36)",
             "ticks": "outside"
            },
            "colorscale": [
             [
              0,
              "#440154"
             ],
             [
              0.1111111111111111,
              "#482878"
             ],
             [
              0.2222222222222222,
              "#3e4989"
             ],
             [
              0.3333333333333333,
              "#31688e"
             ],
             [
              0.4444444444444444,
              "#26828e"
             ],
             [
              0.5555555555555556,
              "#1f9e89"
             ],
             [
              0.6666666666666666,
              "#35b779"
             ],
             [
              0.7777777777777778,
              "#6ece58"
             ],
             [
              0.8888888888888888,
              "#b5de2b"
             ],
             [
              1,
              "#fde725"
             ]
            ],
            "type": "surface"
           }
          ],
          "table": [
           {
            "cells": {
             "fill": {
              "color": "rgb(237,237,237)"
             },
             "line": {
              "color": "white"
             }
            },
            "header": {
             "fill": {
              "color": "rgb(217,217,217)"
             },
             "line": {
              "color": "white"
             }
            },
            "type": "table"
           }
          ]
         },
         "layout": {
          "annotationdefaults": {
           "arrowhead": 0,
           "arrowwidth": 1
          },
          "autotypenumbers": "strict",
          "coloraxis": {
           "colorbar": {
            "outlinewidth": 1,
            "tickcolor": "rgb(36,36,36)",
            "ticks": "outside"
           }
          },
          "colorscale": {
           "diverging": [
            [
             0,
             "rgb(103,0,31)"
            ],
            [
             0.1,
             "rgb(178,24,43)"
            ],
            [
             0.2,
             "rgb(214,96,77)"
            ],
            [
             0.3,
             "rgb(244,165,130)"
            ],
            [
             0.4,
             "rgb(253,219,199)"
            ],
            [
             0.5,
             "rgb(247,247,247)"
            ],
            [
             0.6,
             "rgb(209,229,240)"
            ],
            [
             0.7,
             "rgb(146,197,222)"
            ],
            [
             0.8,
             "rgb(67,147,195)"
            ],
            [
             0.9,
             "rgb(33,102,172)"
            ],
            [
             1,
             "rgb(5,48,97)"
            ]
           ],
           "sequential": [
            [
             0,
             "#440154"
            ],
            [
             0.1111111111111111,
             "#482878"
            ],
            [
             0.2222222222222222,
             "#3e4989"
            ],
            [
             0.3333333333333333,
             "#31688e"
            ],
            [
             0.4444444444444444,
             "#26828e"
            ],
            [
             0.5555555555555556,
             "#1f9e89"
            ],
            [
             0.6666666666666666,
             "#35b779"
            ],
            [
             0.7777777777777778,
             "#6ece58"
            ],
            [
             0.8888888888888888,
             "#b5de2b"
            ],
            [
             1,
             "#fde725"
            ]
           ],
           "sequentialminus": [
            [
             0,
             "#440154"
            ],
            [
             0.1111111111111111,
             "#482878"
            ],
            [
             0.2222222222222222,
             "#3e4989"
            ],
            [
             0.3333333333333333,
             "#31688e"
            ],
            [
             0.4444444444444444,
             "#26828e"
            ],
            [
             0.5555555555555556,
             "#1f9e89"
            ],
            [
             0.6666666666666666,
             "#35b779"
            ],
            [
             0.7777777777777778,
             "#6ece58"
            ],
            [
             0.8888888888888888,
             "#b5de2b"
            ],
            [
             1,
             "#fde725"
            ]
           ]
          },
          "colorway": [
           "#1F77B4",
           "#FF7F0E",
           "#2CA02C",
           "#D62728",
           "#9467BD",
           "#8C564B",
           "#E377C2",
           "#7F7F7F",
           "#BCBD22",
           "#17BECF"
          ],
          "font": {
           "color": "rgb(36,36,36)"
          },
          "geo": {
           "bgcolor": "white",
           "lakecolor": "white",
           "landcolor": "white",
           "showlakes": true,
           "showland": true,
           "subunitcolor": "white"
          },
          "hoverlabel": {
           "align": "left"
          },
          "hovermode": "closest",
          "mapbox": {
           "style": "light"
          },
          "paper_bgcolor": "white",
          "plot_bgcolor": "white",
          "polar": {
           "angularaxis": {
            "gridcolor": "rgb(232,232,232)",
            "linecolor": "rgb(36,36,36)",
            "showgrid": false,
            "showline": true,
            "ticks": "outside"
           },
           "bgcolor": "white",
           "radialaxis": {
            "gridcolor": "rgb(232,232,232)",
            "linecolor": "rgb(36,36,36)",
            "showgrid": false,
            "showline": true,
            "ticks": "outside"
           }
          },
          "scene": {
           "xaxis": {
            "backgroundcolor": "white",
            "gridcolor": "rgb(232,232,232)",
            "gridwidth": 2,
            "linecolor": "rgb(36,36,36)",
            "showbackground": true,
            "showgrid": false,
            "showline": true,
            "ticks": "outside",
            "zeroline": false,
            "zerolinecolor": "rgb(36,36,36)"
           },
           "yaxis": {
            "backgroundcolor": "white",
            "gridcolor": "rgb(232,232,232)",
            "gridwidth": 2,
            "linecolor": "rgb(36,36,36)",
            "showbackground": true,
            "showgrid": false,
            "showline": true,
            "ticks": "outside",
            "zeroline": false,
            "zerolinecolor": "rgb(36,36,36)"
           },
           "zaxis": {
            "backgroundcolor": "white",
            "gridcolor": "rgb(232,232,232)",
            "gridwidth": 2,
            "linecolor": "rgb(36,36,36)",
            "showbackground": true,
            "showgrid": false,
            "showline": true,
            "ticks": "outside",
            "zeroline": false,
            "zerolinecolor": "rgb(36,36,36)"
           }
          },
          "shapedefaults": {
           "fillcolor": "black",
           "line": {
            "width": 0
           },
           "opacity": 0.3
          },
          "ternary": {
           "aaxis": {
            "gridcolor": "rgb(232,232,232)",
            "linecolor": "rgb(36,36,36)",
            "showgrid": false,
            "showline": true,
            "ticks": "outside"
           },
           "baxis": {
            "gridcolor": "rgb(232,232,232)",
            "linecolor": "rgb(36,36,36)",
            "showgrid": false,
            "showline": true,
            "ticks": "outside"
           },
           "bgcolor": "white",
           "caxis": {
            "gridcolor": "rgb(232,232,232)",
            "linecolor": "rgb(36,36,36)",
            "showgrid": false,
            "showline": true,
            "ticks": "outside"
           }
          },
          "title": {
           "x": 0.05
          },
          "xaxis": {
           "automargin": true,
           "gridcolor": "rgb(232,232,232)",
           "linecolor": "rgb(36,36,36)",
           "showgrid": false,
           "showline": true,
           "ticks": "outside",
           "title": {
            "standoff": 15
           },
           "zeroline": false,
           "zerolinecolor": "rgb(36,36,36)"
          },
          "yaxis": {
           "automargin": true,
           "gridcolor": "rgb(232,232,232)",
           "linecolor": "rgb(36,36,36)",
           "showgrid": false,
           "showline": true,
           "ticks": "outside",
           "title": {
            "standoff": 15
           },
           "zeroline": false,
           "zerolinecolor": "rgb(36,36,36)"
          }
         }
        },
        "title": {
         "x": 0.5,
         "xanchor": "center",
         "y": 0.9,
         "yanchor": "top"
        },
        "width": 1200,
        "xaxis": {
         "anchor": "y",
         "domain": [
          0,
          0.1388888888888889
         ],
         "linewidth": 1.5,
         "matches": "x",
         "title": {
          "text": ""
         }
        },
        "xaxis10": {
         "anchor": "y10",
         "domain": [
          0.5166666666666667,
          0.6555555555555557
         ],
         "linewidth": 1.5,
         "matches": "x",
         "title": {
          "text": ""
         }
        },
        "xaxis11": {
         "anchor": "y11",
         "domain": [
          0.6888888888888889,
          0.8277777777777777
         ],
         "linewidth": 1.5,
         "matches": "x",
         "title": {
          "text": ""
         }
        },
        "xaxis12": {
         "anchor": "y12",
         "domain": [
          0.861111111111111,
          1
         ],
         "linewidth": 1.5,
         "matches": "x",
         "title": {
          "text": ""
         }
        },
        "xaxis13": {
         "anchor": "y13",
         "domain": [
          0,
          0.1388888888888889
         ],
         "linewidth": 1.5,
         "matches": "x",
         "title": {
          "text": "Trial"
         }
        },
        "xaxis14": {
         "anchor": "y14",
         "domain": [
          0.17222222222222222,
          0.3111111111111111
         ],
         "linewidth": 1.5,
         "matches": "x",
         "title": {
          "text": "Trial"
         }
        },
        "xaxis15": {
         "anchor": "y15",
         "domain": [
          0.34444444444444444,
          0.48333333333333334
         ],
         "linewidth": 1.5,
         "matches": "x",
         "title": {
          "text": "Trial"
         }
        },
        "xaxis16": {
         "anchor": "y16",
         "domain": [
          0.5166666666666667,
          0.6555555555555557
         ],
         "linewidth": 1.5,
         "matches": "x",
         "title": {
          "text": "Trial"
         }
        },
        "xaxis17": {
         "anchor": "y17",
         "domain": [
          0.6888888888888889,
          0.8277777777777777
         ],
         "linewidth": 1.5,
         "matches": "x",
         "title": {
          "text": "Trial"
         }
        },
        "xaxis18": {
         "anchor": "y18",
         "domain": [
          0.861111111111111,
          1
         ],
         "linewidth": 1.5,
         "matches": "x",
         "title": {
          "text": "Trial"
         }
        },
        "xaxis2": {
         "anchor": "y2",
         "domain": [
          0.17222222222222222,
          0.3111111111111111
         ],
         "linewidth": 1.5,
         "matches": "x",
         "title": {
          "text": ""
         }
        },
        "xaxis3": {
         "anchor": "y3",
         "domain": [
          0.34444444444444444,
          0.48333333333333334
         ],
         "linewidth": 1.5,
         "matches": "x",
         "title": {
          "text": ""
         }
        },
        "xaxis4": {
         "anchor": "y4",
         "domain": [
          0.5166666666666667,
          0.6555555555555557
         ],
         "linewidth": 1.5,
         "matches": "x",
         "title": {
          "text": ""
         }
        },
        "xaxis5": {
         "anchor": "y5",
         "domain": [
          0.6888888888888889,
          0.8277777777777777
         ],
         "linewidth": 1.5,
         "matches": "x",
         "title": {
          "text": ""
         }
        },
        "xaxis6": {
         "anchor": "y6",
         "domain": [
          0.861111111111111,
          1
         ],
         "linewidth": 1.5,
         "matches": "x",
         "title": {
          "text": ""
         }
        },
        "xaxis7": {
         "anchor": "y7",
         "domain": [
          0,
          0.1388888888888889
         ],
         "linewidth": 1.5,
         "matches": "x",
         "title": {
          "text": ""
         }
        },
        "xaxis8": {
         "anchor": "y8",
         "domain": [
          0.17222222222222222,
          0.3111111111111111
         ],
         "linewidth": 1.5,
         "matches": "x",
         "title": {
          "text": ""
         }
        },
        "xaxis9": {
         "anchor": "y9",
         "domain": [
          0.34444444444444444,
          0.48333333333333334
         ],
         "linewidth": 1.5,
         "matches": "x",
         "title": {
          "text": ""
         }
        },
        "yaxis": {
         "anchor": "x",
         "domain": [
          0.7777777777777778,
          1
         ],
         "linewidth": 1.5,
         "matches": "y",
         "title": {
          "text": "Correct Rejection"
         }
        },
        "yaxis10": {
         "anchor": "x10",
         "domain": [
          0.3888888888888889,
          0.6111111111111112
         ],
         "linewidth": 1.5,
         "matches": "y",
         "showticklabels": false,
         "title": {
          "text": ""
         }
        },
        "yaxis11": {
         "anchor": "x11",
         "domain": [
          0.3888888888888889,
          0.6111111111111112
         ],
         "linewidth": 1.5,
         "matches": "y",
         "showticklabels": false,
         "title": {
          "text": ""
         }
        },
        "yaxis12": {
         "anchor": "x12",
         "domain": [
          0.3888888888888889,
          0.6111111111111112
         ],
         "linewidth": 1.5,
         "matches": "y",
         "showticklabels": false,
         "title": {
          "text": ""
         }
        },
        "yaxis13": {
         "anchor": "x13",
         "domain": [
          0,
          0.22222222222222224
         ],
         "linewidth": 1.5,
         "matches": "y",
         "title": {
          "text": "Correct Rejection"
         }
        },
        "yaxis14": {
         "anchor": "x14",
         "domain": [
          0,
          0.22222222222222224
         ],
         "linewidth": 1.5,
         "matches": "y",
         "showticklabels": false,
         "title": {
          "text": ""
         }
        },
        "yaxis15": {
         "anchor": "x15",
         "domain": [
          0,
          0.22222222222222224
         ],
         "linewidth": 1.5,
         "matches": "y",
         "showticklabels": false,
         "title": {
          "text": ""
         }
        },
        "yaxis16": {
         "anchor": "x16",
         "domain": [
          0,
          0.22222222222222224
         ],
         "linewidth": 1.5,
         "matches": "y",
         "showticklabels": false,
         "title": {
          "text": ""
         }
        },
        "yaxis17": {
         "anchor": "x17",
         "domain": [
          0,
          0.22222222222222224
         ],
         "linewidth": 1.5,
         "matches": "y",
         "showticklabels": false,
         "title": {
          "text": ""
         }
        },
        "yaxis18": {
         "anchor": "x18",
         "domain": [
          0,
          0.22222222222222224
         ],
         "linewidth": 1.5,
         "matches": "y",
         "showticklabels": false,
         "title": {
          "text": ""
         }
        },
        "yaxis2": {
         "anchor": "x2",
         "domain": [
          0.7777777777777778,
          1
         ],
         "linewidth": 1.5,
         "matches": "y",
         "showticklabels": false,
         "title": {
          "text": ""
         }
        },
        "yaxis3": {
         "anchor": "x3",
         "domain": [
          0.7777777777777778,
          1
         ],
         "linewidth": 1.5,
         "matches": "y",
         "showticklabels": false,
         "title": {
          "text": ""
         }
        },
        "yaxis4": {
         "anchor": "x4",
         "domain": [
          0.7777777777777778,
          1
         ],
         "linewidth": 1.5,
         "matches": "y",
         "showticklabels": false,
         "title": {
          "text": ""
         }
        },
        "yaxis5": {
         "anchor": "x5",
         "domain": [
          0.7777777777777778,
          1
         ],
         "linewidth": 1.5,
         "matches": "y",
         "showticklabels": false,
         "title": {
          "text": ""
         }
        },
        "yaxis6": {
         "anchor": "x6",
         "domain": [
          0.7777777777777778,
          1
         ],
         "linewidth": 1.5,
         "matches": "y",
         "showticklabels": false,
         "title": {
          "text": ""
         }
        },
        "yaxis7": {
         "anchor": "x7",
         "domain": [
          0.3888888888888889,
          0.6111111111111112
         ],
         "linewidth": 1.5,
         "matches": "y",
         "title": {
          "text": "Correct Rejection"
         }
        },
        "yaxis8": {
         "anchor": "x8",
         "domain": [
          0.3888888888888889,
          0.6111111111111112
         ],
         "linewidth": 1.5,
         "matches": "y",
         "showticklabels": false,
         "title": {
          "text": ""
         }
        },
        "yaxis9": {
         "anchor": "x9",
         "domain": [
          0.3888888888888889,
          0.6111111111111112
         ],
         "linewidth": 1.5,
         "matches": "y",
         "showticklabels": false,
         "title": {
          "text": ""
         }
        }
       }
      },
      "text/html": [
       "<div>                            <div id=\"5cd45b58-7cb6-4092-bb31-34ac60144f70\" class=\"plotly-graph-div\" style=\"height:800px; width:1200px;\"></div>            <script type=\"text/javascript\">                require([\"plotly\"], function(Plotly) {                    window.PLOTLYENV=window.PLOTLYENV || {};                                    if (document.getElementById(\"5cd45b58-7cb6-4092-bb31-34ac60144f70\")) {                    Plotly.newPlot(                        \"5cd45b58-7cb6-4092-bb31-34ac60144f70\",                        [{\"legendgroup\":\"thresh3_twoport\",\"line\":{\"color\":\"darkgrey\"},\"mode\":\"lines\",\"name\":\"thresh3_twoport\",\"opacity\":0.8,\"showlegend\":false,\"x\":[4,8,12,16,20],\"y\":[0.5555555555555555,0.2916666666666667,0.26851851851851855,0.16666666666666666,0.16666666666666666],\"type\":\"scatter\",\"xaxis\":\"x\",\"yaxis\":\"y\"},{\"legendgroup\":\"thresh3_twoport\",\"line\":{\"width\":0},\"marker\":{\"color\":\"rgba(169,169,169,0.4)\"},\"mode\":\"lines\",\"name\":\"Upper Bound\",\"showlegend\":false,\"x\":[4,8,12,16,20],\"y\":[0.6328856161504168,0.4189604359709956,0.3219100120123648,0.25,null],\"type\":\"scatter\",\"xaxis\":\"x\",\"yaxis\":\"y\"},{\"fill\":\"tonexty\",\"fillcolor\":\"rgba(169,169,169,0.4)\",\"legendgroup\":\"thresh3_twoport\",\"line\":{\"width\":0},\"marker\":{\"color\":\"rgba(169,169,169,0.4)\"},\"mode\":\"lines\",\"name\":\"Lower Bound\",\"showlegend\":false,\"x\":[4,8,12,16,20],\"y\":[0.47822549496069405,0.1643728973623378,0.2151270250246723,0.08333333333333333,null],\"type\":\"scatter\",\"xaxis\":\"x\",\"yaxis\":\"y\"},{\"legendgroup\":\"thresh5_twoport\",\"line\":{\"color\":\"midnightblue\"},\"mode\":\"lines\",\"name\":\"thresh5_twoport\",\"opacity\":0.8,\"showlegend\":false,\"x\":[4,8,12,16,20],\"y\":[0.513888888888889,0.5,0.2916666666666667,0.16666666666666666,0.6666666666666666],\"type\":\"scatter\",\"xaxis\":\"x\",\"yaxis\":\"y\"},{\"legendgroup\":\"thresh5_twoport\",\"line\":{\"width\":0},\"marker\":{\"color\":\"rgba(25,25,112,0.4)\"},\"mode\":\"lines\",\"name\":\"Upper Bound\",\"showlegend\":false,\"x\":[4,8,12,16,20],\"y\":[0.658893145957091,0.6924500897298753,null,null,null],\"type\":\"scatter\",\"xaxis\":\"x\",\"yaxis\":\"y\"},{\"fill\":\"tonexty\",\"fillcolor\":\"rgba(25,25,112,0.4)\",\"legendgroup\":\"thresh5_twoport\",\"line\":{\"width\":0},\"marker\":{\"color\":\"rgba(25,25,112,0.4)\"},\"mode\":\"lines\",\"name\":\"Lower Bound\",\"showlegend\":false,\"x\":[4,8,12,16,20],\"y\":[0.3688846318206868,0.3075499102701247,null,null,null],\"type\":\"scatter\",\"xaxis\":\"x\",\"yaxis\":\"y\"},{\"legendgroup\":\"thresh3_twoport\",\"line\":{\"color\":\"darkgrey\"},\"mode\":\"lines\",\"name\":\"thresh3_twoport\",\"opacity\":0.8,\"showlegend\":false,\"x\":[4,8,12,16,20,24,28,32],\"y\":[0.09722222222222222,0.2638888888888889,0.3194444444444444,0.3611111111111111,0.5231481481481481,0.6458333333333333,0.875,0.875],\"type\":\"scatter\",\"xaxis\":\"x2\",\"yaxis\":\"y2\"},{\"legendgroup\":\"thresh3_twoport\",\"line\":{\"width\":0},\"marker\":{\"color\":\"rgba(169,169,169,0.4)\"},\"mode\":\"lines\",\"name\":\"Upper Bound\",\"showlegend\":false,\"x\":[4,8,12,16,20,24,28,32],\"y\":[0.17455228281708365,0.3549644239486389,0.43312989960933956,0.4384411717059725,0.6510298825641957,0.7083333333333333,null,null],\"type\":\"scatter\",\"xaxis\":\"x2\",\"yaxis\":\"y2\"},{\"fill\":\"tonexty\",\"fillcolor\":\"rgba(169,169,169,0.4)\",\"legendgroup\":\"thresh3_twoport\",\"line\":{\"width\":0},\"marker\":{\"color\":\"rgba(169,169,169,0.4)\"},\"mode\":\"lines\",\"name\":\"Lower Bound\",\"showlegend\":false,\"x\":[4,8,12,16,20,24,28,32],\"y\":[0.019892161627360794,0.17281335382913887,0.20575898927954928,0.2837810505162497,0.3952664137321006,0.5833333333333333,null,null],\"type\":\"scatter\",\"xaxis\":\"x2\",\"yaxis\":\"y2\"},{\"legendgroup\":\"thresh5_twoport\",\"line\":{\"color\":\"midnightblue\"},\"mode\":\"lines\",\"name\":\"thresh5_twoport\",\"opacity\":0.8,\"showlegend\":false,\"x\":[4,8,12,16,20,24,28],\"y\":[0.18055555555555555,0.5833333333333334,0.7083333333333333,0.7083333333333333,0.8333333333333334,0.7083333333333334,1.0],\"type\":\"scatter\",\"xaxis\":\"x2\",\"yaxis\":\"y2\"},{\"legendgroup\":\"thresh5_twoport\",\"line\":{\"width\":0},\"marker\":{\"color\":\"rgba(25,25,112,0.4)\"},\"mode\":\"lines\",\"name\":\"Upper Bound\",\"showlegend\":false,\"x\":[4,8,12,16,20,24,28],\"y\":[0.3407300360370944,null,null,null,null,null,null],\"type\":\"scatter\",\"xaxis\":\"x2\",\"yaxis\":\"y2\"},{\"fill\":\"tonexty\",\"fillcolor\":\"rgba(25,25,112,0.4)\",\"legendgroup\":\"thresh5_twoport\",\"line\":{\"width\":0},\"marker\":{\"color\":\"rgba(25,25,112,0.4)\"},\"mode\":\"lines\",\"name\":\"Lower Bound\",\"showlegend\":false,\"x\":[4,8,12,16,20,24,28],\"y\":[0.020381075074016708,null,null,null,null,null,null],\"type\":\"scatter\",\"xaxis\":\"x2\",\"yaxis\":\"y2\"},{\"legendgroup\":\"thresh3_twoport\",\"line\":{\"color\":\"darkgrey\"},\"mode\":\"lines\",\"name\":\"thresh3_twoport\",\"opacity\":0.8,\"showlegend\":false,\"x\":[4,8,12,16,20,24,28,32,36,40],\"y\":[0.5416666666666666,0.7361111111111112,0.7916666666666666,0.8333333333333334,0.9166666666666666,0.75,0.9583333333333333,0.9791666666666667,0.9583333333333334,0.875],\"type\":\"scatter\",\"xaxis\":\"x3\",\"yaxis\":\"y3\"},{\"legendgroup\":\"thresh3_twoport\",\"line\":{\"width\":0},\"marker\":{\"color\":\"rgba(169,169,169,0.4)\"},\"mode\":\"lines\",\"name\":\"Upper Bound\",\"showlegend\":false,\"x\":[4,8,12,16,20,24,28,32,36,40],\"y\":[0.6689604359709955,0.8445868010542592,0.9166666666666667,0.8814458557658023,0.9166666666666666,0.8602396379610245,0.9999999999999999,1.0,null,null],\"type\":\"scatter\",\"xaxis\":\"x3\",\"yaxis\":\"y3\"},{\"fill\":\"tonexty\",\"fillcolor\":\"rgba(169,169,169,0.4)\",\"legendgroup\":\"thresh3_twoport\",\"line\":{\"width\":0},\"marker\":{\"color\":\"rgba(169,169,169,0.4)\"},\"mode\":\"lines\",\"name\":\"Lower Bound\",\"showlegend\":false,\"x\":[4,8,12,16,20,24,28,32,36,40],\"y\":[0.4143728973623377,0.6276354211679631,0.6666666666666665,0.7852208109008645,0.9166666666666666,0.6397603620389755,0.9166666666666666,0.9583333333333334,null,null],\"type\":\"scatter\",\"xaxis\":\"x3\",\"yaxis\":\"y3\"},{\"legendgroup\":\"thresh5_twoport\",\"line\":{\"color\":\"midnightblue\"},\"mode\":\"lines\",\"name\":\"thresh5_twoport\",\"opacity\":0.8,\"showlegend\":false,\"x\":[4,8,12,16,20,24,28,32,36,40],\"y\":[0.27777777777777773,0.5833333333333334,0.9583333333333334,0.9375,1.0,0.9583333333333334,0.875,0.9166666666666666,0.9166666666666667,0.9166666666666667],\"type\":\"scatter\",\"xaxis\":\"x3\",\"yaxis\":\"y3\"},{\"legendgroup\":\"thresh5_twoport\",\"line\":{\"width\":0},\"marker\":{\"color\":\"rgba(25,25,112,0.4)\"},\"mode\":\"lines\",\"name\":\"Upper Bound\",\"showlegend\":false,\"x\":[4,8,12,16,20,24,28,32,36,40],\"y\":[0.4342976065220089,0.8837959396219992,1.0,0.9583333333333334,null,null,null,null,null,null],\"type\":\"scatter\",\"xaxis\":\"x3\",\"yaxis\":\"y3\"},{\"fill\":\"tonexty\",\"fillcolor\":\"rgba(25,25,112,0.4)\",\"legendgroup\":\"thresh5_twoport\",\"line\":{\"width\":0},\"marker\":{\"color\":\"rgba(25,25,112,0.4)\"},\"mode\":\"lines\",\"name\":\"Lower Bound\",\"showlegend\":false,\"x\":[4,8,12,16,20,24,28,32,36,40],\"y\":[0.12125794903354656,0.2828707270446676,0.9166666666666667,0.9166666666666666,null,null,null,null,null,null],\"type\":\"scatter\",\"xaxis\":\"x3\",\"yaxis\":\"y3\"},{\"legendgroup\":\"thresh3_twoport\",\"line\":{\"color\":\"darkgrey\"},\"mode\":\"lines\",\"name\":\"thresh3_twoport\",\"opacity\":0.8,\"showlegend\":false,\"x\":[4,8,12,16,20,24,28,32],\"y\":[0.75,0.7777777777777778,0.9166666666666666,0.9305555555555557,0.9166666666666667,0.875,0.9583333333333334,0.7916666666666666],\"type\":\"scatter\",\"xaxis\":\"x4\",\"yaxis\":\"y4\"},{\"legendgroup\":\"thresh3_twoport\",\"line\":{\"width\":0},\"marker\":{\"color\":\"rgba(169,169,169,0.4)\"},\"mode\":\"lines\",\"name\":\"Upper Bound\",\"showlegend\":false,\"x\":[4,8,12,16,20,24,28,32],\"y\":[0.875,0.7916666666666667,0.940722927882901,0.9444444444444445,0.9583333333333334,1.0,null,null],\"type\":\"scatter\",\"xaxis\":\"x4\",\"yaxis\":\"y4\"},{\"fill\":\"tonexty\",\"fillcolor\":\"rgba(169,169,169,0.4)\",\"legendgroup\":\"thresh3_twoport\",\"line\":{\"width\":0},\"marker\":{\"color\":\"rgba(169,169,169,0.4)\"},\"mode\":\"lines\",\"name\":\"Lower Bound\",\"showlegend\":false,\"x\":[4,8,12,16,20,24,28,32],\"y\":[0.625,0.7638888888888888,0.8926104054504322,0.9166666666666669,0.8750000000000001,0.75,null,null],\"type\":\"scatter\",\"xaxis\":\"x4\",\"yaxis\":\"y4\"},{\"legendgroup\":\"thresh5_twoport\",\"line\":{\"color\":\"midnightblue\"},\"mode\":\"lines\",\"name\":\"thresh5_twoport\",\"opacity\":0.8,\"showlegend\":false,\"x\":[4,8,12,16,20,24,28,32],\"y\":[0.486111111111111,0.6666666666666666,0.7870370370370371,0.9583333333333334,0.9166666666666667,1.0,1.0,1.0],\"type\":\"scatter\",\"xaxis\":\"x4\",\"yaxis\":\"y4\"},{\"legendgroup\":\"thresh5_twoport\",\"line\":{\"width\":0},\"marker\":{\"color\":\"rgba(25,25,112,0.4)\"},\"mode\":\"lines\",\"name\":\"Upper Bound\",\"showlegend\":false,\"x\":[4,8,12,16,20,24,28,32],\"y\":[0.7083333333333331,0.9583333333333333,0.9583333333333335,1.0,1.0,null,null,null],\"type\":\"scatter\",\"xaxis\":\"x4\",\"yaxis\":\"y4\"},{\"fill\":\"tonexty\",\"fillcolor\":\"rgba(25,25,112,0.4)\",\"legendgroup\":\"thresh5_twoport\",\"line\":{\"width\":0},\"marker\":{\"color\":\"rgba(25,25,112,0.4)\"},\"mode\":\"lines\",\"name\":\"Lower Bound\",\"showlegend\":false,\"x\":[4,8,12,16,20,24,28,32],\"y\":[0.26388888888888884,0.37499999999999994,0.6157407407407407,0.9166666666666667,0.8333333333333335,null,null,null],\"type\":\"scatter\",\"xaxis\":\"x4\",\"yaxis\":\"y4\"},{\"legendgroup\":\"thresh3_twoport\",\"line\":{\"color\":\"darkgrey\"},\"mode\":\"lines\",\"name\":\"thresh3_twoport\",\"opacity\":0.8,\"showlegend\":false,\"x\":[4,8,12,16,20,24,28,32,36,40],\"y\":[0.75,0.875,0.9027777777777778,0.9305555555555555,0.9305555555555557,0.8472222222222222,0.7916666666666667,0.8750000000000001,0.8333333333333334,0.75],\"type\":\"scatter\",\"xaxis\":\"x5\",\"yaxis\":\"y5\"},{\"legendgroup\":\"thresh3_twoport\",\"line\":{\"width\":0},\"marker\":{\"color\":\"rgba(169,169,169,0.4)\"},\"mode\":\"lines\",\"name\":\"Upper Bound\",\"showlegend\":false,\"x\":[4,8,12,16,20,24,28,32,36,40],\"y\":[0.7981125224324689,0.9583333333333334,0.9166666666666667,0.9673021015425637,0.9806326566036666,0.8611111111111112,null,null,null,null],\"type\":\"scatter\",\"xaxis\":\"x5\",\"yaxis\":\"y5\"},{\"fill\":\"tonexty\",\"fillcolor\":\"rgba(169,169,169,0.4)\",\"legendgroup\":\"thresh3_twoport\",\"line\":{\"width\":0},\"marker\":{\"color\":\"rgba(169,169,169,0.4)\"},\"mode\":\"lines\",\"name\":\"Lower Bound\",\"showlegend\":false,\"x\":[4,8,12,16,20,24,28,32,36,40],\"y\":[0.7018874775675311,0.7916666666666666,0.8888888888888888,0.8938090095685473,0.8804784545074448,0.8333333333333333,null,null,null,null],\"type\":\"scatter\",\"xaxis\":\"x5\",\"yaxis\":\"y5\"},{\"legendgroup\":\"thresh5_twoport\",\"line\":{\"color\":\"midnightblue\"},\"mode\":\"lines\",\"name\":\"thresh5_twoport\",\"opacity\":0.8,\"showlegend\":false,\"x\":[4,8,12,16,20,24,28,32,36,40,44],\"y\":[0.6944444444444443,0.9444444444444445,0.9305555555555557,0.9861111111111112,0.9583333333333334,1.0,0.9375,0.9583333333333333,0.9166666666666667,0.9166666666666667,1.0],\"type\":\"scatter\",\"xaxis\":\"x5\",\"yaxis\":\"y5\"},{\"legendgroup\":\"thresh5_twoport\",\"line\":{\"width\":0},\"marker\":{\"color\":\"rgba(25,25,112,0.4)\"},\"mode\":\"lines\",\"name\":\"Upper Bound\",\"showlegend\":false,\"x\":[4,8,12,16,20,24,28,32,36,40,44],\"y\":[0.8961922089768604,0.9811909904314527,0.9806326566036666,1.0,0.9823895945495678,1.0,0.9583333333333334,0.9999999999999999,1.0,null,null],\"type\":\"scatter\",\"xaxis\":\"x5\",\"yaxis\":\"y5\"},{\"fill\":\"tonexty\",\"fillcolor\":\"rgba(25,25,112,0.4)\",\"legendgroup\":\"thresh5_twoport\",\"line\":{\"width\":0},\"marker\":{\"color\":\"rgba(25,25,112,0.4)\"},\"mode\":\"lines\",\"name\":\"Lower Bound\",\"showlegend\":false,\"x\":[4,8,12,16,20,24,28,32,36,40,44],\"y\":[0.4926966799120283,0.9076978984574363,0.8804784545074448,0.9722222222222223,0.934277072117099,1.0,0.9166666666666666,0.9166666666666666,0.8333333333333334,null,null],\"type\":\"scatter\",\"xaxis\":\"x5\",\"yaxis\":\"y5\"},{\"legendgroup\":\"thresh3_twoport\",\"line\":{\"color\":\"darkgrey\"},\"mode\":\"lines\",\"name\":\"thresh3_twoport\",\"opacity\":0.8,\"showlegend\":false,\"x\":[4,8,12,16,20,24,28],\"y\":[0.763888888888889,0.875,0.9027777777777778,0.875,0.875,0.7083333333333334,1.0],\"type\":\"scatter\",\"xaxis\":\"x6\",\"yaxis\":\"y6\"},{\"legendgroup\":\"thresh3_twoport\",\"line\":{\"width\":0},\"marker\":{\"color\":\"rgba(169,169,169,0.4)\"},\"mode\":\"lines\",\"name\":\"Upper Bound\",\"showlegend\":false,\"x\":[4,8,12,16,20,24,28],\"y\":[0.8006354348758972,0.9386468846521645,0.923993405995166,null,null,null,null],\"type\":\"scatter\",\"xaxis\":\"x6\",\"yaxis\":\"y6\"},{\"fill\":\"tonexty\",\"fillcolor\":\"rgba(169,169,169,0.4)\",\"legendgroup\":\"thresh3_twoport\",\"line\":{\"width\":0},\"marker\":{\"color\":\"rgba(169,169,169,0.4)\"},\"mode\":\"lines\",\"name\":\"Lower Bound\",\"showlegend\":false,\"x\":[4,8,12,16,20,24,28],\"y\":[0.7271423429018807,0.8113531153478355,0.8815621495603896,null,null,null,null],\"type\":\"scatter\",\"xaxis\":\"x6\",\"yaxis\":\"y6\"},{\"legendgroup\":\"thresh5_twoport\",\"line\":{\"color\":\"midnightblue\"},\"mode\":\"lines\",\"name\":\"thresh5_twoport\",\"opacity\":0.8,\"showlegend\":false,\"x\":[4,8,12,16,20,24,28,32,36,40,44],\"y\":[0.7916666666666666,0.9583333333333334,0.9444444444444445,0.9166666666666666,0.9027777777777778,0.9305555555555557,0.8333333333333333,0.8958333333333334,0.9583333333333334,0.9583333333333334,0.8333333333333333],\"type\":\"scatter\",\"xaxis\":\"x6\",\"yaxis\":\"y6\"},{\"legendgroup\":\"thresh5_twoport\",\"line\":{\"width\":0},\"marker\":{\"color\":\"rgba(25,25,112,0.4)\"},\"mode\":\"lines\",\"name\":\"Upper Bound\",\"showlegend\":false,\"x\":[4,8,12,16,20,24,28,32,36,40,44],\"y\":[0.815722927882901,0.9823895945495678,0.9583333333333335,0.940722927882901,0.939524323764786,0.9583333333333335,0.9999999999999999,0.9583333333333334,null,null,null],\"type\":\"scatter\",\"xaxis\":\"x6\",\"yaxis\":\"y6\"},{\"fill\":\"tonexty\",\"fillcolor\":\"rgba(25,25,112,0.4)\",\"legendgroup\":\"thresh5_twoport\",\"line\":{\"width\":0},\"marker\":{\"color\":\"rgba(25,25,112,0.4)\"},\"mode\":\"lines\",\"name\":\"Lower Bound\",\"showlegend\":false,\"x\":[4,8,12,16,20,24,28,32,36,40,44],\"y\":[0.7676104054504322,0.934277072117099,0.9305555555555556,0.8926104054504322,0.8660312317907696,0.9027777777777779,0.6666666666666666,0.8333333333333334,null,null,null],\"type\":\"scatter\",\"xaxis\":\"x6\",\"yaxis\":\"y6\"},{\"legendgroup\":\"thresh3_twoport\",\"line\":{\"color\":\"darkgrey\"},\"mode\":\"lines\",\"name\":\"thresh3_twoport\",\"opacity\":0.8,\"showlegend\":false,\"x\":[4,8,12,16,20,24,28,32,36,40,44],\"y\":[0.5555555555555556,0.5555555555555555,0.4583333333333333,0.5277777777777778,0.5833333333333334,0.6805555555555557,0.7638888888888888,0.7361111111111112,0.7777777777777778,0.726851851851852,0.7777777777777777],\"type\":\"scatter\",\"xaxis\":\"x7\",\"yaxis\":\"y7\"},{\"legendgroup\":\"thresh3_twoport\",\"line\":{\"width\":0},\"marker\":{\"color\":\"rgba(169,169,169,0.4)\"},\"mode\":\"lines\",\"name\":\"Upper Bound\",\"showlegend\":false,\"x\":[4,8,12,16,20,24,28,32,36,40,44],\"y\":[0.6692410107204507,0.6290486475295719,0.5922729272360132,0.6122605906985864,0.679558378198271,0.7992222742405215,0.8006354348758971,0.8096042030851276,0.8055555555555556,0.8277522903597379,0.8888888888888888],\"type\":\"scatter\",\"xaxis\":\"x7\",\"yaxis\":\"y7\"},{\"fill\":\"tonexty\",\"fillcolor\":\"rgba(169,169,169,0.4)\",\"legendgroup\":\"thresh3_twoport\",\"line\":{\"width\":0},\"marker\":{\"color\":\"rgba(169,169,169,0.4)\"},\"mode\":\"lines\",\"name\":\"Lower Bound\",\"showlegend\":false,\"x\":[4,8,12,16,20,24,28,32,36,40,44],\"y\":[0.44187010039066044,0.48206246358153904,0.3243937394306534,0.4432949648569692,0.4871082884683957,0.5618888368705899,0.7271423429018806,0.6626180191370947,0.75,0.6259514133439661,0.6666666666666665],\"type\":\"scatter\",\"xaxis\":\"x7\",\"yaxis\":\"y7\"},{\"legendgroup\":\"thresh5_twoport\",\"line\":{\"color\":\"midnightblue\"},\"mode\":\"lines\",\"name\":\"thresh5_twoport\",\"opacity\":0.8,\"showlegend\":false,\"x\":[4,8,12,16,20,24,28,32,36],\"y\":[0.625,0.6527777777777778,0.4583333333333333,0.6458333333333334,0.7708333333333333,0.8125,0.8541666666666667,0.6875,0.8333333333333334],\"type\":\"scatter\",\"xaxis\":\"x7\",\"yaxis\":\"y7\"},{\"legendgroup\":\"thresh5_twoport\",\"line\":{\"width\":0},\"marker\":{\"color\":\"rgba(25,25,112,0.4)\"},\"mode\":\"lines\",\"name\":\"Upper Bound\",\"showlegend\":false,\"x\":[4,8,12,16,20,24,28,32,36],\"y\":[0.7298588116009826,0.7937346050707252,0.6046618576785103,0.7500000000000001,0.9999999999999999,1.0,0.9166666666666667,0.7916666666666667,null],\"type\":\"scatter\",\"xaxis\":\"x7\",\"yaxis\":\"y7\"},{\"fill\":\"tonexty\",\"fillcolor\":\"rgba(25,25,112,0.4)\",\"legendgroup\":\"thresh5_twoport\",\"line\":{\"width\":0},\"marker\":{\"color\":\"rgba(25,25,112,0.4)\"},\"mode\":\"lines\",\"name\":\"Lower Bound\",\"showlegend\":false,\"x\":[4,8,12,16,20,24,28,32,36],\"y\":[0.5201411883990174,0.5118209504848303,0.31200480898815636,0.5416666666666666,0.5416666666666666,0.625,0.7916666666666667,0.5833333333333333,null],\"type\":\"scatter\",\"xaxis\":\"x7\",\"yaxis\":\"y7\"},{\"legendgroup\":\"thresh3_twoport\",\"line\":{\"color\":\"darkgrey\"},\"mode\":\"lines\",\"name\":\"thresh3_twoport\",\"opacity\":0.8,\"showlegend\":false,\"x\":[4,8,12,16,20,24,28,32,36,40,44],\"y\":[0.3194444444444444,0.6944444444444443,0.736111111111111,0.8055555555555557,0.8472222222222223,0.8611111111111112,0.8611111111111112,0.7291666666666667,0.7291666666666667,0.6805555555555556,0.5555555555555555],\"type\":\"scatter\",\"xaxis\":\"x8\",\"yaxis\":\"y8\"},{\"legendgroup\":\"thresh3_twoport\",\"line\":{\"width\":0},\"marker\":{\"color\":\"rgba(169,169,169,0.4)\"},\"mode\":\"lines\",\"name\":\"Upper Bound\",\"showlegend\":false,\"x\":[4,8,12,16,20,24,28,32,36,40,44],\"y\":[0.375,0.7311909904314525,0.786188212159222,0.9057097576517776,0.8972993232703333,0.9346042030851276,0.9455939240319198,1.0,0.9583333333333335,0.9166666666666667,null],\"type\":\"scatter\",\"xaxis\":\"x8\",\"yaxis\":\"y8\"},{\"fill\":\"tonexty\",\"fillcolor\":\"rgba(169,169,169,0.4)\",\"legendgroup\":\"thresh3_twoport\",\"line\":{\"width\":0},\"marker\":{\"color\":\"rgba(169,169,169,0.4)\"},\"mode\":\"lines\",\"name\":\"Lower Bound\",\"showlegend\":false,\"x\":[4,8,12,16,20,24,28,32,36,40,44],\"y\":[0.26388888888888884,0.6576978984574361,0.6860340100630001,0.7054013534593337,0.7971451211741113,0.7876180191370947,0.7766282981903025,0.4583333333333334,0.5,0.4444444444444444,null],\"type\":\"scatter\",\"xaxis\":\"x8\",\"yaxis\":\"y8\"},{\"legendgroup\":\"thresh5_twoport\",\"line\":{\"color\":\"midnightblue\"},\"mode\":\"lines\",\"name\":\"thresh5_twoport\",\"opacity\":0.8,\"showlegend\":false,\"x\":[4,8,12,16,20,24,28,32],\"y\":[0.4444444444444444,0.5833333333333334,0.7083333333333333,0.8333333333333334,0.8333333333333334,0.7083333333333333,0.9583333333333334,0.9166666666666667],\"type\":\"scatter\",\"xaxis\":\"x8\",\"yaxis\":\"y8\"},{\"legendgroup\":\"thresh5_twoport\",\"line\":{\"width\":0},\"marker\":{\"color\":\"rgba(25,25,112,0.4)\"},\"mode\":\"lines\",\"name\":\"Upper Bound\",\"showlegend\":false,\"x\":[4,8,12,16,20,24,28,32],\"y\":[0.6490405536480033,0.7036146394145054,0.9583333333333333,0.9583333333333334,0.9166666666666667,null,null,null],\"type\":\"scatter\",\"xaxis\":\"x8\",\"yaxis\":\"y8\"},{\"fill\":\"tonexty\",\"fillcolor\":\"rgba(25,25,112,0.4)\",\"legendgroup\":\"thresh5_twoport\",\"line\":{\"width\":0},\"marker\":{\"color\":\"rgba(25,25,112,0.4)\"},\"mode\":\"lines\",\"name\":\"Lower Bound\",\"showlegend\":false,\"x\":[4,8,12,16,20,24,28,32],\"y\":[0.2398483352408856,0.4630520272521613,0.45833333333333326,0.7083333333333334,0.75,null,null,null],\"type\":\"scatter\",\"xaxis\":\"x8\",\"yaxis\":\"y8\"},{\"legendgroup\":\"thresh3_twoport\",\"line\":{\"color\":\"darkgrey\"},\"mode\":\"lines\",\"name\":\"thresh3_twoport\",\"opacity\":0.8,\"showlegend\":false,\"x\":[4,8,12,16,20,24,28,32,36,40],\"y\":[0.40277777777777773,0.763888888888889,0.9027777777777778,0.9305555555555557,0.8472222222222222,0.8194444444444445,0.8194444444444445,0.7222222222222223,0.6666666666666666,0.8194444444444445],\"type\":\"scatter\",\"xaxis\":\"x9\",\"yaxis\":\"y9\"},{\"legendgroup\":\"thresh3_twoport\",\"line\":{\"width\":0},\"marker\":{\"color\":\"rgba(169,169,169,0.4)\"},\"mode\":\"lines\",\"name\":\"Upper Bound\",\"showlegend\":false,\"x\":[4,8,12,16,20,24,28,32,36,40],\"y\":[0.4305555555555555,0.9185490100786118,0.9528548788258887,1.0,0.9382977572819722,0.960401271737392,0.9105199795041945,0.8692084061702552,0.7303135513188311,0.8333333333333335],\"type\":\"scatter\",\"xaxis\":\"x9\",\"yaxis\":\"y9\"},{\"fill\":\"tonexty\",\"fillcolor\":\"rgba(169,169,169,0.4)\",\"legendgroup\":\"thresh3_twoport\",\"line\":{\"width\":0},\"marker\":{\"color\":\"rgba(169,169,169,0.4)\"},\"mode\":\"lines\",\"name\":\"Lower Bound\",\"showlegend\":false,\"x\":[4,8,12,16,20,24,28,32,36,40],\"y\":[0.37499999999999994,0.6092287676991661,0.8527006767296669,0.8611111111111113,0.7561466871624722,0.6784876171514971,0.7283689093846946,0.5752360382741895,0.6030197820145021,0.8055555555555556],\"type\":\"scatter\",\"xaxis\":\"x9\",\"yaxis\":\"y9\"},{\"legendgroup\":\"thresh5_twoport\",\"line\":{\"color\":\"midnightblue\"},\"mode\":\"lines\",\"name\":\"thresh5_twoport\",\"opacity\":0.8,\"showlegend\":false,\"x\":[4,8,12,16,20,24,28],\"y\":[0.6666666666666666,0.875,0.9027777777777778,0.8611111111111112,0.9027777777777778,0.875,0.875],\"type\":\"scatter\",\"xaxis\":\"x9\",\"yaxis\":\"y9\"},{\"legendgroup\":\"thresh5_twoport\",\"line\":{\"width\":0},\"marker\":{\"color\":\"rgba(25,25,112,0.4)\"},\"mode\":\"lines\",\"name\":\"Upper Bound\",\"showlegend\":false,\"x\":[4,8,12,16,20,24,28],\"y\":[0.7939604359709955,0.9386468846521644,0.9305555555555556,0.9583333333333334,0.9801078383726393,0.8990562612162344,1.0],\"type\":\"scatter\",\"xaxis\":\"x9\",\"yaxis\":\"y9\"},{\"fill\":\"tonexty\",\"fillcolor\":\"rgba(25,25,112,0.4)\",\"legendgroup\":\"thresh5_twoport\",\"line\":{\"width\":0},\"marker\":{\"color\":\"rgba(25,25,112,0.4)\"},\"mode\":\"lines\",\"name\":\"Lower Bound\",\"showlegend\":false,\"x\":[4,8,12,16,20,24,28],\"y\":[0.5393728973623377,0.8113531153478356,0.875,0.763888888888889,0.8254477171829163,0.8509437387837656,0.75],\"type\":\"scatter\",\"xaxis\":\"x9\",\"yaxis\":\"y9\"},{\"legendgroup\":\"thresh3_twoport\",\"line\":{\"color\":\"darkgrey\"},\"mode\":\"lines\",\"name\":\"thresh3_twoport\",\"opacity\":0.8,\"showlegend\":false,\"x\":[4,8,12,16,20,24,28,32,36,40,44,48],\"y\":[0.4444444444444444,0.8194444444444445,0.9861111111111112,0.9305555555555557,0.9305555555555557,0.9722222222222223,0.9444444444444445,0.8611111111111112,0.7916666666666666,0.6041666666666666,0.8125,0.875],\"type\":\"scatter\",\"xaxis\":\"x10\",\"yaxis\":\"y10\"},{\"legendgroup\":\"thresh3_twoport\",\"line\":{\"width\":0},\"marker\":{\"color\":\"rgba(169,169,169,0.4)\"},\"mode\":\"lines\",\"name\":\"Upper Bound\",\"showlegend\":false,\"x\":[4,8,12,16,20,24,28,32,36,40,44,48],\"y\":[0.5833333333333333,0.9796189249259835,1.0,0.9806326566036666,0.9673021015425639,1.0,0.9811909904314527,0.9583333333333334,0.815722927882901,0.8333333333333333,0.875,0.9166666666666666],\"type\":\"scatter\",\"xaxis\":\"x10\",\"yaxis\":\"y10\"},{\"fill\":\"tonexty\",\"fillcolor\":\"rgba(169,169,169,0.4)\",\"legendgroup\":\"thresh3_twoport\",\"line\":{\"width\":0},\"marker\":{\"color\":\"rgba(169,169,169,0.4)\"},\"mode\":\"lines\",\"name\":\"Lower Bound\",\"showlegend\":false,\"x\":[4,8,12,16,20,24,28,32,36,40,44,48],\"y\":[0.3055555555555555,0.6592699639629056,0.9722222222222223,0.8804784545074448,0.8938090095685475,0.9444444444444445,0.9076978984574363,0.763888888888889,0.7676104054504322,0.37499999999999994,0.75,0.8333333333333334],\"type\":\"scatter\",\"xaxis\":\"x10\",\"yaxis\":\"y10\"},{\"legendgroup\":\"thresh5_twoport\",\"line\":{\"color\":\"midnightblue\"},\"mode\":\"lines\",\"name\":\"thresh5_twoport\",\"opacity\":0.8,\"showlegend\":false,\"x\":[4,8,12,16,20,24,28,32],\"y\":[0.7777777777777777,0.7916666666666666,0.9027777777777777,0.9583333333333334,0.8611111111111112,0.9583333333333334,0.875,0.8333333333333333],\"type\":\"scatter\",\"xaxis\":\"x10\",\"yaxis\":\"y10\"},{\"legendgroup\":\"thresh5_twoport\",\"line\":{\"width\":0},\"marker\":{\"color\":\"rgba(25,25,112,0.4)\"},\"mode\":\"lines\",\"name\":\"Upper Bound\",\"showlegend\":false,\"x\":[4,8,12,16,20,24,28,32],\"y\":[0.8622605906985863,0.9189604359709955,0.9528548788258887,0.9823895945495678,0.9166666666666667,null,null,null],\"type\":\"scatter\",\"xaxis\":\"x10\",\"yaxis\":\"y10\"},{\"fill\":\"tonexty\",\"fillcolor\":\"rgba(25,25,112,0.4)\",\"legendgroup\":\"thresh5_twoport\",\"line\":{\"width\":0},\"marker\":{\"color\":\"rgba(25,25,112,0.4)\"},\"mode\":\"lines\",\"name\":\"Lower Bound\",\"showlegend\":false,\"x\":[4,8,12,16,20,24,28,32],\"y\":[0.6932949648569691,0.6643728973623377,0.8527006767296667,0.934277072117099,0.8055555555555556,null,null,null],\"type\":\"scatter\",\"xaxis\":\"x10\",\"yaxis\":\"y10\"},{\"legendgroup\":\"thresh3_twoport\",\"line\":{\"color\":\"darkgrey\"},\"mode\":\"lines\",\"name\":\"thresh3_twoport\",\"opacity\":0.8,\"showlegend\":false,\"x\":[4,8,12,16,20,24,28,32,36,40,44],\"y\":[0.6805555555555557,0.9583333333333334,0.9305555555555557,0.9305555555555557,0.9305555555555557,0.9444444444444445,0.9722222222222223,0.9444444444444445,0.9305555555555557,0.8472222222222223,0.9166666666666666],\"type\":\"scatter\",\"xaxis\":\"x11\",\"yaxis\":\"y11\"},{\"legendgroup\":\"thresh3_twoport\",\"line\":{\"width\":0},\"marker\":{\"color\":\"rgba(169,169,169,0.4)\"},\"mode\":\"lines\",\"name\":\"Upper Bound\",\"showlegend\":false,\"x\":[4,8,12,16,20,24,28,32,36,40,44],\"y\":[0.7650383684763643,0.9823895945495678,0.9444444444444445,0.9673021015425638,0.9673021015425639,0.9722222222222223,0.9861111111111112,0.9583333333333335,0.9444444444444445,0.8972993232703332,0.9647791890991354],\"type\":\"scatter\",\"xaxis\":\"x11\",\"yaxis\":\"y11\"},{\"fill\":\"tonexty\",\"fillcolor\":\"rgba(169,169,169,0.4)\",\"legendgroup\":\"thresh3_twoport\",\"line\":{\"width\":0},\"marker\":{\"color\":\"rgba(169,169,169,0.4)\"},\"mode\":\"lines\",\"name\":\"Lower Bound\",\"showlegend\":false,\"x\":[4,8,12,16,20,24,28,32,36,40,44],\"y\":[0.5960727426347471,0.934277072117099,0.9166666666666669,0.8938090095685476,0.8938090095685475,0.9166666666666667,0.9583333333333335,0.9305555555555556,0.9166666666666669,0.7971451211741114,0.8685541442341979],\"type\":\"scatter\",\"xaxis\":\"x11\",\"yaxis\":\"y11\"},{\"legendgroup\":\"thresh5_twoport\",\"line\":{\"color\":\"midnightblue\"},\"mode\":\"lines\",\"name\":\"thresh5_twoport\",\"opacity\":0.8,\"showlegend\":false,\"x\":[4,8,12,16,20,24,28,32,36,40,44],\"y\":[0.6944444444444445,0.9027777777777778,0.9305555555555557,0.888888888888889,0.875,0.8541666666666667,0.875,0.9583333333333334,0.8333333333333333,0.9444444444444444,1.0],\"type\":\"scatter\",\"xaxis\":\"x11\",\"yaxis\":\"y11\"},{\"legendgroup\":\"thresh5_twoport\",\"line\":{\"width\":0},\"marker\":{\"color\":\"rgba(25,25,112,0.4)\"},\"mode\":\"lines\",\"name\":\"Upper Bound\",\"showlegend\":false,\"x\":[4,8,12,16,20,24,28,32,36,40,44],\"y\":[0.7789272573652531,0.939524323764786,0.9673021015425639,0.9256354348758972,0.9386468846521644,0.9583333333333335,1.0,1.0,0.9583333333333333,0.9999999999999999,null],\"type\":\"scatter\",\"xaxis\":\"x11\",\"yaxis\":\"y11\"},{\"fill\":\"tonexty\",\"fillcolor\":\"rgba(25,25,112,0.4)\",\"legendgroup\":\"thresh5_twoport\",\"line\":{\"width\":0},\"marker\":{\"color\":\"rgba(25,25,112,0.4)\"},\"mode\":\"lines\",\"name\":\"Lower Bound\",\"showlegend\":false,\"x\":[4,8,12,16,20,24,28,32,36,40,44],\"y\":[0.6099616315236359,0.8660312317907696,0.8938090095685475,0.8521423429018807,0.8113531153478356,0.75,0.75,0.9166666666666667,0.7083333333333333,0.888888888888889,null],\"type\":\"scatter\",\"xaxis\":\"x11\",\"yaxis\":\"y11\"},{\"legendgroup\":\"thresh3_twoport\",\"line\":{\"color\":\"darkgrey\"},\"mode\":\"lines\",\"name\":\"thresh3_twoport\",\"opacity\":0.8,\"showlegend\":false,\"x\":[4,8,12,16,20,24,28,32,36,40,44,48,52,56,60],\"y\":[0.40277777777777773,0.7083333333333334,0.7777777777777778,0.9166666666666666,0.9166666666666666,0.9166666666666666,0.9444444444444445,0.9027777777777778,0.8888888888888888,0.9375,0.8541666666666667,0.8958333333333333,0.9583333333333334,0.7500000000000001,1.0],\"type\":\"scatter\",\"xaxis\":\"x12\",\"yaxis\":\"y12\"},{\"legendgroup\":\"thresh3_twoport\",\"line\":{\"width\":0},\"marker\":{\"color\":\"rgba(169,169,169,0.4)\"},\"mode\":\"lines\",\"name\":\"Upper Bound\",\"showlegend\":false,\"x\":[4,8,12,16,20,24,28,32,36,40,44,48,52,56,60],\"y\":[0.5214444964627434,0.959488073889238,0.9415253628132166,0.940722927882901,0.940722927882901,0.9583333333333333,0.9811909904314526,0.9528548788258888,0.9444444444444444,1.0,0.9166666666666667,0.9583333333333333,1.0,null,null],\"type\":\"scatter\",\"xaxis\":\"x12\",\"yaxis\":\"y12\"},{\"fill\":\"tonexty\",\"fillcolor\":\"rgba(169,169,169,0.4)\",\"legendgroup\":\"thresh3_twoport\",\"line\":{\"width\":0},\"marker\":{\"color\":\"rgba(169,169,169,0.4)\"},\"mode\":\"lines\",\"name\":\"Lower Bound\",\"showlegend\":false,\"x\":[4,8,12,16,20,24,28,32,36,40,44,48,52,56,60],\"y\":[0.28411105909281203,0.45717859277742884,0.6140301927423389,0.8926104054504322,0.8926104054504322,0.875,0.9076978984574364,0.8527006767296668,0.8333333333333333,0.875,0.7916666666666667,0.8333333333333333,0.9166666666666667,null,null],\"type\":\"scatter\",\"xaxis\":\"x12\",\"yaxis\":\"y12\"},{\"legendgroup\":\"thresh5_twoport\",\"line\":{\"color\":\"midnightblue\"},\"mode\":\"lines\",\"name\":\"thresh5_twoport\",\"opacity\":0.8,\"showlegend\":false,\"x\":[4,8,12,16,20,24,28,32,36,40,44],\"y\":[0.9305555555555557,0.9722222222222223,0.9722222222222223,0.9444444444444445,0.9861111111111112,0.9375,0.9166666666666667,0.875,0.875,0.9583333333333334,1.0],\"type\":\"scatter\",\"xaxis\":\"x12\",\"yaxis\":\"y12\"},{\"legendgroup\":\"thresh5_twoport\",\"line\":{\"width\":0},\"marker\":{\"color\":\"rgba(25,25,112,0.4)\"},\"mode\":\"lines\",\"name\":\"Upper Bound\",\"showlegend\":false,\"x\":[4,8,12,16,20,24,28,32,36,40,44],\"y\":[1.0,1.0,0.9861111111111112,0.9811909904314527,1.0,0.9583333333333334,0.9583333333333335,null,null,null,null],\"type\":\"scatter\",\"xaxis\":\"x12\",\"yaxis\":\"y12\"},{\"fill\":\"tonexty\",\"fillcolor\":\"rgba(25,25,112,0.4)\",\"legendgroup\":\"thresh5_twoport\",\"line\":{\"width\":0},\"marker\":{\"color\":\"rgba(25,25,112,0.4)\"},\"mode\":\"lines\",\"name\":\"Lower Bound\",\"showlegend\":false,\"x\":[4,8,12,16,20,24,28,32,36,40,44],\"y\":[0.8611111111111113,0.9444444444444445,0.9583333333333335,0.9076978984574363,0.9722222222222223,0.9166666666666666,0.875,null,null,null,null],\"type\":\"scatter\",\"xaxis\":\"x12\",\"yaxis\":\"y12\"},{\"legendgroup\":\"thresh3_twoport\",\"line\":{\"color\":\"darkgrey\"},\"mode\":\"lines\",\"name\":\"thresh3_twoport\",\"opacity\":0.8,\"showlegend\":false,\"x\":[4,8,12,16,20,24,28,32,36,40,44],\"y\":[0.3194444444444445,0.5277777777777778,0.5833333333333334,0.763888888888889,0.8194444444444443,0.8472222222222223,0.7916666666666666,0.8194444444444445,0.736111111111111,0.7361111111111112,0.5833333333333333],\"type\":\"scatter\",\"xaxis\":\"x13\",\"yaxis\":\"y13\"},{\"legendgroup\":\"thresh3_twoport\",\"line\":{\"width\":0},\"marker\":{\"color\":\"rgba(169,169,169,0.4)\"},\"mode\":\"lines\",\"name\":\"Upper Bound\",\"showlegend\":false,\"x\":[4,8,12,16,20,24,28,32,36,40,44],\"y\":[0.4519360001967981,0.6602693335301314,0.771218739700954,0.8849694150983521,0.9166666666666665,0.8839687682092305,0.8784027499777555,0.8888888888888891,0.8595582557960498,0.8333333333333334,null],\"type\":\"scatter\",\"xaxis\":\"x13\",\"yaxis\":\"y13\"},{\"fill\":\"tonexty\",\"fillcolor\":\"rgba(169,169,169,0.4)\",\"legendgroup\":\"thresh3_twoport\",\"line\":{\"width\":0},\"marker\":{\"color\":\"rgba(169,169,169,0.4)\"},\"mode\":\"lines\",\"name\":\"Lower Bound\",\"showlegend\":false,\"x\":[4,8,12,16,20,24,28,32,36,40,44],\"y\":[0.18695288869209087,0.3952862220254242,0.39544792696571274,0.6428083626794258,0.7222222222222221,0.8104756762352141,0.7049305833555778,0.75,0.6126639664261723,0.638888888888889,null],\"type\":\"scatter\",\"xaxis\":\"x13\",\"yaxis\":\"y13\"},{\"legendgroup\":\"thresh5_twoport\",\"line\":{\"color\":\"midnightblue\"},\"mode\":\"lines\",\"name\":\"thresh5_twoport\",\"opacity\":0.8,\"showlegend\":false,\"x\":[4,8,12,16,20,24,28,32,36,40,44,48],\"y\":[0.4305555555555555,0.6527777777777778,0.7222222222222223,0.6111111111111112,0.8472222222222223,0.8611111111111112,0.8541666666666667,0.9583333333333333,0.9166666666666667,0.875,0.8333333333333334,0.7916666666666666],\"type\":\"scatter\",\"xaxis\":\"x13\",\"yaxis\":\"y13\"},{\"legendgroup\":\"thresh5_twoport\",\"line\":{\"width\":0},\"marker\":{\"color\":\"rgba(25,25,112,0.4)\"},\"mode\":\"lines\",\"name\":\"Upper Bound\",\"showlegend\":false,\"x\":[4,8,12,16,20,24,28,32,36,40,44,48],\"y\":[0.5630471113079092,0.7301078383726393,0.8547137779745759,0.81570722031467,0.9797137779745759,0.8978576570981194,0.9583333333333334,0.9999999999999999,1.0,null,null,null],\"type\":\"scatter\",\"xaxis\":\"x13\",\"yaxis\":\"y13\"},{\"fill\":\"tonexty\",\"fillcolor\":\"rgba(25,25,112,0.4)\",\"legendgroup\":\"thresh5_twoport\",\"line\":{\"width\":0},\"marker\":{\"color\":\"rgba(25,25,112,0.4)\"},\"mode\":\"lines\",\"name\":\"Lower Bound\",\"showlegend\":false,\"x\":[4,8,12,16,20,24,28,32,36,40,44,48],\"y\":[0.2980639998032019,0.5754477171829163,0.5897306664698687,0.4065150019075523,0.7147306664698687,0.8243645651241029,0.7500000000000001,0.9166666666666666,0.8333333333333334,null,null,null],\"type\":\"scatter\",\"xaxis\":\"x13\",\"yaxis\":\"y13\"},{\"legendgroup\":\"thresh3_twoport\",\"line\":{\"color\":\"darkgrey\"},\"mode\":\"lines\",\"name\":\"thresh3_twoport\",\"opacity\":0.8,\"showlegend\":false,\"x\":[4,8,12,16,20,24,28,32,36,40,44],\"y\":[0.40277777777777785,0.8194444444444443,0.8611111111111112,0.8472222222222223,0.888888888888889,0.8055555555555557,0.7291666666666667,1.0,1.0,0.9166666666666667,0.8750000000000001],\"type\":\"scatter\",\"xaxis\":\"x14\",\"yaxis\":\"y14\"},{\"legendgroup\":\"thresh3_twoport\",\"line\":{\"width\":0},\"marker\":{\"color\":\"rgba(169,169,169,0.4)\"},\"mode\":\"lines\",\"name\":\"Upper Bound\",\"showlegend\":false,\"x\":[4,8,12,16,20,24,28,32,36,40,44],\"y\":[0.6210588006319683,0.9604012717373918,0.9797778297960769,0.8972993232703332,0.9256354348758972,0.882885616150417,0.875,1.0,null,null,null],\"type\":\"scatter\",\"xaxis\":\"x14\",\"yaxis\":\"y14\"},{\"fill\":\"tonexty\",\"fillcolor\":\"rgba(169,169,169,0.4)\",\"legendgroup\":\"thresh3_twoport\",\"line\":{\"width\":0},\"marker\":{\"color\":\"rgba(169,169,169,0.4)\"},\"mode\":\"lines\",\"name\":\"Lower Bound\",\"showlegend\":false,\"x\":[4,8,12,16,20,24,28,32,36,40,44],\"y\":[0.18449675492358739,0.6784876171514969,0.7424443924261455,0.7971451211741114,0.8521423429018807,0.7282254949606943,0.5833333333333335,1.0,null,null,null],\"type\":\"scatter\",\"xaxis\":\"x14\",\"yaxis\":\"y14\"},{\"legendgroup\":\"thresh5_twoport\",\"line\":{\"color\":\"midnightblue\"},\"mode\":\"lines\",\"name\":\"thresh5_twoport\",\"opacity\":0.8,\"showlegend\":false,\"x\":[4,8,12,16,20,24,28,32,36,40,44],\"y\":[0.47222222222222215,0.8194444444444445,0.9305555555555557,0.9444444444444445,0.9027777777777778,0.9444444444444445,0.8958333333333333,0.9166666666666667,0.8333333333333333,0.9166666666666667,0.8333333333333334],\"type\":\"scatter\",\"xaxis\":\"x14\",\"yaxis\":\"y14\"},{\"legendgroup\":\"thresh5_twoport\",\"line\":{\"width\":0},\"marker\":{\"color\":\"rgba(25,25,112,0.4)\"},\"mode\":\"lines\",\"name\":\"Upper Bound\",\"showlegend\":false,\"x\":[4,8,12,16,20,24,28,32,36,40,44],\"y\":[0.5859076773871172,0.8561909904314526,0.9806326566036667,0.9811909904314527,0.9583333333333334,0.9583333333333334,0.9166666666666665,0.9583333333333335,0.8333333333333333,null,null],\"type\":\"scatter\",\"xaxis\":\"x14\",\"yaxis\":\"y14\"},{\"fill\":\"tonexty\",\"fillcolor\":\"rgba(25,25,112,0.4)\",\"legendgroup\":\"thresh5_twoport\",\"line\":{\"width\":0},\"marker\":{\"color\":\"rgba(25,25,112,0.4)\"},\"mode\":\"lines\",\"name\":\"Lower Bound\",\"showlegend\":false,\"x\":[4,8,12,16,20,24,28,32,36,40,44],\"y\":[0.35853676705732707,0.7826978984574364,0.8804784545074447,0.9076978984574363,0.8472222222222222,0.9305555555555557,0.875,0.875,0.8333333333333333,null,null],\"type\":\"scatter\",\"xaxis\":\"x14\",\"yaxis\":\"y14\"}],                        {\"template\":{\"data\":{\"barpolar\":[{\"marker\":{\"line\":{\"color\":\"white\",\"width\":0.5},\"pattern\":{\"fillmode\":\"overlay\",\"size\":10,\"solidity\":0.2}},\"type\":\"barpolar\"}],\"bar\":[{\"error_x\":{\"color\":\"rgb(36,36,36)\"},\"error_y\":{\"color\":\"rgb(36,36,36)\"},\"marker\":{\"line\":{\"color\":\"white\",\"width\":0.5},\"pattern\":{\"fillmode\":\"overlay\",\"size\":10,\"solidity\":0.2}},\"type\":\"bar\"}],\"carpet\":[{\"aaxis\":{\"endlinecolor\":\"rgb(36,36,36)\",\"gridcolor\":\"white\",\"linecolor\":\"white\",\"minorgridcolor\":\"white\",\"startlinecolor\":\"rgb(36,36,36)\"},\"baxis\":{\"endlinecolor\":\"rgb(36,36,36)\",\"gridcolor\":\"white\",\"linecolor\":\"white\",\"minorgridcolor\":\"white\",\"startlinecolor\":\"rgb(36,36,36)\"},\"type\":\"carpet\"}],\"choropleth\":[{\"colorbar\":{\"outlinewidth\":1,\"tickcolor\":\"rgb(36,36,36)\",\"ticks\":\"outside\"},\"type\":\"choropleth\"}],\"contourcarpet\":[{\"colorbar\":{\"outlinewidth\":1,\"tickcolor\":\"rgb(36,36,36)\",\"ticks\":\"outside\"},\"type\":\"contourcarpet\"}],\"contour\":[{\"colorbar\":{\"outlinewidth\":1,\"tickcolor\":\"rgb(36,36,36)\",\"ticks\":\"outside\"},\"colorscale\":[[0.0,\"#440154\"],[0.1111111111111111,\"#482878\"],[0.2222222222222222,\"#3e4989\"],[0.3333333333333333,\"#31688e\"],[0.4444444444444444,\"#26828e\"],[0.5555555555555556,\"#1f9e89\"],[0.6666666666666666,\"#35b779\"],[0.7777777777777778,\"#6ece58\"],[0.8888888888888888,\"#b5de2b\"],[1.0,\"#fde725\"]],\"type\":\"contour\"}],\"heatmapgl\":[{\"colorbar\":{\"outlinewidth\":1,\"tickcolor\":\"rgb(36,36,36)\",\"ticks\":\"outside\"},\"colorscale\":[[0.0,\"#440154\"],[0.1111111111111111,\"#482878\"],[0.2222222222222222,\"#3e4989\"],[0.3333333333333333,\"#31688e\"],[0.4444444444444444,\"#26828e\"],[0.5555555555555556,\"#1f9e89\"],[0.6666666666666666,\"#35b779\"],[0.7777777777777778,\"#6ece58\"],[0.8888888888888888,\"#b5de2b\"],[1.0,\"#fde725\"]],\"type\":\"heatmapgl\"}],\"heatmap\":[{\"colorbar\":{\"outlinewidth\":1,\"tickcolor\":\"rgb(36,36,36)\",\"ticks\":\"outside\"},\"colorscale\":[[0.0,\"#440154\"],[0.1111111111111111,\"#482878\"],[0.2222222222222222,\"#3e4989\"],[0.3333333333333333,\"#31688e\"],[0.4444444444444444,\"#26828e\"],[0.5555555555555556,\"#1f9e89\"],[0.6666666666666666,\"#35b779\"],[0.7777777777777778,\"#6ece58\"],[0.8888888888888888,\"#b5de2b\"],[1.0,\"#fde725\"]],\"type\":\"heatmap\"}],\"histogram2dcontour\":[{\"colorbar\":{\"outlinewidth\":1,\"tickcolor\":\"rgb(36,36,36)\",\"ticks\":\"outside\"},\"colorscale\":[[0.0,\"#440154\"],[0.1111111111111111,\"#482878\"],[0.2222222222222222,\"#3e4989\"],[0.3333333333333333,\"#31688e\"],[0.4444444444444444,\"#26828e\"],[0.5555555555555556,\"#1f9e89\"],[0.6666666666666666,\"#35b779\"],[0.7777777777777778,\"#6ece58\"],[0.8888888888888888,\"#b5de2b\"],[1.0,\"#fde725\"]],\"type\":\"histogram2dcontour\"}],\"histogram2d\":[{\"colorbar\":{\"outlinewidth\":1,\"tickcolor\":\"rgb(36,36,36)\",\"ticks\":\"outside\"},\"colorscale\":[[0.0,\"#440154\"],[0.1111111111111111,\"#482878\"],[0.2222222222222222,\"#3e4989\"],[0.3333333333333333,\"#31688e\"],[0.4444444444444444,\"#26828e\"],[0.5555555555555556,\"#1f9e89\"],[0.6666666666666666,\"#35b779\"],[0.7777777777777778,\"#6ece58\"],[0.8888888888888888,\"#b5de2b\"],[1.0,\"#fde725\"]],\"type\":\"histogram2d\"}],\"histogram\":[{\"marker\":{\"line\":{\"color\":\"white\",\"width\":0.6}},\"type\":\"histogram\"}],\"mesh3d\":[{\"colorbar\":{\"outlinewidth\":1,\"tickcolor\":\"rgb(36,36,36)\",\"ticks\":\"outside\"},\"type\":\"mesh3d\"}],\"parcoords\":[{\"line\":{\"colorbar\":{\"outlinewidth\":1,\"tickcolor\":\"rgb(36,36,36)\",\"ticks\":\"outside\"}},\"type\":\"parcoords\"}],\"pie\":[{\"automargin\":true,\"type\":\"pie\"}],\"scatter3d\":[{\"line\":{\"colorbar\":{\"outlinewidth\":1,\"tickcolor\":\"rgb(36,36,36)\",\"ticks\":\"outside\"}},\"marker\":{\"colorbar\":{\"outlinewidth\":1,\"tickcolor\":\"rgb(36,36,36)\",\"ticks\":\"outside\"}},\"type\":\"scatter3d\"}],\"scattercarpet\":[{\"marker\":{\"colorbar\":{\"outlinewidth\":1,\"tickcolor\":\"rgb(36,36,36)\",\"ticks\":\"outside\"}},\"type\":\"scattercarpet\"}],\"scattergeo\":[{\"marker\":{\"colorbar\":{\"outlinewidth\":1,\"tickcolor\":\"rgb(36,36,36)\",\"ticks\":\"outside\"}},\"type\":\"scattergeo\"}],\"scattergl\":[{\"marker\":{\"colorbar\":{\"outlinewidth\":1,\"tickcolor\":\"rgb(36,36,36)\",\"ticks\":\"outside\"}},\"type\":\"scattergl\"}],\"scattermapbox\":[{\"marker\":{\"colorbar\":{\"outlinewidth\":1,\"tickcolor\":\"rgb(36,36,36)\",\"ticks\":\"outside\"}},\"type\":\"scattermapbox\"}],\"scatterpolargl\":[{\"marker\":{\"colorbar\":{\"outlinewidth\":1,\"tickcolor\":\"rgb(36,36,36)\",\"ticks\":\"outside\"}},\"type\":\"scatterpolargl\"}],\"scatterpolar\":[{\"marker\":{\"colorbar\":{\"outlinewidth\":1,\"tickcolor\":\"rgb(36,36,36)\",\"ticks\":\"outside\"}},\"type\":\"scatterpolar\"}],\"scatter\":[{\"fillpattern\":{\"fillmode\":\"overlay\",\"size\":10,\"solidity\":0.2},\"type\":\"scatter\"}],\"scatterternary\":[{\"marker\":{\"colorbar\":{\"outlinewidth\":1,\"tickcolor\":\"rgb(36,36,36)\",\"ticks\":\"outside\"}},\"type\":\"scatterternary\"}],\"surface\":[{\"colorbar\":{\"outlinewidth\":1,\"tickcolor\":\"rgb(36,36,36)\",\"ticks\":\"outside\"},\"colorscale\":[[0.0,\"#440154\"],[0.1111111111111111,\"#482878\"],[0.2222222222222222,\"#3e4989\"],[0.3333333333333333,\"#31688e\"],[0.4444444444444444,\"#26828e\"],[0.5555555555555556,\"#1f9e89\"],[0.6666666666666666,\"#35b779\"],[0.7777777777777778,\"#6ece58\"],[0.8888888888888888,\"#b5de2b\"],[1.0,\"#fde725\"]],\"type\":\"surface\"}],\"table\":[{\"cells\":{\"fill\":{\"color\":\"rgb(237,237,237)\"},\"line\":{\"color\":\"white\"}},\"header\":{\"fill\":{\"color\":\"rgb(217,217,217)\"},\"line\":{\"color\":\"white\"}},\"type\":\"table\"}]},\"layout\":{\"annotationdefaults\":{\"arrowhead\":0,\"arrowwidth\":1},\"autotypenumbers\":\"strict\",\"coloraxis\":{\"colorbar\":{\"outlinewidth\":1,\"tickcolor\":\"rgb(36,36,36)\",\"ticks\":\"outside\"}},\"colorscale\":{\"diverging\":[[0.0,\"rgb(103,0,31)\"],[0.1,\"rgb(178,24,43)\"],[0.2,\"rgb(214,96,77)\"],[0.3,\"rgb(244,165,130)\"],[0.4,\"rgb(253,219,199)\"],[0.5,\"rgb(247,247,247)\"],[0.6,\"rgb(209,229,240)\"],[0.7,\"rgb(146,197,222)\"],[0.8,\"rgb(67,147,195)\"],[0.9,\"rgb(33,102,172)\"],[1.0,\"rgb(5,48,97)\"]],\"sequential\":[[0.0,\"#440154\"],[0.1111111111111111,\"#482878\"],[0.2222222222222222,\"#3e4989\"],[0.3333333333333333,\"#31688e\"],[0.4444444444444444,\"#26828e\"],[0.5555555555555556,\"#1f9e89\"],[0.6666666666666666,\"#35b779\"],[0.7777777777777778,\"#6ece58\"],[0.8888888888888888,\"#b5de2b\"],[1.0,\"#fde725\"]],\"sequentialminus\":[[0.0,\"#440154\"],[0.1111111111111111,\"#482878\"],[0.2222222222222222,\"#3e4989\"],[0.3333333333333333,\"#31688e\"],[0.4444444444444444,\"#26828e\"],[0.5555555555555556,\"#1f9e89\"],[0.6666666666666666,\"#35b779\"],[0.7777777777777778,\"#6ece58\"],[0.8888888888888888,\"#b5de2b\"],[1.0,\"#fde725\"]]},\"colorway\":[\"#1F77B4\",\"#FF7F0E\",\"#2CA02C\",\"#D62728\",\"#9467BD\",\"#8C564B\",\"#E377C2\",\"#7F7F7F\",\"#BCBD22\",\"#17BECF\"],\"font\":{\"color\":\"rgb(36,36,36)\"},\"geo\":{\"bgcolor\":\"white\",\"lakecolor\":\"white\",\"landcolor\":\"white\",\"showlakes\":true,\"showland\":true,\"subunitcolor\":\"white\"},\"hoverlabel\":{\"align\":\"left\"},\"hovermode\":\"closest\",\"mapbox\":{\"style\":\"light\"},\"paper_bgcolor\":\"white\",\"plot_bgcolor\":\"white\",\"polar\":{\"angularaxis\":{\"gridcolor\":\"rgb(232,232,232)\",\"linecolor\":\"rgb(36,36,36)\",\"showgrid\":false,\"showline\":true,\"ticks\":\"outside\"},\"bgcolor\":\"white\",\"radialaxis\":{\"gridcolor\":\"rgb(232,232,232)\",\"linecolor\":\"rgb(36,36,36)\",\"showgrid\":false,\"showline\":true,\"ticks\":\"outside\"}},\"scene\":{\"xaxis\":{\"backgroundcolor\":\"white\",\"gridcolor\":\"rgb(232,232,232)\",\"gridwidth\":2,\"linecolor\":\"rgb(36,36,36)\",\"showbackground\":true,\"showgrid\":false,\"showline\":true,\"ticks\":\"outside\",\"zeroline\":false,\"zerolinecolor\":\"rgb(36,36,36)\"},\"yaxis\":{\"backgroundcolor\":\"white\",\"gridcolor\":\"rgb(232,232,232)\",\"gridwidth\":2,\"linecolor\":\"rgb(36,36,36)\",\"showbackground\":true,\"showgrid\":false,\"showline\":true,\"ticks\":\"outside\",\"zeroline\":false,\"zerolinecolor\":\"rgb(36,36,36)\"},\"zaxis\":{\"backgroundcolor\":\"white\",\"gridcolor\":\"rgb(232,232,232)\",\"gridwidth\":2,\"linecolor\":\"rgb(36,36,36)\",\"showbackground\":true,\"showgrid\":false,\"showline\":true,\"ticks\":\"outside\",\"zeroline\":false,\"zerolinecolor\":\"rgb(36,36,36)\"}},\"shapedefaults\":{\"fillcolor\":\"black\",\"line\":{\"width\":0},\"opacity\":0.3},\"ternary\":{\"aaxis\":{\"gridcolor\":\"rgb(232,232,232)\",\"linecolor\":\"rgb(36,36,36)\",\"showgrid\":false,\"showline\":true,\"ticks\":\"outside\"},\"baxis\":{\"gridcolor\":\"rgb(232,232,232)\",\"linecolor\":\"rgb(36,36,36)\",\"showgrid\":false,\"showline\":true,\"ticks\":\"outside\"},\"bgcolor\":\"white\",\"caxis\":{\"gridcolor\":\"rgb(232,232,232)\",\"linecolor\":\"rgb(36,36,36)\",\"showgrid\":false,\"showline\":true,\"ticks\":\"outside\"}},\"title\":{\"x\":0.05},\"xaxis\":{\"automargin\":true,\"gridcolor\":\"rgb(232,232,232)\",\"linecolor\":\"rgb(36,36,36)\",\"showgrid\":false,\"showline\":true,\"ticks\":\"outside\",\"title\":{\"standoff\":15},\"zeroline\":false,\"zerolinecolor\":\"rgb(36,36,36)\"},\"yaxis\":{\"automargin\":true,\"gridcolor\":\"rgb(232,232,232)\",\"linecolor\":\"rgb(36,36,36)\",\"showgrid\":false,\"showline\":true,\"ticks\":\"outside\",\"title\":{\"standoff\":15},\"zeroline\":false,\"zerolinecolor\":\"rgb(36,36,36)\"}}},\"xaxis\":{\"anchor\":\"y\",\"domain\":[0.0,0.1388888888888889],\"title\":{\"text\":\"\"},\"linewidth\":1.5,\"matches\":\"x\"},\"yaxis\":{\"anchor\":\"x\",\"domain\":[0.7777777777777778,1.0],\"title\":{\"text\":\"Correct Rejection\"},\"linewidth\":1.5,\"matches\":\"y\"},\"xaxis2\":{\"anchor\":\"y2\",\"domain\":[0.17222222222222222,0.3111111111111111],\"title\":{\"text\":\"\"},\"linewidth\":1.5,\"matches\":\"x\"},\"yaxis2\":{\"anchor\":\"x2\",\"domain\":[0.7777777777777778,1.0],\"matches\":\"y\",\"showticklabels\":false,\"title\":{\"text\":\"\"},\"linewidth\":1.5},\"xaxis3\":{\"anchor\":\"y3\",\"domain\":[0.34444444444444444,0.48333333333333334],\"title\":{\"text\":\"\"},\"linewidth\":1.5,\"matches\":\"x\"},\"yaxis3\":{\"anchor\":\"x3\",\"domain\":[0.7777777777777778,1.0],\"matches\":\"y\",\"showticklabels\":false,\"title\":{\"text\":\"\"},\"linewidth\":1.5},\"xaxis4\":{\"anchor\":\"y4\",\"domain\":[0.5166666666666667,0.6555555555555557],\"title\":{\"text\":\"\"},\"linewidth\":1.5,\"matches\":\"x\"},\"yaxis4\":{\"anchor\":\"x4\",\"domain\":[0.7777777777777778,1.0],\"matches\":\"y\",\"showticklabels\":false,\"title\":{\"text\":\"\"},\"linewidth\":1.5},\"xaxis5\":{\"anchor\":\"y5\",\"domain\":[0.6888888888888889,0.8277777777777777],\"title\":{\"text\":\"\"},\"linewidth\":1.5,\"matches\":\"x\"},\"yaxis5\":{\"anchor\":\"x5\",\"domain\":[0.7777777777777778,1.0],\"matches\":\"y\",\"showticklabels\":false,\"title\":{\"text\":\"\"},\"linewidth\":1.5},\"xaxis6\":{\"anchor\":\"y6\",\"domain\":[0.861111111111111,1.0],\"title\":{\"text\":\"\"},\"linewidth\":1.5,\"matches\":\"x\"},\"yaxis6\":{\"anchor\":\"x6\",\"domain\":[0.7777777777777778,1.0],\"matches\":\"y\",\"showticklabels\":false,\"title\":{\"text\":\"\"},\"linewidth\":1.5},\"xaxis7\":{\"anchor\":\"y7\",\"domain\":[0.0,0.1388888888888889],\"title\":{\"text\":\"\"},\"linewidth\":1.5,\"matches\":\"x\"},\"yaxis7\":{\"anchor\":\"x7\",\"domain\":[0.3888888888888889,0.6111111111111112],\"title\":{\"text\":\"Correct Rejection\"},\"linewidth\":1.5,\"matches\":\"y\"},\"xaxis8\":{\"anchor\":\"y8\",\"domain\":[0.17222222222222222,0.3111111111111111],\"title\":{\"text\":\"\"},\"linewidth\":1.5,\"matches\":\"x\"},\"yaxis8\":{\"anchor\":\"x8\",\"domain\":[0.3888888888888889,0.6111111111111112],\"matches\":\"y\",\"showticklabels\":false,\"title\":{\"text\":\"\"},\"linewidth\":1.5},\"xaxis9\":{\"anchor\":\"y9\",\"domain\":[0.34444444444444444,0.48333333333333334],\"title\":{\"text\":\"\"},\"linewidth\":1.5,\"matches\":\"x\"},\"yaxis9\":{\"anchor\":\"x9\",\"domain\":[0.3888888888888889,0.6111111111111112],\"matches\":\"y\",\"showticklabels\":false,\"title\":{\"text\":\"\"},\"linewidth\":1.5},\"xaxis10\":{\"anchor\":\"y10\",\"domain\":[0.5166666666666667,0.6555555555555557],\"title\":{\"text\":\"\"},\"linewidth\":1.5,\"matches\":\"x\"},\"yaxis10\":{\"anchor\":\"x10\",\"domain\":[0.3888888888888889,0.6111111111111112],\"matches\":\"y\",\"showticklabels\":false,\"title\":{\"text\":\"\"},\"linewidth\":1.5},\"xaxis11\":{\"anchor\":\"y11\",\"domain\":[0.6888888888888889,0.8277777777777777],\"title\":{\"text\":\"\"},\"linewidth\":1.5,\"matches\":\"x\"},\"yaxis11\":{\"anchor\":\"x11\",\"domain\":[0.3888888888888889,0.6111111111111112],\"matches\":\"y\",\"showticklabels\":false,\"title\":{\"text\":\"\"},\"linewidth\":1.5},\"xaxis12\":{\"anchor\":\"y12\",\"domain\":[0.861111111111111,1.0],\"title\":{\"text\":\"\"},\"linewidth\":1.5,\"matches\":\"x\"},\"yaxis12\":{\"anchor\":\"x12\",\"domain\":[0.3888888888888889,0.6111111111111112],\"matches\":\"y\",\"showticklabels\":false,\"title\":{\"text\":\"\"},\"linewidth\":1.5},\"xaxis13\":{\"anchor\":\"y13\",\"domain\":[0.0,0.1388888888888889],\"title\":{\"text\":\"Trial\"},\"linewidth\":1.5,\"matches\":\"x\"},\"yaxis13\":{\"anchor\":\"x13\",\"domain\":[0.0,0.22222222222222224],\"title\":{\"text\":\"Correct Rejection\"},\"linewidth\":1.5,\"matches\":\"y\"},\"xaxis14\":{\"anchor\":\"y14\",\"domain\":[0.17222222222222222,0.3111111111111111],\"title\":{\"text\":\"Trial\"},\"linewidth\":1.5,\"matches\":\"x\"},\"yaxis14\":{\"anchor\":\"x14\",\"domain\":[0.0,0.22222222222222224],\"matches\":\"y\",\"showticklabels\":false,\"title\":{\"text\":\"\"},\"linewidth\":1.5},\"xaxis15\":{\"anchor\":\"y15\",\"domain\":[0.34444444444444444,0.48333333333333334],\"title\":{\"text\":\"Trial\"},\"linewidth\":1.5,\"matches\":\"x\"},\"yaxis15\":{\"anchor\":\"x15\",\"domain\":[0.0,0.22222222222222224],\"matches\":\"y\",\"showticklabels\":false,\"title\":{\"text\":\"\"},\"linewidth\":1.5},\"xaxis16\":{\"anchor\":\"y16\",\"domain\":[0.5166666666666667,0.6555555555555557],\"title\":{\"text\":\"Trial\"},\"linewidth\":1.5,\"matches\":\"x\"},\"yaxis16\":{\"anchor\":\"x16\",\"domain\":[0.0,0.22222222222222224],\"matches\":\"y\",\"showticklabels\":false,\"title\":{\"text\":\"\"},\"linewidth\":1.5},\"xaxis17\":{\"anchor\":\"y17\",\"domain\":[0.6888888888888889,0.8277777777777777],\"title\":{\"text\":\"Trial\"},\"linewidth\":1.5,\"matches\":\"x\"},\"yaxis17\":{\"anchor\":\"x17\",\"domain\":[0.0,0.22222222222222224],\"matches\":\"y\",\"showticklabels\":false,\"title\":{\"text\":\"\"},\"linewidth\":1.5},\"xaxis18\":{\"anchor\":\"y18\",\"domain\":[0.861111111111111,1.0],\"title\":{\"text\":\"Trial\"},\"linewidth\":1.5,\"matches\":\"x\"},\"yaxis18\":{\"anchor\":\"x18\",\"domain\":[0.0,0.22222222222222224],\"matches\":\"y\",\"showticklabels\":false,\"title\":{\"text\":\"\"},\"linewidth\":1.5},\"annotations\":[{\"font\":{\"size\":22},\"showarrow\":false,\"text\":\"Day 1\",\"x\":0.06944444444444445,\"xanchor\":\"center\",\"xref\":\"paper\",\"y\":1.0,\"yanchor\":\"bottom\",\"yref\":\"paper\"},{\"font\":{\"size\":22},\"showarrow\":false,\"text\":\"Day 2\",\"x\":0.24166666666666667,\"xanchor\":\"center\",\"xref\":\"paper\",\"y\":1.0,\"yanchor\":\"bottom\",\"yref\":\"paper\"},{\"font\":{\"size\":22},\"showarrow\":false,\"text\":\"Day 3\",\"x\":0.41388888888888886,\"xanchor\":\"center\",\"xref\":\"paper\",\"y\":1.0,\"yanchor\":\"bottom\",\"yref\":\"paper\"},{\"font\":{\"size\":22},\"showarrow\":false,\"text\":\"Day 4\",\"x\":0.5861111111111112,\"xanchor\":\"center\",\"xref\":\"paper\",\"y\":1.0,\"yanchor\":\"bottom\",\"yref\":\"paper\"},{\"font\":{\"size\":22},\"showarrow\":false,\"text\":\"Day 5\",\"x\":0.7583333333333333,\"xanchor\":\"center\",\"xref\":\"paper\",\"y\":1.0,\"yanchor\":\"bottom\",\"yref\":\"paper\"},{\"font\":{\"size\":22},\"showarrow\":false,\"text\":\"Day 6\",\"x\":0.9305555555555556,\"xanchor\":\"center\",\"xref\":\"paper\",\"y\":1.0,\"yanchor\":\"bottom\",\"yref\":\"paper\"},{\"font\":{\"size\":22},\"showarrow\":false,\"text\":\"Day 7\",\"x\":0.06944444444444445,\"xanchor\":\"center\",\"xref\":\"paper\",\"y\":0.6111111111111112,\"yanchor\":\"bottom\",\"yref\":\"paper\"},{\"font\":{\"size\":22},\"showarrow\":false,\"text\":\"Day 8\",\"x\":0.24166666666666667,\"xanchor\":\"center\",\"xref\":\"paper\",\"y\":0.6111111111111112,\"yanchor\":\"bottom\",\"yref\":\"paper\"},{\"font\":{\"size\":22},\"showarrow\":false,\"text\":\"Day 9\",\"x\":0.41388888888888886,\"xanchor\":\"center\",\"xref\":\"paper\",\"y\":0.6111111111111112,\"yanchor\":\"bottom\",\"yref\":\"paper\"},{\"font\":{\"size\":22},\"showarrow\":false,\"text\":\"Day 10\",\"x\":0.5861111111111112,\"xanchor\":\"center\",\"xref\":\"paper\",\"y\":0.6111111111111112,\"yanchor\":\"bottom\",\"yref\":\"paper\"},{\"font\":{\"size\":22},\"showarrow\":false,\"text\":\"Day 11\",\"x\":0.7583333333333333,\"xanchor\":\"center\",\"xref\":\"paper\",\"y\":0.6111111111111112,\"yanchor\":\"bottom\",\"yref\":\"paper\"},{\"font\":{\"size\":22},\"showarrow\":false,\"text\":\"Day 12\",\"x\":0.9305555555555556,\"xanchor\":\"center\",\"xref\":\"paper\",\"y\":0.6111111111111112,\"yanchor\":\"bottom\",\"yref\":\"paper\"},{\"font\":{\"size\":22},\"showarrow\":false,\"text\":\"Day 13\",\"x\":0.06944444444444445,\"xanchor\":\"center\",\"xref\":\"paper\",\"y\":0.22222222222222224,\"yanchor\":\"bottom\",\"yref\":\"paper\"},{\"font\":{\"size\":22},\"showarrow\":false,\"text\":\"Day 14\",\"x\":0.24166666666666667,\"xanchor\":\"center\",\"xref\":\"paper\",\"y\":0.22222222222222224,\"yanchor\":\"bottom\",\"yref\":\"paper\"}],\"title\":{\"y\":0.9,\"x\":0.5,\"xanchor\":\"center\",\"yanchor\":\"top\"},\"font\":{\"size\":22,\"family\":\"Arial\"},\"height\":800,\"width\":1200,\"shapes\":[{\"line\":{\"color\":\"darkgrey\",\"dash\":\"dash\",\"width\":1},\"opacity\":1,\"type\":\"line\",\"x0\":0,\"x1\":1,\"xref\":\"x domain\",\"y0\":1,\"y1\":1,\"yref\":\"y\"},{\"line\":{\"color\":\"darkgrey\",\"dash\":\"dash\",\"width\":1},\"opacity\":1,\"type\":\"line\",\"x0\":0,\"x1\":1,\"xref\":\"x2 domain\",\"y0\":1,\"y1\":1,\"yref\":\"y2\"},{\"line\":{\"color\":\"darkgrey\",\"dash\":\"dash\",\"width\":1},\"opacity\":1,\"type\":\"line\",\"x0\":0,\"x1\":1,\"xref\":\"x3 domain\",\"y0\":1,\"y1\":1,\"yref\":\"y3\"},{\"line\":{\"color\":\"darkgrey\",\"dash\":\"dash\",\"width\":1},\"opacity\":1,\"type\":\"line\",\"x0\":0,\"x1\":1,\"xref\":\"x4 domain\",\"y0\":1,\"y1\":1,\"yref\":\"y4\"},{\"line\":{\"color\":\"darkgrey\",\"dash\":\"dash\",\"width\":1},\"opacity\":1,\"type\":\"line\",\"x0\":0,\"x1\":1,\"xref\":\"x5 domain\",\"y0\":1,\"y1\":1,\"yref\":\"y5\"},{\"line\":{\"color\":\"darkgrey\",\"dash\":\"dash\",\"width\":1},\"opacity\":1,\"type\":\"line\",\"x0\":0,\"x1\":1,\"xref\":\"x6 domain\",\"y0\":1,\"y1\":1,\"yref\":\"y6\"},{\"line\":{\"color\":\"darkgrey\",\"dash\":\"dash\",\"width\":1},\"opacity\":1,\"type\":\"line\",\"x0\":0,\"x1\":1,\"xref\":\"x7 domain\",\"y0\":1,\"y1\":1,\"yref\":\"y7\"},{\"line\":{\"color\":\"darkgrey\",\"dash\":\"dash\",\"width\":1},\"opacity\":1,\"type\":\"line\",\"x0\":0,\"x1\":1,\"xref\":\"x8 domain\",\"y0\":1,\"y1\":1,\"yref\":\"y8\"},{\"line\":{\"color\":\"darkgrey\",\"dash\":\"dash\",\"width\":1},\"opacity\":1,\"type\":\"line\",\"x0\":0,\"x1\":1,\"xref\":\"x9 domain\",\"y0\":1,\"y1\":1,\"yref\":\"y9\"},{\"line\":{\"color\":\"darkgrey\",\"dash\":\"dash\",\"width\":1},\"opacity\":1,\"type\":\"line\",\"x0\":0,\"x1\":1,\"xref\":\"x10 domain\",\"y0\":1,\"y1\":1,\"yref\":\"y10\"},{\"line\":{\"color\":\"darkgrey\",\"dash\":\"dash\",\"width\":1},\"opacity\":1,\"type\":\"line\",\"x0\":0,\"x1\":1,\"xref\":\"x11 domain\",\"y0\":1,\"y1\":1,\"yref\":\"y11\"},{\"line\":{\"color\":\"darkgrey\",\"dash\":\"dash\",\"width\":1},\"opacity\":1,\"type\":\"line\",\"x0\":0,\"x1\":1,\"xref\":\"x12 domain\",\"y0\":1,\"y1\":1,\"yref\":\"y12\"},{\"line\":{\"color\":\"darkgrey\",\"dash\":\"dash\",\"width\":1},\"opacity\":1,\"type\":\"line\",\"x0\":0,\"x1\":1,\"xref\":\"x13 domain\",\"y0\":1,\"y1\":1,\"yref\":\"y13\"},{\"line\":{\"color\":\"darkgrey\",\"dash\":\"dash\",\"width\":1},\"opacity\":1,\"type\":\"line\",\"x0\":0,\"x1\":1,\"xref\":\"x14 domain\",\"y0\":1,\"y1\":1,\"yref\":\"y14\"}]},                        {\"responsive\": true}                    ).then(function(){\n",
       "                            \n",
       "var gd = document.getElementById('5cd45b58-7cb6-4092-bb31-34ac60144f70');\n",
       "var x = new MutationObserver(function (mutations, observer) {{\n",
       "        var display = window.getComputedStyle(gd).display;\n",
       "        if (!display || display === 'none') {{\n",
       "            console.log([gd, 'removed!']);\n",
       "            Plotly.purge(gd);\n",
       "            observer.disconnect();\n",
       "        }}\n",
       "}});\n",
       "\n",
       "// Listen for the removal of the full notebook cells\n",
       "var notebookContainer = gd.closest('#notebook-container');\n",
       "if (notebookContainer) {{\n",
       "    x.observe(notebookContainer, {childList: true});\n",
       "}}\n",
       "\n",
       "// Listen for the clearing of the current output cell\n",
       "var outputEl = gd.closest('.output');\n",
       "if (outputEl) {{\n",
       "    x.observe(outputEl, {childList: true});\n",
       "}}\n",
       "\n",
       "                        })                };                });            </script>        </div>"
      ]
     },
     "metadata": {},
     "output_type": "display_data"
    }
   ],
   "source": [
    "## Bin metrics\n",
    "variable_of_interest = 'CR'\n",
    "only_min_trials = False\n",
    "## Bin data\n",
    "binned_metrics = ctb.aggregate_metrics(metrics, bin_size=bin_size, variable_of_interest=variable_of_interest)\n",
    "avg_binned = binned_metrics.groupby(['group', 'day', 'binned_trial'], as_index=False).agg({variable_of_interest: ['mean', 'sem']})\n",
    "\n",
    "fig = pf.custom_graph_template(x_title='', y_title='', height=800, width=1200,\n",
    "                               rows=3, columns=6, shared_x=True, shared_y=True,\n",
    "                               titles=[f'Day {x}' for x in np.arange(1, len(np.unique(avg_binned['day']))+1)])\n",
    "for idx, day in enumerate(np.unique(avg_binned['day'])):\n",
    "    plot_data = avg_binned[avg_binned['day'] == day]\n",
    "\n",
    "    if only_min_trials:\n",
    "        trial_lengths = []\n",
    "        for group in np.unique(plot_data['group']):\n",
    "            trial_lengths.append(plot_data['binned_trial'][plot_data['group'] == group].values[-1])\n",
    "            min_trials = np.min(trial_lengths)\n",
    "    if idx < 6:\n",
    "        row, col = 1, idx + 1\n",
    "    elif (idx >= 6) & (idx < 12):\n",
    "        row, col = 2, idx - 5\n",
    "    else:\n",
    "        row, col = 3, idx - 11\n",
    "\n",
    "    for ind, group in enumerate(np.unique(plot_data['group'])):\n",
    "            if only_min_trials:\n",
    "                group_data = plot_data[(plot_data['group'] == group) & (plot_data['binned_trial'] <= min_trials)]\n",
    "                upper = group_data[variable_of_interest]['mean'] + group_data[variable_of_interest]['sem']\n",
    "                lower = group_data[variable_of_interest]['mean'] - group_data[variable_of_interest]['sem']\n",
    "            else:\n",
    "                group_data = plot_data[(plot_data['group'] == group)]\n",
    "                upper = group_data[variable_of_interest]['mean'] + group_data[variable_of_interest]['sem']\n",
    "                lower = group_data[variable_of_interest]['mean'] - group_data[variable_of_interest]['sem']\n",
    "            x_data = np.arange(1, len(group_data['binned_trial'])+1) * bin_size\n",
    "            fig.add_trace(go.Scatter(x=x_data, y=group_data[variable_of_interest]['mean'], mode='lines', opacity=opacity,\n",
    "                                    line_color=group_colors_dict[group], showlegend=False,\n",
    "                                    legendgroup=group, name=group), row=row, col=col)\n",
    "            fig.add_trace(go.Scatter(name='Upper Bound', x=x_data, y=upper, mode='lines',\n",
    "                                    marker=dict(color=error_colors[ind]), line=dict(width=0), showlegend=False, \n",
    "                                    legendgroup=group), row=row, col=col)\n",
    "            fig.add_trace(go.Scatter(name='Lower Bound', x=x_data, y=lower, marker=dict(color=error_colors[ind]),\n",
    "                                    line=dict(width=0), mode='lines', fillcolor=error_colors[ind], fill='tonexty', \n",
    "                                    showlegend=False, legendgroup=group), row=row, col=col)\n",
    "if variable_of_interest != 'dprime':\n",
    "    fig.add_hline(y=1, line_width=1, line_dash='dash', line_color=chance_color, opacity=1)\n",
    "fig.update_yaxes(title='Correct Rejection', col=1)\n",
    "fig.update_xaxes(title='Trial', row=3)\n",
    "fig.show()\n",
    "fig.write_image(pjoin(fig_path, 'CR_across_trials_across_days.png'))"
   ]
  },
  {
   "cell_type": "code",
   "execution_count": 18,
   "metadata": {},
   "outputs": [
    {
     "name": "stderr",
     "output_type": "stream",
     "text": [
      "/media/caishuman/csstorage3/Austin/CircleTrack/CircleTrackAnalysis/MultiCon_Behavior/MultiCon_Pilot2/../../circletrack_behavior.py:1068: RuntimeWarning:\n",
      "\n",
      "invalid value encountered in scalar divide\n",
      "\n",
      "/media/caishuman/csstorage3/Austin/CircleTrack/CircleTrackAnalysis/MultiCon_Behavior/MultiCon_Pilot2/../../circletrack_behavior.py:1068: RuntimeWarning:\n",
      "\n",
      "invalid value encountered in scalar divide\n",
      "\n",
      "/media/caishuman/csstorage3/Austin/CircleTrack/CircleTrackAnalysis/MultiCon_Behavior/MultiCon_Pilot2/../../circletrack_behavior.py:1068: RuntimeWarning:\n",
      "\n",
      "invalid value encountered in scalar divide\n",
      "\n",
      "/media/caishuman/csstorage3/Austin/CircleTrack/CircleTrackAnalysis/MultiCon_Behavior/MultiCon_Pilot2/../../circletrack_behavior.py:1068: RuntimeWarning:\n",
      "\n",
      "invalid value encountered in scalar divide\n",
      "\n",
      "/media/caishuman/csstorage3/Austin/CircleTrack/CircleTrackAnalysis/MultiCon_Behavior/MultiCon_Pilot2/../../circletrack_behavior.py:1068: RuntimeWarning:\n",
      "\n",
      "invalid value encountered in scalar divide\n",
      "\n",
      "/media/caishuman/csstorage3/Austin/CircleTrack/CircleTrackAnalysis/MultiCon_Behavior/MultiCon_Pilot2/../../circletrack_behavior.py:1068: RuntimeWarning:\n",
      "\n",
      "invalid value encountered in scalar divide\n",
      "\n",
      "/media/caishuman/csstorage3/Austin/CircleTrack/CircleTrackAnalysis/MultiCon_Behavior/MultiCon_Pilot2/../../circletrack_behavior.py:1068: RuntimeWarning:\n",
      "\n",
      "invalid value encountered in scalar divide\n",
      "\n",
      "/media/caishuman/csstorage3/Austin/CircleTrack/CircleTrackAnalysis/MultiCon_Behavior/MultiCon_Pilot2/../../circletrack_behavior.py:1068: RuntimeWarning:\n",
      "\n",
      "invalid value encountered in scalar divide\n",
      "\n",
      "/media/caishuman/csstorage3/Austin/CircleTrack/CircleTrackAnalysis/MultiCon_Behavior/MultiCon_Pilot2/../../circletrack_behavior.py:1068: RuntimeWarning:\n",
      "\n",
      "invalid value encountered in scalar divide\n",
      "\n",
      "/media/caishuman/csstorage3/Austin/CircleTrack/CircleTrackAnalysis/MultiCon_Behavior/MultiCon_Pilot2/../../circletrack_behavior.py:1068: RuntimeWarning:\n",
      "\n",
      "invalid value encountered in scalar divide\n",
      "\n",
      "/media/caishuman/csstorage3/Austin/CircleTrack/CircleTrackAnalysis/MultiCon_Behavior/MultiCon_Pilot2/../../circletrack_behavior.py:1068: RuntimeWarning:\n",
      "\n",
      "invalid value encountered in scalar divide\n",
      "\n",
      "/media/caishuman/csstorage3/Austin/CircleTrack/CircleTrackAnalysis/MultiCon_Behavior/MultiCon_Pilot2/../../circletrack_behavior.py:1068: RuntimeWarning:\n",
      "\n",
      "invalid value encountered in scalar divide\n",
      "\n",
      "/media/caishuman/csstorage3/Austin/CircleTrack/CircleTrackAnalysis/MultiCon_Behavior/MultiCon_Pilot2/../../circletrack_behavior.py:990: RuntimeWarning:\n",
      "\n",
      "Mean of empty slice\n",
      "\n",
      "/media/caishuman/csstorage3/Austin/CircleTrack/CircleTrackAnalysis/MultiCon_Behavior/MultiCon_Pilot2/../../circletrack_behavior.py:1068: RuntimeWarning:\n",
      "\n",
      "invalid value encountered in scalar divide\n",
      "\n",
      "/media/caishuman/csstorage3/Austin/CircleTrack/CircleTrackAnalysis/MultiCon_Behavior/MultiCon_Pilot2/../../circletrack_behavior.py:990: RuntimeWarning:\n",
      "\n",
      "Mean of empty slice\n",
      "\n",
      "/media/caishuman/csstorage3/Austin/CircleTrack/CircleTrackAnalysis/MultiCon_Behavior/MultiCon_Pilot2/../../circletrack_behavior.py:1068: RuntimeWarning:\n",
      "\n",
      "invalid value encountered in scalar divide\n",
      "\n",
      "/media/caishuman/csstorage3/Austin/CircleTrack/CircleTrackAnalysis/MultiCon_Behavior/MultiCon_Pilot2/../../circletrack_behavior.py:1068: RuntimeWarning:\n",
      "\n",
      "invalid value encountered in scalar divide\n",
      "\n",
      "/media/caishuman/csstorage3/Austin/CircleTrack/CircleTrackAnalysis/MultiCon_Behavior/MultiCon_Pilot2/../../circletrack_behavior.py:1068: RuntimeWarning:\n",
      "\n",
      "invalid value encountered in scalar divide\n",
      "\n",
      "/media/caishuman/csstorage3/Austin/CircleTrack/CircleTrackAnalysis/MultiCon_Behavior/MultiCon_Pilot2/../../circletrack_behavior.py:1068: RuntimeWarning:\n",
      "\n",
      "invalid value encountered in scalar divide\n",
      "\n",
      "/media/caishuman/csstorage3/Austin/CircleTrack/CircleTrackAnalysis/MultiCon_Behavior/MultiCon_Pilot2/../../circletrack_behavior.py:990: RuntimeWarning:\n",
      "\n",
      "Mean of empty slice\n",
      "\n",
      "/tmp/ipykernel_90332/2365709504.py:23: RuntimeWarning:\n",
      "\n",
      "Mean of empty slice\n",
      "\n",
      "/tmp/ipykernel_90332/2365709504.py:22: RuntimeWarning:\n",
      "\n",
      "Mean of empty slice\n",
      "\n"
     ]
    }
   ],
   "source": [
    "## Calculate for lick accuracy\n",
    "data = {'mouse': [], 'day': [], 'group': [], 'trial_acc': []}\n",
    "for mouse in os.listdir(circle_path):\n",
    "    mouse_path = pjoin(circle_path, mouse)\n",
    "    group = 'thresh3_twoport' if mouse in two_ports and mouse not in thresh_five else 'thresh5_twoport' if mouse in two_ports and mouse in thresh_five else 'thresh3_oneport' if mouse not in two_ports and mouse not in thresh_five else 'thresh5_oneport'\n",
    "    if (group == 'thresh3_oneport') | (group == 'thresh5_oneport'):\n",
    "          pass\n",
    "    else:\n",
    "        for idx, session in enumerate(os.listdir(mouse_path)):\n",
    "            behav_data = pd.read_feather(pjoin(mouse_path, f'{session}'))\n",
    "            reward_one, reward_two = np.unique(behav_data['reward_one'])[0], np.unique(behav_data['reward_two'])[0]\n",
    "            pc = ctb.lick_accuracy(behav_data, reward_one, reward_two, by_trials=True)\n",
    "            binned_pc = ctb.bin_data(pc, bin_size=bin_size)\n",
    "            x_data = np.arange(1, len(binned_pc) + 1) * bin_size\n",
    "            data['mouse'].append(mouse)\n",
    "            data['day'].append(idx + 1)\n",
    "            data['group'].append(group)\n",
    "            data['trial_acc'].append(binned_pc)\n",
    "trial_acc = pd.DataFrame(data)\n",
    "group_data = {'thresh3_twoport': [], 'thresh5_twoport': [], 'day': []}\n",
    "for day in np.unique(trial_acc['day']):\n",
    "    group_data['thresh3_twoport'].append(np.nanmean(trial_acc['trial_acc'][(trial_acc['group'] == 'thresh3_twoport') & (trial_acc['day'] == day)].apply(pd.Series), axis=0))\n",
    "    group_data['thresh5_twoport'].append(np.nanmean(trial_acc['trial_acc'][(trial_acc['group'] == 'thresh5_twoport') & (trial_acc['day'] == day)].apply(pd.Series), axis=0))\n",
    "    group_data['thresh3_twoport'].append(np.std(trial_acc['trial_acc'][(trial_acc['group'] == 'thresh3_twoport') & (trial_acc['day'] == day)].apply(pd.Series), axis=0, ddof=1).to_numpy() / np.sqrt(len(trial_acc['trial_acc'][(trial_acc['group'] == 'thresh3_twoport') & (trial_acc['day'] == day)].apply(pd.Series))))\n",
    "    group_data['thresh5_twoport'].append(np.std(trial_acc['trial_acc'][(trial_acc['group'] == 'thresh5_twoport') & (trial_acc['day'] == day)].apply(pd.Series), axis=0, ddof=1).to_numpy() / np.sqrt(len(trial_acc['trial_acc'][(trial_acc['group'] == 'thresh5_twoport') & (trial_acc['day'] == day)].apply(pd.Series))))\n",
    "    group_data['day'].append(day)\n",
    "    group_data['day'].append(day)\n",
    "group_df = pd.DataFrame(group_data)"
   ]
  },
  {
   "cell_type": "code",
   "execution_count": 25,
   "metadata": {},
   "outputs": [
    {
     "data": {
      "application/vnd.plotly.v1+json": {
       "config": {
        "plotlyServerURL": "https://plot.ly"
       },
       "data": [
        {
         "legendgroup": "thresh3_twoport",
         "line": {
          "color": "darkgrey"
         },
         "mode": "lines",
         "name": "thresh3_twoport",
         "opacity": 0.8,
         "showlegend": false,
         "type": "scatter",
         "x": [
          4,
          8,
          12,
          16,
          20,
          24
         ],
         "xaxis": "x",
         "y": [
          36.34259259259259,
          22.766290726817044,
          27.570738440303654,
          25.55517399267399,
          27.701465201465197,
          29.203869047619044
         ],
         "yaxis": "y"
        },
        {
         "legendgroup": "thresh3_twoport",
         "line": {
          "width": 0
         },
         "marker": {
          "color": "rgba(169,169,169,0.4)"
         },
         "mode": "lines",
         "name": "Upper Bound",
         "showlegend": false,
         "type": "scatter",
         "x": [
          4,
          8,
          12,
          16,
          20,
          24
         ],
         "xaxis": "x",
         "y": [
          40.37861013290803,
          25.293748514237645,
          30.081605432880853,
          26.990997955152732,
          28.161054484887465,
          31.17828414286838
         ],
         "yaxis": "y"
        },
        {
         "fill": "tonexty",
         "fillcolor": "rgba(169,169,169,0.4)",
         "legendgroup": "thresh3_twoport",
         "line": {
          "width": 0
         },
         "marker": {
          "color": "rgba(169,169,169,0.4)"
         },
         "mode": "lines",
         "name": "Lower Bound",
         "showlegend": false,
         "type": "scatter",
         "x": [
          4,
          8,
          12,
          16,
          20,
          24
         ],
         "xaxis": "x",
         "y": [
          32.30657505227715,
          20.238832939396442,
          25.059871447726454,
          24.119350030195246,
          27.24187591804293,
          27.229453952369706
         ],
         "yaxis": "y"
        },
        {
         "legendgroup": "thresh5_twoport",
         "line": {
          "color": "midnightblue"
         },
         "mode": "lines",
         "name": "thresh5_twoport",
         "opacity": 0.8,
         "showlegend": false,
         "type": "scatter",
         "x": [
          4,
          8,
          12,
          16,
          20
         ],
         "xaxis": "x",
         "y": [
          26.26262626262626,
          30.82431457431457,
          28.26345249732346,
          33.02910052910053,
          35
         ],
         "yaxis": "y"
        },
        {
         "legendgroup": "thresh5_twoport",
         "line": {
          "width": 0
         },
         "marker": {
          "color": "rgba(25,25,112,0.4)"
         },
         "mode": "lines",
         "name": "Upper Bound",
         "showlegend": false,
         "type": "scatter",
         "x": [
          4,
          8,
          12,
          16,
          20
         ],
         "xaxis": "x",
         "y": [
          39.91009181444812,
          34.00358306598205,
          32.211486374327905,
          41.60262116019892,
          null
         ],
         "yaxis": "y"
        },
        {
         "fill": "tonexty",
         "fillcolor": "rgba(25,25,112,0.4)",
         "legendgroup": "thresh5_twoport",
         "line": {
          "width": 0
         },
         "marker": {
          "color": "rgba(25,25,112,0.4)"
         },
         "mode": "lines",
         "name": "Lower Bound",
         "showlegend": false,
         "type": "scatter",
         "x": [
          4,
          8,
          12,
          16,
          20
         ],
         "xaxis": "x",
         "y": [
          12.615160710804396,
          27.645046082647088,
          24.31541862031901,
          24.455579898002142,
          null
         ],
         "yaxis": "y"
        },
        {
         "legendgroup": "thresh3_twoport",
         "line": {
          "color": "darkgrey"
         },
         "mode": "lines",
         "name": "thresh3_twoport",
         "opacity": 0.8,
         "showlegend": false,
         "type": "scatter",
         "x": [
          4,
          8,
          12,
          16,
          20,
          24,
          28,
          32,
          36,
          40
         ],
         "xaxis": "x2",
         "y": [
          26.16147741147741,
          30.020743145743143,
          32.139000705177175,
          32.808302808302805,
          37.29978354978355,
          38.60569985569985,
          41.666666666666664,
          44.76190476190476,
          64.16666666666666,
          64.16666666666666
         ],
         "yaxis": "y2"
        },
        {
         "legendgroup": "thresh3_twoport",
         "line": {
          "width": 0
         },
         "marker": {
          "color": "rgba(169,169,169,0.4)"
         },
         "mode": "lines",
         "name": "Upper Bound",
         "showlegend": false,
         "type": "scatter",
         "x": [
          4,
          8,
          12,
          16,
          20,
          24,
          28,
          32,
          36,
          40
         ],
         "xaxis": "x2",
         "y": [
          26.978843173383897,
          33.30873073779573,
          34.65477806612476,
          33.460910988476186,
          39.93227078670493,
          42.26395976735021,
          45.03454323693948,
          53.45265274634779,
          null,
          null
         ],
         "yaxis": "y2"
        },
        {
         "fill": "tonexty",
         "fillcolor": "rgba(169,169,169,0.4)",
         "legendgroup": "thresh3_twoport",
         "line": {
          "width": 0
         },
         "marker": {
          "color": "rgba(169,169,169,0.4)"
         },
         "mode": "lines",
         "name": "Lower Bound",
         "showlegend": false,
         "type": "scatter",
         "x": [
          4,
          8,
          12,
          16,
          20,
          24,
          28,
          32,
          36,
          40
         ],
         "xaxis": "x2",
         "y": [
          25.344111649570923,
          26.732755553690563,
          29.62322334422959,
          32.155694628129424,
          34.66729631286216,
          34.947439944049485,
          38.29879009639385,
          36.07115677746173,
          null,
          null
         ],
         "yaxis": "y2"
        },
        {
         "legendgroup": "thresh5_twoport",
         "line": {
          "color": "midnightblue"
         },
         "mode": "lines",
         "name": "thresh5_twoport",
         "opacity": 0.8,
         "showlegend": false,
         "type": "scatter",
         "x": [
          4,
          8,
          12,
          16,
          20,
          24,
          28,
          32
         ],
         "xaxis": "x2",
         "y": [
          26.05489215968419,
          33.132798573975045,
          47.5,
          67.5,
          58.47902097902097,
          46.875,
          70.83333333333333,
          58.611111111111114
         ],
         "yaxis": "y2"
        },
        {
         "legendgroup": "thresh5_twoport",
         "line": {
          "width": 0
         },
         "marker": {
          "color": "rgba(25,25,112,0.4)"
         },
         "mode": "lines",
         "name": "Upper Bound",
         "showlegend": false,
         "type": "scatter",
         "x": [
          4,
          8,
          12,
          16,
          20,
          24,
          28,
          32
         ],
         "xaxis": "x2",
         "y": [
          26.518550518847977,
          33.78663786183539,
          null,
          null,
          null,
          null,
          null,
          null
         ],
         "yaxis": "y2"
        },
        {
         "fill": "tonexty",
         "fillcolor": "rgba(25,25,112,0.4)",
         "legendgroup": "thresh5_twoport",
         "line": {
          "width": 0
         },
         "marker": {
          "color": "rgba(25,25,112,0.4)"
         },
         "mode": "lines",
         "name": "Lower Bound",
         "showlegend": false,
         "type": "scatter",
         "x": [
          4,
          8,
          12,
          16,
          20,
          24,
          28,
          32
         ],
         "xaxis": "x2",
         "y": [
          25.591233800520403,
          32.4789592861147,
          null,
          null,
          null,
          null,
          null,
          null
         ],
         "yaxis": "y2"
        },
        {
         "legendgroup": "thresh3_twoport",
         "line": {
          "color": "darkgrey"
         },
         "mode": "lines",
         "name": "thresh3_twoport",
         "opacity": 0.8,
         "showlegend": false,
         "type": "scatter",
         "x": [
          4,
          8,
          12,
          16,
          20,
          24,
          28,
          32,
          36,
          40,
          44,
          48,
          52
         ],
         "xaxis": "x3",
         "y": [
          42.85804473304473,
          46.27823565323565,
          69.58333333333333,
          65.4861111111111,
          69.99999999999999,
          76.90476190476188,
          64.72222222222221,
          79.30555555555556,
          76.92129629629629,
          74.33712121212122,
          96.875,
          88.33333333333333,
          77.5
         ],
         "yaxis": "y3"
        },
        {
         "legendgroup": "thresh3_twoport",
         "line": {
          "width": 0
         },
         "marker": {
          "color": "rgba(169,169,169,0.4)"
         },
         "mode": "lines",
         "name": "Upper Bound",
         "showlegend": false,
         "type": "scatter",
         "x": [
          4,
          8,
          12,
          16,
          20,
          24,
          28,
          32,
          36,
          40,
          44,
          48,
          52
         ],
         "xaxis": "x3",
         "y": [
          49.64191552051319,
          53.52177575167436,
          76.58449064507141,
          75.83053653477185,
          79.4770678384622,
          87.49219437819191,
          71.28977245418716,
          85.717049381991,
          88.20157201096313,
          90.18767036838862,
          99.42655181539915,
          97.85912677749013,
          null
         ],
         "yaxis": "y3"
        },
        {
         "fill": "tonexty",
         "fillcolor": "rgba(169,169,169,0.4)",
         "legendgroup": "thresh3_twoport",
         "line": {
          "width": 0
         },
         "marker": {
          "color": "rgba(169,169,169,0.4)"
         },
         "mode": "lines",
         "name": "Lower Bound",
         "showlegend": false,
         "type": "scatter",
         "x": [
          4,
          8,
          12,
          16,
          20,
          24,
          28,
          32,
          36,
          40,
          44,
          48,
          52
         ],
         "xaxis": "x3",
         "y": [
          36.07417394557627,
          39.03469555479693,
          62.58217602159524,
          55.14168568745035,
          60.522932161537774,
          66.31732943133186,
          58.15467199025728,
          72.89406172912011,
          65.64102058162945,
          58.486572055853806,
          94.32344818460085,
          78.80753988917652,
          null
         ],
         "yaxis": "y3"
        },
        {
         "legendgroup": "thresh5_twoport",
         "line": {
          "color": "midnightblue"
         },
         "mode": "lines",
         "name": "thresh5_twoport",
         "opacity": 0.8,
         "showlegend": false,
         "type": "scatter",
         "x": [
          4,
          8,
          12,
          16,
          20,
          24,
          28,
          32,
          36,
          40,
          44
         ],
         "xaxis": "x3",
         "y": [
          33.36893090569561,
          51.08585858585858,
          61.3095238095238,
          83.33333333333333,
          84.375,
          93.33333333333333,
          95.83333333333333,
          72.5,
          83.75,
          70.83333333333333,
          87.5
         ],
         "yaxis": "y3"
        },
        {
         "legendgroup": "thresh5_twoport",
         "line": {
          "width": 0
         },
         "marker": {
          "color": "rgba(25,25,112,0.4)"
         },
         "mode": "lines",
         "name": "Upper Bound",
         "showlegend": false,
         "type": "scatter",
         "x": [
          4,
          8,
          12,
          16,
          20,
          24,
          28,
          32,
          36,
          40,
          44
         ],
         "xaxis": "x3",
         "y": [
          37.93614415273255,
          63.939916017929114,
          82.13718743712326,
          90.13747150773104,
          90.32862090259799,
          98.77664387285151,
          99.2354024205322,
          null,
          null,
          null,
          null
         ],
         "yaxis": "y3"
        },
        {
         "fill": "tonexty",
         "fillcolor": "rgba(25,25,112,0.4)",
         "legendgroup": "thresh5_twoport",
         "line": {
          "width": 0
         },
         "marker": {
          "color": "rgba(25,25,112,0.4)"
         },
         "mode": "lines",
         "name": "Lower Bound",
         "showlegend": false,
         "type": "scatter",
         "x": [
          4,
          8,
          12,
          16,
          20,
          24,
          28,
          32,
          36,
          40,
          44
         ],
         "xaxis": "x3",
         "y": [
          28.801717658658674,
          38.23180115378805,
          40.48186018192435,
          76.52919515893562,
          78.42137909740201,
          87.89002279381515,
          92.43126424613446,
          null,
          null,
          null,
          null
         ],
         "yaxis": "y3"
        },
        {
         "legendgroup": "thresh3_twoport",
         "line": {
          "color": "darkgrey"
         },
         "mode": "lines",
         "name": "thresh3_twoport",
         "opacity": 0.8,
         "showlegend": false,
         "type": "scatter",
         "x": [
          4,
          8,
          12,
          16,
          20,
          24,
          28,
          32,
          36,
          40
         ],
         "xaxis": "x4",
         "y": [
          48.333333333333336,
          47.26521164021164,
          62.5,
          78.11838624338624,
          75.55555555555556,
          76.25420875420875,
          87.5,
          71.35416666666666,
          76.38888888888889,
          65.83333333333333
         ],
         "yaxis": "y4"
        },
        {
         "legendgroup": "thresh3_twoport",
         "line": {
          "width": 0
         },
         "marker": {
          "color": "rgba(169,169,169,0.4)"
         },
         "mode": "lines",
         "name": "Upper Bound",
         "showlegend": false,
         "type": "scatter",
         "x": [
          4,
          8,
          12,
          16,
          20,
          24,
          28,
          32,
          36,
          40
         ],
         "xaxis": "x4",
         "y": [
          60.91639072545125,
          49.228698308075664,
          64.90562612162344,
          84.04376684146399,
          87.73984011081184,
          85.53315553127425,
          90.90206908719885,
          90.66090873652018,
          88.86314220861803,
          null
         ],
         "yaxis": "y4"
        },
        {
         "fill": "tonexty",
         "fillcolor": "rgba(169,169,169,0.4)",
         "legendgroup": "thresh3_twoport",
         "line": {
          "width": 0
         },
         "marker": {
          "color": "rgba(169,169,169,0.4)"
         },
         "mode": "lines",
         "name": "Lower Bound",
         "showlegend": false,
         "type": "scatter",
         "x": [
          4,
          8,
          12,
          16,
          20,
          24,
          28,
          32,
          36,
          40
         ],
         "xaxis": "x4",
         "y": [
          35.75027594121542,
          45.301724972347614,
          60.09437387837656,
          72.19300564530849,
          63.371271000299274,
          66.97526197714325,
          84.09793091280115,
          52.04742459681313,
          63.91463556915974,
          null
         ],
         "yaxis": "y4"
        },
        {
         "legendgroup": "thresh5_twoport",
         "line": {
          "color": "midnightblue"
         },
         "mode": "lines",
         "name": "thresh5_twoport",
         "opacity": 0.8,
         "showlegend": false,
         "type": "scatter",
         "x": [
          4,
          8,
          12,
          16,
          20,
          24,
          28,
          32,
          36
         ],
         "xaxis": "x4",
         "y": [
          33.727106227106226,
          52.02380952380952,
          67.43713450292397,
          83.43253968253968,
          87.5,
          88.09523809523809,
          75.35714285714286,
          87.5,
          100
         ],
         "yaxis": "y4"
        },
        {
         "legendgroup": "thresh5_twoport",
         "line": {
          "width": 0
         },
         "marker": {
          "color": "rgba(25,25,112,0.4)"
         },
         "mode": "lines",
         "name": "Upper Bound",
         "showlegend": false,
         "type": "scatter",
         "x": [
          4,
          8,
          12,
          16,
          20,
          24,
          28,
          32,
          36
         ],
         "xaxis": "x4",
         "y": [
          37.69743652826958,
          68.62757404336081,
          85.77519356489645,
          100,
          90.90206908719885,
          91.0112973128371,
          null,
          null,
          null
         ],
         "yaxis": "y4"
        },
        {
         "fill": "tonexty",
         "fillcolor": "rgba(25,25,112,0.4)",
         "legendgroup": "thresh5_twoport",
         "line": {
          "width": 0
         },
         "marker": {
          "color": "rgba(25,25,112,0.4)"
         },
         "mode": "lines",
         "name": "Lower Bound",
         "showlegend": false,
         "type": "scatter",
         "x": [
          4,
          8,
          12,
          16,
          20,
          24,
          28,
          32,
          36
         ],
         "xaxis": "x4",
         "y": [
          29.756775925942872,
          35.42004500425823,
          49.09907544095148,
          66.86507936507937,
          84.09793091280115,
          85.17917887763907,
          null,
          null,
          null
         ],
         "yaxis": "y4"
        },
        {
         "legendgroup": "thresh3_twoport",
         "line": {
          "color": "darkgrey"
         },
         "mode": "lines",
         "name": "thresh3_twoport",
         "opacity": 0.8,
         "showlegend": false,
         "type": "scatter",
         "x": [
          4,
          8,
          12,
          16,
          20,
          24,
          28,
          32,
          36,
          40,
          44,
          48
         ],
         "xaxis": "x5",
         "y": [
          44.21626984126984,
          80.55555555555556,
          69.2361111111111,
          76.18055555555556,
          93.05555555555554,
          90.27777777777777,
          65.51046176046175,
          87.5,
          66.66666666666666,
          72.91666666666666,
          83.33333333333333,
          50.53030303030303
         ],
         "yaxis": "y5"
        },
        {
         "legendgroup": "thresh3_twoport",
         "line": {
          "width": 0
         },
         "marker": {
          "color": "rgba(169,169,169,0.4)"
         },
         "mode": "lines",
         "name": "Upper Bound",
         "showlegend": false,
         "type": "scatter",
         "x": [
          4,
          8,
          12,
          16,
          20,
          24,
          28,
          32,
          36,
          40,
          44,
          48
         ],
         "xaxis": "x5",
         "y": [
          51.78626035601278,
          90.84458843191786,
          76.89674934081623,
          78.48272006309038,
          96.73021015425637,
          96.33180408825093,
          66.7565018097819,
          94.71687836487033,
          null,
          null,
          null,
          null
         ],
         "yaxis": "y5"
        },
        {
         "fill": "tonexty",
         "fillcolor": "rgba(169,169,169,0.4)",
         "legendgroup": "thresh3_twoport",
         "line": {
          "width": 0
         },
         "marker": {
          "color": "rgba(169,169,169,0.4)"
         },
         "mode": "lines",
         "name": "Lower Bound",
         "showlegend": false,
         "type": "scatter",
         "x": [
          4,
          8,
          12,
          16,
          20,
          24,
          28,
          32,
          36,
          40,
          44,
          48
         ],
         "xaxis": "x5",
         "y": [
          36.6462793265269,
          70.26652267919326,
          61.57547288140597,
          73.87839104802073,
          89.38090095685472,
          84.22375146730461,
          64.26442171114161,
          80.28312163512967,
          null,
          null,
          null,
          null
         ],
         "yaxis": "y5"
        },
        {
         "legendgroup": "thresh5_twoport",
         "line": {
          "color": "midnightblue"
         },
         "mode": "lines",
         "name": "thresh5_twoport",
         "opacity": 0.8,
         "showlegend": false,
         "type": "scatter",
         "x": [
          4,
          8,
          12,
          16,
          20,
          24,
          28,
          32,
          36,
          40,
          44
         ],
         "xaxis": "x5",
         "y": [
          54.71357346357346,
          81.94444444444444,
          85.55555555555554,
          86.1111111111111,
          92.70833333333333,
          90.97222222222221,
          86.60493827160492,
          93.75,
          80,
          86.45833333333333,
          83.33333333333333
         ],
         "yaxis": "y5"
        },
        {
         "legendgroup": "thresh5_twoport",
         "line": {
          "width": 0
         },
         "marker": {
          "color": "rgba(25,25,112,0.4)"
         },
         "mode": "lines",
         "name": "Upper Bound",
         "showlegend": false,
         "type": "scatter",
         "x": [
          4,
          8,
          12,
          16,
          20,
          24,
          28,
          32,
          36,
          40,
          44
         ],
         "xaxis": "x5",
         "y": [
          66.4843872756025,
          92.79201343875924,
          95.43132713035064,
          96.12653132073329,
          97.2488530661882,
          95.52599897520972,
          96.14172559503675,
          98.85310363079829,
          88.16496580927726,
          97.51505786672962,
          null
         ],
         "yaxis": "y5"
        },
        {
         "fill": "tonexty",
         "fillcolor": "rgba(25,25,112,0.4)",
         "legendgroup": "thresh5_twoport",
         "line": {
          "width": 0
         },
         "marker": {
          "color": "rgba(25,25,112,0.4)"
         },
         "mode": "lines",
         "name": "Lower Bound",
         "showlegend": false,
         "type": "scatter",
         "x": [
          4,
          8,
          12,
          16,
          20,
          24,
          28,
          32,
          36,
          40,
          44
         ],
         "xaxis": "x5",
         "y": [
          42.94275965154442,
          71.09687545012964,
          75.67978398076045,
          76.09569090148891,
          88.16781360047845,
          86.41844546923471,
          77.0681509481731,
          88.64689636920171,
          71.83503419072274,
          75.40160879993704,
          null
         ],
         "yaxis": "y5"
        },
        {
         "legendgroup": "thresh3_twoport",
         "line": {
          "color": "darkgrey"
         },
         "mode": "lines",
         "name": "thresh3_twoport",
         "opacity": 0.8,
         "showlegend": false,
         "type": "scatter",
         "x": [
          4,
          8,
          12,
          16,
          20,
          24,
          28,
          32
         ],
         "xaxis": "x6",
         "y": [
          46.91798941798942,
          84.16666666666667,
          76.33537758537757,
          76.52116402116401,
          82.02932098765432,
          71.33333333333331,
          67.85714285714286,
          61.11111111111111
         ],
         "yaxis": "y6"
        },
        {
         "legendgroup": "thresh3_twoport",
         "line": {
          "width": 0
         },
         "marker": {
          "color": "rgba(169,169,169,0.4)"
         },
         "mode": "lines",
         "name": "Upper Bound",
         "showlegend": false,
         "type": "scatter",
         "x": [
          4,
          8,
          12,
          16,
          20,
          24,
          28,
          32
         ],
         "xaxis": "x6",
         "y": [
          50.89582727158903,
          89.71527343206617,
          80.31249015771611,
          81.40057474111707,
          88.20764127826091,
          81.13129230446603,
          73.6892612923409,
          null
         ],
         "yaxis": "y6"
        },
        {
         "fill": "tonexty",
         "fillcolor": "rgba(169,169,169,0.4)",
         "legendgroup": "thresh3_twoport",
         "line": {
          "width": 0
         },
         "marker": {
          "color": "rgba(169,169,169,0.4)"
         },
         "mode": "lines",
         "name": "Lower Bound",
         "showlegend": false,
         "type": "scatter",
         "x": [
          4,
          8,
          12,
          16,
          20,
          24,
          28,
          32
         ],
         "xaxis": "x6",
         "y": [
          42.94015156438981,
          78.61805990126717,
          72.35826501303903,
          71.64175330121095,
          75.85100069704772,
          61.535374362200606,
          62.02502442194482,
          null
         ],
         "yaxis": "y6"
        },
        {
         "legendgroup": "thresh5_twoport",
         "line": {
          "color": "midnightblue"
         },
         "mode": "lines",
         "name": "thresh5_twoport",
         "opacity": 0.8,
         "showlegend": false,
         "type": "scatter",
         "x": [
          4,
          8,
          12,
          16,
          20,
          24,
          28,
          32,
          36,
          40,
          44,
          48
         ],
         "xaxis": "x6",
         "y": [
          64.58333333333333,
          83.13492063492063,
          88.88888888888887,
          87.5,
          84.16666666666666,
          87.77777777777777,
          81.94444444444444,
          70.16203703703702,
          72.02380952380952,
          100,
          91.66666666666666,
          91.66666666666666
         ],
         "yaxis": "y6"
        },
        {
         "legendgroup": "thresh5_twoport",
         "line": {
          "width": 0
         },
         "marker": {
          "color": "rgba(25,25,112,0.4)"
         },
         "mode": "lines",
         "name": "Upper Bound",
         "showlegend": false,
         "type": "scatter",
         "x": [
          4,
          8,
          12,
          16,
          20,
          24,
          28,
          32,
          36,
          40,
          44,
          48
         ],
         "xaxis": "x6",
         "y": [
          65.78614639414505,
          91.95257382670198,
          91.66666666666666,
          94.71687836487033,
          92.67864080335808,
          91.42079918016778,
          86.95215454925554,
          78.55690373434493,
          77.85592795900756,
          null,
          null,
          null
         ],
         "yaxis": "y6"
        },
        {
         "fill": "tonexty",
         "fillcolor": "rgba(25,25,112,0.4)",
         "legendgroup": "thresh5_twoport",
         "line": {
          "width": 0
         },
         "marker": {
          "color": "rgba(25,25,112,0.4)"
         },
         "mode": "lines",
         "name": "Lower Bound",
         "showlegend": false,
         "type": "scatter",
         "x": [
          4,
          8,
          12,
          16,
          20,
          24,
          28,
          32,
          36,
          40,
          44,
          48
         ],
         "xaxis": "x6",
         "y": [
          63.38052027252161,
          74.31726744313929,
          86.11111111111109,
          80.28312163512967,
          75.65469252997524,
          84.13475637538777,
          76.93673433963335,
          61.76717033972912,
          66.19169108861148,
          null,
          null,
          null
         ],
         "yaxis": "y6"
        },
        {
         "legendgroup": "thresh3_twoport",
         "line": {
          "color": "darkgrey"
         },
         "mode": "lines",
         "name": "thresh3_twoport",
         "opacity": 0.8,
         "showlegend": false,
         "type": "scatter",
         "x": [
          4,
          8,
          12,
          16,
          20,
          24,
          28,
          32,
          36,
          40,
          44,
          48,
          52
         ],
         "xaxis": "x7",
         "y": [
          27.29166666666666,
          22.3015873015873,
          28.347763347763344,
          34.21510270774976,
          47.65873015873016,
          41.269841269841265,
          53.57142857142858,
          60.27777777777777,
          58.742690058479525,
          65.13888888888889,
          69.05753968253968,
          60.41005291005291,
          83.33333333333333
         ],
         "yaxis": "y7"
        },
        {
         "legendgroup": "thresh3_twoport",
         "line": {
          "width": 0
         },
         "marker": {
          "color": "rgba(169,169,169,0.4)"
         },
         "mode": "lines",
         "name": "Upper Bound",
         "showlegend": false,
         "type": "scatter",
         "x": [
          4,
          8,
          12,
          16,
          20,
          24,
          28,
          32,
          36,
          40,
          44,
          48,
          52
         ],
         "xaxis": "x7",
         "y": [
          29.747880442198245,
          33.25247646270098,
          34.00001785559502,
          35.36960617806111,
          54.5875106788574,
          43.99004969708156,
          58.333333333333336,
          64.48131831956154,
          68.98985149800993,
          68.78984428558192,
          81.50665585015372,
          72.08297922031353,
          96.94160968212877
         ],
         "yaxis": "y7"
        },
        {
         "fill": "tonexty",
         "fillcolor": "rgba(169,169,169,0.4)",
         "legendgroup": "thresh3_twoport",
         "line": {
          "width": 0
         },
         "marker": {
          "color": "rgba(169,169,169,0.4)"
         },
         "mode": "lines",
         "name": "Lower Bound",
         "showlegend": false,
         "type": "scatter",
         "x": [
          4,
          8,
          12,
          16,
          20,
          24,
          28,
          32,
          36,
          40,
          44,
          48,
          52
         ],
         "xaxis": "x7",
         "y": [
          24.835452891135077,
          11.350698140473614,
          22.695508839931666,
          33.0605992374384,
          40.72994963860292,
          38.54963284260097,
          48.80952380952382,
          56.074237235994005,
          48.49552861894913,
          61.48793349219585,
          56.60842351492564,
          48.73712659979228,
          69.72505698453789
         ],
         "yaxis": "y7"
        },
        {
         "legendgroup": "thresh5_twoport",
         "line": {
          "color": "midnightblue"
         },
         "mode": "lines",
         "name": "thresh5_twoport",
         "opacity": 0.8,
         "showlegend": false,
         "type": "scatter",
         "x": [
          4,
          8,
          12,
          16,
          20,
          24,
          28,
          32,
          36
         ],
         "xaxis": "x7",
         "y": [
          17.083333333333332,
          25.575396825396822,
          34.9074074074074,
          25.806878306878303,
          47.64790764790765,
          67.08333333333333,
          77.91666666666666,
          76.66666666666666,
          60.20833333333333
         ],
         "yaxis": "y7"
        },
        {
         "legendgroup": "thresh5_twoport",
         "line": {
          "width": 0
         },
         "marker": {
          "color": "rgba(25,25,112,0.4)"
         },
         "mode": "lines",
         "name": "Upper Bound",
         "showlegend": false,
         "type": "scatter",
         "x": [
          4,
          8,
          12,
          16,
          20,
          24,
          28,
          32,
          36
         ],
         "xaxis": "x7",
         "y": [
          23.55173945677501,
          39.65544470078927,
          44.12909042005394,
          30.079748987616885,
          53.91676497592247,
          87.1555409478066,
          95.94763282882062,
          84.83163247594392,
          73.64650622776881
         ],
         "yaxis": "y7"
        },
        {
         "fill": "tonexty",
         "fillcolor": "rgba(25,25,112,0.4)",
         "legendgroup": "thresh5_twoport",
         "line": {
          "width": 0
         },
         "marker": {
          "color": "rgba(25,25,112,0.4)"
         },
         "mode": "lines",
         "name": "Lower Bound",
         "showlegend": false,
         "type": "scatter",
         "x": [
          4,
          8,
          12,
          16,
          20,
          24,
          28,
          32,
          36
         ],
         "xaxis": "x7",
         "y": [
          10.614927209891656,
          11.495348950004376,
          25.685724394760854,
          21.534007626139722,
          41.37905031989283,
          47.011125718860065,
          59.885700504512705,
          68.5017008573894,
          46.77016043889784
         ],
         "yaxis": "y7"
        },
        {
         "legendgroup": "thresh3_twoport",
         "line": {
          "color": "darkgrey"
         },
         "mode": "lines",
         "name": "thresh3_twoport",
         "opacity": 0.8,
         "showlegend": false,
         "type": "scatter",
         "x": [
          4,
          8,
          12,
          16,
          20,
          24,
          28,
          32,
          36,
          40,
          44,
          48
         ],
         "xaxis": "x8",
         "y": [
          25.869708994708997,
          45.714285714285715,
          65.60846560846561,
          68.99801587301586,
          65.97222222222221,
          74.16666666666666,
          76.38888888888887,
          72.3611111111111,
          68.80050505050504,
          78.75,
          62.14285714285714,
          44.58333333333333
         ],
         "yaxis": "y8"
        },
        {
         "legendgroup": "thresh3_twoport",
         "line": {
          "width": 0
         },
         "marker": {
          "color": "rgba(169,169,169,0.4)"
         },
         "mode": "lines",
         "name": "Upper Bound",
         "showlegend": false,
         "type": "scatter",
         "x": [
          4,
          8,
          12,
          16,
          20,
          24,
          28,
          32,
          36,
          40,
          44,
          48
         ],
         "xaxis": "x8",
         "y": [
          28.986043106016844,
          46.61307552800842,
          75.7884959125858,
          84.50382861548391,
          69.44444444444443,
          79.71527343206616,
          88.73360335738275,
          78.77260493754655,
          87.42811978127791,
          96.10055234471417,
          72.64067032621361,
          53.76891986877025
         ],
         "yaxis": "y8"
        },
        {
         "fill": "tonexty",
         "fillcolor": "rgba(169,169,169,0.4)",
         "legendgroup": "thresh3_twoport",
         "line": {
          "width": 0
         },
         "marker": {
          "color": "rgba(169,169,169,0.4)"
         },
         "mode": "lines",
         "name": "Lower Bound",
         "showlegend": false,
         "type": "scatter",
         "x": [
          4,
          8,
          12,
          16,
          20,
          24,
          28,
          32,
          36,
          40,
          44,
          48
         ],
         "xaxis": "x8",
         "y": [
          22.75337488340115,
          44.81549590056301,
          55.42843530434541,
          53.4922031305478,
          62.49999999999999,
          68.61805990126716,
          64.044174420395,
          65.94961728467565,
          50.17289031973216,
          61.39944765528582,
          51.64504395950067,
          35.39774679789641
         ],
         "yaxis": "y8"
        },
        {
         "legendgroup": "thresh5_twoport",
         "line": {
          "color": "midnightblue"
         },
         "mode": "lines",
         "name": "thresh5_twoport",
         "opacity": 0.8,
         "showlegend": false,
         "type": "scatter",
         "x": [
          4,
          8,
          12,
          16,
          20,
          24,
          28,
          32,
          36
         ],
         "xaxis": "x8",
         "y": [
          33.69047619047618,
          39.464285714285715,
          62.36111111111109,
          42.691798941798936,
          71.95075757575758,
          60.051406926406926,
          60.39862914862915,
          51.041666666666664,
          80.95238095238093
         ],
         "yaxis": "y8"
        },
        {
         "legendgroup": "thresh5_twoport",
         "line": {
          "width": 0
         },
         "marker": {
          "color": "rgba(25,25,112,0.4)"
         },
         "mode": "lines",
         "name": "Upper Bound",
         "showlegend": false,
         "type": "scatter",
         "x": [
          4,
          8,
          12,
          16,
          20,
          24,
          28,
          32,
          36
         ],
         "xaxis": "x8",
         "y": [
          38.244858056316396,
          45.17060870471052,
          75.15925309624335,
          58.591075884246,
          89.74976448196615,
          64.23771921227825,
          74.58864458376378,
          null,
          null
         ],
         "yaxis": "y8"
        },
        {
         "fill": "tonexty",
         "fillcolor": "rgba(25,25,112,0.4)",
         "legendgroup": "thresh5_twoport",
         "line": {
          "width": 0
         },
         "marker": {
          "color": "rgba(25,25,112,0.4)"
         },
         "mode": "lines",
         "name": "Lower Bound",
         "showlegend": false,
         "type": "scatter",
         "x": [
          4,
          8,
          12,
          16,
          20,
          24,
          28,
          32,
          36
         ],
         "xaxis": "x8",
         "y": [
          29.13609432463597,
          33.75796272386091,
          49.562969125978846,
          26.79252199935187,
          54.151750669549,
          55.8650946405356,
          46.20861371349452,
          null,
          null
         ],
         "yaxis": "y8"
        },
        {
         "legendgroup": "thresh3_twoport",
         "line": {
          "color": "darkgrey"
         },
         "mode": "lines",
         "name": "thresh3_twoport",
         "opacity": 0.8,
         "showlegend": false,
         "type": "scatter",
         "x": [
          4,
          8,
          12,
          16,
          20,
          24,
          28,
          32,
          36,
          40,
          44
         ],
         "xaxis": "x9",
         "y": [
          33.11507936507937,
          64.58333333333333,
          82.89682539682539,
          87.5,
          82.5,
          71.46825396825396,
          72.22222222222221,
          74.2361111111111,
          62.18515037593985,
          67.29166666666667,
          54.396344396344396
         ],
         "yaxis": "y9"
        },
        {
         "legendgroup": "thresh3_twoport",
         "line": {
          "width": 0
         },
         "marker": {
          "color": "rgba(169,169,169,0.4)"
         },
         "mode": "lines",
         "name": "Upper Bound",
         "showlegend": false,
         "type": "scatter",
         "x": [
          4,
          8,
          12,
          16,
          20,
          24,
          28,
          32,
          36,
          40,
          44
         ],
         "xaxis": "x9",
         "y": [
          36.755992928280776,
          78.13834812218272,
          87.9290032862595,
          100,
          94.31453906563152,
          83.81258574785662,
          86.5136121882295,
          87.11931897068887,
          81.10318542414899,
          83.11174518288331,
          57.25144464998796
         ],
         "yaxis": "y9"
        },
        {
         "fill": "tonexty",
         "fillcolor": "rgba(169,169,169,0.4)",
         "legendgroup": "thresh3_twoport",
         "line": {
          "width": 0
         },
         "marker": {
          "color": "rgba(169,169,169,0.4)"
         },
         "mode": "lines",
         "name": "Lower Bound",
         "showlegend": false,
         "type": "scatter",
         "x": [
          4,
          8,
          12,
          16,
          20,
          24,
          28,
          32,
          36,
          40,
          44
         ],
         "xaxis": "x9",
         "y": [
          29.474165801877962,
          51.02831854448393,
          77.86464750739128,
          75,
          70.68546093436848,
          59.123922188651306,
          57.93083225621492,
          61.35290325153333,
          43.26711532773071,
          51.47158815045003,
          51.54124414270083
         ],
         "yaxis": "y9"
        },
        {
         "legendgroup": "thresh5_twoport",
         "line": {
          "color": "midnightblue"
         },
         "mode": "lines",
         "name": "thresh5_twoport",
         "opacity": 0.8,
         "showlegend": false,
         "type": "scatter",
         "x": [
          4,
          8,
          12,
          16,
          20,
          24,
          28,
          32,
          36
         ],
         "xaxis": "x9",
         "y": [
          44.593776106934,
          60.50925925925926,
          79.16666666666666,
          73.37962962962962,
          73.74999999999999,
          82.75252525252525,
          70.86489898989899,
          76.17243867243867,
          87.5
         ],
         "yaxis": "y9"
        },
        {
         "legendgroup": "thresh5_twoport",
         "line": {
          "width": 0
         },
         "marker": {
          "color": "rgba(25,25,112,0.4)"
         },
         "mode": "lines",
         "name": "Upper Bound",
         "showlegend": false,
         "type": "scatter",
         "x": [
          4,
          8,
          12,
          16,
          20,
          24,
          28,
          32,
          36
         ],
         "xaxis": "x9",
         "y": [
          60.25034802961156,
          77.93162035013313,
          92.56062605693465,
          78.91101997469838,
          86.98531681189047,
          96.05269732223815,
          77.77460607097197,
          82.68473212221375,
          null
         ],
         "yaxis": "y9"
        },
        {
         "fill": "tonexty",
         "fillcolor": "rgba(25,25,112,0.4)",
         "legendgroup": "thresh5_twoport",
         "line": {
          "width": 0
         },
         "marker": {
          "color": "rgba(25,25,112,0.4)"
         },
         "mode": "lines",
         "name": "Lower Bound",
         "showlegend": false,
         "type": "scatter",
         "x": [
          4,
          8,
          12,
          16,
          20,
          24,
          28,
          32,
          36
         ],
         "xaxis": "x9",
         "y": [
          28.93720418425644,
          43.086898168385396,
          65.77270727639866,
          67.84823928456086,
          60.514683188109494,
          69.45235318281235,
          63.955191908826016,
          69.6601452226636,
          null
         ],
         "yaxis": "y9"
        },
        {
         "legendgroup": "thresh3_twoport",
         "line": {
          "color": "darkgrey"
         },
         "mode": "lines",
         "name": "thresh3_twoport",
         "opacity": 0.8,
         "showlegend": false,
         "type": "scatter",
         "x": [
          4,
          8,
          12,
          16,
          20,
          24,
          28,
          32,
          36,
          40,
          44,
          48,
          52
         ],
         "xaxis": "x10",
         "y": [
          39.858058608058606,
          63.68055555555555,
          90.27777777777777,
          90.27777777777777,
          82.9861111111111,
          83.05555555555556,
          97.22222222222221,
          89.44444444444444,
          87.6984126984127,
          70.69444444444444,
          53.56150793650793,
          73.22916666666666,
          55.20833333333333
         ],
         "yaxis": "y10"
        },
        {
         "legendgroup": "thresh3_twoport",
         "line": {
          "width": 0
         },
         "marker": {
          "color": "rgba(169,169,169,0.4)"
         },
         "mode": "lines",
         "name": "Upper Bound",
         "showlegend": false,
         "type": "scatter",
         "x": [
          4,
          8,
          12,
          16,
          20,
          24,
          28,
          32,
          36,
          40,
          44,
          48,
          52
         ],
         "xaxis": "x10",
         "y": [
          45.46565356440436,
          74.89986382685373,
          96.33180408825093,
          96.33180408825093,
          87.33679308546584,
          89.1476978331837,
          100,
          94.74410667453859,
          92.68248281233352,
          74.42381155058266,
          55.80587481764678,
          75.185356391806,
          59.4609196923319
         ],
         "yaxis": "y10"
        },
        {
         "fill": "tonexty",
         "fillcolor": "rgba(169,169,169,0.4)",
         "legendgroup": "thresh3_twoport",
         "line": {
          "width": 0
         },
         "marker": {
          "color": "rgba(169,169,169,0.4)"
         },
         "mode": "lines",
         "name": "Lower Bound",
         "showlegend": false,
         "type": "scatter",
         "x": [
          4,
          8,
          12,
          16,
          20,
          24,
          28,
          32,
          36,
          40,
          44,
          48,
          52
         ],
         "xaxis": "x10",
         "y": [
          34.25046365171285,
          52.46124728425737,
          84.22375146730461,
          84.22375146730461,
          78.63542913675636,
          76.96341327792742,
          94.44444444444443,
          84.1447822143503,
          82.71434258449187,
          66.96507733830623,
          51.31714105536908,
          71.27297694152732,
          50.95574697433476
         ],
         "yaxis": "y10"
        },
        {
         "legendgroup": "thresh5_twoport",
         "line": {
          "color": "midnightblue"
         },
         "mode": "lines",
         "name": "thresh5_twoport",
         "opacity": 0.8,
         "showlegend": false,
         "type": "scatter",
         "x": [
          4,
          8,
          12,
          16,
          20,
          24,
          28,
          32,
          36
         ],
         "xaxis": "x10",
         "y": [
          48.81734006734007,
          64.00974025974025,
          76.49216524216524,
          84.09722222222221,
          85.55555555555554,
          87.6190476190476,
          83.10185185185185,
          68.88888888888889,
          62.49999999999999
         ],
         "yaxis": "y10"
        },
        {
         "legendgroup": "thresh5_twoport",
         "line": {
          "width": 0
         },
         "marker": {
          "color": "rgba(25,25,112,0.4)"
         },
         "mode": "lines",
         "name": "Upper Bound",
         "showlegend": false,
         "type": "scatter",
         "x": [
          4,
          8,
          12,
          16,
          20,
          24,
          28,
          32,
          36
         ],
         "xaxis": "x10",
         "y": [
          57.83292875574384,
          78.91677859209712,
          79.37546084856868,
          86.47360258781508,
          93.02979113726316,
          91.32549029486844,
          96.0586129344042,
          80.28793584926844,
          65.90206908719885
         ],
         "yaxis": "y10"
        },
        {
         "fill": "tonexty",
         "fillcolor": "rgba(25,25,112,0.4)",
         "legendgroup": "thresh5_twoport",
         "line": {
          "width": 0
         },
         "marker": {
          "color": "rgba(25,25,112,0.4)"
         },
         "mode": "lines",
         "name": "Lower Bound",
         "showlegend": false,
         "type": "scatter",
         "x": [
          4,
          8,
          12,
          16,
          20,
          24,
          28,
          32,
          36
         ],
         "xaxis": "x10",
         "y": [
          39.801751378936295,
          49.10270192738339,
          73.6088696357618,
          81.72084185662935,
          78.08131997384793,
          83.91260494322677,
          70.1450907692995,
          57.489841928509335,
          59.09793091280114
         ],
         "yaxis": "y10"
        },
        {
         "legendgroup": "thresh3_twoport",
         "line": {
          "color": "darkgrey"
         },
         "mode": "lines",
         "name": "thresh3_twoport",
         "opacity": 0.8,
         "showlegend": false,
         "type": "scatter",
         "x": [
          4,
          8,
          12,
          16,
          20,
          24,
          28,
          32,
          36,
          40,
          44,
          48
         ],
         "xaxis": "x11",
         "y": [
          36.37012497306615,
          75.51587301587301,
          91.1111111111111,
          79.76190476190476,
          84.72222222222221,
          81.6017316017316,
          90.97222222222221,
          94.44444444444444,
          90.27777777777777,
          79.16666666666666,
          74.44444444444444,
          80.69444444444444
         ],
         "yaxis": "y11"
        },
        {
         "legendgroup": "thresh3_twoport",
         "line": {
          "width": 0
         },
         "marker": {
          "color": "rgba(169,169,169,0.4)"
         },
         "mode": "lines",
         "name": "Upper Bound",
         "showlegend": false,
         "type": "scatter",
         "x": [
          4,
          8,
          12,
          16,
          20,
          24,
          28,
          32,
          36,
          40,
          44,
          48
         ],
         "xaxis": "x11",
         "y": [
          42.30748986561731,
          80.65303795315549,
          96.41077334120524,
          82.240078570793,
          93.17050351430308,
          90.92229507350437,
          96.39600671937961,
          97.22222222222223,
          91.66666666666666,
          85.95377317937255,
          78.45061252829332,
          85.68479006200603
         ],
         "yaxis": "y11"
        },
        {
         "fill": "tonexty",
         "fillcolor": "rgba(169,169,169,0.4)",
         "legendgroup": "thresh3_twoport",
         "line": {
          "width": 0
         },
         "marker": {
          "color": "rgba(169,169,169,0.4)"
         },
         "mode": "lines",
         "name": "Lower Bound",
         "showlegend": false,
         "type": "scatter",
         "x": [
          4,
          8,
          12,
          16,
          20,
          24,
          28,
          32,
          36,
          40,
          44,
          48
         ],
         "xaxis": "x11",
         "y": [
          30.432760080514985,
          70.37870807859053,
          85.81144888101696,
          77.28373095301652,
          76.27394093014135,
          72.28116812995883,
          85.54843772506482,
          91.66666666666666,
          88.88888888888889,
          72.37956015396077,
          70.43827636059557,
          75.70409882688286
         ],
         "yaxis": "y11"
        },
        {
         "legendgroup": "thresh5_twoport",
         "line": {
          "color": "midnightblue"
         },
         "mode": "lines",
         "name": "thresh5_twoport",
         "opacity": 0.8,
         "showlegend": false,
         "type": "scatter",
         "x": [
          4,
          8,
          12,
          16,
          20,
          24,
          28,
          32,
          36,
          40,
          44
         ],
         "xaxis": "x11",
         "y": [
          49.64743589743589,
          74.90079365079364,
          77.87698412698411,
          88.88888888888887,
          71.66666666666667,
          75,
          77.91666666666666,
          77.08333333333333,
          83.33333333333333,
          87.70833333333333,
          71.52777777777777
         ],
         "yaxis": "y11"
        },
        {
         "legendgroup": "thresh5_twoport",
         "line": {
          "width": 0
         },
         "marker": {
          "color": "rgba(25,25,112,0.4)"
         },
         "mode": "lines",
         "name": "Upper Bound",
         "showlegend": false,
         "type": "scatter",
         "x": [
          4,
          8,
          12,
          16,
          20,
          24,
          28,
          32,
          36,
          40,
          44
         ],
         "xaxis": "x11",
         "y": [
          59.42230626078118,
          80.43238169025818,
          88.69320629581658,
          91.66666666666664,
          73.40138833288844,
          87.5,
          89.1434946544229,
          95.79471331292706,
          96.94160968212877,
          90.94029896617224,
          85.70306564110635
         ],
         "yaxis": "y11"
        },
        {
         "fill": "tonexty",
         "fillcolor": "rgba(25,25,112,0.4)",
         "legendgroup": "thresh5_twoport",
         "line": {
          "width": 0
         },
         "marker": {
          "color": "rgba(25,25,112,0.4)"
         },
         "mode": "lines",
         "name": "Lower Bound",
         "showlegend": false,
         "type": "scatter",
         "x": [
          4,
          8,
          12,
          16,
          20,
          24,
          28,
          32,
          36,
          40,
          44
         ],
         "xaxis": "x11",
         "y": [
          39.872565534090604,
          69.36920561132911,
          67.06076195815164,
          86.1111111111111,
          69.9319450004449,
          62.49999999999999,
          66.68983867891042,
          58.371953353739606,
          69.72505698453789,
          84.47636770049442,
          57.352489914449194
         ],
         "yaxis": "y11"
        },
        {
         "legendgroup": "thresh3_twoport",
         "line": {
          "color": "darkgrey"
         },
         "mode": "lines",
         "name": "thresh3_twoport",
         "opacity": 0.8,
         "showlegend": false,
         "type": "scatter",
         "x": [
          4,
          8,
          12,
          16,
          20,
          24,
          28,
          32,
          36,
          40,
          44,
          48,
          52,
          56,
          60
         ],
         "xaxis": "x12",
         "y": [
          32.26648351648351,
          58.96825396825397,
          73.07539682539682,
          76.25,
          84.64285714285714,
          72.63888888888889,
          91.38888888888887,
          88.88888888888887,
          79.16666666666667,
          76.78571428571428,
          78.37301587301587,
          72.31481481481482,
          81.25,
          83.33333333333333,
          87.5
         ],
         "yaxis": "y12"
        },
        {
         "legendgroup": "thresh3_twoport",
         "line": {
          "width": 0
         },
         "marker": {
          "color": "rgba(169,169,169,0.4)"
         },
         "mode": "lines",
         "name": "Upper Bound",
         "showlegend": false,
         "type": "scatter",
         "x": [
          4,
          8,
          12,
          16,
          20,
          24,
          28,
          32,
          36,
          40,
          44,
          48,
          52,
          56,
          60
         ],
         "xaxis": "x12",
         "y": [
          39.32195111096216,
          81.4006851956866,
          92.27913246352352,
          86.01281209488332,
          86.0730810548365,
          79.8811154580465,
          95.70115963785,
          96.23819808629051,
          90.19063046276914,
          84.91095048787432,
          93.43278802313169,
          78.7304860004889,
          86.35310363079829,
          90.13747150773104,
          97.70620726159657
         ],
         "yaxis": "y12"
        },
        {
         "fill": "tonexty",
         "fillcolor": "rgba(169,169,169,0.4)",
         "legendgroup": "thresh3_twoport",
         "line": {
          "width": 0
         },
         "marker": {
          "color": "rgba(169,169,169,0.4)"
         },
         "mode": "lines",
         "name": "Lower Bound",
         "showlegend": false,
         "type": "scatter",
         "x": [
          4,
          8,
          12,
          16,
          20,
          24,
          28,
          32,
          36,
          40,
          44,
          48,
          52,
          56,
          60
         ],
         "xaxis": "x12",
         "y": [
          25.211015922004858,
          36.53582274082134,
          53.871661187270114,
          66.48718790511668,
          83.21263323087777,
          65.39666231973128,
          87.07661813992775,
          81.53957969148723,
          68.14270287056421,
          68.66047808355424,
          63.313243722900054,
          65.89914362914075,
          76.14689636920171,
          76.52919515893562,
          77.29379273840343
         ],
         "yaxis": "y12"
        },
        {
         "legendgroup": "thresh5_twoport",
         "line": {
          "color": "midnightblue"
         },
         "mode": "lines",
         "name": "thresh5_twoport",
         "opacity": 0.8,
         "showlegend": false,
         "type": "scatter",
         "x": [
          4,
          8,
          12,
          16,
          20,
          24,
          28,
          32,
          36,
          40,
          44,
          48
         ],
         "xaxis": "x12",
         "y": [
          72.84493284493284,
          85.27777777777777,
          94.44444444444444,
          97.22222222222221,
          93.05555555555554,
          88.19444444444444,
          90.55555555555554,
          77.63888888888889,
          87.5,
          81.25,
          58.33333333333333,
          66.96428571428572
         ],
         "yaxis": "y12"
        },
        {
         "legendgroup": "thresh5_twoport",
         "line": {
          "width": 0
         },
         "marker": {
          "color": "rgba(25,25,112,0.4)"
         },
         "mode": "lines",
         "name": "Upper Bound",
         "showlegend": false,
         "type": "scatter",
         "x": [
          4,
          8,
          12,
          16,
          20,
          24,
          28,
          32,
          36,
          40,
          44,
          48
         ],
         "xaxis": "x12",
         "y": [
          79.42900856963315,
          92.64281865753492,
          97.22222222222223,
          100,
          96.73021015425637,
          94.36680167869139,
          96.35572583828363,
          78.88631422086179,
          92.60310363079829,
          89.75517271799714,
          null,
          null
         ],
         "yaxis": "y12"
        },
        {
         "fill": "tonexty",
         "fillcolor": "rgba(25,25,112,0.4)",
         "legendgroup": "thresh5_twoport",
         "line": {
          "width": 0
         },
         "marker": {
          "color": "rgba(25,25,112,0.4)"
         },
         "mode": "lines",
         "name": "Lower Bound",
         "showlegend": false,
         "type": "scatter",
         "x": [
          4,
          8,
          12,
          16,
          20,
          24,
          28,
          32,
          36,
          40,
          44,
          48
         ],
         "xaxis": "x12",
         "y": [
          66.26085712023253,
          77.91273689802063,
          91.66666666666666,
          94.44444444444443,
          89.38090095685472,
          82.0220872101975,
          84.75538527282745,
          76.39146355691598,
          82.39689636920171,
          72.74482728200286,
          null,
          null
         ],
         "yaxis": "y12"
        },
        {
         "legendgroup": "thresh3_twoport",
         "line": {
          "color": "darkgrey"
         },
         "mode": "lines",
         "name": "thresh3_twoport",
         "opacity": 0.8,
         "showlegend": false,
         "type": "scatter",
         "x": [
          4,
          8,
          12,
          16,
          20,
          24,
          28,
          32,
          36,
          40,
          44,
          48
         ],
         "xaxis": "x13",
         "y": [
          27.030423280423282,
          36.15079365079365,
          49.64285714285714,
          49.72222222222222,
          70,
          73.05555555555556,
          67.91666666666667,
          73.6111111111111,
          61.458333333333336,
          63.01587301587301,
          36.666666666666664,
          53.910984848484844
         ],
         "yaxis": "y13"
        },
        {
         "legendgroup": "thresh3_twoport",
         "line": {
          "width": 0
         },
         "marker": {
          "color": "rgba(169,169,169,0.4)"
         },
         "mode": "lines",
         "name": "Upper Bound",
         "showlegend": false,
         "type": "scatter",
         "x": [
          4,
          8,
          12,
          16,
          20,
          24,
          28,
          32,
          36,
          40,
          44,
          48
         ],
         "xaxis": "x13",
         "y": [
          29.072735902017065,
          46.02106262507144,
          66.48841073236441,
          67.91825692795813,
          85.612494995996,
          82.87255391504016,
          73.98819249844288,
          83.33333333333331,
          64.58333333333334,
          77.00524873121549,
          57.37182794842691,
          62.62492089683283
         ],
         "yaxis": "y13"
        },
        {
         "fill": "tonexty",
         "fillcolor": "rgba(169,169,169,0.4)",
         "legendgroup": "thresh3_twoport",
         "line": {
          "width": 0
         },
         "marker": {
          "color": "rgba(169,169,169,0.4)"
         },
         "mode": "lines",
         "name": "Lower Bound",
         "showlegend": false,
         "type": "scatter",
         "x": [
          4,
          8,
          12,
          16,
          20,
          24,
          28,
          32,
          36,
          40,
          44,
          48
         ],
         "xaxis": "x13",
         "y": [
          24.9881106588295,
          26.28052467651587,
          32.79730355334986,
          31.526187516486313,
          54.387505004004005,
          63.23855719607095,
          61.84514083489045,
          63.88888888888888,
          58.333333333333336,
          49.02649730053054,
          15.961505384906417,
          45.197048800136855
         ],
         "yaxis": "y13"
        },
        {
         "legendgroup": "thresh5_twoport",
         "line": {
          "color": "midnightblue"
         },
         "mode": "lines",
         "name": "thresh5_twoport",
         "opacity": 0.8,
         "showlegend": false,
         "type": "scatter",
         "x": [
          4,
          8,
          12,
          16,
          20,
          24,
          28,
          32,
          36,
          40,
          44,
          48,
          52,
          56
         ],
         "xaxis": "x13",
         "y": [
          20.01984126984127,
          26.95906432748538,
          27.083333333333332,
          37.77777777777778,
          43.35628695922813,
          61.32575757575757,
          73.56481481481481,
          83.05555555555556,
          79.72222222222221,
          93.75,
          51.041666666666664,
          75,
          69.69696969696969,
          60.11904761904762
         ],
         "yaxis": "y13"
        },
        {
         "legendgroup": "thresh5_twoport",
         "line": {
          "width": 0
         },
         "marker": {
          "color": "rgba(25,25,112,0.4)"
         },
         "mode": "lines",
         "name": "Upper Bound",
         "showlegend": false,
         "type": "scatter",
         "x": [
          4,
          8,
          12,
          16,
          20,
          24,
          28,
          32,
          36,
          40,
          44,
          48,
          52,
          56
         ],
         "xaxis": "x13",
         "y": [
          21.895969468254382,
          37.069334485540274,
          45.600405036074136,
          61.56500899175391,
          54.37709802899586,
          71.51275740714749,
          88.64994987306508,
          93.37828009781225,
          91.2725682701621,
          98.85310363079829,
          65.50046028726182,
          null,
          null,
          null
         ],
         "yaxis": "y13"
        },
        {
         "fill": "tonexty",
         "fillcolor": "rgba(25,25,112,0.4)",
         "legendgroup": "thresh5_twoport",
         "line": {
          "width": 0
         },
         "marker": {
          "color": "rgba(25,25,112,0.4)"
         },
         "mode": "lines",
         "name": "Lower Bound",
         "showlegend": false,
         "type": "scatter",
         "x": [
          4,
          8,
          12,
          16,
          20,
          24,
          28,
          32,
          36,
          40,
          44,
          48,
          52,
          56
         ],
         "xaxis": "x13",
         "y": [
          18.143713071428156,
          16.848794169430484,
          8.566261630592525,
          13.990546563801644,
          32.3354758894604,
          51.13875774436765,
          58.479679756564536,
          72.73283101329886,
          68.17187617428233,
          88.64689636920171,
          36.58287304607151,
          null,
          null,
          null
         ],
         "yaxis": "y13"
        },
        {
         "legendgroup": "thresh3_twoport",
         "line": {
          "color": "darkgrey"
         },
         "mode": "lines",
         "name": "thresh3_twoport",
         "opacity": 0.8,
         "showlegend": false,
         "type": "scatter",
         "x": [
          4,
          8,
          12,
          16,
          20,
          24,
          28,
          32,
          36,
          40,
          44,
          48
         ],
         "xaxis": "x14",
         "y": [
          29.907407407407405,
          68.33333333333333,
          72.12301587301586,
          85.11904761904762,
          76.94444444444444,
          71.08585858585859,
          74.16666666666666,
          54.791666666666664,
          72.91666666666666,
          79.6875,
          79.16666666666666,
          75
         ],
         "yaxis": "y14"
        },
        {
         "legendgroup": "thresh3_twoport",
         "line": {
          "width": 0
         },
         "marker": {
          "color": "rgba(169,169,169,0.4)"
         },
         "mode": "lines",
         "name": "Upper Bound",
         "showlegend": false,
         "type": "scatter",
         "x": [
          4,
          8,
          12,
          16,
          20,
          24,
          28,
          32,
          36,
          40,
          44,
          48
         ],
         "xaxis": "x14",
         "y": [
          33.251634326368965,
          83.15480174661566,
          84.57370912819822,
          100,
          81.87646691793464,
          81.92019255579815,
          82.94637812737727,
          67.12094058569248,
          95.03011573345924,
          82.664310451299,
          null,
          null
         ],
         "yaxis": "y14"
        },
        {
         "fill": "tonexty",
         "fillcolor": "rgba(169,169,169,0.4)",
         "legendgroup": "thresh3_twoport",
         "line": {
          "width": 0
         },
         "marker": {
          "color": "rgba(169,169,169,0.4)"
         },
         "mode": "lines",
         "name": "Lower Bound",
         "showlegend": false,
         "type": "scatter",
         "x": [
          4,
          8,
          12,
          16,
          20,
          24,
          28,
          32,
          36,
          40,
          44,
          48
         ],
         "xaxis": "x14",
         "y": [
          26.563180488445845,
          53.511864920050996,
          59.6723226178335,
          70.23809523809524,
          72.01242197095425,
          60.25152461591902,
          65.38695520595604,
          42.46239274764085,
          50.803217599874074,
          76.710689548701,
          null,
          null
         ],
         "yaxis": "y14"
        },
        {
         "legendgroup": "thresh5_twoport",
         "line": {
          "color": "midnightblue"
         },
         "mode": "lines",
         "name": "thresh5_twoport",
         "opacity": 0.8,
         "showlegend": false,
         "type": "scatter",
         "x": [
          4,
          8,
          12,
          16,
          20,
          24,
          28,
          32,
          36,
          40,
          44,
          48
         ],
         "xaxis": "x14",
         "y": [
          27.38095238095238,
          46.666666666666664,
          61.458333333333336,
          75.03968253968253,
          85.31746031746032,
          86.1111111111111,
          92.77777777777777,
          86.1111111111111,
          86.25,
          83.33333333333333,
          70.83333333333333,
          67.85714285714285
         ],
         "yaxis": "y14"
        },
        {
         "legendgroup": "thresh5_twoport",
         "line": {
          "width": 0
         },
         "marker": {
          "color": "rgba(25,25,112,0.4)"
         },
         "mode": "lines",
         "name": "Upper Bound",
         "showlegend": false,
         "type": "scatter",
         "x": [
          4,
          8,
          12,
          16,
          20,
          24,
          28,
          32,
          36,
          40,
          44,
          48
         ],
         "xaxis": "x14",
         "y": [
          29.214633547708257,
          55.36692209075879,
          70.61499337867417,
          79.18665033552118,
          90.52177660658889,
          96.12653132073329,
          93.88888888888889,
          96.12653132073329,
          87.27062072615966,
          90.13747150773104,
          81.0395405949299,
          null
         ],
         "yaxis": "y14"
        },
        {
         "fill": "tonexty",
         "fillcolor": "rgba(25,25,112,0.4)",
         "legendgroup": "thresh5_twoport",
         "line": {
          "width": 0
         },
         "marker": {
          "color": "rgba(25,25,112,0.4)"
         },
         "mode": "lines",
         "name": "Lower Bound",
         "showlegend": false,
         "type": "scatter",
         "x": [
          4,
          8,
          12,
          16,
          20,
          24,
          28,
          32,
          36,
          40,
          44,
          48
         ],
         "xaxis": "x14",
         "y": [
          25.547271214196503,
          37.96641124257454,
          52.30167328799251,
          70.89271474384388,
          80.11314402833175,
          76.09569090148891,
          91.66666666666666,
          76.09569090148891,
          85.22937927384034,
          76.52919515893562,
          60.627126071736754,
          null
         ],
         "yaxis": "y14"
        }
       ],
       "layout": {
        "annotations": [
         {
          "font": {
           "size": 22
          },
          "showarrow": false,
          "text": "Day 1",
          "x": 0.06944444444444445,
          "xanchor": "center",
          "xref": "paper",
          "y": 1,
          "yanchor": "bottom",
          "yref": "paper"
         },
         {
          "font": {
           "size": 22
          },
          "showarrow": false,
          "text": "Day 2",
          "x": 0.24166666666666667,
          "xanchor": "center",
          "xref": "paper",
          "y": 1,
          "yanchor": "bottom",
          "yref": "paper"
         },
         {
          "font": {
           "size": 22
          },
          "showarrow": false,
          "text": "Day 3",
          "x": 0.41388888888888886,
          "xanchor": "center",
          "xref": "paper",
          "y": 1,
          "yanchor": "bottom",
          "yref": "paper"
         },
         {
          "font": {
           "size": 22
          },
          "showarrow": false,
          "text": "Day 4",
          "x": 0.5861111111111112,
          "xanchor": "center",
          "xref": "paper",
          "y": 1,
          "yanchor": "bottom",
          "yref": "paper"
         },
         {
          "font": {
           "size": 22
          },
          "showarrow": false,
          "text": "Day 5",
          "x": 0.7583333333333333,
          "xanchor": "center",
          "xref": "paper",
          "y": 1,
          "yanchor": "bottom",
          "yref": "paper"
         },
         {
          "font": {
           "size": 22
          },
          "showarrow": false,
          "text": "Day 6",
          "x": 0.9305555555555556,
          "xanchor": "center",
          "xref": "paper",
          "y": 1,
          "yanchor": "bottom",
          "yref": "paper"
         },
         {
          "font": {
           "size": 22
          },
          "showarrow": false,
          "text": "Day 7",
          "x": 0.06944444444444445,
          "xanchor": "center",
          "xref": "paper",
          "y": 0.6111111111111112,
          "yanchor": "bottom",
          "yref": "paper"
         },
         {
          "font": {
           "size": 22
          },
          "showarrow": false,
          "text": "Day 8",
          "x": 0.24166666666666667,
          "xanchor": "center",
          "xref": "paper",
          "y": 0.6111111111111112,
          "yanchor": "bottom",
          "yref": "paper"
         },
         {
          "font": {
           "size": 22
          },
          "showarrow": false,
          "text": "Day 9",
          "x": 0.41388888888888886,
          "xanchor": "center",
          "xref": "paper",
          "y": 0.6111111111111112,
          "yanchor": "bottom",
          "yref": "paper"
         },
         {
          "font": {
           "size": 22
          },
          "showarrow": false,
          "text": "Day 10",
          "x": 0.5861111111111112,
          "xanchor": "center",
          "xref": "paper",
          "y": 0.6111111111111112,
          "yanchor": "bottom",
          "yref": "paper"
         },
         {
          "font": {
           "size": 22
          },
          "showarrow": false,
          "text": "Day 11",
          "x": 0.7583333333333333,
          "xanchor": "center",
          "xref": "paper",
          "y": 0.6111111111111112,
          "yanchor": "bottom",
          "yref": "paper"
         },
         {
          "font": {
           "size": 22
          },
          "showarrow": false,
          "text": "Day 12",
          "x": 0.9305555555555556,
          "xanchor": "center",
          "xref": "paper",
          "y": 0.6111111111111112,
          "yanchor": "bottom",
          "yref": "paper"
         },
         {
          "font": {
           "size": 22
          },
          "showarrow": false,
          "text": "Day 13",
          "x": 0.06944444444444445,
          "xanchor": "center",
          "xref": "paper",
          "y": 0.22222222222222224,
          "yanchor": "bottom",
          "yref": "paper"
         },
         {
          "font": {
           "size": 22
          },
          "showarrow": false,
          "text": "Day 14",
          "x": 0.24166666666666667,
          "xanchor": "center",
          "xref": "paper",
          "y": 0.22222222222222224,
          "yanchor": "bottom",
          "yref": "paper"
         }
        ],
        "font": {
         "family": "Arial",
         "size": 22
        },
        "height": 800,
        "shapes": [
         {
          "line": {
           "color": "darkgrey",
           "dash": "dash",
           "width": 1
          },
          "opacity": 1,
          "type": "line",
          "x0": 0,
          "x1": 1,
          "xref": "x domain",
          "y0": 75,
          "y1": 75,
          "yref": "y"
         },
         {
          "line": {
           "color": "darkgrey",
           "dash": "dash",
           "width": 1
          },
          "opacity": 1,
          "type": "line",
          "x0": 0,
          "x1": 1,
          "xref": "x2 domain",
          "y0": 75,
          "y1": 75,
          "yref": "y2"
         },
         {
          "line": {
           "color": "darkgrey",
           "dash": "dash",
           "width": 1
          },
          "opacity": 1,
          "type": "line",
          "x0": 0,
          "x1": 1,
          "xref": "x3 domain",
          "y0": 75,
          "y1": 75,
          "yref": "y3"
         },
         {
          "line": {
           "color": "darkgrey",
           "dash": "dash",
           "width": 1
          },
          "opacity": 1,
          "type": "line",
          "x0": 0,
          "x1": 1,
          "xref": "x4 domain",
          "y0": 75,
          "y1": 75,
          "yref": "y4"
         },
         {
          "line": {
           "color": "darkgrey",
           "dash": "dash",
           "width": 1
          },
          "opacity": 1,
          "type": "line",
          "x0": 0,
          "x1": 1,
          "xref": "x5 domain",
          "y0": 75,
          "y1": 75,
          "yref": "y5"
         },
         {
          "line": {
           "color": "darkgrey",
           "dash": "dash",
           "width": 1
          },
          "opacity": 1,
          "type": "line",
          "x0": 0,
          "x1": 1,
          "xref": "x6 domain",
          "y0": 75,
          "y1": 75,
          "yref": "y6"
         },
         {
          "line": {
           "color": "darkgrey",
           "dash": "dash",
           "width": 1
          },
          "opacity": 1,
          "type": "line",
          "x0": 0,
          "x1": 1,
          "xref": "x7 domain",
          "y0": 75,
          "y1": 75,
          "yref": "y7"
         },
         {
          "line": {
           "color": "darkgrey",
           "dash": "dash",
           "width": 1
          },
          "opacity": 1,
          "type": "line",
          "x0": 0,
          "x1": 1,
          "xref": "x8 domain",
          "y0": 75,
          "y1": 75,
          "yref": "y8"
         },
         {
          "line": {
           "color": "darkgrey",
           "dash": "dash",
           "width": 1
          },
          "opacity": 1,
          "type": "line",
          "x0": 0,
          "x1": 1,
          "xref": "x9 domain",
          "y0": 75,
          "y1": 75,
          "yref": "y9"
         },
         {
          "line": {
           "color": "darkgrey",
           "dash": "dash",
           "width": 1
          },
          "opacity": 1,
          "type": "line",
          "x0": 0,
          "x1": 1,
          "xref": "x10 domain",
          "y0": 75,
          "y1": 75,
          "yref": "y10"
         },
         {
          "line": {
           "color": "darkgrey",
           "dash": "dash",
           "width": 1
          },
          "opacity": 1,
          "type": "line",
          "x0": 0,
          "x1": 1,
          "xref": "x11 domain",
          "y0": 75,
          "y1": 75,
          "yref": "y11"
         },
         {
          "line": {
           "color": "darkgrey",
           "dash": "dash",
           "width": 1
          },
          "opacity": 1,
          "type": "line",
          "x0": 0,
          "x1": 1,
          "xref": "x12 domain",
          "y0": 75,
          "y1": 75,
          "yref": "y12"
         },
         {
          "line": {
           "color": "darkgrey",
           "dash": "dash",
           "width": 1
          },
          "opacity": 1,
          "type": "line",
          "x0": 0,
          "x1": 1,
          "xref": "x13 domain",
          "y0": 75,
          "y1": 75,
          "yref": "y13"
         },
         {
          "line": {
           "color": "darkgrey",
           "dash": "dash",
           "width": 1
          },
          "opacity": 1,
          "type": "line",
          "x0": 0,
          "x1": 1,
          "xref": "x14 domain",
          "y0": 75,
          "y1": 75,
          "yref": "y14"
         },
         {
          "line": {
           "color": "darkgrey",
           "dash": "dash",
           "width": 1
          },
          "opacity": 1,
          "type": "line",
          "x0": 0,
          "x1": 1,
          "xref": "x domain",
          "y0": 25,
          "y1": 25,
          "yref": "y"
         },
         {
          "line": {
           "color": "darkgrey",
           "dash": "dash",
           "width": 1
          },
          "opacity": 1,
          "type": "line",
          "x0": 0,
          "x1": 1,
          "xref": "x2 domain",
          "y0": 25,
          "y1": 25,
          "yref": "y2"
         },
         {
          "line": {
           "color": "darkgrey",
           "dash": "dash",
           "width": 1
          },
          "opacity": 1,
          "type": "line",
          "x0": 0,
          "x1": 1,
          "xref": "x3 domain",
          "y0": 25,
          "y1": 25,
          "yref": "y3"
         },
         {
          "line": {
           "color": "darkgrey",
           "dash": "dash",
           "width": 1
          },
          "opacity": 1,
          "type": "line",
          "x0": 0,
          "x1": 1,
          "xref": "x4 domain",
          "y0": 25,
          "y1": 25,
          "yref": "y4"
         },
         {
          "line": {
           "color": "darkgrey",
           "dash": "dash",
           "width": 1
          },
          "opacity": 1,
          "type": "line",
          "x0": 0,
          "x1": 1,
          "xref": "x5 domain",
          "y0": 25,
          "y1": 25,
          "yref": "y5"
         },
         {
          "line": {
           "color": "darkgrey",
           "dash": "dash",
           "width": 1
          },
          "opacity": 1,
          "type": "line",
          "x0": 0,
          "x1": 1,
          "xref": "x6 domain",
          "y0": 25,
          "y1": 25,
          "yref": "y6"
         },
         {
          "line": {
           "color": "darkgrey",
           "dash": "dash",
           "width": 1
          },
          "opacity": 1,
          "type": "line",
          "x0": 0,
          "x1": 1,
          "xref": "x7 domain",
          "y0": 25,
          "y1": 25,
          "yref": "y7"
         },
         {
          "line": {
           "color": "darkgrey",
           "dash": "dash",
           "width": 1
          },
          "opacity": 1,
          "type": "line",
          "x0": 0,
          "x1": 1,
          "xref": "x8 domain",
          "y0": 25,
          "y1": 25,
          "yref": "y8"
         },
         {
          "line": {
           "color": "darkgrey",
           "dash": "dash",
           "width": 1
          },
          "opacity": 1,
          "type": "line",
          "x0": 0,
          "x1": 1,
          "xref": "x9 domain",
          "y0": 25,
          "y1": 25,
          "yref": "y9"
         },
         {
          "line": {
           "color": "darkgrey",
           "dash": "dash",
           "width": 1
          },
          "opacity": 1,
          "type": "line",
          "x0": 0,
          "x1": 1,
          "xref": "x10 domain",
          "y0": 25,
          "y1": 25,
          "yref": "y10"
         },
         {
          "line": {
           "color": "darkgrey",
           "dash": "dash",
           "width": 1
          },
          "opacity": 1,
          "type": "line",
          "x0": 0,
          "x1": 1,
          "xref": "x11 domain",
          "y0": 25,
          "y1": 25,
          "yref": "y11"
         },
         {
          "line": {
           "color": "darkgrey",
           "dash": "dash",
           "width": 1
          },
          "opacity": 1,
          "type": "line",
          "x0": 0,
          "x1": 1,
          "xref": "x12 domain",
          "y0": 25,
          "y1": 25,
          "yref": "y12"
         },
         {
          "line": {
           "color": "darkgrey",
           "dash": "dash",
           "width": 1
          },
          "opacity": 1,
          "type": "line",
          "x0": 0,
          "x1": 1,
          "xref": "x13 domain",
          "y0": 25,
          "y1": 25,
          "yref": "y13"
         },
         {
          "line": {
           "color": "darkgrey",
           "dash": "dash",
           "width": 1
          },
          "opacity": 1,
          "type": "line",
          "x0": 0,
          "x1": 1,
          "xref": "x14 domain",
          "y0": 25,
          "y1": 25,
          "yref": "y14"
         }
        ],
        "template": {
         "data": {
          "bar": [
           {
            "error_x": {
             "color": "rgb(36,36,36)"
            },
            "error_y": {
             "color": "rgb(36,36,36)"
            },
            "marker": {
             "line": {
              "color": "white",
              "width": 0.5
             },
             "pattern": {
              "fillmode": "overlay",
              "size": 10,
              "solidity": 0.2
             }
            },
            "type": "bar"
           }
          ],
          "barpolar": [
           {
            "marker": {
             "line": {
              "color": "white",
              "width": 0.5
             },
             "pattern": {
              "fillmode": "overlay",
              "size": 10,
              "solidity": 0.2
             }
            },
            "type": "barpolar"
           }
          ],
          "carpet": [
           {
            "aaxis": {
             "endlinecolor": "rgb(36,36,36)",
             "gridcolor": "white",
             "linecolor": "white",
             "minorgridcolor": "white",
             "startlinecolor": "rgb(36,36,36)"
            },
            "baxis": {
             "endlinecolor": "rgb(36,36,36)",
             "gridcolor": "white",
             "linecolor": "white",
             "minorgridcolor": "white",
             "startlinecolor": "rgb(36,36,36)"
            },
            "type": "carpet"
           }
          ],
          "choropleth": [
           {
            "colorbar": {
             "outlinewidth": 1,
             "tickcolor": "rgb(36,36,36)",
             "ticks": "outside"
            },
            "type": "choropleth"
           }
          ],
          "contour": [
           {
            "colorbar": {
             "outlinewidth": 1,
             "tickcolor": "rgb(36,36,36)",
             "ticks": "outside"
            },
            "colorscale": [
             [
              0,
              "#440154"
             ],
             [
              0.1111111111111111,
              "#482878"
             ],
             [
              0.2222222222222222,
              "#3e4989"
             ],
             [
              0.3333333333333333,
              "#31688e"
             ],
             [
              0.4444444444444444,
              "#26828e"
             ],
             [
              0.5555555555555556,
              "#1f9e89"
             ],
             [
              0.6666666666666666,
              "#35b779"
             ],
             [
              0.7777777777777778,
              "#6ece58"
             ],
             [
              0.8888888888888888,
              "#b5de2b"
             ],
             [
              1,
              "#fde725"
             ]
            ],
            "type": "contour"
           }
          ],
          "contourcarpet": [
           {
            "colorbar": {
             "outlinewidth": 1,
             "tickcolor": "rgb(36,36,36)",
             "ticks": "outside"
            },
            "type": "contourcarpet"
           }
          ],
          "heatmap": [
           {
            "colorbar": {
             "outlinewidth": 1,
             "tickcolor": "rgb(36,36,36)",
             "ticks": "outside"
            },
            "colorscale": [
             [
              0,
              "#440154"
             ],
             [
              0.1111111111111111,
              "#482878"
             ],
             [
              0.2222222222222222,
              "#3e4989"
             ],
             [
              0.3333333333333333,
              "#31688e"
             ],
             [
              0.4444444444444444,
              "#26828e"
             ],
             [
              0.5555555555555556,
              "#1f9e89"
             ],
             [
              0.6666666666666666,
              "#35b779"
             ],
             [
              0.7777777777777778,
              "#6ece58"
             ],
             [
              0.8888888888888888,
              "#b5de2b"
             ],
             [
              1,
              "#fde725"
             ]
            ],
            "type": "heatmap"
           }
          ],
          "heatmapgl": [
           {
            "colorbar": {
             "outlinewidth": 1,
             "tickcolor": "rgb(36,36,36)",
             "ticks": "outside"
            },
            "colorscale": [
             [
              0,
              "#440154"
             ],
             [
              0.1111111111111111,
              "#482878"
             ],
             [
              0.2222222222222222,
              "#3e4989"
             ],
             [
              0.3333333333333333,
              "#31688e"
             ],
             [
              0.4444444444444444,
              "#26828e"
             ],
             [
              0.5555555555555556,
              "#1f9e89"
             ],
             [
              0.6666666666666666,
              "#35b779"
             ],
             [
              0.7777777777777778,
              "#6ece58"
             ],
             [
              0.8888888888888888,
              "#b5de2b"
             ],
             [
              1,
              "#fde725"
             ]
            ],
            "type": "heatmapgl"
           }
          ],
          "histogram": [
           {
            "marker": {
             "line": {
              "color": "white",
              "width": 0.6
             }
            },
            "type": "histogram"
           }
          ],
          "histogram2d": [
           {
            "colorbar": {
             "outlinewidth": 1,
             "tickcolor": "rgb(36,36,36)",
             "ticks": "outside"
            },
            "colorscale": [
             [
              0,
              "#440154"
             ],
             [
              0.1111111111111111,
              "#482878"
             ],
             [
              0.2222222222222222,
              "#3e4989"
             ],
             [
              0.3333333333333333,
              "#31688e"
             ],
             [
              0.4444444444444444,
              "#26828e"
             ],
             [
              0.5555555555555556,
              "#1f9e89"
             ],
             [
              0.6666666666666666,
              "#35b779"
             ],
             [
              0.7777777777777778,
              "#6ece58"
             ],
             [
              0.8888888888888888,
              "#b5de2b"
             ],
             [
              1,
              "#fde725"
             ]
            ],
            "type": "histogram2d"
           }
          ],
          "histogram2dcontour": [
           {
            "colorbar": {
             "outlinewidth": 1,
             "tickcolor": "rgb(36,36,36)",
             "ticks": "outside"
            },
            "colorscale": [
             [
              0,
              "#440154"
             ],
             [
              0.1111111111111111,
              "#482878"
             ],
             [
              0.2222222222222222,
              "#3e4989"
             ],
             [
              0.3333333333333333,
              "#31688e"
             ],
             [
              0.4444444444444444,
              "#26828e"
             ],
             [
              0.5555555555555556,
              "#1f9e89"
             ],
             [
              0.6666666666666666,
              "#35b779"
             ],
             [
              0.7777777777777778,
              "#6ece58"
             ],
             [
              0.8888888888888888,
              "#b5de2b"
             ],
             [
              1,
              "#fde725"
             ]
            ],
            "type": "histogram2dcontour"
           }
          ],
          "mesh3d": [
           {
            "colorbar": {
             "outlinewidth": 1,
             "tickcolor": "rgb(36,36,36)",
             "ticks": "outside"
            },
            "type": "mesh3d"
           }
          ],
          "parcoords": [
           {
            "line": {
             "colorbar": {
              "outlinewidth": 1,
              "tickcolor": "rgb(36,36,36)",
              "ticks": "outside"
             }
            },
            "type": "parcoords"
           }
          ],
          "pie": [
           {
            "automargin": true,
            "type": "pie"
           }
          ],
          "scatter": [
           {
            "fillpattern": {
             "fillmode": "overlay",
             "size": 10,
             "solidity": 0.2
            },
            "type": "scatter"
           }
          ],
          "scatter3d": [
           {
            "line": {
             "colorbar": {
              "outlinewidth": 1,
              "tickcolor": "rgb(36,36,36)",
              "ticks": "outside"
             }
            },
            "marker": {
             "colorbar": {
              "outlinewidth": 1,
              "tickcolor": "rgb(36,36,36)",
              "ticks": "outside"
             }
            },
            "type": "scatter3d"
           }
          ],
          "scattercarpet": [
           {
            "marker": {
             "colorbar": {
              "outlinewidth": 1,
              "tickcolor": "rgb(36,36,36)",
              "ticks": "outside"
             }
            },
            "type": "scattercarpet"
           }
          ],
          "scattergeo": [
           {
            "marker": {
             "colorbar": {
              "outlinewidth": 1,
              "tickcolor": "rgb(36,36,36)",
              "ticks": "outside"
             }
            },
            "type": "scattergeo"
           }
          ],
          "scattergl": [
           {
            "marker": {
             "colorbar": {
              "outlinewidth": 1,
              "tickcolor": "rgb(36,36,36)",
              "ticks": "outside"
             }
            },
            "type": "scattergl"
           }
          ],
          "scattermapbox": [
           {
            "marker": {
             "colorbar": {
              "outlinewidth": 1,
              "tickcolor": "rgb(36,36,36)",
              "ticks": "outside"
             }
            },
            "type": "scattermapbox"
           }
          ],
          "scatterpolar": [
           {
            "marker": {
             "colorbar": {
              "outlinewidth": 1,
              "tickcolor": "rgb(36,36,36)",
              "ticks": "outside"
             }
            },
            "type": "scatterpolar"
           }
          ],
          "scatterpolargl": [
           {
            "marker": {
             "colorbar": {
              "outlinewidth": 1,
              "tickcolor": "rgb(36,36,36)",
              "ticks": "outside"
             }
            },
            "type": "scatterpolargl"
           }
          ],
          "scatterternary": [
           {
            "marker": {
             "colorbar": {
              "outlinewidth": 1,
              "tickcolor": "rgb(36,36,36)",
              "ticks": "outside"
             }
            },
            "type": "scatterternary"
           }
          ],
          "surface": [
           {
            "colorbar": {
             "outlinewidth": 1,
             "tickcolor": "rgb(36,36,36)",
             "ticks": "outside"
            },
            "colorscale": [
             [
              0,
              "#440154"
             ],
             [
              0.1111111111111111,
              "#482878"
             ],
             [
              0.2222222222222222,
              "#3e4989"
             ],
             [
              0.3333333333333333,
              "#31688e"
             ],
             [
              0.4444444444444444,
              "#26828e"
             ],
             [
              0.5555555555555556,
              "#1f9e89"
             ],
             [
              0.6666666666666666,
              "#35b779"
             ],
             [
              0.7777777777777778,
              "#6ece58"
             ],
             [
              0.8888888888888888,
              "#b5de2b"
             ],
             [
              1,
              "#fde725"
             ]
            ],
            "type": "surface"
           }
          ],
          "table": [
           {
            "cells": {
             "fill": {
              "color": "rgb(237,237,237)"
             },
             "line": {
              "color": "white"
             }
            },
            "header": {
             "fill": {
              "color": "rgb(217,217,217)"
             },
             "line": {
              "color": "white"
             }
            },
            "type": "table"
           }
          ]
         },
         "layout": {
          "annotationdefaults": {
           "arrowhead": 0,
           "arrowwidth": 1
          },
          "autotypenumbers": "strict",
          "coloraxis": {
           "colorbar": {
            "outlinewidth": 1,
            "tickcolor": "rgb(36,36,36)",
            "ticks": "outside"
           }
          },
          "colorscale": {
           "diverging": [
            [
             0,
             "rgb(103,0,31)"
            ],
            [
             0.1,
             "rgb(178,24,43)"
            ],
            [
             0.2,
             "rgb(214,96,77)"
            ],
            [
             0.3,
             "rgb(244,165,130)"
            ],
            [
             0.4,
             "rgb(253,219,199)"
            ],
            [
             0.5,
             "rgb(247,247,247)"
            ],
            [
             0.6,
             "rgb(209,229,240)"
            ],
            [
             0.7,
             "rgb(146,197,222)"
            ],
            [
             0.8,
             "rgb(67,147,195)"
            ],
            [
             0.9,
             "rgb(33,102,172)"
            ],
            [
             1,
             "rgb(5,48,97)"
            ]
           ],
           "sequential": [
            [
             0,
             "#440154"
            ],
            [
             0.1111111111111111,
             "#482878"
            ],
            [
             0.2222222222222222,
             "#3e4989"
            ],
            [
             0.3333333333333333,
             "#31688e"
            ],
            [
             0.4444444444444444,
             "#26828e"
            ],
            [
             0.5555555555555556,
             "#1f9e89"
            ],
            [
             0.6666666666666666,
             "#35b779"
            ],
            [
             0.7777777777777778,
             "#6ece58"
            ],
            [
             0.8888888888888888,
             "#b5de2b"
            ],
            [
             1,
             "#fde725"
            ]
           ],
           "sequentialminus": [
            [
             0,
             "#440154"
            ],
            [
             0.1111111111111111,
             "#482878"
            ],
            [
             0.2222222222222222,
             "#3e4989"
            ],
            [
             0.3333333333333333,
             "#31688e"
            ],
            [
             0.4444444444444444,
             "#26828e"
            ],
            [
             0.5555555555555556,
             "#1f9e89"
            ],
            [
             0.6666666666666666,
             "#35b779"
            ],
            [
             0.7777777777777778,
             "#6ece58"
            ],
            [
             0.8888888888888888,
             "#b5de2b"
            ],
            [
             1,
             "#fde725"
            ]
           ]
          },
          "colorway": [
           "#1F77B4",
           "#FF7F0E",
           "#2CA02C",
           "#D62728",
           "#9467BD",
           "#8C564B",
           "#E377C2",
           "#7F7F7F",
           "#BCBD22",
           "#17BECF"
          ],
          "font": {
           "color": "rgb(36,36,36)"
          },
          "geo": {
           "bgcolor": "white",
           "lakecolor": "white",
           "landcolor": "white",
           "showlakes": true,
           "showland": true,
           "subunitcolor": "white"
          },
          "hoverlabel": {
           "align": "left"
          },
          "hovermode": "closest",
          "mapbox": {
           "style": "light"
          },
          "paper_bgcolor": "white",
          "plot_bgcolor": "white",
          "polar": {
           "angularaxis": {
            "gridcolor": "rgb(232,232,232)",
            "linecolor": "rgb(36,36,36)",
            "showgrid": false,
            "showline": true,
            "ticks": "outside"
           },
           "bgcolor": "white",
           "radialaxis": {
            "gridcolor": "rgb(232,232,232)",
            "linecolor": "rgb(36,36,36)",
            "showgrid": false,
            "showline": true,
            "ticks": "outside"
           }
          },
          "scene": {
           "xaxis": {
            "backgroundcolor": "white",
            "gridcolor": "rgb(232,232,232)",
            "gridwidth": 2,
            "linecolor": "rgb(36,36,36)",
            "showbackground": true,
            "showgrid": false,
            "showline": true,
            "ticks": "outside",
            "zeroline": false,
            "zerolinecolor": "rgb(36,36,36)"
           },
           "yaxis": {
            "backgroundcolor": "white",
            "gridcolor": "rgb(232,232,232)",
            "gridwidth": 2,
            "linecolor": "rgb(36,36,36)",
            "showbackground": true,
            "showgrid": false,
            "showline": true,
            "ticks": "outside",
            "zeroline": false,
            "zerolinecolor": "rgb(36,36,36)"
           },
           "zaxis": {
            "backgroundcolor": "white",
            "gridcolor": "rgb(232,232,232)",
            "gridwidth": 2,
            "linecolor": "rgb(36,36,36)",
            "showbackground": true,
            "showgrid": false,
            "showline": true,
            "ticks": "outside",
            "zeroline": false,
            "zerolinecolor": "rgb(36,36,36)"
           }
          },
          "shapedefaults": {
           "fillcolor": "black",
           "line": {
            "width": 0
           },
           "opacity": 0.3
          },
          "ternary": {
           "aaxis": {
            "gridcolor": "rgb(232,232,232)",
            "linecolor": "rgb(36,36,36)",
            "showgrid": false,
            "showline": true,
            "ticks": "outside"
           },
           "baxis": {
            "gridcolor": "rgb(232,232,232)",
            "linecolor": "rgb(36,36,36)",
            "showgrid": false,
            "showline": true,
            "ticks": "outside"
           },
           "bgcolor": "white",
           "caxis": {
            "gridcolor": "rgb(232,232,232)",
            "linecolor": "rgb(36,36,36)",
            "showgrid": false,
            "showline": true,
            "ticks": "outside"
           }
          },
          "title": {
           "x": 0.05
          },
          "xaxis": {
           "automargin": true,
           "gridcolor": "rgb(232,232,232)",
           "linecolor": "rgb(36,36,36)",
           "showgrid": false,
           "showline": true,
           "ticks": "outside",
           "title": {
            "standoff": 15
           },
           "zeroline": false,
           "zerolinecolor": "rgb(36,36,36)"
          },
          "yaxis": {
           "automargin": true,
           "gridcolor": "rgb(232,232,232)",
           "linecolor": "rgb(36,36,36)",
           "showgrid": false,
           "showline": true,
           "ticks": "outside",
           "title": {
            "standoff": 15
           },
           "zeroline": false,
           "zerolinecolor": "rgb(36,36,36)"
          }
         }
        },
        "title": {
         "x": 0.5,
         "xanchor": "center",
         "y": 0.9,
         "yanchor": "top"
        },
        "width": 1200,
        "xaxis": {
         "anchor": "y",
         "domain": [
          0,
          0.1388888888888889
         ],
         "linewidth": 1.5,
         "matches": "x",
         "title": {
          "text": ""
         }
        },
        "xaxis10": {
         "anchor": "y10",
         "domain": [
          0.5166666666666667,
          0.6555555555555557
         ],
         "linewidth": 1.5,
         "matches": "x",
         "title": {
          "text": ""
         }
        },
        "xaxis11": {
         "anchor": "y11",
         "domain": [
          0.6888888888888889,
          0.8277777777777777
         ],
         "linewidth": 1.5,
         "matches": "x",
         "title": {
          "text": ""
         }
        },
        "xaxis12": {
         "anchor": "y12",
         "domain": [
          0.861111111111111,
          1
         ],
         "linewidth": 1.5,
         "matches": "x",
         "title": {
          "text": ""
         }
        },
        "xaxis13": {
         "anchor": "y13",
         "domain": [
          0,
          0.1388888888888889
         ],
         "linewidth": 1.5,
         "matches": "x",
         "title": {
          "text": "Trial"
         }
        },
        "xaxis14": {
         "anchor": "y14",
         "domain": [
          0.17222222222222222,
          0.3111111111111111
         ],
         "linewidth": 1.5,
         "matches": "x",
         "title": {
          "text": "Trial"
         }
        },
        "xaxis15": {
         "anchor": "y15",
         "domain": [
          0.34444444444444444,
          0.48333333333333334
         ],
         "linewidth": 1.5,
         "matches": "x",
         "title": {
          "text": "Trial"
         }
        },
        "xaxis16": {
         "anchor": "y16",
         "domain": [
          0.5166666666666667,
          0.6555555555555557
         ],
         "linewidth": 1.5,
         "matches": "x",
         "title": {
          "text": "Trial"
         }
        },
        "xaxis17": {
         "anchor": "y17",
         "domain": [
          0.6888888888888889,
          0.8277777777777777
         ],
         "linewidth": 1.5,
         "matches": "x",
         "title": {
          "text": "Trial"
         }
        },
        "xaxis18": {
         "anchor": "y18",
         "domain": [
          0.861111111111111,
          1
         ],
         "linewidth": 1.5,
         "matches": "x",
         "title": {
          "text": "Trial"
         }
        },
        "xaxis2": {
         "anchor": "y2",
         "domain": [
          0.17222222222222222,
          0.3111111111111111
         ],
         "linewidth": 1.5,
         "matches": "x",
         "title": {
          "text": ""
         }
        },
        "xaxis3": {
         "anchor": "y3",
         "domain": [
          0.34444444444444444,
          0.48333333333333334
         ],
         "linewidth": 1.5,
         "matches": "x",
         "title": {
          "text": ""
         }
        },
        "xaxis4": {
         "anchor": "y4",
         "domain": [
          0.5166666666666667,
          0.6555555555555557
         ],
         "linewidth": 1.5,
         "matches": "x",
         "title": {
          "text": ""
         }
        },
        "xaxis5": {
         "anchor": "y5",
         "domain": [
          0.6888888888888889,
          0.8277777777777777
         ],
         "linewidth": 1.5,
         "matches": "x",
         "title": {
          "text": ""
         }
        },
        "xaxis6": {
         "anchor": "y6",
         "domain": [
          0.861111111111111,
          1
         ],
         "linewidth": 1.5,
         "matches": "x",
         "title": {
          "text": ""
         }
        },
        "xaxis7": {
         "anchor": "y7",
         "domain": [
          0,
          0.1388888888888889
         ],
         "linewidth": 1.5,
         "matches": "x",
         "title": {
          "text": ""
         }
        },
        "xaxis8": {
         "anchor": "y8",
         "domain": [
          0.17222222222222222,
          0.3111111111111111
         ],
         "linewidth": 1.5,
         "matches": "x",
         "title": {
          "text": ""
         }
        },
        "xaxis9": {
         "anchor": "y9",
         "domain": [
          0.34444444444444444,
          0.48333333333333334
         ],
         "linewidth": 1.5,
         "matches": "x",
         "title": {
          "text": ""
         }
        },
        "yaxis": {
         "anchor": "x",
         "domain": [
          0.7777777777777778,
          1
         ],
         "dtick": 25,
         "linewidth": 1.5,
         "matches": "y",
         "range": [
          0,
          100
         ],
         "title": {
          "text": "Lick Accuracy"
         }
        },
        "yaxis10": {
         "anchor": "x10",
         "domain": [
          0.3888888888888889,
          0.6111111111111112
         ],
         "linewidth": 1.5,
         "matches": "y",
         "showticklabels": false,
         "title": {
          "text": ""
         }
        },
        "yaxis11": {
         "anchor": "x11",
         "domain": [
          0.3888888888888889,
          0.6111111111111112
         ],
         "linewidth": 1.5,
         "matches": "y",
         "showticklabels": false,
         "title": {
          "text": ""
         }
        },
        "yaxis12": {
         "anchor": "x12",
         "domain": [
          0.3888888888888889,
          0.6111111111111112
         ],
         "linewidth": 1.5,
         "matches": "y",
         "showticklabels": false,
         "title": {
          "text": ""
         }
        },
        "yaxis13": {
         "anchor": "x13",
         "domain": [
          0,
          0.22222222222222224
         ],
         "dtick": 25,
         "linewidth": 1.5,
         "matches": "y",
         "range": [
          0,
          100
         ],
         "title": {
          "text": "Lick Accuracy"
         }
        },
        "yaxis14": {
         "anchor": "x14",
         "domain": [
          0,
          0.22222222222222224
         ],
         "linewidth": 1.5,
         "matches": "y",
         "showticklabels": false,
         "title": {
          "text": ""
         }
        },
        "yaxis15": {
         "anchor": "x15",
         "domain": [
          0,
          0.22222222222222224
         ],
         "linewidth": 1.5,
         "matches": "y",
         "showticklabels": false,
         "title": {
          "text": ""
         }
        },
        "yaxis16": {
         "anchor": "x16",
         "domain": [
          0,
          0.22222222222222224
         ],
         "linewidth": 1.5,
         "matches": "y",
         "showticklabels": false,
         "title": {
          "text": ""
         }
        },
        "yaxis17": {
         "anchor": "x17",
         "domain": [
          0,
          0.22222222222222224
         ],
         "linewidth": 1.5,
         "matches": "y",
         "showticklabels": false,
         "title": {
          "text": ""
         }
        },
        "yaxis18": {
         "anchor": "x18",
         "domain": [
          0,
          0.22222222222222224
         ],
         "linewidth": 1.5,
         "matches": "y",
         "showticklabels": false,
         "title": {
          "text": ""
         }
        },
        "yaxis2": {
         "anchor": "x2",
         "domain": [
          0.7777777777777778,
          1
         ],
         "linewidth": 1.5,
         "matches": "y",
         "showticklabels": false,
         "title": {
          "text": ""
         }
        },
        "yaxis3": {
         "anchor": "x3",
         "domain": [
          0.7777777777777778,
          1
         ],
         "linewidth": 1.5,
         "matches": "y",
         "showticklabels": false,
         "title": {
          "text": ""
         }
        },
        "yaxis4": {
         "anchor": "x4",
         "domain": [
          0.7777777777777778,
          1
         ],
         "linewidth": 1.5,
         "matches": "y",
         "showticklabels": false,
         "title": {
          "text": ""
         }
        },
        "yaxis5": {
         "anchor": "x5",
         "domain": [
          0.7777777777777778,
          1
         ],
         "linewidth": 1.5,
         "matches": "y",
         "showticklabels": false,
         "title": {
          "text": ""
         }
        },
        "yaxis6": {
         "anchor": "x6",
         "domain": [
          0.7777777777777778,
          1
         ],
         "linewidth": 1.5,
         "matches": "y",
         "showticklabels": false,
         "title": {
          "text": ""
         }
        },
        "yaxis7": {
         "anchor": "x7",
         "domain": [
          0.3888888888888889,
          0.6111111111111112
         ],
         "dtick": 25,
         "linewidth": 1.5,
         "matches": "y",
         "range": [
          0,
          100
         ],
         "title": {
          "text": "Lick Accuracy"
         }
        },
        "yaxis8": {
         "anchor": "x8",
         "domain": [
          0.3888888888888889,
          0.6111111111111112
         ],
         "linewidth": 1.5,
         "matches": "y",
         "showticklabels": false,
         "title": {
          "text": ""
         }
        },
        "yaxis9": {
         "anchor": "x9",
         "domain": [
          0.3888888888888889,
          0.6111111111111112
         ],
         "linewidth": 1.5,
         "matches": "y",
         "showticklabels": false,
         "title": {
          "text": ""
         }
        }
       }
      },
      "text/html": [
       "<div>                            <div id=\"1a16619f-7e98-4ed9-a288-8da04c95ac4c\" class=\"plotly-graph-div\" style=\"height:800px; width:1200px;\"></div>            <script type=\"text/javascript\">                require([\"plotly\"], function(Plotly) {                    window.PLOTLYENV=window.PLOTLYENV || {};                                    if (document.getElementById(\"1a16619f-7e98-4ed9-a288-8da04c95ac4c\")) {                    Plotly.newPlot(                        \"1a16619f-7e98-4ed9-a288-8da04c95ac4c\",                        [{\"legendgroup\":\"thresh3_twoport\",\"line\":{\"color\":\"darkgrey\"},\"mode\":\"lines\",\"name\":\"thresh3_twoport\",\"opacity\":0.8,\"showlegend\":false,\"x\":[4,8,12,16,20,24],\"y\":[36.34259259259259,22.766290726817044,27.570738440303654,25.55517399267399,27.701465201465197,29.203869047619044],\"type\":\"scatter\",\"xaxis\":\"x\",\"yaxis\":\"y\"},{\"legendgroup\":\"thresh3_twoport\",\"line\":{\"width\":0},\"marker\":{\"color\":\"rgba(169,169,169,0.4)\"},\"mode\":\"lines\",\"name\":\"Upper Bound\",\"showlegend\":false,\"x\":[4,8,12,16,20,24],\"y\":[40.37861013290803,25.293748514237645,30.081605432880853,26.990997955152732,28.161054484887465,31.17828414286838],\"type\":\"scatter\",\"xaxis\":\"x\",\"yaxis\":\"y\"},{\"fill\":\"tonexty\",\"fillcolor\":\"rgba(169,169,169,0.4)\",\"legendgroup\":\"thresh3_twoport\",\"line\":{\"width\":0},\"marker\":{\"color\":\"rgba(169,169,169,0.4)\"},\"mode\":\"lines\",\"name\":\"Lower Bound\",\"showlegend\":false,\"x\":[4,8,12,16,20,24],\"y\":[32.30657505227715,20.238832939396442,25.059871447726454,24.119350030195246,27.24187591804293,27.229453952369706],\"type\":\"scatter\",\"xaxis\":\"x\",\"yaxis\":\"y\"},{\"legendgroup\":\"thresh5_twoport\",\"line\":{\"color\":\"midnightblue\"},\"mode\":\"lines\",\"name\":\"thresh5_twoport\",\"opacity\":0.8,\"showlegend\":false,\"x\":[4,8,12,16,20],\"y\":[26.26262626262626,30.82431457431457,28.26345249732346,33.02910052910053,35.0],\"type\":\"scatter\",\"xaxis\":\"x\",\"yaxis\":\"y\"},{\"legendgroup\":\"thresh5_twoport\",\"line\":{\"width\":0},\"marker\":{\"color\":\"rgba(25,25,112,0.4)\"},\"mode\":\"lines\",\"name\":\"Upper Bound\",\"showlegend\":false,\"x\":[4,8,12,16,20],\"y\":[39.91009181444812,34.00358306598205,32.211486374327905,41.60262116019892,null],\"type\":\"scatter\",\"xaxis\":\"x\",\"yaxis\":\"y\"},{\"fill\":\"tonexty\",\"fillcolor\":\"rgba(25,25,112,0.4)\",\"legendgroup\":\"thresh5_twoport\",\"line\":{\"width\":0},\"marker\":{\"color\":\"rgba(25,25,112,0.4)\"},\"mode\":\"lines\",\"name\":\"Lower Bound\",\"showlegend\":false,\"x\":[4,8,12,16,20],\"y\":[12.615160710804396,27.645046082647088,24.31541862031901,24.455579898002142,null],\"type\":\"scatter\",\"xaxis\":\"x\",\"yaxis\":\"y\"},{\"legendgroup\":\"thresh3_twoport\",\"line\":{\"color\":\"darkgrey\"},\"mode\":\"lines\",\"name\":\"thresh3_twoport\",\"opacity\":0.8,\"showlegend\":false,\"x\":[4,8,12,16,20,24,28,32,36,40],\"y\":[26.16147741147741,30.020743145743143,32.139000705177175,32.808302808302805,37.29978354978355,38.60569985569985,41.666666666666664,44.76190476190476,64.16666666666666,64.16666666666666],\"type\":\"scatter\",\"xaxis\":\"x2\",\"yaxis\":\"y2\"},{\"legendgroup\":\"thresh3_twoport\",\"line\":{\"width\":0},\"marker\":{\"color\":\"rgba(169,169,169,0.4)\"},\"mode\":\"lines\",\"name\":\"Upper Bound\",\"showlegend\":false,\"x\":[4,8,12,16,20,24,28,32,36,40],\"y\":[26.978843173383897,33.30873073779573,34.65477806612476,33.460910988476186,39.93227078670493,42.26395976735021,45.03454323693948,53.45265274634779,null,null],\"type\":\"scatter\",\"xaxis\":\"x2\",\"yaxis\":\"y2\"},{\"fill\":\"tonexty\",\"fillcolor\":\"rgba(169,169,169,0.4)\",\"legendgroup\":\"thresh3_twoport\",\"line\":{\"width\":0},\"marker\":{\"color\":\"rgba(169,169,169,0.4)\"},\"mode\":\"lines\",\"name\":\"Lower Bound\",\"showlegend\":false,\"x\":[4,8,12,16,20,24,28,32,36,40],\"y\":[25.344111649570923,26.732755553690563,29.62322334422959,32.155694628129424,34.66729631286216,34.947439944049485,38.29879009639385,36.07115677746173,null,null],\"type\":\"scatter\",\"xaxis\":\"x2\",\"yaxis\":\"y2\"},{\"legendgroup\":\"thresh5_twoport\",\"line\":{\"color\":\"midnightblue\"},\"mode\":\"lines\",\"name\":\"thresh5_twoport\",\"opacity\":0.8,\"showlegend\":false,\"x\":[4,8,12,16,20,24,28,32],\"y\":[26.05489215968419,33.132798573975045,47.5,67.5,58.47902097902097,46.875,70.83333333333333,58.611111111111114],\"type\":\"scatter\",\"xaxis\":\"x2\",\"yaxis\":\"y2\"},{\"legendgroup\":\"thresh5_twoport\",\"line\":{\"width\":0},\"marker\":{\"color\":\"rgba(25,25,112,0.4)\"},\"mode\":\"lines\",\"name\":\"Upper Bound\",\"showlegend\":false,\"x\":[4,8,12,16,20,24,28,32],\"y\":[26.518550518847977,33.78663786183539,null,null,null,null,null,null],\"type\":\"scatter\",\"xaxis\":\"x2\",\"yaxis\":\"y2\"},{\"fill\":\"tonexty\",\"fillcolor\":\"rgba(25,25,112,0.4)\",\"legendgroup\":\"thresh5_twoport\",\"line\":{\"width\":0},\"marker\":{\"color\":\"rgba(25,25,112,0.4)\"},\"mode\":\"lines\",\"name\":\"Lower Bound\",\"showlegend\":false,\"x\":[4,8,12,16,20,24,28,32],\"y\":[25.591233800520403,32.4789592861147,null,null,null,null,null,null],\"type\":\"scatter\",\"xaxis\":\"x2\",\"yaxis\":\"y2\"},{\"legendgroup\":\"thresh3_twoport\",\"line\":{\"color\":\"darkgrey\"},\"mode\":\"lines\",\"name\":\"thresh3_twoport\",\"opacity\":0.8,\"showlegend\":false,\"x\":[4,8,12,16,20,24,28,32,36,40,44,48,52],\"y\":[42.85804473304473,46.27823565323565,69.58333333333333,65.4861111111111,69.99999999999999,76.90476190476188,64.72222222222221,79.30555555555556,76.92129629629629,74.33712121212122,96.875,88.33333333333333,77.5],\"type\":\"scatter\",\"xaxis\":\"x3\",\"yaxis\":\"y3\"},{\"legendgroup\":\"thresh3_twoport\",\"line\":{\"width\":0},\"marker\":{\"color\":\"rgba(169,169,169,0.4)\"},\"mode\":\"lines\",\"name\":\"Upper Bound\",\"showlegend\":false,\"x\":[4,8,12,16,20,24,28,32,36,40,44,48,52],\"y\":[49.64191552051319,53.52177575167436,76.58449064507141,75.83053653477185,79.4770678384622,87.49219437819191,71.28977245418716,85.717049381991,88.20157201096313,90.18767036838862,99.42655181539915,97.85912677749013,null],\"type\":\"scatter\",\"xaxis\":\"x3\",\"yaxis\":\"y3\"},{\"fill\":\"tonexty\",\"fillcolor\":\"rgba(169,169,169,0.4)\",\"legendgroup\":\"thresh3_twoport\",\"line\":{\"width\":0},\"marker\":{\"color\":\"rgba(169,169,169,0.4)\"},\"mode\":\"lines\",\"name\":\"Lower Bound\",\"showlegend\":false,\"x\":[4,8,12,16,20,24,28,32,36,40,44,48,52],\"y\":[36.07417394557627,39.03469555479693,62.58217602159524,55.14168568745035,60.522932161537774,66.31732943133186,58.15467199025728,72.89406172912011,65.64102058162945,58.486572055853806,94.32344818460085,78.80753988917652,null],\"type\":\"scatter\",\"xaxis\":\"x3\",\"yaxis\":\"y3\"},{\"legendgroup\":\"thresh5_twoport\",\"line\":{\"color\":\"midnightblue\"},\"mode\":\"lines\",\"name\":\"thresh5_twoport\",\"opacity\":0.8,\"showlegend\":false,\"x\":[4,8,12,16,20,24,28,32,36,40,44],\"y\":[33.36893090569561,51.08585858585858,61.3095238095238,83.33333333333333,84.375,93.33333333333333,95.83333333333333,72.5,83.75,70.83333333333333,87.5],\"type\":\"scatter\",\"xaxis\":\"x3\",\"yaxis\":\"y3\"},{\"legendgroup\":\"thresh5_twoport\",\"line\":{\"width\":0},\"marker\":{\"color\":\"rgba(25,25,112,0.4)\"},\"mode\":\"lines\",\"name\":\"Upper Bound\",\"showlegend\":false,\"x\":[4,8,12,16,20,24,28,32,36,40,44],\"y\":[37.93614415273255,63.939916017929114,82.13718743712326,90.13747150773104,90.32862090259799,98.77664387285151,99.2354024205322,null,null,null,null],\"type\":\"scatter\",\"xaxis\":\"x3\",\"yaxis\":\"y3\"},{\"fill\":\"tonexty\",\"fillcolor\":\"rgba(25,25,112,0.4)\",\"legendgroup\":\"thresh5_twoport\",\"line\":{\"width\":0},\"marker\":{\"color\":\"rgba(25,25,112,0.4)\"},\"mode\":\"lines\",\"name\":\"Lower Bound\",\"showlegend\":false,\"x\":[4,8,12,16,20,24,28,32,36,40,44],\"y\":[28.801717658658674,38.23180115378805,40.48186018192435,76.52919515893562,78.42137909740201,87.89002279381515,92.43126424613446,null,null,null,null],\"type\":\"scatter\",\"xaxis\":\"x3\",\"yaxis\":\"y3\"},{\"legendgroup\":\"thresh3_twoport\",\"line\":{\"color\":\"darkgrey\"},\"mode\":\"lines\",\"name\":\"thresh3_twoport\",\"opacity\":0.8,\"showlegend\":false,\"x\":[4,8,12,16,20,24,28,32,36,40],\"y\":[48.333333333333336,47.26521164021164,62.5,78.11838624338624,75.55555555555556,76.25420875420875,87.5,71.35416666666666,76.38888888888889,65.83333333333333],\"type\":\"scatter\",\"xaxis\":\"x4\",\"yaxis\":\"y4\"},{\"legendgroup\":\"thresh3_twoport\",\"line\":{\"width\":0},\"marker\":{\"color\":\"rgba(169,169,169,0.4)\"},\"mode\":\"lines\",\"name\":\"Upper Bound\",\"showlegend\":false,\"x\":[4,8,12,16,20,24,28,32,36,40],\"y\":[60.91639072545125,49.228698308075664,64.90562612162344,84.04376684146399,87.73984011081184,85.53315553127425,90.90206908719885,90.66090873652018,88.86314220861803,null],\"type\":\"scatter\",\"xaxis\":\"x4\",\"yaxis\":\"y4\"},{\"fill\":\"tonexty\",\"fillcolor\":\"rgba(169,169,169,0.4)\",\"legendgroup\":\"thresh3_twoport\",\"line\":{\"width\":0},\"marker\":{\"color\":\"rgba(169,169,169,0.4)\"},\"mode\":\"lines\",\"name\":\"Lower Bound\",\"showlegend\":false,\"x\":[4,8,12,16,20,24,28,32,36,40],\"y\":[35.75027594121542,45.301724972347614,60.09437387837656,72.19300564530849,63.371271000299274,66.97526197714325,84.09793091280115,52.04742459681313,63.91463556915974,null],\"type\":\"scatter\",\"xaxis\":\"x4\",\"yaxis\":\"y4\"},{\"legendgroup\":\"thresh5_twoport\",\"line\":{\"color\":\"midnightblue\"},\"mode\":\"lines\",\"name\":\"thresh5_twoport\",\"opacity\":0.8,\"showlegend\":false,\"x\":[4,8,12,16,20,24,28,32,36],\"y\":[33.727106227106226,52.02380952380952,67.43713450292397,83.43253968253968,87.5,88.09523809523809,75.35714285714286,87.5,100.0],\"type\":\"scatter\",\"xaxis\":\"x4\",\"yaxis\":\"y4\"},{\"legendgroup\":\"thresh5_twoport\",\"line\":{\"width\":0},\"marker\":{\"color\":\"rgba(25,25,112,0.4)\"},\"mode\":\"lines\",\"name\":\"Upper Bound\",\"showlegend\":false,\"x\":[4,8,12,16,20,24,28,32,36],\"y\":[37.69743652826958,68.62757404336081,85.77519356489645,100.0,90.90206908719885,91.0112973128371,null,null,null],\"type\":\"scatter\",\"xaxis\":\"x4\",\"yaxis\":\"y4\"},{\"fill\":\"tonexty\",\"fillcolor\":\"rgba(25,25,112,0.4)\",\"legendgroup\":\"thresh5_twoport\",\"line\":{\"width\":0},\"marker\":{\"color\":\"rgba(25,25,112,0.4)\"},\"mode\":\"lines\",\"name\":\"Lower Bound\",\"showlegend\":false,\"x\":[4,8,12,16,20,24,28,32,36],\"y\":[29.756775925942872,35.42004500425823,49.09907544095148,66.86507936507937,84.09793091280115,85.17917887763907,null,null,null],\"type\":\"scatter\",\"xaxis\":\"x4\",\"yaxis\":\"y4\"},{\"legendgroup\":\"thresh3_twoport\",\"line\":{\"color\":\"darkgrey\"},\"mode\":\"lines\",\"name\":\"thresh3_twoport\",\"opacity\":0.8,\"showlegend\":false,\"x\":[4,8,12,16,20,24,28,32,36,40,44,48],\"y\":[44.21626984126984,80.55555555555556,69.2361111111111,76.18055555555556,93.05555555555554,90.27777777777777,65.51046176046175,87.5,66.66666666666666,72.91666666666666,83.33333333333333,50.53030303030303],\"type\":\"scatter\",\"xaxis\":\"x5\",\"yaxis\":\"y5\"},{\"legendgroup\":\"thresh3_twoport\",\"line\":{\"width\":0},\"marker\":{\"color\":\"rgba(169,169,169,0.4)\"},\"mode\":\"lines\",\"name\":\"Upper Bound\",\"showlegend\":false,\"x\":[4,8,12,16,20,24,28,32,36,40,44,48],\"y\":[51.78626035601278,90.84458843191786,76.89674934081623,78.48272006309038,96.73021015425637,96.33180408825093,66.7565018097819,94.71687836487033,null,null,null,null],\"type\":\"scatter\",\"xaxis\":\"x5\",\"yaxis\":\"y5\"},{\"fill\":\"tonexty\",\"fillcolor\":\"rgba(169,169,169,0.4)\",\"legendgroup\":\"thresh3_twoport\",\"line\":{\"width\":0},\"marker\":{\"color\":\"rgba(169,169,169,0.4)\"},\"mode\":\"lines\",\"name\":\"Lower Bound\",\"showlegend\":false,\"x\":[4,8,12,16,20,24,28,32,36,40,44,48],\"y\":[36.6462793265269,70.26652267919326,61.57547288140597,73.87839104802073,89.38090095685472,84.22375146730461,64.26442171114161,80.28312163512967,null,null,null,null],\"type\":\"scatter\",\"xaxis\":\"x5\",\"yaxis\":\"y5\"},{\"legendgroup\":\"thresh5_twoport\",\"line\":{\"color\":\"midnightblue\"},\"mode\":\"lines\",\"name\":\"thresh5_twoport\",\"opacity\":0.8,\"showlegend\":false,\"x\":[4,8,12,16,20,24,28,32,36,40,44],\"y\":[54.71357346357346,81.94444444444444,85.55555555555554,86.1111111111111,92.70833333333333,90.97222222222221,86.60493827160492,93.75,80.0,86.45833333333333,83.33333333333333],\"type\":\"scatter\",\"xaxis\":\"x5\",\"yaxis\":\"y5\"},{\"legendgroup\":\"thresh5_twoport\",\"line\":{\"width\":0},\"marker\":{\"color\":\"rgba(25,25,112,0.4)\"},\"mode\":\"lines\",\"name\":\"Upper Bound\",\"showlegend\":false,\"x\":[4,8,12,16,20,24,28,32,36,40,44],\"y\":[66.4843872756025,92.79201343875924,95.43132713035064,96.12653132073329,97.2488530661882,95.52599897520972,96.14172559503675,98.85310363079829,88.16496580927726,97.51505786672962,null],\"type\":\"scatter\",\"xaxis\":\"x5\",\"yaxis\":\"y5\"},{\"fill\":\"tonexty\",\"fillcolor\":\"rgba(25,25,112,0.4)\",\"legendgroup\":\"thresh5_twoport\",\"line\":{\"width\":0},\"marker\":{\"color\":\"rgba(25,25,112,0.4)\"},\"mode\":\"lines\",\"name\":\"Lower Bound\",\"showlegend\":false,\"x\":[4,8,12,16,20,24,28,32,36,40,44],\"y\":[42.94275965154442,71.09687545012964,75.67978398076045,76.09569090148891,88.16781360047845,86.41844546923471,77.0681509481731,88.64689636920171,71.83503419072274,75.40160879993704,null],\"type\":\"scatter\",\"xaxis\":\"x5\",\"yaxis\":\"y5\"},{\"legendgroup\":\"thresh3_twoport\",\"line\":{\"color\":\"darkgrey\"},\"mode\":\"lines\",\"name\":\"thresh3_twoport\",\"opacity\":0.8,\"showlegend\":false,\"x\":[4,8,12,16,20,24,28,32],\"y\":[46.91798941798942,84.16666666666667,76.33537758537757,76.52116402116401,82.02932098765432,71.33333333333331,67.85714285714286,61.11111111111111],\"type\":\"scatter\",\"xaxis\":\"x6\",\"yaxis\":\"y6\"},{\"legendgroup\":\"thresh3_twoport\",\"line\":{\"width\":0},\"marker\":{\"color\":\"rgba(169,169,169,0.4)\"},\"mode\":\"lines\",\"name\":\"Upper Bound\",\"showlegend\":false,\"x\":[4,8,12,16,20,24,28,32],\"y\":[50.89582727158903,89.71527343206617,80.31249015771611,81.40057474111707,88.20764127826091,81.13129230446603,73.6892612923409,null],\"type\":\"scatter\",\"xaxis\":\"x6\",\"yaxis\":\"y6\"},{\"fill\":\"tonexty\",\"fillcolor\":\"rgba(169,169,169,0.4)\",\"legendgroup\":\"thresh3_twoport\",\"line\":{\"width\":0},\"marker\":{\"color\":\"rgba(169,169,169,0.4)\"},\"mode\":\"lines\",\"name\":\"Lower Bound\",\"showlegend\":false,\"x\":[4,8,12,16,20,24,28,32],\"y\":[42.94015156438981,78.61805990126717,72.35826501303903,71.64175330121095,75.85100069704772,61.535374362200606,62.02502442194482,null],\"type\":\"scatter\",\"xaxis\":\"x6\",\"yaxis\":\"y6\"},{\"legendgroup\":\"thresh5_twoport\",\"line\":{\"color\":\"midnightblue\"},\"mode\":\"lines\",\"name\":\"thresh5_twoport\",\"opacity\":0.8,\"showlegend\":false,\"x\":[4,8,12,16,20,24,28,32,36,40,44,48],\"y\":[64.58333333333333,83.13492063492063,88.88888888888887,87.5,84.16666666666666,87.77777777777777,81.94444444444444,70.16203703703702,72.02380952380952,100.0,91.66666666666666,91.66666666666666],\"type\":\"scatter\",\"xaxis\":\"x6\",\"yaxis\":\"y6\"},{\"legendgroup\":\"thresh5_twoport\",\"line\":{\"width\":0},\"marker\":{\"color\":\"rgba(25,25,112,0.4)\"},\"mode\":\"lines\",\"name\":\"Upper Bound\",\"showlegend\":false,\"x\":[4,8,12,16,20,24,28,32,36,40,44,48],\"y\":[65.78614639414505,91.95257382670198,91.66666666666666,94.71687836487033,92.67864080335808,91.42079918016778,86.95215454925554,78.55690373434493,77.85592795900756,null,null,null],\"type\":\"scatter\",\"xaxis\":\"x6\",\"yaxis\":\"y6\"},{\"fill\":\"tonexty\",\"fillcolor\":\"rgba(25,25,112,0.4)\",\"legendgroup\":\"thresh5_twoport\",\"line\":{\"width\":0},\"marker\":{\"color\":\"rgba(25,25,112,0.4)\"},\"mode\":\"lines\",\"name\":\"Lower Bound\",\"showlegend\":false,\"x\":[4,8,12,16,20,24,28,32,36,40,44,48],\"y\":[63.38052027252161,74.31726744313929,86.11111111111109,80.28312163512967,75.65469252997524,84.13475637538777,76.93673433963335,61.76717033972912,66.19169108861148,null,null,null],\"type\":\"scatter\",\"xaxis\":\"x6\",\"yaxis\":\"y6\"},{\"legendgroup\":\"thresh3_twoport\",\"line\":{\"color\":\"darkgrey\"},\"mode\":\"lines\",\"name\":\"thresh3_twoport\",\"opacity\":0.8,\"showlegend\":false,\"x\":[4,8,12,16,20,24,28,32,36,40,44,48,52],\"y\":[27.29166666666666,22.3015873015873,28.347763347763344,34.21510270774976,47.65873015873016,41.269841269841265,53.57142857142858,60.27777777777777,58.742690058479525,65.13888888888889,69.05753968253968,60.41005291005291,83.33333333333333],\"type\":\"scatter\",\"xaxis\":\"x7\",\"yaxis\":\"y7\"},{\"legendgroup\":\"thresh3_twoport\",\"line\":{\"width\":0},\"marker\":{\"color\":\"rgba(169,169,169,0.4)\"},\"mode\":\"lines\",\"name\":\"Upper Bound\",\"showlegend\":false,\"x\":[4,8,12,16,20,24,28,32,36,40,44,48,52],\"y\":[29.747880442198245,33.25247646270098,34.00001785559502,35.36960617806111,54.5875106788574,43.99004969708156,58.333333333333336,64.48131831956154,68.98985149800993,68.78984428558192,81.50665585015372,72.08297922031353,96.94160968212877],\"type\":\"scatter\",\"xaxis\":\"x7\",\"yaxis\":\"y7\"},{\"fill\":\"tonexty\",\"fillcolor\":\"rgba(169,169,169,0.4)\",\"legendgroup\":\"thresh3_twoport\",\"line\":{\"width\":0},\"marker\":{\"color\":\"rgba(169,169,169,0.4)\"},\"mode\":\"lines\",\"name\":\"Lower Bound\",\"showlegend\":false,\"x\":[4,8,12,16,20,24,28,32,36,40,44,48,52],\"y\":[24.835452891135077,11.350698140473614,22.695508839931666,33.0605992374384,40.72994963860292,38.54963284260097,48.80952380952382,56.074237235994005,48.49552861894913,61.48793349219585,56.60842351492564,48.73712659979228,69.72505698453789],\"type\":\"scatter\",\"xaxis\":\"x7\",\"yaxis\":\"y7\"},{\"legendgroup\":\"thresh5_twoport\",\"line\":{\"color\":\"midnightblue\"},\"mode\":\"lines\",\"name\":\"thresh5_twoport\",\"opacity\":0.8,\"showlegend\":false,\"x\":[4,8,12,16,20,24,28,32,36],\"y\":[17.083333333333332,25.575396825396822,34.9074074074074,25.806878306878303,47.64790764790765,67.08333333333333,77.91666666666666,76.66666666666666,60.20833333333333],\"type\":\"scatter\",\"xaxis\":\"x7\",\"yaxis\":\"y7\"},{\"legendgroup\":\"thresh5_twoport\",\"line\":{\"width\":0},\"marker\":{\"color\":\"rgba(25,25,112,0.4)\"},\"mode\":\"lines\",\"name\":\"Upper Bound\",\"showlegend\":false,\"x\":[4,8,12,16,20,24,28,32,36],\"y\":[23.55173945677501,39.65544470078927,44.12909042005394,30.079748987616885,53.91676497592247,87.1555409478066,95.94763282882062,84.83163247594392,73.64650622776881],\"type\":\"scatter\",\"xaxis\":\"x7\",\"yaxis\":\"y7\"},{\"fill\":\"tonexty\",\"fillcolor\":\"rgba(25,25,112,0.4)\",\"legendgroup\":\"thresh5_twoport\",\"line\":{\"width\":0},\"marker\":{\"color\":\"rgba(25,25,112,0.4)\"},\"mode\":\"lines\",\"name\":\"Lower Bound\",\"showlegend\":false,\"x\":[4,8,12,16,20,24,28,32,36],\"y\":[10.614927209891656,11.495348950004376,25.685724394760854,21.534007626139722,41.37905031989283,47.011125718860065,59.885700504512705,68.5017008573894,46.77016043889784],\"type\":\"scatter\",\"xaxis\":\"x7\",\"yaxis\":\"y7\"},{\"legendgroup\":\"thresh3_twoport\",\"line\":{\"color\":\"darkgrey\"},\"mode\":\"lines\",\"name\":\"thresh3_twoport\",\"opacity\":0.8,\"showlegend\":false,\"x\":[4,8,12,16,20,24,28,32,36,40,44,48],\"y\":[25.869708994708997,45.714285714285715,65.60846560846561,68.99801587301586,65.97222222222221,74.16666666666666,76.38888888888887,72.3611111111111,68.80050505050504,78.75,62.14285714285714,44.58333333333333],\"type\":\"scatter\",\"xaxis\":\"x8\",\"yaxis\":\"y8\"},{\"legendgroup\":\"thresh3_twoport\",\"line\":{\"width\":0},\"marker\":{\"color\":\"rgba(169,169,169,0.4)\"},\"mode\":\"lines\",\"name\":\"Upper Bound\",\"showlegend\":false,\"x\":[4,8,12,16,20,24,28,32,36,40,44,48],\"y\":[28.986043106016844,46.61307552800842,75.7884959125858,84.50382861548391,69.44444444444443,79.71527343206616,88.73360335738275,78.77260493754655,87.42811978127791,96.10055234471417,72.64067032621361,53.76891986877025],\"type\":\"scatter\",\"xaxis\":\"x8\",\"yaxis\":\"y8\"},{\"fill\":\"tonexty\",\"fillcolor\":\"rgba(169,169,169,0.4)\",\"legendgroup\":\"thresh3_twoport\",\"line\":{\"width\":0},\"marker\":{\"color\":\"rgba(169,169,169,0.4)\"},\"mode\":\"lines\",\"name\":\"Lower Bound\",\"showlegend\":false,\"x\":[4,8,12,16,20,24,28,32,36,40,44,48],\"y\":[22.75337488340115,44.81549590056301,55.42843530434541,53.4922031305478,62.49999999999999,68.61805990126716,64.044174420395,65.94961728467565,50.17289031973216,61.39944765528582,51.64504395950067,35.39774679789641],\"type\":\"scatter\",\"xaxis\":\"x8\",\"yaxis\":\"y8\"},{\"legendgroup\":\"thresh5_twoport\",\"line\":{\"color\":\"midnightblue\"},\"mode\":\"lines\",\"name\":\"thresh5_twoport\",\"opacity\":0.8,\"showlegend\":false,\"x\":[4,8,12,16,20,24,28,32,36],\"y\":[33.69047619047618,39.464285714285715,62.36111111111109,42.691798941798936,71.95075757575758,60.051406926406926,60.39862914862915,51.041666666666664,80.95238095238093],\"type\":\"scatter\",\"xaxis\":\"x8\",\"yaxis\":\"y8\"},{\"legendgroup\":\"thresh5_twoport\",\"line\":{\"width\":0},\"marker\":{\"color\":\"rgba(25,25,112,0.4)\"},\"mode\":\"lines\",\"name\":\"Upper Bound\",\"showlegend\":false,\"x\":[4,8,12,16,20,24,28,32,36],\"y\":[38.244858056316396,45.17060870471052,75.15925309624335,58.591075884246,89.74976448196615,64.23771921227825,74.58864458376378,null,null],\"type\":\"scatter\",\"xaxis\":\"x8\",\"yaxis\":\"y8\"},{\"fill\":\"tonexty\",\"fillcolor\":\"rgba(25,25,112,0.4)\",\"legendgroup\":\"thresh5_twoport\",\"line\":{\"width\":0},\"marker\":{\"color\":\"rgba(25,25,112,0.4)\"},\"mode\":\"lines\",\"name\":\"Lower Bound\",\"showlegend\":false,\"x\":[4,8,12,16,20,24,28,32,36],\"y\":[29.13609432463597,33.75796272386091,49.562969125978846,26.79252199935187,54.151750669549,55.8650946405356,46.20861371349452,null,null],\"type\":\"scatter\",\"xaxis\":\"x8\",\"yaxis\":\"y8\"},{\"legendgroup\":\"thresh3_twoport\",\"line\":{\"color\":\"darkgrey\"},\"mode\":\"lines\",\"name\":\"thresh3_twoport\",\"opacity\":0.8,\"showlegend\":false,\"x\":[4,8,12,16,20,24,28,32,36,40,44],\"y\":[33.11507936507937,64.58333333333333,82.89682539682539,87.5,82.5,71.46825396825396,72.22222222222221,74.2361111111111,62.18515037593985,67.29166666666667,54.396344396344396],\"type\":\"scatter\",\"xaxis\":\"x9\",\"yaxis\":\"y9\"},{\"legendgroup\":\"thresh3_twoport\",\"line\":{\"width\":0},\"marker\":{\"color\":\"rgba(169,169,169,0.4)\"},\"mode\":\"lines\",\"name\":\"Upper Bound\",\"showlegend\":false,\"x\":[4,8,12,16,20,24,28,32,36,40,44],\"y\":[36.755992928280776,78.13834812218272,87.9290032862595,100.0,94.31453906563152,83.81258574785662,86.5136121882295,87.11931897068887,81.10318542414899,83.11174518288331,57.25144464998796],\"type\":\"scatter\",\"xaxis\":\"x9\",\"yaxis\":\"y9\"},{\"fill\":\"tonexty\",\"fillcolor\":\"rgba(169,169,169,0.4)\",\"legendgroup\":\"thresh3_twoport\",\"line\":{\"width\":0},\"marker\":{\"color\":\"rgba(169,169,169,0.4)\"},\"mode\":\"lines\",\"name\":\"Lower Bound\",\"showlegend\":false,\"x\":[4,8,12,16,20,24,28,32,36,40,44],\"y\":[29.474165801877962,51.02831854448393,77.86464750739128,75.0,70.68546093436848,59.123922188651306,57.93083225621492,61.35290325153333,43.26711532773071,51.47158815045003,51.54124414270083],\"type\":\"scatter\",\"xaxis\":\"x9\",\"yaxis\":\"y9\"},{\"legendgroup\":\"thresh5_twoport\",\"line\":{\"color\":\"midnightblue\"},\"mode\":\"lines\",\"name\":\"thresh5_twoport\",\"opacity\":0.8,\"showlegend\":false,\"x\":[4,8,12,16,20,24,28,32,36],\"y\":[44.593776106934,60.50925925925926,79.16666666666666,73.37962962962962,73.74999999999999,82.75252525252525,70.86489898989899,76.17243867243867,87.5],\"type\":\"scatter\",\"xaxis\":\"x9\",\"yaxis\":\"y9\"},{\"legendgroup\":\"thresh5_twoport\",\"line\":{\"width\":0},\"marker\":{\"color\":\"rgba(25,25,112,0.4)\"},\"mode\":\"lines\",\"name\":\"Upper Bound\",\"showlegend\":false,\"x\":[4,8,12,16,20,24,28,32,36],\"y\":[60.25034802961156,77.93162035013313,92.56062605693465,78.91101997469838,86.98531681189047,96.05269732223815,77.77460607097197,82.68473212221375,null],\"type\":\"scatter\",\"xaxis\":\"x9\",\"yaxis\":\"y9\"},{\"fill\":\"tonexty\",\"fillcolor\":\"rgba(25,25,112,0.4)\",\"legendgroup\":\"thresh5_twoport\",\"line\":{\"width\":0},\"marker\":{\"color\":\"rgba(25,25,112,0.4)\"},\"mode\":\"lines\",\"name\":\"Lower Bound\",\"showlegend\":false,\"x\":[4,8,12,16,20,24,28,32,36],\"y\":[28.93720418425644,43.086898168385396,65.77270727639866,67.84823928456086,60.514683188109494,69.45235318281235,63.955191908826016,69.6601452226636,null],\"type\":\"scatter\",\"xaxis\":\"x9\",\"yaxis\":\"y9\"},{\"legendgroup\":\"thresh3_twoport\",\"line\":{\"color\":\"darkgrey\"},\"mode\":\"lines\",\"name\":\"thresh3_twoport\",\"opacity\":0.8,\"showlegend\":false,\"x\":[4,8,12,16,20,24,28,32,36,40,44,48,52],\"y\":[39.858058608058606,63.68055555555555,90.27777777777777,90.27777777777777,82.9861111111111,83.05555555555556,97.22222222222221,89.44444444444444,87.6984126984127,70.69444444444444,53.56150793650793,73.22916666666666,55.20833333333333],\"type\":\"scatter\",\"xaxis\":\"x10\",\"yaxis\":\"y10\"},{\"legendgroup\":\"thresh3_twoport\",\"line\":{\"width\":0},\"marker\":{\"color\":\"rgba(169,169,169,0.4)\"},\"mode\":\"lines\",\"name\":\"Upper Bound\",\"showlegend\":false,\"x\":[4,8,12,16,20,24,28,32,36,40,44,48,52],\"y\":[45.46565356440436,74.89986382685373,96.33180408825093,96.33180408825093,87.33679308546584,89.1476978331837,100.0,94.74410667453859,92.68248281233352,74.42381155058266,55.80587481764678,75.185356391806,59.4609196923319],\"type\":\"scatter\",\"xaxis\":\"x10\",\"yaxis\":\"y10\"},{\"fill\":\"tonexty\",\"fillcolor\":\"rgba(169,169,169,0.4)\",\"legendgroup\":\"thresh3_twoport\",\"line\":{\"width\":0},\"marker\":{\"color\":\"rgba(169,169,169,0.4)\"},\"mode\":\"lines\",\"name\":\"Lower Bound\",\"showlegend\":false,\"x\":[4,8,12,16,20,24,28,32,36,40,44,48,52],\"y\":[34.25046365171285,52.46124728425737,84.22375146730461,84.22375146730461,78.63542913675636,76.96341327792742,94.44444444444443,84.1447822143503,82.71434258449187,66.96507733830623,51.31714105536908,71.27297694152732,50.95574697433476],\"type\":\"scatter\",\"xaxis\":\"x10\",\"yaxis\":\"y10\"},{\"legendgroup\":\"thresh5_twoport\",\"line\":{\"color\":\"midnightblue\"},\"mode\":\"lines\",\"name\":\"thresh5_twoport\",\"opacity\":0.8,\"showlegend\":false,\"x\":[4,8,12,16,20,24,28,32,36],\"y\":[48.81734006734007,64.00974025974025,76.49216524216524,84.09722222222221,85.55555555555554,87.6190476190476,83.10185185185185,68.88888888888889,62.49999999999999],\"type\":\"scatter\",\"xaxis\":\"x10\",\"yaxis\":\"y10\"},{\"legendgroup\":\"thresh5_twoport\",\"line\":{\"width\":0},\"marker\":{\"color\":\"rgba(25,25,112,0.4)\"},\"mode\":\"lines\",\"name\":\"Upper Bound\",\"showlegend\":false,\"x\":[4,8,12,16,20,24,28,32,36],\"y\":[57.83292875574384,78.91677859209712,79.37546084856868,86.47360258781508,93.02979113726316,91.32549029486844,96.0586129344042,80.28793584926844,65.90206908719885],\"type\":\"scatter\",\"xaxis\":\"x10\",\"yaxis\":\"y10\"},{\"fill\":\"tonexty\",\"fillcolor\":\"rgba(25,25,112,0.4)\",\"legendgroup\":\"thresh5_twoport\",\"line\":{\"width\":0},\"marker\":{\"color\":\"rgba(25,25,112,0.4)\"},\"mode\":\"lines\",\"name\":\"Lower Bound\",\"showlegend\":false,\"x\":[4,8,12,16,20,24,28,32,36],\"y\":[39.801751378936295,49.10270192738339,73.6088696357618,81.72084185662935,78.08131997384793,83.91260494322677,70.1450907692995,57.489841928509335,59.09793091280114],\"type\":\"scatter\",\"xaxis\":\"x10\",\"yaxis\":\"y10\"},{\"legendgroup\":\"thresh3_twoport\",\"line\":{\"color\":\"darkgrey\"},\"mode\":\"lines\",\"name\":\"thresh3_twoport\",\"opacity\":0.8,\"showlegend\":false,\"x\":[4,8,12,16,20,24,28,32,36,40,44,48],\"y\":[36.37012497306615,75.51587301587301,91.1111111111111,79.76190476190476,84.72222222222221,81.6017316017316,90.97222222222221,94.44444444444444,90.27777777777777,79.16666666666666,74.44444444444444,80.69444444444444],\"type\":\"scatter\",\"xaxis\":\"x11\",\"yaxis\":\"y11\"},{\"legendgroup\":\"thresh3_twoport\",\"line\":{\"width\":0},\"marker\":{\"color\":\"rgba(169,169,169,0.4)\"},\"mode\":\"lines\",\"name\":\"Upper Bound\",\"showlegend\":false,\"x\":[4,8,12,16,20,24,28,32,36,40,44,48],\"y\":[42.30748986561731,80.65303795315549,96.41077334120524,82.240078570793,93.17050351430308,90.92229507350437,96.39600671937961,97.22222222222223,91.66666666666666,85.95377317937255,78.45061252829332,85.68479006200603],\"type\":\"scatter\",\"xaxis\":\"x11\",\"yaxis\":\"y11\"},{\"fill\":\"tonexty\",\"fillcolor\":\"rgba(169,169,169,0.4)\",\"legendgroup\":\"thresh3_twoport\",\"line\":{\"width\":0},\"marker\":{\"color\":\"rgba(169,169,169,0.4)\"},\"mode\":\"lines\",\"name\":\"Lower Bound\",\"showlegend\":false,\"x\":[4,8,12,16,20,24,28,32,36,40,44,48],\"y\":[30.432760080514985,70.37870807859053,85.81144888101696,77.28373095301652,76.27394093014135,72.28116812995883,85.54843772506482,91.66666666666666,88.88888888888889,72.37956015396077,70.43827636059557,75.70409882688286],\"type\":\"scatter\",\"xaxis\":\"x11\",\"yaxis\":\"y11\"},{\"legendgroup\":\"thresh5_twoport\",\"line\":{\"color\":\"midnightblue\"},\"mode\":\"lines\",\"name\":\"thresh5_twoport\",\"opacity\":0.8,\"showlegend\":false,\"x\":[4,8,12,16,20,24,28,32,36,40,44],\"y\":[49.64743589743589,74.90079365079364,77.87698412698411,88.88888888888887,71.66666666666667,75.0,77.91666666666666,77.08333333333333,83.33333333333333,87.70833333333333,71.52777777777777],\"type\":\"scatter\",\"xaxis\":\"x11\",\"yaxis\":\"y11\"},{\"legendgroup\":\"thresh5_twoport\",\"line\":{\"width\":0},\"marker\":{\"color\":\"rgba(25,25,112,0.4)\"},\"mode\":\"lines\",\"name\":\"Upper Bound\",\"showlegend\":false,\"x\":[4,8,12,16,20,24,28,32,36,40,44],\"y\":[59.42230626078118,80.43238169025818,88.69320629581658,91.66666666666664,73.40138833288844,87.5,89.1434946544229,95.79471331292706,96.94160968212877,90.94029896617224,85.70306564110635],\"type\":\"scatter\",\"xaxis\":\"x11\",\"yaxis\":\"y11\"},{\"fill\":\"tonexty\",\"fillcolor\":\"rgba(25,25,112,0.4)\",\"legendgroup\":\"thresh5_twoport\",\"line\":{\"width\":0},\"marker\":{\"color\":\"rgba(25,25,112,0.4)\"},\"mode\":\"lines\",\"name\":\"Lower Bound\",\"showlegend\":false,\"x\":[4,8,12,16,20,24,28,32,36,40,44],\"y\":[39.872565534090604,69.36920561132911,67.06076195815164,86.1111111111111,69.9319450004449,62.49999999999999,66.68983867891042,58.371953353739606,69.72505698453789,84.47636770049442,57.352489914449194],\"type\":\"scatter\",\"xaxis\":\"x11\",\"yaxis\":\"y11\"},{\"legendgroup\":\"thresh3_twoport\",\"line\":{\"color\":\"darkgrey\"},\"mode\":\"lines\",\"name\":\"thresh3_twoport\",\"opacity\":0.8,\"showlegend\":false,\"x\":[4,8,12,16,20,24,28,32,36,40,44,48,52,56,60],\"y\":[32.26648351648351,58.96825396825397,73.07539682539682,76.25,84.64285714285714,72.63888888888889,91.38888888888887,88.88888888888887,79.16666666666667,76.78571428571428,78.37301587301587,72.31481481481482,81.25,83.33333333333333,87.5],\"type\":\"scatter\",\"xaxis\":\"x12\",\"yaxis\":\"y12\"},{\"legendgroup\":\"thresh3_twoport\",\"line\":{\"width\":0},\"marker\":{\"color\":\"rgba(169,169,169,0.4)\"},\"mode\":\"lines\",\"name\":\"Upper Bound\",\"showlegend\":false,\"x\":[4,8,12,16,20,24,28,32,36,40,44,48,52,56,60],\"y\":[39.32195111096216,81.4006851956866,92.27913246352352,86.01281209488332,86.0730810548365,79.8811154580465,95.70115963785,96.23819808629051,90.19063046276914,84.91095048787432,93.43278802313169,78.7304860004889,86.35310363079829,90.13747150773104,97.70620726159657],\"type\":\"scatter\",\"xaxis\":\"x12\",\"yaxis\":\"y12\"},{\"fill\":\"tonexty\",\"fillcolor\":\"rgba(169,169,169,0.4)\",\"legendgroup\":\"thresh3_twoport\",\"line\":{\"width\":0},\"marker\":{\"color\":\"rgba(169,169,169,0.4)\"},\"mode\":\"lines\",\"name\":\"Lower Bound\",\"showlegend\":false,\"x\":[4,8,12,16,20,24,28,32,36,40,44,48,52,56,60],\"y\":[25.211015922004858,36.53582274082134,53.871661187270114,66.48718790511668,83.21263323087777,65.39666231973128,87.07661813992775,81.53957969148723,68.14270287056421,68.66047808355424,63.313243722900054,65.89914362914075,76.14689636920171,76.52919515893562,77.29379273840343],\"type\":\"scatter\",\"xaxis\":\"x12\",\"yaxis\":\"y12\"},{\"legendgroup\":\"thresh5_twoport\",\"line\":{\"color\":\"midnightblue\"},\"mode\":\"lines\",\"name\":\"thresh5_twoport\",\"opacity\":0.8,\"showlegend\":false,\"x\":[4,8,12,16,20,24,28,32,36,40,44,48],\"y\":[72.84493284493284,85.27777777777777,94.44444444444444,97.22222222222221,93.05555555555554,88.19444444444444,90.55555555555554,77.63888888888889,87.5,81.25,58.33333333333333,66.96428571428572],\"type\":\"scatter\",\"xaxis\":\"x12\",\"yaxis\":\"y12\"},{\"legendgroup\":\"thresh5_twoport\",\"line\":{\"width\":0},\"marker\":{\"color\":\"rgba(25,25,112,0.4)\"},\"mode\":\"lines\",\"name\":\"Upper Bound\",\"showlegend\":false,\"x\":[4,8,12,16,20,24,28,32,36,40,44,48],\"y\":[79.42900856963315,92.64281865753492,97.22222222222223,100.0,96.73021015425637,94.36680167869139,96.35572583828363,78.88631422086179,92.60310363079829,89.75517271799714,null,null],\"type\":\"scatter\",\"xaxis\":\"x12\",\"yaxis\":\"y12\"},{\"fill\":\"tonexty\",\"fillcolor\":\"rgba(25,25,112,0.4)\",\"legendgroup\":\"thresh5_twoport\",\"line\":{\"width\":0},\"marker\":{\"color\":\"rgba(25,25,112,0.4)\"},\"mode\":\"lines\",\"name\":\"Lower Bound\",\"showlegend\":false,\"x\":[4,8,12,16,20,24,28,32,36,40,44,48],\"y\":[66.26085712023253,77.91273689802063,91.66666666666666,94.44444444444443,89.38090095685472,82.0220872101975,84.75538527282745,76.39146355691598,82.39689636920171,72.74482728200286,null,null],\"type\":\"scatter\",\"xaxis\":\"x12\",\"yaxis\":\"y12\"},{\"legendgroup\":\"thresh3_twoport\",\"line\":{\"color\":\"darkgrey\"},\"mode\":\"lines\",\"name\":\"thresh3_twoport\",\"opacity\":0.8,\"showlegend\":false,\"x\":[4,8,12,16,20,24,28,32,36,40,44,48],\"y\":[27.030423280423282,36.15079365079365,49.64285714285714,49.72222222222222,70.0,73.05555555555556,67.91666666666667,73.6111111111111,61.458333333333336,63.01587301587301,36.666666666666664,53.910984848484844],\"type\":\"scatter\",\"xaxis\":\"x13\",\"yaxis\":\"y13\"},{\"legendgroup\":\"thresh3_twoport\",\"line\":{\"width\":0},\"marker\":{\"color\":\"rgba(169,169,169,0.4)\"},\"mode\":\"lines\",\"name\":\"Upper Bound\",\"showlegend\":false,\"x\":[4,8,12,16,20,24,28,32,36,40,44,48],\"y\":[29.072735902017065,46.02106262507144,66.48841073236441,67.91825692795813,85.612494995996,82.87255391504016,73.98819249844288,83.33333333333331,64.58333333333334,77.00524873121549,57.37182794842691,62.62492089683283],\"type\":\"scatter\",\"xaxis\":\"x13\",\"yaxis\":\"y13\"},{\"fill\":\"tonexty\",\"fillcolor\":\"rgba(169,169,169,0.4)\",\"legendgroup\":\"thresh3_twoport\",\"line\":{\"width\":0},\"marker\":{\"color\":\"rgba(169,169,169,0.4)\"},\"mode\":\"lines\",\"name\":\"Lower Bound\",\"showlegend\":false,\"x\":[4,8,12,16,20,24,28,32,36,40,44,48],\"y\":[24.9881106588295,26.28052467651587,32.79730355334986,31.526187516486313,54.387505004004005,63.23855719607095,61.84514083489045,63.88888888888888,58.333333333333336,49.02649730053054,15.961505384906417,45.197048800136855],\"type\":\"scatter\",\"xaxis\":\"x13\",\"yaxis\":\"y13\"},{\"legendgroup\":\"thresh5_twoport\",\"line\":{\"color\":\"midnightblue\"},\"mode\":\"lines\",\"name\":\"thresh5_twoport\",\"opacity\":0.8,\"showlegend\":false,\"x\":[4,8,12,16,20,24,28,32,36,40,44,48,52,56],\"y\":[20.01984126984127,26.95906432748538,27.083333333333332,37.77777777777778,43.35628695922813,61.32575757575757,73.56481481481481,83.05555555555556,79.72222222222221,93.75,51.041666666666664,75.0,69.69696969696969,60.11904761904762],\"type\":\"scatter\",\"xaxis\":\"x13\",\"yaxis\":\"y13\"},{\"legendgroup\":\"thresh5_twoport\",\"line\":{\"width\":0},\"marker\":{\"color\":\"rgba(25,25,112,0.4)\"},\"mode\":\"lines\",\"name\":\"Upper Bound\",\"showlegend\":false,\"x\":[4,8,12,16,20,24,28,32,36,40,44,48,52,56],\"y\":[21.895969468254382,37.069334485540274,45.600405036074136,61.56500899175391,54.37709802899586,71.51275740714749,88.64994987306508,93.37828009781225,91.2725682701621,98.85310363079829,65.50046028726182,null,null,null],\"type\":\"scatter\",\"xaxis\":\"x13\",\"yaxis\":\"y13\"},{\"fill\":\"tonexty\",\"fillcolor\":\"rgba(25,25,112,0.4)\",\"legendgroup\":\"thresh5_twoport\",\"line\":{\"width\":0},\"marker\":{\"color\":\"rgba(25,25,112,0.4)\"},\"mode\":\"lines\",\"name\":\"Lower Bound\",\"showlegend\":false,\"x\":[4,8,12,16,20,24,28,32,36,40,44,48,52,56],\"y\":[18.143713071428156,16.848794169430484,8.566261630592525,13.990546563801644,32.3354758894604,51.13875774436765,58.479679756564536,72.73283101329886,68.17187617428233,88.64689636920171,36.58287304607151,null,null,null],\"type\":\"scatter\",\"xaxis\":\"x13\",\"yaxis\":\"y13\"},{\"legendgroup\":\"thresh3_twoport\",\"line\":{\"color\":\"darkgrey\"},\"mode\":\"lines\",\"name\":\"thresh3_twoport\",\"opacity\":0.8,\"showlegend\":false,\"x\":[4,8,12,16,20,24,28,32,36,40,44,48],\"y\":[29.907407407407405,68.33333333333333,72.12301587301586,85.11904761904762,76.94444444444444,71.08585858585859,74.16666666666666,54.791666666666664,72.91666666666666,79.6875,79.16666666666666,75.0],\"type\":\"scatter\",\"xaxis\":\"x14\",\"yaxis\":\"y14\"},{\"legendgroup\":\"thresh3_twoport\",\"line\":{\"width\":0},\"marker\":{\"color\":\"rgba(169,169,169,0.4)\"},\"mode\":\"lines\",\"name\":\"Upper Bound\",\"showlegend\":false,\"x\":[4,8,12,16,20,24,28,32,36,40,44,48],\"y\":[33.251634326368965,83.15480174661566,84.57370912819822,100.0,81.87646691793464,81.92019255579815,82.94637812737727,67.12094058569248,95.03011573345924,82.664310451299,null,null],\"type\":\"scatter\",\"xaxis\":\"x14\",\"yaxis\":\"y14\"},{\"fill\":\"tonexty\",\"fillcolor\":\"rgba(169,169,169,0.4)\",\"legendgroup\":\"thresh3_twoport\",\"line\":{\"width\":0},\"marker\":{\"color\":\"rgba(169,169,169,0.4)\"},\"mode\":\"lines\",\"name\":\"Lower Bound\",\"showlegend\":false,\"x\":[4,8,12,16,20,24,28,32,36,40,44,48],\"y\":[26.563180488445845,53.511864920050996,59.6723226178335,70.23809523809524,72.01242197095425,60.25152461591902,65.38695520595604,42.46239274764085,50.803217599874074,76.710689548701,null,null],\"type\":\"scatter\",\"xaxis\":\"x14\",\"yaxis\":\"y14\"},{\"legendgroup\":\"thresh5_twoport\",\"line\":{\"color\":\"midnightblue\"},\"mode\":\"lines\",\"name\":\"thresh5_twoport\",\"opacity\":0.8,\"showlegend\":false,\"x\":[4,8,12,16,20,24,28,32,36,40,44,48],\"y\":[27.38095238095238,46.666666666666664,61.458333333333336,75.03968253968253,85.31746031746032,86.1111111111111,92.77777777777777,86.1111111111111,86.25,83.33333333333333,70.83333333333333,67.85714285714285],\"type\":\"scatter\",\"xaxis\":\"x14\",\"yaxis\":\"y14\"},{\"legendgroup\":\"thresh5_twoport\",\"line\":{\"width\":0},\"marker\":{\"color\":\"rgba(25,25,112,0.4)\"},\"mode\":\"lines\",\"name\":\"Upper Bound\",\"showlegend\":false,\"x\":[4,8,12,16,20,24,28,32,36,40,44,48],\"y\":[29.214633547708257,55.36692209075879,70.61499337867417,79.18665033552118,90.52177660658889,96.12653132073329,93.88888888888889,96.12653132073329,87.27062072615966,90.13747150773104,81.0395405949299,null],\"type\":\"scatter\",\"xaxis\":\"x14\",\"yaxis\":\"y14\"},{\"fill\":\"tonexty\",\"fillcolor\":\"rgba(25,25,112,0.4)\",\"legendgroup\":\"thresh5_twoport\",\"line\":{\"width\":0},\"marker\":{\"color\":\"rgba(25,25,112,0.4)\"},\"mode\":\"lines\",\"name\":\"Lower Bound\",\"showlegend\":false,\"x\":[4,8,12,16,20,24,28,32,36,40,44,48],\"y\":[25.547271214196503,37.96641124257454,52.30167328799251,70.89271474384388,80.11314402833175,76.09569090148891,91.66666666666666,76.09569090148891,85.22937927384034,76.52919515893562,60.627126071736754,null],\"type\":\"scatter\",\"xaxis\":\"x14\",\"yaxis\":\"y14\"}],                        {\"template\":{\"data\":{\"barpolar\":[{\"marker\":{\"line\":{\"color\":\"white\",\"width\":0.5},\"pattern\":{\"fillmode\":\"overlay\",\"size\":10,\"solidity\":0.2}},\"type\":\"barpolar\"}],\"bar\":[{\"error_x\":{\"color\":\"rgb(36,36,36)\"},\"error_y\":{\"color\":\"rgb(36,36,36)\"},\"marker\":{\"line\":{\"color\":\"white\",\"width\":0.5},\"pattern\":{\"fillmode\":\"overlay\",\"size\":10,\"solidity\":0.2}},\"type\":\"bar\"}],\"carpet\":[{\"aaxis\":{\"endlinecolor\":\"rgb(36,36,36)\",\"gridcolor\":\"white\",\"linecolor\":\"white\",\"minorgridcolor\":\"white\",\"startlinecolor\":\"rgb(36,36,36)\"},\"baxis\":{\"endlinecolor\":\"rgb(36,36,36)\",\"gridcolor\":\"white\",\"linecolor\":\"white\",\"minorgridcolor\":\"white\",\"startlinecolor\":\"rgb(36,36,36)\"},\"type\":\"carpet\"}],\"choropleth\":[{\"colorbar\":{\"outlinewidth\":1,\"tickcolor\":\"rgb(36,36,36)\",\"ticks\":\"outside\"},\"type\":\"choropleth\"}],\"contourcarpet\":[{\"colorbar\":{\"outlinewidth\":1,\"tickcolor\":\"rgb(36,36,36)\",\"ticks\":\"outside\"},\"type\":\"contourcarpet\"}],\"contour\":[{\"colorbar\":{\"outlinewidth\":1,\"tickcolor\":\"rgb(36,36,36)\",\"ticks\":\"outside\"},\"colorscale\":[[0.0,\"#440154\"],[0.1111111111111111,\"#482878\"],[0.2222222222222222,\"#3e4989\"],[0.3333333333333333,\"#31688e\"],[0.4444444444444444,\"#26828e\"],[0.5555555555555556,\"#1f9e89\"],[0.6666666666666666,\"#35b779\"],[0.7777777777777778,\"#6ece58\"],[0.8888888888888888,\"#b5de2b\"],[1.0,\"#fde725\"]],\"type\":\"contour\"}],\"heatmapgl\":[{\"colorbar\":{\"outlinewidth\":1,\"tickcolor\":\"rgb(36,36,36)\",\"ticks\":\"outside\"},\"colorscale\":[[0.0,\"#440154\"],[0.1111111111111111,\"#482878\"],[0.2222222222222222,\"#3e4989\"],[0.3333333333333333,\"#31688e\"],[0.4444444444444444,\"#26828e\"],[0.5555555555555556,\"#1f9e89\"],[0.6666666666666666,\"#35b779\"],[0.7777777777777778,\"#6ece58\"],[0.8888888888888888,\"#b5de2b\"],[1.0,\"#fde725\"]],\"type\":\"heatmapgl\"}],\"heatmap\":[{\"colorbar\":{\"outlinewidth\":1,\"tickcolor\":\"rgb(36,36,36)\",\"ticks\":\"outside\"},\"colorscale\":[[0.0,\"#440154\"],[0.1111111111111111,\"#482878\"],[0.2222222222222222,\"#3e4989\"],[0.3333333333333333,\"#31688e\"],[0.4444444444444444,\"#26828e\"],[0.5555555555555556,\"#1f9e89\"],[0.6666666666666666,\"#35b779\"],[0.7777777777777778,\"#6ece58\"],[0.8888888888888888,\"#b5de2b\"],[1.0,\"#fde725\"]],\"type\":\"heatmap\"}],\"histogram2dcontour\":[{\"colorbar\":{\"outlinewidth\":1,\"tickcolor\":\"rgb(36,36,36)\",\"ticks\":\"outside\"},\"colorscale\":[[0.0,\"#440154\"],[0.1111111111111111,\"#482878\"],[0.2222222222222222,\"#3e4989\"],[0.3333333333333333,\"#31688e\"],[0.4444444444444444,\"#26828e\"],[0.5555555555555556,\"#1f9e89\"],[0.6666666666666666,\"#35b779\"],[0.7777777777777778,\"#6ece58\"],[0.8888888888888888,\"#b5de2b\"],[1.0,\"#fde725\"]],\"type\":\"histogram2dcontour\"}],\"histogram2d\":[{\"colorbar\":{\"outlinewidth\":1,\"tickcolor\":\"rgb(36,36,36)\",\"ticks\":\"outside\"},\"colorscale\":[[0.0,\"#440154\"],[0.1111111111111111,\"#482878\"],[0.2222222222222222,\"#3e4989\"],[0.3333333333333333,\"#31688e\"],[0.4444444444444444,\"#26828e\"],[0.5555555555555556,\"#1f9e89\"],[0.6666666666666666,\"#35b779\"],[0.7777777777777778,\"#6ece58\"],[0.8888888888888888,\"#b5de2b\"],[1.0,\"#fde725\"]],\"type\":\"histogram2d\"}],\"histogram\":[{\"marker\":{\"line\":{\"color\":\"white\",\"width\":0.6}},\"type\":\"histogram\"}],\"mesh3d\":[{\"colorbar\":{\"outlinewidth\":1,\"tickcolor\":\"rgb(36,36,36)\",\"ticks\":\"outside\"},\"type\":\"mesh3d\"}],\"parcoords\":[{\"line\":{\"colorbar\":{\"outlinewidth\":1,\"tickcolor\":\"rgb(36,36,36)\",\"ticks\":\"outside\"}},\"type\":\"parcoords\"}],\"pie\":[{\"automargin\":true,\"type\":\"pie\"}],\"scatter3d\":[{\"line\":{\"colorbar\":{\"outlinewidth\":1,\"tickcolor\":\"rgb(36,36,36)\",\"ticks\":\"outside\"}},\"marker\":{\"colorbar\":{\"outlinewidth\":1,\"tickcolor\":\"rgb(36,36,36)\",\"ticks\":\"outside\"}},\"type\":\"scatter3d\"}],\"scattercarpet\":[{\"marker\":{\"colorbar\":{\"outlinewidth\":1,\"tickcolor\":\"rgb(36,36,36)\",\"ticks\":\"outside\"}},\"type\":\"scattercarpet\"}],\"scattergeo\":[{\"marker\":{\"colorbar\":{\"outlinewidth\":1,\"tickcolor\":\"rgb(36,36,36)\",\"ticks\":\"outside\"}},\"type\":\"scattergeo\"}],\"scattergl\":[{\"marker\":{\"colorbar\":{\"outlinewidth\":1,\"tickcolor\":\"rgb(36,36,36)\",\"ticks\":\"outside\"}},\"type\":\"scattergl\"}],\"scattermapbox\":[{\"marker\":{\"colorbar\":{\"outlinewidth\":1,\"tickcolor\":\"rgb(36,36,36)\",\"ticks\":\"outside\"}},\"type\":\"scattermapbox\"}],\"scatterpolargl\":[{\"marker\":{\"colorbar\":{\"outlinewidth\":1,\"tickcolor\":\"rgb(36,36,36)\",\"ticks\":\"outside\"}},\"type\":\"scatterpolargl\"}],\"scatterpolar\":[{\"marker\":{\"colorbar\":{\"outlinewidth\":1,\"tickcolor\":\"rgb(36,36,36)\",\"ticks\":\"outside\"}},\"type\":\"scatterpolar\"}],\"scatter\":[{\"fillpattern\":{\"fillmode\":\"overlay\",\"size\":10,\"solidity\":0.2},\"type\":\"scatter\"}],\"scatterternary\":[{\"marker\":{\"colorbar\":{\"outlinewidth\":1,\"tickcolor\":\"rgb(36,36,36)\",\"ticks\":\"outside\"}},\"type\":\"scatterternary\"}],\"surface\":[{\"colorbar\":{\"outlinewidth\":1,\"tickcolor\":\"rgb(36,36,36)\",\"ticks\":\"outside\"},\"colorscale\":[[0.0,\"#440154\"],[0.1111111111111111,\"#482878\"],[0.2222222222222222,\"#3e4989\"],[0.3333333333333333,\"#31688e\"],[0.4444444444444444,\"#26828e\"],[0.5555555555555556,\"#1f9e89\"],[0.6666666666666666,\"#35b779\"],[0.7777777777777778,\"#6ece58\"],[0.8888888888888888,\"#b5de2b\"],[1.0,\"#fde725\"]],\"type\":\"surface\"}],\"table\":[{\"cells\":{\"fill\":{\"color\":\"rgb(237,237,237)\"},\"line\":{\"color\":\"white\"}},\"header\":{\"fill\":{\"color\":\"rgb(217,217,217)\"},\"line\":{\"color\":\"white\"}},\"type\":\"table\"}]},\"layout\":{\"annotationdefaults\":{\"arrowhead\":0,\"arrowwidth\":1},\"autotypenumbers\":\"strict\",\"coloraxis\":{\"colorbar\":{\"outlinewidth\":1,\"tickcolor\":\"rgb(36,36,36)\",\"ticks\":\"outside\"}},\"colorscale\":{\"diverging\":[[0.0,\"rgb(103,0,31)\"],[0.1,\"rgb(178,24,43)\"],[0.2,\"rgb(214,96,77)\"],[0.3,\"rgb(244,165,130)\"],[0.4,\"rgb(253,219,199)\"],[0.5,\"rgb(247,247,247)\"],[0.6,\"rgb(209,229,240)\"],[0.7,\"rgb(146,197,222)\"],[0.8,\"rgb(67,147,195)\"],[0.9,\"rgb(33,102,172)\"],[1.0,\"rgb(5,48,97)\"]],\"sequential\":[[0.0,\"#440154\"],[0.1111111111111111,\"#482878\"],[0.2222222222222222,\"#3e4989\"],[0.3333333333333333,\"#31688e\"],[0.4444444444444444,\"#26828e\"],[0.5555555555555556,\"#1f9e89\"],[0.6666666666666666,\"#35b779\"],[0.7777777777777778,\"#6ece58\"],[0.8888888888888888,\"#b5de2b\"],[1.0,\"#fde725\"]],\"sequentialminus\":[[0.0,\"#440154\"],[0.1111111111111111,\"#482878\"],[0.2222222222222222,\"#3e4989\"],[0.3333333333333333,\"#31688e\"],[0.4444444444444444,\"#26828e\"],[0.5555555555555556,\"#1f9e89\"],[0.6666666666666666,\"#35b779\"],[0.7777777777777778,\"#6ece58\"],[0.8888888888888888,\"#b5de2b\"],[1.0,\"#fde725\"]]},\"colorway\":[\"#1F77B4\",\"#FF7F0E\",\"#2CA02C\",\"#D62728\",\"#9467BD\",\"#8C564B\",\"#E377C2\",\"#7F7F7F\",\"#BCBD22\",\"#17BECF\"],\"font\":{\"color\":\"rgb(36,36,36)\"},\"geo\":{\"bgcolor\":\"white\",\"lakecolor\":\"white\",\"landcolor\":\"white\",\"showlakes\":true,\"showland\":true,\"subunitcolor\":\"white\"},\"hoverlabel\":{\"align\":\"left\"},\"hovermode\":\"closest\",\"mapbox\":{\"style\":\"light\"},\"paper_bgcolor\":\"white\",\"plot_bgcolor\":\"white\",\"polar\":{\"angularaxis\":{\"gridcolor\":\"rgb(232,232,232)\",\"linecolor\":\"rgb(36,36,36)\",\"showgrid\":false,\"showline\":true,\"ticks\":\"outside\"},\"bgcolor\":\"white\",\"radialaxis\":{\"gridcolor\":\"rgb(232,232,232)\",\"linecolor\":\"rgb(36,36,36)\",\"showgrid\":false,\"showline\":true,\"ticks\":\"outside\"}},\"scene\":{\"xaxis\":{\"backgroundcolor\":\"white\",\"gridcolor\":\"rgb(232,232,232)\",\"gridwidth\":2,\"linecolor\":\"rgb(36,36,36)\",\"showbackground\":true,\"showgrid\":false,\"showline\":true,\"ticks\":\"outside\",\"zeroline\":false,\"zerolinecolor\":\"rgb(36,36,36)\"},\"yaxis\":{\"backgroundcolor\":\"white\",\"gridcolor\":\"rgb(232,232,232)\",\"gridwidth\":2,\"linecolor\":\"rgb(36,36,36)\",\"showbackground\":true,\"showgrid\":false,\"showline\":true,\"ticks\":\"outside\",\"zeroline\":false,\"zerolinecolor\":\"rgb(36,36,36)\"},\"zaxis\":{\"backgroundcolor\":\"white\",\"gridcolor\":\"rgb(232,232,232)\",\"gridwidth\":2,\"linecolor\":\"rgb(36,36,36)\",\"showbackground\":true,\"showgrid\":false,\"showline\":true,\"ticks\":\"outside\",\"zeroline\":false,\"zerolinecolor\":\"rgb(36,36,36)\"}},\"shapedefaults\":{\"fillcolor\":\"black\",\"line\":{\"width\":0},\"opacity\":0.3},\"ternary\":{\"aaxis\":{\"gridcolor\":\"rgb(232,232,232)\",\"linecolor\":\"rgb(36,36,36)\",\"showgrid\":false,\"showline\":true,\"ticks\":\"outside\"},\"baxis\":{\"gridcolor\":\"rgb(232,232,232)\",\"linecolor\":\"rgb(36,36,36)\",\"showgrid\":false,\"showline\":true,\"ticks\":\"outside\"},\"bgcolor\":\"white\",\"caxis\":{\"gridcolor\":\"rgb(232,232,232)\",\"linecolor\":\"rgb(36,36,36)\",\"showgrid\":false,\"showline\":true,\"ticks\":\"outside\"}},\"title\":{\"x\":0.05},\"xaxis\":{\"automargin\":true,\"gridcolor\":\"rgb(232,232,232)\",\"linecolor\":\"rgb(36,36,36)\",\"showgrid\":false,\"showline\":true,\"ticks\":\"outside\",\"title\":{\"standoff\":15},\"zeroline\":false,\"zerolinecolor\":\"rgb(36,36,36)\"},\"yaxis\":{\"automargin\":true,\"gridcolor\":\"rgb(232,232,232)\",\"linecolor\":\"rgb(36,36,36)\",\"showgrid\":false,\"showline\":true,\"ticks\":\"outside\",\"title\":{\"standoff\":15},\"zeroline\":false,\"zerolinecolor\":\"rgb(36,36,36)\"}}},\"xaxis\":{\"anchor\":\"y\",\"domain\":[0.0,0.1388888888888889],\"title\":{\"text\":\"\"},\"linewidth\":1.5,\"matches\":\"x\"},\"yaxis\":{\"anchor\":\"x\",\"domain\":[0.7777777777777778,1.0],\"title\":{\"text\":\"Lick Accuracy\"},\"linewidth\":1.5,\"matches\":\"y\",\"range\":[0,100],\"dtick\":25},\"xaxis2\":{\"anchor\":\"y2\",\"domain\":[0.17222222222222222,0.3111111111111111],\"title\":{\"text\":\"\"},\"linewidth\":1.5,\"matches\":\"x\"},\"yaxis2\":{\"anchor\":\"x2\",\"domain\":[0.7777777777777778,1.0],\"matches\":\"y\",\"showticklabels\":false,\"title\":{\"text\":\"\"},\"linewidth\":1.5},\"xaxis3\":{\"anchor\":\"y3\",\"domain\":[0.34444444444444444,0.48333333333333334],\"title\":{\"text\":\"\"},\"linewidth\":1.5,\"matches\":\"x\"},\"yaxis3\":{\"anchor\":\"x3\",\"domain\":[0.7777777777777778,1.0],\"matches\":\"y\",\"showticklabels\":false,\"title\":{\"text\":\"\"},\"linewidth\":1.5},\"xaxis4\":{\"anchor\":\"y4\",\"domain\":[0.5166666666666667,0.6555555555555557],\"title\":{\"text\":\"\"},\"linewidth\":1.5,\"matches\":\"x\"},\"yaxis4\":{\"anchor\":\"x4\",\"domain\":[0.7777777777777778,1.0],\"matches\":\"y\",\"showticklabels\":false,\"title\":{\"text\":\"\"},\"linewidth\":1.5},\"xaxis5\":{\"anchor\":\"y5\",\"domain\":[0.6888888888888889,0.8277777777777777],\"title\":{\"text\":\"\"},\"linewidth\":1.5,\"matches\":\"x\"},\"yaxis5\":{\"anchor\":\"x5\",\"domain\":[0.7777777777777778,1.0],\"matches\":\"y\",\"showticklabels\":false,\"title\":{\"text\":\"\"},\"linewidth\":1.5},\"xaxis6\":{\"anchor\":\"y6\",\"domain\":[0.861111111111111,1.0],\"title\":{\"text\":\"\"},\"linewidth\":1.5,\"matches\":\"x\"},\"yaxis6\":{\"anchor\":\"x6\",\"domain\":[0.7777777777777778,1.0],\"matches\":\"y\",\"showticklabels\":false,\"title\":{\"text\":\"\"},\"linewidth\":1.5},\"xaxis7\":{\"anchor\":\"y7\",\"domain\":[0.0,0.1388888888888889],\"title\":{\"text\":\"\"},\"linewidth\":1.5,\"matches\":\"x\"},\"yaxis7\":{\"anchor\":\"x7\",\"domain\":[0.3888888888888889,0.6111111111111112],\"title\":{\"text\":\"Lick Accuracy\"},\"linewidth\":1.5,\"matches\":\"y\",\"range\":[0,100],\"dtick\":25},\"xaxis8\":{\"anchor\":\"y8\",\"domain\":[0.17222222222222222,0.3111111111111111],\"title\":{\"text\":\"\"},\"linewidth\":1.5,\"matches\":\"x\"},\"yaxis8\":{\"anchor\":\"x8\",\"domain\":[0.3888888888888889,0.6111111111111112],\"matches\":\"y\",\"showticklabels\":false,\"title\":{\"text\":\"\"},\"linewidth\":1.5},\"xaxis9\":{\"anchor\":\"y9\",\"domain\":[0.34444444444444444,0.48333333333333334],\"title\":{\"text\":\"\"},\"linewidth\":1.5,\"matches\":\"x\"},\"yaxis9\":{\"anchor\":\"x9\",\"domain\":[0.3888888888888889,0.6111111111111112],\"matches\":\"y\",\"showticklabels\":false,\"title\":{\"text\":\"\"},\"linewidth\":1.5},\"xaxis10\":{\"anchor\":\"y10\",\"domain\":[0.5166666666666667,0.6555555555555557],\"title\":{\"text\":\"\"},\"linewidth\":1.5,\"matches\":\"x\"},\"yaxis10\":{\"anchor\":\"x10\",\"domain\":[0.3888888888888889,0.6111111111111112],\"matches\":\"y\",\"showticklabels\":false,\"title\":{\"text\":\"\"},\"linewidth\":1.5},\"xaxis11\":{\"anchor\":\"y11\",\"domain\":[0.6888888888888889,0.8277777777777777],\"title\":{\"text\":\"\"},\"linewidth\":1.5,\"matches\":\"x\"},\"yaxis11\":{\"anchor\":\"x11\",\"domain\":[0.3888888888888889,0.6111111111111112],\"matches\":\"y\",\"showticklabels\":false,\"title\":{\"text\":\"\"},\"linewidth\":1.5},\"xaxis12\":{\"anchor\":\"y12\",\"domain\":[0.861111111111111,1.0],\"title\":{\"text\":\"\"},\"linewidth\":1.5,\"matches\":\"x\"},\"yaxis12\":{\"anchor\":\"x12\",\"domain\":[0.3888888888888889,0.6111111111111112],\"matches\":\"y\",\"showticklabels\":false,\"title\":{\"text\":\"\"},\"linewidth\":1.5},\"xaxis13\":{\"anchor\":\"y13\",\"domain\":[0.0,0.1388888888888889],\"title\":{\"text\":\"Trial\"},\"linewidth\":1.5,\"matches\":\"x\"},\"yaxis13\":{\"anchor\":\"x13\",\"domain\":[0.0,0.22222222222222224],\"title\":{\"text\":\"Lick Accuracy\"},\"linewidth\":1.5,\"matches\":\"y\",\"range\":[0,100],\"dtick\":25},\"xaxis14\":{\"anchor\":\"y14\",\"domain\":[0.17222222222222222,0.3111111111111111],\"title\":{\"text\":\"Trial\"},\"linewidth\":1.5,\"matches\":\"x\"},\"yaxis14\":{\"anchor\":\"x14\",\"domain\":[0.0,0.22222222222222224],\"matches\":\"y\",\"showticklabels\":false,\"title\":{\"text\":\"\"},\"linewidth\":1.5},\"xaxis15\":{\"anchor\":\"y15\",\"domain\":[0.34444444444444444,0.48333333333333334],\"title\":{\"text\":\"Trial\"},\"linewidth\":1.5,\"matches\":\"x\"},\"yaxis15\":{\"anchor\":\"x15\",\"domain\":[0.0,0.22222222222222224],\"matches\":\"y\",\"showticklabels\":false,\"title\":{\"text\":\"\"},\"linewidth\":1.5},\"xaxis16\":{\"anchor\":\"y16\",\"domain\":[0.5166666666666667,0.6555555555555557],\"title\":{\"text\":\"Trial\"},\"linewidth\":1.5,\"matches\":\"x\"},\"yaxis16\":{\"anchor\":\"x16\",\"domain\":[0.0,0.22222222222222224],\"matches\":\"y\",\"showticklabels\":false,\"title\":{\"text\":\"\"},\"linewidth\":1.5},\"xaxis17\":{\"anchor\":\"y17\",\"domain\":[0.6888888888888889,0.8277777777777777],\"title\":{\"text\":\"Trial\"},\"linewidth\":1.5,\"matches\":\"x\"},\"yaxis17\":{\"anchor\":\"x17\",\"domain\":[0.0,0.22222222222222224],\"matches\":\"y\",\"showticklabels\":false,\"title\":{\"text\":\"\"},\"linewidth\":1.5},\"xaxis18\":{\"anchor\":\"y18\",\"domain\":[0.861111111111111,1.0],\"title\":{\"text\":\"Trial\"},\"linewidth\":1.5,\"matches\":\"x\"},\"yaxis18\":{\"anchor\":\"x18\",\"domain\":[0.0,0.22222222222222224],\"matches\":\"y\",\"showticklabels\":false,\"title\":{\"text\":\"\"},\"linewidth\":1.5},\"annotations\":[{\"font\":{\"size\":22},\"showarrow\":false,\"text\":\"Day 1\",\"x\":0.06944444444444445,\"xanchor\":\"center\",\"xref\":\"paper\",\"y\":1.0,\"yanchor\":\"bottom\",\"yref\":\"paper\"},{\"font\":{\"size\":22},\"showarrow\":false,\"text\":\"Day 2\",\"x\":0.24166666666666667,\"xanchor\":\"center\",\"xref\":\"paper\",\"y\":1.0,\"yanchor\":\"bottom\",\"yref\":\"paper\"},{\"font\":{\"size\":22},\"showarrow\":false,\"text\":\"Day 3\",\"x\":0.41388888888888886,\"xanchor\":\"center\",\"xref\":\"paper\",\"y\":1.0,\"yanchor\":\"bottom\",\"yref\":\"paper\"},{\"font\":{\"size\":22},\"showarrow\":false,\"text\":\"Day 4\",\"x\":0.5861111111111112,\"xanchor\":\"center\",\"xref\":\"paper\",\"y\":1.0,\"yanchor\":\"bottom\",\"yref\":\"paper\"},{\"font\":{\"size\":22},\"showarrow\":false,\"text\":\"Day 5\",\"x\":0.7583333333333333,\"xanchor\":\"center\",\"xref\":\"paper\",\"y\":1.0,\"yanchor\":\"bottom\",\"yref\":\"paper\"},{\"font\":{\"size\":22},\"showarrow\":false,\"text\":\"Day 6\",\"x\":0.9305555555555556,\"xanchor\":\"center\",\"xref\":\"paper\",\"y\":1.0,\"yanchor\":\"bottom\",\"yref\":\"paper\"},{\"font\":{\"size\":22},\"showarrow\":false,\"text\":\"Day 7\",\"x\":0.06944444444444445,\"xanchor\":\"center\",\"xref\":\"paper\",\"y\":0.6111111111111112,\"yanchor\":\"bottom\",\"yref\":\"paper\"},{\"font\":{\"size\":22},\"showarrow\":false,\"text\":\"Day 8\",\"x\":0.24166666666666667,\"xanchor\":\"center\",\"xref\":\"paper\",\"y\":0.6111111111111112,\"yanchor\":\"bottom\",\"yref\":\"paper\"},{\"font\":{\"size\":22},\"showarrow\":false,\"text\":\"Day 9\",\"x\":0.41388888888888886,\"xanchor\":\"center\",\"xref\":\"paper\",\"y\":0.6111111111111112,\"yanchor\":\"bottom\",\"yref\":\"paper\"},{\"font\":{\"size\":22},\"showarrow\":false,\"text\":\"Day 10\",\"x\":0.5861111111111112,\"xanchor\":\"center\",\"xref\":\"paper\",\"y\":0.6111111111111112,\"yanchor\":\"bottom\",\"yref\":\"paper\"},{\"font\":{\"size\":22},\"showarrow\":false,\"text\":\"Day 11\",\"x\":0.7583333333333333,\"xanchor\":\"center\",\"xref\":\"paper\",\"y\":0.6111111111111112,\"yanchor\":\"bottom\",\"yref\":\"paper\"},{\"font\":{\"size\":22},\"showarrow\":false,\"text\":\"Day 12\",\"x\":0.9305555555555556,\"xanchor\":\"center\",\"xref\":\"paper\",\"y\":0.6111111111111112,\"yanchor\":\"bottom\",\"yref\":\"paper\"},{\"font\":{\"size\":22},\"showarrow\":false,\"text\":\"Day 13\",\"x\":0.06944444444444445,\"xanchor\":\"center\",\"xref\":\"paper\",\"y\":0.22222222222222224,\"yanchor\":\"bottom\",\"yref\":\"paper\"},{\"font\":{\"size\":22},\"showarrow\":false,\"text\":\"Day 14\",\"x\":0.24166666666666667,\"xanchor\":\"center\",\"xref\":\"paper\",\"y\":0.22222222222222224,\"yanchor\":\"bottom\",\"yref\":\"paper\"}],\"title\":{\"y\":0.9,\"x\":0.5,\"xanchor\":\"center\",\"yanchor\":\"top\"},\"font\":{\"size\":22,\"family\":\"Arial\"},\"height\":800,\"width\":1200,\"shapes\":[{\"line\":{\"color\":\"darkgrey\",\"dash\":\"dash\",\"width\":1},\"opacity\":1,\"type\":\"line\",\"x0\":0,\"x1\":1,\"xref\":\"x domain\",\"y0\":75,\"y1\":75,\"yref\":\"y\"},{\"line\":{\"color\":\"darkgrey\",\"dash\":\"dash\",\"width\":1},\"opacity\":1,\"type\":\"line\",\"x0\":0,\"x1\":1,\"xref\":\"x2 domain\",\"y0\":75,\"y1\":75,\"yref\":\"y2\"},{\"line\":{\"color\":\"darkgrey\",\"dash\":\"dash\",\"width\":1},\"opacity\":1,\"type\":\"line\",\"x0\":0,\"x1\":1,\"xref\":\"x3 domain\",\"y0\":75,\"y1\":75,\"yref\":\"y3\"},{\"line\":{\"color\":\"darkgrey\",\"dash\":\"dash\",\"width\":1},\"opacity\":1,\"type\":\"line\",\"x0\":0,\"x1\":1,\"xref\":\"x4 domain\",\"y0\":75,\"y1\":75,\"yref\":\"y4\"},{\"line\":{\"color\":\"darkgrey\",\"dash\":\"dash\",\"width\":1},\"opacity\":1,\"type\":\"line\",\"x0\":0,\"x1\":1,\"xref\":\"x5 domain\",\"y0\":75,\"y1\":75,\"yref\":\"y5\"},{\"line\":{\"color\":\"darkgrey\",\"dash\":\"dash\",\"width\":1},\"opacity\":1,\"type\":\"line\",\"x0\":0,\"x1\":1,\"xref\":\"x6 domain\",\"y0\":75,\"y1\":75,\"yref\":\"y6\"},{\"line\":{\"color\":\"darkgrey\",\"dash\":\"dash\",\"width\":1},\"opacity\":1,\"type\":\"line\",\"x0\":0,\"x1\":1,\"xref\":\"x7 domain\",\"y0\":75,\"y1\":75,\"yref\":\"y7\"},{\"line\":{\"color\":\"darkgrey\",\"dash\":\"dash\",\"width\":1},\"opacity\":1,\"type\":\"line\",\"x0\":0,\"x1\":1,\"xref\":\"x8 domain\",\"y0\":75,\"y1\":75,\"yref\":\"y8\"},{\"line\":{\"color\":\"darkgrey\",\"dash\":\"dash\",\"width\":1},\"opacity\":1,\"type\":\"line\",\"x0\":0,\"x1\":1,\"xref\":\"x9 domain\",\"y0\":75,\"y1\":75,\"yref\":\"y9\"},{\"line\":{\"color\":\"darkgrey\",\"dash\":\"dash\",\"width\":1},\"opacity\":1,\"type\":\"line\",\"x0\":0,\"x1\":1,\"xref\":\"x10 domain\",\"y0\":75,\"y1\":75,\"yref\":\"y10\"},{\"line\":{\"color\":\"darkgrey\",\"dash\":\"dash\",\"width\":1},\"opacity\":1,\"type\":\"line\",\"x0\":0,\"x1\":1,\"xref\":\"x11 domain\",\"y0\":75,\"y1\":75,\"yref\":\"y11\"},{\"line\":{\"color\":\"darkgrey\",\"dash\":\"dash\",\"width\":1},\"opacity\":1,\"type\":\"line\",\"x0\":0,\"x1\":1,\"xref\":\"x12 domain\",\"y0\":75,\"y1\":75,\"yref\":\"y12\"},{\"line\":{\"color\":\"darkgrey\",\"dash\":\"dash\",\"width\":1},\"opacity\":1,\"type\":\"line\",\"x0\":0,\"x1\":1,\"xref\":\"x13 domain\",\"y0\":75,\"y1\":75,\"yref\":\"y13\"},{\"line\":{\"color\":\"darkgrey\",\"dash\":\"dash\",\"width\":1},\"opacity\":1,\"type\":\"line\",\"x0\":0,\"x1\":1,\"xref\":\"x14 domain\",\"y0\":75,\"y1\":75,\"yref\":\"y14\"},{\"line\":{\"color\":\"darkgrey\",\"dash\":\"dash\",\"width\":1},\"opacity\":1,\"type\":\"line\",\"x0\":0,\"x1\":1,\"xref\":\"x domain\",\"y0\":25,\"y1\":25,\"yref\":\"y\"},{\"line\":{\"color\":\"darkgrey\",\"dash\":\"dash\",\"width\":1},\"opacity\":1,\"type\":\"line\",\"x0\":0,\"x1\":1,\"xref\":\"x2 domain\",\"y0\":25,\"y1\":25,\"yref\":\"y2\"},{\"line\":{\"color\":\"darkgrey\",\"dash\":\"dash\",\"width\":1},\"opacity\":1,\"type\":\"line\",\"x0\":0,\"x1\":1,\"xref\":\"x3 domain\",\"y0\":25,\"y1\":25,\"yref\":\"y3\"},{\"line\":{\"color\":\"darkgrey\",\"dash\":\"dash\",\"width\":1},\"opacity\":1,\"type\":\"line\",\"x0\":0,\"x1\":1,\"xref\":\"x4 domain\",\"y0\":25,\"y1\":25,\"yref\":\"y4\"},{\"line\":{\"color\":\"darkgrey\",\"dash\":\"dash\",\"width\":1},\"opacity\":1,\"type\":\"line\",\"x0\":0,\"x1\":1,\"xref\":\"x5 domain\",\"y0\":25,\"y1\":25,\"yref\":\"y5\"},{\"line\":{\"color\":\"darkgrey\",\"dash\":\"dash\",\"width\":1},\"opacity\":1,\"type\":\"line\",\"x0\":0,\"x1\":1,\"xref\":\"x6 domain\",\"y0\":25,\"y1\":25,\"yref\":\"y6\"},{\"line\":{\"color\":\"darkgrey\",\"dash\":\"dash\",\"width\":1},\"opacity\":1,\"type\":\"line\",\"x0\":0,\"x1\":1,\"xref\":\"x7 domain\",\"y0\":25,\"y1\":25,\"yref\":\"y7\"},{\"line\":{\"color\":\"darkgrey\",\"dash\":\"dash\",\"width\":1},\"opacity\":1,\"type\":\"line\",\"x0\":0,\"x1\":1,\"xref\":\"x8 domain\",\"y0\":25,\"y1\":25,\"yref\":\"y8\"},{\"line\":{\"color\":\"darkgrey\",\"dash\":\"dash\",\"width\":1},\"opacity\":1,\"type\":\"line\",\"x0\":0,\"x1\":1,\"xref\":\"x9 domain\",\"y0\":25,\"y1\":25,\"yref\":\"y9\"},{\"line\":{\"color\":\"darkgrey\",\"dash\":\"dash\",\"width\":1},\"opacity\":1,\"type\":\"line\",\"x0\":0,\"x1\":1,\"xref\":\"x10 domain\",\"y0\":25,\"y1\":25,\"yref\":\"y10\"},{\"line\":{\"color\":\"darkgrey\",\"dash\":\"dash\",\"width\":1},\"opacity\":1,\"type\":\"line\",\"x0\":0,\"x1\":1,\"xref\":\"x11 domain\",\"y0\":25,\"y1\":25,\"yref\":\"y11\"},{\"line\":{\"color\":\"darkgrey\",\"dash\":\"dash\",\"width\":1},\"opacity\":1,\"type\":\"line\",\"x0\":0,\"x1\":1,\"xref\":\"x12 domain\",\"y0\":25,\"y1\":25,\"yref\":\"y12\"},{\"line\":{\"color\":\"darkgrey\",\"dash\":\"dash\",\"width\":1},\"opacity\":1,\"type\":\"line\",\"x0\":0,\"x1\":1,\"xref\":\"x13 domain\",\"y0\":25,\"y1\":25,\"yref\":\"y13\"},{\"line\":{\"color\":\"darkgrey\",\"dash\":\"dash\",\"width\":1},\"opacity\":1,\"type\":\"line\",\"x0\":0,\"x1\":1,\"xref\":\"x14 domain\",\"y0\":25,\"y1\":25,\"yref\":\"y14\"}]},                        {\"responsive\": true}                    ).then(function(){\n",
       "                            \n",
       "var gd = document.getElementById('1a16619f-7e98-4ed9-a288-8da04c95ac4c');\n",
       "var x = new MutationObserver(function (mutations, observer) {{\n",
       "        var display = window.getComputedStyle(gd).display;\n",
       "        if (!display || display === 'none') {{\n",
       "            console.log([gd, 'removed!']);\n",
       "            Plotly.purge(gd);\n",
       "            observer.disconnect();\n",
       "        }}\n",
       "}});\n",
       "\n",
       "// Listen for the removal of the full notebook cells\n",
       "var notebookContainer = gd.closest('#notebook-container');\n",
       "if (notebookContainer) {{\n",
       "    x.observe(notebookContainer, {childList: true});\n",
       "}}\n",
       "\n",
       "// Listen for the clearing of the current output cell\n",
       "var outputEl = gd.closest('.output');\n",
       "if (outputEl) {{\n",
       "    x.observe(outputEl, {childList: true});\n",
       "}}\n",
       "\n",
       "                        })                };                });            </script>        </div>"
      ]
     },
     "metadata": {},
     "output_type": "display_data"
    }
   ],
   "source": [
    "## For lick accuracy\n",
    "only_min_trials = False\n",
    "fig = pf.custom_graph_template(x_title='', y_title='', height=800, width=1200,\n",
    "                               rows=3, columns=6, shared_x=True, shared_y=True,\n",
    "                               titles=[f'Day {x}' for x in np.arange(1, len(np.unique(group_df['day']))+1)])\n",
    "for idx, day in enumerate(np.unique(group_df['day'])):\n",
    "    plot_data = group_df[group_df['day'] == day]\n",
    "\n",
    "    if only_min_trials:\n",
    "        trial_lengths = []\n",
    "        for group in plot_data.columns[:-1]:\n",
    "            trial_lengths.append(len(plot_data.loc[:, group].values[0]))\n",
    "        min_trials = np.min(trial_lengths)\n",
    "    else:\n",
    "        min_trials = -1\n",
    "    \n",
    "    for ind, group in enumerate(plot_data.columns[:-1]):\n",
    "        group_data = plot_data.loc[:, group].values[0][:min_trials]\n",
    "        upper = plot_data.loc[:, group].values[0][:min_trials] + plot_data.loc[:, group].values[1][:min_trials]\n",
    "        lower = plot_data.loc[:, group].values[0][:min_trials] - plot_data.loc[:, group].values[1][:min_trials]\n",
    "        x_data = np.arange(1, len(group_data)+1) * bin_size\n",
    "        if idx < 6:\n",
    "            row, col = 1, idx + 1\n",
    "        elif (idx >= 6) & (idx < 12):\n",
    "            row, col = 2, idx - 5\n",
    "        else:\n",
    "            row, col = 3, idx - 11\n",
    "        fig.add_trace(go.Scatter(x=x_data, y=group_data, mode='lines', opacity=opacity,\n",
    "                                line_color=group_colors_dict[group], showlegend=False,\n",
    "                                legendgroup=group, name=group), row=row, col=col)\n",
    "        fig.add_trace(go.Scatter(name='Upper Bound', x=x_data, y=upper, mode='lines',\n",
    "                                 marker=dict(color=error_colors[ind]), line=dict(width=0), showlegend=False, \n",
    "                                 legendgroup=group), row=row, col=col)\n",
    "        fig.add_trace(go.Scatter(name='Lower Bound', x=x_data, y=lower, marker=dict(color=error_colors[ind]),\n",
    "                                 line=dict(width=0), mode='lines', fillcolor=error_colors[ind], fill='tonexty', \n",
    "                                 showlegend=False, legendgroup=group), row=row, col=col)\n",
    "fig.add_hline(y=75, line_width=1, line_dash='dash', line_color=chance_color, opacity=1)\n",
    "fig.add_hline(y=25, line_width=1, line_dash='dash', line_color=chance_color, opacity=1)\n",
    "fig.update_yaxes(title='Lick Accuracy', range=[0, 100], dtick=25, col=1)\n",
    "fig.update_xaxes(title='Trial', row=3)\n",
    "fig.show()\n",
    "if only_min_trials:\n",
    "    fig.write_image(pjoin(fig_path, 'lick_acc_min_trials_across_groups.png'))\n",
    "else:\n",
    "    fig.write_image(pjoin(fig_path, 'lick_acc_across_groups.png'))"
   ]
  },
  {
   "cell_type": "markdown",
   "metadata": {},
   "source": [
    "### Look at lick thresh 3 vs lick thresh 5."
   ]
  },
  {
   "cell_type": "code",
   "execution_count": 3,
   "metadata": {},
   "outputs": [],
   "source": [
    "circletrack_results = {'mouse': [], 'day': [], 'group': [], 'session': [], 'lick_accuracy': [], 'rewards': []}\n",
    "for mouse in os.listdir(circle_path):\n",
    "    mouse_path = pjoin(circle_path, mouse)\n",
    "    group = 'thresh3_twoport' if mouse in two_ports and mouse not in thresh_five else 'thresh5_twoport' if mouse in two_ports and mouse in thresh_five else 'thresh3_oneport' if mouse not in two_ports and mouse not in thresh_five else 'thresh5_oneport'\n",
    "    if (group == 'thresh3_oneport') | (group == 'thresh5_oneport'):\n",
    "          pass\n",
    "    else:\n",
    "        for idx, session in enumerate(os.listdir(mouse_path)):\n",
    "                behav = pd.read_feather(pjoin(mouse_path, f'{session}'))\n",
    "                behav_data = behav[~behav['probe']]\n",
    "                reward_one, reward_two = np.unique(behav['reward_one'])[0], np.unique(behav['reward_two'])[0]\n",
    "                if group == 'thresh3_twoport':\n",
    "                    thresh = 3\n",
    "                elif group == 'thresh5_twoport':\n",
    "                    thresh = 5\n",
    "                session_pc = ctb.lick_accuracy(behav, port_one=reward_one, port_two=reward_two, lick_threshold=5, by_trials=False)\n",
    "                circletrack_results['mouse'].append(mouse)\n",
    "                circletrack_results['day'].append(idx+1)\n",
    "                circletrack_results['group'].append(group)\n",
    "                circletrack_results['session'].append(np.unique(behav['session'])[0])\n",
    "                circletrack_results['lick_accuracy'].append(session_pc)\n",
    "                circletrack_results['rewards'].append(np.sum(behav_data['water']))\n",
    "ct_df = pd.DataFrame(circletrack_results)"
   ]
  },
  {
   "cell_type": "code",
   "execution_count": 6,
   "metadata": {},
   "outputs": [
    {
     "data": {
      "application/vnd.plotly.v1+json": {
       "config": {
        "plotlyServerURL": "https://plot.ly"
       },
       "data": [
        {
         "error_y": {
          "array": [
           0.3163960927320053,
           7.263859789125183,
           6.765973169739726,
           11.124053962073496,
           13.323478768914224,
           3.536034938161699,
           15.117523752575186,
           14.79739461291503,
           10.62903733385986,
           12.768552292212135,
           5.012925449923057,
           15.482484251432624,
           9.649334387573928,
           10.053673820981803
          ],
          "type": "data"
         },
         "line": {
          "color": "darkgrey"
         },
         "mode": "lines+markers",
         "name": "thresh3_twoport",
         "showlegend": true,
         "type": "scatter",
         "x": [
          1,
          2,
          3,
          4,
          5,
          6,
          7,
          8,
          9,
          10,
          11,
          12,
          13,
          14
         ],
         "y": [
          28.885448861564374,
          36.46746517159361,
          64.54372683393431,
          61.430546519193236,
          71.59767573840199,
          74.22619047619048,
          41.000627201235105,
          55.161312752051174,
          67.64395899204753,
          66.19604566972988,
          74.45812807881774,
          63.14132189645185,
          42.06686854470106,
          55.244423350735644
         ]
        },
        {
         "error_y": {
          "array": [
           2.1540654058054707,
           5.945843327105164,
           10.403538536809377,
           13.411716070624324,
           7.208437120018922,
           2.7286949030874914,
           7.346014815748942,
           3.7543887758952015,
           10.665188986879254,
           3.1089393436802166,
           3.7662256314432745,
           2.9271998342600054,
           7.711491400237869,
           2.8021303719882
          ],
          "type": "data"
         },
         "line": {
          "color": "midnightblue"
         },
         "mode": "lines+markers",
         "name": "thresh5_twoport",
         "showlegend": true,
         "type": "scatter",
         "x": [
          1,
          2,
          3,
          4,
          5,
          6,
          7,
          8,
          9,
          10,
          11,
          12,
          13,
          14
         ],
         "y": [
          29.294689309904783,
          44.239678993960446,
          61.87390224698686,
          69.83399358611582,
          85.83126550868487,
          88.5798941798942,
          55.848117024587616,
          65.81442223745657,
          62.79744743013109,
          85.74708385906831,
          89.36447697358513,
          90.26374005052044,
          63.20907487574154,
          80.12973157512909
         ]
        }
       ],
       "layout": {
        "annotations": [
         {
          "font": {
           "size": 22
          },
          "showarrow": false,
          "text": "Circle Track",
          "x": 0.5,
          "xanchor": "center",
          "xref": "paper",
          "y": 1,
          "yanchor": "bottom",
          "yref": "paper"
         }
        ],
        "font": {
         "family": "Arial",
         "size": 22
        },
        "height": 500,
        "shapes": [
         {
          "line": {
           "color": "darkgrey",
           "dash": "dash",
           "width": 1
          },
          "opacity": 1,
          "type": "line",
          "x0": 0,
          "x1": 1,
          "xref": "x domain",
          "y0": 75,
          "y1": 75,
          "yref": "y"
         },
         {
          "line": {
           "color": "darkgrey",
           "dash": "dash",
           "width": 1
          },
          "opacity": 1,
          "type": "line",
          "x0": 0,
          "x1": 1,
          "xref": "x domain",
          "y0": 25,
          "y1": 25,
          "yref": "y"
         },
         {
          "line": {
           "color": "darkgrey",
           "dash": "dash",
           "width": 1
          },
          "opacity": 1,
          "type": "line",
          "x0": 6.5,
          "x1": 6.5,
          "xref": "x",
          "y0": 0,
          "y1": 1,
          "yref": "y domain"
         },
         {
          "line": {
           "color": "darkgrey",
           "dash": "dash",
           "width": 1
          },
          "opacity": 1,
          "type": "line",
          "x0": 12.5,
          "x1": 12.5,
          "xref": "x",
          "y0": 0,
          "y1": 1,
          "yref": "y domain"
         }
        ],
        "template": {
         "data": {
          "bar": [
           {
            "error_x": {
             "color": "rgb(36,36,36)"
            },
            "error_y": {
             "color": "rgb(36,36,36)"
            },
            "marker": {
             "line": {
              "color": "white",
              "width": 0.5
             },
             "pattern": {
              "fillmode": "overlay",
              "size": 10,
              "solidity": 0.2
             }
            },
            "type": "bar"
           }
          ],
          "barpolar": [
           {
            "marker": {
             "line": {
              "color": "white",
              "width": 0.5
             },
             "pattern": {
              "fillmode": "overlay",
              "size": 10,
              "solidity": 0.2
             }
            },
            "type": "barpolar"
           }
          ],
          "carpet": [
           {
            "aaxis": {
             "endlinecolor": "rgb(36,36,36)",
             "gridcolor": "white",
             "linecolor": "white",
             "minorgridcolor": "white",
             "startlinecolor": "rgb(36,36,36)"
            },
            "baxis": {
             "endlinecolor": "rgb(36,36,36)",
             "gridcolor": "white",
             "linecolor": "white",
             "minorgridcolor": "white",
             "startlinecolor": "rgb(36,36,36)"
            },
            "type": "carpet"
           }
          ],
          "choropleth": [
           {
            "colorbar": {
             "outlinewidth": 1,
             "tickcolor": "rgb(36,36,36)",
             "ticks": "outside"
            },
            "type": "choropleth"
           }
          ],
          "contour": [
           {
            "colorbar": {
             "outlinewidth": 1,
             "tickcolor": "rgb(36,36,36)",
             "ticks": "outside"
            },
            "colorscale": [
             [
              0,
              "#440154"
             ],
             [
              0.1111111111111111,
              "#482878"
             ],
             [
              0.2222222222222222,
              "#3e4989"
             ],
             [
              0.3333333333333333,
              "#31688e"
             ],
             [
              0.4444444444444444,
              "#26828e"
             ],
             [
              0.5555555555555556,
              "#1f9e89"
             ],
             [
              0.6666666666666666,
              "#35b779"
             ],
             [
              0.7777777777777778,
              "#6ece58"
             ],
             [
              0.8888888888888888,
              "#b5de2b"
             ],
             [
              1,
              "#fde725"
             ]
            ],
            "type": "contour"
           }
          ],
          "contourcarpet": [
           {
            "colorbar": {
             "outlinewidth": 1,
             "tickcolor": "rgb(36,36,36)",
             "ticks": "outside"
            },
            "type": "contourcarpet"
           }
          ],
          "heatmap": [
           {
            "colorbar": {
             "outlinewidth": 1,
             "tickcolor": "rgb(36,36,36)",
             "ticks": "outside"
            },
            "colorscale": [
             [
              0,
              "#440154"
             ],
             [
              0.1111111111111111,
              "#482878"
             ],
             [
              0.2222222222222222,
              "#3e4989"
             ],
             [
              0.3333333333333333,
              "#31688e"
             ],
             [
              0.4444444444444444,
              "#26828e"
             ],
             [
              0.5555555555555556,
              "#1f9e89"
             ],
             [
              0.6666666666666666,
              "#35b779"
             ],
             [
              0.7777777777777778,
              "#6ece58"
             ],
             [
              0.8888888888888888,
              "#b5de2b"
             ],
             [
              1,
              "#fde725"
             ]
            ],
            "type": "heatmap"
           }
          ],
          "heatmapgl": [
           {
            "colorbar": {
             "outlinewidth": 1,
             "tickcolor": "rgb(36,36,36)",
             "ticks": "outside"
            },
            "colorscale": [
             [
              0,
              "#440154"
             ],
             [
              0.1111111111111111,
              "#482878"
             ],
             [
              0.2222222222222222,
              "#3e4989"
             ],
             [
              0.3333333333333333,
              "#31688e"
             ],
             [
              0.4444444444444444,
              "#26828e"
             ],
             [
              0.5555555555555556,
              "#1f9e89"
             ],
             [
              0.6666666666666666,
              "#35b779"
             ],
             [
              0.7777777777777778,
              "#6ece58"
             ],
             [
              0.8888888888888888,
              "#b5de2b"
             ],
             [
              1,
              "#fde725"
             ]
            ],
            "type": "heatmapgl"
           }
          ],
          "histogram": [
           {
            "marker": {
             "line": {
              "color": "white",
              "width": 0.6
             }
            },
            "type": "histogram"
           }
          ],
          "histogram2d": [
           {
            "colorbar": {
             "outlinewidth": 1,
             "tickcolor": "rgb(36,36,36)",
             "ticks": "outside"
            },
            "colorscale": [
             [
              0,
              "#440154"
             ],
             [
              0.1111111111111111,
              "#482878"
             ],
             [
              0.2222222222222222,
              "#3e4989"
             ],
             [
              0.3333333333333333,
              "#31688e"
             ],
             [
              0.4444444444444444,
              "#26828e"
             ],
             [
              0.5555555555555556,
              "#1f9e89"
             ],
             [
              0.6666666666666666,
              "#35b779"
             ],
             [
              0.7777777777777778,
              "#6ece58"
             ],
             [
              0.8888888888888888,
              "#b5de2b"
             ],
             [
              1,
              "#fde725"
             ]
            ],
            "type": "histogram2d"
           }
          ],
          "histogram2dcontour": [
           {
            "colorbar": {
             "outlinewidth": 1,
             "tickcolor": "rgb(36,36,36)",
             "ticks": "outside"
            },
            "colorscale": [
             [
              0,
              "#440154"
             ],
             [
              0.1111111111111111,
              "#482878"
             ],
             [
              0.2222222222222222,
              "#3e4989"
             ],
             [
              0.3333333333333333,
              "#31688e"
             ],
             [
              0.4444444444444444,
              "#26828e"
             ],
             [
              0.5555555555555556,
              "#1f9e89"
             ],
             [
              0.6666666666666666,
              "#35b779"
             ],
             [
              0.7777777777777778,
              "#6ece58"
             ],
             [
              0.8888888888888888,
              "#b5de2b"
             ],
             [
              1,
              "#fde725"
             ]
            ],
            "type": "histogram2dcontour"
           }
          ],
          "mesh3d": [
           {
            "colorbar": {
             "outlinewidth": 1,
             "tickcolor": "rgb(36,36,36)",
             "ticks": "outside"
            },
            "type": "mesh3d"
           }
          ],
          "parcoords": [
           {
            "line": {
             "colorbar": {
              "outlinewidth": 1,
              "tickcolor": "rgb(36,36,36)",
              "ticks": "outside"
             }
            },
            "type": "parcoords"
           }
          ],
          "pie": [
           {
            "automargin": true,
            "type": "pie"
           }
          ],
          "scatter": [
           {
            "fillpattern": {
             "fillmode": "overlay",
             "size": 10,
             "solidity": 0.2
            },
            "type": "scatter"
           }
          ],
          "scatter3d": [
           {
            "line": {
             "colorbar": {
              "outlinewidth": 1,
              "tickcolor": "rgb(36,36,36)",
              "ticks": "outside"
             }
            },
            "marker": {
             "colorbar": {
              "outlinewidth": 1,
              "tickcolor": "rgb(36,36,36)",
              "ticks": "outside"
             }
            },
            "type": "scatter3d"
           }
          ],
          "scattercarpet": [
           {
            "marker": {
             "colorbar": {
              "outlinewidth": 1,
              "tickcolor": "rgb(36,36,36)",
              "ticks": "outside"
             }
            },
            "type": "scattercarpet"
           }
          ],
          "scattergeo": [
           {
            "marker": {
             "colorbar": {
              "outlinewidth": 1,
              "tickcolor": "rgb(36,36,36)",
              "ticks": "outside"
             }
            },
            "type": "scattergeo"
           }
          ],
          "scattergl": [
           {
            "marker": {
             "colorbar": {
              "outlinewidth": 1,
              "tickcolor": "rgb(36,36,36)",
              "ticks": "outside"
             }
            },
            "type": "scattergl"
           }
          ],
          "scattermapbox": [
           {
            "marker": {
             "colorbar": {
              "outlinewidth": 1,
              "tickcolor": "rgb(36,36,36)",
              "ticks": "outside"
             }
            },
            "type": "scattermapbox"
           }
          ],
          "scatterpolar": [
           {
            "marker": {
             "colorbar": {
              "outlinewidth": 1,
              "tickcolor": "rgb(36,36,36)",
              "ticks": "outside"
             }
            },
            "type": "scatterpolar"
           }
          ],
          "scatterpolargl": [
           {
            "marker": {
             "colorbar": {
              "outlinewidth": 1,
              "tickcolor": "rgb(36,36,36)",
              "ticks": "outside"
             }
            },
            "type": "scatterpolargl"
           }
          ],
          "scatterternary": [
           {
            "marker": {
             "colorbar": {
              "outlinewidth": 1,
              "tickcolor": "rgb(36,36,36)",
              "ticks": "outside"
             }
            },
            "type": "scatterternary"
           }
          ],
          "surface": [
           {
            "colorbar": {
             "outlinewidth": 1,
             "tickcolor": "rgb(36,36,36)",
             "ticks": "outside"
            },
            "colorscale": [
             [
              0,
              "#440154"
             ],
             [
              0.1111111111111111,
              "#482878"
             ],
             [
              0.2222222222222222,
              "#3e4989"
             ],
             [
              0.3333333333333333,
              "#31688e"
             ],
             [
              0.4444444444444444,
              "#26828e"
             ],
             [
              0.5555555555555556,
              "#1f9e89"
             ],
             [
              0.6666666666666666,
              "#35b779"
             ],
             [
              0.7777777777777778,
              "#6ece58"
             ],
             [
              0.8888888888888888,
              "#b5de2b"
             ],
             [
              1,
              "#fde725"
             ]
            ],
            "type": "surface"
           }
          ],
          "table": [
           {
            "cells": {
             "fill": {
              "color": "rgb(237,237,237)"
             },
             "line": {
              "color": "white"
             }
            },
            "header": {
             "fill": {
              "color": "rgb(217,217,217)"
             },
             "line": {
              "color": "white"
             }
            },
            "type": "table"
           }
          ]
         },
         "layout": {
          "annotationdefaults": {
           "arrowhead": 0,
           "arrowwidth": 1
          },
          "autotypenumbers": "strict",
          "coloraxis": {
           "colorbar": {
            "outlinewidth": 1,
            "tickcolor": "rgb(36,36,36)",
            "ticks": "outside"
           }
          },
          "colorscale": {
           "diverging": [
            [
             0,
             "rgb(103,0,31)"
            ],
            [
             0.1,
             "rgb(178,24,43)"
            ],
            [
             0.2,
             "rgb(214,96,77)"
            ],
            [
             0.3,
             "rgb(244,165,130)"
            ],
            [
             0.4,
             "rgb(253,219,199)"
            ],
            [
             0.5,
             "rgb(247,247,247)"
            ],
            [
             0.6,
             "rgb(209,229,240)"
            ],
            [
             0.7,
             "rgb(146,197,222)"
            ],
            [
             0.8,
             "rgb(67,147,195)"
            ],
            [
             0.9,
             "rgb(33,102,172)"
            ],
            [
             1,
             "rgb(5,48,97)"
            ]
           ],
           "sequential": [
            [
             0,
             "#440154"
            ],
            [
             0.1111111111111111,
             "#482878"
            ],
            [
             0.2222222222222222,
             "#3e4989"
            ],
            [
             0.3333333333333333,
             "#31688e"
            ],
            [
             0.4444444444444444,
             "#26828e"
            ],
            [
             0.5555555555555556,
             "#1f9e89"
            ],
            [
             0.6666666666666666,
             "#35b779"
            ],
            [
             0.7777777777777778,
             "#6ece58"
            ],
            [
             0.8888888888888888,
             "#b5de2b"
            ],
            [
             1,
             "#fde725"
            ]
           ],
           "sequentialminus": [
            [
             0,
             "#440154"
            ],
            [
             0.1111111111111111,
             "#482878"
            ],
            [
             0.2222222222222222,
             "#3e4989"
            ],
            [
             0.3333333333333333,
             "#31688e"
            ],
            [
             0.4444444444444444,
             "#26828e"
            ],
            [
             0.5555555555555556,
             "#1f9e89"
            ],
            [
             0.6666666666666666,
             "#35b779"
            ],
            [
             0.7777777777777778,
             "#6ece58"
            ],
            [
             0.8888888888888888,
             "#b5de2b"
            ],
            [
             1,
             "#fde725"
            ]
           ]
          },
          "colorway": [
           "#1F77B4",
           "#FF7F0E",
           "#2CA02C",
           "#D62728",
           "#9467BD",
           "#8C564B",
           "#E377C2",
           "#7F7F7F",
           "#BCBD22",
           "#17BECF"
          ],
          "font": {
           "color": "rgb(36,36,36)"
          },
          "geo": {
           "bgcolor": "white",
           "lakecolor": "white",
           "landcolor": "white",
           "showlakes": true,
           "showland": true,
           "subunitcolor": "white"
          },
          "hoverlabel": {
           "align": "left"
          },
          "hovermode": "closest",
          "mapbox": {
           "style": "light"
          },
          "paper_bgcolor": "white",
          "plot_bgcolor": "white",
          "polar": {
           "angularaxis": {
            "gridcolor": "rgb(232,232,232)",
            "linecolor": "rgb(36,36,36)",
            "showgrid": false,
            "showline": true,
            "ticks": "outside"
           },
           "bgcolor": "white",
           "radialaxis": {
            "gridcolor": "rgb(232,232,232)",
            "linecolor": "rgb(36,36,36)",
            "showgrid": false,
            "showline": true,
            "ticks": "outside"
           }
          },
          "scene": {
           "xaxis": {
            "backgroundcolor": "white",
            "gridcolor": "rgb(232,232,232)",
            "gridwidth": 2,
            "linecolor": "rgb(36,36,36)",
            "showbackground": true,
            "showgrid": false,
            "showline": true,
            "ticks": "outside",
            "zeroline": false,
            "zerolinecolor": "rgb(36,36,36)"
           },
           "yaxis": {
            "backgroundcolor": "white",
            "gridcolor": "rgb(232,232,232)",
            "gridwidth": 2,
            "linecolor": "rgb(36,36,36)",
            "showbackground": true,
            "showgrid": false,
            "showline": true,
            "ticks": "outside",
            "zeroline": false,
            "zerolinecolor": "rgb(36,36,36)"
           },
           "zaxis": {
            "backgroundcolor": "white",
            "gridcolor": "rgb(232,232,232)",
            "gridwidth": 2,
            "linecolor": "rgb(36,36,36)",
            "showbackground": true,
            "showgrid": false,
            "showline": true,
            "ticks": "outside",
            "zeroline": false,
            "zerolinecolor": "rgb(36,36,36)"
           }
          },
          "shapedefaults": {
           "fillcolor": "black",
           "line": {
            "width": 0
           },
           "opacity": 0.3
          },
          "ternary": {
           "aaxis": {
            "gridcolor": "rgb(232,232,232)",
            "linecolor": "rgb(36,36,36)",
            "showgrid": false,
            "showline": true,
            "ticks": "outside"
           },
           "baxis": {
            "gridcolor": "rgb(232,232,232)",
            "linecolor": "rgb(36,36,36)",
            "showgrid": false,
            "showline": true,
            "ticks": "outside"
           },
           "bgcolor": "white",
           "caxis": {
            "gridcolor": "rgb(232,232,232)",
            "linecolor": "rgb(36,36,36)",
            "showgrid": false,
            "showline": true,
            "ticks": "outside"
           }
          },
          "title": {
           "x": 0.05
          },
          "xaxis": {
           "automargin": true,
           "gridcolor": "rgb(232,232,232)",
           "linecolor": "rgb(36,36,36)",
           "showgrid": false,
           "showline": true,
           "ticks": "outside",
           "title": {
            "standoff": 15
           },
           "zeroline": false,
           "zerolinecolor": "rgb(36,36,36)"
          },
          "yaxis": {
           "automargin": true,
           "gridcolor": "rgb(232,232,232)",
           "linecolor": "rgb(36,36,36)",
           "showgrid": false,
           "showline": true,
           "ticks": "outside",
           "title": {
            "standoff": 15
           },
           "zeroline": false,
           "zerolinecolor": "rgb(36,36,36)"
          }
         }
        },
        "title": {
         "x": 0.5,
         "xanchor": "center",
         "y": 0.9,
         "yanchor": "top"
        },
        "width": 600,
        "xaxis": {
         "anchor": "y",
         "domain": [
          0,
          1
         ],
         "linewidth": 1.5,
         "title": {
          "text": "Day"
         }
        },
        "yaxis": {
         "anchor": "x",
         "domain": [
          0,
          1
         ],
         "dtick": 25,
         "linewidth": 1.5,
         "range": [
          0,
          100
         ],
         "title": {
          "text": "Lick Accuracy"
         }
        }
       }
      },
      "text/html": [
       "<div>                            <div id=\"090b19a8-1f4c-4833-965c-0bec5081aae5\" class=\"plotly-graph-div\" style=\"height:500px; width:600px;\"></div>            <script type=\"text/javascript\">                require([\"plotly\"], function(Plotly) {                    window.PLOTLYENV=window.PLOTLYENV || {};                                    if (document.getElementById(\"090b19a8-1f4c-4833-965c-0bec5081aae5\")) {                    Plotly.newPlot(                        \"090b19a8-1f4c-4833-965c-0bec5081aae5\",                        [{\"error_y\":{\"array\":[0.3163960927320053,7.263859789125183,6.765973169739726,11.124053962073496,13.323478768914224,3.536034938161699,15.117523752575186,14.79739461291503,10.62903733385986,12.768552292212135,5.012925449923057,15.482484251432624,9.649334387573928,10.053673820981803],\"type\":\"data\"},\"line\":{\"color\":\"darkgrey\"},\"mode\":\"lines+markers\",\"name\":\"thresh3_twoport\",\"showlegend\":true,\"x\":[1,2,3,4,5,6,7,8,9,10,11,12,13,14],\"y\":[28.885448861564374,36.46746517159361,64.54372683393431,61.430546519193236,71.59767573840199,74.22619047619048,41.000627201235105,55.161312752051174,67.64395899204753,66.19604566972988,74.45812807881774,63.14132189645185,42.06686854470106,55.244423350735644],\"type\":\"scatter\"},{\"error_y\":{\"array\":[2.1540654058054707,5.945843327105164,10.403538536809377,13.411716070624324,7.208437120018922,2.7286949030874914,7.346014815748942,3.7543887758952015,10.665188986879254,3.1089393436802166,3.7662256314432745,2.9271998342600054,7.711491400237869,2.8021303719882],\"type\":\"data\"},\"line\":{\"color\":\"midnightblue\"},\"mode\":\"lines+markers\",\"name\":\"thresh5_twoport\",\"showlegend\":true,\"x\":[1,2,3,4,5,6,7,8,9,10,11,12,13,14],\"y\":[29.294689309904783,44.239678993960446,61.87390224698686,69.83399358611582,85.83126550868487,88.5798941798942,55.848117024587616,65.81442223745657,62.79744743013109,85.74708385906831,89.36447697358513,90.26374005052044,63.20907487574154,80.12973157512909],\"type\":\"scatter\"}],                        {\"template\":{\"data\":{\"barpolar\":[{\"marker\":{\"line\":{\"color\":\"white\",\"width\":0.5},\"pattern\":{\"fillmode\":\"overlay\",\"size\":10,\"solidity\":0.2}},\"type\":\"barpolar\"}],\"bar\":[{\"error_x\":{\"color\":\"rgb(36,36,36)\"},\"error_y\":{\"color\":\"rgb(36,36,36)\"},\"marker\":{\"line\":{\"color\":\"white\",\"width\":0.5},\"pattern\":{\"fillmode\":\"overlay\",\"size\":10,\"solidity\":0.2}},\"type\":\"bar\"}],\"carpet\":[{\"aaxis\":{\"endlinecolor\":\"rgb(36,36,36)\",\"gridcolor\":\"white\",\"linecolor\":\"white\",\"minorgridcolor\":\"white\",\"startlinecolor\":\"rgb(36,36,36)\"},\"baxis\":{\"endlinecolor\":\"rgb(36,36,36)\",\"gridcolor\":\"white\",\"linecolor\":\"white\",\"minorgridcolor\":\"white\",\"startlinecolor\":\"rgb(36,36,36)\"},\"type\":\"carpet\"}],\"choropleth\":[{\"colorbar\":{\"outlinewidth\":1,\"tickcolor\":\"rgb(36,36,36)\",\"ticks\":\"outside\"},\"type\":\"choropleth\"}],\"contourcarpet\":[{\"colorbar\":{\"outlinewidth\":1,\"tickcolor\":\"rgb(36,36,36)\",\"ticks\":\"outside\"},\"type\":\"contourcarpet\"}],\"contour\":[{\"colorbar\":{\"outlinewidth\":1,\"tickcolor\":\"rgb(36,36,36)\",\"ticks\":\"outside\"},\"colorscale\":[[0.0,\"#440154\"],[0.1111111111111111,\"#482878\"],[0.2222222222222222,\"#3e4989\"],[0.3333333333333333,\"#31688e\"],[0.4444444444444444,\"#26828e\"],[0.5555555555555556,\"#1f9e89\"],[0.6666666666666666,\"#35b779\"],[0.7777777777777778,\"#6ece58\"],[0.8888888888888888,\"#b5de2b\"],[1.0,\"#fde725\"]],\"type\":\"contour\"}],\"heatmapgl\":[{\"colorbar\":{\"outlinewidth\":1,\"tickcolor\":\"rgb(36,36,36)\",\"ticks\":\"outside\"},\"colorscale\":[[0.0,\"#440154\"],[0.1111111111111111,\"#482878\"],[0.2222222222222222,\"#3e4989\"],[0.3333333333333333,\"#31688e\"],[0.4444444444444444,\"#26828e\"],[0.5555555555555556,\"#1f9e89\"],[0.6666666666666666,\"#35b779\"],[0.7777777777777778,\"#6ece58\"],[0.8888888888888888,\"#b5de2b\"],[1.0,\"#fde725\"]],\"type\":\"heatmapgl\"}],\"heatmap\":[{\"colorbar\":{\"outlinewidth\":1,\"tickcolor\":\"rgb(36,36,36)\",\"ticks\":\"outside\"},\"colorscale\":[[0.0,\"#440154\"],[0.1111111111111111,\"#482878\"],[0.2222222222222222,\"#3e4989\"],[0.3333333333333333,\"#31688e\"],[0.4444444444444444,\"#26828e\"],[0.5555555555555556,\"#1f9e89\"],[0.6666666666666666,\"#35b779\"],[0.7777777777777778,\"#6ece58\"],[0.8888888888888888,\"#b5de2b\"],[1.0,\"#fde725\"]],\"type\":\"heatmap\"}],\"histogram2dcontour\":[{\"colorbar\":{\"outlinewidth\":1,\"tickcolor\":\"rgb(36,36,36)\",\"ticks\":\"outside\"},\"colorscale\":[[0.0,\"#440154\"],[0.1111111111111111,\"#482878\"],[0.2222222222222222,\"#3e4989\"],[0.3333333333333333,\"#31688e\"],[0.4444444444444444,\"#26828e\"],[0.5555555555555556,\"#1f9e89\"],[0.6666666666666666,\"#35b779\"],[0.7777777777777778,\"#6ece58\"],[0.8888888888888888,\"#b5de2b\"],[1.0,\"#fde725\"]],\"type\":\"histogram2dcontour\"}],\"histogram2d\":[{\"colorbar\":{\"outlinewidth\":1,\"tickcolor\":\"rgb(36,36,36)\",\"ticks\":\"outside\"},\"colorscale\":[[0.0,\"#440154\"],[0.1111111111111111,\"#482878\"],[0.2222222222222222,\"#3e4989\"],[0.3333333333333333,\"#31688e\"],[0.4444444444444444,\"#26828e\"],[0.5555555555555556,\"#1f9e89\"],[0.6666666666666666,\"#35b779\"],[0.7777777777777778,\"#6ece58\"],[0.8888888888888888,\"#b5de2b\"],[1.0,\"#fde725\"]],\"type\":\"histogram2d\"}],\"histogram\":[{\"marker\":{\"line\":{\"color\":\"white\",\"width\":0.6}},\"type\":\"histogram\"}],\"mesh3d\":[{\"colorbar\":{\"outlinewidth\":1,\"tickcolor\":\"rgb(36,36,36)\",\"ticks\":\"outside\"},\"type\":\"mesh3d\"}],\"parcoords\":[{\"line\":{\"colorbar\":{\"outlinewidth\":1,\"tickcolor\":\"rgb(36,36,36)\",\"ticks\":\"outside\"}},\"type\":\"parcoords\"}],\"pie\":[{\"automargin\":true,\"type\":\"pie\"}],\"scatter3d\":[{\"line\":{\"colorbar\":{\"outlinewidth\":1,\"tickcolor\":\"rgb(36,36,36)\",\"ticks\":\"outside\"}},\"marker\":{\"colorbar\":{\"outlinewidth\":1,\"tickcolor\":\"rgb(36,36,36)\",\"ticks\":\"outside\"}},\"type\":\"scatter3d\"}],\"scattercarpet\":[{\"marker\":{\"colorbar\":{\"outlinewidth\":1,\"tickcolor\":\"rgb(36,36,36)\",\"ticks\":\"outside\"}},\"type\":\"scattercarpet\"}],\"scattergeo\":[{\"marker\":{\"colorbar\":{\"outlinewidth\":1,\"tickcolor\":\"rgb(36,36,36)\",\"ticks\":\"outside\"}},\"type\":\"scattergeo\"}],\"scattergl\":[{\"marker\":{\"colorbar\":{\"outlinewidth\":1,\"tickcolor\":\"rgb(36,36,36)\",\"ticks\":\"outside\"}},\"type\":\"scattergl\"}],\"scattermapbox\":[{\"marker\":{\"colorbar\":{\"outlinewidth\":1,\"tickcolor\":\"rgb(36,36,36)\",\"ticks\":\"outside\"}},\"type\":\"scattermapbox\"}],\"scatterpolargl\":[{\"marker\":{\"colorbar\":{\"outlinewidth\":1,\"tickcolor\":\"rgb(36,36,36)\",\"ticks\":\"outside\"}},\"type\":\"scatterpolargl\"}],\"scatterpolar\":[{\"marker\":{\"colorbar\":{\"outlinewidth\":1,\"tickcolor\":\"rgb(36,36,36)\",\"ticks\":\"outside\"}},\"type\":\"scatterpolar\"}],\"scatter\":[{\"fillpattern\":{\"fillmode\":\"overlay\",\"size\":10,\"solidity\":0.2},\"type\":\"scatter\"}],\"scatterternary\":[{\"marker\":{\"colorbar\":{\"outlinewidth\":1,\"tickcolor\":\"rgb(36,36,36)\",\"ticks\":\"outside\"}},\"type\":\"scatterternary\"}],\"surface\":[{\"colorbar\":{\"outlinewidth\":1,\"tickcolor\":\"rgb(36,36,36)\",\"ticks\":\"outside\"},\"colorscale\":[[0.0,\"#440154\"],[0.1111111111111111,\"#482878\"],[0.2222222222222222,\"#3e4989\"],[0.3333333333333333,\"#31688e\"],[0.4444444444444444,\"#26828e\"],[0.5555555555555556,\"#1f9e89\"],[0.6666666666666666,\"#35b779\"],[0.7777777777777778,\"#6ece58\"],[0.8888888888888888,\"#b5de2b\"],[1.0,\"#fde725\"]],\"type\":\"surface\"}],\"table\":[{\"cells\":{\"fill\":{\"color\":\"rgb(237,237,237)\"},\"line\":{\"color\":\"white\"}},\"header\":{\"fill\":{\"color\":\"rgb(217,217,217)\"},\"line\":{\"color\":\"white\"}},\"type\":\"table\"}]},\"layout\":{\"annotationdefaults\":{\"arrowhead\":0,\"arrowwidth\":1},\"autotypenumbers\":\"strict\",\"coloraxis\":{\"colorbar\":{\"outlinewidth\":1,\"tickcolor\":\"rgb(36,36,36)\",\"ticks\":\"outside\"}},\"colorscale\":{\"diverging\":[[0.0,\"rgb(103,0,31)\"],[0.1,\"rgb(178,24,43)\"],[0.2,\"rgb(214,96,77)\"],[0.3,\"rgb(244,165,130)\"],[0.4,\"rgb(253,219,199)\"],[0.5,\"rgb(247,247,247)\"],[0.6,\"rgb(209,229,240)\"],[0.7,\"rgb(146,197,222)\"],[0.8,\"rgb(67,147,195)\"],[0.9,\"rgb(33,102,172)\"],[1.0,\"rgb(5,48,97)\"]],\"sequential\":[[0.0,\"#440154\"],[0.1111111111111111,\"#482878\"],[0.2222222222222222,\"#3e4989\"],[0.3333333333333333,\"#31688e\"],[0.4444444444444444,\"#26828e\"],[0.5555555555555556,\"#1f9e89\"],[0.6666666666666666,\"#35b779\"],[0.7777777777777778,\"#6ece58\"],[0.8888888888888888,\"#b5de2b\"],[1.0,\"#fde725\"]],\"sequentialminus\":[[0.0,\"#440154\"],[0.1111111111111111,\"#482878\"],[0.2222222222222222,\"#3e4989\"],[0.3333333333333333,\"#31688e\"],[0.4444444444444444,\"#26828e\"],[0.5555555555555556,\"#1f9e89\"],[0.6666666666666666,\"#35b779\"],[0.7777777777777778,\"#6ece58\"],[0.8888888888888888,\"#b5de2b\"],[1.0,\"#fde725\"]]},\"colorway\":[\"#1F77B4\",\"#FF7F0E\",\"#2CA02C\",\"#D62728\",\"#9467BD\",\"#8C564B\",\"#E377C2\",\"#7F7F7F\",\"#BCBD22\",\"#17BECF\"],\"font\":{\"color\":\"rgb(36,36,36)\"},\"geo\":{\"bgcolor\":\"white\",\"lakecolor\":\"white\",\"landcolor\":\"white\",\"showlakes\":true,\"showland\":true,\"subunitcolor\":\"white\"},\"hoverlabel\":{\"align\":\"left\"},\"hovermode\":\"closest\",\"mapbox\":{\"style\":\"light\"},\"paper_bgcolor\":\"white\",\"plot_bgcolor\":\"white\",\"polar\":{\"angularaxis\":{\"gridcolor\":\"rgb(232,232,232)\",\"linecolor\":\"rgb(36,36,36)\",\"showgrid\":false,\"showline\":true,\"ticks\":\"outside\"},\"bgcolor\":\"white\",\"radialaxis\":{\"gridcolor\":\"rgb(232,232,232)\",\"linecolor\":\"rgb(36,36,36)\",\"showgrid\":false,\"showline\":true,\"ticks\":\"outside\"}},\"scene\":{\"xaxis\":{\"backgroundcolor\":\"white\",\"gridcolor\":\"rgb(232,232,232)\",\"gridwidth\":2,\"linecolor\":\"rgb(36,36,36)\",\"showbackground\":true,\"showgrid\":false,\"showline\":true,\"ticks\":\"outside\",\"zeroline\":false,\"zerolinecolor\":\"rgb(36,36,36)\"},\"yaxis\":{\"backgroundcolor\":\"white\",\"gridcolor\":\"rgb(232,232,232)\",\"gridwidth\":2,\"linecolor\":\"rgb(36,36,36)\",\"showbackground\":true,\"showgrid\":false,\"showline\":true,\"ticks\":\"outside\",\"zeroline\":false,\"zerolinecolor\":\"rgb(36,36,36)\"},\"zaxis\":{\"backgroundcolor\":\"white\",\"gridcolor\":\"rgb(232,232,232)\",\"gridwidth\":2,\"linecolor\":\"rgb(36,36,36)\",\"showbackground\":true,\"showgrid\":false,\"showline\":true,\"ticks\":\"outside\",\"zeroline\":false,\"zerolinecolor\":\"rgb(36,36,36)\"}},\"shapedefaults\":{\"fillcolor\":\"black\",\"line\":{\"width\":0},\"opacity\":0.3},\"ternary\":{\"aaxis\":{\"gridcolor\":\"rgb(232,232,232)\",\"linecolor\":\"rgb(36,36,36)\",\"showgrid\":false,\"showline\":true,\"ticks\":\"outside\"},\"baxis\":{\"gridcolor\":\"rgb(232,232,232)\",\"linecolor\":\"rgb(36,36,36)\",\"showgrid\":false,\"showline\":true,\"ticks\":\"outside\"},\"bgcolor\":\"white\",\"caxis\":{\"gridcolor\":\"rgb(232,232,232)\",\"linecolor\":\"rgb(36,36,36)\",\"showgrid\":false,\"showline\":true,\"ticks\":\"outside\"}},\"title\":{\"x\":0.05},\"xaxis\":{\"automargin\":true,\"gridcolor\":\"rgb(232,232,232)\",\"linecolor\":\"rgb(36,36,36)\",\"showgrid\":false,\"showline\":true,\"ticks\":\"outside\",\"title\":{\"standoff\":15},\"zeroline\":false,\"zerolinecolor\":\"rgb(36,36,36)\"},\"yaxis\":{\"automargin\":true,\"gridcolor\":\"rgb(232,232,232)\",\"linecolor\":\"rgb(36,36,36)\",\"showgrid\":false,\"showline\":true,\"ticks\":\"outside\",\"title\":{\"standoff\":15},\"zeroline\":false,\"zerolinecolor\":\"rgb(36,36,36)\"}}},\"xaxis\":{\"anchor\":\"y\",\"domain\":[0.0,1.0],\"title\":{\"text\":\"Day\"},\"linewidth\":1.5},\"yaxis\":{\"anchor\":\"x\",\"domain\":[0.0,1.0],\"title\":{\"text\":\"Lick Accuracy\"},\"linewidth\":1.5,\"range\":[0,100],\"dtick\":25},\"annotations\":[{\"font\":{\"size\":22},\"showarrow\":false,\"text\":\"Circle Track\",\"x\":0.5,\"xanchor\":\"center\",\"xref\":\"paper\",\"y\":1.0,\"yanchor\":\"bottom\",\"yref\":\"paper\"}],\"title\":{\"y\":0.9,\"x\":0.5,\"xanchor\":\"center\",\"yanchor\":\"top\"},\"font\":{\"size\":22,\"family\":\"Arial\"},\"height\":500,\"width\":600,\"shapes\":[{\"line\":{\"color\":\"darkgrey\",\"dash\":\"dash\",\"width\":1},\"opacity\":1,\"type\":\"line\",\"x0\":0,\"x1\":1,\"xref\":\"x domain\",\"y0\":75,\"y1\":75,\"yref\":\"y\"},{\"line\":{\"color\":\"darkgrey\",\"dash\":\"dash\",\"width\":1},\"opacity\":1,\"type\":\"line\",\"x0\":0,\"x1\":1,\"xref\":\"x domain\",\"y0\":25,\"y1\":25,\"yref\":\"y\"},{\"line\":{\"color\":\"darkgrey\",\"dash\":\"dash\",\"width\":1},\"opacity\":1,\"type\":\"line\",\"x0\":6.5,\"x1\":6.5,\"xref\":\"x\",\"y0\":0,\"y1\":1,\"yref\":\"y domain\"},{\"line\":{\"color\":\"darkgrey\",\"dash\":\"dash\",\"width\":1},\"opacity\":1,\"type\":\"line\",\"x0\":12.5,\"x1\":12.5,\"xref\":\"x\",\"y0\":0,\"y1\":1,\"yref\":\"y domain\"}]},                        {\"responsive\": true}                    ).then(function(){\n",
       "                            \n",
       "var gd = document.getElementById('090b19a8-1f4c-4833-965c-0bec5081aae5');\n",
       "var x = new MutationObserver(function (mutations, observer) {{\n",
       "        var display = window.getComputedStyle(gd).display;\n",
       "        if (!display || display === 'none') {{\n",
       "            console.log([gd, 'removed!']);\n",
       "            Plotly.purge(gd);\n",
       "            observer.disconnect();\n",
       "        }}\n",
       "}});\n",
       "\n",
       "// Listen for the removal of the full notebook cells\n",
       "var notebookContainer = gd.closest('#notebook-container');\n",
       "if (notebookContainer) {{\n",
       "    x.observe(notebookContainer, {childList: true});\n",
       "}}\n",
       "\n",
       "// Listen for the clearing of the current output cell\n",
       "var outputEl = gd.closest('.output');\n",
       "if (outputEl) {{\n",
       "    x.observe(outputEl, {childList: true});\n",
       "}}\n",
       "\n",
       "                        })                };                });            </script>        </div>"
      ]
     },
     "metadata": {},
     "output_type": "display_data"
    },
    {
     "data": {
      "text/html": [
       "<div>\n",
       "<style scoped>\n",
       "    .dataframe tbody tr th:only-of-type {\n",
       "        vertical-align: middle;\n",
       "    }\n",
       "\n",
       "    .dataframe tbody tr th {\n",
       "        vertical-align: top;\n",
       "    }\n",
       "\n",
       "    .dataframe thead th {\n",
       "        text-align: right;\n",
       "    }\n",
       "</style>\n",
       "<table border=\"1\" class=\"dataframe\">\n",
       "  <thead>\n",
       "    <tr style=\"text-align: right;\">\n",
       "      <th></th>\n",
       "      <th>Source</th>\n",
       "      <th>SS</th>\n",
       "      <th>DF1</th>\n",
       "      <th>DF2</th>\n",
       "      <th>MS</th>\n",
       "      <th>F</th>\n",
       "      <th>p-unc</th>\n",
       "      <th>np2</th>\n",
       "      <th>eps</th>\n",
       "    </tr>\n",
       "  </thead>\n",
       "  <tbody>\n",
       "    <tr>\n",
       "      <th>0</th>\n",
       "      <td>group</td>\n",
       "      <td>3124.314407</td>\n",
       "      <td>1</td>\n",
       "      <td>4</td>\n",
       "      <td>3124.314407</td>\n",
       "      <td>1.609247</td>\n",
       "      <td>2.733987e-01</td>\n",
       "      <td>0.286892</td>\n",
       "      <td>NaN</td>\n",
       "    </tr>\n",
       "    <tr>\n",
       "      <th>1</th>\n",
       "      <td>day</td>\n",
       "      <td>19919.428240</td>\n",
       "      <td>13</td>\n",
       "      <td>52</td>\n",
       "      <td>1532.263711</td>\n",
       "      <td>13.694896</td>\n",
       "      <td>1.677903e-12</td>\n",
       "      <td>0.773946</td>\n",
       "      <td>0.22063</td>\n",
       "    </tr>\n",
       "    <tr>\n",
       "      <th>2</th>\n",
       "      <td>Interaction</td>\n",
       "      <td>1841.749515</td>\n",
       "      <td>13</td>\n",
       "      <td>52</td>\n",
       "      <td>141.673040</td>\n",
       "      <td>1.266230</td>\n",
       "      <td>2.631148e-01</td>\n",
       "      <td>0.240443</td>\n",
       "      <td>NaN</td>\n",
       "    </tr>\n",
       "  </tbody>\n",
       "</table>\n",
       "</div>"
      ],
      "text/plain": [
       "        Source            SS  DF1  DF2           MS          F         p-unc  \\\n",
       "0        group   3124.314407    1    4  3124.314407   1.609247  2.733987e-01   \n",
       "1          day  19919.428240   13   52  1532.263711  13.694896  1.677903e-12   \n",
       "2  Interaction   1841.749515   13   52   141.673040   1.266230  2.631148e-01   \n",
       "\n",
       "        np2      eps  \n",
       "0  0.286892      NaN  \n",
       "1  0.773946  0.22063  \n",
       "2  0.240443      NaN  "
      ]
     },
     "execution_count": 6,
     "metadata": {},
     "output_type": "execute_result"
    }
   ],
   "source": [
    "## Plot lick accuracy across days for thresh3 or thresh5\n",
    "fig = pf.plot_behavior_across_days(ct_df, x_var='day', y_var='lick_accuracy', groupby_var=['day', 'group'], plot_transitions=[6.5, 12.5],\n",
    "                                   marker_color=two_color_plots, avg_color='darkgrey', expert_line=True, chance=True,\n",
    "                                   transition_color=['darkgrey', 'darkgrey'], plot_datapoints=False,\n",
    "                                   x_title='Day', y_title='Lick Accuracy', titles=['Circle Track'], height=500, width=600)\n",
    "fig.update_yaxes(range=[0, 100], dtick=25)\n",
    "fig.show()\n",
    "fig.write_image(pjoin(fig_path, 'lick_accuracy.png'))\n",
    "ct_df.mixed_anova(dv='lick_accuracy', within='day', subject='mouse', between='group')"
   ]
  }
 ],
 "metadata": {
  "kernelspec": {
   "display_name": "calcium",
   "language": "python",
   "name": "python3"
  },
  "language_info": {
   "codemirror_mode": {
    "name": "ipython",
    "version": 3
   },
   "file_extension": ".py",
   "mimetype": "text/x-python",
   "name": "python",
   "nbconvert_exporter": "python",
   "pygments_lexer": "ipython3",
   "version": "3.10.8"
  },
  "orig_nbformat": 4
 },
 "nbformat": 4,
 "nbformat_minor": 2
}
