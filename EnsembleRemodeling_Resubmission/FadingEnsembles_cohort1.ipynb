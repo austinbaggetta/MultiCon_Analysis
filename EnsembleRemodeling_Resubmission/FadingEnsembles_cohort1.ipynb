{
 "cells": [
  {
   "cell_type": "code",
   "execution_count": 2,
   "metadata": {},
   "outputs": [],
   "source": [
    "%load_ext autoreload\n",
    "%autoreload 2\n",
    "import pandas as pd\n",
    "import numpy as np\n",
    "import xarray as xr\n",
    "import os\n",
    "from tqdm import tqdm\n",
    "from os.path import join as pjoin\n",
    "import plotly.graph_objects as go\n",
    "from plotly.subplots import make_subplots\n",
    "from scipy.stats import pearsonr, spearmanr, zscore, wilcoxon\n",
    "import sys"
   ]
  },
  {
   "cell_type": "code",
   "execution_count": 3,
   "metadata": {},
   "outputs": [],
   "source": [
    "sys.path.append('..')\n",
    "import circletrack_neural as ctn\n",
    "import circletrack_behavior as ctb\n",
    "import pca_ica as ica\n",
    "import plotting_functions as pf"
   ]
  },
  {
   "cell_type": "code",
   "execution_count": 4,
   "metadata": {},
   "outputs": [],
   "source": [
    "## Create a list of sessions for easy plotting later and for changing column order\n",
    "session_list = ['Training1', 'Training2', 'Training3', 'Training4', 'Reversal1', 'Reversal2', 'Reversal3', 'Reversal4', 'Training_Reversal']\n",
    "## Create session_id dictionary\n",
    "session_dict = {'mc03': ['Training1', 'Training2', 'Training3', 'Training4', 'Reversal1', 'Reversal4', 'Training_Reversal'],\n",
    "                'mc06': ['Training1', 'Training2', 'Training3', 'Training4', 'Reversal1', 'Reversal2', 'Reversal3', 'Reversal4', 'Training_Reversal'],\n",
    "                'mc07': ['Training1', 'Training2', 'Training3', 'Training4', 'Reversal1', 'Reversal2', 'Reversal3', 'Reversal4', 'Training_Reversal'],\n",
    "                'mc09': ['Training3', 'Training4', 'Reversal1', 'Reversal2', 'Reversal3', 'Reversal4', 'Training_Reversal'],\n",
    "                'mc11': ['Training1', 'Training2', 'Training3', 'Training4', 'Reversal1', 'Reversal2', 'Reversal3', 'Reversal4', 'Training_Reversal']}\n",
    "## Set path variables\n",
    "ensemble_path = '../../EnsembleRemodeling_Resubmission/circletrack_data/assemblies'\n",
    "behavior_path = '../../EnsembleRemodeling_Resubmission/circletrack_data'  \n",
    "figure_path = '../../EnsembleRemodeling_Resubmission/circletrack_data/python_analysis/progress_figures/cohort1'\n",
    "## Create mouse list\n",
    "mouse_list = ['mc03', 'mc06', 'mc07', 'mc09', 'mc11']             "
   ]
  },
  {
   "cell_type": "code",
   "execution_count": null,
   "metadata": {},
   "outputs": [],
   "source": [
    "## Number of neurons across sessions\n",
    "## Set mouse list\n",
    "mouse_list = ['mc03', 'mc06', 'mc07']\n",
    "mouse_neural = {}\n",
    "## Loop through mouse list\n",
    "for mouse in mouse_list:\n",
    "    sessions = ctn.import_mouse_neural_data(behavior_path, mouse, key_file = 'keys.yml', session = '30min', neural_type = 'spikes')\n",
    "    cell_dict = {}\n",
    "    for session in sessions:\n",
    "        cell_dict[session] = len(sessions[session].unit_id)\n",
    "    mouse_neural[mouse] = cell_dict\n",
    "fig = pf.custom_graph_template(title = 'Cells per Session', x_title = 'Session', y_title = 'Number of Cells')\n",
    "for mouse in mouse_neural:\n",
    "    plot_data = pd.DataFrame(mouse_neural[mouse], index = [0])\n",
    "    if mouse == 'mc03':\n",
    "        plot_data.insert(0, 'Reversal2', np.nan)\n",
    "        plot_data.insert(1, 'Reversal3', np.nan)\n",
    "    plot_data = plot_data[session_list]\n",
    "    fig.add_trace(go.Scatter(x = session_list, y = plot_data.iloc[0, :], mode = 'lines', line_color = 'grey', line_width = 0.5, opacity = 0.5, name = mouse, showlegend = False))\n",
    "fig.show()\n",
    "fig.write_image('progress_figures/cells_across_session.png')"
   ]
  },
  {
   "cell_type": "code",
   "execution_count": null,
   "metadata": {},
   "outputs": [],
   "source": [
    "## Plot number of ensembles across all sessions\n",
    "ensemble_num_df = pd.DataFrame()\n",
    "mouse_name = []\n",
    "for i, mouse in enumerate(mouse_num_ensembles):\n",
    "    mouse_name.append(mouse)\n",
    "    df = pd.DataFrame(mouse_num_ensembles[mouse], index = [i])\n",
    "    ensemble_num_df = pd.concat([ensemble_num_df, df])\n",
    "ensemble_num_df = ensemble_num_df[session_list]\n",
    "## Calculate avg num of ensembles per session\n",
    "avg = ensemble_num_df.mean()\n",
    "## Plot data\n",
    "fig = pf.custom_graph_template(title = 'Ensembles Across Sessions', x_title = '', y_title = 'Number of Ensembles', width = 500, height = 500)\n",
    "fig.add_trace(go.Scatter(x = session_list, y = avg, marker = dict(color = 'turquoise'), showlegend = False))\n",
    "## Plot individual mice\n",
    "for mouse in mouse_num_ensembles:\n",
    "    fig.add_trace(go.Scatter(x = session_list, y = pd.Series(mouse_num_ensembles[mouse]), mode = 'lines', line_color = 'grey', opacity = 0.5, line_width = 0.5, showlegend = False, name = mouse))\n",
    "fig.show()\n",
    "fig.write_image('progress_figures/ensembles_across_sessions.png')"
   ]
  },
  {
   "cell_type": "code",
   "execution_count": 6,
   "metadata": {},
   "outputs": [
    {
     "name": "stderr",
     "output_type": "stream",
     "text": [
      "100%|██████████| 4/4 [00:17<00:00,  4.47s/it]\n"
     ]
    }
   ],
   "source": [
    "## Set mouse list, x_bin_size, and across_time\n",
    "mouse_list = ['mc03', 'mc06', 'mc07', 'mc09']\n",
    "across_time = True\n",
    "x_bin_size = 5\n",
    "## Create empty dictionaries\n",
    "mouse_trends = {}\n",
    "mouse_binned_activations = {}\n",
    "mouse_slopes = {}\n",
    "mouse_taus = {}\n",
    "mouse_ensembles = {}\n",
    "mouse_num_ensembles = {}\n",
    "## Loop through each mouse\n",
    "for mouse in tqdm(mouse_list):\n",
    "    ## saved ensemble data path\n",
    "    spath = pjoin(ensemble_path, mouse)\n",
    "    ## load in behavior data across all sessions\n",
    "    if not across_time:\n",
    "        mouse_behavior = ctb.import_mouse_behavior_data(behavior_path, mouse, key_file = 'behavior_keys.yml', session = '30min')\n",
    "    ## Create empty dictionaries to store output\n",
    "    determined_trends = {}\n",
    "    binned_activations_dict = {}\n",
    "    slopes_dict = {}\n",
    "    tau_dict = {}\n",
    "    num_ensembles = {}\n",
    "    ## Load assemblies\n",
    "    for session in session_dict[mouse]:\n",
    "        ## Load a specific session's behavior data\n",
    "        if not across_time:\n",
    "            aligned_behavior = mouse_behavior[session]\n",
    "            ## Get which timestamps are part of which trial for the aligned behavior data\n",
    "            trials = ctb.get_trials(aligned_behavior, shift_factor = (np.pi / 2), angle_type = 'radians', counterclockwise = True)\n",
    "        ## Load a specific session's assemblies\n",
    "        assemblies = ica.load_session_assemblies(mouse, spath = spath, session_id = session)\n",
    "        act = assemblies.activations.values\n",
    "        ## Save the number of identified ensembles by PCA/ICA\n",
    "        num_ensembles[session] = act.shape[0]\n",
    "        if across_time:\n",
    "          trends, binned_activations, slopes, tau = ica.define_ensemble_trends_across_time(act, z_threshold = None, x_bin_size = x_bin_size, analysis_type = 'max', zscored = True, alpha = 'sidak')  \n",
    "        else:\n",
    "            ## Define ensemble trends across trials to determine if activation strength is increasing/decreasing across the session\n",
    "            trends, binned_activations, slopes, tau = ica.define_ensemble_trends_across_trials(act, aligned_behavior, trials, trial_type = 'forward', z_threshold = None)\n",
    "        ## Save to dictionaries\n",
    "        determined_trends[session] = trends\n",
    "        binned_activations_dict[session] = binned_activations\n",
    "        slopes_dict[session] = slopes\n",
    "        tau_dict[session] = tau\n",
    "    ## Determine the proportion of ensembles that are increasing, decreasing, or have no trend based on their activation strength across time\n",
    "    proportion_dict = ica.calculate_proportions_ensembles(determined_trends)\n",
    "    ## Save to mouse dictionaries before looping to the next mouse\n",
    "    mouse_trends[mouse] = proportion_dict\n",
    "    mouse_binned_activations[mouse] = binned_activations_dict\n",
    "    mouse_slopes[mouse] = slopes_dict\n",
    "    mouse_ensembles[mouse] = determined_trends\n",
    "    mouse_taus[mouse] = tau_dict\n",
    "    mouse_num_ensembles[mouse] = num_ensembles"
   ]
  },
  {
   "cell_type": "code",
   "execution_count": null,
   "metadata": {},
   "outputs": [],
   "source": [
    "## Plot peak activation of a fading ensemble\n",
    "activations = mouse_binned_activations['mc09']['Reversal1']\n",
    "ensemble_number = 5\n",
    "fig = pf.plot_activation_strength(activations, ensemble_number = ensemble_number, figure_path = figure_path, x_bin_size = x_bin_size,\n",
    "                                  title = 'Fading Ensemble', y_title = 'Max Z Score', x_title = 'Time (s)', \n",
    "                                  file_name = 'max_strength_fading_{}bins.png'.format(x_bin_size), marker_color = 'red')"
   ]
  },
  {
   "cell_type": "code",
   "execution_count": 10,
   "metadata": {},
   "outputs": [
    {
     "data": {
      "application/vnd.plotly.v1+json": {
       "config": {
        "plotlyServerURL": "https://plot.ly"
       },
       "data": [
        {
         "marker": {
          "color": "turquoise"
         },
         "mode": "markers",
         "opacity": 0.7,
         "type": "scatter",
         "x": [
          0,
          5,
          10,
          15,
          20,
          25,
          30,
          35,
          40,
          45,
          50,
          55,
          60,
          65,
          70,
          75,
          80,
          85,
          90,
          95,
          100,
          105,
          110,
          115,
          120,
          125,
          130,
          135,
          140,
          145,
          150,
          155,
          160,
          165,
          170,
          175,
          180,
          185,
          190,
          195,
          200,
          205,
          210,
          215,
          220,
          225,
          230,
          235,
          240,
          245,
          250,
          255,
          260,
          265,
          270,
          275,
          280,
          285,
          290,
          295,
          300,
          305,
          310,
          315,
          320,
          325,
          330,
          335,
          340,
          345,
          350,
          355,
          360,
          365,
          370,
          375,
          380,
          385,
          390,
          395,
          400,
          405,
          410,
          415,
          420,
          425,
          430,
          435,
          440,
          445,
          450,
          455,
          460,
          465,
          470,
          475,
          480,
          485,
          490,
          495,
          500,
          505,
          510,
          515,
          520,
          525,
          530,
          535,
          540,
          545,
          550,
          555,
          560,
          565,
          570,
          575,
          580,
          585,
          590,
          595,
          600,
          605,
          610,
          615,
          620,
          625,
          630,
          635,
          640,
          645,
          650,
          655,
          660,
          665,
          670,
          675,
          680,
          685,
          690,
          695,
          700,
          705,
          710,
          715,
          720,
          725,
          730,
          735,
          740,
          745,
          750,
          755,
          760,
          765,
          770,
          775,
          780,
          785,
          790,
          795,
          800,
          805,
          810,
          815,
          820,
          825,
          830,
          835,
          840,
          845,
          850,
          855,
          860,
          865,
          870,
          875,
          880,
          885,
          890,
          895,
          900,
          905,
          910,
          915,
          920,
          925,
          930,
          935,
          940,
          945,
          950,
          955,
          960,
          965,
          970,
          975,
          980,
          985,
          990,
          995,
          1000,
          1005,
          1010,
          1015,
          1020,
          1025,
          1030,
          1035,
          1040,
          1045,
          1050,
          1055,
          1060,
          1065,
          1070,
          1075,
          1080,
          1085,
          1090,
          1095,
          1100,
          1105,
          1110,
          1115,
          1120,
          1125,
          1130,
          1135,
          1140,
          1145,
          1150,
          1155,
          1160,
          1165,
          1170,
          1175,
          1180,
          1185,
          1190,
          1195,
          1200,
          1205,
          1210,
          1215,
          1220,
          1225,
          1230,
          1235,
          1240,
          1245,
          1250,
          1255,
          1260,
          1265,
          1270,
          1275,
          1280,
          1285,
          1290,
          1295,
          1300,
          1305,
          1310,
          1315,
          1320,
          1325,
          1330,
          1335,
          1340,
          1345,
          1350,
          1355,
          1360,
          1365,
          1370,
          1375,
          1380,
          1385,
          1390,
          1395,
          1400,
          1405,
          1410,
          1415,
          1420,
          1425,
          1430,
          1435,
          1440,
          1445,
          1450,
          1455,
          1460,
          1465,
          1470,
          1475,
          1480,
          1485,
          1490,
          1495,
          1500,
          1505,
          1510,
          1515,
          1520,
          1525,
          1530,
          1535,
          1540,
          1545,
          1550,
          1555,
          1560,
          1565,
          1570,
          1575,
          1580,
          1585,
          1590,
          1595,
          1600,
          1605,
          1610,
          1615,
          1620,
          1625,
          1630,
          1635,
          1640,
          1645,
          1650,
          1655,
          1660,
          1665,
          1670,
          1675,
          1680,
          1685,
          1690,
          1695,
          1700,
          1705,
          1710,
          1715,
          1720,
          1725,
          1730,
          1735,
          1740,
          1745,
          1750,
          1755,
          1760,
          1765,
          1770,
          1775,
          1780,
          1785,
          1790,
          1795
         ],
         "y": [
          0.45256543542236033,
          0.1004901464609702,
          -0.045070691381091724,
          0.015219789770788339,
          0.6077515297220664,
          0.5029492470939153,
          0.1590231650261532,
          4.6865565518811945,
          0.011436434119897877,
          -0.03167681331055691,
          -0.014696560491353556,
          0.03345559581457205,
          -0.10012723779046191,
          0.3074848101636306,
          0.27462371883311004,
          0.44428965326009334,
          0.18581065800505775,
          0.15546668234211844,
          -0.003087848178361394,
          0.03621140404592255,
          -0.09351239206833727,
          0.4001643709082438,
          -0.03200780242395919,
          0.1241360318831391,
          0.43992945674084566,
          -0.10061328875320917,
          -0.0351320042964699,
          -0.041300871846066164,
          -0.09357699124688262,
          0.035438690595547946,
          -0.008406730319513977,
          -0.052028310866624836,
          -0.022519317100336146,
          0.2791123014759492,
          -0.07274010486009382,
          0.04982270118091275,
          0.18844570691667237,
          -0.10862503485871859,
          0.230066681851502,
          -0.040919868735125445,
          0.06304748159881797,
          -0.029188821239338834,
          -0.05289725314935069,
          -0.07591904739013548,
          -0.004680357566434417,
          0.09664992246542341,
          -0.07245557282248698,
          4.5223514492673536,
          0.2516383261063108,
          6.678958590706548,
          0.13746462946549567,
          0.07965389657082857,
          1.3370866953253713,
          -0.04154491035920132,
          -0.07487274427406103,
          -0.0974810600647255,
          -0.09848431474804482,
          0.12381038164692439,
          -0.07729320779218467,
          0.22498203438989708,
          0.019096126044174364,
          -0.07926475327636637,
          -0.07118077674349714,
          -0.038104490225318026,
          1.7426376529937895,
          -0.0763577726872558,
          -0.014165616569822317,
          0.04760275815754055,
          -0.03648649631762509,
          -0.08596286930044113,
          -0.06177794582224463,
          -0.04834372608228715,
          -0.08665674433302802,
          -0.07369135328622303,
          -0.06662379450471924,
          -0.035619682477457844,
          10.267894853502657,
          -0.09150643338116644,
          0.09756034742757466,
          0.267953927427566,
          0.23515889535944634,
          0.06486397191345761,
          -0.07507563269269564,
          -0.09331962894840913,
          -0.08477815877001955,
          1.2361140449851231,
          0.14435095482206406,
          0.5231062099557066,
          0.010470793875897676,
          11.0490170649374,
          0.031199545741955475,
          16.304780105757708,
          0.07436614738068226,
          0.04777459703512037,
          0.036532111004020124,
          -0.007089340413490703,
          2.357934733679828,
          -0.09366765175588465,
          -0.0670653482063048,
          -0.08646845539881758,
          7.150166127247087,
          -0.050701288054195784,
          0.12071275982992617,
          0.11455397111979292,
          0.10029389507689832,
          0.5805007783377002,
          0.016447589975672784,
          -0.020224210332781344,
          -0.06779963574108926,
          0.03478025564761934,
          -0.10198317273861075,
          -0.0891313529410409,
          -0.08378134291585877,
          0.0037934019215979716,
          0.479079621833367,
          -0.07729170383124252,
          -0.08261456785498672,
          -0.07438107149533614,
          -0.059067141666725984,
          -0.09797400740932334,
          -0.08240736136860301,
          -0.032403298690128236,
          0.022392207374381926,
          -0.07751645921238315,
          0.12510711607322367,
          -0.08191317623908484,
          -0.051456916386224,
          -0.036458129072762774,
          -0.0713806382635142,
          4.175948371866859,
          -0.027543425946039337,
          1.0000259502288549,
          -0.09844317220779036,
          -0.019574395242963866,
          0.05718450955589937,
          -0.07184637848353169,
          0.09774951811959846,
          -0.013408665637085693,
          0.11190992483297041,
          -0.019842325031443793,
          -0.051628433752677824,
          0.09716694593264243,
          -0.0895119636150766,
          0.09566017719286438,
          -0.02916219524343646,
          -0.09643620348680722,
          -0.07074908407318577,
          -0.0047942076600131734,
          -0.0879360661484864,
          0.009537023052111886,
          -0.0958135337647627,
          0.13474840562062865,
          -0.02567204884940099,
          7.400226555260968,
          -0.07391653025829216,
          -0.11020301491819534,
          0.18244048770408425,
          0.16735993071058644,
          -0.02254875557241949,
          -0.08144739583917189,
          0.03510714639659334,
          0.23354978217008995,
          -0.06601215776171271,
          3.0108337291588723,
          0.08213976104591131,
          -0.10462458222147246,
          -0.07770399568448239,
          -0.004151282483211019,
          -0.06122185241059848,
          -0.026045828279505173,
          0.023501220178641667,
          0.13511397936484426,
          0.4348373790442211,
          -0.09674617958403324,
          -0.04023473316129039,
          -0.08150610447084372,
          -0.10820718065443086,
          -0.10707470477497638,
          1.3364501392373613,
          1.3270339090813357,
          -0.08169028630235073,
          2.4847421235554417,
          0.22083104515424884,
          0.9867483062570302,
          0.4168660277830409,
          0.8541061541344153,
          -0.04366753217598638,
          4.412564001506587,
          0.20081570586109868,
          0.017579031858284515,
          0.07349025977545023,
          -0.08269402152449569,
          -0.04727307332587869,
          -0.09323645476689083,
          0.05381467724013102,
          -0.0588251380779508,
          0.4680746043345816,
          -0.1093308482943182,
          -0.013033677574780956,
          0.4810907464118284,
          7.1775859845215,
          0.08078105985803966,
          0.025504315944884896,
          -0.032593313353801556,
          -0.05264900279723851,
          0.19386352176214072,
          0.7886965649633423,
          2.133270810586878,
          3.3715549920407972,
          0.1530191107720919,
          0.7162419518434272,
          0.058104136134484535,
          0.050793904068179165,
          -0.017436044613461345,
          0.040663885332400895,
          -0.03911288929554699,
          1.2340263147368455,
          0.0277791187522488,
          -0.10343287108891196,
          -0.09624770118642159,
          3.342242886650064,
          -0.10197792847944154,
          -0.05740358973667598,
          7.0836591934886535,
          0.7363086597356608,
          0.017850508617645904,
          0.02906671726085205,
          0.5647972217959436,
          -0.03538153596660843,
          0.04927412948329482,
          16.26374956387321,
          8.174180188454631,
          10.470513137277024,
          0.16948370446527927,
          0.09508358493334895,
          7.187198743982359,
          5.770177335500954,
          5.562484354256868,
          0.045532629680875965,
          0.8913319577500702,
          -0.09706962531307774,
          -0.0559642661603564,
          -0.06446602165144105,
          0.16839635296539787,
          0.25425349475405584,
          0.06738674860632295,
          -0.05075070529504132,
          0.020655975419722913,
          0.0070504027956673045,
          0.3188314822688878,
          -0.03473862027151197,
          3.6758509629889544,
          2.6770021251755862,
          1.0509050681411003,
          -0.02797555089710249,
          1.6223209593839962,
          2.05209525600533,
          0.020973239203580157,
          0.33269217697234554,
          0.12709463848223873,
          0.13536368085017586,
          0.2152017910482661,
          0.06531923657621119,
          1.404322236420169,
          0.6930340736794685,
          0.2831956967374691,
          0.06789722013385885,
          -0.07850293369026395,
          9.26375999988377,
          1.3921821386947233,
          0.16072882375041442,
          0.14937784519348832,
          0.03242342088782219,
          4.117330414820805,
          7.288362658341886,
          1.5245562497045895,
          0.999093490115642,
          27.53511058793533,
          0.6990799017900567,
          0.23963335035512115,
          0.428786254103851,
          0.27143032411059975,
          0.45953459775670114,
          0.04533934894361592,
          -0.028981176857406213,
          1.3595556862083216,
          6.8321499627560875,
          -0.0948194382688569,
          -0.0222519450306719,
          -0.059627497444351425,
          0.10055226913532014,
          0.09072334715645854,
          0.018122960158801084,
          18.887667368043374,
          14.74588622146354,
          0.2694374181793245,
          0.14209785741782205,
          0.0665715117469634,
          -0.045423855006854065,
          0.1187863398637809,
          0.3140564939894458,
          0.569279077147312,
          0.1100928441994847,
          0.18161069450656178,
          -0.1016128088120861,
          0.032510936381265634,
          -0.050326717437712665,
          0.06452636356346868,
          0.13268336975173645,
          -0.08784470245413038,
          0.00980684692235884,
          -0.0335852235032894,
          3.298558361086463,
          0.7715907389816317,
          0.8030295304887471,
          0.24873730166951352,
          0.4153227643693484,
          1.2348061841687688,
          -0.043954393744944524,
          -0.05742403833690018,
          0.14038219510468822,
          -0.09800436884746304,
          0.5758642833152791,
          0.06879591460328129,
          -0.07135960025394474,
          -0.09757905313636057,
          0.13329382944240253,
          -0.03830061518226867,
          -0.03264536297736655,
          -0.0993035738766849,
          0.11133125463459266,
          -0.020247324339484476,
          -0.039873015475538405,
          14.01046399513644,
          1.1077140805685337,
          0.44468378847079915,
          0.467760208218678,
          0.34295397053184723,
          0.17498290416899975,
          0.39854481736065084,
          29.393593883749457,
          0.06802770858793655,
          1.6151915859176826,
          0.013107124066163137,
          0.22860555529139714,
          1.1699704715444608,
          0.6794398875580538,
          0.03737075269654207,
          12.250545202890454,
          0.21261553106300266,
          0.30611152671811453,
          -0.06502648426474242,
          -0.07691179449143408,
          -0.09648564142723465,
          0.01729966190264031,
          -0.049762088911485355,
          0.16542984347922962,
          0.1343359002278374,
          2.595348302884733,
          -0.050051901797327325
         ]
        }
       ],
       "layout": {
        "height": 500,
        "template": {
         "data": {
          "bar": [
           {
            "error_x": {
             "color": "rgb(36,36,36)"
            },
            "error_y": {
             "color": "rgb(36,36,36)"
            },
            "marker": {
             "line": {
              "color": "white",
              "width": 0.5
             },
             "pattern": {
              "fillmode": "overlay",
              "size": 10,
              "solidity": 0.2
             }
            },
            "type": "bar"
           }
          ],
          "barpolar": [
           {
            "marker": {
             "line": {
              "color": "white",
              "width": 0.5
             },
             "pattern": {
              "fillmode": "overlay",
              "size": 10,
              "solidity": 0.2
             }
            },
            "type": "barpolar"
           }
          ],
          "carpet": [
           {
            "aaxis": {
             "endlinecolor": "rgb(36,36,36)",
             "gridcolor": "white",
             "linecolor": "white",
             "minorgridcolor": "white",
             "startlinecolor": "rgb(36,36,36)"
            },
            "baxis": {
             "endlinecolor": "rgb(36,36,36)",
             "gridcolor": "white",
             "linecolor": "white",
             "minorgridcolor": "white",
             "startlinecolor": "rgb(36,36,36)"
            },
            "type": "carpet"
           }
          ],
          "choropleth": [
           {
            "colorbar": {
             "outlinewidth": 1,
             "tickcolor": "rgb(36,36,36)",
             "ticks": "outside"
            },
            "type": "choropleth"
           }
          ],
          "contour": [
           {
            "colorbar": {
             "outlinewidth": 1,
             "tickcolor": "rgb(36,36,36)",
             "ticks": "outside"
            },
            "colorscale": [
             [
              0,
              "#440154"
             ],
             [
              0.1111111111111111,
              "#482878"
             ],
             [
              0.2222222222222222,
              "#3e4989"
             ],
             [
              0.3333333333333333,
              "#31688e"
             ],
             [
              0.4444444444444444,
              "#26828e"
             ],
             [
              0.5555555555555556,
              "#1f9e89"
             ],
             [
              0.6666666666666666,
              "#35b779"
             ],
             [
              0.7777777777777778,
              "#6ece58"
             ],
             [
              0.8888888888888888,
              "#b5de2b"
             ],
             [
              1,
              "#fde725"
             ]
            ],
            "type": "contour"
           }
          ],
          "contourcarpet": [
           {
            "colorbar": {
             "outlinewidth": 1,
             "tickcolor": "rgb(36,36,36)",
             "ticks": "outside"
            },
            "type": "contourcarpet"
           }
          ],
          "heatmap": [
           {
            "colorbar": {
             "outlinewidth": 1,
             "tickcolor": "rgb(36,36,36)",
             "ticks": "outside"
            },
            "colorscale": [
             [
              0,
              "#440154"
             ],
             [
              0.1111111111111111,
              "#482878"
             ],
             [
              0.2222222222222222,
              "#3e4989"
             ],
             [
              0.3333333333333333,
              "#31688e"
             ],
             [
              0.4444444444444444,
              "#26828e"
             ],
             [
              0.5555555555555556,
              "#1f9e89"
             ],
             [
              0.6666666666666666,
              "#35b779"
             ],
             [
              0.7777777777777778,
              "#6ece58"
             ],
             [
              0.8888888888888888,
              "#b5de2b"
             ],
             [
              1,
              "#fde725"
             ]
            ],
            "type": "heatmap"
           }
          ],
          "heatmapgl": [
           {
            "colorbar": {
             "outlinewidth": 1,
             "tickcolor": "rgb(36,36,36)",
             "ticks": "outside"
            },
            "colorscale": [
             [
              0,
              "#440154"
             ],
             [
              0.1111111111111111,
              "#482878"
             ],
             [
              0.2222222222222222,
              "#3e4989"
             ],
             [
              0.3333333333333333,
              "#31688e"
             ],
             [
              0.4444444444444444,
              "#26828e"
             ],
             [
              0.5555555555555556,
              "#1f9e89"
             ],
             [
              0.6666666666666666,
              "#35b779"
             ],
             [
              0.7777777777777778,
              "#6ece58"
             ],
             [
              0.8888888888888888,
              "#b5de2b"
             ],
             [
              1,
              "#fde725"
             ]
            ],
            "type": "heatmapgl"
           }
          ],
          "histogram": [
           {
            "marker": {
             "line": {
              "color": "white",
              "width": 0.6
             }
            },
            "type": "histogram"
           }
          ],
          "histogram2d": [
           {
            "colorbar": {
             "outlinewidth": 1,
             "tickcolor": "rgb(36,36,36)",
             "ticks": "outside"
            },
            "colorscale": [
             [
              0,
              "#440154"
             ],
             [
              0.1111111111111111,
              "#482878"
             ],
             [
              0.2222222222222222,
              "#3e4989"
             ],
             [
              0.3333333333333333,
              "#31688e"
             ],
             [
              0.4444444444444444,
              "#26828e"
             ],
             [
              0.5555555555555556,
              "#1f9e89"
             ],
             [
              0.6666666666666666,
              "#35b779"
             ],
             [
              0.7777777777777778,
              "#6ece58"
             ],
             [
              0.8888888888888888,
              "#b5de2b"
             ],
             [
              1,
              "#fde725"
             ]
            ],
            "type": "histogram2d"
           }
          ],
          "histogram2dcontour": [
           {
            "colorbar": {
             "outlinewidth": 1,
             "tickcolor": "rgb(36,36,36)",
             "ticks": "outside"
            },
            "colorscale": [
             [
              0,
              "#440154"
             ],
             [
              0.1111111111111111,
              "#482878"
             ],
             [
              0.2222222222222222,
              "#3e4989"
             ],
             [
              0.3333333333333333,
              "#31688e"
             ],
             [
              0.4444444444444444,
              "#26828e"
             ],
             [
              0.5555555555555556,
              "#1f9e89"
             ],
             [
              0.6666666666666666,
              "#35b779"
             ],
             [
              0.7777777777777778,
              "#6ece58"
             ],
             [
              0.8888888888888888,
              "#b5de2b"
             ],
             [
              1,
              "#fde725"
             ]
            ],
            "type": "histogram2dcontour"
           }
          ],
          "mesh3d": [
           {
            "colorbar": {
             "outlinewidth": 1,
             "tickcolor": "rgb(36,36,36)",
             "ticks": "outside"
            },
            "type": "mesh3d"
           }
          ],
          "parcoords": [
           {
            "line": {
             "colorbar": {
              "outlinewidth": 1,
              "tickcolor": "rgb(36,36,36)",
              "ticks": "outside"
             }
            },
            "type": "parcoords"
           }
          ],
          "pie": [
           {
            "automargin": true,
            "type": "pie"
           }
          ],
          "scatter": [
           {
            "fillpattern": {
             "fillmode": "overlay",
             "size": 10,
             "solidity": 0.2
            },
            "type": "scatter"
           }
          ],
          "scatter3d": [
           {
            "line": {
             "colorbar": {
              "outlinewidth": 1,
              "tickcolor": "rgb(36,36,36)",
              "ticks": "outside"
             }
            },
            "marker": {
             "colorbar": {
              "outlinewidth": 1,
              "tickcolor": "rgb(36,36,36)",
              "ticks": "outside"
             }
            },
            "type": "scatter3d"
           }
          ],
          "scattercarpet": [
           {
            "marker": {
             "colorbar": {
              "outlinewidth": 1,
              "tickcolor": "rgb(36,36,36)",
              "ticks": "outside"
             }
            },
            "type": "scattercarpet"
           }
          ],
          "scattergeo": [
           {
            "marker": {
             "colorbar": {
              "outlinewidth": 1,
              "tickcolor": "rgb(36,36,36)",
              "ticks": "outside"
             }
            },
            "type": "scattergeo"
           }
          ],
          "scattergl": [
           {
            "marker": {
             "colorbar": {
              "outlinewidth": 1,
              "tickcolor": "rgb(36,36,36)",
              "ticks": "outside"
             }
            },
            "type": "scattergl"
           }
          ],
          "scattermapbox": [
           {
            "marker": {
             "colorbar": {
              "outlinewidth": 1,
              "tickcolor": "rgb(36,36,36)",
              "ticks": "outside"
             }
            },
            "type": "scattermapbox"
           }
          ],
          "scatterpolar": [
           {
            "marker": {
             "colorbar": {
              "outlinewidth": 1,
              "tickcolor": "rgb(36,36,36)",
              "ticks": "outside"
             }
            },
            "type": "scatterpolar"
           }
          ],
          "scatterpolargl": [
           {
            "marker": {
             "colorbar": {
              "outlinewidth": 1,
              "tickcolor": "rgb(36,36,36)",
              "ticks": "outside"
             }
            },
            "type": "scatterpolargl"
           }
          ],
          "scatterternary": [
           {
            "marker": {
             "colorbar": {
              "outlinewidth": 1,
              "tickcolor": "rgb(36,36,36)",
              "ticks": "outside"
             }
            },
            "type": "scatterternary"
           }
          ],
          "surface": [
           {
            "colorbar": {
             "outlinewidth": 1,
             "tickcolor": "rgb(36,36,36)",
             "ticks": "outside"
            },
            "colorscale": [
             [
              0,
              "#440154"
             ],
             [
              0.1111111111111111,
              "#482878"
             ],
             [
              0.2222222222222222,
              "#3e4989"
             ],
             [
              0.3333333333333333,
              "#31688e"
             ],
             [
              0.4444444444444444,
              "#26828e"
             ],
             [
              0.5555555555555556,
              "#1f9e89"
             ],
             [
              0.6666666666666666,
              "#35b779"
             ],
             [
              0.7777777777777778,
              "#6ece58"
             ],
             [
              0.8888888888888888,
              "#b5de2b"
             ],
             [
              1,
              "#fde725"
             ]
            ],
            "type": "surface"
           }
          ],
          "table": [
           {
            "cells": {
             "fill": {
              "color": "rgb(237,237,237)"
             },
             "line": {
              "color": "white"
             }
            },
            "header": {
             "fill": {
              "color": "rgb(217,217,217)"
             },
             "line": {
              "color": "white"
             }
            },
            "type": "table"
           }
          ]
         },
         "layout": {
          "annotationdefaults": {
           "arrowhead": 0,
           "arrowwidth": 1
          },
          "autotypenumbers": "strict",
          "coloraxis": {
           "colorbar": {
            "outlinewidth": 1,
            "tickcolor": "rgb(36,36,36)",
            "ticks": "outside"
           }
          },
          "colorscale": {
           "diverging": [
            [
             0,
             "rgb(103,0,31)"
            ],
            [
             0.1,
             "rgb(178,24,43)"
            ],
            [
             0.2,
             "rgb(214,96,77)"
            ],
            [
             0.3,
             "rgb(244,165,130)"
            ],
            [
             0.4,
             "rgb(253,219,199)"
            ],
            [
             0.5,
             "rgb(247,247,247)"
            ],
            [
             0.6,
             "rgb(209,229,240)"
            ],
            [
             0.7,
             "rgb(146,197,222)"
            ],
            [
             0.8,
             "rgb(67,147,195)"
            ],
            [
             0.9,
             "rgb(33,102,172)"
            ],
            [
             1,
             "rgb(5,48,97)"
            ]
           ],
           "sequential": [
            [
             0,
             "#440154"
            ],
            [
             0.1111111111111111,
             "#482878"
            ],
            [
             0.2222222222222222,
             "#3e4989"
            ],
            [
             0.3333333333333333,
             "#31688e"
            ],
            [
             0.4444444444444444,
             "#26828e"
            ],
            [
             0.5555555555555556,
             "#1f9e89"
            ],
            [
             0.6666666666666666,
             "#35b779"
            ],
            [
             0.7777777777777778,
             "#6ece58"
            ],
            [
             0.8888888888888888,
             "#b5de2b"
            ],
            [
             1,
             "#fde725"
            ]
           ],
           "sequentialminus": [
            [
             0,
             "#440154"
            ],
            [
             0.1111111111111111,
             "#482878"
            ],
            [
             0.2222222222222222,
             "#3e4989"
            ],
            [
             0.3333333333333333,
             "#31688e"
            ],
            [
             0.4444444444444444,
             "#26828e"
            ],
            [
             0.5555555555555556,
             "#1f9e89"
            ],
            [
             0.6666666666666666,
             "#35b779"
            ],
            [
             0.7777777777777778,
             "#6ece58"
            ],
            [
             0.8888888888888888,
             "#b5de2b"
            ],
            [
             1,
             "#fde725"
            ]
           ]
          },
          "colorway": [
           "#1F77B4",
           "#FF7F0E",
           "#2CA02C",
           "#D62728",
           "#9467BD",
           "#8C564B",
           "#E377C2",
           "#7F7F7F",
           "#BCBD22",
           "#17BECF"
          ],
          "font": {
           "color": "rgb(36,36,36)"
          },
          "geo": {
           "bgcolor": "white",
           "lakecolor": "white",
           "landcolor": "white",
           "showlakes": true,
           "showland": true,
           "subunitcolor": "white"
          },
          "hoverlabel": {
           "align": "left"
          },
          "hovermode": "closest",
          "mapbox": {
           "style": "light"
          },
          "paper_bgcolor": "white",
          "plot_bgcolor": "white",
          "polar": {
           "angularaxis": {
            "gridcolor": "rgb(232,232,232)",
            "linecolor": "rgb(36,36,36)",
            "showgrid": false,
            "showline": true,
            "ticks": "outside"
           },
           "bgcolor": "white",
           "radialaxis": {
            "gridcolor": "rgb(232,232,232)",
            "linecolor": "rgb(36,36,36)",
            "showgrid": false,
            "showline": true,
            "ticks": "outside"
           }
          },
          "scene": {
           "xaxis": {
            "backgroundcolor": "white",
            "gridcolor": "rgb(232,232,232)",
            "gridwidth": 2,
            "linecolor": "rgb(36,36,36)",
            "showbackground": true,
            "showgrid": false,
            "showline": true,
            "ticks": "outside",
            "zeroline": false,
            "zerolinecolor": "rgb(36,36,36)"
           },
           "yaxis": {
            "backgroundcolor": "white",
            "gridcolor": "rgb(232,232,232)",
            "gridwidth": 2,
            "linecolor": "rgb(36,36,36)",
            "showbackground": true,
            "showgrid": false,
            "showline": true,
            "ticks": "outside",
            "zeroline": false,
            "zerolinecolor": "rgb(36,36,36)"
           },
           "zaxis": {
            "backgroundcolor": "white",
            "gridcolor": "rgb(232,232,232)",
            "gridwidth": 2,
            "linecolor": "rgb(36,36,36)",
            "showbackground": true,
            "showgrid": false,
            "showline": true,
            "ticks": "outside",
            "zeroline": false,
            "zerolinecolor": "rgb(36,36,36)"
           }
          },
          "shapedefaults": {
           "fillcolor": "black",
           "line": {
            "width": 0
           },
           "opacity": 0.3
          },
          "ternary": {
           "aaxis": {
            "gridcolor": "rgb(232,232,232)",
            "linecolor": "rgb(36,36,36)",
            "showgrid": false,
            "showline": true,
            "ticks": "outside"
           },
           "baxis": {
            "gridcolor": "rgb(232,232,232)",
            "linecolor": "rgb(36,36,36)",
            "showgrid": false,
            "showline": true,
            "ticks": "outside"
           },
           "bgcolor": "white",
           "caxis": {
            "gridcolor": "rgb(232,232,232)",
            "linecolor": "rgb(36,36,36)",
            "showgrid": false,
            "showline": true,
            "ticks": "outside"
           }
          },
          "title": {
           "x": 0.05
          },
          "xaxis": {
           "automargin": true,
           "gridcolor": "rgb(232,232,232)",
           "linecolor": "rgb(36,36,36)",
           "showgrid": false,
           "showline": true,
           "ticks": "outside",
           "title": {
            "standoff": 15
           },
           "zeroline": false,
           "zerolinecolor": "rgb(36,36,36)"
          },
          "yaxis": {
           "automargin": true,
           "gridcolor": "rgb(232,232,232)",
           "linecolor": "rgb(36,36,36)",
           "showgrid": false,
           "showline": true,
           "ticks": "outside",
           "title": {
            "standoff": 15
           },
           "zeroline": false,
           "zerolinecolor": "rgb(36,36,36)"
          }
         }
        },
        "title": {
         "text": "Increasing Ensemble - Ensemble 28",
         "x": 0.5,
         "xanchor": "center",
         "y": 0.9,
         "yanchor": "top"
        },
        "width": 500,
        "xaxis": {
         "title": {
          "text": "Time (s)"
         }
        },
        "yaxis": {
         "title": {
          "text": "Max Z Score"
         }
        }
       }
      },
      "text/html": [
       "<div>                            <div id=\"ac0bb4b3-e839-45c2-86ec-1b0808f9e019\" class=\"plotly-graph-div\" style=\"height:500px; width:500px;\"></div>            <script type=\"text/javascript\">                require([\"plotly\"], function(Plotly) {                    window.PLOTLYENV=window.PLOTLYENV || {};                                    if (document.getElementById(\"ac0bb4b3-e839-45c2-86ec-1b0808f9e019\")) {                    Plotly.newPlot(                        \"ac0bb4b3-e839-45c2-86ec-1b0808f9e019\",                        [{\"marker\":{\"color\":\"turquoise\"},\"mode\":\"markers\",\"opacity\":0.7,\"x\":[0,5,10,15,20,25,30,35,40,45,50,55,60,65,70,75,80,85,90,95,100,105,110,115,120,125,130,135,140,145,150,155,160,165,170,175,180,185,190,195,200,205,210,215,220,225,230,235,240,245,250,255,260,265,270,275,280,285,290,295,300,305,310,315,320,325,330,335,340,345,350,355,360,365,370,375,380,385,390,395,400,405,410,415,420,425,430,435,440,445,450,455,460,465,470,475,480,485,490,495,500,505,510,515,520,525,530,535,540,545,550,555,560,565,570,575,580,585,590,595,600,605,610,615,620,625,630,635,640,645,650,655,660,665,670,675,680,685,690,695,700,705,710,715,720,725,730,735,740,745,750,755,760,765,770,775,780,785,790,795,800,805,810,815,820,825,830,835,840,845,850,855,860,865,870,875,880,885,890,895,900,905,910,915,920,925,930,935,940,945,950,955,960,965,970,975,980,985,990,995,1000,1005,1010,1015,1020,1025,1030,1035,1040,1045,1050,1055,1060,1065,1070,1075,1080,1085,1090,1095,1100,1105,1110,1115,1120,1125,1130,1135,1140,1145,1150,1155,1160,1165,1170,1175,1180,1185,1190,1195,1200,1205,1210,1215,1220,1225,1230,1235,1240,1245,1250,1255,1260,1265,1270,1275,1280,1285,1290,1295,1300,1305,1310,1315,1320,1325,1330,1335,1340,1345,1350,1355,1360,1365,1370,1375,1380,1385,1390,1395,1400,1405,1410,1415,1420,1425,1430,1435,1440,1445,1450,1455,1460,1465,1470,1475,1480,1485,1490,1495,1500,1505,1510,1515,1520,1525,1530,1535,1540,1545,1550,1555,1560,1565,1570,1575,1580,1585,1590,1595,1600,1605,1610,1615,1620,1625,1630,1635,1640,1645,1650,1655,1660,1665,1670,1675,1680,1685,1690,1695,1700,1705,1710,1715,1720,1725,1730,1735,1740,1745,1750,1755,1760,1765,1770,1775,1780,1785,1790,1795],\"y\":[0.45256543542236033,0.1004901464609702,-0.045070691381091724,0.015219789770788339,0.6077515297220664,0.5029492470939153,0.1590231650261532,4.6865565518811945,0.011436434119897877,-0.03167681331055691,-0.014696560491353556,0.03345559581457205,-0.10012723779046191,0.3074848101636306,0.27462371883311004,0.44428965326009334,0.18581065800505775,0.15546668234211844,-0.003087848178361394,0.03621140404592255,-0.09351239206833727,0.4001643709082438,-0.03200780242395919,0.1241360318831391,0.43992945674084566,-0.10061328875320917,-0.0351320042964699,-0.041300871846066164,-0.09357699124688262,0.035438690595547946,-0.008406730319513977,-0.052028310866624836,-0.022519317100336146,0.2791123014759492,-0.07274010486009382,0.04982270118091275,0.18844570691667237,-0.10862503485871859,0.230066681851502,-0.040919868735125445,0.06304748159881797,-0.029188821239338834,-0.05289725314935069,-0.07591904739013548,-0.004680357566434417,0.09664992246542341,-0.07245557282248698,4.5223514492673536,0.2516383261063108,6.678958590706548,0.13746462946549567,0.07965389657082857,1.3370866953253713,-0.04154491035920132,-0.07487274427406103,-0.0974810600647255,-0.09848431474804482,0.12381038164692439,-0.07729320779218467,0.22498203438989708,0.019096126044174364,-0.07926475327636637,-0.07118077674349714,-0.038104490225318026,1.7426376529937895,-0.0763577726872558,-0.014165616569822317,0.04760275815754055,-0.03648649631762509,-0.08596286930044113,-0.06177794582224463,-0.04834372608228715,-0.08665674433302802,-0.07369135328622303,-0.06662379450471924,-0.035619682477457844,10.267894853502657,-0.09150643338116644,0.09756034742757466,0.267953927427566,0.23515889535944634,0.06486397191345761,-0.07507563269269564,-0.09331962894840913,-0.08477815877001955,1.2361140449851231,0.14435095482206406,0.5231062099557066,0.010470793875897676,11.0490170649374,0.031199545741955475,16.304780105757708,0.07436614738068226,0.04777459703512037,0.036532111004020124,-0.007089340413490703,2.357934733679828,-0.09366765175588465,-0.0670653482063048,-0.08646845539881758,7.150166127247087,-0.050701288054195784,0.12071275982992617,0.11455397111979292,0.10029389507689832,0.5805007783377002,0.016447589975672784,-0.020224210332781344,-0.06779963574108926,0.03478025564761934,-0.10198317273861075,-0.0891313529410409,-0.08378134291585877,0.0037934019215979716,0.479079621833367,-0.07729170383124252,-0.08261456785498672,-0.07438107149533614,-0.059067141666725984,-0.09797400740932334,-0.08240736136860301,-0.032403298690128236,0.022392207374381926,-0.07751645921238315,0.12510711607322367,-0.08191317623908484,-0.051456916386224,-0.036458129072762774,-0.0713806382635142,4.175948371866859,-0.027543425946039337,1.0000259502288549,-0.09844317220779036,-0.019574395242963866,0.05718450955589937,-0.07184637848353169,0.09774951811959846,-0.013408665637085693,0.11190992483297041,-0.019842325031443793,-0.051628433752677824,0.09716694593264243,-0.0895119636150766,0.09566017719286438,-0.02916219524343646,-0.09643620348680722,-0.07074908407318577,-0.0047942076600131734,-0.0879360661484864,0.009537023052111886,-0.0958135337647627,0.13474840562062865,-0.02567204884940099,7.400226555260968,-0.07391653025829216,-0.11020301491819534,0.18244048770408425,0.16735993071058644,-0.02254875557241949,-0.08144739583917189,0.03510714639659334,0.23354978217008995,-0.06601215776171271,3.0108337291588723,0.08213976104591131,-0.10462458222147246,-0.07770399568448239,-0.004151282483211019,-0.06122185241059848,-0.026045828279505173,0.023501220178641667,0.13511397936484426,0.4348373790442211,-0.09674617958403324,-0.04023473316129039,-0.08150610447084372,-0.10820718065443086,-0.10707470477497638,1.3364501392373613,1.3270339090813357,-0.08169028630235073,2.4847421235554417,0.22083104515424884,0.9867483062570302,0.4168660277830409,0.8541061541344153,-0.04366753217598638,4.412564001506587,0.20081570586109868,0.017579031858284515,0.07349025977545023,-0.08269402152449569,-0.04727307332587869,-0.09323645476689083,0.05381467724013102,-0.0588251380779508,0.4680746043345816,-0.1093308482943182,-0.013033677574780956,0.4810907464118284,7.1775859845215,0.08078105985803966,0.025504315944884896,-0.032593313353801556,-0.05264900279723851,0.19386352176214072,0.7886965649633423,2.133270810586878,3.3715549920407972,0.1530191107720919,0.7162419518434272,0.058104136134484535,0.050793904068179165,-0.017436044613461345,0.040663885332400895,-0.03911288929554699,1.2340263147368455,0.0277791187522488,-0.10343287108891196,-0.09624770118642159,3.342242886650064,-0.10197792847944154,-0.05740358973667598,7.0836591934886535,0.7363086597356608,0.017850508617645904,0.02906671726085205,0.5647972217959436,-0.03538153596660843,0.04927412948329482,16.26374956387321,8.174180188454631,10.470513137277024,0.16948370446527927,0.09508358493334895,7.187198743982359,5.770177335500954,5.562484354256868,0.045532629680875965,0.8913319577500702,-0.09706962531307774,-0.0559642661603564,-0.06446602165144105,0.16839635296539787,0.25425349475405584,0.06738674860632295,-0.05075070529504132,0.020655975419722913,0.0070504027956673045,0.3188314822688878,-0.03473862027151197,3.6758509629889544,2.6770021251755862,1.0509050681411003,-0.02797555089710249,1.6223209593839962,2.05209525600533,0.020973239203580157,0.33269217697234554,0.12709463848223873,0.13536368085017586,0.2152017910482661,0.06531923657621119,1.404322236420169,0.6930340736794685,0.2831956967374691,0.06789722013385885,-0.07850293369026395,9.26375999988377,1.3921821386947233,0.16072882375041442,0.14937784519348832,0.03242342088782219,4.117330414820805,7.288362658341886,1.5245562497045895,0.999093490115642,27.53511058793533,0.6990799017900567,0.23963335035512115,0.428786254103851,0.27143032411059975,0.45953459775670114,0.04533934894361592,-0.028981176857406213,1.3595556862083216,6.8321499627560875,-0.0948194382688569,-0.0222519450306719,-0.059627497444351425,0.10055226913532014,0.09072334715645854,0.018122960158801084,18.887667368043374,14.74588622146354,0.2694374181793245,0.14209785741782205,0.0665715117469634,-0.045423855006854065,0.1187863398637809,0.3140564939894458,0.569279077147312,0.1100928441994847,0.18161069450656178,-0.1016128088120861,0.032510936381265634,-0.050326717437712665,0.06452636356346868,0.13268336975173645,-0.08784470245413038,0.00980684692235884,-0.0335852235032894,3.298558361086463,0.7715907389816317,0.8030295304887471,0.24873730166951352,0.4153227643693484,1.2348061841687688,-0.043954393744944524,-0.05742403833690018,0.14038219510468822,-0.09800436884746304,0.5758642833152791,0.06879591460328129,-0.07135960025394474,-0.09757905313636057,0.13329382944240253,-0.03830061518226867,-0.03264536297736655,-0.0993035738766849,0.11133125463459266,-0.020247324339484476,-0.039873015475538405,14.01046399513644,1.1077140805685337,0.44468378847079915,0.467760208218678,0.34295397053184723,0.17498290416899975,0.39854481736065084,29.393593883749457,0.06802770858793655,1.6151915859176826,0.013107124066163137,0.22860555529139714,1.1699704715444608,0.6794398875580538,0.03737075269654207,12.250545202890454,0.21261553106300266,0.30611152671811453,-0.06502648426474242,-0.07691179449143408,-0.09648564142723465,0.01729966190264031,-0.049762088911485355,0.16542984347922962,0.1343359002278374,2.595348302884733,-0.050051901797327325],\"type\":\"scatter\"}],                        {\"template\":{\"data\":{\"barpolar\":[{\"marker\":{\"line\":{\"color\":\"white\",\"width\":0.5},\"pattern\":{\"fillmode\":\"overlay\",\"size\":10,\"solidity\":0.2}},\"type\":\"barpolar\"}],\"bar\":[{\"error_x\":{\"color\":\"rgb(36,36,36)\"},\"error_y\":{\"color\":\"rgb(36,36,36)\"},\"marker\":{\"line\":{\"color\":\"white\",\"width\":0.5},\"pattern\":{\"fillmode\":\"overlay\",\"size\":10,\"solidity\":0.2}},\"type\":\"bar\"}],\"carpet\":[{\"aaxis\":{\"endlinecolor\":\"rgb(36,36,36)\",\"gridcolor\":\"white\",\"linecolor\":\"white\",\"minorgridcolor\":\"white\",\"startlinecolor\":\"rgb(36,36,36)\"},\"baxis\":{\"endlinecolor\":\"rgb(36,36,36)\",\"gridcolor\":\"white\",\"linecolor\":\"white\",\"minorgridcolor\":\"white\",\"startlinecolor\":\"rgb(36,36,36)\"},\"type\":\"carpet\"}],\"choropleth\":[{\"colorbar\":{\"outlinewidth\":1,\"tickcolor\":\"rgb(36,36,36)\",\"ticks\":\"outside\"},\"type\":\"choropleth\"}],\"contourcarpet\":[{\"colorbar\":{\"outlinewidth\":1,\"tickcolor\":\"rgb(36,36,36)\",\"ticks\":\"outside\"},\"type\":\"contourcarpet\"}],\"contour\":[{\"colorbar\":{\"outlinewidth\":1,\"tickcolor\":\"rgb(36,36,36)\",\"ticks\":\"outside\"},\"colorscale\":[[0.0,\"#440154\"],[0.1111111111111111,\"#482878\"],[0.2222222222222222,\"#3e4989\"],[0.3333333333333333,\"#31688e\"],[0.4444444444444444,\"#26828e\"],[0.5555555555555556,\"#1f9e89\"],[0.6666666666666666,\"#35b779\"],[0.7777777777777778,\"#6ece58\"],[0.8888888888888888,\"#b5de2b\"],[1.0,\"#fde725\"]],\"type\":\"contour\"}],\"heatmapgl\":[{\"colorbar\":{\"outlinewidth\":1,\"tickcolor\":\"rgb(36,36,36)\",\"ticks\":\"outside\"},\"colorscale\":[[0.0,\"#440154\"],[0.1111111111111111,\"#482878\"],[0.2222222222222222,\"#3e4989\"],[0.3333333333333333,\"#31688e\"],[0.4444444444444444,\"#26828e\"],[0.5555555555555556,\"#1f9e89\"],[0.6666666666666666,\"#35b779\"],[0.7777777777777778,\"#6ece58\"],[0.8888888888888888,\"#b5de2b\"],[1.0,\"#fde725\"]],\"type\":\"heatmapgl\"}],\"heatmap\":[{\"colorbar\":{\"outlinewidth\":1,\"tickcolor\":\"rgb(36,36,36)\",\"ticks\":\"outside\"},\"colorscale\":[[0.0,\"#440154\"],[0.1111111111111111,\"#482878\"],[0.2222222222222222,\"#3e4989\"],[0.3333333333333333,\"#31688e\"],[0.4444444444444444,\"#26828e\"],[0.5555555555555556,\"#1f9e89\"],[0.6666666666666666,\"#35b779\"],[0.7777777777777778,\"#6ece58\"],[0.8888888888888888,\"#b5de2b\"],[1.0,\"#fde725\"]],\"type\":\"heatmap\"}],\"histogram2dcontour\":[{\"colorbar\":{\"outlinewidth\":1,\"tickcolor\":\"rgb(36,36,36)\",\"ticks\":\"outside\"},\"colorscale\":[[0.0,\"#440154\"],[0.1111111111111111,\"#482878\"],[0.2222222222222222,\"#3e4989\"],[0.3333333333333333,\"#31688e\"],[0.4444444444444444,\"#26828e\"],[0.5555555555555556,\"#1f9e89\"],[0.6666666666666666,\"#35b779\"],[0.7777777777777778,\"#6ece58\"],[0.8888888888888888,\"#b5de2b\"],[1.0,\"#fde725\"]],\"type\":\"histogram2dcontour\"}],\"histogram2d\":[{\"colorbar\":{\"outlinewidth\":1,\"tickcolor\":\"rgb(36,36,36)\",\"ticks\":\"outside\"},\"colorscale\":[[0.0,\"#440154\"],[0.1111111111111111,\"#482878\"],[0.2222222222222222,\"#3e4989\"],[0.3333333333333333,\"#31688e\"],[0.4444444444444444,\"#26828e\"],[0.5555555555555556,\"#1f9e89\"],[0.6666666666666666,\"#35b779\"],[0.7777777777777778,\"#6ece58\"],[0.8888888888888888,\"#b5de2b\"],[1.0,\"#fde725\"]],\"type\":\"histogram2d\"}],\"histogram\":[{\"marker\":{\"line\":{\"color\":\"white\",\"width\":0.6}},\"type\":\"histogram\"}],\"mesh3d\":[{\"colorbar\":{\"outlinewidth\":1,\"tickcolor\":\"rgb(36,36,36)\",\"ticks\":\"outside\"},\"type\":\"mesh3d\"}],\"parcoords\":[{\"line\":{\"colorbar\":{\"outlinewidth\":1,\"tickcolor\":\"rgb(36,36,36)\",\"ticks\":\"outside\"}},\"type\":\"parcoords\"}],\"pie\":[{\"automargin\":true,\"type\":\"pie\"}],\"scatter3d\":[{\"line\":{\"colorbar\":{\"outlinewidth\":1,\"tickcolor\":\"rgb(36,36,36)\",\"ticks\":\"outside\"}},\"marker\":{\"colorbar\":{\"outlinewidth\":1,\"tickcolor\":\"rgb(36,36,36)\",\"ticks\":\"outside\"}},\"type\":\"scatter3d\"}],\"scattercarpet\":[{\"marker\":{\"colorbar\":{\"outlinewidth\":1,\"tickcolor\":\"rgb(36,36,36)\",\"ticks\":\"outside\"}},\"type\":\"scattercarpet\"}],\"scattergeo\":[{\"marker\":{\"colorbar\":{\"outlinewidth\":1,\"tickcolor\":\"rgb(36,36,36)\",\"ticks\":\"outside\"}},\"type\":\"scattergeo\"}],\"scattergl\":[{\"marker\":{\"colorbar\":{\"outlinewidth\":1,\"tickcolor\":\"rgb(36,36,36)\",\"ticks\":\"outside\"}},\"type\":\"scattergl\"}],\"scattermapbox\":[{\"marker\":{\"colorbar\":{\"outlinewidth\":1,\"tickcolor\":\"rgb(36,36,36)\",\"ticks\":\"outside\"}},\"type\":\"scattermapbox\"}],\"scatterpolargl\":[{\"marker\":{\"colorbar\":{\"outlinewidth\":1,\"tickcolor\":\"rgb(36,36,36)\",\"ticks\":\"outside\"}},\"type\":\"scatterpolargl\"}],\"scatterpolar\":[{\"marker\":{\"colorbar\":{\"outlinewidth\":1,\"tickcolor\":\"rgb(36,36,36)\",\"ticks\":\"outside\"}},\"type\":\"scatterpolar\"}],\"scatter\":[{\"fillpattern\":{\"fillmode\":\"overlay\",\"size\":10,\"solidity\":0.2},\"type\":\"scatter\"}],\"scatterternary\":[{\"marker\":{\"colorbar\":{\"outlinewidth\":1,\"tickcolor\":\"rgb(36,36,36)\",\"ticks\":\"outside\"}},\"type\":\"scatterternary\"}],\"surface\":[{\"colorbar\":{\"outlinewidth\":1,\"tickcolor\":\"rgb(36,36,36)\",\"ticks\":\"outside\"},\"colorscale\":[[0.0,\"#440154\"],[0.1111111111111111,\"#482878\"],[0.2222222222222222,\"#3e4989\"],[0.3333333333333333,\"#31688e\"],[0.4444444444444444,\"#26828e\"],[0.5555555555555556,\"#1f9e89\"],[0.6666666666666666,\"#35b779\"],[0.7777777777777778,\"#6ece58\"],[0.8888888888888888,\"#b5de2b\"],[1.0,\"#fde725\"]],\"type\":\"surface\"}],\"table\":[{\"cells\":{\"fill\":{\"color\":\"rgb(237,237,237)\"},\"line\":{\"color\":\"white\"}},\"header\":{\"fill\":{\"color\":\"rgb(217,217,217)\"},\"line\":{\"color\":\"white\"}},\"type\":\"table\"}]},\"layout\":{\"annotationdefaults\":{\"arrowhead\":0,\"arrowwidth\":1},\"autotypenumbers\":\"strict\",\"coloraxis\":{\"colorbar\":{\"outlinewidth\":1,\"tickcolor\":\"rgb(36,36,36)\",\"ticks\":\"outside\"}},\"colorscale\":{\"diverging\":[[0.0,\"rgb(103,0,31)\"],[0.1,\"rgb(178,24,43)\"],[0.2,\"rgb(214,96,77)\"],[0.3,\"rgb(244,165,130)\"],[0.4,\"rgb(253,219,199)\"],[0.5,\"rgb(247,247,247)\"],[0.6,\"rgb(209,229,240)\"],[0.7,\"rgb(146,197,222)\"],[0.8,\"rgb(67,147,195)\"],[0.9,\"rgb(33,102,172)\"],[1.0,\"rgb(5,48,97)\"]],\"sequential\":[[0.0,\"#440154\"],[0.1111111111111111,\"#482878\"],[0.2222222222222222,\"#3e4989\"],[0.3333333333333333,\"#31688e\"],[0.4444444444444444,\"#26828e\"],[0.5555555555555556,\"#1f9e89\"],[0.6666666666666666,\"#35b779\"],[0.7777777777777778,\"#6ece58\"],[0.8888888888888888,\"#b5de2b\"],[1.0,\"#fde725\"]],\"sequentialminus\":[[0.0,\"#440154\"],[0.1111111111111111,\"#482878\"],[0.2222222222222222,\"#3e4989\"],[0.3333333333333333,\"#31688e\"],[0.4444444444444444,\"#26828e\"],[0.5555555555555556,\"#1f9e89\"],[0.6666666666666666,\"#35b779\"],[0.7777777777777778,\"#6ece58\"],[0.8888888888888888,\"#b5de2b\"],[1.0,\"#fde725\"]]},\"colorway\":[\"#1F77B4\",\"#FF7F0E\",\"#2CA02C\",\"#D62728\",\"#9467BD\",\"#8C564B\",\"#E377C2\",\"#7F7F7F\",\"#BCBD22\",\"#17BECF\"],\"font\":{\"color\":\"rgb(36,36,36)\"},\"geo\":{\"bgcolor\":\"white\",\"lakecolor\":\"white\",\"landcolor\":\"white\",\"showlakes\":true,\"showland\":true,\"subunitcolor\":\"white\"},\"hoverlabel\":{\"align\":\"left\"},\"hovermode\":\"closest\",\"mapbox\":{\"style\":\"light\"},\"paper_bgcolor\":\"white\",\"plot_bgcolor\":\"white\",\"polar\":{\"angularaxis\":{\"gridcolor\":\"rgb(232,232,232)\",\"linecolor\":\"rgb(36,36,36)\",\"showgrid\":false,\"showline\":true,\"ticks\":\"outside\"},\"bgcolor\":\"white\",\"radialaxis\":{\"gridcolor\":\"rgb(232,232,232)\",\"linecolor\":\"rgb(36,36,36)\",\"showgrid\":false,\"showline\":true,\"ticks\":\"outside\"}},\"scene\":{\"xaxis\":{\"backgroundcolor\":\"white\",\"gridcolor\":\"rgb(232,232,232)\",\"gridwidth\":2,\"linecolor\":\"rgb(36,36,36)\",\"showbackground\":true,\"showgrid\":false,\"showline\":true,\"ticks\":\"outside\",\"zeroline\":false,\"zerolinecolor\":\"rgb(36,36,36)\"},\"yaxis\":{\"backgroundcolor\":\"white\",\"gridcolor\":\"rgb(232,232,232)\",\"gridwidth\":2,\"linecolor\":\"rgb(36,36,36)\",\"showbackground\":true,\"showgrid\":false,\"showline\":true,\"ticks\":\"outside\",\"zeroline\":false,\"zerolinecolor\":\"rgb(36,36,36)\"},\"zaxis\":{\"backgroundcolor\":\"white\",\"gridcolor\":\"rgb(232,232,232)\",\"gridwidth\":2,\"linecolor\":\"rgb(36,36,36)\",\"showbackground\":true,\"showgrid\":false,\"showline\":true,\"ticks\":\"outside\",\"zeroline\":false,\"zerolinecolor\":\"rgb(36,36,36)\"}},\"shapedefaults\":{\"fillcolor\":\"black\",\"line\":{\"width\":0},\"opacity\":0.3},\"ternary\":{\"aaxis\":{\"gridcolor\":\"rgb(232,232,232)\",\"linecolor\":\"rgb(36,36,36)\",\"showgrid\":false,\"showline\":true,\"ticks\":\"outside\"},\"baxis\":{\"gridcolor\":\"rgb(232,232,232)\",\"linecolor\":\"rgb(36,36,36)\",\"showgrid\":false,\"showline\":true,\"ticks\":\"outside\"},\"bgcolor\":\"white\",\"caxis\":{\"gridcolor\":\"rgb(232,232,232)\",\"linecolor\":\"rgb(36,36,36)\",\"showgrid\":false,\"showline\":true,\"ticks\":\"outside\"}},\"title\":{\"x\":0.05},\"xaxis\":{\"automargin\":true,\"gridcolor\":\"rgb(232,232,232)\",\"linecolor\":\"rgb(36,36,36)\",\"showgrid\":false,\"showline\":true,\"ticks\":\"outside\",\"title\":{\"standoff\":15},\"zeroline\":false,\"zerolinecolor\":\"rgb(36,36,36)\"},\"yaxis\":{\"automargin\":true,\"gridcolor\":\"rgb(232,232,232)\",\"linecolor\":\"rgb(36,36,36)\",\"showgrid\":false,\"showline\":true,\"ticks\":\"outside\",\"title\":{\"standoff\":15},\"zeroline\":false,\"zerolinecolor\":\"rgb(36,36,36)\"}}},\"height\":500,\"width\":500,\"yaxis\":{\"title\":{\"text\":\"Max Z Score\"}},\"xaxis\":{\"title\":{\"text\":\"Time (s)\"}},\"title\":{\"text\":\"Increasing Ensemble - Ensemble 28\",\"y\":0.9,\"x\":0.5,\"xanchor\":\"center\",\"yanchor\":\"top\"}},                        {\"responsive\": true}                    ).then(function(){\n",
       "                            \n",
       "var gd = document.getElementById('ac0bb4b3-e839-45c2-86ec-1b0808f9e019');\n",
       "var x = new MutationObserver(function (mutations, observer) {{\n",
       "        var display = window.getComputedStyle(gd).display;\n",
       "        if (!display || display === 'none') {{\n",
       "            console.log([gd, 'removed!']);\n",
       "            Plotly.purge(gd);\n",
       "            observer.disconnect();\n",
       "        }}\n",
       "}});\n",
       "\n",
       "// Listen for the removal of the full notebook cells\n",
       "var notebookContainer = gd.closest('#notebook-container');\n",
       "if (notebookContainer) {{\n",
       "    x.observe(notebookContainer, {childList: true});\n",
       "}}\n",
       "\n",
       "// Listen for the clearing of the current output cell\n",
       "var outputEl = gd.closest('.output');\n",
       "if (outputEl) {{\n",
       "    x.observe(outputEl, {childList: true});\n",
       "}}\n",
       "\n",
       "                        })                };                });            </script>        </div>"
      ]
     },
     "metadata": {},
     "output_type": "display_data"
    }
   ],
   "source": [
    "## Plot peak activation of an increasing ensemble\n",
    "activations = mouse_binned_activations['mc09']['Reversal1']\n",
    "ensemble_number = 28\n",
    "fig = pf.plot_activation_strength(activations, ensemble_number = ensemble_number, figure_path = figure_path, x_bin_size = x_bin_size,\n",
    "                                  title = 'Increasing Ensemble', y_title = 'Max Z Score', x_title = 'Time (s)', \n",
    "                                  file_name = 'max_strength_increasing_{}bins.png'.format(x_bin_size), marker_color = 'turquoise')"
   ]
  },
  {
   "cell_type": "code",
   "execution_count": null,
   "metadata": {},
   "outputs": [],
   "source": [
    "## Plot peak activation of a no-trend ensemble\n",
    "activations = mouse_binned_activations['mc09']['Reversal1']\n",
    "ensemble_number = 7\n",
    "fig = pf.plot_activation_strength(activations, ensemble_number = ensemble_number, figure_path = figure_path, x_bin_size = x_bin_size,\n",
    "                                  title = 'No Trend Ensemble', y_title = 'Max Z Score', x_title = 'Time (s)', \n",
    "                                  file_name = 'max_strength_notrend_{}bins.png'.format(x_bin_size), marker_color = 'darkgrey')"
   ]
  },
  {
   "cell_type": "code",
   "execution_count": null,
   "metadata": {},
   "outputs": [],
   "source": [
    "## Get proportion decreasing values\n",
    "prop_decreasing_T4 = []\n",
    "prop_decreasing_R1 = []\n",
    "for key in mouse_trends:\n",
    "    prop_decreasing_T4.append(mouse_trends[key]['Training4']['prop_decreasing'])\n",
    "    prop_decreasing_R1.append(mouse_trends[key]['Reversal1']['prop_decreasing'])\n",
    "prop_df = pd.DataFrame({'Training4': prop_decreasing_T4, 'Reversal1': prop_decreasing_R1})\n",
    "## Plot prop_df\n",
    "x = ['Training4', 'Reversal1']\n",
    "avgs = [prop_df.Training4.mean(), prop_df.Reversal1.mean()]\n",
    "sem = [prop_df.Training4.sem(), prop_df.Reversal1.sem()]\n",
    "fig = go.Figure(data = go.Bar(x = x, y = avgs, error_y = dict(type = 'data', array = sem), showlegend = False))\n",
    "for row in prop_df.index:\n",
    "    data = prop_df.loc[row]\n",
    "    fig.add_trace(go.Scatter(x = x, y = [data.Training4, data.Reversal1], mode = 'lines + markers', showlegend = False,\n",
    "                             line = dict(width = 1)))\n",
    "fig.update_layout(template = 'simple_white', width = 500, height = 500)\n",
    "fig.update_layout(\n",
    "    title={\n",
    "        'text': 'Fading Ensembles',\n",
    "        'y':0.9,\n",
    "        'x':0.5,\n",
    "        'xanchor': 'center',\n",
    "        'yanchor': 'top'})\n",
    "fig.update_yaxes(title = 'Proportion Fading Ensembles')\n",
    "fig.update_traces(marker_color = 'red', marker_line_color = 'black', marker_line_width = 2)\n",
    "fig.show()\n",
    "fig.write_image('progress_figures/binned_by_15seconds.png')"
   ]
  },
  {
   "cell_type": "code",
   "execution_count": null,
   "metadata": {},
   "outputs": [],
   "source": [
    "## Get proportion fading ensembles for last day, since some mice went back to Training reward port contingencies\n",
    "training_group = []\n",
    "reversal_group = []\n",
    "mice_training = ['mc06', 'mc09', 'mc11']\n",
    "mice_reversal = ['mc03', 'mc07']\n",
    "for mouse in mice_training:\n",
    "    training_group.append(mouse_trends[mouse]['Training_Reversal']['prop_decreasing'])\n",
    "for mouse in mice_reversal:\n",
    "    reversal_group.append(mouse_trends[mouse]['Training_Reversal']['prop_decreasing'])\n",
    "## Add NaN to make mice_reversal same length as mice_training\n",
    "reversal_group.append(np.nan)\n",
    "## Create dataframe\n",
    "df = pd.DataFrame({'Training_Contingency': training_group, 'Reversal_Contingency': reversal_group})\n",
    "avgs = [df.Training_Contingency.mean(), df.Reversal_Contingency.mean()]\n",
    "sem = [df.Training_Contingency.sem(), df.Reversal_Contingency.sem()]\n",
    "## Plot figure\n",
    "x = ['Training Contingency', 'Reversal Contingency']\n",
    "fig = go.Figure(data = go.Bar(x = x, y = avgs, error_y = dict(type = 'data', array = sem)))\n",
    "fig.update_layout(template = 'simple_white', width = 500, height = 500)\n",
    "fig.update_layout(\n",
    "    title={\n",
    "        'text': 'Fading Ensembles',\n",
    "        'y':0.9,\n",
    "        'x':0.5,\n",
    "        'xanchor': 'center',\n",
    "        'yanchor': 'top'})\n",
    "fig.update_yaxes(title = 'Proportion Fading Ensembles')\n",
    "fig.update_traces(marker_color = 'red', marker_line_color = 'black', marker_line_width = 2)\n",
    "fig.show()\n",
    "fig.write_image('progress_figures/training_contingency_15seconds.png')"
   ]
  },
  {
   "cell_type": "code",
   "execution_count": null,
   "metadata": {},
   "outputs": [],
   "source": [
    "## Look at average number of fading ensembles across all training sessions and across all reversal sessions\n",
    "trainings = ['Training1', 'Training2', 'Training3', 'Training4']\n",
    "reversals = ['Reversal1', 'Reversal2', 'Reversal3', 'Reversal4']\n",
    "prop_dec_training = []\n",
    "prop_dec_reversal = []\n",
    "mouse_list = []\n",
    "for mouse in mouse_trends:\n",
    "    for session in trainings:\n",
    "        prop_dec_training.append(mouse_trends[mouse][session]['prop_decreasing'])\n",
    "        mouse_list.append(mouse)\n",
    "    ## Because mc03 doesn't have Reversal2 or Reversal3 due to miniscope issues, add only Reversal1 and Reversal4 manually\n",
    "    if mouse == 'mc03':\n",
    "            prop_dec_reversal.append(mouse_trends[mouse][reversals[0]]['prop_decreasing'])\n",
    "            prop_dec_reversal.append(mouse_trends[mouse][reversals[3]]['prop_decreasing'])\n",
    "            ## Add NaN to prop_dec_reversal to make it same length as prop_dec_training\n",
    "            prop_dec_reversal.append(np.nan)\n",
    "            prop_dec_reversal.append(np.nan)\n",
    "    else:\n",
    "        for reverse in reversals:\n",
    "            prop_dec_reversal.append(mouse_trends[mouse][reverse]['prop_decreasing'])\n",
    "## Create dataframe\n",
    "df = pd.DataFrame({'Mouse': mouse_list, 'Trainings': prop_dec_training, 'Reversals': prop_dec_reversal})\n",
    "## melt df for plotting\n",
    "df_melt = pd.melt(df, id_vars = ['Mouse'], value_vars = ['Trainings', 'Reversals'], var_name = 'session')\n",
    "## Averages by mouse\n",
    "avgs = df.groupby(['Mouse'], as_index = False).mean(numeric_only = True)\n",
    "sem = df.groupby(['Mouse'], as_index = False).sem()\n",
    "## Plot groups\n",
    "pf.plot_across_groups(df_melt, groupby = 'Mouse', separateby = 'session', plot_var = 'value', colors = 'red', title = 'Fading Ensembles Across Each Epoch', y_title = 'Proportion Fading Ensembles',\n",
    "                      save_path = '/media/caishuman/csstorage3/Austin/CircleTrack/EnsembleRemodeling_Resubmission/CircleTrack_Data/python_analysis/progress_figures/fading_across_all_15seconds.png')"
   ]
  },
  {
   "cell_type": "code",
   "execution_count": null,
   "metadata": {},
   "outputs": [],
   "source": [
    "## Plot three ensembles with their members colored \n",
    "fig = pf.stem_plot(assemblies['patterns'][1], member_color = 'turquoise', size = 3)\n",
    "fig1 = pf.stem_plot(assemblies['patterns'][4], member_color = 'turquoise', size = 3)\n",
    "fig2 = pf.stem_plot(assemblies['patterns'][7], member_color = 'turquoise', size = 3)\n",
    "fig.update_layout(height = 300, width = 500)\n",
    "fig1.update_layout(height = 300, width = 500)\n",
    "fig2.update_layout(height = 300, width = 500)\n",
    "fig.update_layout(\n",
    "    title={\n",
    "        'text': 'Ensemble Membership',\n",
    "        'y':0.9,\n",
    "        'x':0.5,\n",
    "        'xanchor': 'center',\n",
    "        'yanchor': 'top'})\n",
    "fig.update_yaxes(range = [-0.55, 0.55], tickvals=[0.4, 0.2, 0, -0.2, -0.4])\n",
    "fig1.update_yaxes(range = [-0.55, 0.55], tickvals=[0.4, 0.2, 0, -0.2, -0.4])\n",
    "fig2.update_yaxes(range = [-0.55, 0.55], tickvals=[0.4, 0.2, 0, -0.2, -0.4])\n",
    "fig.show()\n",
    "fig.write_image('progress_figures/ensemble_membership_top.png')\n",
    "fig1.show()\n",
    "fig1.write_image('progress_figures/ensemble_membership_one.png')\n",
    "fig2.show()\n",
    "fig2.write_image('progress_figures/ensemble_membership_two.png')"
   ]
  },
  {
   "cell_type": "code",
   "execution_count": null,
   "metadata": {},
   "outputs": [],
   "source": [
    "## Plot fading ensembles across all sessions\n",
    "## Create empty dictionary\n",
    "trends_dict = {}\n",
    "## Loop through mouse_trends and extract the proportion of fading ensembles for each session (Training1, Training2, etc)\n",
    "for key in mouse_trends:\n",
    "    fading_ensembles = []\n",
    "    for session in mouse_trends[key]:\n",
    "        fading_ensembles.append(mouse_trends[key][session]['prop_decreasing'])\n",
    "    trends_dict[key] = fading_ensembles\n",
    "## Add in NaN values for days that are missing for mc03\n",
    "trends_dict['mc03'][5] = np.nan\n",
    "trends_dict['mc03'][6] = np.nan\n",
    "trends_dict['mc03'].append(0.0) ## value for proportion of fading ensembles on Reversal4\n",
    "trends_dict['mc03'].append(0.029411764705882353) ## value for proportion of fading ensembles on Training_Reversal\n",
    "## Plot values for each mouse\n",
    "fig = go.Figure()\n",
    "x_axis = session_list\n",
    "for key in trends_dict:\n",
    "    fig.add_trace(go.Scatter(x = x_axis, y = trends_dict[key], name = key))\n",
    "fig.update_layout(template = 'simple_white', height = 500, width = 500)\n",
    "fig.update_layout(\n",
    "    title={\n",
    "        'text': 'Fading Ensemble Proportion Across Sessions',\n",
    "        'y':0.9,\n",
    "        'x':0.5,\n",
    "        'xanchor': 'center',\n",
    "        'yanchor': 'top'})\n",
    "fig.update_yaxes(title = 'Proportion Fading Ensembles')\n",
    "fig.show()\n",
    "fig.write_image('progress_figures/fading_all_sessions_15seconds.png')"
   ]
  },
  {
   "attachments": {},
   "cell_type": "markdown",
   "metadata": {},
   "source": [
    "The below code is to subset the neural data across FORWARD TRIALS and detect fading ensembles using trials to bin."
   ]
  },
  {
   "cell_type": "code",
   "execution_count": 11,
   "metadata": {},
   "outputs": [
    {
     "name": "stderr",
     "output_type": "stream",
     "text": [
      "  0%|          | 0/4 [00:00<?, ?it/s]/media/caishuman/csstorage3/Austin/CircleTrack/CircleTrackAnalysis/EnsembleRemodeling_Resubmission/../circletrack_behavior.py:149: SettingWithCopyWarning:\n",
      "\n",
      "\n",
      "A value is trying to be set on a copy of a slice from a DataFrame.\n",
      "Try using .loc[row_indexer,col_indexer] = value instead\n",
      "\n",
      "See the caveats in the documentation: https://pandas.pydata.org/pandas-docs/stable/user_guide/indexing.html#returning-a-view-versus-a-copy\n",
      "\n",
      "/media/caishuman/csstorage3/Austin/CircleTrack/CircleTrackAnalysis/EnsembleRemodeling_Resubmission/../circletrack_behavior.py:149: SettingWithCopyWarning:\n",
      "\n",
      "\n",
      "A value is trying to be set on a copy of a slice from a DataFrame.\n",
      "Try using .loc[row_indexer,col_indexer] = value instead\n",
      "\n",
      "See the caveats in the documentation: https://pandas.pydata.org/pandas-docs/stable/user_guide/indexing.html#returning-a-view-versus-a-copy\n",
      "\n",
      "/media/caishuman/csstorage3/Austin/CircleTrack/CircleTrackAnalysis/EnsembleRemodeling_Resubmission/../circletrack_behavior.py:149: SettingWithCopyWarning:\n",
      "\n",
      "\n",
      "A value is trying to be set on a copy of a slice from a DataFrame.\n",
      "Try using .loc[row_indexer,col_indexer] = value instead\n",
      "\n",
      "See the caveats in the documentation: https://pandas.pydata.org/pandas-docs/stable/user_guide/indexing.html#returning-a-view-versus-a-copy\n",
      "\n",
      "/media/caishuman/csstorage3/Austin/CircleTrack/CircleTrackAnalysis/EnsembleRemodeling_Resubmission/../circletrack_behavior.py:149: SettingWithCopyWarning:\n",
      "\n",
      "\n",
      "A value is trying to be set on a copy of a slice from a DataFrame.\n",
      "Try using .loc[row_indexer,col_indexer] = value instead\n",
      "\n",
      "See the caveats in the documentation: https://pandas.pydata.org/pandas-docs/stable/user_guide/indexing.html#returning-a-view-versus-a-copy\n",
      "\n",
      "/media/caishuman/csstorage3/Austin/CircleTrack/CircleTrackAnalysis/EnsembleRemodeling_Resubmission/../circletrack_behavior.py:149: SettingWithCopyWarning:\n",
      "\n",
      "\n",
      "A value is trying to be set on a copy of a slice from a DataFrame.\n",
      "Try using .loc[row_indexer,col_indexer] = value instead\n",
      "\n",
      "See the caveats in the documentation: https://pandas.pydata.org/pandas-docs/stable/user_guide/indexing.html#returning-a-view-versus-a-copy\n",
      "\n",
      "/media/caishuman/csstorage3/Austin/CircleTrack/CircleTrackAnalysis/EnsembleRemodeling_Resubmission/../circletrack_behavior.py:149: SettingWithCopyWarning:\n",
      "\n",
      "\n",
      "A value is trying to be set on a copy of a slice from a DataFrame.\n",
      "Try using .loc[row_indexer,col_indexer] = value instead\n",
      "\n",
      "See the caveats in the documentation: https://pandas.pydata.org/pandas-docs/stable/user_guide/indexing.html#returning-a-view-versus-a-copy\n",
      "\n",
      "/media/caishuman/csstorage3/Austin/CircleTrack/CircleTrackAnalysis/EnsembleRemodeling_Resubmission/../circletrack_behavior.py:149: SettingWithCopyWarning:\n",
      "\n",
      "\n",
      "A value is trying to be set on a copy of a slice from a DataFrame.\n",
      "Try using .loc[row_indexer,col_indexer] = value instead\n",
      "\n",
      "See the caveats in the documentation: https://pandas.pydata.org/pandas-docs/stable/user_guide/indexing.html#returning-a-view-versus-a-copy\n",
      "\n",
      "/media/caishuman/csstorage3/Austin/CircleTrack/CircleTrackAnalysis/EnsembleRemodeling_Resubmission/../circletrack_behavior.py:149: SettingWithCopyWarning:\n",
      "\n",
      "\n",
      "A value is trying to be set on a copy of a slice from a DataFrame.\n",
      "Try using .loc[row_indexer,col_indexer] = value instead\n",
      "\n",
      "See the caveats in the documentation: https://pandas.pydata.org/pandas-docs/stable/user_guide/indexing.html#returning-a-view-versus-a-copy\n",
      "\n",
      "/home/austinbaggetta/.conda/envs/calcium/lib/python3.10/site-packages/statsmodels/stats/multitest.py:155: RuntimeWarning:\n",
      "\n",
      "divide by zero encountered in log1p\n",
      "\n",
      " 25%|██▌       | 1/4 [00:58<02:56, 58.95s/it]/media/caishuman/csstorage3/Austin/CircleTrack/CircleTrackAnalysis/EnsembleRemodeling_Resubmission/../circletrack_behavior.py:149: SettingWithCopyWarning:\n",
      "\n",
      "\n",
      "A value is trying to be set on a copy of a slice from a DataFrame.\n",
      "Try using .loc[row_indexer,col_indexer] = value instead\n",
      "\n",
      "See the caveats in the documentation: https://pandas.pydata.org/pandas-docs/stable/user_guide/indexing.html#returning-a-view-versus-a-copy\n",
      "\n",
      "/media/caishuman/csstorage3/Austin/CircleTrack/CircleTrackAnalysis/EnsembleRemodeling_Resubmission/../circletrack_behavior.py:149: SettingWithCopyWarning:\n",
      "\n",
      "\n",
      "A value is trying to be set on a copy of a slice from a DataFrame.\n",
      "Try using .loc[row_indexer,col_indexer] = value instead\n",
      "\n",
      "See the caveats in the documentation: https://pandas.pydata.org/pandas-docs/stable/user_guide/indexing.html#returning-a-view-versus-a-copy\n",
      "\n",
      "/media/caishuman/csstorage3/Austin/CircleTrack/CircleTrackAnalysis/EnsembleRemodeling_Resubmission/../circletrack_behavior.py:149: SettingWithCopyWarning:\n",
      "\n",
      "\n",
      "A value is trying to be set on a copy of a slice from a DataFrame.\n",
      "Try using .loc[row_indexer,col_indexer] = value instead\n",
      "\n",
      "See the caveats in the documentation: https://pandas.pydata.org/pandas-docs/stable/user_guide/indexing.html#returning-a-view-versus-a-copy\n",
      "\n",
      "/media/caishuman/csstorage3/Austin/CircleTrack/CircleTrackAnalysis/EnsembleRemodeling_Resubmission/../circletrack_behavior.py:149: SettingWithCopyWarning:\n",
      "\n",
      "\n",
      "A value is trying to be set on a copy of a slice from a DataFrame.\n",
      "Try using .loc[row_indexer,col_indexer] = value instead\n",
      "\n",
      "See the caveats in the documentation: https://pandas.pydata.org/pandas-docs/stable/user_guide/indexing.html#returning-a-view-versus-a-copy\n",
      "\n",
      "/media/caishuman/csstorage3/Austin/CircleTrack/CircleTrackAnalysis/EnsembleRemodeling_Resubmission/../circletrack_behavior.py:149: SettingWithCopyWarning:\n",
      "\n",
      "\n",
      "A value is trying to be set on a copy of a slice from a DataFrame.\n",
      "Try using .loc[row_indexer,col_indexer] = value instead\n",
      "\n",
      "See the caveats in the documentation: https://pandas.pydata.org/pandas-docs/stable/user_guide/indexing.html#returning-a-view-versus-a-copy\n",
      "\n",
      "/media/caishuman/csstorage3/Austin/CircleTrack/CircleTrackAnalysis/EnsembleRemodeling_Resubmission/../circletrack_behavior.py:149: SettingWithCopyWarning:\n",
      "\n",
      "\n",
      "A value is trying to be set on a copy of a slice from a DataFrame.\n",
      "Try using .loc[row_indexer,col_indexer] = value instead\n",
      "\n",
      "See the caveats in the documentation: https://pandas.pydata.org/pandas-docs/stable/user_guide/indexing.html#returning-a-view-versus-a-copy\n",
      "\n",
      "/media/caishuman/csstorage3/Austin/CircleTrack/CircleTrackAnalysis/EnsembleRemodeling_Resubmission/../circletrack_behavior.py:149: SettingWithCopyWarning:\n",
      "\n",
      "\n",
      "A value is trying to be set on a copy of a slice from a DataFrame.\n",
      "Try using .loc[row_indexer,col_indexer] = value instead\n",
      "\n",
      "See the caveats in the documentation: https://pandas.pydata.org/pandas-docs/stable/user_guide/indexing.html#returning-a-view-versus-a-copy\n",
      "\n",
      "/media/caishuman/csstorage3/Austin/CircleTrack/CircleTrackAnalysis/EnsembleRemodeling_Resubmission/../circletrack_behavior.py:149: SettingWithCopyWarning:\n",
      "\n",
      "\n",
      "A value is trying to be set on a copy of a slice from a DataFrame.\n",
      "Try using .loc[row_indexer,col_indexer] = value instead\n",
      "\n",
      "See the caveats in the documentation: https://pandas.pydata.org/pandas-docs/stable/user_guide/indexing.html#returning-a-view-versus-a-copy\n",
      "\n",
      "/media/caishuman/csstorage3/Austin/CircleTrack/CircleTrackAnalysis/EnsembleRemodeling_Resubmission/../circletrack_behavior.py:149: SettingWithCopyWarning:\n",
      "\n",
      "\n",
      "A value is trying to be set on a copy of a slice from a DataFrame.\n",
      "Try using .loc[row_indexer,col_indexer] = value instead\n",
      "\n",
      "See the caveats in the documentation: https://pandas.pydata.org/pandas-docs/stable/user_guide/indexing.html#returning-a-view-versus-a-copy\n",
      "\n",
      "/home/austinbaggetta/.conda/envs/calcium/lib/python3.10/site-packages/statsmodels/stats/multitest.py:155: RuntimeWarning:\n",
      "\n",
      "divide by zero encountered in log1p\n",
      "\n",
      " 50%|█████     | 2/4 [02:07<02:09, 64.75s/it]/media/caishuman/csstorage3/Austin/CircleTrack/CircleTrackAnalysis/EnsembleRemodeling_Resubmission/../circletrack_behavior.py:149: SettingWithCopyWarning:\n",
      "\n",
      "\n",
      "A value is trying to be set on a copy of a slice from a DataFrame.\n",
      "Try using .loc[row_indexer,col_indexer] = value instead\n",
      "\n",
      "See the caveats in the documentation: https://pandas.pydata.org/pandas-docs/stable/user_guide/indexing.html#returning-a-view-versus-a-copy\n",
      "\n",
      "/media/caishuman/csstorage3/Austin/CircleTrack/CircleTrackAnalysis/EnsembleRemodeling_Resubmission/../circletrack_behavior.py:149: SettingWithCopyWarning:\n",
      "\n",
      "\n",
      "A value is trying to be set on a copy of a slice from a DataFrame.\n",
      "Try using .loc[row_indexer,col_indexer] = value instead\n",
      "\n",
      "See the caveats in the documentation: https://pandas.pydata.org/pandas-docs/stable/user_guide/indexing.html#returning-a-view-versus-a-copy\n",
      "\n",
      "/media/caishuman/csstorage3/Austin/CircleTrack/CircleTrackAnalysis/EnsembleRemodeling_Resubmission/../circletrack_behavior.py:149: SettingWithCopyWarning:\n",
      "\n",
      "\n",
      "A value is trying to be set on a copy of a slice from a DataFrame.\n",
      "Try using .loc[row_indexer,col_indexer] = value instead\n",
      "\n",
      "See the caveats in the documentation: https://pandas.pydata.org/pandas-docs/stable/user_guide/indexing.html#returning-a-view-versus-a-copy\n",
      "\n",
      "/media/caishuman/csstorage3/Austin/CircleTrack/CircleTrackAnalysis/EnsembleRemodeling_Resubmission/../circletrack_behavior.py:149: SettingWithCopyWarning:\n",
      "\n",
      "\n",
      "A value is trying to be set on a copy of a slice from a DataFrame.\n",
      "Try using .loc[row_indexer,col_indexer] = value instead\n",
      "\n",
      "See the caveats in the documentation: https://pandas.pydata.org/pandas-docs/stable/user_guide/indexing.html#returning-a-view-versus-a-copy\n",
      "\n",
      "/media/caishuman/csstorage3/Austin/CircleTrack/CircleTrackAnalysis/EnsembleRemodeling_Resubmission/../circletrack_behavior.py:149: SettingWithCopyWarning:\n",
      "\n",
      "\n",
      "A value is trying to be set on a copy of a slice from a DataFrame.\n",
      "Try using .loc[row_indexer,col_indexer] = value instead\n",
      "\n",
      "See the caveats in the documentation: https://pandas.pydata.org/pandas-docs/stable/user_guide/indexing.html#returning-a-view-versus-a-copy\n",
      "\n",
      "/media/caishuman/csstorage3/Austin/CircleTrack/CircleTrackAnalysis/EnsembleRemodeling_Resubmission/../circletrack_behavior.py:149: SettingWithCopyWarning:\n",
      "\n",
      "\n",
      "A value is trying to be set on a copy of a slice from a DataFrame.\n",
      "Try using .loc[row_indexer,col_indexer] = value instead\n",
      "\n",
      "See the caveats in the documentation: https://pandas.pydata.org/pandas-docs/stable/user_guide/indexing.html#returning-a-view-versus-a-copy\n",
      "\n",
      "/media/caishuman/csstorage3/Austin/CircleTrack/CircleTrackAnalysis/EnsembleRemodeling_Resubmission/../circletrack_behavior.py:149: SettingWithCopyWarning:\n",
      "\n",
      "\n",
      "A value is trying to be set on a copy of a slice from a DataFrame.\n",
      "Try using .loc[row_indexer,col_indexer] = value instead\n",
      "\n",
      "See the caveats in the documentation: https://pandas.pydata.org/pandas-docs/stable/user_guide/indexing.html#returning-a-view-versus-a-copy\n",
      "\n",
      "/media/caishuman/csstorage3/Austin/CircleTrack/CircleTrackAnalysis/EnsembleRemodeling_Resubmission/../circletrack_behavior.py:149: SettingWithCopyWarning:\n",
      "\n",
      "\n",
      "A value is trying to be set on a copy of a slice from a DataFrame.\n",
      "Try using .loc[row_indexer,col_indexer] = value instead\n",
      "\n",
      "See the caveats in the documentation: https://pandas.pydata.org/pandas-docs/stable/user_guide/indexing.html#returning-a-view-versus-a-copy\n",
      "\n",
      "/media/caishuman/csstorage3/Austin/CircleTrack/CircleTrackAnalysis/EnsembleRemodeling_Resubmission/../circletrack_behavior.py:149: SettingWithCopyWarning:\n",
      "\n",
      "\n",
      "A value is trying to be set on a copy of a slice from a DataFrame.\n",
      "Try using .loc[row_indexer,col_indexer] = value instead\n",
      "\n",
      "See the caveats in the documentation: https://pandas.pydata.org/pandas-docs/stable/user_guide/indexing.html#returning-a-view-versus-a-copy\n",
      "\n",
      "/home/austinbaggetta/.conda/envs/calcium/lib/python3.10/site-packages/statsmodels/stats/multitest.py:155: RuntimeWarning:\n",
      "\n",
      "divide by zero encountered in log1p\n",
      "\n",
      " 75%|███████▌  | 3/4 [03:17<01:06, 66.82s/it]/media/caishuman/csstorage3/Austin/CircleTrack/CircleTrackAnalysis/EnsembleRemodeling_Resubmission/../circletrack_behavior.py:149: SettingWithCopyWarning:\n",
      "\n",
      "\n",
      "A value is trying to be set on a copy of a slice from a DataFrame.\n",
      "Try using .loc[row_indexer,col_indexer] = value instead\n",
      "\n",
      "See the caveats in the documentation: https://pandas.pydata.org/pandas-docs/stable/user_guide/indexing.html#returning-a-view-versus-a-copy\n",
      "\n",
      "/media/caishuman/csstorage3/Austin/CircleTrack/CircleTrackAnalysis/EnsembleRemodeling_Resubmission/../circletrack_behavior.py:149: SettingWithCopyWarning:\n",
      "\n",
      "\n",
      "A value is trying to be set on a copy of a slice from a DataFrame.\n",
      "Try using .loc[row_indexer,col_indexer] = value instead\n",
      "\n",
      "See the caveats in the documentation: https://pandas.pydata.org/pandas-docs/stable/user_guide/indexing.html#returning-a-view-versus-a-copy\n",
      "\n",
      "/media/caishuman/csstorage3/Austin/CircleTrack/CircleTrackAnalysis/EnsembleRemodeling_Resubmission/../circletrack_behavior.py:149: SettingWithCopyWarning:\n",
      "\n",
      "\n",
      "A value is trying to be set on a copy of a slice from a DataFrame.\n",
      "Try using .loc[row_indexer,col_indexer] = value instead\n",
      "\n",
      "See the caveats in the documentation: https://pandas.pydata.org/pandas-docs/stable/user_guide/indexing.html#returning-a-view-versus-a-copy\n",
      "\n",
      "/media/caishuman/csstorage3/Austin/CircleTrack/CircleTrackAnalysis/EnsembleRemodeling_Resubmission/../circletrack_behavior.py:149: SettingWithCopyWarning:\n",
      "\n",
      "\n",
      "A value is trying to be set on a copy of a slice from a DataFrame.\n",
      "Try using .loc[row_indexer,col_indexer] = value instead\n",
      "\n",
      "See the caveats in the documentation: https://pandas.pydata.org/pandas-docs/stable/user_guide/indexing.html#returning-a-view-versus-a-copy\n",
      "\n",
      "/media/caishuman/csstorage3/Austin/CircleTrack/CircleTrackAnalysis/EnsembleRemodeling_Resubmission/../circletrack_behavior.py:149: SettingWithCopyWarning:\n",
      "\n",
      "\n",
      "A value is trying to be set on a copy of a slice from a DataFrame.\n",
      "Try using .loc[row_indexer,col_indexer] = value instead\n",
      "\n",
      "See the caveats in the documentation: https://pandas.pydata.org/pandas-docs/stable/user_guide/indexing.html#returning-a-view-versus-a-copy\n",
      "\n",
      "/media/caishuman/csstorage3/Austin/CircleTrack/CircleTrackAnalysis/EnsembleRemodeling_Resubmission/../circletrack_behavior.py:149: SettingWithCopyWarning:\n",
      "\n",
      "\n",
      "A value is trying to be set on a copy of a slice from a DataFrame.\n",
      "Try using .loc[row_indexer,col_indexer] = value instead\n",
      "\n",
      "See the caveats in the documentation: https://pandas.pydata.org/pandas-docs/stable/user_guide/indexing.html#returning-a-view-versus-a-copy\n",
      "\n",
      "/media/caishuman/csstorage3/Austin/CircleTrack/CircleTrackAnalysis/EnsembleRemodeling_Resubmission/../circletrack_behavior.py:149: SettingWithCopyWarning:\n",
      "\n",
      "\n",
      "A value is trying to be set on a copy of a slice from a DataFrame.\n",
      "Try using .loc[row_indexer,col_indexer] = value instead\n",
      "\n",
      "See the caveats in the documentation: https://pandas.pydata.org/pandas-docs/stable/user_guide/indexing.html#returning-a-view-versus-a-copy\n",
      "\n",
      "/media/caishuman/csstorage3/Austin/CircleTrack/CircleTrackAnalysis/EnsembleRemodeling_Resubmission/../circletrack_behavior.py:149: SettingWithCopyWarning:\n",
      "\n",
      "\n",
      "A value is trying to be set on a copy of a slice from a DataFrame.\n",
      "Try using .loc[row_indexer,col_indexer] = value instead\n",
      "\n",
      "See the caveats in the documentation: https://pandas.pydata.org/pandas-docs/stable/user_guide/indexing.html#returning-a-view-versus-a-copy\n",
      "\n",
      "/media/caishuman/csstorage3/Austin/CircleTrack/CircleTrackAnalysis/EnsembleRemodeling_Resubmission/../circletrack_behavior.py:149: SettingWithCopyWarning:\n",
      "\n",
      "\n",
      "A value is trying to be set on a copy of a slice from a DataFrame.\n",
      "Try using .loc[row_indexer,col_indexer] = value instead\n",
      "\n",
      "See the caveats in the documentation: https://pandas.pydata.org/pandas-docs/stable/user_guide/indexing.html#returning-a-view-versus-a-copy\n",
      "\n",
      "100%|██████████| 4/4 [04:24<00:00, 66.00s/it]\n"
     ]
    }
   ],
   "source": [
    "## Set mouse list, path, and z_thresh for binarization\n",
    "mouse_list = ['mc03', 'mc06', 'mc07', 'mc09'] ## excluded mc11 from the analysis because three sessions had to be stitched together\n",
    "across_time = False\n",
    "## Create empty dictionaries\n",
    "mouse_trends = {}\n",
    "mouse_binned_activations = {}\n",
    "mouse_slopes = {}\n",
    "mouse_taus = {}\n",
    "mouse_ensembles = {}\n",
    "## Loop through each mouse\n",
    "for mouse in tqdm(mouse_list):\n",
    "    ## saved ensemble data path\n",
    "    spath = pjoin(ensemble_path, mouse)\n",
    "    ## load in behavior data across all sessions\n",
    "    if not across_time:\n",
    "        mouse_behavior = ctb.import_mouse_behavior_data(behavior_path, mouse, key_file = 'behavior_keys.yml', session = '30min')\n",
    "    ## Create empty dictionaries to store output\n",
    "    determined_trends = {}\n",
    "    binned_activations_dict = {}\n",
    "    slopes_dict = {}\n",
    "    tau_dict = {}\n",
    "    ## Load assemblies\n",
    "    for session in session_dict[mouse]:\n",
    "        ## Load specific session's assemblies\n",
    "        assemblies = ica.load_session_assemblies(mouse, spath = spath, session_id = session)\n",
    "        act = assemblies['activations'].values\n",
    "        ## Load a specific session's behavior data\n",
    "        if not across_time:\n",
    "            aligned_behavior = mouse_behavior[session]\n",
    "            ## Ensure that activations and aligned behavior are the same length\n",
    "            aligned_behavior = ica.align_activations_to_behavior(act, aligned_behavior)\n",
    "            ## Get which timestamps are part of which trial for the aligned behavior data\n",
    "            trials = ctb.get_trials(aligned_behavior, shift_factor = 0, angle_type = 'radians', counterclockwise = True)\n",
    "        if across_time:\n",
    "          trends, binned_activations, slopes, tau = ica.define_ensemble_trends_across_time(act, z_threshold = None, x_bin_size = x_bin_size, analysis_type = 'max', zscored = True, alpha = 'sidak')  \n",
    "        else:\n",
    "            ## Define ensemble trends across trials to determine if activation strength is increasing/decreasing across the session\n",
    "            trends, binned_activations, slopes, tau = ica.define_ensemble_trends_across_trials(act, aligned_behavior, trials, trial_type = 'forward', z_threshold = None)\n",
    "        ## Save to dictionaries\n",
    "        determined_trends[session] = trends\n",
    "        binned_activations_dict[session] = binned_activations\n",
    "        slopes_dict[session] = slopes\n",
    "        tau_dict[session] = tau\n",
    "    ## Determine the proportion of ensembles that are increasing, decreasing, or have no trend based on their activation strength across time\n",
    "    proportion_dict = ica.calculate_proportions_ensembles(determined_trends)\n",
    "    ## Save to mouse dictionaries before looping to the next mouse\n",
    "    mouse_trends[mouse] = proportion_dict\n",
    "    mouse_binned_activations[mouse] = binned_activations_dict\n",
    "    mouse_slopes[mouse] = slopes_dict\n",
    "    mouse_taus[mouse] = tau_dict\n",
    "    mouse_ensembles[mouse] = determined_trends"
   ]
  },
  {
   "cell_type": "code",
   "execution_count": null,
   "metadata": {},
   "outputs": [],
   "source": [
    "## Plot peak activation of a fading ensemble\n",
    "activations = mouse_binned_activations['mc09']['Reversal1']\n",
    "ensemble_number = 5\n",
    "fig = pf.plot_activation_strength(activations, ensemble_number = ensemble_number, figure_path = figure_path, x_bin_size = None,\n",
    "                                  title = 'Fading Ensemble', y_title = 'Max Z Score', x_title = 'Trials', \n",
    "                                  file_name = 'max_strength_fading_forward_trials.png'.format(x_bin_size), marker_color = 'red')"
   ]
  },
  {
   "cell_type": "code",
   "execution_count": null,
   "metadata": {},
   "outputs": [],
   "source": [
    "## Plot peak activation of an increasing ensemble\n",
    "activations = mouse_binned_activations['mc09']['Reversal1']\n",
    "ensemble_number = 57\n",
    "fig = pf.plot_activation_strength(activations, ensemble_number = ensemble_number, figure_path = figure_path, x_bin_size = None,\n",
    "                                  title = 'Increasing Ensemble', y_title = 'Max Z Score', x_title = 'Trials', \n",
    "                                  file_name = 'max_strength_increasing_forward_trials.png'.format(x_bin_size), marker_color = 'turquoise')"
   ]
  },
  {
   "cell_type": "code",
   "execution_count": 12,
   "metadata": {},
   "outputs": [
    {
     "data": {
      "application/vnd.plotly.v1+json": {
       "config": {
        "plotlyServerURL": "https://plot.ly"
       },
       "data": [
        {
         "marker": {
          "color": "darkgrey"
         },
         "mode": "markers",
         "opacity": 0.7,
         "type": "scatter",
         "x": [
          0,
          1,
          2,
          3,
          4,
          5,
          6,
          7,
          8,
          9,
          10,
          11,
          12,
          13,
          14,
          15,
          16,
          17,
          18,
          19,
          20,
          21,
          22,
          23,
          24,
          25,
          26,
          27,
          28,
          29,
          30,
          31,
          32,
          33,
          34,
          35,
          36,
          37,
          38,
          39,
          40,
          41,
          42,
          43,
          44,
          45,
          46,
          47,
          48,
          49,
          50,
          51,
          52,
          53,
          54,
          55,
          56,
          57,
          58,
          59,
          60,
          61,
          62,
          63,
          64
         ],
         "y": [
          0.45256543542236033,
          4.6865565518811945,
          0.3074848101636306,
          -0.0351320042964699,
          0.035438690595547946,
          0.230066681851502,
          0.09664992246542341,
          6.678958590706548,
          0.12381038164692439,
          0.22498203438989708,
          1.7426376529937895,
          -0.06177794582224463,
          -0.04834372608228715,
          -0.035619682477457844,
          10.267894853502657,
          1.2361140449851231,
          11.0490170649374,
          16.304780105757708,
          2.357934733679828,
          -0.0670653482063048,
          7.150166127247087,
          0.12071275982992617,
          0.5805007783377002,
          0.03478025564761934,
          -0.0891313529410409,
          0.0037934019215979716,
          0.479079621833367,
          -0.07438107149533614,
          -0.059067141666725984,
          -0.032403298690128236,
          0.12510711607322367,
          -0.051456916386224,
          4.175948371866859,
          1.0000259502288549,
          0.05718450955589937,
          -0.0047942076600131734,
          0.009537023052111886,
          0.13474840562062865,
          7.400226555260968,
          0.18244048770408425,
          0.16735993071058644,
          0.03510714639659334,
          0.23354978217008995,
          3.0108337291588723,
          -0.07770399568448239,
          0.023501220178641667,
          0.4348373790442211,
          -0.04023473316129039,
          -0.1000707171701035,
          0.8541061541344153,
          4.412564001506587,
          0.07349025977545023,
          -0.04727307332587869,
          0.05381467724013102,
          0.4680746043345816,
          3.342242886650064,
          7.0836591934886535,
          9.26375999988377,
          27.53511058793533,
          18.887667368043374,
          0.569279077147312,
          0.13268336975173645,
          0.00980684692235884,
          0.5758642833152791,
          12.250545202890454
         ]
        }
       ],
       "layout": {
        "height": 500,
        "template": {
         "data": {
          "bar": [
           {
            "error_x": {
             "color": "rgb(36,36,36)"
            },
            "error_y": {
             "color": "rgb(36,36,36)"
            },
            "marker": {
             "line": {
              "color": "white",
              "width": 0.5
             },
             "pattern": {
              "fillmode": "overlay",
              "size": 10,
              "solidity": 0.2
             }
            },
            "type": "bar"
           }
          ],
          "barpolar": [
           {
            "marker": {
             "line": {
              "color": "white",
              "width": 0.5
             },
             "pattern": {
              "fillmode": "overlay",
              "size": 10,
              "solidity": 0.2
             }
            },
            "type": "barpolar"
           }
          ],
          "carpet": [
           {
            "aaxis": {
             "endlinecolor": "rgb(36,36,36)",
             "gridcolor": "white",
             "linecolor": "white",
             "minorgridcolor": "white",
             "startlinecolor": "rgb(36,36,36)"
            },
            "baxis": {
             "endlinecolor": "rgb(36,36,36)",
             "gridcolor": "white",
             "linecolor": "white",
             "minorgridcolor": "white",
             "startlinecolor": "rgb(36,36,36)"
            },
            "type": "carpet"
           }
          ],
          "choropleth": [
           {
            "colorbar": {
             "outlinewidth": 1,
             "tickcolor": "rgb(36,36,36)",
             "ticks": "outside"
            },
            "type": "choropleth"
           }
          ],
          "contour": [
           {
            "colorbar": {
             "outlinewidth": 1,
             "tickcolor": "rgb(36,36,36)",
             "ticks": "outside"
            },
            "colorscale": [
             [
              0,
              "#440154"
             ],
             [
              0.1111111111111111,
              "#482878"
             ],
             [
              0.2222222222222222,
              "#3e4989"
             ],
             [
              0.3333333333333333,
              "#31688e"
             ],
             [
              0.4444444444444444,
              "#26828e"
             ],
             [
              0.5555555555555556,
              "#1f9e89"
             ],
             [
              0.6666666666666666,
              "#35b779"
             ],
             [
              0.7777777777777778,
              "#6ece58"
             ],
             [
              0.8888888888888888,
              "#b5de2b"
             ],
             [
              1,
              "#fde725"
             ]
            ],
            "type": "contour"
           }
          ],
          "contourcarpet": [
           {
            "colorbar": {
             "outlinewidth": 1,
             "tickcolor": "rgb(36,36,36)",
             "ticks": "outside"
            },
            "type": "contourcarpet"
           }
          ],
          "heatmap": [
           {
            "colorbar": {
             "outlinewidth": 1,
             "tickcolor": "rgb(36,36,36)",
             "ticks": "outside"
            },
            "colorscale": [
             [
              0,
              "#440154"
             ],
             [
              0.1111111111111111,
              "#482878"
             ],
             [
              0.2222222222222222,
              "#3e4989"
             ],
             [
              0.3333333333333333,
              "#31688e"
             ],
             [
              0.4444444444444444,
              "#26828e"
             ],
             [
              0.5555555555555556,
              "#1f9e89"
             ],
             [
              0.6666666666666666,
              "#35b779"
             ],
             [
              0.7777777777777778,
              "#6ece58"
             ],
             [
              0.8888888888888888,
              "#b5de2b"
             ],
             [
              1,
              "#fde725"
             ]
            ],
            "type": "heatmap"
           }
          ],
          "heatmapgl": [
           {
            "colorbar": {
             "outlinewidth": 1,
             "tickcolor": "rgb(36,36,36)",
             "ticks": "outside"
            },
            "colorscale": [
             [
              0,
              "#440154"
             ],
             [
              0.1111111111111111,
              "#482878"
             ],
             [
              0.2222222222222222,
              "#3e4989"
             ],
             [
              0.3333333333333333,
              "#31688e"
             ],
             [
              0.4444444444444444,
              "#26828e"
             ],
             [
              0.5555555555555556,
              "#1f9e89"
             ],
             [
              0.6666666666666666,
              "#35b779"
             ],
             [
              0.7777777777777778,
              "#6ece58"
             ],
             [
              0.8888888888888888,
              "#b5de2b"
             ],
             [
              1,
              "#fde725"
             ]
            ],
            "type": "heatmapgl"
           }
          ],
          "histogram": [
           {
            "marker": {
             "line": {
              "color": "white",
              "width": 0.6
             }
            },
            "type": "histogram"
           }
          ],
          "histogram2d": [
           {
            "colorbar": {
             "outlinewidth": 1,
             "tickcolor": "rgb(36,36,36)",
             "ticks": "outside"
            },
            "colorscale": [
             [
              0,
              "#440154"
             ],
             [
              0.1111111111111111,
              "#482878"
             ],
             [
              0.2222222222222222,
              "#3e4989"
             ],
             [
              0.3333333333333333,
              "#31688e"
             ],
             [
              0.4444444444444444,
              "#26828e"
             ],
             [
              0.5555555555555556,
              "#1f9e89"
             ],
             [
              0.6666666666666666,
              "#35b779"
             ],
             [
              0.7777777777777778,
              "#6ece58"
             ],
             [
              0.8888888888888888,
              "#b5de2b"
             ],
             [
              1,
              "#fde725"
             ]
            ],
            "type": "histogram2d"
           }
          ],
          "histogram2dcontour": [
           {
            "colorbar": {
             "outlinewidth": 1,
             "tickcolor": "rgb(36,36,36)",
             "ticks": "outside"
            },
            "colorscale": [
             [
              0,
              "#440154"
             ],
             [
              0.1111111111111111,
              "#482878"
             ],
             [
              0.2222222222222222,
              "#3e4989"
             ],
             [
              0.3333333333333333,
              "#31688e"
             ],
             [
              0.4444444444444444,
              "#26828e"
             ],
             [
              0.5555555555555556,
              "#1f9e89"
             ],
             [
              0.6666666666666666,
              "#35b779"
             ],
             [
              0.7777777777777778,
              "#6ece58"
             ],
             [
              0.8888888888888888,
              "#b5de2b"
             ],
             [
              1,
              "#fde725"
             ]
            ],
            "type": "histogram2dcontour"
           }
          ],
          "mesh3d": [
           {
            "colorbar": {
             "outlinewidth": 1,
             "tickcolor": "rgb(36,36,36)",
             "ticks": "outside"
            },
            "type": "mesh3d"
           }
          ],
          "parcoords": [
           {
            "line": {
             "colorbar": {
              "outlinewidth": 1,
              "tickcolor": "rgb(36,36,36)",
              "ticks": "outside"
             }
            },
            "type": "parcoords"
           }
          ],
          "pie": [
           {
            "automargin": true,
            "type": "pie"
           }
          ],
          "scatter": [
           {
            "fillpattern": {
             "fillmode": "overlay",
             "size": 10,
             "solidity": 0.2
            },
            "type": "scatter"
           }
          ],
          "scatter3d": [
           {
            "line": {
             "colorbar": {
              "outlinewidth": 1,
              "tickcolor": "rgb(36,36,36)",
              "ticks": "outside"
             }
            },
            "marker": {
             "colorbar": {
              "outlinewidth": 1,
              "tickcolor": "rgb(36,36,36)",
              "ticks": "outside"
             }
            },
            "type": "scatter3d"
           }
          ],
          "scattercarpet": [
           {
            "marker": {
             "colorbar": {
              "outlinewidth": 1,
              "tickcolor": "rgb(36,36,36)",
              "ticks": "outside"
             }
            },
            "type": "scattercarpet"
           }
          ],
          "scattergeo": [
           {
            "marker": {
             "colorbar": {
              "outlinewidth": 1,
              "tickcolor": "rgb(36,36,36)",
              "ticks": "outside"
             }
            },
            "type": "scattergeo"
           }
          ],
          "scattergl": [
           {
            "marker": {
             "colorbar": {
              "outlinewidth": 1,
              "tickcolor": "rgb(36,36,36)",
              "ticks": "outside"
             }
            },
            "type": "scattergl"
           }
          ],
          "scattermapbox": [
           {
            "marker": {
             "colorbar": {
              "outlinewidth": 1,
              "tickcolor": "rgb(36,36,36)",
              "ticks": "outside"
             }
            },
            "type": "scattermapbox"
           }
          ],
          "scatterpolar": [
           {
            "marker": {
             "colorbar": {
              "outlinewidth": 1,
              "tickcolor": "rgb(36,36,36)",
              "ticks": "outside"
             }
            },
            "type": "scatterpolar"
           }
          ],
          "scatterpolargl": [
           {
            "marker": {
             "colorbar": {
              "outlinewidth": 1,
              "tickcolor": "rgb(36,36,36)",
              "ticks": "outside"
             }
            },
            "type": "scatterpolargl"
           }
          ],
          "scatterternary": [
           {
            "marker": {
             "colorbar": {
              "outlinewidth": 1,
              "tickcolor": "rgb(36,36,36)",
              "ticks": "outside"
             }
            },
            "type": "scatterternary"
           }
          ],
          "surface": [
           {
            "colorbar": {
             "outlinewidth": 1,
             "tickcolor": "rgb(36,36,36)",
             "ticks": "outside"
            },
            "colorscale": [
             [
              0,
              "#440154"
             ],
             [
              0.1111111111111111,
              "#482878"
             ],
             [
              0.2222222222222222,
              "#3e4989"
             ],
             [
              0.3333333333333333,
              "#31688e"
             ],
             [
              0.4444444444444444,
              "#26828e"
             ],
             [
              0.5555555555555556,
              "#1f9e89"
             ],
             [
              0.6666666666666666,
              "#35b779"
             ],
             [
              0.7777777777777778,
              "#6ece58"
             ],
             [
              0.8888888888888888,
              "#b5de2b"
             ],
             [
              1,
              "#fde725"
             ]
            ],
            "type": "surface"
           }
          ],
          "table": [
           {
            "cells": {
             "fill": {
              "color": "rgb(237,237,237)"
             },
             "line": {
              "color": "white"
             }
            },
            "header": {
             "fill": {
              "color": "rgb(217,217,217)"
             },
             "line": {
              "color": "white"
             }
            },
            "type": "table"
           }
          ]
         },
         "layout": {
          "annotationdefaults": {
           "arrowhead": 0,
           "arrowwidth": 1
          },
          "autotypenumbers": "strict",
          "coloraxis": {
           "colorbar": {
            "outlinewidth": 1,
            "tickcolor": "rgb(36,36,36)",
            "ticks": "outside"
           }
          },
          "colorscale": {
           "diverging": [
            [
             0,
             "rgb(103,0,31)"
            ],
            [
             0.1,
             "rgb(178,24,43)"
            ],
            [
             0.2,
             "rgb(214,96,77)"
            ],
            [
             0.3,
             "rgb(244,165,130)"
            ],
            [
             0.4,
             "rgb(253,219,199)"
            ],
            [
             0.5,
             "rgb(247,247,247)"
            ],
            [
             0.6,
             "rgb(209,229,240)"
            ],
            [
             0.7,
             "rgb(146,197,222)"
            ],
            [
             0.8,
             "rgb(67,147,195)"
            ],
            [
             0.9,
             "rgb(33,102,172)"
            ],
            [
             1,
             "rgb(5,48,97)"
            ]
           ],
           "sequential": [
            [
             0,
             "#440154"
            ],
            [
             0.1111111111111111,
             "#482878"
            ],
            [
             0.2222222222222222,
             "#3e4989"
            ],
            [
             0.3333333333333333,
             "#31688e"
            ],
            [
             0.4444444444444444,
             "#26828e"
            ],
            [
             0.5555555555555556,
             "#1f9e89"
            ],
            [
             0.6666666666666666,
             "#35b779"
            ],
            [
             0.7777777777777778,
             "#6ece58"
            ],
            [
             0.8888888888888888,
             "#b5de2b"
            ],
            [
             1,
             "#fde725"
            ]
           ],
           "sequentialminus": [
            [
             0,
             "#440154"
            ],
            [
             0.1111111111111111,
             "#482878"
            ],
            [
             0.2222222222222222,
             "#3e4989"
            ],
            [
             0.3333333333333333,
             "#31688e"
            ],
            [
             0.4444444444444444,
             "#26828e"
            ],
            [
             0.5555555555555556,
             "#1f9e89"
            ],
            [
             0.6666666666666666,
             "#35b779"
            ],
            [
             0.7777777777777778,
             "#6ece58"
            ],
            [
             0.8888888888888888,
             "#b5de2b"
            ],
            [
             1,
             "#fde725"
            ]
           ]
          },
          "colorway": [
           "#1F77B4",
           "#FF7F0E",
           "#2CA02C",
           "#D62728",
           "#9467BD",
           "#8C564B",
           "#E377C2",
           "#7F7F7F",
           "#BCBD22",
           "#17BECF"
          ],
          "font": {
           "color": "rgb(36,36,36)"
          },
          "geo": {
           "bgcolor": "white",
           "lakecolor": "white",
           "landcolor": "white",
           "showlakes": true,
           "showland": true,
           "subunitcolor": "white"
          },
          "hoverlabel": {
           "align": "left"
          },
          "hovermode": "closest",
          "mapbox": {
           "style": "light"
          },
          "paper_bgcolor": "white",
          "plot_bgcolor": "white",
          "polar": {
           "angularaxis": {
            "gridcolor": "rgb(232,232,232)",
            "linecolor": "rgb(36,36,36)",
            "showgrid": false,
            "showline": true,
            "ticks": "outside"
           },
           "bgcolor": "white",
           "radialaxis": {
            "gridcolor": "rgb(232,232,232)",
            "linecolor": "rgb(36,36,36)",
            "showgrid": false,
            "showline": true,
            "ticks": "outside"
           }
          },
          "scene": {
           "xaxis": {
            "backgroundcolor": "white",
            "gridcolor": "rgb(232,232,232)",
            "gridwidth": 2,
            "linecolor": "rgb(36,36,36)",
            "showbackground": true,
            "showgrid": false,
            "showline": true,
            "ticks": "outside",
            "zeroline": false,
            "zerolinecolor": "rgb(36,36,36)"
           },
           "yaxis": {
            "backgroundcolor": "white",
            "gridcolor": "rgb(232,232,232)",
            "gridwidth": 2,
            "linecolor": "rgb(36,36,36)",
            "showbackground": true,
            "showgrid": false,
            "showline": true,
            "ticks": "outside",
            "zeroline": false,
            "zerolinecolor": "rgb(36,36,36)"
           },
           "zaxis": {
            "backgroundcolor": "white",
            "gridcolor": "rgb(232,232,232)",
            "gridwidth": 2,
            "linecolor": "rgb(36,36,36)",
            "showbackground": true,
            "showgrid": false,
            "showline": true,
            "ticks": "outside",
            "zeroline": false,
            "zerolinecolor": "rgb(36,36,36)"
           }
          },
          "shapedefaults": {
           "fillcolor": "black",
           "line": {
            "width": 0
           },
           "opacity": 0.3
          },
          "ternary": {
           "aaxis": {
            "gridcolor": "rgb(232,232,232)",
            "linecolor": "rgb(36,36,36)",
            "showgrid": false,
            "showline": true,
            "ticks": "outside"
           },
           "baxis": {
            "gridcolor": "rgb(232,232,232)",
            "linecolor": "rgb(36,36,36)",
            "showgrid": false,
            "showline": true,
            "ticks": "outside"
           },
           "bgcolor": "white",
           "caxis": {
            "gridcolor": "rgb(232,232,232)",
            "linecolor": "rgb(36,36,36)",
            "showgrid": false,
            "showline": true,
            "ticks": "outside"
           }
          },
          "title": {
           "x": 0.05
          },
          "xaxis": {
           "automargin": true,
           "gridcolor": "rgb(232,232,232)",
           "linecolor": "rgb(36,36,36)",
           "showgrid": false,
           "showline": true,
           "ticks": "outside",
           "title": {
            "standoff": 15
           },
           "zeroline": false,
           "zerolinecolor": "rgb(36,36,36)"
          },
          "yaxis": {
           "automargin": true,
           "gridcolor": "rgb(232,232,232)",
           "linecolor": "rgb(36,36,36)",
           "showgrid": false,
           "showline": true,
           "ticks": "outside",
           "title": {
            "standoff": 15
           },
           "zeroline": false,
           "zerolinecolor": "rgb(36,36,36)"
          }
         }
        },
        "title": {
         "text": "No Trend Ensemble - Ensemble 28",
         "x": 0.5,
         "xanchor": "center",
         "y": 0.9,
         "yanchor": "top"
        },
        "width": 500,
        "xaxis": {
         "title": {
          "text": "Trials"
         }
        },
        "yaxis": {
         "title": {
          "text": "Max Z Score"
         }
        }
       }
      },
      "text/html": [
       "<div>                            <div id=\"760846f0-dea1-4239-bdb7-fb2ce092f717\" class=\"plotly-graph-div\" style=\"height:500px; width:500px;\"></div>            <script type=\"text/javascript\">                require([\"plotly\"], function(Plotly) {                    window.PLOTLYENV=window.PLOTLYENV || {};                                    if (document.getElementById(\"760846f0-dea1-4239-bdb7-fb2ce092f717\")) {                    Plotly.newPlot(                        \"760846f0-dea1-4239-bdb7-fb2ce092f717\",                        [{\"marker\":{\"color\":\"darkgrey\"},\"mode\":\"markers\",\"opacity\":0.7,\"x\":[0,1,2,3,4,5,6,7,8,9,10,11,12,13,14,15,16,17,18,19,20,21,22,23,24,25,26,27,28,29,30,31,32,33,34,35,36,37,38,39,40,41,42,43,44,45,46,47,48,49,50,51,52,53,54,55,56,57,58,59,60,61,62,63,64],\"y\":[0.45256543542236033,4.6865565518811945,0.3074848101636306,-0.0351320042964699,0.035438690595547946,0.230066681851502,0.09664992246542341,6.678958590706548,0.12381038164692439,0.22498203438989708,1.7426376529937895,-0.06177794582224463,-0.04834372608228715,-0.035619682477457844,10.267894853502657,1.2361140449851231,11.0490170649374,16.304780105757708,2.357934733679828,-0.0670653482063048,7.150166127247087,0.12071275982992617,0.5805007783377002,0.03478025564761934,-0.0891313529410409,0.0037934019215979716,0.479079621833367,-0.07438107149533614,-0.059067141666725984,-0.032403298690128236,0.12510711607322367,-0.051456916386224,4.175948371866859,1.0000259502288549,0.05718450955589937,-0.0047942076600131734,0.009537023052111886,0.13474840562062865,7.400226555260968,0.18244048770408425,0.16735993071058644,0.03510714639659334,0.23354978217008995,3.0108337291588723,-0.07770399568448239,0.023501220178641667,0.4348373790442211,-0.04023473316129039,-0.1000707171701035,0.8541061541344153,4.412564001506587,0.07349025977545023,-0.04727307332587869,0.05381467724013102,0.4680746043345816,3.342242886650064,7.0836591934886535,9.26375999988377,27.53511058793533,18.887667368043374,0.569279077147312,0.13268336975173645,0.00980684692235884,0.5758642833152791,12.250545202890454],\"type\":\"scatter\"}],                        {\"template\":{\"data\":{\"barpolar\":[{\"marker\":{\"line\":{\"color\":\"white\",\"width\":0.5},\"pattern\":{\"fillmode\":\"overlay\",\"size\":10,\"solidity\":0.2}},\"type\":\"barpolar\"}],\"bar\":[{\"error_x\":{\"color\":\"rgb(36,36,36)\"},\"error_y\":{\"color\":\"rgb(36,36,36)\"},\"marker\":{\"line\":{\"color\":\"white\",\"width\":0.5},\"pattern\":{\"fillmode\":\"overlay\",\"size\":10,\"solidity\":0.2}},\"type\":\"bar\"}],\"carpet\":[{\"aaxis\":{\"endlinecolor\":\"rgb(36,36,36)\",\"gridcolor\":\"white\",\"linecolor\":\"white\",\"minorgridcolor\":\"white\",\"startlinecolor\":\"rgb(36,36,36)\"},\"baxis\":{\"endlinecolor\":\"rgb(36,36,36)\",\"gridcolor\":\"white\",\"linecolor\":\"white\",\"minorgridcolor\":\"white\",\"startlinecolor\":\"rgb(36,36,36)\"},\"type\":\"carpet\"}],\"choropleth\":[{\"colorbar\":{\"outlinewidth\":1,\"tickcolor\":\"rgb(36,36,36)\",\"ticks\":\"outside\"},\"type\":\"choropleth\"}],\"contourcarpet\":[{\"colorbar\":{\"outlinewidth\":1,\"tickcolor\":\"rgb(36,36,36)\",\"ticks\":\"outside\"},\"type\":\"contourcarpet\"}],\"contour\":[{\"colorbar\":{\"outlinewidth\":1,\"tickcolor\":\"rgb(36,36,36)\",\"ticks\":\"outside\"},\"colorscale\":[[0.0,\"#440154\"],[0.1111111111111111,\"#482878\"],[0.2222222222222222,\"#3e4989\"],[0.3333333333333333,\"#31688e\"],[0.4444444444444444,\"#26828e\"],[0.5555555555555556,\"#1f9e89\"],[0.6666666666666666,\"#35b779\"],[0.7777777777777778,\"#6ece58\"],[0.8888888888888888,\"#b5de2b\"],[1.0,\"#fde725\"]],\"type\":\"contour\"}],\"heatmapgl\":[{\"colorbar\":{\"outlinewidth\":1,\"tickcolor\":\"rgb(36,36,36)\",\"ticks\":\"outside\"},\"colorscale\":[[0.0,\"#440154\"],[0.1111111111111111,\"#482878\"],[0.2222222222222222,\"#3e4989\"],[0.3333333333333333,\"#31688e\"],[0.4444444444444444,\"#26828e\"],[0.5555555555555556,\"#1f9e89\"],[0.6666666666666666,\"#35b779\"],[0.7777777777777778,\"#6ece58\"],[0.8888888888888888,\"#b5de2b\"],[1.0,\"#fde725\"]],\"type\":\"heatmapgl\"}],\"heatmap\":[{\"colorbar\":{\"outlinewidth\":1,\"tickcolor\":\"rgb(36,36,36)\",\"ticks\":\"outside\"},\"colorscale\":[[0.0,\"#440154\"],[0.1111111111111111,\"#482878\"],[0.2222222222222222,\"#3e4989\"],[0.3333333333333333,\"#31688e\"],[0.4444444444444444,\"#26828e\"],[0.5555555555555556,\"#1f9e89\"],[0.6666666666666666,\"#35b779\"],[0.7777777777777778,\"#6ece58\"],[0.8888888888888888,\"#b5de2b\"],[1.0,\"#fde725\"]],\"type\":\"heatmap\"}],\"histogram2dcontour\":[{\"colorbar\":{\"outlinewidth\":1,\"tickcolor\":\"rgb(36,36,36)\",\"ticks\":\"outside\"},\"colorscale\":[[0.0,\"#440154\"],[0.1111111111111111,\"#482878\"],[0.2222222222222222,\"#3e4989\"],[0.3333333333333333,\"#31688e\"],[0.4444444444444444,\"#26828e\"],[0.5555555555555556,\"#1f9e89\"],[0.6666666666666666,\"#35b779\"],[0.7777777777777778,\"#6ece58\"],[0.8888888888888888,\"#b5de2b\"],[1.0,\"#fde725\"]],\"type\":\"histogram2dcontour\"}],\"histogram2d\":[{\"colorbar\":{\"outlinewidth\":1,\"tickcolor\":\"rgb(36,36,36)\",\"ticks\":\"outside\"},\"colorscale\":[[0.0,\"#440154\"],[0.1111111111111111,\"#482878\"],[0.2222222222222222,\"#3e4989\"],[0.3333333333333333,\"#31688e\"],[0.4444444444444444,\"#26828e\"],[0.5555555555555556,\"#1f9e89\"],[0.6666666666666666,\"#35b779\"],[0.7777777777777778,\"#6ece58\"],[0.8888888888888888,\"#b5de2b\"],[1.0,\"#fde725\"]],\"type\":\"histogram2d\"}],\"histogram\":[{\"marker\":{\"line\":{\"color\":\"white\",\"width\":0.6}},\"type\":\"histogram\"}],\"mesh3d\":[{\"colorbar\":{\"outlinewidth\":1,\"tickcolor\":\"rgb(36,36,36)\",\"ticks\":\"outside\"},\"type\":\"mesh3d\"}],\"parcoords\":[{\"line\":{\"colorbar\":{\"outlinewidth\":1,\"tickcolor\":\"rgb(36,36,36)\",\"ticks\":\"outside\"}},\"type\":\"parcoords\"}],\"pie\":[{\"automargin\":true,\"type\":\"pie\"}],\"scatter3d\":[{\"line\":{\"colorbar\":{\"outlinewidth\":1,\"tickcolor\":\"rgb(36,36,36)\",\"ticks\":\"outside\"}},\"marker\":{\"colorbar\":{\"outlinewidth\":1,\"tickcolor\":\"rgb(36,36,36)\",\"ticks\":\"outside\"}},\"type\":\"scatter3d\"}],\"scattercarpet\":[{\"marker\":{\"colorbar\":{\"outlinewidth\":1,\"tickcolor\":\"rgb(36,36,36)\",\"ticks\":\"outside\"}},\"type\":\"scattercarpet\"}],\"scattergeo\":[{\"marker\":{\"colorbar\":{\"outlinewidth\":1,\"tickcolor\":\"rgb(36,36,36)\",\"ticks\":\"outside\"}},\"type\":\"scattergeo\"}],\"scattergl\":[{\"marker\":{\"colorbar\":{\"outlinewidth\":1,\"tickcolor\":\"rgb(36,36,36)\",\"ticks\":\"outside\"}},\"type\":\"scattergl\"}],\"scattermapbox\":[{\"marker\":{\"colorbar\":{\"outlinewidth\":1,\"tickcolor\":\"rgb(36,36,36)\",\"ticks\":\"outside\"}},\"type\":\"scattermapbox\"}],\"scatterpolargl\":[{\"marker\":{\"colorbar\":{\"outlinewidth\":1,\"tickcolor\":\"rgb(36,36,36)\",\"ticks\":\"outside\"}},\"type\":\"scatterpolargl\"}],\"scatterpolar\":[{\"marker\":{\"colorbar\":{\"outlinewidth\":1,\"tickcolor\":\"rgb(36,36,36)\",\"ticks\":\"outside\"}},\"type\":\"scatterpolar\"}],\"scatter\":[{\"fillpattern\":{\"fillmode\":\"overlay\",\"size\":10,\"solidity\":0.2},\"type\":\"scatter\"}],\"scatterternary\":[{\"marker\":{\"colorbar\":{\"outlinewidth\":1,\"tickcolor\":\"rgb(36,36,36)\",\"ticks\":\"outside\"}},\"type\":\"scatterternary\"}],\"surface\":[{\"colorbar\":{\"outlinewidth\":1,\"tickcolor\":\"rgb(36,36,36)\",\"ticks\":\"outside\"},\"colorscale\":[[0.0,\"#440154\"],[0.1111111111111111,\"#482878\"],[0.2222222222222222,\"#3e4989\"],[0.3333333333333333,\"#31688e\"],[0.4444444444444444,\"#26828e\"],[0.5555555555555556,\"#1f9e89\"],[0.6666666666666666,\"#35b779\"],[0.7777777777777778,\"#6ece58\"],[0.8888888888888888,\"#b5de2b\"],[1.0,\"#fde725\"]],\"type\":\"surface\"}],\"table\":[{\"cells\":{\"fill\":{\"color\":\"rgb(237,237,237)\"},\"line\":{\"color\":\"white\"}},\"header\":{\"fill\":{\"color\":\"rgb(217,217,217)\"},\"line\":{\"color\":\"white\"}},\"type\":\"table\"}]},\"layout\":{\"annotationdefaults\":{\"arrowhead\":0,\"arrowwidth\":1},\"autotypenumbers\":\"strict\",\"coloraxis\":{\"colorbar\":{\"outlinewidth\":1,\"tickcolor\":\"rgb(36,36,36)\",\"ticks\":\"outside\"}},\"colorscale\":{\"diverging\":[[0.0,\"rgb(103,0,31)\"],[0.1,\"rgb(178,24,43)\"],[0.2,\"rgb(214,96,77)\"],[0.3,\"rgb(244,165,130)\"],[0.4,\"rgb(253,219,199)\"],[0.5,\"rgb(247,247,247)\"],[0.6,\"rgb(209,229,240)\"],[0.7,\"rgb(146,197,222)\"],[0.8,\"rgb(67,147,195)\"],[0.9,\"rgb(33,102,172)\"],[1.0,\"rgb(5,48,97)\"]],\"sequential\":[[0.0,\"#440154\"],[0.1111111111111111,\"#482878\"],[0.2222222222222222,\"#3e4989\"],[0.3333333333333333,\"#31688e\"],[0.4444444444444444,\"#26828e\"],[0.5555555555555556,\"#1f9e89\"],[0.6666666666666666,\"#35b779\"],[0.7777777777777778,\"#6ece58\"],[0.8888888888888888,\"#b5de2b\"],[1.0,\"#fde725\"]],\"sequentialminus\":[[0.0,\"#440154\"],[0.1111111111111111,\"#482878\"],[0.2222222222222222,\"#3e4989\"],[0.3333333333333333,\"#31688e\"],[0.4444444444444444,\"#26828e\"],[0.5555555555555556,\"#1f9e89\"],[0.6666666666666666,\"#35b779\"],[0.7777777777777778,\"#6ece58\"],[0.8888888888888888,\"#b5de2b\"],[1.0,\"#fde725\"]]},\"colorway\":[\"#1F77B4\",\"#FF7F0E\",\"#2CA02C\",\"#D62728\",\"#9467BD\",\"#8C564B\",\"#E377C2\",\"#7F7F7F\",\"#BCBD22\",\"#17BECF\"],\"font\":{\"color\":\"rgb(36,36,36)\"},\"geo\":{\"bgcolor\":\"white\",\"lakecolor\":\"white\",\"landcolor\":\"white\",\"showlakes\":true,\"showland\":true,\"subunitcolor\":\"white\"},\"hoverlabel\":{\"align\":\"left\"},\"hovermode\":\"closest\",\"mapbox\":{\"style\":\"light\"},\"paper_bgcolor\":\"white\",\"plot_bgcolor\":\"white\",\"polar\":{\"angularaxis\":{\"gridcolor\":\"rgb(232,232,232)\",\"linecolor\":\"rgb(36,36,36)\",\"showgrid\":false,\"showline\":true,\"ticks\":\"outside\"},\"bgcolor\":\"white\",\"radialaxis\":{\"gridcolor\":\"rgb(232,232,232)\",\"linecolor\":\"rgb(36,36,36)\",\"showgrid\":false,\"showline\":true,\"ticks\":\"outside\"}},\"scene\":{\"xaxis\":{\"backgroundcolor\":\"white\",\"gridcolor\":\"rgb(232,232,232)\",\"gridwidth\":2,\"linecolor\":\"rgb(36,36,36)\",\"showbackground\":true,\"showgrid\":false,\"showline\":true,\"ticks\":\"outside\",\"zeroline\":false,\"zerolinecolor\":\"rgb(36,36,36)\"},\"yaxis\":{\"backgroundcolor\":\"white\",\"gridcolor\":\"rgb(232,232,232)\",\"gridwidth\":2,\"linecolor\":\"rgb(36,36,36)\",\"showbackground\":true,\"showgrid\":false,\"showline\":true,\"ticks\":\"outside\",\"zeroline\":false,\"zerolinecolor\":\"rgb(36,36,36)\"},\"zaxis\":{\"backgroundcolor\":\"white\",\"gridcolor\":\"rgb(232,232,232)\",\"gridwidth\":2,\"linecolor\":\"rgb(36,36,36)\",\"showbackground\":true,\"showgrid\":false,\"showline\":true,\"ticks\":\"outside\",\"zeroline\":false,\"zerolinecolor\":\"rgb(36,36,36)\"}},\"shapedefaults\":{\"fillcolor\":\"black\",\"line\":{\"width\":0},\"opacity\":0.3},\"ternary\":{\"aaxis\":{\"gridcolor\":\"rgb(232,232,232)\",\"linecolor\":\"rgb(36,36,36)\",\"showgrid\":false,\"showline\":true,\"ticks\":\"outside\"},\"baxis\":{\"gridcolor\":\"rgb(232,232,232)\",\"linecolor\":\"rgb(36,36,36)\",\"showgrid\":false,\"showline\":true,\"ticks\":\"outside\"},\"bgcolor\":\"white\",\"caxis\":{\"gridcolor\":\"rgb(232,232,232)\",\"linecolor\":\"rgb(36,36,36)\",\"showgrid\":false,\"showline\":true,\"ticks\":\"outside\"}},\"title\":{\"x\":0.05},\"xaxis\":{\"automargin\":true,\"gridcolor\":\"rgb(232,232,232)\",\"linecolor\":\"rgb(36,36,36)\",\"showgrid\":false,\"showline\":true,\"ticks\":\"outside\",\"title\":{\"standoff\":15},\"zeroline\":false,\"zerolinecolor\":\"rgb(36,36,36)\"},\"yaxis\":{\"automargin\":true,\"gridcolor\":\"rgb(232,232,232)\",\"linecolor\":\"rgb(36,36,36)\",\"showgrid\":false,\"showline\":true,\"ticks\":\"outside\",\"title\":{\"standoff\":15},\"zeroline\":false,\"zerolinecolor\":\"rgb(36,36,36)\"}}},\"height\":500,\"width\":500,\"yaxis\":{\"title\":{\"text\":\"Max Z Score\"}},\"xaxis\":{\"title\":{\"text\":\"Trials\"}},\"title\":{\"text\":\"No Trend Ensemble - Ensemble 28\",\"y\":0.9,\"x\":0.5,\"xanchor\":\"center\",\"yanchor\":\"top\"}},                        {\"responsive\": true}                    ).then(function(){\n",
       "                            \n",
       "var gd = document.getElementById('760846f0-dea1-4239-bdb7-fb2ce092f717');\n",
       "var x = new MutationObserver(function (mutations, observer) {{\n",
       "        var display = window.getComputedStyle(gd).display;\n",
       "        if (!display || display === 'none') {{\n",
       "            console.log([gd, 'removed!']);\n",
       "            Plotly.purge(gd);\n",
       "            observer.disconnect();\n",
       "        }}\n",
       "}});\n",
       "\n",
       "// Listen for the removal of the full notebook cells\n",
       "var notebookContainer = gd.closest('#notebook-container');\n",
       "if (notebookContainer) {{\n",
       "    x.observe(notebookContainer, {childList: true});\n",
       "}}\n",
       "\n",
       "// Listen for the clearing of the current output cell\n",
       "var outputEl = gd.closest('.output');\n",
       "if (outputEl) {{\n",
       "    x.observe(outputEl, {childList: true});\n",
       "}}\n",
       "\n",
       "                        })                };                });            </script>        </div>"
      ]
     },
     "metadata": {},
     "output_type": "display_data"
    }
   ],
   "source": [
    "## Plot peak activation of a no-trend ensemble\n",
    "activations = mouse_binned_activations['mc09']['Reversal1']\n",
    "ensemble_number = 28\n",
    "fig = pf.plot_activation_strength(activations, ensemble_number = ensemble_number, figure_path = figure_path, x_bin_size = None,\n",
    "                                  title = 'No Trend Ensemble', y_title = 'Max Z Score', x_title = 'Trials', \n",
    "                                  file_name = 'max_strength_notrend_forward_trials.png'.format(x_bin_size), marker_color = 'darkgrey')"
   ]
  },
  {
   "cell_type": "code",
   "execution_count": null,
   "metadata": {},
   "outputs": [],
   "source": [
    "## Get proportion decreasing values\n",
    "prop_decreasing_T4 = []\n",
    "prop_decreasing_R1 = []\n",
    "mouse_name = []\n",
    "for key in mouse_trends:\n",
    "    prop_decreasing_T4.append(mouse_trends[key]['Training4']['prop_decreasing'])\n",
    "    prop_decreasing_R1.append(mouse_trends[key]['Reversal1']['prop_decreasing'])\n",
    "    mouse_name.append(key)\n",
    "prop_df = pd.DataFrame({'Mouse': mouse_name, 'Training4': prop_decreasing_T4, 'Reversal1': prop_decreasing_R1})\n",
    "## Plot prop_df\n",
    "x = ['Training4', 'Reversal1']\n",
    "avgs = [prop_df.Training4.mean(), prop_df.Reversal1.mean()]\n",
    "sem = [prop_df.Training4.sem(), prop_df.Reversal1.sem()]\n",
    "fig = go.Figure(data = go.Bar(x = x, y = avgs, error_y = dict(type = 'data', array = sem), showlegend = False))\n",
    "for row in prop_df.index:\n",
    "    data = prop_df.loc[row]\n",
    "    fig.add_trace(go.Scatter(x = x, y = [data.Training4, data.Reversal1], mode = 'lines', line_color = 'grey', showlegend = False,\n",
    "                             line = dict(width = 1), name = prop_df.loc[row, 'Mouse']))\n",
    "fig.update_layout(template = 'simple_white', width = 500, height = 500)\n",
    "fig.update_layout(\n",
    "    title={\n",
    "        'text': 'Fading Ensembles by Forward Trials',\n",
    "        'y':0.9,\n",
    "        'x':0.5,\n",
    "        'xanchor': 'center',\n",
    "        'yanchor': 'top'})\n",
    "fig.update_yaxes(title = 'Proportion Fading Ensembles')\n",
    "fig.update_traces(marker_color = 'red', marker_line_color = 'black', marker_line_width = 2)\n",
    "fig.show()\n",
    "fig.write_image(pjoin(figure_path, 'proportion_fading_trials.png'))"
   ]
  },
  {
   "cell_type": "code",
   "execution_count": null,
   "metadata": {},
   "outputs": [],
   "source": [
    "wilcoxon_result = wilcoxon(x = prop_df.Training4, y = prop_df.Reversal1, method = 'approx')\n",
    "wilcoxon_result"
   ]
  },
  {
   "cell_type": "code",
   "execution_count": null,
   "metadata": {},
   "outputs": [],
   "source": [
    "## Get proportion fading ensembles for last day, since some mice went back to Training reward port contingencies\n",
    "training_group = []\n",
    "reversal_group = []\n",
    "mice_training = ['mc06', 'mc09']\n",
    "mice_reversal = ['mc03', 'mc07']\n",
    "for mouse in mice_training:\n",
    "    training_group.append(mouse_trends[mouse]['Training_Reversal']['prop_decreasing'])\n",
    "for mouse in mice_reversal:\n",
    "    reversal_group.append(mouse_trends[mouse]['Training_Reversal']['prop_decreasing'])\n",
    "## Create dataframe\n",
    "df = pd.DataFrame({'Training_Contingency': training_group, 'Reversal_Contingency': reversal_group})\n",
    "avgs = [df.Training_Contingency.mean(), df.Reversal_Contingency.mean()]\n",
    "sem = [df.Training_Contingency.sem(), df.Reversal_Contingency.sem()]\n",
    "## Plot figure\n",
    "x = ['Training Contingency', 'Reversal Contingency']\n",
    "fig = go.Figure(data = go.Bar(x = x, y = avgs, error_y = dict(type = 'data', array = sem)))\n",
    "fig.update_layout(template = 'simple_white', width = 500, height = 500)\n",
    "fig.update_layout(\n",
    "    title={\n",
    "        'text': 'Fading Ensembles by Forward Trials',\n",
    "        'y':0.9,\n",
    "        'x':0.5,\n",
    "        'xanchor': 'center',\n",
    "        'yanchor': 'top'})\n",
    "fig.update_yaxes(title = 'Proportion Fading Ensembles')\n",
    "fig.update_traces(marker_color = 'red', marker_line_color = 'black', marker_line_width = 2)\n",
    "fig.show()\n",
    "fig.write_image(pjoin(figure_path, 'proportion_fading_last_day_trials.png'))"
   ]
  },
  {
   "cell_type": "code",
   "execution_count": null,
   "metadata": {},
   "outputs": [],
   "source": [
    "## Plot fading ensembles across all sessions\n",
    "## Create empty dictionary\n",
    "trends_dict = {}\n",
    "## Loop through mouse_trends and extract the proportion of fading ensembles for each session (Training1, Training2, etc)\n",
    "for key in mouse_trends:\n",
    "    fading_ensembles = []\n",
    "    for session in mouse_trends[key]:\n",
    "        fading_ensembles.append(mouse_trends[key][session]['prop_decreasing'])\n",
    "    trends_dict[key] = fading_ensembles\n",
    "## Add in NaN values for days that are missing for mc03\n",
    "trends_dict['mc03'][5] = np.nan\n",
    "trends_dict['mc03'][6] = np.nan\n",
    "trends_dict['mc03'].append(0.0) ## value for proportion of fading ensembles on Reversal4\n",
    "trends_dict['mc03'].append(0.0) ## value for proportion of fading ensembles on Training_Reversal\n",
    "## Plot values for each mouse\n",
    "fig = go.Figure()\n",
    "x_axis = session_list\n",
    "for key in trends_dict:\n",
    "    fig.add_trace(go.Scatter(x = x_axis, y = trends_dict[key], name = key))\n",
    "fig.update_layout(template = 'simple_white', height = 500, width = 500)\n",
    "fig.update_layout(\n",
    "    title={\n",
    "        'text': 'Fading Ensemble Proportion Across Sessions',\n",
    "        'y':0.9,\n",
    "        'x':0.5,\n",
    "        'xanchor': 'center',\n",
    "        'yanchor': 'top'})\n",
    "fig.update_yaxes(title = 'Proportion Fading Ensembles')\n",
    "fig.show()\n",
    "fig.write_image(pjoin(figure_path, 'all_sessions_trials.png'))"
   ]
  },
  {
   "attachments": {},
   "cell_type": "markdown",
   "metadata": {},
   "source": [
    "BIN ACTIVATIONS BY ALL TRIALS"
   ]
  },
  {
   "cell_type": "code",
   "execution_count": null,
   "metadata": {},
   "outputs": [],
   "source": [
    "## Set mouse list, across_time, x_bin_size\n",
    "mouse_list = ['mc03', 'mc06', 'mc07', 'mc09'] ## excluded mc11 from the analysis because three sessions had to be stitched together\n",
    "across_time = False\n",
    "x_bin_size = 15\n",
    "\n",
    "## Create empty dictionaries\n",
    "mouse_trends = {}\n",
    "mouse_binned_activations = {}\n",
    "mouse_slopes = {}\n",
    "mouse_taus = {}\n",
    "## Loop through each mouse\n",
    "for mouse in tqdm(mouse_list):\n",
    "    ## saved ensemble data path\n",
    "    spath = pjoin(ensemble_path, mouse)\n",
    "    ## load in behavior data across all sessions\n",
    "    if not across_time:\n",
    "        mouse_behavior = ctb.import_mouse_behavior_data(behavior_path, mouse, key_file = 'keys.yml', session = '30min')\n",
    "    ## Create empty dictionaries to store output\n",
    "    determined_trends = {}\n",
    "    binned_activations_dict = {}\n",
    "    slopes_dict = {}\n",
    "    tau_dict = {}\n",
    "    ## Load assemblies\n",
    "    for session in session_dict[mouse]:\n",
    "        ## Load specific session's assemblies\n",
    "        assemblies = ica.load_session_assemblies(mouse, spath = spath, session_id = session)\n",
    "        act = assemblies['activations'].values\n",
    "        ## Load a specific session's behavior data\n",
    "        if not across_time:\n",
    "            aligned_behavior = mouse_behavior[session]\n",
    "            ## Ensure that activations and aligned behavior are the same length\n",
    "            aligned_behavior = ica.align_activations_to_behavior(act, aligned_behavior)\n",
    "            ## Get which timestamps are part of which trial for the aligned behavior data\n",
    "            trials = ctb.get_trials(aligned_behavior, shift_factor = 0, angle_type = 'radians', counterclockwise = True)\n",
    "        if across_time:\n",
    "          trends, binned_activations, slopes, tau = ica.define_ensemble_trends_across_time(act, z_threshold = None, x_bin_size = x_bin_size, analysis_type = 'max', zscored = True, alpha = 'sidak')  \n",
    "        else:\n",
    "            ## Define ensemble trends across trials to determine if activation strength is increasing/decreasing across the session\n",
    "            trends, binned_activations, slopes, tau = ica.define_ensemble_trends_across_trials(act, aligned_behavior, trials, trial_type = 'all', z_threshold = None, zscored = False)\n",
    "        ## Save to dictionaries\n",
    "        determined_trends[session] = trends\n",
    "        binned_activations_dict[session] = binned_activations\n",
    "        slopes_dict[session] = slopes\n",
    "        tau_dict[session] = tau\n",
    "    ## Determine the proportion of ensembles that are increasing, decreasing, or have no trend based on their activation strength across time\n",
    "    proportion_dict = ica.calculate_proportions_ensembles(determined_trends)\n",
    "    ## Save to mouse dictionaries before looping to the next mouse\n",
    "    mouse_trends[mouse] = proportion_dict\n",
    "    mouse_binned_activations[mouse] = binned_activations_dict\n",
    "    mouse_slopes[mouse] = slopes_dict\n",
    "    mouse_taus[mouse] = tau_dict"
   ]
  },
  {
   "cell_type": "code",
   "execution_count": null,
   "metadata": {},
   "outputs": [],
   "source": [
    "## Get proportion decreasing values\n",
    "prop_decreasing_T4 = []\n",
    "prop_decreasing_R1 = []\n",
    "for key in mouse_trends:\n",
    "    prop_decreasing_T4.append(mouse_trends[key]['Training4']['prop_decreasing'])\n",
    "    prop_decreasing_R1.append(mouse_trends[key]['Reversal1']['prop_decreasing'])\n",
    "prop_df = pd.DataFrame({'Training4': prop_decreasing_T4, 'Reversal1': prop_decreasing_R1})\n",
    "## Plot prop_df\n",
    "x = ['Training4', 'Reversal1']\n",
    "avgs = [prop_df.Training4.mean(), prop_df.Reversal1.mean()]\n",
    "sem = [prop_df.Training4.sem(), prop_df.Reversal1.sem()]\n",
    "fig = go.Figure(data = go.Bar(x = x, y = avgs, error_y = dict(type = 'data', array = sem)))\n",
    "fig.update_layout(template = 'simple_white', width = 500, height = 500)\n",
    "fig.update_layout(\n",
    "    title={\n",
    "        'text': 'Fading Ensembles by All Trials',\n",
    "        'y':0.9,\n",
    "        'x':0.5,\n",
    "        'xanchor': 'center',\n",
    "        'yanchor': 'top'})\n",
    "fig.update_yaxes(title = 'Proportion Fading Ensembles')\n",
    "fig.update_traces(marker_color = 'red', marker_line_color = 'black', marker_line_width = 2)\n",
    "fig.show()"
   ]
  },
  {
   "cell_type": "markdown",
   "metadata": {},
   "source": [
    "The code block below was used to detect PCA/ICA ensembles for each mouse and subsequently save those detected ensembles."
   ]
  },
  {
   "cell_type": "code",
   "execution_count": null,
   "metadata": {},
   "outputs": [],
   "source": [
    "## Save assemblies of all sessions in the keys.yml file\n",
    "mouse_list =  ['mc11']    \n",
    "dpath = '/media/caishuman/csstorage3/Austin/CircleTrack/EnsembleRemodeling_Resubmission/CircleTrack_Data'\n",
    "spath = '/media/caishuman/csstorage3/Austin/CircleTrack/EnsembleRemodeling_Resubmission/CircleTrack_Data/assemblies'\n",
    "for mouse in mouse_list:\n",
    "    mpath = pjoin(spath, mouse)\n",
    "    neural_dictionary = ctn.import_mouse_neural_data(dpath, mouse, key_file = 'keys.yml', session = '30min', plot_frame_usage = False)\n",
    "    ica.save_detected_ensembles(mpath, mouse, neural_dictionary, binarize = True, smooth_factor = 5, nullhyp = 'circ', n_shuffles = 500)"
   ]
  }
 ],
 "metadata": {
  "kernelspec": {
   "display_name": "Python 3.10.6 ('calcium')",
   "language": "python",
   "name": "python3"
  },
  "language_info": {
   "codemirror_mode": {
    "name": "ipython",
    "version": 3
   },
   "file_extension": ".py",
   "mimetype": "text/x-python",
   "name": "python",
   "nbconvert_exporter": "python",
   "pygments_lexer": "ipython3",
   "version": "3.10.6"
  },
  "orig_nbformat": 4,
  "vscode": {
   "interpreter": {
    "hash": "3dd79809ed5cd61d934147ab957e61d0ca120bfb2ec4541704fc20d5f29e686c"
   }
  }
 },
 "nbformat": 4,
 "nbformat_minor": 2
}
