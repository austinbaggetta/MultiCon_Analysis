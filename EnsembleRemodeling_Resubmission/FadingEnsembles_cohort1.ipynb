{
 "cells": [
  {
   "cell_type": "code",
   "execution_count": 1,
   "metadata": {},
   "outputs": [
    {
     "name": "stderr",
     "output_type": "stream",
     "text": [
      "/home/austinbaggetta/.conda/envs/calcium/lib/python3.10/site-packages/outdated/utils.py:14: OutdatedCacheFailedWarning: Failed to use cache while checking for outdated package.\n",
      "Set the environment variable OUTDATED_RAISE_EXCEPTION=1 for a full traceback.\n",
      "Set the environment variable OUTDATED_IGNORE=1 to disable these warnings.\n",
      "  return warn(\n",
      "/home/austinbaggetta/.conda/envs/calcium/lib/python3.10/site-packages/outdated/utils.py:14: OutdatedPackageWarning: The package pingouin is out of date. Your version is 0.5.2, the latest is 0.5.3.\n",
      "Set the environment variable OUTDATED_IGNORE=1 to disable these warnings.\n",
      "  return warn(\n"
     ]
    }
   ],
   "source": [
    "%load_ext autoreload\n",
    "%autoreload 2\n",
    "import pandas as pd\n",
    "import numpy as np\n",
    "import xarray as xr\n",
    "import pingouin as pg\n",
    "import re\n",
    "from tqdm import tqdm\n",
    "from os.path import join as pjoin\n",
    "import plotly.graph_objects as go\n",
    "from plotly.subplots import make_subplots\n",
    "from scipy.stats import pearsonr, spearmanr, zscore, wilcoxon\n",
    "import sys\n",
    "import os"
   ]
  },
  {
   "cell_type": "code",
   "execution_count": 2,
   "metadata": {},
   "outputs": [],
   "source": [
    "sys.path.append('..')\n",
    "import circletrack_neural as ctn\n",
    "import circletrack_behavior as ctb\n",
    "import pca_ica as ica\n",
    "import plotting_functions as pf"
   ]
  },
  {
   "cell_type": "code",
   "execution_count": null,
   "metadata": {},
   "outputs": [],
   "source": [
    "path = '../../EnsembleRemodeling_Resubmission/circletrack_data'\n",
    "mouse_list = ['mc03', 'mc06', 'mc07', 'mc09', 'mc11']   \n",
    "session_dict = {'mc03': ['Training1', 'Training2', 'Training3', 'Training4', 'Reversal1', 'Reversal4', 'Training_Reversal'],\n",
    "                'mc06': ['Training1', 'Training2', 'Training3', 'Training4', 'Reversal1', 'Reversal2', 'Reversal3', 'Reversal4', 'Training_Reversal'],\n",
    "                'mc07': ['Training1', 'Training2', 'Training3', 'Training4', 'Reversal1', 'Reversal2', 'Reversal3', 'Reversal4', 'Training_Reversal'],\n",
    "                'mc09': ['Training1', 'Training2', 'Training3', 'Training4', 'Reversal1', 'Reversal2', 'Reversal3', 'Reversal4', 'Training_Reversal'],\n",
    "                'mc11': ['Training1', 'Training2', 'Training3', 'Training4', 'Reversal1', 'Reversal2', 'Reversal3', 'Reversal4', 'Training_Reversal']}\n",
    "cohort_number = 'cohort1'\n",
    "session_length = '30min'\n",
    "# ## Loop through all mice\n",
    "# for mouse in mouse_list:\n",
    "#     dpath = pjoin(path, 'Results/{}/'.format(mouse))\n",
    "#     session_dates = os.listdir(dpath)\n",
    "#     session_dates.sort()\n",
    "#     for i, date in enumerate(session_dates):\n",
    "#         ctn.minian_to_netcdf(path, mouse, date, session_id = session_dict[mouse][i], cohort_number = cohort_number, session_length = session_length,\n",
    "#                              sampling_rate = 1/15, down_sample_factor = 2)"
   ]
  },
  {
   "cell_type": "code",
   "execution_count": 48,
   "metadata": {},
   "outputs": [],
   "source": [
    "## Create a list of sessions for easy plotting later and for changing column order\n",
    "session_list = ['Training1', 'Training2', 'Training3', 'Training4', 'Reversal1', 'Reversal2', 'Reversal3', 'Reversal4', 'Training_Reversal']\n",
    "## Create session_id dictionary\n",
    "session_dict = {'mc03': ['Training1', 'Training2', 'Training3', 'Training4', 'Reversal1', 'Reversal4', 'Training_Reversal'],\n",
    "                'mc06': ['Training1', 'Training2', 'Training3', 'Training4', 'Reversal1', 'Reversal2', 'Reversal3', 'Reversal4', 'Training_Reversal'],\n",
    "                'mc07': ['Training1', 'Training2', 'Training3', 'Training4', 'Reversal1', 'Reversal2', 'Reversal3', 'Reversal4', 'Training_Reversal'],\n",
    "                'mc09': ['Training3', 'Training4', 'Reversal1', 'Reversal2', 'Reversal3', 'Reversal4', 'Training_Reversal'],\n",
    "                'mc11': ['Training1', 'Training2', 'Training3', 'Training4', 'Reversal1', 'Reversal2', 'Reversal3', 'Reversal4', 'Training_Reversal']}\n",
    "## Set path variables\n",
    "ensemble_path = '../../EnsembleRemodeling_Resubmission/circletrack_data/assemblies'\n",
    "behavior_path = '../../EnsembleRemodeling_Resubmission/circletrack_data/'  \n",
    "figure_path = '../../EnsembleRemodeling_Resubmission/circletrack_data/python_analysis/progress_figures/cohort1'\n",
    "## Create mouse list\n",
    "mouse_list = ['mc03', 'mc06', 'mc07', 'mc09', 'mc11']             "
   ]
  },
  {
   "cell_type": "code",
   "execution_count": null,
   "metadata": {},
   "outputs": [],
   "source": [
    "## Number of neurons across sessions\n",
    "## Set mouse list\n",
    "mouse_list = ['mc03', 'mc06', 'mc07']\n",
    "mouse_neural = {}\n",
    "## Loop through mouse list\n",
    "for mouse in mouse_list:\n",
    "    sessions = ctn.import_mouse_neural_data(behavior_path, mouse, key_file = 'keys.yml', session = '30min', neural_type = 'spikes')\n",
    "    cell_dict = {}\n",
    "    for session in sessions:\n",
    "        cell_dict[session] = len(sessions[session].unit_id)\n",
    "    mouse_neural[mouse] = cell_dict\n",
    "fig = pf.custom_graph_template(title = 'Cells per Session', x_title = 'Session', y_title = 'Number of Cells')\n",
    "for mouse in mouse_neural:\n",
    "    plot_data = pd.DataFrame(mouse_neural[mouse], index = [0])\n",
    "    if mouse == 'mc03':\n",
    "        plot_data.insert(0, 'Reversal2', np.nan)\n",
    "        plot_data.insert(1, 'Reversal3', np.nan)\n",
    "    plot_data = plot_data[session_list]\n",
    "    fig.add_trace(go.Scatter(x = session_list, y = plot_data.iloc[0, :], mode = 'lines', line_color = 'grey', line_width = 0.5, opacity = 0.5, name = mouse, showlegend = False))\n",
    "fig.show()\n",
    "fig.write_image('progress_figures/cells_across_session.png')"
   ]
  },
  {
   "cell_type": "code",
   "execution_count": null,
   "metadata": {},
   "outputs": [],
   "source": [
    "## Plot number of ensembles across all sessions\n",
    "ensemble_num_df = pd.DataFrame()\n",
    "mouse_name = []\n",
    "for i, mouse in enumerate(mouse_num_ensembles):\n",
    "    mouse_name.append(mouse)\n",
    "    df = pd.DataFrame(mouse_num_ensembles[mouse], index = [i])\n",
    "    ensemble_num_df = pd.concat([ensemble_num_df, df])\n",
    "ensemble_num_df = ensemble_num_df[session_list]\n",
    "## Calculate avg num of ensembles per session\n",
    "avg = ensemble_num_df.mean()\n",
    "## Plot data\n",
    "fig = pf.custom_graph_template(title = 'Ensembles Across Sessions', x_title = '', y_title = 'Number of Ensembles', width = 500, height = 500)\n",
    "fig.add_trace(go.Scatter(x = session_list, y = avg, marker = dict(color = 'turquoise'), showlegend = False))\n",
    "## Plot individual mice\n",
    "for mouse in mouse_num_ensembles:\n",
    "    fig.add_trace(go.Scatter(x = session_list, y = pd.Series(mouse_num_ensembles[mouse]), mode = 'lines', line_color = 'grey', opacity = 0.5, line_width = 0.5, showlegend = False, name = mouse))\n",
    "fig.show()\n",
    "fig.write_image('progress_figures/ensembles_across_sessions.png')"
   ]
  },
  {
   "cell_type": "code",
   "execution_count": null,
   "metadata": {},
   "outputs": [],
   "source": [
    "## Set mouse list, x_bin_size, and across_time\n",
    "mouse_list = ['mc03', 'mc06', 'mc07', 'mc09']\n",
    "across_time = True\n",
    "x_bin_size = 5\n",
    "## Create empty dictionaries\n",
    "mouse_trends = {}\n",
    "mouse_binned_activations = {}\n",
    "mouse_slopes = {}\n",
    "mouse_taus = {}\n",
    "mouse_ensembles = {}\n",
    "mouse_num_ensembles = {}\n",
    "## Loop through each mouse\n",
    "for mouse in tqdm(mouse_list):\n",
    "    ## saved ensemble data path\n",
    "    spath = pjoin(ensemble_path, mouse)\n",
    "    ## load in behavior data across all sessions\n",
    "    if not across_time:\n",
    "        mouse_behavior = ctb.import_mouse_behavior_data(behavior_path, mouse, key_file = 'behavior_keys.yml', session = '30min')\n",
    "    ## Create empty dictionaries to store output\n",
    "    determined_trends = {}\n",
    "    binned_activations_dict = {}\n",
    "    slopes_dict = {}\n",
    "    tau_dict = {}\n",
    "    num_ensembles = {}\n",
    "    ## Load assemblies\n",
    "    for session in session_dict[mouse]:\n",
    "        ## Load a specific session's behavior data\n",
    "        if not across_time:\n",
    "            aligned_behavior = mouse_behavior[session]\n",
    "            ## Get which timestamps are part of which trial for the aligned behavior data\n",
    "            trials = ctb.get_trials(aligned_behavior, shift_factor = (np.pi / 2), angle_type = 'radians', counterclockwise = True)\n",
    "        ## Load a specific session's assemblies\n",
    "        assemblies = ica.load_session_assemblies(mouse, spath = spath, session_id = session)\n",
    "        act = assemblies.activations.values\n",
    "        ## Save the number of identified ensembles by PCA/ICA\n",
    "        num_ensembles[session] = act.shape[0]\n",
    "        if across_time:\n",
    "          trends, binned_activations, slopes, tau = ica.define_ensemble_trends_across_time(act, z_threshold = None, x_bin_size = x_bin_size, analysis_type = 'max', zscored = True, alpha = 'sidak')  \n",
    "        else:\n",
    "            ## Define ensemble trends across trials to determine if activation strength is increasing/decreasing across the session\n",
    "            trends, binned_activations, slopes, tau = ica.define_ensemble_trends_across_trials(act, aligned_behavior, trials, trial_type = 'forward', z_threshold = None)\n",
    "        ## Save to dictionaries\n",
    "        determined_trends[session] = trends\n",
    "        binned_activations_dict[session] = binned_activations\n",
    "        slopes_dict[session] = slopes\n",
    "        tau_dict[session] = tau\n",
    "    ## Determine the proportion of ensembles that are increasing, decreasing, or have no trend based on their activation strength across time\n",
    "    proportion_dict = ica.calculate_proportions_ensembles(determined_trends)\n",
    "    ## Save to mouse dictionaries before looping to the next mouse\n",
    "    mouse_trends[mouse] = proportion_dict\n",
    "    mouse_binned_activations[mouse] = binned_activations_dict\n",
    "    mouse_slopes[mouse] = slopes_dict\n",
    "    mouse_ensembles[mouse] = determined_trends\n",
    "    mouse_taus[mouse] = tau_dict\n",
    "    mouse_num_ensembles[mouse] = num_ensembles"
   ]
  },
  {
   "cell_type": "code",
   "execution_count": null,
   "metadata": {},
   "outputs": [],
   "source": [
    "## Plot peak activation of a fading ensemble\n",
    "activations = mouse_binned_activations['mc09']['Reversal1']\n",
    "ensemble_number = 5\n",
    "fig = pf.plot_activation_strength(activations, ensemble_number = ensemble_number, figure_path = figure_path, x_bin_size = x_bin_size,\n",
    "                                  title = 'Fading Ensemble', y_title = 'Max Z Score', x_title = 'Time (s)', \n",
    "                                  file_name = 'max_strength_fading_{}bins.png'.format(x_bin_size), marker_color = 'red')"
   ]
  },
  {
   "cell_type": "code",
   "execution_count": null,
   "metadata": {},
   "outputs": [],
   "source": [
    "## Plot peak activation of an increasing ensemble\n",
    "activations = mouse_binned_activations['mc09']['Reversal1']\n",
    "ensemble_number = 28\n",
    "fig = pf.plot_activation_strength(activations, ensemble_number = ensemble_number, figure_path = figure_path, x_bin_size = x_bin_size,\n",
    "                                  title = 'Increasing Ensemble', y_title = 'Max Z Score', x_title = 'Time (s)', \n",
    "                                  file_name = 'max_strength_increasing_{}bins.png'.format(x_bin_size), marker_color = 'turquoise')"
   ]
  },
  {
   "cell_type": "code",
   "execution_count": null,
   "metadata": {},
   "outputs": [],
   "source": [
    "## Plot peak activation of a no-trend ensemble\n",
    "activations = mouse_binned_activations['mc09']['Reversal1']\n",
    "ensemble_number = 1\n",
    "fig = pf.plot_activation_strength(activations, ensemble_number = ensemble_number, figure_path = figure_path, x_bin_size = x_bin_size,\n",
    "                                  title = 'No Trend Ensemble', y_title = 'Max Z Score', x_title = 'Time (s)', \n",
    "                                  file_name = 'max_strength_notrend_{}bins.png'.format(x_bin_size), marker_color = 'darkgrey')"
   ]
  },
  {
   "cell_type": "code",
   "execution_count": null,
   "metadata": {},
   "outputs": [],
   "source": [
    "## Get proportion decreasing values\n",
    "prop_decreasing_T4 = []\n",
    "prop_decreasing_R1 = []\n",
    "for key in mouse_trends:\n",
    "    prop_decreasing_T4.append(mouse_trends[key]['Training4']['prop_decreasing'])\n",
    "    prop_decreasing_R1.append(mouse_trends[key]['Reversal1']['prop_decreasing'])\n",
    "prop_df = pd.DataFrame({'Training4': prop_decreasing_T4, 'Reversal1': prop_decreasing_R1})\n",
    "## Plot prop_df\n",
    "x = ['Training4', 'Reversal1']\n",
    "avgs = [prop_df.Training4.mean(), prop_df.Reversal1.mean()]\n",
    "sem = [prop_df.Training4.sem(), prop_df.Reversal1.sem()]\n",
    "fig = go.Figure(data = go.Bar(x = x, y = avgs, error_y = dict(type = 'data', array = sem), showlegend = False))\n",
    "for row in prop_df.index:\n",
    "    data = prop_df.loc[row]\n",
    "    fig.add_trace(go.Scatter(x = x, y = [data.Training4, data.Reversal1], mode = 'lines + markers', showlegend = False,\n",
    "                             line = dict(width = 1)))\n",
    "fig.update_layout(template = 'simple_white', width = 500, height = 500)\n",
    "fig.update_layout(\n",
    "    title={\n",
    "        'text': 'Fading Ensembles',\n",
    "        'y':0.9,\n",
    "        'x':0.5,\n",
    "        'xanchor': 'center',\n",
    "        'yanchor': 'top'})\n",
    "fig.update_yaxes(title = 'Proportion Fading Ensembles')\n",
    "fig.update_traces(marker_color = 'red', marker_line_color = 'black', marker_line_width = 2)\n",
    "fig.show()\n",
    "fig.write_image('progress_figures/binned_by_15seconds.png')"
   ]
  },
  {
   "cell_type": "code",
   "execution_count": null,
   "metadata": {},
   "outputs": [],
   "source": [
    "## Get proportion fading ensembles for last day, since some mice went back to Training reward port contingencies\n",
    "training_group = []\n",
    "reversal_group = []\n",
    "mice_training = ['mc06', 'mc09', 'mc11']\n",
    "mice_reversal = ['mc03', 'mc07']\n",
    "for mouse in mice_training:\n",
    "    training_group.append(mouse_trends[mouse]['Training_Reversal']['prop_decreasing'])\n",
    "for mouse in mice_reversal:\n",
    "    reversal_group.append(mouse_trends[mouse]['Training_Reversal']['prop_decreasing'])\n",
    "## Add NaN to make mice_reversal same length as mice_training\n",
    "reversal_group.append(np.nan)\n",
    "## Create dataframe\n",
    "df = pd.DataFrame({'Training_Contingency': training_group, 'Reversal_Contingency': reversal_group})\n",
    "avgs = [df.Training_Contingency.mean(), df.Reversal_Contingency.mean()]\n",
    "sem = [df.Training_Contingency.sem(), df.Reversal_Contingency.sem()]\n",
    "## Plot figure\n",
    "x = ['Training Contingency', 'Reversal Contingency']\n",
    "fig = go.Figure(data = go.Bar(x = x, y = avgs, error_y = dict(type = 'data', array = sem)))\n",
    "fig.update_layout(template = 'simple_white', width = 500, height = 500)\n",
    "fig.update_layout(\n",
    "    title={\n",
    "        'text': 'Fading Ensembles',\n",
    "        'y':0.9,\n",
    "        'x':0.5,\n",
    "        'xanchor': 'center',\n",
    "        'yanchor': 'top'})\n",
    "fig.update_yaxes(title = 'Proportion Fading Ensembles')\n",
    "fig.update_traces(marker_color = 'red', marker_line_color = 'black', marker_line_width = 2)\n",
    "fig.show()\n",
    "fig.write_image('progress_figures/training_contingency_15seconds.png')"
   ]
  },
  {
   "cell_type": "code",
   "execution_count": null,
   "metadata": {},
   "outputs": [],
   "source": [
    "## Look at average number of fading ensembles across all training sessions and across all reversal sessions\n",
    "trainings = ['Training1', 'Training2', 'Training3', 'Training4']\n",
    "reversals = ['Reversal1', 'Reversal2', 'Reversal3', 'Reversal4']\n",
    "prop_dec_training = []\n",
    "prop_dec_reversal = []\n",
    "mouse_list = []\n",
    "for mouse in mouse_trends:\n",
    "    for session in trainings:\n",
    "        prop_dec_training.append(mouse_trends[mouse][session]['prop_decreasing'])\n",
    "        mouse_list.append(mouse)\n",
    "    ## Because mc03 doesn't have Reversal2 or Reversal3 due to miniscope issues, add only Reversal1 and Reversal4 manually\n",
    "    if mouse == 'mc03':\n",
    "            prop_dec_reversal.append(mouse_trends[mouse][reversals[0]]['prop_decreasing'])\n",
    "            prop_dec_reversal.append(mouse_trends[mouse][reversals[3]]['prop_decreasing'])\n",
    "            ## Add NaN to prop_dec_reversal to make it same length as prop_dec_training\n",
    "            prop_dec_reversal.append(np.nan)\n",
    "            prop_dec_reversal.append(np.nan)\n",
    "    else:\n",
    "        for reverse in reversals:\n",
    "            prop_dec_reversal.append(mouse_trends[mouse][reverse]['prop_decreasing'])\n",
    "## Create dataframe\n",
    "df = pd.DataFrame({'Mouse': mouse_list, 'Trainings': prop_dec_training, 'Reversals': prop_dec_reversal})\n",
    "## melt df for plotting\n",
    "df_melt = pd.melt(df, id_vars = ['Mouse'], value_vars = ['Trainings', 'Reversals'], var_name = 'session')\n",
    "## Averages by mouse\n",
    "avgs = df.groupby(['Mouse'], as_index = False).mean(numeric_only = True)\n",
    "sem = df.groupby(['Mouse'], as_index = False).sem()\n",
    "## Plot groups\n",
    "pf.plot_across_groups(df_melt, groupby = 'Mouse', separateby = 'session', plot_var = 'value', colors = 'red', title = 'Fading Ensembles Across Each Epoch', y_title = 'Proportion Fading Ensembles',\n",
    "                      save_path = '/media/caishuman/csstorage3/Austin/CircleTrack/EnsembleRemodeling_Resubmission/CircleTrack_Data/python_analysis/progress_figures/fading_across_all_15seconds.png')"
   ]
  },
  {
   "cell_type": "code",
   "execution_count": null,
   "metadata": {},
   "outputs": [],
   "source": [
    "## Plot three ensembles with their members colored \n",
    "fig = pf.stem_plot(assemblies['patterns'][1], member_color = 'turquoise', size = 3)\n",
    "fig1 = pf.stem_plot(assemblies['patterns'][4], member_color = 'turquoise', size = 3)\n",
    "fig2 = pf.stem_plot(assemblies['patterns'][7], member_color = 'turquoise', size = 3)\n",
    "fig.update_layout(height = 300, width = 500)\n",
    "fig1.update_layout(height = 300, width = 500)\n",
    "fig2.update_layout(height = 300, width = 500)\n",
    "fig.update_layout(\n",
    "    title={\n",
    "        'text': 'Ensemble Membership',\n",
    "        'y':0.9,\n",
    "        'x':0.5,\n",
    "        'xanchor': 'center',\n",
    "        'yanchor': 'top'})\n",
    "fig.update_yaxes(range = [-0.55, 0.55], tickvals=[0.4, 0.2, 0, -0.2, -0.4])\n",
    "fig1.update_yaxes(range = [-0.55, 0.55], tickvals=[0.4, 0.2, 0, -0.2, -0.4])\n",
    "fig2.update_yaxes(range = [-0.55, 0.55], tickvals=[0.4, 0.2, 0, -0.2, -0.4])\n",
    "fig.show()\n",
    "fig.write_image('progress_figures/ensemble_membership_top.png')\n",
    "fig1.show()\n",
    "fig1.write_image('progress_figures/ensemble_membership_one.png')\n",
    "fig2.show()\n",
    "fig2.write_image('progress_figures/ensemble_membership_two.png')"
   ]
  },
  {
   "cell_type": "code",
   "execution_count": null,
   "metadata": {},
   "outputs": [],
   "source": [
    "## Plot fading ensembles across all sessions\n",
    "## Create empty dictionary\n",
    "trends_dict = {}\n",
    "## Loop through mouse_trends and extract the proportion of fading ensembles for each session (Training1, Training2, etc)\n",
    "for key in mouse_trends:\n",
    "    fading_ensembles = []\n",
    "    for session in mouse_trends[key]:\n",
    "        fading_ensembles.append(mouse_trends[key][session]['prop_decreasing'])\n",
    "    trends_dict[key] = fading_ensembles\n",
    "## Add in NaN values for days that are missing for mc03\n",
    "trends_dict['mc03'][5] = np.nan\n",
    "trends_dict['mc03'][6] = np.nan\n",
    "trends_dict['mc03'].append(0.0) ## value for proportion of fading ensembles on Reversal4\n",
    "trends_dict['mc03'].append(0.029411764705882353) ## value for proportion of fading ensembles on Training_Reversal\n",
    "## Plot values for each mouse\n",
    "fig = go.Figure()\n",
    "x_axis = session_list\n",
    "for key in trends_dict:\n",
    "    fig.add_trace(go.Scatter(x = x_axis, y = trends_dict[key], name = key))\n",
    "fig.update_layout(template = 'simple_white', height = 500, width = 500)\n",
    "fig.update_layout(\n",
    "    title={\n",
    "        'text': 'Fading Ensemble Proportion Across Sessions',\n",
    "        'y':0.9,\n",
    "        'x':0.5,\n",
    "        'xanchor': 'center',\n",
    "        'yanchor': 'top'})\n",
    "fig.update_yaxes(title = 'Proportion Fading Ensembles')\n",
    "fig.show()\n",
    "fig.write_image('progress_figures/fading_all_sessions_15seconds.png')"
   ]
  },
  {
   "attachments": {},
   "cell_type": "markdown",
   "metadata": {},
   "source": [
    "The below code is to subset the neural data across FORWARD TRIALS and detect fading ensembles using trials to bin."
   ]
  },
  {
   "cell_type": "code",
   "execution_count": 42,
   "metadata": {},
   "outputs": [
    {
     "name": "stderr",
     "output_type": "stream",
     "text": [
      "  0%|          | 0/5 [00:00<?, ?it/s]/home/austinbaggetta/.conda/envs/calcium/lib/python3.10/site-packages/statsmodels/stats/multitest.py:155: RuntimeWarning: divide by zero encountered in log1p\n",
      "  pvals_corrected = -np.expm1(ntests * np.log1p(-pvals))\n",
      "/home/austinbaggetta/.conda/envs/calcium/lib/python3.10/site-packages/statsmodels/stats/multitest.py:155: RuntimeWarning: divide by zero encountered in log1p\n",
      "  pvals_corrected = -np.expm1(ntests * np.log1p(-pvals))\n",
      " 20%|██        | 1/5 [00:41<02:45, 41.44s/it]\n"
     ]
    },
    {
     "ename": "KeyError",
     "evalue": "'[63014, 63016, 63019, 63021, 63023, 63025, 63027, 63029, 63031, 63034, 63036, 63038, 63040, 63042, 63045, 63047, 63049, 63051, 63053, 63055, 63058, 63060, 63062, 63064, 63067, 63069, 63071, 63074, 63076, 63078, 63080, 63082, 63085, 63087, 63089, 63091, 63094, 63096, 63098, 63100, 63103, 63105, 63107, 63110, 63112, 63114, 63116, 63119, 63121, 63123, 63125, 63127, 63129, 63132, 63134, 63136, 63138, 63140, 63142, 63145, 63147, 63149, 63151, 63153, 63156, 63158, 63160, 63162, 63164, 63167, 63169, 63171, 63173, 63175, 63178, 63180, 63182, 63185, 63188, 63190, 63192, 63195, 63197, 63199, 63201, 63203, 63206, 63208, 63210, 63213, 63215, 63217, 63219, 63222, 63224, 63226, 63228, 63230, 63233, 63235, 63237, 63239, 63241, 63243, 63246, 63248, 63250, 63252, 63257, 63259, 63262, 63266, 63268, 63270, 63272, 63275, 63277, 63279, 63281, 63284, 63286, 63288, 63290, 63293, 63295, 63297, 63300, 63302, 63304, 63306, 63308, 63311, 63313, 63315, 63317, 63319, 63321, 63324, 63326, 63328, 63330, 63332, 63334, 63337, 63339, 63341, 63343, 63346, 63348, 63350, 63353, 63355, 63357, 63359, 63362, 63364, 63366, 63368, 63372, 63374, 63378, 63382, 63385, 63387, 63389, 63391, 63394, 63396, 63398, 63401, 63403, 63405, 63408, 63410, 63413, 63415, 63417, 63419, 63421, 63424, 63426, 63428, 63430, 63433, 63435, 63437, 63439, 63441, 63445, 63447, 63450, 63453, 63455, 63458, 63461, 63465, 63468, 63471, 63473, 63476, 63480, 63482, 63485, 63488, 63490, 63493, 63496, 63500, 63502, 63505, 63508, 63510, 63512, 63514, 63519, 63521, 63523, 63526, 63528, 63530, 63532, 63535, 63537, 63539, 63541, 63543, 63545, 63547, 63550, 63552, 63554, 63556, 63559, 63561, 63563, 63565, 63567, 63569, 63571, 63574, 63576, 63578, 63580, 63582, 63585, 63587, 63589, 63591, 63593, 63595, 63597, 63600, 63602, 63604, 63606, 63608, 63611, 63613, 63615, 63617, 63619, 63621, 63623, 63626, 63628, 63630, 63632, 63635, 63637, 63639, 63641, 63643, 63645, 63649, 63652, 63654, 63656, 63658, 63660, 63663, 63665, 63667, 63669, 63671, 63674, 63676, 63678, 63680, 63682, 63684, 63687, 63689, 63691, 63693, 63696, 63698, 63700, 63702, 63704, 63706, 63708, 63711, 63713, 63715, 63717, 63720, 63722, 63724, 63726, 63729, 63732, 63734, 63737, 63739, 63741, 63743, 63745, 63748, 63750, 63752, 63754, 63756, 63758, 63760, 63763, 63765, 63767, 63769, 63771, 63774, 63776, 63778, 63780, 63782, 63784, 63787, 63790, 63792, 63794, 63796, 63799, 63801, 63803, 63806, 63808, 63810, 63812, 63814, 63817, 63819, 63821, 63824, 63826, 63828, 63831, 63833, 63835, 63838, 63840, 63842, 63844, 63846, 63849, 63851, 63853, 63855, 63858, 63860, 63862, 63865, 63867, 63869, 63871, 63873, 63875, 63878, 63880, 63882, 63885, 63887, 63889, 63892, 63894, 63896, 63898, 63900, 63903, 63905, 63907, 63910, 63912, 63914, 63917, 63919, 63921, 63923, 63925, 63928, 63930, 63932, 63935, 63937, 63939, 63942, 63944, 63946, 63948, 63950, 63953, 63955, 63957, 63959, 63961, 63964, 63966, 63968, 63970, 63972, 63975, 63977, 63979, 63981, 63983, 63985, 63988, 63990, 63992, 63994, 63996, 63999, 64001, 64003, 64006, 64008, 64010, 64012, 64015, 64017, 64019, 64022, 64024, 64028, 64030, 64032, 64034, 64036, 64038, 64041, 64043, 64045, 64047, 64049, 64052, 64054, 64056, 64058, 64060, 64062, 64064, 64067, 64069, 64071, 64073, 64075, 64077, 64080, 64082, 64084, 64086, 64088, 64090, 64093, 64095, 64097, 64099, 64101, 64104, 64106, 64108, 64111, 64113, 64115, 64117, 64120, 64122, 64124, 64126, 64128, 64130, 64133, 64135, 64137, 64140, 64142, 64144, 64146, 64148, 64150, 64153, 64155, 64157, 64159, 64161, 64164, 64166, 64168, 64170, 64172, 64175, 64179, 64181, 64183, 64185, 64187, 64190, 64192, 64194, 64196, 64198, 64200, 64203, 64205, 64207, 64209, 64211, 64213, 64216, 64218, 64220, 64222, 64224, 64226, 64229, 64231, 64233, 64235, 64238, 64240, 64242, 64244, 64247, 64249, 64251, 64253, 64255, 64258, 64260, 64262, 64264, 64267, 64269, 64271, 64273, 64276, 64278, 64280, 64282, 64284, 64287, 64289, 64291, 64294, 64296, 64298, 64300, 64302, 64305, 64307, 64311, 64314, 64316, 64319, 64322, 64325, 64328, 64330, 64333, 64337, 64339, 64342, 64344, 64346, 64349, 64351, 64353, 64355, 64357, 64360, 64362, 64364, 64366, 64369, 64371, 64373, 64376, 64378, 64380, 64382, 64385, 64387, 64389, 64391, 64393, 64395, 64397, 64400, 64402, 64404, 64406, 64408, 64411, 64413, 64415, 64417, 64419, 64421, 64423, 64426, 64428, 64430, 64432, 64435, 64437, 64439, 64441, 64444, 64446, 64448, 64450, 64454, 64456, 64458, 64460, 64463, 64465, 64467, 64469, 64471, 64474, 64476, 64478, 64480, 64482, 64484, 64487, 64489, 64491, 64494, 64496, 64498, 64501, 64503, 64506, 64508, 64511, 64513, 64516, 64518, 64520, 64522, 64524, 64527, 64529, 64531, 64533, 64535, 64538, 64540, 64542, 64544, 64547, 64549, 64551, 64554, 64556, 64558, 64560, 64562, 64564, 64569, 64573, 64575, 64578, 64582, 64585, 64587, 64590, 64592, 64595, 64598, 64601, 64603, 64605, 64607, 64610, 64612, 64614, 64616, 64618, 64621, 64623, 64625, 64627, 64629, 64631, 64633, 64636, 64638, 64640, 64643, 64645, 64647, 64649, 64652, 64655, 64658, 64661, 64664, 64668, 64671, 64673, 64676, 64678, 64682, 64684] not in index'",
     "output_type": "error",
     "traceback": [
      "\u001b[0;31m---------------------------------------------------------------------------\u001b[0m",
      "\u001b[0;31mKeyError\u001b[0m                                  Traceback (most recent call last)",
      "\u001b[1;32m/media/caishuman/csstorage3/Austin/CircleTrack/CircleTrackAnalysis/EnsembleRemodeling_Resubmission/FadingEnsembles_cohort1.ipynb Cell 17\u001b[0m in \u001b[0;36m<cell line: 14>\u001b[0;34m()\u001b[0m\n\u001b[1;32m     <a href='vscode-notebook-cell://ssh-remote%2Bcarbon.hcsm.mssm.edu/media/caishuman/csstorage3/Austin/CircleTrack/CircleTrackAnalysis/EnsembleRemodeling_Resubmission/FadingEnsembles_cohort1.ipynb#X22sdnNjb2RlLXJlbW90ZQ%3D%3D?line=32'>33</a>\u001b[0m behav_file \u001b[39m=\u001b[39m pjoin(behav_path, \u001b[39m'\u001b[39m\u001b[39m{}\u001b[39;00m\u001b[39m_\u001b[39m\u001b[39m{}\u001b[39;00m\u001b[39m.feat\u001b[39m\u001b[39m'\u001b[39m\u001b[39m.\u001b[39mformat(mouse, session))\n\u001b[1;32m     <a href='vscode-notebook-cell://ssh-remote%2Bcarbon.hcsm.mssm.edu/media/caishuman/csstorage3/Austin/CircleTrack/CircleTrackAnalysis/EnsembleRemodeling_Resubmission/FadingEnsembles_cohort1.ipynb#X22sdnNjb2RlLXJlbW90ZQ%3D%3D?line=33'>34</a>\u001b[0m behavior_df \u001b[39m=\u001b[39m pd\u001b[39m.\u001b[39mread_feather(behav_file)\n\u001b[0;32m---> <a href='vscode-notebook-cell://ssh-remote%2Bcarbon.hcsm.mssm.edu/media/caishuman/csstorage3/Austin/CircleTrack/CircleTrackAnalysis/EnsembleRemodeling_Resubmission/FadingEnsembles_cohort1.ipynb#X22sdnNjb2RlLXJlbW90ZQ%3D%3D?line=34'>35</a>\u001b[0m aligned_behavior \u001b[39m=\u001b[39m ctb\u001b[39m.\u001b[39;49malign_behavior_frames(behavior_df, session\u001b[39m=\u001b[39;49m\u001b[39m'\u001b[39;49m\u001b[39m30min\u001b[39;49m\u001b[39m'\u001b[39;49m, sampling_rate\u001b[39m=\u001b[39;49m\u001b[39m1\u001b[39;49m\u001b[39m/\u001b[39;49m\u001b[39m15\u001b[39;49m)\n\u001b[1;32m     <a href='vscode-notebook-cell://ssh-remote%2Bcarbon.hcsm.mssm.edu/media/caishuman/csstorage3/Austin/CircleTrack/CircleTrackAnalysis/EnsembleRemodeling_Resubmission/FadingEnsembles_cohort1.ipynb#X22sdnNjb2RlLXJlbW90ZQ%3D%3D?line=35'>36</a>\u001b[0m \u001b[39m## Ensure that activations and aligned behavior are the same length\u001b[39;00m\n\u001b[1;32m     <a href='vscode-notebook-cell://ssh-remote%2Bcarbon.hcsm.mssm.edu/media/caishuman/csstorage3/Austin/CircleTrack/CircleTrackAnalysis/EnsembleRemodeling_Resubmission/FadingEnsembles_cohort1.ipynb#X22sdnNjb2RlLXJlbW90ZQ%3D%3D?line=36'>37</a>\u001b[0m aligned_behavior \u001b[39m=\u001b[39m ica\u001b[39m.\u001b[39malign_activations_to_behavior(act, aligned_behavior)\n",
      "File \u001b[0;32m/media/caishuman/csstorage3/Austin/CircleTrack/CircleTrackAnalysis/EnsembleRemodeling_Resubmission/../circletrack_behavior.py:439\u001b[0m, in \u001b[0;36malign_behavior_frames\u001b[0;34m(df, session, sampling_rate, plot_frame_usage)\u001b[0m\n\u001b[1;32m    437\u001b[0m arg_mins \u001b[39m=\u001b[39m [np\u001b[39m.\u001b[39mabs(df[\u001b[39m'\u001b[39m\u001b[39mt\u001b[39m\u001b[39m'\u001b[39m] \u001b[39m-\u001b[39m (t))\u001b[39m.\u001b[39margmin() \u001b[39mfor\u001b[39;00m t \u001b[39min\u001b[39;00m time]\n\u001b[1;32m    438\u001b[0m lined_up_timeframes \u001b[39m=\u001b[39m np\u001b[39m.\u001b[39marray(df\u001b[39m.\u001b[39mloc[arg_mins, \u001b[39m'\u001b[39m\u001b[39mframe\u001b[39m\u001b[39m'\u001b[39m])\n\u001b[0;32m--> 439\u001b[0m behavior_df \u001b[39m=\u001b[39m df\u001b[39m.\u001b[39;49mloc[lined_up_timeframes]\n\u001b[1;32m    440\u001b[0m \u001b[39mif\u001b[39;00m plot_frame_usage:\n\u001b[1;32m    441\u001b[0m     duplicated_timeframes \u001b[39m=\u001b[39m np\u001b[39m.\u001b[39munique(lined_up_timeframes, return_counts\u001b[39m=\u001b[39m\u001b[39mTrue\u001b[39;00m)\n",
      "File \u001b[0;32m~/.conda/envs/calcium/lib/python3.10/site-packages/pandas/core/indexing.py:967\u001b[0m, in \u001b[0;36m_LocationIndexer.__getitem__\u001b[0;34m(self, key)\u001b[0m\n\u001b[1;32m    964\u001b[0m axis \u001b[39m=\u001b[39m \u001b[39mself\u001b[39m\u001b[39m.\u001b[39maxis \u001b[39mor\u001b[39;00m \u001b[39m0\u001b[39m\n\u001b[1;32m    966\u001b[0m maybe_callable \u001b[39m=\u001b[39m com\u001b[39m.\u001b[39mapply_if_callable(key, \u001b[39mself\u001b[39m\u001b[39m.\u001b[39mobj)\n\u001b[0;32m--> 967\u001b[0m \u001b[39mreturn\u001b[39;00m \u001b[39mself\u001b[39;49m\u001b[39m.\u001b[39;49m_getitem_axis(maybe_callable, axis\u001b[39m=\u001b[39;49maxis)\n",
      "File \u001b[0;32m~/.conda/envs/calcium/lib/python3.10/site-packages/pandas/core/indexing.py:1191\u001b[0m, in \u001b[0;36m_LocIndexer._getitem_axis\u001b[0;34m(self, key, axis)\u001b[0m\n\u001b[1;32m   1188\u001b[0m     \u001b[39mif\u001b[39;00m \u001b[39mhasattr\u001b[39m(key, \u001b[39m\"\u001b[39m\u001b[39mndim\u001b[39m\u001b[39m\"\u001b[39m) \u001b[39mand\u001b[39;00m key\u001b[39m.\u001b[39mndim \u001b[39m>\u001b[39m \u001b[39m1\u001b[39m:\n\u001b[1;32m   1189\u001b[0m         \u001b[39mraise\u001b[39;00m \u001b[39mValueError\u001b[39;00m(\u001b[39m\"\u001b[39m\u001b[39mCannot index with multidimensional key\u001b[39m\u001b[39m\"\u001b[39m)\n\u001b[0;32m-> 1191\u001b[0m     \u001b[39mreturn\u001b[39;00m \u001b[39mself\u001b[39;49m\u001b[39m.\u001b[39;49m_getitem_iterable(key, axis\u001b[39m=\u001b[39;49maxis)\n\u001b[1;32m   1193\u001b[0m \u001b[39m# nested tuple slicing\u001b[39;00m\n\u001b[1;32m   1194\u001b[0m \u001b[39mif\u001b[39;00m is_nested_tuple(key, labels):\n",
      "File \u001b[0;32m~/.conda/envs/calcium/lib/python3.10/site-packages/pandas/core/indexing.py:1132\u001b[0m, in \u001b[0;36m_LocIndexer._getitem_iterable\u001b[0;34m(self, key, axis)\u001b[0m\n\u001b[1;32m   1129\u001b[0m \u001b[39mself\u001b[39m\u001b[39m.\u001b[39m_validate_key(key, axis)\n\u001b[1;32m   1131\u001b[0m \u001b[39m# A collection of keys\u001b[39;00m\n\u001b[0;32m-> 1132\u001b[0m keyarr, indexer \u001b[39m=\u001b[39m \u001b[39mself\u001b[39;49m\u001b[39m.\u001b[39;49m_get_listlike_indexer(key, axis)\n\u001b[1;32m   1133\u001b[0m \u001b[39mreturn\u001b[39;00m \u001b[39mself\u001b[39m\u001b[39m.\u001b[39mobj\u001b[39m.\u001b[39m_reindex_with_indexers(\n\u001b[1;32m   1134\u001b[0m     {axis: [keyarr, indexer]}, copy\u001b[39m=\u001b[39m\u001b[39mTrue\u001b[39;00m, allow_dups\u001b[39m=\u001b[39m\u001b[39mTrue\u001b[39;00m\n\u001b[1;32m   1135\u001b[0m )\n",
      "File \u001b[0;32m~/.conda/envs/calcium/lib/python3.10/site-packages/pandas/core/indexing.py:1327\u001b[0m, in \u001b[0;36m_LocIndexer._get_listlike_indexer\u001b[0;34m(self, key, axis)\u001b[0m\n\u001b[1;32m   1324\u001b[0m ax \u001b[39m=\u001b[39m \u001b[39mself\u001b[39m\u001b[39m.\u001b[39mobj\u001b[39m.\u001b[39m_get_axis(axis)\n\u001b[1;32m   1325\u001b[0m axis_name \u001b[39m=\u001b[39m \u001b[39mself\u001b[39m\u001b[39m.\u001b[39mobj\u001b[39m.\u001b[39m_get_axis_name(axis)\n\u001b[0;32m-> 1327\u001b[0m keyarr, indexer \u001b[39m=\u001b[39m ax\u001b[39m.\u001b[39;49m_get_indexer_strict(key, axis_name)\n\u001b[1;32m   1329\u001b[0m \u001b[39mreturn\u001b[39;00m keyarr, indexer\n",
      "File \u001b[0;32m~/.conda/envs/calcium/lib/python3.10/site-packages/pandas/core/indexes/base.py:5782\u001b[0m, in \u001b[0;36mIndex._get_indexer_strict\u001b[0;34m(self, key, axis_name)\u001b[0m\n\u001b[1;32m   5779\u001b[0m \u001b[39melse\u001b[39;00m:\n\u001b[1;32m   5780\u001b[0m     keyarr, indexer, new_indexer \u001b[39m=\u001b[39m \u001b[39mself\u001b[39m\u001b[39m.\u001b[39m_reindex_non_unique(keyarr)\n\u001b[0;32m-> 5782\u001b[0m \u001b[39mself\u001b[39;49m\u001b[39m.\u001b[39;49m_raise_if_missing(keyarr, indexer, axis_name)\n\u001b[1;32m   5784\u001b[0m keyarr \u001b[39m=\u001b[39m \u001b[39mself\u001b[39m\u001b[39m.\u001b[39mtake(indexer)\n\u001b[1;32m   5785\u001b[0m \u001b[39mif\u001b[39;00m \u001b[39misinstance\u001b[39m(key, Index):\n\u001b[1;32m   5786\u001b[0m     \u001b[39m# GH 42790 - Preserve name from an Index\u001b[39;00m\n",
      "File \u001b[0;32m~/.conda/envs/calcium/lib/python3.10/site-packages/pandas/core/indexes/base.py:5845\u001b[0m, in \u001b[0;36mIndex._raise_if_missing\u001b[0;34m(self, key, indexer, axis_name)\u001b[0m\n\u001b[1;32m   5842\u001b[0m     \u001b[39mraise\u001b[39;00m \u001b[39mKeyError\u001b[39;00m(\u001b[39mf\u001b[39m\u001b[39m\"\u001b[39m\u001b[39mNone of [\u001b[39m\u001b[39m{\u001b[39;00mkey\u001b[39m}\u001b[39;00m\u001b[39m] are in the [\u001b[39m\u001b[39m{\u001b[39;00maxis_name\u001b[39m}\u001b[39;00m\u001b[39m]\u001b[39m\u001b[39m\"\u001b[39m)\n\u001b[1;32m   5844\u001b[0m not_found \u001b[39m=\u001b[39m \u001b[39mlist\u001b[39m(ensure_index(key)[missing_mask\u001b[39m.\u001b[39mnonzero()[\u001b[39m0\u001b[39m]]\u001b[39m.\u001b[39munique())\n\u001b[0;32m-> 5845\u001b[0m \u001b[39mraise\u001b[39;00m \u001b[39mKeyError\u001b[39;00m(\u001b[39mf\u001b[39m\u001b[39m\"\u001b[39m\u001b[39m{\u001b[39;00mnot_found\u001b[39m}\u001b[39;00m\u001b[39m not in index\u001b[39m\u001b[39m\"\u001b[39m)\n",
      "\u001b[0;31mKeyError\u001b[0m: '[63014, 63016, 63019, 63021, 63023, 63025, 63027, 63029, 63031, 63034, 63036, 63038, 63040, 63042, 63045, 63047, 63049, 63051, 63053, 63055, 63058, 63060, 63062, 63064, 63067, 63069, 63071, 63074, 63076, 63078, 63080, 63082, 63085, 63087, 63089, 63091, 63094, 63096, 63098, 63100, 63103, 63105, 63107, 63110, 63112, 63114, 63116, 63119, 63121, 63123, 63125, 63127, 63129, 63132, 63134, 63136, 63138, 63140, 63142, 63145, 63147, 63149, 63151, 63153, 63156, 63158, 63160, 63162, 63164, 63167, 63169, 63171, 63173, 63175, 63178, 63180, 63182, 63185, 63188, 63190, 63192, 63195, 63197, 63199, 63201, 63203, 63206, 63208, 63210, 63213, 63215, 63217, 63219, 63222, 63224, 63226, 63228, 63230, 63233, 63235, 63237, 63239, 63241, 63243, 63246, 63248, 63250, 63252, 63257, 63259, 63262, 63266, 63268, 63270, 63272, 63275, 63277, 63279, 63281, 63284, 63286, 63288, 63290, 63293, 63295, 63297, 63300, 63302, 63304, 63306, 63308, 63311, 63313, 63315, 63317, 63319, 63321, 63324, 63326, 63328, 63330, 63332, 63334, 63337, 63339, 63341, 63343, 63346, 63348, 63350, 63353, 63355, 63357, 63359, 63362, 63364, 63366, 63368, 63372, 63374, 63378, 63382, 63385, 63387, 63389, 63391, 63394, 63396, 63398, 63401, 63403, 63405, 63408, 63410, 63413, 63415, 63417, 63419, 63421, 63424, 63426, 63428, 63430, 63433, 63435, 63437, 63439, 63441, 63445, 63447, 63450, 63453, 63455, 63458, 63461, 63465, 63468, 63471, 63473, 63476, 63480, 63482, 63485, 63488, 63490, 63493, 63496, 63500, 63502, 63505, 63508, 63510, 63512, 63514, 63519, 63521, 63523, 63526, 63528, 63530, 63532, 63535, 63537, 63539, 63541, 63543, 63545, 63547, 63550, 63552, 63554, 63556, 63559, 63561, 63563, 63565, 63567, 63569, 63571, 63574, 63576, 63578, 63580, 63582, 63585, 63587, 63589, 63591, 63593, 63595, 63597, 63600, 63602, 63604, 63606, 63608, 63611, 63613, 63615, 63617, 63619, 63621, 63623, 63626, 63628, 63630, 63632, 63635, 63637, 63639, 63641, 63643, 63645, 63649, 63652, 63654, 63656, 63658, 63660, 63663, 63665, 63667, 63669, 63671, 63674, 63676, 63678, 63680, 63682, 63684, 63687, 63689, 63691, 63693, 63696, 63698, 63700, 63702, 63704, 63706, 63708, 63711, 63713, 63715, 63717, 63720, 63722, 63724, 63726, 63729, 63732, 63734, 63737, 63739, 63741, 63743, 63745, 63748, 63750, 63752, 63754, 63756, 63758, 63760, 63763, 63765, 63767, 63769, 63771, 63774, 63776, 63778, 63780, 63782, 63784, 63787, 63790, 63792, 63794, 63796, 63799, 63801, 63803, 63806, 63808, 63810, 63812, 63814, 63817, 63819, 63821, 63824, 63826, 63828, 63831, 63833, 63835, 63838, 63840, 63842, 63844, 63846, 63849, 63851, 63853, 63855, 63858, 63860, 63862, 63865, 63867, 63869, 63871, 63873, 63875, 63878, 63880, 63882, 63885, 63887, 63889, 63892, 63894, 63896, 63898, 63900, 63903, 63905, 63907, 63910, 63912, 63914, 63917, 63919, 63921, 63923, 63925, 63928, 63930, 63932, 63935, 63937, 63939, 63942, 63944, 63946, 63948, 63950, 63953, 63955, 63957, 63959, 63961, 63964, 63966, 63968, 63970, 63972, 63975, 63977, 63979, 63981, 63983, 63985, 63988, 63990, 63992, 63994, 63996, 63999, 64001, 64003, 64006, 64008, 64010, 64012, 64015, 64017, 64019, 64022, 64024, 64028, 64030, 64032, 64034, 64036, 64038, 64041, 64043, 64045, 64047, 64049, 64052, 64054, 64056, 64058, 64060, 64062, 64064, 64067, 64069, 64071, 64073, 64075, 64077, 64080, 64082, 64084, 64086, 64088, 64090, 64093, 64095, 64097, 64099, 64101, 64104, 64106, 64108, 64111, 64113, 64115, 64117, 64120, 64122, 64124, 64126, 64128, 64130, 64133, 64135, 64137, 64140, 64142, 64144, 64146, 64148, 64150, 64153, 64155, 64157, 64159, 64161, 64164, 64166, 64168, 64170, 64172, 64175, 64179, 64181, 64183, 64185, 64187, 64190, 64192, 64194, 64196, 64198, 64200, 64203, 64205, 64207, 64209, 64211, 64213, 64216, 64218, 64220, 64222, 64224, 64226, 64229, 64231, 64233, 64235, 64238, 64240, 64242, 64244, 64247, 64249, 64251, 64253, 64255, 64258, 64260, 64262, 64264, 64267, 64269, 64271, 64273, 64276, 64278, 64280, 64282, 64284, 64287, 64289, 64291, 64294, 64296, 64298, 64300, 64302, 64305, 64307, 64311, 64314, 64316, 64319, 64322, 64325, 64328, 64330, 64333, 64337, 64339, 64342, 64344, 64346, 64349, 64351, 64353, 64355, 64357, 64360, 64362, 64364, 64366, 64369, 64371, 64373, 64376, 64378, 64380, 64382, 64385, 64387, 64389, 64391, 64393, 64395, 64397, 64400, 64402, 64404, 64406, 64408, 64411, 64413, 64415, 64417, 64419, 64421, 64423, 64426, 64428, 64430, 64432, 64435, 64437, 64439, 64441, 64444, 64446, 64448, 64450, 64454, 64456, 64458, 64460, 64463, 64465, 64467, 64469, 64471, 64474, 64476, 64478, 64480, 64482, 64484, 64487, 64489, 64491, 64494, 64496, 64498, 64501, 64503, 64506, 64508, 64511, 64513, 64516, 64518, 64520, 64522, 64524, 64527, 64529, 64531, 64533, 64535, 64538, 64540, 64542, 64544, 64547, 64549, 64551, 64554, 64556, 64558, 64560, 64562, 64564, 64569, 64573, 64575, 64578, 64582, 64585, 64587, 64590, 64592, 64595, 64598, 64601, 64603, 64605, 64607, 64610, 64612, 64614, 64616, 64618, 64621, 64623, 64625, 64627, 64629, 64631, 64633, 64636, 64638, 64640, 64643, 64645, 64647, 64649, 64652, 64655, 64658, 64661, 64664, 64668, 64671, 64673, 64676, 64678, 64682, 64684] not in index'"
     ]
    }
   ],
   "source": [
    "## Set mouse list, path, and z_thresh for binarization\n",
    "mouse_list = ['mc03', 'mc06', 'mc07', 'mc09', 'mc11'] \n",
    "across_time = False\n",
    "analysis_type = 'max'\n",
    "alpha_old = 0.05\n",
    "## Create empty dictionaries\n",
    "mouse_trends = {}\n",
    "mouse_binned_activations = {}\n",
    "mouse_slopes = {}\n",
    "mouse_taus = {}\n",
    "mouse_ensembles = {}\n",
    "mouse_trial_times = {}\n",
    "## Loop through each mouse\n",
    "for mouse in tqdm(mouse_list):\n",
    "    ## Create empty dictionaries to store output\n",
    "    determined_trends = {}\n",
    "    binned_activations_dict = {}\n",
    "    slopes_dict = {}\n",
    "    tau_dict = {}\n",
    "    trial_times = {}\n",
    "    ensemble_path = '../../EnsembleRemodeling_Resubmission/circletrack_data/assemblies'\n",
    "    behav_path = '../../EnsembleRemodeling_Resubmission/circletrack_data/output/behav'  \n",
    "    behav_path = pjoin(behav_path, '{}'.format(mouse))\n",
    "    ensemble_path = pjoin(ensemble_path, '{}'.format(mouse))\n",
    "    ## Load assemblies\n",
    "    for session in session_dict[mouse]:\n",
    "        ## Load specific session's assemblies\n",
    "        assemblies = ica.load_session_assemblies(mouse, ensemble_path, session)\n",
    "        ## Set activation values as act\n",
    "        act = assemblies.activations.values\n",
    "        ## Load a specific session's behavior data\n",
    "        if not across_time:\n",
    "            behav_file = pjoin(behav_path, '{}_{}.feat'.format(mouse, session))\n",
    "            behavior_df = pd.read_feather(behav_file)\n",
    "            aligned_behavior = ctb.align_behavior_frames(behavior_df, session='30min', sampling_rate=1/15)\n",
    "            ## Ensure that activations and aligned behavior are the same length\n",
    "            aligned_behavior = ica.align_activations_to_behavior(act, aligned_behavior)\n",
    "            ## Get which timestamps are part of which trial for the aligned behavior data\n",
    "            trials = aligned_behavior.trials\n",
    "            ## Get length of time for each trial\n",
    "            time_diff = []\n",
    "            for trial in np.unique(trials):\n",
    "                ## Subset aligned_behavior by a given trial\n",
    "                behavior = aligned_behavior.loc[trials == trial]\n",
    "                ## Get the first and last timestamp to determine the window\n",
    "                first_timestamp, last_timestamp = behavior.t.to_numpy()[0], behavior.t.to_numpy()[-1]\n",
    "                ## Convert from ms to s\n",
    "                first_timestamp = first_timestamp\n",
    "                last_timestamp = last_timestamp\n",
    "                ## Append to time_diff list\n",
    "                time_diff.append(last_timestamp - first_timestamp)\n",
    "            trial_times[session] = time_diff\n",
    "        ## This is where the data gets binned either by even time intervals or by trials\n",
    "        if across_time:\n",
    "          trends, binned_activations, slopes, tau = ica.define_ensemble_trends_across_time(act, z_threshold = None, x_bin_size = x_bin_size, analysis_type = analysis_type, \n",
    "                                                                                           zscored = True, alpha_old = alpha_old)  \n",
    "        else:\n",
    "            ## Define ensemble trends across trials to determine if activation strength is increasing/decreasing across the session\n",
    "            trends, binned_activations, slopes, tau = ica.define_ensemble_trends_across_trials(act, aligned_behavior, trials, trial_type = 'all', \n",
    "                                                                                               z_threshold = None, alpha_old = alpha_old, analysis_type = analysis_type)\n",
    "        ## Save to dictionaries\n",
    "        determined_trends[session] = trends\n",
    "        binned_activations_dict[session] = binned_activations\n",
    "        slopes_dict[session] = slopes\n",
    "        tau_dict[session] = tau\n",
    "    ## Determine the proportion of ensembles that are increasing, decreasing, or have no trend based on their activation strength across time\n",
    "    proportion_dict = ica.calculate_proportions_ensembles(determined_trends)\n",
    "    ## Save to mouse dictionaries before looping to the next mouse\n",
    "    mouse_trends[mouse] = proportion_dict\n",
    "    mouse_binned_activations[mouse] = binned_activations_dict\n",
    "    mouse_slopes[mouse] = slopes_dict\n",
    "    mouse_taus[mouse] = tau_dict\n",
    "    mouse_ensembles[mouse] = determined_trends\n",
    "    mouse_trial_times[mouse] = trial_times"
   ]
  },
  {
   "cell_type": "code",
   "execution_count": 44,
   "metadata": {},
   "outputs": [
    {
     "data": {
      "text/plain": [
       "array([    1,     3,     5, ..., 64678, 64682, 64684])"
      ]
     },
     "execution_count": 44,
     "metadata": {},
     "output_type": "execute_result"
    }
   ],
   "source": [
    "behavior_df\n",
    "arg_mins = [np.abs(behavior_df['t'] - (t)).argmin() for t in time]\n",
    "lined_up_timeframes = np.array(behavior_df.loc[arg_mins, 'frame']) \n",
    "lined_up_timeframes"
   ]
  },
  {
   "cell_type": "code",
   "execution_count": 61,
   "metadata": {},
   "outputs": [],
   "source": [
    "rewards = behavior_df.loc[behavior_df['water'] == True]\n",
    "reward_one, reward_two = np.unique(rewards['lick_port'])[0], np.unique(rewards['lick_port'])[1]"
   ]
  },
  {
   "cell_type": "code",
   "execution_count": 64,
   "metadata": {},
   "outputs": [
    {
     "data": {
      "text/plain": [
       "5"
      ]
     },
     "execution_count": 64,
     "metadata": {},
     "output_type": "execute_result"
    }
   ],
   "source": [
    "reward_two"
   ]
  },
  {
   "cell_type": "code",
   "execution_count": null,
   "metadata": {},
   "outputs": [],
   "source": [
    "## Plot peak activation of a fading ensemble\n",
    "activations = mouse_binned_activations['mc09']['Reversal1']\n",
    "ensemble_number = 1\n",
    "fig = pf.plot_activation_strength(activations, ensemble_number = ensemble_number, figure_path = figure_path, x_bin_size = None,\n",
    "                                  title = 'Fading Ensemble', y_title = 'Max Z Score', x_title = 'Trials', \n",
    "                                  file_name = 'max_strength_fading_forward_trials.png'.format(x_bin_size), marker_color = 'red')"
   ]
  },
  {
   "cell_type": "code",
   "execution_count": null,
   "metadata": {},
   "outputs": [],
   "source": [
    "## Plot peak activation of an increasing ensemble\n",
    "activations = mouse_binned_activations['mc09']['Reversal1']\n",
    "ensemble_number = 57\n",
    "fig = pf.plot_activation_strength(activations, ensemble_number = ensemble_number, figure_path = figure_path, x_bin_size = None,\n",
    "                                  title = 'Increasing Ensemble', y_title = 'Max Z Score', x_title = 'Trials', \n",
    "                                  file_name = 'max_strength_increasing_forward_trials.png'.format(x_bin_size), marker_color = 'turquoise')"
   ]
  },
  {
   "cell_type": "code",
   "execution_count": null,
   "metadata": {},
   "outputs": [],
   "source": [
    "## Plot peak activation of a no-trend ensemble\n",
    "activations = mouse_binned_activations['mc09']['Reversal1']\n",
    "ensemble_number = 28\n",
    "fig = pf.plot_activation_strength(activations, ensemble_number = ensemble_number, figure_path = figure_path, x_bin_size = None,\n",
    "                                  title = 'No Trend Ensemble', y_title = 'Max Z Score', x_title = 'Trials', \n",
    "                                  file_name = 'max_strength_notrend_forward_trials.png'.format(x_bin_size), marker_color = 'darkgrey')"
   ]
  },
  {
   "cell_type": "code",
   "execution_count": null,
   "metadata": {},
   "outputs": [],
   "source": [
    "## Get proportion decreasing values\n",
    "prop_decreasing_T4 = []\n",
    "prop_decreasing_R1 = []\n",
    "mouse_name = []\n",
    "for key in mouse_trends:\n",
    "    prop_decreasing_T4.append(mouse_trends[key]['Training4']['prop_decreasing'])\n",
    "    prop_decreasing_R1.append(mouse_trends[key]['Reversal1']['prop_decreasing'])\n",
    "    mouse_name.append(key)\n",
    "prop_df = pd.DataFrame({'Mouse': mouse_name, 'Training4': prop_decreasing_T4, 'Reversal1': prop_decreasing_R1})\n",
    "## Plot prop_df\n",
    "x = ['Training4', 'Reversal1']\n",
    "avgs = [prop_df.Training4.mean(), prop_df.Reversal1.mean()]\n",
    "sem = [prop_df.Training4.sem(), prop_df.Reversal1.sem()]\n",
    "fig = go.Figure(data = go.Bar(x = x, y = avgs, error_y = dict(type = 'data', array = sem), showlegend = False))\n",
    "for row in prop_df.index:\n",
    "    data = prop_df.loc[row]\n",
    "    fig.add_trace(go.Scatter(x = x, y = [data.Training4, data.Reversal1], mode = 'lines', line_color = 'grey', showlegend = False,\n",
    "                             line = dict(width = 1), name = prop_df.loc[row, 'Mouse']))\n",
    "fig.update_layout(template = 'simple_white', width = 500, height = 500)\n",
    "fig.update_layout(\n",
    "    title={\n",
    "        'text': 'Fading Ensembles by Forward Trials',\n",
    "        'y':0.9,\n",
    "        'x':0.5,\n",
    "        'xanchor': 'center',\n",
    "        'yanchor': 'top'})\n",
    "fig.update_yaxes(title = 'Proportion Fading Ensembles')\n",
    "fig.update_traces(marker_color = 'red', marker_line_color = 'black', marker_line_width = 2)\n",
    "fig.show()\n",
    "# fig.write_image(pjoin(figure_path, 'proportion_fading_trials_max.png'))"
   ]
  },
  {
   "cell_type": "code",
   "execution_count": null,
   "metadata": {},
   "outputs": [],
   "source": [
    "wilcoxon_result = wilcoxon(x = prop_df.Training4, y = prop_df.Reversal1, method = 'approx')\n",
    "wilcoxon_result"
   ]
  },
  {
   "cell_type": "code",
   "execution_count": null,
   "metadata": {},
   "outputs": [],
   "source": [
    "## Get proportion fading ensembles for last day, since some mice went back to Training reward port contingencies\n",
    "training_group = []\n",
    "reversal_group = []\n",
    "mice_training = ['mc06', 'mc09']\n",
    "mice_reversal = ['mc03', 'mc07']\n",
    "for mouse in mice_training:\n",
    "    training_group.append(mouse_trends[mouse]['Training_Reversal']['prop_decreasing'])\n",
    "for mouse in mice_reversal:\n",
    "    reversal_group.append(mouse_trends[mouse]['Training_Reversal']['prop_decreasing'])\n",
    "## Create dataframe\n",
    "df = pd.DataFrame({'Training_Contingency': training_group, 'Reversal_Contingency': reversal_group})\n",
    "avgs = [df.Training_Contingency.mean(), df.Reversal_Contingency.mean()]\n",
    "sem = [df.Training_Contingency.sem(), df.Reversal_Contingency.sem()]\n",
    "## Plot figure\n",
    "x = ['Training Contingency', 'Reversal Contingency']\n",
    "fig = go.Figure(data = go.Bar(x = x, y = avgs, error_y = dict(type = 'data', array = sem)))\n",
    "fig.update_layout(template = 'simple_white', width = 500, height = 500)\n",
    "fig.update_layout(\n",
    "    title={\n",
    "        'text': 'Fading Ensembles by Forward Trials',\n",
    "        'y':0.9,\n",
    "        'x':0.5,\n",
    "        'xanchor': 'center',\n",
    "        'yanchor': 'top'})\n",
    "fig.update_yaxes(title = 'Proportion Fading Ensembles')\n",
    "fig.update_traces(marker_color = 'red', marker_line_color = 'black', marker_line_width = 2)\n",
    "fig.show()\n",
    "fig.write_image(pjoin(figure_path, 'proportion_fading_last_day_trials.png'))"
   ]
  },
  {
   "cell_type": "code",
   "execution_count": null,
   "metadata": {},
   "outputs": [],
   "source": [
    "## Plot fading ensembles across all sessions\n",
    "## Create empty dictionary\n",
    "trends_dict = {}\n",
    "## Loop through mouse_trends and extract the proportion of fading ensembles for each session (Training1, Training2, etc)\n",
    "for key in mouse_trends:\n",
    "    fading_ensembles = []\n",
    "    for session in mouse_trends[key]:\n",
    "        fading_ensembles.append(mouse_trends[key][session]['prop_decreasing'])\n",
    "    trends_dict[key] = fading_ensembles\n",
    "## Add in NaN values for days that are missing for mc03\n",
    "trends_dict['mc03'][5] = np.nan\n",
    "trends_dict['mc03'][6] = np.nan\n",
    "trends_dict['mc03'].append(0.0) ## value for proportion of fading ensembles on Reversal4\n",
    "trends_dict['mc03'].append(0.0) ## value for proportion of fading ensembles on Training_Reversal\n",
    "## Plot values for each mouse\n",
    "fig = go.Figure()\n",
    "x_axis = session_list\n",
    "for key in trends_dict:\n",
    "    fig.add_trace(go.Scatter(x = x_axis, y = trends_dict[key], name = key))\n",
    "fig.update_layout(template = 'simple_white', height = 500, width = 500)\n",
    "fig.update_layout(\n",
    "    title={\n",
    "        'text': 'Fading Ensemble Proportion Across Sessions',\n",
    "        'y':0.9,\n",
    "        'x':0.5,\n",
    "        'xanchor': 'center',\n",
    "        'yanchor': 'top'})\n",
    "fig.update_yaxes(title = 'Proportion Fading Ensembles')\n",
    "fig.show()\n",
    "fig.write_image(pjoin(figure_path, 'all_sessions_trials.png'))"
   ]
  },
  {
   "attachments": {},
   "cell_type": "markdown",
   "metadata": {},
   "source": [
    "Correlate correct rejection rate with proportion of fading ensembles."
   ]
  },
  {
   "cell_type": "code",
   "execution_count": null,
   "metadata": {},
   "outputs": [],
   "source": [
    "## Set relative path variable for circletrack behavior data\n",
    "path = pjoin(behavior_path, 'Data/**/**/**/circle_track.csv')\n",
    "## Set str2match variable (regex for mouse name)\n",
    "str2match = '(mc[0-9]+)'\n",
    "## Create list of files\n",
    "file_list = ctb.get_file_list(path)\n",
    "## Loop through file_list to extract mouse name\n",
    "mouseID = []\n",
    "for file in file_list:\n",
    "    mouse = ctb.get_mouse(file, str2match)\n",
    "    mouseID.append(mouse)\n",
    "## Combine file_list and mouseID\n",
    "combined_list = ctb.combine(file_list, mouseID)\n",
    "## dprime across all mice and all sessions\n",
    "mouse_list = ['mc03', 'mc06', 'mc07', 'mc09', 'mc11']\n",
    "bin_size = 1\n",
    "mouse_signal_data = {}\n",
    "mouse_agg_data = {}\n",
    "mouse_signal_forward = {}\n",
    "mouse_agg_forward = {}\n",
    "mouse_trial_times = {}\n",
    "for mouse in mouse_list:\n",
    "    files = ctb.subset_combined(combined_list, mouse)\n",
    "    signal_dict_all = {}\n",
    "    signal_dict_forward = {}\n",
    "    agg_dict_all = {}\n",
    "    agg_dict_forward = {}\n",
    "    trial_length_session = {}\n",
    "    for path in files:\n",
    "        ## Extract date\n",
    "        date = re.search('(2022_[0-9]+_[0-9]+)', path).group()\n",
    "        ## Load circle track data\n",
    "        circle_track = pd.read_csv(path)\n",
    "        ## Get which ports are the reward ports\n",
    "        reward_one, reward_two = ctb.get_rewarding_ports(circle_track)\n",
    "        ## Normalize timestamps and crop data\n",
    "        circle_track = ctb.normalize_timestamp(circle_track)\n",
    "        circle_track = ctb.crop_data(circle_track)\n",
    "        ## Align behavior data\n",
    "        aligned_behavior = ctb.load_and_align_behavior(behavior_path, mouse, date, session = '30min', plot_frame_usage = False)\n",
    "        ## Get timestamps where mouse licked (replaces REWARD with LICK)\n",
    "        lick_tmp = ctb.get_licks(circle_track)\n",
    "        ## Calculate trials, label each frame as a specific trial\n",
    "        trials = ctb.get_trials(aligned_behavior, shift_factor = 0, angle_type = 'radians', counterclockwise = True)\n",
    "        ## Calculate forward and reverse trials\n",
    "        forward_trials, reverse_trials = ctb.forward_reverse_trials(aligned_behavior, trials, positive_jump = 350, wiggle = 3)\n",
    "        ## Label each frame in aligned_behavior with a trial\n",
    "        aligned_behavior.insert(1, 'trial', trials)\n",
    "        ## Calculate trial times\n",
    "        trial_length_dict = ctb.calculate_trial_times(aligned_behavior, forward_trials)\n",
    "        ## Label lick data with what trial those licks occurred during\n",
    "        lick_data = ctb.label_lick_trials(aligned_behavior, lick_tmp, trials)\n",
    "        ## Calculate dprime, CR, FA, hits, misses for each trial\n",
    "        signal_all = ctb.dprime_metrics(lick_data, trials, reward_one, reward_two)\n",
    "        ## Calculate for only trials in the correct direction\n",
    "        signal_forward = ctb.dprime_metrics(lick_data, forward_trials, reward_one, reward_two, reward_index = 'one')\n",
    "        ## Aggregate data every 5 trials\n",
    "        agg_data = ctb.aggregate_metrics(signal_all, bin_size = bin_size)\n",
    "        ## Aggregate data over forward trials\n",
    "        agg_data_forward = ctb.aggregate_metrics(signal_forward, bin_size = bin_size)\n",
    "        ## Append to dictionaries\n",
    "        signal_dict_all[date] = signal_all\n",
    "        signal_dict_forward[date] = signal_forward\n",
    "        agg_dict_all[date] = agg_data\n",
    "        agg_dict_forward[date] = agg_data_forward\n",
    "        trial_length_session[date] = trial_length_dict\n",
    "    ## Append to mouse dictionaries\n",
    "    mouse_signal_data[mouse] = signal_dict_all\n",
    "    mouse_signal_forward[mouse] = signal_dict_forward\n",
    "    mouse_agg_data[mouse] = agg_dict_all\n",
    "    mouse_agg_forward[mouse] = mouse_agg_forward\n",
    "    mouse_trial_times[mouse] = trial_length_session"
   ]
  },
  {
   "cell_type": "code",
   "execution_count": null,
   "metadata": {},
   "outputs": [],
   "source": [
    "## Create a scatter plot of trial length vs dprime\n",
    "mouse_df = pd.DataFrame()\n",
    "for mouse in mouse_list:\n",
    "    combined_df = pd.DataFrame()\n",
    "    for date in mouse_signal_forward[mouse]:\n",
    "        df_trials = pd.DataFrame(mouse_trial_times[mouse][date])\n",
    "        df_signal = pd.DataFrame(mouse_signal_forward[mouse][date])\n",
    "        combined_df = pd.concat([df_trials, df_signal], axis = 1)\n",
    "        combined_df.insert(7, 'mouse', mouse)\n",
    "        combined_df.insert(8, 'session', date)\n",
    "        mouse_df = pd.concat([mouse_df, combined_df])"
   ]
  },
  {
   "cell_type": "code",
   "execution_count": null,
   "metadata": {},
   "outputs": [],
   "source": [
    "mouse_df"
   ]
  },
  {
   "cell_type": "code",
   "execution_count": null,
   "metadata": {},
   "outputs": [],
   "source": [
    "fig = pf.custom_graph_template('', x_title = \"Trial d'\", y_title = \"Trial Length (s)\")\n",
    "fig.add_trace(go.Scatter(x = mouse_df['dprime'], y = mouse_df['trial_length'], mode = 'markers'))\n",
    "fig.show()\n",
    "fig.write_image(pjoin(figure_path, 'dprime_vs_triallength_cohort1.png'))"
   ]
  },
  {
   "cell_type": "code",
   "execution_count": null,
   "metadata": {},
   "outputs": [],
   "source": [
    "## Plot Correct Rejection Rate values across all sessions\n",
    "mouse_cr = {}\n",
    "for mouse in mouse_signal_forward:\n",
    "    cr_values = {}\n",
    "    for date in mouse_signal_forward[mouse]:\n",
    "        cr_values[date] = np.nanmean(mouse_signal_forward[mouse][date]['CR'])\n",
    "    mouse_cr[mouse] = cr_values\n",
    "## For mc03, the dates are in a strange order, so reorder the keys\n",
    "desired_ordered_list = ['2022_09_29', '2022_09_30', '2022_10_01', '2022_10_02', '2022_10_03', '2022_10_04', '2022_10_06', '2022_10_07']\n",
    "mouse_cr['mc03'] = {k: mouse_cr['mc03'][k] for k in desired_ordered_list}\n",
    "## Turn into a dataframe\n",
    "cr_df = pd.DataFrame()\n",
    "for i, mouse in enumerate(mouse_cr):\n",
    "    data = pd.DataFrame(mouse_cr[mouse], index = [i])\n",
    "    cr_df = pd.concat([cr_df, data])\n",
    "## Reorder columns\n",
    "columns = ['2022_09_29', '2022_09_30', '2022_10_01', '2022_10_02', '2022_10_03', '2022_10_04', '2022_10_05', '2022_10_06', '2022_10_07']\n",
    "cr_df = cr_df[columns]\n",
    "## Rename columns\n",
    "cr_df = cr_df.rename(columns = {'2022_09_29': 'Training1', '2022_09_30': 'Training2', '2022_10_01': 'Training3', '2022_10_02': 'Training4', \n",
    "                                '2022_10_03': 'Reversal1', '2022_10_04': 'Reversal2', '2022_10_05': 'Reversal3', '2022_10_06': 'Reversal4', '2022_10_07': 'Training_Reversal'})\n",
    "## Insert mice into df\n",
    "cr_df.insert(0, 'mouse', mouse_list)\n",
    "## Rename columns proportion fading ensembles df to insert into cr_df\n",
    "prop_df_fading = prop_df.rename(columns = {'Training4': 'Training4_Fading', 'Reversal1': 'Reversal1_Fading'})\n",
    "## Insert proportion of fading ensembles on Training4 and Reversal1 into df\n",
    "cr_df.insert(10, 'Training4_Fading', prop_df_fading['Training4_Fading'])\n",
    "cr_df.insert(11, 'Reversal1_Fading', prop_df_fading['Reversal1_Fading'])"
   ]
  },
  {
   "cell_type": "code",
   "execution_count": null,
   "metadata": {},
   "outputs": [],
   "source": [
    "## Linear regression\n",
    "lm_cr_prop = pg.linear_regression(cr_df['Reversal1_Fading'], cr_df['Reversal1'], as_dataframe = False)\n",
    "## Make plot\n",
    "fig = pf.custom_graph_template(title = '', x_title = 'Proportion Fading Ensembles', y_title = 'Peak Correct Rejection Rate')\n",
    "fig.add_trace(go.Scatter(x = cr_df['Reversal1_Fading'], y = cr_df['Reversal1'], mode = 'markers', \n",
    "                         marker_color = 'red', marker = {'line': {'color': 'black', 'width' : 0.25}}, showlegend = False))\n",
    "fig.add_trace(go.Scatter(x = cr_df['Reversal1_Fading'], y = lm_cr_prop['pred'], mode = 'lines', line_color = 'black', showlegend = False))\n",
    "fig.show()\n",
    "fig.write_image(pjoin(figure_path, 'cr_vs_prop_fading_peak.png'))"
   ]
  },
  {
   "attachments": {},
   "cell_type": "markdown",
   "metadata": {},
   "source": [
    "Bin activations by FORWARD trials using old behavior data input."
   ]
  },
  {
   "cell_type": "code",
   "execution_count": 50,
   "metadata": {},
   "outputs": [
    {
     "name": "stderr",
     "output_type": "stream",
     "text": [
      "  0%|          | 0/5 [00:00<?, ?it/s]/media/caishuman/csstorage3/Austin/CircleTrack/CircleTrackAnalysis/EnsembleRemodeling_Resubmission/../circletrack_behavior.py:149: SettingWithCopyWarning: \n",
      "A value is trying to be set on a copy of a slice from a DataFrame.\n",
      "Try using .loc[row_indexer,col_indexer] = value instead\n",
      "\n",
      "See the caveats in the documentation: https://pandas.pydata.org/pandas-docs/stable/user_guide/indexing.html#returning-a-view-versus-a-copy\n",
      "  data.timestamp = (pd.to_numeric(data.timestamp) - start_time)\n",
      "/media/caishuman/csstorage3/Austin/CircleTrack/CircleTrackAnalysis/EnsembleRemodeling_Resubmission/../circletrack_behavior.py:149: SettingWithCopyWarning: \n",
      "A value is trying to be set on a copy of a slice from a DataFrame.\n",
      "Try using .loc[row_indexer,col_indexer] = value instead\n",
      "\n",
      "See the caveats in the documentation: https://pandas.pydata.org/pandas-docs/stable/user_guide/indexing.html#returning-a-view-versus-a-copy\n",
      "  data.timestamp = (pd.to_numeric(data.timestamp) - start_time)\n",
      "/media/caishuman/csstorage3/Austin/CircleTrack/CircleTrackAnalysis/EnsembleRemodeling_Resubmission/../circletrack_behavior.py:149: SettingWithCopyWarning: \n",
      "A value is trying to be set on a copy of a slice from a DataFrame.\n",
      "Try using .loc[row_indexer,col_indexer] = value instead\n",
      "\n",
      "See the caveats in the documentation: https://pandas.pydata.org/pandas-docs/stable/user_guide/indexing.html#returning-a-view-versus-a-copy\n",
      "  data.timestamp = (pd.to_numeric(data.timestamp) - start_time)\n",
      "/media/caishuman/csstorage3/Austin/CircleTrack/CircleTrackAnalysis/EnsembleRemodeling_Resubmission/../circletrack_behavior.py:149: SettingWithCopyWarning: \n",
      "A value is trying to be set on a copy of a slice from a DataFrame.\n",
      "Try using .loc[row_indexer,col_indexer] = value instead\n",
      "\n",
      "See the caveats in the documentation: https://pandas.pydata.org/pandas-docs/stable/user_guide/indexing.html#returning-a-view-versus-a-copy\n",
      "  data.timestamp = (pd.to_numeric(data.timestamp) - start_time)\n",
      "/media/caishuman/csstorage3/Austin/CircleTrack/CircleTrackAnalysis/EnsembleRemodeling_Resubmission/../circletrack_behavior.py:149: SettingWithCopyWarning: \n",
      "A value is trying to be set on a copy of a slice from a DataFrame.\n",
      "Try using .loc[row_indexer,col_indexer] = value instead\n",
      "\n",
      "See the caveats in the documentation: https://pandas.pydata.org/pandas-docs/stable/user_guide/indexing.html#returning-a-view-versus-a-copy\n",
      "  data.timestamp = (pd.to_numeric(data.timestamp) - start_time)\n",
      "/media/caishuman/csstorage3/Austin/CircleTrack/CircleTrackAnalysis/EnsembleRemodeling_Resubmission/../circletrack_behavior.py:149: SettingWithCopyWarning: \n",
      "A value is trying to be set on a copy of a slice from a DataFrame.\n",
      "Try using .loc[row_indexer,col_indexer] = value instead\n",
      "\n",
      "See the caveats in the documentation: https://pandas.pydata.org/pandas-docs/stable/user_guide/indexing.html#returning-a-view-versus-a-copy\n",
      "  data.timestamp = (pd.to_numeric(data.timestamp) - start_time)\n",
      "/media/caishuman/csstorage3/Austin/CircleTrack/CircleTrackAnalysis/EnsembleRemodeling_Resubmission/../circletrack_behavior.py:149: SettingWithCopyWarning: \n",
      "A value is trying to be set on a copy of a slice from a DataFrame.\n",
      "Try using .loc[row_indexer,col_indexer] = value instead\n",
      "\n",
      "See the caveats in the documentation: https://pandas.pydata.org/pandas-docs/stable/user_guide/indexing.html#returning-a-view-versus-a-copy\n",
      "  data.timestamp = (pd.to_numeric(data.timestamp) - start_time)\n",
      "/media/caishuman/csstorage3/Austin/CircleTrack/CircleTrackAnalysis/EnsembleRemodeling_Resubmission/../circletrack_behavior.py:149: SettingWithCopyWarning: \n",
      "A value is trying to be set on a copy of a slice from a DataFrame.\n",
      "Try using .loc[row_indexer,col_indexer] = value instead\n",
      "\n",
      "See the caveats in the documentation: https://pandas.pydata.org/pandas-docs/stable/user_guide/indexing.html#returning-a-view-versus-a-copy\n",
      "  data.timestamp = (pd.to_numeric(data.timestamp) - start_time)\n",
      "/home/austinbaggetta/.conda/envs/calcium/lib/python3.10/site-packages/statsmodels/stats/multitest.py:155: RuntimeWarning: divide by zero encountered in log1p\n",
      "  pvals_corrected = -np.expm1(ntests * np.log1p(-pvals))\n",
      " 20%|██        | 1/5 [00:57<03:50, 57.64s/it]/media/caishuman/csstorage3/Austin/CircleTrack/CircleTrackAnalysis/EnsembleRemodeling_Resubmission/../circletrack_behavior.py:149: SettingWithCopyWarning: \n",
      "A value is trying to be set on a copy of a slice from a DataFrame.\n",
      "Try using .loc[row_indexer,col_indexer] = value instead\n",
      "\n",
      "See the caveats in the documentation: https://pandas.pydata.org/pandas-docs/stable/user_guide/indexing.html#returning-a-view-versus-a-copy\n",
      "  data.timestamp = (pd.to_numeric(data.timestamp) - start_time)\n",
      "/media/caishuman/csstorage3/Austin/CircleTrack/CircleTrackAnalysis/EnsembleRemodeling_Resubmission/../circletrack_behavior.py:149: SettingWithCopyWarning: \n",
      "A value is trying to be set on a copy of a slice from a DataFrame.\n",
      "Try using .loc[row_indexer,col_indexer] = value instead\n",
      "\n",
      "See the caveats in the documentation: https://pandas.pydata.org/pandas-docs/stable/user_guide/indexing.html#returning-a-view-versus-a-copy\n",
      "  data.timestamp = (pd.to_numeric(data.timestamp) - start_time)\n",
      "/media/caishuman/csstorage3/Austin/CircleTrack/CircleTrackAnalysis/EnsembleRemodeling_Resubmission/../circletrack_behavior.py:149: SettingWithCopyWarning: \n",
      "A value is trying to be set on a copy of a slice from a DataFrame.\n",
      "Try using .loc[row_indexer,col_indexer] = value instead\n",
      "\n",
      "See the caveats in the documentation: https://pandas.pydata.org/pandas-docs/stable/user_guide/indexing.html#returning-a-view-versus-a-copy\n",
      "  data.timestamp = (pd.to_numeric(data.timestamp) - start_time)\n",
      "/media/caishuman/csstorage3/Austin/CircleTrack/CircleTrackAnalysis/EnsembleRemodeling_Resubmission/../circletrack_behavior.py:149: SettingWithCopyWarning: \n",
      "A value is trying to be set on a copy of a slice from a DataFrame.\n",
      "Try using .loc[row_indexer,col_indexer] = value instead\n",
      "\n",
      "See the caveats in the documentation: https://pandas.pydata.org/pandas-docs/stable/user_guide/indexing.html#returning-a-view-versus-a-copy\n",
      "  data.timestamp = (pd.to_numeric(data.timestamp) - start_time)\n",
      "/media/caishuman/csstorage3/Austin/CircleTrack/CircleTrackAnalysis/EnsembleRemodeling_Resubmission/../circletrack_behavior.py:149: SettingWithCopyWarning: \n",
      "A value is trying to be set on a copy of a slice from a DataFrame.\n",
      "Try using .loc[row_indexer,col_indexer] = value instead\n",
      "\n",
      "See the caveats in the documentation: https://pandas.pydata.org/pandas-docs/stable/user_guide/indexing.html#returning-a-view-versus-a-copy\n",
      "  data.timestamp = (pd.to_numeric(data.timestamp) - start_time)\n",
      "/media/caishuman/csstorage3/Austin/CircleTrack/CircleTrackAnalysis/EnsembleRemodeling_Resubmission/../circletrack_behavior.py:149: SettingWithCopyWarning: \n",
      "A value is trying to be set on a copy of a slice from a DataFrame.\n",
      "Try using .loc[row_indexer,col_indexer] = value instead\n",
      "\n",
      "See the caveats in the documentation: https://pandas.pydata.org/pandas-docs/stable/user_guide/indexing.html#returning-a-view-versus-a-copy\n",
      "  data.timestamp = (pd.to_numeric(data.timestamp) - start_time)\n",
      "/media/caishuman/csstorage3/Austin/CircleTrack/CircleTrackAnalysis/EnsembleRemodeling_Resubmission/../circletrack_behavior.py:149: SettingWithCopyWarning: \n",
      "A value is trying to be set on a copy of a slice from a DataFrame.\n",
      "Try using .loc[row_indexer,col_indexer] = value instead\n",
      "\n",
      "See the caveats in the documentation: https://pandas.pydata.org/pandas-docs/stable/user_guide/indexing.html#returning-a-view-versus-a-copy\n",
      "  data.timestamp = (pd.to_numeric(data.timestamp) - start_time)\n",
      "/media/caishuman/csstorage3/Austin/CircleTrack/CircleTrackAnalysis/EnsembleRemodeling_Resubmission/../circletrack_behavior.py:149: SettingWithCopyWarning: \n",
      "A value is trying to be set on a copy of a slice from a DataFrame.\n",
      "Try using .loc[row_indexer,col_indexer] = value instead\n",
      "\n",
      "See the caveats in the documentation: https://pandas.pydata.org/pandas-docs/stable/user_guide/indexing.html#returning-a-view-versus-a-copy\n",
      "  data.timestamp = (pd.to_numeric(data.timestamp) - start_time)\n",
      "/media/caishuman/csstorage3/Austin/CircleTrack/CircleTrackAnalysis/EnsembleRemodeling_Resubmission/../circletrack_behavior.py:149: SettingWithCopyWarning: \n",
      "A value is trying to be set on a copy of a slice from a DataFrame.\n",
      "Try using .loc[row_indexer,col_indexer] = value instead\n",
      "\n",
      "See the caveats in the documentation: https://pandas.pydata.org/pandas-docs/stable/user_guide/indexing.html#returning-a-view-versus-a-copy\n",
      "  data.timestamp = (pd.to_numeric(data.timestamp) - start_time)\n",
      "/home/austinbaggetta/.conda/envs/calcium/lib/python3.10/site-packages/statsmodels/stats/multitest.py:155: RuntimeWarning: divide by zero encountered in log1p\n",
      "  pvals_corrected = -np.expm1(ntests * np.log1p(-pvals))\n",
      " 40%|████      | 2/5 [02:05<03:10, 63.41s/it]/media/caishuman/csstorage3/Austin/CircleTrack/CircleTrackAnalysis/EnsembleRemodeling_Resubmission/../circletrack_behavior.py:149: SettingWithCopyWarning: \n",
      "A value is trying to be set on a copy of a slice from a DataFrame.\n",
      "Try using .loc[row_indexer,col_indexer] = value instead\n",
      "\n",
      "See the caveats in the documentation: https://pandas.pydata.org/pandas-docs/stable/user_guide/indexing.html#returning-a-view-versus-a-copy\n",
      "  data.timestamp = (pd.to_numeric(data.timestamp) - start_time)\n",
      "/media/caishuman/csstorage3/Austin/CircleTrack/CircleTrackAnalysis/EnsembleRemodeling_Resubmission/../circletrack_behavior.py:149: SettingWithCopyWarning: \n",
      "A value is trying to be set on a copy of a slice from a DataFrame.\n",
      "Try using .loc[row_indexer,col_indexer] = value instead\n",
      "\n",
      "See the caveats in the documentation: https://pandas.pydata.org/pandas-docs/stable/user_guide/indexing.html#returning-a-view-versus-a-copy\n",
      "  data.timestamp = (pd.to_numeric(data.timestamp) - start_time)\n",
      "/media/caishuman/csstorage3/Austin/CircleTrack/CircleTrackAnalysis/EnsembleRemodeling_Resubmission/../circletrack_behavior.py:149: SettingWithCopyWarning: \n",
      "A value is trying to be set on a copy of a slice from a DataFrame.\n",
      "Try using .loc[row_indexer,col_indexer] = value instead\n",
      "\n",
      "See the caveats in the documentation: https://pandas.pydata.org/pandas-docs/stable/user_guide/indexing.html#returning-a-view-versus-a-copy\n",
      "  data.timestamp = (pd.to_numeric(data.timestamp) - start_time)\n",
      "/media/caishuman/csstorage3/Austin/CircleTrack/CircleTrackAnalysis/EnsembleRemodeling_Resubmission/../circletrack_behavior.py:149: SettingWithCopyWarning: \n",
      "A value is trying to be set on a copy of a slice from a DataFrame.\n",
      "Try using .loc[row_indexer,col_indexer] = value instead\n",
      "\n",
      "See the caveats in the documentation: https://pandas.pydata.org/pandas-docs/stable/user_guide/indexing.html#returning-a-view-versus-a-copy\n",
      "  data.timestamp = (pd.to_numeric(data.timestamp) - start_time)\n",
      "/media/caishuman/csstorage3/Austin/CircleTrack/CircleTrackAnalysis/EnsembleRemodeling_Resubmission/../circletrack_behavior.py:149: SettingWithCopyWarning: \n",
      "A value is trying to be set on a copy of a slice from a DataFrame.\n",
      "Try using .loc[row_indexer,col_indexer] = value instead\n",
      "\n",
      "See the caveats in the documentation: https://pandas.pydata.org/pandas-docs/stable/user_guide/indexing.html#returning-a-view-versus-a-copy\n",
      "  data.timestamp = (pd.to_numeric(data.timestamp) - start_time)\n",
      "/media/caishuman/csstorage3/Austin/CircleTrack/CircleTrackAnalysis/EnsembleRemodeling_Resubmission/../circletrack_behavior.py:149: SettingWithCopyWarning: \n",
      "A value is trying to be set on a copy of a slice from a DataFrame.\n",
      "Try using .loc[row_indexer,col_indexer] = value instead\n",
      "\n",
      "See the caveats in the documentation: https://pandas.pydata.org/pandas-docs/stable/user_guide/indexing.html#returning-a-view-versus-a-copy\n",
      "  data.timestamp = (pd.to_numeric(data.timestamp) - start_time)\n",
      "/media/caishuman/csstorage3/Austin/CircleTrack/CircleTrackAnalysis/EnsembleRemodeling_Resubmission/../circletrack_behavior.py:149: SettingWithCopyWarning: \n",
      "A value is trying to be set on a copy of a slice from a DataFrame.\n",
      "Try using .loc[row_indexer,col_indexer] = value instead\n",
      "\n",
      "See the caveats in the documentation: https://pandas.pydata.org/pandas-docs/stable/user_guide/indexing.html#returning-a-view-versus-a-copy\n",
      "  data.timestamp = (pd.to_numeric(data.timestamp) - start_time)\n",
      "/media/caishuman/csstorage3/Austin/CircleTrack/CircleTrackAnalysis/EnsembleRemodeling_Resubmission/../circletrack_behavior.py:149: SettingWithCopyWarning: \n",
      "A value is trying to be set on a copy of a slice from a DataFrame.\n",
      "Try using .loc[row_indexer,col_indexer] = value instead\n",
      "\n",
      "See the caveats in the documentation: https://pandas.pydata.org/pandas-docs/stable/user_guide/indexing.html#returning-a-view-versus-a-copy\n",
      "  data.timestamp = (pd.to_numeric(data.timestamp) - start_time)\n",
      "/media/caishuman/csstorage3/Austin/CircleTrack/CircleTrackAnalysis/EnsembleRemodeling_Resubmission/../circletrack_behavior.py:149: SettingWithCopyWarning: \n",
      "A value is trying to be set on a copy of a slice from a DataFrame.\n",
      "Try using .loc[row_indexer,col_indexer] = value instead\n",
      "\n",
      "See the caveats in the documentation: https://pandas.pydata.org/pandas-docs/stable/user_guide/indexing.html#returning-a-view-versus-a-copy\n",
      "  data.timestamp = (pd.to_numeric(data.timestamp) - start_time)\n",
      "/home/austinbaggetta/.conda/envs/calcium/lib/python3.10/site-packages/statsmodels/stats/multitest.py:155: RuntimeWarning: divide by zero encountered in log1p\n",
      "  pvals_corrected = -np.expm1(ntests * np.log1p(-pvals))\n",
      " 60%|██████    | 3/5 [03:12<02:10, 65.31s/it]/media/caishuman/csstorage3/Austin/CircleTrack/CircleTrackAnalysis/EnsembleRemodeling_Resubmission/../circletrack_behavior.py:149: SettingWithCopyWarning: \n",
      "A value is trying to be set on a copy of a slice from a DataFrame.\n",
      "Try using .loc[row_indexer,col_indexer] = value instead\n",
      "\n",
      "See the caveats in the documentation: https://pandas.pydata.org/pandas-docs/stable/user_guide/indexing.html#returning-a-view-versus-a-copy\n",
      "  data.timestamp = (pd.to_numeric(data.timestamp) - start_time)\n",
      "/media/caishuman/csstorage3/Austin/CircleTrack/CircleTrackAnalysis/EnsembleRemodeling_Resubmission/../circletrack_behavior.py:149: SettingWithCopyWarning: \n",
      "A value is trying to be set on a copy of a slice from a DataFrame.\n",
      "Try using .loc[row_indexer,col_indexer] = value instead\n",
      "\n",
      "See the caveats in the documentation: https://pandas.pydata.org/pandas-docs/stable/user_guide/indexing.html#returning-a-view-versus-a-copy\n",
      "  data.timestamp = (pd.to_numeric(data.timestamp) - start_time)\n",
      "/media/caishuman/csstorage3/Austin/CircleTrack/CircleTrackAnalysis/EnsembleRemodeling_Resubmission/../circletrack_behavior.py:149: SettingWithCopyWarning: \n",
      "A value is trying to be set on a copy of a slice from a DataFrame.\n",
      "Try using .loc[row_indexer,col_indexer] = value instead\n",
      "\n",
      "See the caveats in the documentation: https://pandas.pydata.org/pandas-docs/stable/user_guide/indexing.html#returning-a-view-versus-a-copy\n",
      "  data.timestamp = (pd.to_numeric(data.timestamp) - start_time)\n",
      "/media/caishuman/csstorage3/Austin/CircleTrack/CircleTrackAnalysis/EnsembleRemodeling_Resubmission/../circletrack_behavior.py:149: SettingWithCopyWarning: \n",
      "A value is trying to be set on a copy of a slice from a DataFrame.\n",
      "Try using .loc[row_indexer,col_indexer] = value instead\n",
      "\n",
      "See the caveats in the documentation: https://pandas.pydata.org/pandas-docs/stable/user_guide/indexing.html#returning-a-view-versus-a-copy\n",
      "  data.timestamp = (pd.to_numeric(data.timestamp) - start_time)\n",
      "/media/caishuman/csstorage3/Austin/CircleTrack/CircleTrackAnalysis/EnsembleRemodeling_Resubmission/../circletrack_behavior.py:149: SettingWithCopyWarning: \n",
      "A value is trying to be set on a copy of a slice from a DataFrame.\n",
      "Try using .loc[row_indexer,col_indexer] = value instead\n",
      "\n",
      "See the caveats in the documentation: https://pandas.pydata.org/pandas-docs/stable/user_guide/indexing.html#returning-a-view-versus-a-copy\n",
      "  data.timestamp = (pd.to_numeric(data.timestamp) - start_time)\n",
      "/media/caishuman/csstorage3/Austin/CircleTrack/CircleTrackAnalysis/EnsembleRemodeling_Resubmission/../circletrack_behavior.py:149: SettingWithCopyWarning: \n",
      "A value is trying to be set on a copy of a slice from a DataFrame.\n",
      "Try using .loc[row_indexer,col_indexer] = value instead\n",
      "\n",
      "See the caveats in the documentation: https://pandas.pydata.org/pandas-docs/stable/user_guide/indexing.html#returning-a-view-versus-a-copy\n",
      "  data.timestamp = (pd.to_numeric(data.timestamp) - start_time)\n",
      "/media/caishuman/csstorage3/Austin/CircleTrack/CircleTrackAnalysis/EnsembleRemodeling_Resubmission/../circletrack_behavior.py:149: SettingWithCopyWarning: \n",
      "A value is trying to be set on a copy of a slice from a DataFrame.\n",
      "Try using .loc[row_indexer,col_indexer] = value instead\n",
      "\n",
      "See the caveats in the documentation: https://pandas.pydata.org/pandas-docs/stable/user_guide/indexing.html#returning-a-view-versus-a-copy\n",
      "  data.timestamp = (pd.to_numeric(data.timestamp) - start_time)\n",
      "/media/caishuman/csstorage3/Austin/CircleTrack/CircleTrackAnalysis/EnsembleRemodeling_Resubmission/../circletrack_behavior.py:149: SettingWithCopyWarning: \n",
      "A value is trying to be set on a copy of a slice from a DataFrame.\n",
      "Try using .loc[row_indexer,col_indexer] = value instead\n",
      "\n",
      "See the caveats in the documentation: https://pandas.pydata.org/pandas-docs/stable/user_guide/indexing.html#returning-a-view-versus-a-copy\n",
      "  data.timestamp = (pd.to_numeric(data.timestamp) - start_time)\n",
      "/media/caishuman/csstorage3/Austin/CircleTrack/CircleTrackAnalysis/EnsembleRemodeling_Resubmission/../circletrack_behavior.py:149: SettingWithCopyWarning: \n",
      "A value is trying to be set on a copy of a slice from a DataFrame.\n",
      "Try using .loc[row_indexer,col_indexer] = value instead\n",
      "\n",
      "See the caveats in the documentation: https://pandas.pydata.org/pandas-docs/stable/user_guide/indexing.html#returning-a-view-versus-a-copy\n",
      "  data.timestamp = (pd.to_numeric(data.timestamp) - start_time)\n",
      " 80%|████████  | 4/5 [04:17<01:05, 65.16s/it]/media/caishuman/csstorage3/Austin/CircleTrack/CircleTrackAnalysis/EnsembleRemodeling_Resubmission/../circletrack_behavior.py:149: SettingWithCopyWarning: \n",
      "A value is trying to be set on a copy of a slice from a DataFrame.\n",
      "Try using .loc[row_indexer,col_indexer] = value instead\n",
      "\n",
      "See the caveats in the documentation: https://pandas.pydata.org/pandas-docs/stable/user_guide/indexing.html#returning-a-view-versus-a-copy\n",
      "  data.timestamp = (pd.to_numeric(data.timestamp) - start_time)\n",
      "/media/caishuman/csstorage3/Austin/CircleTrack/CircleTrackAnalysis/EnsembleRemodeling_Resubmission/../circletrack_behavior.py:149: SettingWithCopyWarning: \n",
      "A value is trying to be set on a copy of a slice from a DataFrame.\n",
      "Try using .loc[row_indexer,col_indexer] = value instead\n",
      "\n",
      "See the caveats in the documentation: https://pandas.pydata.org/pandas-docs/stable/user_guide/indexing.html#returning-a-view-versus-a-copy\n",
      "  data.timestamp = (pd.to_numeric(data.timestamp) - start_time)\n",
      "/media/caishuman/csstorage3/Austin/CircleTrack/CircleTrackAnalysis/EnsembleRemodeling_Resubmission/../circletrack_behavior.py:149: SettingWithCopyWarning: \n",
      "A value is trying to be set on a copy of a slice from a DataFrame.\n",
      "Try using .loc[row_indexer,col_indexer] = value instead\n",
      "\n",
      "See the caveats in the documentation: https://pandas.pydata.org/pandas-docs/stable/user_guide/indexing.html#returning-a-view-versus-a-copy\n",
      "  data.timestamp = (pd.to_numeric(data.timestamp) - start_time)\n",
      "/media/caishuman/csstorage3/Austin/CircleTrack/CircleTrackAnalysis/EnsembleRemodeling_Resubmission/../circletrack_behavior.py:149: SettingWithCopyWarning: \n",
      "A value is trying to be set on a copy of a slice from a DataFrame.\n",
      "Try using .loc[row_indexer,col_indexer] = value instead\n",
      "\n",
      "See the caveats in the documentation: https://pandas.pydata.org/pandas-docs/stable/user_guide/indexing.html#returning-a-view-versus-a-copy\n",
      "  data.timestamp = (pd.to_numeric(data.timestamp) - start_time)\n",
      "/media/caishuman/csstorage3/Austin/CircleTrack/CircleTrackAnalysis/EnsembleRemodeling_Resubmission/../circletrack_behavior.py:149: SettingWithCopyWarning: \n",
      "A value is trying to be set on a copy of a slice from a DataFrame.\n",
      "Try using .loc[row_indexer,col_indexer] = value instead\n",
      "\n",
      "See the caveats in the documentation: https://pandas.pydata.org/pandas-docs/stable/user_guide/indexing.html#returning-a-view-versus-a-copy\n",
      "  data.timestamp = (pd.to_numeric(data.timestamp) - start_time)\n",
      "/media/caishuman/csstorage3/Austin/CircleTrack/CircleTrackAnalysis/EnsembleRemodeling_Resubmission/../circletrack_behavior.py:149: SettingWithCopyWarning: \n",
      "A value is trying to be set on a copy of a slice from a DataFrame.\n",
      "Try using .loc[row_indexer,col_indexer] = value instead\n",
      "\n",
      "See the caveats in the documentation: https://pandas.pydata.org/pandas-docs/stable/user_guide/indexing.html#returning-a-view-versus-a-copy\n",
      "  data.timestamp = (pd.to_numeric(data.timestamp) - start_time)\n",
      "/media/caishuman/csstorage3/Austin/CircleTrack/CircleTrackAnalysis/EnsembleRemodeling_Resubmission/../circletrack_behavior.py:149: SettingWithCopyWarning: \n",
      "A value is trying to be set on a copy of a slice from a DataFrame.\n",
      "Try using .loc[row_indexer,col_indexer] = value instead\n",
      "\n",
      "See the caveats in the documentation: https://pandas.pydata.org/pandas-docs/stable/user_guide/indexing.html#returning-a-view-versus-a-copy\n",
      "  data.timestamp = (pd.to_numeric(data.timestamp) - start_time)\n",
      "/media/caishuman/csstorage3/Austin/CircleTrack/CircleTrackAnalysis/EnsembleRemodeling_Resubmission/../circletrack_behavior.py:149: SettingWithCopyWarning: \n",
      "A value is trying to be set on a copy of a slice from a DataFrame.\n",
      "Try using .loc[row_indexer,col_indexer] = value instead\n",
      "\n",
      "See the caveats in the documentation: https://pandas.pydata.org/pandas-docs/stable/user_guide/indexing.html#returning-a-view-versus-a-copy\n",
      "  data.timestamp = (pd.to_numeric(data.timestamp) - start_time)\n",
      "/media/caishuman/csstorage3/Austin/CircleTrack/CircleTrackAnalysis/EnsembleRemodeling_Resubmission/../circletrack_behavior.py:149: SettingWithCopyWarning: \n",
      "A value is trying to be set on a copy of a slice from a DataFrame.\n",
      "Try using .loc[row_indexer,col_indexer] = value instead\n",
      "\n",
      "See the caveats in the documentation: https://pandas.pydata.org/pandas-docs/stable/user_guide/indexing.html#returning-a-view-versus-a-copy\n",
      "  data.timestamp = (pd.to_numeric(data.timestamp) - start_time)\n",
      "/home/austinbaggetta/.conda/envs/calcium/lib/python3.10/site-packages/statsmodels/stats/multitest.py:155: RuntimeWarning: divide by zero encountered in log1p\n",
      "  pvals_corrected = -np.expm1(ntests * np.log1p(-pvals))\n",
      "100%|██████████| 5/5 [05:25<00:00, 65.02s/it]\n"
     ]
    }
   ],
   "source": [
    "## Set mouse list, across_time, x_bin_size\n",
    "mouse_list = ['mc03', 'mc06', 'mc07', 'mc09', 'mc11'] \n",
    "across_time = False\n",
    "x_bin_size = 15\n",
    "\n",
    "## Create empty dictionaries\n",
    "mouse_trends = {}\n",
    "mouse_binned_activations = {}\n",
    "mouse_slopes = {}\n",
    "mouse_taus = {}\n",
    "## Loop through each mouse\n",
    "for mouse in tqdm(mouse_list):\n",
    "    ## saved ensemble data path\n",
    "    spath = pjoin(ensemble_path, mouse)\n",
    "    ## load in behavior data across all sessions\n",
    "    if not across_time:\n",
    "        mouse_behavior = ctb.import_mouse_behavior_data(behavior_path, mouse, key_file = 'behavior_keys.yml', session = '30min')\n",
    "    ## Create empty dictionaries to store output\n",
    "    determined_trends = {}\n",
    "    binned_activations_dict = {}\n",
    "    slopes_dict = {}\n",
    "    tau_dict = {}\n",
    "    ## Load assemblies\n",
    "    for session in session_dict[mouse]:\n",
    "        ## Load specific session's assemblies\n",
    "        assemblies = ica.load_session_assemblies(mouse, spath = spath, session_id = session)\n",
    "        act = assemblies['activations'].values\n",
    "        ## Load a specific session's behavior data\n",
    "        if not across_time:\n",
    "            aligned_behavior = mouse_behavior[session]\n",
    "            ## Ensure that activations and aligned behavior are the same length\n",
    "            aligned_behavior = ica.align_activations_to_behavior(act, aligned_behavior)\n",
    "            ## Get which timestamps are part of which trial for the aligned behavior data\n",
    "            trials = ctb.get_trials(aligned_behavior, shift_factor = 0, angle_type = 'radians', counterclockwise = True)\n",
    "        if across_time:\n",
    "          trends, binned_activations, slopes, tau = ica.define_ensemble_trends_across_time(act, z_threshold = None, x_bin_size = x_bin_size, analysis_type = 'max', zscored = True, alpha = 'sidak')  \n",
    "        else:\n",
    "            ## Define ensemble trends across trials to determine if activation strength is increasing/decreasing across the session\n",
    "            trends, binned_activations, slopes, tau = ica.define_ensemble_trends_across_trials(act, aligned_behavior, trials, trial_type = 'forward', z_threshold = None, zscored = False)\n",
    "        ## Save to dictionaries\n",
    "        determined_trends[session] = trends\n",
    "        binned_activations_dict[session] = binned_activations\n",
    "        slopes_dict[session] = slopes\n",
    "        tau_dict[session] = tau\n",
    "    ## Determine the proportion of ensembles that are increasing, decreasing, or have no trend based on their activation strength across time\n",
    "    proportion_dict = ica.calculate_proportions_ensembles(determined_trends)\n",
    "    ## Save to mouse dictionaries before looping to the next mouse\n",
    "    mouse_trends[mouse] = proportion_dict\n",
    "    mouse_binned_activations[mouse] = binned_activations_dict\n",
    "    mouse_slopes[mouse] = slopes_dict\n",
    "    mouse_taus[mouse] = tau_dict"
   ]
  },
  {
   "cell_type": "code",
   "execution_count": 57,
   "metadata": {},
   "outputs": [
    {
     "data": {
      "application/vnd.plotly.v1+json": {
       "config": {
        "plotlyServerURL": "https://plot.ly"
       },
       "data": [
        {
         "error_y": {
          "array": [
           0.007830913083334409,
           0.014929706058160058
          ],
          "type": "data"
         },
         "marker": {
          "color": "red",
          "line": {
           "color": "black",
           "width": 2
          }
         },
         "showlegend": false,
         "type": "bar",
         "x": [
          "Training4",
          "Reversal1"
         ],
         "y": [
          0.02408031272210377,
          0.029505976564800095
         ]
        },
        {
         "line": {
          "color": "grey",
          "width": 1
         },
         "marker": {
          "color": "red",
          "line": {
           "color": "black",
           "width": 2
          }
         },
         "mode": "lines+markers",
         "name": "mc03",
         "showlegend": false,
         "type": "scatter",
         "x": [
          "Training4",
          "Reversal1"
         ],
         "y": [
          0.023809523809523808,
          0
         ]
        },
        {
         "line": {
          "color": "grey",
          "width": 1
         },
         "marker": {
          "color": "red",
          "line": {
           "color": "black",
           "width": 2
          }
         },
         "mode": "lines+markers",
         "name": "mc06",
         "showlegend": false,
         "type": "scatter",
         "x": [
          "Training4",
          "Reversal1"
         ],
         "y": [
          0.014925373134328358,
          0.037037037037037035
         ]
        },
        {
         "line": {
          "color": "grey",
          "width": 1
         },
         "marker": {
          "color": "red",
          "line": {
           "color": "black",
           "width": 2
          }
         },
         "mode": "lines+markers",
         "name": "mc07",
         "showlegend": false,
         "type": "scatter",
         "x": [
          "Training4",
          "Reversal1"
         ],
         "y": [
          0,
          0
         ]
        },
        {
         "line": {
          "color": "grey",
          "width": 1
         },
         "marker": {
          "color": "red",
          "line": {
           "color": "black",
           "width": 2
          }
         },
         "mode": "lines+markers",
         "name": "mc09",
         "showlegend": false,
         "type": "scatter",
         "x": [
          "Training4",
          "Reversal1"
         ],
         "y": [
          0.041666666666666664,
          0.08108108108108109
         ]
        },
        {
         "line": {
          "color": "grey",
          "width": 1
         },
         "marker": {
          "color": "red",
          "line": {
           "color": "black",
           "width": 2
          }
         },
         "mode": "lines+markers",
         "name": "mc11",
         "showlegend": false,
         "type": "scatter",
         "x": [
          "Training4",
          "Reversal1"
         ],
         "y": [
          0.04,
          0.029411764705882353
         ]
        }
       ],
       "layout": {
        "height": 500,
        "template": {
         "data": {
          "bar": [
           {
            "error_x": {
             "color": "rgb(36,36,36)"
            },
            "error_y": {
             "color": "rgb(36,36,36)"
            },
            "marker": {
             "line": {
              "color": "white",
              "width": 0.5
             },
             "pattern": {
              "fillmode": "overlay",
              "size": 10,
              "solidity": 0.2
             }
            },
            "type": "bar"
           }
          ],
          "barpolar": [
           {
            "marker": {
             "line": {
              "color": "white",
              "width": 0.5
             },
             "pattern": {
              "fillmode": "overlay",
              "size": 10,
              "solidity": 0.2
             }
            },
            "type": "barpolar"
           }
          ],
          "carpet": [
           {
            "aaxis": {
             "endlinecolor": "rgb(36,36,36)",
             "gridcolor": "white",
             "linecolor": "white",
             "minorgridcolor": "white",
             "startlinecolor": "rgb(36,36,36)"
            },
            "baxis": {
             "endlinecolor": "rgb(36,36,36)",
             "gridcolor": "white",
             "linecolor": "white",
             "minorgridcolor": "white",
             "startlinecolor": "rgb(36,36,36)"
            },
            "type": "carpet"
           }
          ],
          "choropleth": [
           {
            "colorbar": {
             "outlinewidth": 1,
             "tickcolor": "rgb(36,36,36)",
             "ticks": "outside"
            },
            "type": "choropleth"
           }
          ],
          "contour": [
           {
            "colorbar": {
             "outlinewidth": 1,
             "tickcolor": "rgb(36,36,36)",
             "ticks": "outside"
            },
            "colorscale": [
             [
              0,
              "#440154"
             ],
             [
              0.1111111111111111,
              "#482878"
             ],
             [
              0.2222222222222222,
              "#3e4989"
             ],
             [
              0.3333333333333333,
              "#31688e"
             ],
             [
              0.4444444444444444,
              "#26828e"
             ],
             [
              0.5555555555555556,
              "#1f9e89"
             ],
             [
              0.6666666666666666,
              "#35b779"
             ],
             [
              0.7777777777777778,
              "#6ece58"
             ],
             [
              0.8888888888888888,
              "#b5de2b"
             ],
             [
              1,
              "#fde725"
             ]
            ],
            "type": "contour"
           }
          ],
          "contourcarpet": [
           {
            "colorbar": {
             "outlinewidth": 1,
             "tickcolor": "rgb(36,36,36)",
             "ticks": "outside"
            },
            "type": "contourcarpet"
           }
          ],
          "heatmap": [
           {
            "colorbar": {
             "outlinewidth": 1,
             "tickcolor": "rgb(36,36,36)",
             "ticks": "outside"
            },
            "colorscale": [
             [
              0,
              "#440154"
             ],
             [
              0.1111111111111111,
              "#482878"
             ],
             [
              0.2222222222222222,
              "#3e4989"
             ],
             [
              0.3333333333333333,
              "#31688e"
             ],
             [
              0.4444444444444444,
              "#26828e"
             ],
             [
              0.5555555555555556,
              "#1f9e89"
             ],
             [
              0.6666666666666666,
              "#35b779"
             ],
             [
              0.7777777777777778,
              "#6ece58"
             ],
             [
              0.8888888888888888,
              "#b5de2b"
             ],
             [
              1,
              "#fde725"
             ]
            ],
            "type": "heatmap"
           }
          ],
          "heatmapgl": [
           {
            "colorbar": {
             "outlinewidth": 1,
             "tickcolor": "rgb(36,36,36)",
             "ticks": "outside"
            },
            "colorscale": [
             [
              0,
              "#440154"
             ],
             [
              0.1111111111111111,
              "#482878"
             ],
             [
              0.2222222222222222,
              "#3e4989"
             ],
             [
              0.3333333333333333,
              "#31688e"
             ],
             [
              0.4444444444444444,
              "#26828e"
             ],
             [
              0.5555555555555556,
              "#1f9e89"
             ],
             [
              0.6666666666666666,
              "#35b779"
             ],
             [
              0.7777777777777778,
              "#6ece58"
             ],
             [
              0.8888888888888888,
              "#b5de2b"
             ],
             [
              1,
              "#fde725"
             ]
            ],
            "type": "heatmapgl"
           }
          ],
          "histogram": [
           {
            "marker": {
             "line": {
              "color": "white",
              "width": 0.6
             }
            },
            "type": "histogram"
           }
          ],
          "histogram2d": [
           {
            "colorbar": {
             "outlinewidth": 1,
             "tickcolor": "rgb(36,36,36)",
             "ticks": "outside"
            },
            "colorscale": [
             [
              0,
              "#440154"
             ],
             [
              0.1111111111111111,
              "#482878"
             ],
             [
              0.2222222222222222,
              "#3e4989"
             ],
             [
              0.3333333333333333,
              "#31688e"
             ],
             [
              0.4444444444444444,
              "#26828e"
             ],
             [
              0.5555555555555556,
              "#1f9e89"
             ],
             [
              0.6666666666666666,
              "#35b779"
             ],
             [
              0.7777777777777778,
              "#6ece58"
             ],
             [
              0.8888888888888888,
              "#b5de2b"
             ],
             [
              1,
              "#fde725"
             ]
            ],
            "type": "histogram2d"
           }
          ],
          "histogram2dcontour": [
           {
            "colorbar": {
             "outlinewidth": 1,
             "tickcolor": "rgb(36,36,36)",
             "ticks": "outside"
            },
            "colorscale": [
             [
              0,
              "#440154"
             ],
             [
              0.1111111111111111,
              "#482878"
             ],
             [
              0.2222222222222222,
              "#3e4989"
             ],
             [
              0.3333333333333333,
              "#31688e"
             ],
             [
              0.4444444444444444,
              "#26828e"
             ],
             [
              0.5555555555555556,
              "#1f9e89"
             ],
             [
              0.6666666666666666,
              "#35b779"
             ],
             [
              0.7777777777777778,
              "#6ece58"
             ],
             [
              0.8888888888888888,
              "#b5de2b"
             ],
             [
              1,
              "#fde725"
             ]
            ],
            "type": "histogram2dcontour"
           }
          ],
          "mesh3d": [
           {
            "colorbar": {
             "outlinewidth": 1,
             "tickcolor": "rgb(36,36,36)",
             "ticks": "outside"
            },
            "type": "mesh3d"
           }
          ],
          "parcoords": [
           {
            "line": {
             "colorbar": {
              "outlinewidth": 1,
              "tickcolor": "rgb(36,36,36)",
              "ticks": "outside"
             }
            },
            "type": "parcoords"
           }
          ],
          "pie": [
           {
            "automargin": true,
            "type": "pie"
           }
          ],
          "scatter": [
           {
            "fillpattern": {
             "fillmode": "overlay",
             "size": 10,
             "solidity": 0.2
            },
            "type": "scatter"
           }
          ],
          "scatter3d": [
           {
            "line": {
             "colorbar": {
              "outlinewidth": 1,
              "tickcolor": "rgb(36,36,36)",
              "ticks": "outside"
             }
            },
            "marker": {
             "colorbar": {
              "outlinewidth": 1,
              "tickcolor": "rgb(36,36,36)",
              "ticks": "outside"
             }
            },
            "type": "scatter3d"
           }
          ],
          "scattercarpet": [
           {
            "marker": {
             "colorbar": {
              "outlinewidth": 1,
              "tickcolor": "rgb(36,36,36)",
              "ticks": "outside"
             }
            },
            "type": "scattercarpet"
           }
          ],
          "scattergeo": [
           {
            "marker": {
             "colorbar": {
              "outlinewidth": 1,
              "tickcolor": "rgb(36,36,36)",
              "ticks": "outside"
             }
            },
            "type": "scattergeo"
           }
          ],
          "scattergl": [
           {
            "marker": {
             "colorbar": {
              "outlinewidth": 1,
              "tickcolor": "rgb(36,36,36)",
              "ticks": "outside"
             }
            },
            "type": "scattergl"
           }
          ],
          "scattermapbox": [
           {
            "marker": {
             "colorbar": {
              "outlinewidth": 1,
              "tickcolor": "rgb(36,36,36)",
              "ticks": "outside"
             }
            },
            "type": "scattermapbox"
           }
          ],
          "scatterpolar": [
           {
            "marker": {
             "colorbar": {
              "outlinewidth": 1,
              "tickcolor": "rgb(36,36,36)",
              "ticks": "outside"
             }
            },
            "type": "scatterpolar"
           }
          ],
          "scatterpolargl": [
           {
            "marker": {
             "colorbar": {
              "outlinewidth": 1,
              "tickcolor": "rgb(36,36,36)",
              "ticks": "outside"
             }
            },
            "type": "scatterpolargl"
           }
          ],
          "scatterternary": [
           {
            "marker": {
             "colorbar": {
              "outlinewidth": 1,
              "tickcolor": "rgb(36,36,36)",
              "ticks": "outside"
             }
            },
            "type": "scatterternary"
           }
          ],
          "surface": [
           {
            "colorbar": {
             "outlinewidth": 1,
             "tickcolor": "rgb(36,36,36)",
             "ticks": "outside"
            },
            "colorscale": [
             [
              0,
              "#440154"
             ],
             [
              0.1111111111111111,
              "#482878"
             ],
             [
              0.2222222222222222,
              "#3e4989"
             ],
             [
              0.3333333333333333,
              "#31688e"
             ],
             [
              0.4444444444444444,
              "#26828e"
             ],
             [
              0.5555555555555556,
              "#1f9e89"
             ],
             [
              0.6666666666666666,
              "#35b779"
             ],
             [
              0.7777777777777778,
              "#6ece58"
             ],
             [
              0.8888888888888888,
              "#b5de2b"
             ],
             [
              1,
              "#fde725"
             ]
            ],
            "type": "surface"
           }
          ],
          "table": [
           {
            "cells": {
             "fill": {
              "color": "rgb(237,237,237)"
             },
             "line": {
              "color": "white"
             }
            },
            "header": {
             "fill": {
              "color": "rgb(217,217,217)"
             },
             "line": {
              "color": "white"
             }
            },
            "type": "table"
           }
          ]
         },
         "layout": {
          "annotationdefaults": {
           "arrowhead": 0,
           "arrowwidth": 1
          },
          "autotypenumbers": "strict",
          "coloraxis": {
           "colorbar": {
            "outlinewidth": 1,
            "tickcolor": "rgb(36,36,36)",
            "ticks": "outside"
           }
          },
          "colorscale": {
           "diverging": [
            [
             0,
             "rgb(103,0,31)"
            ],
            [
             0.1,
             "rgb(178,24,43)"
            ],
            [
             0.2,
             "rgb(214,96,77)"
            ],
            [
             0.3,
             "rgb(244,165,130)"
            ],
            [
             0.4,
             "rgb(253,219,199)"
            ],
            [
             0.5,
             "rgb(247,247,247)"
            ],
            [
             0.6,
             "rgb(209,229,240)"
            ],
            [
             0.7,
             "rgb(146,197,222)"
            ],
            [
             0.8,
             "rgb(67,147,195)"
            ],
            [
             0.9,
             "rgb(33,102,172)"
            ],
            [
             1,
             "rgb(5,48,97)"
            ]
           ],
           "sequential": [
            [
             0,
             "#440154"
            ],
            [
             0.1111111111111111,
             "#482878"
            ],
            [
             0.2222222222222222,
             "#3e4989"
            ],
            [
             0.3333333333333333,
             "#31688e"
            ],
            [
             0.4444444444444444,
             "#26828e"
            ],
            [
             0.5555555555555556,
             "#1f9e89"
            ],
            [
             0.6666666666666666,
             "#35b779"
            ],
            [
             0.7777777777777778,
             "#6ece58"
            ],
            [
             0.8888888888888888,
             "#b5de2b"
            ],
            [
             1,
             "#fde725"
            ]
           ],
           "sequentialminus": [
            [
             0,
             "#440154"
            ],
            [
             0.1111111111111111,
             "#482878"
            ],
            [
             0.2222222222222222,
             "#3e4989"
            ],
            [
             0.3333333333333333,
             "#31688e"
            ],
            [
             0.4444444444444444,
             "#26828e"
            ],
            [
             0.5555555555555556,
             "#1f9e89"
            ],
            [
             0.6666666666666666,
             "#35b779"
            ],
            [
             0.7777777777777778,
             "#6ece58"
            ],
            [
             0.8888888888888888,
             "#b5de2b"
            ],
            [
             1,
             "#fde725"
            ]
           ]
          },
          "colorway": [
           "#1F77B4",
           "#FF7F0E",
           "#2CA02C",
           "#D62728",
           "#9467BD",
           "#8C564B",
           "#E377C2",
           "#7F7F7F",
           "#BCBD22",
           "#17BECF"
          ],
          "font": {
           "color": "rgb(36,36,36)"
          },
          "geo": {
           "bgcolor": "white",
           "lakecolor": "white",
           "landcolor": "white",
           "showlakes": true,
           "showland": true,
           "subunitcolor": "white"
          },
          "hoverlabel": {
           "align": "left"
          },
          "hovermode": "closest",
          "mapbox": {
           "style": "light"
          },
          "paper_bgcolor": "white",
          "plot_bgcolor": "white",
          "polar": {
           "angularaxis": {
            "gridcolor": "rgb(232,232,232)",
            "linecolor": "rgb(36,36,36)",
            "showgrid": false,
            "showline": true,
            "ticks": "outside"
           },
           "bgcolor": "white",
           "radialaxis": {
            "gridcolor": "rgb(232,232,232)",
            "linecolor": "rgb(36,36,36)",
            "showgrid": false,
            "showline": true,
            "ticks": "outside"
           }
          },
          "scene": {
           "xaxis": {
            "backgroundcolor": "white",
            "gridcolor": "rgb(232,232,232)",
            "gridwidth": 2,
            "linecolor": "rgb(36,36,36)",
            "showbackground": true,
            "showgrid": false,
            "showline": true,
            "ticks": "outside",
            "zeroline": false,
            "zerolinecolor": "rgb(36,36,36)"
           },
           "yaxis": {
            "backgroundcolor": "white",
            "gridcolor": "rgb(232,232,232)",
            "gridwidth": 2,
            "linecolor": "rgb(36,36,36)",
            "showbackground": true,
            "showgrid": false,
            "showline": true,
            "ticks": "outside",
            "zeroline": false,
            "zerolinecolor": "rgb(36,36,36)"
           },
           "zaxis": {
            "backgroundcolor": "white",
            "gridcolor": "rgb(232,232,232)",
            "gridwidth": 2,
            "linecolor": "rgb(36,36,36)",
            "showbackground": true,
            "showgrid": false,
            "showline": true,
            "ticks": "outside",
            "zeroline": false,
            "zerolinecolor": "rgb(36,36,36)"
           }
          },
          "shapedefaults": {
           "fillcolor": "black",
           "line": {
            "width": 0
           },
           "opacity": 0.3
          },
          "ternary": {
           "aaxis": {
            "gridcolor": "rgb(232,232,232)",
            "linecolor": "rgb(36,36,36)",
            "showgrid": false,
            "showline": true,
            "ticks": "outside"
           },
           "baxis": {
            "gridcolor": "rgb(232,232,232)",
            "linecolor": "rgb(36,36,36)",
            "showgrid": false,
            "showline": true,
            "ticks": "outside"
           },
           "bgcolor": "white",
           "caxis": {
            "gridcolor": "rgb(232,232,232)",
            "linecolor": "rgb(36,36,36)",
            "showgrid": false,
            "showline": true,
            "ticks": "outside"
           }
          },
          "title": {
           "x": 0.05
          },
          "xaxis": {
           "automargin": true,
           "gridcolor": "rgb(232,232,232)",
           "linecolor": "rgb(36,36,36)",
           "showgrid": false,
           "showline": true,
           "ticks": "outside",
           "title": {
            "standoff": 15
           },
           "zeroline": false,
           "zerolinecolor": "rgb(36,36,36)"
          },
          "yaxis": {
           "automargin": true,
           "gridcolor": "rgb(232,232,232)",
           "linecolor": "rgb(36,36,36)",
           "showgrid": false,
           "showline": true,
           "ticks": "outside",
           "title": {
            "standoff": 15
           },
           "zeroline": false,
           "zerolinecolor": "rgb(36,36,36)"
          }
         }
        },
        "title": {
         "text": "Fading Ensembles by Forward Trials",
         "x": 0.5,
         "xanchor": "center",
         "y": 0.9,
         "yanchor": "top"
        },
        "width": 500,
        "yaxis": {
         "title": {
          "text": "Proportion Fading Ensembles"
         }
        }
       }
      },
      "text/html": [
       "<div>                            <div id=\"add03c48-998a-4929-a1c0-097b1a076f07\" class=\"plotly-graph-div\" style=\"height:500px; width:500px;\"></div>            <script type=\"text/javascript\">                require([\"plotly\"], function(Plotly) {                    window.PLOTLYENV=window.PLOTLYENV || {};                                    if (document.getElementById(\"add03c48-998a-4929-a1c0-097b1a076f07\")) {                    Plotly.newPlot(                        \"add03c48-998a-4929-a1c0-097b1a076f07\",                        [{\"error_y\":{\"array\":[0.007830913083334409,0.014929706058160058],\"type\":\"data\"},\"showlegend\":false,\"x\":[\"Training4\",\"Reversal1\"],\"y\":[0.02408031272210377,0.029505976564800095],\"type\":\"bar\",\"marker\":{\"line\":{\"color\":\"black\",\"width\":2},\"color\":\"red\"}},{\"line\":{\"color\":\"grey\",\"width\":1},\"marker\":{\"color\":\"red\",\"line\":{\"color\":\"black\",\"width\":2}},\"mode\":\"lines+markers\",\"name\":\"mc03\",\"showlegend\":false,\"x\":[\"Training4\",\"Reversal1\"],\"y\":[0.023809523809523808,0.0],\"type\":\"scatter\"},{\"line\":{\"color\":\"grey\",\"width\":1},\"marker\":{\"color\":\"red\",\"line\":{\"color\":\"black\",\"width\":2}},\"mode\":\"lines+markers\",\"name\":\"mc06\",\"showlegend\":false,\"x\":[\"Training4\",\"Reversal1\"],\"y\":[0.014925373134328358,0.037037037037037035],\"type\":\"scatter\"},{\"line\":{\"color\":\"grey\",\"width\":1},\"marker\":{\"color\":\"red\",\"line\":{\"color\":\"black\",\"width\":2}},\"mode\":\"lines+markers\",\"name\":\"mc07\",\"showlegend\":false,\"x\":[\"Training4\",\"Reversal1\"],\"y\":[0.0,0.0],\"type\":\"scatter\"},{\"line\":{\"color\":\"grey\",\"width\":1},\"marker\":{\"color\":\"red\",\"line\":{\"color\":\"black\",\"width\":2}},\"mode\":\"lines+markers\",\"name\":\"mc09\",\"showlegend\":false,\"x\":[\"Training4\",\"Reversal1\"],\"y\":[0.041666666666666664,0.08108108108108109],\"type\":\"scatter\"},{\"line\":{\"color\":\"grey\",\"width\":1},\"marker\":{\"color\":\"red\",\"line\":{\"color\":\"black\",\"width\":2}},\"mode\":\"lines+markers\",\"name\":\"mc11\",\"showlegend\":false,\"x\":[\"Training4\",\"Reversal1\"],\"y\":[0.04,0.029411764705882353],\"type\":\"scatter\"}],                        {\"template\":{\"data\":{\"barpolar\":[{\"marker\":{\"line\":{\"color\":\"white\",\"width\":0.5},\"pattern\":{\"fillmode\":\"overlay\",\"size\":10,\"solidity\":0.2}},\"type\":\"barpolar\"}],\"bar\":[{\"error_x\":{\"color\":\"rgb(36,36,36)\"},\"error_y\":{\"color\":\"rgb(36,36,36)\"},\"marker\":{\"line\":{\"color\":\"white\",\"width\":0.5},\"pattern\":{\"fillmode\":\"overlay\",\"size\":10,\"solidity\":0.2}},\"type\":\"bar\"}],\"carpet\":[{\"aaxis\":{\"endlinecolor\":\"rgb(36,36,36)\",\"gridcolor\":\"white\",\"linecolor\":\"white\",\"minorgridcolor\":\"white\",\"startlinecolor\":\"rgb(36,36,36)\"},\"baxis\":{\"endlinecolor\":\"rgb(36,36,36)\",\"gridcolor\":\"white\",\"linecolor\":\"white\",\"minorgridcolor\":\"white\",\"startlinecolor\":\"rgb(36,36,36)\"},\"type\":\"carpet\"}],\"choropleth\":[{\"colorbar\":{\"outlinewidth\":1,\"tickcolor\":\"rgb(36,36,36)\",\"ticks\":\"outside\"},\"type\":\"choropleth\"}],\"contourcarpet\":[{\"colorbar\":{\"outlinewidth\":1,\"tickcolor\":\"rgb(36,36,36)\",\"ticks\":\"outside\"},\"type\":\"contourcarpet\"}],\"contour\":[{\"colorbar\":{\"outlinewidth\":1,\"tickcolor\":\"rgb(36,36,36)\",\"ticks\":\"outside\"},\"colorscale\":[[0.0,\"#440154\"],[0.1111111111111111,\"#482878\"],[0.2222222222222222,\"#3e4989\"],[0.3333333333333333,\"#31688e\"],[0.4444444444444444,\"#26828e\"],[0.5555555555555556,\"#1f9e89\"],[0.6666666666666666,\"#35b779\"],[0.7777777777777778,\"#6ece58\"],[0.8888888888888888,\"#b5de2b\"],[1.0,\"#fde725\"]],\"type\":\"contour\"}],\"heatmapgl\":[{\"colorbar\":{\"outlinewidth\":1,\"tickcolor\":\"rgb(36,36,36)\",\"ticks\":\"outside\"},\"colorscale\":[[0.0,\"#440154\"],[0.1111111111111111,\"#482878\"],[0.2222222222222222,\"#3e4989\"],[0.3333333333333333,\"#31688e\"],[0.4444444444444444,\"#26828e\"],[0.5555555555555556,\"#1f9e89\"],[0.6666666666666666,\"#35b779\"],[0.7777777777777778,\"#6ece58\"],[0.8888888888888888,\"#b5de2b\"],[1.0,\"#fde725\"]],\"type\":\"heatmapgl\"}],\"heatmap\":[{\"colorbar\":{\"outlinewidth\":1,\"tickcolor\":\"rgb(36,36,36)\",\"ticks\":\"outside\"},\"colorscale\":[[0.0,\"#440154\"],[0.1111111111111111,\"#482878\"],[0.2222222222222222,\"#3e4989\"],[0.3333333333333333,\"#31688e\"],[0.4444444444444444,\"#26828e\"],[0.5555555555555556,\"#1f9e89\"],[0.6666666666666666,\"#35b779\"],[0.7777777777777778,\"#6ece58\"],[0.8888888888888888,\"#b5de2b\"],[1.0,\"#fde725\"]],\"type\":\"heatmap\"}],\"histogram2dcontour\":[{\"colorbar\":{\"outlinewidth\":1,\"tickcolor\":\"rgb(36,36,36)\",\"ticks\":\"outside\"},\"colorscale\":[[0.0,\"#440154\"],[0.1111111111111111,\"#482878\"],[0.2222222222222222,\"#3e4989\"],[0.3333333333333333,\"#31688e\"],[0.4444444444444444,\"#26828e\"],[0.5555555555555556,\"#1f9e89\"],[0.6666666666666666,\"#35b779\"],[0.7777777777777778,\"#6ece58\"],[0.8888888888888888,\"#b5de2b\"],[1.0,\"#fde725\"]],\"type\":\"histogram2dcontour\"}],\"histogram2d\":[{\"colorbar\":{\"outlinewidth\":1,\"tickcolor\":\"rgb(36,36,36)\",\"ticks\":\"outside\"},\"colorscale\":[[0.0,\"#440154\"],[0.1111111111111111,\"#482878\"],[0.2222222222222222,\"#3e4989\"],[0.3333333333333333,\"#31688e\"],[0.4444444444444444,\"#26828e\"],[0.5555555555555556,\"#1f9e89\"],[0.6666666666666666,\"#35b779\"],[0.7777777777777778,\"#6ece58\"],[0.8888888888888888,\"#b5de2b\"],[1.0,\"#fde725\"]],\"type\":\"histogram2d\"}],\"histogram\":[{\"marker\":{\"line\":{\"color\":\"white\",\"width\":0.6}},\"type\":\"histogram\"}],\"mesh3d\":[{\"colorbar\":{\"outlinewidth\":1,\"tickcolor\":\"rgb(36,36,36)\",\"ticks\":\"outside\"},\"type\":\"mesh3d\"}],\"parcoords\":[{\"line\":{\"colorbar\":{\"outlinewidth\":1,\"tickcolor\":\"rgb(36,36,36)\",\"ticks\":\"outside\"}},\"type\":\"parcoords\"}],\"pie\":[{\"automargin\":true,\"type\":\"pie\"}],\"scatter3d\":[{\"line\":{\"colorbar\":{\"outlinewidth\":1,\"tickcolor\":\"rgb(36,36,36)\",\"ticks\":\"outside\"}},\"marker\":{\"colorbar\":{\"outlinewidth\":1,\"tickcolor\":\"rgb(36,36,36)\",\"ticks\":\"outside\"}},\"type\":\"scatter3d\"}],\"scattercarpet\":[{\"marker\":{\"colorbar\":{\"outlinewidth\":1,\"tickcolor\":\"rgb(36,36,36)\",\"ticks\":\"outside\"}},\"type\":\"scattercarpet\"}],\"scattergeo\":[{\"marker\":{\"colorbar\":{\"outlinewidth\":1,\"tickcolor\":\"rgb(36,36,36)\",\"ticks\":\"outside\"}},\"type\":\"scattergeo\"}],\"scattergl\":[{\"marker\":{\"colorbar\":{\"outlinewidth\":1,\"tickcolor\":\"rgb(36,36,36)\",\"ticks\":\"outside\"}},\"type\":\"scattergl\"}],\"scattermapbox\":[{\"marker\":{\"colorbar\":{\"outlinewidth\":1,\"tickcolor\":\"rgb(36,36,36)\",\"ticks\":\"outside\"}},\"type\":\"scattermapbox\"}],\"scatterpolargl\":[{\"marker\":{\"colorbar\":{\"outlinewidth\":1,\"tickcolor\":\"rgb(36,36,36)\",\"ticks\":\"outside\"}},\"type\":\"scatterpolargl\"}],\"scatterpolar\":[{\"marker\":{\"colorbar\":{\"outlinewidth\":1,\"tickcolor\":\"rgb(36,36,36)\",\"ticks\":\"outside\"}},\"type\":\"scatterpolar\"}],\"scatter\":[{\"fillpattern\":{\"fillmode\":\"overlay\",\"size\":10,\"solidity\":0.2},\"type\":\"scatter\"}],\"scatterternary\":[{\"marker\":{\"colorbar\":{\"outlinewidth\":1,\"tickcolor\":\"rgb(36,36,36)\",\"ticks\":\"outside\"}},\"type\":\"scatterternary\"}],\"surface\":[{\"colorbar\":{\"outlinewidth\":1,\"tickcolor\":\"rgb(36,36,36)\",\"ticks\":\"outside\"},\"colorscale\":[[0.0,\"#440154\"],[0.1111111111111111,\"#482878\"],[0.2222222222222222,\"#3e4989\"],[0.3333333333333333,\"#31688e\"],[0.4444444444444444,\"#26828e\"],[0.5555555555555556,\"#1f9e89\"],[0.6666666666666666,\"#35b779\"],[0.7777777777777778,\"#6ece58\"],[0.8888888888888888,\"#b5de2b\"],[1.0,\"#fde725\"]],\"type\":\"surface\"}],\"table\":[{\"cells\":{\"fill\":{\"color\":\"rgb(237,237,237)\"},\"line\":{\"color\":\"white\"}},\"header\":{\"fill\":{\"color\":\"rgb(217,217,217)\"},\"line\":{\"color\":\"white\"}},\"type\":\"table\"}]},\"layout\":{\"annotationdefaults\":{\"arrowhead\":0,\"arrowwidth\":1},\"autotypenumbers\":\"strict\",\"coloraxis\":{\"colorbar\":{\"outlinewidth\":1,\"tickcolor\":\"rgb(36,36,36)\",\"ticks\":\"outside\"}},\"colorscale\":{\"diverging\":[[0.0,\"rgb(103,0,31)\"],[0.1,\"rgb(178,24,43)\"],[0.2,\"rgb(214,96,77)\"],[0.3,\"rgb(244,165,130)\"],[0.4,\"rgb(253,219,199)\"],[0.5,\"rgb(247,247,247)\"],[0.6,\"rgb(209,229,240)\"],[0.7,\"rgb(146,197,222)\"],[0.8,\"rgb(67,147,195)\"],[0.9,\"rgb(33,102,172)\"],[1.0,\"rgb(5,48,97)\"]],\"sequential\":[[0.0,\"#440154\"],[0.1111111111111111,\"#482878\"],[0.2222222222222222,\"#3e4989\"],[0.3333333333333333,\"#31688e\"],[0.4444444444444444,\"#26828e\"],[0.5555555555555556,\"#1f9e89\"],[0.6666666666666666,\"#35b779\"],[0.7777777777777778,\"#6ece58\"],[0.8888888888888888,\"#b5de2b\"],[1.0,\"#fde725\"]],\"sequentialminus\":[[0.0,\"#440154\"],[0.1111111111111111,\"#482878\"],[0.2222222222222222,\"#3e4989\"],[0.3333333333333333,\"#31688e\"],[0.4444444444444444,\"#26828e\"],[0.5555555555555556,\"#1f9e89\"],[0.6666666666666666,\"#35b779\"],[0.7777777777777778,\"#6ece58\"],[0.8888888888888888,\"#b5de2b\"],[1.0,\"#fde725\"]]},\"colorway\":[\"#1F77B4\",\"#FF7F0E\",\"#2CA02C\",\"#D62728\",\"#9467BD\",\"#8C564B\",\"#E377C2\",\"#7F7F7F\",\"#BCBD22\",\"#17BECF\"],\"font\":{\"color\":\"rgb(36,36,36)\"},\"geo\":{\"bgcolor\":\"white\",\"lakecolor\":\"white\",\"landcolor\":\"white\",\"showlakes\":true,\"showland\":true,\"subunitcolor\":\"white\"},\"hoverlabel\":{\"align\":\"left\"},\"hovermode\":\"closest\",\"mapbox\":{\"style\":\"light\"},\"paper_bgcolor\":\"white\",\"plot_bgcolor\":\"white\",\"polar\":{\"angularaxis\":{\"gridcolor\":\"rgb(232,232,232)\",\"linecolor\":\"rgb(36,36,36)\",\"showgrid\":false,\"showline\":true,\"ticks\":\"outside\"},\"bgcolor\":\"white\",\"radialaxis\":{\"gridcolor\":\"rgb(232,232,232)\",\"linecolor\":\"rgb(36,36,36)\",\"showgrid\":false,\"showline\":true,\"ticks\":\"outside\"}},\"scene\":{\"xaxis\":{\"backgroundcolor\":\"white\",\"gridcolor\":\"rgb(232,232,232)\",\"gridwidth\":2,\"linecolor\":\"rgb(36,36,36)\",\"showbackground\":true,\"showgrid\":false,\"showline\":true,\"ticks\":\"outside\",\"zeroline\":false,\"zerolinecolor\":\"rgb(36,36,36)\"},\"yaxis\":{\"backgroundcolor\":\"white\",\"gridcolor\":\"rgb(232,232,232)\",\"gridwidth\":2,\"linecolor\":\"rgb(36,36,36)\",\"showbackground\":true,\"showgrid\":false,\"showline\":true,\"ticks\":\"outside\",\"zeroline\":false,\"zerolinecolor\":\"rgb(36,36,36)\"},\"zaxis\":{\"backgroundcolor\":\"white\",\"gridcolor\":\"rgb(232,232,232)\",\"gridwidth\":2,\"linecolor\":\"rgb(36,36,36)\",\"showbackground\":true,\"showgrid\":false,\"showline\":true,\"ticks\":\"outside\",\"zeroline\":false,\"zerolinecolor\":\"rgb(36,36,36)\"}},\"shapedefaults\":{\"fillcolor\":\"black\",\"line\":{\"width\":0},\"opacity\":0.3},\"ternary\":{\"aaxis\":{\"gridcolor\":\"rgb(232,232,232)\",\"linecolor\":\"rgb(36,36,36)\",\"showgrid\":false,\"showline\":true,\"ticks\":\"outside\"},\"baxis\":{\"gridcolor\":\"rgb(232,232,232)\",\"linecolor\":\"rgb(36,36,36)\",\"showgrid\":false,\"showline\":true,\"ticks\":\"outside\"},\"bgcolor\":\"white\",\"caxis\":{\"gridcolor\":\"rgb(232,232,232)\",\"linecolor\":\"rgb(36,36,36)\",\"showgrid\":false,\"showline\":true,\"ticks\":\"outside\"}},\"title\":{\"x\":0.05},\"xaxis\":{\"automargin\":true,\"gridcolor\":\"rgb(232,232,232)\",\"linecolor\":\"rgb(36,36,36)\",\"showgrid\":false,\"showline\":true,\"ticks\":\"outside\",\"title\":{\"standoff\":15},\"zeroline\":false,\"zerolinecolor\":\"rgb(36,36,36)\"},\"yaxis\":{\"automargin\":true,\"gridcolor\":\"rgb(232,232,232)\",\"linecolor\":\"rgb(36,36,36)\",\"showgrid\":false,\"showline\":true,\"ticks\":\"outside\",\"title\":{\"standoff\":15},\"zeroline\":false,\"zerolinecolor\":\"rgb(36,36,36)\"}}},\"width\":500,\"height\":500,\"title\":{\"text\":\"Fading Ensembles by Forward Trials\",\"y\":0.9,\"x\":0.5,\"xanchor\":\"center\",\"yanchor\":\"top\"},\"yaxis\":{\"title\":{\"text\":\"Proportion Fading Ensembles\"}}},                        {\"responsive\": true}                    ).then(function(){\n",
       "                            \n",
       "var gd = document.getElementById('add03c48-998a-4929-a1c0-097b1a076f07');\n",
       "var x = new MutationObserver(function (mutations, observer) {{\n",
       "        var display = window.getComputedStyle(gd).display;\n",
       "        if (!display || display === 'none') {{\n",
       "            console.log([gd, 'removed!']);\n",
       "            Plotly.purge(gd);\n",
       "            observer.disconnect();\n",
       "        }}\n",
       "}});\n",
       "\n",
       "// Listen for the removal of the full notebook cells\n",
       "var notebookContainer = gd.closest('#notebook-container');\n",
       "if (notebookContainer) {{\n",
       "    x.observe(notebookContainer, {childList: true});\n",
       "}}\n",
       "\n",
       "// Listen for the clearing of the current output cell\n",
       "var outputEl = gd.closest('.output');\n",
       "if (outputEl) {{\n",
       "    x.observe(outputEl, {childList: true});\n",
       "}}\n",
       "\n",
       "                        })                };                });            </script>        </div>"
      ]
     },
     "metadata": {},
     "output_type": "display_data"
    }
   ],
   "source": [
    "## Get proportion decreasing values\n",
    "prop_decreasing_T4 = []\n",
    "prop_decreasing_R1 = []\n",
    "mouse_name = []\n",
    "for key in mouse_trends:\n",
    "    prop_decreasing_T4.append(mouse_trends[key]['Training4']['prop_decreasing'])\n",
    "    prop_decreasing_R1.append(mouse_trends[key]['Reversal1']['prop_decreasing'])\n",
    "    mouse_name.append(key)\n",
    "prop_df = pd.DataFrame({'Mouse': mouse_name, 'Training4': prop_decreasing_T4, 'Reversal1': prop_decreasing_R1})\n",
    "## Plot prop_df\n",
    "x = ['Training4', 'Reversal1']\n",
    "avgs = [prop_df.Training4.mean(), prop_df.Reversal1.mean()]\n",
    "sem = [prop_df.Training4.sem(), prop_df.Reversal1.sem()]\n",
    "fig = go.Figure(data = go.Bar(x = x, y = avgs, error_y = dict(type = 'data', array = sem), showlegend = False))\n",
    "for row in prop_df.index:\n",
    "    data = prop_df.loc[row]\n",
    "    fig.add_trace(go.Scatter(x = x, y = [data.Training4, data.Reversal1], mode = 'lines+markers', line_color = 'grey', showlegend = False,\n",
    "                             line = dict(width = 1), name = prop_df.loc[row, 'Mouse'], marker_color = 'grey'))\n",
    "fig.update_layout(template = 'simple_white', width = 500, height = 500)\n",
    "fig.update_layout(\n",
    "    title={\n",
    "        'text': 'Fading Ensembles by Forward Trials',\n",
    "        'y':0.9,\n",
    "        'x':0.5,\n",
    "        'xanchor': 'center',\n",
    "        'yanchor': 'top'})\n",
    "fig.update_yaxes(title = 'Proportion Fading Ensembles')\n",
    "fig.update_traces(marker_color = 'red', marker_line_color = 'black', marker_line_width = 2)\n",
    "fig.show()"
   ]
  },
  {
   "cell_type": "code",
   "execution_count": 66,
   "metadata": {},
   "outputs": [
    {
     "data": {
      "text/plain": [
       "{'mc03': {'Training1': {'prop_increasing': 0.0, 'prop_decreasing': 0.0},\n",
       "  'Training2': {'prop_increasing': 0.0,\n",
       "   'prop_decreasing': 0.05263157894736842},\n",
       "  'Training3': {'prop_increasing': 0.0,\n",
       "   'prop_decreasing': 0.14705882352941177},\n",
       "  'Training4': {'prop_increasing': 0.07142857142857142,\n",
       "   'prop_decreasing': 0.023809523809523808},\n",
       "  'Reversal1': {'prop_increasing': 0.0, 'prop_decreasing': 0.0},\n",
       "  'Reversal4': {'prop_increasing': 0.0, 'prop_decreasing': 0.0},\n",
       "  'Training_Reversal': {'prop_increasing': 0.05263157894736842,\n",
       "   'prop_decreasing': 0.0}},\n",
       " 'mc06': {'Training1': {'prop_increasing': 0.0, 'prop_decreasing': 0.0},\n",
       "  'Training2': {'prop_increasing': 0.0, 'prop_decreasing': 0.0},\n",
       "  'Training3': {'prop_increasing': 0.024390243902439025,\n",
       "   'prop_decreasing': 0.0},\n",
       "  'Training4': {'prop_increasing': 0.0,\n",
       "   'prop_decreasing': 0.014925373134328358},\n",
       "  'Reversal1': {'prop_increasing': 0.018518518518518517,\n",
       "   'prop_decreasing': 0.037037037037037035},\n",
       "  'Reversal2': {'prop_increasing': 0.0, 'prop_decreasing': 0.0},\n",
       "  'Reversal3': {'prop_increasing': 0.0, 'prop_decreasing': 0.0},\n",
       "  'Reversal4': {'prop_increasing': 0.04054054054054054,\n",
       "   'prop_decreasing': 0.013513513513513514},\n",
       "  'Training_Reversal': {'prop_increasing': 0.0, 'prop_decreasing': 0.0}},\n",
       " 'mc07': {'Training1': {'prop_increasing': 0.0, 'prop_decreasing': 0.0},\n",
       "  'Training2': {'prop_increasing': 0.0, 'prop_decreasing': 0.0},\n",
       "  'Training3': {'prop_increasing': 0.0, 'prop_decreasing': 0.0967741935483871},\n",
       "  'Training4': {'prop_increasing': 0.029411764705882353,\n",
       "   'prop_decreasing': 0.0},\n",
       "  'Reversal1': {'prop_increasing': 0.0, 'prop_decreasing': 0.0},\n",
       "  'Reversal2': {'prop_increasing': 0.0,\n",
       "   'prop_decreasing': 0.03225806451612903},\n",
       "  'Reversal3': {'prop_increasing': 0.0, 'prop_decreasing': 0.0},\n",
       "  'Reversal4': {'prop_increasing': 0.06, 'prop_decreasing': 0.02},\n",
       "  'Training_Reversal': {'prop_increasing': 0.02127659574468085,\n",
       "   'prop_decreasing': 0.0}},\n",
       " 'mc09': {'Training3': {'prop_increasing': 0.041666666666666664,\n",
       "   'prop_decreasing': 0.041666666666666664},\n",
       "  'Training4': {'prop_increasing': 0.3333333333333333,\n",
       "   'prop_decreasing': 0.041666666666666664},\n",
       "  'Reversal1': {'prop_increasing': 0.0,\n",
       "   'prop_decreasing': 0.08108108108108109},\n",
       "  'Reversal2': {'prop_increasing': 0.045454545454545456,\n",
       "   'prop_decreasing': 0.0},\n",
       "  'Reversal3': {'prop_increasing': 0.0, 'prop_decreasing': 0.0},\n",
       "  'Reversal4': {'prop_increasing': 0.034482758620689655,\n",
       "   'prop_decreasing': 0.034482758620689655},\n",
       "  'Training_Reversal': {'prop_increasing': 0.0,\n",
       "   'prop_decreasing': 0.03571428571428571}},\n",
       " 'mc11': {'Training1': {'prop_increasing': 0.0, 'prop_decreasing': 0.0},\n",
       "  'Training2': {'prop_increasing': 0.18604651162790697,\n",
       "   'prop_decreasing': 0.0},\n",
       "  'Training3': {'prop_increasing': 0.6, 'prop_decreasing': 0.0},\n",
       "  'Training4': {'prop_increasing': 0.28, 'prop_decreasing': 0.04},\n",
       "  'Reversal1': {'prop_increasing': 0.35294117647058826,\n",
       "   'prop_decreasing': 0.029411764705882353},\n",
       "  'Reversal2': {'prop_increasing': 0.021739130434782608,\n",
       "   'prop_decreasing': 0.0},\n",
       "  'Reversal3': {'prop_increasing': 0.0, 'prop_decreasing': 0.0},\n",
       "  'Reversal4': {'prop_increasing': 0.0, 'prop_decreasing': 0.0},\n",
       "  'Training_Reversal': {'prop_increasing': 0.038461538461538464,\n",
       "   'prop_decreasing': 0.0}}}"
      ]
     },
     "execution_count": 66,
     "metadata": {},
     "output_type": "execute_result"
    }
   ],
   "source": [
    "mouse_trends"
   ]
  },
  {
   "cell_type": "code",
   "execution_count": 65,
   "metadata": {},
   "outputs": [
    {
     "data": {
      "application/vnd.plotly.v1+json": {
       "config": {
        "plotlyServerURL": "https://plot.ly"
       },
       "data": [
        {
         "marker": {
          "color": "red"
         },
         "mode": "markers",
         "opacity": 0.7,
         "type": "scatter",
         "x": [
          0,
          1,
          2,
          3,
          4,
          5,
          6,
          7,
          8,
          9,
          10,
          11,
          12,
          13,
          14,
          15,
          16,
          17,
          18,
          19,
          20,
          21,
          22,
          23,
          24,
          25,
          26,
          27,
          28,
          29,
          30,
          31,
          32,
          33,
          34,
          35,
          36,
          37,
          38,
          39,
          40,
          41,
          42,
          43,
          44,
          45,
          46,
          47,
          48,
          49,
          50,
          51,
          52,
          53,
          54,
          55,
          56,
          57,
          58,
          59,
          60,
          61,
          62,
          63,
          64
         ],
         "y": [
          86.77124996341097,
          64.89922383098975,
          58.521513913163716,
          4.433395403772122,
          54.28031401168656,
          210.44142623603756,
          21.99241361147583,
          24.15086274008445,
          26.65891387845264,
          48.81364345583825,
          84.28090040962799,
          32.84844003082513,
          56.538682985799376,
          39.17208961995578,
          50.24762392085862,
          14.224690572439961,
          61.178034739009526,
          120.3318849564684,
          3.7190765604556346,
          51.3960896579674,
          13.164210775709357,
          108.26571810359813,
          82.30432135787436,
          104.51442487898983,
          36.05884362986969,
          5.385003104824161,
          3.6712378834913166,
          27.567841767457477,
          48.53318569956945,
          40.642285536657646,
          6.083066508422014,
          21.463908757577663,
          1.8669888876515934,
          59.14467292707087,
          6.09631533244708,
          42.19158981275877,
          90.90258969927254,
          42.646790389471754,
          21.63371797988392,
          9.577273224187218,
          79.77694992281161,
          5.3131519982596,
          30.14857934592463,
          1.8996031849233417,
          26.863985746707677,
          3.9627465950485155,
          7.32353049159432,
          12.17988595975723,
          1.6739083504364662,
          3.519522441365057,
          2.633850052750848,
          10.380393884274062,
          3.0387437936476065,
          4.620169731247227,
          0.49829688013694473,
          7.116580006073365,
          7.138318151519472,
          5.621636525792476,
          30.149702112375504,
          72.15414379921285,
          11.158730466495864,
          3.3529753056721465,
          9.85652084252648,
          8.036370209758369,
          66.84614498212602
         ]
        }
       ],
       "layout": {
        "height": 500,
        "template": {
         "data": {
          "bar": [
           {
            "error_x": {
             "color": "rgb(36,36,36)"
            },
            "error_y": {
             "color": "rgb(36,36,36)"
            },
            "marker": {
             "line": {
              "color": "white",
              "width": 0.5
             },
             "pattern": {
              "fillmode": "overlay",
              "size": 10,
              "solidity": 0.2
             }
            },
            "type": "bar"
           }
          ],
          "barpolar": [
           {
            "marker": {
             "line": {
              "color": "white",
              "width": 0.5
             },
             "pattern": {
              "fillmode": "overlay",
              "size": 10,
              "solidity": 0.2
             }
            },
            "type": "barpolar"
           }
          ],
          "carpet": [
           {
            "aaxis": {
             "endlinecolor": "rgb(36,36,36)",
             "gridcolor": "white",
             "linecolor": "white",
             "minorgridcolor": "white",
             "startlinecolor": "rgb(36,36,36)"
            },
            "baxis": {
             "endlinecolor": "rgb(36,36,36)",
             "gridcolor": "white",
             "linecolor": "white",
             "minorgridcolor": "white",
             "startlinecolor": "rgb(36,36,36)"
            },
            "type": "carpet"
           }
          ],
          "choropleth": [
           {
            "colorbar": {
             "outlinewidth": 1,
             "tickcolor": "rgb(36,36,36)",
             "ticks": "outside"
            },
            "type": "choropleth"
           }
          ],
          "contour": [
           {
            "colorbar": {
             "outlinewidth": 1,
             "tickcolor": "rgb(36,36,36)",
             "ticks": "outside"
            },
            "colorscale": [
             [
              0,
              "#440154"
             ],
             [
              0.1111111111111111,
              "#482878"
             ],
             [
              0.2222222222222222,
              "#3e4989"
             ],
             [
              0.3333333333333333,
              "#31688e"
             ],
             [
              0.4444444444444444,
              "#26828e"
             ],
             [
              0.5555555555555556,
              "#1f9e89"
             ],
             [
              0.6666666666666666,
              "#35b779"
             ],
             [
              0.7777777777777778,
              "#6ece58"
             ],
             [
              0.8888888888888888,
              "#b5de2b"
             ],
             [
              1,
              "#fde725"
             ]
            ],
            "type": "contour"
           }
          ],
          "contourcarpet": [
           {
            "colorbar": {
             "outlinewidth": 1,
             "tickcolor": "rgb(36,36,36)",
             "ticks": "outside"
            },
            "type": "contourcarpet"
           }
          ],
          "heatmap": [
           {
            "colorbar": {
             "outlinewidth": 1,
             "tickcolor": "rgb(36,36,36)",
             "ticks": "outside"
            },
            "colorscale": [
             [
              0,
              "#440154"
             ],
             [
              0.1111111111111111,
              "#482878"
             ],
             [
              0.2222222222222222,
              "#3e4989"
             ],
             [
              0.3333333333333333,
              "#31688e"
             ],
             [
              0.4444444444444444,
              "#26828e"
             ],
             [
              0.5555555555555556,
              "#1f9e89"
             ],
             [
              0.6666666666666666,
              "#35b779"
             ],
             [
              0.7777777777777778,
              "#6ece58"
             ],
             [
              0.8888888888888888,
              "#b5de2b"
             ],
             [
              1,
              "#fde725"
             ]
            ],
            "type": "heatmap"
           }
          ],
          "heatmapgl": [
           {
            "colorbar": {
             "outlinewidth": 1,
             "tickcolor": "rgb(36,36,36)",
             "ticks": "outside"
            },
            "colorscale": [
             [
              0,
              "#440154"
             ],
             [
              0.1111111111111111,
              "#482878"
             ],
             [
              0.2222222222222222,
              "#3e4989"
             ],
             [
              0.3333333333333333,
              "#31688e"
             ],
             [
              0.4444444444444444,
              "#26828e"
             ],
             [
              0.5555555555555556,
              "#1f9e89"
             ],
             [
              0.6666666666666666,
              "#35b779"
             ],
             [
              0.7777777777777778,
              "#6ece58"
             ],
             [
              0.8888888888888888,
              "#b5de2b"
             ],
             [
              1,
              "#fde725"
             ]
            ],
            "type": "heatmapgl"
           }
          ],
          "histogram": [
           {
            "marker": {
             "line": {
              "color": "white",
              "width": 0.6
             }
            },
            "type": "histogram"
           }
          ],
          "histogram2d": [
           {
            "colorbar": {
             "outlinewidth": 1,
             "tickcolor": "rgb(36,36,36)",
             "ticks": "outside"
            },
            "colorscale": [
             [
              0,
              "#440154"
             ],
             [
              0.1111111111111111,
              "#482878"
             ],
             [
              0.2222222222222222,
              "#3e4989"
             ],
             [
              0.3333333333333333,
              "#31688e"
             ],
             [
              0.4444444444444444,
              "#26828e"
             ],
             [
              0.5555555555555556,
              "#1f9e89"
             ],
             [
              0.6666666666666666,
              "#35b779"
             ],
             [
              0.7777777777777778,
              "#6ece58"
             ],
             [
              0.8888888888888888,
              "#b5de2b"
             ],
             [
              1,
              "#fde725"
             ]
            ],
            "type": "histogram2d"
           }
          ],
          "histogram2dcontour": [
           {
            "colorbar": {
             "outlinewidth": 1,
             "tickcolor": "rgb(36,36,36)",
             "ticks": "outside"
            },
            "colorscale": [
             [
              0,
              "#440154"
             ],
             [
              0.1111111111111111,
              "#482878"
             ],
             [
              0.2222222222222222,
              "#3e4989"
             ],
             [
              0.3333333333333333,
              "#31688e"
             ],
             [
              0.4444444444444444,
              "#26828e"
             ],
             [
              0.5555555555555556,
              "#1f9e89"
             ],
             [
              0.6666666666666666,
              "#35b779"
             ],
             [
              0.7777777777777778,
              "#6ece58"
             ],
             [
              0.8888888888888888,
              "#b5de2b"
             ],
             [
              1,
              "#fde725"
             ]
            ],
            "type": "histogram2dcontour"
           }
          ],
          "mesh3d": [
           {
            "colorbar": {
             "outlinewidth": 1,
             "tickcolor": "rgb(36,36,36)",
             "ticks": "outside"
            },
            "type": "mesh3d"
           }
          ],
          "parcoords": [
           {
            "line": {
             "colorbar": {
              "outlinewidth": 1,
              "tickcolor": "rgb(36,36,36)",
              "ticks": "outside"
             }
            },
            "type": "parcoords"
           }
          ],
          "pie": [
           {
            "automargin": true,
            "type": "pie"
           }
          ],
          "scatter": [
           {
            "fillpattern": {
             "fillmode": "overlay",
             "size": 10,
             "solidity": 0.2
            },
            "type": "scatter"
           }
          ],
          "scatter3d": [
           {
            "line": {
             "colorbar": {
              "outlinewidth": 1,
              "tickcolor": "rgb(36,36,36)",
              "ticks": "outside"
             }
            },
            "marker": {
             "colorbar": {
              "outlinewidth": 1,
              "tickcolor": "rgb(36,36,36)",
              "ticks": "outside"
             }
            },
            "type": "scatter3d"
           }
          ],
          "scattercarpet": [
           {
            "marker": {
             "colorbar": {
              "outlinewidth": 1,
              "tickcolor": "rgb(36,36,36)",
              "ticks": "outside"
             }
            },
            "type": "scattercarpet"
           }
          ],
          "scattergeo": [
           {
            "marker": {
             "colorbar": {
              "outlinewidth": 1,
              "tickcolor": "rgb(36,36,36)",
              "ticks": "outside"
             }
            },
            "type": "scattergeo"
           }
          ],
          "scattergl": [
           {
            "marker": {
             "colorbar": {
              "outlinewidth": 1,
              "tickcolor": "rgb(36,36,36)",
              "ticks": "outside"
             }
            },
            "type": "scattergl"
           }
          ],
          "scattermapbox": [
           {
            "marker": {
             "colorbar": {
              "outlinewidth": 1,
              "tickcolor": "rgb(36,36,36)",
              "ticks": "outside"
             }
            },
            "type": "scattermapbox"
           }
          ],
          "scatterpolar": [
           {
            "marker": {
             "colorbar": {
              "outlinewidth": 1,
              "tickcolor": "rgb(36,36,36)",
              "ticks": "outside"
             }
            },
            "type": "scatterpolar"
           }
          ],
          "scatterpolargl": [
           {
            "marker": {
             "colorbar": {
              "outlinewidth": 1,
              "tickcolor": "rgb(36,36,36)",
              "ticks": "outside"
             }
            },
            "type": "scatterpolargl"
           }
          ],
          "scatterternary": [
           {
            "marker": {
             "colorbar": {
              "outlinewidth": 1,
              "tickcolor": "rgb(36,36,36)",
              "ticks": "outside"
             }
            },
            "type": "scatterternary"
           }
          ],
          "surface": [
           {
            "colorbar": {
             "outlinewidth": 1,
             "tickcolor": "rgb(36,36,36)",
             "ticks": "outside"
            },
            "colorscale": [
             [
              0,
              "#440154"
             ],
             [
              0.1111111111111111,
              "#482878"
             ],
             [
              0.2222222222222222,
              "#3e4989"
             ],
             [
              0.3333333333333333,
              "#31688e"
             ],
             [
              0.4444444444444444,
              "#26828e"
             ],
             [
              0.5555555555555556,
              "#1f9e89"
             ],
             [
              0.6666666666666666,
              "#35b779"
             ],
             [
              0.7777777777777778,
              "#6ece58"
             ],
             [
              0.8888888888888888,
              "#b5de2b"
             ],
             [
              1,
              "#fde725"
             ]
            ],
            "type": "surface"
           }
          ],
          "table": [
           {
            "cells": {
             "fill": {
              "color": "rgb(237,237,237)"
             },
             "line": {
              "color": "white"
             }
            },
            "header": {
             "fill": {
              "color": "rgb(217,217,217)"
             },
             "line": {
              "color": "white"
             }
            },
            "type": "table"
           }
          ]
         },
         "layout": {
          "annotationdefaults": {
           "arrowhead": 0,
           "arrowwidth": 1
          },
          "autotypenumbers": "strict",
          "coloraxis": {
           "colorbar": {
            "outlinewidth": 1,
            "tickcolor": "rgb(36,36,36)",
            "ticks": "outside"
           }
          },
          "colorscale": {
           "diverging": [
            [
             0,
             "rgb(103,0,31)"
            ],
            [
             0.1,
             "rgb(178,24,43)"
            ],
            [
             0.2,
             "rgb(214,96,77)"
            ],
            [
             0.3,
             "rgb(244,165,130)"
            ],
            [
             0.4,
             "rgb(253,219,199)"
            ],
            [
             0.5,
             "rgb(247,247,247)"
            ],
            [
             0.6,
             "rgb(209,229,240)"
            ],
            [
             0.7,
             "rgb(146,197,222)"
            ],
            [
             0.8,
             "rgb(67,147,195)"
            ],
            [
             0.9,
             "rgb(33,102,172)"
            ],
            [
             1,
             "rgb(5,48,97)"
            ]
           ],
           "sequential": [
            [
             0,
             "#440154"
            ],
            [
             0.1111111111111111,
             "#482878"
            ],
            [
             0.2222222222222222,
             "#3e4989"
            ],
            [
             0.3333333333333333,
             "#31688e"
            ],
            [
             0.4444444444444444,
             "#26828e"
            ],
            [
             0.5555555555555556,
             "#1f9e89"
            ],
            [
             0.6666666666666666,
             "#35b779"
            ],
            [
             0.7777777777777778,
             "#6ece58"
            ],
            [
             0.8888888888888888,
             "#b5de2b"
            ],
            [
             1,
             "#fde725"
            ]
           ],
           "sequentialminus": [
            [
             0,
             "#440154"
            ],
            [
             0.1111111111111111,
             "#482878"
            ],
            [
             0.2222222222222222,
             "#3e4989"
            ],
            [
             0.3333333333333333,
             "#31688e"
            ],
            [
             0.4444444444444444,
             "#26828e"
            ],
            [
             0.5555555555555556,
             "#1f9e89"
            ],
            [
             0.6666666666666666,
             "#35b779"
            ],
            [
             0.7777777777777778,
             "#6ece58"
            ],
            [
             0.8888888888888888,
             "#b5de2b"
            ],
            [
             1,
             "#fde725"
            ]
           ]
          },
          "colorway": [
           "#1F77B4",
           "#FF7F0E",
           "#2CA02C",
           "#D62728",
           "#9467BD",
           "#8C564B",
           "#E377C2",
           "#7F7F7F",
           "#BCBD22",
           "#17BECF"
          ],
          "font": {
           "color": "rgb(36,36,36)"
          },
          "geo": {
           "bgcolor": "white",
           "lakecolor": "white",
           "landcolor": "white",
           "showlakes": true,
           "showland": true,
           "subunitcolor": "white"
          },
          "hoverlabel": {
           "align": "left"
          },
          "hovermode": "closest",
          "mapbox": {
           "style": "light"
          },
          "paper_bgcolor": "white",
          "plot_bgcolor": "white",
          "polar": {
           "angularaxis": {
            "gridcolor": "rgb(232,232,232)",
            "linecolor": "rgb(36,36,36)",
            "showgrid": false,
            "showline": true,
            "ticks": "outside"
           },
           "bgcolor": "white",
           "radialaxis": {
            "gridcolor": "rgb(232,232,232)",
            "linecolor": "rgb(36,36,36)",
            "showgrid": false,
            "showline": true,
            "ticks": "outside"
           }
          },
          "scene": {
           "xaxis": {
            "backgroundcolor": "white",
            "gridcolor": "rgb(232,232,232)",
            "gridwidth": 2,
            "linecolor": "rgb(36,36,36)",
            "showbackground": true,
            "showgrid": false,
            "showline": true,
            "ticks": "outside",
            "zeroline": false,
            "zerolinecolor": "rgb(36,36,36)"
           },
           "yaxis": {
            "backgroundcolor": "white",
            "gridcolor": "rgb(232,232,232)",
            "gridwidth": 2,
            "linecolor": "rgb(36,36,36)",
            "showbackground": true,
            "showgrid": false,
            "showline": true,
            "ticks": "outside",
            "zeroline": false,
            "zerolinecolor": "rgb(36,36,36)"
           },
           "zaxis": {
            "backgroundcolor": "white",
            "gridcolor": "rgb(232,232,232)",
            "gridwidth": 2,
            "linecolor": "rgb(36,36,36)",
            "showbackground": true,
            "showgrid": false,
            "showline": true,
            "ticks": "outside",
            "zeroline": false,
            "zerolinecolor": "rgb(36,36,36)"
           }
          },
          "shapedefaults": {
           "fillcolor": "black",
           "line": {
            "width": 0
           },
           "opacity": 0.3
          },
          "ternary": {
           "aaxis": {
            "gridcolor": "rgb(232,232,232)",
            "linecolor": "rgb(36,36,36)",
            "showgrid": false,
            "showline": true,
            "ticks": "outside"
           },
           "baxis": {
            "gridcolor": "rgb(232,232,232)",
            "linecolor": "rgb(36,36,36)",
            "showgrid": false,
            "showline": true,
            "ticks": "outside"
           },
           "bgcolor": "white",
           "caxis": {
            "gridcolor": "rgb(232,232,232)",
            "linecolor": "rgb(36,36,36)",
            "showgrid": false,
            "showline": true,
            "ticks": "outside"
           }
          },
          "title": {
           "x": 0.05
          },
          "xaxis": {
           "automargin": true,
           "gridcolor": "rgb(232,232,232)",
           "linecolor": "rgb(36,36,36)",
           "showgrid": false,
           "showline": true,
           "ticks": "outside",
           "title": {
            "standoff": 15
           },
           "zeroline": false,
           "zerolinecolor": "rgb(36,36,36)"
          },
          "yaxis": {
           "automargin": true,
           "gridcolor": "rgb(232,232,232)",
           "linecolor": "rgb(36,36,36)",
           "showgrid": false,
           "showline": true,
           "ticks": "outside",
           "title": {
            "standoff": 15
           },
           "zeroline": false,
           "zerolinecolor": "rgb(36,36,36)"
          }
         }
        },
        "title": {
         "text": "Fading Ensemble - Ensemble 1",
         "x": 0.5,
         "xanchor": "center",
         "y": 0.9,
         "yanchor": "top"
        },
        "width": 500,
        "xaxis": {
         "title": {
          "text": "Trials"
         }
        },
        "yaxis": {
         "title": {
          "text": "Max Z Score"
         }
        }
       }
      },
      "text/html": [
       "<div>                            <div id=\"1def23f7-1f97-475d-a7eb-f6d5a6d41ff4\" class=\"plotly-graph-div\" style=\"height:500px; width:500px;\"></div>            <script type=\"text/javascript\">                require([\"plotly\"], function(Plotly) {                    window.PLOTLYENV=window.PLOTLYENV || {};                                    if (document.getElementById(\"1def23f7-1f97-475d-a7eb-f6d5a6d41ff4\")) {                    Plotly.newPlot(                        \"1def23f7-1f97-475d-a7eb-f6d5a6d41ff4\",                        [{\"marker\":{\"color\":\"red\"},\"mode\":\"markers\",\"opacity\":0.7,\"x\":[0,1,2,3,4,5,6,7,8,9,10,11,12,13,14,15,16,17,18,19,20,21,22,23,24,25,26,27,28,29,30,31,32,33,34,35,36,37,38,39,40,41,42,43,44,45,46,47,48,49,50,51,52,53,54,55,56,57,58,59,60,61,62,63,64],\"y\":[86.77124996341097,64.89922383098975,58.521513913163716,4.433395403772122,54.28031401168656,210.44142623603756,21.99241361147583,24.15086274008445,26.65891387845264,48.81364345583825,84.28090040962799,32.84844003082513,56.538682985799376,39.17208961995578,50.24762392085862,14.224690572439961,61.178034739009526,120.3318849564684,3.7190765604556346,51.3960896579674,13.164210775709357,108.26571810359813,82.30432135787436,104.51442487898983,36.05884362986969,5.385003104824161,3.6712378834913166,27.567841767457477,48.53318569956945,40.642285536657646,6.083066508422014,21.463908757577663,1.8669888876515934,59.14467292707087,6.09631533244708,42.19158981275877,90.90258969927254,42.646790389471754,21.63371797988392,9.577273224187218,79.77694992281161,5.3131519982596,30.14857934592463,1.8996031849233417,26.863985746707677,3.9627465950485155,7.32353049159432,12.17988595975723,1.6739083504364662,3.519522441365057,2.633850052750848,10.380393884274062,3.0387437936476065,4.620169731247227,0.49829688013694473,7.116580006073365,7.138318151519472,5.621636525792476,30.149702112375504,72.15414379921285,11.158730466495864,3.3529753056721465,9.85652084252648,8.036370209758369,66.84614498212602],\"type\":\"scatter\"}],                        {\"template\":{\"data\":{\"barpolar\":[{\"marker\":{\"line\":{\"color\":\"white\",\"width\":0.5},\"pattern\":{\"fillmode\":\"overlay\",\"size\":10,\"solidity\":0.2}},\"type\":\"barpolar\"}],\"bar\":[{\"error_x\":{\"color\":\"rgb(36,36,36)\"},\"error_y\":{\"color\":\"rgb(36,36,36)\"},\"marker\":{\"line\":{\"color\":\"white\",\"width\":0.5},\"pattern\":{\"fillmode\":\"overlay\",\"size\":10,\"solidity\":0.2}},\"type\":\"bar\"}],\"carpet\":[{\"aaxis\":{\"endlinecolor\":\"rgb(36,36,36)\",\"gridcolor\":\"white\",\"linecolor\":\"white\",\"minorgridcolor\":\"white\",\"startlinecolor\":\"rgb(36,36,36)\"},\"baxis\":{\"endlinecolor\":\"rgb(36,36,36)\",\"gridcolor\":\"white\",\"linecolor\":\"white\",\"minorgridcolor\":\"white\",\"startlinecolor\":\"rgb(36,36,36)\"},\"type\":\"carpet\"}],\"choropleth\":[{\"colorbar\":{\"outlinewidth\":1,\"tickcolor\":\"rgb(36,36,36)\",\"ticks\":\"outside\"},\"type\":\"choropleth\"}],\"contourcarpet\":[{\"colorbar\":{\"outlinewidth\":1,\"tickcolor\":\"rgb(36,36,36)\",\"ticks\":\"outside\"},\"type\":\"contourcarpet\"}],\"contour\":[{\"colorbar\":{\"outlinewidth\":1,\"tickcolor\":\"rgb(36,36,36)\",\"ticks\":\"outside\"},\"colorscale\":[[0.0,\"#440154\"],[0.1111111111111111,\"#482878\"],[0.2222222222222222,\"#3e4989\"],[0.3333333333333333,\"#31688e\"],[0.4444444444444444,\"#26828e\"],[0.5555555555555556,\"#1f9e89\"],[0.6666666666666666,\"#35b779\"],[0.7777777777777778,\"#6ece58\"],[0.8888888888888888,\"#b5de2b\"],[1.0,\"#fde725\"]],\"type\":\"contour\"}],\"heatmapgl\":[{\"colorbar\":{\"outlinewidth\":1,\"tickcolor\":\"rgb(36,36,36)\",\"ticks\":\"outside\"},\"colorscale\":[[0.0,\"#440154\"],[0.1111111111111111,\"#482878\"],[0.2222222222222222,\"#3e4989\"],[0.3333333333333333,\"#31688e\"],[0.4444444444444444,\"#26828e\"],[0.5555555555555556,\"#1f9e89\"],[0.6666666666666666,\"#35b779\"],[0.7777777777777778,\"#6ece58\"],[0.8888888888888888,\"#b5de2b\"],[1.0,\"#fde725\"]],\"type\":\"heatmapgl\"}],\"heatmap\":[{\"colorbar\":{\"outlinewidth\":1,\"tickcolor\":\"rgb(36,36,36)\",\"ticks\":\"outside\"},\"colorscale\":[[0.0,\"#440154\"],[0.1111111111111111,\"#482878\"],[0.2222222222222222,\"#3e4989\"],[0.3333333333333333,\"#31688e\"],[0.4444444444444444,\"#26828e\"],[0.5555555555555556,\"#1f9e89\"],[0.6666666666666666,\"#35b779\"],[0.7777777777777778,\"#6ece58\"],[0.8888888888888888,\"#b5de2b\"],[1.0,\"#fde725\"]],\"type\":\"heatmap\"}],\"histogram2dcontour\":[{\"colorbar\":{\"outlinewidth\":1,\"tickcolor\":\"rgb(36,36,36)\",\"ticks\":\"outside\"},\"colorscale\":[[0.0,\"#440154\"],[0.1111111111111111,\"#482878\"],[0.2222222222222222,\"#3e4989\"],[0.3333333333333333,\"#31688e\"],[0.4444444444444444,\"#26828e\"],[0.5555555555555556,\"#1f9e89\"],[0.6666666666666666,\"#35b779\"],[0.7777777777777778,\"#6ece58\"],[0.8888888888888888,\"#b5de2b\"],[1.0,\"#fde725\"]],\"type\":\"histogram2dcontour\"}],\"histogram2d\":[{\"colorbar\":{\"outlinewidth\":1,\"tickcolor\":\"rgb(36,36,36)\",\"ticks\":\"outside\"},\"colorscale\":[[0.0,\"#440154\"],[0.1111111111111111,\"#482878\"],[0.2222222222222222,\"#3e4989\"],[0.3333333333333333,\"#31688e\"],[0.4444444444444444,\"#26828e\"],[0.5555555555555556,\"#1f9e89\"],[0.6666666666666666,\"#35b779\"],[0.7777777777777778,\"#6ece58\"],[0.8888888888888888,\"#b5de2b\"],[1.0,\"#fde725\"]],\"type\":\"histogram2d\"}],\"histogram\":[{\"marker\":{\"line\":{\"color\":\"white\",\"width\":0.6}},\"type\":\"histogram\"}],\"mesh3d\":[{\"colorbar\":{\"outlinewidth\":1,\"tickcolor\":\"rgb(36,36,36)\",\"ticks\":\"outside\"},\"type\":\"mesh3d\"}],\"parcoords\":[{\"line\":{\"colorbar\":{\"outlinewidth\":1,\"tickcolor\":\"rgb(36,36,36)\",\"ticks\":\"outside\"}},\"type\":\"parcoords\"}],\"pie\":[{\"automargin\":true,\"type\":\"pie\"}],\"scatter3d\":[{\"line\":{\"colorbar\":{\"outlinewidth\":1,\"tickcolor\":\"rgb(36,36,36)\",\"ticks\":\"outside\"}},\"marker\":{\"colorbar\":{\"outlinewidth\":1,\"tickcolor\":\"rgb(36,36,36)\",\"ticks\":\"outside\"}},\"type\":\"scatter3d\"}],\"scattercarpet\":[{\"marker\":{\"colorbar\":{\"outlinewidth\":1,\"tickcolor\":\"rgb(36,36,36)\",\"ticks\":\"outside\"}},\"type\":\"scattercarpet\"}],\"scattergeo\":[{\"marker\":{\"colorbar\":{\"outlinewidth\":1,\"tickcolor\":\"rgb(36,36,36)\",\"ticks\":\"outside\"}},\"type\":\"scattergeo\"}],\"scattergl\":[{\"marker\":{\"colorbar\":{\"outlinewidth\":1,\"tickcolor\":\"rgb(36,36,36)\",\"ticks\":\"outside\"}},\"type\":\"scattergl\"}],\"scattermapbox\":[{\"marker\":{\"colorbar\":{\"outlinewidth\":1,\"tickcolor\":\"rgb(36,36,36)\",\"ticks\":\"outside\"}},\"type\":\"scattermapbox\"}],\"scatterpolargl\":[{\"marker\":{\"colorbar\":{\"outlinewidth\":1,\"tickcolor\":\"rgb(36,36,36)\",\"ticks\":\"outside\"}},\"type\":\"scatterpolargl\"}],\"scatterpolar\":[{\"marker\":{\"colorbar\":{\"outlinewidth\":1,\"tickcolor\":\"rgb(36,36,36)\",\"ticks\":\"outside\"}},\"type\":\"scatterpolar\"}],\"scatter\":[{\"fillpattern\":{\"fillmode\":\"overlay\",\"size\":10,\"solidity\":0.2},\"type\":\"scatter\"}],\"scatterternary\":[{\"marker\":{\"colorbar\":{\"outlinewidth\":1,\"tickcolor\":\"rgb(36,36,36)\",\"ticks\":\"outside\"}},\"type\":\"scatterternary\"}],\"surface\":[{\"colorbar\":{\"outlinewidth\":1,\"tickcolor\":\"rgb(36,36,36)\",\"ticks\":\"outside\"},\"colorscale\":[[0.0,\"#440154\"],[0.1111111111111111,\"#482878\"],[0.2222222222222222,\"#3e4989\"],[0.3333333333333333,\"#31688e\"],[0.4444444444444444,\"#26828e\"],[0.5555555555555556,\"#1f9e89\"],[0.6666666666666666,\"#35b779\"],[0.7777777777777778,\"#6ece58\"],[0.8888888888888888,\"#b5de2b\"],[1.0,\"#fde725\"]],\"type\":\"surface\"}],\"table\":[{\"cells\":{\"fill\":{\"color\":\"rgb(237,237,237)\"},\"line\":{\"color\":\"white\"}},\"header\":{\"fill\":{\"color\":\"rgb(217,217,217)\"},\"line\":{\"color\":\"white\"}},\"type\":\"table\"}]},\"layout\":{\"annotationdefaults\":{\"arrowhead\":0,\"arrowwidth\":1},\"autotypenumbers\":\"strict\",\"coloraxis\":{\"colorbar\":{\"outlinewidth\":1,\"tickcolor\":\"rgb(36,36,36)\",\"ticks\":\"outside\"}},\"colorscale\":{\"diverging\":[[0.0,\"rgb(103,0,31)\"],[0.1,\"rgb(178,24,43)\"],[0.2,\"rgb(214,96,77)\"],[0.3,\"rgb(244,165,130)\"],[0.4,\"rgb(253,219,199)\"],[0.5,\"rgb(247,247,247)\"],[0.6,\"rgb(209,229,240)\"],[0.7,\"rgb(146,197,222)\"],[0.8,\"rgb(67,147,195)\"],[0.9,\"rgb(33,102,172)\"],[1.0,\"rgb(5,48,97)\"]],\"sequential\":[[0.0,\"#440154\"],[0.1111111111111111,\"#482878\"],[0.2222222222222222,\"#3e4989\"],[0.3333333333333333,\"#31688e\"],[0.4444444444444444,\"#26828e\"],[0.5555555555555556,\"#1f9e89\"],[0.6666666666666666,\"#35b779\"],[0.7777777777777778,\"#6ece58\"],[0.8888888888888888,\"#b5de2b\"],[1.0,\"#fde725\"]],\"sequentialminus\":[[0.0,\"#440154\"],[0.1111111111111111,\"#482878\"],[0.2222222222222222,\"#3e4989\"],[0.3333333333333333,\"#31688e\"],[0.4444444444444444,\"#26828e\"],[0.5555555555555556,\"#1f9e89\"],[0.6666666666666666,\"#35b779\"],[0.7777777777777778,\"#6ece58\"],[0.8888888888888888,\"#b5de2b\"],[1.0,\"#fde725\"]]},\"colorway\":[\"#1F77B4\",\"#FF7F0E\",\"#2CA02C\",\"#D62728\",\"#9467BD\",\"#8C564B\",\"#E377C2\",\"#7F7F7F\",\"#BCBD22\",\"#17BECF\"],\"font\":{\"color\":\"rgb(36,36,36)\"},\"geo\":{\"bgcolor\":\"white\",\"lakecolor\":\"white\",\"landcolor\":\"white\",\"showlakes\":true,\"showland\":true,\"subunitcolor\":\"white\"},\"hoverlabel\":{\"align\":\"left\"},\"hovermode\":\"closest\",\"mapbox\":{\"style\":\"light\"},\"paper_bgcolor\":\"white\",\"plot_bgcolor\":\"white\",\"polar\":{\"angularaxis\":{\"gridcolor\":\"rgb(232,232,232)\",\"linecolor\":\"rgb(36,36,36)\",\"showgrid\":false,\"showline\":true,\"ticks\":\"outside\"},\"bgcolor\":\"white\",\"radialaxis\":{\"gridcolor\":\"rgb(232,232,232)\",\"linecolor\":\"rgb(36,36,36)\",\"showgrid\":false,\"showline\":true,\"ticks\":\"outside\"}},\"scene\":{\"xaxis\":{\"backgroundcolor\":\"white\",\"gridcolor\":\"rgb(232,232,232)\",\"gridwidth\":2,\"linecolor\":\"rgb(36,36,36)\",\"showbackground\":true,\"showgrid\":false,\"showline\":true,\"ticks\":\"outside\",\"zeroline\":false,\"zerolinecolor\":\"rgb(36,36,36)\"},\"yaxis\":{\"backgroundcolor\":\"white\",\"gridcolor\":\"rgb(232,232,232)\",\"gridwidth\":2,\"linecolor\":\"rgb(36,36,36)\",\"showbackground\":true,\"showgrid\":false,\"showline\":true,\"ticks\":\"outside\",\"zeroline\":false,\"zerolinecolor\":\"rgb(36,36,36)\"},\"zaxis\":{\"backgroundcolor\":\"white\",\"gridcolor\":\"rgb(232,232,232)\",\"gridwidth\":2,\"linecolor\":\"rgb(36,36,36)\",\"showbackground\":true,\"showgrid\":false,\"showline\":true,\"ticks\":\"outside\",\"zeroline\":false,\"zerolinecolor\":\"rgb(36,36,36)\"}},\"shapedefaults\":{\"fillcolor\":\"black\",\"line\":{\"width\":0},\"opacity\":0.3},\"ternary\":{\"aaxis\":{\"gridcolor\":\"rgb(232,232,232)\",\"linecolor\":\"rgb(36,36,36)\",\"showgrid\":false,\"showline\":true,\"ticks\":\"outside\"},\"baxis\":{\"gridcolor\":\"rgb(232,232,232)\",\"linecolor\":\"rgb(36,36,36)\",\"showgrid\":false,\"showline\":true,\"ticks\":\"outside\"},\"bgcolor\":\"white\",\"caxis\":{\"gridcolor\":\"rgb(232,232,232)\",\"linecolor\":\"rgb(36,36,36)\",\"showgrid\":false,\"showline\":true,\"ticks\":\"outside\"}},\"title\":{\"x\":0.05},\"xaxis\":{\"automargin\":true,\"gridcolor\":\"rgb(232,232,232)\",\"linecolor\":\"rgb(36,36,36)\",\"showgrid\":false,\"showline\":true,\"ticks\":\"outside\",\"title\":{\"standoff\":15},\"zeroline\":false,\"zerolinecolor\":\"rgb(36,36,36)\"},\"yaxis\":{\"automargin\":true,\"gridcolor\":\"rgb(232,232,232)\",\"linecolor\":\"rgb(36,36,36)\",\"showgrid\":false,\"showline\":true,\"ticks\":\"outside\",\"title\":{\"standoff\":15},\"zeroline\":false,\"zerolinecolor\":\"rgb(36,36,36)\"}}},\"height\":500,\"width\":500,\"yaxis\":{\"title\":{\"text\":\"Max Z Score\"}},\"xaxis\":{\"title\":{\"text\":\"Trials\"}},\"title\":{\"text\":\"Fading Ensemble - Ensemble 1\",\"y\":0.9,\"x\":0.5,\"xanchor\":\"center\",\"yanchor\":\"top\"}},                        {\"responsive\": true}                    ).then(function(){\n",
       "                            \n",
       "var gd = document.getElementById('1def23f7-1f97-475d-a7eb-f6d5a6d41ff4');\n",
       "var x = new MutationObserver(function (mutations, observer) {{\n",
       "        var display = window.getComputedStyle(gd).display;\n",
       "        if (!display || display === 'none') {{\n",
       "            console.log([gd, 'removed!']);\n",
       "            Plotly.purge(gd);\n",
       "            observer.disconnect();\n",
       "        }}\n",
       "}});\n",
       "\n",
       "// Listen for the removal of the full notebook cells\n",
       "var notebookContainer = gd.closest('#notebook-container');\n",
       "if (notebookContainer) {{\n",
       "    x.observe(notebookContainer, {childList: true});\n",
       "}}\n",
       "\n",
       "// Listen for the clearing of the current output cell\n",
       "var outputEl = gd.closest('.output');\n",
       "if (outputEl) {{\n",
       "    x.observe(outputEl, {childList: true});\n",
       "}}\n",
       "\n",
       "                        })                };                });            </script>        </div>"
      ]
     },
     "metadata": {},
     "output_type": "display_data"
    }
   ],
   "source": [
    "## Plot peak activation of a fading ensemble\n",
    "activations = mouse_binned_activations['mc09']['Reversal1']\n",
    "ensemble_number = 1\n",
    "fig = pf.plot_activation_strength(activations, ensemble_number = ensemble_number, figure_path = figure_path, x_bin_size = None,\n",
    "                                  title = 'Fading Ensemble', y_title = 'Max Z Score', x_title = 'Trials', \n",
    "                                  file_name = 'max_strength_fading_forward_trials.png'.format(x_bin_size), marker_color = 'red')"
   ]
  },
  {
   "cell_type": "markdown",
   "metadata": {},
   "source": [
    "The code block below was used to detect PCA/ICA ensembles for each mouse and subsequently save those detected ensembles."
   ]
  },
  {
   "cell_type": "code",
   "execution_count": null,
   "metadata": {},
   "outputs": [],
   "source": [
    "## Save assemblies of all sessions in the keys.yml file\n",
    "mouse_list =  ['mc06']    \n",
    "dpath = '/media/caishuman/csstorage3/Austin/CircleTrack/EnsembleRemodeling_Resubmission/circletrack_data'\n",
    "spath = '/media/caishuman/csstorage3/Austin/CircleTrack/EnsembleRemodeling_Resubmission/circletrack_data/assemblies'\n",
    "for mouse in mouse_list:\n",
    "    mpath = pjoin(spath, mouse)\n",
    "    neural_dictionary = ctn.import_mouse_neural_data(dpath, mouse, key_file = 'minian_keys.yml', session = '30min', plot_frame_usage = False)\n",
    "    ica.save_detected_ensembles(mpath, mouse, neural_dictionary, binarize = True, smooth_factor = 5, nullhyp = 'circ', n_shuffles = 500)"
   ]
  }
 ],
 "metadata": {
  "kernelspec": {
   "display_name": "Python 3.10.6 ('calcium')",
   "language": "python",
   "name": "python3"
  },
  "language_info": {
   "codemirror_mode": {
    "name": "ipython",
    "version": 3
   },
   "file_extension": ".py",
   "mimetype": "text/x-python",
   "name": "python",
   "nbconvert_exporter": "python",
   "pygments_lexer": "ipython3",
   "version": "3.10.6"
  },
  "orig_nbformat": 4,
  "vscode": {
   "interpreter": {
    "hash": "3dd79809ed5cd61d934147ab957e61d0ca120bfb2ec4541704fc20d5f29e686c"
   }
  }
 },
 "nbformat": 4,
 "nbformat_minor": 2
}
