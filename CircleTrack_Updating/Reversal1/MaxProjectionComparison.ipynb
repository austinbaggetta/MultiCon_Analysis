{
 "cells": [
  {
   "cell_type": "code",
   "execution_count": null,
   "metadata": {},
   "outputs": [],
   "source": [
    "%%capture\n",
    "%load_ext autoreload\n",
    "%autoreload 2\n",
    "%matplotlib inline\n",
    "import os\n",
    "import sys\n",
    "import numpy as np\n",
    "import pandas as pd\n",
    "import xarray as xr\n",
    "\n",
    "import plotly.graph_objects as go\n",
    "from plotly.subplots import make_subplots"
   ]
  },
  {
   "cell_type": "code",
   "execution_count": null,
   "metadata": {},
   "outputs": [],
   "source": [
    "sys.path.append('/media/caishuman/csstorage3/Austin/CircleTrack/CircleTrackAnalysis')\n",
    "import circletrack_neural as ctn"
   ]
  },
  {
   "cell_type": "code",
   "execution_count": null,
   "metadata": {},
   "outputs": [],
   "source": [
    "## Set data for two different sessions\n",
    "mouse = 'mc07'\n",
    "session_one = '2022_10_04'\n",
    "timestamp_one = '17_15_28'\n",
    "\n",
    "session_two = '2022_10_05'\n",
    "timestamp_two = '15_05_37'\n",
    "dpath_one = '/media/caishuman/csstorage3/Austin/CircleTrack/EnsembleRemodeling_Resubmission/CircleTrack_Data/Results/{}/{}/{}/minian'.format(mouse, session_one, timestamp_one)\n",
    "dpath_two = '/media/caishuman/csstorage3/Austin/CircleTrack/EnsembleRemodeling_Resubmission/CircleTrack_Data/Results/{}/{}/{}/minian'.format(mouse, session_two, timestamp_two)"
   ]
  },
  {
   "cell_type": "code",
   "execution_count": null,
   "metadata": {},
   "outputs": [],
   "source": [
    "## Load max projection for both sessions\n",
    "max_one = ctn.open_minian(dpath_one)['max_proj']\n",
    "max_two = ctn.open_minian(dpath_two)['max_proj']"
   ]
  },
  {
   "cell_type": "code",
   "execution_count": null,
   "metadata": {},
   "outputs": [],
   "source": [
    "## Plot max projections\n",
    "fig = make_subplots(rows = 1, cols = 2)\n",
    "## Max projection of session one\n",
    "fig.add_trace(go.Heatmap(z=max_one, colorscale='Viridis', showscale=False), row = 1, col = 1)\n",
    "## Max projection of session two\n",
    "fig.add_trace(go.Heatmap(z=max_two, colorscale='Viridis', showscale=False), row = 1, col = 2)\n",
    "fig.update_layout(width = 1600, height = 800)\n",
    "fig.update_yaxes(matches = 'y')\n",
    "fig.update_xaxes(matches = 'x')\n",
    "fig.show(config={\"scrollZoom\": True})"
   ]
  }
 ],
 "metadata": {
  "kernelspec": {
   "display_name": "Python 3.10.6 ('calcium')",
   "language": "python",
   "name": "python3"
  },
  "language_info": {
   "codemirror_mode": {
    "name": "ipython",
    "version": 3
   },
   "file_extension": ".py",
   "mimetype": "text/x-python",
   "name": "python",
   "nbconvert_exporter": "python",
   "pygments_lexer": "ipython3",
   "version": "3.10.6"
  },
  "orig_nbformat": 4,
  "vscode": {
   "interpreter": {
    "hash": "3dd79809ed5cd61d934147ab957e61d0ca120bfb2ec4541704fc20d5f29e686c"
   }
  }
 },
 "nbformat": 4,
 "nbformat_minor": 2
}
