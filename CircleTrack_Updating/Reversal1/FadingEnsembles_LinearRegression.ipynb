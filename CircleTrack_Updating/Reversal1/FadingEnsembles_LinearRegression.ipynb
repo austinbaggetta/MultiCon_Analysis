{
 "cells": [
  {
   "cell_type": "code",
   "execution_count": 2,
   "metadata": {},
   "outputs": [
    {
     "name": "stderr",
     "output_type": "stream",
     "text": [
      "/home/austinbaggetta/.conda/envs/calcium/lib/python3.10/site-packages/outdated/utils.py:14: OutdatedCacheFailedWarning: Failed to use cache while checking for outdated package.\n",
      "Set the environment variable OUTDATED_RAISE_EXCEPTION=1 for a full traceback.\n",
      "Set the environment variable OUTDATED_IGNORE=1 to disable these warnings.\n",
      "  return warn(\n",
      "/home/austinbaggetta/.conda/envs/calcium/lib/python3.10/site-packages/outdated/utils.py:14: OutdatedPackageWarning: The package pingouin is out of date. Your version is 0.5.2, the latest is 0.5.3.\n",
      "Set the environment variable OUTDATED_IGNORE=1 to disable these warnings.\n",
      "  return warn(\n"
     ]
    }
   ],
   "source": [
    "%load_ext autoreload\n",
    "%autoreload 2\n",
    "import pandas as pd\n",
    "import numpy as np\n",
    "import xarray as xr\n",
    "import os\n",
    "import pingouin as pg\n",
    "from tqdm import tqdm\n",
    "from os.path import join as pjoin\n",
    "import plotly.graph_objects as go\n",
    "from plotly.subplots import make_subplots\n",
    "from scipy.stats import pearsonr, spearmanr, zscore, wilcoxon\n",
    "import sys"
   ]
  },
  {
   "cell_type": "code",
   "execution_count": 3,
   "metadata": {},
   "outputs": [],
   "source": [
    "sys.path.append('..')\n",
    "import circletrack_neural as ctn\n",
    "import circletrack_behavior as ctb\n",
    "import pca_ica as ica\n",
    "import plotting_functions as pf"
   ]
  },
  {
   "cell_type": "code",
   "execution_count": 4,
   "metadata": {},
   "outputs": [],
   "source": [
    "## Create a list of sessions for easy plotting later and for changing column order\n",
    "session_list = ['Training1', 'Training2', 'Training3', 'Training4', 'Reversal1', 'Reversal2', 'Reversal3', 'Reversal4', 'Training_Reversal']\n",
    "## Create session_id dictionary\n",
    "session_dict = {'mc03': ['Training1', 'Training2', 'Training3', 'Training4', 'Reversal1', 'Reversal4', 'Training_Reversal'],\n",
    "                'mc06': ['Training1', 'Training2', 'Training3', 'Training4', 'Reversal1', 'Reversal2', 'Reversal3', 'Reversal4', 'Training_Reversal'],\n",
    "                'mc07': ['Training1', 'Training2', 'Training3', 'Training4', 'Reversal1', 'Reversal2', 'Reversal3', 'Reversal4', 'Training_Reversal'],\n",
    "                'mc09': ['Training3', 'Training4', 'Reversal1', 'Reversal2', 'Reversal3', 'Reversal4', 'Training_Reversal'],\n",
    "                'mc11': ['Training1', 'Training2', 'Training3', 'Training4', 'Reversal1', 'Reversal2', 'Reversal3', 'Reversal4', 'Training_Reversal']}\n",
    "## Set path variables\n",
    "ensemble_path = '../../EnsembleRemodeling_Resubmission/circletrack_data/assemblies'\n",
    "behavior_path = '../../EnsembleRemodeling_Resubmission/circletrack_data'  "
   ]
  },
  {
   "cell_type": "code",
   "execution_count": null,
   "metadata": {},
   "outputs": [],
   "source": [
    "## Set parameters\n",
    "mouse_list = ['mc03', 'mc06', 'mc07', 'mc09'] ## excluded mc11\n",
    "x_bin_size = 1\n",
    "analysis_type = 'average_value'\n",
    "alpha_old = 0.05\n",
    "correction = 'sidak'\n",
    "cohort = 'cohort1'\n",
    "figure_path = '../../EnsembleRemodeling_Resubmission/circletrack_data/python_analysis/progress_figures/{}'.format(cohort)\n",
    "## Loop through each mouse\n",
    "mouse_ensemble_trends = {}\n",
    "mouse_ensemble_proportions = {}\n",
    "for mouse in tqdm(mouse_list):\n",
    "    ## saved ensemble data path\n",
    "    spath = pjoin(ensemble_path, mouse)\n",
    "    session_trends = {}\n",
    "    session_proportions = {}\n",
    "    for session in session_dict[mouse]:\n",
    "        ## Load a specific session's assemblies\n",
    "        assemblies = ica.load_session_assemblies(mouse, spath = spath, session_id = session)\n",
    "        act = assemblies.activations.values\n",
    "        ## Calculate ensemble trends\n",
    "        ensemble_trends = ica.ensemble_trends_linear_regression(act, x_bin_size = x_bin_size, analysis_type = analysis_type, alpha_old = alpha_old, correction = correction)\n",
    "        session_trends[session] = ensemble_trends\n",
    "        ## Calculate proportions\n",
    "        session_proportions[session] = ica.calculate_proportions_ensembles(ensemble_trends, function = 'linear_regression')\n",
    "    mouse_ensemble_trends[mouse] = session_trends\n",
    "    mouse_ensemble_proportions[mouse] = session_proportions"
   ]
  },
  {
   "cell_type": "code",
   "execution_count": null,
   "metadata": {},
   "outputs": [],
   "source": [
    "## Get proportion decreasing values\n",
    "prop_decreasing_T4 = []\n",
    "prop_decreasing_R1 = []\n",
    "mouse_name = []\n",
    "for key in mouse_ensemble_proportions:\n",
    "    prop_decreasing_T4.append(mouse_ensemble_proportions[key]['Training4']['prop_decreasing'])\n",
    "    prop_decreasing_R1.append(mouse_ensemble_proportions[key]['Reversal1']['prop_decreasing'])\n",
    "    mouse_name.append(key)\n",
    "prop_df = pd.DataFrame({'Mouse': mouse_name, 'Training4': prop_decreasing_T4, 'Reversal1': prop_decreasing_R1})\n",
    "## Plot prop_df\n",
    "x = ['Training4', 'Reversal1']\n",
    "avgs = [prop_df.Training4.mean(), prop_df.Reversal1.mean()]\n",
    "sem = [prop_df.Training4.sem(), prop_df.Reversal1.sem()]\n",
    "fig = go.Figure(data = go.Bar(x = x, y = avgs, error_y = dict(type = 'data', array = sem), showlegend = False))\n",
    "for row in prop_df.index:\n",
    "    data = prop_df.loc[row]\n",
    "    fig.add_trace(go.Scatter(x = x, y = [data.Training4, data.Reversal1], mode = 'lines', line_color = 'grey', showlegend = False,\n",
    "                             line = dict(width = 1), name = prop_df.loc[row, 'Mouse']))\n",
    "fig.update_layout(template = 'simple_white', width = 500, height = 500)\n",
    "fig.update_layout(\n",
    "    title={\n",
    "        'text': 'Fading Ensembles by Time',\n",
    "        'y':0.9,\n",
    "        'x':0.5,\n",
    "        'xanchor': 'center',\n",
    "        'yanchor': 'top'})\n",
    "fig.update_yaxes(title = 'Proportion Fading Ensembles')\n",
    "fig.update_traces(marker_color = 'red', marker_line_color = 'black', marker_line_width = 2)\n",
    "fig.show()\n",
    "# fig.write_image(pjoin(figure_path, 'proportion_fading_trials.png'))"
   ]
  },
  {
   "attachments": {},
   "cell_type": "markdown",
   "metadata": {},
   "source": [
    "DO THE SAME ANALYSIS FOR COHORT0"
   ]
  },
  {
   "cell_type": "code",
   "execution_count": null,
   "metadata": {},
   "outputs": [],
   "source": [
    "## Create a list of sessions for easy plotting later and for changing column order\n",
    "session_list = ['Training1', 'Training2', 'Training3', 'Training4', 'Reversal1']\n",
    "## Set path variables\n",
    "dpath = '/media/caishuman/csstorage/phild/git/MazeProjects/output/assemblies'\n",
    "behav_path = '/media/caishuman/csstorage/phild/git/MazeProjects/output/behav'\n",
    "## Create young and old mouse list\n",
    "young_mice = ['Fornax', 'Janus', 'Lyra', 'Miranda', 'Naiad', 'Sao', 'Titania']\n",
    "old_mice = ['Gemini', 'Oberon', 'Puck', 'Rhea', 'Umbriel', 'Virgo', 'Ymir', 'Atlas']\n",
    "## Create list of female or male young mice\n",
    "young_female_mice = ['Fornax', 'Janus', 'Lyra', 'Sao', 'Titania']\n",
    "male_young_mice = ['Miranda', 'Naiad']"
   ]
  },
  {
   "cell_type": "code",
   "execution_count": null,
   "metadata": {},
   "outputs": [],
   "source": [
    "## Set parameters\n",
    "x_bin_size = 1\n",
    "analysis_type = 'average_value'\n",
    "alpha_old = 0.05\n",
    "correction = 'sidak'\n",
    "cohort = 'cohort0'\n",
    "figure_path = '../../EnsembleRemodeling_Resubmission/circletrack_data/python_analysis/progress_figures/{}'.format(cohort)\n",
    "## Loop through each mouse\n",
    "mouse_ensemble_trends = {}\n",
    "mouse_ensemble_proportions = {}\n",
    "for mouse in tqdm(young_mice):\n",
    "    ## saved ensemble data path\n",
    "    session_trends = {}\n",
    "    session_proportions = {}\n",
    "    for session in session_list:\n",
    "        ## Load a specific session's assemblies\n",
    "        assemblies = ica.load_session_assemblies(mouse, spath = dpath, session_id = session)\n",
    "        act = assemblies.activations.values\n",
    "        ## Calculate ensemble trends\n",
    "        ensemble_trends = ica.ensemble_trends_linear_regression(act, x_bin_size = x_bin_size, analysis_type = analysis_type, alpha_old = alpha_old, correction = correction)\n",
    "        session_trends[session] = ensemble_trends\n",
    "        ## Calculate proportions\n",
    "        session_proportions[session] = ica.calculate_proportions_ensembles(ensemble_trends, function = 'linear_regression')\n",
    "    mouse_ensemble_trends[mouse] = session_trends\n",
    "    mouse_ensemble_proportions[mouse] = session_proportions"
   ]
  },
  {
   "cell_type": "code",
   "execution_count": null,
   "metadata": {},
   "outputs": [],
   "source": [
    "## Get proportion decreasing values\n",
    "prop_decreasing_T4 = []\n",
    "prop_decreasing_R1 = []\n",
    "mouse_name = []\n",
    "for key in mouse_ensemble_proportions:\n",
    "    prop_decreasing_T4.append(mouse_ensemble_proportions[key]['Training4']['prop_decreasing'])\n",
    "    prop_decreasing_R1.append(mouse_ensemble_proportions[key]['Reversal1']['prop_decreasing'])\n",
    "    mouse_name.append(key)\n",
    "prop_df = pd.DataFrame({'Mouse': mouse_name, 'Training4': prop_decreasing_T4, 'Reversal1': prop_decreasing_R1})\n",
    "## Plot prop_df\n",
    "x = ['Training4', 'Reversal1']\n",
    "avgs = [prop_df.Training4.mean(), prop_df.Reversal1.mean()]\n",
    "sem = [prop_df.Training4.sem(), prop_df.Reversal1.sem()]\n",
    "fig = go.Figure(data = go.Bar(x = x, y = avgs, error_y = dict(type = 'data', array = sem), showlegend = False))\n",
    "for row in prop_df.index:\n",
    "    data = prop_df.loc[row]\n",
    "    fig.add_trace(go.Scatter(x = x, y = [data.Training4, data.Reversal1], mode = 'lines', line_color = 'grey', showlegend = False,\n",
    "                             line = dict(width = 1), name = prop_df.loc[row, 'Mouse']))\n",
    "fig.update_layout(template = 'simple_white', width = 500, height = 500)\n",
    "fig.update_layout(\n",
    "    title={\n",
    "        'text': 'Fading Ensembles by Time',\n",
    "        'y':0.9,\n",
    "        'x':0.5,\n",
    "        'xanchor': 'center',\n",
    "        'yanchor': 'top'})\n",
    "fig.update_yaxes(title = 'Proportion Fading Ensembles')\n",
    "fig.update_traces(marker_color = 'red', marker_line_color = 'black', marker_line_width = 2)\n",
    "fig.show()\n",
    "# fig.write_image(pjoin(figure_path, 'proportion_fading_trials.png'))"
   ]
  },
  {
   "attachments": {},
   "cell_type": "markdown",
   "metadata": {},
   "source": [
    "Instead of detecting fading ensembles on an ensemble by ensemble basis, get the average activation strength for all ensembles and see if it's decreasing across the session."
   ]
  },
  {
   "cell_type": "code",
   "execution_count": 18,
   "metadata": {},
   "outputs": [
    {
     "name": "stderr",
     "output_type": "stream",
     "text": [
      "100%|██████████| 4/4 [00:02<00:00,  1.45it/s]\n"
     ]
    }
   ],
   "source": [
    "## Set parameters\n",
    "mouse_list = ['mc03', 'mc06', 'mc07', 'mc09'] ## excluded mc11\n",
    "x_bin_size = 5\n",
    "analysis_type = 'average_value'\n",
    "alpha_old = 0.05\n",
    "correction = 'sidak'\n",
    "cohort = 'cohort1'\n",
    "zscore_data = True\n",
    "figure_path = '../../EnsembleRemodeling_Resubmission/circletrack_data/python_analysis/progress_figures/{}'.format(cohort)\n",
    "## Loop through each mouse\n",
    "mouse_avg_values = {}\n",
    "mouse_lm_results = {}\n",
    "for mouse in tqdm(mouse_list):\n",
    "    ## saved ensemble data path\n",
    "    spath = pjoin(ensemble_path, mouse)\n",
    "    session_avg_values = {}\n",
    "    session_lm = {}\n",
    "    for session in session_dict[mouse]:\n",
    "        ## Load a specific session's assemblies\n",
    "        assemblies = ica.load_session_assemblies(mouse, spath = spath, session_id = session)\n",
    "        act = assemblies.activations.values\n",
    "        ## Get average activation strength across all ensembles\n",
    "        avg_act_strength = np.mean(act, axis = 0)\n",
    "        if zscore_data == True:\n",
    "            avg_act_strength = zscore(avg_act_strength)\n",
    "        ## Calculate ensemble trends\n",
    "        average_values = ica.bin_avg_transient(avg_act_strength, x_bin_size, analysis_type = analysis_type)\n",
    "        session_avg_values[session] = average_values\n",
    "        ## Calculate linear regression of the session's average activation strength\n",
    "        time = np.arange(0, len(average_values))\n",
    "        lm_avg_values = pg.linear_regression(time, average_values, as_dataframe = False)\n",
    "        session_lm[session] = lm_avg_values\n",
    "    mouse_avg_values[mouse] = session_avg_values\n",
    "    mouse_lm_results[mouse] = session_lm"
   ]
  }
 ],
 "metadata": {
  "kernelspec": {
   "display_name": "calcium",
   "language": "python",
   "name": "python3"
  },
  "language_info": {
   "codemirror_mode": {
    "name": "ipython",
    "version": 3
   },
   "file_extension": ".py",
   "mimetype": "text/x-python",
   "name": "python",
   "nbconvert_exporter": "python",
   "pygments_lexer": "ipython3",
   "version": "3.10.6"
  },
  "orig_nbformat": 4,
  "vscode": {
   "interpreter": {
    "hash": "3dd79809ed5cd61d934147ab957e61d0ca120bfb2ec4541704fc20d5f29e686c"
   }
  }
 },
 "nbformat": 4,
 "nbformat_minor": 2
}
