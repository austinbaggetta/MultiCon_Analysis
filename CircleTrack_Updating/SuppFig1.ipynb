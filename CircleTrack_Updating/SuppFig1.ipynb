{
 "cells": [
  {
   "cell_type": "code",
   "execution_count": null,
   "metadata": {},
   "outputs": [],
   "source": [
    "%load_ext autoreload\n",
    "%autoreload 2\n",
    "import os\n",
    "import sys\n",
    "import numpy as np\n",
    "import pandas as pd\n",
    "import xarray as xr\n",
    "import pingouin as pg\n",
    "import plotly.express as px\n",
    "from plotly.express.colors import n_colors\n",
    "import plotly.graph_objects as go\n",
    "from os.path import join as pjoin\n",
    "from natsort import natsort_keygen, natsorted\n",
    "\n",
    "sys.path.append(\"../\")\n",
    "import circletrack_behavior as ctb\n",
    "import plotting_functions as pf\n",
    "import circletrack_neural as ctn"
   ]
  },
  {
   "cell_type": "code",
   "execution_count": null,
   "metadata": {},
   "outputs": [],
   "source": [
    "## Settings\n",
    "project_folder = ['CircleTrack_Updating']\n",
    "experiment_folders = ['Reversal2']\n",
    "dpath = f'../../{project_folder[0]}'\n",
    "fig_path = f'../../../Manuscripts/MemoryUpdating/intermediate_plots'\n",
    "chance_color = 'darkgrey'\n",
    "avg_color = 'midnightblue'\n",
    "subject_color = 'darkgrey'\n",
    "two_colors = ['darkorchid', 'midnightblue']\n",
    "error_color = ['rgba(153,50,204,0.4)', 'rgba(25,25,112,0.4)'] #'rgba(169,169,169,0.4)'\n",
    "session_list = ['A1', 'A2', 'A3', 'A4', 'A5', 'AU1', 'AU2', 'AU3', 'AU4', '', 'AR1', 'AR2'] ## space added for empty plot\n",
    "old_new_list = ['AU1', 'AU2', 'AU3', 'AU4', 'AR1', 'AR2']\n",
    "\n",
    "if not os.path.exists(fig_path):\n",
    "    os.makedirs(fig_path)"
   ]
  },
  {
   "cell_type": "markdown",
   "metadata": {},
   "source": [
    "### Plot weight across days as a percentage of baseline weight."
   ]
  },
  {
   "cell_type": "code",
   "execution_count": null,
   "metadata": {},
   "outputs": [],
   "source": [
    "weight_data = pd.read_csv(pjoin(fig_path, 'intermediate_data/weight_from_baseline.csv'))\n",
    "column_list = [f'{x}' for x in np.arange(1, 19)]\n",
    "weight_melt = weight_data.melt(id_vars=['Mouse'], value_vars=column_list, var_name='day', value_name='percent_change')\n",
    "weight_melt['day'] = weight_melt['day'].astype(int)\n",
    "avg_weight = weight_melt.groupby(['day'], as_index=False).agg({'percent_change': ['mean', 'sem']})\n",
    "\n",
    "fig = pf.custom_graph_template(x_title='Day', y_title='Weight Change from Baseline (%)')\n",
    "fig.add_trace(go.Scatter(x=natsorted(avg_weight['day']), y=avg_weight['percent_change']['mean'], mode='lines+markers', line_color=avg_color,\n",
    "                         error_y=dict(type='data', array=avg_weight['percent_change']['sem']), showlegend=False))\n",
    "\n",
    "fig.update_yaxes(range=[75, 101])\n",
    "fig.add_vline(x=7.5, line_width=1, opacity=1, line_dash='dash', line_color=chance_color)\n",
    "fig.add_hline(y=80, line_width=1, opacity=1, line_dash='dash', line_color=chance_color)\n",
    "fig.show()\n",
    "fig.write_image(pjoin(fig_path, 'weight_from_baseline.png'))"
   ]
  },
  {
   "cell_type": "markdown",
   "metadata": {},
   "source": [
    "### Plot fluorescence intensity across days for the experiment."
   ]
  },
  {
   "cell_type": "code",
   "execution_count": null,
   "metadata": {},
   "outputs": [],
   "source": [
    "fluo_data = pd.read_csv(pjoin(fig_path, 'intermediate_data/fluorescence_data.csv'))\n",
    "avg_fluo = fluo_data.groupby(['day'], as_index=False).agg({'mean_fluorescence': ['mean', 'sem']})\n",
    "\n",
    "fig = pf.custom_graph_template(x_title='Day', y_title='Mean Fluorescence (a.u.)')\n",
    "fig.add_trace(go.Scatter(x=natsorted(avg_fluo['day']), y=avg_fluo['mean_fluorescence']['mean'], mode='lines+markers', line_color=avg_color,\n",
    "                         error_y=dict(type='data', array=avg_fluo['mean_fluorescence']['sem']), showlegend=False))\n",
    "for mouse in fluo_data['mouse'].unique():\n",
    "    mdata = fluo_data[fluo_data['mouse'] == mouse]\n",
    "    fig.add_trace(go.Scatter(x=mdata['day'], y=mdata['mean_fluorescence'], mode='lines', line_color=subject_color, \n",
    "                             name=mouse, opacity=0.7, line=dict(width=1), showlegend=False))\n",
    "fig.show()"
   ]
  },
  {
   "cell_type": "markdown",
   "metadata": {},
   "source": [
    "### Load S and YrA to see how well S matches YrA."
   ]
  },
  {
   "cell_type": "code",
   "execution_count": null,
   "metadata": {},
   "outputs": [],
   "source": [
    "mouse = 'rv03'\n",
    "experiment = experiment_folders[0]\n",
    "sess = 5\n",
    "s_session = f'{mouse}_S_{sess}.nc'\n",
    "yra_session = f'{mouse}_YrA_{sess}.nc'\n",
    "rpath = pjoin(dpath, f'{experiment}/output/aligned_minian/{mouse}')\n",
    "\n",
    "S = xr.open_dataset(pjoin(rpath, f'S/{s_session}'))['S']\n",
    "YrA = xr.open_dataset(pjoin(rpath, f'YrA/{yra_session}'))['YrA']"
   ]
  },
  {
   "cell_type": "code",
   "execution_count": null,
   "metadata": {},
   "outputs": [],
   "source": [
    "cell_id = 3\n",
    "scale_factor = 3\n",
    "fig = pf.custom_graph_template(x_title='Time (s)', y_title='Activity (a.u.)', width=1000)\n",
    "fig.add_trace(go.Scatter(x=YrA['behav_t'], y=YrA.values[cell_id], mode='lines', line_color='darkgrey', name='dF/F'))\n",
    "fig.add_trace(go.Scatter(x=S['behav_t'], y=S.values[cell_id]*scale_factor, mode='lines', \n",
    "                         line_color='red', name='S', opacity=0.7))\n",
    "fig.show()\n",
    "fig.write_image(pjoin(fig_path, 'S_over_fluorescence.png'))"
   ]
  },
  {
   "cell_type": "markdown",
   "metadata": {},
   "source": [
    "### Loading sessions for testing alignments."
   ]
  },
  {
   "cell_type": "code",
   "execution_count": null,
   "metadata": {},
   "outputs": [],
   "source": [
    "experiment = experiment_folders[0]\n",
    "offset = 5\n",
    "col_name = 'unix'\n",
    "starting_idx = 0\n",
    "mouse = 'rv03'\n",
    "date = '2024_11_17'\n",
    "timestamp = '10_12_01'\n",
    "behav_path = pjoin(dpath, f'{experiment}/output/behav/{mouse}')\n",
    "behav = pd.read_feather(pjoin(behav_path, f'{mouse}_{2}.feat'))\n",
    "act = ctn.open_minian(f'/media/caishuman/csstorage3/Austin/CircleTrack/CircleTrack_Updating/Reversal2/minian_results/{mouse}/{date}/{timestamp}/minian')['S']\n",
    "act_shifted, aligned_behav = ctn.align_calcium_behavior(act, behav, col_name=col_name)"
   ]
  }
 ],
 "metadata": {
  "language_info": {
   "name": "python"
  }
 },
 "nbformat": 4,
 "nbformat_minor": 2
}
