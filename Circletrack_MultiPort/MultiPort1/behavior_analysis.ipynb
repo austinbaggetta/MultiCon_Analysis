{
 "cells": [
  {
   "cell_type": "code",
   "execution_count": 5,
   "metadata": {},
   "outputs": [
    {
     "name": "stdout",
     "output_type": "stream",
     "text": [
      "The autoreload extension is already loaded. To reload it, use:\n",
      "  %reload_ext autoreload\n"
     ]
    }
   ],
   "source": [
    "%load_ext autoreload\n",
    "%autoreload 2\n",
    "import os\n",
    "import sys\n",
    "import numpy as np\n",
    "import pandas as pd\n",
    "import xarray as xr\n",
    "import pingouin as pg\n",
    "import plotly.graph_objects as go\n",
    "from os.path import join as pjoin\n",
    "from natsort import natsorted\n",
    "\n",
    "sys.path.append(\"../../\")\n",
    "import circletrack_behavior as ctb\n",
    "import plotting_functions as pf"
   ]
  },
  {
   "cell_type": "code",
   "execution_count": 59,
   "metadata": {},
   "outputs": [],
   "source": [
    "## Settings\n",
    "parent_dir = 'CircleTrack_MultiPort'\n",
    "experiment_dir = 'MultiPort1'\n",
    "lin_path = f'../../../{parent_dir}/{experiment_dir}/output/lin_behav/'\n",
    "circle_path = f'../../../{parent_dir}/{experiment_dir}/output/behav/'\n",
    "fig_path = f'../../../{parent_dir}/{experiment_dir}/intermediate_figures'\n",
    "chance_color = 'darkgrey'\n",
    "avg_color = 'midnightblue'\n",
    "subject_color = 'darkgrey'\n",
    "mice_list = [f'mp0{x}' for x in np.arange(1, 10)] + ['mp10', 'mp11', 'mp12']\n",
    "two_port = ['mp01', 'mp04', 'mp07', 'mp10']\n",
    "four_port = ['mp02', 'mp05', 'mp08', 'mp11']\n",
    "group_colors_dict = {'Two Port': 'darkgrey', 'Four Port': 'midnightblue', 'Six Port': 'darkorchid'}\n",
    "group_colors_list = ['midnightblue', 'darkorchid', 'darkgrey']\n",
    "error_color = ['rgba(169,169,169,0.4)', 'rgba(25,25,112,0.4)', 'rgba(153,50,204,0.4)']\n",
    "group_list = ['Two Port', 'Four Port', 'Six Port']\n",
    "\n",
    "if not os.path.exists(fig_path):\n",
    "    os.makedirs(fig_path)"
   ]
  },
  {
   "cell_type": "markdown",
   "metadata": {},
   "source": [
    "### Plot linear track rewards across days."
   ]
  },
  {
   "cell_type": "code",
   "execution_count": null,
   "metadata": {},
   "outputs": [],
   "source": [
    "lin_dict = {'mouse': [], 'day': [], 'rewards': [], 'group': [], 'group_two': []}\n",
    "for mouse in os.listdir(lin_path):\n",
    "    mouse_path = pjoin(lin_path, mouse)\n",
    "    group = 'Two Port' if mouse in two_port else 'Four Port' if mouse in four_port else 'Six Port'\n",
    "    for idx, session in enumerate(os.listdir(mouse_path)):\n",
    "        lin_behav = pd.read_feather(pjoin(mouse_path, f'{session}'))\n",
    "        lin_dict['mouse'].append(mouse)\n",
    "        lin_dict['day'].append(idx+1)\n",
    "        lin_dict['rewards'].append(np.sum(lin_behav['water']))\n",
    "        lin_dict['group'].append(group)\n",
    "        lin_dict['group_two'].append(lin_behav['maze'].unique()[0])\n",
    "lin_df = pd.DataFrame(lin_dict)"
   ]
  },
  {
   "cell_type": "code",
   "execution_count": null,
   "metadata": {},
   "outputs": [],
   "source": [
    "## Plot rewards across days on linear track\n",
    "fig = pf.plot_behavior_across_days(lin_df, x_var='day', y_var='rewards', groupby_var=['day'], plot_transitions=None,\n",
    "                                   marker_color=subject_color, avg_color=avg_color, expert_line=False, chance=False, plot_datapoints=False,\n",
    "                                   x_title='Day', y_title='Rewards', titles=['Linear Track'], height=500, width=500)\n",
    "fig.show()\n",
    "fig.write_image(pjoin(fig_path, 'linear_track_rewards.png'))"
   ]
  },
  {
   "cell_type": "markdown",
   "metadata": {},
   "source": [
    "### Circle track lick accuracy"
   ]
  },
  {
   "cell_type": "code",
   "execution_count": 42,
   "metadata": {},
   "outputs": [],
   "source": [
    "circletrack_results = {'mouse': [], 'day': [], 'group': [], 'session': [], 'lick_accuracy_thresh5': [], 'rewards': [], 'num_trials': []}\n",
    "for mouse in os.listdir(circle_path):\n",
    "    mouse_path = pjoin(circle_path, mouse)\n",
    "    group = 'Two Port' if mouse in two_port else 'Four Port' if mouse in four_port else 'Six Port'\n",
    "    for idx, session in enumerate(os.listdir(mouse_path)):\n",
    "        behav = pd.read_feather(pjoin(mouse_path, f'{session}'))\n",
    "        behav = behav[~behav['probe']]\n",
    "        if group == 'Two Port':\n",
    "            reward_one, reward_two = np.unique(behav['reward_one'])[0], np.unique(behav['reward_two'])[0]\n",
    "            rewards = [reward_one, reward_two]\n",
    "        elif group == 'Four Port':\n",
    "            reward_one, reward_two = np.unique(behav['reward_one'])[0], np.unique(behav['reward_two'])[0]\n",
    "            reward_three, reward_four = np.unique(behav['reward_three'])[0], np.unique(behav['reward_four'])[0]\n",
    "            rewards = [reward_one, reward_two, reward_three, reward_four]\n",
    "        elif group == 'Six Port':\n",
    "            reward_one, reward_two = np.unique(behav['reward_one'])[0], np.unique(behav['reward_two'])[0]\n",
    "            reward_three, reward_four = np.unique(behav['reward_three'])[0], np.unique(behav['reward_four'])[0]\n",
    "            reward_five, reward_six = np.unique(behav['reward_five'])[0], np.unique(behav['reward_six'])[0]\n",
    "            rewards = [reward_one, reward_two, reward_three, reward_four, reward_five, reward_six]\n",
    "        \n",
    "        pc = ctb.lick_accuracy(behav, port_list=rewards, lick_threshold=5, by_trials=False)\n",
    "        circletrack_results['mouse'].append(mouse)\n",
    "        circletrack_results['day'].append(idx+1)\n",
    "        circletrack_results['group'].append(group)\n",
    "        circletrack_results['session'].append(np.unique(behav['session_two'])[0])\n",
    "        circletrack_results['lick_accuracy_thresh5'].append(pc)\n",
    "        circletrack_results['rewards'].append(np.sum(behav['water']))\n",
    "        circletrack_results['num_trials'].append(behav['trials'].unique()[-1])\n",
    "ct_df = pd.DataFrame(circletrack_results)"
   ]
  },
  {
   "cell_type": "code",
   "execution_count": null,
   "metadata": {},
   "outputs": [],
   "source": [
    "## Plot 5th lick accuracy across days\n",
    "fig = pf.plot_behavior_across_days(ct_df[ct_df['day'] < 6], x_var='day', y_var='lick_accuracy_thresh5', groupby_var=['day', 'group'], plot_transitions=None,\n",
    "                                   marker_color=group_colors_list, avg_color=avg_color, expert_line=False, chance=True, plot_datapoints=False,\n",
    "                                   x_title='Day', y_title='Lick Accuracy (%)', titles=['Circle Track'], height=500, width=500)\n",
    "\n",
    "fig.add_hline(y=50, line_width=1, line_dash='dash', line_color='midnightblue', opacity=1)\n",
    "fig.add_hline(y=75, line_width=1, line_dash='dash', line_color='darkorchid', opacity=1)\n",
    "fig.update_yaxes(range=[0, 100])\n",
    "fig.show()\n",
    "fig.write_image(pjoin(fig_path, 'lick_accuracy.png'))"
   ]
  },
  {
   "cell_type": "code",
   "execution_count": null,
   "metadata": {},
   "outputs": [],
   "source": [
    "## Plot rewards across days\n",
    "fig = pf.plot_behavior_across_days(ct_df[ct_df['day'] < 6], x_var='day', y_var='rewards', groupby_var=['day', 'group'], plot_transitions=None,\n",
    "                                   marker_color=group_colors_list, avg_color=avg_color, expert_line=False, chance=False, plot_datapoints=False,\n",
    "                                   x_title='Day', y_title='Rewards', titles=['Circle Track'], height=500, width=500)\n",
    "fig.update_yaxes(range=[0, 120])\n",
    "fig.show()\n",
    "fig.write_image(pjoin(fig_path, 'circle_track_rewards.png'))"
   ]
  },
  {
   "cell_type": "code",
   "execution_count": null,
   "metadata": {},
   "outputs": [
    {
     "data": {
      "application/vnd.plotly.v1+json": {
       "config": {
        "plotlyServerURL": "https://plot.ly"
       },
       "data": [
        {
         "box": {
          "visible": true
         },
         "jitter": 0.4,
         "legendgroup": "1",
         "line": {
          "color": "darkgrey"
         },
         "meanline": {
          "visible": true
         },
         "name": "Two Port",
         "points": "all",
         "scalegroup": "1",
         "showlegend": false,
         "type": "violin",
         "x": [
          1,
          1,
          1,
          1
         ],
         "y": [
          29,
          25,
          14,
          31
         ]
        },
        {
         "box": {
          "visible": true
         },
         "jitter": 0.4,
         "legendgroup": "1",
         "line": {
          "color": "midnightblue"
         },
         "meanline": {
          "visible": true
         },
         "name": "Four Port",
         "points": "all",
         "scalegroup": "1",
         "showlegend": false,
         "type": "violin",
         "x": [
          1,
          1,
          1,
          1
         ],
         "y": [
          37,
          25,
          24,
          27
         ]
        },
        {
         "box": {
          "visible": true
         },
         "jitter": 0.4,
         "legendgroup": "1",
         "line": {
          "color": "darkorchid"
         },
         "meanline": {
          "visible": true
         },
         "name": "Six Port",
         "points": "all",
         "scalegroup": "1",
         "showlegend": false,
         "type": "violin",
         "x": [
          1,
          1,
          1,
          1
         ],
         "y": [
          29,
          20,
          6,
          32
         ]
        },
        {
         "box": {
          "visible": true
         },
         "jitter": 0.4,
         "legendgroup": "2",
         "line": {
          "color": "darkgrey"
         },
         "meanline": {
          "visible": true
         },
         "name": "Two Port",
         "points": "all",
         "scalegroup": "2",
         "showlegend": false,
         "type": "violin",
         "x": [
          2,
          2,
          2,
          2
         ],
         "y": [
          46,
          55,
          null,
          62
         ]
        },
        {
         "box": {
          "visible": true
         },
         "jitter": 0.4,
         "legendgroup": "2",
         "line": {
          "color": "midnightblue"
         },
         "meanline": {
          "visible": true
         },
         "name": "Four Port",
         "points": "all",
         "scalegroup": "2",
         "showlegend": false,
         "type": "violin",
         "x": [
          2,
          2,
          2,
          2
         ],
         "y": [
          40,
          40,
          28,
          13
         ]
        },
        {
         "box": {
          "visible": true
         },
         "jitter": 0.4,
         "legendgroup": "2",
         "line": {
          "color": "darkorchid"
         },
         "meanline": {
          "visible": true
         },
         "name": "Six Port",
         "points": "all",
         "scalegroup": "2",
         "showlegend": false,
         "type": "violin",
         "x": [
          2,
          2,
          2,
          2
         ],
         "y": [
          29,
          30,
          15,
          3
         ]
        },
        {
         "box": {
          "visible": true
         },
         "jitter": 0.4,
         "legendgroup": "3",
         "line": {
          "color": "darkgrey"
         },
         "meanline": {
          "visible": true
         },
         "name": "Two Port",
         "points": "all",
         "scalegroup": "3",
         "showlegend": false,
         "type": "violin",
         "x": [
          3,
          3,
          3,
          3
         ],
         "y": [
          45,
          50,
          36,
          62
         ]
        },
        {
         "box": {
          "visible": true
         },
         "jitter": 0.4,
         "legendgroup": "3",
         "line": {
          "color": "midnightblue"
         },
         "meanline": {
          "visible": true
         },
         "name": "Four Port",
         "points": "all",
         "scalegroup": "3",
         "showlegend": false,
         "type": "violin",
         "x": [
          3,
          3,
          3,
          3
         ],
         "y": [
          39,
          34,
          35,
          22
         ]
        },
        {
         "box": {
          "visible": true
         },
         "jitter": 0.4,
         "legendgroup": "3",
         "line": {
          "color": "darkorchid"
         },
         "meanline": {
          "visible": true
         },
         "name": "Six Port",
         "points": "all",
         "scalegroup": "3",
         "showlegend": false,
         "type": "violin",
         "x": [
          3,
          3,
          3,
          3
         ],
         "y": [
          25,
          46,
          21,
          32
         ]
        },
        {
         "box": {
          "visible": true
         },
         "jitter": 0.4,
         "legendgroup": "4",
         "line": {
          "color": "darkgrey"
         },
         "meanline": {
          "visible": true
         },
         "name": "Two Port",
         "points": "all",
         "scalegroup": "4",
         "showlegend": false,
         "type": "violin",
         "x": [
          4,
          4,
          4,
          4
         ],
         "y": [
          30,
          46,
          29,
          63
         ]
        },
        {
         "box": {
          "visible": true
         },
         "jitter": 0.4,
         "legendgroup": "4",
         "line": {
          "color": "midnightblue"
         },
         "meanline": {
          "visible": true
         },
         "name": "Four Port",
         "points": "all",
         "scalegroup": "4",
         "showlegend": false,
         "type": "violin",
         "x": [
          4,
          4,
          4,
          4
         ],
         "y": [
          29,
          39,
          31,
          32
         ]
        },
        {
         "box": {
          "visible": true
         },
         "jitter": 0.4,
         "legendgroup": "4",
         "line": {
          "color": "darkorchid"
         },
         "meanline": {
          "visible": true
         },
         "name": "Six Port",
         "points": "all",
         "scalegroup": "4",
         "showlegend": false,
         "type": "violin",
         "x": [
          4,
          4,
          4,
          4
         ],
         "y": [
          24,
          45,
          20,
          27
         ]
        },
        {
         "box": {
          "visible": true
         },
         "jitter": 0.4,
         "legendgroup": "5",
         "line": {
          "color": "darkgrey"
         },
         "meanline": {
          "visible": true
         },
         "name": "Two Port",
         "points": "all",
         "scalegroup": "5",
         "showlegend": false,
         "type": "violin",
         "x": [
          5,
          5,
          5,
          5
         ],
         "y": [
          45,
          39,
          32,
          68
         ]
        },
        {
         "box": {
          "visible": true
         },
         "jitter": 0.4,
         "legendgroup": "5",
         "line": {
          "color": "midnightblue"
         },
         "meanline": {
          "visible": true
         },
         "name": "Four Port",
         "points": "all",
         "scalegroup": "5",
         "showlegend": false,
         "type": "violin",
         "x": [
          5,
          5,
          5,
          5
         ],
         "y": [
          44,
          53,
          29,
          28
         ]
        },
        {
         "box": {
          "visible": true
         },
         "jitter": 0.4,
         "legendgroup": "5",
         "line": {
          "color": "darkorchid"
         },
         "meanline": {
          "visible": true
         },
         "name": "Six Port",
         "points": "all",
         "scalegroup": "5",
         "showlegend": false,
         "type": "violin",
         "x": [
          5,
          5,
          5,
          5
         ],
         "y": [
          34,
          32,
          17,
          32
         ]
        }
       ],
       "layout": {
        "font": {
         "family": "Arial",
         "size": 22
        },
        "height": 500,
        "template": {
         "data": {
          "bar": [
           {
            "error_x": {
             "color": "rgb(36,36,36)"
            },
            "error_y": {
             "color": "rgb(36,36,36)"
            },
            "marker": {
             "line": {
              "color": "white",
              "width": 0.5
             },
             "pattern": {
              "fillmode": "overlay",
              "size": 10,
              "solidity": 0.2
             }
            },
            "type": "bar"
           }
          ],
          "barpolar": [
           {
            "marker": {
             "line": {
              "color": "white",
              "width": 0.5
             },
             "pattern": {
              "fillmode": "overlay",
              "size": 10,
              "solidity": 0.2
             }
            },
            "type": "barpolar"
           }
          ],
          "carpet": [
           {
            "aaxis": {
             "endlinecolor": "rgb(36,36,36)",
             "gridcolor": "white",
             "linecolor": "white",
             "minorgridcolor": "white",
             "startlinecolor": "rgb(36,36,36)"
            },
            "baxis": {
             "endlinecolor": "rgb(36,36,36)",
             "gridcolor": "white",
             "linecolor": "white",
             "minorgridcolor": "white",
             "startlinecolor": "rgb(36,36,36)"
            },
            "type": "carpet"
           }
          ],
          "choropleth": [
           {
            "colorbar": {
             "outlinewidth": 1,
             "tickcolor": "rgb(36,36,36)",
             "ticks": "outside"
            },
            "type": "choropleth"
           }
          ],
          "contour": [
           {
            "colorbar": {
             "outlinewidth": 1,
             "tickcolor": "rgb(36,36,36)",
             "ticks": "outside"
            },
            "colorscale": [
             [
              0,
              "#440154"
             ],
             [
              0.1111111111111111,
              "#482878"
             ],
             [
              0.2222222222222222,
              "#3e4989"
             ],
             [
              0.3333333333333333,
              "#31688e"
             ],
             [
              0.4444444444444444,
              "#26828e"
             ],
             [
              0.5555555555555556,
              "#1f9e89"
             ],
             [
              0.6666666666666666,
              "#35b779"
             ],
             [
              0.7777777777777778,
              "#6ece58"
             ],
             [
              0.8888888888888888,
              "#b5de2b"
             ],
             [
              1,
              "#fde725"
             ]
            ],
            "type": "contour"
           }
          ],
          "contourcarpet": [
           {
            "colorbar": {
             "outlinewidth": 1,
             "tickcolor": "rgb(36,36,36)",
             "ticks": "outside"
            },
            "type": "contourcarpet"
           }
          ],
          "heatmap": [
           {
            "colorbar": {
             "outlinewidth": 1,
             "tickcolor": "rgb(36,36,36)",
             "ticks": "outside"
            },
            "colorscale": [
             [
              0,
              "#440154"
             ],
             [
              0.1111111111111111,
              "#482878"
             ],
             [
              0.2222222222222222,
              "#3e4989"
             ],
             [
              0.3333333333333333,
              "#31688e"
             ],
             [
              0.4444444444444444,
              "#26828e"
             ],
             [
              0.5555555555555556,
              "#1f9e89"
             ],
             [
              0.6666666666666666,
              "#35b779"
             ],
             [
              0.7777777777777778,
              "#6ece58"
             ],
             [
              0.8888888888888888,
              "#b5de2b"
             ],
             [
              1,
              "#fde725"
             ]
            ],
            "type": "heatmap"
           }
          ],
          "heatmapgl": [
           {
            "colorbar": {
             "outlinewidth": 1,
             "tickcolor": "rgb(36,36,36)",
             "ticks": "outside"
            },
            "colorscale": [
             [
              0,
              "#440154"
             ],
             [
              0.1111111111111111,
              "#482878"
             ],
             [
              0.2222222222222222,
              "#3e4989"
             ],
             [
              0.3333333333333333,
              "#31688e"
             ],
             [
              0.4444444444444444,
              "#26828e"
             ],
             [
              0.5555555555555556,
              "#1f9e89"
             ],
             [
              0.6666666666666666,
              "#35b779"
             ],
             [
              0.7777777777777778,
              "#6ece58"
             ],
             [
              0.8888888888888888,
              "#b5de2b"
             ],
             [
              1,
              "#fde725"
             ]
            ],
            "type": "heatmapgl"
           }
          ],
          "histogram": [
           {
            "marker": {
             "line": {
              "color": "white",
              "width": 0.6
             }
            },
            "type": "histogram"
           }
          ],
          "histogram2d": [
           {
            "colorbar": {
             "outlinewidth": 1,
             "tickcolor": "rgb(36,36,36)",
             "ticks": "outside"
            },
            "colorscale": [
             [
              0,
              "#440154"
             ],
             [
              0.1111111111111111,
              "#482878"
             ],
             [
              0.2222222222222222,
              "#3e4989"
             ],
             [
              0.3333333333333333,
              "#31688e"
             ],
             [
              0.4444444444444444,
              "#26828e"
             ],
             [
              0.5555555555555556,
              "#1f9e89"
             ],
             [
              0.6666666666666666,
              "#35b779"
             ],
             [
              0.7777777777777778,
              "#6ece58"
             ],
             [
              0.8888888888888888,
              "#b5de2b"
             ],
             [
              1,
              "#fde725"
             ]
            ],
            "type": "histogram2d"
           }
          ],
          "histogram2dcontour": [
           {
            "colorbar": {
             "outlinewidth": 1,
             "tickcolor": "rgb(36,36,36)",
             "ticks": "outside"
            },
            "colorscale": [
             [
              0,
              "#440154"
             ],
             [
              0.1111111111111111,
              "#482878"
             ],
             [
              0.2222222222222222,
              "#3e4989"
             ],
             [
              0.3333333333333333,
              "#31688e"
             ],
             [
              0.4444444444444444,
              "#26828e"
             ],
             [
              0.5555555555555556,
              "#1f9e89"
             ],
             [
              0.6666666666666666,
              "#35b779"
             ],
             [
              0.7777777777777778,
              "#6ece58"
             ],
             [
              0.8888888888888888,
              "#b5de2b"
             ],
             [
              1,
              "#fde725"
             ]
            ],
            "type": "histogram2dcontour"
           }
          ],
          "mesh3d": [
           {
            "colorbar": {
             "outlinewidth": 1,
             "tickcolor": "rgb(36,36,36)",
             "ticks": "outside"
            },
            "type": "mesh3d"
           }
          ],
          "parcoords": [
           {
            "line": {
             "colorbar": {
              "outlinewidth": 1,
              "tickcolor": "rgb(36,36,36)",
              "ticks": "outside"
             }
            },
            "type": "parcoords"
           }
          ],
          "pie": [
           {
            "automargin": true,
            "type": "pie"
           }
          ],
          "scatter": [
           {
            "fillpattern": {
             "fillmode": "overlay",
             "size": 10,
             "solidity": 0.2
            },
            "type": "scatter"
           }
          ],
          "scatter3d": [
           {
            "line": {
             "colorbar": {
              "outlinewidth": 1,
              "tickcolor": "rgb(36,36,36)",
              "ticks": "outside"
             }
            },
            "marker": {
             "colorbar": {
              "outlinewidth": 1,
              "tickcolor": "rgb(36,36,36)",
              "ticks": "outside"
             }
            },
            "type": "scatter3d"
           }
          ],
          "scattercarpet": [
           {
            "marker": {
             "colorbar": {
              "outlinewidth": 1,
              "tickcolor": "rgb(36,36,36)",
              "ticks": "outside"
             }
            },
            "type": "scattercarpet"
           }
          ],
          "scattergeo": [
           {
            "marker": {
             "colorbar": {
              "outlinewidth": 1,
              "tickcolor": "rgb(36,36,36)",
              "ticks": "outside"
             }
            },
            "type": "scattergeo"
           }
          ],
          "scattergl": [
           {
            "marker": {
             "colorbar": {
              "outlinewidth": 1,
              "tickcolor": "rgb(36,36,36)",
              "ticks": "outside"
             }
            },
            "type": "scattergl"
           }
          ],
          "scattermapbox": [
           {
            "marker": {
             "colorbar": {
              "outlinewidth": 1,
              "tickcolor": "rgb(36,36,36)",
              "ticks": "outside"
             }
            },
            "type": "scattermapbox"
           }
          ],
          "scatterpolar": [
           {
            "marker": {
             "colorbar": {
              "outlinewidth": 1,
              "tickcolor": "rgb(36,36,36)",
              "ticks": "outside"
             }
            },
            "type": "scatterpolar"
           }
          ],
          "scatterpolargl": [
           {
            "marker": {
             "colorbar": {
              "outlinewidth": 1,
              "tickcolor": "rgb(36,36,36)",
              "ticks": "outside"
             }
            },
            "type": "scatterpolargl"
           }
          ],
          "scatterternary": [
           {
            "marker": {
             "colorbar": {
              "outlinewidth": 1,
              "tickcolor": "rgb(36,36,36)",
              "ticks": "outside"
             }
            },
            "type": "scatterternary"
           }
          ],
          "surface": [
           {
            "colorbar": {
             "outlinewidth": 1,
             "tickcolor": "rgb(36,36,36)",
             "ticks": "outside"
            },
            "colorscale": [
             [
              0,
              "#440154"
             ],
             [
              0.1111111111111111,
              "#482878"
             ],
             [
              0.2222222222222222,
              "#3e4989"
             ],
             [
              0.3333333333333333,
              "#31688e"
             ],
             [
              0.4444444444444444,
              "#26828e"
             ],
             [
              0.5555555555555556,
              "#1f9e89"
             ],
             [
              0.6666666666666666,
              "#35b779"
             ],
             [
              0.7777777777777778,
              "#6ece58"
             ],
             [
              0.8888888888888888,
              "#b5de2b"
             ],
             [
              1,
              "#fde725"
             ]
            ],
            "type": "surface"
           }
          ],
          "table": [
           {
            "cells": {
             "fill": {
              "color": "rgb(237,237,237)"
             },
             "line": {
              "color": "white"
             }
            },
            "header": {
             "fill": {
              "color": "rgb(217,217,217)"
             },
             "line": {
              "color": "white"
             }
            },
            "type": "table"
           }
          ]
         },
         "layout": {
          "annotationdefaults": {
           "arrowhead": 0,
           "arrowwidth": 1
          },
          "autotypenumbers": "strict",
          "coloraxis": {
           "colorbar": {
            "outlinewidth": 1,
            "tickcolor": "rgb(36,36,36)",
            "ticks": "outside"
           }
          },
          "colorscale": {
           "diverging": [
            [
             0,
             "rgb(103,0,31)"
            ],
            [
             0.1,
             "rgb(178,24,43)"
            ],
            [
             0.2,
             "rgb(214,96,77)"
            ],
            [
             0.3,
             "rgb(244,165,130)"
            ],
            [
             0.4,
             "rgb(253,219,199)"
            ],
            [
             0.5,
             "rgb(247,247,247)"
            ],
            [
             0.6,
             "rgb(209,229,240)"
            ],
            [
             0.7,
             "rgb(146,197,222)"
            ],
            [
             0.8,
             "rgb(67,147,195)"
            ],
            [
             0.9,
             "rgb(33,102,172)"
            ],
            [
             1,
             "rgb(5,48,97)"
            ]
           ],
           "sequential": [
            [
             0,
             "#440154"
            ],
            [
             0.1111111111111111,
             "#482878"
            ],
            [
             0.2222222222222222,
             "#3e4989"
            ],
            [
             0.3333333333333333,
             "#31688e"
            ],
            [
             0.4444444444444444,
             "#26828e"
            ],
            [
             0.5555555555555556,
             "#1f9e89"
            ],
            [
             0.6666666666666666,
             "#35b779"
            ],
            [
             0.7777777777777778,
             "#6ece58"
            ],
            [
             0.8888888888888888,
             "#b5de2b"
            ],
            [
             1,
             "#fde725"
            ]
           ],
           "sequentialminus": [
            [
             0,
             "#440154"
            ],
            [
             0.1111111111111111,
             "#482878"
            ],
            [
             0.2222222222222222,
             "#3e4989"
            ],
            [
             0.3333333333333333,
             "#31688e"
            ],
            [
             0.4444444444444444,
             "#26828e"
            ],
            [
             0.5555555555555556,
             "#1f9e89"
            ],
            [
             0.6666666666666666,
             "#35b779"
            ],
            [
             0.7777777777777778,
             "#6ece58"
            ],
            [
             0.8888888888888888,
             "#b5de2b"
            ],
            [
             1,
             "#fde725"
            ]
           ]
          },
          "colorway": [
           "#1F77B4",
           "#FF7F0E",
           "#2CA02C",
           "#D62728",
           "#9467BD",
           "#8C564B",
           "#E377C2",
           "#7F7F7F",
           "#BCBD22",
           "#17BECF"
          ],
          "font": {
           "color": "rgb(36,36,36)"
          },
          "geo": {
           "bgcolor": "white",
           "lakecolor": "white",
           "landcolor": "white",
           "showlakes": true,
           "showland": true,
           "subunitcolor": "white"
          },
          "hoverlabel": {
           "align": "left"
          },
          "hovermode": "closest",
          "mapbox": {
           "style": "light"
          },
          "paper_bgcolor": "white",
          "plot_bgcolor": "white",
          "polar": {
           "angularaxis": {
            "gridcolor": "rgb(232,232,232)",
            "linecolor": "rgb(36,36,36)",
            "showgrid": false,
            "showline": true,
            "ticks": "outside"
           },
           "bgcolor": "white",
           "radialaxis": {
            "gridcolor": "rgb(232,232,232)",
            "linecolor": "rgb(36,36,36)",
            "showgrid": false,
            "showline": true,
            "ticks": "outside"
           }
          },
          "scene": {
           "xaxis": {
            "backgroundcolor": "white",
            "gridcolor": "rgb(232,232,232)",
            "gridwidth": 2,
            "linecolor": "rgb(36,36,36)",
            "showbackground": true,
            "showgrid": false,
            "showline": true,
            "ticks": "outside",
            "zeroline": false,
            "zerolinecolor": "rgb(36,36,36)"
           },
           "yaxis": {
            "backgroundcolor": "white",
            "gridcolor": "rgb(232,232,232)",
            "gridwidth": 2,
            "linecolor": "rgb(36,36,36)",
            "showbackground": true,
            "showgrid": false,
            "showline": true,
            "ticks": "outside",
            "zeroline": false,
            "zerolinecolor": "rgb(36,36,36)"
           },
           "zaxis": {
            "backgroundcolor": "white",
            "gridcolor": "rgb(232,232,232)",
            "gridwidth": 2,
            "linecolor": "rgb(36,36,36)",
            "showbackground": true,
            "showgrid": false,
            "showline": true,
            "ticks": "outside",
            "zeroline": false,
            "zerolinecolor": "rgb(36,36,36)"
           }
          },
          "shapedefaults": {
           "fillcolor": "black",
           "line": {
            "width": 0
           },
           "opacity": 0.3
          },
          "ternary": {
           "aaxis": {
            "gridcolor": "rgb(232,232,232)",
            "linecolor": "rgb(36,36,36)",
            "showgrid": false,
            "showline": true,
            "ticks": "outside"
           },
           "baxis": {
            "gridcolor": "rgb(232,232,232)",
            "linecolor": "rgb(36,36,36)",
            "showgrid": false,
            "showline": true,
            "ticks": "outside"
           },
           "bgcolor": "white",
           "caxis": {
            "gridcolor": "rgb(232,232,232)",
            "linecolor": "rgb(36,36,36)",
            "showgrid": false,
            "showline": true,
            "ticks": "outside"
           }
          },
          "title": {
           "x": 0.05
          },
          "xaxis": {
           "automargin": true,
           "gridcolor": "rgb(232,232,232)",
           "linecolor": "rgb(36,36,36)",
           "showgrid": false,
           "showline": true,
           "ticks": "outside",
           "title": {
            "standoff": 15
           },
           "zeroline": false,
           "zerolinecolor": "rgb(36,36,36)"
          },
          "yaxis": {
           "automargin": true,
           "gridcolor": "rgb(232,232,232)",
           "linecolor": "rgb(36,36,36)",
           "showgrid": false,
           "showline": true,
           "ticks": "outside",
           "title": {
            "standoff": 15
           },
           "zeroline": false,
           "zerolinecolor": "rgb(36,36,36)"
          }
         }
        },
        "title": {
         "x": 0.5,
         "xanchor": "center",
         "y": 0.9,
         "yanchor": "top"
        },
        "violinmode": "group",
        "width": 1000,
        "xaxis": {
         "anchor": "y",
         "domain": [
          0,
          1
         ],
         "linewidth": 1.5,
         "title": {
          "text": "Day"
         }
        },
        "yaxis": {
         "anchor": "x",
         "domain": [
          0,
          1
         ],
         "linewidth": 1.5,
         "title": {
          "text": "Number of Trials"
         }
        }
       }
      },
      "text/html": [
       "<div>                            <div id=\"545e3c01-7786-4bc4-b2af-3d152ae9477e\" class=\"plotly-graph-div\" style=\"height:500px; width:1000px;\"></div>            <script type=\"text/javascript\">                require([\"plotly\"], function(Plotly) {                    window.PLOTLYENV=window.PLOTLYENV || {};                                    if (document.getElementById(\"545e3c01-7786-4bc4-b2af-3d152ae9477e\")) {                    Plotly.newPlot(                        \"545e3c01-7786-4bc4-b2af-3d152ae9477e\",                        [{\"box\":{\"visible\":true},\"legendgroup\":\"1\",\"line\":{\"color\":\"darkgrey\"},\"meanline\":{\"visible\":true},\"name\":\"Two Port\",\"scalegroup\":\"1\",\"showlegend\":false,\"x\":[1,1,1,1],\"y\":[29.0,25.0,14.0,31.0],\"type\":\"violin\",\"jitter\":0.4,\"points\":\"all\"},{\"box\":{\"visible\":true},\"legendgroup\":\"1\",\"line\":{\"color\":\"midnightblue\"},\"meanline\":{\"visible\":true},\"name\":\"Four Port\",\"scalegroup\":\"1\",\"showlegend\":false,\"x\":[1,1,1,1],\"y\":[37.0,25.0,24.0,27.0],\"type\":\"violin\",\"jitter\":0.4,\"points\":\"all\"},{\"box\":{\"visible\":true},\"legendgroup\":\"1\",\"line\":{\"color\":\"darkorchid\"},\"meanline\":{\"visible\":true},\"name\":\"Six Port\",\"scalegroup\":\"1\",\"showlegend\":false,\"x\":[1,1,1,1],\"y\":[29.0,20.0,6.0,32.0],\"type\":\"violin\",\"jitter\":0.4,\"points\":\"all\"},{\"box\":{\"visible\":true},\"legendgroup\":\"2\",\"line\":{\"color\":\"darkgrey\"},\"meanline\":{\"visible\":true},\"name\":\"Two Port\",\"scalegroup\":\"2\",\"showlegend\":false,\"x\":[2,2,2,2],\"y\":[46.0,55.0,null,62.0],\"type\":\"violin\",\"jitter\":0.4,\"points\":\"all\"},{\"box\":{\"visible\":true},\"legendgroup\":\"2\",\"line\":{\"color\":\"midnightblue\"},\"meanline\":{\"visible\":true},\"name\":\"Four Port\",\"scalegroup\":\"2\",\"showlegend\":false,\"x\":[2,2,2,2],\"y\":[40.0,40.0,28.0,13.0],\"type\":\"violin\",\"jitter\":0.4,\"points\":\"all\"},{\"box\":{\"visible\":true},\"legendgroup\":\"2\",\"line\":{\"color\":\"darkorchid\"},\"meanline\":{\"visible\":true},\"name\":\"Six Port\",\"scalegroup\":\"2\",\"showlegend\":false,\"x\":[2,2,2,2],\"y\":[29.0,30.0,15.0,3.0],\"type\":\"violin\",\"jitter\":0.4,\"points\":\"all\"},{\"box\":{\"visible\":true},\"legendgroup\":\"3\",\"line\":{\"color\":\"darkgrey\"},\"meanline\":{\"visible\":true},\"name\":\"Two Port\",\"scalegroup\":\"3\",\"showlegend\":false,\"x\":[3,3,3,3],\"y\":[45.0,50.0,36.0,62.0],\"type\":\"violin\",\"jitter\":0.4,\"points\":\"all\"},{\"box\":{\"visible\":true},\"legendgroup\":\"3\",\"line\":{\"color\":\"midnightblue\"},\"meanline\":{\"visible\":true},\"name\":\"Four Port\",\"scalegroup\":\"3\",\"showlegend\":false,\"x\":[3,3,3,3],\"y\":[39.0,34.0,35.0,22.0],\"type\":\"violin\",\"jitter\":0.4,\"points\":\"all\"},{\"box\":{\"visible\":true},\"legendgroup\":\"3\",\"line\":{\"color\":\"darkorchid\"},\"meanline\":{\"visible\":true},\"name\":\"Six Port\",\"scalegroup\":\"3\",\"showlegend\":false,\"x\":[3,3,3,3],\"y\":[25.0,46.0,21.0,32.0],\"type\":\"violin\",\"jitter\":0.4,\"points\":\"all\"},{\"box\":{\"visible\":true},\"legendgroup\":\"4\",\"line\":{\"color\":\"darkgrey\"},\"meanline\":{\"visible\":true},\"name\":\"Two Port\",\"scalegroup\":\"4\",\"showlegend\":false,\"x\":[4,4,4,4],\"y\":[30.0,46.0,29.0,63.0],\"type\":\"violin\",\"jitter\":0.4,\"points\":\"all\"},{\"box\":{\"visible\":true},\"legendgroup\":\"4\",\"line\":{\"color\":\"midnightblue\"},\"meanline\":{\"visible\":true},\"name\":\"Four Port\",\"scalegroup\":\"4\",\"showlegend\":false,\"x\":[4,4,4,4],\"y\":[29.0,39.0,31.0,32.0],\"type\":\"violin\",\"jitter\":0.4,\"points\":\"all\"},{\"box\":{\"visible\":true},\"legendgroup\":\"4\",\"line\":{\"color\":\"darkorchid\"},\"meanline\":{\"visible\":true},\"name\":\"Six Port\",\"scalegroup\":\"4\",\"showlegend\":false,\"x\":[4,4,4,4],\"y\":[24.0,45.0,20.0,27.0],\"type\":\"violin\",\"jitter\":0.4,\"points\":\"all\"},{\"box\":{\"visible\":true},\"legendgroup\":\"5\",\"line\":{\"color\":\"darkgrey\"},\"meanline\":{\"visible\":true},\"name\":\"Two Port\",\"scalegroup\":\"5\",\"showlegend\":false,\"x\":[5,5,5,5],\"y\":[45.0,39.0,32.0,68.0],\"type\":\"violin\",\"jitter\":0.4,\"points\":\"all\"},{\"box\":{\"visible\":true},\"legendgroup\":\"5\",\"line\":{\"color\":\"midnightblue\"},\"meanline\":{\"visible\":true},\"name\":\"Four Port\",\"scalegroup\":\"5\",\"showlegend\":false,\"x\":[5,5,5,5],\"y\":[44.0,53.0,29.0,28.0],\"type\":\"violin\",\"jitter\":0.4,\"points\":\"all\"},{\"box\":{\"visible\":true},\"legendgroup\":\"5\",\"line\":{\"color\":\"darkorchid\"},\"meanline\":{\"visible\":true},\"name\":\"Six Port\",\"scalegroup\":\"5\",\"showlegend\":false,\"x\":[5,5,5,5],\"y\":[34.0,32.0,17.0,32.0],\"type\":\"violin\",\"jitter\":0.4,\"points\":\"all\"}],                        {\"template\":{\"data\":{\"barpolar\":[{\"marker\":{\"line\":{\"color\":\"white\",\"width\":0.5},\"pattern\":{\"fillmode\":\"overlay\",\"size\":10,\"solidity\":0.2}},\"type\":\"barpolar\"}],\"bar\":[{\"error_x\":{\"color\":\"rgb(36,36,36)\"},\"error_y\":{\"color\":\"rgb(36,36,36)\"},\"marker\":{\"line\":{\"color\":\"white\",\"width\":0.5},\"pattern\":{\"fillmode\":\"overlay\",\"size\":10,\"solidity\":0.2}},\"type\":\"bar\"}],\"carpet\":[{\"aaxis\":{\"endlinecolor\":\"rgb(36,36,36)\",\"gridcolor\":\"white\",\"linecolor\":\"white\",\"minorgridcolor\":\"white\",\"startlinecolor\":\"rgb(36,36,36)\"},\"baxis\":{\"endlinecolor\":\"rgb(36,36,36)\",\"gridcolor\":\"white\",\"linecolor\":\"white\",\"minorgridcolor\":\"white\",\"startlinecolor\":\"rgb(36,36,36)\"},\"type\":\"carpet\"}],\"choropleth\":[{\"colorbar\":{\"outlinewidth\":1,\"tickcolor\":\"rgb(36,36,36)\",\"ticks\":\"outside\"},\"type\":\"choropleth\"}],\"contourcarpet\":[{\"colorbar\":{\"outlinewidth\":1,\"tickcolor\":\"rgb(36,36,36)\",\"ticks\":\"outside\"},\"type\":\"contourcarpet\"}],\"contour\":[{\"colorbar\":{\"outlinewidth\":1,\"tickcolor\":\"rgb(36,36,36)\",\"ticks\":\"outside\"},\"colorscale\":[[0.0,\"#440154\"],[0.1111111111111111,\"#482878\"],[0.2222222222222222,\"#3e4989\"],[0.3333333333333333,\"#31688e\"],[0.4444444444444444,\"#26828e\"],[0.5555555555555556,\"#1f9e89\"],[0.6666666666666666,\"#35b779\"],[0.7777777777777778,\"#6ece58\"],[0.8888888888888888,\"#b5de2b\"],[1.0,\"#fde725\"]],\"type\":\"contour\"}],\"heatmapgl\":[{\"colorbar\":{\"outlinewidth\":1,\"tickcolor\":\"rgb(36,36,36)\",\"ticks\":\"outside\"},\"colorscale\":[[0.0,\"#440154\"],[0.1111111111111111,\"#482878\"],[0.2222222222222222,\"#3e4989\"],[0.3333333333333333,\"#31688e\"],[0.4444444444444444,\"#26828e\"],[0.5555555555555556,\"#1f9e89\"],[0.6666666666666666,\"#35b779\"],[0.7777777777777778,\"#6ece58\"],[0.8888888888888888,\"#b5de2b\"],[1.0,\"#fde725\"]],\"type\":\"heatmapgl\"}],\"heatmap\":[{\"colorbar\":{\"outlinewidth\":1,\"tickcolor\":\"rgb(36,36,36)\",\"ticks\":\"outside\"},\"colorscale\":[[0.0,\"#440154\"],[0.1111111111111111,\"#482878\"],[0.2222222222222222,\"#3e4989\"],[0.3333333333333333,\"#31688e\"],[0.4444444444444444,\"#26828e\"],[0.5555555555555556,\"#1f9e89\"],[0.6666666666666666,\"#35b779\"],[0.7777777777777778,\"#6ece58\"],[0.8888888888888888,\"#b5de2b\"],[1.0,\"#fde725\"]],\"type\":\"heatmap\"}],\"histogram2dcontour\":[{\"colorbar\":{\"outlinewidth\":1,\"tickcolor\":\"rgb(36,36,36)\",\"ticks\":\"outside\"},\"colorscale\":[[0.0,\"#440154\"],[0.1111111111111111,\"#482878\"],[0.2222222222222222,\"#3e4989\"],[0.3333333333333333,\"#31688e\"],[0.4444444444444444,\"#26828e\"],[0.5555555555555556,\"#1f9e89\"],[0.6666666666666666,\"#35b779\"],[0.7777777777777778,\"#6ece58\"],[0.8888888888888888,\"#b5de2b\"],[1.0,\"#fde725\"]],\"type\":\"histogram2dcontour\"}],\"histogram2d\":[{\"colorbar\":{\"outlinewidth\":1,\"tickcolor\":\"rgb(36,36,36)\",\"ticks\":\"outside\"},\"colorscale\":[[0.0,\"#440154\"],[0.1111111111111111,\"#482878\"],[0.2222222222222222,\"#3e4989\"],[0.3333333333333333,\"#31688e\"],[0.4444444444444444,\"#26828e\"],[0.5555555555555556,\"#1f9e89\"],[0.6666666666666666,\"#35b779\"],[0.7777777777777778,\"#6ece58\"],[0.8888888888888888,\"#b5de2b\"],[1.0,\"#fde725\"]],\"type\":\"histogram2d\"}],\"histogram\":[{\"marker\":{\"line\":{\"color\":\"white\",\"width\":0.6}},\"type\":\"histogram\"}],\"mesh3d\":[{\"colorbar\":{\"outlinewidth\":1,\"tickcolor\":\"rgb(36,36,36)\",\"ticks\":\"outside\"},\"type\":\"mesh3d\"}],\"parcoords\":[{\"line\":{\"colorbar\":{\"outlinewidth\":1,\"tickcolor\":\"rgb(36,36,36)\",\"ticks\":\"outside\"}},\"type\":\"parcoords\"}],\"pie\":[{\"automargin\":true,\"type\":\"pie\"}],\"scatter3d\":[{\"line\":{\"colorbar\":{\"outlinewidth\":1,\"tickcolor\":\"rgb(36,36,36)\",\"ticks\":\"outside\"}},\"marker\":{\"colorbar\":{\"outlinewidth\":1,\"tickcolor\":\"rgb(36,36,36)\",\"ticks\":\"outside\"}},\"type\":\"scatter3d\"}],\"scattercarpet\":[{\"marker\":{\"colorbar\":{\"outlinewidth\":1,\"tickcolor\":\"rgb(36,36,36)\",\"ticks\":\"outside\"}},\"type\":\"scattercarpet\"}],\"scattergeo\":[{\"marker\":{\"colorbar\":{\"outlinewidth\":1,\"tickcolor\":\"rgb(36,36,36)\",\"ticks\":\"outside\"}},\"type\":\"scattergeo\"}],\"scattergl\":[{\"marker\":{\"colorbar\":{\"outlinewidth\":1,\"tickcolor\":\"rgb(36,36,36)\",\"ticks\":\"outside\"}},\"type\":\"scattergl\"}],\"scattermapbox\":[{\"marker\":{\"colorbar\":{\"outlinewidth\":1,\"tickcolor\":\"rgb(36,36,36)\",\"ticks\":\"outside\"}},\"type\":\"scattermapbox\"}],\"scatterpolargl\":[{\"marker\":{\"colorbar\":{\"outlinewidth\":1,\"tickcolor\":\"rgb(36,36,36)\",\"ticks\":\"outside\"}},\"type\":\"scatterpolargl\"}],\"scatterpolar\":[{\"marker\":{\"colorbar\":{\"outlinewidth\":1,\"tickcolor\":\"rgb(36,36,36)\",\"ticks\":\"outside\"}},\"type\":\"scatterpolar\"}],\"scatter\":[{\"fillpattern\":{\"fillmode\":\"overlay\",\"size\":10,\"solidity\":0.2},\"type\":\"scatter\"}],\"scatterternary\":[{\"marker\":{\"colorbar\":{\"outlinewidth\":1,\"tickcolor\":\"rgb(36,36,36)\",\"ticks\":\"outside\"}},\"type\":\"scatterternary\"}],\"surface\":[{\"colorbar\":{\"outlinewidth\":1,\"tickcolor\":\"rgb(36,36,36)\",\"ticks\":\"outside\"},\"colorscale\":[[0.0,\"#440154\"],[0.1111111111111111,\"#482878\"],[0.2222222222222222,\"#3e4989\"],[0.3333333333333333,\"#31688e\"],[0.4444444444444444,\"#26828e\"],[0.5555555555555556,\"#1f9e89\"],[0.6666666666666666,\"#35b779\"],[0.7777777777777778,\"#6ece58\"],[0.8888888888888888,\"#b5de2b\"],[1.0,\"#fde725\"]],\"type\":\"surface\"}],\"table\":[{\"cells\":{\"fill\":{\"color\":\"rgb(237,237,237)\"},\"line\":{\"color\":\"white\"}},\"header\":{\"fill\":{\"color\":\"rgb(217,217,217)\"},\"line\":{\"color\":\"white\"}},\"type\":\"table\"}]},\"layout\":{\"annotationdefaults\":{\"arrowhead\":0,\"arrowwidth\":1},\"autotypenumbers\":\"strict\",\"coloraxis\":{\"colorbar\":{\"outlinewidth\":1,\"tickcolor\":\"rgb(36,36,36)\",\"ticks\":\"outside\"}},\"colorscale\":{\"diverging\":[[0.0,\"rgb(103,0,31)\"],[0.1,\"rgb(178,24,43)\"],[0.2,\"rgb(214,96,77)\"],[0.3,\"rgb(244,165,130)\"],[0.4,\"rgb(253,219,199)\"],[0.5,\"rgb(247,247,247)\"],[0.6,\"rgb(209,229,240)\"],[0.7,\"rgb(146,197,222)\"],[0.8,\"rgb(67,147,195)\"],[0.9,\"rgb(33,102,172)\"],[1.0,\"rgb(5,48,97)\"]],\"sequential\":[[0.0,\"#440154\"],[0.1111111111111111,\"#482878\"],[0.2222222222222222,\"#3e4989\"],[0.3333333333333333,\"#31688e\"],[0.4444444444444444,\"#26828e\"],[0.5555555555555556,\"#1f9e89\"],[0.6666666666666666,\"#35b779\"],[0.7777777777777778,\"#6ece58\"],[0.8888888888888888,\"#b5de2b\"],[1.0,\"#fde725\"]],\"sequentialminus\":[[0.0,\"#440154\"],[0.1111111111111111,\"#482878\"],[0.2222222222222222,\"#3e4989\"],[0.3333333333333333,\"#31688e\"],[0.4444444444444444,\"#26828e\"],[0.5555555555555556,\"#1f9e89\"],[0.6666666666666666,\"#35b779\"],[0.7777777777777778,\"#6ece58\"],[0.8888888888888888,\"#b5de2b\"],[1.0,\"#fde725\"]]},\"colorway\":[\"#1F77B4\",\"#FF7F0E\",\"#2CA02C\",\"#D62728\",\"#9467BD\",\"#8C564B\",\"#E377C2\",\"#7F7F7F\",\"#BCBD22\",\"#17BECF\"],\"font\":{\"color\":\"rgb(36,36,36)\"},\"geo\":{\"bgcolor\":\"white\",\"lakecolor\":\"white\",\"landcolor\":\"white\",\"showlakes\":true,\"showland\":true,\"subunitcolor\":\"white\"},\"hoverlabel\":{\"align\":\"left\"},\"hovermode\":\"closest\",\"mapbox\":{\"style\":\"light\"},\"paper_bgcolor\":\"white\",\"plot_bgcolor\":\"white\",\"polar\":{\"angularaxis\":{\"gridcolor\":\"rgb(232,232,232)\",\"linecolor\":\"rgb(36,36,36)\",\"showgrid\":false,\"showline\":true,\"ticks\":\"outside\"},\"bgcolor\":\"white\",\"radialaxis\":{\"gridcolor\":\"rgb(232,232,232)\",\"linecolor\":\"rgb(36,36,36)\",\"showgrid\":false,\"showline\":true,\"ticks\":\"outside\"}},\"scene\":{\"xaxis\":{\"backgroundcolor\":\"white\",\"gridcolor\":\"rgb(232,232,232)\",\"gridwidth\":2,\"linecolor\":\"rgb(36,36,36)\",\"showbackground\":true,\"showgrid\":false,\"showline\":true,\"ticks\":\"outside\",\"zeroline\":false,\"zerolinecolor\":\"rgb(36,36,36)\"},\"yaxis\":{\"backgroundcolor\":\"white\",\"gridcolor\":\"rgb(232,232,232)\",\"gridwidth\":2,\"linecolor\":\"rgb(36,36,36)\",\"showbackground\":true,\"showgrid\":false,\"showline\":true,\"ticks\":\"outside\",\"zeroline\":false,\"zerolinecolor\":\"rgb(36,36,36)\"},\"zaxis\":{\"backgroundcolor\":\"white\",\"gridcolor\":\"rgb(232,232,232)\",\"gridwidth\":2,\"linecolor\":\"rgb(36,36,36)\",\"showbackground\":true,\"showgrid\":false,\"showline\":true,\"ticks\":\"outside\",\"zeroline\":false,\"zerolinecolor\":\"rgb(36,36,36)\"}},\"shapedefaults\":{\"fillcolor\":\"black\",\"line\":{\"width\":0},\"opacity\":0.3},\"ternary\":{\"aaxis\":{\"gridcolor\":\"rgb(232,232,232)\",\"linecolor\":\"rgb(36,36,36)\",\"showgrid\":false,\"showline\":true,\"ticks\":\"outside\"},\"baxis\":{\"gridcolor\":\"rgb(232,232,232)\",\"linecolor\":\"rgb(36,36,36)\",\"showgrid\":false,\"showline\":true,\"ticks\":\"outside\"},\"bgcolor\":\"white\",\"caxis\":{\"gridcolor\":\"rgb(232,232,232)\",\"linecolor\":\"rgb(36,36,36)\",\"showgrid\":false,\"showline\":true,\"ticks\":\"outside\"}},\"title\":{\"x\":0.05},\"xaxis\":{\"automargin\":true,\"gridcolor\":\"rgb(232,232,232)\",\"linecolor\":\"rgb(36,36,36)\",\"showgrid\":false,\"showline\":true,\"ticks\":\"outside\",\"title\":{\"standoff\":15},\"zeroline\":false,\"zerolinecolor\":\"rgb(36,36,36)\"},\"yaxis\":{\"automargin\":true,\"gridcolor\":\"rgb(232,232,232)\",\"linecolor\":\"rgb(36,36,36)\",\"showgrid\":false,\"showline\":true,\"ticks\":\"outside\",\"title\":{\"standoff\":15},\"zeroline\":false,\"zerolinecolor\":\"rgb(36,36,36)\"}}},\"xaxis\":{\"anchor\":\"y\",\"domain\":[0.0,1.0],\"title\":{\"text\":\"Day\"},\"linewidth\":1.5},\"yaxis\":{\"anchor\":\"x\",\"domain\":[0.0,1.0],\"title\":{\"text\":\"Number of Trials\"},\"linewidth\":1.5},\"title\":{\"y\":0.9,\"x\":0.5,\"xanchor\":\"center\",\"yanchor\":\"top\"},\"font\":{\"size\":22,\"family\":\"Arial\"},\"height\":500,\"width\":1000,\"violinmode\":\"group\"},                        {\"responsive\": true}                    ).then(function(){\n",
       "                            \n",
       "var gd = document.getElementById('545e3c01-7786-4bc4-b2af-3d152ae9477e');\n",
       "var x = new MutationObserver(function (mutations, observer) {{\n",
       "        var display = window.getComputedStyle(gd).display;\n",
       "        if (!display || display === 'none') {{\n",
       "            console.log([gd, 'removed!']);\n",
       "            Plotly.purge(gd);\n",
       "            observer.disconnect();\n",
       "        }}\n",
       "}});\n",
       "\n",
       "// Listen for the removal of the full notebook cells\n",
       "var notebookContainer = gd.closest('#notebook-container');\n",
       "if (notebookContainer) {{\n",
       "    x.observe(notebookContainer, {childList: true});\n",
       "}}\n",
       "\n",
       "// Listen for the clearing of the current output cell\n",
       "var outputEl = gd.closest('.output');\n",
       "if (outputEl) {{\n",
       "    x.observe(outputEl, {childList: true});\n",
       "}}\n",
       "\n",
       "                        })                };                });            </script>        </div>"
      ]
     },
     "metadata": {},
     "output_type": "display_data"
    }
   ],
   "source": [
    "## Plot number of trials\n",
    "fig = pf.custom_graph_template(x_title='Day', y_title='Number of Trials', width=1000)\n",
    "for day in ct_df['day'].unique():\n",
    "    for group in group_list:\n",
    "        data = ct_df[(ct_df['day'] == day) & (ct_df['group'] == group)]\n",
    "        fig.add_trace(go.Violin(x=data['day'], y=data['num_trials'], box_visible=True, meanline_visible=True, name=group,\n",
    "                                legendgroup=str(day), scalegroup=str(day), line_color=group_colors_dict[group], showlegend=False))\n",
    "fig.update_traces(points='all', jitter=0.4)\n",
    "fig.update_layout(violinmode='group')\n",
    "fig.show()"
   ]
  },
  {
   "cell_type": "code",
   "execution_count": 62,
   "metadata": {},
   "outputs": [
    {
     "data": {
      "application/vnd.plotly.v1+json": {
       "config": {
        "plotlyServerURL": "https://plot.ly"
       },
       "data": [
        {
         "error_y": {
          "array": [
           3.79418414594407,
           4.630814663149935,
           5.421792446537707,
           8.010409893798611,
           7.799572637865061
          ],
          "type": "data"
         },
         "line": {
          "color": "darkgrey"
         },
         "name": "Two Port",
         "type": "scatter",
         "x": [
          1,
          2,
          3,
          4,
          5
         ],
         "y": [
          24.75,
          54.333333333333336,
          48.25,
          42,
          46
         ]
        },
        {
         "error_y": {
          "array": [
           2.9825883613622137,
           6.408002808988148,
           3.662876829305985,
           2.174664725116648,
           6.06217782649107
          ],
          "type": "data"
         },
         "line": {
          "color": "midnightblue"
         },
         "name": "Four Port",
         "type": "scatter",
         "x": [
          1,
          2,
          3,
          4,
          5
         ],
         "y": [
          28.25,
          30.25,
          32.5,
          32.75,
          38.5
         ]
        },
        {
         "error_y": {
          "array": [
           5.836308764964376,
           6.408002808988149,
           5.49241901776136,
           5.522680508593631,
           3.944933459514875
          ],
          "type": "data"
         },
         "line": {
          "color": "darkorchid"
         },
         "name": "Six Port",
         "type": "scatter",
         "x": [
          1,
          2,
          3,
          4,
          5
         ],
         "y": [
          21.75,
          19.25,
          31,
          29,
          28.75
         ]
        }
       ],
       "layout": {
        "font": {
         "family": "Arial",
         "size": 22
        },
        "height": 500,
        "template": {
         "data": {
          "bar": [
           {
            "error_x": {
             "color": "rgb(36,36,36)"
            },
            "error_y": {
             "color": "rgb(36,36,36)"
            },
            "marker": {
             "line": {
              "color": "white",
              "width": 0.5
             },
             "pattern": {
              "fillmode": "overlay",
              "size": 10,
              "solidity": 0.2
             }
            },
            "type": "bar"
           }
          ],
          "barpolar": [
           {
            "marker": {
             "line": {
              "color": "white",
              "width": 0.5
             },
             "pattern": {
              "fillmode": "overlay",
              "size": 10,
              "solidity": 0.2
             }
            },
            "type": "barpolar"
           }
          ],
          "carpet": [
           {
            "aaxis": {
             "endlinecolor": "rgb(36,36,36)",
             "gridcolor": "white",
             "linecolor": "white",
             "minorgridcolor": "white",
             "startlinecolor": "rgb(36,36,36)"
            },
            "baxis": {
             "endlinecolor": "rgb(36,36,36)",
             "gridcolor": "white",
             "linecolor": "white",
             "minorgridcolor": "white",
             "startlinecolor": "rgb(36,36,36)"
            },
            "type": "carpet"
           }
          ],
          "choropleth": [
           {
            "colorbar": {
             "outlinewidth": 1,
             "tickcolor": "rgb(36,36,36)",
             "ticks": "outside"
            },
            "type": "choropleth"
           }
          ],
          "contour": [
           {
            "colorbar": {
             "outlinewidth": 1,
             "tickcolor": "rgb(36,36,36)",
             "ticks": "outside"
            },
            "colorscale": [
             [
              0,
              "#440154"
             ],
             [
              0.1111111111111111,
              "#482878"
             ],
             [
              0.2222222222222222,
              "#3e4989"
             ],
             [
              0.3333333333333333,
              "#31688e"
             ],
             [
              0.4444444444444444,
              "#26828e"
             ],
             [
              0.5555555555555556,
              "#1f9e89"
             ],
             [
              0.6666666666666666,
              "#35b779"
             ],
             [
              0.7777777777777778,
              "#6ece58"
             ],
             [
              0.8888888888888888,
              "#b5de2b"
             ],
             [
              1,
              "#fde725"
             ]
            ],
            "type": "contour"
           }
          ],
          "contourcarpet": [
           {
            "colorbar": {
             "outlinewidth": 1,
             "tickcolor": "rgb(36,36,36)",
             "ticks": "outside"
            },
            "type": "contourcarpet"
           }
          ],
          "heatmap": [
           {
            "colorbar": {
             "outlinewidth": 1,
             "tickcolor": "rgb(36,36,36)",
             "ticks": "outside"
            },
            "colorscale": [
             [
              0,
              "#440154"
             ],
             [
              0.1111111111111111,
              "#482878"
             ],
             [
              0.2222222222222222,
              "#3e4989"
             ],
             [
              0.3333333333333333,
              "#31688e"
             ],
             [
              0.4444444444444444,
              "#26828e"
             ],
             [
              0.5555555555555556,
              "#1f9e89"
             ],
             [
              0.6666666666666666,
              "#35b779"
             ],
             [
              0.7777777777777778,
              "#6ece58"
             ],
             [
              0.8888888888888888,
              "#b5de2b"
             ],
             [
              1,
              "#fde725"
             ]
            ],
            "type": "heatmap"
           }
          ],
          "heatmapgl": [
           {
            "colorbar": {
             "outlinewidth": 1,
             "tickcolor": "rgb(36,36,36)",
             "ticks": "outside"
            },
            "colorscale": [
             [
              0,
              "#440154"
             ],
             [
              0.1111111111111111,
              "#482878"
             ],
             [
              0.2222222222222222,
              "#3e4989"
             ],
             [
              0.3333333333333333,
              "#31688e"
             ],
             [
              0.4444444444444444,
              "#26828e"
             ],
             [
              0.5555555555555556,
              "#1f9e89"
             ],
             [
              0.6666666666666666,
              "#35b779"
             ],
             [
              0.7777777777777778,
              "#6ece58"
             ],
             [
              0.8888888888888888,
              "#b5de2b"
             ],
             [
              1,
              "#fde725"
             ]
            ],
            "type": "heatmapgl"
           }
          ],
          "histogram": [
           {
            "marker": {
             "line": {
              "color": "white",
              "width": 0.6
             }
            },
            "type": "histogram"
           }
          ],
          "histogram2d": [
           {
            "colorbar": {
             "outlinewidth": 1,
             "tickcolor": "rgb(36,36,36)",
             "ticks": "outside"
            },
            "colorscale": [
             [
              0,
              "#440154"
             ],
             [
              0.1111111111111111,
              "#482878"
             ],
             [
              0.2222222222222222,
              "#3e4989"
             ],
             [
              0.3333333333333333,
              "#31688e"
             ],
             [
              0.4444444444444444,
              "#26828e"
             ],
             [
              0.5555555555555556,
              "#1f9e89"
             ],
             [
              0.6666666666666666,
              "#35b779"
             ],
             [
              0.7777777777777778,
              "#6ece58"
             ],
             [
              0.8888888888888888,
              "#b5de2b"
             ],
             [
              1,
              "#fde725"
             ]
            ],
            "type": "histogram2d"
           }
          ],
          "histogram2dcontour": [
           {
            "colorbar": {
             "outlinewidth": 1,
             "tickcolor": "rgb(36,36,36)",
             "ticks": "outside"
            },
            "colorscale": [
             [
              0,
              "#440154"
             ],
             [
              0.1111111111111111,
              "#482878"
             ],
             [
              0.2222222222222222,
              "#3e4989"
             ],
             [
              0.3333333333333333,
              "#31688e"
             ],
             [
              0.4444444444444444,
              "#26828e"
             ],
             [
              0.5555555555555556,
              "#1f9e89"
             ],
             [
              0.6666666666666666,
              "#35b779"
             ],
             [
              0.7777777777777778,
              "#6ece58"
             ],
             [
              0.8888888888888888,
              "#b5de2b"
             ],
             [
              1,
              "#fde725"
             ]
            ],
            "type": "histogram2dcontour"
           }
          ],
          "mesh3d": [
           {
            "colorbar": {
             "outlinewidth": 1,
             "tickcolor": "rgb(36,36,36)",
             "ticks": "outside"
            },
            "type": "mesh3d"
           }
          ],
          "parcoords": [
           {
            "line": {
             "colorbar": {
              "outlinewidth": 1,
              "tickcolor": "rgb(36,36,36)",
              "ticks": "outside"
             }
            },
            "type": "parcoords"
           }
          ],
          "pie": [
           {
            "automargin": true,
            "type": "pie"
           }
          ],
          "scatter": [
           {
            "fillpattern": {
             "fillmode": "overlay",
             "size": 10,
             "solidity": 0.2
            },
            "type": "scatter"
           }
          ],
          "scatter3d": [
           {
            "line": {
             "colorbar": {
              "outlinewidth": 1,
              "tickcolor": "rgb(36,36,36)",
              "ticks": "outside"
             }
            },
            "marker": {
             "colorbar": {
              "outlinewidth": 1,
              "tickcolor": "rgb(36,36,36)",
              "ticks": "outside"
             }
            },
            "type": "scatter3d"
           }
          ],
          "scattercarpet": [
           {
            "marker": {
             "colorbar": {
              "outlinewidth": 1,
              "tickcolor": "rgb(36,36,36)",
              "ticks": "outside"
             }
            },
            "type": "scattercarpet"
           }
          ],
          "scattergeo": [
           {
            "marker": {
             "colorbar": {
              "outlinewidth": 1,
              "tickcolor": "rgb(36,36,36)",
              "ticks": "outside"
             }
            },
            "type": "scattergeo"
           }
          ],
          "scattergl": [
           {
            "marker": {
             "colorbar": {
              "outlinewidth": 1,
              "tickcolor": "rgb(36,36,36)",
              "ticks": "outside"
             }
            },
            "type": "scattergl"
           }
          ],
          "scattermapbox": [
           {
            "marker": {
             "colorbar": {
              "outlinewidth": 1,
              "tickcolor": "rgb(36,36,36)",
              "ticks": "outside"
             }
            },
            "type": "scattermapbox"
           }
          ],
          "scatterpolar": [
           {
            "marker": {
             "colorbar": {
              "outlinewidth": 1,
              "tickcolor": "rgb(36,36,36)",
              "ticks": "outside"
             }
            },
            "type": "scatterpolar"
           }
          ],
          "scatterpolargl": [
           {
            "marker": {
             "colorbar": {
              "outlinewidth": 1,
              "tickcolor": "rgb(36,36,36)",
              "ticks": "outside"
             }
            },
            "type": "scatterpolargl"
           }
          ],
          "scatterternary": [
           {
            "marker": {
             "colorbar": {
              "outlinewidth": 1,
              "tickcolor": "rgb(36,36,36)",
              "ticks": "outside"
             }
            },
            "type": "scatterternary"
           }
          ],
          "surface": [
           {
            "colorbar": {
             "outlinewidth": 1,
             "tickcolor": "rgb(36,36,36)",
             "ticks": "outside"
            },
            "colorscale": [
             [
              0,
              "#440154"
             ],
             [
              0.1111111111111111,
              "#482878"
             ],
             [
              0.2222222222222222,
              "#3e4989"
             ],
             [
              0.3333333333333333,
              "#31688e"
             ],
             [
              0.4444444444444444,
              "#26828e"
             ],
             [
              0.5555555555555556,
              "#1f9e89"
             ],
             [
              0.6666666666666666,
              "#35b779"
             ],
             [
              0.7777777777777778,
              "#6ece58"
             ],
             [
              0.8888888888888888,
              "#b5de2b"
             ],
             [
              1,
              "#fde725"
             ]
            ],
            "type": "surface"
           }
          ],
          "table": [
           {
            "cells": {
             "fill": {
              "color": "rgb(237,237,237)"
             },
             "line": {
              "color": "white"
             }
            },
            "header": {
             "fill": {
              "color": "rgb(217,217,217)"
             },
             "line": {
              "color": "white"
             }
            },
            "type": "table"
           }
          ]
         },
         "layout": {
          "annotationdefaults": {
           "arrowhead": 0,
           "arrowwidth": 1
          },
          "autotypenumbers": "strict",
          "coloraxis": {
           "colorbar": {
            "outlinewidth": 1,
            "tickcolor": "rgb(36,36,36)",
            "ticks": "outside"
           }
          },
          "colorscale": {
           "diverging": [
            [
             0,
             "rgb(103,0,31)"
            ],
            [
             0.1,
             "rgb(178,24,43)"
            ],
            [
             0.2,
             "rgb(214,96,77)"
            ],
            [
             0.3,
             "rgb(244,165,130)"
            ],
            [
             0.4,
             "rgb(253,219,199)"
            ],
            [
             0.5,
             "rgb(247,247,247)"
            ],
            [
             0.6,
             "rgb(209,229,240)"
            ],
            [
             0.7,
             "rgb(146,197,222)"
            ],
            [
             0.8,
             "rgb(67,147,195)"
            ],
            [
             0.9,
             "rgb(33,102,172)"
            ],
            [
             1,
             "rgb(5,48,97)"
            ]
           ],
           "sequential": [
            [
             0,
             "#440154"
            ],
            [
             0.1111111111111111,
             "#482878"
            ],
            [
             0.2222222222222222,
             "#3e4989"
            ],
            [
             0.3333333333333333,
             "#31688e"
            ],
            [
             0.4444444444444444,
             "#26828e"
            ],
            [
             0.5555555555555556,
             "#1f9e89"
            ],
            [
             0.6666666666666666,
             "#35b779"
            ],
            [
             0.7777777777777778,
             "#6ece58"
            ],
            [
             0.8888888888888888,
             "#b5de2b"
            ],
            [
             1,
             "#fde725"
            ]
           ],
           "sequentialminus": [
            [
             0,
             "#440154"
            ],
            [
             0.1111111111111111,
             "#482878"
            ],
            [
             0.2222222222222222,
             "#3e4989"
            ],
            [
             0.3333333333333333,
             "#31688e"
            ],
            [
             0.4444444444444444,
             "#26828e"
            ],
            [
             0.5555555555555556,
             "#1f9e89"
            ],
            [
             0.6666666666666666,
             "#35b779"
            ],
            [
             0.7777777777777778,
             "#6ece58"
            ],
            [
             0.8888888888888888,
             "#b5de2b"
            ],
            [
             1,
             "#fde725"
            ]
           ]
          },
          "colorway": [
           "#1F77B4",
           "#FF7F0E",
           "#2CA02C",
           "#D62728",
           "#9467BD",
           "#8C564B",
           "#E377C2",
           "#7F7F7F",
           "#BCBD22",
           "#17BECF"
          ],
          "font": {
           "color": "rgb(36,36,36)"
          },
          "geo": {
           "bgcolor": "white",
           "lakecolor": "white",
           "landcolor": "white",
           "showlakes": true,
           "showland": true,
           "subunitcolor": "white"
          },
          "hoverlabel": {
           "align": "left"
          },
          "hovermode": "closest",
          "mapbox": {
           "style": "light"
          },
          "paper_bgcolor": "white",
          "plot_bgcolor": "white",
          "polar": {
           "angularaxis": {
            "gridcolor": "rgb(232,232,232)",
            "linecolor": "rgb(36,36,36)",
            "showgrid": false,
            "showline": true,
            "ticks": "outside"
           },
           "bgcolor": "white",
           "radialaxis": {
            "gridcolor": "rgb(232,232,232)",
            "linecolor": "rgb(36,36,36)",
            "showgrid": false,
            "showline": true,
            "ticks": "outside"
           }
          },
          "scene": {
           "xaxis": {
            "backgroundcolor": "white",
            "gridcolor": "rgb(232,232,232)",
            "gridwidth": 2,
            "linecolor": "rgb(36,36,36)",
            "showbackground": true,
            "showgrid": false,
            "showline": true,
            "ticks": "outside",
            "zeroline": false,
            "zerolinecolor": "rgb(36,36,36)"
           },
           "yaxis": {
            "backgroundcolor": "white",
            "gridcolor": "rgb(232,232,232)",
            "gridwidth": 2,
            "linecolor": "rgb(36,36,36)",
            "showbackground": true,
            "showgrid": false,
            "showline": true,
            "ticks": "outside",
            "zeroline": false,
            "zerolinecolor": "rgb(36,36,36)"
           },
           "zaxis": {
            "backgroundcolor": "white",
            "gridcolor": "rgb(232,232,232)",
            "gridwidth": 2,
            "linecolor": "rgb(36,36,36)",
            "showbackground": true,
            "showgrid": false,
            "showline": true,
            "ticks": "outside",
            "zeroline": false,
            "zerolinecolor": "rgb(36,36,36)"
           }
          },
          "shapedefaults": {
           "fillcolor": "black",
           "line": {
            "width": 0
           },
           "opacity": 0.3
          },
          "ternary": {
           "aaxis": {
            "gridcolor": "rgb(232,232,232)",
            "linecolor": "rgb(36,36,36)",
            "showgrid": false,
            "showline": true,
            "ticks": "outside"
           },
           "baxis": {
            "gridcolor": "rgb(232,232,232)",
            "linecolor": "rgb(36,36,36)",
            "showgrid": false,
            "showline": true,
            "ticks": "outside"
           },
           "bgcolor": "white",
           "caxis": {
            "gridcolor": "rgb(232,232,232)",
            "linecolor": "rgb(36,36,36)",
            "showgrid": false,
            "showline": true,
            "ticks": "outside"
           }
          },
          "title": {
           "x": 0.05
          },
          "xaxis": {
           "automargin": true,
           "gridcolor": "rgb(232,232,232)",
           "linecolor": "rgb(36,36,36)",
           "showgrid": false,
           "showline": true,
           "ticks": "outside",
           "title": {
            "standoff": 15
           },
           "zeroline": false,
           "zerolinecolor": "rgb(36,36,36)"
          },
          "yaxis": {
           "automargin": true,
           "gridcolor": "rgb(232,232,232)",
           "linecolor": "rgb(36,36,36)",
           "showgrid": false,
           "showline": true,
           "ticks": "outside",
           "title": {
            "standoff": 15
           },
           "zeroline": false,
           "zerolinecolor": "rgb(36,36,36)"
          }
         }
        },
        "title": {
         "x": 0.5,
         "xanchor": "center",
         "y": 0.9,
         "yanchor": "top"
        },
        "width": 500,
        "xaxis": {
         "anchor": "y",
         "domain": [
          0,
          1
         ],
         "linewidth": 1.5,
         "title": {
          "text": "Day"
         }
        },
        "yaxis": {
         "anchor": "x",
         "domain": [
          0,
          1
         ],
         "linewidth": 1.5,
         "range": [
          0,
          60
         ],
         "title": {
          "text": "Number of Trials"
         }
        }
       }
      },
      "text/html": [
       "<div>                            <div id=\"11b96bdf-21a8-428d-aaa0-f5646623682d\" class=\"plotly-graph-div\" style=\"height:500px; width:500px;\"></div>            <script type=\"text/javascript\">                require([\"plotly\"], function(Plotly) {                    window.PLOTLYENV=window.PLOTLYENV || {};                                    if (document.getElementById(\"11b96bdf-21a8-428d-aaa0-f5646623682d\")) {                    Plotly.newPlot(                        \"11b96bdf-21a8-428d-aaa0-f5646623682d\",                        [{\"error_y\":{\"array\":[3.79418414594407,4.630814663149935,5.421792446537707,8.010409893798611,7.799572637865061],\"type\":\"data\"},\"line\":{\"color\":\"darkgrey\"},\"name\":\"Two Port\",\"x\":[1,2,3,4,5],\"y\":[24.75,54.333333333333336,48.25,42.0,46.0],\"type\":\"scatter\"},{\"error_y\":{\"array\":[2.9825883613622137,6.408002808988148,3.662876829305985,2.174664725116648,6.06217782649107],\"type\":\"data\"},\"line\":{\"color\":\"midnightblue\"},\"name\":\"Four Port\",\"x\":[1,2,3,4,5],\"y\":[28.25,30.25,32.5,32.75,38.5],\"type\":\"scatter\"},{\"error_y\":{\"array\":[5.836308764964376,6.408002808988149,5.49241901776136,5.522680508593631,3.944933459514875],\"type\":\"data\"},\"line\":{\"color\":\"darkorchid\"},\"name\":\"Six Port\",\"x\":[1,2,3,4,5],\"y\":[21.75,19.25,31.0,29.0,28.75],\"type\":\"scatter\"}],                        {\"template\":{\"data\":{\"barpolar\":[{\"marker\":{\"line\":{\"color\":\"white\",\"width\":0.5},\"pattern\":{\"fillmode\":\"overlay\",\"size\":10,\"solidity\":0.2}},\"type\":\"barpolar\"}],\"bar\":[{\"error_x\":{\"color\":\"rgb(36,36,36)\"},\"error_y\":{\"color\":\"rgb(36,36,36)\"},\"marker\":{\"line\":{\"color\":\"white\",\"width\":0.5},\"pattern\":{\"fillmode\":\"overlay\",\"size\":10,\"solidity\":0.2}},\"type\":\"bar\"}],\"carpet\":[{\"aaxis\":{\"endlinecolor\":\"rgb(36,36,36)\",\"gridcolor\":\"white\",\"linecolor\":\"white\",\"minorgridcolor\":\"white\",\"startlinecolor\":\"rgb(36,36,36)\"},\"baxis\":{\"endlinecolor\":\"rgb(36,36,36)\",\"gridcolor\":\"white\",\"linecolor\":\"white\",\"minorgridcolor\":\"white\",\"startlinecolor\":\"rgb(36,36,36)\"},\"type\":\"carpet\"}],\"choropleth\":[{\"colorbar\":{\"outlinewidth\":1,\"tickcolor\":\"rgb(36,36,36)\",\"ticks\":\"outside\"},\"type\":\"choropleth\"}],\"contourcarpet\":[{\"colorbar\":{\"outlinewidth\":1,\"tickcolor\":\"rgb(36,36,36)\",\"ticks\":\"outside\"},\"type\":\"contourcarpet\"}],\"contour\":[{\"colorbar\":{\"outlinewidth\":1,\"tickcolor\":\"rgb(36,36,36)\",\"ticks\":\"outside\"},\"colorscale\":[[0.0,\"#440154\"],[0.1111111111111111,\"#482878\"],[0.2222222222222222,\"#3e4989\"],[0.3333333333333333,\"#31688e\"],[0.4444444444444444,\"#26828e\"],[0.5555555555555556,\"#1f9e89\"],[0.6666666666666666,\"#35b779\"],[0.7777777777777778,\"#6ece58\"],[0.8888888888888888,\"#b5de2b\"],[1.0,\"#fde725\"]],\"type\":\"contour\"}],\"heatmapgl\":[{\"colorbar\":{\"outlinewidth\":1,\"tickcolor\":\"rgb(36,36,36)\",\"ticks\":\"outside\"},\"colorscale\":[[0.0,\"#440154\"],[0.1111111111111111,\"#482878\"],[0.2222222222222222,\"#3e4989\"],[0.3333333333333333,\"#31688e\"],[0.4444444444444444,\"#26828e\"],[0.5555555555555556,\"#1f9e89\"],[0.6666666666666666,\"#35b779\"],[0.7777777777777778,\"#6ece58\"],[0.8888888888888888,\"#b5de2b\"],[1.0,\"#fde725\"]],\"type\":\"heatmapgl\"}],\"heatmap\":[{\"colorbar\":{\"outlinewidth\":1,\"tickcolor\":\"rgb(36,36,36)\",\"ticks\":\"outside\"},\"colorscale\":[[0.0,\"#440154\"],[0.1111111111111111,\"#482878\"],[0.2222222222222222,\"#3e4989\"],[0.3333333333333333,\"#31688e\"],[0.4444444444444444,\"#26828e\"],[0.5555555555555556,\"#1f9e89\"],[0.6666666666666666,\"#35b779\"],[0.7777777777777778,\"#6ece58\"],[0.8888888888888888,\"#b5de2b\"],[1.0,\"#fde725\"]],\"type\":\"heatmap\"}],\"histogram2dcontour\":[{\"colorbar\":{\"outlinewidth\":1,\"tickcolor\":\"rgb(36,36,36)\",\"ticks\":\"outside\"},\"colorscale\":[[0.0,\"#440154\"],[0.1111111111111111,\"#482878\"],[0.2222222222222222,\"#3e4989\"],[0.3333333333333333,\"#31688e\"],[0.4444444444444444,\"#26828e\"],[0.5555555555555556,\"#1f9e89\"],[0.6666666666666666,\"#35b779\"],[0.7777777777777778,\"#6ece58\"],[0.8888888888888888,\"#b5de2b\"],[1.0,\"#fde725\"]],\"type\":\"histogram2dcontour\"}],\"histogram2d\":[{\"colorbar\":{\"outlinewidth\":1,\"tickcolor\":\"rgb(36,36,36)\",\"ticks\":\"outside\"},\"colorscale\":[[0.0,\"#440154\"],[0.1111111111111111,\"#482878\"],[0.2222222222222222,\"#3e4989\"],[0.3333333333333333,\"#31688e\"],[0.4444444444444444,\"#26828e\"],[0.5555555555555556,\"#1f9e89\"],[0.6666666666666666,\"#35b779\"],[0.7777777777777778,\"#6ece58\"],[0.8888888888888888,\"#b5de2b\"],[1.0,\"#fde725\"]],\"type\":\"histogram2d\"}],\"histogram\":[{\"marker\":{\"line\":{\"color\":\"white\",\"width\":0.6}},\"type\":\"histogram\"}],\"mesh3d\":[{\"colorbar\":{\"outlinewidth\":1,\"tickcolor\":\"rgb(36,36,36)\",\"ticks\":\"outside\"},\"type\":\"mesh3d\"}],\"parcoords\":[{\"line\":{\"colorbar\":{\"outlinewidth\":1,\"tickcolor\":\"rgb(36,36,36)\",\"ticks\":\"outside\"}},\"type\":\"parcoords\"}],\"pie\":[{\"automargin\":true,\"type\":\"pie\"}],\"scatter3d\":[{\"line\":{\"colorbar\":{\"outlinewidth\":1,\"tickcolor\":\"rgb(36,36,36)\",\"ticks\":\"outside\"}},\"marker\":{\"colorbar\":{\"outlinewidth\":1,\"tickcolor\":\"rgb(36,36,36)\",\"ticks\":\"outside\"}},\"type\":\"scatter3d\"}],\"scattercarpet\":[{\"marker\":{\"colorbar\":{\"outlinewidth\":1,\"tickcolor\":\"rgb(36,36,36)\",\"ticks\":\"outside\"}},\"type\":\"scattercarpet\"}],\"scattergeo\":[{\"marker\":{\"colorbar\":{\"outlinewidth\":1,\"tickcolor\":\"rgb(36,36,36)\",\"ticks\":\"outside\"}},\"type\":\"scattergeo\"}],\"scattergl\":[{\"marker\":{\"colorbar\":{\"outlinewidth\":1,\"tickcolor\":\"rgb(36,36,36)\",\"ticks\":\"outside\"}},\"type\":\"scattergl\"}],\"scattermapbox\":[{\"marker\":{\"colorbar\":{\"outlinewidth\":1,\"tickcolor\":\"rgb(36,36,36)\",\"ticks\":\"outside\"}},\"type\":\"scattermapbox\"}],\"scatterpolargl\":[{\"marker\":{\"colorbar\":{\"outlinewidth\":1,\"tickcolor\":\"rgb(36,36,36)\",\"ticks\":\"outside\"}},\"type\":\"scatterpolargl\"}],\"scatterpolar\":[{\"marker\":{\"colorbar\":{\"outlinewidth\":1,\"tickcolor\":\"rgb(36,36,36)\",\"ticks\":\"outside\"}},\"type\":\"scatterpolar\"}],\"scatter\":[{\"fillpattern\":{\"fillmode\":\"overlay\",\"size\":10,\"solidity\":0.2},\"type\":\"scatter\"}],\"scatterternary\":[{\"marker\":{\"colorbar\":{\"outlinewidth\":1,\"tickcolor\":\"rgb(36,36,36)\",\"ticks\":\"outside\"}},\"type\":\"scatterternary\"}],\"surface\":[{\"colorbar\":{\"outlinewidth\":1,\"tickcolor\":\"rgb(36,36,36)\",\"ticks\":\"outside\"},\"colorscale\":[[0.0,\"#440154\"],[0.1111111111111111,\"#482878\"],[0.2222222222222222,\"#3e4989\"],[0.3333333333333333,\"#31688e\"],[0.4444444444444444,\"#26828e\"],[0.5555555555555556,\"#1f9e89\"],[0.6666666666666666,\"#35b779\"],[0.7777777777777778,\"#6ece58\"],[0.8888888888888888,\"#b5de2b\"],[1.0,\"#fde725\"]],\"type\":\"surface\"}],\"table\":[{\"cells\":{\"fill\":{\"color\":\"rgb(237,237,237)\"},\"line\":{\"color\":\"white\"}},\"header\":{\"fill\":{\"color\":\"rgb(217,217,217)\"},\"line\":{\"color\":\"white\"}},\"type\":\"table\"}]},\"layout\":{\"annotationdefaults\":{\"arrowhead\":0,\"arrowwidth\":1},\"autotypenumbers\":\"strict\",\"coloraxis\":{\"colorbar\":{\"outlinewidth\":1,\"tickcolor\":\"rgb(36,36,36)\",\"ticks\":\"outside\"}},\"colorscale\":{\"diverging\":[[0.0,\"rgb(103,0,31)\"],[0.1,\"rgb(178,24,43)\"],[0.2,\"rgb(214,96,77)\"],[0.3,\"rgb(244,165,130)\"],[0.4,\"rgb(253,219,199)\"],[0.5,\"rgb(247,247,247)\"],[0.6,\"rgb(209,229,240)\"],[0.7,\"rgb(146,197,222)\"],[0.8,\"rgb(67,147,195)\"],[0.9,\"rgb(33,102,172)\"],[1.0,\"rgb(5,48,97)\"]],\"sequential\":[[0.0,\"#440154\"],[0.1111111111111111,\"#482878\"],[0.2222222222222222,\"#3e4989\"],[0.3333333333333333,\"#31688e\"],[0.4444444444444444,\"#26828e\"],[0.5555555555555556,\"#1f9e89\"],[0.6666666666666666,\"#35b779\"],[0.7777777777777778,\"#6ece58\"],[0.8888888888888888,\"#b5de2b\"],[1.0,\"#fde725\"]],\"sequentialminus\":[[0.0,\"#440154\"],[0.1111111111111111,\"#482878\"],[0.2222222222222222,\"#3e4989\"],[0.3333333333333333,\"#31688e\"],[0.4444444444444444,\"#26828e\"],[0.5555555555555556,\"#1f9e89\"],[0.6666666666666666,\"#35b779\"],[0.7777777777777778,\"#6ece58\"],[0.8888888888888888,\"#b5de2b\"],[1.0,\"#fde725\"]]},\"colorway\":[\"#1F77B4\",\"#FF7F0E\",\"#2CA02C\",\"#D62728\",\"#9467BD\",\"#8C564B\",\"#E377C2\",\"#7F7F7F\",\"#BCBD22\",\"#17BECF\"],\"font\":{\"color\":\"rgb(36,36,36)\"},\"geo\":{\"bgcolor\":\"white\",\"lakecolor\":\"white\",\"landcolor\":\"white\",\"showlakes\":true,\"showland\":true,\"subunitcolor\":\"white\"},\"hoverlabel\":{\"align\":\"left\"},\"hovermode\":\"closest\",\"mapbox\":{\"style\":\"light\"},\"paper_bgcolor\":\"white\",\"plot_bgcolor\":\"white\",\"polar\":{\"angularaxis\":{\"gridcolor\":\"rgb(232,232,232)\",\"linecolor\":\"rgb(36,36,36)\",\"showgrid\":false,\"showline\":true,\"ticks\":\"outside\"},\"bgcolor\":\"white\",\"radialaxis\":{\"gridcolor\":\"rgb(232,232,232)\",\"linecolor\":\"rgb(36,36,36)\",\"showgrid\":false,\"showline\":true,\"ticks\":\"outside\"}},\"scene\":{\"xaxis\":{\"backgroundcolor\":\"white\",\"gridcolor\":\"rgb(232,232,232)\",\"gridwidth\":2,\"linecolor\":\"rgb(36,36,36)\",\"showbackground\":true,\"showgrid\":false,\"showline\":true,\"ticks\":\"outside\",\"zeroline\":false,\"zerolinecolor\":\"rgb(36,36,36)\"},\"yaxis\":{\"backgroundcolor\":\"white\",\"gridcolor\":\"rgb(232,232,232)\",\"gridwidth\":2,\"linecolor\":\"rgb(36,36,36)\",\"showbackground\":true,\"showgrid\":false,\"showline\":true,\"ticks\":\"outside\",\"zeroline\":false,\"zerolinecolor\":\"rgb(36,36,36)\"},\"zaxis\":{\"backgroundcolor\":\"white\",\"gridcolor\":\"rgb(232,232,232)\",\"gridwidth\":2,\"linecolor\":\"rgb(36,36,36)\",\"showbackground\":true,\"showgrid\":false,\"showline\":true,\"ticks\":\"outside\",\"zeroline\":false,\"zerolinecolor\":\"rgb(36,36,36)\"}},\"shapedefaults\":{\"fillcolor\":\"black\",\"line\":{\"width\":0},\"opacity\":0.3},\"ternary\":{\"aaxis\":{\"gridcolor\":\"rgb(232,232,232)\",\"linecolor\":\"rgb(36,36,36)\",\"showgrid\":false,\"showline\":true,\"ticks\":\"outside\"},\"baxis\":{\"gridcolor\":\"rgb(232,232,232)\",\"linecolor\":\"rgb(36,36,36)\",\"showgrid\":false,\"showline\":true,\"ticks\":\"outside\"},\"bgcolor\":\"white\",\"caxis\":{\"gridcolor\":\"rgb(232,232,232)\",\"linecolor\":\"rgb(36,36,36)\",\"showgrid\":false,\"showline\":true,\"ticks\":\"outside\"}},\"title\":{\"x\":0.05},\"xaxis\":{\"automargin\":true,\"gridcolor\":\"rgb(232,232,232)\",\"linecolor\":\"rgb(36,36,36)\",\"showgrid\":false,\"showline\":true,\"ticks\":\"outside\",\"title\":{\"standoff\":15},\"zeroline\":false,\"zerolinecolor\":\"rgb(36,36,36)\"},\"yaxis\":{\"automargin\":true,\"gridcolor\":\"rgb(232,232,232)\",\"linecolor\":\"rgb(36,36,36)\",\"showgrid\":false,\"showline\":true,\"ticks\":\"outside\",\"title\":{\"standoff\":15},\"zeroline\":false,\"zerolinecolor\":\"rgb(36,36,36)\"}}},\"xaxis\":{\"anchor\":\"y\",\"domain\":[0.0,1.0],\"title\":{\"text\":\"Day\"},\"linewidth\":1.5},\"yaxis\":{\"anchor\":\"x\",\"domain\":[0.0,1.0],\"title\":{\"text\":\"Number of Trials\"},\"linewidth\":1.5,\"range\":[0,60]},\"title\":{\"y\":0.9,\"x\":0.5,\"xanchor\":\"center\",\"yanchor\":\"top\"},\"font\":{\"size\":22,\"family\":\"Arial\"},\"height\":500,\"width\":500},                        {\"responsive\": true}                    ).then(function(){\n",
       "                            \n",
       "var gd = document.getElementById('11b96bdf-21a8-428d-aaa0-f5646623682d');\n",
       "var x = new MutationObserver(function (mutations, observer) {{\n",
       "        var display = window.getComputedStyle(gd).display;\n",
       "        if (!display || display === 'none') {{\n",
       "            console.log([gd, 'removed!']);\n",
       "            Plotly.purge(gd);\n",
       "            observer.disconnect();\n",
       "        }}\n",
       "}});\n",
       "\n",
       "// Listen for the removal of the full notebook cells\n",
       "var notebookContainer = gd.closest('#notebook-container');\n",
       "if (notebookContainer) {{\n",
       "    x.observe(notebookContainer, {childList: true});\n",
       "}}\n",
       "\n",
       "// Listen for the clearing of the current output cell\n",
       "var outputEl = gd.closest('.output');\n",
       "if (outputEl) {{\n",
       "    x.observe(outputEl, {childList: true});\n",
       "}}\n",
       "\n",
       "                        })                };                });            </script>        </div>"
      ]
     },
     "metadata": {},
     "output_type": "display_data"
    }
   ],
   "source": [
    "## Plot number of trials\n",
    "avg_trials = ct_df.groupby(['group', 'day'], as_index=False).agg({'num_trials': ['mean', 'sem']})\n",
    "fig = pf.custom_graph_template(x_title='Day', y_title='Number of Trials')\n",
    "for group in group_list:\n",
    "    gdata = avg_trials[avg_trials['group'] == group]\n",
    "    fig.add_trace(go.Scatter(x=gdata['day'], y=gdata['num_trials']['mean'], line_color=group_colors_dict[group],\n",
    "                             name=group, error_y=dict(type='data', array=gdata['num_trials']['sem'])))\n",
    "fig.update_yaxes(range=[0, 60])\n",
    "fig.show()"
   ]
  },
  {
   "cell_type": "code",
   "execution_count": 64,
   "metadata": {},
   "outputs": [
    {
     "data": {
      "text/html": [
       "<div>\n",
       "<style scoped>\n",
       "    .dataframe tbody tr th:only-of-type {\n",
       "        vertical-align: middle;\n",
       "    }\n",
       "\n",
       "    .dataframe tbody tr th {\n",
       "        vertical-align: top;\n",
       "    }\n",
       "\n",
       "    .dataframe thead th {\n",
       "        text-align: right;\n",
       "    }\n",
       "</style>\n",
       "<table border=\"1\" class=\"dataframe\">\n",
       "  <thead>\n",
       "    <tr style=\"text-align: right;\">\n",
       "      <th></th>\n",
       "      <th>Source</th>\n",
       "      <th>SS</th>\n",
       "      <th>DF1</th>\n",
       "      <th>DF2</th>\n",
       "      <th>MS</th>\n",
       "      <th>F</th>\n",
       "      <th>p-unc</th>\n",
       "      <th>np2</th>\n",
       "      <th>eps</th>\n",
       "    </tr>\n",
       "  </thead>\n",
       "  <tbody>\n",
       "    <tr>\n",
       "      <th>0</th>\n",
       "      <td>group</td>\n",
       "      <td>3649.845455</td>\n",
       "      <td>2</td>\n",
       "      <td>8</td>\n",
       "      <td>1824.922727</td>\n",
       "      <td>5.813939</td>\n",
       "      <td>0.027597</td>\n",
       "      <td>0.592416</td>\n",
       "      <td>NaN</td>\n",
       "    </tr>\n",
       "    <tr>\n",
       "      <th>1</th>\n",
       "      <td>day</td>\n",
       "      <td>1073.163636</td>\n",
       "      <td>4</td>\n",
       "      <td>32</td>\n",
       "      <td>268.290909</td>\n",
       "      <td>4.574603</td>\n",
       "      <td>0.004913</td>\n",
       "      <td>0.363797</td>\n",
       "      <td>0.629409</td>\n",
       "    </tr>\n",
       "    <tr>\n",
       "      <th>2</th>\n",
       "      <td>Interaction</td>\n",
       "      <td>912.503030</td>\n",
       "      <td>8</td>\n",
       "      <td>32</td>\n",
       "      <td>114.062879</td>\n",
       "      <td>1.944875</td>\n",
       "      <td>0.087110</td>\n",
       "      <td>0.327152</td>\n",
       "      <td>NaN</td>\n",
       "    </tr>\n",
       "  </tbody>\n",
       "</table>\n",
       "</div>"
      ],
      "text/plain": [
       "        Source           SS  DF1  DF2           MS         F     p-unc  \\\n",
       "0        group  3649.845455    2    8  1824.922727  5.813939  0.027597   \n",
       "1          day  1073.163636    4   32   268.290909  4.574603  0.004913   \n",
       "2  Interaction   912.503030    8   32   114.062879  1.944875  0.087110   \n",
       "\n",
       "        np2       eps  \n",
       "0  0.592416       NaN  \n",
       "1  0.363797  0.629409  \n",
       "2  0.327152       NaN  "
      ]
     },
     "execution_count": 64,
     "metadata": {},
     "output_type": "execute_result"
    }
   ],
   "source": [
    "ct_df.mixed_anova(dv='num_trials', within='day', between='group', subject='mouse')"
   ]
  },
  {
   "cell_type": "markdown",
   "metadata": {},
   "source": [
    "### Lick accuracy across trials for all groups."
   ]
  },
  {
   "cell_type": "code",
   "execution_count": 10,
   "metadata": {},
   "outputs": [
    {
     "name": "stderr",
     "output_type": "stream",
     "text": [
      "/media/caishuman/csstorage3/Austin/CircleTrack/CircleTrackAnalysis/Circletrack_MultiPort/MultiPort1/../../circletrack_behavior.py:532: RuntimeWarning: Mean of empty slice\n",
      "  return [np.nanmean(bin) for bin in binned if bin.size > 0]\n",
      "/media/caishuman/csstorage3/Austin/CircleTrack/CircleTrackAnalysis/Circletrack_MultiPort/MultiPort1/../../circletrack_behavior.py:532: RuntimeWarning: Mean of empty slice\n",
      "  return [np.nanmean(bin) for bin in binned if bin.size > 0]\n",
      "/media/caishuman/csstorage3/Austin/CircleTrack/CircleTrackAnalysis/Circletrack_MultiPort/MultiPort1/../../circletrack_behavior.py:532: RuntimeWarning: Mean of empty slice\n",
      "  return [np.nanmean(bin) for bin in binned if bin.size > 0]\n",
      "/media/caishuman/csstorage3/Austin/CircleTrack/CircleTrackAnalysis/Circletrack_MultiPort/MultiPort1/../../circletrack_behavior.py:532: RuntimeWarning: Mean of empty slice\n",
      "  return [np.nanmean(bin) for bin in binned if bin.size > 0]\n",
      "/media/caishuman/csstorage3/Austin/CircleTrack/CircleTrackAnalysis/Circletrack_MultiPort/MultiPort1/../../circletrack_behavior.py:532: RuntimeWarning: Mean of empty slice\n",
      "  return [np.nanmean(bin) for bin in binned if bin.size > 0]\n",
      "/media/caishuman/csstorage3/Austin/CircleTrack/CircleTrackAnalysis/Circletrack_MultiPort/MultiPort1/../../circletrack_behavior.py:532: RuntimeWarning: Mean of empty slice\n",
      "  return [np.nanmean(bin) for bin in binned if bin.size > 0]\n",
      "/media/caishuman/csstorage3/Austin/CircleTrack/CircleTrackAnalysis/Circletrack_MultiPort/MultiPort1/../../circletrack_behavior.py:532: RuntimeWarning: Mean of empty slice\n",
      "  return [np.nanmean(bin) for bin in binned if bin.size > 0]\n",
      "/media/caishuman/csstorage3/Austin/CircleTrack/CircleTrackAnalysis/Circletrack_MultiPort/MultiPort1/../../circletrack_behavior.py:532: RuntimeWarning: Mean of empty slice\n",
      "  return [np.nanmean(bin) for bin in binned if bin.size > 0]\n",
      "/media/caishuman/csstorage3/Austin/CircleTrack/CircleTrackAnalysis/Circletrack_MultiPort/MultiPort1/../../circletrack_behavior.py:532: RuntimeWarning: Mean of empty slice\n",
      "  return [np.nanmean(bin) for bin in binned if bin.size > 0]\n"
     ]
    }
   ],
   "source": [
    "bin_size = 3\n",
    "trial_res = {'mouse': [], 'day': [], 'group': [], 'session': [], 'trial': [], 'lick_acc': []}\n",
    "for mouse in os.listdir(circle_path):\n",
    "    mouse_path = pjoin(circle_path, mouse)\n",
    "    group = 'Two Port' if mouse in two_port else 'Four Port' if mouse in four_port else 'Six Port'\n",
    "    for idx, session in enumerate(os.listdir(mouse_path)):\n",
    "        behav = pd.read_feather(pjoin(mouse_path, f'{session}'))\n",
    "        behav = behav[~behav['probe']]\n",
    "        if group == 'Two Port':\n",
    "            reward_one, reward_two = np.unique(behav['reward_one'])[0], np.unique(behav['reward_two'])[0]\n",
    "            rewards = [reward_one, reward_two]\n",
    "        elif group == 'Four Port':\n",
    "            reward_one, reward_two = np.unique(behav['reward_one'])[0], np.unique(behav['reward_two'])[0]\n",
    "            reward_three, reward_four = np.unique(behav['reward_three'])[0], np.unique(behav['reward_four'])[0]\n",
    "            rewards = [reward_one, reward_two, reward_three, reward_four]\n",
    "        elif group == 'Six Port':\n",
    "            reward_one, reward_two = np.unique(behav['reward_one'])[0], np.unique(behav['reward_two'])[0]\n",
    "            reward_three, reward_four = np.unique(behav['reward_three'])[0], np.unique(behav['reward_four'])[0]\n",
    "            reward_five, reward_six = np.unique(behav['reward_five'])[0], np.unique(behav['reward_six'])[0]\n",
    "            rewards = [reward_one, reward_two, reward_three, reward_four, reward_five, reward_six]\n",
    "        \n",
    "        trial_acc = ctb.lick_accuracy(behav, port_list=rewards, lick_threshold=5, by_trials=True)\n",
    "\n",
    "        if bin_size > 0:\n",
    "            binned_acc = ctb.bin_data(trial_acc, bin_size)\n",
    "        else:\n",
    "            binned_acc = trial_acc\n",
    "        \n",
    "        for trial, val in enumerate(binned_acc):\n",
    "            trial_res['mouse'].append(mouse)\n",
    "            trial_res['group'].append(group)\n",
    "            trial_res['day'].append(idx+1)\n",
    "            trial_res['session'].append(behav['session_two'].unique()[0])\n",
    "            trial_res['trial'].append(trial+1)\n",
    "            trial_res['lick_acc'].append(val)\n",
    "trial_df = pd.DataFrame(trial_res)\n",
    "avg_acc = trial_df.groupby(['group', 'day', 'session', 'trial'], as_index=False).agg({'lick_acc': ['mean', 'sem']})"
   ]
  },
  {
   "cell_type": "code",
   "execution_count": 34,
   "metadata": {},
   "outputs": [
    {
     "data": {
      "application/vnd.plotly.v1+json": {
       "config": {
        "plotlyServerURL": "https://plot.ly"
       },
       "data": [
        {
         "legendgroup": "Two Port",
         "line": {
          "color": "darkgrey"
         },
         "mode": "lines",
         "name": "Two Port",
         "showlegend": true,
         "type": "scatter",
         "x": [
          1,
          4,
          7,
          10,
          13,
          16,
          19,
          22,
          25,
          28,
          31
         ],
         "xaxis": "x",
         "y": [
          18.66161616161616,
          30.821886446886445,
          30.956905997228574,
          29.826590892767364,
          24.86111111111111,
          29.04040404040404,
          38.98249898249898,
          62.97979797979798,
          80.55555555555556,
          88.88888888888887,
          100
         ],
         "yaxis": "y"
        },
        {
         "line": {
          "width": 0
         },
         "marker": {
          "color": "rgba(169,169,169,0.4)"
         },
         "mode": "lines",
         "name": "Upper Bound",
         "showlegend": false,
         "type": "scatter",
         "x": [
          1,
          4,
          7,
          10,
          13,
          16,
          19,
          22,
          25,
          28,
          31
         ],
         "xaxis": "x",
         "y": [
          26.954459843634268,
          40.857829567524234,
          34.92135032330422,
          34.388088301697046,
          25.989275315542024,
          31.24669064344801,
          39.234839234839235,
          81.96989845154236,
          null,
          null,
          null
         ],
         "yaxis": "y"
        },
        {
         "fill": "tonexty",
         "fillcolor": "rgba(169,169,169,0.4)",
         "line": {
          "width": 0
         },
         "marker": {
          "color": "rgba(169,169,169,0.4)"
         },
         "mode": "lines",
         "name": "Lower Bound",
         "showlegend": false,
         "type": "scatter",
         "x": [
          1,
          4,
          7,
          10,
          13,
          16,
          19,
          22,
          25,
          28,
          31
         ],
         "xaxis": "x",
         "y": [
          10.368772479598052,
          20.785943326248653,
          26.992461671152935,
          25.265093483837685,
          23.732946906680198,
          26.834117437360074,
          38.73015873015873,
          43.989697508053595,
          null,
          null,
          null
         ],
         "yaxis": "y"
        },
        {
         "legendgroup": "Two Port",
         "line": {
          "color": "darkgrey"
         },
         "mode": "lines",
         "name": "Two Port",
         "showlegend": false,
         "type": "scatter",
         "x": [
          1,
          4,
          7,
          10,
          13,
          16,
          19,
          22,
          25,
          28,
          31,
          34,
          37,
          40,
          43,
          46,
          49,
          52,
          55,
          58
         ],
         "xaxis": "x2",
         "y": [
          28.80252100840336,
          46.97089947089947,
          66.13756613756614,
          67.4074074074074,
          64.07407407407406,
          74.07407407407406,
          79.62962962962963,
          87.03703703703702,
          92.5925925925926,
          92.59259259259257,
          92.59259259259257,
          87.03703703703702,
          81.48148148148147,
          97.22222222222223,
          92.3809523809524,
          80.55555555555554,
          94.44444444444443,
          94.44444444444443,
          72.22222222222221,
          100
         ],
         "yaxis": "y2"
        },
        {
         "line": {
          "width": 0
         },
         "marker": {
          "color": "rgba(169,169,169,0.4)"
         },
         "mode": "lines",
         "name": "Upper Bound",
         "showlegend": false,
         "type": "scatter",
         "x": [
          1,
          4,
          7,
          10,
          13,
          16,
          19,
          22,
          25,
          28,
          31,
          34,
          37,
          40,
          43,
          46,
          49,
          52,
          55,
          58
         ],
         "xaxis": "x2",
         "y": [
          30.770158591565288,
          58.91814143383728,
          83.07498233069748,
          73.86503547191211,
          77.16340522005353,
          87.42796768690366,
          89.94030437561116,
          96.15634981647786,
          100,
          96.29629629629628,
          96.29629629629628,
          95.10907211766789,
          88.88888888888887,
          100,
          96.3460304751736,
          88.88888888888887,
          99.99999999999999,
          99.99999999999999,
          null,
          null
         ],
         "yaxis": "y2"
        },
        {
         "fill": "tonexty",
         "fillcolor": "rgba(169,169,169,0.4)",
         "line": {
          "width": 0
         },
         "marker": {
          "color": "rgba(169,169,169,0.4)"
         },
         "mode": "lines",
         "name": "Lower Bound",
         "showlegend": false,
         "type": "scatter",
         "x": [
          1,
          4,
          7,
          10,
          13,
          16,
          19,
          22,
          25,
          28,
          31,
          34,
          37,
          40,
          43,
          46,
          49,
          52,
          55,
          58
         ],
         "xaxis": "x2",
         "y": [
          26.834883425241433,
          35.02365750796166,
          49.2001499444348,
          60.9497793429027,
          50.98474292809459,
          60.72018046124447,
          69.3189548836481,
          77.91772425759619,
          85.18518518518519,
          88.88888888888886,
          88.88888888888886,
          78.96500195640616,
          74.07407407407406,
          94.44444444444446,
          88.41587428673118,
          72.22222222222221,
          88.88888888888887,
          88.88888888888887,
          null,
          null
         ],
         "yaxis": "y2"
        },
        {
         "legendgroup": "Two Port",
         "line": {
          "color": "darkgrey"
         },
         "mode": "lines",
         "name": "Two Port",
         "showlegend": false,
         "type": "scatter",
         "x": [
          1,
          4,
          7,
          10,
          13,
          16,
          19,
          22,
          25,
          28,
          31,
          34,
          37,
          40,
          43,
          46,
          49,
          52,
          55,
          58,
          61
         ],
         "xaxis": "x3",
         "y": [
          24.49404761904762,
          64.88095238095238,
          77.77777777777777,
          76.11111111111111,
          76.38888888888887,
          81.11111111111111,
          79.86111111111111,
          83.88888888888889,
          81.80555555555554,
          87.5,
          92.36111111111111,
          90.83333333333333,
          90.74074074074072,
          93.51851851851852,
          90.74074074074075,
          85.18518518518518,
          91.66666666666666,
          91.66666666666667,
          88.88888888888887,
          66.66666666666666,
          100
         ],
         "yaxis": "y3"
        },
        {
         "line": {
          "width": 0
         },
         "marker": {
          "color": "rgba(169,169,169,0.4)"
         },
         "mode": "lines",
         "name": "Upper Bound",
         "showlegend": false,
         "type": "scatter",
         "x": [
          1,
          4,
          7,
          10,
          13,
          16,
          19,
          22,
          25,
          28,
          31,
          34,
          37,
          40,
          43,
          46,
          49,
          52,
          55,
          58,
          61
         ],
         "xaxis": "x3",
         "y": [
          32.75169355834568,
          80.15185717732052,
          94.90115000824716,
          89.67015741332257,
          88.88888888888887,
          100,
          96.50364765557286,
          96.5696802339037,
          93.75403678555728,
          96.67788314888843,
          97.60405169116025,
          96.1692701978607,
          95.64028020567514,
          96.85699192172592,
          100.00000000000001,
          100,
          94.44444444444446,
          null,
          null,
          null,
          null
         ],
         "yaxis": "y3"
        },
        {
         "fill": "tonexty",
         "fillcolor": "rgba(169,169,169,0.4)",
         "line": {
          "width": 0
         },
         "marker": {
          "color": "rgba(169,169,169,0.4)"
         },
         "mode": "lines",
         "name": "Lower Bound",
         "showlegend": false,
         "type": "scatter",
         "x": [
          1,
          4,
          7,
          10,
          13,
          16,
          19,
          22,
          25,
          28,
          31,
          34,
          37,
          40,
          43,
          46,
          49,
          52,
          55,
          58,
          61
         ],
         "xaxis": "x3",
         "y": [
          16.236401679749562,
          49.61004758458424,
          60.65440554730839,
          62.55206480889965,
          63.88888888888887,
          62.22222222222223,
          63.218574566649366,
          71.20809754387408,
          69.85707432555381,
          78.32211685111157,
          87.11817053106198,
          85.49739646880596,
          85.8412012758063,
          90.18004511531112,
          81.48148148148148,
          70.37037037037035,
          88.88888888888886,
          null,
          null,
          null,
          null
         ],
         "yaxis": "y3"
        },
        {
         "legendgroup": "Two Port",
         "line": {
          "color": "darkgrey"
         },
         "mode": "lines",
         "name": "Two Port",
         "showlegend": false,
         "type": "scatter",
         "x": [
          1,
          4,
          7,
          10,
          13,
          16,
          19,
          22,
          25,
          28,
          31,
          34,
          37,
          40,
          43,
          46,
          49,
          52,
          55,
          58,
          61,
          64
         ],
         "xaxis": "x4",
         "y": [
          41.42857142857143,
          64.79166666666666,
          70.83333333333333,
          78.33333333333333,
          82.63888888888889,
          74.2063492063492,
          94.09722222222221,
          97.22222222222221,
          93.51851851851852,
          86.1111111111111,
          85.23809523809524,
          88.88888888888889,
          85.55555555555554,
          100,
          94.44444444444443,
          83.33333333333334,
          100,
          100,
          88.88888888888887,
          100,
          100,
          100
         ],
         "yaxis": "y4"
        },
        {
         "line": {
          "width": 0
         },
         "marker": {
          "color": "rgba(169,169,169,0.4)"
         },
         "mode": "lines",
         "name": "Upper Bound",
         "showlegend": false,
         "type": "scatter",
         "x": [
          1,
          4,
          7,
          10,
          13,
          16,
          19,
          22,
          25,
          28,
          31,
          34,
          37,
          40,
          43,
          46,
          49,
          52,
          55,
          58,
          61,
          64
         ],
         "xaxis": "x4",
         "y": [
          62.607897904936095,
          69.56720312415393,
          80.81660122817028,
          87.13498862097491,
          85.92070529600875,
          84.43439069958904,
          97.51696451451254,
          100,
          96.85699192172592,
          95.04041737128976,
          94.20178279587016,
          100,
          93.33333333333333,
          100,
          100,
          100.00000000000001,
          null,
          null,
          null,
          null,
          null,
          null
         ],
         "yaxis": "y4"
        },
        {
         "fill": "tonexty",
         "fillcolor": "rgba(169,169,169,0.4)",
         "line": {
          "width": 0
         },
         "marker": {
          "color": "rgba(169,169,169,0.4)"
         },
         "mode": "lines",
         "name": "Lower Bound",
         "showlegend": false,
         "type": "scatter",
         "x": [
          1,
          4,
          7,
          10,
          13,
          16,
          19,
          22,
          25,
          28,
          31,
          34,
          37,
          40,
          43,
          46,
          49,
          52,
          55,
          58,
          61,
          64
         ],
         "xaxis": "x4",
         "y": [
          20.249244952206762,
          60.01613020917938,
          60.85006543849637,
          69.53167804569175,
          79.35707248176902,
          63.97830771310936,
          90.67747992993189,
          94.44444444444443,
          90.18004511531112,
          77.18180485093244,
          76.27440768032032,
          77.77777777777777,
          77.77777777777776,
          100,
          88.88888888888886,
          66.66666666666667,
          null,
          null,
          null,
          null,
          null,
          null
         ],
         "yaxis": "y4"
        },
        {
         "legendgroup": "Two Port",
         "line": {
          "color": "darkgrey"
         },
         "mode": "lines",
         "name": "Two Port",
         "showlegend": false,
         "type": "scatter",
         "x": [
          1,
          4,
          7,
          10,
          13,
          16,
          19,
          22,
          25,
          28,
          31,
          34,
          37,
          40,
          43,
          46,
          49,
          52,
          55,
          58,
          61,
          64,
          67
         ],
         "xaxis": "x5",
         "y": [
          69.68253968253968,
          86.52777777777777,
          91.66666666666667,
          95.83333333333333,
          93.88888888888889,
          98.61111111111111,
          90.27777777777777,
          92.77777777777777,
          86.80555555555556,
          97.22222222222223,
          87.03703703703702,
          96.29629629629629,
          100,
          100,
          100,
          100,
          91.66666666666667,
          100,
          61.11111111111111,
          88.88888888888887,
          88.88888888888887,
          100,
          83.33333333333333
         ],
         "yaxis": "y5"
        },
        {
         "line": {
          "width": 0
         },
         "marker": {
          "color": "rgba(169,169,169,0.4)"
         },
         "mode": "lines",
         "name": "Upper Bound",
         "showlegend": false,
         "type": "scatter",
         "x": [
          1,
          4,
          7,
          10,
          13,
          16,
          19,
          22,
          25,
          28,
          31,
          34,
          37,
          40,
          43,
          46,
          49,
          52,
          55,
          58,
          61,
          64,
          67
         ],
         "xaxis": "x5",
         "y": [
          87.41265814985505,
          92.25824199672279,
          97.55922317655457,
          100,
          97.44618013190714,
          100,
          96.00431336891342,
          98.01887840669811,
          97.40578994616233,
          100,
          88.88888888888887,
          100,
          100,
          100,
          null,
          null,
          null,
          null,
          null,
          null,
          null,
          null,
          null
         ],
         "yaxis": "y5"
        },
        {
         "fill": "tonexty",
         "fillcolor": "rgba(169,169,169,0.4)",
         "line": {
          "width": 0
         },
         "marker": {
          "color": "rgba(169,169,169,0.4)"
         },
         "mode": "lines",
         "name": "Lower Bound",
         "showlegend": false,
         "type": "scatter",
         "x": [
          1,
          4,
          7,
          10,
          13,
          16,
          19,
          22,
          25,
          28,
          31,
          34,
          37,
          40,
          43,
          46,
          49,
          52,
          55,
          58,
          61,
          64,
          67
         ],
         "xaxis": "x5",
         "y": [
          51.95242121522432,
          80.79731355883276,
          85.77411015677878,
          91.66666666666666,
          90.33159764587063,
          97.22222222222223,
          84.55124218664213,
          87.53667714885744,
          76.20532116494878,
          94.44444444444446,
          85.18518518518518,
          92.59259259259258,
          100,
          100,
          null,
          null,
          null,
          null,
          null,
          null,
          null,
          null,
          null
         ],
         "yaxis": "y5"
        },
        {
         "legendgroup": "Four Port",
         "line": {
          "color": "midnightblue"
         },
         "mode": "lines",
         "name": "Four Port",
         "showlegend": true,
         "type": "scatter",
         "x": [
          1,
          4,
          7,
          10,
          13,
          16,
          19,
          22,
          25,
          28,
          31,
          34
         ],
         "xaxis": "x",
         "y": [
          43.61111111111111,
          49.074074074074076,
          43.87626262626262,
          50.27777777777778,
          41.452991452991455,
          55.45100732600733,
          55.73412698412698,
          54.50669156551509,
          53.07760141093474,
          46.666666666666664,
          50,
          50
         ],
         "yaxis": "y"
        },
        {
         "line": {
          "width": 0
         },
         "marker": {
          "color": "rgba(25,25,112,0.4)"
         },
         "mode": "lines",
         "name": "Upper Bound",
         "showlegend": false,
         "type": "scatter",
         "x": [
          1,
          4,
          7,
          10,
          13,
          16,
          19,
          22,
          25,
          28,
          31,
          34
         ],
         "xaxis": "x",
         "y": [
          48.33333333333333,
          54.59091448509861,
          46.3748912165417,
          62.9980590465059,
          52.2684194314904,
          62.494133461490804,
          58.7822652707474,
          58.57586233306488,
          54.63225787563913,
          null,
          null,
          null
         ],
         "yaxis": "y"
        },
        {
         "fill": "tonexty",
         "fillcolor": "rgba(25,25,112,0.4)",
         "line": {
          "width": 0
         },
         "marker": {
          "color": "rgba(25,25,112,0.4)"
         },
         "mode": "lines",
         "name": "Lower Bound",
         "showlegend": false,
         "type": "scatter",
         "x": [
          1,
          4,
          7,
          10,
          13,
          16,
          19,
          22,
          25,
          28,
          31,
          34
         ],
         "xaxis": "x",
         "y": [
          38.888888888888886,
          43.557233663049544,
          41.37763403598355,
          37.557496509049656,
          30.637563474492513,
          48.40788119052385,
          52.68598869750656,
          50.4375207979653,
          51.52294494623035,
          null,
          null,
          null
         ],
         "yaxis": "y"
        },
        {
         "legendgroup": "Four Port",
         "line": {
          "color": "midnightblue"
         },
         "mode": "lines",
         "name": "Four Port",
         "showlegend": false,
         "type": "scatter",
         "x": [
          1,
          4,
          7,
          10,
          13,
          16,
          19,
          22,
          25,
          28,
          31,
          34,
          37,
          40
         ],
         "xaxis": "x2",
         "y": [
          57.615440115440116,
          56.18386243386243,
          54.81060606060606,
          55.84401709401709,
          52.301587301587304,
          64.92063492063492,
          57.3929773929774,
          62.02821869488536,
          65.63492063492065,
          66.47546897546898,
          52.85714285714286,
          41.65343915343915,
          73.80952380952381,
          0
         ],
         "yaxis": "y2"
        },
        {
         "line": {
          "width": 0
         },
         "marker": {
          "color": "rgba(25,25,112,0.4)"
         },
         "mode": "lines",
         "name": "Upper Bound",
         "showlegend": false,
         "type": "scatter",
         "x": [
          1,
          4,
          7,
          10,
          13,
          16,
          19,
          22,
          25,
          28,
          31,
          34,
          37,
          40
         ],
         "xaxis": "x2",
         "y": [
          66.79463149673732,
          62.84349499259316,
          59.77204270464719,
          60.46524687244832,
          57.97949639151582,
          68.87404631602597,
          66.04781621199622,
          73.8717348069254,
          78.68631428813858,
          74.64708896760862,
          54.76190476190476,
          50.529100529100525,
          100,
          null
         ],
         "yaxis": "y2"
        },
        {
         "fill": "tonexty",
         "fillcolor": "rgba(25,25,112,0.4)",
         "line": {
          "width": 0
         },
         "marker": {
          "color": "rgba(25,25,112,0.4)"
         },
         "mode": "lines",
         "name": "Lower Bound",
         "showlegend": false,
         "type": "scatter",
         "x": [
          1,
          4,
          7,
          10,
          13,
          16,
          19,
          22,
          25,
          28,
          31,
          34,
          37,
          40
         ],
         "xaxis": "x2",
         "y": [
          48.436248734142914,
          49.5242298751317,
          49.84916941656493,
          51.22278731558586,
          46.623678211658785,
          60.96722352524388,
          48.73813857395858,
          50.18470258284532,
          52.58352698170272,
          58.30384898332935,
          50.95238095238096,
          32.77777777777778,
          47.61904761904762,
          null
         ],
         "yaxis": "y2"
        },
        {
         "legendgroup": "Four Port",
         "line": {
          "color": "midnightblue"
         },
         "mode": "lines",
         "name": "Four Port",
         "showlegend": false,
         "type": "scatter",
         "x": [
          1,
          4,
          7,
          10,
          13,
          16,
          19,
          22,
          25,
          28,
          31,
          34,
          37,
          40
         ],
         "xaxis": "x3",
         "y": [
          56.564407814407815,
          54.42460317460317,
          56.150793650793645,
          60,
          67.02380952380952,
          74.52380952380952,
          65.97222222222223,
          83.05555555555556,
          79.25925925925925,
          75.87301587301587,
          78.33333333333333,
          67.22222222222221,
          66.66666666666667,
          100
         ],
         "yaxis": "y3"
        },
        {
         "line": {
          "width": 0
         },
         "marker": {
          "color": "rgba(25,25,112,0.4)"
         },
         "mode": "lines",
         "name": "Upper Bound",
         "showlegend": false,
         "type": "scatter",
         "x": [
          1,
          4,
          7,
          10,
          13,
          16,
          19,
          22,
          25,
          28,
          31,
          34,
          37,
          40
         ],
         "xaxis": "x3",
         "y": [
          64.35264682742206,
          61.71643405854745,
          58.50213062968659,
          64.08248290463862,
          73.3724784825489,
          79.35856965413271,
          74.21985250914673,
          88.99376620178666,
          85.04462938956047,
          85.86335302021831,
          89.26239754050333,
          83.64951558047784,
          null,
          null
         ],
         "yaxis": "y3"
        },
        {
         "fill": "tonexty",
         "fillcolor": "rgba(25,25,112,0.4)",
         "line": {
          "width": 0
         },
         "marker": {
          "color": "rgba(25,25,112,0.4)"
         },
         "mode": "lines",
         "name": "Lower Bound",
         "showlegend": false,
         "type": "scatter",
         "x": [
          1,
          4,
          7,
          10,
          13,
          16,
          19,
          22,
          25,
          28,
          31,
          34,
          37,
          40
         ],
         "xaxis": "x3",
         "y": [
          48.77616880139356,
          47.13277229065889,
          53.7994566719007,
          55.91751709536137,
          60.67514056507014,
          69.68904939348633,
          57.72459193529773,
          77.11734490932446,
          73.47388912895804,
          65.88267872581343,
          67.40426912616333,
          50.79492886396659,
          null,
          null
         ],
         "yaxis": "y3"
        },
        {
         "legendgroup": "Four Port",
         "line": {
          "color": "midnightblue"
         },
         "mode": "lines",
         "name": "Four Port",
         "showlegend": false,
         "type": "scatter",
         "x": [
          1,
          4,
          7,
          10,
          13,
          16,
          19,
          22,
          25,
          28,
          31,
          34,
          37,
          40
         ],
         "xaxis": "x4",
         "y": [
          57.61904761904761,
          76.66666666666666,
          69.44444444444444,
          66.16402116402116,
          79.76190476190476,
          83.61111111111111,
          85.69444444444444,
          80.13888888888889,
          85.04084967320262,
          83.68055555555556,
          78.8888888888889,
          86.66666666666667,
          100,
          71.42857142857143
         ],
         "yaxis": "y4"
        },
        {
         "line": {
          "width": 0
         },
         "marker": {
          "color": "rgba(25,25,112,0.4)"
         },
         "mode": "lines",
         "name": "Upper Bound",
         "showlegend": false,
         "type": "scatter",
         "x": [
          1,
          4,
          7,
          10,
          13,
          16,
          19,
          22,
          25,
          28,
          31,
          34,
          37,
          40
         ],
         "xaxis": "x4",
         "y": [
          59.43493034740437,
          83.48590838500813,
          80.53934001938926,
          75.38286721008272,
          82.98279744249254,
          89.27895775659367,
          87.94398715060302,
          82.27103313697582,
          87.68671047286348,
          88.10379053869283,
          93.83736005230413,
          null,
          null,
          null
         ],
         "yaxis": "y4"
        },
        {
         "fill": "tonexty",
         "fillcolor": "rgba(25,25,112,0.4)",
         "line": {
          "width": 0
         },
         "marker": {
          "color": "rgba(25,25,112,0.4)"
         },
         "mode": "lines",
         "name": "Lower Bound",
         "showlegend": false,
         "type": "scatter",
         "x": [
          1,
          4,
          7,
          10,
          13,
          16,
          19,
          22,
          25,
          28,
          31,
          34,
          37,
          40
         ],
         "xaxis": "x4",
         "y": [
          55.80316489069086,
          69.84742494832518,
          58.34954886949963,
          56.94517511795961,
          76.54101208131698,
          77.94326446562856,
          83.44490173828586,
          78.00674464080195,
          82.39498887354175,
          79.25732057241828,
          63.940417725473665,
          null,
          null,
          null
         ],
         "yaxis": "y4"
        },
        {
         "legendgroup": "Four Port",
         "line": {
          "color": "midnightblue"
         },
         "mode": "lines",
         "name": "Four Port",
         "showlegend": false,
         "type": "scatter",
         "x": [
          1,
          4,
          7,
          10,
          13,
          16,
          19,
          22,
          25,
          28,
          31,
          34,
          37,
          40,
          43,
          46,
          49
         ],
         "xaxis": "x5",
         "y": [
          72.5,
          86.68803418803418,
          69.34523809523809,
          85,
          89.16666666666667,
          78.68055555555554,
          95.83333333333333,
          80.69444444444444,
          77.4074074074074,
          85.83333333333334,
          73.33333333333333,
          70.83333333333333,
          84.72222222222223,
          87.5,
          86.66666666666667,
          93.33333333333333,
          100
         ],
         "yaxis": "y5"
        },
        {
         "line": {
          "width": 0
         },
         "marker": {
          "color": "rgba(25,25,112,0.4)"
         },
         "mode": "lines",
         "name": "Upper Bound",
         "showlegend": false,
         "type": "scatter",
         "x": [
          1,
          4,
          7,
          10,
          13,
          16,
          19,
          22,
          25,
          28,
          31,
          34,
          37,
          40,
          43,
          46,
          49
         ],
         "xaxis": "x5",
         "y": [
          83.73198145508651,
          92.40648486632807,
          76.81865723076152,
          93.66025403784438,
          93.70559295510228,
          81.7766149619198,
          100,
          91.91009846290135,
          88.70825652029063,
          91.66666666666667,
          93.33333333333333,
          83.33333333333333,
          100.00000000000001,
          null,
          null,
          null,
          null
         ],
         "yaxis": "y5"
        },
        {
         "fill": "tonexty",
         "fillcolor": "rgba(25,25,112,0.4)",
         "line": {
          "width": 0
         },
         "marker": {
          "color": "rgba(25,25,112,0.4)"
         },
         "mode": "lines",
         "name": "Lower Bound",
         "showlegend": false,
         "type": "scatter",
         "x": [
          1,
          4,
          7,
          10,
          13,
          16,
          19,
          22,
          25,
          28,
          31,
          34,
          37,
          40,
          43,
          46,
          49
         ],
         "xaxis": "x5",
         "y": [
          61.26801854491349,
          80.96958350974029,
          61.87181895971465,
          76.33974596215562,
          84.62774037823107,
          75.58449614919128,
          91.66666666666666,
          69.47879042598754,
          66.10655829452418,
          80.00000000000001,
          53.33333333333333,
          58.33333333333333,
          69.44444444444444,
          null,
          null,
          null,
          null
         ],
         "yaxis": "y5"
        },
        {
         "legendgroup": "Six Port",
         "line": {
          "color": "darkorchid"
         },
         "mode": "lines",
         "name": "Six Port",
         "showlegend": true,
         "type": "scatter",
         "x": [
          1,
          4,
          7,
          10,
          13,
          16,
          19,
          22,
          25,
          28,
          31
         ],
         "xaxis": "x",
         "y": [
          75.92235092235092,
          83.45238095238096,
          76.22955747955749,
          82.5925925925926,
          78.81433381433382,
          77.38095238095238,
          70.07469654528478,
          93.88888888888889,
          95.83333333333334,
          80.75396825396825,
          95.23809523809524
         ],
         "yaxis": "y"
        },
        {
         "line": {
          "width": 0
         },
         "marker": {
          "color": "rgba(153,50,204,0.4)"
         },
         "mode": "lines",
         "name": "Upper Bound",
         "showlegend": false,
         "type": "scatter",
         "x": [
          1,
          4,
          7,
          10,
          13,
          16,
          19,
          22,
          25,
          28,
          31
         ],
         "xaxis": "x",
         "y": [
          84.17856490768543,
          89.7148925745864,
          82.14265539798363,
          85,
          82.82371951978877,
          79.97745628726243,
          71.89542483660131,
          94.44444444444446,
          100.00000000000001,
          null,
          null
         ],
         "yaxis": "y"
        },
        {
         "fill": "tonexty",
         "fillcolor": "rgba(153,50,204,0.4)",
         "line": {
          "width": 0
         },
         "marker": {
          "color": "rgba(153,50,204,0.4)"
         },
         "mode": "lines",
         "name": "Lower Bound",
         "showlegend": false,
         "type": "scatter",
         "x": [
          1,
          4,
          7,
          10,
          13,
          16,
          19,
          22,
          25,
          28,
          31
         ],
         "xaxis": "x",
         "y": [
          67.6661369370164,
          77.18986933017553,
          70.31645956113134,
          80.18518518518519,
          74.80494810887888,
          74.78444847464233,
          68.25396825396825,
          93.33333333333331,
          91.66666666666667,
          null,
          null
         ],
         "yaxis": "y"
        },
        {
         "legendgroup": "Six Port",
         "line": {
          "color": "darkorchid"
         },
         "mode": "lines",
         "name": "Six Port",
         "showlegend": false,
         "type": "scatter",
         "x": [
          1,
          4,
          7,
          10,
          13,
          16,
          19,
          22,
          25,
          28,
          31
         ],
         "xaxis": "x2",
         "y": [
          75.83774250440918,
          80.15873015873017,
          80.15873015873017,
          82.56613756613757,
          78.3068783068783,
          87.22222222222223,
          80.6998556998557,
          77.77777777777777,
          92.5,
          74.81481481481482,
          null
         ],
         "yaxis": "y2"
        },
        {
         "line": {
          "width": 0
         },
         "marker": {
          "color": "rgba(153,50,204,0.4)"
         },
         "mode": "lines",
         "name": "Upper Bound",
         "showlegend": false,
         "type": "scatter",
         "x": [
          1,
          4,
          7,
          10,
          13,
          16,
          19,
          22,
          25,
          28,
          31
         ],
         "xaxis": "x2",
         "y": [
          76.98412698412699,
          83.0294357690755,
          83.68579143544271,
          89.32698859895457,
          87.4434425604916,
          93.33333333333333,
          81.34920634920636,
          80.55555555555556,
          100,
          null,
          null
         ],
         "yaxis": "y2"
        },
        {
         "fill": "tonexty",
         "fillcolor": "rgba(153,50,204,0.4)",
         "line": {
          "width": 0
         },
         "marker": {
          "color": "rgba(153,50,204,0.4)"
         },
         "mode": "lines",
         "name": "Lower Bound",
         "showlegend": false,
         "type": "scatter",
         "x": [
          1,
          4,
          7,
          10,
          13,
          16,
          19,
          22,
          25,
          28,
          31
         ],
         "xaxis": "x2",
         "y": [
          74.69135802469137,
          77.28802454838483,
          76.63166888201762,
          75.80528653332057,
          69.170314053265,
          81.11111111111113,
          80.05050505050505,
          74.99999999999999,
          85,
          null,
          null
         ],
         "yaxis": "y2"
        },
        {
         "legendgroup": "Six Port",
         "line": {
          "color": "darkorchid"
         },
         "mode": "lines",
         "name": "Six Port",
         "showlegend": false,
         "type": "scatter",
         "x": [
          1,
          4,
          7,
          10,
          13,
          16,
          19,
          22,
          25,
          28,
          31,
          34,
          37,
          40,
          43,
          46
         ],
         "xaxis": "x3",
         "y": [
          68.03571428571428,
          87.39087301587301,
          80.2579365079365,
          82.38095238095238,
          80.9920634920635,
          85.15873015873017,
          71.13095238095238,
          86.31944444444444,
          85.55555555555556,
          92.5,
          80.55555555555556,
          77.77777777777779,
          66.66666666666666,
          86.11111111111113,
          66.66666666666666,
          94.44444444444444
         ],
         "yaxis": "y3"
        },
        {
         "line": {
          "width": 0
         },
         "marker": {
          "color": "rgba(153,50,204,0.4)"
         },
         "mode": "lines",
         "name": "Upper Bound",
         "showlegend": false,
         "type": "scatter",
         "x": [
          1,
          4,
          7,
          10,
          13,
          16,
          19,
          22,
          25,
          28,
          31,
          34,
          37,
          40,
          43,
          46
         ],
         "xaxis": "x3",
         "y": [
          77.61806166672223,
          89.54840014476788,
          82.91683940842925,
          88.46753477674487,
          82.1959125442799,
          89.88111911136896,
          79.76190476190476,
          91.6304691124997,
          95.43132713035065,
          100,
          null,
          null,
          null,
          null,
          null,
          null
         ],
         "yaxis": "y3"
        },
        {
         "fill": "tonexty",
         "fillcolor": "rgba(153,50,204,0.4)",
         "line": {
          "width": 0
         },
         "marker": {
          "color": "rgba(153,50,204,0.4)"
         },
         "mode": "lines",
         "name": "Lower Bound",
         "showlegend": false,
         "type": "scatter",
         "x": [
          1,
          4,
          7,
          10,
          13,
          16,
          19,
          22,
          25,
          28,
          31,
          34,
          37,
          40,
          43,
          46
         ],
         "xaxis": "x3",
         "y": [
          58.45336690470633,
          85.23334588697814,
          77.59903360744376,
          76.29436998515989,
          79.78821443984708,
          80.43634120609137,
          62.5,
          81.00841977638919,
          75.67978398076046,
          85,
          null,
          null,
          null,
          null,
          null,
          null
         ],
         "yaxis": "y3"
        },
        {
         "legendgroup": "Six Port",
         "line": {
          "color": "darkorchid"
         },
         "mode": "lines",
         "name": "Six Port",
         "showlegend": false,
         "type": "scatter",
         "x": [
          1,
          4,
          7,
          10,
          13,
          16,
          19,
          22,
          25,
          28,
          31,
          34,
          37,
          40,
          43,
          46
         ],
         "xaxis": "x4",
         "y": [
          77.9281537176274,
          82.0589133089133,
          81.51455026455027,
          84.16005291005291,
          86.28246753246754,
          87.0436507936508,
          87.7579365079365,
          85.21604938271605,
          84.39153439153439,
          86.30952380952381,
          100,
          85,
          82.14285714285715,
          100,
          80.55555555555556,
          null
         ],
         "yaxis": "y4"
        },
        {
         "line": {
          "width": 0
         },
         "marker": {
          "color": "rgba(153,50,204,0.4)"
         },
         "mode": "lines",
         "name": "Upper Bound",
         "showlegend": false,
         "type": "scatter",
         "x": [
          1,
          4,
          7,
          10,
          13,
          16,
          19,
          22,
          25,
          28,
          31,
          34,
          37,
          40,
          43,
          46
         ],
         "xaxis": "x4",
         "y": [
          82.78512083699023,
          85.07820185016959,
          84.536863366666,
          86.36973067093759,
          91.97406670511194,
          91.13530037907353,
          91.97330756059783,
          86.21091120131396,
          92.35884674411408,
          100,
          null,
          null,
          null,
          null,
          null,
          null
         ],
         "yaxis": "y4"
        },
        {
         "fill": "tonexty",
         "fillcolor": "rgba(153,50,204,0.4)",
         "line": {
          "width": 0
         },
         "marker": {
          "color": "rgba(153,50,204,0.4)"
         },
         "mode": "lines",
         "name": "Lower Bound",
         "showlegend": false,
         "type": "scatter",
         "x": [
          1,
          4,
          7,
          10,
          13,
          16,
          19,
          22,
          25,
          28,
          31,
          34,
          37,
          40,
          43,
          46
         ],
         "xaxis": "x4",
         "y": [
          73.07118659826456,
          79.03962476765702,
          78.49223716243453,
          81.95037514916824,
          80.59086835982313,
          82.95200120822807,
          83.54256545527518,
          84.22118756411814,
          76.42422203895471,
          72.61904761904762,
          null,
          null,
          null,
          null,
          null,
          null
         ],
         "yaxis": "y4"
        },
        {
         "legendgroup": "Six Port",
         "line": {
          "color": "darkorchid"
         },
         "mode": "lines",
         "name": "Six Port",
         "showlegend": false,
         "type": "scatter",
         "x": [
          1,
          4,
          7,
          10,
          13,
          16,
          19,
          22,
          25,
          28,
          31
         ],
         "xaxis": "x5",
         "y": [
          74.6504884004884,
          81.64682539682539,
          82.1957671957672,
          82.8102453102453,
          85.44642857142857,
          91.79894179894181,
          91.93121693121692,
          87.4867724867725,
          77.03703703703705,
          87.03703703703702,
          100
         ],
         "yaxis": "y5"
        },
        {
         "line": {
          "width": 0
         },
         "marker": {
          "color": "rgba(153,50,204,0.4)"
         },
         "mode": "lines",
         "name": "Upper Bound",
         "showlegend": false,
         "type": "scatter",
         "x": [
          1,
          4,
          7,
          10,
          13,
          16,
          19,
          22,
          25,
          28,
          31
         ],
         "xaxis": "x5",
         "y": [
          82.74466763264334,
          85.06188779326557,
          84.94747148351696,
          84.68154544357337,
          87.90083856190705,
          96.20193570822573,
          98.65906877038599,
          93.96306886865719,
          90.74074074074076,
          99.99999999999999,
          null
         ],
         "yaxis": "y5"
        },
        {
         "fill": "tonexty",
         "fillcolor": "rgba(153,50,204,0.4)",
         "line": {
          "width": 0
         },
         "marker": {
          "color": "rgba(153,50,204,0.4)"
         },
         "mode": "lines",
         "name": "Lower Bound",
         "showlegend": false,
         "type": "scatter",
         "x": [
          1,
          4,
          7,
          10,
          13,
          16,
          19,
          22,
          25,
          28,
          31
         ],
         "xaxis": "x5",
         "y": [
          66.55630916833346,
          78.23176300038521,
          79.44406290801744,
          80.93894517691724,
          82.99201858095009,
          87.39594788965789,
          85.20336509204786,
          81.0104761048878,
          63.33333333333334,
          74.07407407407406,
          null
         ],
         "yaxis": "y5"
        }
       ],
       "layout": {
        "font": {
         "family": "Arial",
         "size": 22
        },
        "height": 500,
        "shapes": [
         {
          "line": {
           "color": "darkgrey",
           "dash": "dash",
           "width": 1
          },
          "opacity": 1,
          "type": "line",
          "x0": 0,
          "x1": 1,
          "xref": "x domain",
          "y0": 25,
          "y1": 25,
          "yref": "y"
         },
         {
          "line": {
           "color": "darkgrey",
           "dash": "dash",
           "width": 1
          },
          "opacity": 1,
          "type": "line",
          "x0": 0,
          "x1": 1,
          "xref": "x2 domain",
          "y0": 25,
          "y1": 25,
          "yref": "y2"
         },
         {
          "line": {
           "color": "darkgrey",
           "dash": "dash",
           "width": 1
          },
          "opacity": 1,
          "type": "line",
          "x0": 0,
          "x1": 1,
          "xref": "x3 domain",
          "y0": 25,
          "y1": 25,
          "yref": "y3"
         },
         {
          "line": {
           "color": "darkgrey",
           "dash": "dash",
           "width": 1
          },
          "opacity": 1,
          "type": "line",
          "x0": 0,
          "x1": 1,
          "xref": "x4 domain",
          "y0": 25,
          "y1": 25,
          "yref": "y4"
         },
         {
          "line": {
           "color": "darkgrey",
           "dash": "dash",
           "width": 1
          },
          "opacity": 1,
          "type": "line",
          "x0": 0,
          "x1": 1,
          "xref": "x5 domain",
          "y0": 25,
          "y1": 25,
          "yref": "y5"
         },
         {
          "line": {
           "color": "midnightblue",
           "dash": "dash",
           "width": 1
          },
          "opacity": 1,
          "type": "line",
          "x0": 0,
          "x1": 1,
          "xref": "x domain",
          "y0": 50,
          "y1": 50,
          "yref": "y"
         },
         {
          "line": {
           "color": "midnightblue",
           "dash": "dash",
           "width": 1
          },
          "opacity": 1,
          "type": "line",
          "x0": 0,
          "x1": 1,
          "xref": "x2 domain",
          "y0": 50,
          "y1": 50,
          "yref": "y2"
         },
         {
          "line": {
           "color": "midnightblue",
           "dash": "dash",
           "width": 1
          },
          "opacity": 1,
          "type": "line",
          "x0": 0,
          "x1": 1,
          "xref": "x3 domain",
          "y0": 50,
          "y1": 50,
          "yref": "y3"
         },
         {
          "line": {
           "color": "midnightblue",
           "dash": "dash",
           "width": 1
          },
          "opacity": 1,
          "type": "line",
          "x0": 0,
          "x1": 1,
          "xref": "x4 domain",
          "y0": 50,
          "y1": 50,
          "yref": "y4"
         },
         {
          "line": {
           "color": "midnightblue",
           "dash": "dash",
           "width": 1
          },
          "opacity": 1,
          "type": "line",
          "x0": 0,
          "x1": 1,
          "xref": "x5 domain",
          "y0": 50,
          "y1": 50,
          "yref": "y5"
         },
         {
          "line": {
           "color": "darkorchid",
           "dash": "dash",
           "width": 1
          },
          "opacity": 1,
          "type": "line",
          "x0": 0,
          "x1": 1,
          "xref": "x domain",
          "y0": 75,
          "y1": 75,
          "yref": "y"
         },
         {
          "line": {
           "color": "darkorchid",
           "dash": "dash",
           "width": 1
          },
          "opacity": 1,
          "type": "line",
          "x0": 0,
          "x1": 1,
          "xref": "x2 domain",
          "y0": 75,
          "y1": 75,
          "yref": "y2"
         },
         {
          "line": {
           "color": "darkorchid",
           "dash": "dash",
           "width": 1
          },
          "opacity": 1,
          "type": "line",
          "x0": 0,
          "x1": 1,
          "xref": "x3 domain",
          "y0": 75,
          "y1": 75,
          "yref": "y3"
         },
         {
          "line": {
           "color": "darkorchid",
           "dash": "dash",
           "width": 1
          },
          "opacity": 1,
          "type": "line",
          "x0": 0,
          "x1": 1,
          "xref": "x4 domain",
          "y0": 75,
          "y1": 75,
          "yref": "y4"
         },
         {
          "line": {
           "color": "darkorchid",
           "dash": "dash",
           "width": 1
          },
          "opacity": 1,
          "type": "line",
          "x0": 0,
          "x1": 1,
          "xref": "x5 domain",
          "y0": 75,
          "y1": 75,
          "yref": "y5"
         }
        ],
        "template": {
         "data": {
          "bar": [
           {
            "error_x": {
             "color": "rgb(36,36,36)"
            },
            "error_y": {
             "color": "rgb(36,36,36)"
            },
            "marker": {
             "line": {
              "color": "white",
              "width": 0.5
             },
             "pattern": {
              "fillmode": "overlay",
              "size": 10,
              "solidity": 0.2
             }
            },
            "type": "bar"
           }
          ],
          "barpolar": [
           {
            "marker": {
             "line": {
              "color": "white",
              "width": 0.5
             },
             "pattern": {
              "fillmode": "overlay",
              "size": 10,
              "solidity": 0.2
             }
            },
            "type": "barpolar"
           }
          ],
          "carpet": [
           {
            "aaxis": {
             "endlinecolor": "rgb(36,36,36)",
             "gridcolor": "white",
             "linecolor": "white",
             "minorgridcolor": "white",
             "startlinecolor": "rgb(36,36,36)"
            },
            "baxis": {
             "endlinecolor": "rgb(36,36,36)",
             "gridcolor": "white",
             "linecolor": "white",
             "minorgridcolor": "white",
             "startlinecolor": "rgb(36,36,36)"
            },
            "type": "carpet"
           }
          ],
          "choropleth": [
           {
            "colorbar": {
             "outlinewidth": 1,
             "tickcolor": "rgb(36,36,36)",
             "ticks": "outside"
            },
            "type": "choropleth"
           }
          ],
          "contour": [
           {
            "colorbar": {
             "outlinewidth": 1,
             "tickcolor": "rgb(36,36,36)",
             "ticks": "outside"
            },
            "colorscale": [
             [
              0,
              "#440154"
             ],
             [
              0.1111111111111111,
              "#482878"
             ],
             [
              0.2222222222222222,
              "#3e4989"
             ],
             [
              0.3333333333333333,
              "#31688e"
             ],
             [
              0.4444444444444444,
              "#26828e"
             ],
             [
              0.5555555555555556,
              "#1f9e89"
             ],
             [
              0.6666666666666666,
              "#35b779"
             ],
             [
              0.7777777777777778,
              "#6ece58"
             ],
             [
              0.8888888888888888,
              "#b5de2b"
             ],
             [
              1,
              "#fde725"
             ]
            ],
            "type": "contour"
           }
          ],
          "contourcarpet": [
           {
            "colorbar": {
             "outlinewidth": 1,
             "tickcolor": "rgb(36,36,36)",
             "ticks": "outside"
            },
            "type": "contourcarpet"
           }
          ],
          "heatmap": [
           {
            "colorbar": {
             "outlinewidth": 1,
             "tickcolor": "rgb(36,36,36)",
             "ticks": "outside"
            },
            "colorscale": [
             [
              0,
              "#440154"
             ],
             [
              0.1111111111111111,
              "#482878"
             ],
             [
              0.2222222222222222,
              "#3e4989"
             ],
             [
              0.3333333333333333,
              "#31688e"
             ],
             [
              0.4444444444444444,
              "#26828e"
             ],
             [
              0.5555555555555556,
              "#1f9e89"
             ],
             [
              0.6666666666666666,
              "#35b779"
             ],
             [
              0.7777777777777778,
              "#6ece58"
             ],
             [
              0.8888888888888888,
              "#b5de2b"
             ],
             [
              1,
              "#fde725"
             ]
            ],
            "type": "heatmap"
           }
          ],
          "heatmapgl": [
           {
            "colorbar": {
             "outlinewidth": 1,
             "tickcolor": "rgb(36,36,36)",
             "ticks": "outside"
            },
            "colorscale": [
             [
              0,
              "#440154"
             ],
             [
              0.1111111111111111,
              "#482878"
             ],
             [
              0.2222222222222222,
              "#3e4989"
             ],
             [
              0.3333333333333333,
              "#31688e"
             ],
             [
              0.4444444444444444,
              "#26828e"
             ],
             [
              0.5555555555555556,
              "#1f9e89"
             ],
             [
              0.6666666666666666,
              "#35b779"
             ],
             [
              0.7777777777777778,
              "#6ece58"
             ],
             [
              0.8888888888888888,
              "#b5de2b"
             ],
             [
              1,
              "#fde725"
             ]
            ],
            "type": "heatmapgl"
           }
          ],
          "histogram": [
           {
            "marker": {
             "line": {
              "color": "white",
              "width": 0.6
             }
            },
            "type": "histogram"
           }
          ],
          "histogram2d": [
           {
            "colorbar": {
             "outlinewidth": 1,
             "tickcolor": "rgb(36,36,36)",
             "ticks": "outside"
            },
            "colorscale": [
             [
              0,
              "#440154"
             ],
             [
              0.1111111111111111,
              "#482878"
             ],
             [
              0.2222222222222222,
              "#3e4989"
             ],
             [
              0.3333333333333333,
              "#31688e"
             ],
             [
              0.4444444444444444,
              "#26828e"
             ],
             [
              0.5555555555555556,
              "#1f9e89"
             ],
             [
              0.6666666666666666,
              "#35b779"
             ],
             [
              0.7777777777777778,
              "#6ece58"
             ],
             [
              0.8888888888888888,
              "#b5de2b"
             ],
             [
              1,
              "#fde725"
             ]
            ],
            "type": "histogram2d"
           }
          ],
          "histogram2dcontour": [
           {
            "colorbar": {
             "outlinewidth": 1,
             "tickcolor": "rgb(36,36,36)",
             "ticks": "outside"
            },
            "colorscale": [
             [
              0,
              "#440154"
             ],
             [
              0.1111111111111111,
              "#482878"
             ],
             [
              0.2222222222222222,
              "#3e4989"
             ],
             [
              0.3333333333333333,
              "#31688e"
             ],
             [
              0.4444444444444444,
              "#26828e"
             ],
             [
              0.5555555555555556,
              "#1f9e89"
             ],
             [
              0.6666666666666666,
              "#35b779"
             ],
             [
              0.7777777777777778,
              "#6ece58"
             ],
             [
              0.8888888888888888,
              "#b5de2b"
             ],
             [
              1,
              "#fde725"
             ]
            ],
            "type": "histogram2dcontour"
           }
          ],
          "mesh3d": [
           {
            "colorbar": {
             "outlinewidth": 1,
             "tickcolor": "rgb(36,36,36)",
             "ticks": "outside"
            },
            "type": "mesh3d"
           }
          ],
          "parcoords": [
           {
            "line": {
             "colorbar": {
              "outlinewidth": 1,
              "tickcolor": "rgb(36,36,36)",
              "ticks": "outside"
             }
            },
            "type": "parcoords"
           }
          ],
          "pie": [
           {
            "automargin": true,
            "type": "pie"
           }
          ],
          "scatter": [
           {
            "fillpattern": {
             "fillmode": "overlay",
             "size": 10,
             "solidity": 0.2
            },
            "type": "scatter"
           }
          ],
          "scatter3d": [
           {
            "line": {
             "colorbar": {
              "outlinewidth": 1,
              "tickcolor": "rgb(36,36,36)",
              "ticks": "outside"
             }
            },
            "marker": {
             "colorbar": {
              "outlinewidth": 1,
              "tickcolor": "rgb(36,36,36)",
              "ticks": "outside"
             }
            },
            "type": "scatter3d"
           }
          ],
          "scattercarpet": [
           {
            "marker": {
             "colorbar": {
              "outlinewidth": 1,
              "tickcolor": "rgb(36,36,36)",
              "ticks": "outside"
             }
            },
            "type": "scattercarpet"
           }
          ],
          "scattergeo": [
           {
            "marker": {
             "colorbar": {
              "outlinewidth": 1,
              "tickcolor": "rgb(36,36,36)",
              "ticks": "outside"
             }
            },
            "type": "scattergeo"
           }
          ],
          "scattergl": [
           {
            "marker": {
             "colorbar": {
              "outlinewidth": 1,
              "tickcolor": "rgb(36,36,36)",
              "ticks": "outside"
             }
            },
            "type": "scattergl"
           }
          ],
          "scattermapbox": [
           {
            "marker": {
             "colorbar": {
              "outlinewidth": 1,
              "tickcolor": "rgb(36,36,36)",
              "ticks": "outside"
             }
            },
            "type": "scattermapbox"
           }
          ],
          "scatterpolar": [
           {
            "marker": {
             "colorbar": {
              "outlinewidth": 1,
              "tickcolor": "rgb(36,36,36)",
              "ticks": "outside"
             }
            },
            "type": "scatterpolar"
           }
          ],
          "scatterpolargl": [
           {
            "marker": {
             "colorbar": {
              "outlinewidth": 1,
              "tickcolor": "rgb(36,36,36)",
              "ticks": "outside"
             }
            },
            "type": "scatterpolargl"
           }
          ],
          "scatterternary": [
           {
            "marker": {
             "colorbar": {
              "outlinewidth": 1,
              "tickcolor": "rgb(36,36,36)",
              "ticks": "outside"
             }
            },
            "type": "scatterternary"
           }
          ],
          "surface": [
           {
            "colorbar": {
             "outlinewidth": 1,
             "tickcolor": "rgb(36,36,36)",
             "ticks": "outside"
            },
            "colorscale": [
             [
              0,
              "#440154"
             ],
             [
              0.1111111111111111,
              "#482878"
             ],
             [
              0.2222222222222222,
              "#3e4989"
             ],
             [
              0.3333333333333333,
              "#31688e"
             ],
             [
              0.4444444444444444,
              "#26828e"
             ],
             [
              0.5555555555555556,
              "#1f9e89"
             ],
             [
              0.6666666666666666,
              "#35b779"
             ],
             [
              0.7777777777777778,
              "#6ece58"
             ],
             [
              0.8888888888888888,
              "#b5de2b"
             ],
             [
              1,
              "#fde725"
             ]
            ],
            "type": "surface"
           }
          ],
          "table": [
           {
            "cells": {
             "fill": {
              "color": "rgb(237,237,237)"
             },
             "line": {
              "color": "white"
             }
            },
            "header": {
             "fill": {
              "color": "rgb(217,217,217)"
             },
             "line": {
              "color": "white"
             }
            },
            "type": "table"
           }
          ]
         },
         "layout": {
          "annotationdefaults": {
           "arrowhead": 0,
           "arrowwidth": 1
          },
          "autotypenumbers": "strict",
          "coloraxis": {
           "colorbar": {
            "outlinewidth": 1,
            "tickcolor": "rgb(36,36,36)",
            "ticks": "outside"
           }
          },
          "colorscale": {
           "diverging": [
            [
             0,
             "rgb(103,0,31)"
            ],
            [
             0.1,
             "rgb(178,24,43)"
            ],
            [
             0.2,
             "rgb(214,96,77)"
            ],
            [
             0.3,
             "rgb(244,165,130)"
            ],
            [
             0.4,
             "rgb(253,219,199)"
            ],
            [
             0.5,
             "rgb(247,247,247)"
            ],
            [
             0.6,
             "rgb(209,229,240)"
            ],
            [
             0.7,
             "rgb(146,197,222)"
            ],
            [
             0.8,
             "rgb(67,147,195)"
            ],
            [
             0.9,
             "rgb(33,102,172)"
            ],
            [
             1,
             "rgb(5,48,97)"
            ]
           ],
           "sequential": [
            [
             0,
             "#440154"
            ],
            [
             0.1111111111111111,
             "#482878"
            ],
            [
             0.2222222222222222,
             "#3e4989"
            ],
            [
             0.3333333333333333,
             "#31688e"
            ],
            [
             0.4444444444444444,
             "#26828e"
            ],
            [
             0.5555555555555556,
             "#1f9e89"
            ],
            [
             0.6666666666666666,
             "#35b779"
            ],
            [
             0.7777777777777778,
             "#6ece58"
            ],
            [
             0.8888888888888888,
             "#b5de2b"
            ],
            [
             1,
             "#fde725"
            ]
           ],
           "sequentialminus": [
            [
             0,
             "#440154"
            ],
            [
             0.1111111111111111,
             "#482878"
            ],
            [
             0.2222222222222222,
             "#3e4989"
            ],
            [
             0.3333333333333333,
             "#31688e"
            ],
            [
             0.4444444444444444,
             "#26828e"
            ],
            [
             0.5555555555555556,
             "#1f9e89"
            ],
            [
             0.6666666666666666,
             "#35b779"
            ],
            [
             0.7777777777777778,
             "#6ece58"
            ],
            [
             0.8888888888888888,
             "#b5de2b"
            ],
            [
             1,
             "#fde725"
            ]
           ]
          },
          "colorway": [
           "#1F77B4",
           "#FF7F0E",
           "#2CA02C",
           "#D62728",
           "#9467BD",
           "#8C564B",
           "#E377C2",
           "#7F7F7F",
           "#BCBD22",
           "#17BECF"
          ],
          "font": {
           "color": "rgb(36,36,36)"
          },
          "geo": {
           "bgcolor": "white",
           "lakecolor": "white",
           "landcolor": "white",
           "showlakes": true,
           "showland": true,
           "subunitcolor": "white"
          },
          "hoverlabel": {
           "align": "left"
          },
          "hovermode": "closest",
          "mapbox": {
           "style": "light"
          },
          "paper_bgcolor": "white",
          "plot_bgcolor": "white",
          "polar": {
           "angularaxis": {
            "gridcolor": "rgb(232,232,232)",
            "linecolor": "rgb(36,36,36)",
            "showgrid": false,
            "showline": true,
            "ticks": "outside"
           },
           "bgcolor": "white",
           "radialaxis": {
            "gridcolor": "rgb(232,232,232)",
            "linecolor": "rgb(36,36,36)",
            "showgrid": false,
            "showline": true,
            "ticks": "outside"
           }
          },
          "scene": {
           "xaxis": {
            "backgroundcolor": "white",
            "gridcolor": "rgb(232,232,232)",
            "gridwidth": 2,
            "linecolor": "rgb(36,36,36)",
            "showbackground": true,
            "showgrid": false,
            "showline": true,
            "ticks": "outside",
            "zeroline": false,
            "zerolinecolor": "rgb(36,36,36)"
           },
           "yaxis": {
            "backgroundcolor": "white",
            "gridcolor": "rgb(232,232,232)",
            "gridwidth": 2,
            "linecolor": "rgb(36,36,36)",
            "showbackground": true,
            "showgrid": false,
            "showline": true,
            "ticks": "outside",
            "zeroline": false,
            "zerolinecolor": "rgb(36,36,36)"
           },
           "zaxis": {
            "backgroundcolor": "white",
            "gridcolor": "rgb(232,232,232)",
            "gridwidth": 2,
            "linecolor": "rgb(36,36,36)",
            "showbackground": true,
            "showgrid": false,
            "showline": true,
            "ticks": "outside",
            "zeroline": false,
            "zerolinecolor": "rgb(36,36,36)"
           }
          },
          "shapedefaults": {
           "fillcolor": "black",
           "line": {
            "width": 0
           },
           "opacity": 0.3
          },
          "ternary": {
           "aaxis": {
            "gridcolor": "rgb(232,232,232)",
            "linecolor": "rgb(36,36,36)",
            "showgrid": false,
            "showline": true,
            "ticks": "outside"
           },
           "baxis": {
            "gridcolor": "rgb(232,232,232)",
            "linecolor": "rgb(36,36,36)",
            "showgrid": false,
            "showline": true,
            "ticks": "outside"
           },
           "bgcolor": "white",
           "caxis": {
            "gridcolor": "rgb(232,232,232)",
            "linecolor": "rgb(36,36,36)",
            "showgrid": false,
            "showline": true,
            "ticks": "outside"
           }
          },
          "title": {
           "x": 0.05
          },
          "xaxis": {
           "automargin": true,
           "gridcolor": "rgb(232,232,232)",
           "linecolor": "rgb(36,36,36)",
           "showgrid": false,
           "showline": true,
           "ticks": "outside",
           "title": {
            "standoff": 15
           },
           "zeroline": false,
           "zerolinecolor": "rgb(36,36,36)"
          },
          "yaxis": {
           "automargin": true,
           "gridcolor": "rgb(232,232,232)",
           "linecolor": "rgb(36,36,36)",
           "showgrid": false,
           "showline": true,
           "ticks": "outside",
           "title": {
            "standoff": 15
           },
           "zeroline": false,
           "zerolinecolor": "rgb(36,36,36)"
          }
         }
        },
        "title": {
         "x": 0.5,
         "xanchor": "center",
         "y": 0.9,
         "yanchor": "top"
        },
        "width": 1200,
        "xaxis": {
         "anchor": "y",
         "domain": [
          0,
          0.16799999999999998
         ],
         "linewidth": 1.5,
         "matches": "x",
         "title": {
          "text": ""
         }
        },
        "xaxis2": {
         "anchor": "y2",
         "domain": [
          0.208,
          0.376
         ],
         "linewidth": 1.5,
         "matches": "x",
         "title": {
          "text": ""
         }
        },
        "xaxis3": {
         "anchor": "y3",
         "domain": [
          0.416,
          0.584
         ],
         "linewidth": 1.5,
         "matches": "x",
         "title": {
          "text": ""
         }
        },
        "xaxis4": {
         "anchor": "y4",
         "domain": [
          0.624,
          0.792
         ],
         "linewidth": 1.5,
         "matches": "x",
         "title": {
          "text": ""
         }
        },
        "xaxis5": {
         "anchor": "y5",
         "domain": [
          0.832,
          1
         ],
         "linewidth": 1.5,
         "matches": "x",
         "title": {
          "text": ""
         }
        },
        "yaxis": {
         "anchor": "x",
         "domain": [
          0,
          1
         ],
         "linewidth": 1.5,
         "matches": "y",
         "range": [
          0,
          101
         ],
         "title": {
          "text": "Lick Accuracy (%)"
         }
        },
        "yaxis2": {
         "anchor": "x2",
         "domain": [
          0,
          1
         ],
         "linewidth": 1.5,
         "matches": "y",
         "range": [
          0,
          101
         ],
         "showticklabels": false,
         "title": {
          "text": ""
         }
        },
        "yaxis3": {
         "anchor": "x3",
         "domain": [
          0,
          1
         ],
         "linewidth": 1.5,
         "matches": "y",
         "range": [
          0,
          101
         ],
         "showticklabels": false,
         "title": {
          "text": ""
         }
        },
        "yaxis4": {
         "anchor": "x4",
         "domain": [
          0,
          1
         ],
         "linewidth": 1.5,
         "matches": "y",
         "range": [
          0,
          101
         ],
         "showticklabels": false,
         "title": {
          "text": ""
         }
        },
        "yaxis5": {
         "anchor": "x5",
         "domain": [
          0,
          1
         ],
         "linewidth": 1.5,
         "matches": "y",
         "range": [
          0,
          101
         ],
         "showticklabels": false,
         "title": {
          "text": ""
         }
        }
       }
      },
      "text/html": [
       "<div>                            <div id=\"b7d0d3b9-22ef-42ff-8a3f-f1c0cc0259eb\" class=\"plotly-graph-div\" style=\"height:500px; width:1200px;\"></div>            <script type=\"text/javascript\">                require([\"plotly\"], function(Plotly) {                    window.PLOTLYENV=window.PLOTLYENV || {};                                    if (document.getElementById(\"b7d0d3b9-22ef-42ff-8a3f-f1c0cc0259eb\")) {                    Plotly.newPlot(                        \"b7d0d3b9-22ef-42ff-8a3f-f1c0cc0259eb\",                        [{\"legendgroup\":\"Two Port\",\"line\":{\"color\":\"darkgrey\"},\"mode\":\"lines\",\"name\":\"Two Port\",\"showlegend\":true,\"x\":[1,4,7,10,13,16,19,22,25,28,31],\"y\":[18.66161616161616,30.821886446886445,30.956905997228574,29.826590892767364,24.86111111111111,29.04040404040404,38.98249898249898,62.97979797979798,80.55555555555556,88.88888888888887,100.0],\"type\":\"scatter\",\"xaxis\":\"x\",\"yaxis\":\"y\"},{\"line\":{\"width\":0},\"marker\":{\"color\":\"rgba(169,169,169,0.4)\"},\"mode\":\"lines\",\"name\":\"Upper Bound\",\"showlegend\":false,\"x\":[1,4,7,10,13,16,19,22,25,28,31],\"y\":[26.954459843634268,40.857829567524234,34.92135032330422,34.388088301697046,25.989275315542024,31.24669064344801,39.234839234839235,81.96989845154236,null,null,null],\"type\":\"scatter\",\"xaxis\":\"x\",\"yaxis\":\"y\"},{\"fill\":\"tonexty\",\"fillcolor\":\"rgba(169,169,169,0.4)\",\"line\":{\"width\":0},\"marker\":{\"color\":\"rgba(169,169,169,0.4)\"},\"mode\":\"lines\",\"name\":\"Lower Bound\",\"showlegend\":false,\"x\":[1,4,7,10,13,16,19,22,25,28,31],\"y\":[10.368772479598052,20.785943326248653,26.992461671152935,25.265093483837685,23.732946906680198,26.834117437360074,38.73015873015873,43.989697508053595,null,null,null],\"type\":\"scatter\",\"xaxis\":\"x\",\"yaxis\":\"y\"},{\"legendgroup\":\"Two Port\",\"line\":{\"color\":\"darkgrey\"},\"mode\":\"lines\",\"name\":\"Two Port\",\"showlegend\":false,\"x\":[1,4,7,10,13,16,19,22,25,28,31,34,37,40,43,46,49,52,55,58],\"y\":[28.80252100840336,46.97089947089947,66.13756613756614,67.4074074074074,64.07407407407406,74.07407407407406,79.62962962962963,87.03703703703702,92.5925925925926,92.59259259259257,92.59259259259257,87.03703703703702,81.48148148148147,97.22222222222223,92.3809523809524,80.55555555555554,94.44444444444443,94.44444444444443,72.22222222222221,100.0],\"type\":\"scatter\",\"xaxis\":\"x2\",\"yaxis\":\"y2\"},{\"line\":{\"width\":0},\"marker\":{\"color\":\"rgba(169,169,169,0.4)\"},\"mode\":\"lines\",\"name\":\"Upper Bound\",\"showlegend\":false,\"x\":[1,4,7,10,13,16,19,22,25,28,31,34,37,40,43,46,49,52,55,58],\"y\":[30.770158591565288,58.91814143383728,83.07498233069748,73.86503547191211,77.16340522005353,87.42796768690366,89.94030437561116,96.15634981647786,100.0,96.29629629629628,96.29629629629628,95.10907211766789,88.88888888888887,100.0,96.3460304751736,88.88888888888887,99.99999999999999,99.99999999999999,null,null],\"type\":\"scatter\",\"xaxis\":\"x2\",\"yaxis\":\"y2\"},{\"fill\":\"tonexty\",\"fillcolor\":\"rgba(169,169,169,0.4)\",\"line\":{\"width\":0},\"marker\":{\"color\":\"rgba(169,169,169,0.4)\"},\"mode\":\"lines\",\"name\":\"Lower Bound\",\"showlegend\":false,\"x\":[1,4,7,10,13,16,19,22,25,28,31,34,37,40,43,46,49,52,55,58],\"y\":[26.834883425241433,35.02365750796166,49.2001499444348,60.9497793429027,50.98474292809459,60.72018046124447,69.3189548836481,77.91772425759619,85.18518518518519,88.88888888888886,88.88888888888886,78.96500195640616,74.07407407407406,94.44444444444446,88.41587428673118,72.22222222222221,88.88888888888887,88.88888888888887,null,null],\"type\":\"scatter\",\"xaxis\":\"x2\",\"yaxis\":\"y2\"},{\"legendgroup\":\"Two Port\",\"line\":{\"color\":\"darkgrey\"},\"mode\":\"lines\",\"name\":\"Two Port\",\"showlegend\":false,\"x\":[1,4,7,10,13,16,19,22,25,28,31,34,37,40,43,46,49,52,55,58,61],\"y\":[24.49404761904762,64.88095238095238,77.77777777777777,76.11111111111111,76.38888888888887,81.11111111111111,79.86111111111111,83.88888888888889,81.80555555555554,87.5,92.36111111111111,90.83333333333333,90.74074074074072,93.51851851851852,90.74074074074075,85.18518518518518,91.66666666666666,91.66666666666667,88.88888888888887,66.66666666666666,100.0],\"type\":\"scatter\",\"xaxis\":\"x3\",\"yaxis\":\"y3\"},{\"line\":{\"width\":0},\"marker\":{\"color\":\"rgba(169,169,169,0.4)\"},\"mode\":\"lines\",\"name\":\"Upper Bound\",\"showlegend\":false,\"x\":[1,4,7,10,13,16,19,22,25,28,31,34,37,40,43,46,49,52,55,58,61],\"y\":[32.75169355834568,80.15185717732052,94.90115000824716,89.67015741332257,88.88888888888887,100.0,96.50364765557286,96.5696802339037,93.75403678555728,96.67788314888843,97.60405169116025,96.1692701978607,95.64028020567514,96.85699192172592,100.00000000000001,100.0,94.44444444444446,null,null,null,null],\"type\":\"scatter\",\"xaxis\":\"x3\",\"yaxis\":\"y3\"},{\"fill\":\"tonexty\",\"fillcolor\":\"rgba(169,169,169,0.4)\",\"line\":{\"width\":0},\"marker\":{\"color\":\"rgba(169,169,169,0.4)\"},\"mode\":\"lines\",\"name\":\"Lower Bound\",\"showlegend\":false,\"x\":[1,4,7,10,13,16,19,22,25,28,31,34,37,40,43,46,49,52,55,58,61],\"y\":[16.236401679749562,49.61004758458424,60.65440554730839,62.55206480889965,63.88888888888887,62.22222222222223,63.218574566649366,71.20809754387408,69.85707432555381,78.32211685111157,87.11817053106198,85.49739646880596,85.8412012758063,90.18004511531112,81.48148148148148,70.37037037037035,88.88888888888886,null,null,null,null],\"type\":\"scatter\",\"xaxis\":\"x3\",\"yaxis\":\"y3\"},{\"legendgroup\":\"Two Port\",\"line\":{\"color\":\"darkgrey\"},\"mode\":\"lines\",\"name\":\"Two Port\",\"showlegend\":false,\"x\":[1,4,7,10,13,16,19,22,25,28,31,34,37,40,43,46,49,52,55,58,61,64],\"y\":[41.42857142857143,64.79166666666666,70.83333333333333,78.33333333333333,82.63888888888889,74.2063492063492,94.09722222222221,97.22222222222221,93.51851851851852,86.1111111111111,85.23809523809524,88.88888888888889,85.55555555555554,100.0,94.44444444444443,83.33333333333334,100.0,100.0,88.88888888888887,100.0,100.0,100.0],\"type\":\"scatter\",\"xaxis\":\"x4\",\"yaxis\":\"y4\"},{\"line\":{\"width\":0},\"marker\":{\"color\":\"rgba(169,169,169,0.4)\"},\"mode\":\"lines\",\"name\":\"Upper Bound\",\"showlegend\":false,\"x\":[1,4,7,10,13,16,19,22,25,28,31,34,37,40,43,46,49,52,55,58,61,64],\"y\":[62.607897904936095,69.56720312415393,80.81660122817028,87.13498862097491,85.92070529600875,84.43439069958904,97.51696451451254,100.0,96.85699192172592,95.04041737128976,94.20178279587016,100.0,93.33333333333333,100.0,100.0,100.00000000000001,null,null,null,null,null,null],\"type\":\"scatter\",\"xaxis\":\"x4\",\"yaxis\":\"y4\"},{\"fill\":\"tonexty\",\"fillcolor\":\"rgba(169,169,169,0.4)\",\"line\":{\"width\":0},\"marker\":{\"color\":\"rgba(169,169,169,0.4)\"},\"mode\":\"lines\",\"name\":\"Lower Bound\",\"showlegend\":false,\"x\":[1,4,7,10,13,16,19,22,25,28,31,34,37,40,43,46,49,52,55,58,61,64],\"y\":[20.249244952206762,60.01613020917938,60.85006543849637,69.53167804569175,79.35707248176902,63.97830771310936,90.67747992993189,94.44444444444443,90.18004511531112,77.18180485093244,76.27440768032032,77.77777777777777,77.77777777777776,100.0,88.88888888888886,66.66666666666667,null,null,null,null,null,null],\"type\":\"scatter\",\"xaxis\":\"x4\",\"yaxis\":\"y4\"},{\"legendgroup\":\"Two Port\",\"line\":{\"color\":\"darkgrey\"},\"mode\":\"lines\",\"name\":\"Two Port\",\"showlegend\":false,\"x\":[1,4,7,10,13,16,19,22,25,28,31,34,37,40,43,46,49,52,55,58,61,64,67],\"y\":[69.68253968253968,86.52777777777777,91.66666666666667,95.83333333333333,93.88888888888889,98.61111111111111,90.27777777777777,92.77777777777777,86.80555555555556,97.22222222222223,87.03703703703702,96.29629629629629,100.0,100.0,100.0,100.0,91.66666666666667,100.0,61.11111111111111,88.88888888888887,88.88888888888887,100.0,83.33333333333333],\"type\":\"scatter\",\"xaxis\":\"x5\",\"yaxis\":\"y5\"},{\"line\":{\"width\":0},\"marker\":{\"color\":\"rgba(169,169,169,0.4)\"},\"mode\":\"lines\",\"name\":\"Upper Bound\",\"showlegend\":false,\"x\":[1,4,7,10,13,16,19,22,25,28,31,34,37,40,43,46,49,52,55,58,61,64,67],\"y\":[87.41265814985505,92.25824199672279,97.55922317655457,100.0,97.44618013190714,100.0,96.00431336891342,98.01887840669811,97.40578994616233,100.0,88.88888888888887,100.0,100.0,100.0,null,null,null,null,null,null,null,null,null],\"type\":\"scatter\",\"xaxis\":\"x5\",\"yaxis\":\"y5\"},{\"fill\":\"tonexty\",\"fillcolor\":\"rgba(169,169,169,0.4)\",\"line\":{\"width\":0},\"marker\":{\"color\":\"rgba(169,169,169,0.4)\"},\"mode\":\"lines\",\"name\":\"Lower Bound\",\"showlegend\":false,\"x\":[1,4,7,10,13,16,19,22,25,28,31,34,37,40,43,46,49,52,55,58,61,64,67],\"y\":[51.95242121522432,80.79731355883276,85.77411015677878,91.66666666666666,90.33159764587063,97.22222222222223,84.55124218664213,87.53667714885744,76.20532116494878,94.44444444444446,85.18518518518518,92.59259259259258,100.0,100.0,null,null,null,null,null,null,null,null,null],\"type\":\"scatter\",\"xaxis\":\"x5\",\"yaxis\":\"y5\"},{\"legendgroup\":\"Four Port\",\"line\":{\"color\":\"midnightblue\"},\"mode\":\"lines\",\"name\":\"Four Port\",\"showlegend\":true,\"x\":[1,4,7,10,13,16,19,22,25,28,31,34],\"y\":[43.61111111111111,49.074074074074076,43.87626262626262,50.27777777777778,41.452991452991455,55.45100732600733,55.73412698412698,54.50669156551509,53.07760141093474,46.666666666666664,50.0,50.0],\"type\":\"scatter\",\"xaxis\":\"x\",\"yaxis\":\"y\"},{\"line\":{\"width\":0},\"marker\":{\"color\":\"rgba(25,25,112,0.4)\"},\"mode\":\"lines\",\"name\":\"Upper Bound\",\"showlegend\":false,\"x\":[1,4,7,10,13,16,19,22,25,28,31,34],\"y\":[48.33333333333333,54.59091448509861,46.3748912165417,62.9980590465059,52.2684194314904,62.494133461490804,58.7822652707474,58.57586233306488,54.63225787563913,null,null,null],\"type\":\"scatter\",\"xaxis\":\"x\",\"yaxis\":\"y\"},{\"fill\":\"tonexty\",\"fillcolor\":\"rgba(25,25,112,0.4)\",\"line\":{\"width\":0},\"marker\":{\"color\":\"rgba(25,25,112,0.4)\"},\"mode\":\"lines\",\"name\":\"Lower Bound\",\"showlegend\":false,\"x\":[1,4,7,10,13,16,19,22,25,28,31,34],\"y\":[38.888888888888886,43.557233663049544,41.37763403598355,37.557496509049656,30.637563474492513,48.40788119052385,52.68598869750656,50.4375207979653,51.52294494623035,null,null,null],\"type\":\"scatter\",\"xaxis\":\"x\",\"yaxis\":\"y\"},{\"legendgroup\":\"Four Port\",\"line\":{\"color\":\"midnightblue\"},\"mode\":\"lines\",\"name\":\"Four Port\",\"showlegend\":false,\"x\":[1,4,7,10,13,16,19,22,25,28,31,34,37,40],\"y\":[57.615440115440116,56.18386243386243,54.81060606060606,55.84401709401709,52.301587301587304,64.92063492063492,57.3929773929774,62.02821869488536,65.63492063492065,66.47546897546898,52.85714285714286,41.65343915343915,73.80952380952381,0.0],\"type\":\"scatter\",\"xaxis\":\"x2\",\"yaxis\":\"y2\"},{\"line\":{\"width\":0},\"marker\":{\"color\":\"rgba(25,25,112,0.4)\"},\"mode\":\"lines\",\"name\":\"Upper Bound\",\"showlegend\":false,\"x\":[1,4,7,10,13,16,19,22,25,28,31,34,37,40],\"y\":[66.79463149673732,62.84349499259316,59.77204270464719,60.46524687244832,57.97949639151582,68.87404631602597,66.04781621199622,73.8717348069254,78.68631428813858,74.64708896760862,54.76190476190476,50.529100529100525,100.0,null],\"type\":\"scatter\",\"xaxis\":\"x2\",\"yaxis\":\"y2\"},{\"fill\":\"tonexty\",\"fillcolor\":\"rgba(25,25,112,0.4)\",\"line\":{\"width\":0},\"marker\":{\"color\":\"rgba(25,25,112,0.4)\"},\"mode\":\"lines\",\"name\":\"Lower Bound\",\"showlegend\":false,\"x\":[1,4,7,10,13,16,19,22,25,28,31,34,37,40],\"y\":[48.436248734142914,49.5242298751317,49.84916941656493,51.22278731558586,46.623678211658785,60.96722352524388,48.73813857395858,50.18470258284532,52.58352698170272,58.30384898332935,50.95238095238096,32.77777777777778,47.61904761904762,null],\"type\":\"scatter\",\"xaxis\":\"x2\",\"yaxis\":\"y2\"},{\"legendgroup\":\"Four Port\",\"line\":{\"color\":\"midnightblue\"},\"mode\":\"lines\",\"name\":\"Four Port\",\"showlegend\":false,\"x\":[1,4,7,10,13,16,19,22,25,28,31,34,37,40],\"y\":[56.564407814407815,54.42460317460317,56.150793650793645,60.0,67.02380952380952,74.52380952380952,65.97222222222223,83.05555555555556,79.25925925925925,75.87301587301587,78.33333333333333,67.22222222222221,66.66666666666667,100.0],\"type\":\"scatter\",\"xaxis\":\"x3\",\"yaxis\":\"y3\"},{\"line\":{\"width\":0},\"marker\":{\"color\":\"rgba(25,25,112,0.4)\"},\"mode\":\"lines\",\"name\":\"Upper Bound\",\"showlegend\":false,\"x\":[1,4,7,10,13,16,19,22,25,28,31,34,37,40],\"y\":[64.35264682742206,61.71643405854745,58.50213062968659,64.08248290463862,73.3724784825489,79.35856965413271,74.21985250914673,88.99376620178666,85.04462938956047,85.86335302021831,89.26239754050333,83.64951558047784,null,null],\"type\":\"scatter\",\"xaxis\":\"x3\",\"yaxis\":\"y3\"},{\"fill\":\"tonexty\",\"fillcolor\":\"rgba(25,25,112,0.4)\",\"line\":{\"width\":0},\"marker\":{\"color\":\"rgba(25,25,112,0.4)\"},\"mode\":\"lines\",\"name\":\"Lower Bound\",\"showlegend\":false,\"x\":[1,4,7,10,13,16,19,22,25,28,31,34,37,40],\"y\":[48.77616880139356,47.13277229065889,53.7994566719007,55.91751709536137,60.67514056507014,69.68904939348633,57.72459193529773,77.11734490932446,73.47388912895804,65.88267872581343,67.40426912616333,50.79492886396659,null,null],\"type\":\"scatter\",\"xaxis\":\"x3\",\"yaxis\":\"y3\"},{\"legendgroup\":\"Four Port\",\"line\":{\"color\":\"midnightblue\"},\"mode\":\"lines\",\"name\":\"Four Port\",\"showlegend\":false,\"x\":[1,4,7,10,13,16,19,22,25,28,31,34,37,40],\"y\":[57.61904761904761,76.66666666666666,69.44444444444444,66.16402116402116,79.76190476190476,83.61111111111111,85.69444444444444,80.13888888888889,85.04084967320262,83.68055555555556,78.8888888888889,86.66666666666667,100.0,71.42857142857143],\"type\":\"scatter\",\"xaxis\":\"x4\",\"yaxis\":\"y4\"},{\"line\":{\"width\":0},\"marker\":{\"color\":\"rgba(25,25,112,0.4)\"},\"mode\":\"lines\",\"name\":\"Upper Bound\",\"showlegend\":false,\"x\":[1,4,7,10,13,16,19,22,25,28,31,34,37,40],\"y\":[59.43493034740437,83.48590838500813,80.53934001938926,75.38286721008272,82.98279744249254,89.27895775659367,87.94398715060302,82.27103313697582,87.68671047286348,88.10379053869283,93.83736005230413,null,null,null],\"type\":\"scatter\",\"xaxis\":\"x4\",\"yaxis\":\"y4\"},{\"fill\":\"tonexty\",\"fillcolor\":\"rgba(25,25,112,0.4)\",\"line\":{\"width\":0},\"marker\":{\"color\":\"rgba(25,25,112,0.4)\"},\"mode\":\"lines\",\"name\":\"Lower Bound\",\"showlegend\":false,\"x\":[1,4,7,10,13,16,19,22,25,28,31,34,37,40],\"y\":[55.80316489069086,69.84742494832518,58.34954886949963,56.94517511795961,76.54101208131698,77.94326446562856,83.44490173828586,78.00674464080195,82.39498887354175,79.25732057241828,63.940417725473665,null,null,null],\"type\":\"scatter\",\"xaxis\":\"x4\",\"yaxis\":\"y4\"},{\"legendgroup\":\"Four Port\",\"line\":{\"color\":\"midnightblue\"},\"mode\":\"lines\",\"name\":\"Four Port\",\"showlegend\":false,\"x\":[1,4,7,10,13,16,19,22,25,28,31,34,37,40,43,46,49],\"y\":[72.5,86.68803418803418,69.34523809523809,85.0,89.16666666666667,78.68055555555554,95.83333333333333,80.69444444444444,77.4074074074074,85.83333333333334,73.33333333333333,70.83333333333333,84.72222222222223,87.5,86.66666666666667,93.33333333333333,100.0],\"type\":\"scatter\",\"xaxis\":\"x5\",\"yaxis\":\"y5\"},{\"line\":{\"width\":0},\"marker\":{\"color\":\"rgba(25,25,112,0.4)\"},\"mode\":\"lines\",\"name\":\"Upper Bound\",\"showlegend\":false,\"x\":[1,4,7,10,13,16,19,22,25,28,31,34,37,40,43,46,49],\"y\":[83.73198145508651,92.40648486632807,76.81865723076152,93.66025403784438,93.70559295510228,81.7766149619198,100.0,91.91009846290135,88.70825652029063,91.66666666666667,93.33333333333333,83.33333333333333,100.00000000000001,null,null,null,null],\"type\":\"scatter\",\"xaxis\":\"x5\",\"yaxis\":\"y5\"},{\"fill\":\"tonexty\",\"fillcolor\":\"rgba(25,25,112,0.4)\",\"line\":{\"width\":0},\"marker\":{\"color\":\"rgba(25,25,112,0.4)\"},\"mode\":\"lines\",\"name\":\"Lower Bound\",\"showlegend\":false,\"x\":[1,4,7,10,13,16,19,22,25,28,31,34,37,40,43,46,49],\"y\":[61.26801854491349,80.96958350974029,61.87181895971465,76.33974596215562,84.62774037823107,75.58449614919128,91.66666666666666,69.47879042598754,66.10655829452418,80.00000000000001,53.33333333333333,58.33333333333333,69.44444444444444,null,null,null,null],\"type\":\"scatter\",\"xaxis\":\"x5\",\"yaxis\":\"y5\"},{\"legendgroup\":\"Six Port\",\"line\":{\"color\":\"darkorchid\"},\"mode\":\"lines\",\"name\":\"Six Port\",\"showlegend\":true,\"x\":[1,4,7,10,13,16,19,22,25,28,31],\"y\":[75.92235092235092,83.45238095238096,76.22955747955749,82.5925925925926,78.81433381433382,77.38095238095238,70.07469654528478,93.88888888888889,95.83333333333334,80.75396825396825,95.23809523809524],\"type\":\"scatter\",\"xaxis\":\"x\",\"yaxis\":\"y\"},{\"line\":{\"width\":0},\"marker\":{\"color\":\"rgba(153,50,204,0.4)\"},\"mode\":\"lines\",\"name\":\"Upper Bound\",\"showlegend\":false,\"x\":[1,4,7,10,13,16,19,22,25,28,31],\"y\":[84.17856490768543,89.7148925745864,82.14265539798363,85.0,82.82371951978877,79.97745628726243,71.89542483660131,94.44444444444446,100.00000000000001,null,null],\"type\":\"scatter\",\"xaxis\":\"x\",\"yaxis\":\"y\"},{\"fill\":\"tonexty\",\"fillcolor\":\"rgba(153,50,204,0.4)\",\"line\":{\"width\":0},\"marker\":{\"color\":\"rgba(153,50,204,0.4)\"},\"mode\":\"lines\",\"name\":\"Lower Bound\",\"showlegend\":false,\"x\":[1,4,7,10,13,16,19,22,25,28,31],\"y\":[67.6661369370164,77.18986933017553,70.31645956113134,80.18518518518519,74.80494810887888,74.78444847464233,68.25396825396825,93.33333333333331,91.66666666666667,null,null],\"type\":\"scatter\",\"xaxis\":\"x\",\"yaxis\":\"y\"},{\"legendgroup\":\"Six Port\",\"line\":{\"color\":\"darkorchid\"},\"mode\":\"lines\",\"name\":\"Six Port\",\"showlegend\":false,\"x\":[1,4,7,10,13,16,19,22,25,28,31],\"y\":[75.83774250440918,80.15873015873017,80.15873015873017,82.56613756613757,78.3068783068783,87.22222222222223,80.6998556998557,77.77777777777777,92.5,74.81481481481482,null],\"type\":\"scatter\",\"xaxis\":\"x2\",\"yaxis\":\"y2\"},{\"line\":{\"width\":0},\"marker\":{\"color\":\"rgba(153,50,204,0.4)\"},\"mode\":\"lines\",\"name\":\"Upper Bound\",\"showlegend\":false,\"x\":[1,4,7,10,13,16,19,22,25,28,31],\"y\":[76.98412698412699,83.0294357690755,83.68579143544271,89.32698859895457,87.4434425604916,93.33333333333333,81.34920634920636,80.55555555555556,100.0,null,null],\"type\":\"scatter\",\"xaxis\":\"x2\",\"yaxis\":\"y2\"},{\"fill\":\"tonexty\",\"fillcolor\":\"rgba(153,50,204,0.4)\",\"line\":{\"width\":0},\"marker\":{\"color\":\"rgba(153,50,204,0.4)\"},\"mode\":\"lines\",\"name\":\"Lower Bound\",\"showlegend\":false,\"x\":[1,4,7,10,13,16,19,22,25,28,31],\"y\":[74.69135802469137,77.28802454838483,76.63166888201762,75.80528653332057,69.170314053265,81.11111111111113,80.05050505050505,74.99999999999999,85.0,null,null],\"type\":\"scatter\",\"xaxis\":\"x2\",\"yaxis\":\"y2\"},{\"legendgroup\":\"Six Port\",\"line\":{\"color\":\"darkorchid\"},\"mode\":\"lines\",\"name\":\"Six Port\",\"showlegend\":false,\"x\":[1,4,7,10,13,16,19,22,25,28,31,34,37,40,43,46],\"y\":[68.03571428571428,87.39087301587301,80.2579365079365,82.38095238095238,80.9920634920635,85.15873015873017,71.13095238095238,86.31944444444444,85.55555555555556,92.5,80.55555555555556,77.77777777777779,66.66666666666666,86.11111111111113,66.66666666666666,94.44444444444444],\"type\":\"scatter\",\"xaxis\":\"x3\",\"yaxis\":\"y3\"},{\"line\":{\"width\":0},\"marker\":{\"color\":\"rgba(153,50,204,0.4)\"},\"mode\":\"lines\",\"name\":\"Upper Bound\",\"showlegend\":false,\"x\":[1,4,7,10,13,16,19,22,25,28,31,34,37,40,43,46],\"y\":[77.61806166672223,89.54840014476788,82.91683940842925,88.46753477674487,82.1959125442799,89.88111911136896,79.76190476190476,91.6304691124997,95.43132713035065,100.0,null,null,null,null,null,null],\"type\":\"scatter\",\"xaxis\":\"x3\",\"yaxis\":\"y3\"},{\"fill\":\"tonexty\",\"fillcolor\":\"rgba(153,50,204,0.4)\",\"line\":{\"width\":0},\"marker\":{\"color\":\"rgba(153,50,204,0.4)\"},\"mode\":\"lines\",\"name\":\"Lower Bound\",\"showlegend\":false,\"x\":[1,4,7,10,13,16,19,22,25,28,31,34,37,40,43,46],\"y\":[58.45336690470633,85.23334588697814,77.59903360744376,76.29436998515989,79.78821443984708,80.43634120609137,62.5,81.00841977638919,75.67978398076046,85.0,null,null,null,null,null,null],\"type\":\"scatter\",\"xaxis\":\"x3\",\"yaxis\":\"y3\"},{\"legendgroup\":\"Six Port\",\"line\":{\"color\":\"darkorchid\"},\"mode\":\"lines\",\"name\":\"Six Port\",\"showlegend\":false,\"x\":[1,4,7,10,13,16,19,22,25,28,31,34,37,40,43,46],\"y\":[77.9281537176274,82.0589133089133,81.51455026455027,84.16005291005291,86.28246753246754,87.0436507936508,87.7579365079365,85.21604938271605,84.39153439153439,86.30952380952381,100.0,85.0,82.14285714285715,100.0,80.55555555555556,null],\"type\":\"scatter\",\"xaxis\":\"x4\",\"yaxis\":\"y4\"},{\"line\":{\"width\":0},\"marker\":{\"color\":\"rgba(153,50,204,0.4)\"},\"mode\":\"lines\",\"name\":\"Upper Bound\",\"showlegend\":false,\"x\":[1,4,7,10,13,16,19,22,25,28,31,34,37,40,43,46],\"y\":[82.78512083699023,85.07820185016959,84.536863366666,86.36973067093759,91.97406670511194,91.13530037907353,91.97330756059783,86.21091120131396,92.35884674411408,100.0,null,null,null,null,null,null],\"type\":\"scatter\",\"xaxis\":\"x4\",\"yaxis\":\"y4\"},{\"fill\":\"tonexty\",\"fillcolor\":\"rgba(153,50,204,0.4)\",\"line\":{\"width\":0},\"marker\":{\"color\":\"rgba(153,50,204,0.4)\"},\"mode\":\"lines\",\"name\":\"Lower Bound\",\"showlegend\":false,\"x\":[1,4,7,10,13,16,19,22,25,28,31,34,37,40,43,46],\"y\":[73.07118659826456,79.03962476765702,78.49223716243453,81.95037514916824,80.59086835982313,82.95200120822807,83.54256545527518,84.22118756411814,76.42422203895471,72.61904761904762,null,null,null,null,null,null],\"type\":\"scatter\",\"xaxis\":\"x4\",\"yaxis\":\"y4\"},{\"legendgroup\":\"Six Port\",\"line\":{\"color\":\"darkorchid\"},\"mode\":\"lines\",\"name\":\"Six Port\",\"showlegend\":false,\"x\":[1,4,7,10,13,16,19,22,25,28,31],\"y\":[74.6504884004884,81.64682539682539,82.1957671957672,82.8102453102453,85.44642857142857,91.79894179894181,91.93121693121692,87.4867724867725,77.03703703703705,87.03703703703702,100.0],\"type\":\"scatter\",\"xaxis\":\"x5\",\"yaxis\":\"y5\"},{\"line\":{\"width\":0},\"marker\":{\"color\":\"rgba(153,50,204,0.4)\"},\"mode\":\"lines\",\"name\":\"Upper Bound\",\"showlegend\":false,\"x\":[1,4,7,10,13,16,19,22,25,28,31],\"y\":[82.74466763264334,85.06188779326557,84.94747148351696,84.68154544357337,87.90083856190705,96.20193570822573,98.65906877038599,93.96306886865719,90.74074074074076,99.99999999999999,null],\"type\":\"scatter\",\"xaxis\":\"x5\",\"yaxis\":\"y5\"},{\"fill\":\"tonexty\",\"fillcolor\":\"rgba(153,50,204,0.4)\",\"line\":{\"width\":0},\"marker\":{\"color\":\"rgba(153,50,204,0.4)\"},\"mode\":\"lines\",\"name\":\"Lower Bound\",\"showlegend\":false,\"x\":[1,4,7,10,13,16,19,22,25,28,31],\"y\":[66.55630916833346,78.23176300038521,79.44406290801744,80.93894517691724,82.99201858095009,87.39594788965789,85.20336509204786,81.0104761048878,63.33333333333334,74.07407407407406,null],\"type\":\"scatter\",\"xaxis\":\"x5\",\"yaxis\":\"y5\"}],                        {\"template\":{\"data\":{\"barpolar\":[{\"marker\":{\"line\":{\"color\":\"white\",\"width\":0.5},\"pattern\":{\"fillmode\":\"overlay\",\"size\":10,\"solidity\":0.2}},\"type\":\"barpolar\"}],\"bar\":[{\"error_x\":{\"color\":\"rgb(36,36,36)\"},\"error_y\":{\"color\":\"rgb(36,36,36)\"},\"marker\":{\"line\":{\"color\":\"white\",\"width\":0.5},\"pattern\":{\"fillmode\":\"overlay\",\"size\":10,\"solidity\":0.2}},\"type\":\"bar\"}],\"carpet\":[{\"aaxis\":{\"endlinecolor\":\"rgb(36,36,36)\",\"gridcolor\":\"white\",\"linecolor\":\"white\",\"minorgridcolor\":\"white\",\"startlinecolor\":\"rgb(36,36,36)\"},\"baxis\":{\"endlinecolor\":\"rgb(36,36,36)\",\"gridcolor\":\"white\",\"linecolor\":\"white\",\"minorgridcolor\":\"white\",\"startlinecolor\":\"rgb(36,36,36)\"},\"type\":\"carpet\"}],\"choropleth\":[{\"colorbar\":{\"outlinewidth\":1,\"tickcolor\":\"rgb(36,36,36)\",\"ticks\":\"outside\"},\"type\":\"choropleth\"}],\"contourcarpet\":[{\"colorbar\":{\"outlinewidth\":1,\"tickcolor\":\"rgb(36,36,36)\",\"ticks\":\"outside\"},\"type\":\"contourcarpet\"}],\"contour\":[{\"colorbar\":{\"outlinewidth\":1,\"tickcolor\":\"rgb(36,36,36)\",\"ticks\":\"outside\"},\"colorscale\":[[0.0,\"#440154\"],[0.1111111111111111,\"#482878\"],[0.2222222222222222,\"#3e4989\"],[0.3333333333333333,\"#31688e\"],[0.4444444444444444,\"#26828e\"],[0.5555555555555556,\"#1f9e89\"],[0.6666666666666666,\"#35b779\"],[0.7777777777777778,\"#6ece58\"],[0.8888888888888888,\"#b5de2b\"],[1.0,\"#fde725\"]],\"type\":\"contour\"}],\"heatmapgl\":[{\"colorbar\":{\"outlinewidth\":1,\"tickcolor\":\"rgb(36,36,36)\",\"ticks\":\"outside\"},\"colorscale\":[[0.0,\"#440154\"],[0.1111111111111111,\"#482878\"],[0.2222222222222222,\"#3e4989\"],[0.3333333333333333,\"#31688e\"],[0.4444444444444444,\"#26828e\"],[0.5555555555555556,\"#1f9e89\"],[0.6666666666666666,\"#35b779\"],[0.7777777777777778,\"#6ece58\"],[0.8888888888888888,\"#b5de2b\"],[1.0,\"#fde725\"]],\"type\":\"heatmapgl\"}],\"heatmap\":[{\"colorbar\":{\"outlinewidth\":1,\"tickcolor\":\"rgb(36,36,36)\",\"ticks\":\"outside\"},\"colorscale\":[[0.0,\"#440154\"],[0.1111111111111111,\"#482878\"],[0.2222222222222222,\"#3e4989\"],[0.3333333333333333,\"#31688e\"],[0.4444444444444444,\"#26828e\"],[0.5555555555555556,\"#1f9e89\"],[0.6666666666666666,\"#35b779\"],[0.7777777777777778,\"#6ece58\"],[0.8888888888888888,\"#b5de2b\"],[1.0,\"#fde725\"]],\"type\":\"heatmap\"}],\"histogram2dcontour\":[{\"colorbar\":{\"outlinewidth\":1,\"tickcolor\":\"rgb(36,36,36)\",\"ticks\":\"outside\"},\"colorscale\":[[0.0,\"#440154\"],[0.1111111111111111,\"#482878\"],[0.2222222222222222,\"#3e4989\"],[0.3333333333333333,\"#31688e\"],[0.4444444444444444,\"#26828e\"],[0.5555555555555556,\"#1f9e89\"],[0.6666666666666666,\"#35b779\"],[0.7777777777777778,\"#6ece58\"],[0.8888888888888888,\"#b5de2b\"],[1.0,\"#fde725\"]],\"type\":\"histogram2dcontour\"}],\"histogram2d\":[{\"colorbar\":{\"outlinewidth\":1,\"tickcolor\":\"rgb(36,36,36)\",\"ticks\":\"outside\"},\"colorscale\":[[0.0,\"#440154\"],[0.1111111111111111,\"#482878\"],[0.2222222222222222,\"#3e4989\"],[0.3333333333333333,\"#31688e\"],[0.4444444444444444,\"#26828e\"],[0.5555555555555556,\"#1f9e89\"],[0.6666666666666666,\"#35b779\"],[0.7777777777777778,\"#6ece58\"],[0.8888888888888888,\"#b5de2b\"],[1.0,\"#fde725\"]],\"type\":\"histogram2d\"}],\"histogram\":[{\"marker\":{\"line\":{\"color\":\"white\",\"width\":0.6}},\"type\":\"histogram\"}],\"mesh3d\":[{\"colorbar\":{\"outlinewidth\":1,\"tickcolor\":\"rgb(36,36,36)\",\"ticks\":\"outside\"},\"type\":\"mesh3d\"}],\"parcoords\":[{\"line\":{\"colorbar\":{\"outlinewidth\":1,\"tickcolor\":\"rgb(36,36,36)\",\"ticks\":\"outside\"}},\"type\":\"parcoords\"}],\"pie\":[{\"automargin\":true,\"type\":\"pie\"}],\"scatter3d\":[{\"line\":{\"colorbar\":{\"outlinewidth\":1,\"tickcolor\":\"rgb(36,36,36)\",\"ticks\":\"outside\"}},\"marker\":{\"colorbar\":{\"outlinewidth\":1,\"tickcolor\":\"rgb(36,36,36)\",\"ticks\":\"outside\"}},\"type\":\"scatter3d\"}],\"scattercarpet\":[{\"marker\":{\"colorbar\":{\"outlinewidth\":1,\"tickcolor\":\"rgb(36,36,36)\",\"ticks\":\"outside\"}},\"type\":\"scattercarpet\"}],\"scattergeo\":[{\"marker\":{\"colorbar\":{\"outlinewidth\":1,\"tickcolor\":\"rgb(36,36,36)\",\"ticks\":\"outside\"}},\"type\":\"scattergeo\"}],\"scattergl\":[{\"marker\":{\"colorbar\":{\"outlinewidth\":1,\"tickcolor\":\"rgb(36,36,36)\",\"ticks\":\"outside\"}},\"type\":\"scattergl\"}],\"scattermapbox\":[{\"marker\":{\"colorbar\":{\"outlinewidth\":1,\"tickcolor\":\"rgb(36,36,36)\",\"ticks\":\"outside\"}},\"type\":\"scattermapbox\"}],\"scatterpolargl\":[{\"marker\":{\"colorbar\":{\"outlinewidth\":1,\"tickcolor\":\"rgb(36,36,36)\",\"ticks\":\"outside\"}},\"type\":\"scatterpolargl\"}],\"scatterpolar\":[{\"marker\":{\"colorbar\":{\"outlinewidth\":1,\"tickcolor\":\"rgb(36,36,36)\",\"ticks\":\"outside\"}},\"type\":\"scatterpolar\"}],\"scatter\":[{\"fillpattern\":{\"fillmode\":\"overlay\",\"size\":10,\"solidity\":0.2},\"type\":\"scatter\"}],\"scatterternary\":[{\"marker\":{\"colorbar\":{\"outlinewidth\":1,\"tickcolor\":\"rgb(36,36,36)\",\"ticks\":\"outside\"}},\"type\":\"scatterternary\"}],\"surface\":[{\"colorbar\":{\"outlinewidth\":1,\"tickcolor\":\"rgb(36,36,36)\",\"ticks\":\"outside\"},\"colorscale\":[[0.0,\"#440154\"],[0.1111111111111111,\"#482878\"],[0.2222222222222222,\"#3e4989\"],[0.3333333333333333,\"#31688e\"],[0.4444444444444444,\"#26828e\"],[0.5555555555555556,\"#1f9e89\"],[0.6666666666666666,\"#35b779\"],[0.7777777777777778,\"#6ece58\"],[0.8888888888888888,\"#b5de2b\"],[1.0,\"#fde725\"]],\"type\":\"surface\"}],\"table\":[{\"cells\":{\"fill\":{\"color\":\"rgb(237,237,237)\"},\"line\":{\"color\":\"white\"}},\"header\":{\"fill\":{\"color\":\"rgb(217,217,217)\"},\"line\":{\"color\":\"white\"}},\"type\":\"table\"}]},\"layout\":{\"annotationdefaults\":{\"arrowhead\":0,\"arrowwidth\":1},\"autotypenumbers\":\"strict\",\"coloraxis\":{\"colorbar\":{\"outlinewidth\":1,\"tickcolor\":\"rgb(36,36,36)\",\"ticks\":\"outside\"}},\"colorscale\":{\"diverging\":[[0.0,\"rgb(103,0,31)\"],[0.1,\"rgb(178,24,43)\"],[0.2,\"rgb(214,96,77)\"],[0.3,\"rgb(244,165,130)\"],[0.4,\"rgb(253,219,199)\"],[0.5,\"rgb(247,247,247)\"],[0.6,\"rgb(209,229,240)\"],[0.7,\"rgb(146,197,222)\"],[0.8,\"rgb(67,147,195)\"],[0.9,\"rgb(33,102,172)\"],[1.0,\"rgb(5,48,97)\"]],\"sequential\":[[0.0,\"#440154\"],[0.1111111111111111,\"#482878\"],[0.2222222222222222,\"#3e4989\"],[0.3333333333333333,\"#31688e\"],[0.4444444444444444,\"#26828e\"],[0.5555555555555556,\"#1f9e89\"],[0.6666666666666666,\"#35b779\"],[0.7777777777777778,\"#6ece58\"],[0.8888888888888888,\"#b5de2b\"],[1.0,\"#fde725\"]],\"sequentialminus\":[[0.0,\"#440154\"],[0.1111111111111111,\"#482878\"],[0.2222222222222222,\"#3e4989\"],[0.3333333333333333,\"#31688e\"],[0.4444444444444444,\"#26828e\"],[0.5555555555555556,\"#1f9e89\"],[0.6666666666666666,\"#35b779\"],[0.7777777777777778,\"#6ece58\"],[0.8888888888888888,\"#b5de2b\"],[1.0,\"#fde725\"]]},\"colorway\":[\"#1F77B4\",\"#FF7F0E\",\"#2CA02C\",\"#D62728\",\"#9467BD\",\"#8C564B\",\"#E377C2\",\"#7F7F7F\",\"#BCBD22\",\"#17BECF\"],\"font\":{\"color\":\"rgb(36,36,36)\"},\"geo\":{\"bgcolor\":\"white\",\"lakecolor\":\"white\",\"landcolor\":\"white\",\"showlakes\":true,\"showland\":true,\"subunitcolor\":\"white\"},\"hoverlabel\":{\"align\":\"left\"},\"hovermode\":\"closest\",\"mapbox\":{\"style\":\"light\"},\"paper_bgcolor\":\"white\",\"plot_bgcolor\":\"white\",\"polar\":{\"angularaxis\":{\"gridcolor\":\"rgb(232,232,232)\",\"linecolor\":\"rgb(36,36,36)\",\"showgrid\":false,\"showline\":true,\"ticks\":\"outside\"},\"bgcolor\":\"white\",\"radialaxis\":{\"gridcolor\":\"rgb(232,232,232)\",\"linecolor\":\"rgb(36,36,36)\",\"showgrid\":false,\"showline\":true,\"ticks\":\"outside\"}},\"scene\":{\"xaxis\":{\"backgroundcolor\":\"white\",\"gridcolor\":\"rgb(232,232,232)\",\"gridwidth\":2,\"linecolor\":\"rgb(36,36,36)\",\"showbackground\":true,\"showgrid\":false,\"showline\":true,\"ticks\":\"outside\",\"zeroline\":false,\"zerolinecolor\":\"rgb(36,36,36)\"},\"yaxis\":{\"backgroundcolor\":\"white\",\"gridcolor\":\"rgb(232,232,232)\",\"gridwidth\":2,\"linecolor\":\"rgb(36,36,36)\",\"showbackground\":true,\"showgrid\":false,\"showline\":true,\"ticks\":\"outside\",\"zeroline\":false,\"zerolinecolor\":\"rgb(36,36,36)\"},\"zaxis\":{\"backgroundcolor\":\"white\",\"gridcolor\":\"rgb(232,232,232)\",\"gridwidth\":2,\"linecolor\":\"rgb(36,36,36)\",\"showbackground\":true,\"showgrid\":false,\"showline\":true,\"ticks\":\"outside\",\"zeroline\":false,\"zerolinecolor\":\"rgb(36,36,36)\"}},\"shapedefaults\":{\"fillcolor\":\"black\",\"line\":{\"width\":0},\"opacity\":0.3},\"ternary\":{\"aaxis\":{\"gridcolor\":\"rgb(232,232,232)\",\"linecolor\":\"rgb(36,36,36)\",\"showgrid\":false,\"showline\":true,\"ticks\":\"outside\"},\"baxis\":{\"gridcolor\":\"rgb(232,232,232)\",\"linecolor\":\"rgb(36,36,36)\",\"showgrid\":false,\"showline\":true,\"ticks\":\"outside\"},\"bgcolor\":\"white\",\"caxis\":{\"gridcolor\":\"rgb(232,232,232)\",\"linecolor\":\"rgb(36,36,36)\",\"showgrid\":false,\"showline\":true,\"ticks\":\"outside\"}},\"title\":{\"x\":0.05},\"xaxis\":{\"automargin\":true,\"gridcolor\":\"rgb(232,232,232)\",\"linecolor\":\"rgb(36,36,36)\",\"showgrid\":false,\"showline\":true,\"ticks\":\"outside\",\"title\":{\"standoff\":15},\"zeroline\":false,\"zerolinecolor\":\"rgb(36,36,36)\"},\"yaxis\":{\"automargin\":true,\"gridcolor\":\"rgb(232,232,232)\",\"linecolor\":\"rgb(36,36,36)\",\"showgrid\":false,\"showline\":true,\"ticks\":\"outside\",\"title\":{\"standoff\":15},\"zeroline\":false,\"zerolinecolor\":\"rgb(36,36,36)\"}}},\"xaxis\":{\"anchor\":\"y\",\"domain\":[0.0,0.16799999999999998],\"title\":{\"text\":\"\"},\"linewidth\":1.5,\"matches\":\"x\"},\"yaxis\":{\"anchor\":\"x\",\"domain\":[0.0,1.0],\"title\":{\"text\":\"Lick Accuracy (%)\"},\"linewidth\":1.5,\"matches\":\"y\",\"range\":[0,101]},\"xaxis2\":{\"anchor\":\"y2\",\"domain\":[0.208,0.376],\"title\":{\"text\":\"\"},\"linewidth\":1.5,\"matches\":\"x\"},\"yaxis2\":{\"anchor\":\"x2\",\"domain\":[0.0,1.0],\"matches\":\"y\",\"showticklabels\":false,\"title\":{\"text\":\"\"},\"linewidth\":1.5,\"range\":[0,101]},\"xaxis3\":{\"anchor\":\"y3\",\"domain\":[0.416,0.584],\"title\":{\"text\":\"\"},\"linewidth\":1.5,\"matches\":\"x\"},\"yaxis3\":{\"anchor\":\"x3\",\"domain\":[0.0,1.0],\"matches\":\"y\",\"showticklabels\":false,\"title\":{\"text\":\"\"},\"linewidth\":1.5,\"range\":[0,101]},\"xaxis4\":{\"anchor\":\"y4\",\"domain\":[0.624,0.792],\"title\":{\"text\":\"\"},\"linewidth\":1.5,\"matches\":\"x\"},\"yaxis4\":{\"anchor\":\"x4\",\"domain\":[0.0,1.0],\"matches\":\"y\",\"showticklabels\":false,\"title\":{\"text\":\"\"},\"linewidth\":1.5,\"range\":[0,101]},\"xaxis5\":{\"anchor\":\"y5\",\"domain\":[0.832,1.0],\"title\":{\"text\":\"\"},\"linewidth\":1.5,\"matches\":\"x\"},\"yaxis5\":{\"anchor\":\"x5\",\"domain\":[0.0,1.0],\"matches\":\"y\",\"showticklabels\":false,\"title\":{\"text\":\"\"},\"linewidth\":1.5,\"range\":[0,101]},\"title\":{\"y\":0.9,\"x\":0.5,\"xanchor\":\"center\",\"yanchor\":\"top\"},\"font\":{\"size\":22,\"family\":\"Arial\"},\"height\":500,\"width\":1200,\"shapes\":[{\"line\":{\"color\":\"darkgrey\",\"dash\":\"dash\",\"width\":1},\"opacity\":1,\"type\":\"line\",\"x0\":0,\"x1\":1,\"xref\":\"x domain\",\"y0\":25,\"y1\":25,\"yref\":\"y\"},{\"line\":{\"color\":\"darkgrey\",\"dash\":\"dash\",\"width\":1},\"opacity\":1,\"type\":\"line\",\"x0\":0,\"x1\":1,\"xref\":\"x2 domain\",\"y0\":25,\"y1\":25,\"yref\":\"y2\"},{\"line\":{\"color\":\"darkgrey\",\"dash\":\"dash\",\"width\":1},\"opacity\":1,\"type\":\"line\",\"x0\":0,\"x1\":1,\"xref\":\"x3 domain\",\"y0\":25,\"y1\":25,\"yref\":\"y3\"},{\"line\":{\"color\":\"darkgrey\",\"dash\":\"dash\",\"width\":1},\"opacity\":1,\"type\":\"line\",\"x0\":0,\"x1\":1,\"xref\":\"x4 domain\",\"y0\":25,\"y1\":25,\"yref\":\"y4\"},{\"line\":{\"color\":\"darkgrey\",\"dash\":\"dash\",\"width\":1},\"opacity\":1,\"type\":\"line\",\"x0\":0,\"x1\":1,\"xref\":\"x5 domain\",\"y0\":25,\"y1\":25,\"yref\":\"y5\"},{\"line\":{\"color\":\"midnightblue\",\"dash\":\"dash\",\"width\":1},\"opacity\":1,\"type\":\"line\",\"x0\":0,\"x1\":1,\"xref\":\"x domain\",\"y0\":50,\"y1\":50,\"yref\":\"y\"},{\"line\":{\"color\":\"midnightblue\",\"dash\":\"dash\",\"width\":1},\"opacity\":1,\"type\":\"line\",\"x0\":0,\"x1\":1,\"xref\":\"x2 domain\",\"y0\":50,\"y1\":50,\"yref\":\"y2\"},{\"line\":{\"color\":\"midnightblue\",\"dash\":\"dash\",\"width\":1},\"opacity\":1,\"type\":\"line\",\"x0\":0,\"x1\":1,\"xref\":\"x3 domain\",\"y0\":50,\"y1\":50,\"yref\":\"y3\"},{\"line\":{\"color\":\"midnightblue\",\"dash\":\"dash\",\"width\":1},\"opacity\":1,\"type\":\"line\",\"x0\":0,\"x1\":1,\"xref\":\"x4 domain\",\"y0\":50,\"y1\":50,\"yref\":\"y4\"},{\"line\":{\"color\":\"midnightblue\",\"dash\":\"dash\",\"width\":1},\"opacity\":1,\"type\":\"line\",\"x0\":0,\"x1\":1,\"xref\":\"x5 domain\",\"y0\":50,\"y1\":50,\"yref\":\"y5\"},{\"line\":{\"color\":\"darkorchid\",\"dash\":\"dash\",\"width\":1},\"opacity\":1,\"type\":\"line\",\"x0\":0,\"x1\":1,\"xref\":\"x domain\",\"y0\":75,\"y1\":75,\"yref\":\"y\"},{\"line\":{\"color\":\"darkorchid\",\"dash\":\"dash\",\"width\":1},\"opacity\":1,\"type\":\"line\",\"x0\":0,\"x1\":1,\"xref\":\"x2 domain\",\"y0\":75,\"y1\":75,\"yref\":\"y2\"},{\"line\":{\"color\":\"darkorchid\",\"dash\":\"dash\",\"width\":1},\"opacity\":1,\"type\":\"line\",\"x0\":0,\"x1\":1,\"xref\":\"x3 domain\",\"y0\":75,\"y1\":75,\"yref\":\"y3\"},{\"line\":{\"color\":\"darkorchid\",\"dash\":\"dash\",\"width\":1},\"opacity\":1,\"type\":\"line\",\"x0\":0,\"x1\":1,\"xref\":\"x4 domain\",\"y0\":75,\"y1\":75,\"yref\":\"y4\"},{\"line\":{\"color\":\"darkorchid\",\"dash\":\"dash\",\"width\":1},\"opacity\":1,\"type\":\"line\",\"x0\":0,\"x1\":1,\"xref\":\"x5 domain\",\"y0\":75,\"y1\":75,\"yref\":\"y5\"}]},                        {\"responsive\": true}                    ).then(function(){\n",
       "                            \n",
       "var gd = document.getElementById('b7d0d3b9-22ef-42ff-8a3f-f1c0cc0259eb');\n",
       "var x = new MutationObserver(function (mutations, observer) {{\n",
       "        var display = window.getComputedStyle(gd).display;\n",
       "        if (!display || display === 'none') {{\n",
       "            console.log([gd, 'removed!']);\n",
       "            Plotly.purge(gd);\n",
       "            observer.disconnect();\n",
       "        }}\n",
       "}});\n",
       "\n",
       "// Listen for the removal of the full notebook cells\n",
       "var notebookContainer = gd.closest('#notebook-container');\n",
       "if (notebookContainer) {{\n",
       "    x.observe(notebookContainer, {childList: true});\n",
       "}}\n",
       "\n",
       "// Listen for the clearing of the current output cell\n",
       "var outputEl = gd.closest('.output');\n",
       "if (outputEl) {{\n",
       "    x.observe(outputEl, {childList: true});\n",
       "}}\n",
       "\n",
       "                        })                };                });            </script>        </div>"
      ]
     },
     "metadata": {},
     "output_type": "display_data"
    }
   ],
   "source": [
    "fig = pf.custom_graph_template(x_title='', y_title='', rows=1, columns=5, shared_y=True, shared_x=True, width=1200)\n",
    "for gind, group in enumerate(['Two Port', 'Four Port', 'Six Port']):\n",
    "    gdata = avg_acc[avg_acc['group'] == group]\n",
    "    for idx, day in enumerate(gdata['day'].unique()):\n",
    "        day_data = gdata[gdata['day'] == day]\n",
    "        row, col = 1, idx + 1\n",
    "        x_data = np.arange(1, np.array(day_data['trial'])[-1]*bin_size, bin_size)\n",
    "        upper = day_data['lick_acc']['mean'] + day_data['lick_acc']['sem']\n",
    "        lower = day_data['lick_acc']['mean'] - day_data['lick_acc']['sem']\n",
    "\n",
    "        fig.add_trace(go.Scatter(x=x_data, y=day_data['lick_acc']['mean'], mode='lines', line_color=group_colors_dict[group], showlegend=False,\n",
    "                                 name=group, legendgroup=group), row=row, col=col)\n",
    "        fig.add_trace(go.Scatter(x=x_data, y=upper, mode='lines', marker=dict(color=error_color[gind]),\n",
    "                                name='Upper Bound', line=dict(width=0), showlegend=False), row=row, col=col)\n",
    "        fig.add_trace(go.Scatter(x=x_data, y=lower, mode='lines', marker=dict(color=error_color[gind]),\n",
    "                                name='Lower Bound', line=dict(width=0), showlegend=False, fillcolor=error_color[gind], fill='tonexty'), row=row, col=col)\n",
    "                             \n",
    "fig.add_hline(y=25, line_width=1, line_dash='dash', line_color=chance_color, opacity=1)\n",
    "fig.add_hline(y=50, line_width=1, line_dash='dash', line_color='midnightblue', opacity=1)\n",
    "fig.add_hline(y=75, line_width=1, line_dash='dash', line_color='darkorchid', opacity=1)\n",
    "fig.update_yaxes(title='Lick Accuracy (%)', col=1)\n",
    "fig.update_xaxes(title='Trial', row=4)\n",
    "fig.update_yaxes(range=[0, 101])\n",
    "fig.data[0]['showlegend'] = True\n",
    "fig.data[15]['showlegend'] = True\n",
    "fig.data[30]['showlegend'] = True\n",
    "fig.show()"
   ]
  }
 ],
 "metadata": {
  "language_info": {
   "name": "python"
  }
 },
 "nbformat": 4,
 "nbformat_minor": 2
}
