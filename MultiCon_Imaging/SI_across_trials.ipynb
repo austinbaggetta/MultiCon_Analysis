{
 "cells": [
  {
   "cell_type": "code",
   "execution_count": null,
   "id": "d81a9796",
   "metadata": {},
   "outputs": [],
   "source": [
    "%load_ext autoreload\n",
    "%autoreload 2\n",
    "import os\n",
    "import sys\n",
    "import pandas as pd\n",
    "import numpy as np\n",
    "import xarray as xr\n",
    "import plotly.graph_objects as go\n",
    "from tqdm import tqdm\n",
    "from os.path import join as pjoin\n",
    "from scipy.ndimage import gaussian_filter\n",
    "from numpy.random import MT19937\n",
    "from numpy.random import RandomState, SeedSequence\n",
    "\n",
    "sys.path.append('/home/austinbaggetta/csstorage3/CircleTrack/CircleTrackAnalysis')\n",
    "import circletrack_neural as ctn\n",
    "import circletrack_behavior as ctb\n",
    "import place_cells as pc\n",
    "import plotting_functions as pf"
   ]
  },
  {
   "cell_type": "code",
   "execution_count": null,
   "id": "56f1cf5d",
   "metadata": {},
   "outputs": [],
   "source": [
    "project_dir = 'MultiCon_Imaging'\n",
    "experiment_dir = 'MultiCon_Imaging5'\n",
    "mouse_list = ['mc44', 'mc46', 'mc48']\n",
    "dpath = f'../../{project_dir}/{experiment_dir}/output/aligned_minian/'\n",
    "spath = f'../../{project_dir}/{experiment_dir}/output/aligned_place_cells/'\n",
    "fig_path = f'../../../Manuscripts/MultiCon/intermediate_plots/si_across_trials'\n",
    "if not os.path.exists(fig_path):\n",
    "    os.makedirs(fig_path)\n",
    "data_type = 'S'\n",
    "only_running = True\n",
    "correct_dir = True\n",
    "velocity_thresh = 10\n",
    "bin_size = 0.16 ## 2cm wide bins in radians\n",
    "min_event_amount = 0.2\n",
    "rs = RandomState(MT19937(SeedSequence(24601)))"
   ]
  },
  {
   "cell_type": "markdown",
   "id": "a720a781",
   "metadata": {},
   "source": [
    "### Single mouse - get spatial information of each cell across trials."
   ]
  },
  {
   "cell_type": "code",
   "execution_count": null,
   "id": "53975637",
   "metadata": {},
   "outputs": [],
   "source": [
    "mtest = 'mc52'\n",
    "si_dict = {'mouse': [], 'sex': [], 'group': [], 'session': [], 'trial': [], 'unit_id': [], 'si': []}\n",
    "for mouse in [mtest]:\n",
    "    mpath = pjoin(dpath, f'{mouse}/{data_type}')\n",
    "    # for session in os.listdir(mpath):\n",
    "    for session in [f'{mtest}_S_5.nc']:\n",
    "        sdata = xr.open_dataset(pjoin(mpath, session))[data_type]\n",
    "        num_neurons = sdata.shape[0]\n",
    "        minimum_act_bool = pc.minimum_activity_level(sdata, minimum_event_amount=min_event_amount, bin_size_seconds=60, fps=30, func=np.sum, binarized=0)\n",
    "        sdata = sdata[:, sdata['behav_t'] >= 5] ## remove the first five seconds\n",
    "        forward, reverse = ctb.get_forward_reverse_trials(sdata, percent_correct=63)\n",
    "        for ftrial in forward:\n",
    "            sub_data = sdata[:, sdata['trials'] == ftrial]\n",
    "            pos_data = gaussian_filter(sub_data['lin_position'].values, 2) ## filter width of two\n",
    "            population_activity, occupancy, _ = pc.spatial_activity(sub_data.values, pos_data, bin_size=bin_size, binarized=False)\n",
    "            tuning_curves = pc.get_tuning_curves(population_activity, occupancy)\n",
    "            bits_per_event = pc.skaggs_information_content(tuning_curves, occupancy)\n",
    "            for idx in np.arange(0, sub_data.shape[0]):\n",
    "                si_dict['mouse'].append(mouse)\n",
    "                si_dict['sex'].append(sdata.attrs['sex'])\n",
    "                si_dict['group'].append(sdata.attrs['group'])\n",
    "                si_dict['session'].append(sdata.attrs['session_two'])\n",
    "                si_dict['trial'].append(ftrial)\n",
    "                si_dict['unit_id'].append(sdata['unit_id'].values[idx])\n",
    "                si_dict['si'].append(bits_per_event[idx])\n",
    "si_df = pd.DataFrame(si_dict)"
   ]
  },
  {
   "cell_type": "code",
   "execution_count": null,
   "id": "d79c6e39",
   "metadata": {},
   "outputs": [],
   "source": [
    "uids = np.sort(rs.randint(low=0, high=sdata.shape[0], size=10))\n",
    "avg_si = si_df.groupby(['mouse', 'session', 'trial'], as_index=False).agg({'si': ['mean', 'sem']})\n",
    "fig = pf.custom_graph_template(x_title='Trial', y_title='Spatial Information (bits/event)')\n",
    "for uid in uids:\n",
    "    fig.add_trace(go.Scattergl(x=si_df['trial'].unique(), y=si_df['si'][si_df['unit_id'] == uid], name=f'{uid}'))\n",
    "fig.add_trace(go.Scattergl(x=avg_si['trial'], y=avg_si['si']['mean'], line_color='black', name='Average', marker_line_width=12))\n",
    "fig.show()\n",
    "fig.write_image(pjoin(fig_path, f'{mouse}_avg_si_across_trials_with_random_cells.png'))"
   ]
  }
 ],
 "metadata": {
  "kernelspec": {
   "display_name": "calcium_analysis",
   "language": "python",
   "name": "python3"
  },
  "language_info": {
   "codemirror_mode": {
    "name": "ipython",
    "version": 3
   },
   "file_extension": ".py",
   "mimetype": "text/x-python",
   "name": "python",
   "nbconvert_exporter": "python",
   "pygments_lexer": "ipython3",
   "version": "3.13.2"
  }
 },
 "nbformat": 4,
 "nbformat_minor": 5
}
