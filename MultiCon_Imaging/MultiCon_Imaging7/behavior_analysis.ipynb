{
 "cells": [
  {
   "cell_type": "code",
   "execution_count": null,
   "id": "e8dd80f0",
   "metadata": {},
   "outputs": [],
   "source": [
    "%load_ext autoreload\n",
    "%autoreload 2\n",
    "import os\n",
    "import sys\n",
    "import numpy as np\n",
    "import pandas as pd\n",
    "import xarray as xr\n",
    "import plotly.graph_objects as go\n",
    "from os.path import join as pjoin\n",
    "from natsort import natsorted\n",
    "\n",
    "sys.path.append(\"../../\")\n",
    "import circletrack_behavior as ctb\n",
    "import plotting_functions as pf"
   ]
  },
  {
   "cell_type": "code",
   "execution_count": null,
   "id": "3bc750de",
   "metadata": {},
   "outputs": [],
   "source": [
    "## Settings\n",
    "parent_dir = 'MultiCon_Imaging'\n",
    "experiment_dir = 'MultiCon_Imaging7'\n",
    "lin_path = f'../../../{parent_dir}/{experiment_dir}/output/lin_behav/'\n",
    "circle_path = f'../../../{parent_dir}/{experiment_dir}/output/behav/'\n",
    "fig_path = f'../../../{parent_dir}/{experiment_dir}/intermediate_figures'\n",
    "male_mice = ['mc64', 'mc65']\n",
    "control_mice = ['mc61', 'mc64']\n",
    "chance_color = 'darkgrey'\n",
    "avg_color = 'midnightblue'\n",
    "subject_color = 'darkgrey'\n",
    "experimental_sessions = [f'A{x}' for x in np.arange(1, 6)] + [f'B{x}' for x in np.arange(1, 6)] + [f'C{x}' for x in np.arange(1, 6)] + [f'D{x}' for x in np.arange(1, 6)]\n",
    "control_sessions = [f'A{x}' for x in np.arange(1, 16)] + [f'B{x}' for x in np.arange(1, 6)]\n",
    "mf_colors = ['darkorchid', 'midnightblue']\n",
    "mf_colors_dict = {'Male': mf_colors[1], 'Female': mf_colors[0]}\n",
    "ce_colors = ['midnightblue', '#287347']\n",
    "ce_colors_dict = {'Two-context': ce_colors[0], 'Multi-context': ce_colors[1]}\n",
    "# error_color = ['rgba(153,50,204,0.4)', 'rgba(25,25,112,0.4)', 'rgba(169,169,169,0.4)'] #'rgba(169,169,169,0.4)' is gray\n",
    "error_color = {'Multi-context': 'rgba(40, 115, 71, 0.4)', 'Two-context': 'rgba(25,25,112,0.4)'}\n",
    "\n",
    "if not os.path.exists(fig_path):\n",
    "    os.makedirs(fig_path)"
   ]
  },
  {
   "cell_type": "markdown",
   "id": "0c35a935",
   "metadata": {},
   "source": [
    "### Linear track - rewards across days."
   ]
  },
  {
   "cell_type": "code",
   "execution_count": null,
   "id": "903b20c7",
   "metadata": {},
   "outputs": [],
   "source": [
    "lin_dict = {'mouse': [], 'day': [], 'sex': [], 'rewards': []}\n",
    "for mouse in os.listdir(lin_path):\n",
    "    mouse_path = pjoin(lin_path, mouse)\n",
    "    sex = 'Male' if mouse in male_mice else 'Female'\n",
    "    for idx, session in enumerate(natsorted(os.listdir(mouse_path))):\n",
    "        if mouse == 'mc64':\n",
    "            idx += 1\n",
    "        behav = pd.read_feather(pjoin(mouse_path, f'{session}'))\n",
    "        lin_dict['mouse'].append(mouse)\n",
    "        lin_dict['day'].append(idx+1)\n",
    "        lin_dict['sex'].append(sex)\n",
    "        lin_dict['rewards'].append(np.sum(behav['water']))\n",
    "lin_df = pd.DataFrame(lin_dict)"
   ]
  },
  {
   "cell_type": "code",
   "execution_count": null,
   "id": "e4268507",
   "metadata": {},
   "outputs": [],
   "source": [
    "## Plot rewards across days on linear track\n",
    "fig = pf.plot_behavior_across_days(lin_df, x_var='day', y_var='rewards', groupby_var=['day'], plot_transitions=None,\n",
    "                                   marker_color=subject_color, avg_color=avg_color, expert_line=False, chance=False,\n",
    "                                   x_title='Day', y_title='Rewards', titles=['Linear Track'], height=500, width=500)\n",
    "fig.show()\n",
    "fig.write_image(pjoin(fig_path, 'linear_track_rewards.png'))"
   ]
  },
  {
   "cell_type": "code",
   "execution_count": null,
   "id": "08476a61",
   "metadata": {},
   "outputs": [],
   "source": [
    "## Plot rewards across days on linear track\n",
    "fig = pf.plot_behavior_across_days(lin_df, x_var='day', y_var='rewards', groupby_var=['day', 'sex'], plot_transitions=None,\n",
    "                                   marker_color=mf_colors, avg_color=avg_color, expert_line=False, chance=False, symbols=['circle', 'circle'],\n",
    "                                   x_title='Day', y_title='Rewards', titles=['Linear Track'], height=500, width=500)\n",
    "fig.show()"
   ]
  },
  {
   "cell_type": "markdown",
   "id": "c1187dfb",
   "metadata": {},
   "source": [
    "### Circle track - lick accuracy and rewards."
   ]
  },
  {
   "cell_type": "code",
   "execution_count": null,
   "id": "9ce8f189",
   "metadata": {},
   "outputs": [],
   "source": [
    "circletrack_results = {'mouse': [], 'sex': [], 'group': [], 'day': [], 'session': [], 'lick_accuracy': [], 'rewards': []}\n",
    "for mouse in os.listdir(circle_path):\n",
    "    mouse_path = pjoin(circle_path, mouse)\n",
    "    sex = 'Male' if mouse in male_mice else 'Female'\n",
    "    group = 'Two-context' if mouse in control_mice else 'Multi-context'\n",
    "    for idx, session in enumerate(os.listdir(mouse_path)):\n",
    "        behav = pd.read_feather(pjoin(mouse_path, f'{session}'))\n",
    "        behav = behav[~behav['probe']]\n",
    "        reward_one, reward_two = np.unique(behav['reward_one'])[0], np.unique(behav['reward_two'])[0]\n",
    "        pc = ctb.lick_accuracy(behav, port_list=[reward_one, reward_two], lick_threshold=5, by_trials=False)\n",
    "        circletrack_results['mouse'].append(mouse)\n",
    "        circletrack_results['sex'].append(sex)\n",
    "        circletrack_results['group'].append(group)\n",
    "        circletrack_results['day'].append(idx+1)\n",
    "        circletrack_results['session'].append(np.unique(behav['session'])[0])\n",
    "        circletrack_results['lick_accuracy'].append(pc)\n",
    "        circletrack_results['rewards'].append(np.sum(behav['water']))\n",
    "ct_df = pd.DataFrame(circletrack_results)"
   ]
  },
  {
   "cell_type": "code",
   "execution_count": null,
   "id": "14646c0c",
   "metadata": {},
   "outputs": [],
   "source": [
    "## Plot lick accuracy across days for control vs experimental\n",
    "fig = pf.plot_behavior_across_days(ct_df, x_var='day', y_var='lick_accuracy', groupby_var=['day', 'group'], plot_transitions=[5.5, 10.5, 15.5], \n",
    "                                   transition_color=['darkgrey', 'darkgrey', 'darkgrey'], symbols=['circle', 'circle'],\n",
    "                                   marker_color=ce_colors, avg_color=avg_color, expert_line=False, chance=True, plot_datapoints=True, datapoint_type='lines',\n",
    "                                   x_title='Day', y_title='Lick Accuracy (%)', titles=[''], height=500, width=500)\n",
    "fig.update_yaxes(range=[0, 100])\n",
    "fig.show()"
   ]
  },
  {
   "cell_type": "code",
   "execution_count": null,
   "id": "14f2bdd3",
   "metadata": {},
   "outputs": [],
   "source": [
    "## Plot rewards across days for control vs experimental\n",
    "fig = pf.plot_behavior_across_days(ct_df, x_var='day', y_var='rewards', groupby_var=['day', 'group'], plot_transitions=[5.5, 10.5, 15.5], \n",
    "                                   transition_color=['darkgrey', 'darkgrey', 'darkgrey'], symbols=['circle', 'circle'],\n",
    "                                   marker_color=ce_colors, avg_color=avg_color, expert_line=False, chance=False, plot_datapoints=True, datapoint_type='lines',\n",
    "                                   x_title='Day', y_title='Rewards', titles=[''], height=500, width=500)\n",
    "fig.show()"
   ]
  },
  {
   "cell_type": "markdown",
   "id": "acc6ad86",
   "metadata": {},
   "source": [
    "### Lick accuracy across trials."
   ]
  },
  {
   "cell_type": "code",
   "execution_count": null,
   "id": "886dc8fa",
   "metadata": {},
   "outputs": [],
   "source": [
    "bin_size = 4\n",
    "trial_res = {'mouse': [], 'sex': [], 'group': [], 'day': [], 'session': [], 'session_two': [], 'trial': [], 'lick_acc': []}\n",
    "for mouse in os.listdir(circle_path):\n",
    "    mouse_path = pjoin(circle_path, mouse)\n",
    "    sex = 'Male' if mouse in male_mice else 'Female'\n",
    "    group = 'Two-context' if mouse in control_mice else 'Multi-context'\n",
    "    for idx, session in enumerate(os.listdir(mouse_path)):\n",
    "        behav = pd.read_feather(pjoin(mouse_path, f'{session}'))\n",
    "        reward_one, reward_two = behav['reward_one'].unique()[0], behav['reward_two'].unique()[0]\n",
    "        trial_acc = ctb.lick_accuracy(behav, port_list=[reward_one, reward_two], lick_threshold=5, by_trials=True)\n",
    "        \n",
    "        if bin_size > 0:\n",
    "            binned_acc = ctb.bin_data(trial_acc, bin_size)\n",
    "        else:\n",
    "            binned_acc = trial_acc\n",
    "\n",
    "        for trial, val in enumerate(binned_acc):\n",
    "            trial_res['mouse'].append(mouse)\n",
    "            trial_res['sex'].append(sex)\n",
    "            trial_res['group'].append(group)\n",
    "            trial_res['day'].append(idx+1)\n",
    "            trial_res['session'].append(behav['session'].unique()[0])\n",
    "            trial_res['session_two'].append(behav['session_two'].unique()[0])\n",
    "            trial_res['trial'].append(trial+1)\n",
    "            trial_res['lick_acc'].append(val)\n",
    "trial_df = pd.DataFrame(trial_res)\n",
    "avg_acc = trial_df.groupby(['group', 'day', 'session', 'trial'], as_index=False).agg({'lick_acc': ['mean', 'sem']})\n",
    "avg_acc_mf = trial_df.groupby(['group', 'day', 'session', 'sex', 'trial'], as_index=False).agg({'lick_acc': ['mean', 'sem']})"
   ]
  },
  {
   "cell_type": "code",
   "execution_count": null,
   "id": "5c2fb6d3",
   "metadata": {},
   "outputs": [],
   "source": [
    "## Plot trial accuracy for each day for experimental mice\n",
    "fig = pf.custom_graph_template(x_title='', y_title='', rows=4, columns=5, titles=experimental_sessions, height=1000, width=1000,\n",
    "                               shared_y=True, shared_x=True)\n",
    "for group in avg_acc['group'].unique():\n",
    "    if group == 'Two-context':\n",
    "        pass \n",
    "    else:\n",
    "        gdata = avg_acc[avg_acc['group'] == group]\n",
    "        for idx, day in enumerate(gdata['day'].unique()):\n",
    "            day_data = gdata[gdata['day'] == day]\n",
    "\n",
    "            if idx < 5:\n",
    "                row, col = 1, idx + 1\n",
    "            elif (idx >= 5) & (idx < 10):\n",
    "                row, col = 2, idx - 4\n",
    "            elif (idx >= 10) & (idx < 15):\n",
    "                row, col = 3, idx - 9\n",
    "            else:\n",
    "                row, col = 4, idx - 14\n",
    "\n",
    "            x_data = np.arange(1, np.array(day_data['trial'])[-1]*bin_size, bin_size)\n",
    "            upper = day_data['lick_acc']['mean'] + day_data['lick_acc']['sem']\n",
    "            lower = day_data['lick_acc']['mean'] - day_data['lick_acc']['sem']\n",
    "\n",
    "            fig.add_trace(go.Scatter(x=x_data, y=day_data['lick_acc']['mean'], mode='lines', line_color=ce_colors_dict[group], showlegend=False), row=row, col=col)\n",
    "            fig.add_trace(go.Scatter(x=x_data, y=upper, mode='lines', marker=dict(color=error_color[group]),\n",
    "                                    name='Upper Bound', line=dict(width=0), showlegend=False), row=row, col=col)\n",
    "            fig.add_trace(go.Scatter(x=x_data, y=lower, mode='lines', marker=dict(color=error_color[group]),\n",
    "                                    name='Lower Bound', line=dict(width=0), showlegend=False, fillcolor=error_color[group], fill='tonexty'), row=row, col=col)\n",
    "                             \n",
    "fig.add_hline(y=25, line_width=1, line_dash='dash', line_color=chance_color, opacity=1)\n",
    "fig.update_yaxes(title='Lick Accuracy (%)', col=1)\n",
    "fig.update_xaxes(title='Trial', row=4)\n",
    "fig.update_yaxes(range=[0, 100])\n",
    "fig.show()"
   ]
  },
  {
   "cell_type": "code",
   "execution_count": null,
   "id": "c9037f5d",
   "metadata": {},
   "outputs": [],
   "source": [
    "## Plot trial accuracy for each day for experimental mice\n",
    "fig = pf.custom_graph_template(x_title='', y_title='', rows=4, columns=5, titles=control_sessions, height=1000, width=1000,\n",
    "                               shared_y=True, shared_x=True)\n",
    "for group in avg_acc['group'].unique():\n",
    "    if group == 'Multi-context':\n",
    "        pass \n",
    "    else:\n",
    "        gdata = avg_acc[avg_acc['group'] == group]\n",
    "        for idx, day in enumerate(gdata['day'].unique()):\n",
    "            day_data = gdata[gdata['day'] == day]\n",
    "\n",
    "            if idx < 5:\n",
    "                row, col = 1, idx + 1\n",
    "            elif (idx >= 5) & (idx < 10):\n",
    "                row, col = 2, idx - 4\n",
    "            elif (idx >= 10) & (idx < 15):\n",
    "                row, col = 3, idx - 9\n",
    "            else:\n",
    "                row, col = 4, idx - 14\n",
    "\n",
    "            x_data = np.arange(1, np.array(day_data['trial'])[-1]*bin_size, bin_size)\n",
    "            upper = day_data['lick_acc']['mean'] + day_data['lick_acc']['sem']\n",
    "            lower = day_data['lick_acc']['mean'] - day_data['lick_acc']['sem']\n",
    "\n",
    "            fig.add_trace(go.Scatter(x=x_data, y=day_data['lick_acc']['mean'], mode='lines', line_color=ce_colors_dict[group], showlegend=False), row=row, col=col)\n",
    "            fig.add_trace(go.Scatter(x=x_data, y=upper, mode='lines', marker=dict(color=error_color[group]),\n",
    "                                    name='Upper Bound', line=dict(width=0), showlegend=False), row=row, col=col)\n",
    "            fig.add_trace(go.Scatter(x=x_data, y=lower, mode='lines', marker=dict(color=error_color[group]),\n",
    "                                    name='Lower Bound', line=dict(width=0), showlegend=False, fillcolor=error_color[group], fill='tonexty'), row=row, col=col)\n",
    "                             \n",
    "fig.add_hline(y=25, line_width=1, line_dash='dash', line_color=chance_color, opacity=1)\n",
    "fig.update_yaxes(title='Lick Accuracy (%)', col=1)\n",
    "fig.update_xaxes(title='Trial', row=4)\n",
    "fig.update_yaxes(range=[0, 100])\n",
    "fig.show()"
   ]
  }
 ],
 "metadata": {
  "kernelspec": {
   "display_name": "calcium_analysis",
   "language": "python",
   "name": "python3"
  },
  "language_info": {
   "codemirror_mode": {
    "name": "ipython",
    "version": 3
   },
   "file_extension": ".py",
   "mimetype": "text/x-python",
   "name": "python",
   "nbconvert_exporter": "python",
   "pygments_lexer": "ipython3",
   "version": "3.13.2"
  }
 },
 "nbformat": 4,
 "nbformat_minor": 5
}
