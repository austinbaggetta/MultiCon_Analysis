{
 "cells": [
  {
   "cell_type": "code",
   "execution_count": 1,
   "metadata": {},
   "outputs": [
    {
     "name": "stderr",
     "output_type": "stream",
     "text": [
      "/home/austinbaggetta/.conda/envs/calcium/lib/python3.10/site-packages/outdated/utils.py:14: OutdatedPackageWarning: The package pingouin is out of date. Your version is 0.5.2, the latest is 0.5.5.\n",
      "Set the environment variable OUTDATED_IGNORE=1 to disable these warnings.\n",
      "  return warn(\n"
     ]
    }
   ],
   "source": [
    "%load_ext autoreload\n",
    "%autoreload 2\n",
    "import os\n",
    "import sys\n",
    "import numpy as np\n",
    "import pandas as pd\n",
    "import xarray as xr\n",
    "from os.path import join as pjoin\n",
    "from tqdm.notebook import tqdm\n",
    "import plotly.graph_objects as go\n",
    "import pingouin as pg\n",
    "from scipy.stats import pearsonr, spearmanr, zscore\n",
    "from natsort import natsorted\n",
    "import itertools\n",
    "\n",
    "sys.path.append('/home/austinbaggetta/csstorage3/CircleTrack/CircleTrackAnalysis')\n",
    "import circletrack_behavior as ctb\n",
    "import circletrack_neural as ctn\n",
    "import place_cells as pc\n",
    "import plotting_functions as pf"
   ]
  },
  {
   "cell_type": "code",
   "execution_count": 7,
   "metadata": {},
   "outputs": [
    {
     "data": {
      "text/plain": [
       "<xarray.core.options.set_options at 0x7fa0fa913c70>"
      ]
     },
     "execution_count": 7,
     "metadata": {},
     "output_type": "execute_result"
    }
   ],
   "source": [
    "## Settings\n",
    "project_folder = ['MultiCon_Imaging']\n",
    "experiment_folders = ['MultiCon_Imaging4', 'MultiCon_Imaging5']\n",
    "dpath = f'../../{project_folder[0]}'\n",
    "fig_path = f'../../../Manuscripts/MultiCon/intermediate_plots'\n",
    "chance_color = 'darkgrey'\n",
    "avg_color = 'midnightblue'\n",
    "subject_color = 'darkgrey'\n",
    "ce_colors = ['darkgrey', 'midnightblue']\n",
    "ce_color_dict = {'Control': 'darkgrey', 'Experimental': 'midnightblue'}\n",
    "mouse_colors = ['midnightblue', 'darkred', 'darkorchid', 'darkturquoise']\n",
    "male_mice = ['mc42', 'mc43', 'mc44', 'mc46']\n",
    "control_mice = ['mc46', 'mc47', 'mc49', 'mc52']\n",
    "imaging4 = ['mc42', 'mc43']\n",
    "session_list = [f'A{x}' for x in np.arange(1, 6)] + [f'B{x}' for x in np.arange(1, 6)] + [f'C{x}' for x in np.arange(1, 6)] + [f'D{x}' for x in np.arange(1, 6)]\n",
    "control_list = [f'A{x}' for x in np.arange(1, 16)] + [f'B{x}' for x in np.arange(1, 6)]\n",
    "day_list = [f'{x}' for x in np.arange(1, 21)]\n",
    "bin_size = 0.4\n",
    "velocity_thresh = 14\n",
    "centroid_distance = 5\n",
    "data_of_interest = 'aligned_minian' ## one of behav, aligned_minian, lin_behav\n",
    "\n",
    "if not os.path.exists(fig_path):\n",
    "    os.makedirs(fig_path)\n",
    "\n",
    "xr.set_options(keep_attrs=True)"
   ]
  },
  {
   "cell_type": "markdown",
   "metadata": {},
   "source": [
    "### Calculate within-session stability of the first half vs second half and odd trials vs even trials (only correct direction trials). Uses all cells."
   ]
  },
  {
   "cell_type": "code",
   "execution_count": 148,
   "metadata": {},
   "outputs": [
    {
     "name": "stderr",
     "output_type": "stream",
     "text": [
      "/home/austinbaggetta/csstorage3/CircleTrack/CircleTrackAnalysis/place_cells.py:46: RuntimeWarning:\n",
      "\n",
      "invalid value encountered in divide\n",
      "\n",
      "/home/austinbaggetta/.conda/envs/calcium/lib/python3.10/site-packages/scipy/stats/_stats_py.py:4424: ConstantInputWarning:\n",
      "\n",
      "An input array is constant; the correlation coefficient is not defined.\n",
      "\n",
      "/home/austinbaggetta/csstorage3/CircleTrack/CircleTrackAnalysis/place_cells.py:46: RuntimeWarning:\n",
      "\n",
      "invalid value encountered in divide\n",
      "\n",
      "/home/austinbaggetta/.conda/envs/calcium/lib/python3.10/site-packages/scipy/stats/_stats_py.py:4424: ConstantInputWarning:\n",
      "\n",
      "An input array is constant; the correlation coefficient is not defined.\n",
      "\n",
      "/home/austinbaggetta/.conda/envs/calcium/lib/python3.10/site-packages/scipy/stats/_stats_py.py:4424: ConstantInputWarning:\n",
      "\n",
      "An input array is constant; the correlation coefficient is not defined.\n",
      "\n",
      "/home/austinbaggetta/csstorage3/CircleTrack/CircleTrackAnalysis/place_cells.py:46: RuntimeWarning:\n",
      "\n",
      "invalid value encountered in divide\n",
      "\n",
      "/home/austinbaggetta/.conda/envs/calcium/lib/python3.10/site-packages/scipy/stats/_stats_py.py:4424: ConstantInputWarning:\n",
      "\n",
      "An input array is constant; the correlation coefficient is not defined.\n",
      "\n",
      "/home/austinbaggetta/.conda/envs/calcium/lib/python3.10/site-packages/scipy/stats/_stats_py.py:4424: ConstantInputWarning:\n",
      "\n",
      "An input array is constant; the correlation coefficient is not defined.\n",
      "\n",
      "/home/austinbaggetta/csstorage3/CircleTrack/CircleTrackAnalysis/place_cells.py:46: RuntimeWarning:\n",
      "\n",
      "invalid value encountered in divide\n",
      "\n",
      "/home/austinbaggetta/.conda/envs/calcium/lib/python3.10/site-packages/scipy/stats/_stats_py.py:4424: ConstantInputWarning:\n",
      "\n",
      "An input array is constant; the correlation coefficient is not defined.\n",
      "\n",
      "/home/austinbaggetta/.conda/envs/calcium/lib/python3.10/site-packages/scipy/stats/_stats_py.py:4424: ConstantInputWarning:\n",
      "\n",
      "An input array is constant; the correlation coefficient is not defined.\n",
      "\n",
      "/home/austinbaggetta/csstorage3/CircleTrack/CircleTrackAnalysis/place_cells.py:46: RuntimeWarning:\n",
      "\n",
      "invalid value encountered in divide\n",
      "\n",
      "/home/austinbaggetta/.conda/envs/calcium/lib/python3.10/site-packages/scipy/stats/_stats_py.py:4424: ConstantInputWarning:\n",
      "\n",
      "An input array is constant; the correlation coefficient is not defined.\n",
      "\n",
      "/home/austinbaggetta/.conda/envs/calcium/lib/python3.10/site-packages/scipy/stats/_stats_py.py:4424: ConstantInputWarning:\n",
      "\n",
      "An input array is constant; the correlation coefficient is not defined.\n",
      "\n",
      "/home/austinbaggetta/csstorage3/CircleTrack/CircleTrackAnalysis/place_cells.py:46: RuntimeWarning:\n",
      "\n",
      "invalid value encountered in divide\n",
      "\n",
      "/home/austinbaggetta/.conda/envs/calcium/lib/python3.10/site-packages/scipy/stats/_stats_py.py:4424: ConstantInputWarning:\n",
      "\n",
      "An input array is constant; the correlation coefficient is not defined.\n",
      "\n",
      "/home/austinbaggetta/.conda/envs/calcium/lib/python3.10/site-packages/scipy/stats/_stats_py.py:4424: ConstantInputWarning:\n",
      "\n",
      "An input array is constant; the correlation coefficient is not defined.\n",
      "\n",
      "/home/austinbaggetta/csstorage3/CircleTrack/CircleTrackAnalysis/place_cells.py:46: RuntimeWarning:\n",
      "\n",
      "invalid value encountered in divide\n",
      "\n",
      "/home/austinbaggetta/.conda/envs/calcium/lib/python3.10/site-packages/scipy/stats/_stats_py.py:4424: ConstantInputWarning:\n",
      "\n",
      "An input array is constant; the correlation coefficient is not defined.\n",
      "\n",
      "/home/austinbaggetta/.conda/envs/calcium/lib/python3.10/site-packages/scipy/stats/_stats_py.py:4424: ConstantInputWarning:\n",
      "\n",
      "An input array is constant; the correlation coefficient is not defined.\n",
      "\n",
      "/home/austinbaggetta/csstorage3/CircleTrack/CircleTrackAnalysis/place_cells.py:46: RuntimeWarning:\n",
      "\n",
      "invalid value encountered in divide\n",
      "\n",
      "/home/austinbaggetta/.conda/envs/calcium/lib/python3.10/site-packages/scipy/stats/_stats_py.py:4424: ConstantInputWarning:\n",
      "\n",
      "An input array is constant; the correlation coefficient is not defined.\n",
      "\n",
      "/home/austinbaggetta/.conda/envs/calcium/lib/python3.10/site-packages/scipy/stats/_stats_py.py:4424: ConstantInputWarning:\n",
      "\n",
      "An input array is constant; the correlation coefficient is not defined.\n",
      "\n",
      "/home/austinbaggetta/csstorage3/CircleTrack/CircleTrackAnalysis/place_cells.py:46: RuntimeWarning:\n",
      "\n",
      "invalid value encountered in divide\n",
      "\n",
      "/home/austinbaggetta/.conda/envs/calcium/lib/python3.10/site-packages/scipy/stats/_stats_py.py:4424: ConstantInputWarning:\n",
      "\n",
      "An input array is constant; the correlation coefficient is not defined.\n",
      "\n",
      "/home/austinbaggetta/.conda/envs/calcium/lib/python3.10/site-packages/scipy/stats/_stats_py.py:4424: ConstantInputWarning:\n",
      "\n",
      "An input array is constant; the correlation coefficient is not defined.\n",
      "\n",
      "/home/austinbaggetta/csstorage3/CircleTrack/CircleTrackAnalysis/place_cells.py:46: RuntimeWarning:\n",
      "\n",
      "invalid value encountered in divide\n",
      "\n",
      "/home/austinbaggetta/.conda/envs/calcium/lib/python3.10/site-packages/scipy/stats/_stats_py.py:4424: ConstantInputWarning:\n",
      "\n",
      "An input array is constant; the correlation coefficient is not defined.\n",
      "\n",
      "/home/austinbaggetta/.conda/envs/calcium/lib/python3.10/site-packages/scipy/stats/_stats_py.py:4424: ConstantInputWarning:\n",
      "\n",
      "An input array is constant; the correlation coefficient is not defined.\n",
      "\n",
      "/home/austinbaggetta/csstorage3/CircleTrack/CircleTrackAnalysis/place_cells.py:46: RuntimeWarning:\n",
      "\n",
      "invalid value encountered in divide\n",
      "\n",
      "/home/austinbaggetta/.conda/envs/calcium/lib/python3.10/site-packages/scipy/stats/_stats_py.py:4424: ConstantInputWarning:\n",
      "\n",
      "An input array is constant; the correlation coefficient is not defined.\n",
      "\n",
      "/home/austinbaggetta/.conda/envs/calcium/lib/python3.10/site-packages/scipy/stats/_stats_py.py:4424: ConstantInputWarning:\n",
      "\n",
      "An input array is constant; the correlation coefficient is not defined.\n",
      "\n",
      "/home/austinbaggetta/csstorage3/CircleTrack/CircleTrackAnalysis/place_cells.py:46: RuntimeWarning:\n",
      "\n",
      "invalid value encountered in divide\n",
      "\n",
      "/home/austinbaggetta/.conda/envs/calcium/lib/python3.10/site-packages/scipy/stats/_stats_py.py:4424: ConstantInputWarning:\n",
      "\n",
      "An input array is constant; the correlation coefficient is not defined.\n",
      "\n",
      "/home/austinbaggetta/.conda/envs/calcium/lib/python3.10/site-packages/scipy/stats/_stats_py.py:4424: ConstantInputWarning:\n",
      "\n",
      "An input array is constant; the correlation coefficient is not defined.\n",
      "\n",
      "/home/austinbaggetta/csstorage3/CircleTrack/CircleTrackAnalysis/place_cells.py:46: RuntimeWarning:\n",
      "\n",
      "invalid value encountered in divide\n",
      "\n",
      "/home/austinbaggetta/.conda/envs/calcium/lib/python3.10/site-packages/scipy/stats/_stats_py.py:4424: ConstantInputWarning:\n",
      "\n",
      "An input array is constant; the correlation coefficient is not defined.\n",
      "\n",
      "/home/austinbaggetta/.conda/envs/calcium/lib/python3.10/site-packages/scipy/stats/_stats_py.py:4424: ConstantInputWarning:\n",
      "\n",
      "An input array is constant; the correlation coefficient is not defined.\n",
      "\n",
      "/home/austinbaggetta/csstorage3/CircleTrack/CircleTrackAnalysis/place_cells.py:46: RuntimeWarning:\n",
      "\n",
      "invalid value encountered in divide\n",
      "\n",
      "/home/austinbaggetta/.conda/envs/calcium/lib/python3.10/site-packages/scipy/stats/_stats_py.py:4424: ConstantInputWarning:\n",
      "\n",
      "An input array is constant; the correlation coefficient is not defined.\n",
      "\n",
      "/home/austinbaggetta/.conda/envs/calcium/lib/python3.10/site-packages/scipy/stats/_stats_py.py:4424: ConstantInputWarning:\n",
      "\n",
      "An input array is constant; the correlation coefficient is not defined.\n",
      "\n",
      "/home/austinbaggetta/csstorage3/CircleTrack/CircleTrackAnalysis/place_cells.py:46: RuntimeWarning:\n",
      "\n",
      "invalid value encountered in divide\n",
      "\n",
      "/home/austinbaggetta/.conda/envs/calcium/lib/python3.10/site-packages/scipy/stats/_stats_py.py:4424: ConstantInputWarning:\n",
      "\n",
      "An input array is constant; the correlation coefficient is not defined.\n",
      "\n",
      "/home/austinbaggetta/.conda/envs/calcium/lib/python3.10/site-packages/scipy/stats/_stats_py.py:4424: ConstantInputWarning:\n",
      "\n",
      "An input array is constant; the correlation coefficient is not defined.\n",
      "\n",
      "/home/austinbaggetta/csstorage3/CircleTrack/CircleTrackAnalysis/place_cells.py:46: RuntimeWarning:\n",
      "\n",
      "invalid value encountered in divide\n",
      "\n",
      "/home/austinbaggetta/.conda/envs/calcium/lib/python3.10/site-packages/scipy/stats/_stats_py.py:4424: ConstantInputWarning:\n",
      "\n",
      "An input array is constant; the correlation coefficient is not defined.\n",
      "\n",
      "/home/austinbaggetta/.conda/envs/calcium/lib/python3.10/site-packages/scipy/stats/_stats_py.py:4424: ConstantInputWarning:\n",
      "\n",
      "An input array is constant; the correlation coefficient is not defined.\n",
      "\n",
      "/home/austinbaggetta/csstorage3/CircleTrack/CircleTrackAnalysis/place_cells.py:46: RuntimeWarning:\n",
      "\n",
      "invalid value encountered in divide\n",
      "\n",
      "/home/austinbaggetta/.conda/envs/calcium/lib/python3.10/site-packages/scipy/stats/_stats_py.py:4424: ConstantInputWarning:\n",
      "\n",
      "An input array is constant; the correlation coefficient is not defined.\n",
      "\n",
      "/home/austinbaggetta/.conda/envs/calcium/lib/python3.10/site-packages/scipy/stats/_stats_py.py:4424: ConstantInputWarning:\n",
      "\n",
      "An input array is constant; the correlation coefficient is not defined.\n",
      "\n",
      "/home/austinbaggetta/csstorage3/CircleTrack/CircleTrackAnalysis/place_cells.py:46: RuntimeWarning:\n",
      "\n",
      "invalid value encountered in divide\n",
      "\n",
      "/home/austinbaggetta/.conda/envs/calcium/lib/python3.10/site-packages/scipy/stats/_stats_py.py:4424: ConstantInputWarning:\n",
      "\n",
      "An input array is constant; the correlation coefficient is not defined.\n",
      "\n",
      "/home/austinbaggetta/.conda/envs/calcium/lib/python3.10/site-packages/scipy/stats/_stats_py.py:4424: ConstantInputWarning:\n",
      "\n",
      "An input array is constant; the correlation coefficient is not defined.\n",
      "\n",
      "/home/austinbaggetta/csstorage3/CircleTrack/CircleTrackAnalysis/place_cells.py:46: RuntimeWarning:\n",
      "\n",
      "invalid value encountered in divide\n",
      "\n",
      "/home/austinbaggetta/.conda/envs/calcium/lib/python3.10/site-packages/scipy/stats/_stats_py.py:4424: ConstantInputWarning:\n",
      "\n",
      "An input array is constant; the correlation coefficient is not defined.\n",
      "\n",
      "/home/austinbaggetta/.conda/envs/calcium/lib/python3.10/site-packages/scipy/stats/_stats_py.py:4424: ConstantInputWarning:\n",
      "\n",
      "An input array is constant; the correlation coefficient is not defined.\n",
      "\n",
      "/home/austinbaggetta/csstorage3/CircleTrack/CircleTrackAnalysis/place_cells.py:46: RuntimeWarning:\n",
      "\n",
      "invalid value encountered in divide\n",
      "\n",
      "/home/austinbaggetta/.conda/envs/calcium/lib/python3.10/site-packages/scipy/stats/_stats_py.py:4424: ConstantInputWarning:\n",
      "\n",
      "An input array is constant; the correlation coefficient is not defined.\n",
      "\n",
      "/home/austinbaggetta/.conda/envs/calcium/lib/python3.10/site-packages/scipy/stats/_stats_py.py:4424: ConstantInputWarning:\n",
      "\n",
      "An input array is constant; the correlation coefficient is not defined.\n",
      "\n",
      "/home/austinbaggetta/csstorage3/CircleTrack/CircleTrackAnalysis/place_cells.py:46: RuntimeWarning:\n",
      "\n",
      "invalid value encountered in divide\n",
      "\n",
      "/home/austinbaggetta/.conda/envs/calcium/lib/python3.10/site-packages/scipy/stats/_stats_py.py:4424: ConstantInputWarning:\n",
      "\n",
      "An input array is constant; the correlation coefficient is not defined.\n",
      "\n",
      "/home/austinbaggetta/.conda/envs/calcium/lib/python3.10/site-packages/scipy/stats/_stats_py.py:4424: ConstantInputWarning:\n",
      "\n",
      "An input array is constant; the correlation coefficient is not defined.\n",
      "\n",
      "/home/austinbaggetta/csstorage3/CircleTrack/CircleTrackAnalysis/place_cells.py:46: RuntimeWarning:\n",
      "\n",
      "invalid value encountered in divide\n",
      "\n",
      "/home/austinbaggetta/.conda/envs/calcium/lib/python3.10/site-packages/scipy/stats/_stats_py.py:4424: ConstantInputWarning:\n",
      "\n",
      "An input array is constant; the correlation coefficient is not defined.\n",
      "\n",
      "/home/austinbaggetta/.conda/envs/calcium/lib/python3.10/site-packages/scipy/stats/_stats_py.py:4424: ConstantInputWarning:\n",
      "\n",
      "An input array is constant; the correlation coefficient is not defined.\n",
      "\n",
      "/home/austinbaggetta/csstorage3/CircleTrack/CircleTrackAnalysis/place_cells.py:46: RuntimeWarning:\n",
      "\n",
      "invalid value encountered in divide\n",
      "\n",
      "/home/austinbaggetta/.conda/envs/calcium/lib/python3.10/site-packages/scipy/stats/_stats_py.py:4424: ConstantInputWarning:\n",
      "\n",
      "An input array is constant; the correlation coefficient is not defined.\n",
      "\n",
      "/home/austinbaggetta/.conda/envs/calcium/lib/python3.10/site-packages/scipy/stats/_stats_py.py:4424: ConstantInputWarning:\n",
      "\n",
      "An input array is constant; the correlation coefficient is not defined.\n",
      "\n",
      "/home/austinbaggetta/csstorage3/CircleTrack/CircleTrackAnalysis/place_cells.py:46: RuntimeWarning:\n",
      "\n",
      "invalid value encountered in divide\n",
      "\n",
      "/home/austinbaggetta/.conda/envs/calcium/lib/python3.10/site-packages/scipy/stats/_stats_py.py:4424: ConstantInputWarning:\n",
      "\n",
      "An input array is constant; the correlation coefficient is not defined.\n",
      "\n",
      "/home/austinbaggetta/.conda/envs/calcium/lib/python3.10/site-packages/scipy/stats/_stats_py.py:4424: ConstantInputWarning:\n",
      "\n",
      "An input array is constant; the correlation coefficient is not defined.\n",
      "\n",
      "/home/austinbaggetta/csstorage3/CircleTrack/CircleTrackAnalysis/place_cells.py:46: RuntimeWarning:\n",
      "\n",
      "invalid value encountered in divide\n",
      "\n",
      "/home/austinbaggetta/.conda/envs/calcium/lib/python3.10/site-packages/scipy/stats/_stats_py.py:4424: ConstantInputWarning:\n",
      "\n",
      "An input array is constant; the correlation coefficient is not defined.\n",
      "\n",
      "/home/austinbaggetta/.conda/envs/calcium/lib/python3.10/site-packages/scipy/stats/_stats_py.py:4424: ConstantInputWarning:\n",
      "\n",
      "An input array is constant; the correlation coefficient is not defined.\n",
      "\n",
      "/home/austinbaggetta/csstorage3/CircleTrack/CircleTrackAnalysis/place_cells.py:46: RuntimeWarning:\n",
      "\n",
      "invalid value encountered in divide\n",
      "\n",
      "/home/austinbaggetta/.conda/envs/calcium/lib/python3.10/site-packages/scipy/stats/_stats_py.py:4424: ConstantInputWarning:\n",
      "\n",
      "An input array is constant; the correlation coefficient is not defined.\n",
      "\n",
      "/home/austinbaggetta/.conda/envs/calcium/lib/python3.10/site-packages/scipy/stats/_stats_py.py:4424: ConstantInputWarning:\n",
      "\n",
      "An input array is constant; the correlation coefficient is not defined.\n",
      "\n",
      "/home/austinbaggetta/csstorage3/CircleTrack/CircleTrackAnalysis/place_cells.py:46: RuntimeWarning:\n",
      "\n",
      "invalid value encountered in divide\n",
      "\n",
      "/home/austinbaggetta/.conda/envs/calcium/lib/python3.10/site-packages/scipy/stats/_stats_py.py:4424: ConstantInputWarning:\n",
      "\n",
      "An input array is constant; the correlation coefficient is not defined.\n",
      "\n",
      "/home/austinbaggetta/.conda/envs/calcium/lib/python3.10/site-packages/scipy/stats/_stats_py.py:4424: ConstantInputWarning:\n",
      "\n",
      "An input array is constant; the correlation coefficient is not defined.\n",
      "\n",
      "/home/austinbaggetta/csstorage3/CircleTrack/CircleTrackAnalysis/place_cells.py:46: RuntimeWarning:\n",
      "\n",
      "invalid value encountered in divide\n",
      "\n",
      "/home/austinbaggetta/.conda/envs/calcium/lib/python3.10/site-packages/scipy/stats/_stats_py.py:4424: ConstantInputWarning:\n",
      "\n",
      "An input array is constant; the correlation coefficient is not defined.\n",
      "\n",
      "/home/austinbaggetta/.conda/envs/calcium/lib/python3.10/site-packages/scipy/stats/_stats_py.py:4424: ConstantInputWarning:\n",
      "\n",
      "An input array is constant; the correlation coefficient is not defined.\n",
      "\n",
      "/home/austinbaggetta/csstorage3/CircleTrack/CircleTrackAnalysis/place_cells.py:46: RuntimeWarning:\n",
      "\n",
      "invalid value encountered in divide\n",
      "\n",
      "/home/austinbaggetta/.conda/envs/calcium/lib/python3.10/site-packages/scipy/stats/_stats_py.py:4424: ConstantInputWarning:\n",
      "\n",
      "An input array is constant; the correlation coefficient is not defined.\n",
      "\n",
      "/home/austinbaggetta/.conda/envs/calcium/lib/python3.10/site-packages/scipy/stats/_stats_py.py:4424: ConstantInputWarning:\n",
      "\n",
      "An input array is constant; the correlation coefficient is not defined.\n",
      "\n",
      "/home/austinbaggetta/csstorage3/CircleTrack/CircleTrackAnalysis/place_cells.py:46: RuntimeWarning:\n",
      "\n",
      "invalid value encountered in divide\n",
      "\n",
      "/home/austinbaggetta/.conda/envs/calcium/lib/python3.10/site-packages/scipy/stats/_stats_py.py:4424: ConstantInputWarning:\n",
      "\n",
      "An input array is constant; the correlation coefficient is not defined.\n",
      "\n",
      "/home/austinbaggetta/.conda/envs/calcium/lib/python3.10/site-packages/scipy/stats/_stats_py.py:4424: ConstantInputWarning:\n",
      "\n",
      "An input array is constant; the correlation coefficient is not defined.\n",
      "\n",
      "/home/austinbaggetta/csstorage3/CircleTrack/CircleTrackAnalysis/place_cells.py:46: RuntimeWarning:\n",
      "\n",
      "invalid value encountered in divide\n",
      "\n",
      "/home/austinbaggetta/.conda/envs/calcium/lib/python3.10/site-packages/scipy/stats/_stats_py.py:4424: ConstantInputWarning:\n",
      "\n",
      "An input array is constant; the correlation coefficient is not defined.\n",
      "\n",
      "/home/austinbaggetta/.conda/envs/calcium/lib/python3.10/site-packages/scipy/stats/_stats_py.py:4424: ConstantInputWarning:\n",
      "\n",
      "An input array is constant; the correlation coefficient is not defined.\n",
      "\n",
      "/home/austinbaggetta/csstorage3/CircleTrack/CircleTrackAnalysis/place_cells.py:46: RuntimeWarning:\n",
      "\n",
      "invalid value encountered in divide\n",
      "\n",
      "/home/austinbaggetta/.conda/envs/calcium/lib/python3.10/site-packages/scipy/stats/_stats_py.py:4424: ConstantInputWarning:\n",
      "\n",
      "An input array is constant; the correlation coefficient is not defined.\n",
      "\n",
      "/home/austinbaggetta/.conda/envs/calcium/lib/python3.10/site-packages/scipy/stats/_stats_py.py:4424: ConstantInputWarning:\n",
      "\n",
      "An input array is constant; the correlation coefficient is not defined.\n",
      "\n",
      "/home/austinbaggetta/csstorage3/CircleTrack/CircleTrackAnalysis/place_cells.py:46: RuntimeWarning:\n",
      "\n",
      "invalid value encountered in divide\n",
      "\n",
      "/home/austinbaggetta/.conda/envs/calcium/lib/python3.10/site-packages/scipy/stats/_stats_py.py:4424: ConstantInputWarning:\n",
      "\n",
      "An input array is constant; the correlation coefficient is not defined.\n",
      "\n",
      "/home/austinbaggetta/.conda/envs/calcium/lib/python3.10/site-packages/scipy/stats/_stats_py.py:4424: ConstantInputWarning:\n",
      "\n",
      "An input array is constant; the correlation coefficient is not defined.\n",
      "\n",
      "/home/austinbaggetta/csstorage3/CircleTrack/CircleTrackAnalysis/place_cells.py:46: RuntimeWarning:\n",
      "\n",
      "invalid value encountered in divide\n",
      "\n",
      "/home/austinbaggetta/.conda/envs/calcium/lib/python3.10/site-packages/scipy/stats/_stats_py.py:4424: ConstantInputWarning:\n",
      "\n",
      "An input array is constant; the correlation coefficient is not defined.\n",
      "\n",
      "/home/austinbaggetta/.conda/envs/calcium/lib/python3.10/site-packages/scipy/stats/_stats_py.py:4424: ConstantInputWarning:\n",
      "\n",
      "An input array is constant; the correlation coefficient is not defined.\n",
      "\n",
      "/home/austinbaggetta/csstorage3/CircleTrack/CircleTrackAnalysis/place_cells.py:46: RuntimeWarning:\n",
      "\n",
      "invalid value encountered in divide\n",
      "\n",
      "/home/austinbaggetta/.conda/envs/calcium/lib/python3.10/site-packages/scipy/stats/_stats_py.py:4424: ConstantInputWarning:\n",
      "\n",
      "An input array is constant; the correlation coefficient is not defined.\n",
      "\n",
      "/home/austinbaggetta/.conda/envs/calcium/lib/python3.10/site-packages/scipy/stats/_stats_py.py:4424: ConstantInputWarning:\n",
      "\n",
      "An input array is constant; the correlation coefficient is not defined.\n",
      "\n",
      "/home/austinbaggetta/csstorage3/CircleTrack/CircleTrackAnalysis/place_cells.py:46: RuntimeWarning:\n",
      "\n",
      "invalid value encountered in divide\n",
      "\n",
      "/home/austinbaggetta/.conda/envs/calcium/lib/python3.10/site-packages/scipy/stats/_stats_py.py:4424: ConstantInputWarning:\n",
      "\n",
      "An input array is constant; the correlation coefficient is not defined.\n",
      "\n",
      "/home/austinbaggetta/.conda/envs/calcium/lib/python3.10/site-packages/scipy/stats/_stats_py.py:4424: ConstantInputWarning:\n",
      "\n",
      "An input array is constant; the correlation coefficient is not defined.\n",
      "\n",
      "/home/austinbaggetta/csstorage3/CircleTrack/CircleTrackAnalysis/place_cells.py:46: RuntimeWarning:\n",
      "\n",
      "invalid value encountered in divide\n",
      "\n",
      "/home/austinbaggetta/.conda/envs/calcium/lib/python3.10/site-packages/scipy/stats/_stats_py.py:4424: ConstantInputWarning:\n",
      "\n",
      "An input array is constant; the correlation coefficient is not defined.\n",
      "\n",
      "/home/austinbaggetta/.conda/envs/calcium/lib/python3.10/site-packages/scipy/stats/_stats_py.py:4424: ConstantInputWarning:\n",
      "\n",
      "An input array is constant; the correlation coefficient is not defined.\n",
      "\n",
      "/home/austinbaggetta/csstorage3/CircleTrack/CircleTrackAnalysis/place_cells.py:46: RuntimeWarning:\n",
      "\n",
      "invalid value encountered in divide\n",
      "\n",
      "/home/austinbaggetta/.conda/envs/calcium/lib/python3.10/site-packages/scipy/stats/_stats_py.py:4424: ConstantInputWarning:\n",
      "\n",
      "An input array is constant; the correlation coefficient is not defined.\n",
      "\n",
      "/home/austinbaggetta/.conda/envs/calcium/lib/python3.10/site-packages/scipy/stats/_stats_py.py:4424: ConstantInputWarning:\n",
      "\n",
      "An input array is constant; the correlation coefficient is not defined.\n",
      "\n",
      "/home/austinbaggetta/csstorage3/CircleTrack/CircleTrackAnalysis/place_cells.py:46: RuntimeWarning:\n",
      "\n",
      "invalid value encountered in divide\n",
      "\n",
      "/home/austinbaggetta/.conda/envs/calcium/lib/python3.10/site-packages/scipy/stats/_stats_py.py:4424: ConstantInputWarning:\n",
      "\n",
      "An input array is constant; the correlation coefficient is not defined.\n",
      "\n",
      "/home/austinbaggetta/.conda/envs/calcium/lib/python3.10/site-packages/scipy/stats/_stats_py.py:4424: ConstantInputWarning:\n",
      "\n",
      "An input array is constant; the correlation coefficient is not defined.\n",
      "\n",
      "/home/austinbaggetta/csstorage3/CircleTrack/CircleTrackAnalysis/place_cells.py:46: RuntimeWarning:\n",
      "\n",
      "invalid value encountered in divide\n",
      "\n",
      "/home/austinbaggetta/.conda/envs/calcium/lib/python3.10/site-packages/scipy/stats/_stats_py.py:4424: ConstantInputWarning:\n",
      "\n",
      "An input array is constant; the correlation coefficient is not defined.\n",
      "\n",
      "/home/austinbaggetta/.conda/envs/calcium/lib/python3.10/site-packages/scipy/stats/_stats_py.py:4424: ConstantInputWarning:\n",
      "\n",
      "An input array is constant; the correlation coefficient is not defined.\n",
      "\n",
      "/home/austinbaggetta/csstorage3/CircleTrack/CircleTrackAnalysis/place_cells.py:46: RuntimeWarning:\n",
      "\n",
      "invalid value encountered in divide\n",
      "\n",
      "/home/austinbaggetta/.conda/envs/calcium/lib/python3.10/site-packages/scipy/stats/_stats_py.py:4424: ConstantInputWarning:\n",
      "\n",
      "An input array is constant; the correlation coefficient is not defined.\n",
      "\n",
      "/home/austinbaggetta/.conda/envs/calcium/lib/python3.10/site-packages/scipy/stats/_stats_py.py:4424: ConstantInputWarning:\n",
      "\n",
      "An input array is constant; the correlation coefficient is not defined.\n",
      "\n",
      "/home/austinbaggetta/csstorage3/CircleTrack/CircleTrackAnalysis/place_cells.py:46: RuntimeWarning:\n",
      "\n",
      "invalid value encountered in divide\n",
      "\n",
      "/home/austinbaggetta/.conda/envs/calcium/lib/python3.10/site-packages/scipy/stats/_stats_py.py:4424: ConstantInputWarning:\n",
      "\n",
      "An input array is constant; the correlation coefficient is not defined.\n",
      "\n",
      "/home/austinbaggetta/.conda/envs/calcium/lib/python3.10/site-packages/scipy/stats/_stats_py.py:4424: ConstantInputWarning:\n",
      "\n",
      "An input array is constant; the correlation coefficient is not defined.\n",
      "\n",
      "/home/austinbaggetta/csstorage3/CircleTrack/CircleTrackAnalysis/place_cells.py:46: RuntimeWarning:\n",
      "\n",
      "invalid value encountered in divide\n",
      "\n",
      "/home/austinbaggetta/.conda/envs/calcium/lib/python3.10/site-packages/scipy/stats/_stats_py.py:4424: ConstantInputWarning:\n",
      "\n",
      "An input array is constant; the correlation coefficient is not defined.\n",
      "\n",
      "/home/austinbaggetta/.conda/envs/calcium/lib/python3.10/site-packages/scipy/stats/_stats_py.py:4424: ConstantInputWarning:\n",
      "\n",
      "An input array is constant; the correlation coefficient is not defined.\n",
      "\n",
      "/home/austinbaggetta/csstorage3/CircleTrack/CircleTrackAnalysis/place_cells.py:46: RuntimeWarning:\n",
      "\n",
      "invalid value encountered in divide\n",
      "\n",
      "/home/austinbaggetta/.conda/envs/calcium/lib/python3.10/site-packages/scipy/stats/_stats_py.py:4424: ConstantInputWarning:\n",
      "\n",
      "An input array is constant; the correlation coefficient is not defined.\n",
      "\n",
      "/home/austinbaggetta/.conda/envs/calcium/lib/python3.10/site-packages/scipy/stats/_stats_py.py:4424: ConstantInputWarning:\n",
      "\n",
      "An input array is constant; the correlation coefficient is not defined.\n",
      "\n",
      "/home/austinbaggetta/csstorage3/CircleTrack/CircleTrackAnalysis/place_cells.py:46: RuntimeWarning:\n",
      "\n",
      "invalid value encountered in divide\n",
      "\n",
      "/home/austinbaggetta/.conda/envs/calcium/lib/python3.10/site-packages/scipy/stats/_stats_py.py:4424: ConstantInputWarning:\n",
      "\n",
      "An input array is constant; the correlation coefficient is not defined.\n",
      "\n",
      "/home/austinbaggetta/.conda/envs/calcium/lib/python3.10/site-packages/scipy/stats/_stats_py.py:4424: ConstantInputWarning:\n",
      "\n",
      "An input array is constant; the correlation coefficient is not defined.\n",
      "\n",
      "/home/austinbaggetta/csstorage3/CircleTrack/CircleTrackAnalysis/place_cells.py:46: RuntimeWarning:\n",
      "\n",
      "invalid value encountered in divide\n",
      "\n",
      "/home/austinbaggetta/.conda/envs/calcium/lib/python3.10/site-packages/scipy/stats/_stats_py.py:4424: ConstantInputWarning:\n",
      "\n",
      "An input array is constant; the correlation coefficient is not defined.\n",
      "\n",
      "/home/austinbaggetta/.conda/envs/calcium/lib/python3.10/site-packages/scipy/stats/_stats_py.py:4424: ConstantInputWarning:\n",
      "\n",
      "An input array is constant; the correlation coefficient is not defined.\n",
      "\n",
      "/home/austinbaggetta/csstorage3/CircleTrack/CircleTrackAnalysis/place_cells.py:46: RuntimeWarning:\n",
      "\n",
      "invalid value encountered in divide\n",
      "\n",
      "/home/austinbaggetta/.conda/envs/calcium/lib/python3.10/site-packages/scipy/stats/_stats_py.py:4424: ConstantInputWarning:\n",
      "\n",
      "An input array is constant; the correlation coefficient is not defined.\n",
      "\n",
      "/home/austinbaggetta/.conda/envs/calcium/lib/python3.10/site-packages/scipy/stats/_stats_py.py:4424: ConstantInputWarning:\n",
      "\n",
      "An input array is constant; the correlation coefficient is not defined.\n",
      "\n",
      "/home/austinbaggetta/csstorage3/CircleTrack/CircleTrackAnalysis/place_cells.py:46: RuntimeWarning:\n",
      "\n",
      "invalid value encountered in divide\n",
      "\n",
      "/home/austinbaggetta/.conda/envs/calcium/lib/python3.10/site-packages/scipy/stats/_stats_py.py:4424: ConstantInputWarning:\n",
      "\n",
      "An input array is constant; the correlation coefficient is not defined.\n",
      "\n",
      "/home/austinbaggetta/.conda/envs/calcium/lib/python3.10/site-packages/scipy/stats/_stats_py.py:4424: ConstantInputWarning:\n",
      "\n",
      "An input array is constant; the correlation coefficient is not defined.\n",
      "\n",
      "/home/austinbaggetta/csstorage3/CircleTrack/CircleTrackAnalysis/place_cells.py:46: RuntimeWarning:\n",
      "\n",
      "invalid value encountered in divide\n",
      "\n",
      "/home/austinbaggetta/.conda/envs/calcium/lib/python3.10/site-packages/scipy/stats/_stats_py.py:4424: ConstantInputWarning:\n",
      "\n",
      "An input array is constant; the correlation coefficient is not defined.\n",
      "\n",
      "/home/austinbaggetta/.conda/envs/calcium/lib/python3.10/site-packages/scipy/stats/_stats_py.py:4424: ConstantInputWarning:\n",
      "\n",
      "An input array is constant; the correlation coefficient is not defined.\n",
      "\n",
      "/home/austinbaggetta/csstorage3/CircleTrack/CircleTrackAnalysis/place_cells.py:46: RuntimeWarning:\n",
      "\n",
      "invalid value encountered in divide\n",
      "\n",
      "/home/austinbaggetta/.conda/envs/calcium/lib/python3.10/site-packages/scipy/stats/_stats_py.py:4424: ConstantInputWarning:\n",
      "\n",
      "An input array is constant; the correlation coefficient is not defined.\n",
      "\n",
      "/home/austinbaggetta/.conda/envs/calcium/lib/python3.10/site-packages/scipy/stats/_stats_py.py:4424: ConstantInputWarning:\n",
      "\n",
      "An input array is constant; the correlation coefficient is not defined.\n",
      "\n",
      "/home/austinbaggetta/csstorage3/CircleTrack/CircleTrackAnalysis/place_cells.py:46: RuntimeWarning:\n",
      "\n",
      "invalid value encountered in divide\n",
      "\n",
      "/home/austinbaggetta/.conda/envs/calcium/lib/python3.10/site-packages/scipy/stats/_stats_py.py:4424: ConstantInputWarning:\n",
      "\n",
      "An input array is constant; the correlation coefficient is not defined.\n",
      "\n",
      "/home/austinbaggetta/.conda/envs/calcium/lib/python3.10/site-packages/scipy/stats/_stats_py.py:4424: ConstantInputWarning:\n",
      "\n",
      "An input array is constant; the correlation coefficient is not defined.\n",
      "\n",
      "/home/austinbaggetta/csstorage3/CircleTrack/CircleTrackAnalysis/place_cells.py:46: RuntimeWarning:\n",
      "\n",
      "invalid value encountered in divide\n",
      "\n",
      "/home/austinbaggetta/.conda/envs/calcium/lib/python3.10/site-packages/scipy/stats/_stats_py.py:4424: ConstantInputWarning:\n",
      "\n",
      "An input array is constant; the correlation coefficient is not defined.\n",
      "\n",
      "/home/austinbaggetta/.conda/envs/calcium/lib/python3.10/site-packages/scipy/stats/_stats_py.py:4424: ConstantInputWarning:\n",
      "\n",
      "An input array is constant; the correlation coefficient is not defined.\n",
      "\n",
      "/home/austinbaggetta/csstorage3/CircleTrack/CircleTrackAnalysis/place_cells.py:46: RuntimeWarning:\n",
      "\n",
      "invalid value encountered in divide\n",
      "\n",
      "/home/austinbaggetta/.conda/envs/calcium/lib/python3.10/site-packages/scipy/stats/_stats_py.py:4424: ConstantInputWarning:\n",
      "\n",
      "An input array is constant; the correlation coefficient is not defined.\n",
      "\n",
      "/home/austinbaggetta/.conda/envs/calcium/lib/python3.10/site-packages/scipy/stats/_stats_py.py:4424: ConstantInputWarning:\n",
      "\n",
      "An input array is constant; the correlation coefficient is not defined.\n",
      "\n",
      "/home/austinbaggetta/csstorage3/CircleTrack/CircleTrackAnalysis/place_cells.py:46: RuntimeWarning:\n",
      "\n",
      "invalid value encountered in divide\n",
      "\n",
      "/home/austinbaggetta/.conda/envs/calcium/lib/python3.10/site-packages/scipy/stats/_stats_py.py:4424: ConstantInputWarning:\n",
      "\n",
      "An input array is constant; the correlation coefficient is not defined.\n",
      "\n",
      "/home/austinbaggetta/.conda/envs/calcium/lib/python3.10/site-packages/scipy/stats/_stats_py.py:4424: ConstantInputWarning:\n",
      "\n",
      "An input array is constant; the correlation coefficient is not defined.\n",
      "\n",
      "/home/austinbaggetta/csstorage3/CircleTrack/CircleTrackAnalysis/place_cells.py:46: RuntimeWarning:\n",
      "\n",
      "invalid value encountered in divide\n",
      "\n",
      "/home/austinbaggetta/.conda/envs/calcium/lib/python3.10/site-packages/scipy/stats/_stats_py.py:4424: ConstantInputWarning:\n",
      "\n",
      "An input array is constant; the correlation coefficient is not defined.\n",
      "\n",
      "/home/austinbaggetta/.conda/envs/calcium/lib/python3.10/site-packages/scipy/stats/_stats_py.py:4424: ConstantInputWarning:\n",
      "\n",
      "An input array is constant; the correlation coefficient is not defined.\n",
      "\n",
      "/home/austinbaggetta/csstorage3/CircleTrack/CircleTrackAnalysis/place_cells.py:46: RuntimeWarning:\n",
      "\n",
      "invalid value encountered in divide\n",
      "\n",
      "/home/austinbaggetta/.conda/envs/calcium/lib/python3.10/site-packages/scipy/stats/_stats_py.py:4424: ConstantInputWarning:\n",
      "\n",
      "An input array is constant; the correlation coefficient is not defined.\n",
      "\n",
      "/home/austinbaggetta/.conda/envs/calcium/lib/python3.10/site-packages/scipy/stats/_stats_py.py:4424: ConstantInputWarning:\n",
      "\n",
      "An input array is constant; the correlation coefficient is not defined.\n",
      "\n",
      "/home/austinbaggetta/csstorage3/CircleTrack/CircleTrackAnalysis/place_cells.py:46: RuntimeWarning:\n",
      "\n",
      "invalid value encountered in divide\n",
      "\n",
      "/home/austinbaggetta/.conda/envs/calcium/lib/python3.10/site-packages/scipy/stats/_stats_py.py:4424: ConstantInputWarning:\n",
      "\n",
      "An input array is constant; the correlation coefficient is not defined.\n",
      "\n",
      "/home/austinbaggetta/.conda/envs/calcium/lib/python3.10/site-packages/scipy/stats/_stats_py.py:4424: ConstantInputWarning:\n",
      "\n",
      "An input array is constant; the correlation coefficient is not defined.\n",
      "\n",
      "/home/austinbaggetta/csstorage3/CircleTrack/CircleTrackAnalysis/place_cells.py:46: RuntimeWarning:\n",
      "\n",
      "invalid value encountered in divide\n",
      "\n",
      "/home/austinbaggetta/.conda/envs/calcium/lib/python3.10/site-packages/scipy/stats/_stats_py.py:4424: ConstantInputWarning:\n",
      "\n",
      "An input array is constant; the correlation coefficient is not defined.\n",
      "\n",
      "/home/austinbaggetta/csstorage3/CircleTrack/CircleTrackAnalysis/place_cells.py:46: RuntimeWarning:\n",
      "\n",
      "invalid value encountered in divide\n",
      "\n",
      "/home/austinbaggetta/.conda/envs/calcium/lib/python3.10/site-packages/scipy/stats/_stats_py.py:4424: ConstantInputWarning:\n",
      "\n",
      "An input array is constant; the correlation coefficient is not defined.\n",
      "\n",
      "/home/austinbaggetta/csstorage3/CircleTrack/CircleTrackAnalysis/place_cells.py:46: RuntimeWarning:\n",
      "\n",
      "invalid value encountered in divide\n",
      "\n",
      "/home/austinbaggetta/.conda/envs/calcium/lib/python3.10/site-packages/scipy/stats/_stats_py.py:4424: ConstantInputWarning:\n",
      "\n",
      "An input array is constant; the correlation coefficient is not defined.\n",
      "\n",
      "/home/austinbaggetta/csstorage3/CircleTrack/CircleTrackAnalysis/place_cells.py:46: RuntimeWarning:\n",
      "\n",
      "invalid value encountered in divide\n",
      "\n",
      "/home/austinbaggetta/.conda/envs/calcium/lib/python3.10/site-packages/scipy/stats/_stats_py.py:4424: ConstantInputWarning:\n",
      "\n",
      "An input array is constant; the correlation coefficient is not defined.\n",
      "\n",
      "/home/austinbaggetta/csstorage3/CircleTrack/CircleTrackAnalysis/place_cells.py:46: RuntimeWarning:\n",
      "\n",
      "invalid value encountered in divide\n",
      "\n",
      "/home/austinbaggetta/csstorage3/CircleTrack/CircleTrackAnalysis/place_cells.py:46: RuntimeWarning:\n",
      "\n",
      "invalid value encountered in divide\n",
      "\n",
      "/home/austinbaggetta/.conda/envs/calcium/lib/python3.10/site-packages/scipy/stats/_stats_py.py:4424: ConstantInputWarning:\n",
      "\n",
      "An input array is constant; the correlation coefficient is not defined.\n",
      "\n",
      "/home/austinbaggetta/csstorage3/CircleTrack/CircleTrackAnalysis/place_cells.py:46: RuntimeWarning:\n",
      "\n",
      "invalid value encountered in divide\n",
      "\n",
      "/home/austinbaggetta/csstorage3/CircleTrack/CircleTrackAnalysis/place_cells.py:46: RuntimeWarning:\n",
      "\n",
      "invalid value encountered in divide\n",
      "\n",
      "/home/austinbaggetta/csstorage3/CircleTrack/CircleTrackAnalysis/place_cells.py:46: RuntimeWarning:\n",
      "\n",
      "invalid value encountered in divide\n",
      "\n",
      "/home/austinbaggetta/.conda/envs/calcium/lib/python3.10/site-packages/scipy/stats/_stats_py.py:4424: ConstantInputWarning:\n",
      "\n",
      "An input array is constant; the correlation coefficient is not defined.\n",
      "\n",
      "/home/austinbaggetta/csstorage3/CircleTrack/CircleTrackAnalysis/place_cells.py:46: RuntimeWarning:\n",
      "\n",
      "invalid value encountered in divide\n",
      "\n",
      "/home/austinbaggetta/.conda/envs/calcium/lib/python3.10/site-packages/scipy/stats/_stats_py.py:4424: ConstantInputWarning:\n",
      "\n",
      "An input array is constant; the correlation coefficient is not defined.\n",
      "\n",
      "/home/austinbaggetta/csstorage3/CircleTrack/CircleTrackAnalysis/place_cells.py:46: RuntimeWarning:\n",
      "\n",
      "invalid value encountered in divide\n",
      "\n",
      "/home/austinbaggetta/.conda/envs/calcium/lib/python3.10/site-packages/scipy/stats/_stats_py.py:4424: ConstantInputWarning:\n",
      "\n",
      "An input array is constant; the correlation coefficient is not defined.\n",
      "\n",
      "/home/austinbaggetta/csstorage3/CircleTrack/CircleTrackAnalysis/place_cells.py:46: RuntimeWarning:\n",
      "\n",
      "invalid value encountered in divide\n",
      "\n",
      "/home/austinbaggetta/.conda/envs/calcium/lib/python3.10/site-packages/scipy/stats/_stats_py.py:4424: ConstantInputWarning:\n",
      "\n",
      "An input array is constant; the correlation coefficient is not defined.\n",
      "\n",
      "/home/austinbaggetta/csstorage3/CircleTrack/CircleTrackAnalysis/place_cells.py:46: RuntimeWarning:\n",
      "\n",
      "invalid value encountered in divide\n",
      "\n",
      "/home/austinbaggetta/.conda/envs/calcium/lib/python3.10/site-packages/scipy/stats/_stats_py.py:4424: ConstantInputWarning:\n",
      "\n",
      "An input array is constant; the correlation coefficient is not defined.\n",
      "\n",
      "/home/austinbaggetta/.conda/envs/calcium/lib/python3.10/site-packages/scipy/stats/_stats_py.py:4424: ConstantInputWarning:\n",
      "\n",
      "An input array is constant; the correlation coefficient is not defined.\n",
      "\n",
      "/home/austinbaggetta/csstorage3/CircleTrack/CircleTrackAnalysis/place_cells.py:46: RuntimeWarning:\n",
      "\n",
      "invalid value encountered in divide\n",
      "\n",
      "/home/austinbaggetta/.conda/envs/calcium/lib/python3.10/site-packages/scipy/stats/_stats_py.py:4424: ConstantInputWarning:\n",
      "\n",
      "An input array is constant; the correlation coefficient is not defined.\n",
      "\n",
      "/home/austinbaggetta/csstorage3/CircleTrack/CircleTrackAnalysis/place_cells.py:46: RuntimeWarning:\n",
      "\n",
      "invalid value encountered in divide\n",
      "\n",
      "/home/austinbaggetta/.conda/envs/calcium/lib/python3.10/site-packages/scipy/stats/_stats_py.py:4424: ConstantInputWarning:\n",
      "\n",
      "An input array is constant; the correlation coefficient is not defined.\n",
      "\n",
      "/home/austinbaggetta/csstorage3/CircleTrack/CircleTrackAnalysis/place_cells.py:46: RuntimeWarning:\n",
      "\n",
      "invalid value encountered in divide\n",
      "\n",
      "/home/austinbaggetta/.conda/envs/calcium/lib/python3.10/site-packages/scipy/stats/_stats_py.py:4424: ConstantInputWarning:\n",
      "\n",
      "An input array is constant; the correlation coefficient is not defined.\n",
      "\n",
      "/home/austinbaggetta/csstorage3/CircleTrack/CircleTrackAnalysis/place_cells.py:46: RuntimeWarning:\n",
      "\n",
      "invalid value encountered in divide\n",
      "\n",
      "/home/austinbaggetta/.conda/envs/calcium/lib/python3.10/site-packages/scipy/stats/_stats_py.py:4424: ConstantInputWarning:\n",
      "\n",
      "An input array is constant; the correlation coefficient is not defined.\n",
      "\n",
      "/home/austinbaggetta/csstorage3/CircleTrack/CircleTrackAnalysis/place_cells.py:46: RuntimeWarning:\n",
      "\n",
      "invalid value encountered in divide\n",
      "\n",
      "/home/austinbaggetta/csstorage3/CircleTrack/CircleTrackAnalysis/place_cells.py:46: RuntimeWarning:\n",
      "\n",
      "invalid value encountered in divide\n",
      "\n",
      "/home/austinbaggetta/.conda/envs/calcium/lib/python3.10/site-packages/scipy/stats/_stats_py.py:4424: ConstantInputWarning:\n",
      "\n",
      "An input array is constant; the correlation coefficient is not defined.\n",
      "\n",
      "/home/austinbaggetta/csstorage3/CircleTrack/CircleTrackAnalysis/place_cells.py:46: RuntimeWarning:\n",
      "\n",
      "invalid value encountered in divide\n",
      "\n",
      "/home/austinbaggetta/.conda/envs/calcium/lib/python3.10/site-packages/scipy/stats/_stats_py.py:4424: ConstantInputWarning:\n",
      "\n",
      "An input array is constant; the correlation coefficient is not defined.\n",
      "\n",
      "/home/austinbaggetta/.conda/envs/calcium/lib/python3.10/site-packages/scipy/stats/_stats_py.py:4424: ConstantInputWarning:\n",
      "\n",
      "An input array is constant; the correlation coefficient is not defined.\n",
      "\n",
      "/home/austinbaggetta/csstorage3/CircleTrack/CircleTrackAnalysis/place_cells.py:46: RuntimeWarning:\n",
      "\n",
      "invalid value encountered in divide\n",
      "\n",
      "/home/austinbaggetta/.conda/envs/calcium/lib/python3.10/site-packages/scipy/stats/_stats_py.py:4424: ConstantInputWarning:\n",
      "\n",
      "An input array is constant; the correlation coefficient is not defined.\n",
      "\n",
      "/home/austinbaggetta/.conda/envs/calcium/lib/python3.10/site-packages/scipy/stats/_stats_py.py:4424: ConstantInputWarning:\n",
      "\n",
      "An input array is constant; the correlation coefficient is not defined.\n",
      "\n",
      "/home/austinbaggetta/csstorage3/CircleTrack/CircleTrackAnalysis/place_cells.py:46: RuntimeWarning:\n",
      "\n",
      "invalid value encountered in divide\n",
      "\n",
      "/home/austinbaggetta/.conda/envs/calcium/lib/python3.10/site-packages/scipy/stats/_stats_py.py:4424: ConstantInputWarning:\n",
      "\n",
      "An input array is constant; the correlation coefficient is not defined.\n",
      "\n",
      "/home/austinbaggetta/.conda/envs/calcium/lib/python3.10/site-packages/scipy/stats/_stats_py.py:4424: ConstantInputWarning:\n",
      "\n",
      "An input array is constant; the correlation coefficient is not defined.\n",
      "\n",
      "/home/austinbaggetta/csstorage3/CircleTrack/CircleTrackAnalysis/place_cells.py:46: RuntimeWarning:\n",
      "\n",
      "invalid value encountered in divide\n",
      "\n",
      "/home/austinbaggetta/.conda/envs/calcium/lib/python3.10/site-packages/scipy/stats/_stats_py.py:4424: ConstantInputWarning:\n",
      "\n",
      "An input array is constant; the correlation coefficient is not defined.\n",
      "\n",
      "/home/austinbaggetta/.conda/envs/calcium/lib/python3.10/site-packages/scipy/stats/_stats_py.py:4424: ConstantInputWarning:\n",
      "\n",
      "An input array is constant; the correlation coefficient is not defined.\n",
      "\n",
      "/home/austinbaggetta/csstorage3/CircleTrack/CircleTrackAnalysis/place_cells.py:46: RuntimeWarning:\n",
      "\n",
      "invalid value encountered in divide\n",
      "\n",
      "/home/austinbaggetta/.conda/envs/calcium/lib/python3.10/site-packages/scipy/stats/_stats_py.py:4424: ConstantInputWarning:\n",
      "\n",
      "An input array is constant; the correlation coefficient is not defined.\n",
      "\n",
      "/home/austinbaggetta/.conda/envs/calcium/lib/python3.10/site-packages/scipy/stats/_stats_py.py:4424: ConstantInputWarning:\n",
      "\n",
      "An input array is constant; the correlation coefficient is not defined.\n",
      "\n",
      "/home/austinbaggetta/csstorage3/CircleTrack/CircleTrackAnalysis/place_cells.py:46: RuntimeWarning:\n",
      "\n",
      "invalid value encountered in divide\n",
      "\n",
      "/home/austinbaggetta/.conda/envs/calcium/lib/python3.10/site-packages/scipy/stats/_stats_py.py:4424: ConstantInputWarning:\n",
      "\n",
      "An input array is constant; the correlation coefficient is not defined.\n",
      "\n",
      "/home/austinbaggetta/.conda/envs/calcium/lib/python3.10/site-packages/scipy/stats/_stats_py.py:4424: ConstantInputWarning:\n",
      "\n",
      "An input array is constant; the correlation coefficient is not defined.\n",
      "\n",
      "/home/austinbaggetta/csstorage3/CircleTrack/CircleTrackAnalysis/place_cells.py:46: RuntimeWarning:\n",
      "\n",
      "invalid value encountered in divide\n",
      "\n",
      "/home/austinbaggetta/.conda/envs/calcium/lib/python3.10/site-packages/scipy/stats/_stats_py.py:4424: ConstantInputWarning:\n",
      "\n",
      "An input array is constant; the correlation coefficient is not defined.\n",
      "\n",
      "/home/austinbaggetta/.conda/envs/calcium/lib/python3.10/site-packages/scipy/stats/_stats_py.py:4424: ConstantInputWarning:\n",
      "\n",
      "An input array is constant; the correlation coefficient is not defined.\n",
      "\n",
      "/home/austinbaggetta/csstorage3/CircleTrack/CircleTrackAnalysis/place_cells.py:46: RuntimeWarning:\n",
      "\n",
      "invalid value encountered in divide\n",
      "\n",
      "/home/austinbaggetta/.conda/envs/calcium/lib/python3.10/site-packages/scipy/stats/_stats_py.py:4424: ConstantInputWarning:\n",
      "\n",
      "An input array is constant; the correlation coefficient is not defined.\n",
      "\n",
      "/home/austinbaggetta/.conda/envs/calcium/lib/python3.10/site-packages/scipy/stats/_stats_py.py:4424: ConstantInputWarning:\n",
      "\n",
      "An input array is constant; the correlation coefficient is not defined.\n",
      "\n",
      "/home/austinbaggetta/csstorage3/CircleTrack/CircleTrackAnalysis/place_cells.py:46: RuntimeWarning:\n",
      "\n",
      "invalid value encountered in divide\n",
      "\n",
      "/home/austinbaggetta/.conda/envs/calcium/lib/python3.10/site-packages/scipy/stats/_stats_py.py:4424: ConstantInputWarning:\n",
      "\n",
      "An input array is constant; the correlation coefficient is not defined.\n",
      "\n",
      "/home/austinbaggetta/.conda/envs/calcium/lib/python3.10/site-packages/scipy/stats/_stats_py.py:4424: ConstantInputWarning:\n",
      "\n",
      "An input array is constant; the correlation coefficient is not defined.\n",
      "\n",
      "/home/austinbaggetta/csstorage3/CircleTrack/CircleTrackAnalysis/place_cells.py:46: RuntimeWarning:\n",
      "\n",
      "invalid value encountered in divide\n",
      "\n",
      "/home/austinbaggetta/.conda/envs/calcium/lib/python3.10/site-packages/scipy/stats/_stats_py.py:4424: ConstantInputWarning:\n",
      "\n",
      "An input array is constant; the correlation coefficient is not defined.\n",
      "\n",
      "/home/austinbaggetta/.conda/envs/calcium/lib/python3.10/site-packages/scipy/stats/_stats_py.py:4424: ConstantInputWarning:\n",
      "\n",
      "An input array is constant; the correlation coefficient is not defined.\n",
      "\n",
      "/home/austinbaggetta/csstorage3/CircleTrack/CircleTrackAnalysis/place_cells.py:46: RuntimeWarning:\n",
      "\n",
      "invalid value encountered in divide\n",
      "\n",
      "/home/austinbaggetta/.conda/envs/calcium/lib/python3.10/site-packages/scipy/stats/_stats_py.py:4424: ConstantInputWarning:\n",
      "\n",
      "An input array is constant; the correlation coefficient is not defined.\n",
      "\n",
      "/home/austinbaggetta/.conda/envs/calcium/lib/python3.10/site-packages/scipy/stats/_stats_py.py:4424: ConstantInputWarning:\n",
      "\n",
      "An input array is constant; the correlation coefficient is not defined.\n",
      "\n",
      "/home/austinbaggetta/csstorage3/CircleTrack/CircleTrackAnalysis/place_cells.py:46: RuntimeWarning:\n",
      "\n",
      "invalid value encountered in divide\n",
      "\n",
      "/home/austinbaggetta/.conda/envs/calcium/lib/python3.10/site-packages/scipy/stats/_stats_py.py:4424: ConstantInputWarning:\n",
      "\n",
      "An input array is constant; the correlation coefficient is not defined.\n",
      "\n",
      "/home/austinbaggetta/.conda/envs/calcium/lib/python3.10/site-packages/scipy/stats/_stats_py.py:4424: ConstantInputWarning:\n",
      "\n",
      "An input array is constant; the correlation coefficient is not defined.\n",
      "\n",
      "/home/austinbaggetta/csstorage3/CircleTrack/CircleTrackAnalysis/place_cells.py:46: RuntimeWarning:\n",
      "\n",
      "invalid value encountered in divide\n",
      "\n",
      "/home/austinbaggetta/.conda/envs/calcium/lib/python3.10/site-packages/scipy/stats/_stats_py.py:4424: ConstantInputWarning:\n",
      "\n",
      "An input array is constant; the correlation coefficient is not defined.\n",
      "\n",
      "/home/austinbaggetta/.conda/envs/calcium/lib/python3.10/site-packages/scipy/stats/_stats_py.py:4424: ConstantInputWarning:\n",
      "\n",
      "An input array is constant; the correlation coefficient is not defined.\n",
      "\n",
      "/home/austinbaggetta/csstorage3/CircleTrack/CircleTrackAnalysis/place_cells.py:46: RuntimeWarning:\n",
      "\n",
      "invalid value encountered in divide\n",
      "\n",
      "/home/austinbaggetta/.conda/envs/calcium/lib/python3.10/site-packages/scipy/stats/_stats_py.py:4424: ConstantInputWarning:\n",
      "\n",
      "An input array is constant; the correlation coefficient is not defined.\n",
      "\n",
      "/home/austinbaggetta/.conda/envs/calcium/lib/python3.10/site-packages/scipy/stats/_stats_py.py:4424: ConstantInputWarning:\n",
      "\n",
      "An input array is constant; the correlation coefficient is not defined.\n",
      "\n",
      "/home/austinbaggetta/csstorage3/CircleTrack/CircleTrackAnalysis/place_cells.py:46: RuntimeWarning:\n",
      "\n",
      "invalid value encountered in divide\n",
      "\n",
      "/home/austinbaggetta/.conda/envs/calcium/lib/python3.10/site-packages/scipy/stats/_stats_py.py:4424: ConstantInputWarning:\n",
      "\n",
      "An input array is constant; the correlation coefficient is not defined.\n",
      "\n",
      "/home/austinbaggetta/.conda/envs/calcium/lib/python3.10/site-packages/scipy/stats/_stats_py.py:4424: ConstantInputWarning:\n",
      "\n",
      "An input array is constant; the correlation coefficient is not defined.\n",
      "\n",
      "/home/austinbaggetta/csstorage3/CircleTrack/CircleTrackAnalysis/place_cells.py:46: RuntimeWarning:\n",
      "\n",
      "invalid value encountered in divide\n",
      "\n",
      "/home/austinbaggetta/.conda/envs/calcium/lib/python3.10/site-packages/scipy/stats/_stats_py.py:4424: ConstantInputWarning:\n",
      "\n",
      "An input array is constant; the correlation coefficient is not defined.\n",
      "\n",
      "/home/austinbaggetta/.conda/envs/calcium/lib/python3.10/site-packages/scipy/stats/_stats_py.py:4424: ConstantInputWarning:\n",
      "\n",
      "An input array is constant; the correlation coefficient is not defined.\n",
      "\n",
      "/home/austinbaggetta/csstorage3/CircleTrack/CircleTrackAnalysis/place_cells.py:46: RuntimeWarning:\n",
      "\n",
      "invalid value encountered in divide\n",
      "\n",
      "/home/austinbaggetta/.conda/envs/calcium/lib/python3.10/site-packages/scipy/stats/_stats_py.py:4424: ConstantInputWarning:\n",
      "\n",
      "An input array is constant; the correlation coefficient is not defined.\n",
      "\n",
      "/home/austinbaggetta/.conda/envs/calcium/lib/python3.10/site-packages/scipy/stats/_stats_py.py:4424: ConstantInputWarning:\n",
      "\n",
      "An input array is constant; the correlation coefficient is not defined.\n",
      "\n",
      "/home/austinbaggetta/csstorage3/CircleTrack/CircleTrackAnalysis/place_cells.py:46: RuntimeWarning:\n",
      "\n",
      "invalid value encountered in divide\n",
      "\n",
      "/home/austinbaggetta/.conda/envs/calcium/lib/python3.10/site-packages/scipy/stats/_stats_py.py:4424: ConstantInputWarning:\n",
      "\n",
      "An input array is constant; the correlation coefficient is not defined.\n",
      "\n",
      "/home/austinbaggetta/.conda/envs/calcium/lib/python3.10/site-packages/scipy/stats/_stats_py.py:4424: ConstantInputWarning:\n",
      "\n",
      "An input array is constant; the correlation coefficient is not defined.\n",
      "\n",
      "/home/austinbaggetta/csstorage3/CircleTrack/CircleTrackAnalysis/place_cells.py:46: RuntimeWarning:\n",
      "\n",
      "invalid value encountered in divide\n",
      "\n",
      "/home/austinbaggetta/.conda/envs/calcium/lib/python3.10/site-packages/scipy/stats/_stats_py.py:4424: ConstantInputWarning:\n",
      "\n",
      "An input array is constant; the correlation coefficient is not defined.\n",
      "\n",
      "/home/austinbaggetta/.conda/envs/calcium/lib/python3.10/site-packages/scipy/stats/_stats_py.py:4424: ConstantInputWarning:\n",
      "\n",
      "An input array is constant; the correlation coefficient is not defined.\n",
      "\n",
      "/home/austinbaggetta/csstorage3/CircleTrack/CircleTrackAnalysis/place_cells.py:46: RuntimeWarning:\n",
      "\n",
      "invalid value encountered in divide\n",
      "\n",
      "/home/austinbaggetta/.conda/envs/calcium/lib/python3.10/site-packages/scipy/stats/_stats_py.py:4424: ConstantInputWarning:\n",
      "\n",
      "An input array is constant; the correlation coefficient is not defined.\n",
      "\n",
      "/home/austinbaggetta/.conda/envs/calcium/lib/python3.10/site-packages/scipy/stats/_stats_py.py:4424: ConstantInputWarning:\n",
      "\n",
      "An input array is constant; the correlation coefficient is not defined.\n",
      "\n",
      "/home/austinbaggetta/csstorage3/CircleTrack/CircleTrackAnalysis/place_cells.py:46: RuntimeWarning:\n",
      "\n",
      "invalid value encountered in divide\n",
      "\n",
      "/home/austinbaggetta/.conda/envs/calcium/lib/python3.10/site-packages/scipy/stats/_stats_py.py:4424: ConstantInputWarning:\n",
      "\n",
      "An input array is constant; the correlation coefficient is not defined.\n",
      "\n",
      "/home/austinbaggetta/.conda/envs/calcium/lib/python3.10/site-packages/scipy/stats/_stats_py.py:4424: ConstantInputWarning:\n",
      "\n",
      "An input array is constant; the correlation coefficient is not defined.\n",
      "\n",
      "/home/austinbaggetta/csstorage3/CircleTrack/CircleTrackAnalysis/place_cells.py:46: RuntimeWarning:\n",
      "\n",
      "invalid value encountered in divide\n",
      "\n",
      "/home/austinbaggetta/.conda/envs/calcium/lib/python3.10/site-packages/scipy/stats/_stats_py.py:4424: ConstantInputWarning:\n",
      "\n",
      "An input array is constant; the correlation coefficient is not defined.\n",
      "\n",
      "/home/austinbaggetta/.conda/envs/calcium/lib/python3.10/site-packages/scipy/stats/_stats_py.py:4424: ConstantInputWarning:\n",
      "\n",
      "An input array is constant; the correlation coefficient is not defined.\n",
      "\n",
      "/home/austinbaggetta/csstorage3/CircleTrack/CircleTrackAnalysis/place_cells.py:46: RuntimeWarning:\n",
      "\n",
      "invalid value encountered in divide\n",
      "\n",
      "/home/austinbaggetta/.conda/envs/calcium/lib/python3.10/site-packages/scipy/stats/_stats_py.py:4424: ConstantInputWarning:\n",
      "\n",
      "An input array is constant; the correlation coefficient is not defined.\n",
      "\n",
      "/home/austinbaggetta/.conda/envs/calcium/lib/python3.10/site-packages/scipy/stats/_stats_py.py:4424: ConstantInputWarning:\n",
      "\n",
      "An input array is constant; the correlation coefficient is not defined.\n",
      "\n",
      "/home/austinbaggetta/csstorage3/CircleTrack/CircleTrackAnalysis/place_cells.py:46: RuntimeWarning:\n",
      "\n",
      "invalid value encountered in divide\n",
      "\n",
      "/home/austinbaggetta/.conda/envs/calcium/lib/python3.10/site-packages/scipy/stats/_stats_py.py:4424: ConstantInputWarning:\n",
      "\n",
      "An input array is constant; the correlation coefficient is not defined.\n",
      "\n",
      "/home/austinbaggetta/.conda/envs/calcium/lib/python3.10/site-packages/scipy/stats/_stats_py.py:4424: ConstantInputWarning:\n",
      "\n",
      "An input array is constant; the correlation coefficient is not defined.\n",
      "\n",
      "/home/austinbaggetta/csstorage3/CircleTrack/CircleTrackAnalysis/place_cells.py:46: RuntimeWarning:\n",
      "\n",
      "invalid value encountered in divide\n",
      "\n",
      "/home/austinbaggetta/.conda/envs/calcium/lib/python3.10/site-packages/scipy/stats/_stats_py.py:4424: ConstantInputWarning:\n",
      "\n",
      "An input array is constant; the correlation coefficient is not defined.\n",
      "\n",
      "/home/austinbaggetta/.conda/envs/calcium/lib/python3.10/site-packages/scipy/stats/_stats_py.py:4424: ConstantInputWarning:\n",
      "\n",
      "An input array is constant; the correlation coefficient is not defined.\n",
      "\n",
      "/home/austinbaggetta/csstorage3/CircleTrack/CircleTrackAnalysis/place_cells.py:46: RuntimeWarning:\n",
      "\n",
      "invalid value encountered in divide\n",
      "\n",
      "/home/austinbaggetta/.conda/envs/calcium/lib/python3.10/site-packages/scipy/stats/_stats_py.py:4424: ConstantInputWarning:\n",
      "\n",
      "An input array is constant; the correlation coefficient is not defined.\n",
      "\n",
      "/home/austinbaggetta/.conda/envs/calcium/lib/python3.10/site-packages/scipy/stats/_stats_py.py:4424: ConstantInputWarning:\n",
      "\n",
      "An input array is constant; the correlation coefficient is not defined.\n",
      "\n",
      "/home/austinbaggetta/csstorage3/CircleTrack/CircleTrackAnalysis/place_cells.py:46: RuntimeWarning:\n",
      "\n",
      "invalid value encountered in divide\n",
      "\n",
      "/home/austinbaggetta/.conda/envs/calcium/lib/python3.10/site-packages/scipy/stats/_stats_py.py:4424: ConstantInputWarning:\n",
      "\n",
      "An input array is constant; the correlation coefficient is not defined.\n",
      "\n",
      "/home/austinbaggetta/.conda/envs/calcium/lib/python3.10/site-packages/scipy/stats/_stats_py.py:4424: ConstantInputWarning:\n",
      "\n",
      "An input array is constant; the correlation coefficient is not defined.\n",
      "\n",
      "/home/austinbaggetta/csstorage3/CircleTrack/CircleTrackAnalysis/place_cells.py:46: RuntimeWarning:\n",
      "\n",
      "invalid value encountered in divide\n",
      "\n",
      "/home/austinbaggetta/.conda/envs/calcium/lib/python3.10/site-packages/scipy/stats/_stats_py.py:4424: ConstantInputWarning:\n",
      "\n",
      "An input array is constant; the correlation coefficient is not defined.\n",
      "\n",
      "/home/austinbaggetta/.conda/envs/calcium/lib/python3.10/site-packages/scipy/stats/_stats_py.py:4424: ConstantInputWarning:\n",
      "\n",
      "An input array is constant; the correlation coefficient is not defined.\n",
      "\n",
      "/home/austinbaggetta/csstorage3/CircleTrack/CircleTrackAnalysis/place_cells.py:46: RuntimeWarning:\n",
      "\n",
      "invalid value encountered in divide\n",
      "\n",
      "/home/austinbaggetta/.conda/envs/calcium/lib/python3.10/site-packages/scipy/stats/_stats_py.py:4424: ConstantInputWarning:\n",
      "\n",
      "An input array is constant; the correlation coefficient is not defined.\n",
      "\n",
      "/home/austinbaggetta/.conda/envs/calcium/lib/python3.10/site-packages/scipy/stats/_stats_py.py:4424: ConstantInputWarning:\n",
      "\n",
      "An input array is constant; the correlation coefficient is not defined.\n",
      "\n",
      "/home/austinbaggetta/csstorage3/CircleTrack/CircleTrackAnalysis/place_cells.py:46: RuntimeWarning:\n",
      "\n",
      "invalid value encountered in divide\n",
      "\n",
      "/home/austinbaggetta/.conda/envs/calcium/lib/python3.10/site-packages/scipy/stats/_stats_py.py:4424: ConstantInputWarning:\n",
      "\n",
      "An input array is constant; the correlation coefficient is not defined.\n",
      "\n",
      "/home/austinbaggetta/.conda/envs/calcium/lib/python3.10/site-packages/scipy/stats/_stats_py.py:4424: ConstantInputWarning:\n",
      "\n",
      "An input array is constant; the correlation coefficient is not defined.\n",
      "\n",
      "/home/austinbaggetta/csstorage3/CircleTrack/CircleTrackAnalysis/place_cells.py:46: RuntimeWarning:\n",
      "\n",
      "invalid value encountered in divide\n",
      "\n",
      "/home/austinbaggetta/.conda/envs/calcium/lib/python3.10/site-packages/scipy/stats/_stats_py.py:4424: ConstantInputWarning:\n",
      "\n",
      "An input array is constant; the correlation coefficient is not defined.\n",
      "\n",
      "/home/austinbaggetta/.conda/envs/calcium/lib/python3.10/site-packages/scipy/stats/_stats_py.py:4424: ConstantInputWarning:\n",
      "\n",
      "An input array is constant; the correlation coefficient is not defined.\n",
      "\n",
      "/home/austinbaggetta/csstorage3/CircleTrack/CircleTrackAnalysis/place_cells.py:46: RuntimeWarning:\n",
      "\n",
      "invalid value encountered in divide\n",
      "\n",
      "/home/austinbaggetta/.conda/envs/calcium/lib/python3.10/site-packages/scipy/stats/_stats_py.py:4424: ConstantInputWarning:\n",
      "\n",
      "An input array is constant; the correlation coefficient is not defined.\n",
      "\n",
      "/home/austinbaggetta/.conda/envs/calcium/lib/python3.10/site-packages/scipy/stats/_stats_py.py:4424: ConstantInputWarning:\n",
      "\n",
      "An input array is constant; the correlation coefficient is not defined.\n",
      "\n",
      "/home/austinbaggetta/csstorage3/CircleTrack/CircleTrackAnalysis/place_cells.py:46: RuntimeWarning:\n",
      "\n",
      "invalid value encountered in divide\n",
      "\n",
      "/home/austinbaggetta/.conda/envs/calcium/lib/python3.10/site-packages/scipy/stats/_stats_py.py:4424: ConstantInputWarning:\n",
      "\n",
      "An input array is constant; the correlation coefficient is not defined.\n",
      "\n",
      "/home/austinbaggetta/.conda/envs/calcium/lib/python3.10/site-packages/scipy/stats/_stats_py.py:4424: ConstantInputWarning:\n",
      "\n",
      "An input array is constant; the correlation coefficient is not defined.\n",
      "\n",
      "/home/austinbaggetta/csstorage3/CircleTrack/CircleTrackAnalysis/place_cells.py:46: RuntimeWarning:\n",
      "\n",
      "invalid value encountered in divide\n",
      "\n",
      "/home/austinbaggetta/.conda/envs/calcium/lib/python3.10/site-packages/scipy/stats/_stats_py.py:4424: ConstantInputWarning:\n",
      "\n",
      "An input array is constant; the correlation coefficient is not defined.\n",
      "\n",
      "/home/austinbaggetta/.conda/envs/calcium/lib/python3.10/site-packages/scipy/stats/_stats_py.py:4424: ConstantInputWarning:\n",
      "\n",
      "An input array is constant; the correlation coefficient is not defined.\n",
      "\n",
      "/home/austinbaggetta/csstorage3/CircleTrack/CircleTrackAnalysis/place_cells.py:46: RuntimeWarning:\n",
      "\n",
      "invalid value encountered in divide\n",
      "\n",
      "/home/austinbaggetta/.conda/envs/calcium/lib/python3.10/site-packages/scipy/stats/_stats_py.py:4424: ConstantInputWarning:\n",
      "\n",
      "An input array is constant; the correlation coefficient is not defined.\n",
      "\n",
      "/home/austinbaggetta/.conda/envs/calcium/lib/python3.10/site-packages/scipy/stats/_stats_py.py:4424: ConstantInputWarning:\n",
      "\n",
      "An input array is constant; the correlation coefficient is not defined.\n",
      "\n",
      "/home/austinbaggetta/csstorage3/CircleTrack/CircleTrackAnalysis/place_cells.py:46: RuntimeWarning:\n",
      "\n",
      "invalid value encountered in divide\n",
      "\n",
      "/home/austinbaggetta/.conda/envs/calcium/lib/python3.10/site-packages/scipy/stats/_stats_py.py:4424: ConstantInputWarning:\n",
      "\n",
      "An input array is constant; the correlation coefficient is not defined.\n",
      "\n",
      "/home/austinbaggetta/.conda/envs/calcium/lib/python3.10/site-packages/scipy/stats/_stats_py.py:4424: ConstantInputWarning:\n",
      "\n",
      "An input array is constant; the correlation coefficient is not defined.\n",
      "\n",
      "/home/austinbaggetta/csstorage3/CircleTrack/CircleTrackAnalysis/place_cells.py:46: RuntimeWarning:\n",
      "\n",
      "invalid value encountered in divide\n",
      "\n",
      "/home/austinbaggetta/.conda/envs/calcium/lib/python3.10/site-packages/scipy/stats/_stats_py.py:4424: ConstantInputWarning:\n",
      "\n",
      "An input array is constant; the correlation coefficient is not defined.\n",
      "\n",
      "/home/austinbaggetta/.conda/envs/calcium/lib/python3.10/site-packages/scipy/stats/_stats_py.py:4424: ConstantInputWarning:\n",
      "\n",
      "An input array is constant; the correlation coefficient is not defined.\n",
      "\n",
      "/home/austinbaggetta/csstorage3/CircleTrack/CircleTrackAnalysis/place_cells.py:46: RuntimeWarning:\n",
      "\n",
      "invalid value encountered in divide\n",
      "\n",
      "/home/austinbaggetta/.conda/envs/calcium/lib/python3.10/site-packages/scipy/stats/_stats_py.py:4424: ConstantInputWarning:\n",
      "\n",
      "An input array is constant; the correlation coefficient is not defined.\n",
      "\n",
      "/home/austinbaggetta/.conda/envs/calcium/lib/python3.10/site-packages/scipy/stats/_stats_py.py:4424: ConstantInputWarning:\n",
      "\n",
      "An input array is constant; the correlation coefficient is not defined.\n",
      "\n",
      "/home/austinbaggetta/csstorage3/CircleTrack/CircleTrackAnalysis/place_cells.py:46: RuntimeWarning:\n",
      "\n",
      "invalid value encountered in divide\n",
      "\n",
      "/home/austinbaggetta/.conda/envs/calcium/lib/python3.10/site-packages/scipy/stats/_stats_py.py:4424: ConstantInputWarning:\n",
      "\n",
      "An input array is constant; the correlation coefficient is not defined.\n",
      "\n",
      "/home/austinbaggetta/.conda/envs/calcium/lib/python3.10/site-packages/scipy/stats/_stats_py.py:4424: ConstantInputWarning:\n",
      "\n",
      "An input array is constant; the correlation coefficient is not defined.\n",
      "\n",
      "/home/austinbaggetta/csstorage3/CircleTrack/CircleTrackAnalysis/place_cells.py:46: RuntimeWarning:\n",
      "\n",
      "invalid value encountered in divide\n",
      "\n",
      "/home/austinbaggetta/.conda/envs/calcium/lib/python3.10/site-packages/scipy/stats/_stats_py.py:4424: ConstantInputWarning:\n",
      "\n",
      "An input array is constant; the correlation coefficient is not defined.\n",
      "\n",
      "/home/austinbaggetta/.conda/envs/calcium/lib/python3.10/site-packages/scipy/stats/_stats_py.py:4424: ConstantInputWarning:\n",
      "\n",
      "An input array is constant; the correlation coefficient is not defined.\n",
      "\n",
      "/home/austinbaggetta/csstorage3/CircleTrack/CircleTrackAnalysis/place_cells.py:46: RuntimeWarning:\n",
      "\n",
      "invalid value encountered in divide\n",
      "\n",
      "/home/austinbaggetta/.conda/envs/calcium/lib/python3.10/site-packages/scipy/stats/_stats_py.py:4424: ConstantInputWarning:\n",
      "\n",
      "An input array is constant; the correlation coefficient is not defined.\n",
      "\n",
      "/home/austinbaggetta/.conda/envs/calcium/lib/python3.10/site-packages/scipy/stats/_stats_py.py:4424: ConstantInputWarning:\n",
      "\n",
      "An input array is constant; the correlation coefficient is not defined.\n",
      "\n",
      "/home/austinbaggetta/csstorage3/CircleTrack/CircleTrackAnalysis/place_cells.py:46: RuntimeWarning:\n",
      "\n",
      "invalid value encountered in divide\n",
      "\n",
      "/home/austinbaggetta/.conda/envs/calcium/lib/python3.10/site-packages/scipy/stats/_stats_py.py:4424: ConstantInputWarning:\n",
      "\n",
      "An input array is constant; the correlation coefficient is not defined.\n",
      "\n",
      "/home/austinbaggetta/.conda/envs/calcium/lib/python3.10/site-packages/scipy/stats/_stats_py.py:4424: ConstantInputWarning:\n",
      "\n",
      "An input array is constant; the correlation coefficient is not defined.\n",
      "\n",
      "/home/austinbaggetta/csstorage3/CircleTrack/CircleTrackAnalysis/place_cells.py:46: RuntimeWarning:\n",
      "\n",
      "invalid value encountered in divide\n",
      "\n",
      "/home/austinbaggetta/.conda/envs/calcium/lib/python3.10/site-packages/scipy/stats/_stats_py.py:4424: ConstantInputWarning:\n",
      "\n",
      "An input array is constant; the correlation coefficient is not defined.\n",
      "\n",
      "/home/austinbaggetta/.conda/envs/calcium/lib/python3.10/site-packages/scipy/stats/_stats_py.py:4424: ConstantInputWarning:\n",
      "\n",
      "An input array is constant; the correlation coefficient is not defined.\n",
      "\n",
      "/home/austinbaggetta/csstorage3/CircleTrack/CircleTrackAnalysis/place_cells.py:46: RuntimeWarning:\n",
      "\n",
      "invalid value encountered in divide\n",
      "\n",
      "/home/austinbaggetta/.conda/envs/calcium/lib/python3.10/site-packages/scipy/stats/_stats_py.py:4424: ConstantInputWarning:\n",
      "\n",
      "An input array is constant; the correlation coefficient is not defined.\n",
      "\n",
      "/home/austinbaggetta/.conda/envs/calcium/lib/python3.10/site-packages/scipy/stats/_stats_py.py:4424: ConstantInputWarning:\n",
      "\n",
      "An input array is constant; the correlation coefficient is not defined.\n",
      "\n",
      "/home/austinbaggetta/csstorage3/CircleTrack/CircleTrackAnalysis/place_cells.py:46: RuntimeWarning:\n",
      "\n",
      "invalid value encountered in divide\n",
      "\n",
      "/home/austinbaggetta/.conda/envs/calcium/lib/python3.10/site-packages/scipy/stats/_stats_py.py:4424: ConstantInputWarning:\n",
      "\n",
      "An input array is constant; the correlation coefficient is not defined.\n",
      "\n",
      "/home/austinbaggetta/.conda/envs/calcium/lib/python3.10/site-packages/scipy/stats/_stats_py.py:4424: ConstantInputWarning:\n",
      "\n",
      "An input array is constant; the correlation coefficient is not defined.\n",
      "\n",
      "/home/austinbaggetta/csstorage3/CircleTrack/CircleTrackAnalysis/place_cells.py:46: RuntimeWarning:\n",
      "\n",
      "invalid value encountered in divide\n",
      "\n",
      "/home/austinbaggetta/.conda/envs/calcium/lib/python3.10/site-packages/scipy/stats/_stats_py.py:4424: ConstantInputWarning:\n",
      "\n",
      "An input array is constant; the correlation coefficient is not defined.\n",
      "\n",
      "/home/austinbaggetta/.conda/envs/calcium/lib/python3.10/site-packages/scipy/stats/_stats_py.py:4424: ConstantInputWarning:\n",
      "\n",
      "An input array is constant; the correlation coefficient is not defined.\n",
      "\n",
      "/home/austinbaggetta/csstorage3/CircleTrack/CircleTrackAnalysis/place_cells.py:46: RuntimeWarning:\n",
      "\n",
      "invalid value encountered in divide\n",
      "\n",
      "/home/austinbaggetta/.conda/envs/calcium/lib/python3.10/site-packages/scipy/stats/_stats_py.py:4424: ConstantInputWarning:\n",
      "\n",
      "An input array is constant; the correlation coefficient is not defined.\n",
      "\n",
      "/home/austinbaggetta/.conda/envs/calcium/lib/python3.10/site-packages/scipy/stats/_stats_py.py:4424: ConstantInputWarning:\n",
      "\n",
      "An input array is constant; the correlation coefficient is not defined.\n",
      "\n",
      "/home/austinbaggetta/csstorage3/CircleTrack/CircleTrackAnalysis/place_cells.py:46: RuntimeWarning:\n",
      "\n",
      "invalid value encountered in divide\n",
      "\n",
      "/home/austinbaggetta/.conda/envs/calcium/lib/python3.10/site-packages/scipy/stats/_stats_py.py:4424: ConstantInputWarning:\n",
      "\n",
      "An input array is constant; the correlation coefficient is not defined.\n",
      "\n",
      "/home/austinbaggetta/.conda/envs/calcium/lib/python3.10/site-packages/scipy/stats/_stats_py.py:4424: ConstantInputWarning:\n",
      "\n",
      "An input array is constant; the correlation coefficient is not defined.\n",
      "\n",
      "/home/austinbaggetta/csstorage3/CircleTrack/CircleTrackAnalysis/place_cells.py:46: RuntimeWarning:\n",
      "\n",
      "invalid value encountered in divide\n",
      "\n",
      "/home/austinbaggetta/.conda/envs/calcium/lib/python3.10/site-packages/scipy/stats/_stats_py.py:4424: ConstantInputWarning:\n",
      "\n",
      "An input array is constant; the correlation coefficient is not defined.\n",
      "\n",
      "/home/austinbaggetta/.conda/envs/calcium/lib/python3.10/site-packages/scipy/stats/_stats_py.py:4424: ConstantInputWarning:\n",
      "\n",
      "An input array is constant; the correlation coefficient is not defined.\n",
      "\n",
      "/home/austinbaggetta/csstorage3/CircleTrack/CircleTrackAnalysis/place_cells.py:46: RuntimeWarning:\n",
      "\n",
      "invalid value encountered in divide\n",
      "\n",
      "/home/austinbaggetta/.conda/envs/calcium/lib/python3.10/site-packages/scipy/stats/_stats_py.py:4424: ConstantInputWarning:\n",
      "\n",
      "An input array is constant; the correlation coefficient is not defined.\n",
      "\n",
      "/home/austinbaggetta/.conda/envs/calcium/lib/python3.10/site-packages/scipy/stats/_stats_py.py:4424: ConstantInputWarning:\n",
      "\n",
      "An input array is constant; the correlation coefficient is not defined.\n",
      "\n",
      "/home/austinbaggetta/csstorage3/CircleTrack/CircleTrackAnalysis/place_cells.py:46: RuntimeWarning:\n",
      "\n",
      "invalid value encountered in divide\n",
      "\n",
      "/home/austinbaggetta/.conda/envs/calcium/lib/python3.10/site-packages/scipy/stats/_stats_py.py:4424: ConstantInputWarning:\n",
      "\n",
      "An input array is constant; the correlation coefficient is not defined.\n",
      "\n",
      "/home/austinbaggetta/.conda/envs/calcium/lib/python3.10/site-packages/scipy/stats/_stats_py.py:4424: ConstantInputWarning:\n",
      "\n",
      "An input array is constant; the correlation coefficient is not defined.\n",
      "\n",
      "/home/austinbaggetta/csstorage3/CircleTrack/CircleTrackAnalysis/place_cells.py:46: RuntimeWarning:\n",
      "\n",
      "invalid value encountered in divide\n",
      "\n",
      "/home/austinbaggetta/.conda/envs/calcium/lib/python3.10/site-packages/scipy/stats/_stats_py.py:4424: ConstantInputWarning:\n",
      "\n",
      "An input array is constant; the correlation coefficient is not defined.\n",
      "\n",
      "/home/austinbaggetta/.conda/envs/calcium/lib/python3.10/site-packages/scipy/stats/_stats_py.py:4424: ConstantInputWarning:\n",
      "\n",
      "An input array is constant; the correlation coefficient is not defined.\n",
      "\n",
      "/home/austinbaggetta/csstorage3/CircleTrack/CircleTrackAnalysis/place_cells.py:46: RuntimeWarning:\n",
      "\n",
      "invalid value encountered in divide\n",
      "\n",
      "/home/austinbaggetta/.conda/envs/calcium/lib/python3.10/site-packages/scipy/stats/_stats_py.py:4424: ConstantInputWarning:\n",
      "\n",
      "An input array is constant; the correlation coefficient is not defined.\n",
      "\n",
      "/home/austinbaggetta/.conda/envs/calcium/lib/python3.10/site-packages/scipy/stats/_stats_py.py:4424: ConstantInputWarning:\n",
      "\n",
      "An input array is constant; the correlation coefficient is not defined.\n",
      "\n",
      "/home/austinbaggetta/csstorage3/CircleTrack/CircleTrackAnalysis/place_cells.py:46: RuntimeWarning:\n",
      "\n",
      "invalid value encountered in divide\n",
      "\n",
      "/home/austinbaggetta/.conda/envs/calcium/lib/python3.10/site-packages/scipy/stats/_stats_py.py:4424: ConstantInputWarning:\n",
      "\n",
      "An input array is constant; the correlation coefficient is not defined.\n",
      "\n",
      "/home/austinbaggetta/.conda/envs/calcium/lib/python3.10/site-packages/scipy/stats/_stats_py.py:4424: ConstantInputWarning:\n",
      "\n",
      "An input array is constant; the correlation coefficient is not defined.\n",
      "\n",
      "/home/austinbaggetta/csstorage3/CircleTrack/CircleTrackAnalysis/place_cells.py:46: RuntimeWarning:\n",
      "\n",
      "invalid value encountered in divide\n",
      "\n",
      "/home/austinbaggetta/.conda/envs/calcium/lib/python3.10/site-packages/scipy/stats/_stats_py.py:4424: ConstantInputWarning:\n",
      "\n",
      "An input array is constant; the correlation coefficient is not defined.\n",
      "\n",
      "/home/austinbaggetta/.conda/envs/calcium/lib/python3.10/site-packages/scipy/stats/_stats_py.py:4424: ConstantInputWarning:\n",
      "\n",
      "An input array is constant; the correlation coefficient is not defined.\n",
      "\n",
      "/home/austinbaggetta/csstorage3/CircleTrack/CircleTrackAnalysis/place_cells.py:46: RuntimeWarning:\n",
      "\n",
      "invalid value encountered in divide\n",
      "\n",
      "/home/austinbaggetta/.conda/envs/calcium/lib/python3.10/site-packages/scipy/stats/_stats_py.py:4424: ConstantInputWarning:\n",
      "\n",
      "An input array is constant; the correlation coefficient is not defined.\n",
      "\n",
      "/home/austinbaggetta/.conda/envs/calcium/lib/python3.10/site-packages/scipy/stats/_stats_py.py:4424: ConstantInputWarning:\n",
      "\n",
      "An input array is constant; the correlation coefficient is not defined.\n",
      "\n",
      "/home/austinbaggetta/csstorage3/CircleTrack/CircleTrackAnalysis/place_cells.py:46: RuntimeWarning:\n",
      "\n",
      "invalid value encountered in divide\n",
      "\n",
      "/home/austinbaggetta/.conda/envs/calcium/lib/python3.10/site-packages/scipy/stats/_stats_py.py:4424: ConstantInputWarning:\n",
      "\n",
      "An input array is constant; the correlation coefficient is not defined.\n",
      "\n",
      "/home/austinbaggetta/.conda/envs/calcium/lib/python3.10/site-packages/scipy/stats/_stats_py.py:4424: ConstantInputWarning:\n",
      "\n",
      "An input array is constant; the correlation coefficient is not defined.\n",
      "\n",
      "/home/austinbaggetta/csstorage3/CircleTrack/CircleTrackAnalysis/place_cells.py:46: RuntimeWarning:\n",
      "\n",
      "invalid value encountered in divide\n",
      "\n",
      "/home/austinbaggetta/.conda/envs/calcium/lib/python3.10/site-packages/scipy/stats/_stats_py.py:4424: ConstantInputWarning:\n",
      "\n",
      "An input array is constant; the correlation coefficient is not defined.\n",
      "\n",
      "/home/austinbaggetta/.conda/envs/calcium/lib/python3.10/site-packages/scipy/stats/_stats_py.py:4424: ConstantInputWarning:\n",
      "\n",
      "An input array is constant; the correlation coefficient is not defined.\n",
      "\n",
      "/home/austinbaggetta/csstorage3/CircleTrack/CircleTrackAnalysis/place_cells.py:46: RuntimeWarning:\n",
      "\n",
      "invalid value encountered in divide\n",
      "\n",
      "/home/austinbaggetta/.conda/envs/calcium/lib/python3.10/site-packages/scipy/stats/_stats_py.py:4424: ConstantInputWarning:\n",
      "\n",
      "An input array is constant; the correlation coefficient is not defined.\n",
      "\n",
      "/home/austinbaggetta/.conda/envs/calcium/lib/python3.10/site-packages/scipy/stats/_stats_py.py:4424: ConstantInputWarning:\n",
      "\n",
      "An input array is constant; the correlation coefficient is not defined.\n",
      "\n",
      "/home/austinbaggetta/csstorage3/CircleTrack/CircleTrackAnalysis/place_cells.py:46: RuntimeWarning:\n",
      "\n",
      "invalid value encountered in divide\n",
      "\n",
      "/home/austinbaggetta/.conda/envs/calcium/lib/python3.10/site-packages/scipy/stats/_stats_py.py:4424: ConstantInputWarning:\n",
      "\n",
      "An input array is constant; the correlation coefficient is not defined.\n",
      "\n",
      "/home/austinbaggetta/.conda/envs/calcium/lib/python3.10/site-packages/scipy/stats/_stats_py.py:4424: ConstantInputWarning:\n",
      "\n",
      "An input array is constant; the correlation coefficient is not defined.\n",
      "\n",
      "/home/austinbaggetta/csstorage3/CircleTrack/CircleTrackAnalysis/place_cells.py:46: RuntimeWarning:\n",
      "\n",
      "invalid value encountered in divide\n",
      "\n",
      "/home/austinbaggetta/.conda/envs/calcium/lib/python3.10/site-packages/scipy/stats/_stats_py.py:4424: ConstantInputWarning:\n",
      "\n",
      "An input array is constant; the correlation coefficient is not defined.\n",
      "\n",
      "/home/austinbaggetta/csstorage3/CircleTrack/CircleTrackAnalysis/place_cells.py:46: RuntimeWarning:\n",
      "\n",
      "invalid value encountered in divide\n",
      "\n",
      "/home/austinbaggetta/.conda/envs/calcium/lib/python3.10/site-packages/scipy/stats/_stats_py.py:4424: ConstantInputWarning:\n",
      "\n",
      "An input array is constant; the correlation coefficient is not defined.\n",
      "\n",
      "/home/austinbaggetta/csstorage3/CircleTrack/CircleTrackAnalysis/place_cells.py:46: RuntimeWarning:\n",
      "\n",
      "invalid value encountered in divide\n",
      "\n",
      "/home/austinbaggetta/.conda/envs/calcium/lib/python3.10/site-packages/scipy/stats/_stats_py.py:4424: ConstantInputWarning:\n",
      "\n",
      "An input array is constant; the correlation coefficient is not defined.\n",
      "\n",
      "/home/austinbaggetta/csstorage3/CircleTrack/CircleTrackAnalysis/place_cells.py:46: RuntimeWarning:\n",
      "\n",
      "invalid value encountered in divide\n",
      "\n",
      "/home/austinbaggetta/.conda/envs/calcium/lib/python3.10/site-packages/scipy/stats/_stats_py.py:4424: ConstantInputWarning:\n",
      "\n",
      "An input array is constant; the correlation coefficient is not defined.\n",
      "\n",
      "/home/austinbaggetta/.conda/envs/calcium/lib/python3.10/site-packages/scipy/stats/_stats_py.py:4424: ConstantInputWarning:\n",
      "\n",
      "An input array is constant; the correlation coefficient is not defined.\n",
      "\n",
      "/home/austinbaggetta/csstorage3/CircleTrack/CircleTrackAnalysis/place_cells.py:46: RuntimeWarning:\n",
      "\n",
      "invalid value encountered in divide\n",
      "\n",
      "/home/austinbaggetta/.conda/envs/calcium/lib/python3.10/site-packages/scipy/stats/_stats_py.py:4424: ConstantInputWarning:\n",
      "\n",
      "An input array is constant; the correlation coefficient is not defined.\n",
      "\n",
      "/home/austinbaggetta/.conda/envs/calcium/lib/python3.10/site-packages/scipy/stats/_stats_py.py:4424: ConstantInputWarning:\n",
      "\n",
      "An input array is constant; the correlation coefficient is not defined.\n",
      "\n",
      "/home/austinbaggetta/csstorage3/CircleTrack/CircleTrackAnalysis/place_cells.py:46: RuntimeWarning:\n",
      "\n",
      "invalid value encountered in divide\n",
      "\n",
      "/home/austinbaggetta/.conda/envs/calcium/lib/python3.10/site-packages/scipy/stats/_stats_py.py:4424: ConstantInputWarning:\n",
      "\n",
      "An input array is constant; the correlation coefficient is not defined.\n",
      "\n",
      "/home/austinbaggetta/csstorage3/CircleTrack/CircleTrackAnalysis/place_cells.py:46: RuntimeWarning:\n",
      "\n",
      "invalid value encountered in divide\n",
      "\n",
      "/home/austinbaggetta/csstorage3/CircleTrack/CircleTrackAnalysis/place_cells.py:46: RuntimeWarning:\n",
      "\n",
      "invalid value encountered in divide\n",
      "\n",
      "/home/austinbaggetta/.conda/envs/calcium/lib/python3.10/site-packages/scipy/stats/_stats_py.py:4424: ConstantInputWarning:\n",
      "\n",
      "An input array is constant; the correlation coefficient is not defined.\n",
      "\n",
      "/home/austinbaggetta/csstorage3/CircleTrack/CircleTrackAnalysis/place_cells.py:46: RuntimeWarning:\n",
      "\n",
      "invalid value encountered in divide\n",
      "\n",
      "/home/austinbaggetta/csstorage3/CircleTrack/CircleTrackAnalysis/place_cells.py:46: RuntimeWarning:\n",
      "\n",
      "invalid value encountered in divide\n",
      "\n",
      "/home/austinbaggetta/.conda/envs/calcium/lib/python3.10/site-packages/scipy/stats/_stats_py.py:4424: ConstantInputWarning:\n",
      "\n",
      "An input array is constant; the correlation coefficient is not defined.\n",
      "\n",
      "/home/austinbaggetta/csstorage3/CircleTrack/CircleTrackAnalysis/place_cells.py:46: RuntimeWarning:\n",
      "\n",
      "invalid value encountered in divide\n",
      "\n",
      "/home/austinbaggetta/.conda/envs/calcium/lib/python3.10/site-packages/scipy/stats/_stats_py.py:4424: ConstantInputWarning:\n",
      "\n",
      "An input array is constant; the correlation coefficient is not defined.\n",
      "\n",
      "/home/austinbaggetta/.conda/envs/calcium/lib/python3.10/site-packages/scipy/stats/_stats_py.py:4424: ConstantInputWarning:\n",
      "\n",
      "An input array is constant; the correlation coefficient is not defined.\n",
      "\n",
      "/home/austinbaggetta/csstorage3/CircleTrack/CircleTrackAnalysis/place_cells.py:46: RuntimeWarning:\n",
      "\n",
      "invalid value encountered in divide\n",
      "\n",
      "/home/austinbaggetta/.conda/envs/calcium/lib/python3.10/site-packages/scipy/stats/_stats_py.py:4424: ConstantInputWarning:\n",
      "\n",
      "An input array is constant; the correlation coefficient is not defined.\n",
      "\n",
      "/home/austinbaggetta/.conda/envs/calcium/lib/python3.10/site-packages/scipy/stats/_stats_py.py:4424: ConstantInputWarning:\n",
      "\n",
      "An input array is constant; the correlation coefficient is not defined.\n",
      "\n",
      "/home/austinbaggetta/csstorage3/CircleTrack/CircleTrackAnalysis/place_cells.py:46: RuntimeWarning:\n",
      "\n",
      "invalid value encountered in divide\n",
      "\n",
      "/home/austinbaggetta/.conda/envs/calcium/lib/python3.10/site-packages/scipy/stats/_stats_py.py:4424: ConstantInputWarning:\n",
      "\n",
      "An input array is constant; the correlation coefficient is not defined.\n",
      "\n",
      "/home/austinbaggetta/csstorage3/CircleTrack/CircleTrackAnalysis/place_cells.py:46: RuntimeWarning:\n",
      "\n",
      "invalid value encountered in divide\n",
      "\n",
      "/home/austinbaggetta/.conda/envs/calcium/lib/python3.10/site-packages/scipy/stats/_stats_py.py:4424: ConstantInputWarning:\n",
      "\n",
      "An input array is constant; the correlation coefficient is not defined.\n",
      "\n",
      "/home/austinbaggetta/csstorage3/CircleTrack/CircleTrackAnalysis/place_cells.py:46: RuntimeWarning:\n",
      "\n",
      "invalid value encountered in divide\n",
      "\n",
      "/home/austinbaggetta/.conda/envs/calcium/lib/python3.10/site-packages/scipy/stats/_stats_py.py:4424: ConstantInputWarning:\n",
      "\n",
      "An input array is constant; the correlation coefficient is not defined.\n",
      "\n",
      "/home/austinbaggetta/.conda/envs/calcium/lib/python3.10/site-packages/scipy/stats/_stats_py.py:4424: ConstantInputWarning:\n",
      "\n",
      "An input array is constant; the correlation coefficient is not defined.\n",
      "\n",
      "/home/austinbaggetta/csstorage3/CircleTrack/CircleTrackAnalysis/place_cells.py:46: RuntimeWarning:\n",
      "\n",
      "invalid value encountered in divide\n",
      "\n",
      "/home/austinbaggetta/.conda/envs/calcium/lib/python3.10/site-packages/scipy/stats/_stats_py.py:4424: ConstantInputWarning:\n",
      "\n",
      "An input array is constant; the correlation coefficient is not defined.\n",
      "\n",
      "/home/austinbaggetta/.conda/envs/calcium/lib/python3.10/site-packages/scipy/stats/_stats_py.py:4424: ConstantInputWarning:\n",
      "\n",
      "An input array is constant; the correlation coefficient is not defined.\n",
      "\n",
      "/home/austinbaggetta/csstorage3/CircleTrack/CircleTrackAnalysis/place_cells.py:46: RuntimeWarning:\n",
      "\n",
      "invalid value encountered in divide\n",
      "\n",
      "/home/austinbaggetta/.conda/envs/calcium/lib/python3.10/site-packages/scipy/stats/_stats_py.py:4424: ConstantInputWarning:\n",
      "\n",
      "An input array is constant; the correlation coefficient is not defined.\n",
      "\n",
      "/home/austinbaggetta/.conda/envs/calcium/lib/python3.10/site-packages/scipy/stats/_stats_py.py:4424: ConstantInputWarning:\n",
      "\n",
      "An input array is constant; the correlation coefficient is not defined.\n",
      "\n",
      "/home/austinbaggetta/csstorage3/CircleTrack/CircleTrackAnalysis/place_cells.py:46: RuntimeWarning:\n",
      "\n",
      "invalid value encountered in divide\n",
      "\n",
      "/home/austinbaggetta/csstorage3/CircleTrack/CircleTrackAnalysis/place_cells.py:46: RuntimeWarning:\n",
      "\n",
      "invalid value encountered in divide\n",
      "\n",
      "/home/austinbaggetta/.conda/envs/calcium/lib/python3.10/site-packages/scipy/stats/_stats_py.py:4424: ConstantInputWarning:\n",
      "\n",
      "An input array is constant; the correlation coefficient is not defined.\n",
      "\n"
     ]
    }
   ],
   "source": [
    "data_type = 'S'\n",
    "cell_dict = {'mouse': [], 'group': [], 'group_two': [], 'session': [], 'day': [], 'unit_id': [], \n",
    "             'first_vs_second_stability': [], 'odd_vs_even_stability': []}\n",
    "for experiment in os.listdir(dpath):\n",
    "    if experiment not in experiment_folders:\n",
    "        pass \n",
    "    else:\n",
    "        exp_path = pjoin(dpath, f'{experiment}/output/{data_of_interest}/')\n",
    "        for mouse in os.listdir(exp_path):\n",
    "            if mouse == 'mc47':\n",
    "                pass\n",
    "            else:\n",
    "                mpath = pjoin(exp_path, f'{mouse}/{data_type}')\n",
    "                sex = 'Male' if mouse in male_mice else 'Female'\n",
    "                group = 'Control' if mouse in control_mice else 'Experimental'\n",
    "                for index, session in enumerate(os.listdir(mpath)):\n",
    "                    if (mouse == 'mc43') & (index > 11):\n",
    "                        index += 1\n",
    "                    elif (mouse == 'mc42') & (index > 14):\n",
    "                        index += 1\n",
    "                    elif (mouse == 'mc44') & (index > 7):\n",
    "                        index += 1\n",
    "                    elif (mouse == 'mc46') & (index > 9):\n",
    "                        index += 1\n",
    "                    elif (mouse == 'mc52') & (index > 2):\n",
    "                        index += 1\n",
    "                    \n",
    "                    sdata = xr.open_dataset(pjoin(mpath, session))[data_type]\n",
    "                    x_cm, y_cm = ctb.convert_to_cm(x=sdata['x'].values, y=sdata['y'].values)\n",
    "                    velocity, running = pc.define_running_epochs(x_cm, \n",
    "                                                                 y_cm, \n",
    "                                                                 sdata['behav_t'].values, \n",
    "                                                                 velocity_thresh=velocity_thresh)\n",
    "                    data = sdata[:, running].copy()\n",
    " \n",
    "                    ## First half vs second half stability\n",
    "                    first_half = data[:, :int(data.shape[1] / 2)]\n",
    "                    second_half = data[:, int(data.shape[1] / 2):]\n",
    "                    bins = ctb.calculate_bins(x=data['lin_position'].values, bin_size=bin_size)\n",
    "\n",
    "                    first_pop_act = np.zeros((data.shape[0], len(bins)))\n",
    "                    for idx, (start, end) in enumerate(zip(bins[:-1], bins[1:])):\n",
    "                        binned_data = first_half.values[:, (first_half['lin_position'] >= start) & (first_half['lin_position'] < end)]\n",
    "                        avg_activity = np.mean(binned_data, axis=1)\n",
    "                        first_pop_act[:, idx] = avg_activity\n",
    "\n",
    "                    second_pop_act = np.zeros((data.shape[0], len(bins)))\n",
    "                    for idx, (start, end) in enumerate(zip(bins[:-1], bins[1:])):\n",
    "                        binned_data = second_half.values[:, (second_half['lin_position'] >= start) & (second_half['lin_position'] < end)]\n",
    "                        avg_activity = np.mean(binned_data, axis=1)\n",
    "                        second_pop_act[:, idx] = avg_activity\n",
    "\n",
    "                    for cell in np.arange(0, data.shape[0]):\n",
    "                        cell_dict['mouse'].append(mouse)\n",
    "                        cell_dict['group'].append(group)\n",
    "                        cell_dict['group_two'].append(sex)\n",
    "                        cell_dict['session'].append(data.attrs['session_two'])\n",
    "                        cell_dict['day'].append(index+1)\n",
    "                        cell_dict['unit_id'].append(data['unit_id'].values[cell])\n",
    "                        cell_dict['first_vs_second_stability'].append(pearsonr(first_pop_act[cell], second_pop_act[cell])[0])\n",
    "                    \n",
    "                    ## Odd vs even stability\n",
    "                    forward, reverse = ctb.forward_reverse_trials(data, data['trials'])\n",
    "                    odd_data = data[:, data['trials'] == forward[0]]\n",
    "                    even_data = data[:, data['trials'] == forward[1]]\n",
    "                    for trial in forward[2:]:\n",
    "                        trial_data = data[:, data['trials'] == trial]\n",
    "                        if trial % 2 != 0:\n",
    "                            odd_data = xr.concat([odd_data, trial_data], dim='frame')\n",
    "                        else:\n",
    "                            even_data = xr.concat([even_data, trial_data], dim='frame')\n",
    "\n",
    "                    odd_pop_act = np.zeros((data.shape[0], len(bins)))\n",
    "                    even_pop_act = np.zeros((data.shape[0], len(bins)))\n",
    "                    for idx, (start, end) in enumerate(zip(bins[:-1], bins[1:])):\n",
    "                        binned_data = odd_data.values[:, (odd_data['lin_position'] >= start) & (odd_data['lin_position'] < end)]\n",
    "                        avg_activity = np.mean(binned_data, axis=1)\n",
    "                        odd_pop_act[:, idx] = avg_activity\n",
    "\n",
    "                        binned_data = even_data.values[:, (even_data['lin_position'] >= start) & (even_data['lin_position'] < end)]\n",
    "                        avg_activity = np.mean(binned_data, axis=1)\n",
    "                        even_pop_act[:, idx] = avg_activity\n",
    "                    \n",
    "                    for cell in np.arange(0, data.shape[0]):\n",
    "                        cell_dict['odd_vs_even_stability'].append(pearsonr(odd_pop_act[cell], even_pop_act[cell])[0])    \n",
    "cell_df = pd.DataFrame(cell_dict)     "
   ]
  },
  {
   "cell_type": "code",
   "execution_count": 149,
   "metadata": {},
   "outputs": [],
   "source": [
    "cell_df.to_csv(pjoin(fig_path, 'intermediate_data/within_session_stability.csv'))"
   ]
  },
  {
   "cell_type": "code",
   "execution_count": null,
   "metadata": {},
   "outputs": [],
   "source": [
    "## Use Fisher Z's transformation for each cell's Pearson correlation value\n",
    "cell_dict = {'mouse': [], 'day': [], 'group': [], 'first_vs_second': [], 'odd_vs_even': [], 'within_sess': []}\n",
    "for mouse in cell_df['mouse'].unique():\n",
    "    mdata = cell_df[cell_df['mouse'] == mouse]\n",
    "    for day in mdata['day'].unique():\n",
    "        day_data = mdata[mdata['day'] == day].reset_index(drop=True)\n",
    "        \n",
    "        nancells = np.where(pd.isna(day_data['first_vs_second_stability']) | pd.isna(day_data['odd_vs_even_stability']))[0]\n",
    "        day_data = day_data[~day_data.index.isin(nancells)] ## remove any cells with NaN\n",
    "\n",
    "        first = day_data['first_vs_second_stability'].to_numpy()\n",
    "        odd = day_data['odd_vs_even_stability'].to_numpy()\n",
    "        try:\n",
    "            first[first == 1.0] = 0.99999 ## Fisher Z is indeterminate at a perfect correlation\n",
    "        except:\n",
    "            pass\n",
    "\n",
    "        try:\n",
    "            odd[odd == 1.0] = 0.99999\n",
    "        except:\n",
    "            pass\n",
    "\n",
    "        zr_first = np.arctanh(first)\n",
    "        zr_odd = np.arctanh(odd)\n",
    "\n",
    "        cell_dict['mouse'].append(mouse)\n",
    "        cell_dict['day'].append(day)\n",
    "        cell_dict['group'].append(day_data['group'].unique()[0])\n",
    "        cell_dict['first_vs_second'].append(np.mean(zr_first))\n",
    "        cell_dict['odd_vs_even'].append(np.mean(zr_odd))\n",
    "        cell_dict['within_sess'].append(np.mean((zr_first + zr_odd) / 2))\n",
    "within_df = pd.DataFrame(cell_dict)"
   ]
  },
  {
   "cell_type": "code",
   "execution_count": null,
   "metadata": {},
   "outputs": [],
   "source": [
    "yvar = 'within_sess'\n",
    "avg_data = within_df.groupby(['group', 'day'], as_index=False).agg({'first_vs_second': ['mean', 'sem'],\n",
    "                                                                    'odd_vs_even': ['mean', 'sem'],\n",
    "                                                                    'within_sess': ['mean', 'sem']})\n",
    "fig = pf.custom_graph_template(x_title='Day', y_title='Stability')\n",
    "for group in avg_data['group'].unique():\n",
    "    gdata = avg_data[avg_data['group'] == group]\n",
    "    fig.add_trace(go.Scatter(x=gdata['day'], y=gdata[yvar]['mean'], mode='lines+markers',\n",
    "                             line_color=ce_color_dict[group], error_y=dict(type='data', array=gdata[yvar]['sem']),\n",
    "                             legendgroup=group, name=group))\n",
    "for value in [5.5, 10.5, 15.5]:\n",
    "    fig.add_vline(x=value, line_width=1, line_dash='dash', line_color=chance_color, opacity=1)\n",
    "fig.show()\n",
    "fig.write_image(pjoin(fig_path, f'{yvar}_stability_across_days_groups.png'))\n",
    "within_df.mixed_anova(within='day', between='group', dv=yvar, subject='mouse')"
   ]
  },
  {
   "cell_type": "code",
   "execution_count": null,
   "metadata": {},
   "outputs": [],
   "source": [
    "fig = pf.custom_graph_template(x_title='Day', y_title='Stability')\n",
    "for mouse in within_df['mouse'].unique():\n",
    "    mdata = within_df[within_df['mouse'] == mouse]\n",
    "    group = mdata['group'].unique()[0]\n",
    "    fig.add_trace(go.Scatter(x=mdata['day'], y=mdata[yvar], mode='lines',\n",
    "                             line_color=ce_color_dict[group], name=mouse,\n",
    "                             line=dict(width=1), opacity=0.8))\n",
    "for value in [5.5, 10.5, 15.5]:\n",
    "    fig.add_vline(x=value, line_width=1, line_dash='dash', line_color=chance_color, opacity=1)\n",
    "fig.write_image(pjoin(fig_path, f'{yvar}_stability_across_days_per_mouse.png'))\n",
    "fig.show()"
   ]
  },
  {
   "cell_type": "code",
   "execution_count": null,
   "metadata": {},
   "outputs": [],
   "source": [
    "fig = pf.custom_graph_template(x_title='', y_title='', rows=4, columns=5, shared_y=True, \n",
    "                               shared_x=True, width=900, height=900)\n",
    "var = 'within_sess'\n",
    "\n",
    "for group in cell_df['group'].unique():\n",
    "    gdata = cell_df[cell_df['group'] == group]\n",
    "    for index, day in enumerate(gdata['day'].unique()):\n",
    "        day_data = gdata[gdata['day'] == day].reset_index(drop=True)\n",
    "        \n",
    "        nancells = np.where(pd.isna(day_data['first_vs_second_stability']) | pd.isna(day_data['odd_vs_even_stability']))[0]\n",
    "        day_data = day_data[~day_data.index.isin(nancells)] ## remove any cells with NaN\n",
    "\n",
    "        first = day_data['first_vs_second_stability'].to_numpy()\n",
    "        odd = day_data['odd_vs_even_stability'].to_numpy()\n",
    "        try:\n",
    "            first[first == 1.0] = 0.999 ## Fisher Z is indeterminate at a perfect correlation\n",
    "        except:\n",
    "            pass\n",
    "\n",
    "        try:\n",
    "            odd[odd == 1.0] = 0.999\n",
    "        except:\n",
    "            pass\n",
    "\n",
    "        zr_first = np.arctanh(first)\n",
    "        zr_odd = np.arctanh(odd)\n",
    "        within_sess = (zr_first + zr_odd) / 2\n",
    "        \n",
    "        if var == 'within_sess':\n",
    "            plot_data = within_sess\n",
    "        elif var == 'odd_even':\n",
    "            plot_data = zr_odd\n",
    "        elif var == 'first_second':\n",
    "            plot_data = zr_first\n",
    "\n",
    "        ## Plot figure\n",
    "        if index < 5:\n",
    "            row, col = 1, index + 1\n",
    "        elif (index >= 5) & (index < 10):\n",
    "            row, col = 2, index - 4\n",
    "        elif (index >= 10) & (index < 15):\n",
    "            row, col = 3, index - 9\n",
    "        elif index >= 15:\n",
    "            row, col = 4, index - 14\n",
    "            \n",
    "        counts, xbins = np.histogram(plot_data, bins=40, density=True)\n",
    "        fig.add_trace(go.Bar(x=xbins, y=counts, marker_color=ce_color_dict[group],\n",
    "                             showlegend=False), row=row, col=col)\n",
    "fig.update_layout(barmode='overlay')\n",
    "fig.update_traces(opacity=0.70)\n",
    "fig.update_xaxes(title='Stability', row=4)\n",
    "fig.update_yaxes(title='Density', col=1)\n",
    "fig.show()"
   ]
  },
  {
   "cell_type": "markdown",
   "metadata": {},
   "source": [
    "### Plot relationship between first_vs_second stability and odd_vs_even stability for control vs experimental."
   ]
  },
  {
   "cell_type": "code",
   "execution_count": null,
   "metadata": {},
   "outputs": [],
   "source": [
    "num_plots = 20\n",
    "nrows = 4\n",
    "ncols = int(num_plots / nrows)\n",
    "fig = pf.custom_graph_template(x_title='', y_title='', rows=4, columns=5, titles=day_list,\n",
    "                               width=1000, height=1000, shared_y=True, shared_x=True)\n",
    "for group in ['Experimental']:\n",
    "    gdata = cell_df[cell_df['group'] == group].reset_index(drop=True)\n",
    "    for index, day in enumerate(natsorted(gdata['day'].unique())):\n",
    "        ## Plot figure\n",
    "        if index < 5:\n",
    "            row, col = 1, index + 1\n",
    "        elif (index >= 5) & (index < 10):\n",
    "            row, col = 2, index - 4\n",
    "        elif (index >= 10) & (index < 15):\n",
    "            row, col = 3, index - 9\n",
    "        elif index >= 15:\n",
    "            row, col = 4, index - 14\n",
    "        day_data = gdata[gdata['day'] == day]\n",
    "        fig.add_trace(go.Scatter(x=day_data['first_vs_second_stability'], y=day_data['odd_vs_even_stability'],\n",
    "                                 mode='markers', marker_color=ce_color_dict[group], showlegend=False,\n",
    "                                 opacity=0.5), row=row, col=col)\n",
    "fig.update_yaxes(title='Pearson r', col=1)\n",
    "fig.update_xaxes(title='Pearson r', row=4)\n",
    "fig.show()"
   ]
  },
  {
   "cell_type": "markdown",
   "metadata": {},
   "source": [
    "### Across-session stability"
   ]
  },
  {
   "cell_type": "code",
   "execution_count": 142,
   "metadata": {},
   "outputs": [
    {
     "name": "stdout",
     "output_type": "stream",
     "text": [
      "('mc42_S_11.nc', 'mc42_S_11.nc')\n",
      "('mc42_S_11.nc', 'mc42_S_12.nc')\n"
     ]
    },
    {
     "name": "stderr",
     "output_type": "stream",
     "text": [
      "/home/austinbaggetta/csstorage3/CircleTrack/CircleTrackAnalysis/place_cells.py:46: RuntimeWarning:\n",
      "\n",
      "invalid value encountered in divide\n",
      "\n",
      "/home/austinbaggetta/.conda/envs/calcium/lib/python3.10/site-packages/scipy/stats/_stats_py.py:4424: ConstantInputWarning:\n",
      "\n",
      "An input array is constant; the correlation coefficient is not defined.\n",
      "\n"
     ]
    },
    {
     "name": "stdout",
     "output_type": "stream",
     "text": [
      "('mc42_S_11.nc', 'mc42_S_13.nc')\n"
     ]
    },
    {
     "name": "stderr",
     "output_type": "stream",
     "text": [
      "/home/austinbaggetta/csstorage3/CircleTrack/CircleTrackAnalysis/place_cells.py:46: RuntimeWarning:\n",
      "\n",
      "invalid value encountered in divide\n",
      "\n",
      "/home/austinbaggetta/.conda/envs/calcium/lib/python3.10/site-packages/scipy/stats/_stats_py.py:4424: ConstantInputWarning:\n",
      "\n",
      "An input array is constant; the correlation coefficient is not defined.\n",
      "\n"
     ]
    },
    {
     "name": "stdout",
     "output_type": "stream",
     "text": [
      "('mc42_S_11.nc', 'mc42_S_14.nc')\n"
     ]
    },
    {
     "name": "stderr",
     "output_type": "stream",
     "text": [
      "/home/austinbaggetta/csstorage3/CircleTrack/CircleTrackAnalysis/place_cells.py:46: RuntimeWarning:\n",
      "\n",
      "invalid value encountered in divide\n",
      "\n",
      "/home/austinbaggetta/.conda/envs/calcium/lib/python3.10/site-packages/scipy/stats/_stats_py.py:4424: ConstantInputWarning:\n",
      "\n",
      "An input array is constant; the correlation coefficient is not defined.\n",
      "\n"
     ]
    },
    {
     "name": "stdout",
     "output_type": "stream",
     "text": [
      "('mc42_S_11.nc', 'mc42_S_15.nc')\n"
     ]
    },
    {
     "name": "stderr",
     "output_type": "stream",
     "text": [
      "/home/austinbaggetta/csstorage3/CircleTrack/CircleTrackAnalysis/place_cells.py:46: RuntimeWarning:\n",
      "\n",
      "invalid value encountered in divide\n",
      "\n"
     ]
    },
    {
     "name": "stdout",
     "output_type": "stream",
     "text": [
      "('mc42_S_12.nc', 'mc42_S_12.nc')\n",
      "('mc42_S_12.nc', 'mc42_S_13.nc')\n"
     ]
    },
    {
     "name": "stderr",
     "output_type": "stream",
     "text": [
      "/home/austinbaggetta/csstorage3/CircleTrack/CircleTrackAnalysis/place_cells.py:46: RuntimeWarning:\n",
      "\n",
      "invalid value encountered in divide\n",
      "\n"
     ]
    },
    {
     "name": "stdout",
     "output_type": "stream",
     "text": [
      "('mc42_S_12.nc', 'mc42_S_14.nc')\n"
     ]
    },
    {
     "name": "stderr",
     "output_type": "stream",
     "text": [
      "/home/austinbaggetta/csstorage3/CircleTrack/CircleTrackAnalysis/place_cells.py:46: RuntimeWarning:\n",
      "\n",
      "invalid value encountered in divide\n",
      "\n",
      "/home/austinbaggetta/.conda/envs/calcium/lib/python3.10/site-packages/scipy/stats/_stats_py.py:4424: ConstantInputWarning:\n",
      "\n",
      "An input array is constant; the correlation coefficient is not defined.\n",
      "\n"
     ]
    },
    {
     "name": "stdout",
     "output_type": "stream",
     "text": [
      "('mc42_S_12.nc', 'mc42_S_15.nc')\n"
     ]
    },
    {
     "name": "stderr",
     "output_type": "stream",
     "text": [
      "/home/austinbaggetta/csstorage3/CircleTrack/CircleTrackAnalysis/place_cells.py:46: RuntimeWarning:\n",
      "\n",
      "invalid value encountered in divide\n",
      "\n",
      "/home/austinbaggetta/.conda/envs/calcium/lib/python3.10/site-packages/scipy/stats/_stats_py.py:4424: ConstantInputWarning:\n",
      "\n",
      "An input array is constant; the correlation coefficient is not defined.\n",
      "\n"
     ]
    },
    {
     "name": "stdout",
     "output_type": "stream",
     "text": [
      "('mc42_S_13.nc', 'mc42_S_13.nc')\n",
      "('mc42_S_13.nc', 'mc42_S_14.nc')\n"
     ]
    },
    {
     "name": "stderr",
     "output_type": "stream",
     "text": [
      "/home/austinbaggetta/csstorage3/CircleTrack/CircleTrackAnalysis/place_cells.py:46: RuntimeWarning:\n",
      "\n",
      "invalid value encountered in divide\n",
      "\n"
     ]
    },
    {
     "name": "stdout",
     "output_type": "stream",
     "text": [
      "('mc42_S_13.nc', 'mc42_S_15.nc')\n"
     ]
    },
    {
     "name": "stderr",
     "output_type": "stream",
     "text": [
      "/home/austinbaggetta/csstorage3/CircleTrack/CircleTrackAnalysis/place_cells.py:46: RuntimeWarning:\n",
      "\n",
      "invalid value encountered in divide\n",
      "\n"
     ]
    },
    {
     "name": "stdout",
     "output_type": "stream",
     "text": [
      "('mc42_S_14.nc', 'mc42_S_14.nc')\n",
      "('mc42_S_14.nc', 'mc42_S_15.nc')\n",
      "('mc42_S_15.nc', 'mc42_S_15.nc')\n"
     ]
    },
    {
     "name": "stderr",
     "output_type": "stream",
     "text": [
      "/home/austinbaggetta/csstorage3/CircleTrack/CircleTrackAnalysis/place_cells.py:46: RuntimeWarning:\n",
      "\n",
      "invalid value encountered in divide\n",
      "\n"
     ]
    }
   ],
   "source": [
    "data_type = 'S'\n",
    "cell_dict = {'mouse': [], 'group': [], 'sex': [], 'session_one': [], 'session_two': [], 'unit_id_one': [], 'unit_id_two': [], 'stability': []}\n",
    "mouse = 'mc42'\n",
    "sess_list = [f'{mouse}_{data_type}_{x}.nc' for x in np.arange(11, 16)]\n",
    "# sess_list = [f'{mouse}_{data_type}_{x}.nc' for x in np.arange(11, 13)] + [f'{mouse}_{data_type}_{x}.nc' for x in np.arange(14, 16)]\n",
    "file_name_suffix = 'contextC'\n",
    "\n",
    "if mouse in imaging4:\n",
    "    experiment = experiment_folders[0]\n",
    "else:\n",
    "    experiment = experiment_folders[1]\n",
    "\n",
    "exp_path = pjoin(dpath, f'{experiment}/output/{data_of_interest}/')\n",
    "mpath = pjoin(exp_path, f'{mouse}/{data_type}')\n",
    "sex = 'Male' if mouse in male_mice else 'Female'\n",
    "group = 'Control' if mouse in control_mice else 'Experimental'\n",
    "if mouse in imaging4:\n",
    "    crossreg_path = pjoin(dpath, f'{experiment_folders[0]}/output/cross_registration_results')\n",
    "else:\n",
    "    crossreg_path = pjoin(dpath, f'{experiment_folders[1]}/output/cross_registration_results')\n",
    "mappings = pd.read_pickle(pjoin(crossreg_path, f'circletrack_data/{mouse}/mappings_{centroid_distance}.pkl'))\n",
    "mappings.columns = mappings.columns.droplevel(0)\n",
    "\n",
    "for d1, d2 in itertools.combinations_with_replacement(sess_list, r=2):\n",
    "    print((d1, d2))\n",
    "    sess_one = xr.open_dataset(pjoin(mpath, d1))[data_type]\n",
    "    sess_two = xr.open_dataset(pjoin(mpath, d2))[data_type]\n",
    "\n",
    "    if d1 == d2:\n",
    "        for cell in np.arange(0, sess_one.shape[0]):\n",
    "            cell_dict['mouse'].append(mouse)\n",
    "            cell_dict['group'].append(group)\n",
    "            cell_dict['sex'].append(sex)\n",
    "            cell_dict['session_one'].append(sess_one.attrs['session_two'])\n",
    "            cell_dict['session_two'].append(sess_two.attrs['session_two'])\n",
    "            cell_dict['unit_id_one'].append(sess_one['unit_id'].values[cell])\n",
    "            cell_dict['unit_id_two'].append(sess_two['unit_id'].values[cell])\n",
    "            cell_dict['stability'].append(np.nan)\n",
    "\n",
    "    else:\n",
    "        shared_cells = mappings[[sess_one.attrs['date'], sess_two.attrs['date']]].dropna().reset_index(drop=True)\n",
    "        shared_one = sess_one.sel(unit_id=shared_cells[sess_one.attrs['date']].values)\n",
    "        shared_two = sess_two.sel(unit_id=shared_cells[sess_two.attrs['date']].values)\n",
    "\n",
    "        forward_one, _ = ctb.forward_reverse_trials(shared_one, shared_one['trials'])\n",
    "        forward_two, _ = ctb.forward_reverse_trials(shared_two, shared_two['trials'])\n",
    "\n",
    "        first_sess = shared_one[:, shared_one['trials'] == forward_one[0]]\n",
    "        for trial in forward_one[1:]:\n",
    "            loop_sess = shared_one[:, shared_one['trials'] == trial]\n",
    "            first_sess = xr.concat([first_sess, loop_sess], dim='frame')\n",
    "        \n",
    "        second_sess = shared_two[:, shared_two['trials'] == forward_two[0]]\n",
    "        for trial in forward_two[1:]:\n",
    "            loop_sess = shared_two[:, shared_two['trials'] == trial]\n",
    "            second_sess = xr.concat([second_sess, loop_sess], dim='frame')\n",
    "        \n",
    "    \n",
    "        x_cm, y_cm = ctb.convert_to_cm(x=first_sess['x'].values, y=first_sess['y'].values)\n",
    "        velocity, running = pc.define_running_epochs(x_cm, \n",
    "                                                        y_cm, \n",
    "                                                        first_sess['behav_t'].values, \n",
    "                                                        velocity_thresh=velocity_thresh)\n",
    "        first_sess = first_sess[:, running]\n",
    "\n",
    "        x_cm, y_cm = ctb.convert_to_cm(x=second_sess['x'].values, y=second_sess['y'].values)\n",
    "        velocity, running = pc.define_running_epochs(x_cm, \n",
    "                                                        y_cm, \n",
    "                                                        second_sess['behav_t'].values, \n",
    "                                                        velocity_thresh=velocity_thresh)\n",
    "        second_sess = second_sess[:, running]\n",
    "\n",
    "        bins_one = ctb.calculate_bins(x=first_sess['lin_position'].values, bin_size=bin_size)\n",
    "        bins_two = ctb.calculate_bins(x=second_sess['lin_position'].values, bin_size=bin_size)\n",
    "\n",
    "        first_pop_act = np.zeros((first_sess.shape[0], len(bins_one)))\n",
    "        for idx, (start, end) in enumerate(zip(bins_one[:-1], bins_one[1:])):\n",
    "            binned_data = first_sess.values[:, (first_sess['lin_position'] >= start) & (first_sess['lin_position'] < end)]\n",
    "            avg_activity = np.mean(binned_data, axis=1)\n",
    "            first_pop_act[:, idx] = avg_activity\n",
    "\n",
    "        second_pop_act = np.zeros((second_sess.shape[0], len(bins_two)))\n",
    "        for idx, (start, end) in enumerate(zip(bins_two[:-1], bins_two[1:])):\n",
    "            binned_data = second_sess.values[:, (second_sess['lin_position'] >= start) & (second_sess['lin_position'] < end)]\n",
    "            avg_activity = np.mean(binned_data, axis=1)\n",
    "            second_pop_act[:, idx] = avg_activity\n",
    "\n",
    "        for cell in np.arange(0, first_sess.shape[0]):\n",
    "            cell_dict['mouse'].append(mouse)\n",
    "            cell_dict['group'].append(group)\n",
    "            cell_dict['sex'].append(sex)\n",
    "            cell_dict['session_one'].append(sess_one.attrs['session_two'])\n",
    "            cell_dict['session_two'].append(sess_two.attrs['session_two'])\n",
    "            cell_dict['unit_id_one'].append(first_sess['unit_id'].values[cell])\n",
    "            cell_dict['unit_id_two'].append(second_sess['unit_id'].values[cell])\n",
    "            cell_dict['stability'].append(pearsonr(first_pop_act[cell], second_pop_act[cell])[0])\n",
    "stability_df = pd.DataFrame(cell_dict)\n",
    "stability_df.to_csv(pjoin(fig_path, f'intermediate_data/{mouse}_cross_day_stability_{file_name_suffix}.csv'))"
   ]
  },
  {
   "cell_type": "code",
   "execution_count": 147,
   "metadata": {},
   "outputs": [
    {
     "data": {
      "application/vnd.plotly.v1+json": {
       "config": {
        "plotlyServerURL": "https://plot.ly"
       },
       "data": [
        {
         "histnorm": "probability",
         "marker": {
          "color": "midnightblue"
         },
         "type": "histogram",
         "x": [
          0.5004047451746204,
          -0.04473517986284501,
          0.8565998981207604,
          0.9750998308476266,
          -0.06670787792670094,
          0.4976339370812547,
          0.08500619507482719,
          0.44857793149648245,
          0.978397943375924,
          0.604333445910491,
          0.9197845893788463,
          0.493551756340147,
          0.15029101461851752,
          0.4336774981680795,
          0.4603776355138981,
          0.7192414664388236,
          0.12393625287863225,
          0.4640644274250225,
          0.569547595407382,
          0.3134778995407449,
          0.22321110800471072,
          -0.21868293127867647,
          0.5945676624864943,
          -0.08197824959429496,
          0.6273458480680809,
          -0.09535125177318202,
          0.021220836604205588,
          0.36085495750807417,
          0.45875075202399457,
          0.07297217644288234,
          0.13869982757857452,
          -0.08194681658291608,
          0.2566963276688261,
          -0.027615717192719144,
          0.9289051817907291,
          -0.03254917469613305,
          0.4147716311215648,
          0.26952744298861114,
          0.10551132565028098,
          0.2883782902473177,
          0.08532838709031135,
          0.12098991959457253,
          0.21082507935525518,
          0.5708628949703171,
          -0.07618943655506014,
          0.0941498694672384,
          0.24747646366688797,
          0.11368944272231354,
          0.49797191284904596,
          0.7115955076705025,
          -0.00329006933455879,
          0.3359955107032996,
          0.07798288750360671,
          0.8820653096207717,
          0.05752299895704391,
          -0.03544879382952046,
          0.35706925188132255,
          -0.05659013585836109,
          0.5854836417682188,
          0.49495509125382453,
          0.6153058042998816,
          0.7166629032345272
         ]
        }
       ],
       "layout": {
        "font": {
         "family": "Arial",
         "size": 22
        },
        "height": 500,
        "template": {
         "data": {
          "bar": [
           {
            "error_x": {
             "color": "rgb(36,36,36)"
            },
            "error_y": {
             "color": "rgb(36,36,36)"
            },
            "marker": {
             "line": {
              "color": "white",
              "width": 0.5
             },
             "pattern": {
              "fillmode": "overlay",
              "size": 10,
              "solidity": 0.2
             }
            },
            "type": "bar"
           }
          ],
          "barpolar": [
           {
            "marker": {
             "line": {
              "color": "white",
              "width": 0.5
             },
             "pattern": {
              "fillmode": "overlay",
              "size": 10,
              "solidity": 0.2
             }
            },
            "type": "barpolar"
           }
          ],
          "carpet": [
           {
            "aaxis": {
             "endlinecolor": "rgb(36,36,36)",
             "gridcolor": "white",
             "linecolor": "white",
             "minorgridcolor": "white",
             "startlinecolor": "rgb(36,36,36)"
            },
            "baxis": {
             "endlinecolor": "rgb(36,36,36)",
             "gridcolor": "white",
             "linecolor": "white",
             "minorgridcolor": "white",
             "startlinecolor": "rgb(36,36,36)"
            },
            "type": "carpet"
           }
          ],
          "choropleth": [
           {
            "colorbar": {
             "outlinewidth": 1,
             "tickcolor": "rgb(36,36,36)",
             "ticks": "outside"
            },
            "type": "choropleth"
           }
          ],
          "contour": [
           {
            "colorbar": {
             "outlinewidth": 1,
             "tickcolor": "rgb(36,36,36)",
             "ticks": "outside"
            },
            "colorscale": [
             [
              0,
              "#440154"
             ],
             [
              0.1111111111111111,
              "#482878"
             ],
             [
              0.2222222222222222,
              "#3e4989"
             ],
             [
              0.3333333333333333,
              "#31688e"
             ],
             [
              0.4444444444444444,
              "#26828e"
             ],
             [
              0.5555555555555556,
              "#1f9e89"
             ],
             [
              0.6666666666666666,
              "#35b779"
             ],
             [
              0.7777777777777778,
              "#6ece58"
             ],
             [
              0.8888888888888888,
              "#b5de2b"
             ],
             [
              1,
              "#fde725"
             ]
            ],
            "type": "contour"
           }
          ],
          "contourcarpet": [
           {
            "colorbar": {
             "outlinewidth": 1,
             "tickcolor": "rgb(36,36,36)",
             "ticks": "outside"
            },
            "type": "contourcarpet"
           }
          ],
          "heatmap": [
           {
            "colorbar": {
             "outlinewidth": 1,
             "tickcolor": "rgb(36,36,36)",
             "ticks": "outside"
            },
            "colorscale": [
             [
              0,
              "#440154"
             ],
             [
              0.1111111111111111,
              "#482878"
             ],
             [
              0.2222222222222222,
              "#3e4989"
             ],
             [
              0.3333333333333333,
              "#31688e"
             ],
             [
              0.4444444444444444,
              "#26828e"
             ],
             [
              0.5555555555555556,
              "#1f9e89"
             ],
             [
              0.6666666666666666,
              "#35b779"
             ],
             [
              0.7777777777777778,
              "#6ece58"
             ],
             [
              0.8888888888888888,
              "#b5de2b"
             ],
             [
              1,
              "#fde725"
             ]
            ],
            "type": "heatmap"
           }
          ],
          "heatmapgl": [
           {
            "colorbar": {
             "outlinewidth": 1,
             "tickcolor": "rgb(36,36,36)",
             "ticks": "outside"
            },
            "colorscale": [
             [
              0,
              "#440154"
             ],
             [
              0.1111111111111111,
              "#482878"
             ],
             [
              0.2222222222222222,
              "#3e4989"
             ],
             [
              0.3333333333333333,
              "#31688e"
             ],
             [
              0.4444444444444444,
              "#26828e"
             ],
             [
              0.5555555555555556,
              "#1f9e89"
             ],
             [
              0.6666666666666666,
              "#35b779"
             ],
             [
              0.7777777777777778,
              "#6ece58"
             ],
             [
              0.8888888888888888,
              "#b5de2b"
             ],
             [
              1,
              "#fde725"
             ]
            ],
            "type": "heatmapgl"
           }
          ],
          "histogram": [
           {
            "marker": {
             "line": {
              "color": "white",
              "width": 0.6
             }
            },
            "type": "histogram"
           }
          ],
          "histogram2d": [
           {
            "colorbar": {
             "outlinewidth": 1,
             "tickcolor": "rgb(36,36,36)",
             "ticks": "outside"
            },
            "colorscale": [
             [
              0,
              "#440154"
             ],
             [
              0.1111111111111111,
              "#482878"
             ],
             [
              0.2222222222222222,
              "#3e4989"
             ],
             [
              0.3333333333333333,
              "#31688e"
             ],
             [
              0.4444444444444444,
              "#26828e"
             ],
             [
              0.5555555555555556,
              "#1f9e89"
             ],
             [
              0.6666666666666666,
              "#35b779"
             ],
             [
              0.7777777777777778,
              "#6ece58"
             ],
             [
              0.8888888888888888,
              "#b5de2b"
             ],
             [
              1,
              "#fde725"
             ]
            ],
            "type": "histogram2d"
           }
          ],
          "histogram2dcontour": [
           {
            "colorbar": {
             "outlinewidth": 1,
             "tickcolor": "rgb(36,36,36)",
             "ticks": "outside"
            },
            "colorscale": [
             [
              0,
              "#440154"
             ],
             [
              0.1111111111111111,
              "#482878"
             ],
             [
              0.2222222222222222,
              "#3e4989"
             ],
             [
              0.3333333333333333,
              "#31688e"
             ],
             [
              0.4444444444444444,
              "#26828e"
             ],
             [
              0.5555555555555556,
              "#1f9e89"
             ],
             [
              0.6666666666666666,
              "#35b779"
             ],
             [
              0.7777777777777778,
              "#6ece58"
             ],
             [
              0.8888888888888888,
              "#b5de2b"
             ],
             [
              1,
              "#fde725"
             ]
            ],
            "type": "histogram2dcontour"
           }
          ],
          "mesh3d": [
           {
            "colorbar": {
             "outlinewidth": 1,
             "tickcolor": "rgb(36,36,36)",
             "ticks": "outside"
            },
            "type": "mesh3d"
           }
          ],
          "parcoords": [
           {
            "line": {
             "colorbar": {
              "outlinewidth": 1,
              "tickcolor": "rgb(36,36,36)",
              "ticks": "outside"
             }
            },
            "type": "parcoords"
           }
          ],
          "pie": [
           {
            "automargin": true,
            "type": "pie"
           }
          ],
          "scatter": [
           {
            "fillpattern": {
             "fillmode": "overlay",
             "size": 10,
             "solidity": 0.2
            },
            "type": "scatter"
           }
          ],
          "scatter3d": [
           {
            "line": {
             "colorbar": {
              "outlinewidth": 1,
              "tickcolor": "rgb(36,36,36)",
              "ticks": "outside"
             }
            },
            "marker": {
             "colorbar": {
              "outlinewidth": 1,
              "tickcolor": "rgb(36,36,36)",
              "ticks": "outside"
             }
            },
            "type": "scatter3d"
           }
          ],
          "scattercarpet": [
           {
            "marker": {
             "colorbar": {
              "outlinewidth": 1,
              "tickcolor": "rgb(36,36,36)",
              "ticks": "outside"
             }
            },
            "type": "scattercarpet"
           }
          ],
          "scattergeo": [
           {
            "marker": {
             "colorbar": {
              "outlinewidth": 1,
              "tickcolor": "rgb(36,36,36)",
              "ticks": "outside"
             }
            },
            "type": "scattergeo"
           }
          ],
          "scattergl": [
           {
            "marker": {
             "colorbar": {
              "outlinewidth": 1,
              "tickcolor": "rgb(36,36,36)",
              "ticks": "outside"
             }
            },
            "type": "scattergl"
           }
          ],
          "scattermapbox": [
           {
            "marker": {
             "colorbar": {
              "outlinewidth": 1,
              "tickcolor": "rgb(36,36,36)",
              "ticks": "outside"
             }
            },
            "type": "scattermapbox"
           }
          ],
          "scatterpolar": [
           {
            "marker": {
             "colorbar": {
              "outlinewidth": 1,
              "tickcolor": "rgb(36,36,36)",
              "ticks": "outside"
             }
            },
            "type": "scatterpolar"
           }
          ],
          "scatterpolargl": [
           {
            "marker": {
             "colorbar": {
              "outlinewidth": 1,
              "tickcolor": "rgb(36,36,36)",
              "ticks": "outside"
             }
            },
            "type": "scatterpolargl"
           }
          ],
          "scatterternary": [
           {
            "marker": {
             "colorbar": {
              "outlinewidth": 1,
              "tickcolor": "rgb(36,36,36)",
              "ticks": "outside"
             }
            },
            "type": "scatterternary"
           }
          ],
          "surface": [
           {
            "colorbar": {
             "outlinewidth": 1,
             "tickcolor": "rgb(36,36,36)",
             "ticks": "outside"
            },
            "colorscale": [
             [
              0,
              "#440154"
             ],
             [
              0.1111111111111111,
              "#482878"
             ],
             [
              0.2222222222222222,
              "#3e4989"
             ],
             [
              0.3333333333333333,
              "#31688e"
             ],
             [
              0.4444444444444444,
              "#26828e"
             ],
             [
              0.5555555555555556,
              "#1f9e89"
             ],
             [
              0.6666666666666666,
              "#35b779"
             ],
             [
              0.7777777777777778,
              "#6ece58"
             ],
             [
              0.8888888888888888,
              "#b5de2b"
             ],
             [
              1,
              "#fde725"
             ]
            ],
            "type": "surface"
           }
          ],
          "table": [
           {
            "cells": {
             "fill": {
              "color": "rgb(237,237,237)"
             },
             "line": {
              "color": "white"
             }
            },
            "header": {
             "fill": {
              "color": "rgb(217,217,217)"
             },
             "line": {
              "color": "white"
             }
            },
            "type": "table"
           }
          ]
         },
         "layout": {
          "annotationdefaults": {
           "arrowhead": 0,
           "arrowwidth": 1
          },
          "autotypenumbers": "strict",
          "coloraxis": {
           "colorbar": {
            "outlinewidth": 1,
            "tickcolor": "rgb(36,36,36)",
            "ticks": "outside"
           }
          },
          "colorscale": {
           "diverging": [
            [
             0,
             "rgb(103,0,31)"
            ],
            [
             0.1,
             "rgb(178,24,43)"
            ],
            [
             0.2,
             "rgb(214,96,77)"
            ],
            [
             0.3,
             "rgb(244,165,130)"
            ],
            [
             0.4,
             "rgb(253,219,199)"
            ],
            [
             0.5,
             "rgb(247,247,247)"
            ],
            [
             0.6,
             "rgb(209,229,240)"
            ],
            [
             0.7,
             "rgb(146,197,222)"
            ],
            [
             0.8,
             "rgb(67,147,195)"
            ],
            [
             0.9,
             "rgb(33,102,172)"
            ],
            [
             1,
             "rgb(5,48,97)"
            ]
           ],
           "sequential": [
            [
             0,
             "#440154"
            ],
            [
             0.1111111111111111,
             "#482878"
            ],
            [
             0.2222222222222222,
             "#3e4989"
            ],
            [
             0.3333333333333333,
             "#31688e"
            ],
            [
             0.4444444444444444,
             "#26828e"
            ],
            [
             0.5555555555555556,
             "#1f9e89"
            ],
            [
             0.6666666666666666,
             "#35b779"
            ],
            [
             0.7777777777777778,
             "#6ece58"
            ],
            [
             0.8888888888888888,
             "#b5de2b"
            ],
            [
             1,
             "#fde725"
            ]
           ],
           "sequentialminus": [
            [
             0,
             "#440154"
            ],
            [
             0.1111111111111111,
             "#482878"
            ],
            [
             0.2222222222222222,
             "#3e4989"
            ],
            [
             0.3333333333333333,
             "#31688e"
            ],
            [
             0.4444444444444444,
             "#26828e"
            ],
            [
             0.5555555555555556,
             "#1f9e89"
            ],
            [
             0.6666666666666666,
             "#35b779"
            ],
            [
             0.7777777777777778,
             "#6ece58"
            ],
            [
             0.8888888888888888,
             "#b5de2b"
            ],
            [
             1,
             "#fde725"
            ]
           ]
          },
          "colorway": [
           "#1F77B4",
           "#FF7F0E",
           "#2CA02C",
           "#D62728",
           "#9467BD",
           "#8C564B",
           "#E377C2",
           "#7F7F7F",
           "#BCBD22",
           "#17BECF"
          ],
          "font": {
           "color": "rgb(36,36,36)"
          },
          "geo": {
           "bgcolor": "white",
           "lakecolor": "white",
           "landcolor": "white",
           "showlakes": true,
           "showland": true,
           "subunitcolor": "white"
          },
          "hoverlabel": {
           "align": "left"
          },
          "hovermode": "closest",
          "mapbox": {
           "style": "light"
          },
          "paper_bgcolor": "white",
          "plot_bgcolor": "white",
          "polar": {
           "angularaxis": {
            "gridcolor": "rgb(232,232,232)",
            "linecolor": "rgb(36,36,36)",
            "showgrid": false,
            "showline": true,
            "ticks": "outside"
           },
           "bgcolor": "white",
           "radialaxis": {
            "gridcolor": "rgb(232,232,232)",
            "linecolor": "rgb(36,36,36)",
            "showgrid": false,
            "showline": true,
            "ticks": "outside"
           }
          },
          "scene": {
           "xaxis": {
            "backgroundcolor": "white",
            "gridcolor": "rgb(232,232,232)",
            "gridwidth": 2,
            "linecolor": "rgb(36,36,36)",
            "showbackground": true,
            "showgrid": false,
            "showline": true,
            "ticks": "outside",
            "zeroline": false,
            "zerolinecolor": "rgb(36,36,36)"
           },
           "yaxis": {
            "backgroundcolor": "white",
            "gridcolor": "rgb(232,232,232)",
            "gridwidth": 2,
            "linecolor": "rgb(36,36,36)",
            "showbackground": true,
            "showgrid": false,
            "showline": true,
            "ticks": "outside",
            "zeroline": false,
            "zerolinecolor": "rgb(36,36,36)"
           },
           "zaxis": {
            "backgroundcolor": "white",
            "gridcolor": "rgb(232,232,232)",
            "gridwidth": 2,
            "linecolor": "rgb(36,36,36)",
            "showbackground": true,
            "showgrid": false,
            "showline": true,
            "ticks": "outside",
            "zeroline": false,
            "zerolinecolor": "rgb(36,36,36)"
           }
          },
          "shapedefaults": {
           "fillcolor": "black",
           "line": {
            "width": 0
           },
           "opacity": 0.3
          },
          "ternary": {
           "aaxis": {
            "gridcolor": "rgb(232,232,232)",
            "linecolor": "rgb(36,36,36)",
            "showgrid": false,
            "showline": true,
            "ticks": "outside"
           },
           "baxis": {
            "gridcolor": "rgb(232,232,232)",
            "linecolor": "rgb(36,36,36)",
            "showgrid": false,
            "showline": true,
            "ticks": "outside"
           },
           "bgcolor": "white",
           "caxis": {
            "gridcolor": "rgb(232,232,232)",
            "linecolor": "rgb(36,36,36)",
            "showgrid": false,
            "showline": true,
            "ticks": "outside"
           }
          },
          "title": {
           "x": 0.05
          },
          "xaxis": {
           "automargin": true,
           "gridcolor": "rgb(232,232,232)",
           "linecolor": "rgb(36,36,36)",
           "showgrid": false,
           "showline": true,
           "ticks": "outside",
           "title": {
            "standoff": 15
           },
           "zeroline": false,
           "zerolinecolor": "rgb(36,36,36)"
          },
          "yaxis": {
           "automargin": true,
           "gridcolor": "rgb(232,232,232)",
           "linecolor": "rgb(36,36,36)",
           "showgrid": false,
           "showline": true,
           "ticks": "outside",
           "title": {
            "standoff": 15
           },
           "zeroline": false,
           "zerolinecolor": "rgb(36,36,36)"
          }
         }
        },
        "title": {
         "x": 0.5,
         "xanchor": "center",
         "y": 0.9,
         "yanchor": "top"
        },
        "width": 500,
        "xaxis": {
         "anchor": "y",
         "domain": [
          0,
          1
         ],
         "linewidth": 1.5,
         "title": {
          "text": "Pearson r"
         }
        },
        "yaxis": {
         "anchor": "x",
         "domain": [
          0,
          1
         ],
         "linewidth": 1.5,
         "title": {
          "text": "Probability"
         }
        }
       }
      },
      "text/html": [
       "<div>                            <div id=\"c93d968b-53a8-4044-b297-9316c65bb529\" class=\"plotly-graph-div\" style=\"height:500px; width:500px;\"></div>            <script type=\"text/javascript\">                require([\"plotly\"], function(Plotly) {                    window.PLOTLYENV=window.PLOTLYENV || {};                                    if (document.getElementById(\"c93d968b-53a8-4044-b297-9316c65bb529\")) {                    Plotly.newPlot(                        \"c93d968b-53a8-4044-b297-9316c65bb529\",                        [{\"histnorm\":\"probability\",\"marker\":{\"color\":\"midnightblue\"},\"x\":[0.5004047451746204,-0.04473517986284501,0.8565998981207604,0.9750998308476266,-0.06670787792670094,0.4976339370812547,0.08500619507482719,0.44857793149648245,0.978397943375924,0.604333445910491,0.9197845893788463,0.493551756340147,0.15029101461851752,0.4336774981680795,0.4603776355138981,0.7192414664388236,0.12393625287863225,0.4640644274250225,0.569547595407382,0.3134778995407449,0.22321110800471072,-0.21868293127867647,0.5945676624864943,-0.08197824959429496,0.6273458480680809,-0.09535125177318202,0.021220836604205588,0.36085495750807417,0.45875075202399457,0.07297217644288234,0.13869982757857452,-0.08194681658291608,0.2566963276688261,-0.027615717192719144,0.9289051817907291,-0.03254917469613305,0.4147716311215648,0.26952744298861114,0.10551132565028098,0.2883782902473177,0.08532838709031135,0.12098991959457253,0.21082507935525518,0.5708628949703171,-0.07618943655506014,0.0941498694672384,0.24747646366688797,0.11368944272231354,0.49797191284904596,0.7115955076705025,-0.00329006933455879,0.3359955107032996,0.07798288750360671,0.8820653096207717,0.05752299895704391,-0.03544879382952046,0.35706925188132255,-0.05659013585836109,0.5854836417682188,0.49495509125382453,0.6153058042998816,0.7166629032345272],\"type\":\"histogram\"}],                        {\"template\":{\"data\":{\"barpolar\":[{\"marker\":{\"line\":{\"color\":\"white\",\"width\":0.5},\"pattern\":{\"fillmode\":\"overlay\",\"size\":10,\"solidity\":0.2}},\"type\":\"barpolar\"}],\"bar\":[{\"error_x\":{\"color\":\"rgb(36,36,36)\"},\"error_y\":{\"color\":\"rgb(36,36,36)\"},\"marker\":{\"line\":{\"color\":\"white\",\"width\":0.5},\"pattern\":{\"fillmode\":\"overlay\",\"size\":10,\"solidity\":0.2}},\"type\":\"bar\"}],\"carpet\":[{\"aaxis\":{\"endlinecolor\":\"rgb(36,36,36)\",\"gridcolor\":\"white\",\"linecolor\":\"white\",\"minorgridcolor\":\"white\",\"startlinecolor\":\"rgb(36,36,36)\"},\"baxis\":{\"endlinecolor\":\"rgb(36,36,36)\",\"gridcolor\":\"white\",\"linecolor\":\"white\",\"minorgridcolor\":\"white\",\"startlinecolor\":\"rgb(36,36,36)\"},\"type\":\"carpet\"}],\"choropleth\":[{\"colorbar\":{\"outlinewidth\":1,\"tickcolor\":\"rgb(36,36,36)\",\"ticks\":\"outside\"},\"type\":\"choropleth\"}],\"contourcarpet\":[{\"colorbar\":{\"outlinewidth\":1,\"tickcolor\":\"rgb(36,36,36)\",\"ticks\":\"outside\"},\"type\":\"contourcarpet\"}],\"contour\":[{\"colorbar\":{\"outlinewidth\":1,\"tickcolor\":\"rgb(36,36,36)\",\"ticks\":\"outside\"},\"colorscale\":[[0.0,\"#440154\"],[0.1111111111111111,\"#482878\"],[0.2222222222222222,\"#3e4989\"],[0.3333333333333333,\"#31688e\"],[0.4444444444444444,\"#26828e\"],[0.5555555555555556,\"#1f9e89\"],[0.6666666666666666,\"#35b779\"],[0.7777777777777778,\"#6ece58\"],[0.8888888888888888,\"#b5de2b\"],[1.0,\"#fde725\"]],\"type\":\"contour\"}],\"heatmapgl\":[{\"colorbar\":{\"outlinewidth\":1,\"tickcolor\":\"rgb(36,36,36)\",\"ticks\":\"outside\"},\"colorscale\":[[0.0,\"#440154\"],[0.1111111111111111,\"#482878\"],[0.2222222222222222,\"#3e4989\"],[0.3333333333333333,\"#31688e\"],[0.4444444444444444,\"#26828e\"],[0.5555555555555556,\"#1f9e89\"],[0.6666666666666666,\"#35b779\"],[0.7777777777777778,\"#6ece58\"],[0.8888888888888888,\"#b5de2b\"],[1.0,\"#fde725\"]],\"type\":\"heatmapgl\"}],\"heatmap\":[{\"colorbar\":{\"outlinewidth\":1,\"tickcolor\":\"rgb(36,36,36)\",\"ticks\":\"outside\"},\"colorscale\":[[0.0,\"#440154\"],[0.1111111111111111,\"#482878\"],[0.2222222222222222,\"#3e4989\"],[0.3333333333333333,\"#31688e\"],[0.4444444444444444,\"#26828e\"],[0.5555555555555556,\"#1f9e89\"],[0.6666666666666666,\"#35b779\"],[0.7777777777777778,\"#6ece58\"],[0.8888888888888888,\"#b5de2b\"],[1.0,\"#fde725\"]],\"type\":\"heatmap\"}],\"histogram2dcontour\":[{\"colorbar\":{\"outlinewidth\":1,\"tickcolor\":\"rgb(36,36,36)\",\"ticks\":\"outside\"},\"colorscale\":[[0.0,\"#440154\"],[0.1111111111111111,\"#482878\"],[0.2222222222222222,\"#3e4989\"],[0.3333333333333333,\"#31688e\"],[0.4444444444444444,\"#26828e\"],[0.5555555555555556,\"#1f9e89\"],[0.6666666666666666,\"#35b779\"],[0.7777777777777778,\"#6ece58\"],[0.8888888888888888,\"#b5de2b\"],[1.0,\"#fde725\"]],\"type\":\"histogram2dcontour\"}],\"histogram2d\":[{\"colorbar\":{\"outlinewidth\":1,\"tickcolor\":\"rgb(36,36,36)\",\"ticks\":\"outside\"},\"colorscale\":[[0.0,\"#440154\"],[0.1111111111111111,\"#482878\"],[0.2222222222222222,\"#3e4989\"],[0.3333333333333333,\"#31688e\"],[0.4444444444444444,\"#26828e\"],[0.5555555555555556,\"#1f9e89\"],[0.6666666666666666,\"#35b779\"],[0.7777777777777778,\"#6ece58\"],[0.8888888888888888,\"#b5de2b\"],[1.0,\"#fde725\"]],\"type\":\"histogram2d\"}],\"histogram\":[{\"marker\":{\"line\":{\"color\":\"white\",\"width\":0.6}},\"type\":\"histogram\"}],\"mesh3d\":[{\"colorbar\":{\"outlinewidth\":1,\"tickcolor\":\"rgb(36,36,36)\",\"ticks\":\"outside\"},\"type\":\"mesh3d\"}],\"parcoords\":[{\"line\":{\"colorbar\":{\"outlinewidth\":1,\"tickcolor\":\"rgb(36,36,36)\",\"ticks\":\"outside\"}},\"type\":\"parcoords\"}],\"pie\":[{\"automargin\":true,\"type\":\"pie\"}],\"scatter3d\":[{\"line\":{\"colorbar\":{\"outlinewidth\":1,\"tickcolor\":\"rgb(36,36,36)\",\"ticks\":\"outside\"}},\"marker\":{\"colorbar\":{\"outlinewidth\":1,\"tickcolor\":\"rgb(36,36,36)\",\"ticks\":\"outside\"}},\"type\":\"scatter3d\"}],\"scattercarpet\":[{\"marker\":{\"colorbar\":{\"outlinewidth\":1,\"tickcolor\":\"rgb(36,36,36)\",\"ticks\":\"outside\"}},\"type\":\"scattercarpet\"}],\"scattergeo\":[{\"marker\":{\"colorbar\":{\"outlinewidth\":1,\"tickcolor\":\"rgb(36,36,36)\",\"ticks\":\"outside\"}},\"type\":\"scattergeo\"}],\"scattergl\":[{\"marker\":{\"colorbar\":{\"outlinewidth\":1,\"tickcolor\":\"rgb(36,36,36)\",\"ticks\":\"outside\"}},\"type\":\"scattergl\"}],\"scattermapbox\":[{\"marker\":{\"colorbar\":{\"outlinewidth\":1,\"tickcolor\":\"rgb(36,36,36)\",\"ticks\":\"outside\"}},\"type\":\"scattermapbox\"}],\"scatterpolargl\":[{\"marker\":{\"colorbar\":{\"outlinewidth\":1,\"tickcolor\":\"rgb(36,36,36)\",\"ticks\":\"outside\"}},\"type\":\"scatterpolargl\"}],\"scatterpolar\":[{\"marker\":{\"colorbar\":{\"outlinewidth\":1,\"tickcolor\":\"rgb(36,36,36)\",\"ticks\":\"outside\"}},\"type\":\"scatterpolar\"}],\"scatter\":[{\"fillpattern\":{\"fillmode\":\"overlay\",\"size\":10,\"solidity\":0.2},\"type\":\"scatter\"}],\"scatterternary\":[{\"marker\":{\"colorbar\":{\"outlinewidth\":1,\"tickcolor\":\"rgb(36,36,36)\",\"ticks\":\"outside\"}},\"type\":\"scatterternary\"}],\"surface\":[{\"colorbar\":{\"outlinewidth\":1,\"tickcolor\":\"rgb(36,36,36)\",\"ticks\":\"outside\"},\"colorscale\":[[0.0,\"#440154\"],[0.1111111111111111,\"#482878\"],[0.2222222222222222,\"#3e4989\"],[0.3333333333333333,\"#31688e\"],[0.4444444444444444,\"#26828e\"],[0.5555555555555556,\"#1f9e89\"],[0.6666666666666666,\"#35b779\"],[0.7777777777777778,\"#6ece58\"],[0.8888888888888888,\"#b5de2b\"],[1.0,\"#fde725\"]],\"type\":\"surface\"}],\"table\":[{\"cells\":{\"fill\":{\"color\":\"rgb(237,237,237)\"},\"line\":{\"color\":\"white\"}},\"header\":{\"fill\":{\"color\":\"rgb(217,217,217)\"},\"line\":{\"color\":\"white\"}},\"type\":\"table\"}]},\"layout\":{\"annotationdefaults\":{\"arrowhead\":0,\"arrowwidth\":1},\"autotypenumbers\":\"strict\",\"coloraxis\":{\"colorbar\":{\"outlinewidth\":1,\"tickcolor\":\"rgb(36,36,36)\",\"ticks\":\"outside\"}},\"colorscale\":{\"diverging\":[[0.0,\"rgb(103,0,31)\"],[0.1,\"rgb(178,24,43)\"],[0.2,\"rgb(214,96,77)\"],[0.3,\"rgb(244,165,130)\"],[0.4,\"rgb(253,219,199)\"],[0.5,\"rgb(247,247,247)\"],[0.6,\"rgb(209,229,240)\"],[0.7,\"rgb(146,197,222)\"],[0.8,\"rgb(67,147,195)\"],[0.9,\"rgb(33,102,172)\"],[1.0,\"rgb(5,48,97)\"]],\"sequential\":[[0.0,\"#440154\"],[0.1111111111111111,\"#482878\"],[0.2222222222222222,\"#3e4989\"],[0.3333333333333333,\"#31688e\"],[0.4444444444444444,\"#26828e\"],[0.5555555555555556,\"#1f9e89\"],[0.6666666666666666,\"#35b779\"],[0.7777777777777778,\"#6ece58\"],[0.8888888888888888,\"#b5de2b\"],[1.0,\"#fde725\"]],\"sequentialminus\":[[0.0,\"#440154\"],[0.1111111111111111,\"#482878\"],[0.2222222222222222,\"#3e4989\"],[0.3333333333333333,\"#31688e\"],[0.4444444444444444,\"#26828e\"],[0.5555555555555556,\"#1f9e89\"],[0.6666666666666666,\"#35b779\"],[0.7777777777777778,\"#6ece58\"],[0.8888888888888888,\"#b5de2b\"],[1.0,\"#fde725\"]]},\"colorway\":[\"#1F77B4\",\"#FF7F0E\",\"#2CA02C\",\"#D62728\",\"#9467BD\",\"#8C564B\",\"#E377C2\",\"#7F7F7F\",\"#BCBD22\",\"#17BECF\"],\"font\":{\"color\":\"rgb(36,36,36)\"},\"geo\":{\"bgcolor\":\"white\",\"lakecolor\":\"white\",\"landcolor\":\"white\",\"showlakes\":true,\"showland\":true,\"subunitcolor\":\"white\"},\"hoverlabel\":{\"align\":\"left\"},\"hovermode\":\"closest\",\"mapbox\":{\"style\":\"light\"},\"paper_bgcolor\":\"white\",\"plot_bgcolor\":\"white\",\"polar\":{\"angularaxis\":{\"gridcolor\":\"rgb(232,232,232)\",\"linecolor\":\"rgb(36,36,36)\",\"showgrid\":false,\"showline\":true,\"ticks\":\"outside\"},\"bgcolor\":\"white\",\"radialaxis\":{\"gridcolor\":\"rgb(232,232,232)\",\"linecolor\":\"rgb(36,36,36)\",\"showgrid\":false,\"showline\":true,\"ticks\":\"outside\"}},\"scene\":{\"xaxis\":{\"backgroundcolor\":\"white\",\"gridcolor\":\"rgb(232,232,232)\",\"gridwidth\":2,\"linecolor\":\"rgb(36,36,36)\",\"showbackground\":true,\"showgrid\":false,\"showline\":true,\"ticks\":\"outside\",\"zeroline\":false,\"zerolinecolor\":\"rgb(36,36,36)\"},\"yaxis\":{\"backgroundcolor\":\"white\",\"gridcolor\":\"rgb(232,232,232)\",\"gridwidth\":2,\"linecolor\":\"rgb(36,36,36)\",\"showbackground\":true,\"showgrid\":false,\"showline\":true,\"ticks\":\"outside\",\"zeroline\":false,\"zerolinecolor\":\"rgb(36,36,36)\"},\"zaxis\":{\"backgroundcolor\":\"white\",\"gridcolor\":\"rgb(232,232,232)\",\"gridwidth\":2,\"linecolor\":\"rgb(36,36,36)\",\"showbackground\":true,\"showgrid\":false,\"showline\":true,\"ticks\":\"outside\",\"zeroline\":false,\"zerolinecolor\":\"rgb(36,36,36)\"}},\"shapedefaults\":{\"fillcolor\":\"black\",\"line\":{\"width\":0},\"opacity\":0.3},\"ternary\":{\"aaxis\":{\"gridcolor\":\"rgb(232,232,232)\",\"linecolor\":\"rgb(36,36,36)\",\"showgrid\":false,\"showline\":true,\"ticks\":\"outside\"},\"baxis\":{\"gridcolor\":\"rgb(232,232,232)\",\"linecolor\":\"rgb(36,36,36)\",\"showgrid\":false,\"showline\":true,\"ticks\":\"outside\"},\"bgcolor\":\"white\",\"caxis\":{\"gridcolor\":\"rgb(232,232,232)\",\"linecolor\":\"rgb(36,36,36)\",\"showgrid\":false,\"showline\":true,\"ticks\":\"outside\"}},\"title\":{\"x\":0.05},\"xaxis\":{\"automargin\":true,\"gridcolor\":\"rgb(232,232,232)\",\"linecolor\":\"rgb(36,36,36)\",\"showgrid\":false,\"showline\":true,\"ticks\":\"outside\",\"title\":{\"standoff\":15},\"zeroline\":false,\"zerolinecolor\":\"rgb(36,36,36)\"},\"yaxis\":{\"automargin\":true,\"gridcolor\":\"rgb(232,232,232)\",\"linecolor\":\"rgb(36,36,36)\",\"showgrid\":false,\"showline\":true,\"ticks\":\"outside\",\"title\":{\"standoff\":15},\"zeroline\":false,\"zerolinecolor\":\"rgb(36,36,36)\"}}},\"xaxis\":{\"anchor\":\"y\",\"domain\":[0.0,1.0],\"title\":{\"text\":\"Pearson r\"},\"linewidth\":1.5},\"yaxis\":{\"anchor\":\"x\",\"domain\":[0.0,1.0],\"title\":{\"text\":\"Probability\"},\"linewidth\":1.5},\"title\":{\"y\":0.9,\"x\":0.5,\"xanchor\":\"center\",\"yanchor\":\"top\"},\"font\":{\"size\":22,\"family\":\"Arial\"},\"height\":500,\"width\":500},                        {\"responsive\": true}                    ).then(function(){\n",
       "                            \n",
       "var gd = document.getElementById('c93d968b-53a8-4044-b297-9316c65bb529');\n",
       "var x = new MutationObserver(function (mutations, observer) {{\n",
       "        var display = window.getComputedStyle(gd).display;\n",
       "        if (!display || display === 'none') {{\n",
       "            console.log([gd, 'removed!']);\n",
       "            Plotly.purge(gd);\n",
       "            observer.disconnect();\n",
       "        }}\n",
       "}});\n",
       "\n",
       "// Listen for the removal of the full notebook cells\n",
       "var notebookContainer = gd.closest('#notebook-container');\n",
       "if (notebookContainer) {{\n",
       "    x.observe(notebookContainer, {childList: true});\n",
       "}}\n",
       "\n",
       "// Listen for the clearing of the current output cell\n",
       "var outputEl = gd.closest('.output');\n",
       "if (outputEl) {{\n",
       "    x.observe(outputEl, {childList: true});\n",
       "}}\n",
       "\n",
       "                        })                };                });            </script>        </div>"
      ]
     },
     "metadata": {},
     "output_type": "display_data"
    }
   ],
   "source": [
    "test = stability_df[(stability_df['session_one'] == 'C1') & (stability_df['session_two'] == 'C5')]\n",
    "fig = pf.custom_graph_template(x_title='Pearson r', y_title='Probability')\n",
    "fig.add_trace(go.Histogram(x=test['stability'], marker_color=ce_color_dict[stability_df['group'].unique()[0]], histnorm='probability'))\n",
    "fig.show()"
   ]
  },
  {
   "cell_type": "code",
   "execution_count": 143,
   "metadata": {},
   "outputs": [
    {
     "data": {
      "application/vnd.plotly.v1+json": {
       "config": {
        "plotlyServerURL": "https://plot.ly"
       },
       "data": [
        {
         "colorbar": {
          "title": {
           "text": "Pearson's r"
          }
         },
         "colorscale": [
          [
           0,
           "#440154"
          ],
          [
           0.1111111111111111,
           "#482878"
          ],
          [
           0.2222222222222222,
           "#3e4989"
          ],
          [
           0.3333333333333333,
           "#31688e"
          ],
          [
           0.4444444444444444,
           "#26828e"
          ],
          [
           0.5555555555555556,
           "#1f9e89"
          ],
          [
           0.6666666666666666,
           "#35b779"
          ],
          [
           0.7777777777777778,
           "#6ece58"
          ],
          [
           0.8888888888888888,
           "#b5de2b"
          ],
          [
           1,
           "#fde725"
          ]
         ],
         "type": "heatmap",
         "x": [
          "C1",
          "C1",
          "C1",
          "C1",
          "C1",
          "C2",
          "C2",
          "C2",
          "C2",
          "C3",
          "C3",
          "C3",
          "C4",
          "C4",
          "C5"
         ],
         "y": [
          "C1",
          "C2",
          "C3",
          "C4",
          "C5",
          "C2",
          "C3",
          "C4",
          "C5",
          "C3",
          "C4",
          "C5",
          "C4",
          "C5",
          "C5"
         ],
         "z": [
          null,
          0.4459243144769636,
          0.20729108578974573,
          0.279063840010627,
          0.3275849140822645,
          null,
          0.4310844698952523,
          0.4685857599241052,
          0.48607529378869624,
          null,
          0.6011401058835056,
          0.5163271505511262,
          null,
          0.5958470309994485,
          null
         ]
        }
       ],
       "layout": {
        "font": {
         "family": "Arial",
         "size": 22
        },
        "height": 500,
        "template": {
         "data": {
          "bar": [
           {
            "error_x": {
             "color": "rgb(36,36,36)"
            },
            "error_y": {
             "color": "rgb(36,36,36)"
            },
            "marker": {
             "line": {
              "color": "white",
              "width": 0.5
             },
             "pattern": {
              "fillmode": "overlay",
              "size": 10,
              "solidity": 0.2
             }
            },
            "type": "bar"
           }
          ],
          "barpolar": [
           {
            "marker": {
             "line": {
              "color": "white",
              "width": 0.5
             },
             "pattern": {
              "fillmode": "overlay",
              "size": 10,
              "solidity": 0.2
             }
            },
            "type": "barpolar"
           }
          ],
          "carpet": [
           {
            "aaxis": {
             "endlinecolor": "rgb(36,36,36)",
             "gridcolor": "white",
             "linecolor": "white",
             "minorgridcolor": "white",
             "startlinecolor": "rgb(36,36,36)"
            },
            "baxis": {
             "endlinecolor": "rgb(36,36,36)",
             "gridcolor": "white",
             "linecolor": "white",
             "minorgridcolor": "white",
             "startlinecolor": "rgb(36,36,36)"
            },
            "type": "carpet"
           }
          ],
          "choropleth": [
           {
            "colorbar": {
             "outlinewidth": 1,
             "tickcolor": "rgb(36,36,36)",
             "ticks": "outside"
            },
            "type": "choropleth"
           }
          ],
          "contour": [
           {
            "colorbar": {
             "outlinewidth": 1,
             "tickcolor": "rgb(36,36,36)",
             "ticks": "outside"
            },
            "colorscale": [
             [
              0,
              "#440154"
             ],
             [
              0.1111111111111111,
              "#482878"
             ],
             [
              0.2222222222222222,
              "#3e4989"
             ],
             [
              0.3333333333333333,
              "#31688e"
             ],
             [
              0.4444444444444444,
              "#26828e"
             ],
             [
              0.5555555555555556,
              "#1f9e89"
             ],
             [
              0.6666666666666666,
              "#35b779"
             ],
             [
              0.7777777777777778,
              "#6ece58"
             ],
             [
              0.8888888888888888,
              "#b5de2b"
             ],
             [
              1,
              "#fde725"
             ]
            ],
            "type": "contour"
           }
          ],
          "contourcarpet": [
           {
            "colorbar": {
             "outlinewidth": 1,
             "tickcolor": "rgb(36,36,36)",
             "ticks": "outside"
            },
            "type": "contourcarpet"
           }
          ],
          "heatmap": [
           {
            "colorbar": {
             "outlinewidth": 1,
             "tickcolor": "rgb(36,36,36)",
             "ticks": "outside"
            },
            "colorscale": [
             [
              0,
              "#440154"
             ],
             [
              0.1111111111111111,
              "#482878"
             ],
             [
              0.2222222222222222,
              "#3e4989"
             ],
             [
              0.3333333333333333,
              "#31688e"
             ],
             [
              0.4444444444444444,
              "#26828e"
             ],
             [
              0.5555555555555556,
              "#1f9e89"
             ],
             [
              0.6666666666666666,
              "#35b779"
             ],
             [
              0.7777777777777778,
              "#6ece58"
             ],
             [
              0.8888888888888888,
              "#b5de2b"
             ],
             [
              1,
              "#fde725"
             ]
            ],
            "type": "heatmap"
           }
          ],
          "heatmapgl": [
           {
            "colorbar": {
             "outlinewidth": 1,
             "tickcolor": "rgb(36,36,36)",
             "ticks": "outside"
            },
            "colorscale": [
             [
              0,
              "#440154"
             ],
             [
              0.1111111111111111,
              "#482878"
             ],
             [
              0.2222222222222222,
              "#3e4989"
             ],
             [
              0.3333333333333333,
              "#31688e"
             ],
             [
              0.4444444444444444,
              "#26828e"
             ],
             [
              0.5555555555555556,
              "#1f9e89"
             ],
             [
              0.6666666666666666,
              "#35b779"
             ],
             [
              0.7777777777777778,
              "#6ece58"
             ],
             [
              0.8888888888888888,
              "#b5de2b"
             ],
             [
              1,
              "#fde725"
             ]
            ],
            "type": "heatmapgl"
           }
          ],
          "histogram": [
           {
            "marker": {
             "line": {
              "color": "white",
              "width": 0.6
             }
            },
            "type": "histogram"
           }
          ],
          "histogram2d": [
           {
            "colorbar": {
             "outlinewidth": 1,
             "tickcolor": "rgb(36,36,36)",
             "ticks": "outside"
            },
            "colorscale": [
             [
              0,
              "#440154"
             ],
             [
              0.1111111111111111,
              "#482878"
             ],
             [
              0.2222222222222222,
              "#3e4989"
             ],
             [
              0.3333333333333333,
              "#31688e"
             ],
             [
              0.4444444444444444,
              "#26828e"
             ],
             [
              0.5555555555555556,
              "#1f9e89"
             ],
             [
              0.6666666666666666,
              "#35b779"
             ],
             [
              0.7777777777777778,
              "#6ece58"
             ],
             [
              0.8888888888888888,
              "#b5de2b"
             ],
             [
              1,
              "#fde725"
             ]
            ],
            "type": "histogram2d"
           }
          ],
          "histogram2dcontour": [
           {
            "colorbar": {
             "outlinewidth": 1,
             "tickcolor": "rgb(36,36,36)",
             "ticks": "outside"
            },
            "colorscale": [
             [
              0,
              "#440154"
             ],
             [
              0.1111111111111111,
              "#482878"
             ],
             [
              0.2222222222222222,
              "#3e4989"
             ],
             [
              0.3333333333333333,
              "#31688e"
             ],
             [
              0.4444444444444444,
              "#26828e"
             ],
             [
              0.5555555555555556,
              "#1f9e89"
             ],
             [
              0.6666666666666666,
              "#35b779"
             ],
             [
              0.7777777777777778,
              "#6ece58"
             ],
             [
              0.8888888888888888,
              "#b5de2b"
             ],
             [
              1,
              "#fde725"
             ]
            ],
            "type": "histogram2dcontour"
           }
          ],
          "mesh3d": [
           {
            "colorbar": {
             "outlinewidth": 1,
             "tickcolor": "rgb(36,36,36)",
             "ticks": "outside"
            },
            "type": "mesh3d"
           }
          ],
          "parcoords": [
           {
            "line": {
             "colorbar": {
              "outlinewidth": 1,
              "tickcolor": "rgb(36,36,36)",
              "ticks": "outside"
             }
            },
            "type": "parcoords"
           }
          ],
          "pie": [
           {
            "automargin": true,
            "type": "pie"
           }
          ],
          "scatter": [
           {
            "fillpattern": {
             "fillmode": "overlay",
             "size": 10,
             "solidity": 0.2
            },
            "type": "scatter"
           }
          ],
          "scatter3d": [
           {
            "line": {
             "colorbar": {
              "outlinewidth": 1,
              "tickcolor": "rgb(36,36,36)",
              "ticks": "outside"
             }
            },
            "marker": {
             "colorbar": {
              "outlinewidth": 1,
              "tickcolor": "rgb(36,36,36)",
              "ticks": "outside"
             }
            },
            "type": "scatter3d"
           }
          ],
          "scattercarpet": [
           {
            "marker": {
             "colorbar": {
              "outlinewidth": 1,
              "tickcolor": "rgb(36,36,36)",
              "ticks": "outside"
             }
            },
            "type": "scattercarpet"
           }
          ],
          "scattergeo": [
           {
            "marker": {
             "colorbar": {
              "outlinewidth": 1,
              "tickcolor": "rgb(36,36,36)",
              "ticks": "outside"
             }
            },
            "type": "scattergeo"
           }
          ],
          "scattergl": [
           {
            "marker": {
             "colorbar": {
              "outlinewidth": 1,
              "tickcolor": "rgb(36,36,36)",
              "ticks": "outside"
             }
            },
            "type": "scattergl"
           }
          ],
          "scattermapbox": [
           {
            "marker": {
             "colorbar": {
              "outlinewidth": 1,
              "tickcolor": "rgb(36,36,36)",
              "ticks": "outside"
             }
            },
            "type": "scattermapbox"
           }
          ],
          "scatterpolar": [
           {
            "marker": {
             "colorbar": {
              "outlinewidth": 1,
              "tickcolor": "rgb(36,36,36)",
              "ticks": "outside"
             }
            },
            "type": "scatterpolar"
           }
          ],
          "scatterpolargl": [
           {
            "marker": {
             "colorbar": {
              "outlinewidth": 1,
              "tickcolor": "rgb(36,36,36)",
              "ticks": "outside"
             }
            },
            "type": "scatterpolargl"
           }
          ],
          "scatterternary": [
           {
            "marker": {
             "colorbar": {
              "outlinewidth": 1,
              "tickcolor": "rgb(36,36,36)",
              "ticks": "outside"
             }
            },
            "type": "scatterternary"
           }
          ],
          "surface": [
           {
            "colorbar": {
             "outlinewidth": 1,
             "tickcolor": "rgb(36,36,36)",
             "ticks": "outside"
            },
            "colorscale": [
             [
              0,
              "#440154"
             ],
             [
              0.1111111111111111,
              "#482878"
             ],
             [
              0.2222222222222222,
              "#3e4989"
             ],
             [
              0.3333333333333333,
              "#31688e"
             ],
             [
              0.4444444444444444,
              "#26828e"
             ],
             [
              0.5555555555555556,
              "#1f9e89"
             ],
             [
              0.6666666666666666,
              "#35b779"
             ],
             [
              0.7777777777777778,
              "#6ece58"
             ],
             [
              0.8888888888888888,
              "#b5de2b"
             ],
             [
              1,
              "#fde725"
             ]
            ],
            "type": "surface"
           }
          ],
          "table": [
           {
            "cells": {
             "fill": {
              "color": "rgb(237,237,237)"
             },
             "line": {
              "color": "white"
             }
            },
            "header": {
             "fill": {
              "color": "rgb(217,217,217)"
             },
             "line": {
              "color": "white"
             }
            },
            "type": "table"
           }
          ]
         },
         "layout": {
          "annotationdefaults": {
           "arrowhead": 0,
           "arrowwidth": 1
          },
          "autotypenumbers": "strict",
          "coloraxis": {
           "colorbar": {
            "outlinewidth": 1,
            "tickcolor": "rgb(36,36,36)",
            "ticks": "outside"
           }
          },
          "colorscale": {
           "diverging": [
            [
             0,
             "rgb(103,0,31)"
            ],
            [
             0.1,
             "rgb(178,24,43)"
            ],
            [
             0.2,
             "rgb(214,96,77)"
            ],
            [
             0.3,
             "rgb(244,165,130)"
            ],
            [
             0.4,
             "rgb(253,219,199)"
            ],
            [
             0.5,
             "rgb(247,247,247)"
            ],
            [
             0.6,
             "rgb(209,229,240)"
            ],
            [
             0.7,
             "rgb(146,197,222)"
            ],
            [
             0.8,
             "rgb(67,147,195)"
            ],
            [
             0.9,
             "rgb(33,102,172)"
            ],
            [
             1,
             "rgb(5,48,97)"
            ]
           ],
           "sequential": [
            [
             0,
             "#440154"
            ],
            [
             0.1111111111111111,
             "#482878"
            ],
            [
             0.2222222222222222,
             "#3e4989"
            ],
            [
             0.3333333333333333,
             "#31688e"
            ],
            [
             0.4444444444444444,
             "#26828e"
            ],
            [
             0.5555555555555556,
             "#1f9e89"
            ],
            [
             0.6666666666666666,
             "#35b779"
            ],
            [
             0.7777777777777778,
             "#6ece58"
            ],
            [
             0.8888888888888888,
             "#b5de2b"
            ],
            [
             1,
             "#fde725"
            ]
           ],
           "sequentialminus": [
            [
             0,
             "#440154"
            ],
            [
             0.1111111111111111,
             "#482878"
            ],
            [
             0.2222222222222222,
             "#3e4989"
            ],
            [
             0.3333333333333333,
             "#31688e"
            ],
            [
             0.4444444444444444,
             "#26828e"
            ],
            [
             0.5555555555555556,
             "#1f9e89"
            ],
            [
             0.6666666666666666,
             "#35b779"
            ],
            [
             0.7777777777777778,
             "#6ece58"
            ],
            [
             0.8888888888888888,
             "#b5de2b"
            ],
            [
             1,
             "#fde725"
            ]
           ]
          },
          "colorway": [
           "#1F77B4",
           "#FF7F0E",
           "#2CA02C",
           "#D62728",
           "#9467BD",
           "#8C564B",
           "#E377C2",
           "#7F7F7F",
           "#BCBD22",
           "#17BECF"
          ],
          "font": {
           "color": "rgb(36,36,36)"
          },
          "geo": {
           "bgcolor": "white",
           "lakecolor": "white",
           "landcolor": "white",
           "showlakes": true,
           "showland": true,
           "subunitcolor": "white"
          },
          "hoverlabel": {
           "align": "left"
          },
          "hovermode": "closest",
          "mapbox": {
           "style": "light"
          },
          "paper_bgcolor": "white",
          "plot_bgcolor": "white",
          "polar": {
           "angularaxis": {
            "gridcolor": "rgb(232,232,232)",
            "linecolor": "rgb(36,36,36)",
            "showgrid": false,
            "showline": true,
            "ticks": "outside"
           },
           "bgcolor": "white",
           "radialaxis": {
            "gridcolor": "rgb(232,232,232)",
            "linecolor": "rgb(36,36,36)",
            "showgrid": false,
            "showline": true,
            "ticks": "outside"
           }
          },
          "scene": {
           "xaxis": {
            "backgroundcolor": "white",
            "gridcolor": "rgb(232,232,232)",
            "gridwidth": 2,
            "linecolor": "rgb(36,36,36)",
            "showbackground": true,
            "showgrid": false,
            "showline": true,
            "ticks": "outside",
            "zeroline": false,
            "zerolinecolor": "rgb(36,36,36)"
           },
           "yaxis": {
            "backgroundcolor": "white",
            "gridcolor": "rgb(232,232,232)",
            "gridwidth": 2,
            "linecolor": "rgb(36,36,36)",
            "showbackground": true,
            "showgrid": false,
            "showline": true,
            "ticks": "outside",
            "zeroline": false,
            "zerolinecolor": "rgb(36,36,36)"
           },
           "zaxis": {
            "backgroundcolor": "white",
            "gridcolor": "rgb(232,232,232)",
            "gridwidth": 2,
            "linecolor": "rgb(36,36,36)",
            "showbackground": true,
            "showgrid": false,
            "showline": true,
            "ticks": "outside",
            "zeroline": false,
            "zerolinecolor": "rgb(36,36,36)"
           }
          },
          "shapedefaults": {
           "fillcolor": "black",
           "line": {
            "width": 0
           },
           "opacity": 0.3
          },
          "ternary": {
           "aaxis": {
            "gridcolor": "rgb(232,232,232)",
            "linecolor": "rgb(36,36,36)",
            "showgrid": false,
            "showline": true,
            "ticks": "outside"
           },
           "baxis": {
            "gridcolor": "rgb(232,232,232)",
            "linecolor": "rgb(36,36,36)",
            "showgrid": false,
            "showline": true,
            "ticks": "outside"
           },
           "bgcolor": "white",
           "caxis": {
            "gridcolor": "rgb(232,232,232)",
            "linecolor": "rgb(36,36,36)",
            "showgrid": false,
            "showline": true,
            "ticks": "outside"
           }
          },
          "title": {
           "x": 0.05
          },
          "xaxis": {
           "automargin": true,
           "gridcolor": "rgb(232,232,232)",
           "linecolor": "rgb(36,36,36)",
           "showgrid": false,
           "showline": true,
           "ticks": "outside",
           "title": {
            "standoff": 15
           },
           "zeroline": false,
           "zerolinecolor": "rgb(36,36,36)"
          },
          "yaxis": {
           "automargin": true,
           "gridcolor": "rgb(232,232,232)",
           "linecolor": "rgb(36,36,36)",
           "showgrid": false,
           "showline": true,
           "ticks": "outside",
           "title": {
            "standoff": 15
           },
           "zeroline": false,
           "zerolinecolor": "rgb(36,36,36)"
          }
         }
        },
        "title": {
         "x": 0.5,
         "xanchor": "center",
         "y": 0.9,
         "yanchor": "top"
        },
        "width": 600,
        "xaxis": {
         "anchor": "y",
         "domain": [
          0,
          1
         ],
         "linewidth": 1.5,
         "title": {
          "text": ""
         }
        },
        "yaxis": {
         "anchor": "x",
         "domain": [
          0,
          1
         ],
         "linewidth": 1.5,
         "title": {
          "text": ""
         }
        }
       }
      },
      "text/html": [
       "<div>                            <div id=\"6d12ded4-cb36-43c3-8fc5-399d0cce5ffd\" class=\"plotly-graph-div\" style=\"height:500px; width:600px;\"></div>            <script type=\"text/javascript\">                require([\"plotly\"], function(Plotly) {                    window.PLOTLYENV=window.PLOTLYENV || {};                                    if (document.getElementById(\"6d12ded4-cb36-43c3-8fc5-399d0cce5ffd\")) {                    Plotly.newPlot(                        \"6d12ded4-cb36-43c3-8fc5-399d0cce5ffd\",                        [{\"colorscale\":[[0.0,\"#440154\"],[0.1111111111111111,\"#482878\"],[0.2222222222222222,\"#3e4989\"],[0.3333333333333333,\"#31688e\"],[0.4444444444444444,\"#26828e\"],[0.5555555555555556,\"#1f9e89\"],[0.6666666666666666,\"#35b779\"],[0.7777777777777778,\"#6ece58\"],[0.8888888888888888,\"#b5de2b\"],[1.0,\"#fde725\"]],\"x\":[\"C1\",\"C1\",\"C1\",\"C1\",\"C1\",\"C2\",\"C2\",\"C2\",\"C2\",\"C3\",\"C3\",\"C3\",\"C4\",\"C4\",\"C5\"],\"y\":[\"C1\",\"C2\",\"C3\",\"C4\",\"C5\",\"C2\",\"C3\",\"C4\",\"C5\",\"C3\",\"C4\",\"C5\",\"C4\",\"C5\",\"C5\"],\"z\":[null,0.4459243144769636,0.20729108578974573,0.279063840010627,0.3275849140822645,null,0.4310844698952523,0.4685857599241052,0.48607529378869624,null,0.6011401058835056,0.5163271505511262,null,0.5958470309994485,null],\"type\":\"heatmap\",\"colorbar\":{\"title\":{\"text\":\"Pearson's r\"}}}],                        {\"template\":{\"data\":{\"barpolar\":[{\"marker\":{\"line\":{\"color\":\"white\",\"width\":0.5},\"pattern\":{\"fillmode\":\"overlay\",\"size\":10,\"solidity\":0.2}},\"type\":\"barpolar\"}],\"bar\":[{\"error_x\":{\"color\":\"rgb(36,36,36)\"},\"error_y\":{\"color\":\"rgb(36,36,36)\"},\"marker\":{\"line\":{\"color\":\"white\",\"width\":0.5},\"pattern\":{\"fillmode\":\"overlay\",\"size\":10,\"solidity\":0.2}},\"type\":\"bar\"}],\"carpet\":[{\"aaxis\":{\"endlinecolor\":\"rgb(36,36,36)\",\"gridcolor\":\"white\",\"linecolor\":\"white\",\"minorgridcolor\":\"white\",\"startlinecolor\":\"rgb(36,36,36)\"},\"baxis\":{\"endlinecolor\":\"rgb(36,36,36)\",\"gridcolor\":\"white\",\"linecolor\":\"white\",\"minorgridcolor\":\"white\",\"startlinecolor\":\"rgb(36,36,36)\"},\"type\":\"carpet\"}],\"choropleth\":[{\"colorbar\":{\"outlinewidth\":1,\"tickcolor\":\"rgb(36,36,36)\",\"ticks\":\"outside\"},\"type\":\"choropleth\"}],\"contourcarpet\":[{\"colorbar\":{\"outlinewidth\":1,\"tickcolor\":\"rgb(36,36,36)\",\"ticks\":\"outside\"},\"type\":\"contourcarpet\"}],\"contour\":[{\"colorbar\":{\"outlinewidth\":1,\"tickcolor\":\"rgb(36,36,36)\",\"ticks\":\"outside\"},\"colorscale\":[[0.0,\"#440154\"],[0.1111111111111111,\"#482878\"],[0.2222222222222222,\"#3e4989\"],[0.3333333333333333,\"#31688e\"],[0.4444444444444444,\"#26828e\"],[0.5555555555555556,\"#1f9e89\"],[0.6666666666666666,\"#35b779\"],[0.7777777777777778,\"#6ece58\"],[0.8888888888888888,\"#b5de2b\"],[1.0,\"#fde725\"]],\"type\":\"contour\"}],\"heatmapgl\":[{\"colorbar\":{\"outlinewidth\":1,\"tickcolor\":\"rgb(36,36,36)\",\"ticks\":\"outside\"},\"colorscale\":[[0.0,\"#440154\"],[0.1111111111111111,\"#482878\"],[0.2222222222222222,\"#3e4989\"],[0.3333333333333333,\"#31688e\"],[0.4444444444444444,\"#26828e\"],[0.5555555555555556,\"#1f9e89\"],[0.6666666666666666,\"#35b779\"],[0.7777777777777778,\"#6ece58\"],[0.8888888888888888,\"#b5de2b\"],[1.0,\"#fde725\"]],\"type\":\"heatmapgl\"}],\"heatmap\":[{\"colorbar\":{\"outlinewidth\":1,\"tickcolor\":\"rgb(36,36,36)\",\"ticks\":\"outside\"},\"colorscale\":[[0.0,\"#440154\"],[0.1111111111111111,\"#482878\"],[0.2222222222222222,\"#3e4989\"],[0.3333333333333333,\"#31688e\"],[0.4444444444444444,\"#26828e\"],[0.5555555555555556,\"#1f9e89\"],[0.6666666666666666,\"#35b779\"],[0.7777777777777778,\"#6ece58\"],[0.8888888888888888,\"#b5de2b\"],[1.0,\"#fde725\"]],\"type\":\"heatmap\"}],\"histogram2dcontour\":[{\"colorbar\":{\"outlinewidth\":1,\"tickcolor\":\"rgb(36,36,36)\",\"ticks\":\"outside\"},\"colorscale\":[[0.0,\"#440154\"],[0.1111111111111111,\"#482878\"],[0.2222222222222222,\"#3e4989\"],[0.3333333333333333,\"#31688e\"],[0.4444444444444444,\"#26828e\"],[0.5555555555555556,\"#1f9e89\"],[0.6666666666666666,\"#35b779\"],[0.7777777777777778,\"#6ece58\"],[0.8888888888888888,\"#b5de2b\"],[1.0,\"#fde725\"]],\"type\":\"histogram2dcontour\"}],\"histogram2d\":[{\"colorbar\":{\"outlinewidth\":1,\"tickcolor\":\"rgb(36,36,36)\",\"ticks\":\"outside\"},\"colorscale\":[[0.0,\"#440154\"],[0.1111111111111111,\"#482878\"],[0.2222222222222222,\"#3e4989\"],[0.3333333333333333,\"#31688e\"],[0.4444444444444444,\"#26828e\"],[0.5555555555555556,\"#1f9e89\"],[0.6666666666666666,\"#35b779\"],[0.7777777777777778,\"#6ece58\"],[0.8888888888888888,\"#b5de2b\"],[1.0,\"#fde725\"]],\"type\":\"histogram2d\"}],\"histogram\":[{\"marker\":{\"line\":{\"color\":\"white\",\"width\":0.6}},\"type\":\"histogram\"}],\"mesh3d\":[{\"colorbar\":{\"outlinewidth\":1,\"tickcolor\":\"rgb(36,36,36)\",\"ticks\":\"outside\"},\"type\":\"mesh3d\"}],\"parcoords\":[{\"line\":{\"colorbar\":{\"outlinewidth\":1,\"tickcolor\":\"rgb(36,36,36)\",\"ticks\":\"outside\"}},\"type\":\"parcoords\"}],\"pie\":[{\"automargin\":true,\"type\":\"pie\"}],\"scatter3d\":[{\"line\":{\"colorbar\":{\"outlinewidth\":1,\"tickcolor\":\"rgb(36,36,36)\",\"ticks\":\"outside\"}},\"marker\":{\"colorbar\":{\"outlinewidth\":1,\"tickcolor\":\"rgb(36,36,36)\",\"ticks\":\"outside\"}},\"type\":\"scatter3d\"}],\"scattercarpet\":[{\"marker\":{\"colorbar\":{\"outlinewidth\":1,\"tickcolor\":\"rgb(36,36,36)\",\"ticks\":\"outside\"}},\"type\":\"scattercarpet\"}],\"scattergeo\":[{\"marker\":{\"colorbar\":{\"outlinewidth\":1,\"tickcolor\":\"rgb(36,36,36)\",\"ticks\":\"outside\"}},\"type\":\"scattergeo\"}],\"scattergl\":[{\"marker\":{\"colorbar\":{\"outlinewidth\":1,\"tickcolor\":\"rgb(36,36,36)\",\"ticks\":\"outside\"}},\"type\":\"scattergl\"}],\"scattermapbox\":[{\"marker\":{\"colorbar\":{\"outlinewidth\":1,\"tickcolor\":\"rgb(36,36,36)\",\"ticks\":\"outside\"}},\"type\":\"scattermapbox\"}],\"scatterpolargl\":[{\"marker\":{\"colorbar\":{\"outlinewidth\":1,\"tickcolor\":\"rgb(36,36,36)\",\"ticks\":\"outside\"}},\"type\":\"scatterpolargl\"}],\"scatterpolar\":[{\"marker\":{\"colorbar\":{\"outlinewidth\":1,\"tickcolor\":\"rgb(36,36,36)\",\"ticks\":\"outside\"}},\"type\":\"scatterpolar\"}],\"scatter\":[{\"fillpattern\":{\"fillmode\":\"overlay\",\"size\":10,\"solidity\":0.2},\"type\":\"scatter\"}],\"scatterternary\":[{\"marker\":{\"colorbar\":{\"outlinewidth\":1,\"tickcolor\":\"rgb(36,36,36)\",\"ticks\":\"outside\"}},\"type\":\"scatterternary\"}],\"surface\":[{\"colorbar\":{\"outlinewidth\":1,\"tickcolor\":\"rgb(36,36,36)\",\"ticks\":\"outside\"},\"colorscale\":[[0.0,\"#440154\"],[0.1111111111111111,\"#482878\"],[0.2222222222222222,\"#3e4989\"],[0.3333333333333333,\"#31688e\"],[0.4444444444444444,\"#26828e\"],[0.5555555555555556,\"#1f9e89\"],[0.6666666666666666,\"#35b779\"],[0.7777777777777778,\"#6ece58\"],[0.8888888888888888,\"#b5de2b\"],[1.0,\"#fde725\"]],\"type\":\"surface\"}],\"table\":[{\"cells\":{\"fill\":{\"color\":\"rgb(237,237,237)\"},\"line\":{\"color\":\"white\"}},\"header\":{\"fill\":{\"color\":\"rgb(217,217,217)\"},\"line\":{\"color\":\"white\"}},\"type\":\"table\"}]},\"layout\":{\"annotationdefaults\":{\"arrowhead\":0,\"arrowwidth\":1},\"autotypenumbers\":\"strict\",\"coloraxis\":{\"colorbar\":{\"outlinewidth\":1,\"tickcolor\":\"rgb(36,36,36)\",\"ticks\":\"outside\"}},\"colorscale\":{\"diverging\":[[0.0,\"rgb(103,0,31)\"],[0.1,\"rgb(178,24,43)\"],[0.2,\"rgb(214,96,77)\"],[0.3,\"rgb(244,165,130)\"],[0.4,\"rgb(253,219,199)\"],[0.5,\"rgb(247,247,247)\"],[0.6,\"rgb(209,229,240)\"],[0.7,\"rgb(146,197,222)\"],[0.8,\"rgb(67,147,195)\"],[0.9,\"rgb(33,102,172)\"],[1.0,\"rgb(5,48,97)\"]],\"sequential\":[[0.0,\"#440154\"],[0.1111111111111111,\"#482878\"],[0.2222222222222222,\"#3e4989\"],[0.3333333333333333,\"#31688e\"],[0.4444444444444444,\"#26828e\"],[0.5555555555555556,\"#1f9e89\"],[0.6666666666666666,\"#35b779\"],[0.7777777777777778,\"#6ece58\"],[0.8888888888888888,\"#b5de2b\"],[1.0,\"#fde725\"]],\"sequentialminus\":[[0.0,\"#440154\"],[0.1111111111111111,\"#482878\"],[0.2222222222222222,\"#3e4989\"],[0.3333333333333333,\"#31688e\"],[0.4444444444444444,\"#26828e\"],[0.5555555555555556,\"#1f9e89\"],[0.6666666666666666,\"#35b779\"],[0.7777777777777778,\"#6ece58\"],[0.8888888888888888,\"#b5de2b\"],[1.0,\"#fde725\"]]},\"colorway\":[\"#1F77B4\",\"#FF7F0E\",\"#2CA02C\",\"#D62728\",\"#9467BD\",\"#8C564B\",\"#E377C2\",\"#7F7F7F\",\"#BCBD22\",\"#17BECF\"],\"font\":{\"color\":\"rgb(36,36,36)\"},\"geo\":{\"bgcolor\":\"white\",\"lakecolor\":\"white\",\"landcolor\":\"white\",\"showlakes\":true,\"showland\":true,\"subunitcolor\":\"white\"},\"hoverlabel\":{\"align\":\"left\"},\"hovermode\":\"closest\",\"mapbox\":{\"style\":\"light\"},\"paper_bgcolor\":\"white\",\"plot_bgcolor\":\"white\",\"polar\":{\"angularaxis\":{\"gridcolor\":\"rgb(232,232,232)\",\"linecolor\":\"rgb(36,36,36)\",\"showgrid\":false,\"showline\":true,\"ticks\":\"outside\"},\"bgcolor\":\"white\",\"radialaxis\":{\"gridcolor\":\"rgb(232,232,232)\",\"linecolor\":\"rgb(36,36,36)\",\"showgrid\":false,\"showline\":true,\"ticks\":\"outside\"}},\"scene\":{\"xaxis\":{\"backgroundcolor\":\"white\",\"gridcolor\":\"rgb(232,232,232)\",\"gridwidth\":2,\"linecolor\":\"rgb(36,36,36)\",\"showbackground\":true,\"showgrid\":false,\"showline\":true,\"ticks\":\"outside\",\"zeroline\":false,\"zerolinecolor\":\"rgb(36,36,36)\"},\"yaxis\":{\"backgroundcolor\":\"white\",\"gridcolor\":\"rgb(232,232,232)\",\"gridwidth\":2,\"linecolor\":\"rgb(36,36,36)\",\"showbackground\":true,\"showgrid\":false,\"showline\":true,\"ticks\":\"outside\",\"zeroline\":false,\"zerolinecolor\":\"rgb(36,36,36)\"},\"zaxis\":{\"backgroundcolor\":\"white\",\"gridcolor\":\"rgb(232,232,232)\",\"gridwidth\":2,\"linecolor\":\"rgb(36,36,36)\",\"showbackground\":true,\"showgrid\":false,\"showline\":true,\"ticks\":\"outside\",\"zeroline\":false,\"zerolinecolor\":\"rgb(36,36,36)\"}},\"shapedefaults\":{\"fillcolor\":\"black\",\"line\":{\"width\":0},\"opacity\":0.3},\"ternary\":{\"aaxis\":{\"gridcolor\":\"rgb(232,232,232)\",\"linecolor\":\"rgb(36,36,36)\",\"showgrid\":false,\"showline\":true,\"ticks\":\"outside\"},\"baxis\":{\"gridcolor\":\"rgb(232,232,232)\",\"linecolor\":\"rgb(36,36,36)\",\"showgrid\":false,\"showline\":true,\"ticks\":\"outside\"},\"bgcolor\":\"white\",\"caxis\":{\"gridcolor\":\"rgb(232,232,232)\",\"linecolor\":\"rgb(36,36,36)\",\"showgrid\":false,\"showline\":true,\"ticks\":\"outside\"}},\"title\":{\"x\":0.05},\"xaxis\":{\"automargin\":true,\"gridcolor\":\"rgb(232,232,232)\",\"linecolor\":\"rgb(36,36,36)\",\"showgrid\":false,\"showline\":true,\"ticks\":\"outside\",\"title\":{\"standoff\":15},\"zeroline\":false,\"zerolinecolor\":\"rgb(36,36,36)\"},\"yaxis\":{\"automargin\":true,\"gridcolor\":\"rgb(232,232,232)\",\"linecolor\":\"rgb(36,36,36)\",\"showgrid\":false,\"showline\":true,\"ticks\":\"outside\",\"title\":{\"standoff\":15},\"zeroline\":false,\"zerolinecolor\":\"rgb(36,36,36)\"}}},\"xaxis\":{\"anchor\":\"y\",\"domain\":[0.0,1.0],\"title\":{\"text\":\"\"},\"linewidth\":1.5},\"yaxis\":{\"anchor\":\"x\",\"domain\":[0.0,1.0],\"title\":{\"text\":\"\"},\"linewidth\":1.5},\"title\":{\"y\":0.9,\"x\":0.5,\"xanchor\":\"center\",\"yanchor\":\"top\"},\"font\":{\"size\":22,\"family\":\"Arial\"},\"height\":500,\"width\":600},                        {\"responsive\": true}                    ).then(function(){\n",
       "                            \n",
       "var gd = document.getElementById('6d12ded4-cb36-43c3-8fc5-399d0cce5ffd');\n",
       "var x = new MutationObserver(function (mutations, observer) {{\n",
       "        var display = window.getComputedStyle(gd).display;\n",
       "        if (!display || display === 'none') {{\n",
       "            console.log([gd, 'removed!']);\n",
       "            Plotly.purge(gd);\n",
       "            observer.disconnect();\n",
       "        }}\n",
       "}});\n",
       "\n",
       "// Listen for the removal of the full notebook cells\n",
       "var notebookContainer = gd.closest('#notebook-container');\n",
       "if (notebookContainer) {{\n",
       "    x.observe(notebookContainer, {childList: true});\n",
       "}}\n",
       "\n",
       "// Listen for the clearing of the current output cell\n",
       "var outputEl = gd.closest('.output');\n",
       "if (outputEl) {{\n",
       "    x.observe(outputEl, {childList: true});\n",
       "}}\n",
       "\n",
       "                        })                };                });            </script>        </div>"
      ]
     },
     "metadata": {},
     "output_type": "display_data"
    }
   ],
   "source": [
    "avg_stability = stability_df.groupby(['session_one', 'session_two'], as_index=False).agg({'stability': ['mean', 'sem']})\n",
    "fig = pf.custom_graph_template(x_title='', y_title='', width=600)\n",
    "fig.add_trace(go.Heatmap(x=avg_stability['session_one'], y=avg_stability['session_two'], \n",
    "                         z=avg_stability['stability']['mean'], colorscale='viridis'))\n",
    "fig.data[0].colorbar.title=\"Pearson's r\"\n",
    "fig.show()"
   ]
  }
 ],
 "metadata": {
  "language_info": {
   "name": "python"
  }
 },
 "nbformat": 4,
 "nbformat_minor": 2
}
