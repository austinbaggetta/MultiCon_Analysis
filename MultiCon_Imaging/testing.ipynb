{
 "cells": [
  {
   "cell_type": "code",
   "execution_count": null,
   "id": "4aa8eef3",
   "metadata": {},
   "outputs": [],
   "source": [
    "import sys\n",
    "import dask\n",
    "import numpy as np\n",
    "import dask.array as da\n",
    "import plotly.graph_objects as go\n",
    "from scipy.stats import pearsonr\n",
    "from dask.diagnostics import ProgressBar\n",
    "\n",
    "sys.path.append('/home/austinbaggetta/csstorage3/CircleTrack/CircleTrackAnalysis')\n",
    "import plotting_functions as pf\n",
    "\n",
    "def generate_poisson_spikes(rate, T):\n",
    "    \"\"\"\n",
    "    Generate spike times for a neuron with a constant firing rate using a Poisson process.\n",
    "    \n",
    "    Parameters:\n",
    "    rate (float): Firing rate (spikes per second).\n",
    "    T (float): Total duration of the simulation (seconds).\n",
    "    \n",
    "    Returns:\n",
    "    spike_times (list): List of spike times.\n",
    "    \"\"\"\n",
    "    spike_times = []\n",
    "    t = 0\n",
    "    \n",
    "    while t < T:\n",
    "        # Generate the next spike interval\n",
    "        interval = -np.log(np.random.rand()) / rate\n",
    "        t += interval\n",
    "        \n",
    "        if t < T:\n",
    "            spike_times.append(t)\n",
    "    \n",
    "    return np.asarray(spike_times)\n",
    "\n",
    "## Set seed for reproducibility\n",
    "np.random.seed(24601)\n",
    "nshuffles = 5000\n",
    "num_spatial_bins = 20\n",
    "session_length = 60 ## in seconds"
   ]
  },
  {
   "cell_type": "code",
   "execution_count": 37,
   "id": "690e8395",
   "metadata": {},
   "outputs": [],
   "source": [
    "## Generate uniformly spiking neuron and occupancy map\n",
    "neuron = generate_poisson_spikes(rate=5, T=session_length)\n",
    "time_in_bin = np.random.normal(loc=200, scale=50, size=num_spatial_bins) \n",
    "occupancy = time_in_bin / np.sum(time_in_bin)\n"
   ]
  },
  {
   "cell_type": "code",
   "execution_count": 46,
   "id": "a3f36ee7",
   "metadata": {},
   "outputs": [
    {
     "data": {
      "text/plain": [
       "array([178.92514516, 150.23149509, 197.8875793 , 216.30926119,\n",
       "       152.99204868, 168.27794917, 214.13020202, 182.60541051,\n",
       "       248.28928414, 323.12635992, 194.79316808, 250.40484483,\n",
       "       236.09501164, 176.99415586, 156.75041751, 122.85917269,\n",
       "       213.00567496, 197.21640236, 137.12152026, 275.63452885])"
      ]
     },
     "execution_count": 46,
     "metadata": {},
     "output_type": "execute_result"
    }
   ],
   "source": [
    "time_in_bin"
   ]
  },
  {
   "cell_type": "code",
   "execution_count": null,
   "id": "43efdb60",
   "metadata": {},
   "outputs": [],
   "source": [
    "## Create two arrays to correlate\n",
    "ar = np.random.normal(size=ar_size)\n",
    "stable_ar = np.random.normal(size=ar_size[1])"
   ]
  },
  {
   "cell_type": "code",
   "execution_count": null,
   "id": "a28f1a4b",
   "metadata": {},
   "outputs": [],
   "source": [
    "dar = da.from_array(ar, chunks=(30, -1))\n",
    "dar"
   ]
  },
  {
   "cell_type": "code",
   "execution_count": null,
   "id": "794397bb",
   "metadata": {},
   "outputs": [],
   "source": [
    "## Faster shuffling with dask?\n",
    "for shuffle in np.arange(0, nshuffles):\n",
    "    rolled = shuffle_data(ar)\n",
    "    cor = return_pearsonr(rolled, stable_ar)\n",
    "    shuffled_ar = combine_shuffled_r_vals(cor, nshuffles, shuffle)"
   ]
  },
  {
   "cell_type": "code",
   "execution_count": null,
   "id": "99847174",
   "metadata": {},
   "outputs": [],
   "source": [
    "shuffled_ar.visualize()"
   ]
  }
 ],
 "metadata": {
  "kernelspec": {
   "display_name": "calcium_analysis",
   "language": "python",
   "name": "python3"
  },
  "language_info": {
   "codemirror_mode": {
    "name": "ipython",
    "version": 3
   },
   "file_extension": ".py",
   "mimetype": "text/x-python",
   "name": "python",
   "nbconvert_exporter": "python",
   "pygments_lexer": "ipython3",
   "version": "3.13.2"
  }
 },
 "nbformat": 4,
 "nbformat_minor": 5
}
