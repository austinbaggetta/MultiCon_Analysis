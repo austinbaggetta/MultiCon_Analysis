{
 "cells": [
  {
   "cell_type": "code",
   "execution_count": null,
   "id": "4aa8eef3",
   "metadata": {},
   "outputs": [],
   "source": [
    "import dask\n",
    "import numpy as np\n",
    "from scipy.stats import pearsonr\n",
    "\n",
    "## Shuffling with dask.delayed\n",
    "@dask.delayed\n",
    "def shuffle_data(ar):\n",
    "    rand_shift = np.random.randint(0, ar.shape[0])\n",
    "    return np.roll(ar, rand_shift)\n",
    "\n",
    "@dask.delayed\n",
    "def return_pearsonr(one, two):\n",
    "    return pearsonr(one, two)[0]\n",
    "\n",
    "@dask.delayed\n",
    "def combine_shuffled_r_vals(cor, nshuffles, shuffle):\n",
    "    ar = np.zeros((nshuffles))\n",
    "    ar[shuffle] = cor \n",
    "    return ar\n",
    "\n",
    "## Set seed for reproducibility\n",
    "np.random.seed(24601)\n",
    "nshuffles = 5000\n",
    "ar_size = 2000"
   ]
  },
  {
   "cell_type": "code",
   "execution_count": null,
   "id": "43efdb60",
   "metadata": {},
   "outputs": [],
   "source": [
    "## Create two arrays to correlate\n",
    "ar = np.random.normal(size=ar_size)\n",
    "stable_ar = np.random.normal(size=ar_size)"
   ]
  },
  {
   "cell_type": "code",
   "execution_count": null,
   "id": "09f2aea0",
   "metadata": {},
   "outputs": [],
   "source": [
    "## Classical way of shuffling\n",
    "shuffled_ar = np.zeros((nshuffles))\n",
    "for idx, shuffle in enumerate(np.arange(0, nshuffles)):\n",
    "    rand_shift = np.random.randint(0, ar.shape[0])\n",
    "    rolled = np.roll(ar, rand_shift)\n",
    "    shuffled_ar[idx] = pearsonr(rolled, stable_ar)[0]"
   ]
  },
  {
   "cell_type": "code",
   "execution_count": null,
   "id": "794397bb",
   "metadata": {},
   "outputs": [],
   "source": [
    "## Faster shuffling with dask?\n",
    "for shuffle in np.arange(0, nshuffles):\n",
    "    rolled = shuffle_data(ar)\n",
    "    cor = return_pearsonr(rolled, stable_ar)\n",
    "    shuffled_ar = combine_shuffled_r_vals(cor, nshuffles, shuffle)"
   ]
  },
  {
   "cell_type": "code",
   "execution_count": null,
   "id": "99847174",
   "metadata": {},
   "outputs": [],
   "source": [
    "shuffled_ar.visualize()"
   ]
  }
 ],
 "metadata": {
  "kernelspec": {
   "display_name": "calcium_analysis",
   "language": "python",
   "name": "python3"
  },
  "language_info": {
   "codemirror_mode": {
    "name": "ipython",
    "version": 3
   },
   "file_extension": ".py",
   "mimetype": "text/x-python",
   "name": "python",
   "nbconvert_exporter": "python",
   "pygments_lexer": "ipython3",
   "version": "3.13.2"
  }
 },
 "nbformat": 4,
 "nbformat_minor": 5
}
