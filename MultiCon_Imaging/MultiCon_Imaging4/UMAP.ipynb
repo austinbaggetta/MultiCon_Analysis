{
 "cells": [
  {
   "cell_type": "code",
   "execution_count": null,
   "metadata": {},
   "outputs": [],
   "source": [
    "%load_ext autoreload\n",
    "%autoreload 2\n",
    "import os\n",
    "import sys\n",
    "import numpy as np\n",
    "import pandas as pd\n",
    "import xarray as xr\n",
    "import umap\n",
    "from scipy.ndimage import gaussian_filter\n",
    "import plotly.express as px\n",
    "from os.path import join as pjoin\n",
    "from tqdm.notebook import tqdm\n",
    "import plotly.graph_objects as go\n",
    "from scipy.stats import pearsonr, spearmanr, zscore\n",
    "\n",
    "sys.path.append('/home/austinbaggetta/csstorage3/CircleTrack/CircleTrackAnalysis')\n",
    "import circletrack_behavior as ctb\n",
    "import circletrack_neural as ctn\n",
    "import plotting_functions as pf\n",
    "import place_cells as pc\n",
    "import pca_ica as pca\n",
    "\n",
    "xr.set_options(keep_attrs=True)"
   ]
  },
  {
   "cell_type": "code",
   "execution_count": null,
   "metadata": {},
   "outputs": [],
   "source": [
    "## Settings\n",
    "project_dir = 'MultiCon_Imaging'\n",
    "experiment_dir = 'MultiCon_Imaging2'\n",
    "dpath = f'../../../{project_dir}/{experiment_dir}/output/'\n",
    "fig_path = f'../../../{project_dir}/{experiment_dir}/intermediate_figures/'\n",
    "mouse_list = ['mc42', 'mc43']\n",
    "session_list = [f'A{x}' for x in np.arange(1, 6)] + [f'B{x}' for x in np.arange(1, 6)] + [f'C{x}' for x in np.arange(1, 6)] + [f'D{x}' for x in np.arange(1, 6)]"
   ]
  },
  {
   "cell_type": "markdown",
   "metadata": {},
   "source": [
    "Analysis inspired by Wannan et al., Selection of experience for memory by hippocampal sharp wave ripples. DOI: 10.1126/science.adk8261\n",
    "\n",
    "From their methods section: \n",
    "Neural data were first preprocessed before dimensionality reduction. Neural spiking data\n",
    "(spike count) during maze learning was binned into 100-ms bin. The data was then smoothed using\n",
    "a 500-ms wide Gaussian kernel and z-scored. The UMAP dimensionality reduction algorithm was then applied to this matrix. Each point in the low-dimensional manifold corresponds\n",
    "to the population activity at a single time bin in the session.\n",
    "\n",
    "UMAP hyperparameters used were: n_neighbors = 20, metric = 'cosine', output_metric =\n",
    "'euclidean', learning_rate = 1.0, init = 'spectral', min_dist = 0.1, spread = 1.0, repulsion_strength =\n",
    "1.0, negative_sample_rate = 5, target_metric = 'categorical', dens_lambda = 2.0, dens_frac = 0.3,\n",
    "dens_var_shift=0.1.\n",
    "\n",
    "With supervised methods, data from the same trial were given the same label. Data points\n",
    "that share the same labels were leveraged so that similar points were embedded closer together.\n",
    "For example, visualizations in Fig. 1G, H were produced by supervised UAMP dimensionality\n",
    "reduction, where we exploited this option by using trial block labels in the behavioral data as\n",
    "supervised information. This was implemented by passing the trial block number as target when\n",
    "calling the fit_transform function..."
   ]
  },
  {
   "cell_type": "markdown",
   "metadata": {},
   "source": [
    "### Example from umap documentation."
   ]
  },
  {
   "cell_type": "code",
   "execution_count": null,
   "metadata": {},
   "outputs": [],
   "source": [
    "from sklearn.datasets import load_digits\n",
    "\n",
    "digits = load_digits()\n",
    "\n",
    "embedding = umap.UMAP(n_neighbors=20,\n",
    "                      min_dist=0.1,\n",
    "                      metric='cosine').fit_transform(digits.data)"
   ]
  },
  {
   "cell_type": "code",
   "execution_count": null,
   "metadata": {},
   "outputs": [],
   "source": [
    "fig = pf.custom_graph_template(x_title='', y_title='')\n",
    "fig.add_trace(go.Scatter(x=embedding[:, 0], y=embedding[:, 1], mode='markers', marker_color='darkgrey', marker_size=3))\n",
    "fig.show()"
   ]
  },
  {
   "cell_type": "markdown",
   "metadata": {},
   "source": [
    "### Single mouse example."
   ]
  },
  {
   "cell_type": "code",
   "execution_count": null,
   "metadata": {},
   "outputs": [],
   "source": [
    "mouse = 'mc26'\n",
    "data_type = 'S'\n",
    "day = '20'\n",
    "number_of_binned_trials = 4\n",
    "bin_size_seconds = 0.1\n",
    "fps = 30\n",
    "samples_per_bin = bin_size_seconds * fps\n",
    "\n",
    "spike_data = xr.open_dataset(pjoin(dpath, f'aligned_minian/{mouse}/{data_type}/{mouse}_{data_type}_{day}.nc'))[data_type]\n",
    "binarized_data = (spike_data > 0.1).astype(int)\n",
    "trial_block = np.zeros(binarized_data['frame'].shape[0])\n",
    "binarized_data = binarized_data.assign_coords(trial_block = ('frame', trial_block))\n",
    "\n",
    "block_num = 1\n",
    "for trial in np.unique(binarized_data['trials'] + 1): ## plus 1 to avoid 0 % 5, since trials start at 0\n",
    "    if trial % number_of_binned_trials != 0:\n",
    "        block_num = block_num\n",
    "        binarized_data['trial_block'][binarized_data['trials'] + 1 == trial] = block_num\n",
    "    else:\n",
    "        binarized_data['trial_block'][binarized_data['trials'] + 1 == trial] = block_num\n",
    "        block_num += 1\n",
    "        \n",
    "binned_data = pca.bin_transients(binarized_data, bin_size_in_seconds=0.1, fps=30, analysis_type='num_spikes')\n",
    "binned_trial_blocks = binarized_data['trial_block'][::int(samples_per_bin)].values\n",
    "\n",
    "# smoothed_data = gaussian_filter(binned_data, sigma=2)\n",
    "zdata = zscore(binned_data, axis=1)"
   ]
  },
  {
   "cell_type": "markdown",
   "metadata": {},
   "source": [
    "#### Testing with binarized data only."
   ]
  },
  {
   "cell_type": "code",
   "execution_count": null,
   "metadata": {},
   "outputs": [],
   "source": [
    "embedding = umap.UMAP(n_neighbors=20,\n",
    "                      min_dist=0.1, learning_rate=1.0,\n",
    "                      metric='cosine').fit_transform(binarized_data.T, y=binarized_data['trial_block'])"
   ]
  },
  {
   "cell_type": "code",
   "execution_count": null,
   "metadata": {},
   "outputs": [],
   "source": [
    "fig = pf.custom_graph_template(x_title='', y_title='')\n",
    "prev_trial_len = 0\n",
    "for trial in np.unique(binarized_data['trial_block']):\n",
    "    trial_len = binarized_data[:, binarized_data['trial_block'] == trial].shape[1]\n",
    "    plot_data = embedding[prev_trial_len:prev_trial_len+trial_len, :]\n",
    "    prev_trial_len += trial_len\n",
    "\n",
    "    fig.add_trace(go.Scattergl(x=plot_data[:, 0], y=plot_data[:, 1], mode='markers', \n",
    "                               marker_size=3, name=f'Block {trial}', showlegend=False))\n",
    "fig.show()"
   ]
  },
  {
   "cell_type": "markdown",
   "metadata": {},
   "source": [
    "#### Testing with binned data."
   ]
  },
  {
   "cell_type": "code",
   "execution_count": null,
   "metadata": {},
   "outputs": [],
   "source": [
    "## Supervised\n",
    "embedding = umap.UMAP(n_neighbors=20,\n",
    "                      min_dist=0.1, learning_rate=1.0,\n",
    "                      metric='cosine').fit_transform(binned_data.T, y=binned_trial_blocks)"
   ]
  },
  {
   "cell_type": "code",
   "execution_count": null,
   "metadata": {},
   "outputs": [],
   "source": [
    "color_list = px.colors.sequential.Viridis\n",
    "da = xr.DataArray(binned_data, dims=['unit_id', 'frame'])\n",
    "da = da.assign_coords(trial_block = ('frame', binned_trial_blocks))\n",
    "\n",
    "fig = pf.custom_graph_template(x_title='', y_title='')\n",
    "prev_trial_len = 0\n",
    "for idx, trial in enumerate(np.unique(da['trial_block'])):\n",
    "    trial_len = da[:, da['trial_block'] == trial].shape[1]\n",
    "    plot_data = embedding[prev_trial_len:prev_trial_len+trial_len, :]\n",
    "    prev_trial_len += trial_len\n",
    "\n",
    "    fig.add_trace(go.Scattergl(x=plot_data[:, 0], y=plot_data[:, 1], mode='markers', marker_color=color_list[idx],\n",
    "                               marker_size=3, name=f'Block {trial}', showlegend=False,\n",
    "                               )\n",
    "                            )\n",
    "fig.show()"
   ]
  },
  {
   "cell_type": "code",
   "execution_count": null,
   "metadata": {},
   "outputs": [],
   "source": [
    "np.unique(da['trial_block'])"
   ]
  },
  {
   "cell_type": "code",
   "execution_count": null,
   "metadata": {},
   "outputs": [],
   "source": [
    "## Unsupervised\n",
    "embedding = umap.UMAP(n_neighbors=20,\n",
    "                      min_dist=0.1, learning_rate=1.0,\n",
    "                      metric='cosine').fit_transform(binned_data.T)"
   ]
  },
  {
   "cell_type": "code",
   "execution_count": null,
   "metadata": {},
   "outputs": [],
   "source": [
    "color_list = px.colors.sequential.Viridis\n",
    "da = xr.DataArray(binned_data, dims=['unit_id', 'frame'])\n",
    "da = da.assign_coords(trial_block = ('frame', binned_trial_blocks))\n",
    "\n",
    "fig = pf.custom_graph_template(x_title='', y_title='')\n",
    "prev_trial_len = 0\n",
    "for idx, trial in enumerate(np.unique(da['trial_block'])):\n",
    "    trial_len = da[:, da['trial_block'] == trial].shape[1]\n",
    "    plot_data = embedding[prev_trial_len:prev_trial_len+trial_len, :]\n",
    "    prev_trial_len += trial_len\n",
    "\n",
    "    fig.add_trace(go.Scattergl(x=plot_data[:, 0], y=plot_data[:, 1], mode='markers', marker_color=color_list[idx],\n",
    "                               marker_size=3, name=f'Block {trial}', showlegend=False, opacity=0.7))\n",
    "fig.show()"
   ]
  },
  {
   "cell_type": "markdown",
   "metadata": {},
   "source": [
    "### First five days in A for a mouse."
   ]
  },
  {
   "cell_type": "code",
   "execution_count": null,
   "metadata": {},
   "outputs": [],
   "source": [
    "mouse = 'mc26'\n",
    "data_type = 'S'\n",
    "day_list = ['1', '2', '3', '4', '5']\n",
    "number_of_binned_trials = 4\n",
    "bin_size_seconds = 0.1\n",
    "fps = 30\n",
    "samples_per_bin = bin_size_seconds * fps\n",
    "color_list = px.colors.n_colors(lowcolor='rgb(175,238,238)', highcolor='rgb(50,100,0)', n_colors=20, colortype='rgb')\n",
    "\n",
    "fig = pf.custom_graph_template(x_title='', y_title='', rows=1, columns=5, titles=[f'A{x}' for x in np.arange(1, len(day_list) + 1)],\n",
    "                               shared_x=True, shared_y=True, width=1200)\n",
    "\n",
    "for day_idx, day in enumerate(day_list):\n",
    "    spike_data = xr.open_dataset(pjoin(dpath, f'aligned_minian/{mouse}/{data_type}/{mouse}_{data_type}_{day}.nc'))[data_type]\n",
    "    binarized_data = (spike_data > 0.1).astype(int)\n",
    "    trial_block = np.zeros(binarized_data['frame'].shape[0])\n",
    "    binarized_data = binarized_data.assign_coords(trial_block = ('frame', trial_block))\n",
    "\n",
    "    block_num = 1\n",
    "    for trial in np.unique(binarized_data['trials'] + 1): ## plus 1 to avoid 0 % 5, since trials start at 0\n",
    "        if trial % number_of_binned_trials != 0:\n",
    "            block_num = block_num\n",
    "            binarized_data['trial_block'][binarized_data['trials'] + 1 == trial] = block_num\n",
    "        else:\n",
    "            binarized_data['trial_block'][binarized_data['trials'] + 1 == trial] = block_num\n",
    "            block_num += 1\n",
    "            \n",
    "    binned_data = pca.bin_transients(binarized_data, bin_size_in_seconds=0.1, fps=30, analysis_type='num_spikes')\n",
    "    binned_trial_blocks = binarized_data['trial_block'][::int(samples_per_bin)].values\n",
    "\n",
    "    ## Supervised\n",
    "    embedding = umap.UMAP(n_neighbors=20, random_state=42, spread=1.0,\n",
    "                          min_dist=0.1, learning_rate=1.0, init='spectral',\n",
    "                          metric='cosine').fit_transform(binned_data.T, y=binned_trial_blocks)\n",
    "    \n",
    "    da = xr.DataArray(binned_data, dims=['unit_id', 'frame'])\n",
    "    da = da.assign_coords(trial_block = ('frame', binned_trial_blocks))\n",
    "\n",
    "    prev_trial_len = 0\n",
    "    for idx, trial in enumerate(np.unique(da['trial_block'])):\n",
    "        trial_len = da[:, da['trial_block'] == trial].shape[1]\n",
    "        plot_data = embedding[prev_trial_len:prev_trial_len+trial_len, :]\n",
    "        prev_trial_len += trial_len\n",
    "\n",
    "        fig.add_trace(go.Scattergl(x=plot_data[:, 0], y=plot_data[:, 1], mode='markers', marker_color=color_list[idx],\n",
    "                                   marker_size=3, name=f'Block {trial}', showlegend=False, legendgroup=trial), row=1, col=day_idx+1)\n",
    "fig.update_yaxes(title='UMAP2', col=1)\n",
    "fig.update_xaxes(title='UMAP1', row=1)\n",
    "fig.show()"
   ]
  },
  {
   "cell_type": "code",
   "execution_count": null,
   "metadata": {},
   "outputs": [],
   "source": [
    "mouse = 'mc26'\n",
    "data_type = 'S'\n",
    "number_of_binned_trials = 4\n",
    "bin_size_seconds = 0.1\n",
    "fps = 30\n",
    "samples_per_bin = bin_size_seconds * fps\n",
    "color_list = px.colors.n_colors(lowcolor='rgb(175,238,238)', highcolor='rgb(50,100,0)', n_colors=20, colortype='rgb')\n",
    "\n",
    "fig = pf.custom_graph_template(x_title='', y_title='', rows=4, columns=5, titles=session_list,\n",
    "                               shared_x=True, shared_y=True, width=1200, height=1200)\n",
    "\n",
    "mpath = pjoin(dpath, f'aligned_minian/{mouse}/{data_type}')\n",
    "for index, session in tqdm(enumerate(os.listdir(mpath))):\n",
    "    if (mouse == 'mc26') & (index > 10) & (index < 17):\n",
    "        index += 1\n",
    "    elif (mouse == 'mc26') & (index == 17):\n",
    "        index += 2\n",
    "    elif (mouse == 'mc23') & (index > 14):\n",
    "        index += 1\n",
    "\n",
    "    if index < 5:\n",
    "        row, col = 1, index + 1\n",
    "    elif (index >= 5) & (index < 10):\n",
    "        row, col = 2, index - 4\n",
    "    elif (index >= 10) & (index < 15):\n",
    "        row, col = 3, index - 9\n",
    "    elif index >= 15:\n",
    "        row, col = 4, index - 14\n",
    "\n",
    "    spike_data = xr.open_dataset(pjoin(mpath, session))['S'] ## select S matrix\n",
    "    binarized_data = (spike_data > 0.1).astype(int)\n",
    "    trial_block = np.zeros(binarized_data['frame'].shape[0])\n",
    "    binarized_data = binarized_data.assign_coords(trial_block = ('frame', trial_block))\n",
    "\n",
    "    block_num = 1\n",
    "    for trial in np.unique(binarized_data['trials'] + 1): ## plus 1 to avoid 0 % 5, since trials start at 0\n",
    "        if trial % number_of_binned_trials != 0:\n",
    "            block_num = block_num\n",
    "            binarized_data['trial_block'][binarized_data['trials'] + 1 == trial] = block_num\n",
    "        else:\n",
    "            binarized_data['trial_block'][binarized_data['trials'] + 1 == trial] = block_num\n",
    "            block_num += 1\n",
    "            \n",
    "    binned_data = pca.bin_transients(binarized_data, bin_size_in_seconds=bin_size_seconds, fps=fps, analysis_type='num_spikes')\n",
    "    binned_trial_blocks = binarized_data['trial_block'][::int(samples_per_bin)].values\n",
    "\n",
    "    ## Supervised\n",
    "    embedding = umap.UMAP(n_neighbors=20, random_state=42, spread=1.0,\n",
    "                          min_dist=0.1, learning_rate=1.0, init='spectral',\n",
    "                          metric='cosine').fit_transform(binned_data.T, y=binned_trial_blocks)\n",
    "    \n",
    "    da = xr.DataArray(binned_data, dims=['unit_id', 'frame'])\n",
    "    da = da.assign_coords(trial_block = ('frame', binned_trial_blocks))\n",
    "\n",
    "    prev_trial_len = 0\n",
    "    for idx, trial in enumerate(np.unique(da['trial_block'])):\n",
    "        trial_len = da[:, da['trial_block'] == trial].shape[1]\n",
    "        plot_data = embedding[prev_trial_len:prev_trial_len+trial_len, :]\n",
    "        prev_trial_len += trial_len\n",
    "\n",
    "        fig.add_trace(go.Scattergl(x=plot_data[:, 0], y=plot_data[:, 1], mode='markers', marker_color=color_list[idx],\n",
    "                                   marker_size=3, name=f'Block {trial}', showlegend=False, legendgroup=trial), row=row, col=col)\n",
    "fig.update_yaxes(title='UMAP2', col=1)\n",
    "fig.update_xaxes(title='UMAP1', row=4)\n",
    "fig.show()\n",
    "fig.write_image(pjoin(fig_path, f'trial_blocks_UMAP_{mouse}_{number_of_binned_trials}.png'))"
   ]
  }
 ],
 "metadata": {
  "kernelspec": {
   "display_name": "calcium",
   "language": "python",
   "name": "python3"
  },
  "language_info": {
   "codemirror_mode": {
    "name": "ipython",
    "version": 3
   },
   "file_extension": ".py",
   "mimetype": "text/x-python",
   "name": "python",
   "nbconvert_exporter": "python",
   "pygments_lexer": "ipython3",
   "version": "3.10.8"
  }
 },
 "nbformat": 4,
 "nbformat_minor": 2
}
