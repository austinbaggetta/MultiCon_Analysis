{
 "cells": [
  {
   "cell_type": "code",
   "execution_count": 1,
   "metadata": {},
   "outputs": [
    {
     "name": "stderr",
     "output_type": "stream",
     "text": [
      "/home/austinbaggetta/.conda/envs/calcium/lib/python3.10/site-packages/outdated/utils.py:14: OutdatedPackageWarning: The package pingouin is out of date. Your version is 0.5.2, the latest is 0.5.5.\n",
      "Set the environment variable OUTDATED_IGNORE=1 to disable these warnings.\n",
      "  return warn(\n"
     ]
    }
   ],
   "source": [
    "%load_ext autoreload\n",
    "%autoreload 2\n",
    "import os\n",
    "import sys\n",
    "import numpy as np\n",
    "import pandas as pd\n",
    "import xarray as xr\n",
    "from os.path import join as pjoin\n",
    "from tqdm.notebook import tqdm\n",
    "import plotly.graph_objects as go\n",
    "import pingouin as pg\n",
    "from scipy.stats import pearsonr, spearmanr, zscore\n",
    "import itertools\n",
    "\n",
    "sys.path.append('/home/austinbaggetta/csstorage3/CircleTrack/CircleTrackAnalysis')\n",
    "import circletrack_behavior as ctb\n",
    "import circletrack_neural as ctn\n",
    "import place_cells as pc\n",
    "import plotting_functions as pf"
   ]
  },
  {
   "cell_type": "code",
   "execution_count": 9,
   "metadata": {},
   "outputs": [
    {
     "data": {
      "text/plain": [
       "<xarray.core.options.set_options at 0x7f5210389270>"
      ]
     },
     "execution_count": 9,
     "metadata": {},
     "output_type": "execute_result"
    }
   ],
   "source": [
    "## Settings\n",
    "project_folder = ['MultiCon_Imaging']\n",
    "experiment_folders = ['MultiCon_Imaging5', 'MultiCon_Imaging6']\n",
    "dpath = f'../../{project_folder[0]}'\n",
    "fig_path = f'../../../Manuscripts/MultiCon/intermediate_plots'\n",
    "chance_color = 'darkgrey'\n",
    "avg_color = 'midnightblue'\n",
    "subject_color = 'darkgrey'\n",
    "ce_colors = ['#7d7d7d', '#287347']\n",
    "ce_colors_dict = {'Control': '#7d7d7d', 'Experimental': '#287347', 'Two-Context': '#7d7d7d', 'Multi-Context': '#287347'}\n",
    "mouse_colors = ['midnightblue', 'darkred', 'darkorchid', 'darkturquoise']\n",
    "male_mice = ['mc44', 'mc46', 'mc54', 'mc55', 'mc57']\n",
    "control_mice = ['mc46', 'mc49', 'mc52', 'mc54', 'mc57', 'mc59', 'mc60']\n",
    "session_list = [f'A{x}' for x in np.arange(1, 6)] + [f'B{x}' for x in np.arange(1, 6)] + [f'C{x}' for x in np.arange(1, 6)] + [f'D{x}' for x in np.arange(1, 6)]\n",
    "control_list = [f'A{x}' for x in np.arange(1, 16)] + [f'B{x}' for x in np.arange(1, 6)]\n",
    "bin_size = 0.1\n",
    "velocity_thresh = 10\n",
    "data_of_interest = 'aligned_minian' ## one of behav, aligned_minian, lin_behav\n",
    "\n",
    "if not os.path.exists(fig_path):\n",
    "    os.makedirs(fig_path)\n",
    "\n",
    "xr.set_options(keep_attrs=True)"
   ]
  },
  {
   "cell_type": "markdown",
   "metadata": {},
   "source": [
    "### Plot number of cells across days."
   ]
  },
  {
   "cell_type": "code",
   "execution_count": 3,
   "metadata": {},
   "outputs": [],
   "source": [
    "data_type = 'S'\n",
    "cell_dict = {'mouse': [], 'group': [], 'group_two': [], 'session': [], 'day': [], 'num_cells': []}\n",
    "for experiment in os.listdir(dpath):\n",
    "    if experiment not in experiment_folders:\n",
    "        pass \n",
    "    else:\n",
    "        exp_path = pjoin(dpath, f'{experiment}/output/{data_of_interest}/')\n",
    "        for mouse in os.listdir(exp_path):\n",
    "            if mouse == 'mc47':\n",
    "                pass \n",
    "            else:\n",
    "                mpath = pjoin(exp_path, f'{mouse}/{data_type}')\n",
    "                sex = 'Male' if mouse in male_mice else 'Female'\n",
    "                group = 'Control' if mouse in control_mice else 'Experimental'\n",
    "                for index, session in enumerate(os.listdir(mpath)):\n",
    "                    if (mouse == 'mc43') & (index > 11):\n",
    "                        index += 1\n",
    "                    elif (mouse == 'mc42') & (index > 14):\n",
    "                        index += 1\n",
    "                    elif (mouse == 'mc44') & (index > 7):\n",
    "                        index += 1\n",
    "                    elif (mouse == 'mc46') & (index > 9):\n",
    "                        index += 1\n",
    "                    elif (mouse == 'mc52') & (index > 2):\n",
    "                        index += 1\n",
    "                    elif (mouse == 'mc55') & (index > 2):\n",
    "                        index += 1\n",
    "                    \n",
    "                    data = xr.open_dataset(pjoin(mpath, session))[data_type] \n",
    "\n",
    "                    cell_dict['mouse'].append(mouse)\n",
    "                    cell_dict['group'].append(group)\n",
    "                    cell_dict['group_two'].append(sex)\n",
    "                    cell_dict['session'].append(data.attrs['session_two'])\n",
    "                    cell_dict['day'].append(index + 1)\n",
    "                    cell_dict['num_cells'].append(data.shape[0])\n",
    "cell_df = pd.DataFrame(cell_dict)"
   ]
  },
  {
   "cell_type": "code",
   "execution_count": 16,
   "metadata": {},
   "outputs": [
    {
     "data": {
      "application/vnd.plotly.v1+json": {
       "config": {
        "plotlyServerURL": "https://plot.ly"
       },
       "data": [
        {
         "error_y": {
          "array": [
           49.78095326609172,
           54.835353881903,
           51.495727732963196,
           52.44849325237518,
           46.701880653413276,
           54.65074486355528,
           49.213870509288846,
           48.813724214785864,
           49.417215188887305,
           45.794577278110204,
           47.05221295328895,
           56.71648322751482,
           55.28034040555047,
           56.55757658967514,
           52.94749161845978,
           41.88369991036869,
           51.815249451851294,
           55.44138774189798,
           58.75931045933543,
           58.33893371384745
          ],
          "type": "data"
         },
         "line": {
          "color": "midnightblue"
         },
         "mode": "lines+markers",
         "showlegend": false,
         "type": "scatter",
         "x": [
          1,
          2,
          3,
          4,
          5,
          6,
          7,
          8,
          9,
          10,
          11,
          12,
          13,
          14,
          15,
          16,
          17,
          18,
          19,
          20
         ],
         "y": [
          226.41666666666666,
          240.41666666666666,
          238.08333333333334,
          287,
          268.3333333333333,
          309.0833333333333,
          297.3333333333333,
          309.0833333333333,
          314.54545454545456,
          316.4166666666667,
          353.27272727272725,
          361.25,
          357.4166666666667,
          367.75,
          341.8333333333333,
          326.75,
          280.75,
          286.3333333333333,
          290.6666666666667,
          275.9166666666667
         ]
        },
        {
         "line": {
          "color": "midnightblue",
          "width": 1
         },
         "mode": "lines",
         "name": "mc44",
         "opacity": 0.6,
         "showlegend": false,
         "type": "scatter",
         "x": [
          1,
          2,
          3,
          4,
          5,
          6,
          7,
          8,
          10,
          11,
          12,
          13,
          14,
          15,
          16,
          17,
          18,
          19,
          20
         ],
         "y": [
          144,
          193,
          187,
          251,
          205,
          171,
          261,
          248,
          214,
          237,
          284,
          309,
          348,
          309,
          337,
          272,
          303,
          329,
          282
         ]
        },
        {
         "line": {
          "color": "midnightblue",
          "width": 1
         },
         "mode": "lines",
         "name": "mc46",
         "opacity": 0.6,
         "showlegend": false,
         "type": "scatter",
         "x": [
          1,
          2,
          3,
          4,
          5,
          6,
          7,
          8,
          9,
          10,
          12,
          13,
          14,
          15,
          16,
          17,
          18,
          19,
          20
         ],
         "y": [
          109,
          129,
          115,
          127,
          155,
          154,
          138,
          181,
          176,
          176,
          217,
          177,
          204,
          171,
          203,
          193,
          185,
          200,
          155
         ]
        },
        {
         "line": {
          "color": "midnightblue",
          "width": 1
         },
         "mode": "lines",
         "name": "mc48",
         "opacity": 0.6,
         "showlegend": false,
         "type": "scatter",
         "x": [
          1,
          2,
          3,
          4,
          5,
          6,
          7,
          8,
          9,
          10,
          11,
          12,
          13,
          14,
          15,
          16,
          17,
          18,
          19,
          20
         ],
         "y": [
          336,
          388,
          364,
          367,
          379,
          539,
          473,
          506,
          571,
          510,
          585,
          589,
          589,
          556,
          481,
          566,
          493,
          466,
          460,
          438
         ]
        },
        {
         "line": {
          "color": "midnightblue",
          "width": 1
         },
         "mode": "lines",
         "name": "mc49",
         "opacity": 0.6,
         "showlegend": false,
         "type": "scatter",
         "x": [
          1,
          2,
          3,
          4,
          5,
          6,
          7,
          8,
          9,
          10,
          11,
          12,
          13,
          14,
          15,
          16,
          17,
          18,
          19,
          20
         ],
         "y": [
          284,
          331,
          393,
          397,
          396,
          447,
          409,
          401,
          371,
          481,
          426,
          467,
          390,
          415,
          341,
          236,
          305,
          287,
          266,
          322
         ]
        },
        {
         "line": {
          "color": "midnightblue",
          "width": 1
         },
         "mode": "lines",
         "name": "mc51",
         "opacity": 0.6,
         "showlegend": false,
         "type": "scatter",
         "x": [
          1,
          2,
          3,
          4,
          5,
          6,
          7,
          8,
          9,
          10,
          11,
          12,
          13,
          14,
          15,
          16,
          17,
          18,
          19,
          20
         ],
         "y": [
          672,
          736,
          676,
          643,
          619,
          692,
          655,
          633,
          530,
          500,
          601,
          812,
          781,
          814,
          774,
          415,
          711,
          739,
          779,
          781
         ]
        },
        {
         "line": {
          "color": "midnightblue",
          "width": 1
         },
         "mode": "lines",
         "name": "mc52",
         "opacity": 0.6,
         "showlegend": false,
         "type": "scatter",
         "x": [
          1,
          2,
          3,
          5,
          6,
          7,
          8,
          9,
          10,
          11,
          12,
          13,
          14,
          15,
          16,
          17,
          18,
          19,
          20
         ],
         "y": [
          137,
          112,
          125,
          119,
          123,
          106,
          108,
          101,
          127,
          136,
          130,
          145,
          134,
          120,
          123,
          95,
          121,
          98,
          99
         ]
        },
        {
         "line": {
          "color": "midnightblue",
          "width": 1
         },
         "mode": "lines",
         "name": "mc56",
         "opacity": 0.6,
         "showlegend": false,
         "type": "scatter",
         "x": [
          1,
          2,
          3,
          4,
          5,
          6,
          7,
          8,
          9,
          10,
          11,
          12,
          13,
          14,
          15,
          16,
          17,
          18,
          19,
          20,
          21
         ],
         "y": [
          379,
          361,
          359,
          376,
          467,
          493,
          479,
          511,
          501,
          564,
          496,
          459,
          537,
          585,
          562,
          610,
          424,
          508,
          536,
          473,
          425
         ]
        },
        {
         "line": {
          "color": "midnightblue",
          "width": 1
         },
         "mode": "lines",
         "name": "mc54",
         "opacity": 0.6,
         "showlegend": false,
         "type": "scatter",
         "x": [
          1,
          2,
          3,
          4,
          5,
          6,
          7,
          8,
          9,
          10,
          11,
          12,
          13,
          14,
          15,
          16,
          17,
          18,
          19,
          20,
          21
         ],
         "y": [
          133,
          124,
          120,
          192,
          139,
          242,
          186,
          258,
          266,
          233,
          312,
          314,
          266,
          272,
          301,
          321,
          176,
          106,
          172,
          162,
          155
         ]
        },
        {
         "line": {
          "color": "midnightblue",
          "width": 1
         },
         "mode": "lines",
         "name": "mc55",
         "opacity": 0.6,
         "showlegend": false,
         "type": "scatter",
         "x": [
          1,
          2,
          3,
          5,
          6,
          7,
          8,
          9,
          10,
          11,
          12,
          13,
          14,
          15,
          16,
          17,
          18,
          19,
          20
         ],
         "y": [
          104,
          107,
          119,
          157,
          159,
          174,
          166,
          185,
          185,
          228,
          237,
          207,
          233,
          222,
          221,
          210,
          192,
          167,
          202
         ]
        },
        {
         "line": {
          "color": "midnightblue",
          "width": 1
         },
         "mode": "lines",
         "name": "mc58",
         "opacity": 0.6,
         "showlegend": false,
         "type": "scatter",
         "x": [
          1,
          2,
          3,
          4,
          5,
          6,
          7,
          8,
          9,
          10,
          11,
          12,
          13,
          14,
          15,
          16,
          17,
          18,
          19,
          20,
          21
         ],
         "y": [
          89,
          98,
          81,
          140,
          206,
          219,
          219,
          211,
          260,
          270,
          299,
          300,
          345,
          309,
          260,
          290,
          187,
          185,
          180,
          147,
          165
         ]
        },
        {
         "line": {
          "color": "midnightblue",
          "width": 1
         },
         "mode": "lines",
         "name": "mc59",
         "opacity": 0.6,
         "showlegend": false,
         "type": "scatter",
         "x": [
          1,
          2,
          3,
          4,
          5,
          6,
          7,
          8,
          9,
          10,
          11,
          12,
          13,
          14,
          15,
          16,
          17,
          18,
          19,
          20,
          21
         ],
         "y": [
          240,
          219,
          222,
          282,
          267,
          330,
          306,
          342,
          357,
          369,
          360,
          381,
          346,
          331,
          334,
          359,
          188,
          215,
          157,
          138,
          137
         ]
        },
        {
         "line": {
          "color": "midnightblue",
          "width": 1
         },
         "mode": "lines",
         "name": "mc60",
         "opacity": 0.6,
         "showlegend": false,
         "type": "scatter",
         "x": [
          1,
          2,
          3,
          4,
          5,
          6,
          7,
          8,
          9,
          10,
          11,
          12,
          13,
          14,
          15,
          16,
          17,
          18,
          19,
          20,
          21
         ],
         "y": [
          90,
          87,
          96,
          95,
          111,
          140,
          162,
          144,
          142,
          168,
          206,
          145,
          197,
          212,
          227,
          240,
          115,
          129,
          144,
          112,
          121
         ]
        }
       ],
       "layout": {
        "font": {
         "family": "Arial",
         "size": 22
        },
        "height": 500,
        "template": {
         "data": {
          "bar": [
           {
            "error_x": {
             "color": "rgb(36,36,36)"
            },
            "error_y": {
             "color": "rgb(36,36,36)"
            },
            "marker": {
             "line": {
              "color": "white",
              "width": 0.5
             },
             "pattern": {
              "fillmode": "overlay",
              "size": 10,
              "solidity": 0.2
             }
            },
            "type": "bar"
           }
          ],
          "barpolar": [
           {
            "marker": {
             "line": {
              "color": "white",
              "width": 0.5
             },
             "pattern": {
              "fillmode": "overlay",
              "size": 10,
              "solidity": 0.2
             }
            },
            "type": "barpolar"
           }
          ],
          "carpet": [
           {
            "aaxis": {
             "endlinecolor": "rgb(36,36,36)",
             "gridcolor": "white",
             "linecolor": "white",
             "minorgridcolor": "white",
             "startlinecolor": "rgb(36,36,36)"
            },
            "baxis": {
             "endlinecolor": "rgb(36,36,36)",
             "gridcolor": "white",
             "linecolor": "white",
             "minorgridcolor": "white",
             "startlinecolor": "rgb(36,36,36)"
            },
            "type": "carpet"
           }
          ],
          "choropleth": [
           {
            "colorbar": {
             "outlinewidth": 1,
             "tickcolor": "rgb(36,36,36)",
             "ticks": "outside"
            },
            "type": "choropleth"
           }
          ],
          "contour": [
           {
            "colorbar": {
             "outlinewidth": 1,
             "tickcolor": "rgb(36,36,36)",
             "ticks": "outside"
            },
            "colorscale": [
             [
              0,
              "#440154"
             ],
             [
              0.1111111111111111,
              "#482878"
             ],
             [
              0.2222222222222222,
              "#3e4989"
             ],
             [
              0.3333333333333333,
              "#31688e"
             ],
             [
              0.4444444444444444,
              "#26828e"
             ],
             [
              0.5555555555555556,
              "#1f9e89"
             ],
             [
              0.6666666666666666,
              "#35b779"
             ],
             [
              0.7777777777777778,
              "#6ece58"
             ],
             [
              0.8888888888888888,
              "#b5de2b"
             ],
             [
              1,
              "#fde725"
             ]
            ],
            "type": "contour"
           }
          ],
          "contourcarpet": [
           {
            "colorbar": {
             "outlinewidth": 1,
             "tickcolor": "rgb(36,36,36)",
             "ticks": "outside"
            },
            "type": "contourcarpet"
           }
          ],
          "heatmap": [
           {
            "colorbar": {
             "outlinewidth": 1,
             "tickcolor": "rgb(36,36,36)",
             "ticks": "outside"
            },
            "colorscale": [
             [
              0,
              "#440154"
             ],
             [
              0.1111111111111111,
              "#482878"
             ],
             [
              0.2222222222222222,
              "#3e4989"
             ],
             [
              0.3333333333333333,
              "#31688e"
             ],
             [
              0.4444444444444444,
              "#26828e"
             ],
             [
              0.5555555555555556,
              "#1f9e89"
             ],
             [
              0.6666666666666666,
              "#35b779"
             ],
             [
              0.7777777777777778,
              "#6ece58"
             ],
             [
              0.8888888888888888,
              "#b5de2b"
             ],
             [
              1,
              "#fde725"
             ]
            ],
            "type": "heatmap"
           }
          ],
          "heatmapgl": [
           {
            "colorbar": {
             "outlinewidth": 1,
             "tickcolor": "rgb(36,36,36)",
             "ticks": "outside"
            },
            "colorscale": [
             [
              0,
              "#440154"
             ],
             [
              0.1111111111111111,
              "#482878"
             ],
             [
              0.2222222222222222,
              "#3e4989"
             ],
             [
              0.3333333333333333,
              "#31688e"
             ],
             [
              0.4444444444444444,
              "#26828e"
             ],
             [
              0.5555555555555556,
              "#1f9e89"
             ],
             [
              0.6666666666666666,
              "#35b779"
             ],
             [
              0.7777777777777778,
              "#6ece58"
             ],
             [
              0.8888888888888888,
              "#b5de2b"
             ],
             [
              1,
              "#fde725"
             ]
            ],
            "type": "heatmapgl"
           }
          ],
          "histogram": [
           {
            "marker": {
             "line": {
              "color": "white",
              "width": 0.6
             }
            },
            "type": "histogram"
           }
          ],
          "histogram2d": [
           {
            "colorbar": {
             "outlinewidth": 1,
             "tickcolor": "rgb(36,36,36)",
             "ticks": "outside"
            },
            "colorscale": [
             [
              0,
              "#440154"
             ],
             [
              0.1111111111111111,
              "#482878"
             ],
             [
              0.2222222222222222,
              "#3e4989"
             ],
             [
              0.3333333333333333,
              "#31688e"
             ],
             [
              0.4444444444444444,
              "#26828e"
             ],
             [
              0.5555555555555556,
              "#1f9e89"
             ],
             [
              0.6666666666666666,
              "#35b779"
             ],
             [
              0.7777777777777778,
              "#6ece58"
             ],
             [
              0.8888888888888888,
              "#b5de2b"
             ],
             [
              1,
              "#fde725"
             ]
            ],
            "type": "histogram2d"
           }
          ],
          "histogram2dcontour": [
           {
            "colorbar": {
             "outlinewidth": 1,
             "tickcolor": "rgb(36,36,36)",
             "ticks": "outside"
            },
            "colorscale": [
             [
              0,
              "#440154"
             ],
             [
              0.1111111111111111,
              "#482878"
             ],
             [
              0.2222222222222222,
              "#3e4989"
             ],
             [
              0.3333333333333333,
              "#31688e"
             ],
             [
              0.4444444444444444,
              "#26828e"
             ],
             [
              0.5555555555555556,
              "#1f9e89"
             ],
             [
              0.6666666666666666,
              "#35b779"
             ],
             [
              0.7777777777777778,
              "#6ece58"
             ],
             [
              0.8888888888888888,
              "#b5de2b"
             ],
             [
              1,
              "#fde725"
             ]
            ],
            "type": "histogram2dcontour"
           }
          ],
          "mesh3d": [
           {
            "colorbar": {
             "outlinewidth": 1,
             "tickcolor": "rgb(36,36,36)",
             "ticks": "outside"
            },
            "type": "mesh3d"
           }
          ],
          "parcoords": [
           {
            "line": {
             "colorbar": {
              "outlinewidth": 1,
              "tickcolor": "rgb(36,36,36)",
              "ticks": "outside"
             }
            },
            "type": "parcoords"
           }
          ],
          "pie": [
           {
            "automargin": true,
            "type": "pie"
           }
          ],
          "scatter": [
           {
            "fillpattern": {
             "fillmode": "overlay",
             "size": 10,
             "solidity": 0.2
            },
            "type": "scatter"
           }
          ],
          "scatter3d": [
           {
            "line": {
             "colorbar": {
              "outlinewidth": 1,
              "tickcolor": "rgb(36,36,36)",
              "ticks": "outside"
             }
            },
            "marker": {
             "colorbar": {
              "outlinewidth": 1,
              "tickcolor": "rgb(36,36,36)",
              "ticks": "outside"
             }
            },
            "type": "scatter3d"
           }
          ],
          "scattercarpet": [
           {
            "marker": {
             "colorbar": {
              "outlinewidth": 1,
              "tickcolor": "rgb(36,36,36)",
              "ticks": "outside"
             }
            },
            "type": "scattercarpet"
           }
          ],
          "scattergeo": [
           {
            "marker": {
             "colorbar": {
              "outlinewidth": 1,
              "tickcolor": "rgb(36,36,36)",
              "ticks": "outside"
             }
            },
            "type": "scattergeo"
           }
          ],
          "scattergl": [
           {
            "marker": {
             "colorbar": {
              "outlinewidth": 1,
              "tickcolor": "rgb(36,36,36)",
              "ticks": "outside"
             }
            },
            "type": "scattergl"
           }
          ],
          "scattermapbox": [
           {
            "marker": {
             "colorbar": {
              "outlinewidth": 1,
              "tickcolor": "rgb(36,36,36)",
              "ticks": "outside"
             }
            },
            "type": "scattermapbox"
           }
          ],
          "scatterpolar": [
           {
            "marker": {
             "colorbar": {
              "outlinewidth": 1,
              "tickcolor": "rgb(36,36,36)",
              "ticks": "outside"
             }
            },
            "type": "scatterpolar"
           }
          ],
          "scatterpolargl": [
           {
            "marker": {
             "colorbar": {
              "outlinewidth": 1,
              "tickcolor": "rgb(36,36,36)",
              "ticks": "outside"
             }
            },
            "type": "scatterpolargl"
           }
          ],
          "scatterternary": [
           {
            "marker": {
             "colorbar": {
              "outlinewidth": 1,
              "tickcolor": "rgb(36,36,36)",
              "ticks": "outside"
             }
            },
            "type": "scatterternary"
           }
          ],
          "surface": [
           {
            "colorbar": {
             "outlinewidth": 1,
             "tickcolor": "rgb(36,36,36)",
             "ticks": "outside"
            },
            "colorscale": [
             [
              0,
              "#440154"
             ],
             [
              0.1111111111111111,
              "#482878"
             ],
             [
              0.2222222222222222,
              "#3e4989"
             ],
             [
              0.3333333333333333,
              "#31688e"
             ],
             [
              0.4444444444444444,
              "#26828e"
             ],
             [
              0.5555555555555556,
              "#1f9e89"
             ],
             [
              0.6666666666666666,
              "#35b779"
             ],
             [
              0.7777777777777778,
              "#6ece58"
             ],
             [
              0.8888888888888888,
              "#b5de2b"
             ],
             [
              1,
              "#fde725"
             ]
            ],
            "type": "surface"
           }
          ],
          "table": [
           {
            "cells": {
             "fill": {
              "color": "rgb(237,237,237)"
             },
             "line": {
              "color": "white"
             }
            },
            "header": {
             "fill": {
              "color": "rgb(217,217,217)"
             },
             "line": {
              "color": "white"
             }
            },
            "type": "table"
           }
          ]
         },
         "layout": {
          "annotationdefaults": {
           "arrowhead": 0,
           "arrowwidth": 1
          },
          "autotypenumbers": "strict",
          "coloraxis": {
           "colorbar": {
            "outlinewidth": 1,
            "tickcolor": "rgb(36,36,36)",
            "ticks": "outside"
           }
          },
          "colorscale": {
           "diverging": [
            [
             0,
             "rgb(103,0,31)"
            ],
            [
             0.1,
             "rgb(178,24,43)"
            ],
            [
             0.2,
             "rgb(214,96,77)"
            ],
            [
             0.3,
             "rgb(244,165,130)"
            ],
            [
             0.4,
             "rgb(253,219,199)"
            ],
            [
             0.5,
             "rgb(247,247,247)"
            ],
            [
             0.6,
             "rgb(209,229,240)"
            ],
            [
             0.7,
             "rgb(146,197,222)"
            ],
            [
             0.8,
             "rgb(67,147,195)"
            ],
            [
             0.9,
             "rgb(33,102,172)"
            ],
            [
             1,
             "rgb(5,48,97)"
            ]
           ],
           "sequential": [
            [
             0,
             "#440154"
            ],
            [
             0.1111111111111111,
             "#482878"
            ],
            [
             0.2222222222222222,
             "#3e4989"
            ],
            [
             0.3333333333333333,
             "#31688e"
            ],
            [
             0.4444444444444444,
             "#26828e"
            ],
            [
             0.5555555555555556,
             "#1f9e89"
            ],
            [
             0.6666666666666666,
             "#35b779"
            ],
            [
             0.7777777777777778,
             "#6ece58"
            ],
            [
             0.8888888888888888,
             "#b5de2b"
            ],
            [
             1,
             "#fde725"
            ]
           ],
           "sequentialminus": [
            [
             0,
             "#440154"
            ],
            [
             0.1111111111111111,
             "#482878"
            ],
            [
             0.2222222222222222,
             "#3e4989"
            ],
            [
             0.3333333333333333,
             "#31688e"
            ],
            [
             0.4444444444444444,
             "#26828e"
            ],
            [
             0.5555555555555556,
             "#1f9e89"
            ],
            [
             0.6666666666666666,
             "#35b779"
            ],
            [
             0.7777777777777778,
             "#6ece58"
            ],
            [
             0.8888888888888888,
             "#b5de2b"
            ],
            [
             1,
             "#fde725"
            ]
           ]
          },
          "colorway": [
           "#1F77B4",
           "#FF7F0E",
           "#2CA02C",
           "#D62728",
           "#9467BD",
           "#8C564B",
           "#E377C2",
           "#7F7F7F",
           "#BCBD22",
           "#17BECF"
          ],
          "font": {
           "color": "rgb(36,36,36)"
          },
          "geo": {
           "bgcolor": "white",
           "lakecolor": "white",
           "landcolor": "white",
           "showlakes": true,
           "showland": true,
           "subunitcolor": "white"
          },
          "hoverlabel": {
           "align": "left"
          },
          "hovermode": "closest",
          "mapbox": {
           "style": "light"
          },
          "paper_bgcolor": "white",
          "plot_bgcolor": "white",
          "polar": {
           "angularaxis": {
            "gridcolor": "rgb(232,232,232)",
            "linecolor": "rgb(36,36,36)",
            "showgrid": false,
            "showline": true,
            "ticks": "outside"
           },
           "bgcolor": "white",
           "radialaxis": {
            "gridcolor": "rgb(232,232,232)",
            "linecolor": "rgb(36,36,36)",
            "showgrid": false,
            "showline": true,
            "ticks": "outside"
           }
          },
          "scene": {
           "xaxis": {
            "backgroundcolor": "white",
            "gridcolor": "rgb(232,232,232)",
            "gridwidth": 2,
            "linecolor": "rgb(36,36,36)",
            "showbackground": true,
            "showgrid": false,
            "showline": true,
            "ticks": "outside",
            "zeroline": false,
            "zerolinecolor": "rgb(36,36,36)"
           },
           "yaxis": {
            "backgroundcolor": "white",
            "gridcolor": "rgb(232,232,232)",
            "gridwidth": 2,
            "linecolor": "rgb(36,36,36)",
            "showbackground": true,
            "showgrid": false,
            "showline": true,
            "ticks": "outside",
            "zeroline": false,
            "zerolinecolor": "rgb(36,36,36)"
           },
           "zaxis": {
            "backgroundcolor": "white",
            "gridcolor": "rgb(232,232,232)",
            "gridwidth": 2,
            "linecolor": "rgb(36,36,36)",
            "showbackground": true,
            "showgrid": false,
            "showline": true,
            "ticks": "outside",
            "zeroline": false,
            "zerolinecolor": "rgb(36,36,36)"
           }
          },
          "shapedefaults": {
           "fillcolor": "black",
           "line": {
            "width": 0
           },
           "opacity": 0.3
          },
          "ternary": {
           "aaxis": {
            "gridcolor": "rgb(232,232,232)",
            "linecolor": "rgb(36,36,36)",
            "showgrid": false,
            "showline": true,
            "ticks": "outside"
           },
           "baxis": {
            "gridcolor": "rgb(232,232,232)",
            "linecolor": "rgb(36,36,36)",
            "showgrid": false,
            "showline": true,
            "ticks": "outside"
           },
           "bgcolor": "white",
           "caxis": {
            "gridcolor": "rgb(232,232,232)",
            "linecolor": "rgb(36,36,36)",
            "showgrid": false,
            "showline": true,
            "ticks": "outside"
           }
          },
          "title": {
           "x": 0.05
          },
          "xaxis": {
           "automargin": true,
           "gridcolor": "rgb(232,232,232)",
           "linecolor": "rgb(36,36,36)",
           "showgrid": false,
           "showline": true,
           "ticks": "outside",
           "title": {
            "standoff": 15
           },
           "zeroline": false,
           "zerolinecolor": "rgb(36,36,36)"
          },
          "yaxis": {
           "automargin": true,
           "gridcolor": "rgb(232,232,232)",
           "linecolor": "rgb(36,36,36)",
           "showgrid": false,
           "showline": true,
           "ticks": "outside",
           "title": {
            "standoff": 15
           },
           "zeroline": false,
           "zerolinecolor": "rgb(36,36,36)"
          }
         }
        },
        "title": {
         "x": 0.5,
         "xanchor": "center",
         "y": 0.9,
         "yanchor": "top"
        },
        "width": 500,
        "xaxis": {
         "anchor": "y",
         "domain": [
          0,
          1
         ],
         "linewidth": 1.5,
         "title": {
          "text": "Day"
         }
        },
        "yaxis": {
         "anchor": "x",
         "domain": [
          0,
          1
         ],
         "linewidth": 1.5,
         "range": [
          0,
          900
         ],
         "title": {
          "text": "Number of Cells"
         }
        }
       }
      },
      "text/html": [
       "<div>                            <div id=\"5e0ff8ea-09e3-435f-904a-87b7df8e46a5\" class=\"plotly-graph-div\" style=\"height:500px; width:500px;\"></div>            <script type=\"text/javascript\">                require([\"plotly\"], function(Plotly) {                    window.PLOTLYENV=window.PLOTLYENV || {};                                    if (document.getElementById(\"5e0ff8ea-09e3-435f-904a-87b7df8e46a5\")) {                    Plotly.newPlot(                        \"5e0ff8ea-09e3-435f-904a-87b7df8e46a5\",                        [{\"error_y\":{\"array\":[49.78095326609172,54.835353881903,51.495727732963196,52.44849325237518,46.701880653413276,54.65074486355528,49.213870509288846,48.813724214785864,49.417215188887305,45.794577278110204,47.05221295328895,56.71648322751482,55.28034040555047,56.55757658967514,52.94749161845978,41.88369991036869,51.815249451851294,55.44138774189798,58.75931045933543,58.33893371384745],\"type\":\"data\"},\"line\":{\"color\":\"midnightblue\"},\"mode\":\"lines+markers\",\"showlegend\":false,\"x\":[1,2,3,4,5,6,7,8,9,10,11,12,13,14,15,16,17,18,19,20],\"y\":[226.41666666666666,240.41666666666666,238.08333333333334,287.0,268.3333333333333,309.0833333333333,297.3333333333333,309.0833333333333,314.54545454545456,316.4166666666667,353.27272727272725,361.25,357.4166666666667,367.75,341.8333333333333,326.75,280.75,286.3333333333333,290.6666666666667,275.9166666666667],\"type\":\"scatter\"},{\"line\":{\"color\":\"midnightblue\",\"width\":1},\"mode\":\"lines\",\"name\":\"mc44\",\"opacity\":0.6,\"showlegend\":false,\"x\":[1,2,3,4,5,6,7,8,10,11,12,13,14,15,16,17,18,19,20],\"y\":[144,193,187,251,205,171,261,248,214,237,284,309,348,309,337,272,303,329,282],\"type\":\"scatter\"},{\"line\":{\"color\":\"midnightblue\",\"width\":1},\"mode\":\"lines\",\"name\":\"mc46\",\"opacity\":0.6,\"showlegend\":false,\"x\":[1,2,3,4,5,6,7,8,9,10,12,13,14,15,16,17,18,19,20],\"y\":[109,129,115,127,155,154,138,181,176,176,217,177,204,171,203,193,185,200,155],\"type\":\"scatter\"},{\"line\":{\"color\":\"midnightblue\",\"width\":1},\"mode\":\"lines\",\"name\":\"mc48\",\"opacity\":0.6,\"showlegend\":false,\"x\":[1,2,3,4,5,6,7,8,9,10,11,12,13,14,15,16,17,18,19,20],\"y\":[336,388,364,367,379,539,473,506,571,510,585,589,589,556,481,566,493,466,460,438],\"type\":\"scatter\"},{\"line\":{\"color\":\"midnightblue\",\"width\":1},\"mode\":\"lines\",\"name\":\"mc49\",\"opacity\":0.6,\"showlegend\":false,\"x\":[1,2,3,4,5,6,7,8,9,10,11,12,13,14,15,16,17,18,19,20],\"y\":[284,331,393,397,396,447,409,401,371,481,426,467,390,415,341,236,305,287,266,322],\"type\":\"scatter\"},{\"line\":{\"color\":\"midnightblue\",\"width\":1},\"mode\":\"lines\",\"name\":\"mc51\",\"opacity\":0.6,\"showlegend\":false,\"x\":[1,2,3,4,5,6,7,8,9,10,11,12,13,14,15,16,17,18,19,20],\"y\":[672,736,676,643,619,692,655,633,530,500,601,812,781,814,774,415,711,739,779,781],\"type\":\"scatter\"},{\"line\":{\"color\":\"midnightblue\",\"width\":1},\"mode\":\"lines\",\"name\":\"mc52\",\"opacity\":0.6,\"showlegend\":false,\"x\":[1,2,3,5,6,7,8,9,10,11,12,13,14,15,16,17,18,19,20],\"y\":[137,112,125,119,123,106,108,101,127,136,130,145,134,120,123,95,121,98,99],\"type\":\"scatter\"},{\"line\":{\"color\":\"midnightblue\",\"width\":1},\"mode\":\"lines\",\"name\":\"mc56\",\"opacity\":0.6,\"showlegend\":false,\"x\":[1,2,3,4,5,6,7,8,9,10,11,12,13,14,15,16,17,18,19,20,21],\"y\":[379,361,359,376,467,493,479,511,501,564,496,459,537,585,562,610,424,508,536,473,425],\"type\":\"scatter\"},{\"line\":{\"color\":\"midnightblue\",\"width\":1},\"mode\":\"lines\",\"name\":\"mc54\",\"opacity\":0.6,\"showlegend\":false,\"x\":[1,2,3,4,5,6,7,8,9,10,11,12,13,14,15,16,17,18,19,20,21],\"y\":[133,124,120,192,139,242,186,258,266,233,312,314,266,272,301,321,176,106,172,162,155],\"type\":\"scatter\"},{\"line\":{\"color\":\"midnightblue\",\"width\":1},\"mode\":\"lines\",\"name\":\"mc55\",\"opacity\":0.6,\"showlegend\":false,\"x\":[1,2,3,5,6,7,8,9,10,11,12,13,14,15,16,17,18,19,20],\"y\":[104,107,119,157,159,174,166,185,185,228,237,207,233,222,221,210,192,167,202],\"type\":\"scatter\"},{\"line\":{\"color\":\"midnightblue\",\"width\":1},\"mode\":\"lines\",\"name\":\"mc58\",\"opacity\":0.6,\"showlegend\":false,\"x\":[1,2,3,4,5,6,7,8,9,10,11,12,13,14,15,16,17,18,19,20,21],\"y\":[89,98,81,140,206,219,219,211,260,270,299,300,345,309,260,290,187,185,180,147,165],\"type\":\"scatter\"},{\"line\":{\"color\":\"midnightblue\",\"width\":1},\"mode\":\"lines\",\"name\":\"mc59\",\"opacity\":0.6,\"showlegend\":false,\"x\":[1,2,3,4,5,6,7,8,9,10,11,12,13,14,15,16,17,18,19,20,21],\"y\":[240,219,222,282,267,330,306,342,357,369,360,381,346,331,334,359,188,215,157,138,137],\"type\":\"scatter\"},{\"line\":{\"color\":\"midnightblue\",\"width\":1},\"mode\":\"lines\",\"name\":\"mc60\",\"opacity\":0.6,\"showlegend\":false,\"x\":[1,2,3,4,5,6,7,8,9,10,11,12,13,14,15,16,17,18,19,20,21],\"y\":[90,87,96,95,111,140,162,144,142,168,206,145,197,212,227,240,115,129,144,112,121],\"type\":\"scatter\"}],                        {\"template\":{\"data\":{\"barpolar\":[{\"marker\":{\"line\":{\"color\":\"white\",\"width\":0.5},\"pattern\":{\"fillmode\":\"overlay\",\"size\":10,\"solidity\":0.2}},\"type\":\"barpolar\"}],\"bar\":[{\"error_x\":{\"color\":\"rgb(36,36,36)\"},\"error_y\":{\"color\":\"rgb(36,36,36)\"},\"marker\":{\"line\":{\"color\":\"white\",\"width\":0.5},\"pattern\":{\"fillmode\":\"overlay\",\"size\":10,\"solidity\":0.2}},\"type\":\"bar\"}],\"carpet\":[{\"aaxis\":{\"endlinecolor\":\"rgb(36,36,36)\",\"gridcolor\":\"white\",\"linecolor\":\"white\",\"minorgridcolor\":\"white\",\"startlinecolor\":\"rgb(36,36,36)\"},\"baxis\":{\"endlinecolor\":\"rgb(36,36,36)\",\"gridcolor\":\"white\",\"linecolor\":\"white\",\"minorgridcolor\":\"white\",\"startlinecolor\":\"rgb(36,36,36)\"},\"type\":\"carpet\"}],\"choropleth\":[{\"colorbar\":{\"outlinewidth\":1,\"tickcolor\":\"rgb(36,36,36)\",\"ticks\":\"outside\"},\"type\":\"choropleth\"}],\"contourcarpet\":[{\"colorbar\":{\"outlinewidth\":1,\"tickcolor\":\"rgb(36,36,36)\",\"ticks\":\"outside\"},\"type\":\"contourcarpet\"}],\"contour\":[{\"colorbar\":{\"outlinewidth\":1,\"tickcolor\":\"rgb(36,36,36)\",\"ticks\":\"outside\"},\"colorscale\":[[0.0,\"#440154\"],[0.1111111111111111,\"#482878\"],[0.2222222222222222,\"#3e4989\"],[0.3333333333333333,\"#31688e\"],[0.4444444444444444,\"#26828e\"],[0.5555555555555556,\"#1f9e89\"],[0.6666666666666666,\"#35b779\"],[0.7777777777777778,\"#6ece58\"],[0.8888888888888888,\"#b5de2b\"],[1.0,\"#fde725\"]],\"type\":\"contour\"}],\"heatmapgl\":[{\"colorbar\":{\"outlinewidth\":1,\"tickcolor\":\"rgb(36,36,36)\",\"ticks\":\"outside\"},\"colorscale\":[[0.0,\"#440154\"],[0.1111111111111111,\"#482878\"],[0.2222222222222222,\"#3e4989\"],[0.3333333333333333,\"#31688e\"],[0.4444444444444444,\"#26828e\"],[0.5555555555555556,\"#1f9e89\"],[0.6666666666666666,\"#35b779\"],[0.7777777777777778,\"#6ece58\"],[0.8888888888888888,\"#b5de2b\"],[1.0,\"#fde725\"]],\"type\":\"heatmapgl\"}],\"heatmap\":[{\"colorbar\":{\"outlinewidth\":1,\"tickcolor\":\"rgb(36,36,36)\",\"ticks\":\"outside\"},\"colorscale\":[[0.0,\"#440154\"],[0.1111111111111111,\"#482878\"],[0.2222222222222222,\"#3e4989\"],[0.3333333333333333,\"#31688e\"],[0.4444444444444444,\"#26828e\"],[0.5555555555555556,\"#1f9e89\"],[0.6666666666666666,\"#35b779\"],[0.7777777777777778,\"#6ece58\"],[0.8888888888888888,\"#b5de2b\"],[1.0,\"#fde725\"]],\"type\":\"heatmap\"}],\"histogram2dcontour\":[{\"colorbar\":{\"outlinewidth\":1,\"tickcolor\":\"rgb(36,36,36)\",\"ticks\":\"outside\"},\"colorscale\":[[0.0,\"#440154\"],[0.1111111111111111,\"#482878\"],[0.2222222222222222,\"#3e4989\"],[0.3333333333333333,\"#31688e\"],[0.4444444444444444,\"#26828e\"],[0.5555555555555556,\"#1f9e89\"],[0.6666666666666666,\"#35b779\"],[0.7777777777777778,\"#6ece58\"],[0.8888888888888888,\"#b5de2b\"],[1.0,\"#fde725\"]],\"type\":\"histogram2dcontour\"}],\"histogram2d\":[{\"colorbar\":{\"outlinewidth\":1,\"tickcolor\":\"rgb(36,36,36)\",\"ticks\":\"outside\"},\"colorscale\":[[0.0,\"#440154\"],[0.1111111111111111,\"#482878\"],[0.2222222222222222,\"#3e4989\"],[0.3333333333333333,\"#31688e\"],[0.4444444444444444,\"#26828e\"],[0.5555555555555556,\"#1f9e89\"],[0.6666666666666666,\"#35b779\"],[0.7777777777777778,\"#6ece58\"],[0.8888888888888888,\"#b5de2b\"],[1.0,\"#fde725\"]],\"type\":\"histogram2d\"}],\"histogram\":[{\"marker\":{\"line\":{\"color\":\"white\",\"width\":0.6}},\"type\":\"histogram\"}],\"mesh3d\":[{\"colorbar\":{\"outlinewidth\":1,\"tickcolor\":\"rgb(36,36,36)\",\"ticks\":\"outside\"},\"type\":\"mesh3d\"}],\"parcoords\":[{\"line\":{\"colorbar\":{\"outlinewidth\":1,\"tickcolor\":\"rgb(36,36,36)\",\"ticks\":\"outside\"}},\"type\":\"parcoords\"}],\"pie\":[{\"automargin\":true,\"type\":\"pie\"}],\"scatter3d\":[{\"line\":{\"colorbar\":{\"outlinewidth\":1,\"tickcolor\":\"rgb(36,36,36)\",\"ticks\":\"outside\"}},\"marker\":{\"colorbar\":{\"outlinewidth\":1,\"tickcolor\":\"rgb(36,36,36)\",\"ticks\":\"outside\"}},\"type\":\"scatter3d\"}],\"scattercarpet\":[{\"marker\":{\"colorbar\":{\"outlinewidth\":1,\"tickcolor\":\"rgb(36,36,36)\",\"ticks\":\"outside\"}},\"type\":\"scattercarpet\"}],\"scattergeo\":[{\"marker\":{\"colorbar\":{\"outlinewidth\":1,\"tickcolor\":\"rgb(36,36,36)\",\"ticks\":\"outside\"}},\"type\":\"scattergeo\"}],\"scattergl\":[{\"marker\":{\"colorbar\":{\"outlinewidth\":1,\"tickcolor\":\"rgb(36,36,36)\",\"ticks\":\"outside\"}},\"type\":\"scattergl\"}],\"scattermapbox\":[{\"marker\":{\"colorbar\":{\"outlinewidth\":1,\"tickcolor\":\"rgb(36,36,36)\",\"ticks\":\"outside\"}},\"type\":\"scattermapbox\"}],\"scatterpolargl\":[{\"marker\":{\"colorbar\":{\"outlinewidth\":1,\"tickcolor\":\"rgb(36,36,36)\",\"ticks\":\"outside\"}},\"type\":\"scatterpolargl\"}],\"scatterpolar\":[{\"marker\":{\"colorbar\":{\"outlinewidth\":1,\"tickcolor\":\"rgb(36,36,36)\",\"ticks\":\"outside\"}},\"type\":\"scatterpolar\"}],\"scatter\":[{\"fillpattern\":{\"fillmode\":\"overlay\",\"size\":10,\"solidity\":0.2},\"type\":\"scatter\"}],\"scatterternary\":[{\"marker\":{\"colorbar\":{\"outlinewidth\":1,\"tickcolor\":\"rgb(36,36,36)\",\"ticks\":\"outside\"}},\"type\":\"scatterternary\"}],\"surface\":[{\"colorbar\":{\"outlinewidth\":1,\"tickcolor\":\"rgb(36,36,36)\",\"ticks\":\"outside\"},\"colorscale\":[[0.0,\"#440154\"],[0.1111111111111111,\"#482878\"],[0.2222222222222222,\"#3e4989\"],[0.3333333333333333,\"#31688e\"],[0.4444444444444444,\"#26828e\"],[0.5555555555555556,\"#1f9e89\"],[0.6666666666666666,\"#35b779\"],[0.7777777777777778,\"#6ece58\"],[0.8888888888888888,\"#b5de2b\"],[1.0,\"#fde725\"]],\"type\":\"surface\"}],\"table\":[{\"cells\":{\"fill\":{\"color\":\"rgb(237,237,237)\"},\"line\":{\"color\":\"white\"}},\"header\":{\"fill\":{\"color\":\"rgb(217,217,217)\"},\"line\":{\"color\":\"white\"}},\"type\":\"table\"}]},\"layout\":{\"annotationdefaults\":{\"arrowhead\":0,\"arrowwidth\":1},\"autotypenumbers\":\"strict\",\"coloraxis\":{\"colorbar\":{\"outlinewidth\":1,\"tickcolor\":\"rgb(36,36,36)\",\"ticks\":\"outside\"}},\"colorscale\":{\"diverging\":[[0.0,\"rgb(103,0,31)\"],[0.1,\"rgb(178,24,43)\"],[0.2,\"rgb(214,96,77)\"],[0.3,\"rgb(244,165,130)\"],[0.4,\"rgb(253,219,199)\"],[0.5,\"rgb(247,247,247)\"],[0.6,\"rgb(209,229,240)\"],[0.7,\"rgb(146,197,222)\"],[0.8,\"rgb(67,147,195)\"],[0.9,\"rgb(33,102,172)\"],[1.0,\"rgb(5,48,97)\"]],\"sequential\":[[0.0,\"#440154\"],[0.1111111111111111,\"#482878\"],[0.2222222222222222,\"#3e4989\"],[0.3333333333333333,\"#31688e\"],[0.4444444444444444,\"#26828e\"],[0.5555555555555556,\"#1f9e89\"],[0.6666666666666666,\"#35b779\"],[0.7777777777777778,\"#6ece58\"],[0.8888888888888888,\"#b5de2b\"],[1.0,\"#fde725\"]],\"sequentialminus\":[[0.0,\"#440154\"],[0.1111111111111111,\"#482878\"],[0.2222222222222222,\"#3e4989\"],[0.3333333333333333,\"#31688e\"],[0.4444444444444444,\"#26828e\"],[0.5555555555555556,\"#1f9e89\"],[0.6666666666666666,\"#35b779\"],[0.7777777777777778,\"#6ece58\"],[0.8888888888888888,\"#b5de2b\"],[1.0,\"#fde725\"]]},\"colorway\":[\"#1F77B4\",\"#FF7F0E\",\"#2CA02C\",\"#D62728\",\"#9467BD\",\"#8C564B\",\"#E377C2\",\"#7F7F7F\",\"#BCBD22\",\"#17BECF\"],\"font\":{\"color\":\"rgb(36,36,36)\"},\"geo\":{\"bgcolor\":\"white\",\"lakecolor\":\"white\",\"landcolor\":\"white\",\"showlakes\":true,\"showland\":true,\"subunitcolor\":\"white\"},\"hoverlabel\":{\"align\":\"left\"},\"hovermode\":\"closest\",\"mapbox\":{\"style\":\"light\"},\"paper_bgcolor\":\"white\",\"plot_bgcolor\":\"white\",\"polar\":{\"angularaxis\":{\"gridcolor\":\"rgb(232,232,232)\",\"linecolor\":\"rgb(36,36,36)\",\"showgrid\":false,\"showline\":true,\"ticks\":\"outside\"},\"bgcolor\":\"white\",\"radialaxis\":{\"gridcolor\":\"rgb(232,232,232)\",\"linecolor\":\"rgb(36,36,36)\",\"showgrid\":false,\"showline\":true,\"ticks\":\"outside\"}},\"scene\":{\"xaxis\":{\"backgroundcolor\":\"white\",\"gridcolor\":\"rgb(232,232,232)\",\"gridwidth\":2,\"linecolor\":\"rgb(36,36,36)\",\"showbackground\":true,\"showgrid\":false,\"showline\":true,\"ticks\":\"outside\",\"zeroline\":false,\"zerolinecolor\":\"rgb(36,36,36)\"},\"yaxis\":{\"backgroundcolor\":\"white\",\"gridcolor\":\"rgb(232,232,232)\",\"gridwidth\":2,\"linecolor\":\"rgb(36,36,36)\",\"showbackground\":true,\"showgrid\":false,\"showline\":true,\"ticks\":\"outside\",\"zeroline\":false,\"zerolinecolor\":\"rgb(36,36,36)\"},\"zaxis\":{\"backgroundcolor\":\"white\",\"gridcolor\":\"rgb(232,232,232)\",\"gridwidth\":2,\"linecolor\":\"rgb(36,36,36)\",\"showbackground\":true,\"showgrid\":false,\"showline\":true,\"ticks\":\"outside\",\"zeroline\":false,\"zerolinecolor\":\"rgb(36,36,36)\"}},\"shapedefaults\":{\"fillcolor\":\"black\",\"line\":{\"width\":0},\"opacity\":0.3},\"ternary\":{\"aaxis\":{\"gridcolor\":\"rgb(232,232,232)\",\"linecolor\":\"rgb(36,36,36)\",\"showgrid\":false,\"showline\":true,\"ticks\":\"outside\"},\"baxis\":{\"gridcolor\":\"rgb(232,232,232)\",\"linecolor\":\"rgb(36,36,36)\",\"showgrid\":false,\"showline\":true,\"ticks\":\"outside\"},\"bgcolor\":\"white\",\"caxis\":{\"gridcolor\":\"rgb(232,232,232)\",\"linecolor\":\"rgb(36,36,36)\",\"showgrid\":false,\"showline\":true,\"ticks\":\"outside\"}},\"title\":{\"x\":0.05},\"xaxis\":{\"automargin\":true,\"gridcolor\":\"rgb(232,232,232)\",\"linecolor\":\"rgb(36,36,36)\",\"showgrid\":false,\"showline\":true,\"ticks\":\"outside\",\"title\":{\"standoff\":15},\"zeroline\":false,\"zerolinecolor\":\"rgb(36,36,36)\"},\"yaxis\":{\"automargin\":true,\"gridcolor\":\"rgb(232,232,232)\",\"linecolor\":\"rgb(36,36,36)\",\"showgrid\":false,\"showline\":true,\"ticks\":\"outside\",\"title\":{\"standoff\":15},\"zeroline\":false,\"zerolinecolor\":\"rgb(36,36,36)\"}}},\"xaxis\":{\"anchor\":\"y\",\"domain\":[0.0,1.0],\"title\":{\"text\":\"Day\"},\"linewidth\":1.5},\"yaxis\":{\"anchor\":\"x\",\"domain\":[0.0,1.0],\"title\":{\"text\":\"Number of Cells\"},\"linewidth\":1.5,\"range\":[0,900]},\"title\":{\"y\":0.9,\"x\":0.5,\"xanchor\":\"center\",\"yanchor\":\"top\"},\"font\":{\"size\":22,\"family\":\"Arial\"},\"height\":500,\"width\":500},                        {\"responsive\": true}                    ).then(function(){\n",
       "                            \n",
       "var gd = document.getElementById('5e0ff8ea-09e3-435f-904a-87b7df8e46a5');\n",
       "var x = new MutationObserver(function (mutations, observer) {{\n",
       "        var display = window.getComputedStyle(gd).display;\n",
       "        if (!display || display === 'none') {{\n",
       "            console.log([gd, 'removed!']);\n",
       "            Plotly.purge(gd);\n",
       "            observer.disconnect();\n",
       "        }}\n",
       "}});\n",
       "\n",
       "// Listen for the removal of the full notebook cells\n",
       "var notebookContainer = gd.closest('#notebook-container');\n",
       "if (notebookContainer) {{\n",
       "    x.observe(notebookContainer, {childList: true});\n",
       "}}\n",
       "\n",
       "// Listen for the clearing of the current output cell\n",
       "var outputEl = gd.closest('.output');\n",
       "if (outputEl) {{\n",
       "    x.observe(outputEl, {childList: true});\n",
       "}}\n",
       "\n",
       "                        })                };                });            </script>        </div>"
      ]
     },
     "metadata": {},
     "output_type": "display_data"
    }
   ],
   "source": [
    "## Plot average number of cells across days\n",
    "avg_cells = cell_df.groupby(['day'], as_index=False).agg({'num_cells': ['mean', 'sem']})\n",
    "avg_cells = avg_cells[avg_cells['day'] < 21]\n",
    "fig = pf.custom_graph_template(x_title='Day', y_title='Number of Cells')\n",
    "fig.add_trace(go.Scatter(x=avg_cells['day'], y=avg_cells['num_cells']['mean'], mode='lines+markers', showlegend=False,\n",
    "                         line_color=avg_color, error_y=dict(type='data', array=avg_cells['num_cells']['sem'])))\n",
    "for mouse in cell_df['mouse'].unique():\n",
    "    mdata = cell_df[cell_df['mouse'] == mouse]\n",
    "    fig.add_trace(go.Scatter(x=mdata['day'], y=mdata['num_cells'], mode='lines', line_color=avg_color,\n",
    "                             opacity=0.6, line_width=1, name=mouse, showlegend=False))\n",
    "fig.update_yaxes(range=[0, 900])\n",
    "fig.show()\n",
    "fig.write_image(pjoin(fig_path, 'number_of_cells.png'))"
   ]
  },
  {
   "cell_type": "code",
   "execution_count": 13,
   "metadata": {},
   "outputs": [
    {
     "data": {
      "application/vnd.plotly.v1+json": {
       "config": {
        "plotlyServerURL": "https://plot.ly"
       },
       "data": [
        {
         "error_y": {
          "array": [
           31.808541829724504,
           37.557955215906,
           46.55659638189488,
           54.87312639170471,
           45.86386861620425,
           52.29255311333643,
           47.373984890912915,
           47.174852057708314,
           46.34130626845414,
           56.17057355353721,
           52.26471084776036,
           55.04765612125956,
           40.06723515958311,
           41.03467368512201,
           37.23886858288438,
           34.40058139043584,
           30.173571953688953,
           28.301256352167677,
           23.16666666666667,
           32.9905710435236
          ],
          "type": "data"
         },
         "line": {
          "color": "#7d7d7d"
         },
         "mode": "lines+markers",
         "name": "Two-Context",
         "type": "scatter",
         "x": [
          1,
          2,
          3,
          4,
          5,
          6,
          7,
          8,
          9,
          10,
          11,
          12,
          13,
          14,
          15,
          16,
          17,
          18,
          19,
          20
         ],
         "y": [
          165.5,
          167,
          178.5,
          218.6,
          197.83333333333334,
          239.33333333333334,
          217.83333333333334,
          239,
          235.5,
          259,
          288,
          275.6666666666667,
          253.5,
          261.3333333333333,
          249,
          247,
          178.66666666666666,
          173.83333333333334,
          172.83333333333334,
          164.66666666666666
         ]
        },
        {
         "error_y": {
          "array": [
           91.6935718091029,
           98.30476986279851,
           89.8909215537241,
           83.83591115983651,
           74.19632365855092,
           91.98348281681399,
           76.71002397195414,
           79.33532910654903,
           78.01448583436284,
           68.94655740338149,
           70.67374178418586,
           90.51902807942895,
           86.72472414356692,
           88.66168532373183,
           86.60934001467612,
           63.17634050813644,
           82.06315318771946,
           87.5272973293348,
           95.39977288582331,
           94.53091792870968
          ],
          "type": "data"
         },
         "line": {
          "color": "#287347"
         },
         "mode": "lines+markers",
         "name": "Multi-Context",
         "type": "scatter",
         "x": [
          1,
          2,
          3,
          4,
          5,
          6,
          7,
          8,
          9,
          10,
          11,
          12,
          13,
          14,
          15,
          16,
          17,
          18,
          19,
          20
         ],
         "y": [
          287.3333333333333,
          313.8333333333333,
          297.6666666666667,
          355.4,
          338.8333333333333,
          378.8333333333333,
          376.8333333333333,
          379.1666666666667,
          409.4,
          373.8333333333333,
          407.6666666666667,
          446.8333333333333,
          461.3333333333333,
          474.1666666666667,
          434.6666666666667,
          406.5,
          382.8333333333333,
          398.8333333333333,
          408.5,
          387.1666666666667
         ]
        }
       ],
       "layout": {
        "font": {
         "family": "Arial",
         "size": 22
        },
        "height": 500,
        "template": {
         "data": {
          "bar": [
           {
            "error_x": {
             "color": "rgb(36,36,36)"
            },
            "error_y": {
             "color": "rgb(36,36,36)"
            },
            "marker": {
             "line": {
              "color": "white",
              "width": 0.5
             },
             "pattern": {
              "fillmode": "overlay",
              "size": 10,
              "solidity": 0.2
             }
            },
            "type": "bar"
           }
          ],
          "barpolar": [
           {
            "marker": {
             "line": {
              "color": "white",
              "width": 0.5
             },
             "pattern": {
              "fillmode": "overlay",
              "size": 10,
              "solidity": 0.2
             }
            },
            "type": "barpolar"
           }
          ],
          "carpet": [
           {
            "aaxis": {
             "endlinecolor": "rgb(36,36,36)",
             "gridcolor": "white",
             "linecolor": "white",
             "minorgridcolor": "white",
             "startlinecolor": "rgb(36,36,36)"
            },
            "baxis": {
             "endlinecolor": "rgb(36,36,36)",
             "gridcolor": "white",
             "linecolor": "white",
             "minorgridcolor": "white",
             "startlinecolor": "rgb(36,36,36)"
            },
            "type": "carpet"
           }
          ],
          "choropleth": [
           {
            "colorbar": {
             "outlinewidth": 1,
             "tickcolor": "rgb(36,36,36)",
             "ticks": "outside"
            },
            "type": "choropleth"
           }
          ],
          "contour": [
           {
            "colorbar": {
             "outlinewidth": 1,
             "tickcolor": "rgb(36,36,36)",
             "ticks": "outside"
            },
            "colorscale": [
             [
              0,
              "#440154"
             ],
             [
              0.1111111111111111,
              "#482878"
             ],
             [
              0.2222222222222222,
              "#3e4989"
             ],
             [
              0.3333333333333333,
              "#31688e"
             ],
             [
              0.4444444444444444,
              "#26828e"
             ],
             [
              0.5555555555555556,
              "#1f9e89"
             ],
             [
              0.6666666666666666,
              "#35b779"
             ],
             [
              0.7777777777777778,
              "#6ece58"
             ],
             [
              0.8888888888888888,
              "#b5de2b"
             ],
             [
              1,
              "#fde725"
             ]
            ],
            "type": "contour"
           }
          ],
          "contourcarpet": [
           {
            "colorbar": {
             "outlinewidth": 1,
             "tickcolor": "rgb(36,36,36)",
             "ticks": "outside"
            },
            "type": "contourcarpet"
           }
          ],
          "heatmap": [
           {
            "colorbar": {
             "outlinewidth": 1,
             "tickcolor": "rgb(36,36,36)",
             "ticks": "outside"
            },
            "colorscale": [
             [
              0,
              "#440154"
             ],
             [
              0.1111111111111111,
              "#482878"
             ],
             [
              0.2222222222222222,
              "#3e4989"
             ],
             [
              0.3333333333333333,
              "#31688e"
             ],
             [
              0.4444444444444444,
              "#26828e"
             ],
             [
              0.5555555555555556,
              "#1f9e89"
             ],
             [
              0.6666666666666666,
              "#35b779"
             ],
             [
              0.7777777777777778,
              "#6ece58"
             ],
             [
              0.8888888888888888,
              "#b5de2b"
             ],
             [
              1,
              "#fde725"
             ]
            ],
            "type": "heatmap"
           }
          ],
          "heatmapgl": [
           {
            "colorbar": {
             "outlinewidth": 1,
             "tickcolor": "rgb(36,36,36)",
             "ticks": "outside"
            },
            "colorscale": [
             [
              0,
              "#440154"
             ],
             [
              0.1111111111111111,
              "#482878"
             ],
             [
              0.2222222222222222,
              "#3e4989"
             ],
             [
              0.3333333333333333,
              "#31688e"
             ],
             [
              0.4444444444444444,
              "#26828e"
             ],
             [
              0.5555555555555556,
              "#1f9e89"
             ],
             [
              0.6666666666666666,
              "#35b779"
             ],
             [
              0.7777777777777778,
              "#6ece58"
             ],
             [
              0.8888888888888888,
              "#b5de2b"
             ],
             [
              1,
              "#fde725"
             ]
            ],
            "type": "heatmapgl"
           }
          ],
          "histogram": [
           {
            "marker": {
             "line": {
              "color": "white",
              "width": 0.6
             }
            },
            "type": "histogram"
           }
          ],
          "histogram2d": [
           {
            "colorbar": {
             "outlinewidth": 1,
             "tickcolor": "rgb(36,36,36)",
             "ticks": "outside"
            },
            "colorscale": [
             [
              0,
              "#440154"
             ],
             [
              0.1111111111111111,
              "#482878"
             ],
             [
              0.2222222222222222,
              "#3e4989"
             ],
             [
              0.3333333333333333,
              "#31688e"
             ],
             [
              0.4444444444444444,
              "#26828e"
             ],
             [
              0.5555555555555556,
              "#1f9e89"
             ],
             [
              0.6666666666666666,
              "#35b779"
             ],
             [
              0.7777777777777778,
              "#6ece58"
             ],
             [
              0.8888888888888888,
              "#b5de2b"
             ],
             [
              1,
              "#fde725"
             ]
            ],
            "type": "histogram2d"
           }
          ],
          "histogram2dcontour": [
           {
            "colorbar": {
             "outlinewidth": 1,
             "tickcolor": "rgb(36,36,36)",
             "ticks": "outside"
            },
            "colorscale": [
             [
              0,
              "#440154"
             ],
             [
              0.1111111111111111,
              "#482878"
             ],
             [
              0.2222222222222222,
              "#3e4989"
             ],
             [
              0.3333333333333333,
              "#31688e"
             ],
             [
              0.4444444444444444,
              "#26828e"
             ],
             [
              0.5555555555555556,
              "#1f9e89"
             ],
             [
              0.6666666666666666,
              "#35b779"
             ],
             [
              0.7777777777777778,
              "#6ece58"
             ],
             [
              0.8888888888888888,
              "#b5de2b"
             ],
             [
              1,
              "#fde725"
             ]
            ],
            "type": "histogram2dcontour"
           }
          ],
          "mesh3d": [
           {
            "colorbar": {
             "outlinewidth": 1,
             "tickcolor": "rgb(36,36,36)",
             "ticks": "outside"
            },
            "type": "mesh3d"
           }
          ],
          "parcoords": [
           {
            "line": {
             "colorbar": {
              "outlinewidth": 1,
              "tickcolor": "rgb(36,36,36)",
              "ticks": "outside"
             }
            },
            "type": "parcoords"
           }
          ],
          "pie": [
           {
            "automargin": true,
            "type": "pie"
           }
          ],
          "scatter": [
           {
            "fillpattern": {
             "fillmode": "overlay",
             "size": 10,
             "solidity": 0.2
            },
            "type": "scatter"
           }
          ],
          "scatter3d": [
           {
            "line": {
             "colorbar": {
              "outlinewidth": 1,
              "tickcolor": "rgb(36,36,36)",
              "ticks": "outside"
             }
            },
            "marker": {
             "colorbar": {
              "outlinewidth": 1,
              "tickcolor": "rgb(36,36,36)",
              "ticks": "outside"
             }
            },
            "type": "scatter3d"
           }
          ],
          "scattercarpet": [
           {
            "marker": {
             "colorbar": {
              "outlinewidth": 1,
              "tickcolor": "rgb(36,36,36)",
              "ticks": "outside"
             }
            },
            "type": "scattercarpet"
           }
          ],
          "scattergeo": [
           {
            "marker": {
             "colorbar": {
              "outlinewidth": 1,
              "tickcolor": "rgb(36,36,36)",
              "ticks": "outside"
             }
            },
            "type": "scattergeo"
           }
          ],
          "scattergl": [
           {
            "marker": {
             "colorbar": {
              "outlinewidth": 1,
              "tickcolor": "rgb(36,36,36)",
              "ticks": "outside"
             }
            },
            "type": "scattergl"
           }
          ],
          "scattermapbox": [
           {
            "marker": {
             "colorbar": {
              "outlinewidth": 1,
              "tickcolor": "rgb(36,36,36)",
              "ticks": "outside"
             }
            },
            "type": "scattermapbox"
           }
          ],
          "scatterpolar": [
           {
            "marker": {
             "colorbar": {
              "outlinewidth": 1,
              "tickcolor": "rgb(36,36,36)",
              "ticks": "outside"
             }
            },
            "type": "scatterpolar"
           }
          ],
          "scatterpolargl": [
           {
            "marker": {
             "colorbar": {
              "outlinewidth": 1,
              "tickcolor": "rgb(36,36,36)",
              "ticks": "outside"
             }
            },
            "type": "scatterpolargl"
           }
          ],
          "scatterternary": [
           {
            "marker": {
             "colorbar": {
              "outlinewidth": 1,
              "tickcolor": "rgb(36,36,36)",
              "ticks": "outside"
             }
            },
            "type": "scatterternary"
           }
          ],
          "surface": [
           {
            "colorbar": {
             "outlinewidth": 1,
             "tickcolor": "rgb(36,36,36)",
             "ticks": "outside"
            },
            "colorscale": [
             [
              0,
              "#440154"
             ],
             [
              0.1111111111111111,
              "#482878"
             ],
             [
              0.2222222222222222,
              "#3e4989"
             ],
             [
              0.3333333333333333,
              "#31688e"
             ],
             [
              0.4444444444444444,
              "#26828e"
             ],
             [
              0.5555555555555556,
              "#1f9e89"
             ],
             [
              0.6666666666666666,
              "#35b779"
             ],
             [
              0.7777777777777778,
              "#6ece58"
             ],
             [
              0.8888888888888888,
              "#b5de2b"
             ],
             [
              1,
              "#fde725"
             ]
            ],
            "type": "surface"
           }
          ],
          "table": [
           {
            "cells": {
             "fill": {
              "color": "rgb(237,237,237)"
             },
             "line": {
              "color": "white"
             }
            },
            "header": {
             "fill": {
              "color": "rgb(217,217,217)"
             },
             "line": {
              "color": "white"
             }
            },
            "type": "table"
           }
          ]
         },
         "layout": {
          "annotationdefaults": {
           "arrowhead": 0,
           "arrowwidth": 1
          },
          "autotypenumbers": "strict",
          "coloraxis": {
           "colorbar": {
            "outlinewidth": 1,
            "tickcolor": "rgb(36,36,36)",
            "ticks": "outside"
           }
          },
          "colorscale": {
           "diverging": [
            [
             0,
             "rgb(103,0,31)"
            ],
            [
             0.1,
             "rgb(178,24,43)"
            ],
            [
             0.2,
             "rgb(214,96,77)"
            ],
            [
             0.3,
             "rgb(244,165,130)"
            ],
            [
             0.4,
             "rgb(253,219,199)"
            ],
            [
             0.5,
             "rgb(247,247,247)"
            ],
            [
             0.6,
             "rgb(209,229,240)"
            ],
            [
             0.7,
             "rgb(146,197,222)"
            ],
            [
             0.8,
             "rgb(67,147,195)"
            ],
            [
             0.9,
             "rgb(33,102,172)"
            ],
            [
             1,
             "rgb(5,48,97)"
            ]
           ],
           "sequential": [
            [
             0,
             "#440154"
            ],
            [
             0.1111111111111111,
             "#482878"
            ],
            [
             0.2222222222222222,
             "#3e4989"
            ],
            [
             0.3333333333333333,
             "#31688e"
            ],
            [
             0.4444444444444444,
             "#26828e"
            ],
            [
             0.5555555555555556,
             "#1f9e89"
            ],
            [
             0.6666666666666666,
             "#35b779"
            ],
            [
             0.7777777777777778,
             "#6ece58"
            ],
            [
             0.8888888888888888,
             "#b5de2b"
            ],
            [
             1,
             "#fde725"
            ]
           ],
           "sequentialminus": [
            [
             0,
             "#440154"
            ],
            [
             0.1111111111111111,
             "#482878"
            ],
            [
             0.2222222222222222,
             "#3e4989"
            ],
            [
             0.3333333333333333,
             "#31688e"
            ],
            [
             0.4444444444444444,
             "#26828e"
            ],
            [
             0.5555555555555556,
             "#1f9e89"
            ],
            [
             0.6666666666666666,
             "#35b779"
            ],
            [
             0.7777777777777778,
             "#6ece58"
            ],
            [
             0.8888888888888888,
             "#b5de2b"
            ],
            [
             1,
             "#fde725"
            ]
           ]
          },
          "colorway": [
           "#1F77B4",
           "#FF7F0E",
           "#2CA02C",
           "#D62728",
           "#9467BD",
           "#8C564B",
           "#E377C2",
           "#7F7F7F",
           "#BCBD22",
           "#17BECF"
          ],
          "font": {
           "color": "rgb(36,36,36)"
          },
          "geo": {
           "bgcolor": "white",
           "lakecolor": "white",
           "landcolor": "white",
           "showlakes": true,
           "showland": true,
           "subunitcolor": "white"
          },
          "hoverlabel": {
           "align": "left"
          },
          "hovermode": "closest",
          "mapbox": {
           "style": "light"
          },
          "paper_bgcolor": "white",
          "plot_bgcolor": "white",
          "polar": {
           "angularaxis": {
            "gridcolor": "rgb(232,232,232)",
            "linecolor": "rgb(36,36,36)",
            "showgrid": false,
            "showline": true,
            "ticks": "outside"
           },
           "bgcolor": "white",
           "radialaxis": {
            "gridcolor": "rgb(232,232,232)",
            "linecolor": "rgb(36,36,36)",
            "showgrid": false,
            "showline": true,
            "ticks": "outside"
           }
          },
          "scene": {
           "xaxis": {
            "backgroundcolor": "white",
            "gridcolor": "rgb(232,232,232)",
            "gridwidth": 2,
            "linecolor": "rgb(36,36,36)",
            "showbackground": true,
            "showgrid": false,
            "showline": true,
            "ticks": "outside",
            "zeroline": false,
            "zerolinecolor": "rgb(36,36,36)"
           },
           "yaxis": {
            "backgroundcolor": "white",
            "gridcolor": "rgb(232,232,232)",
            "gridwidth": 2,
            "linecolor": "rgb(36,36,36)",
            "showbackground": true,
            "showgrid": false,
            "showline": true,
            "ticks": "outside",
            "zeroline": false,
            "zerolinecolor": "rgb(36,36,36)"
           },
           "zaxis": {
            "backgroundcolor": "white",
            "gridcolor": "rgb(232,232,232)",
            "gridwidth": 2,
            "linecolor": "rgb(36,36,36)",
            "showbackground": true,
            "showgrid": false,
            "showline": true,
            "ticks": "outside",
            "zeroline": false,
            "zerolinecolor": "rgb(36,36,36)"
           }
          },
          "shapedefaults": {
           "fillcolor": "black",
           "line": {
            "width": 0
           },
           "opacity": 0.3
          },
          "ternary": {
           "aaxis": {
            "gridcolor": "rgb(232,232,232)",
            "linecolor": "rgb(36,36,36)",
            "showgrid": false,
            "showline": true,
            "ticks": "outside"
           },
           "baxis": {
            "gridcolor": "rgb(232,232,232)",
            "linecolor": "rgb(36,36,36)",
            "showgrid": false,
            "showline": true,
            "ticks": "outside"
           },
           "bgcolor": "white",
           "caxis": {
            "gridcolor": "rgb(232,232,232)",
            "linecolor": "rgb(36,36,36)",
            "showgrid": false,
            "showline": true,
            "ticks": "outside"
           }
          },
          "title": {
           "x": 0.05
          },
          "xaxis": {
           "automargin": true,
           "gridcolor": "rgb(232,232,232)",
           "linecolor": "rgb(36,36,36)",
           "showgrid": false,
           "showline": true,
           "ticks": "outside",
           "title": {
            "standoff": 15
           },
           "zeroline": false,
           "zerolinecolor": "rgb(36,36,36)"
          },
          "yaxis": {
           "automargin": true,
           "gridcolor": "rgb(232,232,232)",
           "linecolor": "rgb(36,36,36)",
           "showgrid": false,
           "showline": true,
           "ticks": "outside",
           "title": {
            "standoff": 15
           },
           "zeroline": false,
           "zerolinecolor": "rgb(36,36,36)"
          }
         }
        },
        "title": {
         "x": 0.5,
         "xanchor": "center",
         "y": 0.9,
         "yanchor": "top"
        },
        "width": 600,
        "xaxis": {
         "anchor": "y",
         "domain": [
          0,
          1
         ],
         "linewidth": 1.5,
         "title": {
          "text": "Day"
         }
        },
        "yaxis": {
         "anchor": "x",
         "domain": [
          0,
          1
         ],
         "linewidth": 1.5,
         "range": [
          0,
          900
         ],
         "title": {
          "text": "Number of Cells"
         }
        }
       }
      },
      "text/html": [
       "<div>                            <div id=\"a7c734be-7b70-4d99-86e1-e3731bbbd80b\" class=\"plotly-graph-div\" style=\"height:500px; width:600px;\"></div>            <script type=\"text/javascript\">                require([\"plotly\"], function(Plotly) {                    window.PLOTLYENV=window.PLOTLYENV || {};                                    if (document.getElementById(\"a7c734be-7b70-4d99-86e1-e3731bbbd80b\")) {                    Plotly.newPlot(                        \"a7c734be-7b70-4d99-86e1-e3731bbbd80b\",                        [{\"error_y\":{\"array\":[31.808541829724504,37.557955215906,46.55659638189488,54.87312639170471,45.86386861620425,52.29255311333643,47.373984890912915,47.174852057708314,46.34130626845414,56.17057355353721,52.26471084776036,55.04765612125956,40.06723515958311,41.03467368512201,37.23886858288438,34.40058139043584,30.173571953688953,28.301256352167677,23.16666666666667,32.9905710435236],\"type\":\"data\"},\"line\":{\"color\":\"#7d7d7d\"},\"mode\":\"lines+markers\",\"name\":\"Two-Context\",\"x\":[1,2,3,4,5,6,7,8,9,10,11,12,13,14,15,16,17,18,19,20],\"y\":[165.5,167.0,178.5,218.6,197.83333333333334,239.33333333333334,217.83333333333334,239.0,235.5,259.0,288.0,275.6666666666667,253.5,261.3333333333333,249.0,247.0,178.66666666666666,173.83333333333334,172.83333333333334,164.66666666666666],\"type\":\"scatter\"},{\"error_y\":{\"array\":[91.6935718091029,98.30476986279851,89.8909215537241,83.83591115983651,74.19632365855092,91.98348281681399,76.71002397195414,79.33532910654903,78.01448583436284,68.94655740338149,70.67374178418586,90.51902807942895,86.72472414356692,88.66168532373183,86.60934001467612,63.17634050813644,82.06315318771946,87.5272973293348,95.39977288582331,94.53091792870968],\"type\":\"data\"},\"line\":{\"color\":\"#287347\"},\"mode\":\"lines+markers\",\"name\":\"Multi-Context\",\"x\":[1,2,3,4,5,6,7,8,9,10,11,12,13,14,15,16,17,18,19,20],\"y\":[287.3333333333333,313.8333333333333,297.6666666666667,355.4,338.8333333333333,378.8333333333333,376.8333333333333,379.1666666666667,409.4,373.8333333333333,407.6666666666667,446.8333333333333,461.3333333333333,474.1666666666667,434.6666666666667,406.5,382.8333333333333,398.8333333333333,408.5,387.1666666666667],\"type\":\"scatter\"}],                        {\"template\":{\"data\":{\"barpolar\":[{\"marker\":{\"line\":{\"color\":\"white\",\"width\":0.5},\"pattern\":{\"fillmode\":\"overlay\",\"size\":10,\"solidity\":0.2}},\"type\":\"barpolar\"}],\"bar\":[{\"error_x\":{\"color\":\"rgb(36,36,36)\"},\"error_y\":{\"color\":\"rgb(36,36,36)\"},\"marker\":{\"line\":{\"color\":\"white\",\"width\":0.5},\"pattern\":{\"fillmode\":\"overlay\",\"size\":10,\"solidity\":0.2}},\"type\":\"bar\"}],\"carpet\":[{\"aaxis\":{\"endlinecolor\":\"rgb(36,36,36)\",\"gridcolor\":\"white\",\"linecolor\":\"white\",\"minorgridcolor\":\"white\",\"startlinecolor\":\"rgb(36,36,36)\"},\"baxis\":{\"endlinecolor\":\"rgb(36,36,36)\",\"gridcolor\":\"white\",\"linecolor\":\"white\",\"minorgridcolor\":\"white\",\"startlinecolor\":\"rgb(36,36,36)\"},\"type\":\"carpet\"}],\"choropleth\":[{\"colorbar\":{\"outlinewidth\":1,\"tickcolor\":\"rgb(36,36,36)\",\"ticks\":\"outside\"},\"type\":\"choropleth\"}],\"contourcarpet\":[{\"colorbar\":{\"outlinewidth\":1,\"tickcolor\":\"rgb(36,36,36)\",\"ticks\":\"outside\"},\"type\":\"contourcarpet\"}],\"contour\":[{\"colorbar\":{\"outlinewidth\":1,\"tickcolor\":\"rgb(36,36,36)\",\"ticks\":\"outside\"},\"colorscale\":[[0.0,\"#440154\"],[0.1111111111111111,\"#482878\"],[0.2222222222222222,\"#3e4989\"],[0.3333333333333333,\"#31688e\"],[0.4444444444444444,\"#26828e\"],[0.5555555555555556,\"#1f9e89\"],[0.6666666666666666,\"#35b779\"],[0.7777777777777778,\"#6ece58\"],[0.8888888888888888,\"#b5de2b\"],[1.0,\"#fde725\"]],\"type\":\"contour\"}],\"heatmapgl\":[{\"colorbar\":{\"outlinewidth\":1,\"tickcolor\":\"rgb(36,36,36)\",\"ticks\":\"outside\"},\"colorscale\":[[0.0,\"#440154\"],[0.1111111111111111,\"#482878\"],[0.2222222222222222,\"#3e4989\"],[0.3333333333333333,\"#31688e\"],[0.4444444444444444,\"#26828e\"],[0.5555555555555556,\"#1f9e89\"],[0.6666666666666666,\"#35b779\"],[0.7777777777777778,\"#6ece58\"],[0.8888888888888888,\"#b5de2b\"],[1.0,\"#fde725\"]],\"type\":\"heatmapgl\"}],\"heatmap\":[{\"colorbar\":{\"outlinewidth\":1,\"tickcolor\":\"rgb(36,36,36)\",\"ticks\":\"outside\"},\"colorscale\":[[0.0,\"#440154\"],[0.1111111111111111,\"#482878\"],[0.2222222222222222,\"#3e4989\"],[0.3333333333333333,\"#31688e\"],[0.4444444444444444,\"#26828e\"],[0.5555555555555556,\"#1f9e89\"],[0.6666666666666666,\"#35b779\"],[0.7777777777777778,\"#6ece58\"],[0.8888888888888888,\"#b5de2b\"],[1.0,\"#fde725\"]],\"type\":\"heatmap\"}],\"histogram2dcontour\":[{\"colorbar\":{\"outlinewidth\":1,\"tickcolor\":\"rgb(36,36,36)\",\"ticks\":\"outside\"},\"colorscale\":[[0.0,\"#440154\"],[0.1111111111111111,\"#482878\"],[0.2222222222222222,\"#3e4989\"],[0.3333333333333333,\"#31688e\"],[0.4444444444444444,\"#26828e\"],[0.5555555555555556,\"#1f9e89\"],[0.6666666666666666,\"#35b779\"],[0.7777777777777778,\"#6ece58\"],[0.8888888888888888,\"#b5de2b\"],[1.0,\"#fde725\"]],\"type\":\"histogram2dcontour\"}],\"histogram2d\":[{\"colorbar\":{\"outlinewidth\":1,\"tickcolor\":\"rgb(36,36,36)\",\"ticks\":\"outside\"},\"colorscale\":[[0.0,\"#440154\"],[0.1111111111111111,\"#482878\"],[0.2222222222222222,\"#3e4989\"],[0.3333333333333333,\"#31688e\"],[0.4444444444444444,\"#26828e\"],[0.5555555555555556,\"#1f9e89\"],[0.6666666666666666,\"#35b779\"],[0.7777777777777778,\"#6ece58\"],[0.8888888888888888,\"#b5de2b\"],[1.0,\"#fde725\"]],\"type\":\"histogram2d\"}],\"histogram\":[{\"marker\":{\"line\":{\"color\":\"white\",\"width\":0.6}},\"type\":\"histogram\"}],\"mesh3d\":[{\"colorbar\":{\"outlinewidth\":1,\"tickcolor\":\"rgb(36,36,36)\",\"ticks\":\"outside\"},\"type\":\"mesh3d\"}],\"parcoords\":[{\"line\":{\"colorbar\":{\"outlinewidth\":1,\"tickcolor\":\"rgb(36,36,36)\",\"ticks\":\"outside\"}},\"type\":\"parcoords\"}],\"pie\":[{\"automargin\":true,\"type\":\"pie\"}],\"scatter3d\":[{\"line\":{\"colorbar\":{\"outlinewidth\":1,\"tickcolor\":\"rgb(36,36,36)\",\"ticks\":\"outside\"}},\"marker\":{\"colorbar\":{\"outlinewidth\":1,\"tickcolor\":\"rgb(36,36,36)\",\"ticks\":\"outside\"}},\"type\":\"scatter3d\"}],\"scattercarpet\":[{\"marker\":{\"colorbar\":{\"outlinewidth\":1,\"tickcolor\":\"rgb(36,36,36)\",\"ticks\":\"outside\"}},\"type\":\"scattercarpet\"}],\"scattergeo\":[{\"marker\":{\"colorbar\":{\"outlinewidth\":1,\"tickcolor\":\"rgb(36,36,36)\",\"ticks\":\"outside\"}},\"type\":\"scattergeo\"}],\"scattergl\":[{\"marker\":{\"colorbar\":{\"outlinewidth\":1,\"tickcolor\":\"rgb(36,36,36)\",\"ticks\":\"outside\"}},\"type\":\"scattergl\"}],\"scattermapbox\":[{\"marker\":{\"colorbar\":{\"outlinewidth\":1,\"tickcolor\":\"rgb(36,36,36)\",\"ticks\":\"outside\"}},\"type\":\"scattermapbox\"}],\"scatterpolargl\":[{\"marker\":{\"colorbar\":{\"outlinewidth\":1,\"tickcolor\":\"rgb(36,36,36)\",\"ticks\":\"outside\"}},\"type\":\"scatterpolargl\"}],\"scatterpolar\":[{\"marker\":{\"colorbar\":{\"outlinewidth\":1,\"tickcolor\":\"rgb(36,36,36)\",\"ticks\":\"outside\"}},\"type\":\"scatterpolar\"}],\"scatter\":[{\"fillpattern\":{\"fillmode\":\"overlay\",\"size\":10,\"solidity\":0.2},\"type\":\"scatter\"}],\"scatterternary\":[{\"marker\":{\"colorbar\":{\"outlinewidth\":1,\"tickcolor\":\"rgb(36,36,36)\",\"ticks\":\"outside\"}},\"type\":\"scatterternary\"}],\"surface\":[{\"colorbar\":{\"outlinewidth\":1,\"tickcolor\":\"rgb(36,36,36)\",\"ticks\":\"outside\"},\"colorscale\":[[0.0,\"#440154\"],[0.1111111111111111,\"#482878\"],[0.2222222222222222,\"#3e4989\"],[0.3333333333333333,\"#31688e\"],[0.4444444444444444,\"#26828e\"],[0.5555555555555556,\"#1f9e89\"],[0.6666666666666666,\"#35b779\"],[0.7777777777777778,\"#6ece58\"],[0.8888888888888888,\"#b5de2b\"],[1.0,\"#fde725\"]],\"type\":\"surface\"}],\"table\":[{\"cells\":{\"fill\":{\"color\":\"rgb(237,237,237)\"},\"line\":{\"color\":\"white\"}},\"header\":{\"fill\":{\"color\":\"rgb(217,217,217)\"},\"line\":{\"color\":\"white\"}},\"type\":\"table\"}]},\"layout\":{\"annotationdefaults\":{\"arrowhead\":0,\"arrowwidth\":1},\"autotypenumbers\":\"strict\",\"coloraxis\":{\"colorbar\":{\"outlinewidth\":1,\"tickcolor\":\"rgb(36,36,36)\",\"ticks\":\"outside\"}},\"colorscale\":{\"diverging\":[[0.0,\"rgb(103,0,31)\"],[0.1,\"rgb(178,24,43)\"],[0.2,\"rgb(214,96,77)\"],[0.3,\"rgb(244,165,130)\"],[0.4,\"rgb(253,219,199)\"],[0.5,\"rgb(247,247,247)\"],[0.6,\"rgb(209,229,240)\"],[0.7,\"rgb(146,197,222)\"],[0.8,\"rgb(67,147,195)\"],[0.9,\"rgb(33,102,172)\"],[1.0,\"rgb(5,48,97)\"]],\"sequential\":[[0.0,\"#440154\"],[0.1111111111111111,\"#482878\"],[0.2222222222222222,\"#3e4989\"],[0.3333333333333333,\"#31688e\"],[0.4444444444444444,\"#26828e\"],[0.5555555555555556,\"#1f9e89\"],[0.6666666666666666,\"#35b779\"],[0.7777777777777778,\"#6ece58\"],[0.8888888888888888,\"#b5de2b\"],[1.0,\"#fde725\"]],\"sequentialminus\":[[0.0,\"#440154\"],[0.1111111111111111,\"#482878\"],[0.2222222222222222,\"#3e4989\"],[0.3333333333333333,\"#31688e\"],[0.4444444444444444,\"#26828e\"],[0.5555555555555556,\"#1f9e89\"],[0.6666666666666666,\"#35b779\"],[0.7777777777777778,\"#6ece58\"],[0.8888888888888888,\"#b5de2b\"],[1.0,\"#fde725\"]]},\"colorway\":[\"#1F77B4\",\"#FF7F0E\",\"#2CA02C\",\"#D62728\",\"#9467BD\",\"#8C564B\",\"#E377C2\",\"#7F7F7F\",\"#BCBD22\",\"#17BECF\"],\"font\":{\"color\":\"rgb(36,36,36)\"},\"geo\":{\"bgcolor\":\"white\",\"lakecolor\":\"white\",\"landcolor\":\"white\",\"showlakes\":true,\"showland\":true,\"subunitcolor\":\"white\"},\"hoverlabel\":{\"align\":\"left\"},\"hovermode\":\"closest\",\"mapbox\":{\"style\":\"light\"},\"paper_bgcolor\":\"white\",\"plot_bgcolor\":\"white\",\"polar\":{\"angularaxis\":{\"gridcolor\":\"rgb(232,232,232)\",\"linecolor\":\"rgb(36,36,36)\",\"showgrid\":false,\"showline\":true,\"ticks\":\"outside\"},\"bgcolor\":\"white\",\"radialaxis\":{\"gridcolor\":\"rgb(232,232,232)\",\"linecolor\":\"rgb(36,36,36)\",\"showgrid\":false,\"showline\":true,\"ticks\":\"outside\"}},\"scene\":{\"xaxis\":{\"backgroundcolor\":\"white\",\"gridcolor\":\"rgb(232,232,232)\",\"gridwidth\":2,\"linecolor\":\"rgb(36,36,36)\",\"showbackground\":true,\"showgrid\":false,\"showline\":true,\"ticks\":\"outside\",\"zeroline\":false,\"zerolinecolor\":\"rgb(36,36,36)\"},\"yaxis\":{\"backgroundcolor\":\"white\",\"gridcolor\":\"rgb(232,232,232)\",\"gridwidth\":2,\"linecolor\":\"rgb(36,36,36)\",\"showbackground\":true,\"showgrid\":false,\"showline\":true,\"ticks\":\"outside\",\"zeroline\":false,\"zerolinecolor\":\"rgb(36,36,36)\"},\"zaxis\":{\"backgroundcolor\":\"white\",\"gridcolor\":\"rgb(232,232,232)\",\"gridwidth\":2,\"linecolor\":\"rgb(36,36,36)\",\"showbackground\":true,\"showgrid\":false,\"showline\":true,\"ticks\":\"outside\",\"zeroline\":false,\"zerolinecolor\":\"rgb(36,36,36)\"}},\"shapedefaults\":{\"fillcolor\":\"black\",\"line\":{\"width\":0},\"opacity\":0.3},\"ternary\":{\"aaxis\":{\"gridcolor\":\"rgb(232,232,232)\",\"linecolor\":\"rgb(36,36,36)\",\"showgrid\":false,\"showline\":true,\"ticks\":\"outside\"},\"baxis\":{\"gridcolor\":\"rgb(232,232,232)\",\"linecolor\":\"rgb(36,36,36)\",\"showgrid\":false,\"showline\":true,\"ticks\":\"outside\"},\"bgcolor\":\"white\",\"caxis\":{\"gridcolor\":\"rgb(232,232,232)\",\"linecolor\":\"rgb(36,36,36)\",\"showgrid\":false,\"showline\":true,\"ticks\":\"outside\"}},\"title\":{\"x\":0.05},\"xaxis\":{\"automargin\":true,\"gridcolor\":\"rgb(232,232,232)\",\"linecolor\":\"rgb(36,36,36)\",\"showgrid\":false,\"showline\":true,\"ticks\":\"outside\",\"title\":{\"standoff\":15},\"zeroline\":false,\"zerolinecolor\":\"rgb(36,36,36)\"},\"yaxis\":{\"automargin\":true,\"gridcolor\":\"rgb(232,232,232)\",\"linecolor\":\"rgb(36,36,36)\",\"showgrid\":false,\"showline\":true,\"ticks\":\"outside\",\"title\":{\"standoff\":15},\"zeroline\":false,\"zerolinecolor\":\"rgb(36,36,36)\"}}},\"xaxis\":{\"anchor\":\"y\",\"domain\":[0.0,1.0],\"title\":{\"text\":\"Day\"},\"linewidth\":1.5},\"yaxis\":{\"anchor\":\"x\",\"domain\":[0.0,1.0],\"title\":{\"text\":\"Number of Cells\"},\"linewidth\":1.5,\"range\":[0,900]},\"title\":{\"y\":0.9,\"x\":0.5,\"xanchor\":\"center\",\"yanchor\":\"top\"},\"font\":{\"size\":22,\"family\":\"Arial\"},\"height\":500,\"width\":600},                        {\"responsive\": true}                    ).then(function(){\n",
       "                            \n",
       "var gd = document.getElementById('a7c734be-7b70-4d99-86e1-e3731bbbd80b');\n",
       "var x = new MutationObserver(function (mutations, observer) {{\n",
       "        var display = window.getComputedStyle(gd).display;\n",
       "        if (!display || display === 'none') {{\n",
       "            console.log([gd, 'removed!']);\n",
       "            Plotly.purge(gd);\n",
       "            observer.disconnect();\n",
       "        }}\n",
       "}});\n",
       "\n",
       "// Listen for the removal of the full notebook cells\n",
       "var notebookContainer = gd.closest('#notebook-container');\n",
       "if (notebookContainer) {{\n",
       "    x.observe(notebookContainer, {childList: true});\n",
       "}}\n",
       "\n",
       "// Listen for the clearing of the current output cell\n",
       "var outputEl = gd.closest('.output');\n",
       "if (outputEl) {{\n",
       "    x.observe(outputEl, {childList: true});\n",
       "}}\n",
       "\n",
       "                        })                };                });            </script>        </div>"
      ]
     },
     "metadata": {},
     "output_type": "display_data"
    },
    {
     "name": "stderr",
     "output_type": "stream",
     "text": [
      "/home/austinbaggetta/.conda/envs/calcium/lib/python3.10/site-packages/pingouin/parametric.py:551: FutureWarning:\n",
      "\n",
      "Not prepending group keys to the result index of transform-like apply. In the future, the group keys will be included in the index, regardless of whether the applied function returns a like-indexed object.\n",
      "To preserve the previous behavior, use\n",
      "\n",
      "\t>>> .groupby(..., group_keys=False)\n",
      "\n",
      "To adopt the future behavior and silence this warning, use \n",
      "\n",
      "\t>>> .groupby(..., group_keys=True)\n",
      "\n",
      "/home/austinbaggetta/.conda/envs/calcium/lib/python3.10/site-packages/pingouin/parametric.py:992: FutureWarning:\n",
      "\n",
      "Not prepending group keys to the result index of transform-like apply. In the future, the group keys will be included in the index, regardless of whether the applied function returns a like-indexed object.\n",
      "To preserve the previous behavior, use\n",
      "\n",
      "\t>>> .groupby(..., group_keys=False)\n",
      "\n",
      "To adopt the future behavior and silence this warning, use \n",
      "\n",
      "\t>>> .groupby(..., group_keys=True)\n",
      "\n",
      "/home/austinbaggetta/.conda/envs/calcium/lib/python3.10/site-packages/pingouin/parametric.py:1512: FutureWarning:\n",
      "\n",
      "Not prepending group keys to the result index of transform-like apply. In the future, the group keys will be included in the index, regardless of whether the applied function returns a like-indexed object.\n",
      "To preserve the previous behavior, use\n",
      "\n",
      "\t>>> .groupby(..., group_keys=False)\n",
      "\n",
      "To adopt the future behavior and silence this warning, use \n",
      "\n",
      "\t>>> .groupby(..., group_keys=True)\n",
      "\n"
     ]
    },
    {
     "data": {
      "text/html": [
       "<div>\n",
       "<style scoped>\n",
       "    .dataframe tbody tr th:only-of-type {\n",
       "        vertical-align: middle;\n",
       "    }\n",
       "\n",
       "    .dataframe tbody tr th {\n",
       "        vertical-align: top;\n",
       "    }\n",
       "\n",
       "    .dataframe thead th {\n",
       "        text-align: right;\n",
       "    }\n",
       "</style>\n",
       "<table border=\"1\" class=\"dataframe\">\n",
       "  <thead>\n",
       "    <tr style=\"text-align: right;\">\n",
       "      <th></th>\n",
       "      <th>Source</th>\n",
       "      <th>SS</th>\n",
       "      <th>DF1</th>\n",
       "      <th>DF2</th>\n",
       "      <th>MS</th>\n",
       "      <th>F</th>\n",
       "      <th>p-unc</th>\n",
       "      <th>np2</th>\n",
       "      <th>eps</th>\n",
       "    </tr>\n",
       "  </thead>\n",
       "  <tbody>\n",
       "    <tr>\n",
       "      <th>0</th>\n",
       "      <td>group</td>\n",
       "      <td>451687.557143</td>\n",
       "      <td>1</td>\n",
       "      <td>3</td>\n",
       "      <td>451687.557143</td>\n",
       "      <td>1.433909</td>\n",
       "      <td>3.171160e-01</td>\n",
       "      <td>0.323396</td>\n",
       "      <td>NaN</td>\n",
       "    </tr>\n",
       "    <tr>\n",
       "      <th>1</th>\n",
       "      <td>day</td>\n",
       "      <td>383276.057143</td>\n",
       "      <td>20</td>\n",
       "      <td>60</td>\n",
       "      <td>19163.802857</td>\n",
       "      <td>14.792166</td>\n",
       "      <td>2.737068e-16</td>\n",
       "      <td>0.831386</td>\n",
       "      <td>0.121629</td>\n",
       "    </tr>\n",
       "    <tr>\n",
       "      <th>2</th>\n",
       "      <td>Interaction</td>\n",
       "      <td>37602.942857</td>\n",
       "      <td>20</td>\n",
       "      <td>60</td>\n",
       "      <td>1880.147143</td>\n",
       "      <td>1.451249</td>\n",
       "      <td>1.348666e-01</td>\n",
       "      <td>0.326032</td>\n",
       "      <td>NaN</td>\n",
       "    </tr>\n",
       "  </tbody>\n",
       "</table>\n",
       "</div>"
      ],
      "text/plain": [
       "        Source             SS  DF1  DF2             MS          F  \\\n",
       "0        group  451687.557143    1    3  451687.557143   1.433909   \n",
       "1          day  383276.057143   20   60   19163.802857  14.792166   \n",
       "2  Interaction   37602.942857   20   60    1880.147143   1.451249   \n",
       "\n",
       "          p-unc       np2       eps  \n",
       "0  3.171160e-01  0.323396       NaN  \n",
       "1  2.737068e-16  0.831386  0.121629  \n",
       "2  1.348666e-01  0.326032       NaN  "
      ]
     },
     "execution_count": 13,
     "metadata": {},
     "output_type": "execute_result"
    }
   ],
   "source": [
    "## Plot average number of cells across days for control and experimental\n",
    "avg_cells = cell_df.groupby(['day', 'group'], as_index=False).agg({'num_cells': ['mean', 'sem']})\n",
    "avg_cells = avg_cells[avg_cells['day'] < 21]\n",
    "avg_cells = avg_cells.replace({'Control': 'Two-Context', 'Experimental': 'Multi-Context'})\n",
    "fig = pf.custom_graph_template(x_title='Day', y_title='Number of Cells', width=600)\n",
    "for group in ['Two-Context', 'Multi-Context']:\n",
    "    gdata = avg_cells[avg_cells['group'] == group]\n",
    "    fig.add_trace(go.Scatter(x=gdata['day'], y=gdata['num_cells']['mean'], mode='lines+markers', name=group,\n",
    "                            line_color=ce_colors_dict[group], error_y=dict(type='data', array=gdata['num_cells']['sem'])))\n",
    "# for mouse in cell_df['mouse'].unique():\n",
    "#     mdata = cell_df[cell_df['mouse'] == mouse]\n",
    "#     fig.add_trace(go.Scatter(x=mdata['day'], y=mdata['num_cells'], mode='lines', line_color=ce_color_dict[mdata['group'].unique()[0]],\n",
    "#                              opacity=0.7, line_width=1, name=mouse, showlegend=False))\n",
    "fig.update_yaxes(range=[0, 900])\n",
    "fig.show()\n",
    "fig.write_image(pjoin(fig_path, 'number_of_cells_control_experimental.png'))\n",
    "cell_df.mixed_anova(dv='num_cells', between='group', within='day', subject='mouse')"
   ]
  },
  {
   "cell_type": "markdown",
   "metadata": {},
   "source": [
    "### Testing..."
   ]
  },
  {
   "cell_type": "code",
   "execution_count": null,
   "metadata": {},
   "outputs": [],
   "source": [
    "df = pd.read_feather('/media/caishuman/csstorage3/Austin/CircleTrack/MultiCon_Imaging/MultiCon_Imaging5/output/behav/mc51/mc51_18.feat')\n",
    "df.head()"
   ]
  },
  {
   "cell_type": "code",
   "execution_count": null,
   "metadata": {},
   "outputs": [],
   "source": [
    "plot_all_trials = False\n",
    "plot_forward_trials = False\n",
    "plot_correct_direction = False\n",
    "shift = 5\n",
    "correct_dir = ctb.get_correct_direction(df['a_pos'], shift=shift)\n",
    "trials = ctb.get_trials(df, shift_factor=0.8, angle_type='radians', counterclockwise=True)\n",
    "df['new_trials'] = trials\n",
    "\n",
    "fig = pf.custom_graph_template(x_title='Time (s)', y_title='Angular Position (deg)', width=700)\n",
    "fig.add_trace(go.Scatter(x=df['t'], y=df['a_pos'], mode='lines', line_color='darkgrey', showlegend=False))\n",
    "if plot_correct_direction:\n",
    "    fig.add_trace(go.Scatter(x=df['t'][correct_dir], y=df['a_pos'][correct_dir], mode='markers', \n",
    "                             marker_color='midnightblue', showlegend=False, marker=dict(line=dict(width=0.3))))\n",
    "\n",
    "if plot_all_trials:\n",
    "    for trial in np.unique(trials):\n",
    "        tdata = df[df['new_trials'] == trial]\n",
    "        fig.add_trace(go.Scatter(x=tdata['t'], y=tdata['a_pos'], showlegend=False))\n",
    "\n",
    "\n",
    "if plot_forward_trials:\n",
    "    forward, reverse = ctb.forward_reverse_trials(df, df['new_trials'])\n",
    "    forward = np.asarray(forward)\n",
    "    test = []\n",
    "    for val in df['new_trials'].values:\n",
    "        test.append(val in forward)\n",
    "    \n",
    "    for trial in forward:\n",
    "        d = df[df['new_trials'] == trial]\n",
    "        fig.add_trace(go.Scatter(x=d['t'], y=d['a_pos'], line_color='red', showlegend=False))\n",
    "fig.show()"
   ]
  },
  {
   "cell_type": "code",
   "execution_count": null,
   "metadata": {},
   "outputs": [],
   "source": [
    "## Save place_cell_df\n",
    "place_cell_df.to_csv(pjoin(fig_path, 'intermediate_data/percent_place_cells_nonshuffled_correct_direction.csv'))"
   ]
  },
  {
   "cell_type": "code",
   "execution_count": null,
   "metadata": {},
   "outputs": [],
   "source": [
    "## Plot percentage of place cells across days\n",
    "fig = pf.custom_graph_template(x_title='Day', y_title='Percent Place Cells (%)')\n",
    "place_cell_df['percentage_place'] = place_cell_df['percentage_place'].astype(np.float64)\n",
    "avg_place = place_cell_df.groupby(['group', 'day'], as_index=False).agg({'percentage_place': ['mean', 'sem']})\n",
    "fig = pf.plot_behavior_across_days(place_cell_df, x_var='day', y_var='percentage_place', groupby_var=['day', 'group'], plot_transitions=[5.5, 10.5, 15.5],\n",
    "                                   marker_color=ce_colors, avg_color=avg_color, expert_line=False, chance=False, transition_color=['darkgrey', 'darkgrey', 'darkgrey'],\n",
    "                                   plot_datapoints=False, x_title='Day', y_title='Percent Place Cells (%)', titles=[''], height=500, width=500)\n",
    "fig.update_yaxes(range=[0, 100])\n",
    "fig.show()\n",
    "fig.write_image(pjoin(fig_path, 'percent_place_cells_only_correct_direction.png'))\n",
    "place_cell_df.mixed_anova(within='day', between='group', dv='percentage_place', subject='mouse')"
   ]
  },
  {
   "cell_type": "code",
   "execution_count": null,
   "metadata": {},
   "outputs": [],
   "source": [
    "## Shuffle neural data first prior to calculating the percent of place cells\n",
    "data_type = 'S'\n",
    "alpha = 0.01\n",
    "nbins = 20\n",
    "cell_dict = {'mouse': [], 'group': [], 'group_two': [], 'session': [], 'day': [], 'percentage_place': []}\n",
    "for experiment in os.listdir(dpath):\n",
    "    if experiment not in experiment_folders:\n",
    "        pass \n",
    "    else:\n",
    "        exp_path = pjoin(dpath, f'{experiment}/output/{data_of_interest}/')\n",
    "        for mouse in os.listdir(exp_path):\n",
    "            if mouse == 'mc47':\n",
    "                pass \n",
    "            else:\n",
    "                mpath = pjoin(exp_path, f'{mouse}/{data_type}')\n",
    "                sex = 'Male' if mouse in male_mice else 'Female'\n",
    "                group = 'Control' if mouse in control_mice else 'Experimental'\n",
    "                for index, session in enumerate(os.listdir(mpath)):\n",
    "                    if (mouse == 'mc43') & (index > 11):\n",
    "                        index += 1\n",
    "                    elif (mouse == 'mc42') & (index > 14):\n",
    "                        index += 1\n",
    "                    elif (mouse == 'mc44') & (index > 7):\n",
    "                        index += 1\n",
    "                    elif (mouse == 'mc46') & (index > 9):\n",
    "                        index += 1\n",
    "                    elif (mouse == 'mc52') & (index > 2):\n",
    "                        index += 1\n",
    "                    \n",
    "                    data = xr.open_dataset(pjoin(mpath, session))[data_type]\n",
    "                    shifted_data = np.roll(data.values, 300) ## shift by 5 seconds\n",
    "\n",
    "                    x_cm, y_cm = ctb.convert_to_cm(x=data['x'].values, y=data['y'].values)\n",
    "                    pf_reference = pc.PlaceFields(x=x_cm,\n",
    "                                  y=y_cm,\n",
    "                                  t=data['behav_t'].values,\n",
    "                                  neural_data=shifted_data,\n",
    "                                  circular=True,\n",
    "                                  shuffle_test=True,\n",
    "                                  nbins=nbins,\n",
    "                                  velocity_threshold=velocity_thresh)\n",
    "                    data = data.assign_coords(place_cell_r = ('unit_id', pf_reference.data['spatial_info_pvals'] < alpha))\n",
    "                    percent_place = (np.sum(data['place_cell_r']) / data.shape[0]) * 100\n",
    "\n",
    "                    cell_dict['mouse'].append(mouse)\n",
    "                    cell_dict['group'].append(group)\n",
    "                    cell_dict['group_two'].append(sex)\n",
    "                    cell_dict['session'].append(data.attrs['session_two'])\n",
    "                    cell_dict['day'].append(index + 1)\n",
    "                    cell_dict['percentage_place'].append(percent_place.values)\n",
    "place_cell_shuffled_df = pd.DataFrame(cell_dict)"
   ]
  },
  {
   "cell_type": "code",
   "execution_count": null,
   "metadata": {},
   "outputs": [],
   "source": [
    "## Saved shuffled data (neural data rolled by 300 frames, or 5 seconds)\n",
    "place_cell_shuffled_df.to_csv(pjoin(fig_path, 'intermediate_data/percent_place_cells_shuffled.csv'))"
   ]
  },
  {
   "cell_type": "code",
   "execution_count": null,
   "metadata": {},
   "outputs": [],
   "source": [
    "## Combine shuffled and non-shuffled\n",
    "# place_cell_df = pd.read_csv()\n",
    "# place_cell_shuffled_df = pd.read_csv()\n",
    "place_cell_df['type'] = 'Nonshuffled' \n",
    "place_cell_shuffled_df['type'] = 'Shuffled'\n",
    "combined = pd.concat([place_cell_df, place_cell_shuffled_df])\n",
    "combined['percentage_place'] = combined['percentage_place'].astype(np.float64)\n",
    "\n",
    "## Create plot\n",
    "fig = pf.custom_graph_template(x_title='Day', y_title='Percent Place Cells (%)', width=600)\n",
    "avg_combined = combined.groupby(['group', 'day', 'type'], as_index=False).agg({'percentage_place': ['mean', 'sem']})\n",
    "for group in avg_combined['group'].unique():\n",
    "    gdata = avg_combined[avg_combined['group'] == group]\n",
    "    for type in gdata['type'].unique():\n",
    "        plot_data = gdata[gdata['type'] == type]\n",
    "\n",
    "        if type == 'Nonshuffled':\n",
    "            linetype = 'solid'\n",
    "            name = f'Nonshuffled {group}'\n",
    "        else:\n",
    "            linetype = 'dash'\n",
    "            name = f'Shuffled {group}'\n",
    "\n",
    "        fig.add_trace(go.Scatter(x=plot_data['day'], y=plot_data['percentage_place']['mean'], mode='lines+markers',\n",
    "                                 error_y=dict(type='data', array=plot_data['percentage_place']['sem']),\n",
    "                                 line=dict(dash=linetype), line_color=ce_color_dict[group], name=name))\n",
    "for value in [5.5, 10.5, 15.5]:\n",
    "    fig.add_vline(x=value, line_width=1, line_dash='dash', line_color=chance_color, opacity=1)\n",
    "fig.update_yaxes(range=[0, 100])\n",
    "fig.show()\n",
    "fig.write_image(pjoin(fig_path, 'percent_place_cells_shuffled_nonshuffled.png'))"
   ]
  },
  {
   "cell_type": "markdown",
   "metadata": {},
   "source": [
    "### Check whether speed threshold is selecting running."
   ]
  },
  {
   "cell_type": "code",
   "execution_count": null,
   "metadata": {},
   "outputs": [],
   "source": [
    "## Single mouse correlation of activity across spatial bins\n",
    "mouse_list = ['mc51']\n",
    "experiment_list = ['MultiCon_Imaging5']\n",
    "session_num = '2'\n",
    "data_type = 'YrA'\n",
    "\n",
    "for experiment in experiment_list:\n",
    "    if experiment not in experiment_folders:\n",
    "        pass \n",
    "    else:\n",
    "        exp_path = pjoin(dpath, f'{experiment}/output/{data_of_interest}/')\n",
    "        for mouse in mouse_list:\n",
    "            mpath = pjoin(exp_path, mouse)\n",
    "            avg_corr_dict = {'session': [], 'avg_corr': []}\n",
    "            rpath = pjoin(mpath, f'{data_type}')\n",
    "            fig = pf.custom_graph_template(x_title='Linear Position', y_title='Linear Position', height=500, width=550, titles=[f'Day {session_num}'])\n",
    "            spike_data = xr.open_dataset(pjoin(rpath, f'{mouse}_{data_type}_{session_num}.nc'))[data_type]\n",
    "            index_start = pc.adjust_behavior_start(x=spike_data['x'].values, y=spike_data['y'].values, t=spike_data['behav_t'].values)\n",
    "            if index_start.size > 0:\n",
    "                spike_data = spike_data[:, int(index_start[0]+1):]\n",
    "            \n",
    "            reward_one_pos = np.mean(spike_data['lin_position'][spike_data['lick_port'] == spike_data.attrs['reward_one']].values)\n",
    "            reward_two_pos = np.mean(spike_data['lin_position'][spike_data['lick_port'] == spike_data.attrs['reward_two']].values)\n",
    "            x_cm, y_cm = ctb.convert_to_cm(x=spike_data['x'].values, y=spike_data['y'].values)\n",
    "            velocity, running = pc.define_running_epochs(x_cm, \n",
    "                                                        y_cm, \n",
    "                                                        spike_data['behav_t'].values, \n",
    "                                                        velocity_thresh=velocity_thresh)"
   ]
  },
  {
   "cell_type": "code",
   "execution_count": null,
   "metadata": {},
   "outputs": [],
   "source": [
    "## Look at histograms of linear position overlayed with and without the velocity threshold\n",
    "fig = pf.custom_graph_template(x_title='Linearized Position (rad)', y_title='Probability', width=700)\n",
    "fig.add_trace(go.Histogram(x=spike_data['lin_position'], histnorm='probability', name='No running threshold', marker_color='midnightblue'))\n",
    "fig.add_trace(go.Histogram(x=spike_data['lin_position'][running], histnorm='probability', name='Running threshold', marker_color='red'))\n",
    "fig.add_vline(x=reward_one_pos, line_width=1, line_dash='dash', opacity=1, line_color='red')\n",
    "fig.add_vline(x=reward_two_pos, line_width=1, line_dash='dash', opacity=1, line_color='red')\n",
    "fig.show()\n",
    "fig.write_image(pjoin(fig_path, f'running_threshold_{velocity_thresh}.png'))"
   ]
  },
  {
   "cell_type": "code",
   "execution_count": null,
   "metadata": {},
   "outputs": [],
   "source": [
    "## Difference in x position\n",
    "delta_x = np.diff(x_cm)\n",
    "fig = pf.custom_graph_template(x_title='Delta X', y_title='Count')\n",
    "fig.add_trace(go.Histogram(x=delta_x, histnorm='probability'))\n",
    "fig.add_vline(x=np.max(delta_x), line_width=1, line_dash='dash', opacity=1, line_color='red')\n",
    "fig.add_vline(x=np.min(delta_x), line_width=1, line_dash='dash', opacity=1, line_color='red')\n",
    "fig.show()"
   ]
  },
  {
   "cell_type": "code",
   "execution_count": null,
   "metadata": {},
   "outputs": [],
   "source": [
    "## Difference in time\n",
    "delta_t = np.diff(spike_data['behav_t'])\n",
    "fig = pf.custom_graph_template(x_title='Delta T', y_title='Count')\n",
    "fig.add_trace(go.Histogram(x=delta_t, histnorm='probability'))\n",
    "fig.add_vline(x=np.max(delta_t), line_width=1, line_dash='dash', opacity=1, line_color='red')\n",
    "fig.show()"
   ]
  },
  {
   "cell_type": "code",
   "execution_count": null,
   "metadata": {},
   "outputs": [],
   "source": [
    "fig = pf.custom_graph_template(x_title='Velocity (cm/s)', y_title='')\n",
    "fig.add_trace(go.Histogram(x=velocity, histnorm='probability'))\n",
    "fig.add_vline(x=7, line_width=1, line_dash='dash', opacity=1, line_color='red')\n",
    "fig.add_vline(x=14, line_width=1, line_dash='dash', opacity=1, line_color='darkorchid')\n",
    "fig.show()"
   ]
  },
  {
   "cell_type": "code",
   "execution_count": null,
   "metadata": {},
   "outputs": [],
   "source": [
    "fig = pf.custom_graph_template(x_title='Lin Position (rad)', y_title='Velocity (cm/s)')\n",
    "fig.add_trace(go.Scatter(x=spike_data['lin_position'].values, \n",
    "                         y=velocity, \n",
    "                         mode='markers', line_color='darkgrey'))\n",
    "fig.add_vline(x=reward_one_pos, line_width=1, line_dash='dash', opacity=1, line_color='red')\n",
    "fig.add_vline(x=reward_two_pos, line_width=1, line_dash='dash', opacity=1, line_color='red')\n",
    "fig.show()"
   ]
  },
  {
   "cell_type": "markdown",
   "metadata": {},
   "source": [
    "### Calculate spatial bin correlations for one session of one mouse."
   ]
  },
  {
   "cell_type": "code",
   "execution_count": null,
   "metadata": {},
   "outputs": [],
   "source": [
    "## Single mouse correlation of activity across spatial bins\n",
    "mouse_list = ['mc51']\n",
    "experiment_list = ['MultiCon_Imaging5']\n",
    "session_num = '15'\n",
    "correct_direction = True\n",
    "data_type = 'YrA'\n",
    "test = 'spearman'\n",
    "normalize = False\n",
    "\n",
    "for experiment in experiment_list:\n",
    "    if experiment not in experiment_folders:\n",
    "        pass \n",
    "    else:\n",
    "        exp_path = pjoin(dpath, f'{experiment}/output/{data_of_interest}/')\n",
    "\n",
    "        for mouse in mouse_list:\n",
    "            mpath = pjoin(exp_path, mouse)\n",
    "\n",
    "            avg_corr_dict = {'session': [], 'avg_corr': []}\n",
    "            rpath = pjoin(mpath, f'{data_type}')\n",
    "            fig = pf.custom_graph_template(x_title='Linear Position', y_title='Linear Position', height=500, width=550, titles=[f'Day {session_num}'])\n",
    "            spike_data = xr.open_dataset(pjoin(rpath, f'{mouse}_{data_type}_{session_num}.nc'))[data_type]\n",
    "\n",
    "            index_start = pc.adjust_behavior_start(x=spike_data['x'].values, y=spike_data['y'].values, t=spike_data['behav_t'].values)\n",
    "            if index_start.size > 0:\n",
    "                spike_data = spike_data[:, int(index_start[0]+1):]\n",
    "\n",
    "            if normalize:\n",
    "                spike_data = xr.apply_ufunc(\n",
    "                zscore,\n",
    "                spike_data.chunk({'frame': -1, 'unit_id': 50}),\n",
    "                input_core_dims=[['frame']],\n",
    "                output_core_dims=[['frame']],\n",
    "                kwargs={'axis': 1},\n",
    "                dask='parallelized'\n",
    "                    ).compute()\n",
    "\n",
    "            reward_one_pos = np.mean(spike_data['lin_position'][spike_data['lick_port'] == spike_data.attrs['reward_one']].values)\n",
    "            reward_two_pos = np.mean(spike_data['lin_position'][spike_data['lick_port'] == spike_data.attrs['reward_two']].values)\n",
    "            x_cm, y_cm = ctb.convert_to_cm(x=spike_data['x'].values, y=spike_data['y'].values)\n",
    "            velocity, running = pc.define_running_epochs(x_cm, \n",
    "                                                         y_cm, \n",
    "                                                         spike_data['behav_t'].values, \n",
    "                                                         velocity_thresh=velocity_thresh)\n",
    "            if correct_direction:\n",
    "                forward, reverse = ctb.forward_reverse_trials(spike_data, spike_data['trials'])\n",
    "                correct_trials = np.zeros(spike_data.shape[1])\n",
    "                for trial in forward:\n",
    "                    loop_trial = (spike_data['trials'] == trial).astype(int)\n",
    "                    correct_trials = correct_trials + loop_trial\n",
    "                correct_trials = correct_trials.values\n",
    "            else:\n",
    "                correct_trials = np.ones(spike_data.shape[1])\n",
    "\n",
    "            running_data = spike_data[:, np.logical_and(running, correct_trials)]\n",
    "            bins = ctb.calculate_bins(x=spike_data['lin_position'].values, bin_size=bin_size)\n",
    "            population_activity = np.zeros((len(bins)-1, spike_data['unit_id'].shape[0]))\n",
    "            for idx, (start, end) in enumerate(zip(bins[:-1], bins[1:])):\n",
    "                binned_data = running_data.values[:, (running_data['lin_position'] >= start) & (running_data['lin_position'] < end)]\n",
    "                mean_activity = binned_data.mean(axis=1)\n",
    "                mean_activity = mean_activity / (np.sum((running_data['lin_position'] >= start) & (running_data['lin_position'] < end)) * 1/30).values\n",
    "                population_activity[idx, :] = mean_activity\n",
    "            \n",
    "            if test == 'pearson':\n",
    "                pvc = np.corrcoef(population_activity)\n",
    "                np.fill_diagonal(pvc, val=np.nan)\n",
    "            elif test == 'spearman':\n",
    "                cor = spearmanr(population_activity, axis=1)\n",
    "                pvc = cor.correlation\n",
    "                np.fill_diagonal(pvc, val=np.nan)\n",
    "            off_diagonal = np.nanmean(pvc)\n",
    "\n",
    "            avg_corr_dict['session'].append(spike_data.attrs['session_two'])\n",
    "            avg_corr_dict['avg_corr'].append(off_diagonal)\n",
    "            fig.add_trace(go.Heatmap(x=bins, y=bins, z=pvc))\n",
    "            for pos in [reward_one_pos, reward_two_pos]:\n",
    "                fig.add_vline(x=pos, line_width=1, line_dash='dash', line_color='red', opacity=1)\n",
    "                fig.add_hline(y=pos, line_width=1, line_dash='dash', line_color='red', opacity=1)\n",
    "            \n",
    "            if test == 'pearson':\n",
    "                fig.data[0].colorbar.title = \"Pearson's r\"\n",
    "            elif test == 'spearman':\n",
    "                fig.data[0].colorbar.title = \"Spearman's r\"\n",
    "            fig.update_layout(coloraxis=dict(colorscale='Viridis'))\n",
    "fig.show()"
   ]
  },
  {
   "cell_type": "markdown",
   "metadata": {},
   "source": [
    "### Calculate spatial bin correlations for one mouse across all sessions."
   ]
  },
  {
   "cell_type": "code",
   "execution_count": null,
   "metadata": {},
   "outputs": [],
   "source": [
    "## Correlation of cell activity across spatial bins for each session for a mouse\n",
    "mouse_list = ['mc44']\n",
    "experiment_list = ['MultiCon_Imaging5']\n",
    "correct_direction = True\n",
    "data_type = 'YrA' \n",
    "test = 'spearman'\n",
    "normalize = False\n",
    "bin_size = 0.1\n",
    "\n",
    "for experiment in experiment_list:\n",
    "    if experiment not in experiment_folders:\n",
    "        pass \n",
    "    else:\n",
    "        exp_path = pjoin(dpath, f'{experiment}/output/{data_of_interest}/')\n",
    "\n",
    "        for mouse in mouse_list:\n",
    "            mpath = pjoin(exp_path, mouse)\n",
    "\n",
    "            if mouse in control_mice:\n",
    "                titles = control_list \n",
    "            else:\n",
    "                titles = session_list\n",
    "\n",
    "            avg_corr_dict = {'session': [], 'avg_corr': []}\n",
    "            data_path = pjoin(mpath, f'{data_type}')\n",
    "            fig = pf.custom_graph_template(x_title='', y_title='', rows=4, columns=5, height=1000, width=1000, titles=titles)\n",
    "            for index, session in tqdm(enumerate(os.listdir(data_path))):\n",
    "                if (mouse == 'mc43') & (index > 11):\n",
    "                    index += 1\n",
    "                elif (mouse == 'mc42') & (index > 14):\n",
    "                    index += 1\n",
    "                elif (mouse == 'mc44') & (index > 7):\n",
    "                    index += 1\n",
    "                elif (mouse == 'mc46') & (index > 9):\n",
    "                    index += 1\n",
    "                elif (mouse == 'mc52') & (index > 2):\n",
    "                    index += 1\n",
    "                spike_data = xr.open_dataset(pjoin(data_path, session))[data_type] \n",
    "\n",
    "                if normalize:\n",
    "                    spike_data = xr.apply_ufunc(\n",
    "                    zscore,\n",
    "                    spike_data.chunk({'frame': -1, 'unit_id': 50}),\n",
    "                    input_core_dims=[['frame']],\n",
    "                    output_core_dims=[['frame']],\n",
    "                    kwargs={'axis': 1},\n",
    "                    dask='parallelized'\n",
    "                        ).compute()\n",
    "\n",
    "                reward_one_pos = np.mean(spike_data['lin_position'][spike_data['lick_port'] == spike_data.attrs['reward_one']].values)\n",
    "                reward_two_pos = np.mean(spike_data['lin_position'][spike_data['lick_port'] == spike_data.attrs['reward_two']].values)\n",
    "                ## PV correlations of position data\n",
    "                x_cm, y_cm = ctb.convert_to_cm(x=spike_data['x'].values, y=spike_data['y'].values)\n",
    "                velocity, running = pc.define_running_epochs(x_cm, \n",
    "                                                            y_cm, \n",
    "                                                            spike_data['behav_t'].values, \n",
    "                                                            velocity_thresh=velocity_thresh)\n",
    "                if correct_direction:\n",
    "                    forward, reverse = ctb.forward_reverse_trials(spike_data, spike_data['trials'])\n",
    "                    correct_trials = np.zeros(spike_data.shape[1])\n",
    "                    for trial in forward:\n",
    "                        loop_trial = (spike_data['trials'] == trial).astype(int)\n",
    "                        correct_trials = correct_trials + loop_trial\n",
    "                        correct_trials = correct_trials.values\n",
    "                else:\n",
    "                    correct_trials = np.ones(spike_data.shape[1])\n",
    "\n",
    "                running_data = spike_data[:, np.logical_and(running, correct_trials)]\n",
    "                bins = ctb.calculate_bins(x=spike_data['lin_position'].values, bin_size=bin_size)\n",
    "                population_activity = np.zeros((len(bins)-1, spike_data['unit_id'].values.shape[0]))\n",
    "                for idx, (start, end) in enumerate(zip(bins[:-1], bins[1:])):\n",
    "                    binned_data = running_data.values[:, (running_data['lin_position'] >= start) & (running_data['lin_position'] < end)]\n",
    "                    mean_activity = binned_data.mean(axis=1)\n",
    "                    mean_activity = mean_activity / (np.sum((running_data['lin_position'] >= start) & (running_data['lin_position'] < end)) * 1/30).values\n",
    "                    population_activity[idx, :] = mean_activity\n",
    "\n",
    "                if test == 'pearson':\n",
    "                    pvc = np.corrcoef(population_activity)\n",
    "                    np.fill_diagonal(pvc, val=np.nan)\n",
    "                elif test == 'spearman':\n",
    "                    cor = spearmanr(population_activity, axis=1)\n",
    "                    pvc = cor.correlation\n",
    "                    np.fill_diagonal(pvc, val=np.nan)\n",
    "                off_diagonal = np.nanmean(pvc)\n",
    "\n",
    "                avg_corr_dict['session'].append(spike_data.attrs['session_two'])\n",
    "                avg_corr_dict['avg_corr'].append(off_diagonal)\n",
    "                ## Plot figure\n",
    "                if index < 5:\n",
    "                    row, col = 1, index + 1\n",
    "                elif (index >= 5) & (index < 10):\n",
    "                    row, col = 2, index - 4\n",
    "                elif (index >= 10) & (index < 15):\n",
    "                    row, col = 3, index - 9\n",
    "                elif index >= 15:\n",
    "                    row, col = 4, index - 14\n",
    "\n",
    "                fig.add_trace(go.Heatmap(x=bins, y=bins, z=pvc, coloraxis='coloraxis1'), row=row, col=col)\n",
    "                # for pos in [reward_one_pos, reward_two_pos]:\n",
    "                #     fig.add_vline(x=pos, line_width=0.5, line_dash='dash', line_color='red', opacity=1, row=row, col=col)\n",
    "                #     fig.add_hline(y=pos, line_width=0.5, line_dash='dash', line_color='red', opacity=1, row=row, col=col)\n",
    "\n",
    "fig.update_layout(coloraxis=dict(colorscale='Viridis'))\n",
    "fig.update_yaxes(title='Lin Position', col=1)\n",
    "fig.update_xaxes(title='Lin Position', row=4)\n",
    "\n",
    "if test == 'pearson':\n",
    "    fig.data[0].colorbar.title = \"Pearson's r\"\n",
    "elif test == 'spearman':\n",
    "    fig.data[0].colorbar.title = \"Spearman's r\"\n",
    "fig.show()\n",
    "fig.write_image(pjoin(fig_path, f'{mouse}_spatial_bin_correlations_{data_type}_{bin_size}.png'))"
   ]
  }
 ],
 "metadata": {
  "language_info": {
   "name": "python"
  }
 },
 "nbformat": 4,
 "nbformat_minor": 2
}
