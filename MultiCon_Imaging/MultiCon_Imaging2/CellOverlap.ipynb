{
 "cells": [
  {
   "cell_type": "code",
   "execution_count": 1,
   "metadata": {},
   "outputs": [
    {
     "name": "stderr",
     "output_type": "stream",
     "text": [
      "/home/austinbaggetta/.conda/envs/calcium/lib/python3.10/site-packages/outdated/utils.py:14: OutdatedPackageWarning: The package pingouin is out of date. Your version is 0.5.2, the latest is 0.5.4.\n",
      "Set the environment variable OUTDATED_IGNORE=1 to disable these warnings.\n",
      "  return warn(\n"
     ]
    }
   ],
   "source": [
    "%load_ext autoreload\n",
    "%autoreload 2\n",
    "import os\n",
    "import sys\n",
    "import numpy as np\n",
    "import pandas as pd\n",
    "import xarray as xr\n",
    "from os.path import join as pjoin\n",
    "from tqdm.notebook import tqdm\n",
    "import plotly.graph_objects as go\n",
    "from scipy.stats import pearsonr, spearmanr, zscore\n",
    "import itertools\n",
    "\n",
    "sys.path.append('/home/austinbaggetta/csstorage3/CircleTrack/CircleTrackAnalysis')\n",
    "import circletrack_behavior as ctb\n",
    "import circletrack_neural as ctn\n",
    "import place_cells as pc\n",
    "import plotting_functions as pf\n",
    "import cell_overlap as co"
   ]
  },
  {
   "cell_type": "code",
   "execution_count": 2,
   "metadata": {},
   "outputs": [],
   "source": [
    "## Settings\n",
    "dpath = '../../../MultiCon_Imaging/MultiCon_Imaging2/output/'\n",
    "fig_path = '../../../MultiCon_Imaging/MultiCon_Imaging2/intermediate_figures/'\n",
    "bin_size = 0.4\n",
    "velocity_thresh = 7\n",
    "mouse_list = ['mc23', 'mc26']\n",
    "session_list = [f'A{x}' for x in np.arange(1, 6)] + [f'B{x}' for x in np.arange(1, 6)] + [f'C{x}' for x in np.arange(1, 6)] + [f'D{x}' for x in np.arange(1, 6)]"
   ]
  },
  {
   "cell_type": "code",
   "execution_count": null,
   "metadata": {},
   "outputs": [],
   "source": [
    "## Cell overlap across days\n",
    "## Distance of 4 pixels between cell centers\n",
    "centroid_distance = 4\n",
    "fig = pf.custom_graph_template(x_title='Day', y_title='', rows=1, columns=2, width=1000, \n",
    "                               shared_y=True, titles=mouse_list)\n",
    "for idx, mouse in enumerate(mouse_list):\n",
    "    mappings = pd.read_pickle(pjoin(dpath, f'cross_registration_results/circletrack_data/{mouse}/mappings_{centroid_distance}.pkl'))\n",
    "    overlap = co.calculate_overlap(mappings)\n",
    "    overlap = co.dates_to_days(overlap, '2023_10_21', days=20)\n",
    "    matrix = overlap.pivot_table(index='session_id1', columns='session_id2', values='overlap')\n",
    "    fig.add_trace(go.Heatmap(z=matrix.values, x=matrix.index, y=matrix.columns, coloraxis='coloraxis'), row=1, col=idx + 1)\n",
    "boundaries = [5.5, 10.5, 15.5]\n",
    "for boundary in boundaries:\n",
    "        fig.add_vline(x=boundary, line_width=1.5, line_color='red', opacity=1)\n",
    "        fig.add_hline(y=boundary, line_width=1.5, line_color='red', opacity=1) \n",
    "fig.update_yaxes(title='Day', col=1)\n",
    "fig.update_layout(coloraxis_colorbar={'title': 'Percent Overlap'})\n",
    "fig.show()\n",
    "fig.write_image(pjoin(fig_path, 'mc23_mc26_overlap_heatmaps.png'))"
   ]
  },
  {
   "cell_type": "code",
   "execution_count": null,
   "metadata": {},
   "outputs": [],
   "source": [
    "## Cell overlap across days\n",
    "## Distance of 2.5 pixels between cell centers\n",
    "centroid_distance = 2.5\n",
    "fig = pf.custom_graph_template(x_title='Day', y_title='', rows=1, columns=2, width=900, \n",
    "                               shared_y=True, titles=mouse_list)\n",
    "for idx, mouse in enumerate(mouse_list):\n",
    "    mappings = pd.read_pickle(pjoin(dpath, f'cross_registration_results/circletrack_data/{mouse}/mappings_{centroid_distance}.pkl'))\n",
    "    overlap = co.calculate_overlap(mappings)\n",
    "    overlap = co.dates_to_days(overlap, '2023_10_21', days=20)\n",
    "    matrix = overlap.pivot_table(index='session_id1', columns='session_id2', values='overlap')\n",
    "    fig.add_trace(go.Heatmap(z=matrix.values, x=matrix.index, y=matrix.columns, coloraxis='coloraxis'), row=1, col=idx + 1)\n",
    "boundaries = [5.5, 10.5, 15.5]\n",
    "for boundary in boundaries:\n",
    "        fig.add_vline(x=boundary, line_width=1.5, line_color='red', opacity=1)\n",
    "        fig.add_hline(y=boundary, line_width=1.5, line_color='red', opacity=1) \n",
    "fig.update_yaxes(title='Day', col=1)\n",
    "# fig.update_layout(coloraxis_colorbar={'title': 'Percent Overlap'})\n",
    "fig.show()"
   ]
  },
  {
   "cell_type": "code",
   "execution_count": null,
   "metadata": {},
   "outputs": [],
   "source": [
    "## Plot of average cell overlap comparing all contexts\n",
    "day_tup_list = [((0, 5), (0, 5)), ((0, 5), (6, 10)), ((0, 5), (11, 15)), ((0, 5), (16, 20)),\n",
    "                ((6, 10), (0, 5)), ((6, 10), (6, 10)), ((6, 10), (11, 15)), ((6, 10), (16, 20)),\n",
    "                ((11, 15), (0, 5)), ((11, 15), (6, 10)), ((11, 15), (11, 15)), ((11, 15), (16, 20)),\n",
    "                ((16, 20), (0, 5)), ((16, 20), (6, 10)), ((16, 20), (11, 15)), ((16, 20), (16, 20))]\n",
    "output_df = pd.DataFrame()\n",
    "last_index = 0\n",
    "for mouse in mouse_list:\n",
    "    mappings = pd.read_pickle(pjoin(dpath, f'cross_registration_results/circletrack_data/{mouse}/mappings_{centroid_distance}.pkl'))\n",
    "    overlap = co.calculate_overlap(mappings)\n",
    "    overlap = co.dates_to_days(overlap, '2023_10_21', days=20)\n",
    "    matrix = overlap.pivot_table(index='session_id1', columns='session_id2', values='overlap')\n",
    "    for idx, tup in enumerate(day_tup_list):\n",
    "        if idx <= 3:\n",
    "            context = 'A'\n",
    "        elif (idx > 3) & (idx <= 7):\n",
    "            context = 'B'\n",
    "        elif (idx > 7) & (idx <= 11):\n",
    "            context = 'C'\n",
    "        elif idx > 11:\n",
    "            context = 'D'\n",
    "        df = co.average_overlap_across_contexts(matrix, start_tuple=tup[0], end_tuple=tup[1])\n",
    "        output_df = pd.concat([output_df, df], ignore_index=True)\n",
    "        output_df.loc[idx+last_index, 'base_context'] = context\n",
    "        output_df.loc[idx+last_index, 'mouse'] = mouse\n",
    "    last_index = last_index + idx + 1\n",
    "output_df['compared_to'] = ['A', 'B', 'C', 'D'] * (len(mouse_list)*4)\n",
    "average_overlap = output_df.groupby(['compared_to', 'base_context'], as_index=False).agg({'avg': ['mean', 'sem']})"
   ]
  },
  {
   "cell_type": "code",
   "execution_count": null,
   "metadata": {},
   "outputs": [],
   "source": [
    "## Plot of average cell overlap comparing all contexts for all mice\n",
    "fig = pf.custom_graph_template(x_title='', y_title='Average Percent Overlap (%)')\n",
    "for context in np.unique(average_overlap['compared_to']):\n",
    "    plot_data = average_overlap[average_overlap['compared_to'] == context]\n",
    "    fig.add_trace(go.Scatter(x=plot_data['base_context'], y=plot_data['avg']['mean'], mode='lines+markers', name=context,\n",
    "                             error_y=dict(type='data', array=plot_data['avg']['sem'])))\n",
    "fig.show()"
   ]
  },
  {
   "cell_type": "code",
   "execution_count": null,
   "metadata": {},
   "outputs": [],
   "source": [
    "## Bar plot of cell overlap at each context switch\n",
    "centroid_distance = 2.5\n",
    "last_days_in_context = [5, 10, 15]\n",
    "fig = pf.custom_graph_template(x_title='', y_title='Percent Overlap (%)')\n",
    "data = {'mouse': [], 'A to B': [], 'B to C': [], 'C to D': []}\n",
    "for mouse in tqdm(mouse_list):\n",
    "    if mouse == 'mc23':\n",
    "        pass\n",
    "    else:\n",
    "        mappings = pd.read_pickle(pjoin(dpath, f'cross_registration_results/circletrack_data/{mouse}/mappings_{centroid_distance}.pkl'))\n",
    "        overlap = co.calculate_overlap(mappings)\n",
    "        overlap = co.dates_to_days(overlap, '2023_10_21', days=20)\n",
    "        data['mouse'].append(mouse)\n",
    "        data['A to B'].append(overlap['overlap'][(overlap['session_id1'] == last_days_in_context[0]) & (overlap['session_id2'] == last_days_in_context[0]+1)].values[0])\n",
    "        data['B to C'].append(overlap['overlap'][(overlap['session_id1'] == last_days_in_context[1]) & (overlap['session_id2'] == last_days_in_context[1]+1)].values[0])\n",
    "        data['C to D'].append(overlap['overlap'][(overlap['session_id1'] == last_days_in_context[2]) & (overlap['session_id2'] == last_days_in_context[2]+1)].values[0])\n",
    "df = pd.DataFrame(data)\n",
    "df = df.melt(id_vars='mouse', var_name='switch', value_name='overlap')\n",
    "fig.add_trace(go.Bar(x=df['switch'], y=df['overlap'], marker_line_color='black',\n",
    "                     marker_line_width=2, opacity=0.8))\n",
    "fig.show()"
   ]
  },
  {
   "cell_type": "code",
   "execution_count": null,
   "metadata": {},
   "outputs": [],
   "source": [
    "context_days = {'A': [1, 2, 3, 4, 5], 'B': [6, 7, 8, 9, 10], 'C': [11, 12, 13, 14, 15], 'D': [16, 17, 18, 19, 20]}\n",
    "overlap[(overlap['session_id1'] == 1) & (overlap['session_id2'].isin(context_days['B']))]"
   ]
  },
  {
   "cell_type": "code",
   "execution_count": null,
   "metadata": {},
   "outputs": [],
   "source": [
    "context_days = {'A': [1, 2, 3, 4, 5], 'B': [6, 7, 8, 9, 10], 'C': [11, 12, 13, 14, 15], 'D': [16, 17, 18, 19, 20]}\n",
    "fig = pf.custom_graph_template(x_title='Day', y_title='Cell Overlap (%)', titles=['B compared to A'])\n",
    "for day in context_days['A']:\n",
    "    plot_data = overlap[(overlap['session_id1'] == day) & (overlap['session_id2'].isin(context_days['B']))]\n",
    "    fig.add_trace(go.Scatter(x=plot_data['session_id2'], y=plot_data['overlap'], mode='markers', name=f'Day {day}',\n",
    "                             marker=dict(line=dict(width=1)), opacity=0.7))\n",
    "fig.show()"
   ]
  },
  {
   "cell_type": "code",
   "execution_count": null,
   "metadata": {},
   "outputs": [],
   "source": [
    "fig = pf.custom_graph_template(x_title='Day', y_title='Cell Overlap (%)', titles=['C compared to B'])\n",
    "for day in context_days['B']:\n",
    "    plot_data = overlap[(overlap['session_id1'] == day) & (overlap['session_id2'].isin(context_days['C']))]\n",
    "    fig.add_trace(go.Scatter(x=plot_data['session_id2'], y=plot_data['overlap'], mode='markers', name=f'Day {day}',\n",
    "                             marker=dict(line=dict(width=1)), opacity=0.7))\n",
    "fig.show()"
   ]
  },
  {
   "cell_type": "code",
   "execution_count": null,
   "metadata": {},
   "outputs": [],
   "source": [
    "fig = pf.custom_graph_template(x_title='Day', y_title='Cell Overlap (%)', titles=['D compared to C'])\n",
    "for day in context_days['C']:\n",
    "    plot_data = overlap[(overlap['session_id1'] == day) & (overlap['session_id2'].isin(context_days['D']))]\n",
    "    fig.add_trace(go.Scatter(x=plot_data['session_id2'], y=plot_data['overlap'], mode='markers', name=f'Day {day}',\n",
    "                             marker=dict(line=dict(width=1)), opacity=0.7))\n",
    "fig.show()"
   ]
  },
  {
   "cell_type": "code",
   "execution_count": null,
   "metadata": {},
   "outputs": [],
   "source": [
    "fig = pf.custom_graph_template(x_title='Day', y_title='', rows=1, columns=3, shared_y=True,\n",
    "                               titles=['B compared to A', 'C compared to B', 'D compared to C'], width=1000)\n",
    "for day in context_days['A']:\n",
    "    plot_data = overlap[(overlap['session_id1'] == day) & (overlap['session_id2'].isin(context_days['B']))]\n",
    "    fig.add_trace(go.Scatter(x=plot_data['session_id2'], y=plot_data['overlap'], mode='markers', name=f'Day {day}',\n",
    "                             marker=dict(line=dict(width=1)), opacity=0.7), row=1, col=1)\n",
    "    \n",
    "for day in context_days['B']:\n",
    "    plot_data = overlap[(overlap['session_id1'] == day) & (overlap['session_id2'].isin(context_days['C']))]\n",
    "    fig.add_trace(go.Scatter(x=plot_data['session_id2'], y=plot_data['overlap'], mode='markers', name=f'Day {day}',\n",
    "                             marker=dict(line=dict(width=1)), opacity=0.7), row=1, col=2)\n",
    "    \n",
    "for day in context_days['C']:\n",
    "    plot_data = overlap[(overlap['session_id1'] == day) & (overlap['session_id2'].isin(context_days['D']))]\n",
    "    fig.add_trace(go.Scatter(x=plot_data['session_id2'], y=plot_data['overlap'], mode='markers', name=f'Day {day}',\n",
    "                             marker=dict(line=dict(width=1)), opacity=0.7), row=1, col=3)\n",
    "fig.update_yaxes(title='Cell Overlap (%)', col=1)\n",
    "fig.show()"
   ]
  },
  {
   "cell_type": "markdown",
   "metadata": {},
   "source": [
    "### Calculate place metrics for overlapping and nonoverlapping cells between all sessions."
   ]
  },
  {
   "cell_type": "code",
   "execution_count": 9,
   "metadata": {},
   "outputs": [
    {
     "data": {
      "application/vnd.jupyter.widget-view+json": {
       "model_id": "1d0e8d09fde945a9bba10a75d59b993c",
       "version_major": 2,
       "version_minor": 0
      },
      "text/plain": [
       "  0%|          | 0/18 [00:00<?, ?it/s]"
      ]
     },
     "metadata": {},
     "output_type": "display_data"
    },
    {
     "name": "stderr",
     "output_type": "stream",
     "text": [
      "/home/austinbaggetta/csstorage3/CircleTrack/CircleTrackAnalysis/place_cells.py:44: RuntimeWarning: invalid value encountered in divide\n",
      "  velocity = dists / np.diff(t, prepend = 0) ## in seconds\n",
      "/home/austinbaggetta/csstorage3/CircleTrack/CircleTrackAnalysis/place_cells.py:392: RuntimeWarning: invalid value encountered in divide\n",
      "  pf = pf / self.data[\"occupancy_map\"]\n"
     ]
    },
    {
     "name": "stdout",
     "output_type": "stream",
     "text": [
      "Doing shuffle tests. This may take a while.\n"
     ]
    },
    {
     "name": "stderr",
     "output_type": "stream",
     "text": [
      "/home/austinbaggetta/csstorage3/CircleTrack/CircleTrackAnalysis/place_cells.py:458: RuntimeWarning: invalid value encountered in scalar divide\n",
      "  SI_z = (self.data[\"spatial_information\"][neuron] - np.mean(shuffled_SIs)) / np.std(\n",
      "/home/austinbaggetta/csstorage3/CircleTrack/CircleTrackAnalysis/place_cells.py:44: RuntimeWarning: invalid value encountered in divide\n",
      "  velocity = dists / np.diff(t, prepend = 0) ## in seconds\n",
      "/home/austinbaggetta/csstorage3/CircleTrack/CircleTrackAnalysis/place_cells.py:392: RuntimeWarning: invalid value encountered in divide\n",
      "  pf = pf / self.data[\"occupancy_map\"]\n"
     ]
    },
    {
     "name": "stdout",
     "output_type": "stream",
     "text": [
      "Doing shuffle tests. This may take a while.\n"
     ]
    },
    {
     "name": "stderr",
     "output_type": "stream",
     "text": [
      "/home/austinbaggetta/csstorage3/CircleTrack/CircleTrackAnalysis/place_cells.py:44: RuntimeWarning: invalid value encountered in divide\n",
      "  velocity = dists / np.diff(t, prepend = 0) ## in seconds\n",
      "/home/austinbaggetta/csstorage3/CircleTrack/CircleTrackAnalysis/place_cells.py:392: RuntimeWarning: invalid value encountered in divide\n",
      "  pf = pf / self.data[\"occupancy_map\"]\n"
     ]
    },
    {
     "name": "stdout",
     "output_type": "stream",
     "text": [
      "Doing shuffle tests. This may take a while.\n"
     ]
    },
    {
     "name": "stderr",
     "output_type": "stream",
     "text": [
      "/home/austinbaggetta/csstorage3/CircleTrack/CircleTrackAnalysis/place_cells.py:44: RuntimeWarning: invalid value encountered in divide\n",
      "  velocity = dists / np.diff(t, prepend = 0) ## in seconds\n",
      "/home/austinbaggetta/csstorage3/CircleTrack/CircleTrackAnalysis/place_cells.py:392: RuntimeWarning: invalid value encountered in divide\n",
      "  pf = pf / self.data[\"occupancy_map\"]\n"
     ]
    },
    {
     "name": "stdout",
     "output_type": "stream",
     "text": [
      "Doing shuffle tests. This may take a while.\n"
     ]
    },
    {
     "name": "stderr",
     "output_type": "stream",
     "text": [
      "/home/austinbaggetta/csstorage3/CircleTrack/CircleTrackAnalysis/place_cells.py:44: RuntimeWarning: invalid value encountered in divide\n",
      "  velocity = dists / np.diff(t, prepend = 0) ## in seconds\n",
      "/home/austinbaggetta/csstorage3/CircleTrack/CircleTrackAnalysis/place_cells.py:392: RuntimeWarning: invalid value encountered in divide\n",
      "  pf = pf / self.data[\"occupancy_map\"]\n"
     ]
    },
    {
     "name": "stdout",
     "output_type": "stream",
     "text": [
      "Doing shuffle tests. This may take a while.\n"
     ]
    },
    {
     "name": "stderr",
     "output_type": "stream",
     "text": [
      "/home/austinbaggetta/csstorage3/CircleTrack/CircleTrackAnalysis/place_cells.py:44: RuntimeWarning: invalid value encountered in divide\n",
      "  velocity = dists / np.diff(t, prepend = 0) ## in seconds\n",
      "/home/austinbaggetta/csstorage3/CircleTrack/CircleTrackAnalysis/place_cells.py:392: RuntimeWarning: invalid value encountered in divide\n",
      "  pf = pf / self.data[\"occupancy_map\"]\n"
     ]
    },
    {
     "name": "stdout",
     "output_type": "stream",
     "text": [
      "Doing shuffle tests. This may take a while.\n"
     ]
    },
    {
     "name": "stderr",
     "output_type": "stream",
     "text": [
      "/home/austinbaggetta/csstorage3/CircleTrack/CircleTrackAnalysis/place_cells.py:44: RuntimeWarning: invalid value encountered in divide\n",
      "  velocity = dists / np.diff(t, prepend = 0) ## in seconds\n",
      "/home/austinbaggetta/csstorage3/CircleTrack/CircleTrackAnalysis/place_cells.py:392: RuntimeWarning: invalid value encountered in divide\n",
      "  pf = pf / self.data[\"occupancy_map\"]\n"
     ]
    },
    {
     "name": "stdout",
     "output_type": "stream",
     "text": [
      "Doing shuffle tests. This may take a while.\n"
     ]
    },
    {
     "name": "stderr",
     "output_type": "stream",
     "text": [
      "/home/austinbaggetta/csstorage3/CircleTrack/CircleTrackAnalysis/place_cells.py:44: RuntimeWarning: invalid value encountered in divide\n",
      "  velocity = dists / np.diff(t, prepend = 0) ## in seconds\n",
      "/home/austinbaggetta/csstorage3/CircleTrack/CircleTrackAnalysis/place_cells.py:392: RuntimeWarning: invalid value encountered in divide\n",
      "  pf = pf / self.data[\"occupancy_map\"]\n"
     ]
    },
    {
     "name": "stdout",
     "output_type": "stream",
     "text": [
      "Doing shuffle tests. This may take a while.\n"
     ]
    },
    {
     "name": "stderr",
     "output_type": "stream",
     "text": [
      "/home/austinbaggetta/csstorage3/CircleTrack/CircleTrackAnalysis/place_cells.py:44: RuntimeWarning: invalid value encountered in divide\n",
      "  velocity = dists / np.diff(t, prepend = 0) ## in seconds\n",
      "/home/austinbaggetta/csstorage3/CircleTrack/CircleTrackAnalysis/place_cells.py:392: RuntimeWarning: invalid value encountered in divide\n",
      "  pf = pf / self.data[\"occupancy_map\"]\n"
     ]
    },
    {
     "name": "stdout",
     "output_type": "stream",
     "text": [
      "Doing shuffle tests. This may take a while.\n"
     ]
    },
    {
     "name": "stderr",
     "output_type": "stream",
     "text": [
      "/home/austinbaggetta/csstorage3/CircleTrack/CircleTrackAnalysis/place_cells.py:44: RuntimeWarning: invalid value encountered in divide\n",
      "  velocity = dists / np.diff(t, prepend = 0) ## in seconds\n",
      "/home/austinbaggetta/csstorage3/CircleTrack/CircleTrackAnalysis/place_cells.py:392: RuntimeWarning: invalid value encountered in divide\n",
      "  pf = pf / self.data[\"occupancy_map\"]\n"
     ]
    },
    {
     "name": "stdout",
     "output_type": "stream",
     "text": [
      "Doing shuffle tests. This may take a while.\n"
     ]
    },
    {
     "name": "stderr",
     "output_type": "stream",
     "text": [
      "/home/austinbaggetta/csstorage3/CircleTrack/CircleTrackAnalysis/place_cells.py:44: RuntimeWarning: invalid value encountered in divide\n",
      "  velocity = dists / np.diff(t, prepend = 0) ## in seconds\n",
      "/home/austinbaggetta/csstorage3/CircleTrack/CircleTrackAnalysis/place_cells.py:392: RuntimeWarning: invalid value encountered in divide\n",
      "  pf = pf / self.data[\"occupancy_map\"]\n"
     ]
    },
    {
     "name": "stdout",
     "output_type": "stream",
     "text": [
      "Doing shuffle tests. This may take a while.\n"
     ]
    },
    {
     "name": "stderr",
     "output_type": "stream",
     "text": [
      "/home/austinbaggetta/csstorage3/CircleTrack/CircleTrackAnalysis/place_cells.py:44: RuntimeWarning: invalid value encountered in divide\n",
      "  velocity = dists / np.diff(t, prepend = 0) ## in seconds\n",
      "/home/austinbaggetta/csstorage3/CircleTrack/CircleTrackAnalysis/place_cells.py:392: RuntimeWarning: invalid value encountered in divide\n",
      "  pf = pf / self.data[\"occupancy_map\"]\n"
     ]
    },
    {
     "name": "stdout",
     "output_type": "stream",
     "text": [
      "Doing shuffle tests. This may take a while.\n"
     ]
    },
    {
     "name": "stderr",
     "output_type": "stream",
     "text": [
      "/home/austinbaggetta/csstorage3/CircleTrack/CircleTrackAnalysis/place_cells.py:44: RuntimeWarning: invalid value encountered in divide\n",
      "  velocity = dists / np.diff(t, prepend = 0) ## in seconds\n",
      "/home/austinbaggetta/csstorage3/CircleTrack/CircleTrackAnalysis/place_cells.py:392: RuntimeWarning: invalid value encountered in divide\n",
      "  pf = pf / self.data[\"occupancy_map\"]\n"
     ]
    },
    {
     "name": "stdout",
     "output_type": "stream",
     "text": [
      "Doing shuffle tests. This may take a while.\n"
     ]
    },
    {
     "name": "stderr",
     "output_type": "stream",
     "text": [
      "/home/austinbaggetta/csstorage3/CircleTrack/CircleTrackAnalysis/place_cells.py:44: RuntimeWarning: invalid value encountered in divide\n",
      "  velocity = dists / np.diff(t, prepend = 0) ## in seconds\n",
      "/home/austinbaggetta/csstorage3/CircleTrack/CircleTrackAnalysis/place_cells.py:392: RuntimeWarning: invalid value encountered in divide\n",
      "  pf = pf / self.data[\"occupancy_map\"]\n"
     ]
    },
    {
     "name": "stdout",
     "output_type": "stream",
     "text": [
      "Doing shuffle tests. This may take a while.\n"
     ]
    },
    {
     "name": "stderr",
     "output_type": "stream",
     "text": [
      "/home/austinbaggetta/csstorage3/CircleTrack/CircleTrackAnalysis/place_cells.py:44: RuntimeWarning: invalid value encountered in divide\n",
      "  velocity = dists / np.diff(t, prepend = 0) ## in seconds\n",
      "/home/austinbaggetta/csstorage3/CircleTrack/CircleTrackAnalysis/place_cells.py:392: RuntimeWarning: invalid value encountered in divide\n",
      "  pf = pf / self.data[\"occupancy_map\"]\n"
     ]
    },
    {
     "name": "stdout",
     "output_type": "stream",
     "text": [
      "Doing shuffle tests. This may take a while.\n"
     ]
    },
    {
     "name": "stderr",
     "output_type": "stream",
     "text": [
      "/home/austinbaggetta/csstorage3/CircleTrack/CircleTrackAnalysis/place_cells.py:44: RuntimeWarning: invalid value encountered in divide\n",
      "  velocity = dists / np.diff(t, prepend = 0) ## in seconds\n",
      "/home/austinbaggetta/csstorage3/CircleTrack/CircleTrackAnalysis/place_cells.py:392: RuntimeWarning: invalid value encountered in divide\n",
      "  pf = pf / self.data[\"occupancy_map\"]\n"
     ]
    },
    {
     "name": "stdout",
     "output_type": "stream",
     "text": [
      "Doing shuffle tests. This may take a while.\n"
     ]
    },
    {
     "name": "stderr",
     "output_type": "stream",
     "text": [
      "/home/austinbaggetta/csstorage3/CircleTrack/CircleTrackAnalysis/place_cells.py:458: RuntimeWarning: invalid value encountered in scalar divide\n",
      "  SI_z = (self.data[\"spatial_information\"][neuron] - np.mean(shuffled_SIs)) / np.std(\n",
      "/home/austinbaggetta/csstorage3/CircleTrack/CircleTrackAnalysis/place_cells.py:44: RuntimeWarning: invalid value encountered in divide\n",
      "  velocity = dists / np.diff(t, prepend = 0) ## in seconds\n",
      "/home/austinbaggetta/csstorage3/CircleTrack/CircleTrackAnalysis/place_cells.py:392: RuntimeWarning: invalid value encountered in divide\n",
      "  pf = pf / self.data[\"occupancy_map\"]\n"
     ]
    },
    {
     "name": "stdout",
     "output_type": "stream",
     "text": [
      "Doing shuffle tests. This may take a while.\n"
     ]
    },
    {
     "name": "stderr",
     "output_type": "stream",
     "text": [
      "/home/austinbaggetta/csstorage3/CircleTrack/CircleTrackAnalysis/place_cells.py:44: RuntimeWarning: invalid value encountered in divide\n",
      "  velocity = dists / np.diff(t, prepend = 0) ## in seconds\n",
      "/home/austinbaggetta/csstorage3/CircleTrack/CircleTrackAnalysis/place_cells.py:392: RuntimeWarning: invalid value encountered in divide\n",
      "  pf = pf / self.data[\"occupancy_map\"]\n"
     ]
    },
    {
     "name": "stdout",
     "output_type": "stream",
     "text": [
      "Doing shuffle tests. This may take a while.\n"
     ]
    },
    {
     "name": "stderr",
     "output_type": "stream",
     "text": [
      "/home/austinbaggetta/csstorage3/CircleTrack/CircleTrackAnalysis/place_cells.py:44: RuntimeWarning: invalid value encountered in divide\n",
      "  velocity = dists / np.diff(t, prepend = 0) ## in seconds\n",
      "/home/austinbaggetta/csstorage3/CircleTrack/CircleTrackAnalysis/place_cells.py:392: RuntimeWarning: invalid value encountered in divide\n",
      "  pf = pf / self.data[\"occupancy_map\"]\n"
     ]
    },
    {
     "name": "stdout",
     "output_type": "stream",
     "text": [
      "Doing shuffle tests. This may take a while.\n"
     ]
    },
    {
     "name": "stderr",
     "output_type": "stream",
     "text": [
      "/home/austinbaggetta/csstorage3/CircleTrack/CircleTrackAnalysis/place_cells.py:44: RuntimeWarning: invalid value encountered in divide\n",
      "  velocity = dists / np.diff(t, prepend = 0) ## in seconds\n",
      "/home/austinbaggetta/csstorage3/CircleTrack/CircleTrackAnalysis/place_cells.py:392: RuntimeWarning: invalid value encountered in divide\n",
      "  pf = pf / self.data[\"occupancy_map\"]\n"
     ]
    },
    {
     "name": "stdout",
     "output_type": "stream",
     "text": [
      "Doing shuffle tests. This may take a while.\n"
     ]
    },
    {
     "name": "stderr",
     "output_type": "stream",
     "text": [
      "/home/austinbaggetta/csstorage3/CircleTrack/CircleTrackAnalysis/place_cells.py:458: RuntimeWarning: invalid value encountered in scalar divide\n",
      "  SI_z = (self.data[\"spatial_information\"][neuron] - np.mean(shuffled_SIs)) / np.std(\n",
      "/home/austinbaggetta/csstorage3/CircleTrack/CircleTrackAnalysis/place_cells.py:44: RuntimeWarning: invalid value encountered in divide\n",
      "  velocity = dists / np.diff(t, prepend = 0) ## in seconds\n",
      "/home/austinbaggetta/csstorage3/CircleTrack/CircleTrackAnalysis/place_cells.py:392: RuntimeWarning: invalid value encountered in divide\n",
      "  pf = pf / self.data[\"occupancy_map\"]\n"
     ]
    },
    {
     "name": "stdout",
     "output_type": "stream",
     "text": [
      "Doing shuffle tests. This may take a while.\n"
     ]
    },
    {
     "name": "stderr",
     "output_type": "stream",
     "text": [
      "/home/austinbaggetta/csstorage3/CircleTrack/CircleTrackAnalysis/place_cells.py:44: RuntimeWarning: invalid value encountered in divide\n",
      "  velocity = dists / np.diff(t, prepend = 0) ## in seconds\n",
      "/home/austinbaggetta/csstorage3/CircleTrack/CircleTrackAnalysis/place_cells.py:392: RuntimeWarning: invalid value encountered in divide\n",
      "  pf = pf / self.data[\"occupancy_map\"]\n"
     ]
    },
    {
     "name": "stdout",
     "output_type": "stream",
     "text": [
      "Doing shuffle tests. This may take a while.\n"
     ]
    },
    {
     "name": "stderr",
     "output_type": "stream",
     "text": [
      "/home/austinbaggetta/csstorage3/CircleTrack/CircleTrackAnalysis/place_cells.py:44: RuntimeWarning: invalid value encountered in divide\n",
      "  velocity = dists / np.diff(t, prepend = 0) ## in seconds\n",
      "/home/austinbaggetta/csstorage3/CircleTrack/CircleTrackAnalysis/place_cells.py:392: RuntimeWarning: invalid value encountered in divide\n",
      "  pf = pf / self.data[\"occupancy_map\"]\n"
     ]
    },
    {
     "name": "stdout",
     "output_type": "stream",
     "text": [
      "Doing shuffle tests. This may take a while.\n"
     ]
    },
    {
     "name": "stderr",
     "output_type": "stream",
     "text": [
      "/home/austinbaggetta/csstorage3/CircleTrack/CircleTrackAnalysis/place_cells.py:44: RuntimeWarning: invalid value encountered in divide\n",
      "  velocity = dists / np.diff(t, prepend = 0) ## in seconds\n",
      "/home/austinbaggetta/csstorage3/CircleTrack/CircleTrackAnalysis/place_cells.py:392: RuntimeWarning: invalid value encountered in divide\n",
      "  pf = pf / self.data[\"occupancy_map\"]\n"
     ]
    },
    {
     "name": "stdout",
     "output_type": "stream",
     "text": [
      "Doing shuffle tests. This may take a while.\n"
     ]
    },
    {
     "name": "stderr",
     "output_type": "stream",
     "text": [
      "/home/austinbaggetta/csstorage3/CircleTrack/CircleTrackAnalysis/place_cells.py:458: RuntimeWarning: invalid value encountered in scalar divide\n",
      "  SI_z = (self.data[\"spatial_information\"][neuron] - np.mean(shuffled_SIs)) / np.std(\n",
      "/home/austinbaggetta/csstorage3/CircleTrack/CircleTrackAnalysis/place_cells.py:44: RuntimeWarning: invalid value encountered in divide\n",
      "  velocity = dists / np.diff(t, prepend = 0) ## in seconds\n",
      "/home/austinbaggetta/csstorage3/CircleTrack/CircleTrackAnalysis/place_cells.py:392: RuntimeWarning: invalid value encountered in divide\n",
      "  pf = pf / self.data[\"occupancy_map\"]\n"
     ]
    },
    {
     "name": "stdout",
     "output_type": "stream",
     "text": [
      "Doing shuffle tests. This may take a while.\n"
     ]
    },
    {
     "name": "stderr",
     "output_type": "stream",
     "text": [
      "/home/austinbaggetta/csstorage3/CircleTrack/CircleTrackAnalysis/place_cells.py:44: RuntimeWarning: invalid value encountered in divide\n",
      "  velocity = dists / np.diff(t, prepend = 0) ## in seconds\n",
      "/home/austinbaggetta/csstorage3/CircleTrack/CircleTrackAnalysis/place_cells.py:392: RuntimeWarning: invalid value encountered in divide\n",
      "  pf = pf / self.data[\"occupancy_map\"]\n"
     ]
    },
    {
     "name": "stdout",
     "output_type": "stream",
     "text": [
      "Doing shuffle tests. This may take a while.\n"
     ]
    },
    {
     "name": "stderr",
     "output_type": "stream",
     "text": [
      "/home/austinbaggetta/csstorage3/CircleTrack/CircleTrackAnalysis/place_cells.py:44: RuntimeWarning: invalid value encountered in divide\n",
      "  velocity = dists / np.diff(t, prepend = 0) ## in seconds\n",
      "/home/austinbaggetta/csstorage3/CircleTrack/CircleTrackAnalysis/place_cells.py:392: RuntimeWarning: invalid value encountered in divide\n",
      "  pf = pf / self.data[\"occupancy_map\"]\n"
     ]
    },
    {
     "name": "stdout",
     "output_type": "stream",
     "text": [
      "Doing shuffle tests. This may take a while.\n"
     ]
    },
    {
     "name": "stderr",
     "output_type": "stream",
     "text": [
      "/home/austinbaggetta/csstorage3/CircleTrack/CircleTrackAnalysis/place_cells.py:44: RuntimeWarning: invalid value encountered in divide\n",
      "  velocity = dists / np.diff(t, prepend = 0) ## in seconds\n",
      "/home/austinbaggetta/csstorage3/CircleTrack/CircleTrackAnalysis/place_cells.py:392: RuntimeWarning: invalid value encountered in divide\n",
      "  pf = pf / self.data[\"occupancy_map\"]\n"
     ]
    },
    {
     "name": "stdout",
     "output_type": "stream",
     "text": [
      "Doing shuffle tests. This may take a while.\n"
     ]
    },
    {
     "name": "stderr",
     "output_type": "stream",
     "text": [
      "/home/austinbaggetta/csstorage3/CircleTrack/CircleTrackAnalysis/place_cells.py:458: RuntimeWarning: invalid value encountered in scalar divide\n",
      "  SI_z = (self.data[\"spatial_information\"][neuron] - np.mean(shuffled_SIs)) / np.std(\n",
      "/home/austinbaggetta/csstorage3/CircleTrack/CircleTrackAnalysis/place_cells.py:44: RuntimeWarning: invalid value encountered in divide\n",
      "  velocity = dists / np.diff(t, prepend = 0) ## in seconds\n",
      "/home/austinbaggetta/csstorage3/CircleTrack/CircleTrackAnalysis/place_cells.py:392: RuntimeWarning: invalid value encountered in divide\n",
      "  pf = pf / self.data[\"occupancy_map\"]\n"
     ]
    },
    {
     "name": "stdout",
     "output_type": "stream",
     "text": [
      "Doing shuffle tests. This may take a while.\n"
     ]
    },
    {
     "name": "stderr",
     "output_type": "stream",
     "text": [
      "/home/austinbaggetta/csstorage3/CircleTrack/CircleTrackAnalysis/place_cells.py:44: RuntimeWarning: invalid value encountered in divide\n",
      "  velocity = dists / np.diff(t, prepend = 0) ## in seconds\n",
      "/home/austinbaggetta/csstorage3/CircleTrack/CircleTrackAnalysis/place_cells.py:392: RuntimeWarning: invalid value encountered in divide\n",
      "  pf = pf / self.data[\"occupancy_map\"]\n"
     ]
    },
    {
     "name": "stdout",
     "output_type": "stream",
     "text": [
      "Doing shuffle tests. This may take a while.\n"
     ]
    },
    {
     "name": "stderr",
     "output_type": "stream",
     "text": [
      "/home/austinbaggetta/csstorage3/CircleTrack/CircleTrackAnalysis/place_cells.py:458: RuntimeWarning: invalid value encountered in scalar divide\n",
      "  SI_z = (self.data[\"spatial_information\"][neuron] - np.mean(shuffled_SIs)) / np.std(\n",
      "/home/austinbaggetta/csstorage3/CircleTrack/CircleTrackAnalysis/place_cells.py:458: RuntimeWarning: invalid value encountered in scalar divide\n",
      "  SI_z = (self.data[\"spatial_information\"][neuron] - np.mean(shuffled_SIs)) / np.std(\n",
      "/home/austinbaggetta/csstorage3/CircleTrack/CircleTrackAnalysis/place_cells.py:44: RuntimeWarning: invalid value encountered in divide\n",
      "  velocity = dists / np.diff(t, prepend = 0) ## in seconds\n",
      "/home/austinbaggetta/csstorage3/CircleTrack/CircleTrackAnalysis/place_cells.py:392: RuntimeWarning: invalid value encountered in divide\n",
      "  pf = pf / self.data[\"occupancy_map\"]\n"
     ]
    },
    {
     "name": "stdout",
     "output_type": "stream",
     "text": [
      "Doing shuffle tests. This may take a while.\n"
     ]
    },
    {
     "name": "stderr",
     "output_type": "stream",
     "text": [
      "/home/austinbaggetta/csstorage3/CircleTrack/CircleTrackAnalysis/place_cells.py:44: RuntimeWarning: invalid value encountered in divide\n",
      "  velocity = dists / np.diff(t, prepend = 0) ## in seconds\n",
      "/home/austinbaggetta/csstorage3/CircleTrack/CircleTrackAnalysis/place_cells.py:392: RuntimeWarning: invalid value encountered in divide\n",
      "  pf = pf / self.data[\"occupancy_map\"]\n"
     ]
    },
    {
     "name": "stdout",
     "output_type": "stream",
     "text": [
      "Doing shuffle tests. This may take a while.\n"
     ]
    },
    {
     "name": "stderr",
     "output_type": "stream",
     "text": [
      "/home/austinbaggetta/csstorage3/CircleTrack/CircleTrackAnalysis/place_cells.py:44: RuntimeWarning: invalid value encountered in divide\n",
      "  velocity = dists / np.diff(t, prepend = 0) ## in seconds\n",
      "/home/austinbaggetta/csstorage3/CircleTrack/CircleTrackAnalysis/place_cells.py:392: RuntimeWarning: invalid value encountered in divide\n",
      "  pf = pf / self.data[\"occupancy_map\"]\n"
     ]
    },
    {
     "name": "stdout",
     "output_type": "stream",
     "text": [
      "Doing shuffle tests. This may take a while.\n"
     ]
    },
    {
     "name": "stderr",
     "output_type": "stream",
     "text": [
      "/home/austinbaggetta/csstorage3/CircleTrack/CircleTrackAnalysis/place_cells.py:44: RuntimeWarning: invalid value encountered in divide\n",
      "  velocity = dists / np.diff(t, prepend = 0) ## in seconds\n",
      "/home/austinbaggetta/csstorage3/CircleTrack/CircleTrackAnalysis/place_cells.py:392: RuntimeWarning: invalid value encountered in divide\n",
      "  pf = pf / self.data[\"occupancy_map\"]\n"
     ]
    },
    {
     "name": "stdout",
     "output_type": "stream",
     "text": [
      "Doing shuffle tests. This may take a while.\n"
     ]
    },
    {
     "name": "stderr",
     "output_type": "stream",
     "text": [
      "/home/austinbaggetta/csstorage3/CircleTrack/CircleTrackAnalysis/place_cells.py:44: RuntimeWarning: invalid value encountered in divide\n",
      "  velocity = dists / np.diff(t, prepend = 0) ## in seconds\n",
      "/home/austinbaggetta/csstorage3/CircleTrack/CircleTrackAnalysis/place_cells.py:392: RuntimeWarning: invalid value encountered in divide\n",
      "  pf = pf / self.data[\"occupancy_map\"]\n"
     ]
    },
    {
     "name": "stdout",
     "output_type": "stream",
     "text": [
      "Doing shuffle tests. This may take a while.\n"
     ]
    },
    {
     "name": "stderr",
     "output_type": "stream",
     "text": [
      "/home/austinbaggetta/csstorage3/CircleTrack/CircleTrackAnalysis/place_cells.py:44: RuntimeWarning: invalid value encountered in divide\n",
      "  velocity = dists / np.diff(t, prepend = 0) ## in seconds\n",
      "/home/austinbaggetta/csstorage3/CircleTrack/CircleTrackAnalysis/place_cells.py:392: RuntimeWarning: invalid value encountered in divide\n",
      "  pf = pf / self.data[\"occupancy_map\"]\n"
     ]
    },
    {
     "name": "stdout",
     "output_type": "stream",
     "text": [
      "Doing shuffle tests. This may take a while.\n"
     ]
    },
    {
     "name": "stderr",
     "output_type": "stream",
     "text": [
      "/home/austinbaggetta/csstorage3/CircleTrack/CircleTrackAnalysis/place_cells.py:458: RuntimeWarning: invalid value encountered in scalar divide\n",
      "  SI_z = (self.data[\"spatial_information\"][neuron] - np.mean(shuffled_SIs)) / np.std(\n",
      "/home/austinbaggetta/csstorage3/CircleTrack/CircleTrackAnalysis/place_cells.py:44: RuntimeWarning: invalid value encountered in divide\n",
      "  velocity = dists / np.diff(t, prepend = 0) ## in seconds\n",
      "/home/austinbaggetta/csstorage3/CircleTrack/CircleTrackAnalysis/place_cells.py:392: RuntimeWarning: invalid value encountered in divide\n",
      "  pf = pf / self.data[\"occupancy_map\"]\n"
     ]
    },
    {
     "name": "stdout",
     "output_type": "stream",
     "text": [
      "Doing shuffle tests. This may take a while.\n"
     ]
    },
    {
     "name": "stderr",
     "output_type": "stream",
     "text": [
      "/home/austinbaggetta/csstorage3/CircleTrack/CircleTrackAnalysis/place_cells.py:44: RuntimeWarning: invalid value encountered in divide\n",
      "  velocity = dists / np.diff(t, prepend = 0) ## in seconds\n",
      "/home/austinbaggetta/csstorage3/CircleTrack/CircleTrackAnalysis/place_cells.py:392: RuntimeWarning: invalid value encountered in divide\n",
      "  pf = pf / self.data[\"occupancy_map\"]\n"
     ]
    },
    {
     "name": "stdout",
     "output_type": "stream",
     "text": [
      "Doing shuffle tests. This may take a while.\n"
     ]
    },
    {
     "name": "stderr",
     "output_type": "stream",
     "text": [
      "/home/austinbaggetta/csstorage3/CircleTrack/CircleTrackAnalysis/place_cells.py:458: RuntimeWarning: invalid value encountered in scalar divide\n",
      "  SI_z = (self.data[\"spatial_information\"][neuron] - np.mean(shuffled_SIs)) / np.std(\n",
      "/home/austinbaggetta/csstorage3/CircleTrack/CircleTrackAnalysis/place_cells.py:44: RuntimeWarning: invalid value encountered in divide\n",
      "  velocity = dists / np.diff(t, prepend = 0) ## in seconds\n",
      "/home/austinbaggetta/csstorage3/CircleTrack/CircleTrackAnalysis/place_cells.py:392: RuntimeWarning: invalid value encountered in divide\n",
      "  pf = pf / self.data[\"occupancy_map\"]\n"
     ]
    },
    {
     "name": "stdout",
     "output_type": "stream",
     "text": [
      "Doing shuffle tests. This may take a while.\n"
     ]
    },
    {
     "name": "stderr",
     "output_type": "stream",
     "text": [
      "/home/austinbaggetta/csstorage3/CircleTrack/CircleTrackAnalysis/place_cells.py:44: RuntimeWarning: invalid value encountered in divide\n",
      "  velocity = dists / np.diff(t, prepend = 0) ## in seconds\n",
      "/home/austinbaggetta/csstorage3/CircleTrack/CircleTrackAnalysis/place_cells.py:392: RuntimeWarning: invalid value encountered in divide\n",
      "  pf = pf / self.data[\"occupancy_map\"]\n"
     ]
    },
    {
     "name": "stdout",
     "output_type": "stream",
     "text": [
      "Doing shuffle tests. This may take a while.\n"
     ]
    },
    {
     "name": "stderr",
     "output_type": "stream",
     "text": [
      "/home/austinbaggetta/csstorage3/CircleTrack/CircleTrackAnalysis/place_cells.py:44: RuntimeWarning: invalid value encountered in divide\n",
      "  velocity = dists / np.diff(t, prepend = 0) ## in seconds\n",
      "/home/austinbaggetta/csstorage3/CircleTrack/CircleTrackAnalysis/place_cells.py:392: RuntimeWarning: invalid value encountered in divide\n",
      "  pf = pf / self.data[\"occupancy_map\"]\n"
     ]
    },
    {
     "name": "stdout",
     "output_type": "stream",
     "text": [
      "Doing shuffle tests. This may take a while.\n"
     ]
    },
    {
     "name": "stderr",
     "output_type": "stream",
     "text": [
      "/home/austinbaggetta/csstorage3/CircleTrack/CircleTrackAnalysis/place_cells.py:44: RuntimeWarning: invalid value encountered in divide\n",
      "  velocity = dists / np.diff(t, prepend = 0) ## in seconds\n",
      "/home/austinbaggetta/csstorage3/CircleTrack/CircleTrackAnalysis/place_cells.py:392: RuntimeWarning: invalid value encountered in divide\n",
      "  pf = pf / self.data[\"occupancy_map\"]\n"
     ]
    },
    {
     "name": "stdout",
     "output_type": "stream",
     "text": [
      "Doing shuffle tests. This may take a while.\n"
     ]
    },
    {
     "name": "stderr",
     "output_type": "stream",
     "text": [
      "/home/austinbaggetta/csstorage3/CircleTrack/CircleTrackAnalysis/place_cells.py:44: RuntimeWarning: invalid value encountered in divide\n",
      "  velocity = dists / np.diff(t, prepend = 0) ## in seconds\n",
      "/home/austinbaggetta/csstorage3/CircleTrack/CircleTrackAnalysis/place_cells.py:392: RuntimeWarning: invalid value encountered in divide\n",
      "  pf = pf / self.data[\"occupancy_map\"]\n"
     ]
    },
    {
     "name": "stdout",
     "output_type": "stream",
     "text": [
      "Doing shuffle tests. This may take a while.\n"
     ]
    },
    {
     "name": "stderr",
     "output_type": "stream",
     "text": [
      "/home/austinbaggetta/csstorage3/CircleTrack/CircleTrackAnalysis/place_cells.py:44: RuntimeWarning: invalid value encountered in divide\n",
      "  velocity = dists / np.diff(t, prepend = 0) ## in seconds\n",
      "/home/austinbaggetta/csstorage3/CircleTrack/CircleTrackAnalysis/place_cells.py:392: RuntimeWarning: invalid value encountered in divide\n",
      "  pf = pf / self.data[\"occupancy_map\"]\n"
     ]
    },
    {
     "name": "stdout",
     "output_type": "stream",
     "text": [
      "Doing shuffle tests. This may take a while.\n"
     ]
    },
    {
     "name": "stderr",
     "output_type": "stream",
     "text": [
      "/home/austinbaggetta/csstorage3/CircleTrack/CircleTrackAnalysis/place_cells.py:44: RuntimeWarning: invalid value encountered in divide\n",
      "  velocity = dists / np.diff(t, prepend = 0) ## in seconds\n",
      "/home/austinbaggetta/csstorage3/CircleTrack/CircleTrackAnalysis/place_cells.py:392: RuntimeWarning: invalid value encountered in divide\n",
      "  pf = pf / self.data[\"occupancy_map\"]\n"
     ]
    },
    {
     "name": "stdout",
     "output_type": "stream",
     "text": [
      "Doing shuffle tests. This may take a while.\n"
     ]
    },
    {
     "name": "stderr",
     "output_type": "stream",
     "text": [
      "/home/austinbaggetta/csstorage3/CircleTrack/CircleTrackAnalysis/place_cells.py:44: RuntimeWarning: invalid value encountered in divide\n",
      "  velocity = dists / np.diff(t, prepend = 0) ## in seconds\n",
      "/home/austinbaggetta/csstorage3/CircleTrack/CircleTrackAnalysis/place_cells.py:392: RuntimeWarning: invalid value encountered in divide\n",
      "  pf = pf / self.data[\"occupancy_map\"]\n"
     ]
    },
    {
     "name": "stdout",
     "output_type": "stream",
     "text": [
      "Doing shuffle tests. This may take a while.\n"
     ]
    },
    {
     "name": "stderr",
     "output_type": "stream",
     "text": [
      "/home/austinbaggetta/csstorage3/CircleTrack/CircleTrackAnalysis/place_cells.py:44: RuntimeWarning: invalid value encountered in divide\n",
      "  velocity = dists / np.diff(t, prepend = 0) ## in seconds\n",
      "/home/austinbaggetta/csstorage3/CircleTrack/CircleTrackAnalysis/place_cells.py:392: RuntimeWarning: invalid value encountered in divide\n",
      "  pf = pf / self.data[\"occupancy_map\"]\n"
     ]
    },
    {
     "name": "stdout",
     "output_type": "stream",
     "text": [
      "Doing shuffle tests. This may take a while.\n"
     ]
    },
    {
     "name": "stderr",
     "output_type": "stream",
     "text": [
      "/home/austinbaggetta/csstorage3/CircleTrack/CircleTrackAnalysis/place_cells.py:44: RuntimeWarning: invalid value encountered in divide\n",
      "  velocity = dists / np.diff(t, prepend = 0) ## in seconds\n",
      "/home/austinbaggetta/csstorage3/CircleTrack/CircleTrackAnalysis/place_cells.py:392: RuntimeWarning: invalid value encountered in divide\n",
      "  pf = pf / self.data[\"occupancy_map\"]\n"
     ]
    },
    {
     "name": "stdout",
     "output_type": "stream",
     "text": [
      "Doing shuffle tests. This may take a while.\n"
     ]
    },
    {
     "name": "stderr",
     "output_type": "stream",
     "text": [
      "/home/austinbaggetta/csstorage3/CircleTrack/CircleTrackAnalysis/place_cells.py:44: RuntimeWarning: invalid value encountered in divide\n",
      "  velocity = dists / np.diff(t, prepend = 0) ## in seconds\n",
      "/home/austinbaggetta/csstorage3/CircleTrack/CircleTrackAnalysis/place_cells.py:392: RuntimeWarning: invalid value encountered in divide\n",
      "  pf = pf / self.data[\"occupancy_map\"]\n"
     ]
    },
    {
     "name": "stdout",
     "output_type": "stream",
     "text": [
      "Doing shuffle tests. This may take a while.\n"
     ]
    },
    {
     "name": "stderr",
     "output_type": "stream",
     "text": [
      "/home/austinbaggetta/csstorage3/CircleTrack/CircleTrackAnalysis/place_cells.py:44: RuntimeWarning: invalid value encountered in divide\n",
      "  velocity = dists / np.diff(t, prepend = 0) ## in seconds\n",
      "/home/austinbaggetta/csstorage3/CircleTrack/CircleTrackAnalysis/place_cells.py:392: RuntimeWarning: invalid value encountered in divide\n",
      "  pf = pf / self.data[\"occupancy_map\"]\n"
     ]
    },
    {
     "name": "stdout",
     "output_type": "stream",
     "text": [
      "Doing shuffle tests. This may take a while.\n"
     ]
    },
    {
     "name": "stderr",
     "output_type": "stream",
     "text": [
      "/home/austinbaggetta/csstorage3/CircleTrack/CircleTrackAnalysis/place_cells.py:44: RuntimeWarning: invalid value encountered in divide\n",
      "  velocity = dists / np.diff(t, prepend = 0) ## in seconds\n",
      "/home/austinbaggetta/csstorage3/CircleTrack/CircleTrackAnalysis/place_cells.py:392: RuntimeWarning: invalid value encountered in divide\n",
      "  pf = pf / self.data[\"occupancy_map\"]\n"
     ]
    },
    {
     "name": "stdout",
     "output_type": "stream",
     "text": [
      "Doing shuffle tests. This may take a while.\n"
     ]
    },
    {
     "name": "stderr",
     "output_type": "stream",
     "text": [
      "/home/austinbaggetta/csstorage3/CircleTrack/CircleTrackAnalysis/place_cells.py:44: RuntimeWarning: invalid value encountered in divide\n",
      "  velocity = dists / np.diff(t, prepend = 0) ## in seconds\n",
      "/home/austinbaggetta/csstorage3/CircleTrack/CircleTrackAnalysis/place_cells.py:392: RuntimeWarning: invalid value encountered in divide\n",
      "  pf = pf / self.data[\"occupancy_map\"]\n"
     ]
    },
    {
     "name": "stdout",
     "output_type": "stream",
     "text": [
      "Doing shuffle tests. This may take a while.\n"
     ]
    },
    {
     "name": "stderr",
     "output_type": "stream",
     "text": [
      "/home/austinbaggetta/csstorage3/CircleTrack/CircleTrackAnalysis/place_cells.py:44: RuntimeWarning: invalid value encountered in divide\n",
      "  velocity = dists / np.diff(t, prepend = 0) ## in seconds\n",
      "/home/austinbaggetta/csstorage3/CircleTrack/CircleTrackAnalysis/place_cells.py:392: RuntimeWarning: invalid value encountered in divide\n",
      "  pf = pf / self.data[\"occupancy_map\"]\n"
     ]
    },
    {
     "name": "stdout",
     "output_type": "stream",
     "text": [
      "Doing shuffle tests. This may take a while.\n"
     ]
    },
    {
     "name": "stderr",
     "output_type": "stream",
     "text": [
      "/home/austinbaggetta/csstorage3/CircleTrack/CircleTrackAnalysis/place_cells.py:44: RuntimeWarning: invalid value encountered in divide\n",
      "  velocity = dists / np.diff(t, prepend = 0) ## in seconds\n",
      "/home/austinbaggetta/csstorage3/CircleTrack/CircleTrackAnalysis/place_cells.py:392: RuntimeWarning: invalid value encountered in divide\n",
      "  pf = pf / self.data[\"occupancy_map\"]\n"
     ]
    },
    {
     "name": "stdout",
     "output_type": "stream",
     "text": [
      "Doing shuffle tests. This may take a while.\n"
     ]
    },
    {
     "name": "stderr",
     "output_type": "stream",
     "text": [
      "/home/austinbaggetta/csstorage3/CircleTrack/CircleTrackAnalysis/place_cells.py:44: RuntimeWarning: invalid value encountered in divide\n",
      "  velocity = dists / np.diff(t, prepend = 0) ## in seconds\n",
      "/home/austinbaggetta/csstorage3/CircleTrack/CircleTrackAnalysis/place_cells.py:392: RuntimeWarning: invalid value encountered in divide\n",
      "  pf = pf / self.data[\"occupancy_map\"]\n"
     ]
    },
    {
     "name": "stdout",
     "output_type": "stream",
     "text": [
      "Doing shuffle tests. This may take a while.\n"
     ]
    },
    {
     "name": "stderr",
     "output_type": "stream",
     "text": [
      "/home/austinbaggetta/csstorage3/CircleTrack/CircleTrackAnalysis/place_cells.py:44: RuntimeWarning: invalid value encountered in divide\n",
      "  velocity = dists / np.diff(t, prepend = 0) ## in seconds\n",
      "/home/austinbaggetta/csstorage3/CircleTrack/CircleTrackAnalysis/place_cells.py:392: RuntimeWarning: invalid value encountered in divide\n",
      "  pf = pf / self.data[\"occupancy_map\"]\n"
     ]
    },
    {
     "name": "stdout",
     "output_type": "stream",
     "text": [
      "Doing shuffle tests. This may take a while.\n"
     ]
    },
    {
     "name": "stderr",
     "output_type": "stream",
     "text": [
      "/home/austinbaggetta/csstorage3/CircleTrack/CircleTrackAnalysis/place_cells.py:44: RuntimeWarning: invalid value encountered in divide\n",
      "  velocity = dists / np.diff(t, prepend = 0) ## in seconds\n",
      "/home/austinbaggetta/csstorage3/CircleTrack/CircleTrackAnalysis/place_cells.py:392: RuntimeWarning: invalid value encountered in divide\n",
      "  pf = pf / self.data[\"occupancy_map\"]\n"
     ]
    },
    {
     "name": "stdout",
     "output_type": "stream",
     "text": [
      "Doing shuffle tests. This may take a while.\n"
     ]
    },
    {
     "name": "stderr",
     "output_type": "stream",
     "text": [
      "/home/austinbaggetta/csstorage3/CircleTrack/CircleTrackAnalysis/place_cells.py:44: RuntimeWarning: invalid value encountered in divide\n",
      "  velocity = dists / np.diff(t, prepend = 0) ## in seconds\n",
      "/home/austinbaggetta/csstorage3/CircleTrack/CircleTrackAnalysis/place_cells.py:392: RuntimeWarning: invalid value encountered in divide\n",
      "  pf = pf / self.data[\"occupancy_map\"]\n"
     ]
    },
    {
     "name": "stdout",
     "output_type": "stream",
     "text": [
      "Doing shuffle tests. This may take a while.\n"
     ]
    },
    {
     "name": "stderr",
     "output_type": "stream",
     "text": [
      "/home/austinbaggetta/csstorage3/CircleTrack/CircleTrackAnalysis/place_cells.py:44: RuntimeWarning: invalid value encountered in divide\n",
      "  velocity = dists / np.diff(t, prepend = 0) ## in seconds\n",
      "/home/austinbaggetta/csstorage3/CircleTrack/CircleTrackAnalysis/place_cells.py:392: RuntimeWarning: invalid value encountered in divide\n",
      "  pf = pf / self.data[\"occupancy_map\"]\n"
     ]
    },
    {
     "name": "stdout",
     "output_type": "stream",
     "text": [
      "Doing shuffle tests. This may take a while.\n"
     ]
    },
    {
     "name": "stderr",
     "output_type": "stream",
     "text": [
      "/home/austinbaggetta/csstorage3/CircleTrack/CircleTrackAnalysis/place_cells.py:44: RuntimeWarning: invalid value encountered in divide\n",
      "  velocity = dists / np.diff(t, prepend = 0) ## in seconds\n",
      "/home/austinbaggetta/csstorage3/CircleTrack/CircleTrackAnalysis/place_cells.py:392: RuntimeWarning: invalid value encountered in divide\n",
      "  pf = pf / self.data[\"occupancy_map\"]\n"
     ]
    },
    {
     "name": "stdout",
     "output_type": "stream",
     "text": [
      "Doing shuffle tests. This may take a while.\n"
     ]
    },
    {
     "name": "stderr",
     "output_type": "stream",
     "text": [
      "/home/austinbaggetta/csstorage3/CircleTrack/CircleTrackAnalysis/place_cells.py:458: RuntimeWarning: invalid value encountered in scalar divide\n",
      "  SI_z = (self.data[\"spatial_information\"][neuron] - np.mean(shuffled_SIs)) / np.std(\n",
      "/home/austinbaggetta/csstorage3/CircleTrack/CircleTrackAnalysis/place_cells.py:458: RuntimeWarning: invalid value encountered in scalar divide\n",
      "  SI_z = (self.data[\"spatial_information\"][neuron] - np.mean(shuffled_SIs)) / np.std(\n",
      "/home/austinbaggetta/csstorage3/CircleTrack/CircleTrackAnalysis/place_cells.py:44: RuntimeWarning: invalid value encountered in divide\n",
      "  velocity = dists / np.diff(t, prepend = 0) ## in seconds\n",
      "/home/austinbaggetta/csstorage3/CircleTrack/CircleTrackAnalysis/place_cells.py:392: RuntimeWarning: invalid value encountered in divide\n",
      "  pf = pf / self.data[\"occupancy_map\"]\n"
     ]
    },
    {
     "name": "stdout",
     "output_type": "stream",
     "text": [
      "Doing shuffle tests. This may take a while.\n"
     ]
    },
    {
     "name": "stderr",
     "output_type": "stream",
     "text": [
      "/home/austinbaggetta/csstorage3/CircleTrack/CircleTrackAnalysis/place_cells.py:44: RuntimeWarning: invalid value encountered in divide\n",
      "  velocity = dists / np.diff(t, prepend = 0) ## in seconds\n",
      "/home/austinbaggetta/csstorage3/CircleTrack/CircleTrackAnalysis/place_cells.py:392: RuntimeWarning: invalid value encountered in divide\n",
      "  pf = pf / self.data[\"occupancy_map\"]\n"
     ]
    },
    {
     "name": "stdout",
     "output_type": "stream",
     "text": [
      "Doing shuffle tests. This may take a while.\n"
     ]
    },
    {
     "name": "stderr",
     "output_type": "stream",
     "text": [
      "/home/austinbaggetta/csstorage3/CircleTrack/CircleTrackAnalysis/place_cells.py:44: RuntimeWarning: invalid value encountered in divide\n",
      "  velocity = dists / np.diff(t, prepend = 0) ## in seconds\n",
      "/home/austinbaggetta/csstorage3/CircleTrack/CircleTrackAnalysis/place_cells.py:392: RuntimeWarning: invalid value encountered in divide\n",
      "  pf = pf / self.data[\"occupancy_map\"]\n"
     ]
    },
    {
     "name": "stdout",
     "output_type": "stream",
     "text": [
      "Doing shuffle tests. This may take a while.\n"
     ]
    },
    {
     "name": "stderr",
     "output_type": "stream",
     "text": [
      "/home/austinbaggetta/csstorage3/CircleTrack/CircleTrackAnalysis/place_cells.py:44: RuntimeWarning: invalid value encountered in divide\n",
      "  velocity = dists / np.diff(t, prepend = 0) ## in seconds\n",
      "/home/austinbaggetta/csstorage3/CircleTrack/CircleTrackAnalysis/place_cells.py:392: RuntimeWarning: invalid value encountered in divide\n",
      "  pf = pf / self.data[\"occupancy_map\"]\n"
     ]
    },
    {
     "name": "stdout",
     "output_type": "stream",
     "text": [
      "Doing shuffle tests. This may take a while.\n"
     ]
    },
    {
     "name": "stderr",
     "output_type": "stream",
     "text": [
      "/home/austinbaggetta/csstorage3/CircleTrack/CircleTrackAnalysis/place_cells.py:44: RuntimeWarning: invalid value encountered in divide\n",
      "  velocity = dists / np.diff(t, prepend = 0) ## in seconds\n",
      "/home/austinbaggetta/csstorage3/CircleTrack/CircleTrackAnalysis/place_cells.py:392: RuntimeWarning: invalid value encountered in divide\n",
      "  pf = pf / self.data[\"occupancy_map\"]\n"
     ]
    },
    {
     "name": "stdout",
     "output_type": "stream",
     "text": [
      "Doing shuffle tests. This may take a while.\n"
     ]
    },
    {
     "name": "stderr",
     "output_type": "stream",
     "text": [
      "/home/austinbaggetta/csstorage3/CircleTrack/CircleTrackAnalysis/place_cells.py:44: RuntimeWarning: invalid value encountered in divide\n",
      "  velocity = dists / np.diff(t, prepend = 0) ## in seconds\n",
      "/home/austinbaggetta/csstorage3/CircleTrack/CircleTrackAnalysis/place_cells.py:392: RuntimeWarning: invalid value encountered in divide\n",
      "  pf = pf / self.data[\"occupancy_map\"]\n"
     ]
    },
    {
     "name": "stdout",
     "output_type": "stream",
     "text": [
      "Doing shuffle tests. This may take a while.\n"
     ]
    },
    {
     "name": "stderr",
     "output_type": "stream",
     "text": [
      "/home/austinbaggetta/csstorage3/CircleTrack/CircleTrackAnalysis/place_cells.py:458: RuntimeWarning: invalid value encountered in scalar divide\n",
      "  SI_z = (self.data[\"spatial_information\"][neuron] - np.mean(shuffled_SIs)) / np.std(\n",
      "/home/austinbaggetta/csstorage3/CircleTrack/CircleTrackAnalysis/place_cells.py:44: RuntimeWarning: invalid value encountered in divide\n",
      "  velocity = dists / np.diff(t, prepend = 0) ## in seconds\n",
      "/home/austinbaggetta/csstorage3/CircleTrack/CircleTrackAnalysis/place_cells.py:392: RuntimeWarning: invalid value encountered in divide\n",
      "  pf = pf / self.data[\"occupancy_map\"]\n"
     ]
    },
    {
     "name": "stdout",
     "output_type": "stream",
     "text": [
      "Doing shuffle tests. This may take a while.\n"
     ]
    },
    {
     "name": "stderr",
     "output_type": "stream",
     "text": [
      "/home/austinbaggetta/csstorage3/CircleTrack/CircleTrackAnalysis/place_cells.py:44: RuntimeWarning: invalid value encountered in divide\n",
      "  velocity = dists / np.diff(t, prepend = 0) ## in seconds\n",
      "/home/austinbaggetta/csstorage3/CircleTrack/CircleTrackAnalysis/place_cells.py:392: RuntimeWarning: invalid value encountered in divide\n",
      "  pf = pf / self.data[\"occupancy_map\"]\n"
     ]
    },
    {
     "name": "stdout",
     "output_type": "stream",
     "text": [
      "Doing shuffle tests. This may take a while.\n"
     ]
    },
    {
     "name": "stderr",
     "output_type": "stream",
     "text": [
      "/home/austinbaggetta/csstorage3/CircleTrack/CircleTrackAnalysis/place_cells.py:44: RuntimeWarning: invalid value encountered in divide\n",
      "  velocity = dists / np.diff(t, prepend = 0) ## in seconds\n",
      "/home/austinbaggetta/csstorage3/CircleTrack/CircleTrackAnalysis/place_cells.py:392: RuntimeWarning: invalid value encountered in divide\n",
      "  pf = pf / self.data[\"occupancy_map\"]\n"
     ]
    },
    {
     "name": "stdout",
     "output_type": "stream",
     "text": [
      "Doing shuffle tests. This may take a while.\n"
     ]
    },
    {
     "name": "stderr",
     "output_type": "stream",
     "text": [
      "/home/austinbaggetta/csstorage3/CircleTrack/CircleTrackAnalysis/place_cells.py:44: RuntimeWarning: invalid value encountered in divide\n",
      "  velocity = dists / np.diff(t, prepend = 0) ## in seconds\n",
      "/home/austinbaggetta/csstorage3/CircleTrack/CircleTrackAnalysis/place_cells.py:392: RuntimeWarning: invalid value encountered in divide\n",
      "  pf = pf / self.data[\"occupancy_map\"]\n"
     ]
    },
    {
     "name": "stdout",
     "output_type": "stream",
     "text": [
      "Doing shuffle tests. This may take a while.\n"
     ]
    },
    {
     "name": "stderr",
     "output_type": "stream",
     "text": [
      "/home/austinbaggetta/csstorage3/CircleTrack/CircleTrackAnalysis/place_cells.py:44: RuntimeWarning: invalid value encountered in divide\n",
      "  velocity = dists / np.diff(t, prepend = 0) ## in seconds\n",
      "/home/austinbaggetta/csstorage3/CircleTrack/CircleTrackAnalysis/place_cells.py:392: RuntimeWarning: invalid value encountered in divide\n",
      "  pf = pf / self.data[\"occupancy_map\"]\n"
     ]
    },
    {
     "name": "stdout",
     "output_type": "stream",
     "text": [
      "Doing shuffle tests. This may take a while.\n"
     ]
    },
    {
     "name": "stderr",
     "output_type": "stream",
     "text": [
      "/home/austinbaggetta/csstorage3/CircleTrack/CircleTrackAnalysis/place_cells.py:44: RuntimeWarning: invalid value encountered in divide\n",
      "  velocity = dists / np.diff(t, prepend = 0) ## in seconds\n",
      "/home/austinbaggetta/csstorage3/CircleTrack/CircleTrackAnalysis/place_cells.py:392: RuntimeWarning: invalid value encountered in divide\n",
      "  pf = pf / self.data[\"occupancy_map\"]\n"
     ]
    },
    {
     "name": "stdout",
     "output_type": "stream",
     "text": [
      "Doing shuffle tests. This may take a while.\n"
     ]
    },
    {
     "name": "stderr",
     "output_type": "stream",
     "text": [
      "/home/austinbaggetta/csstorage3/CircleTrack/CircleTrackAnalysis/place_cells.py:458: RuntimeWarning: invalid value encountered in scalar divide\n",
      "  SI_z = (self.data[\"spatial_information\"][neuron] - np.mean(shuffled_SIs)) / np.std(\n",
      "/home/austinbaggetta/csstorage3/CircleTrack/CircleTrackAnalysis/place_cells.py:458: RuntimeWarning: invalid value encountered in scalar divide\n",
      "  SI_z = (self.data[\"spatial_information\"][neuron] - np.mean(shuffled_SIs)) / np.std(\n",
      "/home/austinbaggetta/csstorage3/CircleTrack/CircleTrackAnalysis/place_cells.py:44: RuntimeWarning: invalid value encountered in divide\n",
      "  velocity = dists / np.diff(t, prepend = 0) ## in seconds\n",
      "/home/austinbaggetta/csstorage3/CircleTrack/CircleTrackAnalysis/place_cells.py:392: RuntimeWarning: invalid value encountered in divide\n",
      "  pf = pf / self.data[\"occupancy_map\"]\n"
     ]
    },
    {
     "name": "stdout",
     "output_type": "stream",
     "text": [
      "Doing shuffle tests. This may take a while.\n"
     ]
    },
    {
     "name": "stderr",
     "output_type": "stream",
     "text": [
      "/home/austinbaggetta/csstorage3/CircleTrack/CircleTrackAnalysis/place_cells.py:44: RuntimeWarning: invalid value encountered in divide\n",
      "  velocity = dists / np.diff(t, prepend = 0) ## in seconds\n",
      "/home/austinbaggetta/csstorage3/CircleTrack/CircleTrackAnalysis/place_cells.py:392: RuntimeWarning: invalid value encountered in divide\n",
      "  pf = pf / self.data[\"occupancy_map\"]\n"
     ]
    },
    {
     "name": "stdout",
     "output_type": "stream",
     "text": [
      "Doing shuffle tests. This may take a while.\n"
     ]
    },
    {
     "name": "stderr",
     "output_type": "stream",
     "text": [
      "/home/austinbaggetta/csstorage3/CircleTrack/CircleTrackAnalysis/place_cells.py:458: RuntimeWarning: invalid value encountered in scalar divide\n",
      "  SI_z = (self.data[\"spatial_information\"][neuron] - np.mean(shuffled_SIs)) / np.std(\n",
      "/home/austinbaggetta/csstorage3/CircleTrack/CircleTrackAnalysis/place_cells.py:44: RuntimeWarning: invalid value encountered in divide\n",
      "  velocity = dists / np.diff(t, prepend = 0) ## in seconds\n",
      "/home/austinbaggetta/csstorage3/CircleTrack/CircleTrackAnalysis/place_cells.py:392: RuntimeWarning: invalid value encountered in divide\n",
      "  pf = pf / self.data[\"occupancy_map\"]\n"
     ]
    },
    {
     "name": "stdout",
     "output_type": "stream",
     "text": [
      "Doing shuffle tests. This may take a while.\n"
     ]
    },
    {
     "name": "stderr",
     "output_type": "stream",
     "text": [
      "/home/austinbaggetta/csstorage3/CircleTrack/CircleTrackAnalysis/place_cells.py:44: RuntimeWarning: invalid value encountered in divide\n",
      "  velocity = dists / np.diff(t, prepend = 0) ## in seconds\n",
      "/home/austinbaggetta/csstorage3/CircleTrack/CircleTrackAnalysis/place_cells.py:392: RuntimeWarning: invalid value encountered in divide\n",
      "  pf = pf / self.data[\"occupancy_map\"]\n"
     ]
    },
    {
     "name": "stdout",
     "output_type": "stream",
     "text": [
      "Doing shuffle tests. This may take a while.\n"
     ]
    },
    {
     "name": "stderr",
     "output_type": "stream",
     "text": [
      "/home/austinbaggetta/csstorage3/CircleTrack/CircleTrackAnalysis/place_cells.py:44: RuntimeWarning: invalid value encountered in divide\n",
      "  velocity = dists / np.diff(t, prepend = 0) ## in seconds\n",
      "/home/austinbaggetta/csstorage3/CircleTrack/CircleTrackAnalysis/place_cells.py:392: RuntimeWarning: invalid value encountered in divide\n",
      "  pf = pf / self.data[\"occupancy_map\"]\n"
     ]
    },
    {
     "name": "stdout",
     "output_type": "stream",
     "text": [
      "Doing shuffle tests. This may take a while.\n"
     ]
    },
    {
     "name": "stderr",
     "output_type": "stream",
     "text": [
      "/home/austinbaggetta/csstorage3/CircleTrack/CircleTrackAnalysis/place_cells.py:44: RuntimeWarning: invalid value encountered in divide\n",
      "  velocity = dists / np.diff(t, prepend = 0) ## in seconds\n",
      "/home/austinbaggetta/csstorage3/CircleTrack/CircleTrackAnalysis/place_cells.py:392: RuntimeWarning: invalid value encountered in divide\n",
      "  pf = pf / self.data[\"occupancy_map\"]\n"
     ]
    },
    {
     "name": "stdout",
     "output_type": "stream",
     "text": [
      "Doing shuffle tests. This may take a while.\n"
     ]
    },
    {
     "name": "stderr",
     "output_type": "stream",
     "text": [
      "/home/austinbaggetta/csstorage3/CircleTrack/CircleTrackAnalysis/place_cells.py:44: RuntimeWarning: invalid value encountered in divide\n",
      "  velocity = dists / np.diff(t, prepend = 0) ## in seconds\n",
      "/home/austinbaggetta/csstorage3/CircleTrack/CircleTrackAnalysis/place_cells.py:392: RuntimeWarning: invalid value encountered in divide\n",
      "  pf = pf / self.data[\"occupancy_map\"]\n"
     ]
    },
    {
     "name": "stdout",
     "output_type": "stream",
     "text": [
      "Doing shuffle tests. This may take a while.\n"
     ]
    },
    {
     "name": "stderr",
     "output_type": "stream",
     "text": [
      "/home/austinbaggetta/csstorage3/CircleTrack/CircleTrackAnalysis/place_cells.py:44: RuntimeWarning: invalid value encountered in divide\n",
      "  velocity = dists / np.diff(t, prepend = 0) ## in seconds\n",
      "/home/austinbaggetta/csstorage3/CircleTrack/CircleTrackAnalysis/place_cells.py:392: RuntimeWarning: invalid value encountered in divide\n",
      "  pf = pf / self.data[\"occupancy_map\"]\n"
     ]
    },
    {
     "name": "stdout",
     "output_type": "stream",
     "text": [
      "Doing shuffle tests. This may take a while.\n"
     ]
    },
    {
     "name": "stderr",
     "output_type": "stream",
     "text": [
      "/home/austinbaggetta/csstorage3/CircleTrack/CircleTrackAnalysis/place_cells.py:44: RuntimeWarning: invalid value encountered in divide\n",
      "  velocity = dists / np.diff(t, prepend = 0) ## in seconds\n",
      "/home/austinbaggetta/csstorage3/CircleTrack/CircleTrackAnalysis/place_cells.py:392: RuntimeWarning: invalid value encountered in divide\n",
      "  pf = pf / self.data[\"occupancy_map\"]\n"
     ]
    },
    {
     "name": "stdout",
     "output_type": "stream",
     "text": [
      "Doing shuffle tests. This may take a while.\n"
     ]
    },
    {
     "name": "stderr",
     "output_type": "stream",
     "text": [
      "/home/austinbaggetta/csstorage3/CircleTrack/CircleTrackAnalysis/place_cells.py:44: RuntimeWarning: invalid value encountered in divide\n",
      "  velocity = dists / np.diff(t, prepend = 0) ## in seconds\n",
      "/home/austinbaggetta/csstorage3/CircleTrack/CircleTrackAnalysis/place_cells.py:392: RuntimeWarning: invalid value encountered in divide\n",
      "  pf = pf / self.data[\"occupancy_map\"]\n"
     ]
    },
    {
     "name": "stdout",
     "output_type": "stream",
     "text": [
      "Doing shuffle tests. This may take a while.\n"
     ]
    },
    {
     "name": "stderr",
     "output_type": "stream",
     "text": [
      "/home/austinbaggetta/csstorage3/CircleTrack/CircleTrackAnalysis/place_cells.py:44: RuntimeWarning: invalid value encountered in divide\n",
      "  velocity = dists / np.diff(t, prepend = 0) ## in seconds\n",
      "/home/austinbaggetta/csstorage3/CircleTrack/CircleTrackAnalysis/place_cells.py:392: RuntimeWarning: invalid value encountered in divide\n",
      "  pf = pf / self.data[\"occupancy_map\"]\n"
     ]
    },
    {
     "name": "stdout",
     "output_type": "stream",
     "text": [
      "Doing shuffle tests. This may take a while.\n"
     ]
    },
    {
     "name": "stderr",
     "output_type": "stream",
     "text": [
      "/home/austinbaggetta/csstorage3/CircleTrack/CircleTrackAnalysis/place_cells.py:44: RuntimeWarning: invalid value encountered in divide\n",
      "  velocity = dists / np.diff(t, prepend = 0) ## in seconds\n",
      "/home/austinbaggetta/csstorage3/CircleTrack/CircleTrackAnalysis/place_cells.py:392: RuntimeWarning: invalid value encountered in divide\n",
      "  pf = pf / self.data[\"occupancy_map\"]\n"
     ]
    },
    {
     "name": "stdout",
     "output_type": "stream",
     "text": [
      "Doing shuffle tests. This may take a while.\n"
     ]
    },
    {
     "name": "stderr",
     "output_type": "stream",
     "text": [
      "/home/austinbaggetta/csstorage3/CircleTrack/CircleTrackAnalysis/place_cells.py:44: RuntimeWarning: invalid value encountered in divide\n",
      "  velocity = dists / np.diff(t, prepend = 0) ## in seconds\n",
      "/home/austinbaggetta/csstorage3/CircleTrack/CircleTrackAnalysis/place_cells.py:392: RuntimeWarning: invalid value encountered in divide\n",
      "  pf = pf / self.data[\"occupancy_map\"]\n"
     ]
    },
    {
     "name": "stdout",
     "output_type": "stream",
     "text": [
      "Doing shuffle tests. This may take a while.\n"
     ]
    },
    {
     "name": "stderr",
     "output_type": "stream",
     "text": [
      "/home/austinbaggetta/csstorage3/CircleTrack/CircleTrackAnalysis/place_cells.py:44: RuntimeWarning: invalid value encountered in divide\n",
      "  velocity = dists / np.diff(t, prepend = 0) ## in seconds\n",
      "/home/austinbaggetta/csstorage3/CircleTrack/CircleTrackAnalysis/place_cells.py:392: RuntimeWarning: invalid value encountered in divide\n",
      "  pf = pf / self.data[\"occupancy_map\"]\n"
     ]
    },
    {
     "name": "stdout",
     "output_type": "stream",
     "text": [
      "Doing shuffle tests. This may take a while.\n"
     ]
    },
    {
     "name": "stderr",
     "output_type": "stream",
     "text": [
      "/home/austinbaggetta/csstorage3/CircleTrack/CircleTrackAnalysis/place_cells.py:44: RuntimeWarning: invalid value encountered in divide\n",
      "  velocity = dists / np.diff(t, prepend = 0) ## in seconds\n",
      "/home/austinbaggetta/csstorage3/CircleTrack/CircleTrackAnalysis/place_cells.py:392: RuntimeWarning: invalid value encountered in divide\n",
      "  pf = pf / self.data[\"occupancy_map\"]\n"
     ]
    },
    {
     "name": "stdout",
     "output_type": "stream",
     "text": [
      "Doing shuffle tests. This may take a while.\n"
     ]
    },
    {
     "name": "stderr",
     "output_type": "stream",
     "text": [
      "/home/austinbaggetta/csstorage3/CircleTrack/CircleTrackAnalysis/place_cells.py:44: RuntimeWarning: invalid value encountered in divide\n",
      "  velocity = dists / np.diff(t, prepend = 0) ## in seconds\n",
      "/home/austinbaggetta/csstorage3/CircleTrack/CircleTrackAnalysis/place_cells.py:392: RuntimeWarning: invalid value encountered in divide\n",
      "  pf = pf / self.data[\"occupancy_map\"]\n"
     ]
    },
    {
     "name": "stdout",
     "output_type": "stream",
     "text": [
      "Doing shuffle tests. This may take a while.\n"
     ]
    },
    {
     "name": "stderr",
     "output_type": "stream",
     "text": [
      "/home/austinbaggetta/csstorage3/CircleTrack/CircleTrackAnalysis/place_cells.py:458: RuntimeWarning: invalid value encountered in scalar divide\n",
      "  SI_z = (self.data[\"spatial_information\"][neuron] - np.mean(shuffled_SIs)) / np.std(\n",
      "/home/austinbaggetta/csstorage3/CircleTrack/CircleTrackAnalysis/place_cells.py:44: RuntimeWarning: invalid value encountered in divide\n",
      "  velocity = dists / np.diff(t, prepend = 0) ## in seconds\n",
      "/home/austinbaggetta/csstorage3/CircleTrack/CircleTrackAnalysis/place_cells.py:392: RuntimeWarning: invalid value encountered in divide\n",
      "  pf = pf / self.data[\"occupancy_map\"]\n"
     ]
    },
    {
     "name": "stdout",
     "output_type": "stream",
     "text": [
      "Doing shuffle tests. This may take a while.\n"
     ]
    },
    {
     "name": "stderr",
     "output_type": "stream",
     "text": [
      "/home/austinbaggetta/csstorage3/CircleTrack/CircleTrackAnalysis/place_cells.py:44: RuntimeWarning: invalid value encountered in divide\n",
      "  velocity = dists / np.diff(t, prepend = 0) ## in seconds\n",
      "/home/austinbaggetta/csstorage3/CircleTrack/CircleTrackAnalysis/place_cells.py:392: RuntimeWarning: invalid value encountered in divide\n",
      "  pf = pf / self.data[\"occupancy_map\"]\n"
     ]
    },
    {
     "name": "stdout",
     "output_type": "stream",
     "text": [
      "Doing shuffle tests. This may take a while.\n"
     ]
    },
    {
     "name": "stderr",
     "output_type": "stream",
     "text": [
      "/home/austinbaggetta/csstorage3/CircleTrack/CircleTrackAnalysis/place_cells.py:44: RuntimeWarning: invalid value encountered in divide\n",
      "  velocity = dists / np.diff(t, prepend = 0) ## in seconds\n",
      "/home/austinbaggetta/csstorage3/CircleTrack/CircleTrackAnalysis/place_cells.py:392: RuntimeWarning: invalid value encountered in divide\n",
      "  pf = pf / self.data[\"occupancy_map\"]\n"
     ]
    },
    {
     "name": "stdout",
     "output_type": "stream",
     "text": [
      "Doing shuffle tests. This may take a while.\n"
     ]
    },
    {
     "name": "stderr",
     "output_type": "stream",
     "text": [
      "/home/austinbaggetta/csstorage3/CircleTrack/CircleTrackAnalysis/place_cells.py:44: RuntimeWarning: invalid value encountered in divide\n",
      "  velocity = dists / np.diff(t, prepend = 0) ## in seconds\n",
      "/home/austinbaggetta/csstorage3/CircleTrack/CircleTrackAnalysis/place_cells.py:392: RuntimeWarning: invalid value encountered in divide\n",
      "  pf = pf / self.data[\"occupancy_map\"]\n"
     ]
    },
    {
     "name": "stdout",
     "output_type": "stream",
     "text": [
      "Doing shuffle tests. This may take a while.\n"
     ]
    },
    {
     "name": "stderr",
     "output_type": "stream",
     "text": [
      "/home/austinbaggetta/csstorage3/CircleTrack/CircleTrackAnalysis/place_cells.py:458: RuntimeWarning: invalid value encountered in scalar divide\n",
      "  SI_z = (self.data[\"spatial_information\"][neuron] - np.mean(shuffled_SIs)) / np.std(\n",
      "/home/austinbaggetta/csstorage3/CircleTrack/CircleTrackAnalysis/place_cells.py:44: RuntimeWarning: invalid value encountered in divide\n",
      "  velocity = dists / np.diff(t, prepend = 0) ## in seconds\n",
      "/home/austinbaggetta/csstorage3/CircleTrack/CircleTrackAnalysis/place_cells.py:392: RuntimeWarning: invalid value encountered in divide\n",
      "  pf = pf / self.data[\"occupancy_map\"]\n"
     ]
    },
    {
     "name": "stdout",
     "output_type": "stream",
     "text": [
      "Doing shuffle tests. This may take a while.\n"
     ]
    },
    {
     "name": "stderr",
     "output_type": "stream",
     "text": [
      "/home/austinbaggetta/csstorage3/CircleTrack/CircleTrackAnalysis/place_cells.py:44: RuntimeWarning: invalid value encountered in divide\n",
      "  velocity = dists / np.diff(t, prepend = 0) ## in seconds\n",
      "/home/austinbaggetta/csstorage3/CircleTrack/CircleTrackAnalysis/place_cells.py:392: RuntimeWarning: invalid value encountered in divide\n",
      "  pf = pf / self.data[\"occupancy_map\"]\n"
     ]
    },
    {
     "name": "stdout",
     "output_type": "stream",
     "text": [
      "Doing shuffle tests. This may take a while.\n"
     ]
    },
    {
     "name": "stderr",
     "output_type": "stream",
     "text": [
      "/home/austinbaggetta/csstorage3/CircleTrack/CircleTrackAnalysis/place_cells.py:44: RuntimeWarning: invalid value encountered in divide\n",
      "  velocity = dists / np.diff(t, prepend = 0) ## in seconds\n",
      "/home/austinbaggetta/csstorage3/CircleTrack/CircleTrackAnalysis/place_cells.py:392: RuntimeWarning: invalid value encountered in divide\n",
      "  pf = pf / self.data[\"occupancy_map\"]\n"
     ]
    },
    {
     "name": "stdout",
     "output_type": "stream",
     "text": [
      "Doing shuffle tests. This may take a while.\n"
     ]
    },
    {
     "name": "stderr",
     "output_type": "stream",
     "text": [
      "/home/austinbaggetta/csstorage3/CircleTrack/CircleTrackAnalysis/place_cells.py:44: RuntimeWarning: invalid value encountered in divide\n",
      "  velocity = dists / np.diff(t, prepend = 0) ## in seconds\n",
      "/home/austinbaggetta/csstorage3/CircleTrack/CircleTrackAnalysis/place_cells.py:392: RuntimeWarning: invalid value encountered in divide\n",
      "  pf = pf / self.data[\"occupancy_map\"]\n"
     ]
    },
    {
     "name": "stdout",
     "output_type": "stream",
     "text": [
      "Doing shuffle tests. This may take a while.\n"
     ]
    },
    {
     "name": "stderr",
     "output_type": "stream",
     "text": [
      "/home/austinbaggetta/csstorage3/CircleTrack/CircleTrackAnalysis/place_cells.py:458: RuntimeWarning: invalid value encountered in scalar divide\n",
      "  SI_z = (self.data[\"spatial_information\"][neuron] - np.mean(shuffled_SIs)) / np.std(\n",
      "/home/austinbaggetta/csstorage3/CircleTrack/CircleTrackAnalysis/place_cells.py:44: RuntimeWarning: invalid value encountered in divide\n",
      "  velocity = dists / np.diff(t, prepend = 0) ## in seconds\n",
      "/home/austinbaggetta/csstorage3/CircleTrack/CircleTrackAnalysis/place_cells.py:392: RuntimeWarning: invalid value encountered in divide\n",
      "  pf = pf / self.data[\"occupancy_map\"]\n"
     ]
    },
    {
     "name": "stdout",
     "output_type": "stream",
     "text": [
      "Doing shuffle tests. This may take a while.\n"
     ]
    },
    {
     "name": "stderr",
     "output_type": "stream",
     "text": [
      "/home/austinbaggetta/csstorage3/CircleTrack/CircleTrackAnalysis/place_cells.py:44: RuntimeWarning: invalid value encountered in divide\n",
      "  velocity = dists / np.diff(t, prepend = 0) ## in seconds\n",
      "/home/austinbaggetta/csstorage3/CircleTrack/CircleTrackAnalysis/place_cells.py:392: RuntimeWarning: invalid value encountered in divide\n",
      "  pf = pf / self.data[\"occupancy_map\"]\n"
     ]
    },
    {
     "name": "stdout",
     "output_type": "stream",
     "text": [
      "Doing shuffle tests. This may take a while.\n"
     ]
    },
    {
     "name": "stderr",
     "output_type": "stream",
     "text": [
      "/home/austinbaggetta/csstorage3/CircleTrack/CircleTrackAnalysis/place_cells.py:44: RuntimeWarning: invalid value encountered in divide\n",
      "  velocity = dists / np.diff(t, prepend = 0) ## in seconds\n",
      "/home/austinbaggetta/csstorage3/CircleTrack/CircleTrackAnalysis/place_cells.py:392: RuntimeWarning: invalid value encountered in divide\n",
      "  pf = pf / self.data[\"occupancy_map\"]\n"
     ]
    },
    {
     "name": "stdout",
     "output_type": "stream",
     "text": [
      "Doing shuffle tests. This may take a while.\n"
     ]
    },
    {
     "name": "stderr",
     "output_type": "stream",
     "text": [
      "/home/austinbaggetta/csstorage3/CircleTrack/CircleTrackAnalysis/place_cells.py:44: RuntimeWarning: invalid value encountered in divide\n",
      "  velocity = dists / np.diff(t, prepend = 0) ## in seconds\n",
      "/home/austinbaggetta/csstorage3/CircleTrack/CircleTrackAnalysis/place_cells.py:392: RuntimeWarning: invalid value encountered in divide\n",
      "  pf = pf / self.data[\"occupancy_map\"]\n"
     ]
    },
    {
     "name": "stdout",
     "output_type": "stream",
     "text": [
      "Doing shuffle tests. This may take a while.\n"
     ]
    },
    {
     "name": "stderr",
     "output_type": "stream",
     "text": [
      "/home/austinbaggetta/csstorage3/CircleTrack/CircleTrackAnalysis/place_cells.py:44: RuntimeWarning: invalid value encountered in divide\n",
      "  velocity = dists / np.diff(t, prepend = 0) ## in seconds\n",
      "/home/austinbaggetta/csstorage3/CircleTrack/CircleTrackAnalysis/place_cells.py:392: RuntimeWarning: invalid value encountered in divide\n",
      "  pf = pf / self.data[\"occupancy_map\"]\n"
     ]
    },
    {
     "name": "stdout",
     "output_type": "stream",
     "text": [
      "Doing shuffle tests. This may take a while.\n"
     ]
    },
    {
     "name": "stderr",
     "output_type": "stream",
     "text": [
      "/home/austinbaggetta/csstorage3/CircleTrack/CircleTrackAnalysis/place_cells.py:44: RuntimeWarning: invalid value encountered in divide\n",
      "  velocity = dists / np.diff(t, prepend = 0) ## in seconds\n",
      "/home/austinbaggetta/csstorage3/CircleTrack/CircleTrackAnalysis/place_cells.py:392: RuntimeWarning: invalid value encountered in divide\n",
      "  pf = pf / self.data[\"occupancy_map\"]\n"
     ]
    },
    {
     "name": "stdout",
     "output_type": "stream",
     "text": [
      "Doing shuffle tests. This may take a while.\n"
     ]
    },
    {
     "name": "stderr",
     "output_type": "stream",
     "text": [
      "/home/austinbaggetta/csstorage3/CircleTrack/CircleTrackAnalysis/place_cells.py:458: RuntimeWarning: invalid value encountered in scalar divide\n",
      "  SI_z = (self.data[\"spatial_information\"][neuron] - np.mean(shuffled_SIs)) / np.std(\n",
      "/home/austinbaggetta/csstorage3/CircleTrack/CircleTrackAnalysis/place_cells.py:44: RuntimeWarning: invalid value encountered in divide\n",
      "  velocity = dists / np.diff(t, prepend = 0) ## in seconds\n",
      "/home/austinbaggetta/csstorage3/CircleTrack/CircleTrackAnalysis/place_cells.py:392: RuntimeWarning: invalid value encountered in divide\n",
      "  pf = pf / self.data[\"occupancy_map\"]\n"
     ]
    },
    {
     "name": "stdout",
     "output_type": "stream",
     "text": [
      "Doing shuffle tests. This may take a while.\n"
     ]
    },
    {
     "name": "stderr",
     "output_type": "stream",
     "text": [
      "/home/austinbaggetta/csstorage3/CircleTrack/CircleTrackAnalysis/place_cells.py:44: RuntimeWarning: invalid value encountered in divide\n",
      "  velocity = dists / np.diff(t, prepend = 0) ## in seconds\n",
      "/home/austinbaggetta/csstorage3/CircleTrack/CircleTrackAnalysis/place_cells.py:392: RuntimeWarning: invalid value encountered in divide\n",
      "  pf = pf / self.data[\"occupancy_map\"]\n"
     ]
    },
    {
     "name": "stdout",
     "output_type": "stream",
     "text": [
      "Doing shuffle tests. This may take a while.\n"
     ]
    },
    {
     "name": "stderr",
     "output_type": "stream",
     "text": [
      "/home/austinbaggetta/csstorage3/CircleTrack/CircleTrackAnalysis/place_cells.py:44: RuntimeWarning: invalid value encountered in divide\n",
      "  velocity = dists / np.diff(t, prepend = 0) ## in seconds\n",
      "/home/austinbaggetta/csstorage3/CircleTrack/CircleTrackAnalysis/place_cells.py:392: RuntimeWarning: invalid value encountered in divide\n",
      "  pf = pf / self.data[\"occupancy_map\"]\n"
     ]
    },
    {
     "name": "stdout",
     "output_type": "stream",
     "text": [
      "Doing shuffle tests. This may take a while.\n"
     ]
    },
    {
     "name": "stderr",
     "output_type": "stream",
     "text": [
      "/home/austinbaggetta/csstorage3/CircleTrack/CircleTrackAnalysis/place_cells.py:44: RuntimeWarning: invalid value encountered in divide\n",
      "  velocity = dists / np.diff(t, prepend = 0) ## in seconds\n",
      "/home/austinbaggetta/csstorage3/CircleTrack/CircleTrackAnalysis/place_cells.py:392: RuntimeWarning: invalid value encountered in divide\n",
      "  pf = pf / self.data[\"occupancy_map\"]\n"
     ]
    },
    {
     "name": "stdout",
     "output_type": "stream",
     "text": [
      "Doing shuffle tests. This may take a while.\n"
     ]
    },
    {
     "name": "stderr",
     "output_type": "stream",
     "text": [
      "/home/austinbaggetta/csstorage3/CircleTrack/CircleTrackAnalysis/place_cells.py:44: RuntimeWarning: invalid value encountered in divide\n",
      "  velocity = dists / np.diff(t, prepend = 0) ## in seconds\n",
      "/home/austinbaggetta/csstorage3/CircleTrack/CircleTrackAnalysis/place_cells.py:392: RuntimeWarning: invalid value encountered in divide\n",
      "  pf = pf / self.data[\"occupancy_map\"]\n"
     ]
    },
    {
     "name": "stdout",
     "output_type": "stream",
     "text": [
      "Doing shuffle tests. This may take a while.\n"
     ]
    },
    {
     "name": "stderr",
     "output_type": "stream",
     "text": [
      "/home/austinbaggetta/csstorage3/CircleTrack/CircleTrackAnalysis/place_cells.py:44: RuntimeWarning: invalid value encountered in divide\n",
      "  velocity = dists / np.diff(t, prepend = 0) ## in seconds\n",
      "/home/austinbaggetta/csstorage3/CircleTrack/CircleTrackAnalysis/place_cells.py:392: RuntimeWarning: invalid value encountered in divide\n",
      "  pf = pf / self.data[\"occupancy_map\"]\n"
     ]
    },
    {
     "name": "stdout",
     "output_type": "stream",
     "text": [
      "Doing shuffle tests. This may take a while.\n"
     ]
    },
    {
     "name": "stderr",
     "output_type": "stream",
     "text": [
      "/home/austinbaggetta/csstorage3/CircleTrack/CircleTrackAnalysis/place_cells.py:44: RuntimeWarning: invalid value encountered in divide\n",
      "  velocity = dists / np.diff(t, prepend = 0) ## in seconds\n",
      "/home/austinbaggetta/csstorage3/CircleTrack/CircleTrackAnalysis/place_cells.py:392: RuntimeWarning: invalid value encountered in divide\n",
      "  pf = pf / self.data[\"occupancy_map\"]\n"
     ]
    },
    {
     "name": "stdout",
     "output_type": "stream",
     "text": [
      "Doing shuffle tests. This may take a while.\n"
     ]
    },
    {
     "name": "stderr",
     "output_type": "stream",
     "text": [
      "/home/austinbaggetta/csstorage3/CircleTrack/CircleTrackAnalysis/place_cells.py:44: RuntimeWarning: invalid value encountered in divide\n",
      "  velocity = dists / np.diff(t, prepend = 0) ## in seconds\n",
      "/home/austinbaggetta/csstorage3/CircleTrack/CircleTrackAnalysis/place_cells.py:392: RuntimeWarning: invalid value encountered in divide\n",
      "  pf = pf / self.data[\"occupancy_map\"]\n"
     ]
    },
    {
     "name": "stdout",
     "output_type": "stream",
     "text": [
      "Doing shuffle tests. This may take a while.\n"
     ]
    },
    {
     "name": "stderr",
     "output_type": "stream",
     "text": [
      "/home/austinbaggetta/csstorage3/CircleTrack/CircleTrackAnalysis/place_cells.py:458: RuntimeWarning: invalid value encountered in scalar divide\n",
      "  SI_z = (self.data[\"spatial_information\"][neuron] - np.mean(shuffled_SIs)) / np.std(\n",
      "/home/austinbaggetta/csstorage3/CircleTrack/CircleTrackAnalysis/place_cells.py:44: RuntimeWarning: invalid value encountered in divide\n",
      "  velocity = dists / np.diff(t, prepend = 0) ## in seconds\n",
      "/home/austinbaggetta/csstorage3/CircleTrack/CircleTrackAnalysis/place_cells.py:392: RuntimeWarning: invalid value encountered in divide\n",
      "  pf = pf / self.data[\"occupancy_map\"]\n"
     ]
    },
    {
     "name": "stdout",
     "output_type": "stream",
     "text": [
      "Doing shuffle tests. This may take a while.\n"
     ]
    },
    {
     "name": "stderr",
     "output_type": "stream",
     "text": [
      "/home/austinbaggetta/csstorage3/CircleTrack/CircleTrackAnalysis/place_cells.py:44: RuntimeWarning: invalid value encountered in divide\n",
      "  velocity = dists / np.diff(t, prepend = 0) ## in seconds\n",
      "/home/austinbaggetta/csstorage3/CircleTrack/CircleTrackAnalysis/place_cells.py:392: RuntimeWarning: invalid value encountered in divide\n",
      "  pf = pf / self.data[\"occupancy_map\"]\n"
     ]
    },
    {
     "name": "stdout",
     "output_type": "stream",
     "text": [
      "Doing shuffle tests. This may take a while.\n"
     ]
    },
    {
     "name": "stderr",
     "output_type": "stream",
     "text": [
      "/home/austinbaggetta/csstorage3/CircleTrack/CircleTrackAnalysis/place_cells.py:44: RuntimeWarning: invalid value encountered in divide\n",
      "  velocity = dists / np.diff(t, prepend = 0) ## in seconds\n",
      "/home/austinbaggetta/csstorage3/CircleTrack/CircleTrackAnalysis/place_cells.py:392: RuntimeWarning: invalid value encountered in divide\n",
      "  pf = pf / self.data[\"occupancy_map\"]\n"
     ]
    },
    {
     "name": "stdout",
     "output_type": "stream",
     "text": [
      "Doing shuffle tests. This may take a while.\n"
     ]
    },
    {
     "name": "stderr",
     "output_type": "stream",
     "text": [
      "/home/austinbaggetta/csstorage3/CircleTrack/CircleTrackAnalysis/place_cells.py:44: RuntimeWarning: invalid value encountered in divide\n",
      "  velocity = dists / np.diff(t, prepend = 0) ## in seconds\n",
      "/home/austinbaggetta/csstorage3/CircleTrack/CircleTrackAnalysis/place_cells.py:392: RuntimeWarning: invalid value encountered in divide\n",
      "  pf = pf / self.data[\"occupancy_map\"]\n"
     ]
    },
    {
     "name": "stdout",
     "output_type": "stream",
     "text": [
      "Doing shuffle tests. This may take a while.\n"
     ]
    },
    {
     "name": "stderr",
     "output_type": "stream",
     "text": [
      "/home/austinbaggetta/csstorage3/CircleTrack/CircleTrackAnalysis/place_cells.py:44: RuntimeWarning: invalid value encountered in divide\n",
      "  velocity = dists / np.diff(t, prepend = 0) ## in seconds\n",
      "/home/austinbaggetta/csstorage3/CircleTrack/CircleTrackAnalysis/place_cells.py:392: RuntimeWarning: invalid value encountered in divide\n",
      "  pf = pf / self.data[\"occupancy_map\"]\n"
     ]
    },
    {
     "name": "stdout",
     "output_type": "stream",
     "text": [
      "Doing shuffle tests. This may take a while.\n"
     ]
    },
    {
     "name": "stderr",
     "output_type": "stream",
     "text": [
      "/home/austinbaggetta/csstorage3/CircleTrack/CircleTrackAnalysis/place_cells.py:44: RuntimeWarning: invalid value encountered in divide\n",
      "  velocity = dists / np.diff(t, prepend = 0) ## in seconds\n",
      "/home/austinbaggetta/csstorage3/CircleTrack/CircleTrackAnalysis/place_cells.py:392: RuntimeWarning: invalid value encountered in divide\n",
      "  pf = pf / self.data[\"occupancy_map\"]\n"
     ]
    },
    {
     "name": "stdout",
     "output_type": "stream",
     "text": [
      "Doing shuffle tests. This may take a while.\n"
     ]
    },
    {
     "name": "stderr",
     "output_type": "stream",
     "text": [
      "/home/austinbaggetta/csstorage3/CircleTrack/CircleTrackAnalysis/place_cells.py:44: RuntimeWarning: invalid value encountered in divide\n",
      "  velocity = dists / np.diff(t, prepend = 0) ## in seconds\n",
      "/home/austinbaggetta/csstorage3/CircleTrack/CircleTrackAnalysis/place_cells.py:392: RuntimeWarning: invalid value encountered in divide\n",
      "  pf = pf / self.data[\"occupancy_map\"]\n"
     ]
    },
    {
     "name": "stdout",
     "output_type": "stream",
     "text": [
      "Doing shuffle tests. This may take a while.\n"
     ]
    },
    {
     "name": "stderr",
     "output_type": "stream",
     "text": [
      "/home/austinbaggetta/csstorage3/CircleTrack/CircleTrackAnalysis/place_cells.py:44: RuntimeWarning: invalid value encountered in divide\n",
      "  velocity = dists / np.diff(t, prepend = 0) ## in seconds\n",
      "/home/austinbaggetta/csstorage3/CircleTrack/CircleTrackAnalysis/place_cells.py:392: RuntimeWarning: invalid value encountered in divide\n",
      "  pf = pf / self.data[\"occupancy_map\"]\n"
     ]
    },
    {
     "name": "stdout",
     "output_type": "stream",
     "text": [
      "Doing shuffle tests. This may take a while.\n"
     ]
    },
    {
     "name": "stderr",
     "output_type": "stream",
     "text": [
      "/home/austinbaggetta/csstorage3/CircleTrack/CircleTrackAnalysis/place_cells.py:44: RuntimeWarning: invalid value encountered in divide\n",
      "  velocity = dists / np.diff(t, prepend = 0) ## in seconds\n",
      "/home/austinbaggetta/csstorage3/CircleTrack/CircleTrackAnalysis/place_cells.py:392: RuntimeWarning: invalid value encountered in divide\n",
      "  pf = pf / self.data[\"occupancy_map\"]\n"
     ]
    },
    {
     "name": "stdout",
     "output_type": "stream",
     "text": [
      "Doing shuffle tests. This may take a while.\n"
     ]
    },
    {
     "name": "stderr",
     "output_type": "stream",
     "text": [
      "/home/austinbaggetta/csstorage3/CircleTrack/CircleTrackAnalysis/place_cells.py:44: RuntimeWarning: invalid value encountered in divide\n",
      "  velocity = dists / np.diff(t, prepend = 0) ## in seconds\n",
      "/home/austinbaggetta/csstorage3/CircleTrack/CircleTrackAnalysis/place_cells.py:392: RuntimeWarning: invalid value encountered in divide\n",
      "  pf = pf / self.data[\"occupancy_map\"]\n"
     ]
    },
    {
     "name": "stdout",
     "output_type": "stream",
     "text": [
      "Doing shuffle tests. This may take a while.\n"
     ]
    },
    {
     "name": "stderr",
     "output_type": "stream",
     "text": [
      "/home/austinbaggetta/csstorage3/CircleTrack/CircleTrackAnalysis/place_cells.py:44: RuntimeWarning: invalid value encountered in divide\n",
      "  velocity = dists / np.diff(t, prepend = 0) ## in seconds\n",
      "/home/austinbaggetta/csstorage3/CircleTrack/CircleTrackAnalysis/place_cells.py:392: RuntimeWarning: invalid value encountered in divide\n",
      "  pf = pf / self.data[\"occupancy_map\"]\n"
     ]
    },
    {
     "name": "stdout",
     "output_type": "stream",
     "text": [
      "Doing shuffle tests. This may take a while.\n"
     ]
    },
    {
     "name": "stderr",
     "output_type": "stream",
     "text": [
      "/home/austinbaggetta/csstorage3/CircleTrack/CircleTrackAnalysis/place_cells.py:44: RuntimeWarning: invalid value encountered in divide\n",
      "  velocity = dists / np.diff(t, prepend = 0) ## in seconds\n",
      "/home/austinbaggetta/csstorage3/CircleTrack/CircleTrackAnalysis/place_cells.py:392: RuntimeWarning: invalid value encountered in divide\n",
      "  pf = pf / self.data[\"occupancy_map\"]\n"
     ]
    },
    {
     "name": "stdout",
     "output_type": "stream",
     "text": [
      "Doing shuffle tests. This may take a while.\n"
     ]
    },
    {
     "name": "stderr",
     "output_type": "stream",
     "text": [
      "/home/austinbaggetta/csstorage3/CircleTrack/CircleTrackAnalysis/place_cells.py:44: RuntimeWarning: invalid value encountered in divide\n",
      "  velocity = dists / np.diff(t, prepend = 0) ## in seconds\n",
      "/home/austinbaggetta/csstorage3/CircleTrack/CircleTrackAnalysis/place_cells.py:392: RuntimeWarning: invalid value encountered in divide\n",
      "  pf = pf / self.data[\"occupancy_map\"]\n"
     ]
    },
    {
     "name": "stdout",
     "output_type": "stream",
     "text": [
      "Doing shuffle tests. This may take a while.\n"
     ]
    },
    {
     "name": "stderr",
     "output_type": "stream",
     "text": [
      "/home/austinbaggetta/csstorage3/CircleTrack/CircleTrackAnalysis/place_cells.py:44: RuntimeWarning: invalid value encountered in divide\n",
      "  velocity = dists / np.diff(t, prepend = 0) ## in seconds\n",
      "/home/austinbaggetta/csstorage3/CircleTrack/CircleTrackAnalysis/place_cells.py:392: RuntimeWarning: invalid value encountered in divide\n",
      "  pf = pf / self.data[\"occupancy_map\"]\n"
     ]
    },
    {
     "name": "stdout",
     "output_type": "stream",
     "text": [
      "Doing shuffle tests. This may take a while.\n"
     ]
    },
    {
     "name": "stderr",
     "output_type": "stream",
     "text": [
      "/home/austinbaggetta/csstorage3/CircleTrack/CircleTrackAnalysis/place_cells.py:458: RuntimeWarning: invalid value encountered in scalar divide\n",
      "  SI_z = (self.data[\"spatial_information\"][neuron] - np.mean(shuffled_SIs)) / np.std(\n",
      "/home/austinbaggetta/csstorage3/CircleTrack/CircleTrackAnalysis/place_cells.py:44: RuntimeWarning: invalid value encountered in divide\n",
      "  velocity = dists / np.diff(t, prepend = 0) ## in seconds\n",
      "/home/austinbaggetta/csstorage3/CircleTrack/CircleTrackAnalysis/place_cells.py:392: RuntimeWarning: invalid value encountered in divide\n",
      "  pf = pf / self.data[\"occupancy_map\"]\n"
     ]
    },
    {
     "name": "stdout",
     "output_type": "stream",
     "text": [
      "Doing shuffle tests. This may take a while.\n"
     ]
    },
    {
     "name": "stderr",
     "output_type": "stream",
     "text": [
      "/home/austinbaggetta/csstorage3/CircleTrack/CircleTrackAnalysis/place_cells.py:44: RuntimeWarning: invalid value encountered in divide\n",
      "  velocity = dists / np.diff(t, prepend = 0) ## in seconds\n",
      "/home/austinbaggetta/csstorage3/CircleTrack/CircleTrackAnalysis/place_cells.py:392: RuntimeWarning: invalid value encountered in divide\n",
      "  pf = pf / self.data[\"occupancy_map\"]\n"
     ]
    },
    {
     "name": "stdout",
     "output_type": "stream",
     "text": [
      "Doing shuffle tests. This may take a while.\n"
     ]
    },
    {
     "name": "stderr",
     "output_type": "stream",
     "text": [
      "/home/austinbaggetta/csstorage3/CircleTrack/CircleTrackAnalysis/place_cells.py:44: RuntimeWarning: invalid value encountered in divide\n",
      "  velocity = dists / np.diff(t, prepend = 0) ## in seconds\n",
      "/home/austinbaggetta/csstorage3/CircleTrack/CircleTrackAnalysis/place_cells.py:392: RuntimeWarning: invalid value encountered in divide\n",
      "  pf = pf / self.data[\"occupancy_map\"]\n"
     ]
    },
    {
     "name": "stdout",
     "output_type": "stream",
     "text": [
      "Doing shuffle tests. This may take a while.\n"
     ]
    },
    {
     "name": "stderr",
     "output_type": "stream",
     "text": [
      "/home/austinbaggetta/csstorage3/CircleTrack/CircleTrackAnalysis/place_cells.py:44: RuntimeWarning: invalid value encountered in divide\n",
      "  velocity = dists / np.diff(t, prepend = 0) ## in seconds\n",
      "/home/austinbaggetta/csstorage3/CircleTrack/CircleTrackAnalysis/place_cells.py:392: RuntimeWarning: invalid value encountered in divide\n",
      "  pf = pf / self.data[\"occupancy_map\"]\n"
     ]
    },
    {
     "name": "stdout",
     "output_type": "stream",
     "text": [
      "Doing shuffle tests. This may take a while.\n"
     ]
    },
    {
     "name": "stderr",
     "output_type": "stream",
     "text": [
      "/home/austinbaggetta/csstorage3/CircleTrack/CircleTrackAnalysis/place_cells.py:44: RuntimeWarning: invalid value encountered in divide\n",
      "  velocity = dists / np.diff(t, prepend = 0) ## in seconds\n",
      "/home/austinbaggetta/csstorage3/CircleTrack/CircleTrackAnalysis/place_cells.py:392: RuntimeWarning: invalid value encountered in divide\n",
      "  pf = pf / self.data[\"occupancy_map\"]\n"
     ]
    },
    {
     "name": "stdout",
     "output_type": "stream",
     "text": [
      "Doing shuffle tests. This may take a while.\n"
     ]
    },
    {
     "name": "stderr",
     "output_type": "stream",
     "text": [
      "/home/austinbaggetta/csstorage3/CircleTrack/CircleTrackAnalysis/place_cells.py:44: RuntimeWarning: invalid value encountered in divide\n",
      "  velocity = dists / np.diff(t, prepend = 0) ## in seconds\n",
      "/home/austinbaggetta/csstorage3/CircleTrack/CircleTrackAnalysis/place_cells.py:392: RuntimeWarning: invalid value encountered in divide\n",
      "  pf = pf / self.data[\"occupancy_map\"]\n"
     ]
    },
    {
     "name": "stdout",
     "output_type": "stream",
     "text": [
      "Doing shuffle tests. This may take a while.\n"
     ]
    },
    {
     "name": "stderr",
     "output_type": "stream",
     "text": [
      "/home/austinbaggetta/csstorage3/CircleTrack/CircleTrackAnalysis/place_cells.py:44: RuntimeWarning: invalid value encountered in divide\n",
      "  velocity = dists / np.diff(t, prepend = 0) ## in seconds\n",
      "/home/austinbaggetta/csstorage3/CircleTrack/CircleTrackAnalysis/place_cells.py:392: RuntimeWarning: invalid value encountered in divide\n",
      "  pf = pf / self.data[\"occupancy_map\"]\n"
     ]
    },
    {
     "name": "stdout",
     "output_type": "stream",
     "text": [
      "Doing shuffle tests. This may take a while.\n"
     ]
    },
    {
     "name": "stderr",
     "output_type": "stream",
     "text": [
      "/home/austinbaggetta/csstorage3/CircleTrack/CircleTrackAnalysis/place_cells.py:44: RuntimeWarning: invalid value encountered in divide\n",
      "  velocity = dists / np.diff(t, prepend = 0) ## in seconds\n",
      "/home/austinbaggetta/csstorage3/CircleTrack/CircleTrackAnalysis/place_cells.py:392: RuntimeWarning: invalid value encountered in divide\n",
      "  pf = pf / self.data[\"occupancy_map\"]\n"
     ]
    },
    {
     "name": "stdout",
     "output_type": "stream",
     "text": [
      "Doing shuffle tests. This may take a while.\n"
     ]
    },
    {
     "name": "stderr",
     "output_type": "stream",
     "text": [
      "/home/austinbaggetta/csstorage3/CircleTrack/CircleTrackAnalysis/place_cells.py:458: RuntimeWarning: invalid value encountered in scalar divide\n",
      "  SI_z = (self.data[\"spatial_information\"][neuron] - np.mean(shuffled_SIs)) / np.std(\n",
      "/home/austinbaggetta/csstorage3/CircleTrack/CircleTrackAnalysis/place_cells.py:44: RuntimeWarning: invalid value encountered in divide\n",
      "  velocity = dists / np.diff(t, prepend = 0) ## in seconds\n",
      "/home/austinbaggetta/csstorage3/CircleTrack/CircleTrackAnalysis/place_cells.py:392: RuntimeWarning: invalid value encountered in divide\n",
      "  pf = pf / self.data[\"occupancy_map\"]\n"
     ]
    },
    {
     "name": "stdout",
     "output_type": "stream",
     "text": [
      "Doing shuffle tests. This may take a while.\n"
     ]
    },
    {
     "name": "stderr",
     "output_type": "stream",
     "text": [
      "/home/austinbaggetta/csstorage3/CircleTrack/CircleTrackAnalysis/place_cells.py:44: RuntimeWarning: invalid value encountered in divide\n",
      "  velocity = dists / np.diff(t, prepend = 0) ## in seconds\n",
      "/home/austinbaggetta/csstorage3/CircleTrack/CircleTrackAnalysis/place_cells.py:392: RuntimeWarning: invalid value encountered in divide\n",
      "  pf = pf / self.data[\"occupancy_map\"]\n"
     ]
    },
    {
     "name": "stdout",
     "output_type": "stream",
     "text": [
      "Doing shuffle tests. This may take a while.\n"
     ]
    },
    {
     "name": "stderr",
     "output_type": "stream",
     "text": [
      "/home/austinbaggetta/csstorage3/CircleTrack/CircleTrackAnalysis/place_cells.py:44: RuntimeWarning: invalid value encountered in divide\n",
      "  velocity = dists / np.diff(t, prepend = 0) ## in seconds\n",
      "/home/austinbaggetta/csstorage3/CircleTrack/CircleTrackAnalysis/place_cells.py:392: RuntimeWarning: invalid value encountered in divide\n",
      "  pf = pf / self.data[\"occupancy_map\"]\n"
     ]
    },
    {
     "name": "stdout",
     "output_type": "stream",
     "text": [
      "Doing shuffle tests. This may take a while.\n"
     ]
    },
    {
     "name": "stderr",
     "output_type": "stream",
     "text": [
      "/home/austinbaggetta/csstorage3/CircleTrack/CircleTrackAnalysis/place_cells.py:44: RuntimeWarning: invalid value encountered in divide\n",
      "  velocity = dists / np.diff(t, prepend = 0) ## in seconds\n",
      "/home/austinbaggetta/csstorage3/CircleTrack/CircleTrackAnalysis/place_cells.py:392: RuntimeWarning: invalid value encountered in divide\n",
      "  pf = pf / self.data[\"occupancy_map\"]\n"
     ]
    },
    {
     "name": "stdout",
     "output_type": "stream",
     "text": [
      "Doing shuffle tests. This may take a while.\n"
     ]
    },
    {
     "name": "stderr",
     "output_type": "stream",
     "text": [
      "/home/austinbaggetta/csstorage3/CircleTrack/CircleTrackAnalysis/place_cells.py:44: RuntimeWarning: invalid value encountered in divide\n",
      "  velocity = dists / np.diff(t, prepend = 0) ## in seconds\n",
      "/home/austinbaggetta/csstorage3/CircleTrack/CircleTrackAnalysis/place_cells.py:392: RuntimeWarning: invalid value encountered in divide\n",
      "  pf = pf / self.data[\"occupancy_map\"]\n"
     ]
    },
    {
     "name": "stdout",
     "output_type": "stream",
     "text": [
      "Doing shuffle tests. This may take a while.\n"
     ]
    },
    {
     "name": "stderr",
     "output_type": "stream",
     "text": [
      "/home/austinbaggetta/csstorage3/CircleTrack/CircleTrackAnalysis/place_cells.py:44: RuntimeWarning: invalid value encountered in divide\n",
      "  velocity = dists / np.diff(t, prepend = 0) ## in seconds\n",
      "/home/austinbaggetta/csstorage3/CircleTrack/CircleTrackAnalysis/place_cells.py:392: RuntimeWarning: invalid value encountered in divide\n",
      "  pf = pf / self.data[\"occupancy_map\"]\n"
     ]
    },
    {
     "name": "stdout",
     "output_type": "stream",
     "text": [
      "Doing shuffle tests. This may take a while.\n"
     ]
    },
    {
     "name": "stderr",
     "output_type": "stream",
     "text": [
      "/home/austinbaggetta/csstorage3/CircleTrack/CircleTrackAnalysis/place_cells.py:458: RuntimeWarning: invalid value encountered in scalar divide\n",
      "  SI_z = (self.data[\"spatial_information\"][neuron] - np.mean(shuffled_SIs)) / np.std(\n",
      "/home/austinbaggetta/csstorage3/CircleTrack/CircleTrackAnalysis/place_cells.py:44: RuntimeWarning: invalid value encountered in divide\n",
      "  velocity = dists / np.diff(t, prepend = 0) ## in seconds\n",
      "/home/austinbaggetta/csstorage3/CircleTrack/CircleTrackAnalysis/place_cells.py:392: RuntimeWarning: invalid value encountered in divide\n",
      "  pf = pf / self.data[\"occupancy_map\"]\n"
     ]
    },
    {
     "name": "stdout",
     "output_type": "stream",
     "text": [
      "Doing shuffle tests. This may take a while.\n"
     ]
    },
    {
     "name": "stderr",
     "output_type": "stream",
     "text": [
      "/home/austinbaggetta/csstorage3/CircleTrack/CircleTrackAnalysis/place_cells.py:44: RuntimeWarning: invalid value encountered in divide\n",
      "  velocity = dists / np.diff(t, prepend = 0) ## in seconds\n",
      "/home/austinbaggetta/csstorage3/CircleTrack/CircleTrackAnalysis/place_cells.py:392: RuntimeWarning: invalid value encountered in divide\n",
      "  pf = pf / self.data[\"occupancy_map\"]\n"
     ]
    },
    {
     "name": "stdout",
     "output_type": "stream",
     "text": [
      "Doing shuffle tests. This may take a while.\n"
     ]
    },
    {
     "name": "stderr",
     "output_type": "stream",
     "text": [
      "/home/austinbaggetta/csstorage3/CircleTrack/CircleTrackAnalysis/place_cells.py:44: RuntimeWarning: invalid value encountered in divide\n",
      "  velocity = dists / np.diff(t, prepend = 0) ## in seconds\n",
      "/home/austinbaggetta/csstorage3/CircleTrack/CircleTrackAnalysis/place_cells.py:392: RuntimeWarning: invalid value encountered in divide\n",
      "  pf = pf / self.data[\"occupancy_map\"]\n"
     ]
    },
    {
     "name": "stdout",
     "output_type": "stream",
     "text": [
      "Doing shuffle tests. This may take a while.\n"
     ]
    },
    {
     "name": "stderr",
     "output_type": "stream",
     "text": [
      "/home/austinbaggetta/csstorage3/CircleTrack/CircleTrackAnalysis/place_cells.py:44: RuntimeWarning: invalid value encountered in divide\n",
      "  velocity = dists / np.diff(t, prepend = 0) ## in seconds\n",
      "/home/austinbaggetta/csstorage3/CircleTrack/CircleTrackAnalysis/place_cells.py:392: RuntimeWarning: invalid value encountered in divide\n",
      "  pf = pf / self.data[\"occupancy_map\"]\n"
     ]
    },
    {
     "name": "stdout",
     "output_type": "stream",
     "text": [
      "Doing shuffle tests. This may take a while.\n"
     ]
    },
    {
     "name": "stderr",
     "output_type": "stream",
     "text": [
      "/home/austinbaggetta/csstorage3/CircleTrack/CircleTrackAnalysis/place_cells.py:44: RuntimeWarning: invalid value encountered in divide\n",
      "  velocity = dists / np.diff(t, prepend = 0) ## in seconds\n",
      "/home/austinbaggetta/csstorage3/CircleTrack/CircleTrackAnalysis/place_cells.py:392: RuntimeWarning: invalid value encountered in divide\n",
      "  pf = pf / self.data[\"occupancy_map\"]\n"
     ]
    },
    {
     "name": "stdout",
     "output_type": "stream",
     "text": [
      "Doing shuffle tests. This may take a while.\n"
     ]
    },
    {
     "name": "stderr",
     "output_type": "stream",
     "text": [
      "/home/austinbaggetta/csstorage3/CircleTrack/CircleTrackAnalysis/place_cells.py:44: RuntimeWarning: invalid value encountered in divide\n",
      "  velocity = dists / np.diff(t, prepend = 0) ## in seconds\n",
      "/home/austinbaggetta/csstorage3/CircleTrack/CircleTrackAnalysis/place_cells.py:392: RuntimeWarning: invalid value encountered in divide\n",
      "  pf = pf / self.data[\"occupancy_map\"]\n"
     ]
    },
    {
     "name": "stdout",
     "output_type": "stream",
     "text": [
      "Doing shuffle tests. This may take a while.\n"
     ]
    },
    {
     "name": "stderr",
     "output_type": "stream",
     "text": [
      "/home/austinbaggetta/csstorage3/CircleTrack/CircleTrackAnalysis/place_cells.py:44: RuntimeWarning: invalid value encountered in divide\n",
      "  velocity = dists / np.diff(t, prepend = 0) ## in seconds\n",
      "/home/austinbaggetta/csstorage3/CircleTrack/CircleTrackAnalysis/place_cells.py:392: RuntimeWarning: invalid value encountered in divide\n",
      "  pf = pf / self.data[\"occupancy_map\"]\n"
     ]
    },
    {
     "name": "stdout",
     "output_type": "stream",
     "text": [
      "Doing shuffle tests. This may take a while.\n"
     ]
    },
    {
     "name": "stderr",
     "output_type": "stream",
     "text": [
      "/home/austinbaggetta/csstorage3/CircleTrack/CircleTrackAnalysis/place_cells.py:44: RuntimeWarning: invalid value encountered in divide\n",
      "  velocity = dists / np.diff(t, prepend = 0) ## in seconds\n",
      "/home/austinbaggetta/csstorage3/CircleTrack/CircleTrackAnalysis/place_cells.py:392: RuntimeWarning: invalid value encountered in divide\n",
      "  pf = pf / self.data[\"occupancy_map\"]\n"
     ]
    },
    {
     "name": "stdout",
     "output_type": "stream",
     "text": [
      "Doing shuffle tests. This may take a while.\n"
     ]
    },
    {
     "name": "stderr",
     "output_type": "stream",
     "text": [
      "/home/austinbaggetta/csstorage3/CircleTrack/CircleTrackAnalysis/place_cells.py:458: RuntimeWarning: invalid value encountered in scalar divide\n",
      "  SI_z = (self.data[\"spatial_information\"][neuron] - np.mean(shuffled_SIs)) / np.std(\n",
      "/home/austinbaggetta/csstorage3/CircleTrack/CircleTrackAnalysis/place_cells.py:44: RuntimeWarning: invalid value encountered in divide\n",
      "  velocity = dists / np.diff(t, prepend = 0) ## in seconds\n",
      "/home/austinbaggetta/csstorage3/CircleTrack/CircleTrackAnalysis/place_cells.py:392: RuntimeWarning: invalid value encountered in divide\n",
      "  pf = pf / self.data[\"occupancy_map\"]\n"
     ]
    },
    {
     "name": "stdout",
     "output_type": "stream",
     "text": [
      "Doing shuffle tests. This may take a while.\n"
     ]
    },
    {
     "name": "stderr",
     "output_type": "stream",
     "text": [
      "/home/austinbaggetta/csstorage3/CircleTrack/CircleTrackAnalysis/place_cells.py:44: RuntimeWarning: invalid value encountered in divide\n",
      "  velocity = dists / np.diff(t, prepend = 0) ## in seconds\n",
      "/home/austinbaggetta/csstorage3/CircleTrack/CircleTrackAnalysis/place_cells.py:392: RuntimeWarning: invalid value encountered in divide\n",
      "  pf = pf / self.data[\"occupancy_map\"]\n"
     ]
    },
    {
     "name": "stdout",
     "output_type": "stream",
     "text": [
      "Doing shuffle tests. This may take a while.\n"
     ]
    },
    {
     "name": "stderr",
     "output_type": "stream",
     "text": [
      "/home/austinbaggetta/csstorage3/CircleTrack/CircleTrackAnalysis/place_cells.py:44: RuntimeWarning: invalid value encountered in divide\n",
      "  velocity = dists / np.diff(t, prepend = 0) ## in seconds\n",
      "/home/austinbaggetta/csstorage3/CircleTrack/CircleTrackAnalysis/place_cells.py:392: RuntimeWarning: invalid value encountered in divide\n",
      "  pf = pf / self.data[\"occupancy_map\"]\n"
     ]
    },
    {
     "name": "stdout",
     "output_type": "stream",
     "text": [
      "Doing shuffle tests. This may take a while.\n"
     ]
    },
    {
     "name": "stderr",
     "output_type": "stream",
     "text": [
      "/home/austinbaggetta/csstorage3/CircleTrack/CircleTrackAnalysis/place_cells.py:44: RuntimeWarning: invalid value encountered in divide\n",
      "  velocity = dists / np.diff(t, prepend = 0) ## in seconds\n",
      "/home/austinbaggetta/csstorage3/CircleTrack/CircleTrackAnalysis/place_cells.py:392: RuntimeWarning: invalid value encountered in divide\n",
      "  pf = pf / self.data[\"occupancy_map\"]\n"
     ]
    },
    {
     "name": "stdout",
     "output_type": "stream",
     "text": [
      "Doing shuffle tests. This may take a while.\n"
     ]
    },
    {
     "name": "stderr",
     "output_type": "stream",
     "text": [
      "/home/austinbaggetta/csstorage3/CircleTrack/CircleTrackAnalysis/place_cells.py:44: RuntimeWarning: invalid value encountered in divide\n",
      "  velocity = dists / np.diff(t, prepend = 0) ## in seconds\n",
      "/home/austinbaggetta/csstorage3/CircleTrack/CircleTrackAnalysis/place_cells.py:392: RuntimeWarning: invalid value encountered in divide\n",
      "  pf = pf / self.data[\"occupancy_map\"]\n"
     ]
    },
    {
     "name": "stdout",
     "output_type": "stream",
     "text": [
      "Doing shuffle tests. This may take a while.\n"
     ]
    },
    {
     "name": "stderr",
     "output_type": "stream",
     "text": [
      "/home/austinbaggetta/csstorage3/CircleTrack/CircleTrackAnalysis/place_cells.py:44: RuntimeWarning: invalid value encountered in divide\n",
      "  velocity = dists / np.diff(t, prepend = 0) ## in seconds\n",
      "/home/austinbaggetta/csstorage3/CircleTrack/CircleTrackAnalysis/place_cells.py:392: RuntimeWarning: invalid value encountered in divide\n",
      "  pf = pf / self.data[\"occupancy_map\"]\n"
     ]
    },
    {
     "name": "stdout",
     "output_type": "stream",
     "text": [
      "Doing shuffle tests. This may take a while.\n"
     ]
    },
    {
     "name": "stderr",
     "output_type": "stream",
     "text": [
      "/home/austinbaggetta/csstorage3/CircleTrack/CircleTrackAnalysis/place_cells.py:44: RuntimeWarning: invalid value encountered in divide\n",
      "  velocity = dists / np.diff(t, prepend = 0) ## in seconds\n",
      "/home/austinbaggetta/csstorage3/CircleTrack/CircleTrackAnalysis/place_cells.py:392: RuntimeWarning: invalid value encountered in divide\n",
      "  pf = pf / self.data[\"occupancy_map\"]\n"
     ]
    },
    {
     "name": "stdout",
     "output_type": "stream",
     "text": [
      "Doing shuffle tests. This may take a while.\n"
     ]
    },
    {
     "name": "stderr",
     "output_type": "stream",
     "text": [
      "/home/austinbaggetta/csstorage3/CircleTrack/CircleTrackAnalysis/place_cells.py:44: RuntimeWarning: invalid value encountered in divide\n",
      "  velocity = dists / np.diff(t, prepend = 0) ## in seconds\n",
      "/home/austinbaggetta/csstorage3/CircleTrack/CircleTrackAnalysis/place_cells.py:392: RuntimeWarning: invalid value encountered in divide\n",
      "  pf = pf / self.data[\"occupancy_map\"]\n"
     ]
    },
    {
     "name": "stdout",
     "output_type": "stream",
     "text": [
      "Doing shuffle tests. This may take a while.\n"
     ]
    },
    {
     "name": "stderr",
     "output_type": "stream",
     "text": [
      "/home/austinbaggetta/csstorage3/CircleTrack/CircleTrackAnalysis/place_cells.py:44: RuntimeWarning: invalid value encountered in divide\n",
      "  velocity = dists / np.diff(t, prepend = 0) ## in seconds\n",
      "/home/austinbaggetta/csstorage3/CircleTrack/CircleTrackAnalysis/place_cells.py:392: RuntimeWarning: invalid value encountered in divide\n",
      "  pf = pf / self.data[\"occupancy_map\"]\n"
     ]
    },
    {
     "name": "stdout",
     "output_type": "stream",
     "text": [
      "Doing shuffle tests. This may take a while.\n"
     ]
    },
    {
     "name": "stderr",
     "output_type": "stream",
     "text": [
      "/home/austinbaggetta/csstorage3/CircleTrack/CircleTrackAnalysis/place_cells.py:44: RuntimeWarning: invalid value encountered in divide\n",
      "  velocity = dists / np.diff(t, prepend = 0) ## in seconds\n",
      "/home/austinbaggetta/csstorage3/CircleTrack/CircleTrackAnalysis/place_cells.py:392: RuntimeWarning: invalid value encountered in divide\n",
      "  pf = pf / self.data[\"occupancy_map\"]\n"
     ]
    },
    {
     "name": "stdout",
     "output_type": "stream",
     "text": [
      "Doing shuffle tests. This may take a while.\n"
     ]
    },
    {
     "name": "stderr",
     "output_type": "stream",
     "text": [
      "/home/austinbaggetta/csstorage3/CircleTrack/CircleTrackAnalysis/place_cells.py:44: RuntimeWarning: invalid value encountered in divide\n",
      "  velocity = dists / np.diff(t, prepend = 0) ## in seconds\n",
      "/home/austinbaggetta/csstorage3/CircleTrack/CircleTrackAnalysis/place_cells.py:392: RuntimeWarning: invalid value encountered in divide\n",
      "  pf = pf / self.data[\"occupancy_map\"]\n"
     ]
    },
    {
     "name": "stdout",
     "output_type": "stream",
     "text": [
      "Doing shuffle tests. This may take a while.\n"
     ]
    },
    {
     "name": "stderr",
     "output_type": "stream",
     "text": [
      "/home/austinbaggetta/csstorage3/CircleTrack/CircleTrackAnalysis/place_cells.py:44: RuntimeWarning: invalid value encountered in divide\n",
      "  velocity = dists / np.diff(t, prepend = 0) ## in seconds\n",
      "/home/austinbaggetta/csstorage3/CircleTrack/CircleTrackAnalysis/place_cells.py:392: RuntimeWarning: invalid value encountered in divide\n",
      "  pf = pf / self.data[\"occupancy_map\"]\n"
     ]
    },
    {
     "name": "stdout",
     "output_type": "stream",
     "text": [
      "Doing shuffle tests. This may take a while.\n"
     ]
    },
    {
     "name": "stderr",
     "output_type": "stream",
     "text": [
      "/home/austinbaggetta/csstorage3/CircleTrack/CircleTrackAnalysis/place_cells.py:44: RuntimeWarning: invalid value encountered in divide\n",
      "  velocity = dists / np.diff(t, prepend = 0) ## in seconds\n",
      "/home/austinbaggetta/csstorage3/CircleTrack/CircleTrackAnalysis/place_cells.py:392: RuntimeWarning: invalid value encountered in divide\n",
      "  pf = pf / self.data[\"occupancy_map\"]\n"
     ]
    },
    {
     "name": "stdout",
     "output_type": "stream",
     "text": [
      "Doing shuffle tests. This may take a while.\n"
     ]
    },
    {
     "name": "stderr",
     "output_type": "stream",
     "text": [
      "/home/austinbaggetta/csstorage3/CircleTrack/CircleTrackAnalysis/place_cells.py:44: RuntimeWarning: invalid value encountered in divide\n",
      "  velocity = dists / np.diff(t, prepend = 0) ## in seconds\n",
      "/home/austinbaggetta/csstorage3/CircleTrack/CircleTrackAnalysis/place_cells.py:392: RuntimeWarning: invalid value encountered in divide\n",
      "  pf = pf / self.data[\"occupancy_map\"]\n"
     ]
    },
    {
     "name": "stdout",
     "output_type": "stream",
     "text": [
      "Doing shuffle tests. This may take a while.\n"
     ]
    },
    {
     "name": "stderr",
     "output_type": "stream",
     "text": [
      "/home/austinbaggetta/csstorage3/CircleTrack/CircleTrackAnalysis/place_cells.py:44: RuntimeWarning: invalid value encountered in divide\n",
      "  velocity = dists / np.diff(t, prepend = 0) ## in seconds\n",
      "/home/austinbaggetta/csstorage3/CircleTrack/CircleTrackAnalysis/place_cells.py:392: RuntimeWarning: invalid value encountered in divide\n",
      "  pf = pf / self.data[\"occupancy_map\"]\n"
     ]
    },
    {
     "name": "stdout",
     "output_type": "stream",
     "text": [
      "Doing shuffle tests. This may take a while.\n"
     ]
    },
    {
     "name": "stderr",
     "output_type": "stream",
     "text": [
      "/home/austinbaggetta/csstorage3/CircleTrack/CircleTrackAnalysis/place_cells.py:44: RuntimeWarning: invalid value encountered in divide\n",
      "  velocity = dists / np.diff(t, prepend = 0) ## in seconds\n",
      "/home/austinbaggetta/csstorage3/CircleTrack/CircleTrackAnalysis/place_cells.py:392: RuntimeWarning: invalid value encountered in divide\n",
      "  pf = pf / self.data[\"occupancy_map\"]\n"
     ]
    },
    {
     "name": "stdout",
     "output_type": "stream",
     "text": [
      "Doing shuffle tests. This may take a while.\n"
     ]
    },
    {
     "name": "stderr",
     "output_type": "stream",
     "text": [
      "/home/austinbaggetta/csstorage3/CircleTrack/CircleTrackAnalysis/place_cells.py:44: RuntimeWarning: invalid value encountered in divide\n",
      "  velocity = dists / np.diff(t, prepend = 0) ## in seconds\n",
      "/home/austinbaggetta/csstorage3/CircleTrack/CircleTrackAnalysis/place_cells.py:392: RuntimeWarning: invalid value encountered in divide\n",
      "  pf = pf / self.data[\"occupancy_map\"]\n"
     ]
    },
    {
     "name": "stdout",
     "output_type": "stream",
     "text": [
      "Doing shuffle tests. This may take a while.\n"
     ]
    },
    {
     "name": "stderr",
     "output_type": "stream",
     "text": [
      "/home/austinbaggetta/csstorage3/CircleTrack/CircleTrackAnalysis/place_cells.py:44: RuntimeWarning: invalid value encountered in divide\n",
      "  velocity = dists / np.diff(t, prepend = 0) ## in seconds\n",
      "/home/austinbaggetta/csstorage3/CircleTrack/CircleTrackAnalysis/place_cells.py:392: RuntimeWarning: invalid value encountered in divide\n",
      "  pf = pf / self.data[\"occupancy_map\"]\n"
     ]
    },
    {
     "name": "stdout",
     "output_type": "stream",
     "text": [
      "Doing shuffle tests. This may take a while.\n"
     ]
    },
    {
     "name": "stderr",
     "output_type": "stream",
     "text": [
      "/home/austinbaggetta/csstorage3/CircleTrack/CircleTrackAnalysis/place_cells.py:44: RuntimeWarning: invalid value encountered in divide\n",
      "  velocity = dists / np.diff(t, prepend = 0) ## in seconds\n",
      "/home/austinbaggetta/csstorage3/CircleTrack/CircleTrackAnalysis/place_cells.py:392: RuntimeWarning: invalid value encountered in divide\n",
      "  pf = pf / self.data[\"occupancy_map\"]\n"
     ]
    },
    {
     "name": "stdout",
     "output_type": "stream",
     "text": [
      "Doing shuffle tests. This may take a while.\n"
     ]
    },
    {
     "name": "stderr",
     "output_type": "stream",
     "text": [
      "/home/austinbaggetta/csstorage3/CircleTrack/CircleTrackAnalysis/place_cells.py:44: RuntimeWarning: invalid value encountered in divide\n",
      "  velocity = dists / np.diff(t, prepend = 0) ## in seconds\n",
      "/home/austinbaggetta/csstorage3/CircleTrack/CircleTrackAnalysis/place_cells.py:392: RuntimeWarning: invalid value encountered in divide\n",
      "  pf = pf / self.data[\"occupancy_map\"]\n"
     ]
    },
    {
     "name": "stdout",
     "output_type": "stream",
     "text": [
      "Doing shuffle tests. This may take a while.\n"
     ]
    },
    {
     "name": "stderr",
     "output_type": "stream",
     "text": [
      "/home/austinbaggetta/csstorage3/CircleTrack/CircleTrackAnalysis/place_cells.py:44: RuntimeWarning: invalid value encountered in divide\n",
      "  velocity = dists / np.diff(t, prepend = 0) ## in seconds\n",
      "/home/austinbaggetta/csstorage3/CircleTrack/CircleTrackAnalysis/place_cells.py:392: RuntimeWarning: invalid value encountered in divide\n",
      "  pf = pf / self.data[\"occupancy_map\"]\n"
     ]
    },
    {
     "name": "stdout",
     "output_type": "stream",
     "text": [
      "Doing shuffle tests. This may take a while.\n"
     ]
    },
    {
     "name": "stderr",
     "output_type": "stream",
     "text": [
      "/home/austinbaggetta/csstorage3/CircleTrack/CircleTrackAnalysis/place_cells.py:44: RuntimeWarning: invalid value encountered in divide\n",
      "  velocity = dists / np.diff(t, prepend = 0) ## in seconds\n",
      "/home/austinbaggetta/csstorage3/CircleTrack/CircleTrackAnalysis/place_cells.py:392: RuntimeWarning: invalid value encountered in divide\n",
      "  pf = pf / self.data[\"occupancy_map\"]\n"
     ]
    },
    {
     "name": "stdout",
     "output_type": "stream",
     "text": [
      "Doing shuffle tests. This may take a while.\n"
     ]
    },
    {
     "name": "stderr",
     "output_type": "stream",
     "text": [
      "/home/austinbaggetta/csstorage3/CircleTrack/CircleTrackAnalysis/place_cells.py:44: RuntimeWarning: invalid value encountered in divide\n",
      "  velocity = dists / np.diff(t, prepend = 0) ## in seconds\n",
      "/home/austinbaggetta/csstorage3/CircleTrack/CircleTrackAnalysis/place_cells.py:392: RuntimeWarning: invalid value encountered in divide\n",
      "  pf = pf / self.data[\"occupancy_map\"]\n"
     ]
    },
    {
     "name": "stdout",
     "output_type": "stream",
     "text": [
      "Doing shuffle tests. This may take a while.\n"
     ]
    },
    {
     "name": "stderr",
     "output_type": "stream",
     "text": [
      "/home/austinbaggetta/csstorage3/CircleTrack/CircleTrackAnalysis/place_cells.py:44: RuntimeWarning: invalid value encountered in divide\n",
      "  velocity = dists / np.diff(t, prepend = 0) ## in seconds\n",
      "/home/austinbaggetta/csstorage3/CircleTrack/CircleTrackAnalysis/place_cells.py:392: RuntimeWarning: invalid value encountered in divide\n",
      "  pf = pf / self.data[\"occupancy_map\"]\n"
     ]
    },
    {
     "name": "stdout",
     "output_type": "stream",
     "text": [
      "Doing shuffle tests. This may take a while.\n"
     ]
    },
    {
     "name": "stderr",
     "output_type": "stream",
     "text": [
      "/home/austinbaggetta/csstorage3/CircleTrack/CircleTrackAnalysis/place_cells.py:44: RuntimeWarning: invalid value encountered in divide\n",
      "  velocity = dists / np.diff(t, prepend = 0) ## in seconds\n",
      "/home/austinbaggetta/csstorage3/CircleTrack/CircleTrackAnalysis/place_cells.py:392: RuntimeWarning: invalid value encountered in divide\n",
      "  pf = pf / self.data[\"occupancy_map\"]\n"
     ]
    },
    {
     "name": "stdout",
     "output_type": "stream",
     "text": [
      "Doing shuffle tests. This may take a while.\n"
     ]
    },
    {
     "name": "stderr",
     "output_type": "stream",
     "text": [
      "/home/austinbaggetta/csstorage3/CircleTrack/CircleTrackAnalysis/place_cells.py:44: RuntimeWarning: invalid value encountered in divide\n",
      "  velocity = dists / np.diff(t, prepend = 0) ## in seconds\n",
      "/home/austinbaggetta/csstorage3/CircleTrack/CircleTrackAnalysis/place_cells.py:392: RuntimeWarning: invalid value encountered in divide\n",
      "  pf = pf / self.data[\"occupancy_map\"]\n"
     ]
    },
    {
     "name": "stdout",
     "output_type": "stream",
     "text": [
      "Doing shuffle tests. This may take a while.\n"
     ]
    },
    {
     "name": "stderr",
     "output_type": "stream",
     "text": [
      "/home/austinbaggetta/csstorage3/CircleTrack/CircleTrackAnalysis/place_cells.py:44: RuntimeWarning: invalid value encountered in divide\n",
      "  velocity = dists / np.diff(t, prepend = 0) ## in seconds\n",
      "/home/austinbaggetta/csstorage3/CircleTrack/CircleTrackAnalysis/place_cells.py:392: RuntimeWarning: invalid value encountered in divide\n",
      "  pf = pf / self.data[\"occupancy_map\"]\n"
     ]
    },
    {
     "name": "stdout",
     "output_type": "stream",
     "text": [
      "Doing shuffle tests. This may take a while.\n"
     ]
    },
    {
     "name": "stderr",
     "output_type": "stream",
     "text": [
      "/home/austinbaggetta/csstorage3/CircleTrack/CircleTrackAnalysis/place_cells.py:44: RuntimeWarning: invalid value encountered in divide\n",
      "  velocity = dists / np.diff(t, prepend = 0) ## in seconds\n",
      "/home/austinbaggetta/csstorage3/CircleTrack/CircleTrackAnalysis/place_cells.py:392: RuntimeWarning: invalid value encountered in divide\n",
      "  pf = pf / self.data[\"occupancy_map\"]\n"
     ]
    },
    {
     "name": "stdout",
     "output_type": "stream",
     "text": [
      "Doing shuffle tests. This may take a while.\n"
     ]
    },
    {
     "name": "stderr",
     "output_type": "stream",
     "text": [
      "/home/austinbaggetta/csstorage3/CircleTrack/CircleTrackAnalysis/place_cells.py:44: RuntimeWarning: invalid value encountered in divide\n",
      "  velocity = dists / np.diff(t, prepend = 0) ## in seconds\n",
      "/home/austinbaggetta/csstorage3/CircleTrack/CircleTrackAnalysis/place_cells.py:392: RuntimeWarning: invalid value encountered in divide\n",
      "  pf = pf / self.data[\"occupancy_map\"]\n"
     ]
    },
    {
     "name": "stdout",
     "output_type": "stream",
     "text": [
      "Doing shuffle tests. This may take a while.\n"
     ]
    },
    {
     "name": "stderr",
     "output_type": "stream",
     "text": [
      "/home/austinbaggetta/csstorage3/CircleTrack/CircleTrackAnalysis/place_cells.py:44: RuntimeWarning: invalid value encountered in divide\n",
      "  velocity = dists / np.diff(t, prepend = 0) ## in seconds\n",
      "/home/austinbaggetta/csstorage3/CircleTrack/CircleTrackAnalysis/place_cells.py:392: RuntimeWarning: invalid value encountered in divide\n",
      "  pf = pf / self.data[\"occupancy_map\"]\n"
     ]
    },
    {
     "name": "stdout",
     "output_type": "stream",
     "text": [
      "Doing shuffle tests. This may take a while.\n"
     ]
    },
    {
     "name": "stderr",
     "output_type": "stream",
     "text": [
      "/home/austinbaggetta/csstorage3/CircleTrack/CircleTrackAnalysis/place_cells.py:44: RuntimeWarning: invalid value encountered in divide\n",
      "  velocity = dists / np.diff(t, prepend = 0) ## in seconds\n",
      "/home/austinbaggetta/csstorage3/CircleTrack/CircleTrackAnalysis/place_cells.py:392: RuntimeWarning: invalid value encountered in divide\n",
      "  pf = pf / self.data[\"occupancy_map\"]\n"
     ]
    },
    {
     "name": "stdout",
     "output_type": "stream",
     "text": [
      "Doing shuffle tests. This may take a while.\n"
     ]
    },
    {
     "name": "stderr",
     "output_type": "stream",
     "text": [
      "/home/austinbaggetta/csstorage3/CircleTrack/CircleTrackAnalysis/place_cells.py:44: RuntimeWarning: invalid value encountered in divide\n",
      "  velocity = dists / np.diff(t, prepend = 0) ## in seconds\n",
      "/home/austinbaggetta/csstorage3/CircleTrack/CircleTrackAnalysis/place_cells.py:392: RuntimeWarning: invalid value encountered in divide\n",
      "  pf = pf / self.data[\"occupancy_map\"]\n"
     ]
    },
    {
     "name": "stdout",
     "output_type": "stream",
     "text": [
      "Doing shuffle tests. This may take a while.\n"
     ]
    },
    {
     "name": "stderr",
     "output_type": "stream",
     "text": [
      "/home/austinbaggetta/csstorage3/CircleTrack/CircleTrackAnalysis/place_cells.py:44: RuntimeWarning: invalid value encountered in divide\n",
      "  velocity = dists / np.diff(t, prepend = 0) ## in seconds\n",
      "/home/austinbaggetta/csstorage3/CircleTrack/CircleTrackAnalysis/place_cells.py:392: RuntimeWarning: invalid value encountered in divide\n",
      "  pf = pf / self.data[\"occupancy_map\"]\n"
     ]
    },
    {
     "name": "stdout",
     "output_type": "stream",
     "text": [
      "Doing shuffle tests. This may take a while.\n"
     ]
    },
    {
     "name": "stderr",
     "output_type": "stream",
     "text": [
      "/home/austinbaggetta/csstorage3/CircleTrack/CircleTrackAnalysis/place_cells.py:44: RuntimeWarning: invalid value encountered in divide\n",
      "  velocity = dists / np.diff(t, prepend = 0) ## in seconds\n",
      "/home/austinbaggetta/csstorage3/CircleTrack/CircleTrackAnalysis/place_cells.py:392: RuntimeWarning: invalid value encountered in divide\n",
      "  pf = pf / self.data[\"occupancy_map\"]\n"
     ]
    },
    {
     "name": "stdout",
     "output_type": "stream",
     "text": [
      "Doing shuffle tests. This may take a while.\n"
     ]
    },
    {
     "name": "stderr",
     "output_type": "stream",
     "text": [
      "/home/austinbaggetta/csstorage3/CircleTrack/CircleTrackAnalysis/place_cells.py:458: RuntimeWarning: invalid value encountered in scalar divide\n",
      "  SI_z = (self.data[\"spatial_information\"][neuron] - np.mean(shuffled_SIs)) / np.std(\n",
      "/home/austinbaggetta/csstorage3/CircleTrack/CircleTrackAnalysis/place_cells.py:44: RuntimeWarning: invalid value encountered in divide\n",
      "  velocity = dists / np.diff(t, prepend = 0) ## in seconds\n",
      "/home/austinbaggetta/csstorage3/CircleTrack/CircleTrackAnalysis/place_cells.py:392: RuntimeWarning: invalid value encountered in divide\n",
      "  pf = pf / self.data[\"occupancy_map\"]\n"
     ]
    },
    {
     "name": "stdout",
     "output_type": "stream",
     "text": [
      "Doing shuffle tests. This may take a while.\n"
     ]
    },
    {
     "name": "stderr",
     "output_type": "stream",
     "text": [
      "/home/austinbaggetta/csstorage3/CircleTrack/CircleTrackAnalysis/place_cells.py:44: RuntimeWarning: invalid value encountered in divide\n",
      "  velocity = dists / np.diff(t, prepend = 0) ## in seconds\n",
      "/home/austinbaggetta/csstorage3/CircleTrack/CircleTrackAnalysis/place_cells.py:392: RuntimeWarning: invalid value encountered in divide\n",
      "  pf = pf / self.data[\"occupancy_map\"]\n"
     ]
    },
    {
     "name": "stdout",
     "output_type": "stream",
     "text": [
      "Doing shuffle tests. This may take a while.\n"
     ]
    },
    {
     "name": "stderr",
     "output_type": "stream",
     "text": [
      "/home/austinbaggetta/csstorage3/CircleTrack/CircleTrackAnalysis/place_cells.py:44: RuntimeWarning: invalid value encountered in divide\n",
      "  velocity = dists / np.diff(t, prepend = 0) ## in seconds\n",
      "/home/austinbaggetta/csstorage3/CircleTrack/CircleTrackAnalysis/place_cells.py:392: RuntimeWarning: invalid value encountered in divide\n",
      "  pf = pf / self.data[\"occupancy_map\"]\n"
     ]
    },
    {
     "name": "stdout",
     "output_type": "stream",
     "text": [
      "Doing shuffle tests. This may take a while.\n"
     ]
    },
    {
     "name": "stderr",
     "output_type": "stream",
     "text": [
      "/home/austinbaggetta/csstorage3/CircleTrack/CircleTrackAnalysis/place_cells.py:44: RuntimeWarning: invalid value encountered in divide\n",
      "  velocity = dists / np.diff(t, prepend = 0) ## in seconds\n",
      "/home/austinbaggetta/csstorage3/CircleTrack/CircleTrackAnalysis/place_cells.py:392: RuntimeWarning: invalid value encountered in divide\n",
      "  pf = pf / self.data[\"occupancy_map\"]\n"
     ]
    },
    {
     "name": "stdout",
     "output_type": "stream",
     "text": [
      "Doing shuffle tests. This may take a while.\n"
     ]
    },
    {
     "name": "stderr",
     "output_type": "stream",
     "text": [
      "/home/austinbaggetta/csstorage3/CircleTrack/CircleTrackAnalysis/place_cells.py:44: RuntimeWarning: invalid value encountered in divide\n",
      "  velocity = dists / np.diff(t, prepend = 0) ## in seconds\n",
      "/home/austinbaggetta/csstorage3/CircleTrack/CircleTrackAnalysis/place_cells.py:392: RuntimeWarning: invalid value encountered in divide\n",
      "  pf = pf / self.data[\"occupancy_map\"]\n"
     ]
    },
    {
     "name": "stdout",
     "output_type": "stream",
     "text": [
      "Doing shuffle tests. This may take a while.\n"
     ]
    },
    {
     "name": "stderr",
     "output_type": "stream",
     "text": [
      "/home/austinbaggetta/csstorage3/CircleTrack/CircleTrackAnalysis/place_cells.py:44: RuntimeWarning: invalid value encountered in divide\n",
      "  velocity = dists / np.diff(t, prepend = 0) ## in seconds\n",
      "/home/austinbaggetta/csstorage3/CircleTrack/CircleTrackAnalysis/place_cells.py:392: RuntimeWarning: invalid value encountered in divide\n",
      "  pf = pf / self.data[\"occupancy_map\"]\n"
     ]
    },
    {
     "name": "stdout",
     "output_type": "stream",
     "text": [
      "Doing shuffle tests. This may take a while.\n"
     ]
    },
    {
     "name": "stderr",
     "output_type": "stream",
     "text": [
      "/home/austinbaggetta/csstorage3/CircleTrack/CircleTrackAnalysis/place_cells.py:44: RuntimeWarning: invalid value encountered in divide\n",
      "  velocity = dists / np.diff(t, prepend = 0) ## in seconds\n",
      "/home/austinbaggetta/csstorage3/CircleTrack/CircleTrackAnalysis/place_cells.py:392: RuntimeWarning: invalid value encountered in divide\n",
      "  pf = pf / self.data[\"occupancy_map\"]\n"
     ]
    },
    {
     "name": "stdout",
     "output_type": "stream",
     "text": [
      "Doing shuffle tests. This may take a while.\n"
     ]
    },
    {
     "name": "stderr",
     "output_type": "stream",
     "text": [
      "/home/austinbaggetta/csstorage3/CircleTrack/CircleTrackAnalysis/place_cells.py:44: RuntimeWarning: invalid value encountered in divide\n",
      "  velocity = dists / np.diff(t, prepend = 0) ## in seconds\n",
      "/home/austinbaggetta/csstorage3/CircleTrack/CircleTrackAnalysis/place_cells.py:392: RuntimeWarning: invalid value encountered in divide\n",
      "  pf = pf / self.data[\"occupancy_map\"]\n"
     ]
    },
    {
     "name": "stdout",
     "output_type": "stream",
     "text": [
      "Doing shuffle tests. This may take a while.\n"
     ]
    },
    {
     "name": "stderr",
     "output_type": "stream",
     "text": [
      "/home/austinbaggetta/csstorage3/CircleTrack/CircleTrackAnalysis/place_cells.py:44: RuntimeWarning: invalid value encountered in divide\n",
      "  velocity = dists / np.diff(t, prepend = 0) ## in seconds\n",
      "/home/austinbaggetta/csstorage3/CircleTrack/CircleTrackAnalysis/place_cells.py:392: RuntimeWarning: invalid value encountered in divide\n",
      "  pf = pf / self.data[\"occupancy_map\"]\n"
     ]
    },
    {
     "name": "stdout",
     "output_type": "stream",
     "text": [
      "Doing shuffle tests. This may take a while.\n"
     ]
    },
    {
     "name": "stderr",
     "output_type": "stream",
     "text": [
      "/home/austinbaggetta/csstorage3/CircleTrack/CircleTrackAnalysis/place_cells.py:44: RuntimeWarning: invalid value encountered in divide\n",
      "  velocity = dists / np.diff(t, prepend = 0) ## in seconds\n",
      "/home/austinbaggetta/csstorage3/CircleTrack/CircleTrackAnalysis/place_cells.py:392: RuntimeWarning: invalid value encountered in divide\n",
      "  pf = pf / self.data[\"occupancy_map\"]\n"
     ]
    },
    {
     "name": "stdout",
     "output_type": "stream",
     "text": [
      "Doing shuffle tests. This may take a while.\n"
     ]
    },
    {
     "name": "stderr",
     "output_type": "stream",
     "text": [
      "/home/austinbaggetta/csstorage3/CircleTrack/CircleTrackAnalysis/place_cells.py:44: RuntimeWarning: invalid value encountered in divide\n",
      "  velocity = dists / np.diff(t, prepend = 0) ## in seconds\n",
      "/home/austinbaggetta/csstorage3/CircleTrack/CircleTrackAnalysis/place_cells.py:392: RuntimeWarning: invalid value encountered in divide\n",
      "  pf = pf / self.data[\"occupancy_map\"]\n"
     ]
    },
    {
     "name": "stdout",
     "output_type": "stream",
     "text": [
      "Doing shuffle tests. This may take a while.\n"
     ]
    },
    {
     "name": "stderr",
     "output_type": "stream",
     "text": [
      "/home/austinbaggetta/csstorage3/CircleTrack/CircleTrackAnalysis/place_cells.py:44: RuntimeWarning: invalid value encountered in divide\n",
      "  velocity = dists / np.diff(t, prepend = 0) ## in seconds\n",
      "/home/austinbaggetta/csstorage3/CircleTrack/CircleTrackAnalysis/place_cells.py:392: RuntimeWarning: invalid value encountered in divide\n",
      "  pf = pf / self.data[\"occupancy_map\"]\n"
     ]
    },
    {
     "name": "stdout",
     "output_type": "stream",
     "text": [
      "Doing shuffle tests. This may take a while.\n"
     ]
    },
    {
     "name": "stderr",
     "output_type": "stream",
     "text": [
      "/home/austinbaggetta/csstorage3/CircleTrack/CircleTrackAnalysis/place_cells.py:44: RuntimeWarning: invalid value encountered in divide\n",
      "  velocity = dists / np.diff(t, prepend = 0) ## in seconds\n",
      "/home/austinbaggetta/csstorage3/CircleTrack/CircleTrackAnalysis/place_cells.py:392: RuntimeWarning: invalid value encountered in divide\n",
      "  pf = pf / self.data[\"occupancy_map\"]\n"
     ]
    },
    {
     "name": "stdout",
     "output_type": "stream",
     "text": [
      "Doing shuffle tests. This may take a while.\n"
     ]
    },
    {
     "name": "stderr",
     "output_type": "stream",
     "text": [
      "/home/austinbaggetta/csstorage3/CircleTrack/CircleTrackAnalysis/place_cells.py:44: RuntimeWarning: invalid value encountered in divide\n",
      "  velocity = dists / np.diff(t, prepend = 0) ## in seconds\n",
      "/home/austinbaggetta/csstorage3/CircleTrack/CircleTrackAnalysis/place_cells.py:392: RuntimeWarning: invalid value encountered in divide\n",
      "  pf = pf / self.data[\"occupancy_map\"]\n"
     ]
    },
    {
     "name": "stdout",
     "output_type": "stream",
     "text": [
      "Doing shuffle tests. This may take a while.\n"
     ]
    },
    {
     "name": "stderr",
     "output_type": "stream",
     "text": [
      "/home/austinbaggetta/csstorage3/CircleTrack/CircleTrackAnalysis/place_cells.py:44: RuntimeWarning: invalid value encountered in divide\n",
      "  velocity = dists / np.diff(t, prepend = 0) ## in seconds\n",
      "/home/austinbaggetta/csstorage3/CircleTrack/CircleTrackAnalysis/place_cells.py:392: RuntimeWarning: invalid value encountered in divide\n",
      "  pf = pf / self.data[\"occupancy_map\"]\n"
     ]
    },
    {
     "name": "stdout",
     "output_type": "stream",
     "text": [
      "Doing shuffle tests. This may take a while.\n"
     ]
    },
    {
     "name": "stderr",
     "output_type": "stream",
     "text": [
      "/home/austinbaggetta/csstorage3/CircleTrack/CircleTrackAnalysis/place_cells.py:44: RuntimeWarning: invalid value encountered in divide\n",
      "  velocity = dists / np.diff(t, prepend = 0) ## in seconds\n",
      "/home/austinbaggetta/csstorage3/CircleTrack/CircleTrackAnalysis/place_cells.py:392: RuntimeWarning: invalid value encountered in divide\n",
      "  pf = pf / self.data[\"occupancy_map\"]\n"
     ]
    },
    {
     "name": "stdout",
     "output_type": "stream",
     "text": [
      "Doing shuffle tests. This may take a while.\n"
     ]
    },
    {
     "name": "stderr",
     "output_type": "stream",
     "text": [
      "/home/austinbaggetta/csstorage3/CircleTrack/CircleTrackAnalysis/place_cells.py:458: RuntimeWarning: invalid value encountered in scalar divide\n",
      "  SI_z = (self.data[\"spatial_information\"][neuron] - np.mean(shuffled_SIs)) / np.std(\n",
      "/home/austinbaggetta/csstorage3/CircleTrack/CircleTrackAnalysis/place_cells.py:44: RuntimeWarning: invalid value encountered in divide\n",
      "  velocity = dists / np.diff(t, prepend = 0) ## in seconds\n",
      "/home/austinbaggetta/csstorage3/CircleTrack/CircleTrackAnalysis/place_cells.py:392: RuntimeWarning: invalid value encountered in divide\n",
      "  pf = pf / self.data[\"occupancy_map\"]\n"
     ]
    },
    {
     "name": "stdout",
     "output_type": "stream",
     "text": [
      "Doing shuffle tests. This may take a while.\n"
     ]
    },
    {
     "name": "stderr",
     "output_type": "stream",
     "text": [
      "/home/austinbaggetta/csstorage3/CircleTrack/CircleTrackAnalysis/place_cells.py:44: RuntimeWarning: invalid value encountered in divide\n",
      "  velocity = dists / np.diff(t, prepend = 0) ## in seconds\n",
      "/home/austinbaggetta/csstorage3/CircleTrack/CircleTrackAnalysis/place_cells.py:392: RuntimeWarning: invalid value encountered in divide\n",
      "  pf = pf / self.data[\"occupancy_map\"]\n"
     ]
    },
    {
     "name": "stdout",
     "output_type": "stream",
     "text": [
      "Doing shuffle tests. This may take a while.\n"
     ]
    },
    {
     "name": "stderr",
     "output_type": "stream",
     "text": [
      "/home/austinbaggetta/csstorage3/CircleTrack/CircleTrackAnalysis/place_cells.py:44: RuntimeWarning: invalid value encountered in divide\n",
      "  velocity = dists / np.diff(t, prepend = 0) ## in seconds\n",
      "/home/austinbaggetta/csstorage3/CircleTrack/CircleTrackAnalysis/place_cells.py:392: RuntimeWarning: invalid value encountered in divide\n",
      "  pf = pf / self.data[\"occupancy_map\"]\n"
     ]
    },
    {
     "name": "stdout",
     "output_type": "stream",
     "text": [
      "Doing shuffle tests. This may take a while.\n"
     ]
    },
    {
     "name": "stderr",
     "output_type": "stream",
     "text": [
      "/home/austinbaggetta/csstorage3/CircleTrack/CircleTrackAnalysis/place_cells.py:44: RuntimeWarning: invalid value encountered in divide\n",
      "  velocity = dists / np.diff(t, prepend = 0) ## in seconds\n",
      "/home/austinbaggetta/csstorage3/CircleTrack/CircleTrackAnalysis/place_cells.py:392: RuntimeWarning: invalid value encountered in divide\n",
      "  pf = pf / self.data[\"occupancy_map\"]\n"
     ]
    },
    {
     "name": "stdout",
     "output_type": "stream",
     "text": [
      "Doing shuffle tests. This may take a while.\n"
     ]
    },
    {
     "name": "stderr",
     "output_type": "stream",
     "text": [
      "/home/austinbaggetta/csstorage3/CircleTrack/CircleTrackAnalysis/place_cells.py:458: RuntimeWarning: invalid value encountered in scalar divide\n",
      "  SI_z = (self.data[\"spatial_information\"][neuron] - np.mean(shuffled_SIs)) / np.std(\n",
      "/home/austinbaggetta/csstorage3/CircleTrack/CircleTrackAnalysis/place_cells.py:44: RuntimeWarning: invalid value encountered in divide\n",
      "  velocity = dists / np.diff(t, prepend = 0) ## in seconds\n",
      "/home/austinbaggetta/csstorage3/CircleTrack/CircleTrackAnalysis/place_cells.py:392: RuntimeWarning: invalid value encountered in divide\n",
      "  pf = pf / self.data[\"occupancy_map\"]\n"
     ]
    },
    {
     "name": "stdout",
     "output_type": "stream",
     "text": [
      "Doing shuffle tests. This may take a while.\n"
     ]
    },
    {
     "name": "stderr",
     "output_type": "stream",
     "text": [
      "/home/austinbaggetta/csstorage3/CircleTrack/CircleTrackAnalysis/place_cells.py:44: RuntimeWarning: invalid value encountered in divide\n",
      "  velocity = dists / np.diff(t, prepend = 0) ## in seconds\n",
      "/home/austinbaggetta/csstorage3/CircleTrack/CircleTrackAnalysis/place_cells.py:392: RuntimeWarning: invalid value encountered in divide\n",
      "  pf = pf / self.data[\"occupancy_map\"]\n"
     ]
    },
    {
     "name": "stdout",
     "output_type": "stream",
     "text": [
      "Doing shuffle tests. This may take a while.\n"
     ]
    },
    {
     "name": "stderr",
     "output_type": "stream",
     "text": [
      "/home/austinbaggetta/csstorage3/CircleTrack/CircleTrackAnalysis/place_cells.py:44: RuntimeWarning: invalid value encountered in divide\n",
      "  velocity = dists / np.diff(t, prepend = 0) ## in seconds\n",
      "/home/austinbaggetta/csstorage3/CircleTrack/CircleTrackAnalysis/place_cells.py:392: RuntimeWarning: invalid value encountered in divide\n",
      "  pf = pf / self.data[\"occupancy_map\"]\n"
     ]
    },
    {
     "name": "stdout",
     "output_type": "stream",
     "text": [
      "Doing shuffle tests. This may take a while.\n"
     ]
    },
    {
     "name": "stderr",
     "output_type": "stream",
     "text": [
      "/home/austinbaggetta/csstorage3/CircleTrack/CircleTrackAnalysis/place_cells.py:44: RuntimeWarning: invalid value encountered in divide\n",
      "  velocity = dists / np.diff(t, prepend = 0) ## in seconds\n",
      "/home/austinbaggetta/csstorage3/CircleTrack/CircleTrackAnalysis/place_cells.py:392: RuntimeWarning: invalid value encountered in divide\n",
      "  pf = pf / self.data[\"occupancy_map\"]\n"
     ]
    },
    {
     "name": "stdout",
     "output_type": "stream",
     "text": [
      "Doing shuffle tests. This may take a while.\n"
     ]
    },
    {
     "name": "stderr",
     "output_type": "stream",
     "text": [
      "/home/austinbaggetta/csstorage3/CircleTrack/CircleTrackAnalysis/place_cells.py:44: RuntimeWarning: invalid value encountered in divide\n",
      "  velocity = dists / np.diff(t, prepend = 0) ## in seconds\n",
      "/home/austinbaggetta/csstorage3/CircleTrack/CircleTrackAnalysis/place_cells.py:392: RuntimeWarning: invalid value encountered in divide\n",
      "  pf = pf / self.data[\"occupancy_map\"]\n"
     ]
    },
    {
     "name": "stdout",
     "output_type": "stream",
     "text": [
      "Doing shuffle tests. This may take a while.\n"
     ]
    },
    {
     "name": "stderr",
     "output_type": "stream",
     "text": [
      "/home/austinbaggetta/csstorage3/CircleTrack/CircleTrackAnalysis/place_cells.py:44: RuntimeWarning: invalid value encountered in divide\n",
      "  velocity = dists / np.diff(t, prepend = 0) ## in seconds\n",
      "/home/austinbaggetta/csstorage3/CircleTrack/CircleTrackAnalysis/place_cells.py:392: RuntimeWarning: invalid value encountered in divide\n",
      "  pf = pf / self.data[\"occupancy_map\"]\n"
     ]
    },
    {
     "name": "stdout",
     "output_type": "stream",
     "text": [
      "Doing shuffle tests. This may take a while.\n"
     ]
    },
    {
     "name": "stderr",
     "output_type": "stream",
     "text": [
      "/home/austinbaggetta/csstorage3/CircleTrack/CircleTrackAnalysis/place_cells.py:44: RuntimeWarning: invalid value encountered in divide\n",
      "  velocity = dists / np.diff(t, prepend = 0) ## in seconds\n",
      "/home/austinbaggetta/csstorage3/CircleTrack/CircleTrackAnalysis/place_cells.py:392: RuntimeWarning: invalid value encountered in divide\n",
      "  pf = pf / self.data[\"occupancy_map\"]\n"
     ]
    },
    {
     "name": "stdout",
     "output_type": "stream",
     "text": [
      "Doing shuffle tests. This may take a while.\n"
     ]
    },
    {
     "name": "stderr",
     "output_type": "stream",
     "text": [
      "/home/austinbaggetta/csstorage3/CircleTrack/CircleTrackAnalysis/place_cells.py:44: RuntimeWarning: invalid value encountered in divide\n",
      "  velocity = dists / np.diff(t, prepend = 0) ## in seconds\n",
      "/home/austinbaggetta/csstorage3/CircleTrack/CircleTrackAnalysis/place_cells.py:392: RuntimeWarning: invalid value encountered in divide\n",
      "  pf = pf / self.data[\"occupancy_map\"]\n"
     ]
    },
    {
     "name": "stdout",
     "output_type": "stream",
     "text": [
      "Doing shuffle tests. This may take a while.\n"
     ]
    },
    {
     "name": "stderr",
     "output_type": "stream",
     "text": [
      "/home/austinbaggetta/csstorage3/CircleTrack/CircleTrackAnalysis/place_cells.py:44: RuntimeWarning: invalid value encountered in divide\n",
      "  velocity = dists / np.diff(t, prepend = 0) ## in seconds\n",
      "/home/austinbaggetta/csstorage3/CircleTrack/CircleTrackAnalysis/place_cells.py:392: RuntimeWarning: invalid value encountered in divide\n",
      "  pf = pf / self.data[\"occupancy_map\"]\n"
     ]
    },
    {
     "name": "stdout",
     "output_type": "stream",
     "text": [
      "Doing shuffle tests. This may take a while.\n"
     ]
    },
    {
     "name": "stderr",
     "output_type": "stream",
     "text": [
      "/home/austinbaggetta/csstorage3/CircleTrack/CircleTrackAnalysis/place_cells.py:44: RuntimeWarning: invalid value encountered in divide\n",
      "  velocity = dists / np.diff(t, prepend = 0) ## in seconds\n",
      "/home/austinbaggetta/csstorage3/CircleTrack/CircleTrackAnalysis/place_cells.py:392: RuntimeWarning: invalid value encountered in divide\n",
      "  pf = pf / self.data[\"occupancy_map\"]\n"
     ]
    },
    {
     "name": "stdout",
     "output_type": "stream",
     "text": [
      "Doing shuffle tests. This may take a while.\n"
     ]
    },
    {
     "name": "stderr",
     "output_type": "stream",
     "text": [
      "/home/austinbaggetta/csstorage3/CircleTrack/CircleTrackAnalysis/place_cells.py:44: RuntimeWarning: invalid value encountered in divide\n",
      "  velocity = dists / np.diff(t, prepend = 0) ## in seconds\n",
      "/home/austinbaggetta/csstorage3/CircleTrack/CircleTrackAnalysis/place_cells.py:392: RuntimeWarning: invalid value encountered in divide\n",
      "  pf = pf / self.data[\"occupancy_map\"]\n"
     ]
    },
    {
     "name": "stdout",
     "output_type": "stream",
     "text": [
      "Doing shuffle tests. This may take a while.\n"
     ]
    },
    {
     "name": "stderr",
     "output_type": "stream",
     "text": [
      "/home/austinbaggetta/csstorage3/CircleTrack/CircleTrackAnalysis/place_cells.py:44: RuntimeWarning: invalid value encountered in divide\n",
      "  velocity = dists / np.diff(t, prepend = 0) ## in seconds\n",
      "/home/austinbaggetta/csstorage3/CircleTrack/CircleTrackAnalysis/place_cells.py:392: RuntimeWarning: invalid value encountered in divide\n",
      "  pf = pf / self.data[\"occupancy_map\"]\n"
     ]
    },
    {
     "name": "stdout",
     "output_type": "stream",
     "text": [
      "Doing shuffle tests. This may take a while.\n"
     ]
    },
    {
     "name": "stderr",
     "output_type": "stream",
     "text": [
      "/home/austinbaggetta/csstorage3/CircleTrack/CircleTrackAnalysis/place_cells.py:44: RuntimeWarning: invalid value encountered in divide\n",
      "  velocity = dists / np.diff(t, prepend = 0) ## in seconds\n",
      "/home/austinbaggetta/csstorage3/CircleTrack/CircleTrackAnalysis/place_cells.py:392: RuntimeWarning: invalid value encountered in divide\n",
      "  pf = pf / self.data[\"occupancy_map\"]\n"
     ]
    },
    {
     "name": "stdout",
     "output_type": "stream",
     "text": [
      "Doing shuffle tests. This may take a while.\n"
     ]
    },
    {
     "name": "stderr",
     "output_type": "stream",
     "text": [
      "/home/austinbaggetta/csstorage3/CircleTrack/CircleTrackAnalysis/place_cells.py:44: RuntimeWarning: invalid value encountered in divide\n",
      "  velocity = dists / np.diff(t, prepend = 0) ## in seconds\n",
      "/home/austinbaggetta/csstorage3/CircleTrack/CircleTrackAnalysis/place_cells.py:392: RuntimeWarning: invalid value encountered in divide\n",
      "  pf = pf / self.data[\"occupancy_map\"]\n"
     ]
    },
    {
     "name": "stdout",
     "output_type": "stream",
     "text": [
      "Doing shuffle tests. This may take a while.\n"
     ]
    },
    {
     "name": "stderr",
     "output_type": "stream",
     "text": [
      "/home/austinbaggetta/csstorage3/CircleTrack/CircleTrackAnalysis/place_cells.py:44: RuntimeWarning: invalid value encountered in divide\n",
      "  velocity = dists / np.diff(t, prepend = 0) ## in seconds\n",
      "/home/austinbaggetta/csstorage3/CircleTrack/CircleTrackAnalysis/place_cells.py:392: RuntimeWarning: invalid value encountered in divide\n",
      "  pf = pf / self.data[\"occupancy_map\"]\n"
     ]
    },
    {
     "name": "stdout",
     "output_type": "stream",
     "text": [
      "Doing shuffle tests. This may take a while.\n"
     ]
    },
    {
     "name": "stderr",
     "output_type": "stream",
     "text": [
      "/home/austinbaggetta/csstorage3/CircleTrack/CircleTrackAnalysis/place_cells.py:44: RuntimeWarning: invalid value encountered in divide\n",
      "  velocity = dists / np.diff(t, prepend = 0) ## in seconds\n",
      "/home/austinbaggetta/csstorage3/CircleTrack/CircleTrackAnalysis/place_cells.py:392: RuntimeWarning: invalid value encountered in divide\n",
      "  pf = pf / self.data[\"occupancy_map\"]\n"
     ]
    },
    {
     "name": "stdout",
     "output_type": "stream",
     "text": [
      "Doing shuffle tests. This may take a while.\n"
     ]
    },
    {
     "name": "stderr",
     "output_type": "stream",
     "text": [
      "/home/austinbaggetta/csstorage3/CircleTrack/CircleTrackAnalysis/place_cells.py:44: RuntimeWarning: invalid value encountered in divide\n",
      "  velocity = dists / np.diff(t, prepend = 0) ## in seconds\n",
      "/home/austinbaggetta/csstorage3/CircleTrack/CircleTrackAnalysis/place_cells.py:392: RuntimeWarning: invalid value encountered in divide\n",
      "  pf = pf / self.data[\"occupancy_map\"]\n"
     ]
    },
    {
     "name": "stdout",
     "output_type": "stream",
     "text": [
      "Doing shuffle tests. This may take a while.\n"
     ]
    },
    {
     "name": "stderr",
     "output_type": "stream",
     "text": [
      "/home/austinbaggetta/csstorage3/CircleTrack/CircleTrackAnalysis/place_cells.py:44: RuntimeWarning: invalid value encountered in divide\n",
      "  velocity = dists / np.diff(t, prepend = 0) ## in seconds\n",
      "/home/austinbaggetta/csstorage3/CircleTrack/CircleTrackAnalysis/place_cells.py:392: RuntimeWarning: invalid value encountered in divide\n",
      "  pf = pf / self.data[\"occupancy_map\"]\n"
     ]
    },
    {
     "name": "stdout",
     "output_type": "stream",
     "text": [
      "Doing shuffle tests. This may take a while.\n"
     ]
    },
    {
     "name": "stderr",
     "output_type": "stream",
     "text": [
      "/home/austinbaggetta/csstorage3/CircleTrack/CircleTrackAnalysis/place_cells.py:44: RuntimeWarning: invalid value encountered in divide\n",
      "  velocity = dists / np.diff(t, prepend = 0) ## in seconds\n",
      "/home/austinbaggetta/csstorage3/CircleTrack/CircleTrackAnalysis/place_cells.py:392: RuntimeWarning: invalid value encountered in divide\n",
      "  pf = pf / self.data[\"occupancy_map\"]\n"
     ]
    },
    {
     "name": "stdout",
     "output_type": "stream",
     "text": [
      "Doing shuffle tests. This may take a while.\n"
     ]
    },
    {
     "name": "stderr",
     "output_type": "stream",
     "text": [
      "/home/austinbaggetta/csstorage3/CircleTrack/CircleTrackAnalysis/place_cells.py:44: RuntimeWarning: invalid value encountered in divide\n",
      "  velocity = dists / np.diff(t, prepend = 0) ## in seconds\n",
      "/home/austinbaggetta/csstorage3/CircleTrack/CircleTrackAnalysis/place_cells.py:392: RuntimeWarning: invalid value encountered in divide\n",
      "  pf = pf / self.data[\"occupancy_map\"]\n"
     ]
    },
    {
     "name": "stdout",
     "output_type": "stream",
     "text": [
      "Doing shuffle tests. This may take a while.\n"
     ]
    },
    {
     "name": "stderr",
     "output_type": "stream",
     "text": [
      "/home/austinbaggetta/csstorage3/CircleTrack/CircleTrackAnalysis/place_cells.py:44: RuntimeWarning: invalid value encountered in divide\n",
      "  velocity = dists / np.diff(t, prepend = 0) ## in seconds\n",
      "/home/austinbaggetta/csstorage3/CircleTrack/CircleTrackAnalysis/place_cells.py:392: RuntimeWarning: invalid value encountered in divide\n",
      "  pf = pf / self.data[\"occupancy_map\"]\n"
     ]
    },
    {
     "name": "stdout",
     "output_type": "stream",
     "text": [
      "Doing shuffle tests. This may take a while.\n"
     ]
    },
    {
     "name": "stderr",
     "output_type": "stream",
     "text": [
      "/home/austinbaggetta/csstorage3/CircleTrack/CircleTrackAnalysis/place_cells.py:44: RuntimeWarning: invalid value encountered in divide\n",
      "  velocity = dists / np.diff(t, prepend = 0) ## in seconds\n",
      "/home/austinbaggetta/csstorage3/CircleTrack/CircleTrackAnalysis/place_cells.py:392: RuntimeWarning: invalid value encountered in divide\n",
      "  pf = pf / self.data[\"occupancy_map\"]\n"
     ]
    },
    {
     "name": "stdout",
     "output_type": "stream",
     "text": [
      "Doing shuffle tests. This may take a while.\n"
     ]
    },
    {
     "name": "stderr",
     "output_type": "stream",
     "text": [
      "/home/austinbaggetta/csstorage3/CircleTrack/CircleTrackAnalysis/place_cells.py:44: RuntimeWarning: invalid value encountered in divide\n",
      "  velocity = dists / np.diff(t, prepend = 0) ## in seconds\n",
      "/home/austinbaggetta/csstorage3/CircleTrack/CircleTrackAnalysis/place_cells.py:392: RuntimeWarning: invalid value encountered in divide\n",
      "  pf = pf / self.data[\"occupancy_map\"]\n"
     ]
    },
    {
     "name": "stdout",
     "output_type": "stream",
     "text": [
      "Doing shuffle tests. This may take a while.\n"
     ]
    },
    {
     "name": "stderr",
     "output_type": "stream",
     "text": [
      "/home/austinbaggetta/csstorage3/CircleTrack/CircleTrackAnalysis/place_cells.py:44: RuntimeWarning: invalid value encountered in divide\n",
      "  velocity = dists / np.diff(t, prepend = 0) ## in seconds\n",
      "/home/austinbaggetta/csstorage3/CircleTrack/CircleTrackAnalysis/place_cells.py:392: RuntimeWarning: invalid value encountered in divide\n",
      "  pf = pf / self.data[\"occupancy_map\"]\n"
     ]
    },
    {
     "name": "stdout",
     "output_type": "stream",
     "text": [
      "Doing shuffle tests. This may take a while.\n"
     ]
    },
    {
     "name": "stderr",
     "output_type": "stream",
     "text": [
      "/home/austinbaggetta/csstorage3/CircleTrack/CircleTrackAnalysis/place_cells.py:44: RuntimeWarning: invalid value encountered in divide\n",
      "  velocity = dists / np.diff(t, prepend = 0) ## in seconds\n",
      "/home/austinbaggetta/csstorage3/CircleTrack/CircleTrackAnalysis/place_cells.py:392: RuntimeWarning: invalid value encountered in divide\n",
      "  pf = pf / self.data[\"occupancy_map\"]\n"
     ]
    },
    {
     "name": "stdout",
     "output_type": "stream",
     "text": [
      "Doing shuffle tests. This may take a while.\n"
     ]
    },
    {
     "name": "stderr",
     "output_type": "stream",
     "text": [
      "/home/austinbaggetta/csstorage3/CircleTrack/CircleTrackAnalysis/place_cells.py:44: RuntimeWarning: invalid value encountered in divide\n",
      "  velocity = dists / np.diff(t, prepend = 0) ## in seconds\n",
      "/home/austinbaggetta/csstorage3/CircleTrack/CircleTrackAnalysis/place_cells.py:392: RuntimeWarning: invalid value encountered in divide\n",
      "  pf = pf / self.data[\"occupancy_map\"]\n"
     ]
    },
    {
     "name": "stdout",
     "output_type": "stream",
     "text": [
      "Doing shuffle tests. This may take a while.\n"
     ]
    },
    {
     "name": "stderr",
     "output_type": "stream",
     "text": [
      "/home/austinbaggetta/csstorage3/CircleTrack/CircleTrackAnalysis/place_cells.py:44: RuntimeWarning: invalid value encountered in divide\n",
      "  velocity = dists / np.diff(t, prepend = 0) ## in seconds\n",
      "/home/austinbaggetta/csstorage3/CircleTrack/CircleTrackAnalysis/place_cells.py:392: RuntimeWarning: invalid value encountered in divide\n",
      "  pf = pf / self.data[\"occupancy_map\"]\n"
     ]
    },
    {
     "name": "stdout",
     "output_type": "stream",
     "text": [
      "Doing shuffle tests. This may take a while.\n"
     ]
    },
    {
     "name": "stderr",
     "output_type": "stream",
     "text": [
      "/home/austinbaggetta/csstorage3/CircleTrack/CircleTrackAnalysis/place_cells.py:44: RuntimeWarning: invalid value encountered in divide\n",
      "  velocity = dists / np.diff(t, prepend = 0) ## in seconds\n",
      "/home/austinbaggetta/csstorage3/CircleTrack/CircleTrackAnalysis/place_cells.py:392: RuntimeWarning: invalid value encountered in divide\n",
      "  pf = pf / self.data[\"occupancy_map\"]\n"
     ]
    },
    {
     "name": "stdout",
     "output_type": "stream",
     "text": [
      "Doing shuffle tests. This may take a while.\n"
     ]
    },
    {
     "name": "stderr",
     "output_type": "stream",
     "text": [
      "/home/austinbaggetta/csstorage3/CircleTrack/CircleTrackAnalysis/place_cells.py:44: RuntimeWarning: invalid value encountered in divide\n",
      "  velocity = dists / np.diff(t, prepend = 0) ## in seconds\n",
      "/home/austinbaggetta/csstorage3/CircleTrack/CircleTrackAnalysis/place_cells.py:392: RuntimeWarning: invalid value encountered in divide\n",
      "  pf = pf / self.data[\"occupancy_map\"]\n"
     ]
    },
    {
     "name": "stdout",
     "output_type": "stream",
     "text": [
      "Doing shuffle tests. This may take a while.\n"
     ]
    },
    {
     "name": "stderr",
     "output_type": "stream",
     "text": [
      "/home/austinbaggetta/csstorage3/CircleTrack/CircleTrackAnalysis/place_cells.py:44: RuntimeWarning: invalid value encountered in divide\n",
      "  velocity = dists / np.diff(t, prepend = 0) ## in seconds\n",
      "/home/austinbaggetta/csstorage3/CircleTrack/CircleTrackAnalysis/place_cells.py:392: RuntimeWarning: invalid value encountered in divide\n",
      "  pf = pf / self.data[\"occupancy_map\"]\n"
     ]
    },
    {
     "name": "stdout",
     "output_type": "stream",
     "text": [
      "Doing shuffle tests. This may take a while.\n"
     ]
    },
    {
     "name": "stderr",
     "output_type": "stream",
     "text": [
      "/home/austinbaggetta/csstorage3/CircleTrack/CircleTrackAnalysis/place_cells.py:44: RuntimeWarning: invalid value encountered in divide\n",
      "  velocity = dists / np.diff(t, prepend = 0) ## in seconds\n",
      "/home/austinbaggetta/csstorage3/CircleTrack/CircleTrackAnalysis/place_cells.py:392: RuntimeWarning: invalid value encountered in divide\n",
      "  pf = pf / self.data[\"occupancy_map\"]\n"
     ]
    },
    {
     "name": "stdout",
     "output_type": "stream",
     "text": [
      "Doing shuffle tests. This may take a while.\n"
     ]
    },
    {
     "name": "stderr",
     "output_type": "stream",
     "text": [
      "/home/austinbaggetta/csstorage3/CircleTrack/CircleTrackAnalysis/place_cells.py:44: RuntimeWarning: invalid value encountered in divide\n",
      "  velocity = dists / np.diff(t, prepend = 0) ## in seconds\n",
      "/home/austinbaggetta/csstorage3/CircleTrack/CircleTrackAnalysis/place_cells.py:392: RuntimeWarning: invalid value encountered in divide\n",
      "  pf = pf / self.data[\"occupancy_map\"]\n"
     ]
    },
    {
     "name": "stdout",
     "output_type": "stream",
     "text": [
      "Doing shuffle tests. This may take a while.\n"
     ]
    },
    {
     "name": "stderr",
     "output_type": "stream",
     "text": [
      "/home/austinbaggetta/csstorage3/CircleTrack/CircleTrackAnalysis/place_cells.py:44: RuntimeWarning: invalid value encountered in divide\n",
      "  velocity = dists / np.diff(t, prepend = 0) ## in seconds\n",
      "/home/austinbaggetta/csstorage3/CircleTrack/CircleTrackAnalysis/place_cells.py:392: RuntimeWarning: invalid value encountered in divide\n",
      "  pf = pf / self.data[\"occupancy_map\"]\n"
     ]
    },
    {
     "name": "stdout",
     "output_type": "stream",
     "text": [
      "Doing shuffle tests. This may take a while.\n"
     ]
    },
    {
     "name": "stderr",
     "output_type": "stream",
     "text": [
      "/home/austinbaggetta/csstorage3/CircleTrack/CircleTrackAnalysis/place_cells.py:44: RuntimeWarning: invalid value encountered in divide\n",
      "  velocity = dists / np.diff(t, prepend = 0) ## in seconds\n",
      "/home/austinbaggetta/csstorage3/CircleTrack/CircleTrackAnalysis/place_cells.py:392: RuntimeWarning: invalid value encountered in divide\n",
      "  pf = pf / self.data[\"occupancy_map\"]\n"
     ]
    },
    {
     "name": "stdout",
     "output_type": "stream",
     "text": [
      "Doing shuffle tests. This may take a while.\n"
     ]
    },
    {
     "name": "stderr",
     "output_type": "stream",
     "text": [
      "/home/austinbaggetta/csstorage3/CircleTrack/CircleTrackAnalysis/place_cells.py:44: RuntimeWarning: invalid value encountered in divide\n",
      "  velocity = dists / np.diff(t, prepend = 0) ## in seconds\n",
      "/home/austinbaggetta/csstorage3/CircleTrack/CircleTrackAnalysis/place_cells.py:392: RuntimeWarning: invalid value encountered in divide\n",
      "  pf = pf / self.data[\"occupancy_map\"]\n"
     ]
    },
    {
     "name": "stdout",
     "output_type": "stream",
     "text": [
      "Doing shuffle tests. This may take a while.\n"
     ]
    },
    {
     "name": "stderr",
     "output_type": "stream",
     "text": [
      "/home/austinbaggetta/csstorage3/CircleTrack/CircleTrackAnalysis/place_cells.py:44: RuntimeWarning: invalid value encountered in divide\n",
      "  velocity = dists / np.diff(t, prepend = 0) ## in seconds\n",
      "/home/austinbaggetta/csstorage3/CircleTrack/CircleTrackAnalysis/place_cells.py:392: RuntimeWarning: invalid value encountered in divide\n",
      "  pf = pf / self.data[\"occupancy_map\"]\n"
     ]
    },
    {
     "name": "stdout",
     "output_type": "stream",
     "text": [
      "Doing shuffle tests. This may take a while.\n"
     ]
    },
    {
     "name": "stderr",
     "output_type": "stream",
     "text": [
      "/home/austinbaggetta/csstorage3/CircleTrack/CircleTrackAnalysis/place_cells.py:44: RuntimeWarning: invalid value encountered in divide\n",
      "  velocity = dists / np.diff(t, prepend = 0) ## in seconds\n",
      "/home/austinbaggetta/csstorage3/CircleTrack/CircleTrackAnalysis/place_cells.py:392: RuntimeWarning: invalid value encountered in divide\n",
      "  pf = pf / self.data[\"occupancy_map\"]\n"
     ]
    },
    {
     "name": "stdout",
     "output_type": "stream",
     "text": [
      "Doing shuffle tests. This may take a while.\n"
     ]
    },
    {
     "name": "stderr",
     "output_type": "stream",
     "text": [
      "/home/austinbaggetta/csstorage3/CircleTrack/CircleTrackAnalysis/place_cells.py:44: RuntimeWarning: invalid value encountered in divide\n",
      "  velocity = dists / np.diff(t, prepend = 0) ## in seconds\n",
      "/home/austinbaggetta/csstorage3/CircleTrack/CircleTrackAnalysis/place_cells.py:392: RuntimeWarning: invalid value encountered in divide\n",
      "  pf = pf / self.data[\"occupancy_map\"]\n"
     ]
    },
    {
     "name": "stdout",
     "output_type": "stream",
     "text": [
      "Doing shuffle tests. This may take a while.\n"
     ]
    },
    {
     "name": "stderr",
     "output_type": "stream",
     "text": [
      "/home/austinbaggetta/csstorage3/CircleTrack/CircleTrackAnalysis/place_cells.py:44: RuntimeWarning: invalid value encountered in divide\n",
      "  velocity = dists / np.diff(t, prepend = 0) ## in seconds\n",
      "/home/austinbaggetta/csstorage3/CircleTrack/CircleTrackAnalysis/place_cells.py:392: RuntimeWarning: invalid value encountered in divide\n",
      "  pf = pf / self.data[\"occupancy_map\"]\n"
     ]
    },
    {
     "name": "stdout",
     "output_type": "stream",
     "text": [
      "Doing shuffle tests. This may take a while.\n"
     ]
    },
    {
     "name": "stderr",
     "output_type": "stream",
     "text": [
      "/home/austinbaggetta/csstorage3/CircleTrack/CircleTrackAnalysis/place_cells.py:44: RuntimeWarning: invalid value encountered in divide\n",
      "  velocity = dists / np.diff(t, prepend = 0) ## in seconds\n",
      "/home/austinbaggetta/csstorage3/CircleTrack/CircleTrackAnalysis/place_cells.py:392: RuntimeWarning: invalid value encountered in divide\n",
      "  pf = pf / self.data[\"occupancy_map\"]\n"
     ]
    },
    {
     "name": "stdout",
     "output_type": "stream",
     "text": [
      "Doing shuffle tests. This may take a while.\n"
     ]
    },
    {
     "name": "stderr",
     "output_type": "stream",
     "text": [
      "/home/austinbaggetta/csstorage3/CircleTrack/CircleTrackAnalysis/place_cells.py:458: RuntimeWarning: invalid value encountered in scalar divide\n",
      "  SI_z = (self.data[\"spatial_information\"][neuron] - np.mean(shuffled_SIs)) / np.std(\n",
      "/home/austinbaggetta/csstorage3/CircleTrack/CircleTrackAnalysis/place_cells.py:44: RuntimeWarning: invalid value encountered in divide\n",
      "  velocity = dists / np.diff(t, prepend = 0) ## in seconds\n",
      "/home/austinbaggetta/csstorage3/CircleTrack/CircleTrackAnalysis/place_cells.py:392: RuntimeWarning: invalid value encountered in divide\n",
      "  pf = pf / self.data[\"occupancy_map\"]\n"
     ]
    },
    {
     "name": "stdout",
     "output_type": "stream",
     "text": [
      "Doing shuffle tests. This may take a while.\n"
     ]
    },
    {
     "name": "stderr",
     "output_type": "stream",
     "text": [
      "/home/austinbaggetta/csstorage3/CircleTrack/CircleTrackAnalysis/place_cells.py:44: RuntimeWarning: invalid value encountered in divide\n",
      "  velocity = dists / np.diff(t, prepend = 0) ## in seconds\n",
      "/home/austinbaggetta/csstorage3/CircleTrack/CircleTrackAnalysis/place_cells.py:392: RuntimeWarning: invalid value encountered in divide\n",
      "  pf = pf / self.data[\"occupancy_map\"]\n"
     ]
    },
    {
     "name": "stdout",
     "output_type": "stream",
     "text": [
      "Doing shuffle tests. This may take a while.\n"
     ]
    },
    {
     "name": "stderr",
     "output_type": "stream",
     "text": [
      "/home/austinbaggetta/csstorage3/CircleTrack/CircleTrackAnalysis/place_cells.py:44: RuntimeWarning: invalid value encountered in divide\n",
      "  velocity = dists / np.diff(t, prepend = 0) ## in seconds\n",
      "/home/austinbaggetta/csstorage3/CircleTrack/CircleTrackAnalysis/place_cells.py:392: RuntimeWarning: invalid value encountered in divide\n",
      "  pf = pf / self.data[\"occupancy_map\"]\n"
     ]
    },
    {
     "name": "stdout",
     "output_type": "stream",
     "text": [
      "Doing shuffle tests. This may take a while.\n"
     ]
    },
    {
     "name": "stderr",
     "output_type": "stream",
     "text": [
      "/home/austinbaggetta/csstorage3/CircleTrack/CircleTrackAnalysis/place_cells.py:458: RuntimeWarning: invalid value encountered in scalar divide\n",
      "  SI_z = (self.data[\"spatial_information\"][neuron] - np.mean(shuffled_SIs)) / np.std(\n",
      "/home/austinbaggetta/csstorage3/CircleTrack/CircleTrackAnalysis/place_cells.py:44: RuntimeWarning: invalid value encountered in divide\n",
      "  velocity = dists / np.diff(t, prepend = 0) ## in seconds\n",
      "/home/austinbaggetta/csstorage3/CircleTrack/CircleTrackAnalysis/place_cells.py:392: RuntimeWarning: invalid value encountered in divide\n",
      "  pf = pf / self.data[\"occupancy_map\"]\n"
     ]
    },
    {
     "name": "stdout",
     "output_type": "stream",
     "text": [
      "Doing shuffle tests. This may take a while.\n"
     ]
    },
    {
     "name": "stderr",
     "output_type": "stream",
     "text": [
      "/home/austinbaggetta/csstorage3/CircleTrack/CircleTrackAnalysis/place_cells.py:44: RuntimeWarning: invalid value encountered in divide\n",
      "  velocity = dists / np.diff(t, prepend = 0) ## in seconds\n",
      "/home/austinbaggetta/csstorage3/CircleTrack/CircleTrackAnalysis/place_cells.py:392: RuntimeWarning: invalid value encountered in divide\n",
      "  pf = pf / self.data[\"occupancy_map\"]\n"
     ]
    },
    {
     "name": "stdout",
     "output_type": "stream",
     "text": [
      "Doing shuffle tests. This may take a while.\n"
     ]
    },
    {
     "name": "stderr",
     "output_type": "stream",
     "text": [
      "/home/austinbaggetta/csstorage3/CircleTrack/CircleTrackAnalysis/place_cells.py:44: RuntimeWarning: invalid value encountered in divide\n",
      "  velocity = dists / np.diff(t, prepend = 0) ## in seconds\n",
      "/home/austinbaggetta/csstorage3/CircleTrack/CircleTrackAnalysis/place_cells.py:392: RuntimeWarning: invalid value encountered in divide\n",
      "  pf = pf / self.data[\"occupancy_map\"]\n"
     ]
    },
    {
     "name": "stdout",
     "output_type": "stream",
     "text": [
      "Doing shuffle tests. This may take a while.\n"
     ]
    },
    {
     "name": "stderr",
     "output_type": "stream",
     "text": [
      "/home/austinbaggetta/csstorage3/CircleTrack/CircleTrackAnalysis/place_cells.py:458: RuntimeWarning: invalid value encountered in scalar divide\n",
      "  SI_z = (self.data[\"spatial_information\"][neuron] - np.mean(shuffled_SIs)) / np.std(\n",
      "/home/austinbaggetta/csstorage3/CircleTrack/CircleTrackAnalysis/place_cells.py:44: RuntimeWarning: invalid value encountered in divide\n",
      "  velocity = dists / np.diff(t, prepend = 0) ## in seconds\n",
      "/home/austinbaggetta/csstorage3/CircleTrack/CircleTrackAnalysis/place_cells.py:392: RuntimeWarning: invalid value encountered in divide\n",
      "  pf = pf / self.data[\"occupancy_map\"]\n"
     ]
    },
    {
     "name": "stdout",
     "output_type": "stream",
     "text": [
      "Doing shuffle tests. This may take a while.\n"
     ]
    },
    {
     "name": "stderr",
     "output_type": "stream",
     "text": [
      "/home/austinbaggetta/csstorage3/CircleTrack/CircleTrackAnalysis/place_cells.py:44: RuntimeWarning: invalid value encountered in divide\n",
      "  velocity = dists / np.diff(t, prepend = 0) ## in seconds\n",
      "/home/austinbaggetta/csstorage3/CircleTrack/CircleTrackAnalysis/place_cells.py:392: RuntimeWarning: invalid value encountered in divide\n",
      "  pf = pf / self.data[\"occupancy_map\"]\n"
     ]
    },
    {
     "name": "stdout",
     "output_type": "stream",
     "text": [
      "Doing shuffle tests. This may take a while.\n"
     ]
    },
    {
     "name": "stderr",
     "output_type": "stream",
     "text": [
      "/home/austinbaggetta/csstorage3/CircleTrack/CircleTrackAnalysis/place_cells.py:44: RuntimeWarning: invalid value encountered in divide\n",
      "  velocity = dists / np.diff(t, prepend = 0) ## in seconds\n",
      "/home/austinbaggetta/csstorage3/CircleTrack/CircleTrackAnalysis/place_cells.py:392: RuntimeWarning: invalid value encountered in divide\n",
      "  pf = pf / self.data[\"occupancy_map\"]\n"
     ]
    },
    {
     "name": "stdout",
     "output_type": "stream",
     "text": [
      "Doing shuffle tests. This may take a while.\n"
     ]
    },
    {
     "name": "stderr",
     "output_type": "stream",
     "text": [
      "/home/austinbaggetta/csstorage3/CircleTrack/CircleTrackAnalysis/place_cells.py:44: RuntimeWarning: invalid value encountered in divide\n",
      "  velocity = dists / np.diff(t, prepend = 0) ## in seconds\n",
      "/home/austinbaggetta/csstorage3/CircleTrack/CircleTrackAnalysis/place_cells.py:392: RuntimeWarning: invalid value encountered in divide\n",
      "  pf = pf / self.data[\"occupancy_map\"]\n"
     ]
    },
    {
     "name": "stdout",
     "output_type": "stream",
     "text": [
      "Doing shuffle tests. This may take a while.\n"
     ]
    },
    {
     "name": "stderr",
     "output_type": "stream",
     "text": [
      "/home/austinbaggetta/csstorage3/CircleTrack/CircleTrackAnalysis/place_cells.py:44: RuntimeWarning: invalid value encountered in divide\n",
      "  velocity = dists / np.diff(t, prepend = 0) ## in seconds\n",
      "/home/austinbaggetta/csstorage3/CircleTrack/CircleTrackAnalysis/place_cells.py:392: RuntimeWarning: invalid value encountered in divide\n",
      "  pf = pf / self.data[\"occupancy_map\"]\n"
     ]
    },
    {
     "name": "stdout",
     "output_type": "stream",
     "text": [
      "Doing shuffle tests. This may take a while.\n"
     ]
    },
    {
     "name": "stderr",
     "output_type": "stream",
     "text": [
      "/home/austinbaggetta/csstorage3/CircleTrack/CircleTrackAnalysis/place_cells.py:458: RuntimeWarning: invalid value encountered in scalar divide\n",
      "  SI_z = (self.data[\"spatial_information\"][neuron] - np.mean(shuffled_SIs)) / np.std(\n",
      "/home/austinbaggetta/csstorage3/CircleTrack/CircleTrackAnalysis/place_cells.py:44: RuntimeWarning: invalid value encountered in divide\n",
      "  velocity = dists / np.diff(t, prepend = 0) ## in seconds\n",
      "/home/austinbaggetta/csstorage3/CircleTrack/CircleTrackAnalysis/place_cells.py:392: RuntimeWarning: invalid value encountered in divide\n",
      "  pf = pf / self.data[\"occupancy_map\"]\n"
     ]
    },
    {
     "name": "stdout",
     "output_type": "stream",
     "text": [
      "Doing shuffle tests. This may take a while.\n"
     ]
    },
    {
     "name": "stderr",
     "output_type": "stream",
     "text": [
      "/home/austinbaggetta/csstorage3/CircleTrack/CircleTrackAnalysis/place_cells.py:44: RuntimeWarning: invalid value encountered in divide\n",
      "  velocity = dists / np.diff(t, prepend = 0) ## in seconds\n",
      "/home/austinbaggetta/csstorage3/CircleTrack/CircleTrackAnalysis/place_cells.py:392: RuntimeWarning: invalid value encountered in divide\n",
      "  pf = pf / self.data[\"occupancy_map\"]\n"
     ]
    },
    {
     "name": "stdout",
     "output_type": "stream",
     "text": [
      "Doing shuffle tests. This may take a while.\n"
     ]
    },
    {
     "name": "stderr",
     "output_type": "stream",
     "text": [
      "/home/austinbaggetta/csstorage3/CircleTrack/CircleTrackAnalysis/place_cells.py:44: RuntimeWarning: invalid value encountered in divide\n",
      "  velocity = dists / np.diff(t, prepend = 0) ## in seconds\n",
      "/home/austinbaggetta/csstorage3/CircleTrack/CircleTrackAnalysis/place_cells.py:392: RuntimeWarning: invalid value encountered in divide\n",
      "  pf = pf / self.data[\"occupancy_map\"]\n"
     ]
    },
    {
     "name": "stdout",
     "output_type": "stream",
     "text": [
      "Doing shuffle tests. This may take a while.\n"
     ]
    },
    {
     "name": "stderr",
     "output_type": "stream",
     "text": [
      "/home/austinbaggetta/csstorage3/CircleTrack/CircleTrackAnalysis/place_cells.py:458: RuntimeWarning: invalid value encountered in scalar divide\n",
      "  SI_z = (self.data[\"spatial_information\"][neuron] - np.mean(shuffled_SIs)) / np.std(\n",
      "/home/austinbaggetta/csstorage3/CircleTrack/CircleTrackAnalysis/place_cells.py:44: RuntimeWarning: invalid value encountered in divide\n",
      "  velocity = dists / np.diff(t, prepend = 0) ## in seconds\n",
      "/home/austinbaggetta/csstorage3/CircleTrack/CircleTrackAnalysis/place_cells.py:392: RuntimeWarning: invalid value encountered in divide\n",
      "  pf = pf / self.data[\"occupancy_map\"]\n"
     ]
    },
    {
     "name": "stdout",
     "output_type": "stream",
     "text": [
      "Doing shuffle tests. This may take a while.\n"
     ]
    },
    {
     "name": "stderr",
     "output_type": "stream",
     "text": [
      "/home/austinbaggetta/csstorage3/CircleTrack/CircleTrackAnalysis/place_cells.py:44: RuntimeWarning: invalid value encountered in divide\n",
      "  velocity = dists / np.diff(t, prepend = 0) ## in seconds\n",
      "/home/austinbaggetta/csstorage3/CircleTrack/CircleTrackAnalysis/place_cells.py:392: RuntimeWarning: invalid value encountered in divide\n",
      "  pf = pf / self.data[\"occupancy_map\"]\n"
     ]
    },
    {
     "name": "stdout",
     "output_type": "stream",
     "text": [
      "Doing shuffle tests. This may take a while.\n"
     ]
    },
    {
     "name": "stderr",
     "output_type": "stream",
     "text": [
      "/home/austinbaggetta/csstorage3/CircleTrack/CircleTrackAnalysis/place_cells.py:44: RuntimeWarning: invalid value encountered in divide\n",
      "  velocity = dists / np.diff(t, prepend = 0) ## in seconds\n",
      "/home/austinbaggetta/csstorage3/CircleTrack/CircleTrackAnalysis/place_cells.py:392: RuntimeWarning: invalid value encountered in divide\n",
      "  pf = pf / self.data[\"occupancy_map\"]\n"
     ]
    },
    {
     "name": "stdout",
     "output_type": "stream",
     "text": [
      "Doing shuffle tests. This may take a while.\n"
     ]
    },
    {
     "name": "stderr",
     "output_type": "stream",
     "text": [
      "/home/austinbaggetta/csstorage3/CircleTrack/CircleTrackAnalysis/place_cells.py:44: RuntimeWarning: invalid value encountered in divide\n",
      "  velocity = dists / np.diff(t, prepend = 0) ## in seconds\n",
      "/home/austinbaggetta/csstorage3/CircleTrack/CircleTrackAnalysis/place_cells.py:392: RuntimeWarning: invalid value encountered in divide\n",
      "  pf = pf / self.data[\"occupancy_map\"]\n"
     ]
    },
    {
     "name": "stdout",
     "output_type": "stream",
     "text": [
      "Doing shuffle tests. This may take a while.\n"
     ]
    },
    {
     "name": "stderr",
     "output_type": "stream",
     "text": [
      "/home/austinbaggetta/csstorage3/CircleTrack/CircleTrackAnalysis/place_cells.py:44: RuntimeWarning: invalid value encountered in divide\n",
      "  velocity = dists / np.diff(t, prepend = 0) ## in seconds\n",
      "/home/austinbaggetta/csstorage3/CircleTrack/CircleTrackAnalysis/place_cells.py:392: RuntimeWarning: invalid value encountered in divide\n",
      "  pf = pf / self.data[\"occupancy_map\"]\n"
     ]
    },
    {
     "name": "stdout",
     "output_type": "stream",
     "text": [
      "Doing shuffle tests. This may take a while.\n"
     ]
    },
    {
     "name": "stderr",
     "output_type": "stream",
     "text": [
      "/home/austinbaggetta/csstorage3/CircleTrack/CircleTrackAnalysis/place_cells.py:44: RuntimeWarning: invalid value encountered in divide\n",
      "  velocity = dists / np.diff(t, prepend = 0) ## in seconds\n",
      "/home/austinbaggetta/csstorage3/CircleTrack/CircleTrackAnalysis/place_cells.py:392: RuntimeWarning: invalid value encountered in divide\n",
      "  pf = pf / self.data[\"occupancy_map\"]\n"
     ]
    },
    {
     "name": "stdout",
     "output_type": "stream",
     "text": [
      "Doing shuffle tests. This may take a while.\n"
     ]
    },
    {
     "name": "stderr",
     "output_type": "stream",
     "text": [
      "/home/austinbaggetta/csstorage3/CircleTrack/CircleTrackAnalysis/place_cells.py:44: RuntimeWarning: invalid value encountered in divide\n",
      "  velocity = dists / np.diff(t, prepend = 0) ## in seconds\n",
      "/home/austinbaggetta/csstorage3/CircleTrack/CircleTrackAnalysis/place_cells.py:392: RuntimeWarning: invalid value encountered in divide\n",
      "  pf = pf / self.data[\"occupancy_map\"]\n"
     ]
    },
    {
     "name": "stdout",
     "output_type": "stream",
     "text": [
      "Doing shuffle tests. This may take a while.\n"
     ]
    },
    {
     "name": "stderr",
     "output_type": "stream",
     "text": [
      "/home/austinbaggetta/csstorage3/CircleTrack/CircleTrackAnalysis/place_cells.py:44: RuntimeWarning: invalid value encountered in divide\n",
      "  velocity = dists / np.diff(t, prepend = 0) ## in seconds\n",
      "/home/austinbaggetta/csstorage3/CircleTrack/CircleTrackAnalysis/place_cells.py:392: RuntimeWarning: invalid value encountered in divide\n",
      "  pf = pf / self.data[\"occupancy_map\"]\n"
     ]
    },
    {
     "name": "stdout",
     "output_type": "stream",
     "text": [
      "Doing shuffle tests. This may take a while.\n"
     ]
    },
    {
     "name": "stderr",
     "output_type": "stream",
     "text": [
      "/home/austinbaggetta/csstorage3/CircleTrack/CircleTrackAnalysis/place_cells.py:44: RuntimeWarning: invalid value encountered in divide\n",
      "  velocity = dists / np.diff(t, prepend = 0) ## in seconds\n",
      "/home/austinbaggetta/csstorage3/CircleTrack/CircleTrackAnalysis/place_cells.py:392: RuntimeWarning: invalid value encountered in divide\n",
      "  pf = pf / self.data[\"occupancy_map\"]\n"
     ]
    },
    {
     "name": "stdout",
     "output_type": "stream",
     "text": [
      "Doing shuffle tests. This may take a while.\n"
     ]
    },
    {
     "name": "stderr",
     "output_type": "stream",
     "text": [
      "/home/austinbaggetta/csstorage3/CircleTrack/CircleTrackAnalysis/place_cells.py:44: RuntimeWarning: invalid value encountered in divide\n",
      "  velocity = dists / np.diff(t, prepend = 0) ## in seconds\n",
      "/home/austinbaggetta/csstorage3/CircleTrack/CircleTrackAnalysis/place_cells.py:392: RuntimeWarning: invalid value encountered in divide\n",
      "  pf = pf / self.data[\"occupancy_map\"]\n"
     ]
    },
    {
     "name": "stdout",
     "output_type": "stream",
     "text": [
      "Doing shuffle tests. This may take a while.\n"
     ]
    },
    {
     "name": "stderr",
     "output_type": "stream",
     "text": [
      "/home/austinbaggetta/csstorage3/CircleTrack/CircleTrackAnalysis/place_cells.py:44: RuntimeWarning: invalid value encountered in divide\n",
      "  velocity = dists / np.diff(t, prepend = 0) ## in seconds\n",
      "/home/austinbaggetta/csstorage3/CircleTrack/CircleTrackAnalysis/place_cells.py:392: RuntimeWarning: invalid value encountered in divide\n",
      "  pf = pf / self.data[\"occupancy_map\"]\n"
     ]
    },
    {
     "name": "stdout",
     "output_type": "stream",
     "text": [
      "Doing shuffle tests. This may take a while.\n"
     ]
    },
    {
     "name": "stderr",
     "output_type": "stream",
     "text": [
      "/home/austinbaggetta/csstorage3/CircleTrack/CircleTrackAnalysis/place_cells.py:44: RuntimeWarning: invalid value encountered in divide\n",
      "  velocity = dists / np.diff(t, prepend = 0) ## in seconds\n",
      "/home/austinbaggetta/csstorage3/CircleTrack/CircleTrackAnalysis/place_cells.py:392: RuntimeWarning: invalid value encountered in divide\n",
      "  pf = pf / self.data[\"occupancy_map\"]\n"
     ]
    },
    {
     "name": "stdout",
     "output_type": "stream",
     "text": [
      "Doing shuffle tests. This may take a while.\n"
     ]
    },
    {
     "name": "stderr",
     "output_type": "stream",
     "text": [
      "/home/austinbaggetta/csstorage3/CircleTrack/CircleTrackAnalysis/place_cells.py:44: RuntimeWarning: invalid value encountered in divide\n",
      "  velocity = dists / np.diff(t, prepend = 0) ## in seconds\n",
      "/home/austinbaggetta/csstorage3/CircleTrack/CircleTrackAnalysis/place_cells.py:392: RuntimeWarning: invalid value encountered in divide\n",
      "  pf = pf / self.data[\"occupancy_map\"]\n"
     ]
    },
    {
     "name": "stdout",
     "output_type": "stream",
     "text": [
      "Doing shuffle tests. This may take a while.\n"
     ]
    },
    {
     "name": "stderr",
     "output_type": "stream",
     "text": [
      "/home/austinbaggetta/csstorage3/CircleTrack/CircleTrackAnalysis/place_cells.py:44: RuntimeWarning: invalid value encountered in divide\n",
      "  velocity = dists / np.diff(t, prepend = 0) ## in seconds\n",
      "/home/austinbaggetta/csstorage3/CircleTrack/CircleTrackAnalysis/place_cells.py:392: RuntimeWarning: invalid value encountered in divide\n",
      "  pf = pf / self.data[\"occupancy_map\"]\n"
     ]
    },
    {
     "name": "stdout",
     "output_type": "stream",
     "text": [
      "Doing shuffle tests. This may take a while.\n"
     ]
    },
    {
     "name": "stderr",
     "output_type": "stream",
     "text": [
      "/home/austinbaggetta/csstorage3/CircleTrack/CircleTrackAnalysis/place_cells.py:44: RuntimeWarning: invalid value encountered in divide\n",
      "  velocity = dists / np.diff(t, prepend = 0) ## in seconds\n",
      "/home/austinbaggetta/csstorage3/CircleTrack/CircleTrackAnalysis/place_cells.py:392: RuntimeWarning: invalid value encountered in divide\n",
      "  pf = pf / self.data[\"occupancy_map\"]\n"
     ]
    },
    {
     "name": "stdout",
     "output_type": "stream",
     "text": [
      "Doing shuffle tests. This may take a while.\n"
     ]
    },
    {
     "name": "stderr",
     "output_type": "stream",
     "text": [
      "/home/austinbaggetta/csstorage3/CircleTrack/CircleTrackAnalysis/place_cells.py:44: RuntimeWarning: invalid value encountered in divide\n",
      "  velocity = dists / np.diff(t, prepend = 0) ## in seconds\n",
      "/home/austinbaggetta/csstorage3/CircleTrack/CircleTrackAnalysis/place_cells.py:392: RuntimeWarning: invalid value encountered in divide\n",
      "  pf = pf / self.data[\"occupancy_map\"]\n"
     ]
    },
    {
     "name": "stdout",
     "output_type": "stream",
     "text": [
      "Doing shuffle tests. This may take a while.\n"
     ]
    },
    {
     "name": "stderr",
     "output_type": "stream",
     "text": [
      "/home/austinbaggetta/csstorage3/CircleTrack/CircleTrackAnalysis/place_cells.py:44: RuntimeWarning: invalid value encountered in divide\n",
      "  velocity = dists / np.diff(t, prepend = 0) ## in seconds\n",
      "/home/austinbaggetta/csstorage3/CircleTrack/CircleTrackAnalysis/place_cells.py:392: RuntimeWarning: invalid value encountered in divide\n",
      "  pf = pf / self.data[\"occupancy_map\"]\n"
     ]
    },
    {
     "name": "stdout",
     "output_type": "stream",
     "text": [
      "Doing shuffle tests. This may take a while.\n"
     ]
    },
    {
     "name": "stderr",
     "output_type": "stream",
     "text": [
      "/home/austinbaggetta/csstorage3/CircleTrack/CircleTrackAnalysis/place_cells.py:44: RuntimeWarning: invalid value encountered in divide\n",
      "  velocity = dists / np.diff(t, prepend = 0) ## in seconds\n",
      "/home/austinbaggetta/csstorage3/CircleTrack/CircleTrackAnalysis/place_cells.py:392: RuntimeWarning: invalid value encountered in divide\n",
      "  pf = pf / self.data[\"occupancy_map\"]\n"
     ]
    },
    {
     "name": "stdout",
     "output_type": "stream",
     "text": [
      "Doing shuffle tests. This may take a while.\n"
     ]
    },
    {
     "name": "stderr",
     "output_type": "stream",
     "text": [
      "/home/austinbaggetta/csstorage3/CircleTrack/CircleTrackAnalysis/place_cells.py:44: RuntimeWarning: invalid value encountered in divide\n",
      "  velocity = dists / np.diff(t, prepend = 0) ## in seconds\n",
      "/home/austinbaggetta/csstorage3/CircleTrack/CircleTrackAnalysis/place_cells.py:392: RuntimeWarning: invalid value encountered in divide\n",
      "  pf = pf / self.data[\"occupancy_map\"]\n"
     ]
    },
    {
     "name": "stdout",
     "output_type": "stream",
     "text": [
      "Doing shuffle tests. This may take a while.\n"
     ]
    },
    {
     "name": "stderr",
     "output_type": "stream",
     "text": [
      "/home/austinbaggetta/csstorage3/CircleTrack/CircleTrackAnalysis/place_cells.py:44: RuntimeWarning: invalid value encountered in divide\n",
      "  velocity = dists / np.diff(t, prepend = 0) ## in seconds\n",
      "/home/austinbaggetta/csstorage3/CircleTrack/CircleTrackAnalysis/place_cells.py:392: RuntimeWarning: invalid value encountered in divide\n",
      "  pf = pf / self.data[\"occupancy_map\"]\n"
     ]
    },
    {
     "name": "stdout",
     "output_type": "stream",
     "text": [
      "Doing shuffle tests. This may take a while.\n"
     ]
    },
    {
     "name": "stderr",
     "output_type": "stream",
     "text": [
      "/home/austinbaggetta/csstorage3/CircleTrack/CircleTrackAnalysis/place_cells.py:44: RuntimeWarning: invalid value encountered in divide\n",
      "  velocity = dists / np.diff(t, prepend = 0) ## in seconds\n",
      "/home/austinbaggetta/csstorage3/CircleTrack/CircleTrackAnalysis/place_cells.py:392: RuntimeWarning: invalid value encountered in divide\n",
      "  pf = pf / self.data[\"occupancy_map\"]\n"
     ]
    },
    {
     "name": "stdout",
     "output_type": "stream",
     "text": [
      "Doing shuffle tests. This may take a while.\n"
     ]
    },
    {
     "name": "stderr",
     "output_type": "stream",
     "text": [
      "/home/austinbaggetta/csstorage3/CircleTrack/CircleTrackAnalysis/place_cells.py:44: RuntimeWarning: invalid value encountered in divide\n",
      "  velocity = dists / np.diff(t, prepend = 0) ## in seconds\n",
      "/home/austinbaggetta/csstorage3/CircleTrack/CircleTrackAnalysis/place_cells.py:392: RuntimeWarning: invalid value encountered in divide\n",
      "  pf = pf / self.data[\"occupancy_map\"]\n"
     ]
    },
    {
     "name": "stdout",
     "output_type": "stream",
     "text": [
      "Doing shuffle tests. This may take a while.\n"
     ]
    },
    {
     "name": "stderr",
     "output_type": "stream",
     "text": [
      "/home/austinbaggetta/csstorage3/CircleTrack/CircleTrackAnalysis/place_cells.py:44: RuntimeWarning: invalid value encountered in divide\n",
      "  velocity = dists / np.diff(t, prepend = 0) ## in seconds\n",
      "/home/austinbaggetta/csstorage3/CircleTrack/CircleTrackAnalysis/place_cells.py:392: RuntimeWarning: invalid value encountered in divide\n",
      "  pf = pf / self.data[\"occupancy_map\"]\n"
     ]
    },
    {
     "name": "stdout",
     "output_type": "stream",
     "text": [
      "Doing shuffle tests. This may take a while.\n"
     ]
    },
    {
     "name": "stderr",
     "output_type": "stream",
     "text": [
      "/home/austinbaggetta/csstorage3/CircleTrack/CircleTrackAnalysis/place_cells.py:44: RuntimeWarning: invalid value encountered in divide\n",
      "  velocity = dists / np.diff(t, prepend = 0) ## in seconds\n",
      "/home/austinbaggetta/csstorage3/CircleTrack/CircleTrackAnalysis/place_cells.py:392: RuntimeWarning: invalid value encountered in divide\n",
      "  pf = pf / self.data[\"occupancy_map\"]\n"
     ]
    },
    {
     "name": "stdout",
     "output_type": "stream",
     "text": [
      "Doing shuffle tests. This may take a while.\n"
     ]
    },
    {
     "name": "stderr",
     "output_type": "stream",
     "text": [
      "/home/austinbaggetta/csstorage3/CircleTrack/CircleTrackAnalysis/place_cells.py:44: RuntimeWarning: invalid value encountered in divide\n",
      "  velocity = dists / np.diff(t, prepend = 0) ## in seconds\n",
      "/home/austinbaggetta/csstorage3/CircleTrack/CircleTrackAnalysis/place_cells.py:392: RuntimeWarning: invalid value encountered in divide\n",
      "  pf = pf / self.data[\"occupancy_map\"]\n"
     ]
    },
    {
     "name": "stdout",
     "output_type": "stream",
     "text": [
      "Doing shuffle tests. This may take a while.\n"
     ]
    },
    {
     "name": "stderr",
     "output_type": "stream",
     "text": [
      "/home/austinbaggetta/csstorage3/CircleTrack/CircleTrackAnalysis/place_cells.py:44: RuntimeWarning: invalid value encountered in divide\n",
      "  velocity = dists / np.diff(t, prepend = 0) ## in seconds\n",
      "/home/austinbaggetta/csstorage3/CircleTrack/CircleTrackAnalysis/place_cells.py:392: RuntimeWarning: invalid value encountered in divide\n",
      "  pf = pf / self.data[\"occupancy_map\"]\n"
     ]
    },
    {
     "name": "stdout",
     "output_type": "stream",
     "text": [
      "Doing shuffle tests. This may take a while.\n"
     ]
    },
    {
     "name": "stderr",
     "output_type": "stream",
     "text": [
      "/home/austinbaggetta/csstorage3/CircleTrack/CircleTrackAnalysis/place_cells.py:44: RuntimeWarning: invalid value encountered in divide\n",
      "  velocity = dists / np.diff(t, prepend = 0) ## in seconds\n",
      "/home/austinbaggetta/csstorage3/CircleTrack/CircleTrackAnalysis/place_cells.py:392: RuntimeWarning: invalid value encountered in divide\n",
      "  pf = pf / self.data[\"occupancy_map\"]\n"
     ]
    },
    {
     "name": "stdout",
     "output_type": "stream",
     "text": [
      "Doing shuffle tests. This may take a while.\n"
     ]
    },
    {
     "name": "stderr",
     "output_type": "stream",
     "text": [
      "/home/austinbaggetta/csstorage3/CircleTrack/CircleTrackAnalysis/place_cells.py:44: RuntimeWarning: invalid value encountered in divide\n",
      "  velocity = dists / np.diff(t, prepend = 0) ## in seconds\n",
      "/home/austinbaggetta/csstorage3/CircleTrack/CircleTrackAnalysis/place_cells.py:392: RuntimeWarning: invalid value encountered in divide\n",
      "  pf = pf / self.data[\"occupancy_map\"]\n"
     ]
    },
    {
     "name": "stdout",
     "output_type": "stream",
     "text": [
      "Doing shuffle tests. This may take a while.\n"
     ]
    },
    {
     "name": "stderr",
     "output_type": "stream",
     "text": [
      "/home/austinbaggetta/csstorage3/CircleTrack/CircleTrackAnalysis/place_cells.py:44: RuntimeWarning: invalid value encountered in divide\n",
      "  velocity = dists / np.diff(t, prepend = 0) ## in seconds\n",
      "/home/austinbaggetta/csstorage3/CircleTrack/CircleTrackAnalysis/place_cells.py:392: RuntimeWarning: invalid value encountered in divide\n",
      "  pf = pf / self.data[\"occupancy_map\"]\n"
     ]
    },
    {
     "name": "stdout",
     "output_type": "stream",
     "text": [
      "Doing shuffle tests. This may take a while.\n"
     ]
    },
    {
     "name": "stderr",
     "output_type": "stream",
     "text": [
      "/home/austinbaggetta/csstorage3/CircleTrack/CircleTrackAnalysis/place_cells.py:44: RuntimeWarning: invalid value encountered in divide\n",
      "  velocity = dists / np.diff(t, prepend = 0) ## in seconds\n",
      "/home/austinbaggetta/csstorage3/CircleTrack/CircleTrackAnalysis/place_cells.py:392: RuntimeWarning: invalid value encountered in divide\n",
      "  pf = pf / self.data[\"occupancy_map\"]\n"
     ]
    },
    {
     "name": "stdout",
     "output_type": "stream",
     "text": [
      "Doing shuffle tests. This may take a while.\n"
     ]
    },
    {
     "name": "stderr",
     "output_type": "stream",
     "text": [
      "/home/austinbaggetta/csstorage3/CircleTrack/CircleTrackAnalysis/place_cells.py:44: RuntimeWarning: invalid value encountered in divide\n",
      "  velocity = dists / np.diff(t, prepend = 0) ## in seconds\n",
      "/home/austinbaggetta/csstorage3/CircleTrack/CircleTrackAnalysis/place_cells.py:392: RuntimeWarning: invalid value encountered in divide\n",
      "  pf = pf / self.data[\"occupancy_map\"]\n"
     ]
    },
    {
     "name": "stdout",
     "output_type": "stream",
     "text": [
      "Doing shuffle tests. This may take a while.\n"
     ]
    },
    {
     "name": "stderr",
     "output_type": "stream",
     "text": [
      "/home/austinbaggetta/csstorage3/CircleTrack/CircleTrackAnalysis/place_cells.py:44: RuntimeWarning: invalid value encountered in divide\n",
      "  velocity = dists / np.diff(t, prepend = 0) ## in seconds\n",
      "/home/austinbaggetta/csstorage3/CircleTrack/CircleTrackAnalysis/place_cells.py:392: RuntimeWarning: invalid value encountered in divide\n",
      "  pf = pf / self.data[\"occupancy_map\"]\n"
     ]
    },
    {
     "name": "stdout",
     "output_type": "stream",
     "text": [
      "Doing shuffle tests. This may take a while.\n"
     ]
    },
    {
     "name": "stderr",
     "output_type": "stream",
     "text": [
      "/home/austinbaggetta/csstorage3/CircleTrack/CircleTrackAnalysis/place_cells.py:44: RuntimeWarning: invalid value encountered in divide\n",
      "  velocity = dists / np.diff(t, prepend = 0) ## in seconds\n",
      "/home/austinbaggetta/csstorage3/CircleTrack/CircleTrackAnalysis/place_cells.py:392: RuntimeWarning: invalid value encountered in divide\n",
      "  pf = pf / self.data[\"occupancy_map\"]\n"
     ]
    },
    {
     "name": "stdout",
     "output_type": "stream",
     "text": [
      "Doing shuffle tests. This may take a while.\n"
     ]
    },
    {
     "name": "stderr",
     "output_type": "stream",
     "text": [
      "/home/austinbaggetta/csstorage3/CircleTrack/CircleTrackAnalysis/place_cells.py:44: RuntimeWarning: invalid value encountered in divide\n",
      "  velocity = dists / np.diff(t, prepend = 0) ## in seconds\n",
      "/home/austinbaggetta/csstorage3/CircleTrack/CircleTrackAnalysis/place_cells.py:392: RuntimeWarning: invalid value encountered in divide\n",
      "  pf = pf / self.data[\"occupancy_map\"]\n"
     ]
    },
    {
     "name": "stdout",
     "output_type": "stream",
     "text": [
      "Doing shuffle tests. This may take a while.\n"
     ]
    },
    {
     "name": "stderr",
     "output_type": "stream",
     "text": [
      "/home/austinbaggetta/csstorage3/CircleTrack/CircleTrackAnalysis/place_cells.py:44: RuntimeWarning: invalid value encountered in divide\n",
      "  velocity = dists / np.diff(t, prepend = 0) ## in seconds\n",
      "/home/austinbaggetta/csstorage3/CircleTrack/CircleTrackAnalysis/place_cells.py:392: RuntimeWarning: invalid value encountered in divide\n",
      "  pf = pf / self.data[\"occupancy_map\"]\n"
     ]
    },
    {
     "name": "stdout",
     "output_type": "stream",
     "text": [
      "Doing shuffle tests. This may take a while.\n"
     ]
    },
    {
     "name": "stderr",
     "output_type": "stream",
     "text": [
      "/home/austinbaggetta/csstorage3/CircleTrack/CircleTrackAnalysis/place_cells.py:44: RuntimeWarning: invalid value encountered in divide\n",
      "  velocity = dists / np.diff(t, prepend = 0) ## in seconds\n",
      "/home/austinbaggetta/csstorage3/CircleTrack/CircleTrackAnalysis/place_cells.py:392: RuntimeWarning: invalid value encountered in divide\n",
      "  pf = pf / self.data[\"occupancy_map\"]\n"
     ]
    },
    {
     "name": "stdout",
     "output_type": "stream",
     "text": [
      "Doing shuffle tests. This may take a while.\n"
     ]
    },
    {
     "name": "stderr",
     "output_type": "stream",
     "text": [
      "/home/austinbaggetta/csstorage3/CircleTrack/CircleTrackAnalysis/place_cells.py:44: RuntimeWarning: invalid value encountered in divide\n",
      "  velocity = dists / np.diff(t, prepend = 0) ## in seconds\n",
      "/home/austinbaggetta/csstorage3/CircleTrack/CircleTrackAnalysis/place_cells.py:392: RuntimeWarning: invalid value encountered in divide\n",
      "  pf = pf / self.data[\"occupancy_map\"]\n"
     ]
    },
    {
     "name": "stdout",
     "output_type": "stream",
     "text": [
      "Doing shuffle tests. This may take a while.\n"
     ]
    },
    {
     "name": "stderr",
     "output_type": "stream",
     "text": [
      "/home/austinbaggetta/csstorage3/CircleTrack/CircleTrackAnalysis/place_cells.py:44: RuntimeWarning: invalid value encountered in divide\n",
      "  velocity = dists / np.diff(t, prepend = 0) ## in seconds\n",
      "/home/austinbaggetta/csstorage3/CircleTrack/CircleTrackAnalysis/place_cells.py:392: RuntimeWarning: invalid value encountered in divide\n",
      "  pf = pf / self.data[\"occupancy_map\"]\n"
     ]
    },
    {
     "name": "stdout",
     "output_type": "stream",
     "text": [
      "Doing shuffle tests. This may take a while.\n"
     ]
    },
    {
     "name": "stderr",
     "output_type": "stream",
     "text": [
      "/home/austinbaggetta/csstorage3/CircleTrack/CircleTrackAnalysis/place_cells.py:44: RuntimeWarning: invalid value encountered in divide\n",
      "  velocity = dists / np.diff(t, prepend = 0) ## in seconds\n",
      "/home/austinbaggetta/csstorage3/CircleTrack/CircleTrackAnalysis/place_cells.py:392: RuntimeWarning: invalid value encountered in divide\n",
      "  pf = pf / self.data[\"occupancy_map\"]\n"
     ]
    },
    {
     "name": "stdout",
     "output_type": "stream",
     "text": [
      "Doing shuffle tests. This may take a while.\n"
     ]
    },
    {
     "name": "stderr",
     "output_type": "stream",
     "text": [
      "/home/austinbaggetta/csstorage3/CircleTrack/CircleTrackAnalysis/place_cells.py:44: RuntimeWarning: invalid value encountered in divide\n",
      "  velocity = dists / np.diff(t, prepend = 0) ## in seconds\n",
      "/home/austinbaggetta/csstorage3/CircleTrack/CircleTrackAnalysis/place_cells.py:392: RuntimeWarning: invalid value encountered in divide\n",
      "  pf = pf / self.data[\"occupancy_map\"]\n"
     ]
    },
    {
     "name": "stdout",
     "output_type": "stream",
     "text": [
      "Doing shuffle tests. This may take a while.\n"
     ]
    },
    {
     "name": "stderr",
     "output_type": "stream",
     "text": [
      "/home/austinbaggetta/csstorage3/CircleTrack/CircleTrackAnalysis/place_cells.py:44: RuntimeWarning: invalid value encountered in divide\n",
      "  velocity = dists / np.diff(t, prepend = 0) ## in seconds\n",
      "/home/austinbaggetta/csstorage3/CircleTrack/CircleTrackAnalysis/place_cells.py:392: RuntimeWarning: invalid value encountered in divide\n",
      "  pf = pf / self.data[\"occupancy_map\"]\n"
     ]
    },
    {
     "name": "stdout",
     "output_type": "stream",
     "text": [
      "Doing shuffle tests. This may take a while.\n"
     ]
    },
    {
     "name": "stderr",
     "output_type": "stream",
     "text": [
      "/home/austinbaggetta/csstorage3/CircleTrack/CircleTrackAnalysis/place_cells.py:44: RuntimeWarning: invalid value encountered in divide\n",
      "  velocity = dists / np.diff(t, prepend = 0) ## in seconds\n",
      "/home/austinbaggetta/csstorage3/CircleTrack/CircleTrackAnalysis/place_cells.py:392: RuntimeWarning: invalid value encountered in divide\n",
      "  pf = pf / self.data[\"occupancy_map\"]\n"
     ]
    },
    {
     "name": "stdout",
     "output_type": "stream",
     "text": [
      "Doing shuffle tests. This may take a while.\n"
     ]
    },
    {
     "name": "stderr",
     "output_type": "stream",
     "text": [
      "/home/austinbaggetta/csstorage3/CircleTrack/CircleTrackAnalysis/place_cells.py:44: RuntimeWarning: invalid value encountered in divide\n",
      "  velocity = dists / np.diff(t, prepend = 0) ## in seconds\n",
      "/home/austinbaggetta/csstorage3/CircleTrack/CircleTrackAnalysis/place_cells.py:392: RuntimeWarning: invalid value encountered in divide\n",
      "  pf = pf / self.data[\"occupancy_map\"]\n"
     ]
    },
    {
     "name": "stdout",
     "output_type": "stream",
     "text": [
      "Doing shuffle tests. This may take a while.\n"
     ]
    },
    {
     "name": "stderr",
     "output_type": "stream",
     "text": [
      "/home/austinbaggetta/csstorage3/CircleTrack/CircleTrackAnalysis/place_cells.py:44: RuntimeWarning: invalid value encountered in divide\n",
      "  velocity = dists / np.diff(t, prepend = 0) ## in seconds\n",
      "/home/austinbaggetta/csstorage3/CircleTrack/CircleTrackAnalysis/place_cells.py:392: RuntimeWarning: invalid value encountered in divide\n",
      "  pf = pf / self.data[\"occupancy_map\"]\n"
     ]
    },
    {
     "name": "stdout",
     "output_type": "stream",
     "text": [
      "Doing shuffle tests. This may take a while.\n"
     ]
    },
    {
     "name": "stderr",
     "output_type": "stream",
     "text": [
      "/home/austinbaggetta/csstorage3/CircleTrack/CircleTrackAnalysis/place_cells.py:44: RuntimeWarning: invalid value encountered in divide\n",
      "  velocity = dists / np.diff(t, prepend = 0) ## in seconds\n",
      "/home/austinbaggetta/csstorage3/CircleTrack/CircleTrackAnalysis/place_cells.py:392: RuntimeWarning: invalid value encountered in divide\n",
      "  pf = pf / self.data[\"occupancy_map\"]\n"
     ]
    },
    {
     "name": "stdout",
     "output_type": "stream",
     "text": [
      "Doing shuffle tests. This may take a while.\n"
     ]
    },
    {
     "name": "stderr",
     "output_type": "stream",
     "text": [
      "/home/austinbaggetta/csstorage3/CircleTrack/CircleTrackAnalysis/place_cells.py:44: RuntimeWarning: invalid value encountered in divide\n",
      "  velocity = dists / np.diff(t, prepend = 0) ## in seconds\n",
      "/home/austinbaggetta/csstorage3/CircleTrack/CircleTrackAnalysis/place_cells.py:392: RuntimeWarning: invalid value encountered in divide\n",
      "  pf = pf / self.data[\"occupancy_map\"]\n"
     ]
    },
    {
     "name": "stdout",
     "output_type": "stream",
     "text": [
      "Doing shuffle tests. This may take a while.\n"
     ]
    },
    {
     "name": "stderr",
     "output_type": "stream",
     "text": [
      "/home/austinbaggetta/csstorage3/CircleTrack/CircleTrackAnalysis/place_cells.py:44: RuntimeWarning: invalid value encountered in divide\n",
      "  velocity = dists / np.diff(t, prepend = 0) ## in seconds\n",
      "/home/austinbaggetta/csstorage3/CircleTrack/CircleTrackAnalysis/place_cells.py:392: RuntimeWarning: invalid value encountered in divide\n",
      "  pf = pf / self.data[\"occupancy_map\"]\n"
     ]
    },
    {
     "name": "stdout",
     "output_type": "stream",
     "text": [
      "Doing shuffle tests. This may take a while.\n"
     ]
    },
    {
     "name": "stderr",
     "output_type": "stream",
     "text": [
      "/home/austinbaggetta/csstorage3/CircleTrack/CircleTrackAnalysis/place_cells.py:44: RuntimeWarning: invalid value encountered in divide\n",
      "  velocity = dists / np.diff(t, prepend = 0) ## in seconds\n",
      "/home/austinbaggetta/csstorage3/CircleTrack/CircleTrackAnalysis/place_cells.py:392: RuntimeWarning: invalid value encountered in divide\n",
      "  pf = pf / self.data[\"occupancy_map\"]\n"
     ]
    },
    {
     "name": "stdout",
     "output_type": "stream",
     "text": [
      "Doing shuffle tests. This may take a while.\n"
     ]
    },
    {
     "name": "stderr",
     "output_type": "stream",
     "text": [
      "/home/austinbaggetta/csstorage3/CircleTrack/CircleTrackAnalysis/place_cells.py:44: RuntimeWarning: invalid value encountered in divide\n",
      "  velocity = dists / np.diff(t, prepend = 0) ## in seconds\n",
      "/home/austinbaggetta/csstorage3/CircleTrack/CircleTrackAnalysis/place_cells.py:392: RuntimeWarning: invalid value encountered in divide\n",
      "  pf = pf / self.data[\"occupancy_map\"]\n"
     ]
    },
    {
     "name": "stdout",
     "output_type": "stream",
     "text": [
      "Doing shuffle tests. This may take a while.\n"
     ]
    },
    {
     "name": "stderr",
     "output_type": "stream",
     "text": [
      "/home/austinbaggetta/csstorage3/CircleTrack/CircleTrackAnalysis/place_cells.py:44: RuntimeWarning: invalid value encountered in divide\n",
      "  velocity = dists / np.diff(t, prepend = 0) ## in seconds\n",
      "/home/austinbaggetta/csstorage3/CircleTrack/CircleTrackAnalysis/place_cells.py:392: RuntimeWarning: invalid value encountered in divide\n",
      "  pf = pf / self.data[\"occupancy_map\"]\n"
     ]
    },
    {
     "name": "stdout",
     "output_type": "stream",
     "text": [
      "Doing shuffle tests. This may take a while.\n"
     ]
    },
    {
     "name": "stderr",
     "output_type": "stream",
     "text": [
      "/home/austinbaggetta/csstorage3/CircleTrack/CircleTrackAnalysis/place_cells.py:44: RuntimeWarning: invalid value encountered in divide\n",
      "  velocity = dists / np.diff(t, prepend = 0) ## in seconds\n",
      "/home/austinbaggetta/csstorage3/CircleTrack/CircleTrackAnalysis/place_cells.py:392: RuntimeWarning: invalid value encountered in divide\n",
      "  pf = pf / self.data[\"occupancy_map\"]\n"
     ]
    },
    {
     "name": "stdout",
     "output_type": "stream",
     "text": [
      "Doing shuffle tests. This may take a while.\n"
     ]
    },
    {
     "name": "stderr",
     "output_type": "stream",
     "text": [
      "/home/austinbaggetta/csstorage3/CircleTrack/CircleTrackAnalysis/place_cells.py:44: RuntimeWarning: invalid value encountered in divide\n",
      "  velocity = dists / np.diff(t, prepend = 0) ## in seconds\n",
      "/home/austinbaggetta/csstorage3/CircleTrack/CircleTrackAnalysis/place_cells.py:392: RuntimeWarning: invalid value encountered in divide\n",
      "  pf = pf / self.data[\"occupancy_map\"]\n"
     ]
    },
    {
     "name": "stdout",
     "output_type": "stream",
     "text": [
      "Doing shuffle tests. This may take a while.\n"
     ]
    },
    {
     "name": "stderr",
     "output_type": "stream",
     "text": [
      "/home/austinbaggetta/csstorage3/CircleTrack/CircleTrackAnalysis/place_cells.py:44: RuntimeWarning: invalid value encountered in divide\n",
      "  velocity = dists / np.diff(t, prepend = 0) ## in seconds\n",
      "/home/austinbaggetta/csstorage3/CircleTrack/CircleTrackAnalysis/place_cells.py:392: RuntimeWarning: invalid value encountered in divide\n",
      "  pf = pf / self.data[\"occupancy_map\"]\n"
     ]
    },
    {
     "name": "stdout",
     "output_type": "stream",
     "text": [
      "Doing shuffle tests. This may take a while.\n"
     ]
    },
    {
     "name": "stderr",
     "output_type": "stream",
     "text": [
      "/home/austinbaggetta/csstorage3/CircleTrack/CircleTrackAnalysis/place_cells.py:44: RuntimeWarning: invalid value encountered in divide\n",
      "  velocity = dists / np.diff(t, prepend = 0) ## in seconds\n",
      "/home/austinbaggetta/csstorage3/CircleTrack/CircleTrackAnalysis/place_cells.py:392: RuntimeWarning: invalid value encountered in divide\n",
      "  pf = pf / self.data[\"occupancy_map\"]\n"
     ]
    },
    {
     "name": "stdout",
     "output_type": "stream",
     "text": [
      "Doing shuffle tests. This may take a while.\n"
     ]
    },
    {
     "name": "stderr",
     "output_type": "stream",
     "text": [
      "/home/austinbaggetta/csstorage3/CircleTrack/CircleTrackAnalysis/place_cells.py:44: RuntimeWarning: invalid value encountered in divide\n",
      "  velocity = dists / np.diff(t, prepend = 0) ## in seconds\n",
      "/home/austinbaggetta/csstorage3/CircleTrack/CircleTrackAnalysis/place_cells.py:392: RuntimeWarning: invalid value encountered in divide\n",
      "  pf = pf / self.data[\"occupancy_map\"]\n"
     ]
    },
    {
     "name": "stdout",
     "output_type": "stream",
     "text": [
      "Doing shuffle tests. This may take a while.\n"
     ]
    },
    {
     "name": "stderr",
     "output_type": "stream",
     "text": [
      "/home/austinbaggetta/csstorage3/CircleTrack/CircleTrackAnalysis/place_cells.py:44: RuntimeWarning: invalid value encountered in divide\n",
      "  velocity = dists / np.diff(t, prepend = 0) ## in seconds\n",
      "/home/austinbaggetta/csstorage3/CircleTrack/CircleTrackAnalysis/place_cells.py:392: RuntimeWarning: invalid value encountered in divide\n",
      "  pf = pf / self.data[\"occupancy_map\"]\n"
     ]
    },
    {
     "name": "stdout",
     "output_type": "stream",
     "text": [
      "Doing shuffle tests. This may take a while.\n"
     ]
    },
    {
     "name": "stderr",
     "output_type": "stream",
     "text": [
      "/home/austinbaggetta/csstorage3/CircleTrack/CircleTrackAnalysis/place_cells.py:44: RuntimeWarning: invalid value encountered in divide\n",
      "  velocity = dists / np.diff(t, prepend = 0) ## in seconds\n",
      "/home/austinbaggetta/csstorage3/CircleTrack/CircleTrackAnalysis/place_cells.py:392: RuntimeWarning: invalid value encountered in divide\n",
      "  pf = pf / self.data[\"occupancy_map\"]\n"
     ]
    },
    {
     "name": "stdout",
     "output_type": "stream",
     "text": [
      "Doing shuffle tests. This may take a while.\n"
     ]
    },
    {
     "name": "stderr",
     "output_type": "stream",
     "text": [
      "/home/austinbaggetta/csstorage3/CircleTrack/CircleTrackAnalysis/place_cells.py:44: RuntimeWarning: invalid value encountered in divide\n",
      "  velocity = dists / np.diff(t, prepend = 0) ## in seconds\n",
      "/home/austinbaggetta/csstorage3/CircleTrack/CircleTrackAnalysis/place_cells.py:392: RuntimeWarning: invalid value encountered in divide\n",
      "  pf = pf / self.data[\"occupancy_map\"]\n"
     ]
    },
    {
     "name": "stdout",
     "output_type": "stream",
     "text": [
      "Doing shuffle tests. This may take a while.\n"
     ]
    },
    {
     "name": "stderr",
     "output_type": "stream",
     "text": [
      "/home/austinbaggetta/csstorage3/CircleTrack/CircleTrackAnalysis/place_cells.py:44: RuntimeWarning: invalid value encountered in divide\n",
      "  velocity = dists / np.diff(t, prepend = 0) ## in seconds\n",
      "/home/austinbaggetta/csstorage3/CircleTrack/CircleTrackAnalysis/place_cells.py:392: RuntimeWarning: invalid value encountered in divide\n",
      "  pf = pf / self.data[\"occupancy_map\"]\n"
     ]
    },
    {
     "name": "stdout",
     "output_type": "stream",
     "text": [
      "Doing shuffle tests. This may take a while.\n"
     ]
    },
    {
     "name": "stderr",
     "output_type": "stream",
     "text": [
      "/home/austinbaggetta/csstorage3/CircleTrack/CircleTrackAnalysis/place_cells.py:44: RuntimeWarning: invalid value encountered in divide\n",
      "  velocity = dists / np.diff(t, prepend = 0) ## in seconds\n",
      "/home/austinbaggetta/csstorage3/CircleTrack/CircleTrackAnalysis/place_cells.py:392: RuntimeWarning: invalid value encountered in divide\n",
      "  pf = pf / self.data[\"occupancy_map\"]\n"
     ]
    },
    {
     "name": "stdout",
     "output_type": "stream",
     "text": [
      "Doing shuffle tests. This may take a while.\n"
     ]
    },
    {
     "name": "stderr",
     "output_type": "stream",
     "text": [
      "/home/austinbaggetta/csstorage3/CircleTrack/CircleTrackAnalysis/place_cells.py:44: RuntimeWarning: invalid value encountered in divide\n",
      "  velocity = dists / np.diff(t, prepend = 0) ## in seconds\n",
      "/home/austinbaggetta/csstorage3/CircleTrack/CircleTrackAnalysis/place_cells.py:392: RuntimeWarning: invalid value encountered in divide\n",
      "  pf = pf / self.data[\"occupancy_map\"]\n"
     ]
    },
    {
     "name": "stdout",
     "output_type": "stream",
     "text": [
      "Doing shuffle tests. This may take a while.\n"
     ]
    },
    {
     "name": "stderr",
     "output_type": "stream",
     "text": [
      "/home/austinbaggetta/csstorage3/CircleTrack/CircleTrackAnalysis/place_cells.py:44: RuntimeWarning: invalid value encountered in divide\n",
      "  velocity = dists / np.diff(t, prepend = 0) ## in seconds\n",
      "/home/austinbaggetta/csstorage3/CircleTrack/CircleTrackAnalysis/place_cells.py:392: RuntimeWarning: invalid value encountered in divide\n",
      "  pf = pf / self.data[\"occupancy_map\"]\n"
     ]
    },
    {
     "name": "stdout",
     "output_type": "stream",
     "text": [
      "Doing shuffle tests. This may take a while.\n"
     ]
    },
    {
     "name": "stderr",
     "output_type": "stream",
     "text": [
      "/home/austinbaggetta/csstorage3/CircleTrack/CircleTrackAnalysis/place_cells.py:44: RuntimeWarning: invalid value encountered in divide\n",
      "  velocity = dists / np.diff(t, prepend = 0) ## in seconds\n",
      "/home/austinbaggetta/csstorage3/CircleTrack/CircleTrackAnalysis/place_cells.py:392: RuntimeWarning: invalid value encountered in divide\n",
      "  pf = pf / self.data[\"occupancy_map\"]\n"
     ]
    },
    {
     "name": "stdout",
     "output_type": "stream",
     "text": [
      "Doing shuffle tests. This may take a while.\n"
     ]
    },
    {
     "name": "stderr",
     "output_type": "stream",
     "text": [
      "/home/austinbaggetta/csstorage3/CircleTrack/CircleTrackAnalysis/place_cells.py:44: RuntimeWarning: invalid value encountered in divide\n",
      "  velocity = dists / np.diff(t, prepend = 0) ## in seconds\n",
      "/home/austinbaggetta/csstorage3/CircleTrack/CircleTrackAnalysis/place_cells.py:392: RuntimeWarning: invalid value encountered in divide\n",
      "  pf = pf / self.data[\"occupancy_map\"]\n"
     ]
    },
    {
     "name": "stdout",
     "output_type": "stream",
     "text": [
      "Doing shuffle tests. This may take a while.\n"
     ]
    },
    {
     "name": "stderr",
     "output_type": "stream",
     "text": [
      "/home/austinbaggetta/csstorage3/CircleTrack/CircleTrackAnalysis/place_cells.py:44: RuntimeWarning: invalid value encountered in divide\n",
      "  velocity = dists / np.diff(t, prepend = 0) ## in seconds\n",
      "/home/austinbaggetta/csstorage3/CircleTrack/CircleTrackAnalysis/place_cells.py:392: RuntimeWarning: invalid value encountered in divide\n",
      "  pf = pf / self.data[\"occupancy_map\"]\n"
     ]
    },
    {
     "name": "stdout",
     "output_type": "stream",
     "text": [
      "Doing shuffle tests. This may take a while.\n"
     ]
    },
    {
     "name": "stderr",
     "output_type": "stream",
     "text": [
      "/home/austinbaggetta/csstorage3/CircleTrack/CircleTrackAnalysis/place_cells.py:44: RuntimeWarning: invalid value encountered in divide\n",
      "  velocity = dists / np.diff(t, prepend = 0) ## in seconds\n",
      "/home/austinbaggetta/csstorage3/CircleTrack/CircleTrackAnalysis/place_cells.py:392: RuntimeWarning: invalid value encountered in divide\n",
      "  pf = pf / self.data[\"occupancy_map\"]\n"
     ]
    },
    {
     "name": "stdout",
     "output_type": "stream",
     "text": [
      "Doing shuffle tests. This may take a while.\n"
     ]
    },
    {
     "name": "stderr",
     "output_type": "stream",
     "text": [
      "/home/austinbaggetta/csstorage3/CircleTrack/CircleTrackAnalysis/place_cells.py:44: RuntimeWarning: invalid value encountered in divide\n",
      "  velocity = dists / np.diff(t, prepend = 0) ## in seconds\n",
      "/home/austinbaggetta/csstorage3/CircleTrack/CircleTrackAnalysis/place_cells.py:392: RuntimeWarning: invalid value encountered in divide\n",
      "  pf = pf / self.data[\"occupancy_map\"]\n"
     ]
    },
    {
     "name": "stdout",
     "output_type": "stream",
     "text": [
      "Doing shuffle tests. This may take a while.\n"
     ]
    },
    {
     "name": "stderr",
     "output_type": "stream",
     "text": [
      "/home/austinbaggetta/csstorage3/CircleTrack/CircleTrackAnalysis/place_cells.py:44: RuntimeWarning: invalid value encountered in divide\n",
      "  velocity = dists / np.diff(t, prepend = 0) ## in seconds\n",
      "/home/austinbaggetta/csstorage3/CircleTrack/CircleTrackAnalysis/place_cells.py:392: RuntimeWarning: invalid value encountered in divide\n",
      "  pf = pf / self.data[\"occupancy_map\"]\n"
     ]
    },
    {
     "name": "stdout",
     "output_type": "stream",
     "text": [
      "Doing shuffle tests. This may take a while.\n"
     ]
    },
    {
     "name": "stderr",
     "output_type": "stream",
     "text": [
      "/home/austinbaggetta/csstorage3/CircleTrack/CircleTrackAnalysis/place_cells.py:44: RuntimeWarning: invalid value encountered in divide\n",
      "  velocity = dists / np.diff(t, prepend = 0) ## in seconds\n",
      "/home/austinbaggetta/csstorage3/CircleTrack/CircleTrackAnalysis/place_cells.py:392: RuntimeWarning: invalid value encountered in divide\n",
      "  pf = pf / self.data[\"occupancy_map\"]\n"
     ]
    },
    {
     "name": "stdout",
     "output_type": "stream",
     "text": [
      "Doing shuffle tests. This may take a while.\n"
     ]
    },
    {
     "name": "stderr",
     "output_type": "stream",
     "text": [
      "/home/austinbaggetta/csstorage3/CircleTrack/CircleTrackAnalysis/place_cells.py:44: RuntimeWarning: invalid value encountered in divide\n",
      "  velocity = dists / np.diff(t, prepend = 0) ## in seconds\n",
      "/home/austinbaggetta/csstorage3/CircleTrack/CircleTrackAnalysis/place_cells.py:392: RuntimeWarning: invalid value encountered in divide\n",
      "  pf = pf / self.data[\"occupancy_map\"]\n"
     ]
    },
    {
     "name": "stdout",
     "output_type": "stream",
     "text": [
      "Doing shuffle tests. This may take a while.\n"
     ]
    },
    {
     "name": "stderr",
     "output_type": "stream",
     "text": [
      "/home/austinbaggetta/csstorage3/CircleTrack/CircleTrackAnalysis/place_cells.py:44: RuntimeWarning: invalid value encountered in divide\n",
      "  velocity = dists / np.diff(t, prepend = 0) ## in seconds\n",
      "/home/austinbaggetta/csstorage3/CircleTrack/CircleTrackAnalysis/place_cells.py:392: RuntimeWarning: invalid value encountered in divide\n",
      "  pf = pf / self.data[\"occupancy_map\"]\n"
     ]
    },
    {
     "name": "stdout",
     "output_type": "stream",
     "text": [
      "Doing shuffle tests. This may take a while.\n"
     ]
    },
    {
     "name": "stderr",
     "output_type": "stream",
     "text": [
      "/home/austinbaggetta/csstorage3/CircleTrack/CircleTrackAnalysis/place_cells.py:44: RuntimeWarning: invalid value encountered in divide\n",
      "  velocity = dists / np.diff(t, prepend = 0) ## in seconds\n",
      "/home/austinbaggetta/csstorage3/CircleTrack/CircleTrackAnalysis/place_cells.py:392: RuntimeWarning: invalid value encountered in divide\n",
      "  pf = pf / self.data[\"occupancy_map\"]\n"
     ]
    },
    {
     "name": "stdout",
     "output_type": "stream",
     "text": [
      "Doing shuffle tests. This may take a while.\n"
     ]
    },
    {
     "name": "stderr",
     "output_type": "stream",
     "text": [
      "/home/austinbaggetta/csstorage3/CircleTrack/CircleTrackAnalysis/place_cells.py:44: RuntimeWarning: invalid value encountered in divide\n",
      "  velocity = dists / np.diff(t, prepend = 0) ## in seconds\n",
      "/home/austinbaggetta/csstorage3/CircleTrack/CircleTrackAnalysis/place_cells.py:392: RuntimeWarning: invalid value encountered in divide\n",
      "  pf = pf / self.data[\"occupancy_map\"]\n"
     ]
    },
    {
     "name": "stdout",
     "output_type": "stream",
     "text": [
      "Doing shuffle tests. This may take a while.\n"
     ]
    },
    {
     "name": "stderr",
     "output_type": "stream",
     "text": [
      "/home/austinbaggetta/csstorage3/CircleTrack/CircleTrackAnalysis/place_cells.py:44: RuntimeWarning: invalid value encountered in divide\n",
      "  velocity = dists / np.diff(t, prepend = 0) ## in seconds\n",
      "/home/austinbaggetta/csstorage3/CircleTrack/CircleTrackAnalysis/place_cells.py:392: RuntimeWarning: invalid value encountered in divide\n",
      "  pf = pf / self.data[\"occupancy_map\"]\n"
     ]
    },
    {
     "name": "stdout",
     "output_type": "stream",
     "text": [
      "Doing shuffle tests. This may take a while.\n"
     ]
    },
    {
     "name": "stderr",
     "output_type": "stream",
     "text": [
      "/home/austinbaggetta/csstorage3/CircleTrack/CircleTrackAnalysis/place_cells.py:44: RuntimeWarning: invalid value encountered in divide\n",
      "  velocity = dists / np.diff(t, prepend = 0) ## in seconds\n",
      "/home/austinbaggetta/csstorage3/CircleTrack/CircleTrackAnalysis/place_cells.py:392: RuntimeWarning: invalid value encountered in divide\n",
      "  pf = pf / self.data[\"occupancy_map\"]\n"
     ]
    },
    {
     "name": "stdout",
     "output_type": "stream",
     "text": [
      "Doing shuffle tests. This may take a while.\n"
     ]
    },
    {
     "name": "stderr",
     "output_type": "stream",
     "text": [
      "/home/austinbaggetta/csstorage3/CircleTrack/CircleTrackAnalysis/place_cells.py:44: RuntimeWarning: invalid value encountered in divide\n",
      "  velocity = dists / np.diff(t, prepend = 0) ## in seconds\n",
      "/home/austinbaggetta/csstorage3/CircleTrack/CircleTrackAnalysis/place_cells.py:392: RuntimeWarning: invalid value encountered in divide\n",
      "  pf = pf / self.data[\"occupancy_map\"]\n"
     ]
    },
    {
     "name": "stdout",
     "output_type": "stream",
     "text": [
      "Doing shuffle tests. This may take a while.\n"
     ]
    },
    {
     "name": "stderr",
     "output_type": "stream",
     "text": [
      "/home/austinbaggetta/csstorage3/CircleTrack/CircleTrackAnalysis/place_cells.py:44: RuntimeWarning: invalid value encountered in divide\n",
      "  velocity = dists / np.diff(t, prepend = 0) ## in seconds\n",
      "/home/austinbaggetta/csstorage3/CircleTrack/CircleTrackAnalysis/place_cells.py:392: RuntimeWarning: invalid value encountered in divide\n",
      "  pf = pf / self.data[\"occupancy_map\"]\n"
     ]
    },
    {
     "name": "stdout",
     "output_type": "stream",
     "text": [
      "Doing shuffle tests. This may take a while.\n"
     ]
    },
    {
     "name": "stderr",
     "output_type": "stream",
     "text": [
      "/home/austinbaggetta/csstorage3/CircleTrack/CircleTrackAnalysis/place_cells.py:44: RuntimeWarning: invalid value encountered in divide\n",
      "  velocity = dists / np.diff(t, prepend = 0) ## in seconds\n",
      "/home/austinbaggetta/csstorage3/CircleTrack/CircleTrackAnalysis/place_cells.py:392: RuntimeWarning: invalid value encountered in divide\n",
      "  pf = pf / self.data[\"occupancy_map\"]\n"
     ]
    },
    {
     "name": "stdout",
     "output_type": "stream",
     "text": [
      "Doing shuffle tests. This may take a while.\n"
     ]
    },
    {
     "name": "stderr",
     "output_type": "stream",
     "text": [
      "/home/austinbaggetta/csstorage3/CircleTrack/CircleTrackAnalysis/place_cells.py:44: RuntimeWarning: invalid value encountered in divide\n",
      "  velocity = dists / np.diff(t, prepend = 0) ## in seconds\n",
      "/home/austinbaggetta/csstorage3/CircleTrack/CircleTrackAnalysis/place_cells.py:392: RuntimeWarning: invalid value encountered in divide\n",
      "  pf = pf / self.data[\"occupancy_map\"]\n"
     ]
    },
    {
     "name": "stdout",
     "output_type": "stream",
     "text": [
      "Doing shuffle tests. This may take a while.\n"
     ]
    },
    {
     "name": "stderr",
     "output_type": "stream",
     "text": [
      "/home/austinbaggetta/csstorage3/CircleTrack/CircleTrackAnalysis/place_cells.py:44: RuntimeWarning: invalid value encountered in divide\n",
      "  velocity = dists / np.diff(t, prepend = 0) ## in seconds\n",
      "/home/austinbaggetta/csstorage3/CircleTrack/CircleTrackAnalysis/place_cells.py:392: RuntimeWarning: invalid value encountered in divide\n",
      "  pf = pf / self.data[\"occupancy_map\"]\n"
     ]
    },
    {
     "name": "stdout",
     "output_type": "stream",
     "text": [
      "Doing shuffle tests. This may take a while.\n"
     ]
    },
    {
     "name": "stderr",
     "output_type": "stream",
     "text": [
      "/home/austinbaggetta/csstorage3/CircleTrack/CircleTrackAnalysis/place_cells.py:44: RuntimeWarning: invalid value encountered in divide\n",
      "  velocity = dists / np.diff(t, prepend = 0) ## in seconds\n",
      "/home/austinbaggetta/csstorage3/CircleTrack/CircleTrackAnalysis/place_cells.py:392: RuntimeWarning: invalid value encountered in divide\n",
      "  pf = pf / self.data[\"occupancy_map\"]\n"
     ]
    },
    {
     "name": "stdout",
     "output_type": "stream",
     "text": [
      "Doing shuffle tests. This may take a while.\n"
     ]
    },
    {
     "name": "stderr",
     "output_type": "stream",
     "text": [
      "/home/austinbaggetta/csstorage3/CircleTrack/CircleTrackAnalysis/place_cells.py:44: RuntimeWarning: invalid value encountered in divide\n",
      "  velocity = dists / np.diff(t, prepend = 0) ## in seconds\n",
      "/home/austinbaggetta/csstorage3/CircleTrack/CircleTrackAnalysis/place_cells.py:392: RuntimeWarning: invalid value encountered in divide\n",
      "  pf = pf / self.data[\"occupancy_map\"]\n"
     ]
    },
    {
     "name": "stdout",
     "output_type": "stream",
     "text": [
      "Doing shuffle tests. This may take a while.\n"
     ]
    },
    {
     "name": "stderr",
     "output_type": "stream",
     "text": [
      "/home/austinbaggetta/csstorage3/CircleTrack/CircleTrackAnalysis/place_cells.py:44: RuntimeWarning: invalid value encountered in divide\n",
      "  velocity = dists / np.diff(t, prepend = 0) ## in seconds\n",
      "/home/austinbaggetta/csstorage3/CircleTrack/CircleTrackAnalysis/place_cells.py:392: RuntimeWarning: invalid value encountered in divide\n",
      "  pf = pf / self.data[\"occupancy_map\"]\n"
     ]
    },
    {
     "name": "stdout",
     "output_type": "stream",
     "text": [
      "Doing shuffle tests. This may take a while.\n"
     ]
    },
    {
     "name": "stderr",
     "output_type": "stream",
     "text": [
      "/home/austinbaggetta/csstorage3/CircleTrack/CircleTrackAnalysis/place_cells.py:44: RuntimeWarning: invalid value encountered in divide\n",
      "  velocity = dists / np.diff(t, prepend = 0) ## in seconds\n",
      "/home/austinbaggetta/csstorage3/CircleTrack/CircleTrackAnalysis/place_cells.py:392: RuntimeWarning: invalid value encountered in divide\n",
      "  pf = pf / self.data[\"occupancy_map\"]\n"
     ]
    },
    {
     "name": "stdout",
     "output_type": "stream",
     "text": [
      "Doing shuffle tests. This may take a while.\n"
     ]
    },
    {
     "name": "stderr",
     "output_type": "stream",
     "text": [
      "/home/austinbaggetta/csstorage3/CircleTrack/CircleTrackAnalysis/place_cells.py:44: RuntimeWarning: invalid value encountered in divide\n",
      "  velocity = dists / np.diff(t, prepend = 0) ## in seconds\n",
      "/home/austinbaggetta/csstorage3/CircleTrack/CircleTrackAnalysis/place_cells.py:392: RuntimeWarning: invalid value encountered in divide\n",
      "  pf = pf / self.data[\"occupancy_map\"]\n"
     ]
    },
    {
     "name": "stdout",
     "output_type": "stream",
     "text": [
      "Doing shuffle tests. This may take a while.\n"
     ]
    },
    {
     "name": "stderr",
     "output_type": "stream",
     "text": [
      "/home/austinbaggetta/csstorage3/CircleTrack/CircleTrackAnalysis/place_cells.py:44: RuntimeWarning: invalid value encountered in divide\n",
      "  velocity = dists / np.diff(t, prepend = 0) ## in seconds\n",
      "/home/austinbaggetta/csstorage3/CircleTrack/CircleTrackAnalysis/place_cells.py:392: RuntimeWarning: invalid value encountered in divide\n",
      "  pf = pf / self.data[\"occupancy_map\"]\n"
     ]
    },
    {
     "name": "stdout",
     "output_type": "stream",
     "text": [
      "Doing shuffle tests. This may take a while.\n"
     ]
    },
    {
     "name": "stderr",
     "output_type": "stream",
     "text": [
      "/home/austinbaggetta/csstorage3/CircleTrack/CircleTrackAnalysis/place_cells.py:44: RuntimeWarning: invalid value encountered in divide\n",
      "  velocity = dists / np.diff(t, prepend = 0) ## in seconds\n",
      "/home/austinbaggetta/csstorage3/CircleTrack/CircleTrackAnalysis/place_cells.py:392: RuntimeWarning: invalid value encountered in divide\n",
      "  pf = pf / self.data[\"occupancy_map\"]\n"
     ]
    },
    {
     "name": "stdout",
     "output_type": "stream",
     "text": [
      "Doing shuffle tests. This may take a while.\n"
     ]
    },
    {
     "name": "stderr",
     "output_type": "stream",
     "text": [
      "/home/austinbaggetta/csstorage3/CircleTrack/CircleTrackAnalysis/place_cells.py:44: RuntimeWarning: invalid value encountered in divide\n",
      "  velocity = dists / np.diff(t, prepend = 0) ## in seconds\n",
      "/home/austinbaggetta/csstorage3/CircleTrack/CircleTrackAnalysis/place_cells.py:392: RuntimeWarning: invalid value encountered in divide\n",
      "  pf = pf / self.data[\"occupancy_map\"]\n"
     ]
    },
    {
     "name": "stdout",
     "output_type": "stream",
     "text": [
      "Doing shuffle tests. This may take a while.\n"
     ]
    },
    {
     "name": "stderr",
     "output_type": "stream",
     "text": [
      "/home/austinbaggetta/csstorage3/CircleTrack/CircleTrackAnalysis/place_cells.py:44: RuntimeWarning: invalid value encountered in divide\n",
      "  velocity = dists / np.diff(t, prepend = 0) ## in seconds\n",
      "/home/austinbaggetta/csstorage3/CircleTrack/CircleTrackAnalysis/place_cells.py:392: RuntimeWarning: invalid value encountered in divide\n",
      "  pf = pf / self.data[\"occupancy_map\"]\n"
     ]
    },
    {
     "name": "stdout",
     "output_type": "stream",
     "text": [
      "Doing shuffle tests. This may take a while.\n"
     ]
    },
    {
     "name": "stderr",
     "output_type": "stream",
     "text": [
      "/home/austinbaggetta/csstorage3/CircleTrack/CircleTrackAnalysis/place_cells.py:44: RuntimeWarning: invalid value encountered in divide\n",
      "  velocity = dists / np.diff(t, prepend = 0) ## in seconds\n",
      "/home/austinbaggetta/csstorage3/CircleTrack/CircleTrackAnalysis/place_cells.py:392: RuntimeWarning: invalid value encountered in divide\n",
      "  pf = pf / self.data[\"occupancy_map\"]\n"
     ]
    },
    {
     "name": "stdout",
     "output_type": "stream",
     "text": [
      "Doing shuffle tests. This may take a while.\n"
     ]
    },
    {
     "name": "stderr",
     "output_type": "stream",
     "text": [
      "/home/austinbaggetta/csstorage3/CircleTrack/CircleTrackAnalysis/place_cells.py:44: RuntimeWarning: invalid value encountered in divide\n",
      "  velocity = dists / np.diff(t, prepend = 0) ## in seconds\n",
      "/home/austinbaggetta/csstorage3/CircleTrack/CircleTrackAnalysis/place_cells.py:392: RuntimeWarning: invalid value encountered in divide\n",
      "  pf = pf / self.data[\"occupancy_map\"]\n"
     ]
    },
    {
     "name": "stdout",
     "output_type": "stream",
     "text": [
      "Doing shuffle tests. This may take a while.\n"
     ]
    },
    {
     "name": "stderr",
     "output_type": "stream",
     "text": [
      "/home/austinbaggetta/csstorage3/CircleTrack/CircleTrackAnalysis/place_cells.py:44: RuntimeWarning: invalid value encountered in divide\n",
      "  velocity = dists / np.diff(t, prepend = 0) ## in seconds\n",
      "/home/austinbaggetta/csstorage3/CircleTrack/CircleTrackAnalysis/place_cells.py:392: RuntimeWarning: invalid value encountered in divide\n",
      "  pf = pf / self.data[\"occupancy_map\"]\n"
     ]
    },
    {
     "name": "stdout",
     "output_type": "stream",
     "text": [
      "Doing shuffle tests. This may take a while.\n"
     ]
    },
    {
     "name": "stderr",
     "output_type": "stream",
     "text": [
      "/home/austinbaggetta/csstorage3/CircleTrack/CircleTrackAnalysis/place_cells.py:44: RuntimeWarning: invalid value encountered in divide\n",
      "  velocity = dists / np.diff(t, prepend = 0) ## in seconds\n",
      "/home/austinbaggetta/csstorage3/CircleTrack/CircleTrackAnalysis/place_cells.py:392: RuntimeWarning: invalid value encountered in divide\n",
      "  pf = pf / self.data[\"occupancy_map\"]\n"
     ]
    },
    {
     "name": "stdout",
     "output_type": "stream",
     "text": [
      "Doing shuffle tests. This may take a while.\n"
     ]
    },
    {
     "name": "stderr",
     "output_type": "stream",
     "text": [
      "/home/austinbaggetta/csstorage3/CircleTrack/CircleTrackAnalysis/place_cells.py:44: RuntimeWarning: invalid value encountered in divide\n",
      "  velocity = dists / np.diff(t, prepend = 0) ## in seconds\n",
      "/home/austinbaggetta/csstorage3/CircleTrack/CircleTrackAnalysis/place_cells.py:392: RuntimeWarning: invalid value encountered in divide\n",
      "  pf = pf / self.data[\"occupancy_map\"]\n"
     ]
    },
    {
     "name": "stdout",
     "output_type": "stream",
     "text": [
      "Doing shuffle tests. This may take a while.\n"
     ]
    },
    {
     "name": "stderr",
     "output_type": "stream",
     "text": [
      "/home/austinbaggetta/csstorage3/CircleTrack/CircleTrackAnalysis/place_cells.py:44: RuntimeWarning: invalid value encountered in divide\n",
      "  velocity = dists / np.diff(t, prepend = 0) ## in seconds\n",
      "/home/austinbaggetta/csstorage3/CircleTrack/CircleTrackAnalysis/place_cells.py:392: RuntimeWarning: invalid value encountered in divide\n",
      "  pf = pf / self.data[\"occupancy_map\"]\n"
     ]
    },
    {
     "name": "stdout",
     "output_type": "stream",
     "text": [
      "Doing shuffle tests. This may take a while.\n"
     ]
    },
    {
     "name": "stderr",
     "output_type": "stream",
     "text": [
      "/home/austinbaggetta/csstorage3/CircleTrack/CircleTrackAnalysis/place_cells.py:44: RuntimeWarning: invalid value encountered in divide\n",
      "  velocity = dists / np.diff(t, prepend = 0) ## in seconds\n",
      "/home/austinbaggetta/csstorage3/CircleTrack/CircleTrackAnalysis/place_cells.py:392: RuntimeWarning: invalid value encountered in divide\n",
      "  pf = pf / self.data[\"occupancy_map\"]\n"
     ]
    },
    {
     "name": "stdout",
     "output_type": "stream",
     "text": [
      "Doing shuffle tests. This may take a while.\n"
     ]
    },
    {
     "name": "stderr",
     "output_type": "stream",
     "text": [
      "/home/austinbaggetta/csstorage3/CircleTrack/CircleTrackAnalysis/place_cells.py:44: RuntimeWarning: invalid value encountered in divide\n",
      "  velocity = dists / np.diff(t, prepend = 0) ## in seconds\n",
      "/home/austinbaggetta/csstorage3/CircleTrack/CircleTrackAnalysis/place_cells.py:392: RuntimeWarning: invalid value encountered in divide\n",
      "  pf = pf / self.data[\"occupancy_map\"]\n"
     ]
    },
    {
     "name": "stdout",
     "output_type": "stream",
     "text": [
      "Doing shuffle tests. This may take a while.\n"
     ]
    },
    {
     "name": "stderr",
     "output_type": "stream",
     "text": [
      "/home/austinbaggetta/csstorage3/CircleTrack/CircleTrackAnalysis/place_cells.py:44: RuntimeWarning: invalid value encountered in divide\n",
      "  velocity = dists / np.diff(t, prepend = 0) ## in seconds\n",
      "/home/austinbaggetta/csstorage3/CircleTrack/CircleTrackAnalysis/place_cells.py:392: RuntimeWarning: invalid value encountered in divide\n",
      "  pf = pf / self.data[\"occupancy_map\"]\n"
     ]
    },
    {
     "name": "stdout",
     "output_type": "stream",
     "text": [
      "Doing shuffle tests. This may take a while.\n"
     ]
    },
    {
     "name": "stderr",
     "output_type": "stream",
     "text": [
      "/home/austinbaggetta/csstorage3/CircleTrack/CircleTrackAnalysis/place_cells.py:44: RuntimeWarning: invalid value encountered in divide\n",
      "  velocity = dists / np.diff(t, prepend = 0) ## in seconds\n",
      "/home/austinbaggetta/csstorage3/CircleTrack/CircleTrackAnalysis/place_cells.py:392: RuntimeWarning: invalid value encountered in divide\n",
      "  pf = pf / self.data[\"occupancy_map\"]\n"
     ]
    },
    {
     "name": "stdout",
     "output_type": "stream",
     "text": [
      "Doing shuffle tests. This may take a while.\n"
     ]
    },
    {
     "name": "stderr",
     "output_type": "stream",
     "text": [
      "/home/austinbaggetta/csstorage3/CircleTrack/CircleTrackAnalysis/place_cells.py:44: RuntimeWarning: invalid value encountered in divide\n",
      "  velocity = dists / np.diff(t, prepend = 0) ## in seconds\n",
      "/home/austinbaggetta/csstorage3/CircleTrack/CircleTrackAnalysis/place_cells.py:392: RuntimeWarning: invalid value encountered in divide\n",
      "  pf = pf / self.data[\"occupancy_map\"]\n"
     ]
    },
    {
     "name": "stdout",
     "output_type": "stream",
     "text": [
      "Doing shuffle tests. This may take a while.\n"
     ]
    },
    {
     "name": "stderr",
     "output_type": "stream",
     "text": [
      "/home/austinbaggetta/csstorage3/CircleTrack/CircleTrackAnalysis/place_cells.py:44: RuntimeWarning: invalid value encountered in divide\n",
      "  velocity = dists / np.diff(t, prepend = 0) ## in seconds\n",
      "/home/austinbaggetta/csstorage3/CircleTrack/CircleTrackAnalysis/place_cells.py:392: RuntimeWarning: invalid value encountered in divide\n",
      "  pf = pf / self.data[\"occupancy_map\"]\n"
     ]
    },
    {
     "name": "stdout",
     "output_type": "stream",
     "text": [
      "Doing shuffle tests. This may take a while.\n"
     ]
    },
    {
     "name": "stderr",
     "output_type": "stream",
     "text": [
      "/home/austinbaggetta/csstorage3/CircleTrack/CircleTrackAnalysis/place_cells.py:44: RuntimeWarning: invalid value encountered in divide\n",
      "  velocity = dists / np.diff(t, prepend = 0) ## in seconds\n",
      "/home/austinbaggetta/csstorage3/CircleTrack/CircleTrackAnalysis/place_cells.py:392: RuntimeWarning: invalid value encountered in divide\n",
      "  pf = pf / self.data[\"occupancy_map\"]\n"
     ]
    },
    {
     "name": "stdout",
     "output_type": "stream",
     "text": [
      "Doing shuffle tests. This may take a while.\n"
     ]
    },
    {
     "name": "stderr",
     "output_type": "stream",
     "text": [
      "/home/austinbaggetta/csstorage3/CircleTrack/CircleTrackAnalysis/place_cells.py:44: RuntimeWarning: invalid value encountered in divide\n",
      "  velocity = dists / np.diff(t, prepend = 0) ## in seconds\n",
      "/home/austinbaggetta/csstorage3/CircleTrack/CircleTrackAnalysis/place_cells.py:392: RuntimeWarning: invalid value encountered in divide\n",
      "  pf = pf / self.data[\"occupancy_map\"]\n"
     ]
    },
    {
     "name": "stdout",
     "output_type": "stream",
     "text": [
      "Doing shuffle tests. This may take a while.\n"
     ]
    },
    {
     "name": "stderr",
     "output_type": "stream",
     "text": [
      "/home/austinbaggetta/csstorage3/CircleTrack/CircleTrackAnalysis/place_cells.py:44: RuntimeWarning: invalid value encountered in divide\n",
      "  velocity = dists / np.diff(t, prepend = 0) ## in seconds\n",
      "/home/austinbaggetta/csstorage3/CircleTrack/CircleTrackAnalysis/place_cells.py:392: RuntimeWarning: invalid value encountered in divide\n",
      "  pf = pf / self.data[\"occupancy_map\"]\n"
     ]
    },
    {
     "name": "stdout",
     "output_type": "stream",
     "text": [
      "Doing shuffle tests. This may take a while.\n"
     ]
    },
    {
     "name": "stderr",
     "output_type": "stream",
     "text": [
      "/home/austinbaggetta/csstorage3/CircleTrack/CircleTrackAnalysis/place_cells.py:44: RuntimeWarning: invalid value encountered in divide\n",
      "  velocity = dists / np.diff(t, prepend = 0) ## in seconds\n",
      "/home/austinbaggetta/csstorage3/CircleTrack/CircleTrackAnalysis/place_cells.py:392: RuntimeWarning: invalid value encountered in divide\n",
      "  pf = pf / self.data[\"occupancy_map\"]\n"
     ]
    },
    {
     "name": "stdout",
     "output_type": "stream",
     "text": [
      "Doing shuffle tests. This may take a while.\n"
     ]
    },
    {
     "name": "stderr",
     "output_type": "stream",
     "text": [
      "/home/austinbaggetta/csstorage3/CircleTrack/CircleTrackAnalysis/place_cells.py:44: RuntimeWarning: invalid value encountered in divide\n",
      "  velocity = dists / np.diff(t, prepend = 0) ## in seconds\n",
      "/home/austinbaggetta/csstorage3/CircleTrack/CircleTrackAnalysis/place_cells.py:392: RuntimeWarning: invalid value encountered in divide\n",
      "  pf = pf / self.data[\"occupancy_map\"]\n"
     ]
    },
    {
     "name": "stdout",
     "output_type": "stream",
     "text": [
      "Doing shuffle tests. This may take a while.\n"
     ]
    },
    {
     "name": "stderr",
     "output_type": "stream",
     "text": [
      "/home/austinbaggetta/csstorage3/CircleTrack/CircleTrackAnalysis/place_cells.py:44: RuntimeWarning: invalid value encountered in divide\n",
      "  velocity = dists / np.diff(t, prepend = 0) ## in seconds\n",
      "/home/austinbaggetta/csstorage3/CircleTrack/CircleTrackAnalysis/place_cells.py:392: RuntimeWarning: invalid value encountered in divide\n",
      "  pf = pf / self.data[\"occupancy_map\"]\n"
     ]
    },
    {
     "name": "stdout",
     "output_type": "stream",
     "text": [
      "Doing shuffle tests. This may take a while.\n"
     ]
    },
    {
     "name": "stderr",
     "output_type": "stream",
     "text": [
      "/home/austinbaggetta/csstorage3/CircleTrack/CircleTrackAnalysis/place_cells.py:44: RuntimeWarning: invalid value encountered in divide\n",
      "  velocity = dists / np.diff(t, prepend = 0) ## in seconds\n",
      "/home/austinbaggetta/csstorage3/CircleTrack/CircleTrackAnalysis/place_cells.py:392: RuntimeWarning: invalid value encountered in divide\n",
      "  pf = pf / self.data[\"occupancy_map\"]\n"
     ]
    },
    {
     "name": "stdout",
     "output_type": "stream",
     "text": [
      "Doing shuffle tests. This may take a while.\n"
     ]
    },
    {
     "name": "stderr",
     "output_type": "stream",
     "text": [
      "/home/austinbaggetta/csstorage3/CircleTrack/CircleTrackAnalysis/place_cells.py:44: RuntimeWarning: invalid value encountered in divide\n",
      "  velocity = dists / np.diff(t, prepend = 0) ## in seconds\n",
      "/home/austinbaggetta/csstorage3/CircleTrack/CircleTrackAnalysis/place_cells.py:392: RuntimeWarning: invalid value encountered in divide\n",
      "  pf = pf / self.data[\"occupancy_map\"]\n"
     ]
    },
    {
     "name": "stdout",
     "output_type": "stream",
     "text": [
      "Doing shuffle tests. This may take a while.\n"
     ]
    },
    {
     "name": "stderr",
     "output_type": "stream",
     "text": [
      "/home/austinbaggetta/csstorage3/CircleTrack/CircleTrackAnalysis/place_cells.py:44: RuntimeWarning: invalid value encountered in divide\n",
      "  velocity = dists / np.diff(t, prepend = 0) ## in seconds\n",
      "/home/austinbaggetta/csstorage3/CircleTrack/CircleTrackAnalysis/place_cells.py:392: RuntimeWarning: invalid value encountered in divide\n",
      "  pf = pf / self.data[\"occupancy_map\"]\n"
     ]
    },
    {
     "name": "stdout",
     "output_type": "stream",
     "text": [
      "Doing shuffle tests. This may take a while.\n"
     ]
    },
    {
     "name": "stderr",
     "output_type": "stream",
     "text": [
      "/home/austinbaggetta/csstorage3/CircleTrack/CircleTrackAnalysis/place_cells.py:44: RuntimeWarning: invalid value encountered in divide\n",
      "  velocity = dists / np.diff(t, prepend = 0) ## in seconds\n",
      "/home/austinbaggetta/csstorage3/CircleTrack/CircleTrackAnalysis/place_cells.py:392: RuntimeWarning: invalid value encountered in divide\n",
      "  pf = pf / self.data[\"occupancy_map\"]\n"
     ]
    },
    {
     "name": "stdout",
     "output_type": "stream",
     "text": [
      "Doing shuffle tests. This may take a while.\n"
     ]
    },
    {
     "name": "stderr",
     "output_type": "stream",
     "text": [
      "/home/austinbaggetta/csstorage3/CircleTrack/CircleTrackAnalysis/place_cells.py:44: RuntimeWarning: invalid value encountered in divide\n",
      "  velocity = dists / np.diff(t, prepend = 0) ## in seconds\n",
      "/home/austinbaggetta/csstorage3/CircleTrack/CircleTrackAnalysis/place_cells.py:392: RuntimeWarning: invalid value encountered in divide\n",
      "  pf = pf / self.data[\"occupancy_map\"]\n"
     ]
    },
    {
     "name": "stdout",
     "output_type": "stream",
     "text": [
      "Doing shuffle tests. This may take a while.\n"
     ]
    },
    {
     "name": "stderr",
     "output_type": "stream",
     "text": [
      "/home/austinbaggetta/csstorage3/CircleTrack/CircleTrackAnalysis/place_cells.py:44: RuntimeWarning: invalid value encountered in divide\n",
      "  velocity = dists / np.diff(t, prepend = 0) ## in seconds\n",
      "/home/austinbaggetta/csstorage3/CircleTrack/CircleTrackAnalysis/place_cells.py:392: RuntimeWarning: invalid value encountered in divide\n",
      "  pf = pf / self.data[\"occupancy_map\"]\n"
     ]
    },
    {
     "name": "stdout",
     "output_type": "stream",
     "text": [
      "Doing shuffle tests. This may take a while.\n"
     ]
    },
    {
     "name": "stderr",
     "output_type": "stream",
     "text": [
      "/home/austinbaggetta/csstorage3/CircleTrack/CircleTrackAnalysis/place_cells.py:44: RuntimeWarning: invalid value encountered in divide\n",
      "  velocity = dists / np.diff(t, prepend = 0) ## in seconds\n",
      "/home/austinbaggetta/csstorage3/CircleTrack/CircleTrackAnalysis/place_cells.py:392: RuntimeWarning: invalid value encountered in divide\n",
      "  pf = pf / self.data[\"occupancy_map\"]\n"
     ]
    },
    {
     "name": "stdout",
     "output_type": "stream",
     "text": [
      "Doing shuffle tests. This may take a while.\n"
     ]
    },
    {
     "name": "stderr",
     "output_type": "stream",
     "text": [
      "/home/austinbaggetta/csstorage3/CircleTrack/CircleTrackAnalysis/place_cells.py:44: RuntimeWarning: invalid value encountered in divide\n",
      "  velocity = dists / np.diff(t, prepend = 0) ## in seconds\n",
      "/home/austinbaggetta/csstorage3/CircleTrack/CircleTrackAnalysis/place_cells.py:392: RuntimeWarning: invalid value encountered in divide\n",
      "  pf = pf / self.data[\"occupancy_map\"]\n"
     ]
    },
    {
     "name": "stdout",
     "output_type": "stream",
     "text": [
      "Doing shuffle tests. This may take a while.\n"
     ]
    },
    {
     "name": "stderr",
     "output_type": "stream",
     "text": [
      "/home/austinbaggetta/csstorage3/CircleTrack/CircleTrackAnalysis/place_cells.py:44: RuntimeWarning: invalid value encountered in divide\n",
      "  velocity = dists / np.diff(t, prepend = 0) ## in seconds\n",
      "/home/austinbaggetta/csstorage3/CircleTrack/CircleTrackAnalysis/place_cells.py:392: RuntimeWarning: invalid value encountered in divide\n",
      "  pf = pf / self.data[\"occupancy_map\"]\n"
     ]
    },
    {
     "name": "stdout",
     "output_type": "stream",
     "text": [
      "Doing shuffle tests. This may take a while.\n"
     ]
    },
    {
     "name": "stderr",
     "output_type": "stream",
     "text": [
      "/home/austinbaggetta/csstorage3/CircleTrack/CircleTrackAnalysis/place_cells.py:44: RuntimeWarning: invalid value encountered in divide\n",
      "  velocity = dists / np.diff(t, prepend = 0) ## in seconds\n",
      "/home/austinbaggetta/csstorage3/CircleTrack/CircleTrackAnalysis/place_cells.py:392: RuntimeWarning: invalid value encountered in divide\n",
      "  pf = pf / self.data[\"occupancy_map\"]\n"
     ]
    },
    {
     "name": "stdout",
     "output_type": "stream",
     "text": [
      "Doing shuffle tests. This may take a while.\n"
     ]
    },
    {
     "name": "stderr",
     "output_type": "stream",
     "text": [
      "/home/austinbaggetta/csstorage3/CircleTrack/CircleTrackAnalysis/place_cells.py:44: RuntimeWarning: invalid value encountered in divide\n",
      "  velocity = dists / np.diff(t, prepend = 0) ## in seconds\n",
      "/home/austinbaggetta/csstorage3/CircleTrack/CircleTrackAnalysis/place_cells.py:392: RuntimeWarning: invalid value encountered in divide\n",
      "  pf = pf / self.data[\"occupancy_map\"]\n"
     ]
    },
    {
     "name": "stdout",
     "output_type": "stream",
     "text": [
      "Doing shuffle tests. This may take a while.\n"
     ]
    },
    {
     "name": "stderr",
     "output_type": "stream",
     "text": [
      "/home/austinbaggetta/csstorage3/CircleTrack/CircleTrackAnalysis/place_cells.py:44: RuntimeWarning: invalid value encountered in divide\n",
      "  velocity = dists / np.diff(t, prepend = 0) ## in seconds\n",
      "/home/austinbaggetta/csstorage3/CircleTrack/CircleTrackAnalysis/place_cells.py:392: RuntimeWarning: invalid value encountered in divide\n",
      "  pf = pf / self.data[\"occupancy_map\"]\n"
     ]
    },
    {
     "name": "stdout",
     "output_type": "stream",
     "text": [
      "Doing shuffle tests. This may take a while.\n"
     ]
    },
    {
     "name": "stderr",
     "output_type": "stream",
     "text": [
      "/home/austinbaggetta/csstorage3/CircleTrack/CircleTrackAnalysis/place_cells.py:44: RuntimeWarning: invalid value encountered in divide\n",
      "  velocity = dists / np.diff(t, prepend = 0) ## in seconds\n",
      "/home/austinbaggetta/csstorage3/CircleTrack/CircleTrackAnalysis/place_cells.py:392: RuntimeWarning: invalid value encountered in divide\n",
      "  pf = pf / self.data[\"occupancy_map\"]\n"
     ]
    },
    {
     "name": "stdout",
     "output_type": "stream",
     "text": [
      "Doing shuffle tests. This may take a while.\n"
     ]
    },
    {
     "name": "stderr",
     "output_type": "stream",
     "text": [
      "/home/austinbaggetta/csstorage3/CircleTrack/CircleTrackAnalysis/place_cells.py:44: RuntimeWarning: invalid value encountered in divide\n",
      "  velocity = dists / np.diff(t, prepend = 0) ## in seconds\n",
      "/home/austinbaggetta/csstorage3/CircleTrack/CircleTrackAnalysis/place_cells.py:392: RuntimeWarning: invalid value encountered in divide\n",
      "  pf = pf / self.data[\"occupancy_map\"]\n"
     ]
    },
    {
     "name": "stdout",
     "output_type": "stream",
     "text": [
      "Doing shuffle tests. This may take a while.\n"
     ]
    },
    {
     "name": "stderr",
     "output_type": "stream",
     "text": [
      "/home/austinbaggetta/csstorage3/CircleTrack/CircleTrackAnalysis/place_cells.py:44: RuntimeWarning: invalid value encountered in divide\n",
      "  velocity = dists / np.diff(t, prepend = 0) ## in seconds\n",
      "/home/austinbaggetta/csstorage3/CircleTrack/CircleTrackAnalysis/place_cells.py:392: RuntimeWarning: invalid value encountered in divide\n",
      "  pf = pf / self.data[\"occupancy_map\"]\n"
     ]
    },
    {
     "name": "stdout",
     "output_type": "stream",
     "text": [
      "Doing shuffle tests. This may take a while.\n"
     ]
    },
    {
     "name": "stderr",
     "output_type": "stream",
     "text": [
      "/home/austinbaggetta/csstorage3/CircleTrack/CircleTrackAnalysis/place_cells.py:44: RuntimeWarning: invalid value encountered in divide\n",
      "  velocity = dists / np.diff(t, prepend = 0) ## in seconds\n",
      "/home/austinbaggetta/csstorage3/CircleTrack/CircleTrackAnalysis/place_cells.py:392: RuntimeWarning: invalid value encountered in divide\n",
      "  pf = pf / self.data[\"occupancy_map\"]\n"
     ]
    },
    {
     "name": "stdout",
     "output_type": "stream",
     "text": [
      "Doing shuffle tests. This may take a while.\n"
     ]
    },
    {
     "name": "stderr",
     "output_type": "stream",
     "text": [
      "/home/austinbaggetta/csstorage3/CircleTrack/CircleTrackAnalysis/place_cells.py:44: RuntimeWarning: invalid value encountered in divide\n",
      "  velocity = dists / np.diff(t, prepend = 0) ## in seconds\n",
      "/home/austinbaggetta/csstorage3/CircleTrack/CircleTrackAnalysis/place_cells.py:392: RuntimeWarning: invalid value encountered in divide\n",
      "  pf = pf / self.data[\"occupancy_map\"]\n"
     ]
    },
    {
     "name": "stdout",
     "output_type": "stream",
     "text": [
      "Doing shuffle tests. This may take a while.\n"
     ]
    },
    {
     "name": "stderr",
     "output_type": "stream",
     "text": [
      "/home/austinbaggetta/csstorage3/CircleTrack/CircleTrackAnalysis/place_cells.py:44: RuntimeWarning: invalid value encountered in divide\n",
      "  velocity = dists / np.diff(t, prepend = 0) ## in seconds\n",
      "/home/austinbaggetta/csstorage3/CircleTrack/CircleTrackAnalysis/place_cells.py:392: RuntimeWarning: invalid value encountered in divide\n",
      "  pf = pf / self.data[\"occupancy_map\"]\n"
     ]
    },
    {
     "name": "stdout",
     "output_type": "stream",
     "text": [
      "Doing shuffle tests. This may take a while.\n"
     ]
    },
    {
     "name": "stderr",
     "output_type": "stream",
     "text": [
      "/home/austinbaggetta/csstorage3/CircleTrack/CircleTrackAnalysis/place_cells.py:44: RuntimeWarning: invalid value encountered in divide\n",
      "  velocity = dists / np.diff(t, prepend = 0) ## in seconds\n",
      "/home/austinbaggetta/csstorage3/CircleTrack/CircleTrackAnalysis/place_cells.py:392: RuntimeWarning: invalid value encountered in divide\n",
      "  pf = pf / self.data[\"occupancy_map\"]\n"
     ]
    },
    {
     "name": "stdout",
     "output_type": "stream",
     "text": [
      "Doing shuffle tests. This may take a while.\n"
     ]
    },
    {
     "name": "stderr",
     "output_type": "stream",
     "text": [
      "/home/austinbaggetta/csstorage3/CircleTrack/CircleTrackAnalysis/place_cells.py:44: RuntimeWarning: invalid value encountered in divide\n",
      "  velocity = dists / np.diff(t, prepend = 0) ## in seconds\n",
      "/home/austinbaggetta/csstorage3/CircleTrack/CircleTrackAnalysis/place_cells.py:392: RuntimeWarning: invalid value encountered in divide\n",
      "  pf = pf / self.data[\"occupancy_map\"]\n"
     ]
    },
    {
     "name": "stdout",
     "output_type": "stream",
     "text": [
      "Doing shuffle tests. This may take a while.\n"
     ]
    },
    {
     "name": "stderr",
     "output_type": "stream",
     "text": [
      "/home/austinbaggetta/csstorage3/CircleTrack/CircleTrackAnalysis/place_cells.py:44: RuntimeWarning: invalid value encountered in divide\n",
      "  velocity = dists / np.diff(t, prepend = 0) ## in seconds\n",
      "/home/austinbaggetta/csstorage3/CircleTrack/CircleTrackAnalysis/place_cells.py:392: RuntimeWarning: invalid value encountered in divide\n",
      "  pf = pf / self.data[\"occupancy_map\"]\n"
     ]
    },
    {
     "name": "stdout",
     "output_type": "stream",
     "text": [
      "Doing shuffle tests. This may take a while.\n"
     ]
    },
    {
     "name": "stderr",
     "output_type": "stream",
     "text": [
      "/home/austinbaggetta/csstorage3/CircleTrack/CircleTrackAnalysis/place_cells.py:44: RuntimeWarning: invalid value encountered in divide\n",
      "  velocity = dists / np.diff(t, prepend = 0) ## in seconds\n",
      "/home/austinbaggetta/csstorage3/CircleTrack/CircleTrackAnalysis/place_cells.py:392: RuntimeWarning: invalid value encountered in divide\n",
      "  pf = pf / self.data[\"occupancy_map\"]\n"
     ]
    },
    {
     "name": "stdout",
     "output_type": "stream",
     "text": [
      "Doing shuffle tests. This may take a while.\n"
     ]
    },
    {
     "name": "stderr",
     "output_type": "stream",
     "text": [
      "/home/austinbaggetta/csstorage3/CircleTrack/CircleTrackAnalysis/place_cells.py:44: RuntimeWarning: invalid value encountered in divide\n",
      "  velocity = dists / np.diff(t, prepend = 0) ## in seconds\n",
      "/home/austinbaggetta/csstorage3/CircleTrack/CircleTrackAnalysis/place_cells.py:392: RuntimeWarning: invalid value encountered in divide\n",
      "  pf = pf / self.data[\"occupancy_map\"]\n"
     ]
    },
    {
     "name": "stdout",
     "output_type": "stream",
     "text": [
      "Doing shuffle tests. This may take a while.\n"
     ]
    },
    {
     "name": "stderr",
     "output_type": "stream",
     "text": [
      "/home/austinbaggetta/csstorage3/CircleTrack/CircleTrackAnalysis/place_cells.py:44: RuntimeWarning: invalid value encountered in divide\n",
      "  velocity = dists / np.diff(t, prepend = 0) ## in seconds\n",
      "/home/austinbaggetta/csstorage3/CircleTrack/CircleTrackAnalysis/place_cells.py:392: RuntimeWarning: invalid value encountered in divide\n",
      "  pf = pf / self.data[\"occupancy_map\"]\n"
     ]
    },
    {
     "name": "stdout",
     "output_type": "stream",
     "text": [
      "Doing shuffle tests. This may take a while.\n"
     ]
    },
    {
     "name": "stderr",
     "output_type": "stream",
     "text": [
      "/home/austinbaggetta/csstorage3/CircleTrack/CircleTrackAnalysis/place_cells.py:44: RuntimeWarning: invalid value encountered in divide\n",
      "  velocity = dists / np.diff(t, prepend = 0) ## in seconds\n",
      "/home/austinbaggetta/csstorage3/CircleTrack/CircleTrackAnalysis/place_cells.py:392: RuntimeWarning: invalid value encountered in divide\n",
      "  pf = pf / self.data[\"occupancy_map\"]\n"
     ]
    },
    {
     "name": "stdout",
     "output_type": "stream",
     "text": [
      "Doing shuffle tests. This may take a while.\n"
     ]
    },
    {
     "name": "stderr",
     "output_type": "stream",
     "text": [
      "/home/austinbaggetta/csstorage3/CircleTrack/CircleTrackAnalysis/place_cells.py:44: RuntimeWarning: invalid value encountered in divide\n",
      "  velocity = dists / np.diff(t, prepend = 0) ## in seconds\n",
      "/home/austinbaggetta/csstorage3/CircleTrack/CircleTrackAnalysis/place_cells.py:392: RuntimeWarning: invalid value encountered in divide\n",
      "  pf = pf / self.data[\"occupancy_map\"]\n"
     ]
    },
    {
     "name": "stdout",
     "output_type": "stream",
     "text": [
      "Doing shuffle tests. This may take a while.\n"
     ]
    },
    {
     "name": "stderr",
     "output_type": "stream",
     "text": [
      "/home/austinbaggetta/csstorage3/CircleTrack/CircleTrackAnalysis/place_cells.py:44: RuntimeWarning: invalid value encountered in divide\n",
      "  velocity = dists / np.diff(t, prepend = 0) ## in seconds\n",
      "/home/austinbaggetta/csstorage3/CircleTrack/CircleTrackAnalysis/place_cells.py:392: RuntimeWarning: invalid value encountered in divide\n",
      "  pf = pf / self.data[\"occupancy_map\"]\n"
     ]
    },
    {
     "name": "stdout",
     "output_type": "stream",
     "text": [
      "Doing shuffle tests. This may take a while.\n"
     ]
    },
    {
     "name": "stderr",
     "output_type": "stream",
     "text": [
      "/home/austinbaggetta/csstorage3/CircleTrack/CircleTrackAnalysis/place_cells.py:44: RuntimeWarning: invalid value encountered in divide\n",
      "  velocity = dists / np.diff(t, prepend = 0) ## in seconds\n",
      "/home/austinbaggetta/csstorage3/CircleTrack/CircleTrackAnalysis/place_cells.py:392: RuntimeWarning: invalid value encountered in divide\n",
      "  pf = pf / self.data[\"occupancy_map\"]\n"
     ]
    },
    {
     "name": "stdout",
     "output_type": "stream",
     "text": [
      "Doing shuffle tests. This may take a while.\n"
     ]
    },
    {
     "name": "stderr",
     "output_type": "stream",
     "text": [
      "/home/austinbaggetta/csstorage3/CircleTrack/CircleTrackAnalysis/place_cells.py:44: RuntimeWarning: invalid value encountered in divide\n",
      "  velocity = dists / np.diff(t, prepend = 0) ## in seconds\n",
      "/home/austinbaggetta/csstorage3/CircleTrack/CircleTrackAnalysis/place_cells.py:392: RuntimeWarning: invalid value encountered in divide\n",
      "  pf = pf / self.data[\"occupancy_map\"]\n"
     ]
    },
    {
     "name": "stdout",
     "output_type": "stream",
     "text": [
      "Doing shuffle tests. This may take a while.\n"
     ]
    },
    {
     "name": "stderr",
     "output_type": "stream",
     "text": [
      "/home/austinbaggetta/csstorage3/CircleTrack/CircleTrackAnalysis/place_cells.py:44: RuntimeWarning: invalid value encountered in divide\n",
      "  velocity = dists / np.diff(t, prepend = 0) ## in seconds\n",
      "/home/austinbaggetta/csstorage3/CircleTrack/CircleTrackAnalysis/place_cells.py:392: RuntimeWarning: invalid value encountered in divide\n",
      "  pf = pf / self.data[\"occupancy_map\"]\n"
     ]
    },
    {
     "name": "stdout",
     "output_type": "stream",
     "text": [
      "Doing shuffle tests. This may take a while.\n"
     ]
    },
    {
     "name": "stderr",
     "output_type": "stream",
     "text": [
      "/home/austinbaggetta/csstorage3/CircleTrack/CircleTrackAnalysis/place_cells.py:44: RuntimeWarning: invalid value encountered in divide\n",
      "  velocity = dists / np.diff(t, prepend = 0) ## in seconds\n",
      "/home/austinbaggetta/csstorage3/CircleTrack/CircleTrackAnalysis/place_cells.py:392: RuntimeWarning: invalid value encountered in divide\n",
      "  pf = pf / self.data[\"occupancy_map\"]\n"
     ]
    },
    {
     "name": "stdout",
     "output_type": "stream",
     "text": [
      "Doing shuffle tests. This may take a while.\n"
     ]
    },
    {
     "name": "stderr",
     "output_type": "stream",
     "text": [
      "/home/austinbaggetta/csstorage3/CircleTrack/CircleTrackAnalysis/place_cells.py:44: RuntimeWarning: invalid value encountered in divide\n",
      "  velocity = dists / np.diff(t, prepend = 0) ## in seconds\n",
      "/home/austinbaggetta/csstorage3/CircleTrack/CircleTrackAnalysis/place_cells.py:392: RuntimeWarning: invalid value encountered in divide\n",
      "  pf = pf / self.data[\"occupancy_map\"]\n"
     ]
    },
    {
     "name": "stdout",
     "output_type": "stream",
     "text": [
      "Doing shuffle tests. This may take a while.\n"
     ]
    },
    {
     "name": "stderr",
     "output_type": "stream",
     "text": [
      "/home/austinbaggetta/csstorage3/CircleTrack/CircleTrackAnalysis/place_cells.py:44: RuntimeWarning: invalid value encountered in divide\n",
      "  velocity = dists / np.diff(t, prepend = 0) ## in seconds\n",
      "/home/austinbaggetta/csstorage3/CircleTrack/CircleTrackAnalysis/place_cells.py:392: RuntimeWarning: invalid value encountered in divide\n",
      "  pf = pf / self.data[\"occupancy_map\"]\n"
     ]
    },
    {
     "name": "stdout",
     "output_type": "stream",
     "text": [
      "Doing shuffle tests. This may take a while.\n"
     ]
    },
    {
     "name": "stderr",
     "output_type": "stream",
     "text": [
      "/home/austinbaggetta/csstorage3/CircleTrack/CircleTrackAnalysis/place_cells.py:44: RuntimeWarning: invalid value encountered in divide\n",
      "  velocity = dists / np.diff(t, prepend = 0) ## in seconds\n",
      "/home/austinbaggetta/csstorage3/CircleTrack/CircleTrackAnalysis/place_cells.py:392: RuntimeWarning: invalid value encountered in divide\n",
      "  pf = pf / self.data[\"occupancy_map\"]\n"
     ]
    },
    {
     "name": "stdout",
     "output_type": "stream",
     "text": [
      "Doing shuffle tests. This may take a while.\n"
     ]
    },
    {
     "name": "stderr",
     "output_type": "stream",
     "text": [
      "/home/austinbaggetta/csstorage3/CircleTrack/CircleTrackAnalysis/place_cells.py:44: RuntimeWarning: invalid value encountered in divide\n",
      "  velocity = dists / np.diff(t, prepend = 0) ## in seconds\n",
      "/home/austinbaggetta/csstorage3/CircleTrack/CircleTrackAnalysis/place_cells.py:392: RuntimeWarning: invalid value encountered in divide\n",
      "  pf = pf / self.data[\"occupancy_map\"]\n"
     ]
    },
    {
     "name": "stdout",
     "output_type": "stream",
     "text": [
      "Doing shuffle tests. This may take a while.\n"
     ]
    },
    {
     "name": "stderr",
     "output_type": "stream",
     "text": [
      "/home/austinbaggetta/csstorage3/CircleTrack/CircleTrackAnalysis/place_cells.py:44: RuntimeWarning: invalid value encountered in divide\n",
      "  velocity = dists / np.diff(t, prepend = 0) ## in seconds\n",
      "/home/austinbaggetta/csstorage3/CircleTrack/CircleTrackAnalysis/place_cells.py:392: RuntimeWarning: invalid value encountered in divide\n",
      "  pf = pf / self.data[\"occupancy_map\"]\n"
     ]
    },
    {
     "name": "stdout",
     "output_type": "stream",
     "text": [
      "Doing shuffle tests. This may take a while.\n"
     ]
    },
    {
     "name": "stderr",
     "output_type": "stream",
     "text": [
      "/home/austinbaggetta/csstorage3/CircleTrack/CircleTrackAnalysis/place_cells.py:44: RuntimeWarning: invalid value encountered in divide\n",
      "  velocity = dists / np.diff(t, prepend = 0) ## in seconds\n",
      "/home/austinbaggetta/csstorage3/CircleTrack/CircleTrackAnalysis/place_cells.py:392: RuntimeWarning: invalid value encountered in divide\n",
      "  pf = pf / self.data[\"occupancy_map\"]\n"
     ]
    },
    {
     "name": "stdout",
     "output_type": "stream",
     "text": [
      "Doing shuffle tests. This may take a while.\n"
     ]
    },
    {
     "name": "stderr",
     "output_type": "stream",
     "text": [
      "/home/austinbaggetta/csstorage3/CircleTrack/CircleTrackAnalysis/place_cells.py:44: RuntimeWarning: invalid value encountered in divide\n",
      "  velocity = dists / np.diff(t, prepend = 0) ## in seconds\n",
      "/home/austinbaggetta/csstorage3/CircleTrack/CircleTrackAnalysis/place_cells.py:392: RuntimeWarning: invalid value encountered in divide\n",
      "  pf = pf / self.data[\"occupancy_map\"]\n"
     ]
    },
    {
     "name": "stdout",
     "output_type": "stream",
     "text": [
      "Doing shuffle tests. This may take a while.\n"
     ]
    },
    {
     "name": "stderr",
     "output_type": "stream",
     "text": [
      "/home/austinbaggetta/csstorage3/CircleTrack/CircleTrackAnalysis/place_cells.py:44: RuntimeWarning: invalid value encountered in divide\n",
      "  velocity = dists / np.diff(t, prepend = 0) ## in seconds\n",
      "/home/austinbaggetta/csstorage3/CircleTrack/CircleTrackAnalysis/place_cells.py:392: RuntimeWarning: invalid value encountered in divide\n",
      "  pf = pf / self.data[\"occupancy_map\"]\n"
     ]
    },
    {
     "name": "stdout",
     "output_type": "stream",
     "text": [
      "Doing shuffle tests. This may take a while.\n"
     ]
    },
    {
     "name": "stderr",
     "output_type": "stream",
     "text": [
      "/home/austinbaggetta/csstorage3/CircleTrack/CircleTrackAnalysis/place_cells.py:44: RuntimeWarning: invalid value encountered in divide\n",
      "  velocity = dists / np.diff(t, prepend = 0) ## in seconds\n",
      "/home/austinbaggetta/csstorage3/CircleTrack/CircleTrackAnalysis/place_cells.py:392: RuntimeWarning: invalid value encountered in divide\n",
      "  pf = pf / self.data[\"occupancy_map\"]\n"
     ]
    },
    {
     "name": "stdout",
     "output_type": "stream",
     "text": [
      "Doing shuffle tests. This may take a while.\n"
     ]
    },
    {
     "name": "stderr",
     "output_type": "stream",
     "text": [
      "/home/austinbaggetta/csstorage3/CircleTrack/CircleTrackAnalysis/place_cells.py:44: RuntimeWarning: invalid value encountered in divide\n",
      "  velocity = dists / np.diff(t, prepend = 0) ## in seconds\n",
      "/home/austinbaggetta/csstorage3/CircleTrack/CircleTrackAnalysis/place_cells.py:392: RuntimeWarning: invalid value encountered in divide\n",
      "  pf = pf / self.data[\"occupancy_map\"]\n"
     ]
    },
    {
     "name": "stdout",
     "output_type": "stream",
     "text": [
      "Doing shuffle tests. This may take a while.\n"
     ]
    },
    {
     "name": "stderr",
     "output_type": "stream",
     "text": [
      "/home/austinbaggetta/csstorage3/CircleTrack/CircleTrackAnalysis/place_cells.py:44: RuntimeWarning: invalid value encountered in divide\n",
      "  velocity = dists / np.diff(t, prepend = 0) ## in seconds\n",
      "/home/austinbaggetta/csstorage3/CircleTrack/CircleTrackAnalysis/place_cells.py:392: RuntimeWarning: invalid value encountered in divide\n",
      "  pf = pf / self.data[\"occupancy_map\"]\n"
     ]
    },
    {
     "name": "stdout",
     "output_type": "stream",
     "text": [
      "Doing shuffle tests. This may take a while.\n"
     ]
    },
    {
     "name": "stderr",
     "output_type": "stream",
     "text": [
      "/home/austinbaggetta/csstorage3/CircleTrack/CircleTrackAnalysis/place_cells.py:44: RuntimeWarning: invalid value encountered in divide\n",
      "  velocity = dists / np.diff(t, prepend = 0) ## in seconds\n",
      "/home/austinbaggetta/csstorage3/CircleTrack/CircleTrackAnalysis/place_cells.py:392: RuntimeWarning: invalid value encountered in divide\n",
      "  pf = pf / self.data[\"occupancy_map\"]\n"
     ]
    },
    {
     "name": "stdout",
     "output_type": "stream",
     "text": [
      "Doing shuffle tests. This may take a while.\n"
     ]
    },
    {
     "name": "stderr",
     "output_type": "stream",
     "text": [
      "/home/austinbaggetta/csstorage3/CircleTrack/CircleTrackAnalysis/place_cells.py:44: RuntimeWarning: invalid value encountered in divide\n",
      "  velocity = dists / np.diff(t, prepend = 0) ## in seconds\n",
      "/home/austinbaggetta/csstorage3/CircleTrack/CircleTrackAnalysis/place_cells.py:392: RuntimeWarning: invalid value encountered in divide\n",
      "  pf = pf / self.data[\"occupancy_map\"]\n"
     ]
    },
    {
     "name": "stdout",
     "output_type": "stream",
     "text": [
      "Doing shuffle tests. This may take a while.\n"
     ]
    },
    {
     "name": "stderr",
     "output_type": "stream",
     "text": [
      "/home/austinbaggetta/csstorage3/CircleTrack/CircleTrackAnalysis/place_cells.py:44: RuntimeWarning: invalid value encountered in divide\n",
      "  velocity = dists / np.diff(t, prepend = 0) ## in seconds\n",
      "/home/austinbaggetta/csstorage3/CircleTrack/CircleTrackAnalysis/place_cells.py:392: RuntimeWarning: invalid value encountered in divide\n",
      "  pf = pf / self.data[\"occupancy_map\"]\n"
     ]
    },
    {
     "name": "stdout",
     "output_type": "stream",
     "text": [
      "Doing shuffle tests. This may take a while.\n"
     ]
    },
    {
     "name": "stderr",
     "output_type": "stream",
     "text": [
      "/home/austinbaggetta/csstorage3/CircleTrack/CircleTrackAnalysis/place_cells.py:44: RuntimeWarning: invalid value encountered in divide\n",
      "  velocity = dists / np.diff(t, prepend = 0) ## in seconds\n",
      "/home/austinbaggetta/csstorage3/CircleTrack/CircleTrackAnalysis/place_cells.py:392: RuntimeWarning: invalid value encountered in divide\n",
      "  pf = pf / self.data[\"occupancy_map\"]\n"
     ]
    },
    {
     "name": "stdout",
     "output_type": "stream",
     "text": [
      "Doing shuffle tests. This may take a while.\n"
     ]
    },
    {
     "name": "stderr",
     "output_type": "stream",
     "text": [
      "/home/austinbaggetta/csstorage3/CircleTrack/CircleTrackAnalysis/place_cells.py:44: RuntimeWarning: invalid value encountered in divide\n",
      "  velocity = dists / np.diff(t, prepend = 0) ## in seconds\n",
      "/home/austinbaggetta/csstorage3/CircleTrack/CircleTrackAnalysis/place_cells.py:392: RuntimeWarning: invalid value encountered in divide\n",
      "  pf = pf / self.data[\"occupancy_map\"]\n"
     ]
    },
    {
     "name": "stdout",
     "output_type": "stream",
     "text": [
      "Doing shuffle tests. This may take a while.\n"
     ]
    },
    {
     "name": "stderr",
     "output_type": "stream",
     "text": [
      "/home/austinbaggetta/csstorage3/CircleTrack/CircleTrackAnalysis/place_cells.py:44: RuntimeWarning: invalid value encountered in divide\n",
      "  velocity = dists / np.diff(t, prepend = 0) ## in seconds\n",
      "/home/austinbaggetta/csstorage3/CircleTrack/CircleTrackAnalysis/place_cells.py:392: RuntimeWarning: invalid value encountered in divide\n",
      "  pf = pf / self.data[\"occupancy_map\"]\n"
     ]
    },
    {
     "name": "stdout",
     "output_type": "stream",
     "text": [
      "Doing shuffle tests. This may take a while.\n"
     ]
    },
    {
     "name": "stderr",
     "output_type": "stream",
     "text": [
      "/home/austinbaggetta/csstorage3/CircleTrack/CircleTrackAnalysis/place_cells.py:44: RuntimeWarning: invalid value encountered in divide\n",
      "  velocity = dists / np.diff(t, prepend = 0) ## in seconds\n",
      "/home/austinbaggetta/csstorage3/CircleTrack/CircleTrackAnalysis/place_cells.py:392: RuntimeWarning: invalid value encountered in divide\n",
      "  pf = pf / self.data[\"occupancy_map\"]\n"
     ]
    },
    {
     "name": "stdout",
     "output_type": "stream",
     "text": [
      "Doing shuffle tests. This may take a while.\n"
     ]
    },
    {
     "name": "stderr",
     "output_type": "stream",
     "text": [
      "/home/austinbaggetta/csstorage3/CircleTrack/CircleTrackAnalysis/place_cells.py:44: RuntimeWarning: invalid value encountered in divide\n",
      "  velocity = dists / np.diff(t, prepend = 0) ## in seconds\n",
      "/home/austinbaggetta/csstorage3/CircleTrack/CircleTrackAnalysis/place_cells.py:392: RuntimeWarning: invalid value encountered in divide\n",
      "  pf = pf / self.data[\"occupancy_map\"]\n"
     ]
    },
    {
     "name": "stdout",
     "output_type": "stream",
     "text": [
      "Doing shuffle tests. This may take a while.\n"
     ]
    },
    {
     "name": "stderr",
     "output_type": "stream",
     "text": [
      "/home/austinbaggetta/csstorage3/CircleTrack/CircleTrackAnalysis/place_cells.py:44: RuntimeWarning: invalid value encountered in divide\n",
      "  velocity = dists / np.diff(t, prepend = 0) ## in seconds\n",
      "/home/austinbaggetta/csstorage3/CircleTrack/CircleTrackAnalysis/place_cells.py:392: RuntimeWarning: invalid value encountered in divide\n",
      "  pf = pf / self.data[\"occupancy_map\"]\n"
     ]
    },
    {
     "name": "stdout",
     "output_type": "stream",
     "text": [
      "Doing shuffle tests. This may take a while.\n"
     ]
    },
    {
     "name": "stderr",
     "output_type": "stream",
     "text": [
      "/home/austinbaggetta/csstorage3/CircleTrack/CircleTrackAnalysis/place_cells.py:44: RuntimeWarning: invalid value encountered in divide\n",
      "  velocity = dists / np.diff(t, prepend = 0) ## in seconds\n",
      "/home/austinbaggetta/csstorage3/CircleTrack/CircleTrackAnalysis/place_cells.py:392: RuntimeWarning: invalid value encountered in divide\n",
      "  pf = pf / self.data[\"occupancy_map\"]\n"
     ]
    },
    {
     "name": "stdout",
     "output_type": "stream",
     "text": [
      "Doing shuffle tests. This may take a while.\n"
     ]
    },
    {
     "name": "stderr",
     "output_type": "stream",
     "text": [
      "/home/austinbaggetta/csstorage3/CircleTrack/CircleTrackAnalysis/place_cells.py:44: RuntimeWarning: invalid value encountered in divide\n",
      "  velocity = dists / np.diff(t, prepend = 0) ## in seconds\n",
      "/home/austinbaggetta/csstorage3/CircleTrack/CircleTrackAnalysis/place_cells.py:392: RuntimeWarning: invalid value encountered in divide\n",
      "  pf = pf / self.data[\"occupancy_map\"]\n"
     ]
    },
    {
     "name": "stdout",
     "output_type": "stream",
     "text": [
      "Doing shuffle tests. This may take a while.\n"
     ]
    },
    {
     "name": "stderr",
     "output_type": "stream",
     "text": [
      "/home/austinbaggetta/csstorage3/CircleTrack/CircleTrackAnalysis/place_cells.py:44: RuntimeWarning: invalid value encountered in divide\n",
      "  velocity = dists / np.diff(t, prepend = 0) ## in seconds\n",
      "/home/austinbaggetta/csstorage3/CircleTrack/CircleTrackAnalysis/place_cells.py:392: RuntimeWarning: invalid value encountered in divide\n",
      "  pf = pf / self.data[\"occupancy_map\"]\n"
     ]
    },
    {
     "name": "stdout",
     "output_type": "stream",
     "text": [
      "Doing shuffle tests. This may take a while.\n"
     ]
    },
    {
     "name": "stderr",
     "output_type": "stream",
     "text": [
      "/home/austinbaggetta/csstorage3/CircleTrack/CircleTrackAnalysis/place_cells.py:44: RuntimeWarning: invalid value encountered in divide\n",
      "  velocity = dists / np.diff(t, prepend = 0) ## in seconds\n",
      "/home/austinbaggetta/csstorage3/CircleTrack/CircleTrackAnalysis/place_cells.py:392: RuntimeWarning: invalid value encountered in divide\n",
      "  pf = pf / self.data[\"occupancy_map\"]\n"
     ]
    },
    {
     "name": "stdout",
     "output_type": "stream",
     "text": [
      "Doing shuffle tests. This may take a while.\n"
     ]
    },
    {
     "name": "stderr",
     "output_type": "stream",
     "text": [
      "/home/austinbaggetta/csstorage3/CircleTrack/CircleTrackAnalysis/place_cells.py:44: RuntimeWarning: invalid value encountered in divide\n",
      "  velocity = dists / np.diff(t, prepend = 0) ## in seconds\n",
      "/home/austinbaggetta/csstorage3/CircleTrack/CircleTrackAnalysis/place_cells.py:392: RuntimeWarning: invalid value encountered in divide\n",
      "  pf = pf / self.data[\"occupancy_map\"]\n"
     ]
    },
    {
     "name": "stdout",
     "output_type": "stream",
     "text": [
      "Doing shuffle tests. This may take a while.\n"
     ]
    },
    {
     "name": "stderr",
     "output_type": "stream",
     "text": [
      "/home/austinbaggetta/csstorage3/CircleTrack/CircleTrackAnalysis/place_cells.py:44: RuntimeWarning: invalid value encountered in divide\n",
      "  velocity = dists / np.diff(t, prepend = 0) ## in seconds\n",
      "/home/austinbaggetta/csstorage3/CircleTrack/CircleTrackAnalysis/place_cells.py:392: RuntimeWarning: invalid value encountered in divide\n",
      "  pf = pf / self.data[\"occupancy_map\"]\n"
     ]
    },
    {
     "name": "stdout",
     "output_type": "stream",
     "text": [
      "Doing shuffle tests. This may take a while.\n"
     ]
    },
    {
     "name": "stderr",
     "output_type": "stream",
     "text": [
      "/home/austinbaggetta/csstorage3/CircleTrack/CircleTrackAnalysis/place_cells.py:44: RuntimeWarning: invalid value encountered in divide\n",
      "  velocity = dists / np.diff(t, prepend = 0) ## in seconds\n",
      "/home/austinbaggetta/csstorage3/CircleTrack/CircleTrackAnalysis/place_cells.py:392: RuntimeWarning: invalid value encountered in divide\n",
      "  pf = pf / self.data[\"occupancy_map\"]\n"
     ]
    },
    {
     "name": "stdout",
     "output_type": "stream",
     "text": [
      "Doing shuffle tests. This may take a while.\n"
     ]
    },
    {
     "name": "stderr",
     "output_type": "stream",
     "text": [
      "/home/austinbaggetta/csstorage3/CircleTrack/CircleTrackAnalysis/place_cells.py:44: RuntimeWarning: invalid value encountered in divide\n",
      "  velocity = dists / np.diff(t, prepend = 0) ## in seconds\n",
      "/home/austinbaggetta/csstorage3/CircleTrack/CircleTrackAnalysis/place_cells.py:392: RuntimeWarning: invalid value encountered in divide\n",
      "  pf = pf / self.data[\"occupancy_map\"]\n"
     ]
    },
    {
     "name": "stdout",
     "output_type": "stream",
     "text": [
      "Doing shuffle tests. This may take a while.\n"
     ]
    },
    {
     "name": "stderr",
     "output_type": "stream",
     "text": [
      "/home/austinbaggetta/csstorage3/CircleTrack/CircleTrackAnalysis/place_cells.py:44: RuntimeWarning: invalid value encountered in divide\n",
      "  velocity = dists / np.diff(t, prepend = 0) ## in seconds\n",
      "/home/austinbaggetta/csstorage3/CircleTrack/CircleTrackAnalysis/place_cells.py:392: RuntimeWarning: invalid value encountered in divide\n",
      "  pf = pf / self.data[\"occupancy_map\"]\n"
     ]
    },
    {
     "name": "stdout",
     "output_type": "stream",
     "text": [
      "Doing shuffle tests. This may take a while.\n"
     ]
    },
    {
     "name": "stderr",
     "output_type": "stream",
     "text": [
      "/home/austinbaggetta/csstorage3/CircleTrack/CircleTrackAnalysis/place_cells.py:44: RuntimeWarning: invalid value encountered in divide\n",
      "  velocity = dists / np.diff(t, prepend = 0) ## in seconds\n",
      "/home/austinbaggetta/csstorage3/CircleTrack/CircleTrackAnalysis/place_cells.py:392: RuntimeWarning: invalid value encountered in divide\n",
      "  pf = pf / self.data[\"occupancy_map\"]\n"
     ]
    },
    {
     "name": "stdout",
     "output_type": "stream",
     "text": [
      "Doing shuffle tests. This may take a while.\n"
     ]
    },
    {
     "name": "stderr",
     "output_type": "stream",
     "text": [
      "/home/austinbaggetta/csstorage3/CircleTrack/CircleTrackAnalysis/place_cells.py:44: RuntimeWarning: invalid value encountered in divide\n",
      "  velocity = dists / np.diff(t, prepend = 0) ## in seconds\n",
      "/home/austinbaggetta/csstorage3/CircleTrack/CircleTrackAnalysis/place_cells.py:392: RuntimeWarning: invalid value encountered in divide\n",
      "  pf = pf / self.data[\"occupancy_map\"]\n"
     ]
    },
    {
     "name": "stdout",
     "output_type": "stream",
     "text": [
      "Doing shuffle tests. This may take a while.\n"
     ]
    },
    {
     "name": "stderr",
     "output_type": "stream",
     "text": [
      "/home/austinbaggetta/csstorage3/CircleTrack/CircleTrackAnalysis/place_cells.py:44: RuntimeWarning: invalid value encountered in divide\n",
      "  velocity = dists / np.diff(t, prepend = 0) ## in seconds\n",
      "/home/austinbaggetta/csstorage3/CircleTrack/CircleTrackAnalysis/place_cells.py:392: RuntimeWarning: invalid value encountered in divide\n",
      "  pf = pf / self.data[\"occupancy_map\"]\n"
     ]
    },
    {
     "name": "stdout",
     "output_type": "stream",
     "text": [
      "Doing shuffle tests. This may take a while.\n"
     ]
    },
    {
     "name": "stderr",
     "output_type": "stream",
     "text": [
      "/home/austinbaggetta/csstorage3/CircleTrack/CircleTrackAnalysis/place_cells.py:44: RuntimeWarning: invalid value encountered in divide\n",
      "  velocity = dists / np.diff(t, prepend = 0) ## in seconds\n",
      "/home/austinbaggetta/csstorage3/CircleTrack/CircleTrackAnalysis/place_cells.py:392: RuntimeWarning: invalid value encountered in divide\n",
      "  pf = pf / self.data[\"occupancy_map\"]\n"
     ]
    },
    {
     "name": "stdout",
     "output_type": "stream",
     "text": [
      "Doing shuffle tests. This may take a while.\n"
     ]
    },
    {
     "name": "stderr",
     "output_type": "stream",
     "text": [
      "/home/austinbaggetta/csstorage3/CircleTrack/CircleTrackAnalysis/place_cells.py:44: RuntimeWarning: invalid value encountered in divide\n",
      "  velocity = dists / np.diff(t, prepend = 0) ## in seconds\n",
      "/home/austinbaggetta/csstorage3/CircleTrack/CircleTrackAnalysis/place_cells.py:392: RuntimeWarning: invalid value encountered in divide\n",
      "  pf = pf / self.data[\"occupancy_map\"]\n"
     ]
    },
    {
     "name": "stdout",
     "output_type": "stream",
     "text": [
      "Doing shuffle tests. This may take a while.\n"
     ]
    },
    {
     "name": "stderr",
     "output_type": "stream",
     "text": [
      "/home/austinbaggetta/csstorage3/CircleTrack/CircleTrackAnalysis/place_cells.py:44: RuntimeWarning: invalid value encountered in divide\n",
      "  velocity = dists / np.diff(t, prepend = 0) ## in seconds\n",
      "/home/austinbaggetta/csstorage3/CircleTrack/CircleTrackAnalysis/place_cells.py:392: RuntimeWarning: invalid value encountered in divide\n",
      "  pf = pf / self.data[\"occupancy_map\"]\n"
     ]
    },
    {
     "name": "stdout",
     "output_type": "stream",
     "text": [
      "Doing shuffle tests. This may take a while.\n"
     ]
    },
    {
     "name": "stderr",
     "output_type": "stream",
     "text": [
      "/home/austinbaggetta/csstorage3/CircleTrack/CircleTrackAnalysis/place_cells.py:44: RuntimeWarning: invalid value encountered in divide\n",
      "  velocity = dists / np.diff(t, prepend = 0) ## in seconds\n",
      "/home/austinbaggetta/csstorage3/CircleTrack/CircleTrackAnalysis/place_cells.py:392: RuntimeWarning: invalid value encountered in divide\n",
      "  pf = pf / self.data[\"occupancy_map\"]\n"
     ]
    },
    {
     "name": "stdout",
     "output_type": "stream",
     "text": [
      "Doing shuffle tests. This may take a while.\n"
     ]
    },
    {
     "name": "stderr",
     "output_type": "stream",
     "text": [
      "/home/austinbaggetta/csstorage3/CircleTrack/CircleTrackAnalysis/place_cells.py:44: RuntimeWarning: invalid value encountered in divide\n",
      "  velocity = dists / np.diff(t, prepend = 0) ## in seconds\n",
      "/home/austinbaggetta/csstorage3/CircleTrack/CircleTrackAnalysis/place_cells.py:392: RuntimeWarning: invalid value encountered in divide\n",
      "  pf = pf / self.data[\"occupancy_map\"]\n"
     ]
    },
    {
     "name": "stdout",
     "output_type": "stream",
     "text": [
      "Doing shuffle tests. This may take a while.\n"
     ]
    },
    {
     "name": "stderr",
     "output_type": "stream",
     "text": [
      "/home/austinbaggetta/csstorage3/CircleTrack/CircleTrackAnalysis/place_cells.py:44: RuntimeWarning: invalid value encountered in divide\n",
      "  velocity = dists / np.diff(t, prepend = 0) ## in seconds\n",
      "/home/austinbaggetta/csstorage3/CircleTrack/CircleTrackAnalysis/place_cells.py:392: RuntimeWarning: invalid value encountered in divide\n",
      "  pf = pf / self.data[\"occupancy_map\"]\n"
     ]
    },
    {
     "name": "stdout",
     "output_type": "stream",
     "text": [
      "Doing shuffle tests. This may take a while.\n"
     ]
    },
    {
     "name": "stderr",
     "output_type": "stream",
     "text": [
      "/home/austinbaggetta/csstorage3/CircleTrack/CircleTrackAnalysis/place_cells.py:44: RuntimeWarning: invalid value encountered in divide\n",
      "  velocity = dists / np.diff(t, prepend = 0) ## in seconds\n",
      "/home/austinbaggetta/csstorage3/CircleTrack/CircleTrackAnalysis/place_cells.py:392: RuntimeWarning: invalid value encountered in divide\n",
      "  pf = pf / self.data[\"occupancy_map\"]\n"
     ]
    },
    {
     "name": "stdout",
     "output_type": "stream",
     "text": [
      "Doing shuffle tests. This may take a while.\n"
     ]
    },
    {
     "name": "stderr",
     "output_type": "stream",
     "text": [
      "/home/austinbaggetta/csstorage3/CircleTrack/CircleTrackAnalysis/place_cells.py:44: RuntimeWarning: invalid value encountered in divide\n",
      "  velocity = dists / np.diff(t, prepend = 0) ## in seconds\n",
      "/home/austinbaggetta/csstorage3/CircleTrack/CircleTrackAnalysis/place_cells.py:392: RuntimeWarning: invalid value encountered in divide\n",
      "  pf = pf / self.data[\"occupancy_map\"]\n"
     ]
    },
    {
     "name": "stdout",
     "output_type": "stream",
     "text": [
      "Doing shuffle tests. This may take a while.\n"
     ]
    },
    {
     "name": "stderr",
     "output_type": "stream",
     "text": [
      "/home/austinbaggetta/csstorage3/CircleTrack/CircleTrackAnalysis/place_cells.py:44: RuntimeWarning: invalid value encountered in divide\n",
      "  velocity = dists / np.diff(t, prepend = 0) ## in seconds\n",
      "/home/austinbaggetta/csstorage3/CircleTrack/CircleTrackAnalysis/place_cells.py:392: RuntimeWarning: invalid value encountered in divide\n",
      "  pf = pf / self.data[\"occupancy_map\"]\n"
     ]
    },
    {
     "name": "stdout",
     "output_type": "stream",
     "text": [
      "Doing shuffle tests. This may take a while.\n"
     ]
    },
    {
     "name": "stderr",
     "output_type": "stream",
     "text": [
      "/home/austinbaggetta/csstorage3/CircleTrack/CircleTrackAnalysis/place_cells.py:44: RuntimeWarning: invalid value encountered in divide\n",
      "  velocity = dists / np.diff(t, prepend = 0) ## in seconds\n",
      "/home/austinbaggetta/csstorage3/CircleTrack/CircleTrackAnalysis/place_cells.py:392: RuntimeWarning: invalid value encountered in divide\n",
      "  pf = pf / self.data[\"occupancy_map\"]\n"
     ]
    },
    {
     "name": "stdout",
     "output_type": "stream",
     "text": [
      "Doing shuffle tests. This may take a while.\n"
     ]
    },
    {
     "name": "stderr",
     "output_type": "stream",
     "text": [
      "/home/austinbaggetta/csstorage3/CircleTrack/CircleTrackAnalysis/place_cells.py:44: RuntimeWarning: invalid value encountered in divide\n",
      "  velocity = dists / np.diff(t, prepend = 0) ## in seconds\n",
      "/home/austinbaggetta/csstorage3/CircleTrack/CircleTrackAnalysis/place_cells.py:392: RuntimeWarning: invalid value encountered in divide\n",
      "  pf = pf / self.data[\"occupancy_map\"]\n"
     ]
    },
    {
     "name": "stdout",
     "output_type": "stream",
     "text": [
      "Doing shuffle tests. This may take a while.\n"
     ]
    },
    {
     "name": "stderr",
     "output_type": "stream",
     "text": [
      "/home/austinbaggetta/csstorage3/CircleTrack/CircleTrackAnalysis/place_cells.py:44: RuntimeWarning: invalid value encountered in divide\n",
      "  velocity = dists / np.diff(t, prepend = 0) ## in seconds\n",
      "/home/austinbaggetta/csstorage3/CircleTrack/CircleTrackAnalysis/place_cells.py:392: RuntimeWarning: invalid value encountered in divide\n",
      "  pf = pf / self.data[\"occupancy_map\"]\n"
     ]
    },
    {
     "name": "stdout",
     "output_type": "stream",
     "text": [
      "Doing shuffle tests. This may take a while.\n"
     ]
    },
    {
     "name": "stderr",
     "output_type": "stream",
     "text": [
      "/home/austinbaggetta/csstorage3/CircleTrack/CircleTrackAnalysis/place_cells.py:44: RuntimeWarning: invalid value encountered in divide\n",
      "  velocity = dists / np.diff(t, prepend = 0) ## in seconds\n",
      "/home/austinbaggetta/csstorage3/CircleTrack/CircleTrackAnalysis/place_cells.py:392: RuntimeWarning: invalid value encountered in divide\n",
      "  pf = pf / self.data[\"occupancy_map\"]\n"
     ]
    },
    {
     "name": "stdout",
     "output_type": "stream",
     "text": [
      "Doing shuffle tests. This may take a while.\n"
     ]
    },
    {
     "name": "stderr",
     "output_type": "stream",
     "text": [
      "/home/austinbaggetta/csstorage3/CircleTrack/CircleTrackAnalysis/place_cells.py:44: RuntimeWarning: invalid value encountered in divide\n",
      "  velocity = dists / np.diff(t, prepend = 0) ## in seconds\n",
      "/home/austinbaggetta/csstorage3/CircleTrack/CircleTrackAnalysis/place_cells.py:392: RuntimeWarning: invalid value encountered in divide\n",
      "  pf = pf / self.data[\"occupancy_map\"]\n"
     ]
    },
    {
     "name": "stdout",
     "output_type": "stream",
     "text": [
      "Doing shuffle tests. This may take a while.\n"
     ]
    },
    {
     "name": "stderr",
     "output_type": "stream",
     "text": [
      "/home/austinbaggetta/csstorage3/CircleTrack/CircleTrackAnalysis/place_cells.py:44: RuntimeWarning: invalid value encountered in divide\n",
      "  velocity = dists / np.diff(t, prepend = 0) ## in seconds\n",
      "/home/austinbaggetta/csstorage3/CircleTrack/CircleTrackAnalysis/place_cells.py:392: RuntimeWarning: invalid value encountered in divide\n",
      "  pf = pf / self.data[\"occupancy_map\"]\n"
     ]
    },
    {
     "name": "stdout",
     "output_type": "stream",
     "text": [
      "Doing shuffle tests. This may take a while.\n"
     ]
    },
    {
     "name": "stderr",
     "output_type": "stream",
     "text": [
      "/home/austinbaggetta/csstorage3/CircleTrack/CircleTrackAnalysis/place_cells.py:44: RuntimeWarning: invalid value encountered in divide\n",
      "  velocity = dists / np.diff(t, prepend = 0) ## in seconds\n",
      "/home/austinbaggetta/csstorage3/CircleTrack/CircleTrackAnalysis/place_cells.py:392: RuntimeWarning: invalid value encountered in divide\n",
      "  pf = pf / self.data[\"occupancy_map\"]\n"
     ]
    },
    {
     "name": "stdout",
     "output_type": "stream",
     "text": [
      "Doing shuffle tests. This may take a while.\n"
     ]
    },
    {
     "name": "stderr",
     "output_type": "stream",
     "text": [
      "/home/austinbaggetta/csstorage3/CircleTrack/CircleTrackAnalysis/place_cells.py:44: RuntimeWarning: invalid value encountered in divide\n",
      "  velocity = dists / np.diff(t, prepend = 0) ## in seconds\n",
      "/home/austinbaggetta/csstorage3/CircleTrack/CircleTrackAnalysis/place_cells.py:392: RuntimeWarning: invalid value encountered in divide\n",
      "  pf = pf / self.data[\"occupancy_map\"]\n"
     ]
    },
    {
     "name": "stdout",
     "output_type": "stream",
     "text": [
      "Doing shuffle tests. This may take a while.\n"
     ]
    },
    {
     "name": "stderr",
     "output_type": "stream",
     "text": [
      "/home/austinbaggetta/csstorage3/CircleTrack/CircleTrackAnalysis/place_cells.py:44: RuntimeWarning: invalid value encountered in divide\n",
      "  velocity = dists / np.diff(t, prepend = 0) ## in seconds\n",
      "/home/austinbaggetta/csstorage3/CircleTrack/CircleTrackAnalysis/place_cells.py:392: RuntimeWarning: invalid value encountered in divide\n",
      "  pf = pf / self.data[\"occupancy_map\"]\n"
     ]
    },
    {
     "name": "stdout",
     "output_type": "stream",
     "text": [
      "Doing shuffle tests. This may take a while.\n"
     ]
    },
    {
     "name": "stderr",
     "output_type": "stream",
     "text": [
      "/home/austinbaggetta/csstorage3/CircleTrack/CircleTrackAnalysis/place_cells.py:44: RuntimeWarning: invalid value encountered in divide\n",
      "  velocity = dists / np.diff(t, prepend = 0) ## in seconds\n",
      "/home/austinbaggetta/csstorage3/CircleTrack/CircleTrackAnalysis/place_cells.py:392: RuntimeWarning: invalid value encountered in divide\n",
      "  pf = pf / self.data[\"occupancy_map\"]\n"
     ]
    },
    {
     "name": "stdout",
     "output_type": "stream",
     "text": [
      "Doing shuffle tests. This may take a while.\n"
     ]
    },
    {
     "name": "stderr",
     "output_type": "stream",
     "text": [
      "/home/austinbaggetta/csstorage3/CircleTrack/CircleTrackAnalysis/place_cells.py:44: RuntimeWarning: invalid value encountered in divide\n",
      "  velocity = dists / np.diff(t, prepend = 0) ## in seconds\n",
      "/home/austinbaggetta/csstorage3/CircleTrack/CircleTrackAnalysis/place_cells.py:392: RuntimeWarning: invalid value encountered in divide\n",
      "  pf = pf / self.data[\"occupancy_map\"]\n"
     ]
    },
    {
     "name": "stdout",
     "output_type": "stream",
     "text": [
      "Doing shuffle tests. This may take a while.\n"
     ]
    },
    {
     "name": "stderr",
     "output_type": "stream",
     "text": [
      "/home/austinbaggetta/csstorage3/CircleTrack/CircleTrackAnalysis/place_cells.py:44: RuntimeWarning: invalid value encountered in divide\n",
      "  velocity = dists / np.diff(t, prepend = 0) ## in seconds\n",
      "/home/austinbaggetta/csstorage3/CircleTrack/CircleTrackAnalysis/place_cells.py:392: RuntimeWarning: invalid value encountered in divide\n",
      "  pf = pf / self.data[\"occupancy_map\"]\n"
     ]
    },
    {
     "name": "stdout",
     "output_type": "stream",
     "text": [
      "Doing shuffle tests. This may take a while.\n"
     ]
    },
    {
     "name": "stderr",
     "output_type": "stream",
     "text": [
      "/home/austinbaggetta/csstorage3/CircleTrack/CircleTrackAnalysis/place_cells.py:44: RuntimeWarning: invalid value encountered in divide\n",
      "  velocity = dists / np.diff(t, prepend = 0) ## in seconds\n",
      "/home/austinbaggetta/csstorage3/CircleTrack/CircleTrackAnalysis/place_cells.py:392: RuntimeWarning: invalid value encountered in divide\n",
      "  pf = pf / self.data[\"occupancy_map\"]\n"
     ]
    },
    {
     "name": "stdout",
     "output_type": "stream",
     "text": [
      "Doing shuffle tests. This may take a while.\n"
     ]
    },
    {
     "name": "stderr",
     "output_type": "stream",
     "text": [
      "/home/austinbaggetta/csstorage3/CircleTrack/CircleTrackAnalysis/place_cells.py:44: RuntimeWarning: invalid value encountered in divide\n",
      "  velocity = dists / np.diff(t, prepend = 0) ## in seconds\n",
      "/home/austinbaggetta/csstorage3/CircleTrack/CircleTrackAnalysis/place_cells.py:392: RuntimeWarning: invalid value encountered in divide\n",
      "  pf = pf / self.data[\"occupancy_map\"]\n"
     ]
    },
    {
     "name": "stdout",
     "output_type": "stream",
     "text": [
      "Doing shuffle tests. This may take a while.\n"
     ]
    },
    {
     "name": "stderr",
     "output_type": "stream",
     "text": [
      "/home/austinbaggetta/csstorage3/CircleTrack/CircleTrackAnalysis/place_cells.py:44: RuntimeWarning: invalid value encountered in divide\n",
      "  velocity = dists / np.diff(t, prepend = 0) ## in seconds\n",
      "/home/austinbaggetta/csstorage3/CircleTrack/CircleTrackAnalysis/place_cells.py:392: RuntimeWarning: invalid value encountered in divide\n",
      "  pf = pf / self.data[\"occupancy_map\"]\n"
     ]
    },
    {
     "name": "stdout",
     "output_type": "stream",
     "text": [
      "Doing shuffle tests. This may take a while.\n"
     ]
    },
    {
     "name": "stderr",
     "output_type": "stream",
     "text": [
      "/home/austinbaggetta/csstorage3/CircleTrack/CircleTrackAnalysis/place_cells.py:44: RuntimeWarning: invalid value encountered in divide\n",
      "  velocity = dists / np.diff(t, prepend = 0) ## in seconds\n",
      "/home/austinbaggetta/csstorage3/CircleTrack/CircleTrackAnalysis/place_cells.py:392: RuntimeWarning: invalid value encountered in divide\n",
      "  pf = pf / self.data[\"occupancy_map\"]\n"
     ]
    },
    {
     "name": "stdout",
     "output_type": "stream",
     "text": [
      "Doing shuffle tests. This may take a while.\n"
     ]
    },
    {
     "name": "stderr",
     "output_type": "stream",
     "text": [
      "/home/austinbaggetta/csstorage3/CircleTrack/CircleTrackAnalysis/place_cells.py:44: RuntimeWarning: invalid value encountered in divide\n",
      "  velocity = dists / np.diff(t, prepend = 0) ## in seconds\n",
      "/home/austinbaggetta/csstorage3/CircleTrack/CircleTrackAnalysis/place_cells.py:392: RuntimeWarning: invalid value encountered in divide\n",
      "  pf = pf / self.data[\"occupancy_map\"]\n"
     ]
    },
    {
     "name": "stdout",
     "output_type": "stream",
     "text": [
      "Doing shuffle tests. This may take a while.\n"
     ]
    },
    {
     "name": "stderr",
     "output_type": "stream",
     "text": [
      "/home/austinbaggetta/csstorage3/CircleTrack/CircleTrackAnalysis/place_cells.py:44: RuntimeWarning: invalid value encountered in divide\n",
      "  velocity = dists / np.diff(t, prepend = 0) ## in seconds\n",
      "/home/austinbaggetta/csstorage3/CircleTrack/CircleTrackAnalysis/place_cells.py:392: RuntimeWarning: invalid value encountered in divide\n",
      "  pf = pf / self.data[\"occupancy_map\"]\n"
     ]
    },
    {
     "name": "stdout",
     "output_type": "stream",
     "text": [
      "Doing shuffle tests. This may take a while.\n"
     ]
    },
    {
     "name": "stderr",
     "output_type": "stream",
     "text": [
      "/home/austinbaggetta/csstorage3/CircleTrack/CircleTrackAnalysis/place_cells.py:44: RuntimeWarning: invalid value encountered in divide\n",
      "  velocity = dists / np.diff(t, prepend = 0) ## in seconds\n",
      "/home/austinbaggetta/csstorage3/CircleTrack/CircleTrackAnalysis/place_cells.py:392: RuntimeWarning: invalid value encountered in divide\n",
      "  pf = pf / self.data[\"occupancy_map\"]\n"
     ]
    },
    {
     "name": "stdout",
     "output_type": "stream",
     "text": [
      "Doing shuffle tests. This may take a while.\n"
     ]
    },
    {
     "name": "stderr",
     "output_type": "stream",
     "text": [
      "/home/austinbaggetta/csstorage3/CircleTrack/CircleTrackAnalysis/place_cells.py:44: RuntimeWarning: invalid value encountered in divide\n",
      "  velocity = dists / np.diff(t, prepend = 0) ## in seconds\n",
      "/home/austinbaggetta/csstorage3/CircleTrack/CircleTrackAnalysis/place_cells.py:392: RuntimeWarning: invalid value encountered in divide\n",
      "  pf = pf / self.data[\"occupancy_map\"]\n"
     ]
    },
    {
     "name": "stdout",
     "output_type": "stream",
     "text": [
      "Doing shuffle tests. This may take a while.\n"
     ]
    },
    {
     "name": "stderr",
     "output_type": "stream",
     "text": [
      "/home/austinbaggetta/csstorage3/CircleTrack/CircleTrackAnalysis/place_cells.py:44: RuntimeWarning: invalid value encountered in divide\n",
      "  velocity = dists / np.diff(t, prepend = 0) ## in seconds\n",
      "/home/austinbaggetta/csstorage3/CircleTrack/CircleTrackAnalysis/place_cells.py:392: RuntimeWarning: invalid value encountered in divide\n",
      "  pf = pf / self.data[\"occupancy_map\"]\n"
     ]
    },
    {
     "name": "stdout",
     "output_type": "stream",
     "text": [
      "Doing shuffle tests. This may take a while.\n"
     ]
    },
    {
     "name": "stderr",
     "output_type": "stream",
     "text": [
      "/home/austinbaggetta/csstorage3/CircleTrack/CircleTrackAnalysis/place_cells.py:44: RuntimeWarning: invalid value encountered in divide\n",
      "  velocity = dists / np.diff(t, prepend = 0) ## in seconds\n",
      "/home/austinbaggetta/csstorage3/CircleTrack/CircleTrackAnalysis/place_cells.py:392: RuntimeWarning: invalid value encountered in divide\n",
      "  pf = pf / self.data[\"occupancy_map\"]\n"
     ]
    },
    {
     "name": "stdout",
     "output_type": "stream",
     "text": [
      "Doing shuffle tests. This may take a while.\n"
     ]
    },
    {
     "name": "stderr",
     "output_type": "stream",
     "text": [
      "/home/austinbaggetta/csstorage3/CircleTrack/CircleTrackAnalysis/place_cells.py:44: RuntimeWarning: invalid value encountered in divide\n",
      "  velocity = dists / np.diff(t, prepend = 0) ## in seconds\n",
      "/home/austinbaggetta/csstorage3/CircleTrack/CircleTrackAnalysis/place_cells.py:392: RuntimeWarning: invalid value encountered in divide\n",
      "  pf = pf / self.data[\"occupancy_map\"]\n"
     ]
    },
    {
     "name": "stdout",
     "output_type": "stream",
     "text": [
      "Doing shuffle tests. This may take a while.\n"
     ]
    },
    {
     "name": "stderr",
     "output_type": "stream",
     "text": [
      "/home/austinbaggetta/csstorage3/CircleTrack/CircleTrackAnalysis/place_cells.py:44: RuntimeWarning: invalid value encountered in divide\n",
      "  velocity = dists / np.diff(t, prepend = 0) ## in seconds\n",
      "/home/austinbaggetta/csstorage3/CircleTrack/CircleTrackAnalysis/place_cells.py:392: RuntimeWarning: invalid value encountered in divide\n",
      "  pf = pf / self.data[\"occupancy_map\"]\n"
     ]
    },
    {
     "name": "stdout",
     "output_type": "stream",
     "text": [
      "Doing shuffle tests. This may take a while.\n"
     ]
    },
    {
     "name": "stderr",
     "output_type": "stream",
     "text": [
      "/home/austinbaggetta/csstorage3/CircleTrack/CircleTrackAnalysis/place_cells.py:44: RuntimeWarning: invalid value encountered in divide\n",
      "  velocity = dists / np.diff(t, prepend = 0) ## in seconds\n",
      "/home/austinbaggetta/csstorage3/CircleTrack/CircleTrackAnalysis/place_cells.py:392: RuntimeWarning: invalid value encountered in divide\n",
      "  pf = pf / self.data[\"occupancy_map\"]\n"
     ]
    },
    {
     "name": "stdout",
     "output_type": "stream",
     "text": [
      "Doing shuffle tests. This may take a while.\n"
     ]
    },
    {
     "name": "stderr",
     "output_type": "stream",
     "text": [
      "/home/austinbaggetta/csstorage3/CircleTrack/CircleTrackAnalysis/place_cells.py:44: RuntimeWarning: invalid value encountered in divide\n",
      "  velocity = dists / np.diff(t, prepend = 0) ## in seconds\n",
      "/home/austinbaggetta/csstorage3/CircleTrack/CircleTrackAnalysis/place_cells.py:392: RuntimeWarning: invalid value encountered in divide\n",
      "  pf = pf / self.data[\"occupancy_map\"]\n"
     ]
    },
    {
     "name": "stdout",
     "output_type": "stream",
     "text": [
      "Doing shuffle tests. This may take a while.\n"
     ]
    },
    {
     "name": "stderr",
     "output_type": "stream",
     "text": [
      "/home/austinbaggetta/csstorage3/CircleTrack/CircleTrackAnalysis/place_cells.py:44: RuntimeWarning: invalid value encountered in divide\n",
      "  velocity = dists / np.diff(t, prepend = 0) ## in seconds\n",
      "/home/austinbaggetta/csstorage3/CircleTrack/CircleTrackAnalysis/place_cells.py:392: RuntimeWarning: invalid value encountered in divide\n",
      "  pf = pf / self.data[\"occupancy_map\"]\n"
     ]
    },
    {
     "name": "stdout",
     "output_type": "stream",
     "text": [
      "Doing shuffle tests. This may take a while.\n"
     ]
    },
    {
     "name": "stderr",
     "output_type": "stream",
     "text": [
      "/home/austinbaggetta/csstorage3/CircleTrack/CircleTrackAnalysis/place_cells.py:44: RuntimeWarning: invalid value encountered in divide\n",
      "  velocity = dists / np.diff(t, prepend = 0) ## in seconds\n",
      "/home/austinbaggetta/csstorage3/CircleTrack/CircleTrackAnalysis/place_cells.py:392: RuntimeWarning: invalid value encountered in divide\n",
      "  pf = pf / self.data[\"occupancy_map\"]\n"
     ]
    },
    {
     "name": "stdout",
     "output_type": "stream",
     "text": [
      "Doing shuffle tests. This may take a while.\n"
     ]
    },
    {
     "name": "stderr",
     "output_type": "stream",
     "text": [
      "/home/austinbaggetta/csstorage3/CircleTrack/CircleTrackAnalysis/place_cells.py:44: RuntimeWarning: invalid value encountered in divide\n",
      "  velocity = dists / np.diff(t, prepend = 0) ## in seconds\n",
      "/home/austinbaggetta/csstorage3/CircleTrack/CircleTrackAnalysis/place_cells.py:392: RuntimeWarning: invalid value encountered in divide\n",
      "  pf = pf / self.data[\"occupancy_map\"]\n"
     ]
    },
    {
     "name": "stdout",
     "output_type": "stream",
     "text": [
      "Doing shuffle tests. This may take a while.\n"
     ]
    },
    {
     "name": "stderr",
     "output_type": "stream",
     "text": [
      "/home/austinbaggetta/csstorage3/CircleTrack/CircleTrackAnalysis/place_cells.py:44: RuntimeWarning: invalid value encountered in divide\n",
      "  velocity = dists / np.diff(t, prepend = 0) ## in seconds\n",
      "/home/austinbaggetta/csstorage3/CircleTrack/CircleTrackAnalysis/place_cells.py:392: RuntimeWarning: invalid value encountered in divide\n",
      "  pf = pf / self.data[\"occupancy_map\"]\n"
     ]
    },
    {
     "name": "stdout",
     "output_type": "stream",
     "text": [
      "Doing shuffle tests. This may take a while.\n"
     ]
    },
    {
     "name": "stderr",
     "output_type": "stream",
     "text": [
      "/home/austinbaggetta/csstorage3/CircleTrack/CircleTrackAnalysis/place_cells.py:44: RuntimeWarning: invalid value encountered in divide\n",
      "  velocity = dists / np.diff(t, prepend = 0) ## in seconds\n",
      "/home/austinbaggetta/csstorage3/CircleTrack/CircleTrackAnalysis/place_cells.py:392: RuntimeWarning: invalid value encountered in divide\n",
      "  pf = pf / self.data[\"occupancy_map\"]\n"
     ]
    },
    {
     "name": "stdout",
     "output_type": "stream",
     "text": [
      "Doing shuffle tests. This may take a while.\n"
     ]
    },
    {
     "name": "stderr",
     "output_type": "stream",
     "text": [
      "/home/austinbaggetta/csstorage3/CircleTrack/CircleTrackAnalysis/place_cells.py:44: RuntimeWarning: invalid value encountered in divide\n",
      "  velocity = dists / np.diff(t, prepend = 0) ## in seconds\n",
      "/home/austinbaggetta/csstorage3/CircleTrack/CircleTrackAnalysis/place_cells.py:392: RuntimeWarning: invalid value encountered in divide\n",
      "  pf = pf / self.data[\"occupancy_map\"]\n"
     ]
    },
    {
     "name": "stdout",
     "output_type": "stream",
     "text": [
      "Doing shuffle tests. This may take a while.\n"
     ]
    },
    {
     "name": "stderr",
     "output_type": "stream",
     "text": [
      "/home/austinbaggetta/csstorage3/CircleTrack/CircleTrackAnalysis/place_cells.py:44: RuntimeWarning: invalid value encountered in divide\n",
      "  velocity = dists / np.diff(t, prepend = 0) ## in seconds\n",
      "/home/austinbaggetta/csstorage3/CircleTrack/CircleTrackAnalysis/place_cells.py:392: RuntimeWarning: invalid value encountered in divide\n",
      "  pf = pf / self.data[\"occupancy_map\"]\n"
     ]
    },
    {
     "name": "stdout",
     "output_type": "stream",
     "text": [
      "Doing shuffle tests. This may take a while.\n"
     ]
    },
    {
     "name": "stderr",
     "output_type": "stream",
     "text": [
      "/home/austinbaggetta/csstorage3/CircleTrack/CircleTrackAnalysis/place_cells.py:44: RuntimeWarning: invalid value encountered in divide\n",
      "  velocity = dists / np.diff(t, prepend = 0) ## in seconds\n",
      "/home/austinbaggetta/csstorage3/CircleTrack/CircleTrackAnalysis/place_cells.py:392: RuntimeWarning: invalid value encountered in divide\n",
      "  pf = pf / self.data[\"occupancy_map\"]\n"
     ]
    },
    {
     "name": "stdout",
     "output_type": "stream",
     "text": [
      "Doing shuffle tests. This may take a while.\n"
     ]
    },
    {
     "name": "stderr",
     "output_type": "stream",
     "text": [
      "/home/austinbaggetta/csstorage3/CircleTrack/CircleTrackAnalysis/place_cells.py:44: RuntimeWarning: invalid value encountered in divide\n",
      "  velocity = dists / np.diff(t, prepend = 0) ## in seconds\n",
      "/home/austinbaggetta/csstorage3/CircleTrack/CircleTrackAnalysis/place_cells.py:392: RuntimeWarning: invalid value encountered in divide\n",
      "  pf = pf / self.data[\"occupancy_map\"]\n"
     ]
    },
    {
     "name": "stdout",
     "output_type": "stream",
     "text": [
      "Doing shuffle tests. This may take a while.\n"
     ]
    },
    {
     "name": "stderr",
     "output_type": "stream",
     "text": [
      "/home/austinbaggetta/csstorage3/CircleTrack/CircleTrackAnalysis/place_cells.py:44: RuntimeWarning: invalid value encountered in divide\n",
      "  velocity = dists / np.diff(t, prepend = 0) ## in seconds\n",
      "/home/austinbaggetta/csstorage3/CircleTrack/CircleTrackAnalysis/place_cells.py:392: RuntimeWarning: invalid value encountered in divide\n",
      "  pf = pf / self.data[\"occupancy_map\"]\n"
     ]
    },
    {
     "name": "stdout",
     "output_type": "stream",
     "text": [
      "Doing shuffle tests. This may take a while.\n"
     ]
    },
    {
     "name": "stderr",
     "output_type": "stream",
     "text": [
      "/home/austinbaggetta/csstorage3/CircleTrack/CircleTrackAnalysis/place_cells.py:44: RuntimeWarning: invalid value encountered in divide\n",
      "  velocity = dists / np.diff(t, prepend = 0) ## in seconds\n",
      "/home/austinbaggetta/csstorage3/CircleTrack/CircleTrackAnalysis/place_cells.py:392: RuntimeWarning: invalid value encountered in divide\n",
      "  pf = pf / self.data[\"occupancy_map\"]\n"
     ]
    },
    {
     "name": "stdout",
     "output_type": "stream",
     "text": [
      "Doing shuffle tests. This may take a while.\n"
     ]
    },
    {
     "name": "stderr",
     "output_type": "stream",
     "text": [
      "/home/austinbaggetta/csstorage3/CircleTrack/CircleTrackAnalysis/place_cells.py:44: RuntimeWarning: invalid value encountered in divide\n",
      "  velocity = dists / np.diff(t, prepend = 0) ## in seconds\n",
      "/home/austinbaggetta/csstorage3/CircleTrack/CircleTrackAnalysis/place_cells.py:392: RuntimeWarning: invalid value encountered in divide\n",
      "  pf = pf / self.data[\"occupancy_map\"]\n"
     ]
    },
    {
     "name": "stdout",
     "output_type": "stream",
     "text": [
      "Doing shuffle tests. This may take a while.\n"
     ]
    },
    {
     "name": "stderr",
     "output_type": "stream",
     "text": [
      "/home/austinbaggetta/csstorage3/CircleTrack/CircleTrackAnalysis/place_cells.py:44: RuntimeWarning: invalid value encountered in divide\n",
      "  velocity = dists / np.diff(t, prepend = 0) ## in seconds\n",
      "/home/austinbaggetta/csstorage3/CircleTrack/CircleTrackAnalysis/place_cells.py:392: RuntimeWarning: invalid value encountered in divide\n",
      "  pf = pf / self.data[\"occupancy_map\"]\n"
     ]
    },
    {
     "name": "stdout",
     "output_type": "stream",
     "text": [
      "Doing shuffle tests. This may take a while.\n"
     ]
    },
    {
     "name": "stderr",
     "output_type": "stream",
     "text": [
      "/home/austinbaggetta/csstorage3/CircleTrack/CircleTrackAnalysis/place_cells.py:44: RuntimeWarning: invalid value encountered in divide\n",
      "  velocity = dists / np.diff(t, prepend = 0) ## in seconds\n",
      "/home/austinbaggetta/csstorage3/CircleTrack/CircleTrackAnalysis/place_cells.py:392: RuntimeWarning: invalid value encountered in divide\n",
      "  pf = pf / self.data[\"occupancy_map\"]\n"
     ]
    },
    {
     "name": "stdout",
     "output_type": "stream",
     "text": [
      "Doing shuffle tests. This may take a while.\n"
     ]
    },
    {
     "name": "stderr",
     "output_type": "stream",
     "text": [
      "/home/austinbaggetta/csstorage3/CircleTrack/CircleTrackAnalysis/place_cells.py:44: RuntimeWarning: invalid value encountered in divide\n",
      "  velocity = dists / np.diff(t, prepend = 0) ## in seconds\n",
      "/home/austinbaggetta/csstorage3/CircleTrack/CircleTrackAnalysis/place_cells.py:392: RuntimeWarning: invalid value encountered in divide\n",
      "  pf = pf / self.data[\"occupancy_map\"]\n"
     ]
    },
    {
     "name": "stdout",
     "output_type": "stream",
     "text": [
      "Doing shuffle tests. This may take a while.\n"
     ]
    },
    {
     "name": "stderr",
     "output_type": "stream",
     "text": [
      "/home/austinbaggetta/csstorage3/CircleTrack/CircleTrackAnalysis/place_cells.py:44: RuntimeWarning: invalid value encountered in divide\n",
      "  velocity = dists / np.diff(t, prepend = 0) ## in seconds\n",
      "/home/austinbaggetta/csstorage3/CircleTrack/CircleTrackAnalysis/place_cells.py:392: RuntimeWarning: invalid value encountered in divide\n",
      "  pf = pf / self.data[\"occupancy_map\"]\n"
     ]
    },
    {
     "name": "stdout",
     "output_type": "stream",
     "text": [
      "Doing shuffle tests. This may take a while.\n"
     ]
    },
    {
     "name": "stderr",
     "output_type": "stream",
     "text": [
      "/home/austinbaggetta/csstorage3/CircleTrack/CircleTrackAnalysis/place_cells.py:44: RuntimeWarning: invalid value encountered in divide\n",
      "  velocity = dists / np.diff(t, prepend = 0) ## in seconds\n",
      "/home/austinbaggetta/csstorage3/CircleTrack/CircleTrackAnalysis/place_cells.py:392: RuntimeWarning: invalid value encountered in divide\n",
      "  pf = pf / self.data[\"occupancy_map\"]\n"
     ]
    },
    {
     "name": "stdout",
     "output_type": "stream",
     "text": [
      "Doing shuffle tests. This may take a while.\n"
     ]
    },
    {
     "name": "stderr",
     "output_type": "stream",
     "text": [
      "/home/austinbaggetta/csstorage3/CircleTrack/CircleTrackAnalysis/place_cells.py:44: RuntimeWarning: invalid value encountered in divide\n",
      "  velocity = dists / np.diff(t, prepend = 0) ## in seconds\n",
      "/home/austinbaggetta/csstorage3/CircleTrack/CircleTrackAnalysis/place_cells.py:392: RuntimeWarning: invalid value encountered in divide\n",
      "  pf = pf / self.data[\"occupancy_map\"]\n"
     ]
    },
    {
     "name": "stdout",
     "output_type": "stream",
     "text": [
      "Doing shuffle tests. This may take a while.\n"
     ]
    },
    {
     "name": "stderr",
     "output_type": "stream",
     "text": [
      "/home/austinbaggetta/csstorage3/CircleTrack/CircleTrackAnalysis/place_cells.py:44: RuntimeWarning: invalid value encountered in divide\n",
      "  velocity = dists / np.diff(t, prepend = 0) ## in seconds\n",
      "/home/austinbaggetta/csstorage3/CircleTrack/CircleTrackAnalysis/place_cells.py:392: RuntimeWarning: invalid value encountered in divide\n",
      "  pf = pf / self.data[\"occupancy_map\"]\n"
     ]
    },
    {
     "name": "stdout",
     "output_type": "stream",
     "text": [
      "Doing shuffle tests. This may take a while.\n"
     ]
    },
    {
     "name": "stderr",
     "output_type": "stream",
     "text": [
      "/home/austinbaggetta/csstorage3/CircleTrack/CircleTrackAnalysis/place_cells.py:44: RuntimeWarning: invalid value encountered in divide\n",
      "  velocity = dists / np.diff(t, prepend = 0) ## in seconds\n",
      "/home/austinbaggetta/csstorage3/CircleTrack/CircleTrackAnalysis/place_cells.py:392: RuntimeWarning: invalid value encountered in divide\n",
      "  pf = pf / self.data[\"occupancy_map\"]\n"
     ]
    },
    {
     "name": "stdout",
     "output_type": "stream",
     "text": [
      "Doing shuffle tests. This may take a while.\n"
     ]
    },
    {
     "name": "stderr",
     "output_type": "stream",
     "text": [
      "/home/austinbaggetta/csstorage3/CircleTrack/CircleTrackAnalysis/place_cells.py:44: RuntimeWarning: invalid value encountered in divide\n",
      "  velocity = dists / np.diff(t, prepend = 0) ## in seconds\n",
      "/home/austinbaggetta/csstorage3/CircleTrack/CircleTrackAnalysis/place_cells.py:392: RuntimeWarning: invalid value encountered in divide\n",
      "  pf = pf / self.data[\"occupancy_map\"]\n"
     ]
    },
    {
     "name": "stdout",
     "output_type": "stream",
     "text": [
      "Doing shuffle tests. This may take a while.\n"
     ]
    },
    {
     "name": "stderr",
     "output_type": "stream",
     "text": [
      "/home/austinbaggetta/csstorage3/CircleTrack/CircleTrackAnalysis/place_cells.py:44: RuntimeWarning: invalid value encountered in divide\n",
      "  velocity = dists / np.diff(t, prepend = 0) ## in seconds\n",
      "/home/austinbaggetta/csstorage3/CircleTrack/CircleTrackAnalysis/place_cells.py:392: RuntimeWarning: invalid value encountered in divide\n",
      "  pf = pf / self.data[\"occupancy_map\"]\n"
     ]
    },
    {
     "name": "stdout",
     "output_type": "stream",
     "text": [
      "Doing shuffle tests. This may take a while.\n"
     ]
    },
    {
     "name": "stderr",
     "output_type": "stream",
     "text": [
      "/home/austinbaggetta/csstorage3/CircleTrack/CircleTrackAnalysis/place_cells.py:44: RuntimeWarning: invalid value encountered in divide\n",
      "  velocity = dists / np.diff(t, prepend = 0) ## in seconds\n",
      "/home/austinbaggetta/csstorage3/CircleTrack/CircleTrackAnalysis/place_cells.py:392: RuntimeWarning: invalid value encountered in divide\n",
      "  pf = pf / self.data[\"occupancy_map\"]\n"
     ]
    },
    {
     "name": "stdout",
     "output_type": "stream",
     "text": [
      "Doing shuffle tests. This may take a while.\n"
     ]
    },
    {
     "name": "stderr",
     "output_type": "stream",
     "text": [
      "/home/austinbaggetta/csstorage3/CircleTrack/CircleTrackAnalysis/place_cells.py:44: RuntimeWarning: invalid value encountered in divide\n",
      "  velocity = dists / np.diff(t, prepend = 0) ## in seconds\n",
      "/home/austinbaggetta/csstorage3/CircleTrack/CircleTrackAnalysis/place_cells.py:392: RuntimeWarning: invalid value encountered in divide\n",
      "  pf = pf / self.data[\"occupancy_map\"]\n"
     ]
    },
    {
     "name": "stdout",
     "output_type": "stream",
     "text": [
      "Doing shuffle tests. This may take a while.\n"
     ]
    },
    {
     "name": "stderr",
     "output_type": "stream",
     "text": [
      "/home/austinbaggetta/csstorage3/CircleTrack/CircleTrackAnalysis/place_cells.py:44: RuntimeWarning: invalid value encountered in divide\n",
      "  velocity = dists / np.diff(t, prepend = 0) ## in seconds\n",
      "/home/austinbaggetta/csstorage3/CircleTrack/CircleTrackAnalysis/place_cells.py:392: RuntimeWarning: invalid value encountered in divide\n",
      "  pf = pf / self.data[\"occupancy_map\"]\n"
     ]
    },
    {
     "name": "stdout",
     "output_type": "stream",
     "text": [
      "Doing shuffle tests. This may take a while.\n"
     ]
    },
    {
     "name": "stderr",
     "output_type": "stream",
     "text": [
      "/home/austinbaggetta/csstorage3/CircleTrack/CircleTrackAnalysis/place_cells.py:44: RuntimeWarning: invalid value encountered in divide\n",
      "  velocity = dists / np.diff(t, prepend = 0) ## in seconds\n",
      "/home/austinbaggetta/csstorage3/CircleTrack/CircleTrackAnalysis/place_cells.py:392: RuntimeWarning: invalid value encountered in divide\n",
      "  pf = pf / self.data[\"occupancy_map\"]\n"
     ]
    },
    {
     "name": "stdout",
     "output_type": "stream",
     "text": [
      "Doing shuffle tests. This may take a while.\n"
     ]
    },
    {
     "name": "stderr",
     "output_type": "stream",
     "text": [
      "/home/austinbaggetta/csstorage3/CircleTrack/CircleTrackAnalysis/place_cells.py:44: RuntimeWarning: invalid value encountered in divide\n",
      "  velocity = dists / np.diff(t, prepend = 0) ## in seconds\n",
      "/home/austinbaggetta/csstorage3/CircleTrack/CircleTrackAnalysis/place_cells.py:392: RuntimeWarning: invalid value encountered in divide\n",
      "  pf = pf / self.data[\"occupancy_map\"]\n"
     ]
    },
    {
     "name": "stdout",
     "output_type": "stream",
     "text": [
      "Doing shuffle tests. This may take a while.\n"
     ]
    },
    {
     "name": "stderr",
     "output_type": "stream",
     "text": [
      "/home/austinbaggetta/csstorage3/CircleTrack/CircleTrackAnalysis/place_cells.py:44: RuntimeWarning: invalid value encountered in divide\n",
      "  velocity = dists / np.diff(t, prepend = 0) ## in seconds\n",
      "/home/austinbaggetta/csstorage3/CircleTrack/CircleTrackAnalysis/place_cells.py:392: RuntimeWarning: invalid value encountered in divide\n",
      "  pf = pf / self.data[\"occupancy_map\"]\n"
     ]
    },
    {
     "name": "stdout",
     "output_type": "stream",
     "text": [
      "Doing shuffle tests. This may take a while.\n"
     ]
    },
    {
     "name": "stderr",
     "output_type": "stream",
     "text": [
      "/home/austinbaggetta/csstorage3/CircleTrack/CircleTrackAnalysis/place_cells.py:44: RuntimeWarning: invalid value encountered in divide\n",
      "  velocity = dists / np.diff(t, prepend = 0) ## in seconds\n",
      "/home/austinbaggetta/csstorage3/CircleTrack/CircleTrackAnalysis/place_cells.py:392: RuntimeWarning: invalid value encountered in divide\n",
      "  pf = pf / self.data[\"occupancy_map\"]\n"
     ]
    },
    {
     "name": "stdout",
     "output_type": "stream",
     "text": [
      "Doing shuffle tests. This may take a while.\n"
     ]
    },
    {
     "name": "stderr",
     "output_type": "stream",
     "text": [
      "/home/austinbaggetta/csstorage3/CircleTrack/CircleTrackAnalysis/place_cells.py:44: RuntimeWarning: invalid value encountered in divide\n",
      "  velocity = dists / np.diff(t, prepend = 0) ## in seconds\n",
      "/home/austinbaggetta/csstorage3/CircleTrack/CircleTrackAnalysis/place_cells.py:392: RuntimeWarning: invalid value encountered in divide\n",
      "  pf = pf / self.data[\"occupancy_map\"]\n"
     ]
    },
    {
     "name": "stdout",
     "output_type": "stream",
     "text": [
      "Doing shuffle tests. This may take a while.\n"
     ]
    },
    {
     "name": "stderr",
     "output_type": "stream",
     "text": [
      "/home/austinbaggetta/csstorage3/CircleTrack/CircleTrackAnalysis/place_cells.py:44: RuntimeWarning: invalid value encountered in divide\n",
      "  velocity = dists / np.diff(t, prepend = 0) ## in seconds\n",
      "/home/austinbaggetta/csstorage3/CircleTrack/CircleTrackAnalysis/place_cells.py:392: RuntimeWarning: invalid value encountered in divide\n",
      "  pf = pf / self.data[\"occupancy_map\"]\n"
     ]
    },
    {
     "name": "stdout",
     "output_type": "stream",
     "text": [
      "Doing shuffle tests. This may take a while.\n"
     ]
    },
    {
     "name": "stderr",
     "output_type": "stream",
     "text": [
      "/home/austinbaggetta/csstorage3/CircleTrack/CircleTrackAnalysis/place_cells.py:44: RuntimeWarning: invalid value encountered in divide\n",
      "  velocity = dists / np.diff(t, prepend = 0) ## in seconds\n",
      "/home/austinbaggetta/csstorage3/CircleTrack/CircleTrackAnalysis/place_cells.py:392: RuntimeWarning: invalid value encountered in divide\n",
      "  pf = pf / self.data[\"occupancy_map\"]\n"
     ]
    },
    {
     "name": "stdout",
     "output_type": "stream",
     "text": [
      "Doing shuffle tests. This may take a while.\n"
     ]
    },
    {
     "name": "stderr",
     "output_type": "stream",
     "text": [
      "/home/austinbaggetta/csstorage3/CircleTrack/CircleTrackAnalysis/place_cells.py:44: RuntimeWarning: invalid value encountered in divide\n",
      "  velocity = dists / np.diff(t, prepend = 0) ## in seconds\n",
      "/home/austinbaggetta/csstorage3/CircleTrack/CircleTrackAnalysis/place_cells.py:392: RuntimeWarning: invalid value encountered in divide\n",
      "  pf = pf / self.data[\"occupancy_map\"]\n"
     ]
    },
    {
     "name": "stdout",
     "output_type": "stream",
     "text": [
      "Doing shuffle tests. This may take a while.\n"
     ]
    },
    {
     "name": "stderr",
     "output_type": "stream",
     "text": [
      "/home/austinbaggetta/csstorage3/CircleTrack/CircleTrackAnalysis/place_cells.py:44: RuntimeWarning: invalid value encountered in divide\n",
      "  velocity = dists / np.diff(t, prepend = 0) ## in seconds\n",
      "/home/austinbaggetta/csstorage3/CircleTrack/CircleTrackAnalysis/place_cells.py:392: RuntimeWarning: invalid value encountered in divide\n",
      "  pf = pf / self.data[\"occupancy_map\"]\n"
     ]
    },
    {
     "name": "stdout",
     "output_type": "stream",
     "text": [
      "Doing shuffle tests. This may take a while.\n"
     ]
    },
    {
     "name": "stderr",
     "output_type": "stream",
     "text": [
      "/home/austinbaggetta/csstorage3/CircleTrack/CircleTrackAnalysis/place_cells.py:44: RuntimeWarning: invalid value encountered in divide\n",
      "  velocity = dists / np.diff(t, prepend = 0) ## in seconds\n",
      "/home/austinbaggetta/csstorage3/CircleTrack/CircleTrackAnalysis/place_cells.py:392: RuntimeWarning: invalid value encountered in divide\n",
      "  pf = pf / self.data[\"occupancy_map\"]\n"
     ]
    },
    {
     "name": "stdout",
     "output_type": "stream",
     "text": [
      "Doing shuffle tests. This may take a while.\n"
     ]
    },
    {
     "name": "stderr",
     "output_type": "stream",
     "text": [
      "/home/austinbaggetta/csstorage3/CircleTrack/CircleTrackAnalysis/place_cells.py:44: RuntimeWarning: invalid value encountered in divide\n",
      "  velocity = dists / np.diff(t, prepend = 0) ## in seconds\n",
      "/home/austinbaggetta/csstorage3/CircleTrack/CircleTrackAnalysis/place_cells.py:392: RuntimeWarning: invalid value encountered in divide\n",
      "  pf = pf / self.data[\"occupancy_map\"]\n"
     ]
    },
    {
     "name": "stdout",
     "output_type": "stream",
     "text": [
      "Doing shuffle tests. This may take a while.\n"
     ]
    },
    {
     "name": "stderr",
     "output_type": "stream",
     "text": [
      "/home/austinbaggetta/csstorage3/CircleTrack/CircleTrackAnalysis/place_cells.py:44: RuntimeWarning: invalid value encountered in divide\n",
      "  velocity = dists / np.diff(t, prepend = 0) ## in seconds\n",
      "/home/austinbaggetta/csstorage3/CircleTrack/CircleTrackAnalysis/place_cells.py:392: RuntimeWarning: invalid value encountered in divide\n",
      "  pf = pf / self.data[\"occupancy_map\"]\n"
     ]
    },
    {
     "name": "stdout",
     "output_type": "stream",
     "text": [
      "Doing shuffle tests. This may take a while.\n"
     ]
    },
    {
     "name": "stderr",
     "output_type": "stream",
     "text": [
      "/home/austinbaggetta/csstorage3/CircleTrack/CircleTrackAnalysis/place_cells.py:44: RuntimeWarning: invalid value encountered in divide\n",
      "  velocity = dists / np.diff(t, prepend = 0) ## in seconds\n",
      "/home/austinbaggetta/csstorage3/CircleTrack/CircleTrackAnalysis/place_cells.py:392: RuntimeWarning: invalid value encountered in divide\n",
      "  pf = pf / self.data[\"occupancy_map\"]\n"
     ]
    },
    {
     "name": "stdout",
     "output_type": "stream",
     "text": [
      "Doing shuffle tests. This may take a while.\n"
     ]
    },
    {
     "name": "stderr",
     "output_type": "stream",
     "text": [
      "/home/austinbaggetta/csstorage3/CircleTrack/CircleTrackAnalysis/place_cells.py:44: RuntimeWarning: invalid value encountered in divide\n",
      "  velocity = dists / np.diff(t, prepend = 0) ## in seconds\n",
      "/home/austinbaggetta/csstorage3/CircleTrack/CircleTrackAnalysis/place_cells.py:392: RuntimeWarning: invalid value encountered in divide\n",
      "  pf = pf / self.data[\"occupancy_map\"]\n"
     ]
    },
    {
     "name": "stdout",
     "output_type": "stream",
     "text": [
      "Doing shuffle tests. This may take a while.\n"
     ]
    },
    {
     "name": "stderr",
     "output_type": "stream",
     "text": [
      "/home/austinbaggetta/csstorage3/CircleTrack/CircleTrackAnalysis/place_cells.py:44: RuntimeWarning: invalid value encountered in divide\n",
      "  velocity = dists / np.diff(t, prepend = 0) ## in seconds\n",
      "/home/austinbaggetta/csstorage3/CircleTrack/CircleTrackAnalysis/place_cells.py:392: RuntimeWarning: invalid value encountered in divide\n",
      "  pf = pf / self.data[\"occupancy_map\"]\n"
     ]
    },
    {
     "name": "stdout",
     "output_type": "stream",
     "text": [
      "Doing shuffle tests. This may take a while.\n"
     ]
    },
    {
     "name": "stderr",
     "output_type": "stream",
     "text": [
      "/home/austinbaggetta/csstorage3/CircleTrack/CircleTrackAnalysis/place_cells.py:44: RuntimeWarning: invalid value encountered in divide\n",
      "  velocity = dists / np.diff(t, prepend = 0) ## in seconds\n",
      "/home/austinbaggetta/csstorage3/CircleTrack/CircleTrackAnalysis/place_cells.py:392: RuntimeWarning: invalid value encountered in divide\n",
      "  pf = pf / self.data[\"occupancy_map\"]\n"
     ]
    },
    {
     "name": "stdout",
     "output_type": "stream",
     "text": [
      "Doing shuffle tests. This may take a while.\n"
     ]
    },
    {
     "name": "stderr",
     "output_type": "stream",
     "text": [
      "/home/austinbaggetta/csstorage3/CircleTrack/CircleTrackAnalysis/place_cells.py:44: RuntimeWarning: invalid value encountered in divide\n",
      "  velocity = dists / np.diff(t, prepend = 0) ## in seconds\n",
      "/home/austinbaggetta/csstorage3/CircleTrack/CircleTrackAnalysis/place_cells.py:392: RuntimeWarning: invalid value encountered in divide\n",
      "  pf = pf / self.data[\"occupancy_map\"]\n"
     ]
    },
    {
     "name": "stdout",
     "output_type": "stream",
     "text": [
      "Doing shuffle tests. This may take a while.\n"
     ]
    },
    {
     "name": "stderr",
     "output_type": "stream",
     "text": [
      "/home/austinbaggetta/csstorage3/CircleTrack/CircleTrackAnalysis/place_cells.py:44: RuntimeWarning: invalid value encountered in divide\n",
      "  velocity = dists / np.diff(t, prepend = 0) ## in seconds\n",
      "/home/austinbaggetta/csstorage3/CircleTrack/CircleTrackAnalysis/place_cells.py:392: RuntimeWarning: invalid value encountered in divide\n",
      "  pf = pf / self.data[\"occupancy_map\"]\n"
     ]
    },
    {
     "name": "stdout",
     "output_type": "stream",
     "text": [
      "Doing shuffle tests. This may take a while.\n"
     ]
    },
    {
     "name": "stderr",
     "output_type": "stream",
     "text": [
      "/home/austinbaggetta/csstorage3/CircleTrack/CircleTrackAnalysis/place_cells.py:44: RuntimeWarning: invalid value encountered in divide\n",
      "  velocity = dists / np.diff(t, prepend = 0) ## in seconds\n",
      "/home/austinbaggetta/csstorage3/CircleTrack/CircleTrackAnalysis/place_cells.py:392: RuntimeWarning: invalid value encountered in divide\n",
      "  pf = pf / self.data[\"occupancy_map\"]\n"
     ]
    },
    {
     "name": "stdout",
     "output_type": "stream",
     "text": [
      "Doing shuffle tests. This may take a while.\n"
     ]
    },
    {
     "name": "stderr",
     "output_type": "stream",
     "text": [
      "/home/austinbaggetta/csstorage3/CircleTrack/CircleTrackAnalysis/place_cells.py:44: RuntimeWarning: invalid value encountered in divide\n",
      "  velocity = dists / np.diff(t, prepend = 0) ## in seconds\n",
      "/home/austinbaggetta/csstorage3/CircleTrack/CircleTrackAnalysis/place_cells.py:392: RuntimeWarning: invalid value encountered in divide\n",
      "  pf = pf / self.data[\"occupancy_map\"]\n"
     ]
    },
    {
     "name": "stdout",
     "output_type": "stream",
     "text": [
      "Doing shuffle tests. This may take a while.\n"
     ]
    },
    {
     "name": "stderr",
     "output_type": "stream",
     "text": [
      "/home/austinbaggetta/csstorage3/CircleTrack/CircleTrackAnalysis/place_cells.py:44: RuntimeWarning: invalid value encountered in divide\n",
      "  velocity = dists / np.diff(t, prepend = 0) ## in seconds\n",
      "/home/austinbaggetta/csstorage3/CircleTrack/CircleTrackAnalysis/place_cells.py:392: RuntimeWarning: invalid value encountered in divide\n",
      "  pf = pf / self.data[\"occupancy_map\"]\n"
     ]
    },
    {
     "name": "stdout",
     "output_type": "stream",
     "text": [
      "Doing shuffle tests. This may take a while.\n"
     ]
    },
    {
     "name": "stderr",
     "output_type": "stream",
     "text": [
      "/home/austinbaggetta/csstorage3/CircleTrack/CircleTrackAnalysis/place_cells.py:44: RuntimeWarning: invalid value encountered in divide\n",
      "  velocity = dists / np.diff(t, prepend = 0) ## in seconds\n",
      "/home/austinbaggetta/csstorage3/CircleTrack/CircleTrackAnalysis/place_cells.py:392: RuntimeWarning: invalid value encountered in divide\n",
      "  pf = pf / self.data[\"occupancy_map\"]\n"
     ]
    },
    {
     "name": "stdout",
     "output_type": "stream",
     "text": [
      "Doing shuffle tests. This may take a while.\n"
     ]
    },
    {
     "name": "stderr",
     "output_type": "stream",
     "text": [
      "/home/austinbaggetta/csstorage3/CircleTrack/CircleTrackAnalysis/place_cells.py:44: RuntimeWarning: invalid value encountered in divide\n",
      "  velocity = dists / np.diff(t, prepend = 0) ## in seconds\n",
      "/home/austinbaggetta/csstorage3/CircleTrack/CircleTrackAnalysis/place_cells.py:392: RuntimeWarning: invalid value encountered in divide\n",
      "  pf = pf / self.data[\"occupancy_map\"]\n"
     ]
    },
    {
     "name": "stdout",
     "output_type": "stream",
     "text": [
      "Doing shuffle tests. This may take a while.\n"
     ]
    },
    {
     "name": "stderr",
     "output_type": "stream",
     "text": [
      "/home/austinbaggetta/csstorage3/CircleTrack/CircleTrackAnalysis/place_cells.py:44: RuntimeWarning: invalid value encountered in divide\n",
      "  velocity = dists / np.diff(t, prepend = 0) ## in seconds\n",
      "/home/austinbaggetta/csstorage3/CircleTrack/CircleTrackAnalysis/place_cells.py:392: RuntimeWarning: invalid value encountered in divide\n",
      "  pf = pf / self.data[\"occupancy_map\"]\n"
     ]
    },
    {
     "name": "stdout",
     "output_type": "stream",
     "text": [
      "Doing shuffle tests. This may take a while.\n"
     ]
    },
    {
     "name": "stderr",
     "output_type": "stream",
     "text": [
      "/home/austinbaggetta/csstorage3/CircleTrack/CircleTrackAnalysis/place_cells.py:44: RuntimeWarning: invalid value encountered in divide\n",
      "  velocity = dists / np.diff(t, prepend = 0) ## in seconds\n",
      "/home/austinbaggetta/csstorage3/CircleTrack/CircleTrackAnalysis/place_cells.py:392: RuntimeWarning: invalid value encountered in divide\n",
      "  pf = pf / self.data[\"occupancy_map\"]\n"
     ]
    },
    {
     "name": "stdout",
     "output_type": "stream",
     "text": [
      "Doing shuffle tests. This may take a while.\n"
     ]
    },
    {
     "name": "stderr",
     "output_type": "stream",
     "text": [
      "/home/austinbaggetta/csstorage3/CircleTrack/CircleTrackAnalysis/place_cells.py:44: RuntimeWarning: invalid value encountered in divide\n",
      "  velocity = dists / np.diff(t, prepend = 0) ## in seconds\n",
      "/home/austinbaggetta/csstorage3/CircleTrack/CircleTrackAnalysis/place_cells.py:392: RuntimeWarning: invalid value encountered in divide\n",
      "  pf = pf / self.data[\"occupancy_map\"]\n"
     ]
    },
    {
     "name": "stdout",
     "output_type": "stream",
     "text": [
      "Doing shuffle tests. This may take a while.\n"
     ]
    },
    {
     "name": "stderr",
     "output_type": "stream",
     "text": [
      "/home/austinbaggetta/csstorage3/CircleTrack/CircleTrackAnalysis/place_cells.py:44: RuntimeWarning: invalid value encountered in divide\n",
      "  velocity = dists / np.diff(t, prepend = 0) ## in seconds\n",
      "/home/austinbaggetta/csstorage3/CircleTrack/CircleTrackAnalysis/place_cells.py:392: RuntimeWarning: invalid value encountered in divide\n",
      "  pf = pf / self.data[\"occupancy_map\"]\n"
     ]
    },
    {
     "name": "stdout",
     "output_type": "stream",
     "text": [
      "Doing shuffle tests. This may take a while.\n"
     ]
    },
    {
     "name": "stderr",
     "output_type": "stream",
     "text": [
      "/home/austinbaggetta/csstorage3/CircleTrack/CircleTrackAnalysis/place_cells.py:44: RuntimeWarning: invalid value encountered in divide\n",
      "  velocity = dists / np.diff(t, prepend = 0) ## in seconds\n",
      "/home/austinbaggetta/csstorage3/CircleTrack/CircleTrackAnalysis/place_cells.py:392: RuntimeWarning: invalid value encountered in divide\n",
      "  pf = pf / self.data[\"occupancy_map\"]\n"
     ]
    },
    {
     "name": "stdout",
     "output_type": "stream",
     "text": [
      "Doing shuffle tests. This may take a while.\n"
     ]
    },
    {
     "name": "stderr",
     "output_type": "stream",
     "text": [
      "/home/austinbaggetta/csstorage3/CircleTrack/CircleTrackAnalysis/place_cells.py:44: RuntimeWarning: invalid value encountered in divide\n",
      "  velocity = dists / np.diff(t, prepend = 0) ## in seconds\n",
      "/home/austinbaggetta/csstorage3/CircleTrack/CircleTrackAnalysis/place_cells.py:392: RuntimeWarning: invalid value encountered in divide\n",
      "  pf = pf / self.data[\"occupancy_map\"]\n"
     ]
    },
    {
     "name": "stdout",
     "output_type": "stream",
     "text": [
      "Doing shuffle tests. This may take a while.\n"
     ]
    },
    {
     "name": "stderr",
     "output_type": "stream",
     "text": [
      "/home/austinbaggetta/csstorage3/CircleTrack/CircleTrackAnalysis/place_cells.py:44: RuntimeWarning: invalid value encountered in divide\n",
      "  velocity = dists / np.diff(t, prepend = 0) ## in seconds\n",
      "/home/austinbaggetta/csstorage3/CircleTrack/CircleTrackAnalysis/place_cells.py:392: RuntimeWarning: invalid value encountered in divide\n",
      "  pf = pf / self.data[\"occupancy_map\"]\n"
     ]
    },
    {
     "name": "stdout",
     "output_type": "stream",
     "text": [
      "Doing shuffle tests. This may take a while.\n"
     ]
    },
    {
     "name": "stderr",
     "output_type": "stream",
     "text": [
      "/home/austinbaggetta/csstorage3/CircleTrack/CircleTrackAnalysis/place_cells.py:44: RuntimeWarning: invalid value encountered in divide\n",
      "  velocity = dists / np.diff(t, prepend = 0) ## in seconds\n",
      "/home/austinbaggetta/csstorage3/CircleTrack/CircleTrackAnalysis/place_cells.py:392: RuntimeWarning: invalid value encountered in divide\n",
      "  pf = pf / self.data[\"occupancy_map\"]\n"
     ]
    },
    {
     "name": "stdout",
     "output_type": "stream",
     "text": [
      "Doing shuffle tests. This may take a while.\n"
     ]
    },
    {
     "name": "stderr",
     "output_type": "stream",
     "text": [
      "/home/austinbaggetta/csstorage3/CircleTrack/CircleTrackAnalysis/place_cells.py:44: RuntimeWarning: invalid value encountered in divide\n",
      "  velocity = dists / np.diff(t, prepend = 0) ## in seconds\n",
      "/home/austinbaggetta/csstorage3/CircleTrack/CircleTrackAnalysis/place_cells.py:392: RuntimeWarning: invalid value encountered in divide\n",
      "  pf = pf / self.data[\"occupancy_map\"]\n"
     ]
    },
    {
     "name": "stdout",
     "output_type": "stream",
     "text": [
      "Doing shuffle tests. This may take a while.\n"
     ]
    },
    {
     "name": "stderr",
     "output_type": "stream",
     "text": [
      "/home/austinbaggetta/csstorage3/CircleTrack/CircleTrackAnalysis/place_cells.py:44: RuntimeWarning: invalid value encountered in divide\n",
      "  velocity = dists / np.diff(t, prepend = 0) ## in seconds\n",
      "/home/austinbaggetta/csstorage3/CircleTrack/CircleTrackAnalysis/place_cells.py:392: RuntimeWarning: invalid value encountered in divide\n",
      "  pf = pf / self.data[\"occupancy_map\"]\n"
     ]
    },
    {
     "name": "stdout",
     "output_type": "stream",
     "text": [
      "Doing shuffle tests. This may take a while.\n"
     ]
    },
    {
     "name": "stderr",
     "output_type": "stream",
     "text": [
      "/home/austinbaggetta/csstorage3/CircleTrack/CircleTrackAnalysis/place_cells.py:44: RuntimeWarning: invalid value encountered in divide\n",
      "  velocity = dists / np.diff(t, prepend = 0) ## in seconds\n",
      "/home/austinbaggetta/csstorage3/CircleTrack/CircleTrackAnalysis/place_cells.py:392: RuntimeWarning: invalid value encountered in divide\n",
      "  pf = pf / self.data[\"occupancy_map\"]\n"
     ]
    },
    {
     "name": "stdout",
     "output_type": "stream",
     "text": [
      "Doing shuffle tests. This may take a while.\n"
     ]
    },
    {
     "name": "stderr",
     "output_type": "stream",
     "text": [
      "/home/austinbaggetta/csstorage3/CircleTrack/CircleTrackAnalysis/place_cells.py:44: RuntimeWarning: invalid value encountered in divide\n",
      "  velocity = dists / np.diff(t, prepend = 0) ## in seconds\n",
      "/home/austinbaggetta/csstorage3/CircleTrack/CircleTrackAnalysis/place_cells.py:392: RuntimeWarning: invalid value encountered in divide\n",
      "  pf = pf / self.data[\"occupancy_map\"]\n"
     ]
    },
    {
     "name": "stdout",
     "output_type": "stream",
     "text": [
      "Doing shuffle tests. This may take a while.\n"
     ]
    },
    {
     "name": "stderr",
     "output_type": "stream",
     "text": [
      "/home/austinbaggetta/csstorage3/CircleTrack/CircleTrackAnalysis/place_cells.py:44: RuntimeWarning: invalid value encountered in divide\n",
      "  velocity = dists / np.diff(t, prepend = 0) ## in seconds\n",
      "/home/austinbaggetta/csstorage3/CircleTrack/CircleTrackAnalysis/place_cells.py:392: RuntimeWarning: invalid value encountered in divide\n",
      "  pf = pf / self.data[\"occupancy_map\"]\n"
     ]
    },
    {
     "name": "stdout",
     "output_type": "stream",
     "text": [
      "Doing shuffle tests. This may take a while.\n"
     ]
    },
    {
     "name": "stderr",
     "output_type": "stream",
     "text": [
      "/home/austinbaggetta/csstorage3/CircleTrack/CircleTrackAnalysis/place_cells.py:44: RuntimeWarning: invalid value encountered in divide\n",
      "  velocity = dists / np.diff(t, prepend = 0) ## in seconds\n",
      "/home/austinbaggetta/csstorage3/CircleTrack/CircleTrackAnalysis/place_cells.py:392: RuntimeWarning: invalid value encountered in divide\n",
      "  pf = pf / self.data[\"occupancy_map\"]\n"
     ]
    },
    {
     "name": "stdout",
     "output_type": "stream",
     "text": [
      "Doing shuffle tests. This may take a while.\n"
     ]
    },
    {
     "name": "stderr",
     "output_type": "stream",
     "text": [
      "/home/austinbaggetta/csstorage3/CircleTrack/CircleTrackAnalysis/place_cells.py:44: RuntimeWarning: invalid value encountered in divide\n",
      "  velocity = dists / np.diff(t, prepend = 0) ## in seconds\n",
      "/home/austinbaggetta/csstorage3/CircleTrack/CircleTrackAnalysis/place_cells.py:392: RuntimeWarning: invalid value encountered in divide\n",
      "  pf = pf / self.data[\"occupancy_map\"]\n"
     ]
    },
    {
     "name": "stdout",
     "output_type": "stream",
     "text": [
      "Doing shuffle tests. This may take a while.\n"
     ]
    },
    {
     "name": "stderr",
     "output_type": "stream",
     "text": [
      "/home/austinbaggetta/csstorage3/CircleTrack/CircleTrackAnalysis/place_cells.py:44: RuntimeWarning: invalid value encountered in divide\n",
      "  velocity = dists / np.diff(t, prepend = 0) ## in seconds\n",
      "/home/austinbaggetta/csstorage3/CircleTrack/CircleTrackAnalysis/place_cells.py:392: RuntimeWarning: invalid value encountered in divide\n",
      "  pf = pf / self.data[\"occupancy_map\"]\n"
     ]
    },
    {
     "name": "stdout",
     "output_type": "stream",
     "text": [
      "Doing shuffle tests. This may take a while.\n"
     ]
    },
    {
     "name": "stderr",
     "output_type": "stream",
     "text": [
      "/home/austinbaggetta/csstorage3/CircleTrack/CircleTrackAnalysis/place_cells.py:44: RuntimeWarning: invalid value encountered in divide\n",
      "  velocity = dists / np.diff(t, prepend = 0) ## in seconds\n",
      "/home/austinbaggetta/csstorage3/CircleTrack/CircleTrackAnalysis/place_cells.py:392: RuntimeWarning: invalid value encountered in divide\n",
      "  pf = pf / self.data[\"occupancy_map\"]\n"
     ]
    },
    {
     "name": "stdout",
     "output_type": "stream",
     "text": [
      "Doing shuffle tests. This may take a while.\n"
     ]
    },
    {
     "name": "stderr",
     "output_type": "stream",
     "text": [
      "/home/austinbaggetta/csstorage3/CircleTrack/CircleTrackAnalysis/place_cells.py:44: RuntimeWarning: invalid value encountered in divide\n",
      "  velocity = dists / np.diff(t, prepend = 0) ## in seconds\n",
      "/home/austinbaggetta/csstorage3/CircleTrack/CircleTrackAnalysis/place_cells.py:392: RuntimeWarning: invalid value encountered in divide\n",
      "  pf = pf / self.data[\"occupancy_map\"]\n"
     ]
    },
    {
     "name": "stdout",
     "output_type": "stream",
     "text": [
      "Doing shuffle tests. This may take a while.\n"
     ]
    },
    {
     "name": "stderr",
     "output_type": "stream",
     "text": [
      "/home/austinbaggetta/csstorage3/CircleTrack/CircleTrackAnalysis/place_cells.py:44: RuntimeWarning: invalid value encountered in divide\n",
      "  velocity = dists / np.diff(t, prepend = 0) ## in seconds\n",
      "/home/austinbaggetta/csstorage3/CircleTrack/CircleTrackAnalysis/place_cells.py:392: RuntimeWarning: invalid value encountered in divide\n",
      "  pf = pf / self.data[\"occupancy_map\"]\n"
     ]
    },
    {
     "name": "stdout",
     "output_type": "stream",
     "text": [
      "Doing shuffle tests. This may take a while.\n"
     ]
    },
    {
     "name": "stderr",
     "output_type": "stream",
     "text": [
      "/home/austinbaggetta/csstorage3/CircleTrack/CircleTrackAnalysis/place_cells.py:44: RuntimeWarning: invalid value encountered in divide\n",
      "  velocity = dists / np.diff(t, prepend = 0) ## in seconds\n",
      "/home/austinbaggetta/csstorage3/CircleTrack/CircleTrackAnalysis/place_cells.py:392: RuntimeWarning: invalid value encountered in divide\n",
      "  pf = pf / self.data[\"occupancy_map\"]\n"
     ]
    },
    {
     "name": "stdout",
     "output_type": "stream",
     "text": [
      "Doing shuffle tests. This may take a while.\n"
     ]
    },
    {
     "name": "stderr",
     "output_type": "stream",
     "text": [
      "/home/austinbaggetta/csstorage3/CircleTrack/CircleTrackAnalysis/place_cells.py:44: RuntimeWarning: invalid value encountered in divide\n",
      "  velocity = dists / np.diff(t, prepend = 0) ## in seconds\n",
      "/home/austinbaggetta/csstorage3/CircleTrack/CircleTrackAnalysis/place_cells.py:392: RuntimeWarning: invalid value encountered in divide\n",
      "  pf = pf / self.data[\"occupancy_map\"]\n"
     ]
    },
    {
     "name": "stdout",
     "output_type": "stream",
     "text": [
      "Doing shuffle tests. This may take a while.\n"
     ]
    },
    {
     "name": "stderr",
     "output_type": "stream",
     "text": [
      "/home/austinbaggetta/csstorage3/CircleTrack/CircleTrackAnalysis/place_cells.py:44: RuntimeWarning: invalid value encountered in divide\n",
      "  velocity = dists / np.diff(t, prepend = 0) ## in seconds\n",
      "/home/austinbaggetta/csstorage3/CircleTrack/CircleTrackAnalysis/place_cells.py:392: RuntimeWarning: invalid value encountered in divide\n",
      "  pf = pf / self.data[\"occupancy_map\"]\n"
     ]
    },
    {
     "name": "stdout",
     "output_type": "stream",
     "text": [
      "Doing shuffle tests. This may take a while.\n"
     ]
    },
    {
     "name": "stderr",
     "output_type": "stream",
     "text": [
      "/home/austinbaggetta/csstorage3/CircleTrack/CircleTrackAnalysis/place_cells.py:44: RuntimeWarning: invalid value encountered in divide\n",
      "  velocity = dists / np.diff(t, prepend = 0) ## in seconds\n",
      "/home/austinbaggetta/csstorage3/CircleTrack/CircleTrackAnalysis/place_cells.py:392: RuntimeWarning: invalid value encountered in divide\n",
      "  pf = pf / self.data[\"occupancy_map\"]\n"
     ]
    },
    {
     "name": "stdout",
     "output_type": "stream",
     "text": [
      "Doing shuffle tests. This may take a while.\n"
     ]
    },
    {
     "name": "stderr",
     "output_type": "stream",
     "text": [
      "/home/austinbaggetta/csstorage3/CircleTrack/CircleTrackAnalysis/place_cells.py:44: RuntimeWarning: invalid value encountered in divide\n",
      "  velocity = dists / np.diff(t, prepend = 0) ## in seconds\n",
      "/home/austinbaggetta/csstorage3/CircleTrack/CircleTrackAnalysis/place_cells.py:392: RuntimeWarning: invalid value encountered in divide\n",
      "  pf = pf / self.data[\"occupancy_map\"]\n"
     ]
    },
    {
     "name": "stdout",
     "output_type": "stream",
     "text": [
      "Doing shuffle tests. This may take a while.\n"
     ]
    },
    {
     "name": "stderr",
     "output_type": "stream",
     "text": [
      "/home/austinbaggetta/csstorage3/CircleTrack/CircleTrackAnalysis/place_cells.py:44: RuntimeWarning: invalid value encountered in divide\n",
      "  velocity = dists / np.diff(t, prepend = 0) ## in seconds\n",
      "/home/austinbaggetta/csstorage3/CircleTrack/CircleTrackAnalysis/place_cells.py:392: RuntimeWarning: invalid value encountered in divide\n",
      "  pf = pf / self.data[\"occupancy_map\"]\n"
     ]
    },
    {
     "name": "stdout",
     "output_type": "stream",
     "text": [
      "Doing shuffle tests. This may take a while.\n"
     ]
    },
    {
     "name": "stderr",
     "output_type": "stream",
     "text": [
      "/home/austinbaggetta/csstorage3/CircleTrack/CircleTrackAnalysis/place_cells.py:44: RuntimeWarning: invalid value encountered in divide\n",
      "  velocity = dists / np.diff(t, prepend = 0) ## in seconds\n",
      "/home/austinbaggetta/csstorage3/CircleTrack/CircleTrackAnalysis/place_cells.py:392: RuntimeWarning: invalid value encountered in divide\n",
      "  pf = pf / self.data[\"occupancy_map\"]\n"
     ]
    },
    {
     "name": "stdout",
     "output_type": "stream",
     "text": [
      "Doing shuffle tests. This may take a while.\n"
     ]
    },
    {
     "name": "stderr",
     "output_type": "stream",
     "text": [
      "/home/austinbaggetta/csstorage3/CircleTrack/CircleTrackAnalysis/place_cells.py:44: RuntimeWarning: invalid value encountered in divide\n",
      "  velocity = dists / np.diff(t, prepend = 0) ## in seconds\n",
      "/home/austinbaggetta/csstorage3/CircleTrack/CircleTrackAnalysis/place_cells.py:392: RuntimeWarning: invalid value encountered in divide\n",
      "  pf = pf / self.data[\"occupancy_map\"]\n"
     ]
    },
    {
     "name": "stdout",
     "output_type": "stream",
     "text": [
      "Doing shuffle tests. This may take a while.\n"
     ]
    },
    {
     "name": "stderr",
     "output_type": "stream",
     "text": [
      "/home/austinbaggetta/csstorage3/CircleTrack/CircleTrackAnalysis/place_cells.py:44: RuntimeWarning: invalid value encountered in divide\n",
      "  velocity = dists / np.diff(t, prepend = 0) ## in seconds\n",
      "/home/austinbaggetta/csstorage3/CircleTrack/CircleTrackAnalysis/place_cells.py:392: RuntimeWarning: invalid value encountered in divide\n",
      "  pf = pf / self.data[\"occupancy_map\"]\n"
     ]
    },
    {
     "name": "stdout",
     "output_type": "stream",
     "text": [
      "Doing shuffle tests. This may take a while.\n"
     ]
    },
    {
     "name": "stderr",
     "output_type": "stream",
     "text": [
      "/home/austinbaggetta/csstorage3/CircleTrack/CircleTrackAnalysis/place_cells.py:44: RuntimeWarning: invalid value encountered in divide\n",
      "  velocity = dists / np.diff(t, prepend = 0) ## in seconds\n",
      "/home/austinbaggetta/csstorage3/CircleTrack/CircleTrackAnalysis/place_cells.py:392: RuntimeWarning: invalid value encountered in divide\n",
      "  pf = pf / self.data[\"occupancy_map\"]\n"
     ]
    },
    {
     "name": "stdout",
     "output_type": "stream",
     "text": [
      "Doing shuffle tests. This may take a while.\n"
     ]
    },
    {
     "name": "stderr",
     "output_type": "stream",
     "text": [
      "/home/austinbaggetta/csstorage3/CircleTrack/CircleTrackAnalysis/place_cells.py:44: RuntimeWarning: invalid value encountered in divide\n",
      "  velocity = dists / np.diff(t, prepend = 0) ## in seconds\n",
      "/home/austinbaggetta/csstorage3/CircleTrack/CircleTrackAnalysis/place_cells.py:392: RuntimeWarning: invalid value encountered in divide\n",
      "  pf = pf / self.data[\"occupancy_map\"]\n"
     ]
    },
    {
     "name": "stdout",
     "output_type": "stream",
     "text": [
      "Doing shuffle tests. This may take a while.\n"
     ]
    },
    {
     "name": "stderr",
     "output_type": "stream",
     "text": [
      "/home/austinbaggetta/csstorage3/CircleTrack/CircleTrackAnalysis/place_cells.py:44: RuntimeWarning: invalid value encountered in divide\n",
      "  velocity = dists / np.diff(t, prepend = 0) ## in seconds\n",
      "/home/austinbaggetta/csstorage3/CircleTrack/CircleTrackAnalysis/place_cells.py:392: RuntimeWarning: invalid value encountered in divide\n",
      "  pf = pf / self.data[\"occupancy_map\"]\n"
     ]
    },
    {
     "name": "stdout",
     "output_type": "stream",
     "text": [
      "Doing shuffle tests. This may take a while.\n"
     ]
    },
    {
     "name": "stderr",
     "output_type": "stream",
     "text": [
      "/home/austinbaggetta/csstorage3/CircleTrack/CircleTrackAnalysis/place_cells.py:44: RuntimeWarning: invalid value encountered in divide\n",
      "  velocity = dists / np.diff(t, prepend = 0) ## in seconds\n",
      "/home/austinbaggetta/csstorage3/CircleTrack/CircleTrackAnalysis/place_cells.py:392: RuntimeWarning: invalid value encountered in divide\n",
      "  pf = pf / self.data[\"occupancy_map\"]\n"
     ]
    },
    {
     "name": "stdout",
     "output_type": "stream",
     "text": [
      "Doing shuffle tests. This may take a while.\n"
     ]
    },
    {
     "name": "stderr",
     "output_type": "stream",
     "text": [
      "/home/austinbaggetta/csstorage3/CircleTrack/CircleTrackAnalysis/place_cells.py:44: RuntimeWarning: invalid value encountered in divide\n",
      "  velocity = dists / np.diff(t, prepend = 0) ## in seconds\n",
      "/home/austinbaggetta/csstorage3/CircleTrack/CircleTrackAnalysis/place_cells.py:392: RuntimeWarning: invalid value encountered in divide\n",
      "  pf = pf / self.data[\"occupancy_map\"]\n"
     ]
    },
    {
     "name": "stdout",
     "output_type": "stream",
     "text": [
      "Doing shuffle tests. This may take a while.\n"
     ]
    },
    {
     "name": "stderr",
     "output_type": "stream",
     "text": [
      "/home/austinbaggetta/csstorage3/CircleTrack/CircleTrackAnalysis/place_cells.py:44: RuntimeWarning: invalid value encountered in divide\n",
      "  velocity = dists / np.diff(t, prepend = 0) ## in seconds\n",
      "/home/austinbaggetta/csstorage3/CircleTrack/CircleTrackAnalysis/place_cells.py:392: RuntimeWarning: invalid value encountered in divide\n",
      "  pf = pf / self.data[\"occupancy_map\"]\n"
     ]
    },
    {
     "name": "stdout",
     "output_type": "stream",
     "text": [
      "Doing shuffle tests. This may take a while.\n"
     ]
    },
    {
     "name": "stderr",
     "output_type": "stream",
     "text": [
      "/home/austinbaggetta/csstorage3/CircleTrack/CircleTrackAnalysis/place_cells.py:44: RuntimeWarning: invalid value encountered in divide\n",
      "  velocity = dists / np.diff(t, prepend = 0) ## in seconds\n",
      "/home/austinbaggetta/csstorage3/CircleTrack/CircleTrackAnalysis/place_cells.py:392: RuntimeWarning: invalid value encountered in divide\n",
      "  pf = pf / self.data[\"occupancy_map\"]\n"
     ]
    },
    {
     "name": "stdout",
     "output_type": "stream",
     "text": [
      "Doing shuffle tests. This may take a while.\n"
     ]
    },
    {
     "name": "stderr",
     "output_type": "stream",
     "text": [
      "/home/austinbaggetta/csstorage3/CircleTrack/CircleTrackAnalysis/place_cells.py:44: RuntimeWarning: invalid value encountered in divide\n",
      "  velocity = dists / np.diff(t, prepend = 0) ## in seconds\n",
      "/home/austinbaggetta/csstorage3/CircleTrack/CircleTrackAnalysis/place_cells.py:392: RuntimeWarning: invalid value encountered in divide\n",
      "  pf = pf / self.data[\"occupancy_map\"]\n"
     ]
    },
    {
     "name": "stdout",
     "output_type": "stream",
     "text": [
      "Doing shuffle tests. This may take a while.\n"
     ]
    },
    {
     "name": "stderr",
     "output_type": "stream",
     "text": [
      "/home/austinbaggetta/csstorage3/CircleTrack/CircleTrackAnalysis/place_cells.py:44: RuntimeWarning: invalid value encountered in divide\n",
      "  velocity = dists / np.diff(t, prepend = 0) ## in seconds\n",
      "/home/austinbaggetta/csstorage3/CircleTrack/CircleTrackAnalysis/place_cells.py:392: RuntimeWarning: invalid value encountered in divide\n",
      "  pf = pf / self.data[\"occupancy_map\"]\n"
     ]
    },
    {
     "name": "stdout",
     "output_type": "stream",
     "text": [
      "Doing shuffle tests. This may take a while.\n"
     ]
    },
    {
     "name": "stderr",
     "output_type": "stream",
     "text": [
      "/home/austinbaggetta/csstorage3/CircleTrack/CircleTrackAnalysis/place_cells.py:44: RuntimeWarning: invalid value encountered in divide\n",
      "  velocity = dists / np.diff(t, prepend = 0) ## in seconds\n",
      "/home/austinbaggetta/csstorage3/CircleTrack/CircleTrackAnalysis/place_cells.py:392: RuntimeWarning: invalid value encountered in divide\n",
      "  pf = pf / self.data[\"occupancy_map\"]\n"
     ]
    },
    {
     "name": "stdout",
     "output_type": "stream",
     "text": [
      "Doing shuffle tests. This may take a while.\n"
     ]
    },
    {
     "name": "stderr",
     "output_type": "stream",
     "text": [
      "/home/austinbaggetta/csstorage3/CircleTrack/CircleTrackAnalysis/place_cells.py:44: RuntimeWarning: invalid value encountered in divide\n",
      "  velocity = dists / np.diff(t, prepend = 0) ## in seconds\n",
      "/home/austinbaggetta/csstorage3/CircleTrack/CircleTrackAnalysis/place_cells.py:392: RuntimeWarning: invalid value encountered in divide\n",
      "  pf = pf / self.data[\"occupancy_map\"]\n"
     ]
    },
    {
     "name": "stdout",
     "output_type": "stream",
     "text": [
      "Doing shuffle tests. This may take a while.\n"
     ]
    },
    {
     "name": "stderr",
     "output_type": "stream",
     "text": [
      "/home/austinbaggetta/csstorage3/CircleTrack/CircleTrackAnalysis/place_cells.py:44: RuntimeWarning: invalid value encountered in divide\n",
      "  velocity = dists / np.diff(t, prepend = 0) ## in seconds\n",
      "/home/austinbaggetta/csstorage3/CircleTrack/CircleTrackAnalysis/place_cells.py:392: RuntimeWarning: invalid value encountered in divide\n",
      "  pf = pf / self.data[\"occupancy_map\"]\n"
     ]
    },
    {
     "name": "stdout",
     "output_type": "stream",
     "text": [
      "Doing shuffle tests. This may take a while.\n"
     ]
    },
    {
     "name": "stderr",
     "output_type": "stream",
     "text": [
      "/home/austinbaggetta/csstorage3/CircleTrack/CircleTrackAnalysis/place_cells.py:44: RuntimeWarning: invalid value encountered in divide\n",
      "  velocity = dists / np.diff(t, prepend = 0) ## in seconds\n",
      "/home/austinbaggetta/csstorage3/CircleTrack/CircleTrackAnalysis/place_cells.py:392: RuntimeWarning: invalid value encountered in divide\n",
      "  pf = pf / self.data[\"occupancy_map\"]\n"
     ]
    },
    {
     "name": "stdout",
     "output_type": "stream",
     "text": [
      "Doing shuffle tests. This may take a while.\n"
     ]
    },
    {
     "name": "stderr",
     "output_type": "stream",
     "text": [
      "/home/austinbaggetta/csstorage3/CircleTrack/CircleTrackAnalysis/place_cells.py:44: RuntimeWarning: invalid value encountered in divide\n",
      "  velocity = dists / np.diff(t, prepend = 0) ## in seconds\n",
      "/home/austinbaggetta/csstorage3/CircleTrack/CircleTrackAnalysis/place_cells.py:392: RuntimeWarning: invalid value encountered in divide\n",
      "  pf = pf / self.data[\"occupancy_map\"]\n"
     ]
    },
    {
     "name": "stdout",
     "output_type": "stream",
     "text": [
      "Doing shuffle tests. This may take a while.\n"
     ]
    },
    {
     "name": "stderr",
     "output_type": "stream",
     "text": [
      "/home/austinbaggetta/csstorage3/CircleTrack/CircleTrackAnalysis/place_cells.py:44: RuntimeWarning: invalid value encountered in divide\n",
      "  velocity = dists / np.diff(t, prepend = 0) ## in seconds\n",
      "/home/austinbaggetta/csstorage3/CircleTrack/CircleTrackAnalysis/place_cells.py:392: RuntimeWarning: invalid value encountered in divide\n",
      "  pf = pf / self.data[\"occupancy_map\"]\n"
     ]
    },
    {
     "name": "stdout",
     "output_type": "stream",
     "text": [
      "Doing shuffle tests. This may take a while.\n"
     ]
    },
    {
     "name": "stderr",
     "output_type": "stream",
     "text": [
      "/home/austinbaggetta/csstorage3/CircleTrack/CircleTrackAnalysis/place_cells.py:44: RuntimeWarning: invalid value encountered in divide\n",
      "  velocity = dists / np.diff(t, prepend = 0) ## in seconds\n",
      "/home/austinbaggetta/csstorage3/CircleTrack/CircleTrackAnalysis/place_cells.py:392: RuntimeWarning: invalid value encountered in divide\n",
      "  pf = pf / self.data[\"occupancy_map\"]\n"
     ]
    },
    {
     "name": "stdout",
     "output_type": "stream",
     "text": [
      "Doing shuffle tests. This may take a while.\n"
     ]
    },
    {
     "name": "stderr",
     "output_type": "stream",
     "text": [
      "/home/austinbaggetta/csstorage3/CircleTrack/CircleTrackAnalysis/place_cells.py:44: RuntimeWarning: invalid value encountered in divide\n",
      "  velocity = dists / np.diff(t, prepend = 0) ## in seconds\n",
      "/home/austinbaggetta/csstorage3/CircleTrack/CircleTrackAnalysis/place_cells.py:392: RuntimeWarning: invalid value encountered in divide\n",
      "  pf = pf / self.data[\"occupancy_map\"]\n"
     ]
    },
    {
     "name": "stdout",
     "output_type": "stream",
     "text": [
      "Doing shuffle tests. This may take a while.\n"
     ]
    },
    {
     "name": "stderr",
     "output_type": "stream",
     "text": [
      "/home/austinbaggetta/csstorage3/CircleTrack/CircleTrackAnalysis/place_cells.py:44: RuntimeWarning: invalid value encountered in divide\n",
      "  velocity = dists / np.diff(t, prepend = 0) ## in seconds\n",
      "/home/austinbaggetta/csstorage3/CircleTrack/CircleTrackAnalysis/place_cells.py:392: RuntimeWarning: invalid value encountered in divide\n",
      "  pf = pf / self.data[\"occupancy_map\"]\n"
     ]
    },
    {
     "name": "stdout",
     "output_type": "stream",
     "text": [
      "Doing shuffle tests. This may take a while.\n"
     ]
    },
    {
     "name": "stderr",
     "output_type": "stream",
     "text": [
      "/home/austinbaggetta/csstorage3/CircleTrack/CircleTrackAnalysis/place_cells.py:44: RuntimeWarning: invalid value encountered in divide\n",
      "  velocity = dists / np.diff(t, prepend = 0) ## in seconds\n",
      "/home/austinbaggetta/csstorage3/CircleTrack/CircleTrackAnalysis/place_cells.py:392: RuntimeWarning: invalid value encountered in divide\n",
      "  pf = pf / self.data[\"occupancy_map\"]\n"
     ]
    },
    {
     "name": "stdout",
     "output_type": "stream",
     "text": [
      "Doing shuffle tests. This may take a while.\n"
     ]
    },
    {
     "name": "stderr",
     "output_type": "stream",
     "text": [
      "/home/austinbaggetta/csstorage3/CircleTrack/CircleTrackAnalysis/place_cells.py:44: RuntimeWarning: invalid value encountered in divide\n",
      "  velocity = dists / np.diff(t, prepend = 0) ## in seconds\n",
      "/home/austinbaggetta/csstorage3/CircleTrack/CircleTrackAnalysis/place_cells.py:392: RuntimeWarning: invalid value encountered in divide\n",
      "  pf = pf / self.data[\"occupancy_map\"]\n"
     ]
    },
    {
     "name": "stdout",
     "output_type": "stream",
     "text": [
      "Doing shuffle tests. This may take a while.\n"
     ]
    },
    {
     "name": "stderr",
     "output_type": "stream",
     "text": [
      "/home/austinbaggetta/csstorage3/CircleTrack/CircleTrackAnalysis/place_cells.py:44: RuntimeWarning: invalid value encountered in divide\n",
      "  velocity = dists / np.diff(t, prepend = 0) ## in seconds\n",
      "/home/austinbaggetta/csstorage3/CircleTrack/CircleTrackAnalysis/place_cells.py:392: RuntimeWarning: invalid value encountered in divide\n",
      "  pf = pf / self.data[\"occupancy_map\"]\n"
     ]
    },
    {
     "name": "stdout",
     "output_type": "stream",
     "text": [
      "Doing shuffle tests. This may take a while.\n"
     ]
    },
    {
     "name": "stderr",
     "output_type": "stream",
     "text": [
      "/home/austinbaggetta/csstorage3/CircleTrack/CircleTrackAnalysis/place_cells.py:44: RuntimeWarning: invalid value encountered in divide\n",
      "  velocity = dists / np.diff(t, prepend = 0) ## in seconds\n",
      "/home/austinbaggetta/csstorage3/CircleTrack/CircleTrackAnalysis/place_cells.py:392: RuntimeWarning: invalid value encountered in divide\n",
      "  pf = pf / self.data[\"occupancy_map\"]\n"
     ]
    },
    {
     "name": "stdout",
     "output_type": "stream",
     "text": [
      "Doing shuffle tests. This may take a while.\n"
     ]
    },
    {
     "name": "stderr",
     "output_type": "stream",
     "text": [
      "/home/austinbaggetta/csstorage3/CircleTrack/CircleTrackAnalysis/place_cells.py:44: RuntimeWarning: invalid value encountered in divide\n",
      "  velocity = dists / np.diff(t, prepend = 0) ## in seconds\n",
      "/home/austinbaggetta/csstorage3/CircleTrack/CircleTrackAnalysis/place_cells.py:392: RuntimeWarning: invalid value encountered in divide\n",
      "  pf = pf / self.data[\"occupancy_map\"]\n"
     ]
    },
    {
     "name": "stdout",
     "output_type": "stream",
     "text": [
      "Doing shuffle tests. This may take a while.\n"
     ]
    },
    {
     "name": "stderr",
     "output_type": "stream",
     "text": [
      "/home/austinbaggetta/csstorage3/CircleTrack/CircleTrackAnalysis/place_cells.py:44: RuntimeWarning: invalid value encountered in divide\n",
      "  velocity = dists / np.diff(t, prepend = 0) ## in seconds\n",
      "/home/austinbaggetta/csstorage3/CircleTrack/CircleTrackAnalysis/place_cells.py:392: RuntimeWarning: invalid value encountered in divide\n",
      "  pf = pf / self.data[\"occupancy_map\"]\n"
     ]
    },
    {
     "name": "stdout",
     "output_type": "stream",
     "text": [
      "Doing shuffle tests. This may take a while.\n"
     ]
    },
    {
     "name": "stderr",
     "output_type": "stream",
     "text": [
      "/home/austinbaggetta/csstorage3/CircleTrack/CircleTrackAnalysis/place_cells.py:44: RuntimeWarning: invalid value encountered in divide\n",
      "  velocity = dists / np.diff(t, prepend = 0) ## in seconds\n",
      "/home/austinbaggetta/csstorage3/CircleTrack/CircleTrackAnalysis/place_cells.py:392: RuntimeWarning: invalid value encountered in divide\n",
      "  pf = pf / self.data[\"occupancy_map\"]\n"
     ]
    },
    {
     "name": "stdout",
     "output_type": "stream",
     "text": [
      "Doing shuffle tests. This may take a while.\n"
     ]
    },
    {
     "name": "stderr",
     "output_type": "stream",
     "text": [
      "/home/austinbaggetta/csstorage3/CircleTrack/CircleTrackAnalysis/place_cells.py:44: RuntimeWarning: invalid value encountered in divide\n",
      "  velocity = dists / np.diff(t, prepend = 0) ## in seconds\n",
      "/home/austinbaggetta/csstorage3/CircleTrack/CircleTrackAnalysis/place_cells.py:392: RuntimeWarning: invalid value encountered in divide\n",
      "  pf = pf / self.data[\"occupancy_map\"]\n"
     ]
    },
    {
     "name": "stdout",
     "output_type": "stream",
     "text": [
      "Doing shuffle tests. This may take a while.\n"
     ]
    },
    {
     "name": "stderr",
     "output_type": "stream",
     "text": [
      "/home/austinbaggetta/csstorage3/CircleTrack/CircleTrackAnalysis/place_cells.py:44: RuntimeWarning: invalid value encountered in divide\n",
      "  velocity = dists / np.diff(t, prepend = 0) ## in seconds\n",
      "/home/austinbaggetta/csstorage3/CircleTrack/CircleTrackAnalysis/place_cells.py:392: RuntimeWarning: invalid value encountered in divide\n",
      "  pf = pf / self.data[\"occupancy_map\"]\n"
     ]
    },
    {
     "name": "stdout",
     "output_type": "stream",
     "text": [
      "Doing shuffle tests. This may take a while.\n"
     ]
    },
    {
     "name": "stderr",
     "output_type": "stream",
     "text": [
      "/home/austinbaggetta/csstorage3/CircleTrack/CircleTrackAnalysis/place_cells.py:44: RuntimeWarning: invalid value encountered in divide\n",
      "  velocity = dists / np.diff(t, prepend = 0) ## in seconds\n",
      "/home/austinbaggetta/csstorage3/CircleTrack/CircleTrackAnalysis/place_cells.py:392: RuntimeWarning: invalid value encountered in divide\n",
      "  pf = pf / self.data[\"occupancy_map\"]\n"
     ]
    },
    {
     "name": "stdout",
     "output_type": "stream",
     "text": [
      "Doing shuffle tests. This may take a while.\n"
     ]
    },
    {
     "name": "stderr",
     "output_type": "stream",
     "text": [
      "/home/austinbaggetta/csstorage3/CircleTrack/CircleTrackAnalysis/place_cells.py:44: RuntimeWarning: invalid value encountered in divide\n",
      "  velocity = dists / np.diff(t, prepend = 0) ## in seconds\n",
      "/home/austinbaggetta/csstorage3/CircleTrack/CircleTrackAnalysis/place_cells.py:392: RuntimeWarning: invalid value encountered in divide\n",
      "  pf = pf / self.data[\"occupancy_map\"]\n"
     ]
    },
    {
     "name": "stdout",
     "output_type": "stream",
     "text": [
      "Doing shuffle tests. This may take a while.\n"
     ]
    },
    {
     "name": "stderr",
     "output_type": "stream",
     "text": [
      "/home/austinbaggetta/csstorage3/CircleTrack/CircleTrackAnalysis/place_cells.py:44: RuntimeWarning: invalid value encountered in divide\n",
      "  velocity = dists / np.diff(t, prepend = 0) ## in seconds\n",
      "/home/austinbaggetta/csstorage3/CircleTrack/CircleTrackAnalysis/place_cells.py:392: RuntimeWarning: invalid value encountered in divide\n",
      "  pf = pf / self.data[\"occupancy_map\"]\n"
     ]
    },
    {
     "name": "stdout",
     "output_type": "stream",
     "text": [
      "Doing shuffle tests. This may take a while.\n"
     ]
    },
    {
     "name": "stderr",
     "output_type": "stream",
     "text": [
      "/home/austinbaggetta/csstorage3/CircleTrack/CircleTrackAnalysis/place_cells.py:44: RuntimeWarning: invalid value encountered in divide\n",
      "  velocity = dists / np.diff(t, prepend = 0) ## in seconds\n",
      "/home/austinbaggetta/csstorage3/CircleTrack/CircleTrackAnalysis/place_cells.py:392: RuntimeWarning: invalid value encountered in divide\n",
      "  pf = pf / self.data[\"occupancy_map\"]\n"
     ]
    },
    {
     "name": "stdout",
     "output_type": "stream",
     "text": [
      "Doing shuffle tests. This may take a while.\n"
     ]
    },
    {
     "name": "stderr",
     "output_type": "stream",
     "text": [
      "/home/austinbaggetta/csstorage3/CircleTrack/CircleTrackAnalysis/place_cells.py:44: RuntimeWarning: invalid value encountered in divide\n",
      "  velocity = dists / np.diff(t, prepend = 0) ## in seconds\n",
      "/home/austinbaggetta/csstorage3/CircleTrack/CircleTrackAnalysis/place_cells.py:392: RuntimeWarning: invalid value encountered in divide\n",
      "  pf = pf / self.data[\"occupancy_map\"]\n"
     ]
    },
    {
     "name": "stdout",
     "output_type": "stream",
     "text": [
      "Doing shuffle tests. This may take a while.\n"
     ]
    },
    {
     "name": "stderr",
     "output_type": "stream",
     "text": [
      "/home/austinbaggetta/csstorage3/CircleTrack/CircleTrackAnalysis/place_cells.py:44: RuntimeWarning: invalid value encountered in divide\n",
      "  velocity = dists / np.diff(t, prepend = 0) ## in seconds\n",
      "/home/austinbaggetta/csstorage3/CircleTrack/CircleTrackAnalysis/place_cells.py:392: RuntimeWarning: invalid value encountered in divide\n",
      "  pf = pf / self.data[\"occupancy_map\"]\n"
     ]
    },
    {
     "name": "stdout",
     "output_type": "stream",
     "text": [
      "Doing shuffle tests. This may take a while.\n"
     ]
    },
    {
     "name": "stderr",
     "output_type": "stream",
     "text": [
      "/home/austinbaggetta/csstorage3/CircleTrack/CircleTrackAnalysis/place_cells.py:44: RuntimeWarning: invalid value encountered in divide\n",
      "  velocity = dists / np.diff(t, prepend = 0) ## in seconds\n",
      "/home/austinbaggetta/csstorage3/CircleTrack/CircleTrackAnalysis/place_cells.py:392: RuntimeWarning: invalid value encountered in divide\n",
      "  pf = pf / self.data[\"occupancy_map\"]\n"
     ]
    },
    {
     "name": "stdout",
     "output_type": "stream",
     "text": [
      "Doing shuffle tests. This may take a while.\n"
     ]
    },
    {
     "name": "stderr",
     "output_type": "stream",
     "text": [
      "/home/austinbaggetta/csstorage3/CircleTrack/CircleTrackAnalysis/place_cells.py:44: RuntimeWarning: invalid value encountered in divide\n",
      "  velocity = dists / np.diff(t, prepend = 0) ## in seconds\n",
      "/home/austinbaggetta/csstorage3/CircleTrack/CircleTrackAnalysis/place_cells.py:392: RuntimeWarning: invalid value encountered in divide\n",
      "  pf = pf / self.data[\"occupancy_map\"]\n"
     ]
    },
    {
     "name": "stdout",
     "output_type": "stream",
     "text": [
      "Doing shuffle tests. This may take a while.\n"
     ]
    },
    {
     "name": "stderr",
     "output_type": "stream",
     "text": [
      "/home/austinbaggetta/csstorage3/CircleTrack/CircleTrackAnalysis/place_cells.py:44: RuntimeWarning: invalid value encountered in divide\n",
      "  velocity = dists / np.diff(t, prepend = 0) ## in seconds\n",
      "/home/austinbaggetta/csstorage3/CircleTrack/CircleTrackAnalysis/place_cells.py:392: RuntimeWarning: invalid value encountered in divide\n",
      "  pf = pf / self.data[\"occupancy_map\"]\n"
     ]
    },
    {
     "name": "stdout",
     "output_type": "stream",
     "text": [
      "Doing shuffle tests. This may take a while.\n"
     ]
    },
    {
     "name": "stderr",
     "output_type": "stream",
     "text": [
      "/home/austinbaggetta/csstorage3/CircleTrack/CircleTrackAnalysis/place_cells.py:44: RuntimeWarning: invalid value encountered in divide\n",
      "  velocity = dists / np.diff(t, prepend = 0) ## in seconds\n",
      "/home/austinbaggetta/csstorage3/CircleTrack/CircleTrackAnalysis/place_cells.py:392: RuntimeWarning: invalid value encountered in divide\n",
      "  pf = pf / self.data[\"occupancy_map\"]\n"
     ]
    },
    {
     "name": "stdout",
     "output_type": "stream",
     "text": [
      "Doing shuffle tests. This may take a while.\n"
     ]
    },
    {
     "name": "stderr",
     "output_type": "stream",
     "text": [
      "/home/austinbaggetta/csstorage3/CircleTrack/CircleTrackAnalysis/place_cells.py:44: RuntimeWarning: invalid value encountered in divide\n",
      "  velocity = dists / np.diff(t, prepend = 0) ## in seconds\n",
      "/home/austinbaggetta/csstorage3/CircleTrack/CircleTrackAnalysis/place_cells.py:392: RuntimeWarning: invalid value encountered in divide\n",
      "  pf = pf / self.data[\"occupancy_map\"]\n"
     ]
    },
    {
     "name": "stdout",
     "output_type": "stream",
     "text": [
      "Doing shuffle tests. This may take a while.\n"
     ]
    },
    {
     "name": "stderr",
     "output_type": "stream",
     "text": [
      "/home/austinbaggetta/csstorage3/CircleTrack/CircleTrackAnalysis/place_cells.py:44: RuntimeWarning: invalid value encountered in divide\n",
      "  velocity = dists / np.diff(t, prepend = 0) ## in seconds\n",
      "/home/austinbaggetta/csstorage3/CircleTrack/CircleTrackAnalysis/place_cells.py:392: RuntimeWarning: invalid value encountered in divide\n",
      "  pf = pf / self.data[\"occupancy_map\"]\n"
     ]
    },
    {
     "name": "stdout",
     "output_type": "stream",
     "text": [
      "Doing shuffle tests. This may take a while.\n"
     ]
    },
    {
     "name": "stderr",
     "output_type": "stream",
     "text": [
      "/home/austinbaggetta/csstorage3/CircleTrack/CircleTrackAnalysis/place_cells.py:44: RuntimeWarning: invalid value encountered in divide\n",
      "  velocity = dists / np.diff(t, prepend = 0) ## in seconds\n",
      "/home/austinbaggetta/csstorage3/CircleTrack/CircleTrackAnalysis/place_cells.py:392: RuntimeWarning: invalid value encountered in divide\n",
      "  pf = pf / self.data[\"occupancy_map\"]\n"
     ]
    },
    {
     "name": "stdout",
     "output_type": "stream",
     "text": [
      "Doing shuffle tests. This may take a while.\n"
     ]
    },
    {
     "name": "stderr",
     "output_type": "stream",
     "text": [
      "/home/austinbaggetta/csstorage3/CircleTrack/CircleTrackAnalysis/place_cells.py:44: RuntimeWarning: invalid value encountered in divide\n",
      "  velocity = dists / np.diff(t, prepend = 0) ## in seconds\n",
      "/home/austinbaggetta/csstorage3/CircleTrack/CircleTrackAnalysis/place_cells.py:392: RuntimeWarning: invalid value encountered in divide\n",
      "  pf = pf / self.data[\"occupancy_map\"]\n"
     ]
    },
    {
     "name": "stdout",
     "output_type": "stream",
     "text": [
      "Doing shuffle tests. This may take a while.\n"
     ]
    },
    {
     "name": "stderr",
     "output_type": "stream",
     "text": [
      "/home/austinbaggetta/csstorage3/CircleTrack/CircleTrackAnalysis/place_cells.py:44: RuntimeWarning: invalid value encountered in divide\n",
      "  velocity = dists / np.diff(t, prepend = 0) ## in seconds\n",
      "/home/austinbaggetta/csstorage3/CircleTrack/CircleTrackAnalysis/place_cells.py:392: RuntimeWarning: invalid value encountered in divide\n",
      "  pf = pf / self.data[\"occupancy_map\"]\n"
     ]
    },
    {
     "name": "stdout",
     "output_type": "stream",
     "text": [
      "Doing shuffle tests. This may take a while.\n"
     ]
    },
    {
     "name": "stderr",
     "output_type": "stream",
     "text": [
      "/home/austinbaggetta/csstorage3/CircleTrack/CircleTrackAnalysis/place_cells.py:44: RuntimeWarning: invalid value encountered in divide\n",
      "  velocity = dists / np.diff(t, prepend = 0) ## in seconds\n",
      "/home/austinbaggetta/csstorage3/CircleTrack/CircleTrackAnalysis/place_cells.py:392: RuntimeWarning: invalid value encountered in divide\n",
      "  pf = pf / self.data[\"occupancy_map\"]\n"
     ]
    },
    {
     "name": "stdout",
     "output_type": "stream",
     "text": [
      "Doing shuffle tests. This may take a while.\n"
     ]
    },
    {
     "name": "stderr",
     "output_type": "stream",
     "text": [
      "/home/austinbaggetta/csstorage3/CircleTrack/CircleTrackAnalysis/place_cells.py:44: RuntimeWarning: invalid value encountered in divide\n",
      "  velocity = dists / np.diff(t, prepend = 0) ## in seconds\n",
      "/home/austinbaggetta/csstorage3/CircleTrack/CircleTrackAnalysis/place_cells.py:392: RuntimeWarning: invalid value encountered in divide\n",
      "  pf = pf / self.data[\"occupancy_map\"]\n"
     ]
    },
    {
     "name": "stdout",
     "output_type": "stream",
     "text": [
      "Doing shuffle tests. This may take a while.\n"
     ]
    },
    {
     "name": "stderr",
     "output_type": "stream",
     "text": [
      "/home/austinbaggetta/csstorage3/CircleTrack/CircleTrackAnalysis/place_cells.py:44: RuntimeWarning: invalid value encountered in divide\n",
      "  velocity = dists / np.diff(t, prepend = 0) ## in seconds\n",
      "/home/austinbaggetta/csstorage3/CircleTrack/CircleTrackAnalysis/place_cells.py:392: RuntimeWarning: invalid value encountered in divide\n",
      "  pf = pf / self.data[\"occupancy_map\"]\n"
     ]
    },
    {
     "name": "stdout",
     "output_type": "stream",
     "text": [
      "Doing shuffle tests. This may take a while.\n"
     ]
    },
    {
     "name": "stderr",
     "output_type": "stream",
     "text": [
      "/home/austinbaggetta/csstorage3/CircleTrack/CircleTrackAnalysis/place_cells.py:44: RuntimeWarning: invalid value encountered in divide\n",
      "  velocity = dists / np.diff(t, prepend = 0) ## in seconds\n",
      "/home/austinbaggetta/csstorage3/CircleTrack/CircleTrackAnalysis/place_cells.py:392: RuntimeWarning: invalid value encountered in divide\n",
      "  pf = pf / self.data[\"occupancy_map\"]\n"
     ]
    },
    {
     "name": "stdout",
     "output_type": "stream",
     "text": [
      "Doing shuffle tests. This may take a while.\n"
     ]
    },
    {
     "name": "stderr",
     "output_type": "stream",
     "text": [
      "/home/austinbaggetta/csstorage3/CircleTrack/CircleTrackAnalysis/place_cells.py:44: RuntimeWarning: invalid value encountered in divide\n",
      "  velocity = dists / np.diff(t, prepend = 0) ## in seconds\n",
      "/home/austinbaggetta/csstorage3/CircleTrack/CircleTrackAnalysis/place_cells.py:392: RuntimeWarning: invalid value encountered in divide\n",
      "  pf = pf / self.data[\"occupancy_map\"]\n"
     ]
    },
    {
     "name": "stdout",
     "output_type": "stream",
     "text": [
      "Doing shuffle tests. This may take a while.\n"
     ]
    },
    {
     "name": "stderr",
     "output_type": "stream",
     "text": [
      "/home/austinbaggetta/csstorage3/CircleTrack/CircleTrackAnalysis/place_cells.py:44: RuntimeWarning: invalid value encountered in divide\n",
      "  velocity = dists / np.diff(t, prepend = 0) ## in seconds\n",
      "/home/austinbaggetta/csstorage3/CircleTrack/CircleTrackAnalysis/place_cells.py:392: RuntimeWarning: invalid value encountered in divide\n",
      "  pf = pf / self.data[\"occupancy_map\"]\n"
     ]
    },
    {
     "name": "stdout",
     "output_type": "stream",
     "text": [
      "Doing shuffle tests. This may take a while.\n"
     ]
    },
    {
     "name": "stderr",
     "output_type": "stream",
     "text": [
      "/home/austinbaggetta/csstorage3/CircleTrack/CircleTrackAnalysis/place_cells.py:44: RuntimeWarning: invalid value encountered in divide\n",
      "  velocity = dists / np.diff(t, prepend = 0) ## in seconds\n",
      "/home/austinbaggetta/csstorage3/CircleTrack/CircleTrackAnalysis/place_cells.py:392: RuntimeWarning: invalid value encountered in divide\n",
      "  pf = pf / self.data[\"occupancy_map\"]\n"
     ]
    },
    {
     "name": "stdout",
     "output_type": "stream",
     "text": [
      "Doing shuffle tests. This may take a while.\n"
     ]
    },
    {
     "name": "stderr",
     "output_type": "stream",
     "text": [
      "/home/austinbaggetta/csstorage3/CircleTrack/CircleTrackAnalysis/place_cells.py:44: RuntimeWarning: invalid value encountered in divide\n",
      "  velocity = dists / np.diff(t, prepend = 0) ## in seconds\n",
      "/home/austinbaggetta/csstorage3/CircleTrack/CircleTrackAnalysis/place_cells.py:392: RuntimeWarning: invalid value encountered in divide\n",
      "  pf = pf / self.data[\"occupancy_map\"]\n"
     ]
    },
    {
     "name": "stdout",
     "output_type": "stream",
     "text": [
      "Doing shuffle tests. This may take a while.\n"
     ]
    },
    {
     "name": "stderr",
     "output_type": "stream",
     "text": [
      "/home/austinbaggetta/csstorage3/CircleTrack/CircleTrackAnalysis/place_cells.py:44: RuntimeWarning: invalid value encountered in divide\n",
      "  velocity = dists / np.diff(t, prepend = 0) ## in seconds\n",
      "/home/austinbaggetta/csstorage3/CircleTrack/CircleTrackAnalysis/place_cells.py:392: RuntimeWarning: invalid value encountered in divide\n",
      "  pf = pf / self.data[\"occupancy_map\"]\n"
     ]
    },
    {
     "name": "stdout",
     "output_type": "stream",
     "text": [
      "Doing shuffle tests. This may take a while.\n"
     ]
    },
    {
     "name": "stderr",
     "output_type": "stream",
     "text": [
      "/home/austinbaggetta/csstorage3/CircleTrack/CircleTrackAnalysis/place_cells.py:44: RuntimeWarning: invalid value encountered in divide\n",
      "  velocity = dists / np.diff(t, prepend = 0) ## in seconds\n",
      "/home/austinbaggetta/csstorage3/CircleTrack/CircleTrackAnalysis/place_cells.py:392: RuntimeWarning: invalid value encountered in divide\n",
      "  pf = pf / self.data[\"occupancy_map\"]\n"
     ]
    },
    {
     "name": "stdout",
     "output_type": "stream",
     "text": [
      "Doing shuffle tests. This may take a while.\n"
     ]
    },
    {
     "name": "stderr",
     "output_type": "stream",
     "text": [
      "/home/austinbaggetta/csstorage3/CircleTrack/CircleTrackAnalysis/place_cells.py:44: RuntimeWarning: invalid value encountered in divide\n",
      "  velocity = dists / np.diff(t, prepend = 0) ## in seconds\n",
      "/home/austinbaggetta/csstorage3/CircleTrack/CircleTrackAnalysis/place_cells.py:392: RuntimeWarning: invalid value encountered in divide\n",
      "  pf = pf / self.data[\"occupancy_map\"]\n"
     ]
    },
    {
     "name": "stdout",
     "output_type": "stream",
     "text": [
      "Doing shuffle tests. This may take a while.\n"
     ]
    },
    {
     "name": "stderr",
     "output_type": "stream",
     "text": [
      "/home/austinbaggetta/csstorage3/CircleTrack/CircleTrackAnalysis/place_cells.py:44: RuntimeWarning: invalid value encountered in divide\n",
      "  velocity = dists / np.diff(t, prepend = 0) ## in seconds\n",
      "/home/austinbaggetta/csstorage3/CircleTrack/CircleTrackAnalysis/place_cells.py:392: RuntimeWarning: invalid value encountered in divide\n",
      "  pf = pf / self.data[\"occupancy_map\"]\n"
     ]
    },
    {
     "name": "stdout",
     "output_type": "stream",
     "text": [
      "Doing shuffle tests. This may take a while.\n"
     ]
    },
    {
     "name": "stderr",
     "output_type": "stream",
     "text": [
      "/home/austinbaggetta/csstorage3/CircleTrack/CircleTrackAnalysis/place_cells.py:44: RuntimeWarning: invalid value encountered in divide\n",
      "  velocity = dists / np.diff(t, prepend = 0) ## in seconds\n",
      "/home/austinbaggetta/csstorage3/CircleTrack/CircleTrackAnalysis/place_cells.py:392: RuntimeWarning: invalid value encountered in divide\n",
      "  pf = pf / self.data[\"occupancy_map\"]\n"
     ]
    },
    {
     "name": "stdout",
     "output_type": "stream",
     "text": [
      "Doing shuffle tests. This may take a while.\n"
     ]
    },
    {
     "name": "stderr",
     "output_type": "stream",
     "text": [
      "/home/austinbaggetta/csstorage3/CircleTrack/CircleTrackAnalysis/place_cells.py:44: RuntimeWarning: invalid value encountered in divide\n",
      "  velocity = dists / np.diff(t, prepend = 0) ## in seconds\n",
      "/home/austinbaggetta/csstorage3/CircleTrack/CircleTrackAnalysis/place_cells.py:392: RuntimeWarning: invalid value encountered in divide\n",
      "  pf = pf / self.data[\"occupancy_map\"]\n"
     ]
    },
    {
     "name": "stdout",
     "output_type": "stream",
     "text": [
      "Doing shuffle tests. This may take a while.\n"
     ]
    },
    {
     "name": "stderr",
     "output_type": "stream",
     "text": [
      "/home/austinbaggetta/csstorage3/CircleTrack/CircleTrackAnalysis/place_cells.py:44: RuntimeWarning: invalid value encountered in divide\n",
      "  velocity = dists / np.diff(t, prepend = 0) ## in seconds\n",
      "/home/austinbaggetta/csstorage3/CircleTrack/CircleTrackAnalysis/place_cells.py:392: RuntimeWarning: invalid value encountered in divide\n",
      "  pf = pf / self.data[\"occupancy_map\"]\n"
     ]
    },
    {
     "name": "stdout",
     "output_type": "stream",
     "text": [
      "Doing shuffle tests. This may take a while.\n"
     ]
    },
    {
     "name": "stderr",
     "output_type": "stream",
     "text": [
      "/home/austinbaggetta/csstorage3/CircleTrack/CircleTrackAnalysis/place_cells.py:44: RuntimeWarning: invalid value encountered in divide\n",
      "  velocity = dists / np.diff(t, prepend = 0) ## in seconds\n",
      "/home/austinbaggetta/csstorage3/CircleTrack/CircleTrackAnalysis/place_cells.py:392: RuntimeWarning: invalid value encountered in divide\n",
      "  pf = pf / self.data[\"occupancy_map\"]\n"
     ]
    },
    {
     "name": "stdout",
     "output_type": "stream",
     "text": [
      "Doing shuffle tests. This may take a while.\n"
     ]
    },
    {
     "name": "stderr",
     "output_type": "stream",
     "text": [
      "/home/austinbaggetta/csstorage3/CircleTrack/CircleTrackAnalysis/place_cells.py:44: RuntimeWarning: invalid value encountered in divide\n",
      "  velocity = dists / np.diff(t, prepend = 0) ## in seconds\n",
      "/home/austinbaggetta/csstorage3/CircleTrack/CircleTrackAnalysis/place_cells.py:392: RuntimeWarning: invalid value encountered in divide\n",
      "  pf = pf / self.data[\"occupancy_map\"]\n"
     ]
    },
    {
     "name": "stdout",
     "output_type": "stream",
     "text": [
      "Doing shuffle tests. This may take a while.\n"
     ]
    },
    {
     "name": "stderr",
     "output_type": "stream",
     "text": [
      "/home/austinbaggetta/csstorage3/CircleTrack/CircleTrackAnalysis/place_cells.py:44: RuntimeWarning: invalid value encountered in divide\n",
      "  velocity = dists / np.diff(t, prepend = 0) ## in seconds\n",
      "/home/austinbaggetta/csstorage3/CircleTrack/CircleTrackAnalysis/place_cells.py:392: RuntimeWarning: invalid value encountered in divide\n",
      "  pf = pf / self.data[\"occupancy_map\"]\n"
     ]
    },
    {
     "name": "stdout",
     "output_type": "stream",
     "text": [
      "Doing shuffle tests. This may take a while.\n"
     ]
    },
    {
     "name": "stderr",
     "output_type": "stream",
     "text": [
      "/home/austinbaggetta/csstorage3/CircleTrack/CircleTrackAnalysis/place_cells.py:44: RuntimeWarning: invalid value encountered in divide\n",
      "  velocity = dists / np.diff(t, prepend = 0) ## in seconds\n",
      "/home/austinbaggetta/csstorage3/CircleTrack/CircleTrackAnalysis/place_cells.py:392: RuntimeWarning: invalid value encountered in divide\n",
      "  pf = pf / self.data[\"occupancy_map\"]\n"
     ]
    },
    {
     "name": "stdout",
     "output_type": "stream",
     "text": [
      "Doing shuffle tests. This may take a while.\n"
     ]
    },
    {
     "name": "stderr",
     "output_type": "stream",
     "text": [
      "/home/austinbaggetta/csstorage3/CircleTrack/CircleTrackAnalysis/place_cells.py:44: RuntimeWarning: invalid value encountered in divide\n",
      "  velocity = dists / np.diff(t, prepend = 0) ## in seconds\n",
      "/home/austinbaggetta/csstorage3/CircleTrack/CircleTrackAnalysis/place_cells.py:392: RuntimeWarning: invalid value encountered in divide\n",
      "  pf = pf / self.data[\"occupancy_map\"]\n"
     ]
    },
    {
     "name": "stdout",
     "output_type": "stream",
     "text": [
      "Doing shuffle tests. This may take a while.\n"
     ]
    },
    {
     "name": "stderr",
     "output_type": "stream",
     "text": [
      "/home/austinbaggetta/csstorage3/CircleTrack/CircleTrackAnalysis/place_cells.py:44: RuntimeWarning: invalid value encountered in divide\n",
      "  velocity = dists / np.diff(t, prepend = 0) ## in seconds\n",
      "/home/austinbaggetta/csstorage3/CircleTrack/CircleTrackAnalysis/place_cells.py:392: RuntimeWarning: invalid value encountered in divide\n",
      "  pf = pf / self.data[\"occupancy_map\"]\n"
     ]
    },
    {
     "name": "stdout",
     "output_type": "stream",
     "text": [
      "Doing shuffle tests. This may take a while.\n"
     ]
    },
    {
     "name": "stderr",
     "output_type": "stream",
     "text": [
      "/home/austinbaggetta/csstorage3/CircleTrack/CircleTrackAnalysis/place_cells.py:44: RuntimeWarning: invalid value encountered in divide\n",
      "  velocity = dists / np.diff(t, prepend = 0) ## in seconds\n",
      "/home/austinbaggetta/csstorage3/CircleTrack/CircleTrackAnalysis/place_cells.py:392: RuntimeWarning: invalid value encountered in divide\n",
      "  pf = pf / self.data[\"occupancy_map\"]\n"
     ]
    },
    {
     "name": "stdout",
     "output_type": "stream",
     "text": [
      "Doing shuffle tests. This may take a while.\n"
     ]
    },
    {
     "name": "stderr",
     "output_type": "stream",
     "text": [
      "/home/austinbaggetta/csstorage3/CircleTrack/CircleTrackAnalysis/place_cells.py:44: RuntimeWarning: invalid value encountered in divide\n",
      "  velocity = dists / np.diff(t, prepend = 0) ## in seconds\n",
      "/home/austinbaggetta/csstorage3/CircleTrack/CircleTrackAnalysis/place_cells.py:392: RuntimeWarning: invalid value encountered in divide\n",
      "  pf = pf / self.data[\"occupancy_map\"]\n"
     ]
    },
    {
     "name": "stdout",
     "output_type": "stream",
     "text": [
      "Doing shuffle tests. This may take a while.\n"
     ]
    },
    {
     "name": "stderr",
     "output_type": "stream",
     "text": [
      "/home/austinbaggetta/csstorage3/CircleTrack/CircleTrackAnalysis/place_cells.py:44: RuntimeWarning: invalid value encountered in divide\n",
      "  velocity = dists / np.diff(t, prepend = 0) ## in seconds\n",
      "/home/austinbaggetta/csstorage3/CircleTrack/CircleTrackAnalysis/place_cells.py:392: RuntimeWarning: invalid value encountered in divide\n",
      "  pf = pf / self.data[\"occupancy_map\"]\n"
     ]
    },
    {
     "name": "stdout",
     "output_type": "stream",
     "text": [
      "Doing shuffle tests. This may take a while.\n"
     ]
    },
    {
     "name": "stderr",
     "output_type": "stream",
     "text": [
      "/home/austinbaggetta/csstorage3/CircleTrack/CircleTrackAnalysis/place_cells.py:44: RuntimeWarning: invalid value encountered in divide\n",
      "  velocity = dists / np.diff(t, prepend = 0) ## in seconds\n",
      "/home/austinbaggetta/csstorage3/CircleTrack/CircleTrackAnalysis/place_cells.py:392: RuntimeWarning: invalid value encountered in divide\n",
      "  pf = pf / self.data[\"occupancy_map\"]\n"
     ]
    },
    {
     "name": "stdout",
     "output_type": "stream",
     "text": [
      "Doing shuffle tests. This may take a while.\n"
     ]
    },
    {
     "name": "stderr",
     "output_type": "stream",
     "text": [
      "/home/austinbaggetta/csstorage3/CircleTrack/CircleTrackAnalysis/place_cells.py:44: RuntimeWarning: invalid value encountered in divide\n",
      "  velocity = dists / np.diff(t, prepend = 0) ## in seconds\n",
      "/home/austinbaggetta/csstorage3/CircleTrack/CircleTrackAnalysis/place_cells.py:392: RuntimeWarning: invalid value encountered in divide\n",
      "  pf = pf / self.data[\"occupancy_map\"]\n"
     ]
    },
    {
     "name": "stdout",
     "output_type": "stream",
     "text": [
      "Doing shuffle tests. This may take a while.\n"
     ]
    },
    {
     "name": "stderr",
     "output_type": "stream",
     "text": [
      "/home/austinbaggetta/csstorage3/CircleTrack/CircleTrackAnalysis/place_cells.py:44: RuntimeWarning: invalid value encountered in divide\n",
      "  velocity = dists / np.diff(t, prepend = 0) ## in seconds\n",
      "/home/austinbaggetta/csstorage3/CircleTrack/CircleTrackAnalysis/place_cells.py:392: RuntimeWarning: invalid value encountered in divide\n",
      "  pf = pf / self.data[\"occupancy_map\"]\n"
     ]
    },
    {
     "name": "stdout",
     "output_type": "stream",
     "text": [
      "Doing shuffle tests. This may take a while.\n"
     ]
    },
    {
     "name": "stderr",
     "output_type": "stream",
     "text": [
      "/home/austinbaggetta/csstorage3/CircleTrack/CircleTrackAnalysis/place_cells.py:44: RuntimeWarning: invalid value encountered in divide\n",
      "  velocity = dists / np.diff(t, prepend = 0) ## in seconds\n",
      "/home/austinbaggetta/csstorage3/CircleTrack/CircleTrackAnalysis/place_cells.py:392: RuntimeWarning: invalid value encountered in divide\n",
      "  pf = pf / self.data[\"occupancy_map\"]\n"
     ]
    },
    {
     "name": "stdout",
     "output_type": "stream",
     "text": [
      "Doing shuffle tests. This may take a while.\n"
     ]
    },
    {
     "name": "stderr",
     "output_type": "stream",
     "text": [
      "/home/austinbaggetta/csstorage3/CircleTrack/CircleTrackAnalysis/place_cells.py:44: RuntimeWarning: invalid value encountered in divide\n",
      "  velocity = dists / np.diff(t, prepend = 0) ## in seconds\n",
      "/home/austinbaggetta/csstorage3/CircleTrack/CircleTrackAnalysis/place_cells.py:392: RuntimeWarning: invalid value encountered in divide\n",
      "  pf = pf / self.data[\"occupancy_map\"]\n"
     ]
    },
    {
     "name": "stdout",
     "output_type": "stream",
     "text": [
      "Doing shuffle tests. This may take a while.\n"
     ]
    },
    {
     "name": "stderr",
     "output_type": "stream",
     "text": [
      "/home/austinbaggetta/csstorage3/CircleTrack/CircleTrackAnalysis/place_cells.py:44: RuntimeWarning: invalid value encountered in divide\n",
      "  velocity = dists / np.diff(t, prepend = 0) ## in seconds\n",
      "/home/austinbaggetta/csstorage3/CircleTrack/CircleTrackAnalysis/place_cells.py:392: RuntimeWarning: invalid value encountered in divide\n",
      "  pf = pf / self.data[\"occupancy_map\"]\n"
     ]
    },
    {
     "name": "stdout",
     "output_type": "stream",
     "text": [
      "Doing shuffle tests. This may take a while.\n"
     ]
    },
    {
     "name": "stderr",
     "output_type": "stream",
     "text": [
      "/home/austinbaggetta/csstorage3/CircleTrack/CircleTrackAnalysis/place_cells.py:44: RuntimeWarning: invalid value encountered in divide\n",
      "  velocity = dists / np.diff(t, prepend = 0) ## in seconds\n",
      "/home/austinbaggetta/csstorage3/CircleTrack/CircleTrackAnalysis/place_cells.py:392: RuntimeWarning: invalid value encountered in divide\n",
      "  pf = pf / self.data[\"occupancy_map\"]\n"
     ]
    },
    {
     "name": "stdout",
     "output_type": "stream",
     "text": [
      "Doing shuffle tests. This may take a while.\n"
     ]
    },
    {
     "name": "stderr",
     "output_type": "stream",
     "text": [
      "/home/austinbaggetta/csstorage3/CircleTrack/CircleTrackAnalysis/place_cells.py:44: RuntimeWarning: invalid value encountered in divide\n",
      "  velocity = dists / np.diff(t, prepend = 0) ## in seconds\n",
      "/home/austinbaggetta/csstorage3/CircleTrack/CircleTrackAnalysis/place_cells.py:392: RuntimeWarning: invalid value encountered in divide\n",
      "  pf = pf / self.data[\"occupancy_map\"]\n"
     ]
    },
    {
     "name": "stdout",
     "output_type": "stream",
     "text": [
      "Doing shuffle tests. This may take a while.\n"
     ]
    },
    {
     "name": "stderr",
     "output_type": "stream",
     "text": [
      "/home/austinbaggetta/csstorage3/CircleTrack/CircleTrackAnalysis/place_cells.py:44: RuntimeWarning: invalid value encountered in divide\n",
      "  velocity = dists / np.diff(t, prepend = 0) ## in seconds\n",
      "/home/austinbaggetta/csstorage3/CircleTrack/CircleTrackAnalysis/place_cells.py:392: RuntimeWarning: invalid value encountered in divide\n",
      "  pf = pf / self.data[\"occupancy_map\"]\n"
     ]
    },
    {
     "name": "stdout",
     "output_type": "stream",
     "text": [
      "Doing shuffle tests. This may take a while.\n"
     ]
    },
    {
     "name": "stderr",
     "output_type": "stream",
     "text": [
      "/home/austinbaggetta/csstorage3/CircleTrack/CircleTrackAnalysis/place_cells.py:44: RuntimeWarning: invalid value encountered in divide\n",
      "  velocity = dists / np.diff(t, prepend = 0) ## in seconds\n",
      "/home/austinbaggetta/csstorage3/CircleTrack/CircleTrackAnalysis/place_cells.py:392: RuntimeWarning: invalid value encountered in divide\n",
      "  pf = pf / self.data[\"occupancy_map\"]\n"
     ]
    },
    {
     "name": "stdout",
     "output_type": "stream",
     "text": [
      "Doing shuffle tests. This may take a while.\n"
     ]
    },
    {
     "name": "stderr",
     "output_type": "stream",
     "text": [
      "/home/austinbaggetta/csstorage3/CircleTrack/CircleTrackAnalysis/place_cells.py:44: RuntimeWarning: invalid value encountered in divide\n",
      "  velocity = dists / np.diff(t, prepend = 0) ## in seconds\n",
      "/home/austinbaggetta/csstorage3/CircleTrack/CircleTrackAnalysis/place_cells.py:392: RuntimeWarning: invalid value encountered in divide\n",
      "  pf = pf / self.data[\"occupancy_map\"]\n"
     ]
    },
    {
     "name": "stdout",
     "output_type": "stream",
     "text": [
      "Doing shuffle tests. This may take a while.\n"
     ]
    },
    {
     "name": "stderr",
     "output_type": "stream",
     "text": [
      "/home/austinbaggetta/csstorage3/CircleTrack/CircleTrackAnalysis/place_cells.py:44: RuntimeWarning: invalid value encountered in divide\n",
      "  velocity = dists / np.diff(t, prepend = 0) ## in seconds\n",
      "/home/austinbaggetta/csstorage3/CircleTrack/CircleTrackAnalysis/place_cells.py:392: RuntimeWarning: invalid value encountered in divide\n",
      "  pf = pf / self.data[\"occupancy_map\"]\n"
     ]
    },
    {
     "name": "stdout",
     "output_type": "stream",
     "text": [
      "Doing shuffle tests. This may take a while.\n"
     ]
    },
    {
     "name": "stderr",
     "output_type": "stream",
     "text": [
      "/home/austinbaggetta/csstorage3/CircleTrack/CircleTrackAnalysis/place_cells.py:44: RuntimeWarning: invalid value encountered in divide\n",
      "  velocity = dists / np.diff(t, prepend = 0) ## in seconds\n",
      "/home/austinbaggetta/csstorage3/CircleTrack/CircleTrackAnalysis/place_cells.py:392: RuntimeWarning: invalid value encountered in divide\n",
      "  pf = pf / self.data[\"occupancy_map\"]\n"
     ]
    },
    {
     "name": "stdout",
     "output_type": "stream",
     "text": [
      "Doing shuffle tests. This may take a while.\n"
     ]
    },
    {
     "name": "stderr",
     "output_type": "stream",
     "text": [
      "/home/austinbaggetta/csstorage3/CircleTrack/CircleTrackAnalysis/place_cells.py:44: RuntimeWarning: invalid value encountered in divide\n",
      "  velocity = dists / np.diff(t, prepend = 0) ## in seconds\n",
      "/home/austinbaggetta/csstorage3/CircleTrack/CircleTrackAnalysis/place_cells.py:392: RuntimeWarning: invalid value encountered in divide\n",
      "  pf = pf / self.data[\"occupancy_map\"]\n"
     ]
    },
    {
     "name": "stdout",
     "output_type": "stream",
     "text": [
      "Doing shuffle tests. This may take a while.\n"
     ]
    },
    {
     "name": "stderr",
     "output_type": "stream",
     "text": [
      "/home/austinbaggetta/csstorage3/CircleTrack/CircleTrackAnalysis/place_cells.py:44: RuntimeWarning: invalid value encountered in divide\n",
      "  velocity = dists / np.diff(t, prepend = 0) ## in seconds\n",
      "/home/austinbaggetta/csstorage3/CircleTrack/CircleTrackAnalysis/place_cells.py:392: RuntimeWarning: invalid value encountered in divide\n",
      "  pf = pf / self.data[\"occupancy_map\"]\n"
     ]
    },
    {
     "name": "stdout",
     "output_type": "stream",
     "text": [
      "Doing shuffle tests. This may take a while.\n"
     ]
    },
    {
     "name": "stderr",
     "output_type": "stream",
     "text": [
      "/home/austinbaggetta/csstorage3/CircleTrack/CircleTrackAnalysis/place_cells.py:44: RuntimeWarning: invalid value encountered in divide\n",
      "  velocity = dists / np.diff(t, prepend = 0) ## in seconds\n",
      "/home/austinbaggetta/csstorage3/CircleTrack/CircleTrackAnalysis/place_cells.py:392: RuntimeWarning: invalid value encountered in divide\n",
      "  pf = pf / self.data[\"occupancy_map\"]\n"
     ]
    },
    {
     "name": "stdout",
     "output_type": "stream",
     "text": [
      "Doing shuffle tests. This may take a while.\n"
     ]
    },
    {
     "name": "stderr",
     "output_type": "stream",
     "text": [
      "/home/austinbaggetta/csstorage3/CircleTrack/CircleTrackAnalysis/place_cells.py:44: RuntimeWarning: invalid value encountered in divide\n",
      "  velocity = dists / np.diff(t, prepend = 0) ## in seconds\n",
      "/home/austinbaggetta/csstorage3/CircleTrack/CircleTrackAnalysis/place_cells.py:392: RuntimeWarning: invalid value encountered in divide\n",
      "  pf = pf / self.data[\"occupancy_map\"]\n"
     ]
    },
    {
     "name": "stdout",
     "output_type": "stream",
     "text": [
      "Doing shuffle tests. This may take a while.\n"
     ]
    },
    {
     "name": "stderr",
     "output_type": "stream",
     "text": [
      "/home/austinbaggetta/csstorage3/CircleTrack/CircleTrackAnalysis/place_cells.py:44: RuntimeWarning: invalid value encountered in divide\n",
      "  velocity = dists / np.diff(t, prepend = 0) ## in seconds\n",
      "/home/austinbaggetta/csstorage3/CircleTrack/CircleTrackAnalysis/place_cells.py:392: RuntimeWarning: invalid value encountered in divide\n",
      "  pf = pf / self.data[\"occupancy_map\"]\n"
     ]
    },
    {
     "name": "stdout",
     "output_type": "stream",
     "text": [
      "Doing shuffle tests. This may take a while.\n"
     ]
    },
    {
     "name": "stderr",
     "output_type": "stream",
     "text": [
      "/home/austinbaggetta/csstorage3/CircleTrack/CircleTrackAnalysis/place_cells.py:44: RuntimeWarning: invalid value encountered in divide\n",
      "  velocity = dists / np.diff(t, prepend = 0) ## in seconds\n",
      "/home/austinbaggetta/csstorage3/CircleTrack/CircleTrackAnalysis/place_cells.py:392: RuntimeWarning: invalid value encountered in divide\n",
      "  pf = pf / self.data[\"occupancy_map\"]\n"
     ]
    },
    {
     "name": "stdout",
     "output_type": "stream",
     "text": [
      "Doing shuffle tests. This may take a while.\n"
     ]
    },
    {
     "name": "stderr",
     "output_type": "stream",
     "text": [
      "/home/austinbaggetta/csstorage3/CircleTrack/CircleTrackAnalysis/place_cells.py:44: RuntimeWarning: invalid value encountered in divide\n",
      "  velocity = dists / np.diff(t, prepend = 0) ## in seconds\n",
      "/home/austinbaggetta/csstorage3/CircleTrack/CircleTrackAnalysis/place_cells.py:392: RuntimeWarning: invalid value encountered in divide\n",
      "  pf = pf / self.data[\"occupancy_map\"]\n"
     ]
    },
    {
     "name": "stdout",
     "output_type": "stream",
     "text": [
      "Doing shuffle tests. This may take a while.\n"
     ]
    },
    {
     "name": "stderr",
     "output_type": "stream",
     "text": [
      "/home/austinbaggetta/csstorage3/CircleTrack/CircleTrackAnalysis/place_cells.py:44: RuntimeWarning: invalid value encountered in divide\n",
      "  velocity = dists / np.diff(t, prepend = 0) ## in seconds\n",
      "/home/austinbaggetta/csstorage3/CircleTrack/CircleTrackAnalysis/place_cells.py:392: RuntimeWarning: invalid value encountered in divide\n",
      "  pf = pf / self.data[\"occupancy_map\"]\n"
     ]
    },
    {
     "name": "stdout",
     "output_type": "stream",
     "text": [
      "Doing shuffle tests. This may take a while.\n"
     ]
    },
    {
     "name": "stderr",
     "output_type": "stream",
     "text": [
      "/home/austinbaggetta/csstorage3/CircleTrack/CircleTrackAnalysis/place_cells.py:44: RuntimeWarning: invalid value encountered in divide\n",
      "  velocity = dists / np.diff(t, prepend = 0) ## in seconds\n",
      "/home/austinbaggetta/csstorage3/CircleTrack/CircleTrackAnalysis/place_cells.py:392: RuntimeWarning: invalid value encountered in divide\n",
      "  pf = pf / self.data[\"occupancy_map\"]\n"
     ]
    },
    {
     "name": "stdout",
     "output_type": "stream",
     "text": [
      "Doing shuffle tests. This may take a while.\n"
     ]
    },
    {
     "name": "stderr",
     "output_type": "stream",
     "text": [
      "/home/austinbaggetta/csstorage3/CircleTrack/CircleTrackAnalysis/place_cells.py:44: RuntimeWarning: invalid value encountered in divide\n",
      "  velocity = dists / np.diff(t, prepend = 0) ## in seconds\n",
      "/home/austinbaggetta/csstorage3/CircleTrack/CircleTrackAnalysis/place_cells.py:392: RuntimeWarning: invalid value encountered in divide\n",
      "  pf = pf / self.data[\"occupancy_map\"]\n"
     ]
    },
    {
     "name": "stdout",
     "output_type": "stream",
     "text": [
      "Doing shuffle tests. This may take a while.\n"
     ]
    },
    {
     "name": "stderr",
     "output_type": "stream",
     "text": [
      "/home/austinbaggetta/csstorage3/CircleTrack/CircleTrackAnalysis/place_cells.py:44: RuntimeWarning: invalid value encountered in divide\n",
      "  velocity = dists / np.diff(t, prepend = 0) ## in seconds\n",
      "/home/austinbaggetta/csstorage3/CircleTrack/CircleTrackAnalysis/place_cells.py:392: RuntimeWarning: invalid value encountered in divide\n",
      "  pf = pf / self.data[\"occupancy_map\"]\n"
     ]
    },
    {
     "name": "stdout",
     "output_type": "stream",
     "text": [
      "Doing shuffle tests. This may take a while.\n"
     ]
    },
    {
     "name": "stderr",
     "output_type": "stream",
     "text": [
      "/home/austinbaggetta/csstorage3/CircleTrack/CircleTrackAnalysis/place_cells.py:44: RuntimeWarning: invalid value encountered in divide\n",
      "  velocity = dists / np.diff(t, prepend = 0) ## in seconds\n",
      "/home/austinbaggetta/csstorage3/CircleTrack/CircleTrackAnalysis/place_cells.py:392: RuntimeWarning: invalid value encountered in divide\n",
      "  pf = pf / self.data[\"occupancy_map\"]\n"
     ]
    },
    {
     "name": "stdout",
     "output_type": "stream",
     "text": [
      "Doing shuffle tests. This may take a while.\n"
     ]
    },
    {
     "name": "stderr",
     "output_type": "stream",
     "text": [
      "/home/austinbaggetta/csstorage3/CircleTrack/CircleTrackAnalysis/place_cells.py:44: RuntimeWarning: invalid value encountered in divide\n",
      "  velocity = dists / np.diff(t, prepend = 0) ## in seconds\n",
      "/home/austinbaggetta/csstorage3/CircleTrack/CircleTrackAnalysis/place_cells.py:392: RuntimeWarning: invalid value encountered in divide\n",
      "  pf = pf / self.data[\"occupancy_map\"]\n"
     ]
    },
    {
     "name": "stdout",
     "output_type": "stream",
     "text": [
      "Doing shuffle tests. This may take a while.\n"
     ]
    },
    {
     "name": "stderr",
     "output_type": "stream",
     "text": [
      "/home/austinbaggetta/csstorage3/CircleTrack/CircleTrackAnalysis/place_cells.py:44: RuntimeWarning: invalid value encountered in divide\n",
      "  velocity = dists / np.diff(t, prepend = 0) ## in seconds\n",
      "/home/austinbaggetta/csstorage3/CircleTrack/CircleTrackAnalysis/place_cells.py:392: RuntimeWarning: invalid value encountered in divide\n",
      "  pf = pf / self.data[\"occupancy_map\"]\n"
     ]
    },
    {
     "name": "stdout",
     "output_type": "stream",
     "text": [
      "Doing shuffle tests. This may take a while.\n"
     ]
    },
    {
     "name": "stderr",
     "output_type": "stream",
     "text": [
      "/home/austinbaggetta/csstorage3/CircleTrack/CircleTrackAnalysis/place_cells.py:44: RuntimeWarning: invalid value encountered in divide\n",
      "  velocity = dists / np.diff(t, prepend = 0) ## in seconds\n",
      "/home/austinbaggetta/csstorage3/CircleTrack/CircleTrackAnalysis/place_cells.py:392: RuntimeWarning: invalid value encountered in divide\n",
      "  pf = pf / self.data[\"occupancy_map\"]\n"
     ]
    },
    {
     "name": "stdout",
     "output_type": "stream",
     "text": [
      "Doing shuffle tests. This may take a while.\n"
     ]
    },
    {
     "name": "stderr",
     "output_type": "stream",
     "text": [
      "/home/austinbaggetta/csstorage3/CircleTrack/CircleTrackAnalysis/place_cells.py:44: RuntimeWarning: invalid value encountered in divide\n",
      "  velocity = dists / np.diff(t, prepend = 0) ## in seconds\n",
      "/home/austinbaggetta/csstorage3/CircleTrack/CircleTrackAnalysis/place_cells.py:392: RuntimeWarning: invalid value encountered in divide\n",
      "  pf = pf / self.data[\"occupancy_map\"]\n"
     ]
    },
    {
     "name": "stdout",
     "output_type": "stream",
     "text": [
      "Doing shuffle tests. This may take a while.\n"
     ]
    },
    {
     "name": "stderr",
     "output_type": "stream",
     "text": [
      "/home/austinbaggetta/csstorage3/CircleTrack/CircleTrackAnalysis/place_cells.py:44: RuntimeWarning: invalid value encountered in divide\n",
      "  velocity = dists / np.diff(t, prepend = 0) ## in seconds\n",
      "/home/austinbaggetta/csstorage3/CircleTrack/CircleTrackAnalysis/place_cells.py:392: RuntimeWarning: invalid value encountered in divide\n",
      "  pf = pf / self.data[\"occupancy_map\"]\n"
     ]
    },
    {
     "name": "stdout",
     "output_type": "stream",
     "text": [
      "Doing shuffle tests. This may take a while.\n"
     ]
    },
    {
     "name": "stderr",
     "output_type": "stream",
     "text": [
      "/home/austinbaggetta/csstorage3/CircleTrack/CircleTrackAnalysis/place_cells.py:44: RuntimeWarning: invalid value encountered in divide\n",
      "  velocity = dists / np.diff(t, prepend = 0) ## in seconds\n",
      "/home/austinbaggetta/csstorage3/CircleTrack/CircleTrackAnalysis/place_cells.py:392: RuntimeWarning: invalid value encountered in divide\n",
      "  pf = pf / self.data[\"occupancy_map\"]\n"
     ]
    },
    {
     "name": "stdout",
     "output_type": "stream",
     "text": [
      "Doing shuffle tests. This may take a while.\n"
     ]
    },
    {
     "name": "stderr",
     "output_type": "stream",
     "text": [
      "/home/austinbaggetta/csstorage3/CircleTrack/CircleTrackAnalysis/place_cells.py:44: RuntimeWarning: invalid value encountered in divide\n",
      "  velocity = dists / np.diff(t, prepend = 0) ## in seconds\n",
      "/home/austinbaggetta/csstorage3/CircleTrack/CircleTrackAnalysis/place_cells.py:392: RuntimeWarning: invalid value encountered in divide\n",
      "  pf = pf / self.data[\"occupancy_map\"]\n"
     ]
    },
    {
     "name": "stdout",
     "output_type": "stream",
     "text": [
      "Doing shuffle tests. This may take a while.\n"
     ]
    },
    {
     "name": "stderr",
     "output_type": "stream",
     "text": [
      "/home/austinbaggetta/csstorage3/CircleTrack/CircleTrackAnalysis/place_cells.py:44: RuntimeWarning: invalid value encountered in divide\n",
      "  velocity = dists / np.diff(t, prepend = 0) ## in seconds\n",
      "/home/austinbaggetta/csstorage3/CircleTrack/CircleTrackAnalysis/place_cells.py:392: RuntimeWarning: invalid value encountered in divide\n",
      "  pf = pf / self.data[\"occupancy_map\"]\n"
     ]
    },
    {
     "name": "stdout",
     "output_type": "stream",
     "text": [
      "Doing shuffle tests. This may take a while.\n"
     ]
    },
    {
     "name": "stderr",
     "output_type": "stream",
     "text": [
      "/home/austinbaggetta/csstorage3/CircleTrack/CircleTrackAnalysis/place_cells.py:44: RuntimeWarning: invalid value encountered in divide\n",
      "  velocity = dists / np.diff(t, prepend = 0) ## in seconds\n",
      "/home/austinbaggetta/csstorage3/CircleTrack/CircleTrackAnalysis/place_cells.py:392: RuntimeWarning: invalid value encountered in divide\n",
      "  pf = pf / self.data[\"occupancy_map\"]\n"
     ]
    },
    {
     "name": "stdout",
     "output_type": "stream",
     "text": [
      "Doing shuffle tests. This may take a while.\n"
     ]
    },
    {
     "name": "stderr",
     "output_type": "stream",
     "text": [
      "/home/austinbaggetta/csstorage3/CircleTrack/CircleTrackAnalysis/place_cells.py:44: RuntimeWarning: invalid value encountered in divide\n",
      "  velocity = dists / np.diff(t, prepend = 0) ## in seconds\n",
      "/home/austinbaggetta/csstorage3/CircleTrack/CircleTrackAnalysis/place_cells.py:392: RuntimeWarning: invalid value encountered in divide\n",
      "  pf = pf / self.data[\"occupancy_map\"]\n"
     ]
    },
    {
     "name": "stdout",
     "output_type": "stream",
     "text": [
      "Doing shuffle tests. This may take a while.\n"
     ]
    },
    {
     "name": "stderr",
     "output_type": "stream",
     "text": [
      "/home/austinbaggetta/csstorage3/CircleTrack/CircleTrackAnalysis/place_cells.py:44: RuntimeWarning: invalid value encountered in divide\n",
      "  velocity = dists / np.diff(t, prepend = 0) ## in seconds\n",
      "/home/austinbaggetta/csstorage3/CircleTrack/CircleTrackAnalysis/place_cells.py:392: RuntimeWarning: invalid value encountered in divide\n",
      "  pf = pf / self.data[\"occupancy_map\"]\n"
     ]
    },
    {
     "name": "stdout",
     "output_type": "stream",
     "text": [
      "Doing shuffle tests. This may take a while.\n"
     ]
    },
    {
     "name": "stderr",
     "output_type": "stream",
     "text": [
      "/home/austinbaggetta/csstorage3/CircleTrack/CircleTrackAnalysis/place_cells.py:44: RuntimeWarning: invalid value encountered in divide\n",
      "  velocity = dists / np.diff(t, prepend = 0) ## in seconds\n",
      "/home/austinbaggetta/csstorage3/CircleTrack/CircleTrackAnalysis/place_cells.py:392: RuntimeWarning: invalid value encountered in divide\n",
      "  pf = pf / self.data[\"occupancy_map\"]\n"
     ]
    },
    {
     "name": "stdout",
     "output_type": "stream",
     "text": [
      "Doing shuffle tests. This may take a while.\n"
     ]
    },
    {
     "name": "stderr",
     "output_type": "stream",
     "text": [
      "/home/austinbaggetta/csstorage3/CircleTrack/CircleTrackAnalysis/place_cells.py:44: RuntimeWarning: invalid value encountered in divide\n",
      "  velocity = dists / np.diff(t, prepend = 0) ## in seconds\n",
      "/home/austinbaggetta/csstorage3/CircleTrack/CircleTrackAnalysis/place_cells.py:392: RuntimeWarning: invalid value encountered in divide\n",
      "  pf = pf / self.data[\"occupancy_map\"]\n"
     ]
    },
    {
     "name": "stdout",
     "output_type": "stream",
     "text": [
      "Doing shuffle tests. This may take a while.\n"
     ]
    },
    {
     "name": "stderr",
     "output_type": "stream",
     "text": [
      "/home/austinbaggetta/csstorage3/CircleTrack/CircleTrackAnalysis/place_cells.py:44: RuntimeWarning: invalid value encountered in divide\n",
      "  velocity = dists / np.diff(t, prepend = 0) ## in seconds\n",
      "/home/austinbaggetta/csstorage3/CircleTrack/CircleTrackAnalysis/place_cells.py:392: RuntimeWarning: invalid value encountered in divide\n",
      "  pf = pf / self.data[\"occupancy_map\"]\n"
     ]
    },
    {
     "name": "stdout",
     "output_type": "stream",
     "text": [
      "Doing shuffle tests. This may take a while.\n"
     ]
    },
    {
     "name": "stderr",
     "output_type": "stream",
     "text": [
      "/home/austinbaggetta/csstorage3/CircleTrack/CircleTrackAnalysis/place_cells.py:44: RuntimeWarning: invalid value encountered in divide\n",
      "  velocity = dists / np.diff(t, prepend = 0) ## in seconds\n",
      "/home/austinbaggetta/csstorage3/CircleTrack/CircleTrackAnalysis/place_cells.py:392: RuntimeWarning: invalid value encountered in divide\n",
      "  pf = pf / self.data[\"occupancy_map\"]\n"
     ]
    },
    {
     "name": "stdout",
     "output_type": "stream",
     "text": [
      "Doing shuffle tests. This may take a while.\n"
     ]
    },
    {
     "name": "stderr",
     "output_type": "stream",
     "text": [
      "/home/austinbaggetta/csstorage3/CircleTrack/CircleTrackAnalysis/place_cells.py:44: RuntimeWarning: invalid value encountered in divide\n",
      "  velocity = dists / np.diff(t, prepend = 0) ## in seconds\n",
      "/home/austinbaggetta/csstorage3/CircleTrack/CircleTrackAnalysis/place_cells.py:392: RuntimeWarning: invalid value encountered in divide\n",
      "  pf = pf / self.data[\"occupancy_map\"]\n"
     ]
    },
    {
     "name": "stdout",
     "output_type": "stream",
     "text": [
      "Doing shuffle tests. This may take a while.\n"
     ]
    },
    {
     "name": "stderr",
     "output_type": "stream",
     "text": [
      "/home/austinbaggetta/csstorage3/CircleTrack/CircleTrackAnalysis/place_cells.py:44: RuntimeWarning: invalid value encountered in divide\n",
      "  velocity = dists / np.diff(t, prepend = 0) ## in seconds\n",
      "/home/austinbaggetta/csstorage3/CircleTrack/CircleTrackAnalysis/place_cells.py:392: RuntimeWarning: invalid value encountered in divide\n",
      "  pf = pf / self.data[\"occupancy_map\"]\n"
     ]
    },
    {
     "name": "stdout",
     "output_type": "stream",
     "text": [
      "Doing shuffle tests. This may take a while.\n"
     ]
    },
    {
     "name": "stderr",
     "output_type": "stream",
     "text": [
      "/home/austinbaggetta/csstorage3/CircleTrack/CircleTrackAnalysis/place_cells.py:44: RuntimeWarning: invalid value encountered in divide\n",
      "  velocity = dists / np.diff(t, prepend = 0) ## in seconds\n",
      "/home/austinbaggetta/csstorage3/CircleTrack/CircleTrackAnalysis/place_cells.py:392: RuntimeWarning: invalid value encountered in divide\n",
      "  pf = pf / self.data[\"occupancy_map\"]\n"
     ]
    },
    {
     "name": "stdout",
     "output_type": "stream",
     "text": [
      "Doing shuffle tests. This may take a while.\n"
     ]
    },
    {
     "name": "stderr",
     "output_type": "stream",
     "text": [
      "/home/austinbaggetta/csstorage3/CircleTrack/CircleTrackAnalysis/place_cells.py:44: RuntimeWarning: invalid value encountered in divide\n",
      "  velocity = dists / np.diff(t, prepend = 0) ## in seconds\n",
      "/home/austinbaggetta/csstorage3/CircleTrack/CircleTrackAnalysis/place_cells.py:392: RuntimeWarning: invalid value encountered in divide\n",
      "  pf = pf / self.data[\"occupancy_map\"]\n"
     ]
    },
    {
     "name": "stdout",
     "output_type": "stream",
     "text": [
      "Doing shuffle tests. This may take a while.\n"
     ]
    },
    {
     "name": "stderr",
     "output_type": "stream",
     "text": [
      "/home/austinbaggetta/csstorage3/CircleTrack/CircleTrackAnalysis/place_cells.py:44: RuntimeWarning: invalid value encountered in divide\n",
      "  velocity = dists / np.diff(t, prepend = 0) ## in seconds\n",
      "/home/austinbaggetta/csstorage3/CircleTrack/CircleTrackAnalysis/place_cells.py:392: RuntimeWarning: invalid value encountered in divide\n",
      "  pf = pf / self.data[\"occupancy_map\"]\n"
     ]
    },
    {
     "name": "stdout",
     "output_type": "stream",
     "text": [
      "Doing shuffle tests. This may take a while.\n"
     ]
    },
    {
     "name": "stderr",
     "output_type": "stream",
     "text": [
      "/home/austinbaggetta/csstorage3/CircleTrack/CircleTrackAnalysis/place_cells.py:44: RuntimeWarning: invalid value encountered in divide\n",
      "  velocity = dists / np.diff(t, prepend = 0) ## in seconds\n",
      "/home/austinbaggetta/csstorage3/CircleTrack/CircleTrackAnalysis/place_cells.py:392: RuntimeWarning: invalid value encountered in divide\n",
      "  pf = pf / self.data[\"occupancy_map\"]\n"
     ]
    },
    {
     "name": "stdout",
     "output_type": "stream",
     "text": [
      "Doing shuffle tests. This may take a while.\n"
     ]
    },
    {
     "name": "stderr",
     "output_type": "stream",
     "text": [
      "/home/austinbaggetta/csstorage3/CircleTrack/CircleTrackAnalysis/place_cells.py:44: RuntimeWarning: invalid value encountered in divide\n",
      "  velocity = dists / np.diff(t, prepend = 0) ## in seconds\n",
      "/home/austinbaggetta/csstorage3/CircleTrack/CircleTrackAnalysis/place_cells.py:392: RuntimeWarning: invalid value encountered in divide\n",
      "  pf = pf / self.data[\"occupancy_map\"]\n"
     ]
    },
    {
     "name": "stdout",
     "output_type": "stream",
     "text": [
      "Doing shuffle tests. This may take a while.\n"
     ]
    }
   ],
   "source": [
    "centroid_distance = 4\n",
    "data_type = 'S'\n",
    "alpha = 0.001\n",
    "nbins = 20\n",
    "for idx, mouse in enumerate(['mc26']):\n",
    "    overlap_results = {'mouse': [], 'sess1': [], 'sess2': [], 'place_cells_overlap_sess2': [], 'total_cells_overlap_sess2': [], \n",
    "                       'place_cells_nonoverlap_sess2': [], 'total_cells_nonoverlap_sess2': [], 'overlap_ids_sess2': [], 'nonoverlap_ids_sess2': [],\n",
    "                       'overlap_place_ids_sess2': [], 'nonoverlap_place_ids_sess2': []}\n",
    "    mappings = pd.read_pickle(pjoin(dpath, f'cross_registration_results/circletrack_data/{mouse}/mappings_{centroid_distance}.pkl'))\n",
    "    mpath = pjoin(dpath, f'aligned_minian/{mouse}/{data_type}')\n",
    "    for first_loop_sess in tqdm(os.listdir(mpath)):\n",
    "        sess_one = xr.open_dataset(pjoin(mpath, first_loop_sess))[data_type]\n",
    "        T_one = ctn.calculate_otsu_thresh(sess_one.values)\n",
    "\n",
    "        for second_loop_sess in os.listdir(mpath):\n",
    "            sess_two = xr.open_dataset(pjoin(mpath, second_loop_sess))[data_type]\n",
    "            T_two = ctn.calculate_otsu_thresh(sess_two.values)\n",
    "            cell_pairs = mappings.session[[sess_one.attrs['date'], sess_two.attrs['date']]].dropna(how='any').drop_duplicates().reset_index(drop=True)\n",
    "\n",
    "            ## Select overlapping units and non-overlapping units\n",
    "            overlap_sess_one = sess_one.sel(unit_id=cell_pairs.iloc[:, 0].values)\n",
    "            nonoverlap_sess_one = sess_one.sel(unit_id=np.array([i for i in sess_one['unit_id'].values if i not in cell_pairs.iloc[:, 0].values]))\n",
    "            overlap_sess_two = sess_two.sel(unit_id=cell_pairs.iloc[:, 1].values)\n",
    "            nonoverlap_sess_two = sess_two.sel(unit_id=np.array([i for i in sess_two['unit_id'].values if i not in cell_pairs.iloc[:, 1].values]))\n",
    "\n",
    "            pf_overlap_two = pc.PlaceFields(x=ctb.convert_to_cm(x=overlap_sess_two['x'], y=overlap_sess_two['y'], update_dataframe=False)[0],\n",
    "                                y=ctb.convert_to_cm(x=overlap_sess_two['x'], y=overlap_sess_two['y'], update_dataframe=False)[1],\n",
    "                                t=overlap_sess_two['behav_t'].values,\n",
    "                                neural_data=(overlap_sess_two.values > T_two).astype(int),\n",
    "                                circular=False, shuffle_test=True, nbins=nbins)\n",
    "            overlap_sess_two = overlap_sess_two.assign_coords(place_cell_r = ('unit_id', pf_overlap_two.data['spatial_info_pvals'] < alpha))\n",
    "\n",
    "            pf_nonoverlap_two = pc.PlaceFields(x=ctb.convert_to_cm(x=nonoverlap_sess_two['x'], y=nonoverlap_sess_two['y'], update_dataframe=False)[0],\n",
    "                                            y=ctb.convert_to_cm(x=nonoverlap_sess_two['x'], y=nonoverlap_sess_two['y'], update_dataframe=False)[1],\n",
    "                                            t=nonoverlap_sess_two['behav_t'].values,\n",
    "                                            neural_data=(nonoverlap_sess_two.values > T_two).astype(int),\n",
    "                                            circular=False, shuffle_test=True, nbins=nbins)\n",
    "            nonoverlap_sess_two = nonoverlap_sess_two.assign_coords(place_cell_r = ('unit_id', pf_nonoverlap_two.data['spatial_info_pvals'] < alpha))\n",
    "\n",
    "            overlap_results['mouse'].append(mouse)\n",
    "            overlap_results['sess1'].append(sess_one.attrs['date'])\n",
    "            overlap_results['sess2'].append(sess_two.attrs['date'])\n",
    "            overlap_results['place_cells_overlap_sess2'].append(np.sum(overlap_sess_two['place_cell_r'].values))\n",
    "            overlap_results['total_cells_overlap_sess2'].append(overlap_sess_two.shape[0])\n",
    "            overlap_results['place_cells_nonoverlap_sess2'].append(np.sum(nonoverlap_sess_two['place_cell_r'].values))\n",
    "            overlap_results['total_cells_nonoverlap_sess2'].append(nonoverlap_sess_two.shape[0])\n",
    "            overlap_results['overlap_ids_sess2'].append(overlap_sess_two['unit_id'].values)\n",
    "            overlap_results['nonoverlap_ids_sess2'].append(nonoverlap_sess_two['unit_id'].values)\n",
    "            overlap_results['overlap_place_ids_sess2'].append(overlap_sess_two['unit_id'].values[overlap_sess_two['place_cell_r']])\n",
    "            overlap_results['nonoverlap_place_ids_sess2'].append(nonoverlap_sess_two['unit_id'].values[nonoverlap_sess_two['place_cell_r']])\n",
    "    results_df = pd.DataFrame(overlap_results)\n",
    "    save_path = pjoin(dpath, f'overlapping_cells/{mouse}')\n",
    "    if not os.path.exists(save_path):\n",
    "        os.makedirs(save_path)\n",
    "    results_df.to_feather(pjoin(save_path, 'overlapping_cells.feat'))"
   ]
  },
  {
   "cell_type": "code",
   "execution_count": 10,
   "metadata": {},
   "outputs": [
    {
     "data": {
      "text/html": [
       "<div>\n",
       "<style scoped>\n",
       "    .dataframe tbody tr th:only-of-type {\n",
       "        vertical-align: middle;\n",
       "    }\n",
       "\n",
       "    .dataframe tbody tr th {\n",
       "        vertical-align: top;\n",
       "    }\n",
       "\n",
       "    .dataframe thead th {\n",
       "        text-align: right;\n",
       "    }\n",
       "</style>\n",
       "<table border=\"1\" class=\"dataframe\">\n",
       "  <thead>\n",
       "    <tr style=\"text-align: right;\">\n",
       "      <th></th>\n",
       "      <th>mouse</th>\n",
       "      <th>sess1</th>\n",
       "      <th>sess2</th>\n",
       "      <th>place_cells_overlap_sess2</th>\n",
       "      <th>total_cells_overlap_sess2</th>\n",
       "      <th>place_cells_nonoverlap_sess2</th>\n",
       "      <th>total_cells_nonoverlap_sess2</th>\n",
       "      <th>overlap_ids_sess2</th>\n",
       "      <th>nonoverlap_ids_sess2</th>\n",
       "      <th>overlap_place_ids_sess2</th>\n",
       "      <th>nonoverlap_place_ids_sess2</th>\n",
       "    </tr>\n",
       "  </thead>\n",
       "  <tbody>\n",
       "    <tr>\n",
       "      <th>0</th>\n",
       "      <td>mc26</td>\n",
       "      <td>2023_10_21</td>\n",
       "      <td>2023_10_21</td>\n",
       "      <td>28</td>\n",
       "      <td>94</td>\n",
       "      <td>2</td>\n",
       "      <td>7</td>\n",
       "      <td>[25, 52, 78, 0, 44, 88, 81, 21, 51, 36, 6, 80,...</td>\n",
       "      <td>[14, 26, 27, 47, 54, 63, 69]</td>\n",
       "      <td>[78, 21, 51, 95, 46, 68, 13, 90, 91, 56, 100, ...</td>\n",
       "      <td>[14, 47]</td>\n",
       "    </tr>\n",
       "    <tr>\n",
       "      <th>1</th>\n",
       "      <td>mc26</td>\n",
       "      <td>2023_10_21</td>\n",
       "      <td>2023_10_22</td>\n",
       "      <td>21</td>\n",
       "      <td>69</td>\n",
       "      <td>5</td>\n",
       "      <td>31</td>\n",
       "      <td>[25, 51, 72, 0, 42, 81, 77, 22, 49, 33, 10, 75...</td>\n",
       "      <td>[1, 2, 4, 5, 11, 12, 16, 26, 27, 29, 30, 31, 3...</td>\n",
       "      <td>[81, 22, 75, 48, 19, 74, 86, 88, 6, 66, 7, 43,...</td>\n",
       "      <td>[29, 30, 71, 87, 95]</td>\n",
       "    </tr>\n",
       "    <tr>\n",
       "      <th>2</th>\n",
       "      <td>mc26</td>\n",
       "      <td>2023_10_21</td>\n",
       "      <td>2023_10_23</td>\n",
       "      <td>11</td>\n",
       "      <td>74</td>\n",
       "      <td>11</td>\n",
       "      <td>71</td>\n",
       "      <td>[77, 111, 76, 82, 25, 89, 11, 108, 74, 99, 114...</td>\n",
       "      <td>[0, 2, 3, 4, 5, 8, 9, 12, 13, 14, 16, 18, 20, ...</td>\n",
       "      <td>[25, 107, 35, 51, 102, 67, 127, 81, 6, 118, 135]</td>\n",
       "      <td>[12, 18, 26, 27, 36, 38, 41, 45, 61, 93, 128]</td>\n",
       "    </tr>\n",
       "    <tr>\n",
       "      <th>3</th>\n",
       "      <td>mc26</td>\n",
       "      <td>2023_10_21</td>\n",
       "      <td>2023_10_24</td>\n",
       "      <td>27</td>\n",
       "      <td>51</td>\n",
       "      <td>24</td>\n",
       "      <td>59</td>\n",
       "      <td>[68, 45, 30, 90, 64, 29, 56, 101, 72, 48, 32, ...</td>\n",
       "      <td>[0, 1, 2, 3, 4, 6, 8, 9, 11, 12, 15, 16, 17, 1...</td>\n",
       "      <td>[45, 30, 64, 29, 101, 69, 65, 76, 109, 96, 87,...</td>\n",
       "      <td>[0, 1, 2, 3, 6, 8, 9, 12, 15, 16, 19, 24, 26, ...</td>\n",
       "    </tr>\n",
       "    <tr>\n",
       "      <th>4</th>\n",
       "      <td>mc26</td>\n",
       "      <td>2023_10_21</td>\n",
       "      <td>2023_10_25</td>\n",
       "      <td>28</td>\n",
       "      <td>58</td>\n",
       "      <td>36</td>\n",
       "      <td>97</td>\n",
       "      <td>[130, 115, 81, 8, 110, 101, 31, 121, 140, 78, ...</td>\n",
       "      <td>[0, 1, 2, 3, 4, 6, 7, 10, 12, 13, 16, 17, 18, ...</td>\n",
       "      <td>[115, 8, 110, 31, 121, 112, 28, 56, 14, 55, 15...</td>\n",
       "      <td>[7, 10, 27, 29, 37, 42, 48, 49, 50, 57, 63, 64...</td>\n",
       "    </tr>\n",
       "    <tr>\n",
       "      <th>...</th>\n",
       "      <td>...</td>\n",
       "      <td>...</td>\n",
       "      <td>...</td>\n",
       "      <td>...</td>\n",
       "      <td>...</td>\n",
       "      <td>...</td>\n",
       "      <td>...</td>\n",
       "      <td>...</td>\n",
       "      <td>...</td>\n",
       "      <td>...</td>\n",
       "      <td>...</td>\n",
       "    </tr>\n",
       "    <tr>\n",
       "      <th>319</th>\n",
       "      <td>mc26</td>\n",
       "      <td>2023_11_09</td>\n",
       "      <td>2023_11_04</td>\n",
       "      <td>45</td>\n",
       "      <td>98</td>\n",
       "      <td>49</td>\n",
       "      <td>99</td>\n",
       "      <td>[112, 15, 21, 25, 78, 89, 6, 71, 85, 38, 95, 6...</td>\n",
       "      <td>[0, 2, 3, 4, 5, 7, 8, 9, 11, 12, 16, 23, 26, 2...</td>\n",
       "      <td>[15, 25, 78, 6, 85, 63, 154, 145, 155, 56, 10,...</td>\n",
       "      <td>[0, 2, 3, 4, 5, 7, 12, 23, 28, 32, 39, 40, 46,...</td>\n",
       "    </tr>\n",
       "    <tr>\n",
       "      <th>320</th>\n",
       "      <td>mc26</td>\n",
       "      <td>2023_11_09</td>\n",
       "      <td>2023_11_05</td>\n",
       "      <td>26</td>\n",
       "      <td>114</td>\n",
       "      <td>29</td>\n",
       "      <td>126</td>\n",
       "      <td>[131, 179, 134, 138, 190, 49, 56, 204, 16, 229...</td>\n",
       "      <td>[0, 1, 2, 3, 4, 5, 7, 8, 9, 10, 14, 15, 17, 19...</td>\n",
       "      <td>[190, 49, 18, 29, 160, 30, 132, 159, 104, 53, ...</td>\n",
       "      <td>[2, 4, 8, 21, 48, 51, 72, 76, 77, 89, 98, 115,...</td>\n",
       "    </tr>\n",
       "    <tr>\n",
       "      <th>321</th>\n",
       "      <td>mc26</td>\n",
       "      <td>2023_11_09</td>\n",
       "      <td>2023_11_06</td>\n",
       "      <td>35</td>\n",
       "      <td>110</td>\n",
       "      <td>25</td>\n",
       "      <td>78</td>\n",
       "      <td>[98, 15, 72, 50, 10, 66, 0, 4, 75, 18, 22, 119...</td>\n",
       "      <td>[2, 5, 7, 9, 12, 13, 14, 17, 19, 23, 30, 31, 3...</td>\n",
       "      <td>[15, 72, 22, 155, 126, 113, 79, 82, 16, 24, 1,...</td>\n",
       "      <td>[2, 7, 9, 41, 44, 52, 54, 57, 70, 80, 94, 117,...</td>\n",
       "    </tr>\n",
       "    <tr>\n",
       "      <th>322</th>\n",
       "      <td>mc26</td>\n",
       "      <td>2023_11_09</td>\n",
       "      <td>2023_11_07</td>\n",
       "      <td>24</td>\n",
       "      <td>124</td>\n",
       "      <td>12</td>\n",
       "      <td>67</td>\n",
       "      <td>[112, 14, 35, 36, 28, 166, 71, 81, 92, 5, 63, ...</td>\n",
       "      <td>[1, 4, 6, 10, 13, 17, 18, 19, 21, 27, 29, 40, ...</td>\n",
       "      <td>[160, 7, 120, 91, 78, 8, 141, 125, 187, 139, 1...</td>\n",
       "      <td>[1, 19, 40, 52, 62, 65, 102, 114, 136, 162, 17...</td>\n",
       "    </tr>\n",
       "    <tr>\n",
       "      <th>323</th>\n",
       "      <td>mc26</td>\n",
       "      <td>2023_11_09</td>\n",
       "      <td>2023_11_09</td>\n",
       "      <td>60</td>\n",
       "      <td>212</td>\n",
       "      <td>12</td>\n",
       "      <td>48</td>\n",
       "      <td>[184, 55, 177, 19, 144, 216, 101, 34, 18, 133,...</td>\n",
       "      <td>[4, 5, 8, 11, 23, 27, 28, 33, 49, 57, 66, 68, ...</td>\n",
       "      <td>[19, 144, 34, 133, 42, 1, 37, 9, 246, 232, 218...</td>\n",
       "      <td>[27, 83, 84, 92, 95, 97, 107, 111, 130, 162, 1...</td>\n",
       "    </tr>\n",
       "  </tbody>\n",
       "</table>\n",
       "<p>324 rows × 11 columns</p>\n",
       "</div>"
      ],
      "text/plain": [
       "    mouse       sess1       sess2  place_cells_overlap_sess2  \\\n",
       "0    mc26  2023_10_21  2023_10_21                         28   \n",
       "1    mc26  2023_10_21  2023_10_22                         21   \n",
       "2    mc26  2023_10_21  2023_10_23                         11   \n",
       "3    mc26  2023_10_21  2023_10_24                         27   \n",
       "4    mc26  2023_10_21  2023_10_25                         28   \n",
       "..    ...         ...         ...                        ...   \n",
       "319  mc26  2023_11_09  2023_11_04                         45   \n",
       "320  mc26  2023_11_09  2023_11_05                         26   \n",
       "321  mc26  2023_11_09  2023_11_06                         35   \n",
       "322  mc26  2023_11_09  2023_11_07                         24   \n",
       "323  mc26  2023_11_09  2023_11_09                         60   \n",
       "\n",
       "     total_cells_overlap_sess2  place_cells_nonoverlap_sess2  \\\n",
       "0                           94                             2   \n",
       "1                           69                             5   \n",
       "2                           74                            11   \n",
       "3                           51                            24   \n",
       "4                           58                            36   \n",
       "..                         ...                           ...   \n",
       "319                         98                            49   \n",
       "320                        114                            29   \n",
       "321                        110                            25   \n",
       "322                        124                            12   \n",
       "323                        212                            12   \n",
       "\n",
       "     total_cells_nonoverlap_sess2  \\\n",
       "0                               7   \n",
       "1                              31   \n",
       "2                              71   \n",
       "3                              59   \n",
       "4                              97   \n",
       "..                            ...   \n",
       "319                            99   \n",
       "320                           126   \n",
       "321                            78   \n",
       "322                            67   \n",
       "323                            48   \n",
       "\n",
       "                                     overlap_ids_sess2  \\\n",
       "0    [25, 52, 78, 0, 44, 88, 81, 21, 51, 36, 6, 80,...   \n",
       "1    [25, 51, 72, 0, 42, 81, 77, 22, 49, 33, 10, 75...   \n",
       "2    [77, 111, 76, 82, 25, 89, 11, 108, 74, 99, 114...   \n",
       "3    [68, 45, 30, 90, 64, 29, 56, 101, 72, 48, 32, ...   \n",
       "4    [130, 115, 81, 8, 110, 101, 31, 121, 140, 78, ...   \n",
       "..                                                 ...   \n",
       "319  [112, 15, 21, 25, 78, 89, 6, 71, 85, 38, 95, 6...   \n",
       "320  [131, 179, 134, 138, 190, 49, 56, 204, 16, 229...   \n",
       "321  [98, 15, 72, 50, 10, 66, 0, 4, 75, 18, 22, 119...   \n",
       "322  [112, 14, 35, 36, 28, 166, 71, 81, 92, 5, 63, ...   \n",
       "323  [184, 55, 177, 19, 144, 216, 101, 34, 18, 133,...   \n",
       "\n",
       "                                  nonoverlap_ids_sess2  \\\n",
       "0                         [14, 26, 27, 47, 54, 63, 69]   \n",
       "1    [1, 2, 4, 5, 11, 12, 16, 26, 27, 29, 30, 31, 3...   \n",
       "2    [0, 2, 3, 4, 5, 8, 9, 12, 13, 14, 16, 18, 20, ...   \n",
       "3    [0, 1, 2, 3, 4, 6, 8, 9, 11, 12, 15, 16, 17, 1...   \n",
       "4    [0, 1, 2, 3, 4, 6, 7, 10, 12, 13, 16, 17, 18, ...   \n",
       "..                                                 ...   \n",
       "319  [0, 2, 3, 4, 5, 7, 8, 9, 11, 12, 16, 23, 26, 2...   \n",
       "320  [0, 1, 2, 3, 4, 5, 7, 8, 9, 10, 14, 15, 17, 19...   \n",
       "321  [2, 5, 7, 9, 12, 13, 14, 17, 19, 23, 30, 31, 3...   \n",
       "322  [1, 4, 6, 10, 13, 17, 18, 19, 21, 27, 29, 40, ...   \n",
       "323  [4, 5, 8, 11, 23, 27, 28, 33, 49, 57, 66, 68, ...   \n",
       "\n",
       "                               overlap_place_ids_sess2  \\\n",
       "0    [78, 21, 51, 95, 46, 68, 13, 90, 91, 56, 100, ...   \n",
       "1    [81, 22, 75, 48, 19, 74, 86, 88, 6, 66, 7, 43,...   \n",
       "2     [25, 107, 35, 51, 102, 67, 127, 81, 6, 118, 135]   \n",
       "3    [45, 30, 64, 29, 101, 69, 65, 76, 109, 96, 87,...   \n",
       "4    [115, 8, 110, 31, 121, 112, 28, 56, 14, 55, 15...   \n",
       "..                                                 ...   \n",
       "319  [15, 25, 78, 6, 85, 63, 154, 145, 155, 56, 10,...   \n",
       "320  [190, 49, 18, 29, 160, 30, 132, 159, 104, 53, ...   \n",
       "321  [15, 72, 22, 155, 126, 113, 79, 82, 16, 24, 1,...   \n",
       "322  [160, 7, 120, 91, 78, 8, 141, 125, 187, 139, 1...   \n",
       "323  [19, 144, 34, 133, 42, 1, 37, 9, 246, 232, 218...   \n",
       "\n",
       "                            nonoverlap_place_ids_sess2  \n",
       "0                                             [14, 47]  \n",
       "1                                 [29, 30, 71, 87, 95]  \n",
       "2        [12, 18, 26, 27, 36, 38, 41, 45, 61, 93, 128]  \n",
       "3    [0, 1, 2, 3, 6, 8, 9, 12, 15, 16, 19, 24, 26, ...  \n",
       "4    [7, 10, 27, 29, 37, 42, 48, 49, 50, 57, 63, 64...  \n",
       "..                                                 ...  \n",
       "319  [0, 2, 3, 4, 5, 7, 12, 23, 28, 32, 39, 40, 46,...  \n",
       "320  [2, 4, 8, 21, 48, 51, 72, 76, 77, 89, 98, 115,...  \n",
       "321  [2, 7, 9, 41, 44, 52, 54, 57, 70, 80, 94, 117,...  \n",
       "322  [1, 19, 40, 52, 62, 65, 102, 114, 136, 162, 17...  \n",
       "323  [27, 83, 84, 92, 95, 97, 107, 111, 130, 162, 1...  \n",
       "\n",
       "[324 rows x 11 columns]"
      ]
     },
     "execution_count": 10,
     "metadata": {},
     "output_type": "execute_result"
    }
   ],
   "source": [
    "results_df"
   ]
  },
  {
   "cell_type": "markdown",
   "metadata": {},
   "source": [
    "### The code below is to calculate how many centimeters one pixel represents on the circular track."
   ]
  },
  {
   "cell_type": "code",
   "execution_count": null,
   "metadata": {},
   "outputs": [],
   "source": [
    "import re\n",
    "import sys\n",
    "import os\n",
    "from os.path import join as pjoin\n",
    "\n",
    "import numpy as np\n",
    "import pandas as pd\n",
    "from natsort import natsort_keygen\n",
    "from tqdm import tqdm\n",
    "\n",
    "sys.path.append('/home/austinbaggetta/csstorage3/CircleTrack/CircleTrackAnalysis')\n",
    "import circletrack_behavior as ctb\n",
    "\n",
    "# %%\n",
    "## Set parameters\n",
    "parent_dir = 'Archive'\n",
    "experiment_dir = 'Measurement_Video'\n",
    "behavior_path = os.path.abspath(f\"../../../{parent_dir}/{experiment_dir}/circletrack_data/\")\n",
    "output_path = os.path.abspath(f\"../../../{parent_dir}/{experiment_dir}/output/behav\")\n",
    "if not os.path.exists(output_path):\n",
    "    os.makedirs(output_path)\n",
    "mouse_list = ['mca_test']\n",
    "## Set str2match variable (regex for mouse name)\n",
    "str2match = \"(mca_test)\"\n",
    "downsample = False\n",
    "if downsample:\n",
    "    sampling_rate = 1/30 ## started keeping minian output at 1/30\n",
    "    frame_count = 20 * 60 / sampling_rate ## session length in minutes x 60s per minute / sampling rate\n",
    "## Set relative path variable for circletrack behavior data\n",
    "csv_path = pjoin(behavior_path, \"data/**/**/**/circle_track.csv\")\n",
    "log_path = pjoin(behavior_path, \"data/**/**/**/**.log\")\n",
    "## Create list of files\n",
    "file_list = ctb.get_file_list(csv_path)\n",
    "log_list = ctb.get_file_list(log_path)\n",
    "## Loop through file_list to extract mouse name\n",
    "mouseID = []\n",
    "for file in file_list:\n",
    "    mouse = ctb.get_mouse(file, str2match)\n",
    "    mouseID.append(mouse)\n",
    "## Combine file_list and mouseID\n",
    "combined_list = ctb.combine(file_list, mouseID)\n",
    "combined_log = ctb.combine(log_list, mouseID)\n",
    "\n",
    "for mouse in mouse_list:\n",
    "    print(mouse)\n",
    "    natsort_key = natsort_keygen() \n",
    "    subset = ctb.subset_combined(combined_list, mouse).reset_index(drop=True)\n",
    "    subset_log = ctb.subset_combined(combined_log, mouse).reset_index(drop=True)\n",
    "    subset = sorted(subset, key=natsort_key)\n",
    "    subset_log = sorted(subset_log, key=natsort_key)\n",
    "    circle_track = pd.read_csv(subset[0])\n",
    "    reward_one, reward_two = ctb.get_rewarding_ports(circle_track, processed=False)\n",
    "    rewards = [reward_one, reward_two]\n",
    "    for idx in np.arange(0, len(circle_track['event'])):\n",
    "        if 'probe' in circle_track['event'][idx]:\n",
    "            probe_end = float(re.search('probe length: ([0-9]+)', circle_track['event'][idx])[1])\n",
    "        else:\n",
    "            pass\n",
    "    circle_track = ctb.crop_data(circle_track)\n",
    "    unix_start =  pd.to_numeric(circle_track.loc[circle_track['event'] == 'START', 'timestamp'].values[0])\n",
    "    circle_track[\"frame\"] = np.arange(len(circle_track))\n",
    "    data_out = circle_track[circle_track[\"event\"] == \"LOCATION\"].copy().reset_index(drop=True)\n",
    "    data_out['timestamp'] = pd.to_numeric(data_out['timestamp']) ## sometimes saved as string, not sure why\n",
    "    if downsample:\n",
    "        time_vector = np.arange(unix_start, (frame_count * sampling_rate + unix_start), sampling_rate)\n",
    "        arg_mins = [np.abs(data_out['timestamp'] - t).argmin() for t in time_vector] ## resample to sampling freq of time_vector\n",
    "        data_out = data_out.loc[arg_mins, :].reset_index(drop=True)\n",
    "    events = circle_track[circle_track[\"event\"] != \"LOCATION\"].copy().reset_index(drop=True)\n",
    "    events['timestamp'] = pd.to_numeric(events['timestamp'])\n",
    "    data_out['t'] = (data_out['timestamp'] - unix_start)\n",
    "    data_out[[\"x\", \"y\", \"a_pos\"]] = (\n",
    "        data_out[\"data\"]\n",
    "        .apply(\n",
    "            lambda d: pd.Series(\n",
    "                re.search(\n",
    "                    r\"X(?P<x>[0-9]+)Y(?P<y>[0-9]+)A(?P<ang>[0-9]+)\", d\n",
    "                ).groupdict()\n",
    "            )\n",
    "        )\n",
    "        .astype(float)\n",
    "    )\n",
    "    data_out[\"lick_port\"] = -1\n",
    "    data_out[\"water\"] = False\n",
    "    for _, row in events.iterrows():\n",
    "        ts = row[\"timestamp\"]\n",
    "        idx = np.argmin(np.abs(data_out[\"timestamp\"] - ts))\n",
    "        try:\n",
    "            port = int(row[\"data\"][-1])\n",
    "        except TypeError:\n",
    "            continue\n",
    "        data_out.loc[idx, \"lick_port\"] = port\n",
    "        if row[\"event\"] == \"REWARD\":\n",
    "            data_out.loc[idx, \"water\"] = True\n",
    "    data_out['animal'] = mouse\n",
    "    data_out[\"trials\"] = ctb.get_trials(\n",
    "        data_out, shift_factor=0, angle_type=\"radians\", counterclockwise=True\n",
    "    )\n",
    "    data_out[\"lin_position\"] = ctb.linearize_trajectory(\n",
    "        data_out, angle_type=\"radians\", shift_factor=0\n",
    "    )\n",
    "    data_out[['reward_one', 'reward_two']] = int(rewards[0][-1]), int(rewards[1][-1])\n",
    "    data_out = (\n",
    "        data_out.drop(columns=[\"event\", \"data\"])\n",
    "        .rename(columns={\"timestamp\": \"unix\"})\n",
    "        .reset_index(drop=True)\n",
    "    )\n",
    "    data_out['probe'] = data_out['t'] < probe_end\n",
    "    if pd.isna(subset_log[0]):\n",
    "        data_out['maze'] = 'No behavior log'\n",
    "    else:\n",
    "        data_out['maze'] = subset_log[0][-9:-4]\n",
    "    result_path = pjoin(output_path, mouse)\n",
    "    if not os.path.exists(result_path):\n",
    "        os.makedirs(result_path)\n",
    "        data_out.to_feather(pjoin(result_path, \"{}_{}.feat\".format(mouse, '1'))) ## label with day number"
   ]
  },
  {
   "cell_type": "code",
   "execution_count": null,
   "metadata": {},
   "outputs": [],
   "source": [
    "## Maze is 30 inches from outer wall to outer wall. 30 inches is 76.2 centimeters.\n",
    "## Dividing the average pixel distance of the x and y distances by the total length in centimeters\n",
    "## should give the amount of pixels per centimeter.\n",
    "xmax, xmin = np.max(data_out['x']), np.min(data_out['x'])\n",
    "ymax, ymin = np.max(data_out['y']), np.min(data_out['y'])\n",
    "avg_dist = ((xmax - xmin) + (ymax - ymin)) / 2\n",
    "avg_dist / 76.2 ## cm"
   ]
  },
  {
   "cell_type": "code",
   "execution_count": null,
   "metadata": {},
   "outputs": [],
   "source": [
    "data_out = ctb.convert_to_cm(data_out)\n",
    "data_out"
   ]
  }
 ],
 "metadata": {
  "kernelspec": {
   "display_name": "calcium",
   "language": "python",
   "name": "python3"
  },
  "language_info": {
   "codemirror_mode": {
    "name": "ipython",
    "version": 3
   },
   "file_extension": ".py",
   "mimetype": "text/x-python",
   "name": "python",
   "nbconvert_exporter": "python",
   "pygments_lexer": "ipython3",
   "version": "3.10.8"
  },
  "orig_nbformat": 4
 },
 "nbformat": 4,
 "nbformat_minor": 2
}
