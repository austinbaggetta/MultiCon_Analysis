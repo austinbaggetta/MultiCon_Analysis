{
 "cells": [
  {
   "cell_type": "code",
   "execution_count": null,
   "metadata": {},
   "outputs": [],
   "source": [
    "%load_ext autoreload\n",
    "%autoreload 2\n",
    "import os\n",
    "import sys\n",
    "import numpy as np\n",
    "import pandas as pd\n",
    "import xarray as xr\n",
    "# import pingouin as pg\n",
    "import plotly.graph_objects as go\n",
    "from os.path import join as pjoin\n",
    "from natsort import natsorted\n",
    "\n",
    "sys.path.append(\"../../\")\n",
    "import circletrack_behavior as ctb\n",
    "import plotting_functions as pf"
   ]
  },
  {
   "cell_type": "code",
   "execution_count": null,
   "metadata": {},
   "outputs": [],
   "source": [
    "## Settings\n",
    "parent_dir = 'CircleTrack_Recall'\n",
    "experiment_dir = 'Recall2'\n",
    "lin_path = f'../../../{parent_dir}/{experiment_dir}/output/lin_behav/'\n",
    "circle_path = f'../../../{parent_dir}/{experiment_dir}/output/behav/'\n",
    "fig_path = f'../../../{parent_dir}/{experiment_dir}/intermediate_figures'\n",
    "chance_color = 'darkgrey'\n",
    "avg_color = 'midnightblue'\n",
    "subject_color = 'darkgrey'\n",
    "two_group_colors = ['midnightblue', 'darkgrey']\n",
    "four_group_colors = ['darkorchid', 'midnightblue', 'violet', 'blue']\n",
    "young_mice = [f'mcr{x}' for x in np.arange(17, 25)]\n",
    "male_mice = [f'mcr{x}' for x in np.arange(21, 25)] + [f'mcr{x}' for x in np.arange(31, 36)]\n",
    "excluded_mice = ['mcr24', 'mcr29']\n",
    "group_colors_dict = {'Middle Aged Female': 'darkorchid', 'Middle Aged Male': 'midnightblue', 'Young Male': 'blue', 'Young Female': 'violet',\n",
    "                     'Young Adult': 'darkgrey', 'Middle Aged': 'midnightblue'}\n",
    "\n",
    "if not os.path.exists(fig_path):\n",
    "    os.makedirs(fig_path)"
   ]
  },
  {
   "cell_type": "markdown",
   "metadata": {},
   "source": [
    "### Linear track rewards"
   ]
  },
  {
   "cell_type": "code",
   "execution_count": null,
   "metadata": {},
   "outputs": [],
   "source": [
    "lin_dict = {'mouse': [], 'day': [], 'rewards': [], 'group': [], 'group_two': [], 'group_three': []}\n",
    "for mouse in os.listdir(lin_path):\n",
    "    mouse_path = pjoin(lin_path, mouse)\n",
    "    group = 'Young Adult' if mouse in young_mice else 'Middle Aged'\n",
    "    group_two = 'Young Male' if mouse in young_mice and mouse in male_mice else 'Young Female' if mouse in young_mice and mouse not in male_mice else 'Middle Aged Male' if mouse not in young_mice and mouse in male_mice else 'Middle Aged Female'\n",
    "    for idx, session in enumerate(os.listdir(mouse_path)):\n",
    "        lin_behav = pd.read_feather(pjoin(mouse_path, f'{session}'))\n",
    "        lin_dict['mouse'].append(mouse)\n",
    "        lin_dict['day'].append(idx+1)\n",
    "        lin_dict['rewards'].append(np.sum(lin_behav['water']))\n",
    "        lin_dict['group'].append(group)\n",
    "        lin_dict['group_two'].append(group_two)\n",
    "        lin_dict['group_three'].append(lin_behav['maze'].unique()[0])\n",
    "lin_df = pd.DataFrame(lin_dict)"
   ]
  },
  {
   "cell_type": "code",
   "execution_count": null,
   "metadata": {},
   "outputs": [],
   "source": [
    "## Plot rewards across days on linear track\n",
    "fig = pf.plot_behavior_across_days(lin_df, x_var='day', y_var='rewards', groupby_var=['day'], plot_transitions=None,\n",
    "                                   marker_color=subject_color, avg_color=avg_color, expert_line=False, chance=False,\n",
    "                                   x_title='Day', y_title='Rewards', titles=['Linear Track'], height=500, width=500)\n",
    "fig.update_yaxes(range=[0, 150])\n",
    "fig.show()\n",
    "fig.write_image(pjoin(fig_path, 'linear_track_rewards.png'))"
   ]
  },
  {
   "cell_type": "code",
   "execution_count": null,
   "metadata": {},
   "outputs": [],
   "source": [
    "## Plot rewards across days on linear track for young/middle male/female\n",
    "fig = pf.plot_behavior_across_days(lin_df, x_var='day', y_var='rewards', groupby_var=['day', 'group_two'], plot_transitions=None,\n",
    "                                   marker_color=four_group_colors, avg_color=avg_color, expert_line=False, chance=False, plot_datapoints=False,\n",
    "                                   x_title='Day', y_title='Rewards', titles=['Linear Track'], height=500, width=700)\n",
    "fig.update_yaxes(range=[0, 150])\n",
    "fig.show()\n",
    "fig.write_image(pjoin(fig_path, 'linear_track_rewards_malefemale_age.png'))"
   ]
  },
  {
   "cell_type": "code",
   "execution_count": null,
   "metadata": {},
   "outputs": [],
   "source": [
    "## Plot rewards across days on linear track for the two mazes\n",
    "fig = pf.plot_behavior_across_days(lin_df, x_var='day', y_var='rewards', groupby_var=['day', 'group_three'], plot_transitions=None,\n",
    "                                   marker_color=two_group_colors, avg_color=avg_color, expert_line=False, chance=False, plot_datapoints=True,\n",
    "                                   x_title='Day', y_title='Rewards', titles=['Linear Track'], height=500, width=600)\n",
    "fig.update_yaxes(range=[0, 150])\n",
    "fig.show()\n",
    "fig.write_image(pjoin(fig_path, 'linear_track_rewards_mazes.png'))"
   ]
  },
  {
   "cell_type": "markdown",
   "metadata": {},
   "source": [
    "### Circle track accuracy and rewards"
   ]
  },
  {
   "cell_type": "code",
   "execution_count": null,
   "metadata": {},
   "outputs": [],
   "source": [
    "circletrack_results = {'mouse': [], 'day': [], 'group': [], 'group_two': [], 'session': [], 'lick_accuracy_thresh5': [], 'rewards': []}\n",
    "for mouse in os.listdir(circle_path):\n",
    "    mouse_path = pjoin(circle_path, mouse)\n",
    "    group = 'Young Adult' if mouse in young_mice else 'Middle Aged'\n",
    "    group_two = 'Young Male' if mouse in young_mice and mouse in male_mice else 'Young Female' if mouse in young_mice and mouse not in male_mice else 'Middle Aged Male' if mouse not in young_mice and mouse in male_mice else 'Middle Aged Female'\n",
    "    for idx, session in enumerate(os.listdir(mouse_path)):\n",
    "        behav = pd.read_feather(pjoin(mouse_path, f'{session}'))\n",
    "        behav = behav[~behav['probe']]\n",
    "        reward_one, reward_two = np.unique(behav['reward_one'])[0], np.unique(behav['reward_two'])[0]\n",
    "        pc_thresh5 = ctb.lick_accuracy(behav, port_list=[reward_one, reward_two], lick_threshold=5, by_trials=False)\n",
    "        circletrack_results['mouse'].append(mouse)\n",
    "        circletrack_results['day'].append(idx+1)\n",
    "        circletrack_results['group'].append(group)\n",
    "        circletrack_results['group_two'].append(group_two)\n",
    "        circletrack_results['session'].append(np.unique(behav['session'])[0])\n",
    "        circletrack_results['lick_accuracy_thresh5'].append(pc_thresh5)\n",
    "        circletrack_results['rewards'].append(np.sum(behav['water']))\n",
    "ct_df = pd.DataFrame(circletrack_results)"
   ]
  },
  {
   "cell_type": "code",
   "execution_count": null,
   "metadata": {},
   "outputs": [],
   "source": [
    "## Plot 5th lick accuracy across days\n",
    "fig = pf.plot_behavior_across_days(ct_df[ct_df['day'] < 6], x_var='day', y_var='lick_accuracy_thresh5', groupby_var=['day'], plot_transitions=None,\n",
    "                                   marker_color=subject_color, avg_color=avg_color, expert_line=False, chance=True,\n",
    "                                   x_title='Day', y_title='5th Lick Accuracy', titles=['Circle Track'], height=500, width=500)\n",
    "fig.update_yaxes(range=[0, 100])\n",
    "fig.show()\n",
    "fig.write_image(pjoin(fig_path, 'lick_acc_across_days_ct.png'))"
   ]
  },
  {
   "cell_type": "code",
   "execution_count": null,
   "metadata": {},
   "outputs": [],
   "source": [
    "## Plot 5th lick accuracy across days\n",
    "fig = pf.plot_behavior_across_days(ct_df, x_var='day', y_var='lick_accuracy_thresh5', groupby_var=['day', 'group_two'], plot_transitions=[5.5],\n",
    "                                   marker_color=four_group_colors, avg_color=avg_color, expert_line=False, chance=True, transition_color=['darkgrey'],\n",
    "                                   x_title='Day', y_title='5th Lick Accuracy', titles=['Circle Track'], height=500, width=600)\n",
    "fig.update_yaxes(range=[0, 100])\n",
    "fig.show()\n",
    "fig.write_image(pjoin(fig_path, 'lick_acc_across_days_groups_ct.png'))"
   ]
  },
  {
   "cell_type": "code",
   "execution_count": null,
   "metadata": {},
   "outputs": [],
   "source": [
    "## Plot 5th lick accuracy across days excluding two non-learners\n",
    "fig = pf.plot_behavior_across_days(ct_df[(ct_df['mouse'] != 'mcr24') & (ct_df['mouse'] != 'mcr29')], x_var='day', y_var='lick_accuracy_thresh5', \n",
    "                                   groupby_var=['day', 'group_two'], plot_transitions=[5.5], transition_color=['darkgrey'],\n",
    "                                   marker_color=four_group_colors, avg_color=avg_color, expert_line=False, chance=True,\n",
    "                                   x_title='Day', y_title='5th Lick Accuracy', titles=['Circle Track'], height=500, width=600)\n",
    "fig.update_yaxes(range=[0, 100])\n",
    "fig.show()"
   ]
  },
  {
   "cell_type": "code",
   "execution_count": null,
   "metadata": {},
   "outputs": [],
   "source": [
    "## Plot 5th lick accuracy across days excluding two non-learners for young vs middle aged\n",
    "fig = pf.plot_behavior_across_days(ct_df[(ct_df['mouse'] != 'mcr24') & (ct_df['mouse'] != 'mcr29')], x_var='day', y_var='lick_accuracy_thresh5', \n",
    "                                   groupby_var=['day', 'group'], plot_transitions=[5.5], transition_color=['darkgrey'],\n",
    "                                   marker_color=two_group_colors, avg_color=avg_color, expert_line=False, chance=True,\n",
    "                                   x_title='Day', y_title='Lick Accuracy (%)', titles=['Circle Track'], height=500, width=600)\n",
    "fig.update_yaxes(range=[0, 100])\n",
    "fig.show()\n",
    "fig.write_image(pjoin(fig_path, 'lick_acc_across_days_y_ma.png'))"
   ]
  },
  {
   "cell_type": "markdown",
   "metadata": {},
   "source": [
    "### Circle track rewards"
   ]
  },
  {
   "cell_type": "code",
   "execution_count": null,
   "metadata": {},
   "outputs": [],
   "source": [
    "## Plot rewards\n",
    "fig = pf.plot_behavior_across_days(ct_df[ct_df['day'] < 6], x_var='day', y_var='rewards', groupby_var=['day'], plot_transitions=None,\n",
    "                                   marker_color=subject_color, avg_color=avg_color, expert_line=False, chance=True,\n",
    "                                   x_title='Day', y_title='Rewards', titles=['Circle Track'], height=500, width=500)\n",
    "fig.show()\n",
    "fig.write_image(pjoin(fig_path, 'rewards_across_days_ct.png'))"
   ]
  },
  {
   "cell_type": "code",
   "execution_count": null,
   "metadata": {},
   "outputs": [],
   "source": [
    "## Plot rewards\n",
    "fig = pf.plot_behavior_across_days(ct_df[ct_df['day'] < 6], x_var='day', y_var='rewards', groupby_var=['day', 'group_two'], plot_transitions=None,\n",
    "                                   marker_color=four_group_colors, avg_color=avg_color, expert_line=False, chance=True,\n",
    "                                   x_title='Day', y_title='Rewards', titles=['Circle Track'], height=500, width=600)\n",
    "fig.show()\n",
    "fig.write_image(pjoin(fig_path, 'rewards_across_days_ct_mfages.png'))"
   ]
  },
  {
   "cell_type": "markdown",
   "metadata": {},
   "source": [
    "### Probe accuracy"
   ]
  },
  {
   "cell_type": "code",
   "execution_count": null,
   "metadata": {},
   "outputs": [],
   "source": [
    "lick_dict_probe = {'mouse': [], 'experiment': [], 'group': [], 'group_two': [], 'session': [], 'day': [], 'num_licks': [], 'probe_acc': [], 'session_acc': []}\n",
    "for mouse in os.listdir(circle_path):\n",
    "    mpath = pjoin(circle_path, mouse)\n",
    "    group = 'Young Adult' if mouse in young_mice else 'Middle Aged'\n",
    "    group_two = 'Young Male' if mouse in young_mice and mouse in male_mice else 'Young Female' if mouse in young_mice and mouse not in male_mice else 'Middle Aged Male' if mouse not in young_mice and mouse in male_mice else 'Middle Aged Female'\n",
    "    for idx, session in enumerate(os.listdir(mpath)):\n",
    "        behav = pd.read_feather(pjoin(mpath, session))\n",
    "        if any(behav['probe']):\n",
    "            behav_probe = behav[behav['probe']]\n",
    "            behav_no_probe = behav[~behav['probe']]\n",
    "            reward_one, reward_two = np.unique(behav['reward_one'])[0], np.unique(behav['reward_two'])[0]\n",
    "            percent_correct = ctb.lick_accuracy(behav_probe, port_list=[reward_one, reward_two], lick_threshold=5, by_trials=False)\n",
    "            session_pc = ctb.lick_accuracy(behav_no_probe, port_list=[reward_one, reward_two], lick_threshold=5, by_trials=False)\n",
    "            lick_dict_probe['mouse'].append(mouse)\n",
    "            lick_dict_probe['experiment'].append(behav['cohort'].unique()[0])\n",
    "            lick_dict_probe['group'].append(group)\n",
    "            lick_dict_probe['group_two'].append(group_two)\n",
    "            lick_dict_probe['day'].append(idx+1)\n",
    "            lick_dict_probe['session'].append(np.unique(behav['session'])[0])\n",
    "            lick_dict_probe['num_licks'].append(len(behav_probe[behav_probe['lick_port'] != -1]))\n",
    "            lick_dict_probe['probe_acc'].append(percent_correct)\n",
    "            lick_dict_probe['session_acc'].append(session_pc)\n",
    "        else:\n",
    "            pass\n",
    "probe_df = pd.DataFrame(lick_dict_probe)\n",
    "\n",
    "first_last = pd.DataFrame()\n",
    "context_list = ['A']\n",
    "for mouse in probe_df['mouse'].unique():\n",
    "    mouse_data = probe_df[probe_df['mouse'] == mouse]\n",
    "    index_list = ctb.pick_context_day(mouse_data, day_index=0, contexts=context_list)\n",
    "    index_list_two = ctb.pick_context_day(mouse_data, day_index=-1, contexts=context_list)\n",
    "    sub_data = mouse_data.loc[index_list, :]\n",
    "    sub_data.insert(0, 'day_type', 'First')\n",
    "    sub_data_two = mouse_data.loc[index_list_two, :]\n",
    "    sub_data_two.insert(0, 'day_type', 'Last')\n",
    "    first_last = pd.concat([first_last, sub_data, sub_data_two])\n",
    "avg_combined = first_last.groupby(['day_type', 'session'], as_index=False).agg({'probe_acc': ['mean', 'sem']})\n",
    "avg_group_probe = first_last.groupby(['day', 'group', 'session'], as_index=False).agg({'probe_acc': ['mean', 'sem']})\n",
    "avg_grouptwo_probe = first_last.groupby(['day', 'group_two', 'session'], as_index=False).agg({'probe_acc': ['mean', 'sem']})"
   ]
  },
  {
   "cell_type": "code",
   "execution_count": null,
   "metadata": {},
   "outputs": [],
   "source": [
    "## Plot probe performance\n",
    "fig = pf.custom_graph_template(x_title='', y_title='', titles=['A'], shared_x=True, shared_y=True)\n",
    "for idx, session in enumerate(context_list):\n",
    "    plot_data = avg_combined[avg_combined['session'] == session]\n",
    "    fig.add_trace(go.Scatter(x=plot_data['day_type'], y=plot_data['probe_acc']['mean'],\n",
    "                                error_y=dict(type='data', array=plot_data['probe_acc']['sem'], thickness=1.5, width=8), \n",
    "                                line_color=avg_color, showlegend=False), row=1, col=idx+1)\n",
    "for mouse in first_last['mouse'].unique():\n",
    "    mdata = first_last[first_last['mouse'] == mouse]\n",
    "    for idx, context in enumerate(mdata['session'].unique()):\n",
    "        pdata = mdata[mdata['session'] == context]\n",
    "        fig.add_trace(go.Scatter(x=pdata['day_type'], y=pdata['probe_acc'], mode='lines', line_color=chance_color,\n",
    "                                 line_width=1, opacity=0.7, showlegend=False, name=mouse), row=1, col=idx+1)\n",
    "\n",
    "fig.add_hline(y=25, line_width=1, line_dash='dash', line_color='darkgrey', opacity=1)\n",
    "fig.update_yaxes(title='Probe Accuracy (%)', col=1)\n",
    "fig.show()"
   ]
  },
  {
   "cell_type": "code",
   "execution_count": null,
   "metadata": {},
   "outputs": [],
   "source": [
    "## Plot probe performance separated by group\n",
    "plot_mice = False\n",
    "fig = pf.custom_graph_template(x_title='', y_title='', titles=[''], \n",
    "                               shared_x=True, shared_y=True, width=600)\n",
    "avg_group_probe = probe_df.groupby(['day', 'group', 'session'], as_index=False).agg({'probe_acc': ['mean', 'sem']})\n",
    "for group in avg_group_probe['group'].unique():\n",
    "    gdata = avg_group_probe[avg_group_probe['group'] == group]\n",
    "    for session in gdata['session'].unique():\n",
    "        plot_data = gdata[gdata['session'] == session]\n",
    "        fig.add_trace(go.Scatter(x=plot_data['day'], y=plot_data['probe_acc']['mean'], mode='markers',\n",
    "                                    error_y=dict(type='data', array=plot_data['probe_acc']['sem'], thickness=1.5, width=8), \n",
    "                                    line_color=group_colors_dict[group], name=group, showlegend=False, legendgroup=group))\n",
    "if plot_mice:\n",
    "    for mouse in probe_df['mouse'].unique():\n",
    "        mdata = probe_df[probe_df['mouse'] == mouse]\n",
    "        fig.add_trace(go.Scatter(x=mdata['day'], y=mdata['probe_acc'], mode='lines', line_color=group_colors_dict[mdata['group'].unique()[0]],\n",
    "                                    line_width=0.6, opacity=0.6, showlegend=False, name=mouse, legendgroup=mdata['group'].to_numpy()[0]))\n",
    "\n",
    "fig.add_hline(y=25, line_width=1, line_dash='dash', line_color='darkgrey', opacity=1)\n",
    "fig.add_vline(x=5.5, line_width=1, line_dash='dash', line_color='darkgrey', opacity=1)\n",
    "fig.update_yaxes(title='Probe Accuracy (%)', col=1, range=[0, 100])\n",
    "fig.update_xaxes(\n",
    "    ticktext=['A1', 'A5', 'R'],\n",
    "    tickvals=[1, 5, 6],\n",
    ")\n",
    "fig['data'][0]['showlegend'] = True\n",
    "fig['data'][2]['showlegend'] = True\n",
    "fig.show()\n",
    "fig.write_image(pjoin(fig_path, 'probe_accuracy_recall_young_middle.png'))"
   ]
  },
  {
   "cell_type": "code",
   "execution_count": null,
   "metadata": {},
   "outputs": [],
   "source": [
    "## Plot probe performance separated by group two\n",
    "plot_mice = False\n",
    "fig = pf.custom_graph_template(x_title='', y_title='', titles=[''], \n",
    "                               shared_x=True, shared_y=True, width=600)\n",
    "avg_grouptwo_probe = probe_df.groupby(['day', 'group_two', 'session'], as_index=False).agg({'probe_acc': ['mean', 'sem']})\n",
    "for group in avg_grouptwo_probe['group_two'].unique():\n",
    "    gdata = avg_grouptwo_probe[avg_grouptwo_probe['group_two'] == group]\n",
    "    for session in gdata['session'].unique():\n",
    "        plot_data = gdata[gdata['session'] == session]\n",
    "        fig.add_trace(go.Scatter(x=plot_data['day'], y=plot_data['probe_acc']['mean'], mode='markers',\n",
    "                                    error_y=dict(type='data', array=plot_data['probe_acc']['sem'], thickness=1.5, width=8), \n",
    "                                    line_color=group_colors_dict[group], name=group, showlegend=False, legendgroup=group))\n",
    "if plot_mice:\n",
    "    for mouse in probe_df['mouse'].unique():\n",
    "        mdata = probe_df[probe_df['mouse'] == mouse]\n",
    "        fig.add_trace(go.Scatter(x=mdata['day'], y=mdata['probe_acc'], mode='lines', line_color=group_colors_dict[mdata['group_two'].unique()[0]],\n",
    "                                 line_width=0.6, opacity=0.6, showlegend=False, name=mouse, legendgroup=mdata['group_two'].to_numpy()[0]))\n",
    "\n",
    "fig.add_hline(y=25, line_width=1, line_dash='dash', line_color='darkgrey', opacity=1)\n",
    "fig.add_vline(x=5.5, line_width=1, line_dash='dash', line_color='darkgrey', opacity=1)\n",
    "fig.update_yaxes(title='Probe Accuracy (%)', col=1, range=[0, 100])\n",
    "fig.update_xaxes(\n",
    "    ticktext=['A1', 'A5', 'R'],\n",
    "    tickvals=[1, 5, 6],\n",
    ")\n",
    "fig['data'][0]['showlegend'] = True\n",
    "fig['data'][2]['showlegend'] = True\n",
    "fig['data'][4]['showlegend'] = True\n",
    "fig['data'][6]['showlegend'] = True\n",
    "fig.show()\n",
    "fig.write_image(pjoin(fig_path, 'probe_accuracy_recall_youngmiddle_malefemale.png'))"
   ]
  }
 ],
 "metadata": {
  "language_info": {
   "name": "python"
  }
 },
 "nbformat": 4,
 "nbformat_minor": 2
}
