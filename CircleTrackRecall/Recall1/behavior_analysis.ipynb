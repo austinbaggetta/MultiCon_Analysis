{
 "cells": [
  {
   "cell_type": "code",
   "execution_count": null,
   "metadata": {},
   "outputs": [],
   "source": [
    "%load_ext autoreload\n",
    "%autoreload 2\n",
    "import os\n",
    "import sys\n",
    "import numpy as np\n",
    "import pandas as pd\n",
    "import xarray as xr\n",
    "# import pingouin as pg\n",
    "import plotly.graph_objects as go\n",
    "from os.path import join as pjoin\n",
    "from natsort import natsorted\n",
    "\n",
    "sys.path.append(\"../../\")\n",
    "import circletrack_behavior as ctb\n",
    "import plotting_functions as pf"
   ]
  },
  {
   "cell_type": "code",
   "execution_count": null,
   "metadata": {},
   "outputs": [],
   "source": [
    "## Settings \n",
    "parent_dir = 'CircleTrack_Recall'\n",
    "experiment_dir = 'Recall1'\n",
    "lin_path = f'../../../{parent_dir}/{experiment_dir}/output/lin_behav/'\n",
    "circle_path = f'../../../{parent_dir}/{experiment_dir}/output/behav/'\n",
    "fig_path = f'../../../{parent_dir}/{experiment_dir}/intermediate_figures'\n",
    "chance_color = 'darkgrey'\n",
    "avg_color = 'blue'\n",
    "subject_color = '#7d7d7d'\n",
    "three_color_plots = ['#7d7d7d', 'blue', 'darkturquoise']\n",
    "group_colors_dict = {'5 day': '#7d7d7d', '10 day': 'blue', '15 day': 'darkturquoise'}\n",
    "excluded_mice = ['mcr09', 'mcr16'] ## didn't increase rewards across days, and didn't improve during probe\n",
    "five_day = ['mcr02', 'mcr03', 'mcr07', 'mcr11', 'mcr13']\n",
    "ten_day = ['mcr01', 'mcr05', 'mcr06', 'mcr10', 'mcr14']"
   ]
  },
  {
   "cell_type": "markdown",
   "metadata": {},
   "source": [
    "### Linear track: rewards across days."
   ]
  },
  {
   "cell_type": "code",
   "execution_count": null,
   "metadata": {},
   "outputs": [],
   "source": [
    "lin_dict = {'mouse': [], 'day': [], 'rewards': [], 'group': []}\n",
    "for mouse in os.listdir(lin_path):\n",
    "    mouse_path = pjoin(lin_path, mouse)\n",
    "    for idx, session in enumerate(os.listdir(mouse_path)):\n",
    "        lin_behav = pd.read_feather(pjoin(mouse_path, f'{session}'))\n",
    "        lin_dict['mouse'].append(mouse)\n",
    "        lin_dict['day'].append(idx+1)\n",
    "        lin_dict['rewards'].append(np.sum(lin_behav['water']))\n",
    "        lin_dict['group'].append(lin_behav['maze'].unique()[0])\n",
    "lin_df = pd.DataFrame(lin_dict)"
   ]
  },
  {
   "cell_type": "code",
   "execution_count": null,
   "metadata": {},
   "outputs": [],
   "source": [
    "mouse = 'mcr01' \n",
    "session = '4'\n",
    "lin_behav = pd.read_feather(pjoin(lin_path, f'{mouse}/{mouse}_{session}.feat'))\n",
    "fig = pf.custom_graph_template(x_title='Time (s)', y_title='X Position (pixel)')\n",
    "fig.add_trace(go.Scatter(x=lin_behav['t'], y=lin_behav['x'], mode='lines', line_color='darkgrey', showlegend=False))\n",
    "fig.add_trace(go.Scatter(x=lin_behav['t'][lin_behav['water']], y=lin_behav['x'][lin_behav['water']], \n",
    "                         mode='markers', marker_color='red', showlegend=False))\n",
    "fig.show()\n",
    "fig.write_image(pjoin(fig_path, f'{mouse}_lineartrack_position.png'))"
   ]
  },
  {
   "cell_type": "code",
   "execution_count": null,
   "metadata": {},
   "outputs": [],
   "source": [
    "## Plot rewards across days on linear track\n",
    "fig = pf.plot_behavior_across_days(lin_df, x_var='day', y_var='rewards', groupby_var=['day'], plot_transitions=None,\n",
    "                                   marker_color=subject_color, avg_color=avg_color, expert_line=False, chance=False,\n",
    "                                   x_title='Day', y_title='Rewards', titles=['Linear Track'], height=500, width=500)\n",
    "fig.update_yaxes(range=[0, 100])\n",
    "fig.show()\n",
    "# fig.write_image(pjoin(fig_path, 'linear_track_rewards.png'))"
   ]
  },
  {
   "cell_type": "code",
   "execution_count": null,
   "metadata": {},
   "outputs": [],
   "source": [
    "maze_colors = ['midnightblue', 'darkgrey']\n",
    "fig = pf.plot_behavior_across_days(lin_df, x_var='day', y_var='rewards', groupby_var=['day', 'group'], plot_transitions=None,\n",
    "                                   marker_color=maze_colors, symbols=['circle', 'circle'], avg_color='darkgrey', expert_line=False, chance=False, plot_datapoints=True,\n",
    "                                   x_title='Day', y_title='Rewards', titles=['Linear Track'], height=500, width=500)\n",
    "fig.update_yaxes(range=[0, 100])\n",
    "fig.show()"
   ]
  },
  {
   "cell_type": "markdown",
   "metadata": {},
   "source": [
    "### Circle track lick accuracy and rewards across days."
   ]
  },
  {
   "cell_type": "code",
   "execution_count": null,
   "metadata": {},
   "outputs": [],
   "source": [
    "circletrack_results = {'mouse': [], 'group': [], 'day': [], 'session': [], 'lick_acc': [], 'rewards': []}\n",
    "for mouse in os.listdir(circle_path):\n",
    "    group = 'five_day' if mouse in five_day else 'ten_day' if mouse in ten_day else 'fifteen_day' \n",
    "    mouse_path = pjoin(circle_path, mouse)\n",
    "    for idx, session in enumerate(os.listdir(mouse_path)):\n",
    "        behav = pd.read_feather(pjoin(mouse_path, f'{session}'))\n",
    "        behav = behav[~behav['probe']]\n",
    "        reward_one, reward_two = np.unique(behav['reward_one'])[0], np.unique(behav['reward_two'])[0]\n",
    "        pc_thresh5 = ctb.lick_accuracy(behav, port_list=[reward_one, reward_two], lick_threshold=5, by_trials=False)\n",
    "        circletrack_results['mouse'].append(mouse)\n",
    "        circletrack_results['group'].append(group)\n",
    "        circletrack_results['day'].append(idx+1)\n",
    "        circletrack_results['session'].append(np.unique(behav['session'])[0])\n",
    "        circletrack_results['lick_acc'].append(pc_thresh5)\n",
    "        circletrack_results['rewards'].append(np.sum(behav['water']))\n",
    "ct_df = pd.DataFrame(circletrack_results)"
   ]
  },
  {
   "cell_type": "code",
   "execution_count": null,
   "metadata": {},
   "outputs": [],
   "source": [
    "downsample_factor = 20\n",
    "fig = pf.custom_graph_template(x_title='X Position (pixels)', y_title='Y Position (pixels)')\n",
    "fig.add_trace(go.Scatter(x=behav['x'][::downsample_factor], y=behav['y'][::downsample_factor], \n",
    "                         mode='markers', line_color='darkgrey', showlegend=False))\n",
    "fig.add_trace(go.Scatter(x=behav['x'][behav['water']], y=behav['y'][behav['water']], \n",
    "                         mode='markers', marker_color='midnightblue', showlegend=False))\n",
    "fig.show()\n",
    "fig.write_image(pjoin(fig_path, 'mcr15_circleposition.png'))"
   ]
  },
  {
   "cell_type": "code",
   "execution_count": null,
   "metadata": {},
   "outputs": [],
   "source": [
    "## Plot 5th lick accuracy across days\n",
    "fig = pf.plot_behavior_across_days(ct_df[ct_df['day'] < 6], x_var='day', y_var='lick_acc', groupby_var=['day'], plot_transitions=None,\n",
    "                                   marker_color=subject_color, avg_color=avg_color, expert_line=False, chance=True, plot_datapoints=False,\n",
    "                                   x_title='Day', y_title='Lick Accuracy (%)', titles=['Circle Track'], height=500, width=500)\n",
    "fig.update_yaxes(range=[0, 100])\n",
    "fig.show()\n",
    "fig.write_image(pjoin(fig_path, 'lick_acc_across_days_ct.png'))"
   ]
  },
  {
   "cell_type": "code",
   "execution_count": null,
   "metadata": {},
   "outputs": [],
   "source": [
    "## Plot rewards across days\n",
    "fig = pf.plot_behavior_across_days(ct_df[ct_df['day'] < 6], x_var='day', y_var='rewards', groupby_var=['day'], plot_transitions=None,\n",
    "                                   marker_color=subject_color, avg_color=avg_color, expert_line=False, chance=False, plot_datapoints=False,\n",
    "                                   x_title='Day', y_title='Rewards', titles=['Circle Track'], height=500, width=500)\n",
    "fig.show()\n",
    "fig.write_image(pjoin(fig_path, 'rewards_across_days.png'))"
   ]
  },
  {
   "cell_type": "markdown",
   "metadata": {},
   "source": [
    "### Probe performance."
   ]
  },
  {
   "cell_type": "code",
   "execution_count": null,
   "metadata": {},
   "outputs": [],
   "source": [
    "lick_dict_probe = {'mouse': [], 'experiment': [], 'session': [], 'day': [], 'num_licks': [], 'probe_acc': [], 'session_acc': []}\n",
    "for mouse in os.listdir(circle_path):\n",
    "    mpath = pjoin(circle_path, mouse)\n",
    "    for idx, session in enumerate(os.listdir(mpath)):\n",
    "        behav = pd.read_feather(pjoin(mpath, session))\n",
    "        if any(behav['probe']):\n",
    "            behav_probe = behav[behav['probe']]\n",
    "            behav_no_probe = behav[~behav['probe']]\n",
    "            reward_one, reward_two = np.unique(behav['reward_one'])[0], np.unique(behav['reward_two'])[0]\n",
    "            percent_correct = ctb.lick_accuracy(behav_probe, port_list=[reward_one, reward_two], lick_threshold=5, by_trials=False)\n",
    "            session_pc = ctb.lick_accuracy(behav_no_probe, port_list=[reward_one, reward_two], lick_threshold=5, by_trials=False)\n",
    "            lick_dict_probe['mouse'].append(mouse)\n",
    "            lick_dict_probe['experiment'].append(behav['cohort'].unique()[0])\n",
    "            lick_dict_probe['day'].append(idx+1)\n",
    "            lick_dict_probe['session'].append(np.unique(behav['session'])[0])\n",
    "            lick_dict_probe['num_licks'].append(len(behav_probe[behav_probe['lick_port'] != -1]))\n",
    "            lick_dict_probe['probe_acc'].append(percent_correct)\n",
    "            lick_dict_probe['session_acc'].append(session_pc)\n",
    "        else:\n",
    "            pass\n",
    "probe_df = pd.DataFrame(lick_dict_probe)\n",
    "\n",
    "first_last = pd.DataFrame()\n",
    "context_list = ['A']\n",
    "for mouse in probe_df['mouse'].unique():\n",
    "    mouse_data = probe_df[probe_df['mouse'] == mouse]\n",
    "    index_list = ctb.pick_context_day(mouse_data, day_index=0, contexts=context_list)\n",
    "    index_list_two = ctb.pick_context_day(mouse_data, day_index=-1, contexts=context_list)\n",
    "    sub_data = mouse_data.loc[index_list, :]\n",
    "    sub_data.insert(0, 'day_type', 'First')\n",
    "    sub_data_two = mouse_data.loc[index_list_two, :]\n",
    "    sub_data_two.insert(0, 'day_type', 'Last')\n",
    "    first_last = pd.concat([first_last, sub_data, sub_data_two])\n",
    "avg_combined = first_last.groupby(['day_type', 'session'], as_index=False).agg({'probe_acc': ['mean', 'sem']})"
   ]
  },
  {
   "cell_type": "code",
   "execution_count": null,
   "metadata": {},
   "outputs": [],
   "source": [
    "## Plot probe performance\n",
    "fig = pf.custom_graph_template(x_title='', y_title='', titles=['A'], shared_x=True, shared_y=True)\n",
    "for idx, session in enumerate(context_list):\n",
    "    plot_data = avg_combined[avg_combined['session'] == session]\n",
    "    fig.add_trace(go.Scatter(x=plot_data['day_type'], y=plot_data['probe_acc']['mean'],\n",
    "                                error_y=dict(type='data', array=plot_data['probe_acc']['sem'], thickness=1.5, width=8), \n",
    "                                line_color=avg_color, showlegend=False), row=1, col=idx+1)\n",
    "for mouse in first_last['mouse'].unique():\n",
    "    mdata = first_last[first_last['mouse'] == mouse]\n",
    "    for idx, context in enumerate(mdata['session'].unique()):\n",
    "        pdata = mdata[mdata['session'] == context]\n",
    "        fig.add_trace(go.Scatter(x=pdata['day_type'], y=pdata['probe_acc'], mode='lines', line_color=chance_color,\n",
    "                                 line_width=1, opacity=0.7, showlegend=False, name=mouse), row=1, col=idx+1)\n",
    "\n",
    "fig.add_hline(y=25, line_width=1, line_dash='dash', line_color='darkgrey', opacity=1)\n",
    "fig.update_yaxes(title='Probe Accuracy (%)', col=1)\n",
    "fig.show()"
   ]
  },
  {
   "cell_type": "markdown",
   "metadata": {},
   "source": [
    "### Analyses excluding non-learners."
   ]
  },
  {
   "cell_type": "code",
   "execution_count": null,
   "metadata": {},
   "outputs": [],
   "source": [
    "## Exclude mice that did not learn\n",
    "subset_df = pd.DataFrame()\n",
    "for mouse in ct_df['mouse'].unique():\n",
    "    if mouse in excluded_mice:\n",
    "        pass\n",
    "    else:\n",
    "        loop_df = ct_df[ct_df['mouse'] == mouse]\n",
    "        subset_df = pd.concat([subset_df, loop_df], ignore_index=True)"
   ]
  },
  {
   "cell_type": "code",
   "execution_count": null,
   "metadata": {},
   "outputs": [],
   "source": [
    "## Lick accuracy across days\n",
    "fig = pf.plot_behavior_across_days(subset_df[subset_df['day'] < 6], x_var='day', y_var='lick_acc', groupby_var=['day'], plot_transitions=None,\n",
    "                                   marker_color=subject_color, avg_color=avg_color, expert_line=False, chance=True, plot_datapoints=False,\n",
    "                                   x_title='Day', y_title='Lick Accuracy (%)', titles=['Circle Track'], height=500, width=500)\n",
    "fig.update_yaxes(range=[0, 100])\n",
    "fig.show()\n",
    "fig.write_image(pjoin(fig_path, 'lick_acc_across_days_ct.png'))"
   ]
  },
  {
   "cell_type": "code",
   "execution_count": null,
   "metadata": {},
   "outputs": [],
   "source": [
    "## Rewards across days \n",
    "fig = pf.plot_behavior_across_days(subset_df[subset_df['day'] < 6], x_var='day', y_var='rewards', groupby_var=['day'], plot_transitions=None,\n",
    "                                   marker_color=subject_color, avg_color=avg_color, expert_line=False, chance=True, plot_datapoints=False,\n",
    "                                   x_title='Day', y_title='Rewards', titles=['Circle Track'], height=500, width=500)\n",
    "fig.show()\n",
    "fig.write_image(pjoin(fig_path, 'rewards_across_days.png'))"
   ]
  },
  {
   "cell_type": "code",
   "execution_count": null,
   "metadata": {},
   "outputs": [],
   "source": [
    "## Separate by the three groups\n",
    "subset_df = subset_df.replace({'five_day': '5 day', 'ten_day': '10 day', 'fifteen_day': '15 day'})\n",
    "avg = subset_df.groupby(['group', 'day'], as_index=False).agg({'lick_acc': ['mean', 'sem']})\n",
    "fig = pf.custom_graph_template(x_title='Day', y_title='Lick Accuracy (%)', titles=['Training'], font_size=26)\n",
    "for group in ['5 day', '10 day', '15 day']:\n",
    "    gdata = avg[(avg['day'] < 6) & (avg['group'] == group)]\n",
    "    fig.add_trace(go.Scatter(x=gdata['day'], y=gdata['lick_acc']['mean'], mode='lines+markers', line_color=group_colors_dict[group],\n",
    "                             name=group, error_y=dict(type='data', array=gdata['lick_acc']['sem'])))\n",
    "fig.update_yaxes(range=[0, 100])\n",
    "fig.add_hline(y=25, line_width=1, opacity=1, line_dash='dash', line_color='darkgrey')\n",
    "fig.show()\n",
    "fig.write_image(pjoin(fig_path, 'three_group_lick_accuracy.png'))"
   ]
  },
  {
   "cell_type": "code",
   "execution_count": null,
   "metadata": {},
   "outputs": [],
   "source": [
    "## Separate by the three groups\n",
    "subset_df = subset_df.replace({'five_day': '5 day', 'ten_day': '10 day', 'fifteen_day': '15 day'})\n",
    "avg = subset_df.groupby(['group', 'day'], as_index=False).agg({'rewards': ['mean', 'sem']})\n",
    "fig = pf.custom_graph_template(x_title='Day', y_title='Rewards', titles=['Training'], font_size=26)\n",
    "for group in ['5 day', '10 day', '15 day']:\n",
    "    gdata = avg[(avg['day'] < 6) & (avg['group'] == group)]\n",
    "    fig.add_trace(go.Scatter(x=gdata['day'], y=gdata['rewards']['mean'], mode='lines+markers', line_color=group_colors_dict[group],\n",
    "                             name=group, error_y=dict(type='data', array=gdata['rewards']['sem'])))\n",
    "fig.show()\n",
    "fig.write_image(pjoin(fig_path, 'rewards_across_days_3group.png'))"
   ]
  },
  {
   "cell_type": "markdown",
   "metadata": {},
   "source": [
    "### Probe accuracy for the three groups"
   ]
  },
  {
   "cell_type": "code",
   "execution_count": null,
   "metadata": {},
   "outputs": [],
   "source": [
    "## Excluding mice\n",
    "lick_dict_probe = {'mouse': [], 'group': [], 'session': [], 'day': [], 'num_licks': [], 'probe_acc': [], 'session_acc': []}\n",
    "for mouse in os.listdir(circle_path):\n",
    "    mpath = pjoin(circle_path, mouse)\n",
    "    group = '5 day' if mouse in five_day else '10 day' if mouse in ten_day else '15 day' \n",
    "    if mouse in excluded_mice:\n",
    "        pass\n",
    "    else:\n",
    "        for idx, session in enumerate(os.listdir(mpath)):\n",
    "            behav = pd.read_feather(pjoin(mpath, session))\n",
    "            if any(behav['probe']):\n",
    "                behav_probe = behav[behav['probe']]\n",
    "                behav_no_probe = behav[~behav['probe']]\n",
    "                reward_one, reward_two = np.unique(behav['reward_one'])[0], np.unique(behav['reward_two'])[0]\n",
    "                percent_correct = ctb.lick_accuracy(behav_probe, port_list=[reward_one, reward_two], lick_threshold=5, by_trials=False)\n",
    "                session_pc = ctb.lick_accuracy(behav_no_probe, port_list=[reward_one, reward_two], lick_threshold=5, by_trials=False)\n",
    "                lick_dict_probe['mouse'].append(mouse)\n",
    "                lick_dict_probe['group'].append(group)\n",
    "                lick_dict_probe['day'].append(idx+1)\n",
    "                lick_dict_probe['session'].append(np.unique(behav['session'])[0])\n",
    "                lick_dict_probe['num_licks'].append(len(behav_probe[behav_probe['lick_port'] != -1]))\n",
    "                lick_dict_probe['probe_acc'].append(percent_correct)\n",
    "                lick_dict_probe['session_acc'].append(session_pc)\n",
    "            else:\n",
    "                pass\n",
    "probe_df = pd.DataFrame(lick_dict_probe)\n",
    "\n",
    "first_last = pd.DataFrame()\n",
    "context_list = ['A']\n",
    "for mouse in probe_df['mouse'].unique():\n",
    "    mouse_data = probe_df[probe_df['mouse'] == mouse]\n",
    "    index_list = ctb.pick_context_day(mouse_data, day_index=0, contexts=context_list)\n",
    "    index_list_two = ctb.pick_context_day(mouse_data, day_index=-1, contexts=context_list)\n",
    "    sub_data = mouse_data.loc[index_list, :]\n",
    "    sub_data.insert(0, 'day_type', 'First')\n",
    "    sub_data_two = mouse_data.loc[index_list_two, :]\n",
    "    sub_data_two.insert(0, 'day_type', 'Last')\n",
    "    first_last = pd.concat([first_last, sub_data, sub_data_two])\n",
    "avg_combined = first_last.groupby(['day_type', 'session'], as_index=False).agg({'probe_acc': ['mean', 'sem']})\n",
    "avg_group_probe = probe_df.groupby(['group', 'day'], as_index=False).agg({'probe_acc': ['mean', 'sem']})"
   ]
  },
  {
   "cell_type": "code",
   "execution_count": null,
   "metadata": {},
   "outputs": [],
   "source": [
    "## Plot probe performance for the three created groups\n",
    "fig = pf.custom_graph_template(x_title='Day', y_title='', titles=['Probe Accuracy'], \n",
    "                               shared_x=True, shared_y=True, height=500, width=600, font_size=26)\n",
    "for group in ['5 day', '10 day', '15 day']:\n",
    "    gdata = avg_group_probe[avg_group_probe['group'] == group]\n",
    "    fig.add_trace(go.Scatter(x=gdata['day'], y=gdata['probe_acc']['mean'], mode='markers',\n",
    "                             error_y=dict(type='data', array=gdata['probe_acc']['sem'], thickness=1.5, width=8), \n",
    "                             line_color=group_colors_dict[group], name=group, showlegend=True, legendgroup=group))\n",
    "\n",
    "fig.add_hline(y=25, line_width=1, line_dash='dash', line_color='darkgrey', opacity=1)\n",
    "fig.add_vline(x=5.5, line_width=1, line_dash='dash', line_color='darkgrey', opacity=1)\n",
    "fig.update_yaxes(title='Lick Accuracy (%)', col=1, range=[0, 100])\n",
    "fig.update_xaxes(\n",
    "    ticktext=['1', '5', 'Recall'],\n",
    "    tickvals=[1, 5, 6],\n",
    ")\n",
    "fig.show()\n",
    "fig.write_image(pjoin(fig_path, 'probe_accuracy_recall.png'))"
   ]
  },
  {
   "cell_type": "markdown",
   "metadata": {},
   "source": [
    "### Analyze the probe across the trials during the probe."
   ]
  },
  {
   "cell_type": "code",
   "execution_count": null,
   "metadata": {},
   "outputs": [],
   "source": [
    "lick_dict = {'mouse': [], 'experiment': [], 'group': [], 'session': [], 'day': [], 'num_licks': [], 'probe_acc': []}\n",
    "for mouse in os.listdir(circle_path):\n",
    "    mpath = pjoin(circle_path, mouse)\n",
    "    if mouse in excluded_mice:\n",
    "        pass \n",
    "    else:\n",
    "        for idx, session in enumerate(os.listdir(mpath)):\n",
    "            behav = pd.read_feather(pjoin(mpath, session))\n",
    "            group = 'five_day' if mouse in five_day else 'ten_day' if mouse in ten_day else 'fifteen_day' \n",
    "            if any(behav['probe']):\n",
    "                behav_probe = behav[behav['probe']]\n",
    "                behav_no_probe = behav[~behav['probe']]\n",
    "                reward_one, reward_two = np.unique(behav['reward_one'])[0], np.unique(behav['reward_two'])[0]\n",
    "                percent_correct = ctb.lick_accuracy(behav_probe, port_list=[reward_one, reward_two], lick_threshold=5, by_trials=True)\n",
    "                lick_dict['mouse'].append(mouse)\n",
    "                lick_dict['experiment'].append(behav['cohort'].unique()[0])\n",
    "                lick_dict['day'].append(idx+1)\n",
    "                lick_dict['group'].append(group)\n",
    "                lick_dict['session'].append(np.unique(behav['session'])[0])\n",
    "                lick_dict['num_licks'].append(len(behav_probe[behav_probe['lick_port'] != -1]))\n",
    "                lick_dict['probe_acc'].append(percent_correct)\n",
    "            else:\n",
    "                pass\n",
    "probe_trial_df = pd.DataFrame(lick_dict)"
   ]
  },
  {
   "cell_type": "code",
   "execution_count": null,
   "metadata": {},
   "outputs": [],
   "source": [
    "fig = pf.custom_graph_template(x_title='', y_title='', height=1100, width=1000, rows=4, columns=4,\n",
    "                               titles=probe_trial_df['mouse'].unique(), shared_y=True, shared_x=True)\n",
    "for idx, mouse in enumerate(probe_trial_df['mouse'].unique()):\n",
    "    if mouse in excluded_mice:\n",
    "        pass \n",
    "    else:\n",
    "        mdata = probe_trial_df[probe_trial_df['mouse'] == mouse]\n",
    "        for day in mdata['day']:\n",
    "            if day == 1:\n",
    "                linetype = 'dash'\n",
    "            elif day == 5:\n",
    "                linetype = 'solid'\n",
    "            elif day == 6:\n",
    "                linetype = 'dashdot'\n",
    "\n",
    "            if idx < 4:\n",
    "                row, col = 1, idx + 1\n",
    "            elif (idx >= 4) & (idx < 8):\n",
    "                row, col = 2, idx - 3\n",
    "            elif (idx >= 8) & (idx < 12):\n",
    "                row, col = 3, idx - 7\n",
    "            else:\n",
    "                row, col = 4, idx - 11\n",
    "\n",
    "            day_data = mdata[mdata['day'] == day]\n",
    "            x_data = np.arange(1, len(day_data['probe_acc'].values[0])+1)\n",
    "            fig.add_trace(go.Scatter(x=x_data, y=day_data['probe_acc'].values[0], mode='lines', line=dict(dash=linetype), showlegend=False,\n",
    "                                    line_color=group_colors_dict[day_data['group'].values[0]], name=f'Day {day}' if day < 6 else 'Recall'), \n",
    "                                    row=row, col=col)\n",
    "fig.update_yaxes(title='Probe Accuracy (%)', col=1)\n",
    "fig.update_xaxes(title='Trial', row=4)\n",
    "fig.add_hline(y=25, line_width=1, line_dash='dash', line_color=chance_color, opacity=1)\n",
    "fig['data'][0]['showlegend'] = True\n",
    "fig['data'][1]['showlegend'] = True\n",
    "fig['data'][2]['showlegend'] = True\n",
    "fig.show()"
   ]
  },
  {
   "cell_type": "markdown",
   "metadata": {},
   "source": [
    "### Correlate number of cfos-positive cells with probe accuracy during recall."
   ]
  },
  {
   "cell_type": "code",
   "execution_count": null,
   "metadata": {},
   "outputs": [],
   "source": [
    "cell_dict = {'mouse': [], 'roi': [], 'num_cells': []}\n",
    "cfos_path = f'../../../{parent_dir}/{experiment_dir}/brain_slices'\n",
    "for mouse in os.listdir(cfos_path):\n",
    "    output_path = pjoin(cfos_path, f'{mouse}/output/Austin')\n",
    "    for file in os.listdir(output_path):\n",
    "        if 'dapi' in file:\n",
    "            pass\n",
    "        else:\n",
    "            data = xr.open_dataarray(pjoin(output_path, file))\n",
    "            cell_dict['mouse'].append(mouse)\n",
    "            cell_dict['roi'].append(data.name)\n",
    "            cell_dict['num_cells'].append(data.attrs['num_cells'])\n",
    "cell_df = pd.DataFrame(cell_dict)\n",
    "total_cells = cell_df.groupby(['mouse'], as_index=False).agg({'num_cells': 'sum'})\n",
    "\n",
    "for idx, mouse in enumerate(total_cells['mouse']):\n",
    "    total_cells.loc[idx, 'probe_acc'] = probe_df['probe_acc'][(probe_df['mouse'] == mouse) & (probe_df['session'] == 'AR')].values[0]"
   ]
  },
  {
   "cell_type": "code",
   "execution_count": null,
   "metadata": {},
   "outputs": [],
   "source": [
    "fig = pf.custom_graph_template(x_title='Number of cfos+ Cells', y_title='Probe Accuracy (%)')\n",
    "fig.add_trace(go.Scatter(x=total_cells['num_cells'], y=total_cells['probe_acc'], \n",
    "                         mode='markers', marker_color=subject_color))\n",
    "fig.add_hline(y=25, line_width=1, line_dash='dash', line_color=chance_color, opacity=1)\n",
    "fig.update_yaxes(range=[0, 100])\n",
    "fig.show()\n",
    "pg.linear_regression(X=total_cells['num_cells'], y=total_cells['probe_acc'])"
   ]
  }
 ],
 "metadata": {
  "kernelspec": {
   "display_name": "calcium_analysis",
   "language": "python",
   "name": "python3"
  },
  "language_info": {
   "codemirror_mode": {
    "name": "ipython",
    "version": 3
   },
   "file_extension": ".py",
   "mimetype": "text/x-python",
   "name": "python",
   "nbconvert_exporter": "python",
   "pygments_lexer": "ipython3",
   "version": "3.13.2"
  }
 },
 "nbformat": 4,
 "nbformat_minor": 2
}
